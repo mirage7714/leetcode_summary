{
 "cells": [
  {
   "cell_type": "markdown",
   "id": "72356225-b2cb-445c-aa3e-382742fa6db7",
   "metadata": {},
   "source": [
    "# 本題要找出配對的總和小於目標的數量有多少 (\\#Array )\n",
    "原題目連結: https://leetcode.com/problems/count-pairs-whose-sum-is-less-than-target/description/  \n",
    "\n",
    "Given a 0-indexed integer array nums of length n and an integer target, return the number of pairs (i, j) where 0 <= i < j < n and nums[i] + nums[j] < target.  \n",
    "\n",
    "範例:  \n",
    "Ex1:  \n",
    "Input: nums = [-1,1,2,3,1], target = 2  \n",
    "Output: 3  \n",
    "Explanation: There are 3 pairs of indices that satisfy the conditions in the statement:  \n",
    "- (0, 1) since 0 < 1 and nums[0] + nums[1] = 0 < target  \n",
    "- (0, 2) since 0 < 2 and nums[0] + nums[2] = 1 < target   \n",
    "- (0, 4) since 0 < 4 and nums[0] + nums[4] = 0 < target  \n",
    "Note that (0, 3) is not counted since nums[0] + nums[3] is not strictly less than the target.  \n",
    "\n",
    "Ex2:  \n",
    "Input: nums = [-6,2,5,-2,-7,-1,3], target = -2  \n",
    "Output: 10  \n",
    "Explanation: There are 10 pairs of indices that satisfy the conditions in the statement:  \n",
    "- (0, 1) since 0 < 1 and nums[0] + nums[1] = -4 < target  \n",
    "- (0, 3) since 0 < 3 and nums[0] + nums[3] = -8 < target  \n",
    "- (0, 4) since 0 < 4 and nums[0] + nums[4] = -13 < target  \n",
    "- (0, 5) since 0 < 5 and nums[0] + nums[5] = -7 < target  \n",
    "- (0, 6) since 0 < 6 and nums[0] + nums[6] = -3 < target  \n",
    "- (1, 4) since 1 < 4 and nums[1] + nums[4] = -5 < target  \n",
    "- (3, 4) since 3 < 4 and nums[3] + nums[4] = -9 < target  \n",
    "- (3, 5) since 3 < 5 and nums[3] + nums[5] = -3 < target  \n",
    "- (4, 5) since 4 < 5 and nums[4] + nums[5] = -8 < target  \n",
    "- (4, 6) since 4 < 6 and nums[4] + nums[6] = -4 < target  "
   ]
  },
  {
   "cell_type": "markdown",
   "id": "0cf0725f-f2a4-435b-b979-8e2f6485ff6f",
   "metadata": {},
   "source": [
    "* 解題想法:  \n",
    "用兩個for迴圈來找出配對的總和是多少，並與目標做比較，如果小於目標則將總數加一，最後回傳總數就是答案"
   ]
  },
  {
   "cell_type": "code",
   "execution_count": null,
   "id": "398d09a5-91f8-4dc0-ba3e-5368f77f89c6",
   "metadata": {},
   "outputs": [],
   "source": [
    "class Solution:\n",
    "    def countPairs(self, nums: List[int], target: int) -> int:\n",
    "        res = 0\n",
    "        for i in range(len(nums)-1):\n",
    "            for j in range(i+1, len(nums)):\n",
    "                if nums[i] + nums[j] < target:\n",
    "                    res += 1\n",
    "        return res"
   ]
  }
 ],
 "metadata": {
  "kernelspec": {
   "display_name": "Python 3 (ipykernel)",
   "language": "python",
   "name": "python3"
  },
  "language_info": {
   "codemirror_mode": {
    "name": "ipython",
    "version": 3
   },
   "file_extension": ".py",
   "mimetype": "text/x-python",
   "name": "python",
   "nbconvert_exporter": "python",
   "pygments_lexer": "ipython3",
   "version": "3.9.13"
  }
 },
 "nbformat": 4,
 "nbformat_minor": 5
}
