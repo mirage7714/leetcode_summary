{
 "cells": [
  {
   "cell_type": "markdown",
   "metadata": {},
   "source": [
    "# 本題要檢查是否符合指定密碼的強度\n",
    "原題目連結：https://leetcode.com/problems/strong-password-checker-ii/  \n",
    "\n",
    "A password is said to be strong if it satisfies all the following criteria:  \n",
    "\n",
    "It has at least 8 characters.  \n",
    "It contains at least one lowercase letter.  \n",
    "It contains at least one uppercase letter.  \n",
    "It contains at least one digit.  \n",
    "It contains at least one special character. The special characters are the characters in the following string: \"!@#$%^&*()-+\".  \n",
    "It does not contain 2 of the same character in adjacent positions (i.e., \"aab\" violates this condition, but \"aba\" does not).  \n",
    "Given a string password, return true if it is a strong password. Otherwise, return false.  \n",
    "\n",
    "範例：  \n",
    "Ex1:  \n",
    "Input: password = \"IloveLe3tcode!\"  \n",
    "Output: true  \n",
    "Explanation: The password meets all the requirements. Therefore, we return true.  \n",
    "\n",
    "Ex2:  \n",
    "Input: password = \"Me+You--IsMyDream\"  \n",
    "Output: false  \n",
    "Explanation: The password does not contain a digit and also contains 2 of the same character in adjacent positions.   Therefore, we return false.  \n",
    "\n",
    "Ex3:  \n",
    "Input: password = \"1aB!\"  \n",
    "Output: false  \n",
    "Explanation: The password does not meet the length requirement. Therefore, we return false."
   ]
  },
  {
   "cell_type": "markdown",
   "metadata": {},
   "source": [
    "* 解題想法：  \n",
    "首先檢查密碼的長度是否有大於或等於8，如果長度大於8則開始逐字檢查，首先檢查這個字是否與前一個字相同，如果不相同則檢查這個字是否為字母，並判斷為大寫或小寫，如果不是字母的話接著檢查是否為數字，如果不是數字的話則檢查是否為特殊符號，如果都不符合的話則直接中斷迴圈"
   ]
  },
  {
   "cell_type": "code",
   "execution_count": null,
   "metadata": {},
   "outputs": [],
   "source": [
    "class Solution:\n",
    "    def strongPasswordCheckerII(self, password: str) -> bool:\n",
    "        result = True\n",
    "        if len(password) < 8:\n",
    "            result = False\n",
    "        else:\n",
    "            Chars = ['!','@','#','$','%','^','&','*','(',')','-','+']\n",
    "            criteria = [0,0,0,0]\n",
    "            temp = ''\n",
    "            for m in range(len(password)):\n",
    "                if password[m] != temp:\n",
    "                    temp = password[m]\n",
    "                    if password[m].isalpha():\n",
    "                        if password[m].upper() == password[m]:\n",
    "                            criteria[0] += 1\n",
    "                        else:\n",
    "                            criteria[1] += 1\n",
    "                    elif password[m].isnumeric():\n",
    "                        criteria[2] += 1\n",
    "                    elif password[m] in Chars:\n",
    "                        criteria[3] += 1\n",
    "                    else:\n",
    "                        result = False\n",
    "                        break\n",
    "                else:\n",
    "                    result = False\n",
    "                    break\n",
    "            if min(criteria) < 1:\n",
    "                result = False\n",
    "        return result"
   ]
  }
 ],
 "metadata": {
  "kernelspec": {
   "display_name": "Python 3",
   "language": "python",
   "name": "python3"
  },
  "language_info": {
   "codemirror_mode": {
    "name": "ipython",
    "version": 3
   },
   "file_extension": ".py",
   "mimetype": "text/x-python",
   "name": "python",
   "nbconvert_exporter": "python",
   "pygments_lexer": "ipython3",
   "version": "3.7.6"
  }
 },
 "nbformat": 4,
 "nbformat_minor": 4
}
