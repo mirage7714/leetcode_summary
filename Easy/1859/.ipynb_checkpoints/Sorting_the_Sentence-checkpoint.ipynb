{
 "cells": [
  {
   "cell_type": "markdown",
   "metadata": {},
   "source": [
    "# 本題要將字串重新進行排序  \n",
    "原題目連結: https://leetcode.com/problems/sorting-the-sentence/  \n",
    "\n",
    "A sentence is a list of words that are separated by a single space with no leading or trailing spaces. Each word consists of lowercase and uppercase English letters.  \n",
    "\n",
    "A sentence can be shuffled by appending the 1-indexed word position to each word then rearranging the words in the sentence.  \n",
    "\n",
    "For example, the sentence \"This is a sentence\" can be shuffled as \"sentence4 a3 is2 This1\" or \"is2 sentence4 This1 a3\".  \n",
    "Given a shuffled sentence s containing no more than 9 words, reconstruct and return the original sentence.  \n",
    "\n",
    "範例:  \n",
    "Ex1:  \n",
    "Input: s = \"is2 sentence4 This1 a3\"  \n",
    "Output: \"This is a sentence\"  \n",
    "Explanation: Sort the words in s to their original positions \"This1 is2 a3 sentence4\", then remove the numbers.  \n",
    "\n",
    "Ex2:  \n",
    "Input: s = \"Myself2 Me1 I4 and3\"  \n",
    "Output: \"Me Myself and I\"  \n",
    "Explanation: Sort the words in s to their original positions \"Me1 Myself2 and3 I4\", then remove the numbers.  "
   ]
  },
  {
   "cell_type": "markdown",
   "metadata": {},
   "source": [
    "* 解題想法:  \n",
    "依題目說明，每個字後面都會有index，因此先將原句子分解並建成一個dict，並用字後面的index來做為key  \n",
    "最後將dict中的字依據key的順序取出後重新組合成句子並回傳"
   ]
  },
  {
   "cell_type": "code",
   "execution_count": 1,
   "metadata": {},
   "outputs": [],
   "source": [
    "class Solution:\n",
    "    def sortSentence(self, s: str) -> str:\n",
    "        result = ''\n",
    "        freq = {}\n",
    "        words = s.split(' ')\n",
    "        for word in words:\n",
    "            freq[word[-1]] = word[:-1]\n",
    "        print(freq)\n",
    "        for m in range(1, len(words)+1):\n",
    "            result += freq[str(m)] + ' '\n",
    "        return result[:-1]"
   ]
  },
  {
   "cell_type": "code",
   "execution_count": null,
   "metadata": {},
   "outputs": [],
   "source": []
  }
 ],
 "metadata": {
  "kernelspec": {
   "display_name": "Python 3",
   "language": "python",
   "name": "python3"
  },
  "language_info": {
   "codemirror_mode": {
    "name": "ipython",
    "version": 3
   },
   "file_extension": ".py",
   "mimetype": "text/x-python",
   "name": "python",
   "nbconvert_exporter": "python",
   "pygments_lexer": "ipython3",
   "version": "3.7.4"
  }
 },
 "nbformat": 4,
 "nbformat_minor": 2
}
