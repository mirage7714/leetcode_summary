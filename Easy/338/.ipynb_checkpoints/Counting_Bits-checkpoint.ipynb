{
 "cells": [
  {
   "cell_type": "markdown",
   "metadata": {},
   "source": [
    "# 本題要找出數字中共有幾個1\n",
    "原題目連結: https://leetcode.com/problems/counting-bits/  \n",
    "\n",
    "Given an integer n, return an array ans of length n + 1 such that for each i (0 <= i <= n), ans[i] is the number of 1's in the binary representation of i.  \n",
    "\n",
    "範例:  \n",
    "Ex1:  \n",
    "Input: n = 2  \n",
    "Output: [0,1,1]  \n",
    "Explanation:  \n",
    "0 --> 0  \n",
    "1 --> 1  \n",
    "2 --> 10  \n",
    "\n",
    "Ex2:  \n",
    "Input: n = 5  \n",
    "Output: [0,1,1,2,1,2]  \n",
    "Explanation:  \n",
    "0 --> 0  \n",
    "1 --> 1  \n",
    "2 --> 10  \n",
    "3 --> 11  \n",
    "4 --> 100  \n",
    "5 --> 101  "
   ]
  },
  {
   "cell_type": "markdown",
   "metadata": {},
   "source": [
    "* 解題想法:  \n",
    "首先找出符合2的次方數字共有多少，接著判斷數字是否為4的倍數:  \n",
    "如果為4的倍數則判斷是否為2的次方，如果不是則轉換為2進位後找出共有幾個1  \n",
    "如果為餘1，則為前一個數字加1  \n",
    "如果為餘2，則跟前一個數字相同  \n",
    "如果為餘3，則為前一個數字加1  \n",
    "最後將數字都加入list中，並回傳list作為本題的答案"
   ]
  },
  {
   "cell_type": "code",
   "execution_count": null,
   "metadata": {},
   "outputs": [],
   "source": [
    "class Solution:\n",
    "    def countBits(self, n: int) -> List[int]:\n",
    "        counts = [2,4,8,16,32,64,128,256,512,1024,2048,4096,8192]\n",
    "        result = [0]\n",
    "        if n == 0:\n",
    "            return result\n",
    "        elif n == 1:\n",
    "            result.append(1)\n",
    "            return result\n",
    "        elif n == 2:\n",
    "            result.append(1)\n",
    "            result.append(1)\n",
    "            return result\n",
    "        else:\n",
    "            result.append(1)\n",
    "            result.append(1)\n",
    "            result.append(2)\n",
    "            start = 1\n",
    "            for m in range(4, n+1):\n",
    "                if m % 4 == 0:\n",
    "                    if m in counts:\n",
    "                        result.append(1)\n",
    "                    else:\n",
    "                        c = 0\n",
    "                        bn = bin(m)\n",
    "                        for b in bn:\n",
    "                            if b == '1':\n",
    "                                c += 1\n",
    "                        result.append(c)\n",
    "                elif m % 4 == 1:\n",
    "                    result.append(result[-1]+1)\n",
    "                elif m % 4 == 2:\n",
    "                    result.append(result[-1])\n",
    "                else:\n",
    "                    result.append(result[-1]+1)\n",
    "            return result"
   ]
  }
 ],
 "metadata": {
  "kernelspec": {
   "display_name": "Python 3",
   "language": "python",
   "name": "python3"
  },
  "language_info": {
   "codemirror_mode": {
    "name": "ipython",
    "version": 3
   },
   "file_extension": ".py",
   "mimetype": "text/x-python",
   "name": "python",
   "nbconvert_exporter": "python",
   "pygments_lexer": "ipython3",
   "version": "3.7.4"
  }
 },
 "nbformat": 4,
 "nbformat_minor": 2
}
