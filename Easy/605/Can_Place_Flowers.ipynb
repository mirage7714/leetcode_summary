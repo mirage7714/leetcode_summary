{
 "cells": [
  {
   "cell_type": "markdown",
   "metadata": {},
   "source": [
    "# 本題判斷指定的花數是否可以放入花圃內\n",
    "原題目連結: https://leetcode.com/problems/can-place-flowers/  \n",
    "\n",
    "You have a long flowerbed in which some of the plots are planted, and some are not. However, flowers cannot be planted in adjacent plots.  \n",
    "\n",
    "Given an integer array flowerbed containing 0's and 1's, where 0 means empty and 1 means not empty, and an integer n, return if n new flowers can be planted in the flowerbed without violating the no-adjacent-flowers rule.  \n",
    "\n",
    "範例:  \n",
    "Ex1:  \n",
    "Input: flowerbed = [1,0,0,0,1], n = 1  \n",
    "Output: true  \n",
    "\n",
    "Ex2:  \n",
    "Input: flowerbed = [1,0,0,0,1], n = 2  \n",
    "Output: false"
   ]
  },
  {
   "cell_type": "markdown",
   "metadata": {},
   "source": [
    "* 解題想法:  \n",
    "由於題目要求不能連續兩朵花在一起，因此首先找出有種花的區域後來判斷兩個區間內最多能種幾朵花，並將數字統計後與題目要求的花朵數比較，如果可以種進去則回傳True，否則回傳False"
   ]
  },
  {
   "cell_type": "code",
   "execution_count": null,
   "metadata": {},
   "outputs": [],
   "source": [
    "class Solution:\n",
    "    def canPlaceFlowers(self, flowerbed: List[int], n: int) -> bool:\n",
    "        space = []\n",
    "        most = 0\n",
    "        for f in range(len(flowerbed)):\n",
    "            if flowerbed[f] == 1:\n",
    "                space.append(f)\n",
    "        if len(space) != len(flowerbed):\n",
    "            if len(space) >= 1:\n",
    "                for m in range(len(space)-1):\n",
    "                    d = space[m+1] - space[m]\n",
    "                    if d >= 3:\n",
    "                        most += floor((d-2) / 2)\n",
    "                if space[0] >= 2:\n",
    "                    most += floor(space[0] / 2)\n",
    "                if len(flowerbed) - space[-1] >= 3:\n",
    "                    most += floor((len(flowerbed) - space[-1])/2)\n",
    "            else:\n",
    "                most += floor((len(flowerbed)+1)/2)\n",
    "        if most >= n:\n",
    "            return True\n",
    "        else:\n",
    "            return False"
   ]
  }
 ],
 "metadata": {
  "kernelspec": {
   "display_name": "Python 3",
   "language": "python",
   "name": "python3"
  },
  "language_info": {
   "codemirror_mode": {
    "name": "ipython",
    "version": 3
   },
   "file_extension": ".py",
   "mimetype": "text/x-python",
   "name": "python",
   "nbconvert_exporter": "python",
   "pygments_lexer": "ipython3",
   "version": "3.7.4"
  }
 },
 "nbformat": 4,
 "nbformat_minor": 2
}
