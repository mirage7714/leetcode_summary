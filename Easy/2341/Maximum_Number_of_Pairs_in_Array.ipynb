{
 "cells": [
  {
   "cell_type": "markdown",
   "metadata": {},
   "source": [
    "# 本題要找出list中最多有幾對相同的數字，以及有多少不成對的數字\n",
    "原題目連結: https://leetcode.com/problems/maximum-number-of-pairs-in-array/  \n",
    "\n",
    "You are given a 0-indexed integer array nums. In one operation, you may do the following:  \n",
    "\n",
    "Choose two integers in nums that are equal.  \n",
    "Remove both integers from nums, forming a pair.  \n",
    "The operation is done on nums as many times as possible.  \n",
    "\n",
    "Return a 0-indexed integer array answer of size 2 where answer[0] is the number of pairs that are formed and answer[1] is the number of leftover integers in nums after doing the operation as many times as possible.  \n",
    "\n",
    "範例:  \n",
    "Ex1:    \n",
    "Input: nums = [1,3,2,1,3,2,2]  \n",
    "Output: [3,1]  \n",
    "Explanation:  \n",
    "Form a pair with nums[0] and nums[3] and remove them from nums. Now, nums = [3,2,3,2,2].  \n",
    "Form a pair with nums[0] and nums[2] and remove them from nums. Now, nums = [2,2,2].  \n",
    "Form a pair with nums[0] and nums[1] and remove them from nums. Now, nums = [2].  \n",
    "No more pairs can be formed. A total of 3 pairs have been formed, and there is 1 number leftover in nums.  \n",
    "\n",
    "Ex2:  \n",
    "Input: nums = [1,1]  \n",
    "Output: [1,0]  \n",
    "Explanation: Form a pair with nums[0] and nums[1] and remove them from nums. Now, nums = [].  \n",
    "No more pairs can be formed. A total of 1 pair has been formed, and there are 0 numbers leftover in nums.  \n",
    "\n",
    "Ex3:  \n",
    "Input: nums = [0]  \n",
    "Output: [0,1]  \n",
    "Explanation: No pairs can be formed, and there is 1 number leftover in nums."
   ]
  },
  {
   "cell_type": "markdown",
   "metadata": {},
   "source": [
    "* 解題想法:  \n",
    "首先建立一個dict用來存放出現過的數字，接著開始走訪nums中的所有數字，如果沒出現過則放入dict中，如果出現過則將數字+1，最後將所有的value除2後找出餘數與商數並加起來"
   ]
  },
  {
   "cell_type": "code",
   "execution_count": null,
   "metadata": {},
   "outputs": [],
   "source": [
    "class Solution:\n",
    "    def numberOfPairs(self, nums: List[int]) -> List[int]:\n",
    "        count = {}\n",
    "        result = [0,0]\n",
    "        for n in nums:\n",
    "            if n not in count.keys():\n",
    "                count[n] = 1\n",
    "            else:\n",
    "                count[n] += 1\n",
    "                if count[n] == 2:\n",
    "                    count[n] = 0\n",
    "                    result[0] += 1\n",
    "\n",
    "        for val in count.values():\n",
    "            result[1] += val\n",
    "        return result"
   ]
  }
 ],
 "metadata": {
  "kernelspec": {
   "display_name": "Python 3",
   "language": "python",
   "name": "python3"
  },
  "language_info": {
   "codemirror_mode": {
    "name": "ipython",
    "version": 3
   },
   "file_extension": ".py",
   "mimetype": "text/x-python",
   "name": "python",
   "nbconvert_exporter": "python",
   "pygments_lexer": "ipython3",
   "version": "3.7.4"
  }
 },
 "nbformat": 4,
 "nbformat_minor": 4
}
