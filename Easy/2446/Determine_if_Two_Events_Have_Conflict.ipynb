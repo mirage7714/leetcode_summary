{
 "cells": [
  {
   "cell_type": "markdown",
   "metadata": {},
   "source": [
    "# 本題要檢查兩個Event是否有衝突的情況 (\\#String)\n",
    "原題目連結: https://leetcode.com/problems/determine-if-two-events-have-conflict/  \n",
    "\n",
    "You are given two arrays of strings that represent two inclusive events that happened on the same day, event1 and event2, where:  \n",
    "\n",
    "event1 = [startTime1, endTime1] and  \n",
    "event2 = [startTime2, endTime2].  \n",
    "Event times are valid 24 hours format in the form of HH:MM.  \n",
    "\n",
    "A conflict happens when two events have some non-empty intersection (i.e., some moment is common to both events).  \n",
    "\n",
    "Return true if there is a conflict between two events. Otherwise, return false.  \n",
    "\n",
    "範例:  \n",
    "Ex1:  \n",
    "Input: event1 = [\"01:15\",\"02:00\"], event2 = [\"02:00\",\"03:00\"]  \n",
    "Output: true  \n",
    "Explanation: The two events intersect at time 2:00.  \n",
    "\n",
    "Ex2:  \n",
    "Input: event1 = [\"01:00\",\"02:00\"], event2 = [\"01:20\",\"03:00\"]  \n",
    "Output: true  \n",
    "Explanation: The two events intersect starting from 01:20 to 02:00.  \n",
    "\n",
    "Ex3:  \n",
    "Input: event1 = [\"10:00\",\"11:00\"], event2 = [\"14:00\",\"15:00\"]   \n",
    "Output: false  \n",
    "Explanation: The two events do not intersect.  "
   ]
  },
  {
   "cell_type": "markdown",
   "metadata": {},
   "source": [
    "* 解題想法:  \n",
    "兩個Event要衝突的情況，除了兩個Event相同之外，還有四種情況會遇到衝突:  \n",
    "- Event1的後半部與Event2前半部有衝突  \n",
    "- Event1的前半部與Event2後半部有衝突  \n",
    "- Event1的範圍在Event2中間  \n",
    "- Event2的範圍在Event1中間  \n",
    "如果都不屬於這四種情況，則回傳False，否則回傳True"
   ]
  },
  {
   "cell_type": "code",
   "execution_count": null,
   "metadata": {},
   "outputs": [],
   "source": [
    "class Solution:\n",
    "    def haveConflict(self, event1: List[str], event2: List[str]) -> bool:\n",
    "        if event1 == event2:\n",
    "            return True\n",
    "        else:\n",
    "            if event1[1] >= event2[0] and event1[1] <= event2[1]:\n",
    "                return True\n",
    "            elif event2[0] <= event1[0] and event2[1] >= event1[0]:\n",
    "                return True\n",
    "            elif event1[0] <= event2[0] and event1[1] >= event2[1]:\n",
    "                return True\n",
    "            elif event1[0] >= event2[0] and event1[1] <= event2[1]:\n",
    "                return True\n",
    "        return False"
   ]
  }
 ],
 "metadata": {
  "kernelspec": {
   "display_name": "Python 3",
   "language": "python",
   "name": "python3"
  },
  "language_info": {
   "codemirror_mode": {
    "name": "ipython",
    "version": 3
   },
   "file_extension": ".py",
   "mimetype": "text/x-python",
   "name": "python",
   "nbconvert_exporter": "python",
   "pygments_lexer": "ipython3",
   "version": "3.7.4"
  }
 },
 "nbformat": 4,
 "nbformat_minor": 4
}
