{
 "cells": [
  {
   "cell_type": "markdown",
   "metadata": {},
   "source": [
    "# 本題要找出三個數字都相同的最大數值為何\n",
    "原題目連結: https://leetcode.com/problems/largest-3-same-digit-number-in-string/  \n",
    "\n",
    "You are given a string num representing a large integer. An integer is good if it meets the following conditions:  \n",
    "\n",
    "It is a substring of num with length 3.  \n",
    "It consists of only one unique digit.  \n",
    "Return the maximum good integer as a string or an empty string \"\" if no such integer exists.  \n",
    "\n",
    "Note:  \n",
    "A substring is a contiguous sequence of characters within a string.  \n",
    "There may be leading zeroes in num or a good integer.  \n",
    "\n",
    "範例:  \n",
    "Ex1:  \n",
    "Input: num = \"6777133339\"  \n",
    "Output: \"777\"  \n",
    "Explanation: There are two distinct good integers: \"777\" and \"333\".  \n",
    "\"777\" is the largest, so we return \"777\".  \n",
    "\n",
    "Ex2:  \n",
    "Input: num = \"2300019\"  \n",
    "Output: \"000\"  \n",
    "Explanation: \"000\" is the only good integer.  \n",
    "\n",
    "Ex3:  \n",
    "Input: num = \"42352338\"  \n",
    "Output: \"\"  \n",
    "Explanation: No substring of length 3 consists of only one unique digit. Therefore, there are no good integers."
   ]
  },
  {
   "cell_type": "markdown",
   "metadata": {},
   "source": [
    "* 解題想法:  \n",
    "首先判斷長度為3的字串是否為相同的字母，如果三個字相同的情況，則檢查轉換成整數後是否有大於目前的結果，如果大於的話則將結果更新為目前的字串"
   ]
  },
  {
   "cell_type": "code",
   "execution_count": null,
   "metadata": {},
   "outputs": [],
   "source": [
    "class Solution:\n",
    "    def largestGoodInteger(self, num: str) -> str:\n",
    "        result = ''\n",
    "        for m in range(len(num)-2):\n",
    "            p = num[m:m+3]\n",
    "            print(p)\n",
    "            if p[0] == p[1] and p[0] == p[2]:\n",
    "                if result != '':\n",
    "                    if int(p) > int(result):\n",
    "                        result = p\n",
    "                else:\n",
    "                    result = p\n",
    "        return result"
   ]
  }
 ],
 "metadata": {
  "kernelspec": {
   "display_name": "Python 3",
   "language": "python",
   "name": "python3"
  },
  "language_info": {
   "codemirror_mode": {
    "name": "ipython",
    "version": 3
   },
   "file_extension": ".py",
   "mimetype": "text/x-python",
   "name": "python",
   "nbconvert_exporter": "python",
   "pygments_lexer": "ipython3",
   "version": "3.7.4"
  }
 },
 "nbformat": 4,
 "nbformat_minor": 4
}
