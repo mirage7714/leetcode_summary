{
 "cells": [
  {
   "cell_type": "markdown",
   "metadata": {},
   "source": [
    "# 本題要計算共有多少個相同數字相臨，且01都有出現的組合 (\\#String, \\#Two pointer)\n",
    "原題目連結: https://leetcode.com/problems/count-binary-substrings/  \n",
    "\n",
    "Given a binary string s, return the number of non-empty substrings that have the same number of 0's and 1's, and all the 0's and all the 1's in these substrings are grouped consecutively.  \n",
    "Substrings that occur multiple times are counted the number of times they occur.  \n",
    "\n",
    "範例:  \n",
    "Ex1:  \n",
    "Input: s = \"00110011\"  \n",
    "Output: 6  \n",
    "Explanation: There are 6 substrings that have equal number of consecutive 1's and 0's: \"0011\", \"01\", \"1100\", \"10\", \"0011\", and \"01\".  \n",
    "Notice that some of these substrings repeat and are counted the number of times they occur.  \n",
    "Also, \"00110011\" is not a valid substring because all the 0's (and 1's) are not grouped together.  \n",
    "\n",
    "Ex2:  \n",
    "Input: s = \"10101\"  \n",
    "Output: 4  \n",
    "Explanation: There are 4 substrings: \"10\", \"01\", \"10\", \"01\" that have equal number of consecutive 1's and 0's."
   ]
  },
  {
   "cell_type": "markdown",
   "metadata": {},
   "source": [
    "* 解題想法:  \n",
    "首先要找出一段文字是兩個數字都有出現，且相同的數字要在同一側，在這個情況下，最多可以得到的組數就是兩個數字中出現最少的次數，計算完後更新計算長度的數值，並接著尋找下一個數字，最後回傳count的數值就是答案"
   ]
  },
  {
   "cell_type": "code",
   "execution_count": null,
   "metadata": {},
   "outputs": [],
   "source": [
    "class Solution:\n",
    "    def countBinarySubstrings(self, s: str) -> int:\n",
    "        count = 0\n",
    "        temp = s[0]\n",
    "        c1 = 1\n",
    "        c2 = 0\n",
    "        for n in range(1, len(s)):\n",
    "            if s[n] == temp:\n",
    "                if c2 == 0:\n",
    "                    c1 += 1\n",
    "                else:\n",
    "                    count += min(c1, c2)\n",
    "                    temp = s[n-1]\n",
    "                    c1 = c2\n",
    "                    c2 = 1\n",
    "            else:\n",
    "                c2 += 1\n",
    "        count += min(c1, c2)\n",
    "        return count"
   ]
  }
 ],
 "metadata": {
  "kernelspec": {
   "display_name": "Python 3",
   "language": "python",
   "name": "python3"
  },
  "language_info": {
   "codemirror_mode": {
    "name": "ipython",
    "version": 3
   },
   "file_extension": ".py",
   "mimetype": "text/x-python",
   "name": "python",
   "nbconvert_exporter": "python",
   "pygments_lexer": "ipython3",
   "version": "3.7.4"
  }
 },
 "nbformat": 4,
 "nbformat_minor": 4
}
