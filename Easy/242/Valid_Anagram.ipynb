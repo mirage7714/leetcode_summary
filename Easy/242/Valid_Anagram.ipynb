{
 "cells": [
  {
   "cell_type": "markdown",
   "metadata": {},
   "source": [
    "# 題目是要找出兩個字謎是否相同\n",
    "原題目連結: https://leetcode.com/problems/valid-anagram/  \n",
    "\n",
    "範例:  \n",
    "Ex1:  \n",
    "Input: s = \"anagram\", t = \"nagaram\"  \n",
    "Output: true  \n",
    "\n",
    "Ex2:  \n",
    "Input: s = \"rat\", t = \"car\"  \n",
    "Output: false  "
   ]
  },
  {
   "cell_type": "markdown",
   "metadata": {},
   "source": [
    "* 解題想法:  \n",
    "雖然不太確定字謎是啥，不過從範例中大概可看出是要判斷兩個字串除了順序不同之外，組成的字母與數量是否相同  \n",
    "因此使用dict來統計每個字母與出現頻率，並比較兩個dict是否相同"
   ]
  },
  {
   "cell_type": "code",
   "execution_count": null,
   "metadata": {},
   "outputs": [],
   "source": [
    "class Solution:\n",
    "    def isAnagram(self, s: str, t: str) -> bool:\n",
    "        is_anagram = True\n",
    "        temp1 = {}\n",
    "        temp2 = {}\n",
    "        for n in range(len(s)):\n",
    "            if s[n] not in temp1.keys():\n",
    "                temp1[s[n]] = 1\n",
    "            else:\n",
    "                temp1[s[n]] += 1\n",
    "        for m in range(len(t)):\n",
    "            if t[m] not in temp2.keys():\n",
    "                temp2[t[m]] = 1\n",
    "            else:\n",
    "                temp2[t[m]] += 1\n",
    "        if temp1 != temp2:\n",
    "            is_anagram = False\n",
    "        return is_anagram"
   ]
  }
 ],
 "metadata": {
  "kernelspec": {
   "display_name": "Python 3",
   "language": "python",
   "name": "python3"
  },
  "language_info": {
   "codemirror_mode": {
    "name": "ipython",
    "version": 3
   },
   "file_extension": ".py",
   "mimetype": "text/x-python",
   "name": "python",
   "nbconvert_exporter": "python",
   "pygments_lexer": "ipython3",
   "version": "3.7.4"
  }
 },
 "nbformat": 4,
 "nbformat_minor": 2
}
