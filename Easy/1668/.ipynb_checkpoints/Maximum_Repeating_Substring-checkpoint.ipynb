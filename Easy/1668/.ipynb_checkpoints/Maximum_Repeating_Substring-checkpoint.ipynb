{
 "cells": [
  {
   "cell_type": "markdown",
   "metadata": {},
   "source": [
    "# 本題要找出給定的字串中，最長的重複子字串為何\n",
    "原題目連結： https://leetcode.com/problems/maximum-repeating-substring/  \n",
    "\n",
    "For a string sequence, a string word is k-repeating if word concatenated k times is a substring of sequence. The word's maximum k-repeating value is the highest value k where word is k-repeating in sequence. If word is not a substring of sequence, word's maximum k-repeating value is 0.  \n",
    "\n",
    "Given strings sequence and word, return the maximum k-repeating value of word in sequence.  \n",
    "\n",
    "範例：  \n",
    "Ex1:  \n",
    "Input: sequence = \"ababc\", word = \"ab\"  \n",
    "Output: 2  \n",
    "Explanation: \"abab\" is a substring in \"ababc\".  \n",
    "\n",
    "Ex2:  \n",
    "Input: sequence = \"ababc\", word = \"ba\"  \n",
    "Output: 1  \n",
    "Explanation: \"ba\" is a substring in \"ababc\". \"baba\" is not a substring in \"ababc\".  \n",
    "\n",
    "Ex3:   \n",
    "Input: sequence = \"ababc\", word = \"ac\"  \n",
    "Output: 0  \n",
    "Explanation: \"ac\" is not a substring in \"ababc\".   "
   ]
  },
  {
   "cell_type": "markdown",
   "metadata": {},
   "source": [
    "* 解題想法：  \n",
    "題目要求出給定的字串，最多可以重複幾次，因此使用了一個整數來儲存次數，並且用一個for loop來計算如果重複的字串不存在給定的字中，就中斷迴圈，並將次數-1並回傳"
   ]
  },
  {
   "cell_type": "code",
   "execution_count": null,
   "metadata": {},
   "outputs": [],
   "source": [
    "class Solution:\n",
    "    def maxRepeating(self, sequence: str, word: str) -> int:\n",
    "        count = 0\n",
    "        if word in sequence:\n",
    "            count += 1\n",
    "            while True:\n",
    "                temp = ''\n",
    "                for n in range(count):\n",
    "                    temp += word\n",
    "                if temp not in sequence:\n",
    "                    count -= 1\n",
    "                    break\n",
    "                count += 1\n",
    "        return count"
   ]
  }
 ],
 "metadata": {
  "kernelspec": {
   "display_name": "Python 3",
   "language": "python",
   "name": "python3"
  },
  "language_info": {
   "codemirror_mode": {
    "name": "ipython",
    "version": 3
   },
   "file_extension": ".py",
   "mimetype": "text/x-python",
   "name": "python",
   "nbconvert_exporter": "python",
   "pygments_lexer": "ipython3",
   "version": "3.7.6"
  }
 },
 "nbformat": 4,
 "nbformat_minor": 4
}
