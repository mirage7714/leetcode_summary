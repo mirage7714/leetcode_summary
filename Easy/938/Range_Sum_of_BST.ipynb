{
 "cells": [
  {
   "cell_type": "markdown",
   "metadata": {},
   "source": [
    "# 本題要找出在BST中符合範圍的節點總合為多少\n",
    "原題目連結: https://leetcode.com/problems/range-sum-of-bst/  \n",
    "\n",
    "Given the root node of a binary search tree and two integers low and high, return the sum of values of all nodes with a value in the inclusive range [low, high].  \n",
    "\n",
    "範例:  \n",
    "Ex1:  \n",
    "Input: root = [10,5,15,3,7,null,18], low = 7, high = 15  \n",
    "Output: 32  \n",
    "Explanation: Nodes 7, 10, and 15 are in the range [7, 15]. 7 + 10 + 15 = 32.  \n",
    "\n",
    "Ex2:  \n",
    "Input: root = [10,5,15,3,7,13,18,1,null,6], low = 6, high = 10  \n",
    "Output: 23  \n",
    "Explanation: Nodes 6, 7, and 10 are in the range [6, 10]. 6 + 7 + 10 = 23."
   ]
  },
  {
   "cell_type": "markdown",
   "metadata": {},
   "source": [
    "* 解題想法:  \n",
    "由於要找出在BST中所有符合範圍的值，這邊使用BFS進行走訪，並將符合範圍的值取出後相加就是答案"
   ]
  },
  {
   "cell_type": "code",
   "execution_count": null,
   "metadata": {},
   "outputs": [],
   "source": [
    "# Definition for a binary tree node.\n",
    "# class TreeNode:\n",
    "#     def __init__(self, val=0, left=None, right=None):\n",
    "#         self.val = val\n",
    "#         self.left = left\n",
    "#         self.right = right\n",
    "class Solution:\n",
    "    def rangeSumBST(self, root: TreeNode, low: int, high: int) -> int:\n",
    "        result = 0\n",
    "        temp = [root]\n",
    "        while len(temp) > 0:\n",
    "            nodes = []\n",
    "            for t in temp:\n",
    "                if t.val >= low and t.val <= high:\n",
    "                    result += t.val\n",
    "                if t.left != None:\n",
    "                    nodes.append(t.left)\n",
    "                if t.right != None:\n",
    "                    nodes.append(t.right)\n",
    "            temp.clear()\n",
    "            temp += nodes\n",
    "        return result"
   ]
  }
 ],
 "metadata": {
  "kernelspec": {
   "display_name": "Python 3",
   "language": "python",
   "name": "python3"
  },
  "language_info": {
   "codemirror_mode": {
    "name": "ipython",
    "version": 3
   },
   "file_extension": ".py",
   "mimetype": "text/x-python",
   "name": "python",
   "nbconvert_exporter": "python",
   "pygments_lexer": "ipython3",
   "version": "3.7.4"
  }
 },
 "nbformat": 4,
 "nbformat_minor": 4
}
