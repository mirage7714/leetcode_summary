{
 "cells": [
  {
   "cell_type": "markdown",
   "metadata": {},
   "source": [
    "# 本題要找出最長句子的長度為何\n",
    "原題目連結: https://leetcode.com/problems/maximum-number-of-words-found-in-sentences/  \n",
    "\n",
    "A sentence is a list of words that are separated by a single space with no leading or trailing spaces.  \n",
    "\n",
    "You are given an array of strings sentences, where each sentences[i] represents a single sentence.  \n",
    "\n",
    "Return the maximum number of words that appear in a single sentence.  \n",
    "\n",
    "範例:  \n",
    "Ex1:  \n",
    "Input: sentences = [\"alice and bob love leetcode\", \"i think so too\", \"this is great thanks very much\"]  \n",
    "Output: 6  \n",
    "Explanation:   \n",
    "- The first sentence, \"alice and bob love leetcode\", has 5 words in total.  \n",
    "- The second sentence, \"i think so too\", has 4 words in total.  \n",
    "- The third sentence, \"this is great thanks very much\", has 6 words in total.  \n",
    "Thus, the maximum number of words in a single sentence comes from the third sentence, which has 6 words.  \n",
    "\n",
    "Ex2:  \n",
    "Input: sentences = [\"please wait\", \"continue to fight\", \"continue to win\"]  \n",
    "Output: 3  \n",
    "Explanation: It is possible that multiple sentences contain the same number of words.   \n",
    "In this example, the second and third sentences (underlined) have the same number of words."
   ]
  },
  {
   "cell_type": "markdown",
   "metadata": {},
   "source": [
    "* 解題想法:  \n",
    "首先定義一個變數result用來存放最後的結果，接著用迴圈從sentenses中開始找出句子長度，如果長度大於result則更新result，最後回傳result"
   ]
  },
  {
   "cell_type": "code",
   "execution_count": null,
   "metadata": {},
   "outputs": [],
   "source": [
    "class Solution:\n",
    "    def mostWordsFound(self, sentences: List[str]) -> int:\n",
    "        result = 0\n",
    "        for s in sentences:\n",
    "            l = s.split(' ')\n",
    "            if len(l) > result:\n",
    "                result = len(l)\n",
    "        return result"
   ]
  }
 ],
 "metadata": {
  "kernelspec": {
   "display_name": "Python 3",
   "language": "python",
   "name": "python3"
  },
  "language_info": {
   "codemirror_mode": {
    "name": "ipython",
    "version": 3
   },
   "file_extension": ".py",
   "mimetype": "text/x-python",
   "name": "python",
   "nbconvert_exporter": "python",
   "pygments_lexer": "ipython3",
   "version": "3.7.4"
  }
 },
 "nbformat": 4,
 "nbformat_minor": 4
}
