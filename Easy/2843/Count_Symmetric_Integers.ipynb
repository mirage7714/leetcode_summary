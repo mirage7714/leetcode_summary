{
 "cells": [
  {
   "cell_type": "markdown",
   "id": "07521a79-6765-4b6f-be51-7aa9f57d77c3",
   "metadata": {},
   "source": [
    "# 本題要找出範圍內前後相等的數字有多少 (\\#Math)\n",
    "原題目連結：https://leetcode.com/problems/count-symmetric-integers/description/  \n",
    "\n",
    "You are given two positive integers low and high.  \n",
    "\n",
    "An integer x consisting of 2 * n digits is symmetric if the sum of the first n digits of x is equal to the sum of the last n digits of x. Numbers with an odd number of digits are never symmetric.  \n",
    "Return the number of symmetric integers in the range [low, high].  \n",
    "\n",
    "範例：  \n",
    "Ex1:  \n",
    "Input: low = 1, high = 100  \n",
    "Output: 9  \n",
    "Explanation: There are 9 symmetric integers between 1 and 100: 11, 22, 33, 44, 55, 66, 77, 88, and 99.  \n",
    "\n",
    "Ex2:  \n",
    "Input: low = 1200, high = 1230  \n",
    "Output: 4  \n",
    "Explanation: There are 4 symmetric integers between 1200 and 1230: 1203, 1212, 1221, and 1230."
   ]
  },
  {
   "cell_type": "markdown",
   "id": "d92265e2-fe28-4d86-90cc-200be350b23d",
   "metadata": {},
   "source": [
    "* 解題想法：  \n",
    "首先新增一個函數用來判斷該數值是否符合條件，接著從指定的範圍內用迴圈開始進行檢查，如果該數值不是介於10或是1000之間則直接跳過，如果在這個範圍內則進行檢查是否符合條件，如果符合條件則將數值+1，最後回傳數值就是答案"
   ]
  },
  {
   "cell_type": "code",
   "execution_count": null,
   "id": "254c8701-9e77-4cd0-a851-6c79044fa52e",
   "metadata": {},
   "outputs": [],
   "source": [
    "class Solution:\n",
    "    def countSymmetricIntegers(self, low: int, high: int) -> int: \n",
    "        def isSym(num):\n",
    "            s = str(num)\n",
    "            if len(s) % 2 == 0:\n",
    "                i = len(s) // 2\n",
    "                h = s[:i]\n",
    "                t = s[i:]\n",
    "                g = 0\n",
    "                for d in h:\n",
    "                    g += int(d)\n",
    "                for l in t:\n",
    "                    g -= int(l)\n",
    "                if g == 0:\n",
    "                    return True\n",
    "                return False\n",
    "            return False\n",
    "\n",
    "        res = 0\n",
    "        for i in range(low, high+1):\n",
    "            if i > 100 and i < 1000:\n",
    "                pass\n",
    "            elif i > 10 and i < 100:\n",
    "                if isSym(i):\n",
    "                    res += 1\n",
    "            elif i >= 1000 and i <= 9999:\n",
    "                if isSym(i):\n",
    "                    res += 1\n",
    "        return res"
   ]
  }
 ],
 "metadata": {
  "kernelspec": {
   "display_name": "Python 3 (ipykernel)",
   "language": "python",
   "name": "python3"
  },
  "language_info": {
   "codemirror_mode": {
    "name": "ipython",
    "version": 3
   },
   "file_extension": ".py",
   "mimetype": "text/x-python",
   "name": "python",
   "nbconvert_exporter": "python",
   "pygments_lexer": "ipython3",
   "version": "3.10.9"
  }
 },
 "nbformat": 4,
 "nbformat_minor": 5
}
