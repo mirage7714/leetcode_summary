{
 "cells": [
  {
   "cell_type": "markdown",
   "metadata": {},
   "source": [
    "# 本題要找出共有幾個高點/低點\n",
    "原題目連結: https://leetcode.com/problems/count-hills-and-valleys-in-an-array/  \n",
    "\n",
    "You are given a 0-indexed integer array nums. An index i is part of a hill in nums if the closest non-equal neighbors of i are smaller than nums[i]. Similarly, an index i is part of a valley in nums if the closest non-equal neighbors of i are larger than nums[i]. Adjacent indices i and j are part of the same hill or valley if nums[i] == nums[j].  \n",
    "\n",
    "Note that for an index to be part of a hill or valley, it must have a non-equal neighbor on both the left and right of the index.  \n",
    " \n",
    "Return the number of hills and valleys in nums.  \n",
    "\n",
    "範例:  \n",
    "Ex1:  \n",
    "Input: nums = [2,4,1,1,6,5]  \n",
    "Output: 3  \n",
    "Explanation:  \n",
    "At index 0: There is no non-equal neighbor of 2 on the left, so index 0 is neither a hill nor a valley.  \n",
    "At index 1: The closest non-equal neighbors of 4 are 2 and 1. Since 4 > 2 and 4 > 1, index 1 is a hill.   \n",
    "At index 2: The closest non-equal neighbors of 1 are 4 and 6. Since 1 < 4 and 1 < 6, index 2 is a valley.  \n",
    "At index 3: The closest non-equal neighbors of 1 are 4 and 6. Since 1 < 4 and 1 < 6, index 3 is a valley, but note that it is part of the same valley as index 2.  \n",
    "At index 4: The closest non-equal neighbors of 6 are 1 and 5. Since 6 > 1 and 6 > 5, index 4 is a hill.  \n",
    "At index 5: There is no non-equal neighbor of 5 on the right, so index 5 is neither a hill nor a valley.   \n",
    "There are 3 hills and valleys so we return 3.  \n",
    "\n",
    "Ex2:  \n",
    "Input: nums = [6,6,5,5,4,1]  \n",
    "Output: 0  \n",
    "Explanation:  \n",
    "At index 0: There is no non-equal neighbor of 6 on the left, so index 0 is neither a hill nor a valley.  \n",
    "At index 1: There is no non-equal neighbor of 6 on the left, so index 1 is neither a hill nor a valley.  \n",
    "At index 2: The closest non-equal neighbors of 5 are 6 and 4. Since 5 < 6 and 5 > 4, index 2 is neither a hill nor a valley.  \n",
    "At index 3: The closest non-equal neighbors of 5 are 6 and 4. Since 5 < 6 and 5 > 4, index 3 is neither a hill nor a valley.  \n",
    "At index 4: The closest non-equal neighbors of 4 are 5 and 1. Since 4 < 5 and 4 > 1, index 4 is neither a hill nor a valley.  \n",
    "At index 5: There is no non-equal neighbor of 1 on the right, so index 5 is neither a hill nor a valley.  \n",
    "There are 0 hills and valleys so we return 0."
   ]
  },
  {
   "cell_type": "markdown",
   "metadata": {},
   "source": [
    "* 解題想法:  \n",
    "由於兩邊的邊界都不在計算範圍內，因此迴圈的範圍從1~n-1開始，接著檢查左右兩邊的值，如果可判斷為高點/低點，則將計算值+1，如果右邊的值為相等，則用一個字串來判斷現在是屬於可能的高點/低點，並到下一個數值時檢查是否符合目前的情境，如果不符合則繼續往下，最後回傳統計值"
   ]
  },
  {
   "cell_type": "code",
   "execution_count": null,
   "metadata": {},
   "outputs": [],
   "source": [
    "class Solution:\n",
    "    def countHillValley(self, nums: List[int]) -> int:\n",
    "        result = 0\n",
    "        land = ''\n",
    "        for m in range(1, len(nums)-1):\n",
    "            if land == 'H':\n",
    "                if nums[m] > nums[m+1]:\n",
    "                    result += 1\n",
    "                    land = ''\n",
    "            elif land == 'V':\n",
    "                if nums[m] < nums[m+1]:\n",
    "                    result += 1\n",
    "                    land = ''\n",
    "            else:\n",
    "                if nums[m] == nums[m+1]:\n",
    "                    if nums[m] < nums[m-1]:\n",
    "                        land = 'V'\n",
    "                    elif nums[m] > nums[m-1]:\n",
    "                        land = 'H'\n",
    "                elif nums[m] < nums[m+1]:\n",
    "                    if nums[m] < nums[m-1]:\n",
    "                        result += 1\n",
    "                else:\n",
    "                    if nums[m] > nums[m-1]:\n",
    "                        result += 1\n",
    "        return result"
   ]
  }
 ],
 "metadata": {
  "kernelspec": {
   "display_name": "Python 3",
   "language": "python",
   "name": "python3"
  },
  "language_info": {
   "codemirror_mode": {
    "name": "ipython",
    "version": 3
   },
   "file_extension": ".py",
   "mimetype": "text/x-python",
   "name": "python",
   "nbconvert_exporter": "python",
   "pygments_lexer": "ipython3",
   "version": "3.7.4"
  }
 },
 "nbformat": 4,
 "nbformat_minor": 4
}
