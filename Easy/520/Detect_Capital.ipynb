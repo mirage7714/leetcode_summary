{
 "cells": [
  {
   "cell_type": "markdown",
   "metadata": {},
   "source": [
    "# 題目要找出大寫的部份是否符合邏輯\n",
    "原題目連結：https://leetcode.com/problems/detect-capital/  \n",
    "\n",
    "Given a word, you need to judge whether the usage of capitals in it is right or not.  \n",
    "\n",
    "We define the usage of capitals in a word to be right when one of the following cases holds:  \n",
    "\n",
    "All letters in this word are capitals, like \"USA\".  \n",
    "All letters in this word are not capitals, like \"leetcode\".  \n",
    "Only the first letter in this word is capital, like \"Google\".  \n",
    "Otherwise, we define that this word doesn't use capitals in a right way.  \n",
    "\n",
    "範例：  \n",
    "Ex1:  \n",
    "Input: \"USA\"  \n",
    "Output: True  \n",
    "\n",
    "Ex2:  \n",
    "Input: \"FlaG\"  \n",
    "Output: False"
   ]
  },
  {
   "cell_type": "markdown",
   "metadata": {},
   "source": [
    "* 解題想法：  \n",
    "本題要找出大小寫不符合邏輯的用法，總共有三種是合邏輯的情況：全部大寫，第一個字大寫，或是全部小寫  \n",
    "因此用這三種邏輯來判斷，如果不\n"
   ]
  }
 ],
 "metadata": {
  "kernelspec": {
   "display_name": "Python 3",
   "language": "python",
   "name": "python3"
  },
  "language_info": {
   "codemirror_mode": {
    "name": "ipython",
    "version": 3
   },
   "file_extension": ".py",
   "mimetype": "text/x-python",
   "name": "python",
   "nbconvert_exporter": "python",
   "pygments_lexer": "ipython3",
   "version": "3.8.3"
  }
 },
 "nbformat": 4,
 "nbformat_minor": 4
}
