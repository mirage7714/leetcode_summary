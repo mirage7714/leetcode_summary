{
 "cells": [
  {
   "cell_type": "markdown",
   "metadata": {},
   "source": [
    "# 本題要判斷在兩次翻轉之後數字是否與原數相同\n",
    "原題目連結: https://leetcode.com/problems/a-number-after-a-double-reversal/  \n",
    "\n",
    "Reversing an integer means to reverse all its digits.  \n",
    "\n",
    "For example, reversing 2021 gives 1202. Reversing 12300 gives 321 as the leading zeros are not retained.  \n",
    "Given an integer num, reverse num to get reversed1, then reverse reversed1 to get reversed2. Return true if reversed2 equals num. Otherwise return false.  \n",
    "\n",
    "範例:  \n",
    "Ex1:  \n",
    "Input: num = 526  \n",
    "Output: true  \n",
    "Explanation: Reverse num to get 625, then reverse 625 to get 526, which equals num.  \n",
    "\n",
    "Ex2:\n",
    "Input: num = 1800  \n",
    "Output: false  \n",
    "Explanation: Reverse num to get 81, then reverse 81 to get 18, which does not equal num.  \n",
    "\n",
    "Ex3:  \n",
    "Input: num = 0  \n",
    "Output: true  \n",
    "Explanation: Reverse num to get 0, then reverse 0 to get 0, which equals num."
   ]
  },
  {
   "cell_type": "markdown",
   "metadata": {},
   "source": [
    "* 解題想法:  \n",
    "首先判斷num是否大於0，如果大於0的話，則判斷後面的尾數是否為0，如果為0則代表翻轉之後位數會變少，因此回傳False，否則回傳True"
   ]
  },
  {
   "cell_type": "code",
   "execution_count": null,
   "metadata": {},
   "outputs": [],
   "source": [
    "class Solution:\n",
    "    def isSameAfterReversals(self, num: int) -> bool:\n",
    "        if num > 0:\n",
    "            if num % 10 == 0:\n",
    "                return False\n",
    "        return True"
   ]
  }
 ],
 "metadata": {
  "kernelspec": {
   "display_name": "Python 3",
   "language": "python",
   "name": "python3"
  },
  "language_info": {
   "codemirror_mode": {
    "name": "ipython",
    "version": 3
   },
   "file_extension": ".py",
   "mimetype": "text/x-python",
   "name": "python",
   "nbconvert_exporter": "python",
   "pygments_lexer": "ipython3",
   "version": "3.7.4"
  }
 },
 "nbformat": 4,
 "nbformat_minor": 4
}
