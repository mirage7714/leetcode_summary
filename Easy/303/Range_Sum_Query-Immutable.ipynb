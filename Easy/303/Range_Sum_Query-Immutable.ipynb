{
 "cells": [
  {
   "cell_type": "markdown",
   "metadata": {},
   "source": [
    "# 本題要找出指定區間內的數字總和\n",
    "原題目連結: https://leetcode.com/problems/range-sum-query-immutable/  \n",
    "\n",
    "Given an integer array nums, find the sum of the elements between indices i and j (i ≤ j), inclusive.  \n",
    "\n",
    "Implement the NumArray class:  \n",
    "\n",
    "NumArray(int[] nums) Initializes the object with the integer array nums.  \n",
    "int sumRange(int i, int j) Return the sum of the elements of the nums array in the range [i, j] inclusive (i.e., sum(nums[i], nums[i + 1], ... , nums[j]))  \n",
    "\n",
    "範例:  \n",
    "Ex1:  \n",
    "Input  \n",
    "[\"NumArray\", \"sumRange\", \"sumRange\", \"sumRange\"]  \n",
    "[[[-2, 0, 3, -5, 2, -1]], [0, 2], [2, 5], [0, 5]]  \n",
    "Output  \n",
    "[null, 1, -1, -3]  \n",
    "\n",
    "Explanation  \n",
    "NumArray numArray = new NumArray([-2, 0, 3, -5, 2, -1]);  \n",
    "numArray.sumRange(0, 2); // return 1 ((-2) + 0 + 3)  \n",
    "numArray.sumRange(2, 5); // return -1 (3 + (-5) + 2 + (-1))   \n",
    "numArray.sumRange(0, 5); // return -3 ((-2) + 0 + 3 + (-5) + 2 + (-1))  "
   ]
  },
  {
   "cell_type": "markdown",
   "metadata": {},
   "source": [
    "* 解題想法:  \n",
    "依題目說明，其實就是將指定index區間內的所有數字總和後回傳"
   ]
  },
  {
   "cell_type": "code",
   "execution_count": null,
   "metadata": {},
   "outputs": [],
   "source": [
    "class NumArray:\n",
    "\n",
    "    def __init__(self, nums: List[int]):\n",
    "        self.numbers = nums        \n",
    "\n",
    "    def sumRange(self, i: int, j: int) -> int:\n",
    "        total = 0\n",
    "        for n in range(i, j+1):\n",
    "            total += self.numbers[n]\n",
    "        return total\n",
    "\n",
    "# Your NumArray object will be instantiated and called as such:\n",
    "# obj = NumArray(nums)\n",
    "# param_1 = obj.sumRange(i,j)"
   ]
  }
 ],
 "metadata": {
  "kernelspec": {
   "display_name": "Python 3",
   "language": "python",
   "name": "python3"
  },
  "language_info": {
   "codemirror_mode": {
    "name": "ipython",
    "version": 3
   },
   "file_extension": ".py",
   "mimetype": "text/x-python",
   "name": "python",
   "nbconvert_exporter": "python",
   "pygments_lexer": "ipython3",
   "version": "3.7.4"
  }
 },
 "nbformat": 4,
 "nbformat_minor": 2
}
