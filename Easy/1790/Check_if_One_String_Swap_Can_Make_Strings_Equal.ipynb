{
 "cells": [
  {
   "cell_type": "markdown",
   "metadata": {},
   "source": [
    "# 本題要判斷兩個字串在最多交換一次字母順序的情況下是否相同\n",
    "原題目連結: https://leetcode.com/problems/check-if-one-string-swap-can-make-strings-equal/  \n",
    "\n",
    "You are given two strings s1 and s2 of equal length. A string swap is an operation where you choose two indices in a string (not necessarily different) and swap the characters at these indices.  \n",
    "\n",
    "Return true if it is possible to make both strings equal by performing at most one string swap on exactly one of the strings. Otherwise, return false.  \n",
    "\n",
    "範例:  \n",
    "Ex1:  \n",
    "Input: s1 = \"bank\", s2 = \"kanb\"  \n",
    "Output: true  \n",
    "Explanation: For example, swap the first character with the last character of s2 to make \"bank\".  \n",
    "\n",
    "Ex2:  \n",
    "Input: s1 = \"attack\", s2 = \"defend\"  \n",
    "Output: false  \n",
    "Explanation: It is impossible to make them equal with one string swap.  \n",
    "\n",
    "Ex3:  \n",
    "Input: s1 = \"kelb\", s2 = \"kelb\"  \n",
    "Output: true  \n",
    "Explanation: The two strings are already equal, so no string swap operation is required.  \n",
    "\n",
    "Ex4:  \n",
    "Input: s1 = \"abcd\", s2 = \"dcba\"  \n",
    "Output: false"
   ]
  },
  {
   "cell_type": "markdown",
   "metadata": {},
   "source": [
    "* 解題想法:  \n",
    "依題目說明，需要比較兩個字串內的字母在有限的交換次數下是否相同，因此先比較兩個字是否相同，若不相同則依照以下作法:  \n",
    "- 將字串分解成字母與位置的dict\n",
    "- 比較兩個dict的key是否都相同\n",
    "- 如果key相同，則比較key值對應的value長度是否相同\n",
    "- 如果value長度相同，則比較內容是否相同，如果不相同則記數+1\n",
    "- 如果value長度不相同，代表字母出現的次數完全不同，可以直接中斷迴圈不用繼續計算\n",
    "- 最後比對不相同的次數，如果等於2則代表兩個字串符合題目的要求"
   ]
  },
  {
   "cell_type": "code",
   "execution_count": null,
   "metadata": {},
   "outputs": [],
   "source": [
    "class Solution:\n",
    "    def areAlmostEqual(self, s1: str, s2: str) -> bool:\n",
    "        is_valid = False\n",
    "        freq1 = {}\n",
    "        freq2 = {}\n",
    "        if s1 == s2:\n",
    "            is_valid = True\n",
    "        else:\n",
    "            for m in range(len(s1)):\n",
    "                if s1[m] not in freq1.keys():\n",
    "                    freq1[s1[m]] = [m]\n",
    "                else:\n",
    "                    freq1[s1[m]].append(m)\n",
    "            for n in range(len(s2)):\n",
    "                if s2[n] not in freq2.keys():\n",
    "                    freq2[s2[n]] = [n]\n",
    "                else:\n",
    "                    freq2[s2[n]].append(n)\n",
    "            key1 = list(freq1.keys())\n",
    "            key2 = list(freq2.keys())\n",
    "            key1.sort()\n",
    "            key2.sort()\n",
    "            if key1 == key2:\n",
    "                mismatch = 0         \n",
    "                for key in key1:\n",
    "                    if len(freq1[key]) != len(freq2[key]):\n",
    "                        break\n",
    "                    else:\n",
    "                        if freq1[key] != freq2[key]:\n",
    "                            mismatch += 1\n",
    "                        if mismatch > 2:\n",
    "                            break\n",
    "                if mismatch == 2:\n",
    "                    is_valid = True\n",
    "        return is_valid"
   ]
  }
 ],
 "metadata": {
  "kernelspec": {
   "display_name": "Python 3",
   "language": "python",
   "name": "python3"
  },
  "language_info": {
   "codemirror_mode": {
    "name": "ipython",
    "version": 3
   },
   "file_extension": ".py",
   "mimetype": "text/x-python",
   "name": "python",
   "nbconvert_exporter": "python",
   "pygments_lexer": "ipython3",
   "version": "3.7.4"
  }
 },
 "nbformat": 4,
 "nbformat_minor": 2
}
