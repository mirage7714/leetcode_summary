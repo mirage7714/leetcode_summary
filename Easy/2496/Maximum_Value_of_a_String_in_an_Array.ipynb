{
 "cells": [
  {
   "cell_type": "markdown",
   "metadata": {},
   "source": [
    "# 本題要找出list中最大的數值為何 (\\#Array)\n",
    "原題目連結: https://leetcode.com/problems/maximum-value-of-a-string-in-an-array/description/  \n",
    "\n",
    "The value of an alphanumeric string can be defined as:  \n",
    "\n",
    "The numeric representation of the string in base 10, if it comprises of digits only.  \n",
    "The length of the string, otherwise.  \n",
    "Given an array strs of alphanumeric strings, return the maximum value of any string in strs.  \n",
    "\n",
    "範例:  \n",
    "Ex1:  \n",
    "Input: strs = [\"alic3\",\"bob\",\"3\",\"4\",\"00000\"]  \n",
    "Output: 5  \n",
    "Explanation:   \n",
    "- \"alic3\" consists of both letters and digits, so its value is its length, i.e. 5.  \n",
    "- \"bob\" consists only of letters, so its value is also its length, i.e. 3.  \n",
    "- \"3\" consists only of digits, so its value is its numeric equivalent, i.e. 3.  \n",
    "- \"4\" also consists only of digits, so its value is 4.  \n",
    "- \"00000\" consists only of digits, so its value is 0.  \n",
    "Hence, the maximum value is 5, of \"alic3\".  \n",
    "\n",
    "Ex2:  \n",
    "Input: strs = [\"1\",\"01\",\"001\",\"0001\"]  \n",
    "Output: 1  \n",
    "Explanation:   \n",
    "Each string in the array has value 1. Hence, we return 1."
   ]
  },
  {
   "cell_type": "markdown",
   "metadata": {},
   "source": [
    "* 解題想法:  \n",
    "判斷list中的字串是否只包含數字，如果只有數字則轉換為數字後與目前最大值比較，否則就是用字串的長度與最大值進行比較，最後回傳最大值就是答案"
   ]
  },
  {
   "cell_type": "code",
   "execution_count": null,
   "metadata": {},
   "outputs": [],
   "source": [
    "class Solution:\n",
    "    def maximumValue(self, strs: List[str]) -> int:\n",
    "        res = 0\n",
    "        for s in strs:\n",
    "            if s.isnumeric():\n",
    "                res = max(res, int(s))\n",
    "            else:\n",
    "                res = max(res, len(s))\n",
    "        return res"
   ]
  }
 ],
 "metadata": {
  "kernelspec": {
   "display_name": "Python 3",
   "language": "python",
   "name": "python3"
  },
  "language_info": {
   "codemirror_mode": {
    "name": "ipython",
    "version": 3
   },
   "file_extension": ".py",
   "mimetype": "text/x-python",
   "name": "python",
   "nbconvert_exporter": "python",
   "pygments_lexer": "ipython3",
   "version": "3.7.4"
  }
 },
 "nbformat": 4,
 "nbformat_minor": 4
}
