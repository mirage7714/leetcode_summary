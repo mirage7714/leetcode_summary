{
 "cells": [
  {
   "cell_type": "markdown",
   "metadata": {},
   "source": [
    "# 本題要找出最少的字串長度為多少 (\\#String )\n",
    "原題目連結: https://leetcode.com/problems/minimize-string-length/description/  \n",
    "\n",
    "Given a 0-indexed string s, repeatedly perform the following operation any number of times:  \n",
    "\n",
    "Choose an index i in the string, and let c be the character in position i. Delete the closest occurrence of c to the left of i (if any) and the closest occurrence of c to the right of i (if any).  \n",
    "Your task is to minimize the length of s by performing the above operation any number of times.  \n",
    "\n",
    "Return an integer denoting the length of the minimized string.  \n",
    "\n",
    "範例:  \n",
    "Ex1:  \n",
    "Input: s = \"aaabc\"  \n",
    "Output: 3  \n",
    "Explanation: In this example, s is \"aaabc\". We can start by selecting the character 'a' at index 1. We then remove the closest 'a' to the left of index 1, which is at index 0, and the closest 'a' to the right of index 1, which is at index 2. After this operation, the string becomes \"abc\". Any further operation we perform on the string will leave it unchanged. Therefore, the length of the minimized string is 3.  \n",
    "\n",
    "Ex2:  \n",
    "Input: s = \"cbbd\"  \n",
    "Output: 3  \n",
    "Explanation: For this we can start with character 'b' at index 1. There is no occurrence of 'b' to the left of index 1, but there is one to the right at index 2, so we delete the 'b' at index 2. The string becomes \"cbd\" and further operations will leave it unchanged. Hence, the minimized length is 3.   \n",
    "\n",
    "Ex3:  \n",
    "Input: s = \"dddaaa\"  \n",
    "Output: 2  \n",
    "Explanation: For this, we can start with the character 'd' at index 1. The closest occurrence of a 'd' to its left is at index 0, and the closest occurrence of a 'd' to its right is at index 2. We delete both index 0 and 2, so the string becomes \"daaa\". In the new string, we can select the character 'a' at index 2. The closest occurrence of an 'a' to its left is at index 1, and the closest occurrence of an 'a' to its right is at index 3. We delete both of them, and the string becomes \"da\". We cannot minimize this further, so the minimized length is 2."
   ]
  },
  {
   "cell_type": "markdown",
   "metadata": {},
   "source": [
    "* 解題想法:  \n",
    "依題目說明，每個出現過的字母，最後都會剩下一個(因為可以無限制的進行刪除)，因此就是找出共出現幾個不同的字母就是答案"
   ]
  },
  {
   "cell_type": "code",
   "execution_count": null,
   "metadata": {},
   "outputs": [],
   "source": [
    "class Solution:\n",
    "    def minimizedStringLength(self, s: str) -> int:\n",
    "        count = set()\n",
    "        for i in s:\n",
    "            count.add(i)\n",
    "        return len(count)"
   ]
  }
 ],
 "metadata": {
  "kernelspec": {
   "display_name": "Python 3",
   "language": "python",
   "name": "python3"
  },
  "language_info": {
   "codemirror_mode": {
    "name": "ipython",
    "version": 3
   },
   "file_extension": ".py",
   "mimetype": "text/x-python",
   "name": "python",
   "nbconvert_exporter": "python",
   "pygments_lexer": "ipython3",
   "version": "3.7.6"
  }
 },
 "nbformat": 4,
 "nbformat_minor": 4
}
