{
 "cells": [
  {
   "cell_type": "markdown",
   "id": "62228f1b-99b3-4b9f-9c0e-e35edf9f0aca",
   "metadata": {},
   "source": [
    "# 本題要找出最大的奇數bit是多少 (\\#BitManipulation, \\#String )\n",
    "原題目連結：https://leetcode.com/problems/maximum-odd-binary-number/description/  \n",
    "\n",
    "You are given a binary string s that contains at least one '1'.  \n",
    "You have to rearrange the bits in such a way that the resulting binary number is the maximum odd binary number that can be created from this combination.  \n",
    "Return a string representing the maximum odd binary number that can be created from the given combination.  \n",
    "\n",
    "Note that the resulting string can have leading zeros.  \n",
    "\n",
    "範例：  \n",
    "Ex1:  \n",
    "Input: s = \"010\"  \n",
    "Output: \"001\"  \n",
    "Explanation: Because there is just one '1', it must be in the last position. So the answer is \"001\".  \n",
    "\n",
    "Ex2:  \n",
    "Input: s = \"0101\"  \n",
    "Output: \"1001\"  \n",
    "Explanation: One of the '1's must be in the last position. The maximum number that can be made with the remaining digits is \"100\". So the answer is \"1001\"."
   ]
  },
  {
   "cell_type": "markdown",
   "id": "03435cc3-7fa7-41fa-a933-13783dc5c764",
   "metadata": {},
   "source": [
    "* 解題想法：  \n",
    "首先計算出共有幾個bit，接著先將最後一個數值指定為1，然後從0開始分配，最後將1重新放入結果中"
   ]
  },
  {
   "cell_type": "code",
   "execution_count": null,
   "id": "620de7ce-6ef8-4f62-b178-0a0f184db7f4",
   "metadata": {},
   "outputs": [],
   "source": [
    "class Solution:\n",
    "    def maximumOddBinaryNumber(self, s: str) -> str:\n",
    "        res = ''\n",
    "        count = {}\n",
    "        for i in s:\n",
    "            if i not in count.keys():\n",
    "                count[i] = 1\n",
    "            else:\n",
    "                count[i] += 1\n",
    "        res = '1'\n",
    "        count['1'] -= 1\n",
    "        if '0' in count.keys(): \n",
    "            for _ in range(count['0']):\n",
    "                res = '0' + res\n",
    "        for _ in range(count['1']):\n",
    "            res = '1' + res\n",
    "        return res"
   ]
  }
 ],
 "metadata": {
  "kernelspec": {
   "display_name": "Python 3 (ipykernel)",
   "language": "python",
   "name": "python3"
  },
  "language_info": {
   "codemirror_mode": {
    "name": "ipython",
    "version": 3
   },
   "file_extension": ".py",
   "mimetype": "text/x-python",
   "name": "python",
   "nbconvert_exporter": "python",
   "pygments_lexer": "ipython3",
   "version": "3.10.9"
  }
 },
 "nbformat": 4,
 "nbformat_minor": 5
}
