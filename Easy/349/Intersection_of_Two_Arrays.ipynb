{
 "cells": [
  {
   "cell_type": "markdown",
   "metadata": {},
   "source": [
    "# 兩個跟arrays相關的題目，不過題目要求有些微的差異\n",
    "原題目連結: https://leetcode.com/problems/intersection-of-two-arrays/  \n",
    "          \n",
    "範例:  \n",
    "Ex1:  \n",
    "Input: nums1 = [1,2,2,1], nums2 = [2,2]  \n",
    "Output: [2]  \n",
    "\n",
    "Ex2:  \n",
    "Input: nums1 = [4,9,5], nums2 = [9,4,9,8,4]  \n",
    "Output: [9,4]  "
   ]
  },
  {
   "cell_type": "markdown",
   "metadata": {},
   "source": [
    "* 解題想法:  \n",
    "在這題的範例中，可看出重複的數值並沒有被加入結果中，合理推測單一數值僅會在結果中出現一次  \n",
    "因此找出長度較短的array，並用迴圈確認數值是否有同時出現在兩個迴圈中"
   ]
  },
  {
   "cell_type": "code",
   "execution_count": null,
   "metadata": {},
   "outputs": [],
   "source": [
    "class Solution:\n",
    "    def intersection(self, nums1: List[int], nums2: List[int]) -> List[int]:\n",
    "        result = []\n",
    "        if len(nums1) > len(nums2):\n",
    "            for n in range(len(nums2)):\n",
    "                if nums2[n] in nums1:\n",
    "                    if nums2[n] not in result:\n",
    "                        result.append(nums2[n])\n",
    "        else:\n",
    "            for n in range(len(nums1)):\n",
    "                if nums1[n] in nums2:\n",
    "                    if nums1[n] not in result:\n",
    "                        result.append(nums1[n])\n",
    "        return result"
   ]
  },
  {
   "cell_type": "markdown",
   "metadata": {},
   "source": [
    "# 另一題有些微的差異\n",
    "原題目連結: https://leetcode.com/problems/intersection-of-two-arrays-ii/  \n",
    "\n",
    "範例:\n",
    "Ex1:\n",
    "Input: nums1 = [1,2,2,1], nums2 = [2,2]  \n",
    "Output: [2,2]  \n",
    "\n",
    "Input: nums1 = [4,9,5], nums2 = [9,4,9,8,4]  \n",
    "Output: [4,9]  "
   ]
  },
  {
   "cell_type": "markdown",
   "metadata": {},
   "source": [
    "* 解題想法:  \n",
    "從範例中可看出重複的數值並沒有被剔除，因此在這題中，重複的數值是需要加入結果內的  \n",
    "後續解題過程與上一題相同"
   ]
  },
  {
   "cell_type": "code",
   "execution_count": null,
   "metadata": {},
   "outputs": [],
   "source": [
    "class Solution:\n",
    "    def intersect(self, nums1: List[int], nums2: List[int]) -> List[int]:\n",
    "        result = []\n",
    "        if len(nums1) > len(nums2):\n",
    "            for n in range(len(nums2)):\n",
    "                if nums2[n] in nums1:\n",
    "                    result.append(nums2[n])\n",
    "                    nums1.remove(nums2[n])\n",
    "        else:\n",
    "            for n in range(len(nums1)):\n",
    "                if nums1[n] in nums2:\n",
    "                    result.append(nums1[n])\n",
    "                    nums2.remove(nums1[n])\n",
    "        return result"
   ]
  }
 ],
 "metadata": {
  "kernelspec": {
   "display_name": "Python 3",
   "language": "python",
   "name": "python3"
  },
  "language_info": {
   "codemirror_mode": {
    "name": "ipython",
    "version": 3
   },
   "file_extension": ".py",
   "mimetype": "text/x-python",
   "name": "python",
   "nbconvert_exporter": "python",
   "pygments_lexer": "ipython3",
   "version": "3.7.4"
  }
 },
 "nbformat": 4,
 "nbformat_minor": 2
}
