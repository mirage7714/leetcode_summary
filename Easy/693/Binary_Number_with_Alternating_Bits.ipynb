{
 "cells": [
  {
   "cell_type": "markdown",
   "metadata": {},
   "source": [
    "# 本題要判斷把數字轉成binary string後，是否會有相臨相同的數字 (\\#Bit Manipulation) \n",
    "原題目連結: https://leetcode.com/problems/binary-number-with-alternating-bits/  \n",
    "\n",
    "Given a positive integer, check whether it has alternating bits: namely, if two adjacent bits will always have different values.  \n",
    "\n",
    "範例:  \n",
    "Ex1:  \n",
    "Input: n = 5  \n",
    "Output: true  \n",
    "Explanation: The binary representation of 5 is: 101  \n",
    "\n",
    "Ex2:  \n",
    "Input: n = 7  \n",
    "Output: false  \n",
    "Explanation: The binary representation of 7 is: 111.  \n",
    "\n",
    "Ex3:  \n",
    "Input: n = 11  \n",
    "Output: false  \n",
    "Explanation: The binary representation of 11 is: 1011."
   ]
  },
  {
   "cell_type": "markdown",
   "metadata": {},
   "source": [
    "* 解題想法:  \n",
    "首先將數字轉成binary string，接著檢查相鄰兩個字母是否相同，如果相同則回傳False，否則回傳True"
   ]
  },
  {
   "cell_type": "code",
   "execution_count": null,
   "metadata": {},
   "outputs": [],
   "source": [
    "class Solution:\n",
    "    def hasAlternatingBits(self, n: int) -> bool:\n",
    "        s = bin(n)[2:]\n",
    "        for m in range(len(s)-1):\n",
    "            if s[m] == s[m+1]:\n",
    "                return False\n",
    "        return True"
   ]
  }
 ],
 "metadata": {
  "kernelspec": {
   "display_name": "Python 3",
   "language": "python",
   "name": "python3"
  },
  "language_info": {
   "codemirror_mode": {
    "name": "ipython",
    "version": 3
   },
   "file_extension": ".py",
   "mimetype": "text/x-python",
   "name": "python",
   "nbconvert_exporter": "python",
   "pygments_lexer": "ipython3",
   "version": "3.7.4"
  }
 },
 "nbformat": 4,
 "nbformat_minor": 4
}
