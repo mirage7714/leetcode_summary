{
 "cells": [
  {
   "cell_type": "markdown",
   "id": "16b068a9-4c34-467b-8f49-8aa3c1c51c85",
   "metadata": {},
   "source": [
    "# 本題要找出共有多少個數值不相同的triplet (\\#Array)\n",
    "原題目連結: https://leetcode.com/problems/number-of-unequal-triplets-in-array/description/  \n",
    "\n",
    "You are given a 0-indexed array of positive integers nums. Find the number of triplets (i, j, k) that meet the following conditions:  \n",
    "\n",
    "0 <= i < j < k < nums.length  \n",
    "nums[i], nums[j], and nums[k] are pairwise distinct.  \n",
    "In other words, nums[i] != nums[j], nums[i] != nums[k], and nums[j] != nums[k].  \n",
    "Return the number of triplets that meet the conditions.  \n",
    "\n",
    "範例:  \n",
    "Ex1:  \n",
    "Input: nums = [4,4,2,4,3]  \n",
    "Output: 3  \n",
    "Explanation: The following triplets meet the conditions:  \n",
    "- (0, 2, 4) because 4 != 2 != 3  \n",
    "- (1, 2, 4) because 4 != 2 != 3  \n",
    "- (2, 3, 4) because 2 != 4 != 3  \n",
    "Since there are 3 triplets, we return 3.  \n",
    "Note that (2, 0, 4) is not a valid triplet because 2 > 0.  \n",
    "\n",
    "Ex2:  \n",
    "Input: nums = [1,1,1,1,1]  \n",
    "Output: 0  \n",
    "Explanation: No triplets meet the conditions so we return 0."
   ]
  },
  {
   "cell_type": "markdown",
   "id": "a2860bc6-b5f0-4366-9418-d30da5020538",
   "metadata": {},
   "source": [
    "* 解題想法:  \n",
    "首先檢查list的最大值與最小值是否相同，如果相同的話，代表list中的數值都是相同的，這個情況就不需要進行計算了，接著開始用迴圈找出三個數值並判斷三個數值是否都不相同，如果符合條件則放入list中，最後回傳list的長度就是答案"
   ]
  },
  {
   "cell_type": "code",
   "execution_count": null,
   "id": "2045801e-8c24-48b1-bd8f-280a79d7910f",
   "metadata": {},
   "outputs": [],
   "source": [
    "class Solution:\n",
    "    def unequalTriplets(self, nums: List[int]) -> int:\n",
    "        res = []\n",
    "        if max(nums) != min(nums):\n",
    "            for i in range(len(nums)-2):\n",
    "                for j in range(i+1, len(nums)-1):\n",
    "                    for k in range(j+1, len(nums)):\n",
    "                        if nums[i] != nums[j] and nums[j] != nums[k] and nums[i] != nums[k]:\n",
    "                            res.append([i,j,k])\n",
    "        return len(res)"
   ]
  }
 ],
 "metadata": {
  "kernelspec": {
   "display_name": "Python 3 (ipykernel)",
   "language": "python",
   "name": "python3"
  },
  "language_info": {
   "codemirror_mode": {
    "name": "ipython",
    "version": 3
   },
   "file_extension": ".py",
   "mimetype": "text/x-python",
   "name": "python",
   "nbconvert_exporter": "python",
   "pygments_lexer": "ipython3",
   "version": "3.9.13"
  }
 },
 "nbformat": 4,
 "nbformat_minor": 5
}
