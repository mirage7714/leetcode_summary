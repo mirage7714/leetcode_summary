{
 "cells": [
  {
   "cell_type": "markdown",
   "id": "01087277-bf59-43b6-aee2-3ee4723c01e1",
   "metadata": {},
   "source": [
    "# 本題要找出取代一個數字之後，最大值與最小值的差距為何 (\\#Math)\n",
    "原題目連結: https://leetcode.com/problems/maximum-difference-by-remapping-a-digit/description/  \n",
    "\n",
    "You are given an integer num. You know that Danny Mittal will sneakily remap one of the 10 possible digits (0 to 9) to another digit.  \n",
    "Return the difference between the maximum and minimum values Danny can make by remapping exactly one digit in num.  \n",
    "\n",
    "Notes:  \n",
    "When Danny remaps a digit d1 to another digit d2, Danny replaces all occurrences of d1 in num with d2.  \n",
    "Danny can remap a digit to itself, in which case num does not change.  \n",
    "Danny can remap different digits for obtaining minimum and maximum values respectively.  \n",
    "The resulting number after remapping can contain leading zeroes.  \n",
    "We mentioned \"Danny Mittal\" to congratulate him on being in the top 10 in Weekly Contest 326.  \n",
    "\n",
    "範例:  \n",
    "Ex1:  \n",
    "Input: num = 11891  \n",
    "Output: 99009  \n",
    "Explanation:     \n",
    "To achieve the maximum value, Danny can remap the digit 1 to the digit 9 to yield 99899.  \n",
    "To achieve the minimum value, Danny can remap the digit 1 to the digit 0, yielding 890.  \n",
    "The difference between these two numbers is 99009.  \n",
    "\n",
    "Ex2:  \n",
    "Input: num = 90  \n",
    "Output: 99  \n",
    "Explanation:  \n",
    "The maximum value that can be returned by the function is 99 (if 0 is replaced by 9) and the minimum value that can be returned by the function is 0 (if 9 is replaced by 0).  \n",
    "Thus, we return 99."
   ]
  },
  {
   "cell_type": "markdown",
   "id": "96d74817-9322-47c8-bda3-8330e7cd1b60",
   "metadata": {},
   "source": [
    "* 解題想法:  \n",
    "首先建立一個函數用來取代指定的數值，接著找出最大值的方式就是找出第一個不為9的數值，並將該數值改為9，至於找出最小值的方式就是將第一個數字改為0，最後將兩個數值相減就是答案"
   ]
  },
  {
   "cell_type": "code",
   "execution_count": null,
   "id": "f1ff5ed9-c7c3-4487-a564-163ba17ab7a1",
   "metadata": {},
   "outputs": [],
   "source": [
    "class Solution:\n",
    "    def minMaxDifference(self, num: int) -> int:\n",
    "        def genNum(nums, o, r):\n",
    "            res = ''\n",
    "            for n in nums:\n",
    "                if n == o:\n",
    "                    res += r\n",
    "                else:\n",
    "                    res += n\n",
    "            return int(res)\n",
    "\n",
    "        digit = [i for i in str(num)]\n",
    "        s = ''\n",
    "        for d in digit:\n",
    "            if not s and d != '9':\n",
    "                s = d\n",
    "                break\n",
    "        b = genNum(digit, s, '9')\n",
    "        c = genNum(digit, digit[0], '0')\n",
    "        return b-c"
   ]
  }
 ],
 "metadata": {
  "kernelspec": {
   "display_name": "Python 3 (ipykernel)",
   "language": "python",
   "name": "python3"
  },
  "language_info": {
   "codemirror_mode": {
    "name": "ipython",
    "version": 3
   },
   "file_extension": ".py",
   "mimetype": "text/x-python",
   "name": "python",
   "nbconvert_exporter": "python",
   "pygments_lexer": "ipython3",
   "version": "3.9.13"
  }
 },
 "nbformat": 4,
 "nbformat_minor": 5
}
