{
 "cells": [
  {
   "cell_type": "markdown",
   "id": "e5ed4a0b-18e2-4973-9420-8eeb1d670a63",
   "metadata": {},
   "source": [
    "# 本題要找出相同總和的sublist共有多少 (\\#Array )\n",
    "原題目連結：https://leetcode.com/problems/maximum-number-of-operations-with-the-same-score-i/description/  \n",
    "\n",
    "Given an array of integers called nums, you can perform the following operation while nums contains at least 2 elements:  \n",
    "Choose the first two elements of nums and delete them.  \n",
    "The score of the operation is the sum of the deleted elements.  \n",
    "Your task is to find the maximum number of operations that can be performed, such that all operations have the same score.  \n",
    "Return the maximum number of operations possible that satisfy the condition mentioned above.  \n",
    "\n",
    "範例：   \n",
    "Ex1:  \n",
    "Input: nums = [3,2,1,4,5]  \n",
    "Output: 2  \n",
    "Explanation: We perform the following operations:  \n",
    "- Delete the first two elements, with score 3 + 2 = 5, nums = [1,4,5].  \n",
    "- Delete the first two elements, with score 1 + 4 = 5, nums = [5].  \n",
    "We are unable to perform any more operations as nums contain only 1 element.  \n",
    "\n",
    "Ex2:  \n",
    "Input: nums = [3,2,6,1,4]  \n",
    "Output: 1  \n",
    "Explanation: We perform the following operations:  \n",
    "- Delete the first two elements, with score 3 + 2 = 5, nums = [6,1,4].  \n",
    "We are unable to perform any more operations as the score of the next operation isn't the same as the previous one."
   ]
  },
  {
   "cell_type": "markdown",
   "id": "040a4705-14de-4831-b00d-ad900a64e239",
   "metadata": {},
   "source": [
    "* 解題想法：  \n",
    "首先找出list前兩個數值的總和，接著開始檢查是否有符合總和的組合，如果有則將結果＋1，否則就中斷迴圈，最後回傳結果就是答案"
   ]
  },
  {
   "cell_type": "code",
   "execution_count": null,
   "id": "d595026d-9fb7-4553-862d-c31044aa778b",
   "metadata": {},
   "outputs": [],
   "source": [
    "class Solution:\n",
    "    def maxOperations(self, nums: List[int]) -> int:\n",
    "        res = 1\n",
    "        s = nums[0] + nums[1]\n",
    "        for n in range(2, len(nums), 2):\n",
    "            if n+1 == len(nums):\n",
    "                break\n",
    "            if nums[n] + nums[n+1] == s:\n",
    "                res += 1\n",
    "            else:\n",
    "                break\n",
    "        return res"
   ]
  }
 ],
 "metadata": {
  "kernelspec": {
   "display_name": "Python 3 (ipykernel)",
   "language": "python",
   "name": "python3"
  },
  "language_info": {
   "codemirror_mode": {
    "name": "ipython",
    "version": 3
   },
   "file_extension": ".py",
   "mimetype": "text/x-python",
   "name": "python",
   "nbconvert_exporter": "python",
   "pygments_lexer": "ipython3",
   "version": "3.10.9"
  }
 },
 "nbformat": 4,
 "nbformat_minor": 5
}
