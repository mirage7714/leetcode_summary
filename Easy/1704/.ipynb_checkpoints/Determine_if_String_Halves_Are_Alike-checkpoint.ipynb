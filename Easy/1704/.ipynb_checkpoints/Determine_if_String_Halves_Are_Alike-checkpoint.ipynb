{
 "cells": [
  {
   "cell_type": "markdown",
   "metadata": {},
   "source": [
    "# 本題要判斷字串的前後是否有相同的母音數量\n",
    "原題目連結: https://leetcode.com/problems/determine-if-string-halves-are-alike/  \n",
    "\n",
    "You are given a string s of even length. Split this string into two halves of equal lengths, and let a be the first half and b be the second half.  \n",
    "\n",
    "Two strings are alike if they have the same number of vowels ('a', 'e', 'i', 'o', 'u', 'A', 'E', 'I', 'O', 'U'). Notice that s contains uppercase and lowercase letters.  \n",
    "\n",
    "Return true if a and b are alike. Otherwise, return false.  \n",
    "\n",
    "範例:  \n",
    "Ex1:  \n",
    "Input: s = \"book\"  \n",
    "Output: true  \n",
    "Explanation: a = \"bo\" and b = \"ok\". a has 1 vowel and b has 1 vowel. Therefore, they are alike.  \n",
    "\n",
    "Ex2:  \n",
    "Input: s = \"textbook\"  \n",
    "Output: false  \n",
    "Explanation: a = \"text\" and b = \"book\". a has 1 vowel whereas b has 2. Therefore, they are not alike.  \n",
    "Notice that the vowel o is counted twice.  \n",
    "\n",
    "Ex3:  \n",
    "Input: s = \"MerryChristmas\"  \n",
    "Output: false  \n",
    "\n",
    "Ex4:  \n",
    "Input: s = \"AbCdEfGh\"  \n",
    "Output: true"
   ]
  },
  {
   "cell_type": "markdown",
   "metadata": {},
   "source": [
    "* 解題想法:  \n",
    "由於題目要判斷字串前後的母音數量是否相同，因此先將字串拆成前後兩個子字串，並分別計算兩個字串內共有多少母音數量  \n",
    "最後比較兩個數值是否相同"
   ]
  },
  {
   "cell_type": "code",
   "execution_count": null,
   "metadata": {},
   "outputs": [],
   "source": [
    "class Solution:\n",
    "    def halvesAreAlike(self, s: str) -> bool:\n",
    "        is_alike = True\n",
    "        size = int(len(s)/2)\n",
    "        vowels = ['a','e','i','o','u']\n",
    "        freq = {'a':0,'b':0}\n",
    "        a = s[:size]\n",
    "        b = s[size:]\n",
    "        for n in range(len(a)):\n",
    "            if a[n].lower() in vowels:\n",
    "                freq['a'] += 1\n",
    "            if b[n].lower() in vowels:\n",
    "                freq['b'] += 1\n",
    "        if freq['a'] != freq['b']:\n",
    "            is_alike = False\n",
    "        return is_alike"
   ]
  }
 ],
 "metadata": {
  "kernelspec": {
   "display_name": "Python 3",
   "language": "python",
   "name": "python3"
  },
  "language_info": {
   "codemirror_mode": {
    "name": "ipython",
    "version": 3
   },
   "file_extension": ".py",
   "mimetype": "text/x-python",
   "name": "python",
   "nbconvert_exporter": "python",
   "pygments_lexer": "ipython3",
   "version": "3.7.4"
  }
 },
 "nbformat": 4,
 "nbformat_minor": 2
}
