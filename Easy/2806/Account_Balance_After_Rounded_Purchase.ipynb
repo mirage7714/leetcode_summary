{
 "cells": [
  {
   "cell_type": "markdown",
   "metadata": {},
   "source": [
    "# 本題要找出最接近的數字是多少 (\\#Math)\n",
    "原題目連結: https://leetcode.com/problems/account-balance-after-rounded-purchase/description/  \n",
    "\n",
    "Initially, you have a bank account balance of 100 dollars.  \n",
    "You are given an integer purchaseAmount representing the amount you will spend on a purchase in dollars.  \n",
    "\n",
    "At the store where you will make the purchase, the purchase amount is rounded to the nearest multiple of 10. In other words, you pay a non-negative amount, roundedAmount, such that roundedAmount is a multiple of 10 and abs(roundedAmount - purchaseAmount) is minimized.  \n",
    "\n",
    "If there is more than one nearest multiple of 10, the largest multiple is chosen.  \n",
    "Return an integer denoting your account balance after making a purchase worth purchaseAmount dollars from the store.  \n",
    "\n",
    "Note: 0 is considered to be a multiple of 10 in this problem.  \n",
    "\n",
    "範例:  \n",
    "Ex1:  \n",
    "Input: purchaseAmount = 9  \n",
    "Output: 90  \n",
    "Explanation: In this example, the nearest multiple of 10 to 9 is 10. Hence, your account balance becomes 100 - 10 = 90.  \n",
    "\n",
    "Ex2:  \n",
    "Input: purchaseAmount = 15  \n",
    "Output: 80  \n",
    "Explanation: In this example, there are two nearest multiples of 10 to 15: 10 and 20. So, the larger multiple, 20, is chosen.  \n",
    "Hence, your account balance becomes 100 - 20 = 80."
   ]
  },
  {
   "cell_type": "markdown",
   "metadata": {},
   "source": [
    "* 解題想法:  \n",
    "首先用100減去該數值之後檢查剩下的尾數是否有大於5，如果有則重新加到十位數，否則減去尾數，最後回傳修改後的餘數就是答案"
   ]
  },
  {
   "cell_type": "code",
   "execution_count": null,
   "metadata": {},
   "outputs": [],
   "source": [
    "class Solution:\n",
    "    def accountBalanceAfterPurchase(self, purchaseAmount: int) -> int:\n",
    "        res = 100 - purchaseAmount\n",
    "        if res % 10 > 5:\n",
    "            res = res // 10 * 10 + 10\n",
    "        else:\n",
    "            res = res // 10 * 10\n",
    "        return res"
   ]
  }
 ],
 "metadata": {
  "kernelspec": {
   "display_name": "Python 3",
   "language": "python",
   "name": "python3"
  },
  "language_info": {
   "codemirror_mode": {
    "name": "ipython",
    "version": 3
   },
   "file_extension": ".py",
   "mimetype": "text/x-python",
   "name": "python",
   "nbconvert_exporter": "python",
   "pygments_lexer": "ipython3",
   "version": "3.7.6"
  }
 },
 "nbformat": 4,
 "nbformat_minor": 4
}
