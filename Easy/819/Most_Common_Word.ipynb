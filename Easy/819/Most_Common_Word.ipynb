{
 "cells": [
  {
   "cell_type": "markdown",
   "metadata": {},
   "source": [
    "# 找出除了禁用字以外，最常出現的字為何\n",
    "原題目連結: https://leetcode.com/problems/most-common-word/  \n",
    "\n",
    "範例:  \n",
    "Ex1:  \n",
    "Input: \n",
    "paragraph = \"Bob hit a ball, the hit BALL flew far after it was hit.\"  \n",
    "banned = [\"hit\"]  \n",
    "Output: \"ball\"  "
   ]
  },
  {
   "cell_type": "markdown",
   "metadata": {},
   "source": [
    " * 解題想法:  \n",
    "乍看之下就是個統計字頻的問題，只是多了一些奇怪的限制，例如大小寫、標點符號等  \n",
    "踩到兩次坑之後就大概知道要怎麼處理這些奇怪的限制，就是都先把這些奇怪的東西用空白取代，最後再用空白去分割  \n",
    "如果長度小於1的就不列入計算"
   ]
  },
  {
   "cell_type": "code",
   "execution_count": null,
   "metadata": {},
   "outputs": [],
   "source": [
    "class Solution:\n",
    "    def mostCommonWord(self, paragraph: str, banned: List[str]) -> str:\n",
    "        temp = {}\n",
    "        count = 0\n",
    "        most = ''\n",
    "        words = paragraph.replace('!',' ').replace('?',' ').replace(\"'\",' ').replace(',',' ').replace(';',' ').replace('.',' ').split(' ')\n",
    "        for word in words:\n",
    "            word = word.lower().strip()\n",
    "            if word not in banned and len(word) > 0:\n",
    "                if word not in temp.keys():\n",
    "                    temp[word] = 1\n",
    "                else:\n",
    "                    temp[word] += 1\n",
    "        for key in temp.keys():\n",
    "            if temp[key] > count:\n",
    "                most = key\n",
    "                count = temp[key]\n",
    "        return most"
   ]
  }
 ],
 "metadata": {
  "kernelspec": {
   "display_name": "Python 3",
   "language": "python",
   "name": "python3"
  },
  "language_info": {
   "codemirror_mode": {
    "name": "ipython",
    "version": 3
   },
   "file_extension": ".py",
   "mimetype": "text/x-python",
   "name": "python",
   "nbconvert_exporter": "python",
   "pygments_lexer": "ipython3",
   "version": "3.7.4"
  }
 },
 "nbformat": 4,
 "nbformat_minor": 2
}
