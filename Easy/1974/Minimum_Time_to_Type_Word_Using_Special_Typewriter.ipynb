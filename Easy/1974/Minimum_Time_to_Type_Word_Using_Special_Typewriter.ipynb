{
 "cells": [
  {
   "cell_type": "markdown",
   "metadata": {},
   "source": [
    "# 本題要計算出最少要移動多少步才能把字全部打完\n",
    "原題目連結: https://leetcode.com/problems/minimum-time-to-type-word-using-special-typewriter/  \n",
    "\n",
    "There is a special typewriter with lowercase English letters 'a' to 'z' arranged in a circle with a pointer. A character can only be typed if the pointer is pointing to that character. The pointer is initially pointing to the character 'a'.  \n",
    "\n",
    "Each second, you may perform one of the following operations:  \n",
    "\n",
    "Move the pointer one character counterclockwise or clockwise.  \n",
    "Type the character the pointer is currently on.  \n",
    "Given a string word, return the minimum number of seconds to type out the characters in word.  \n",
    "\n",
    "範例:  \n",
    "Ex1:  \n",
    "Input: word = \"abc\"  \n",
    "Output: 5  \n",
    "Explanation:   \n",
    "The characters are printed as follows:  \n",
    "- Type the character 'a' in 1 second since the pointer is initially on 'a'.  \n",
    "- Move the pointer clockwise to 'b' in 1 second.  \n",
    "- Type the character 'b' in 1 second.  \n",
    "- Move the pointer clockwise to 'c' in 1 second.  \n",
    "- Type the character 'c' in 1 second.  \n",
    "\n",
    "Ex2:  \n",
    "Input: word = \"bza\"  \n",
    "Output: 7  \n",
    "Explanation:  \n",
    "The characters are printed as follows:  \n",
    "- Move the pointer clockwise to 'b' in 1 second.  \n",
    "- Type the character 'b' in 1 second.  \n",
    "- Move the pointer counterclockwise to 'z' in 2 seconds.  \n",
    "- Type the character 'z' in 1 second.  \n",
    "- Move the pointer clockwise to 'a' in 1 second.  \n",
    "- Type the character 'a' in 1 second.  \n",
    "\n",
    "Ex3:  \n",
    "Input: word = \"zjpc\"  \n",
    "Output: 34  \n",
    "Explanation:  \n",
    "The characters are printed as follows:  \n",
    "- Move the pointer counterclockwise to 'z' in 1 second.  \n",
    "- Type the character 'z' in 1 second.  \n",
    "- Move the pointer clockwise to 'j' in 10 seconds.  \n",
    "- Type the character 'j' in 1 second.  \n",
    "- Move the pointer clockwise to 'p' in 6 seconds.  \n",
    "- Type the character 'p' in 1 second.  \n",
    "- Move the pointer counterclockwise to 'c' in 13 seconds.  \n",
    "- Type the character 'c' in 1 second."
   ]
  },
  {
   "cell_type": "markdown",
   "metadata": {},
   "source": [
    "* 解題想法:  \n",
    "因為是一個圓形的打字機，因此有順時針和逆時針兩種轉法，首先建立一個dict用來存放每個字母間的大小關係以及步數差，接著分別計算順時針與逆時針需要的步數並找出最小值，接著所有最小值加總後，再加上字串長度就是題目要找的答案"
   ]
  },
  {
   "cell_type": "code",
   "execution_count": null,
   "metadata": {},
   "outputs": [],
   "source": [
    "class Solution:\n",
    "    def minTimeToType(self, word: str) -> int:\n",
    "        orders = {'a':1,'b':2,'c':3,'d':4,'e':5,'f':6,'g':7,'h':8,'i':9,'j':10,'k':11,'l':12,'m':13,'n':14,'o':15,'p':16,'q':17,'r':18,\n",
    "                  's':19,'t':20,'u':21,'v':22,'w':23,'x':24,'y':25,'z':26\n",
    "                 }\n",
    "        \n",
    "        total = 0;\n",
    "        if word[0] != 'a':\n",
    "            total += min(orders[word[0]]-1, 27 - orders[word[0]])\n",
    "        for m in range(len(word)-1):\n",
    "            s = orders[word[m]]\n",
    "            e = orders[word[m+1]]\n",
    "            d = abs(e -s)\n",
    "            total += min(d, 26 - d)\n",
    "        total += len(word)\n",
    "        return total"
   ]
  }
 ],
 "metadata": {
  "kernelspec": {
   "display_name": "Python 3",
   "language": "python",
   "name": "python3"
  },
  "language_info": {
   "codemirror_mode": {
    "name": "ipython",
    "version": 3
   },
   "file_extension": ".py",
   "mimetype": "text/x-python",
   "name": "python",
   "nbconvert_exporter": "python",
   "pygments_lexer": "ipython3",
   "version": "3.7.6"
  }
 },
 "nbformat": 4,
 "nbformat_minor": 4
}
