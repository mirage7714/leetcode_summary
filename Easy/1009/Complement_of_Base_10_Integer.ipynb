{
 "cells": [
  {
   "cell_type": "markdown",
   "metadata": {},
   "source": [
    "# 本題要找出將數字轉換為2進位後，找出補數再轉回10進位\n",
    "原題目連結： https://leetcode.com/problems/complement-of-base-10-integer/  \n",
    "\n",
    "Every non-negative integer N has a binary representation.  For example, 5 can be represented as \"101\" in binary, 11 as \"1011\" in binary, and so on.  Note that except for N = 0, there are no leading zeroes in any binary representation.  \n",
    "\n",
    "The complement of a binary representation is the number in binary you get when changing every 1 to a 0 and 0 to a 1.  For example, the complement of \"101\" in binary is \"010\" in binary.  \n",
    "\n",
    "For a given number N in base-10, return the complement of it's binary representation as a base-10 integer.  \n",
    "\n",
    "範例：  \n",
    "Ex1:  \n",
    "Input: 5  \n",
    "Output: 2  \n",
    "Explanation: 5 is \"101\" in binary, with complement \"010\" in binary, which is 2 in base-10.  \n",
    "\n",
    "Ex2:  \n",
    "Input: 7  \n",
    "Output: 0  \n",
    "Explanation: 7 is \"111\" in binary, with complement \"000\" in binary, which is 0 in base-10.  \n",
    "\n",
    "Ex3:  \n",
    "Input: 10  \n",
    "Output: 5  \n",
    "Explanation: 10 is \"1010\" in binary, with complement \"0101\" in binary, which is 5 in base-10."
   ]
  },
  {
   "cell_type": "markdown",
   "metadata": {},
   "source": [
    "* 解題想法：  \n",
    "由於要轉換為二進位後再找出補數，最後再將補數重新轉換為十進位數字，就是這題求的答案"
   ]
  },
  {
   "cell_type": "code",
   "execution_count": null,
   "metadata": {},
   "outputs": [],
   "source": [
    "class Solution:\n",
    "    def bitwiseComplement(self, N: int) -> int:\n",
    "        binary = bin(N)[2:]\n",
    "        reverse = ''\n",
    "        for b in binary:\n",
    "            if b == '0':\n",
    "                reverse += '1'\n",
    "            else:\n",
    "                reverse += '0'\n",
    "        result = int(reverse, 2)\n",
    "        return result"
   ]
  }
 ],
 "metadata": {
  "kernelspec": {
   "display_name": "Python 3",
   "language": "python",
   "name": "python3"
  },
  "language_info": {
   "codemirror_mode": {
    "name": "ipython",
    "version": 3
   },
   "file_extension": ".py",
   "mimetype": "text/x-python",
   "name": "python",
   "nbconvert_exporter": "python",
   "pygments_lexer": "ipython3",
   "version": "3.8.3"
  }
 },
 "nbformat": 4,
 "nbformat_minor": 4
}
