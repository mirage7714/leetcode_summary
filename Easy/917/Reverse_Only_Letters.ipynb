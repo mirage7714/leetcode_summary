{
 "cells": [
  {
   "cell_type": "markdown",
   "metadata": {},
   "source": [
    "# 917題中主要是要將一個字串內的字母順序進行調換，而其他符號順序不變\n",
    "原題目連結: https://leetcode.com/problems/reverse-only-letters/  \n",
    "例如以下範例:  \n",
    "Ex1:  \n",
    "Input: \"ab-cd\"  \n",
    "Output: \"dc-ba\"  \n",
    "\n",
    "Ex2:  \n",
    "Input: \"a-bC-dEf-ghIj\"  \n",
    "Output: \"j-Ih-gfE-dCba\"\n",
    "  \n",
    "EX3:  \n",
    "Input: \"Test1ng-Leet=code-Q!\"  \n",
    "Output: \"Qedo1ct-eeLg=ntse-T!\""
   ]
  },
  {
   "cell_type": "markdown",
   "metadata": {},
   "source": [
    "* 解題想法：  \n",
    "建立一個list，將所有英文字母用插入的方式放到第一個位置，就會得到字母反向的排序（或是將所有字母放入list後，將list進行reverse)  \n",
    "另外建立一個非字母的dict，將字元與位置放入  \n",
    "最後依照原本字串長度，重新建立新的字串\n"
   ]
  },
  {
   "cell_type": "code",
   "execution_count": 1,
   "metadata": {},
   "outputs": [],
   "source": [
    "def reverseOnlyLetters(self, S: str) -> str:\n",
    "    letters = ['a','b','c','d','e','f','g','h','i','j','k','l','m',\n",
    "                   'n','o','p','q','r','s','t','u','v','w','x','y','z',\n",
    "                   'A','B','C','D','E','F','G','H','I','J','K','L','M',\n",
    "                   'N','O','P','Q','R','S','T','U','V','W','X','Y','Z'\n",
    "                  ]\n",
    "    others = {}\n",
    "    reverse = []\n",
    "    result = ''\n",
    "    index = 0\n",
    "    for n in range(len(S)):\n",
    "        if S[n] not in letters:\n",
    "            others[n] = S[n]\n",
    "        else:\n",
    "            reverse.insert(0,S[n])\n",
    "    for m in range(len(S)):\n",
    "        if m in others.keys():\n",
    "            result += others.get(m)\n",
    "        else:\n",
    "            result += reverse[index]\n",
    "            index += 1\n",
    "    return result"
   ]
  },
  {
   "cell_type": "code",
   "execution_count": null,
   "metadata": {},
   "outputs": [],
   "source": []
  }
 ],
 "metadata": {
  "kernelspec": {
   "display_name": "Python 3",
   "language": "python",
   "name": "python3"
  },
  "language_info": {
   "codemirror_mode": {
    "name": "ipython",
    "version": 3
   },
   "file_extension": ".py",
   "mimetype": "text/x-python",
   "name": "python",
   "nbconvert_exporter": "python",
   "pygments_lexer": "ipython3",
   "version": "3.8.3"
  }
 },
 "nbformat": 4,
 "nbformat_minor": 2
}
