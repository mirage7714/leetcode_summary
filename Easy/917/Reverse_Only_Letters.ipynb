{
 "cells": [
  {
   "cell_type": "markdown",
   "metadata": {},
   "source": [
    "# 917題中主要是要將一個字串內的字母順序進行調換，而其他符號順序不變\n",
    "原題目連結: https://leetcode.com/problems/reverse-only-letters/  \n",
    "例如以下範例:  \n",
    "Ex1:  \n",
    "Input: \"ab-cd\"  \n",
    "Output: \"dc-ba\"  \n",
    "\n",
    "Ex2:  \n",
    "Input: \"a-bC-dEf-ghIj\"  \n",
    "Output: \"j-Ih-gfE-dCba\"\n",
    "  \n",
    "EX3:  \n",
    "Input: \"Test1ng-Leet=code-Q!\"  \n",
    "Output: \"Qedo1ct-eeLg=ntse-T!\""
   ]
  },
  {
   "cell_type": "code",
   "execution_count": null,
   "metadata": {},
   "outputs": [],
   "source": []
  }
 ],
 "metadata": {
  "kernelspec": {
   "display_name": "Python 3",
   "language": "python",
   "name": "python3"
  },
  "language_info": {
   "codemirror_mode": {
    "name": "ipython",
    "version": 3
   },
   "file_extension": ".py",
   "mimetype": "text/x-python",
   "name": "python",
   "nbconvert_exporter": "python",
   "pygments_lexer": "ipython3",
   "version": "3.7.4"
  }
 },
 "nbformat": 4,
 "nbformat_minor": 2
}
