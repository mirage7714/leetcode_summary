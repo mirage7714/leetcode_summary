{
 "cells": [
  {
   "cell_type": "markdown",
   "metadata": {},
   "source": [
    "# 本題要將人用身高進行排序\n",
    "原題目連結: https://leetcode.com/problems/sort-the-people/   \n",
    "\n",
    "You are given an array of strings names, and an array heights that consists of distinct positive integers. Both arrays are of length n.  \n",
    "For each index i, names[i] and heights[i] denote the name and height of the ith person.  \n",
    "Return names sorted in descending order by the people's heights.  \n",
    "\n",
    "範例:  \n",
    "Ex1:  \n",
    "Input: names = [\"Mary\",\"John\",\"Emma\"], heights = [180,165,170]  \n",
    "Output: [\"Mary\",\"Emma\",\"John\"]  \n",
    "Explanation: Mary is the tallest, followed by Emma and John.  \n",
    "\n",
    "Ex2:  \n",
    "Input: names = [\"Alice\",\"Bob\",\"Bob\"], heights = [155,185,150]  \n",
    "Output: [\"Bob\",\"Alice\",\"Bob\"]  \n",
    "Explanation: The first Bob is the tallest, followed by Alice and the second Bob."
   ]
  },
  {
   "cell_type": "markdown",
   "metadata": {},
   "source": [
    "* 解題想法:   \n",
    "首先把人與身高的對應建立成一個list，將list排序之後將人取出並放入一個新的list，最後回傳新的list"
   ]
  },
  {
   "cell_type": "code",
   "execution_count": null,
   "metadata": {},
   "outputs": [],
   "source": [
    "class Solution:\n",
    "    def sortPeople(self, names: List[str], heights: List[int]) -> List[str]:\n",
    "        people = []\n",
    "        result = []\n",
    "        for n in range(len(names)):\n",
    "            people.append([heights[n], names[n]])\n",
    "        people.sort(reverse = True)\n",
    "        for p in people:\n",
    "            result.append(p[1])\n",
    "        return result"
   ]
  }
 ],
 "metadata": {
  "kernelspec": {
   "display_name": "Python 3",
   "language": "python",
   "name": "python3"
  },
  "language_info": {
   "codemirror_mode": {
    "name": "ipython",
    "version": 3
   },
   "file_extension": ".py",
   "mimetype": "text/x-python",
   "name": "python",
   "nbconvert_exporter": "python",
   "pygments_lexer": "ipython3",
   "version": "3.7.4"
  }
 },
 "nbformat": 4,
 "nbformat_minor": 4
}
