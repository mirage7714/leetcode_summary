{
 "cells": [
  {
   "cell_type": "markdown",
   "metadata": {},
   "source": [
    "# 本題要找出一個數字，可以滿足在這個array中有剛好n個數字大於或等於n\n",
    "原題目連結： https://leetcode.com/problems/special-array-with-x-elements-greater-than-or-equal-x/  \n",
    "\n",
    "範例：  \n",
    "Ex1:  \n",
    "Input: nums = [3,5]  \n",
    "Output: 2  \n",
    "Explanation: There are 2 values (3 and 5) that are greater than or equal to 2.  \n",
    "\n",
    "Ex2:  \n",
    "Input: nums = [0,0]  \n",
    "Output: -1  \n",
    "Explanation: No numbers fit the criteria for x.  \n",
    "If x = 0, there should be 0 numbers >= x, but there are 2.  \n",
    "If x = 1, there should be 1 number >= x, but there are 0.  \n",
    "If x = 2, there should be 2 numbers >= x, but there are 0.  \n",
    "x cannot be greater since there are only 2 numbers in nums.  \n",
    "\n",
    "Ex3:  \n",
    "Input: nums = [0,4,3,0,4]  \n",
    "Output: 3  \n",
    "Explanation: There are 3 values that are greater than or equal to 3.  \n",
    "\n",
    "Ex4:  \n",
    "Input: nums = [3,6,7,7,0]  \n",
    "Output: -1  "
   ]
  },
  {
   "cell_type": "markdown",
   "metadata": {},
   "source": [
    "* 解題想法：  \n",
    "為了要找出在array中有n個數字大於n，首先使用一個迴圈，從1~迴圈長度開始跑  \n",
    "內層用一個迴圈找出大於或等於n的數字並進行統計，最後如果找到n的話就回傳n，不然就是回傳-1"
   ]
  },
  {
   "cell_type": "code",
   "execution_count": null,
   "metadata": {},
   "outputs": [],
   "source": [
    "class Solution:\n",
    "    def specialArray(self, nums: List[int]) -> int:\n",
    "        magic = []\n",
    "        for m in range(1, len(nums)+1):\n",
    "            total = 0\n",
    "            for n in range(len(nums)):\n",
    "                if nums[n] >= m:\n",
    "                    total += 1\n",
    "            if total == m:\n",
    "                magic.append(total)\n",
    "                \n",
    "        if len(magic) == 0:\n",
    "            return -1\n",
    "        else:\n",
    "            return magic[0]\n",
    "            "
   ]
  }
 ],
 "metadata": {
  "kernelspec": {
   "display_name": "Python 3",
   "language": "python",
   "name": "python3"
  },
  "language_info": {
   "codemirror_mode": {
    "name": "ipython",
    "version": 3
   },
   "file_extension": ".py",
   "mimetype": "text/x-python",
   "name": "python",
   "nbconvert_exporter": "python",
   "pygments_lexer": "ipython3",
   "version": "3.8.3"
  }
 },
 "nbformat": 4,
 "nbformat_minor": 4
}
