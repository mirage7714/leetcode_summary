{
 "cells": [
  {
   "cell_type": "markdown",
   "metadata": {},
   "source": [
    "# 本題要找出最少的移動次數來將所有的數字移動到同一個欄位\n",
    "原題目連結: https://leetcode.com/problems/minimum-cost-to-move-chips-to-the-same-position/  \n",
    "\n",
    "We have n chips, where the position of the ith chip is position[i].  \n",
    "\n",
    "We need to move all the chips to the same position. In one step, we can change the position of the ith chip from position[i] to:  \n",
    "\n",
    "position[i] + 2 or position[i] - 2 with cost = 0.  \n",
    "position[i] + 1 or position[i] - 1 with cost = 1.  \n",
    "Return the minimum cost needed to move all the chips to the same position.  \n",
    "\n",
    "範例:  \n",
    "Ex1:  \n",
    "Input: position = [1,2,3]  \n",
    "Output: 1  \n",
    "Explanation: First step: Move the chip at position 3 to position 1 with cost = 0.  \n",
    "Second step: Move the chip at position 2 to position 1 with cost = 1.  \n",
    "Total cost is 1.  \n",
    "\n",
    "Ex2:  \n",
    "Input: position = [2,2,2,3,3]  \n",
    "Output: 2  \n",
    "Explanation: We can move the two chips at position  3 to position 2. Each move has cost = 1. The total cost = 2.  \n",
    "\n",
    "Ex3:  \n",
    "Input: position = [1,1000000000]  \n",
    "Output: 1"
   ]
  },
  {
   "cell_type": "markdown",
   "metadata": {},
   "source": [
    "* 解題想法:  \n",
    "依題目說明，如果間隔是2的情況下，則移動是不需要移動成本的，而間隔為1則需要1的移動成本，因此可以重新將題目的數字分類為奇數與偶數的情況  \n",
    "首先使用一個dict來統計list中奇數與偶數的出現次數比，如果奇數與偶數都有出現的情況下，則最少的移動次數為dict中value最小的值，如果只有出現單一種結果的話，則總移動成本為0"
   ]
  },
  {
   "cell_type": "code",
   "execution_count": null,
   "metadata": {},
   "outputs": [],
   "source": [
    "class Solution:\n",
    "    def minCostToMoveChips(self, position: List[int]) -> int:\n",
    "        freq = {}\n",
    "        count = 0\n",
    "        for p in position:\n",
    "            if p % 2 == 0:\n",
    "                if 'e' not in freq.keys():\n",
    "                    freq['e'] = 1\n",
    "                else:\n",
    "                    freq['e'] += 1\n",
    "            else:\n",
    "                if 'o' not in freq.keys():\n",
    "                    freq['o'] = 1\n",
    "                else:\n",
    "                    freq['o'] += 1\n",
    "        if len(freq.values()) == 2:\n",
    "            count = min(list(freq.values()))\n",
    "        return count"
   ]
  }
 ],
 "metadata": {
  "kernelspec": {
   "display_name": "Python 3",
   "language": "python",
   "name": "python3"
  },
  "language_info": {
   "codemirror_mode": {
    "name": "ipython",
    "version": 3
   },
   "file_extension": ".py",
   "mimetype": "text/x-python",
   "name": "python",
   "nbconvert_exporter": "python",
   "pygments_lexer": "ipython3",
   "version": "3.7.4"
  }
 },
 "nbformat": 4,
 "nbformat_minor": 2
}
