{
 "cells": [
  {
   "cell_type": "markdown",
   "metadata": {},
   "source": [
    "# 本題要實作一個可以計算在指定時間內共有幾個call的功能\n",
    "原題目連結: https://leetcode.com/problems/number-of-recent-calls/  \n",
    "\n",
    "You have a RecentCounter class which counts the number of recent requests within a certain time frame.  \n",
    "\n",
    "Implement the RecentCounter class:  \n",
    "\n",
    "RecentCounter() Initializes the counter with zero recent requests.  \n",
    "int ping(int t) Adds a new request at time t, where t represents some time in milliseconds, and returns the number of requests that has happened in the past 3000 milliseconds (including the new request). Specifically, return the number of requests that have happened in the inclusive range [t - 3000, t].  \n",
    "It is guaranteed that every call to ping uses a strictly larger value of t than the previous call.  \n",
    "\n",
    "範例:  \n",
    "Ex1:  \n",
    "Input  \n",
    "[\"RecentCounter\", \"ping\", \"ping\", \"ping\", \"ping\"]  \n",
    "[[], [1], [100], [3001], [3002]]  \n",
    "Output  \n",
    "[null, 1, 2, 3, 3]  \n",
    "\n",
    "Explanation  \n",
    "RecentCounter recentCounter = new RecentCounter();   \n",
    "recentCounter.ping(1);     // requests = [1], range is [-2999,1], return 1  \n",
    "recentCounter.ping(100);   // requests = [1, 100], range is [-2900,100], return 2  \n",
    "recentCounter.ping(3001);  // requests = [1, 100, 3001], range is [1,3001], return 3  \n",
    "recentCounter.ping(3002);  // requests = [1, 100, 3001, 3002], range is [2,3002], return 3"
   ]
  },
  {
   "cell_type": "markdown",
   "metadata": {},
   "source": [
    "* 解題想法:  \n",
    "首先用一個list來存放資料，並將list轉換為heapq，接著開始實作需要的功能:  \n",
    "- ping(): 如果當list為空時，則直接將t塞入queue中，而如果queue中有值的時候，則用while迴圈從queue中取值並檢查與t的差值是否小於或等於3000，如果符合則將數值放回並中斷迴圈，最後將t放入queue中，最後回傳queue的長度就是答案"
   ]
  },
  {
   "cell_type": "code",
   "execution_count": null,
   "metadata": {},
   "outputs": [],
   "source": [
    "import heapq\n",
    "class RecentCounter:\n",
    "\n",
    "    def __init__(self):\n",
    "        self.count = []\n",
    "        heapq.heapify(self.count)\n",
    "\n",
    "    def ping(self, t: int) -> int:\n",
    "        if not self.count:\n",
    "            heapq.heappush(self.count, t)\n",
    "        else:\n",
    "            while self.count:\n",
    "                n = heapq.heappop(self.count)\n",
    "                if t - n <= 3000:\n",
    "                    heapq.heappush(self.count, n)\n",
    "                    break\n",
    "            heapq.heappush(self.count, t)\n",
    "        return len(self.count)\n",
    "\n",
    "\n",
    "# Your RecentCounter object will be instantiated and called as such:\n",
    "# obj = RecentCounter()\n",
    "# param_1 = obj.ping(t)"
   ]
  }
 ],
 "metadata": {
  "kernelspec": {
   "display_name": "Python 3",
   "language": "python",
   "name": "python3"
  },
  "language_info": {
   "codemirror_mode": {
    "name": "ipython",
    "version": 3
   },
   "file_extension": ".py",
   "mimetype": "text/x-python",
   "name": "python",
   "nbconvert_exporter": "python",
   "pygments_lexer": "ipython3",
   "version": "3.7.4"
  }
 },
 "nbformat": 4,
 "nbformat_minor": 4
}
