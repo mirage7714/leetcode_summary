{
 "cells": [
  {
   "cell_type": "markdown",
   "metadata": {},
   "source": [
    "# 檢查所有的點是不是在同一條直線上\n",
    "原題目連結：https://leetcode.com/problems/check-if-it-is-a-straight-line/  \n",
    "例如：  \n",
    "Ex1:  \n",
    "Input: coordinates = [[1,2],[2,3],[3,4],[4,5],[5,6],[6,7]]  \n",
    "Output: true  \n",
    "\n",
    "Ex2:  \n",
    "Input: coordinates = [[1,1],[2,2],[3,4],[4,5],[5,6],[7,7]]  \n",
    "Output: false  "
   ]
  },
  {
   "cell_type": "markdown",
   "metadata": {},
   "source": [
    "* 解題想法：  \n",
    "找出各點間的斜率，如果所有點之間斜率相同則是在同一條線上，如果兩點斜率不同，則所有的點不會在同一條直線上  \n",
    "\n",
    "另外在計算斜率過程有可能遇上除數為0的情況，需要用例外判斷進行處理，並將斜率轉換為一個很大的數值，來代表無限大"
   ]
  },
  {
   "cell_type": "code",
   "execution_count": null,
   "metadata": {},
   "outputs": [],
   "source": [
    "class Solution:\n",
    "    def checkStraightLine(self, coordinates: List[List[int]]) -> bool:\n",
    "        is_online = True\n",
    "        for n in range(len(coordinates)-2):\n",
    "            s1 = 0\n",
    "            s2 = 0\n",
    "            try:\n",
    "                s1 = (coordinates[n+1][1] - coordinates[0][1]) / (coordinates[n+1][0]- coordinates[0][0])\n",
    "            except ZeroDivisionError:\n",
    "                s1 = 99999999\n",
    "            try:\n",
    "                s2 = (coordinates[n+2][1] - coordinates[0][1]) / (coordinates[n+2][0]- coordinates[0][0])\n",
    "            except ZeroDivisionError:\n",
    "                s2 = 99999999\n",
    "            if s1!= s2:\n",
    "                is_online = False\n",
    "                break\n",
    "                \n",
    "        return is_online"
   ]
  }
 ],
 "metadata": {
  "kernelspec": {
   "display_name": "Python 3",
   "language": "python",
   "name": "python3"
  },
  "language_info": {
   "codemirror_mode": {
    "name": "ipython",
    "version": 3
   },
   "file_extension": ".py",
   "mimetype": "text/x-python",
   "name": "python",
   "nbconvert_exporter": "python",
   "pygments_lexer": "ipython3",
   "version": "3.8.3"
  }
 },
 "nbformat": 4,
 "nbformat_minor": 4
}
