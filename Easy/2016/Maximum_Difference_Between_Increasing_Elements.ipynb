{
 "cells": [
  {
   "cell_type": "markdown",
   "metadata": {},
   "source": [
    "# 本題要找出list中最大與最小值的差別\n",
    "原題目連結: https://leetcode.com/problems/maximum-difference-between-increasing-elements/  \n",
    "\n",
    "Given a 0-indexed integer array nums of size n, find the maximum difference between nums[i] and nums[j] (i.e., nums[j] - nums[i]), such that 0 <= i < j < n and nums[i] < nums[j].  \n",
    "\n",
    "Return the maximum difference. If no such i and j exists, return -1.  \n",
    "\n",
    "範例:  \n",
    "Ex1:  \n",
    "Input: nums = [7,1,5,4]  \n",
    "Output: 4  \n",
    "Explanation:  \n",
    "The maximum difference occurs with i = 1 and j = 2, nums[j] - nums[i] = 5 - 1 = 4.  \n",
    "Note that with i = 1 and j = 0, the difference nums[j] - nums[i] = 7 - 1 = 6, but i > j, so it is not valid.  \n",
    "\n",
    "Ex2:  \n",
    "Input: nums = [9,4,3,2]  \n",
    "Output: -1  \n",
    "Explanation:  \n",
    "There is no i and j such that i < j and nums[i] < nums[j].  \n",
    "\n",
    "Ex3:  \n",
    "Input: nums = [1,5,2,10]  \n",
    "Output: 9  \n",
    "Explanation:  \n",
    "The maximum difference occurs with i = 0 and j = 3, nums[j] - nums[i] = 10 - 1 = 9."
   ]
  },
  {
   "cell_type": "markdown",
   "metadata": {},
   "source": [
    "* 解題想法:  \n",
    "由於題目要求必須要以index大的值減去index小的值，因此首先找出了小的數值後，接著將後面的sub-list中最大值找出，並確認兩者的大小關係為何  \n",
    "最後如果都沒有符合條件的情況，則回傳-1"
   ]
  },
  {
   "cell_type": "code",
   "execution_count": null,
   "metadata": {},
   "outputs": [],
   "source": [
    "class Solution:\n",
    "    def maximumDifference(self, nums: List[int]) -> int:\n",
    "        result = -1\n",
    "        for n in range(len(nums)-1):\n",
    "            p = nums[n+1:]\n",
    "            if max(p) > nums[n]:\n",
    "                d = max(p) - nums[n]\n",
    "                if d > result:\n",
    "                    result = d\n",
    "        return result"
   ]
  }
 ],
 "metadata": {
  "kernelspec": {
   "display_name": "Python 3",
   "language": "python",
   "name": "python3"
  },
  "language_info": {
   "codemirror_mode": {
    "name": "ipython",
    "version": 3
   },
   "file_extension": ".py",
   "mimetype": "text/x-python",
   "name": "python",
   "nbconvert_exporter": "python",
   "pygments_lexer": "ipython3",
   "version": "3.7.4"
  }
 },
 "nbformat": 4,
 "nbformat_minor": 4
}
