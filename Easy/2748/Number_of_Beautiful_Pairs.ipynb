{
 "cells": [
  {
   "cell_type": "markdown",
   "id": "c6869c9c-8a54-4002-90df-b644ecc5efac",
   "metadata": {},
   "source": [
    "# 本題要找出符合要求的數字配對共有幾組 (\\#Array)\n",
    "原題目連結: https://leetcode.com/problems/number-of-beautiful-pairs/description/  \n",
    "\n",
    "You are given a 0-indexed integer array nums. A pair of indices i, j where 0 <= i < j < nums.length is called beautiful if the first digit of nums[i] and the last digit of nums[j] are coprime.  \n",
    "\n",
    "Return the total number of beautiful pairs in nums.  \n",
    "Two integers x and y are coprime if there is no integer greater than 1 that divides both of them. In other words, x and y are coprime if gcd(x, y) == 1, where gcd(x, y) is the greatest common divisor of x and y.  \n",
    "\n",
    "範例:  \n",
    "Ex1:  \n",
    "Input: nums = [2,5,1,4]  \n",
    "Output: 5  \n",
    "Explanation: There are 5 beautiful pairs in nums:  \n",
    "When i = 0 and j = 1: the first digit of nums[0] is 2, and the last digit of nums[1] is 5. We can confirm that 2 and 5 are coprime, since gcd(2,5) == 1.  \n",
    "When i = 0 and j = 2: the first digit of nums[0] is 2, and the last digit of nums[2] is 1. Indeed, gcd(2,1) == 1.  \n",
    "When i = 1 and j = 2: the first digit of nums[1] is 5, and the last digit of nums[2] is 1. Indeed, gcd(5,1) == 1.  \n",
    "When i = 1 and j = 3: the first digit of nums[1] is 5, and the last digit of nums[3] is 4. Indeed, gcd(5,4) == 1.  \n",
    "When i = 2 and j = 3: the first digit of nums[2] is 1, and the last digit of nums[3] is 4. Indeed, gcd(1,4) == 1.  \n",
    "Thus, we return 5.  \n",
    "\n",
    "Ex2:  \n",
    "Input: nums = [11,21,12]  \n",
    "Output: 2  \n",
    "Explanation: There are 2 beautiful pairs:  \n",
    "When i = 0 and j = 1: the first digit of nums[0] is 1, and the last digit of nums[1] is 1. Indeed, gcd(1,1) == 1.  \n",
    "When i = 0 and j = 2: the first digit of nums[0] is 1, and the last digit of nums[2] is 2. Indeed, gcd(1,2) == 1.  \n",
    "Thus, we return 2."
   ]
  },
  {
   "cell_type": "markdown",
   "id": "13305b45-3764-4b8a-90c6-cbd262ad8634",
   "metadata": {},
   "source": [
    "* 解題想法:  \n",
    "依題目要求，檢查的是一個數字的第一個數字與第二個數字的最後一個數字的GCD是否為1，因此建立一個函數用來判斷兩個數字的GCD:  \n",
    "\n",
    "    - 如果兩數相等，則GCD為num1  \n",
    "    - 如果兩數相除為0，則GCD為較小的數字  \n",
    "    - 如果兩數都為2的倍數，則GCD為2  \n",
    "    - 如果兩數都為3的倍數，則GCD為3  \n",
    "    - 最後如果都不符合，則GCD為1  "
   ]
  },
  {
   "cell_type": "code",
   "execution_count": null,
   "id": "431f003c-70a6-425a-93f5-ee3cbf337a0f",
   "metadata": {},
   "outputs": [],
   "source": [
    "class Solution:\n",
    "    def countBeautifulPairs(self, nums: List[int]) -> int:\n",
    "        def checkGCD(num1, num2):\n",
    "            if num1 == num2:\n",
    "                return num1\n",
    "            else:\n",
    "                if num1 % num2 == 0 or num2 % num1 == 0:\n",
    "                    return min(num1, num2)\n",
    "                elif num1 % 2 == 0 and num2 % 2 == 0:\n",
    "                    return 2\n",
    "                elif num1 % 3 == 0 and num2 % 3 == 0:\n",
    "                    return 3\n",
    "                else:\n",
    "                    return 1\n",
    "                \n",
    "        res = 0\n",
    "        for i in range(len(nums)-1):\n",
    "            for j in range(i+1, len(nums)):\n",
    "                if checkGCD(int(str(nums[i])[0]), int(str(nums[j])[-1])) == 1:\n",
    "                    res += 1\n",
    "        return res"
   ]
  }
 ],
 "metadata": {
  "kernelspec": {
   "display_name": "Python 3 (ipykernel)",
   "language": "python",
   "name": "python3"
  },
  "language_info": {
   "codemirror_mode": {
    "name": "ipython",
    "version": 3
   },
   "file_extension": ".py",
   "mimetype": "text/x-python",
   "name": "python",
   "nbconvert_exporter": "python",
   "pygments_lexer": "ipython3",
   "version": "3.9.13"
  }
 },
 "nbformat": 4,
 "nbformat_minor": 5
}
