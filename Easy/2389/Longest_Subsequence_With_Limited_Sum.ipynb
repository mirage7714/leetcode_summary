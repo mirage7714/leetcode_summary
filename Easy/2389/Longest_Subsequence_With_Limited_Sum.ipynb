{
 "cells": [
  {
   "cell_type": "markdown",
   "metadata": {},
   "source": [
    "# 本題要找出在指定的總和下，最長可以有多少個元素\n",
    "原題目連結: https://leetcode.com/problems/longest-subsequence-with-limited-sum/  \n",
    "\n",
    "You are given an integer array nums of length n, and an integer array queries of length m.  \n",
    "Return an array answer of length m where answer[i] is the maximum size of a subsequence that you can take from nums such that the sum of its elements is less than or equal to queries[i].  \n",
    "A subsequence is an array that can be derived from another array by deleting some or no elements without changing the order of the remaining elements.  \n",
    "\n",
    "範例:  \n",
    "Ex1:  \n",
    "Input: nums = [4,5,2,1], queries = [3,10,21]   \n",
    "Output: [2,3,4]  \n",
    "Explanation: We answer the queries as follows:  \n",
    "- The subsequence [2,1] has a sum less than or equal to 3. It can be proven that 2 is the maximum size of such a subsequence, so answer[0] = 2.  \n",
    "- The subsequence [4,5,1] has a sum less than or equal to 10. It can be proven that 3 is the maximum size of such a subsequence, so answer[1] = 3.  \n",
    "- The subsequence [4,5,2,1] has a sum less than or equal to 21. It can be proven that 4 is the maximum size of such a subsequence, so answer[2] = 4.  \n",
    "\n",
    "Ex2:  \n",
    "Input: nums = [2,3,4,5], queries = [1]  \n",
    "Output: [0]  \n",
    "Explanation: The empty subsequence is the only subsequence that has a sum less than or equal to 1, so answer[0] = 0."
   ]
  },
  {
   "cell_type": "markdown",
   "metadata": {},
   "source": [
    "* 解題想法:  \n",
    "首先用一個stack來存放符合大小總和的數值，如果遇到數值超過時，則檢查這個數值與list中最大值的大小，如果這個數值小於目前的最大值，則將最大值移除並換成這個較小的數值，最後回傳list的長度"
   ]
  },
  {
   "cell_type": "code",
   "execution_count": null,
   "metadata": {},
   "outputs": [],
   "source": [
    "class Solution:\n",
    "    def answerQueries(self, nums: List[int], queries: List[int]) -> List[int]:\n",
    "        result = []\n",
    "        temp = {}\n",
    "        for q in queries:\n",
    "            if q not in temp.keys():\n",
    "                r = q\n",
    "                stack = []\n",
    "                for n in nums:\n",
    "                    if q - n >= 0:\n",
    "                        stack.append(n)\n",
    "                        q -= n\n",
    "                    else:\n",
    "                        if stack:\n",
    "                            m = max(stack)\n",
    "                            if n < m:\n",
    "                                q += m-n\n",
    "                                stack.pop(stack.index(m))\n",
    "                                stack.append(n)\n",
    "                result.append(len(stack))\n",
    "                temp[r] = len(stack)\n",
    "            else:\n",
    "                result.append(temp[q])            \n",
    "        return result"
   ]
  }
 ],
 "metadata": {
  "kernelspec": {
   "display_name": "Python 3",
   "language": "python",
   "name": "python3"
  },
  "language_info": {
   "codemirror_mode": {
    "name": "ipython",
    "version": 3
   },
   "file_extension": ".py",
   "mimetype": "text/x-python",
   "name": "python",
   "nbconvert_exporter": "python",
   "pygments_lexer": "ipython3",
   "version": "3.7.4"
  }
 },
 "nbformat": 4,
 "nbformat_minor": 4
}
