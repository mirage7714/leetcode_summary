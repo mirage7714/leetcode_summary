{
 "cells": [
  {
   "cell_type": "markdown",
   "metadata": {},
   "source": [
    "# 本題要判斷matrix是否符合指定的格式\n",
    "原題目連結: https://leetcode.com/problems/check-if-matrix-is-x-matrix/  \n",
    "\n",
    "A square matrix is said to be an X-Matrix if both of the following conditions hold:  \n",
    "\n",
    "All the elements in the diagonals of the matrix are non-zero.  \n",
    "All other elements are 0.  \n",
    "Given a 2D integer array grid of size n x n representing a square matrix, return true if grid is an X-Matrix. Otherwise, return false.  \n",
    "\n",
    "範例:  \n",
    "Ex1:  \n",
    "Input: grid = [[2,0,0,1],[0,3,1,0],[0,5,2,0],[4,0,0,2]]  \n",
    "Output: true  \n",
    "Explanation: Refer to the diagram above.   \n",
    "An X-Matrix should have the green elements (diagonals) be non-zero and the red elements be 0.  \n",
    "Thus, grid is an X-Matrix.  \n",
    "\n",
    "Ex2:  \n",
    "Input: grid = [[5,7,0],[0,3,1],[0,5,0]]  \n",
    "Output: false  \n",
    "Explanation: Refer to the diagram above.  \n",
    "An X-Matrix should have the green elements (diagonals) be non-zero and the red elements be 0.  \n",
    "Thus, grid is not an X-Matrix."
   ]
  },
  {
   "cell_type": "markdown",
   "metadata": {},
   "source": [
    "* 解題想法:  \n",
    "首先建立一個list，用來存放對應的值是0或是大於0，接著開始用迴圈去比較matrix中的每一行是否符合規則，在進入下一列的時候則更新list中對應非0的位置，如果其中有一列不符合規則則中斷迴圈並回傳False，直到全部結束都符合規則就回傳True"
   ]
  },
  {
   "cell_type": "code",
   "execution_count": null,
   "metadata": {},
   "outputs": [],
   "source": [
    "class Solution:\n",
    "    def checkXMatrix(self, grid: List[List[int]]) -> bool:\n",
    "        is_valid = True\n",
    "        pattern = [0, len(grid)-1]\n",
    "        for m in range(len(grid)):\n",
    "            for n in range(len(grid[m])):\n",
    "                if grid[m][n] > 0 and n not in pattern:\n",
    "                    is_valid = False\n",
    "                elif grid[m][n] == 0 and n in pattern:\n",
    "                    is_valid = False\n",
    "            pattern[0] += 1\n",
    "            pattern[1] -= 1\n",
    "            if not is_valid:\n",
    "                break\n",
    "        return is_valid"
   ]
  }
 ],
 "metadata": {
  "kernelspec": {
   "display_name": "Python 3",
   "language": "python",
   "name": "python3"
  },
  "language_info": {
   "codemirror_mode": {
    "name": "ipython",
    "version": 3
   },
   "file_extension": ".py",
   "mimetype": "text/x-python",
   "name": "python",
   "nbconvert_exporter": "python",
   "pygments_lexer": "ipython3",
   "version": "3.7.4"
  }
 },
 "nbformat": 4,
 "nbformat_minor": 4
}
