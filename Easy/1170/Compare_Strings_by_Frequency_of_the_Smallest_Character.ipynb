{
 "cells": [
  {
   "cell_type": "markdown",
   "metadata": {},
   "source": [
    "# 本題要找出array中最小的字母出現的頻率，並與另外一個array做比較\n",
    "原題目連結：https://leetcode.com/problems/compare-strings-by-frequency-of-the-smallest-character/  \n",
    "\n",
    "Let's define a function f(s) over a non-empty string s, which calculates the frequency of the smallest character in s. For example, if s = \"dcce\" then f(s) = 2 because the smallest character is \"c\" and its frequency is 2.  \n",
    "\n",
    "Now, given string arrays queries and words, return an integer array answer, where each answer[i] is the number of words such that f(queries[i]) < f(W), where W is a word in words.  \n",
    "\n",
    "範例：  \n",
    "Ex1:  \n",
    "Input: queries = [\"cbd\"], words = [\"zaaaz\"]  \n",
    "Output: [1]  \n",
    "Explanation: On the first query we have f(\"cbd\") = 1, f(\"zaaaz\") = 3 so f(\"cbd\") < f(\"zaaaz\").  \n",
    "\n",
    "Ex2:  \n",
    "Input: queries = [\"bbb\",\"cc\"], words = [\"a\",\"aa\",\"aaa\",\"aaaa\"]  \n",
    "Output: [1,2]  \n",
    "Explanation: On the first query only f(\"bbb\") < f(\"aaaa\"). On the second query both f(\"aaa\") and f(\"aaaa\") are both > f(\"cc\").\n"
   ]
  },
  {
   "cell_type": "markdown",
   "metadata": {},
   "source": [
    "* 解題想法：  \n",
    "因為題目中要找出第一個list中每個字母最小的字母出現的頻率，因此對每個字先進行計算詞頻後選出要的結果，對另外一個list也是相同的作法  \n",
    "最後將兩個list中的數字進行比較，就可以得到題目求的結果"
   ]
  },
  {
   "cell_type": "code",
   "execution_count": null,
   "metadata": {},
   "outputs": [],
   "source": [
    "class Solution:\n",
    "    def numSmallerByFrequency(self, queries: List[str], words: List[str]) -> List[int]:\n",
    "        result = []\n",
    "        freq_a = []\n",
    "        freq_b = []\n",
    "        for word in queries:\n",
    "            temp = {}\n",
    "            chars = []\n",
    "            for w in word:\n",
    "                chars.append(w)\n",
    "                if w not in temp.keys():\n",
    "                    temp[w] = 1\n",
    "                else:\n",
    "                    temp[w] += 1\n",
    "            chars.sort()\n",
    "            freq_a.append(temp[chars[0]])\n",
    "        for w in words:\n",
    "            temp = {}\n",
    "            chars = []\n",
    "            for m in w:\n",
    "                chars.append(m)\n",
    "                if m not in temp.keys():\n",
    "                    temp[m] = 1\n",
    "                else:\n",
    "                    temp[m] += 1\n",
    "            chars.sort()\n",
    "            freq_b.append(temp[chars[0]])\n",
    "        for a in freq_a:\n",
    "            count = 0\n",
    "            for b in freq_b:\n",
    "                if a < b:\n",
    "                    count += 1\n",
    "            result.append(count)\n",
    "        return result"
   ]
  }
 ],
 "metadata": {
  "kernelspec": {
   "display_name": "Python 3",
   "language": "python",
   "name": "python3"
  },
  "language_info": {
   "codemirror_mode": {
    "name": "ipython",
    "version": 3
   },
   "file_extension": ".py",
   "mimetype": "text/x-python",
   "name": "python",
   "nbconvert_exporter": "python",
   "pygments_lexer": "ipython3",
   "version": "3.8.3"
  }
 },
 "nbformat": 4,
 "nbformat_minor": 4
}
