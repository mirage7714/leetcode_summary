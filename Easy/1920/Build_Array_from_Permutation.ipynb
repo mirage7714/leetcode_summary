{
 "cells": [
  {
   "cell_type": "markdown",
   "metadata": {},
   "source": [
    "# 本題要依據題目的條件，建立一個新的array\n",
    "原題目連結: https://leetcode.com/problems/build-array-from-permutation/  \n",
    "\n",
    "Given a zero-based permutation nums (0-indexed), build an array ans of the same length where ans[i] = nums[nums[i]] for each 0 <= i < nums.length and return it.  \n",
    "\n",
    "A zero-based permutation nums is an array of distinct integers from 0 to nums.length - 1 (inclusive).  \n",
    "\n",
    "範例:  \n",
    "Ex1:  \n",
    "Input: nums = [0,2,1,5,3,4]  \n",
    "Output: [0,1,2,4,5,3]  \n",
    "Explanation: The array ans is built as follows:   \n",
    "ans = [nums[nums[0]], nums[nums[1]], nums[nums[2]], nums[nums[3]], nums[nums[4]], nums[nums[5]]]  \n",
    "    = [nums[0], nums[2], nums[1], nums[5], nums[3], nums[4]]  \n",
    "    = [0,1,2,4,5,3]  \n",
    "    \n",
    "Ex2:  \n",
    "Input: nums = [5,0,1,2,3,4]  \n",
    "Output: [4,5,0,1,2,3]  \n",
    "Explanation: The array ans is built as follows:  \n",
    "ans = [nums[nums[0]], nums[nums[1]], nums[nums[2]], nums[nums[3]], nums[nums[4]], nums[nums[5]]]  \n",
    "    = [nums[5], nums[0], nums[1], nums[2], nums[3], nums[4]]  \n",
    "    = [4,5,0,1,2,3]  "
   ]
  },
  {
   "cell_type": "markdown",
   "metadata": {},
   "source": [
    "* 解題想法:  \n",
    "依題目範例的說明，就是將指定的數變成下一個循環的值，其實照範例的算式寫答案就可以得出來了"
   ]
  },
  {
   "cell_type": "code",
   "execution_count": null,
   "metadata": {},
   "outputs": [],
   "source": [
    "class Solution:\n",
    "    def buildArray(self, nums: List[int]) -> List[int]:\n",
    "        result = []\n",
    "        for n in range(len(nums)):\n",
    "            result.append(nums[nums[n]])\n",
    "        return result"
   ]
  }
 ],
 "metadata": {
  "kernelspec": {
   "display_name": "Python 3",
   "language": "python",
   "name": "python3"
  },
  "language_info": {
   "codemirror_mode": {
    "name": "ipython",
    "version": 3
   },
   "file_extension": ".py",
   "mimetype": "text/x-python",
   "name": "python",
   "nbconvert_exporter": "python",
   "pygments_lexer": "ipython3",
   "version": "3.7.4"
  }
 },
 "nbformat": 4,
 "nbformat_minor": 2
}
