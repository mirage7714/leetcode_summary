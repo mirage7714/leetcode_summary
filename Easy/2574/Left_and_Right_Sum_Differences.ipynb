{
 "cells": [
  {
   "cell_type": "markdown",
   "metadata": {},
   "source": [
    "# 本題要找出左側與右側和的絕對值 (\\#Array, \\#Math)\n",
    "原題目連結: https://leetcode.com/problems/left-and-right-sum-differences/description/  \n",
    "\n",
    "Given a 0-indexed integer array nums, find a 0-indexed integer array answer where:  \n",
    "\n",
    "answer.length == nums.length.  \n",
    "answer[i] = |leftSum[i] - rightSum[i]|.  \n",
    "Where:  \n",
    "\n",
    "leftSum[i] is the sum of elements to the left of the index i in the array nums. If there is no such element, leftSum[i] = 0.  \n",
    "rightSum[i] is the sum of elements to the right of the index i in the array nums. If there is no such element, rightSum[i] = 0.  \n",
    "Return the array answer.  \n",
    "\n",
    "範例:  \n",
    "Ex1:  \n",
    "Input: nums = [10,4,8,3]  \n",
    "Output: [15,1,11,22]  \n",
    "Explanation: The array leftSum is [0,10,14,22] and the array rightSum is [15,11,3,0].  \n",
    "The array answer is [|0 - 15|,|10 - 11|,|14 - 3|,|22 - 0|] = [15,1,11,22].  \n",
    "\n",
    "Ex2:  \n",
    "Input: nums = [1]  \n",
    "Output: [0]  \n",
    "Explanation: The array leftSum is [0] and the array rightSum is [0].  \n",
    "The array answer is [|0 - 0|] = [0]."
   ]
  },
  {
   "cell_type": "markdown",
   "metadata": {},
   "source": [
    "* 解題想法:  \n",
    "首先算出list中所有元素的總和，接著用一個變數計算目前左側的總和，然後用迴圈開始計算從左側開始往右的總和差，並更新左側與右側的總和，並將絕對值放入list中，最後回傳list"
   ]
  },
  {
   "cell_type": "code",
   "execution_count": null,
   "metadata": {},
   "outputs": [],
   "source": [
    "class Solution:\n",
    "    def leftRigthDifference(self, nums: List[int]) -> List[int]:\n",
    "        s = 0\n",
    "        l = 0\n",
    "        res = []\n",
    "        for n in nums:\n",
    "            s += n\n",
    "        for m in range(len(nums)):\n",
    "            res.append(abs(s - l - nums[m]))\n",
    "            l += nums[m]\n",
    "            s -= nums[m]\n",
    "        return res"
   ]
  }
 ],
 "metadata": {
  "kernelspec": {
   "display_name": "Python 3",
   "language": "python",
   "name": "python3"
  },
  "language_info": {
   "codemirror_mode": {
    "name": "ipython",
    "version": 3
   },
   "file_extension": ".py",
   "mimetype": "text/x-python",
   "name": "python",
   "nbconvert_exporter": "python",
   "pygments_lexer": "ipython3",
   "version": "3.7.6"
  }
 },
 "nbformat": 4,
 "nbformat_minor": 4
}
