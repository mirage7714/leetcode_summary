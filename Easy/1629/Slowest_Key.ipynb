{
 "cells": [
  {
   "cell_type": "markdown",
   "metadata": {},
   "source": [
    "# 本題要找出時間最長的字\n",
    "原題目連結: https://leetcode.com/problems/slowest-key/  \n",
    "\n",
    "A newly designed keypad was tested, where a tester pressed a sequence of n keys, one at a time.  \n",
    "\n",
    "You are given a string keysPressed of length n, where keysPressed[i] was the ith key pressed in the testing sequence, and a sorted list releaseTimes, where releaseTimes[i] was the time the ith key was released. Both arrays are 0-indexed. The 0th key was pressed at the time 0, and every subsequent key was pressed at the exact time the previous key was released.  \n",
    "\n",
    "The tester wants to know the key of the keypress that had the longest duration. The ith keypress had a duration of releaseTimes[i] - releaseTimes[i - 1], and the 0th keypress had a duration of releaseTimes[0].  \n",
    "\n",
    "Note that the same key could have been pressed multiple times during the test, and these multiple presses of the same key may not have had the same duration.  \n",
    "\n",
    "Return the key of the keypress that had the longest duration. If there are multiple such keypresses, return the lexicographically largest key of the keypresses.  \n",
    "\n",
    "範例:  \n",
    "Ex1:  \n",
    "Input: releaseTimes = [9,29,49,50], keysPressed = \"cbcd\"  \n",
    "Output: \"c\"  \n",
    "Explanation: The keypresses were as follows:  \n",
    "Keypress for 'c' had a duration of 9 (pressed at time 0 and released at time 9).  \n",
    "Keypress for 'b' had a duration of 29 - 9 = 20 (pressed at time 9 right after the release of the previous character and released at time 29).  \n",
    "Keypress for 'c' had a duration of 49 - 29 = 20 (pressed at time 29 right after the release of the previous character and released at time 49).  \n",
    "Keypress for 'd' had a duration of 50 - 49 = 1 (pressed at time 49 right after the release of the previous character and released at time 50).  \n",
    "The longest of these was the keypress for 'b' and the second keypress for 'c', both with duration 20.  \n",
    "'c' is lexicographically larger than 'b', so the answer is 'c'.  \n",
    "\n",
    "Ex2:  \n",
    "Input: releaseTimes = [12,23,36,46,62], keysPressed = \"spuda\"  \n",
    "Output: \"a\"  \n",
    "Explanation: The keypresses were as follows:  \n",
    "Keypress for 's' had a duration of 12.  \n",
    "Keypress for 'p' had a duration of 23 - 12 = 11.  \n",
    "Keypress for 'u' had a duration of 36 - 23 = 13.  \n",
    "Keypress for 'd' had a duration of 46 - 36 = 10.  \n",
    "Keypress for 'a' had a duration of 62 - 46 = 16.  \n",
    "The longest of these was the keypress for 'a' with duration 16."
   ]
  },
  {
   "cell_type": "markdown",
   "metadata": {},
   "source": [
    "* 解題想法:  \n",
    "由於題目只要求最長的秒數為何，因此建立了一個dict用來存每個字母出現最長的時間為何  \n",
    "最後找出時間最長的字母存入一個list中，並對list進行排序後取出最大的字母"
   ]
  },
  {
   "cell_type": "code",
   "execution_count": null,
   "metadata": {},
   "outputs": [],
   "source": [
    "class Solution:\n",
    "    def slowestKey(self, releaseTimes: List[int], keysPressed: str) -> str:\n",
    "        freq = {}\n",
    "        temp = 0\n",
    "        result = []\n",
    "        for n in range(len(releaseTimes)):\n",
    "            time = releaseTimes[n] - temp\n",
    "            key = keysPressed[n]\n",
    "            if key not in freq.keys():\n",
    "                freq[key] = time\n",
    "            else:\n",
    "                if time > freq[key]:\n",
    "                    freq[key] = time\n",
    "            temp += time\n",
    "        values = list(freq.values())\n",
    "        max_time = max(values)\n",
    "        for k, v in freq.items():\n",
    "            if v == max_time:\n",
    "                result.append(k)\n",
    "        if len(result) > 1:\n",
    "            result.sort(reverse = True)\n",
    "        return result[0]"
   ]
  }
 ],
 "metadata": {
  "kernelspec": {
   "display_name": "Python 3",
   "language": "python",
   "name": "python3"
  },
  "language_info": {
   "codemirror_mode": {
    "name": "ipython",
    "version": 3
   },
   "file_extension": ".py",
   "mimetype": "text/x-python",
   "name": "python",
   "nbconvert_exporter": "python",
   "pygments_lexer": "ipython3",
   "version": "3.7.4"
  }
 },
 "nbformat": 4,
 "nbformat_minor": 2
}
