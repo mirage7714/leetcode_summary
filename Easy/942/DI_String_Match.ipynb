{
 "cells": [
  {
   "cell_type": "markdown",
   "metadata": {},
   "source": [
    "# 本題要依照題目提供的字串，產生一個為數字且符合條件的list (\\#Array, \\#String, \\#Greedy, \\#Two Pointer)\n",
    "原題目連結: https://leetcode.com/problems/di-string-match/  \n",
    "\n",
    "A permutation perm of n + 1 integers of all the integers in the range [0, n] can be represented as a string s of length n where:  \n",
    "\n",
    "s[i] == 'I' if perm[i] < perm[i + 1], and  \n",
    "s[i] == 'D' if perm[i] > perm[i + 1].  \n",
    "Given a string s, reconstruct the permutation perm and return it. If there are multiple valid permutations perm, return any of them.  \n",
    "\n",
    "範例:  \n",
    "Ex1:   \n",
    "Input: s = \"IDID\"  \n",
    "Output: [0,4,1,3,2]  \n",
    "\n",
    "Ex2:  \n",
    "Input: s = \"III\"  \n",
    "Output: [0,1,2,3]  \n",
    "\n",
    "Ex3:  \n",
    "Input: s = \"DDI\"  \n",
    "Output: [3,2,0,1]  "
   ]
  },
  {
   "cell_type": "markdown",
   "metadata": {},
   "source": [
    "* 解題想法:  \n",
    "首先建立兩個pointer，用來計算目前左側與右側的邊界，接著開始檢查字串中的值為I或是D，如果是I的話，則將左側的點放入list中並將pointer加一，如果是D則將右側的點放入list並將pointer減一，最後需要將左側的點在放入list中，才會剛好滿足題目要求的點數，(此時左側的點應該與右側的點相同，所以放入哪一側都一樣)"
   ]
  },
  {
   "cell_type": "code",
   "execution_count": null,
   "metadata": {},
   "outputs": [],
   "source": [
    "class Solution:\n",
    "    def diStringMatch(self, S: str) -> List[int]:\n",
    "        l = 0\n",
    "        r = len(S)\n",
    "        result = []\n",
    "        for m in range(len(S)):\n",
    "            if S[m] == 'I':\n",
    "                result.append(l)\n",
    "                l += 1\n",
    "            else:\n",
    "                result.append(r)\n",
    "                r -= 1\n",
    "        result.append(l)\n",
    "        return result"
   ]
  }
 ],
 "metadata": {
  "kernelspec": {
   "display_name": "Python 3",
   "language": "python",
   "name": "python3"
  },
  "language_info": {
   "codemirror_mode": {
    "name": "ipython",
    "version": 3
   },
   "file_extension": ".py",
   "mimetype": "text/x-python",
   "name": "python",
   "nbconvert_exporter": "python",
   "pygments_lexer": "ipython3",
   "version": "3.7.4"
  }
 },
 "nbformat": 4,
 "nbformat_minor": 4
}
