{
 "cells": [
  {
   "cell_type": "markdown",
   "metadata": {},
   "source": [
    "# 本題要找出共有幾組triplet符合指定的數值差\n",
    "原題目連結: https://leetcode.com/problems/number-of-arithmetic-triplets/  \n",
    "\n",
    "You are given a 0-indexed, strictly increasing integer array nums and a positive integer diff. A triplet (i, j, k) is an arithmetic triplet if the following conditions are met:  \n",
    "\n",
    "i < j < k,  \n",
    "nums[j] - nums[i] == diff, and  \n",
    "nums[k] - nums[j] == diff.  \n",
    "Return the number of unique arithmetic triplets.  \n",
    "\n",
    "範例:  \n",
    "Ex1:  \n",
    "Input: nums = [0,1,4,6,7,10], diff = 3  \n",
    "Output: 2  \n",
    "Explanation:  \n",
    "(1, 2, 4) is an arithmetic triplet because both 7 - 4 == 3 and 4 - 1 == 3.  \n",
    "(2, 4, 5) is an arithmetic triplet because both 10 - 7 == 3 and 7 - 4 == 3.   \n",
    "\n",
    "Ex2:  \n",
    "Input: nums = [4,5,6,7,8,9], diff = 2  \n",
    "Output: 2  \n",
    "Explanation:  \n",
    "(0, 2, 4) is an arithmetic triplet because both 8 - 6 == 2 and 6 - 4 == 2.  \n",
    "(1, 3, 5) is an arithmetic triplet because both 9 - 7 == 2 and 7 - 5 == 2."
   ]
  },
  {
   "cell_type": "markdown",
   "metadata": {},
   "source": [
    "* 解題想法:  \n",
    "用一個迴圈，檢查nums[n]的diff與2x x diff有沒有出現在nums中，如果有則將count + 1，最後回傳count值"
   ]
  },
  {
   "cell_type": "code",
   "execution_count": null,
   "metadata": {},
   "outputs": [],
   "source": [
    "class Solution:\n",
    "    def arithmeticTriplets(self, nums: List[int], diff: int) -> int:\n",
    "        count = 0\n",
    "        for m in range(len(nums)-2):\n",
    "            if nums[m] + diff in nums and nums[m] + 2 * diff in nums:\n",
    "                count += 1\n",
    "        return count"
   ]
  }
 ],
 "metadata": {
  "kernelspec": {
   "display_name": "Python 3",
   "language": "python",
   "name": "python3"
  },
  "language_info": {
   "codemirror_mode": {
    "name": "ipython",
    "version": 3
   },
   "file_extension": ".py",
   "mimetype": "text/x-python",
   "name": "python",
   "nbconvert_exporter": "python",
   "pygments_lexer": "ipython3",
   "version": "3.7.4"
  }
 },
 "nbformat": 4,
 "nbformat_minor": 4
}
