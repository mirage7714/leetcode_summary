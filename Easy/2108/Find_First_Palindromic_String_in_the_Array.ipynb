{
 "cells": [
  {
   "cell_type": "markdown",
   "metadata": {},
   "source": [
    "# 本題要找出第一個回文的字串為何\n",
    "原題目連結: https://leetcode.com/problems/find-first-palindromic-string-in-the-array/  \n",
    "\n",
    "Given an array of strings words, return the first palindromic string in the array. If there is no such string, return an empty string \"\".  \n",
    "\n",
    "A string is palindromic if it reads the same forward and backward.  \n",
    "\n",
    "範例:  \n",
    "Ex1:  \n",
    "Input: words = [\"abc\",\"car\",\"ada\",\"racecar\",\"cool\"]  \n",
    "Output: \"ada\"  \n",
    "Explanation: The first string that is palindromic is \"ada\".  \n",
    "Note that \"racecar\" is also palindromic, but it is not the first.  \n",
    "\n",
    "Ex2:  \n",
    "Input: words = [\"notapalindrome\",\"racecar\"]  \n",
    "Output: \"racecar\"  \n",
    "Explanation: The first and only string that is palindromic is \"racecar\".  \n",
    "\n",
    "Ex3:  \n",
    "Input: words = [\"def\",\"ghi\"]  \n",
    "Output: \"\"  \n",
    "Explanation: There are no palindromic strings, so the empty string is returned."
   ]
  },
  {
   "cell_type": "markdown",
   "metadata": {},
   "source": [
    "* 解題想法:  \n",
    "首先建立一個檢查字串是否為回文的函數，接著將list內的字串進行檢查，如果找出第一個為回文的字串則中斷迴圈，並回傳該字串"
   ]
  },
  {
   "cell_type": "code",
   "execution_count": null,
   "metadata": {},
   "outputs": [],
   "source": [
    "class Solution:\n",
    "    def firstPalindrome(self, words: List[str]) -> str:\n",
    "        def checkPalindromic(word):\n",
    "            isValid = True\n",
    "            size = int(len(word)/2)\n",
    "            for w in range(size):\n",
    "                if word[w] != word[len(word)-w-1]:\n",
    "                    isValid = False\n",
    "                    break\n",
    "            return isValid\n",
    "        \n",
    "        result = ''\n",
    "        for word in words:\n",
    "            if checkPalindromic(word):\n",
    "                result = word\n",
    "                break\n",
    "        return result"
   ]
  }
 ],
 "metadata": {
  "kernelspec": {
   "display_name": "Python 3",
   "language": "python",
   "name": "python3"
  },
  "language_info": {
   "codemirror_mode": {
    "name": "ipython",
    "version": 3
   },
   "file_extension": ".py",
   "mimetype": "text/x-python",
   "name": "python",
   "nbconvert_exporter": "python",
   "pygments_lexer": "ipython3",
   "version": "3.7.4"
  }
 },
 "nbformat": 4,
 "nbformat_minor": 4
}
