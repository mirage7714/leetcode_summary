{
 "cells": [
  {
   "cell_type": "markdown",
   "metadata": {},
   "source": [
    "# 本題要找出最小且為2的倍數 (\\#Math)\n",
    "原題目連結: https://leetcode.com/problems/smallest-even-multiple/  \n",
    "\n",
    "Given a positive integer n, return the smallest positive integer that is a multiple of both 2 and n.  \n",
    "\n",
    "範例:  \n",
    "Ex1:  \n",
    "Input: n = 5  \n",
    "Output: 10  \n",
    "Explanation: The smallest multiple of both 5 and 2 is 10.  \n",
    "\n",
    "Ex2:  \n",
    "Input: n = 6  \n",
    "Output: 6  \n",
    "Explanation: The smallest multiple of both 6 and 2 is 6. Note that a number is a multiple of itself."
   ]
  },
  {
   "cell_type": "markdown",
   "metadata": {},
   "source": [
    "* 解題想法:  \n",
    "這題就是要判斷n是否為2的倍數，如果不是則回傳n\\*2，如果是的話則直接回傳n就是答案"
   ]
  },
  {
   "cell_type": "code",
   "execution_count": null,
   "metadata": {},
   "outputs": [],
   "source": [
    "class Solution:\n",
    "    def smallestEvenMultiple(self, n: int) -> int:\n",
    "        if n % 2 == 0:\n",
    "            return n\n",
    "        else:\n",
    "            return 2 * n"
   ]
  }
 ],
 "metadata": {
  "kernelspec": {
   "display_name": "Python 3",
   "language": "python",
   "name": "python3"
  },
  "language_info": {
   "codemirror_mode": {
    "name": "ipython",
    "version": 3
   },
   "file_extension": ".py",
   "mimetype": "text/x-python",
   "name": "python",
   "nbconvert_exporter": "python",
   "pygments_lexer": "ipython3",
   "version": "3.7.6"
  }
 },
 "nbformat": 4,
 "nbformat_minor": 4
}
