{
 "cells": [
  {
   "cell_type": "markdown",
   "metadata": {},
   "source": [
    "# 本題要找出最大的時間可能為何\n",
    "原題目連結: https://leetcode.com/problems/latest-time-by-replacing-hidden-digits/  \n",
    "\n",
    "You are given a string time in the form of hh:mm, where some of the digits in the string are hidden (represented by ?).  \n",
    "\n",
    "The valid times are those inclusively between 00:00 and 23:59.  \n",
    "\n",
    "Return the latest valid time you can get from time by replacing the hidden digits.  \n",
    "\n",
    "範例:  \n",
    "Ex1:  \n",
    "Input: time = \"2?:?0\"  \n",
    "Output: \"23:50\"  \n",
    "Explanation: The latest hour beginning with the digit '2' is 23 and the latest minute ending with the digit '0' is 50.  \n",
    "\n",
    "Ex2:  \n",
    "Input: time = \"0?:3?\"  \n",
    "Output: \"09:39\"  \n",
    "\n",
    "Ex3:  \n",
    "Input: time = \"1?:22\"  \n",
    "Output: \"19:22\""
   ]
  },
  {
   "cell_type": "markdown",
   "metadata": {},
   "source": [
    "* 解題想法:  \n",
    "依題目說明，要找出最大的時間為何，因此需要先判斷'?'的位置在哪。首先以小時開始來判斷，如果兩個值都是問號的話，則最大的時間就是23時，否則還須依照個位數來判斷前面可帶入1或2，小時的個位數也相同，需判斷十位數的小時是否為2，若是2則只能填入3，否則可以填入9  \n",
    "分鐘數的地方較單純，十位數最大就是帶入5，而個位數最大就是為9\n",
    "最後將所有數字重新組合成時間，就是這題的答案"
   ]
  },
  {
   "cell_type": "code",
   "execution_count": null,
   "metadata": {},
   "outputs": [],
   "source": [
    "class Solution:\n",
    "    def maximumTime(self, time: str) -> str:\n",
    "        result = []\n",
    "        r = ''\n",
    "        for t in range(len(time)):\n",
    "            result.append(time[t])\n",
    "        while True:\n",
    "            if '?' in result:\n",
    "                i = result.index('?')\n",
    "                if i == 0:\n",
    "                    if result[1] != '?':\n",
    "                        if int(result[1]) > 3:\n",
    "                            result[0] = '1'\n",
    "                        else:\n",
    "                            result[0] = '2'\n",
    "                    else:\n",
    "                        result[0] = '2'\n",
    "                        result[1] = '3'\n",
    "                elif i == 1:\n",
    "                    if result[0] == '2':\n",
    "                        result[1] = '3'\n",
    "                    else:\n",
    "                        result[1] = '9'\n",
    "                elif i == 3:\n",
    "                    result[3] = '5'\n",
    "                elif i == 4:\n",
    "                    result[4] = '9'\n",
    "            else:\n",
    "                break\n",
    "        for n in range(len(result)):\n",
    "            r += result[n]\n",
    "        return r"
   ]
  }
 ],
 "metadata": {
  "kernelspec": {
   "display_name": "Python 3",
   "language": "python",
   "name": "python3"
  },
  "language_info": {
   "codemirror_mode": {
    "name": "ipython",
    "version": 3
   },
   "file_extension": ".py",
   "mimetype": "text/x-python",
   "name": "python",
   "nbconvert_exporter": "python",
   "pygments_lexer": "ipython3",
   "version": "3.7.4"
  }
 },
 "nbformat": 4,
 "nbformat_minor": 2
}
