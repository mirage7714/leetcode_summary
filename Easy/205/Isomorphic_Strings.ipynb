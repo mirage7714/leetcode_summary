{
 "cells": [
  {
   "cell_type": "markdown",
   "metadata": {},
   "source": [
    "# 本題要找出結構相同的字，也就是字母互換後就會相等的兩個字\n",
    "原題目連結：https://leetcode.com/problems/isomorphic-strings/  \n",
    "\n",
    "Given two strings s and t, determine if they are isomorphic.  \n",
    "\n",
    "Two strings are isomorphic if the characters in s can be replaced to get t.  \n",
    "\n",
    "All occurrences of a character must be replaced with another character while preserving the order of characters. No two characters may map to the same character but a character may map to itself.  \n",
    "\n",
    "範例：  \n",
    "Ex1:  \n",
    "Input: s = \"egg\", t = \"add\"  \n",
    "Output: true  \n",
    "\n",
    "Ex2:  \n",
    "Input: s = \"foo\", t = \"bar\"  \n",
    "Output: false  \n",
    "\n",
    "Ex3:  \n",
    "Input: s = \"paper\", t = \"title\"  \n",
    "Output: true  "
   ]
  },
  {
   "cell_type": "markdown",
   "metadata": {},
   "source": [
    "* 解題想法：  \n",
    "要判斷兩個字的結構是否相同，想到的方法是找出每個字的index，並建成一個dict  \n",
    "最後比較兩個dict的values是否相同，如果相同則回傳True，否則回傳False"
   ]
  },
  {
   "cell_type": "code",
   "execution_count": null,
   "metadata": {},
   "outputs": [],
   "source": [
    "class Solution:\n",
    "    def isIsomorphic(self, s: str, t: str) -> bool:\n",
    "        parts1 = {}\n",
    "        parts2 = {}\n",
    "        is_similar = False\n",
    "        for m in range(len(s)):\n",
    "            if s[m] in parts1.keys():\n",
    "                parts1[s[m]].append(m)\n",
    "            else:\n",
    "                parts1[s[m]] = [m]\n",
    "        for n in range(len(t)):\n",
    "            if t[n] not in parts2.keys():\n",
    "                parts2[t[n]] = [n]\n",
    "            else:\n",
    "                parts2[t[n]].append(n)\n",
    "        if list(parts1.values()) == list(parts2.values()):\n",
    "            is_similar = True\n",
    "        return is_similar"
   ]
  }
 ],
 "metadata": {
  "kernelspec": {
   "display_name": "Python 3",
   "language": "python",
   "name": "python3"
  },
  "language_info": {
   "codemirror_mode": {
    "name": "ipython",
    "version": 3
   },
   "file_extension": ".py",
   "mimetype": "text/x-python",
   "name": "python",
   "nbconvert_exporter": "python",
   "pygments_lexer": "ipython3",
   "version": "3.8.3"
  }
 },
 "nbformat": 4,
 "nbformat_minor": 4
}
