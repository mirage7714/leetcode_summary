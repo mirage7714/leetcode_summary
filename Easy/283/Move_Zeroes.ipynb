{
 "cells": [
  {
   "cell_type": "markdown",
   "metadata": {},
   "source": [
    "# 本題要將list中的0移動到最後面\n",
    "原題目連結: https://leetcode.com/problems/move-zeroes/  \n",
    "\n",
    "Given an integer array nums, move all 0's to the end of it while maintaining the relative order of the non-zero elements.  \n",
    "Note that you must do this in-place without making a copy of the array.  \n",
    "\n",
    "範例:  \n",
    "Ex1:  \n",
    "Input: nums = [0,1,0,3,12]  \n",
    "Output: [1,3,12,0,0]  \n",
    "\n",
    "Ex2:  \n",
    "Input: nums = [0]  \n",
    "Output: [0]"
   ]
  },
  {
   "cell_type": "markdown",
   "metadata": {},
   "source": [
    "* 解題想法:  \n",
    "首先將nums中為0的index找出來，並放入一個list中，接著將list中的index從nums中移除，最後再nums後面將0的數量補回去"
   ]
  },
  {
   "cell_type": "code",
   "execution_count": null,
   "metadata": {},
   "outputs": [],
   "source": [
    "class Solution:\n",
    "    def moveZeroes(self, nums: List[int]) -> None:\n",
    "        \"\"\"\n",
    "        Do not return anything, modify nums in-place instead.\n",
    "        \"\"\"\n",
    "        count = 0\n",
    "        if len(nums) > 1:\n",
    "            temp = []\n",
    "            for m in range(len(nums)):\n",
    "                if nums[m] == 0:\n",
    "                    temp.append(m)\n",
    "                    count += 1\n",
    "            for n in range(len(temp)-1, -1, -1):\n",
    "                nums.pop(temp[n])\n",
    "            for n in range(count):\n",
    "                nums.append(0)"
   ]
  }
 ],
 "metadata": {
  "kernelspec": {
   "display_name": "Python 3",
   "language": "python",
   "name": "python3"
  },
  "language_info": {
   "codemirror_mode": {
    "name": "ipython",
    "version": 3
   },
   "file_extension": ".py",
   "mimetype": "text/x-python",
   "name": "python",
   "nbconvert_exporter": "python",
   "pygments_lexer": "ipython3",
   "version": "3.7.4"
  }
 },
 "nbformat": 4,
 "nbformat_minor": 4
}
