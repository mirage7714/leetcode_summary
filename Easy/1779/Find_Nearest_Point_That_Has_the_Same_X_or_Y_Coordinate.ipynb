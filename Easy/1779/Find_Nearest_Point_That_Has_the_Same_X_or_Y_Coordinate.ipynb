{
 "cells": [
  {
   "cell_type": "markdown",
   "metadata": {},
   "source": [
    "# 本題要找出在有相同的X或Y的情況下，最短距離的點位為何\n",
    "原題目連結：https://leetcode.com/problems/find-nearest-point-that-has-the-same-x-or-y-coordinate/  \n",
    "\n",
    "You are given two integers, x and y, which represent your current location on a Cartesian grid: (x, y). You are also given an array points where each points[i] = [ai, bi] represents that a point exists at (ai, bi). A point is valid if it shares the same x-coordinate or the same y-coordinate as your location.  \n",
    "\n",
    "Return the index (0-indexed) of the valid point with the smallest Manhattan distance from your current location. If there are multiple, return the valid point with the smallest index. If there are no valid points, return -1.  \n",
    "\n",
    "The Manhattan distance between two points (x1, y1) and (x2, y2) is abs(x1 - x2) + abs(y1 - y2).  \n",
    "\n",
    "範例：  \n",
    "Ex1:  \n",
    "Input: x = 3, y = 4, points = [[1,2],[3,1],[2,4],[2,3],[4,4]]  \n",
    "Output: 2  \n",
    "Explanation: Of all the points, only [3,1], [2,4] and [4,4] are valid. Of the valid points, [2,4] and [4,4] have the smallest Manhattan distance from your current location, with a distance of 1. [2,4] has the smallest index, so return 2.  \n",
    "\n",
    "Ex2:  \n",
    "Input: x = 3, y = 4, points = [[3,4]]  \n",
    "Output: 0  \n",
    "Explanation: The answer is allowed to be on the same location as your current location.  \n",
    "\n",
    "Ex3:  \n",
    "Input: x = 3, y = 4, points = [[2,3]]  \n",
    "Output: -1  \n",
    "Explanation: There are no valid points."
   ]
  },
  {
   "cell_type": "markdown",
   "metadata": {},
   "source": [
    "* 解題想法：  \n",
    "依題目要求，必須是X或Y相同的點位才會列入計算，因此先用一個迴圈來判斷點是否有符合題目的要求  \n",
    "在符合要求的情況下，接著計算距離設定的點距離為何，如果有小於之前計算出的距離，則將目前最小距離的index取代，最後回傳index值就是題目要求的答案"
   ]
  },
  {
   "cell_type": "code",
   "execution_count": null,
   "metadata": {},
   "outputs": [],
   "source": [
    "class Solution:\n",
    "    def nearestValidPoint(self, x: int, y: int, points: List[List[int]]) -> int:\n",
    "        temp = []\n",
    "        index = -1\n",
    "        for n in range(len(points)):\n",
    "            if points[n][0] == x or points[n][1] == y:\n",
    "                if len(temp) == 0:\n",
    "                    temp.append(abs(points[n][0]-x) + abs(points[n][1] - y))\n",
    "                    index = n\n",
    "                else:\n",
    "                    dist = abs(points[n][0]-x) + abs(points[n][1] - y)\n",
    "                    if dist < temp[0]:\n",
    "                        temp[0] = dist\n",
    "                        index = n\n",
    "        return index"
   ]
  }
 ],
 "metadata": {
  "kernelspec": {
   "display_name": "Python 3",
   "language": "python",
   "name": "python3"
  },
  "language_info": {
   "codemirror_mode": {
    "name": "ipython",
    "version": 3
   },
   "file_extension": ".py",
   "mimetype": "text/x-python",
   "name": "python",
   "nbconvert_exporter": "python",
   "pygments_lexer": "ipython3",
   "version": "3.7.6"
  }
 },
 "nbformat": 4,
 "nbformat_minor": 4
}
