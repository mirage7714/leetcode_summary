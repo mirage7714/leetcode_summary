{
 "cells": [
  {
   "cell_type": "markdown",
   "metadata": {},
   "source": [
    "# 本題要找出所有的括號最多有幾層結構\n",
    "原題目連結: https://leetcode.com/problems/maximum-nesting-depth-of-the-parentheses/  \n",
    "\n",
    "A string is a valid parentheses string (denoted VPS) if it meets one of the following:  \n",
    " \n",
    "It is an empty string \"\", or a single character not equal to \"(\" or \")\",  \n",
    "It can be written as AB (A concatenated with B), where A and B are VPS's, or  \n",
    "It can be written as (A), where A is a VPS.  \n",
    "We can similarly define the nesting depth depth(S) of any VPS S as follows:  \n",
    "\n",
    "depth(\"\") = 0  \n",
    "depth(C) = 0, where C is a string with a single character not equal to \"(\" or \")\".  \n",
    "depth(A + B) = max(depth(A), depth(B)), where A and B are VPS's.  \n",
    "depth(\"(\" + A + \")\") = 1 + depth(A), where A is a VPS.  \n",
    "For example, \"\", \"()()\", and \"()(()())\" are VPS's (with nesting depths 0, 1, and 2), and \")(\" and \"(()\" are not VPS's.  \n",
    "\n",
    "Given a VPS represented as string s, return the nesting depth of s.  \n",
    "\n",
    "範例:  \n",
    "Ex1:  \n",
    "Input: s = \"(1+(2x3)+((8)/4))+1\"  \n",
    "Output: 3  \n",
    "Explanation: Digit 8 is inside of 3 nested parentheses in the string.  \n",
    "\n",
    "Ex2:  \n",
    "Input: s = \"(1)+((2))+(((3)))\"  \n",
    "Output: 3  \n",
    "\n",
    "Ex3:  \n",
    "Input: s = \"1+(2x3)/(2-1)\"  \n",
    "Output: 1  \n",
    "\n",
    "Ex4:  \n",
    "Input: s = \"1\"  \n",
    "Output: 0"
   ]
  },
  {
   "cell_type": "markdown",
   "metadata": {},
   "source": [
    "* 解題想法:  \n",
    "因為題目已經假定所有的括號都是合邏輯的情況，因此用左括號的數量來計算結構層數  \n",
    "最多的層數就是最多有幾個左括號"
   ]
  },
  {
   "cell_type": "code",
   "execution_count": null,
   "metadata": {},
   "outputs": [],
   "source": [
    "class Solution:\n",
    "    def maxDepth(self, s: str) -> int:\n",
    "        count = []\n",
    "        freq = {}\n",
    "        if '(' in s:\n",
    "            for n in range(len(s)):\n",
    "                if s[n] == '(':\n",
    "                    if 'l' not in freq.keys():\n",
    "                        freq['l'] = 1\n",
    "                    else:\n",
    "                        freq['l'] += 1\n",
    "                    count.append(freq['l'])\n",
    "                elif s[n] == ')':\n",
    "                    freq['l'] -= 1\n",
    "        else:\n",
    "            count.append(0)\n",
    "        return max(count)"
   ]
  }
 ],
 "metadata": {
  "kernelspec": {
   "display_name": "Python 3",
   "language": "python",
   "name": "python3"
  },
  "language_info": {
   "codemirror_mode": {
    "name": "ipython",
    "version": 3
   },
   "file_extension": ".py",
   "mimetype": "text/x-python",
   "name": "python",
   "nbconvert_exporter": "python",
   "pygments_lexer": "ipython3",
   "version": "3.7.4"
  }
 },
 "nbformat": 4,
 "nbformat_minor": 2
}
