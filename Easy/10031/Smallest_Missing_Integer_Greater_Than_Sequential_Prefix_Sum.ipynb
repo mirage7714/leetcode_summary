{
 "cells": [
  {
   "cell_type": "markdown",
   "id": "cc1978f1-a59e-418b-8be4-500226532467",
   "metadata": {},
   "source": [
    "# 本題要找出最接近連續數字總和的數值為多少 (\\#Array )\n",
    "原題目連結：https://leetcode.com/problems/smallest-missing-integer-greater-than-sequential-prefix-sum/description/  \n",
    "\n",
    "You are given a 0-indexed array of integers nums.  \n",
    "A prefix nums[0..i] is sequential if, for all 1 <= j <= i, nums[j] = nums[j - 1] + 1. In particular, the prefix consisting only of nums[0] is sequential.  \n",
    "Return the smallest integer x missing from nums such that x is greater than or equal to the sum of the longest sequential prefix.  \n",
    "\n",
    "範例：  \n",
    "Ex1:  \n",
    "Input: nums = [1,2,3,2,5]  \n",
    "Output: 6  \n",
    "Explanation: The longest sequential prefix of nums is [1,2,3] with a sum of 6. 6 is not in the array, therefore 6 is the smallest missing integer greater than or equal to the sum of the longest sequential prefix.  \n",
    "\n",
    "Ex2:  \n",
    "Input: nums = [3,4,5,1,12,14,13]  \n",
    "Output: 15  \n",
    "Explanation: The longest sequential prefix of nums is [3,4,5] with a sum of 12. 12, 13, and 14 belong to the array while 15 does not. Therefore 15 is the smallest missing integer greater than or equal to the sum of the longest sequential prefix.  "
   ]
  },
  {
   "cell_type": "markdown",
   "id": "c5e7995d-f218-4314-a418-f575a2d84d16",
   "metadata": {},
   "source": [
    "* 解題想法：  \n",
    "依題目說明，連續list是從第一個數值開始進行並找到最長的連續數字，用迴圈找出連續術後並算出總和，接著比較該數值是否有出現在list中，如果有則逐次加1直到找到沒出現的數值為止"
   ]
  },
  {
   "cell_type": "code",
   "execution_count": null,
   "id": "955add87-41a7-463a-ac2c-e77c099d6c65",
   "metadata": {},
   "outputs": [],
   "source": [
    "class Solution:\n",
    "    def missingInteger(self, nums: List[int]) -> int:\n",
    "        temp = nums[0]\n",
    "        t = 0\n",
    "        for i in range(1, len(nums)):\n",
    "            t += temp\n",
    "            if temp + 1 == nums[i]:\n",
    "                temp = nums[i]\n",
    "            else:\n",
    "                temp = 0\n",
    "                break\n",
    "        t += temp\n",
    "        while True:\n",
    "            if t not in nums:\n",
    "                return t\n",
    "            t += 1"
   ]
  }
 ],
 "metadata": {
  "kernelspec": {
   "display_name": "Python 3 (ipykernel)",
   "language": "python",
   "name": "python3"
  },
  "language_info": {
   "codemirror_mode": {
    "name": "ipython",
    "version": 3
   },
   "file_extension": ".py",
   "mimetype": "text/x-python",
   "name": "python",
   "nbconvert_exporter": "python",
   "pygments_lexer": "ipython3",
   "version": "3.10.9"
  }
 },
 "nbformat": 4,
 "nbformat_minor": 5
}
