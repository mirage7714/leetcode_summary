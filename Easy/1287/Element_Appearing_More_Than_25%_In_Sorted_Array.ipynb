{
 "cells": [
  {
   "cell_type": "markdown",
   "metadata": {},
   "source": [
    "# 本題要找出array中，占比超過25%的數字(只有一個)\n",
    "原題目連結: https://leetcode.com/problems/element-appearing-more-than-25-in-sorted-array/  \n",
    "\n",
    "範例:  \n",
    "Ex1:  \n",
    "Input: arr = [1,2,2,6,6,6,6,7,10]  \n",
    "Output: 6  "
   ]
  },
  {
   "cell_type": "markdown",
   "metadata": {},
   "source": [
    "* 解題想法:  \n",
    "其實就只是單純的對array中每個數字統計出現次數，最後找出大於25%的數字"
   ]
  },
  {
   "cell_type": "code",
   "execution_count": null,
   "metadata": {},
   "outputs": [],
   "source": [
    "class Solution:\n",
    "    def findSpecialInteger(self, arr: List[int]) -> int:\n",
    "        freq = {}\n",
    "        result = 0\n",
    "        for n in range(len(arr)):\n",
    "            if arr[n] not in freq.keys():\n",
    "                freq[arr[n]] = 1\n",
    "            else:\n",
    "                freq[arr[n]] += 1\n",
    "        for key in freq.keys():\n",
    "            if freq[key] > len(arr)*0.25:\n",
    "                result = key\n",
    "                break\n",
    "        return result"
   ]
  }
 ],
 "metadata": {
  "kernelspec": {
   "display_name": "Python 3",
   "language": "python",
   "name": "python3"
  },
  "language_info": {
   "codemirror_mode": {
    "name": "ipython",
    "version": 3
   },
   "file_extension": ".py",
   "mimetype": "text/x-python",
   "name": "python",
   "nbconvert_exporter": "python",
   "pygments_lexer": "ipython3",
   "version": "3.7.4"
  }
 },
 "nbformat": 4,
 "nbformat_minor": 2
}
