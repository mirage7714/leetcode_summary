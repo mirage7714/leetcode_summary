{
 "cells": [
  {
   "cell_type": "markdown",
   "metadata": {},
   "source": [
    "# 本題要判斷題目提供的linked list是否是回文格式\n",
    "原題目連結: https://leetcode.com/problems/palindrome-linked-list/  \n",
    "\n",
    "Given a singly linked list, determine if it is a palindrome.  \n",
    "\n",
    "範例:  \n",
    "Ex1:  \n",
    "Input: 1->2  \n",
    "Output: false  \n",
    "\n",
    "Ex2:  \n",
    "Input: 1->2->2->1  \n",
    "Output: true"
   ]
  },
  {
   "cell_type": "markdown",
   "metadata": {},
   "source": [
    "* 解題想法:  \n",
    "題目要判斷linked list是否為回文格式，也就是兩個方向的結果都應該要相同  \n",
    "因此將linked list內的數值取出後比較兩個list是否相同，相同的話回傳True，否則回傳False"
   ]
  },
  {
   "cell_type": "code",
   "execution_count": null,
   "metadata": {},
   "outputs": [],
   "source": [
    "class Solution:\n",
    "    def isPalindrome(self, head: ListNode) -> bool:\n",
    "        result = []\n",
    "        result_rev = []\n",
    "        while head:\n",
    "            val = head.val\n",
    "            head = head.next\n",
    "            result.append(val)\n",
    "            result_rev.insert(0, val)\n",
    "        if result == result_rev:\n",
    "            return True\n",
    "        else:\n",
    "            return False"
   ]
  }
 ],
 "metadata": {
  "kernelspec": {
   "display_name": "Python 3",
   "language": "python",
   "name": "python3"
  },
  "language_info": {
   "codemirror_mode": {
    "name": "ipython",
    "version": 3
   },
   "file_extension": ".py",
   "mimetype": "text/x-python",
   "name": "python",
   "nbconvert_exporter": "python",
   "pygments_lexer": "ipython3",
   "version": "3.7.4"
  }
 },
 "nbformat": 4,
 "nbformat_minor": 2
}
