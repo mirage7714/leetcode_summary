{
 "cells": [
  {
   "cell_type": "markdown",
   "metadata": {},
   "source": [
    "# 本題要使用stack的方式來實作queue\n",
    "原題目連結: https://leetcode.com/problems/implement-queue-using-stacks/  \n",
    "\n",
    "Implement a first in first out (FIFO) queue using only two stacks. The implemented queue should support all the functions of a normal queue (push, peek, pop, and empty).  \n",
    "\n",
    "Implement the MyQueue class:  \n",
    "\n",
    "void push(int x) Pushes element x to the back of the queue.  \n",
    "int pop() Removes the element from the front of the queue and returns it.  \n",
    "int peek() Returns the element at the front of the queue.  \n",
    "boolean empty() Returns true if the queue is empty, false otherwise.  \n",
    "Notes:  \n",
    "\n",
    "You must use only standard operations of a stack, which means only push to top, peek/pop from top, size, and is empty operations are valid.  \n",
    "Depending on your language, the stack may not be supported natively. You may simulate a stack using a list or deque (double-ended queue) as long as you use only a stack's standard operations.  \n",
    "\n",
    "範例:  \n",
    "Ex1:  \n",
    "Input  \n",
    "[\"MyQueue\", \"push\", \"push\", \"peek\", \"pop\", \"empty\"]  \n",
    "[[], [1], [2], [], [], []]  \n",
    "Output  \n",
    "[null, null, null, 1, 1, false]  \n",
    "\n",
    "Explanation  \n",
    "MyQueue myQueue = new MyQueue();  \n",
    "myQueue.push(1); // queue is: [1]  \n",
    "myQueue.push(2); // queue is: [1, 2] (leftmost is front of the queue)  \n",
    "myQueue.peek(); // return 1  \n",
    "myQueue.pop(); // return 1, queue is [2]  \n",
    "myQueue.empty(); // return false"
   ]
  },
  {
   "cell_type": "markdown",
   "metadata": {},
   "source": [
    "* 解題想法:  \n",
    "本題主要需要實作以下幾個功能:  \n",
    "  - push: 新增元素到queue中  \n",
    "  - pop: 取出queue中第一個元素，並將第一個元素移出queue  \n",
    "  - peek: 取出queue的第一個元素，但不將他移出queue  \n",
    "  - empty: 檢查queue是否為空"
   ]
  },
  {
   "cell_type": "code",
   "execution_count": null,
   "metadata": {},
   "outputs": [],
   "source": [
    "class MyQueue:\n",
    "\n",
    "    def __init__(self):\n",
    "        \"\"\"\n",
    "        Initialize your data structure here.\n",
    "        \"\"\"\n",
    "        self.queue = []\n",
    "        self.index = 0\n",
    "\n",
    "    def push(self, x: int) -> None:\n",
    "        \"\"\"\n",
    "        Push element x to the back of queue.\n",
    "        \"\"\"\n",
    "        self.queue.append(x)\n",
    "\n",
    "    def pop(self) -> int:\n",
    "        \"\"\"\n",
    "        Removes the element from in front of queue and returns that element.\n",
    "        \"\"\"\n",
    "        ele = self.queue[self.index]\n",
    "        self.index += 1\n",
    "        return ele\n",
    "\n",
    "    def peek(self) -> int:\n",
    "        \"\"\"\n",
    "        Get the front element.\n",
    "        \"\"\"\n",
    "        return self.queue[self.index]\n",
    "\n",
    "    def empty(self) -> bool:\n",
    "        \"\"\"\n",
    "        Returns whether the queue is empty.\n",
    "        \"\"\"\n",
    "        if self.index == len(self.queue):\n",
    "            return True\n",
    "        else:\n",
    "            return False"
   ]
  }
 ],
 "metadata": {
  "kernelspec": {
   "display_name": "Python 3",
   "language": "python",
   "name": "python3"
  },
  "language_info": {
   "codemirror_mode": {
    "name": "ipython",
    "version": 3
   },
   "file_extension": ".py",
   "mimetype": "text/x-python",
   "name": "python",
   "nbconvert_exporter": "python",
   "pygments_lexer": "ipython3",
   "version": "3.7.4"
  }
 },
 "nbformat": 4,
 "nbformat_minor": 2
}
