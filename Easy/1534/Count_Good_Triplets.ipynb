{
 "cells": [
  {
   "cell_type": "markdown",
   "metadata": {},
   "source": [
    "# 本題要找出符合條件的subarray共有幾組\n",
    "原題目連結: https://leetcode.com/problems/count-good-triplets/  \n",
    "\n",
    "Given an array of integers arr, and three integers a, b and c. You need to find the number of good triplets.  \n",
    "\n",
    "A triplet (arr[i], arr[j], arr[k]) is good if the following conditions are true:  \n",
    "\n",
    "0 <= i < j < k < arr.length  \n",
    "|arr[i] - arr[j]| <= a  \n",
    "|arr[j] - arr[k]| <= b  \n",
    "|arr[i] - arr[k]| <= c  \n",
    "Where |x| denotes the absolute value of x.  \n",
    "\n",
    "Return the number of good triplets.  \n",
    "\n",
    "範例:  \n",
    "Ex1:  \n",
    "Input: arr = [3,0,1,1,9,7], a = 7, b = 2, c = 3  \n",
    "Output: 4  \n",
    "Explanation: There are 4 good triplets: [(3,0,1), (3,0,1), (3,1,1), (0,1,1)].  \n",
    "\n",
    "Ex2:  \n",
    "Input: arr = [1,1,2,2,3], a = 0, b = 0, c = 1  \n",
    "Output: 0  \n",
    "Explanation: No triplet satisfies all conditions."
   ]
  },
  {
   "cell_type": "markdown",
   "metadata": {},
   "source": [
    "* 解題想法:  \n",
    "由於題目有提供了幾個限制，包括i, j, k之間的關係以及符合的條件，因此使用了三個for loop將條件串起後，並比較述職的大小  \n",
    "如果都符合條件則將count +1，最後回傳count值  \n",
    "\n",
    "原本以為會有別的陷阱，例如time limit之類的，不過實際送出之後看起來似乎還是符合條件"
   ]
  },
  {
   "cell_type": "code",
   "execution_count": null,
   "metadata": {},
   "outputs": [],
   "source": [
    "class Solution:\n",
    "    def countGoodTriplets(self, arr: List[int], a: int, b: int, c: int) -> int:\n",
    "        count = 0\n",
    "        for i in range(len(arr)-2):\n",
    "            for j in range(i+1, len(arr)-1):\n",
    "                for k in range(j + 1, len(arr)):\n",
    "                    diff_a = abs(arr[i] - arr[j])\n",
    "                    diff_b = abs(arr[j] - arr[k])\n",
    "                    diff_c = abs(arr[i] - arr[k])\n",
    "                    if diff_a <= a and diff_b <= b and diff_c <= c:\n",
    "                        count += 1\n",
    "        return count"
   ]
  }
 ],
 "metadata": {
  "kernelspec": {
   "display_name": "Python 3",
   "language": "python",
   "name": "python3"
  },
  "language_info": {
   "codemirror_mode": {
    "name": "ipython",
    "version": 3
   },
   "file_extension": ".py",
   "mimetype": "text/x-python",
   "name": "python",
   "nbconvert_exporter": "python",
   "pygments_lexer": "ipython3",
   "version": "3.7.4"
  }
 },
 "nbformat": 4,
 "nbformat_minor": 2
}
