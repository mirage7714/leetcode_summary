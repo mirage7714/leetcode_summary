{
 "cells": [
  {
   "cell_type": "markdown",
   "metadata": {},
   "source": [
    "# 本題要找出在對array操作後，所有偶數的和為多少\n",
    "原題目連結： https://leetcode.com/problems/sum-of-even-numbers-after-queries/  \n",
    "\n",
    "We have an array A of integers, and an array queries of queries.  \n",
    "For the i-th query val = queries[i][0], index = queries[i][1], we add val to A[index].  Then, the answer to the i-th query is the sum of the even values of A.  \n",
    "(Here, the given index = queries[i][1] is a 0-based index, and each query permanently modifies the array A.)  \n",
    "Return the answer to all queries.  Your answer array should have answer[i] as the answer to the i-th query.  \n",
    "\n",
    "範例：  \n",
    "Ex1:  \n",
    "Input: A = [1,2,3,4], queries = [[1,0],[-3,1],[-4,0],[2,3]]  \n",
    "Output: [8,6,2,4]  \n",
    "Explanation:   \n",
    "At the beginning, the array is [1,2,3,4].  \n",
    "After adding 1 to A[0], the array is [2,2,3,4], and the sum of even values is 2 + 2 + 4 = 8. \n",
    "After adding -3 to A[1], the array is [2,-1,3,4], and the sum of even values is 2 + 4 = 6.  \n",
    "After adding -4 to A[0], the array is [-2,-1,3,4], and the sum of even values is -2 + 4 = 2.  \n",
    "After adding 2 to A[3], the array is [-2,-1,3,6], and the sum of even values is -2 + 6 = 4."
   ]
  },
  {
   "cell_type": "markdown",
   "metadata": {},
   "source": [
    "* 解題想法：  \n",
    "原本想要直接用暴力解，就是對list操作完後再找出偶數進行加總，但這樣會超過題目要求的時間  \n",
    "所以需要改成用和差的方式進行計算，先找出原始的偶數和為多少，並針對操作後變成偶數或變成奇數的數字進行計算差，最後在將和加入list中"
   ]
  },
  {
   "cell_type": "code",
   "execution_count": null,
   "metadata": {},
   "outputs": [],
   "source": [
    "class Solution:\n",
    "    def sumEvenAfterQueries(self, A: List[int], queries: List[List[int]]) -> List[int]:\n",
    "        result = []\n",
    "        total = 0\n",
    "        evens = []\n",
    "        for a in range(len(A)):\n",
    "            if A[a] % 2 == 0:\n",
    "                evens.append(a)\n",
    "                total += A[a]\n",
    "        for query in queries:\n",
    "            if query[1] in evens:\n",
    "                if query[0] % 2 == 0:\n",
    "                    total += query[0]\n",
    "                    result.append(total)\n",
    "                    A[query[1]] += query[0]\n",
    "                else:\n",
    "                    total -= A[query[1]]\n",
    "                    A[query[1]] += query[0]\n",
    "                    result.append(total)\n",
    "                    evens.remove(query[1])\n",
    "                    \n",
    "            else:\n",
    "                if query[0] % 2 == 0:\n",
    "                    A[query[1]] += query[0]\n",
    "                    result.append(total)\n",
    "                else:\n",
    "                    total += query[0] + A[query[1]]\n",
    "                    A[query[1]] += query[0]\n",
    "                    result.append(total)\n",
    "                    evens.append(query[1])\n",
    "                    \n",
    "        return result"
   ]
  }
 ],
 "metadata": {
  "kernelspec": {
   "display_name": "Python 3",
   "language": "python",
   "name": "python3"
  },
  "language_info": {
   "codemirror_mode": {
    "name": "ipython",
    "version": 3
   },
   "file_extension": ".py",
   "mimetype": "text/x-python",
   "name": "python",
   "nbconvert_exporter": "python",
   "pygments_lexer": "ipython3",
   "version": "3.8.3"
  }
 },
 "nbformat": 4,
 "nbformat_minor": 4
}
