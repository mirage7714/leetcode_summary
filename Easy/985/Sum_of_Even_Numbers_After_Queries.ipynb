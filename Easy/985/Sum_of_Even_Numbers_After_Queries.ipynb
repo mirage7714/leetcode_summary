{
 "cells": [
  {
   "cell_type": "markdown",
   "metadata": {},
   "source": [
    "# 本題要找出在對array操作後，所有偶數的和為多少\n",
    "原題目連結： https://leetcode.com/problems/sum-of-even-numbers-after-queries/  \n",
    "\n",
    "We have an array A of integers, and an array queries of queries.  \n",
    "For the i-th query val = queries[i][0], index = queries[i][1], we add val to A[index].  Then, the answer to the i-th query is the sum of the even values of A.  \n",
    "(Here, the given index = queries[i][1] is a 0-based index, and each query permanently modifies the array A.)  \n",
    "Return the answer to all queries.  Your answer array should have answer[i] as the answer to the i-th query.  \n",
    "\n",
    "範例：  \n",
    "Ex1:  \n",
    "Input: A = [1,2,3,4], queries = [[1,0],[-3,1],[-4,0],[2,3]]  \n",
    "Output: [8,6,2,4]  \n",
    "Explanation:   \n",
    "At the beginning, the array is [1,2,3,4].  \n",
    "After adding 1 to A[0], the array is [2,2,3,4], and the sum of even values is 2 + 2 + 4 = 8. \n",
    "After adding -3 to A[1], the array is [2,-1,3,4], and the sum of even values is 2 + 4 = 6.  \n",
    "After adding -4 to A[0], the array is [-2,-1,3,4], and the sum of even values is -2 + 4 = 2.  \n",
    "After adding 2 to A[3], the array is [-2,-1,3,6], and the sum of even values is -2 + 6 = 4."
   ]
  },
  {
   "cell_type": "markdown",
   "metadata": {},
   "source": [
    "* 解題想法：  \n",
    "原本想要直接用暴力解，就是對list操作完後再找出偶數進行加總，但這樣會超過題目要求的時間  \n",
    "所以需要改成用和差的方式進行計算，先找出原始的偶數和為多少，並針對操作後變成偶數或變成奇數的數字進行計算差，最後在將和加入list中"
   ]
  },
  {
   "cell_type": "code",
   "execution_count": null,
   "metadata": {},
   "outputs": [],
   "source": []
  }
 ],
 "metadata": {
  "kernelspec": {
   "display_name": "Python 3",
   "language": "python",
   "name": "python3"
  },
  "language_info": {
   "codemirror_mode": {
    "name": "ipython",
    "version": 3
   },
   "file_extension": ".py",
   "mimetype": "text/x-python",
   "name": "python",
   "nbconvert_exporter": "python",
   "pygments_lexer": "ipython3",
   "version": "3.8.3"
  }
 },
 "nbformat": 4,
 "nbformat_minor": 4
}
