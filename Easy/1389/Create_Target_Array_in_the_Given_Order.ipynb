{
 "cells": [
  {
   "cell_type": "markdown",
   "metadata": {},
   "source": [
    "# 這題主要是要將原有的Array，依據題目提供的順序產生新的Array\n",
    "原題目連結：https://leetcode.com/problems/create-target-array-in-the-given-order/  \n",
    "例如：  \n",
    "Ex1:  \n",
    "Input: nums = [0,1,2,3,4], index = [0,1,2,2,1]  \n",
    "Output: [0,4,1,3,2]  \n",
    "\n",
    "Ex2:  \n",
    "Input: nums = [1,2,3,4,0], index = [0,1,2,3,0]  \n",
    "Output: [0,1,2,3,4]  \n",
    "\n",
    "Ex3:   \n",
    "Input: nums = [1], index = [0]  \n",
    "Output: [1]"
   ]
  },
  {
   "cell_type": "markdown",
   "metadata": {},
   "source": [
    "* 解題邏輯：  \n",
    "先建立一個list，依據指定的index插入原本list的數值，用python list的insert()很快，"
   ]
  }
 ],
 "metadata": {
  "kernelspec": {
   "display_name": "Python 3",
   "language": "python",
   "name": "python3"
  },
  "language_info": {
   "codemirror_mode": {
    "name": "ipython",
    "version": 3
   },
   "file_extension": ".py",
   "mimetype": "text/x-python",
   "name": "python",
   "nbconvert_exporter": "python",
   "pygments_lexer": "ipython3",
   "version": "3.8.3"
  }
 },
 "nbformat": 4,
 "nbformat_minor": 4
}
