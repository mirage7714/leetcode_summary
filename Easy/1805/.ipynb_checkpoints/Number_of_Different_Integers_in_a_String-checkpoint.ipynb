{
 "cells": [
  {
   "cell_type": "markdown",
   "metadata": {},
   "source": [
    "# 本題要找出在字串中共有幾種不同的數字\n",
    "原題目連結: https://leetcode.com/problems/number-of-different-integers-in-a-string/  \n",
    "\n",
    "You are given a string word that consists of digits and lowercase English letters.  \n",
    "\n",
    "You will replace every non-digit character with a space. For example, \"a123bc34d8ef34\" will become \" 123  34 8  34\". Notice that you are left with some integers that are separated by at least one space: \"123\", \"34\", \"8\", and \"34\".  \n",
    "\n",
    "Return the number of different integers after performing the replacement operations on word.  \n",
    "\n",
    "Two integers are considered different if their decimal representations without any leading zeros are different.  \n",
    "\n",
    "範例:  \n",
    "Ex1:  \n",
    "Input: word = \"a123bc34d8ef34\"  \n",
    "Output: 3  \n",
    "Explanation: The three different integers are \"123\", \"34\", and \"8\". Notice that \"34\" is only counted once.  \n",
    "\n",
    "Ex2:  \n",
    "Input: word = \"leet1234code234\"  \n",
    "Output: 2  \n",
    "\n",
    "Ex3:  \n",
    "Input: word = \"a1b01c001\"  \n",
    "Output: 1  \n",
    "Explanation: The three integers \"1\", \"01\", and \"001\" all represent the same integer because the leading zeros are ignored when comparing their decimal values."
   ]
  },
  {
   "cell_type": "markdown",
   "metadata": {},
   "source": [
    "* 解題想法:  \n",
    "依照題目說明，首先建立一個list來存放所有出現過的數字組合，另外建立一個list來暫存連續出現的數字，接著用迴圈逐個字元檢查，如果是數字的話則加入暫存的list中，等到不是數字時則檢查暫存的list是否有數字，若有的話則將暫存內的數字組合成整數，並確認是否有在結果的list中出現過，若沒有則加入結果中，最後回傳結果list的長度就是題目要求的答案"
   ]
  },
  {
   "cell_type": "code",
   "execution_count": null,
   "metadata": {},
   "outputs": [],
   "source": [
    "class Solution:\n",
    "    def numDifferentIntegers(self, word: str) -> int:\n",
    "        def getInt(temp):\n",
    "            total = ''\n",
    "            for t in temp:\n",
    "                total += t\n",
    "            return int(total)\n",
    "        \n",
    "        digits = ['0','1','2','3','4','5','6','7','8','9']\n",
    "        result = []\n",
    "        temp = []\n",
    "        for n in range(len(word)):\n",
    "            if word[n] in digits:\n",
    "                temp.append(word[n])\n",
    "            else:\n",
    "                if len(temp) > 0:\n",
    "                    num = getInt(temp)\n",
    "                    if num not in result:\n",
    "                        result.append(num)\n",
    "                    temp.clear()\n",
    "        if len(temp) > 0 :\n",
    "            num = getInt(temp)\n",
    "            if num not in result:\n",
    "                result.append(num)\n",
    "        return len(result)"
   ]
  }
 ],
 "metadata": {
  "kernelspec": {
   "display_name": "Python 3",
   "language": "python",
   "name": "python3"
  },
  "language_info": {
   "codemirror_mode": {
    "name": "ipython",
    "version": 3
   },
   "file_extension": ".py",
   "mimetype": "text/x-python",
   "name": "python",
   "nbconvert_exporter": "python",
   "pygments_lexer": "ipython3",
   "version": "3.7.4"
  }
 },
 "nbformat": 4,
 "nbformat_minor": 2
}
