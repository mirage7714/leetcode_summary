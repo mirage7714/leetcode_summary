{
 "cells": [
  {
   "cell_type": "markdown",
   "metadata": {},
   "source": [
    "# 本題要找出在1到n的數字範圍內，數字和相同的組別最大值有幾組\n",
    "原題目連結: https://leetcode.com/problems/count-largest-group/  \n",
    "\n",
    "Given an integer n. Each number from 1 to n is grouped according to the sum of its digits.   \n",
    "\n",
    "Return how many groups have the largest size.  \n",
    "\n",
    "範例:  \n",
    "Ex1:  \n",
    "Input: n = 13  \n",
    "Output: 4  \n",
    "Explanation: There are 9 groups in total, they are grouped according sum of its digits of numbers from 1 to 13:  \n",
    "[1,10], [2,11], [3,12], [4,13], [5], [6], [7], [8], [9]. There are 4 groups with largest size.  \n",
    "\n",
    "Ex2:  \n",
    "Input: n = 2  \n",
    "Output: 2  \n",
    "Explanation: There are 2 groups [1], [2] of size 1.  \n",
    "\n",
    "Ex3:  \n",
    "Input: n = 15  \n",
    "Output: 6  \n",
    "\n",
    "Ex4:  \n",
    "Input: n = 24  \n",
    "Output: 5"
   ]
  },
  {
   "cell_type": "markdown",
   "metadata": {},
   "source": [
    "* 解題想法:  \n",
    "由於題目要找出數字和相同的組別，最後計算組別最大的數量有多少，因此先計算每個數字的數字和是多少，並用一個dict來進行統計  \n",
    "最後統計組別最長的有幾組，就是這題想要找的答案  \n",
    "另外題目只有說對每個數字進行加總，因此不需要對總和超過10的數字去另外進行處理，只需要建立新的組別即可"
   ]
  },
  {
   "cell_type": "code",
   "execution_count": null,
   "metadata": {},
   "outputs": [],
   "source": [
    "class Solution:\n",
    "    def countLargestGroup(self, n: int) -> int:\n",
    "        freq = {}\n",
    "        temp = []\n",
    "        count = 0\n",
    "        for l in range(1,n+1):\n",
    "            total = 0\n",
    "            for m in str(l):\n",
    "                total += int(m)\n",
    "            if total not in freq.keys():\n",
    "                freq[total] = [l]\n",
    "            else:\n",
    "                freq[total].append(l)\n",
    "        for value in freq.values():\n",
    "            temp.append(len(value))\n",
    "        for t in temp:\n",
    "            if t == max(temp):\n",
    "                count += 1\n",
    "        return count"
   ]
  }
 ],
 "metadata": {
  "kernelspec": {
   "display_name": "Python 3",
   "language": "python",
   "name": "python3"
  },
  "language_info": {
   "codemirror_mode": {
    "name": "ipython",
    "version": 3
   },
   "file_extension": ".py",
   "mimetype": "text/x-python",
   "name": "python",
   "nbconvert_exporter": "python",
   "pygments_lexer": "ipython3",
   "version": "3.7.4"
  }
 },
 "nbformat": 4,
 "nbformat_minor": 2
}
