{
 "cells": [
  {
   "cell_type": "markdown",
   "metadata": {},
   "source": [
    "# 本題要判斷在提供的路徑中，是否會出現重複的點\n",
    "原題目連結: https://leetcode.com/problems/path-crossing/  \n",
    "\n",
    "Given a string path, where path[i] = 'N', 'S', 'E' or 'W', each representing moving one unit north, south, east, or west, respectively. You start at the origin (0, 0) on a 2D plane and walk on the path specified by path.  \n",
    "\n",
    "Return True if the path crosses itself at any point, that is, if at any time you are on a location you've previously visited. Return False otherwise.  \n",
    "\n",
    "範例:  \n",
    "Ex1:  \n",
    "Input: path = \"NES\"  \n",
    "Output: false   \n",
    "Explanation: Notice that the path doesn't cross any point more than once.  \n",
    "\n",
    "Ex2:  \n",
    "Input: path = \"NESWW\"  \n",
    "Output: true  \n",
    "Explanation: Notice that the path visits the origin twice.  "
   ]
  },
  {
   "cell_type": "markdown",
   "metadata": {},
   "source": [
    "* 解題想法:  \n",
    "由於在題目中，有四個方向可以移動，因此建立了一個2D list，並將每個移動後的點位加入一個暫存的list，如果新移動的點有出現在暫存中，則代表路線有出重複的點，即可結束迴圈並回傳結果為True，否則為False"
   ]
  },
  {
   "cell_type": "code",
   "execution_count": null,
   "metadata": {},
   "outputs": [],
   "source": [
    "class Solution:\n",
    "    def isPathCrossing(self, path: str) -> bool:\n",
    "        is_crossing = False\n",
    "        result = []\n",
    "        result.append([0,0])\n",
    "        for n in range(len(path)):\n",
    "            point = result[-1]\n",
    "            if path[n] == 'N':\n",
    "                point = [point[0] + 1, point[1]]\n",
    "            elif path[n] == 'S':\n",
    "                point = [point[0] - 1, point[1]]\n",
    "            elif path[n] == 'E':\n",
    "                point = [point[0], point[1] + 1]\n",
    "            elif path[n] == 'W': \n",
    "                point = [point[0], point[1] - 1]\n",
    "            if point in result:\n",
    "                is_crossing = True\n",
    "                break\n",
    "            else:\n",
    "                result.append(point)\n",
    "        return is_crossing"
   ]
  }
 ],
 "metadata": {
  "kernelspec": {
   "display_name": "Python 3",
   "language": "python",
   "name": "python3"
  },
  "language_info": {
   "codemirror_mode": {
    "name": "ipython",
    "version": 3
   },
   "file_extension": ".py",
   "mimetype": "text/x-python",
   "name": "python",
   "nbconvert_exporter": "python",
   "pygments_lexer": "ipython3",
   "version": "3.7.4"
  }
 },
 "nbformat": 4,
 "nbformat_minor": 2
}
