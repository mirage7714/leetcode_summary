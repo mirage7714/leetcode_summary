{
 "cells": [
  {
   "cell_type": "markdown",
   "metadata": {},
   "source": [
    "# 本題要用inorder的方式來進行走訪tree\n",
    "原題目連結: https://leetcode.com/problems/binary-tree-inorder-traversal/  \n",
    "\n",
    "Given the root of a binary tree, return the inorder traversal of its nodes' values.  \n",
    "\n",
    "範例:  \n",
    "Ex1:  \n",
    "Input: root = [1,null,2,3]  \n",
    "Output: [1,3,2]  \n",
    "\n",
    "Ex2:  \n",
    "Input: root = []  \n",
    "Output: []  \n",
    "\n",
    "Ex3:  \n",
    "Input: root = [1]  \n",
    "Output: [1]"
   ]
  },
  {
   "cell_type": "markdown",
   "metadata": {},
   "source": [
    "* 解題想法:  \n",
    "走訪Tree的方式有三種: Preorder, Inorder與PostOrder，本題要使用inorder的方式來進行，依據定義，inorder是從tree的左側到中間再到右側，而走訪的方式有兩種: recursive或是iterative，這邊使用比較簡單的recursive  \n",
    "首先建立一個list用來存放數值，接著先從節點的左側開始取值，然後再取本身的數值，最後再取右側的數值，直到達到最末端的節點再中斷迴圈"
   ]
  },
  {
   "cell_type": "code",
   "execution_count": null,
   "metadata": {},
   "outputs": [],
   "source": [
    "# Definition for a binary tree node.\n",
    "# class TreeNode:\n",
    "#     def __init__(self, val=0, left=None, right=None):\n",
    "#         self.val = val\n",
    "#         self.left = left\n",
    "#         self.right = right\n",
    "class Solution:\n",
    "    def inorderTraversal(self, root: Optional[TreeNode]) -> List[int]:\n",
    "        def inorder(root, result):\n",
    "            if root != None:\n",
    "                inorder(root.left, result)\n",
    "                result.append(root.val)\n",
    "                inorder(root.right, result)\n",
    "            else:\n",
    "                return\n",
    "        result = []\n",
    "        inorder(root, result)\n",
    "        return result"
   ]
  }
 ],
 "metadata": {
  "kernelspec": {
   "display_name": "Python 3",
   "language": "python",
   "name": "python3"
  },
  "language_info": {
   "codemirror_mode": {
    "name": "ipython",
    "version": 3
   },
   "file_extension": ".py",
   "mimetype": "text/x-python",
   "name": "python",
   "nbconvert_exporter": "python",
   "pygments_lexer": "ipython3",
   "version": "3.7.4"
  }
 },
 "nbformat": 4,
 "nbformat_minor": 4
}
