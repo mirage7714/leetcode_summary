{
 "cells": [
  {
   "cell_type": "markdown",
   "metadata": {},
   "source": [
    "# 本題要將相鄰相同的顏色修改成指定的顏色 (\\#DFS, \\#Array, \\#Matrix)\n",
    "原題目連結: https://leetcode.com/problems/flood-fill/  \n",
    "\n",
    "An image is represented by an m x n integer grid image where image[i][j] represents the pixel value of the image.  \n",
    "You are also given three integers sr, sc, and color. You should perform a flood fill on the image starting from the pixel image[sr][sc].  \n",
    "To perform a flood fill, consider the starting pixel, plus any pixels connected 4-directionally to the starting pixel of the same color as the starting pixel, plus any pixels connected 4-directionally to those pixels (also with the same color), and so on. Replace the color of all of the aforementioned pixels with color.  \n",
    "\n",
    "Return the modified image after performing the flood fill.  \n",
    "\n",
    "範例:  \n",
    "Ex1:  \n",
    "Input: image = [[1,1,1],[1,1,0],[1,0,1]], sr = 1, sc = 1, color = 2  \n",
    "Output: [[2,2,2],[2,2,0],[2,0,1]]  \n",
    "Explanation: From the center of the image with position (sr, sc) = (1, 1) (i.e., the red pixel), all pixels connected by a path of the same color as the starting pixel (i.e., the blue pixels) are colored with the new color.  \n",
    "Note the bottom corner is not colored 2, because it is not 4-directionally connected to the starting pixel.  \n",
    "\n",
    "Ex2:  \n",
    "Input: image = [[0,0,0],[0,0,0]], sr = 0, sc = 0, color = 0  \n",
    "Output: [[0,0,0],[0,0,0]]  \n",
    "Explanation: The starting pixel is already colored 0, so no changes are made to the image."
   ]
  },
  {
   "cell_type": "markdown",
   "metadata": {},
   "source": [
    "* 解題想法:  \n",
    "這題也是用DFS的方式來進行走訪，首先建立一個DFS的函數，當遇到邊界或是顏色與指定的顏色不相同時則中斷，接著將index所在的顏色修改成新的顏色，然後繼續檢查上下左右的格子，修改完畢後回傳原本的image就是答案"
   ]
  },
  {
   "cell_type": "code",
   "execution_count": null,
   "metadata": {},
   "outputs": [],
   "source": [
    "class Solution:\n",
    "    def floodFill(self, image: List[List[int]], sr: int, sc: int, newColor: int) -> List[List[int]]:\n",
    "        def dfs(nums, i, j, ori, mod):\n",
    "            if i < 0 or j < 0 or i >= len(nums) or j >= len(nums[0]) or nums[i][j] != ori:\n",
    "                return\n",
    "            if nums[i][j] == ori:\n",
    "                nums[i][j] = mod\n",
    "            dfs(nums, i-1, j, ori, mod)\n",
    "            dfs(nums, i+1, j, ori, mod)\n",
    "            dfs(nums, i, j-1, ori, mod)\n",
    "            dfs(nums, i, j+1, ori, mod)\n",
    "        if image[sr][sc] != newColor:\n",
    "            dfs(image, sr, sc, image[sr][sc], newColor)\n",
    "        return image"
   ]
  }
 ],
 "metadata": {
  "kernelspec": {
   "display_name": "Python 3",
   "language": "python",
   "name": "python3"
  },
  "language_info": {
   "codemirror_mode": {
    "name": "ipython",
    "version": 3
   },
   "file_extension": ".py",
   "mimetype": "text/x-python",
   "name": "python",
   "nbconvert_exporter": "python",
   "pygments_lexer": "ipython3",
   "version": "3.7.4"
  }
 },
 "nbformat": 4,
 "nbformat_minor": 4
}
