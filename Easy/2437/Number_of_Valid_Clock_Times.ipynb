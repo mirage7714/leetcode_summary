{
 "cells": [
  {
   "cell_type": "markdown",
   "metadata": {},
   "source": [
    "# 本題要找出共有多少種時間的組合 (\\#String)\n",
    "原題目連結: https://leetcode.com/problems/number-of-valid-clock-times/  \n",
    "\n",
    "You are given a string of length 5 called time, representing the current time on a digital clock in the format \"hh:mm\". The earliest possible time is \"00:00\" and the latest possible time is \"23:59\".  \n",
    "\n",
    "In the string time, the digits represented by the ? symbol are unknown, and must be replaced with a digit from 0 to 9.  \n",
    "Return an integer answer, the number of valid clock times that can be created by replacing every ? with a digit from 0 to 9.   \n",
    "\n",
    "範例:  \n",
    "Ex1:  \n",
    "Input: time = \"?5:00\"  \n",
    "Output: 2  \n",
    "Explanation: We can replace the ? with either a 0 or 1, producing \"05:00\" or \"15:00\". Note that we cannot replace it with a 2, since the time \"25:00\" is invalid. In total, we have two choices.  \n",
    "\n",
    "Ex2:  \n",
    "Input: time = \"0?:0?\"  \n",
    "Output: 100  \n",
    "Explanation: Each ? can be replaced by any digit from 0 to 9, so we have 100 total choices.  \n",
    "\n",
    "Ex3:  \n",
    "Input: time = \"??:??\"  \n",
    "Output: 1440  \n",
    "Explanation: There are 24 possible choices for the hours, and 60 possible choices for the minutes. In total, we have 24 * 60 = 1440 choices."
   ]
  },
  {
   "cell_type": "markdown",
   "metadata": {},
   "source": [
    "* 解題想法:  \n",
    "首先將時間分成小時與分鐘，接著開始檢查各自有多少個?號:  \n",
    "- 小時的部分，如果是第一個位數為'?'，則檢查後面的數值允許有多少種情況存在，如果是第二位數為'?'，則除了前面為2的情況只有四種組合以外，其他都是十種組合  \n",
    "- 分鐘的部分，如果是第一位數為'?'，則有六種可能，如果是第二位數為'?'，則會有十種可能"
   ]
  },
  {
   "cell_type": "code",
   "execution_count": null,
   "metadata": {},
   "outputs": [],
   "source": [
    "class Solution:\n",
    "    def countTime(self, time: str) -> int:\n",
    "        h = time.split(':')[0]\n",
    "        m = time.split(':')[1]\n",
    "        res = 1\n",
    "        if '?' in h:\n",
    "            if h[0] == h[1] == '?':\n",
    "                res *= 24\n",
    "            else: \n",
    "                if h[0] == '?':\n",
    "                    if h[1] > '3':\n",
    "                        res *= 2\n",
    "                    else:\n",
    "                        res *= 3\n",
    "                if h[1] == '?':\n",
    "                    if h[0] == '2':\n",
    "                        res *= 4\n",
    "                    else:\n",
    "                        res *= 10\n",
    "        if '?' in m:\n",
    "            if m[0] == '?':\n",
    "                res *= 6\n",
    "            if m[1] == '?':\n",
    "                res *= 10\n",
    "        return res"
   ]
  }
 ],
 "metadata": {
  "kernelspec": {
   "display_name": "Python 3",
   "language": "python",
   "name": "python3"
  },
  "language_info": {
   "codemirror_mode": {
    "name": "ipython",
    "version": 3
   },
   "file_extension": ".py",
   "mimetype": "text/x-python",
   "name": "python",
   "nbconvert_exporter": "python",
   "pygments_lexer": "ipython3",
   "version": "3.7.4"
  }
 },
 "nbformat": 4,
 "nbformat_minor": 4
}
