{
 "cells": [
  {
   "cell_type": "markdown",
   "metadata": {},
   "source": [
    "# 本題要找出字串中的數字是否為遞增\n",
    "原題目連結: https://leetcode.com/problems/check-if-numbers-are-ascending-in-a-sentence/  \n",
    "\n",
    "A sentence is a list of tokens separated by a single space with no leading or trailing spaces. Every token is either a positive number consisting of digits 0-9 with no leading zeros, or a word consisting of lowercase English letters.  \n",
    "\n",
    "For example, \"a puppy has 2 eyes 4 legs\" is a sentence with seven tokens: \"2\" and \"4\" are numbers and the other tokens such as \"puppy\" are words.  \n",
    "Given a string s representing a sentence, you need to check if all the numbers in s are strictly increasing from left to right (i.e., other than the last number, each number is strictly smaller than the number on its right in s).  \n",
    "\n",
    "Return true if so, or false otherwise.  \n",
    "\n",
    "範例:  \n",
    "Ex1:  \n",
    "Input: s = \"1 box has 3 blue 4 red 6 green and 12 yellow marbles\"  \n",
    "Output: true  \n",
    "Explanation: The numbers in s are: 1, 3, 4, 6, 12.  \n",
    "They are strictly increasing from left to right: 1 < 3 < 4 < 6 < 12.  \n",
    "\n",
    "Ex2:  \n",
    "Input: s = \"hello world 5 x 5\"  \n",
    "Output: false  \n",
    "Explanation: The numbers in s are: 5, 5. They are not strictly increasing.  \n",
    "\n",
    "Ex3:  \n",
    "Input: s = \"sunset is at 7 51 pm overnight lows will be in the low 50 and 60 s\"  \n",
    "Output: false  \n",
    "Explanation: The numbers in s are: 7, 51, 50, 60. They are not strictly increasing.  \n",
    "\n",
    "Ex4:  \n",
    "Input: s = \"4 5 11 26\"  \n",
    "Output: true  \n",
    "Explanation: The numbers in s are: 4, 5, 11, 26.  \n",
    "They are strictly increasing from left to right: 4 < 5 < 11 < 26."
   ]
  },
  {
   "cell_type": "markdown",
   "metadata": {},
   "source": [
    "* 解題想法:  \n",
    "首先建立一個變數temp用來存放數字，並預設為0，接著檢查字串中是否有出現數字，如果有則與temp比較，如果大於temp則將temp更改為此數字，如果temp大於或等於目前數字，則中斷迴圈並回傳False"
   ]
  },
  {
   "cell_type": "code",
   "execution_count": null,
   "metadata": {},
   "outputs": [],
   "source": [
    "class Solution:\n",
    "    def areNumbersAscending(self, s: str) -> bool:\n",
    "        numbers = ['1','2','3','4','5','6','7','8','9']\n",
    "        temp = 0\n",
    "        result = True\n",
    "        words = s.split(' ')\n",
    "        for word in words:\n",
    "            if word[0] in numbers:\n",
    "                i = int(word)\n",
    "                if temp >= i:\n",
    "                    result = False\n",
    "                    break\n",
    "                else:\n",
    "                    temp = i\n",
    "        return result"
   ]
  }
 ],
 "metadata": {
  "kernelspec": {
   "display_name": "Python 3",
   "language": "python",
   "name": "python3"
  },
  "language_info": {
   "codemirror_mode": {
    "name": "ipython",
    "version": 3
   },
   "file_extension": ".py",
   "mimetype": "text/x-python",
   "name": "python",
   "nbconvert_exporter": "python",
   "pygments_lexer": "ipython3",
   "version": "3.7.6"
  }
 },
 "nbformat": 4,
 "nbformat_minor": 4
}
