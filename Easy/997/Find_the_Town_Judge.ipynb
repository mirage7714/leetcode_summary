{
 "cells": [
  {
   "cell_type": "markdown",
   "metadata": {},
   "source": [
    "# 本題要找出在提供的數字與array中，哪些數字是有出現過或是沒有出現過的\n",
    "原題目連結：https://leetcode.com/problems/find-the-town-judge/  \n",
    "\n",
    "In a town, there are N people labelled from 1 to N.  There is a rumor that one of these people is secretly the town judge.  \n",
    "If the town judge exists, then:  \n",
    "1. The town judge trusts nobody.  \n",
    "2. Everybody (except for the town judge) trusts the town judge.  \n",
    "3. There is exactly one person that satisfies properties 1 and 2.  \n",
    "You are given trust, an array of pairs trust[i] = [a, b] representing that the person labelled a trusts the person labelled b.  \n",
    "\n",
    "If the town judge exists and can be identified, return the label of the town judge.  Otherwise, return -1.  \n",
    "\n",
    "範例：  \n",
    "Ex1:  \n",
    "Input: N = 2, trust = [[1,2]]  \n",
    "Output: 2  \n",
    "\n",
    "Ex2:  \n",
    "Input: N = 3, trust = [[1,3],[2,3]]  \n",
    "Output: 3  \n",
    "\n",
    "Ex3:  \n",
    "Input: N = 3, trust = [[1,3],[2,3],[3,1]]  \n",
    "Output: -1  \n",
    "\n",
    "Ex4:  \n",
    "Input: N = 3, trust = [[1,2],[2,3]]  \n",
    "Output: -1  \n",
    "\n",
    "Ex5:  \n",
    "Input: N = 4, trust = [[1,3],[1,4],[2,3],[2,4],[4,3]]  \n",
    "Output: 3"
   ]
  },
  {
   "cell_type": "markdown",
   "metadata": {},
   "source": [
    "* 解題想法：  \n",
    "題目中提供了兩個數字，一個是總共有多少人，另一份是大家信任的清單  \n",
    "根據第一點條件，首先建出一個list包含1~N，然後從清單中將出現過的人移除  \n",
    "另外根據第二點條件，如果是大家都相信的人也會是目標，因此將被大家相信的人清單及次數整理出來  \n",
    "最後判斷以上兩個條件，如果是剩下的清單只出現一個人，且這個人也在大家相信的清單內，這個人就是題目要找的人  \n",
    "或是剩下人的清單超過一個人，但大家相信的清單內只有出現其中一人，也代表這個人是符合題目要找的條件  \n",
    "另外就是如果相信的人清單是0，但人數並不是0，也是要做例外處理  \n",
    "最後如果都沒有答案的話，就是回傳-1"
   ]
  },
  {
   "cell_type": "code",
   "execution_count": null,
   "metadata": {},
   "outputs": [],
   "source": [
    "class Solution:\n",
    "    def findJudge(self, N: int, trust: List[List[int]]) -> int:\n",
    "        people = [n for n in range(1,N+1,1)]\n",
    "        trusted = {}\n",
    "        result = 0 \n",
    "        for t in trust:\n",
    "            if t[0] in people:\n",
    "                people.remove(t[0])\n",
    "            if t[1] not in trusted.keys():\n",
    "                trusted[t[1]] = 1\n",
    "            else:\n",
    "                trusted[t[1]] += 1\n",
    "        if len(people) == 1 and people[0] in trusted.keys() and trusted[people[0]] == N-1:\n",
    "            result = people[0]\n",
    "        elif len(trusted) == 1:\n",
    "            result = trusted.keys()\n",
    "        elif len(people) == 1 and len(trusted.keys()) == 0:\n",
    "            result = people[0]\n",
    "        else:\n",
    "            result = -1\n",
    "        return result"
   ]
  }
 ],
 "metadata": {
  "kernelspec": {
   "display_name": "Python 3",
   "language": "python",
   "name": "python3"
  },
  "language_info": {
   "codemirror_mode": {
    "name": "ipython",
    "version": 3
   },
   "file_extension": ".py",
   "mimetype": "text/x-python",
   "name": "python",
   "nbconvert_exporter": "python",
   "pygments_lexer": "ipython3",
   "version": "3.8.3"
  }
 },
 "nbformat": 4,
 "nbformat_minor": 4
}
