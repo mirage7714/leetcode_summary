{
 "cells": [
  {
   "cell_type": "markdown",
   "id": "12597633-64b9-4dc5-94f9-5843d5261fa3",
   "metadata": {},
   "source": [
    "# 本題要找出對角線最長的最大面積為何 (\\#Array )\n",
    "原題目連結: https://leetcode.com/problems/maximum-area-of-longest-diagonal-rectangle/description/  \n",
    "\n",
    "You are given a 2D 0-indexed integer array dimensions.  \n",
    "For all indices i, 0 <= i < dimensions.length, dimensions[i][0] represents the length and dimensions[i][1] represents the width of the rectangle i.  \n",
    "Return the area of the rectangle having the longest diagonal. If there are multiple rectangles with the longest diagonal, return the area of the rectangle having the maximum area.  \n",
    "\n",
    "範例:  \n",
    "Ex1:  \n",
    "Input: dimensions = [[9,3],[8,6]]  \n",
    "Output: 48  \n",
    "Explanation:    \n",
    "For index = 0, length = 9 and width = 3. Diagonal length = sqrt(9 * 9 + 3 * 3) = sqrt(90) ≈ 9.487.  \n",
    "For index = 1, length = 8 and width = 6. Diagonal length = sqrt(8 * 8 + 6 * 6) = sqrt(100) = 10.  \n",
    "So, the rectangle at index 1 has a greater diagonal length therefore we return area = 8 * 6 = 48.  \n",
    "\n",
    "Ex2:  \n",
    "Input: dimensions = [[3,4],[4,3]]  \n",
    "Output: 12  \n",
    "Explanation: Length of diagonal is the same for both which is 5, so maximum area = 12."
   ]
  },
  {
   "cell_type": "markdown",
   "id": "ee4acefc-2966-4b23-a1a1-831ad89b7930",
   "metadata": {},
   "source": [
    "* 解題想法:  \n",
    "首先用一個變數來儲存目前的面積，另外用一個變數儲存對角線長度，接著用迴圈比較對角線的長度，如果長度大於目前的最大值則更新面積，如果對角線長度相同時則比較最大的面積，最後回傳最大面積就是答案"
   ]
  },
  {
   "cell_type": "code",
   "execution_count": null,
   "id": "d1eba70a-5fd8-4fea-9a7a-fd77e8a4d350",
   "metadata": {},
   "outputs": [],
   "source": [
    "class Solution:\n",
    "    def areaOfMaxDiagonal(self, dimensions: List[List[int]]) -> int:\n",
    "        res = 0\n",
    "        t = 0\n",
    "        for d in dimensions:\n",
    "            diag = sqrt(d[0] * d[0] + d[1] * d[1])\n",
    "            if diag > t:\n",
    "                res = d[0] * d[1]\n",
    "                t = diag\n",
    "            elif diag == t:\n",
    "                res = max(res, d[0] * d[1])\n",
    "        return res"
   ]
  }
 ],
 "metadata": {
  "kernelspec": {
   "display_name": "Python 3 (ipykernel)",
   "language": "python",
   "name": "python3"
  },
  "language_info": {
   "codemirror_mode": {
    "name": "ipython",
    "version": 3
   },
   "file_extension": ".py",
   "mimetype": "text/x-python",
   "name": "python",
   "nbconvert_exporter": "python",
   "pygments_lexer": "ipython3",
   "version": "3.9.13"
  }
 },
 "nbformat": 4,
 "nbformat_minor": 5
}
