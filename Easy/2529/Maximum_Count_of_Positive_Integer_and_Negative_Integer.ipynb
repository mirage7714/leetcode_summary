{
 "cells": [
  {
   "cell_type": "markdown",
   "id": "509c8eb0-c39a-49e2-af51-83493406fa7c",
   "metadata": {},
   "source": [
    "# 本題要找出正數與負數出現次數的最大值 (\\#Array)\n",
    "原題目連結: https://leetcode.com/problems/maximum-count-of-positive-integer-and-negative-integer/description/  \n",
    "\n",
    "Given an array nums sorted in non-decreasing order, return the maximum between the number of positive integers and the number of negative integers.  \n",
    "\n",
    "In other words, if the number of positive integers in nums is pos and the number of negative integers is neg, then return the maximum of pos and neg.  \n",
    "Note that 0 is neither positive nor negative.  \n",
    "\n",
    "範例:  \n",
    "Ex1:  \n",
    "Input: nums = [-2,-1,-1,1,2,3]  \n",
    "Output: 3  \n",
    "Explanation: There are 3 positive integers and 3 negative integers. The maximum count among them is 3.  \n",
    "\n",
    "Ex2:  \n",
    "Input: nums = [-3,-2,-1,0,0,1,2]  　\n",
    "Output: 3  　\n",
    "Explanation: There are 2 positive integers and 3 negative integers. The maximum count among them is 3.  \n",
    "\n",
    "Ex3:  \n",
    "Input: nums = [5,20,66,1314]  \n",
    "Output: 4  \n",
    "Explanation: There are 4 positive integers and 0 negative integers. The maximum count among them is 4."
   ]
  },
  {
   "cell_type": "markdown",
   "id": "7fb2fb85-f238-48c4-96af-88018fb5ecde",
   "metadata": {},
   "source": [
    "* 解題想法:  \n",
    "首先建立一個list用來存放正數與負數出現的次數，接著開始統計兩個數值出現的次數，最後回傳最大值"
   ]
  },
  {
   "cell_type": "code",
   "execution_count": null,
   "id": "832d8e92-225a-4259-ae93-8b8367900e4c",
   "metadata": {},
   "outputs": [],
   "source": [
    "class Solution:\n",
    "    def maximumCount(self, nums: List[int]) -> int:\n",
    "        count = [0,0]\n",
    "        for n in nums:\n",
    "            if n > 0:\n",
    "                count[0] += 1\n",
    "            elif n < 0:\n",
    "                count[1] += 1\n",
    "        return max(count)"
   ]
  }
 ],
 "metadata": {
  "kernelspec": {
   "display_name": "Python 3 (ipykernel)",
   "language": "python",
   "name": "python3"
  },
  "language_info": {
   "codemirror_mode": {
    "name": "ipython",
    "version": 3
   },
   "file_extension": ".py",
   "mimetype": "text/x-python",
   "name": "python",
   "nbconvert_exporter": "python",
   "pygments_lexer": "ipython3",
   "version": "3.9.13"
  }
 },
 "nbformat": 4,
 "nbformat_minor": 5
}
