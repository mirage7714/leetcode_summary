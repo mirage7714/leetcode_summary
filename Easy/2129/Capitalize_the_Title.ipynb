{
 "cells": [
  {
   "cell_type": "markdown",
   "metadata": {},
   "source": [
    "# 本題要將字串依規定轉換大小寫\n",
    "原題目連結: https://leetcode.com/problems/capitalize-the-title/  \n",
    "\n",
    "You are given a string title consisting of one or more words separated by a single space, where each word consists of English letters. Capitalize the string by changing the capitalization of each word such that:  \n",
    "\n",
    "If the length of the word is 1 or 2 letters, change all letters to lowercase.  \n",
    "Otherwise, change the first letter to uppercase and the remaining letters to lowercase.  \n",
    "Return the capitalized title.  \n",
    "\n",
    "範例:  \n",
    "Ex1:  \n",
    "Input: title = \"capiTalIze tHe titLe\"  \n",
    "Output: \"Capitalize The Title\"  \n",
    "Explanation:    \n",
    "Since all the words have a length of at least 3, the first letter of each word is uppercase, and the remaining letters are lowercase.  \n",
    "\n",
    "Ex2:  \n",
    "Input: title = \"First leTTeR of EACH Word\"  \n",
    "Output: \"First Letter of Each Word\"  \n",
    "Explanation:  \n",
    "The word \"of\" has length 2, so it is all lowercase.  \n",
    "The remaining words have a length of at least 3, so the first letter of each remaining word is uppercase, and the remaining letters are lowercase.  \n",
    "\n",
    "Ex3:  \n",
    "Input: title = \"i lOve leetcode\"  \n",
    "Output: \"i Love Leetcode\"  \n",
    "Explanation:  \n",
    "The word \"i\" has length 1, so it is lowercase.  \n",
    "The remaining words have a length of at least 3, so the first letter of each remaining word is uppercase, and the remaining letters are lowercase."
   ]
  },
  {
   "cell_type": "markdown",
   "metadata": {},
   "source": [
    "* 解題想法:  \n",
    "首先統一將字串全部轉換為小寫，接著開始逐字判斷條件，如果長度大於2個字的，則將首自改為大寫並重新組合，最後回傳組合好的字串就是題目要找的答案"
   ]
  },
  {
   "cell_type": "code",
   "execution_count": null,
   "metadata": {},
   "outputs": [],
   "source": [
    "class Solution:\n",
    "    def capitalizeTitle(self, title: str) -> str:\n",
    "        result = ''\n",
    "        words = title.split(' ')\n",
    "        for word in words:\n",
    "            w = word.lower()\n",
    "            if len(w) > 2:\n",
    "                result += w[0].upper()\n",
    "                result += w[1:]\n",
    "            else:\n",
    "                result += w\n",
    "            result += ' '\n",
    "        return result[:-1]"
   ]
  }
 ],
 "metadata": {
  "kernelspec": {
   "display_name": "Python 3",
   "language": "python",
   "name": "python3"
  },
  "language_info": {
   "codemirror_mode": {
    "name": "ipython",
    "version": 3
   },
   "file_extension": ".py",
   "mimetype": "text/x-python",
   "name": "python",
   "nbconvert_exporter": "python",
   "pygments_lexer": "ipython3",
   "version": "3.7.4"
  }
 },
 "nbformat": 4,
 "nbformat_minor": 4
}
