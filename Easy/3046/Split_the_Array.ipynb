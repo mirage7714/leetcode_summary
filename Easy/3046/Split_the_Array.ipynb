{
 "cells": [
  {
   "cell_type": "markdown",
   "id": "f4ab5b59-d02a-4629-a260-4bbfe1710e52",
   "metadata": {},
   "source": [
    "# 本題要判斷是否能將list分成兩個都含有不重複數值的list (\\#Array )\n",
    "原題目連結: https://leetcode.com/problems/split-the-array/description/  \n",
    "\n",
    "You are given an integer array nums of even length. You have to split the array into two parts nums1 and nums2 such that:  \n",
    "nums1.length == nums2.length == nums.length / 2.  \n",
    "nums1 should contain distinct elements.  \n",
    "nums2 should also contain distinct elements.  \n",
    "Return true if it is possible to split the array, and false otherwise.  \n",
    "\n",
    "範例:  \n",
    "Ex1:  \n",
    "Input: nums = [1,1,2,2,3,4]  \n",
    "Output: true  \n",
    "Explanation: One of the possible ways to split nums is nums1 = [1,2,3] and nums2 = [1,2,4].  \n",
    "\n",
    "Ex2:  \n",
    "Input: nums = [1,1,1,1]  \n",
    "Output: false  \n",
    "Explanation: The only possible way to split nums is nums1 = [1,1] and nums2 = [1,1]. Both nums1 and nums2 do not contain distinct elements. Therefore, we return false."
   ]
  },
  {
   "cell_type": "markdown",
   "id": "749c7820-26ba-442c-a257-b6de3f9aedd0",
   "metadata": {},
   "source": [
    "* 解題想法:  \n",
    "首先將所有數值出現的次數統計下來，接著判斷是否有出現超過2次以上的數字，如果有則回傳False，否則回傳True"
   ]
  },
  {
   "cell_type": "code",
   "execution_count": null,
   "id": "10113d7f-c6f8-4814-8def-169f7a011697",
   "metadata": {},
   "outputs": [],
   "source": [
    "class Solution:\n",
    "    def isPossibleToSplit(self, nums: List[int]) -> bool:\n",
    "        count = {}\n",
    "        for n in nums:\n",
    "            if n not in count.keys():\n",
    "                count[n] = 0\n",
    "            count[n] += 1\n",
    "            if count[n] > 2:\n",
    "                return False\n",
    "        return True"
   ]
  }
 ],
 "metadata": {
  "kernelspec": {
   "display_name": "Python 3 (ipykernel)",
   "language": "python",
   "name": "python3"
  },
  "language_info": {
   "codemirror_mode": {
    "name": "ipython",
    "version": 3
   },
   "file_extension": ".py",
   "mimetype": "text/x-python",
   "name": "python",
   "nbconvert_exporter": "python",
   "pygments_lexer": "ipython3",
   "version": "3.9.13"
  }
 },
 "nbformat": 4,
 "nbformat_minor": 5
}
