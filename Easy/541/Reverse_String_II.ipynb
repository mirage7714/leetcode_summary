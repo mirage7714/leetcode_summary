{
 "cells": [
  {
   "cell_type": "markdown",
   "metadata": {},
   "source": [
    "# 本題要將每K個長度的字串進行顛倒順序 (\\#String)\n",
    "原題目連結: https://leetcode.com/problems/reverse-string-ii/  \n",
    "\n",
    "Given a string s and an integer k, reverse the first k characters for every 2k characters counting from the start of the string.  \n",
    "\n",
    "If there are fewer than k characters left, reverse all of them. If there are less than 2k but greater than or equal to k characters, then reverse the first k characters and leave the other as original.  \n",
    "\n",
    "範例:  \n",
    "Ex1:  \n",
    "Input: s = \"abcdefg\", k = 2  \n",
    "Output: \"bacdfeg\"  \n",
    "\n",
    "Ex2:  \n",
    "Input: s = \"abcd\", k = 2  \n",
    "Output: \"bacd\""
   ]
  },
  {
   "cell_type": "markdown",
   "metadata": {},
   "source": [
    "* 解題想法:  \n",
    "首先用一個整數來記錄目前是第幾個長度k的字串，如果是偶數則需要進行前後的順序交換，如果是奇數則不用交換，可直接加到結果的字串，最後回傳結果的字串"
   ]
  },
  {
   "cell_type": "code",
   "execution_count": null,
   "metadata": {},
   "outputs": [],
   "source": [
    "class Solution:\n",
    "    def reverseStr(self, s: str, k: int) -> str:\n",
    "        result = ''\n",
    "        count = 0\n",
    "        for m in range(0, len(s), k):\n",
    "            if count % 2 == 0:\n",
    "                temp = ''\n",
    "                for p in s[m:m+k]:\n",
    "                    temp = p + temp\n",
    "                result += temp\n",
    "            else:\n",
    "                result += s[m:m+k]\n",
    "            count += 1\n",
    "        return result"
   ]
  }
 ],
 "metadata": {
  "kernelspec": {
   "display_name": "Python 3",
   "language": "python",
   "name": "python3"
  },
  "language_info": {
   "codemirror_mode": {
    "name": "ipython",
    "version": 3
   },
   "file_extension": ".py",
   "mimetype": "text/x-python",
   "name": "python",
   "nbconvert_exporter": "python",
   "pygments_lexer": "ipython3",
   "version": "3.7.4"
  }
 },
 "nbformat": 4,
 "nbformat_minor": 4
}
