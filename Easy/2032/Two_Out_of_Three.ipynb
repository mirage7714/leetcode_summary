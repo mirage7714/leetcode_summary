{
 "cells": [
  {
   "cell_type": "markdown",
   "metadata": {},
   "source": [
    "# 本題要找出在三個list中至少出現過兩次的元素\n",
    "原題目連結: https://leetcode.com/problems/two-out-of-three/  \n",
    "\n",
    "Given three integer arrays nums1, nums2, and nums3, return a distinct array containing all the values that are present in at least two out of the three arrays. You may return the values in any order.  \n",
    "\n",
    "範例:  \n",
    "Ex1:  \n",
    "Input: nums1 = [1,1,3,2], nums2 = [2,3], nums3 = [3]  \n",
    "Output: [3,2]  \n",
    "Explanation: The values that are present in at least two arrays are:  \n",
    "- 3, in all three arrays.  \n",
    "- 2, in nums1 and nums2.  \n",
    "\n",
    "Ex2:  \n",
    "Input: nums1 = [3,1], nums2 = [2,3], nums3 = [1,2]  \n",
    "Output: [2,3,1]  \n",
    "Explanation: The values that are present in at least two arrays are:  \n",
    "- 2, in nums2 and nums3.  \n",
    "- 3, in nums1 and nums2.  \n",
    "- 1, in nums1 and nums3.  \n",
    "\n",
    "Ex3:  \n",
    "Input: nums1 = [1,2,2], nums2 = [4,3,3], nums3 = [5]  \n",
    "Output: []  \n",
    "Explanation: No value is present in at least two arrays."
   ]
  },
  {
   "cell_type": "markdown",
   "metadata": {},
   "source": [
    "* 解題想法:  \n",
    "首先找出每個list中出現的元件共有幾種，接著將三個list中所有出現過的元件都進行統計，最後只要出現次數超過兩個以上的就是題目要找的答案"
   ]
  },
  {
   "cell_type": "code",
   "execution_count": null,
   "metadata": {},
   "outputs": [],
   "source": [
    "class Solution:\n",
    "    def twoOutOfThree(self, nums1: List[int], nums2: List[int], nums3: List[int]) -> List[int]:\n",
    "        def getFreq(nums):\n",
    "            freq = {}\n",
    "            for n in nums:\n",
    "                if n not in freq.keys():\n",
    "                    freq[n] = 1\n",
    "                else:\n",
    "                    freq[n] += 1\n",
    "            return freq\n",
    "        result = []\n",
    "        key1 = list(getFreq(nums1).keys())\n",
    "        key2 = list(getFreq(nums2).keys())\n",
    "        key3 = list(getFreq(nums3).keys())\n",
    "        k = key1 + key2 + key3\n",
    "        f = getFreq(k)\n",
    "        for k, v in f.items():\n",
    "            if v >=2:\n",
    "                result.append(k)\n",
    "        return result"
   ]
  }
 ],
 "metadata": {
  "kernelspec": {
   "display_name": "Python 3",
   "language": "python",
   "name": "python3"
  },
  "language_info": {
   "codemirror_mode": {
    "name": "ipython",
    "version": 3
   },
   "file_extension": ".py",
   "mimetype": "text/x-python",
   "name": "python",
   "nbconvert_exporter": "python",
   "pygments_lexer": "ipython3",
   "version": "3.7.6"
  }
 },
 "nbformat": 4,
 "nbformat_minor": 4
}
