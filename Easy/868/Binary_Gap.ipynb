{
 "cells": [
  {
   "cell_type": "markdown",
   "metadata": {},
   "source": [
    "# 本題要找出在二進位中，兩個相鄰的1最多距離多少\n",
    "原題目連結: https://leetcode.com/problems/binary-gap/  \n",
    "\n",
    "Given a positive integer n, find and return the longest distance between any two adjacent 1's in the binary representation of n. If there are no two adjacent 1's, return 0.  \n",
    "\n",
    "Two 1's are adjacent if there are only 0's separating them (possibly no 0's). The distance between two 1's is the absolute difference between their bit positions. For example, the two 1's in \"1001\" have a distance of 3.  \n",
    "\n",
    "\n",
    "範例:  \n",
    "Ex1:  \n",
    "Input: n = 22  \n",
    "Output: 2  \n",
    "Explanation: 22 in binary is \"10110\".  \n",
    "The first adjacent pair of 1's is \"10110\" with a distance of 2.  \n",
    "The second adjacent pair of 1's is \"10110\" with a distance of 1.  \n",
    "The answer is the largest of these two distances, which is 2.  \n",
    "Note that \"10110\" is not a valid pair since there is a 1 separating the two 1's underlined.  \n",
    "\n",
    "Ex2:  \n",
    "Input: n = 5  \n",
    "Output: 2   \n",
    "Explanation: 5 in binary is \"101\".  \n",
    "\n",
    "Ex3:  \n",
    "Input: n = 6  \n",
    "Output: 1  \n",
    "Explanation: 6 in binary is \"110\".  \n",
    "\n",
    "Ex4:  \n",
    "Input: n = 8  \n",
    "Output: 0  \n",
    "Explanation: 8 in binary is \"1000\".  \n",
    "There aren't any adjacent pairs of 1's in the binary representation of 8, so we return 0."
   ]
  },
  {
   "cell_type": "markdown",
   "metadata": {},
   "source": [
    "* 解題想法:  \n",
    "這題要找出在提供的整數N轉成二進位後，兩個相鄰的1之間距離最遠為多少，因此需要先將N轉為二進位的字串  \n",
    "找出為1的字串index，並計算兩個index間最大距離為多少"
   ]
  },
  {
   "cell_type": "code",
   "execution_count": null,
   "metadata": {},
   "outputs": [],
   "source": [
    "class Solution:\n",
    "    def binaryGap(self, n: int) -> int:\n",
    "        binary = bin(n)[2:]\n",
    "        result = []\n",
    "        great = 0\n",
    "        for n in range(len(binary)):\n",
    "            if binary[n] == '1':\n",
    "                result.append(n)\n",
    "        if len(result) > 1:\n",
    "            for o in range(len(result)-1):\n",
    "                if result[o+1] - result[o] > great: \n",
    "                    great = result[o+1] - result[o]\n",
    "        return great"
   ]
  }
 ],
 "metadata": {
  "kernelspec": {
   "display_name": "Python 3",
   "language": "python",
   "name": "python3"
  },
  "language_info": {
   "codemirror_mode": {
    "name": "ipython",
    "version": 3
   },
   "file_extension": ".py",
   "mimetype": "text/x-python",
   "name": "python",
   "nbconvert_exporter": "python",
   "pygments_lexer": "ipython3",
   "version": "3.7.4"
  }
 },
 "nbformat": 4,
 "nbformat_minor": 2
}
