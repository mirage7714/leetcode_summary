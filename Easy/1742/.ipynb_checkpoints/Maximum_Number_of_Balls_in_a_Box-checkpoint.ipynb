{
 "cells": [
  {
   "cell_type": "markdown",
   "metadata": {},
   "source": [
    "# 本題要找出在給定的範圍內數字組合最多的量\n",
    "原題目連結: https://leetcode.com/problems/maximum-number-of-balls-in-a-box/  \n",
    "\n",
    "You are working in a ball factory where you have n balls numbered from lowLimit up to highLimit inclusive (i.e., n == highLimit - lowLimit + 1), and an infinite number of boxes numbered from 1 to infinity.  \n",
    "\n",
    "Your job at this factory is to put each ball in the box with a number equal to the sum of digits of the ball's number. For example, the ball number 321 will be put in the box number 3 + 2 + 1 = 6 and the ball number 10 will be put in the box number 1 + 0 = 1.  \n",
    "\n",
    "Given two integers lowLimit and highLimit, return the number of balls in the box with the most balls.  \n",
    "\n",
    "範例:  \n",
    "Ex1:  \n",
    "Input: lowLimit = 1, highLimit = 10  \n",
    "Output: 2  \n",
    "Explanation:  \n",
    "Box Number:  1 2 3 4 5 6 7 8 9 10 11 ...  \n",
    "Ball Count:  2 1 1 1 1 1 1 1 1 0  0  ...  \n",
    "Box 1 has the most number of balls with 2 balls.  \n",
    "\n",
    "Ex2:  \n",
    "Input: lowLimit = 5, highLimit = 15  \n",
    "Output: 2  \n",
    "Explanation:  \n",
    "Box Number:  1 2 3 4 5 6 7 8 9 10 11 ...  \n",
    "Ball Count:  1 1 1 1 2 2 1 1 1 0  0  ...  \n",
    "Boxes 5 and 6 have the most number of balls with 2 balls in each.  \n",
    "\n",
    "Ex3:  \n",
    "Input: lowLimit = 19, highLimit = 28  \n",
    "Output: 2  \n",
    "Explanation:  \n",
    "Box Number:  1 2 3 4 5 6 7 8 9 10 11 12 ...  \n",
    "Ball Count:  0 1 1 1 1 1 1 1 1 2  0  0  ...  \n",
    "Box 10 has the most number of balls with 2 balls."
   ]
  },
  {
   "cell_type": "markdown",
   "metadata": {},
   "source": [
    "* 解題想法:  \n",
    "依題目說明，要將不同數字的球加總之後放進盒子內，因此需要先將數字加總後依總和放入一個dict中，最後將dict中value最大值回傳就是題目要求的答案"
   ]
  },
  {
   "cell_type": "code",
   "execution_count": null,
   "metadata": {},
   "outputs": [],
   "source": [
    "class Solution:\n",
    "    def countBalls(self, lowLimit: int, highLimit: int) -> int:\n",
    "        def getSum(num):\n",
    "            total = 0\n",
    "            snum = str(num)\n",
    "            for m in range(len(snum)):\n",
    "                total += int(snum[m])\n",
    "            return total\n",
    "            \n",
    "        freq = {}\n",
    "        for n in range(lowLimit, highLimit+1, 1):\n",
    "            digit = getSum(n)\n",
    "            if digit not in freq.keys():\n",
    "                freq[digit] = 1\n",
    "            else:\n",
    "                freq[digit] += 1\n",
    "        val = list(freq.values())\n",
    "        return max(val)"
   ]
  }
 ],
 "metadata": {
  "kernelspec": {
   "display_name": "Python 3",
   "language": "python",
   "name": "python3"
  },
  "language_info": {
   "codemirror_mode": {
    "name": "ipython",
    "version": 3
   },
   "file_extension": ".py",
   "mimetype": "text/x-python",
   "name": "python",
   "nbconvert_exporter": "python",
   "pygments_lexer": "ipython3",
   "version": "3.7.4"
  }
 },
 "nbformat": 4,
 "nbformat_minor": 2
}
