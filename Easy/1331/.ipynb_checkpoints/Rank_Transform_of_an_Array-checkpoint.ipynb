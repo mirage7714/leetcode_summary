{
 "cells": [
  {
   "cell_type": "markdown",
   "metadata": {},
   "source": [
    "# 本題要將原本的array轉成大小的排序結果\n",
    "原題目連結: https://leetcode.com/problems/rank-transform-of-an-array/  \n",
    "\n",
    "Given an array of integers arr, replace each element with its rank.  \n",
    "\n",
    "The rank represents how large the element is. The rank has the following rules:  \n",
    "\n",
    "Rank is an integer starting from 1.  \n",
    "The larger the element, the larger the rank. If two elements are equal, their rank must be the same.  \n",
    "Rank should be as small as possible.  \n",
    "\n",
    "範例:  \n",
    "Ex1:  \n",
    "Input: arr = [40,10,20,30]  \n",
    "Output: [4,1,2,3]  \n",
    "Explanation: 40 is the largest element. 10 is the smallest. 20 is the second smallest. 30 is the third smallest.  \n",
    "\n",
    "Ex2:  \n",
    "Input: arr = [100,100,100]  \n",
    "Output: [1,1,1]  \n",
    "Explanation: Same elements share the same rank.  \n",
    "\n",
    "Ex3:  \n",
    "Input: arr = [37,12,28,9,100,56,80,5,12]  \n",
    "Output: [5,3,4,2,8,6,7,1,3]"
   ]
  },
  {
   "cell_type": "markdown",
   "metadata": {},
   "source": [
    "* 解題想法:  \n",
    "由於題目要求將list內的元件大小轉換為排序的大小，因此使用了一個dict來記錄每個元件的大小  \n",
    "最後用一個list來將每個元件轉換為大小，就是題目要求的答案"
   ]
  },
  {
   "cell_type": "code",
   "execution_count": null,
   "metadata": {},
   "outputs": [],
   "source": [
    "class Solution:\n",
    "    def arrayRankTransform(self, arr: List[int]) -> List[int]:\n",
    "        orders = {}\n",
    "        result = []\n",
    "        index = 1\n",
    "        ar = sorted(arr)\n",
    "        for a in ar:\n",
    "            if a not in orders.keys():\n",
    "                orders[a] = index\n",
    "                index += 1\n",
    "        for n in range(len(arr)):\n",
    "            result.append(orders[arr[n]])\n",
    "        return result\n",
    "                "
   ]
  }
 ],
 "metadata": {
  "kernelspec": {
   "display_name": "Python 3",
   "language": "python",
   "name": "python3"
  },
  "language_info": {
   "codemirror_mode": {
    "name": "ipython",
    "version": 3
   },
   "file_extension": ".py",
   "mimetype": "text/x-python",
   "name": "python",
   "nbconvert_exporter": "python",
   "pygments_lexer": "ipython3",
   "version": "3.7.4"
  }
 },
 "nbformat": 4,
 "nbformat_minor": 2
}
