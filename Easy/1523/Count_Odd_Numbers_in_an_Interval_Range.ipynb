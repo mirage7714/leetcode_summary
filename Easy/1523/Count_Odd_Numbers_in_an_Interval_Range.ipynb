{
 "cells": [
  {
   "cell_type": "markdown",
   "metadata": {},
   "source": [
    "# 本題要找出區間內共有多少個奇數\n",
    "原題目連結：https://leetcode.com/problems/count-odd-numbers-in-an-interval-range/  \n",
    "\n",
    "範例：  \n",
    "Ex1:  \n",
    "Input: low = 3, high = 7  \n",
    "Output: 3  \n",
    "Explanation: The odd numbers between 3 and 7 are [3,5,7].  \n",
    "\n",
    "Ex2:  \n",
    "Input: low = 8, high = 10  \n",
    "Output: 1  \n",
    "Explanation: The odd numbers between 8 and 10 are [9]."
   ]
  },
  {
   "cell_type": "markdown",
   "metadata": {},
   "source": [
    "* 解題想法：  \n",
    "原本嘗試用迴圈去找出所有整數，但這個作法會超過時間的限制。比較快速的作法是直接用大數減小數，再判斷是不是需要補數字  \n",
    "最後將所有組合都找出來"
   ]
  },
  {
   "cell_type": "code",
   "execution_count": null,
   "metadata": {},
   "outputs": [],
   "source": [
    "class Solution:\n",
    "    def countOdds(self, low: int, high: int) -> int:\n",
    "        count = 0\n",
    "        if low % 2 == 1:\n",
    "            if high % 2 == 1:\n",
    "                count = int((high- low )/2 + 1)\n",
    "            else:\n",
    "                count = int((high - low +1) / 2)\n",
    "        else:\n",
    "            if high % 2 == 0:\n",
    "                count = int((high - low) / 2)\n",
    "            else:\n",
    "                count = int((high - low +1 ) / 2 )\n",
    "        return count"
   ]
  }
 ],
 "metadata": {
  "kernelspec": {
   "display_name": "Python 3",
   "language": "python",
   "name": "python3"
  },
  "language_info": {
   "codemirror_mode": {
    "name": "ipython",
    "version": 3
   },
   "file_extension": ".py",
   "mimetype": "text/x-python",
   "name": "python",
   "nbconvert_exporter": "python",
   "pygments_lexer": "ipython3",
   "version": "3.8.3"
  }
 },
 "nbformat": 4,
 "nbformat_minor": 4
}
