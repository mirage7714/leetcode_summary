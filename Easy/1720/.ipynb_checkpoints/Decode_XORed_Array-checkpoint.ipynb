{
 "cells": [
  {
   "cell_type": "markdown",
   "metadata": {},
   "source": [
    "# 本題要找出轉換XOR之前的array為何\n",
    "原題目連結: https://leetcode.com/problems/decode-xored-array/  \n",
    "\n",
    "There is a hidden integer array arr that consists of n non-negative integers.  \n",
    "\n",
    "It was encoded into another integer array encoded of length n - 1, such that encoded[i] = arr[i] XOR arr[i + 1]. For example, if arr = [1,0,2,1], then encoded = [1,2,3].  \n",
    "\n",
    "You are given the encoded array. You are also given an integer first, that is the first element of arr, i.e. arr[0].  \n",
    "Return the original array arr. It can be proved that the answer exists and is unique.  \n",
    "\n",
    "範例:  \n",
    "Ex1:  \n",
    "Input: encoded = [1,2,3], first = 1  \n",
    "Output: [1,0,2,1]  \n",
    "Explanation: If arr = [1,0,2,1], then first = 1 and encoded = [1 XOR 0, 0 XOR 2, 2 XOR 1] = [1,2,3]  \n",
    "\n",
    "Ex2:  \n",
    "Input: encoded = [6,2,7,3], first = 4  \n",
    "Output: [4,2,0,7,4]"
   ]
  },
  {
   "cell_type": "markdown",
   "metadata": {},
   "source": [
    "* 解題想法:  \n",
    "依題目的要求，首先提供了XOR之前的第一個數字，將這個數字跟提供的list的第一個元素進行XOR運算後可以得到第二個數字  \n",
    "接續下去就可以得到所有的元素，並全部加入一個list中就是題目要找的答案  \n",
    "另外a XOR b = c的話，也可以看成a XOR c = b"
   ]
  },
  {
   "cell_type": "code",
   "execution_count": null,
   "metadata": {},
   "outputs": [],
   "source": [
    "class Solution:\n",
    "    def decode(self, encoded: List[int], first: int) -> List[int]:\n",
    "        result = [first]\n",
    "        for encode in encoded:\n",
    "            result.append(encode^result[-1])\n",
    "        return result"
   ]
  }
 ],
 "metadata": {
  "kernelspec": {
   "display_name": "Python 3",
   "language": "python",
   "name": "python3"
  },
  "language_info": {
   "codemirror_mode": {
    "name": "ipython",
    "version": 3
   },
   "file_extension": ".py",
   "mimetype": "text/x-python",
   "name": "python",
   "nbconvert_exporter": "python",
   "pygments_lexer": "ipython3",
   "version": "3.7.4"
  }
 },
 "nbformat": 4,
 "nbformat_minor": 2
}
