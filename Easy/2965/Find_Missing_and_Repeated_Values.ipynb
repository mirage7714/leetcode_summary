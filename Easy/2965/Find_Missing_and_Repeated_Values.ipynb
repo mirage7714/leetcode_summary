{
 "cells": [
  {
   "cell_type": "markdown",
   "id": "56ee7fbb-6e51-4430-b44f-634d67960fe7",
   "metadata": {},
   "source": [
    "# 本題要找出重複與缺少的數字分別是多少 (\\#Array )\n",
    "原題目連結：https://leetcode.com/problems/find-missing-and-repeated-values/description/  \n",
    "\n",
    "You are given a 0-indexed 2D integer matrix grid of size n * n with values in the range [1, n2]. Each integer appears exactly once except a which appears twice and b which is missing. The task is to find the repeating and missing numbers a and b.  \n",
    "Return a 0-indexed integer array ans of size 2 where ans[0] equals to a and ans[1] equals to b.    \n",
    "\n",
    "範例：  \n",
    "Ex1:  \n",
    "Input: grid = [[1,3],[2,2]]  \n",
    "Output: [2,4]  \n",
    "Explanation: Number 2 is repeated and number 4 is missing so the answer is [2,4].  \n",
    "\n",
    "Ex2:  \n",
    "Input: grid = [[9,1,7],[8,9,2],[3,4,6]]  \n",
    "Output: [9,5]  \n",
    "Explanation: Number 9 is repeated and number 5 is missing so the answer is [9,5]."
   ]
  },
  {
   "cell_type": "markdown",
   "id": "d70a8861-6372-4a2c-b9b9-787ce36dbb65",
   "metadata": {},
   "source": [
    "* 解題想法：  \n",
    "首先建立一個結果的list，接著將數字統計後放入dict中，並找出哪個數字是重複的，接著從dict的key中去尋找哪個數字沒有出現過，最後回傳結果"
   ]
  },
  {
   "cell_type": "code",
   "execution_count": null,
   "id": "c31b4a86-d37a-47e1-9282-effe48a63ccc",
   "metadata": {},
   "outputs": [],
   "source": [
    "class Solution:\n",
    "    def findMissingAndRepeatedValues(self, grid: List[List[int]]) -> List[int]:\n",
    "        res = [0,0]\n",
    "        count = {}\n",
    "        for g in grid:\n",
    "            for i in g:\n",
    "                if i not in count.keys():\n",
    "                    count[i] = 1\n",
    "                else:\n",
    "                    count[i] += 1\n",
    "                    res[0] = i\n",
    "        keys = list(count.keys())\n",
    "        keys.sort()\n",
    "        for i in range(len(keys)-1):\n",
    "            if keys[i+1] - keys[i] > 1:\n",
    "                res[1] = keys[i] + 1\n",
    "                break\n",
    "        if res[1] == 0:\n",
    "            if 1 not in keys:\n",
    "                res[1] = 1\n",
    "            else:\n",
    "                res[1] = len(keys)+1\n",
    "        return res"
   ]
  }
 ],
 "metadata": {
  "kernelspec": {
   "display_name": "Python 3 (ipykernel)",
   "language": "python",
   "name": "python3"
  },
  "language_info": {
   "codemirror_mode": {
    "name": "ipython",
    "version": 3
   },
   "file_extension": ".py",
   "mimetype": "text/x-python",
   "name": "python",
   "nbconvert_exporter": "python",
   "pygments_lexer": "ipython3",
   "version": "3.10.9"
  }
 },
 "nbformat": 4,
 "nbformat_minor": 5
}
