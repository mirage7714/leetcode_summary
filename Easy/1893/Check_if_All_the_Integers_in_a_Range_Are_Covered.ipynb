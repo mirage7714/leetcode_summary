{
 "cells": [
  {
   "cell_type": "markdown",
   "metadata": {},
   "source": [
    "# 本題要判斷題目提供的區間，是否可被list中的所有數的範圍涵蓋\n",
    "原題目連結: https://leetcode.com/problems/check-if-all-the-integers-in-a-range-are-covered/  \n",
    "\n",
    "You are given a 2D integer array ranges and two integers left and right. Each ranges[i] = [starti, endi] represents an inclusive interval between starti and endi.  \n",
    "\n",
    "Return true if each integer in the inclusive range [left, right] is covered by at least one interval in ranges. Return false otherwise.  \n",
    "\n",
    "An integer x is covered by an interval ranges[i] = [starti, endi] if starti <= x <= endi.  \n",
    "\n",
    "範例:  \n",
    "Ex1:  \n",
    "Input: ranges = [[1,2],[3,4],[5,6]], left = 2, right = 5  \n",
    "Output: true  \n",
    "Explanation: Every integer between 2 and 5 is covered:  \n",
    "- 2 is covered by the first range.  \n",
    "- 3 and 4 are covered by the second range.  \n",
    "- 5 is covered by the third range.  \n",
    "\n",
    "Ex2:  \n",
    "Input: ranges = [[1,10],[10,20]], left = 21, right = 21  \n",
    "Output: false  \n",
    "Explanation: 21 is not covered by any range."
   ]
  },
  {
   "cell_type": "markdown",
   "metadata": {},
   "source": [
    "* 解題想法:  \n",
    "首先使用題目提供的兩個數left與right來組成一個迴圈，接著從2D list中開始逐個檢查迴圈中的數字是否有出現，如果這個數字有出現在list中，則中斷迴圈並檢查下一個數字以及更新index，如果都沒有出現過，則代表這個數字是無法被涵蓋的，因此中斷最外層的迴圈並回傳false"
   ]
  },
  {
   "cell_type": "code",
   "execution_count": null,
   "metadata": {},
   "outputs": [],
   "source": [
    "class Solution:\n",
    "    def isCovered(self, ranges: List[List[int]], left: int, right: int) -> bool:\n",
    "        is_valid = True\n",
    "        ranges.sort()\n",
    "        index = 0\n",
    "        for m in range(left, right + 1):\n",
    "            is_exist = False\n",
    "            for n in range(index, len(ranges)):\n",
    "                r = ranges[n]\n",
    "                if m >= r[0] and m <= r[1]:\n",
    "                    is_exist = True\n",
    "                    index = n\n",
    "                    break\n",
    "            if not is_exist:\n",
    "                is_valid = False\n",
    "                break\n",
    "        return is_valid"
   ]
  }
 ],
 "metadata": {
  "kernelspec": {
   "display_name": "Python 3",
   "language": "python",
   "name": "python3"
  },
  "language_info": {
   "codemirror_mode": {
    "name": "ipython",
    "version": 3
   },
   "file_extension": ".py",
   "mimetype": "text/x-python",
   "name": "python",
   "nbconvert_exporter": "python",
   "pygments_lexer": "ipython3",
   "version": "3.7.6"
  }
 },
 "nbformat": 4,
 "nbformat_minor": 4
}
