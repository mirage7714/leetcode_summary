{
 "cells": [
  {
   "cell_type": "markdown",
   "metadata": {},
   "source": [
    "# 本題要找出在加減K的範圍內，list中最大與最小數值的差距為多少 (\\#Array, \\#Math)\n",
    "原題目連結: https://leetcode.com/problems/smallest-range-i/  \n",
    "\n",
    "You are given an integer array nums and an integer k.  \n",
    "In one operation, you can choose any index i where 0 <= i < nums.length and change nums[i] to nums[i] + x where x is an integer from the range [-k, k]. You can apply this operation at most once for each index i.  \n",
    "The score of nums is the difference between the maximum and minimum elements in nums.  \n",
    "Return the minimum score of nums after applying the mentioned operation at most once for each index in it.  \n",
    "\n",
    "範例:  \n",
    "Ex1:  \n",
    "Input: nums = [1], k = 0  \n",
    "Output: 0  \n",
    "Explanation: The score is max(nums) - min(nums) = 1 - 1 = 0.  \n",
    "\n",
    "Ex2:  \n",
    "Input: nums = [0,10], k = 2  \n",
    "Output: 6  \n",
    "Explanation: Change nums to be [2, 8]. The score is max(nums) - min(nums) = 8 - 2 = 6.  \n",
    "\n",
    "Ex3:  \n",
    "Input: nums = [1,3,6], k = 3  \n",
    "Output: 0  \n",
    "Explanation: Change nums to be [4, 4, 4]. The score is max(nums) - min(nums) = 4 - 4 = 0."
   ]
  },
  {
   "cell_type": "markdown",
   "metadata": {},
   "source": [
    "* 解題想法:  \n",
    "首先找出list中的最大值與最小值，如果兩個數值的差距大於2 \\* K，則差值為最大值減最小值再減2 \\* K，否則直接回傳0"
   ]
  },
  {
   "cell_type": "code",
   "execution_count": null,
   "metadata": {},
   "outputs": [],
   "source": [
    "class Solution:\n",
    "    def smallestRangeI(self, A: List[int], K: int) -> int:\n",
    "        if max(A) - min(A) >  2 * K:\n",
    "            return max(A) - min(A) - 2 * K\n",
    "        else:\n",
    "            return 0"
   ]
  }
 ],
 "metadata": {
  "kernelspec": {
   "display_name": "Python 3",
   "language": "python",
   "name": "python3"
  },
  "language_info": {
   "codemirror_mode": {
    "name": "ipython",
    "version": 3
   },
   "file_extension": ".py",
   "mimetype": "text/x-python",
   "name": "python",
   "nbconvert_exporter": "python",
   "pygments_lexer": "ipython3",
   "version": "3.7.4"
  }
 },
 "nbformat": 4,
 "nbformat_minor": 4
}
