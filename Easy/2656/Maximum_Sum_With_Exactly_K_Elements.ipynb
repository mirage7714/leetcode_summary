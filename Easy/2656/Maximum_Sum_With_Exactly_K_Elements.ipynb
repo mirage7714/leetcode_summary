{
 "cells": [
  {
   "cell_type": "markdown",
   "metadata": {},
   "source": [
    "# 本題要找出最大的K個數值總和為多少 (\\#Array, \\#Math)\n",
    "原題目連結: https://leetcode.com/problems/maximum-sum-with-exactly-k-elements/description/  \n",
    "\n",
    "You are given a 0-indexed integer array nums and an integer k. Your task is to perform the following operation exactly k times in order to maximize your score:  \n",
    "\n",
    "Select an element m from nums.  \n",
    "Remove the selected element m from the array.  \n",
    "Add a new element with a value of m + 1 to the array.  \n",
    "Increase your score by m.  \n",
    "Return the maximum score you can achieve after performing the operation exactly k times.  \n",
    "\n",
    "範例:  \n",
    "Ex1:  \n",
    "Input: nums = [1,2,3,4,5], k = 3  \n",
    "Output: 18  \n",
    "Explanation: We need to choose exactly 3 elements from nums to maximize the sum.  \n",
    "For the first iteration, we choose 5. Then sum is 5 and nums = [1,2,3,4,6]  \n",
    "For the second iteration, we choose 6. Then sum is 5 + 6 and nums = [1,2,3,4,7]  \n",
    "For the third iteration, we choose 7. Then sum is 5 + 6 + 7 = 18 and nums = [1,2,3,4,8]  \n",
    "So, we will return 18.  \n",
    "It can be proven, that 18 is the maximum answer that we can achieve.  \n",
    "\n",
    "Ex2:  \n",
    "Input: nums = [5,5,5], k = 2  \n",
    "Output: 11  \n",
    "Explanation: We need to choose exactly 2 elements from nums to maximize the sum.  \n",
    "For the first iteration, we choose 5. Then sum is 5 and nums = [5,5,6]  \n",
    "For the second iteration, we choose 6. Then sum is 5 + 6 = 11 and nums = [5,5,7]  \n",
    "So, we will return 11.  \n",
    "It can be proven, that 11 is the maximum answer that we can achieve."
   ]
  },
  {
   "cell_type": "markdown",
   "metadata": {},
   "source": [
    "* 解題想法:  \n",
    "首先找出list中最大的數值，接著計算在K次之後的總和為最大值 x k次加上新增的數值為k x (k-1) / 2，最後回傳總和就是答案"
   ]
  },
  {
   "cell_type": "code",
   "execution_count": null,
   "metadata": {},
   "outputs": [],
   "source": [
    "class Solution:\n",
    "    def maximizeSum(self, nums: List[int], k: int) -> int:\n",
    "        m = max(nums)\n",
    "        return int(m * k + k * (k-1) / 2)"
   ]
  }
 ],
 "metadata": {
  "kernelspec": {
   "display_name": "Python 3",
   "language": "python",
   "name": "python3"
  },
  "language_info": {
   "codemirror_mode": {
    "name": "ipython",
    "version": 3
   },
   "file_extension": ".py",
   "mimetype": "text/x-python",
   "name": "python",
   "nbconvert_exporter": "python",
   "pygments_lexer": "ipython3",
   "version": "3.7.6"
  }
 },
 "nbformat": 4,
 "nbformat_minor": 4
}
