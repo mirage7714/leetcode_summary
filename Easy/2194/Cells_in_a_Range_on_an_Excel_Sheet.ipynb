{
 "cells": [
  {
   "cell_type": "markdown",
   "metadata": {},
   "source": [
    "# 本題要找出excel範圍內所有的cell\n",
    "原題目連結: https://leetcode.com/problems/cells-in-a-range-on-an-excel-sheet/  \n",
    "\n",
    "A cell (r, c) of an excel sheet is represented as a string 'col''row' where:  \n",
    "\n",
    "<col> denotes the column number c of the cell. It is represented by alphabetical letters.  \n",
    "For example, the 1st column is denoted by 'A', the 2nd by 'B', the 3rd by 'C', and so on.  \n",
    "<row> is the row number r of the cell. The rth row is represented by the integer r.   \n",
    "You are given a string s in the format 'col1''row1':'col2''row2'\", where <col1> represents the column c1, 'row1' represents the row r1, 'col2' represents the column c2, and 'row2' represents the row r2, such that r1 <= r2 and c1 <= c2.    \n",
    "\n",
    "Return the list of cells (x, y) such that r1 <= x <= r2 and c1 <= y <= c2. The cells should be represented as strings in the format mentioned above and be sorted in non-decreasing order first by columns and then by rows.    \n",
    "    \n",
    "範例:  \n",
    "Ex1:  \n",
    "Input: s = \"K1:L2\"  \n",
    "Output: [\"K1\",\"K2\",\"L1\",\"L2\"]  \n",
    "Explanation:  \n",
    "The above diagram shows the cells which should be present in the list.  \n",
    "The red arrows denote the order in which the cells should be presented.  \n",
    "    \n",
    "Ex2:  \n",
    "Input: s = \"A1:F1\"   \n",
    "Output: [\"A1\",\"B1\",\"C1\",\"D1\",\"E1\",\"F1\"]  \n",
    "Explanation:    \n",
    "The above diagram shows the cells which should be present in the list.   \n",
    "The red arrow denotes the order in which the cells should be presented."
   ]
  },
  {
   "cell_type": "markdown",
   "metadata": {},
   "source": [
    "* 解題想法:  \n",
    "手先找出起始以及結束的cell，接著判斷範圍內包含的數字以及字母，最後將cell組合起來後放入一個list就是答案"
   ]
  },
  {
   "cell_type": "code",
   "execution_count": null,
   "metadata": {},
   "outputs": [],
   "source": [
    "class Solution:\n",
    "    def cellsInRange(self, s: str) -> List[str]:\n",
    "        result = []\n",
    "        start_c = s[0]\n",
    "        start_d = s[1]\n",
    "        end_c = s[3]\n",
    "        end_d = s[4]\n",
    "        chars = ['A','B','C','D','E','F','G','H','I','J','K','L','M','N','O','P','Q','R','S','T','U','V','W','X','Y','Z']\n",
    "        for m in range(chars.index(start_c), chars.index(end_c)+1):\n",
    "            c = chars[m]\n",
    "            for n in range(int(start_d), int(end_d)+1):\n",
    "                cell = '{}{}'.format(c, n)\n",
    "                result.append(cell)\n",
    "        return result"
   ]
  }
 ],
 "metadata": {
  "kernelspec": {
   "display_name": "Python 3",
   "language": "python",
   "name": "python3"
  },
  "language_info": {
   "codemirror_mode": {
    "name": "ipython",
    "version": 3
   },
   "file_extension": ".py",
   "mimetype": "text/x-python",
   "name": "python",
   "nbconvert_exporter": "python",
   "pygments_lexer": "ipython3",
   "version": "3.7.4"
  }
 },
 "nbformat": 4,
 "nbformat_minor": 4
}
