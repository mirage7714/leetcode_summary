{
 "cells": [
  {
   "cell_type": "markdown",
   "metadata": {},
   "source": [
    "# 本題要找出在array中是否有連續的數字\n",
    "原題目連結: https://leetcode.com/problems/summary-ranges/  \n",
    "\n",
    "You are given a sorted unique integer array nums.  \n",
    "Return the smallest sorted list of ranges that cover all the numbers in the array exactly. That is, each element of nums is covered by exactly one of the ranges, and there is no integer x such that x is in one of the ranges but not in nums.  \n",
    "\n",
    "範例:  \n",
    "Ex1:  \n",
    "Input: nums = [0,1,2,4,5,7]  \n",
    "Output: [\"0->2\",\"4->5\",\"7\"]  \n",
    "Explanation: The ranges are:  \n",
    "[0,2] --> \"0->2\"  \n",
    "[4,5] --> \"4->5\"  \n",
    "[7,7] --> \"7\"  \n",
    "\n",
    "Ex2:  \n",
    "Input: nums = [0,2,3,4,6,8,9]  \n",
    "Output: [\"0\",\"2->4\",\"6\",\"8->9\"]  \n",
    "Explanation: The ranges are:  \n",
    "[0,0] --> \"0\"  \n",
    "[2,4] --> \"2->4\"  \n",
    "[6,6] --> \"6\"  \n",
    "[8,9] --> \"8->9\"  \n",
    "\n",
    "Ex3:  \n",
    "Input: nums = []  \n",
    "Output: []  \n",
    "\n",
    "Ex4:  \n",
    "Input: nums = [-1]  \n",
    "Output: [\"-1\"]  \n",
    "\n",
    "Ex5:  \n",
    "Input: nums = [0]  \n",
    "Output: [\"0\"]"
   ]
  },
  {
   "cell_type": "markdown",
   "metadata": {},
   "source": [
    "* 解題想法:  \n",
    "依題目要求，連續整數要使用'->'進行連結，因此建立一個list並找出最後的字串，並判斷是否為連續數字  \n",
    "如果不是連續數字則重新加入結果的list中，如果為連續數字則修改最後數字"
   ]
  },
  {
   "cell_type": "code",
   "execution_count": null,
   "metadata": {},
   "outputs": [],
   "source": [
    "class Solution:\n",
    "    def summaryRanges(self, nums: List[int]) -> List[str]:\n",
    "        result = []\n",
    "        for n in range(len(nums)):\n",
    "            if len(result) > 0:\n",
    "                if n == 0:\n",
    "                    result.append(str(nums[0]))\n",
    "                elif '->' not in result[-1]:\n",
    "                    if str(nums[n]-1) == result[-1]:\n",
    "                        result[-1] = '{}->{}'.format(result[-1], nums[n])\n",
    "                    else:\n",
    "                        result.append(str(nums[n]))\n",
    "                else:\n",
    "                    left = result[-1].split('->')[1]\n",
    "                    if str(nums[n]-1) == left:\n",
    "                        result[-1] = '{}->{}'.format(result[-1].split('->')[0], nums[n])\n",
    "                    else:\n",
    "                        result.append(str(nums[n]))\n",
    "            else:\n",
    "                result.append(str(nums[n]))\n",
    "        return result"
   ]
  }
 ],
 "metadata": {
  "kernelspec": {
   "display_name": "Python 3",
   "language": "python",
   "name": "python3"
  },
  "language_info": {
   "codemirror_mode": {
    "name": "ipython",
    "version": 3
   },
   "file_extension": ".py",
   "mimetype": "text/x-python",
   "name": "python",
   "nbconvert_exporter": "python",
   "pygments_lexer": "ipython3",
   "version": "3.7.4"
  }
 },
 "nbformat": 4,
 "nbformat_minor": 2
}
