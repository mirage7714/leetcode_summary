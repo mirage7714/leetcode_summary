{
 "cells": [
  {
   "cell_type": "markdown",
   "metadata": {},
   "source": [
    "# 本題要找出手上的牌最好的組合為何\n",
    "原題目連結: https://leetcode.com/problems/best-poker-hand/  \n",
    "\n",
    "You are given an integer array ranks and a character array suits. You have 5 cards where the ith card has a rank of ranks[i] and a suit of suits[i].  \n",
    "\n",
    "The following are the types of poker hands you can make from best to worst:  \n",
    "\n",
    "\"Flush\": Five cards of the same suit.  \n",
    "\"Three of a Kind\": Three cards of the same rank.  \n",
    "\"Pair\": Two cards of the same rank.  \n",
    "\"High Card\": Any single card.  \n",
    "Return a string representing the best type of poker hand you can make with the given cards.  \n",
    "\n",
    "Note that the return values are case-sensitive.  \n",
    "\n",
    "範例:  \n",
    "Ex1:  \n",
    "Input: ranks = [13,2,3,1,9], suits = [\"a\",\"a\",\"a\",\"a\",\"a\"]  \n",
    "Output: \"Flush\"  \n",
    "Explanation: The hand with all the cards consists of 5 cards with the same suit, so we have a \"Flush\".  \n",
    "\n",
    "Ex2:  \n",
    "Input: ranks = [4,4,2,4,4], suits = [\"d\",\"a\",\"a\",\"b\",\"c\"]  \n",
    "Output: \"Three of a Kind\"  \n",
    "Explanation: The hand with the first, second, and fourth card consists of 3 cards with the same rank, so we have a \"Three of a Kind\".  \n",
    "Note that we could also make a \"Pair\" hand but \"Three of a Kind\" is a better hand.  \n",
    "Also note that other cards could be used to make the \"Three of a Kind\" hand.  \n",
    "\n",
    "Ex3:  \n",
    "Input: ranks = [10,10,2,12,9], suits = [\"a\",\"b\",\"c\",\"a\",\"d\"]  \n",
    "Output: \"Pair\"  \n",
    "Explanation: The hand with the first and second card consists of 2 cards with the same rank, so we have a \"Pair\".  \n",
    "Note that we cannot make a \"Flush\" or a \"Three of a Kind\"."
   ]
  },
  {
   "cell_type": "markdown",
   "metadata": {},
   "source": [
    "* 解題想法:  \n",
    "由於只有四種牌的組合方式，因此由最大的組合開始檢查，如果牌都不是同一個花色，則開始檢查數字的組合，並找出最多有幾張數字相同的牌來判斷回傳的結果"
   ]
  },
  {
   "cell_type": "code",
   "execution_count": null,
   "metadata": {},
   "outputs": [],
   "source": [
    "class Solution:\n",
    "    def bestHand(self, ranks: List[int], suits: List[str]) -> str:\n",
    "        if max(suits) == min(suits):\n",
    "            return 'Flush'\n",
    "        else:\n",
    "            count = {}\n",
    "            most = 0\n",
    "            for r in ranks:\n",
    "                if r not in count.keys():\n",
    "                    count[r] = 1\n",
    "                else:\n",
    "                    count[r] += 1\n",
    "                if count[r] > most:\n",
    "                    most = count[r]\n",
    "            if most >= 3:\n",
    "                return 'Three of a Kind'\n",
    "            elif most == 2:\n",
    "                return 'Pair'\n",
    "            else:\n",
    "                return 'High Card'"
   ]
  }
 ],
 "metadata": {
  "kernelspec": {
   "display_name": "Python 3",
   "language": "python",
   "name": "python3"
  },
  "language_info": {
   "codemirror_mode": {
    "name": "ipython",
    "version": 3
   },
   "file_extension": ".py",
   "mimetype": "text/x-python",
   "name": "python",
   "nbconvert_exporter": "python",
   "pygments_lexer": "ipython3",
   "version": "3.7.4"
  }
 },
 "nbformat": 4,
 "nbformat_minor": 4
}
