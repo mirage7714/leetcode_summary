{
 "cells": [
  {
   "cell_type": "markdown",
   "metadata": {},
   "source": [
    "# 本題要找出在array中，最長的遞增array長度為何\n",
    "原題目連結: https://leetcode.com/problems/longest-continuous-increasing-subsequence/  \n",
    "\n",
    "Given an unsorted array of integers nums, return the length of the longest continuous increasing subsequence (i.e. subarray). The subsequence must be strictly increasing.  \n",
    "\n",
    "A continuous increasing subsequence is defined by two indices l and r (l < r) such that it is [nums[l], nums[l + 1], ..., nums[r - 1], nums[r]] and for each l <= i < r, nums[i] < nums[i + 1].  \n",
    "\n",
    "範例:  \n",
    "Ex1:  \n",
    "Input: nums = [1,3,5,4,7]  \n",
    "Output: 3  \n",
    "Explanation: The longest continuous increasing subsequence is [1,3,5] with length 3.  \n",
    "Even though [1,3,5,7] is an increasing subsequence, it is not continuous as elements 5 and 7 are separated by element 4.  \n",
    "\n",
    "Ex2:  \n",
    "Input: nums = [2,2,2,2,2]  \n",
    "Output: 1  \n",
    "Explanation: The longest continuous increasing subsequence is [2] with length 1. Note that it must be strictly increasing."
   ]
  },
  {
   "cell_type": "markdown",
   "metadata": {},
   "source": [
    "* 解題想法:  \n",
    "由於要找出遞增的list長度，因此先判斷n與n+1的元素是否有遞增的趨勢，如果有的話則將n加入一個temp的list中，等確定不是遞增的情況下，將temp的長度加入另一個list中並將temp清空，最後再計算結果的list中長度最大的為何"
   ]
  },
  {
   "cell_type": "code",
   "execution_count": null,
   "metadata": {},
   "outputs": [],
   "source": [
    "class Solution:\n",
    "    def findLengthOfLCIS(self, nums: List[int]) -> int:\n",
    "        result = []\n",
    "        temp = []\n",
    "        if len(nums) > 1:\n",
    "            for n in range(len(nums) -1):\n",
    "                temp.append(nums[n])\n",
    "                if nums[n] >= nums[n+1]:\n",
    "                    result.append(len(temp))\n",
    "                    temp.clear()\n",
    "            if nums[-1] > nums[-2]:\n",
    "                if len(temp) != 0:\n",
    "                    temp.append(nums[-1])\n",
    "                    result.append(len(temp))\n",
    "        else:\n",
    "            result.append(len(nums))\n",
    "        return max(result)"
   ]
  }
 ],
 "metadata": {
  "kernelspec": {
   "display_name": "Python 3",
   "language": "python",
   "name": "python3"
  },
  "language_info": {
   "codemirror_mode": {
    "name": "ipython",
    "version": 3
   },
   "file_extension": ".py",
   "mimetype": "text/x-python",
   "name": "python",
   "nbconvert_exporter": "python",
   "pygments_lexer": "ipython3",
   "version": "3.7.4"
  }
 },
 "nbformat": 4,
 "nbformat_minor": 2
}
