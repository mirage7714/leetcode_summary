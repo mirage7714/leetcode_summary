{
 "cells": [
  {
   "cell_type": "markdown",
   "metadata": {},
   "source": [
    "# 本題要判斷root節點是否等於左右兩個節點的和\n",
    "原題目連結: https://leetcode.com/problems/root-equals-sum-of-children/  \n",
    "\n",
    "You are given the root of a binary tree that consists of exactly 3 nodes: the root, its left child, and its right child.  \n",
    "Return true if the value of the root is equal to the sum of the values of its two children, or false otherwise.\n",
    "  \n",
    "範例:  \n",
    "Ex1:  \n",
    "Input: root = [10,4,6]  \n",
    "Output: true  \n",
    "Explanation: The values of the root, its left child, and its right child are 10, 4, and 6, respectively.  \n",
    "10 is equal to 4 + 6, so we return true.  \n",
    "\n",
    "Ex2:  \n",
    "Input: root = [5,3,1]  \n",
    "Output: false  \n",
    "Explanation: The values of the root, its left child, and its right child are 5, 3, and 1, respectively.  \n",
    "5 is not equal to 3 + 1, so we return false."
   ]
  },
  {
   "cell_type": "markdown",
   "metadata": {},
   "source": [
    "* 解題想法:  \n",
    "首先找出root節點的值，接著找出左右兩個節點的值並判斷總和是否等於root節點，如果等於的話則回傳True，否則回傳False"
   ]
  },
  {
   "cell_type": "code",
   "execution_count": null,
   "metadata": {},
   "outputs": [],
   "source": [
    "# Definition for a binary tree node.\n",
    "# class TreeNode:\n",
    "#     def __init__(self, val=0, left=None, right=None):\n",
    "#         self.val = val\n",
    "#         self.left = left\n",
    "#         self.right = right\n",
    "class Solution:\n",
    "    def checkTree(self, root: Optional[TreeNode]) -> bool:\n",
    "        is_equal = False\n",
    "        root_val = root.val\n",
    "        right_val = root.right.val\n",
    "        left_val = root.left.val\n",
    "        if root_val == right_val + left_val:\n",
    "            is_equal = True\n",
    "        return is_equal"
   ]
  }
 ],
 "metadata": {
  "kernelspec": {
   "display_name": "Python 3",
   "language": "python",
   "name": "python3"
  },
  "language_info": {
   "codemirror_mode": {
    "name": "ipython",
    "version": 3
   },
   "file_extension": ".py",
   "mimetype": "text/x-python",
   "name": "python",
   "nbconvert_exporter": "python",
   "pygments_lexer": "ipython3",
   "version": "3.7.4"
  }
 },
 "nbformat": 4,
 "nbformat_minor": 4
}
