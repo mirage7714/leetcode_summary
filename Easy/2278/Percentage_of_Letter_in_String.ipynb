{
 "cells": [
  {
   "cell_type": "markdown",
   "metadata": {},
   "source": [
    "# 本題要算出指定的字在字串中的比例是多少\n",
    "原題目連結: https://leetcode.com/problems/percentage-of-letter-in-string/  \n",
    "\n",
    "Given a string s and a character letter, return the percentage of characters in s that equal letter rounded down to the nearest whole percent.  \n",
    "\n",
    "範例:  \n",
    "Ex1:  \n",
    "Input: s = \"foobar\", letter = \"o\"  \n",
    "Output: 33  \n",
    "Explanation:  \n",
    "The percentage of characters in s that equal the letter 'o' is 2 / 6 * 100% = 33% when rounded down, so we return 33.  \n",
    "\n",
    "Ex2:  \n",
    "Input: s = \"jjjj\", letter = \"k\"  \n",
    "Output: 0  \n",
    "Explanation:  \n",
    "The percentage of characters in s that equal the letter 'k' is 0%, so we return 0."
   ]
  },
  {
   "cell_type": "markdown",
   "metadata": {},
   "source": [
    "* 解題想法:  \n",
    "首先找出所有字母在字串中分布的次數是多少，接著計算出百分比後取出整數部分回傳"
   ]
  },
  {
   "cell_type": "code",
   "execution_count": null,
   "metadata": {},
   "outputs": [],
   "source": [
    "class Solution:\n",
    "    def percentageLetter(self, s: str, letter: str) -> int:\n",
    "        freq = {}\n",
    "        result = 0\n",
    "        for n in s:\n",
    "            if n not in freq.keys():\n",
    "                freq[n] = 1\n",
    "            else:\n",
    "                freq[n] += 1\n",
    "        if letter in freq.keys():\n",
    "            result = int(round(freq[letter]/len(s), 4) * 100)\n",
    "        return result"
   ]
  }
 ],
 "metadata": {
  "kernelspec": {
   "display_name": "Python 3",
   "language": "python",
   "name": "python3"
  },
  "language_info": {
   "codemirror_mode": {
    "name": "ipython",
    "version": 3
   },
   "file_extension": ".py",
   "mimetype": "text/x-python",
   "name": "python",
   "nbconvert_exporter": "python",
   "pygments_lexer": "ipython3",
   "version": "3.7.4"
  }
 },
 "nbformat": 4,
 "nbformat_minor": 4
}
