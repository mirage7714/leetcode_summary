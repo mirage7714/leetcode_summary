{
 "cells": [
  {
   "cell_type": "markdown",
   "metadata": {},
   "source": [
    "# 本題要找出所有為2與3倍數的數值平均為多少 (\\#Array, \\#Math)\n",
    "原題目連結: https://leetcode.com/problems/average-value-of-even-numbers-that-are-divisible-by-three/  \n",
    "\n",
    "Given an integer array nums of positive integers, return the average value of all even integers that are divisible by 3.  \n",
    "Note that the average of n elements is the sum of the n elements divided by n and rounded down to the nearest integer.  \n",
    "\n",
    "範例:  \n",
    "Ex1:  \n",
    "Input: nums = [1,3,6,10,12,15]  \n",
    "Output: 9  \n",
    "Explanation: 6 and 12 are even numbers that are divisible by 3. (6 + 12) / 2 = 9.  \n",
    "\n",
    "Ex2:  \n",
    "Input: nums = [1,2,4,7,10]  \n",
    "Output: 0  \n",
    "Explanation: There is no single number that satisfies the requirement, so return 0."
   ]
  },
  {
   "cell_type": "markdown",
   "metadata": {},
   "source": [
    "* 解題想法:  \n",
    "首先將所有為2與3倍數的數值加總起來，並將次數加1，最後相除後取整數就是答案"
   ]
  },
  {
   "cell_type": "code",
   "execution_count": null,
   "metadata": {},
   "outputs": [],
   "source": [
    "class Solution:\n",
    "    def averageValue(self, nums: List[int]) -> int:\n",
    "        total = 0\n",
    "        count = 0\n",
    "        for n in nums:\n",
    "            if n % 3 == 0 and n % 2 == 0:\n",
    "                total += n\n",
    "                count += 1\n",
    "        if total: \n",
    "            return total // count\n",
    "        return 0"
   ]
  }
 ],
 "metadata": {
  "kernelspec": {
   "display_name": "Python 3",
   "language": "python",
   "name": "python3"
  },
  "language_info": {
   "codemirror_mode": {
    "name": "ipython",
    "version": 3
   },
   "file_extension": ".py",
   "mimetype": "text/x-python",
   "name": "python",
   "nbconvert_exporter": "python",
   "pygments_lexer": "ipython3",
   "version": "3.7.4"
  }
 },
 "nbformat": 4,
 "nbformat_minor": 4
}
