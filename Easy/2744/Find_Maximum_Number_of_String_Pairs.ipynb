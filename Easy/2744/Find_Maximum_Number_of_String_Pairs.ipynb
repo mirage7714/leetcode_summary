{
 "cells": [
  {
   "cell_type": "markdown",
   "metadata": {},
   "source": [
    "# 本題要找出最多有幾對相同的字串 (\\#Array)\n",
    "原題目連結: https://leetcode.com/problems/find-maximum-number-of-string-pairs/description/  \n",
    "\n",
    "You are given a 0-indexed array words consisting of distinct strings.  \n",
    "\n",
    "The string words[i] can be paired with the string words[j] if:  \n",
    "\n",
    "The string words[i] is equal to the reversed string of words[j].  \n",
    "0 <= i < j < words.length.  \n",
    "Return the maximum number of pairs that can be formed from the array words.  \n",
    "\n",
    "Note that each string can belong in at most one pair.  \n",
    "\n",
    "範例:  \n",
    "Ex1:  \n",
    "Input: words = [\"cd\",\"ac\",\"dc\",\"ca\",\"zz\"]  \n",
    "Output: 2  \n",
    "Explanation: In this example, we can form 2 pair of strings in the following way:  \n",
    "- We pair the 0th string with the 2nd string, as the reversed string of word[0] is \"dc\" and is equal to words[2].  \n",
    "- We pair the 1st string with the 3rd string, as the reversed string of word[1] is \"ca\" and is equal to words[3].  \n",
    "It can be proven that 2 is the maximum number of pairs that can be formed.  \n",
    "\n",
    "Ex2:  \n",
    "Input: words = [\"ab\",\"ba\",\"cc\"]  \n",
    "Output: 1  \n",
    "Explanation: In this example, we can form 1 pair of strings in the following way:  \n",
    "- We pair the 0th string with the 1st string, as the reversed string of words[1] is \"ab\" and is equal to words[0].  \n",
    "It can be proven that 1 is the maximum number of pairs that can be formed.  \n",
    "\n",
    "Ex3:  \n",
    "Input: words = [\"aa\",\"ab\"]  \n",
    "Output: 0  \n",
    "Explanation: In this example, we are unable to form any pair of strings."
   ]
  },
  {
   "cell_type": "markdown",
   "metadata": {},
   "source": [
    "* 解題想法:  \n",
    "用一個list作為暫存，來存放之前已經出現過的字串組合，接著將每個字串拆成list後排序，並與暫存中的組合進行檢查，如果已經有出現過則從暫存中移除並將計數值加1，如果沒出現過則放入暫存中，最後回傳計數就是答案"
   ]
  },
  {
   "cell_type": "code",
   "execution_count": null,
   "metadata": {},
   "outputs": [],
   "source": [
    "class Solution:\n",
    "    def maximumNumberOfStringPairs(self, words: List[str]) -> int:\n",
    "        res = 0\n",
    "        temp = []\n",
    "        for word in words:\n",
    "            t = [i for i in word]\n",
    "            t.sort()\n",
    "            if t in temp:\n",
    "                res += 1\n",
    "                temp.pop(temp.index(t))\n",
    "            else:\n",
    "                temp.append(t)\n",
    "        return res"
   ]
  }
 ],
 "metadata": {
  "kernelspec": {
   "display_name": "Python 3",
   "language": "python",
   "name": "python3"
  },
  "language_info": {
   "codemirror_mode": {
    "name": "ipython",
    "version": 3
   },
   "file_extension": ".py",
   "mimetype": "text/x-python",
   "name": "python",
   "nbconvert_exporter": "python",
   "pygments_lexer": "ipython3",
   "version": "3.7.6"
  }
 },
 "nbformat": 4,
 "nbformat_minor": 4
}
