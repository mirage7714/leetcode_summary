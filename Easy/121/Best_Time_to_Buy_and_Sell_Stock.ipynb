{
 "cells": [
  {
   "cell_type": "markdown",
   "metadata": {},
   "source": [
    "# 本題要找出賣股票的最大獲利是多少\n",
    "原題目連結: https://leetcode.com/problems/best-time-to-buy-and-sell-stock/  \n",
    "\n",
    "You are given an array prices where prices[i] is the price of a given stock on the ith day.  \n",
    "\n",
    "You want to maximize your profit by choosing a single day to buy one stock and choosing a different day in the future to sell that stock.  \n",
    "\n",
    "Return the maximum profit you can achieve from this transaction. If you cannot achieve any profit, return 0.  \n",
    "\n",
    "範例:  \n",
    "Ex1:  \n",
    "Input: prices = [7,1,5,3,6,4]  \n",
    "Output: 5  \n",
    "Explanation: Buy on day 2 (price = 1) and sell on day 5 (price = 6), profit = 6-1 = 5.  \n",
    "Note that buying on day 2 and selling on day 1 is not allowed because you must buy before you sell.  \n",
    "\n",
    "Ex2:  \n",
    "Input: prices = [7,6,4,3,1]  \n",
    "Output: 0  \n",
    "Explanation: In this case, no transactions are done and the max profit = 0."
   ]
  },
  {
   "cell_type": "markdown",
   "metadata": {},
   "source": [
    "* 解題想法:  \n",
    "這題可用2 pointer的方式來進行解題，首先從i=0與j=1開始進行計算，當j的價格小於i時，則將i的值改為j，j則修改為j+1，如果j的價格大於i時，則檢查j-i的價差是否為最大值，並將j+1進行移動，直到j到達最後一天為止"
   ]
  },
  {
   "cell_type": "code",
   "execution_count": null,
   "metadata": {},
   "outputs": [],
   "source": [
    "class Solution:\n",
    "    def maxProfit(self, prices: List[int]) -> int:\n",
    "        result = 0\n",
    "        i = 0\n",
    "        j = 1\n",
    "        while j < len(prices):\n",
    "            if prices[j] < prices[i]:\n",
    "                i = j\n",
    "                j += 1\n",
    "            else:\n",
    "                result = max(result, prices[j]- prices[i])\n",
    "                j += 1\n",
    "        return result\n",
    "            "
   ]
  }
 ],
 "metadata": {
  "kernelspec": {
   "display_name": "Python 3",
   "language": "python",
   "name": "python3"
  },
  "language_info": {
   "codemirror_mode": {
    "name": "ipython",
    "version": 3
   },
   "file_extension": ".py",
   "mimetype": "text/x-python",
   "name": "python",
   "nbconvert_exporter": "python",
   "pygments_lexer": "ipython3",
   "version": "3.7.4"
  }
 },
 "nbformat": 4,
 "nbformat_minor": 4
}
