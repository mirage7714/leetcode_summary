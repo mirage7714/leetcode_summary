{
 "cells": [
  {
   "cell_type": "markdown",
   "metadata": {},
   "source": [
    "# 本題要判斷在兩個1之間的距離是否有達到K的間距\n",
    "原題目連結: https://leetcode.com/problems/check-if-all-1s-are-at-least-length-k-places-away/  \n",
    "\n",
    "Given an array nums of 0s and 1s and an integer k, return True if all 1's are at least k places away from each other, otherwise return False.  \n",
    "\n",
    "範例:  \n",
    "Ex1:  \n",
    "Input: nums = [1,0,0,0,1,0,0,1], k = 2  \n",
    "Output: true  \n",
    "Explanation: Each of the 1s are at least 2 places away from each other.  \n",
    "\n",
    "Ex2:  \n",
    "Input: nums = [1,0,0,1,0,1], k = 2  \n",
    "Output: false  \n",
    "Explanation: The second 1 and third 1 are only one apart from each other.  \n",
    "\n",
    "Ex3:  \n",
    "Input: nums = [1,1,1,1,1], k = 0  \n",
    "Output: true  \n",
    "\n",
    "Ex4:  \n",
    "Input: nums = [0,1,0,1], k = 1  \n",
    "Output: true"
   ]
  },
  {
   "cell_type": "markdown",
   "metadata": {},
   "source": [
    "* 解題想法:  \n",
    "依題目要求，首先找出位置為1的位置，接著判斷兩個位置之間相差是否小於K，若小於K則回傳False，如果都滿足的話則回傳True"
   ]
  },
  {
   "cell_type": "code",
   "execution_count": null,
   "metadata": {},
   "outputs": [],
   "source": [
    "class Solution:\n",
    "    def kLengthApart(self, nums: List[int], k: int) -> bool:\n",
    "        orders = []\n",
    "        is_valid = True\n",
    "        for n in range(len(nums)):\n",
    "            if nums[n] == 1:\n",
    "                orders.append(n)\n",
    "        for m in range(len(orders) - 1):\n",
    "            diff = orders[m+1] - orders[m] -1\n",
    "            print(diff)\n",
    "            if diff < k:\n",
    "                is_valid = False\n",
    "                break\n",
    "        return is_valid"
   ]
  }
 ],
 "metadata": {
  "kernelspec": {
   "display_name": "Python 3",
   "language": "python",
   "name": "python3"
  },
  "language_info": {
   "codemirror_mode": {
    "name": "ipython",
    "version": 3
   },
   "file_extension": ".py",
   "mimetype": "text/x-python",
   "name": "python",
   "nbconvert_exporter": "python",
   "pygments_lexer": "ipython3",
   "version": "3.7.4"
  }
 },
 "nbformat": 4,
 "nbformat_minor": 2
}
