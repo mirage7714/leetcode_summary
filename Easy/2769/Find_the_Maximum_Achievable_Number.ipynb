{
 "cells": [
  {
   "cell_type": "markdown",
   "id": "e3625b8d-8bd6-4025-9bb9-5c4e84378992",
   "metadata": {},
   "source": [
    "# 本題要找出最大可以到達的數字為多少 (\\#Math)\n",
    "原題目連結: https://leetcode.com/problems/find-the-maximum-achievable-number/description/  \n",
    "\n",
    "You are given two integers, num and t.  \n",
    "An integer x is called achievable if it can become equal to num after applying the following operation no more than t times:  \n",
    "\n",
    "Increase or decrease x by 1, and simultaneously increase or decrease num by 1.  \n",
    "Return the maximum possible achievable number. It can be proven that there exists at least one achievable number.  \n",
    "\n",
    "範例:  \n",
    "Ex1:  \n",
    "Input: num = 4, t = 1  \n",
    "Output: 6  \n",
    "Explanation: The maximum achievable number is x = 6; it can become equal to num after performing this operation:  \n",
    "1- Decrease x by 1, and increase num by 1. Now, x = 5 and num = 5.   \n",
    "It can be proven that there is no achievable number larger than 6.  \n",
    "\n",
    "Ex2:  \n",
    "Input: num = 3, t = 2  \n",
    "Output: 7  \n",
    "Explanation: The maximum achievable number is x = 7; after performing these operations, x will equal num:   \n",
    "1- Decrease x by 1, and increase num by 1. Now, x = 6 and num = 4.  \n",
    "2- Decrease x by 1, and increase num by 1. Now, x = 5 and num = 5.  \n",
    "It can be proven that there is no achievable number larger than 7."
   ]
  },
  {
   "cell_type": "markdown",
   "id": "5c3d74e8-0bbe-40f6-845d-90166320f1fa",
   "metadata": {},
   "source": [
    "* 解題想法:  \n",
    "依題目說明，最大可到達的數字其實就是num+ 2 x t"
   ]
  },
  {
   "cell_type": "code",
   "execution_count": null,
   "id": "47a63d8d-2fcd-4cd6-8756-d3fd5d61f4d1",
   "metadata": {},
   "outputs": [],
   "source": [
    "class Solution:\n",
    "    def theMaximumAchievableX(self, num: int, t: int) -> int:\n",
    "        return num + 2 * t"
   ]
  }
 ],
 "metadata": {
  "kernelspec": {
   "display_name": "Python 3 (ipykernel)",
   "language": "python",
   "name": "python3"
  },
  "language_info": {
   "codemirror_mode": {
    "name": "ipython",
    "version": 3
   },
   "file_extension": ".py",
   "mimetype": "text/x-python",
   "name": "python",
   "nbconvert_exporter": "python",
   "pygments_lexer": "ipython3",
   "version": "3.9.13"
  }
 },
 "nbformat": 4,
 "nbformat_minor": 5
}
