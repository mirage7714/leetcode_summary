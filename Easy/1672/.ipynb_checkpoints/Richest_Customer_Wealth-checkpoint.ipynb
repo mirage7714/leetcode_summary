{
 "cells": [
  {
   "cell_type": "markdown",
   "metadata": {},
   "source": [
    "# 本題要找出在array中最大和的sub-array和為多少\n",
    "原題目連結： https://leetcode.com/problems/richest-customer-wealth/  \n",
    "\n",
    "A customer's wealth is the amount of money they have in all their bank accounts. The richest customer is the customer that has the maximum wealth.  \n",
    "\n",
    "範例：  \n",
    "Ex1:  \n",
    "Input: accounts = [[1,2,3],[3,2,1]]  \n",
    "Output: 6  \n",
    "Explanation:  \n",
    "1st customer has wealth = 1 + 2 + 3 = 6  \n",
    "2nd customer has wealth = 3 + 2 + 1 = 6  \n",
    "Both customers are considered the richest with a wealth of 6 each, so return 6.  \n",
    "\n",
    "Ex2:  \n",
    "Input: accounts = [[1,5],[7,3],[3,5]]  \n",
    "Output: 10  \n",
    "Explanation:   \n",
    "1st customer has wealth = 6  \n",
    "2nd customer has wealth = 10   \n",
    "3rd customer has wealth = 8  \n",
    "The 2nd customer is the richest with a wealth of 10.  \n",
    "\n",
    "Ex3:  \n",
    "Input: accounts = [[2,8,7],[7,1,3],[1,9,5]]  \n",
    "Output: 17   "
   ]
  },
  {
   "cell_type": "markdown",
   "metadata": {},
   "source": [
    "* 解題想法：  \n",
    "由於題目要找出在list中，數字和最大的sub-list，因此就是將每個list都加起來，最後找出最大值回傳"
   ]
  },
  {
   "cell_type": "code",
   "execution_count": null,
   "metadata": {},
   "outputs": [],
   "source": [
    "class Solution:\n",
    "    def maximumWealth(self, accounts: List[List[int]]) -> int:\n",
    "        result = []\n",
    "        for account in accounts:\n",
    "            temp = 0\n",
    "            for a in account:\n",
    "                temp += a\n",
    "            if len(result) > 0:\n",
    "                if temp > max(result):\n",
    "                    result.append(temp)\n",
    "            else:\n",
    "                result.append(temp)\n",
    "        return max(result)"
   ]
  }
 ],
 "metadata": {
  "kernelspec": {
   "display_name": "Python 3",
   "language": "python",
   "name": "python3"
  },
  "language_info": {
   "codemirror_mode": {
    "name": "ipython",
    "version": 3
   },
   "file_extension": ".py",
   "mimetype": "text/x-python",
   "name": "python",
   "nbconvert_exporter": "python",
   "pygments_lexer": "ipython3",
   "version": "3.7.6"
  }
 },
 "nbformat": 4,
 "nbformat_minor": 4
}
