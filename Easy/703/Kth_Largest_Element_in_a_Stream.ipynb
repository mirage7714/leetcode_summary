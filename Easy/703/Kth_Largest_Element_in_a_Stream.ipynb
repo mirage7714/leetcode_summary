{
 "cells": [
  {
   "cell_type": "markdown",
   "metadata": {},
   "source": [
    "# 本題要設計一個找出第K個大小的函數\n",
    "原題目連結: https://leetcode.com/problems/kth-largest-element-in-a-stream/  \n",
    "\n",
    "Design a class to find the kth largest element in a stream. Note that it is the kth largest element in the sorted order, not the kth distinct element.  \n",
    "\n",
    "Implement KthLargest class:  \n",
    "\n",
    "KthLargest(int k, int[] nums) Initializes the object with the integer k and the stream of integers nums.  \n",
    "int add(int val) Returns the element representing the kth largest element in the stream.  \n",
    "\n",
    "範例:  \n",
    "Ex1:  \n",
    "Input  \n",
    "[\"KthLargest\", \"add\", \"add\", \"add\", \"add\", \"add\"]  \n",
    "[[3, [4, 5, 8, 2]], [3], [5], [10], [9], [4]]  \n",
    "Output  \n",
    "[null, 4, 5, 5, 8, 8]  \n",
    "\n",
    "Explanation  \n",
    "KthLargest kthLargest = new KthLargest(3, [4, 5, 8, 2]);  \n",
    "kthLargest.add(3);   // return 4  \n",
    "kthLargest.add(5);   // return 5  \n",
    "kthLargest.add(10);  // return 5  \n",
    "kthLargest.add(9);   // return 8  \n",
    "kthLargest.add(4);   // return 8"
   ]
  },
  {
   "cell_type": "markdown",
   "metadata": {},
   "source": [
    "* 解題想法:  \n",
    "依題目要求，首先將原始的數列加入一個list中，並依題目要求加入數字後重新排序，並回傳第K-1個數值"
   ]
  },
  {
   "cell_type": "code",
   "execution_count": null,
   "metadata": {},
   "outputs": [],
   "source": [
    "class KthLargest:\n",
    "\n",
    "    def __init__(self, k: int, nums: List[int]):\n",
    "        self.numbers = nums\n",
    "        self.order = k\n",
    "        \n",
    "    def add(self, val: int) -> int:\n",
    "        self.numbers.append(val)\n",
    "        self.numbers.sort(reverse = True)\n",
    "        return self.numbers[self.order-1]\n",
    "\n",
    "\n",
    "# Your KthLargest object will be instantiated and called as such:\n",
    "# obj = KthLargest(k, nums)\n",
    "# param_1 = obj.add(val)"
   ]
  }
 ],
 "metadata": {
  "kernelspec": {
   "display_name": "Python 3",
   "language": "python",
   "name": "python3"
  },
  "language_info": {
   "codemirror_mode": {
    "name": "ipython",
    "version": 3
   },
   "file_extension": ".py",
   "mimetype": "text/x-python",
   "name": "python",
   "nbconvert_exporter": "python",
   "pygments_lexer": "ipython3",
   "version": "3.7.4"
  }
 },
 "nbformat": 4,
 "nbformat_minor": 2
}
