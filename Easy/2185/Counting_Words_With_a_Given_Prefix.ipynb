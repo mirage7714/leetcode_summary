{
 "cells": [
  {
   "cell_type": "markdown",
   "metadata": {},
   "source": [
    "# 本題要找出開頭為指定的字串共有幾個字\n",
    "原題目連結: https://leetcode.com/problems/counting-words-with-a-given-prefix/  \n",
    "\n",
    "You are given an array of strings words and a string pref.  \n",
    "Return the number of strings in words that contain pref as a prefix.  \n",
    "A prefix of a string s is any leading contiguous substring of s.  \n",
    "\n",
    "範例:  \n",
    "Ex1:  \n",
    "Input: words = [\"pay\",\"attention\",\"practice\",\"attend\"], pref = \"at\"  \n",
    "Output: 2  \n",
    "Explanation: The 2 strings that contain \"at\" as a prefix are: \"attention\" and \"attend\".  \n",
    "\n",
    "Ex2:  \n",
    "Input: words = [\"leetcode\",\"win\",\"loops\",\"success\"], pref = \"code\"  \n",
    "Output: 0  \n",
    "Explanation: There are no strings that contain \"code\" as a prefix."
   ]
  },
  {
   "cell_type": "markdown",
   "metadata": {},
   "source": [
    "* 解題想法:  \n",
    "用迴圈檢查每個字的開頭是否符合指定的字首，如果符合則將計數+1，最後回傳計數的結果"
   ]
  },
  {
   "cell_type": "code",
   "execution_count": null,
   "metadata": {},
   "outputs": [],
   "source": [
    "class Solution(object):\n",
    "    def prefixCount(self, words, pref):\n",
    "        \"\"\"\n",
    "        :type words: List[str]\n",
    "        :type pref: str\n",
    "        :rtype: int\n",
    "        \"\"\"\n",
    "        count = 0\n",
    "        for word in words:\n",
    "            if word.startswith(pref):\n",
    "                count += 1\n",
    "        return count"
   ]
  }
 ],
 "metadata": {
  "kernelspec": {
   "display_name": "Python 3",
   "language": "python",
   "name": "python3"
  },
  "language_info": {
   "codemirror_mode": {
    "name": "ipython",
    "version": 3
   },
   "file_extension": ".py",
   "mimetype": "text/x-python",
   "name": "python",
   "nbconvert_exporter": "python",
   "pygments_lexer": "ipython3",
   "version": "3.7.4"
  }
 },
 "nbformat": 4,
 "nbformat_minor": 4
}
