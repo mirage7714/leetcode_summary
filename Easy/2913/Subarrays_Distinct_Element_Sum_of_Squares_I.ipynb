{
 "cells": [
  {
   "cell_type": "markdown",
   "id": "116da98b-f60a-4666-9827-9881b2bbcbe7",
   "metadata": {},
   "source": [
    "# 本題要找出sublist中所有獨特的數值平方和為多少 (\\#Array )\n",
    "原題目連結: https://leetcode.com/problems/subarrays-distinct-element-sum-of-squares-i/description/  \n",
    "\n",
    "You are given a 0-indexed integer array nums.  \n",
    "The distinct count of a subarray of nums is defined as:  \n",
    "Let nums[i..j] be a subarray of nums consisting of all the indices from i to j such that 0 <= i <= j < nums.length. Then the number of distinct values in nums[i..j] is called the distinct count of nums[i..j].  \n",
    "Return the sum of the squares of distinct counts of all subarrays of nums.  \n",
    "A subarray is a contiguous non-empty sequence of elements within an array.  \n",
    "\n",
    "範例:  \n",
    "Ex1:  \n",
    "Input: nums = [1,2,1]  \n",
    "Output: 15  \n",
    "Explanation: Six possible subarrays are:  \n",
    "[1]: 1 distinct value  \n",
    "[2]: 1 distinct value  \n",
    "[1]: 1 distinct value  \n",
    "[1,2]: 2 distinct values  \n",
    "[2,1]: 2 distinct values  \n",
    "[1,2,1]: 2 distinct values  \n",
    "The sum of the squares of the distinct counts in all subarrays is equal to 12 + 12 + 12 + 22 + 22 + 22 = 15.   \n",
    "\n",
    "Ex2:  \n",
    "Input: nums = [1,1]  \n",
    "Output: 3  \n",
    "Explanation: Three possible subarrays are:  \n",
    "[1]: 1 distinct value  \n",
    "[1]: 1 distinct value  \n",
    "[1,1]: 1 distinct value  \n",
    "The sum of the squares of the distinct counts in all subarrays is equal to 12 + 12 + 12 = 3."
   ]
  },
  {
   "cell_type": "markdown",
   "id": "27e35e56-a177-4c74-9abe-e4cd7d881f7a",
   "metadata": {},
   "source": [
    "* 解題想法:  \n",
    "首先將nums的長度加到結果，接著開始找出長度為2以上的sublist共有多少不同的數字，找出平方後加到結果中，最後回傳結果就是答案"
   ]
  },
  {
   "cell_type": "code",
   "execution_count": null,
   "id": "777c3ddf-847e-47a0-9eda-2deb779b13e2",
   "metadata": {},
   "outputs": [],
   "source": [
    "class Solution:\n",
    "    def sumCounts(self, nums: List[int]) -> int:\n",
    "        res = len(nums)\n",
    "        if len(nums) > 1:\n",
    "            for i in range(2, len(nums)+1):\n",
    "                for j in range(len(nums)-i+1):\n",
    "                    d = set(nums[j:j+i])\n",
    "                    res += len(d) * len(d)\n",
    "        return res"
   ]
  }
 ],
 "metadata": {
  "kernelspec": {
   "display_name": "Python 3 (ipykernel)",
   "language": "python",
   "name": "python3"
  },
  "language_info": {
   "codemirror_mode": {
    "name": "ipython",
    "version": 3
   },
   "file_extension": ".py",
   "mimetype": "text/x-python",
   "name": "python",
   "nbconvert_exporter": "python",
   "pygments_lexer": "ipython3",
   "version": "3.11.4"
  }
 },
 "nbformat": 4,
 "nbformat_minor": 5
}
