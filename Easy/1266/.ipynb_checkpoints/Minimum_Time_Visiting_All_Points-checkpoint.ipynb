{
 "cells": [
  {
   "cell_type": "markdown",
   "metadata": {},
   "source": [
    "# 本題要找出移動到所有點位的最短時間\n",
    "原題目連結: https://leetcode.com/problems/minimum-time-visiting-all-points/  \n",
    "\n",
    "On a plane there are n points with integer coordinates points[i] = [xi, yi]. Your task is to find the minimum time in seconds to visit all points.  \n",
    "\n",
    "You can move according to the next rules:  \n",
    "\n",
    "In one second always you can either move vertically, horizontally by one unit or diagonally (it means to move one unit vertically and one unit horizontally in one second).  \n",
    "You have to visit the points in the same order as they appear in the array.  \n",
    "\n",
    "範例:  \n",
    "Ex1:  \n",
    "Input: points = [[1,1],[3,4],[-1,0]]  \n",
    "Output: 7   \n",
    "Explanation: One optimal path is [1,1] -> [2,2] -> [3,3] -> [3,4] -> [2,3] -> [1,2] -> [0,1] -> [-1,0]     \n",
    "Time from [1,1] to [3,4] = 3 seconds   \n",
    "Time from [3,4] to [-1,0] = 4 seconds  \n",
    "Total time = 7 seconds  \n",
    "\n",
    "Ex2:  \n",
    "Input: points = [[3,2],[-2,2]]  \n",
    "Output: 5"
   ]
  },
  {
   "cell_type": "markdown",
   "metadata": {},
   "source": [
    "* 解題想法:  \n",
    "由題目的範例中可發現，兩點間最快的移動步數為兩個軸之間差異的最大值，因此將兩個點位間的兩軸差找出，並將最大值累加後就是題目求的最短時間"
   ]
  },
  {
   "cell_type": "code",
   "execution_count": null,
   "metadata": {},
   "outputs": [],
   "source": [
    "class Solution:\n",
    "    def minTimeToVisitAllPoints(self, points: List[List[int]]) -> int:\n",
    "        total = 0\n",
    "        for n in range(len(points) - 1):\n",
    "            diff_x = abs(points[n][0] - points[n+1][0])\n",
    "            diff_y = abs(points[n][1] - points[n+1][1])\n",
    "            if diff_x >= diff_y:\n",
    "                total += diff_x\n",
    "            else:\n",
    "                total += diff_y\n",
    "        return total"
   ]
  }
 ],
 "metadata": {
  "kernelspec": {
   "display_name": "Python 3",
   "language": "python",
   "name": "python3"
  },
  "language_info": {
   "codemirror_mode": {
    "name": "ipython",
    "version": 3
   },
   "file_extension": ".py",
   "mimetype": "text/x-python",
   "name": "python",
   "nbconvert_exporter": "python",
   "pygments_lexer": "ipython3",
   "version": "3.7.4"
  }
 },
 "nbformat": 4,
 "nbformat_minor": 2
}
