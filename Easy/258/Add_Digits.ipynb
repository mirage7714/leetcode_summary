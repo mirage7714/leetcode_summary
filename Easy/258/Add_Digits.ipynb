{
 "cells": [
  {
   "cell_type": "markdown",
   "metadata": {},
   "source": [
    "# 將題目的數字加起來，最後回傳一位數的數字\n",
    "原題目連結: https://leetcode.com/problems/add-digits/  \n",
    "\n",
    "範例:  \n",
    "Input: 38  \n",
    "Output: 2 "
   ]
  },
  {
   "cell_type": "markdown",
   "metadata": {},
   "source": [
    "* 解題想法:  \n",
    "利用迴圈，將每個位數加起來後確認是否有超過9，如果有超過則繼續迴圈  \n",
    "題目進階解法是不用迴圈，不過暫時沒想到怎麼解就先跳過了"
   ]
  },
  {
   "cell_type": "code",
   "execution_count": null,
   "metadata": {},
   "outputs": [],
   "source": [
    "class Solution:\n",
    "    def addDigits(self, num: int) -> int:\n",
    "        while num > 9:\n",
    "            total = 0\n",
    "            for n in range(len(str(num))):\n",
    "                total += int(str(num)[n])\n",
    "            num = total\n",
    "        return num"
   ]
  }
 ],
 "metadata": {
  "kernelspec": {
   "display_name": "Python 3",
   "language": "python",
   "name": "python3"
  },
  "language_info": {
   "codemirror_mode": {
    "name": "ipython",
    "version": 3
   },
   "file_extension": ".py",
   "mimetype": "text/x-python",
   "name": "python",
   "nbconvert_exporter": "python",
   "pygments_lexer": "ipython3",
   "version": "3.7.4"
  }
 },
 "nbformat": 4,
 "nbformat_minor": 2
}
