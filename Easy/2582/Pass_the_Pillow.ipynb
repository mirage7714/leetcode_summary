{
 "cells": [
  {
   "cell_type": "markdown",
   "id": "d5af22be-0767-4251-80e8-f85f50b4b1bc",
   "metadata": {},
   "source": [
    "# 本題要算出最後傳遞到的人是誰 (\\#Math)\n",
    "原題目連結: https://leetcode.com/problems/pass-the-pillow/description/  \n",
    "\n",
    "There are n people standing in a line labeled from 1 to n. The first person in the line is holding a pillow initially. Every second, the person holding the pillow passes it to the next person standing in the line. Once the pillow reaches the end of the line, the direction changes, and people continue passing the pillow in the opposite direction.  \n",
    "\n",
    "For example, once the pillow reaches the nth person they pass it to the n - 1th person, then to the n - 2th person and so on.  \n",
    "Given the two positive integers n and time, return the index of the person holding the pillow after time seconds.  \n",
    "\n",
    "範例:  \n",
    "Ex1:  \n",
    "Input: n = 4, time = 5  \n",
    "Output: 2  \n",
    "Explanation: People pass the pillow in the following way: 1 -> 2 -> 3 -> 4 -> 3 -> 2.  \n",
    "Afer five seconds, the pillow is given to the 2nd person.  \n",
    "\n",
    "Ex2:  \n",
    "Input: n = 3, time = 2  \n",
    "Output: 3  \n",
    "Explanation: People pass the pillow in the following way: 1 -> 2 -> 3.  \n",
    "Afer two seconds, the pillow is given to the 3rd person."
   ]
  },
  {
   "cell_type": "markdown",
   "id": "e60959a5-13c0-45ea-abd4-785edc6da31a",
   "metadata": {},
   "source": [
    "* 解題想法:  \n",
    "首先算出一輪傳遞需要多少回合，並算出剩下的數值為多少，接著找出最後會傳遞到誰"
   ]
  },
  {
   "cell_type": "code",
   "execution_count": null,
   "id": "934600c0-949d-40d0-bef4-8733fa711433",
   "metadata": {},
   "outputs": [],
   "source": [
    "class Solution:\n",
    "    def passThePillow(self, n: int, time: int) -> int:\n",
    "        l = (n-1) * 2\n",
    "        t = time % l\n",
    "        res = 1\n",
    "        is_forward = False\n",
    "        for _ in range(t):\n",
    "            if res == n:\n",
    "                is_forward = True\n",
    "            if is_forward:\n",
    "                res -= 1\n",
    "            else:\n",
    "                res += 1\n",
    "        return res"
   ]
  }
 ],
 "metadata": {
  "kernelspec": {
   "display_name": "Python 3 (ipykernel)",
   "language": "python",
   "name": "python3"
  },
  "language_info": {
   "codemirror_mode": {
    "name": "ipython",
    "version": 3
   },
   "file_extension": ".py",
   "mimetype": "text/x-python",
   "name": "python",
   "nbconvert_exporter": "python",
   "pygments_lexer": "ipython3",
   "version": "3.9.13"
  }
 },
 "nbformat": 4,
 "nbformat_minor": 5
}
