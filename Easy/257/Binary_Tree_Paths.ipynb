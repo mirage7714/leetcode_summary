{
 "cells": [
  {
   "cell_type": "markdown",
   "metadata": {},
   "source": [
    "# 本題要找出樹中所有的路徑，並轉換為指定的格式\n",
    "原題目連結: https://leetcode.com/problems/binary-tree-paths/  \n",
    "\n",
    "Given the root of a binary tree, return all root-to-leaf paths in any order.  \n",
    "A leaf is a node with no children.  \n",
    "\n",
    "範例:  \n",
    "Ex1:  \n",
    "Input: root = [1,2,3,null,5]  \n",
    "Output: [\"1->2->5\",\"1->3\"]  \n",
    "\n",
    "Ex2:  \n",
    "Input: root = [1]  \n",
    "Output: [\"1\"]"
   ]
  },
  {
   "cell_type": "markdown",
   "metadata": {},
   "source": [
    "* 解題想法:  \n",
    "一樣是路徑類的問題，首先建立一個函數constructPath來走訪所有的節點，並將經過的路徑記錄下來後直到沒有左右節點時則放入結果的list中，最後將結果的list進行回傳就是答案"
   ]
  },
  {
   "cell_type": "code",
   "execution_count": null,
   "metadata": {},
   "outputs": [],
   "source": [
    "# Definition for a binary tree node.\n",
    "# class TreeNode:\n",
    "#     def __init__(self, val=0, left=None, right=None):\n",
    "#         self.val = val\n",
    "#         self.left = left\n",
    "#         self.right = right\n",
    "class Solution:\n",
    "    def binaryTreePaths(self, root: Optional[TreeNode]) -> List[str]:\n",
    "        def constructPath(node, res):\n",
    "            if len(res) > 0:\n",
    "                res = '{}->{}'.format(res, node.val)\n",
    "            else:\n",
    "                res = str(node.val)\n",
    "            if not node.left and not node.right:\n",
    "                result.append(res)\n",
    "            else:\n",
    "                if node.left:\n",
    "                    constructPath(node.left, res)\n",
    "                if node.right:\n",
    "                    constructPath(node.right, res)\n",
    "        result = []\n",
    "        constructPath(root, result)\n",
    "        return result"
   ]
  }
 ],
 "metadata": {
  "kernelspec": {
   "display_name": "Python 3",
   "language": "python",
   "name": "python3"
  },
  "language_info": {
   "codemirror_mode": {
    "name": "ipython",
    "version": 3
   },
   "file_extension": ".py",
   "mimetype": "text/x-python",
   "name": "python",
   "nbconvert_exporter": "python",
   "pygments_lexer": "ipython3",
   "version": "3.7.4"
  }
 },
 "nbformat": 4,
 "nbformat_minor": 4
}
