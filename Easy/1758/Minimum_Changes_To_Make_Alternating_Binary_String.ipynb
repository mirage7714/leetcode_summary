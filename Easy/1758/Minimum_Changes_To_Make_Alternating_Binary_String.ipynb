{
 "cells": [
  {
   "cell_type": "markdown",
   "metadata": {},
   "source": [
    "# 本題要找出最少將字串改成左右不相同的次數為何\n",
    "原題目連結: https://leetcode.com/problems/minimum-changes-to-make-alternating-binary-string/  \n",
    "\n",
    "You are given a string s consisting only of the characters '0' and '1'. In one operation, you can change any '0' to '1' or vice versa.  \n",
    "The string is called alternating if no two adjacent characters are equal. For example, the string \"010\" is alternating, while the string \"0100\" is not.\n",
    "Return the minimum number of operations needed to make s alternating.  \n",
    "\n",
    "範例:  \n",
    "Ex1:  \n",
    "Input: s = \"0100\"  \n",
    "Output: 1  \n",
    "Explanation: If you change the last character to '1', s will be \"0101\", which is alternating.  \n",
    "\n",
    "Ex2:  \n",
    "Input: s = \"10\"  \n",
    "Output: 0  \n",
    "Explanation: s is already alternating.  \n",
    "\n",
    "Ex3:  \n",
    "Input: s = \"1111\"  \n",
    "Output: 2  \n",
    "Explanation: You need two operations to reach \"0101\" or \"1010\"."
   ]
  },
  {
   "cell_type": "markdown",
   "metadata": {},
   "source": [
    "* 解題想法:  \n",
    "因為字串中只有0與1，因此先用一個dict，將兩個數字出現的位置用奇數與偶數統計下來，接著開始分析:  \n",
    "如果兩個數字都有出現在字串中，這時候因為要把奇數或是偶數的位置改成一個數字，另一個數字則用其他的位置，因此找出兩組數字互換的最小值為何，就是找出0的偶數與1的奇數，另外0的奇數與1的偶數數字和的最小值  \n",
    "如果只有一個數字有出現在字串中，這時候就是將有出現的那組數字中，奇數與偶數最小的值為何  "
   ]
  },
  {
   "cell_type": "code",
   "execution_count": null,
   "metadata": {},
   "outputs": [],
   "source": [
    "class Solution:\n",
    "    def minOperations(self, s: str) -> int:\n",
    "        result = 0\n",
    "        count = {0:[0,0], 1:[0,0]}\n",
    "        if len(s) > 1:\n",
    "            for m in range(len(s)):\n",
    "                if s[m] == '1':\n",
    "                    if m % 2 == 0:\n",
    "                        count[1][0] += 1\n",
    "                    else:\n",
    "                        count[1][1] += 1\n",
    "                else:\n",
    "                    if m % 2 == 0:\n",
    "                        count[0][0] += 1\n",
    "                    else:\n",
    "                        count[0][1] += 1\n",
    "            if max(count[0]) != 0 and max(count[1]) != 0:\n",
    "                result += min((count[0][0] + count[1][1]), (count[0][1] + count[1][0]))\n",
    "            else:\n",
    "                result += min(max(count[0], count[1]))\n",
    "        return result"
   ]
  }
 ],
 "metadata": {
  "kernelspec": {
   "display_name": "Python 3",
   "language": "python",
   "name": "python3"
  },
  "language_info": {
   "codemirror_mode": {
    "name": "ipython",
    "version": 3
   },
   "file_extension": ".py",
   "mimetype": "text/x-python",
   "name": "python",
   "nbconvert_exporter": "python",
   "pygments_lexer": "ipython3",
   "version": "3.7.4"
  }
 },
 "nbformat": 4,
 "nbformat_minor": 4
}
