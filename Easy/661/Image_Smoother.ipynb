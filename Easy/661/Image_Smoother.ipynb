{
 "cells": [
  {
   "cell_type": "markdown",
   "id": "d9fef925-e59f-4c00-9270-722847134025",
   "metadata": {},
   "source": [
    "# 本題要對matrix做smoother (\\#Array, \\#Matrix )\n",
    "原題目連結: https://leetcode.com/problems/image-smoother/description/  \n",
    "\n",
    "An image smoother is a filter of the size 3 x 3 that can be applied to each cell of an image by rounding down the average of the cell and the eight surrounding cells (i.e., the average of the nine cells in the blue smoother). If one or more of the surrounding cells of a cell is not present, we do not consider it in the average (i.e., the average of the four cells in the red smoother).  \n",
    "Given an m x n integer matrix img representing the grayscale of an image, return the image after applying the smoother on each cell of it.  \n",
    "\n",
    "範例:  \n",
    "Ex1:  \n",
    "Input: img = [[1,1,1],[1,0,1],[1,1,1]]  \n",
    "Output: [[0,0,0],[0,0,0],[0,0,0]]  \n",
    "Explanation:  \n",
    "For the points (0,0), (0,2), (2,0), (2,2): floor(3/4) = floor(0.75) = 0  \n",
    "For the points (0,1), (1,0), (1,2), (2,1): floor(5/6) = floor(0.83333333) = 0  \n",
    "For the point (1,1): floor(8/9) = floor(0.88888889) = 0  \n",
    "\n",
    "Ex2:  \n",
    "Input: img = [[100,200,100],[200,50,200],[100,200,100]]  \n",
    "Output: [[137,141,137],[141,138,141],[137,141,137]]  \n",
    "Explanation:  \n",
    "For the points (0,0), (0,2), (2,0), (2,2): floor((100+200+200+50)/4) = floor(137.5) = 137  \n",
    "For the points (0,1), (1,0), (1,2), (2,1): floor((200+200+50+200+100+100)/6) = floor(141.666667) = 141  \n",
    "For the point (1,1): floor((50+200+200+200+200+100+100+100+100)/9) = floor(138.888889) = 138"
   ]
  },
  {
   "cell_type": "markdown",
   "id": "ba7ef839-3231-497f-b367-10f88d916eb9",
   "metadata": {},
   "source": [
    "* 解題想法:  \n",
    "首先定義一個函數，用來找出計算後的值，接著找出所有matrix中的數值並放入list中，並將list放入結果中，最後回傳就是答案"
   ]
  },
  {
   "cell_type": "code",
   "execution_count": null,
   "id": "8b53ea89-9b98-4f06-aa73-977d3833f42f",
   "metadata": {},
   "outputs": [],
   "source": [
    "class Solution:\n",
    "    def imageSmoother(self, M: List[List[int]]) -> List[List[int]]:\n",
    "        def get_value(m,n,nums):\n",
    "            x = [1,1,1,-1,-1,-1,0,0]\n",
    "            y = [1,0,-1,1,0,-1,1,-1]\n",
    "            res = [0,0]\n",
    "            for i in range(len(x)):\n",
    "                if m + x[i] >= 0 and m + x[i] < len(nums) and n + y[i] >= 0 and n + y[i] < len(nums[0]):\n",
    "                    res[0] += nums[m+x[i]][n + y[i]]\n",
    "                    res[1] += 1\n",
    "            res[0] += nums[m][n]\n",
    "            res[1] += 1\n",
    "            return floor(res[0] / res[1])\n",
    "        res = []\n",
    "        for i in range(len(M)):\n",
    "            t = []  \n",
    "            for j in range(len(M[0])):\n",
    "                t.append(get_value(i, j, M))\n",
    "            res.append(t)\n",
    "        return res"
   ]
  }
 ],
 "metadata": {
  "kernelspec": {
   "display_name": "Python 3 (ipykernel)",
   "language": "python",
   "name": "python3"
  },
  "language_info": {
   "codemirror_mode": {
    "name": "ipython",
    "version": 3
   },
   "file_extension": ".py",
   "mimetype": "text/x-python",
   "name": "python",
   "nbconvert_exporter": "python",
   "pygments_lexer": "ipython3",
   "version": "3.9.13"
  }
 },
 "nbformat": 4,
 "nbformat_minor": 5
}
