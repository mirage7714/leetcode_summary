{
 "cells": [
  {
   "cell_type": "markdown",
   "metadata": {},
   "source": [
    "# 本題要判斷有多少不按照字母順序排序的list\n",
    "原題目連結: https://leetcode.com/problems/delete-columns-to-make-sorted/  \n",
    "\n",
    "You are given an array of n strings strs, all of the same length.  \n",
    "\n",
    "The strings can be arranged such that there is one on each line, making a grid. For example, strs = [\"abc\", \"bce\", \"cae\"] can be arranged as:  \n",
    "\n",
    "abc  \n",
    "bce  \n",
    "cae  \n",
    "You want to delete the columns that are not sorted lexicographically. In the above example (0-indexed), columns 0 ('a', 'b', 'c') and 2 ('c', 'e', 'e') are sorted while column 1 ('b', 'c', 'a') is not, so you would delete column 1.  \n",
    "\n",
    "Return the number of columns that you will delete.  \n",
    "\n",
    "範例:  \n",
    "Ex1:  \n",
    "Input: strs = [\"cba\",\"daf\",\"ghi\"]  \n",
    "Output: 1  \n",
    "Explanation: The grid looks as follows:  \n",
    "  cba  \n",
    "  daf  \n",
    "  ghi  \n",
    "Columns 0 and 2 are sorted, but column 1 is not, so you only need to delete 1 column.  \n",
    "\n",
    "Ex2:  \n",
    "Input: strs = [\"a\",\"b\"]  \n",
    "Output: 0  \n",
    "Explanation: The grid looks as follows:  \n",
    "  a  \n",
    "  b  \n",
    "Column 0 is the only column and is sorted, so you will not delete any columns.  \n",
    "\n",
    "Ex3:  \n",
    "Input: strs = [\"zyx\",\"wvu\",\"tsr\"]  \n",
    "Output: 3  \n",
    "Explanation: The grid looks as follows:  \n",
    "  zyx  \n",
    "  wvu  \n",
    "  tsr  \n",
    "All 3 columns are not sorted, so you will delete all 3."
   ]
  },
  {
   "cell_type": "markdown",
   "metadata": {},
   "source": [
    "* 解題想法:  \n",
    "依題目說明，首先要將迴圈轉換成從直的去讀取2D-list，並判斷是否有符合字母的排序，因此使用了兩個迴圈，並從每個row開始判斷，如果不符合則直接將總計+1，最後回傳總計的結果"
   ]
  },
  {
   "cell_type": "code",
   "execution_count": null,
   "metadata": {},
   "outputs": [],
   "source": [
    "class Solution:\n",
    "    def minDeletionSize(self, A: List[str]) -> int:\n",
    "        count = 0\n",
    "        size_r = len(A)\n",
    "        size_c = len(A[0])\n",
    "        if size_r > 1:\n",
    "            for m in range(size_c):\n",
    "                temp = ''\n",
    "                for n in range(size_r):\n",
    "                    if A[n][m] >= temp:\n",
    "                        temp = A[n][m]\n",
    "                    else:\n",
    "                        count += 1\n",
    "                        break\n",
    "        return count"
   ]
  }
 ],
 "metadata": {
  "kernelspec": {
   "display_name": "Python 3",
   "language": "python",
   "name": "python3"
  },
  "language_info": {
   "codemirror_mode": {
    "name": "ipython",
    "version": 3
   },
   "file_extension": ".py",
   "mimetype": "text/x-python",
   "name": "python",
   "nbconvert_exporter": "python",
   "pygments_lexer": "ipython3",
   "version": "3.7.4"
  }
 },
 "nbformat": 4,
 "nbformat_minor": 2
}
