{
 "cells": [
  {
   "cell_type": "markdown",
   "metadata": {},
   "source": [
    "# 本題要找出最少要幾刀才能切出指定的份數(\\#Math)\n",
    "原題目連結: https://leetcode.com/problems/minimum-cuts-to-divide-a-circle/  \n",
    "\n",
    "A valid cut in a circle can be:  \n",
    "\n",
    "A cut that is represented by a straight line that touches two points on the edge of the circle and passes through its center, or  \n",
    "A cut that is represented by a straight line that touches one point on the edge of the circle and its center.  \n",
    "Some valid and invalid cuts are shown in the figures below.  \n",
    "\n",
    "Given the integer n, return the minimum number of cuts needed to divide a circle into n equal slices.  \n",
    "\n",
    "範例:  \n",
    "Ex1:  \n",
    "Input: n = 4  \n",
    "Output: 2  \n",
    "Explanation:   \n",
    "The above figure shows how cutting the circle twice through the middle divides it into 4 equal slices.  \n",
    "\n",
    "Ex2:  \n",
    "Input: n = 3  \n",
    "Output: 3  \n",
    "Explanation:  \n",
    "At least 3 cuts are needed to divide the circle into 3 equal slices.   \n",
    "It can be shown that less than 3 cuts cannot result in 3 slices of equal size and shape.  \n",
    "Also note that the first cut will not divide the circle into distinct parts."
   ]
  },
  {
   "cell_type": "markdown",
   "metadata": {},
   "source": [
    "* 解題想法:  \n",
    "首先判斷需要切的份數是否為偶數，如果為偶數，則最少刀數為2/n，另外如果n為1的時候，則不需要切任何一刀，最後如果都不符合，則直接回傳n"
   ]
  },
  {
   "cell_type": "code",
   "execution_count": null,
   "metadata": {},
   "outputs": [],
   "source": [
    "class Solution:\n",
    "    def numberOfCuts(self, n: int) -> int:\n",
    "        if n % 2 == 0:\n",
    "            return n //2\n",
    "        if n == 1:\n",
    "            return 0\n",
    "        return n"
   ]
  }
 ],
 "metadata": {
  "kernelspec": {
   "display_name": "Python 3",
   "language": "python",
   "name": "python3"
  },
  "language_info": {
   "codemirror_mode": {
    "name": "ipython",
    "version": 3
   },
   "file_extension": ".py",
   "mimetype": "text/x-python",
   "name": "python",
   "nbconvert_exporter": "python",
   "pygments_lexer": "ipython3",
   "version": "3.7.4"
  }
 },
 "nbformat": 4,
 "nbformat_minor": 4
}
