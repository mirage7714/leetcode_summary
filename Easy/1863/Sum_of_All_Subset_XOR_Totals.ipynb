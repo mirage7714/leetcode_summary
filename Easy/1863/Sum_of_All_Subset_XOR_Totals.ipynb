{
 "cells": [
  {
   "cell_type": "markdown",
   "metadata": {},
   "source": [
    "# 本題要找出所有subset的XOR總和為多少\n",
    "原題目連結: https://leetcode.com/problems/sum-of-all-subset-xor-totals/  \n",
    "\n",
    "The XOR total of an array is defined as the bitwise XOR of all its elements, or 0 if the array is empty.  \n",
    "\n",
    "For example, the XOR total of the array [2,5,6] is 2 XOR 5 XOR 6 = 1.  \n",
    "Given an array nums, return the sum of all XOR totals for every subset of nums.   \n",
    "\n",
    "Note: Subsets with the same elements should be counted multiple times.  \n",
    "\n",
    "An array a is a subset of an array b if a can be obtained from b by deleting some (possibly zero) elements of b.  \n",
    "\n",
    "範例:  \n",
    "Ex1:  \n",
    "Input: nums = [1,3]  \n",
    "Output: 6  \n",
    "Explanation: The 4 subsets of [1,3] are:  \n",
    "- The empty subset has an XOR total of 0.  \n",
    "- [1] has an XOR total of 1.  \n",
    "- [3] has an XOR total of 3.  \n",
    "- [1,3] has an XOR total of 1 XOR 3 = 2.  \n",
    "0 + 1 + 3 + 2 = 6  \n",
    "\n",
    "Ex2:  \n",
    "Input: nums = [5,1,6]  \n",
    "Output: 28  \n",
    "Explanation: The 8 subsets of [5,1,6] are:  \n",
    "- The empty subset has an XOR total of 0.  \n",
    "- [5] has an XOR total of 5.  \n",
    "- [1] has an XOR total of 1.  \n",
    "- [6] has an XOR total of 6.  \n",
    "- [5,1] has an XOR total of 5 XOR 1 = 4.  \n",
    "- [5,6] has an XOR total of 5 XOR 6 = 3.  \n",
    "- [1,6] has an XOR total of 1 XOR 6 = 7.  \n",
    "- [5,1,6] has an XOR total of 5 XOR 1 XOR 6 = 2.  \n",
    "0 + 5 + 1 + 6 + 4 + 3 + 7 + 2 = 28  \n",
    "\n",
    "Ex3:  \n",
    "Input: nums = [3,4,5,6,7,8]  \n",
    "Output: 480  \n",
    "Explanation: The sum of all XOR totals for every subset is 480.  "
   ]
  },
  {
   "cell_type": "markdown",
   "metadata": {},
   "source": [
    "* 解題想法:  \n",
    "首先將題目拆成兩個部分:   \n",
    "第一個部分是找出所有的subset有多少: 首先從長度為1的subset開始尋找，接著用前一個迴圈產出的結果繼續加上新的一個字，直到產出的list長度跟原本的list長度相同  \n",
    "接著建立一個計算XOR結果的函數，將前面建立的subset丟入之後計算XOR回傳，最後將結果加起來就是要找的XOR總和  "
   ]
  },
  {
   "cell_type": "code",
   "execution_count": null,
   "metadata": {},
   "outputs": [],
   "source": [
    "class Solution:\n",
    "    def subsetXORSum(self, nums: List[int]) -> int:\n",
    "        def getXor(index):\n",
    "            result = nums[index[0]]\n",
    "            if len(index) > 1:\n",
    "                for m in range(1, len(index)):\n",
    "                    result = result ^ nums[index[m]]\n",
    "            return result\n",
    "            \n",
    "        total = 0\n",
    "        temp = []\n",
    "        temp1 = []\n",
    "        freq = {}\n",
    "        for n in range(len(nums)):\n",
    "            if len(temp1) < 1:\n",
    "                for c in range(len(nums)):\n",
    "                    temp1.append([c])\n",
    "            else:\n",
    "                for t in temp1:\n",
    "                    for c in range(len(nums)):\n",
    "                        if c not in t:\n",
    "                            if c > t[-1]:\n",
    "                                m = t + [c]\n",
    "                                if m not in temp1:\n",
    "                                    temp1.append(m)\n",
    "            diff = len(temp1) - len(temp)\n",
    "            temp += temp1[-diff:]\n",
    "            temp1 = temp1[-diff:]\n",
    "        for t in temp:\n",
    "            tt = tuple(t)\n",
    "            if tt not in freq.keys():\n",
    "                freq[tt] = 1\n",
    "        for key in list(freq.keys()):\n",
    "            total += getXor(list(key))\n",
    "        return total"
   ]
  }
 ],
 "metadata": {
  "kernelspec": {
   "display_name": "Python 3",
   "language": "python",
   "name": "python3"
  },
  "language_info": {
   "codemirror_mode": {
    "name": "ipython",
    "version": 3
   },
   "file_extension": ".py",
   "mimetype": "text/x-python",
   "name": "python",
   "nbconvert_exporter": "python",
   "pygments_lexer": "ipython3",
   "version": "3.7.4"
  }
 },
 "nbformat": 4,
 "nbformat_minor": 2
}
