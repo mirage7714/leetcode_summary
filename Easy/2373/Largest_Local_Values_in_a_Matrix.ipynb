{
 "cells": [
  {
   "cell_type": "markdown",
   "metadata": {},
   "source": [
    "# 本題要找出在2D matrix中的最大值為和\n",
    "原題目連結: https://leetcode.com/problems/largest-local-values-in-a-matrix/  \n",
    "\n",
    "You are given an n x n integer matrix grid.  \n",
    "\n",
    "Generate an integer matrix maxLocal of size (n - 2) x (n - 2) such that:  \n",
    "\n",
    "maxLocal[i][j] is equal to the largest value of the 3 x 3 matrix in grid centered around row i + 1 and column j + 1.  \n",
    "In other words, we want to find the largest value in every contiguous 3 x 3 matrix in grid.  \n",
    "\n",
    "Return the generated matrix.  \n",
    "\n",
    "範例:  \n",
    "Ex1:  \n",
    "Input: grid = [[9,9,8,1],[5,6,2,6],[8,2,6,4],[6,2,2,2]]  \n",
    "Output: [[9,9],[8,6]]  \n",
    "Explanation: The diagram above shows the original matrix and the generated matrix.  \n",
    "Notice that each value in the generated matrix corresponds to the largest value of a contiguous 3 x 3 matrix in grid.  \n",
    "\n",
    "Ex2:  \n",
    "Input: grid = [[1,1,1,1,1],[1,1,1,1,1],[1,1,2,1,1],[1,1,1,1,1],[1,1,1,1,1]]  \n",
    "Output: [[2,2,2],[2,2,2],[2,2,2]]  \n",
    "Explanation: Notice that the 2 is contained within every contiguous 3 x 3 matrix in grid."
   ]
  },
  {
   "cell_type": "markdown",
   "metadata": {},
   "source": [
    "* 解題想法:  \n",
    "首先找出每個3 x 3的2D matrix後轉為1D list並找出最大值，並將結果加入一個list中，最後將這個list放入結果中，直到跑完所有的2D list後就可求得答案"
   ]
  },
  {
   "cell_type": "code",
   "execution_count": null,
   "metadata": {},
   "outputs": [],
   "source": [
    "class Solution:\n",
    "    def largestLocal(self, grid: List[List[int]]) -> List[List[int]]:\n",
    "        \n",
    "        n = len(grid)\n",
    "        result = []\n",
    "        for i in range(n-2):\n",
    "            temp = []\n",
    "            for j in range(n-2):\n",
    "                m = []\n",
    "                for k in range(3):\n",
    "                    m += grid[i+k][j:j+3]\n",
    "                temp.append(max(m))\n",
    "            result.append(temp)\n",
    "        return result"
   ]
  }
 ],
 "metadata": {
  "kernelspec": {
   "display_name": "Python 3",
   "language": "python",
   "name": "python3"
  },
  "language_info": {
   "codemirror_mode": {
    "name": "ipython",
    "version": 3
   },
   "file_extension": ".py",
   "mimetype": "text/x-python",
   "name": "python",
   "nbconvert_exporter": "python",
   "pygments_lexer": "ipython3",
   "version": "3.7.4"
  }
 },
 "nbformat": 4,
 "nbformat_minor": 4
}
