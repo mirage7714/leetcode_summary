{
 "cells": [
  {
   "cell_type": "markdown",
   "metadata": {},
   "source": [
    "# 本題要判斷題目提供的字串是否為回文\n",
    "原題目連結: https://leetcode.com/problems/valid-palindrome/  \n",
    "\n",
    "Given a string, determine if it is a palindrome, considering only alphanumeric characters and ignoring cases.  \n",
    " \n",
    "Note: For the purpose of this problem, we define empty string as valid palindrome.  \n",
    "\n",
    "範例:  \n",
    "Ex1:  \n",
    "Input: \"A man, a plan, a canal: Panama\"  \n",
    "Output: true  \n",
    "\n",
    "Ex2:  \n",
    "Input: \"race a car\"  \n",
    "Output: false  "
   ]
  },
  {
   "cell_type": "markdown",
   "metadata": {},
   "source": [
    "* 解題想法:  \n",
    "由於題目提供的字串內可能包含了各式各樣的內容，例如空白或標點符號等，因此先建立了一個list來存放屬於字母或數字的部分  \n",
    "在用一個for迴圈來判斷頭尾的自串是否相同，若不相同則中斷迴圈並回傳False"
   ]
  },
  {
   "cell_type": "code",
   "execution_count": null,
   "metadata": {},
   "outputs": [],
   "source": [
    "class Solution:\n",
    "    def isPalindrome(self, s: str) -> bool:\n",
    "        refine = []\n",
    "        is_valid = True\n",
    "        for n in s:\n",
    "            if n.isalnum():\n",
    "                refine.append(n.lower())\n",
    "        for m in range(int(len(refine)/2)):\n",
    "            if refine[m] != refine[-1-m]:\n",
    "                is_valid = False\n",
    "                break\n",
    "        return is_valid"
   ]
  }
 ],
 "metadata": {
  "kernelspec": {
   "display_name": "Python 3",
   "language": "python",
   "name": "python3"
  },
  "language_info": {
   "codemirror_mode": {
    "name": "ipython",
    "version": 3
   },
   "file_extension": ".py",
   "mimetype": "text/x-python",
   "name": "python",
   "nbconvert_exporter": "python",
   "pygments_lexer": "ipython3",
   "version": "3.7.4"
  }
 },
 "nbformat": 4,
 "nbformat_minor": 2
}
