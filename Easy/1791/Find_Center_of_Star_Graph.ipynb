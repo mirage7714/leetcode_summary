{
 "cells": [
  {
   "cell_type": "markdown",
   "metadata": {},
   "source": [
    "# 本題要找出所有點連接的中心為何\n",
    "原題目連結: https://leetcode.com/problems/find-center-of-star-graph/  \n",
    "\n",
    "There is an undirected star graph consisting of n nodes labeled from 1 to n. A star graph is a graph where there is one center node and exactly n - 1 edges that connect the center node with every other node.  \n",
    " \n",
    "You are given a 2D integer array edges where each edges[i] = [ui, vi] indicates that there is an edge between the nodes ui and vi. Return the center of the given star graph.   \n",
    "\n",
    "範例:  \n",
    "Ex1:  \n",
    "Input: edges = [[1,2],[2,3],[4,2]]  \n",
    "Output: 2  \n",
    "Explanation: As shown in the figure above, node 2 is connected to every other node, so 2 is the center.  \n",
    "\n",
    "Ex2:  \n",
    "Input: edges = [[1,2],[5,1],[1,3],[1,4]]  \n",
    "Output: 1"
   ]
  },
  {
   "cell_type": "markdown",
   "metadata": {},
   "source": [
    "* 解題想法:  \n",
    "首先用一個dict，將所有點出現的次數統計下來，接著檢查哪個點的出現次數剛好為dict的長度減一，那個點就是中心值"
   ]
  },
  {
   "cell_type": "code",
   "execution_count": null,
   "metadata": {},
   "outputs": [],
   "source": [
    "class Solution:\n",
    "    def findCenter(self, edges: List[List[int]]) -> int:\n",
    "        def categorize(point, connect):\n",
    "            if point not in connect.keys():\n",
    "                connect[point] = 1\n",
    "            else:\n",
    "                connect[point] += 1\n",
    "            return connect\n",
    "        \n",
    "        connect = {}\n",
    "        result = 0\n",
    "        for edge in edges:\n",
    "            for e in edge:\n",
    "                categorize(e, connect)\n",
    "        for key, val in connect.items():\n",
    "            if val == len(connect) -1:\n",
    "                result = key\n",
    "                break\n",
    "        return result"
   ]
  }
 ],
 "metadata": {
  "kernelspec": {
   "display_name": "Python 3",
   "language": "python",
   "name": "python3"
  },
  "language_info": {
   "codemirror_mode": {
    "name": "ipython",
    "version": 3
   },
   "file_extension": ".py",
   "mimetype": "text/x-python",
   "name": "python",
   "nbconvert_exporter": "python",
   "pygments_lexer": "ipython3",
   "version": "3.7.4"
  }
 },
 "nbformat": 4,
 "nbformat_minor": 4
}
