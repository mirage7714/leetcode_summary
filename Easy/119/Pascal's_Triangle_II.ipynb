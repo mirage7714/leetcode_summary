{
 "cells": [
  {
   "cell_type": "markdown",
   "metadata": {},
   "source": [
    "# 本題要找出三角形的最後一列為何\n",
    "原題目連結: https://leetcode.com/problems/pascals-triangle-ii/  \n",
    "\n",
    "Given an integer rowIndex, return the rowIndexth (0-indexed) row of the Pascal's triangle.  \n",
    "In Pascal's triangle, each number is the sum of the two numbers directly above it as shown. \n",
    "\n",
    "範例:  \n",
    "Ex1:  \n",
    "Input: rowIndex = 3  \n",
    "Output: [1,3,3,1]  \n",
    "\n",
    "Ex2:  \n",
    "Input: rowIndex = 0  \n",
    "Output: [1]  \n",
    "\n",
    "Ex3:  \n",
    "Input: rowIndex = 1  \n",
    "Output: [1,1]"
   ]
  },
  {
   "cell_type": "markdown",
   "metadata": {},
   "source": [
    "* 解題想法:  \n",
    "首先建立一個dict來存放結果，接著檢查題目要求的列數為何，如果為1的情況，則可以直接加入1之後回傳，如果大於1以上的話，則用一個暫存的list來存放結果，並將前一列的數值兩兩相加後放入暫存，最後將暫存的結果放入答案中"
   ]
  },
  {
   "cell_type": "code",
   "execution_count": null,
   "metadata": {},
   "outputs": [],
   "source": [
    "class Solution:\n",
    "    def getRow(self, rowIndex: int) -> List[int]:\n",
    "        result = [1]\n",
    "        if rowIndex == 1:\n",
    "            result.append(1)\n",
    "        elif rowIndex > 1:\n",
    "            for m in range(rowIndex):\n",
    "                temp = [1]\n",
    "                for n in range(len(result)-1):\n",
    "                    t = result[n] + result[n+1]\n",
    "                    temp.append(t)\n",
    "                temp.append(1)\n",
    "                result = temp\n",
    "        return result"
   ]
  }
 ],
 "metadata": {
  "kernelspec": {
   "display_name": "Python 3",
   "language": "python",
   "name": "python3"
  },
  "language_info": {
   "codemirror_mode": {
    "name": "ipython",
    "version": 3
   },
   "file_extension": ".py",
   "mimetype": "text/x-python",
   "name": "python",
   "nbconvert_exporter": "python",
   "pygments_lexer": "ipython3",
   "version": "3.7.4"
  }
 },
 "nbformat": 4,
 "nbformat_minor": 4
}
