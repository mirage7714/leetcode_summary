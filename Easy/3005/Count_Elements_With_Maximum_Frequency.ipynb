{
 "cells": [
  {
   "cell_type": "markdown",
   "id": "a7241c59-b10f-4f77-9566-5c34adea2cfe",
   "metadata": {},
   "source": [
    "# 本題要找出list中出現頻率最多的次數總和為多少 (\\#Array )\n",
    "原題目連結: https://leetcode.com/problems/count-elements-with-maximum-frequency/description/  \n",
    "\n",
    "You are given an array nums consisting of positive integers.  \n",
    "Return the total frequencies of elements in nums such that those elements all have the maximum frequency.  \n",
    "The frequency of an element is the number of occurrences of that element in the array.  \n",
    "\n",
    "範例:  \n",
    "Ex1:  \n",
    "Input: nums = [1,2,2,3,1,4]  \n",
    "Output: 4  \n",
    "Explanation: The elements 1 and 2 have a frequency of 2 which is the maximum frequency in the array.  \n",
    "So the number of elements in the array with maximum frequency is 4.  \n",
    "\n",
    "Ex2:  \n",
    "Input: nums = [1,2,3,4,5]  \n",
    "Output: 5  \n",
    "Explanation: All elements of the array have a frequency of 1 which is the maximum.  \n",
    "So the number of elements in the array with maximum frequency is 5."
   ]
  },
  {
   "cell_type": "markdown",
   "id": "aec4e402-c2fa-4a93-8af0-e1143ec02bf2",
   "metadata": {},
   "source": [
    "* 解題想法:  \n",
    "首先用一個dict將list內的數字與出現的頻率統計之後，將最大的頻率出現次數加總之後就是答案"
   ]
  },
  {
   "cell_type": "code",
   "execution_count": null,
   "id": "fcb3e624-285b-425d-a9bd-920a0dff0e35",
   "metadata": {},
   "outputs": [],
   "source": [
    "class Solution:\n",
    "    def maxFrequencyElements(self, nums: List[int]) -> int:\n",
    "        count = {}\n",
    "        res = 0\n",
    "        for n in nums:\n",
    "            if n not in count.keys():\n",
    "                count[n] = 1\n",
    "            else:\n",
    "                count[n] += 1\n",
    "        m = max(list(count.values()))\n",
    "        for val in count.values():\n",
    "            if val == m:\n",
    "                res += val\n",
    "        return res"
   ]
  }
 ],
 "metadata": {
  "kernelspec": {
   "display_name": "Python 3 (ipykernel)",
   "language": "python",
   "name": "python3"
  },
  "language_info": {
   "codemirror_mode": {
    "name": "ipython",
    "version": 3
   },
   "file_extension": ".py",
   "mimetype": "text/x-python",
   "name": "python",
   "nbconvert_exporter": "python",
   "pygments_lexer": "ipython3",
   "version": "3.9.13"
  }
 },
 "nbformat": 4,
 "nbformat_minor": 5
}
