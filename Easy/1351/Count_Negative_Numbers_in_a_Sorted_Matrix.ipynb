{
 "cells": [
  {
   "cell_type": "markdown",
   "metadata": {},
   "source": [
    "# 本題要找出list中為負數的個數共有多少\n",
    "原題目連結： https://leetcode.com/problems/count-negative-numbers-in-a-sorted-matrix/  \n",
    "\n",
    "範例：  \n",
    "Ex1:  \n",
    "Input: grid = [[4,3,2,-1],[3,2,1,-1],[1,1,-1,-2],[-1,-1,-2,-3]]  \n",
    "Output: 8  \n",
    "Explanation: There are 8 negatives number in the matrix.  \n",
    "\n",
    "Ex2:  \n",
    "Input: grid = [[3,2],[1,0]]  \n",
    "Output: 0  \n",
    "\n",
    "Ex3:  \n",
    "Input: grid = [[1,-1],[-1,-1]]  \n",
    "Output: 3  \n",
    "\n",
    "Ex4:  \n",
    "Input: grid = [[-1]]  \n",
    "Output: 1"
   ]
  },
  {
   "cell_type": "markdown",
   "metadata": {},
   "source": [
    "* 解題想法：  \n",
    "將list中的元件一層一層拆開來看，並最後加總所有為負的個數"
   ]
  },
  {
   "cell_type": "code",
   "execution_count": null,
   "metadata": {},
   "outputs": [],
   "source": [
    "class Solution:\n",
    "    def countNegatives(self, grid: List[List[int]]) -> int:\n",
    "        count = 0\n",
    "        for n in range(len(grid)):\n",
    "            for m in range(len(grid[n])):\n",
    "                if grid[n][m] < 0:\n",
    "                    count += 1\n",
    "        return count"
   ]
  }
 ],
 "metadata": {
  "kernelspec": {
   "display_name": "Python 3",
   "language": "python",
   "name": "python3"
  },
  "language_info": {
   "codemirror_mode": {
    "name": "ipython",
    "version": 3
   },
   "file_extension": ".py",
   "mimetype": "text/x-python",
   "name": "python",
   "nbconvert_exporter": "python",
   "pygments_lexer": "ipython3",
   "version": "3.8.3"
  }
 },
 "nbformat": 4,
 "nbformat_minor": 4
}
