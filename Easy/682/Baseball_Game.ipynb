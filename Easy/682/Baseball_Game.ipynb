{
 "cells": [
  {
   "cell_type": "markdown",
   "metadata": {},
   "source": [
    "# 本題要找出在經過操作後，最後總分為何\n",
    "原題目連結: https://leetcode.com/problems/baseball-game/  \n",
    "\n",
    "You are keeping score for a baseball game with strange rules. The game consists of several rounds, where the scores of past rounds may affect future rounds' scores.  \n",
    "\n",
    "At the beginning of the game, you start with an empty record. You are given a list of strings ops, where ops[i] is the ith operation you must apply to the record and is one of the following:  \n",
    "\n",
    "An integer x - Record a new score of x.  \n",
    "\"+\" - Record a new score that is the sum of the previous two scores. It is guaranteed there will always be two previous scores.  \n",
    "\"D\" - Record a new score that is double the previous score. It is guaranteed there will always be a previous score.  \n",
    "\"C\" - Invalidate the previous score, removing it from the record. It is guaranteed there will always be a previous score.  \n",
    "Return the sum of all the scores on the record.  \n",
    "\n",
    "範例:  \n",
    "Ex1:  \n",
    "Input: ops = [\"5\",\"2\",\"C\",\"D\",\"+\"]  \n",
    "Output: 30  \n",
    "Explanation:  \n",
    "\"5\" - Add 5 to the record, record is now [5].  \n",
    "\"2\" - Add 2 to the record, record is now [5, 2].  \n",
    "\"C\" - Invalidate and remove the previous score, record is now [5].  \n",
    "\"D\" - Add 2 * 5 = 10 to the record, record is now [5, 10].  \n",
    "\"+\" - Add 5 + 10 = 15 to the record, record is now [5, 10, 15].  \n",
    "The total sum is 5 + 10 + 15 = 30.  \n",
    "\n",
    "Ex2:  \n",
    "Input: ops = [\"5\",\"-2\",\"4\",\"C\",\"D\",\"9\",\"+\",\"+\"]  \n",
    "Output: 27  \n",
    "Explanation:  \n",
    "\"5\" - Add 5 to the record, record is now [5].  \n",
    "\"-2\" - Add -2 to the record, record is now [5, -2].  \n",
    "\"4\" - Add 4 to the record, record is now [5, -2, 4].  \n",
    "\"C\" - Invalidate and remove the previous score, record is now [5, -2].  \n",
    "\"D\" - Add 2 * -2 = -4 to the record, record is now [5, -2, -4].  \n",
    "\"9\" - Add 9 to the record, record is now [5, -2, -4, 9].  \n",
    "\"+\" - Add -4 + 9 = 5 to the record, record is now [5, -2, -4, 9, 5].  \n",
    "\"+\" - Add 9 + 5 = 14 to the record, record is now [5, -2, -4, 9, 5, 14].  \n",
    "The total sum is 5 + -2 + -4 + 9 + 5 + 14 = 27.  \n",
    "\n",
    "Ex3:  \n",
    "Input: ops = [\"1\"]  \n",
    "Output: 1"
   ]
  },
  {
   "cell_type": "markdown",
   "metadata": {},
   "source": [
    "* 解題想法:  \n",
    "由於題目要找出最後總和為多少，因此需要先建立一個暫存的list來放操作過後的結果，依據說明如下:  \n",
    "如果出現\"C\"則代表需要刪除暫存list最後一個元件  \n",
    "如果出現\"D\"則代表將暫存list最後一個元件x2後放入  \n",
    "如果出現\"+\"則但表將暫存list最後兩個元件相加後放入  \n",
    "如果出現數字，則直接放入暫存list中  \n",
    "最後將暫存list中所有數字加起來"
   ]
  },
  {
   "cell_type": "code",
   "execution_count": null,
   "metadata": {},
   "outputs": [],
   "source": [
    "class Solution:\n",
    "    def calPoints(self, ops: List[str]) -> int:\n",
    "        result = []\n",
    "        total = 0\n",
    "        for op in ops:\n",
    "            if op == \"D\":\n",
    "                result.append(result[-1] * 2)\n",
    "            elif op == \"C\":\n",
    "                result.pop(-1)\n",
    "            elif op == '+':\n",
    "                result.append(result[-1] + result[-2])\n",
    "            else:\n",
    "                result.append(int(op))\n",
    "        for r in result:\n",
    "            total += r\n",
    "        return total"
   ]
  }
 ],
 "metadata": {
  "kernelspec": {
   "display_name": "Python 3",
   "language": "python",
   "name": "python3"
  },
  "language_info": {
   "codemirror_mode": {
    "name": "ipython",
    "version": 3
   },
   "file_extension": ".py",
   "mimetype": "text/x-python",
   "name": "python",
   "nbconvert_exporter": "python",
   "pygments_lexer": "ipython3",
   "version": "3.7.4"
  }
 },
 "nbformat": 4,
 "nbformat_minor": 2
}
