{
 "cells": [
  {
   "cell_type": "markdown",
   "metadata": {},
   "source": [
    "# 題目要找出這個array的趨勢，是不是一致的情況\n",
    "原題目連結: https://leetcode.com/problems/monotonic-array/  \n",
    "\n",
    "An array is monotonic if it is either monotone increasing or monotone decreasing.  \n",
    "An array A is monotone increasing if for all i <= j, A[i] <= A[j].  An array A is monotone decreasing if for all i <= j, A[i] >= A[j].  \n",
    "Return true if and only if the given array A is monotonic.  \n",
    "\n",
    "範例:  \n",
    "Ex1:  \n",
    "Input: [1,2,2,3]  \n",
    "Output: true  \n",
    "\n",
    "Ex2:  \n",
    "Input: [6,5,4,4]  \n",
    "Output: true  \n",
    "\n",
    "Ex3:  \n",
    "Input: [1,3,2]  \n",
    "Output: false  \n",
    "\n",
    "Ex4:  \n",
    "Input: [1,2,4,5]  \n",
    "Output: true  \n",
    "\n",
    "Ex5:  \n",
    "Input: [1,1,1]  \n",
    "Output: true"
   ]
  },
  {
   "cell_type": "markdown",
   "metadata": {},
   "source": [
    "* 解題想法:  \n",
    "由於要找出這個array是逐漸向上，或是逐漸向下，或是沒有邏輯，因此先將前後數值進行比對，並判斷是遞增或是遞減  \n",
    "接著比較過程中如果有出現不一致的情況，代表這個array是沒有規則的"
   ]
  },
  {
   "cell_type": "code",
   "execution_count": null,
   "metadata": {},
   "outputs": [],
   "source": [
    "class Solution:\n",
    "    def isMonotonic(self, A: List[int]) -> bool:\n",
    "        result = []\n",
    "        for n in range(len(A)-1):\n",
    "            if A[n] < A[n+1]:\n",
    "                result.append('I')\n",
    "            elif A[n] > A[n+1]:\n",
    "                result.append('D')\n",
    "        is_match = True\n",
    "        for a in range(len(result)):\n",
    "            for b in range(len(result)):\n",
    "                if result[a] != result[b]:\n",
    "                    is_match = False\n",
    "                    break\n",
    "            if not is_match:\n",
    "                break\n",
    "        return is_match"
   ]
  }
 ],
 "metadata": {
  "kernelspec": {
   "display_name": "Python 3",
   "language": "python",
   "name": "python3"
  },
  "language_info": {
   "codemirror_mode": {
    "name": "ipython",
    "version": 3
   },
   "file_extension": ".py",
   "mimetype": "text/x-python",
   "name": "python",
   "nbconvert_exporter": "python",
   "pygments_lexer": "ipython3",
   "version": "3.7.4"
  }
 },
 "nbformat": 4,
 "nbformat_minor": 2
}
