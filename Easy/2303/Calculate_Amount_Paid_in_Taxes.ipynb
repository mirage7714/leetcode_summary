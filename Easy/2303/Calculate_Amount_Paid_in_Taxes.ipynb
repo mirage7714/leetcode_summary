{
 "cells": [
  {
   "cell_type": "markdown",
   "metadata": {},
   "source": [
    "# 本題要計算稅額的總金額為多少\n",
    "原題目連結: https://leetcode.com/problems/calculate-amount-paid-in-taxes/  \n",
    "\n",
    "You are given a 0-indexed 2D integer array brackets where brackets[i] = [upperi, percenti] means that the ith tax bracket has an upper bound of upperi and is taxed at a rate of percenti. The brackets are sorted by upper bound (i.e. upperi-1 < upperi for 0 < i < brackets.length).  \n",
    "\n",
    "Tax is calculated as follows:  \n",
    "\n",
    "The first upper0 dollars earned are taxed at a rate of percent0.  \n",
    "The next upper1 - upper0 dollars earned are taxed at a rate of percent1.  \n",
    "The next upper2 - upper1 dollars earned are taxed at a rate of percent2.  \n",
    "And so on.  \n",
    "You are given an integer income representing the amount of money you earned. Return the amount of money that you have to pay in taxes. Answers within 10-5 of the actual answer will be accepted.  \n",
    "\n",
    "範例:  \n",
    "Ex1:  \n",
    "Input: brackets = [[3,50],[7,10],[12,25]], income = 10  \n",
    "Output: 2.65000  \n",
    "Explanation:  \n",
    "The first 3 dollars you earn are taxed at 50%. You have to pay $3 * 50% = $1.50 dollars in taxes.  \n",
    "The next 7 - 3 = 4 dollars you earn are taxed at 10%. You have to pay $4 * 10% = $0.40 dollars in taxes.  \n",
    "The final 10 - 7 = 3 dollars you earn are taxed at 25%. You have to pay $3 * 25% = $0.75 dollars in taxes.  \n",
    "You have to pay a total of $1.50 + $0.40 + $0.75 = $2.65 dollars in taxes.  \n",
    "\n",
    "Ex2:  \n",
    "Input: brackets = [[1,0],[4,25],[5,50]], income = 2  \n",
    "Output: 0.25000  \n",
    "Explanation:  \n",
    "The first dollar you earn is taxed at 0%. You have to pay $1 * 0% = $0 dollars in taxes.  \n",
    "The second dollar you earn is taxed at 25%. You have to pay $1 * 25% = $0.25 dollars in taxes.  \n",
    "You have to pay a total of $0 + $0.25 = $0.25 dollars in taxes.  \n",
    "\n",
    "Ex3:  \n",
    "Input: brackets = [[2,50]], income = 0  \n",
    "Output: 0.00000  \n",
    "Explanation:  \n",
    "You have no income to tax, so you have to pay a total of $0 dollars in taxes."
   ]
  },
  {
   "cell_type": "markdown",
   "metadata": {},
   "source": [
    "* 解題想法:  \n",
    "首先檢查收入的部分是否有大於0，接著開始檢查稅率的list是否有大於0，再來開始計算累進稅率的金額分別需要多少，最後將稅的部分全部加總就是總共需要繳的稅金"
   ]
  },
  {
   "cell_type": "code",
   "execution_count": null,
   "metadata": {},
   "outputs": [],
   "source": [
    "class Solution:\n",
    "    def calculateTax(self, brackets: List[List[int]], income: int) -> float:\n",
    "        result = 0\n",
    "        while income > 0:\n",
    "            if len(brackets) > 0:\n",
    "                prev = 0\n",
    "                for bracket in brackets:\n",
    "                    amount = bracket[0] - prev\n",
    "                    prev = bracket[0]\n",
    "                    if income >= amount:\n",
    "                        result += amount * bracket[1] * 0.01\n",
    "                        income -= amount\n",
    "                    else:\n",
    "                        result += income * bracket[1] * 0.01\n",
    "                        income = 0\n",
    "        return result"
   ]
  }
 ],
 "metadata": {
  "kernelspec": {
   "display_name": "Python 3",
   "language": "python",
   "name": "python3"
  },
  "language_info": {
   "codemirror_mode": {
    "name": "ipython",
    "version": 3
   },
   "file_extension": ".py",
   "mimetype": "text/x-python",
   "name": "python",
   "nbconvert_exporter": "python",
   "pygments_lexer": "ipython3",
   "version": "3.7.4"
  }
 },
 "nbformat": 4,
 "nbformat_minor": 4
}
