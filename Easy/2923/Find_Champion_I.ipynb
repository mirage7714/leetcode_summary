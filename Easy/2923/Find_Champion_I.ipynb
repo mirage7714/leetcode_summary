{
 "cells": [
  {
   "cell_type": "markdown",
   "id": "f34e28ec-46a0-4734-8de6-1ad5b3096c59",
   "metadata": {},
   "source": [
    "# 本題要找出隊伍中的冠軍是誰 (\\#Array )\n",
    "原題目連結: https://leetcode.com/problems/find-champion-i/description/  \n",
    "\n",
    "There are n teams numbered from 0 to n - 1 in a tournament.  \n",
    "Given a 0-indexed 2D boolean matrix grid of size n * n. For all i, j that 0 <= i, j <= n - 1 and i != j team i is stronger than team j if grid[i][j] == 1, otherwise, team j is stronger than team i.  \n",
    "Team a will be the champion of the tournament if there is no team b that is stronger than team a.  \n",
    "Return the team that will be the champion of the tournament.  \n",
    "\n",
    "範例:  \n",
    "Ex1:  \n",
    "Input: grid = [[0,1],[0,0]]  \n",
    "Output: 0  \n",
    "Explanation: There are two teams in this tournament.  \n",
    "grid[0][1] == 1 means that team 0 is stronger than team 1. So team 0 will be the champion.  \n",
    "\n",
    "Ex2:  \n",
    "Input: grid = [[0,0,1],[1,0,1],[0,0,0]]  \n",
    "Output: 1  \n",
    "Explanation: There are three teams in this tournament.  \n",
    "grid[1][0] == 1 means that team 1 is stronger than team 0.  \n",
    "grid[1][2] == 1 means that team 1 is stronger than team 2.  \n",
    "So team 1 will be the champion."
   ]
  },
  {
   "cell_type": "markdown",
   "id": "fd4a6f29-7844-4cf2-b870-b19740683cb3",
   "metadata": {},
   "source": [
    "* 解題想法:  \n",
    "首先用一個變數統計該隊伍勝利的次數，以及該隊伍的index為何，接著開始統計每個隊伍的勝利次數，如果當目前隊伍的勝利次數超過最大值則更新勝利隊伍以及勝利次數，最後回傳勝利次數最多的隊伍就是答案"
   ]
  },
  {
   "cell_type": "code",
   "execution_count": null,
   "id": "cd680022-c4fd-4df0-aae2-be80aa464ed1",
   "metadata": {},
   "outputs": [],
   "source": [
    "class Solution:\n",
    "    def findChampion(self, grid: List[List[int]]) -> int:\n",
    "        res = 0\n",
    "        count = 0\n",
    "        for g in range(len(grid)):\n",
    "            t = 0\n",
    "            for i in grid[g]:\n",
    "                t += i\n",
    "            if t > count:\n",
    "                res = g\n",
    "                count = t\n",
    "        return res"
   ]
  }
 ],
 "metadata": {
  "kernelspec": {
   "display_name": "Python 3 (ipykernel)",
   "language": "python",
   "name": "python3"
  },
  "language_info": {
   "codemirror_mode": {
    "name": "ipython",
    "version": 3
   },
   "file_extension": ".py",
   "mimetype": "text/x-python",
   "name": "python",
   "nbconvert_exporter": "python",
   "pygments_lexer": "ipython3",
   "version": "3.11.4"
  }
 },
 "nbformat": 4,
 "nbformat_minor": 5
}
