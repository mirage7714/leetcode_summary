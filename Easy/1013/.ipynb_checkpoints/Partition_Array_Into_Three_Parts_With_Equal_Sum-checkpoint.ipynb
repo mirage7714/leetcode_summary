{
 "cells": [
  {
   "cell_type": "markdown",
   "metadata": {},
   "source": [
    "# 本題要找出在提供的array中，能否分成三個和相等的array\n",
    "原題目連結: https://leetcode.com/problems/partition-array-into-three-parts-with-equal-sum/  \n",
    "\n",
    "Given an array A of integers, return true if and only if we can partition the array into three non-empty parts with equal sums.  \n",
    "\n",
    "Formally, we can partition the array if we can find indexes i+1 < j with (A[0] + A[1] + ... + A[i] == A[i+1] + A[i+2] + ... + A[j-1] == A[j] + A[j-1] + ... + A[A.length - 1])  \n",
    "\n",
    "範例:  \n",
    "Ex1:  \n",
    "Input: A = [0,2,1,-6,6,-7,9,1,2,0,1]  \n",
    "Output: true  \n",
    "Explanation: 0 + 2 + 1 = -6 + 6 - 7 + 9 + 1 = 2 + 0 + 1  \n",
    "\n",
    "Ex2:  \n",
    "Input: A = [0,2,1,-6,6,7,9,-1,2,0,1]  \n",
    "Output: false  \n",
    "\n",
    "Ex3:  \n",
    "Input: A = [3,3,6,5,-2,2,5,1,-9,4]  \n",
    "Output: true  \n",
    "Explanation: 3 + 3 = 6 = 5 - 2 + 2 + 5 + 1 - 9 + 4"
   ]
  },
  {
   "cell_type": "markdown",
   "metadata": {},
   "source": [
    "* 解題想法:  \n",
    "由於要分成三個總和相等的list，代表總和必須要能被3整除，否則是無法分成三個list的。在找出一個list的和應該為多少後，從頭開始計算和，並且在和等於三分之一的值時，將滿足次數+1，再重新歸零開始計算。最後判斷滿足次數是否大於三次以上，如果小於三次則代表無法分割成三等分"
   ]
  },
  {
   "cell_type": "code",
   "execution_count": null,
   "metadata": {},
   "outputs": [],
   "source": [
    "class Solution:\n",
    "    def canThreePartsEqualSum(self, A: List[int]) -> bool:\n",
    "        is_valid = True\n",
    "        total = 0\n",
    "        for n in range(len(A)):\n",
    "            total += A[n]\n",
    "        if total % 3 != 0:\n",
    "            is_valid = False\n",
    "        else:\n",
    "            part = int(total /3)\n",
    "            print(part)\n",
    "            temp = 0\n",
    "            count = 0\n",
    "            for n in range(len(A)):\n",
    "                temp += A[n]\n",
    "                print('{}:{}'.format(A[n],temp))\n",
    "                if temp == part:\n",
    "                    temp = 0\n",
    "                    count += 1\n",
    "            if count < 3:\n",
    "                is_valid = False\n",
    "        return is_valid"
   ]
  }
 ],
 "metadata": {
  "kernelspec": {
   "display_name": "Python 3",
   "language": "python",
   "name": "python3"
  },
  "language_info": {
   "codemirror_mode": {
    "name": "ipython",
    "version": 3
   },
   "file_extension": ".py",
   "mimetype": "text/x-python",
   "name": "python",
   "nbconvert_exporter": "python",
   "pygments_lexer": "ipython3",
   "version": "3.7.4"
  }
 },
 "nbformat": 4,
 "nbformat_minor": 2
}
