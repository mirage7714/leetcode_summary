{
 "cells": [
  {
   "cell_type": "markdown",
   "metadata": {},
   "source": [
    "# 本題要找出字串中共可以組成多少個指定的子字串\n",
    "原題目連結: https://leetcode.com/problems/rearrange-characters-to-make-target-string/  \n",
    "\n",
    "You are given two 0-indexed strings s and target. You can take some letters from s and rearrange them to form new strings.  \n",
    "Return the maximum number of copies of target that can be formed by taking letters from s and rearranging them.  \n",
    "\n",
    "範例:  \n",
    "Ex1:  \n",
    "Input: s = \"ilovecodingonleetcode\", target = \"code\"  \n",
    "Output: 2  \n",
    "Explanation:  \n",
    "For the first copy of \"code\", take the letters at indices 4, 5, 6, and 7.  \n",
    "For the second copy of \"code\", take the letters at indices 17, 18, 19, and 20.  \n",
    "The strings that are formed are \"ecod\" and \"code\" which can both be rearranged into \"code\".  \n",
    "We can make at most two copies of \"code\", so we return 2.  \n",
    "\n",
    "Ex2:  \n",
    "Input: s = \"abcba\", target = \"abc\"  \n",
    "Output: 1  \n",
    "Explanation:  \n",
    "We can make one copy of \"abc\" by taking the letters at indices 0, 1, and 2.  \n",
    "We can make at most one copy of \"abc\", so we return 1.  \n",
    "Note that while there is an extra 'a' and 'b' at indices 3 and 4, we cannot reuse the letter 'c' at index 2, so we cannot make a second copy of \"abc\".  \n",
    "\n",
    "Ex3:  \n",
    "Input: s = \"abbaccaddaeea\", target = \"aaaaa\"  \n",
    "Output: 1  \n",
    "Explanation:  \n",
    "We can make one copy of \"aaaaa\" by taking the letters at indices 0, 3, 6, 9, and 12.  \n",
    "We can make at most one copy of \"aaaaa\", so we return 1."
   ]
  },
  {
   "cell_type": "markdown",
   "metadata": {},
   "source": [
    "* 解題想法:  \n",
    "首先建立一個函數用來統計字串中每個字母出現的次數，接著將兩個詞分別找出共有多少個字母組成，然後以指定的字串中的字母來與母字串中的字母出現次數來計算最多可組成幾個子字串，如果無法符合子字串的需求時，則將結果改為0並直接中斷迴圈"
   ]
  },
  {
   "cell_type": "code",
   "execution_count": null,
   "metadata": {},
   "outputs": [],
   "source": [
    "class Solution:\n",
    "    def rearrangeCharacters(self, s: str, target: str) -> int:\n",
    "        def getFreq(word):\n",
    "            freq = {}\n",
    "            for m in word:\n",
    "                if m not in freq.keys():\n",
    "                    freq[m] = 1\n",
    "                else:\n",
    "                    freq[m] += 1\n",
    "            return freq\n",
    "        \n",
    "        chars = getFreq(s)\n",
    "        t = getFreq(target)\n",
    "        result = 0\n",
    "        for key, val in t.items():\n",
    "            if key in chars.keys():\n",
    "                if chars[key] >= t[key]: \n",
    "                    if result > 0:\n",
    "                        result = min(result, int(chars[key] / t[key]))\n",
    "                    else:\n",
    "                        result = int(chars[key] / t[key])\n",
    "                else:\n",
    "                    result = 0\n",
    "                    break\n",
    "            else:\n",
    "                result = 0\n",
    "                break\n",
    "        return result"
   ]
  }
 ],
 "metadata": {
  "kernelspec": {
   "display_name": "Python 3",
   "language": "python",
   "name": "python3"
  },
  "language_info": {
   "codemirror_mode": {
    "name": "ipython",
    "version": 3
   },
   "file_extension": ".py",
   "mimetype": "text/x-python",
   "name": "python",
   "nbconvert_exporter": "python",
   "pygments_lexer": "ipython3",
   "version": "3.7.4"
  }
 },
 "nbformat": 4,
 "nbformat_minor": 4
}
