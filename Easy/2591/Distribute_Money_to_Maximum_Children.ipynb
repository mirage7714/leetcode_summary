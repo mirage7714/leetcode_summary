{
 "cells": [
  {
   "cell_type": "markdown",
   "metadata": {},
   "source": [
    "# 本題要找出最多可以把錢分配給幾個小孩 (\\#Math)\n",
    "原題目連結: https://leetcode.com/problems/distribute-money-to-maximum-children/description/  \n",
    "\n",
    "You are given an integer money denoting the amount of money (in dollars) that you have and another integer children denoting the number of children that you must distribute the money to.  \n",
    "\n",
    "You have to distribute the money according to the following rules:  \n",
    "All money must be distributed.  \n",
    "Everyone must receive at least 1 dollar.  \n",
    "Nobody receives 4 dollars.  \n",
    "Return the maximum number of children who may receive exactly 8 dollars if you distribute the money according to the aforementioned rules. If there is no way to distribute the money, return -1.  \n",
    "\n",
    "範例:  \n",
    "Ex1:  \n",
    "Input: money = 20, children = 3  \n",
    "Output: 1  \n",
    "Explanation:   \n",
    "The maximum number of children with 8 dollars will be 1. One of the ways to distribute the money is:  \n",
    "- 8 dollars to the first child.  \n",
    "- 9 dollars to the second child.   \n",
    "- 3 dollars to the third child.  \n",
    "It can be proven that no distribution exists such that number of children getting 8 dollars is greater than 1.  \n",
    "\n",
    "Ex2:  \n",
    "Input: money = 16, children = 2  \n",
    "Output: 2  \n",
    "Explanation: Each child can be given 8 dollars."
   ]
  },
  {
   "cell_type": "markdown",
   "metadata": {},
   "source": [
    "* 解題想法:  \n",
    "首先檢查錢是否足夠讓每個小孩都領到至少1塊，如果不夠則直接回傳-1，接著再開始判斷以下幾個情境:  \n",
    "- 每個小孩平均可分配到的錢超過8塊，這時候最多就是有children-1個小孩可以領到8塊  \n",
    "- 每個小孩平均可分配到8塊，這時候最多有children個小孩可以領到8塊  \n",
    "- 當每個小孩平均可分配到的錢少於8塊，則需要檢查money是否等於(children-1) * 8 + 4，如果大於這個數字則有children-1個小孩可以得到8塊  \n",
    "- 如果當money等於(children-1) * 8 + 4時，則有children-2個小孩可拿到8塊  \n",
    "- 如果當money小於這個金額的時候，則先分給每個小孩一塊之後再看看剩下的錢共可以生出幾個領到8塊的小孩"
   ]
  },
  {
   "cell_type": "code",
   "execution_count": null,
   "metadata": {},
   "outputs": [],
   "source": [
    "class Solution:\n",
    "    def distMoney(self, money: int, children: int) -> int:\n",
    "        res = 0\n",
    "        if money < children:\n",
    "            return -1\n",
    "        if money / children > 8:\n",
    "            res = children - 1\n",
    "        elif money / children == 8:\n",
    "            res = children\n",
    "        else:\n",
    "            if money == (children-1) * 8 + 4:\n",
    "                res = children - 2\n",
    "            elif money > (children-1) * 8 + 4:\n",
    "                res = children - 1\n",
    "            else:\n",
    "                res = (money - children) // 7\n",
    "        return res"
   ]
  }
 ],
 "metadata": {
  "kernelspec": {
   "display_name": "Python 3",
   "language": "python",
   "name": "python3"
  },
  "language_info": {
   "codemirror_mode": {
    "name": "ipython",
    "version": 3
   },
   "file_extension": ".py",
   "mimetype": "text/x-python",
   "name": "python",
   "nbconvert_exporter": "python",
   "pygments_lexer": "ipython3",
   "version": "3.7.6"
  }
 },
 "nbformat": 4,
 "nbformat_minor": 4
}
