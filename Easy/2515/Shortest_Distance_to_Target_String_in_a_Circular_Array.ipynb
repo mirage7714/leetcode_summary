{
 "cells": [
  {
   "cell_type": "markdown",
   "id": "dc2bdfe4-ce77-49d2-bd74-4fb26ebe11e8",
   "metadata": {},
   "source": [
    "# 本題要找出到達指定字串的最短距離為何 (\\#Array)\n",
    "原題目連結: https://leetcode.com/problems/shortest-distance-to-target-string-in-a-circular-array/description/  \n",
    "\n",
    "You are given a 0-indexed circular string array words and a string target. A circular array means that the array's end connects to the array's beginning.  \n",
    "\n",
    "Formally, the next element of words[i] is words[(i + 1) % n] and the previous element of words[i] is words[(i - 1 + n) % n], where n is the length of words.  \n",
    "Starting from startIndex, you can move to either the next word or the previous word with 1 step at a time.  \n",
    "\n",
    "Return the shortest distance needed to reach the string target. If the string target does not exist in words, return -1.  \n",
    "\n",
    "範例:  \n",
    "Ex1:  \n",
    "Input: words = [\"hello\",\"i\",\"am\",\"leetcode\",\"hello\"], target = \"hello\", startIndex = 1  \n",
    "Output: 1  \n",
    "Explanation: We start from index 1 and can reach \"hello\" by  \n",
    "- moving 3 units to the right to reach index 4.  \n",
    "- moving 2 units to the left to reach index 4.  \n",
    "- moving 4 units to the right to reach index 0.  \n",
    "- moving 1 unit to the left to reach index 0.  \n",
    "The shortest distance to reach \"hello\" is 1.  \n",
    "\n",
    "Ex2:  \n",
    "Input: words = [\"a\",\"b\",\"leetcode\"], target = \"leetcode\", startIndex = 0  \n",
    "Output: 1  \n",
    "Explanation: We start from index 0 and can reach \"leetcode\" by  \n",
    "- moving 2 units to the right to reach index 3.  \n",
    "- moving 1 unit to the left to reach index 3.  \n",
    "The shortest distance to reach \"leetcode\" is 1.  \n",
    "\n",
    "Ex3:  \n",
    "Input: words = [\"i\",\"eat\",\"leetcode\"], target = \"ate\", startIndex = 0  \n",
    "Output: -1  \n",
    "Explanation: Since \"ate\" does not exist in words, we return -1."
   ]
  },
  {
   "cell_type": "markdown",
   "id": "3ad4f4d2-492b-401d-91dc-89cf25b1f846",
   "metadata": {},
   "source": [
    "* 解題想法:  \n",
    "首先檢查指定的字串是否有出現在words中，如果有的話，則接著檢查index左右兩邊的值是否有出現目標字串，如果都沒有則繼續往左右繼續搜尋，直到找到為止"
   ]
  },
  {
   "cell_type": "code",
   "execution_count": null,
   "id": "83809907-72de-45ed-bcd7-4f3550c3d51b",
   "metadata": {},
   "outputs": [],
   "source": [
    "class Solution:\n",
    "    def closetTarget(self, words: List[str], target: str, startIndex: int) -> int:\n",
    "        if target in words: \n",
    "            count = 0\n",
    "            while True:\n",
    "                l = startIndex - count\n",
    "                r = (startIndex + count) % len(words)\n",
    "                if words[l] == target or words[r] == target:\n",
    "                    return count\n",
    "                count += 1\n",
    "        return -1"
   ]
  }
 ],
 "metadata": {
  "kernelspec": {
   "display_name": "Python 3 (ipykernel)",
   "language": "python",
   "name": "python3"
  },
  "language_info": {
   "codemirror_mode": {
    "name": "ipython",
    "version": 3
   },
   "file_extension": ".py",
   "mimetype": "text/x-python",
   "name": "python",
   "nbconvert_exporter": "python",
   "pygments_lexer": "ipython3",
   "version": "3.9.13"
  }
 },
 "nbformat": 4,
 "nbformat_minor": 5
}
