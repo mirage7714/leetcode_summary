{
 "cells": [
  {
   "cell_type": "markdown",
   "metadata": {},
   "source": [
    "# 本題要找出兩個時間字串的天數差異為何\n",
    "原題目連結：https://leetcode.com/problems/number-of-days-between-two-dates/  \n",
    "\n",
    "Write a program to count the number of days between two dates.  \n",
    "\n",
    "The two dates are given as strings, their format is YYYY-MM-DD as shown in the examples.  \n",
    "\n",
    "範例：  \n",
    "Ex1:  \n",
    "Input: date1 = \"2019-06-29\", date2 = \"2019-06-30\"  \n",
    "Output: 1  \n",
    "\n",
    "Ex2:  \n",
    "Input: date1 = \"2020-01-15\", date2 = \"2019-12-31\"  \n",
    "Output: 15  "
   ]
  },
  {
   "cell_type": "markdown",
   "metadata": {},
   "source": [
    "* 解題想法：  \n",
    "依題目設定，首先定義一個函數來將時間字串轉換為timestamp，接著將兩個字串都轉換為timestamp，最後將時間差再轉換為天數，就是題目要找的答案"
   ]
  },
  {
   "cell_type": "code",
   "execution_count": null,
   "metadata": {},
   "outputs": [],
   "source": [
    "from datetime import datetime\n",
    "class Solution:\n",
    "    def daysBetweenDates(self, date1: str, date2: str) -> int:\n",
    "        def convertDate(date):\n",
    "            d = datetime.strptime(date, \"%Y-%m-%d\")\n",
    "            return d.timestamp()\n",
    "        \n",
    "        diff = max(convertDate(date1),convertDate(date2)) - min(convertDate(date1),convertDate(date2))\n",
    "        return int(diff / 86400)"
   ]
  }
 ],
 "metadata": {
  "kernelspec": {
   "display_name": "Python 3",
   "language": "python",
   "name": "python3"
  },
  "language_info": {
   "codemirror_mode": {
    "name": "ipython",
    "version": 3
   },
   "file_extension": ".py",
   "mimetype": "text/x-python",
   "name": "python",
   "nbconvert_exporter": "python",
   "pygments_lexer": "ipython3",
   "version": "3.7.6"
  }
 },
 "nbformat": 4,
 "nbformat_minor": 4
}
