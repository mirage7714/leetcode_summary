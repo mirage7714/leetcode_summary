{
 "cells": [
  {
   "cell_type": "markdown",
   "metadata": {},
   "source": [
    "# 本題要針對奇數與偶數的index分別進行排序\n",
    "原題目連結: https://leetcode.com/problems/sort-even-and-odd-indices-independently/  \n",
    "\n",
    "You are given a 0-indexed integer array nums. Rearrange the values of nums according to the following rules:  \n",
    "\n",
    "Sort the values at odd indices of nums in non-increasing order.  \n",
    "For example, if nums = [4,1,2,3] before this step, it becomes [4,3,2,1] after. The values at odd indices 1 and 3 are sorted in non-increasing order.  \n",
    "Sort the values at even indices of nums in non-decreasing order.   \n",
    "For example, if nums = [4,1,2,3] before this step, it becomes [2,1,4,3] after. The values at even indices 0 and 2 are sorted in non-decreasing order.  \n",
    "Return the array formed after rearranging the values of nums.  \n",
    "\n",
    "範例:  \n",
    "Ex1:  \n",
    "Input: nums = [4,1,2,3]  \n",
    "Output: [2,3,4,1]  \n",
    "Explanation:   \n",
    "First, we sort the values present at odd indices (1 and 3) in non-increasing order.  \n",
    "So, nums changes from [4,1,2,3] to [4,3,2,1].  \n",
    "Next, we sort the values present at even indices (0 and 2) in non-decreasing order.   \n",
    "So, nums changes from [4,1,2,3] to [2,3,4,1].  \n",
    "Thus, the array formed after rearranging the values is [2,3,4,1].   \n",
    "\n",
    "Ex2:  \n",
    "Input: nums = [2,1]  \n",
    "Output: [2,1]  \n",
    "Explanation:   \n",
    "Since there is exactly one odd index and one even index, no rearrangement of values takes place.  \n",
    "The resultant array formed is [2,1], which is the same as the initial array. "
   ]
  },
  {
   "cell_type": "markdown",
   "metadata": {},
   "source": [
    "* 解題想法: \n",
    "首先分別找出奇數與偶數的index，並分別建立成兩個list，接著對兩個list進行排序後重新組合成新的list就是答案"
   ]
  },
  {
   "cell_type": "code",
   "execution_count": null,
   "metadata": {},
   "outputs": [],
   "source": [
    "class Solution:\n",
    "    def sortEvenOdd(self, nums: List[int]) -> List[int]:\n",
    "        odd = []\n",
    "        even = []\n",
    "        result = []\n",
    "        for m in range(len(nums)):\n",
    "            if m % 2 == 0:\n",
    "                even.append(nums[m])\n",
    "            else:\n",
    "                odd.append(nums[m])\n",
    "        odd.sort(reverse= True)\n",
    "        even.sort()\n",
    "        for n in range(len(odd)):\n",
    "            result.append(even[n])\n",
    "            result.append(odd[n])\n",
    "        if len(even) > len(odd):\n",
    "            result.append(even[-1])\n",
    "        return result"
   ]
  }
 ],
 "metadata": {
  "kernelspec": {
   "display_name": "Python 3",
   "language": "python",
   "name": "python3"
  },
  "language_info": {
   "codemirror_mode": {
    "name": "ipython",
    "version": 3
   },
   "file_extension": ".py",
   "mimetype": "text/x-python",
   "name": "python",
   "nbconvert_exporter": "python",
   "pygments_lexer": "ipython3",
   "version": "3.7.4"
  }
 },
 "nbformat": 4,
 "nbformat_minor": 4
}
