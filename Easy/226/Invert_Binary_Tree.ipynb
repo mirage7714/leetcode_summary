{
 "cells": [
  {
   "cell_type": "markdown",
   "metadata": {},
   "source": [
    "# 本題要將指定的Binary Tree進行左右交換\n",
    "原題目連結: https://leetcode.com/problems/invert-binary-tree/  \n",
    "\n",
    "Given the root of a binary tree, invert the tree, and return its root.  \n",
    "\n",
    "範例:  \n",
    "Ex1:  \n",
    "Input: root = [4,2,7,1,3,6,9]  \n",
    "Output: [4,7,2,9,6,3,1]  \n",
    "\n",
    "Ex2:  \n",
    "Input: root = [2,1,3]  \n",
    "Output: [2,3,1]  \n",
    "\n",
    "Ex3:  \n",
    "Input: root = []  \n",
    "Output: []"
   ]
  },
  {
   "cell_type": "markdown",
   "metadata": {},
   "source": [
    "* 解題想法:  \n",
    "參考網路的解法，這邊使用了recursive的方式來進行解法，首先找出root的左節點與右節點，接著將兩個節點交換，然後再對root的左節點與右節點分別進行遞迴，最後回傳root"
   ]
  },
  {
   "cell_type": "code",
   "execution_count": null,
   "metadata": {},
   "outputs": [],
   "source": [
    "# Definition for a binary tree node.\n",
    "# class TreeNode:\n",
    "#     def __init__(self, val=0, left=None, right=None):\n",
    "#         self.val = val\n",
    "#         self.left = left\n",
    "#         self.right = right\n",
    "class Solution:\n",
    "    def invertTree(self, root: TreeNode) -> TreeNode:\n",
    "        if root:\n",
    "            temp = root.left\n",
    "            root.left = root.right\n",
    "            root.right = temp\n",
    "            self.invertTree(root.left)\n",
    "            self.invertTree(root.right)\n",
    "        return root"
   ]
  }
 ],
 "metadata": {
  "kernelspec": {
   "display_name": "Python 3",
   "language": "python",
   "name": "python3"
  },
  "language_info": {
   "codemirror_mode": {
    "name": "ipython",
    "version": 3
   },
   "file_extension": ".py",
   "mimetype": "text/x-python",
   "name": "python",
   "nbconvert_exporter": "python",
   "pygments_lexer": "ipython3",
   "version": "3.7.4"
  }
 },
 "nbformat": 4,
 "nbformat_minor": 4
}
