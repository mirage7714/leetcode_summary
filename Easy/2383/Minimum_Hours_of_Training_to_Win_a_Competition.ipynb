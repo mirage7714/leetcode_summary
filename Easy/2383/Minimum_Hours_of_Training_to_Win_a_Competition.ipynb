{
 "cells": [
  {
   "cell_type": "markdown",
   "metadata": {},
   "source": [
    "# 本題要計算最少需要多少額外的小時，才能完成所有的比賽\n",
    "原題目連結: https://leetcode.com/problems/minimum-hours-of-training-to-win-a-competition/  \n",
    "\n",
    "You are entering a competition, and are given two positive integers initialEnergy and initialExperience denoting your initial energy and initial experience respectively.  \n",
    "\n",
    "You are also given two 0-indexed integer arrays energy and experience, both of length n.  \n",
    "\n",
    "You will face n opponents in order. The energy and experience of the ith opponent is denoted by energy[i] and experience[i] respectively. When you face an opponent, you need to have both strictly greater experience and energy to defeat them and move to the next opponent if available.  \n",
    "\n",
    "Defeating the ith opponent increases your experience by experience[i], but decreases your energy by energy[i].  \n",
    "\n",
    "Before starting the competition, you can train for some number of hours. After each hour of training, you can either choose to increase your initial experience by one, or increase your initial energy by one.  \n",
    "\n",
    "Return the minimum number of training hours required to defeat all n opponents.  \n",
    "\n",
    "範例:  \n",
    "Ex1:  \n",
    "Input: initialEnergy = 5, initialExperience = 3, energy = [1,4,3,2], experience = [2,6,3,1]  \n",
    "Output: 8  \n",
    "Explanation: You can increase your energy to 11 after 6 hours of training, and your experience to 5 after 2 hours of training.  \n",
    "You face the opponents in the following order:  \n",
    "- You have more energy and experience than the 0th opponent so you win.  \n",
    "  Your energy becomes 11 - 1 = 10, and your experience becomes 5 + 2 = 7.  \n",
    "- You have more energy and experience than the 1st opponent so you win.  \n",
    "  Your energy becomes 10 - 4 = 6, and your experience becomes 7 + 6 = 13.  \n",
    "- You have more energy and experience than the 2nd opponent so you win.  \n",
    "  Your energy becomes 6 - 3 = 3, and your experience becomes 13 + 3 = 16.  \n",
    "- You have more energy and experience than the 3rd opponent so you win.  \n",
    "  Your energy becomes 3 - 2 = 1, and your experience becomes 16 + 1 = 17.   \n",
    "You did a total of 6 + 2 = 8 hours of training before the competition, so we return 8.  \n",
    "It can be proven that no smaller answer exists.  \n",
    "\n",
    "Ex2:  \n",
    "Input: initialEnergy = 2, initialExperience = 4, energy = [1], experience = [3]  \n",
    "Output: 0  \n",
    "Explanation: You do not need any additional energy or experience to win the competition, so we return 0."
   ]
  },
  {
   "cell_type": "markdown",
   "metadata": {},
   "source": [
    "* 解題想法:  \n",
    "首先建立一個list，用來存放目前的energy與experience數值，接著開始走訪energy與experience的list，如果目前的energy小於需要的值，則加上最少需要的值，並將小時數進行更新，如果經驗值不夠時，則算出最少需要的經驗值為多少並更新小時數，最後將energy數與經驗值都進行更新，迴圈結束後回傳總小時數"
   ]
  },
  {
   "cell_type": "code",
   "execution_count": null,
   "metadata": {},
   "outputs": [],
   "source": [
    "class Solution:\n",
    "    def minNumberOfHours(self, initialEnergy: int, initialExperience: int, energy: List[int], experience: List[int]) -> int:\n",
    "        total = 0\n",
    "        size = len(energy)\n",
    "        start = [initialEnergy, initialExperience]\n",
    "        for s in range(size):\n",
    "            if start[0] <= energy[s]:\n",
    "                total += energy[s] - start[0] + 1\n",
    "                start[0] += energy[s] - start[0] + 1\n",
    "            if start[1] <= experience[s]:\n",
    "                total += experience[s] - start[1] + 1\n",
    "                start[1] += experience[s] - start[1] + 1\n",
    "            start[1] += experience[s]\n",
    "            start[0] -= energy[s]\n",
    "        return total"
   ]
  }
 ],
 "metadata": {
  "kernelspec": {
   "display_name": "Python 3",
   "language": "python",
   "name": "python3"
  },
  "language_info": {
   "codemirror_mode": {
    "name": "ipython",
    "version": 3
   },
   "file_extension": ".py",
   "mimetype": "text/x-python",
   "name": "python",
   "nbconvert_exporter": "python",
   "pygments_lexer": "ipython3",
   "version": "3.7.4"
  }
 },
 "nbformat": 4,
 "nbformat_minor": 4
}
