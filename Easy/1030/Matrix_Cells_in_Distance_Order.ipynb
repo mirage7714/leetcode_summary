{
 "cells": [
  {
   "cell_type": "markdown",
   "metadata": {},
   "source": [
    "# 本題要依距離排序找出在matrix中所有的點 (\\#Matrix, \\#Array, \\#Sorting, \\#Math )\n",
    "原題目連結: https://leetcode.com/problems/matrix-cells-in-distance-order/  \n",
    "\n",
    "You are given four integers row, cols, rCenter, and cCenter. There is a rows x cols matrix and you are on the cell with the coordinates (rCenter, cCenter).  \n",
    "\n",
    "Return the coordinates of all cells in the matrix, sorted by their distance from (rCenter, cCenter) from the smallest distance to the largest distance. You may return the answer in any order that satisfies this condition.  \n",
    "\n",
    "The distance between two cells (r1, c1) and (r2, c2) is |r1 - r2| + |c1 - c2|.  \n",
    "\n",
    "範例:  \n",
    "Ex1:  \n",
    "Input: rows = 1, cols = 2, rCenter = 0, cCenter = 0  \n",
    "Output: [[0,0],[0,1]]  \n",
    "Explanation: The distances from (0, 0) to other cells are: [0,1]  \n",
    "\n",
    "Ex2:  \n",
    "Input: rows = 2, cols = 2, rCenter = 0, cCenter = 1  \n",
    "Output: [[0,1],[0,0],[1,1],[1,0]]  \n",
    "Explanation: The distances from (0, 1) to other cells are: [0,1,1,2]  \n",
    "The answer [[0,1],[1,1],[0,0],[1,0]] would also be accepted as correct.  \n",
    "\n",
    "Ex3:  \n",
    "Input: rows = 2, cols = 3, rCenter = 1, cCenter = 2  \n",
    "Output: [[1,2],[0,2],[1,1],[0,1],[1,0],[0,0]]   \n",
    "Explanation: The distances from (1, 2) to other cells are: [0,1,1,2,2,3]  \n",
    "There are other answers that would also be accepted as correct, such as [[1,2],[1,1],[0,2],[1,0],[0,1],[0,0]]."
   ]
  },
  {
   "cell_type": "markdown",
   "metadata": {},
   "source": [
    "* 解題想法:  \n",
    "首先建立一個list用來存放結果，接著用一個變數dist來記錄與中心點的距離，除了上下左右四個點之外，當dist大於1之後還要考慮斜向的點位是否也符合條件，所以需要用另一個for迴圈將斜向的點位全部找出，最後檢查這些點位是否符合matrix的邊界，並將符合的點位放入list中，最後回傳list"
   ]
  },
  {
   "cell_type": "code",
   "execution_count": null,
   "metadata": {},
   "outputs": [],
   "source": [
    "class Solution:\n",
    "    def allCellsDistOrder(self, R: int, C: int, r0: int, c0: int) -> List[List[int]]:\n",
    "        result = [[r0, c0]]\n",
    "        dist = 1\n",
    "        while True:\n",
    "            s = len(result)\n",
    "            upper = r0 - dist\n",
    "            bottom = r0 + dist\n",
    "            left = c0 - dist\n",
    "            right = c0 + dist\n",
    "            if upper >= 0:\n",
    "                result.append([upper, c0])\n",
    "            if bottom < R:\n",
    "                result.append([bottom, c0])\n",
    "            if left >= 0:\n",
    "                result.append([r0, left])\n",
    "            if right < C:\n",
    "                result.append([r0, right])\n",
    "            if dist > 1:\n",
    "                for n in range(1, dist):\n",
    "                    d1 = [upper + n, c0 + n]\n",
    "                    d2 = [bottom - n, c0 - n]\n",
    "                    d3 = [r0 + n, right -n] \n",
    "                    d4 = [r0 - n, left + n]\n",
    "                    d = [d1,d2,d3,d4]\n",
    "                    for l in d:\n",
    "                        if l[0] >= 0 and l[1] >= 0 and l[0] < R and l[1] < C:\n",
    "                            result.append(l)\n",
    "            dist += 1\n",
    "            if len(result) == s:\n",
    "                break\n",
    "        return result"
   ]
  }
 ],
 "metadata": {
  "kernelspec": {
   "display_name": "Python 3",
   "language": "python",
   "name": "python3"
  },
  "language_info": {
   "codemirror_mode": {
    "name": "ipython",
    "version": 3
   },
   "file_extension": ".py",
   "mimetype": "text/x-python",
   "name": "python",
   "nbconvert_exporter": "python",
   "pygments_lexer": "ipython3",
   "version": "3.7.4"
  }
 },
 "nbformat": 4,
 "nbformat_minor": 4
}
