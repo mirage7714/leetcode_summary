{
 "cells": [
  {
   "cell_type": "markdown",
   "metadata": {},
   "source": [
    "# 本題要找出最大數與最小數的公因數\n",
    "原題目連結: https://leetcode.com/problems/find-greatest-common-divisor-of-array/  \n",
    "\n",
    "Given an integer array nums, return the greatest common divisor of the smallest number and largest number in nums.  \n",
    "\n",
    "The greatest common divisor of two numbers is the largest positive integer that evenly divides both numbers.  \n",
    "\n",
    "範例:  \n",
    "Ex1:  \n",
    "Input: nums = [2,5,6,9,10]  \n",
    "Output: 2  \n",
    "Explanation:  \n",
    "The smallest number in nums is 2.  \n",
    "The largest number in nums is 10.  \n",
    "The greatest common divisor of 2 and 10 is 2.  \n",
    "\n",
    "Ex2:  \n",
    "Input: nums = [7,5,6,8,3]  \n",
    "Output: 1  \n",
    "Explanation:  \n",
    "The smallest number in nums is 3.  \n",
    "The largest number in nums is 8.  \n",
    "The greatest common divisor of 3 and 8 is 1.  \n",
    "\n",
    "Ex3:  \n",
    "Input: nums = [3,3]  \n",
    "Output: 3  \n",
    "Explanation:  \n",
    "The smallest number in nums is 3.  \n",
    "The largest number in nums is 3.  \n",
    "The greatest common divisor of 3 and 3 is 3."
   ]
  },
  {
   "cell_type": "markdown",
   "metadata": {},
   "source": [
    "* 解題想法:  \n",
    "首先需要找出list中最大與最小的數值，接著判斷兩個數相除是否為0，如果為零則代表最大公因數為最小的數字，否則需要對最小的數找出所有因數，並從最大的因數開始判斷是否也屬於最大數的因數，最後回傳判斷的結果就是答案"
   ]
  },
  {
   "cell_type": "code",
   "execution_count": null,
   "metadata": {},
   "outputs": [],
   "source": [
    "class Solution:\n",
    "    def findGCD(self, nums: List[int]) -> int:\n",
    "        s = min(nums)\n",
    "        l = max(nums)\n",
    "        result = 1\n",
    "        if l % s == 0:\n",
    "            result = s\n",
    "        else:\n",
    "            divs = []\n",
    "            for m in range(1, int(s/2)+1):\n",
    "                if s % m == 0:\n",
    "                    divs.append(m)\n",
    "                    d = int(s/m)\n",
    "                    if d not in divs:\n",
    "                        divs.append(int(s/m))\n",
    "            divs.sort(reverse = True)\n",
    "            for d in divs:\n",
    "                if l % d == 0:\n",
    "                    result = d\n",
    "                    break\n",
    "        return result"
   ]
  }
 ],
 "metadata": {
  "kernelspec": {
   "display_name": "Python 3",
   "language": "python",
   "name": "python3"
  },
  "language_info": {
   "codemirror_mode": {
    "name": "ipython",
    "version": 3
   },
   "file_extension": ".py",
   "mimetype": "text/x-python",
   "name": "python",
   "nbconvert_exporter": "python",
   "pygments_lexer": "ipython3",
   "version": "3.7.4"
  }
 },
 "nbformat": 4,
 "nbformat_minor": 4
}
