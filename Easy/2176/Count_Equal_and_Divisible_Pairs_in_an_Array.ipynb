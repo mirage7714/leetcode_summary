{
 "cells": [
  {
   "cell_type": "markdown",
   "metadata": {},
   "source": [
    "# 本題要找出共有幾個成對的數值，並符合指定的條件\n",
    "原題目連結: https://leetcode.com/problems/count-equal-and-divisible-pairs-in-an-array/  \n",
    "\n",
    "Given a 0-indexed integer array nums of length n and an integer k, return the number of pairs (i, j) where 0 <= i < j < n, such that nums[i] == nums[j] and (i * j) is divisible by k.  \n",
    "\n",
    "範例:  \n",
    "Ex1:  \n",
    "Input: nums = [3,1,2,2,2,1,3], k = 2  \n",
    "Output: 4  \n",
    "Explanation:  \n",
    "There are 4 pairs that meet all the requirements:  \n",
    "- nums[0] == nums[6], and 0 * 6 == 0, which is divisible by 2.  \n",
    "- nums[2] == nums[3], and 2 * 3 == 6, which is divisible by 2.  \n",
    "- nums[2] == nums[4], and 2 * 4 == 8, which is divisible by 2.  \n",
    "- nums[3] == nums[4], and 3 * 4 == 12, which is divisible by 2.  \n",
    "\n",
    "Ex2:  \n",
    "Input: nums = [1,2,3,4], k = 1  \n",
    "Output: 0  \n",
    "Explanation: Since no value in nums is repeated, there are no pairs (i,j) that meet all the requirements."
   ]
  },
  {
   "cell_type": "markdown",
   "metadata": {},
   "source": [
    "* 解題想法:  \n",
    "首先將list內的數值轉換成dict後，將出現次數超過兩次的數值index相乘後檢查是否符合題目要求的為k的倍數，最後回傳統計的結果"
   ]
  },
  {
   "cell_type": "code",
   "execution_count": null,
   "metadata": {},
   "outputs": [],
   "source": [
    "class Solution:\n",
    "    def countPairs(self, nums: List[int], k: int) -> int:\n",
    "        total = 0\n",
    "        freq = {}\n",
    "        for n in range(len(nums)):\n",
    "            if nums[n] not in freq.keys():\n",
    "                freq[nums[n]] = [n]\n",
    "            else:\n",
    "                freq[nums[n]].append(n)\n",
    "        for key, val in freq.items():\n",
    "            if len(val) > 1:\n",
    "                for i in range(len(val)-1):\n",
    "                    for j in range(i+1, len(val)):\n",
    "                        if val[i] * val[j] % k == 0:\n",
    "                            total += 1\n",
    "        return total"
   ]
  }
 ],
 "metadata": {
  "kernelspec": {
   "display_name": "Python 3",
   "language": "python",
   "name": "python3"
  },
  "language_info": {
   "codemirror_mode": {
    "name": "ipython",
    "version": 3
   },
   "file_extension": ".py",
   "mimetype": "text/x-python",
   "name": "python",
   "nbconvert_exporter": "python",
   "pygments_lexer": "ipython3",
   "version": "3.7.4"
  }
 },
 "nbformat": 4,
 "nbformat_minor": 4
}
