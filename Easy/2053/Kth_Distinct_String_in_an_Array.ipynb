{
 "cells": [
  {
   "cell_type": "markdown",
   "metadata": {},
   "source": [
    "# 本題要找出第K個只出現一次的字串\n",
    "原題目連結: https://leetcode.com/problems/kth-distinct-string-in-an-array/  \n",
    "\n",
    "A distinct string is a string that is present only once in an array.  \n",
    "\n",
    "Given an array of strings arr, and an integer k, return the kth distinct string present in arr. If there are fewer than k distinct strings, return an empty string \"\".  \n",
    "\n",
    "Note that the strings are considered in the order in which they appear in the array.  \n",
    "\n",
    "範例:  \n",
    "Ex1:  \n",
    "Input: arr = [\"d\",\"b\",\"c\",\"b\",\"c\",\"a\"], k = 2  \n",
    "Output: \"a\"  \n",
    "Explanation:  \n",
    "The only distinct strings in arr are \"d\" and \"a\".  \n",
    "\"d\" appears 1st, so it is the 1st distinct string.  \n",
    "\"a\" appears 2nd, so it is the 2nd distinct string.  \n",
    "Since k == 2, \"a\" is returned.   \n",
    "\n",
    "Ex2:  \n",
    "Input: arr = [\"aaa\",\"aa\",\"a\"], k = 1  \n",
    "Output: \"aaa\"  \n",
    "Explanation:  \n",
    "All strings in arr are distinct, so the 1st string \"aaa\" is returned.  \n",
    "\n",
    "Ex3:  \n",
    "Input: arr = [\"a\",\"b\",\"a\"], k = 3  \n",
    "Output: \"\"  \n",
    "Explanation:  \n",
    "The only distinct string is \"b\". Since there are fewer than 3 distinct strings, we return an empty string \"\"."
   ]
  },
  {
   "cell_type": "markdown",
   "metadata": {},
   "source": [
    "* 解題想法:  \n",
    "首先建立一個list(dist)來存放只出現一次的字串，並建立另一個list(duplicate)來存放已經出現過的字串，接著用迴圈開始檢查原始list中的每個字串，如果在dist與duplicate中都沒出現過則加入dist中，如果是出現過的字串則從dist中移除，並將加入duplicate中，最後檢查dist是否有符合題目要求的長度，如果長度不足則回傳空字串"
   ]
  },
  {
   "cell_type": "code",
   "execution_count": null,
   "metadata": {},
   "outputs": [],
   "source": [
    "class Solution:\n",
    "    def kthDistinct(self, arr: List[str], k: int) -> str:\n",
    "        dist = []\n",
    "        duplicate = []\n",
    "        result = ''\n",
    "        for a in arr:\n",
    "            if a not in dist:\n",
    "                if a not in duplicate:\n",
    "                    dist.append(a)\n",
    "            else:\n",
    "                dist.remove(a)\n",
    "                duplicate.append(a)\n",
    "        if k <= len(dist):\n",
    "            result = dist[k-1]\n",
    "        return result"
   ]
  }
 ],
 "metadata": {
  "kernelspec": {
   "display_name": "Python 3",
   "language": "python",
   "name": "python3"
  },
  "language_info": {
   "codemirror_mode": {
    "name": "ipython",
    "version": 3
   },
   "file_extension": ".py",
   "mimetype": "text/x-python",
   "name": "python",
   "nbconvert_exporter": "python",
   "pygments_lexer": "ipython3",
   "version": "3.7.4"
  }
 },
 "nbformat": 4,
 "nbformat_minor": 4
}
