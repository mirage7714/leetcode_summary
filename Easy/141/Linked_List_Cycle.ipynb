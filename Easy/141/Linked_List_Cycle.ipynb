{
 "cells": [
  {
   "cell_type": "markdown",
   "metadata": {},
   "source": [
    "# 本題要判斷linked list是否有循環\n",
    "原題目連結: https://leetcode.com/problems/linked-list-cycle/  \n",
    "\n",
    "Given head, the head of a linked list, determine if the linked list has a cycle in it.  \n",
    "\n",
    "There is a cycle in a linked list if there is some node in the list that can be reached again by continuously following the next pointer. Internally, pos is used to denote the index of the node that tail's next pointer is connected to. Note that pos is not passed as a parameter.  \n",
    "\n",
    "Return true if there is a cycle in the linked list. Otherwise, return false.  \n",
    "\n",
    "範例:  \n",
    "Ex1:  \n",
    "Input: head = [3,2,0,-4], pos = 1  \n",
    "Output: true  \n",
    "Explanation: There is a cycle in the linked list, where the tail connects to the 1st node (0-indexed).  \n",
    "\n",
    "Ex2:  \n",
    "Input: head = [1,2], pos = 0  \n",
    "Output: true  \n",
    "Explanation: There is a cycle in the linked list, where the tail connects to the 0th node.  \n",
    "\n",
    "Ex3:  \n",
    "Input: head = [1], pos = -1  \n",
    "Output: false  \n",
    "Explanation: There is no cycle in the linked list."
   ]
  },
  {
   "cell_type": "markdown",
   "metadata": {},
   "source": [
    "* 解題想法:  \n",
    "用兩個不同的cursor，如果是一個有循環的linked list，則兩個cursor在某一點上一定會有交會，因此用一個一次前進一個節點，與另一個一次前進兩個節點的cursor進行迴圈，如果有到達同一點則回傳True，否則最後回傳False"
   ]
  },
  {
   "cell_type": "code",
   "execution_count": null,
   "metadata": {},
   "outputs": [],
   "source": [
    "# Definition for singly-linked list.\n",
    "# class ListNode:\n",
    "#     def __init__(self, x):\n",
    "#         self.val = x\n",
    "#         self.next = None\n",
    "\n",
    "class Solution:\n",
    "    def hasCycle(self, head: ListNode) -> bool:\n",
    "        step_one = head\n",
    "        step_two = head\n",
    "        while step_one and step_two and step_two.next:\n",
    "            step_one = step_one.next\n",
    "            step_two = step_two.next.next\n",
    "            if step_one == step_two:\n",
    "                return True\n",
    "        return False"
   ]
  }
 ],
 "metadata": {
  "kernelspec": {
   "display_name": "Python 3",
   "language": "python",
   "name": "python3"
  },
  "language_info": {
   "codemirror_mode": {
    "name": "ipython",
    "version": 3
   },
   "file_extension": ".py",
   "mimetype": "text/x-python",
   "name": "python",
   "nbconvert_exporter": "python",
   "pygments_lexer": "ipython3",
   "version": "3.7.4"
  }
 },
 "nbformat": 4,
 "nbformat_minor": 4
}
