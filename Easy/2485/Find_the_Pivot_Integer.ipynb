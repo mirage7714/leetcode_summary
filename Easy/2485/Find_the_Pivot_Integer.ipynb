{
 "cells": [
  {
   "cell_type": "markdown",
   "metadata": {},
   "source": [
    "# 本題要找出是否有個數值左右兩邊的總和相等 (\\#Two pointer, \\#Math)\n",
    "原題目連結: https://leetcode.com/problems/find-the-pivot-integer/description/  \n",
    "\n",
    "Given a positive integer n, find the pivot integer x such that:  \n",
    " \n",
    "The sum of all elements between 1 and x inclusively equals the sum of all elements between x and n inclusively.  \n",
    "Return the pivot integer x. If no such integer exists, return -1. It is guaranteed that there will be at most one pivot index for the given input.  \n",
    "\n",
    "範例:  \n",
    "Ex1:  \n",
    "Input: n = 8  \n",
    "Output: 6  \n",
    "Explanation: 6 is the pivot integer since: 1 + 2 + 3 + 4 + 5 + 6 = 6 + 7 + 8 = 21.  \n",
    "\n",
    "Ex2:  \n",
    "Input: n = 1  \n",
    "Output: 1  \n",
    "Explanation: 1 is the pivot integer since: 1 = 1.  \n",
    "\n",
    "Ex3:  \n",
    "Input: n = 4  \n",
    "Output: -1  \n",
    "Explanation: It can be proved that no such integer exist."
   ]
  },
  {
   "cell_type": "markdown",
   "metadata": {},
   "source": [
    "* 解題想法:  \n",
    "首先用兩個變數來存放目前左右的數值為何，另外用兩個變數來儲存目前左右的整數總和，接著開始判斷左右的總和大小，如果左邊較小則加上左邊的數值並將左邊的數值+1，如果是右邊的總和較小則加上右邊的數並更新右邊的數值減一，直到左邊的數值等於又邊的數值時則中斷迴圈，如果左右兩邊的總和相同則回傳左邊的值，否則回傳-1"
   ]
  },
  {
   "cell_type": "code",
   "execution_count": null,
   "metadata": {},
   "outputs": [],
   "source": [
    "class Solution:\n",
    "    def pivotInteger(self, n: int) -> int:\n",
    "        if n > 1:\n",
    "            left = 2\n",
    "            right = n-1\n",
    "            left_sum = 1\n",
    "            right_sum = n\n",
    "            while left < right:\n",
    "                if left_sum < right_sum:\n",
    "                    left_sum += left\n",
    "                    left += 1\n",
    "                else:\n",
    "                    right_sum += right\n",
    "                    right -= 1\n",
    "            if left_sum == right_sum:\n",
    "                return left\n",
    "            return -1\n",
    "        else:\n",
    "            return 1"
   ]
  }
 ],
 "metadata": {
  "kernelspec": {
   "display_name": "Python 3",
   "language": "python",
   "name": "python3"
  },
  "language_info": {
   "codemirror_mode": {
    "name": "ipython",
    "version": 3
   },
   "file_extension": ".py",
   "mimetype": "text/x-python",
   "name": "python",
   "nbconvert_exporter": "python",
   "pygments_lexer": "ipython3",
   "version": "3.6.4"
  }
 },
 "nbformat": 4,
 "nbformat_minor": 2
}
