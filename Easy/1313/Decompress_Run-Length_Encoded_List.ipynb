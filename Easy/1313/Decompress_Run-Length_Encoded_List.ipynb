{
 "cells": [
  {
   "cell_type": "markdown",
   "metadata": {},
   "source": [
    "# 這題要將原本提供的array進行分解，並轉換成新的array進行回傳\n",
    "原題目連結: https://leetcode.com/problems/decompress-run-length-encoded-list/  \n",
    "\n",
    "We are given a list nums of integers representing a list compressed with run-length encoding.  \n",
    "\n",
    "Consider each adjacent pair of elements [freq, val] = [nums[2*i], nums[2*i+1]] (with i >= 0).  For each such pair, there are freq elements with value val concatenated in a sublist. Concatenate all the sublists from left to right to generate the decompressed list.  \n",
    "\n",
    "Return the decompressed list.  \n",
    "\n",
    "範例:  \n",
    "Ex1:  \n",
    "Input: nums = [1,2,3,4]  \n",
    "Output: [2,4,4,4]  \n",
    "Explanation: The first pair [1,2] means we have freq = 1 and val = 2 so we generate the array [2].  \n",
    "The second pair [3,4] means we have freq = 3 and val = 4 so we generate [4,4,4].  \n",
    "At the end the concatenation [2] + [4,4,4] is [2,4,4,4].  \n",
    "\n",
    "Ex2:  \n",
    "Input: nums = [1,1,2,3]  \n",
    "Output: [1,3,3]  \n"
   ]
  },
  {
   "cell_type": "markdown",
   "metadata": {},
   "source": [
    "* 解題想法:  \n",
    "根據題目的提供，前面的是數字的頻率，後面是出現的數字  \n",
    "因此用兩個迴圈進行計算，首先找出[freq, value]的組合  \n",
    "再來對組合內的ㄕ\n"
   ]
  }
 ],
 "metadata": {
  "kernelspec": {
   "display_name": "Python 3",
   "language": "python",
   "name": "python3"
  },
  "language_info": {
   "codemirror_mode": {
    "name": "ipython",
    "version": 3
   },
   "file_extension": ".py",
   "mimetype": "text/x-python",
   "name": "python",
   "nbconvert_exporter": "python",
   "pygments_lexer": "ipython3",
   "version": "3.7.4"
  }
 },
 "nbformat": 4,
 "nbformat_minor": 2
}
