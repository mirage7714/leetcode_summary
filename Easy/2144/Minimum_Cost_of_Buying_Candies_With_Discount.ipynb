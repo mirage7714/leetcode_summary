{
 "cells": [
  {
   "cell_type": "markdown",
   "metadata": {},
   "source": [
    "# 本題要找出最少的購買成本為多少\n",
    "原題目連結: https://leetcode.com/problems/minimum-cost-of-buying-candies-with-discount/  \n",
    "\n",
    "A shop is selling candies at a discount. For every two candies sold, the shop gives a third candy for free.  \n",
    "\n",
    "The customer can choose any candy to take away for free as long as the cost of the chosen candy is less than or equal to the minimum cost of the two candies bought.  \n",
    "\n",
    "For example, if there are 4 candies with costs 1, 2, 3, and 4, and the customer buys candies with costs 2 and 3, they can take the candy with cost 1 for free, but not the candy with cost 4.  \n",
    "Given a 0-indexed integer array cost, where cost[i] denotes the cost of the ith candy, return the minimum cost of buying all the candies.  \n",
    "\n",
    "範例:  \n",
    "Ex1:  \n",
    "Input: cost = [1,2,3]  \n",
    "Output: 5  \n",
    "Explanation: We buy the candies with costs 2 and 3, and take the candy with cost 1 for free.  \n",
    "The total cost of buying all candies is 2 + 3 = 5. This is the only way we can buy the candies.  \n",
    "Note that we cannot buy candies with costs 1 and 3, and then take the candy with cost 2 for free.  \n",
    "The cost of the free candy has to be less than or equal to the minimum cost of the purchased candies.  \n",
    "\n",
    "Ex2:  \n",
    "Input: cost = [6,5,7,9,2,2]  \n",
    "Output: 23  \n",
    "Explanation: The way in which we can get the minimum cost is described below:  \n",
    "- Buy candies with costs 9 and 7  \n",
    "- Take the candy with cost 6 for free  \n",
    "- We buy candies with costs 5 and 2  \n",
    "- Take the last remaining candy with cost 2 for free  \n",
    "Hence, the minimum cost to buy all candies is 9 + 7 + 5 + 2 = 23.  \n",
    "\n",
    "Ex3:  \n",
    "Input: cost = [5,5]  \n",
    "Output: 10  \n",
    "Explanation: Since there are only 2 candies, we buy both of them. There is not a third candy we can take for free.  \n",
    "Hence, the minimum cost to buy all candies is 5 + 5 = 10."
   ]
  },
  {
   "cell_type": "markdown",
   "metadata": {},
   "source": [
    "* 解題想法:  \n",
    "首先將原本提供的cost重新進行排序，接著用迴圈將cost切成長度為3的sublist，並計算前兩個數字的值，最後回傳總和為多少"
   ]
  },
  {
   "cell_type": "code",
   "execution_count": null,
   "metadata": {},
   "outputs": [],
   "source": [
    "class Solution:\n",
    "    def minimumCost(self, cost: List[int]) -> int:\n",
    "        total = 0\n",
    "        cost.sort(reverse = True)\n",
    "        for m in range(0, len(cost), 3):\n",
    "            part = cost[m:m+2]\n",
    "            for p in part:\n",
    "                total += p\n",
    "        \n",
    "        return total"
   ]
  }
 ],
 "metadata": {
  "kernelspec": {
   "display_name": "Python 3",
   "language": "python",
   "name": "python3"
  },
  "language_info": {
   "codemirror_mode": {
    "name": "ipython",
    "version": 3
   },
   "file_extension": ".py",
   "mimetype": "text/x-python",
   "name": "python",
   "nbconvert_exporter": "python",
   "pygments_lexer": "ipython3",
   "version": "3.7.4"
  }
 },
 "nbformat": 4,
 "nbformat_minor": 4
}
