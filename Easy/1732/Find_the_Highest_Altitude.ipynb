{
 "cells": [
  {
   "cell_type": "markdown",
   "metadata": {},
   "source": [
    "# 本題要找出array中最大值為何\n",
    "原題目連結: https://leetcode.com/problems/find-the-highest-altitude/  \n",
    "\n",
    "There is a biker going on a road trip. The road trip consists of n + 1 points at different altitudes. The biker starts his trip on point 0 with altitude equal 0.  \n",
    "\n",
    "You are given an integer array gain of length n where gain[i] is the net gain in altitude between points i​​​​​​ and i + 1 for all (0 <= i < n). Return the highest altitude of a point.  \n",
    "\n",
    "範例:  \n",
    "Ex1:  \n",
    "Input: gain = [-5,1,5,0,-7]  \n",
    "Output: 1  \n",
    "Explanation: The altitudes are [0,-5,-4,1,1,-6]. The highest is 1.  \n",
    "\n",
    "Ex2:  \n",
    "Input: gain = [-4,-3,-2,-1,4,3,2]    \n",
    "Output: 0  \n",
    "Explanation: The altitudes are [0,-4,-7,-9,-10,-6,-3,-1]. The highest is 0."
   ]
  },
  {
   "cell_type": "markdown",
   "metadata": {},
   "source": [
    "* 解題想法:  \n",
    "依題目要求，起始是從0開始，因此先建立一個list，並將0加入，接著用一個迴圈從0開始計算修正後的高度為何並加入list中  \n",
    "最後回傳list中最大值為何"
   ]
  },
  {
   "cell_type": "code",
   "execution_count": null,
   "metadata": {},
   "outputs": [],
   "source": [
    "class Solution:\n",
    "    def largestAltitude(self, gain: List[int]) -> int:\n",
    "        result = [0]\n",
    "        for n in range(len(gain)):\n",
    "            result.append(result[-1] + gain[n])\n",
    "        return max(result)"
   ]
  }
 ],
 "metadata": {
  "kernelspec": {
   "display_name": "Python 3",
   "language": "python",
   "name": "python3"
  },
  "language_info": {
   "codemirror_mode": {
    "name": "ipython",
    "version": 3
   },
   "file_extension": ".py",
   "mimetype": "text/x-python",
   "name": "python",
   "nbconvert_exporter": "python",
   "pygments_lexer": "ipython3",
   "version": "3.7.4"
  }
 },
 "nbformat": 4,
 "nbformat_minor": 2
}
