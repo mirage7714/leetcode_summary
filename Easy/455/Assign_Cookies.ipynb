{
 "cells": [
  {
   "cell_type": "markdown",
   "metadata": {},
   "source": [
    "# 本題要找出兩個array中，array A中有幾個小於或等於array B中的數字\n",
    "原題目連結: https://leetcode.com/problems/assign-cookies/  \n",
    "\n",
    "Assume you are an awesome parent and want to give your children some cookies. But, you should give each child at most one cookie.  \n",
    "\n",
    "Each child i has a greed factor g[i], which is the minimum size of a cookie that the child will be content with; and each cookie j has a size s[j]. If s[j] >= g[i], we can assign the cookie j to the child i, and the child i will be content. Your goal is to maximize the number of your content children and output the maximum number.  \n",
    "\n",
    "範例:  \n",
    "Ex1:  \n",
    "Input: g = [1,2,3], s = [1,1]  \n",
    "Output: 1  \n",
    "Explanation: You have 3 children and 2 cookies. The greed factors of 3 children are 1, 2, 3.   \n",
    "And even though you have 2 cookies, since their size is both 1, you could only make the child whose greed factor is 1 content. \n",
    "You need to output 1.  \n",
    "\n",
    "Ex2:  \n",
    "Input: g = [1,2], s = [1,2,3]  \n",
    "Output: 2  \n",
    "Explanation: You have 2 children and 3 cookies. The greed factors of 2 children are 1, 2.   \n",
    "You have 3 cookies and their sizes are big enough to gratify all of the children, You need to output 2."
   ]
  },
  {
   "cell_type": "markdown",
   "metadata": {},
   "source": [
    "* 解題想法:  \n",
    "將兩個array進行排序後(從大到小或從小到大都行)，從第一個list中用迴圈去確認在list B中是否有相同或是大於的數字，如果有的話則取出來  \n",
    "最後判斷有幾個符合的狀況就是題目需要的答案"
   ]
  },
  {
   "cell_type": "code",
   "execution_count": null,
   "metadata": {},
   "outputs": [],
   "source": [
    "class Solution:\n",
    "    def findContentChildren(self, g: List[int], s: List[int]) -> int:\n",
    "        result = []\n",
    "        g.sort(reverse = True)\n",
    "        s.sort(reverse = True)\n",
    "        for l in range(len(g)):\n",
    "            if len(s) > 0:\n",
    "                for m in range(len(s)):\n",
    "                    if g[l] <= s[m]:\n",
    "                        result.append(g[l])\n",
    "                        s.remove(s[m])\n",
    "                        break\n",
    "            else:\n",
    "                break\n",
    "        return len(result)"
   ]
  }
 ],
 "metadata": {
  "kernelspec": {
   "display_name": "Python 3",
   "language": "python",
   "name": "python3"
  },
  "language_info": {
   "codemirror_mode": {
    "name": "ipython",
    "version": 3
   },
   "file_extension": ".py",
   "mimetype": "text/x-python",
   "name": "python",
   "nbconvert_exporter": "python",
   "pygments_lexer": "ipython3",
   "version": "3.7.4"
  }
 },
 "nbformat": 4,
 "nbformat_minor": 2
}
