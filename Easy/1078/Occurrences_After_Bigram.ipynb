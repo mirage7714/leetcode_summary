{
 "cells": [
  {
   "cell_type": "markdown",
   "metadata": {},
   "source": [
    "# 本題要找出在指定兩個字的後面出現的字\n",
    "原題目連結： https://leetcode.com/problems/occurrences-after-bigram/  \n",
    "Given words first and second, consider occurrences in some text of the form \"first second third\", where second comes immediately after first, and third comes immediately after second.  \n",
    "For each such occurrence, add \"third\" to the answer, and return the answer.  \n",
    "\n",
    "範例：  \n",
    "Ex1:  \n",
    "Input: text = \"alice is a good girl she is a good student\", first = \"a\", second = \"good\"  \n",
    "Output: [\"girl\",\"student\"]  \n",
    "\n",
    "Ex2:  \n",
    "Input: text = \"we will we will rock you\", first = \"we\", second = \"will\"  \n",
    "Output: [\"we\",\"rock\"]"
   ]
  },
  {
   "cell_type": "markdown",
   "metadata": {},
   "source": [
    "* 解題想法：  \n",
    "由於要找出題目指定的兩個字後面出現的字，因此先將所有指定字出現的位置轉換為index，並確認兩個字相鄰後再找出下一個index的字  \n",
    "如果超過長度的話就跳過，最後回傳結果"
   ]
  },
  {
   "cell_type": "code",
   "execution_count": null,
   "metadata": {},
   "outputs": [],
   "source": [
    "class Solution:\n",
    "    def findOcurrences(self, text: str, first: str, second: str) -> List[str]:\n",
    "        words = text.split(' ')\n",
    "        result = []\n",
    "        freq_fir = []\n",
    "        freq_sec = []\n",
    "        for w in range(len(words)):\n",
    "            if words[w] == first:\n",
    "                freq_fir.append(w)\n",
    "            elif words[w] == second:\n",
    "                freq_sec.append(w)\n",
    "        for f in freq_fir:\n",
    "            if f+1 in freq_sec:\n",
    "                if len(words) > f+2:\n",
    "                    result.append(words[f+2])\n",
    "        return result"
   ]
  }
 ],
 "metadata": {
  "kernelspec": {
   "display_name": "Python 3",
   "language": "python",
   "name": "python3"
  },
  "language_info": {
   "codemirror_mode": {
    "name": "ipython",
    "version": 3
   },
   "file_extension": ".py",
   "mimetype": "text/x-python",
   "name": "python",
   "nbconvert_exporter": "python",
   "pygments_lexer": "ipython3",
   "version": "3.8.3"
  }
 },
 "nbformat": 4,
 "nbformat_minor": 4
}
