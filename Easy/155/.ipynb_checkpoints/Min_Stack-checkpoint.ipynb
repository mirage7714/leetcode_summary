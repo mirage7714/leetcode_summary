{
 "cells": [
  {
   "cell_type": "markdown",
   "metadata": {},
   "source": [
    "# 本題要找出stack中最小的值以及一些基本操作\n",
    "原題目連結: https://leetcode.com/problems/min-stack/  \n",
    "\n",
    "Design a stack that supports push, pop, top, and retrieving the minimum element in constant time.  \n",
    "\n",
    "push(x) -- Push element x onto stack.  \n",
    "pop() -- Removes the element on top of the stack.  \n",
    "top() -- Get the top element.  \n",
    "getMin() -- Retrieve the minimum element in the stack.  \n",
    "\n",
    "範例:  \n",
    "Ex1:  \n",
    "Input  \n",
    "[\"MinStack\",\"push\",\"push\",\"push\",\"getMin\",\"pop\",\"top\",\"getMin\"]  \n",
    "[[],[-2],[0],[-3],[],[],[],[]]   \n",
    "\n",
    "Output  \n",
    "[null,null,null,null,-3,null,0,-2]  \n",
    "\n",
    "Explanation  \n",
    "MinStack minStack = new MinStack();  \n",
    "minStack.push(-2);  \n",
    "minStack.push(0);  \n",
    "minStack.push(-3);  \n",
    "minStack.getMin(); // return -3  \n",
    "minStack.pop();  \n",
    "minStack.top();    // return 0  \n",
    "minStack.getMin(); // return -2  "
   ]
  },
  {
   "cell_type": "markdown",
   "metadata": {},
   "source": [
    "* 解題想法:  \n",
    "題目要求需要建立以下幾種操作:  \n",
    "- push: 加入新的元素  \n",
    "- pop: 刪除最上面的  \n",
    "- top: 找出最上面的  \n",
    "- getMin: 找出最小值  \n",
    "所以需要分別完成這幾項的操作，主要就是對list的一些操作"
   ]
  },
  {
   "cell_type": "code",
   "execution_count": null,
   "metadata": {},
   "outputs": [],
   "source": [
    "class MinStack:\n",
    "\n",
    "    def __init__(self):\n",
    "        \"\"\"\n",
    "        initialize your data structure here.\n",
    "        \"\"\"\n",
    "        self.stacks = []\n",
    "\n",
    "    def push(self, x: int) -> None:\n",
    "        self.stacks.append(x)\n",
    "\n",
    "    def pop(self) -> None:\n",
    "        self.stacks.pop(-1)\n",
    "\n",
    "    def top(self) -> int:\n",
    "        return self.stacks[-1]\n",
    "\n",
    "    def getMin(self) -> int:\n",
    "        return min(self.stacks)\n",
    "\n",
    "\n",
    "# Your MinStack object will be instantiated and called as such:\n",
    "# obj = MinStack()\n",
    "# obj.push(x)\n",
    "# obj.pop()\n",
    "# param_3 = obj.top()\n",
    "# param_4 = obj.getMin()"
   ]
  }
 ],
 "metadata": {
  "kernelspec": {
   "display_name": "Python 3",
   "language": "python",
   "name": "python3"
  },
  "language_info": {
   "codemirror_mode": {
    "name": "ipython",
    "version": 3
   },
   "file_extension": ".py",
   "mimetype": "text/x-python",
   "name": "python",
   "nbconvert_exporter": "python",
   "pygments_lexer": "ipython3",
   "version": "3.7.4"
  }
 },
 "nbformat": 4,
 "nbformat_minor": 2
}
