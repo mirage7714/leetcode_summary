{
 "cells": [
  {
   "cell_type": "markdown",
   "metadata": {},
   "source": [
    "# 本題要找出最後巢狀結構的層數為何\n",
    "原題目連結: https://leetcode.com/problems/crawler-log-folder/  \n",
    "\n",
    "The Leetcode file system keeps a log each time some user performs a change folder operation.  \n",
    "\n",
    "The operations are described below:  \n",
    "\n",
    "\"../\" : Move to the parent folder of the current folder. (If you are already in the main folder, remain in the same folder).  \n",
    "\"./\" : Remain in the same folder.  \n",
    "\"x/\" : Move to the child folder named x (This folder is guaranteed to always exist).  \n",
    "You are given a list of strings logs where logs[i] is the operation performed by the user at the ith step.  \n",
    "\n",
    "The file system starts in the main folder, then the operations in logs are performed.  \n",
    "\n",
    "Return the minimum number of operations needed to go back to the main folder after the change folder operations.  \n",
    "\n",
    "範例:  \n",
    "Ex1:  \n",
    "Input: logs = [\"d1/\",\"d2/\",\"../\",\"d21/\",\"./\"]  \n",
    "Output: 2  \n",
    "Explanation: Use this change folder operation \"../\" 2 times and go back to the main folder.  \n",
    "\n",
    "Ex2:  \n",
    "Input: logs = [\"d1/\",\"d2/\",\"./\",\"d3/\",\"../\",\"d31/\"]  \n",
    "Output: 3  \n",
    "\n",
    "Ex3:  \n",
    "Input: logs = [\"d1/\",\"../\",\"../\",\"../\"]  \n",
    "Output: 0"
   ]
  },
  {
   "cell_type": "markdown",
   "metadata": {},
   "source": [
    "* 解題想法:  \n",
    "在題目給定的三種情境下，如果是\"./\"代表維持現狀，\"../\"代表回到上一層，但如果已經是最上層了則維持現狀，如果不是這兩種情況的話則是往下一層  \n",
    "因此找出最後的深度為何，就是本題要求的答案"
   ]
  },
  {
   "cell_type": "code",
   "execution_count": null,
   "metadata": {},
   "outputs": [],
   "source": [
    "class Solution:\n",
    "    def minOperations(self, logs: List[str]) -> int:\n",
    "        depth = 0\n",
    "        for log in logs:\n",
    "            if log == '../':\n",
    "                if depth > 0:\n",
    "                    depth -= 1\n",
    "            elif log == './':\n",
    "                pass\n",
    "            else:\n",
    "                depth += 1\n",
    "        if depth >= 0:\n",
    "            return depth\n",
    "        else:\n",
    "            return 0"
   ]
  }
 ],
 "metadata": {
  "kernelspec": {
   "display_name": "Python 3",
   "language": "python",
   "name": "python3"
  },
  "language_info": {
   "codemirror_mode": {
    "name": "ipython",
    "version": 3
   },
   "file_extension": ".py",
   "mimetype": "text/x-python",
   "name": "python",
   "nbconvert_exporter": "python",
   "pygments_lexer": "ipython3",
   "version": "3.7.4"
  }
 },
 "nbformat": 4,
 "nbformat_minor": 2
}
