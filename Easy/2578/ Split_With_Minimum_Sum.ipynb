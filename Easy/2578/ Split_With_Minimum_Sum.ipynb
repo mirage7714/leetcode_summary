{
 "cells": [
  {
   "cell_type": "markdown",
   "id": "53c6537f-a675-42a1-8eab-54304feddac2",
   "metadata": {},
   "source": [
    "# 本題要將指定的整數分成兩個數字後找出最小和惟多少 (\\#Math)\n",
    "原題目連結: https://leetcode.com/problems/split-with-minimum-sum/description/   \n",
    "\n",
    "Given a positive integer num, split it into two non-negative integers num1 and num2 such that:  \n",
    "\n",
    "The concatenation of num1 and num2 is a permutation of num.  \n",
    "In other words, the sum of the number of occurrences of each digit in num1 and num2 is equal to the number of occurrences of that digit in num.  \n",
    "num1 and num2 can contain leading zeros.  \n",
    "Return the minimum possible sum of num1 and num2.  \n",
    "\n",
    "Notes:  \n",
    "\n",
    "It is guaranteed that num does not contain any leading zeros.  \n",
    "The order of occurrence of the digits in num1 and num2 may differ from the order of occurrence of num.  \n",
    "\n",
    "範例:  \n",
    "Ex1:  \n",
    "Input: num = 4325  \n",
    "Output: 59  \n",
    "Explanation: We can split 4325 so that num1 is 24 and num2 is 35, giving a sum of 59. We can prove that 59 is indeed the minimal possible sum.  \n",
    "\n",
    "Ex2:  \n",
    "Input: num = 687  \n",
    "Output: 75  \n",
    "Explanation: We can split 687 so that num1 is 68 and num2 is 7, which would give an optimal sum of 75."
   ]
  },
  {
   "cell_type": "markdown",
   "id": "1e985336-8ae4-4a8b-89a4-23b376102c00",
   "metadata": {},
   "source": [
    "* 解題想法:  \n",
    "首先將數字放入一個list中，並轉換為heap，接著從頭開始取出並分別放入兩個list中，最後將兩個list轉換回數字後香家就是答案"
   ]
  },
  {
   "cell_type": "code",
   "execution_count": null,
   "id": "1d857a4e-62e7-40ee-adf5-a6d2f102414b",
   "metadata": {},
   "outputs": [],
   "source": [
    "import heapq\n",
    "\n",
    "class Solution:\n",
    "    def splitNum(self, num: int) -> int:\n",
    "        s = str(num)\n",
    "        temp = [i for i in s]\n",
    "        heapq.heapify(temp)\n",
    "        t1 = []\n",
    "        t2 = []\n",
    "        while temp:\n",
    "            t = heapq.heappop(temp)\n",
    "            if len(t1) == len(t2):\n",
    "                t1.append(t)\n",
    "            else:\n",
    "                t2.append(t)\n",
    "        r1 = ''.join(t1)\n",
    "        r2 = ''.join(t2)\n",
    "        return int(r1) + int(r2)"
   ]
  }
 ],
 "metadata": {
  "kernelspec": {
   "display_name": "Python 3 (ipykernel)",
   "language": "python",
   "name": "python3"
  },
  "language_info": {
   "codemirror_mode": {
    "name": "ipython",
    "version": 3
   },
   "file_extension": ".py",
   "mimetype": "text/x-python",
   "name": "python",
   "nbconvert_exporter": "python",
   "pygments_lexer": "ipython3",
   "version": "3.9.13"
  }
 },
 "nbformat": 4,
 "nbformat_minor": 5
}
