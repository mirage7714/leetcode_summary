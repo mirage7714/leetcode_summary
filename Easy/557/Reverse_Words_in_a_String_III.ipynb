{
 "cells": [
  {
   "cell_type": "markdown",
   "metadata": {},
   "source": [
    "# 本題要將指定的句子中的單字進行倒轉\n",
    "原題目連結: https://leetcode.com/problems/reverse-words-in-a-string-iii/  \n",
    "\n",
    "Given a string s, reverse the order of characters in each word within a sentence while still preserving whitespace and initial word order.  \n",
    "\n",
    "範例:  \n",
    "Ex1:  \n",
    "Input: s = \"Let's take LeetCode contest\"  \n",
    "Output: \"s'teL ekat edoCteeL tsetnoc\"  \n",
    "\n",
    "Ex2:  \n",
    "Input: s = \"God Ding\"  \n",
    "Output: \"doG gniD\""
   ]
  },
  {
   "cell_type": "markdown",
   "metadata": {},
   "source": [
    "* 解題想法:  \n",
    "首先建立一個將單字進行翻轉的函數，接著將句子用空格切分之後，將每個單字輸入後進行翻轉，並重新組合回句子"
   ]
  },
  {
   "cell_type": "code",
   "execution_count": null,
   "metadata": {},
   "outputs": [],
   "source": [
    "class Solution:\n",
    "    def reverseWords(self, s: str) -> str:\n",
    "        def reverseWord(word):\n",
    "            result = ''\n",
    "            for w in word:\n",
    "                result = w + result\n",
    "            return result\n",
    "        \n",
    "        ans = ''\n",
    "        words = s.split(' ')\n",
    "        for word in words:\n",
    "            ans += reverseWord(word)+ ' '\n",
    "        return ans[:-1]    "
   ]
  }
 ],
 "metadata": {
  "kernelspec": {
   "display_name": "Python 3",
   "language": "python",
   "name": "python3"
  },
  "language_info": {
   "codemirror_mode": {
    "name": "ipython",
    "version": 3
   },
   "file_extension": ".py",
   "mimetype": "text/x-python",
   "name": "python",
   "nbconvert_exporter": "python",
   "pygments_lexer": "ipython3",
   "version": "3.6.4"
  }
 },
 "nbformat": 4,
 "nbformat_minor": 2
}
