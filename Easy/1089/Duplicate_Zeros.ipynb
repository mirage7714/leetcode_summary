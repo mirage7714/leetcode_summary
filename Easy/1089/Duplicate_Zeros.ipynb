{
 "cells": [
  {
   "cell_type": "markdown",
   "metadata": {},
   "source": [
    "# 題目要求將0後面多增加一個0\n",
    "原題目連結： https://leetcode.com/problems/duplicate-zeros/  \n",
    "\n",
    "Given a fixed length array arr of integers, duplicate each occurrence of zero, shifting the remaining elements to the right.  \n",
    "\n",
    "Note that elements beyond the length of the original array are not written.  \n",
    "\n",
    "Do the above modifications to the input array in place, do not return anything from your function.  \n",
    "\n",
    "範例：  \n",
    "Ex1:  \n",
    "Input: [1,0,2,3,0,4,5,0]  \n",
    "Output: null  \n",
    "Explanation: After calling your function, the input array is modified to: [1,0,0,2,3,0,0,4]  \n",
    "\n",
    "Ex2:  \n",
    "Input: [1,2,3]  \n",
    "Output: null  \n",
    "Explanation: After calling your function, the input array is modified to: [1,2,3]  "
   ]
  },
  {
   "cell_type": "markdown",
   "metadata": {},
   "source": [
    "* 解題想法：  \n",
    "為了避免重複加入0，在新插入一個0之後，用一個boolean來判斷這個是不是原本就有的0或是後來新增的  \n",
    "然後如果進到下一個數字之後將boolean做reset  \n",
    "另外因為題目要求將原本input進行修改，因此每當新增一個0到list中時，需要將最後一個數字刪除，以確保list長度不變"
   ]
  },
  {
   "cell_type": "code",
   "execution_count": null,
   "metadata": {},
   "outputs": [],
   "source": [
    "class Solution:\n",
    "    def duplicateZeros(self, arr: List[int]) -> None:\n",
    "        \"\"\"\n",
    "        Do not return anything, modify arr in-place instead.\n",
    "        \"\"\"\n",
    "        total = len(arr)\n",
    "        is_zero = False\n",
    "        for n in range(len(arr)):\n",
    "            if arr[n] == 0 and is_zero == False:\n",
    "                is_zero = True\n",
    "                arr.insert(n,0)\n",
    "                arr.pop()\n",
    "            elif is_zero == True:\n",
    "                is_zero  = False"
   ]
  }
 ],
 "metadata": {
  "kernelspec": {
   "display_name": "Python 3",
   "language": "python",
   "name": "python3"
  },
  "language_info": {
   "codemirror_mode": {
    "name": "ipython",
    "version": 3
   },
   "file_extension": ".py",
   "mimetype": "text/x-python",
   "name": "python",
   "nbconvert_exporter": "python",
   "pygments_lexer": "ipython3",
   "version": "3.8.3"
  }
 },
 "nbformat": 4,
 "nbformat_minor": 4
}
