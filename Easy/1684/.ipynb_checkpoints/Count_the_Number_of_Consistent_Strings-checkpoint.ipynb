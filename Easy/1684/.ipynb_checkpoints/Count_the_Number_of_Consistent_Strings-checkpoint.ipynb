{
 "cells": [
  {
   "cell_type": "markdown",
   "metadata": {},
   "source": [
    "# 本題要找出在提供的array中，有幾個字是可由另一個字串的字母所組成\n",
    "原題目連結: https://leetcode.com/problems/count-the-number-of-consistent-strings/  \n",
    "\n",
    "You are given a string allowed consisting of distinct characters and an array of strings words. A string is consistent if all characters in the string appear in the string allowed.  \n",
    "\n",
    "Return the number of consistent strings in the array words.  \n",
    "\n",
    "範例:  \n",
    "Ex1:  \n",
    "Input: allowed = \"ab\", words = [\"ad\",\"bd\",\"aaab\",\"baa\",\"badab\"]  \n",
    "Output: 2  \n",
    "Explanation: Strings \"aaab\" and \"baa\" are consistent since they only contain characters 'a' and 'b'.  \n",
    "\n",
    "Ex2:　\n",
    "Input: allowed = \"abc\", words = [\"a\",\"b\",\"c\",\"ab\",\"ac\",\"bc\",\"abc\"]  \n",
    "Output: 7  \n",
    "Explanation: All strings are consistent.  \n",
    "\n",
    "Ex3:  \n",
    "Input: allowed = \"cad\", words = [\"cc\",\"acd\",\"b\",\"ba\",\"bac\",\"bad\",\"ac\",\"d\"]  \n",
    "Output: 4  \n",
    "Explanation: Strings \"cc\", \"acd\", \"ac\", and \"d\" are consistent."
   ]
  },
  {
   "cell_type": "markdown",
   "metadata": {},
   "source": [
    "* 解題想法:  \n",
    "在allowed中，並不會有重複的字母出現，因此將list中的每個字母都進行判斷是否有出現在allowed字串中，如果沒有則代表這個詞是不符合需求的  \n",
    "最後將符合條件的字串放入一個list中，並回傳list的長度"
   ]
  },
  {
   "cell_type": "code",
   "execution_count": null,
   "metadata": {},
   "outputs": [],
   "source": [
    "class Solution:\n",
    "    def countConsistentStrings(self, allowed: str, words: List[str]) -> int:\n",
    "        result = []\n",
    "        for n in range(len(words)):\n",
    "            is_valid = True\n",
    "            for w in words[n]:\n",
    "                if w not in allowed:\n",
    "                    is_valid = False\n",
    "            if is_valid:\n",
    "                result.append(words[n])\n",
    "        return len(result)"
   ]
  }
 ],
 "metadata": {
  "kernelspec": {
   "display_name": "Python 3",
   "language": "python",
   "name": "python3"
  },
  "language_info": {
   "codemirror_mode": {
    "name": "ipython",
    "version": 3
   },
   "file_extension": ".py",
   "mimetype": "text/x-python",
   "name": "python",
   "nbconvert_exporter": "python",
   "pygments_lexer": "ipython3",
   "version": "3.7.4"
  }
 },
 "nbformat": 4,
 "nbformat_minor": 2
}
