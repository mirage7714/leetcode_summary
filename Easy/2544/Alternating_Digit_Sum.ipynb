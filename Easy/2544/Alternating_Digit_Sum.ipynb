{
 "cells": [
  {
   "cell_type": "markdown",
   "metadata": {},
   "source": [
    "# 本題要找出奇數與偶數index的總和相減之後為多少 (\\#Array)\n",
    "原題目連結: https://leetcode.com/problems/alternating-digit-sum/description/  \n",
    "\n",
    "You are given a positive integer n. Each digit of n has a sign according to the following rules:  \n",
    "\n",
    "The most significant digit is assigned a positive sign.  \n",
    "Each other digit has an opposite sign to its adjacent digits.  \n",
    "Return the sum of all digits with their corresponding sign.  \n",
    "\n",
    "範例:  \n",
    "Ex1:  \n",
    "Input: n = 521  \n",
    "Output: 4  \n",
    "Explanation: (+5) + (-2) + (+1) = 4.  \n",
    "\n",
    "Ex2:  \n",
    "Input: n = 111  \n",
    "Output: 1  \n",
    "Explanation: (+1) + (-1) + (+1) = 1.  \n",
    "\n",
    "Ex3:  \n",
    "Input: n = 886996  \n",
    "Output: 0  \n",
    "Explanation: (+8) + (-8) + (+6) + (-9) + (+9) + (-6) = 0."
   ]
  },
  {
   "cell_type": "markdown",
   "metadata": {},
   "source": [
    "* 解題想法:  \n",
    "首先將數值轉換成list，接著如果是奇數index則減去該數值，如果是偶數index則加上該數值，最後回傳總和就是答案"
   ]
  },
  {
   "cell_type": "code",
   "execution_count": null,
   "metadata": {},
   "outputs": [],
   "source": [
    "class Solution:\n",
    "    def alternateDigitSum(self, n: int) -> int:\n",
    "        nums = [int(i) for i in str(n)]\n",
    "        res = 0\n",
    "        for m in range(len(nums)):\n",
    "            if m % 2 == 0:\n",
    "                res += nums[m]\n",
    "            else:\n",
    "                res -= nums[m]\n",
    "        return res"
   ]
  }
 ],
 "metadata": {
  "kernelspec": {
   "display_name": "Python 3",
   "language": "python",
   "name": "python3"
  },
  "language_info": {
   "codemirror_mode": {
    "name": "ipython",
    "version": 3
   },
   "file_extension": ".py",
   "mimetype": "text/x-python",
   "name": "python",
   "nbconvert_exporter": "python",
   "pygments_lexer": "ipython3",
   "version": "3.7.6"
  }
 },
 "nbformat": 4,
 "nbformat_minor": 4
}
