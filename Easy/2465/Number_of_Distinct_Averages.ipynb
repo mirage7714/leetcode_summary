{
 "cells": [
  {
   "cell_type": "markdown",
   "metadata": {},
   "source": [
    "# 本題要找出共有幾種不同的平均數 (\\#Array, \\#Math)\n",
    "原題目連結: https://leetcode.com/problems/number-of-distinct-averages/  \n",
    "\n",
    "You are given a 0-indexed integer array nums of even length.  \n",
    "\n",
    "As long as nums is not empty, you must repetitively:  \n",
    "\n",
    "Find the minimum number in nums and remove it.  \n",
    "Find the maximum number in nums and remove it.  \n",
    "Calculate the average of the two removed numbers.  \n",
    "The average of two numbers a and b is (a + b) / 2.  \n",
    "\n",
    "For example, the average of 2 and 3 is (2 + 3) / 2 = 2.5.  \n",
    "Return the number of distinct averages calculated using the above process.  \n",
    "\n",
    "Note that when there is a tie for a minimum or maximum number, any can be removed.  \n",
    "\n",
    "範例:  \n",
    "Ex1:  \n",
    "Input: nums = [4,1,4,0,3,5]  \n",
    "Output: 2  \n",
    "Explanation:  \n",
    "1. Remove 0 and 5, and the average is (0 + 5) / 2 = 2.5. Now, nums = [4,1,4,3].  \n",
    "2. Remove 1 and 4. The average is (1 + 4) / 2 = 2.5, and nums = [4,3].  \n",
    "3. Remove 3 and 4, and the average is (3 + 4) / 2 = 3.5.  \n",
    "Since there are 2 distinct numbers among 2.5, 2.5, and 3.5, we return 2.  \n",
    "\n",
    "Ex2:  \n",
    "Input: nums = [1,100]  \n",
    "Output: 1  \n",
    "Explanation:  \n",
    "There is only one average to be calculated after removing 1 and 100, so we return 1."
   ]
  },
  {
   "cell_type": "markdown",
   "metadata": {},
   "source": [
    "* 解題想法:  \n",
    "首先將list進行排序後，從頭開始取出數值並與最後的數值相加後取平均數，接著放入一個set中，最後計算set的長度為何就是答案"
   ]
  },
  {
   "cell_type": "code",
   "execution_count": null,
   "metadata": {},
   "outputs": [],
   "source": [
    "class Solution:\n",
    "    def distinctAverages(self, nums: List[int]) -> int:\n",
    "        res = set()\n",
    "        nums.sort()\n",
    "        for m in range(len(nums)// 2):\n",
    "            res.add((nums[m] + nums[-1-m])/2)\n",
    "        return len(res)"
   ]
  }
 ],
 "metadata": {
  "kernelspec": {
   "display_name": "Python 3",
   "language": "python",
   "name": "python3"
  },
  "language_info": {
   "codemirror_mode": {
    "name": "ipython",
    "version": 3
   },
   "file_extension": ".py",
   "mimetype": "text/x-python",
   "name": "python",
   "nbconvert_exporter": "python",
   "pygments_lexer": "ipython3",
   "version": "3.7.4"
  }
 },
 "nbformat": 4,
 "nbformat_minor": 4
}
