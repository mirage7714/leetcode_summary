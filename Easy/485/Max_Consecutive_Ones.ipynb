{
 "cells": [
  {
   "cell_type": "markdown",
   "metadata": {},
   "source": [
    "# 找出最多有幾個連續的1\n",
    "原題目連結: https://leetcode.com/problems/max-consecutive-ones/  \n",
    "\n",
    "範例:  \n",
    "Ex1:  \n",
    "Input: [1,1,0,1,1,1]  \n",
    "Output: 3  "
   ]
  },
  {
   "cell_type": "markdown",
   "metadata": {},
   "source": [
    "* 解題想法:  \n",
    "要找出連續的1順序，比較好的方法是找出0的位置後，再用相減的方式找出最多的連續數值  \n",
    "其中，為了算出最前面與最後面的值，在list中先後加入了兩個虛擬的0"
   ]
  },
  {
   "cell_type": "code",
   "execution_count": null,
   "metadata": {},
   "outputs": [],
   "source": [
    "class Solution:\n",
    "    def findMaxConsecutiveOnes(self, nums: List[int]) -> int:\n",
    "        zeros = [-1]\n",
    "        great = 0\n",
    "        for n in range(len(nums)):\n",
    "            if nums[n] == 0:\n",
    "                zeros.append(n)\n",
    "        zeros.append(len(nums))\n",
    "        for m in range(len(zeros)-1):\n",
    "            diff = zeros[m+1] - zeros[m] -1\n",
    "            if diff > great:\n",
    "                great = diff\n",
    "        return great"
   ]
  }
 ],
 "metadata": {
  "kernelspec": {
   "display_name": "Python 3",
   "language": "python",
   "name": "python3"
  },
  "language_info": {
   "codemirror_mode": {
    "name": "ipython",
    "version": 3
   },
   "file_extension": ".py",
   "mimetype": "text/x-python",
   "name": "python",
   "nbconvert_exporter": "python",
   "pygments_lexer": "ipython3",
   "version": "3.7.4"
  }
 },
 "nbformat": 4,
 "nbformat_minor": 2
}
