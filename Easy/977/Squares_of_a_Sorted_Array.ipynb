{
 "cells": [
  {
   "cell_type": "markdown",
   "metadata": {},
   "source": [
    "# 算出Array中的平方值，排序後回傳\n",
    "原題目連結：https://leetcode.com/problems/squares-of-a-sorted-array/  \n",
    "\n",
    "範例：  \n",
    "Ex1:  \n",
    "Input: [-4,-1,0,3,10]  \n",
    "Output: [0,1,9,16,100]  \n",
    "\n",
    "Ex2:  \n",
    "Input: [-7,-3,2,3,11]  \n",
    "Output: [4,9,9,49,121]"
   ]
  },
  {
   "cell_type": "markdown",
   "metadata": {},
   "source": [
    "* 解題想法：  \n",
    "題目要求需要將結果由小到大排序，因此先將原本Array中的每個數值的平方值都算出後加入新的Array  \n",
    "並將新的Array進行排序後就是答案"
   ]
  },
  {
   "cell_type": "code",
   "execution_count": null,
   "metadata": {},
   "outputs": [],
   "source": [
    "class Solution:\n",
    "    def sortedSquares(self, A: List[int]) -> List[int]:\n",
    "        result = []\n",
    "        for a in A:\n",
    "            result.append(a*a)\n",
    "        result.sort()\n",
    "        return result"
   ]
  }
 ],
 "metadata": {
  "kernelspec": {
   "display_name": "Python 3",
   "language": "python",
   "name": "python3"
  },
  "language_info": {
   "codemirror_mode": {
    "name": "ipython",
    "version": 3
   },
   "file_extension": ".py",
   "mimetype": "text/x-python",
   "name": "python",
   "nbconvert_exporter": "python",
   "pygments_lexer": "ipython3",
   "version": "3.8.3"
  }
 },
 "nbformat": 4,
 "nbformat_minor": 4
}
