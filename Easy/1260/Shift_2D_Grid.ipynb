{
 "cells": [
  {
   "cell_type": "markdown",
   "metadata": {},
   "source": [
    "# 本題要找出在2D矩陣轉換後，最後轉換的結果\n",
    "原題目連結: https://leetcode.com/problems/shift-2d-grid/  \n",
    "\n",
    "Given a 2D grid of size m x n and an integer k. You need to shift the grid k times.  \n",
    "\n",
    "In one shift operation:  \n",
    "\n",
    "Element at grid[i][j] moves to grid[i][j + 1].  \n",
    "Element at grid[i][n - 1] moves to grid[i + 1][0].  \n",
    "Element at grid[m - 1][n - 1] moves to grid[0][0].  \n",
    "Return the 2D grid after applying shift operation k times.  \n",
    "\n",
    "範例:  \n",
    "Ex1:  \n",
    "Input: grid = [[1,2,3],[4,5,6],[7,8,9]], k = 1  \n",
    "Output: [[9,1,2],[3,4,5],[6,7,8]]  \n",
    "\n",
    "Ex2:  \n",
    "Input: grid = [[3,8,1,9],[19,7,2,5],[4,6,11,10],[12,0,21,13]], k = 4  \n",
    "Output: [[12,0,21,13],[3,8,1,9],[19,7,2,5],[4,6,11,10]]  \n",
    "\n",
    "Ex3:  \n",
    "Input: grid = [[1,2,3],[4,5,6],[7,8,9]], k = 9  \n",
    "Output: [[1,2,3],[4,5,6],[7,8,9]]"
   ]
  },
  {
   "cell_type": "markdown",
   "metadata": {},
   "source": [
    "* 解題想法:  \n",
    "為了要找出轉換後的矩陣，首先將最後一位數字插入最前方進行替換，並將每個子list的第一個數字都暫存下來  \n",
    "再針對這個暫存矩陣做一次轉換"
   ]
  }
 ],
 "metadata": {
  "kernelspec": {
   "display_name": "Python 3",
   "language": "python",
   "name": "python3"
  },
  "language_info": {
   "codemirror_mode": {
    "name": "ipython",
    "version": 3
   },
   "file_extension": ".py",
   "mimetype": "text/x-python",
   "name": "python",
   "nbconvert_exporter": "python",
   "pygments_lexer": "ipython3",
   "version": "3.7.4"
  }
 },
 "nbformat": 4,
 "nbformat_minor": 2
}
