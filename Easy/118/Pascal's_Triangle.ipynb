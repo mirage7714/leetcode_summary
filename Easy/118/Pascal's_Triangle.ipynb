{
 "cells": [
  {
   "cell_type": "markdown",
   "metadata": {},
   "source": [
    "# 本題要找出三角形的每一列組成為何\n",
    "原題目連結: https://leetcode.com/problems/pascals-triangle/  \n",
    "\n",
    "Given an integer numRows, return the first numRows of Pascal's triangle.  \n",
    "In Pascal's triangle, each number is the sum of the two numbers directly above it as shown.\n",
    "\n",
    "範例:  \n",
    "Ex1:  \n",
    "Input: numRows = 5  \n",
    "Output: [[1],[1,1],[1,2,1],[1,3,3,1],[1,4,6,4,1]]  \n",
    "\n",
    "Ex2:  \n",
    "Input: numRows = 1  \n",
    "Output: [[1]]"
   ]
  },
  {
   "cell_type": "markdown",
   "metadata": {},
   "source": [
    "* 解題想法:  \n",
    "首先由於三角形的第一列只有一個元素，因此需要單獨處理，另外第二列由於也只有兩個元素，因此也可以例外處理，等第三列以上開始，就是用上一列的元素兩兩相加組成新的一列，最後記得加上一個1在最後"
   ]
  },
  {
   "cell_type": "code",
   "execution_count": null,
   "metadata": {},
   "outputs": [],
   "source": [
    "class Solution:\n",
    "    def generate(self, numRows: int) -> List[List[int]]:\n",
    "        result = [[1]]\n",
    "        if numRows > 1:\n",
    "            for m in range(numRows-1):\n",
    "                temp = [1]\n",
    "                if len(result[-1]) == 1:\n",
    "                    temp.append(1)\n",
    "                    result.append(temp)\n",
    "                else:\n",
    "                    for n in range(1, len(result[-1])):\n",
    "                        t = result[-1][n-1] + result[-1][n] \n",
    "                        temp.append(t)\n",
    "                    temp.append(1)\n",
    "                    result.append(temp)\n",
    "        return result"
   ]
  }
 ],
 "metadata": {
  "kernelspec": {
   "display_name": "Python 3",
   "language": "python",
   "name": "python3"
  },
  "language_info": {
   "codemirror_mode": {
    "name": "ipython",
    "version": 3
   },
   "file_extension": ".py",
   "mimetype": "text/x-python",
   "name": "python",
   "nbconvert_exporter": "python",
   "pygments_lexer": "ipython3",
   "version": "3.7.4"
  }
 },
 "nbformat": 4,
 "nbformat_minor": 4
}
