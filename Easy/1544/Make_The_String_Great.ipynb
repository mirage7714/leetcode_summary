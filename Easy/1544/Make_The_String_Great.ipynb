{
 "cells": [
  {
   "cell_type": "markdown",
   "metadata": {},
   "source": [
    "# 本題要將字串重新進行調整\n",
    "原題目連結: https://leetcode.com/problems/make-the-string-great/  \n",
    "\n",
    "Given a string s of lower and upper case English letters.  \n",
    "\n",
    "A good string is a string which doesn't have two adjacent characters s[i] and s[i + 1] where:  \n",
    "\n",
    "0 <= i <= s.length - 2  \n",
    "s[i] is a lower-case letter and s[i + 1] is the same letter but in upper-case or vice-versa.  \n",
    "To make the string good, you can choose two adjacent characters that make the string bad and remove them. You can keep doing this until the string becomes good.  \n",
    "\n",
    "Return the string after making it good. The answer is guaranteed to be unique under the given constraints.  \n",
    "Notice that an empty string is also good.  \n",
    "\n",
    "範例:  \n",
    "Ex1:  \n",
    "Input: s = \"leEeetcode\"  \n",
    "Output: \"leetcode\"  \n",
    "Explanation: In the first step, either you choose i = 1 or i = 2, both will result \"leEeetcode\" to be reduced to \"leetcode\".  \n",
    "\n",
    "Ex2:  \n",
    "Input: s = \"abBAcC\"  \n",
    "Output: \"\"  \n",
    "Explanation: We have many possible scenarios, and all lead to the same answer. For example:  \n",
    "\"abBAcC\" --> \"aAcC\" --> \"cC\" --> \"\"  \n",
    "\"abBAcC\" --> \"abBA\" --> \"aA\" --> \"\"  \n",
    "\n",
    "Ex3:  \n",
    "Input: s = \"s\"  \n",
    "Output: \"s\""
   ]
  },
  {
   "cell_type": "markdown",
   "metadata": {},
   "source": [
    "* 解題想法:  \n",
    "首先將字母放入一個list中，接著用一個while迴圈來檢查是否有相臨相同字母，但大小寫不同的情況，如果有的話則移除兩個字母後重新開始檢查，最後確認無符合條件後將list內字母重新組合成字串"
   ]
  },
  {
   "cell_type": "code",
   "execution_count": null,
   "metadata": {},
   "outputs": [],
   "source": [
    "class Solution:\n",
    "    def makeGood(self, s: str) -> str:\n",
    "        chars = []\n",
    "        result = ''\n",
    "        for n in s:\n",
    "            chars.append(n)\n",
    "        while True:\n",
    "            is_duplicated = False\n",
    "            for m in range(len(chars)-1):\n",
    "                if chars[m].lower() == chars[m+1].lower():\n",
    "                    if chars[m] != chars[m+1]:\n",
    "                        chars.pop(m+1)\n",
    "                        chars.pop(m)\n",
    "                        is_duplicated = True\n",
    "                        break\n",
    "            if not is_duplicated:\n",
    "                break\n",
    "        for c in chars:\n",
    "            result += c\n",
    "        return result"
   ]
  }
 ],
 "metadata": {
  "kernelspec": {
   "display_name": "Python 3",
   "language": "python",
   "name": "python3"
  },
  "language_info": {
   "codemirror_mode": {
    "name": "ipython",
    "version": 3
   },
   "file_extension": ".py",
   "mimetype": "text/x-python",
   "name": "python",
   "nbconvert_exporter": "python",
   "pygments_lexer": "ipython3",
   "version": "3.7.4"
  }
 },
 "nbformat": 4,
 "nbformat_minor": 4
}
