{
 "cells": [
  {
   "cell_type": "markdown",
   "metadata": {},
   "source": [
    "# 題目主要是說要將Excel中的欄位轉換為數字\n",
    "原題目連結: https://leetcode.com/problems/excel-sheet-column-number/\n",
    "* 舉例如下:\n",
    "   * A -> 1\n",
    "   * B -> 2\n",
    "   * C -> 3\n",
    "   * ...\n",
    "   * Z -> 26\n",
    "   * AA -> 27\n",
    "   * AB -> 28 "
   ]
  },
  {
   "cell_type": "markdown",
   "metadata": {},
   "source": [
    "觀察後可看出，單一字母的情況並不難，就是對26個字母進行索引找出是第幾個字母而已  \n",
    "而兩個字母以上時，AA = 26 + 1, AB = 26 + 2  "
   ]
  },
  {
   "cell_type": "markdown",
   "metadata": {},
   "source": [
    "由上面的例子中，可推導出排列組合為26^0，26^1，26^2的組合  \n",
    "最後將所有的值加起來就是本題所求的解"
   ]
  },
  {
   "cell_type": "code",
   "execution_count": 1,
   "metadata": {},
   "outputs": [],
   "source": [
    "def titleToNumber(self, s: str) -> int:\n",
    "    count = {'A':1,'B':2,'C':3,'D':4,'E':5,'F':6,'G':7,'H':8,'I':9,'J':10,'K':11,'L':12,'M':13,\n",
    "                'N':14,'O':15,'P':16,'Q':17,'R':18,'S':19,'T':20,'U':21,'V':22,'W':23,'X':24,'Y':25,'Z':26\n",
    "                }\n",
    "    total = 0\n",
    "    for n in range(len(s)):\n",
    "        sub = pow(26, len(s) - n - 1) * count[s[n]]\n",
    "        total += sub\n",
    "    return total"
   ]
  },
  {
   "cell_type": "code",
   "execution_count": null,
   "metadata": {},
   "outputs": [],
   "source": []
  }
 ],
 "metadata": {
  "kernelspec": {
   "display_name": "Python 3",
   "language": "python",
   "name": "python3"
  },
  "language_info": {
   "codemirror_mode": {
    "name": "ipython",
    "version": 3
   },
   "file_extension": ".py",
   "mimetype": "text/x-python",
   "name": "python",
   "nbconvert_exporter": "python",
   "pygments_lexer": "ipython3",
   "version": "3.7.4"
  }
 },
 "nbformat": 4,
 "nbformat_minor": 2
}
