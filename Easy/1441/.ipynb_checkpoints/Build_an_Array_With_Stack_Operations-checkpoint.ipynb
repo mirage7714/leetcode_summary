{
 "cells": [
  {
   "cell_type": "markdown",
   "metadata": {},
   "source": [
    "# 本題要找出array中的數字以及符合數字的操作\n",
    "原題目連結: https://leetcode.com/problems/build-an-array-with-stack-operations/  \n",
    "\n",
    "Given an array target and an integer n. In each iteration, you will read a number from  list = {1,2,3..., n}.  \n",
    "\n",
    "Build the target array using the following operations:  \n",
    "\n",
    "Push: Read a new element from the beginning list, and push it in the array.  \n",
    "Pop: delete the last element of the array.  \n",
    "If the target array is already built, stop reading more elements.  \n",
    "Return the operations to build the target array. You are guaranteed that the answer is unique.  \n",
    "\n",
    "範例:  \n",
    "Ex1:  \n",
    "Input: target = [1,3], n = 3  \n",
    "Output: [\"Push\",\"Push\",\"Pop\",\"Push\"]  \n",
    "Explanation:   \n",
    "Read number 1 and automatically push in the array -> [1]  \n",
    "Read number 2 and automatically push in the array then Pop it -> [1]  \n",
    "Read number 3 and automatically push in the array -> [1,3]  \n",
    "\n",
    "Ex2:  \n",
    "Input: target = [1,2,3], n = 3  \n",
    "Output: [\"Push\",\"Push\",\"Push\"]  \n",
    "\n",
    "Ex3:  \n",
    "Input: target = [1,2], n = 4  \n",
    "Output: [\"Push\",\"Push\"]  \n",
    "Explanation: You only need to read the first 2 numbers and stop.  \n",
    "\n",
    "Ex4:  \n",
    "Input: target = [2,3,4], n = 4  \n",
    "Output: [\"Push\",\"Pop\",\"Push\",\"Push\",\"Push\"]"
   ]
  },
  {
   "cell_type": "markdown",
   "metadata": {},
   "source": [
    "* 解題想法:  \n",
    "依照題目的要求，如果是缺少的數字且不是最後一個的話，則需要加入Push與Pop，否則加入Push  \n",
    "另外如果是中間都沒有缺少的數字，但最後list長度小於長度n的話，則不用另外加入  \n",
    "因此先判斷list長度與list最後一個數字是否相符，如果不相符則將迴圈長度改為target[-1]  \n",
    "否則用n作為迴圈長度"
   ]
  },
  {
   "cell_type": "code",
   "execution_count": null,
   "metadata": {},
   "outputs": [],
   "source": [
    "class Solution:\n",
    "    def buildArray(self, target: List[int], n: int) -> List[str]:\n",
    "        result = []\n",
    "        r = n\n",
    "        if n not in target:\n",
    "            r = target[-1]\n",
    "        for m in range(1,r+1):\n",
    "            result.append('Push')\n",
    "            if m not in target:\n",
    "                result.append('Pop')\n",
    "        return result"
   ]
  }
 ],
 "metadata": {
  "kernelspec": {
   "display_name": "Python 3",
   "language": "python",
   "name": "python3"
  },
  "language_info": {
   "codemirror_mode": {
    "name": "ipython",
    "version": 3
   },
   "file_extension": ".py",
   "mimetype": "text/x-python",
   "name": "python",
   "nbconvert_exporter": "python",
   "pygments_lexer": "ipython3",
   "version": "3.7.4"
  }
 },
 "nbformat": 4,
 "nbformat_minor": 2
}
