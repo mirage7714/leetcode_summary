{
 "cells": [
  {
   "cell_type": "markdown",
   "id": "c9a027dc-c147-456d-bb86-4bc6a2ab67b2",
   "metadata": {},
   "source": [
    "# 本題要判斷最多可以佔領多少的敵人土地 (\\#Array)\n",
    "原題目連結: https://leetcode.com/problems/maximum-enemy-forts-that-can-be-captured/description/  \n",
    "\n",
    "You are given a 0-indexed integer array forts of length n representing the positions of several forts. forts[i] can be -1, 0, or 1 where:  \n",
    "\n",
    "-1 represents there is no fort at the ith position.  \n",
    "0 indicates there is an enemy fort at the ith position.  \n",
    "1 indicates the fort at the ith the position is under your command.  \n",
    "Now you have decided to move your army from one of your forts at position i to an empty position j such that:  \n",
    "0 <= i, j <= n - 1  \n",
    "The army travels over enemy forts only. Formally, for all k where min(i,j) < k < max(i,j), forts[k] == 0.  \n",
    "While moving the army, all the enemy forts that come in the way are captured.  \n",
    "\n",
    "Return the maximum number of enemy forts that can be captured. In case it is impossible to move your army, or you do not have any fort under your command, return 0.  \n",
    "\n",
    "範例:  \n",
    "Ex1:  \n",
    "Input: forts = [1,0,0,-1,0,0,0,0,1]  \n",
    "Output: 4  \n",
    "Explanation:  \n",
    "- Moving the army from position 0 to position 3 captures 2 enemy forts, at 1 and 2.  \n",
    "- Moving the army from position 8 to position 3 captures 4 enemy forts.  \n",
    "Since 4 is the maximum number of enemy forts that can be captured, we return 4.  \n",
    "\n",
    "Ex2:  \n",
    "Input: forts = [0,0,1,-1]  \n",
    "Output: 0  \n",
    "Explanation: Since no enemy fort can be captured, 0 is returned."
   ]
  },
  {
   "cell_type": "markdown",
   "id": "f4e697ac-2f37-4b30-8d78-5f90464622ea",
   "metadata": {},
   "source": [
    "* 解題想法:  \n",
    "首先找出list中不為0的數值，並判斷是否與暫存中的數值不相同，如果不相同，則找出兩個點之間的距離，並更新目前最大值，如果相同則直接更新目前的距離，最後回傳目前的最大值"
   ]
  },
  {
   "cell_type": "code",
   "execution_count": null,
   "id": "236bd49f-5d2c-475f-8e16-37a2efc53eb6",
   "metadata": {},
   "outputs": [],
   "source": [
    "class Solution:\n",
    "    def captureForts(self, forts: List[int]) -> int:\n",
    "        res = 0\n",
    "        cur = [0,0]\n",
    "        for f in range(len(forts)):\n",
    "            if forts[f] != 0:\n",
    "                if cur[0] == 0:\n",
    "                    cur[0] = forts[f]\n",
    "                    cur[1] = f\n",
    "                else:\n",
    "                    if cur[0] != forts[f]:\n",
    "                        res = max(res, abs(f -1 - cur[1]))\n",
    "                    cur = [forts[f], f]\n",
    "        return res"
   ]
  }
 ],
 "metadata": {
  "kernelspec": {
   "display_name": "Python 3 (ipykernel)",
   "language": "python",
   "name": "python3"
  },
  "language_info": {
   "codemirror_mode": {
    "name": "ipython",
    "version": 3
   },
   "file_extension": ".py",
   "mimetype": "text/x-python",
   "name": "python",
   "nbconvert_exporter": "python",
   "pygments_lexer": "ipython3",
   "version": "3.9.13"
  }
 },
 "nbformat": 4,
 "nbformat_minor": 5
}
