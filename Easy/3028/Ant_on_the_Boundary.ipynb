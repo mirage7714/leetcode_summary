{
 "cells": [
  {
   "cell_type": "markdown",
   "id": "df487983-fe0e-46cd-82c9-92cb02710a70",
   "metadata": {},
   "source": [
    "# 本題要找出螞蟻共停在邊界上幾次 (\\#Array )\n",
    "原題目連結: https://leetcode.com/problems/ant-on-the-boundary/description/  \n",
    "\n",
    "An ant is on a boundary. It sometimes goes left and sometimes right.  \n",
    "You are given an array of non-zero integers nums. The ant starts reading nums from the first element of it to its end. At each step, it moves according to the value of the current element:  \n",
    "\n",
    "If nums[i] < 0, it moves left by -nums[i] units.  \n",
    "If nums[i] > 0, it moves right by nums[i] units.  \n",
    "Return the number of times the ant returns to the boundary.  \n",
    "\n",
    "範例:  \n",
    "Ex1:  \n",
    "Input: nums = [2,3,-5]  \n",
    "Output: 1  \n",
    "Explanation: After the first step, the ant is 2 steps to the right of the boundary.  \n",
    "After the second step, the ant is 5 steps to the right of the boundary.  \n",
    "After the third step, the ant is on the boundary.  \n",
    "So the answer is 1.  \n",
    "\n",
    "Ex2:  \n",
    "Input: nums = [3,2,-3,-4]  \n",
    "Output: 0  \n",
    "Explanation: After the first step, the ant is 3 steps to the right of the boundary.  \n",
    "After the second step, the ant is 5 steps to the right of the boundary.  \n",
    "After the third step, the ant is 2 steps to the right of the boundary.  \n",
    "After the fourth step, the ant is 2 steps to the left of the boundary.  \n",
    "The ant never returned to the boundary, so the answer is 0."
   ]
  },
  {
   "cell_type": "markdown",
   "id": "c21cf26b-ce24-49f8-be16-556bacff4427",
   "metadata": {},
   "source": [
    "* 解題想法:  \n",
    "本題要找出停在邊界上幾次，也就代表著目前位置為0的情況，因此將nums中的數值進行加總之後，共有幾次為0的情況就是答案"
   ]
  },
  {
   "cell_type": "code",
   "execution_count": null,
   "id": "9524e1d6-325b-4f35-ab6f-b5e502008150",
   "metadata": {},
   "outputs": [],
   "source": [
    "class Solution:\n",
    "    def returnToBoundaryCount(self, nums: List[int]) -> int:\n",
    "        res = 0\n",
    "        t = 0\n",
    "        for n in nums:\n",
    "            t += n\n",
    "            if t == 0:\n",
    "                res += 1\n",
    "        return res        "
   ]
  }
 ],
 "metadata": {
  "kernelspec": {
   "display_name": "Python 3 (ipykernel)",
   "language": "python",
   "name": "python3"
  },
  "language_info": {
   "codemirror_mode": {
    "name": "ipython",
    "version": 3
   },
   "file_extension": ".py",
   "mimetype": "text/x-python",
   "name": "python",
   "nbconvert_exporter": "python",
   "pygments_lexer": "ipython3",
   "version": "3.9.13"
  }
 },
 "nbformat": 4,
 "nbformat_minor": 5
}
