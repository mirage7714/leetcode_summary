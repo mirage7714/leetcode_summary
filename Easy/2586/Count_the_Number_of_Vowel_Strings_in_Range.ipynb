{
 "cells": [
  {
   "cell_type": "markdown",
   "id": "a91d6f37-b481-4fe7-975d-de4220a8cf46",
   "metadata": {},
   "source": [
    "# 本題要找出共有多少字串是母音開頭與結尾的 (\\#Array, \\#String)\n",
    "原題目連結: https://leetcode.com/problems/count-the-number-of-vowel-strings-in-range/description/  \n",
    "\n",
    "You are given a 0-indexed array of string words and two integers left and right.  \n",
    "\n",
    "A string is called a vowel string if it starts with a vowel character and ends with a vowel character where vowel characters are 'a', 'e', 'i', 'o', and 'u'.  \n",
    "\n",
    "Return the number of vowel strings words[i] where i belongs to the inclusive range [left, right].  \n",
    "\n",
    "範例:   \n",
    "Ex1:  \n",
    "Input: words = [\"are\",\"amy\",\"u\"], left = 0, right = 2  \n",
    "Output: 2  \n",
    "Explanation:   \n",
    "- \"are\" is a vowel string because it starts with 'a' and ends with 'e'.  \n",
    "- \"amy\" is not a vowel string because it does not end with a vowel.  \n",
    "- \"u\" is a vowel string because it starts with 'u' and ends with 'u'.  \n",
    "The number of vowel strings in the mentioned range is 2.  \n",
    "\n",
    "Ex2:  \n",
    "Input: words = [\"hey\",\"aeo\",\"mu\",\"ooo\",\"artro\"], left = 1, right = 4  \n",
    "Output: 3  \n",
    "Explanation:   \n",
    "- \"aeo\" is a vowel string because it starts with 'a' and ends with 'o'.  \n",
    "- \"mu\" is not a vowel string because it does not start with a vowel.  \n",
    "- \"ooo\" is a vowel string because it starts with 'o' and ends with 'o'.  \n",
    "- \"artro\" is a vowel string because it starts with 'a' and ends with 'o'.  \n",
    "The number of vowel strings in the mentioned range is 3."
   ]
  },
  {
   "cell_type": "markdown",
   "id": "c4a39dcf-bd33-4ebc-86ca-c6ac288daaf4",
   "metadata": {},
   "source": [
    "* 解題想法:  \n",
    "首先從left到right的範圍，找出字串是否符合題目的要求，如果符合則將計數加1，最後回傳計數值"
   ]
  },
  {
   "cell_type": "code",
   "execution_count": null,
   "id": "901e49e6-c881-455d-8cfc-b5729f4d740a",
   "metadata": {},
   "outputs": [],
   "source": [
    "class Solution:\n",
    "    def vowelStrings(self, words: List[str], left: int, right: int) -> int:\n",
    "        res = 0\n",
    "        v = ['a','e','i','o','u']\n",
    "        for i in range(left, right + 1):\n",
    "            w = words[i]\n",
    "            if w[0] in v and w[-1] in v:\n",
    "                res += 1\n",
    "        return res"
   ]
  }
 ],
 "metadata": {
  "kernelspec": {
   "display_name": "Python 3 (ipykernel)",
   "language": "python",
   "name": "python3"
  },
  "language_info": {
   "codemirror_mode": {
    "name": "ipython",
    "version": 3
   },
   "file_extension": ".py",
   "mimetype": "text/x-python",
   "name": "python",
   "nbconvert_exporter": "python",
   "pygments_lexer": "ipython3",
   "version": "3.9.13"
  }
 },
 "nbformat": 4,
 "nbformat_minor": 5
}
