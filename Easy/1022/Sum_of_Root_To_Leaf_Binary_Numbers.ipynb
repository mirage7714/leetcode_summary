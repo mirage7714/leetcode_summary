{
 "cells": [
  {
   "cell_type": "markdown",
   "metadata": {},
   "source": [
    "# 本題要將binary tree中的路徑由2進位轉換為10進位並找出總和\n",
    "原題目連結: https://leetcode.com/problems/sum-of-root-to-leaf-binary-numbers/  \n",
    "\n",
    "You are given the root of a binary tree where each node has a value 0 or 1. Each root-to-leaf path represents a binary number starting with the most significant bit.  \n",
    "\n",
    "For example, if the path is 0 -> 1 -> 1 -> 0 -> 1, then this could represent 01101 in binary, which is 13.  \n",
    "For all leaves in the tree, consider the numbers represented by the path from the root to that leaf. Return the sum of these numbers.  \n",
    "\n",
    "The test cases are generated so that the answer fits in a 32-bits integer.  \n",
    "\n",
    "範例:  \n",
    "Ex1:  \n",
    "Input: root = [1,0,1,0,1,0,1]  \n",
    "Output: 22  \n",
    "Explanation: (100) + (101) + (110) + (111) = 4 + 5 + 6 + 7 = 22  \n",
    "\n",
    "Ex2:  \n",
    "Input: root = [0]  \n",
    "Output: 0"
   ]
  },
  {
   "cell_type": "markdown",
   "metadata": {},
   "source": [
    "* 解題想法:  \n",
    "這題也是binary tree的路徑問題，首先建立一個construct函數，並將binary tree中的每條路徑都建立起來後由二進位轉換為十進位的數字，最後將數字相加就是答案"
   ]
  },
  {
   "cell_type": "code",
   "execution_count": null,
   "metadata": {},
   "outputs": [],
   "source": [
    "# Definition for a binary tree node.\n",
    "# class TreeNode:\n",
    "#     def __init__(self, val=0, left=None, right=None):\n",
    "#         self.val = val\n",
    "#         self.left = left\n",
    "#         self.right = right\n",
    "class Solution:\n",
    "    def sumRootToLeaf(self, root: TreeNode) -> int:\n",
    "        def construct(node, res):\n",
    "            res += str(node.val)\n",
    "            if not node.left and not node.right:\n",
    "                result.append(res)\n",
    "            else:\n",
    "                if node.left:\n",
    "                    construct(node.left, res)\n",
    "                if node.right:\n",
    "                    construct(node.right, res)\n",
    "        \n",
    "        result = []\n",
    "        total = 0\n",
    "        construct(root, '')\n",
    "        for r in result:\n",
    "            total += int(r, 2)\n",
    "        return total"
   ]
  }
 ],
 "metadata": {
  "kernelspec": {
   "display_name": "Python 3",
   "language": "python",
   "name": "python3"
  },
  "language_info": {
   "codemirror_mode": {
    "name": "ipython",
    "version": 3
   },
   "file_extension": ".py",
   "mimetype": "text/x-python",
   "name": "python",
   "nbconvert_exporter": "python",
   "pygments_lexer": "ipython3",
   "version": "3.7.4"
  }
 },
 "nbformat": 4,
 "nbformat_minor": 4
}
