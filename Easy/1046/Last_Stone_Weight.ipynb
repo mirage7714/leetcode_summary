{
 "cells": [
  {
   "cell_type": "markdown",
   "metadata": {},
   "source": [
    "# 找出剩下的石頭重量\n",
    "原題目連結：https://leetcode.com/problems/last-stone-weight/  \n",
    "\n",
    "範例：  \n",
    "Ex1:  \n",
    "Input: [2,7,4,1,8,1]  \n",
    "Output: 1"
   ]
  },
  {
   "cell_type": "markdown",
   "metadata": {},
   "source": [
    "* 解題想法：  \n",
    "依題目說明，需要先找出最重的兩顆(最大的兩個數值相減)，如果兩個數值相等則直接歸零  \n",
    "如果沒有歸零的話，剩下的重量再加回原本的array中  \n",
    "想到的作法是先對原本的array排序，並取出最後兩個值相減，如果不為零則重新加回array中  \n",
    "在arry長度小於一之前則繼續執行迴圈  \n",
    "如果最後array長度為0，則回傳0  \n",
    "如果長度為1，則回傳唯一的值"
   ]
  },
  {
   "cell_type": "code",
   "execution_count": null,
   "metadata": {},
   "outputs": [],
   "source": [
    "class Solution:\n",
    "    def lastStoneWeight(self, stones: List[int]) -> int:\n",
    "        stones.sort()\n",
    "        while True:\n",
    "            if len(stones) > 1:\n",
    "                left = stones[-1] - stones[-2]\n",
    "                stones = stones[:-2]\n",
    "                if left > 0: \n",
    "                    stones.append(left)\n",
    "                    stones.sort()\n",
    "            else:\n",
    "                break\n",
    "        if len(stones) > 0:\n",
    "            return stones[0]\n",
    "        else:\n",
    "            return 0"
   ]
  }
 ],
 "metadata": {
  "kernelspec": {
   "display_name": "Python 3",
   "language": "python",
   "name": "python3"
  },
  "language_info": {
   "codemirror_mode": {
    "name": "ipython",
    "version": 3
   },
   "file_extension": ".py",
   "mimetype": "text/x-python",
   "name": "python",
   "nbconvert_exporter": "python",
   "pygments_lexer": "ipython3",
   "version": "3.8.3"
  }
 },
 "nbformat": 4,
 "nbformat_minor": 4
}
