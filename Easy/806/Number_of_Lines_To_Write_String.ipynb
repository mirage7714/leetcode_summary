{
 "cells": [
  {
   "cell_type": "markdown",
   "id": "8b47a118-e3dd-4e3b-a310-60223bc1e157",
   "metadata": {},
   "source": [
    "# 本題要找出字母共有幾行 (\\#Array, \\#String )\n",
    "原題目連結：https://leetcode.com/problems/number-of-lines-to-write-string/description/  \n",
    "\n",
    "You are given a string s of lowercase English letters and an array widths denoting how many pixels wide each lowercase English letter is. Specifically, widths[0] is the width of 'a', widths[1] is the width of 'b', and so on.  \n",
    "\n",
    "You are trying to write s across several lines, where each line is no longer than 100 pixels. Starting at the beginning of s, write as many letters on the first line such that the total width does not exceed 100 pixels. Then, from where you stopped in s, continue writing as many letters as you can on the second line. Continue this process until you have written all of s.  \n",
    "\n",
    "Return an array result of length 2 where:  \n",
    "\n",
    "result[0] is the total number of lines.  \n",
    "result[1] is the width of the last line in pixels.  \n",
    "\n",
    "範例：  \n",
    "Ex1:  \n",
    "Input: widths = [10,10,10,10,10,10,10,10,10,10,10,10,10,10,10,10,10,10,10,10,10,10,10,10,10,10], s = \"abcdefghijklmnopqrstuvwxyz\"  \n",
    "Output: [3,60]  \n",
    "Explanation: You can write s as follows:  \n",
    "abcdefghij  // 100 pixels wide  \n",
    "klmnopqrst  // 100 pixels wide  \n",
    "uvwxyz      // 60 pixels wide  \n",
    "There are a total of 3 lines, and the last line is 60 pixels wide.  \n",
    "\n",
    "Ex2:  \n",
    "Input: widths = [4,10,10,10,10,10,10,10,10,10,10,10,10,10,10,10,10,10,10,10,10,10,10,10,10,10], s = \"bbbcccdddaaa\"  \n",
    "Output: [2,4]  \n",
    "Explanation: You can write s as follows:  \n",
    "bbbcccdddaa  // 98 pixels wide  \n",
    "a            // 4 pixels wide  \n",
    "There are a total of 2 lines, and the last line is 4 pixels wide."
   ]
  },
  {
   "cell_type": "markdown",
   "id": "df3c736c-c893-4e97-9c85-c607a55a711c",
   "metadata": {},
   "source": [
    "* 解題想法：  \n",
    "首先用一個變數來存放目前的行數以及目前行數的字元數，接著開始從頭找出該字的寬度，如果目前行數的寬度加上該字小於限制則繼續加到該行上，否則需要進行換行並更新目前的行數，最後回傳目前的行數與最後一行的寬度為多少"
   ]
  },
  {
   "cell_type": "code",
   "execution_count": null,
   "id": "deb05875-2c55-492b-9a8e-5eb2d6670261",
   "metadata": {},
   "outputs": [],
   "source": [
    "class Solution:\n",
    "    def numberOfLines(self, widths: List[int], s: str) -> List[int]:\n",
    "        res = []\n",
    "        temp = 0\n",
    "        line = 1\n",
    "        chars = ['a','b','c','d','e','f','g','h','i','j','k','l','m','n','o','p','q','r','s','t','u','v','w','x','y','z']\n",
    "        for i in s:\n",
    "            if temp + widths[chars.index(i)] <= 100:\n",
    "                temp += widths[chars.index(i)]\n",
    "            else:\n",
    "                line += 1\n",
    "                temp = widths[chars.index(i)]\n",
    "        res.append(line)\n",
    "        res.append(temp)\n",
    "        return res"
   ]
  }
 ],
 "metadata": {
  "kernelspec": {
   "display_name": "Python 3 (ipykernel)",
   "language": "python",
   "name": "python3"
  },
  "language_info": {
   "codemirror_mode": {
    "name": "ipython",
    "version": 3
   },
   "file_extension": ".py",
   "mimetype": "text/x-python",
   "name": "python",
   "nbconvert_exporter": "python",
   "pygments_lexer": "ipython3",
   "version": "3.10.9"
  }
 },
 "nbformat": 4,
 "nbformat_minor": 5
}
