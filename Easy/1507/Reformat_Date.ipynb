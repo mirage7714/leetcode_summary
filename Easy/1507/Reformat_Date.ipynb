{
 "cells": [
  {
   "cell_type": "markdown",
   "metadata": {},
   "source": [
    "# 這題其實就是把日期格式轉換而已，直接暴力解就可以了\n",
    "原題目連結：https://leetcode.com/problems/reformat-date/  \n",
    "\n",
    "範例：  \n",
    "Ex1:  \n",
    "Input: date = \"20th Oct 2052\"  \n",
    "Output: \"2052-10-20\"  \n",
    "\n",
    "Ex2:  \n",
    "Input: date = \"6th Jun 1933\"  \n",
    "Output: \"1933-06-06\"  \n",
    "\n",
    "Ex3:  \n",
    "Input: date = \"26th May 1960\"  \n",
    "Output: \"1960-05-26\""
   ]
  },
  {
   "cell_type": "markdown",
   "metadata": {},
   "source": [
    "* 解題想法：  \n",
    "由於格式是固定的，直接先用空白分割之後，再針對需要轉換的欄位進行轉換，最後組合成一個新的字串"
   ]
  },
  {
   "cell_type": "code",
   "execution_count": null,
   "metadata": {},
   "outputs": [],
   "source": [
    "class Solution:\n",
    "    def reformatDate(self, date: str) -> str:\n",
    "        months = {\n",
    "            'Jan':'01','Feb':'02','Mar':'03','Apr':'04','May':'05','Jun':'06','Jul':'07',\n",
    "            'Aug':'08','Sep':'09','Oct':'10','Nov':'11','Dec':'12'\n",
    "        }\n",
    "\n",
    "        d = date.split(' ')\n",
    "        day = d[0][:-2]\n",
    "        if len(day) == 1:\n",
    "            day = '0'+day\n",
    "        result = '{}-{}-{}'.format(d[-1], months[d[1]], day)\n",
    "        return result"
   ]
  }
 ],
 "metadata": {
  "kernelspec": {
   "display_name": "Python 3",
   "language": "python",
   "name": "python3"
  },
  "language_info": {
   "codemirror_mode": {
    "name": "ipython",
    "version": 3
   },
   "file_extension": ".py",
   "mimetype": "text/x-python",
   "name": "python",
   "nbconvert_exporter": "python",
   "pygments_lexer": "ipython3",
   "version": "3.8.3"
  }
 },
 "nbformat": 4,
 "nbformat_minor": 4
}
