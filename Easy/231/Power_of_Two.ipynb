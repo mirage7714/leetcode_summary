{
 "cells": [
  {
   "cell_type": "markdown",
   "metadata": {},
   "source": [
    "# 找出是否為2的次方\n",
    "原題目連結: https://leetcode.com/problems/power-of-two/  \n",
    "\n",
    "範例:  \n",
    "Ex1:  \n",
    "Input: n = 1  \n",
    "Output: true  \n",
    "\n",
    "Ex2:  \n",
    "Input: n = 16  \n",
    "Output: true  \n",
    "\n",
    "Ex3:  \n",
    "Input: n = 3  \n",
    "Output: false  "
   ]
  },
  {
   "cell_type": "markdown",
   "metadata": {},
   "source": [
    "* 解題想法:  \n",
    "乍看之下題目似乎不難，應該跟之前其他求次方的題目類似，但實際執行後發現卡在時間過不了  \n",
    "但換成用Java，一樣的寫法就會過了，所以應該就只是卡在奇怪的時間設定不能過而已"
   ]
  },
  {
   "cell_type": "code",
   "execution_count": 1,
   "metadata": {},
   "outputs": [],
   "source": [
    "class Solution:\n",
    "    def isPowerOfTwo(self, n: int) -> bool:\n",
    "        is_power = True\n",
    "        if n % 2 != 0 and n > 1:\n",
    "            is_power = False\n",
    "        else:\n",
    "            while True:\n",
    "                m = 0\n",
    "                v = pow(2,m)\n",
    "                if v < n :\n",
    "                    m += 1\n",
    "                elif v == n:\n",
    "                    break\n",
    "                else:\n",
    "                    is_power = False\n",
    "                    break\n",
    "        \n",
    "        return is_power"
   ]
  },
  {
   "cell_type": "markdown",
   "metadata": {},
   "source": [
    "另外貼上Java的解法，雖然在Jupyter notebook裡完全不能執行"
   ]
  },
  {
   "cell_type": "code",
   "execution_count": null,
   "metadata": {},
   "outputs": [],
   "source": [
    "'''\n",
    "class Solution {\n",
    "    public boolean isPowerOfTwo(int n) {\n",
    "        boolean isPower = true;\n",
    "        if (n % 2 != 0 && n > 1){\n",
    "            isPower = false;\n",
    "        }\n",
    "        else {\n",
    "            double m = 0.0;\n",
    "            while (true) {\n",
    "                double count = Math.pow(2.0, m);\n",
    "                if (count < n){\n",
    "                    m ++;\n",
    "                }\n",
    "                else if (Double.valueOf(count) == n) {\n",
    "                    break;\n",
    "                }\n",
    "                else {\n",
    "                    isPower = false;\n",
    "                    break;\n",
    "                }\n",
    "            }\n",
    "            \n",
    "        }\n",
    "        return isPower;\n",
    "    }\n",
    "}\n",
    "'''"
   ]
  },
  {
   "cell_type": "markdown",
   "metadata": {},
   "source": [
    "* 解題想法(20220401更新):  \n",
    "由於符合2的n次方的數值，再轉換成二進位之後應該只能有一個1，其餘都為0，因此首先判斷數值是否為偶數，如果為基數的話是否為1，否則都不可能為2的n次方，接著檢查n是否大於0，如果大於0的話則將n轉換為二進位字串，接著檢查字串中共有幾個1，如果有超過1個1則也不是2的n次方，最後回傳結果\n"
   ]
  },
  {
   "cell_type": "code",
   "execution_count": null,
   "metadata": {},
   "outputs": [],
   "source": [
    "class Solution:\n",
    "    def isPowerOfTwo(self, n: int) -> bool:\n",
    "        result = False\n",
    "        if n % 2 == 1:\n",
    "            if n == 1:\n",
    "                result = True\n",
    "        else:\n",
    "            if n > 0:\n",
    "                word = \"{0:b}\".format(n)\n",
    "                count = 0\n",
    "                for w in word:\n",
    "                    if w == '1':\n",
    "                        count += 1\n",
    "                if count == 1:\n",
    "                    result = True\n",
    "        return result"
   ]
  }
 ],
 "metadata": {
  "kernelspec": {
   "display_name": "Python 3",
   "language": "python",
   "name": "python3"
  },
  "language_info": {
   "codemirror_mode": {
    "name": "ipython",
    "version": 3
   },
   "file_extension": ".py",
   "mimetype": "text/x-python",
   "name": "python",
   "nbconvert_exporter": "python",
   "pygments_lexer": "ipython3",
   "version": "3.6.4"
  }
 },
 "nbformat": 4,
 "nbformat_minor": 2
}
