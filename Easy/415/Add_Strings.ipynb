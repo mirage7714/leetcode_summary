{
 "cells": [
  {
   "cell_type": "markdown",
   "metadata": {},
   "source": [
    "# 本題要找出兩個字串相加後的和為多少\n",
    "原題目連結: https://leetcode.com/problems/add-strings/  \n",
    "\n",
    "Given two non-negative integers, num1 and num2 represented as string, return the sum of num1 and num2 as a string.  \n",
    "\n",
    "You must solve the problem without using any built-in library for handling large integers (such as BigInteger). You must also not convert the inputs to integers directly.  \n",
    "\n",
    "範例:  \n",
    "Ex1:  \n",
    "Input: num1 = \"11\", num2 = \"123\"  \n",
    "Output: \"134\"  \n",
    "\n",
    "Ex2:  \n",
    "Input: num1 = \"456\", num2 = \"77\"  \n",
    "Output: \"533\"  \n",
    "\n",
    "Ex3:  \n",
    "Input: num1 = \"0\", num2 = \"0\"  \n",
    "Output: \"0\""
   ]
  },
  {
   "cell_type": "markdown",
   "metadata": {},
   "source": [
    "* 解題想法:  \n",
    "首先將兩個數字都拆成兩個list，接著計算每個index對應的值為多少，並將數值相加起來，最後將數值轉換為字串後回傳"
   ]
  },
  {
   "cell_type": "code",
   "execution_count": null,
   "metadata": {},
   "outputs": [],
   "source": [
    "class Solution:\n",
    "    def addStrings(self, num1: str, num2: str) -> str:\n",
    "        def getNums(nums):\n",
    "            digits = []\n",
    "            for n in nums:\n",
    "                digits.insert(0, n)\n",
    "            return digits\n",
    "        \n",
    "        total = 0\n",
    "        n1 = getNums(num1)\n",
    "        n2 = getNums(num2)\n",
    "        n = []\n",
    "        for m in range(max(len(n1), len(n2))):\n",
    "            if m < len(n1):\n",
    "                total += pow(10,m) * int(n1[m])\n",
    "            if m < len(n2):\n",
    "                total += pow(10,m) * int(n2[m])\n",
    "        return str(total)"
   ]
  }
 ],
 "metadata": {
  "kernelspec": {
   "display_name": "Python 3",
   "language": "python",
   "name": "python3"
  },
  "language_info": {
   "codemirror_mode": {
    "name": "ipython",
    "version": 3
   },
   "file_extension": ".py",
   "mimetype": "text/x-python",
   "name": "python",
   "nbconvert_exporter": "python",
   "pygments_lexer": "ipython3",
   "version": "3.7.4"
  }
 },
 "nbformat": 4,
 "nbformat_minor": 2
}
