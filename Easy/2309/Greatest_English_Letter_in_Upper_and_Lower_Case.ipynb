{
 "cells": [
  {
   "cell_type": "markdown",
   "metadata": {},
   "source": [
    "# 本題要找出大小寫字母有同時出現的字\n",
    "原題目連結: https://leetcode.com/problems/greatest-english-letter-in-upper-and-lower-case/  \n",
    "\n",
    "Given a string of English letters s, return the greatest English letter which occurs as both a lowercase and uppercase letter in s. The returned letter should be in uppercase. If no such letter exists, return an empty string.  \n",
    "\n",
    "An English letter b is greater than another letter a if b appears after a in the English alphabet.  \n",
    "\n",
    "範例:  \n",
    "Ex1:  \n",
    "Input: s = \"lEeTcOdE\"  \n",
    "Output: \"E\"  \n",
    "Explanation:  \n",
    "The letter 'E' is the only letter to appear in both lower and upper case.  \n",
    "\n",
    "Ex2:  \n",
    "Input: s = \"arRAzFif\"  \n",
    "Output: \"R\"  \n",
    "Explanation:  \n",
    "The letter 'R' is the greatest letter to appear in both lower and upper case.  \n",
    "Note that 'A' and 'F' also appear in both lower and upper case, but 'R' is greater than 'F' or 'A'.  \n",
    "\n",
    "Ex3:  \n",
    "Input: s = \"AbCdEfGhIjK\"  \n",
    "Output: \"\"  \n",
    "Explanation:  \n",
    "There is no letter that appears in both lower and upper case."
   ]
  },
  {
   "cell_type": "markdown",
   "metadata": {},
   "source": [
    "* 解題想法:  \n",
    "用一個dict來存放字母，接著開始將字串中的子母放入dict中，最後將dict中長度為2，且key最大的字母找出"
   ]
  },
  {
   "cell_type": "code",
   "execution_count": null,
   "metadata": {},
   "outputs": [],
   "source": [
    "class Solution:\n",
    "    def greatestLetter(self, s: str) -> str:\n",
    "        counts = {}\n",
    "        result = ''\n",
    "        for m in s:\n",
    "            l = m.upper()\n",
    "            if l not in counts.keys():\n",
    "                counts[l] = [m]\n",
    "            else:\n",
    "                if m not in counts[l]:\n",
    "                    counts[l].append(m)\n",
    "        for key, val in counts.items():\n",
    "            if len(val) == 2:\n",
    "                if key > result:\n",
    "                    result = key\n",
    "        return result"
   ]
  }
 ],
 "metadata": {
  "kernelspec": {
   "display_name": "Python 3",
   "language": "python",
   "name": "python3"
  },
  "language_info": {
   "codemirror_mode": {
    "name": "ipython",
    "version": 3
   },
   "file_extension": ".py",
   "mimetype": "text/x-python",
   "name": "python",
   "nbconvert_exporter": "python",
   "pygments_lexer": "ipython3",
   "version": "3.7.4"
  }
 },
 "nbformat": 4,
 "nbformat_minor": 4
}
