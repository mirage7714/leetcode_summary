{
 "cells": [
  {
   "cell_type": "markdown",
   "metadata": {},
   "source": [
    "# 本題要找出在給定的array中，最多有幾個相差為1的數字\n",
    "原題目連結: https://leetcode.com/problems/longest-harmonious-subsequence/  \n",
    "\n",
    "We define a harmonious array as an array where the difference between its maximum value and its minimum value is exactly 1.  \n",
    "\n",
    "Given an integer array nums, return the length of its longest harmonious subsequence among all its possible subsequences. \n",
    "\n",
    "A subsequence of array is a sequence that can be derived from the array by deleting some or no elements without changing the order of the remaining elements.  \n",
    "\n",
    "範例:  \n",
    "Ex1:  \n",
    "Input: nums = [1,3,2,2,5,2,3,7]  \n",
    "Output: 5  \n",
    "Explanation: The longest harmonious subsequence is [3,2,2,2,3].  \n",
    "\n",
    "Ex2:  \n",
    "Input: nums = [1,2,3,4]  \n",
    "Output: 2  \n",
    "\n",
    "Ex3:  \n",
    "Input: nums = [1,1,1,1]  \n",
    "Output: 0"
   ]
  },
  {
   "cell_type": "markdown",
   "metadata": {},
   "source": [
    "* 解題想法:  \n",
    "由於題目要找出最多的相差為1的數字，因此先將list中共有幾個數字，並找出相鄰為1的組合共有多少  \n",
    "並計算這些值出現的次數，找出最多的組合數即為最後的答案"
   ]
  },
  {
   "cell_type": "code",
   "execution_count": null,
   "metadata": {},
   "outputs": [],
   "source": [
    "class Solution:\n",
    "    def findLHS(self, nums: List[int]) -> int:\n",
    "        freq = {}\n",
    "        count = 0\n",
    "        for n in nums:\n",
    "            if n not in freq.keys():\n",
    "                freq[n] = 1\n",
    "            else:\n",
    "                freq[n] += 1\n",
    "        keys = list(freq.keys())\n",
    "        keys.sort()\n",
    "        if len(keys) > 1:\n",
    "            for m in range(len(keys) -1):\n",
    "                temp = 0\n",
    "                if keys[m] == keys[m+1] -1:\n",
    "                    temp = freq[keys[m]] + freq[keys[m+1]]\n",
    "                if temp > count:\n",
    "                    count = temp\n",
    "        return count"
   ]
  }
 ],
 "metadata": {
  "kernelspec": {
   "display_name": "Python 3",
   "language": "python",
   "name": "python3"
  },
  "language_info": {
   "codemirror_mode": {
    "name": "ipython",
    "version": 3
   },
   "file_extension": ".py",
   "mimetype": "text/x-python",
   "name": "python",
   "nbconvert_exporter": "python",
   "pygments_lexer": "ipython3",
   "version": "3.7.4"
  }
 },
 "nbformat": 4,
 "nbformat_minor": 2
}
