{
 "cells": [
  {
   "cell_type": "markdown",
   "metadata": {},
   "source": [
    "# 本題要實作一個hashmap出來\n",
    "原題目連結: https://leetcode.com/problems/design-hashmap/  \n",
    "\n",
    "Design a HashMap without using any built-in hash table libraries.  \n",
    "\n",
    "Implement the MyHashMap class:  \n",
    "\n",
    "MyHashMap() initializes the object with an empty map.  \n",
    "void put(int key, int value) inserts a (key, value) pair into the HashMap. If the key already exists in the map, update the corresponding value.  \n",
    "int get(int key) returns the value to which the specified key is mapped, or -1 if this map contains no mapping for the key.  \n",
    "void remove(key) removes the key and its corresponding value if the map contains the mapping for the key.  \n",
    "\n",
    "範例:  \n",
    "Ex1:  \n",
    "Input  \n",
    "[\"MyHashMap\", \"put\", \"put\", \"get\", \"get\", \"put\", \"get\", \"remove\", \"get\"]  \n",
    "[[], [1, 1], [2, 2], [1], [3], [2, 1], [2], [2], [2]]  \n",
    "Output  \n",
    "[null, null, null, 1, -1, null, 1, null, -1]  \n",
    "\n",
    "Explanation  \n",
    "MyHashMap myHashMap = new MyHashMap();    \n",
    "myHashMap.put(1, 1); // The map is now [[1,1]]  \n",
    "myHashMap.put(2, 2); // The map is now [[1,1], [2,2]]  \n",
    "myHashMap.get(1);    // return 1, The map is now [[1,1], [2,2]]  \n",
    "myHashMap.get(3);    // return -1 (i.e., not found), The map is now [[1,1], [2,2]]  \n",
    "myHashMap.put(2, 1); // The map is now [[1,1], [2,1]] (i.e., update the existing value)  \n",
    "myHashMap.get(2);    // return 1, The map is now [[1,1], [2,1]]  \n",
    "myHashMap.remove(2); // remove the mapping for 2, The map is now [[1,1]]  \n",
    "myHashMap.get(2);    // return -1 (i.e., not found), The map is now [[1,1]]  "
   ]
  },
  {
   "cell_type": "markdown",
   "metadata": {},
   "source": [
    "* 解題想法:  \n",
    "由於題目要求不要用內建的hashmap函數，因此這邊用了兩個list來進行實作: 一個list存放key，另一個存放value，兩個使用index來進行對應  \n",
    "- put(): 首先檢查key值是否有出現在key list中，如果有的話則找出key對應的index，並將value進行更新，否則就是append到最後  \n",
    "- get(): 檢查key值是否有在key list中出現過，如果有的話則用index找出對應的value，否則回傳-1  \n",
    "- remove(): 檢查key值是否有在key list值中出現，如果有的話則找出index後將key與value中對應的值都刪除"
   ]
  },
  {
   "cell_type": "code",
   "execution_count": null,
   "metadata": {},
   "outputs": [],
   "source": [
    "class MyHashMap:\n",
    "\n",
    "    def __init__(self):\n",
    "        \"\"\"\n",
    "        Initialize your data structure here.\n",
    "        \"\"\"\n",
    "        self.keys = []\n",
    "        self.values = []\n",
    "\n",
    "    def put(self, key: int, value: int) -> None:\n",
    "        \"\"\"\n",
    "        value will always be non-negative.\n",
    "        \"\"\"\n",
    "        if key not in self.keys:\n",
    "            self.keys.append(key)\n",
    "            self.values.append(value)\n",
    "        else:\n",
    "            i = self.keys.index(key)\n",
    "            self.values[i] = value\n",
    "\n",
    "    def get(self, key: int) -> int:\n",
    "        \"\"\"\n",
    "        Returns the value to which the specified key is mapped, or -1 if this map contains no mapping for the key\n",
    "        \"\"\"\n",
    "        if key not in self.keys:\n",
    "            return -1\n",
    "        else:\n",
    "            i = self.keys.index(key)\n",
    "            return self.values[i]\n",
    "\n",
    "    def remove(self, key: int) -> None:\n",
    "        \"\"\"\n",
    "        Removes the mapping of the specified value key if this map contains a mapping for the key\n",
    "        \"\"\"\n",
    "        if key in self.keys:\n",
    "            i = self.keys.index(key)\n",
    "            self.keys.pop(i)\n",
    "            self.values.pop(i)\n",
    "\n",
    "\n",
    "# Your MyHashMap object will be instantiated and called as such:\n",
    "# obj = MyHashMap()\n",
    "# obj.put(key,value)\n",
    "# param_2 = obj.get(key)\n",
    "# obj.remove(key)"
   ]
  }
 ],
 "metadata": {
  "kernelspec": {
   "display_name": "Python 3",
   "language": "python",
   "name": "python3"
  },
  "language_info": {
   "codemirror_mode": {
    "name": "ipython",
    "version": 3
   },
   "file_extension": ".py",
   "mimetype": "text/x-python",
   "name": "python",
   "nbconvert_exporter": "python",
   "pygments_lexer": "ipython3",
   "version": "3.7.4"
  }
 },
 "nbformat": 4,
 "nbformat_minor": 2
}
