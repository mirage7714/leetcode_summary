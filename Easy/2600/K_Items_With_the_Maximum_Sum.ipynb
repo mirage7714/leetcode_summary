{
 "cells": [
  {
   "cell_type": "markdown",
   "id": "2f463703-5cd2-4442-9464-31acade9638c",
   "metadata": {},
   "source": [
    "# 本題要計算最大的總和為多少 (\\#Math)\n",
    "原題目連結: https://leetcode.com/problems/k-items-with-the-maximum-sum/description/  \n",
    "\n",
    "There is a bag that consists of items, each item has a number 1, 0, or -1 written on it.  \n",
    "You are given four non-negative integers numOnes, numZeros, numNegOnes, and k.  \n",
    "The bag initially contains:  \n",
    "\n",
    "numOnes items with 1s written on them.  \n",
    "numZeroes items with 0s written on them.  \n",
    "numNegOnes items with -1s written on them.  \n",
    "We want to pick exactly k items among the available items. Return the maximum possible sum of numbers written on the items.  \n",
    "\n",
    "範例:  \n",
    "Ex1:  \n",
    "Input: numOnes = 3, numZeros = 2, numNegOnes = 0, k = 2  \n",
    "Output: 2   \n",
    "Explanation: We have a bag of items with numbers written on them {1, 1, 1, 0, 0}. We take 2 items with 1 written on them and get a sum in a total of 2.  \n",
    "It can be proven that 2 is the maximum possible sum.  \n",
    "\n",
    "Ex2:  \n",
    "Input: numOnes = 3, numZeros = 2, numNegOnes = 0, k = 4  \n",
    "Output: 3  \n",
    "Explanation: We have a bag of items with numbers written on them {1, 1, 1, 0, 0}. We take 3 items with 1 written on them, and 1 item with 0 written on it, and get a sum in a total of 3.  \n",
    "It can be proven that 3 is the maximum possible sum."
   ]
  },
  {
   "cell_type": "markdown",
   "id": "5c08a2e6-1e93-4563-9fcf-8c6252d72196",
   "metadata": {},
   "source": [
    "* 解題想法:  \n",
    "首先檢查numOnes是否有大於等於k，如果有的話則最大值就是k，如果沒有的情況下則檢查numOnes+numZeros是否有大於等於k，如果有的話則最大值為numOnes，否則就是需要減去剩下的數值才是最大值"
   ]
  },
  {
   "cell_type": "code",
   "execution_count": null,
   "id": "002b66bc-b9ca-4f33-914e-101390e6f2a8",
   "metadata": {},
   "outputs": [],
   "source": [
    "class Solution:\n",
    "    def kItemsWithMaximumSum(self, numOnes: int, numZeros: int, numNegOnes: int, k: int) -> int:\n",
    "        if numOnes >= k:\n",
    "            return k\n",
    "        else:\n",
    "            if numOnes + numZeros >= k:\n",
    "                return numOnes\n",
    "            else:\n",
    "                return numOnes - (k - numOnes - numZeros)"
   ]
  }
 ],
 "metadata": {
  "kernelspec": {
   "display_name": "Python 3 (ipykernel)",
   "language": "python",
   "name": "python3"
  },
  "language_info": {
   "codemirror_mode": {
    "name": "ipython",
    "version": 3
   },
   "file_extension": ".py",
   "mimetype": "text/x-python",
   "name": "python",
   "nbconvert_exporter": "python",
   "pygments_lexer": "ipython3",
   "version": "3.9.13"
  }
 },
 "nbformat": 4,
 "nbformat_minor": 5
}
