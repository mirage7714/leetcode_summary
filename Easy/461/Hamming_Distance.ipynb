{
 "cells": [
  {
   "cell_type": "markdown",
   "metadata": {},
   "source": [
    "# 本題中要找出兩個數字間，轉換為2進位後有多少不同的位數\n",
    "原題目連結: https://leetcode.com/problems/hamming-distance/  \n",
    "\n",
    "The Hamming distance between two integers is the number of positions at which the corresponding bits are different.  \n",
    "Given two integers x and y, calculate the Hamming distance.  \n",
    "\n",
    "範例:  \n",
    "Ex1:  \n",
    "Input: x = 1, y = 4  \n",
    "Output: 2  \n",
    "Explanation:  \n",
    "1   (0 0 0 1)  \n",
    "4   (0 1 0 0)  \n",
    "The above arrows point to positions where the corresponding bits are different.  \n"
   ]
  },
  {
   "cell_type": "markdown",
   "metadata": {},
   "source": [
    "* 解題想法:  \n",
    "由於題目是要找出對應的bits之間不同的數量，因此將兩個整數都轉換為二進位之後，再用字串間的比較找出不同的數量  \n",
    "最後回傳不同的數量就是題目要求的答案"
   ]
  },
  {
   "cell_type": "code",
   "execution_count": null,
   "metadata": {},
   "outputs": [],
   "source": [
    "class Solution:\n",
    "    def hammingDistance(self, x: int, y: int) -> int:\n",
    "        bin_x = bin(x)[2:]\n",
    "        bin_y = bin(y)[2:]\n",
    "        count = 0\n",
    "        if len(bin_x) > len(bin_y):\n",
    "            for n in range(len(bin_x) - len(bin_y)):\n",
    "                bin_y = '0'+bin_y\n",
    "        else:\n",
    "            for m in range(len(bin_y) - len(bin_x)):\n",
    "                bin_x = '0'+bin_x\n",
    "        for l in range(len(bin_x)):\n",
    "            if bin_x[l] != bin_y[l]:\n",
    "                count += 1\n",
    "        return count\n",
    "        "
   ]
  }
 ],
 "metadata": {
  "kernelspec": {
   "display_name": "Python 3",
   "language": "python",
   "name": "python3"
  },
  "language_info": {
   "codemirror_mode": {
    "name": "ipython",
    "version": 3
   },
   "file_extension": ".py",
   "mimetype": "text/x-python",
   "name": "python",
   "nbconvert_exporter": "python",
   "pygments_lexer": "ipython3",
   "version": "3.7.4"
  }
 },
 "nbformat": 4,
 "nbformat_minor": 2
}
