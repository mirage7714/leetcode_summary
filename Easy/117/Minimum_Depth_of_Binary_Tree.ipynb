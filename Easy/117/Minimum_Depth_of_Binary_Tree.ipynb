{
 "cells": [
  {
   "cell_type": "markdown",
   "metadata": {},
   "source": [
    "# 本題要找出樹中最小的高度為何\n",
    "原題目連結: https://leetcode.com/problems/minimum-depth-of-binary-tree/  \n",
    "\n",
    "Given a binary tree, find its minimum depth.  \n",
    "\n",
    "The minimum depth is the number of nodes along the shortest path from the root node down to the nearest leaf node.  \n",
    "\n",
    "Note: A leaf is a node with no children.  \n",
    "\n",
    "範例:  \n",
    "Ex1:  \n",
    "Input: root = [3,9,20,null,null,15,7]  \n",
    "Output: 2  \n",
    "\n",
    "Ex2:  \n",
    "Input: root = [2,null,3,null,4,null,5,null,6]  \n",
    "Output: 5"
   ]
  },
  {
   "cell_type": "markdown",
   "metadata": {},
   "source": [
    "* 解題想法:  \n",
    "依題目定義，需要找到沒有任何分枝的情況下才是符合題目要求的節點，而由於題目要找的是最小高度，因此這邊使用BFS的方式來進行走訪  \n",
    "首先檢查每一層中的每個節點是否還有往下的分支，如果有則放入一個暫存的list中，等這層的節點全部走訪完畢後，將層數加1並繼續往下一層走訪，當走到一層有節點已經無下一層可繼續走訪時，則是題目要找的最小高度，因此在這層即可中斷迴圈並回傳結果"
   ]
  },
  {
   "cell_type": "code",
   "execution_count": null,
   "metadata": {},
   "outputs": [],
   "source": [
    "# Definition for a binary tree node.\n",
    "# class TreeNode:\n",
    "#     def __init__(self, val=0, left=None, right=None):\n",
    "#         self.val = val\n",
    "#         self.left = left\n",
    "#         self.right = right\n",
    "class Solution:\n",
    "    def minDepth(self, root: TreeNode) -> int:\n",
    "        result = 0\n",
    "        temp = []\n",
    "        if root != None:\n",
    "            temp.append([root])\n",
    "            result += 1\n",
    "            while len(temp) > 0:\n",
    "                nodes = []\n",
    "                current = temp[0]\n",
    "                is_end = False\n",
    "                for c in current:\n",
    "                    if c.left == None and c.right == None:\n",
    "                        is_end = True\n",
    "                        break\n",
    "                    else:\n",
    "                        if c.left != None:\n",
    "                            nodes.append(c.left)\n",
    "                        if c.right != None:\n",
    "                            nodes.append(c.right)\n",
    "                        \n",
    "                if not is_end:\n",
    "                    temp.append(nodes)\n",
    "                    result += 1\n",
    "                temp.pop(0)\n",
    "        return result"
   ]
  }
 ],
 "metadata": {
  "kernelspec": {
   "display_name": "Python 3",
   "language": "python",
   "name": "python3"
  },
  "language_info": {
   "codemirror_mode": {
    "name": "ipython",
    "version": 3
   },
   "file_extension": ".py",
   "mimetype": "text/x-python",
   "name": "python",
   "nbconvert_exporter": "python",
   "pygments_lexer": "ipython3",
   "version": "3.7.4"
  }
 },
 "nbformat": 4,
 "nbformat_minor": 4
}
