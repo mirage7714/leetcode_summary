{
 "cells": [
  {
   "cell_type": "markdown",
   "metadata": {},
   "source": [
    "# 本題要找出長度為k的sublist最大平均值為多少\n",
    "原題目連結: https://leetcode.com/problems/maximum-average-subarray-i/  \n",
    "\n",
    "You are given an integer array nums consisting of n elements, and an integer k.  \n",
    "Find a contiguous subarray whose length is equal to k that has the maximum average value and return this value. Any answer with a calculation error less than 10-5 will be accepted.  \n",
    "\n",
    "範例:  \n",
    "Ex1:  \n",
    "Input: nums = [1,12,-5,-6,50,3], k = 4  \n",
    "Output: 12.75000  \n",
    "Explanation: Maximum average is (12 - 5 - 6 + 50) / 4 = 51 / 4 = 12.75   \n",
    "\n",
    "Ex2:   \n",
    "Input: nums = [5], k = 1  \n",
    "Output: 5.00000"
   ]
  },
  {
   "cell_type": "markdown",
   "metadata": {},
   "source": [
    "* 解題想法:  \n",
    "首先找出第一個長度為k的sublist，並計算出總和還有平均值，並把平均值放入結果，接著開始從k到最後進行迴圈，每次都加上後面一個新的數值並把最前面的一個移除，並把平均值與原本的平均值比大小並留下最大的平均值最後回傳最大的平均值"
   ]
  },
  {
   "cell_type": "code",
   "execution_count": null,
   "metadata": {},
   "outputs": [],
   "source": [
    "class Solution:\n",
    "    def findMaxAverage(self, nums: List[int], k: int) -> float:\n",
    "        start = nums[0:k]\n",
    "        total = 0\n",
    "        for s in start:\n",
    "            total += s\n",
    "        result = total / k\n",
    "        for m in range(k, len(nums)):\n",
    "            total += nums[m]\n",
    "            total -= nums[m-k]\n",
    "            result = max(result, total / k)\n",
    "        return result"
   ]
  }
 ],
 "metadata": {
  "kernelspec": {
   "display_name": "Python 3",
   "language": "python",
   "name": "python3"
  },
  "language_info": {
   "codemirror_mode": {
    "name": "ipython",
    "version": 3
   },
   "file_extension": ".py",
   "mimetype": "text/x-python",
   "name": "python",
   "nbconvert_exporter": "python",
   "pygments_lexer": "ipython3",
   "version": "3.7.4"
  }
 },
 "nbformat": 4,
 "nbformat_minor": 4
}
