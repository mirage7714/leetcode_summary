{
 "cells": [
  {
   "cell_type": "markdown",
   "metadata": {},
   "source": [
    "# 本題要找出最大的子array和為多少\n",
    "原題目連結: https://leetcode.com/problems/maximum-ascending-subarray-sum/  \n",
    "\n",
    "Given an array of positive integers nums, return the maximum possible sum of an ascending subarray in nums.  \n",
    "\n",
    "A subarray is defined as a contiguous sequence of numbers in an array.  \n",
    "\n",
    "A subarray [numsl, numsl+1, ..., numsr-1, numsr] is ascending if for all i where l <= i < r, numsi < numsi+1. Note that a subarray of size 1 is ascending.  \n",
    "\n",
    "範例:  \n",
    "Ex1:  \n",
    "Input: nums = [10,20,30,5,10,50]  \n",
    "Output: 65  \n",
    "Explanation: [5,10,50] is the ascending subarray with the maximum sum of 65.  \n",
    "\n",
    "Ex2:  \n",
    "Input: nums = [10,20,30,40,50]  \n",
    "Output: 150  \n",
    "Explanation: [10,20,30,40,50] is the ascending subarray with the maximum sum of 150.  \n",
    "\n",
    "Ex3:  \n",
    "Input: nums = [12,17,15,13,10,11,12]  \n",
    "Output: 33  \n",
    "Explanation: [10,11,12] is the ascending subarray with the maximum sum of 33.  \n",
    "\n",
    "Ex4:  \n",
    "Input: nums = [100,10,1]  \n",
    "Output: 100"
   ]
  },
  {
   "cell_type": "markdown",
   "metadata": {},
   "source": [
    "* 解題想法:  \n",
    "依題目要求，要找出在遞增的情況下最大的子list和為多少，因此先找出與下一個數字是否為遞增或遞減，如果為遞增則將數字放入一個暫存的list中，如果為遞減則將暫存list中的數字加起來後放入另一個list中，最後統計結果的list中最大值為何"
   ]
  },
  {
   "cell_type": "code",
   "execution_count": null,
   "metadata": {},
   "outputs": [],
   "source": [
    "class Solution:\n",
    "    def maxAscendingSum(self, nums: List[int]) -> int:\n",
    "        result = []\n",
    "        temp = []\n",
    "        if len(nums) > 1:\n",
    "            for n in range(len(nums) -1):\n",
    "                if nums[n] >= nums[n+1]:\n",
    "                    temp.append(nums[n])\n",
    "                    total = 0\n",
    "                    for t in temp:\n",
    "                        total += t\n",
    "                    result.append(total)\n",
    "                    temp.clear()\n",
    "                else:\n",
    "                    temp.append(nums[n])\n",
    "            if nums[-1] > nums[-2]:\n",
    "                temp.append(nums[-1])\n",
    "            else:\n",
    "                result.append(nums[-1])\n",
    "            if len(temp) != 0:\n",
    "                total = 0\n",
    "                for t in temp:\n",
    "                    total += t\n",
    "                result.append(total)\n",
    "        else:\n",
    "            result.append(nums[0])\n",
    "        return max(result)\n",
    "            "
   ]
  }
 ],
 "metadata": {
  "kernelspec": {
   "display_name": "Python 3",
   "language": "python",
   "name": "python3"
  },
  "language_info": {
   "codemirror_mode": {
    "name": "ipython",
    "version": 3
   },
   "file_extension": ".py",
   "mimetype": "text/x-python",
   "name": "python",
   "nbconvert_exporter": "python",
   "pygments_lexer": "ipython3",
   "version": "3.7.4"
  }
 },
 "nbformat": 4,
 "nbformat_minor": 2
}
