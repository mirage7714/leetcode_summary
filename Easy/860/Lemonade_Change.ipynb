{
 "cells": [
  {
   "cell_type": "markdown",
   "metadata": {},
   "source": [
    "# 本題要找出在輸入的list中，能否符合可以找出錢的情境\n",
    "原題目連結： https://leetcode.com/problems/lemonade-change/  \n",
    "\n",
    "範例：  \n",
    "Ex1:  \n",
    "Input: [5,5,5,10,20]  \n",
    "Output: true  \n",
    "Explanation:   \n",
    "From the first 3 customers, we collect three 5 dollars bills in order.  \n",
    "From the fourth customer, we collect a 10 dollars bill and give back a 5 dollars.  \n",
    "From the fifth customer, we give a $10 bill and a 5 dollars bill.  \n",
    "Since all customers got correct change, we output true.  \n",
    "\n",
    "Ex2:  \n",
    "Input: [5,5,10]  \n",
    "Output: true  \n",
    "\n",
    "Ex3:  \n",
    "Input: [10,10]  \n",
    "Output: false  \n",
    "\n",
    "Ex4:  \n",
    "Input: [5,5,10,10,20]  \n",
    "Output: false  \n",
    "Explanation:   \n",
    "From the first two customers in order, we collect two 5 dollars bills.  \n",
    "For the next two customers in order, we collect a 10 dollars bill and give back a 5 dollars bill.  \n",
    "For the last customer, we can't give change of $15 back because we only have two 10 dollars bills.  \n",
    "Since not every customer received correct change, the answer is false.  "
   ]
  },
  {
   "cell_type": "markdown",
   "metadata": {},
   "source": [
    "* 解題想法：  \n",
    "剛開始的時候想要從剩餘的零錢角度出發，但後來發現這樣解法不太好，後面找不太出來問題在哪  \n",
    "卡了幾天之後，重新回去看問題，覺得可以從收到的金額角度出發來判斷，如果收到是10元，則只需要確認5塊的剩餘數量  \n",
    "如果是收到20塊的話，需要確認10塊與5塊的數量，這個問題中最有趣的是20元並不能轉換成2個10元，所以不需要統計20元的數量，因為完全用不到  \n",
    "\n"
   ]
  },
  {
   "cell_type": "code",
   "execution_count": null,
   "metadata": {},
   "outputs": [],
   "source": [
    "class Solution:\n",
    "    def lemonadeChange(self, bills: List[int]) -> bool:\n",
    "        changes_5 = 0\n",
    "        changes_10 = 0\n",
    "        is_payable = True\n",
    "        if bills[0] != 5:\n",
    "            is_payable = False\n",
    "        else:\n",
    "            for n in range(len(bills)):\n",
    "                if bills[n] == 5:\n",
    "                    changes_5 += 1\n",
    "                else:\n",
    "                    if changes_5 == 0:\n",
    "                        is_payable = False\n",
    "                        break\n",
    "                    elif bills[n] == 10:\n",
    "                        changes_5 -= 1\n",
    "                        changes_10 += 1\n",
    "                    elif bills[n] == 20:\n",
    "                        if changes_10 == 0:\n",
    "                            if changes_5 < 3:\n",
    "                                is_payable = False\n",
    "                                break\n",
    "                            else:\n",
    "                                changes_5 -= 3\n",
    "                        else:\n",
    "                            changes_10 -= 1\n",
    "                            changes_5 -= 1\n",
    "        return is_payable\n",
    "    "
   ]
  }
 ],
 "metadata": {
  "kernelspec": {
   "display_name": "Python 3",
   "language": "python",
   "name": "python3"
  },
  "language_info": {
   "codemirror_mode": {
    "name": "ipython",
    "version": 3
   },
   "file_extension": ".py",
   "mimetype": "text/x-python",
   "name": "python",
   "nbconvert_exporter": "python",
   "pygments_lexer": "ipython3",
   "version": "3.8.3"
  }
 },
 "nbformat": 4,
 "nbformat_minor": 4
}
