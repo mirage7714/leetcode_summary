{
 "cells": [
  {
   "cell_type": "markdown",
   "metadata": {},
   "source": [
    "# 找出Array中最大值的index\n",
    "原題目連結：https://leetcode.com/problems/peak-index-in-a-mountain-array/  \n",
    "\n",
    "範例：  \n",
    "Ex1:  \n",
    "Input: arr = [0,1,0]  \n",
    "Output: 1  \n",
    "\n",
    "Ex2:  \n",
    "Input: arr = [24,69,100,99,79,78,67,36,26,19]  \n",
    "Output: 2  "
   ]
  },
  {
   "cell_type": "markdown",
   "metadata": {},
   "source": [
    "* 解題邏輯：  \n",
    "先找出Array中的最大值，自"
   ]
  }
 ],
 "metadata": {
  "kernelspec": {
   "display_name": "Python 3",
   "language": "python",
   "name": "python3"
  },
  "language_info": {
   "codemirror_mode": {
    "name": "ipython",
    "version": 3
   },
   "file_extension": ".py",
   "mimetype": "text/x-python",
   "name": "python",
   "nbconvert_exporter": "python",
   "pygments_lexer": "ipython3",
   "version": "3.8.3"
  }
 },
 "nbformat": 4,
 "nbformat_minor": 4
}
