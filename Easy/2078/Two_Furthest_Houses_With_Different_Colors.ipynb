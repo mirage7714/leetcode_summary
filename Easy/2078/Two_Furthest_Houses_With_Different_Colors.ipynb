{
 "cells": [
  {
   "cell_type": "markdown",
   "metadata": {},
   "source": [
    "# 本題要找出兩個顏色間最大距離為多少\n",
    "原題目連結: https://leetcode.com/problems/two-furthest-houses-with-different-colors/  \n",
    "\n",
    "There are n houses evenly lined up on the street, and each house is beautifully painted. You are given a 0-indexed integer array colors of length n, where colors[i] represents the color of the ith house.  \n",
    "\n",
    "Return the maximum distance between two houses with different colors.  \n",
    "\n",
    "The distance between the ith and jth houses is abs(i - j), where abs(x) is the absolute value of x.  \n",
    "\n",
    "範例:  \n",
    "Ex1:  \n",
    "Input: colors = [1,1,1,6,1,1,1]  \n",
    "Output: 3  \n",
    "Explanation: In the above image, color 1 is blue, and color 6 is red.  \n",
    "The furthest two houses with different colors are house 0 and house 3.  \n",
    "House 0 has color 1, and house 3 has color 6. The distance between them is abs(0 - 3) = 3.  \n",
    "Note that houses 3 and 6 can also produce the optimal answer.  \n",
    "\n",
    "Ex2:  \n",
    "Input: colors = [1,8,3,8,3]  \n",
    "Output: 4  \n",
    "Explanation: In the above image, color 1 is blue, color 8 is yellow, and color 3 is green.  \n",
    "The furthest two houses with different colors are house 0 and house 4.  \n",
    "House 0 has color 1, and house 4 has color 3. The distance between them is abs(0 - 4) = 4.  \n",
    "\n",
    "Ex3:  \n",
    "Input: colors = [0,1]  \n",
    "Output: 1  \n",
    "Explanation: The furthest two houses with different colors are house 0 and house 1.  \n",
    "House 0 has color 0, and house 1 has color 1. The distance between them is abs(0 - 1) = 1."
   ]
  },
  {
   "cell_type": "markdown",
   "metadata": {},
   "source": [
    "* 解題想法:  \n",
    "由於要找出兩個顏色間的最大距離為多少，因此首先要找出每個顏色分布的情況，接著找出每個顏色的分布最大值與最小值分別為多少，並用兩個顏色的直來進行比較，最後找出兩個顏色間的距離最大值為多少"
   ]
  },
  {
   "cell_type": "code",
   "execution_count": null,
   "metadata": {},
   "outputs": [],
   "source": [
    "class Solution:\n",
    "    def maxDistance(self, colors: List[int]) -> int:\n",
    "        result = 0\n",
    "        freq = {}\n",
    "        for m in range(len(colors)):\n",
    "            if colors[m] not in freq.keys():\n",
    "                freq[colors[m]] = [m]\n",
    "            else:\n",
    "                freq[colors[m]].append(m)\n",
    "        keys = list(freq.keys())\n",
    "        for i in range(len(keys)-1):\n",
    "            max_i = max(freq[keys[i]])\n",
    "            min_i = min(freq[keys[i]])\n",
    "            for j in range(i+1, len(keys)):\n",
    "                min_j = min(freq[keys[j]])\n",
    "                max_j = max(freq[keys[j]])\n",
    "                p = max(abs(max_i - max_j), abs(min_i - max_j), abs(max_i - min_j), abs(min_i - min_j))\n",
    "                if p > result:\n",
    "                    result = p\n",
    "        return result"
   ]
  }
 ],
 "metadata": {
  "kernelspec": {
   "display_name": "Python 3",
   "language": "python",
   "name": "python3"
  },
  "language_info": {
   "codemirror_mode": {
    "name": "ipython",
    "version": 3
   },
   "file_extension": ".py",
   "mimetype": "text/x-python",
   "name": "python",
   "nbconvert_exporter": "python",
   "pygments_lexer": "ipython3",
   "version": "3.7.4"
  }
 },
 "nbformat": 4,
 "nbformat_minor": 4
}
