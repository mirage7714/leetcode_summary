{
 "cells": [
  {
   "cell_type": "markdown",
   "metadata": {},
   "source": [
    "# 本題要找出數字和為偶數的數在範圍內共有多少個\n",
    "原題目連結: https://leetcode.com/problems/count-integers-with-even-digit-sum/  \n",
    "\n",
    "Given a positive integer num, return the number of positive integers less than or equal to num whose digit sums are even.  \n",
    "\n",
    "The digit sum of a positive integer is the sum of all its digits.  \n",
    "\n",
    "範例:  \n",
    "Ex1:  \n",
    "Input: num = 4  \n",
    "Output: 2  \n",
    "Explanation:  \n",
    "The only integers less than or equal to 4 whose digit sums are even are 2 and 4.   \n",
    "\n",
    "Ex2:  \n",
    "Input: num = 30  \n",
    "Output: 14  \n",
    "Explanation:  \n",
    "The 14 integers less than or equal to 30 whose digit sums are even are  \n",
    "2, 4, 6, 8, 11, 13, 15, 17, 19, 20, 22, 24, 26, and 28.  "
   ]
  },
  {
   "cell_type": "markdown",
   "metadata": {},
   "source": [
    "* 解題想法:  \n",
    "首先建立一個函數來檢查是不是符合數字和為偶數的條件，接著檢查最後一個數值，如果符合條件，則範圍內應該有n/2個數字也符合條件，如果不符合，則範圍內應該有(n-1)/2個整數符合條件"
   ]
  },
  {
   "cell_type": "code",
   "execution_count": null,
   "metadata": {},
   "outputs": [],
   "source": [
    "class Solution:\n",
    "    def countEven(self, num: int) -> int:\n",
    "        def checkIsEven(num):\n",
    "            s_num = str(num)\n",
    "            t = 0\n",
    "            for s in s_num:\n",
    "                t += int(s)\n",
    "            if t % 2 == 0:\n",
    "                return True\n",
    "            return False\n",
    "\n",
    "        if checkIsEven(num):\n",
    "            return int(num/2)\n",
    "        else:\n",
    "            return int((num-1)/2)"
   ]
  }
 ],
 "metadata": {
  "kernelspec": {
   "display_name": "Python 3",
   "language": "python",
   "name": "python3"
  },
  "language_info": {
   "codemirror_mode": {
    "name": "ipython",
    "version": 3
   },
   "file_extension": ".py",
   "mimetype": "text/x-python",
   "name": "python",
   "nbconvert_exporter": "python",
   "pygments_lexer": "ipython3",
   "version": "3.7.4"
  }
 },
 "nbformat": 4,
 "nbformat_minor": 4
}
