{
 "cells": [
  {
   "cell_type": "markdown",
   "metadata": {},
   "source": [
    "# 本題要找出最小的共同數值是多少 (\\#Array)\n",
    "原題目連結: https://leetcode.com/problems/minimum-common-value/description/  \n",
    "\n",
    "Given two integer arrays nums1 and nums2, sorted in non-decreasing order, return the minimum integer common to both arrays. If there is no common integer amongst nums1 and nums2, return -1.  \n",
    "Note that an integer is said to be common to nums1 and nums2 if both arrays have at least one occurrence of that integer.  \n",
    "\n",
    "範例:  \n",
    "Ex1:  \n",
    "Input: nums1 = [1,2,3], nums2 = [2,4]  \n",
    "Output: 2  \n",
    "Explanation: The smallest element common to both arrays is 2, so we return 2.  \n",
    "\n",
    "Ex2:  \n",
    "Input: nums1 = [1,2,3,6], nums2 = [2,3,4,5]  \n",
    "Output: 2  \n",
    "Explanation: There are two common elements in the array 2 and 3 out of which 2 is the smallest, so 2 is returned."
   ]
  },
  {
   "cell_type": "markdown",
   "metadata": {},
   "source": [
    "* 解題想法:  \n",
    "首先用兩個變數分別記錄目前nums1與nums2的index值為何，接著開始進行比較，如果兩個數值相同時則回傳該數值，如果index1較大，則代表index2需要加1，反之就是index1加1，最後如果都沒符合的數值則回傳-1"
   ]
  },
  {
   "cell_type": "code",
   "execution_count": null,
   "metadata": {},
   "outputs": [],
   "source": [
    "\n",
    "class Solution:\n",
    "    def getCommon(self, nums1: List[int], nums2: List[int]) -> int:\n",
    "        res = -1\n",
    "        index1 = 0\n",
    "        index2 = 0\n",
    "        while index1 < len(nums1) and index2 < len(nums2):\n",
    "            n1 = nums1[index1]\n",
    "            n2 = nums2[index2]\n",
    "            if n1 == n2:\n",
    "                res = nums1[index1]\n",
    "                break\n",
    "            elif n1 > n2:\n",
    "                index2 += 1\n",
    "            else:\n",
    "                index1 += 1\n",
    "        return res"
   ]
  }
 ],
 "metadata": {
  "kernelspec": {
   "display_name": "Python 3",
   "language": "python",
   "name": "python3"
  },
  "language_info": {
   "codemirror_mode": {
    "name": "ipython",
    "version": 3
   },
   "file_extension": ".py",
   "mimetype": "text/x-python",
   "name": "python",
   "nbconvert_exporter": "python",
   "pygments_lexer": "ipython3",
   "version": "3.7.6"
  }
 },
 "nbformat": 4,
 "nbformat_minor": 4
}
