{
 "cells": [
  {
   "cell_type": "markdown",
   "metadata": {},
   "source": [
    "# 本題要將array中的排序轉換成名次\n",
    "原題目連結: https://leetcode.com/problems/relative-ranks/  \n",
    "\n",
    "Given scores of N athletes, find their relative ranks and the people with the top three highest scores, who will be awarded medals: \"Gold Medal\", \"Silver Medal\" and \"Bronze Medal\".  \n",
    "\n",
    "範例:  \n",
    "Ex1:  \n",
    "Input: [5, 4, 3, 2, 1]  \n",
    "Output: [\"Gold Medal\", \"Silver Medal\", \"Bronze Medal\", \"4\", \"5\"]  \n",
    "Explanation: The first three athletes got the top three highest scores, so they got \"Gold Medal\", \"Silver Medal\" and \"Bronze Medal\".   \n",
    "For the left two athletes, you just need to output their relative ranks according to their scores."
   ]
  },
  {
   "cell_type": "markdown",
   "metadata": {},
   "source": [
    "* 解題想法:  \n",
    "由於要找出list中對應的名次，因此不能將原本的list直接排序後取代，需要新建一個list來進行排序  \n",
    "排序後對原本的list找出對應的index並加1才是真正要顯示的名次順序"
   ]
  },
  {
   "cell_type": "code",
   "execution_count": null,
   "metadata": {},
   "outputs": [],
   "source": [
    "class Solution:\n",
    "    def findRelativeRanks(self, nums: List[int]) -> List[str]:\n",
    "        orders = sorted(nums,reverse = True)\n",
    "        result = []\n",
    "        for n in range(len(nums)):\n",
    "            if nums[n] == orders[0]:\n",
    "                result.append('Gold Medal')\n",
    "            elif nums[n] == orders[1]:\n",
    "                result.append('Silver Medal')\n",
    "            elif nums[n] == orders[2]:\n",
    "                result.append('Bronze Medal')\n",
    "            else:\n",
    "                result.append(str(orders.index(nums[n])+1))\n",
    "        return result"
   ]
  }
 ],
 "metadata": {
  "kernelspec": {
   "display_name": "Python 3",
   "language": "python",
   "name": "python3"
  },
  "language_info": {
   "codemirror_mode": {
    "name": "ipython",
    "version": 3
   },
   "file_extension": ".py",
   "mimetype": "text/x-python",
   "name": "python",
   "nbconvert_exporter": "python",
   "pygments_lexer": "ipython3",
   "version": "3.7.4"
  }
 },
 "nbformat": 4,
 "nbformat_minor": 2
}
