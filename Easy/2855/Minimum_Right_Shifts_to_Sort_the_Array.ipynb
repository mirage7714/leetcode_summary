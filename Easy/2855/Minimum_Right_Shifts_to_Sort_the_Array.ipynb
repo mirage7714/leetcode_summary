{
 "cells": [
  {
   "cell_type": "markdown",
   "id": "af47ab2c-9d5f-49fb-8d11-553f1c9265b1",
   "metadata": {},
   "source": [
    "# 本題要找出最少要幾次右移可以將list完成排序 (\\#Array )\n",
    "原題目連結：https://leetcode.com/problems/minimum-right-shifts-to-sort-the-array/description/  \n",
    "\n",
    "You are given a 0-indexed array nums of length n containing distinct positive integers. Return the minimum number of right shifts required to sort nums and -1 if this is not possible.  \n",
    "A right shift is defined as shifting the element at index i to index (i + 1) % n, for all indices.  \n",
    "\n",
    "範例:  \n",
    "Ex1:  \n",
    "Input: nums = [3,4,5,1,2]  \n",
    "Output: 2  \n",
    "Explanation:      \n",
    "After the first right shift, nums = [2,3,4,5,1].  \n",
    "After the second right shift, nums = [1,2,3,4,5].  \n",
    "Now nums is sorted; therefore the answer is 2.  \n",
    "\n",
    "Ex2:  \n",
    "Input: nums = [1,3,5]  \n",
    "Output: 0  \n",
    "Explanation: nums is already sorted therefore, the answer is 0.  \n",
    "\n",
    "Ex3:  \n",
    "Input: nums = [2,1,4]  \n",
    "Output: -1  \n",
    "Explanation: It's impossible to sort the array using right shifts."
   ]
  },
  {
   "cell_type": "markdown",
   "id": "40719349-efba-44f7-bd43-5dd248460d32",
   "metadata": {},
   "source": [
    "* 解題想法:  \n",
    "首先用一個list作為暫存，接著開始用迴圈檢查目前數字是否大於前一個數字，如果沒有的話則將暫存中的值放入另一個list中，接著清空暫存並將目前的數值放入暫存中，如果迴圈結束後有超過兩個以上的暫存則回傳-1，如果當有兩個暫存而第一個暫存的最小值小於第二個暫存的最後一個值時也回傳-1，如果第一個暫存的最小值大於第二個暫存的最大值時，需要的次數就是第二個暫存的長度，如果只有一個暫存時，則代表需要移動的次數為0"
   ]
  },
  {
   "cell_type": "code",
   "execution_count": null,
   "id": "a81b5a53-4b73-4ce4-ba02-4f2d9e5399e4",
   "metadata": {},
   "outputs": [],
   "source": [
    "class Solution:\n",
    "    def minimumRightShifts(self, nums: List[int]) -> int:\n",
    "        temp = []\n",
    "        t = [nums[0]]\n",
    "        for i in range(1, len(nums)):\n",
    "            if nums[i] < t[-1]:\n",
    "                temp.append(t[:])\n",
    "                if len(temp) > 1:\n",
    "                    return -1\n",
    "                t.clear()\n",
    "            t.append(nums[i])\n",
    "        temp.append(t)\n",
    "        if len(temp) == 1:\n",
    "            return 0\n",
    "        elif len(temp) == 2:\n",
    "            if temp[0][0] > temp[1][-1]:\n",
    "                return len(temp[1])\n",
    "            else:\n",
    "                return -1"
   ]
  }
 ],
 "metadata": {
  "kernelspec": {
   "display_name": "Python 3 (ipykernel)",
   "language": "python",
   "name": "python3"
  },
  "language_info": {
   "codemirror_mode": {
    "name": "ipython",
    "version": 3
   },
   "file_extension": ".py",
   "mimetype": "text/x-python",
   "name": "python",
   "nbconvert_exporter": "python",
   "pygments_lexer": "ipython3",
   "version": "3.10.9"
  }
 },
 "nbformat": 4,
 "nbformat_minor": 5
}
