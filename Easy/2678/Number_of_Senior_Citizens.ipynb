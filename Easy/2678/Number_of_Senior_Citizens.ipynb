{
 "cells": [
  {
   "cell_type": "markdown",
   "metadata": {},
   "source": [
    "# 本題要找出年齡大於60歲的人有多少 (\\#Array)\n",
    "原題目連結: https://leetcode.com/problems/number-of-senior-citizens/description/  \n",
    "\n",
    "You are given a 0-indexed array of strings details. Each element of details provides information about a given passenger compressed into a string of length 15. The system is such that:  \n",
    "\n",
    "The first ten characters consist of the phone number of passengers.  \n",
    "The next character denotes the gender of the person.  \n",
    "The following two characters are used to indicate the age of the person.  \n",
    "The last two characters determine the seat allotted to that person.  \n",
    "Return the number of passengers who are strictly more than 60 years old.  \n",
    "\n",
    "範例:  \n",
    "Ex1:  \n",
    "Input: details = [\"7868190130M7522\",\"5303914400F9211\",\"9273338290F4010\"]  \n",
    "Output: 2  \n",
    "Explanation: The passengers at indices 0, 1, and 2 have ages 75, 92, and 40. Thus, there are 2 people who are over 60 years old.  \n",
    "\n",
    "Ex2:  \n",
    "Input: details = [\"1313579440F2036\",\"2921522980M5644\"]  \n",
    "Output: 0  \n",
    "Explanation: None of the passengers are older than 60."
   ]
  },
  {
   "cell_type": "markdown",
   "metadata": {},
   "source": [
    "* 解題想法:  \n",
    "檢查每個資料中的年齡欄位，轉換成數字後確認是否有大於60歲，如果有則將數值+1，最後回傳總數值"
   ]
  },
  {
   "cell_type": "code",
   "execution_count": null,
   "metadata": {},
   "outputs": [],
   "source": [
    "class Solution:\n",
    "    def countSeniors(self, details: List[str]) -> int:\n",
    "        res = 0\n",
    "        for detail in details:\n",
    "            age = detail[11:13]\n",
    "            if int(age) > 60:\n",
    "                res += 1\n",
    "        return res"
   ]
  }
 ],
 "metadata": {
  "kernelspec": {
   "display_name": "Python 3",
   "language": "python",
   "name": "python3"
  },
  "language_info": {
   "codemirror_mode": {
    "name": "ipython",
    "version": 3
   },
   "file_extension": ".py",
   "mimetype": "text/x-python",
   "name": "python",
   "nbconvert_exporter": "python",
   "pygments_lexer": "ipython3",
   "version": "3.7.6"
  }
 },
 "nbformat": 4,
 "nbformat_minor": 4
}
