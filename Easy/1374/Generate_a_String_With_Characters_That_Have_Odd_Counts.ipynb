{
 "cells": [
  {
   "cell_type": "markdown",
   "metadata": {},
   "source": [
    "# 題目要找出長度為n，由奇數的字母組成的字串\n",
    "原題目連結： https://leetcode.com/problems/generate-a-string-with-characters-that-have-odd-counts/  \n",
    "\n",
    "Given an integer n, return a string with n characters such that each character in such string occurs an odd number of times.  \n",
    "The returned string must contain only lowercase English letters. If there are multiples valid strings, return any of them.    \n",
    "\n",
    "範例：  \n",
    "Ex1:  \n",
    "Input: n = 4  \n",
    "Output: \"pppz\"  \n",
    "Explanation: \"pppz\" is a valid string since the character 'p' occurs three times and the character 'z' occurs once. Note that there are many other valid strings such as \"ohhh\" and \"love\".  \n",
    "\n",
    "Ex2:  \n",
    "Input: n = 2  \n",
    "Output: \"xy\"  \n",
    "Explanation: \"xy\" is a valid string since the characters 'x' and 'y' occur once. Note that there are many other valid strings such as \"ag\" and \"ur\".  \n",
    "\n",
    "Ex3:  \n",
    "Input: n = 7  \n",
    "Output: \"holasss\""
   ]
  },
  {
   "cell_type": "markdown",
   "metadata": {},
   "source": [
    "* 解題想法：  \n",
    "這題其實要求的字串組成可以很簡單，也可以用很複雜的計算  \n",
    "這邊是直接用簡單的解法，先判斷N為奇數或是偶數，如果是奇數就直接用一個字母串起來，如果是偶數則用兩種字母去組成"
   ]
  },
  {
   "cell_type": "code",
   "execution_count": null,
   "metadata": {},
   "outputs": [],
   "source": [
    "class Solution:\n",
    "    def generateTheString(self, n: int) -> str:\n",
    "        chars = ['a','b','c','d','e','f','g','h','i','j','k','l','m','n','o','p','q','r','s','t','u',\n",
    "                 'v','w','x','y','z'\n",
    "                ]\n",
    "        \n",
    "        result = ''\n",
    "        if n % 2 == 0:\n",
    "            for l in range(n-1):\n",
    "                result += 'a'\n",
    "            result += 'b'\n",
    "        else:\n",
    "            for k in range(n):\n",
    "                result += 'a'\n",
    "        return result"
   ]
  }
 ],
 "metadata": {
  "kernelspec": {
   "display_name": "Python 3",
   "language": "python",
   "name": "python3"
  },
  "language_info": {
   "codemirror_mode": {
    "name": "ipython",
    "version": 3
   },
   "file_extension": ".py",
   "mimetype": "text/x-python",
   "name": "python",
   "nbconvert_exporter": "python",
   "pygments_lexer": "ipython3",
   "version": "3.8.3"
  }
 },
 "nbformat": 4,
 "nbformat_minor": 4
}
