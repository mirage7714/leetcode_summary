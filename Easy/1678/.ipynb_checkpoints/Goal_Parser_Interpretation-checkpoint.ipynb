{
 "cells": [
  {
   "cell_type": "markdown",
   "metadata": {},
   "source": [
    "# 本題要將題目提供的字串進行修改後回傳\n",
    "原題目連結: https://leetcode.com/problems/goal-parser-interpretation/  \n",
    "\n",
    "You own a Goal Parser that can interpret a string command. The command consists of an alphabet of \"G\", \"()\" and/or \"(al)\" in some order. The Goal Parser will interpret \"G\" as the string \"G\", \"()\" as the string \"o\", and \"(al)\" as the string \"al\". The interpreted strings are then concatenated in the original order.  \n",
    "\n",
    "Given the string command, return the Goal Parser's interpretation of command.  \n",
    "\n",
    "範例:  \n",
    "Ex1:  \n",
    "Input: command = \"G()(al)\"  \n",
    "Output: \"Goal\"  \n",
    "Explanation: The Goal Parser interprets the command as follows:  \n",
    "G -> G  \n",
    "() -> o  \n",
    "(al) -> al  \n",
    "The final concatenated result is \"Goal\".  \n",
    "\n",
    "Ex2:  \n",
    "Input: command = \"G()()()()(al)\"  \n",
    "Output: \"Gooooal\"  \n",
    "\n",
    "Ex3:  \n",
    "Input: command = \"(al)G(al)()()G\"  \n",
    "Output: \"alGalooG\""
   ]
  },
  {
   "cell_type": "markdown",
   "metadata": {},
   "source": [
    "* 解題想法:  \n",
    "依據題目提供的條件，要將'()'取代成'o'，'(al)'取代成al  \n",
    "因此用兩個replace將原本的字串進行取代，就可以得到最後的結果"
   ]
  },
  {
   "cell_type": "code",
   "execution_count": null,
   "metadata": {},
   "outputs": [],
   "source": [
    "class Solution:\n",
    "    def interpret(self, command: str) -> str:\n",
    "        result = command.replace('(al)','al').replace('()','o')\n",
    "        return result"
   ]
  }
 ],
 "metadata": {
  "kernelspec": {
   "display_name": "Python 3",
   "language": "python",
   "name": "python3"
  },
  "language_info": {
   "codemirror_mode": {
    "name": "ipython",
    "version": 3
   },
   "file_extension": ".py",
   "mimetype": "text/x-python",
   "name": "python",
   "nbconvert_exporter": "python",
   "pygments_lexer": "ipython3",
   "version": "3.7.4"
  }
 },
 "nbformat": 4,
 "nbformat_minor": 2
}
