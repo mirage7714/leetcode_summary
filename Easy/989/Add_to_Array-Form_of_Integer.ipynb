{
 "cells": [
  {
   "cell_type": "markdown",
   "metadata": {},
   "source": [
    "# 本題要找出array與整數的加法，並回傳結果\n",
    "原題目連結：https://leetcode.com/problems/add-to-array-form-of-integer/  \n",
    "\n",
    "For a non-negative integer X, the array-form of X is an array of its digits in left to right order.  For example, if X = 1231, then the array form is [1,2,3,1].  \n",
    "\n",
    "Given the array-form A of a non-negative integer X, return the array-form of the integer X+K.  \n",
    "\n",
    "範例：  \n",
    "Ex1:  \n",
    "Input: A = [1,2,0,0], K = 34  \n",
    "Output: [1,2,3,4]  \n",
    "Explanation: 1200 + 34 = 1234  \n",
    "\n",
    "Ex2:  \n",
    "Input: A = [2,7,4], K = 181  \n",
    "Output: [4,5,5]  \n",
    "Explanation: 274 + 181 = 455  \n",
    "\n",
    "Ex3:  \n",
    "Input: A = [2,1,5], K = 806  \n",
    "Output: [1,0,2,1]  \n",
    "Explanation: 215 + 806 = 1021  \n",
    "\n",
    "Ex4:  \n",
    "Input: A = [9,9,9,9,9,9,9,9,9,9], K = 1  \n",
    "Output: [1,0,0,0,0,0,0,0,0,0,0]  \n",
    "Explanation: 9999999999 + 1 = 10000000000"
   ]
  },
  {
   "cell_type": "markdown",
   "metadata": {},
   "source": [
    "* 解題想法：  \n",
    "題目要將list與整數進行相加，再轉換回list，原本想要先將list內數值轉換為整數後再進行相加  \n",
    "但後來發現在一些case的時候會因為list太長而超時，因此修改成先將整數轉換為list，並對原本的list進行加減  \n",
    "如果有超過10的數字再進行進位處理"
   ]
  },
  {
   "cell_type": "code",
   "execution_count": null,
   "metadata": {},
   "outputs": [],
   "source": [
    "class Solution:\n",
    "    def addToArrayForm(self, A: List[int], K: int) -> List[int]:\n",
    "        total = 0\n",
    "        result = []\n",
    "        list_k = []\n",
    "        for n in str(K):\n",
    "            list_k.append(n)\n",
    "        if len(A) < len(list_k):\n",
    "            for n in range(len(list_k)-len(A)):\n",
    "                A.insert(0,0)\n",
    "        for l in range(-1, -1-len(list_k),-1):\n",
    "            A[l] += int(list_k[l])\n",
    "        \n",
    "        left = 0\n",
    "        for m in range(-1, -1-len(A), -1):\n",
    "            if A[m]+left < 10:\n",
    "                result.insert(0,A[m] + left)\n",
    "                left = 0\n",
    "            else:\n",
    "                result.insert(0, A[m]+left-10)\n",
    "                left = 1\n",
    "        if left != 0:\n",
    "            result.insert(0, left)\n",
    "        return result"
   ]
  }
 ],
 "metadata": {
  "kernelspec": {
   "display_name": "Python 3",
   "language": "python",
   "name": "python3"
  },
  "language_info": {
   "codemirror_mode": {
    "name": "ipython",
    "version": 3
   },
   "file_extension": ".py",
   "mimetype": "text/x-python",
   "name": "python",
   "nbconvert_exporter": "python",
   "pygments_lexer": "ipython3",
   "version": "3.8.3"
  }
 },
 "nbformat": 4,
 "nbformat_minor": 4
}
