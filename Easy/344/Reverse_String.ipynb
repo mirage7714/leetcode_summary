{
 "cells": [
  {
   "cell_type": "markdown",
   "metadata": {},
   "source": [
    "# 本題要在只用一個額外空間的情況下，將一個list進行翻轉\n",
    "原題目連結: https://leetcode.com/problems/reverse-string/  \n",
    "\n",
    "Write a function that reverses a string. The input string is given as an array of characters s.  \n",
    "\n",
    "You must do this by modifying the input array in-place with O(1) extra memory.  \n",
    "\n",
    "範例:  \n",
    "Ex1:  \n",
    "Input: s = [\"h\",\"e\",\"l\",\"l\",\"o\"]  \n",
    "Output: [\"o\",\"l\",\"l\",\"e\",\"h\"]  \n",
    "\n",
    "Ex2:  \n",
    "Input: s = [\"H\",\"a\",\"n\",\"n\",\"a\",\"h\"]  \n",
    "Output: [\"h\",\"a\",\"n\",\"n\",\"a\",\"H\"]"
   ]
  },
  {
   "cell_type": "markdown",
   "metadata": {},
   "source": [
    "* 解題想法:  \n",
    "由於題目限制只能使用一個額外的空間，因此先從list最後方的字串開始加入，並在加入之後將原本位置的字母"
   ]
  }
 ],
 "metadata": {
  "kernelspec": {
   "display_name": "Python 3",
   "language": "python",
   "name": "python3"
  },
  "language_info": {
   "codemirror_mode": {
    "name": "ipython",
    "version": 3
   },
   "file_extension": ".py",
   "mimetype": "text/x-python",
   "name": "python",
   "nbconvert_exporter": "python",
   "pygments_lexer": "ipython3",
   "version": "3.7.4"
  }
 },
 "nbformat": 4,
 "nbformat_minor": 4
}
