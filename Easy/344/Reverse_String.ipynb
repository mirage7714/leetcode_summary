{
 "cells": [
  {
   "cell_type": "markdown",
   "metadata": {},
   "source": [
    "# 本題要在只用一個額外空間的情況下，將一個list進行翻轉\n",
    "原題目連結: https://leetcode.com/problems/reverse-string/  \n",
    "\n",
    "Write a function that reverses a string. The input string is given as an array of characters s.  \n",
    "\n",
    "You must do this by modifying the input array in-place with O(1) extra memory.  \n",
    "\n",
    "範例:  \n",
    "Ex1:  \n",
    "Input: s = [\"h\",\"e\",\"l\",\"l\",\"o\"]  \n",
    "Output: [\"o\",\"l\",\"l\",\"e\",\"h\"]  \n",
    "\n",
    "Ex2:  \n",
    "Input: s = [\"H\",\"a\",\"n\",\"n\",\"a\",\"h\"]  \n",
    "Output: [\"h\",\"a\",\"n\",\"n\",\"a\",\"H\"]"
   ]
  },
  {
   "cell_type": "markdown",
   "metadata": {},
   "source": [
    "* 解題想法:  \n",
    "由於題目限制只能使用一個額外的空間，因此先從list最後方的字串開始加入，而由於加入之後從後方開始數來的位置也會跟著改變，因此迴圈中每次都需要更新加入與移除的位置"
   ]
  },
  {
   "cell_type": "code",
   "execution_count": null,
   "metadata": {},
   "outputs": [],
   "source": [
    "class Solution:\n",
    "    def reverseString(self, s: List[str]) -> None:\n",
    "        \"\"\"\n",
    "        Do not return anything, modify s in-place instead.\n",
    "        \"\"\"\n",
    "        size = len(s)\n",
    "        for m in range(size):\n",
    "            s.append(s[-(m+1)])\n",
    "            s.pop(-(m+2))"
   ]
  }
 ],
 "metadata": {
  "kernelspec": {
   "display_name": "Python 3",
   "language": "python",
   "name": "python3"
  },
  "language_info": {
   "codemirror_mode": {
    "name": "ipython",
    "version": 3
   },
   "file_extension": ".py",
   "mimetype": "text/x-python",
   "name": "python",
   "nbconvert_exporter": "python",
   "pygments_lexer": "ipython3",
   "version": "3.7.4"
  }
 },
 "nbformat": 4,
 "nbformat_minor": 4
}
