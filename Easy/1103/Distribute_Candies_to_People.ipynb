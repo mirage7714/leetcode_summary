{
 "cells": [
  {
   "cell_type": "markdown",
   "metadata": {},
   "source": [
    "# 本題要找出將n個數分配到array中，並回傳最後分佈的array\n",
    "原題目連結： https://leetcode.com/problems/distribute-candies-to-people/  \n",
    "\n",
    "We distribute some number of candies, to a row of n = num_people people in the following way:  \n",
    "\n",
    "We then give 1 candy to the first person, 2 candies to the second person, and so on until we give n candies to the last person.  \n",
    "\n",
    "Then, we go back to the start of the row, giving n + 1 candies to the first person, n + 2 candies to the second person, and so on until we give 2 * n candies to the last person.  \n",
    "\n",
    "This process repeats (with us giving one more candy each time, and moving to the start of the row after we reach the end) until we run out of candies.  The last person will receive all of our remaining candies (not necessarily one more than the previous gift).  \n",
    "\n",
    "Return an array (of length num_people and sum candies) that represents the final distribution of candies.  \n",
    "\n",
    "範例：  \n",
    "Ex1:  \n",
    "Input: candies = 7, num_people = 4  \n",
    "Output: [1,2,3,1]  \n",
    "Explanation:  \n",
    "On the first turn, ans[0] += 1, and the array is [1,0,0,0].  \n",
    "On the second turn, ans[1] += 2, and the array is [1,2,0,0].  \n",
    "On the third turn, ans[2] += 3, and the array is [1,2,3,0].  \n",
    "On the fourth turn, ans[3] += 1 (because there is only one candy left), and the final array is [1,2,3,1].  \n",
    "\n",
    "Ex2:  \n",
    "Input: candies = 10, num_people = 3  \n",
    "Output: [5,2,3]  \n",
    "Explanation:   \n",
    "On the first turn, ans[0] += 1, and the array is [1,0,0].  \n",
    "On the second turn, ans[1] += 2, and the array is [1,2,0].  \n",
    "On the third turn, ans[2] += 3, and the array is [1,2,3].  \n",
    "On the fourth turn, ans[0] += 4, and the final array is [5,2,3]."
   ]
  },
  {
   "cell_type": "markdown",
   "metadata": {},
   "source": [
    "* 解題想法：  \n",
    "將數字分配到list中，可以直接將list中數字取出相加或是建立一個暫時的list來放數字，最後再將數字加回去  \n",
    "這邊先用暫時的list來做答，速度上看起來也不算非常慢，只是解題過程長了一些\n"
   ]
  },
  {
   "cell_type": "code",
   "execution_count": null,
   "metadata": {},
   "outputs": [],
   "source": [
    "class Solution:\n",
    "    def distributeCandies(self, candies: int, num_people: int) -> List[int]:\n",
    "        result = []\n",
    "        temp = []\n",
    "        count = 1\n",
    "        while True:\n",
    "            if candies >= count:\n",
    "                temp.append(count)\n",
    "                candies -= count\n",
    "                count += 1\n",
    "            else:\n",
    "                temp.append(candies)\n",
    "                break\n",
    "        \n",
    "        if len(temp) <= num_people:\n",
    "            result = temp\n",
    "            for n in range(num_people - len(temp)):\n",
    "                result.append(0)\n",
    "        else:\n",
    "            for m in range(num_people):\n",
    "                total = 0\n",
    "                for l in range(int(len(temp)/num_people)+1):\n",
    "                    index = num_people * l+ m\n",
    "                    if index < len(temp):\n",
    "                        total += temp[index]\n",
    "                result.append(total)\n",
    "        return result"
   ]
  }
 ],
 "metadata": {
  "kernelspec": {
   "display_name": "Python 3",
   "language": "python",
   "name": "python3"
  },
  "language_info": {
   "codemirror_mode": {
    "name": "ipython",
    "version": 3
   },
   "file_extension": ".py",
   "mimetype": "text/x-python",
   "name": "python",
   "nbconvert_exporter": "python",
   "pygments_lexer": "ipython3",
   "version": "3.8.3"
  }
 },
 "nbformat": 4,
 "nbformat_minor": 4
}
