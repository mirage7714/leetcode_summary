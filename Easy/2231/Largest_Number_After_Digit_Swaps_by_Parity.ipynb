{
 "cells": [
  {
   "cell_type": "markdown",
   "metadata": {},
   "source": [
    "# 本題要找出在奇數偶數分別調換順序之後，出現最大的值為多少\n",
    "原題目連結: https://leetcode.com/problems/largest-number-after-digit-swaps-by-parity/  \n",
    "\n",
    "You are given a positive integer num. You may swap any two digits of num that have the same parity (i.e. both odd digits or both even digits).  \n",
    "Return the largest possible value of num after any number of swaps.  \n",
    "\n",
    "範例:  \n",
    "Ex1:  \n",
    "Input: num = 1234  \n",
    "Output: 3412  \n",
    "Explanation: Swap the digit 3 with the digit 1, this results in the number 3214.  \n",
    "Swap the digit 2 with the digit 4, this results in the number 3412.  \n",
    "Note that there may be other sequences of swaps but it can be shown that 3412 is the largest possible number.  \n",
    "Also note that we may not swap the digit 4 with the digit 1 since they are of different parities.  \n",
    "\n",
    "Ex2:  \n",
    "Input: num = 65875  \n",
    "Output: 87655  \n",
    "Explanation: Swap the digit 8 with the digit 6, this results in the number 85675.  \n",
    "Swap the first digit 5 with the digit 7, this results in the number 87655.  \n",
    "Note that there may be other sequences of swaps but it can be shown that 87655 is the largest possible number."
   ]
  },
  {
   "cell_type": "markdown",
   "metadata": {},
   "source": [
    "* 解題想法:  \n",
    "首先找出奇數與偶數分別有多少，以及有哪些index為奇數與偶數，接著將奇數與偶數由大到小分別填入新的順序之後回傳"
   ]
  },
  {
   "cell_type": "code",
   "execution_count": null,
   "metadata": {},
   "outputs": [],
   "source": [
    "class Solution:\n",
    "    def largestInteger(self, num: int) -> int:\n",
    "        evens = []\n",
    "        odds = []\n",
    "        even_index = []\n",
    "        even_i = 0\n",
    "        odd_i = 0\n",
    "        result = ''\n",
    "        s_num = str(num)\n",
    "        size = len(s_num)\n",
    "        for m in range(size):\n",
    "            if int(s_num[m]) % 2 == 0:\n",
    "                evens.append(s_num[m])\n",
    "                even_index.append(m)\n",
    "            else:\n",
    "                odds.append(s_num[m])\n",
    "        evens.sort(reverse = True)\n",
    "        odds.sort(reverse = True)\n",
    "        for m in range(size):\n",
    "            if m not in even_index:\n",
    "                result += odds[odd_i]\n",
    "                odd_i += 1\n",
    "            else:\n",
    "                result += evens[even_i]\n",
    "                even_i += 1\n",
    "        return int(result)"
   ]
  }
 ],
 "metadata": {
  "kernelspec": {
   "display_name": "Python 3",
   "language": "python",
   "name": "python3"
  },
  "language_info": {
   "codemirror_mode": {
    "name": "ipython",
    "version": 3
   },
   "file_extension": ".py",
   "mimetype": "text/x-python",
   "name": "python",
   "nbconvert_exporter": "python",
   "pygments_lexer": "ipython3",
   "version": "3.7.4"
  }
 },
 "nbformat": 4,
 "nbformat_minor": 4
}
