{
 "cells": [
  {
   "cell_type": "markdown",
   "metadata": {},
   "source": [
    "# 顧名思義，題目就是要判斷是否為3的某次方\n",
    "原題目連結: https://leetcode.com/problems/power-of-three/  \n",
    "\n",
    "範例:  \n",
    "Ex1:  \n",
    "Input: 27  \n",
    "Output: true  \n",
    "\n",
    "Ex2:  \n",
    "Input: 0  \n",
    "Output: false  \n",
    "\n",
    "Ex3:  \n",
    "Input: 9  \n",
    "Output: true  \n",
    "\n",
    "Ex4:  \n",
    "Input: 45  \n",
    "Output: false\n"
   ]
  },
  {
   "cell_type": "markdown",
   "metadata": {},
   "source": [
    "* 解題思考:  \n",
    "最單純的方法，就是一直用3去除，看最後餘數是否為0，不過這樣較花時間。  \n",
    "另外可以直接用pow判斷，如果是的話就結束迴圈"
   ]
  },
  {
   "cell_type": "code",
   "execution_count": null,
   "metadata": {},
   "outputs": [],
   "source": [
    "class Solution:\n",
    "    def isPowerOfThree(self, n: int) -> bool:\n",
    "        index = 0\n",
    "        is_power = False\n",
    "        while True:\n",
    "            if pow(3, index) < n:\n",
    "                index += 1\n",
    "            elif pow(3, index) == n:\n",
    "                is_power = True\n",
    "                break\n",
    "            elif pow(3, index) > n:\n",
    "                break\n",
    "        return is_power"
   ]
  }
 ],
 "metadata": {
  "kernelspec": {
   "display_name": "Python 3",
   "language": "python",
   "name": "python3"
  },
  "language_info": {
   "codemirror_mode": {
    "name": "ipython",
    "version": 3
   },
   "file_extension": ".py",
   "mimetype": "text/x-python",
   "name": "python",
   "nbconvert_exporter": "python",
   "pygments_lexer": "ipython3",
   "version": "3.7.4"
  }
 },
 "nbformat": 4,
 "nbformat_minor": 2
}
