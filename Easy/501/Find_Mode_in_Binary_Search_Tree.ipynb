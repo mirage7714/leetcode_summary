{
 "cells": [
  {
   "cell_type": "markdown",
   "metadata": {},
   "source": [
    "# 本題要找出BST中的眾數為何\n",
    "原題目連結: https://leetcode.com/problems/find-mode-in-binary-search-tree/   \n",
    "\n",
    "Given the root of a binary search tree (BST) with duplicates, return all the mode(s) (i.e., the most frequently occurred element) in it.  \n",
    "\n",
    "If the tree has more than one mode, return them in any order.  \n",
    "\n",
    "Assume a BST is defined as follows:  \n",
    "The left subtree of a node contains only nodes with keys less than or equal to the node's key.  \n",
    "The right subtree of a node contains only nodes with keys greater than or equal to the node's key.  \n",
    "Both the left and right subtrees must also be binary search trees.  \n",
    "\n",
    "範例:  \n",
    "Ex1:  \n",
    "Input: root = [1,null,2,2]  \n",
    "Output: [2]  \n",
    "\n",
    "Ex2:  \n",
    "Input: root = [0]  \n",
    "Output: [0]"
   ]
  },
  {
   "cell_type": "markdown",
   "metadata": {},
   "source": [
    "* 解題想法:  \n",
    "由於要找出BST中的眾數，首先將BST中所有的數值取出並放入一個dict中，接著找出出現次數最多的值並回傳"
   ]
  },
  {
   "cell_type": "code",
   "execution_count": null,
   "metadata": {},
   "outputs": [],
   "source": [
    "# Definition for a binary tree node.\n",
    "# class TreeNode:\n",
    "#     def __init__(self, val=0, left=None, right=None):\n",
    "#         self.val = val\n",
    "#         self.left = left\n",
    "#         self.right = right\n",
    "class Solution:\n",
    "    def findMode(self, root: Optional[TreeNode]) -> List[int]:\n",
    "        count = {}\n",
    "        result = []\n",
    "        stack = [root]\n",
    "        while stack:\n",
    "            node = []\n",
    "            for s in stack:\n",
    "                if s.val not in count.keys():\n",
    "                    count[s.val] = 1\n",
    "                else:\n",
    "                    count[s.val] += 1\n",
    "                if s.left:\n",
    "                    node.append(s.left)\n",
    "                if s.right:\n",
    "                    node.append(s.right)\n",
    "            stack.clear()\n",
    "            stack += node\n",
    "        mode = max(list(count.values()))\n",
    "        for k, v in count.items():\n",
    "            if v == mode:\n",
    "                result.append(k)\n",
    "        return result"
   ]
  }
 ],
 "metadata": {
  "kernelspec": {
   "display_name": "Python 3",
   "language": "python",
   "name": "python3"
  },
  "language_info": {
   "codemirror_mode": {
    "name": "ipython",
    "version": 3
   },
   "file_extension": ".py",
   "mimetype": "text/x-python",
   "name": "python",
   "nbconvert_exporter": "python",
   "pygments_lexer": "ipython3",
   "version": "3.7.4"
  }
 },
 "nbformat": 4,
 "nbformat_minor": 4
}
