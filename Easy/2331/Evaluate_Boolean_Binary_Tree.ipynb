{
 "cells": [
  {
   "cell_type": "markdown",
   "metadata": {},
   "source": [
    "# 本題要判斷binary tree最後的結果為何\n",
    "原題目連結: https://leetcode.com/problems/evaluate-boolean-binary-tree/  \n",
    "\n",
    "You are given the root of a full binary tree with the following properties:  \n",
    "\n",
    "Leaf nodes have either the value 0 or 1, where 0 represents False and 1 represents True.  \n",
    "Non-leaf nodes have either the value 2 or 3, where 2 represents the boolean OR and 3 represents the boolean AND.  \n",
    "The evaluation of a node is as follows:  \n",
    "\n",
    "If the node is a leaf node, the evaluation is the value of the node, i.e. True or False.  \n",
    "Otherwise, evaluate the node's two children and apply the boolean operation of its value with the children's evaluations.  \n",
    "Return the boolean result of evaluating the root node.  \n",
    "\n",
    "A full binary tree is a binary tree where each node has either 0 or 2 children.  \n",
    "\n",
    "A leaf node is a node that has zero children.  \n",
    "\n",
    "範例:  \n",
    "Ex1:  \n",
    "Input: root = [2,1,3,null,null,0,1]  \n",
    "Output: true  \n",
    "Explanation: The above diagram illustrates the evaluation process.  \n",
    "The AND node evaluates to False AND True = False.  \n",
    "The OR node evaluates to True OR False = True.  \n",
    "The root node evaluates to True, so we return true.  \n",
    "\n",
    "Ex2:  \n",
    "Input: root = [0]  \n",
    "Output: false  \n",
    "Explanation: The root node is a leaf node and it evaluates to false, so we return false."
   ]
  },
  {
   "cell_type": "markdown",
   "metadata": {},
   "source": [
    "* 解題想法:  \n",
    "這邊用類似postorder的方式來走訪binary tree，並檢查是否下方還有節點，如果有節點則繼續用遞迴進行走訪，直到下方沒有節點之後再檢查該節點要進行的操作為and或是or，最後將操作後的值回傳"
   ]
  },
  {
   "cell_type": "code",
   "execution_count": null,
   "metadata": {},
   "outputs": [],
   "source": [
    "# Definition for a binary tree node.\n",
    "# class TreeNode:\n",
    "#     def __init__(self, val=0, left=None, right=None):\n",
    "#         self.val = val\n",
    "#         self.left = left\n",
    "#         self.right = right\n",
    "class Solution:\n",
    "    def evaluateTree(self, root: Optional[TreeNode]) -> bool:\n",
    "        def recur(node):\n",
    "            if not node.left and not node.right:\n",
    "                if node.val == 1:\n",
    "                    return True\n",
    "                return False\n",
    "            left = recur(node.left)\n",
    "            right = recur(node.right)\n",
    "            if node.val == 2:\n",
    "                return left or right\n",
    "            elif node.val == 3:\n",
    "                return left and right\n",
    "        \n",
    "        return recur(root)"
   ]
  }
 ],
 "metadata": {
  "kernelspec": {
   "display_name": "Python 3",
   "language": "python",
   "name": "python3"
  },
  "language_info": {
   "codemirror_mode": {
    "name": "ipython",
    "version": 3
   },
   "file_extension": ".py",
   "mimetype": "text/x-python",
   "name": "python",
   "nbconvert_exporter": "python",
   "pygments_lexer": "ipython3",
   "version": "3.7.4"
  }
 },
 "nbformat": 4,
 "nbformat_minor": 4
}
