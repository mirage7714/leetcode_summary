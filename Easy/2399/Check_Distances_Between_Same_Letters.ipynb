{
 "cells": [
  {
   "cell_type": "markdown",
   "metadata": {},
   "source": [
    "# 本題要檢查字母間的間隔是否符合要求\n",
    "原題目連結: https://leetcode.com/problems/check-distances-between-same-letters/  \n",
    "\n",
    "You are given a 0-indexed string s consisting of only lowercase English letters, where each letter in s appears exactly twice. You are also given a 0-indexed integer array distance of length 26.  \n",
    "Each letter in the alphabet is numbered from 0 to 25 (i.e. 'a' -> 0, 'b' -> 1, 'c' -> 2, ... , 'z' -> 25).  \n",
    "In a well-spaced string, the number of letters between the two occurrences of the ith letter is distance[i]. If the ith letter does not appear in s, then distance[i] can be ignored.  \n",
    "Return true if s is a well-spaced string, otherwise return false.  \n",
    "\n",
    "範例:  \n",
    "Ex1:  \n",
    "Input: s = \"abaccb\", distance = [1,3,0,5,0,0,0,0,0,0,0,0,0,0,0,0,0,0,0,0,0,0,0,0,0,0]  \n",
    "Output: true  \n",
    "Explanation:  \n",
    "- 'a' appears at indices 0 and 2 so it satisfies distance[0] = 1.  \n",
    "- 'b' appears at indices 1 and 5 so it satisfies distance[1] = 3.  \n",
    "- 'c' appears at indices 3 and 4 so it satisfies distance[2] = 0.  \n",
    "Note that distance[3] = 5, but since 'd' does not appear in s, it can be ignored.  \n",
    "Return true because s is a well-spaced string.  \n",
    "\n",
    "Ex2:  \n",
    "Input: s = \"aa\", distance = [1,0,0,0,0,0,0,0,0,0,0,0,0,0,0,0,0,0,0,0,0,0,0,0,0,0]  \n",
    "Output: false  \n",
    "Explanation:  \n",
    "- 'a' appears at indices 0 and 1 so there are zero letters between them.  \n",
    "Because distance[0] = 1, s is not a well-spaced string."
   ]
  },
  {
   "cell_type": "markdown",
   "metadata": {},
   "source": [
    "* 解題想法:  \n",
    "首先建立一個dict，將所有字母的對應值都放入，接著開始檢查字串，如果是已經檢查過的index則跳過，否則檢查該字母對應的距離是否為相同的字母，如果不是則回傳False，迴圈結束則回傳True"
   ]
  },
  {
   "cell_type": "code",
   "execution_count": null,
   "metadata": {},
   "outputs": [],
   "source": [
    "class Solution:\n",
    "    def checkDistances(self, s: str, distance: List[int]) -> bool:\n",
    "        chars = {\n",
    "            'a':0,'b':1,'c':2,'d':3, 'e': 4, 'f':5, 'g':6,'h':7, 'i':8,'j':9,'k':10,\n",
    "            'l':11,'m':12,'n':13,'o':14,'p':15,'q':16,'r':17,'s':18,'t':19,'u':20,\n",
    "            'v':21,'w':22,'x':23,'y':24,'z':25\n",
    "        }\n",
    "        check = set()\n",
    "        for m in range(len(s)):\n",
    "            if m not in check:\n",
    "                d = distance[chars[s[m]]]\n",
    "                if m+d+1 >= len(s):\n",
    "                    return False\n",
    "                elif s[m+d+1] != s[m]:\n",
    "                    return False\n",
    "                check.add(m+d+1)\n",
    "        return True"
   ]
  }
 ],
 "metadata": {
  "kernelspec": {
   "display_name": "Python 3",
   "language": "python",
   "name": "python3"
  },
  "language_info": {
   "codemirror_mode": {
    "name": "ipython",
    "version": 3
   },
   "file_extension": ".py",
   "mimetype": "text/x-python",
   "name": "python",
   "nbconvert_exporter": "python",
   "pygments_lexer": "ipython3",
   "version": "3.7.4"
  }
 },
 "nbformat": 4,
 "nbformat_minor": 4
}
