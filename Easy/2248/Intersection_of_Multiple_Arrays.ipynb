{
 "cells": [
  {
   "cell_type": "markdown",
   "metadata": {},
   "source": [
    "# 本題要找出有哪幾個數值在每個list中都有出現\n",
    "原題目連結: https://leetcode.com/problems/intersection-of-multiple-arrays/  \n",
    "\n",
    "Given a 2D integer array nums where nums[i] is a non-empty array of distinct positive integers, return the list of integers that are present in each array of nums sorted in ascending order.  \n",
    "\n",
    "範例:  \n",
    "Ex1:  \n",
    "Input: nums = [[3,1,2,4,5],[1,2,3,4],[3,4,5,6]]  \n",
    "Output: [3,4]  \n",
    "Explanation:   \n",
    "The only integers present in each of nums[0] = [3,1,2,4,5], nums[1] = [1,2,3,4], and nums[2] = [3,4,5,6] are 3 and 4, so we return [3,4].  \n",
    "\n",
    "Ex2:  \n",
    "Input: nums = [[1,2,3],[4,5,6]]  \n",
    "Output: []  \n",
    "Explanation:   \n",
    "There does not exist any integer present both in nums[0] and nums[1], so we return an empty list []."
   ]
  },
  {
   "cell_type": "markdown",
   "metadata": {},
   "source": [
    "* 解題想法:  \n",
    "首先建立一個dict，接著將每個list中出現的數值進行統計，最後找出在每個list中都有出現的數字並放入list中"
   ]
  },
  {
   "cell_type": "code",
   "execution_count": null,
   "metadata": {},
   "outputs": [],
   "source": [
    "class Solution:\n",
    "    def intersection(self, nums: List[List[int]]) -> List[int]:\n",
    "        freq = {}\n",
    "        result = []\n",
    "        size = len(nums)\n",
    "        for m in range(len(nums)):\n",
    "            for n in range(len(nums[m])):\n",
    "                if nums[m][n] not in freq.keys():\n",
    "                    freq[nums[m][n]] = [m]\n",
    "                else:\n",
    "                    freq[nums[m][n]].append(m)\n",
    "        for key, val in freq.items():\n",
    "            if len(val) == size:\n",
    "                result.append(key)\n",
    "        result.sort()\n",
    "        return result"
   ]
  }
 ],
 "metadata": {
  "kernelspec": {
   "display_name": "Python 3",
   "language": "python",
   "name": "python3"
  },
  "language_info": {
   "codemirror_mode": {
    "name": "ipython",
    "version": 3
   },
   "file_extension": ".py",
   "mimetype": "text/x-python",
   "name": "python",
   "nbconvert_exporter": "python",
   "pygments_lexer": "ipython3",
   "version": "3.7.4"
  }
 },
 "nbformat": 4,
 "nbformat_minor": 4
}
