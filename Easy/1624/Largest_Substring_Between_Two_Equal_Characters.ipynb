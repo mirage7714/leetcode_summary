{
 "cells": [
  {
   "cell_type": "markdown",
   "metadata": {},
   "source": [
    "# 本題要找出兩個相同字母間最大距離是多少\n",
    "原題目連結: https://leetcode.com/problems/largest-substring-between-two-equal-characters/  \n",
    "\n",
    "Given a string s, return the length of the longest substring between two equal characters, excluding the two characters. If there is no such substring return -1.  \n",
    "\n",
    "A substring is a contiguous sequence of characters within a string.  \n",
    "\n",
    "範例:  \n",
    "Ex1:  \n",
    "Input: s = \"aa\"  \n",
    "Output: 0  \n",
    "Explanation: The optimal substring here is an empty substring between the two 'a's.  \n",
    "\n",
    "Ex2:  \n",
    "Input: s = \"abca\"  \n",
    "Output: 2  \n",
    "Explanation: The optimal substring here is \"bc\".  \n",
    "\n",
    "Ex3:  \n",
    "Input: s = \"cbzxy\"  \n",
    "Output: -1  \n",
    "Explanation: There are no characters that appear twice in s.  \n",
    "\n",
    "Ex4:  \n",
    "Input: s = \"cabbac\"  \n",
    "Output: 4  \n",
    "Explanation: The optimal substring here is \"abba\". Other non-optimal substrings include \"bb\" and \"\"."
   ]
  },
  {
   "cell_type": "markdown",
   "metadata": {},
   "source": [
    "* 解題想法:  \n",
    "本題要找出兩個相同字母間最大的距離，因此用字頻分析後，再找出每個字頻list中最大的差距值為多少，即為本題要求的答案"
   ]
  },
  {
   "cell_type": "code",
   "execution_count": null,
   "metadata": {},
   "outputs": [],
   "source": [
    "class Solution:\n",
    "    def maxLengthBetweenEqualCharacters(self, s: str) -> int:\n",
    "        result = -1\n",
    "        freq = {}\n",
    "        for n in range(len(s)):\n",
    "            if s[n] not in freq.keys():\n",
    "                freq[s[n]] = [n]\n",
    "            else:\n",
    "                freq[s[n]].append(n)\n",
    "        for value in freq.values():\n",
    "            if len(value) >= 2:\n",
    "                temp = value[-1] - value[0] -1\n",
    "                if temp > result:\n",
    "                    result = temp\n",
    "        return result"
   ]
  }
 ],
 "metadata": {
  "kernelspec": {
   "display_name": "Python 3",
   "language": "python",
   "name": "python3"
  },
  "language_info": {
   "codemirror_mode": {
    "name": "ipython",
    "version": 3
   },
   "file_extension": ".py",
   "mimetype": "text/x-python",
   "name": "python",
   "nbconvert_exporter": "python",
   "pygments_lexer": "ipython3",
   "version": "3.7.6"
  }
 },
 "nbformat": 4,
 "nbformat_minor": 4
}
