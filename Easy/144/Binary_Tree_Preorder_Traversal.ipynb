{
 "cells": [
  {
   "cell_type": "markdown",
   "metadata": {},
   "source": [
    "# 本題要用preorder的方式來走訪Binary tree\n",
    "原題目連結: https://leetcode.com/problems/binary-tree-preorder-traversal/  \n",
    "\n",
    "Given the root of a binary tree, return the preorder traversal of its nodes' values.  \n",
    "\n",
    "範例:  \n",
    "Ex1:  \n",
    "Input: root = [1,null,2,3]  \n",
    "Output: [1,2,3]  \n",
    "\n",
    "Ex2:  \n",
    "Input: root = []  \n",
    "Output: []  \n",
    "\n",
    "Ex3:  \n",
    "Input: root = [1]  \n",
    "Output: [1]"
   ]
  },
  {
   "cell_type": "markdown",
   "metadata": {},
   "source": [
    "* 解題想法:  \n",
    "preorder的走訪方式是先拜訪父節點，接著再走訪左右節點，因此這邊建立了一個preorder的函數，先從父節點開始取值，接著如果左右不為None則將左右端的子節點放入stack中，直到stack長度為0則停止"
   ]
  },
  {
   "cell_type": "code",
   "execution_count": null,
   "metadata": {},
   "outputs": [],
   "source": [
    "# Definition for a binary tree node.\n",
    "# class TreeNode:\n",
    "#     def __init__(self, val=0, left=None, right=None):\n",
    "#         self.val = val\n",
    "#         self.left = left\n",
    "#         self.right = right\n",
    "class Solution:\n",
    "    def preorderTraversal(self, root: Optional[TreeNode]) -> List[int]:\n",
    "        def preorder(stack, vals):\n",
    "            while stack:\n",
    "                node = stack.pop()\n",
    "                vals.append(node.val)\n",
    "                if node.left:\n",
    "                    stack.append(node.left)\n",
    "                    preorder(stack, vals)\n",
    "                if node.right:\n",
    "                    stack.append(node.right)\n",
    "                    preorder(stack, vals)\n",
    "                                 \n",
    "        result = []\n",
    "        if root:\n",
    "            stack = [root]\n",
    "            preorder(stack, result)\n",
    "        return result"
   ]
  }
 ],
 "metadata": {
  "kernelspec": {
   "display_name": "Python 3",
   "language": "python",
   "name": "python3"
  },
  "language_info": {
   "codemirror_mode": {
    "name": "ipython",
    "version": 3
   },
   "file_extension": ".py",
   "mimetype": "text/x-python",
   "name": "python",
   "nbconvert_exporter": "python",
   "pygments_lexer": "ipython3",
   "version": "3.7.4"
  }
 },
 "nbformat": 4,
 "nbformat_minor": 4
}
