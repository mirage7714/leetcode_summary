{
 "cells": [
  {
   "cell_type": "markdown",
   "metadata": {},
   "source": [
    "# 本題要實作一個stack的函數\n",
    "原題目連結: https://leetcode.com/problems/implement-stack-using-queues/  \n",
    "\n",
    "Implement a last in first out (LIFO) stack using only two queues. The implemented stack should support all the functions of a normal queue (push, top, pop, and empty).  \n",
    "\n",
    "Implement the MyStack class:  \n",
    "\n",
    "void push(int x) Pushes element x to the top of the stack.  \n",
    "int pop() Removes the element on the top of the stack and returns it.  \n",
    "int top() Returns the element on the top of the stack.  \n",
    "boolean empty() Returns true if the stack is empty, false otherwise.  \n",
    "\n",
    "Notes:  \n",
    "\n",
    "You must use only standard operations of a queue, which means only push to back, peek/pop from front, size, and is empty operations are valid.  \n",
    "Depending on your language, the queue may not be supported natively. You may simulate a queue using a list or deque (double-ended queue), as long as you use only a queue's standard operations.  \n",
    "\n",
    "範例:  \n",
    "Ex1:  \n",
    "Input  \n",
    "[\"MyStack\", \"push\", \"push\", \"top\", \"pop\", \"empty\"]  \n",
    "[[], [1], [2], [], [], []]  \n",
    "Output  \n",
    "[null, null, null, 2, 2, false]  \n",
    "\n",
    "Explanation  \n",
    "MyStack myStack = new MyStack();  \n",
    "myStack.push(1);  \n",
    "myStack.push(2);  \n",
    "myStack.top(); // return 2  \n",
    "myStack.pop(); // return 2  \n",
    "myStack.empty(); // return False  "
   ]
  },
  {
   "cell_type": "markdown",
   "metadata": {},
   "source": [
    "* 解題想法:  \n",
    "依題目說明，要實作包括pop，top，push，empty四個功能，其中pop與top都需要回傳最上面的數值，因此在初始化的時候先建立一個list來存放  \n",
    "- push: 將數字加入list中  \n",
    "- pop: 將最後一個數字取出並回傳，接著刪除最後一個數字  \n",
    "- top: 找出最後一個數字並回傳  \n",
    "- empty: 檢查list是否為空的，若沒數字則回傳True，否則回傳False  "
   ]
  },
  {
   "cell_type": "code",
   "execution_count": null,
   "metadata": {},
   "outputs": [],
   "source": [
    "class MyStack:\n",
    "\n",
    "    def __init__(self):\n",
    "        \"\"\"\n",
    "        Initialize your data structure here.\n",
    "        \"\"\"\n",
    "        self.elements = []\n",
    "\n",
    "    def push(self, x: int) -> None:\n",
    "        \"\"\"\n",
    "        Push element x onto stack.\n",
    "        \"\"\"\n",
    "        self.elements.append(x)\n",
    "\n",
    "    def pop(self) -> int:\n",
    "        \"\"\"\n",
    "        Removes the element on top of the stack and returns that element.\n",
    "        \"\"\"\n",
    "        top = self.elements[-1]\n",
    "        self.elements.pop(-1)\n",
    "        return top\n",
    "\n",
    "    def top(self) -> int:\n",
    "        \"\"\"\n",
    "        Get the top element.\n",
    "        \"\"\"\n",
    "        t = self.elements[-1]\n",
    "        return t\n",
    "\n",
    "    def empty(self) -> bool:\n",
    "        \"\"\"\n",
    "        Returns whether the stack is empty.\n",
    "        \"\"\"\n",
    "        is_empty = False\n",
    "        if len(self.elements) == 0:\n",
    "            is_empty = True\n",
    "        return is_empty\n",
    "\n",
    "\n",
    "# Your MyStack object will be instantiated and called as such:\n",
    "# obj = MyStack()\n",
    "# obj.push(x)\n",
    "# param_2 = obj.pop()\n",
    "# param_3 = obj.top()\n",
    "# param_4 = obj.empty()"
   ]
  }
 ],
 "metadata": {
  "kernelspec": {
   "display_name": "Python 3",
   "language": "python",
   "name": "python3"
  },
  "language_info": {
   "codemirror_mode": {
    "name": "ipython",
    "version": 3
   },
   "file_extension": ".py",
   "mimetype": "text/x-python",
   "name": "python",
   "nbconvert_exporter": "python",
   "pygments_lexer": "ipython3",
   "version": "3.7.4"
  }
 },
 "nbformat": 4,
 "nbformat_minor": 2
}
