{
 "cells": [
  {
   "cell_type": "markdown",
   "metadata": {},
   "source": [
    "# 本題要找出題目提供的數字，共可提供幾組數字\n",
    "原題目連結: https://leetcode.com/problems/count-of-matches-in-tournament/  \n",
    "\n",
    "You are given an integer n, the number of teams in a tournament that has strange rules:  \n",
    "\n",
    "If the current number of teams is even, each team gets paired with another team. A total of n / 2 matches are played, and n / 2 teams advance to the next round.  \n",
    "If the current number of teams is odd, one team randomly advances in the tournament, and the rest gets paired. A total of (n - 1) / 2 matches are played, and (n - 1) / 2 + 1 teams advance to the next round.  \n",
    "Return the number of matches played in the tournament until a winner is decided.  \n",
    "\n",
    "範例:  \n",
    "Ex1:  \n",
    "Input: n = 7  \n",
    "Output: 6  \n",
    "Explanation: Details of the tournament:   \n",
    "- 1st Round: Teams = 7, Matches = 3, and 4 teams advance.  \n",
    "- 2nd Round: Teams = 4, Matches = 2, and 2 teams advance.  \n",
    "- 3rd Round: Teams = 2, Matches = 1, and 1 team is declared the winner.  \n",
    "Total number of matches = 3 + 2 + 1 = 6.  \n",
    "\n",
    "Ex2:  \n",
    "Input: n = 14  \n",
    "Output: 13  \n",
    "Explanation: Details of the tournament:  \n",
    "- 1st Round: Teams = 14, Matches = 7, and 7 teams advance.  \n",
    "- 2nd Round: Teams = 7, Matches = 3, and 4 teams advance.  \n",
    "- 3rd Round: Teams = 4, Matches = 2, and 2 teams advance.  \n",
    "- 4th Round: Teams = 2, Matches = 1, and 1 team is declared the winner.  \n",
    "Total number of matches = 7 + 3 + 2 + 1 = 13."
   ]
  },
  {
   "cell_type": "markdown",
   "metadata": {},
   "source": [
    "* 解題想法:  \n",
    "本題要求將題目提供的數字，找出共有幾場的比賽，因此如果剩餘隊伍是奇數的情況下，有一隊無條件晉級，比賽共有(n-1)/2場比賽  \n",
    "如果是偶數隊比賽的話，則為n/2場比賽，最後將所有比賽場數和加起來就是題目要求的答案"
   ]
  },
  {
   "cell_type": "code",
   "execution_count": null,
   "metadata": {},
   "outputs": [],
   "source": [
    "class Solution:\n",
    "    def numberOfMatches(self, n: int) -> int:\n",
    "        count = 0\n",
    "        while True:\n",
    "            if n > 1:\n",
    "                if n % 2 == 0:\n",
    "                    left = int(n/2)\n",
    "                    count += left\n",
    "                    n -= left\n",
    "                else:\n",
    "                    left = int((n-1)/2)\n",
    "                    count += left\n",
    "                    n -= left\n",
    "            else:\n",
    "                break\n",
    "        return count"
   ]
  }
 ],
 "metadata": {
  "kernelspec": {
   "display_name": "Python 3",
   "language": "python",
   "name": "python3"
  },
  "language_info": {
   "codemirror_mode": {
    "name": "ipython",
    "version": 3
   },
   "file_extension": ".py",
   "mimetype": "text/x-python",
   "name": "python",
   "nbconvert_exporter": "python",
   "pygments_lexer": "ipython3",
   "version": "3.7.4"
  }
 },
 "nbformat": 4,
 "nbformat_minor": 2
}
