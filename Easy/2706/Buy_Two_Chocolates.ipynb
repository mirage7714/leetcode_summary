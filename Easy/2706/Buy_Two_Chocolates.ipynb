{
 "cells": [
  {
   "cell_type": "markdown",
   "metadata": {},
   "source": [
    "# 本題要找出最多買完兩塊巧克力剩下多少錢 (\\#Array)\n",
    "原題目連結: https://leetcode.com/problems/buy-two-chocolates/description/   \n",
    "\n",
    "You are given an integer array prices representing the prices of various chocolates in a store. You are also given a single integer money, which represents your initial amount of money.  \n",
    "You must buy exactly two chocolates in such a way that you still have some non-negative leftover money. You would like to minimize the sum of the prices of the two chocolates you buy.  \n",
    "Return the amount of money you will have leftover after buying the two chocolates. If there is no way for you to buy two chocolates without ending up in debt, return money. Note that the leftover must be non-negative.  \n",
    "\n",
    "範例:  \n",
    "Ex1:  \n",
    "Input: prices = [1,2,2], money = 3  \n",
    "Output: 0  \n",
    "Explanation: Purchase the chocolates priced at 1 and 2 units respectively. You will have 3 - 3 = 0 units of money afterwards. Thus, we return 0.  \n",
    "\n",
    "Ex2:  \n",
    "Input: prices = [3,2,3], money = 3  \n",
    "Output: 3  \n",
    "Explanation: You cannot buy 2 chocolates without going in debt, so we return 3."
   ]
  },
  {
   "cell_type": "markdown",
   "metadata": {},
   "source": [
    "* 解題想法:  \n",
    "首先將prices轉成heap，接著取出最小的兩個數值，如果當money大於或等於這兩個總和時則回傳差值，否則直接回傳money"
   ]
  },
  {
   "cell_type": "code",
   "execution_count": null,
   "metadata": {},
   "outputs": [],
   "source": [
    "import heapq\n",
    "\n",
    "class Solution:\n",
    "    def buyChoco(self, prices: List[int], money: int) -> int:\n",
    "        heapq.heapify(prices)\n",
    "        n1 = heapq.heappop(prices)\n",
    "        n2 = heapq.heappop(prices)\n",
    "        if n1 + n2 <= money:\n",
    "            return money - n1 - n2\n",
    "        else:\n",
    "            return money"
   ]
  }
 ],
 "metadata": {
  "kernelspec": {
   "display_name": "Python 3",
   "language": "python",
   "name": "python3"
  },
  "language_info": {
   "codemirror_mode": {
    "name": "ipython",
    "version": 3
   },
   "file_extension": ".py",
   "mimetype": "text/x-python",
   "name": "python",
   "nbconvert_exporter": "python",
   "pygments_lexer": "ipython3",
   "version": "3.7.6"
  }
 },
 "nbformat": 4,
 "nbformat_minor": 4
}
