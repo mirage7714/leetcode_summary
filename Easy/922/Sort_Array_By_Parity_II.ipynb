{
 "cells": [
  {
   "cell_type": "markdown",
   "metadata": {},
   "source": [
    "# 這題要對原本的array中所有的數字重新排序\n",
    "原題目連結: https://leetcode.com/problems/sort-array-by-parity-ii/  \n",
    "\n",
    "Given an array A of non-negative integers, half of the integers in A are odd, and half of the integers are even.  \n",
    "Sort the array so that whenever A[i] is odd, i is odd; and whenever A[i] is even, i is even.  \n",
    "You may return any answer array that satisfies this condition.  \n",
    "\n",
    "範例:  \n",
    "Ex1:  Input: [4,2,5,7]  \n",
    "Output: [4,5,2,7]  \n",
    "Explanation: [4,7,2,5], [2,5,4,7], [2,7,4,5] would also have been accepted.\n"
   ]
  },
  {
   "cell_type": "markdown",
   "metadata": {},
   "source": [
    "* 解題想法:  \n",
    "這題中主要是想要把奇數放在index是奇數的位置，而偶數則是放在index為偶數的位置，而元件的順序並沒有特別的要求  \n",
    "因此建立了兩個list，一個放奇數，另一個放偶數，在用迴圈將兩邊的數字取出"
   ]
  },
  {
   "cell_type": "code",
   "execution_count": null,
   "metadata": {},
   "outputs": [],
   "source": [
    "class Solution:\n",
    "    def sortArrayByParityII(self, A: List[int]) -> List[int]:\n",
    "        odds = []\n",
    "        evens = []\n",
    "        result = []\n",
    "        even_index = 0\n",
    "        odd_index = 0\n",
    "        for m in range(len(A)):\n",
    "            if A[m] % 2 == 0:\n",
    "                evens.append(A[m])\n",
    "            else:\n",
    "                odds.append(A[m])\n",
    "        for n in range(len(A)):\n",
    "            if n % 2 == 0:\n",
    "                result.append(evens[even_index])\n",
    "                even_index += 1\n",
    "            else:\n",
    "                result.append(odds[odd_index])\n",
    "                odd_index += 1\n",
    "        return result"
   ]
  }
 ],
 "metadata": {
  "kernelspec": {
   "display_name": "Python 3",
   "language": "python",
   "name": "python3"
  },
  "language_info": {
   "codemirror_mode": {
    "name": "ipython",
    "version": 3
   },
   "file_extension": ".py",
   "mimetype": "text/x-python",
   "name": "python",
   "nbconvert_exporter": "python",
   "pygments_lexer": "ipython3",
   "version": "3.7.4"
  }
 },
 "nbformat": 4,
 "nbformat_minor": 2
}
