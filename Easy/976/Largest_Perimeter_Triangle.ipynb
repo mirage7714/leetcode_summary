{
 "cells": [
  {
   "cell_type": "markdown",
   "metadata": {},
   "source": [
    "# 本題要找出最大的三角形邊長總和為多少 (\\#Array, \\#Greedy, \\#Sorting)\n",
    "原題目連結: https://leetcode.com/problems/largest-perimeter-triangle/  \n",
    "\n",
    "Given an integer array nums, return the largest perimeter of a triangle with a non-zero area, formed from three of these lengths. If it is impossible to form any triangle of a non-zero area, return 0.  \n",
    "\n",
    "範例:  \n",
    "Ex1:  \n",
    "Input: nums = [2,1,2]  \n",
    "Output: 5  \n",
    "\n",
    "Ex2:  \n",
    "Input: nums = [1,2,1]  \n",
    "Output: 0"
   ]
  },
  {
   "cell_type": "markdown",
   "metadata": {},
   "source": [
    "* 解題想法:  \n",
    "首先將list進行排序之後，從最大的三個數值開始進行計算，如果當這三個邊長無法組成三角形時，代表需要剔除最大值，因此將index+1，得到第二三四長的邊長，並檢查是否可組成三角形，直到符合三角形條件時回傳總邊長，或是到最後回傳0"
   ]
  },
  {
   "cell_type": "code",
   "execution_count": null,
   "metadata": {},
   "outputs": [],
   "source": [
    "class Solution:\n",
    "    def largestPerimeter(self, A: List[int]) -> int:\n",
    "        result = 0\n",
    "        A.sort(reverse = True)\n",
    "        for m in range(len(A)-2):\n",
    "            i = m+1\n",
    "            j = i+1\n",
    "            if A[m] < A[i] + A[j]:\n",
    "                result = A[m] + A[i] + A[j]\n",
    "                break\n",
    "        return result"
   ]
  }
 ],
 "metadata": {
  "kernelspec": {
   "display_name": "Python 3",
   "language": "python",
   "name": "python3"
  },
  "language_info": {
   "codemirror_mode": {
    "name": "ipython",
    "version": 3
   },
   "file_extension": ".py",
   "mimetype": "text/x-python",
   "name": "python",
   "nbconvert_exporter": "python",
   "pygments_lexer": "ipython3",
   "version": "3.7.4"
  }
 },
 "nbformat": 4,
 "nbformat_minor": 4
}
