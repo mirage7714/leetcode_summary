{
 "cells": [
  {
   "cell_type": "markdown",
   "metadata": {},
   "source": [
    "# 本題要判斷兩個字串是否相似\n",
    "原題目連結: https://leetcode.com/problems/check-whether-two-strings-are-almost-equivalent/  \n",
    "\n",
    "Two strings word1 and word2 are considered almost equivalent if the differences between the frequencies of each letter from 'a' to 'z' between word1 and word2 is at most 3.  \n",
    "\n",
    "Given two strings word1 and word2, each of length n, return true if word1 and word2 are almost equivalent, or false otherwise.  \n",
    "\n",
    "The frequency of a letter x is the number of times it occurs in the string.  \n",
    "\n",
    "範例:  \n",
    "Ex1:  \n",
    "Input: word1 = \"aaaa\", word2 = \"bccb\"  \n",
    "Output: false  \n",
    "Explanation: There are 4 'a's in \"aaaa\" but 0 'a's in \"bccb\".  \n",
    "The difference is 4, which is more than the allowed 3.  \n",
    "\n",
    "Ex2:  \n",
    "Input: word1 = \"abcdeef\", word2 = \"abaaacc\"  \n",
    "Output: true  \n",
    "Explanation: The differences between the frequencies of each letter in word1 and word2 are at most 3:  \n",
    "- 'a' appears 1 time in word1 and 4 times in word2. The difference is 3.  \n",
    "- 'b' appears 1 time in word1 and 1 time in word2. The difference is 0.  \n",
    "- 'c' appears 1 time in word1 and 2 times in word2. The difference is 1.  \n",
    "- 'd' appears 1 time in word1 and 0 times in word2. The difference is 1.  \n",
    "- 'e' appears 2 times in word1 and 0 times in word2. The difference is 2.  \n",
    "- 'f' appears 1 time in word1 and 0 times in word2. The difference is 1.  \n",
    "\n",
    "Ex3:  \n",
    "Input: word1 = \"cccddabba\", word2 = \"babababab\"  \n",
    "Output: true  \n",
    "Explanation: The differences between the frequencies of each letter in word1 and word2 are at most 3:  \n",
    "- 'a' appears 2 times in word1 and 4 times in word2. The difference is 2.  \n",
    "- 'b' appears 2 times in word1 and 5 times in word2. The difference is 3.  \n",
    "- 'c' appears 3 times in word1 and 0 times in word2. The difference is 3.  \n",
    "- 'd' appears 2 times in word1 and 0 times in word2. The difference is 2."
   ]
  },
  {
   "cell_type": "markdown",
   "metadata": {},
   "source": [
    "* 解題想法:  \n",
    "首先需要分析每個字串內字母出現的頻率為何，接著首先從第一個字的頻率開始分析，如果相差有超過3則直接回傳False，如果沒有則繼續比較，接著找出第二個字中沒有在第一個字出現過的字母，並確認出現數是否有超過3，如果有則回傳False，否則最後回傳True"
   ]
  },
  {
   "cell_type": "code",
   "execution_count": null,
   "metadata": {},
   "outputs": [],
   "source": [
    "class Solution:\n",
    "    def checkAlmostEquivalent(self, word1: str, word2: str) -> bool:\n",
    "        def countFreq(word):\n",
    "            freq = {}\n",
    "            for w in word:\n",
    "                if w not in freq.keys():\n",
    "                    freq[w] = 1\n",
    "                else:\n",
    "                    freq[w] += 1\n",
    "            return freq\n",
    "        \n",
    "        result = True\n",
    "        freq1 = countFreq(word1)\n",
    "        freq2 = countFreq(word2)\n",
    "        for k in freq1.keys():\n",
    "            if k in freq2.keys():\n",
    "                if abs(freq1[k] - freq2[k]) > 3:\n",
    "                    result = False\n",
    "                    break\n",
    "            else:\n",
    "                if freq1[k] > 3:\n",
    "                    result = False\n",
    "                    break\n",
    "        if result:\n",
    "            for m in freq2.keys():\n",
    "                if m not in freq1.keys():\n",
    "                    if freq2[m] > 3:\n",
    "                        result = False\n",
    "                        break\n",
    "        return result"
   ]
  }
 ],
 "metadata": {
  "kernelspec": {
   "display_name": "Python 3",
   "language": "python",
   "name": "python3"
  },
  "language_info": {
   "codemirror_mode": {
    "name": "ipython",
    "version": 3
   },
   "file_extension": ".py",
   "mimetype": "text/x-python",
   "name": "python",
   "nbconvert_exporter": "python",
   "pygments_lexer": "ipython3",
   "version": "3.7.4"
  }
 },
 "nbformat": 4,
 "nbformat_minor": 4
}
