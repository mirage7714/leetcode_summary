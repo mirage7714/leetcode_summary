{
 "cells": [
  {
   "cell_type": "markdown",
   "metadata": {},
   "source": [
    "# 本題要判斷兩個詞的字母順序關係是否相同\n",
    "原題目連結: https://leetcode.com/problems/is-subsequence/  \n",
    "\n",
    "Given a string s and a string t, check if s is subsequence of t.  \n",
    "\n",
    "A subsequence of a string is a new string which is formed from the original string by deleting some (can be none) of the characters without disturbing the relative positions of the remaining characters. (ie, \"ace\" is a subsequence of \"abcde\" while \"aec\" is not).  \n",
    "\n",
    "範例:  \n",
    "Ex1:  \n",
    "Input: s = \"abc\", t = \"ahbgdc\"  \n",
    "Output: true  \n",
    "\n",
    "Ex2:  \n",
    "Input: s = \"axc\", t = \"ahbgdc\"  \n",
    "Output: false  \n"
   ]
  },
  {
   "cell_type": "markdown",
   "metadata": {},
   "source": [
    "* 解題想法:  \n",
    "想了好幾天之後，回頭看這題有不同的想法，這邊想到的是利用在S中的每個字母的index，將t的字串切割成更小的字串  \n",
    "如果s的字母不在t中就是回傳false，如果存在就繼續切割下去，直到S中的字母都用完為止"
   ]
  },
  {
   "cell_type": "code",
   "execution_count": null,
   "metadata": {},
   "outputs": [],
   "source": [
    "class Solution:\n",
    "    def isSubsequence(self, s: str, t: str) -> bool:\n",
    "        is_ordered = True\n",
    "        order = []\n",
    "        refine = []\n",
    "        for c in range(len(s)):\n",
    "            order.append(s[c])\n",
    "            \n",
    "        for o in order:\n",
    "            if o not in t:\n",
    "                is_ordered = False\n",
    "                break\n",
    "            else:\n",
    "                t = t[t.index(o)+1:]\n",
    "        return is_ordered"
   ]
  }
 ],
 "metadata": {
  "kernelspec": {
   "display_name": "Python 3",
   "language": "python",
   "name": "python3"
  },
  "language_info": {
   "codemirror_mode": {
    "name": "ipython",
    "version": 3
   },
   "file_extension": ".py",
   "mimetype": "text/x-python",
   "name": "python",
   "nbconvert_exporter": "python",
   "pygments_lexer": "ipython3",
   "version": "3.7.4"
  }
 },
 "nbformat": 4,
 "nbformat_minor": 2
}
