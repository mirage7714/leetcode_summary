{
 "cells": [
  {
   "cell_type": "markdown",
   "id": "06532b42-3f89-4b1f-86c6-6afafdafdcc1",
   "metadata": {},
   "source": [
    "# 本題要找出兩個list共同出現的數值有多少 (\\#Array )\n",
    "原題目連結: https://leetcode.com/problems/find-common-elements-between-two-arrays/description/  \n",
    "\n",
    "ou are given two 0-indexed integer arrays nums1 and nums2 of sizes n and m, respectively.  \n",
    "Consider calculating the following values:  \n",
    "\n",
    "The number of indices i such that 0 <= i < n and nums1[i] occurs at least once in nums2.  \n",
    "The number of indices i such that 0 <= i < m and nums2[i] occurs at least once in nums1.  \n",
    "Return an integer array answer of size 2 containing the two values in the above order.   \n",
    "\n",
    "範例:  \n",
    "Ex1:  \n",
    "Input: nums1 = [4,3,2,3,1], nums2 = [2,2,5,2,3,6]  \n",
    "Output: [3,4]  \n",
    "Explanation: We calculate the values as follows:  \n",
    "- The elements at indices 1, 2, and 3 in nums1 occur at least once in nums2. So the first value is 3.  \n",
    "- The elements at indices 0, 1, 3, and 4 in nums2 occur at least once in nums1. So the second value is 4.  \n",
    "\n",
    "Ex2:  \n",
    "Input: nums1 = [3,4,2,3], nums2 = [1,5]  \n",
    "Output: [0,0]  \n",
    "Explanation: There are no common elements between the two arrays, so the two values will be 0."
   ]
  },
  {
   "cell_type": "markdown",
   "id": "f1950119-2454-4055-9653-9035ea36fab5",
   "metadata": {},
   "source": [
    "* 解題想法:  \n",
    "首先建立一個list用來存放出現的次數，接著分別檢查兩個list中的元素出現在另一個list的次數有多少，加總之後就是答案"
   ]
  },
  {
   "cell_type": "code",
   "execution_count": null,
   "id": "76c7216f-aefc-459f-96d8-ff3368d738cc",
   "metadata": {},
   "outputs": [],
   "source": [
    "class Solution:\n",
    "    def findIntersectionValues(self, nums1: List[int], nums2: List[int]) -> List[int]:\n",
    "        res = [0,0]\n",
    "        count1 = {}\n",
    "        count2 = {}\n",
    "        for i in nums1:\n",
    "            if i not in count1.keys():\n",
    "                count1[i] = 1\n",
    "            else:\n",
    "                count1[i] += 1\n",
    "        for j in nums2:\n",
    "            if j not in count2.keys():\n",
    "                count2[j] = 1\n",
    "            else:\n",
    "                count2[j] += 1\n",
    "        for key, val in count1.items():\n",
    "            if key in count2.keys():\n",
    "                res[0] += val\n",
    "                res[1] += count2[key]\n",
    "        return res"
   ]
  }
 ],
 "metadata": {
  "kernelspec": {
   "display_name": "Python 3 (ipykernel)",
   "language": "python",
   "name": "python3"
  },
  "language_info": {
   "codemirror_mode": {
    "name": "ipython",
    "version": 3
   },
   "file_extension": ".py",
   "mimetype": "text/x-python",
   "name": "python",
   "nbconvert_exporter": "python",
   "pygments_lexer": "ipython3",
   "version": "3.9.13"
  }
 },
 "nbformat": 4,
 "nbformat_minor": 5
}
