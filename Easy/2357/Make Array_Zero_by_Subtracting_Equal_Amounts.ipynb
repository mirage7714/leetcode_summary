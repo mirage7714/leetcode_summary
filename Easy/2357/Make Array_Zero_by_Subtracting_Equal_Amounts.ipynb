{
 "cells": [
  {
   "cell_type": "markdown",
   "metadata": {},
   "source": [
    "# 本題要找出最少要幾次可以將指定的list中所有的數值全部改成0\n",
    "原題目連結: https://leetcode.com/problems/make-array-zero-by-subtracting-equal-amounts/  \n",
    "\n",
    "You are given a non-negative integer array nums. In one operation, you must:  \n",
    "\n",
    "Choose a positive integer x such that x is less than or equal to the smallest non-zero element in nums.  \n",
    "Subtract x from every positive element in nums.  \n",
    "Return the minimum number of operations to make every element in nums equal to 0.  \n",
    "\n",
    "範例:  \n",
    "Ex1:  \n",
    "Input: nums = [1,5,0,3,5]  \n",
    "Output: 3   \n",
    "Explanation:  \n",
    "In the first operation, choose x = 1. Now, nums = [0,4,0,2,4].  \n",
    "In the second operation, choose x = 2. Now, nums = [0,2,0,0,2].  \n",
    "In the third operation, choose x = 2. Now, nums = [0,0,0,0,0].  \n",
    "\n",
    "Ex2:  \n",
    "Input: nums = [0]  \n",
    "Output: 0  \n",
    "Explanation: Each element in nums is already 0 so no operations are needed."
   ]
  },
  {
   "cell_type": "markdown",
   "metadata": {},
   "source": [
    "* 解題想法:  \n",
    "首先將nums進行排序，接著從最小的數值開始檢查，如果目前的值大於0且大於目前的暫存，則將暫存更新為目前的值並將記數+1，最後回傳記數"
   ]
  },
  {
   "cell_type": "code",
   "execution_count": null,
   "metadata": {},
   "outputs": [],
   "source": [
    "class Solution:\n",
    "    def minimumOperations(self, nums: List[int]) -> int:\n",
    "        count = 0\n",
    "        nums.sort()\n",
    "        temp = 0\n",
    "        for m in range(len(nums)):\n",
    "            if nums[m] > temp:\n",
    "                temp = nums[m]\n",
    "                count += 1\n",
    "        return count"
   ]
  }
 ],
 "metadata": {
  "kernelspec": {
   "display_name": "Python 3",
   "language": "python",
   "name": "python3"
  },
  "language_info": {
   "codemirror_mode": {
    "name": "ipython",
    "version": 3
   },
   "file_extension": ".py",
   "mimetype": "text/x-python",
   "name": "python",
   "nbconvert_exporter": "python",
   "pygments_lexer": "ipython3",
   "version": "3.7.4"
  }
 },
 "nbformat": 4,
 "nbformat_minor": 4
}
