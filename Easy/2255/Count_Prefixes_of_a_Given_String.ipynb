{
 "cells": [
  {
   "cell_type": "markdown",
   "metadata": {},
   "source": [
    "# 本題要找出在list中共有幾個出現在指定字串的開頭\n",
    "原題目連結: https://leetcode.com/problems/count-prefixes-of-a-given-string/  \n",
    "\n",
    "You are given a string array words and a string s, where words[i] and s comprise only of lowercase English letters.  \n",
    "Return the number of strings in words that are a prefix of s.  \n",
    "A prefix of a string is a substring that occurs at the beginning of the string. A substring is a contiguous sequence of characters within a string.  \n",
    "\n",
    "範例:  \n",
    "Ex1:  \n",
    "Input: words = [\"a\",\"b\",\"c\",\"ab\",\"bc\",\"abc\"], s = \"abc\"  \n",
    "Output: 3  \n",
    "Explanation:  \n",
    "The strings in words which are a prefix of s = \"abc\" are:  \n",
    "\"a\", \"ab\", and \"abc\".  \n",
    "Thus the number of strings in words which are a prefix of s is 3.  \n",
    "\n",
    "Ex2:  \n",
    "Input: words = [\"a\",\"a\"], s = \"aa\"  \n",
    "Output: 2  \n",
    "Explanation:  \n",
    "Both of the strings are a prefix of s.   \n",
    "Note that the same string can occur multiple times in words, and it should be counted each time."
   ]
  },
  {
   "cell_type": "markdown",
   "metadata": {},
   "source": [
    "* 解題想法:  \n",
    "首先建立一個int用來存放出現的次數，接著開始對提供的list進行迴圈，如果與"
   ]
  },
  {
   "cell_type": "code",
   "execution_count": null,
   "metadata": {},
   "outputs": [],
   "source": [
    "class Solution:\n",
    "    def countPrefixes(self, words: List[str], s: str) -> int:\n",
    "        result = 0\n",
    "        for w in words:\n",
    "            if s.startswith(w):\n",
    "                result += 1\n",
    "        return result"
   ]
  }
 ],
 "metadata": {
  "kernelspec": {
   "display_name": "Python 3",
   "language": "python",
   "name": "python3"
  },
  "language_info": {
   "codemirror_mode": {
    "name": "ipython",
    "version": 3
   },
   "file_extension": ".py",
   "mimetype": "text/x-python",
   "name": "python",
   "nbconvert_exporter": "python",
   "pygments_lexer": "ipython3",
   "version": "3.7.4"
  }
 },
 "nbformat": 4,
 "nbformat_minor": 4
}
