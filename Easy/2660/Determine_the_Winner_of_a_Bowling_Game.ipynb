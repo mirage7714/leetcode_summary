{
 "cells": [
  {
   "cell_type": "markdown",
   "metadata": {},
   "source": [
    "# 本題要找出球賽的最後贏家是誰 (\\@Array )\n",
    "原題目連結: https://leetcode.com/problems/determine-the-winner-of-a-bowling-game/description/  \n",
    "\n",
    "You are given two 0-indexed integer arrays player1 and player2, that represent the number of pins that player 1 and player 2 hit in a bowling game, respectively.  \n",
    "The bowling game consists of n turns, and the number of pins in each turn is exactly 10.  \n",
    "Assume a player hit xi pins in the ith turn. The value of the ith turn for the player is:  \n",
    "\n",
    "2xi if the player hit 10 pins in any of the previous two turns.  \n",
    "Otherwise, It is xi.  \n",
    "The score of the player is the sum of the values of their n turns.  \n",
    "\n",
    "Return  \n",
    "1 if the score of player 1 is more than the score of player 2,  \n",
    "2 if the score of player 2 is more than the score of player 1, and  \n",
    "0 in case of a draw.  \n",
    "\n",
    "範例:  \n",
    "Ex1:  \n",
    "Input: player1 = [4,10,7,9], player2 = [6,5,2,3]  \n",
    "Output: 1  \n",
    "Explanation: The score of player1 is 4 + 10 + 2*7 + 2*9 = 46.  \n",
    "The score of player2 is 6 + 5 + 2 + 3 = 16.  \n",
    "Score of player1 is more than the score of player2, so, player1 is the winner, and the answer is 1.  \n",
    "\n",
    "Ex2:  \n",
    "Input: player1 = [3,5,7,6], player2 = [8,10,10,2]  \n",
    "Output: 2  \n",
    "Explanation: The score of player1 is 3 + 5 + 7 + 6 = 21.  \n",
    "The score of player2 is 8 + 10 + 2*10 + 2*2 = 42.  \n",
    "Score of player2 is more than the score of player1, so, player2 is the winner, and the answer is 2.  \n",
    "\n",
    "Ex3:  \n",
    "Input: player1 = [2,3], player2 = [4,1]  \n",
    "Output: 0  \n",
    "Explanation: The score of player1 is 2 + 3 = 5  \n",
    "The score of player2 is 4 + 1 = 5  \n",
    "The score of player1 equals to the score of player2, so, there is a draw, and the answer is 0."
   ]
  },
  {
   "cell_type": "markdown",
   "metadata": {},
   "source": [
    "* 解題想法:  \n",
    "首先建立一個函數用來計算每個球員的得分，如果前兩輪有10分的紀錄，則分數乘2，否則就是加上該分數，最後比較兩個球員的分數並回傳贏家是誰"
   ]
  },
  {
   "cell_type": "code",
   "execution_count": null,
   "metadata": {},
   "outputs": [],
   "source": [
    "class Solution:\n",
    "    def isWinner(self, player1: List[int], player2: List[int]) -> int:\n",
    "        def get_score(nums):\n",
    "            res = 0\n",
    "            d = False\n",
    "            l = 0\n",
    "            for n in range(len(nums)):\n",
    "                if d and n - l <= 2:\n",
    "                    res += nums[n] * 2 \n",
    "                else:\n",
    "                    res += nums[n]\n",
    "                if nums[n] == 10:\n",
    "                    d = True\n",
    "                    l = n\n",
    "            return res\n",
    "        \n",
    "        win = 0\n",
    "        s1 = get_score(player1)\n",
    "        s2 = get_score(player2)\n",
    "        if s1 > s2:\n",
    "            win = 1\n",
    "        elif s1 < s2:\n",
    "            win = 2\n",
    "        return win"
   ]
  }
 ],
 "metadata": {
  "kernelspec": {
   "display_name": "Python 3",
   "language": "python",
   "name": "python3"
  },
  "language_info": {
   "codemirror_mode": {
    "name": "ipython",
    "version": 3
   },
   "file_extension": ".py",
   "mimetype": "text/x-python",
   "name": "python",
   "nbconvert_exporter": "python",
   "pygments_lexer": "ipython3",
   "version": "3.7.6"
  }
 },
 "nbformat": 4,
 "nbformat_minor": 4
}
