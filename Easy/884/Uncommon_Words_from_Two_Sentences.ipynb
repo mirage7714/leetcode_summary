{
 "cells": [
  {
   "cell_type": "markdown",
   "metadata": {},
   "source": [
    "# 本題要找出在兩個句子中只出現過一次的字\n",
    "原題目連結: https://leetcode.com/problems/uncommon-words-from-two-sentences/  \n",
    "\n",
    "We are given two sentences A and B.  (A sentence is a string of space separated words.  Each word consists only of lowercase letters.)  \n",
    "A word is uncommon if it appears exactly once in one of the sentences, and does not appear in the other sentence.  \n",
    "Return a list of all uncommon words.   \n",
    "You may return the list in any order.  \n",
    "\n",
    "範例:  \n",
    "Ex1:  \n",
    "Input: A = \"this apple is sweet\", B = \"this apple is sour\"  \n",
    "Output: [\"sweet\",\"sour\"]  \n",
    "\n",
    "Ex2:  \n",
    "Input: A = \"apple apple\", B = \"banana\"  \n",
    "Output: [\"banana\"]"
   ]
  },
  {
   "cell_type": "markdown",
   "metadata": {},
   "source": [
    "* 解題想法:  \n",
    "因為只是要找出兩個句子中只出現過一次的字，可以將兩個句子合併後在計算字頻，最後找出只出現過一次的字來回傳即可"
   ]
  },
  {
   "cell_type": "code",
   "execution_count": null,
   "metadata": {},
   "outputs": [],
   "source": [
    "class Solution:\n",
    "    def uncommonFromSentences(self, A: str, B: str) -> List[str]:\n",
    "        parts_a = A.split(' ')\n",
    "        parts_b = B.split(' ')\n",
    "        result = []\n",
    "        freq = {}\n",
    "        parts = parts_a + parts_b\n",
    "        for m in parts:\n",
    "            if m not in freq.keys():\n",
    "                freq[m] = 1\n",
    "            else:\n",
    "                freq[m] += 1\n",
    "        for key in freq.keys():\n",
    "            if freq[key] == 1:\n",
    "                result.append(key)\n",
    "        return result"
   ]
  }
 ],
 "metadata": {
  "kernelspec": {
   "display_name": "Python 3",
   "language": "python",
   "name": "python3"
  },
  "language_info": {
   "codemirror_mode": {
    "name": "ipython",
    "version": 3
   },
   "file_extension": ".py",
   "mimetype": "text/x-python",
   "name": "python",
   "nbconvert_exporter": "python",
   "pygments_lexer": "ipython3",
   "version": "3.7.4"
  }
 },
 "nbformat": 4,
 "nbformat_minor": 2
}
