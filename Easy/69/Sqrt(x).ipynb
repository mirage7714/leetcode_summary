{
 "cells": [
  {
   "cell_type": "markdown",
   "metadata": {},
   "source": [
    "# 本題要找出指定數值最接近的平方根為何\n",
    "原題目連結: https://leetcode.com/problems/sqrtx/  \n",
    "\n",
    "Given a non-negative integer x, compute and return the square root of x.  \n",
    "Since the return type is an integer, the decimal digits are truncated, and only the integer part of the result is returned.  \n",
    "Note: You are not allowed to use any built-in exponent function or operator, such as pow(x, 0.5) or x ** 0.5.  \n",
    "\n",
    "範例:  \n",
    "Ex1:  \n",
    "Input: x = 4  \n",
    "Output: 2  \n",
    "\n",
    "Ex2:  \n",
    "Input: x = 8  \n",
    "Output: 2  \n",
    "Explanation: The square root of 8 is 2.82842..., and since the decimal part is truncated, 2 is returned."
   ]
  },
  {
   "cell_type": "markdown",
   "metadata": {},
   "source": [
    "* 解題想法:  \n",
    "由於不能使用內建的函數，因此用binary search來進行搜尋，邊界從1到x/2開始進行搜尋，如果有找到某數的平方為x，則回傳某數，如果都找不到時，則檢查邊界值的平方是否大於指定數，如果大於則-1之後就是題目要找的答案"
   ]
  },
  {
   "cell_type": "code",
   "execution_count": null,
   "metadata": {},
   "outputs": [],
   "source": [
    "class Solution:\n",
    "    def mySqrt(self, x: int) -> int:\n",
    "        def search(l, r, x):\n",
    "            m = int((l+r)/2)\n",
    "            if l < r:\n",
    "                if m * m == x:\n",
    "                    return m\n",
    "                elif m * m > x:\n",
    "                    return search(l, m-1, x)\n",
    "                else:\n",
    "                    return search(m+1, r, x)\n",
    "            else:\n",
    "                return l\n",
    "        result = 0\n",
    "        if x == 1:\n",
    "            result = l\n",
    "        elif x > 1:\n",
    "            result = search(1, int(x/2), x)\n",
    "            if result * result > x:\n",
    "                result -= 1\n",
    "        return result"
   ]
  }
 ],
 "metadata": {
  "kernelspec": {
   "display_name": "Python 3",
   "language": "python",
   "name": "python3"
  },
  "language_info": {
   "codemirror_mode": {
    "name": "ipython",
    "version": 3
   },
   "file_extension": ".py",
   "mimetype": "text/x-python",
   "name": "python",
   "nbconvert_exporter": "python",
   "pygments_lexer": "ipython3",
   "version": "3.7.4"
  }
 },
 "nbformat": 4,
 "nbformat_minor": 4
}
