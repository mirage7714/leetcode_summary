{
 "cells": [
  {
   "cell_type": "markdown",
   "id": "c20b4d3d-7c67-4edd-820c-2bef7e2925fd",
   "metadata": {},
   "source": [
    "# 本題要找出不是最大也不是最小值的數 (\\#Array)\n",
    "原題目連結: https://leetcode.com/problems/neither-minimum-nor-maximum/description/  \n",
    "\n",
    "Given an integer array nums containing distinct positive integers, find and return any number from the array that is neither the minimum nor the maximum value in the array, or -1 if there is no such number.  \n",
    "\n",
    "Return the selected integer  \n",
    "\n",
    "範例:  \n",
    "Ex1:  \n",
    "Input: nums = [3,2,1,4]  \n",
    "Output: 2  \n",
    "Explanation: In this example, the minimum value is 1 and the maximum value is 4. Therefore, either 2 or 3 can be valid answers.  \n",
    "\n",
    "Ex2:  \n",
    "Input: nums = [1,2]  \n",
    "Output: -1  \n",
    "Explanation: Since there is no number in nums that is neither the maximum nor the minimum, we cannot select a number that satisfies the given condition. Therefore, there is no answer.  \n",
    "\n",
    "Ex3:  \n",
    "Input: nums = [2,1,3]  \n",
    "Output: 2  \n",
    "Explanation: Since 2 is neither the maximum nor the minimum value in nums, it is the only valid answer. "
   ]
  },
  {
   "cell_type": "markdown",
   "id": "ed45f7e4-b64f-42c4-8dd7-4f32bb0cf467",
   "metadata": {},
   "source": [
    "* 解題想法:  \n",
    "首先檢查list的長度，如果list長度小於或等於2，則直接回傳-1，接著將nums排序後取出第二個值就是答案"
   ]
  },
  {
   "cell_type": "code",
   "execution_count": null,
   "id": "288be731-846a-432e-b082-e427b992f24b",
   "metadata": {},
   "outputs": [],
   "source": [
    "class Solution:\n",
    "    def findNonMinOrMax(self, nums: List[int]) -> int:\n",
    "        if len(nums) <= 2:\n",
    "            return -1\n",
    "        else:  \n",
    "            nums.sort()\n",
    "            return nums[1]"
   ]
  }
 ],
 "metadata": {
  "kernelspec": {
   "display_name": "Python 3 (ipykernel)",
   "language": "python",
   "name": "python3"
  },
  "language_info": {
   "codemirror_mode": {
    "name": "ipython",
    "version": 3
   },
   "file_extension": ".py",
   "mimetype": "text/x-python",
   "name": "python",
   "nbconvert_exporter": "python",
   "pygments_lexer": "ipython3",
   "version": "3.9.13"
  }
 },
 "nbformat": 4,
 "nbformat_minor": 5
}
