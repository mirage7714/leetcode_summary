{
 "cells": [
  {
   "cell_type": "markdown",
   "metadata": {},
   "source": [
    "# 本題要計算最少要翻轉幾次顏色才能達到連續K個相同顏色\n",
    "原題目連結: https://leetcode.com/problems/minimum-recolors-to-get-k-consecutive-black-blocks/  \n",
    "\n",
    "You are given a 0-indexed string blocks of length n, where blocks[i] is either 'W' or 'B', representing the color of the ith block. The characters 'W' and 'B' denote the colors white and black, respectively.  \n",
    "\n",
    "You are also given an integer k, which is the desired number of consecutive black blocks.  \n",
    "\n",
    "In one operation, you can recolor a white block such that it becomes a black block.  \n",
    "\n",
    "Return the minimum number of operations needed such that there is at least one occurrence of k consecutive black blocks.  \n",
    "\n",
    "範例:  \n",
    "Ex1:  \n",
    "Input: blocks = \"WBBWWBBWBW\", k = 7  \n",
    "Output: 3  \n",
    "Explanation:  \n",
    "One way to achieve 7 consecutive black blocks is to recolor the 0th, 3rd, and 4th blocks  \n",
    "so that blocks = \"BBBBBBBWBW\".   \n",
    "It can be shown that there is no way to achieve 7 consecutive black blocks in less than 3 operations.  \n",
    "Therefore, we return 3.  \n",
    "\n",
    "Ex2:  \n",
    "Input: blocks = \"WBWBBBW\", k = 2  \n",
    "Output: 0  \n",
    "Explanation:  \n",
    "No changes need to be made, since 2 consecutive black blocks already exist.  \n",
    "Therefore, we return 0."
   ]
  },
  {
   "cell_type": "markdown",
   "metadata": {},
   "source": [
    "* 解題想法:  \n",
    "這邊使用slide window的方式來進行解題，首先找出前K長度的字串中共有多少個需要翻轉的顏色，接著開始往後面檢查，如果當blocks[m+k]與blocks[m]不相同時，則確認blocks[m+k]為W或是B，如果是B的話則將目前的數值-1並與目前的最小值相比，直到檢查結束或是最小值為0時則提早結束迴圈，最後回傳最小值"
   ]
  },
  {
   "cell_type": "code",
   "execution_count": null,
   "metadata": {},
   "outputs": [],
   "source": [
    "class Solution:\n",
    "    def minimumRecolors(self, blocks: str, k: int) -> int:\n",
    "        def countChar(word):\n",
    "            count = 0\n",
    "            for w in word:\n",
    "                if w == 'W':\n",
    "                    count += 1\n",
    "            return count\n",
    "\n",
    "        start = countChar(blocks[:k])\n",
    "        count = start\n",
    "        for m in range(len(blocks)-k):\n",
    "            if blocks[m+k] != blocks[m]:\n",
    "                if blocks[m+k] == 'W':\n",
    "                    start += 1\n",
    "                else:\n",
    "                    start -= 1\n",
    "                    if start == 0:\n",
    "                        count = 0\n",
    "                        break\n",
    "                    elif start < count:\n",
    "                        count = start\n",
    "        return count"
   ]
  }
 ],
 "metadata": {
  "kernelspec": {
   "display_name": "Python 3",
   "language": "python",
   "name": "python3"
  },
  "language_info": {
   "codemirror_mode": {
    "name": "ipython",
    "version": 3
   },
   "file_extension": ".py",
   "mimetype": "text/x-python",
   "name": "python",
   "nbconvert_exporter": "python",
   "pygments_lexer": "ipython3",
   "version": "3.7.4"
  }
 },
 "nbformat": 4,
 "nbformat_minor": 4
}
