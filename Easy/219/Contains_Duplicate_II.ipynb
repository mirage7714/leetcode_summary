{
 "cells": [
  {
   "cell_type": "markdown",
   "metadata": {},
   "source": [
    "# 此題為找出list中重複數字的進階版，加上了範圍的限制\n",
    "原題目連結: https://leetcode.com/problems/contains-duplicate-ii/  \n",
    "相似題目: https://leetcode.com/problems/contains-duplicate  \n",
    "\n",
    "範例:  \n",
    "Ex1:  \n",
    "Input: nums = [1,2,3,1], k = 3  \n",
    "Output: true  \n",
    "\n",
    "Ex2:  \n",
    "Input: nums = [1,0,1,1], k = 1  \n",
    "Output: true  \n",
    "\n",
    "Ex3:  \n",
    "Input: nums = [1,2,3,1,2,3], k = 2  \n",
    "Output: false  "
   ]
  },
  {
   "cell_type": "markdown",
   "metadata": {},
   "source": [
    "* 解題想法:  \n",
    "這題跟217主要的差異在於，217中只要有相同的就算是重複，而這題必須要在題目提供的範圍K內重複，才算有重複  \n",
    "如果超過這個範圍就不算是有重複數字，因此採取了與217不太相同的做法，而是先找出有那些數字是有出現超過一次以上  \n",
    "針對超過一次以上的數字，計算兩個指標間是否有小於或等於K，如果有符合條件則是有重複的情況，就直接終止迴圈並回傳結果"
   ]
  },
  {
   "cell_type": "code",
   "execution_count": null,
   "metadata": {},
   "outputs": [],
   "source": [
    "class Solution:\n",
    "    def containsNearbyDuplicate(self, nums: List[int], k: int) -> bool:\n",
    "        is_duplicated = False\n",
    "        temp = {}\n",
    "        for n in range(len(nums)):\n",
    "            if nums[n] not in temp.keys():\n",
    "                temp[nums[n]] = [n]\n",
    "            else:\n",
    "                l = temp[nums[n]]\n",
    "                l.append(n)\n",
    "                temp[nums[n]] = l\n",
    "        for key in temp.keys():\n",
    "            count = temp[key]\n",
    "            if len(count) > 1:\n",
    "                for c in range(len(count)-1):\n",
    "                    if count[c+1] - count[c] <= k:\n",
    "                        is_duplicated = True\n",
    "                        break\n",
    "            if is_duplicated:\n",
    "                break\n",
    "        return is_duplicated"
   ]
  }
 ],
 "metadata": {
  "kernelspec": {
   "display_name": "Python 3",
   "language": "python",
   "name": "python3"
  },
  "language_info": {
   "codemirror_mode": {
    "name": "ipython",
    "version": 3
   },
   "file_extension": ".py",
   "mimetype": "text/x-python",
   "name": "python",
   "nbconvert_exporter": "python",
   "pygments_lexer": "ipython3",
   "version": "3.7.4"
  }
 },
 "nbformat": 4,
 "nbformat_minor": 2
}
