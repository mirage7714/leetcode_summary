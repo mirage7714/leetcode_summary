{
 "cells": [
  {
   "cell_type": "markdown",
   "metadata": {},
   "source": [
    "# 本題要將指定的LinkedList進行倒轉\n",
    "原題目連結: https://leetcode.com/problems/reverse-linked-list/  \n",
    "\n",
    "Given the head of a singly linked list, reverse the list, and return the reversed list.  \n",
    "\n",
    "範例:  \n",
    "Ex1:  \n",
    "Input: head = [1,2,3,4,5]  \n",
    "Output: [5,4,3,2,1]  \n",
    "\n",
    "Ex2:  \n",
    "Input: head = [1,2]  \n",
    "Output: [2,1]  \n",
    "\n",
    "Ex3:  \n",
    "Input: head = []  \n",
    "Output: []"
   ]
  },
  {
   "cell_type": "markdown",
   "metadata": {},
   "source": [
    "* 解題想法:  \n",
    "首先將LinkdedList內的值找出後放入一個list中，接著重新建立一個LinkedList並將數值填回"
   ]
  },
  {
   "cell_type": "code",
   "execution_count": null,
   "metadata": {},
   "outputs": [],
   "source": [
    "# Definition for singly-linked list.\n",
    "# class ListNode:\n",
    "#     def __init__(self, val=0, next=None):\n",
    "#         self.val = val\n",
    "#         self.next = next\n",
    "class Solution:\n",
    "    def reverseList(self, head: ListNode) -> ListNode:\n",
    "        values = []\n",
    "        result = []\n",
    "        if head != None:\n",
    "            while head:\n",
    "                values.append(head.val)\n",
    "                head = head.next\n",
    "            for m in range(len(values)):\n",
    "                node = ListNode()\n",
    "                node.val = values[m]\n",
    "                if len(result) > 0:\n",
    "                    node.next = result[-1]\n",
    "                result.append(node)\n",
    "            return result[-1]\n",
    "        else:\n",
    "            return None"
   ]
  }
 ],
 "metadata": {
  "kernelspec": {
   "display_name": "Python 3",
   "language": "python",
   "name": "python3"
  },
  "language_info": {
   "codemirror_mode": {
    "name": "ipython",
    "version": 3
   },
   "file_extension": ".py",
   "mimetype": "text/x-python",
   "name": "python",
   "nbconvert_exporter": "python",
   "pygments_lexer": "ipython3",
   "version": "3.7.4"
  }
 },
 "nbformat": 4,
 "nbformat_minor": 4
}
