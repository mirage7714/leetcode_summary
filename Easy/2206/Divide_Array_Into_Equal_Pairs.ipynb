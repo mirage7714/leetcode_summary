{
 "cells": [
  {
   "cell_type": "markdown",
   "metadata": {},
   "source": [
    "# 本題要判斷list是否可拆為一對相同的數值\n",
    "原題目連結: https://leetcode.com/problems/divide-array-into-equal-pairs/  \n",
    "\n",
    "You are given an integer array nums consisting of 2 * n integers.  \n",
    "\n",
    "You need to divide nums into n pairs such that:  \n",
    "\n",
    "Each element belongs to exactly one pair.  \n",
    "The elements present in a pair are equal.  \n",
    "Return true if nums can be divided into n pairs, otherwise return false.  \n",
    "\n",
    "範例:  \n",
    "Ex1:  \n",
    "Input: nums = [3,2,3,2,2,2]  \n",
    "Output: true  \n",
    "Explanation:   \n",
    "There are 6 elements in nums, so they should be divided into 6 / 2 = 3 pairs.  \n",
    "If nums is divided into the pairs (2, 2), (3, 3), and (2, 2), it will satisfy all the conditions.  \n",
    "\n",
    "Ex2:  \n",
    "Input: nums = [1,2,3,4]  \n",
    "Output: false  \n",
    "Explanation:   \n",
    "There is no way to divide nums into 4 / 2 = 2 pairs such that the pairs satisfy every condition."
   ]
  },
  {
   "cell_type": "markdown",
   "metadata": {},
   "source": [
    "* 解題想法:  \n",
    "首先判斷list的長度是否為2的倍數，如果為2的倍數，則接著開始統計list內出現的數字頻率，並判斷每個數字出現的次數是否為2的倍數，如果有不是2的倍數，則中斷迴圈並回傳False"
   ]
  },
  {
   "cell_type": "code",
   "execution_count": null,
   "metadata": {},
   "outputs": [],
   "source": [
    "class Solution:\n",
    "    def divideArray(self, nums: List[int]) -> bool:\n",
    "        freq = {}\n",
    "        result = True\n",
    "        if len(nums) % 2 == 0:\n",
    "            for n in nums:\n",
    "                if n not in freq.keys():\n",
    "                    freq[n] = 1\n",
    "                else:\n",
    "                    freq[n] += 1\n",
    "            for val in freq.values():\n",
    "                if val % 2 != 0:\n",
    "                    result = False\n",
    "                    break\n",
    "            return result\n",
    "        else:\n",
    "            return False"
   ]
  }
 ],
 "metadata": {
  "kernelspec": {
   "display_name": "Python 3",
   "language": "python",
   "name": "python3"
  },
  "language_info": {
   "codemirror_mode": {
    "name": "ipython",
    "version": 3
   },
   "file_extension": ".py",
   "mimetype": "text/x-python",
   "name": "python",
   "nbconvert_exporter": "python",
   "pygments_lexer": "ipython3",
   "version": "3.6.4"
  }
 },
 "nbformat": 4,
 "nbformat_minor": 2
}
