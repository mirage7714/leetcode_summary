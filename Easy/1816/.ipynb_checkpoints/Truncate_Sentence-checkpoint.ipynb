{
 "cells": [
  {
   "cell_type": "markdown",
   "metadata": {},
   "source": [
    "# 本題要依提供的數字，回傳符合要求的句子\n",
    "原題目連結: https://leetcode.com/problems/truncate-sentence/  \n",
    "\n",
    "A sentence is a list of words that are separated by a single space with no leading or trailing spaces. Each of the words consists of only uppercase and lowercase English letters (no punctuation).  \n",
    "\n",
    "For example, \"Hello World\", \"HELLO\", and \"hello world hello world\" are all sentences.  \n",
    "You are given a sentence s​​​​​​ and an integer k​​​​​​. You want to truncate s​​​​​​ such that it contains only the first k​​​​​​ words. Return s​​​​​​ after truncating it.  \n",
    "\n",
    "範例:  \n",
    "Ex1:  \n",
    "Input: s = \"Hello how are you Contestant\", k = 4  \n",
    "Output: \"Hello how are you\"  \n",
    "Explanation:  \n",
    "The words in s are [\"Hello\", \"how\" \"are\", \"you\", \"Contestant\"].  \n",
    "The first 4 words are [\"Hello\", \"how\", \"are\", \"you\"].  \n",
    "Hence, you should return \"Hello how are you\".  \n",
    "\n",
    "Ex2:  \n",
    "Input: s = \"What is the solution to this problem\", k = 4  \n",
    "Output: \"What is the solution\"  \n",
    "Explanation:  \n",
    "The words in s are [\"What\", \"is\" \"the\", \"solution\", \"to\", \"this\", \"problem\"].  \n",
    "The first 4 words are [\"What\", \"is\", \"the\", \"solution\"].  \n",
    "Hence, you should return \"What is the solution\".  \n",
    "\n",
    "Ex3:  \n",
    "Input: s = \"chopper is not a tanuki\", k = 5  \n",
    "Output: \"chopper is not a tanuki\""
   ]
  },
  {
   "cell_type": "markdown",
   "metadata": {},
   "source": [
    "* 解題想法:  \n",
    "依題目說明，要找出句子中的前K個字，因此先將句子分割成以字為單位，接著計算字的數量是否符合題目要求的字數，如果符合則直接回傳原本的字串，若不符合，則將前K個字重新組合成句子並回傳"
   ]
  },
  {
   "cell_type": "code",
   "execution_count": null,
   "metadata": {},
   "outputs": [],
   "source": [
    "class Solution:\n",
    "    def truncateSentence(self, s: str, k: int) -> str:\n",
    "        parts = []\n",
    "        result = ''\n",
    "        for n in s.split(' '):\n",
    "            parts.append(n)\n",
    "        if len(parts) <= k:\n",
    "            result = s\n",
    "        else:\n",
    "            for m in range(k):\n",
    "                result += parts[m] + ' '\n",
    "            result = result[:-1]\n",
    "        return result"
   ]
  }
 ],
 "metadata": {
  "kernelspec": {
   "display_name": "Python 3",
   "language": "python",
   "name": "python3"
  },
  "language_info": {
   "codemirror_mode": {
    "name": "ipython",
    "version": 3
   },
   "file_extension": ".py",
   "mimetype": "text/x-python",
   "name": "python",
   "nbconvert_exporter": "python",
   "pygments_lexer": "ipython3",
   "version": "3.7.6"
  }
 },
 "nbformat": 4,
 "nbformat_minor": 4
}
