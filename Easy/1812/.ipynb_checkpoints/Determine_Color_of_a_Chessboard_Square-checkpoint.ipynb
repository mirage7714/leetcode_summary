{
 "cells": [
  {
   "cell_type": "markdown",
   "metadata": {},
   "source": [
    "# 本題要判斷棋盤上的顏色是黑色或是白色\n",
    "原題目連結: https://leetcode.com/problems/determine-color-of-a-chessboard-square/  \n",
    "\n",
    "You are given coordinates, a string that represents the coordinates of a square of the chessboard. Below is a chessboard for your reference.  \n",
    "\n",
    "Return true if the square is white, and false if the square is black.  \n",
    "\n",
    "The coordinate will always represent a valid chessboard square. The coordinate will always have the letter first, and the number second.  \n",
    "\n",
    "範例:  \n",
    "Ex1:  \n",
    "Input: coordinates = \"a1\"  \n",
    "Output: false  \n",
    "Explanation: From the chessboard above, the square with coordinates \"a1\" is black, so return false.  \n",
    "\n",
    "Ex2:  \n",
    "Input: coordinates = \"h3\"  \n",
    "Output: true  \n",
    "Explanation: From the chessboard above, the square with coordinates \"h3\" is white, so return true.  \n",
    "\n",
    "Ex3:  \n",
    "Input: coordinates = \"c7\"  \n",
    "Output: false"
   ]
  },
  {
   "cell_type": "markdown",
   "metadata": {},
   "source": [
    "* 解題想法:  \n",
    "依題目提供的棋盤，可以觀察黑色與白色的分布邏輯:  \n",
    "- 如果英文字是a,c,e,g，加上數字是偶數，則顏色為白色  \n",
    "- 如果英文字是b,d,f,h，加上數字是奇數，則顏色為白色"
   ]
  },
  {
   "cell_type": "code",
   "execution_count": null,
   "metadata": {},
   "outputs": [],
   "source": [
    "class Solution:\n",
    "    def squareIsWhite(self, coordinates: str) -> bool:\n",
    "        rows = ['a','b','c','d','e','f','g','h']\n",
    "        is_black = False\n",
    "        c0 = coordinates[0]\n",
    "        c1 = coordinates[1]\n",
    "        if rows.index(c0) % 2 == 0:\n",
    "            if int(c1) % 2 == 0:\n",
    "                is_black = True\n",
    "        else:\n",
    "            if int(c1) % 2 == 1:\n",
    "                is_black = True\n",
    "        return is_black"
   ]
  }
 ],
 "metadata": {
  "kernelspec": {
   "display_name": "Python 3",
   "language": "python",
   "name": "python3"
  },
  "language_info": {
   "codemirror_mode": {
    "name": "ipython",
    "version": 3
   },
   "file_extension": ".py",
   "mimetype": "text/x-python",
   "name": "python",
   "nbconvert_exporter": "python",
   "pygments_lexer": "ipython3",
   "version": "3.7.6"
  }
 },
 "nbformat": 4,
 "nbformat_minor": 4
}
