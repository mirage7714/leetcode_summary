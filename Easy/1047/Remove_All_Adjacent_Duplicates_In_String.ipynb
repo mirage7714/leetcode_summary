{
 "cells": [
  {
   "cell_type": "markdown",
   "metadata": {},
   "source": [
    "# 本題要找出兩個相鄰的字母，並將兩個字母都刪除，並回傳最後的結果\n",
    "原題目連結： https://leetcode.com/problems/remove-all-adjacent-duplicates-in-string/  \n",
    "\n",
    "範例：  \n",
    "Input: \"abbaca\"  \n",
    "Output: \"ca\"  \n",
    "Explanation:   \n",
    "For example, in \"abbaca\" we could remove \"bb\" since the letters are adjacent and equal, and this is the only possible move.  The result of this move is that the string is \"aaca\", of which only \"aa\" is possible, so the final string is \"ca\"."
   ]
  },
  {
   "cell_type": "markdown",
   "metadata": {},
   "source": [
    "* 解題想法：  \n",
    "利用迴圈，判斷如果找出有兩個相鄰的字母後將原本字串進行修改，直到都沒有相鄰字母  \n",
    "雖然用的迴圈效能好像沒有很好，有機會再來優化了"
   ]
  },
  {
   "cell_type": "code",
   "execution_count": null,
   "metadata": {},
   "outputs": [],
   "source": [
    "class Solution:\n",
    "    def removeDuplicates(self, S: str) -> str:\n",
    "        while True:\n",
    "            is_adj = True\n",
    "            for m in range(len(S)-1):\n",
    "                if S[m] == S[m+1]:\n",
    "                    is_adj = False\n",
    "                    S = S[:m]+S[m+2:]\n",
    "                    break\n",
    "            if is_adj:\n",
    "                break\n",
    "        return S"
   ]
  }
 ],
 "metadata": {
  "kernelspec": {
   "display_name": "Python 3",
   "language": "python",
   "name": "python3"
  },
  "language_info": {
   "codemirror_mode": {
    "name": "ipython",
    "version": 3
   },
   "file_extension": ".py",
   "mimetype": "text/x-python",
   "name": "python",
   "nbconvert_exporter": "python",
   "pygments_lexer": "ipython3",
   "version": "3.8.3"
  }
 },
 "nbformat": 4,
 "nbformat_minor": 4
}
