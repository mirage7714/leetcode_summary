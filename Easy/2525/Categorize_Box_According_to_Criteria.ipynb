{
 "cells": [
  {
   "cell_type": "markdown",
   "id": "e510b35d-467a-456a-933a-bbe11613ca8a",
   "metadata": {},
   "source": [
    "# 本題要判斷輸入的大小是屬於哪個條件 (\\#Math)\n",
    "原題目連結: https://leetcode.com/problems/categorize-box-according-to-criteria/description/  \n",
    "\n",
    "Given four integers length, width, height, and mass, representing the dimensions and mass of a box, respectively, return a string representing the category of the box.  \n",
    "\n",
    "The box is \"Bulky\" if:  \n",
    "Any of the dimensions of the box is greater or equal to 10^4.  \n",
    "Or, the volume of the box is greater or equal to 10^9.  \n",
    "If the mass of the box is greater or equal to 100, it is \"Heavy\".  \n",
    "If the box is both \"Bulky\" and \"Heavy\", then its category is \"Both\".  \n",
    "If the box is neither \"Bulky\" nor \"Heavy\", then its category is \"Neither\".  \n",
    "If the box is \"Bulky\" but not \"Heavy\", then its category is \"Bulky\".  \n",
    "If the box is \"Heavy\" but not \"Bulky\", then its category is \"Heavy\".  \n",
    "Note that the volume of the box is the product of its length, width and height.  \n",
    "\n",
    "範例:  \n",
    "Ex1:  \n",
    "Input: length = 1000, width = 35, height = 700, mass = 300  \n",
    "Output: \"Heavy\"  \n",
    "Explanation:   \n",
    "None of the dimensions of the box is greater or equal to 10^4.   \n",
    "Its volume = 24500000 <= 10^9. So it cannot be categorized as \"Bulky\".  \n",
    "However mass >= 100, so the box is \"Heavy\".  \n",
    "Since the box is not \"Bulky\" but \"Heavy\", we return \"Heavy\".  \n",
    "\n",
    "Ex2:  \n",
    "Input: length = 200, width = 50, height = 800, mass = 50  \n",
    "Output: \"Neither\"  \n",
    "Explanation:   \n",
    "None of the dimensions of the box is greater or equal to 10^4.  \n",
    "Its volume = 8 * 10^6 <= 10^9. So it cannot be categorized as \"Bulky\".  \n",
    "Its mass is also less than 100, so it cannot be categorized as \"Heavy\" either.   \n",
    "Since its neither of the two above categories, we return \"Neither\".  "
   ]
  },
  {
   "cell_type": "markdown",
   "id": "93ab585b-d87c-4146-bfb0-55e319588507",
   "metadata": {},
   "source": [
    "* 解題想法:  \n",
    "首先使用兩個變數is_bulky與is_heavy用紀錄兩個條件，如果重量大於或等於100，則將is_heavy改為True，接著檢查單邊的尺寸是否有大於或等於10000，或是三邊相乘大於10^9，如果符合則將is_bulky改為True，最後依據不同的情況回傳不同的結果"
   ]
  },
  {
   "cell_type": "code",
   "execution_count": null,
   "id": "40d294c5-e3ff-45c2-a19f-8fa624bca2ef",
   "metadata": {},
   "outputs": [],
   "source": [
    "class Solution:\n",
    "    def categorizeBox(self, length: int, width: int, height: int, mass: int) -> str:\n",
    "        is_bulky = False\n",
    "        is_heavy = False\n",
    "        if mass >= 100:\n",
    "            is_heavy = True\n",
    "        dim = [length, width, height]\n",
    "        if max(dim) >= 10000 or length * width * height >= 1000000000:\n",
    "            is_bulky = True\n",
    "        if is_bulky and is_heavy:\n",
    "            return 'Both'\n",
    "        elif is_bulky:\n",
    "            return 'Bulky'\n",
    "        elif is_heavy:\n",
    "            return 'Heavy'\n",
    "        else:\n",
    "            return 'Neither'"
   ]
  }
 ],
 "metadata": {
  "kernelspec": {
   "display_name": "Python 3 (ipykernel)",
   "language": "python",
   "name": "python3"
  },
  "language_info": {
   "codemirror_mode": {
    "name": "ipython",
    "version": 3
   },
   "file_extension": ".py",
   "mimetype": "text/x-python",
   "name": "python",
   "nbconvert_exporter": "python",
   "pygments_lexer": "ipython3",
   "version": "3.9.13"
  }
 },
 "nbformat": 4,
 "nbformat_minor": 5
}
