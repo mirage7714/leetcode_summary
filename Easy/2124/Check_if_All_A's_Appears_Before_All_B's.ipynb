{
 "cells": [
  {
   "cell_type": "markdown",
   "metadata": {},
   "source": [
    "# 本題要判斷A的位置是否都在B之前\n",
    "原題目連結: https://leetcode.com/problems/check-if-all-as-appears-before-all-bs/  \n",
    "\n",
    "Given a string s consisting of only the characters 'a' and 'b', return true if every 'a' appears before every 'b' in the string. Otherwise, return false.  \n",
    "\n",
    "範例:  \n",
    "Ex1:  \n",
    "Input: s = \"aaabbb\"  \n",
    "Output: true  \n",
    "Explanation:  \n",
    "The 'a's are at indices 0, 1, and 2, while the 'b's are at indices 3, 4, and 5.  \n",
    "Hence, every 'a' appears before every 'b' and we return true.  \n",
    "\n",
    "Ex2:  \n",
    "Input: s = \"abab\"  \n",
    "Output: false  \n",
    "Explanation:  \n",
    "There is an 'a' at index 2 and a 'b' at index 1.  \n",
    "Hence, not every 'a' appears before every 'b' and we return false.  \n",
    "\n",
    "Ex3:  \n",
    "Input: s = \"bbb\"  \n",
    "Output: true  \n",
    "Explanation:  \n",
    "There are no 'a's, hence, every 'a' appears before every 'b' and we return true."
   ]
  },
  {
   "cell_type": "markdown",
   "metadata": {},
   "source": [
    "* 解題想法:  \n",
    "首先將每個字母出現的位置用一個list來進行存放，接著比較A的位置中的最大值與B的位置中的最小值，如果A的最大值超過B的最小值，則代表有B出現在A的前面，故回傳False，否則回傳True"
   ]
  },
  {
   "cell_type": "code",
   "execution_count": null,
   "metadata": {},
   "outputs": [],
   "source": [
    "class Solution:\n",
    "    def checkString(self, s: str) -> bool:\n",
    "        freq = {}\n",
    "        result = True\n",
    "        for m in range(len(s)):\n",
    "            if s[m] not in freq.keys():\n",
    "                freq[s[m]] = [m]\n",
    "            else:\n",
    "                freq[s[m]].append(m)\n",
    "        if 'a' in freq.keys():\n",
    "            if 'b' in freq.keys():\n",
    "                if max(freq['a']) > min(freq['b']):\n",
    "                    result = False\n",
    "        return result"
   ]
  }
 ],
 "metadata": {
  "kernelspec": {
   "display_name": "Python 3",
   "language": "python",
   "name": "python3"
  },
  "language_info": {
   "codemirror_mode": {
    "name": "ipython",
    "version": 3
   },
   "file_extension": ".py",
   "mimetype": "text/x-python",
   "name": "python",
   "nbconvert_exporter": "python",
   "pygments_lexer": "ipython3",
   "version": "3.7.4"
  }
 },
 "nbformat": 4,
 "nbformat_minor": 4
}
