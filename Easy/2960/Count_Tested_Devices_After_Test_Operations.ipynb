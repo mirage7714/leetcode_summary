{
 "cells": [
  {
   "cell_type": "markdown",
   "id": "8c86f034-c732-4dbc-91a9-01bc8f60ce30",
   "metadata": {},
   "source": [
    "# 本題要找出共有幾台dest device可用 (\\#Array )\n",
    "原題目連結: https://leetcode.com/problems/count-tested-devices-after-test-operations/description/  \n",
    "\n",
    "You are given a 0-indexed integer array batteryPercentages having length n, denoting the battery percentages of n 0-indexed devices.  \n",
    "Your task is to test each device i in order from 0 to n - 1, by performing the following test operations:  \n",
    "\n",
    "If batteryPercentages[i] is greater than 0:  \n",
    "Increment the count of tested devices.  \n",
    "Decrease the battery percentage of all devices with indices j in the range [i + 1, n - 1] by 1, ensuring their battery percentage never goes below 0, i.e, batteryPercentages[j] = max(0, batteryPercentages[j] - 1).  \n",
    "Move to the next device.  \n",
    "Otherwise, move to the next device without performing any test.  \n",
    "Return an integer denoting the number of devices that will be tested after performing the test operations in order.  \n",
    "\n",
    "範例:  \n",
    "Ex1:  \n",
    "Input: batteryPercentages = [1,1,2,1,3]  \n",
    "Output: 3  \n",
    "Explanation: Performing the test operations in order starting from device 0:  \n",
    "At device 0, batteryPercentages[0] > 0, so there is now 1 tested device, and batteryPercentages becomes [1,0,1,0,2].  \n",
    "At device 1, batteryPercentages[1] == 0, so we move to the next device without testing.  \n",
    "At device 2, batteryPercentages[2] > 0, so there are now 2 tested devices, and batteryPercentages becomes [1,0,1,0,1].  \n",
    "At device 3, batteryPercentages[3] == 0, so we move to the next device without testing.  \n",
    "At device 4, batteryPercentages[4] > 0, so there are now 3 tested devices, and batteryPercentages stays the same.  \n",
    "So, the answer is 3.  \n",
    "\n",
    "Ex2:  \n",
    "Input: batteryPercentages = [0,1,2]  \n",
    "Output: 2  \n",
    "Explanation: Performing the test operations in order starting from device 0:  \n",
    "At device 0, batteryPercentages[0] == 0, so we move to the next device without testing.  \n",
    "At device 1, batteryPercentages[1] > 0, so there is now 1 tested device, and batteryPercentages becomes [0,1,1].  \n",
    "At device 2, batteryPercentages[2] > 0, so there are now 2 tested devices, and batteryPercentages stays the same.  \n",
    "So, the answer is 2."
   ]
  },
  {
   "cell_type": "markdown",
   "id": "222f33a9-ece2-4ed5-8533-e9ea96d78329",
   "metadata": {},
   "source": [
    "* 解題想法:  \n",
    "用一個變數來放目前符合條件的結果，接著用迴圈檢查目前的直是否有大於結果，如果有則將結果+1，最後回傳結果"
   ]
  },
  {
   "cell_type": "code",
   "execution_count": null,
   "id": "42eefefb-9560-4af9-ac0f-bea9dffbfc4a",
   "metadata": {},
   "outputs": [],
   "source": [
    "class Solution:\n",
    "    def countTestedDevices(self, batteryPercentages: List[int]) -> int:\n",
    "        res = 0\n",
    "        for i in batteryPercentages:\n",
    "            if i > res:\n",
    "                res += 1\n",
    "        return res"
   ]
  }
 ],
 "metadata": {
  "kernelspec": {
   "display_name": "Python 3 (ipykernel)",
   "language": "python",
   "name": "python3"
  },
  "language_info": {
   "codemirror_mode": {
    "name": "ipython",
    "version": 3
   },
   "file_extension": ".py",
   "mimetype": "text/x-python",
   "name": "python",
   "nbconvert_exporter": "python",
   "pygments_lexer": "ipython3",
   "version": "3.9.13"
  }
 },
 "nbformat": 4,
 "nbformat_minor": 5
}
