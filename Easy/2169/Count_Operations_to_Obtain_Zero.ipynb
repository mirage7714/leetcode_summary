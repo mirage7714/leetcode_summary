{
 "cells": [
  {
   "cell_type": "markdown",
   "metadata": {},
   "source": [
    "# 本題要找出經過幾次操作之後可以產生0\n",
    "原題目連結: https://leetcode.com/problems/count-operations-to-obtain-zero/  \n",
    "\n",
    "You are given two non-negative integers num1 and num2.  \n",
    "\n",
    "In one operation, if num1 >= num2, you must subtract num2 from num1, otherwise subtract num1 from num2.  \n",
    "\n",
    "For example, if num1 = 5 and num2 = 4, subtract num2 from num1, thus obtaining num1 = 1 and num2 = 4. However, if num1 = 4 and num2 = 5, after one operation, num1 = 4 and num2 = 1.  \n",
    "Return the number of operations required to make either num1 = 0 or num2 = 0.  \n",
    "\n",
    "範例:  \n",
    "Ex1:  \n",
    "Input: num1 = 2, num2 = 3  \n",
    "Output: 3  \n",
    "Explanation:   \n",
    "- Operation 1: num1 = 2, num2 = 3. Since num1 < num2, we subtract num1 from num2 and get num1 = 2, num2 = 3 - 2 = 1.  \n",
    "- Operation 2: num1 = 2, num2 = 1. Since num1 > num2, we subtract num2 from num1.  \n",
    "- Operation 3: num1 = 1, num2 = 1. Since num1 == num2, we subtract num2 from num1.  \n",
    "Now num1 = 0 and num2 = 1. Since num1 == 0, we do not need to perform any further operations.  \n",
    "So the total number of operations required is 3.  \n",
    "\n",
    "Ex2:  \n",
    "Input: num1 = 10, num2 = 10  \n",
    "Output: 1  \n",
    "Explanation:   \n",
    "- Operation 1: num1 = 10, num2 = 10. Since num1 == num2, we subtract num2 from num1 and get num1 = 10 - 10 = 0.  \n",
    "Now num1 = 0 and num2 = 10. Since num1 == 0, we are done.  \n",
    "So the total number of operations required is 1."
   ]
  },
  {
   "cell_type": "markdown",
   "metadata": {},
   "source": [
    "* 解題想法:  \n",
    "首先將兩數放入一個list中，接著用一個while迴圈來執行大數減去小數的過程，只要有一個數為0則中斷迴圈，並計算執行的次數為和"
   ]
  },
  {
   "cell_type": "code",
   "execution_count": null,
   "metadata": {},
   "outputs": [],
   "source": [
    "class Solution:\n",
    "    def countOperations(self, num1: int, num2: int) -> int:\n",
    "        total = 0\n",
    "        nums = [num1, num2]\n",
    "        while min(nums) > 0:\n",
    "            m1 = nums.index(max(nums))\n",
    "            m2 = nums.index(min(nums))\n",
    "            nums[m1] -= nums[m2]\n",
    "            total += 1\n",
    "        return total"
   ]
  }
 ],
 "metadata": {
  "kernelspec": {
   "display_name": "Python 3",
   "language": "python",
   "name": "python3"
  },
  "language_info": {
   "codemirror_mode": {
    "name": "ipython",
    "version": 3
   },
   "file_extension": ".py",
   "mimetype": "text/x-python",
   "name": "python",
   "nbconvert_exporter": "python",
   "pygments_lexer": "ipython3",
   "version": "3.7.4"
  }
 },
 "nbformat": 4,
 "nbformat_minor": 4
}
