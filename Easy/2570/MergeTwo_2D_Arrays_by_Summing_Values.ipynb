{
 "cells": [
  {
   "cell_type": "markdown",
   "id": "0fed780e-56bd-490e-bce5-edd9b568b5e9",
   "metadata": {},
   "source": [
    "# 本題要將相同ID的數值進行merge，最後回傳新的list (\\#Array )\n",
    "原題目連結: https://leetcode.com/problems/merge-two-2d-arrays-by-summing-values/  \n",
    "\n",
    "You are given two 2D integer arrays nums1 and nums2.  \n",
    "\n",
    "nums1[i] = [idi, vali] indicate that the number with the id idi has a value equal to vali.  \n",
    "nums2[i] = [idi, vali] indicate that the number with the id idi has a value equal to vali.  \n",
    "Each array contains unique ids and is sorted in ascending order by id.  \n",
    "\n",
    "Merge the two arrays into one array that is sorted in ascending order by id, respecting the following conditions:  \n",
    "\n",
    "Only ids that appear in at least one of the two arrays should be included in the resulting array.  \n",
    "Each id should be included only once and its value should be the sum of the values of this id in the two arrays. If the id does not exist in one of the two arrays then its value in that array is considered to be 0.\n",
    "Return the resulting array. The returned array must be sorted in ascending order by id.  \n",
    "\n",
    "範例:  \n",
    "Ex1:  \n",
    "Input: nums1 = [[1,2],[2,3],[4,5]], nums2 = [[1,4],[3,2],[4,1]]  \n",
    "Output: [[1,6],[2,3],[3,2],[4,6]]  \n",
    "Explanation: The resulting array contains the following:  \n",
    "- id = 1, the value of this id is 2 + 4 = 6.  \n",
    "- id = 2, the value of this id is 3.  \n",
    "- id = 3, the value of this id is 2.  \n",
    "- id = 4, the value of this id is 5 + 1 = 6.  \n",
    "\n",
    "Ex2:  \n",
    "Input: nums1 = [[2,4],[3,6],[5,5]], nums2 = [[1,3],[4,3]]  \n",
    "Output: [[1,3],[2,4],[3,6],[4,3],[5,5]]  \n",
    "Explanation: There are no common ids, so we just include each id with its value in the resulting list."
   ]
  },
  {
   "cell_type": "markdown",
   "id": "d5573178-9a2a-4c59-a796-eeb697d6b912",
   "metadata": {},
   "source": [
    "* 解題想法:  \n",
    "用一個dict，將key值相同的值進行合併，最後重新輸出到list就是答案"
   ]
  },
  {
   "cell_type": "code",
   "execution_count": null,
   "id": "a2701a10-2474-4152-a49f-e4825b69e28a",
   "metadata": {},
   "outputs": [],
   "source": [
    "class Solution:\n",
    "    def mergeArrays(self, nums1: List[List[int]], nums2: List[List[int]]) -> List[List[int]]:\n",
    "        count = {}\n",
    "        res = []\n",
    "        for n in (nums1 + nums2):\n",
    "            if n[0] not in count.keys():\n",
    "                count[n[0]] = n[1]\n",
    "            else:\n",
    "                count[n[0]] += n[1]\n",
    "        for key, val in count.items():\n",
    "            res.append([key, val])\n",
    "        res.sort()\n",
    "        return res"
   ]
  }
 ],
 "metadata": {
  "kernelspec": {
   "display_name": "Python 3 (ipykernel)",
   "language": "python",
   "name": "python3"
  },
  "language_info": {
   "codemirror_mode": {
    "name": "ipython",
    "version": 3
   },
   "file_extension": ".py",
   "mimetype": "text/x-python",
   "name": "python",
   "nbconvert_exporter": "python",
   "pygments_lexer": "ipython3",
   "version": "3.9.13"
  }
 },
 "nbformat": 4,
 "nbformat_minor": 5
}
