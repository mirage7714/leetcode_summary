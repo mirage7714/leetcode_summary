{
 "cells": [
  {
   "cell_type": "markdown",
   "metadata": {},
   "source": [
    "# 本題主要是要找出是否為某數的平方值\n",
    "原題目連結: https://leetcode.com/problems/valid-perfect-square/  \n",
    "\n",
    "範例:  \n",
    "Ex1:  \n",
    "Input: num = 16  \n",
    "Output: true  \n",
    "\n",
    "Ex2:  \n",
    "Input: num = 14  \n",
    "Output: false  "
   ]
  },
  {
   "cell_type": "markdown",
   "metadata": {},
   "source": [
    "* 解題想法:  \n",
    "最簡單的方法應該就是直接使用sqrt()之類的函數直接測試結果是否為整數，但這樣就有點沒挑戰性了  \n",
    "換個角度想，如果題目的數值介於兩個連續整數的平方值之間，就代表此數並不是整數的平方值了"
   ]
  },
  {
   "cell_type": "code",
   "execution_count": null,
   "metadata": {},
   "outputs": [],
   "source": [
    "class Solution:\n",
    "    def isPerfectSquare(self, num: int) -> bool:\n",
    "        is_sqrt = True\n",
    "        for n in range(1, num):\n",
    "            if n*n > num:\n",
    "                is_sqrt = False\n",
    "                break\n",
    "            elif n*n == num:\n",
    "                break\n",
    "        return is_sqrt"
   ]
  }
 ],
 "metadata": {
  "kernelspec": {
   "display_name": "Python 3",
   "language": "python",
   "name": "python3"
  },
  "language_info": {
   "codemirror_mode": {
    "name": "ipython",
    "version": 3
   },
   "file_extension": ".py",
   "mimetype": "text/x-python",
   "name": "python",
   "nbconvert_exporter": "python",
   "pygments_lexer": "ipython3",
   "version": "3.7.4"
  }
 },
 "nbformat": 4,
 "nbformat_minor": 2
}
