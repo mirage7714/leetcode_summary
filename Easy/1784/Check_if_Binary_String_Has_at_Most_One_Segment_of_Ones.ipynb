{
 "cells": [
  {
   "cell_type": "markdown",
   "metadata": {},
   "source": [
    "# 本題要找出在字串中有幾段為1的子字串\n",
    "原題目連結：https://leetcode.com/problems/check-if-binary-string-has-at-most-one-segment-of-ones/  \n",
    "\n",
    "Given a binary string s without leading zeros, return true if s contains at most one contiguous segment of ones. Otherwise, return false.\n",
    "\n",
    "範例：  \n",
    "Ex1:  \n",
    "Input: s = \"1001\"   \n",
    "Output: false  \n",
    "Explanation: The ones do not form a contiguous segment.  \n",
    "\n",
    "Ex2:  \n",
    "Input: s = \"110\"  \n",
    "Output: true"
   ]
  },
  {
   "cell_type": "markdown",
   "metadata": {},
   "source": [
    "* 解題想法：  \n",
    "依題目說明，如果字串中為1的連續字串超過一個，則回傳False，否則回傳True  \n",
    "因此先將為1的index找出，加入一個list中，並檢查list中的index是否為連續，如果為連續則回傳True，否則回傳False"
   ]
  },
  {
   "cell_type": "code",
   "execution_count": null,
   "metadata": {},
   "outputs": [],
   "source": [
    "class Solution:\n",
    "    def checkOnesSegment(self, s: str) -> bool:\n",
    "        is_valid = True\n",
    "        temp = []\n",
    "        for n in range(len(s)):\n",
    "            if s[n] == '1':\n",
    "                temp.append(n)\n",
    "        print(temp)\n",
    "        if len(temp) > 1:\n",
    "            if len(temp) + temp[0] -1 < temp[-1]:\n",
    "                is_valid = False\n",
    "        return is_valid"
   ]
  }
 ],
 "metadata": {
  "kernelspec": {
   "display_name": "Python 3",
   "language": "python",
   "name": "python3"
  },
  "language_info": {
   "codemirror_mode": {
    "name": "ipython",
    "version": 3
   },
   "file_extension": ".py",
   "mimetype": "text/x-python",
   "name": "python",
   "nbconvert_exporter": "python",
   "pygments_lexer": "ipython3",
   "version": "3.7.6"
  }
 },
 "nbformat": 4,
 "nbformat_minor": 4
}
