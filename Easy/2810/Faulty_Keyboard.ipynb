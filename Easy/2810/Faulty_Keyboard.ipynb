{
 "cells": [
  {
   "cell_type": "markdown",
   "metadata": {},
   "source": [
    "# 本題要找出指定的字串輸入之後的結果為何 (\\#String)\n",
    "原題目連結: https://leetcode.com/problems/faulty-keyboard/description/  \n",
    "\n",
    "Your laptop keyboard is faulty, and whenever you type a character 'i' on it, it reverses the string that you have written. Typing other characters works as expected.  \n",
    "You are given a 0-indexed string s, and you type each character of s using your faulty keyboard.  \n",
    "\n",
    "Return the final string that will be present on your laptop screen.  \n",
    "\n",
    "範例:  \n",
    "Ex1:  \n",
    "Input: s = \"string\"  \n",
    "Output: \"rtsng\"  \n",
    "Explanation:    \n",
    "After typing first character, the text on the screen is \"s\".  \n",
    "After the second character, the text is \"st\".   \n",
    "After the third character, the text is \"str\".  \n",
    "Since the fourth character is an 'i', the text gets reversed and becomes \"rts\".  \n",
    "After the fifth character, the text is \"rtsn\".   \n",
    "After the sixth character, the text is \"rtsng\".   \n",
    "Therefore, we return \"rtsng\".  \n",
    "\n",
    "Ex2:    \n",
    "Input: s = \"poiinter\"  \n",
    "Output: \"ponter\"  \n",
    "Explanation:   \n",
    "After the first character, the text on the screen is \"p\".  \n",
    "After the second character, the text is \"po\".   \n",
    "Since the third character you type is an 'i', the text gets reversed and becomes \"op\".   \n",
    "Since the fourth character you type is an 'i', the text gets reversed and becomes \"po\".  \n",
    "After the fifth character, the text is \"pon\".  \n",
    "After the sixth character, the text is \"pont\".   \n",
    "After the seventh character, the text is \"ponte\".   \n",
    "After the eighth character, the text is \"ponter\".   \n",
    "Therefore, we return \"ponter\"."
   ]
  },
  {
   "cell_type": "markdown",
   "metadata": {},
   "source": [
    "* 解題想法:  \n",
    "用一個字串res來儲存最後的結果，接著開始從頭進行輸入，如果當輸入的字不為i時則加上該字串，如果是i時則將結果進行倒轉，最後回傳輸入的字串"
   ]
  },
  {
   "cell_type": "code",
   "execution_count": null,
   "metadata": {},
   "outputs": [],
   "source": [
    "class Solution:\n",
    "    def finalString(self, s: str) -> str:\n",
    "        res = ''\n",
    "        for i in s:\n",
    "            if i != 'i':\n",
    "                res += i\n",
    "            else:\n",
    "                t = ''\n",
    "                for m in range(len(res)-1, -1, -1):\n",
    "                    t += res[m]\n",
    "                res = t\n",
    "        return res"
   ]
  }
 ],
 "metadata": {
  "kernelspec": {
   "display_name": "Python 3",
   "language": "python",
   "name": "python3"
  },
  "language_info": {
   "codemirror_mode": {
    "name": "ipython",
    "version": 3
   },
   "file_extension": ".py",
   "mimetype": "text/x-python",
   "name": "python",
   "nbconvert_exporter": "python",
   "pygments_lexer": "ipython3",
   "version": "3.7.6"
  }
 },
 "nbformat": 4,
 "nbformat_minor": 4
}
