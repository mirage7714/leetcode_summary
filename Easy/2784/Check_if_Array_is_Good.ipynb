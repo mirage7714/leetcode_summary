{
 "cells": [
  {
   "cell_type": "markdown",
   "id": "2091439b-15a7-440b-b1e7-ac178ee64569",
   "metadata": {},
   "source": [
    "# 本題要判斷array是否符合條件 (\\#Array)\n",
    "原題目連結: https://leetcode.com/problems/check-if-array-is-good/description/  \n",
    "\n",
    "You are given an integer array nums. We consider an array good if it is a permutation of an array base[n].  \n",
    "\n",
    "base[n] = [1, 2, ..., n - 1, n, n] (in other words, it is an array of length n + 1 which contains 1 to n - 1 exactly once, plus two occurrences of n). For example, base[1] = [1, 1] and base[3] = [1, 2, 3, 3].  \n",
    "Return true if the given array is good, otherwise return false.  \n",
    "\n",
    "Note: A permutation of integers represents an arrangement of these numbers.  \n",
    "\n",
    "範例:  \n",
    "Ex1:  \n",
    "Input: nums = [2, 1, 3]  \n",
    "Output: false  \n",
    "Explanation: Since the maximum element of the array is 3, the only candidate n for which this array could be a permutation of base[n], is n = 3. However, base[3] has four elements but array nums has three. Therefore, it can not be a permutation of base[3] = [1, 2, 3, 3]. So the answer is false.  \n",
    "\n",
    "Ex2:  \n",
    "Input: nums = [1, 3, 3, 2]  \n",
    "Output: true  \n",
    "Explanation: Since the maximum element of the array is 3, the only candidate n for which this array could be a permutation of base[n], is n = 3. It can be seen that nums is a permutation of base[3] = [1, 2, 3, 3] (by swapping the second and fourth elements in nums, we reach base[3]). Therefore, the answer is true.  \n",
    "\n",
    "Ex3:  \n",
    "Input: nums = [1, 1]  \n",
    "Output: true  \n",
    "Explanation: Since the maximum element of the array is 1, the only candidate n for which this array could be a permutation of base[n], is n = 1. It can be seen that nums is a permutation of base[1] = [1, 1]. Therefore, the answer is true.  \n",
    "\n",
    "Ex4:  \n",
    "Input: nums = [3, 4, 4, 1, 2, 1]  \n",
    "Output: false  \n",
    "Explanation: Since the maximum element of the array is 4, the only candidate n for which this array could be a permutation of base[n], is n = 4. However, base[4] has five elements but array nums has six. Therefore, it can not be a permutation of base[4] = [1, 2, 3, 4, 4]. So the answer is false."
   ]
  },
  {
   "cell_type": "markdown",
   "id": "2e6a0d17-1e6f-4829-88c1-f3b61ca8f844",
   "metadata": {},
   "source": [
    "* 解題想法:  \n",
    "首先將nums轉為heap，並先取出第一個數值，如果nums為空則回傳False，另外如果第一個數值不為1也回傳False，接著用迴圈開始取值，如果當nums為空，且取出的數值不等於暫存則回傳False，否則回傳True，如果當nums部為空，而暫存不等於數值-1時也回傳False，最後當nums為空時則回傳True"
   ]
  },
  {
   "cell_type": "code",
   "execution_count": null,
   "id": "d3619c00-b7af-4f16-9693-79627f96c362",
   "metadata": {},
   "outputs": [],
   "source": [
    "import heapq\n",
    "class Solution:\n",
    "    def isGood(self, nums: List[int]) -> bool:\n",
    "        heapq.heapify(nums)\n",
    "        start = heapq.heappop(nums)\n",
    "        if start != 1:\n",
    "            return False\n",
    "        if not nums:\n",
    "            return False\n",
    "        while nums:\n",
    "            n = heapq.heappop(nums)\n",
    "            if not nums:\n",
    "                if n == start:\n",
    "                    return True\n",
    "                else:\n",
    "                    return False\n",
    "            else:\n",
    "                if start != n -1:\n",
    "                    return False\n",
    "                else:\n",
    "                    start = n\n",
    "        return True"
   ]
  }
 ],
 "metadata": {
  "kernelspec": {
   "display_name": "Python 3 (ipykernel)",
   "language": "python",
   "name": "python3"
  },
  "language_info": {
   "codemirror_mode": {
    "name": "ipython",
    "version": 3
   },
   "file_extension": ".py",
   "mimetype": "text/x-python",
   "name": "python",
   "nbconvert_exporter": "python",
   "pygments_lexer": "ipython3",
   "version": "3.9.13"
  }
 },
 "nbformat": 4,
 "nbformat_minor": 5
}
