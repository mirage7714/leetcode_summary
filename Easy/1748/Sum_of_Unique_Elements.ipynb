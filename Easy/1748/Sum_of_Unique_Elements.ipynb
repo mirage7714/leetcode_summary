{
 "cells": [
  {
   "cell_type": "markdown",
   "metadata": {},
   "source": [
    "# 本題要計算只出現過一次的數字總和為多少\n",
    "原題目連結: https://leetcode.com/problems/sum-of-unique-elements/  \n",
    "\n",
    "You are given an integer array nums. The unique elements of an array are the elements that appear exactly once in the array.  \n",
    "Return the sum of all the unique elements of nums.  \n",
    "\n",
    "範例:  \n",
    "Ex1:  \n",
    "Input: nums = [1,2,3,2]  \n",
    "Output: 4  \n",
    "Explanation: The unique elements are [1,3], and the sum is 4.  \n",
    "\n",
    "Ex2:  \n",
    "Input: nums = [1,1,1,1,1]  \n",
    "Output: 0  \n",
    "Explanation: There are no unique elements, and the sum is 0.  \n",
    "\n",
    "Ex3:  \n",
    "Input: nums = [1,2,3,4,5]  \n",
    "Output: 15  \n",
    "Explanation: The unique elements are [1,2,3,4,5], and the sum is 15."
   ]
  },
  {
   "cell_type": "markdown",
   "metadata": {},
   "source": [
    "* 解題想法:  \n",
    "依題目說明，首先需要先統計每個數字出現過的頻率，最後將出現頻率為1的數字加總起來後就是題目要找的答案?"
   ]
  },
  {
   "cell_type": "code",
   "execution_count": null,
   "metadata": {},
   "outputs": [],
   "source": [
    "class Solution:\n",
    "    def sumOfUnique(self, nums: List[int]) -> int:\n",
    "        freq = {}\n",
    "        total = 0\n",
    "        for n in nums:\n",
    "            if n not in freq.keys():\n",
    "                freq[n] = 1\n",
    "            else:\n",
    "                freq[n] += 1\n",
    "        for key, val in freq.items():\n",
    "            if val == 1:\n",
    "                total += key\n",
    "        return total"
   ]
  }
 ],
 "metadata": {
  "kernelspec": {
   "display_name": "Python 3",
   "language": "python",
   "name": "python3"
  },
  "language_info": {
   "codemirror_mode": {
    "name": "ipython",
    "version": 3
   },
   "file_extension": ".py",
   "mimetype": "text/x-python",
   "name": "python",
   "nbconvert_exporter": "python",
   "pygments_lexer": "ipython3",
   "version": "3.7.6"
  }
 },
 "nbformat": 4,
 "nbformat_minor": 4
}
