{
 "cells": [
  {
   "cell_type": "markdown",
   "metadata": {},
   "source": [
    "# 本題要找出最大與最小的結果為何\n",
    "原題目連結: https://leetcode.com/problems/min-max-game/  \n",
    "\n",
    "You are given a 0-indexed integer array nums whose length is a power of 2.  \n",
    "\n",
    "Apply the following algorithm on nums:  \n",
    "\n",
    "Let n be the length of nums. If n == 1, end the process. Otherwise, create a new 0-indexed integer array newNums of length n / 2.  \n",
    "For every even index i where 0 <= i < n / 2, assign the value of newNums[i] as min(nums[2 * i], nums[2 * i + 1]).  \n",
    "For every odd index i where 0 <= i < n / 2, assign the value of newNums[i] as max(nums[2 * i], nums[2 * i + 1]).  \n",
    "Replace the array nums with newNums.  \n",
    "Repeat the entire process starting from step 1.  \n",
    "Return the last number that remains in nums after applying the algorithm.  \n",
    "\n",
    "範例:  \n",
    "Ex1:  \n",
    "Input: nums = [1,3,5,2,4,8,2,2]  \n",
    "Output: 1  \n",
    "Explanation: The following arrays are the results of applying the algorithm repeatedly.  \n",
    "First: nums = [1,5,4,2]  \n",
    "Second: nums = [1,4]  \n",
    "Third: nums = [1]  \n",
    "1 is the last remaining number, so we return 1.  \n",
    "\n",
    "Ex2:  \n",
    "Input: nums = [3]  \n",
    "Output: 3  \n",
    "Explanation: 3 is already the last remaining number, so we return 3."
   ]
  },
  {
   "cell_type": "markdown",
   "metadata": {},
   "source": [
    "* 解題想法:  \n",
    "首先建立一個while迴圈 ，直到list長度等於1的情況，接著用2的倍數作為index來檢查是要使用最大值或最小值來取值，將值取出後放入一個暫存的list中，最後將原本list的值清除後放入暫存list中的值，最後回傳剩下的值"
   ]
  },
  {
   "cell_type": "code",
   "execution_count": null,
   "metadata": {},
   "outputs": [],
   "source": [
    "class Solution:\n",
    "    def minMaxGame(self, nums: List[int]) -> int:\n",
    "        while len(nums) > 1:\n",
    "            temp = []\n",
    "            size = int(len(nums)/2)\n",
    "            for m in range(size):\n",
    "                if m % 2 == 0:\n",
    "                    temp.append(min(nums[2*m], nums[2*m+1]))\n",
    "                else:\n",
    "                    temp.append(max(nums[2*m], nums[2*m+1]))\n",
    "            nums.clear()\n",
    "            nums+= temp\n",
    "        return nums[0]"
   ]
  }
 ],
 "metadata": {
  "kernelspec": {
   "display_name": "Python 3",
   "language": "python",
   "name": "python3"
  },
  "language_info": {
   "codemirror_mode": {
    "name": "ipython",
    "version": 3
   },
   "file_extension": ".py",
   "mimetype": "text/x-python",
   "name": "python",
   "nbconvert_exporter": "python",
   "pygments_lexer": "ipython3",
   "version": "3.7.4"
  }
 },
 "nbformat": 4,
 "nbformat_minor": 4
}
