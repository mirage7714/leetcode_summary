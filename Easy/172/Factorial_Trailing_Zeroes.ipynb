{
 "cells": [
  {
   "cell_type": "markdown",
   "metadata": {},
   "source": [
    "# 本題要找出N階後面會有幾個0\n",
    "原題目連結： https://leetcode.com/problems/factorial-trailing-zeroes/  \n",
    "\n",
    "Given an integer n, return the number of trailing zeroes in n!.  \n",
    "\n",
    "範例：  \n",
    "Ex1:  \n",
    "Input: n = 3  \n",
    "Output: 0  \n",
    "Explanation: 3! = 6, no trailing zero.  \n",
    "\n",
    "Ex2:  \n",
    "Input: n = 5  \n",
    "Output: 1  \n",
    "Explanation: 5! = 120, one trailing zero.  \n",
    "\n",
    "Ex3:  \n",
    "Input: n = 0  \n",
    "Output: 0\n"
   ]
  },
  {
   "cell_type": "markdown",
   "metadata": {},
   "source": [
    "* 解題想法：  \n",
    "想到最普通的暴力解，就是將n階算出來之後再統計後面共有幾個0，不過這樣效率滿差的  \n",
    "但等有時間再來優化了"
   ]
  },
  {
   "cell_type": "code",
   "execution_count": null,
   "metadata": {},
   "outputs": [],
   "source": [
    "class Solution:\n",
    "    def trailingZeroes(self, n: int) -> int:\n",
    "        count = 0\n",
    "        if n > 0:\n",
    "            total = 1\n",
    "            for m in range(1, n+1):\n",
    "                total = total * m\n",
    "            print(total)\n",
    "            t_str = str(total)\n",
    "            for l in range(len(t_str)-1, -1,-1):\n",
    "                if t_str[l] == '0':\n",
    "                    count += 1\n",
    "                else:\n",
    "                    break\n",
    "        return count"
   ]
  }
 ],
 "metadata": {
  "kernelspec": {
   "display_name": "Python 3",
   "language": "python",
   "name": "python3"
  },
  "language_info": {
   "codemirror_mode": {
    "name": "ipython",
    "version": 3
   },
   "file_extension": ".py",
   "mimetype": "text/x-python",
   "name": "python",
   "nbconvert_exporter": "python",
   "pygments_lexer": "ipython3",
   "version": "3.8.3"
  }
 },
 "nbformat": 4,
 "nbformat_minor": 4
}
