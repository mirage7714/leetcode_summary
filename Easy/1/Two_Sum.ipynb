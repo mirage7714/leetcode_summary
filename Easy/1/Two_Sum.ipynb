{
 "cells": [
  {
   "cell_type": "markdown",
   "metadata": {},
   "source": [
    "# 找出組成目標的兩個數是否在Array中\n",
    "原題目連結: https://leetcode.com/problems/two-sum/  \n",
    "\n",
    "範例:  \n",
    "Ex1:  \n",
    "Input: nums = [2,7,11,15], target = 9  \n",
    "Output: [0,1]  \n",
    "\n",
    "Ex2:  \n",
    "Input: nums = [3,2,4], target = 6  \n",
    "Output: [1,2]  \n",
    "\n",
    "Ex3:  \n",
    "Input: nums = [3,3], target = 6  \n",
    "Output: [0,1]"
   ]
  },
  {
   "cell_type": "markdown",
   "metadata": {},
   "source": [
    "* 解題想法:  \n",
    "題目有要求一個數只能用一次，因此第二個迴圈的範圍必須不能與第一個迴圈重疊  \n",
    "找出數值後回傳index，就是這題要的答案  "
   ]
  },
  {
   "cell_type": "code",
   "execution_count": null,
   "metadata": {},
   "outputs": [],
   "source": [
    "class Solution:\n",
    "    def twoSum(self, nums: List[int], target: int) -> List[int]:\n",
    "        result = []\n",
    "        for n in range(len(nums)-1):\n",
    "            left = target - nums[n]\n",
    "            for m in range(n+1, len(nums)):\n",
    "                if nums[m] == left:\n",
    "                    result.append(n)\n",
    "                    result.append(m)\n",
    "                    break\n",
    "        return result"
   ]
  }
 ],
 "metadata": {
  "kernelspec": {
   "display_name": "Python 3",
   "language": "python",
   "name": "python3"
  },
  "language_info": {
   "codemirror_mode": {
    "name": "ipython",
    "version": 3
   },
   "file_extension": ".py",
   "mimetype": "text/x-python",
   "name": "python",
   "nbconvert_exporter": "python",
   "pygments_lexer": "ipython3",
   "version": "3.7.4"
  }
 },
 "nbformat": 4,
 "nbformat_minor": 2
}
