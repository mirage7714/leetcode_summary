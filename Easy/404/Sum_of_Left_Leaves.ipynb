{
 "cells": [
  {
   "cell_type": "markdown",
   "metadata": {},
   "source": [
    "# 本題要算出左側葉子的總和為多少\n",
    "原題目連結: https://leetcode.com/problems/sum-of-left-leaves/  \n",
    "\n",
    "Given the root of a binary tree, return the sum of all left leaves.  \n",
    "\n",
    "A leaf is a node with no children. A left leaf is a leaf that is the left child of another node.  \n",
    "\n",
    "範例:  \n",
    "Ex1:  \n",
    "Input: root = [3,9,20,null,null,15,7]  \n",
    "Output: 24  \n",
    "Explanation: There are two left leaves in the binary tree, with values 9 and 15 respectively.  \n",
    "\n",
    "Ex2:  \n",
    "Input: root = [1]  \n",
    "Output: 0"
   ]
  },
  {
   "cell_type": "markdown",
   "metadata": {},
   "source": [
    "* 解題想法:  \n",
    "依題目的要求，左側葉子的定義是在樹的左側且沒有任何子節點，所以在使用BFS進行走訪的時候，如果遇到左側的節點，先判斷該節點是否還有子節點，如果沒有子節點則代表該節點為左側的葉子，因此可將值取出後相加，最後回傳相加後的結果"
   ]
  },
  {
   "cell_type": "code",
   "execution_count": null,
   "metadata": {},
   "outputs": [],
   "source": [
    "# Definition for a binary tree node.\n",
    "# class TreeNode:\n",
    "#     def __init__(self, val=0, left=None, right=None):\n",
    "#         self.val = val\n",
    "#         self.left = left\n",
    "#         self.right = right\n",
    "class Solution:\n",
    "    def sumOfLeftLeaves(self, root: TreeNode) -> int:\n",
    "        total = 0\n",
    "        temp = []\n",
    "        if root != None:\n",
    "            temp.append([root])\n",
    "            while len(temp) > 0:\n",
    "                nodes = []\n",
    "                for node in temp[0]:\n",
    "                    if node.left != None:\n",
    "                        l = node.left\n",
    "                        if l.left == None and l.right == None:\n",
    "                            total += l.val\n",
    "                        nodes.append(node.left)\n",
    "                    if node.right != None:\n",
    "                        nodes.append(node.right)\n",
    "                if len(nodes) > 0:\n",
    "                    temp.append(nodes)\n",
    "                temp.pop(0)\n",
    "        return total"
   ]
  }
 ],
 "metadata": {
  "kernelspec": {
   "display_name": "Python 3",
   "language": "python",
   "name": "python3"
  },
  "language_info": {
   "codemirror_mode": {
    "name": "ipython",
    "version": 3
   },
   "file_extension": ".py",
   "mimetype": "text/x-python",
   "name": "python",
   "nbconvert_exporter": "python",
   "pygments_lexer": "ipython3",
   "version": "3.7.4"
  }
 },
 "nbformat": 4,
 "nbformat_minor": 4
}
