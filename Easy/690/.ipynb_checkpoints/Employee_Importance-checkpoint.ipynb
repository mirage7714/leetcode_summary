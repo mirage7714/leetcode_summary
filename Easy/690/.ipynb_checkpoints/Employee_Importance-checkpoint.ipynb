{
 "cells": [
  {
   "cell_type": "markdown",
   "metadata": {},
   "source": [
    "# 本題目要找出指定員工id的重要性\n",
    "原題目連結: https://leetcode.com/problems/employee-importance/  \n",
    "\n",
    "You are given a data structure of employee information, which includes the employee's unique id, their importance value and their direct subordinates' id.  \n",
    "\n",
    "For example, employee 1 is the leader of employee 2, and employee 2 is the leader of employee 3. They have importance value 15, 10 and 5, respectively. Then employee 1 has a data structure like [1, 15, [2]], and employee 2 has [2, 10, [3]], and employee 3 has [3, 5, []]. Note that although employee 3 is also a subordinate of employee 1, the relationship is not direct.  \n",
    " \n",
    "Now given the employee information of a company, and an employee id, you need to return the total importance value of this employee and all their subordinates.  \n",
    "\n",
    "範例:  \n",
    "Ex1:  \n",
    "Input: [[1, 5, [2, 3]], [2, 3, []], [3, 3, []]], 1  \n",
    "Output: 11  \n",
    "Explanation:  \n",
    "Employee 1 has importance value 5, and he has two direct subordinates: employee 2 and employee 3. They both have importance value 3. So the total importance value of employee 1 is 5 + 3 + 3 = 11.  "
   ]
  },
  {
   "cell_type": "markdown",
   "metadata": {},
   "source": [
    "* 解題想法:  \n",
    "題目要求的是找出指定ID的重要性，另外也包含了他所屬的員工的重要性。因此需要使用題目提供的函數來找出他所屬的員工有多少  \n",
    "另外要特別注意的是所屬的員工也可能會有所屬的員工，因此使用了一個list來儲存所屬的員工ID，直到list都清空了才結束"
   ]
  },
  {
   "cell_type": "code",
   "execution_count": null,
   "metadata": {},
   "outputs": [],
   "source": [
    "\"\"\"\n",
    "# Definition for Employee.\n",
    "class Employee:\n",
    "    def __init__(self, id: int, importance: int, subordinates: List[int]):\n",
    "        self.id = id\n",
    "        self.importance = importance\n",
    "        self.subordinates = subordinates\n",
    "\"\"\"\n",
    "\n",
    "class Solution:\n",
    "    def getImportance(self, employees: List['Employee'], id: int) -> int:\n",
    "        total = 0\n",
    "        temp = []\n",
    "        for employee in employees:\n",
    "            if employee.id == id:\n",
    "                total += employee.importance\n",
    "                temp = employee.subordinates\n",
    "                break\n",
    "        while len(temp) > 0:\n",
    "            for e in employees:\n",
    "                if e.id in temp:\n",
    "                    total += e.importance\n",
    "                    if len(e.subordinates) > 0:\n",
    "                        for s in e.subordinates:\n",
    "                            temp.append(s)\n",
    "                    temp.remove(e.id)\n",
    "        return total"
   ]
  }
 ],
 "metadata": {
  "kernelspec": {
   "display_name": "Python 3",
   "language": "python",
   "name": "python3"
  },
  "language_info": {
   "codemirror_mode": {
    "name": "ipython",
    "version": 3
   },
   "file_extension": ".py",
   "mimetype": "text/x-python",
   "name": "python",
   "nbconvert_exporter": "python",
   "pygments_lexer": "ipython3",
   "version": "3.7.6"
  }
 },
 "nbformat": 4,
 "nbformat_minor": 4
}
