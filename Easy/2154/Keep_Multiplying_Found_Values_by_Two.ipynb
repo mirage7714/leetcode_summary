{
 "cells": [
  {
   "cell_type": "markdown",
   "metadata": {},
   "source": [
    "# 本題要找出最大存在於list中的值為何\n",
    "原題目連結: https://leetcode.com/problems/keep-multiplying-found-values-by-two/  \n",
    "\n",
    "You are given an array of integers nums. You are also given an integer original which is the first number that needs to be searched for in nums.  \n",
    "\n",
    "You then do the following steps:  \n",
    "\n",
    "If original is found in nums, multiply it by two (i.e., set original = 2 * original).  \n",
    "Otherwise, stop the process.  \n",
    "Repeat this process with the new number as long as you keep finding the number.  \n",
    "Return the final value of original.  \n",
    "\n",
    "範例:  \n",
    "Ex1:  \n",
    "Input: nums = [5,3,6,1,12], original = 3  \n",
    "Output: 24  \n",
    "Explanation:   \n",
    "- 3 is found in nums. 3 is multiplied by 2 to obtain 6.   \n",
    "- 6 is found in nums. 6 is multiplied by 2 to obtain 12.  \n",
    "- 12 is found in nums. 12 is multiplied by 2 to obtain 24.  \n",
    "- 24 is not found in nums. Thus, 24 is returned.  \n",
    "\n",
    "Ex2:  \n",
    "Input: nums = [2,7,9], original = 4  \n",
    "Output: 4  \n",
    "Explanation:  \n",
    "- 4 is not found in nums. Thus, 4 is returned."
   ]
  },
  {
   "cell_type": "markdown",
   "metadata": {},
   "source": [
    "* 解題想法:  \n",
    "用一個while迴圈檢查原本的數值是否存在於list中，如果有的話則將原本的數值X2，直到新的數值沒有存在於list中"
   ]
  },
  {
   "cell_type": "code",
   "execution_count": null,
   "metadata": {},
   "outputs": [],
   "source": [
    "class Solution:\n",
    "    def findFinalValue(self, nums: List[int], original: int) -> int:\n",
    "        while original in nums:\n",
    "            original *= 2\n",
    "        return original"
   ]
  }
 ],
 "metadata": {
  "kernelspec": {
   "display_name": "Python 3",
   "language": "python",
   "name": "python3"
  },
  "language_info": {
   "codemirror_mode": {
    "name": "ipython",
    "version": 3
   },
   "file_extension": ".py",
   "mimetype": "text/x-python",
   "name": "python",
   "nbconvert_exporter": "python",
   "pygments_lexer": "ipython3",
   "version": "3.7.6"
  }
 },
 "nbformat": 4,
 "nbformat_minor": 4
}
