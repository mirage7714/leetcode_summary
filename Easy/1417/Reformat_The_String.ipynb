{
 "cells": [
  {
   "cell_type": "markdown",
   "metadata": {},
   "source": [
    "# 本題要對原本的字串重新調整順序，相鄰兩個字不能同為數字或字母\n",
    "原題目連結: https://leetcode.com/problems/reformat-the-string/  \n",
    "\n",
    "Given alphanumeric string s. (Alphanumeric string is a string consisting of lowercase English letters and digits).  \n",
    "\n",
    "You have to find a permutation of the string where no letter is followed by another letter and no digit is followed by another digit. That is, no two adjacent characters have the same type.  \n",
    "\n",
    "Return the reformatted string or return an empty string if it is impossible to reformat the string.  \n",
    "\n",
    "範例:  \n",
    "Ex1:  \n",
    "Input: s = \"a0b1c2\"  \n",
    "Output: \"0a1b2c\"  \n",
    "Explanation: No two adjacent characters have the same type in \"0a1b2c\". \"a0b1c2\", \"0a1b2c\", \"0c2a1b\" are also valid permutations.  \n",
    "\n",
    "Ex2:  \n",
    "Input: s = \"leetcode\"  \n",
    "Output: \"\"  \n",
    "Explanation: \"leetcode\" has only characters so we cannot separate them by digits.  \n",
    "\n",
    "Ex3:  \n",
    "Input: s = \"1229857369\"  \n",
    "Output: \"\"  \n",
    "Explanation: \"1229857369\" has only digits so we cannot separate them by characters.  \n",
    "\n",
    "Ex4:  \n",
    "Input: s = \"covid2019\"  \n",
    "Output: \"c2o0v1i9d\"  \n",
    "\n",
    "Ex5:  \n",
    "Input: s = \"ab123\"  \n",
    "Output: \"1a2b3\""
   ]
  },
  {
   "cell_type": "markdown",
   "metadata": {},
   "source": [
    "* 解題想法:  \n",
    "由於題目要對英文字母與數字進行交錯，因此先統整字串內有的字母與數字，如果兩個長度差距不為一的情況下是無法組成的  \n",
    "如果符合這個條件下，則判斷是字母數較多或是數字較多，由較多的先開始進行組合"
   ]
  },
  {
   "cell_type": "code",
   "execution_count": null,
   "metadata": {},
   "outputs": [],
   "source": [
    "class Solution:\n",
    "    def reformat(self, s: str) -> str:\n",
    "        digit_chars = ['0','1','2','3','4','5','6','7','8','9']\n",
    "        digits = []\n",
    "        chars = []\n",
    "        result = ''\n",
    "        for n in s:\n",
    "            if n in digit_chars:\n",
    "                digits.append(n)\n",
    "            else:\n",
    "                chars.append(n)\n",
    "        if len(digits) > 0 and len(chars) > 0 :\n",
    "            index_c = 0\n",
    "            index_d = 0 \n",
    "            if abs(len(digits) - len(chars)) <= 1:   \n",
    "                if len(digits) >= len(chars):\n",
    "                    for n in range(len(s)):\n",
    "                        if n % 2 == 0:\n",
    "                            result += digits[index_d]\n",
    "                            index_d += 1\n",
    "                        else:\n",
    "                            result += chars[index_c]\n",
    "                            index_c += 1\n",
    "                else:\n",
    "                    for m in range(len(s)):\n",
    "                        if m % 2 == 0:\n",
    "                            result += chars[index_c]\n",
    "                            index_c += 1\n",
    "                        else:\n",
    "                            result += digits[index_d]\n",
    "                            index_d += 1\n",
    "        elif len(chars) == 0:\n",
    "            if len(digits) == 1:\n",
    "                result += digits[0]\n",
    "        elif len(digits) == 0:\n",
    "            if len(chars) == 1:\n",
    "                result += chars[0]\n",
    "        return result\n",
    "                        "
   ]
  }
 ],
 "metadata": {
  "kernelspec": {
   "display_name": "Python 3",
   "language": "python",
   "name": "python3"
  },
  "language_info": {
   "codemirror_mode": {
    "name": "ipython",
    "version": 3
   },
   "file_extension": ".py",
   "mimetype": "text/x-python",
   "name": "python",
   "nbconvert_exporter": "python",
   "pygments_lexer": "ipython3",
   "version": "3.7.4"
  }
 },
 "nbformat": 4,
 "nbformat_minor": 2
}
