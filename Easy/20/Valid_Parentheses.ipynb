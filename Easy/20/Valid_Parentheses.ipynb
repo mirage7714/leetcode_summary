{
 "cells": [
  {
   "cell_type": "markdown",
   "metadata": {},
   "source": [
    "# 本題要判斷是否所有的括號都符合原則\n",
    "原題目連結: https://leetcode.com/problems/valid-parentheses/  \n",
    "\n",
    "Given a string s containing just the characters '(', ')', '{', '}', '[' and ']', determine if the input string is valid.  \n",
    "\n",
    "An input string is valid if:  \n",
    "\n",
    "Open brackets must be closed by the same type of brackets.  \n",
    "Open brackets must be closed in the correct order.  \n",
    "\n",
    "範例:  \n",
    "Ex1:  \n",
    "Input: s = \"()\"  \n",
    "Output: true  \n",
    "\n",
    "Ex2:  \n",
    "Input: s = \"()[]{}\"  \n",
    "Output: true  \n",
    "\n",
    "Ex3:  \n",
    "Input: s = \"(]\"  \n",
    "Output: false"
   ]
  },
  {
   "cell_type": "markdown",
   "metadata": {},
   "source": [
    "* 解題想法:  \n",
    "首先合理的括號應該是要包含左右兩個，因此至少字串的長度要大於1才有可能是合理的，在長度大於1的情況下，如果是符合原則的括號，最後所有的括號應該都可以成對，因此使用一個while迴圈開始逐步檢查，當遇到成對括號時則將其移除，並繼續檢查下去，直到長度為0，或是已經沒有成對的括號可以移除後則中斷迴圈，當長度為0則代表字串中的括號都適合原則的"
   ]
  },
  {
   "cell_type": "code",
   "execution_count": null,
   "metadata": {},
   "outputs": [],
   "source": [
    "class Solution:\n",
    "    def isValid(self, s: str) -> bool:\n",
    "        pairs = {'[': ']', '(': ')', '{':'}'}\n",
    "        result = False\n",
    "        if len(s) > 1: \n",
    "            while len(s) > 0:\n",
    "                size = len(s)\n",
    "                for m in range(len(s)-1):\n",
    "                    is_pair = False\n",
    "                    if s[m] in pairs.keys():\n",
    "                        if s[m+1] == pairs[s[m]]:\n",
    "                            is_pair = True\n",
    "                    if is_pair:\n",
    "                        s = s[:m] + s[m+2:]\n",
    "                        break\n",
    "                if len(s) == 0:\n",
    "                    result = True\n",
    "                if len(s) == size:\n",
    "                    break\n",
    "        return result"
   ]
  }
 ],
 "metadata": {
  "kernelspec": {
   "display_name": "Python 3",
   "language": "python",
   "name": "python3"
  },
  "language_info": {
   "codemirror_mode": {
    "name": "ipython",
    "version": 3
   },
   "file_extension": ".py",
   "mimetype": "text/x-python",
   "name": "python",
   "nbconvert_exporter": "python",
   "pygments_lexer": "ipython3",
   "version": "3.7.4"
  }
 },
 "nbformat": 4,
 "nbformat_minor": 4
}
