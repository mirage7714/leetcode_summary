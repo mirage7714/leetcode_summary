{
 "cells": [
  {
   "cell_type": "markdown",
   "metadata": {},
   "source": [
    "# 本題要判斷樹中所有的節點是否都有相同的值\n",
    "原題目連結: https://leetcode.com/problems/univalued-binary-tree/  \n",
    "\n",
    "A binary tree is uni-valued if every node in the tree has the same value.  \n",
    "\n",
    "Given the root of a binary tree, return true if the given tree is uni-valued, or false otherwise.  \n",
    "\n",
    "範例:  \n",
    "Ex1:   \n",
    "Input: root = [1,1,1,1,1,null,1]  \n",
    "Output: true  \n",
    "\n",
    "Ex2:  \n",
    "Input: root = [2,2,2,5,2]  \n",
    "Output: false"
   ]
  },
  {
   "cell_type": "markdown",
   "metadata": {},
   "source": [
    "* 解題想法:  \n",
    "首先找出第一個節點的數值並當成比較的基準，接著開始走訪樹的所有節點並檢查是否有與母節點數值不相同的節點，如果最後都沒有則回傳True，如果有不同則回傳False"
   ]
  },
  {
   "cell_type": "code",
   "execution_count": null,
   "metadata": {},
   "outputs": [],
   "source": [
    "# Definition for a binary tree node.\n",
    "# class TreeNode:\n",
    "#     def __init__(self, val=0, left=None, right=None):\n",
    "#         self.val = val\n",
    "#         self.left = left\n",
    "#         self.right = right\n",
    "class Solution:\n",
    "    def isUnivalTree(self, root: Optional[TreeNode]) -> bool:\n",
    "        result = True\n",
    "        temp = [root]\n",
    "        val = root.val\n",
    "        while len(temp) > 0:\n",
    "            nodes = []\n",
    "            for t in temp:\n",
    "                if t.val != val:\n",
    "                    result = False\n",
    "                    break\n",
    "                else:\n",
    "                    if t.left != None:\n",
    "                        nodes.append(t.left)\n",
    "                    if t.right != None:\n",
    "                        nodes.append(t.right)\n",
    "            if result:\n",
    "                temp.clear()\n",
    "                temp += nodes\n",
    "            else:\n",
    "                break\n",
    "        return result"
   ]
  }
 ],
 "metadata": {
  "kernelspec": {
   "display_name": "Python 3",
   "language": "python",
   "name": "python3"
  },
  "language_info": {
   "codemirror_mode": {
    "name": "ipython",
    "version": 3
   },
   "file_extension": ".py",
   "mimetype": "text/x-python",
   "name": "python",
   "nbconvert_exporter": "python",
   "pygments_lexer": "ipython3",
   "version": "3.7.4"
  }
 },
 "nbformat": 4,
 "nbformat_minor": 4
}
