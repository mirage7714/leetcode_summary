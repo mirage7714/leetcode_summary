{
 "cells": [
  {
   "cell_type": "markdown",
   "id": "f7c2c88b-f3ed-4a6c-afde-012d84f8d59c",
   "metadata": {},
   "source": [
    "# 本題要找出最少要多少次操作才能集到指定的數字 (\\#Array )\n",
    "原題目連結: https://leetcode.com/problems/minimum-operations-to-collect-elements/description/  \n",
    "\n",
    "You are given an array nums of positive integers and an integer k.  \n",
    "In one operation, you can remove the last element of the array and add it to your collection.  \n",
    "Return the minimum number of operations needed to collect elements 1, 2, ..., k.  \n",
    "\n",
    "範例:  \n",
    "Ex1:  \n",
    "Input: nums = [3,1,5,4,2], k = 2  \n",
    "Output: 4  \n",
    "Explanation: After 4 operations, we collect elements 2, 4, 5, and 1, in this order. Our collection contains elements 1 and 2. Hence, the answer is 4.  \n",
    "\n",
    "Ex2:  \n",
    "Input: nums = [3,1,5,4,2], k = 5  \n",
    "Output: 5  \n",
    "Explanation: After 5 operations, we collect elements 2, 4, 5, 1, and 3, in this order. Our collection contains elements 1 through 5. Hence, the answer is 5.  \n",
    "\n",
    "Ex3:  \n",
    "Input: nums = [3,2,5,3,1], k = 3  \n",
    "Output: 4  \n",
    "Explanation: After 4 operations, we collect elements 1, 3, 5, and 2, in this order. Our collection contains elements 1 through 3. Hence, the answer is 4."
   ]
  },
  {
   "cell_type": "markdown",
   "id": "60d1ffe0-9f9f-4ca0-93e0-b89c3c900078",
   "metadata": {},
   "source": [
    "* 解題想法:  \n",
    "先建立一個暫存，用來放符合的數字，接著開始從list後面進行檢查，如果當數值小於或等於k時則放入暫存中，當暫存長度等於k時則回傳已經執行的次數"
   ]
  },
  {
   "cell_type": "code",
   "execution_count": null,
   "id": "5a070329-83df-427c-8b39-9591cd328ec9",
   "metadata": {},
   "outputs": [],
   "source": [
    "class Solution:\n",
    "    def minOperations(self, nums: List[int], k: int) -> int:\n",
    "        res = 0\n",
    "        temp = set()\n",
    "        for i in range(len(nums)-1, -1, -1):\n",
    "            res += 1\n",
    "            if nums[i] <= k:\n",
    "                temp.add(nums[i])\n",
    "            if len(temp) == k:\n",
    "                return res"
   ]
  }
 ],
 "metadata": {
  "kernelspec": {
   "display_name": "Python 3 (ipykernel)",
   "language": "python",
   "name": "python3"
  },
  "language_info": {
   "codemirror_mode": {
    "name": "ipython",
    "version": 3
   },
   "file_extension": ".py",
   "mimetype": "text/x-python",
   "name": "python",
   "nbconvert_exporter": "python",
   "pygments_lexer": "ipython3",
   "version": "3.11.4"
  }
 },
 "nbformat": 4,
 "nbformat_minor": 5
}
