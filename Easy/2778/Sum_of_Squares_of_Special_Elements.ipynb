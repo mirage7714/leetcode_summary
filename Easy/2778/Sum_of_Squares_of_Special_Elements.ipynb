{
 "cells": [
  {
   "cell_type": "markdown",
   "id": "05cba765-4cb1-4f15-af31-7d5d4d265d31",
   "metadata": {},
   "source": [
    "# 本題要找出指定index的值平方和為多少 (\\#Array)\n",
    "原題目連結: https://leetcode.com/problems/sum-of-squares-of-special-elements/description/  \n",
    "\n",
    "You are given a 1-indexed integer array nums of length n.  \n",
    "An element nums[i] of nums is called special if i divides n, i.e. n % i == 0.  \n",
    "Return the sum of the squares of all special elements of nums.  \n",
    "\n",
    "範例:  \n",
    "Ex1:  \n",
    "Input: nums = [1,2,3,4]  \n",
    "Output: 21  \n",
    "Explanation: There are exactly 3 special elements in nums: nums[1] since 1 divides 4, nums[2] since 2 divides 4, and nums[4] since 4 divides 4.   \n",
    "Hence, the sum of the squares of all special elements of nums is nums[1] * nums[1] + nums[2] * nums[2] + nums[4] * nums[4] = 1 * 1 + 2 * 2 + 4 * 4 = 21.    \n",
    "\n",
    "Ex2:  \n",
    "Input: nums = [2,7,1,19,18,3]  \n",
    "Output: 63  \n",
    "Explanation: There are exactly 4 special elements in nums: nums[1] since 1 divides 6, nums[2] since 2 divides 6, nums[3] since 3 divides 6, and nums[6] since 6 divides 6.   \n",
    "Hence, the sum of the squares of all special elements of nums is nums[1] * nums[1] + nums[2] * nums[2] + nums[3] * nums[3] + nums[6] * nums[6] = 2 * 2 + 7 * 7 + 1 * 1 + 3 * 3 = 63.   "
   ]
  },
  {
   "cell_type": "markdown",
   "id": "500da14a-8876-4142-aa17-a31833582558",
   "metadata": {},
   "source": [
    "* 解題想法:  \n",
    "首先找出可以將list長度整除的因數，接著將這些index的數值平方和加總起來就是答案"
   ]
  },
  {
   "cell_type": "code",
   "execution_count": null,
   "id": "67c8cef9-0351-4379-b860-432c04ca0219",
   "metadata": {},
   "outputs": [],
   "source": [
    "class Solution:\n",
    "    def sumOfSquares(self, nums: List[int]) -> int:\n",
    "        res = 0\n",
    "        s = len(nums)\n",
    "        for i in range(1, s+1):\n",
    "            if s % i == 0:\n",
    "                res += nums[i-1] * nums[i-1]\n",
    "        return res"
   ]
  }
 ],
 "metadata": {
  "kernelspec": {
   "display_name": "Python 3 (ipykernel)",
   "language": "python",
   "name": "python3"
  },
  "language_info": {
   "codemirror_mode": {
    "name": "ipython",
    "version": 3
   },
   "file_extension": ".py",
   "mimetype": "text/x-python",
   "name": "python",
   "nbconvert_exporter": "python",
   "pygments_lexer": "ipython3",
   "version": "3.9.13"
  }
 },
 "nbformat": 4,
 "nbformat_minor": 5
}
