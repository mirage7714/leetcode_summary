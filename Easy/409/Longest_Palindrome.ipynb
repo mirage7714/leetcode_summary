{
 "cells": [
  {
   "cell_type": "markdown",
   "metadata": {},
   "source": [
    "# 找出最長的回文長度\n",
    "原題目連結: https://leetcode.com/problems/longest-palindrome/  \n",
    "\n",
    "範例:  \n",
    "Ex1:  \n",
    "Input: s = \"abccccdd\"  \n",
    "Output: 7  \n",
    "\n",
    "Ex2:  \n",
    "Input: s = \"a\"  \n",
    "Output: 1  \n",
    "\n",
    "Ex3:  \n",
    "Input: s = \"bb\"  \n",
    "Output: 2  "
   ]
  },
  {
   "cell_type": "markdown",
   "metadata": {},
   "source": [
    "* 解題想法:  \n",
    "顧名思義，回文就是要左右對稱，所以必須先找出出現超過兩次以上的字。找出超過兩次以上的字之後需要判斷出現次數是奇數或是偶數  \n",
    "如果是奇數，需要減一才會是對稱的狀況。另外由於最中間的字是可有可無，因此需確認字串內是否有只出現過一次的字，如果有的話結果需要再加1"
   ]
  },
  {
   "cell_type": "code",
   "execution_count": null,
   "metadata": {},
   "outputs": [],
   "source": [
    "class Solution:\n",
    "    def longestPalindrome(self, s: str) -> int:\n",
    "        pali = 0\n",
    "        temp = {}\n",
    "        for n in range(len(s)):\n",
    "            if s[n] not in temp.keys():\n",
    "                temp[s[n]] = 1\n",
    "            else:\n",
    "                temp[s[n]] += 1\n",
    "        if len(s) < 2:\n",
    "            pali = 1\n",
    "        else:\n",
    "            for v in temp.values():\n",
    "                if v % 2 == 0:\n",
    "                    pali += v\n",
    "                elif v > 2:\n",
    "                    pali += (v-1)\n",
    "            if pali < len(s):\n",
    "                pali += 1\n",
    "        return pali"
   ]
  }
 ],
 "metadata": {
  "kernelspec": {
   "display_name": "Python 3",
   "language": "python",
   "name": "python3"
  },
  "language_info": {
   "codemirror_mode": {
    "name": "ipython",
    "version": 3
   },
   "file_extension": ".py",
   "mimetype": "text/x-python",
   "name": "python",
   "nbconvert_exporter": "python",
   "pygments_lexer": "ipython3",
   "version": "3.7.4"
  }
 },
 "nbformat": 4,
 "nbformat_minor": 2
}
