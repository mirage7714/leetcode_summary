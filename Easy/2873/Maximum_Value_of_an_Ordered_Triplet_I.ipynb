{
 "cells": [
  {
   "cell_type": "markdown",
   "id": "91771cd6-2fe5-4802-81c4-61d73e0c6b15",
   "metadata": {},
   "source": [
    "# 本題要找出符合條件的最大值為多少 (\\#Array )\n",
    "原題目連結: https://leetcode.com/problems/maximum-value-of-an-ordered-triplet-i/description/  \n",
    "\n",
    "You are given a 0-indexed integer array nums.  \n",
    "Return the maximum value over all triplets of indices (i, j, k) such that i < j < k. If all such triplets have a negative value, return 0.  \n",
    "The value of a triplet of indices (i, j, k) is equal to (nums[i] - nums[j]) * nums[k].  \n",
    "\n",
    "範例:  \n",
    "Ex1:  \n",
    "Input: nums = [12,6,1,2,7]  \n",
    "Output: 77  \n",
    "Explanation: The value of the triplet (0, 2, 4) is (nums[0] - nums[2]) * nums[4] = 77.  \n",
    "It can be shown that there are no ordered triplets of indices with a value greater than 77.   \n",
    "\n",
    "Ex2:  \n",
    "Input: nums = [1,10,3,4,19]  \n",
    "Output: 133  \n",
    "Explanation: The value of the triplet (1, 2, 4) is (nums[1] - nums[2]) * nums[4] = 133.  \n",
    "It can be shown that there are no ordered triplets of indices with a value greater than 133.  \n",
    "\n",
    "Ex3:  \n",
    "Input: nums = [1,2,3]  \n",
    "Output: 0  \n",
    "Explanation: The only ordered triplet of indices (0, 1, 2) has a negative value of (nums[0] - nums[1]) * nums[2] = -3. Hence, the answer would be 0."
   ]
  },
  {
   "cell_type": "markdown",
   "id": "a8b7d3d5-9504-4984-baf0-56ed39060b6a",
   "metadata": {},
   "source": [
    "* 解題想法:  \n",
    "首先用兩個迴圈分別找出i與j且nums[i] > nums[j]的組合，接著乘上nums[k]後找出最大值進行回傳，如果都沒有這種組合則回傳0"
   ]
  },
  {
   "cell_type": "code",
   "execution_count": null,
   "id": "7b391fbe-6219-480f-a708-44580cb7f1b4",
   "metadata": {},
   "outputs": [],
   "source": [
    "class Solution:\n",
    "    def maximumTripletValue(self, nums: List[int]) -> int:\n",
    "        res = 0\n",
    "        for i in range(len(nums)-2):\n",
    "            for j in range(i+1, len(nums)-1):\n",
    "                if nums[i] - nums[j] > 0: \n",
    "                    for k in range(j+1, len(nums)):\n",
    "                        res = max(res, (nums[i] - nums[j]) * nums[k])\n",
    "        return res"
   ]
  }
 ],
 "metadata": {
  "kernelspec": {
   "display_name": "Python 3 (ipykernel)",
   "language": "python",
   "name": "python3"
  },
  "language_info": {
   "codemirror_mode": {
    "name": "ipython",
    "version": 3
   },
   "file_extension": ".py",
   "mimetype": "text/x-python",
   "name": "python",
   "nbconvert_exporter": "python",
   "pygments_lexer": "ipython3",
   "version": "3.11.4"
  }
 },
 "nbformat": 4,
 "nbformat_minor": 5
}
