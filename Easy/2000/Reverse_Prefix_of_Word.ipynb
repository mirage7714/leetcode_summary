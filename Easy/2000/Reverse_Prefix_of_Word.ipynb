{
 "cells": [
  {
   "cell_type": "markdown",
   "metadata": {},
   "source": [
    "# 本題要找出反轉後的字串為何\n",
    "原題目連結: https://leetcode.com/problems/reverse-prefix-of-word/  \n",
    "\n",
    "Given a 0-indexed string word and a character ch, reverse the segment of word that starts at index 0 and ends at the index of the first occurrence of ch (inclusive). If the character ch does not exist in word, do nothing.  \n",
    "\n",
    "For example, if word = \"abcdefd\" and ch = \"d\", then you should reverse the segment that starts at 0 and ends at 3 (inclusive). The resulting string will be \"dcbaefd\".  \n",
    "Return the resulting string.  \n",
    "\n",
    "範例:  \n",
    "Ex1:  \n",
    "Input: word = \"abcdefd\", ch = \"d\"  \n",
    "Output: \"dcbaefd\"  \n",
    "Explanation: The first occurrence of \"d\" is at index 3.   \n",
    "Reverse the part of word from 0 to 3 (inclusive), the resulting string is \"dcbaefd\".  \n",
    "\n",
    "Ex2:  \n",
    "Input: word = \"xyxzxe\", ch = \"z\"  \n",
    "Output: \"zxyxxe\"  \n",
    "Explanation: The first and only occurrence of \"z\" is at index 3.  \n",
    "Reverse the part of word from 0 to 3 (inclusive), the resulting string is \"zxyxxe\".  \n",
    "\n",
    "Ex3:  \n",
    "Input: word = \"abcd\", ch = \"z\"  \n",
    "Output: \"abcd\"  \n",
    "Explanation: \"z\" does not exist in word.  \n",
    "You should not do any reverse operation, the resulting string is \"abcd\".  "
   ]
  },
  {
   "cell_type": "markdown",
   "metadata": {},
   "source": [
    "* 解題想法:  \n",
    "首先判斷指定的字母在字串中是否有出現，如果有出現的話則找出第一個字母的index為何，接著將原字串拆成前後兩組，第一組用反轉的方式重新排序，第二組則是照原本的順序加上  \n",
    "如果指定的字母沒有在字串內出現，則直接回傳題目字串就可"
   ]
  },
  {
   "cell_type": "code",
   "execution_count": null,
   "metadata": {},
   "outputs": [],
   "source": [
    "class Solution:\n",
    "    def reversePrefix(self, word: str, ch: str) -> str:\n",
    "        result = ''\n",
    "        if ch in word:\n",
    "            i = word.index(ch)\n",
    "            part = word[:i+1]\n",
    "            rest = word[i+1:]\n",
    "            for p in part:\n",
    "                result = p + result\n",
    "            result += rest\n",
    "        else:\n",
    "            result = word\n",
    "        return result"
   ]
  }
 ],
 "metadata": {
  "kernelspec": {
   "display_name": "Python 3",
   "language": "python",
   "name": "python3"
  },
  "language_info": {
   "codemirror_mode": {
    "name": "ipython",
    "version": 3
   },
   "file_extension": ".py",
   "mimetype": "text/x-python",
   "name": "python",
   "nbconvert_exporter": "python",
   "pygments_lexer": "ipython3",
   "version": "3.7.4"
  }
 },
 "nbformat": 4,
 "nbformat_minor": 4
}
