{
 "cells": [
  {
   "cell_type": "markdown",
   "metadata": {},
   "source": [
    "# 本題要找出兩個list可以組成的最小數值為何 (\\#Array)\n",
    "原題目連結: https://leetcode.com/problems/form-smallest-number-from-two-digit-arrays/description/   \n",
    "\n",
    "Given two arrays of unique digits nums1 and nums2, return the smallest number that contains at least one digit from each array.  \n",
    "\n",
    "範例:  \n",
    "Ex1:  \n",
    "Input: nums1 = [4,1,3], nums2 = [5,7]  \n",
    "Output: 15  \n",
    "Explanation: The number 15 contains the digit 1 from nums1 and the digit 5 from nums2. It can be proven that 15 is the smallest number we can have.  \n",
    "\n",
    "Ex2:  \n",
    "Input: nums1 = [3,5,2,6], nums2 = [3,1,7]  \n",
    "Output: 3  \n",
    "Explanation: The number 3 contains the digit 3 which exists in both arrays."
   ]
  },
  {
   "cell_type": "markdown",
   "metadata": {},
   "source": [
    "* 解題想法:  \n",
    "首先找出nums1與nums2的最小值，並組成最小數值，接著檢查nums1中的數值是否有在nums2中出現過，如果有則更新最小數值，最後回傳最小數值"
   ]
  },
  {
   "cell_type": "code",
   "execution_count": null,
   "metadata": {},
   "outputs": [],
   "source": [
    "class Solution:\n",
    "    def minNumber(self, nums1: List[int], nums2: List[int]) -> int:\n",
    "        res = 0\n",
    "        n2 = min(nums2)\n",
    "        n1 = min(nums1)\n",
    "        if n1 < n2:\n",
    "            res = n1 * 10 + n2\n",
    "        else:\n",
    "            res = n2 * 10 + n1\n",
    "        for n in nums1:\n",
    "            if n in nums2:\n",
    "                res = min(res, n)\n",
    "        return res"
   ]
  }
 ],
 "metadata": {
  "kernelspec": {
   "display_name": "Python 3",
   "language": "python",
   "name": "python3"
  },
  "language_info": {
   "codemirror_mode": {
    "name": "ipython",
    "version": 3
   },
   "file_extension": ".py",
   "mimetype": "text/x-python",
   "name": "python",
   "nbconvert_exporter": "python",
   "pygments_lexer": "ipython3",
   "version": "3.7.6"
  }
 },
 "nbformat": 4,
 "nbformat_minor": 4
}
