{
 "cells": [
  {
   "cell_type": "markdown",
   "metadata": {},
   "source": [
    "# 本題要找出對角線中最大的質數為多少 (\\#Array)\n",
    "原題目連結: https://leetcode.com/problems/prime-in-diagonal/description/  \n",
    "\n",
    "You are given a 0-indexed two-dimensional integer array nums.  \n",
    "\n",
    "Return the largest prime number that lies on at least one of the diagonals of nums. In case, no prime is present on any of the diagonals, return 0.  \n",
    "\n",
    "Note that:  \n",
    "An integer is prime if it is greater than 1 and has no positive integer divisors other than 1 and itself.  \n",
    "An integer val is on one of thediagonals of nums if there exists an integer i for which nums[i][i] = val or an i for which nums[i][nums.length - i - 1]= val.  \n",
    "\n",
    "範例:  \n",
    "Ex1:  \n",
    "Input: nums = [[1,2,3],[5,6,7],[9,10,11]]  \n",
    "Output: 11  \n",
    "Explanation: The numbers 1, 3, 6, 9, and 11 are the only numbers present on at least one of the diagonals. Since 11 is the largest prime, we return 11.  \n",
    "\n",
    "Ex2:  \n",
    "Input: nums = [[1,2,3],[5,17,7],[9,11,10]]  \n",
    "Output: 17  \n",
    "Explanation: The numbers 1, 3, 9, 10, and 17 are all present on at least one of the diagonals. 17 is the largest prime, so we return 17."
   ]
  },
  {
   "cell_type": "markdown",
   "metadata": {},
   "source": [
    "* 解題想法:  \n",
    "首先建立一個函數用來判斷該數值是否為質數，接著將對角線中的數值取出後放入list中，最後回傳list中的最大值就是答案"
   ]
  },
  {
   "cell_type": "code",
   "execution_count": null,
   "metadata": {},
   "outputs": [],
   "source": [
    "class Solution:\n",
    "    def diagonalPrime(self, nums: List[List[int]]) -> int:\n",
    "        def is_prime(num):\n",
    "            if num % 2 == 0 and num > 2:\n",
    "                return False\n",
    "            elif num == 1:\n",
    "                return False\n",
    "            else:\n",
    "                for m in range(3, int(sqrt(num)+1)):\n",
    "                    if num % m == 0:\n",
    "                        return False\n",
    "                return True\n",
    "        \n",
    "        d = []\n",
    "        l = len(nums[0])\n",
    "        for m in range(len(nums)):\n",
    "            if is_prime(nums[m][m]):\n",
    "                d.append(nums[m][m])\n",
    "            if is_prime(nums[m][l-m-1]):\n",
    "                d.append(nums[m][l-m-1])\n",
    "        d.sort(reverse = True)\n",
    "        if d:\n",
    "            return d[0]\n",
    "        return 0"
   ]
  }
 ],
 "metadata": {
  "kernelspec": {
   "display_name": "Python 3",
   "language": "python",
   "name": "python3"
  },
  "language_info": {
   "codemirror_mode": {
    "name": "ipython",
    "version": 3
   },
   "file_extension": ".py",
   "mimetype": "text/x-python",
   "name": "python",
   "nbconvert_exporter": "python",
   "pygments_lexer": "ipython3",
   "version": "3.7.6"
  }
 },
 "nbformat": 4,
 "nbformat_minor": 4
}
