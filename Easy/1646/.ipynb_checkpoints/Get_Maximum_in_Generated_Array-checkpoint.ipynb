{
 "cells": [
  {
   "cell_type": "markdown",
   "metadata": {},
   "source": [
    "# 本題要找出產生的array中最大值為何\n",
    "原題目連結: https://leetcode.com/problems/get-maximum-in-generated-array/  \n",
    "\n",
    "You are given an integer n. An array nums of length n + 1 is generated in the following way:  \n",
    "\n",
    "nums[0] = 0  \n",
    "nums[1] = 1  \n",
    "nums[2 * i] = nums[i] when 2 <= 2 * i <= n   \n",
    "nums[2 * i + 1] = nums[i] + nums[i + 1] when 2 <= 2 * i + 1 <= n  \n",
    "Return the maximum integer in the array nums​​​.  \n",
    "\n",
    "範例:  \n",
    "Ex1:  \n",
    "Input: n = 7  \n",
    "Output: 3  \n",
    "Explanation: According to the given rules:  \n",
    "  nums[0] = 0  \n",
    "  nums[1] = 1  \n",
    "  nums[(1 * 2) = 2] = nums[1] = 1  \n",
    "  nums[(1 * 2) + 1 = 3] = nums[1] + nums[2] = 1 + 1 = 2  \n",
    "  nums[(2 * 2) = 4] = nums[2] = 1  \n",
    "  nums[(2 * 2) + 1 = 5] = nums[2] + nums[3] = 1 + 2 = 3  \n",
    "  nums[(3 * 2) = 6] = nums[3] = 2  \n",
    "  nums[(3 * 2) + 1 = 7] = nums[3] + nums[4] = 2 + 1 = 3  \n",
    "Hence, nums = [0,1,1,2,1,3,2,3], and the maximum is 3.  \n",
    "\n",
    "Ex2:  \n",
    "Input: n = 2  \n",
    "Output: 1  \n",
    "Explanation: According to the given rules, the maximum between nums[0], nums[1], and nums[2] is 1.  \n",
    "\n",
    "Ex3:  \n",
    "Input: n = 3  \n",
    "Output: 2  \n",
    "Explanation: According to the given rules, the maximum between nums[0], nums[1], nums[2], and nums[3] is 2."
   ]
  },
  {
   "cell_type": "markdown",
   "metadata": {},
   "source": [
    "* 解題想法:  \n",
    "由於題目有給定的轉換規則，因此先建立一個dict來存放不同數值時計算出來的結果，並用一個for loop來進行計算:  \n",
    "當m是2的倍數時，則結果等於m/2的數值，若m不是2的倍數時則為m/2與m/2+1的數值之合，最後將結果的最大值找出就是答案"
   ]
  },
  {
   "cell_type": "code",
   "execution_count": null,
   "metadata": {},
   "outputs": [],
   "source": [
    "class Solution:\n",
    "    def getMaximumGenerated(self, n: int) -> int:\n",
    "        result = {}\n",
    "        result[0] = 0\n",
    "        if n > 0:\n",
    "            result[1] = 1\n",
    "            result[2] = 1\n",
    "            for m in range(3,n+1):\n",
    "                if m % 2 == 0:\n",
    "                    result[m] = result[int(m/2)]\n",
    "                else:\n",
    "                    result[m] = result[int(m/2)] + result[int(m/2) + 1]\n",
    "        values = list(result.values())\n",
    "        return max(values)\n",
    "            "
   ]
  }
 ],
 "metadata": {
  "kernelspec": {
   "display_name": "Python 3",
   "language": "python",
   "name": "python3"
  },
  "language_info": {
   "codemirror_mode": {
    "name": "ipython",
    "version": 3
   },
   "file_extension": ".py",
   "mimetype": "text/x-python",
   "name": "python",
   "nbconvert_exporter": "python",
   "pygments_lexer": "ipython3",
   "version": "3.7.4"
  }
 },
 "nbformat": 4,
 "nbformat_minor": 2
}
