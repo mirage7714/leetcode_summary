{
 "cells": [
  {
   "cell_type": "markdown",
   "metadata": {},
   "source": [
    "# 本題要找出在操作過後的list為何 (\\#Array)\n",
    "原題目連結: https://leetcode.com/problems/apply-operations-to-an-array/  \n",
    "\n",
    "You are given a 0-indexed array nums of size n consisting of non-negative integers.  \n",
    "You need to apply n - 1 operations to this array where, in the ith operation (0-indexed), you will apply the following on the ith element of nums:  \n",
    "\n",
    "If nums[i] == nums[i + 1], then multiply nums[i] by 2 and set nums[i + 1] to 0. Otherwise, you skip this operation.  \n",
    "After performing all the operations, shift all the 0's to the end of the array.  \n",
    "\n",
    "For example, the array [1,0,2,0,0,1] after shifting all its 0's to the end, is [1,2,1,0,0,0].  \n",
    "Return the resulting array.  \n",
    "\n",
    "Note that the operations are applied sequentially, not all at once.  \n",
    "\n",
    "範例:  \n",
    "Ex1:  \n",
    "Input: nums = [1,2,2,1,1,0]  \n",
    "Output: [1,4,2,0,0,0]  \n",
    "Explanation: We do the following operations:  \n",
    "- i = 0: nums[0] and nums[1] are not equal, so we skip this operation.  \n",
    "- i = 1: nums[1] and nums[2] are equal, we multiply nums[1] by 2 and change nums[2] to 0. The array becomes [1,4,0,1,1,0].  \n",
    "- i = 2: nums[2] and nums[3] are not equal, so we skip this operation.  \n",
    "- i = 3: nums[3] and nums[4] are equal, we multiply nums[3] by 2 and change nums[4] to 0. The array becomes [1,4,0,2,0,0].  \n",
    "- i = 4: nums[4] and nums[5] are equal, we multiply nums[4] by 2 and change nums[5] to 0. The array becomes [1,4,0,2,0,0].  \n",
    "After that, we shift the 0's to the end, which gives the array [1,4,2,0,0,0].  \n",
    "\n",
    "Ex2:  \n",
    "Input: nums = [0,1]  \n",
    "Output: [1,0]  \n",
    "Explanation: No operation can be applied, we just shift the 0 to the end."
   ]
  },
  {
   "cell_type": "markdown",
   "metadata": {},
   "source": [
    "* 解題想法:  \n",
    "首先將list內的數值依題目要求進行修改，接著開始將非0的數值取出後放入一個新的list，最後將0放入list的尾端就是答案"
   ]
  },
  {
   "cell_type": "code",
   "execution_count": null,
   "metadata": {},
   "outputs": [],
   "source": [
    "class Solution:\n",
    "    def applyOperations(self, nums: List[int]) -> List[int]:\n",
    "        res = []\n",
    "        count = 0\n",
    "        for m in range(len(nums)-1):\n",
    "            if nums[m] == nums[m+1]:\n",
    "                nums[m] = 2 * nums[m]\n",
    "                nums[m+1] = 0\n",
    "        for n in nums:\n",
    "            if n == 0:\n",
    "                count += 1\n",
    "            else:\n",
    "                res.append(n)\n",
    "        for _ in range(count):\n",
    "            res.append(0)\n",
    "        return res"
   ]
  }
 ],
 "metadata": {
  "kernelspec": {
   "display_name": "Python 3",
   "language": "python",
   "name": "python3"
  },
  "language_info": {
   "codemirror_mode": {
    "name": "ipython",
    "version": 3
   },
   "file_extension": ".py",
   "mimetype": "text/x-python",
   "name": "python",
   "nbconvert_exporter": "python",
   "pygments_lexer": "ipython3",
   "version": "3.7.6"
  }
 },
 "nbformat": 4,
 "nbformat_minor": 4
}
