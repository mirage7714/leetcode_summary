{
 "cells": [
  {
   "cell_type": "markdown",
   "metadata": {},
   "source": [
    "# 本題要將兩個string進行merge\n",
    "原題目連結： https://leetcode.com/problems/merge-strings-alternately/   \n",
    "\n",
    "You are given two strings word1 and word2. Merge the strings by adding letters in alternating order, starting with word1. If a string is longer than the other, append the additional letters onto the end of the merged string.  \n",
    "\n",
    "Return the merged string.  \n",
    "\n",
    "範例：  \n",
    "Ex1:  \n",
    "Input: word1 = \"abc\", word2 = \"pqr\"  \n",
    "Output: \"apbqcr\"  \n",
    "\n",
    "Ex2:  \n",
    "Input: word1 = \"ab\", word2 = \"pqrs\"  \n",
    "Output: \"apbqrs\"  \n",
    "\n",
    "Ex3:  \n",
    "Input: word1 = \"abcd\", word2 = \"pq\"  \n",
    "Output: \"apbqcd\"  "
   ]
  },
  {
   "cell_type": "markdown",
   "metadata": {},
   "source": [
    "* 解題想法：  \n",
    "依題目的說明，將兩個字串的字進行merge，如果一個字串長度超過另一個字串，多的字則加到最後  \n",
    "因此先找出兩個字串中長度最短的字，接著先將長度範圍內的字串進行merge後，再將剩下的字串加在最後"
   ]
  },
  {
   "cell_type": "code",
   "execution_count": null,
   "metadata": {},
   "outputs": [],
   "source": [
    "class Solution:\n",
    "    def mergeAlternately(self, word1: str, word2: str) -> str:\n",
    "        result = ''\n",
    "        size = min(len(word1), len(word2))\n",
    "        for n in range(size):\n",
    "            result += word1[n]\n",
    "            result += word2[n]\n",
    "        if len(word1) > len(word2):\n",
    "            result += word1[size:]\n",
    "        else:\n",
    "            result += word2[size:]\n",
    "        return result"
   ]
  }
 ],
 "metadata": {
  "kernelspec": {
   "display_name": "Python 3",
   "language": "python",
   "name": "python3"
  },
  "language_info": {
   "codemirror_mode": {
    "name": "ipython",
    "version": 3
   },
   "file_extension": ".py",
   "mimetype": "text/x-python",
   "name": "python",
   "nbconvert_exporter": "python",
   "pygments_lexer": "ipython3",
   "version": "3.7.6"
  }
 },
 "nbformat": 4,
 "nbformat_minor": 4
}
