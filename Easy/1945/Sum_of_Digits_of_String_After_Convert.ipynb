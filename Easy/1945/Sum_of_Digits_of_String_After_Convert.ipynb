{
 "cells": [
  {
   "cell_type": "markdown",
   "metadata": {},
   "source": [
    "# 本題要找出在指定的操作循環後，最後會得到多少數值\n",
    "原題目連結: https://leetcode.com/problems/sum-of-digits-of-string-after-convert/  \n",
    "\n",
    "You are given a string s consisting of lowercase English letters, and an integer k.  \n",
    "\n",
    "First, convert s into an integer by replacing each letter with its position in the alphabet (i.e., replace 'a' with 1, 'b' with 2, ..., 'z' with 26). Then, transform the integer by replacing it with the sum of its digits. Repeat the transform operation k times in total.  \n",
    "\n",
    "For example, if s = \"zbax\" and k = 2, then the resulting integer would be 8 by the following operations:  \n",
    "\n",
    "Convert: \"zbax\" ➝ \"(26)(2)(1)(24)\" ➝ \"262124\" ➝ 262124  \n",
    "Transform #1: 262124 ➝ 2 + 6 + 2 + 1 + 2 + 4 ➝ 17  \n",
    "Transform #2: 17 ➝ 1 + 7 ➝ 8  \n",
    "Return the resulting integer after performing the operations described above.  \n",
    "\n",
    "範例:  \n",
    "Ex1:  \n",
    "Input: s = \"iiii\", k = 1  \n",
    "Output: 36  \n",
    "Explanation: The operations are as follows:  \n",
    "- Convert: \"iiii\" ➝ \"(9)(9)(9)(9)\" ➝ \"9999\" ➝ 9999  \n",
    "- Transform #1: 9999 ➝ 9 + 9 + 9 + 9 ➝ 36  \n",
    "Thus the resulting integer is 36.  \n",
    "\n",
    "Ex2:  \n",
    "Input: s = \"leetcode\", k = 2  \n",
    "Output: 6  \n",
    "Explanation: The operations are as follows:  \n",
    "- Convert: \"leetcode\" ➝ \"(12)(5)(5)(20)(3)(15)(4)(5)\" ➝ \"12552031545\" ➝ 12552031545  \n",
    "- Transform #1: 12552031545 ➝ 1 + 2 + 5 + 5 + 2 + 0 + 3 + 1 + 5 + 4 + 5 ➝ 33  \n",
    "- Transform #2: 33 ➝ 3 + 3 ➝ 6  \n",
    "Thus the resulting integer is 6.  \n",
    "\n",
    "Ex3:  \n",
    "Input: s = \"zbax\", k = 2  \n",
    "Output: 8"
   ]
  },
  {
   "cell_type": "markdown",
   "metadata": {},
   "source": [
    "* 解題想法:  \n",
    "首先需要將指定的字串轉換為數字後重新儲存為字串，接著在指定的K個迴圈中將所有數字加起來後取代原有的數值，最後將更新後的數值回傳就是題目要找的答案"
   ]
  },
  {
   "cell_type": "code",
   "execution_count": null,
   "metadata": {},
   "outputs": [],
   "source": [
    "class Solution:\n",
    "    def getLucky(self, s: str, k: int) -> int:\n",
    "        freq = {'a':1,'b':2,'c':3,'d':4,'e':5,'f':6,'g':7,'h':8,'i':9,'j':10,\n",
    "               'k':11,'l':12,'m':13,'n':14,'o':15,'p':16,'q':17,'r':18,'s':19,'t':20,'u':21,'v':22,'w':23,'x':24,'y':25,'z':26\n",
    "               }\n",
    "        trans = ''\n",
    "        for n in s:\n",
    "            trans += str(freq[n])\n",
    "        for m in range(k):\n",
    "            temp = 0\n",
    "            for l in trans:\n",
    "                temp += int(l)\n",
    "            trans = str(temp)\n",
    "        return int(trans)"
   ]
  }
 ],
 "metadata": {
  "kernelspec": {
   "display_name": "Python 3",
   "language": "python",
   "name": "python3"
  },
  "language_info": {
   "codemirror_mode": {
    "name": "ipython",
    "version": 3
   },
   "file_extension": ".py",
   "mimetype": "text/x-python",
   "name": "python",
   "nbconvert_exporter": "python",
   "pygments_lexer": "ipython3",
   "version": "3.7.4"
  }
 },
 "nbformat": 4,
 "nbformat_minor": 2
}
