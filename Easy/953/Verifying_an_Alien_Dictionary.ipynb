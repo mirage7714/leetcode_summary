{
 "cells": [
  {
   "cell_type": "markdown",
   "metadata": {},
   "source": [
    "# 本題要判斷在list中的字串是否符合指定的順序\n",
    "原題目連結: https://leetcode.com/problems/verifying-an-alien-dictionary/  \n",
    "\n",
    "In an alien language, surprisingly, they also use English lowercase letters, but possibly in a different order. The order of the alphabet is some permutation of lowercase letters.  \n",
    "\n",
    "Given a sequence of words written in the alien language, and the order of the alphabet, return true if and only if the given words are sorted lexicographically in this alien language.  \n",
    "\n",
    "範例:  \n",
    "Ex1:  \n",
    "Input: words = [\"hello\",\"leetcode\"], order = \"hlabcdefgijkmnopqrstuvwxyz\"  \n",
    "Output: true  \n",
    "Explanation: As 'h' comes before 'l' in this language, then the sequence is sorted.  \n",
    "\n",
    "Ex2:  \n",
    "Input: words = [\"word\",\"world\",\"row\"], order = \"worldabcefghijkmnpqstuvxyz\"  \n",
    "Output: false  \n",
    "Explanation: As 'd' comes after 'l' in this language, then words[0] > words[1], hence the sequence is unsorted.  \n",
    "\n",
    "Ex3:  \n",
    "Input: words = [\"apple\",\"app\"], order = \"abcdefghijklmnopqrstuvwxyz\"  \n",
    "Output: false  \n",
    "Explanation: The first three characters \"app\" match, and the second string is shorter (in size.) According to lexicographical rules \"apple\" > \"app\", because 'l' > '∅', where '∅' is defined as the blank character which is less than any other character (More info)."
   ]
  },
  {
   "cell_type": "markdown",
   "metadata": {},
   "source": [
    "* 解題想法:  \n",
    "首先將指定的字串順序轉換為dict，接著開始比較list中的字串大小，如果字首不相同，則直接比較字首的順序，如果不符合題目指定的順序則直接中斷迴圈並回傳False，如果順序符合則繼續比較後面的字母順序，最後如果長度不相同且前面字串都相同的情況下，則較短的字串順序小於較長的字串"
   ]
  },
  {
   "cell_type": "code",
   "execution_count": null,
   "metadata": {},
   "outputs": [],
   "source": [
    "class Solution:\n",
    "    def isAlienSorted(self, words: List[str], order: str) -> bool:\n",
    "        result = True\n",
    "        orders = {}\n",
    "        for o in range(len(order)):\n",
    "            orders[order[o]] = o\n",
    "        for m in range(len(words)-1):\n",
    "            w1 = words[m]\n",
    "            w2 = words[m+1]\n",
    "            if w1[0] == w2[0]:\n",
    "                if len(w1) > len(w2):\n",
    "                    if w1[:len(w2)] == w2:\n",
    "                        result = False\n",
    "                        break\n",
    "                else:\n",
    "                    for l in range(1, len(w1)):\n",
    "                        if orders[w1[l]] > orders[w2[l]]:\n",
    "                            result = False\n",
    "                            break\n",
    "            else:\n",
    "                if orders[w1[0]] > orders[w2[0]]:\n",
    "                    result = False\n",
    "                    break\n",
    "        return result"
   ]
  }
 ],
 "metadata": {
  "kernelspec": {
   "display_name": "Python 3",
   "language": "python",
   "name": "python3"
  },
  "language_info": {
   "codemirror_mode": {
    "name": "ipython",
    "version": 3
   },
   "file_extension": ".py",
   "mimetype": "text/x-python",
   "name": "python",
   "nbconvert_exporter": "python",
   "pygments_lexer": "ipython3",
   "version": "3.6.4"
  }
 },
 "nbformat": 4,
 "nbformat_minor": 2
}
