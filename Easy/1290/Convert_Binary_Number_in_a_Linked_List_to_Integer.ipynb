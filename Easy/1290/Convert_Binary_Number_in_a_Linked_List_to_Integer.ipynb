{
 "cells": [
  {
   "cell_type": "markdown",
   "metadata": {},
   "source": [
    "# 本題主要是要將sorted list中的數字拿出來，再轉換為10進位的數字\n",
    "原題目連結: https://leetcode.com/problems/convert-binary-number-in-a-linked-list-to-integer/  \n",
    "\n",
    "範例:  \n",
    "Ex1:  \n",
    "Input: head = [1,0,1]  \n",
    "Output: 5  \n",
    "Explanation: (101) in base 2 = (5) in base 10  \n",
    "\n",
    "Ex2:  \n",
    "Input: head = [0]  \n",
    "Output: 0  \n",
    "\n",
    "Ex3:  \n",
    "Input: head = [1]  \n",
    "Output: 1  \n",
    "\n",
    "Ex4:  \n",
    "Input: head = [1,0,0,1,0,0,1,1,1,0,0,0,0,0,0]  \n",
    "Output: 18880  \n",
    "\n",
    "Ex5:  \n",
    "Input: head = [0,0]  \n",
    "Output: 0"
   ]
  },
  {
   "cell_type": "markdown",
   "metadata": {},
   "source": [
    "* 解題想法:  \n",
    "用一個迴圈，將sorted list中的數字取出後，再用內建函數進行ㄓㄨㄢ"
   ]
  }
 ],
 "metadata": {
  "kernelspec": {
   "display_name": "Python 3",
   "language": "python",
   "name": "python3"
  },
  "language_info": {
   "codemirror_mode": {
    "name": "ipython",
    "version": 3
   },
   "file_extension": ".py",
   "mimetype": "text/x-python",
   "name": "python",
   "nbconvert_exporter": "python",
   "pygments_lexer": "ipython3",
   "version": "3.7.4"
  }
 },
 "nbformat": 4,
 "nbformat_minor": 2
}
