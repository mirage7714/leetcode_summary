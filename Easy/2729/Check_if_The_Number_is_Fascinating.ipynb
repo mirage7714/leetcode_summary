{
 "cells": [
  {
   "cell_type": "markdown",
   "metadata": {},
   "source": [
    "# 本題要找出所有的數字是否都只會出現一次 (\\#String)\n",
    "原題目連結: https://leetcode.com/problems/check-if-the-number-is-fascinating/description/  \n",
    "\n",
    "You are given an integer n that consists of exactly 3 digits.  \n",
    "We call the number n fascinating if, after the following modification, the resulting number contains all the digits from 1 to 9 exactly once and does not contain any 0's:  \n",
    "  \n",
    "Concatenate n with the numbers 2 * n and 3 * n.  \n",
    "Return true if n is fascinating, or false otherwise.  \n",
    "Concatenating two numbers means joining them together. For example, the concatenation of 121 and 371 is 121371.  \n",
    "\n",
    "範例:  \n",
    "Ex1:  \n",
    "Input: n = 192  \n",
    "Output: true  \n",
    "Explanation: We concatenate the numbers n = 192 and 2 * n = 384 and 3 * n = 576. The resulting number is 192384576. This number contains all the digits from 1 to 9 exactly once.  \n",
    "\n",
    "Ex2:  \n",
    "Input: n = 100   \n",
    "Output: false  \n",
    "Explanation: We concatenate the numbers n = 100 and 2 * n = 200 and 3 * n = 300. The resulting number is 100200300. This number does not satisfy any of the conditions."
   ]
  },
  {
   "cell_type": "markdown",
   "metadata": {},
   "source": [
    "* 解題想法:  \n",
    "首先將指定的字串產生出來之後，開始檢查每個數字出現的頻率，如果有1-9的數字出現超過一次則直接回傳False。接著檢查是否每個數字都剛好有出現，如果有的話則回傳True，否則最後回傳False"
   ]
  },
  {
   "cell_type": "code",
   "execution_count": null,
   "metadata": {},
   "outputs": [],
   "source": [
    "class Solution:\n",
    "    def isFascinating(self, n: int) -> bool:\n",
    "        s = '{}{}{}'.format(n, n*2, n*3)\n",
    "        count = {}\n",
    "        for i in s:\n",
    "            if i != '0':\n",
    "                if i not in count.keys():\n",
    "                    count[i] = 1\n",
    "                else:\n",
    "                    return False\n",
    "        if len(count) == 9:\n",
    "            return True\n",
    "        return False"
   ]
  }
 ],
 "metadata": {
  "kernelspec": {
   "display_name": "Python 3",
   "language": "python",
   "name": "python3"
  },
  "language_info": {
   "codemirror_mode": {
    "name": "ipython",
    "version": 3
   },
   "file_extension": ".py",
   "mimetype": "text/x-python",
   "name": "python",
   "nbconvert_exporter": "python",
   "pygments_lexer": "ipython3",
   "version": "3.7.6"
  }
 },
 "nbformat": 4,
 "nbformat_minor": 4
}
