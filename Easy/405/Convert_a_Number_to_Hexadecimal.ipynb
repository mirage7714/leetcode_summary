{
 "cells": [
  {
   "cell_type": "markdown",
   "metadata": {},
   "source": [
    "# 本題要找出將數字轉換為16進位的字串\n",
    "原題目連結： https://leetcode.com/problems/convert-a-number-to-hexadecimal/  \n",
    "\n",
    "Given an integer, write an algorithm to convert it to hexadecimal. For negative integer, two’s complement method is used.  \n",
    "\n",
    "範例：  \n",
    "Ex1:  \n",
    "Input: 26  \n",
    "Output: \"1a\"  \n",
    "\n",
    "Ex2:  \n",
    "Input: -1  \n",
    "Output: \"ffffffff\""
   ]
  },
  {
   "cell_type": "markdown",
   "metadata": {},
   "source": [
    "* 解題想法：  \n",
    "如果是一般的實做中，可以直接調用內建的函數(format或hex)就解決了，但因為題目要求不能用內建函數來解  \n",
    "因此想到的是使用迴圈進行除法並將餘數轉換為16進位的字元  \n",
    "負數的部份看題目要求是要使用補數的方式進行，因此將負的部份轉換為2的32位元去相減再進行轉換"
   ]
  },
  {
   "cell_type": "code",
   "execution_count": null,
   "metadata": {},
   "outputs": [],
   "source": [
    "class Solution:\n",
    "    def toHex(self, num: int) -> str:\n",
    "        convert = {\n",
    "            1:'1',2:'2',3:'3',4:'4',5:'5',6:'6',7:'7',8:'8',9:'9',\n",
    "            10:'a',11:'b',12:'c',13:'d',14:'e',15:'f',0:'0'\n",
    "        }\n",
    "        result = ''\n",
    "        if num != 0:\n",
    "            if num < 0:\n",
    "                num = pow(2,32) + num\n",
    "            while num > 15:\n",
    "                r = num % 16\n",
    "                num = int((num-r)/16)\n",
    "                result = convert[r] + result\n",
    "            result = convert[num] + result\n",
    "        elif num == 0:\n",
    "            result = convert[num]\n",
    "\n",
    "        return result"
   ]
  }
 ],
 "metadata": {
  "kernelspec": {
   "display_name": "Python 3",
   "language": "python",
   "name": "python3"
  },
  "language_info": {
   "codemirror_mode": {
    "name": "ipython",
    "version": 3
   },
   "file_extension": ".py",
   "mimetype": "text/x-python",
   "name": "python",
   "nbconvert_exporter": "python",
   "pygments_lexer": "ipython3",
   "version": "3.8.3"
  }
 },
 "nbformat": 4,
 "nbformat_minor": 4
}
