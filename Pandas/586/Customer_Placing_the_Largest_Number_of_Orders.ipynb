{
 "cells": [
  {
   "cell_type": "markdown",
   "metadata": {},
   "source": [
    "# 本題要找出訂單最多的用戶是哪個 (\\#Pandas)\n",
    "原題目連結: https://leetcode.com/problems/customer-placing-the-largest-number-of-orders/description/?envType=study-plan-v2&envId=30-days-of-pandas&lang=pythondata  \n",
    "\n",
    "Table: Orders  \n",
    "```\n",
    "+-----------------+----------+\n",
    "| Column Name     | Type     |\n",
    "+-----------------+----------+\n",
    "| order_number    | int      |\n",
    "| customer_number | int      |\n",
    "+-----------------+----------+\n",
    "```\n",
    "order_number is the primary key (column with unique values) for this table.  \n",
    "This table contains information about the order ID and the customer ID.  \n",
    "\n",
    "Write a solution to find the customer_number for the customer who has placed the largest number of orders.  \n",
    "The test cases are generated so that exactly one customer will have placed more orders than any other customer.  \n",
    "\n",
    "The result format is in the following example.  \n",
    "\n",
    "範例:  \n",
    "Ex1:  \n",
    "Input:   \n",
    "Orders table:  \n",
    "```\n",
    "+--------------+-----------------+\n",
    "| order_number | customer_number |\n",
    "+--------------+-----------------+\n",
    "| 1            | 1               |\n",
    "| 2            | 2               |\n",
    "| 3            | 3               |\n",
    "| 4            | 3               |\n",
    "+--------------+-----------------+\n",
    "```\n",
    "Output:  \n",
    "```\n",
    "+-----------------+\n",
    "| customer_number |\n",
    "+-----------------+\n",
    "| 3               |\n",
    "+-----------------+\n",
    "```\n",
    "Explanation:   \n",
    "The customer with number 3 has two orders, which is greater than either customer 1 or 2 because each of them only has one order.   \n",
    "So the result is customer_number 3."
   ]
  },
  {
   "cell_type": "markdown",
   "metadata": {},
   "source": [
    "* 解題想法:  \n",
    "首先用顧客號碼出現的次數來做groupby，並新增一個欄位來存放次數，接著將訂單編號刪除之後去除重複的資料就可以得到每個顧客下單的次數，最後取出下單次數最多的顧客號碼就是答案"
   ]
  },
  {
   "cell_type": "code",
   "execution_count": null,
   "metadata": {},
   "outputs": [],
   "source": [
    "import pandas as pd\n",
    "\n",
    "def largest_orders(orders: pd.DataFrame) -> pd.DataFrame:\n",
    "    orders['count'] = orders.groupby(orders['customer_number']).transform('count')\n",
    "    orders = orders.drop(columns = ['order_number']).drop_duplicates().sort_values('count', ascending = False)\n",
    "    res = pd.DataFrame({'customer_number':[]})\n",
    "    if len(orders) > 0: \n",
    "        cus = orders.query('count == {}'.format(orders['count'].max()))['customer_number'].to_frame()\n",
    "        res = pd.concat([res, cus])\n",
    "    return res"
   ]
  }
 ],
 "metadata": {
  "kernelspec": {
   "display_name": "Python 3",
   "language": "python",
   "name": "python3"
  },
  "language_info": {
   "codemirror_mode": {
    "name": "ipython",
    "version": 3
   },
   "file_extension": ".py",
   "mimetype": "text/x-python",
   "name": "python",
   "nbconvert_exporter": "python",
   "pygments_lexer": "ipython3",
   "version": "3.7.6"
  }
 },
 "nbformat": 4,
 "nbformat_minor": 4
}
