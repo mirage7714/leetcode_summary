{
 "cells": [
  {
   "cell_type": "markdown",
   "metadata": {},
   "source": [
    "# 本題要將分數的排名列出來 (\\#Pandas)\n",
    "原題目連結: https://leetcode.com/problems/rank-scores/description/?envType=study-plan-v2&envId=30-days-of-pandas&lang=pythondata  \n",
    "\n",
    "Table: Scores  \n",
    "```\n",
    "+-------------+---------+\n",
    "| Column Name | Type    |\n",
    "+-------------+---------+\n",
    "| id          | int     |\n",
    "| score       | decimal |\n",
    "+-------------+---------+\n",
    "```\n",
    "id is the primary key (column with unique values) for this table.  \n",
    "Each row of this table contains the score of a game. Score is a floating point value with two decimal places.  \n",
    "\n",
    "Write a solution to find the rank of the scores. The ranking should be calculated according to the following rules:  \n",
    "\n",
    "The scores should be ranked from the highest to the lowest.  \n",
    "If there is a tie between two scores, both should have the same ranking.  \n",
    "After a tie, the next ranking number should be the next consecutive integer value. In other words, there should be no holes between ranks.  \n",
    "Return the result table ordered by score in descending order.  \n",
    "\n",
    "The result format is in the following example.  \n",
    "\n",
    "範例:  \n",
    "Ex1:  \n",
    "Input:   \n",
    "Scores table:  \n",
    "```\n",
    "+----+-------+\n",
    "| id | score |\n",
    "+----+-------+\n",
    "| 1  | 3.50  |\n",
    "| 2  | 3.65  |\n",
    "| 3  | 4.00  |\n",
    "| 4  | 3.85  |\n",
    "| 5  | 4.00  |\n",
    "| 6  | 3.65  |\n",
    "+----+-------+\n",
    "```\n",
    "Output:  \n",
    "```\n",
    "+-------+------+\n",
    "| score | rank |\n",
    "+-------+------+\n",
    "| 4.00  | 1    |\n",
    "| 4.00  | 1    |\n",
    "| 3.85  | 2    |\n",
    "| 3.65  | 3    |\n",
    "| 3.65  | 3    |\n",
    "| 3.50  | 4    |\n",
    "+-------+------+\n",
    "```"
   ]
  },
  {
   "cell_type": "markdown",
   "metadata": {},
   "source": [
    "* 解題想法:  \n",
    "首先建立一個新的DataFrame用來存放分數與排名，接著將分數進行排序之後，照順序放入分數與排名，最後回傳新的DataFrame就是答案"
   ]
  },
  {
   "cell_type": "code",
   "execution_count": null,
   "metadata": {},
   "outputs": [],
   "source": [
    "import pandas as pd\n",
    "\n",
    "def order_scores(scores: pd.DataFrame) -> pd.DataFrame:\n",
    "    res = {'score':[],'rank':[]}\n",
    "    s = scores.sort_values('score', ascending = False)['score'].reset_index()\n",
    "    if len(s) > 0: \n",
    "        order = 1\n",
    "        temp = s.iloc[0]['score']\n",
    "        res['score'].append(temp)\n",
    "        res['rank'].append(order)\n",
    "        for i in range(1, len(s)):\n",
    "            if s.iloc[i]['score'] < temp:\n",
    "                order += 1\n",
    "                temp = s.iloc[i]['score']\n",
    "            res['score'].append(temp)\n",
    "            res['rank'].append(order)\n",
    "    return pd.DataFrame(res)"
   ]
  }
 ],
 "metadata": {
  "kernelspec": {
   "display_name": "Python 3",
   "language": "python",
   "name": "python3"
  },
  "language_info": {
   "codemirror_mode": {
    "name": "ipython",
    "version": 3
   },
   "file_extension": ".py",
   "mimetype": "text/x-python",
   "name": "python",
   "nbconvert_exporter": "python",
   "pygments_lexer": "ipython3",
   "version": "3.7.6"
  }
 },
 "nbformat": 4,
 "nbformat_minor": 4
}
