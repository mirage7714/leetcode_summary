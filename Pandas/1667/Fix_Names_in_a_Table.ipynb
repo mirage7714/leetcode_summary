{
 "cells": [
  {
   "cell_type": "markdown",
   "id": "89f43a76-de33-4eba-aaa5-6f66d38a2f4c",
   "metadata": {},
   "source": [
    "# 本題要姓名的大小寫進行修正 (\\#Pandas)\n",
    "原題目連結: https://leetcode.com/problems/fix-names-in-a-table/?envType=study-plan-v2&envId=30-days-of-pandas&lang=pythondata  \n",
    "\n",
    "Table: Users  \n",
    "```\n",
    "+----------------+---------+\n",
    "| Column Name    | Type    |\n",
    "+----------------+---------+\n",
    "| user_id        | int     |\n",
    "| name           | varchar |\n",
    "+----------------+---------+\n",
    "```\n",
    "user_id is the primary key (column with unique values) for this table.  \n",
    "This table contains the ID and the name of the user. The name consists of only lowercase and uppercase characters.  \n",
    "\n",
    "Write a solution to fix the names so that only the first character is uppercase and the rest are lowercase.  \n",
    "\n",
    "Return the result table ordered by user_id.  \n",
    "\n",
    "The result format is in the following example.  \n",
    "\n",
    "範例:  \n",
    "Ex1:  \n",
    "Input:   \n",
    "Users table:  \n",
    "```\n",
    "+---------+-------+\n",
    "| user_id | name  |\n",
    "+---------+-------+\n",
    "| 1       | aLice |\n",
    "| 2       | bOB   |\n",
    "+---------+-------+\n",
    "```\n",
    "Output:  \n",
    "```\n",
    "+---------+-------+\n",
    "| user_id | name  |\n",
    "+---------+-------+\n",
    "| 1       | Alice |\n",
    "| 2       | Bob   |\n",
    "+---------+-------+\n",
    "```"
   ]
  },
  {
   "cell_type": "markdown",
   "id": "6f87d8cf-8e23-48ec-b92f-73cebd920261",
   "metadata": {},
   "source": [
    "* 解題想法:  \n",
    "首先建立一個function來修改姓名，接著用apply的方式將原本的姓名修改好，最後回傳修正後的DataFrame就是答案"
   ]
  },
  {
   "cell_type": "code",
   "execution_count": null,
   "id": "de0688ff-ebc3-4fff-a13e-b04f2965a7c0",
   "metadata": {},
   "outputs": [],
   "source": [
    "import pandas as pd\n",
    "\n",
    "def fix_names(users: pd.DataFrame) -> pd.DataFrame:\n",
    "    def fix(x):\n",
    "        res = '{}{}'.format(x[0].upper(),x[1:].lower())\n",
    "        return res\n",
    "    users['name'] = users['name'].apply(fix)\n",
    "    users = users.sort_values('user_id')\n",
    "    return users"
   ]
  }
 ],
 "metadata": {
  "kernelspec": {
   "display_name": "Python 3 (ipykernel)",
   "language": "python",
   "name": "python3"
  },
  "language_info": {
   "codemirror_mode": {
    "name": "ipython",
    "version": 3
   },
   "file_extension": ".py",
   "mimetype": "text/x-python",
   "name": "python",
   "nbconvert_exporter": "python",
   "pygments_lexer": "ipython3",
   "version": "3.9.13"
  }
 },
 "nbformat": 4,
 "nbformat_minor": 5
}
