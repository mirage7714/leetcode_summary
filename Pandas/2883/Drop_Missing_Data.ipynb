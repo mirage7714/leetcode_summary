{
 "cells": [
  {
   "cell_type": "markdown",
   "id": "178e3565-ea0e-43a2-8116-45cf0b6db9bc",
   "metadata": {},
   "source": [
    "# 本題要將Null的資料刪除 (\\#Pandas )\n",
    "原題目連結: https://leetcode.com/problems/drop-missing-data/description/  \n",
    "\n",
    "DataFrame students  \n",
    "```\n",
    "+-------------+--------+\n",
    "| Column Name | Type   |\n",
    "+-------------+--------+\n",
    "| student_id  | int    |\n",
    "| name        | object |\n",
    "| age         | int    |\n",
    "+-------------+--------+\n",
    "```\n",
    "There are some rows having missing values in the name column.  \n",
    "Write a solution to remove the rows with missing values.  \n",
    "The result format is in the following example.  \n",
    "\n",
    "範例:  \n",
    "Ex1:  \n",
    "Input:  \n",
    "```\n",
    "+------------+-------+-----+\n",
    "| student_id | name  | age |\n",
    "+------------+-------+-----+\n",
    "| 32         | Piper | 5   |\n",
    "| 217        | Grace | 19  |\n",
    "| 779        | None  | 20  |\n",
    "| 849        | None  | 14  |\n",
    "+------------+-------+-----+\n",
    "```\n",
    "Output:  \n",
    "```\n",
    "+------------+-------+-----+\n",
    "| student_id | name  | age |\n",
    "+------------+-------+-----+\n",
    "| 32         | Piper | 5   |\n",
    "| 217        | Grace | 19  |\n",
    "+------------+-------+-----+\n",
    "```\n",
    "Explanation:   \n",
    "Students with ids 779 and 849 have empty values in the name column, so they will be removed."
   ]
  },
  {
   "cell_type": "markdown",
   "id": "afdd1fe3-bf04-48ba-b571-c0ffa6ecfa50",
   "metadata": {},
   "source": [
    "* 解題想法:  \n",
    "這邊使用dropna的這個函數，並將drop過後的資料重新assign之後回傳"
   ]
  },
  {
   "cell_type": "code",
   "execution_count": null,
   "id": "e38ce7b4-4359-4f37-b636-39ba2dd8d093",
   "metadata": {},
   "outputs": [],
   "source": [
    "import pandas as pd\n",
    "\n",
    "def dropMissingData(students: pd.DataFrame) -> pd.DataFrame:\n",
    "    students = students.dropna()\n",
    "    return students"
   ]
  }
 ],
 "metadata": {
  "kernelspec": {
   "display_name": "Python 3 (ipykernel)",
   "language": "python",
   "name": "python3"
  },
  "language_info": {
   "codemirror_mode": {
    "name": "ipython",
    "version": 3
   },
   "file_extension": ".py",
   "mimetype": "text/x-python",
   "name": "python",
   "nbconvert_exporter": "python",
   "pygments_lexer": "ipython3",
   "version": "3.11.4"
  }
 },
 "nbformat": 4,
 "nbformat_minor": 5
}
