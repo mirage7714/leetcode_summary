{
 "cells": [
  {
   "cell_type": "markdown",
   "metadata": {},
   "source": [
    "# 本題要將unique id加到原本的employee表格中 (\\#Pandas)\n",
    "原題目連結: https://leetcode.com/problems/replace-employee-id-with-the-unique-identifier/  \n",
    "\n",
    "Table: Employees  \n",
    "```\n",
    "+---------------+---------+\n",
    "| Column Name   | Type    |\n",
    "+---------------+---------+\n",
    "| id            | int     |\n",
    "| name          | varchar |\n",
    "+---------------+---------+\n",
    "```\n",
    "In SQL, id is the primary key for this table.  \n",
    "Each row of this table contains the id and the name of an employee in a company.  \n",
    " \n",
    "Table: EmployeeUNI  \n",
    "```\n",
    "+---------------+---------+\n",
    "| Column Name   | Type    |\n",
    "+---------------+---------+\n",
    "| id            | int     |\n",
    "| unique_id     | int     |\n",
    "+---------------+---------+\n",
    "```\n",
    "In SQL, (id, unique_id) is the primary key for this table.  \n",
    "Each row of this table contains the id and the corresponding unique id of an employee in the company.  \n",
    " \n",
    "Show the unique ID of each user, If a user does not have a unique ID replace just show null.  \n",
    "\n",
    "Return the result table in any order.  \n",
    "The result format is in the following example.  \n",
    "\n",
    "範例:  \n",
    "Ex1:   \n",
    "Input:   \n",
    "Employees table:  \n",
    "```\n",
    "+----+----------+\n",
    "| id | name     |\n",
    "+----+----------+\n",
    "| 1  | Alice    |\n",
    "| 7  | Bob      |\n",
    "| 11 | Meir     |\n",
    "| 90 | Winston  |\n",
    "| 3  | Jonathan |\n",
    "+----+----------+\n",
    "```\n",
    "EmployeeUNI table:  \n",
    "```\n",
    "+----+-----------+\n",
    "| id | unique_id |\n",
    "+----+-----------+\n",
    "| 3  | 1         |\n",
    "| 11 | 2         |\n",
    "| 90 | 3         |\n",
    "+----+-----------+\n",
    "```\n",
    "Output:   \n",
    "```\n",
    "+-----------+----------+\n",
    "| unique_id | name     |\n",
    "+-----------+----------+\n",
    "| null      | Alice    |\n",
    "| null      | Bob      |\n",
    "| 2         | Meir     |\n",
    "| 3         | Winston  |\n",
    "| 1         | Jonathan |\n",
    "+-----------+----------+\n",
    "```\n",
    "Explanation:   \n",
    "Alice and Bob do not have a unique ID, We will show null instead.  \n",
    "The unique ID of Meir is 2.  \n",
    "The unique ID of Winston is 3.  \n",
    "The unique ID of Jonathan is 1.  "
   ]
  },
  {
   "cell_type": "markdown",
   "metadata": {},
   "source": [
    "* 解題想法:  \n",
    "首先將兩個table進行合併，並用id作為key值，接著將id欄位刪除後就是答案"
   ]
  },
  {
   "cell_type": "code",
   "execution_count": null,
   "metadata": {},
   "outputs": [],
   "source": [
    "import pandas as pd\n",
    "\n",
    "def replace_employee_id(employees: pd.DataFrame, employee_uni: pd.DataFrame) -> pd.DataFrame:\n",
    "    t = pd.merge(employee_uni, employees, how='right',on='id')\n",
    "    t = t[['unique_id','name']]\n",
    "    return t"
   ]
  }
 ],
 "metadata": {
  "kernelspec": {
   "display_name": "Python 3",
   "language": "python",
   "name": "python3"
  },
  "language_info": {
   "codemirror_mode": {
    "name": "ipython",
    "version": 3
   },
   "file_extension": ".py",
   "mimetype": "text/x-python",
   "name": "python",
   "nbconvert_exporter": "python",
   "pygments_lexer": "ipython3",
   "version": "3.7.6"
  }
 },
 "nbformat": 4,
 "nbformat_minor": 4
}
