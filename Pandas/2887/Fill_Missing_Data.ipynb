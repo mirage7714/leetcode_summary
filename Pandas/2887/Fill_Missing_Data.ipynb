{
 "cells": [
  {
   "cell_type": "markdown",
   "id": "515d581d-594a-48ae-88b5-892da5e67bb4",
   "metadata": {},
   "source": [
    "# 本題要將缺失的欄位改為0 (\\#Pandas )\n",
    "原題目連結: https://leetcode.com/problems/fill-missing-data/description/   \n",
    "\n",
    "DataFrame products  \n",
    "```\n",
    "+-------------+--------+\n",
    "| Column Name | Type   |\n",
    "+-------------+--------+\n",
    "| name        | object |\n",
    "| quantity    | int    |\n",
    "| price       | int    |\n",
    "+-------------+--------+\n",
    "```\n",
    "Write a solution to fill in the missing value as 0 in the quantity column.  \n",
    "The result format is in the following example.  \n",
    "\n",
    "範例:  \n",
    "Ex1:  \n",
    "Input:  \n",
    "```\n",
    "+-----------------+----------+-------+\n",
    "| name            | quantity | price |\n",
    "+-----------------+----------+-------+\n",
    "| Wristwatch      | 32       | 135   |\n",
    "| WirelessEarbuds | None     | 821   |\n",
    "| GolfClubs       | None     | 9319  |\n",
    "| Printer         | 849      | 3051  |\n",
    "+-----------------+----------+-------+\n",
    "```\n",
    "Output:  \n",
    "```\n",
    "+-----------------+----------+-------+\n",
    "| name            | quantity | price |\n",
    "+-----------------+----------+-------+\n",
    "| Wristwatch      | 32       | 135   |\n",
    "| WirelessEarbuds | 0        | 821   |\n",
    "| GolfClubs       | 0        | 9319  |\n",
    "| Printer         | 849      | 3051  |\n",
    "+-----------------+----------+-------+\n",
    "```\n",
    "Explanation:   \n",
    "The quantity for Toaster and Headphones are filled by 0."
   ]
  },
  {
   "cell_type": "markdown",
   "id": "2102796e-028e-47a5-9ff0-f89ea469544c",
   "metadata": {},
   "source": [
    "* 解題想法:  \n",
    "這邊使用fillna這個函數，將缺失的值改為0，並將inplace改為True，才會取代掉原本缺失的數值"
   ]
  },
  {
   "cell_type": "code",
   "execution_count": null,
   "id": "70132b83-8d89-4bc7-8e46-dbf64008f69d",
   "metadata": {},
   "outputs": [],
   "source": [
    "import pandas as pd\n",
    "\n",
    "def fillMissingValues(products: pd.DataFrame) -> pd.DataFrame:\n",
    "    products['quantity'].fillna(value = 0, inplace=True)\n",
    "    return products"
   ]
  }
 ],
 "metadata": {
  "kernelspec": {
   "display_name": "Python 3 (ipykernel)",
   "language": "python",
   "name": "python3"
  },
  "language_info": {
   "codemirror_mode": {
    "name": "ipython",
    "version": 3
   },
   "file_extension": ".py",
   "mimetype": "text/x-python",
   "name": "python",
   "nbconvert_exporter": "python",
   "pygments_lexer": "ipython3",
   "version": "3.11.4"
  }
 },
 "nbformat": 4,
 "nbformat_minor": 5
}
