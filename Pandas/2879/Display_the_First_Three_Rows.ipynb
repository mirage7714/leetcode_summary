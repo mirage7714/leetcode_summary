{
 "cells": [
  {
   "cell_type": "markdown",
   "id": "69d7de6d-ccf0-42a9-aa2d-2b268e063dfb",
   "metadata": {},
   "source": [
    "# 本題要列出Dataframe的前三筆資料 (\\#Pandas )\n",
    "原題目連結：https://leetcode.com/problems/display-the-first-three-rows/  \n",
    "\n",
    "DataFrame: employees  \n",
    "```\n",
    "+-------------+--------+\n",
    "| Column Name | Type   |\n",
    "+-------------+--------+\n",
    "| employee_id | int    |\n",
    "| name        | object |\n",
    "| department  | object |\n",
    "| salary      | int    |\n",
    "+-------------+--------+\n",
    "```\n",
    "Write a solution to display the first 3 rows of this DataFrame.  \n",
    "\n",
    "Input:  \n",
    "DataFrame employees  \n",
    "```\n",
    "+-------------+-----------+-----------------------+--------+\n",
    "| employee_id | name      | department            | salary |\n",
    "+-------------+-----------+-----------------------+--------+\n",
    "| 3           | Bob       | Operations            | 48675  |\n",
    "| 90          | Alice     | Sales                 | 11096  |\n",
    "| 9           | Tatiana   | Engineering           | 33805  |\n",
    "| 60          | Annabelle | InformationTechnology | 37678  |\n",
    "| 49          | Jonathan  | HumanResources        | 23793  |\n",
    "| 43          | Khaled    | Administration        | 40454  |\n",
    "+-------------+-----------+-----------------------+--------+\n",
    "```\n",
    "Output:  \n",
    "```\n",
    "+-------------+---------+-------------+--------+\n",
    "| employee_id | name    | department  | salary |\n",
    "+-------------+---------+-------------+--------+\n",
    "| 3           | Bob     | Operations  | 48675  |\n",
    "| 90          | Alice   | Sales       | 11096  |\n",
    "| 9           | Tatiana | Engineering | 33805  |\n",
    "+-------------+---------+-------------+--------+\n",
    "```\n",
    "Explanation:   \n",
    "Only the first 3 rows are displayed."
   ]
  },
  {
   "cell_type": "markdown",
   "id": "9f7d8c0c-3335-4cbf-8370-8c0b9013a880",
   "metadata": {},
   "source": [
    "* 解題想法：  \n",
    "要找出DataFrame中的前幾列，需要用上iloc的函數來找出指定的列數"
   ]
  },
  {
   "cell_type": "code",
   "execution_count": null,
   "id": "34075df0-858e-4d9d-8e22-399ed789d410",
   "metadata": {},
   "outputs": [],
   "source": [
    "import pandas as pd\n",
    "\n",
    "def selectFirstRows(employees: pd.DataFrame) -> pd.DataFrame:\n",
    "    return employees.iloc[:3]"
   ]
  }
 ],
 "metadata": {
  "kernelspec": {
   "display_name": "Python 3 (ipykernel)",
   "language": "python",
   "name": "python3"
  },
  "language_info": {
   "codemirror_mode": {
    "name": "ipython",
    "version": 3
   },
   "file_extension": ".py",
   "mimetype": "text/x-python",
   "name": "python",
   "nbconvert_exporter": "python",
   "pygments_lexer": "ipython3",
   "version": "3.10.9"
  }
 },
 "nbformat": 4,
 "nbformat_minor": 5
}
