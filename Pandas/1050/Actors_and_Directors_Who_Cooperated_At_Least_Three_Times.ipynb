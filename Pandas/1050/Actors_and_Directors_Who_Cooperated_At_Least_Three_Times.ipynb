{
 "cells": [
  {
   "cell_type": "markdown",
   "metadata": {},
   "source": [
    "# 本題要找出演員與導演的組合超過三次以上的名單 (\\#Pandas)\n",
    "原題目連結: https://leetcode.com/problems/actors-and-directors-who-cooperated-at-least-three-times/  \n",
    "\n",
    "Table: ActorDirector  \n",
    "```\n",
    "+-------------+---------+\n",
    "| Column Name | Type    |\n",
    "+-------------+---------+\n",
    "| actor_id    | int     |\n",
    "| director_id | int     |\n",
    "| timestamp   | int     |\n",
    "+-------------+---------+\n",
    "```\n",
    "timestamp is the primary key (column with unique values) for this table.  \n",
    "\n",
    "Write a solution to find all the pairs (actor_id, director_id) where the actor has cooperated with the director at least three times.  \n",
    "Return the result table in any order.  \n",
    "\n",
    "The result format is in the following example.  \n",
    "\n",
    "範例:  \n",
    "Ex1:  \n",
    "Input:   \n",
    "ActorDirector table:  \n",
    "```\n",
    "+-------------+-------------+-------------+\n",
    "| actor_id    | director_id | timestamp   |\n",
    "+-------------+-------------+-------------+\n",
    "| 1           | 1           | 0           |\n",
    "| 1           | 1           | 1           |\n",
    "| 1           | 1           | 2           |\n",
    "| 1           | 2           | 3           |\n",
    "| 1           | 2           | 4           |\n",
    "| 2           | 1           | 5           |\n",
    "| 2           | 1           | 6           |\n",
    "+-------------+-------------+-------------+\n",
    "```\n",
    "Output:  \n",
    "```\n",
    "+-------------+-------------+\n",
    "| actor_id    | director_id |\n",
    "+-------------+-------------+\n",
    "| 1           | 1           |\n",
    "+-------------+-------------+\n",
    "```\n",
    "Explanation: The only pair is (1, 1) where they cooperated exactly 3 times."
   ]
  },
  {
   "cell_type": "markdown",
   "metadata": {},
   "source": [
    "* 解題想法:  \n",
    "首先用groupby對actor_id與dirctor_id兩個欄位進行group並找出那些組合是大於或等於3的，最後回傳這些組合就是答案"
   ]
  },
  {
   "cell_type": "code",
   "execution_count": null,
   "metadata": {},
   "outputs": [],
   "source": [
    "import pandas as pd\n",
    "\n",
    "def actors_and_directors(actor_director: pd.DataFrame) -> pd.DataFrame:\n",
    "    count = actor_director[['actor_id','director_id']].groupby(['actor_id','director_id']).size().to_dict()\n",
    "    res = {'actor_id':[],'director_id':[]}\n",
    "    for key, val in count.items():\n",
    "        if val >= 3:\n",
    "            res['actor_id'].append(key[0])\n",
    "            res['director_id'].append(key[1])\n",
    "    return pd.DataFrame(res)"
   ]
  }
 ],
 "metadata": {
  "kernelspec": {
   "display_name": "Python 3",
   "language": "python",
   "name": "python3"
  },
  "language_info": {
   "codemirror_mode": {
    "name": "ipython",
    "version": 3
   },
   "file_extension": ".py",
   "mimetype": "text/x-python",
   "name": "python",
   "nbconvert_exporter": "python",
   "pygments_lexer": "ipython3",
   "version": "3.7.6"
  }
 },
 "nbformat": 4,
 "nbformat_minor": 4
}
