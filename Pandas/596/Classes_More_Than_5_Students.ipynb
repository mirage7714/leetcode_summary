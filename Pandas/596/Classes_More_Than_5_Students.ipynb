{
 "cells": [
  {
   "cell_type": "markdown",
   "metadata": {},
   "source": [
    "# 本題要找出五個學生以上的課堂 (\\#Pandas)\n",
    "原題目連結: https://leetcode.com/problems/classes-more-than-5-students/description/?envType=study-plan-v2&envId=30-days-of-pandas&lang=pythondata  \n",
    "\n",
    "Table: Courses  \n",
    "```\n",
    "+-------------+---------+\n",
    "| Column Name | Type    |\n",
    "+-------------+---------+\n",
    "| student     | varchar |\n",
    "| class       | varchar |\n",
    "+-------------+---------+\n",
    "```\n",
    "(student, class) is the primary key (combination of columns with unique values) for this table.  \n",
    "Each row of this table indicates the name of a student and the class in which they are enrolled.  \n",
    "\n",
    "Write a solution to find all the classes that have at least five students.  \n",
    "Return the result table in any order.  \n",
    "\n",
    "The result format is in the following example.  \n",
    "\n",
    "範例:  \n",
    "Ex1:  \n",
    "Input:   \n",
    "Courses table:  \n",
    "```\n",
    "+---------+----------+\n",
    "| student | class    |\n",
    "+---------+----------+\n",
    "| A       | Math     |\n",
    "| B       | English  |\n",
    "| C       | Math     |\n",
    "| D       | Biology  |\n",
    "| E       | Math     |\n",
    "| F       | Computer |\n",
    "| G       | Math     |\n",
    "| H       | Math     |\n",
    "| I       | Math     |\n",
    "+---------+----------+\n",
    "```\n",
    "Output:  \n",
    "```\n",
    "+---------+\n",
    "| class   |\n",
    "+---------+\n",
    "| Math    |\n",
    "+---------+\n",
    "```\n",
    "Explanation:   \n",
    "- Math has 6 students, so we include it.  \n",
    "- English has 1 student, so we do not include it.  \n",
    "- Biology has 1 student, so we do not include it.  \n",
    "- Computer has 1 student, so we do not include it.  "
   ]
  },
  {
   "cell_type": "markdown",
   "metadata": {},
   "source": [
    "* 解題想法:  \n",
    "首先用transform的方式新增一個欄位作為統計數量的值，接著將學生清單的欄位刪除後去掉重複的值，最後再過濾學生數量大於或等於5個學生的課程，回傳課程名稱就是答案"
   ]
  },
  {
   "cell_type": "code",
   "execution_count": null,
   "metadata": {},
   "outputs": [],
   "source": [
    "import pandas as pd\n",
    "\n",
    "def find_classes(courses: pd.DataFrame) -> pd.DataFrame:\n",
    "   courses['count'] = courses['class'].groupby(courses['class']).transform('count')\n",
    "   courses = courses[['class','count']].drop_duplicates().query('count >= 5')\n",
    "   return courses['class'].to_frame()"
   ]
  }
 ],
 "metadata": {
  "kernelspec": {
   "display_name": "Python 3",
   "language": "python",
   "name": "python3"
  },
  "language_info": {
   "codemirror_mode": {
    "name": "ipython",
    "version": 3
   },
   "file_extension": ".py",
   "mimetype": "text/x-python",
   "name": "python",
   "nbconvert_exporter": "python",
   "pygments_lexer": "ipython3",
   "version": "3.7.6"
  }
 },
 "nbformat": 4,
 "nbformat_minor": 4
}
