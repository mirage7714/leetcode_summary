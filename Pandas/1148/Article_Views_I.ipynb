{
 "cells": [
  {
   "cell_type": "markdown",
   "id": "6f5c3e99-cb6e-4c2c-91fa-1a154b276f93",
   "metadata": {},
   "source": [
    "# 本題要找出作者有看過自己文章的ID為何 (\\#Pandas)\n",
    "原題目連結: https://leetcode.com/problems/article-views-i/?envType=study-plan-v2&envId=30-days-of-pandas&lang=pythondata  \n",
    "\n",
    "Table: Views  \n",
    "```\n",
    "+---------------+---------+\n",
    "| Column Name   | Type    |\n",
    "+---------------+---------+\n",
    "| article_id    | int     |\n",
    "| author_id     | int     |\n",
    "| viewer_id     | int     |\n",
    "| view_date     | date    |\n",
    "+---------------+---------+\n",
    "```\n",
    "There is no primary key (column with unique values) for this table, the table may have duplicate rows.  \n",
    "Each row of this table indicates that some viewer viewed an article (written by some author) on some date.   \n",
    "Note that equal author_id and viewer_id indicate the same person.  \n",
    " \n",
    "Write a solution to find all the authors that viewed at least one of their own articles.  \n",
    "\n",
    "Return the result table sorted by id in ascending order.  \n",
    "\n",
    "The result format is in the following example.  \n",
    "\n",
    "範例:  \n",
    "Ex1:  \n",
    "Input:   \n",
    "Views table:  \n",
    "```\n",
    "+------------+-----------+-----------+------------+\n",
    "| article_id | author_id | viewer_id | view_date  |\n",
    "+------------+-----------+-----------+------------+\n",
    "| 1          | 3         | 5         | 2019-08-01 |\n",
    "| 1          | 3         | 6         | 2019-08-02 |\n",
    "| 2          | 7         | 7         | 2019-08-01 |\n",
    "| 2          | 7         | 6         | 2019-08-02 |\n",
    "| 4          | 7         | 1         | 2019-07-22 |\n",
    "| 3          | 4         | 4         | 2019-07-21 |\n",
    "| 3          | 4         | 4         | 2019-07-21 |\n",
    "+------------+-----------+-----------+------------+\n",
    "```\n",
    "Output:  \n",
    "```\n",
    "+------+\n",
    "| id   |\n",
    "+------+\n",
    "| 4    |\n",
    "| 7    |\n",
    "+------+\n",
    "```"
   ]
  },
  {
   "cell_type": "markdown",
   "id": "b3daabe9-8153-46ca-be5b-8e0694f1c1a5",
   "metadata": {},
   "source": [
    "* 解題想法:  \n",
    "首先找出author_id與viewer_id相同的欄位，就可以找出是哪個作者的id"
   ]
  },
  {
   "cell_type": "code",
   "execution_count": null,
   "id": "5a6e66b9-61b6-496e-9645-bb6ea07eae3a",
   "metadata": {},
   "outputs": [],
   "source": [
    "import pandas as pd\n",
    "\n",
    "def article_views(views: pd.DataFrame) -> pd.DataFrame:\n",
    "    viewed = views[views['author_id'] == views['viewer_id']][['author_id']].drop_duplicates().rename(columns = {\"author_id\":\"id\"}).sort_values('id')\n",
    "    return viewed"
   ]
  }
 ],
 "metadata": {
  "kernelspec": {
   "display_name": "Python 3 (ipykernel)",
   "language": "python",
   "name": "python3"
  },
  "language_info": {
   "codemirror_mode": {
    "name": "ipython",
    "version": 3
   },
   "file_extension": ".py",
   "mimetype": "text/x-python",
   "name": "python",
   "nbconvert_exporter": "python",
   "pygments_lexer": "ipython3",
   "version": "3.9.13"
  }
 },
 "nbformat": 4,
 "nbformat_minor": 5
}
