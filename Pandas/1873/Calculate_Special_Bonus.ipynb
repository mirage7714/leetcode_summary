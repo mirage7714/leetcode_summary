{
 "cells": [
  {
   "cell_type": "markdown",
   "id": "fbab838e-6664-4cf7-94f1-0395f3376e81",
   "metadata": {},
   "source": [
    "# 本題要計算員工的bonus (\\#Pandas)\n",
    "原題目連結: https://leetcode.com/problems/calculate-special-bonus/?envType=study-plan-v2&envId=30-days-of-pandas&lang=pythondata  \n",
    "\n",
    "Table: Employees  \n",
    "```\n",
    "+-------------+---------+\n",
    "| Column Name | Type    |\n",
    "+-------------+---------+\n",
    "| employee_id | int     |\n",
    "| name        | varchar |\n",
    "| salary      | int     |\n",
    "+-------------+---------+\n",
    "```\n",
    "employee_id is the primary key (column with unique values) for this table.  \n",
    "Each row of this table indicates the employee ID, employee name, and salary.  \n",
    "\n",
    "Write a solution to calculate the bonus of each employee. The bonus of an employee is 100% of their salary if the ID of the employee is an odd number and the employee's name does not start with the character 'M'. The bonus of an employee is 0 otherwise.  \n",
    "\n",
    "Return the result table ordered by employee_id.  \n",
    "\n",
    "The result format is in the following example.  \n",
    "\n",
    "範例:  \n",
    "Ex1:  \n",
    "Input:   \n",
    "Employees table:  \n",
    "```\n",
    "+-------------+---------+--------+\n",
    "| employee_id | name    | salary |\n",
    "+-------------+---------+--------+\n",
    "| 2           | Meir    | 3000   |\n",
    "| 3           | Michael | 3800   |\n",
    "| 7           | Addilyn | 7400   |\n",
    "| 8           | Juan    | 6100   |\n",
    "| 9           | Kannon  | 7700   |\n",
    "+-------------+---------+--------+\n",
    "```\n",
    "Output:  \n",
    "```\n",
    "+-------------+-------+\n",
    "| employee_id | bonus |\n",
    "+-------------+-------+\n",
    "| 2           | 0     |\n",
    "| 3           | 0     |\n",
    "| 7           | 7400  |\n",
    "| 8           | 0     |\n",
    "| 9           | 7700  |\n",
    "+-------------+-------+\n",
    "```\n",
    "Explanation:   \n",
    "The employees with IDs 2 and 8 get 0 bonus because they have an even employee_id.  \n",
    "The employee with ID 3 gets 0 bonus because their name starts with 'M'.  \n",
    "The rest of the employees get a 100% bonus.  "
   ]
  },
  {
   "cell_type": "markdown",
   "id": "50801ddf-a1a7-423c-a853-d6628419504d",
   "metadata": {},
   "source": [
    "* 解題想法:  \n",
    "首先建立一個function，用來過濾不同的條件並回傳bonus的值，接著用apply的方式來判斷每個人的bonus，最後回傳修改好的DataFrame做為答案"
   ]
  },
  {
   "cell_type": "code",
   "execution_count": null,
   "id": "685507c8-9e27-4c2f-9d48-eae7e2a607e9",
   "metadata": {},
   "outputs": [],
   "source": [
    "import pandas as pd\n",
    "\n",
    "def calculate_special_bonus(employees: pd.DataFrame) -> pd.DataFrame:\n",
    "    def cal(x):\n",
    "        if x['employee_id'] % 2 == 0:\n",
    "            return 0\n",
    "        elif x['name'].startswith('M'):\n",
    "            return 0\n",
    "        else:\n",
    "            return x['salary']\n",
    "    employees['bonus'] = employees.apply(cal, axis = 1)\n",
    "    employees = employees.sort_values('employee_id')\n",
    "    emp = employees[['employee_id', 'bonus']]\n",
    "    return emp"
   ]
  }
 ],
 "metadata": {
  "kernelspec": {
   "display_name": "Python 3 (ipykernel)",
   "language": "python",
   "name": "python3"
  },
  "language_info": {
   "codemirror_mode": {
    "name": "ipython",
    "version": 3
   },
   "file_extension": ".py",
   "mimetype": "text/x-python",
   "name": "python",
   "nbconvert_exporter": "python",
   "pygments_lexer": "ipython3",
   "version": "3.9.13"
  }
 },
 "nbformat": 4,
 "nbformat_minor": 5
}
