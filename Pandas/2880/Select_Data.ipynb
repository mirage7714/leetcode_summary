{
 "cells": [
  {
   "cell_type": "markdown",
   "id": "539596df-0c5b-4b4f-a77a-a5db0772fced",
   "metadata": {},
   "source": [
    "# 本題要找出指定的ID後篩選出特定的欄位 (\\#Pandas )\n",
    "原題目連結：https://leetcode.com/problems/select-data/description/  \n",
    "\n",
    "DataFrame students  \n",
    "```\n",
    "+-------------+--------+\n",
    "| Column Name | Type   |\n",
    "+-------------+--------+\n",
    "| student_id  | int    |\n",
    "| name        | object |\n",
    "| age         | int    |\n",
    "+-------------+--------+\n",
    "```\n",
    "Write a solution to select the name and age of the student with student_id = 101.  \n",
    "The result format is in the following example.  \n",
    "\n",
    "範例：  \n",
    "Ex1:  \n",
    "Input:  \n",
    "```\n",
    "+------------+---------+-----+\n",
    "| student_id | name    | age |\n",
    "+------------+---------+-----+\n",
    "| 101        | Ulysses | 13  |\n",
    "| 53         | William | 10  |\n",
    "| 128        | Henry   | 6   |\n",
    "| 3          | Henry   | 11  |\n",
    "+------------+---------+-----+\n",
    "```\n",
    "Output:  \n",
    "```\n",
    "+---------+-----+\n",
    "| name    | age | \n",
    "+---------+-----+\n",
    "| Ulysses | 13  |\n",
    "+---------+-----+\n",
    "```\n",
    "Explanation:  \n",
    "Student Ulysses has student_id = 101, we select the name and age."
   ]
  },
  {
   "cell_type": "markdown",
   "id": "7dfe5a59-d050-49ac-b19f-2b6cb81e8b76",
   "metadata": {},
   "source": [
    "* 解題想法：  \n",
    "首先用query找出指定的資料之後，再篩選出指定的欄位回傳就是答案"
   ]
  },
  {
   "cell_type": "code",
   "execution_count": null,
   "id": "d52b5587-cd5b-431e-a443-4cb64b35b8b0",
   "metadata": {},
   "outputs": [],
   "source": [
    "import pandas as pd\n",
    "\n",
    "def selectData(students: pd.DataFrame) -> pd.DataFrame:\n",
    "    data = students.query('student_id == 101')\n",
    "    return data[['name','age']]"
   ]
  }
 ],
 "metadata": {
  "kernelspec": {
   "display_name": "Python 3 (ipykernel)",
   "language": "python",
   "name": "python3"
  },
  "language_info": {
   "codemirror_mode": {
    "name": "ipython",
    "version": 3
   },
   "file_extension": ".py",
   "mimetype": "text/x-python",
   "name": "python",
   "nbconvert_exporter": "python",
   "pygments_lexer": "ipython3",
   "version": "3.10.9"
  }
 },
 "nbformat": 4,
 "nbformat_minor": 5
}
