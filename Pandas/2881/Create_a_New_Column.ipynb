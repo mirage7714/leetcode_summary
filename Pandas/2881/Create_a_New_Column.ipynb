{
 "cells": [
  {
   "cell_type": "markdown",
   "id": "a52c849d-d512-4a38-94d2-6c40553cce2a",
   "metadata": {},
   "source": [
    "# 本題要新增一列資料到DataFrame中 (\\#Pandas )\n",
    "原題目連結：https://leetcode.com/problems/create-a-new-column/description/  \n",
    "\n",
    "DataFrame employees  \n",
    "```\n",
    "+-------------+--------+\n",
    "| Column Name | Type.  |\n",
    "+-------------+--------+\n",
    "| name        | object |\n",
    "| salary      | int.   |\n",
    "+-------------+--------+\n",
    "```\n",
    "A company plans to provide its employees with a bonus.  \n",
    "Write a solution to create a new column name bonus that contains the doubled values of the salary column.  \n",
    "The result format is in the following example.  \n",
    "\n",
    "範例：  \n",
    "Ex1:  \n",
    "Input:  \n",
    "DataFrame employees  \n",
    "```\n",
    "+---------+--------+\n",
    "| name    | salary |\n",
    "+---------+--------+\n",
    "| Piper   | 4548   |\n",
    "| Grace   | 28150  |\n",
    "| Georgia | 1103   |\n",
    "| Willow  | 6593   |\n",
    "| Finn    | 74576  |\n",
    "| Thomas  | 24433  |\n",
    "+---------+--------+\n",
    "```\n",
    "Output:  \n",
    "```\n",
    "+---------+--------+--------+\n",
    "| name    | salary | bonus  |\n",
    "+---------+--------+--------+\n",
    "| Piper   | 4548   | 9096   |\n",
    "| Grace   | 28150  | 56300  |\n",
    "| Georgia | 1103   | 2206   |\n",
    "| Willow  |  593   | 13186  |\n",
    "| Finn    | 74576  | 149152 |\n",
    "| Thomas  | 24433  | 48866  |\n",
    "+---------+--------+--------+\n",
    "```\n",
    "Explanation:   \n",
    "A new column bonus is created by doubling the value in the column salary."
   ]
  },
  {
   "cell_type": "markdown",
   "id": "1ec17184-27e1-4158-b7fe-63d81378f871",
   "metadata": {},
   "source": [
    "* 解題想法：  \n",
    "依題目規則，bonus為salary欄位乘2，將新欄位的規則加上後就是答案"
   ]
  },
  {
   "cell_type": "code",
   "execution_count": null,
   "id": "a91a8104-04be-40b4-9990-cd98c53f3871",
   "metadata": {},
   "outputs": [],
   "source": [
    "import pandas as pd\n",
    "\n",
    "def createBonusColumn(employees: pd.DataFrame) -> pd.DataFrame:\n",
    "    employees['bonus'] = employees[['salary']] * 2\n",
    "    return employees"
   ]
  }
 ],
 "metadata": {
  "kernelspec": {
   "display_name": "Python 3 (ipykernel)",
   "language": "python",
   "name": "python3"
  },
  "language_info": {
   "codemirror_mode": {
    "name": "ipython",
    "version": 3
   },
   "file_extension": ".py",
   "mimetype": "text/x-python",
   "name": "python",
   "nbconvert_exporter": "python",
   "pygments_lexer": "ipython3",
   "version": "3.10.9"
  }
 },
 "nbformat": 4,
 "nbformat_minor": 5
}
