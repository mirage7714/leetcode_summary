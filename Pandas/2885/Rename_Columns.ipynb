{
 "cells": [
  {
   "cell_type": "markdown",
   "id": "5ed35a2d-e87a-4638-a8db-1e62657ca779",
   "metadata": {},
   "source": [
    "# 本題要將columns重新命名 (\\#Pandas )\n",
    "原題目連結: https://leetcode.com/problems/rename-columns/description/  \n",
    "\n",
    "DataFrame students  \n",
    "```\n",
    "+-------------+--------+\n",
    "| Column Name | Type   |\n",
    "+-------------+--------+\n",
    "| id          | int    |\n",
    "| first       | object |\n",
    "| last        | object |\n",
    "| age         | int    |\n",
    "+-------------+--------+\n",
    "```\n",
    "Write a solution to rename the columns as follows:  \n",
    "id to student_id  \n",
    "first to first_name  \n",
    "last to last_name  \n",
    "age to age_in_years  \n",
    "The result format is in the following example.  \n",
    "\n",
    "範例:  \n",
    "Ex1:  \n",
    "Input:  \n",
    "```\n",
    "+----+---------+----------+-----+\n",
    "| id | first   | last     | age |\n",
    "+----+---------+----------+-----+\n",
    "| 1  | Mason   | King     | 6   |\n",
    "| 2  | Ava     | Wright   | 7   |\n",
    "| 3  | Taylor  | Hall     | 16  |\n",
    "| 4  | Georgia | Thompson | 18  |\n",
    "| 5  | Thomas  | Moore    | 10  |\n",
    "+----+---------+----------+-----+\n",
    "```\n",
    "Output:  \n",
    "```\n",
    "+------------+------------+-----------+--------------+\n",
    "| student_id | first_name | last_name | age_in_years |\n",
    "+------------+------------+-----------+--------------+\n",
    "| 1          | Mason      | King      | 6            |\n",
    "| 2          | Ava        | Wright    | 7            |\n",
    "| 3          | Taylor     | Hall      | 16           |\n",
    "| 4          | Georgia    | Thompson  | 18           |\n",
    "| 5          | Thomas     | Moore     | 10           |\n",
    "+------------+------------+-----------+--------------+\n",
    "```\n",
    "Explanation:   \n",
    "The column names are changed accordingly."
   ]
  },
  {
   "cell_type": "markdown",
   "id": "d42d317b-f999-4c29-b742-27f125bdb2d7",
   "metadata": {},
   "source": [
    "* 解題想法:  \n",
    "用rename的函數，將對應的新column name用dict的方式帶入，就可以完成rename"
   ]
  },
  {
   "cell_type": "code",
   "execution_count": null,
   "id": "d5e4d535-8b5a-4e92-b28d-120c0b0ce3f5",
   "metadata": {},
   "outputs": [],
   "source": [
    "import pandas as pd\n",
    "\n",
    "def renameColumns(students: pd.DataFrame) -> pd.DataFrame:\n",
    "    students.rename(columns = {'id':'student_id','first':'first_name','last':'last_name','age':'age_in_years'}, inplace = True)\n",
    "    return students"
   ]
  }
 ],
 "metadata": {
  "kernelspec": {
   "display_name": "Python 3 (ipykernel)",
   "language": "python",
   "name": "python3"
  },
  "language_info": {
   "codemirror_mode": {
    "name": "ipython",
    "version": 3
   },
   "file_extension": ".py",
   "mimetype": "text/x-python",
   "name": "python",
   "nbconvert_exporter": "python",
   "pygments_lexer": "ipython3",
   "version": "3.9.13"
  }
 },
 "nbformat": 4,
 "nbformat_minor": 5
}
