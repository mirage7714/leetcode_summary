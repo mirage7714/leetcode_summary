{
 "cells": [
  {
   "cell_type": "markdown",
   "metadata": {},
   "source": [
    "# 本題要將產品列表重新進行整理 (\\#Pandas)\n",
    "原題目連結: https://leetcode.com/problems/rearrange-products-table/description/?envType=study-plan-v2&envId=30-days-of-pandas&lang=pythondata  \n",
    "\n",
    "Table: Products  \n",
    "```\n",
    "+-------------+---------+\n",
    "| Column Name | Type    |\n",
    "+-------------+---------+\n",
    "| product_id  | int     |\n",
    "| store1      | int     |\n",
    "| store2      | int     |\n",
    "| store3      | int     |\n",
    "+-------------+---------+\n",
    "```\n",
    "product_id is the primary key (column with unique values) for this table.  \n",
    "Each row in this table indicates the product's price in 3 different stores: store1, store2, and store3.  \n",
    "If the product is not available in a store, the price will be null in that store's column.  \n",
    "\n",
    "Write a solution to rearrange the Products table so that each row has (product_id, store, price). If a product is not available in a store, do not include a row with that product_id and store combination in the result table.  \n",
    "Return the result table in any order.    \n",
    "\n",
    "The result format is in the following example.  \n",
    "\n",
    "範例:  \n",
    "Ex1:  \n",
    "Input:   \n",
    "Products table:  \n",
    "```\n",
    "+------------+--------+--------+--------+\n",
    "| product_id | store1 | store2 | store3 |\n",
    "+------------+--------+--------+--------+\n",
    "| 0          | 95     | 100    | 105    |\n",
    "| 1          | 70     | null   | 80     |\n",
    "+------------+--------+--------+--------+\n",
    "```\n",
    "Output:  \n",
    "```\n",
    "+------------+--------+-------+\n",
    "| product_id | store  | price |\n",
    "+------------+--------+-------+\n",
    "| 0          | store1 | 95    |\n",
    "| 0          | store2 | 100   |\n",
    "| 0          | store3 | 105   |\n",
    "| 1          | store1 | 70    |\n",
    "| 1          | store3 | 80    |\n",
    "+------------+--------+-------+\n",
    "```\n",
    "Explanation:   \n",
    "Product 0 is available in all three stores with prices 95, 100, and 105 respectively.  \n",
    "Product 1 is available in store1 with price 70 and store3 with price 80. The product is not available in store2.  "
   ]
  },
  {
   "cell_type": "markdown",
   "metadata": {},
   "source": [
    "* 解題想法:  \n",
    "首先取出每一列的資料，並將id以及三個店鋪的資料放入dict中，最後將dict轉換為DataFrame並過濾掉NA值後回傳"
   ]
  },
  {
   "cell_type": "code",
   "execution_count": null,
   "metadata": {},
   "outputs": [],
   "source": [
    "import pandas as pd\n",
    "\n",
    "def rearrange_products_table(products: pd.DataFrame) -> pd.DataFrame:\n",
    "    res = {'product_id':[],'store':[],'price':[]}\n",
    "    for i in range(len(products)):\n",
    "        p = products.iloc[i]\n",
    "        d = p['product_id']\n",
    "        store = ['store1','store2','store3']\n",
    "        for s in store:\n",
    "            print(p[s])\n",
    "            res['product_id'].append(d)\n",
    "            res['store'].append(s)\n",
    "            res['price'].append(p[s])\n",
    "    return pd.DataFrame(res).dropna()\n"
   ]
  }
 ],
 "metadata": {
  "kernelspec": {
   "display_name": "Python 3",
   "language": "python",
   "name": "python3"
  },
  "language_info": {
   "codemirror_mode": {
    "name": "ipython",
    "version": 3
   },
   "file_extension": ".py",
   "mimetype": "text/x-python",
   "name": "python",
   "nbconvert_exporter": "python",
   "pygments_lexer": "ipython3",
   "version": "3.7.6"
  }
 },
 "nbformat": 4,
 "nbformat_minor": 4
}
