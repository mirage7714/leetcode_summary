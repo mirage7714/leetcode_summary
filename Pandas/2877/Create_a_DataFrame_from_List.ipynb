{
 "cells": [
  {
   "cell_type": "markdown",
   "id": "9d8ea032-b570-4c54-ab7a-2873fb318209",
   "metadata": {},
   "source": [
    "# 本題要將list轉成DataFrame (\\#Pandas )\n",
    "原題目連結:https://leetcode.com/problems/create-a-dataframe-from-list/  \n",
    "\n",
    "Write a solution to create a DataFrame from a 2D list called student_data. This 2D list contains the IDs and ages of some students.  \n",
    "The DataFrame should have two columns, student_id and age, and be in the same order as the original 2D list.  \n",
    "The result format is in the following example.  \n",
    "\n",
    "範例:  \n",
    "Ex1:  \n",
    "Input:  \n",
    "student_data:  \n",
    "[  \n",
    "  [1, 15],  \n",
    "  [2, 11],  \n",
    "  [3, 11],  \n",
    "  [4, 20]  \n",
    "]  \n",
    "Output:  \n",
    "```\n",
    "+------------+-----+\n",
    "| student_id | age |\n",
    "+------------+-----+\n",
    "| 1          | 15  |\n",
    "| 2          | 11  |\n",
    "| 3          | 11  |\n",
    "| 4          | 20  |\n",
    "+------------+-----+\n",
    "```\n",
    "Explanation:  \n",
    "A DataFrame was created on top of student_data, with two columns named student_id and age."
   ]
  },
  {
   "cell_type": "markdown",
   "id": "fa98e141-727d-4c56-a0a8-ac1abcee3cb6",
   "metadata": {},
   "source": [
    "* 解題想法：  \n",
    "首先建立一個list用來存放header的部分，接著將list轉換成DataFrame，並將header加入就是答案"
   ]
  },
  {
   "cell_type": "code",
   "execution_count": null,
   "id": "21d8d925-6830-414d-833f-343492a6fe8b",
   "metadata": {},
   "outputs": [],
   "source": [
    "import pandas as pd\n",
    "\n",
    "def createDataframe(student_data: List[List[int]]) -> pd.DataFrame:\n",
    "    header = ['student_id','age']\n",
    "    return pd.DataFrame(student_data, columns = header)"
   ]
  }
 ],
 "metadata": {
  "kernelspec": {
   "display_name": "Python 3 (ipykernel)",
   "language": "python",
   "name": "python3"
  },
  "language_info": {
   "codemirror_mode": {
    "name": "ipython",
    "version": 3
   },
   "file_extension": ".py",
   "mimetype": "text/x-python",
   "name": "python",
   "nbconvert_exporter": "python",
   "pygments_lexer": "ipython3",
   "version": "3.10.9"
  }
 },
 "nbformat": 4,
 "nbformat_minor": 5
}
