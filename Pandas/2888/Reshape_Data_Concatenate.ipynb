{
 "cells": [
  {
   "cell_type": "markdown",
   "id": "24c1830d-532a-4bf6-ba8a-f32ef0b2ebb0",
   "metadata": {},
   "source": [
    "# 本題要將兩個dataframe進行結合 (\\#Pandas )\n",
    "原題目連結: https://leetcode.com/problems/reshape-data-concatenate/description/  \n",
    "\n",
    "DataFrame df1  \n",
    "```\n",
    "+-------------+--------+\n",
    "| Column Name | Type   |\n",
    "+-------------+--------+\n",
    "| student_id  | int    |\n",
    "| name        | object |\n",
    "| age         | int    |\n",
    "+-------------+--------+\n",
    "```\n",
    "DataFrame df2  \n",
    "```\n",
    "+-------------+--------+\n",
    "| Column Name | Type   |\n",
    "+-------------+--------+\n",
    "| student_id  | int    |\n",
    "| name        | object |\n",
    "| age         | int    |\n",
    "+-------------+--------+\n",
    "```\n",
    "Write a solution to concatenate these two DataFrames vertically into one DataFrame.  \n",
    "The result format is in the following example.  \n",
    "\n",
    "範例:  \n",
    "Input:  \n",
    "df1  \n",
    "```\n",
    "+------------+---------+-----+\n",
    "| student_id | name    | age |\n",
    "+------------+---------+-----+\n",
    "| 1          | Mason   | 8   |\n",
    "| 2          | Ava     | 6   |\n",
    "| 3          | Taylor  | 15  |\n",
    "| 4          | Georgia | 17  |\n",
    "+------------+---------+-----+\n",
    "```\n",
    "df2  \n",
    "```\n",
    "+------------+------+-----+\n",
    "| student_id | name | age |\n",
    "+------------+------+-----+\n",
    "| 5          | Leo  | 7   |\n",
    "| 6          | Alex | 7   |\n",
    "+------------+------+-----+\n",
    "```\n",
    "Output:  \n",
    "```\n",
    "+------------+---------+-----+\n",
    "| student_id | name    | age |\n",
    "+------------+---------+-----+\n",
    "| 1          | Mason   | 8   |\n",
    "| 2          | Ava     | 6   |\n",
    "| 3          | Taylor  | 15  |\n",
    "| 4          | Georgia | 17  |\n",
    "| 5          | Leo     | 7   |\n",
    "| 6          | Alex    | 7   |\n",
    "+------------+---------+-----+\n",
    "```\n",
    "Explanation:  \n",
    "The two DataFramess are stacked vertically, and their rows are combined."
   ]
  },
  {
   "cell_type": "markdown",
   "id": "f71c0bcb-2c4e-4253-81fb-df12aa8fc7ae",
   "metadata": {},
   "source": [
    "* 解題想法:  \n",
    "要將兩筆資料進行結合，需要用到pandas內建的concat函數，將兩個dataframe進行結合就是答案"
   ]
  },
  {
   "cell_type": "code",
   "execution_count": null,
   "id": "3db88995-1f7a-41c8-b480-6974db32d51e",
   "metadata": {},
   "outputs": [],
   "source": [
    "import pandas as pd\n",
    "\n",
    "def concatenateTables(df1: pd.DataFrame, df2: pd.DataFrame) -> pd.DataFrame:\n",
    "    res = pd.concat([df1, df2])\n",
    "    return res"
   ]
  }
 ],
 "metadata": {
  "kernelspec": {
   "display_name": "Python 3 (ipykernel)",
   "language": "python",
   "name": "python3"
  },
  "language_info": {
   "codemirror_mode": {
    "name": "ipython",
    "version": 3
   },
   "file_extension": ".py",
   "mimetype": "text/x-python",
   "name": "python",
   "nbconvert_exporter": "python",
   "pygments_lexer": "ipython3",
   "version": "3.11.4"
  }
 },
 "nbformat": 4,
 "nbformat_minor": 5
}
