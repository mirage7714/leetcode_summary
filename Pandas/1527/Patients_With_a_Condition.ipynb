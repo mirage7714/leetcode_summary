{
 "cells": [
  {
   "cell_type": "markdown",
   "id": "321f1f5e-007b-4a15-9b5c-6b6a6bb53a9d",
   "metadata": {},
   "source": [
    "# 本題要用Pandas找出符合糖尿病條件的人共有多少 (\\#Pandas)\n",
    "原題目連結: https://leetcode.com/problems/patients-with-a-condition/description/?envType=study-plan-v2&envId=30-days-of-pandas&lang=pythondata  \n",
    "\n",
    "Table: Patients  \n",
    "```\n",
    "+--------------+---------+\n",
    "| Column Name  | Type    |  \n",
    "+--------------+---------+  \n",
    "| patient_id   | int     |  \n",
    "| patient_name | varchar |  \n",
    "| conditions   | varchar |  \n",
    "+--------------+---------+  \n",
    "```\n",
    "In SQL, patient_id is the primary key for this table.  \n",
    "'conditions' contains 0 or more code separated by spaces.   \n",
    "This table contains information of the patients in the hospital.  \n",
    " \n",
    "Find the patient_id, patient_name and conditions of the patients who have Type I Diabetes. Type I Diabetes always starts with DIAB1 prefix.  \n",
    "Return the result table in any order.  \n",
    "\n",
    "The result format is in the following example.  \n",
    "\n",
    "範例:  \n",
    "Ex1:  \n",
    "Input:   \n",
    "Patients table:  \n",
    "```\n",
    "+------------+--------------+--------------+  \n",
    "| patient_id | patient_name | conditions   |  \n",
    "+------------+--------------+--------------+  \n",
    "| 1          | Daniel       | YFEV COUGH   |  \n",
    "| 2          | Alice        |              |  \n",
    "| 3          | Bob          | DIAB100 MYOP |  \n",
    "| 4          | George       | ACNE DIAB100 |  \n",
    "| 5          | Alain        | DIAB201      |  \n",
    "+------------+--------------+--------------+  \n",
    "```\n",
    "Output:   \n",
    "```\n",
    "+------------+--------------+--------------+  \n",
    "| patient_id | patient_name | conditions   |  \n",
    "+------------+--------------+--------------+  \n",
    "| 3          | Bob          | DIAB100 MYOP |  \n",
    "| 4          | George       | ACNE DIAB100 |   \n",
    "+------------+--------------+--------------+  \n",
    "```\n",
    "Explanation: Bob and George both have a condition that starts with DIAB1.  "
   ]
  },
  {
   "cell_type": "markdown",
   "id": "95c6c668-a630-44d8-9b79-e54d4ce5b84a",
   "metadata": {},
   "source": [
    "* 解題想法:  \n",
    "依題目要求，需要建立一個函數來過濾指定的條件，接著先建立一個欄位用來判斷是否符合條件，最後將符合條件的資料過濾出來後留下指定的欄位就是答案"
   ]
  },
  {
   "cell_type": "code",
   "execution_count": null,
   "id": "6aeddf62-b435-468f-a81f-9c3c909a4869",
   "metadata": {},
   "outputs": [],
   "source": [
    "import pandas as pd\n",
    "\n",
    "def find_patients(patients: pd.DataFrame) -> pd.DataFrame:\n",
    "    def check(x):\n",
    "        res = 0\n",
    "        for i in x.split(' '):\n",
    "            if i.startswith('DIAB1'):\n",
    "                res = 1\n",
    "        return res\n",
    "    \n",
    "    patients['valid'] = patients['conditions'].apply(check)\n",
    "    return patients.query('valid > 0')[['patient_id', 'patient_name','conditions']]"
   ]
  }
 ],
 "metadata": {
  "kernelspec": {
   "display_name": "Python 3 (ipykernel)",
   "language": "python",
   "name": "python3"
  },
  "language_info": {
   "codemirror_mode": {
    "name": "ipython",
    "version": 3
   },
   "file_extension": ".py",
   "mimetype": "text/x-python",
   "name": "python",
   "nbconvert_exporter": "python",
   "pygments_lexer": "ipython3",
   "version": "3.9.13"
  }
 },
 "nbformat": 4,
 "nbformat_minor": 5
}
