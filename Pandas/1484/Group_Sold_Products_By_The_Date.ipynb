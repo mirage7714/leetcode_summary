{
 "cells": [
  {
   "cell_type": "markdown",
   "metadata": {},
   "source": [
    "# 本題要將產品用賣出的日期進行統計 (\\#Pandas)\n",
    "原題目連結: https://leetcode.com/problems/group-sold-products-by-the-date/description/?envType=study-plan-v2&envId=30-days-of-pandas&lang=pythondata  \n",
    "\n",
    "Table Activities:  \n",
    "```\n",
    "+-------------+---------+\n",
    "| Column Name | Type    |\n",
    "+-------------+---------+\n",
    "| sell_date   | date    |\n",
    "| product     | varchar |\n",
    "+-------------+---------+\n",
    "```\n",
    "There is no primary key (column with unique values) for this table. It may contain duplicates.  \n",
    "Each row of this table contains the product name and the date it was sold in a market.  \n",
    "\n",
    "Write a solution to find for each date the number of different products sold and their names.  \n",
    "The sold products names for each date should be sorted lexicographically.   \n",
    "\n",
    "Return the result table ordered by sell_date.  \n",
    "The result format is in the following example.  \n",
    "\n",
    "範例:  \n",
    "Ex1:  \n",
    "Input:   \n",
    "Activities table:  \n",
    "```\n",
    "+------------+------------+\n",
    "| sell_date  | product     |\n",
    "+------------+------------+\n",
    "| 2020-05-30 | Headphone  |\n",
    "| 2020-06-01 | Pencil     |\n",
    "| 2020-06-02 | Mask       |\n",
    "| 2020-05-30 | Basketball |\n",
    "| 2020-06-01 | Bible      |\n",
    "| 2020-06-02 | Mask       |\n",
    "| 2020-05-30 | T-Shirt    |\n",
    "+------------+------------+\n",
    "```\n",
    "Output:  \n",
    "```\n",
    "+------------+----------+------------------------------+\n",
    "| sell_date  | num_sold | products                     |\n",
    "+------------+----------+------------------------------+\n",
    "| 2020-05-30 | 3        | Basketball,Headphone,T-shirt |\n",
    "| 2020-06-01 | 2        | Bible,Pencil                 |\n",
    "| 2020-06-02 | 1        | Mask                         |\n",
    "+------------+----------+------------------------------+\n",
    "```\n",
    "Explanation:   \n",
    "For 2020-05-30, Sold items were (Headphone, Basketball, T-shirt), we sort them lexicographically and separate them by a comma.  \n",
    "For 2020-06-01, Sold items were (Pencil, Bible), we sort them lexicographically and separate them by a comma.  \n",
    "For 2020-06-02, the Sold item is (Mask), we just return it."
   ]
  },
  {
   "cell_type": "markdown",
   "metadata": {},
   "source": [
    "* 解題想法:  \n",
    "首先找出日期並去除重複後排序，接著用日期進行取值，並將日期、資料筆數、還有賣出的品項整理後放入dict，最後將dict轉為DataFrame作為答案"
   ]
  },
  {
   "cell_type": "code",
   "execution_count": null,
   "metadata": {},
   "outputs": [],
   "source": [
    "import pandas as pd\n",
    "\n",
    "def categorize_products(activities: pd.DataFrame) -> pd.DataFrame:\n",
    "    activities = activities.drop_duplicates()\n",
    "    date = activities['sell_date'].drop_duplicates().sort_values()\n",
    "    res = {'sell_date':[], 'num_sold':[], 'products':[]}\n",
    "    for d in date:\n",
    "        sell = activities.query('sell_date == \"{}\"'.format(d))\n",
    "        res['sell_date'].append(d)\n",
    "        res['num_sold'].append(len(sell))\n",
    "        item = []\n",
    "        for s in range(len(sell)):\n",
    "            item.append(sell.iloc[s]['product'])\n",
    "        item.sort()\n",
    "        res['products'].append(','.join(item))\n",
    "    return pd.DataFrame(res)"
   ]
  }
 ],
 "metadata": {
  "kernelspec": {
   "display_name": "Python 3",
   "language": "python",
   "name": "python3"
  },
  "language_info": {
   "codemirror_mode": {
    "name": "ipython",
    "version": 3
   },
   "file_extension": ".py",
   "mimetype": "text/x-python",
   "name": "python",
   "nbconvert_exporter": "python",
   "pygments_lexer": "ipython3",
   "version": "3.7.6"
  }
 },
 "nbformat": 4,
 "nbformat_minor": 4
}
