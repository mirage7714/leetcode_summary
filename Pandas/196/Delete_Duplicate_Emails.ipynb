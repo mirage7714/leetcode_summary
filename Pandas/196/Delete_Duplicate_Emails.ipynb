{
 "cells": [
  {
   "cell_type": "markdown",
   "id": "c9cfaaf5-dca3-4644-855d-09c0e81f11ed",
   "metadata": {},
   "source": [
    "# 本題要刪除重複的email，並且要直接修改DataFrame( \\#Pandas)\n",
    "原題目連結: https://leetcode.com/problems/delete-duplicate-emails/?envType=study-plan-v2&envId=30-days-of-pandas&lang=pythondata   \n",
    "\n",
    "Table: Person  \n",
    "```\n",
    "+-------------+---------+\n",
    "| Column Name | Type    |\n",
    "+-------------+---------+\n",
    "| id          | int     |\n",
    "| email       | varchar |\n",
    "+-------------+---------+\n",
    "```\n",
    "id is the primary key (column with unique values) for this table.  \n",
    "Each row of this table contains an email. The emails will not contain uppercase letters.  \n",
    "\n",
    "Write a solution to delete all duplicate emails, keeping only one unique email with the smallest id.  \n",
    "For SQL users, please note that you are supposed to write a DELETE statement and not a SELECT one.  \n",
    "\n",
    "For Pandas users, please note that you are supposed to modify Person in place.  \n",
    "\n",
    "After running your script, the answer shown is the Person table. The driver will first compile and run your piece of code and then show the Person table. The final order of the Person table does not matter.  \n",
    "\n",
    "The result format is in the following example.  \n",
    "\n",
    "範例:  \n",
    "Ex1:  \n",
    "Input:   \n",
    "Person table:  \n",
    "```\n",
    "+----+------------------+\n",
    "| id | email            |\n",
    "+----+------------------+\n",
    "| 1  | john@example.com |\n",
    "| 2  | bob@example.com  |\n",
    "| 3  | john@example.com |\n",
    "+----+------------------+\n",
    "```\n",
    "Output:  \n",
    "```\n",
    "+----+------------------+\n",
    "| id | email            |\n",
    "+----+------------------+\n",
    "| 1  | john@example.com |\n",
    "| 2  | bob@example.com  |\n",
    "+----+------------------+\n",
    "```\n",
    "Explanation: john@example.com is repeated two times. We keep the row with the smallest Id = 1."
   ]
  },
  {
   "cell_type": "markdown",
   "id": "0a942416-0089-479a-91e3-252ad6a1e118",
   "metadata": {},
   "source": [
    "* 解題想法:  \n",
    "首先找出所有unique的email，接著從頭開始檢查每個email出現的次數，如果超過一次則只留下第一筆，其他的資料都刪除"
   ]
  },
  {
   "cell_type": "code",
   "execution_count": null,
   "id": "099879e1-6617-4af2-a759-a241eea2c546",
   "metadata": {},
   "outputs": [],
   "source": [
    "import pandas as pd\n",
    "\n",
    "# Modify Person in place\n",
    "def delete_duplicate_emails(person: pd.DataFrame) -> None:\n",
    "    uni = person['email'].drop_duplicates()\n",
    "    for u in uni:\n",
    "        s = person.query('email == \"{}\"'.format(u)).sort_values('id')\n",
    "        if len(s) > 1:\n",
    "            i = s.iloc[0]['id'].item()\n",
    "            person.drop(person.query(f'email == \"{u}\" & id != {i}').index, inplace = True)"
   ]
  }
 ],
 "metadata": {
  "kernelspec": {
   "display_name": "Python 3 (ipykernel)",
   "language": "python",
   "name": "python3"
  },
  "language_info": {
   "codemirror_mode": {
    "name": "ipython",
    "version": 3
   },
   "file_extension": ".py",
   "mimetype": "text/x-python",
   "name": "python",
   "nbconvert_exporter": "python",
   "pygments_lexer": "ipython3",
   "version": "3.9.13"
  }
 },
 "nbformat": 4,
 "nbformat_minor": 5
}
