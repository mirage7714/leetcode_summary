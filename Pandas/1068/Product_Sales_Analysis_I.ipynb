{
 "cells": [
  {
   "cell_type": "markdown",
   "id": "c9603f89-a923-45e5-a239-490793db7f07",
   "metadata": {},
   "source": [
    "# 本題要找出銷售與產品的對應表 (\\#Pandas)\n",
    "原題目連結: https://leetcode.com/problems/product-sales-analysis-i/description/?lang=pythondata  \n",
    "\n",
    "Table: Sales  \n",
    "```\n",
    "+-------------+-------+\n",
    "| Column Name | Type  |\n",
    "+-------------+-------+\n",
    "| sale_id     | int   |\n",
    "| product_id  | int   |\n",
    "| year        | int   |\n",
    "| quantity    | int   |\n",
    "| price       | int   |\n",
    "+-------------+-------+\n",
    "```\n",
    "(sale_id, year) is the primary key (combination of columns with unique values) of this table.  \n",
    "product_id is a foreign key (reference column) to Product table.  \n",
    "Each row of this table shows a sale on the product product_id in a certain year.  \n",
    "Note that the price is per unit.  \n",
    "\n",
    "Table: Product  \n",
    "```\n",
    "+--------------+---------+\n",
    "| Column Name  | Type    |\n",
    "+--------------+---------+\n",
    "| product_id   | int     |\n",
    "| product_name | varchar |\n",
    "+--------------+---------+\n",
    "```\n",
    "product_id is the primary key (column with unique values) of this table.  \n",
    "Each row of this table indicates the product name of each product.  \n",
    "\n",
    "Write a solution to report the product_name, year, and price for each sale_id in the Sales table.  \n",
    "\n",
    "Return the resulting table in any order.  \n",
    "The result format is in the following example.  \n",
    "\n",
    "範例:  \n",
    "Ex1:  \n",
    "Input:   \n",
    "Sales table:  \n",
    "```\n",
    "+---------+------------+------+----------+-------+\n",
    "| sale_id | product_id | year | quantity | price |\n",
    "+---------+------------+------+----------+-------+ \n",
    "| 1       | 100        | 2008 | 10       | 5000  |\n",
    "| 2       | 100        | 2009 | 12       | 5000  |\n",
    "| 7       | 200        | 2011 | 15       | 9000  |\n",
    "+---------+------------+------+----------+-------+\n",
    "```\n",
    "Product table:  \n",
    "```\n",
    "+------------+--------------+\n",
    "| product_id | product_name |\n",
    "+------------+--------------+\n",
    "| 100        | Nokia        |\n",
    "| 200        | Apple        |\n",
    "| 300        | Samsung      |\n",
    "+------------+--------------+\n",
    "```\n",
    "Output:  \n",
    "```\n",
    "+--------------+-------+-------+\n",
    "| product_name | year  | price |\n",
    "+--------------+-------+-------+\n",
    "| Nokia        | 2008  | 5000  |\n",
    "| Nokia        | 2009  | 5000  |\n",
    "| Apple        | 2011  | 9000  |\n",
    "+--------------+-------+-------+\n",
    "```\n",
    "Explanation:   \n",
    "From sale_id = 1, we can conclude that Nokia was sold for 5000 in the year 2008.  \n",
    "From sale_id = 2, we can conclude that Nokia was sold for 5000 in the year 2009.  \n",
    "From sale_id = 7, we can conclude that Apple was sold for 9000 in the year 2011.  "
   ]
  },
  {
   "cell_type": "markdown",
   "id": "07b8455f-567c-4050-bb07-36d7afcd6e59",
   "metadata": {},
   "source": [
    "* 解題想法:  \n",
    "要找出產品與銷售的對應，需要將兩個DataFrame進行join後取出題目要求的欄位就是答案"
   ]
  },
  {
   "cell_type": "code",
   "execution_count": null,
   "id": "2e0fd450-8a8f-4e00-a29a-63d17dbccce5",
   "metadata": {},
   "outputs": [],
   "source": [
    "import pandas as pd\n",
    "\n",
    "def sales_analysis(sales: pd.DataFrame, product: pd.DataFrame) -> pd.DataFrame:\n",
    "    p = pd.merge(sales, product, on ='product_id', how = 'left')\n",
    "    return p[['product_name', 'year', 'price']]"
   ]
  }
 ],
 "metadata": {
  "kernelspec": {
   "display_name": "Python 3 (ipykernel)",
   "language": "python",
   "name": "python3"
  },
  "language_info": {
   "codemirror_mode": {
    "name": "ipython",
    "version": 3
   },
   "file_extension": ".py",
   "mimetype": "text/x-python",
   "name": "python",
   "nbconvert_exporter": "python",
   "pygments_lexer": "ipython3",
   "version": "3.9.13"
  }
 },
 "nbformat": 4,
 "nbformat_minor": 5
}
