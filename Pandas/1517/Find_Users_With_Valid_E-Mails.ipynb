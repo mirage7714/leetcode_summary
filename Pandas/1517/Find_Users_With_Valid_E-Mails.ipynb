{
 "cells": [
  {
   "cell_type": "markdown",
   "metadata": {},
   "source": [
    "# 本題要找出符合email格式的資料有多少 (\\#Pandas)\n",
    "原題目連結: https://leetcode.com/problems/find-users-with-valid-e-mails/description/?envType=study-plan-v2&envId=30-days-of-pandas&lang=pythondata  \n",
    "\n",
    "Table: Users  \n",
    "```\n",
    "+---------------+---------+\n",
    "| Column Name   | Type    |\n",
    "+---------------+---------+\n",
    "| user_id       | int     |\n",
    "| name          | varchar |\n",
    "| mail          | varchar |\n",
    "+---------------+---------+\n",
    "```\n",
    "user_id is the primary key (column with unique values) for this table.  \n",
    "This table contains information of the users signed up in a website. Some e-mails are invalid.  \n",
    " \n",
    "Write a solution to find the users who have valid emails.  \n",
    "A valid e-mail has a prefix name and a domain where:  \n",
    "The prefix name is a string that may contain letters (upper or lower case), digits, underscore '_', period '.', and/or dash '-'. The prefix name must start with a letter.  \n",
    "The domain is '@leetcode.com'.  \n",
    "Return the result table in any order.  \n",
    "\n",
    "The result format is in the following example.  \n",
    "\n",
    "範例:  \n",
    "Ex1:  \n",
    "Input:   \n",
    "Users table:  \n",
    "```\n",
    "+---------+-----------+-------------------------+\n",
    "| user_id | name      | mail                    |\n",
    "+---------+-----------+-------------------------+\n",
    "| 1       | Winston   | winston@leetcode.com    |\n",
    "| 2       | Jonathan  | jonathanisgreat         |\n",
    "| 3       | Annabelle | bella-@leetcode.com     |\n",
    "| 4       | Sally     | sally.come@leetcode.com |\n",
    "| 5       | Marwan    | quarz#2020@leetcode.com |\n",
    "| 6       | David     | david69@gmail.com       |\n",
    "| 7       | Shapiro   | .shapo@leetcode.com     |\n",
    "+---------+-----------+-------------------------+\n",
    "```\n",
    "Output:  \n",
    "```\n",
    "+---------+-----------+-------------------------+\n",
    "| user_id | name      | mail                    |\n",
    "+---------+-----------+-------------------------+\n",
    "| 1       | Winston   | winston@leetcode.com    |\n",
    "| 3       | Annabelle | bella-@leetcode.com     |\n",
    "| 4       | Sally     | sally.come@leetcode.com |\n",
    "+---------+-----------+-------------------------+\n",
    "```\n",
    "Explanation:   \n",
    "The mail of user 2 does not have a domain.  \n",
    "The mail of user 5 has the # sign which is not allowed.  \n",
    "The mail of user 6 does not have the leetcode domain.  \n",
    "The mail of user 7 starts with a period."
   ]
  },
  {
   "cell_type": "markdown",
   "metadata": {},
   "source": [
    "* 解題想法:  \n",
    "首先建立一個函數用來檢查email，如果結尾不是@leetcode.com則回傳0，接著去掉字尾之後開始檢查開頭是否為字母，如果不是則回傳0，另外檢查中間是否有出現特殊符號，如果符號不符合要求則回傳0，最後如果都符合則回傳1，然後用query來過濾條件為1的資料，最後將這個欄位刪除就是答案"
   ]
  },
  {
   "cell_type": "code",
   "execution_count": null,
   "metadata": {},
   "outputs": [],
   "source": [
    "import pandas as pd\n",
    "\n",
    "def valid_emails(users: pd.DataFrame) -> pd.DataFrame:\n",
    "    def checkEmail(x):\n",
    "        if not x.endswith('@leetcode.com'):\n",
    "            return 0\n",
    "        else: \n",
    "            x = x.replace('@leetcode.com','')\n",
    "            is_valid = True\n",
    "            for i in x:\n",
    "                if i in string.punctuation and i not in ['-','_','.']:\n",
    "                    is_valid = False\n",
    "                    break\n",
    "            if not is_valid:\n",
    "                return 0\n",
    "            elif not x[0].isalpha():\n",
    "                return 0\n",
    "            else:\n",
    "                return 1\n",
    "    \n",
    "    users['valid'] = users['mail'].apply(checkEmail)\n",
    "    users = users.query('valid == 1').drop(columns = ['valid'])\n",
    "    return users"
   ]
  }
 ],
 "metadata": {
  "kernelspec": {
   "display_name": "Python 3",
   "language": "python",
   "name": "python3"
  },
  "language_info": {
   "codemirror_mode": {
    "name": "ipython",
    "version": 3
   },
   "file_extension": ".py",
   "mimetype": "text/x-python",
   "name": "python",
   "nbconvert_exporter": "python",
   "pygments_lexer": "ipython3",
   "version": "3.7.6"
  }
 },
 "nbformat": 4,
 "nbformat_minor": 4
}
