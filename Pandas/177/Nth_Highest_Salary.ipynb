{
 "cells": [
  {
   "cell_type": "markdown",
   "metadata": {},
   "source": [
    "# 本題要找出第N高的薪水為何 (\\#Pandas)\n",
    "原題目連結: https://leetcode.com/problems/nth-highest-salary/description/?envType=study-plan-v2&envId=30-days-of-pandas&lang=pythondata  \n",
    "\n",
    "Table: Employee  \n",
    "```\n",
    "+-------------+------+\n",
    "| Column Name | Type |\n",
    "+-------------+------+\n",
    "| id          | int  |\n",
    "| salary      | int  |\n",
    "+-------------+------+\n",
    "```\n",
    "id is the primary key (column with unique values) for this table.  \n",
    "Each row of this table contains information about the salary of an employee.  \n",
    "\n",
    "Write a solution to find the nth highest salary from the Employee table. If there is no nth highest salary, return null.  \n",
    "\n",
    "The result format is in the following example.  \n",
    "\n",
    "範例:  \n",
    "Ex1:  \n",
    "Input:   \n",
    "Employee table:  \n",
    "```\n",
    "+----+--------+\n",
    "| id | salary |\n",
    "+----+--------+\n",
    "| 1  | 100    |\n",
    "| 2  | 200    |\n",
    "| 3  | 300    |\n",
    "+----+--------+\n",
    "```\n",
    "n = 2  \n",
    "Output:  \n",
    "```\n",
    "+------------------------+\n",
    "| getNthHighestSalary(2) |\n",
    "+------------------------+\n",
    "| 200                    |\n",
    "+------------------------+\n",
    "```\n",
    "\n",
    "Ex2:  \n",
    "Input:   \n",
    "Employee table:  \n",
    "```\n",
    "+----+--------+\n",
    "| id | salary |\n",
    "+----+--------+\n",
    "| 1  | 100    |\n",
    "+----+--------+\n",
    "```\n",
    "n = 2  \n",
    "Output:  \n",
    "```\n",
    "+------------------------+\n",
    "| getNthHighestSalary(2) |\n",
    "+------------------------+\n",
    "| null                   |\n",
    "+------------------------+\n",
    "```"
   ]
  },
  {
   "cell_type": "markdown",
   "metadata": {},
   "source": [
    "* 解題想法:  \n",
    "與176題類似，首先針對salary進行排序後去掉重複的數值，接著檢查剩下的Dataframe長度是否有超過N，如果有的話則取出第N-1個值，否則回傳null，最後將重新組合的Dataframe回傳"
   ]
  },
  {
   "cell_type": "code",
   "execution_count": null,
   "metadata": {},
   "outputs": [],
   "source": [
    "import pandas as pd\n",
    "\n",
    "def nth_highest_salary(employee: pd.DataFrame, N: int) -> pd.DataFrame:\n",
    "    employee = employee.sort_values('salary', ascending = False)['salary'].drop_duplicates()\n",
    "    title = 'getNthHighestSalary({})'.format(N)\n",
    "    res = {}\n",
    "    if N <= len(employee):\n",
    "        res = {title:[employee.iloc[N-1]]}\n",
    "    else:\n",
    "        res = {title: [None]}\n",
    "    return pd.DataFrame(res)"
   ]
  }
 ],
 "metadata": {
  "kernelspec": {
   "display_name": "Python 3",
   "language": "python",
   "name": "python3"
  },
  "language_info": {
   "codemirror_mode": {
    "name": "ipython",
    "version": 3
   },
   "file_extension": ".py",
   "mimetype": "text/x-python",
   "name": "python",
   "nbconvert_exporter": "python",
   "pygments_lexer": "ipython3",
   "version": "3.7.6"
  }
 },
 "nbformat": 4,
 "nbformat_minor": 4
}
