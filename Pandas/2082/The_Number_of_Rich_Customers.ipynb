{
 "cells": [
  {
   "cell_type": "markdown",
   "metadata": {},
   "source": [
    "# 本題要找出訂單數量超過500以上的顧客共有多少 (\\#Pandas)\n",
    "原題目連結: https://leetcode.com/problems/the-number-of-rich-customers/description/?envType=study-plan-v2&envId=30-days-of-pandas&lang=pythondata  \n",
    "\n",
    "Table: Store  \n",
    "```\n",
    "+-------------+------+\n",
    "| Column Name | Type |\n",
    "+-------------+------+\n",
    "| bill_id     | int  |\n",
    "| customer_id | int  |\n",
    "| amount      | int  |\n",
    "+-------------+------+\n",
    "```\n",
    "bill_id is the primary key (column with unique values) for this table.  \n",
    "Each row contains information about the amount of one bill and the customer associated with it.  \n",
    "\n",
    "Write a solution to report the number of customers who had at least one bill with an amount strictly greater than 500.  \n",
    "The result format is in the following example.  \n",
    "\n",
    "範例:  \n",
    "Ex1:  \n",
    "Input:   \n",
    "Store table:  \n",
    "```\n",
    "+---------+-------------+--------+\n",
    "| bill_id | customer_id | amount |\n",
    "+---------+-------------+--------+\n",
    "| 6       | 1           | 549    |\n",
    "| 8       | 1           | 834    |\n",
    "| 4       | 2           | 394    |\n",
    "| 11      | 3           | 657    |\n",
    "| 13      | 3           | 257    |\n",
    "+---------+-------------+--------+\n",
    "```\n",
    "Output:   \n",
    "```\n",
    "+------------+\n",
    "| rich_count |\n",
    "+------------+\n",
    "| 2          |\n",
    "+------------+\n",
    "```\n",
    "Explanation:   \n",
    "Customer 1 has two bills with amounts strictly greater than 500.  \n",
    "Customer 2 does not have any bills with an amount strictly greater than 500.  \n",
    "Customer 3 has one bill with an amount strictly greater than 500."
   ]
  },
  {
   "cell_type": "markdown",
   "metadata": {},
   "source": [
    "* 解題想法:  \n",
    "首先找出有一筆訂單大於500以上的顧客，並統計出顧客的數量之後，用一個新的Dataframe來放統計數量後就是答案"
   ]
  },
  {
   "cell_type": "code",
   "execution_count": null,
   "metadata": {},
   "outputs": [],
   "source": [
    "import pandas as pd\n",
    "\n",
    "def count_rich_customers(store: pd.DataFrame) -> pd.DataFrame:\n",
    "    def rich(x):\n",
    "        if x > 500:\n",
    "            return 1\n",
    "        else:\n",
    "            return 0\n",
    "    \n",
    "    store['rich'] = store['amount'].apply(rich)\n",
    "    store = store.query('rich == 1')\n",
    "    res = {'rich_count': [store['customer_id'].nunique()]}\n",
    "    return pd.DataFrame(res)"
   ]
  }
 ],
 "metadata": {
  "kernelspec": {
   "display_name": "Python 3",
   "language": "python",
   "name": "python3"
  },
  "language_info": {
   "codemirror_mode": {
    "name": "ipython",
    "version": 3
   },
   "file_extension": ".py",
   "mimetype": "text/x-python",
   "name": "python",
   "nbconvert_exporter": "python",
   "pygments_lexer": "ipython3",
   "version": "3.7.6"
  }
 },
 "nbformat": 4,
 "nbformat_minor": 4
}
