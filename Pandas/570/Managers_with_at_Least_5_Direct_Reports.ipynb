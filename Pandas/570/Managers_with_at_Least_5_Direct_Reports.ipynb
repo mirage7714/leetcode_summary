{
 "cells": [
  {
   "cell_type": "markdown",
   "id": "2be42b76-cf81-4bbb-85f2-aa541bec241e",
   "metadata": {},
   "source": [
    "# 本題要找出有哪些人有五個以上的Reporter (\\#Pandas)\n",
    "原題目連結: https://leetcode.com/problems/managers-with-at-least-5-direct-reports/description/?envType=study-plan-v2&envId=30-days-of-pandas&lang=pythondata  \n",
    "\n",
    "Table: Employee  \n",
    "```\n",
    "+-------------+---------+\n",
    "| Column Name | Type    |\n",
    "+-------------+---------+\n",
    "| id          | int     |\n",
    "| name        | varchar |\n",
    "| department  | varchar |\n",
    "| managerId   | int     |\n",
    "+-------------+---------+\n",
    "```\n",
    "id is the primary key (column with unique values) for this table.  \n",
    "Each row of this table indicates the name of an employee, their department, and the id of their manager.  \n",
    "If managerId is null, then the employee does not have a manager.  \n",
    "No employee will be the manager of themself.  \n",
    "\n",
    "Write a solution to find managers with at least five direct reports.  \n",
    "\n",
    "Return the result table in any order.  \n",
    "\n",
    "The result format is in the following example.  \n",
    "\n",
    "範例:  \n",
    "Ex1:  \n",
    "Input:   \n",
    "Employee table:  \n",
    "```\n",
    "+-----+-------+------------+-----------+\n",
    "| id  | name  | department | managerId |\n",
    "+-----+-------+------------+-----------+\n",
    "| 101 | John  | A          | None      |\n",
    "| 102 | Dan   | A          | 101       |\n",
    "| 103 | James | A          | 101       |\n",
    "| 104 | Amy   | A          | 101       |\n",
    "| 105 | Anne  | A          | 101       |\n",
    "| 106 | Ron   | B          | 101       |\n",
    "+-----+-------+------------+-----------+\n",
    "```\n",
    "Output:  \n",
    "```\n",
    "+------+\n",
    "| name |\n",
    "+------+\n",
    "| John |\n",
    "+------+\n",
    "```"
   ]
  },
  {
   "cell_type": "markdown",
   "id": "451a373b-5056-4377-8da7-b2c69547097f",
   "metadata": {},
   "source": [
    "* 解題想法:  \n",
    "首先用groupby找出每個managerId有多少reporter，接著將reporter大於或等於5個的managerId找出後將name加入新的DataFrame後回傳就是答案"
   ]
  },
  {
   "cell_type": "code",
   "execution_count": null,
   "id": "7e60edac-8144-4537-bf35-56c1fb12f0c2",
   "metadata": {},
   "outputs": [],
   "source": [
    "import pandas as pd\n",
    "\n",
    "def find_managers(employee: pd.DataFrame) -> pd.DataFrame:\n",
    "    count = employee.groupby('managerId').size().to_dict()\n",
    "    employee['count'] = employee['managerId'].map(count)\n",
    "    count = employee.query('count >= 5')['managerId'].drop_duplicates()\n",
    "    res = pd.DataFrame({'name':[]})\n",
    "    if len(count) > 0:\n",
    "        for i in range(len(count)):\n",
    "            res = pd.concat([res, employee.query('id == {}'.format(count.iloc[i]))])\n",
    "        res = res['name'].to_frame()\n",
    "    return res"
   ]
  }
 ],
 "metadata": {
  "kernelspec": {
   "display_name": "Python 3 (ipykernel)",
   "language": "python",
   "name": "python3"
  },
  "language_info": {
   "codemirror_mode": {
    "name": "ipython",
    "version": 3
   },
   "file_extension": ".py",
   "mimetype": "text/x-python",
   "name": "python",
   "nbconvert_exporter": "python",
   "pygments_lexer": "ipython3",
   "version": "3.9.13"
  }
 },
 "nbformat": 4,
 "nbformat_minor": 5
}
