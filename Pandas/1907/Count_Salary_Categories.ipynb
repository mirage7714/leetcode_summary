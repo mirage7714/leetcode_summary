{
 "cells": [
  {
   "cell_type": "markdown",
   "metadata": {},
   "source": [
    "# 本題要找出三個薪水類別的資料各有幾筆 (\\#Pandas)\n",
    "原題目連結: https://leetcode.com/problems/count-salary-categories/description/?envType=study-plan-v2&envId=30-days-of-pandas&lang=pythondata  \n",
    "\n",
    "Table: Accounts  \n",
    "```\n",
    "+-------------+------+\n",
    "| Column Name | Type |\n",
    "+-------------+------+\n",
    "| account_id  | int  |\n",
    "| income      | int  |\n",
    "+-------------+------+\n",
    "```\n",
    "account_id is the primary key (column with unique values) for this table.  \n",
    "Each row contains information about the monthly income for one bank account.  \n",
    "\n",
    "Write a solution to calculate the number of bank accounts for each salary category. The salary categories are:  \n",
    "\n",
    "\"Low Salary\": All the salaries strictly less than $20000.  \n",
    "\"Average Salary\": All the salaries in the inclusive range [$20000, $50000].  \n",
    "\"High Salary\": All the salaries strictly greater than $50000.  \n",
    "The result table must contain all three categories. If there are no accounts in a category, return 0.  \n",
    "\n",
    "Return the result table in any order.  \n",
    "The result format is in the following example.  \n",
    "\n",
    "範例:  \n",
    "Ex1:  \n",
    "Input:   \n",
    "Accounts table:  \n",
    "```\n",
    "+------------+--------+\n",
    "| account_id | income |\n",
    "+------------+--------+\n",
    "| 3          | 108939 |\n",
    "| 2          | 12747  |\n",
    "| 8          | 87709  |\n",
    "| 6          | 91796  |\n",
    "+------------+--------+\n",
    "```\n",
    "Output:  \n",
    "```\n",
    "+----------------+----------------+\n",
    "| category       | accounts_count |\n",
    "+----------------+----------------+\n",
    "| Low Salary     | 1              |\n",
    "| Average Salary | 0              |\n",
    "| High Salary    | 3              |\n",
    "+----------------+----------------+\n",
    "```\n",
    "Explanation:   \n",
    "Low Salary: Account 2.  \n",
    "Average Salary: No accounts.  \n",
    "High Salary: Accounts 3, 6, and 8."
   ]
  },
  {
   "cell_type": "markdown",
   "metadata": {},
   "source": [
    "* 解題想法:  \n",
    "分別用query的方式找出三個類別的資料筆數各有多少，接著重新建立一個Dataframe來記錄這三個類別的資料，最後回傳新的Dataframe就是答案"
   ]
  },
  {
   "cell_type": "code",
   "execution_count": null,
   "metadata": {},
   "outputs": [],
   "source": [
    "import pandas as pd\n",
    "\n",
    "def count_salary_categories(accounts: pd.DataFrame) -> pd.DataFrame:\n",
    "    l = len(accounts.query('income < 20000'))\n",
    "    m = len(accounts.query('income >= 20000 & income <= 50000'))\n",
    "    h = len(accounts.query('income > 50000'))\n",
    "    res = pd.DataFrame({'category': ['Low Salary','Average Salary','High Salary'], 'accounts_count': [l,m,h]})\n",
    "    return res"
   ]
  }
 ],
 "metadata": {
  "kernelspec": {
   "display_name": "Python 3",
   "language": "python",
   "name": "python3"
  },
  "language_info": {
   "codemirror_mode": {
    "name": "ipython",
    "version": 3
   },
   "file_extension": ".py",
   "mimetype": "text/x-python",
   "name": "python",
   "nbconvert_exporter": "python",
   "pygments_lexer": "ipython3",
   "version": "3.7.6"
  }
 },
 "nbformat": 4,
 "nbformat_minor": 4
}
