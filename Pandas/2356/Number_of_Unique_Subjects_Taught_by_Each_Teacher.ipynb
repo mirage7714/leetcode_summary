{
 "cells": [
  {
   "cell_type": "markdown",
   "id": "06e8ab9b-c1d4-4562-a376-f3fe75736c2b",
   "metadata": {},
   "source": [
    "# 本題要找出每個老師共教了幾門不同的課程 (\\#Pandas)\n",
    "原題目連結: https://leetcode.com/problems/number-of-unique-subjects-taught-by-each-teacher/description/?envType=study-plan-v2&envId=30-days-of-pandas&lang=pythondata  \n",
    "\n",
    "Table: Teacher  \n",
    "```\n",
    "+-------------+------+\n",
    "| Column Name | Type |\n",
    "+-------------+------+\n",
    "| teacher_id  | int  |\n",
    "| subject_id  | int  |\n",
    "| dept_id     | int  |\n",
    "+-------------+------+\n",
    "```\n",
    "(subject_id, dept_id) is the primary key (combinations of columns with unique values) of this table.  \n",
    "Each row in this table indicates that the teacher with teacher_id teaches the subject subject_id in the department dept_id.  \n",
    "\n",
    "Write a solution to calculate the number of unique subjects each teacher teaches in the university.  \n",
    "Return the result table in any order.  \n",
    "\n",
    "The result format is shown in the following example.  \n",
    "\n",
    "範例:  \n",
    "Ex1:  \n",
    "Input:   \n",
    "Teacher table:  \n",
    "```\n",
    "+------------+------------+---------+\n",
    "| teacher_id | subject_id | dept_id |\n",
    "+------------+------------+---------+\n",
    "| 1          | 2          | 3       |\n",
    "| 1          | 2          | 4       |\n",
    "| 1          | 3          | 3       |\n",
    "| 2          | 1          | 1       |\n",
    "| 2          | 2          | 1       |\n",
    "| 2          | 3          | 1       |\n",
    "| 2          | 4          | 1       |\n",
    "+------------+------------+---------+\n",
    "```\n",
    "Output:  \n",
    "```\n",
    "+------------+-----+\n",
    "| teacher_id | cnt |\n",
    "+------------+-----+\n",
    "| 1          | 2   |\n",
    "| 2          | 4   |\n",
    "+------------+-----+\n",
    "```\n",
    "Explanation:   \n",
    "Teacher 1:  \n",
    "  - They teach subject 2 in departments 3 and 4.  \n",
    "  - They teach subject 3 in department 3.  \n",
    "Teacher 2:  \n",
    "  - They teach subject 1 in department 1.  \n",
    "  - They teach subject 2 in department 1.  \n",
    "  - They teach subject 3 in department 1.  \n",
    "  - They teach subject 4 in department 1.  "
   ]
  },
  {
   "cell_type": "markdown",
   "id": "dece269d-2a92-4557-8055-607e72c749bd",
   "metadata": {},
   "source": [
    "* 解題想法:  \n",
    "首先將department欄位去掉，只留下每個老師教了什麼課程，接著用transform的方式計算每個老師共有多少門不同的課程，最後將課程id欄位也去除後再去除重複的資料就是答案"
   ]
  },
  {
   "cell_type": "code",
   "execution_count": null,
   "id": "bcb86b2b-d4cf-480c-b7a0-156db4d6bce4",
   "metadata": {},
   "outputs": [],
   "source": [
    "import pandas as pd\n",
    "\n",
    "def count_unique_subjects(teacher: pd.DataFrame) -> pd.DataFrame:\n",
    "    teacher = teacher[['teacher_id','subject_id']].drop_duplicates()\n",
    "    teacher['cnt'] =  teacher.groupby('teacher_id').transform('count')\n",
    "    teacher = teacher[['teacher_id','cnt']].drop_duplicates()\n",
    "    return teacher"
   ]
  }
 ],
 "metadata": {
  "kernelspec": {
   "display_name": "Python 3 (ipykernel)",
   "language": "python",
   "name": "python3"
  },
  "language_info": {
   "codemirror_mode": {
    "name": "ipython",
    "version": 3
   },
   "file_extension": ".py",
   "mimetype": "text/x-python",
   "name": "python",
   "nbconvert_exporter": "python",
   "pygments_lexer": "ipython3",
   "version": "3.9.13"
  }
 },
 "nbformat": 4,
 "nbformat_minor": 5
}
