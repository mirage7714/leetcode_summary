{
 "cells": [
  {
   "cell_type": "markdown",
   "id": "0fd970a5-3d90-4adc-84ef-0e49f6eb82ff",
   "metadata": {},
   "source": [
    "# 本題要找出不符合規格的tweet (\\#Pandas)\n",
    "原題目連結: https://leetcode.com/problems/invalid-tweets/?envType=study-plan-v2&envId=30-days-of-pandas&lang=pythondata  \n",
    "\n",
    "Table: Tweets  \n",
    "```\n",
    "+----------------+---------+\n",
    "| Column Name    | Type    |\n",
    "+----------------+---------+\n",
    "| tweet_id       | int     |\n",
    "| content        | varchar |\n",
    "+----------------+---------+\n",
    "```\n",
    "tweet_id is the primary key (column with unique values) for this table.  \n",
    "This table contains all the tweets in a social media app.  \n",
    " \n",
    "Write a solution to find the IDs of the invalid tweets. The tweet is invalid if the number of characters used in the content of the tweet is strictly greater than 15.  \n",
    "\n",
    "Return the result table in any order.  \n",
    "\n",
    "The result format is in the following example.  \n",
    "\n",
    "範例:  \n",
    "Ex1:  \n",
    "Input:   \n",
    "Tweets table:  \n",
    "```\n",
    "+----------+----------------------------------+\n",
    "| tweet_id | content                          |\n",
    "+----------+----------------------------------+\n",
    "| 1        | Vote for Biden                   |\n",
    "| 2        | Let us make America great again! |\n",
    "+----------+----------------------------------+\n",
    "```\n",
    "Output:  \n",
    "```\n",
    "+----------+\n",
    "| tweet_id |\n",
    "+----------+\n",
    "| 2        |\n",
    "+----------+\n",
    "```\n",
    "Explanation:   \n",
    "Tweet 1 has length = 14. It is a valid tweet.  \n",
    "Tweet 2 has length = 32. It is an invalid tweet."
   ]
  },
  {
   "cell_type": "markdown",
   "id": "8af6ce70-4948-4b19-a12c-e78c77ec221f",
   "metadata": {},
   "source": [
    "* 解題想法:  \n",
    "首先用一個function來找出tweet的長度，接著用query過濾長度大於15的tweet，並取出ID回傳就是答案"
   ]
  },
  {
   "cell_type": "code",
   "execution_count": null,
   "id": "63b704e2-170f-46d5-a984-09b8615d1c26",
   "metadata": {},
   "outputs": [],
   "source": [
    "import pandas as pd\n",
    "\n",
    "def invalid_tweets(tweets: pd.DataFrame) -> pd.DataFrame:\n",
    "    tweets['size'] = tweets.apply(lambda x: len(x['content']), axis = 1)\n",
    "    invalid = tweets.query('size > 15')[['tweet_id']]\n",
    "    return invalid"
   ]
  }
 ],
 "metadata": {
  "kernelspec": {
   "display_name": "Python 3 (ipykernel)",
   "language": "python",
   "name": "python3"
  },
  "language_info": {
   "codemirror_mode": {
    "name": "ipython",
    "version": 3
   },
   "file_extension": ".py",
   "mimetype": "text/x-python",
   "name": "python",
   "nbconvert_exporter": "python",
   "pygments_lexer": "ipython3",
   "version": "3.9.13"
  }
 },
 "nbformat": 4,
 "nbformat_minor": 5
}
