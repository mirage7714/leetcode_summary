{
 "cells": [
  {
   "cell_type": "markdown",
   "id": "37611486-7f81-46dd-8a90-f331eeb7fb63",
   "metadata": {},
   "source": [
    "# 本題要修改某個column的數值 (\\#Pandas )\n",
    "原題目連結: https://leetcode.com/problems/modify-columns/description/  \n",
    "\n",
    "DataFrame employees  \n",
    "```\n",
    "+-------------+--------+\n",
    "| Column Name | Type   |\n",
    "+-------------+--------+\n",
    "| name        | object |\n",
    "| salary      | int    |\n",
    "+-------------+--------+\n",
    "```\n",
    "A company intends to give its employees a pay rise.  \n",
    "Write a solution to modify the salary column by multiplying each salary by 2.  \n",
    "The result format is in the following example.  \n",
    "\n",
    "範例:  \n",
    "Ex1:  \n",
    "Input:  \n",
    "DataFrame employees  \n",
    "```\n",
    "+---------+--------+\n",
    "| name    | salary |\n",
    "+---------+--------+\n",
    "| Jack    | 19666  |\n",
    "| Piper   | 74754  |\n",
    "| Mia     | 62509  |\n",
    "| Ulysses | 54866  |\n",
    "+---------+--------+\n",
    "```\n",
    "Output:  \n",
    "```\n",
    "+---------+--------+\n",
    "| name    | salary |\n",
    "+---------+--------+\n",
    "| Jack    | 39332  |\n",
    "| Piper   | 149508 |\n",
    "| Mia     | 125018 |\n",
    "| Ulysses | 109732 |\n",
    "+---------+--------+\n",
    "```\n",
    "Explanation:  \n",
    "Every salary has been doubled."
   ]
  },
  {
   "cell_type": "markdown",
   "id": "1053979e-1107-4a82-a459-a2321b17ed94",
   "metadata": {},
   "source": [
    "* 解題想法:  \n",
    "將salary的欄位直接進行乘2，就可以得到新的數值"
   ]
  },
  {
   "cell_type": "code",
   "execution_count": null,
   "id": "fb4ea70e-076c-4156-aca8-8d770a134e8c",
   "metadata": {},
   "outputs": [],
   "source": [
    "import pandas as pd\n",
    "\n",
    "def modifySalaryColumn(employees: pd.DataFrame) -> pd.DataFrame:\n",
    "    employees['salary'] = employees['salary'] * 2\n",
    "    return employees"
   ]
  }
 ],
 "metadata": {
  "kernelspec": {
   "display_name": "Python 3 (ipykernel)",
   "language": "python",
   "name": "python3"
  },
  "language_info": {
   "codemirror_mode": {
    "name": "ipython",
    "version": 3
   },
   "file_extension": ".py",
   "mimetype": "text/x-python",
   "name": "python",
   "nbconvert_exporter": "python",
   "pygments_lexer": "ipython3",
   "version": "3.9.13"
  }
 },
 "nbformat": 4,
 "nbformat_minor": 5
}
