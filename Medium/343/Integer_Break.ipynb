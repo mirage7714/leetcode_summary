{
 "cells": [
  {
   "cell_type": "markdown",
   "metadata": {},
   "source": [
    "# 本題要找出將整數拆解後，最大乘積為多少\n",
    "原題目連結: https://leetcode.com/problems/integer-break/  \n",
    "\n",
    "Given an integer n, break it into the sum of k positive integers, where k >= 2, and maximize the product of those integers.  \n",
    "Return the maximum product you can get.  \n",
    "\n",
    "範例:  \n",
    "Ex1:  \n",
    "Input: n = 2  \n",
    "Output: 1  \n",
    "Explanation: 2 = 1 + 1, 1 × 1 = 1.  \n",
    "\n",
    "Ex2:  \n",
    "Input: n = 10  \n",
    "Output: 36  \n",
    "Explanation: 10 = 3 + 3 + 4, 3 × 3 × 4 = 36."
   ]
  },
  {
   "cell_type": "markdown",
   "metadata": {},
   "source": [
    "* 解題想法:  \n",
    "仔細觀察後，可以發現在數字允許的情況下，將數字中拆出3作為乘數可以獲得最大的值，唯一例外情況是如果剩餘數為4的情況下，應該拆成2x2而非3x1  \n",
    "另外有個陷阱是，整數必須拆成至少為兩個以上的數相乘，因此當n=3的時候是個特例，需要拆為2x1而非3"
   ]
  },
  {
   "cell_type": "code",
   "execution_count": null,
   "metadata": {},
   "outputs": [],
   "source": [
    "class Solution:\n",
    "    def integerBreak(self, n: int) -> int:\n",
    "        result = 1\n",
    "        if n == 3:\n",
    "            result =  2\n",
    "        elif n > 2:\n",
    "            while n > 4:\n",
    "                result = result * 3\n",
    "                n -= 3\n",
    "            result = result * n\n",
    "        return result"
   ]
  }
 ],
 "metadata": {
  "kernelspec": {
   "display_name": "Python 3",
   "language": "python",
   "name": "python3"
  },
  "language_info": {
   "codemirror_mode": {
    "name": "ipython",
    "version": 3
   },
   "file_extension": ".py",
   "mimetype": "text/x-python",
   "name": "python",
   "nbconvert_exporter": "python",
   "pygments_lexer": "ipython3",
   "version": "3.7.4"
  }
 },
 "nbformat": 4,
 "nbformat_minor": 2
}
