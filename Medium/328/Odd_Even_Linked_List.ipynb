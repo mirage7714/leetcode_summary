{
 "cells": [
  {
   "cell_type": "markdown",
   "metadata": {},
   "source": [
    "# 本題要將LinkedList中的奇數與偶數節點重新進行排序\n",
    "原題目連結: https://leetcode.com/problems/odd-even-linked-list/  \n",
    "\n",
    "Given the head of a singly linked list, group all the nodes with odd indices together followed by the nodes with even indices, and return the reordered list.  \n",
    "\n",
    "The first node is considered odd, and the second node is even, and so on.  \n",
    "\n",
    "Note that the relative order inside both the even and odd groups should remain as it was in the input.  \n",
    "  \n",
    "You must solve the problem in O(1) extra space complexity and O(n) time complexity.  \n",
    "\n",
    "範例:  \n",
    "Ex1:  \n",
    "Input: head = [1,2,3,4,5]  \n",
    "Output: [1,3,5,2,4]  \n",
    "\n",
    "Ex2:  \n",
    "Input: head = [2,1,3,5,6,4,7]  \n",
    "Output: [2,3,6,7,1,5,4]  "
   ]
  },
  {
   "cell_type": "markdown",
   "metadata": {},
   "source": [
    "* 解題想法:  \n",
    "如果不考慮額外空間與時間複雜度的情況下，將LinkedList中的數值取出後重新排列奇數與偶數後再重新建立LinkedList就是答案"
   ]
  },
  {
   "cell_type": "code",
   "execution_count": null,
   "metadata": {},
   "outputs": [],
   "source": [
    "# Definition for singly-linked list.\n",
    "# class ListNode:\n",
    "#     def __init__(self, val=0, next=None):\n",
    "#         self.val = val\n",
    "#         self.next = next\n",
    "class Solution:\n",
    "    def oddEvenList(self, head: Optional[ListNode]) -> Optional[ListNode]:\n",
    "        odds = []\n",
    "        evens = []\n",
    "        result = []\n",
    "        count = 0\n",
    "        if head != None:\n",
    "            while head:\n",
    "                if count % 2 == 0:\n",
    "                    evens.append(head.val)\n",
    "                else:\n",
    "                    odds.append(head.val)\n",
    "                head = head.next\n",
    "                count += 1\n",
    "            values = evens + odds\n",
    "            for v in range(len(values)-1, -1, -1):\n",
    "                node = ListNode()\n",
    "                node.val = values[v]\n",
    "                if len(result) > 0:\n",
    "                    node.next = result[-1]\n",
    "                result.append(node)\n",
    "            return result[-1]\n",
    "                \n",
    "        else:\n",
    "            return None"
   ]
  }
 ],
 "metadata": {
  "kernelspec": {
   "display_name": "Python 3",
   "language": "python",
   "name": "python3"
  },
  "language_info": {
   "codemirror_mode": {
    "name": "ipython",
    "version": 3
   },
   "file_extension": ".py",
   "mimetype": "text/x-python",
   "name": "python",
   "nbconvert_exporter": "python",
   "pygments_lexer": "ipython3",
   "version": "3.7.4"
  }
 },
 "nbformat": 4,
 "nbformat_minor": 4
}
