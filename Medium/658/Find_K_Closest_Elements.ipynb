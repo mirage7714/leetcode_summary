{
 "cells": [
  {
   "cell_type": "markdown",
   "metadata": {},
   "source": [
    "# 本題要找出距離X最小的K個數值\n",
    "原題目連結: https://leetcode.com/problems/find-k-closest-elements/\n",
    "\n",
    "Given a sorted integer array arr, two integers k and x, return the k closest integers to x in the array. The result should also be sorted in ascending order.  \n",
    "\n",
    "An integer a is closer to x than an integer b if:  \n",
    "\n",
    "|a - x| < |b - x|, or  \n",
    "|a - x| == |b - x| and a < b  \n",
    "\n",
    "範例:  \n",
    "Ex1:  \n",
    "Input: arr = [1,2,3,4,5], k = 4, x = 3  \n",
    "Output: [1,2,3,4]  \n",
    "\n",
    "Ex2:  \n",
    "Input: arr = [1,2,3,4,5], k = 4, x = -1  \n",
    "Output: [1,2,3,4]"
   ]
  },
  {
   "cell_type": "markdown",
   "metadata": {},
   "source": [
    "* 解題想法:  \n",
    "依題目對距離的定義，是指絕對值的大小來判斷，因此先將每個數對於目標X的絕對值計算出來後，建立一個dict來存放這些距離與值  \n",
    "接著在符合題目要求的K個數值內將值依序加入list中，最後將list排序後回傳"
   ]
  },
  {
   "cell_type": "code",
   "execution_count": null,
   "metadata": {},
   "outputs": [],
   "source": [
    "class Solution:\n",
    "    def findClosestElements(self, arr: List[int], k: int, x: int) -> List[int]:\n",
    "        temp = {}\n",
    "        result = []\n",
    "        for n in arr:\n",
    "            diff = abs(n - x)\n",
    "            if diff not in temp.keys():\n",
    "                temp[diff] = [n]\n",
    "            else:\n",
    "                temp[diff].append(n)\n",
    "        keys = list(temp.keys())\n",
    "        keys.sort()\n",
    "        n = 0\n",
    "        while len(result) < k:\n",
    "            key = keys[n]\n",
    "            result += temp[key]\n",
    "            n += 1\n",
    "            if len(result) > k:\n",
    "                d = len(result) - k\n",
    "                for m in range(d):\n",
    "                    result.pop(-1)\n",
    "                break\n",
    "            if len(result) == k:\n",
    "                break\n",
    "        result.sort()\n",
    "        return result"
   ]
  }
 ],
 "metadata": {
  "kernelspec": {
   "display_name": "Python 3",
   "language": "python",
   "name": "python3"
  },
  "language_info": {
   "codemirror_mode": {
    "name": "ipython",
    "version": 3
   },
   "file_extension": ".py",
   "mimetype": "text/x-python",
   "name": "python",
   "nbconvert_exporter": "python",
   "pygments_lexer": "ipython3",
   "version": "3.7.4"
  }
 },
 "nbformat": 4,
 "nbformat_minor": 2
}
