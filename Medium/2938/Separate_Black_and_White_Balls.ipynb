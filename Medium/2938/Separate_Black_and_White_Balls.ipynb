{
 "cells": [
  {
   "cell_type": "markdown",
   "id": "f6eef9cc-8e5e-4c8b-9d99-23aa6886de41",
   "metadata": {},
   "source": [
    "# 本題要找出最少需要幾次才能將黑球全部集中到最右側 (\\#Array )\n",
    "原題目連結：https://leetcode.com/problems/separate-black-and-white-balls/description/  \n",
    "\n",
    "There are n balls on a table, each ball has a color black or white.  \n",
    "You are given a 0-indexed binary string s of length n, where 1 and 0 represent black and white balls, respectively.  \n",
    "In each step, you can choose two adjacent balls and swap them.    \n",
    "Return the minimum number of steps to group all the black balls to the right and all the white balls to the left.  \n",
    "\n",
    "範例：  \n",
    "Ex1:  \n",
    "Input: s = \"101\"  \n",
    "Output: 1  \n",
    "Explanation: We can group all the black balls to the right in the following way:  \n",
    "- Swap s[0] and s[1], s = \"011\".  \n",
    "Initially, 1s are not grouped together, requiring at least 1 step to group them to the right.  \n",
    "\n",
    "Ex2:  \n",
    "Input: s = \"100\"  \n",
    "Output: 2  \n",
    "Explanation: We can group all the black balls to the right in the following way:  \n",
    "- Swap s[0] and s[1], s = \"010\".  \n",
    "- Swap s[1] and s[2], s = \"001\".  \n",
    "It can be proven that the minimum number of steps needed is 2.  \n",
    "\n",
    "Ex3:  \n",
    "Input: s = \"0111\"  \n",
    "Output: 0  \n",
    "Explanation: All the black balls are already grouped to the right."
   ]
  },
  {
   "cell_type": "markdown",
   "id": "1b1a2fc6-faa6-46a2-8efb-3f535ef79687",
   "metadata": {},
   "source": [
    "* 解題想法：  \n",
    "首先找出為1的Index共有哪些，接著從最右側開始進行移動，如果最大的index不是在最右側則加上移動的步數，最後回傳步數的總和就是答案"
   ]
  },
  {
   "cell_type": "code",
   "execution_count": null,
   "id": "2e42be75-9ed3-449f-8f2b-2fc04cd886aa",
   "metadata": {},
   "outputs": [],
   "source": [
    "class Solution:\n",
    "    def minimumSteps(self, s: str) -> int:\n",
    "        res = 0\n",
    "        count = {'1': []}\n",
    "        l = len(s)-1\n",
    "        for i in range(len(s)):\n",
    "            if s[i] == '1':\n",
    "                count['1'].append(i)\n",
    "        if len(count['1']) > 0 and len(count['1']) != len(s):\n",
    "            v = count['1']\n",
    "            for j in range(len(v)-1, -1, -1):\n",
    "                if v[j] != l:\n",
    "                    res += l - v[j]\n",
    "                l -= 1\n",
    "        return res "
   ]
  }
 ],
 "metadata": {
  "kernelspec": {
   "display_name": "Python 3 (ipykernel)",
   "language": "python",
   "name": "python3"
  },
  "language_info": {
   "codemirror_mode": {
    "name": "ipython",
    "version": 3
   },
   "file_extension": ".py",
   "mimetype": "text/x-python",
   "name": "python",
   "nbconvert_exporter": "python",
   "pygments_lexer": "ipython3",
   "version": "3.10.9"
  }
 },
 "nbformat": 4,
 "nbformat_minor": 5
}
