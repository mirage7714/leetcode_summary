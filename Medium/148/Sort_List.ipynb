{
 "cells": [
  {
   "cell_type": "markdown",
   "metadata": {},
   "source": [
    "# 本題要將linked list中的數值重新進行排序\n",
    "原題目連結: https://leetcode.com/problems/sort-list/  \n",
    "\n",
    "Given the head of a linked list, return the list after sorting it in ascending order.  \n",
    "\n",
    "範例:  \n",
    "Ex1:  \n",
    "Input: head = [4,2,1,3]   \n",
    "Output: [1,2,3,4]  \n",
    "\n",
    "Ex2:  \n",
    "Input: head = [-1,5,3,4,0]  \n",
    "Output: [-1,0,3,4,5]  \n",
    "\n",
    "Ex3:  \n",
    "Input: head = []  \n",
    "Output: []"
   ]
  },
  {
   "cell_type": "markdown",
   "metadata": {},
   "source": [
    "* 解題想法:  \n",
    "首先將linked list中的數值全部找出後放入一個list中，並對list中的數值重新進行排序後重新建立新的linked list，最後回傳新的linked list作為答案"
   ]
  },
  {
   "cell_type": "code",
   "execution_count": null,
   "metadata": {},
   "outputs": [],
   "source": [
    "# Definition for singly-linked list.\n",
    "# class ListNode:\n",
    "#     def __init__(self, val=0, next=None):\n",
    "#         self.val = val\n",
    "#         self.next = next\n",
    "class Solution:\n",
    "    def sortList(self, head: Optional[ListNode]) -> Optional[ListNode]:\n",
    "        values = []\n",
    "        nodes = []\n",
    "        if head != None:\n",
    "            while head:\n",
    "                values.append(head.val)\n",
    "                head = head.next\n",
    "            values.sort(reverse = True)\n",
    "            print(values)\n",
    "            for val in values:\n",
    "                node = ListNode()\n",
    "                node.val = val\n",
    "                if len(nodes) > 0:\n",
    "                    node.next = nodes[-1]\n",
    "                nodes.append(node)\n",
    "            return nodes[-1]\n",
    "        else:\n",
    "            return None"
   ]
  }
 ],
 "metadata": {
  "kernelspec": {
   "display_name": "Python 3",
   "language": "python",
   "name": "python3"
  },
  "language_info": {
   "codemirror_mode": {
    "name": "ipython",
    "version": 3
   },
   "file_extension": ".py",
   "mimetype": "text/x-python",
   "name": "python",
   "nbconvert_exporter": "python",
   "pygments_lexer": "ipython3",
   "version": "3.7.4"
  }
 },
 "nbformat": 4,
 "nbformat_minor": 4
}
