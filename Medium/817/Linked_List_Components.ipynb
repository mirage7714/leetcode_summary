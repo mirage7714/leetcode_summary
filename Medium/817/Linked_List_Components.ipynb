{
 "cells": [
  {
   "cell_type": "markdown",
   "metadata": {},
   "source": [
    "# 本題要計算在nums中共有多少個component在linked list中\n",
    "原題目連結: https://leetcode.com/problems/linked-list-components/  \n",
    "\n",
    "You are given the head of a linked list containing unique integer values and an integer array nums that is a subset of the linked list values.  \n",
    "Return the number of connected components in nums where two values are connected if they appear consecutively in the linked list.  \n",
    "\n",
    "範例:  \n",
    "Ex1:  \n",
    "Input: head = [0,1,2,3], nums = [0,1,3]  \n",
    "Output: 2  \n",
    "Explanation: 0 and 1 are connected, so [0, 1] and [3] are the two connected components.  \n",
    "\n",
    "Ex2:  \n",
    "Input: head = [0,1,2,3,4], nums = [0,3,1,4]  \n",
    "Output: 2  \n",
    "Explanation: 0 and 1 are connected, 3 and 4 are connected, so [0, 1] and [3, 4] are the two connected components."
   ]
  },
  {
   "cell_type": "markdown",
   "metadata": {},
   "source": [
    "* 解題想法:  \n",
    "用一個變數來統計共有幾組components，另外用一個bool變數來儲存目前是否是一個component，接著開始從linked list進行走訪，並檢查node.val是否有出現在nums中，如果有出現則將bool改為true，直到node.val不存在於nums時則將bool改為false，並將統計值加1，最後如果bool為true的話則統計值需要再加1，最後回傳統計值"
   ]
  },
  {
   "cell_type": "code",
   "execution_count": null,
   "metadata": {},
   "outputs": [],
   "source": [
    "# Definition for singly-linked list.\n",
    "# class ListNode:\n",
    "#     def __init__(self, val=0, next=None):\n",
    "#         self.val = val\n",
    "#         self.next = next\n",
    "class Solution:\n",
    "    def numComponents(self, head: Optional[ListNode], nums: List[int]) -> int:\n",
    "        count = 0\n",
    "        is_continue = False\n",
    "        while head:\n",
    "            if head.val in nums:\n",
    "                is_continue = True\n",
    "            else:\n",
    "                if is_continue:\n",
    "                    count += 1\n",
    "                    is_continue = False\n",
    "            head = head.next\n",
    "        if is_continue:\n",
    "            count += 1\n",
    "        return count"
   ]
  }
 ],
 "metadata": {
  "kernelspec": {
   "display_name": "Python 3",
   "language": "python",
   "name": "python3"
  },
  "language_info": {
   "codemirror_mode": {
    "name": "ipython",
    "version": 3
   },
   "file_extension": ".py",
   "mimetype": "text/x-python",
   "name": "python",
   "nbconvert_exporter": "python",
   "pygments_lexer": "ipython3",
   "version": "3.7.4"
  }
 },
 "nbformat": 4,
 "nbformat_minor": 4
}
