{
 "cells": [
  {
   "cell_type": "markdown",
   "metadata": {},
   "source": [
    "# 本題要設計一個ATM系統\n",
    "原題目連結: https://leetcode.com/problems/design-an-atm-machine/  \n",
    "\n",
    "There is an ATM machine that stores banknotes of 5 denominations: 20, 50, 100, 200, and 500 dollars. Initially the ATM is empty. The user can use the machine to deposit or withdraw any amount of money.  \n",
    "\n",
    "When withdrawing, the machine prioritizes using banknotes of larger values.  \n",
    "\n",
    "For example, if you want to withdraw $300 and there are 2 $50 banknotes, 1 $100 banknote, and 1 $200 banknote, then the machine will use the $100 and $200 banknotes.  \n",
    "However, if you try to withdraw $600 and there are 3 $200 banknotes and 1 $500 banknote, then the withdraw request will be rejected because the machine will first try to use the $500 banknote and then be unable to use banknotes to complete the remaining $100. Note that the machine is not allowed to use the $200 banknotes instead of the $500 banknote.  \n",
    "Implement the ATM class:  \n",
    "\n",
    "ATM() Initializes the ATM object.  \n",
    "void deposit(int[] banknotesCount) Deposits new banknotes in the order $20, $50, $100, $200, and $500.  \n",
    "int[] withdraw(int amount) Returns an array of length 5 of the number of banknotes that will be handed to the user in the order $20, $50, $100, $200, and $500, and update the number of banknotes in the ATM after withdrawing. Returns [-1] if it is not possible (do not withdraw any banknotes in this case).  \n",
    "\n",
    "範例:  \n",
    "Ex1:  \n",
    "Input\n",
    "[\"ATM\", \"deposit\", \"withdraw\", \"deposit\", \"withdraw\", \"withdraw\"]  \n",
    "[[], [[0,0,1,2,1]], [600], [[0,1,0,1,1]], [600], [550]]  \n",
    "Output  \n",
    "[null, null, [0,0,1,0,1], null, [-1], [0,1,0,0,1]]  "
   ]
  },
  {
   "cell_type": "markdown",
   "metadata": {},
   "source": [
    "* 解題想法:  \n",
    "首先建立一個list用來存放不同金額的數量，並用另一個變數來存放總金額，接著開始建立題目要求的功能:  \n",
    "- deposit(): 依據題目提供的list，將account內的數值更新  \n",
    "- withdraw(): 首先用一個list來存放結果，接著檢查要提款的總金額是否有超過目前存款的總數，如果有超過的話則直接回傳-1，如果沒超過的話，則開始由大到小檢查目前的存款共有多少，以及是否能湊出題目指定的金額，如果最後金額符合，則將總金額轉換為各面額的鈔票需要多少，最後回傳並將庫存的各面額以及總額更新"
   ]
  },
  {
   "cell_type": "code",
   "execution_count": null,
   "metadata": {},
   "outputs": [],
   "source": [
    "class ATM:\n",
    "\n",
    "    def __init__(self):\n",
    "        self.account = [0,0,0,0,0]\n",
    "        self.prices = [20,50,100,200,500]\n",
    "        self.total = 0\n",
    "    def deposit(self, banknotesCount: List[int]) -> None:\n",
    "        for m in range(len(banknotesCount)):\n",
    "            self.account[m] += banknotesCount[m]\n",
    "            self.total += banknotesCount[m] * self.prices[m]\n",
    "    def withdraw(self, amount: int) -> List[int]:\n",
    "        result = []\n",
    "        if amount > self.total:\n",
    "            result.append(-1)\n",
    "        else:\n",
    "            temp = {}\n",
    "            for m in range(4,-1,-1):\n",
    "                if self.account[m] > 0:\n",
    "                    if amount >= self.prices[m]:\n",
    "                        d = int((amount - (amount% self.prices[m])) / self.prices[m])\n",
    "                        if self.account[m] >= d:\n",
    "                            temp[self.prices[m]] = d\n",
    "                            amount -= self.prices[m] * d\n",
    "                        else:\n",
    "                            temp[self.prices[m]] = self.account[m]\n",
    "                            amount -= self.prices[m] * self.account[m]\n",
    "            if amount == 0:\n",
    "                self.total -= amount\n",
    "                for m in range(5):\n",
    "                    key = self.prices[m]\n",
    "                    if key in temp.keys():\n",
    "                        self.account[m] -= temp[key]\n",
    "                        result.append(temp[key])\n",
    "                    else:\n",
    "                        result.append(0)\n",
    "            else:\n",
    "                result.append(-1)    \n",
    "        return result\n",
    "\n",
    "# Your ATM object will be instantiated and called as such:\n",
    "# obj = ATM()\n",
    "# obj.deposit(banknotesCount)\n",
    "# param_2 = obj.withdraw(amount)"
   ]
  }
 ],
 "metadata": {
  "kernelspec": {
   "display_name": "Python 3",
   "language": "python",
   "name": "python3"
  },
  "language_info": {
   "codemirror_mode": {
    "name": "ipython",
    "version": 3
   },
   "file_extension": ".py",
   "mimetype": "text/x-python",
   "name": "python",
   "nbconvert_exporter": "python",
   "pygments_lexer": "ipython3",
   "version": "3.7.4"
  }
 },
 "nbformat": 4,
 "nbformat_minor": 4
}
