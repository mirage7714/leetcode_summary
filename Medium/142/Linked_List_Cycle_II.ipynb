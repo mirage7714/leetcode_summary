{
 "cells": [
  {
   "cell_type": "markdown",
   "metadata": {},
   "source": [
    "# 本題要找出linked list循環的點為何\n",
    "原題目連結: https://leetcode.com/problems/linked-list-cycle-ii/  \n",
    "\n",
    "Given the head of a linked list, return the node where the cycle begins. If there is no cycle, return null.  \n",
    "\n",
    "There is a cycle in a linked list if there is some node in the list that can be reached again by continuously following the next pointer. Internally, pos is used to denote the index of the node that tail's next pointer is connected to (0-indexed). It is -1 if there is no cycle. Note that pos is not passed as a parameter.  \n",
    "\n",
    "Do not modify the linked list.  \n",
    "\n",
    "範例:  \n",
    "Ex1:  \n",
    "Input: head = [3,2,0,-4], pos = 1  \n",
    "Output: tail connects to node index 1  \n",
    "Explanation: There is a cycle in the linked list, where tail connects to the second node.  \n",
    "\n",
    "Ex2:  \n",
    "Input: head = [1,2], pos = 0  \n",
    "Output: tail connects to node index 0  \n",
    "Explanation: There is a cycle in the linked list, where tail connects to the first node.  \n",
    "\n",
    "Ex3:  \n",
    "Input: head = [1], pos = -1  \n",
    "Output: no cycle  \n",
    "Explanation: There is no cycle in the linked list."
   ]
  },
  {
   "cell_type": "markdown",
   "metadata": {},
   "source": [
    "* 解題想法:  \n",
    "用一個list來存放之前經過的節點，接著開始進行迴圈，如果目前的節點有出現在之前經過的節點時，則回傳該節點，否則將新的節點加入list中，如果沒有循環的話，則迴圈最後會到linked list的最後，此時則回傳None"
   ]
  },
  {
   "cell_type": "code",
   "execution_count": null,
   "metadata": {},
   "outputs": [],
   "source": [
    "# Definition for singly-linked list.\n",
    "# class ListNode:\n",
    "#     def __init__(self, x):\n",
    "#         self.val = x\n",
    "#         self.next = None\n",
    "\n",
    "class Solution:\n",
    "    def detectCycle(self, head: Optional[ListNode]) -> Optional[ListNode]:\n",
    "        one = head\n",
    "        nodes = []\n",
    "        while one:\n",
    "            if one in nodes:\n",
    "                return one\n",
    "            else:\n",
    "                nodes.append(one)\n",
    "            one = one.next\n",
    "        return None"
   ]
  }
 ],
 "metadata": {
  "kernelspec": {
   "display_name": "Python 3",
   "language": "python",
   "name": "python3"
  },
  "language_info": {
   "codemirror_mode": {
    "name": "ipython",
    "version": 3
   },
   "file_extension": ".py",
   "mimetype": "text/x-python",
   "name": "python",
   "nbconvert_exporter": "python",
   "pygments_lexer": "ipython3",
   "version": "3.7.4"
  }
 },
 "nbformat": 4,
 "nbformat_minor": 4
}
