{
 "cells": [
  {
   "cell_type": "markdown",
   "metadata": {},
   "source": [
    "# 本題要找出配對後最大的和為多少\n",
    "原題目連結: https://leetcode.com/problems/minimize-maximum-pair-sum-in-array/  \n",
    "\n",
    "The pair sum of a pair (a,b) is equal to a + b. The maximum pair sum is the largest pair sum in a list of pairs.  \n",
    "\n",
    "For example, if we have pairs (1,5), (2,3), and (4,4), the maximum pair sum would be max(1+5, 2+3, 4+4) = max(6, 5, 8) = 8.\n",
    "Given an array nums of even length n, pair up the elements of nums into n / 2 pairs such that:  \n",
    "\n",
    "Each element of nums is in exactly one pair, and  \n",
    "The maximum pair sum is minimized.  \n",
    "Return the minimized maximum pair sum after optimally pairing up the elements.  \n",
    "\n",
    "範例:  \n",
    "Ex1:  \n",
    "Input: nums = [3,5,2,3]  \n",
    "Output: 7  \n",
    "Explanation: The elements can be paired up into pairs (3,3) and (5,2).  \n",
    "The maximum pair sum is max(3+3, 5+2) = max(6, 7) = 7.  \n",
    "\n",
    "Ex2:  \n",
    "Input: nums = [3,5,4,2,4,6]  \n",
    "Output: 8  \n",
    "Explanation: The elements can be paired up into pairs (3,5), (4,4), and (6,2).   \n",
    "The maximum pair sum is max(3+5, 4+4, 6+2) = max(8, 8, 8) = 8."
   ]
  },
  {
   "cell_type": "markdown",
   "metadata": {},
   "source": [
    "* 解題想法:  \n",
    "依題目要求，必須將配對的值最小化，因此先針對整個list進行排序後，從兩邊開始計算出配對的值為多少，並放入一個暫存的list中  \n",
    "接著對暫存的list取最大值，就是題目要找的答案"
   ]
  },
  {
   "cell_type": "code",
   "execution_count": null,
   "metadata": {},
   "outputs": [],
   "source": [
    "class Solution:\n",
    "    def minPairSum(self, nums: List[int]) -> int:\n",
    "        nums.sort()\n",
    "        temp = []\n",
    "        for n in range(int(len(nums)/2)):\n",
    "            temp.append(nums[n] + nums[len(nums)-1-n])\n",
    "        return max(temp)"
   ]
  }
 ],
 "metadata": {
  "kernelspec": {
   "display_name": "Python 3",
   "language": "python",
   "name": "python3"
  },
  "language_info": {
   "codemirror_mode": {
    "name": "ipython",
    "version": 3
   },
   "file_extension": ".py",
   "mimetype": "text/x-python",
   "name": "python",
   "nbconvert_exporter": "python",
   "pygments_lexer": "ipython3",
   "version": "3.7.4"
  }
 },
 "nbformat": 4,
 "nbformat_minor": 2
}
