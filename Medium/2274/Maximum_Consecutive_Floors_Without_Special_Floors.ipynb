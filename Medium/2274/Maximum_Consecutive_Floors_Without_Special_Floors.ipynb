{
 "cells": [
  {
   "cell_type": "markdown",
   "metadata": {},
   "source": [
    "# 本題要找出最多的連續樓層為多少\n",
    "原題目連結: https://leetcode.com/problems/maximum-consecutive-floors-without-special-floors/  \n",
    "\n",
    "Alice manages a company and has rented some floors of a building as office space. Alice has decided some of these floors should be special floors, used for relaxation only.  \n",
    "\n",
    "You are given two integers bottom and top, which denote that Alice has rented all the floors from bottom to top (inclusive). You are also given the integer array special, where special[i] denotes a special floor that Alice has designated for relaxation.  \n",
    "\n",
    "Return the maximum number of consecutive floors without a special floor  \n",
    "\n",
    "範例:  \n",
    "Ex1:  \n",
    "Input: bottom = 2, top = 9, special = [4,6]  \n",
    "Output: 3  \n",
    "Explanation: The following are the ranges (inclusive) of consecutive floors without a special floor:  \n",
    "- (2, 3) with a total amount of 2 floors.  \n",
    "- (5, 5) with a total amount of 1 floor.  \n",
    "- (7, 9) with a total amount of 3 floors.  \n",
    "Therefore, we return the maximum number which is 3 floors.  \n",
    "\n",
    "Ex2:  \n",
    "Input: bottom = 6, top = 8, special = [7,6,8]  \n",
    "Output: 0  \n",
    "Explanation: Every floor rented is a special floor, so we return 0."
   ]
  },
  {
   "cell_type": "markdown",
   "metadata": {},
   "source": [
    "* 解題想法:  \n",
    "首先將題目提供的特殊樓層進行排序，接著依序檢查每個特殊樓層之間有多少的空樓層，最後檢查最高與最低樓層與特殊樓層間的樓層數為多少，並找出最大值進行回傳"
   ]
  },
  {
   "cell_type": "code",
   "execution_count": null,
   "metadata": {},
   "outputs": [],
   "source": [
    "class Solution:\n",
    "    def maxConsecutive(self, bottom: int, top: int, special: List[int]) -> int:\n",
    "        special.sort()\n",
    "        result = 0\n",
    "        if special[0] > bottom:\n",
    "            result = special[0] - bottom\n",
    "        for m in range(len(special)-1):\n",
    "            diff = special[m+1] - special[m] - 1\n",
    "            if diff > result:\n",
    "                result = diff\n",
    "        if top - special[-1] > result:\n",
    "            result = top - special[-1]\n",
    "        return result\n",
    "                "
   ]
  }
 ],
 "metadata": {
  "kernelspec": {
   "display_name": "Python 3",
   "language": "python",
   "name": "python3"
  },
  "language_info": {
   "codemirror_mode": {
    "name": "ipython",
    "version": 3
   },
   "file_extension": ".py",
   "mimetype": "text/x-python",
   "name": "python",
   "nbconvert_exporter": "python",
   "pygments_lexer": "ipython3",
   "version": "3.7.4"
  }
 },
 "nbformat": 4,
 "nbformat_minor": 4
}
