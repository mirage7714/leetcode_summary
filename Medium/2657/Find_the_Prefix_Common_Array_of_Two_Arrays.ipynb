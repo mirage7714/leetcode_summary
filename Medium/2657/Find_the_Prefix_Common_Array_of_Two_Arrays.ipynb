{
 "cells": [
  {
   "cell_type": "markdown",
   "metadata": {},
   "source": [
    "# 本題要找出在prefix中共有多少個相同的數值 (\\#Array)\n",
    "原題目連結: https://leetcode.com/problems/find-the-prefix-common-array-of-two-arrays/description/   \n",
    "\n",
    "You are given two 0-indexed integer permutations A and B of length n.  \n",
    "A prefix common array of A and B is an array C such that C[i] is equal to the count of numbers that are present at or before the index i in both A and B.  \n",
    "\n",
    "Return the prefix common array of A and B.  \n",
    "A sequence of n integers is called a permutation if it contains all integers from 1 to n exactly once.  \n",
    "\n",
    "範例:  \n",
    "Ex1:  \n",
    "Input: A = [1,3,2,4], B = [3,1,2,4]  \n",
    "Output: [0,2,3,4]  \n",
    "Explanation: At i = 0: no number is common, so C[0] = 0.  \n",
    "At i = 1: 1 and 3 are common in A and B, so C[1] = 2.  \n",
    "At i = 2: 1, 2, and 3 are common in A and B, so C[2] = 3.  \n",
    "At i = 3: 1, 2, 3, and 4 are common in A and B, so C[3] = 4.  \n",
    "\n",
    "Ex2:  \n",
    "Input: A = [2,3,1], B = [3,1,2]  \n",
    "Output: [0,1,3]  \n",
    "Explanation: At i = 0: no number is common, so C[0] = 0.  \n",
    "At i = 1: only 3 is common in A and B, so C[1] = 1.  \n",
    "At i = 2: 1, 2, and 3 are common in A and B, so C[2] = 3."
   ]
  },
  {
   "cell_type": "markdown",
   "metadata": {},
   "source": [
    "* 解題想法:  \n",
    "首先建立兩個set用來存放目前兩邊出現過的數值，接著從頭開始檢查兩邊的數值:  \n",
    "- 如果暫存為空的情況且兩邊字母不相同則放入0，否則放入1  \n",
    "- 如果有數值的情況，當兩邊數值相同時，則將最後一個數值加1  \n",
    "- 如果兩邊數值不相同，而兩邊的數值都有出現在暫存中，則將結果的最後數值加2  \n",
    "- 如果兩邊數值不相同，而兩邊的數值只有一個出現在暫存中，則將結果的最後數值加1  \n",
    "- 最後如果都沒出現，則直接將暫存的最後數值再放入一次  \n",
    "完成之後將兩個list的數值都放入暫存中"
   ]
  },
  {
   "cell_type": "code",
   "execution_count": null,
   "metadata": {},
   "outputs": [],
   "source": [
    "class Solution:\n",
    "    def findThePrefixCommonArray(self, A: List[int], B: List[int]) -> List[int]:\n",
    "        p = len(A)\n",
    "        res = []\n",
    "\n",
    "        s_a = set()\n",
    "        s_b = set()\n",
    "        for n in range(len(A)):\n",
    "            if not res:\n",
    "                if A[n] != B[n]:\n",
    "                    res.append(0)\n",
    "                else:\n",
    "                    res.append(1)\n",
    "            else:\n",
    "                if A[n] == B[n]:\n",
    "                    res.append(res[-1] + 1)\n",
    "                else:\n",
    "                    if A[n] in s_b and B[n] in s_a:\n",
    "                        res.append(res[-1] + 2)\n",
    "                    elif A[n] in s_b:\n",
    "                        res.append(res[-1] + 1)\n",
    "                    elif B[n] in s_a:\n",
    "                        res.append(res[-1] + 1)\n",
    "                    else:\n",
    "                        res.append(res[-1])\n",
    "            s_a.add(A[n])\n",
    "            s_b.add(B[n])\n",
    "        return res"
   ]
  }
 ],
 "metadata": {
  "kernelspec": {
   "display_name": "Python 3",
   "language": "python",
   "name": "python3"
  },
  "language_info": {
   "codemirror_mode": {
    "name": "ipython",
    "version": 3
   },
   "file_extension": ".py",
   "mimetype": "text/x-python",
   "name": "python",
   "nbconvert_exporter": "python",
   "pygments_lexer": "ipython3",
   "version": "3.7.6"
  }
 },
 "nbformat": 4,
 "nbformat_minor": 4
}
