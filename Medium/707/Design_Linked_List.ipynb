{
 "cells": [
  {
   "cell_type": "markdown",
   "id": "7eb169bc-a198-4783-93c5-2a50d76d886c",
   "metadata": {},
   "source": [
    "# 本題要實作一個LinkedList的功能 (\\#Array )\n",
    "原題目連結: https://leetcode.com/problems/design-linked-list/description/  \n",
    "\n",
    "Design your implementation of the linked list. You can choose to use a singly or doubly linked list.   \n",
    "A node in a singly linked list should have two attributes: val and next. val is the value of the current node, and next is a pointer/reference to the next node.  \n",
    "If you want to use the doubly linked list, you will need one more attribute prev to indicate the previous node in the linked list. Assume all nodes in the linked list are 0-indexed.  \n",
    "\n",
    "Implement the MyLinkedList class:  \n",
    "\n",
    "MyLinkedList() Initializes the MyLinkedList object.  \n",
    "int get(int index) Get the value of the indexth node in the linked list. If the index is invalid, return -1.  \n",
    "void addAtHead(int val) Add a node of value val before the first element of the linked list. After the insertion, the new node will be the first node of the linked list.  \n",
    "void addAtTail(int val) Append a node of value val as the last element of the linked list.  \n",
    "void addAtIndex(int index, int val) Add a node of value val before the indexth node in the linked list. If index equals the length of the linked list, the node will be appended to the end of the linked list. If index is greater than the length, the node will not be inserted.  \n",
    "void deleteAtIndex(int index) Delete the indexth node in the linked list, if the index is valid.  \n",
    "\n",
    "範例:  \n",
    "Ex1:  \n",
    "Input  \n",
    "[\"MyLinkedList\", \"addAtHead\", \"addAtTail\", \"addAtIndex\", \"get\", \"deleteAtIndex\", \"get\"]  \n",
    "[[], [1], [3], [1, 2], [1], [1], [1]]  \n",
    "Output  \n",
    "[null, null, null, null, 2, null, 3]  \n",
    "\n",
    "Explanation  \n",
    "MyLinkedList myLinkedList = new MyLinkedList();  \n",
    "myLinkedList.addAtHead(1);  \n",
    "myLinkedList.addAtTail(3);  \n",
    "myLinkedList.addAtIndex(1, 2);    // linked list becomes 1->2->3  \n",
    "myLinkedList.get(1);              // return 2  \n",
    "myLinkedList.deleteAtIndex(1);    // now the linked list is 1->3  \n",
    "myLinkedList.get(1);              // return 3  "
   ]
  },
  {
   "cell_type": "markdown",
   "id": "49664e35-1ccf-4ec7-a73e-98a932b9569b",
   "metadata": {},
   "source": [
    "* 解題想法:  \n",
    "首先用一個list來存放目前的資料，接著開始實做題目要求的功能:  \n",
    "- addAtHead(): 將數值放入資料的最前面  \n",
    "- addAtTail(): 將數值放入資料的最後面  \n",
    "- addAtIndex(): 將資料放入指定的index，如果該index超過目前資料的長度則不加入  \n",
    "- get(): 取得指定index的資料，如果該index超過目前資料的範圍則回傳-1  \n",
    "- deleteAtIndex(): 刪除指定index的資料，如果該indext超過目前資料的範圍則不刪除"
   ]
  },
  {
   "cell_type": "code",
   "execution_count": null,
   "id": "207db7dd-2c04-4ee8-80e3-4347756e7e60",
   "metadata": {},
   "outputs": [],
   "source": [
    "class MyLinkedList:\n",
    "\n",
    "    def __init__(self):\n",
    "        self.data = []\n",
    "\n",
    "    def get(self, index: int) -> int:\n",
    "        if index >= len(self.data):\n",
    "            return -1\n",
    "        return self.data[index]\n",
    "\n",
    "    def addAtHead(self, val: int) -> None:\n",
    "        self.data.insert(0, val)\n",
    "\n",
    "    def addAtTail(self, val: int) -> None:\n",
    "        self.data.append(val)\n",
    "\n",
    "    def addAtIndex(self, index: int, val: int) -> None:\n",
    "        if len(self.data) >= index:\n",
    "            self.data.insert(index, val)\n",
    "\n",
    "    def deleteAtIndex(self, index: int) -> None:\n",
    "        if index < len(self.data):\n",
    "            self.data.pop(index)\n",
    "\n",
    "\n",
    "# Your MyLinkedList object will be instantiated and called as such:\n",
    "# obj = MyLinkedList()\n",
    "# param_1 = obj.get(index)\n",
    "# obj.addAtHead(val)\n",
    "# obj.addAtTail(val)\n",
    "# obj.addAtIndex(index,val)\n",
    "# obj.deleteAtIndex(index)"
   ]
  }
 ],
 "metadata": {
  "kernelspec": {
   "display_name": "Python 3 (ipykernel)",
   "language": "python",
   "name": "python3"
  },
  "language_info": {
   "codemirror_mode": {
    "name": "ipython",
    "version": 3
   },
   "file_extension": ".py",
   "mimetype": "text/x-python",
   "name": "python",
   "nbconvert_exporter": "python",
   "pygments_lexer": "ipython3",
   "version": "3.9.13"
  }
 },
 "nbformat": 4,
 "nbformat_minor": 5
}
