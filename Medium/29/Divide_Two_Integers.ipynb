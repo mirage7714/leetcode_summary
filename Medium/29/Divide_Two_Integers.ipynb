{
 "cells": [
  {
   "cell_type": "markdown",
   "metadata": {},
   "source": [
    "# 本題要找出兩數相除後的商為多少\n",
    "原題目連結: https://leetcode.com/problems/divide-two-integers/  \n",
    "\n",
    "Given two integers dividend and divisor, divide two integers without using multiplication, division, and mod operator.  \n",
    "\n",
    "The integer division should truncate toward zero, which means losing its fractional part. For example, 8.345 would be truncated to 8, and -2.7335 would be truncated to -2.  \n",
    "\n",
    "Return the quotient after dividing dividend by divisor.  \n",
    "\n",
    "Note: Assume we are dealing with an environment that could only store integers within the 32-bit signed integer range: [−231, 231 − 1]. For this problem, if the quotient is strictly greater than 231 - 1, then return 231 - 1, and if the quotient is strictly less than -231, then return -231.  \n",
    "\n",
    "範例:  \n",
    "Ex1:  \n",
    "Input: dividend = 10, divisor = 3  \n",
    "Output: 3  \n",
    "Explanation: 10/3 = 3.33333.. which is truncated to 3.  \n",
    "\n",
    "Ex2:  \n",
    "Input: dividend = 7, divisor = -3  \n",
    "Output: -2  \n",
    "Explanation: 7/-3 = -2.33333.. which is truncated to -2."
   ]
  },
  {
   "cell_type": "markdown",
   "metadata": {},
   "source": [
    "* 解題想法:  \n",
    "題目規定不能用上乘法，除法，以及mod的方式，因此需要回歸除法的最基本原則，就是使用減法來進行，首先檢查除數與被除數的正負關係，接著檢查除數是否為1，如果為1的話則直接不用進行計算，接著檢查被除數是否為2的31次方，如果是的話則需要判斷正負，接著開始進行相減，如果被除數大於除數的情況下，用被除數檢去除數，然後將除數相加，直到被除數小於除數再停止，之後重新開始用除數去檢查，最後回傳減去的總次數就是商數"
   ]
  },
  {
   "cell_type": "code",
   "execution_count": null,
   "metadata": {},
   "outputs": [],
   "source": [
    "class Solution:\n",
    "    def divide(self, dividend: int, divisor: int) -> int:\n",
    "        result = 0\n",
    "        d1 = dividend > 0\n",
    "        d2 = divisor > 0\n",
    "        dividend = abs(dividend)\n",
    "        divisor = abs(divisor)\n",
    "        d = divisor\n",
    "        if divisor != 1:\n",
    "\n",
    "            while dividend >= d:\n",
    "                count = 1\n",
    "                divisor = d\n",
    "                while dividend >= divisor:\n",
    "                    result += count\n",
    "                    dividend -= divisor\n",
    "                    divisor += divisor\n",
    "                    count += count\n",
    "                    \n",
    "        else:\n",
    "            if dividend != 2147483648:\n",
    "                result = dividend\n",
    "            else:\n",
    "                result = dividend -1\n",
    "        if d1 != d2:\n",
    "            result = - result\n",
    "            if dividend == 2147483648 and divisor == 1:\n",
    "                result -= 1\n",
    "        return result"
   ]
  }
 ],
 "metadata": {
  "kernelspec": {
   "display_name": "Python 3",
   "language": "python",
   "name": "python3"
  },
  "language_info": {
   "codemirror_mode": {
    "name": "ipython",
    "version": 3
   },
   "file_extension": ".py",
   "mimetype": "text/x-python",
   "name": "python",
   "nbconvert_exporter": "python",
   "pygments_lexer": "ipython3",
   "version": "3.7.4"
  }
 },
 "nbformat": 4,
 "nbformat_minor": 4
}
