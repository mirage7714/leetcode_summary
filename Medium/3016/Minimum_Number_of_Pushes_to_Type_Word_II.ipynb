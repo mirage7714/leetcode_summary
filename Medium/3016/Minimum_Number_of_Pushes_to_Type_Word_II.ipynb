{
 "cells": [
  {
   "cell_type": "markdown",
   "id": "f5b62991-38dd-481a-833e-0d26041a25c5",
   "metadata": {},
   "source": [
    "# 本題要計算出最少的按壓次數是多少 (\\#String, \\#HashMap )\n",
    "原題目連結: https://leetcode.com/problems/minimum-number-of-pushes-to-type-word-ii/description/  \n",
    "\n",
    "You are given a string word containing lowercase English letters.  \n",
    "Telephone keypads have keys mapped with distinct collections of lowercase English letters, which can be used to form words by pushing them. For example, the key 2 is mapped with [\"a\",\"b\",\"c\"], we need to push the key one time to type \"a\", two times to type \"b\", and three times to type \"c\" .  \n",
    "It is allowed to remap the keys numbered 2 to 9 to distinct collections of letters. The keys can be remapped to any amount of letters, but each letter must be mapped to exactly one key. You need to find the minimum number of times the keys will be pushed to type the string word.  \n",
    "Return the minimum number of pushes needed to type word after remapping the keys.  \n",
    "\n",
    "An example mapping of letters to keys on a telephone keypad is given below. Note that 1, *, #, and 0 do not map to any letters.  \n",
    "\n",
    "範例:  \n",
    "Ex1:  \n",
    "Input: word = \"abcde\"  \n",
    "Output: 5  \n",
    "Explanation: The remapped keypad given in the image provides the minimum cost.  \n",
    "\"a\" -> one push on key 2  \n",
    "\"b\" -> one push on key 3  \n",
    "\"c\" -> one push on key 4  \n",
    "\"d\" -> one push on key 5  \n",
    "\"e\" -> one push on key 6  \n",
    "Total cost is 1 + 1 + 1 + 1 + 1 = 5.  \n",
    "It can be shown that no other mapping can provide a lower cost.  \n",
    "\n",
    "Ex2:  \n",
    "Input: word = \"xyzxyzxyzxyz\"  \n",
    "Output: 12  \n",
    "Explanation: The remapped keypad given in the image provides the minimum cost.  \n",
    "\"x\" -> one push on key 2  \n",
    "\"y\" -> one push on key 3  \n",
    "\"z\" -> one push on key 4  \n",
    "Total cost is 1 * 4 + 1 * 4 + 1 * 4 = 12  \n",
    "It can be shown that no other mapping can provide a lower cost.  \n",
    "Note that the key 9 is not mapped to any letter: it is not necessary to map letters to every key, but to map all the letters.  \n",
    "\n",
    "Ex3:  \n",
    "Input: word = \"aabbccddeeffgghhiiiiii\"  \n",
    "Output: 24  \n",
    "Explanation: The remapped keypad given in the image provides the minimum cost.  \n",
    "\"a\" -> one push on key 2  \n",
    "\"b\" -> one push on key 3  \n",
    "\"c\" -> one push on key 4  \n",
    "\"d\" -> one push on key 5  \n",
    "\"e\" -> one push on key 6  \n",
    "\"f\" -> one push on key 7  \n",
    "\"g\" -> one push on key 8  \n",
    "\"h\" -> two pushes on key 9  \n",
    "\"i\" -> one push on key 9  \n",
    "Total cost is 1 * 2 + 1 * 2 + 1 * 2 + 1 * 2 + 1 * 2 + 1 * 2 + 1 * 2 + 2 * 2 + 6 * 1 = 24.  \n",
    "It can be shown that no other mapping can provide a lower cost.  "
   ]
  },
  {
   "cell_type": "markdown",
   "id": "16aa3498-4253-410b-afde-8ff765fe0fa7",
   "metadata": {},
   "source": [
    "* 解題想法:  \n",
    "這題與3014的差異在於這題有重複字母的出現，因此這邊的解法改用dict來統計每個字母出現的次數，接著從最大開始取出8個字母之後定義為按壓一次的字母，並將按壓總次數加總，接著清空之後再重新找出下面8個字母，直到都沒有字母要計算之後回傳總次數就是答案"
   ]
  },
  {
   "cell_type": "code",
   "execution_count": null,
   "id": "f9689d9c-664d-4055-a46d-f7da0d712f87",
   "metadata": {},
   "outputs": [],
   "source": [
    "class Solution:\n",
    "    def minimumPushes(self, word: str) -> int:\n",
    "        count = {}\n",
    "        res = 0\n",
    "        t = []\n",
    "        i = 1\n",
    "        for w in word:\n",
    "            if w not in count.keys():\n",
    "                count[w] = 1\n",
    "            else:\n",
    "                count[w] += 1\n",
    "        val = list(count.values())\n",
    "        val.sort()\n",
    "        while val:\n",
    "            v = val.pop()\n",
    "            if len(t) == 8:\n",
    "                for j in t:\n",
    "                    res += j * i\n",
    "                i += 1\n",
    "                t.clear()\n",
    "            t.append(v)\n",
    "        if t:\n",
    "            for j in t:\n",
    "                res += j * i\n",
    "        return res"
   ]
  }
 ],
 "metadata": {
  "kernelspec": {
   "display_name": "Python 3 (ipykernel)",
   "language": "python",
   "name": "python3"
  },
  "language_info": {
   "codemirror_mode": {
    "name": "ipython",
    "version": 3
   },
   "file_extension": ".py",
   "mimetype": "text/x-python",
   "name": "python",
   "nbconvert_exporter": "python",
   "pygments_lexer": "ipython3",
   "version": "3.9.13"
  }
 },
 "nbformat": 4,
 "nbformat_minor": 5
}
