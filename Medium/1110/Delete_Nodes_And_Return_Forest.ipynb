{
 "cells": [
  {
   "cell_type": "markdown",
   "metadata": {},
   "source": [
    "# 本題要將binary tree照指定的數值分割成多個binary tree (\\#Binary Tree, \\#DFS)\n",
    "原題目連結: https://leetcode.com/problems/delete-nodes-and-return-forest/  \n",
    "\n",
    "Given the root of a binary tree, each node in the tree has a distinct value.  \n",
    "After deleting all nodes with a value in to_delete, we are left with a forest (a disjoint union of trees).  \n",
    "Return the roots of the trees in the remaining forest. You may return the result in any order.  \n",
    "\n",
    "範例:  \n",
    "Ex1:  \n",
    "Input: root = [1,2,3,4,5,6,7], to_delete = [3,5]  \n",
    "Output: [[1,2,null,4],[6],[7]]  \n",
    "\n",
    "Ex2:  \n",
    "Input: root = [1,2,4,null,3], to_delete = [3]  \n",
    "Output: [[1,2,4]]  "
   ]
  },
  {
   "cell_type": "markdown",
   "metadata": {},
   "source": [
    "* 解題想法:  \n",
    "因為要走訪binary tree且如果遇到指定的數值要進行切分，因此這邊使用DFS來進行走訪，在走訪原本的binary tree之後，如果遇到指定的值，則檢查是只需要刪掉該節點，或是需要將後面的值放入暫存中，等待後續進行檢查，最後將檢查過的樹都放入一個list中回傳就是答案"
   ]
  },
  {
   "cell_type": "code",
   "execution_count": null,
   "metadata": {},
   "outputs": [],
   "source": [
    "# Definition for a binary tree node.\n",
    "# class TreeNode:\n",
    "#     def __init__(self, val=0, left=None, right=None):\n",
    "#         self.val = val\n",
    "#         self.left = left\n",
    "#         self.right = right\n",
    "class Solution:\n",
    "    def delNodes(self, root: Optional[TreeNode], to_delete: List[int]) -> List[TreeNode]:\n",
    "        def dfs(node, target):\n",
    "            if node.left:\n",
    "                if node.left.val in target:\n",
    "                    if node.left.left:\n",
    "                        temp.append(node.left.left)\n",
    "                    if node.left.right:\n",
    "                        temp.append(node.left.right)\n",
    "                    node.left = None\n",
    "                else:\n",
    "                    dfs(node.left, target)\n",
    "            if node.right:\n",
    "                if node.right.val in target:\n",
    "                    if node.right.left:\n",
    "                        temp.append(node.right.left)\n",
    "                    if node.right.right:\n",
    "                        temp.append(node.right.right)\n",
    "                    node.right = None\n",
    "                else:\n",
    "                    dfs(node.right, target)\n",
    "        result = []\n",
    "        tree = root\n",
    "        if root:\n",
    "            temp = [tree]\n",
    "            while temp:\n",
    "                r = temp.pop()\n",
    "                if not r.left and not r.right and r.val in to_delete:\n",
    "                    continue\n",
    "                elif (r.left or r.right) and r.val in to_delete:\n",
    "                    if r.left:\n",
    "                        temp.append(r.left)\n",
    "                    if r.right:\n",
    "                        temp.append(r.right)\n",
    "                else:\n",
    "                    dfs(r, to_delete)\n",
    "                    result.append(r)\n",
    "        return result"
   ]
  }
 ],
 "metadata": {
  "kernelspec": {
   "display_name": "Python 3",
   "language": "python",
   "name": "python3"
  },
  "language_info": {
   "codemirror_mode": {
    "name": "ipython",
    "version": 3
   },
   "file_extension": ".py",
   "mimetype": "text/x-python",
   "name": "python",
   "nbconvert_exporter": "python",
   "pygments_lexer": "ipython3",
   "version": "3.7.4"
  }
 },
 "nbformat": 4,
 "nbformat_minor": 4
}
