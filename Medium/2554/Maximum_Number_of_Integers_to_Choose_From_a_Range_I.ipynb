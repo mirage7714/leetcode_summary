{
 "cells": [
  {
   "cell_type": "markdown",
   "id": "911a86c2-899b-470d-a62c-0b0bdc30089e",
   "metadata": {},
   "source": [
    "# 本題要找出在符合指定範圍內且加總小於指定值的最大整數共有幾個 (\\#Array, \\#Heap)\n",
    "原題目連結: https://leetcode.com/problems/maximum-number-of-integers-to-choose-from-a-range-i/description/  \n",
    "\n",
    "You are given an integer array banned and two integers n and maxSum. You are choosing some number of integers following the below rules:  \n",
    "\n",
    "The chosen integers have to be in the range [1, n].  \n",
    "Each integer can be chosen at most once.  \n",
    "The chosen integers should not be in the array banned.  \n",
    "The sum of the chosen integers should not exceed maxSum.  \n",
    "Return the maximum number of integers you can choose following the mentioned rules.  \n",
    "\n",
    "範例:  \n",
    "Ex1:  \n",
    "Input: banned = [1,6,5], n = 5, maxSum = 6  \n",
    "Output: 2  \n",
    "Explanation: You can choose the integers 2 and 4.  \n",
    "2 and 4 are from the range [1, 5], both did not appear in banned, and their sum is 6, which did not exceed maxSum.  \n",
    "\n",
    "Ex2:  \n",
    "Input: banned = [1,2,3,4,5,6,7], n = 8, maxSum = 1  \n",
    "Output: 0  \n",
    "Explanation: You cannot choose any integer while following the mentioned conditions.  \n",
    "\n",
    "Ex3:  \n",
    "Input: banned = [11], n = 7, maxSum = 50  \n",
    "Output: 7  \n",
    "Explanation: You can choose the integers 1, 2, 3, 4, 5, 6, and 7.  \n",
    "They are from the range [1, 7], all did not appear in banned, and their sum is 28, which did not exceed maxSum."
   ]
  },
  {
   "cell_type": "markdown",
   "id": "e4c70b1e-f3bb-4091-8424-8918798bb024",
   "metadata": {},
   "source": [
    "* 解題想法:  \n",
    "首先將banned轉為heap，接著從頭開始檢查，如果加總小於限制並且數值不在banned中的話，則將總和加上數值並將計數+1，如果數值在banned中則更新下一個banned數值，最後回傳計數的值"
   ]
  },
  {
   "cell_type": "code",
   "execution_count": null,
   "id": "97963362-0d23-4b7e-b331-56a7847cabfd",
   "metadata": {},
   "outputs": [],
   "source": [
    "import heapq\n",
    "\n",
    "class Solution:\n",
    "    def maxCount(self, banned: List[int], n: int, maxSum: int) -> int:\n",
    "        count = 0\n",
    "        s = 0\n",
    "        i = 1\n",
    "        heapq.heapify(banned)\n",
    "        b = heapq.heappop(banned)\n",
    "        while s < maxSum and i <= n: \n",
    "            if s + i <= maxSum and i != b:\n",
    "                count += 1\n",
    "                s += i\n",
    "            elif i == b and banned:\n",
    "                while True and banned:\n",
    "                    l = heapq.heappop(banned)\n",
    "                    if l != b:\n",
    "                        b = l\n",
    "                        break\n",
    "            i += 1\n",
    "        return count    "
   ]
  }
 ],
 "metadata": {
  "kernelspec": {
   "display_name": "Python 3 (ipykernel)",
   "language": "python",
   "name": "python3"
  },
  "language_info": {
   "codemirror_mode": {
    "name": "ipython",
    "version": 3
   },
   "file_extension": ".py",
   "mimetype": "text/x-python",
   "name": "python",
   "nbconvert_exporter": "python",
   "pygments_lexer": "ipython3",
   "version": "3.9.13"
  }
 },
 "nbformat": 4,
 "nbformat_minor": 5
}
