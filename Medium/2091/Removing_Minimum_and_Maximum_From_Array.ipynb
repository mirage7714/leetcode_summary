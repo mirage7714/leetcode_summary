{
 "cells": [
  {
   "cell_type": "markdown",
   "metadata": {},
   "source": [
    "# 本題要找出移除最大與最小值需要的最少步數為何\n",
    "原題目連結: https://leetcode.com/problems/removing-minimum-and-maximum-from-array/  \n",
    "\n",
    "You are given a 0-indexed array of distinct integers nums.  \n",
    "\n",
    "There is an element in nums that has the lowest value and an element that has the highest value. We call them the minimum and maximum respectively. Your goal is to remove both these elements from the array.  \n",
    "\n",
    "A deletion is defined as either removing an element from the front of the array or removing an element from the back of the array.  \n",
    "Return the minimum number of deletions it would take to remove both the minimum and maximum element from the array.  \n",
    "\n",
    "範例:  \n",
    "Ex1:  \n",
    "Input: nums = [2,10,7,5,4,1,8,6]  \n",
    "Output: 5  \n",
    "Explanation:   \n",
    "The minimum element in the array is nums[5], which is 1.  \n",
    "The maximum element in the array is nums[1], which is 10.  \n",
    "We can remove both the minimum and maximum by removing 2 elements from the front and 3 elements from the back.  \n",
    "This results in 2 + 3 = 5 deletions, which is the minimum number possible.  \n",
    "\n",
    "Ex2:  \n",
    "Input: nums = [0,-4,19,1,8,-2,-3,5]  \n",
    "Output: 3  \n",
    "Explanation:   \n",
    "The minimum element in the array is nums[1], which is -4.  \n",
    "The maximum element in the array is nums[2], which is 19.  \n",
    "We can remove both the minimum and maximum by removing 3 elements from the front.  \n",
    "This results in only 3 deletions, which is the minimum number possible.  \n",
    "\n",
    "Ex3:  \n",
    "Input: nums = [101]  \n",
    "Output: 1  \n",
    "Explanation:    \n",
    "There is only one element in the array, which makes it both the minimum and maximum element.  \n",
    "We can remove it with 1 deletion."
   ]
  },
  {
   "cell_type": "markdown",
   "metadata": {},
   "source": [
    "* 解題想法:  \n",
    "首先要找出最大值與最小值的index值分別為何，接著考慮以下四種情境:  \n",
    "1. 都從左邊計算: 找出兩個index中的最大值  \n",
    "2. 都從右邊計算: 找出兩個index中的最小值，並用list的長度去減去這個值  \n",
    "3. 左右兩邊都列入計算: 可分為最大值在左側與最小值在左側的兩種情況，並算出需要的距離  \n",
    "最後找出這幾種情境的最小值為何，就是題目要找的答案"
   ]
  },
  {
   "cell_type": "code",
   "execution_count": null,
   "metadata": {},
   "outputs": [],
   "source": [
    "class Solution:\n",
    "    def minimumDeletions(self, nums: List[int]) -> int:\n",
    "        result = 0\n",
    "        if len(nums) == 1:\n",
    "            result = 1\n",
    "        else:\n",
    "            small = nums.index(min(nums)) +1\n",
    "            big = nums.index(max(nums)) +1\n",
    "            size = len(nums)\n",
    "            c1 = max(small, big)\n",
    "            c2 = size - min(big, small)+1\n",
    "            c3 = small + (size - big+1)\n",
    "            c4 = big + (size - small+1)\n",
    "            result = min(c1, c2, c3, c4)\n",
    "        return result"
   ]
  }
 ],
 "metadata": {
  "kernelspec": {
   "display_name": "Python 3",
   "language": "python",
   "name": "python3"
  },
  "language_info": {
   "codemirror_mode": {
    "name": "ipython",
    "version": 3
   },
   "file_extension": ".py",
   "mimetype": "text/x-python",
   "name": "python",
   "nbconvert_exporter": "python",
   "pygments_lexer": "ipython3",
   "version": "3.7.4"
  }
 },
 "nbformat": 4,
 "nbformat_minor": 4
}
