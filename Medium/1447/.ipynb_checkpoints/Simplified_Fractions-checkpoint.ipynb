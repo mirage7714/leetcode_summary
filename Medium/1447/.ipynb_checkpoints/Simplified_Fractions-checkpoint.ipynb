{
 "cells": [
  {
   "cell_type": "markdown",
   "metadata": {},
   "source": [
    "# 本題要找出符合題目要求的最簡分數共有多少\n",
    "原題目連結：https://leetcode.com/problems/simplified-fractions/  \n",
    "\n",
    "Given an integer n, return a list of all simplified fractions between 0 and 1 (exclusive) such that the denominator is less-than-or-equal-to n. The fractions can be in any order.  \n",
    "\n",
    "範例：\n",
    "Ex1:  \n",
    "Input: n = 2  \n",
    "Output: [\"1/2\"]  \n",
    "Explanation: \"1/2\" is the only unique fraction with a denominator less-than-or-equal-to 2.  \n",
    "\n",
    "Ex2:  \n",
    "Input: n = 3  \n",
    "Output: [\"1/2\",\"1/3\",\"2/3\"]  \n",
    "\n",
    "Ex3:  \n",
    "Input: n = 4  \n",
    "Output: [\"1/2\",\"1/3\",\"1/4\",\"2/3\",\"3/4\"]  \n",
    "Explanation: \"2/4\" is not a simplified fraction because it can be simplified to \"1/2\".  \n",
    "\n",
    "Ex4:  \n",
    "Input: n = 1  \n",
    "Output: []"
   ]
  },
  {
   "cell_type": "markdown",
   "metadata": {},
   "source": [
    "* 解題想法：  \n",
    "由於題目要求只能有最簡分數，因此在建立分數的時候，需要檢查分母與分子是否有相同的因數，如果沒有則為最簡分數並加入list中  \n",
    "否則就跳過繼續檢查下一組，最後將list回傳就是答案"
   ]
  },
  {
   "cell_type": "code",
   "execution_count": null,
   "metadata": {},
   "outputs": [],
   "source": [
    "class Solution:\n",
    "    def simplifiedFractions(self, n: int) -> List[str]:\n",
    "        result = []\n",
    "        for m in range(2, n+1):\n",
    "            for l in range(1, m):\n",
    "                if m % l != 0:\n",
    "                    is_valid = True\n",
    "                    for a in range(2,int(m/2)):\n",
    "                        if m % a == 0 and l % a == 0:\n",
    "                            is_valid = False\n",
    "                            break\n",
    "                    if is_valid:\n",
    "                        result.append('{}/{}'.format(l, m))\n",
    "                elif l == 1:\n",
    "                    result.append('1/{}'.format(m))\n",
    "        return result"
   ]
  }
 ],
 "metadata": {
  "kernelspec": {
   "display_name": "Python 3",
   "language": "python",
   "name": "python3"
  },
  "language_info": {
   "codemirror_mode": {
    "name": "ipython",
    "version": 3
   },
   "file_extension": ".py",
   "mimetype": "text/x-python",
   "name": "python",
   "nbconvert_exporter": "python",
   "pygments_lexer": "ipython3",
   "version": "3.7.6"
  }
 },
 "nbformat": 4,
 "nbformat_minor": 4
}
