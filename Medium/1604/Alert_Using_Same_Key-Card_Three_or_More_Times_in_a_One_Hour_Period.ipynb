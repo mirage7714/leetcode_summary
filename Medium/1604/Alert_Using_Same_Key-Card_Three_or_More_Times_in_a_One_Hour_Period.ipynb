{
 "cells": [
  {
   "cell_type": "markdown",
   "metadata": {},
   "source": [
    "# 本題要判斷是否有一小時內登入三次以上的情況\n",
    "原題目連結: https://leetcode.com/problems/alert-using-same-key-card-three-or-more-times-in-a-one-hour-period/  \n",
    "\n",
    "LeetCode company workers use key-cards to unlock office doors. Each time a worker uses their key-card, the security system saves the worker's name and the time when it was used. The system emits an alert if any worker uses the key-card three or more times in a one-hour period.  \n",
    "\n",
    "You are given a list of strings keyName and keyTime where [keyName[i], keyTime[i]] corresponds to a person's name and the time when their key-card was used in a single day.  \n",
    "\n",
    "Access times are given in the 24-hour time format \"HH:MM\", such as \"23:51\" and \"09:49\".  \n",
    "\n",
    "Return a list of unique worker names who received an alert for frequent keycard use. Sort the names in ascending order alphabetically.  \n",
    "\n",
    "Notice that \"10:00\" - \"11:00\" is considered to be within a one-hour period, while \"22:51\" - \"23:52\" is not considered to be within a one-hour period.  \n",
    "\n",
    "範例\"  \n",
    "Ex1:  \n",
    "Input: keyName = [\"daniel\",\"daniel\",\"daniel\",\"luis\",\"luis\",\"luis\",\"luis\"], keyTime = [\"10:00\",\"10:40\",\"11:00\",\"09:00\",\"11:00\",\"13:00\",\"15:00\"]  \n",
    "Output: [\"daniel\"]  \n",
    "Explanation: \"daniel\" used the keycard 3 times in a one-hour period (\"10:00\",\"10:40\", \"11:00\").  \n",
    "\n",
    "Ex2:  \n",
    "Input: keyName = [\"alice\",\"alice\",\"alice\",\"bob\",\"bob\",\"bob\",\"bob\"], keyTime = [\"12:01\",\"12:00\",\"18:00\",\"21:00\",\"21:20\",\"21:30\",\"23:00\"]  \n",
    "Output: [\"bob\"]  \n",
    "Explanation: \"bob\" used the keycard 3 times in a one-hour period (\"21:00\",\"21:20\", \"21:30\").  \n",
    "\n",
    "Ex3:  \n",
    "Input: keyName = [\"john\",\"john\",\"john\"], keyTime = [\"23:58\",\"23:59\",\"00:01\"]  \n",
    "Output: []  \n",
    "\n",
    "Ex4:  \n",
    "Input: keyName = [\"leslie\",\"leslie\",\"leslie\",\"clare\",\"clare\",\"clare\",\"clare\"], keyTime = [\"13:00\",\"13:20\",\"14:00\",\"18:00\",\"18:51\",\"19:30\",\"19:49\"]  \n",
    "Output: [\"clare\",\"leslie\"]"
   ]
  },
  {
   "cell_type": "markdown",
   "metadata": {},
   "source": [
    "* 解題想法:  \n",
    "依題目說明，首先判斷帳號出現的次數是否有超過三次，如果有則繼續判斷第n個與第n+2個時間是否為同一小時，如果是則為同一小時內，如果不是則將時間轉換為分鐘數，並檢查第n個時間與第n+2個時間相差是否小於或等於60分鐘，如果是則為同一小時內，另外要注意的是，題目要求為同一天內，因此23時與0時視為不連續的情況"
   ]
  },
  {
   "cell_type": "code",
   "execution_count": null,
   "metadata": {},
   "outputs": [],
   "source": [
    "class Solution:\n",
    "    def alertNames(self, keyName: List[str], keyTime: List[str]) -> List[str]:\n",
    "        def isValid(name, times):\n",
    "            is_valid = False\n",
    "            if len(times) >= 3:\n",
    "                for n in range(len(times)-2):\n",
    "                    h1 = times[n].split(':')[0]\n",
    "                    h3 = times[n+2].split(':')[0]\n",
    "                    if h1 == h3:\n",
    "                        is_valid = True\n",
    "                        break\n",
    "                    elif h1 == '23':\n",
    "                        if h3 != '00':\n",
    "                            is_valid = True\n",
    "                            break\n",
    "                    else: \n",
    "                        t1 = convertTime(times[n])\n",
    "                        t3 = convertTime(times[n+2])\n",
    "                        if t3 - t1 <= 60:\n",
    "                            is_valid = True\n",
    "                            break\n",
    "            return is_valid\n",
    "        \n",
    "        def convertTime(t):\n",
    "            h = t.split(':')[0]\n",
    "            m = t.split(':')[1]\n",
    "            total = int(h) * 60 + int(m)\n",
    "            return total\n",
    "        \n",
    "        freq = {}\n",
    "        result = []\n",
    "        for n in range(len(keyName)):\n",
    "            if keyName[n] not in freq.keys():\n",
    "                freq[keyName[n]] = [keyTime[n]]\n",
    "            else:\n",
    "                freq[keyName[n]].append(keyTime[n])\n",
    "        for key, val in freq.items():\n",
    "            val.sort()\n",
    "            if isValid(key, val):\n",
    "                result.append(key)\n",
    "        result.sort()\n",
    "        return result"
   ]
  }
 ],
 "metadata": {
  "kernelspec": {
   "display_name": "Python 3",
   "language": "python",
   "name": "python3"
  },
  "language_info": {
   "codemirror_mode": {
    "name": "ipython",
    "version": 3
   },
   "file_extension": ".py",
   "mimetype": "text/x-python",
   "name": "python",
   "nbconvert_exporter": "python",
   "pygments_lexer": "ipython3",
   "version": "3.7.4"
  }
 },
 "nbformat": 4,
 "nbformat_minor": 2
}
