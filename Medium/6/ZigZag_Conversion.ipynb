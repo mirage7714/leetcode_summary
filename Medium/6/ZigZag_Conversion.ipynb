{
 "cells": [
  {
   "cell_type": "markdown",
   "metadata": {},
   "source": [
    "# 本題要將指定的字串改成蛇行的方式進行排序\n",
    "原題目連結: https://leetcode.com/problems/zigzag-conversion/  \n",
    "\n",
    "The string \"PAYPALISHIRING\" is written in a zigzag pattern on a given number of rows like this: (you may want to display this pattern in a fixed font for better legibility)  \n",
    "\n",
    "P   A   H   N  \n",
    "A P L S I I G  \n",
    "Y   I   R  \n",
    "And then read line by line: \"PAHNAPLSIIGYIR\"  \n",
    "\n",
    "Write the code that will take a string and make this conversion given a number of rows:  \n",
    "\n",
    "string convert(string s, int numRows);  \n",
    "\n",
    "範例:  \n",
    "Ex1:  \n",
    "Input: s = \"PAYPALISHIRING\", numRows = 3  \n",
    "Output: \"PAHNAPLSIIGYIR\"  \n",
    "\n",
    "Ex2:  \n",
    "Input: s = \"PAYPALISHIRING\", numRows = 4  \n",
    "Output: \"PINALSIGYAHRPI\"  \n",
    "Explanation:  \n",
    "P     I    N  \n",
    "A   L S  I G  \n",
    "Y A   H R  \n",
    "P     I  \n",
    "\n",
    "Ex3:  \n",
    "Input: s = \"A\", numRows = 1  \n",
    "Output: \"A\""
   ]
  },
  {
   "cell_type": "markdown",
   "metadata": {},
   "source": [
    "* 解題想法:  \n",
    "依題目說明，首先需要找出一個循環內共會用到多少的字，以及重新排序後的邏輯，可以發現一個循環是用了2 x (numRows-1)個字母  \n",
    "接著將一個循環內會出現的字母找出，首先判斷小於numRows時，將字母依序放入一個dict中，並在大於numRows時反向放回dict中，最後將dict中所有的value串起來就是答案\n",
    "另外如果s長度小於numRows，或是numRows等於1時，則直接回傳s"
   ]
  },
  {
   "cell_type": "code",
   "execution_count": null,
   "metadata": {},
   "outputs": [],
   "source": [
    "class Solution:\n",
    "    def convert(self, s: str, numRows: int) -> str:\n",
    "        freq = {}\n",
    "        result = ''\n",
    "        if len(s) > numRows and numRows > 1:\n",
    "            r = 2 * (numRows-1)\n",
    "            for m in range(0, len(s), r):\n",
    "                p = s[m:m+r]\n",
    "                i = 0\n",
    "                for n in range(len(p)):\n",
    "                    if n < numRows :\n",
    "                        i += 1\n",
    "                        if n not in freq.keys():\n",
    "                            freq[n] = p[n]\n",
    "                        else:\n",
    "                            freq[n] += p[n]\n",
    "                    else:\n",
    "                        if i == numRows:\n",
    "                            i -= 2\n",
    "                        else:\n",
    "                            i -= 1\n",
    "                        freq[i] += p[n]\n",
    "            for l in range(numRows):\n",
    "                result += freq[l]\n",
    "        else:\n",
    "            result = s\n",
    "        return result"
   ]
  }
 ],
 "metadata": {
  "kernelspec": {
   "display_name": "Python 3",
   "language": "python",
   "name": "python3"
  },
  "language_info": {
   "codemirror_mode": {
    "name": "ipython",
    "version": 3
   },
   "file_extension": ".py",
   "mimetype": "text/x-python",
   "name": "python",
   "nbconvert_exporter": "python",
   "pygments_lexer": "ipython3",
   "version": "3.7.4"
  }
 },
 "nbformat": 4,
 "nbformat_minor": 4
}
