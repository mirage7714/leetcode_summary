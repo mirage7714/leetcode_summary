{
 "cells": [
  {
   "cell_type": "markdown",
   "metadata": {},
   "source": [
    "# 本題要實作一個可以計算出prefix相同的數值總和為多少\n",
    "原題目連結: https://leetcode.com/problems/map-sum-pairs/  \n",
    "\n",
    "Design a map that allows you to do the following:  \n",
    "\n",
    "Maps a string key to a given value.  \n",
    "Returns the sum of the values that have a key with a prefix equal to a given string.  \n",
    "Implement the MapSum class:  \n",
    "\n",
    "MapSum() Initializes the MapSum object.  \n",
    "void insert(String key, int val) Inserts the key-val pair into the map. If the key already existed, the original key-value pair will be overridden to the new one.  \n",
    "int sum(string prefix) Returns the sum of all the pairs' value whose key starts with the prefix.  \n",
    "\n",
    "範例:  \n",
    "Ex1:  \n",
    "Input  \n",
    "[\"MapSum\", \"insert\", \"sum\", \"insert\", \"sum\"]  \n",
    "[[], [\"apple\", 3], [\"ap\"], [\"app\", 2], [\"ap\"]]  \n",
    "Output  \n",
    "[null, null, 3, null, 5]  \n",
    "\n",
    "Explanation  \n",
    "MapSum mapSum = new MapSum();  \n",
    "mapSum.insert(\"apple\", 3);    \n",
    "mapSum.sum(\"ap\");           // return 3 (apple = 3)  \n",
    "mapSum.insert(\"app\", 2);      \n",
    "mapSum.sum(\"ap\");           // return 5 (apple + app = 3 + 2 = 5)  "
   ]
  },
  {
   "cell_type": "markdown",
   "metadata": {},
   "source": [
    "* 解題想法:  \n",
    "首先建立一個dict來存放所有的key值，另外一個dict用來存放所有的data，接著開始實作題目要求的功能:  \n",
    "- insert(): 檢查key值是否存在於key值的dict中，如果不存在則將字首作為key值，並將key值放入list中做為value，如果存在的話則檢查key值是否已經存在，如果不存在則放入list中，最後將val放入data的dict中  \n",
    "- sum(): 檢查prefix的字首是否存在於key值中，如果存在則檢查有多少key是符合prefix開頭的情況，並將數值總和加入total中，最後回傳total"
   ]
  },
  {
   "cell_type": "code",
   "execution_count": null,
   "metadata": {},
   "outputs": [],
   "source": [
    "class MapSum:\n",
    "\n",
    "    def __init__(self):\n",
    "        self.keys = {}\n",
    "        self.data = {}\n",
    "\n",
    "    def insert(self, key: str, val: int) -> None:\n",
    "        if key[0] not in self.keys.keys():\n",
    "            self.keys[key[0]] = [key]\n",
    "        else:\n",
    "            if key not in self.keys[key[0]]:\n",
    "                self.keys[key[0]].append(key)\n",
    "        self.data[key] = val\n",
    "            \n",
    "    def sum(self, prefix: str) -> int:\n",
    "        total = 0\n",
    "        if prefix[0] in self.keys.keys():\n",
    "            for k in self.keys[prefix[0]]:\n",
    "                if k.startswith(prefix):\n",
    "                    total += self.data[k]\n",
    "        return total\n",
    "            \n",
    "\n",
    "# Your MapSum object will be instantiated and called as such:\n",
    "# obj = MapSum()\n",
    "# obj.insert(key,val)\n",
    "# param_2 = obj.sum(prefix)"
   ]
  }
 ],
 "metadata": {
  "kernelspec": {
   "display_name": "Python 3",
   "language": "python",
   "name": "python3"
  },
  "language_info": {
   "codemirror_mode": {
    "name": "ipython",
    "version": 3
   },
   "file_extension": ".py",
   "mimetype": "text/x-python",
   "name": "python",
   "nbconvert_exporter": "python",
   "pygments_lexer": "ipython3",
   "version": "3.7.4"
  }
 },
 "nbformat": 4,
 "nbformat_minor": 4
}
