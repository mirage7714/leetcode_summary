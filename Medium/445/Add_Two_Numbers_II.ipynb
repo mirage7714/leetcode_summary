{
 "cells": [
  {
   "cell_type": "markdown",
   "metadata": {},
   "source": [
    "# 本題要將兩個linked list內的數值相加後，回傳一個新的linked list\n",
    "原題目連結: https://leetcode.com/problems/add-two-numbers-ii/  \n",
    "\n",
    "You are given two non-empty linked lists representing two non-negative integers. The most significant digit comes first and each of their nodes contains a single digit. Add the two numbers and return the sum as a linked list.  \n",
    "\n",
    "You may assume the two numbers do not contain any leading zero, except the number 0 itself  \n",
    "\n",
    "範例:  \n",
    "Ex1:  \n",
    "Input: l1 = [7,2,4,3], l2 = [5,6,4]  \n",
    "Output: [7,8,0,7]  \n",
    "\n",
    "Ex2:  \n",
    "Input: l1 = [2,4,3], l2 = [5,6,4]  \n",
    "Output: [8,0,7]  \n",
    "\n",
    "Ex3:  \n",
    "Input: l1 = [0], l2 = [0]  \n",
    "Output: [0]"
   ]
  },
  {
   "cell_type": "markdown",
   "metadata": {},
   "source": [
    "* 解題想法:  \n",
    "首先將linked list中的數值取出後轉換成整數，接著將兩個數值相加後重新轉換回linked list並回傳"
   ]
  },
  {
   "cell_type": "code",
   "execution_count": null,
   "metadata": {},
   "outputs": [],
   "source": [
    "# Definition for singly-linked list.\n",
    "# class ListNode:\n",
    "#     def __init__(self, val=0, next=None):\n",
    "#         self.val = val\n",
    "#         self.next = next\n",
    "class Solution:\n",
    "    def addTwoNumbers(self, l1: ListNode, l2: ListNode) -> ListNode:\n",
    "        def getNum(val):\n",
    "            s = len(val)\n",
    "            total = 0\n",
    "            i = 0\n",
    "            for l in range(s-1, -1, -1):\n",
    "                total += val[l] * pow(10, i)\n",
    "                i += 1\n",
    "            return total\n",
    "        \n",
    "        val1 = []\n",
    "        val2 = []\n",
    "        result = ListNode(0)\n",
    "        temp = result\n",
    "        while l1:\n",
    "            val1.append(l1.val)\n",
    "            l1 = l1.next\n",
    "        while l2:\n",
    "            val2.append(l2.val)\n",
    "            l2 = l2.next\n",
    "        total = getNum(val1) + getNum(val2)\n",
    "        for l in range(len(str(total))):\n",
    "            n = ListNode()\n",
    "            n.val = int(str(total)[l])\n",
    "            temp.next = n\n",
    "            temp = temp.next\n",
    "        return result.next"
   ]
  }
 ],
 "metadata": {
  "kernelspec": {
   "display_name": "Python 3",
   "language": "python",
   "name": "python3"
  },
  "language_info": {
   "codemirror_mode": {
    "name": "ipython",
    "version": 3
   },
   "file_extension": ".py",
   "mimetype": "text/x-python",
   "name": "python",
   "nbconvert_exporter": "python",
   "pygments_lexer": "ipython3",
   "version": "3.7.4"
  }
 },
 "nbformat": 4,
 "nbformat_minor": 4
}
