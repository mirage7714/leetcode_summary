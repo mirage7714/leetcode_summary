{
 "cells": [
  {
   "cell_type": "markdown",
   "metadata": {},
   "source": [
    "# 本題要找出binary tree中那些路徑是符合palindromic的\n",
    "原題目連結: https://leetcode.com/problems/pseudo-palindromic-paths-in-a-binary-tree/  \n",
    "\n",
    "Given a binary tree where node values are digits from 1 to 9. A path in the binary tree is said to be pseudo-palindromic if at least one permutation of the node values in the path is a palindrome.  \n",
    "Return the number of pseudo-palindromic paths going from the root node to leaf nodes.  \n",
    "\n",
    "範例:  \n",
    "Ex1:  \n",
    "Input: root = [2,3,1,3,1,null,1]  \n",
    "Output: 2   \n",
    "Explanation: The figure above represents the given binary tree. There are three paths going from the root node to leaf nodes: the red path [2,3,3], the green path [2,1,1], and the path [2,3,1]. Among these paths only red path and green path are pseudo-palindromic paths since the red path [2,3,3] can be rearranged in [3,2,3] (palindrome) and the green path [2,1,1] can be rearranged in [1,2,1] (palindrome).  \n",
    "\n",
    "Ex2:  \n",
    "Input: root = [2,1,1,1,3,null,null,null,null,null,1]  \n",
    "Output: 1   \n",
    "Explanation: The figure above represents the given binary tree. There are three paths going from the root node to leaf nodes: the green path [2,1,1], the path [2,1,3,1], and the path [2,1]. Among these paths only the green path is pseudo-palindromic since [2,1,1] can be rearranged in [1,2,1] (palindrome).  \n",
    "\n",
    "Ex3:  \n",
    "Input: root = [9]  \n",
    "Output: 1"
   ]
  },
  {
   "cell_type": "markdown",
   "metadata": {},
   "source": [
    "* 解題想法:  \n",
    "要找出路徑上的所有數值，需要使用DFS來進行走訪binary tree，首先建立一個dfs的函數，並將node的數值放入一個由9個0組成的字串，分別代表1-9的數字共有多少個，在到達最後的節點時，用另一個函數來檢查這個字串是否可以組成palindromic，如果是則回傳True，並在result的list中放入一個值，最後回傳result的長度就是解答  \n",
    "\n",
    "- Note: 如果直接把path上節點的數值直接串成字串，會導致Memory Limit Exceed錯誤，因為有一個case中有很長的節點，會超出記憶體的上限，所以需要轉換成1-9的統計值才能順利通過"
   ]
  },
  {
   "cell_type": "code",
   "execution_count": null,
   "metadata": {},
   "outputs": [],
   "source": [
    "# Definition for a binary tree node.\n",
    "# class TreeNode:\n",
    "#     def __init__(self, val=0, left=None, right=None):\n",
    "#         self.val = val\n",
    "#         self.left = left\n",
    "#         self.right = right\n",
    "class Solution:\n",
    "    def pseudoPalindromicPaths (self, root: Optional[TreeNode]) -> int:\n",
    "        def checkPali(chars):\n",
    "            p = chars.split(',')\n",
    "            count = 0\n",
    "            for c in p:\n",
    "                if int(c) % 2 != 0:\n",
    "                    count += 1\n",
    "                    if count > 1:\n",
    "                        return False\n",
    "            return True\n",
    "        \n",
    "        def dfs(node, res):\n",
    "            p = res.split(',')\n",
    "            p[node.val-1] = '1' if p[node.val-1] == '0' else '0'\n",
    "            res = ','.join(p)\n",
    "            if not node.left and not node.right: \n",
    "                if checkPali(res):\n",
    "                    result.append(1)\n",
    "            if node.left:\n",
    "                dfs(node.left, res)\n",
    "            if node.right:\n",
    "                dfs(node.right, res)\n",
    "        result = []\n",
    "        if root:\n",
    "            dfs(root, '0,0,0,0,0,0,0,0,0')\n",
    "        return len(result)"
   ]
  }
 ],
 "metadata": {
  "kernelspec": {
   "display_name": "Python 3",
   "language": "python",
   "name": "python3"
  },
  "language_info": {
   "codemirror_mode": {
    "name": "ipython",
    "version": 3
   },
   "file_extension": ".py",
   "mimetype": "text/x-python",
   "name": "python",
   "nbconvert_exporter": "python",
   "pygments_lexer": "ipython3",
   "version": "3.7.4"
  }
 },
 "nbformat": 4,
 "nbformat_minor": 4
}
