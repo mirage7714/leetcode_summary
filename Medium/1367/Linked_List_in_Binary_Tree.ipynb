{
 "cells": [
  {
   "cell_type": "markdown",
   "metadata": {},
   "source": [
    "# 本題要判斷linked list的值是否在binary tree的路徑中有出現過 (\\#Binary Tree, \\#Linked List )\n",
    "原題目連結: https://leetcode.com/problems/linked-list-in-binary-tree/  \n",
    "\n",
    "Given a binary tree root and a linked list with head as the first node.   \n",
    "Return True if all the elements in the linked list starting from the head correspond to some downward path connected in the binary tree otherwise return False.  \n",
    "In this context downward path means a path that starts at some node and goes downwards.  \n",
    "\n",
    "範例:  \n",
    "Ex1:  \n",
    "Input: head = [4,2,8], root = [1,4,4,null,2,2,null,1,null,6,8,null,null,null,null,1,3]  \n",
    "Output: true  \n",
    "Explanation: Nodes in blue form a subpath in the binary Tree.    \n",
    "\n",
    "Ex2:  \n",
    "Input: head = [1,4,2,6], root = [1,4,4,null,2,2,null,1,null,6,8,null,null,null,null,1,3]  \n",
    "Output: true  \n",
    "\n",
    "Ex3:  \n",
    "Input: head = [1,4,2,6,8], root = [1,4,4,null,2,2,null,1,null,6,8,null,null,null,null,1,3]  \n",
    "Output: false  \n",
    "Explanation: There is no path in the binary tree that contains all the elements of the linked list from head."
   ]
  },
  {
   "cell_type": "markdown",
   "metadata": {},
   "source": [
    "* 解題想法:  \n",
    "首先將linked list中的數值取出，並轉換成字串，接著用dfs的方式來走訪binary tree，並檢查在路徑上是否有包含這個字串，如果有則將val中的值改成1，最後如果val中的值為0則回傳False，否則回傳True"
   ]
  },
  {
   "cell_type": "code",
   "execution_count": null,
   "metadata": {},
   "outputs": [],
   "source": [
    "# Definition for singly-linked list.\n",
    "# class ListNode:\n",
    "#     def __init__(self, val=0, next=None):\n",
    "#         self.val = val\n",
    "#         self.next = next\n",
    "# Definition for a binary tree node.\n",
    "# class TreeNode:\n",
    "#     def __init__(self, val=0, left=None, right=None):\n",
    "#         self.val = val\n",
    "#         self.left = left\n",
    "#         self.right = right\n",
    "class Solution:\n",
    "    def isSubPath(self, head: Optional[ListNode], root: Optional[TreeNode]) -> bool:\n",
    "        \n",
    "        def dfs(node, res, ls):\n",
    "            if not node.left and not node.right:\n",
    "                res += str(node.val)\n",
    "                if ls in res:\n",
    "                    val[0] = 1\n",
    "            res += str(node.val) + ','\n",
    "            if node.left:\n",
    "                dfs(node.left, res, ls)\n",
    "            if node.right:\n",
    "                dfs(node.right, res, ls)\n",
    "        \n",
    "        ls = ''\n",
    "        val = [0]\n",
    "        while head:\n",
    "            ls += str(head.val) + ','\n",
    "            head = head.next\n",
    "        if root:\n",
    "            dfs(root, '', ls[:-1])\n",
    "        if val[0] == 1:\n",
    "             return True\n",
    "        return False"
   ]
  }
 ],
 "metadata": {
  "kernelspec": {
   "display_name": "Python 3",
   "language": "python",
   "name": "python3"
  },
  "language_info": {
   "codemirror_mode": {
    "name": "ipython",
    "version": 3
   },
   "file_extension": ".py",
   "mimetype": "text/x-python",
   "name": "python",
   "nbconvert_exporter": "python",
   "pygments_lexer": "ipython3",
   "version": "3.7.4"
  }
 },
 "nbformat": 4,
 "nbformat_minor": 4
}
