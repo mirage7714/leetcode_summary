{
 "cells": [
  {
   "cell_type": "markdown",
   "metadata": {},
   "source": [
    "# 本題目要找出指定的數字是否有在2D array中\n",
    "原題目連結: https://leetcode.com/problems/search-a-2d-matrix-ii/  \n",
    "\n",
    "Write an efficient algorithm that searches for a value in an m x n matrix. This matrix has the following properties:  \n",
    "\n",
    "Integers in each row are sorted in ascending from left to right.  \n",
    "Integers in each column are sorted in ascending from top to bottom.  \n",
    "\n",
    "範例:  \n",
    "Ex1:\n",
    "Input:  \n",
    "[  \n",
    "  [1,   4,  7, 11, 15],  \n",
    "  [2,   5,  8, 12, 19],  \n",
    "  [3,   6,  9, 16, 22],  \n",
    "  [10, 13, 14, 17, 24],  \n",
    "  [18, 21, 23, 26, 30]  \n",
    "],  \n",
    "n = 5  \n",
    "Output = True  \n",
    "\n",
    "Ex2:  \n",
    "Input:  \n",
    "[  \n",
    "  [1,   4,  7, 11, 15],  \n",
    "  [2,   5,  8, 12, 19],  \n",
    "  [3,   6,  9, 16, 22],  \n",
    "  [10, 13, 14, 17, 24],  \n",
    "  [18, 21, 23, 26, 30]  \n",
    "],  \n",
    "n = 20  \n",
    "Output = False "
   ]
  },
  {
   "cell_type": "markdown",
   "metadata": {},
   "source": [
    "* 解題想法:  \n",
    "由於題目只有說每個list都有做排序，另外上下也有做排序(但好像不是很有幫助)，因此一樣先判斷最後的數字是否有大於題目要求的數字，如果有的話再去判斷第一個數字是否有小於題目的要求，如果有的話再進行搜尋，如果沒有的話就跳過，最後回傳檢查的結果  \n",
    "這題要求的結果跟另一題No.74有點像，但這題的排序跟74題並不相同，所以作法上也稍微有一些不同"
   ]
  },
  {
   "cell_type": "code",
   "execution_count": null,
   "metadata": {},
   "outputs": [],
   "source": [
    "class Solution:\n",
    "    def searchMatrix(self, matrix, target):\n",
    "        \"\"\"\n",
    "        :type matrix: List[List[int]]\n",
    "        :type target: int\n",
    "        :rtype: bool\n",
    "        \"\"\"\n",
    "        is_exist = False\n",
    "        for m in range(len(matrix)):\n",
    "            if len(matrix[m]) > 0:\n",
    "                if matrix[m][-1] >= target:\n",
    "                    if matrix[m][0] <= target:\n",
    "                        if target in matrix[m]:\n",
    "                            is_exist = True\n",
    "                            break\n",
    "        return is_exist"
   ]
  }
 ],
 "metadata": {
  "kernelspec": {
   "display_name": "Python 3",
   "language": "python",
   "name": "python3"
  },
  "language_info": {
   "codemirror_mode": {
    "name": "ipython",
    "version": 3
   },
   "file_extension": ".py",
   "mimetype": "text/x-python",
   "name": "python",
   "nbconvert_exporter": "python",
   "pygments_lexer": "ipython3",
   "version": "3.7.4"
  }
 },
 "nbformat": 4,
 "nbformat_minor": 2
}
