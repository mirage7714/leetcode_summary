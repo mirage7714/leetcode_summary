{
 "cells": [
  {
   "cell_type": "markdown",
   "id": "585cff16-5710-4ac5-9d52-58220e6c67fb",
   "metadata": {},
   "source": [
    "# 本題要判斷binary tree是否為完整的狀態 (\\#Binary Tree, \\#BFS) \n",
    "原題目連結: https://leetcode.com/problems/check-completeness-of-a-binary-tree/description/  \n",
    "\n",
    "Given the root of a binary tree, determine if it is a complete binary tree.  \n",
    "\n",
    "In a complete binary tree, every level, except possibly the last, is completely filled, and all nodes in the last level are as far left as possible. It can have between 1 and 2h nodes inclusive at the last level h.  \n",
    "\n",
    "範例:  \n",
    "Ex1:  \n",
    "Input: root = [1,2,3,4,5,6]  \n",
    "Output: true  \n",
    "Explanation: Every level before the last is full (ie. levels with node-values {1} and {2, 3}), and all nodes in the last level ({4, 5, 6}) are as far left as possible.  \n",
    "\n",
    "Ex2:  \n",
    "Input: root = [1,2,3,4,5,null,7]  \n",
    "Output: false  \n",
    "Explanation: The node with value 7 isn't as far left as possible."
   ]
  },
  {
   "cell_type": "markdown",
   "id": "f93d9395-7ded-4236-a65f-af1b9a65c454",
   "metadata": {},
   "source": [
    "* 解題想法:  \n",
    "首先計算目前的層數，就可以知道最多有多少節點，接著用BFS的方式進行走訪，如果當該層並不是最大節點數且下一層還有數值時則回傳False，另外如果該層節點為空時，則在計算數值的list中放入-1，最後統計-1是否只出現在最後面，如果不是則回傳False"
   ]
  },
  {
   "cell_type": "code",
   "execution_count": null,
   "id": "3b1914a0-da2c-4737-8992-93f6c6a67b57",
   "metadata": {},
   "outputs": [],
   "source": [
    "# Definition for a binary tree node.\n",
    "# class TreeNode:\n",
    "#     def __init__(self, val=0, left=None, right=None):\n",
    "#         self.val = val\n",
    "#         self.left = left\n",
    "#         self.right = right\n",
    "class Solution:\n",
    "    def isCompleteTree(self, root: Optional[TreeNode]) -> bool:\n",
    "        stack = [root]\n",
    "        index = 0\n",
    "        while stack:\n",
    "            node = []\n",
    "            val = []\n",
    "            count = 0\n",
    "            for s in stack:\n",
    "                if s.left:\n",
    "                    node.append(s.left)\n",
    "                    val.append(s.left.val)\n",
    "                else:\n",
    "                    val.append(-1)\n",
    "                    count += 1\n",
    "                if s.right:\n",
    "                    node.append(s.right)\n",
    "                    val.append(s.right.val)\n",
    "                else:\n",
    "                    val.append(-1)\n",
    "                    count += 1\n",
    "            if len(stack) != pow(2, index) and len(node) != 0:\n",
    "                return False\n",
    "            stack.clear()\n",
    "            stack += node\n",
    "            index += 1\n",
    "            if -1 in val and val.index(-1) + count != len(val):\n",
    "                return False\n",
    "            \n",
    "        return True"
   ]
  }
 ],
 "metadata": {
  "kernelspec": {
   "display_name": "Python 3 (ipykernel)",
   "language": "python",
   "name": "python3"
  },
  "language_info": {
   "codemirror_mode": {
    "name": "ipython",
    "version": 3
   },
   "file_extension": ".py",
   "mimetype": "text/x-python",
   "name": "python",
   "nbconvert_exporter": "python",
   "pygments_lexer": "ipython3",
   "version": "3.9.13"
  }
 },
 "nbformat": 4,
 "nbformat_minor": 5
}
