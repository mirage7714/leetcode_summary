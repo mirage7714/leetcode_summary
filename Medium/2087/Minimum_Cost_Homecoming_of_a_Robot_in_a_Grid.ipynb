{
 "cells": [
  {
   "cell_type": "markdown",
   "metadata": {},
   "source": [
    "# 本題要找出最小到達home的路徑需要多少成本 (\\#Array, \\#Greedy, \\#Matrix )\n",
    "原題目連結: https://leetcode.com/problems/minimum-cost-homecoming-of-a-robot-in-a-grid/  \n",
    "\n",
    "There is an m x n grid, where (0, 0) is the top-left cell and (m - 1, n - 1) is the bottom-right cell. You are given an integer array startPos where startPos = [startrow, startcol] indicates that initially, a robot is at the cell (startrow, startcol). You are also given an integer array homePos where homePos = [homerow, homecol] indicates that its home is at the cell (homerow, homecol).  \n",
    "\n",
    "The robot needs to go to its home. It can move one cell in four directions: left, right, up, or down, and it can not move outside the boundary. Every move incurs some cost. You are further given two 0-indexed integer arrays: rowCosts of length m and colCosts of length n.  \n",
    "  \n",
    "If the robot moves up or down into a cell whose row is r, then this move costs rowCosts[r].  \n",
    "If the robot moves left or right into a cell whose column is c, then this move costs colCosts[c].  \n",
    "Return the minimum total cost for this robot to return home.  \n",
    "\n",
    "範例:  \n",
    "Ex1:  \n",
    "Input: startPos = [1, 0], homePos = [2, 3], rowCosts = [5, 4, 3], colCosts = [8, 2, 6, 7]  \n",
    "Output: 18  \n",
    "Explanation: One optimal path is that:  \n",
    "Starting from (1, 0)  \n",
    "-> It goes down to (2, 0). This move costs rowCosts[2] = 3.  \n",
    "-> It goes right to (2, 1). This move costs colCosts[1] = 2.  \n",
    "-> It goes right to (2, 2). This move costs colCosts[2] = 6.  \n",
    "-> It goes right to (2, 3). This move costs colCosts[3] = 7.  \n",
    "The total cost is 3 + 2 + 6 + 7 = 18  \n",
    "\n",
    "Ex2:  \n",
    "Input: startPos = [0, 0], homePos = [0, 0], rowCosts = [5], colCosts = [26]  \n",
    "Output: 0  \n",
    "Explanation: The robot is already at its home. Since no moves occur, the total cost is 0."
   ]
  },
  {
   "cell_type": "markdown",
   "metadata": {},
   "source": [
    "* 解題想法:  \n",
    "首先找出robot與home的row與column的距離，接著把水平移動與垂直移動的距離成本加起來，就是移動到home的最小成本"
   ]
  },
  {
   "cell_type": "code",
   "execution_count": null,
   "metadata": {},
   "outputs": [],
   "source": [
    "class Solution:\n",
    "    def minCost(self, startPos: List[int], homePos: List[int], rowCosts: List[int], colCosts: List[int]) -> int:\n",
    "        result = 0\n",
    "        r = homePos[0] - startPos[0]\n",
    "        c = homePos[1] - startPos[1]\n",
    "        if r > 0:\n",
    "            for i in range(r):\n",
    "                result += rowCosts[startPos[0] + i + 1]\n",
    "        elif r < 0:\n",
    "            for i in range(abs(r)):\n",
    "                result += rowCosts[startPos[0] -i -1]\n",
    "        if c > 0: \n",
    "            for j in range(c):\n",
    "                result += colCosts[startPos[1] + j + 1]\n",
    "        elif c < 0:\n",
    "            for j in range(abs(c)):\n",
    "                result += colCosts[startPos[1] - j - 1]\n",
    "        return result"
   ]
  }
 ],
 "metadata": {
  "kernelspec": {
   "display_name": "Python 3",
   "language": "python",
   "name": "python3"
  },
  "language_info": {
   "codemirror_mode": {
    "name": "ipython",
    "version": 3
   },
   "file_extension": ".py",
   "mimetype": "text/x-python",
   "name": "python",
   "nbconvert_exporter": "python",
   "pygments_lexer": "ipython3",
   "version": "3.7.4"
  }
 },
 "nbformat": 4,
 "nbformat_minor": 4
}
