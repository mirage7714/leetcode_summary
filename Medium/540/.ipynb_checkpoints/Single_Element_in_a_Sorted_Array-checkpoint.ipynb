{
 "cells": [
  {
   "cell_type": "markdown",
   "metadata": {},
   "source": [
    "# 本題要找出在array中只有出現過一次的值\n",
    "原題目連結: https://leetcode.com/problems/single-element-in-a-sorted-array/  \n",
    "\n",
    "You are given a sorted array consisting of only integers where every element appears exactly twice, except for one element which appears exactly once. Find this single element that appears only once.  \n",
    "\n",
    "Follow up: Your solution should run in O(log n) time and O(1) space.  \n",
    "\n",
    "範例:  \n",
    "Ex1:  \n",
    "Input: nums = [1,1,2,3,3,4,4,8,8]  \n",
    "Output: 2  \n",
    "\n",
    "Ex2:  \n",
    "Input: nums = [3,3,7,7,10,11,11]  \n",
    "Output: 10"
   ]
  },
  {
   "cell_type": "markdown",
   "metadata": {},
   "source": [
    "* 解題想法:  \n",
    "由於題目要找出只有出現過一次的值，因此用一個迴圈來判斷n與n+1的值是否相同，如果不同則代表了n是只有出現過一次的值  \n",
    "因此就可以中斷迴圈並回傳n  \n",
    "否則出現過一次的就是list中的最後一個值"
   ]
  },
  {
   "cell_type": "code",
   "execution_count": null,
   "metadata": {},
   "outputs": [],
   "source": [
    "class Solution:\n",
    "    def singleNonDuplicate(self, nums: List[int]) -> int:\n",
    "        single = []\n",
    "        if len(nums) > 1:\n",
    "            for n in range(0, len(nums)-1, 2):\n",
    "                if nums[n] != nums[n+1]:\n",
    "                    single.append(nums[n])\n",
    "                    break\n",
    "            if len(single) == 0:\n",
    "                single.append(nums[-1])\n",
    "        else:\n",
    "            single.append(nums[0])\n",
    "        return single[0]"
   ]
  }
 ],
 "metadata": {
  "kernelspec": {
   "display_name": "Python 3",
   "language": "python",
   "name": "python3"
  },
  "language_info": {
   "codemirror_mode": {
    "name": "ipython",
    "version": 3
   },
   "file_extension": ".py",
   "mimetype": "text/x-python",
   "name": "python",
   "nbconvert_exporter": "python",
   "pygments_lexer": "ipython3",
   "version": "3.7.6"
  }
 },
 "nbformat": 4,
 "nbformat_minor": 4
}
