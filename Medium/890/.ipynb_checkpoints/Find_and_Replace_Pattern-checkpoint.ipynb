{
 "cells": [
  {
   "cell_type": "markdown",
   "metadata": {},
   "source": [
    "# 本題要找出相同pattern的字串\n",
    "原題目連結： https://leetcode.com/problems/find-and-replace-pattern/  \n",
    "\n",
    "You have a list of words and a pattern, and you want to know which words in words matches the pattern.  \n",
    "\n",
    "A word matches the pattern if there exists a permutation of letters p so that after replacing every letter x in the pattern with p(x), we get the desired word.  \n",
    "\n",
    "(Recall that a permutation of letters is a bijection from letters to letters: every letter maps to another letter, and no two letters map to the same letter.)  \n",
    "\n",
    "Return a list of the words in words that match the given pattern.   \n",
    "\n",
    "You may return the answer in any order.  \n",
    "\n",
    "範例：  \n",
    "Ex1:  \n",
    "Input: words = [\"abc\",\"deq\",\"mee\",\"aqq\",\"dkd\",\"ccc\"], pattern = \"abb\"  \n",
    "Output: [\"mee\",\"aqq\"]  \n",
    "Explanation: \"mee\" matches the pattern because there is a permutation {a -> m, b -> e, ...}.   \n",
    "\"ccc\" does not match the pattern because {a -> c, b -> c, ...} is not a permutation, since a and b map to the same letter."
   ]
  },
  {
   "cell_type": "markdown",
   "metadata": {},
   "source": [
    "* 解題想法：  \n",
    "依題目說明，要找出相同pattern的字串，首先建立一個function來計算出每個字串的pattern  \n",
    "接著將目標字串與list中的字串都進行計算，最後將相同pattern的字串加入一個list中回傳"
   ]
  },
  {
   "cell_type": "code",
   "execution_count": null,
   "metadata": {},
   "outputs": [],
   "source": [
    "class Solution:\n",
    "    def findAndReplacePattern(self, words: List[str], pattern: str) -> List[str]:\n",
    "        def getFreq(word):\n",
    "            freq = {}\n",
    "            for w in range(len(word)):\n",
    "                if word[w] not in freq.keys():\n",
    "                    freq[word[w]] = [w]\n",
    "                else:\n",
    "                    freq[word[w]].append(w)\n",
    "            return freq\n",
    "        result = []\n",
    "        p = getFreq(pattern)\n",
    "        val = list(p.values())\n",
    "        val.sort()\n",
    "        for word in words:\n",
    "            freq = getFreq(word)\n",
    "            v = list(freq.values())\n",
    "            v.sort()\n",
    "            if val == v:\n",
    "                result.append(word)\n",
    "        return result"
   ]
  }
 ],
 "metadata": {
  "kernelspec": {
   "display_name": "Python 3",
   "language": "python",
   "name": "python3"
  },
  "language_info": {
   "codemirror_mode": {
    "name": "ipython",
    "version": 3
   },
   "file_extension": ".py",
   "mimetype": "text/x-python",
   "name": "python",
   "nbconvert_exporter": "python",
   "pygments_lexer": "ipython3",
   "version": "3.7.6"
  }
 },
 "nbformat": 4,
 "nbformat_minor": 4
}
