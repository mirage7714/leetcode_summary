{
 "cells": [
  {
   "cell_type": "markdown",
   "metadata": {},
   "source": [
    "# 本題要將有包括0的那列以及那行都取代成0\n",
    "原題目連結: https://leetcode.com/problems/set-matrix-zeroes/  \n",
    "\n",
    "Given an m x n matrix. If an element is 0, set its entire row and column to 0. Do it in-place.\n",
    "\n",
    "範例:  \n",
    "Ex1:  \n",
    "Input: matrix = [[1,1,1],[1,0,1],[1,1,1]]  \n",
    "Output: [[1,0,1],[0,0,0],[1,0,1]]  \n",
    "\n",
    "Ex2:  \n",
    "Input: matrix = [[0,1,2,0],[3,4,5,2],[1,3,1,5]]  \n",
    "Output: [[0,0,0,0],[0,4,5,0],[0,3,1,0]]"
   ]
  },
  {
   "cell_type": "markdown",
   "metadata": {},
   "source": [
    "* 解題想法:  \n",
    "由於要將有0的那行與那列都修改成0，因此先找出為0的座標，再將這些座標的行與列都修改成0  \n",
    "就是最後題目要求的答案"
   ]
  },
  {
   "cell_type": "code",
   "execution_count": null,
   "metadata": {},
   "outputs": [],
   "source": [
    "class Solution:\n",
    "    def setZeroes(self, matrix: List[List[int]]) -> None:\n",
    "        \"\"\"\n",
    "        Do not return anything, modify matrix in-place instead.\n",
    "        \"\"\"\n",
    "        zeros = []\n",
    "        h = len(matrix)\n",
    "        w = len(matrix[0]) \n",
    "        for m in range(h):\n",
    "            for n in range(w):\n",
    "                if matrix[m][n] == 0:\n",
    "                    zeros.append([m,n])\n",
    "        for zero in zeros:\n",
    "            for m in range(h):\n",
    "                matrix[m][zero[1]] = 0\n",
    "            for n in range(w):\n",
    "                matrix[zero[0]][n] = 0"
   ]
  }
 ],
 "metadata": {
  "kernelspec": {
   "display_name": "Python 3",
   "language": "python",
   "name": "python3"
  },
  "language_info": {
   "codemirror_mode": {
    "name": "ipython",
    "version": 3
   },
   "file_extension": ".py",
   "mimetype": "text/x-python",
   "name": "python",
   "nbconvert_exporter": "python",
   "pygments_lexer": "ipython3",
   "version": "3.7.6"
  }
 },
 "nbformat": 4,
 "nbformat_minor": 4
}
