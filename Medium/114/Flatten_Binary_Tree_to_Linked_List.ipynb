{
 "cells": [
  {
   "cell_type": "markdown",
   "metadata": {},
   "source": [
    "# 本題要將binary tree轉換為linked list的格式\n",
    "原題目連結: https://leetcode.com/problems/flatten-binary-tree-to-linked-list/  \n",
    " \n",
    "Given the root of a binary tree, flatten the tree into a \"linked list\":  \n",
    "\n",
    "The \"linked list\" should use the same TreeNode class where the right child pointer points to the next node in the list and the left child pointer is always null.  \n",
    "The \"linked list\" should be in the same order as a pre-order traversal of the binary tree.  \n",
    "\n",
    "範例:  \n",
    "Ex1:  \n",
    "Input: root = [1,2,5,3,4,null,6]  \n",
    "Output: [1,null,2,null,3,null,4,null,5,null,6]  \n",
    "\n",
    "Ex2:  \n",
    "Input: root = []  \n",
    "Output: []  \n",
    "\n",
    "Ex3:  \n",
    "Input: root = [0]  \n",
    "Output: [0]"
   ]
  },
  {
   "cell_type": "markdown",
   "metadata": {},
   "source": [
    "* 解題想法:  \n",
    "這題要將binary tree的left全部移動到right，因此最暴力的方式是用DFS將數值取出後修改原本的root，這邊另外參考了recursive的作法，就是先找出右側的節點並放成另個變數暫存，接著將左側的節點改成右側的節點後清空左側的節點，接著開始找出root右側節點的盡頭並將暫存放到節點的最後，接著用遞迴的方式繼續進行檢查右側節點"
   ]
  },
  {
   "cell_type": "code",
   "execution_count": null,
   "metadata": {},
   "outputs": [],
   "source": [
    "# 使用遞迴來修改root\n",
    "# Definition for a binary tree node.\n",
    "# class TreeNode:\n",
    "#     def __init__(self, val=0, left=None, right=None):\n",
    "#         self.val = val\n",
    "#         self.left = left\n",
    "#         self.right = right\n",
    "class Solution:\n",
    "    def flatten(self, root: Optional[TreeNode]) -> None:\n",
    "        \"\"\"\n",
    "        Do not return anything, modify root in-place instead.\n",
    "        \"\"\"\n",
    "        if root:\n",
    "            right = root.right\n",
    "            root.right = root.left\n",
    "            root.left = None\n",
    "            curr = root\n",
    "            while curr.right:\n",
    "                curr = curr.right\n",
    "            curr.right = right\n",
    "            self.flatten(root.right)"
   ]
  },
  {
   "cell_type": "code",
   "execution_count": null,
   "metadata": {},
   "outputs": [],
   "source": [
    "# 使用暴力解取出所有數值\n",
    "# Definition for a binary tree node.\n",
    "# class TreeNode:\n",
    "#     def __init__(self, val=0, left=None, right=None):\n",
    "#         self.val = val\n",
    "#         self.left = left\n",
    "#         self.right = right\n",
    "class Solution:\n",
    "    def flatten(self, root: Optional[TreeNode]) -> None:\n",
    "        \"\"\"\n",
    "        Do not return anything, modify root in-place instead.\n",
    "        \"\"\"\n",
    "        tree = root\n",
    "        if tree:\n",
    "            stack = [tree]\n",
    "            val = []\n",
    "            while stack:\n",
    "                node = stack.pop()\n",
    "                val.append(node.val)\n",
    "                if node.right:\n",
    "                    stack.append(node.right)\n",
    "                if node.left:\n",
    "                    stack.append(node.left)\n",
    "            for v in range(1, len(val)):\n",
    "                root.left = None\n",
    "                n = TreeNode()\n",
    "                n.val = val[v]\n",
    "                root.right = n\n",
    "                root = root.right"
   ]
  }
 ],
 "metadata": {
  "kernelspec": {
   "display_name": "Python 3",
   "language": "python",
   "name": "python3"
  },
  "language_info": {
   "codemirror_mode": {
    "name": "ipython",
    "version": 3
   },
   "file_extension": ".py",
   "mimetype": "text/x-python",
   "name": "python",
   "nbconvert_exporter": "python",
   "pygments_lexer": "ipython3",
   "version": "3.7.4"
  }
 },
 "nbformat": 4,
 "nbformat_minor": 4
}
