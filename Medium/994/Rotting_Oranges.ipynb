{
 "cells": [
  {
   "cell_type": "markdown",
   "metadata": {},
   "source": [
    "# 本題要判斷需要幾天所有的橘子會爛掉 (\\#Matrix, \\#Array, \\#BFS)\n",
    "原題目連結: https://leetcode.com/problems/rotting-oranges/  \n",
    "\n",
    "You are given an m x n grid where each cell can have one of three values:  \n",
    "\n",
    "0 representing an empty cell,  \n",
    "1 representing a fresh orange, or  \n",
    "2 representing a rotten orange.  \n",
    "Every minute, any fresh orange that is 4-directionally adjacent to a rotten orange becomes rotten.  \n",
    "\n",
    "Return the minimum number of minutes that must elapse until no cell has a fresh orange. If this is impossible, return -1.  \n",
    "\n",
    "範例:  \n",
    "Ex1:　\n",
    "Input: grid = [[2,1,1],[1,1,0],[0,1,1]]  \n",
    "Output: 4  \n",
    "\n",
    "Ex2:  \n",
    "Input: grid = [[2,1,1],[0,1,1],[1,0,1]]  \n",
    "Output: -1  \n",
    "Explanation: The orange in the bottom left corner (row 2, column 0) is never rotten, because rotting only happens 4-directionally.  \n",
    "\n",
    "Ex3:  \n",
    "Input: grid = [[0,2]]  \n",
    "Output: 0  \n",
    "Explanation: Since there are already no fresh oranges at minute 0, the answer is just 0."
   ]
  },
  {
   "cell_type": "markdown",
   "metadata": {},
   "source": [
    "* 解題想法:  \n",
    "首先將所有的爛掉橘子與沒爛掉的橘子分別放入兩個list中，接著如果有爛掉橘子的話，檢查上下左右四個點是否為好的橘子，如果是好的則將這個點放入暫存中，接著將這個點從好的list中移除，接著將爛掉的點位清除，並重新加入新一輪爛掉的點，最後直到所有爛掉的點都清空，或是所有好的點都清空就中斷迴圈，最後檢查是否還有好的橘子，如果有好的則回傳-1，否則回傳總共進行了幾次迴圈"
   ]
  },
  {
   "cell_type": "code",
   "execution_count": null,
   "metadata": {},
   "outputs": [],
   "source": [
    "class Solution:\n",
    "    def orangesRotting(self, grid: List[List[int]]) -> int:\n",
    "\n",
    "        count = 0\n",
    "        m = len(grid)\n",
    "        n = len(grid[0])\n",
    "        rotted = []\n",
    "        unrotted = []\n",
    "        x = [1,-1,0,0]\n",
    "        y = [0,0,1,-1]\n",
    "        for a in range(m):\n",
    "            for b in range(n):\n",
    "                if grid[a][b] == 1:\n",
    "                    unrotted.append([a,b])\n",
    "                elif grid[a][b] == 2:\n",
    "                    rotted.append([a,b])\n",
    "        while rotted and unrotted: \n",
    "            temp = []\n",
    "            for r in rotted:\n",
    "                for k in range(4):\n",
    "                    i = r[0] + x[k]\n",
    "                    j = r[1] + y[k]\n",
    "                    if [i,j] in unrotted:\n",
    "                        unrotted.pop(unrotted.index([i,j]))\n",
    "                        temp.append([i,j])\n",
    "            rotted.clear()\n",
    "            if temp:\n",
    "                count += 1\n",
    "            rotted += temp\n",
    "            \n",
    "        if unrotted:\n",
    "            return -1\n",
    "        return count"
   ]
  }
 ],
 "metadata": {
  "kernelspec": {
   "display_name": "Python 3",
   "language": "python",
   "name": "python3"
  },
  "language_info": {
   "codemirror_mode": {
    "name": "ipython",
    "version": 3
   },
   "file_extension": ".py",
   "mimetype": "text/x-python",
   "name": "python",
   "nbconvert_exporter": "python",
   "pygments_lexer": "ipython3",
   "version": "3.7.4"
  }
 },
 "nbformat": 4,
 "nbformat_minor": 4
}
