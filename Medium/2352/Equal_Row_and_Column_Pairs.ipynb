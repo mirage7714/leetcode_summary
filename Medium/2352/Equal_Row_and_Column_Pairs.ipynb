{
 "cells": [
  {
   "cell_type": "markdown",
   "metadata": {},
   "source": [
    "# 本題要找出共有多少組row跟column的值是相等的\n",
    "原題目連結: https://leetcode.com/problems/equal-row-and-column-pairs/  \n",
    "\n",
    "Given a 0-indexed n x n integer matrix grid, return the number of pairs (Ri, Cj) such that row Ri and column Cj are equal.  \n",
    "\n",
    "A row and column pair is considered equal if they contain the same elements in the same order (i.e. an equal array).  \n",
    "\n",
    "範例:  \n",
    "Ex1:  \n",
    "Input: grid = [[3,2,1],[1,7,6],[2,7,7]]  \n",
    "Output: 1   \n",
    "Explanation: There is 1 equal row and column pair:  \n",
    "- (Row 2, Column 1): [2,7,7]  \n",
    "\n",
    "Ex2:  \n",
    "Input: grid = [[3,1,2,2],[1,4,4,5],[2,4,2,2],[2,4,2,2]]  \n",
    "Output: 3  \n",
    "Explanation: There are 3 equal row and column pairs:  \n",
    "- (Row 0, Column 0): [3,1,2,2]  \n",
    "- (Row 2, Column 2): [2,4,2,2]   \n",
    "- (Row 3, Column 2): [2,4,2,2]  "
   ]
  },
  {
   "cell_type": "markdown",
   "metadata": {},
   "source": [
    "* 解題想法:  \n",
    "首先建立一個dict，用來存放col開頭的數字共有多少組合，接著從row的第一個數字開始檢查是否有在col中出現過，如果有出現過則比對row跟col是否相同，如果相同則將count+1，最後回傳count數"
   ]
  },
  {
   "cell_type": "code",
   "execution_count": null,
   "metadata": {},
   "outputs": [],
   "source": [
    "class Solution:\n",
    "    def equalPairs(self, grid: List[List[int]]) -> int:\n",
    "        result = 0\n",
    "        col_count = {}\n",
    "        s = len(grid)\n",
    "        for m in range(s):\n",
    "            if grid[m][0] not in col_count.keys():\n",
    "                col_count[grid[m][0]] = [m]\n",
    "            else:\n",
    "                col_count[grid[m][0]].append(m)\n",
    "        for n in range(s):\n",
    "            if grid[0][n] in col_count.keys():\n",
    "                val = col_count[grid[0][n]]\n",
    "                temp = []\n",
    "                for l in range(s):\n",
    "                    temp.append(grid[l][n])\n",
    "                for v in val:\n",
    "                    if grid[v] == temp:\n",
    "                        result += 1\n",
    "        return result"
   ]
  }
 ],
 "metadata": {
  "kernelspec": {
   "display_name": "Python 3",
   "language": "python",
   "name": "python3"
  },
  "language_info": {
   "codemirror_mode": {
    "name": "ipython",
    "version": 3
   },
   "file_extension": ".py",
   "mimetype": "text/x-python",
   "name": "python",
   "nbconvert_exporter": "python",
   "pygments_lexer": "ipython3",
   "version": "3.7.4"
  }
 },
 "nbformat": 4,
 "nbformat_minor": 4
}
