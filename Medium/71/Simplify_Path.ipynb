{
 "cells": [
  {
   "cell_type": "markdown",
   "metadata": {},
   "source": [
    "# 本題要找出簡化後的檔案路徑為何\n",
    "原題目連結: https://leetcode.com/problems/simplify-path/  \n",
    "\n",
    "Given a string path, which is an absolute path (starting with a slash '/') to a file or directory in a Unix-style file system, convert it to the simplified canonical path.  \n",
    "\n",
    "In a Unix-style file system, a period '.' refers to the current directory, a double period '..' refers to the directory up a level, and any multiple consecutive slashes (i.e. '//') are treated as a single slash '/'. For this problem, any other format of periods such as '...' are treated as file/directory names.  \n",
    "\n",
    "The canonical path should have the following format:  \n",
    "\n",
    "The path starts with a single slash '/'.  \n",
    "Any two directories are separated by a single slash '/'.  \n",
    "The path does not end with a trailing '/'.  \n",
    "The path only contains the directories on the path from the root directory to the target file or directory (i.e., no period '.' or double period '..')  \n",
    "Return the simplified canonical path.  \n",
    "\n",
    "範例:  \n",
    "Ex1:  \n",
    "Input: path = \"/home/\"  \n",
    "Output: \"/home\"  \n",
    "Explanation: Note that there is no trailing slash after the last directory name.  \n",
    "\n",
    "Ex2:  \n",
    "Input: path = \"/../\"  \n",
    "Output: \"/\"  \n",
    "Explanation: Going one level up from the root directory is a no-op, as the root level is the highest level you can go.  \n",
    "\n",
    "Ex3:  \n",
    "Input: path = \"/home//foo/\"  \n",
    "Output: \"/home/foo\"  \n",
    "Explanation: In the canonical path, multiple consecutive slashes are replaced by a single one.  \n",
    "\n",
    "Ex4:  \n",
    "Input: path = \"/a/./b/../../c/\"  \n",
    "Output: \"/c\""
   ]
  },
  {
   "cell_type": "markdown",
   "metadata": {},
   "source": [
    "* 解題想法:  \n",
    "首先將原本的指令分解，接著找出其中需要進行操作的部分後放入另一個list中，最後按順序進行操作後重新組合成最後的路徑"
   ]
  },
  {
   "cell_type": "code",
   "execution_count": null,
   "metadata": {},
   "outputs": [],
   "source": [
    "class Solution:\n",
    "    def simplifyPath(self, path: str) -> str:\n",
    "        ps = path.split('/')\n",
    "        temp = []\n",
    "        result = '/'\n",
    "        for p in ps:\n",
    "            if p == '..':\n",
    "                temp.append(p)\n",
    "            elif p != '.':\n",
    "                if len(p) > 0:\n",
    "                    temp.append(p)\n",
    "        while True:\n",
    "            s = len(temp)\n",
    "            for t in range(len(temp)):\n",
    "                if temp[t] == '..':\n",
    "                    temp.pop(t)\n",
    "                    if t != 0:\n",
    "                        temp.pop(t-1)\n",
    "                    break\n",
    "            if len(temp) == s:\n",
    "                break\n",
    "        if len(temp) > 0:\n",
    "            for t in temp:\n",
    "                result += t + '/'\n",
    "            return result[:-1]\n",
    "        else:\n",
    "            return result"
   ]
  }
 ],
 "metadata": {
  "kernelspec": {
   "display_name": "Python 3",
   "language": "python",
   "name": "python3"
  },
  "language_info": {
   "codemirror_mode": {
    "name": "ipython",
    "version": 3
   },
   "file_extension": ".py",
   "mimetype": "text/x-python",
   "name": "python",
   "nbconvert_exporter": "python",
   "pygments_lexer": "ipython3",
   "version": "3.7.6"
  }
 },
 "nbformat": 4,
 "nbformat_minor": 4
}
