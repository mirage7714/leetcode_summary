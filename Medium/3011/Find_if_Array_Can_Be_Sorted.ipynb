{
 "cells": [
  {
   "cell_type": "markdown",
   "id": "a54c2a53-bd1a-4e09-8d9a-263efbf1bee9",
   "metadata": {},
   "source": [
    "# 本題要判斷list是否可以由小到大進行排序 (\\#Array, \\#Sorting )\n",
    "原題目連結：https://leetcode.com/problems/find-if-array-can-be-sorted/description/  \n",
    "\n",
    "You are given a 0-indexed array of positive integers nums.  \n",
    "In one operation, you can swap any two adjacent elements if they have the same number of set bits. You are allowed to do this operation any number of times (including zero).  \n",
    "\n",
    "Return true if you can sort the array, else return false.  \n",
    "\n",
    "範例：  \n",
    "Ex1:  \n",
    "Input: nums = [8,4,2,30,15]  \n",
    "Output: true  \n",
    "Explanation: Let's look at the binary representation of every element. The numbers 2, 4, and 8 have one set bit each with binary representation \"10\", \"100\", and \"1000\" respectively. The numbers 15 and 30 have four set bits each with binary representation \"1111\" and \"11110\".  \n",
    "We can sort the array using 4 operations:   \n",
    "- Swap nums[0] with nums[1]. This operation is valid because 8 and 4 have one set bit each. The array becomes [4,8,2,30,15].  \n",
    "- Swap nums[1] with nums[2]. This operation is valid because 8 and 2 have one set bit each. The array becomes [4,2,8,30,15].  \n",
    "- Swap nums[0] with nums[1]. This operation is valid because 4 and 2 have one set bit each. The array becomes [2,4,8,30,15].  \n",
    "- Swap nums[3] with nums[4]. This operation is valid because 30 and 15 have four set bits each. The array becomes [2,4,8,15,30].  \n",
    "The array has become sorted, hence we return true.  \n",
    "Note that there may be other sequences of operations which also sort the array.  \n",
    "\n",
    "Ex2:  \n",
    "Input: nums = [1,2,3,4,5]  \n",
    "Output: true  \n",
    "Explanation: The array is already sorted, hence we return true.  \n",
    "\n",
    "Ex3:  \n",
    "Input: nums = [3,16,8,4,2]  \n",
    "Output: false  \n",
    "Explanation: It can be shown that it is not possible to sort the input array using any number of operations."
   ]
  },
  {
   "cell_type": "markdown",
   "id": "1755f2bb-818f-4cc0-8d3f-e40751432149",
   "metadata": {},
   "source": [
    "* 解題想法：  \n",
    "首先建立一個函數用來計算每個數字的bit，接著用另一個list來存放排序後的list，然後用迴圈從頭開始檢查nums，如果bit不相同時則將暫存中的數值排序後放入list中，最後將排序好的list與暫存進行比較，如果兩個不相同則回傳False，否則回傳True"
   ]
  },
  {
   "cell_type": "code",
   "execution_count": null,
   "id": "5589d2c2-2d31-457e-b119-6d0c6c301681",
   "metadata": {},
   "outputs": [],
   "source": [
    "class Solution:\n",
    "    def canSortArray(self, nums: List[int]) -> bool:\n",
    "        def get_bit(num):\n",
    "            count = 0\n",
    "            b = bin(num)[2:]\n",
    "            for i in b:\n",
    "                if i == '1':\n",
    "                    count += 1\n",
    "            return count\n",
    "\n",
    "        s = sorted(nums)\n",
    "        if s == nums:\n",
    "            return True\n",
    "        else:\n",
    "            temp = []\n",
    "            t = []\n",
    "            b = 0\n",
    "            for i in range(len(nums)):\n",
    "                if t and b != get_bit(nums[i]):\n",
    "                    t.sort()\n",
    "                    temp += t[:]\n",
    "                    t.clear()\n",
    "                t.append(nums[i])\n",
    "                b = get_bit(nums[i])\n",
    "            t.sort()\n",
    "            temp += t[:]\n",
    "            for j in range(len(s)):\n",
    "                if s[j] != temp[j]:\n",
    "                    return False\n",
    "            return True"
   ]
  }
 ],
 "metadata": {
  "kernelspec": {
   "display_name": "Python 3 (ipykernel)",
   "language": "python",
   "name": "python3"
  },
  "language_info": {
   "codemirror_mode": {
    "name": "ipython",
    "version": 3
   },
   "file_extension": ".py",
   "mimetype": "text/x-python",
   "name": "python",
   "nbconvert_exporter": "python",
   "pygments_lexer": "ipython3",
   "version": "3.10.9"
  }
 },
 "nbformat": 4,
 "nbformat_minor": 5
}
