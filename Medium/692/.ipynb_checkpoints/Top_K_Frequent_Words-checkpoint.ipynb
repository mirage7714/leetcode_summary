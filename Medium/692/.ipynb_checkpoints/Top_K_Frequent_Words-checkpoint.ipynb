{
 "cells": [
  {
   "cell_type": "markdown",
   "metadata": {},
   "source": [
    "# 本題也是要找出在array中出現頻率最高的K個詞\n",
    "原題目連結: https://leetcode.com/problems/top-k-frequent-words/  \n",
    "\n",
    "Given a non-empty list of words, return the k most frequent elements.  \n",
    "\n",
    "Your answer should be sorted by frequency from highest to lowest. If two words have the same frequency, then the word with the lower alphabetical order comes first.  \n",
    "\n",
    "範例:  \n",
    "Ex1:  \n",
    "Input: [\"i\", \"love\", \"leetcode\", \"i\", \"love\", \"coding\"], k = 2  \n",
    "Output: [\"i\", \"love\"]  \n",
    "Explanation: \"i\" and \"love\" are the two most frequent words. Note that \"i\" comes before \"love\" due to a lower alphabetical order.    \n",
    "\n",
    "Ex2:  \n",
    "Input: [\"the\", \"day\", \"is\", \"sunny\", \"the\", \"the\", \"the\", \"sunny\", \"is\", \"is\"], k = 4  \n",
    "Output: [\"the\", \"is\", \"sunny\", \"day\"]  \n",
    "Explanation: \"the\", \"is\", \"sunny\" and \"day\" are the four most frequent words, with the number of occurrence being 4, 3, 2 and 1 respectively."
   ]
  },
  {
   "cell_type": "markdown",
   "metadata": {},
   "source": [
    "* 解題想法:  \n",
    "這題應該算是稍微有一點變化，主要是因為如果是出現頻率相同的字，他需要先從排序小的到排序大的，因此詞頻轉換完後又重新將key與value進行對調，並將value建成一個list，接著對list排序後再從中間將字取出加到list中，最後將list回傳作為本題的答案"
   ]
  },
  {
   "cell_type": "code",
   "execution_count": null,
   "metadata": {},
   "outputs": [],
   "source": [
    "class Solution:\n",
    "    def topKFrequent(self, words: List[str], k: int) -> List[str]:\n",
    "        freq = {}\n",
    "        temp = {}\n",
    "        result = []\n",
    "        for word in words:\n",
    "            if word not in freq.keys():\n",
    "                freq[word] = 1\n",
    "            else:\n",
    "                freq[word] += 1\n",
    "        for key, value in freq.items():\n",
    "            if value not in temp.keys():\n",
    "                temp[value] = [key]\n",
    "            else:\n",
    "                temp[value].append(key)\n",
    "        keys = list(temp.keys())\n",
    "        keys.sort(reverse = True)\n",
    "        for key in keys:\n",
    "            is_full = False\n",
    "            val = temp[key]\n",
    "            val.sort()\n",
    "            for v in val:\n",
    "                result.append(v)\n",
    "                if len(result) == k:\n",
    "                    is_full = True\n",
    "                    break\n",
    "            if is_full:\n",
    "                break\n",
    "        return result"
   ]
  }
 ],
 "metadata": {
  "kernelspec": {
   "display_name": "Python 3",
   "language": "python",
   "name": "python3"
  },
  "language_info": {
   "codemirror_mode": {
    "name": "ipython",
    "version": 3
   },
   "file_extension": ".py",
   "mimetype": "text/x-python",
   "name": "python",
   "nbconvert_exporter": "python",
   "pygments_lexer": "ipython3",
   "version": "3.7.6"
  }
 },
 "nbformat": 4,
 "nbformat_minor": 4
}
