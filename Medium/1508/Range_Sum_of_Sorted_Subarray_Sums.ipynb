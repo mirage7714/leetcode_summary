{
 "cells": [
  {
   "cell_type": "markdown",
   "metadata": {},
   "source": [
    "# 本題要找出子array，並回傳範圍內的array數總和\n",
    "原題目連結：https://leetcode.com/problems/range-sum-of-sorted-subarray-sums/  \n",
    "\n",
    "Given the array nums consisting of n positive integers. You computed the sum of all non-empty continous subarrays from the array and then sort them in non-decreasing order, creating a new array of n * (n + 1) / 2 numbers.  \n",
    "\n",
    "Return the sum of the numbers from index left to index right (indexed from 1), inclusive, in the new array. Since the answer can be a huge number return it modulo 10^9 + 7.  \n",
    "\n",
    "範例：  \n",
    "Ex1:  \n",
    "Input: nums = [1,2,3,4], n = 4, left = 1, right = 5  \n",
    "Output: 13   \n",
    "Explanation: All subarray sums are 1, 3, 6, 10, 2, 5, 9, 3, 7, 4. After sorting them in non-decreasing order we have the new array [1, 2, 3, 3, 4, 5, 6, 7, 9, 10]. The sum of the numbers from index le = 1 to ri = 5 is 1 + 2 + 3 + 3 + 4 = 13.   \n",
    "\n",
    "Ex2:  \n",
    "Input: nums = [1,2,3,4], n = 4, left = 3, right = 4  \n",
    "Output: 6  \n",
    "Explanation: The given array is the same as example 1. We have the new array [1, 2, 3, 3, 4, 5, 6, 7, 9, 10]. The sum of the numbers from index le = 3 to ri = 4 is 3 + 3 = 6.  \n",
    "\n",
    "Ex3:  \n",
    "Input: nums = [1,2,3,4], n = 4, left = 1, right = 10  \n",
    "Output: 50"
   ]
  },
  {
   "cell_type": "markdown",
   "metadata": {},
   "source": [
    "* 解題想法：  \n",
    "依題目的要求，首先找出所有子list的和，並將全部的數都先加入另一個list中，並將這個list進行排序  \n",
    "之後依照題目給出的left與right範圍，建立另一個子list，並將所有數都加起來，最後還需要mod 10^9 + 7才是最後的答案(漏掉這步答案會差一點而且都找不出問題）"
   ]
  },
  {
   "cell_type": "code",
   "execution_count": null,
   "metadata": {},
   "outputs": [],
   "source": [
    "class Solution:\n",
    "    def rangeSum(self, nums: List[int], n: int, left: int, right: int) -> int:\n",
    "        temp = []\n",
    "        result = 0\n",
    "        for n in range(len(nums)):\n",
    "            sub = nums[n:]\n",
    "            t = 0\n",
    "            for s in sub:\n",
    "                t += s\n",
    "                temp.append(t)\n",
    "        temp.sort()\n",
    "        target = temp[left-1:right]\n",
    "        for tar in target:\n",
    "            result += tar\n",
    "        return result%(10**9 + 7)"
   ]
  }
 ],
 "metadata": {
  "kernelspec": {
   "display_name": "Python 3",
   "language": "python",
   "name": "python3"
  },
  "language_info": {
   "codemirror_mode": {
    "name": "ipython",
    "version": 3
   },
   "file_extension": ".py",
   "mimetype": "text/x-python",
   "name": "python",
   "nbconvert_exporter": "python",
   "pygments_lexer": "ipython3",
   "version": "3.7.6"
  }
 },
 "nbformat": 4,
 "nbformat_minor": 4
}
