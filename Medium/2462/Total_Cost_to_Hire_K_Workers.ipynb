{
 "cells": [
  {
   "cell_type": "markdown",
   "id": "82787ff4-f8ff-4571-af18-f005cdb06283",
   "metadata": {},
   "source": [
    "# 本題要找出雇用K個員工最低的成本為多少 (\\#Array, \\#Heap )\n",
    "原題目連結: https://leetcode.com/problems/total-cost-to-hire-k-workers/description/  \n",
    "\n",
    "You are given a 0-indexed integer array costs where costs[i] is the cost of hiring the ith worker.  \n",
    "\n",
    "You are also given two integers k and candidates. We want to hire exactly k workers according to the following rules:  \n",
    "\n",
    "You will run k sessions and hire exactly one worker in each session.  \n",
    "In each hiring session, choose the worker with the lowest cost from either the first candidates workers or the last candidates workers. Break the tie by the smallest index.  \n",
    "For example, if costs = [3,2,7,7,1,2] and candidates = 2, then in the first hiring session, we will choose the 4th worker because they have the lowest cost [3,2,7,7,1,2].  \n",
    "In the second hiring session, we will choose 1st worker because they have the same lowest cost as 4th worker but they have the smallest index [3,2,7,7,2]. Please note that the indexing may be changed in the process.  \n",
    "If there are fewer than candidates workers remaining, choose the worker with the lowest cost among them. Break the tie by the smallest index.  \n",
    "A worker can only be chosen once.  \n",
    "Return the total cost to hire exactly k workers.  \n",
    "\n",
    "範例:  \n",
    "Ex1:  \n",
    "Input: costs = [17,12,10,2,7,2,11,20,8], k = 3, candidates = 4  \n",
    "Output: 11  \n",
    "Explanation: We hire 3 workers in total. The total cost is initially 0.  \n",
    "- In the first hiring round we choose the worker from [17,12,10,2,7,2,11,20,8]. The lowest cost is 2, and we break the tie by the smallest index, which is 3. The total cost = 0 + 2 = 2.  \n",
    "- In the second hiring round we choose the worker from [17,12,10,7,2,11,20,8]. The lowest cost is 2 (index 4). The total cost = 2 + 2 = 4.  \n",
    "- In the third hiring round we choose the worker from [17,12,10,7,11,20,8]. The lowest cost is 7 (index 3). The total cost = 4 + 7 = 11. Notice that the worker with index 3 was common in the first and last four workers.  \n",
    "The total hiring cost is 11.  \n",
    "\n",
    "Ex2:  \n",
    "Input: costs = [1,2,4,1], k = 3, candidates = 3  \n",
    "Output: 4  \n",
    "Explanation: We hire 3 workers in total. The total cost is initially 0.  \n",
    "- In the first hiring round we choose the worker from [1,2,4,1]. The lowest cost is 1, and we break the tie by the smallest index, which is 0. The total cost = 0 + 1 = 1. Notice that workers with index 1 and 2 are common in the first and last 3 workers.  \n",
    "- In the second hiring round we choose the worker from [2,4,1]. The lowest cost is 1 (index 2). The total cost = 1 + 1 = 2.  \n",
    "- In the third hiring round there are less than three candidates. We choose the worker from the remaining workers [2,4]. The lowest cost is 2 (index 0). The total cost = 2 + 2 = 4.  \n",
    "The total hiring cost is 4."
   ]
  },
  {
   "cell_type": "markdown",
   "id": "b51782bd-29b7-464a-8be5-ba88df956fc7",
   "metadata": {},
   "source": [
    "* 解題想法:  \n",
    "首先檢查costs的長度是否等於要雇用的人數，如果是的話則成本就是全部的cost總和，另外如果costs的長度小於2倍的候選人時，則總成本就是從costs中取出最小的k個值，如果都不符合，則將前面幾個候選人與後面幾個候選人轉換成heap，接著開始從這兩個取值比較，如果前面的值比較小則前面需再放入新的數值，如果是後面叫小則放入新的值到後面。最後回傳總成本就是答案"
   ]
  },
  {
   "cell_type": "code",
   "execution_count": null,
   "id": "0cf8002c-a74c-4a93-8158-b416641cdc62",
   "metadata": {},
   "outputs": [],
   "source": [
    "import heapq\n",
    "\n",
    "class Solution:\n",
    "    def totalCost(self, costs: List[int], k: int, candidates: int) -> int:\n",
    "        res = 0\n",
    "        if len(costs) == k:\n",
    "            for c in costs:\n",
    "                res += c\n",
    "        elif len(costs) < candidates * 2:\n",
    "            heapq.heapify(costs)\n",
    "            for _ in range(k):\n",
    "                res += heapq.heappop(costs)\n",
    "        else:\n",
    "            l = candidates\n",
    "            r = len(costs) - candidates\n",
    "            h = costs[:l]\n",
    "            t = costs[r:]\n",
    "            heapq.heapify(h)\n",
    "            heapq.heapify(t)\n",
    "            while k > 0 and h and t:\n",
    "                n1 = heapq.heappop(h)\n",
    "                n2 = heapq.heappop(t)\n",
    "                if n1 <= n2:\n",
    "                    res += n1\n",
    "                    heapq.heappush(t, n2)\n",
    "                    if l < r: \n",
    "                        heapq.heappush(h, costs[l])\n",
    "                        l += 1\n",
    "                else:\n",
    "                    res += n2\n",
    "                    heapq.heappush(h, n1)\n",
    "                    if r > l:\n",
    "                        r -= 1\n",
    "                        heapq.heappush(t, costs[r])\n",
    "                k -= 1  \n",
    "\n",
    "            if k > 0 and not h:\n",
    "                for _ in range(k):\n",
    "                    res += heapq.heappop(t)\n",
    "            if k > 0 and not t:\n",
    "                for _ in range(k):\n",
    "                    res += heapq.heappop(h)\n",
    "        return res"
   ]
  }
 ],
 "metadata": {
  "kernelspec": {
   "display_name": "Python 3 (ipykernel)",
   "language": "python",
   "name": "python3"
  },
  "language_info": {
   "codemirror_mode": {
    "name": "ipython",
    "version": 3
   },
   "file_extension": ".py",
   "mimetype": "text/x-python",
   "name": "python",
   "nbconvert_exporter": "python",
   "pygments_lexer": "ipython3",
   "version": "3.9.13"
  }
 },
 "nbformat": 4,
 "nbformat_minor": 5
}
