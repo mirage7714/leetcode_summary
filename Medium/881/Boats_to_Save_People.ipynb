{
 "cells": [
  {
   "cell_type": "markdown",
   "metadata": {},
   "source": [
    "# 本題要計算最少要多少船隻才能把所有人都運走\n",
    "原題目連結: https://leetcode.com/problems/boats-to-save-people/  \n",
    "\n",
    "You are given an array people where people[i] is the weight of the ith person, and an infinite number of boats where each boat can carry a maximum weight of limit. Each boat carries at most two people at the same time, provided the sum of the weight of those people is at most limit.  \n",
    "\n",
    "Return the minimum number of boats to carry every given person.  \n",
    "\n",
    "範例:  \n",
    "Ex1:  \n",
    "Input: people = [1,2], limit = 3  \n",
    "Output: 1  \n",
    "Explanation: 1 boat (1, 2)  \n",
    "\n",
    "Ex2:  \n",
    "Input: people = [3,2,2,1], limit = 3  \n",
    "Output: 3  \n",
    "Explanation: 3 boats (1, 2), (2) and (3)  \n",
    "\n",
    "Ex3:  \n",
    "Input: people = [3,5,3,4], limit = 5  \n",
    "Output: 4  \n",
    "Explanation: 4 boats (3), (3), (4), (5)"
   ]
  },
  {
   "cell_type": "markdown",
   "metadata": {},
   "source": [
    "* 解題想法:  \n",
    "首先將peopel內的數值進行排序之後，依序開始與limit進行比較，如果相等則代表沒空間可以多一個人，因此將結果+1後從people中移除，如果小於limit則檢查如果加上最後面的人是否符合條件，如果不符合條件則這艘船也只能載一個人，並將這個人從list中移除，直到people清空為止"
   ]
  },
  {
   "cell_type": "code",
   "execution_count": null,
   "metadata": {},
   "outputs": [],
   "source": [
    "class Solution:\n",
    "    def numRescueBoats(self, people: List[int], limit: int) -> int:\n",
    "        result = 0\n",
    "        people.sort(reverse = True)\n",
    "        while len(people) > 0:\n",
    "            if people[0] == limit:\n",
    "                result += 1\n",
    "                people.pop(0)\n",
    "            else:\n",
    "                if len(people) > 1:\n",
    "                    if people[-1] + people[0] <= limit:\n",
    "                        people.pop()\n",
    "                        people.pop(0)\n",
    "                        result += 1\n",
    "                    else:\n",
    "                        result += 1\n",
    "                        people.pop(0)\n",
    "                else:\n",
    "                    result += 1\n",
    "                    people.pop()\n",
    "        return result"
   ]
  }
 ],
 "metadata": {
  "kernelspec": {
   "display_name": "Python 3",
   "language": "python",
   "name": "python3"
  },
  "language_info": {
   "codemirror_mode": {
    "name": "ipython",
    "version": 3
   },
   "file_extension": ".py",
   "mimetype": "text/x-python",
   "name": "python",
   "nbconvert_exporter": "python",
   "pygments_lexer": "ipython3",
   "version": "3.7.4"
  }
 },
 "nbformat": 4,
 "nbformat_minor": 4
}
