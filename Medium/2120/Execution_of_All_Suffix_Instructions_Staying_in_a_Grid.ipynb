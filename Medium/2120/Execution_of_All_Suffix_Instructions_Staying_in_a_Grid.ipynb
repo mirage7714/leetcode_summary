{
 "cells": [
  {
   "cell_type": "markdown",
   "metadata": {},
   "source": [
    "# 本題要判斷機器人最多可以移動多少步 (\\#String)\n",
    "原題目連結: https://leetcode.com/problems/execution-of-all-suffix-instructions-staying-in-a-grid/description/  \n",
    "\n",
    "There is an n x n grid, with the top-left cell at (0, 0) and the bottom-right cell at (n - 1, n - 1). You are given the integer n and an integer array startPos where startPos = [startrow, startcol] indicates that a robot is initially at cell (startrow, startcol).  \n",
    "\n",
    "You are also given a 0-indexed string s of length m where s[i] is the ith instruction for the robot: 'L' (move left), 'R' (move right), 'U' (move up), and 'D' (move down).  \n",
    "\n",
    "The robot can begin executing from any ith instruction in s. It executes the instructions one by one towards the end of s but it stops if either of these conditions is met:  \n",
    "\n",
    "The next instruction will move the robot off the grid.  \n",
    "There are no more instructions left to execute.  \n",
    "Return an array answer of length m where answer[i] is the number of instructions the robot can execute if the robot begins executing from the ith instruction in s.  \n",
    "\n",
    "範例:  \n",
    "Ex1:  \n",
    "Input: n = 3, startPos = [0,1], s = \"RRDDLU\"  \n",
    "Output: [1,5,4,3,1,0]  \n",
    "Explanation: Starting from startPos and beginning execution from the ith instruction:  \n",
    "- 0th: \"RRDDLU\". Only one instruction \"R\" can be executed before it moves off the grid.  \n",
    "- 1st:  \"RDDLU\". All five instructions can be executed while it stays in the grid and ends at (1, 1).  \n",
    "- 2nd:   \"DDLU\". All four instructions can be executed while it stays in the grid and ends at (1, 0).  \n",
    "- 3rd:    \"DLU\". All three instructions can be executed while it stays in the grid and ends at (0, 0).  \n",
    "- 4th:     \"LU\". Only one instruction \"L\" can be executed before it moves off the grid.  \n",
    "- 5th:      \"U\". If moving up, it would move off the grid.  \n",
    "\n",
    "Ex2:  \n",
    "Input: n = 2, startPos = [1,1], s = \"LURD\"  \n",
    "Output: [4,1,0,0]  \n",
    "Explanation:  \n",
    "- 0th: \"LURD\".  \n",
    "- 1st:  \"URD\".  \n",
    "- 2nd:   \"RD\".  \n",
    "- 3rd:    \"D\".  \n",
    "\n",
    "Ex3:  \n",
    "Input: n = 1, startPos = [0,0], s = \"LRUD\"  \n",
    "Output: [0,0,0,0]  \n",
    "Explanation: No matter which instruction the robot begins execution from, it would move off the grid."
   ]
  },
  {
   "cell_type": "markdown",
   "metadata": {},
   "source": [
    "* 解題想法:  \n",
    "用迴圈來判斷目前的點位是否還在區間內，如果不在區間內則繼續朝下一個點位移動，直到路線結束或是超出區域則停止，接著將移動的步數放入list中，最後回傳list作為答案"
   ]
  },
  {
   "cell_type": "code",
   "execution_count": null,
   "metadata": {},
   "outputs": [],
   "source": [
    "class Solution:\n",
    "    def executeInstructions(self, n: int, startPos: List[int], s: str) -> List[int]:\n",
    "        res = []\n",
    "        for m in range(len(s)):\n",
    "            t = 0\n",
    "            p = [startPos[0], startPos[1]]\n",
    "            path = s[m:]\n",
    "            for i in path:\n",
    "                if i == 'U':\n",
    "                    p[0] -= 1\n",
    "                elif i == 'D':\n",
    "                    p[0] += 1\n",
    "                elif i == 'L':\n",
    "                    p[1] -= 1\n",
    "                elif i == 'R':\n",
    "                    p[1] += 1\n",
    "                if p[0] >= 0 and p[0] < n and p[1] >= 0 and p[1] < n:\n",
    "                    t += 1\n",
    "                else:\n",
    "                    break \n",
    "            res.append(t)\n",
    "        return res"
   ]
  }
 ],
 "metadata": {
  "kernelspec": {
   "display_name": "Python 3",
   "language": "python",
   "name": "python3"
  },
  "language_info": {
   "codemirror_mode": {
    "name": "ipython",
    "version": 3
   },
   "file_extension": ".py",
   "mimetype": "text/x-python",
   "name": "python",
   "nbconvert_exporter": "python",
   "pygments_lexer": "ipython3",
   "version": "3.7.6"
  }
 },
 "nbformat": 4,
 "nbformat_minor": 4
}
