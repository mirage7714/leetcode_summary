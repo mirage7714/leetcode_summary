{
 "cells": [
  {
   "cell_type": "markdown",
   "id": "cfb0eec3-9360-488d-b7c8-cd74bddb189a",
   "metadata": {},
   "source": [
    "# 本題要計算出第一個被填滿的row或是column (\\#Array, \\#HashMap)\n",
    "原題目連結: https://leetcode.com/problems/first-completely-painted-row-or-column/description/   \n",
    "\n",
    "You are given a 0-indexed integer array arr, and an m x n integer matrix mat. arr and mat both contain all the integers in the range [1, m * n].   \n",
    "\n",
    "Go through each index i in arr starting from index 0 and paint the cell in mat containing the integer arr[i].  \n",
    "Return the smallest index i at which either a row or a column will be completely painted in mat.  \n",
    "\n",
    "範例:  \n",
    "Ex1:  \n",
    "Input: arr = [1,3,4,2], mat = [[1,4],[2,3]]  \n",
    "Output: 2  \n",
    "Explanation: The moves are shown in order, and both the first row and second column of the matrix become fully painted at arr[2].  \n",
    "\n",
    "Ex2:  \n",
    "Input: arr = [2,8,7,4,1,3,5,6,9], mat = [[3,2,5],[1,4,6],[8,7,9]]   \n",
    "Output: 3  \n",
    "Explanation: The second column becomes fully painted at arr[3].  "
   ]
  },
  {
   "cell_type": "markdown",
   "id": "4776a96d-d8d7-4ff2-aa95-5388ed60eb70",
   "metadata": {},
   "source": [
    "* 解題想法:  \n",
    "首先將所有的數字與對應的座標找出，接著從頭開始檢查每列與每欄目前共有多少數值，如果有一列或一欄到達指定的數值時則回傳目前的index"
   ]
  },
  {
   "cell_type": "code",
   "execution_count": null,
   "id": "61ba0f91-b7de-454c-9288-a4f686172750",
   "metadata": {},
   "outputs": [],
   "source": [
    "class Solution:\n",
    "    def firstCompleteIndex(self, arr: List[int], mat: List[List[int]]) -> int:\n",
    "        res = 0\n",
    "        loc = {}\n",
    "        r = {}\n",
    "        c = {}\n",
    "        m = len(mat)\n",
    "        n = len(mat[0])\n",
    "        if m == 1 or n == 1:\n",
    "            return res\n",
    "        for i in range(m):\n",
    "            for j in range(n):\n",
    "                loc[mat[i][j]] = [i,j]\n",
    "        for a in arr:\n",
    "            l = loc[a]\n",
    "            if l[0] not in r.keys():\n",
    "                r[l[0]] = 1\n",
    "            else:\n",
    "                r[l[0]] += 1\n",
    "                if r[l[0]] == n:\n",
    "                    return res\n",
    "            if l[1] not in c.keys():\n",
    "                c[l[1]] = 1\n",
    "            else:\n",
    "                c[l[1]] += 1\n",
    "                if c[l[1]] == m:\n",
    "                    return res\n",
    "            res += 1"
   ]
  }
 ],
 "metadata": {
  "kernelspec": {
   "display_name": "Python 3 (ipykernel)",
   "language": "python",
   "name": "python3"
  },
  "language_info": {
   "codemirror_mode": {
    "name": "ipython",
    "version": 3
   },
   "file_extension": ".py",
   "mimetype": "text/x-python",
   "name": "python",
   "nbconvert_exporter": "python",
   "pygments_lexer": "ipython3",
   "version": "3.9.13"
  }
 },
 "nbformat": 4,
 "nbformat_minor": 5
}
