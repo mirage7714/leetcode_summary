{
 "cells": [
  {
   "cell_type": "markdown",
   "metadata": {},
   "source": [
    "# 本題要找出將原本list總和減少一半的最少次數為何\n",
    "原題目連結: https://leetcode.com/problems/minimum-operations-to-halve-array-sum/  \n",
    "\n",
    "You are given an array nums of positive integers. In one operation, you can choose any number from nums and reduce it to exactly half the number. (Note that you may choose this reduced number in future operations.)  \n",
    "\n",
    "Return the minimum number of operations to reduce the sum of nums by at least half.  \n",
    "\n",
    "範例:  \n",
    "Ex1:  \n",
    "Input: nums = [5,19,8,1]  \n",
    "Output: 3  \n",
    "Explanation: The initial sum of nums is equal to 5 + 19 + 8 + 1 = 33.  \n",
    "The following is one of the ways to reduce the sum by at least half:  \n",
    "Pick the number 19 and reduce it to 9.5.  \n",
    "Pick the number 9.5 and reduce it to 4.75.  \n",
    "Pick the number 8 and reduce it to 4.  \n",
    "The final array is [5, 4.75, 4, 1] with a total sum of 5 + 4.75 + 4 + 1 = 14.75.   \n",
    "The sum of nums has been reduced by 33 - 14.75 = 18.25, which is at least half of the initial sum, 18.25 >= 33/2 = 16.5.  \n",
    "Overall, 3 operations were used so we return 3.  \n",
    "It can be shown that we cannot reduce the sum by at least half in less than 3 operations.  \n",
    "\n",
    "Ex2:  \n",
    "Input: nums = [3,8,20]  \n",
    "Output: 3  \n",
    "Explanation: The initial sum of nums is equal to 3 + 8 + 20 = 31.  \n",
    "The following is one of the ways to reduce the sum by at least half:  \n",
    "Pick the number 20 and reduce it to 10.  \n",
    "Pick the number 10 and reduce it to 5.  \n",
    "Pick the number 3 and reduce it to 1.5.  \n",
    "The final array is [1.5, 8, 5] with a total sum of 1.5 + 8 + 5 = 14.5.   \n",
    "The sum of nums has been reduced by 31 - 14.5 = 16.5, which is at least half of the initial sum, 16.5 >= 31/2 = 16.5.  \n",
    "Overall, 3 operations were used so we return 3.  \n",
    "It can be shown that we cannot reduce the sum by at least half in less than 3 operations."
   ]
  },
  {
   "cell_type": "markdown",
   "metadata": {},
   "source": [
    "* 解題想法:  \n",
    "首先用一個list將原本數值轉為負值後放入，並將原本list的總和一半計算出來，接著將負值的list轉換為heapq之後，從最小值開始取出，並將一半的值加到原本的總和上，再將更新後的值放入heap中，直到總和小於0再停止，最後回傳總執行的次數"
   ]
  },
  {
   "cell_type": "code",
   "execution_count": null,
   "metadata": {},
   "outputs": [],
   "source": [
    "import heapq\n",
    "\n",
    "class Solution:\n",
    "    def halveArray(self, nums: List[int]) -> int:\n",
    "        count = 0\n",
    "        total = 0\n",
    "        heap = []\n",
    "        for n in nums:\n",
    "            total += float(n/2)\n",
    "            heap.append(-n)\n",
    "        heapq.heapify(heap)\n",
    "        while total > 0:\n",
    "            h = heapq.heappop(heap)\n",
    "            total += float(h/2)\n",
    "            h = float(h/2)\n",
    "            count += 1\n",
    "            heapq.heappush(heap, h)\n",
    "        return count"
   ]
  }
 ],
 "metadata": {
  "kernelspec": {
   "display_name": "Python 3",
   "language": "python",
   "name": "python3"
  },
  "language_info": {
   "codemirror_mode": {
    "name": "ipython",
    "version": 3
   },
   "file_extension": ".py",
   "mimetype": "text/x-python",
   "name": "python",
   "nbconvert_exporter": "python",
   "pygments_lexer": "ipython3",
   "version": "3.7.4"
  }
 },
 "nbformat": 4,
 "nbformat_minor": 4
}
