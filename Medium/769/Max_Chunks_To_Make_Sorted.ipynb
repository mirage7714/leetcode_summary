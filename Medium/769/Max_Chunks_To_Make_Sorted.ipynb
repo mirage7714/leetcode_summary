{
 "cells": [
  {
   "cell_type": "markdown",
   "metadata": {},
   "source": [
    "# 本題要算出指定的list最多可以分成多少個partition並符合排序後的順序\n",
    "原題目連結: https://leetcode.com/problems/max-chunks-to-make-sorted/  \n",
    "\n",
    "You are given an integer array arr of length n that represents a permutation of the integers in the range [0, n - 1].  \n",
    "We split arr into some number of chunks (i.e., partitions), and individually sort each chunk. After concatenating them, the result should equal the sorted array.  \n",
    "Return the largest number of chunks we can make to sort the array.  \n",
    "\n",
    "範例:  \n",
    "Ex1:  \n",
    "Input: arr = [4,3,2,1,0]  \n",
    "Output: 1  \n",
    "Explanation:  \n",
    "Splitting into two or more chunks will not return the required result.  \n",
    "For example, splitting into [4, 3], [2, 1, 0] will result in [3, 4, 0, 1, 2], which isn't sorted.  \n",
    "\n",
    "Ex2:  \n",
    "Input: arr = [1,0,2,3,4]  \n",
    "Output: 4  \n",
    "Explanation:  \n",
    "We can split into two chunks, such as [1, 0], [2, 3, 4].  \n",
    "However, splitting into [1, 0], [2], [3], [4] is the highest number of chunks possible."
   ]
  },
  {
   "cell_type": "markdown",
   "metadata": {},
   "source": [
    "* 解題想法:  \n",
    "為了要比較是否與排序過後的順序相同，首先用另一個list來放arr排序過後的值，接著從頭開始與排序後的list進行比較:  \n",
    "- 如果當兩個list的值不相同時，則先放入一個暫存的list中，等到暫存的list長度大於1之後，再重新排序之後確認順序是否正確，如果正確則將數值加1後清空list，如果不正確則繼續進行下一個數字  \n",
    "- 如果兩個list的值相同時，則檢查暫存的list中是否有數值，如果沒有的話則直接將數值+1，如果有值的話則檢查暫存中的值順序是否正確，如果正確則將數值+2後清空暫存，否則將數值放入暫存後繼續\n",
    "最後如果暫存中還有數字的話，則再將數值加1"
   ]
  },
  {
   "cell_type": "code",
   "execution_count": null,
   "metadata": {},
   "outputs": [],
   "source": [
    "class Solution:\n",
    "    def maxChunksToSorted(self, arr: List[int]) -> int:\n",
    "        count = 0\n",
    "        sorts = sorted(arr)\n",
    "        temp = []\n",
    "        for m in range(len(sorts)):\n",
    "            if sorts[m] == arr[m]:\n",
    "                if len(temp) > 0:\n",
    "                    temp.sort()\n",
    "                    if temp == sorts[m-len(temp):m]:\n",
    "                        count += 2\n",
    "                        temp.clear()\n",
    "                    else:\n",
    "                        temp.append(arr[m])\n",
    "                else:\n",
    "                    count += 1\n",
    "            else:\n",
    "                temp.append(arr[m])\n",
    "                if len(temp) > 1:\n",
    "                    temp.sort()\n",
    "                    if temp == sorts[m-len(temp)+1:m+1]:\n",
    "                        count += 1\n",
    "                        temp.clear()\n",
    "        if len(temp) > 0:\n",
    "            count += 1\n",
    "        return count"
   ]
  }
 ],
 "metadata": {
  "kernelspec": {
   "display_name": "Python 3",
   "language": "python",
   "name": "python3"
  },
  "language_info": {
   "codemirror_mode": {
    "name": "ipython",
    "version": 3
   },
   "file_extension": ".py",
   "mimetype": "text/x-python",
   "name": "python",
   "nbconvert_exporter": "python",
   "pygments_lexer": "ipython3",
   "version": "3.7.4"
  }
 },
 "nbformat": 4,
 "nbformat_minor": 4
}
