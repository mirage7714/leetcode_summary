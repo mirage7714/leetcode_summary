{
 "cells": [
  {
   "cell_type": "markdown",
   "metadata": {},
   "source": [
    "# 本題要找出設定時間的最少成本為多少 (\\#Math)\n",
    "原題目連結: https://leetcode.com/problems/minimum-cost-to-set-cooking-time/description/  \n",
    "\n",
    "A generic microwave supports cooking times for:  \n",
    "\n",
    "at least 1 second.  \n",
    "at most 99 minutes and 99 seconds.  \n",
    "To set the cooking time, you push at most four digits. The microwave normalizes what you push as four digits by prepending zeroes. It interprets the first two digits as the minutes and the last two digits as the seconds. It then adds them up as the cooking time. For example,  \n",
    "\n",
    "You push 9 5 4 (three digits). It is normalized as 0954 and interpreted as 9 minutes and 54 seconds.  \n",
    "You push 0 0 0 8 (four digits). It is interpreted as 0 minutes and 8 seconds.  \n",
    "You push 8 0 9 0. It is interpreted as 80 minutes and 90 seconds.  \n",
    "You push 8 1 3 0. It is interpreted as 81 minutes and 30 seconds.  \n",
    "You are given integers startAt, moveCost, pushCost, and targetSeconds. Initially, your finger is on the digit startAt. Moving the finger above any specific digit costs moveCost units of fatigue. Pushing the digit below the finger once costs pushCost units of fatigue.  \n",
    "\n",
    "There can be multiple ways to set the microwave to cook for targetSeconds seconds but you are interested in the way with the minimum cost.  \n",
    "Return the minimum cost to set targetSeconds seconds of cooking time.  \n",
    "Remember that one minute consists of 60 seconds.  \n",
    "\n",
    "範例:  \n",
    "Ex1:  \n",
    "Input: startAt = 1, moveCost = 2, pushCost = 1, targetSeconds = 600  \n",
    "Output: 6  \n",
    "Explanation: The following are the possible ways to set the cooking time.  \n",
    "- 1 0 0 0, interpreted as 10 minutes and 0 seconds.  \n",
    "  The finger is already on digit 1, pushes 1 (with cost 1), moves to 0 (with cost 2), pushes 0 (with cost 1), pushes 0 (with cost 1), and pushes 0 (with cost 1).  \n",
    "  The cost is: 1 + 2 + 1 + 1 + 1 = 6. This is the minimum cost.  \n",
    "- 0 9 6 0, interpreted as 9 minutes and 60 seconds. That is also 600 seconds.  \n",
    "  The finger moves to 0 (with cost 2), pushes 0 (with cost 1), moves to 9 (with cost 2), pushes 9 (with cost 1), moves to 6 (with cost 2), pushes 6 (with cost 1), moves to 0 (with cost 2), and pushes 0 (with cost 1).  \n",
    "  The cost is: 2 + 1 + 2 + 1 + 2 + 1 + 2 + 1 = 12.  \n",
    "- 9 6 0, normalized as 0960 and interpreted as 9 minutes and 60 seconds.  \n",
    "  The finger moves to 9 (with cost 2), pushes 9 (with cost 1), moves to 6 (with cost 2), pushes 6 (with cost 1), moves to 0 (with cost 2), and pushes 0 (with cost 1).  \n",
    "  The cost is: 2 + 1 + 2 + 1 + 2 + 1 = 9.  \n",
    "  \n",
    "Ex2:  \n",
    "Input: startAt = 0, moveCost = 1, pushCost = 2, targetSeconds = 76  \n",
    "Output: 6  \n",
    "Explanation: The optimal way is to push two digits: 7 6, interpreted as 76 seconds.  \n",
    "The finger moves to 7 (with cost 1), pushes 7 (with cost 2), moves to 6 (with cost 1), and pushes 6 (with cost 2). The total cost is: 1 + 2 + 1 + 2 = 6  \n",
    "Note other possible ways are 0076, 076, 0116, and 116, but none of them produces the minimum cost."
   ]
  },
  {
   "cell_type": "markdown",
   "metadata": {},
   "source": [
    "* 解題想法:  \n",
    "首先將指定的秒數轉換為分鐘與秒數的組合，並確保分鐘與秒數都符合要求，接著建立一個函數用來計算按壓與移動需要的總成本為多少，最後找出最小的結果就是答案"
   ]
  },
  {
   "cell_type": "code",
   "execution_count": null,
   "metadata": {},
   "outputs": [],
   "source": [
    "class Solution:\n",
    "    def minCostSetTime(self, startAt: int, moveCost: int, pushCost: int, targetSeconds: int) -> int:\n",
    "        def count_move(time, start, move, push):\n",
    "            res = 0\n",
    "            s = str(start)                \n",
    "            for m in range(len(time)):\n",
    "                if time[m] != s:\n",
    "                    res += move\n",
    "                    s = time[m]\n",
    "                res += push\n",
    "            return res\n",
    "\n",
    "        res = 0\n",
    "        m = targetSeconds // 60\n",
    "        s = targetSeconds % 60\n",
    "        if m > 99:\n",
    "            m -= 1\n",
    "            s += 60\n",
    "        if s < 10 and m > 0:\n",
    "            res = count_move('{}0{}'.format(m, s), startAt, moveCost, pushCost)\n",
    "        elif s >= 10 and m > 0:\n",
    "            res = count_move('{}{}'.format(m, s), startAt, moveCost, pushCost)\n",
    "        else:\n",
    "            res = count_move('{}'.format(s), startAt, moveCost, pushCost)\n",
    "        if s <= 39 and m >= 1:\n",
    "            m -= 1\n",
    "            s += 60\n",
    "            if m > 0: \n",
    "                res = min(res, count_move('{}{}'.format(m, s), startAt, moveCost, pushCost))\n",
    "            else:\n",
    "                res = min(res, count_move('{}'.format(s), startAt, moveCost, pushCost))\n",
    "        return res"
   ]
  }
 ],
 "metadata": {
  "kernelspec": {
   "display_name": "Python 3",
   "language": "python",
   "name": "python3"
  },
  "language_info": {
   "codemirror_mode": {
    "name": "ipython",
    "version": 3
   },
   "file_extension": ".py",
   "mimetype": "text/x-python",
   "name": "python",
   "nbconvert_exporter": "python",
   "pygments_lexer": "ipython3",
   "version": "3.7.6"
  }
 },
 "nbformat": 4,
 "nbformat_minor": 4
}
