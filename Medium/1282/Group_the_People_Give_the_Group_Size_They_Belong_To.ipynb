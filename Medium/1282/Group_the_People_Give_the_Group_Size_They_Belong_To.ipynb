{
 "cells": [
  {
   "cell_type": "markdown",
   "id": "0b7414e7-a11d-41bf-80ee-013d7eac5d5f",
   "metadata": {},
   "source": [
    "# 本題要將所有的人分到指定的group中 (\\#Array, \\#HashTable )\n",
    "原題目連結: https://leetcode.com/problems/group-the-people-given-the-group-size-they-belong-to/description  \n",
    "\n",
    "There are n people that are split into some unknown number of groups. Each person is labeled with a unique ID from 0 to n - 1.  \n",
    "\n",
    "You are given an integer array groupSizes, where groupSizes[i] is the size of the group that person i is in. For example, if groupSizes[1] = 3, then person 1 must be in a group of size 3.  \n",
    "\n",
    "Return a list of groups such that each person i is in a group of size groupSizes[i].  \n",
    "\n",
    "Each person should appear in exactly one group, and every person must be in a group. If there are multiple answers, return any of them. It is guaranteed that there will be at least one valid solution for the given input.  \n",
    "\n",
    "範例:  \n",
    "Ex1:  \n",
    "Input: groupSizes = [3,3,3,3,3,1,3]  \n",
    "Output: [[5],[0,1,2],[3,4,6]]  \n",
    "Explanation:   \n",
    "The first group is [5]. The size is 1, and groupSizes[5] = 1.  \n",
    "The second group is [0,1,2]. The size is 3, and groupSizes[0] = groupSizes[1] = groupSizes[2] = 3.  \n",
    "The third group is [3,4,6]. The size is 3, and groupSizes[3] = groupSizes[4] = groupSizes[6] = 3.  \n",
    "Other possible solutions are [[2,1,6],[5],[0,4,3]] and [[5],[0,6,2],[4,3,1]].   \n",
    "\n",
    "Ex2:  \n",
    "Input: groupSizes = [2,1,3,3,3,2]  \n",
    "Output: [[1],[0,5],[2,3,4]]  "
   ]
  },
  {
   "cell_type": "markdown",
   "id": "3d44e9c5-64be-4263-bf20-65fd5f4e1cf0",
   "metadata": {},
   "source": [
    "* 解題想法:  \n",
    "首先用一個dict來放每個人需要的組別人數，接著將該成員放入dict後檢查該list的長度是否符合該組長度的限制，如果達到則將該list放入結果中並移除該長度的組員，最後回傳結果"
   ]
  },
  {
   "cell_type": "code",
   "execution_count": null,
   "id": "1231574d-7d9f-46a7-8004-900e20af7753",
   "metadata": {},
   "outputs": [],
   "source": [
    "class Solution:\n",
    "    def groupThePeople(self, groupSizes: List[int]) -> List[List[int]]:\n",
    "        res = []\n",
    "        count = {}\n",
    "        for i in range(len(groupSizes)):\n",
    "            g = groupSizes[i]\n",
    "            if g not in count.keys():\n",
    "                count[g] = [i]\n",
    "            else:\n",
    "                count[g].append(i)\n",
    "            if len(count[g]) == g:\n",
    "                t = count[g]\n",
    "                res.append(t)\n",
    "                count.pop(g)\n",
    "        return res"
   ]
  }
 ],
 "metadata": {
  "kernelspec": {
   "display_name": "Python 3 (ipykernel)",
   "language": "python",
   "name": "python3"
  },
  "language_info": {
   "codemirror_mode": {
    "name": "ipython",
    "version": 3
   },
   "file_extension": ".py",
   "mimetype": "text/x-python",
   "name": "python",
   "nbconvert_exporter": "python",
   "pygments_lexer": "ipython3",
   "version": "3.9.13"
  }
 },
 "nbformat": 4,
 "nbformat_minor": 5
}
