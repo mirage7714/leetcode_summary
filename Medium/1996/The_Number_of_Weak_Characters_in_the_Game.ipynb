{
 "cells": [
  {
   "cell_type": "markdown",
   "metadata": {},
   "source": [
    "# 本題要找出共有多少個角色的數值是比另一個角色的數值低的 (\\#Array, \\#Greedy, \\#Monotonic Stack, \\#Stack, \\#Sort)\n",
    "原題目連結: https://leetcode.com/problems/the-number-of-weak-characters-in-the-game/  \n",
    "\n",
    "You are playing a game that contains multiple characters, and each of the characters has two main properties: attack and defense. You are given a 2D integer array properties where properties[i] = [attacki, defensei] represents the properties of the ith character in the game.  \n",
    "\n",
    "A character is said to be weak if any other character has both attack and defense levels strictly greater than this character's attack and defense levels. More formally, a character i is said to be weak if there exists another character j where attackj > attacki and defensej > defensei.  \n",
    "\n",
    "Return the number of weak characters.  \n",
    "\n",
    "範例:  \n",
    "Ex1:  \n",
    "Input: properties = [[5,5],[6,3],[3,6]]  \n",
    "Output: 0  \n",
    "Explanation: No character has strictly greater attack and defense than the other.  \n",
    "\n",
    "Ex2:  \n",
    "Input: properties = [[2,2],[3,3]]  \n",
    "Output: 1  \n",
    "Explanation: The first character is weak because the second character has a strictly greater attack and defense.  \n",
    "\n",
    "Ex3:  \n",
    "Input: properties = [[1,5],[10,4],[4,3]]  \n",
    "Output: 1  \n",
    "Explanation: The third character is weak because the second character has a strictly greater attack and defense.  "
   ]
  },
  {
   "cell_type": "markdown",
   "metadata": {},
   "source": [
    "* 解題想法:  \n",
    "依照題目的提示，這題有個特點是需要進行排序，但不是一般的排序方式，而是需要把attack由大到小，但相同attack的情況下，defense要從小到大，在排序之後，用第一個數值當作標準。與後面數值進行比較，如果當attack與defense都小於暫存時則將count加一，如果遇到defense大於暫存時，則將暫存更新為目前的數值，最後回傳count值"
   ]
  },
  {
   "cell_type": "code",
   "execution_count": null,
   "metadata": {},
   "outputs": [],
   "source": [
    "class Solution:\n",
    "    def numberOfWeakCharacters(self, properties: List[List[int]]) -> int:\n",
    "        count = 0\n",
    "        properties.sort(key = lambda x: (-x[0],x[1]))\n",
    "        m = properties[0][0]\n",
    "        n = properties[0][1]\n",
    "        for l in range(1, len(properties)):\n",
    "            if properties[l][0] < m and properties[l][1] < n:\n",
    "                count += 1\n",
    "            elif properties[l][1] > n:\n",
    "                m = properties[l][0]\n",
    "                n = properties[l][1]\n",
    "        return count"
   ]
  }
 ],
 "metadata": {
  "kernelspec": {
   "display_name": "Python 3",
   "language": "python",
   "name": "python3"
  },
  "language_info": {
   "codemirror_mode": {
    "name": "ipython",
    "version": 3
   },
   "file_extension": ".py",
   "mimetype": "text/x-python",
   "name": "python",
   "nbconvert_exporter": "python",
   "pygments_lexer": "ipython3",
   "version": "3.7.6"
  }
 },
 "nbformat": 4,
 "nbformat_minor": 4
}
