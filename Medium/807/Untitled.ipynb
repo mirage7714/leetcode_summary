{
 "cells": [
  {
   "cell_type": "markdown",
   "metadata": {},
   "source": [
    "# 本題要找出在2D array中，每個元素與該列與該行最大值的差總和為多少\n",
    "原題目連結: https://leetcode.com/problems/max-increase-to-keep-city-skyline/  \n",
    "\n",
    "In a 2 dimensional array grid, each value grid[i][j] represents the height of a building located there. We are allowed to increase the height of any number of buildings, by any amount (the amounts can be different for different buildings). Height 0 is considered to be a building as well.   \n",
    "\n",
    "At the end, the \"skyline\" when viewed from all four directions of the grid, i.e. top, bottom, left, and right, must be the same as the skyline of the original grid. A city's skyline is the outer contour of the rectangles formed by all the buildings when viewed from a distance. See the following example.  \n",
    "\n",
    "What is the maximum total sum that the height of the buildings can be increased?  \n",
    "\n",
    "範例:  \n",
    "Ex1:  \n",
    "Input: grid = [[3,0,8,4],[2,4,5,7],[9,2,6,3],[0,3,1,0]]  \n",
    "Output: 35  \n",
    "Explanation:   \n",
    "The grid is:  \n",
    "[ [3, 0, 8, 4],   \n",
    "  [2, 4, 5, 7],  \n",
    "  [9, 2, 6, 3],  \n",
    "  [0, 3, 1, 0] ]  \n",
    "\n",
    "The skyline viewed from top or bottom is: [9, 4, 8, 7]  \n",
    "The skyline viewed from left or right is: [8, 7, 9, 3]  \n",
    "\n",
    "The grid after increasing the height of buildings without affecting skylines is:  \n",
    "\n",
    "gridNew = [ [8, 4, 8, 7],  \n",
    "            [7, 4, 7, 7],  \n",
    "            [9, 4, 8, 7],  \n",
    "            [3, 3, 3, 3] ]"
   ]
  },
  {
   "cell_type": "markdown",
   "metadata": {},
   "source": [
    "* 解題想法:  \n",
    "由於題目要求的是在不超過該列與該行最大值的情況下，該元素的差值為多少，因此要先找出該列與該行的最大值分別為和  \n",
    "列的最大值比較容易求得，相對起來行的最大值還需要先進行轉置之後才能找出，並分別用兩個list來存放這些值  \n",
    "最後用一個迴圈將每個元素與最大值進行比較，若小於最大值則計算與最大值之間的差值，並將值總和加起來"
   ]
  },
  {
   "cell_type": "code",
   "execution_count": null,
   "metadata": {},
   "outputs": [],
   "source": [
    "class Solution:\n",
    "    def maxIncreaseKeepingSkyline(self, grid: List[List[int]]) -> int:\n",
    "        result = 0\n",
    "        row_max = []\n",
    "        col_max = []\n",
    "        col = []\n",
    "        for l in range(len(grid[0])):\n",
    "            col.append([])\n",
    "        for m in range(len(grid)):\n",
    "            r_m = max(grid[m])\n",
    "            row_max.append(r_m)\n",
    "            for n in range(len(grid[m])):\n",
    "                col[n].append(grid[m][n])\n",
    "        for o in col:\n",
    "            col_max.append(max(o))\n",
    "        for x in range(len(grid)):\n",
    "            for y in range(len(grid[x])):\n",
    "                if grid[x][y] != row_max[x]:\n",
    "                    temp = min([row_max[x], col_max[y]])\n",
    "                    result += temp - grid[x][y]\n",
    "        return result"
   ]
  }
 ],
 "metadata": {
  "kernelspec": {
   "display_name": "Python 3",
   "language": "python",
   "name": "python3"
  },
  "language_info": {
   "codemirror_mode": {
    "name": "ipython",
    "version": 3
   },
   "file_extension": ".py",
   "mimetype": "text/x-python",
   "name": "python",
   "nbconvert_exporter": "python",
   "pygments_lexer": "ipython3",
   "version": "3.7.6"
  }
 },
 "nbformat": 4,
 "nbformat_minor": 4
}
