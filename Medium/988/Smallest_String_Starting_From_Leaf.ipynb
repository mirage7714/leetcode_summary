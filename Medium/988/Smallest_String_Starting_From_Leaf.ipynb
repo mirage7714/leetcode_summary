{
 "cells": [
  {
   "cell_type": "markdown",
   "metadata": {},
   "source": [
    "# 本題要找出從節點的最小字串為何\n",
    "原題目連結: https://leetcode.com/problems/smallest-string-starting-from-leaf/  \n",
    "\n",
    "You are given the root of a binary tree where each node has a value in the range [0, 25] representing the letters 'a' to 'z'.  \n",
    "Return the lexicographically smallest string that starts at a leaf of this tree and ends at the root.  \n",
    "As a reminder, any shorter prefix of a string is lexicographically smaller.  \n",
    "\n",
    "For example, \"ab\" is lexicographically smaller than \"aba\".  \n",
    "A leaf of a node is a node that has no children.  \n",
    "\n",
    "範例:  \n",
    "Ex1:  \n",
    "Input: root = [0,1,2,3,4,3,4]  \n",
    "Output: \"dba\"  \n",
    "\n",
    "Ex2:  \n",
    "Input: root = [25,1,3,1,3,0,2]  \n",
    "Output: \"adz\"  \n",
    "\n",
    "Ex3:  \n",
    "Input: root = [2,2,1,null,1,0,null,0]  \n",
    "Output: \"abc\""
   ]
  },
  {
   "cell_type": "markdown",
   "metadata": {},
   "source": [
    "* 解題想法:  \n",
    "一樣是路徑類的問題，只是在建立字串時需要反過來進行建立字串，並將建立好的字串放入一個list中，最後將list中最小的字串進行回傳"
   ]
  },
  {
   "cell_type": "code",
   "execution_count": null,
   "metadata": {},
   "outputs": [],
   "source": [
    "# Definition for a binary tree node.\n",
    "# class TreeNode:\n",
    "#     def __init__(self, val=0, left=None, right=None):\n",
    "#         self.val = val\n",
    "#         self.left = left\n",
    "#         self.right = right\n",
    "class Solution:\n",
    "    def smallestFromLeaf(self, root: Optional[TreeNode]) -> str:\n",
    "        def construct(node, res):\n",
    "            res = chars[node.val] + res\n",
    "            if not node.left and not node.right:\n",
    "                result.append(res)\n",
    "            else:\n",
    "                if node.left:\n",
    "                    construct(node.left, res)\n",
    "                if node.right:\n",
    "                    construct(node.right, res)\n",
    "        result = []\n",
    "        chars = {\n",
    "            0:'a',1:'b',2:'c',3:'d',4:'e',5:'f',6:'g',7:'h',8:'i',9:'j',10:'k',\n",
    "            11:'l',12:'m',13:'n',14:'o',15:'p',16:'q',17:'r',18:'s',19:'t',20:'u',21:'v',22:'w',23:'x',24:'y',25:'z'\n",
    "        }\n",
    "        construct(root, '')\n",
    "        return min(result)"
   ]
  }
 ],
 "metadata": {
  "kernelspec": {
   "display_name": "Python 3",
   "language": "python",
   "name": "python3"
  },
  "language_info": {
   "codemirror_mode": {
    "name": "ipython",
    "version": 3
   },
   "file_extension": ".py",
   "mimetype": "text/x-python",
   "name": "python",
   "nbconvert_exporter": "python",
   "pygments_lexer": "ipython3",
   "version": "3.7.4"
  }
 },
 "nbformat": 4,
 "nbformat_minor": 4
}
