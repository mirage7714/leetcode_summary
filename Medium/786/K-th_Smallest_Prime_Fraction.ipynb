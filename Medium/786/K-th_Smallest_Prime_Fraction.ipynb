{
 "cells": [
  {
   "cell_type": "markdown",
   "id": "0e6308f9-2415-45b6-9ca7-8fe496283918",
   "metadata": {},
   "source": [
    "# 本題要找出第K小的數值組合為多少 (\\#Math, \\#Array, \\#Heap )\n",
    "原題目連結: https://leetcode.com/problems/k-th-smallest-prime-fraction/description/  \n",
    "\n",
    "You are given a sorted integer array arr containing 1 and prime numbers, where all the integers of arr are unique. You are also given an integer k.  \n",
    "For every i and j where 0 <= i < j < arr.length, we consider the fraction arr[i] / arr[j].  \n",
    "Return the kth smallest fraction considered. Return your answer as an array of integers of size 2, where answer[0] == arr[i] and answer[1] == arr[j].  \n",
    "\n",
    "範例:  \n",
    "Ex1:  \n",
    "Input: arr = [1,2,3,5], k = 3  \n",
    "Output: [2,5]  \n",
    "Explanation: The fractions to be considered in sorted order are:  \n",
    "1/5, 1/3, 2/5, 1/2, 3/5, and 2/3.  \n",
    "The third fraction is 2/5.  \n",
    "\n",
    "Ex2:  \n",
    "Input: arr = [1,7], k = 1  \n",
    "Output: [1,7]  "
   ]
  },
  {
   "cell_type": "markdown",
   "id": "7f550739-512b-471f-a049-0bb8c3f0e048",
   "metadata": {},
   "source": [
    "* 解題想法:  \n",
    "首先將所有組合出來的樹值放入heap中，接著取出k個數值就是要找的答案"
   ]
  },
  {
   "cell_type": "code",
   "execution_count": null,
   "id": "3ad2f86d-ca64-422e-9658-31f0a621d73c",
   "metadata": {},
   "outputs": [],
   "source": [
    "import heapq\n",
    "\n",
    "class Solution:\n",
    "    def kthSmallestPrimeFraction(self, arr: List[int], k: int) -> List[int]:    \n",
    "        temp = []\n",
    "        heapq.heapify(temp)\n",
    "        res = [0,0]\n",
    "        for i in range(len(arr)-1):\n",
    "            for j in range(i+1, len(arr)):\n",
    "                d = arr[i] / arr[j] * 1.0\n",
    "                heapq.heappush(temp, [d, [arr[i] * 1.0, arr[j] * 1.0]])\n",
    "        n = []\n",
    "        while k > 0:\n",
    "            k -= 1\n",
    "            n = heapq.heappop(temp)\n",
    "        res[0] = int(n[1][0])\n",
    "        res[1] = int(n[1][1])\n",
    "        return res"
   ]
  }
 ],
 "metadata": {
  "kernelspec": {
   "display_name": "Python 3 (ipykernel)",
   "language": "python",
   "name": "python3"
  },
  "language_info": {
   "codemirror_mode": {
    "name": "ipython",
    "version": 3
   },
   "file_extension": ".py",
   "mimetype": "text/x-python",
   "name": "python",
   "nbconvert_exporter": "python",
   "pygments_lexer": "ipython3",
   "version": "3.9.13"
  }
 },
 "nbformat": 4,
 "nbformat_minor": 5
}
