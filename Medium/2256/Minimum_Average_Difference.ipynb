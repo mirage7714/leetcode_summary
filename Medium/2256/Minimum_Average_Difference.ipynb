{
 "cells": [
  {
   "cell_type": "markdown",
   "metadata": {},
   "source": [
    "# 本題要找出最小平均數差的index為何\n",
    "原題目連結: https://leetcode.com/problems/minimum-average-difference/  \n",
    "\n",
    "You are given a 0-indexed integer array nums of length n.  \n",
    "\n",
    "The average difference of the index i is the absolute difference between the average of the first i + 1 elements of nums and the average of the last n - i - 1 elements. Both averages should be rounded down to the nearest integer.  \n",
    "\n",
    "Return the index with the minimum average difference. If there are multiple such indices, return the smallest one.  \n",
    "\n",
    "Note:  \n",
    "The absolute difference of two numbers is the absolute value of their difference.  \n",
    "The average of n elements is the sum of the n elements divided (integer division) by n.  \n",
    "The average of 0 elements is considered to be 0.  \n",
    "\n",
    "範例:  \n",
    "Ex1:  \n",
    "Input: nums = [2,5,3,9,5,3]  \n",
    "Output: 3  \n",
    "Explanation:  \n",
    "- The average difference of index 0 is: |2 / 1 - (5 + 3 + 9 + 5 + 3) / 5| = |2 / 1 - 25 / 5| = |2 - 5| = 3.  \n",
    "- The average difference of index 1 is: |(2 + 5) / 2 - (3 + 9 + 5 + 3) / 4| = |7 / 2 - 20 / 4| = |3 - 5| = 2.  \n",
    "- The average difference of index 2 is: |(2 + 5 + 3) / 3 - (9 + 5 + 3) / 3| = |10 / 3 - 17 / 3| = |3 - 5| = 2.  \n",
    "- The average difference of index 3 is: |(2 + 5 + 3 + 9) / 4 - (5 + 3) / 2| = |19 / 4 - 8 / 2| = |4 - 4| = 0.  \n",
    "- The average difference of index 4 is: |(2 + 5 + 3 + 9 + 5) / 5 - 3 / 1| = |24 / 5 - 3 / 1| = |4 - 3| = 1.  \n",
    "- The average difference of index 5 is: |(2 + 5 + 3 + 9 + 5 + 3) / 6 - 0| = |27 / 6 - 0| = |4 - 0| = 4.  \n",
    "The average difference of index 3 is the minimum average difference so return 3.  \n",
    "\n",
    "Ex2:  \n",
    "Input: nums = [0]  \n",
    "Output: 0  \n",
    "Explanation:  \n",
    "The only index is 0 so return 0.  \n",
    "The average difference of index 0 is: |0 / 1 - 0| = |0 - 0| = 0."
   ]
  },
  {
   "cell_type": "markdown",
   "metadata": {},
   "source": [
    "* 解題想法:  \n",
    "首先判斷list的長度是否為1，如果為1的情況下則不需要進行後續的計算，接著判斷大於1的情況，首先將list中的總和算出，接著用迴圈計算平均數的差異，並找出平均數的差值為最小時，index為多少"
   ]
  },
  {
   "cell_type": "code",
   "execution_count": null,
   "metadata": {},
   "outputs": [],
   "source": [
    "class Solution:\n",
    "    def minimumAverageDifference(self, nums: List[int]) -> int:\n",
    "        result = 0\n",
    "        total = 0\n",
    "        avg = 0\n",
    "        temp = 0\n",
    "        if len(nums) > 1:\n",
    "            for n in nums:\n",
    "                total += n\n",
    "            s = len(nums)\n",
    "            avg = abs(nums[0] - int((total - nums[0])/(s-1)))\n",
    "            temp = nums[0]\n",
    "            total -= temp\n",
    "            for m in range(1, s):\n",
    "                temp += nums[m]\n",
    "                total -= nums[m]\n",
    "                if m+1 < s:\n",
    "                    a = abs(int(temp/(m+1)) - int(total / (s - (m+1))))\n",
    "                else:\n",
    "                    a = abs(int(temp/s))\n",
    "                if a < avg:\n",
    "                    avg = a\n",
    "                    result = m\n",
    "        return result"
   ]
  }
 ],
 "metadata": {
  "kernelspec": {
   "display_name": "Python 3",
   "language": "python",
   "name": "python3"
  },
  "language_info": {
   "codemirror_mode": {
    "name": "ipython",
    "version": 3
   },
   "file_extension": ".py",
   "mimetype": "text/x-python",
   "name": "python",
   "nbconvert_exporter": "python",
   "pygments_lexer": "ipython3",
   "version": "3.7.4"
  }
 },
 "nbformat": 4,
 "nbformat_minor": 4
}
