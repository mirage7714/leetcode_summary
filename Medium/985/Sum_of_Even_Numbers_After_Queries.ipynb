{
 "cells": [
  {
   "cell_type": "markdown",
   "metadata": {},
   "source": [
    "# 本題要找出所有偶數的總和 (\\#Array)\n",
    "原題目連結: https://leetcode.com/problems/sum-of-even-numbers-after-queries/  \n",
    "\n",
    "You are given an integer array nums and an array queries where queries[i] = [vali, indexi].  \n",
    "For each query i, first, apply nums[indexi] = nums[indexi] + vali, then print the sum of the even values of nums.  \n",
    "Return an integer array answer where answer[i] is the answer to the ith query.  \n",
    "\n",
    "範例:  \n",
    "Ex1:  \n",
    "Input: nums = [1,2,3,4], queries = [[1,0],[-3,1],[-4,0],[2,3]]  \n",
    "Output: [8,6,2,4]  \n",
    "Explanation: At the beginning, the array is [1,2,3,4].  \n",
    "After adding 1 to nums[0], the array is [2,2,3,4], and the sum of even values is 2 + 2 + 4 = 8.  \n",
    "After adding -3 to nums[1], the array is [2,-1,3,4], and the sum of even values is 2 + 4 = 6.  \n",
    "After adding -4 to nums[0], the array is [-2,-1,3,4], and the sum of even values is -2 + 4 = 2.  \n",
    "After adding 2 to nums[3], the array is [-2,-1,3,6], and the sum of even values is -2 + 6 = 4.  \n",
    "\n",
    "Ex2:  \n",
    "Input: nums = [1], queries = [[4,0]]  \n",
    "Output: [0]"
   ]
  },
  {
   "cell_type": "markdown",
   "metadata": {},
   "source": [
    "* 解題想法:  \n",
    "首先將nums中為偶數的值加總起來，並將index放入一個list中，接著開始從queue中取值進行操作，如果要修改的index不在list中，則將nums的數值進行修改，如果修改後為偶數的話，則需要加總這個數值到總和中，並將index加入list中，如果這個index已經在list中，則檢查修改數值後是否還是偶數，如果不是偶數的話則需要從總和中先移除原有的數值再進行修改，如果還是偶數的話則將總和加上修改後的數值，最後將每個循環的總和放入一個list中回傳"
   ]
  },
  {
   "cell_type": "code",
   "execution_count": null,
   "metadata": {},
   "outputs": [],
   "source": [
    "class Solution:\n",
    "    def sumEvenAfterQueries(self, nums: List[int], queries: List[List[int]]) -> List[int]:\n",
    "        even = []\n",
    "        total = 0\n",
    "        result = []\n",
    "        for k, v in enumerate(nums):\n",
    "            if v % 2 == 0:\n",
    "                total += v\n",
    "                even.append(k)\n",
    "        for q in queries:\n",
    "            if q[1] not in even:\n",
    "                nums[q[1]] += q[0]\n",
    "                if nums[q[1]] % 2 == 0:\n",
    "                    even.append(q[1])\n",
    "                    total += nums[q[1]]\n",
    "            else:\n",
    "                if (nums[q[1]] + q[0]) % 2 != 0:\n",
    "                    total -= nums[q[1]]\n",
    "                    nums[q[1]] += q[0]\n",
    "                    even.pop(even.index(q[1]))\n",
    "                else:\n",
    "                    nums[q[1]] += q[0]\n",
    "                    total += q[0]\n",
    "            result.append(total)\n",
    "        return result"
   ]
  }
 ],
 "metadata": {
  "kernelspec": {
   "display_name": "Python 3",
   "language": "python",
   "name": "python3"
  },
  "language_info": {
   "codemirror_mode": {
    "name": "ipython",
    "version": 3
   },
   "file_extension": ".py",
   "mimetype": "text/x-python",
   "name": "python",
   "nbconvert_exporter": "python",
   "pygments_lexer": "ipython3",
   "version": "3.7.4"
  }
 },
 "nbformat": 4,
 "nbformat_minor": 4
}
