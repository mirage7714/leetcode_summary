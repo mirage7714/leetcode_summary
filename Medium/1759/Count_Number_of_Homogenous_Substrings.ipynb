{
 "cells": [
  {
   "cell_type": "markdown",
   "metadata": {},
   "source": [
    "# 本題要找出同質的子字串共有多少\n",
    "原題目連結: https://leetcode.com/problems/count-number-of-homogenous-substrings/  \n",
    "\n",
    "Given a string s, return the number of homogenous substrings of s. Since the answer may be too large, return it modulo 10^9 + 7.  \n",
    "A string is homogenous if all the characters of the string are the same.  \n",
    "\n",
    "A substring is a contiguous sequence of characters within a string.  \n",
    "\n",
    "範例:  \n",
    "Ex1:  \n",
    "Input: s = \"abbcccaa\"  \n",
    "Output: 13  \n",
    "Explanation: The homogenous substrings are listed as below:  \n",
    "\"a\"   appears 3 times.  \n",
    "\"aa\"  appears 1 time.  \n",
    "\"b\"   appears 2 times.  \n",
    "\"bb\"  appears 1 time.  \n",
    "\"c\"   appears 3 times.  \n",
    "\"cc\"  appears 2 times.  \n",
    "\"ccc\" appears 1 time.  \n",
    "3 + 1 + 2 + 1 + 3 + 2 + 1 = 13.  \n",
    "\n",
    "Ex2:  \n",
    "Input: s = \"xy\"  \n",
    "Output: 2  \n",
    "Explanation: The homogenous substrings are \"x\" and \"y\".  \n",
    "\n",
    "Ex3:  \n",
    "Input: s = \"zzzzz\"  \n",
    "Output: 15"
   ]
  },
  {
   "cell_type": "markdown",
   "metadata": {},
   "source": [
    "* 解題想法:  \n",
    "依題目說明，首先要將題目提供的字串進行逐字統計，如果相同的字則將記數+1，當不同的字時則將組合的結果算出來並加到最後結果(total)，最後當迴圈結束後將最後的字串統計後回傳最後結果"
   ]
  },
  {
   "cell_type": "code",
   "execution_count": null,
   "metadata": {},
   "outputs": [],
   "source": [
    "class Solution:\n",
    "    def countHomogenous(self, s: str) -> int:\n",
    "        def getNumber(count):\n",
    "            total = 0\n",
    "            for m in range(count):\n",
    "                total += m+1\n",
    "            return total\n",
    "        \n",
    "        total = 0\n",
    "        temp = s[0]\n",
    "        temp_count = 1\n",
    "        for n in range(1, len(s)):\n",
    "            if s[n] == temp:\n",
    "                temp_count += 1\n",
    "            else:\n",
    "                total += getNumber(temp_count)\n",
    "                temp_count = 1\n",
    "                temp = s[n]\n",
    "        total += getNumber(temp_count)\n",
    "        return total % (10 **9 + 7)"
   ]
  }
 ],
 "metadata": {
  "kernelspec": {
   "display_name": "Python 3",
   "language": "python",
   "name": "python3"
  },
  "language_info": {
   "codemirror_mode": {
    "name": "ipython",
    "version": 3
   },
   "file_extension": ".py",
   "mimetype": "text/x-python",
   "name": "python",
   "nbconvert_exporter": "python",
   "pygments_lexer": "ipython3",
   "version": "3.7.4"
  }
 },
 "nbformat": 4,
 "nbformat_minor": 2
}
