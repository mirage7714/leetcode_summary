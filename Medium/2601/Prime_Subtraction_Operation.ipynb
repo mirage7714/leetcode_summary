{
 "cells": [
  {
   "cell_type": "markdown",
   "id": "3732abaf-f946-41db-9475-9e85b36600e6",
   "metadata": {},
   "source": [
    "# 本題要判斷list在減去質數後能否形成嚴格遞增 (\\#Array )\n",
    "原題目連結: https://leetcode.com/problems/prime-subtraction-operation/description/  \n",
    "\n",
    "You are given a 0-indexed integer array nums of length n.  \n",
    "You can perform the following operation as many times as you want:  \n",
    "Pick an index i that you haven’t picked before, and pick a prime p strictly less than nums[i], then subtract p from nums[i].  \n",
    "Return true if you can make nums a strictly increasing array using the above operation and false otherwise.  \n",
    "\n",
    "A strictly increasing array is an array whose each element is strictly greater than its preceding element.  \n",
    "\n",
    "範例:  \n",
    "Ex1:   \n",
    "Input: nums = [4,9,6,10]  \n",
    "Output: true  \n",
    "Explanation: In the first operation: Pick i = 0 and p = 3, and then subtract 3 from nums[0], so that nums becomes [1,9,6,10].  \n",
    "In the second operation: i = 1, p = 7, subtract 7 from nums[1], so nums becomes equal to [1,2,6,10].  \n",
    "After the second operation, nums is sorted in strictly increasing order, so the answer is true.  \n",
    "\n",
    "Ex2:  \n",
    "Input: nums = [6,8,11,12]  \n",
    "Output: true  \n",
    "Explanation: Initially nums is sorted in strictly increasing order, so we don't need to make any operations.  \n",
    "\n",
    "Ex3:  \n",
    "Input: nums = [5,8,3]  \n",
    "Output: false  \n",
    "Explanation: It can be proven that there is no way to perform operations to make nums sorted in strictly increasing order, so the answer is false."
   ]
  },
  {
   "cell_type": "markdown",
   "id": "99430496-1cb2-462c-82eb-88a78d0ff410",
   "metadata": {},
   "source": [
    "* 解題想法:  \n",
    "先建立一個函數，用來找出指定數字後的下一個質數，接著從list的最後開始進行迴圈，當後面一個數小於或等於前一個數值時，找出差值加一後，找出下一個質數，如果當前一個值減去質數小於或等於0，則回傳False，如果順利跑完迴圈則回傳True"
   ]
  },
  {
   "cell_type": "code",
   "execution_count": null,
   "id": "589ddf34-cdd8-40f3-83b8-565f7cc6fa39",
   "metadata": {},
   "outputs": [],
   "source": [
    "class Solution:\n",
    "    def primeSubOperation(self, nums: List[int]) -> bool:\n",
    "        def get_next_prime(num):\n",
    "            is_prime = False\n",
    "            while not is_prime:\n",
    "                if num == 1:\n",
    "                    num += 1\n",
    "                elif num % 2 == 0: \n",
    "                    if num != 2:\n",
    "                        num += 1\n",
    "                    else:\n",
    "                        is_prime = True\n",
    "                else:\n",
    "                    is_valid = True\n",
    "                    for q in range(3, int(sqrt(num))+1):\n",
    "                        if num % q == 0:\n",
    "                            num += 1\n",
    "                            is_valid = False\n",
    "                            break\n",
    "                    if is_valid:\n",
    "                        break\n",
    "            return num\n",
    "\n",
    "        res = True\n",
    "        for i in range(len(nums)-1, 0, -1):\n",
    "            if nums[i] <= nums[i-1]:\n",
    "                d = nums[i-1] - nums[i] + 1\n",
    "                nums[i-1] -= get_next_prime(d)\n",
    "                if nums[i-1] <= 0:\n",
    "                    res = False\n",
    "                    break\n",
    "        return res\n",
    "            "
   ]
  }
 ],
 "metadata": {
  "kernelspec": {
   "display_name": "Python 3 (ipykernel)",
   "language": "python",
   "name": "python3"
  },
  "language_info": {
   "codemirror_mode": {
    "name": "ipython",
    "version": 3
   },
   "file_extension": ".py",
   "mimetype": "text/x-python",
   "name": "python",
   "nbconvert_exporter": "python",
   "pygments_lexer": "ipython3",
   "version": "3.9.13"
  }
 },
 "nbformat": 4,
 "nbformat_minor": 5
}
