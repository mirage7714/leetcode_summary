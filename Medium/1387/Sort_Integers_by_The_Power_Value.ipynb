{
 "cells": [
  {
   "cell_type": "markdown",
   "id": "027bc4a2-8bbd-4fdc-a197-792d9181fa7c",
   "metadata": {},
   "source": [
    "# 本題要找出經過power之後的排序並取出第K個數值 (\\#Array, \\#Heap)\n",
    "原題目連結: https://leetcode.com/problems/sort-integers-by-the-power-value/description/  \n",
    "\n",
    "The power of an integer x is defined as the number of steps needed to transform x into 1 using the following steps:  \n",
    "if x is even then x = x / 2  \n",
    "if x is odd then x = 3 * x + 1  \n",
    "For example, the power of x = 3 is 7 because 3 needs 7 steps to become 1 (3 --> 10 --> 5 --> 16 --> 8 --> 4 --> 2 --> 1).  \n",
    "\n",
    "Given three integers lo, hi and k. The task is to sort all integers in the interval [lo, hi] by the power value in ascending order, if two or more integers have the same power value sort them by ascending order.  \n",
    "\n",
    "Return the kth integer in the range [lo, hi] sorted by the power value.  \n",
    "\n",
    "Notice that for any integer x (lo <= x <= hi) it is guaranteed that x will transform into 1 using these steps and that the power of x is will fit in a 32-bit signed integer.  \n",
    "\n",
    "範例:  \n",
    "Ex1:  \n",
    "Input: lo = 12, hi = 15, k = 2  \n",
    "Output: 13  \n",
    "Explanation: The power of 12 is 9 (12 --> 6 --> 3 --> 10 --> 5 --> 16 --> 8 --> 4 --> 2 --> 1)  \n",
    "The power of 13 is 9  \n",
    "The power of 14 is 17  \n",
    "The power of 15 is 17  \n",
    "The interval sorted by the power value [12,13,14,15]. For k = 2 answer is the second element which is 13.  \n",
    "Notice that 12 and 13 have the same power value and we sorted them in ascending order. Same for 14 and 15.  \n",
    "\n",
    "Ex2:  \n",
    "Input: lo = 7, hi = 11, k = 4  \n",
    "Output: 7  \n",
    "Explanation: The power array corresponding to the interval [7, 8, 9, 10, 11] is [16, 3, 19, 6, 14].  \n",
    "The interval sorted by power is [8, 10, 11, 7, 9].  \n",
    "The fourth number in the sorted array is 7."
   ]
  },
  {
   "cell_type": "markdown",
   "id": "cf648017-c0bf-4648-8ca0-23216f103979",
   "metadata": {},
   "source": [
    "* 解題想法:  \n",
    "首先建立一個函數用來計算power值為多少，接著將lo到hi之間的數值的power取出後放入一個heap中，最後由heap中取出第k個數值就是答案"
   ]
  },
  {
   "cell_type": "code",
   "execution_count": null,
   "id": "511a37f8-3bed-41a5-bdae-0b2010b92e1e",
   "metadata": {},
   "outputs": [],
   "source": [
    "import heapq\n",
    "\n",
    "class Solution:\n",
    "    def getKth(self, lo: int, hi: int, k: int) -> int:\n",
    "        def getPower(num):\n",
    "            count = 0\n",
    "            while num > 1:\n",
    "                if num % 2 == 0:\n",
    "                    num = num / 2\n",
    "                else:\n",
    "                    num = 3 * num + 1\n",
    "                count += 1\n",
    "            return count\n",
    "        count = []\n",
    "        res = 0\n",
    "        heapq.heapify(count)\n",
    "        for m in range(lo, hi+1):\n",
    "            c = getPower(m)\n",
    "            heapq.heappush(count, [c, m])\n",
    "        for _ in range(k):\n",
    "            t = heapq.heappop(count)\n",
    "            res = t[1]\n",
    "        return res"
   ]
  }
 ],
 "metadata": {
  "kernelspec": {
   "display_name": "Python 3 (ipykernel)",
   "language": "python",
   "name": "python3"
  },
  "language_info": {
   "codemirror_mode": {
    "name": "ipython",
    "version": 3
   },
   "file_extension": ".py",
   "mimetype": "text/x-python",
   "name": "python",
   "nbconvert_exporter": "python",
   "pygments_lexer": "ipython3",
   "version": "3.9.13"
  }
 },
 "nbformat": 4,
 "nbformat_minor": 5
}
