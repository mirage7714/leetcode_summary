{
 "cells": [
  {
   "cell_type": "markdown",
   "metadata": {},
   "source": [
    "# 本題要判斷是否符合Even odd tree的條件 (\\#Binary Tree, \\#BFS)\n",
    "原題目連結: https://leetcode.com/problems/even-odd-tree/  \n",
    "\n",
    "A binary tree is named Even-Odd if it meets the following conditions:  \n",
    "\n",
    "The root of the binary tree is at level index 0, its children are at level index 1, their children are at level index 2, etc.  \n",
    "For every even-indexed level, all nodes at the level have odd integer values in strictly increasing order (from left to right).  \n",
    "For every odd-indexed level, all nodes at the level have even integer values in strictly decreasing order (from left to right).  \n",
    "Given the root of a binary tree, return true if the binary tree is Even-Odd, otherwise return false.  \n",
    "\n",
    "範例:  \n",
    "Ex1:  \n",
    "Input: root = [1,10,4,3,null,7,9,12,8,6,null,null,2]  \n",
    "Output: true  \n",
    "Explanation: The node values on each level are:  \n",
    "Level 0: [1]  \n",
    "Level 1: [10,4]  \n",
    "Level 2: [3,7,9]  \n",
    "Level 3: [12,8,6,2]  \n",
    "Since levels 0 and 2 are all odd and increasing and levels 1 and 3 are all even and decreasing, the tree is Even-Odd.  \n",
    "\n",
    "Ex2:  \n",
    "Input: root = [5,4,2,3,3,7]  \n",
    "Output: false  \n",
    "Explanation: The node values on each level are:  \n",
    "Level 0: [5]  \n",
    "Level 1: [4,2]  \n",
    "Level 2: [3,3,7]  \n",
    "Node values in level 2 must be in strictly increasing order, so the tree is not Even-Odd.  \n",
    "\n",
    "Ex3:  \n",
    "Input: root = [5,9,1,3,5,7]  \n",
    "Output: false  \n",
    "Explanation: Node values in the level 1 should be even integers."
   ]
  },
  {
   "cell_type": "markdown",
   "metadata": {},
   "source": [
    "* 解題想法:  \n",
    "由於是要逐層走訪binary tree，所以這邊使用BFS來進行走訪，首先用一個變數index來記錄目前的層數，並檢查節點的數值是否符合該層的條件，如果有不符合的情況則直接回傳False，如果都順利通過則最後回傳True"
   ]
  },
  {
   "cell_type": "code",
   "execution_count": null,
   "metadata": {},
   "outputs": [],
   "source": [
    "# Definition for a binary tree node.\n",
    "# class TreeNode:\n",
    "#     def __init__(self, val=0, left=None, right=None):\n",
    "#         self.val = val\n",
    "#         self.left = left\n",
    "#         self.right = right\n",
    "class Solution:\n",
    "    def isEvenOddTree(self, root: TreeNode) -> bool:\n",
    "        if root:\n",
    "            stack = [root]\n",
    "            level = 0\n",
    "            while stack:\n",
    "                node = []\n",
    "                val = 0\n",
    "                for s in stack:\n",
    "                    if val and val >= s.val and level % 2 == 0:\n",
    "                        return False\n",
    "                    elif val and val <= s.val and level % 2 != 0:\n",
    "                        return False\n",
    "                    if s.val % 2 == level % 2:\n",
    "                        return False\n",
    "                    val = s.val\n",
    "                    if s.left:\n",
    "                        node.append(s.left)\n",
    "                    if s.right:\n",
    "                        node.append(s.right)\n",
    "                stack.clear()\n",
    "                level += 1\n",
    "                stack += node\n",
    "        return True"
   ]
  }
 ],
 "metadata": {
  "kernelspec": {
   "display_name": "Python 3",
   "language": "python",
   "name": "python3"
  },
  "language_info": {
   "codemirror_mode": {
    "name": "ipython",
    "version": 3
   },
   "file_extension": ".py",
   "mimetype": "text/x-python",
   "name": "python",
   "nbconvert_exporter": "python",
   "pygments_lexer": "ipython3",
   "version": "3.7.4"
  }
 },
 "nbformat": 4,
 "nbformat_minor": 4
}
