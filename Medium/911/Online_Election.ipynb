{
 "cells": [
  {
   "cell_type": "markdown",
   "metadata": {},
   "source": [
    "# 本題要找出實作一個找出在時間t的時候誰有最多的票數\n",
    "原題目連結: https://leetcode.com/problems/online-election/  \n",
    "\n",
    "You are given two integer arrays persons and times. In an election, the ith vote was cast for persons[i] at time times[i].  \n",
    "\n",
    "For each query at a time t, find the person that was leading the election at time t. Votes cast at time t will count towards our query. In the case of a tie, the most recent vote (among tied candidates) wins.  \n",
    "\n",
    "Implement the TopVotedCandidate class:  \n",
    "\n",
    "TopVotedCandidate(int[] persons, int[] times) Initializes the object with the persons and times arrays.  \n",
    "int q(int t) Returns the number of the person that was leading the election at time t according to the mentioned rules.  \n",
    "\n",
    "範例:  \n",
    "Ex1:  \n",
    "Input  \n",
    "[\"TopVotedCandidate\", \"q\", \"q\", \"q\", \"q\", \"q\", \"q\"]  \n",
    "[[[0, 1, 1, 0, 0, 1, 0], [0, 5, 10, 15, 20, 25, 30]], [3], [12], [25], [15], [24], [8]]  \n",
    "Output  \n",
    "[null, 0, 1, 1, 0, 0, 1]  \n",
    "\n",
    "Explanation  \n",
    "TopVotedCandidate topVotedCandidate = new TopVotedCandidate([0, 1, 1, 0, 0, 1, 0], [0, 5, 10, 15, 20, 25, 30]);  \n",
    "topVotedCandidate.q(3); // return 0, At time 3, the votes are [0], and 0 is leading.  \n",
    "topVotedCandidate.q(12); // return 1, At time 12, the votes are [0,1,1], and 1 is leading.  \n",
    "topVotedCandidate.q(25); // return 1, At time 25, the votes are [0,1,1,0,0,1], and 1 is leading (as ties go to the most recent vote.)  \n",
    "topVotedCandidate.q(15); // return 0  \n",
    "topVotedCandidate.q(24); // return 0  \n",
    "topVotedCandidate.q(8); // return 1"
   ]
  },
  {
   "cell_type": "markdown",
   "metadata": {},
   "source": [
    "* 解題想法:  \n",
    "首先需要把在時間t的時候，誰是最多票的候選人整理出來，之後在進行查詢的時候才能用較好的效能找出該時間的解:  \n",
    "-init(): 在init的時候，先把時間與投票的關係轉換成一個dict，並把在時間t最多票數的人也找出來，並放入dict中，後續可以直接用t來找出人  \n",
    "-q(): 檢查如果t超過時間的上限，則直接回傳最後一個時間點的人選，另外如果t有出現在dict的key值中，可直接回傳該時間點的值，如果當t都不符合以上條件時，則用binary search找出最大且小於該時間點的值並回傳該時間點的人"
   ]
  },
  {
   "cell_type": "code",
   "execution_count": null,
   "metadata": {},
   "outputs": [],
   "source": [
    "class TopVotedCandidate:\n",
    "    def __init__(self, persons: List[int], times: List[int]):\n",
    "        self.count = {}\n",
    "        current = {}\n",
    "        prev = None\n",
    "        for m in range(len(times)):\n",
    "            if persons[m] not in current.keys():\n",
    "                current[persons[m]] = 1\n",
    "            else:\n",
    "                current[persons[m]] += 1\n",
    "            win = prev if prev else 0\n",
    "            t = current[win] if prev else 0\n",
    "            for key, val in current.items():\n",
    "                if val > t:\n",
    "                    win = key\n",
    "                    t = val\n",
    "                elif val == t and key == persons[m]:\n",
    "                    win = key\n",
    "            prev = win\n",
    "            self.count[times[m]] = win\n",
    "        self.times = times\n",
    "            \n",
    "    def q(self, t: int) -> int:\n",
    "        if t in self.count.keys():\n",
    "            return self.count[t]\n",
    "        else:\n",
    "            if t >= self.times[0] and t <= self.times[-1]:\n",
    "                i = bisect.bisect_right(self.times, t) - 1\n",
    "                return self.count[self.times[i]]\n",
    "            elif t > self.times[-1]:\n",
    "                return self.count[self.times[-1]]\n",
    "            elif t < self.times[0]:\n",
    "                return self.count[self.times[0]]\n",
    "\n",
    "\n",
    "# Your TopVotedCandidate object will be instantiated and called as such:\n",
    "# obj = TopVotedCandidate(persons, times)\n",
    "# param_1 = obj.q(t)"
   ]
  }
 ],
 "metadata": {
  "kernelspec": {
   "display_name": "Python 3",
   "language": "python",
   "name": "python3"
  },
  "language_info": {
   "codemirror_mode": {
    "name": "ipython",
    "version": 3
   },
   "file_extension": ".py",
   "mimetype": "text/x-python",
   "name": "python",
   "nbconvert_exporter": "python",
   "pygments_lexer": "ipython3",
   "version": "3.7.4"
  }
 },
 "nbformat": 4,
 "nbformat_minor": 4
}
