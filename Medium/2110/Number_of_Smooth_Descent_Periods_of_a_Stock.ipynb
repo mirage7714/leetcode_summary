{
 "cells": [
  {
   "cell_type": "markdown",
   "metadata": {},
   "source": [
    "# 本題要找出共有幾種下降區間的組合\n",
    "原題目連結: https://leetcode.com/problems/number-of-smooth-descent-periods-of-a-stock/  \n",
    "\n",
    "You are given an integer array prices representing the daily price history of a stock, where prices[i] is the stock price on the ith day.  \n",
    "\n",
    "A smooth descent period of a stock consists of one or more contiguous days such that the price on each day is lower than the price on the preceding day by exactly 1. The first day of the period is exempted from this rule.  \n",
    "\n",
    "Return the number of smooth descent periods.  \n",
    "\n",
    "範例:  \n",
    "Ex1:  \n",
    "Input: prices = [3,2,1,4]  \n",
    "Output: 7  \n",
    "Explanation: There are 7 smooth descent periods:  \n",
    "[3], [2], [1], [4], [3,2], [2,1], and [3,2,1]  \n",
    "Note that a period with one day is a smooth descent period by the definition.  \n",
    "\n",
    "Ex2:  \n",
    "Input: prices = [8,6,7,7]  \n",
    "Output: 4  \n",
    "Explanation: There are 4 smooth descent periods: [8], [6], [7], and [7]  \n",
    "Note that [8,6] is not a smooth descent period as 8 - 6 ≠ 1.  \n",
    "\n",
    "Ex3:  \n",
    "Input: prices = [1]  \n",
    "Output: 1  \n",
    "Explanation: There is 1 smooth descent period: [1]"
   ]
  },
  {
   "cell_type": "markdown",
   "metadata": {},
   "source": [
    "* 解題想法:  \n",
    "首先只要長度為1的sub-list就符合題目要求，因此答案至少為list長度，接著用一個list(temp)來存放符合條件的區間，另外觀察之後可以發現長度為n的list，共有1+2+3+...+(n-1)種組合  \n",
    "最後加起來之後就是題目要找的答案"
   ]
  },
  {
   "cell_type": "code",
   "execution_count": null,
   "metadata": {},
   "outputs": [],
   "source": [
    "class Solution:\n",
    "    def getDescentPeriods(self, prices: List[int]) -> int:\n",
    "        def countTemp(temp):\n",
    "            total = 0\n",
    "            s = len(temp)\n",
    "            for n in range(1, s):\n",
    "                total += s - n\n",
    "            return total\n",
    "        \n",
    "        result = len(prices)\n",
    "        if result > 1:\n",
    "            temp = [prices[0]]\n",
    "            for m in range(1, len(prices)):\n",
    "                if prices[m] == temp[-1] -1:\n",
    "                    temp.append(prices[m])\n",
    "                else:\n",
    "                    result += countTemp(temp)\n",
    "                    temp.clear()\n",
    "                    temp.append(prices[m])\n",
    "            if len(temp) > 1:\n",
    "                result += countTemp(temp)\n",
    "        return result"
   ]
  }
 ],
 "metadata": {
  "kernelspec": {
   "display_name": "Python 3",
   "language": "python",
   "name": "python3"
  },
  "language_info": {
   "codemirror_mode": {
    "name": "ipython",
    "version": 3
   },
   "file_extension": ".py",
   "mimetype": "text/x-python",
   "name": "python",
   "nbconvert_exporter": "python",
   "pygments_lexer": "ipython3",
   "version": "3.7.4"
  }
 },
 "nbformat": 4,
 "nbformat_minor": 4
}
