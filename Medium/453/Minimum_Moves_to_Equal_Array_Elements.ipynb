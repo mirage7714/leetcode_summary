{
 "cells": [
  {
   "cell_type": "markdown",
   "metadata": {},
   "source": [
    "# 本題要找出最少需要多少步才能讓所有的數值都相同\n",
    "原題目連結: https://leetcode.com/problems/minimum-moves-to-equal-array-elements/  \n",
    "\n",
    "Given an integer array nums of size n, return the minimum number of moves required to make all array elements equal.  \n",
    "In one move, you can increment n - 1 elements of the array by 1.  \n",
    "\n",
    "範例:  \n",
    "Ex1:  \n",
    "Input: nums = [1,2,3]  \n",
    "Output: 3  \n",
    "Explanation: Only three moves are needed (remember each move increments two elements):  \n",
    "[1,2,3]  =>  [2,3,3]  =>  [3,4,3]  =>  [4,4,4]  \n",
    "\n",
    "Ex2:  \n",
    "Input: nums = [1,1,1]  \n",
    "Output: 0"
   ]
  },
  {
   "cell_type": "markdown",
   "metadata": {},
   "source": [
    "* 解題想法:  \n",
    "在觀察了幾個case之後，可以歸納出一個結果:  \n",
    "需要的總步數為最小值與其他數值的差之總和，例如範例[1,2,3]，差值的總和為1+2=3  \n",
    "誘惑是另一個case: [1,3,5,7,9]，差值的總和為2+4+6+8=20，剛好就是需要的步數  \n",
    "因此如果list的最大值不等於最小值的情況，則需要找出最小值與其他數值的差之總和，最後回傳總和"
   ]
  },
  {
   "cell_type": "code",
   "execution_count": null,
   "metadata": {},
   "outputs": [],
   "source": [
    "class Solution:\n",
    "    def minMoves(self, nums: List[int]) -> int:\n",
    "        result = 0\n",
    "        if max(nums) != min(nums):\n",
    "            start = min(nums)\n",
    "            for n in range(len(nums)):\n",
    "                result += nums[n] - start\n",
    "        return result"
   ]
  }
 ],
 "metadata": {
  "kernelspec": {
   "display_name": "Python 3",
   "language": "python",
   "name": "python3"
  },
  "language_info": {
   "codemirror_mode": {
    "name": "ipython",
    "version": 3
   },
   "file_extension": ".py",
   "mimetype": "text/x-python",
   "name": "python",
   "nbconvert_exporter": "python",
   "pygments_lexer": "ipython3",
   "version": "3.7.4"
  }
 },
 "nbformat": 4,
 "nbformat_minor": 4
}
