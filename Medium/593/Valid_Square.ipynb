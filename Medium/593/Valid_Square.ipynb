{
 "cells": [
  {
   "cell_type": "markdown",
   "metadata": {},
   "source": [
    "# 本題要找出題目提供的四個點是否可以組成一個正方形\n",
    "原題目連結: https://leetcode.com/problems/valid-square/  \n",
    "\n",
    "Given the coordinates of four points in 2D space p1, p2, p3 and p4, return true if the four points construct a square.  \n",
    "\n",
    "The coordinate of a point pi is represented as [xi, yi]. The input is not given in any order.  \n",
    "\n",
    "A valid square has four equal sides with positive length and four equal angles (90-degree angles).  \n",
    "\n",
    "範例:  \n",
    "Ex1:  \n",
    "Input: p1 = [0,0], p2 = [1,1], p3 = [1,0], p4 = [0,1]  \n",
    "Output: true  \n",
    "\n",
    "Ex2:  \n",
    "Input: p1 = [0,0], p2 = [1,1], p3 = [1,0], p4 = [0,12]  \n",
    "Output: false  \n",
    "\n",
    "Ex3:  \n",
    "Input: p1 = [1,0], p2 = [-1,0], p3 = [0,1], p4 = [0,-1]  \n",
    "Output: true"
   ]
  },
  {
   "cell_type": "markdown",
   "metadata": {},
   "source": [
    "* 解題想法:  \n",
    "由於題目要確認是否為正方形，而在正方形中應該邊長都是相等的，另外也有可能是對角線的兩個點，因此應該會有兩種情況  \n",
    "所以將所有的可能邊長組合找出後加入一個list中，如果組合情況不是兩種的話就代表了不是一個正方形，另外如果四點都是相同位置也不是一個有效的正方形"
   ]
  },
  {
   "cell_type": "code",
   "execution_count": null,
   "metadata": {},
   "outputs": [],
   "source": [
    "class Solution:\n",
    "    def validSquare(self, p1: List[int], p2: List[int], p3: List[int], p4: List[int]) -> bool:\n",
    "        is_valid = True\n",
    "        points = []\n",
    "        borders = []\n",
    "        points.append(p1)\n",
    "        if p2 not in points:\n",
    "            points.append(p2)\n",
    "        if p3 not in points:\n",
    "            points.append(p3)\n",
    "        if p4 not in points:\n",
    "            points.append(p4)\n",
    "        if len(points) == 4:\n",
    "            for n in range(len(points)):\n",
    "                for m in range(len(points)):\n",
    "                    if m != n:\n",
    "                        diff_x = abs(points[m][0] - points[n][0])\n",
    "                        diff_y = abs(points[m][1] - points[n][1])\n",
    "                        distance = diff_x * diff_x + diff_y * diff_y\n",
    "                        if distance not in borders:\n",
    "                            borders.append(distance)\n",
    "            if len(borders) != 2:\n",
    "                is_valid = False\n",
    "        else:\n",
    "            is_valid = False\n",
    "        return is_valid"
   ]
  }
 ],
 "metadata": {
  "kernelspec": {
   "display_name": "Python 3",
   "language": "python",
   "name": "python3"
  },
  "language_info": {
   "codemirror_mode": {
    "name": "ipython",
    "version": 3
   },
   "file_extension": ".py",
   "mimetype": "text/x-python",
   "name": "python",
   "nbconvert_exporter": "python",
   "pygments_lexer": "ipython3",
   "version": "3.7.4"
  }
 },
 "nbformat": 4,
 "nbformat_minor": 2
}
