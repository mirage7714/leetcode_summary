{
 "cells": [
  {
   "cell_type": "markdown",
   "metadata": {},
   "source": [
    "# 本題要判斷最多可以裝滿幾袋的石頭\n",
    "原題目連結: https://leetcode.com/problems/maximum-bags-with-full-capacity-of-rocks/  \n",
    "\n",
    "You have n bags numbered from 0 to n - 1. You are given two 0-indexed integer arrays capacity and rocks. The ith bag can hold a maximum of capacity[i] rocks and currently contains rocks[i] rocks. You are also given an integer additionalRocks, the number of additional rocks you can place in any of the bags.  \n",
    "\n",
    "Return the maximum number of bags that could have full capacity after placing the additional rocks in some bags.  \n",
    "\n",
    "範例:  \n",
    "Ex1:  \n",
    "Input: capacity = [2,3,4,5], rocks = [1,2,4,4], additionalRocks = 2  \n",
    "Output: 3  \n",
    "Explanation:  \n",
    "Place 1 rock in bag 0 and 1 rock in bag 1.  \n",
    "The number of rocks in each bag are now [2,3,4,4].  \n",
    "Bags 0, 1, and 2 have full capacity.  \n",
    "There are 3 bags at full capacity, so we return 3.  \n",
    "It can be shown that it is not possible to have more than 3 bags at full capacity.  \n",
    "Note that there may be other ways of placing the rocks that result in an answer of 3.  \n",
    "\n",
    "Ex2:  \n",
    "Input: capacity = [10,2,2], rocks = [2,2,0], additionalRocks = 100  \n",
    "Output: 3  \n",
    "Explanation:  \n",
    "Place 8 rocks in bag 0 and 2 rocks in bag 2.  \n",
    "The number of rocks in each bag are now [10,2,2].  \n",
    "Bags 0, 1, and 2 have full capacity.  \n",
    "There are 3 bags at full capacity, so we return 3.  \n",
    "It can be shown that it is not possible to have more than 3 bags at full capacity.  \n",
    "Note that we did not use all of the additional rocks."
   ]
  },
  {
   "cell_type": "markdown",
   "metadata": {},
   "source": [
    "* 解題想法:  \n",
    "首先找出每個帶子可以再容納多少石頭，並將這個list用容量來進行排序，接著從剩餘空間最小的開始進行，如果有沒滿的情況則從多的石頭開始進行補充，當石頭不夠補充時則中斷迴圈，最後回傳所有被裝滿的袋子數量"
   ]
  },
  {
   "cell_type": "code",
   "execution_count": null,
   "metadata": {},
   "outputs": [],
   "source": [
    "class Solution:\n",
    "    def maximumBags(self, capacity: List[int], rocks: List[int], additionalRocks: int) -> int:\n",
    "        result = 0\n",
    "        diff = []\n",
    "        for m in range(len(capacity)):\n",
    "            diff.append(capacity[m] - rocks[m])\n",
    "        diff.sort()\n",
    "        for d in diff:\n",
    "            if d == 0:\n",
    "                result += 1\n",
    "            else:\n",
    "                if additionalRocks -d >= 0:\n",
    "                    additionalRocks -= d\n",
    "                    result += 1\n",
    "                else:\n",
    "                    break\n",
    "        return result"
   ]
  }
 ],
 "metadata": {
  "kernelspec": {
   "display_name": "Python 3",
   "language": "python",
   "name": "python3"
  },
  "language_info": {
   "codemirror_mode": {
    "name": "ipython",
    "version": 3
   },
   "file_extension": ".py",
   "mimetype": "text/x-python",
   "name": "python",
   "nbconvert_exporter": "python",
   "pygments_lexer": "ipython3",
   "version": "3.7.4"
  }
 },
 "nbformat": 4,
 "nbformat_minor": 4
}
