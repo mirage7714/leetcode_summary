{
 "cells": [
  {
   "cell_type": "markdown",
   "metadata": {},
   "source": [
    "# 本題要判斷指定的數是否可以拆成三個連續的數  \n",
    "原題目連結: https://leetcode.com/problems/find-three-consecutive-integers-that-sum-to-a-given-number/  \n",
    "\n",
    "Given an integer num, return three consecutive integers (as a sorted array) that sum to num. If num cannot be expressed as the sum of three consecutive integers, return an empty array.  \n",
    "範例:  \n",
    "Ex1:   \n",
    "Input: num = 33  \n",
    "Output: [10,11,12]  \n",
    "Explanation: 33 can be expressed as 10 + 11 + 12 = 33.  \n",
    "10, 11, 12 are 3 consecutive integers, so we return [10, 11, 12].  \n",
    "\n",
    "Ex2:  \n",
    "Input: num = 4  \n",
    "Output: []  \n",
    "Explanation: There is no way to express 4 as the sum of 3 consecutive integers."
   ]
  },
  {
   "cell_type": "markdown",
   "metadata": {},
   "source": [
    "* 解題想法:  \n",
    "首先判斷這個數是否為3的倍數，如果為3的倍數，則三個連續整數為n-1, n, n+1，如果不是3的倍數，則無法找出連續三整數和可以等於該數"
   ]
  },
  {
   "cell_type": "code",
   "execution_count": null,
   "metadata": {},
   "outputs": [],
   "source": [
    "class Solution(object):\n",
    "    def sumOfThree(self, num):\n",
    "        \"\"\"\n",
    "        :type num: int\n",
    "        :rtype: List[int]\n",
    "        \"\"\"\n",
    "        result = []\n",
    "        if num % 3 == 0:\n",
    "            n = int(num/3)\n",
    "            result.append(n-1)\n",
    "            result.append(n)\n",
    "            result.append(n+1)\n",
    "        return result"
   ]
  }
 ],
 "metadata": {
  "kernelspec": {
   "display_name": "Python 3",
   "language": "python",
   "name": "python3"
  },
  "language_info": {
   "codemirror_mode": {
    "name": "ipython",
    "version": 3
   },
   "file_extension": ".py",
   "mimetype": "text/x-python",
   "name": "python",
   "nbconvert_exporter": "python",
   "pygments_lexer": "ipython3",
   "version": "3.7.4"
  }
 },
 "nbformat": 4,
 "nbformat_minor": 4
}
