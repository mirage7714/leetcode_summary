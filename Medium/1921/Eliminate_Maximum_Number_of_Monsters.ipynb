{
 "cells": [
  {
   "cell_type": "markdown",
   "metadata": {},
   "source": [
    "# 本題要計算最多可以消滅幾隻怪獸\n",
    "原題目連結: https://leetcode.com/problems/eliminate-maximum-number-of-monsters/  \n",
    "\n",
    "You are playing a video game where you are defending your city from a group of n monsters. You are given a 0-indexed integer array dist of size n, where dist[i] is the initial distance in meters of the ith monster from the city.  \n",
    "\n",
    "The monsters walk toward the city at a constant speed. The speed of each monster is given to you in an integer array speed of size n, where speed[i] is the speed of the ith monster in meters per minute.  \n",
    "\n",
    "The monsters start moving at minute 0. You have a weapon that you can choose to use at the start of every minute, including minute 0. You cannot use the weapon in the middle of a minute. The weapon can eliminate any monster that is still alive. You lose when any monster reaches your city. If a monster reaches the city exactly at the start of a minute, it counts as a loss, and the game ends before you can use your weapon in that minute.  \n",
    "\n",
    "Return the maximum number of monsters that you can eliminate before you lose, or n if you can eliminate all the monsters before they reach the city.  \n",
    "\n",
    "範例:  \n",
    "Ex1:  \n",
    "Input: dist = [1,3,4], speed = [1,1,1]  \n",
    "Output: 3  \n",
    "Explanation:  \n",
    "At the start of minute 0, the distances of the monsters are [1,3,4], you eliminate the first monster.  \n",
    "At the start of minute 1, the distances of the monsters are [X,2,3], you don't do anything.  \n",
    "At the start of minute 2, the distances of the monsters are [X,1,2], you eliminate the second monster.  \n",
    "At the start of minute 3, the distances of the monsters are [X,X,1], you eliminate the third monster.  \n",
    "All 3 monsters can be eliminated.  \n",
    "\n",
    "Ex2:  \n",
    "Input: dist = [1,1,2,3], speed = [1,1,1,1]  \n",
    "Output: 1  \n",
    "Explanation:  \n",
    "At the start of minute 0, the distances of the monsters are [1,1,2,3], you eliminate the first monster.  \n",
    "At the start of minute 1, the distances of the monsters are [X,0,1,2], so you lose.  \n",
    "You can only eliminate 1 monster.  \n",
    "\n",
    "Ex3:  \n",
    "Input: dist = [3,2,4], speed = [5,3,2]  \n",
    "Output: 1  \n",
    "Explanation:  \n",
    "At the start of minute 0, the distances of the monsters are [3,2,4], you eliminate the first monster.  \n",
    "At the start of minute 1, the distances of the monsters are [X,0,2], so you lose.  \n",
    "You can only eliminate 1 monster."
   ]
  },
  {
   "cell_type": "markdown",
   "metadata": {},
   "source": [
    "* 解題想法:  \n",
    "由於題目並沒有指定說消滅怪獸的規則，因此花了一點時間嘗試不同的算法後得到結論: 要先從最快到達終點的怪獸開始消滅  \n",
    "因此先計算出每隻怪獸到達終點所需要的回合數，接著從回合數較少的開始消滅，並計算回合數是否已經大於怪獸到達終點的時間，如果是的話則遊戲結束，可以直接回傳答案"
   ]
  },
  {
   "cell_type": "code",
   "execution_count": null,
   "metadata": {},
   "outputs": [],
   "source": [
    "class Solution:\n",
    "    def eliminateMaximum(self, dist: List[int], speed: List[int]) -> int:\n",
    "        result = []\n",
    "        rounds = []\n",
    "        for n in range(len(dist)):\n",
    "            c = 0\n",
    "            if dist[n] % speed[n] == 0:\n",
    "                c = int(dist[n]/speed[n])\n",
    "            else:\n",
    "                c = int(dist[n]/speed[n]) + 1\n",
    "            rounds.append(c)\n",
    "        rounds.sort()\n",
    "        result.append(rounds[0])\n",
    "        for m in range(1, len(rounds)):\n",
    "            if rounds[m] > len(result):\n",
    "                result.append(rounds[m])\n",
    "            else:\n",
    "                break\n",
    "        return len(result)"
   ]
  }
 ],
 "metadata": {
  "kernelspec": {
   "display_name": "Python 3",
   "language": "python",
   "name": "python3"
  },
  "language_info": {
   "codemirror_mode": {
    "name": "ipython",
    "version": 3
   },
   "file_extension": ".py",
   "mimetype": "text/x-python",
   "name": "python",
   "nbconvert_exporter": "python",
   "pygments_lexer": "ipython3",
   "version": "3.7.4"
  }
 },
 "nbformat": 4,
 "nbformat_minor": 2
}
