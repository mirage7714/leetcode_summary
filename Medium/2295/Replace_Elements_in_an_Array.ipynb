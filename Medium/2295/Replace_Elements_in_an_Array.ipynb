{
 "cells": [
  {
   "cell_type": "markdown",
   "metadata": {},
   "source": [
    "# 本題要對list中指定的位置進行操作，並回傳最後更新的結果\n",
    "原題目連結: https://leetcode.com/problems/replace-elements-in-an-array/  \n",
    "\n",
    "You are given a 0-indexed array nums that consists of n distinct positive integers. Apply m operations to this array, where in the ith operation you replace the number operations[i][0] with operations[i][1].  \n",
    "\n",
    "It is guaranteed that in the ith operation:  \n",
    "\n",
    "operations[i][0] exists in nums.  \n",
    "operations[i][1] does not exist in nums.  \n",
    "Return the array obtained after applying all the operations.  \n",
    "\n",
    "範例:  \n",
    "Ex1:  \n",
    "Input: nums = [1,2,4,6], operations = [[1,3],[4,7],[6,1]]  \n",
    "Output: [3,2,7,1]  \n",
    "Explanation: We perform the following operations on nums:  \n",
    "- Replace the number 1 with 3. nums becomes [3,2,4,6].  \n",
    "- Replace the number 4 with 7. nums becomes [3,2,7,6].  \n",
    "- Replace the number 6 with 1. nums becomes [3,2,7,1].  \n",
    "We return the final array [3,2,7,1].  \n",
    "\n",
    "Ex2:  \n",
    "Input: nums = [1,2], operations = [[1,3],[2,1],[3,2]]  \n",
    "Output: [2,1]  \n",
    "Explanation: We perform the following operations to nums:  \n",
    "- Replace the number 1 with 3. nums becomes [3,2].  \n",
    "- Replace the number 2 with 1. nums becomes [3,1].  \n",
    "- Replace the number 3 with 2. nums becomes [2,1].  \n",
    "We return the array [2,1]."
   ]
  },
  {
   "cell_type": "markdown",
   "metadata": {},
   "source": [
    "* 解題想法:  \n",
    "首先將nums由list轉換成dict，並以值作為key，index作為value，接著從operations開始進行修改，再放入新的key之後需要將舊的key值進行移除，最後用index將修改過後的key重新放入nums中"
   ]
  },
  {
   "cell_type": "code",
   "execution_count": null,
   "metadata": {},
   "outputs": [],
   "source": [
    "class Solution:\n",
    "    def arrayChange(self, nums: List[int], operations: List[List[int]]) -> List[int]:\n",
    "        changes = {}\n",
    "        for n in range(len(nums)):\n",
    "            changes[nums[n]] = n\n",
    "        for operation in operations:\n",
    "            changes[operation[1]] = changes[operation[0]]\n",
    "            changes.pop(operation[0])\n",
    "        for key, val in changes.items():\n",
    "            nums[val] = key\n",
    "        return nums"
   ]
  }
 ],
 "metadata": {
  "kernelspec": {
   "display_name": "Python 3",
   "language": "python",
   "name": "python3"
  },
  "language_info": {
   "codemirror_mode": {
    "name": "ipython",
    "version": 3
   },
   "file_extension": ".py",
   "mimetype": "text/x-python",
   "name": "python",
   "nbconvert_exporter": "python",
   "pygments_lexer": "ipython3",
   "version": "3.7.4"
  }
 },
 "nbformat": 4,
 "nbformat_minor": 4
}
