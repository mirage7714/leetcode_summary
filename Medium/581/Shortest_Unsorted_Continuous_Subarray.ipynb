{
 "cells": [
  {
   "cell_type": "markdown",
   "metadata": {},
   "source": [
    "# 本題要找出在提供的array中，有多少是與排序不符的元素\n",
    "原題目連結: https://leetcode.com/problems/shortest-unsorted-continuous-subarray/  \n",
    "\n",
    "Given an integer array nums, you need to find one continuous subarray that if you only sort this subarray in ascending order, then the whole array will be sorted in ascending order.  \n",
    "\n",
    "Return the shortest such subarray and output its length.  \n",
    "\n",
    "範例:  \n",
    "Ex1:  \n",
    "Input: nums = [2,6,4,8,10,9,15]  \n",
    "Output: 5  \n",
    "Explanation: You need to sort [6, 4, 8, 10, 9] in ascending order to make the whole array sorted in ascending order.  \n",
    "\n",
    "Ex2:  \n",
    "Input: nums = [1,2,3,4]  \n",
    "Output: 0  \n",
    "\n",
    "Ex3:  \n",
    "Input: nums = [1]  \n",
    "Output: 0"
   ]
  },
  {
   "cell_type": "markdown",
   "metadata": {},
   "source": [
    "* 解題想法:  \n",
    "由於要找出是與排序不符的元件長度，因此準備了一個排序完成的list，再將兩個list進行比對，有出現排序不相同的就加入暫存的list中  \n",
    "最後將暫存的list頭與尾index找出來，就可知道長度為何"
   ]
  },
  {
   "cell_type": "code",
   "execution_count": null,
   "metadata": {},
   "outputs": [],
   "source": [
    "class Solution:\n",
    "    def findUnsortedSubarray(self, nums: List[int]) -> int:\n",
    "        orders = sorted(nums)\n",
    "        count = []\n",
    "        total = 0\n",
    "        for m in range(len(nums)):\n",
    "            if nums[m] != orders[m]:\n",
    "                count.append(m)\n",
    "        if len(count) > 1:\n",
    "            total = count[-1] - count[0] + 1\n",
    "        return total"
   ]
  }
 ],
 "metadata": {
  "kernelspec": {
   "display_name": "Python 3",
   "language": "python",
   "name": "python3"
  },
  "language_info": {
   "codemirror_mode": {
    "name": "ipython",
    "version": 3
   },
   "file_extension": ".py",
   "mimetype": "text/x-python",
   "name": "python",
   "nbconvert_exporter": "python",
   "pygments_lexer": "ipython3",
   "version": "3.7.4"
  }
 },
 "nbformat": 4,
 "nbformat_minor": 2
}
