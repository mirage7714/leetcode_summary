{
 "cells": [
  {
   "cell_type": "markdown",
   "id": "020c1960-528e-4fa3-98aa-b55d8c1275ad",
   "metadata": {},
   "source": [
    "# 本題要找出前K對總和最小的list (\\#Array, \\#Heap )\n",
    "原題目連結: https://leetcode.com/problems/find-k-pairs-with-smallest-sums/  \n",
    "\n",
    "You are given two integer arrays nums1 and nums2 sorted in non-decreasing order and an integer k.  \n",
    "Define a pair (u, v) which consists of one element from the first array and one element from the second array.  \n",
    "Return the k pairs (u1, v1), (u2, v2), ..., (uk, vk) with the smallest sums.  \n",
    "\n",
    "範例:  \n",
    "Ex1:  \n",
    "Input: nums1 = [1,7,11], nums2 = [2,4,6], k = 3  \n",
    "Output: [[1,2],[1,4],[1,6]]  \n",
    "Explanation: The first 3 pairs are returned from the sequence: [1,2],[1,4],[1,6],[7,2],[7,4],[11,2],[7,6],[11,4],[11,6]  \n",
    "\n",
    "Ex2:  \n",
    "Input: nums1 = [1,1,2], nums2 = [1,2,3], k = 2  \n",
    "Output: [[1,1],[1,1]]  \n",
    "Explanation: The first 2 pairs are returned from the sequence: [1,1],[1,1],[1,2],[2,1],[1,2],[2,2],[1,3],[1,3],[2,3]  \n",
    "\n",
    "Ex3:  \n",
    "Input: nums1 = [1,2], nums2 = [3], k = 3  \n",
    "Output: [[1,3],[2,3]]  \n",
    "Explanation: All possible pairs are returned from the sequence: [1,3],[2,3]"
   ]
  },
  {
   "cell_type": "markdown",
   "id": "e61ac11b-b019-46af-85d3-0ec98809a503",
   "metadata": {},
   "source": [
    "* 解題想法:  \n",
    "首先建立一個heap，並將總和與組合方式放入heap中，接著開始用兩個迴圈讀取兩個list的數值，如果數值比heap中最大的值小則更新數值，否則中斷迴圈，最後將heap中的組合取出就是答案"
   ]
  },
  {
   "cell_type": "code",
   "execution_count": null,
   "id": "114f8dbe-8f2d-47e7-a388-d88ac5794280",
   "metadata": {},
   "outputs": [],
   "source": [
    "import heapq\n",
    "\n",
    "class Solution:\n",
    "    def kSmallestPairs(self, nums1: List[int], nums2: List[int], k: int) -> List[List[int]]:\n",
    "        res = []\n",
    "        temp = []\n",
    "        heapq.heapify(temp)\n",
    "        for i in nums1:\n",
    "            for j in nums2:\n",
    "                if len(temp) < k:\n",
    "                    heapq.heappush(temp, [-(i+j), [i,j]])\n",
    "                else:\n",
    "                    n = heapq.heappop(temp)\n",
    "                    if -n[0] > i+j:\n",
    "                        heapq.heappush(temp, [-(i+j), [i,j]])\n",
    "                    else:\n",
    "                        heapq.heappush(temp, n)\n",
    "                        break\n",
    "        while temp and len(res) < k:\n",
    "            n = heapq.heappop(temp)\n",
    "            res.append(n[1])\n",
    "        return res"
   ]
  }
 ],
 "metadata": {
  "kernelspec": {
   "display_name": "Python 3 (ipykernel)",
   "language": "python",
   "name": "python3"
  },
  "language_info": {
   "codemirror_mode": {
    "name": "ipython",
    "version": 3
   },
   "file_extension": ".py",
   "mimetype": "text/x-python",
   "name": "python",
   "nbconvert_exporter": "python",
   "pygments_lexer": "ipython3",
   "version": "3.9.13"
  }
 },
 "nbformat": 4,
 "nbformat_minor": 5
}
