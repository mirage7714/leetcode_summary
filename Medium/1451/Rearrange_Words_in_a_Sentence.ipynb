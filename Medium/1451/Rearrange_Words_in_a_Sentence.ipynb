{
 "cells": [
  {
   "cell_type": "markdown",
   "metadata": {},
   "source": [
    "# 本題要將題目提供的字串重新依長度進行排序\n",
    "原題目連結: https://leetcode.com/problems/rearrange-words-in-a-sentence/  \n",
    "\n",
    "Given a sentence text (A sentence is a string of space-separated words) in the following format:  \n",
    "\n",
    "First letter is in upper case.  \n",
    "Each word in text are separated by a single space.  \n",
    "Your task is to rearrange the words in text such that all words are rearranged in an increasing order of their lengths. If two words have the same length, arrange them in their original order.  \n",
    "\n",
    "Return the new text following the format shown above.  \n",
    "\n",
    "範例:  \n",
    "Ex1:  \n",
    "Input: text = \"Leetcode is cool\"  \n",
    "Output: \"Is cool leetcode\"  \n",
    "Explanation: There are 3 words, \"Leetcode\" of length 8, \"is\" of length 2 and \"cool\" of length 4.  \n",
    "Output is ordered by length and the new first word starts with capital letter.  \n",
    "\n",
    "Ex2:  \n",
    "Input: text = \"Keep calm and code on\"  \n",
    "Output: \"On and keep calm code\"  \n",
    "Explanation: Output is ordered as follows:  \n",
    "\"On\" 2 letters.  \n",
    "\"and\" 3 letters.  \n",
    "\"keep\" 4 letters in case of tie order by position in original text.  \n",
    "\"calm\" 4 letters.  \n",
    "\"code\" 4 letters.  \n",
    "\n",
    "Ex3:  \n",
    "Input: text = \"To be or not to be\"  \n",
    "Output: \"To be or to be not\"  "
   ]
  },
  {
   "cell_type": "markdown",
   "metadata": {},
   "source": [
    "* 解題想法:  \n",
    "依題目的要求，要針對字詞長度來重新進行排序，因此建立了一個dict，把詞的長度作為key，並將詞作為value加入一個list  \n",
    "最後依照key的大小來依序取出list內的詞並重新組合成句子"
   ]
  },
  {
   "cell_type": "code",
   "execution_count": null,
   "metadata": {},
   "outputs": [],
   "source": [
    "class Solution:\n",
    "    def arrangeWords(self, text: str) -> str:\n",
    "        result = ''\n",
    "        freq = {}\n",
    "        t = text.split(' ')\n",
    "        for n in range(len(t)):\n",
    "            if len(t[n]) not in freq.keys():\n",
    "                freq[len(t[n])] = [t[n].lower()]\n",
    "            else:\n",
    "                freq[len(t[n])].append(t[n].lower())\n",
    "        keys = list(freq.keys())\n",
    "        keys.sort()\n",
    "        for k in keys:\n",
    "            for m in freq[k]:\n",
    "                result += m + ' '\n",
    "        result = result[0].upper() + result[1:]\n",
    "        result = result.rstrip()\n",
    "        return result"
   ]
  }
 ],
 "metadata": {
  "kernelspec": {
   "display_name": "Python 3",
   "language": "python",
   "name": "python3"
  },
  "language_info": {
   "codemirror_mode": {
    "name": "ipython",
    "version": 3
   },
   "file_extension": ".py",
   "mimetype": "text/x-python",
   "name": "python",
   "nbconvert_exporter": "python",
   "pygments_lexer": "ipython3",
   "version": "3.7.4"
  }
 },
 "nbformat": 4,
 "nbformat_minor": 2
}
