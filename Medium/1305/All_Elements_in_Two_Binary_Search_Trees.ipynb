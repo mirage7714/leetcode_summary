{
 "cells": [
  {
   "cell_type": "markdown",
   "metadata": {},
   "source": [
    "# 本題要將兩個binary search tree中的節點抓出後進行排序 (\\#Binary Tree, \\#BFS, \\#DFS)\n",
    "原題目連結: https://leetcode.com/problems/all-elements-in-two-binary-search-trees/  \n",
    "\n",
    "Given two binary search trees root1 and root2, return a list containing all the integers from both trees sorted in ascending order.  \n",
    "\n",
    "範例:  \n",
    "Ex1:  \n",
    "Input: root1 = [2,1,4], root2 = [1,0,3]  \n",
    "Output: [0,1,1,2,3,4]  \n",
    "\n",
    "Ex2:  \n",
    "Input: root1 = [1,null,8], root2 = [8,1]  \n",
    "Output: [1,1,8,8]"
   ]
  },
  {
   "cell_type": "markdown",
   "metadata": {},
   "source": [
    "* 解題想法:  \n",
    "由於是要從兩個binary search tree中取出數值，這邊用BFS或是DFS都可以完成，這題用BFS來進行走訪，首先建立一個bfs函數，並把取出的數值放入暫存，等走訪結束後直接回傳，最後將兩個list加總之後進行排序就是答案"
   ]
  },
  {
   "cell_type": "code",
   "execution_count": null,
   "metadata": {},
   "outputs": [],
   "source": [
    "# Definition for a binary tree node.\n",
    "# class TreeNode:\n",
    "#     def __init__(self, val=0, left=None, right=None):\n",
    "#         self.val = val\n",
    "#         self.left = left\n",
    "#         self.right = right\n",
    "class Solution:\n",
    "    def getAllElements(self, root1: TreeNode, root2: TreeNode) -> List[int]:\n",
    "        def bfs(node):\n",
    "            stack = [node]\n",
    "            val = []\n",
    "            while stack:\n",
    "                temp = []\n",
    "                for s in stack:\n",
    "                    val.append(s.val)\n",
    "                    if s.left:\n",
    "                        temp.append(s.left)\n",
    "                    if s.right:\n",
    "                        temp.append(s.right)\n",
    "                stack.clear()\n",
    "                stack += temp\n",
    "            return val\n",
    "        \n",
    "        result = []\n",
    "        if root1:\n",
    "            result += bfs(root1)\n",
    "        if root2:\n",
    "            result += bfs(root2)\n",
    "        result.sort()\n",
    "        return result"
   ]
  }
 ],
 "metadata": {
  "kernelspec": {
   "display_name": "Python 3",
   "language": "python",
   "name": "python3"
  },
  "language_info": {
   "codemirror_mode": {
    "name": "ipython",
    "version": 3
   },
   "file_extension": ".py",
   "mimetype": "text/x-python",
   "name": "python",
   "nbconvert_exporter": "python",
   "pygments_lexer": "ipython3",
   "version": "3.7.4"
  }
 },
 "nbformat": 4,
 "nbformat_minor": 4
}
