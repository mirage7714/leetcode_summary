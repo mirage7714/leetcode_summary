{
 "cells": [
  {
   "cell_type": "markdown",
   "metadata": {},
   "source": [
    "# 本題要計算每個subdomain共被拜訪了幾次\n",
    "原題目連結: https://leetcode.com/problems/subdomain-visit-count/  \n",
    "\n",
    "A website domain \"discuss.leetcode.com\" consists of various subdomains. At the top level, we have \"com\", at the next level, we have \"leetcode.com\" and at the lowest level, \"discuss.leetcode.com\". When we visit a domain like \"discuss.leetcode.com\", we will also visit the parent domains \"leetcode.com\" and \"com\" implicitly.  \n",
    "\n",
    "A count-paired domain is a domain that has one of the two formats \"rep d1.d2.d3\" or \"rep d1.d2\" where rep is the number of visits to the domain and d1.d2.d3 is the domain itself.  \n",
    "\n",
    "For example, \"9001 discuss.leetcode.com\" is a count-paired domain that indicates that discuss.leetcode.com was visited 9001 times.  \n",
    "Given an array of count-paired domains cpdomains, return an array of the count-paired domains of each subdomain in the input. You may return the answer in any order.  \n",
    "\n",
    "範例:  \n",
    "Ex1:  \n",
    "Input: cpdomains = [\"9001 discuss.leetcode.com\"]  \n",
    "Output: [\"9001 leetcode.com\",\"9001 discuss.leetcode.com\",\"9001 com\"]  \n",
    "Explanation: We only have one website domain: \"discuss.leetcode.com\".  \n",
    "As discussed above, the subdomain \"leetcode.com\" and \"com\" will also be visited. So they will all be visited 9001 times.  \n",
    "\n",
    "Ex2:  \n",
    "Input: cpdomains = [\"900 google.mail.com\", \"50 yahoo.com\", \"1 intel.mail.com\", \"5 wiki.org\"]  \n",
    "Output: [\"901 mail.com\",\"50 yahoo.com\",\"900 google.mail.com\",\"5 wiki.org\",\"5 org\",\"1 intel.mail.com\",\"951 com\"]  \n",
    "Explanation: We will visit \"google.mail.com\" 900 times, \"yahoo.com\" 50 times, \"intel.mail.com\" once and \"wiki.org\" 5 times.  \n",
    "For the subdomains, we will visit \"mail.com\" 900 + 1 = 901 times, \"com\" 900 + 50 + 1 = 951 times, and \"org\" 5 times.  "
   ]
  },
  {
   "cell_type": "markdown",
   "metadata": {},
   "source": [
    "* 解題想法:  \n",
    "為了記錄每個sub domain被拜訪的紀錄，使用了一個dict來存放數值，並用sub domain當成key，次數作為val，接著將拜訪記錄中的url切開成每個subdomain後放入dict，最後將dict中的數值重新組合後放入list回傳"
   ]
  },
  {
   "cell_type": "code",
   "execution_count": null,
   "metadata": {},
   "outputs": [],
   "source": [
    "class Solution:\n",
    "    def subdomainVisits(self, cpdomains: List[str]) -> List[str]:\n",
    "              \n",
    "        count = {}\n",
    "        result = []\n",
    "        for domain in cpdomains:\n",
    "            times = int(domain.split(' ')[0])\n",
    "            url = domain.split(' ')[1]\n",
    "            while len(url) > 0:\n",
    "                if url not in count.keys():\n",
    "                    count[url] = times\n",
    "                else:\n",
    "                    count[url] += times\n",
    "                if '.' in url:\n",
    "                    i = url.index('.')\n",
    "                    url = url[i+1:]\n",
    "                else:\n",
    "                    url = ''\n",
    "        for key, val in count.items():\n",
    "            result.append('{} {}'.format(val, key))\n",
    "        return result"
   ]
  }
 ],
 "metadata": {
  "kernelspec": {
   "display_name": "Python 3",
   "language": "python",
   "name": "python3"
  },
  "language_info": {
   "codemirror_mode": {
    "name": "ipython",
    "version": 3
   },
   "file_extension": ".py",
   "mimetype": "text/x-python",
   "name": "python",
   "nbconvert_exporter": "python",
   "pygments_lexer": "ipython3",
   "version": "3.7.4"
  }
 },
 "nbformat": 4,
 "nbformat_minor": 4
}
