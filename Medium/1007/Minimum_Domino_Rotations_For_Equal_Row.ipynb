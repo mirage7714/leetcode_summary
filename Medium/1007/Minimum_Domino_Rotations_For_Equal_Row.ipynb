{
 "cells": [
  {
   "cell_type": "markdown",
   "metadata": {},
   "source": [
    "# 本題要找最少的翻轉次數可以讓一列變成相同的數字\n",
    "原題目連結: https://leetcode.com/problems/minimum-domino-rotations-for-equal-row/  \n",
    "\n",
    "In a row of dominoes, tops[i] and bottoms[i] represent the top and bottom halves of the ith domino. (A domino is a tile with two numbers from 1 to 6 - one on each half of the tile.)  \n",
    "We may rotate the ith domino, so that tops[i] and bottoms[i] swap values.  \n",
    "Return the minimum number of rotations so that all the values in tops are the same, or all the values in bottoms are the same.  \n",
    "\n",
    "If it cannot be done, return -1.  \n",
    "\n",
    "範例:  \n",
    "Ex1:  \n",
    "Input: tops = [2,1,2,4,2,2], bottoms = [5,2,6,2,3,2]  \n",
    "Output: 2  \n",
    "Explanation:   \n",
    "The first figure represents the dominoes as given by tops and bottoms: before we do any rotations.  \n",
    "If we rotate the second and fourth dominoes, we can make every value in the top row equal to 2, as indicated by the second figure.  \n",
    "\n",
    "Ex2:  \n",
    "Input: tops = [3,5,1,2,3], bottoms = [3,6,3,3,4]  \n",
    "Output: -1  \n",
    "Explanation:   \n",
    "In this case, it is not possible to rotate the dominoes to make one row of values equal."
   ]
  },
  {
   "cell_type": "markdown",
   "metadata": {},
   "source": [
    "* 解題想法:  \n",
    "首先建立三個list，分別用來存放上下排以及相同的數字，接著開始檢查上下列出現的數字，如果相同則放入相同的list中，否則分別放入上下列的list中，最後檢查六個數字的總和，是否有上下列加上相同列時會等於總長度的情況，有的話則回傳最小值，如果都沒有最後則回傳-1"
   ]
  },
  {
   "cell_type": "code",
   "execution_count": null,
   "metadata": {},
   "outputs": [],
   "source": [
    "class Solution:\n",
    "    def minDominoRotations(self, A: List[int], B: List[int]) -> int:\n",
    "        same_dom = [0] * 6\n",
    "        top_dom = [0] * 6\n",
    "        bot_dom = [0] * 6\n",
    "        s = len(A)\n",
    "        for m in range(s):\n",
    "            if A[m] == B[m]:\n",
    "                same_dom[A[m]-1] += 1\n",
    "            else:\n",
    "                top_dom[A[m]-1] += 1\n",
    "                bot_dom[B[m]-1] += 1\n",
    "        \n",
    "        for n in range(6):\n",
    "            if same_dom[n] + top_dom[n] + bot_dom[n] == s:\n",
    "                return min(top_dom[n], bot_dom[n])\n",
    "        return -1"
   ]
  }
 ],
 "metadata": {
  "kernelspec": {
   "display_name": "Python 3",
   "language": "python",
   "name": "python3"
  },
  "language_info": {
   "codemirror_mode": {
    "name": "ipython",
    "version": 3
   },
   "file_extension": ".py",
   "mimetype": "text/x-python",
   "name": "python",
   "nbconvert_exporter": "python",
   "pygments_lexer": "ipython3",
   "version": "3.7.4"
  }
 },
 "nbformat": 4,
 "nbformat_minor": 4
}
