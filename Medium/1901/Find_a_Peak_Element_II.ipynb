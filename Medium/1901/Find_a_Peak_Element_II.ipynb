{
 "cells": [
  {
   "cell_type": "markdown",
   "metadata": {},
   "source": [
    "# 本題要找出在list中最大的值\n",
    "原題目連結: https://leetcode.com/problems/find-a-peak-element-ii/  \n",
    "\n",
    "A peak element in a 2D grid is an element that is strictly greater than all of its adjacent neighbors to the left, right, top, and bottom.  \n",
    "\n",
    "Given a 0-indexed m x n matrix mat where no two adjacent cells are equal, find any peak element mat[i][j] and return the length 2 array [i,j].  \n",
    "\n",
    "You may assume that the entire matrix is surrounded by an outer perimeter with the value -1 in each cell.  \n",
    "\n",
    "You must write an algorithm that runs in O(m log(n)) or O(n log(m)) time.  \n",
    "\n",
    "範例:  \n",
    "Ex1:  \n",
    "Input: mat = [[1,4],[3,2]]  \n",
    "Output: [0,1]  \n",
    "Explanation: Both 3 and 4 are peak elements so [1,0] and [0,1] are both acceptable answers.  \n",
    "\n",
    "Ex2:  \n",
    "Input: mat = [[10,20,15],[21,30,14],[7,16,32]]  \n",
    "Output: [1,1]  \n",
    "Explanation: Both 30 and 32 are peak elements so [1,1] and [2,2] are both acceptable answers."
   ]
  },
  {
   "cell_type": "markdown",
   "metadata": {},
   "source": [
    "* 解題想法:  \n",
    "首先找出該列最大值為何，並且找出最大值對應的index，接著對照上下兩列相同index值，如果符合題目說明最大值的定義就將值做成list回傳"
   ]
  },
  {
   "cell_type": "code",
   "execution_count": null,
   "metadata": {},
   "outputs": [],
   "source": [
    "class Solution:\n",
    "    def findPeakGrid(self, mat: List[List[int]]) -> List[int]:\n",
    "        result = []\n",
    "        for m in range(len(mat)):\n",
    "            top = max(mat[m])\n",
    "            i = mat[m].index(top)\n",
    "            if m == 0:\n",
    "                if top > mat[m+1][i]:\n",
    "                    result.append(0)\n",
    "                    result.append(i)\n",
    "                    break\n",
    "            elif m == len(mat) -1:\n",
    "                if top > mat[m-1][i]:\n",
    "                    result.append(m)\n",
    "                    result.append(i)\n",
    "                    break\n",
    "            else:\n",
    "                if top > mat[m-1][i] and top > mat[m+1][i] :\n",
    "                    result.append(m)\n",
    "                    result.append(i)\n",
    "                    break\n",
    "        return result"
   ]
  }
 ],
 "metadata": {
  "kernelspec": {
   "display_name": "Python 3",
   "language": "python",
   "name": "python3"
  },
  "language_info": {
   "codemirror_mode": {
    "name": "ipython",
    "version": 3
   },
   "file_extension": ".py",
   "mimetype": "text/x-python",
   "name": "python",
   "nbconvert_exporter": "python",
   "pygments_lexer": "ipython3",
   "version": "3.7.4"
  }
 },
 "nbformat": 4,
 "nbformat_minor": 2
}
