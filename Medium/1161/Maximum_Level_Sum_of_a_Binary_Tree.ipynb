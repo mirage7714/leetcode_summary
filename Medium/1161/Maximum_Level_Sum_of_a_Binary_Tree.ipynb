{
 "cells": [
  {
   "cell_type": "markdown",
   "metadata": {},
   "source": [
    "# 本題要出在binary tree中總和最大的一層是多少 (\\#Binary Tree, \\#BFS)\n",
    "原題目連結: https://leetcode.com/problems/maximum-level-sum-of-a-binary-tree/  \n",
    "\n",
    "Given the root of a binary tree, the level of its root is 1, the level of its children is 2, and so on.  \n",
    "Return the smallest level x such that the sum of all the values of nodes at level x is maximal.  \n",
    "\n",
    "範例:   \n",
    "Ex1:  \n",
    "Input: root = [1,7,0,7,-8,null,null]  \n",
    "Output: 2  \n",
    "Explanation:   \n",
    "Level 1 sum = 1.  \n",
    "Level 2 sum = 7 + 0 = 7.  \n",
    "Level 3 sum = 7 + -8 = -1.  \n",
    "So we return the level with the maximum sum which is level 2.  \n",
    "\n",
    "Ex2:  \n",
    "Input: root = [989,null,10250,98693,-89388,null,null,null,-32127]  \n",
    "Output: 2  "
   ]
  },
  {
   "cell_type": "markdown",
   "metadata": {},
   "source": [
    "* 解題想法:  \n",
    "由於是要找出每一層的總和，因此使用BFS的方式來進行走訪，首先將該層的數值總和算出之後，與目前的最大值進行比較，如果大於目前的最大值則將層數及最大值一併更新，最後回傳層數"
   ]
  },
  {
   "cell_type": "code",
   "execution_count": null,
   "metadata": {},
   "outputs": [],
   "source": [
    "# Definition for a binary tree node.\n",
    "# class TreeNode:\n",
    "#     def __init__(self, val=0, left=None, right=None):\n",
    "#         self.val = val\n",
    "#         self.left = left\n",
    "#         self.right = right\n",
    "class Solution:\n",
    "    def maxLevelSum(self, root: Optional[TreeNode]) -> int:\n",
    "        result = 1\n",
    "        val = root.val if root else None\n",
    "        level = 1\n",
    "        if root:\n",
    "            stack = [root]\n",
    "            while stack:\n",
    "                node = []\n",
    "                v = 0\n",
    "                for s in stack:\n",
    "                    v += s.val\n",
    "                    if s.left:\n",
    "                        node.append(s.left)\n",
    "                    if s.right:\n",
    "                        node.append(s.right)\n",
    "                if v > val:\n",
    "                    result = level\n",
    "                    val = v\n",
    "                level += 1\n",
    "                stack.clear()\n",
    "                stack += node\n",
    "        return result"
   ]
  }
 ],
 "metadata": {
  "kernelspec": {
   "display_name": "Python 3",
   "language": "python",
   "name": "python3"
  },
  "language_info": {
   "codemirror_mode": {
    "name": "ipython",
    "version": 3
   },
   "file_extension": ".py",
   "mimetype": "text/x-python",
   "name": "python",
   "nbconvert_exporter": "python",
   "pygments_lexer": "ipython3",
   "version": "3.7.4"
  }
 },
 "nbformat": 4,
 "nbformat_minor": 4
}
