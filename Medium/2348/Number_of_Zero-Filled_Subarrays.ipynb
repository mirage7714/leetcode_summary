{
 "cells": [
  {
   "cell_type": "markdown",
   "metadata": {},
   "source": [
    "# 本題要找出共有幾個都是0的subarray\n",
    "原題目連結: https://leetcode.com/problems/number-of-zero-filled-subarrays/  \n",
    "\n",
    "Given an integer array nums, return the number of subarrays filled with 0.  \n",
    "A subarray is a contiguous non-empty sequence of elements within an array.  \n",
    "\n",
    "範例:  \n",
    "Ex1:  \n",
    "Input: nums = [1,3,0,0,2,0,0,4]  \n",
    "Output: 6  \n",
    "Explanation:   \n",
    "There are 4 occurrences of [0] as a subarray.  \n",
    "There are 2 occurrences of [0,0] as a subarray.  \n",
    "There is no occurrence of a subarray with a size more than 2 filled with 0. Therefore, we return 6.  \n",
    "\n",
    "Ex2:  \n",
    "Input: nums = [0,0,0,2,0,0]  \n",
    "Output: 9  \n",
    "Explanation:  \n",
    "There are 5 occurrences of [0] as a subarray.  \n",
    "There are 3 occurrences of [0,0] as a subarray.  \n",
    "There is 1 occurrence of [0,0,0] as a subarray.  \n",
    "There is no occurrence of a subarray with a size more than 3 filled with 0. Therefore, we return 9.  \n",
    "\n",
    "Ex3:  \n",
    "Input: nums = [2,10,2019]  \n",
    "Output: 0  \n",
    "Explanation: There is no subarray filled with 0. Therefore, we return 0."
   ]
  },
  {
   "cell_type": "markdown",
   "metadata": {},
   "source": [
    "* 解題想法:  \n",
    "首先找出連續為0的subarray長度為多少，接著用總和公式可以算出共有幾種組合，最後將總和加起來就是答案"
   ]
  },
  {
   "cell_type": "code",
   "execution_count": null,
   "metadata": {},
   "outputs": [],
   "source": [
    "class Solution:\n",
    "    def zeroFilledSubarray(self, nums: List[int]) -> int:\n",
    "        def calCombination(count):\n",
    "            result = int((1+count) * count / 2)\n",
    "            return result\n",
    "        \n",
    "        result = 0\n",
    "        count = 0\n",
    "        for n in nums:\n",
    "            if n != 0:\n",
    "                if count > 0:\n",
    "                    result += calCombination(count)\n",
    "                count = 0\n",
    "            else:\n",
    "                count += 1\n",
    "        if count > 0:\n",
    "            result += calCombination(count)\n",
    "        return result"
   ]
  }
 ],
 "metadata": {
  "kernelspec": {
   "display_name": "Python 3",
   "language": "python",
   "name": "python3"
  },
  "language_info": {
   "codemirror_mode": {
    "name": "ipython",
    "version": 3
   },
   "file_extension": ".py",
   "mimetype": "text/x-python",
   "name": "python",
   "nbconvert_exporter": "python",
   "pygments_lexer": "ipython3",
   "version": "3.7.4"
  }
 },
 "nbformat": 4,
 "nbformat_minor": 4
}
