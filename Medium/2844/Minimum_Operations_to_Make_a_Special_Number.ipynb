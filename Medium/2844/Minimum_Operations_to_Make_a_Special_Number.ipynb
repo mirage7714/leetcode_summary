{
 "cells": [
  {
   "cell_type": "markdown",
   "id": "d3d41c15-d70f-4b36-9394-89bd721d87ec",
   "metadata": {},
   "source": [
    "# 本題要找出指定的數需要被25整除，需要移除當中多少數字 (\\#Math, \\#String, \\#Greedy )\n",
    "原題目連結: https://leetcode.com/problems/minimum-operations-to-make-a-special-number/description/  \n",
    "\n",
    "You are given a 0-indexed string num representing a non-negative integer.  \n",
    "In one operation, you can pick any digit of num and delete it. Note that if you delete all the digits of num, num becomes 0.  \n",
    "\n",
    "Return the minimum number of operations required to make num special.  \n",
    "An integer x is considered special if it is divisible by 25.  \n",
    "\n",
    "範例:  \n",
    "Ex1:  \n",
    "Input: num = \"2908305\"  \n",
    "Output: 3  \n",
    "Explanation: Delete digits num[3], num[4], and num[6]. The resulting number is \"2900\" which is special since it is divisible by 25.  \n",
    "It can be shown that 3 is the minimum number of operations required to get a special number.  \n",
    "\n",
    "Ex2:  \n",
    "Input: num = \"10\"  \n",
    "Output: 1   \n",
    "Explanation: Delete digit num[0]. The resulting number is \"0\" which is special since it is divisible by 25.  \n",
    "It can be shown that 1 is the minimum number of operations required to get a special number."
   ]
  },
  {
   "cell_type": "markdown",
   "id": "5ade502b-17c4-4229-b450-b3f176c07ead",
   "metadata": {},
   "source": [
    "* 解題想法:  \n",
    "首先將可以被25整除的情境都列出來，接著檢查每個情境需要移除的數字是多少，最後回傳最小值，如果都沒辦法達成的情況，則找出將該數值歸零需要的步數就是答案"
   ]
  },
  {
   "cell_type": "code",
   "execution_count": null,
   "id": "c512a50b-6240-4e6d-ad75-35eca1130e08",
   "metadata": {},
   "outputs": [],
   "source": [
    "class Solution:\n",
    "    def minimumOperations(self, num: str) -> int:\n",
    "        res = len(num)\n",
    "        if '0' in num:\n",
    "            res -= 1\n",
    "        nums = ['00','25','50','75']\n",
    "        if len(num) <= 2:\n",
    "            if num not in nums:\n",
    "                if num[-1] != '0':\n",
    "                    res = len(num)\n",
    "                else:\n",
    "                    res = 1\n",
    "            else:\n",
    "                res = 0\n",
    "        else: \n",
    "            for n in nums:\n",
    "                l = [i for i in n]\n",
    "                t = 0\n",
    "                for i in range(len(num)-1, -1, -1):\n",
    "                    if num[i] == l[-1]:\n",
    "                        l.pop()\n",
    "                        if len(l) == 0:\n",
    "                            break\n",
    "                    else:\n",
    "                        t += 1\n",
    "                if len(l) == 0:\n",
    "                    res = min(t, res)\n",
    "        return res"
   ]
  }
 ],
 "metadata": {
  "kernelspec": {
   "display_name": "Python 3 (ipykernel)",
   "language": "python",
   "name": "python3"
  },
  "language_info": {
   "codemirror_mode": {
    "name": "ipython",
    "version": 3
   },
   "file_extension": ".py",
   "mimetype": "text/x-python",
   "name": "python",
   "nbconvert_exporter": "python",
   "pygments_lexer": "ipython3",
   "version": "3.9.13"
  }
 },
 "nbformat": 4,
 "nbformat_minor": 5
}
