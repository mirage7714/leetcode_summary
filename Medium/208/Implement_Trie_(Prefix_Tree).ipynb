{
 "cells": [
  {
   "cell_type": "markdown",
   "metadata": {},
   "source": [
    "# 本題要建立一個函數，來檢查單字或是字首是否有出現過\n",
    "原題目連結: https://leetcode.com/problems/implement-trie-prefix-tree/  \n",
    "\n",
    "A trie (pronounced as \"try\") or prefix tree is a tree data structure used to efficiently store and retrieve keys in a dataset of strings. There are various applications of this data structure, such as autocomplete and spellchecker.  \n",
    "\n",
    "Implement the Trie class:  \n",
    "\n",
    "Trie() Initializes the trie object.  \n",
    "void insert(String word) Inserts the string word into the trie.  \n",
    "boolean search(String word) Returns true if the string word is in the trie (i.e., was inserted before), and false otherwise.  \n",
    "boolean startsWith(String prefix) Returns true if there is a previously inserted string word that has the prefix prefix, and false otherwise.  \n",
    "\n",
    "範例:  \n",
    "Ex1:  \n",
    "Input  \n",
    "[\"Trie\", \"insert\", \"search\", \"search\", \"startsWith\", \"insert\", \"search\"]  \n",
    "[[], [\"apple\"], [\"apple\"], [\"app\"], [\"app\"], [\"app\"], [\"app\"]]  \n",
    "Output  \n",
    "[null, null, true, false, true, null, true]  \n",
    "\n",
    "Explanation  \n",
    "Trie trie = new Trie();  \n",
    "trie.insert(\"apple\");  \n",
    "trie.search(\"apple\");   // return True  \n",
    "trie.search(\"app\");     // return False  \n",
    "trie.startsWith(\"app\"); // return True  \n",
    "trie.insert(\"app\");  \n",
    "trie.search(\"app\");     // return True  "
   ]
  },
  {
   "cell_type": "markdown",
   "metadata": {},
   "source": [
    "* 解題想法:  \n",
    "首先建立一個dict，接著開始實作以下的功能:  \n",
    "- insert(): 用word的開頭當成key值，並將word放入dict中  \n",
    "- search(): 首先檢查word的開頭是否存在於dict的key值中，如果存在的話則檢查word是否在list中，如果存在的話則回傳True，否則回傳False  \n",
    "- startsWith(): 首先檢查prefix的開頭是否存在於dict的key值中，如果存在則檢查list中的字母是否有開頭為prefix的字串，如果有回傳True，否則回傳False"
   ]
  },
  {
   "cell_type": "code",
   "execution_count": null,
   "metadata": {},
   "outputs": [],
   "source": [
    "class Trie:\n",
    "\n",
    "    def __init__(self):\n",
    "        self.data = {}\n",
    "        \n",
    "\n",
    "    def insert(self, word: str) -> None:\n",
    "        key = word[0]\n",
    "        if key not in self.data.keys():\n",
    "            self.data[key] = [word]\n",
    "        else:\n",
    "            self.data[key].append(word)\n",
    "\n",
    "    def search(self, word: str) -> bool:\n",
    "        if word[0] in self.data.keys():\n",
    "            words = self.data[word[0]]\n",
    "            if word in words:\n",
    "                return True\n",
    "        return False\n",
    "    \n",
    "    def startsWith(self, prefix: str) -> bool:\n",
    "        if prefix[0] in self.data.keys():\n",
    "            for w in self.data[prefix[0]]:\n",
    "                if w.startswith(prefix):\n",
    "                    return True\n",
    "        return False\n",
    "\n",
    "\n",
    "# Your Trie object will be instantiated and called as such:\n",
    "# obj = Trie()\n",
    "# obj.insert(word)\n",
    "# param_2 = obj.search(word)\n",
    "# param_3 = obj.startsWith(prefix)"
   ]
  }
 ],
 "metadata": {
  "kernelspec": {
   "display_name": "Python 3",
   "language": "python",
   "name": "python3"
  },
  "language_info": {
   "codemirror_mode": {
    "name": "ipython",
    "version": 3
   },
   "file_extension": ".py",
   "mimetype": "text/x-python",
   "name": "python",
   "nbconvert_exporter": "python",
   "pygments_lexer": "ipython3",
   "version": "3.7.4"
  }
 },
 "nbformat": 4,
 "nbformat_minor": 4
}
