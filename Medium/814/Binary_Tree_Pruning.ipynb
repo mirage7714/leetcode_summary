{
 "cells": [
  {
   "cell_type": "markdown",
   "metadata": {},
   "source": [
    "# 本題要將數值為0的葉子進行修剪 (\\#Binary Tree, \\#DFS)\n",
    "原題目連結: https://leetcode.com/problems/binary-tree-pruning/  \n",
    "\n",
    "Given the root of a binary tree, return the same tree where every subtree (of the given tree) not containing a 1 has been removed.  \n",
    "A subtree of a node node is node plus every node that is a descendant of node.  \n",
    "\n",
    "範例:  \n",
    "Ex1:  \n",
    "Input: root = [1,null,0,0,1]  \n",
    "Output: [1,null,0,null,1]  \n",
    "Explanation:    \n",
    "Only the red nodes satisfy the property \"every subtree not containing a 1\".  \n",
    "The diagram on the right represents the answer.  \n",
    "\n",
    "Ex2:  \n",
    "Input: root = [1,0,1,0,0,0,1]  \n",
    "Output: [1,null,1,null,1]  \n",
    "\n",
    "Ex3:  \n",
    "Input: root = [1,1,0,1,1,0,1,0]  \n",
    "Output: [1,1,0,1,1,null,1]"
   ]
  },
  {
   "cell_type": "markdown",
   "metadata": {},
   "source": [
    "* 解題想法:  \n",
    "這題與No.1325很相似，都是要對binary tree進行修剪，使用DFS進行走訪，並在下一個點為葉子且數值為0的時候將這個葉子修剪掉，最後如果當父節點也變為葉子且數值為0時，還需要進行最後的修剪，最後將修剪完成的樹回傳就是答案"
   ]
  },
  {
   "cell_type": "code",
   "execution_count": null,
   "metadata": {},
   "outputs": [],
   "source": [
    "# Definition for a binary tree node.\n",
    "# class TreeNode:\n",
    "#     def __init__(self, val=0, left=None, right=None):\n",
    "#         self.val = val\n",
    "#         self.left = left\n",
    "#         self.right = right\n",
    "class Solution:\n",
    "    def pruneTree(self, root: Optional[TreeNode]) -> Optional[TreeNode]:\n",
    "        \n",
    "        def dfs(node, count):\n",
    "            if node.left:\n",
    "                if not node.left.left and not node.left.right and node.left.val == 0:\n",
    "                    node.left = None\n",
    "                    count[0] += 1\n",
    "                else:\n",
    "                    dfs(node.left, count)\n",
    "            if node.right:\n",
    "                if not node.right.left and not node.right.right and node.right.val == 0:\n",
    "                    node.right = None\n",
    "                    count[0] += 1\n",
    "                else:\n",
    "                    dfs(node.right, count)\n",
    "            \n",
    "        count = [0]\n",
    "        result = root\n",
    "        while result:\n",
    "            p = count[0]\n",
    "            if not result.left and not result.right and result.val == 0:\n",
    "                return None\n",
    "            dfs(result, count)\n",
    "            if count[0] == p:\n",
    "                break\n",
    "        return result"
   ]
  }
 ],
 "metadata": {
  "kernelspec": {
   "display_name": "Python 3",
   "language": "python",
   "name": "python3"
  },
  "language_info": {
   "codemirror_mode": {
    "name": "ipython",
    "version": 3
   },
   "file_extension": ".py",
   "mimetype": "text/x-python",
   "name": "python",
   "nbconvert_exporter": "python",
   "pygments_lexer": "ipython3",
   "version": "3.7.4"
  }
 },
 "nbformat": 4,
 "nbformat_minor": 4
}
