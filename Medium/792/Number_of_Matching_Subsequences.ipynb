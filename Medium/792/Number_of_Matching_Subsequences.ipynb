{
 "cells": [
  {
   "cell_type": "markdown",
   "metadata": {},
   "source": [
    "# 本題要找出共有多少個字串是符合的子字串\n",
    "原題目連結: https://leetcode.com/problems/number-of-matching-subsequences/  \n",
    "\n",
    "Given a string s and an array of strings words, return the number of words[i] that is a subsequence of s.  \n",
    "A subsequence of a string is a new string generated from the original string with some characters (can be none) deleted without changing the relative order of the remaining characters.  \n",
    "For example, \"ace\" is a subsequence of \"abcde\".  \n",
    "\n",
    "範例:  \n",
    "Ex1:  \n",
    "Input: s = \"abcde\", words = [\"a\",\"bb\",\"acd\",\"ace\"]  \n",
    "Output: 3  \n",
    "Explanation: There are three strings in words that are a subsequence of s: \"a\", \"acd\", \"ace\".  \n",
    "\n",
    "Ex2:  \n",
    "Input: s = \"dsahjpjauf\", words = [\"ahjpjau\",\"ja\",\"ahbwzgqnuk\",\"tnmlanowax\"]  \n",
    "Output: 2"
   ]
  },
  {
   "cell_type": "markdown",
   "metadata": {},
   "source": [
    "* 解題想法:  \n",
    "首先將原本的字串取出每個字母的位置後，從words開始檢查每個字串的字母順序是否符合母字串的順序，如果最後都符合則將總和+1，最後回傳總和"
   ]
  },
  {
   "cell_type": "code",
   "execution_count": null,
   "metadata": {},
   "outputs": [],
   "source": [
    "class Solution:\n",
    "    def numMatchingSubseq(self, s: str, words: List[str]) -> int:\n",
    "        chars = {}\n",
    "        count = 0\n",
    "        for m in range(len(s)):\n",
    "            if s[m] not in chars.keys():\n",
    "                chars[s[m]] = [m]\n",
    "            else:\n",
    "                chars[s[m]].append(m)\n",
    "        for word in words:\n",
    "            if word in s:\n",
    "                count += 1\n",
    "            else:\n",
    "                temp = -1\n",
    "                is_valid = True\n",
    "                for w in word:\n",
    "                    if w in chars.keys():\n",
    "                        l = chars[w]\n",
    "                        if temp < l[-1]:\n",
    "                            for a in l:\n",
    "                                if a > temp:\n",
    "                                    temp = a\n",
    "                                    break\n",
    "                        else:\n",
    "                            is_valid = False\n",
    "                            break\n",
    "                    else:\n",
    "                        is_valid = False\n",
    "                        break\n",
    "                if is_valid:\n",
    "                    count += 1\n",
    "        return count"
   ]
  }
 ],
 "metadata": {
  "kernelspec": {
   "display_name": "Python 3",
   "language": "python",
   "name": "python3"
  },
  "language_info": {
   "codemirror_mode": {
    "name": "ipython",
    "version": 3
   },
   "file_extension": ".py",
   "mimetype": "text/x-python",
   "name": "python",
   "nbconvert_exporter": "python",
   "pygments_lexer": "ipython3",
   "version": "3.7.4"
  }
 },
 "nbformat": 4,
 "nbformat_minor": 4
}
