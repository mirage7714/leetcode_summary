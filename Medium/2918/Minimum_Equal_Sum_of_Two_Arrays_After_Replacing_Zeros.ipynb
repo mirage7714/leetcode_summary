{
 "cells": [
  {
   "cell_type": "markdown",
   "id": "5227e9f2-d6d5-4b17-a990-038d14013f05",
   "metadata": {},
   "source": [
    "# 本題要找出兩個list的最小總和為多少 (\\#Array, \\#Math )\n",
    "原題目連結：https://leetcode.com/problems/minimum-equal-sum-of-two-arrays-after-replacing-zeros/description/  \n",
    "\n",
    "You are given two arrays nums1 and nums2 consisting of positive integers.  \n",
    "You have to replace all the 0's in both arrays with strictly positive integers such that the sum of elements of both arrays becomes equal.  \n",
    "Return the minimum equal sum you can obtain, or -1 if it is impossible.  \n",
    "\n",
    "範例：  \n",
    "Ex1:  \n",
    "Input: nums1 = [3,2,0,1,0], nums2 = [6,5,0]  \n",
    "Output: 12  \n",
    "Explanation: We can replace 0's in the following way:  \n",
    "- Replace the two 0's in nums1 with the values 2 and 4. The resulting array is nums1 = [3,2,2,1,4].  \n",
    "- Replace the 0 in nums2 with the value 1. The resulting array is nums2 = [6,5,1].  \n",
    "Both arrays have an equal sum of 12. It can be shown that it is the minimum sum we can obtain.  \n",
    "\n",
    "Ex2:  \n",
    "Input: nums1 = [2,0,2,0], nums2 = [1,4]  \n",
    "Output: -1  \n",
    "Explanation: It is impossible to make the sum of both arrays equal."
   ]
  },
  {
   "cell_type": "markdown",
   "id": "8f1e9174-ab00-4ced-b16a-87fdfe8452ee",
   "metadata": {},
   "source": [
    "* 解題想法：  \n",
    "首先將兩個list的總和分別加總，並算出兩個list分別有多少個0，如果兩邊都分別有0的情況，則最小的總和就是兩邊總和分別加上0之後的最大值，如果其中一邊沒有0的情況，則算出0平均需要取代為多少，如果小於1則回傳-1，否則回傳兩個總和的最大值，如果兩邊都沒有0的情況，則檢查兩邊總和是否相同，如果不相同則回傳-1，否則回傳總和就是答案"
   ]
  },
  {
   "cell_type": "code",
   "execution_count": null,
   "id": "f43817b3-81f1-4619-b00e-89b1431760ef",
   "metadata": {},
   "outputs": [],
   "source": [
    "class Solution:\n",
    "    def minSum(self, nums1: List[int], nums2: List[int]) -> int:\n",
    "        def getSum(nums):\n",
    "            res = []\n",
    "            t = 0\n",
    "            z = 0\n",
    "            for n in nums:\n",
    "                if n != 0:\n",
    "                    t += n\n",
    "                else:\n",
    "                    z += 1\n",
    "            res.append(t)\n",
    "            res.append(z)\n",
    "            return res\n",
    "        n1 = getSum(nums1)\n",
    "        n2 = getSum(nums2)\n",
    "        d = n1[0] - n2[0]\n",
    "        z = n2[1] - n1[1]\n",
    "        if n1[1] != 0 and n2[1] != 0:\n",
    "            return max(n1[0] + n1[1], n2[0] + n2[1])\n",
    "        elif z != 0:\n",
    "            r = d / z\n",
    "            if r < 1:\n",
    "                return -1\n",
    "            else:\n",
    "                return max(n1[0], n2[0])\n",
    "        else:\n",
    "            if d != 0:\n",
    "                return -1\n",
    "            else:\n",
    "                return n1[0]"
   ]
  }
 ],
 "metadata": {
  "kernelspec": {
   "display_name": "Python 3 (ipykernel)",
   "language": "python",
   "name": "python3"
  },
  "language_info": {
   "codemirror_mode": {
    "name": "ipython",
    "version": 3
   },
   "file_extension": ".py",
   "mimetype": "text/x-python",
   "name": "python",
   "nbconvert_exporter": "python",
   "pygments_lexer": "ipython3",
   "version": "3.10.9"
  }
 },
 "nbformat": 4,
 "nbformat_minor": 5
}
