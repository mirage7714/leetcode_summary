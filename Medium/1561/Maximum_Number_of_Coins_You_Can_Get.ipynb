{
 "cells": [
  {
   "cell_type": "markdown",
   "metadata": {},
   "source": [
    "# 本題要找出最多的數字和是多少\n",
    "原題目連結: https://leetcode.com/problems/maximum-number-of-coins-you-can-get/  \n",
    "\n",
    "There are 3n piles of coins of varying size, you and your friends will take piles of coins as follows:  \n",
    "\n",
    "In each step, you will choose any 3 piles of coins (not necessarily consecutive).  \n",
    "Of your choice, Alice will pick the pile with the maximum number of coins.  \n",
    "You will pick the next pile with maximum number of coins.  \n",
    "Your friend Bob will pick the last pile.  \n",
    "Repeat until there are no more piles of coins.  \n",
    "Given an array of integers piles where piles[i] is the number of coins in the ith pile.  \n",
    "\n",
    "Return the maximum number of coins which you can have.  \n",
    "\n",
    "範例:  \n",
    "Ex1:  \n",
    "Input: piles = [2,4,1,2,7,8]  \n",
    "Output: 9  \n",
    "Explanation: Choose the triplet (2, 7, 8), Alice Pick the pile with 8 coins, you the pile with 7 coins and Bob the last one.  \n",
    "Choose the triplet (1, 2, 4), Alice Pick the pile with 4 coins, you the pile with 2 coins and Bob the last one.  \n",
    "The maximum number of coins which you can have are: 7 + 2 = 9.  \n",
    "On the other hand if we choose this arrangement (1, 2, 8), (2, 4, 7) you only get 2 + 4 = 6 coins which is not optimal.  \n",
    "\n",
    "Ex2:  \n",
    "Input: piles = [2,4,5]  \n",
    "Output: 4  \n",
    "\n",
    "Ex3:  \n",
    "Input: piles = [9,8,7,6,5,1,2,3,4]  \n",
    "Output: 18\n"
   ]
  },
  {
   "cell_type": "markdown",
   "metadata": {},
   "source": [
    "* 解題想法:  \n",
    "依照題目的說明，首先要從list中分出三個數字，只能拿到中間的數字，其他兩個數字都需要捨棄，因此挑選數字的組合應該是以最大的兩個數與最小的數字來組合，在去除這三個數字後接續下去直到全部分配完畢，最後再將所有可以拿到的數字總和算出後回傳"
   ]
  },
  {
   "cell_type": "code",
   "execution_count": null,
   "metadata": {},
   "outputs": [],
   "source": [
    "class Solution:\n",
    "    def maxCoins(self, piles: List[int]) -> int:\n",
    "        temp = []\n",
    "        result = 0\n",
    "        piles.sort(reverse = True)\n",
    "        while len(piles) > 0:\n",
    "            temp.append(piles[1])\n",
    "            piles.pop(0)\n",
    "            piles.pop(1)\n",
    "            piles.pop(-1)\n",
    "        for t in temp:\n",
    "            result += t\n",
    "        return result"
   ]
  }
 ],
 "metadata": {
  "kernelspec": {
   "display_name": "Python 3",
   "language": "python",
   "name": "python3"
  },
  "language_info": {
   "codemirror_mode": {
    "name": "ipython",
    "version": 3
   },
   "file_extension": ".py",
   "mimetype": "text/x-python",
   "name": "python",
   "nbconvert_exporter": "python",
   "pygments_lexer": "ipython3",
   "version": "3.7.4"
  }
 },
 "nbformat": 4,
 "nbformat_minor": 2
}
