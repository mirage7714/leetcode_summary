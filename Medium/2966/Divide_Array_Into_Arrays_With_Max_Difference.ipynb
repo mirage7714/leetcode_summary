{
 "cells": [
  {
   "cell_type": "markdown",
   "id": "07d8955f-a3e8-423a-9dc5-e4aa93a42996",
   "metadata": {},
   "source": [
    "# 本題要確認是否能將list切割成指定的規格 (\\#Array, \\#Heap )\n",
    "原題目連結: https://leetcode.com/problems/divide-array-into-arrays-with-max-difference/description/  \n",
    "\n",
    "You are given an integer array nums of size n and a positive integer k.  \n",
    "Divide the array into one or more arrays of size 3 satisfying the following conditions:  \n",
    "Each element of nums should be in exactly one array.  \n",
    "The difference between any two elements in one array is less than or equal to k.  \n",
    "Return a 2D array containing all the arrays. If it is impossible to satisfy the conditions, return an empty array. And if there are multiple answers, return any of them.  \n",
    "\n",
    "範例:  \n",
    "Ex1:  \n",
    "Input: nums = [1,3,4,8,7,9,3,5,1], k = 2  \n",
    "Output: [[1,1,3],[3,4,5],[7,8,9]]  \n",
    "Explanation: We can divide the array into the following arrays: [1,1,3], [3,4,5] and [7,8,9].  \n",
    "The difference between any two elements in each array is less than or equal to 2.  \n",
    "Note that the order of elements is not important.  \n",
    "\n",
    "Ex2:  \n",
    "Input: nums = [1,3,3,2,7,3], k = 3  \n",
    "Output: []  \n",
    "Explanation: It is not possible to divide the array satisfying all the conditions."
   ]
  },
  {
   "cell_type": "markdown",
   "id": "ede80bf8-cc50-41d7-935b-4e5411854d9e",
   "metadata": {},
   "source": [
    "* 解題想法:  \n",
    "首先將nums轉換為heap，接著連續取出三個數值，並檢查最大與最小相差是否符合條件，如果不符合條件則回傳空list，如果符合條件則加入list中，最後回傳list就是答案"
   ]
  },
  {
   "cell_type": "code",
   "execution_count": null,
   "id": "e85be143-d131-463f-b5f2-e27c4fb37aea",
   "metadata": {},
   "outputs": [],
   "source": [
    "import heapq\n",
    "\n",
    "class Solution:\n",
    "    def divideArray(self, nums: List[int], k: int) -> List[List[int]]:\n",
    "        res = []\n",
    "        heapq.heapify(nums)\n",
    "        while nums:\n",
    "            t = []\n",
    "            for _ in range(3):\n",
    "                n = heapq.heappop(nums)\n",
    "                t.append(n)\n",
    "            if t[-1] - t[0] > k:\n",
    "                return []\n",
    "            res.append(t)\n",
    "        return res        "
   ]
  }
 ],
 "metadata": {
  "kernelspec": {
   "display_name": "Python 3 (ipykernel)",
   "language": "python",
   "name": "python3"
  },
  "language_info": {
   "codemirror_mode": {
    "name": "ipython",
    "version": 3
   },
   "file_extension": ".py",
   "mimetype": "text/x-python",
   "name": "python",
   "nbconvert_exporter": "python",
   "pygments_lexer": "ipython3",
   "version": "3.9.13"
  }
 },
 "nbformat": 4,
 "nbformat_minor": 5
}
