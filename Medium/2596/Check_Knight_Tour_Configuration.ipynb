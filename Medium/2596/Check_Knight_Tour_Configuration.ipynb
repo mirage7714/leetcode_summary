{
 "cells": [
  {
   "cell_type": "markdown",
   "id": "2cbc6f47-2ff8-4a5e-95ae-fbe5d46648f2",
   "metadata": {},
   "source": [
    "# 本題要判斷騎士是否可以照著順序走完全部的點 (\\#Array)\n",
    "原題目連結: https://leetcode.com/problems/check-knight-tour-configuration/description/  \n",
    "\n",
    "There is a knight on an n x n chessboard. In a valid configuration, the knight starts at the top-left cell of the board and visits every cell on the board exactly once.  \n",
    "\n",
    "You are given an n x n integer matrix grid consisting of distinct integers from the range [0, n * n - 1] where grid[row][col] indicates that the cell (row, col) is the grid[row][col]th cell that the knight visited. The moves are 0-indexed.  \n",
    "\n",
    "Return true if grid represents a valid configuration of the knight's movements or false otherwise.  \n",
    "\n",
    "Note that a valid knight move consists of moving two squares vertically and one square horizontally, or two squares horizontally and one square vertically. The figure below illustrates all the possible eight moves of a knight from some cell.  \n",
    "\n",
    "範例:  \n",
    "Ex1:  \n",
    "Input: grid = [[0,11,16,5,20],[17,4,19,10,15],[12,1,8,21,6],[3,18,23,14,9],[24,13,2,7,22]]  \n",
    "Output: true  \n",
    "Explanation: The above diagram represents the grid. It can be shown that it is a valid configuration.   \n",
    "\n",
    "Ex2:  \n",
    "Input: grid = [[0,3,6],[5,8,1],[2,7,4]]   \n",
    "Output: false   \n",
    "Explanation: The above diagram represents the grid. The 8th move of the knight is not valid considering its position after the 7th move."
   ]
  },
  {
   "cell_type": "markdown",
   "id": "538dc6e7-660a-4a48-9e40-7c073fef1d94",
   "metadata": {},
   "source": [
    "* 解題想法:  \n",
    "首先檢查最左上的出發點是否為[0,0]，如果不是則直接回傳False，接著檢查可能前往的八個點是否符合要求，如果有則繼續往下一個點前進，直到前進完所有的點位則回傳True，如果中途就無法前進則回傳False"
   ]
  },
  {
   "cell_type": "code",
   "execution_count": null,
   "id": "3ddd9062-59f8-4cdb-ae62-3ad002f1b803",
   "metadata": {},
   "outputs": [],
   "source": [
    "class Solution:\n",
    "    def checkValidGrid(self, grid: List[List[int]]) -> bool:\n",
    "        p = [0,0]\n",
    "        l = len(grid)\n",
    "        temp = []\n",
    "        mov = [[1,2], [1,-2],[2,1], [2,-1], [-1,2], [-1, -2],[-2,1], [-2,-1]]\n",
    "        if grid[p[0]][p[1]] != 0:\n",
    "            return False\n",
    "        for n in range(1, l * l):\n",
    "            is_updated = False\n",
    "            for m in mov:\n",
    "                t = [p[0] + m[0], p[1] + m[1]]\n",
    "                if t not in temp: \n",
    "                    if min(t) >= 0 and max(t) < l and grid[t[0]][t[1]] == n:\n",
    "                        p = t\n",
    "                        is_updated = True\n",
    "                        temp.append(t)\n",
    "                        break\n",
    "            if not is_updated:\n",
    "                return False\n",
    "        return True"
   ]
  }
 ],
 "metadata": {
  "kernelspec": {
   "display_name": "Python 3 (ipykernel)",
   "language": "python",
   "name": "python3"
  },
  "language_info": {
   "codemirror_mode": {
    "name": "ipython",
    "version": 3
   },
   "file_extension": ".py",
   "mimetype": "text/x-python",
   "name": "python",
   "nbconvert_exporter": "python",
   "pygments_lexer": "ipython3",
   "version": "3.9.13"
  }
 },
 "nbformat": 4,
 "nbformat_minor": 5
}
