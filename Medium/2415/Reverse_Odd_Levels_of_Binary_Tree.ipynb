{
 "cells": [
  {
   "cell_type": "markdown",
   "metadata": {},
   "source": [
    "# 本題要將binary tree的奇數層數值進行倒轉 (\\#Binary Tree, \\#BFS)\n",
    "原題目連結: https://leetcode.com/problems/reverse-odd-levels-of-binary-tree/  \n",
    "\n",
    "Given the root of a perfect binary tree, reverse the node values at each odd level of the tree.  \n",
    "For example, suppose the node values at level 3 are [2,1,3,4,7,11,29,18], then it should become [18,29,11,7,4,3,1,2].  \n",
    "Return the root of the reversed tree.  \n",
    "A binary tree is perfect if all parent nodes have two children and all leaves are on the same level.  \n",
    "The level of a node is the number of edges along the path between it and the root node.  \n",
    "\n",
    "範例:  \n",
    "Ex1:  \n",
    "Input: root = [2,3,5,8,13,21,34]  \n",
    "Output: [2,5,3,8,13,21,34]  \n",
    "Explanation:   \n",
    "The tree has only one odd level.  \n",
    "The nodes at level 1 are 3, 5 respectively, which are reversed and become 5, 3.  \n",
    "\n",
    "Ex2:  \n",
    "Input: root = [7,13,11]  \n",
    "Output: [7,11,13]  \n",
    "Explanation:   \n",
    "The nodes at level 1 are 13, 11, which are reversed and become 11, 13.  \n",
    "\n",
    "Ex3:  \n",
    "Input: root = [0,1,2,0,0,0,0,1,1,1,1,2,2,2,2]  \n",
    "Output: [0,2,1,0,0,0,0,2,2,2,2,1,1,1,1]  \n",
    "Explanation:   \n",
    "The odd levels have non-zero values.  \n",
    "The nodes at level 1 were 1, 2, and are 2, 1 after the reversal.  \n",
    "The nodes at level 3 were 1, 1, 1, 1, 2, 2, 2, 2, and are 2, 2, 2, 2, 1, 1, 1, 1 after the reversal."
   ]
  },
  {
   "cell_type": "markdown",
   "metadata": {},
   "source": [
    "* 解題想法:  \n",
    "由於要把奇數層的數字進行翻轉，因此這題需要使用BFS的方式來進行走訪，首先用一個count來計算目前到了哪一層，並用一個list來做為暫存放該層的數值，如果是需要交換述職的層數，則將list中的節點數值進行修改後，再繼續進行走訪"
   ]
  },
  {
   "cell_type": "code",
   "execution_count": null,
   "metadata": {},
   "outputs": [],
   "source": [
    "# Definition for a binary tree node.\n",
    "# class TreeNode:\n",
    "#     def __init__(self, val=0, left=None, right=None):\n",
    "#         self.val = val\n",
    "#         self.left = left\n",
    "#         self.right = right\n",
    "class Solution:\n",
    "    def reverseOddLevels(self, root: Optional[TreeNode]) -> Optional[TreeNode]:\n",
    "        temp = root\n",
    "        if temp:\n",
    "            stack = [temp]\n",
    "            count = 0\n",
    "            while stack:\n",
    "                node = []\n",
    "                val = []\n",
    "                for s in stack:\n",
    "                    if s.left:\n",
    "                        node.append(s.left)\n",
    "                        node.append(s.right)\n",
    "                        if count % 2 == 0:\n",
    "                            val.append(s.left.val)\n",
    "                            val.append(s.right.val)\n",
    "                count += 1\n",
    "                if val:\n",
    "                    for n in range(len(node)):\n",
    "                        node[n].val = val[len(val)-1-n]\n",
    "                    val.clear()\n",
    "                stack.clear()\n",
    "                stack += node\n",
    "        return root"
   ]
  }
 ],
 "metadata": {
  "kernelspec": {
   "display_name": "Python 3",
   "language": "python",
   "name": "python3"
  },
  "language_info": {
   "codemirror_mode": {
    "name": "ipython",
    "version": 3
   },
   "file_extension": ".py",
   "mimetype": "text/x-python",
   "name": "python",
   "nbconvert_exporter": "python",
   "pygments_lexer": "ipython3",
   "version": "3.7.6"
  }
 },
 "nbformat": 4,
 "nbformat_minor": 4
}
