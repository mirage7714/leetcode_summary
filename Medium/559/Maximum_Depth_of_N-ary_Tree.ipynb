{
 "cells": [
  {
   "cell_type": "markdown",
   "metadata": {},
   "source": [
    "# 本題要找出N-ary tree中最大的深度為多少\n",
    "原題目連結: https://leetcode.com/problems/maximum-depth-of-n-ary-tree/  \n",
    "\n",
    "Given a n-ary tree, find its maximum depth.  \n",
    "The maximum depth is the number of nodes along the longest path from the root node down to the farthest leaf node.  \n",
    "\n",
    "Nary-Tree input serialization is represented in their level order traversal, each group of children is separated by the null value (See examples).  \n",
    "\n",
    "範例:  \n",
    "Ex1:  \n",
    "Input: root = [1,null,3,2,4,null,5,6]  \n",
    "Output: 3  \n",
    "\n",
    "Ex2:  \n",
    "Input: root = [1,null,2,3,4,5,null,null,6,7,null,8,null,9,10,null,null,11,null,12,null,13,null,null,14]  \n",
    "Output: 5"
   ]
  },
  {
   "cell_type": "markdown",
   "metadata": {},
   "source": [
    "* 解題想法:  \n",
    "這題也算是路徑類的一種，所以解題觀念跟Binary tree大致上類似，主要就是找出每一條路徑的長度之後，取出路徑最大長度作為答案回傳"
   ]
  },
  {
   "cell_type": "code",
   "execution_count": null,
   "metadata": {},
   "outputs": [],
   "source": [
    "\"\"\"\n",
    "# Definition for a Node.\n",
    "class Node:\n",
    "    def __init__(self, val=None, children=None):\n",
    "        self.val = val\n",
    "        self.children = children\n",
    "\"\"\"\n",
    "\n",
    "class Solution:\n",
    "    def maxDepth(self, root: 'Node') -> int:\n",
    "        def construct(node, res):\n",
    "            res += 1\n",
    "            if len(node.children) == 0:\n",
    "                result.append(res)\n",
    "            else:\n",
    "                for child in node.children:\n",
    "                    construct(child, res)\n",
    "        if root:\n",
    "            result = []\n",
    "            construct(root, 0)\n",
    "            return max(result)\n",
    "        else:\n",
    "            return 0"
   ]
  }
 ],
 "metadata": {
  "kernelspec": {
   "display_name": "Python 3",
   "language": "python",
   "name": "python3"
  },
  "language_info": {
   "codemirror_mode": {
    "name": "ipython",
    "version": 3
   },
   "file_extension": ".py",
   "mimetype": "text/x-python",
   "name": "python",
   "nbconvert_exporter": "python",
   "pygments_lexer": "ipython3",
   "version": "3.7.4"
  }
 },
 "nbformat": 4,
 "nbformat_minor": 4
}
