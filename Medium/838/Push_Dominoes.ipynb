{
 "cells": [
  {
   "cell_type": "markdown",
   "metadata": {},
   "source": [
    "# 本題要判斷最後骨牌的方向為何 (\\#String, \\#Stack)\n",
    "原題目連結: https://leetcode.com/problems/push-dominoes/  \n",
    "\n",
    "There are n dominoes in a line, and we place each domino vertically upright. In the beginning, we simultaneously push some of the dominoes either to the left or to the right.  \n",
    "\n",
    "After each second, each domino that is falling to the left pushes the adjacent domino on the left. Similarly, the dominoes falling to the right push their adjacent dominoes standing on the right.  \n",
    "\n",
    "When a vertical domino has dominoes falling on it from both sides, it stays still due to the balance of the forces.  \n",
    "\n",
    "For the purposes of this question, we will consider that a falling domino expends no additional force to a falling or already fallen domino.  \n",
    "\n",
    "You are given a string dominoes representing the initial state where:  \n",
    "\n",
    "dominoes[i] = 'L', if the ith domino has been pushed to the left,  \n",
    "dominoes[i] = 'R', if the ith domino has been pushed to the right, and  \n",
    "dominoes[i] = '.', if the ith domino has not been pushed.  \n",
    "Return a string representing the final state.  \n",
    "\n",
    "範例:  \n",
    "Ex1:  \n",
    "Input: dominoes = \"RR.L\"  \n",
    "Output: \"RR.L\"  \n",
    "Explanation: The first domino expends no additional force on the second domino.  \n",
    "\n",
    "Ex2:  \n",
    "Input: dominoes = \".L.R...LR..L..\"  \n",
    "Output: \"LL.RR.LLRRLL..\""
   ]
  },
  {
   "cell_type": "markdown",
   "metadata": {},
   "source": [
    "* 解題想法:  \n",
    "首先用一個list來存放目前的排列狀態，另外用一個count來計算目前有多少沒有方向的骨牌，接著開始判斷目前的骨牌方向:  \n",
    "- 如果是沒方向的則將count加一  \n",
    "- 如果是有方向，且前方沒有其他方向的骨牌，則檢查前方是否有沒方向的骨牌，有的話則需要判斷目前骨牌是往左或往右，如果是往左則前方的骨牌也會變成往左，往右的話則這些骨牌的方向不變  \n",
    "- 如果目前的骨牌與最後一個有方向的骨牌不相同，且方向為互相接近，如果中間有無方向骨牌的話則需要更新中間骨牌的方向  \n",
    "- 最後如果還有沒方向的骨牌，則需與最後一個有方向的骨牌確認方向，如果是往右則這些無方向的骨牌全部都往右，否則就是無方向  \n",
    "將這些骨牌放入stack中之後，再串成字串後回傳"
   ]
  },
  {
   "cell_type": "code",
   "execution_count": null,
   "metadata": {},
   "outputs": [],
   "source": [
    "class Solution:\n",
    "    def pushDominoes(self, dominoes: str) -> str:\n",
    "        stack = []\n",
    "        last = ''\n",
    "        count = 0\n",
    "        for d in dominoes:\n",
    "            if d == '.':\n",
    "                count += 1\n",
    "            else:\n",
    "                if d == last:\n",
    "                    stack.append(last)\n",
    "                    if count:\n",
    "                        for _ in range(count):\n",
    "                            stack.append(last)\n",
    "                        count = 0\n",
    "                else:\n",
    "                    if last == 'L' and d == 'R' and count:\n",
    "                        for _ in range(count):\n",
    "                            stack.append('.')\n",
    "                        count = 0\n",
    "                    elif count and last == '' and d == 'L':\n",
    "                        for _ in range(count):\n",
    "                            stack.append('L')\n",
    "                        count = 0\n",
    "                    elif count and last == 'R' and d == 'L':\n",
    "                        i = count // 2\n",
    "                        for _ in range(i):\n",
    "                            stack.append('R')\n",
    "                        if count % 2 == 1:\n",
    "                            stack.append('.')\n",
    "                        for _ in range(i):\n",
    "                            stack.append('L')\n",
    "                        count = 0\n",
    "                    elif count and not last and d == 'R':\n",
    "                        for _ in range(count):\n",
    "                            stack.append('.')\n",
    "                        count = 0\n",
    "                    last = d\n",
    "                    stack.append(last)\n",
    "        if count:\n",
    "            d = '.' if last != 'R' else 'R'\n",
    "            for _ in range(count):\n",
    "                stack.append(d)                \n",
    "        return ''.join(stack)"
   ]
  }
 ],
 "metadata": {
  "kernelspec": {
   "display_name": "Python 3",
   "language": "python",
   "name": "python3"
  },
  "language_info": {
   "codemirror_mode": {
    "name": "ipython",
    "version": 3
   },
   "file_extension": ".py",
   "mimetype": "text/x-python",
   "name": "python",
   "nbconvert_exporter": "python",
   "pygments_lexer": "ipython3",
   "version": "3.7.4"
  }
 },
 "nbformat": 4,
 "nbformat_minor": 4
}
