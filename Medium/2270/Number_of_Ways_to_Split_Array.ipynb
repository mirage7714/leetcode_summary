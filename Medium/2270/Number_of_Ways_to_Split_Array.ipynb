{
 "cells": [
  {
   "cell_type": "markdown",
   "metadata": {},
   "source": [
    "# 本題要找出共有幾種分割list並符合條件的方式\n",
    "原題目連結: https://leetcode.com/problems/number-of-ways-to-split-array/  \n",
    "\n",
    "You are given a 0-indexed integer array nums of length n.  \n",
    "\n",
    "nums contains a valid split at index i if the following are true:  \n",
    "\n",
    "The sum of the first i + 1 elements is greater than or equal to the sum of the last n - i - 1 elements.  \n",
    "There is at least one element to the right of i. That is, 0 <= i < n - 1.  \n",
    "Return the number of valid splits in nums.  \n",
    "\n",
    "範例:  \n",
    "Ex1:  \n",
    "Input: nums = [10,4,-8,7]  \n",
    "Output: 2  \n",
    "Explanation:   \n",
    "There are three ways of splitting nums into two non-empty parts:  \n",
    "- Split nums at index 0. Then, the first part is [10], and its sum is 10. The second part is [4,-8,7], and its sum is 3. Since 10 >= 3, i = 0 is a valid split.  \n",
    "- Split nums at index 1. Then, the first part is [10,4], and its sum is 14. The second part is [-8,7], and its sum is -1. Since 14 >= -1, i = 1 is a valid split.  \n",
    "- Split nums at index 2. Then, the first part is [10,4,-8], and its sum is 6. The second part is [7], and its sum is 7. Since 6 < 7, i = 2 is not a valid split.  \n",
    "Thus, the number of valid splits in nums is 2.  \n",
    "\n",
    "Ex2:  \n",
    "Input: nums = [2,3,1,0]  \n",
    "Output: 2  \n",
    "Explanation:   \n",
    "There are two valid splits in nums:  \n",
    "- Split nums at index 1. Then, the first part is [2,3], and its sum is 5. The second part is [1,0], and its sum is 1. Since 5 >= 1, i = 1 is a valid split.   \n",
    "- Split nums at index 2. Then, the first part is [2,3,1], and its sum is 6. The second part is [0], and its sum is 0. Since 6 >= 0, i = 2 is a valid split."
   ]
  },
  {
   "cell_type": "markdown",
   "metadata": {},
   "source": [
    "* 解題想法:  \n",
    "首先用一個變數來存放list所有數字的總和，接著用另一個變數來計算到目前index時，從左側開始統計的總和，接著用迴圈開始計算目前的index是否符合條件，如果條件符合則將結果+1，最後將結果回傳"
   ]
  },
  {
   "cell_type": "code",
   "execution_count": null,
   "metadata": {},
   "outputs": [],
   "source": [
    "class Solution:\n",
    "    def waysToSplitArray(self, nums: List[int]) -> int:\n",
    "        result = 0\n",
    "        total = 0\n",
    "        temp = nums[0]\n",
    "        for n in range(1, len(nums)):\n",
    "            total += nums[n]\n",
    "        for m in range(1, len(nums)):\n",
    "            if temp >= total:\n",
    "                result += 1\n",
    "            temp += nums[m]\n",
    "            total -= nums[m]\n",
    "        return result"
   ]
  }
 ],
 "metadata": {
  "kernelspec": {
   "display_name": "Python 3",
   "language": "python",
   "name": "python3"
  },
  "language_info": {
   "codemirror_mode": {
    "name": "ipython",
    "version": 3
   },
   "file_extension": ".py",
   "mimetype": "text/x-python",
   "name": "python",
   "nbconvert_exporter": "python",
   "pygments_lexer": "ipython3",
   "version": "3.7.4"
  }
 },
 "nbformat": 4,
 "nbformat_minor": 4
}
