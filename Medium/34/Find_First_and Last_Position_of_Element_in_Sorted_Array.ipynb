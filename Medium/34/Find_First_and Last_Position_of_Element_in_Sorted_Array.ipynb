{
 "cells": [
  {
   "cell_type": "markdown",
   "metadata": {},
   "source": [
    "# 本題要找出指定值在list中出現的上下範圍為何\n",
    "原題目連結: https://leetcode.com/problems/find-first-and-last-position-of-element-in-sorted-array/  \n",
    "\n",
    "Given an array of integers nums sorted in non-decreasing order, find the starting and ending position of a given target value.  \n",
    "If target is not found in the array, return [-1, -1].  \n",
    "You must write an algorithm with O(log n) runtime complexity.  \n",
    "\n",
    "範例:  \n",
    "Ex1:  \n",
    "Input: nums = [5,7,7,8,8,10], target = 8  \n",
    "Output: [3,4]  \n",
    "\n",
    "Ex2:  \n",
    "Input: nums = [5,7,7,8,8,10], target = 6  \n",
    "Output: [-1,-1]  \n",
    "\n",
    "Ex3:  \n",
    "Input: nums = [], target = 0  \n",
    "Output: [-1,-1]"
   ]
  },
  {
   "cell_type": "markdown",
   "metadata": {},
   "source": [
    "* 解題想法:  \n",
    "由於題目指定要用O(log n)的時間複雜度，因此這題需要使用binary search的方式來進行尋找指定的數值，如果指定的數值不存在則回傳[-1, -1]，如果找到指定的數值時，則用while迴圈來尋找上下限為何，最後回傳上下限"
   ]
  },
  {
   "cell_type": "code",
   "execution_count": null,
   "metadata": {},
   "outputs": [],
   "source": [
    "class Solution:\n",
    "    def searchRange(self, nums: List[int], target: int) -> List[int]:\n",
    "        def search(l, r, nums, target):\n",
    "            if l <= r:\n",
    "                m = int((l + r)/2)\n",
    "                if nums[m] == target:\n",
    "                    s, e = m, m \n",
    "                    while s >= 0:\n",
    "                        if nums[s] == target:\n",
    "                            if s > 0:\n",
    "                                s -= 1\n",
    "                            else:\n",
    "                                break\n",
    "                        else:\n",
    "                            s += 1\n",
    "                            break\n",
    "                    while e <= len(nums) -1:\n",
    "                        if nums[e] == target:\n",
    "                            if e < len(nums)-1:\n",
    "                                e += 1\n",
    "                            else:\n",
    "                                break\n",
    "                        else:\n",
    "                            e -= 1\n",
    "                            break\n",
    "                    result[0] = s\n",
    "                    result[1] = e\n",
    "                    \n",
    "                elif nums[m] > target:\n",
    "                    return search(l, m-1, nums, target)\n",
    "                else:\n",
    "                    return search(m+1, r, nums, target)\n",
    "        \n",
    "        result = [-1, -1]\n",
    "        if len(nums) > 0:\n",
    "            if len(nums) == 1:\n",
    "                if nums[0] == target:\n",
    "                    result[0] = 0\n",
    "                    result[1] = 0\n",
    "            else:\n",
    "                search(0, len(nums)-1, nums, target)\n",
    "        return result"
   ]
  }
 ],
 "metadata": {
  "kernelspec": {
   "display_name": "Python 3",
   "language": "python",
   "name": "python3"
  },
  "language_info": {
   "codemirror_mode": {
    "name": "ipython",
    "version": 3
   },
   "file_extension": ".py",
   "mimetype": "text/x-python",
   "name": "python",
   "nbconvert_exporter": "python",
   "pygments_lexer": "ipython3",
   "version": "3.7.4"
  }
 },
 "nbformat": 4,
 "nbformat_minor": 4
}
