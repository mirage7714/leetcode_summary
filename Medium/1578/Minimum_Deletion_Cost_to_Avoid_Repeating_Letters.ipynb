{
 "cells": [
  {
   "cell_type": "markdown",
   "metadata": {},
   "source": [
    "# 本題要找出刪除重複字母的最小成本為何\n",
    "原題目連結: https://leetcode.com/problems/minimum-deletion-cost-to-avoid-repeating-letters/  \n",
    "\n",
    "Given a string s and an array of integers cost where cost[i] is the cost of deleting the ith character in s.  \n",
    "\n",
    "Return the minimum cost of deletions such that there are no two identical letters next to each other.  \n",
    "\n",
    "Notice that you will delete the chosen characters at the same time, in other words, after deleting a character, the costs of deleting other characters will not change.  \n",
    "\n",
    "範例:  \n",
    "Ex1:  \n",
    "Input: s = \"abaac\", cost = [1,2,3,4,5]  \n",
    "Output: 3  \n",
    "Explanation: Delete the letter \"a\" with cost 3 to get \"abac\" (String without two identical letters next to each other).  \n",
    "\n",
    "Ex2:  \n",
    "Input: s = \"abc\", cost = [1,2,3]  \n",
    "Output: 0  \n",
    "Explanation: You don't need to delete any character because there are no identical letters next to each other.  \n",
    "\n",
    "Ex3:  \n",
    "Input: s = \"aabaa\", cost = [1,2,3,4,1]  \n",
    "Output: 2  \n",
    "Explanation: Delete the first and the last character, getting the string (\"aba\")."
   ]
  },
  {
   "cell_type": "markdown",
   "metadata": {},
   "source": [
    "* 解題想法:  \n",
    "依據題目要求，首先需要找到有重複字母的部分，並且找出刪除重複字母的最小成本為何，這邊需要特別注意的是重覆的字母有可能不止兩個，因此找出最小成本的方法是使用總成本減去其中最大的成本才會是正確的答案，最後將總成本加總起來就是題目要找的答案"
   ]
  },
  {
   "cell_type": "code",
   "execution_count": null,
   "metadata": {},
   "outputs": [],
   "source": [
    "class Solution:\n",
    "    def minCost(self, s: str, cost: List[int]) -> int:\n",
    "        def getMinCost(costs):\n",
    "            big_cost = max(costs)\n",
    "            total_cost = 0\n",
    "            for c in costs:\n",
    "                total_cost += c\n",
    "            return total_cost - big_cost\n",
    "        \n",
    "        total = 0\n",
    "        temp = []\n",
    "        for n in range(len(s)-1):\n",
    "            if s[n] == s[n+1]:\n",
    "                temp.append(cost[n])\n",
    "            else:\n",
    "                if len(temp) != 0:\n",
    "                    temp.append(cost[n])\n",
    "                    total += getMinCost(temp)\n",
    "                    temp.clear()\n",
    "        if s[-1] == s[-2]:\n",
    "            temp.append(cost[-1])\n",
    "            total += getMinCost(temp)\n",
    "        return total"
   ]
  }
 ],
 "metadata": {
  "kernelspec": {
   "display_name": "Python 3",
   "language": "python",
   "name": "python3"
  },
  "language_info": {
   "codemirror_mode": {
    "name": "ipython",
    "version": 3
   },
   "file_extension": ".py",
   "mimetype": "text/x-python",
   "name": "python",
   "nbconvert_exporter": "python",
   "pygments_lexer": "ipython3",
   "version": "3.7.4"
  }
 },
 "nbformat": 4,
 "nbformat_minor": 2
}
