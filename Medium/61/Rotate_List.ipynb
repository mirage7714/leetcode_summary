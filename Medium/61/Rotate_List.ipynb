{
 "cells": [
  {
   "cell_type": "markdown",
   "metadata": {},
   "source": [
    "# 本題要將指定的LinkedList進行旋轉\n",
    "原題目連結: https://leetcode.com/problems/rotate-list/  \n",
    "\n",
    "Given the head of a linked list, rotate the list to the right by k places.  \n",
    "\n",
    "範例:  \n",
    "Ex1:  \n",
    "Input: head = [1,2,3,4,5], k = 2  \n",
    "Output: [4,5,1,2,3]  \n",
    "\n",
    "Ex2:  \n",
    "Input: head = [0,1,2], k = 4  \n",
    "Output: [2,0,1]"
   ]
  },
  {
   "cell_type": "markdown",
   "metadata": {},
   "source": [
    "* 解題想法:  \n",
    "首先將LinkedList中的數字取出後放入一個list，接著對list進行旋轉的操作，最後重新組合回LinkedList"
   ]
  },
  {
   "cell_type": "code",
   "execution_count": null,
   "metadata": {},
   "outputs": [],
   "source": [
    "# Definition for singly-linked list.\n",
    "# class ListNode:\n",
    "#     def __init__(self, val=0, next=None):\n",
    "#         self.val = val\n",
    "#         self.next = next\n",
    "class Solution:\n",
    "    def rotateRight(self, head: Optional[ListNode], k: int) -> Optional[ListNode]:\n",
    "        values = []\n",
    "        result = []\n",
    "        if k > 0: \n",
    "            if head != None:\n",
    "                while head:\n",
    "                    values.append(head.val)\n",
    "                    head = head.next\n",
    "                n = k % len(values) \n",
    "                for m in range(n):\n",
    "                    values.insert(0, values[-1])\n",
    "                    values.pop(-1)\n",
    "                for l in range(len(values)-1, -1, -1):\n",
    "                    node = ListNode()\n",
    "                    node.val = values[l]\n",
    "                    if len(result) > 0:\n",
    "                        node.next = result[-1]\n",
    "                    result.append(node)\n",
    "                    \n",
    "                return result[-1]\n",
    "            return None\n",
    "        else:\n",
    "            return head"
   ]
  }
 ],
 "metadata": {
  "kernelspec": {
   "display_name": "Python 3",
   "language": "python",
   "name": "python3"
  },
  "language_info": {
   "codemirror_mode": {
    "name": "ipython",
    "version": 3
   },
   "file_extension": ".py",
   "mimetype": "text/x-python",
   "name": "python",
   "nbconvert_exporter": "python",
   "pygments_lexer": "ipython3",
   "version": "3.7.4"
  }
 },
 "nbformat": 4,
 "nbformat_minor": 4
}
