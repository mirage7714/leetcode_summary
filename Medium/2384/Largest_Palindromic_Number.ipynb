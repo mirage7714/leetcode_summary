{
 "cells": [
  {
   "cell_type": "markdown",
   "metadata": {},
   "source": [
    "# 本題要找出最大的palindromic數字為何\n",
    "原題目連結: https://leetcode.com/problems/largest-palindromic-number/  \n",
    "\n",
    "You are given a string num consisting of digits only.  \n",
    "Return the largest palindromic integer (in the form of a string) that can be formed using digits taken from num. It should not contain leading zeroes.  \n",
    "\n",
    "Notes:  \n",
    "You do not need to use all the digits of num, but you must use at least one digit.  \n",
    "The digits can be reordered.  \n",
    "\n",
    "範例:  \n",
    "Ex1:  \n",
    "Input: num = \"444947137\"  \n",
    "Output: \"7449447\"  \n",
    "Explanation:   \n",
    "Use the digits \"4449477\" from \"444947137\" to form the palindromic integer \"7449447\".  \n",
    "It can be shown that \"7449447\" is the largest palindromic integer that can be formed.  \n",
    "\n",
    "Ex2:  \n",
    "Input: num = \"00009\"  \n",
    "Output: \"9\"  \n",
    "Explanation:   \n",
    "It can be shown that \"9\" is the largest palindromic integer that can be formed.  \n",
    "Note that the integer returned should not contain leading zeroes."
   ]
  },
  {
   "cell_type": "markdown",
   "metadata": {},
   "source": [
    "* 解題想法:  \n",
    "首先將有數字的字串轉成list後再轉成queue的形式，接著一次抓出兩個數字，如果兩個數字相同則將兩個數字放入兩個字串front與end中並將list清空在放入下兩個數字，如果數字不相同的情況，則將弟一個數值移除並放入暫存的list中，然後再取一個新的數值進行下一輪的循環，最後如果暫存的list中有數值，則取最後一個數值放入兩個字串的中間，另外如果front開頭為0的情況，則需要將front與end中的0同時進行移除，才會符合題目的要求"
   ]
  },
  {
   "cell_type": "code",
   "execution_count": null,
   "metadata": {},
   "outputs": [],
   "source": [
    "import heapq\n",
    "\n",
    "class Solution:\n",
    "    def largestPalindromic(self, num: str) -> str:\n",
    "        chars = [i for i in num]\n",
    "        if max(chars) == '0':\n",
    "            return '0'\n",
    "        heapq.heapify(chars)\n",
    "        front = ''\n",
    "        end = ''\n",
    "        temp = []\n",
    "        digit = []\n",
    "        while chars:\n",
    "            while len(digit) < 2 and chars:\n",
    "                n = heapq.heappop(chars)\n",
    "                digit.append(n)\n",
    "            if len(digit) == 2:\n",
    "                if digit[0] != digit[1]:\n",
    "                    temp.append(digit[0])\n",
    "                    digit[0] = digit[1]\n",
    "                    digit.pop()\n",
    "                else:\n",
    "                    front = digit[0] + front\n",
    "                    end += digit[1]\n",
    "                    digit.clear()\n",
    "        temp += digit\n",
    "        while front.startswith('0'):\n",
    "            front = front[1:]\n",
    "            end = end[:-2]\n",
    "        if temp:\n",
    "            return '{}{}{}'.format(front, temp[-1], end)\n",
    "        else:\n",
    "            return '{}{}'.format(front, end)"
   ]
  }
 ],
 "metadata": {
  "kernelspec": {
   "display_name": "Python 3",
   "language": "python",
   "name": "python3"
  },
  "language_info": {
   "codemirror_mode": {
    "name": "ipython",
    "version": 3
   },
   "file_extension": ".py",
   "mimetype": "text/x-python",
   "name": "python",
   "nbconvert_exporter": "python",
   "pygments_lexer": "ipython3",
   "version": "3.7.4"
  }
 },
 "nbformat": 4,
 "nbformat_minor": 4
}
