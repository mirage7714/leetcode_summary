{
 "cells": [
  {
   "cell_type": "markdown",
   "metadata": {},
   "source": [
    "# 本題要找出最少要幾天後才會有更高的溫度出現\n",
    "原題目連結: https://leetcode.com/problems/daily-temperatures/  \n",
    "\n",
    "Given an array of integers temperatures represents the daily temperatures, return an array answer such that answer[i] is the number of days you have to wait after the ith day to get a warmer temperature. If there is no future day for which this is possible, keep answer[i] == 0 instead.  \n",
    "\n",
    "範例:  \n",
    "Ex1:  \n",
    "Input: temperatures = [73,74,75,71,69,72,76,73]  \n",
    "Output: [1,1,4,2,1,1,0,0]  \n",
    "\n",
    "Ex2:  \n",
    "Input: temperatures = [30,40,50,60]  \n",
    "Output: [1,1,1,0]  \n",
    "\n",
    "Ex3:  \n",
    "Input: temperatures = [30,60,90]  \n",
    "Output: [1,1,0]  "
   ]
  },
  {
   "cell_type": "markdown",
   "metadata": {},
   "source": [
    "* 解題想法:  \n",
    "參考了monotonic stack的作法，首先建立一個list用來暫存目前的氣溫與index，接著開始從頭檢查氣溫，如果暫存為空則直接將[index,T[index]]放入暫存中，直到暫存中有數值且最後一個數值的氣溫小於目前氣溫時，則開始將數值從暫存中取出，直到不符合條件為止，此時將結果中的數值更新為目前的index-氣溫的index，最後回傳結果的list"
   ]
  },
  {
   "cell_type": "code",
   "execution_count": null,
   "metadata": {},
   "outputs": [],
   "source": [
    "class Solution:\n",
    "    def dailyTemperatures(self, T: List[int]) -> List[int]:\n",
    "        result = []\n",
    "        temp = []\n",
    "        for m, n in enumerate(T):\n",
    "            result.append(0)\n",
    "            while temp and temp[-1][1] < n:\n",
    "                i, j = temp.pop()\n",
    "                result[i] = m-i\n",
    "            temp.append([m, n])\n",
    "        return result"
   ]
  }
 ],
 "metadata": {
  "kernelspec": {
   "display_name": "Python 3",
   "language": "python",
   "name": "python3"
  },
  "language_info": {
   "codemirror_mode": {
    "name": "ipython",
    "version": 3
   },
   "file_extension": ".py",
   "mimetype": "text/x-python",
   "name": "python",
   "nbconvert_exporter": "python",
   "pygments_lexer": "ipython3",
   "version": "3.7.4"
  }
 },
 "nbformat": 4,
 "nbformat_minor": 4
}
