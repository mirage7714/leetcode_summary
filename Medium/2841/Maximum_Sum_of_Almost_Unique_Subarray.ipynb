{
 "cells": [
  {
   "cell_type": "markdown",
   "id": "b3da915e-afb6-4c11-87a4-d7cdd9fc42b8",
   "metadata": {},
   "source": [
    "# 本題要找出包含有m個不同數值且長度為k的list總和最大為多少 (\\#Array, \\#SlidingWindow )\n",
    "原題目連結：https://leetcode.com/problems/maximum-sum-of-almost-unique-subarray/description/  \n",
    "\n",
    "You are given an integer array nums and two positive integers m and k.  \n",
    "Return the maximum sum out of all almost unique subarrays of length k of nums. If no such subarray exists, return 0.  \n",
    "\n",
    "A subarray of nums is almost unique if it contains at least m distinct elements.  \n",
    "A subarray is a contiguous non-empty sequence of elements within an array.  \n",
    "\n",
    "範例：  \n",
    "Ex1:  \n",
    "Input: nums = [2,6,7,3,1,7], m = 3, k = 4  \n",
    "Output: 18  \n",
    "Explanation: There are 3 almost unique subarrays of size k = 4. These subarrays are [2, 6, 7, 3], [6, 7, 3, 1], and [7, 3, 1, 7]. Among these subarrays, the one with the maximum sum is [2, 6, 7, 3] which has a sum of 18.  \n",
    "\n",
    "Ex2:  \n",
    "Input: nums = [5,9,9,2,4,5,4], m = 1, k = 3  \n",
    "Output: 23  \n",
    "Explanation: There are 5 almost unique subarrays of size k. These subarrays are [5, 9, 9], [9, 9, 2], [9, 2, 4], [2, 4, 5], and [4, 5, 4]. Among these subarrays, the one with the maximum sum is [5, 9, 9] which has a sum of 23.  \n",
    "\n",
    "Ex3:  \n",
    "Input: nums = [1,2,1,2,1,2,1], m = 3, k = 3  \n",
    "Output: 0  \n",
    "Explanation: There are no subarrays of size k = 3 that contain at least m = 3 distinct elements in the given array [1,2,1,2,1,2,1]. Therefore, no almost unique subarrays exist, and the maximum sum is 0.  "
   ]
  },
  {
   "cell_type": "markdown",
   "id": "6de0d44e-20a3-4ec6-8c63-f5d1a8071d15",
   "metadata": {},
   "source": [
    "* 解題想法：  \n",
    "首先找出前k個值的list，將數字放入dict中，算出總和並確認是否符合條件，如果符合條件則將結果更新，接著開始從第k個直進行迴圈並更新dict中的數值以及總和，如果符合條件則比較結果與總和並更新結果，最後回傳結果"
   ]
  },
  {
   "cell_type": "code",
   "execution_count": null,
   "id": "13ac3887-3eef-4e92-ac01-2c84e403e6a6",
   "metadata": {},
   "outputs": [],
   "source": [
    "class Solution:\n",
    "    def maxSum(self, nums: List[int], m: int, k: int) -> int:\n",
    "        res = 0\n",
    "        count = {}\n",
    "        t = 0\n",
    "        if len(nums) == 1 and m == 1:\n",
    "            return nums[0]\n",
    "        p = nums[:k]\n",
    "        for l in p:\n",
    "            t += l\n",
    "            if l not in count.keys():\n",
    "                count[l] = 1\n",
    "            else:\n",
    "                count[l] += 1\n",
    "        if len(count) >= m:\n",
    "            res = t\n",
    "        for i in range(k, len(nums)):\n",
    "            if nums[i] not in count.keys():\n",
    "                count[nums[i]] = 1\n",
    "            else:\n",
    "                count[nums[i]] += 1\n",
    "            if count[nums[i-k]] == 1:\n",
    "                count.pop(nums[i-k])\n",
    "            else:\n",
    "                count[nums[i-k]] -= 1\n",
    "            t += nums[i] - nums[i-k]\n",
    "            if len(count) >= m:\n",
    "                res = max(res, t)\n",
    "        return res"
   ]
  }
 ],
 "metadata": {
  "kernelspec": {
   "display_name": "Python 3 (ipykernel)",
   "language": "python",
   "name": "python3"
  },
  "language_info": {
   "codemirror_mode": {
    "name": "ipython",
    "version": 3
   },
   "file_extension": ".py",
   "mimetype": "text/x-python",
   "name": "python",
   "nbconvert_exporter": "python",
   "pygments_lexer": "ipython3",
   "version": "3.10.9"
  }
 },
 "nbformat": 4,
 "nbformat_minor": 5
}
