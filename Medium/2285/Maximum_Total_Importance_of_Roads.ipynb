{
 "cells": [
  {
   "cell_type": "markdown",
   "metadata": {},
   "source": [
    "# 本題要計算出所有路線的最大權重為多少\n",
    "原題目連結: https://leetcode.com/problems/maximum-total-importance-of-roads/  \n",
    "\n",
    "You are given an integer n denoting the number of cities in a country. The cities are numbered from 0 to n - 1.  \n",
    "You are also given a 2D integer array roads where roads[i] = [ai, bi] denotes that there exists a bidirectional road connecting cities ai and bi.  \n",
    "You need to assign each city with an integer value from 1 to n, where each value can only be used once. The importance of a road is then defined as the sum of the values of the two cities it connects.  \n",
    "Return the maximum total importance of all roads possible after assigning the values optimally.  \n",
    "\n",
    "範例:  \n",
    "Ex1:  \n",
    "Input: n = 5, roads = [[0,1],[1,2],[2,3],[0,2],[1,3],[2,4]]  \n",
    "Output: 43  \n",
    "Explanation: The figure above shows the country and the assigned values of [2,4,5,3,1].  \n",
    "- The road (0,1) has an importance of 2 + 4 = 6.  \n",
    "- The road (1,2) has an importance of 4 + 5 = 9.  \n",
    "- The road (2,3) has an importance of 5 + 3 = 8.  \n",
    "- The road (0,2) has an importance of 2 + 5 = 7.  \n",
    "- The road (1,3) has an importance of 4 + 3 = 7.  \n",
    "- The road (2,4) has an importance of 5 + 1 = 6.  \n",
    "The total importance of all roads is 6 + 9 + 8 + 7 + 7 + 6 = 43.  \n",
    "It can be shown that we cannot obtain a greater total importance than 43.  \n",
    "\n",
    "Ex2:  \n",
    "Input: n = 5, roads = [[0,3],[2,4],[1,3]]  \n",
    "Output: 20  \n",
    "Explanation: The figure above shows the country and the assigned values of [4,3,2,5,1].  \n",
    "- The road (0,3) has an importance of 4 + 5 = 9.  \n",
    "- The road (2,4) has an importance of 2 + 1 = 3.  \n",
    "- The road (1,3) has an importance of 3 + 5 = 8.  \n",
    "The total importance of all roads is 9 + 3 + 8 = 20.  \n",
    "It can be shown that we cannot obtain a greater total importance than 20."
   ]
  },
  {
   "cell_type": "markdown",
   "metadata": {},
   "source": [
    "* 解題想法:  \n",
    "首先找出每個城市出現的所有次數，並用這些次數依序給予權重之後相乘並相加就可以得到最大權重為多少"
   ]
  },
  {
   "cell_type": "code",
   "execution_count": null,
   "metadata": {},
   "outputs": [],
   "source": [
    "class Solution:\n",
    "    def maximumImportance(self, n: int, roads: List[List[int]]) -> int:\n",
    "        counts = {}\n",
    "        result = 0\n",
    "        for road in roads:\n",
    "            s = road[0]\n",
    "            e = road[1]\n",
    "            if s not in counts.keys():\n",
    "                counts[s] = 1\n",
    "            else:\n",
    "                counts[s] += 1\n",
    "            if e not in counts.keys():\n",
    "                counts[e] = 1\n",
    "            else:\n",
    "                counts[e] += 1\n",
    "        vals = list(counts.values())\n",
    "        vals.sort(reverse = True)\n",
    "        for v in range(len(vals)):\n",
    "            result += vals[v] * (n-v)\n",
    "        return result"
   ]
  }
 ],
 "metadata": {
  "kernelspec": {
   "display_name": "Python 3",
   "language": "python",
   "name": "python3"
  },
  "language_info": {
   "codemirror_mode": {
    "name": "ipython",
    "version": 3
   },
   "file_extension": ".py",
   "mimetype": "text/x-python",
   "name": "python",
   "nbconvert_exporter": "python",
   "pygments_lexer": "ipython3",
   "version": "3.7.4"
  }
 },
 "nbformat": 4,
 "nbformat_minor": 4
}
