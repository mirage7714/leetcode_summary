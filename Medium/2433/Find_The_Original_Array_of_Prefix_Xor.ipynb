{
 "cells": [
  {
   "cell_type": "markdown",
   "metadata": {},
   "source": [
    "# 本題要用XOR後的list找出原本的list為何 (\\#Array, \\#Bit Manipulation)\n",
    "原題目連結: https://leetcode.com/problems/find-the-original-array-of-prefix-xor/  \n",
    "\n",
    "You are given an integer array pref of size n. Find and return the array arr of size n that satisfies:  \n",
    "\n",
    "pref[i] = arr[0] ^ arr[1] ^ ... ^ arr[i].  \n",
    "Note that ^ denotes the bitwise-xor operation.  \n",
    "\n",
    "It can be proven that the answer is unique.  \n",
    "\n",
    "範例:  \n",
    "Ex1:  \n",
    "Input: pref = [5,2,0,3,1]  \n",
    "Output: [5,7,2,3,2]  \n",
    "Explanation: From the array [5,7,2,3,2] we have the following:  \n",
    "- pref[0] = 5.  \n",
    "- pref[1] = 5 ^ 7 = 2.  \n",
    "- pref[2] = 5 ^ 7 ^ 2 = 0.  \n",
    "- pref[3] = 5 ^ 7 ^ 2 ^ 3 = 3.  \n",
    "- pref[4] = 5 ^ 7 ^ 2 ^ 3 ^ 2 = 1.  \n",
    "\n",
    "Ex2:  \n",
    "Input: pref = [13]  \n",
    "Output: [13]  \n",
    "Explanation: We have pref[0] = arr[0] = 13."
   ]
  },
  {
   "cell_type": "markdown",
   "metadata": {},
   "source": [
    "* 解題想法:  \n",
    "首先找出第一個元素，就是list的第一個元素，另外用一個元素來做為目前XOR的值為多少，接著逐個找出XOR後放入list，並更新目前暫存為多少，最後回傳list"
   ]
  },
  {
   "cell_type": "code",
   "execution_count": null,
   "metadata": {},
   "outputs": [],
   "source": [
    "class Solution:\n",
    "    def findArray(self, pref: List[int]) -> List[int]:\n",
    "        ori = [pref[0]]\n",
    "        p = pref[0]\n",
    "        for m in range(1, len(pref)):\n",
    "            ori.append(pref[m] ^ p)\n",
    "            p = p ^ ori[-1]\n",
    "        return ori"
   ]
  }
 ],
 "metadata": {
  "kernelspec": {
   "display_name": "Python 3",
   "language": "python",
   "name": "python3"
  },
  "language_info": {
   "codemirror_mode": {
    "name": "ipython",
    "version": 3
   },
   "file_extension": ".py",
   "mimetype": "text/x-python",
   "name": "python",
   "nbconvert_exporter": "python",
   "pygments_lexer": "ipython3",
   "version": "3.7.4"
  }
 },
 "nbformat": 4,
 "nbformat_minor": 4
}
