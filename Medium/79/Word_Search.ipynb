{
 "cells": [
  {
   "cell_type": "markdown",
   "metadata": {},
   "source": [
    "# 本題要判斷指定的字串是否有出現在list中\n",
    "原題目連結: https://leetcode.com/problems/word-search/  \n",
    "\n",
    "Given an m x n grid of characters board and a string word, return true if word exists in the grid.  \n",
    "The word can be constructed from letters of sequentially adjacent cells, where adjacent cells are horizontally or vertically neighboring. The same letter cell may not be used more than once.  \n",
    "\n",
    "範例:  \n",
    "Ex1:  \n",
    "Input: board = [[\"A\",\"B\",\"C\",\"E\"],[\"S\",\"F\",\"C\",\"S\"],[\"A\",\"D\",\"E\",\"E\"]], word = \"ABCCED\"  \n",
    "Output: true  \n",
    "\n",
    "Ex2:  \n",
    "Input: board = [[\"A\",\"B\",\"C\",\"E\"],[\"S\",\"F\",\"C\",\"S\"],[\"A\",\"D\",\"E\",\"E\"]], word = \"SEE\"  \n",
    "Output: true  \n",
    "\n",
    "Ex3:  \n",
    "Input: board = [[\"A\",\"B\",\"C\",\"E\"],[\"S\",\"F\",\"C\",\"S\"],[\"A\",\"D\",\"E\",\"E\"]], word = \"ABCB\"  \n",
    "Output: false"
   ]
  },
  {
   "cell_type": "markdown",
   "metadata": {},
   "source": [
    "* 解題想法:  \n",
    "這題是backtracking的例子，建立一個函數來進行檢查:  \n",
    "- 如果當x，y到達邊界，或是到達已經經過的路徑時，則回傳False  \n",
    "- 如果當目前的字串長度超過目標的長度時，則回傳False  \n",
    "- 如果當目前字串指定index的字與目標index不相同時，則回傳False  \n",
    "- 如果當目前字串與目標相同時，則回傳True  \n",
    "接著將目前訪問的位置換成空字串，這樣在之後可以檢查是否已經走訪過，接著用遞迴檢查四個方向是否有符合條件，如果有則回傳True"
   ]
  },
  {
   "cell_type": "code",
   "execution_count": null,
   "metadata": {},
   "outputs": [],
   "source": [
    "class Solution:\n",
    "    def exist(self, board: List[List[str]], word: str) -> bool:\n",
    "        def solution(board, word, cur, x, y):\n",
    "            if x < 0 or y < 0 or x >= len(board) or y >= len(board[0]) or board[x][y] == '':\n",
    "                return False\n",
    "            cur += board[x][y]   \n",
    "\n",
    "            if len(cur) > len(word):\n",
    "                return False\n",
    "            if cur[len(cur)-1] != word[len(cur)-1]:\n",
    "                return False\n",
    "            if cur == word:\n",
    "                return True\n",
    "            temp = board[x][y]\n",
    "            board[x][y] = ''\n",
    "            for i in range(4):\n",
    "                if solution(board, word, cur, x + dx[i], y + dy[i]):\n",
    "                    return True\n",
    "            board[x][y] = temp\n",
    "            return False\n",
    "        \n",
    "        dx = [0,0,1,-1]\n",
    "        dy = [1,-1, 0,0]\n",
    "        for i in range(len(board)):\n",
    "            for j in range(len(board[0])):\n",
    "                if board[i][j] == word[0] and solution(board, word, '', i, j):\n",
    "                    return True\n",
    "        return False"
   ]
  }
 ],
 "metadata": {
  "kernelspec": {
   "display_name": "Python 3",
   "language": "python",
   "name": "python3"
  },
  "language_info": {
   "codemirror_mode": {
    "name": "ipython",
    "version": 3
   },
   "file_extension": ".py",
   "mimetype": "text/x-python",
   "name": "python",
   "nbconvert_exporter": "python",
   "pygments_lexer": "ipython3",
   "version": "3.7.4"
  }
 },
 "nbformat": 4,
 "nbformat_minor": 4
}
