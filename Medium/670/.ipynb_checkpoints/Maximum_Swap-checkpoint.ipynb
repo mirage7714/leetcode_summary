{
 "cells": [
  {
   "cell_type": "markdown",
   "metadata": {},
   "source": [
    "# 本題要找出在最多交換一次數字的情況下，可以得到的最大值為何\n",
    "原題目連結: https://leetcode.com/problems/maximum-swap/  \n",
    "\n",
    "Given a non-negative integer, you could swap two digits at most once to get the maximum valued number. Return the maximum valued number you could get.  \n",
    "\n",
    "範例:  \n",
    "Ex1:  \n",
    "Input: 2736  \n",
    "Output: 7236  \n",
    "Explanation: Swap the number 2 and the number 7.  \n",
    "\n",
    "Ex2:  \n",
    "Input: 9973  \n",
    "Output: 9973  \n",
    "Explanation: No swap."
   ]
  },
  {
   "cell_type": "markdown",
   "metadata": {},
   "source": [
    "* 解題想法:  \n",
    "依題目說明，最多只能交換一個數字的情況下，首先須要先找出最前面的位數是否為這些數字中最大的值，因此先建立一個list來放這些數字，接著檢查list最前面的值是否為最大值，如果是的話，則繼續檢查下一個數字，直到弟一個數字不是剩下的最大值時，從後面找出最大的值來交換，最後重新組合回數字就是題目要找的答案"
   ]
  },
  {
   "cell_type": "code",
   "execution_count": null,
   "metadata": {},
   "outputs": [],
   "source": [
    "class Solution:\n",
    "    def maximumSwap(self, num: int) -> int:\n",
    "        def checkMax(nums):\n",
    "            for n in range(len(nums) - 1, -1, -1):\n",
    "                if nums[n] == max(nums):\n",
    "                    t = nums[0]\n",
    "                    nums[0] = max(nums)\n",
    "                    nums[n] = t\n",
    "                    break\n",
    "            return nums\n",
    "        \n",
    "        freq = []\n",
    "        result = ''\n",
    "        s_num = str(num)\n",
    "        for n in range(len(s_num)):\n",
    "            freq.append(s_num[n])\n",
    "        if max(freq) != freq[0]:\n",
    "            switch = checkMax(freq)\n",
    "            for s in switch:\n",
    "                result += s\n",
    "        else:\n",
    "            while len(freq) > 0:\n",
    "                if freq[0] == max(freq):\n",
    "                    result += freq[0]\n",
    "                    freq.pop(0)\n",
    "                else:\n",
    "                    switch = checkMax(freq)\n",
    "                    for s in switch:\n",
    "                        result += s\n",
    "                    break\n",
    "        return int(result)"
   ]
  }
 ],
 "metadata": {
  "kernelspec": {
   "display_name": "Python 3",
   "language": "python",
   "name": "python3"
  },
  "language_info": {
   "codemirror_mode": {
    "name": "ipython",
    "version": 3
   },
   "file_extension": ".py",
   "mimetype": "text/x-python",
   "name": "python",
   "nbconvert_exporter": "python",
   "pygments_lexer": "ipython3",
   "version": "3.7.4"
  }
 },
 "nbformat": 4,
 "nbformat_minor": 2
}
