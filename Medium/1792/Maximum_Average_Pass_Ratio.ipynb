{
 "cells": [
  {
   "cell_type": "markdown",
   "metadata": {},
   "source": [
    "# 本題要找出再加入了指定的學生個數後，最大的通過率為多少\n",
    "原題目連結: https://leetcode.com/problems/maximum-average-pass-ratio/  \n",
    "\n",
    "There is a school that has classes of students and each class will be having a final exam. You are given a 2D integer array classes, where classes[i] = [passi, totali]. You know beforehand that in the ith class, there are totali total students, but only passi number of students will pass the exam.  \n",
    "\n",
    "You are also given an integer extraStudents. There are another extraStudents brilliant students that are guaranteed to pass the exam of any class they are assigned to. You want to assign each of the extraStudents students to a class in a way that maximizes the average pass ratio across all the classes.  \n",
    "\n",
    "The pass ratio of a class is equal to the number of students of the class that will pass the exam divided by the total number of students of the class. The average pass ratio is the sum of pass ratios of all the classes divided by the number of the classes.  \n",
    "\n",
    "Return the maximum possible average pass ratio after assigning the extraStudents students. Answers within 10-5 of the actual answer will be accepted.  \n",
    "\n",
    "範例:  \n",
    "Ex1:  \n",
    "Input: classes = [[1,2],[3,5],[2,2]], extraStudents = 2  \n",
    "Output: 0.78333  \n",
    "Explanation: You can assign the two extra students to the first class. The average pass ratio will be equal to (3/4 + 3/5 + 2/2) / 3 = 0.78333.  \n",
    "\n",
    "Ex2:  \n",
    "Input: classes = [[2,4],[3,9],[4,5],[2,10]], extraStudents = 4  \n",
    "Output: 0.53485"
   ]
  },
  {
   "cell_type": "markdown",
   "metadata": {},
   "source": [
    "* 解題想法:  \n",
    "要使最後的平均通過率達到最高，就必須從最大化每個學生加入開始，首先算出每個班新增一個通過學生可以增加多少的通過率，並放入heap中，接著從heap中取出增加比例最高的班級，更新下一階段的增加比例以及人數後放回heap中，最後將新的班級平均算出後找出所有的平均值"
   ]
  },
  {
   "cell_type": "code",
   "execution_count": null,
   "metadata": {},
   "outputs": [],
   "source": [
    "import heapq\n",
    "class Solution:\n",
    "    def maxAverageRatio(self, classes: List[List[int]], extraStudents: int) -> float:\n",
    "        count = []\n",
    "        heapq.heapify(count)\n",
    "        for c in classes:\n",
    "            cur = c[0]/c[1]\n",
    "            imp = (c[0]+1)/(c[1]+1)\n",
    "            k = cur - imp\n",
    "            heapq.heappush(count, [k, c[0], c[1]])\n",
    "        for _ in range(extraStudents):\n",
    "            p = heapq.heappop(count)\n",
    "            cur = (p[1]+1)/(p[2]+1)\n",
    "            imp = (p[1]+2) / (p[2]+2)\n",
    "            v = [p[1]+1, p[2]+1]\n",
    "            heapq.heappush(count, [cur-imp, v[0], v[1]])\n",
    "        return sum(p/t for _, p, t in count)/len(count)"
   ]
  }
 ],
 "metadata": {
  "kernelspec": {
   "display_name": "Python 3",
   "language": "python",
   "name": "python3"
  },
  "language_info": {
   "codemirror_mode": {
    "name": "ipython",
    "version": 3
   },
   "file_extension": ".py",
   "mimetype": "text/x-python",
   "name": "python",
   "nbconvert_exporter": "python",
   "pygments_lexer": "ipython3",
   "version": "3.7.4"
  }
 },
 "nbformat": 4,
 "nbformat_minor": 4
}
