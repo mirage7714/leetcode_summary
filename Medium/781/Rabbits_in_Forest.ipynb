{
 "cells": [
  {
   "cell_type": "markdown",
   "metadata": {},
   "source": [
    "# 本題要計算森林中總共有多少兔子\n",
    "原題目連結: https://leetcode.com/problems/rabbits-in-forest/  \n",
    "\n",
    "There is a forest with an unknown number of rabbits. We asked n rabbits \"How many rabbits have the same color as you?\" and collected the answers in an integer array answers where answers[i] is the answer of the ith rabbit.  \n",
    "\n",
    "Given the array answers, return the minimum number of rabbits that could be in the forest.  \n",
    "\n",
    "範例:  \n",
    "Ex1:  \n",
    "Input: answers = [1,1,2]  \n",
    "Output: 5  \n",
    "Explanation:  \n",
    "The two rabbits that answered \"1\" could both be the same color, say red.  \n",
    "The rabbit that answered \"2\" can't be red or the answers would be inconsistent.  \n",
    "Say the rabbit that answered \"2\" was blue.  \n",
    "Then there should be 2 other blue rabbits in the forest that didn't answer into the array.  \n",
    "The smallest possible number of rabbits in the forest is therefore 5: 3 that answered plus 2 that didn't.  \n",
    "\n",
    "Ex2:  \n",
    "Input: answers = [10,10,10]  \n",
    "Output: 11"
   ]
  },
  {
   "cell_type": "markdown",
   "metadata": {},
   "source": [
    "* 解題想法:  \n",
    "首先將list中所有的數值放入dict中，並用數值做為key，接著開始檢查dict中的key與val，如果key為0時，則代表森林中沒有其他相同的兔子，因此數值可直接加上有幾種為0的兔子，至於其他種類的兔子，需要檢查出現的量是否有超過key值，例如為1的兔子，如果有三種的時候則表示總共有2(前面2組)+2(後面1組)隻，因此需要把val 除上key+1後取整數再乘上key+1，就是這個種類總共有多少兔子，最後將數值加起來就是總共的兔子數"
   ]
  },
  {
   "cell_type": "code",
   "execution_count": null,
   "metadata": {},
   "outputs": [],
   "source": [
    "class Solution:\n",
    "    def numRabbits(self, answers: List[int]) -> int:\n",
    "        cat = {}\n",
    "        total = 0\n",
    "        for a in answers:\n",
    "            if a not in cat.keys():\n",
    "                cat[a] = 1\n",
    "            else:\n",
    "                cat[a] += 1\n",
    "        for key, val in cat.items():\n",
    "            if key != 0:\n",
    "                total += ceil(val / (key+1)) * (key + 1)\n",
    "            else:\n",
    "                total += val\n",
    "        return total"
   ]
  }
 ],
 "metadata": {
  "kernelspec": {
   "display_name": "Python 3",
   "language": "python",
   "name": "python3"
  },
  "language_info": {
   "codemirror_mode": {
    "name": "ipython",
    "version": 3
   },
   "file_extension": ".py",
   "mimetype": "text/x-python",
   "name": "python",
   "nbconvert_exporter": "python",
   "pygments_lexer": "ipython3",
   "version": "3.7.4"
  }
 },
 "nbformat": 4,
 "nbformat_minor": 4
}
