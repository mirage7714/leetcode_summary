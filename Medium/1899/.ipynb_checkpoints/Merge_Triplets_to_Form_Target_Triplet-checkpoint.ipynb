{
 "cells": [
  {
   "cell_type": "markdown",
   "metadata": {},
   "source": [
    "# 本題要判斷指定的list是否能藉由提供的list中組合出來\n",
    "原題目連結: https://leetcode.com/problems/merge-triplets-to-form-target-triplet/  \n",
    "\n",
    "A triplet is an array of three integers. You are given a 2D integer array triplets, where triplets[i] = [ai, bi, ci] describes the ith triplet. You are also given an integer array target = [x, y, z] that describes the triplet you want to obtain.  \n",
    "\n",
    "To obtain target, you may apply the following operation on triplets any number of times (possibly zero):  \n",
    "\n",
    "Choose two indices (0-indexed) i and j (i != j) and update triplets[j] to become [max(ai, aj), max(bi, bj), max(ci, cj)].  \n",
    "For example, if triplets[i] = [2, 5, 3] and triplets[j] = [1, 7, 5], triplets[j] will be updated to [max(2, 1), max(5, 7), max(3, 5)] = [2, 7, 5].  \n",
    "Return true if it is possible to obtain the target triplet [x, y, z] as an element of triplets, or false otherwise.  \n",
    "\n",
    "範例:  \n",
    "Ex1:  \n",
    "Input: triplets = [[2,5,3],[1,8,4],[1,7,5]], target = [2,7,5]  \n",
    "Output: true  \n",
    "Explanation: Perform the following operations:  \n",
    "- Choose the first and last triplets [[2,5,3],[1,8,4],[1,7,5]]. Update the last triplet to be [max(2,1), max(5,7), max(3,5)] = [2,7,5]. triplets = [[2,5,3],[1,8,4],[2,7,5]]  \n",
    "The target triplet [2,7,5] is now an element of triplets.  \n",
    "\n",
    "Ex2:  \n",
    "Input: triplets = [[1,3,4],[2,5,8]], target = [2,5,8]  \n",
    "Output: true  \n",
    "Explanation: The target triplet [2,5,8] is already an element of triplets.  \n",
    "\n",
    "Ex3:  \n",
    "Input: triplets = [[2,5,3],[2,3,4],[1,2,5],[5,2,3]], target = [5,5,5]  \n",
    "Output: true  \n",
    "Explanation: Perform the following operations:  \n",
    "- Choose the first and third triplets [[2,5,3],[2,3,4],[1,2,5],[5,2,3]]. Update the third triplet to be [max(2,1), max(5,2), max(3,5)] = [2,5,5]. triplets = [[2,5,3],[2,3,4],[2,5,5],[5,2,3]].  \n",
    "- Choose the third and fourth triplets [[2,5,3],[2,3,4],[2,5,5],[5,2,3]]. Update the fourth triplet to be [max(2,5), max(5,2), max(5,3)] = [5,5,5]. triplets = [[2,5,3],[2,3,4],[2,5,5],[5,5,5]].  \n",
    "The target triplet [5,5,5] is now an element of triplets.  \n",
    "\n",
    "Ex4:  \n",
    "Input: triplets = [[3,4,5],[4,5,6]], target = [3,2,5]  \n",
    "Output: false  \n",
    "Explanation: It is impossible to have [3,2,5] as an element because there is no 2 in any of the triplets."
   ]
  },
  {
   "cell_type": "markdown",
   "metadata": {},
   "source": [
    "* 解題想法:  \n",
    "首先建立一個迴圈，來分析題目提供的list中符合指定條件的list有多少，藉由判斷list中需要都小於或等於指定結果list，以及滿足這條件下是否有符合指定條件中的任一個數字，並用一個dict來存放美個數字被滿足的次數，最後判斷如果都大於或等於1的情況則代表有被滿足，否則就回傳False"
   ]
  },
  {
   "cell_type": "code",
   "execution_count": null,
   "metadata": {},
   "outputs": [],
   "source": [
    "class Solution:\n",
    "    def mergeTriplets(self, triplets: List[List[int]], target: List[int]) -> bool:\n",
    "        is_valid = False\n",
    "        if target in triplets:\n",
    "            is_valid = True\n",
    "        else:\n",
    "            count = {0:0,1:0,2:0}\n",
    "            for t in triplets:\n",
    "                if t[0] <= target[0] and t[1] <= target[1] and t[2] <= target[2]:\n",
    "                    if t[0] == target[0]:\n",
    "                        count[0] += 1\n",
    "                    if t[1] == target[1]:\n",
    "                        count[1] += 1\n",
    "                    if t[2] == target[2]:\n",
    "                        count[2] += 1\n",
    "                val = list(count.values())\n",
    "                if 0 not in val:\n",
    "                    is_valid = True\n",
    "                    break\n",
    "        return is_valid"
   ]
  }
 ],
 "metadata": {
  "kernelspec": {
   "display_name": "Python 3",
   "language": "python",
   "name": "python3"
  },
  "language_info": {
   "codemirror_mode": {
    "name": "ipython",
    "version": 3
   },
   "file_extension": ".py",
   "mimetype": "text/x-python",
   "name": "python",
   "nbconvert_exporter": "python",
   "pygments_lexer": "ipython3",
   "version": "3.7.6"
  }
 },
 "nbformat": 4,
 "nbformat_minor": 4
}
