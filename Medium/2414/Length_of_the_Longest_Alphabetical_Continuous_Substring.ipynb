{
 "cells": [
  {
   "cell_type": "markdown",
   "metadata": {},
   "source": [
    "# 本題要找出最長的連續字母長度為多少 (\\#String, \\#Stack)\n",
    "原題目連結: https://leetcode.com/problems/length-of-the-longest-alphabetical-continuous-substring/  \n",
    "\n",
    "An alphabetical continuous string is a string consisting of consecutive letters in the alphabet. In other words, it is any substring of the string \"abcdefghijklmnopqrstuvwxyz\".  \n",
    "\n",
    "For example, \"abc\" is an alphabetical continuous string, while \"acb\" and \"za\" are not.  \n",
    "Given a string s consisting of lowercase letters only, return the length of the longest alphabetical continuous substring.  \n",
    "\n",
    "範例:  \n",
    "Ex1:  \n",
    "Input: s = \"abacaba\"  \n",
    "Output: 2  \n",
    "Explanation: There are 4 distinct continuous substrings: \"a\", \"b\", \"c\" and \"ab\".  \n",
    "\"ab\" is the longest continuous substring.  \n",
    "\n",
    "Ex2:    \n",
    "Input: s = \"abcde\"  \n",
    "Output: 5  \n",
    "Explanation: \"abcde\" is the longest continuous substring."
   ]
  },
  {
   "cell_type": "markdown",
   "metadata": {},
   "source": [
    "* 解題想法:  \n",
    "首先建立一個list用來做暫存，接著從頭開始檢查字串，如果是連續字母則繼續放入暫存中，如果不是連續則先檢查暫存中的長度是否有比最大值大，如果有則更新最大值，並將暫存清空後放入新的字母，最後回傳最大值"
   ]
  },
  {
   "cell_type": "code",
   "execution_count": null,
   "metadata": {},
   "outputs": [],
   "source": [
    "class Solution:\n",
    "    def longestContinuousSubstring(self, s: str) -> int:\n",
    "        chars = ['a','b','c','d','e','f','g','h','i','j','k','l','m','n','o','p','q','r','s','t','u','v','w','x','y','z']\n",
    "        result = 0\n",
    "        temp = [chars.index(s[0])]\n",
    "        for n in range(1, len(s)):\n",
    "            i = chars.index(s[n])\n",
    "            if i != temp[-1] + 1:\n",
    "                result = max(result, len(temp))\n",
    "                temp.clear()\n",
    "            temp.append(i)\n",
    "        if temp:\n",
    "            result = max(result, len(temp))\n",
    "        return result"
   ]
  }
 ],
 "metadata": {
  "kernelspec": {
   "display_name": "Python 3",
   "language": "python",
   "name": "python3"
  },
  "language_info": {
   "codemirror_mode": {
    "name": "ipython",
    "version": 3
   },
   "file_extension": ".py",
   "mimetype": "text/x-python",
   "name": "python",
   "nbconvert_exporter": "python",
   "pygments_lexer": "ipython3",
   "version": "3.7.6"
  }
 },
 "nbformat": 4,
 "nbformat_minor": 4
}
