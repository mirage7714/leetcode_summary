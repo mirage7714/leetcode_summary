{
 "cells": [
  {
   "cell_type": "markdown",
   "metadata": {},
   "source": [
    "# 本題要將linked list重新調整順序\n",
    "原題目連結: https://leetcode.com/problems/reorder-list/  \n",
    "\n",
    "You are given the head of a singly linked-list. The list can be represented as:  \n",
    "\n",
    "L0 → L1 → … → Ln - 1 → Ln  \n",
    "Reorder the list to be on the following form:  \n",
    "\n",
    "L0 → Ln → L1 → Ln - 1 → L2 → Ln - 2 → …  \n",
    "You may not modify the values in the list's nodes. Only nodes themselves may be changed.  \n",
    "\n",
    "範例:  \n",
    "Ex1:  \n",
    "Input: head = [1,2,3,4]   \n",
    "Output: [1,4,2,3]   \n",
    "\n",
    "Ex2:  \n",
    "Input: head = [1,2,3,4,5]  \n",
    "Output: [1,5,2,4,3]  "
   ]
  },
  {
   "cell_type": "markdown",
   "metadata": {},
   "source": [
    "* 解題想法:  \n",
    "依題目說明，需要將原本linked list的順序進行調整，且需要直接在原本的linked list上進行修改，這邊先建立一個list，並將所有的節點都放入list中，接著開始從頭進行修改node的next值(因題目有說明不可直接修改val)，並用目前node的奇數與偶數來判斷是從頭還是從尾端取節點出來"
   ]
  },
  {
   "cell_type": "code",
   "execution_count": null,
   "metadata": {},
   "outputs": [],
   "source": [
    "# Definition for singly-linked list.\n",
    "# class ListNode:\n",
    "#     def __init__(self, val=0, next=None):\n",
    "#         self.val = val\n",
    "#         self.next = next\n",
    "class Solution:\n",
    "    def reorderList(self, head: ListNode) -> None:\n",
    "        \"\"\"\n",
    "        Do not return anything, modify head in-place instead.\n",
    "        \"\"\"\n",
    "        temp = []\n",
    "        nodes = head\n",
    "        while nodes:\n",
    "            temp.append(nodes)\n",
    "            nodes = nodes.next\n",
    "        temp.pop(0)\n",
    "        index = 0\n",
    "        start = 0\n",
    "        end = len(temp)-1\n",
    "        if len(temp) > 0:\n",
    "            while head:\n",
    "                if index % 2 != 0:\n",
    "                    head.next = temp[start]\n",
    "                    head.next.next = None\n",
    "                    start += 1\n",
    "                else:\n",
    "                    head.next = temp[end]\n",
    "                    head.next.next = None\n",
    "                    end -= 1\n",
    "                index += 1\n",
    "                head = head.next"
   ]
  }
 ],
 "metadata": {
  "kernelspec": {
   "display_name": "Python 3",
   "language": "python",
   "name": "python3"
  },
  "language_info": {
   "codemirror_mode": {
    "name": "ipython",
    "version": 3
   },
   "file_extension": ".py",
   "mimetype": "text/x-python",
   "name": "python",
   "nbconvert_exporter": "python",
   "pygments_lexer": "ipython3",
   "version": "3.7.4"
  }
 },
 "nbformat": 4,
 "nbformat_minor": 4
}
