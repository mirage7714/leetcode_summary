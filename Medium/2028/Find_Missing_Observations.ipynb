{
 "cells": [
  {
   "cell_type": "markdown",
   "id": "a9e64a6f-1dd6-4954-a8cc-845fbe88669d",
   "metadata": {},
   "source": [
    "# 本題要找出剩下的骰子次數分別為多少 (\\#Array, \\#Math)\n",
    "原題目連結: https://leetcode.com/problems/find-missing-observations/description/  \n",
    "\n",
    "You have observations of n + m 6-sided dice rolls with each face numbered from 1 to 6. n of the observations went missing, and you only have the observations of m rolls. Fortunately, you have also calculated the average value of the n + m rolls.  \n",
    "\n",
    "You are given an integer array rolls of length m where rolls[i] is the value of the ith observation. You are also given the two integers mean and n.  \n",
    "\n",
    "Return an array of length n containing the missing observations such that the average value of the n + m rolls is exactly mean. If there are multiple valid answers, return any of them. If no such array exists, return an empty array.  \n",
    "\n",
    "The average value of a set of k numbers is the sum of the numbers divided by k.  \n",
    "Note that mean is an integer, so the sum of the n + m rolls should be divisible by n + m.  \n",
    "\n",
    "範例:  \n",
    "Ex1:  \n",
    "Input: rolls = [3,2,4,3], mean = 4, n = 2  \n",
    "Output: [6,6]  \n",
    "Explanation: The mean of all n + m rolls is (3 + 2 + 4 + 3 + 6 + 6) / 6 = 4.  \n",
    "\n",
    "Ex2:  \n",
    "Input: rolls = [1,5,6], mean = 3, n = 4  \n",
    "Output: [2,3,2,2]  \n",
    "Explanation: The mean of all n + m rolls is (1 + 5 + 6 + 2 + 3 + 2 + 2) / 7 = 3.  \n",
    "\n",
    "Ex3:  \n",
    "Input: rolls = [1,2,3,4], mean = 6, n = 4  \n",
    "Output: []  \n",
    "Explanation: It is impossible for the mean to be 6 no matter what the 4 missing rolls are."
   ]
  },
  {
   "cell_type": "markdown",
   "id": "5df49b33-1596-484c-9b66-77cc350682e9",
   "metadata": {},
   "source": [
    "* 解題想法:  \n",
    "首先依照平均數算出總共需要的點數為多少，接著計算出目前的總和為多少，就可以找出剩餘的次數需要多少的平均值，另外剩下的平均值需要小於等於6且大於等於1才符合條件"
   ]
  },
  {
   "cell_type": "code",
   "execution_count": null,
   "id": "38c1caf5-ed37-4e4a-b322-c189c7108dc3",
   "metadata": {},
   "outputs": [],
   "source": [
    "class Solution:\n",
    "    def missingRolls(self, rolls: List[int], mean: int, n: int) -> List[int]:\n",
    "        res = []\n",
    "        total = (len(rolls) + n) * mean\n",
    "        t = 0\n",
    "        for r in rolls:\n",
    "            t += r\n",
    "        if (total - t) / n <= 6 and (total -t) / n >= 1:\n",
    "            l = (total -t) % n\n",
    "            r = (total - t) // n\n",
    "            for _ in range(l):\n",
    "                res.append(r+1)\n",
    "            for _ in range(n-l):\n",
    "                res.append(r)\n",
    "        return res"
   ]
  }
 ],
 "metadata": {
  "kernelspec": {
   "display_name": "Python 3 (ipykernel)",
   "language": "python",
   "name": "python3"
  },
  "language_info": {
   "codemirror_mode": {
    "name": "ipython",
    "version": 3
   },
   "file_extension": ".py",
   "mimetype": "text/x-python",
   "name": "python",
   "nbconvert_exporter": "python",
   "pygments_lexer": "ipython3",
   "version": "3.9.13"
  }
 },
 "nbformat": 4,
 "nbformat_minor": 5
}
