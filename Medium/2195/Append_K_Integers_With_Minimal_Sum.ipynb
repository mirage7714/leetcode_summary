{
 "cells": [
  {
   "cell_type": "markdown",
   "metadata": {},
   "source": [
    "# 本題要找出指定k個unique數字的最小總和為多少\n",
    "原題目連結: https://leetcode.com/problems/append-k-integers-with-minimal-sum/  \n",
    "\n",
    "You are given an integer array nums and an integer k. Append k unique positive integers that do not appear in nums to nums such that the resulting total sum is minimum.  \n",
    "Return the sum of the k integers appended to nums.  \n",
    "\n",
    "範例:  \n",
    "Ex1:  \n",
    "Input: nums = [1,4,25,10,25], k = 2  \n",
    "Output: 5  \n",
    "Explanation: The two unique positive integers that do not appear in nums which we append are 2 and 3.  \n",
    "The resulting sum of nums is 1 + 4 + 25 + 10 + 25 + 2 + 3 = 70, which is the minimum.  \n",
    "The sum of the two integers appended is 2 + 3 = 5, so we return 5.  \n",
    "\n",
    "Ex2:  \n",
    "Input: nums = [5,6], k = 6  \n",
    "Output: 25  \n",
    "Explanation: The six unique positive integers that do not appear in nums which we append are 1, 2, 3, 4, 7, and 8.  \n",
    "The resulting sum of nums is 5 + 6 + 1 + 2 + 3 + 4 + 7 + 8 = 36, which is the minimum.   \n",
    "The sum of the six integers appended is 1 + 2 + 3 + 4 + 7 + 8 = 25, so we return 25.  "
   ]
  },
  {
   "cell_type": "markdown",
   "metadata": {},
   "source": [
    "* 解題想法:  \n",
    "首先將list重新進行排序，接著開始逐個檢查，如果第一個數值不為1的話，則代表前面有nums[0]-1個數值，所以需要額外加上這幾個數值，接著開始從第一個數檢查，如果兩個數值間的差小於2，則代表中間無空位可插入新的值就先跳過，如果中間有空位的話，則用梯形面積計算的公式來計算總合，最後如果迴圈結束還沒有滿足需求，則從最後一個開始往後加，最後回傳總和"
   ]
  },
  {
   "cell_type": "code",
   "execution_count": null,
   "metadata": {},
   "outputs": [],
   "source": [
    "class Solution:\n",
    "    def minimalKSum(self, nums: List[int], k: int) -> int:\n",
    "        total = 0\n",
    "        freq = {}\n",
    "        nums.sort()\n",
    "        if nums[0] != 1:\n",
    "            diff = nums[0] -1\n",
    "            if k >= diff:\n",
    "                k -= diff\n",
    "                total += int(diff * nums[0] / 2)\n",
    "            else:\n",
    "                total += int(k * (k+1) / 2)\n",
    "                k = 0\n",
    "        for m in range(0, len(nums)-1):\n",
    "            if nums[m+1] - nums[m] < 2:\n",
    "                continue\n",
    "            else:\n",
    "                d = nums[m+1] - nums[m] -1\n",
    "                if k >= d:\n",
    "                    k -= d\n",
    "                    total += int(d * (nums[m]+ nums[m+1])/2)\n",
    "                else:\n",
    "                    total += int(k * (nums[m]+1 + nums[m] + k) /2)\n",
    "                    k = 0\n",
    "                if k == 0:\n",
    "                    break\n",
    "        if k > 0:\n",
    "            total += int(k * (2 * (nums[-1]+1) + k-1) /2)\n",
    "        return total"
   ]
  }
 ],
 "metadata": {
  "kernelspec": {
   "display_name": "Python 3",
   "language": "python",
   "name": "python3"
  },
  "language_info": {
   "codemirror_mode": {
    "name": "ipython",
    "version": 3
   },
   "file_extension": ".py",
   "mimetype": "text/x-python",
   "name": "python",
   "nbconvert_exporter": "python",
   "pygments_lexer": "ipython3",
   "version": "3.7.4"
  }
 },
 "nbformat": 4,
 "nbformat_minor": 4
}
