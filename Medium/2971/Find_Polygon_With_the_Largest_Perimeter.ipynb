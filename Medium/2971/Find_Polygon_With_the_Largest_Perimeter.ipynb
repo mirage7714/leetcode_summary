{
 "cells": [
  {
   "cell_type": "markdown",
   "id": "ca1d585e-e035-4259-8596-3f5f0d5ec0fc",
   "metadata": {},
   "source": [
    "# 本題要找出最大的多邊形周長為多少 (\\#Array )\n",
    "原題目連結：https://leetcode.com/problems/find-polygon-with-the-largest-perimeter/description/  \n",
    "\n",
    "You are given an array of positive integers nums of length n.  \n",
    "A polygon is a closed plane figure that has at least 3 sides. The longest side of a polygon is smaller than the sum of its other sides.  \n",
    "Conversely, if you have k (k >= 3) positive real numbers a1, a2, a3, ..., ak where a1 <= a2 <= a3 <= ... <= ak and a1 + a2 + a3 + ... + ak-1 > ak, then there always exists a polygon with k sides whose lengths are a1, a2, a3, ..., ak.  \n",
    "The perimeter of a polygon is the sum of lengths of its sides.  \n",
    "Return the largest possible perimeter of a polygon whose sides can be formed from nums, or -1 if it is not possible to create a polygon.  \n",
    "\n",
    "範例：  \n",
    "Ex1:  \n",
    "Input: nums = [5,5,5]  \n",
    "Output: 15  \n",
    "Explanation: The only possible polygon that can be made from nums has 3 sides: 5, 5, and 5. The perimeter is 5 + 5 + 5 = 15.  \n",
    "\n",
    "Ex2:  \n",
    "Input: nums = [1,12,1,2,5,50,3]  \n",
    "Output: 12  \n",
    "Explanation: The polygon with the largest perimeter which can be made from nums has 5 sides: 1, 1, 2, 3, and 5. The perimeter is 1 + 1 + 2 + 3 + 5 = 12.  \n",
    "We cannot have a polygon with either 12 or 50 as the longest side because it is not possible to include 2 or more smaller sides that have a greater sum than either of them.  \n",
    "It can be shown that the largest possible perimeter is 12.  \n",
    "\n",
    "Ex3:  \n",
    "Input: nums = [5,5,50]  \n",
    "Output: -1  \n",
    "Explanation: There is no possible way to form a polygon from nums, as a polygon has at least 3 sides and 50 > 5 + 5."
   ]
  },
  {
   "cell_type": "markdown",
   "id": "86ae7f9d-4fe9-4f7a-90d8-f6fbf630831e",
   "metadata": {},
   "source": [
    "* 解題想法：  \n",
    "首先算出所有邊長的加總，接著開始從最大的數檢查，如果該數值大於剩下的數值總和時代表不符合規則，則將該數減去，直到符合規則或是總和歸零為止，如果歸零則回傳-1，否則回傳剩下的數值就是答案"
   ]
  },
  {
   "cell_type": "code",
   "execution_count": null,
   "id": "0737adf9-65a5-48fe-ac41-82b6d304e929",
   "metadata": {},
   "outputs": [],
   "source": [
    "class Solution:\n",
    "    def largestPerimeter(self, nums: List[int]) -> int:\n",
    "        res = 0\n",
    "        total = 0\n",
    "        nums.sort()\n",
    "        for n in nums:\n",
    "            total += n\n",
    "        for i in range(len(nums)-1, -1, -1):\n",
    "            if nums[i] >= total - nums[i]:\n",
    "                total -= nums[i]\n",
    "            else:\n",
    "                return total\n",
    "        if total == 0:\n",
    "            return -1"
   ]
  }
 ],
 "metadata": {
  "kernelspec": {
   "display_name": "Python 3 (ipykernel)",
   "language": "python",
   "name": "python3"
  },
  "language_info": {
   "codemirror_mode": {
    "name": "ipython",
    "version": 3
   },
   "file_extension": ".py",
   "mimetype": "text/x-python",
   "name": "python",
   "nbconvert_exporter": "python",
   "pygments_lexer": "ipython3",
   "version": "3.10.9"
  }
 },
 "nbformat": 4,
 "nbformat_minor": 5
}
