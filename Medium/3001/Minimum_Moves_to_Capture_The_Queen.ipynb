{
 "cells": [
  {
   "cell_type": "markdown",
   "id": "013659b0-f215-4950-b1b0-d26565797451",
   "metadata": {},
   "source": [
    "# 本題要找出最少可以抓到皇后的移動步數為多少 (\\#Matrix )\n",
    "原題目連結：https://leetcode.com/problems/minimum-moves-to-capture-the-queen/description/  \n",
    "\n",
    "There is a 1-indexed 8 x 8 chessboard containing 3 pieces.  \n",
    "You are given 6 integers a, b, c, d, e, and f where:  \n",
    "\n",
    "(a, b) denotes the position of the white rook.  \n",
    "(c, d) denotes the position of the white bishop.  \n",
    "(e, f) denotes the position of the black queen.  \n",
    "Given that you can only move the white pieces, return the minimum number of moves required to capture the black queen.  \n",
    "Note that:  \n",
    "Rooks can move any number of squares either vertically or horizontally, but cannot jump over other pieces.  \n",
    "Bishops can move any number of squares diagonally, but cannot jump over other pieces.  \n",
    "A rook or a bishop can capture the queen if it is located in a square that they can move to.  \n",
    "The queen does not move.  \n",
    "\n",
    "範例：  \n",
    "Ex1:  \n",
    "Input: a = 1, b = 1, c = 8, d = 8, e = 2, f = 3  \n",
    "Output: 2  \n",
    "Explanation: We can capture the black queen in two moves by moving the white rook to (1, 3) then to (2, 3).  \n",
    "It is impossible to capture the black queen in less than two moves since it is not being attacked by any of the pieces at the beginning.  \n",
    "\n",
    "Ex2:  \n",
    "Input: a = 5, b = 3, c = 3, d = 4, e = 5, f = 2  \n",
    "Output: 1  \n",
    "Explanation: We can capture the black queen in a single move by doing one of the following:   \n",
    "- Move the white rook to (5, 2).  \n",
    "- Move the white bishop to (5, 2)."
   ]
  },
  {
   "cell_type": "markdown",
   "id": "ca1ca76b-f72e-4b2c-ac3c-cbc1b16f656a",
   "metadata": {},
   "source": [
    "* 解題想法：  \n",
    "首先判斷城堡與皇后是否在同一條線上，如果是的話則檢查主教的位置是否在皇后前方，如果是的話則結果為2，否則為1，接著檢查主教與皇后的位置是否在同一條線上，如果是的話則需要檢查城堡是否也在主教的移動路線上，如果是的話則結果為2．否則為1，除了這兩種情況之外，其他的結果都是為2"
   ]
  },
  {
   "cell_type": "code",
   "execution_count": null,
   "id": "93793b6c-a613-4793-8799-cb3584a8d0da",
   "metadata": {},
   "outputs": [],
   "source": [
    "class Solution:\n",
    "    def minMovesToCaptureTheQueen(self, a: int, b: int, c: int, d: int, e: int, f: int) -> int:\n",
    "        if a == e:\n",
    "            if c == e:\n",
    "                for m in range(abs(f-b)):\n",
    "                    b1 = b + ((f-b) / abs(f-b)) * m\n",
    "                    if b1 == d:\n",
    "                        return 2\n",
    "                return 1\n",
    "            else:\n",
    "                return 1\n",
    "        elif b == f:\n",
    "            if d == f:\n",
    "                for m in range(abs(a-e)):\n",
    "                    a1 = a + ((e-a) / abs(e-a)) * m\n",
    "                    if a1 == c:\n",
    "                        return 2\n",
    "                return 1\n",
    "            else:\n",
    "                return 1\n",
    "        elif abs(c -e) == abs(d -f):\n",
    "            for m in range(abs(c-e)):\n",
    "                c1 = c + ((e-c) / abs(c-e)) * m\n",
    "                d1 = d + ((f-d) / abs(d-f)) * m\n",
    "                if c1 == a and d1 == b:\n",
    "                    return 2\n",
    "            return 1\n",
    "        else:\n",
    "            return 2"
   ]
  }
 ],
 "metadata": {
  "kernelspec": {
   "display_name": "Python 3 (ipykernel)",
   "language": "python",
   "name": "python3"
  },
  "language_info": {
   "codemirror_mode": {
    "name": "ipython",
    "version": 3
   },
   "file_extension": ".py",
   "mimetype": "text/x-python",
   "name": "python",
   "nbconvert_exporter": "python",
   "pygments_lexer": "ipython3",
   "version": "3.10.9"
  }
 },
 "nbformat": 4,
 "nbformat_minor": 5
}
