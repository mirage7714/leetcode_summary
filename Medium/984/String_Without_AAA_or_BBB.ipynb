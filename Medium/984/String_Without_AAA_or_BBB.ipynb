{
 "cells": [
  {
   "cell_type": "markdown",
   "metadata": {},
   "source": [
    "# 本題要組成最多不重複三個字以上的字串\n",
    "原題目連結: https://leetcode.com/problems/string-without-aaa-or-bbb/  \n",
    "\n",
    "Given two integers a and b, return any string s such that:  \n",
    "\n",
    "s has length a + b and contains exactly a 'a' letters, and exactly b 'b' letters,  \n",
    "The substring 'aaa' does not occur in s, and  \n",
    "The substring 'bbb' does not occur in s.  \n",
    "\n",
    "範例:  \n",
    "Ex1:  \n",
    "Input: a = 1, b = 2  \n",
    "Output: \"abb\"  \n",
    "Explanation: \"abb\", \"bab\" and \"bba\" are all correct answers.  \n",
    "\n",
    "Ex2:  \n",
    "Input: a = 4, b = 1  \n",
    "Output: \"aabaa\""
   ]
  },
  {
   "cell_type": "markdown",
   "metadata": {},
   "source": [
    "* 解題想法:  \n",
    "首先判斷兩個數值的大小差為多少，如果兩個值的比例大於1的情況下，則將較大的值-2，較小的值-1，如果比例相同的情況則同時-1，直到長度符合要求"
   ]
  },
  {
   "cell_type": "code",
   "execution_count": null,
   "metadata": {},
   "outputs": [],
   "source": [
    "class Solution:\n",
    "    def strWithout3a3b(self, a: int, b: int) -> str:\n",
    "        def addChars(char, count):\n",
    "            word = ''\n",
    "            for c in range(count):\n",
    "                word += char\n",
    "            return word\n",
    "        \n",
    "        result = ''\n",
    "        counts = [a,b]\n",
    "        total = a + b\n",
    "        words = ['a','b']\n",
    "        while len(result) < total:\n",
    "            d = max(counts) - min(counts)\n",
    "            b = counts.index(max(counts))\n",
    "            s = counts.index(min(counts))\n",
    "            if min(counts) == 0:\n",
    "                result += addChars(words[b], max(counts))\n",
    "            else:\n",
    "                if counts[b] / counts[s] > 1:\n",
    "                    result += addChars(words[b], 2)\n",
    "                    result += addChars(words[s], 1)\n",
    "                    counts[b] -= 2\n",
    "                    counts[s] -= 1\n",
    "                else:\n",
    "                    result += addChars(words[0], 1)\n",
    "                    result += addChars(words[1], 1)\n",
    "                    counts[0] -= 1\n",
    "                    counts[1] -= 1\n",
    "        return result"
   ]
  }
 ],
 "metadata": {
  "kernelspec": {
   "display_name": "Python 3",
   "language": "python",
   "name": "python3"
  },
  "language_info": {
   "codemirror_mode": {
    "name": "ipython",
    "version": 3
   },
   "file_extension": ".py",
   "mimetype": "text/x-python",
   "name": "python",
   "nbconvert_exporter": "python",
   "pygments_lexer": "ipython3",
   "version": "3.7.4"
  }
 },
 "nbformat": 4,
 "nbformat_minor": 4
}
