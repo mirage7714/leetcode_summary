{
 "cells": [
  {
   "cell_type": "markdown",
   "metadata": {},
   "source": [
    "# 本題要將樹中的節點值用分組的方式表示\n",
    "原題目連結: https://leetcode.com/problems/binary-tree-level-order-traversal/  \n",
    "\n",
    "Given the root of a binary tree, return the level order traversal of its nodes' values. (i.e., from left to right, level by level).  \n",
    "\n",
    "範例:  \n",
    "Ex1:  \n",
    "Input: root = [3,9,20,null,null,15,7]  \n",
    "Output: [[3],[9,20],[15,7]]  \n",
    "\n",
    "Ex2:  \n",
    "Input: root = [1]  \n",
    "Output: [[1]]  \n",
    "\n",
    "Ex3:  \n",
    "Input: root = []  \n",
    "Output: []"
   ]
  },
  {
   "cell_type": "markdown",
   "metadata": {},
   "source": [
    "* 解題想法: \n",
    "題目要求是要分層並從左到右將數值取出，因此這邊使用BFS來走訪每一個節點，並將每一層的值放入一個list，並在走訪完一層之後將這個list放入結果中，最後回傳結果"
   ]
  },
  {
   "cell_type": "code",
   "execution_count": null,
   "metadata": {},
   "outputs": [],
   "source": [
    "# Definition for a binary tree node.\n",
    "# class TreeNode:\n",
    "#     def __init__(self, val=0, left=None, right=None):\n",
    "#         self.val = val\n",
    "#         self.left = left\n",
    "#         self.right = right\n",
    "class Solution:\n",
    "    def levelOrder(self, root: Optional[TreeNode]) -> List[List[int]]:\n",
    "        result = []\n",
    "        if root != None:\n",
    "            temp = [root]\n",
    "            while len(temp) > 0:\n",
    "                nodes = []\n",
    "                val = []\n",
    "                for t in temp:\n",
    "                    val.append(t.val)\n",
    "                    if t.left != None:\n",
    "                        nodes.append(t.left)\n",
    "                    if t.right != None:\n",
    "                        nodes.append(t.right)\n",
    "                if len(val) > 0:\n",
    "                    result.append(val)\n",
    "                temp.clear()\n",
    "                temp += nodes\n",
    "        return result"
   ]
  }
 ],
 "metadata": {
  "kernelspec": {
   "display_name": "Python 3",
   "language": "python",
   "name": "python3"
  },
  "language_info": {
   "codemirror_mode": {
    "name": "ipython",
    "version": 3
   },
   "file_extension": ".py",
   "mimetype": "text/x-python",
   "name": "python",
   "nbconvert_exporter": "python",
   "pygments_lexer": "ipython3",
   "version": "3.7.4"
  }
 },
 "nbformat": 4,
 "nbformat_minor": 4
}
