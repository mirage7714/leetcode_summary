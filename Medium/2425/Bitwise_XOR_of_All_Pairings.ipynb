{
 "cells": [
  {
   "cell_type": "markdown",
   "metadata": {},
   "source": [
    "# 本題要找出兩個list中所有值的XOR為多少 (\\#Array, \\#Bit manipulation)\n",
    "原題目連結: https://leetcode.com/problems/bitwise-xor-of-all-pairings/  \n",
    "\n",
    "You are given two 0-indexed arrays, nums1 and nums2, consisting of non-negative integers. There exists another array, nums3, which contains the bitwise XOR of all pairings of integers between nums1 and nums2 (every integer in nums1 is paired with every integer in nums2 exactly once).  \n",
    "\n",
    "Return the bitwise XOR of all integers in nums3.  \n",
    "\n",
    "範例:  \n",
    "Ex1:  \n",
    "Input: nums1 = [2,1,3], nums2 = [10,2,5,0]  \n",
    "Output: 13  \n",
    "Explanation:  \n",
    "A possible nums3 array is [8,0,7,2,11,3,4,1,9,1,6,3].  \n",
    "The bitwise XOR of all these numbers is 13, so we return 13.  \n",
    "\n",
    "Ex2:  \n",
    "Input: nums1 = [1,2], nums2 = [3,4]  \n",
    "Output: 0  \n",
    "Explanation:  \n",
    "All possible pairs of bitwise XORs are nums1[0] ^ nums2[0], nums1[0] ^ nums2[1], nums1[1] ^ nums2[0],  \n",
    "and nums1[1] ^ nums2[1].  \n",
    "Thus, one possible nums3 array is [2,5,1,6].  \n",
    "2 ^ 5 ^ 1 ^ 6 = 0, so we return 0."
   ]
  },
  {
   "cell_type": "markdown",
   "metadata": {},
   "source": [
    "* 解題想法:  \n",
    "雖然是說要求出nums3的XOR總和，但其實就是把nums1與nums2中的數值分別取出XOR，最後再XOR的值，首先用一個dict來存放每個數字需要進行XOR的次數，接著先從nums1中開始檢查，每個數字都需要進行nums2長度的XOR，接著統計nums2中的數值，最後將dict中出現次數為奇數的進行XOR，最後回傳結果"
   ]
  },
  {
   "cell_type": "code",
   "execution_count": null,
   "metadata": {},
   "outputs": [],
   "source": [
    "class Solution:\n",
    "    def xorAllNums(self, nums1: List[int], nums2: List[int]) -> int:\n",
    "        count = {}\n",
    "        result = 0\n",
    "        for n in nums1:\n",
    "            if n not in count.keys():\n",
    "                count[n] = len(nums2)\n",
    "            else:\n",
    "                count[n] += len(nums2)\n",
    "        for m in nums2:\n",
    "            if m not in count.keys():\n",
    "                count[m] = len(nums1)\n",
    "            else:\n",
    "                count[m] += len(nums1)\n",
    "        for key, val in count.items():\n",
    "            if val % 2 == 1:\n",
    "                result = result ^ key\n",
    "        return result"
   ]
  }
 ],
 "metadata": {
  "kernelspec": {
   "display_name": "Python 3",
   "language": "python",
   "name": "python3"
  },
  "language_info": {
   "codemirror_mode": {
    "name": "ipython",
    "version": 3
   },
   "file_extension": ".py",
   "mimetype": "text/x-python",
   "name": "python",
   "nbconvert_exporter": "python",
   "pygments_lexer": "ipython3",
   "version": "3.7.4"
  }
 },
 "nbformat": 4,
 "nbformat_minor": 4
}
