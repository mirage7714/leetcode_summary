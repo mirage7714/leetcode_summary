{
 "cells": [
  {
   "cell_type": "markdown",
   "id": "e3c4b1e8-836c-4e0e-9c31-1ee16a18c572",
   "metadata": {},
   "source": [
    "# 本題要將字串中的母音進行排序後回傳新的字串 (\\#String)\n",
    "原題目連結: https://leetcode.com/problems/sort-vowels-in-a-string/description/  \n",
    "\n",
    "Given a 0-indexed string s, permute s to get a new string t such that:  \n",
    "All consonants remain in their original places. More formally, if there is an index i with 0 <= i < s.length such that s[i] is a consonant, then t[i] = s[i].  \n",
    "The vowels must be sorted in the nondecreasing order of their ASCII values. More formally, for pairs of indices i, j with 0 <= i < j < s.length such that s[i] and s[j] are vowels, then t[i] must not have a higher ASCII value than t[j].  \n",
    "Return the resulting string.  \n",
    "\n",
    "The vowels are 'a', 'e', 'i', 'o', and 'u', and they can appear in lowercase or uppercase. Consonants comprise all letters that are not vowels.  \n",
    "\n",
    "範例:  \n",
    "Ex1:  \n",
    "Input: s = \"lEetcOde\"  \n",
    "Output: \"lEOtcede\"  \n",
    "Explanation: 'E', 'O', and 'e' are the vowels in s; 'l', 't', 'c', and 'd' are all consonants. The vowels are sorted according to their ASCII values, and the consonants remain in the same places.  \n",
    "\n",
    "Ex2:  \n",
    "Input: s = \"lYmpH\"  \n",
    "Output: \"lYmpH\"  \n",
    "Explanation: There are no vowels in s (all characters in s are consonants), so we return \"lYmpH\"."
   ]
  },
  {
   "cell_type": "markdown",
   "id": "41b458f5-9bd7-4854-85bd-c244294d9189",
   "metadata": {},
   "source": [
    "* 解題想法:  \n",
    "首先將字串中的母音用一個list進行存放，其他的子音則照順序放入另一個list中，接著將母音的list進行排序之後從頭開始取出字母並建立新的字串，如果遇到為母音的位置實則從母音的list中取出母音，最後回傳新的字串就是答案"
   ]
  },
  {
   "cell_type": "code",
   "execution_count": null,
   "id": "402cfa84-a611-4156-9363-4a0e9dd6ae23",
   "metadata": {},
   "outputs": [],
   "source": [
    "class Solution:\n",
    "    def sortVowels(self, s: str) -> str:\n",
    "        res = ''\n",
    "        v = []\n",
    "        index = []\n",
    "        start = 0\n",
    "        vowels = ['a','e','i','o','u','A','E','I','O','U']\n",
    "        temp = []\n",
    "        for i in range(len(s)):\n",
    "            if s[i] in vowels:\n",
    "                v.append(s[i])\n",
    "                temp.append('_')\n",
    "            else:\n",
    "                temp.append(s[i])\n",
    "        v.sort()\n",
    "        for t in temp:\n",
    "            if t == '_':\n",
    "                res += v[start]\n",
    "                start += 1\n",
    "            else:\n",
    "                res += t\n",
    "        return res"
   ]
  }
 ],
 "metadata": {
  "kernelspec": {
   "display_name": "Python 3 (ipykernel)",
   "language": "python",
   "name": "python3"
  },
  "language_info": {
   "codemirror_mode": {
    "name": "ipython",
    "version": 3
   },
   "file_extension": ".py",
   "mimetype": "text/x-python",
   "name": "python",
   "nbconvert_exporter": "python",
   "pygments_lexer": "ipython3",
   "version": "3.9.13"
  }
 },
 "nbformat": 4,
 "nbformat_minor": 5
}
