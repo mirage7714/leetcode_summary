{
 "cells": [
  {
   "cell_type": "markdown",
   "metadata": {},
   "source": [
    "# 本題要找出在array中重複出現的數字\n",
    "原題目連結: https://leetcode.com/problems/find-the-duplicate-number/   \n",
    "\n",
    "Given an array of integers nums containing n + 1 integers where each integer is in the range [1, n] inclusive.  \n",
    "\n",
    "There is only one duplicate number in nums, return this duplicate number.  \n",
    "\n",
    "Follow-ups:  \n",
    "\n",
    "How can we prove that at least one duplicate number must exist in nums?   \n",
    "Can you solve the problem without modifying the array nums?  \n",
    "Can you solve the problem using only constant, O(1) extra space?  \n",
    "Can you solve the problem with runtime complexity less than O(n2)?  \n",
    "\n",
    "範例:  \n",
    "Ex1:  \n",
    "Input: nums = [1,3,4,2,2]  \n",
    "Output: 2  \n",
    "\n",
    "Ex2:  \n",
    "Input: nums = [3,1,3,4,2]  \n",
    "Output: 3  \n",
    "\n",
    "Ex3:  \n",
    "Input: nums = [1,1]  \n",
    "Output: 1  \n",
    "\n",
    "Ex4:  \n",
    "Input: nums = [1,1,2]  \n",
    "Output: 1  \n"
   ]
  },
  {
   "cell_type": "markdown",
   "metadata": {},
   "source": [
    "* 解題想法:  \n",
    "由於題目中有說明只會有一個重複出現的數字，最簡單的做法是先針對list進行排序後，找出nums[n] == nums[n+1]的情況就是題目要求的數字  \n",
    "雖然還有一些進階的挑戰，不過就先跳過了，之後有時間再來想"
   ]
  },
  {
   "cell_type": "code",
   "execution_count": null,
   "metadata": {},
   "outputs": [],
   "source": [
    "class Solution:\n",
    "    def findDuplicate(self, nums: List[int]) -> int:\n",
    "        result = 0\n",
    "        nums.sort()\n",
    "        for n in range(len(nums) -1):\n",
    "            if nums[n] == nums[n+1]:\n",
    "                result = nums[n]\n",
    "                break\n",
    "        return result"
   ]
  }
 ],
 "metadata": {
  "kernelspec": {
   "display_name": "Python 3",
   "language": "python",
   "name": "python3"
  },
  "language_info": {
   "codemirror_mode": {
    "name": "ipython",
    "version": 3
   },
   "file_extension": ".py",
   "mimetype": "text/x-python",
   "name": "python",
   "nbconvert_exporter": "python",
   "pygments_lexer": "ipython3",
   "version": "3.7.4"
  }
 },
 "nbformat": 4,
 "nbformat_minor": 2
}
