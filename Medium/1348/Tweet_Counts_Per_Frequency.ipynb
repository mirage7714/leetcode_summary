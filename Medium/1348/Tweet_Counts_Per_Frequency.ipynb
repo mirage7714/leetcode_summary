{
 "cells": [
  {
   "cell_type": "markdown",
   "metadata": {},
   "source": [
    "# 本題要設計一個計算區間內次數的函數\n",
    "原題目連結: https://leetcode.com/problems/tweet-counts-per-frequency/  \n",
    "\n",
    "A social media company is trying to monitor activity on their site by analyzing the number of tweets that occur in select periods of time. These periods can be partitioned into smaller time chunks based on a certain frequency (every minute, hour, or day).  \n",
    "\n",
    "For example, the period [10, 10000] (in seconds) would be partitioned into the following time chunks with these frequencies:  \n",
    "\n",
    "Every minute (60-second chunks): [10,69], [70,129], [130,189], ..., [9970,10000]  \n",
    "Every hour (3600-second chunks): [10,3609], [3610,7209], [7210,10000]  \n",
    "Every day (86400-second chunks): [10,10000]  \n",
    "Notice that the last chunk may be shorter than the specified frequency's chunk size and will always end with the end time of the period (10000 in the above example).  \n",
    "\n",
    "Design and implement an API to help the company with their analysis.  \n",
    "\n",
    "Implement the TweetCounts class:  \n",
    "\n",
    "TweetCounts() Initializes the TweetCounts object.  \n",
    "void recordTweet(String tweetName, int time) Stores the tweetName at the recorded time (in seconds).  \n",
    "List<Integer> getTweetCountsPerFrequency(String freq, String tweetName, int startTime, int endTime) Returns a list of integers representing the number of tweets with tweetName in each time chunk for the given period of time [startTime, endTime] (in seconds) and frequency freq.  \n",
    "freq is one of \"minute\", \"hour\", or \"day\" representing a frequency of every minute, hour, or day respectively.  \n",
    "    \n",
    "範例:  \n",
    "Ex1:  \n",
    "Input  \n",
    "[\"TweetCounts\",\"recordTweet\",\"recordTweet\",\"recordTweet\",\"getTweetCountsPerFrequency\",\"getTweetCountsPerFrequency\",\"recordTweet\",\"getTweetCountsPerFrequency\"]  \n",
    "[[],[\"tweet3\",0],[\"tweet3\",60],[\"tweet3\",10],[\"minute\",\"tweet3\",0,59],[\"minute\",\"tweet3\",0,60],[\"tweet3\",120],[\"hour\",\"tweet3\",0,210]]  \n",
    "\n",
    "Output  \n",
    "[null,null,null,null,[2],[2,1],null,[4]]  \n",
    "\n",
    "Explanation  \n",
    "TweetCounts tweetCounts = new TweetCounts();  \n",
    "tweetCounts.recordTweet(\"tweet3\", 0);                              // New tweet \"tweet3\" at time 0  \n",
    "tweetCounts.recordTweet(\"tweet3\", 60);                             // New tweet \"tweet3\" at time 60  \n",
    "tweetCounts.recordTweet(\"tweet3\", 10);                             // New tweet \"tweet3\" at time 10  \n",
    "tweetCounts.getTweetCountsPerFrequency(\"minute\", \"tweet3\", 0, 59); // return [2]; chunk [0,59] had 2 tweets  \n",
    "tweetCounts.getTweetCountsPerFrequency(\"minute\", \"tweet3\", 0, 60); // return [2,1]; chunk [0,59] had 2 tweets, chunk [60,60] had 1 tweet  \n",
    "tweetCounts.recordTweet(\"tweet3\", 120);                            // New tweet \"tweet3\" at time 120  \n",
    "tweetCounts.getTweetCountsPerFrequency(\"hour\", \"tweet3\", 0, 210);  // return [4]; chunk [0,210] had 4 tweets"
   ]
  },
  {
   "cell_type": "markdown",
   "metadata": {},
   "source": [
    "* 解題想法:  \n",
    "依題目需求，需要實作以下的一些功能:  \n",
    "- TweetCounts(): 先建立一個dict，用來存放不同的tweetName以及次數，另外建立一個dict，用來存放不同的interval時間  \n",
    "- recordTweet(): 這邊需要用SortedList來進行實作，因為如果用list來存放的話，會出現TLE的問題  \n",
    "- getTweetCountsPerFrequency(): 這邊要計算指定區間內的次數共有多少，首先用name找出資料，接著找出區間，然後用while迴圈來找出指定時間內的資料共有幾筆，最後將資料放入list中進行回傳，需要注意的一點就是當最後一個迴圈時，需要檢查endTime而不是區間的範圍"
   ]
  },
  {
   "cell_type": "code",
   "execution_count": null,
   "metadata": {},
   "outputs": [],
   "source": [
    "from sortedcontainers import SortedList\n",
    "class TweetCounts:\n",
    "\n",
    "    def __init__(self):\n",
    "        self.count = {}\n",
    "        self.intervals = {'minute': 60, 'hour': 3600, 'day': 86400}\n",
    "    def recordTweet(self, tweetName: str, time: int) -> None:\n",
    "        if tweetName not in self.count.keys():\n",
    "            self.count[tweetName] = SortedList()\n",
    "        self.count[tweetName].add(time)\n",
    "\n",
    "    def getTweetCountsPerFrequency(self, freq: str, tweetName: str, startTime: int, endTime: int) -> List[int]:\n",
    "        result = []\n",
    "        interval = self.intervals[freq]\n",
    "        data = []\n",
    "        index = 0\n",
    "        \n",
    "        if tweetName in self.count.keys():\n",
    "            data = self.count[tweetName]\n",
    "        while startTime <= endTime:\n",
    "            temp = startTime + interval -1\n",
    "            i = min(temp, endTime)\n",
    "            c = 0\n",
    "            if len(data) > 0:\n",
    "                l = data.bisect_left(startTime)\n",
    "                r = data.bisect_right(i)\n",
    "                c = (r-l)\n",
    "            result.append(c)\n",
    "            startTime = temp+1\n",
    "        return result\n",
    "\n",
    "# Your TweetCounts object will be instantiated and called as such:\n",
    "# obj = TweetCounts()\n",
    "# obj.recordTweet(tweetName,time)\n",
    "# param_2 = obj.getTweetCountsPerFrequency(freq,tweetName,startTime,endTime)"
   ]
  }
 ],
 "metadata": {
  "kernelspec": {
   "display_name": "Python 3",
   "language": "python",
   "name": "python3"
  },
  "language_info": {
   "name": ""
  }
 },
 "nbformat": 4,
 "nbformat_minor": 4
}
