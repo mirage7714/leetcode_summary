{
 "cells": [
  {
   "cell_type": "markdown",
   "metadata": {},
   "source": [
    "# 本題要找出需要多少次操作才能將list中的數字轉換為相同的數字\n",
    "原題目連結: https://leetcode.com/problems/reduction-operations-to-make-the-array-elements-equal/  \n",
    "\n",
    "Given an integer array nums, your goal is to make all elements in nums equal. To complete one operation, follow these steps:  \n",
    "\n",
    "Find the largest value in nums. Let its index be i (0-indexed) and its value be largest. If there are multiple elements with the largest value, pick the smallest i.  \n",
    "Find the next largest value in nums strictly smaller than largest. Let its value be nextLargest.  \n",
    "Reduce nums[i] to nextLargest.    \n",
    "Return the number of operations to make all elements in nums equal.  \n",
    "\n",
    "範例:  \n",
    "Ex1:  \n",
    "Input: nums = [5,1,3]  \n",
    "Output: 3  \n",
    "Explanation: It takes 3 operations to make all elements in nums equal:  \n",
    "1. largest = 5 at index 0. nextLargest = 3. Reduce nums[0] to 3. nums = [3,1,3].  \n",
    "2. largest = 3 at index 0. nextLargest = 1. Reduce nums[0] to 1. nums = [1,1,3].  \n",
    "3. largest = 3 at index 2. nextLargest = 1. Reduce nums[2] to 1. nums = [1,1,1].  \n",
    "\n",
    "Ex2:  \n",
    "Input: nums = [1,1,1]  \n",
    "Output: 0  \n",
    "Explanation: All elements in nums are already equal.  \n",
    "\n",
    "Ex3:  \n",
    "Input: nums = [1,1,2,2,3]  \n",
    "Output: 4  \n",
    "Explanation: It takes 4 operations to make all elements in nums equal:  \n",
    "1. largest = 3 at index 4. nextLargest = 2. Reduce nums[4] to 2. nums = [1,1,2,2,2].  \n",
    "2. largest = 2 at index 2. nextLargest = 1. Reduce nums[2] to 1. nums = [1,1,1,2,2].  \n",
    "3. largest = 2 at index 3. nextLargest = 1. Reduce nums[3] to 1. nums = [1,1,1,1,2].  \n",
    "4. largest = 2 at index 4. nextLargest = 1. Reduce nums[4] to 1. nums = [1,1,1,1,1].  "
   ]
  },
  {
   "cell_type": "markdown",
   "metadata": {},
   "source": [
    "* 解題想法:  \n",
    "依題目說明，需要先從最大的數改成第二大的數，並且一次只能改變一個數字，因此先將list的數字整理成dict的形式，並將key從大到小進行排序，接著用迴圈將最大的key所對應的value加到下一個key所對應的value，並將操作次數的統計加上value，最後回傳總操作次數"
   ]
  },
  {
   "cell_type": "code",
   "execution_count": null,
   "metadata": {},
   "outputs": [],
   "source": [
    "class Solution:\n",
    "    def reductionOperations(self, nums: List[int]) -> int:\n",
    "        count = 0\n",
    "        freq = {}\n",
    "        for n in nums:\n",
    "            if n not in freq.keys():\n",
    "                freq[n] = 1\n",
    "            else:\n",
    "                freq[n] += 1\n",
    "        keys = list(freq.keys())\n",
    "        if len(keys) > 1:\n",
    "            keys.sort(reverse = True)\n",
    "            for k in range(len(keys)-1):\n",
    "                count += freq[keys[k]]\n",
    "                freq[keys[k+1]] += freq[keys[k]]\n",
    "        return count"
   ]
  }
 ],
 "metadata": {
  "kernelspec": {
   "display_name": "Python 3",
   "language": "python",
   "name": "python3"
  },
  "language_info": {
   "codemirror_mode": {
    "name": "ipython",
    "version": 3
   },
   "file_extension": ".py",
   "mimetype": "text/x-python",
   "name": "python",
   "nbconvert_exporter": "python",
   "pygments_lexer": "ipython3",
   "version": "3.7.6"
  }
 },
 "nbformat": 4,
 "nbformat_minor": 4
}
