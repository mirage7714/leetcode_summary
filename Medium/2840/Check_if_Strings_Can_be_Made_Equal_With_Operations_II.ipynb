{
 "cells": [
  {
   "cell_type": "markdown",
   "id": "2ae6fef1-bce0-419b-ba39-9369f5af33d9",
   "metadata": {},
   "source": [
    "# 本題要判斷兩個字串是否在操作後會相同 (\\#String )\n",
    "原題目連結: https://leetcode.com/problems/check-if-strings-can-be-made-equal-with-operations-ii/description/  \n",
    "\n",
    "You are given two strings s1 and s2, both of length n, consisting of lowercase English letters.  \n",
    "You can apply the following operation on any of the two strings any number of times:  \n",
    "\n",
    "Choose any two indices i and j such that i < j and the difference j - i is even, then swap the two characters at those indices in the string.  \n",
    "Return true if you can make the strings s1 and s2 equal, and false otherwise.  \n",
    "\n",
    "範例:  \n",
    "Ex1:  \n",
    "Input: s1 = \"abcdba\", s2 = \"cabdab\"  \n",
    "Output: true  \n",
    "Explanation: We can apply the following operations on s1:  \n",
    "- Choose the indices i = 0, j = 2. The resulting string is s1 = \"cbadba\".  \n",
    "- Choose the indices i = 2, j = 4. The resulting string is s1 = \"cbbdaa\".  \n",
    "- Choose the indices i = 1, j = 5. The resulting string is s1 = \"cabdab\" = s2.  \n",
    "\n",
    "Ex2:  \n",
    "Input: s1 = \"abe\", s2 = \"bea\"  \n",
    "Output: false  \n",
    "Explanation: It is not possible to make the two strings equal.  "
   ]
  },
  {
   "cell_type": "markdown",
   "id": "9b3d0d3c-e6c4-4dbe-9de2-859e5ec25655",
   "metadata": {},
   "source": [
    "* 解題想法:  \n",
    "先檢查兩個字串是否相同，如果不相同的話則從頭開始檢查兩個字串，如果不相同的話則將不同的字母依奇數與偶數放入兩個list中，最後檢查奇數與偶數的list在排序後是否相同"
   ]
  },
  {
   "cell_type": "code",
   "execution_count": null,
   "id": "15518384-0da8-4f22-a380-0d10d829cb8c",
   "metadata": {},
   "outputs": [],
   "source": [
    "class Solution:\n",
    "    def checkStrings(self, s1: str, s2: str) -> bool:\n",
    "        if s1 == s2:\n",
    "            return True\n",
    "        else:\n",
    "            even = [[],[]]\n",
    "            odd = [[],[]]\n",
    "            for i in range(len(s1)):\n",
    "                if s1[i] != s2[i]:\n",
    "                    if i % 2 == 0:\n",
    "                        even[0].append(s1[i])\n",
    "                        even[1].append(s2[i])\n",
    "                    else:\n",
    "                        odd[0].append(s1[i])\n",
    "                        odd[1].append(s2[i])\n",
    "            even[0].sort()\n",
    "            even[1].sort()\n",
    "            odd[0].sort()\n",
    "            odd[1].sort()\n",
    "            if even[0] == even[1] and odd[0] == odd[1]:\n",
    "                return True\n",
    "            else:\n",
    "                return False"
   ]
  }
 ],
 "metadata": {
  "kernelspec": {
   "display_name": "Python 3 (ipykernel)",
   "language": "python",
   "name": "python3"
  },
  "language_info": {
   "codemirror_mode": {
    "name": "ipython",
    "version": 3
   },
   "file_extension": ".py",
   "mimetype": "text/x-python",
   "name": "python",
   "nbconvert_exporter": "python",
   "pygments_lexer": "ipython3",
   "version": "3.11.4"
  }
 },
 "nbformat": 4,
 "nbformat_minor": 5
}
