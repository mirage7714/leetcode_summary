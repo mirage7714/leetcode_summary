{
 "cells": [
  {
   "cell_type": "markdown",
   "metadata": {},
   "source": [
    "# 本題要找出以指定的個數與總和組合出最小的字串\n",
    "原題目連結: https://leetcode.com/problems/smallest-string-with-a-given-numeric-value/  \n",
    "\n",
    "The numeric value of a lowercase character is defined as its position (1-indexed) in the alphabet, so the numeric value of a is 1, the numeric value of b is 2, the numeric value of c is 3, and so on.  \n",
    "\n",
    "The numeric value of a string consisting of lowercase characters is defined as the sum of its characters' numeric values. For example, the numeric value of the string \"abe\" is equal to 1 + 2 + 5 = 8.  \n",
    "\n",
    "You are given two integers n and k. Return the lexicographically smallest string with length equal to n and numeric value equal to k.  \n",
    "\n",
    "Note that a string x is lexicographically smaller than string y if x comes before y in dictionary order, that is, either x is a prefix of y, or if i is the first position such that x[i] != y[i], then x[i] comes before y[i] in alphabetic order.  \n",
    "\n",
    "範例:  \n",
    "Ex1:  \n",
    "Input: n = 3, k = 27  \n",
    "Output: \"aay\"  \n",
    "Explanation: The numeric value of the string is 1 + 1 + 25 = 27, and it is the smallest string with such a value and length equal to 3.  \n",
    "\n",
    "Ex2:  \n",
    "Input: n = 5, k = 73  \n",
    "Output: \"aaszz\""
   ]
  },
  {
   "cell_type": "markdown",
   "metadata": {},
   "source": [
    "* 解題想法:  \n",
    "首先判斷n與k的關係，如果n=k的情況，則代表每個字都只能使用a，而如果k/n = 26的情況則代表每個字都是z，至於其他情況，則先將每個位數都填上1，並用剩下的數開始進行分配，並從後往前開始分配，直到剩下可用的點數用完為止，並將list中的數字轉換為英文字母並組成字串，就是題目要找的答案"
   ]
  },
  {
   "cell_type": "code",
   "execution_count": null,
   "metadata": {},
   "outputs": [],
   "source": [
    "class Solution:\n",
    "    def getSmallestString(self, n: int, k: int) -> str:\n",
    "        chars = {1:'a', 2:'b', 3:'c', 4:'d', 5:'e', 6:'f',7:'g',\n",
    "                 8:'h', 9:'i', 10:'j',11:'k', 12:'l', 13:\"m\", 14:'n',\n",
    "                 15:'o', 16:'p', 17:'q', 18:'r', 19:'s', 20:'t', 21:'u',\n",
    "                 22:'v', 23:'w', 24:'x', 25:'y', 26:'z'\n",
    "                }\n",
    "        temp = []\n",
    "        result = ''\n",
    "        if k / n == 1:\n",
    "            for m in range(n):\n",
    "                temp.append(1)\n",
    "        elif k / n == 26:\n",
    "            for m in range(n):\n",
    "                temp.append(26)\n",
    "        else:\n",
    "            for m in range(n):\n",
    "                temp.append(1)\n",
    "            left = k - n\n",
    "            start = len(temp)-1\n",
    "            while left > 0:\n",
    "                if left > 25:\n",
    "                    temp[start] += 25\n",
    "                    left -= 25\n",
    "                    start -= 1\n",
    "                else:\n",
    "                    temp[start] += left\n",
    "                    left = 0\n",
    "        for t in temp:\n",
    "            result += chars[t]\n",
    "        return result"
   ]
  }
 ],
 "metadata": {
  "kernelspec": {
   "display_name": "Python 3",
   "language": "python",
   "name": "python3"
  },
  "language_info": {
   "codemirror_mode": {
    "name": "ipython",
    "version": 3
   },
   "file_extension": ".py",
   "mimetype": "text/x-python",
   "name": "python",
   "nbconvert_exporter": "python",
   "pygments_lexer": "ipython3",
   "version": "3.7.4"
  }
 },
 "nbformat": 4,
 "nbformat_minor": 2
}
