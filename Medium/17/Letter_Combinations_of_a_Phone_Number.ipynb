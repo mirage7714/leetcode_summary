{
 "cells": [
  {
   "cell_type": "markdown",
   "metadata": {},
   "source": [
    "# 本題要找出數字對應的字母組合有哪些\n",
    "原題目連結：https://leetcode.com/problems/letter-combinations-of-a-phone-number/  \n",
    "\n",
    "Given a string containing digits from 2-9 inclusive, return all possible letter combinations that the number could represent. Return the answer in any order.  \n",
    "\n",
    "A mapping of digit to letters (just like on the telephone buttons) is given below. Note that 1 does not map to any letters.  \n",
    "\n",
    "範例：  \n",
    "Ex1:  \n",
    "Input: digits = \"23\"  \n",
    "Output: [\"ad\",\"ae\",\"af\",\"bd\",\"be\",\"bf\",\"cd\",\"ce\",\"cf\"]  \n",
    "\n",
    "Ex2:  \n",
    "Input: digits = \"\"  \n",
    "Output: []  \n",
    "\n",
    "Ex3:  \n",
    "Input: digits = \"2\"  \n",
    "Output: [\"a\",\"b\",\"c\"]"
   ]
  },
  {
   "cell_type": "markdown",
   "metadata": {},
   "source": [
    "* 解題想法：  \n",
    "依照題目提供的數字與字母對照表，首先建立dict來將數字轉換回對應的字母表，接著將每個數字能代表的字母放入一個list中，再將，再將list中的元件拿出來進行組合，最後回傳組合完的答案"
   ]
  },
  {
   "cell_type": "code",
   "execution_count": null,
   "metadata": {},
   "outputs": [],
   "source": [
    "class Solution:\n",
    "    def letterCombinations(self, digits: str) -> List[str]:\n",
    "        def genMatrix(arr1, arr2):\n",
    "            result = []\n",
    "            for a in arr1:\n",
    "                for b in arr2:\n",
    "                    result.append(a+b)\n",
    "            return result\n",
    "        \n",
    "        mappings = {'1': [], '2':['a','b','c'], '3':['d','e','f'], '4':['g','h','i'],\n",
    "                  '5':['j','k','l'], '6':['m','n','o'], '7':['p','q','r','s'], '8':['t','u','v'], '9':['w','x','y','z']\n",
    "                 }\n",
    "        temp = []\n",
    "        result = []\n",
    "        if len(digits) > 0:\n",
    "            for d in digits:\n",
    "                if d != '1':\n",
    "                    temp.append(mappings[d])\n",
    "        if len(temp) == 1:\n",
    "            result = temp[0]\n",
    "        elif len(temp) > 1:\n",
    "            result = temp[0]\n",
    "            for r in range(1, len(temp)):\n",
    "                result = genMatrix(result, temp[r])\n",
    "        return result"
   ]
  }
 ],
 "metadata": {
  "kernelspec": {
   "display_name": "Python 3",
   "language": "python",
   "name": "python3"
  },
  "language_info": {
   "codemirror_mode": {
    "name": "ipython",
    "version": 3
   },
   "file_extension": ".py",
   "mimetype": "text/x-python",
   "name": "python",
   "nbconvert_exporter": "python",
   "pygments_lexer": "ipython3",
   "version": "3.7.6"
  }
 },
 "nbformat": 4,
 "nbformat_minor": 4
}
