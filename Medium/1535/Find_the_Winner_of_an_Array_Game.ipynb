{
 "cells": [
  {
   "cell_type": "markdown",
   "id": "78415ccd-5072-4f1c-9ce9-ddb4c0e6411b",
   "metadata": {},
   "source": [
    "# 本題要找出list中最快達到指定數字的值為多少 (\\#Array )\n",
    "原題目連結: https://leetcode.com/problems/find-the-winner-of-an-array-game/description\n",
    "\n",
    "Given an integer array arr of distinct integers and an integer k.  \n",
    "A game will be played between the first two elements of the array (i.e. arr[0] and arr[1]). In each round of the game, we compare arr[0] with arr[1], the larger integer wins and remains at position 0, and the smaller integer moves to the end of the array. The game ends when an integer wins k consecutive rounds.  \n",
    "\n",
    "Return the integer which will win the game.  \n",
    "It is guaranteed that there will be a winner of the game.  \n",
    "\n",
    "範例:  \n",
    "Ex1:  \n",
    "Input: arr = [2,1,3,5,4,6,7], k = 2  \n",
    "Output: 5  \n",
    "Explanation: Let's see the rounds of the game:  \n",
    "Round |       arr       | winner | win_count  \n",
    "  1   | [2,1,3,5,4,6,7] | 2      | 1  \n",
    "  2   | [2,3,5,4,6,7,1] | 3      | 1  \n",
    "  3   | [3,5,4,6,7,1,2] | 5      | 1  \n",
    "  4   | [5,4,6,7,1,2,3] | 5      | 2  \n",
    "So we can see that 4 rounds will be played and 5 is the winner because it wins 2 consecutive games.  \n",
    "\n",
    "Ex2:  \n",
    "Input: arr = [3,2,1], k = 10  \n",
    "Output: 3  \n",
    "Explanation: 3 will win the first 10 rounds consecutively."
   ]
  },
  {
   "cell_type": "markdown",
   "id": "ee331b90-eeca-4ede-b8f7-97ccb6eeb8aa",
   "metadata": {},
   "source": [
    "* 解題想法:  \n",
    "首先指定第一個數值為目前的最大值，另外用一個變數來存放目前勝利的次數，接著用迴圈來與目前的最大值比較，如果目前的數值比較大則將次數+1，否則更新最大值並將次數重設為1，最後回傳最大值就是答案"
   ]
  },
  {
   "cell_type": "code",
   "execution_count": null,
   "id": "01824a6d-b4a6-48c6-b938-abff38845232",
   "metadata": {},
   "outputs": [],
   "source": [
    "class Solution:\n",
    "    def getWinner(self, arr: List[int], k: int) -> int:\n",
    "        temp = 0\n",
    "        start = arr[0]\n",
    "        for i in range(1, len(arr)):\n",
    "            if arr[i] < start:\n",
    "                temp += 1\n",
    "            else:\n",
    "                start = arr[i]\n",
    "                temp = 1\n",
    "            if temp == k:\n",
    "                break\n",
    "        return start"
   ]
  }
 ],
 "metadata": {
  "kernelspec": {
   "display_name": "Python 3 (ipykernel)",
   "language": "python",
   "name": "python3"
  },
  "language_info": {
   "codemirror_mode": {
    "name": "ipython",
    "version": 3
   },
   "file_extension": ".py",
   "mimetype": "text/x-python",
   "name": "python",
   "nbconvert_exporter": "python",
   "pygments_lexer": "ipython3",
   "version": "3.11.4"
  }
 },
 "nbformat": 4,
 "nbformat_minor": 5
}
