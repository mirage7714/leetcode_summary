{
 "cells": [
  {
   "cell_type": "markdown",
   "metadata": {},
   "source": [
    "# 本題要找出組合指定字串的方法有幾種\n",
    "原題目連結: https://leetcode.com/problems/number-of-pairs-of-strings-with-concatenation-equal-to-target/  \n",
    "\n",
    "Given an array of digit strings nums and a digit string target, return the number of pairs of indices (i, j) (where i != j) such that the concatenation of nums[i] + nums[j] equals target.  \n",
    "\n",
    "範例:  \n",
    "Ex1:  \n",
    "Input: nums = [\"777\",\"7\",\"77\",\"77\"], target = \"7777\"  \n",
    "Output: 4  \n",
    "Explanation: Valid pairs are:  \n",
    "- (0, 1): \"777\" + \"7\"  \n",
    "- (1, 0): \"7\" + \"777\"  \n",
    "- (2, 3): \"77\" + \"77\"  \n",
    "- (3, 2): \"77\" + \"77\"  \n",
    "\n",
    "Ex2:  \n",
    "Input: nums = [\"123\",\"4\",\"12\",\"34\"], target = \"1234\"  \n",
    "Output: 2  \n",
    "Explanation: Valid pairs are:  \n",
    "- (0, 1): \"123\" + \"4\"  \n",
    "- (2, 3): \"12\" + \"34\"  \n",
    "\n",
    "Ex3:  \n",
    "Input: nums = [\"1\",\"1\",\"1\"], target = \"11\"  \n",
    "Output: 6  \n",
    "Explanation: Valid pairs are:  \n",
    "- (0, 1): \"1\" + \"1\"  \n",
    "- (1, 0): \"1\" + \"1\"  \n",
    "- (0, 2): \"1\" + \"1\"  \n",
    "- (2, 0): \"1\" + \"1\"  \n",
    "- (1, 2): \"1\" + \"1\"  \n",
    "- (2, 1): \"1\" + \"1\"  "
   ]
  },
  {
   "cell_type": "markdown",
   "metadata": {},
   "source": [
    "* 解題想法:  \n",
    "首先將所有可用的字根及數量統計出來，接著判斷字根是否有出現在指定字串的開頭，如果有出現則接著檢查後面的字串是否有出現在字根中，如果有出線的話則檢查兩個是否相同，如果不相同則出現的組合數為兩個字根數量的相乘，如果相同則為長度X(長度-1)，最後將組合數相加就是題目要找的答案"
   ]
  },
  {
   "cell_type": "code",
   "execution_count": null,
   "metadata": {},
   "outputs": [],
   "source": [
    "class Solution:\n",
    "    def numOfPairs(self, nums: List[str], target: str) -> int:\n",
    "        freq = {}\n",
    "        result = 0\n",
    "        for n in range(len(nums)):\n",
    "            if nums[n] not in freq.keys():\n",
    "                freq[nums[n]] = [n]\n",
    "            else:\n",
    "                freq[nums[n]].append(n)\n",
    "        keys = list(freq.keys())\n",
    "        for k in keys:\n",
    "            if k in target:\n",
    "                if target.index(k) == 0:\n",
    "                    s = len(freq[k])\n",
    "                    l = target[len(k):]\n",
    "                    if l in keys:\n",
    "                        if k != l:\n",
    "                            result += len(freq[k]) * len(freq[l])\n",
    "                        else:\n",
    "                            result += (s * (s-1))\n",
    "        return result"
   ]
  }
 ],
 "metadata": {
  "kernelspec": {
   "display_name": "Python 3",
   "language": "python",
   "name": "python3"
  },
  "language_info": {
   "codemirror_mode": {
    "name": "ipython",
    "version": 3
   },
   "file_extension": ".py",
   "mimetype": "text/x-python",
   "name": "python",
   "nbconvert_exporter": "python",
   "pygments_lexer": "ipython3",
   "version": "3.7.6"
  }
 },
 "nbformat": 4,
 "nbformat_minor": 4
}
