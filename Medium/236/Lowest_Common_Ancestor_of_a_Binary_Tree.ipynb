{
 "cells": [
  {
   "cell_type": "markdown",
   "metadata": {},
   "source": [
    "# 本題要找出binary tree中，兩個節點最接近的共同父節點為何 (\\#Binary Tree, \\#DFS)\n",
    "原題目連結: https://leetcode.com/problems/lowest-common-ancestor-of-a-binary-tree/  \n",
    "\n",
    "Given a binary tree, find the lowest common ancestor (LCA) of two given nodes in the tree.  \n",
    "\n",
    "According to the definition of LCA on Wikipedia: “The lowest common ancestor is defined between two nodes p and q as the lowest node in T that has both p and q as descendants (where we allow a node to be a descendant of itself).”  \n",
    "\n",
    "範例:  \n",
    "Ex1:  \n",
    "Input: root = [3,5,1,6,2,0,8,null,null,7,4], p = 5, q = 1  \n",
    "Output: 3  \n",
    "Explanation: The LCA of nodes 5 and 1 is 3.  \n",
    "\n",
    "Ex2:  \n",
    "Input: root = [3,5,1,6,2,0,8,null,null,7,4], p = 5, q = 4  \n",
    "Output: 5  \n",
    "Explanation: The LCA of nodes 5 and 4 is 5, since a node can be a descendant of itself according to the LCA definition.  \n",
    "\n",
    "Ex3:  \n",
    "Input: root = [1,2], p = 1, q = 2  \n",
    "Output: 1  "
   ]
  },
  {
   "cell_type": "markdown",
   "metadata": {},
   "source": [
    "* 解題想法:  \n",
    "這題與No.235相似，只是差在235是binary search tree，而這題是binary tree，不過解法上兩題可以用相同的做法，就是先找出包含指定數值的路線並放入list中，接著開始檢查兩條路線，如果路線相同則找出哪個節點先出現，如果兩條路線不同則比較最後一個共同的數值為多少，轉換為TreeNode之後回傳"
   ]
  },
  {
   "cell_type": "code",
   "execution_count": null,
   "metadata": {},
   "outputs": [],
   "source": [
    "# Definition for a binary tree node.\n",
    "# class TreeNode:\n",
    "#     def __init__(self, x):\n",
    "#         self.val = x\n",
    "#         self.left = None\n",
    "#         self.right = None\n",
    "\n",
    "class Solution:\n",
    "    def lowestCommonAncestor(self, root: 'TreeNode', p: 'TreeNode', q: 'TreeNode') -> 'TreeNode':\n",
    "        def dfs(node, res, p, q):\n",
    "            if not node.left and not node.right:\n",
    "                res += str(node.val)\n",
    "\n",
    "                if p in res.split(','):\n",
    "                    val[0] = res.split(',')\n",
    "                if q in res.split(','):\n",
    "                    val[1] = res.split(',')\n",
    "                return\n",
    "            res += str(node.val) + ','\n",
    "            if node.left:\n",
    "                dfs(node.left, res, p, q)\n",
    "            if node.right:\n",
    "                dfs(node.right, res, p, q)\n",
    "        \n",
    "        val = [[],[]]\n",
    "        c = TreeNode()\n",
    "        pv = str(p.val)\n",
    "        qv = str(q.val)\n",
    "        if root:\n",
    "            dfs(root, '', pv, qv)\n",
    "        v1 = val[0]\n",
    "        v2 = val[1]\n",
    "        r1 = v1.index(pv)\n",
    "        r2 = v2.index(qv)\n",
    "        if v1 == v2:\n",
    "            c.val = int(v1[min(r1, r2)])\n",
    "        elif pv in v2:\n",
    "            c.val = int(v2[min(v2.index(pv), r2)])\n",
    "        elif qv in v1:\n",
    "            c.val = int(v1[min(r1, v1.index(qv))])\n",
    "        else:\n",
    "            val = 0\n",
    "            for r in range(min(r1, r2)):\n",
    "                if v1[r] == v2[r]:\n",
    "                    val = int(v1[r])\n",
    "                else:\n",
    "                    break\n",
    "            c.val = val\n",
    "        return c"
   ]
  }
 ],
 "metadata": {
  "kernelspec": {
   "display_name": "Python 3",
   "language": "python",
   "name": "python3"
  },
  "language_info": {
   "codemirror_mode": {
    "name": "ipython",
    "version": 3
   },
   "file_extension": ".py",
   "mimetype": "text/x-python",
   "name": "python",
   "nbconvert_exporter": "python",
   "pygments_lexer": "ipython3",
   "version": "3.7.4"
  }
 },
 "nbformat": 4,
 "nbformat_minor": 4
}
