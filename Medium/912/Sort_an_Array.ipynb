{
 "cells": [
  {
   "cell_type": "markdown",
   "metadata": {},
   "source": [
    "# 本題要實作一個sort方法來將list進行排序\n",
    "原題目連結: https://leetcode.com/problems/sort-an-array/  \n",
    "\n",
    "Given an array of integers nums, sort the array in ascending order.  \n",
    "\n",
    "範例:  \n",
    "Ex1:  \n",
    "Input: nums = [5,2,3,1]  \n",
    "Output: [1,2,3,5]  \n",
    "\n",
    "Ex2:  \n",
    "Input: nums = [5,1,1,2,0,0]  \n",
    "Output: [0,0,1,1,2,5]  "
   ]
  },
  {
   "cell_type": "markdown",
   "metadata": {},
   "source": [
    "* 解題想法:  \n",
    "雖然題目沒要求說用什麼方式來進行sort，這邊找了mergesort與heapsort來進行實作:  \n",
    "- mergesort: 首先建立一個merge的函數，將兩個list的數字進行排序，接著建立一個mergeSort的函數，主要就是將list切成小塊，然後傳送到merge裡進行排序，最後將排序後的list回傳就是答案  \n",
    "- heapsort: 首先將nums轉換為heapq，接著從heapq中逐個將數值取出放入list中就是答案"
   ]
  },
  {
   "cell_type": "code",
   "execution_count": null,
   "metadata": {},
   "outputs": [],
   "source": [
    "# MergeSort\n",
    "class Solution:\n",
    "    def sortArray(self, nums: List[int]) -> List[int]:\n",
    "        def merge(num1, num2):\n",
    "            result = []\n",
    "            while num1 and num2:\n",
    "                if num1[0] > num2[0]:\n",
    "                    result.append(num2.pop(0))\n",
    "                else:\n",
    "                    result.append(num1.pop(0))\n",
    "            if num1:\n",
    "                result += num1\n",
    "            if num2:\n",
    "                result += num2\n",
    "            return result\n",
    "        def mergeSort(nums):\n",
    "            if len(nums) < 2:\n",
    "                return nums\n",
    "            \n",
    "            m = len(nums) //2\n",
    "            left = nums[:m]\n",
    "            right = nums[m:]\n",
    "            return merge(mergeSort(left), mergeSort(right))\n",
    "        return mergeSort(nums)"
   ]
  },
  {
   "cell_type": "code",
   "execution_count": null,
   "metadata": {},
   "outputs": [],
   "source": [
    "# HeapSort\n",
    "import heapq\n",
    "class Solution:\n",
    "    def sortArray(self, nums: List[int]) -> List[int]:\n",
    "        heapq.heapify(nums)\n",
    "        result = []\n",
    "        while nums:\n",
    "            result.append(heapq.heappop(nums))\n",
    "        return result"
   ]
  }
 ],
 "metadata": {
  "kernelspec": {
   "display_name": "Python 3",
   "language": "python",
   "name": "python3"
  },
  "language_info": {
   "codemirror_mode": {
    "name": "ipython",
    "version": 3
   },
   "file_extension": ".py",
   "mimetype": "text/x-python",
   "name": "python",
   "nbconvert_exporter": "python",
   "pygments_lexer": "ipython3",
   "version": "3.7.4"
  }
 },
 "nbformat": 4,
 "nbformat_minor": 4
}
