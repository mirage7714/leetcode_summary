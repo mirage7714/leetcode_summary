{
 "cells": [
  {
   "cell_type": "markdown",
   "metadata": {},
   "source": [
    "# 本題要找出修改一個數字後可以得到最大的差值為何\n",
    "原題目連結: https://leetcode.com/problems/max-difference-you-can-get-from-changing-an-integer/  \n",
    "\n",
    "You are given an integer num. You will apply the following steps exactly two times:  \n",
    "\n",
    "Pick a digit x (0 <= x <= 9).  \n",
    "Pick another digit y (0 <= y <= 9). The digit y can be equal to x.  \n",
    "Replace all the occurrences of x in the decimal representation of num by y.  \n",
    "The new integer cannot have any leading zeros, also the new integer cannot be 0.  \n",
    "Let a and b be the results of applying the operations to num the first and second times, respectively.  \n",
    "\n",
    "Return the max difference between a and b.  \n",
    "\n",
    "範例:  \n",
    "Ex1:    \n",
    "Input: num = 555  \n",
    "Output: 888  \n",
    "Explanation: The first time pick x = 5 and y = 9 and store the new integer in a.  \n",
    "The second time pick x = 5 and y = 1 and store the new integer in b.  \n",
    "We have now a = 999 and b = 111 and max difference = 888  \n",
    "\n",
    "Ex2:  \n",
    "Input: num = 9  \n",
    "Output: 8  \n",
    "Explanation: The first time pick x = 9 and y = 9 and store the new integer in a.  \n",
    "The second time pick x = 9 and y = 1 and store the new integer in b.  \n",
    "We have now a = 9 and b = 1 and max difference = 8"
   ]
  },
  {
   "cell_type": "markdown",
   "metadata": {},
   "source": [
    "* 解題想法:  \n",
    "對大數來說，只要將前面出現的非9的數字改成9，就是最大值了，而小數則需檢查是否為第一個數字，如果第一個數字不為1，則修改為1，如果為第二位以上的數字，不為0且與第一個數字不相同，則修改為0，如果最後都沒有修改任何數字，則代表原本的數字已經是最小值了"
   ]
  },
  {
   "cell_type": "code",
   "execution_count": null,
   "metadata": {},
   "outputs": [],
   "source": [
    "class Solution:\n",
    "    def maxDiff(self, num: int) -> int:\n",
    "        def replaceDigits(num, o, r):\n",
    "            n = ''\n",
    "            for l in num:\n",
    "                if l == o:\n",
    "                    n += str(r)\n",
    "                else:\n",
    "                    n += l\n",
    "            return int(n)\n",
    "        x = 0\n",
    "        y = 0\n",
    "        digits = []\n",
    "        for n in str(num):\n",
    "            digits.append(n)\n",
    "        if len(digits) > 1:\n",
    "            for d in range(len(digits)):\n",
    "                if y == 0:\n",
    "                    if digits[d] != '9':\n",
    "                        y = replaceDigits(digits, digits[d], 9)\n",
    "                if x == 0:\n",
    "                    if d == 0:\n",
    "                        if digits[d] != '1':\n",
    "                            x = replaceDigits(digits, digits[d], 1)\n",
    "                    else:\n",
    "                        if digits[d] != digits[0]:\n",
    "                            if digits[d] != '0':\n",
    "                                x = replaceDigits(digits, digits[d], 0)\n",
    "                if x != 0 and y != 0:\n",
    "                    break\n",
    "        else:\n",
    "            x = 1\n",
    "            y = 9\n",
    "        if x == 0:\n",
    "            x = num\n",
    "        if y == 0:\n",
    "            y = num\n",
    "        return y - x"
   ]
  }
 ],
 "metadata": {
  "kernelspec": {
   "display_name": "Python 3",
   "language": "python",
   "name": "python3"
  },
  "language_info": {
   "codemirror_mode": {
    "name": "ipython",
    "version": 3
   },
   "file_extension": ".py",
   "mimetype": "text/x-python",
   "name": "python",
   "nbconvert_exporter": "python",
   "pygments_lexer": "ipython3",
   "version": "3.7.4"
  }
 },
 "nbformat": 4,
 "nbformat_minor": 4
}
