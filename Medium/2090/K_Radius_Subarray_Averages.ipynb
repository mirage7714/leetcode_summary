{
 "cells": [
  {
   "cell_type": "markdown",
   "metadata": {},
   "source": [
    "# 本題要找出在list中，半徑為k的sublist平均為多少\n",
    "原題目連結: https://leetcode.com/problems/k-radius-subarray-averages/  \n",
    "\n",
    "You are given a 0-indexed array nums of n integers, and an integer k.  \n",
    "The k-radius average for a subarray of nums centered at some index i with the radius k is the average of all elements in nums between the indices i - k and i + k (inclusive). If there are less than k elements before or after the index i, then the k-radius average is -1.  \n",
    "Build and return an array avgs of length n where avgs[i] is the k-radius average for the subarray centered at index i.  \n",
    "The average of x elements is the sum of the x elements divided by x, using integer division. The integer division truncates toward zero, which means losing its fractional part.  \n",
    "\n",
    "For example, the average of four elements 2, 3, 1, and 5 is (2 + 3 + 1 + 5) / 4 = 11 / 4 = 2.75, which truncates to 2.  \n",
    "\n",
    "範例:  \n",
    "Ex1:  \n",
    "Input: nums = [7,4,3,9,1,8,5,2,6], k = 3   \n",
    "Output: [-1,-1,-1,5,4,4,-1,-1,-1]  \n",
    "Explanation:  \n",
    "- avg[0], avg[1], and avg[2] are -1 because there are less than k elements before each index.  \n",
    "- The sum of the subarray centered at index 3 with radius 3 is: 7 + 4 + 3 + 9 + 1 + 8 + 5 = 37.  \n",
    "  Using integer division, avg[3] = 37 / 7 = 5.  \n",
    "- For the subarray centered at index 4, avg[4] = (4 + 3 + 9 + 1 + 8 + 5 + 2) / 7 = 4.  \n",
    "- For the subarray centered at index 5, avg[5] = (3 + 9 + 1 + 8 + 5 + 2 + 6) / 7 = 4.  \n",
    "- avg[6], avg[7], and avg[8] are -1 because there are less than k elements after each index.  \n",
    "\n",
    "Ex2:  \n",
    "Input: nums = [100000], k = 0  \n",
    "Output: [100000]  \n",
    "Explanation:  \n",
    "- The sum of the subarray centered at index 0 with radius 0 is: 100000.  \n",
    "  avg[0] = 100000 / 1 = 100000.  \n",
    "  \n",
    "Ex3:  \n",
    "Input: nums = [8], k = 100000  \n",
    "Output: [-1]  \n",
    "Explanation:   \n",
    "- avg[0] is -1 because there are less than k elements before and after index 0."
   ]
  },
  {
   "cell_type": "markdown",
   "metadata": {},
   "source": [
    "* 解題想法:  \n",
    "與No.643有點相似，只是這題的window大小為2\\*k+1，首先建立一個長度與nums相同的list，並把中間用-1填滿，接著開始找出起始值，如果當nums長度大於或等於2\\*k+1，代表可以找出第一個起始值，並把平均值找出後放入結果中，另外如果k=0時，也可以進行計算，接著用迴圈從k+1開始進行更新，直到sublist長度小於2\\*k+1時，最後回傳結果"
   ]
  },
  {
   "cell_type": "code",
   "execution_count": null,
   "metadata": {},
   "outputs": [],
   "source": [
    "class Solution:\n",
    "    def getAverages(self, nums: List[int], k: int) -> List[int]:\n",
    "        result = [-1] * len(nums)\n",
    "        start = 0\n",
    "        if len(nums) >= 2 * k + 1 or k == 0: \n",
    "            for n in range(k*2 + 1):\n",
    "                start += nums[n]\n",
    "            result[k] = start // (2*k+1)\n",
    "            for m in range(k+1, len(nums)-k):\n",
    "                start += nums[m + k]\n",
    "                start -= nums[m - k-1]\n",
    "                result[m] = start // (2*k+1)\n",
    "        return result"
   ]
  }
 ],
 "metadata": {
  "kernelspec": {
   "display_name": "Python 3",
   "language": "python",
   "name": "python3"
  },
  "language_info": {
   "codemirror_mode": {
    "name": "ipython",
    "version": 3
   },
   "file_extension": ".py",
   "mimetype": "text/x-python",
   "name": "python",
   "nbconvert_exporter": "python",
   "pygments_lexer": "ipython3",
   "version": "3.7.4"
  }
 },
 "nbformat": 4,
 "nbformat_minor": 4
}
