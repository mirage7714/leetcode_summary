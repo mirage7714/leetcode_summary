{
 "cells": [
  {
   "cell_type": "markdown",
   "id": "7451638d-1241-4574-b396-3a0c3ea7e45e",
   "metadata": {},
   "source": [
    "# 本題要找出指定的範圍內兩數總和不為K的list總和最小為多少 (\\#Array )\n",
    "原題目連結: https://leetcode.com/problems/determine-the-minimum-sum-of-a-k-avoiding-array/description/  \n",
    "\n",
    "You are given two integers, n and k.  \n",
    "An array of distinct positive integers is called a k-avoiding array if there does not exist any pair of distinct elements that sum to k.  \n",
    "Return the minimum possible sum of a k-avoiding array of length n.  \n",
    "\n",
    "範例:  \n",
    "Ex1:  \n",
    "Input: n = 5, k = 4  \n",
    "Output: 18  \n",
    "Explanation: Consider the k-avoiding array [1,2,4,5,6], which has a sum of 18.  \n",
    "It can be proven that there is no k-avoiding array with a sum less than 18.  \n",
    "\n",
    "Ex2:  \n",
    "Input: n = 2, k = 6  \n",
    "Output: 3  \n",
    "Explanation: We can construct the array [1,2], which has a sum of 3.  \n",
    "It can be proven that there is no k-avoiding array with a sum less than 3."
   ]
  },
  {
   "cell_type": "markdown",
   "id": "00c9c47b-bb37-43dd-b25f-d1714ea51318",
   "metadata": {},
   "source": [
    "* 解題想法:  \n",
    "首先用一個list作為暫存，接著用while迴圈來進行走訪，當i小於目標k時，如果i不在暫存中則將k-i放入暫存中，如果i在暫存中則跳過，當i大於等於k時則直接將i加總到總和中，最後回傳總和就是答案"
   ]
  },
  {
   "cell_type": "code",
   "execution_count": null,
   "id": "7883d631-27a5-40ec-bc6e-c800da298a58",
   "metadata": {},
   "outputs": [],
   "source": [
    "class Solution:\n",
    "    def minimumSum(self, n: int, k: int) -> int:\n",
    "        res = 0\n",
    "        avoid = []\n",
    "        i = 1\n",
    "        while n > 0:\n",
    "            if i not in avoid and i < k:\n",
    "                res += i\n",
    "                avoid.append(k-i)\n",
    "            elif i in avoid:\n",
    "                i += 1\n",
    "                continue\n",
    "            else:\n",
    "                res += i\n",
    "            n -= 1\n",
    "            i += 1\n",
    "        return res"
   ]
  }
 ],
 "metadata": {
  "kernelspec": {
   "display_name": "Python 3 (ipykernel)",
   "language": "python",
   "name": "python3"
  },
  "language_info": {
   "codemirror_mode": {
    "name": "ipython",
    "version": 3
   },
   "file_extension": ".py",
   "mimetype": "text/x-python",
   "name": "python",
   "nbconvert_exporter": "python",
   "pygments_lexer": "ipython3",
   "version": "3.9.13"
  }
 },
 "nbformat": 4,
 "nbformat_minor": 5
}
