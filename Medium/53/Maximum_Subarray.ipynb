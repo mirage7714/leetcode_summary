{
 "cells": [
  {
   "cell_type": "markdown",
   "metadata": {},
   "source": [
    "# 本題要找出sub list最大和為多少\n",
    "原題目連結: https://leetcode.com/problems/maximum-subarray/  \n",
    "\n",
    "Given an integer array nums, find the contiguous subarray (containing at least one number) which has the largest sum and return its sum.  \n",
    "A subarray is a contiguous part of an array.  \n",
    "\n",
    "範例:  \n",
    "Ex1:  \n",
    "Input: nums = [-2,1,-3,4,-1,2,1,-5,4]  \n",
    "Output: 6  \n",
    "Explanation: [4,-1,2,1] has the largest sum = 6.  \n",
    "\n",
    "Ex2:  \n",
    "Input: nums = [1]  \n",
    "Output: 1  \n",
    "\n",
    "Ex3:  \n",
    "Input: nums = [5,4,-1,7,8]  \n",
    "Output: 23"
   ]
  },
  {
   "cell_type": "markdown",
   "metadata": {},
   "source": [
    "* 解題想法:  \n",
    "首先檢查nums的長度是否有大於1，如果等於1的話，則和就是nums[0]的值，接著開始檢查長度大於1的情況，使用另一個變數cur_max來做為目前最大值，如果cur_max小於0的情況，則取cur_max與n的最大值，如果cur_max大於0的情況，則繼續加上n，最後檢查目前最大值是否有比全部的最大值來的大，如果有的話則更新最大值，最後回傳最大值"
   ]
  },
  {
   "cell_type": "code",
   "execution_count": null,
   "metadata": {},
   "outputs": [],
   "source": [
    "class Solution:\n",
    "    def maxSubArray(self, nums: List[int]) -> int:\n",
    "        result = nums[0]\n",
    "        if len(nums) > 1:\n",
    "            cur_max = 0\n",
    "            for n in nums:\n",
    "                if cur_max < 0:\n",
    "                    cur_max = max(cur_max, n)\n",
    "                else:\n",
    "                    cur_max += n\n",
    "                if result < cur_max:\n",
    "                    result = cur_max\n",
    "        return result"
   ]
  }
 ],
 "metadata": {
  "kernelspec": {
   "display_name": "Python 3",
   "language": "python",
   "name": "python3"
  },
  "language_info": {
   "codemirror_mode": {
    "name": "ipython",
    "version": 3
   },
   "file_extension": ".py",
   "mimetype": "text/x-python",
   "name": "python",
   "nbconvert_exporter": "python",
   "pygments_lexer": "ipython3",
   "version": "3.7.4"
  }
 },
 "nbformat": 4,
 "nbformat_minor": 4
}
