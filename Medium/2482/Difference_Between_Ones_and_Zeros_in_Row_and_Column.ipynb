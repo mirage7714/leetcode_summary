{
 "cells": [
  {
   "cell_type": "markdown",
   "id": "fe663b47-cb3a-4067-9a69-65f057ddc6de",
   "metadata": {},
   "source": [
    "# 本題要找出該行跟該列的0與1總和的差距 (\\#Array, \\#Matrix)\n",
    "原題目連結: https://leetcode.com/problems/difference-between-ones-and-zeros-in-row-and-column/description/  \n",
    "\n",
    "You are given a 0-indexed m x n binary matrix grid.  \n",
    "A 0-indexed m x n difference matrix diff is created with the following procedure:  \n",
    "\n",
    "Let the number of ones in the ith row be onesRowi.  \n",
    "Let the number of ones in the jth column be onesColj.  \n",
    "Let the number of zeros in the ith row be zerosRowi.  \n",
    "Let the number of zeros in the jth column be zerosColj.  \n",
    "diff[i][j] = onesRowi + onesColj - zerosRowi - zerosColj  \n",
    "Return the difference matrix diff.  \n",
    "\n",
    "範例:  \n",
    "Ex1:   \n",
    "Input: grid = [[0,1,1],[1,0,1],[0,0,1]]  \n",
    "Output: [[0,0,4],[0,0,4],[-2,-2,2]]  \n",
    "Explanation:  \n",
    "- diff[0][0] = onesRow0 + onesCol0 - zerosRow0 - zerosCol0 = 2 + 1 - 1 - 2 = 0   \n",
    "- diff[0][1] = onesRow0 + onesCol1 - zerosRow0 - zerosCol1 = 2 + 1 - 1 - 2 = 0   \n",
    "- diff[0][2] = onesRow0 + onesCol2 - zerosRow0 - zerosCol2 = 2 + 3 - 1 - 0 = 4    \n",
    "- diff[1][0] = onesRow1 + onesCol0 - zerosRow1 - zerosCol0 = 2 + 1 - 1 - 2 = 0   \n",
    "- diff[1][1] = onesRow1 + onesCol1 - zerosRow1 - zerosCol1 = 2 + 1 - 1 - 2 = 0    \n",
    "- diff[1][2] = onesRow1 + onesCol2 - zerosRow1 - zerosCol2 = 2 + 3 - 1 - 0 = 4   \n",
    "- diff[2][0] = onesRow2 + onesCol0 - zerosRow2 - zerosCol0 = 1 + 1 - 2 - 2 = -2  \n",
    "- diff[2][1] = onesRow2 + onesCol1 - zerosRow2 - zerosCol1 = 1 + 1 - 2 - 2 = -2  \n",
    "- diff[2][2] = onesRow2 + onesCol2 - zerosRow2 - zerosCol2 = 1 + 3 - 2 - 0 = 2  \n",
    "\n",
    "Ex2:  \n",
    "Input: grid = [[1,1,1],[1,1,1]]  \n",
    "Output: [[5,5,5],[5,5,5]]  \n",
    "Explanation:  \n",
    "- diff[0][0] = onesRow0 + onesCol0 - zerosRow0 - zerosCol0 = 3 + 2 - 0 - 0 = 5  \n",
    "- diff[0][1] = onesRow0 + onesCol1 - zerosRow0 - zerosCol1 = 3 + 2 - 0 - 0 = 5  \n",
    "- diff[0][2] = onesRow0 + onesCol2 - zerosRow0 - zerosCol2 = 3 + 2 - 0 - 0 = 5  \n",
    "- diff[1][0] = onesRow1 + onesCol0 - zerosRow1 - zerosCol0 = 3 + 2 - 0 - 0 = 5  \n",
    "- diff[1][1] = onesRow1 + onesCol1 - zerosRow1 - zerosCol1 = 3 + 2 - 0 - 0 = 5  \n",
    "- diff[1][2] = onesRow1 + onesCol2 - zerosRow1 - zerosCol2 = 3 + 2 - 0 - 0 = 5  "
   ]
  },
  {
   "cell_type": "markdown",
   "id": "59fc74f1-e143-4a65-87ca-525e6a474193",
   "metadata": {},
   "source": [
    "* 解題想法:  \n",
    "首先找出該行與該列的0與1總和，接著用行與列的index來找出該位置的總和為多少，並放入list中，最後回傳新的matrix就是答案"
   ]
  },
  {
   "cell_type": "code",
   "execution_count": null,
   "id": "fd931109-4f4a-4cc3-8a44-b76ddf39c47c",
   "metadata": {},
   "outputs": [],
   "source": [
    "class Solution:\n",
    "    def onesMinusZeros(self, grid: List[List[int]]) -> List[List[int]]:\n",
    "        r = []\n",
    "        c = [0 for i in grid[0]]\n",
    "        res = []\n",
    "        for m in range(len(grid)):\n",
    "            t = 0\n",
    "            for i in range(len(grid[m])):\n",
    "                if grid[m][i] == 1:\n",
    "                    t += 1\n",
    "                    c[i] += 1\n",
    "                else:\n",
    "                    t -= 1\n",
    "                    c[i] -= 1\n",
    "            r.append(t)\n",
    "        for i in range(len(grid)):\n",
    "            t = []\n",
    "            for j in range(len(grid[0])):\n",
    "                t.append(r[i] + c[j])\n",
    "            res.append(t)\n",
    "        return res"
   ]
  }
 ],
 "metadata": {
  "kernelspec": {
   "display_name": "Python 3 (ipykernel)",
   "language": "python",
   "name": "python3"
  },
  "language_info": {
   "codemirror_mode": {
    "name": "ipython",
    "version": 3
   },
   "file_extension": ".py",
   "mimetype": "text/x-python",
   "name": "python",
   "nbconvert_exporter": "python",
   "pygments_lexer": "ipython3",
   "version": "3.9.13"
  }
 },
 "nbformat": 4,
 "nbformat_minor": 5
}
