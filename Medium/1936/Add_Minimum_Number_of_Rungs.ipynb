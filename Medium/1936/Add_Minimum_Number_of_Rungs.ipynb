{
 "cells": [
  {
   "cell_type": "markdown",
   "metadata": {},
   "source": [
    "# 本題要找出最少需要多少梯子才能到達所有的樓層\n",
    "原題目連結: https://leetcode.com/problems/add-minimum-number-of-rungs/  \n",
    "\n",
    "You are given a strictly increasing integer array rungs that represents the height of rungs on a ladder. You are currently on the floor at height 0, and you want to reach the last rung.  \n",
    "You are also given an integer dist. You can only climb to the next highest rung if the distance between where you are currently at (the floor or on a rung) and the next rung is at most dist. You are able to insert rungs at any positive integer height if a rung is not already there.  \n",
    "Return the minimum number of rungs that must be added to the ladder in order for you to climb to the last rung.  \n",
    "\n",
    "範例:  \n",
    "Ex1:  \n",
    "Input: rungs = [1,3,5,10], dist = 2  \n",
    "Output: 2  \n",
    "Explanation:  \n",
    "You currently cannot reach the last rung.  \n",
    "Add rungs at heights 7 and 8 to climb this ladder.   \n",
    "The ladder will now have rungs at [1,3,5,7,8,10].  \n",
    "\n",
    "Ex2:  \n",
    "Input: rungs = [3,6,8,10], dist = 3  \n",
    "Output: 0  \n",
    "Explanation:  \n",
    "This ladder can be climbed without adding additional rungs.  \n",
    "\n",
    "Ex3:  \n",
    "Input: rungs = [3,4,6,7], dist = 2  \n",
    "Output: 1  \n",
    "Explanation:  \n",
    "You currently cannot reach the first rung from the ground.  \n",
    "Add a rung at height 1 to climb this ladder.  \n",
    "The ladder will now have rungs at [1,3,4,6,7]."
   ]
  },
  {
   "cell_type": "markdown",
   "metadata": {},
   "source": [
    "* 解題想法:  \n",
    "首先建立一個初始值為0，接著開始從頭檢查list中的數值，如果當數值與初始值的差距大於dist時，則檢查這個差距是否有大於2 x dist，如果在這個範圍內，則將count+1，如果超過這範圍的話，則將count+1+(差距-2 x dist)/dist無條件進位，最後回傳count值"
   ]
  },
  {
   "cell_type": "code",
   "execution_count": null,
   "metadata": {},
   "outputs": [],
   "source": [
    "class Solution:\n",
    "    def addRungs(self, rungs: List[int], dist: int) -> int:\n",
    "        count = 0\n",
    "        temp = 0\n",
    "        for m in range(len(rungs)):\n",
    "            d = rungs[m] - temp\n",
    "            if d > dist and d <= 2 * dist:\n",
    "                count += 1\n",
    "            else:\n",
    "                count += 1 + math.ceil((d - 2 * dist)/ dist)\n",
    "            temp = rungs[m]\n",
    "        return count"
   ]
  }
 ],
 "metadata": {
  "kernelspec": {
   "display_name": "Python 3",
   "language": "python",
   "name": "python3"
  },
  "language_info": {
   "codemirror_mode": {
    "name": "ipython",
    "version": 3
   },
   "file_extension": ".py",
   "mimetype": "text/x-python",
   "name": "python",
   "nbconvert_exporter": "python",
   "pygments_lexer": "ipython3",
   "version": "3.7.4"
  }
 },
 "nbformat": 4,
 "nbformat_minor": 4
}
