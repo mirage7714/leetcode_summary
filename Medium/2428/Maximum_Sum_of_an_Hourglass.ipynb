{
 "cells": [
  {
   "cell_type": "markdown",
   "metadata": {},
   "source": [
    "# 本題要找出在2D list中，最大的和為多少 (\\#Array, \\#Matrix)\n",
    "原題目連結: https://leetcode.com/problems/maximum-sum-of-an-hourglass/  \n",
    "\n",
    "You are given an m x n integer matrix grid.  \n",
    "We define an hourglass as a part of the matrix with the following form:  \n",
    "Return the maximum sum of the elements of an hourglass.  \n",
    "\n",
    "Note that an hourglass cannot be rotated and must be entirely contained within the matrix.  \n",
    "\n",
    "範例:  \n",
    "Ex1:  \n",
    "Input: grid = [[6,2,1,3],[4,2,1,5],[9,2,8,7],[4,1,2,9]]  \n",
    "Output: 30  \n",
    "Explanation: The cells shown above represent the hourglass with the maximum sum: 6 + 2 + 1 + 2 + 9 + 2 + 8 = 30.  \n",
    "\n",
    "Ex2:  \n",
    "Input: grid = [[1,2,3],[4,5,6],[7,8,9]]  \n",
    "Output: 35  \n",
    "Explanation: There is only one hourglass in the matrix, with the sum: 1 + 2 + 3 + 5 + 7 + 8 + 9 = 35."
   ]
  },
  {
   "cell_type": "markdown",
   "metadata": {},
   "source": [
    "* 解題想法:  \n",
    "首先找出第一組的數值為多少，接著開始進行橫移，在橫移時減去最前面的值並放入最新的值，最後跟目前的最大值相比並更新目前的最大值"
   ]
  },
  {
   "cell_type": "code",
   "execution_count": null,
   "metadata": {},
   "outputs": [],
   "source": [
    "class Solution:\n",
    "    def maxSum(self, grid: List[List[int]]) -> int:\n",
    "        result = 0\n",
    "        for m in range(len(grid)-2):\n",
    "            h1 = 0\n",
    "            h2 = 0\n",
    "            temp = 0\n",
    "            for n in range(2, len(grid[0])):\n",
    "                if not h1:\n",
    "                    h1 = grid[m][n-2] + grid[m][n-1] + grid[m][n]\n",
    "                    h2 = grid[m+2][n-2] + grid[m+2][n-1] + grid[m+2][n]\n",
    "                else:\n",
    "                    h1 = h1 - grid[m][n-3] + grid[m][n]\n",
    "                    h2 = h2 - grid[m+2][n-3] + grid[m+2][n]\n",
    "                temp = h1 + h2 + grid[m+1][n-1]\n",
    "                result = max(temp, result)\n",
    "        return result"
   ]
  }
 ],
 "metadata": {
  "kernelspec": {
   "display_name": "Python 3",
   "language": "python",
   "name": "python3"
  },
  "language_info": {
   "codemirror_mode": {
    "name": "ipython",
    "version": 3
   },
   "file_extension": ".py",
   "mimetype": "text/x-python",
   "name": "python",
   "nbconvert_exporter": "python",
   "pygments_lexer": "ipython3",
   "version": "3.7.4"
  }
 },
 "nbformat": 4,
 "nbformat_minor": 4
}
