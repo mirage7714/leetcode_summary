{
 "cells": [
  {
   "cell_type": "markdown",
   "metadata": {},
   "source": [
    "# 本題要找出有出現兩個相同數值的最小長度為多少\n",
    "原題目連結: https://leetcode.com/problems/minimum-consecutive-cards-to-pick-up/  \n",
    "\n",
    "You are given an integer array cards where cards[i] represents the value of the ith card. A pair of cards are matching if the cards have the same value.   \n",
    "Return the minimum number of consecutive cards you have to pick up to have a pair of matching cards among the picked cards. If it is impossible to have matching cards, return -1  \n",
    "\n",
    "範例:  \n",
    "Ex1:  \n",
    "Input: cards = [3,4,2,3,4,7]  \n",
    "Output: 4  \n",
    "Explanation: We can pick up the cards [3,4,2,3] which contain a matching pair of cards with value 3. Note that picking up the cards [4,2,3,4] is also optimal.  \n",
    "\n",
    "Ex2:  \n",
    "Input: cards = [1,0,5,3]  \n",
    "Output: -1  \n",
    "Explanation: There is no way to pick up a set of consecutive cards that contain a pair of matching cards."
   ]
  },
  {
   "cell_type": "markdown",
   "metadata": {},
   "source": [
    "* 解題想法:  \n",
    "首先建立一個dict來存放每個數字出現的頻率，接著開始分析每個數字，如果該數字出現次數超過三次，則找出每兩個相同數字間的長度為多少並找出該數字的最小值，並與其他數字相比之後找出最小的值為多少"
   ]
  },
  {
   "cell_type": "code",
   "execution_count": null,
   "metadata": {},
   "outputs": [],
   "source": [
    "class Solution:\n",
    "    def minimumCardPickup(self, cards: List[int]) -> int:\n",
    "        freq = {}\n",
    "        result = -1\n",
    "        for m in range(len(cards)):\n",
    "            if cards[m] not in freq.keys():\n",
    "                freq[cards[m]] = [m]\n",
    "            else:\n",
    "                freq[cards[m]].append(m)\n",
    "        for key, val in freq.items():\n",
    "            if len(val) > 1:\n",
    "                temp = val[1] - val[0] + 1\n",
    "                for m in range(1, len(val)-1):\n",
    "                    d = val[m+1] - val[m] +1\n",
    "                    if d < temp:\n",
    "                        temp = d\n",
    "                if result == -1:\n",
    "                    result = temp\n",
    "                else:\n",
    "                    if result > temp:\n",
    "                        result = temp\n",
    "        return result"
   ]
  }
 ],
 "metadata": {
  "kernelspec": {
   "display_name": "Python 3",
   "language": "python",
   "name": "python3"
  },
  "language_info": {
   "codemirror_mode": {
    "name": "ipython",
    "version": 3
   },
   "file_extension": ".py",
   "mimetype": "text/x-python",
   "name": "python",
   "nbconvert_exporter": "python",
   "pygments_lexer": "ipython3",
   "version": "3.7.4"
  }
 },
 "nbformat": 4,
 "nbformat_minor": 4
}
