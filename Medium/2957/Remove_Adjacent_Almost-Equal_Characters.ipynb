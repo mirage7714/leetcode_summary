{
 "cells": [
  {
   "cell_type": "markdown",
   "id": "78ce0d47-7c4e-41b5-8900-c8ecc864f388",
   "metadata": {},
   "source": [
    "# 本題要找出最少要移除多少相近字 (\\#String )\n",
    "原題目連結: https://leetcode.com/problems/remove-adjacent-almost-equal-characters/description/  \n",
    "\n",
    "You are given a 0-indexed string word.  \n",
    "In one operation, you can pick any index i of word and change word[i] to any lowercase English letter.  \n",
    "Return the minimum number of operations needed to remove all adjacent almost-equal characters from word.  \n",
    "Two characters a and b are almost-equal if a == b or a and b are adjacent in the alphabet.  \n",
    "\n",
    "範例:  \n",
    "Ex1:  \n",
    "Input: word = \"aaaaa\"  \n",
    "Output: 2  \n",
    "Explanation: We can change word into \"acaca\" which does not have any adjacent almost-equal characters.  \n",
    "It can be shown that the minimum number of operations needed to remove all adjacent almost-equal characters from word is 2.  \n",
    "\n",
    "Ex2:  \n",
    "Input: word = \"abddez\"  \n",
    "Output: 2  \n",
    "Explanation: We can change word into \"ybdoez\" which does not have any adjacent almost-equal characters.  \n",
    "It can be shown that the minimum number of operations needed to remove all adjacent almost-equal characters from word is 2.  \n",
    "\n",
    "Ex3:  \n",
    "Input: word = \"zyxyxyz\"  \n",
    "Output: 3  \n",
    "Explanation: We can change word into \"zaxaxaz\" which does not have any adjacent almost-equal characters.   \n",
    "It can be shown that the minimum number of operations needed to remove all adjacent almost-equal characters from word is 3."
   ]
  },
  {
   "cell_type": "markdown",
   "id": "fed77c3e-5fc8-40ea-adf0-fe91fc9ff966",
   "metadata": {},
   "source": [
    "* 解題想法:  \n",
    "首先用一個dict分別放入每一個字代表的值，並用一個bool來代表是否需要修改該字串，接著開始從頭進行檢查，如果當兩個字為相鄰或是相同時，則將次數+1，並更新bool值，如果兩個字不相臨時則回復bool值，最後回傳需要修改的次數就是答案"
   ]
  },
  {
   "cell_type": "code",
   "execution_count": null,
   "id": "9219b672-9f58-444c-ad99-b1bfb8d27beb",
   "metadata": {},
   "outputs": [],
   "source": [
    "class Solution:\n",
    "    def removeAlmostEqualCharacters(self, word: str) -> int:\n",
    "        res = 0\n",
    "        w = [i for i in word]\n",
    "        is_skipped = False\n",
    "        chars = {'a':0, 'b':1,'c':2,'d':3,'e':4,'f':5,'g':6,'h':7,'i':8,'j':9,'k':10,'l':11,'m':12,'n':13,'o':14,'p':15,'q':16,'r':17,'s':18,'t':19,'u':20,'v':21,'w':22,'x':23,'y':24,'z':25}\n",
    "        for i in range(1, len(w)): \n",
    "            if abs(chars[w[i]] - chars[w[i-1]]) <= 1:\n",
    "                if not is_skipped:\n",
    "                    res += 1\n",
    "                    is_skipped = True\n",
    "                else:\n",
    "                    is_skipped = False\n",
    "            else:\n",
    "                is_skipped = False\n",
    "        return res"
   ]
  }
 ],
 "metadata": {
  "kernelspec": {
   "display_name": "Python 3 (ipykernel)",
   "language": "python",
   "name": "python3"
  },
  "language_info": {
   "codemirror_mode": {
    "name": "ipython",
    "version": 3
   },
   "file_extension": ".py",
   "mimetype": "text/x-python",
   "name": "python",
   "nbconvert_exporter": "python",
   "pygments_lexer": "ipython3",
   "version": "3.9.13"
  }
 },
 "nbformat": 4,
 "nbformat_minor": 5
}
