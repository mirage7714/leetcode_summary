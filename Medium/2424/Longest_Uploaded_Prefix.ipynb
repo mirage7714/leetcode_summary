{
 "cells": [
  {
   "cell_type": "markdown",
   "id": "66554201-f86d-41fb-99c8-9a96349a8a9c",
   "metadata": {},
   "source": [
    "# 本題要設計一個可以找出最長prefix為多少的系統 (\\#Array, \\#Heap)\n",
    "原題目連結: https://leetcode.com/problems/longest-uploaded-prefix/description/  \n",
    "\n",
    "You are given a stream of n videos, each represented by a distinct number from 1 to n that you need to \"upload\" to a server. You need to implement a data structure that calculates the length of the longest uploaded prefix at various points in the upload process.  \n",
    "\n",
    "We consider i to be an uploaded prefix if all videos in the range 1 to i (inclusive) have been uploaded to the server. The longest uploaded prefix is the maximum value of i that satisfies this definition.  \n",
    "\n",
    "Implement the LUPrefix class:  \n",
    "\n",
    "LUPrefix(int n) Initializes the object for a stream of n videos.  \n",
    "void upload(int video) Uploads video to the server.  \n",
    "int longest() Returns the length of the longest uploaded prefix defined above.  \n",
    "\n",
    "範例:  \n",
    "Ex1:  \n",
    "Input  \n",
    "[\"LUPrefix\", \"upload\", \"longest\", \"upload\", \"longest\", \"upload\", \"longest\"]  \n",
    "[[4], [3], [], [1], [], [2], []]  \n",
    "Output  \n",
    "[null, null, 0, null, 1, null, 3]  \n",
    "\n",
    "Explanation  \n",
    "LUPrefix server = new LUPrefix(4);   // Initialize a stream of 4 videos.  \n",
    "server.upload(3);                    // Upload video 3.  \n",
    "server.longest();                    // Since video 1 has not been uploaded yet, there is no prefix.  \n",
    "                                     // So, we return 0.  \n",
    "server.upload(1);                    // Upload video 1.  \n",
    "server.longest();                    // The prefix [1] is the longest uploaded prefix, so we return 1.  \n",
    "server.upload(2);                    // Upload video 2.  \n",
    "server.longest();                    // The prefix [1,2,3] is the longest uploaded prefix, so we return 3.  "
   ]
  },
  {
   "cell_type": "markdown",
   "id": "dd08974d-b446-43d2-ac26-5ee81b69326c",
   "metadata": {},
   "source": [
    "* 解題想法:  \n",
    "- LUPrefix(): 首先用一個list來存放目前的順序，並用另一個heap來存放已經出現但不符合順序的數字  \n",
    "- upload(): 如果出現的數字符合目前順序的最後一個，則將數字放入順序中，否則就放入heap中，接著如果heap不為空且順序不為空的情況，則檢查heap中的值是否符合目前的順序，如果不符合則放回heap後中斷迴圈  \n",
    "- longest(): 回傳順序list的長度"
   ]
  },
  {
   "cell_type": "code",
   "execution_count": null,
   "id": "2e2ce754-07b7-4261-ac4a-741823aa3cdb",
   "metadata": {},
   "outputs": [],
   "source": [
    "import heapq\n",
    "\n",
    "class LUPrefix:\n",
    "\n",
    "    def __init__(self, n: int):\n",
    "        self.temp = []\n",
    "        self.order = []\n",
    "        heapq.heapify(self.temp)\n",
    "\n",
    "    def upload(self, video: int) -> None:\n",
    "        if not self.order:\n",
    "            if video == 1:\n",
    "                self.order.append(video)\n",
    "            else:\n",
    "                heapq.heappush(self.temp, video)\n",
    "        else:\n",
    "            if self.order[-1] + 1 == video:\n",
    "                self.order.append(video)\n",
    "            else:\n",
    "                heapq.heappush(self.temp, video)\n",
    "        while self.temp and self.order:\n",
    "            n = heapq.heappop(self.temp)\n",
    "            if self.order[-1] + 1 == n:\n",
    "                self.order.append(n)\n",
    "            else:\n",
    "                heapq.heappush(self.temp, n)\n",
    "                break\n",
    "    def longest(self) -> int:\n",
    "        return len(self.order)\n",
    "\n",
    "\n",
    "# Your LUPrefix object will be instantiated and called as such:\n",
    "# obj = LUPrefix(n)\n",
    "# obj.upload(video)\n",
    "# param_2 = obj.longest()"
   ]
  }
 ],
 "metadata": {
  "kernelspec": {
   "display_name": "Python 3 (ipykernel)",
   "language": "python",
   "name": "python3"
  },
  "language_info": {
   "codemirror_mode": {
    "name": "ipython",
    "version": 3
   },
   "file_extension": ".py",
   "mimetype": "text/x-python",
   "name": "python",
   "nbconvert_exporter": "python",
   "pygments_lexer": "ipython3",
   "version": "3.9.13"
  }
 },
 "nbformat": 4,
 "nbformat_minor": 5
}
