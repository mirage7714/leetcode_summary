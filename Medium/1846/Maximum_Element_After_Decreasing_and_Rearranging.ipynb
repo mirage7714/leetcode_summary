{
 "cells": [
  {
   "cell_type": "markdown",
   "metadata": {},
   "source": [
    "# 本題要找出經過修改之後的list最大值為何\n",
    "原題目連結: https://leetcode.com/problems/maximum-element-after-decreasing-and-rearranging/  \n",
    "\n",
    "You are given an array of positive integers arr. Perform some operations (possibly none) on arr so that it satisfies these conditions:  \n",
    "\n",
    "The value of the first element in arr must be 1.  \n",
    "The absolute difference between any 2 adjacent elements must be less than or equal to 1. In other words, abs(arr[i] - arr[i - 1]) <= 1 for each i where 1 <= i < arr.length (0-indexed). abs(x) is the absolute value of x.  \n",
    "There are 2 types of operations that you can perform any number of times:  \n",
    "\n",
    "Decrease the value of any element of arr to a smaller positive integer.  \n",
    "Rearrange the elements of arr to be in any order.  \n",
    "Return the maximum possible value of an element in arr after performing the operations to satisfy the conditions.  \n",
    "\n",
    "範例:  \n",
    "Ex1:  \n",
    "Input: arr = [2,2,1,2,1]  \n",
    "Output: 2  \n",
    "Explanation:   \n",
    "We can satisfy the conditions by rearranging arr so it becomes [1,2,2,2,1].  \n",
    "The largest element in arr is 2.  \n",
    "\n",
    "Ex2:  \n",
    "Input: arr = [100,1,1000]  \n",
    "Output: 3  \n",
    "Explanation:   \n",
    "One possible way to satisfy the conditions is by doing the following:  \n",
    "1. Rearrange arr so it becomes [1,100,1000].  \n",
    "2. Decrease the value of the second element to 2.  \n",
    "3. Decrease the value of the third element to 3.  \n",
    "Now arr = [1,2,3], which satisfies the conditions.  \n",
    "The largest element in arr is 3.  \n",
    "\n",
    "Ex3: \n",
    "Input: arr = [1,2,3,4,5]  \n",
    "Output: 5  \n",
    "Explanation: The array already satisfies the conditions, and the largest element is 5."
   ]
  },
  {
   "cell_type": "markdown",
   "metadata": {},
   "source": [
    "* 解題想法:  \n",
    "依題目說明，首先將list重新進行排序，接著檢查第一個元件是否為1，如果不是則修改為1，接著從第二個開始檢查，如果與前一個元素的差異大於1的話，則修改為前一個元素加1，最後回傳list中的最大值"
   ]
  },
  {
   "cell_type": "code",
   "execution_count": null,
   "metadata": {},
   "outputs": [],
   "source": [
    "class Solution:\n",
    "    def maximumElementAfterDecrementingAndRearranging(self, arr: List[int]) -> int:\n",
    "        arr.sort()\n",
    "        i = 1\n",
    "        if arr[0] != 1:\n",
    "            arr[0] = 1\n",
    "        while i < len(arr):\n",
    "            if arr[i] - arr[i-1] > 1:\n",
    "                arr[i] = arr[i-1] + 1\n",
    "            i += 1\n",
    "        return max(arr)"
   ]
  }
 ],
 "metadata": {
  "kernelspec": {
   "display_name": "Python 3",
   "language": "python",
   "name": "python3"
  },
  "language_info": {
   "codemirror_mode": {
    "name": "ipython",
    "version": 3
   },
   "file_extension": ".py",
   "mimetype": "text/x-python",
   "name": "python",
   "nbconvert_exporter": "python",
   "pygments_lexer": "ipython3",
   "version": "3.7.4"
  }
 },
 "nbformat": 4,
 "nbformat_minor": 2
}
