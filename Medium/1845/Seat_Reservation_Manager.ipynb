{
 "cells": [
  {
   "cell_type": "markdown",
   "metadata": {},
   "source": [
    "# 本題要設計一個訂位系統，並完成指定的功能\n",
    "原題目連結: https://leetcode.com/problems/seat-reservation-manager/  \n",
    "\n",
    "Design a system that manages the reservation state of n seats that are numbered from 1 to n.  \n",
    "\n",
    "Implement the SeatManager class:  \n",
    "\n",
    "SeatManager(int n) Initializes a SeatManager object that will manage n seats numbered from 1 to n. All seats are initially available.  \n",
    "int reserve() Fetches the smallest-numbered unreserved seat, reserves it, and returns its number.  \n",
    "void unreserve(int seatNumber) Unreserves the seat with the given seatNumber.  \n",
    "\n",
    "範例:  \n",
    "Ex1:  \n",
    "Input  \n",
    "[\"SeatManager\", \"reserve\", \"reserve\", \"unreserve\", \"reserve\", \"reserve\", \"reserve\", \"reserve\", \"unreserve\"]  \n",
    "[[5], [], [], [2], [], [], [], [], [5]]  \n",
    "Output  \n",
    "[null, 1, 2, null, 2, 3, 4, 5, null]  \n",
    "\n",
    "Explanation  \n",
    "SeatManager seatManager = new SeatManager(5); // Initializes a SeatManager with 5 seats.  \n",
    "seatManager.reserve();    // All seats are available, so return the lowest numbered seat, which is 1.  \n",
    "seatManager.reserve();    // The available seats are [2,3,4,5], so return the lowest of them, which is 2.  \n",
    "seatManager.unreserve(2); // Unreserve seat 2, so now the available seats are [2,3,4,5].  \n",
    "seatManager.reserve();    // The available seats are [2,3,4,5], so return the lowest of them, which is 2.  \n",
    "seatManager.reserve();    // The available seats are [3,4,5], so return the lowest of them, which is 3.  \n",
    "seatManager.reserve();    // The available seats are [4,5], so return the lowest of them, which is 4.  \n",
    "seatManager.reserve();    // The only available seat is seat 5, so return 5.  \n",
    "seatManager.unreserve(5); // Unreserve seat 5, so now the available seats are [5]."
   ]
  },
  {
   "cell_type": "markdown",
   "metadata": {},
   "source": [
    "* 解題想法:  \n",
    "由於題目要求要從最小的座位開始安排，因此建立一個list(cancel)用來存放取消的位置，另外建立一個int來存放目前訂位的數字為何，以及另一個常數是座位的最大上限  \n",
    "- reserve(): 先檢查cancel中是否有空位，如果有空位則從cancel中找出最小值來訂位，如果無則檢查目前座位數是否超過最大值，如果沒超過則回傳目前的訂位數字  \n",
    "- unreserve(): 先檢查這個座位是否已經完成訂位，如果是在訂位的紀錄中則將數字加入cancel中  "
   ]
  },
  {
   "cell_type": "code",
   "execution_count": null,
   "metadata": {},
   "outputs": [],
   "source": [
    "class SeatManager:\n",
    "\n",
    "    def __init__(self, n: int):\n",
    "        self.count = 0\n",
    "        self.max_limit = n\n",
    "        self.cancel = []\n",
    "    def reserve(self) -> int:\n",
    "        seat = 0\n",
    "        if len(self.cancel) > 0:\n",
    "            seat = min(self.cancel)\n",
    "            self.cancel.pop(self.cancel.index(seat))\n",
    "        else:\n",
    "            if self.count < self.max_limit:\n",
    "                self.count += 1\n",
    "                seat = self.count\n",
    "        return seat\n",
    "\n",
    "    def unreserve(self, seatNumber: int) -> None:\n",
    "        if seatNumber <= self.count:\n",
    "            self.cancel.append(seatNumber)\n",
    "\n",
    "\n",
    "# Your SeatManager object will be instantiated and called as such:\n",
    "# obj = SeatManager(n)\n",
    "# param_1 = obj.reserve()\n",
    "# obj.unreserve(seatNumber)"
   ]
  }
 ],
 "metadata": {
  "kernelspec": {
   "display_name": "Python 3",
   "language": "python",
   "name": "python3"
  },
  "language_info": {
   "codemirror_mode": {
    "name": "ipython",
    "version": 3
   },
   "file_extension": ".py",
   "mimetype": "text/x-python",
   "name": "python",
   "nbconvert_exporter": "python",
   "pygments_lexer": "ipython3",
   "version": "3.7.4"
  }
 },
 "nbformat": 4,
 "nbformat_minor": 4
}
