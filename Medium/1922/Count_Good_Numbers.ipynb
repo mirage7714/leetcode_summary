{
 "cells": [
  {
   "cell_type": "markdown",
   "metadata": {},
   "source": [
    "# 本題要找出在指定的位數內，共有多少數字符合題目的限制\n",
    "原題目連結: https://leetcode.com/problems/count-good-numbers/  \n",
    "\n",
    "A digit string is good if the digits (0-indexed) at even indices are even and the digits at odd indices are prime (2, 3, 5, or 7).  \n",
    "\n",
    "For example, \"2582\" is good because the digits (2 and 8) at even positions are even and the digits (5 and 2) at odd positions are prime. However, \"3245\" is not good because 3 is at an even index but is not even.  \n",
    "Given an integer n, return the total number of good digit strings of length n. Since the answer may be large, return it modulo 109 + 7.  \n",
    "\n",
    "A digit string is a string consisting of digits 0 through 9 that may contain leading zeros.  \n",
    "\n",
    "範例:  \n",
    "Ex1:  \n",
    "Input: n = 1  \n",
    "Output: 5  \n",
    "Explanation: The good numbers of length 1 are \"0\", \"2\", \"4\", \"6\", \"8\".  \n",
    "\n",
    "Ex2:  \n",
    "Input: n = 4    \n",
    "Output: 400  \n",
    "\n",
    "Ex3:   \n",
    "Input: n = 50  \n",
    "Output: 564908303"
   ]
  },
  {
   "cell_type": "markdown",
   "metadata": {},
   "source": [
    "* 解題想法:  \n",
    "經由觀察，可以發現數字在偶數位為5，而在奇數位則有4，因此要找出共有多少個數字就是用2作為單位，找出20的次方，如果位數長度為奇數時，乘上5的次方，最後再取mod  \n",
    "這邊特別的用法是，在pow中加上了mod的參數，才不會出現TLE的問題"
   ]
  },
  {
   "cell_type": "code",
   "execution_count": null,
   "metadata": {},
   "outputs": [],
   "source": [
    "class Solution:\n",
    "    def countGoodNumbers(self, n: int) -> int:\n",
    "        mod = 1000000007\n",
    "        return (pow(20, n//2, mod) * pow(5, n % 2, mod)) % mod"
   ]
  }
 ],
 "metadata": {
  "kernelspec": {
   "display_name": "Python 3",
   "language": "python",
   "name": "python3"
  },
  "language_info": {
   "codemirror_mode": {
    "name": "ipython",
    "version": 3
   },
   "file_extension": ".py",
   "mimetype": "text/x-python",
   "name": "python",
   "nbconvert_exporter": "python",
   "pygments_lexer": "ipython3",
   "version": "3.7.4"
  }
 },
 "nbformat": 4,
 "nbformat_minor": 4
}
