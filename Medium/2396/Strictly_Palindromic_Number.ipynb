{
 "cells": [
  {
   "cell_type": "markdown",
   "metadata": {},
   "source": [
    "# 本題要判斷指定的整數是否可以轉換為palindromic的字串\n",
    "原題目連結: https://leetcode.com/problems/strictly-palindromic-number/  \n",
    "\n",
    "An integer n is strictly palindromic if, for every base b between 2 and n - 2 (inclusive), the string representation of the integer n in base b is palindromic.  \n",
    "Given an integer n, return true if n is strictly palindromic and false otherwise.  \n",
    "A string is palindromic if it reads the same forward and backward.  \n",
    "\n",
    "範例:  \n",
    "Ex1:  \n",
    "Input: n = 9  \n",
    "Output: false  \n",
    "Explanation: In base 2: 9 = 1001 (base 2), which is palindromic.  \n",
    "In base 3: 9 = 100 (base 3), which is not palindromic.  \n",
    "Therefore, 9 is not strictly palindromic so we return false.  \n",
    "Note that in bases 4, 5, 6, and 7, n = 9 is also not palindromic.  \n",
    "\n",
    "Ex2:  \n",
    "Input: n = 4  \n",
    "Output: false  \n",
    "Explanation: We only consider base 2: 4 = 100 (base 2), which is not palindromic.  \n",
    "Therefore, we return false."
   ]
  },
  {
   "cell_type": "markdown",
   "metadata": {},
   "source": [
    "* 解題想法:  \n",
    "首先建立一個函數用來將整數轉換為n進位的字串，接著從2~n的範圍開始檢查是否為palindromic的字串，如果不是則直接回傳False，如果都通過的會則回傳True"
   ]
  },
  {
   "cell_type": "code",
   "execution_count": null,
   "metadata": {},
   "outputs": [],
   "source": [
    "class Solution:\n",
    "    def isStrictlyPalindromic(self, n: int) -> bool:\n",
    "        def getString(m, n):\n",
    "            result = ''\n",
    "            while n >= m:\n",
    "                l = n % m\n",
    "                n = (n-l) / m\n",
    "                result = '{}{}'.format(l, result)\n",
    "            return result\n",
    "        for m in range(2, n-1):\n",
    "            l = getString(m, n)\n",
    "            for k in range((len(l)//2)):\n",
    "                if l[k] != l[-1-k]:\n",
    "                    return False\n",
    "        return True"
   ]
  }
 ],
 "metadata": {
  "kernelspec": {
   "display_name": "Python 3",
   "language": "python",
   "name": "python3"
  },
  "language_info": {
   "codemirror_mode": {
    "name": "ipython",
    "version": 3
   },
   "file_extension": ".py",
   "mimetype": "text/x-python",
   "name": "python",
   "nbconvert_exporter": "python",
   "pygments_lexer": "ipython3",
   "version": "3.7.4"
  }
 },
 "nbformat": 4,
 "nbformat_minor": 4
}
