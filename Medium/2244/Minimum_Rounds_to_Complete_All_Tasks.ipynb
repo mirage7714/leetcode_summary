{
 "cells": [
  {
   "cell_type": "markdown",
   "metadata": {},
   "source": [
    "# 本題要找出最少執行次數為多少\n",
    "原題目連結: https://leetcode.com/problems/minimum-rounds-to-complete-all-tasks/  \n",
    "\n",
    "You are given a 0-indexed integer array tasks, where tasks[i] represents the difficulty level of a task. In each round, you can complete either 2 or 3 tasks of the same difficulty level.  \n",
    "Return the minimum rounds required to complete all the tasks, or -1 if it is not possible to complete all the tasks.  \n",
    "\n",
    "範例:  \n",
    "Ex1:  \n",
    "Input: tasks = [2,2,3,3,2,4,4,4,4,4]  \n",
    "Output: 4  \n",
    "Explanation: To complete all the tasks, a possible plan is:  \n",
    "- In the first round, you complete 3 tasks of difficulty level 2.   \n",
    "- In the second round, you complete 2 tasks of difficulty level 3.   \n",
    "- In the third round, you complete 3 tasks of difficulty level 4.   \n",
    "- In the fourth round, you complete 2 tasks of difficulty level 4.    \n",
    "It can be shown that all the tasks cannot be completed in fewer than 4 rounds, so the answer is 4.  \n",
    "\n",
    "Ex2:  \n",
    "Input: tasks = [2,3,3]  \n",
    "Output: -1  \n",
    "Explanation: There is only 1 task of difficulty level 2, but in each round, you can only complete either 2 or 3 tasks of the same difficulty level. Hence, you cannot complete all the tasks, and the answer is -1.  "
   ]
  },
  {
   "cell_type": "markdown",
   "metadata": {},
   "source": [
    "* 解題想法:  \n",
    "首先找出每個任務的統計結果，接著判斷每個task統計值為多少，如果為1的話則不符合要求，直接回傳-1，如果大於1的話則將值除三後檢查餘數，如果餘數為0則將結果加上除三之後的商，其餘兩種情況(餘1或2)則將結果加上傷再加1，最後回傳結果"
   ]
  },
  {
   "cell_type": "code",
   "execution_count": null,
   "metadata": {},
   "outputs": [],
   "source": [
    "class Solution:\n",
    "    def minimumRounds(self, tasks: List[int]) -> int:\n",
    "        result = 0\n",
    "        freq = {}\n",
    "        for t in tasks:\n",
    "            if t not in freq.keys():\n",
    "                freq[t] = 1\n",
    "            else:\n",
    "                freq[t] += 1\n",
    "        for key, val in freq.items():\n",
    "            if val == 1:\n",
    "                result = -1\n",
    "                break\n",
    "            else:\n",
    "                l = val % 3\n",
    "                d = int(val/3)\n",
    "                if l == 1:\n",
    "                    result += d+1\n",
    "                elif l == 2:\n",
    "                    result += d + 1\n",
    "                else:\n",
    "                    result += d\n",
    "        return result"
   ]
  }
 ],
 "metadata": {
  "kernelspec": {
   "display_name": "Python 3",
   "language": "python",
   "name": "python3"
  },
  "language_info": {
   "codemirror_mode": {
    "name": "ipython",
    "version": 3
   },
   "file_extension": ".py",
   "mimetype": "text/x-python",
   "name": "python",
   "nbconvert_exporter": "python",
   "pygments_lexer": "ipython3",
   "version": "3.7.4"
  }
 },
 "nbformat": 4,
 "nbformat_minor": 4
}
