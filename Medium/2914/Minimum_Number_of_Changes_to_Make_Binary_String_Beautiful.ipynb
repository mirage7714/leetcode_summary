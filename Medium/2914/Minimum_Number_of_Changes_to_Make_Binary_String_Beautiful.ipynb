{
 "cells": [
  {
   "cell_type": "markdown",
   "id": "17b2fdb8-51d0-424f-b98f-d6b75ab5babf",
   "metadata": {},
   "source": [
    "# 本題要找出最少需要多少的變動才能滿足指定的條件 (\\#String, \\#Greedy )\n",
    "原題目連結：https://leetcode.com/problems/minimum-number-of-changes-to-make-binary-string-beautiful/description/  \n",
    "\n",
    "You are given a 0-indexed binary string s having an even length.  \n",
    "A string is beautiful if it's possible to partition it into one or more substrings such that:  \n",
    "\n",
    "Each substring has an even length.  \n",
    "Each substring contains only 1's or only 0's.  \n",
    "You can change any character in s to 0 or 1.  \n",
    "\n",
    "Return the minimum number of changes required to make the string s beautiful.  \n",
    "\n",
    "範例：  \n",
    "Ex1:  \n",
    "Input: s = \"1001\"  \n",
    "Output: 2  \n",
    "Explanation: We change s[1] to 1 and s[3] to 0 to get string \"1100\".  \n",
    "It can be seen that the string \"1100\" is beautiful because we can partition it into \"11|00\".  \n",
    "It can be proven that 2 is the minimum number of changes needed to make the string beautiful.  \n",
    "\n",
    "Ex2:   \n",
    "Input: s = \"10\"  \n",
    "Output: 1  \n",
    "Explanation: We change s[1] to 1 to get string \"11\".  \n",
    "It can be seen that the string \"11\" is beautiful because we can partition it into \"11\".  \n",
    "It can be proven that 1 is the minimum number of changes needed to make the string beautiful.  \n",
    "\n",
    "Ex3:  \n",
    "Input: s = \"0000\"  \n",
    "Output: 0  \n",
    "Explanation: We don't need to make any changes as the string \"0000\" is beautiful already."
   ]
  },
  {
   "cell_type": "markdown",
   "id": "15bb4618-a785-4287-92c9-11cfe5ecdec4",
   "metadata": {},
   "source": [
    "* 解題想法：  \n",
    "用一次進行兩步的迴圈，分別檢查s[i]是否與s[i+1]相同，如果不相同則代表需要一次的變動，最後將總變動次數加總就是答案"
   ]
  },
  {
   "cell_type": "code",
   "execution_count": null,
   "id": "fb53f2f8-77e7-4874-8992-775adac2ca0a",
   "metadata": {},
   "outputs": [],
   "source": [
    "class Solution:\n",
    "    def minChanges(self, s: str) -> int:\n",
    "        res = 0\n",
    "        for i in range(0, len(s), 2):\n",
    "            if s[i] != s[i+1]:\n",
    "                res += 1\n",
    "        return res"
   ]
  }
 ],
 "metadata": {
  "kernelspec": {
   "display_name": "Python 3 (ipykernel)",
   "language": "python",
   "name": "python3"
  },
  "language_info": {
   "codemirror_mode": {
    "name": "ipython",
    "version": 3
   },
   "file_extension": ".py",
   "mimetype": "text/x-python",
   "name": "python",
   "nbconvert_exporter": "python",
   "pygments_lexer": "ipython3",
   "version": "3.10.9"
  }
 },
 "nbformat": 4,
 "nbformat_minor": 5
}
