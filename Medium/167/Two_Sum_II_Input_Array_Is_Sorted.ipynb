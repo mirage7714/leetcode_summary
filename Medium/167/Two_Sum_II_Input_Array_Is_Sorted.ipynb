{
 "cells": [
  {
   "cell_type": "markdown",
   "metadata": {},
   "source": [
    "# 本題要找出指定數是哪兩個數字的總和\n",
    "原題目連結: https://leetcode.com/problems/two-sum-ii-input-array-is-sorted/  \n",
    "\n",
    "Given a 1-indexed array of integers numbers that is already sorted in non-decreasing order, find two numbers such that they add up to a specific target number. Let these two numbers be numbers[index1] and numbers[index2] where 1 <= index1 < index2 <= numbers.length.  \n",
    "  \n",
    "Return the indices of the two numbers, index1 and index2, added by one as an integer array [index1, index2] of length 2.  \n",
    "The tests are generated such that there is exactly one solution. You may not use the same element twice.  \n",
    "Your solution must use only constant extra space.  \n",
    "\n",
    "範例:  \n",
    "Ex1:  \n",
    "Input: numbers = [2,7,11,15], target = 9  \n",
    "Output: [1,2]  \n",
    "Explanation: The sum of 2 and 7 is 9. Therefore, index1 = 1, index2 = 2. We return [1, 2].  \n",
    "\n",
    "Ex2:  \n",
    "Input: numbers = [2,3,4], target = 6  \n",
    "Output: [1,3]  \n",
    "Explanation: The sum of 2 and 4 is 6. Therefore index1 = 1, index2 = 3. We return [1, 3].  \n",
    "\n",
    "Ex3:  \n",
    "Input: numbers = [-1,0], target = -1  \n",
    "Output: [1,2]  \n",
    "Explanation: The sum of -1 and 0 is -1. Therefore index1 = 1, index2 = 2. We return [1, 2]."
   ]
  },
  {
   "cell_type": "markdown",
   "metadata": {},
   "source": [
    "* 解題想法:  \n",
    "首先使用一個變數來存放前一個出現過的數值，以確保不會有重複計算的情形發生，接著開始用迴圈來判斷是否指定的兩個數字有出現在list中，當找到指定數值時即中斷迴圈，並回傳指定兩數的index"
   ]
  },
  {
   "cell_type": "code",
   "execution_count": null,
   "metadata": {},
   "outputs": [],
   "source": [
    "class Solution:\n",
    "    def twoSum(self, numbers: List[int], target: int) -> List[int]:\n",
    "        result = []\n",
    "        temp = numbers[0]-1\n",
    "        for n in range(len(numbers)-1):\n",
    "            if numbers[n] != temp: \n",
    "                temp = numbers[n]\n",
    "                diff = target - numbers[n]\n",
    "                if diff in numbers[n+1:]:\n",
    "                    result.append(n+1)\n",
    "                    result.append(numbers[n+1:].index(diff)+2+n)\n",
    "                    break\n",
    "        return result"
   ]
  }
 ],
 "metadata": {
  "kernelspec": {
   "display_name": "Python 3",
   "language": "python",
   "name": "python3"
  },
  "language_info": {
   "codemirror_mode": {
    "name": "ipython",
    "version": 3
   },
   "file_extension": ".py",
   "mimetype": "text/x-python",
   "name": "python",
   "nbconvert_exporter": "python",
   "pygments_lexer": "ipython3",
   "version": "3.7.4"
  }
 },
 "nbformat": 4,
 "nbformat_minor": 4
}
