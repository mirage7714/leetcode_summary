{
 "cells": [
  {
   "cell_type": "markdown",
   "metadata": {},
   "source": [
    "# 本題要將指定數值的葉子進行修剪 (\\#Binary Tree, \\#DFS)\n",
    "原題目連結: https://leetcode.com/problems/delete-leaves-with-a-given-value/  \n",
    "\n",
    "Given a binary tree root and an integer target, delete all the leaf nodes with value target.  \n",
    "\n",
    "Note that once you delete a leaf node with value target, if its parent node becomes a leaf node and has the value target, it should also be deleted (you need to continue doing that until you cannot).  \n",
    "\n",
    "範例:  \n",
    "Ex1:  \n",
    "Input: root = [1,2,3,2,null,2,4], target = 2  \n",
    "Output: [1,null,3,null,4]  \n",
    "Explanation: Leaf nodes in green with value (target = 2) are removed (Picture in left).   \n",
    "After removing, new nodes become leaf nodes with value (target = 2) (Picture in center).  \n",
    "\n",
    "Ex2:  \n",
    "Input: root = [1,3,3,3,2], target = 3  \n",
    "Output: [1,3,null,null,2]  \n",
    "\n",
    "Ex3:  \n",
    "Input: root = [1,2,null,2,null,2], target = 2  \n",
    "Output: [1]  \n",
    "Explanation: Leaf nodes in green with value (target = 2) are removed at each step."
   ]
  },
  {
   "cell_type": "markdown",
   "metadata": {},
   "source": [
    "* 解題想法:  \n",
    "由於需要修剪葉子的部分，因此這邊使用DFS的方式來進行修剪，如果檢查到下一個節點是葉子且數值等於指定的值時，則直接將指標改為None，最後還需要檢查修剪之後的父節點是否也需要被修剪，如果需要則直接回傳None，否則回傳修剪後的樹"
   ]
  },
  {
   "cell_type": "code",
   "execution_count": null,
   "metadata": {},
   "outputs": [],
   "source": [
    "# Definition for a binary tree node.\n",
    "# class TreeNode:\n",
    "#     def __init__(self, val=0, left=None, right=None):\n",
    "#         self.val = val\n",
    "#         self.left = left\n",
    "#         self.right = right\n",
    "class Solution:\n",
    "    def removeLeafNodes(self, root: Optional[TreeNode], target: int) -> Optional[TreeNode]:\n",
    "        def dfs(node, target, count):\n",
    "            if node.left:\n",
    "                if node.left.val == target and not node.left.left and not node.left.right:\n",
    "                    node.left = None\n",
    "                    count[0] += 1\n",
    "                else:\n",
    "                    dfs(node.left, target, count)\n",
    "            if node.right:\n",
    "                if node.right.val == target and not node.right.left and not node.right.right:\n",
    "                    node.right = None\n",
    "                    count[0] += 1\n",
    "                else:\n",
    "                    dfs(node.right, target, count)\n",
    "        tree = root\n",
    "        count = [0]\n",
    "        while tree:\n",
    "            p = count[0]\n",
    "            if not tree.left and not tree.right and tree.val == target:\n",
    "                return None\n",
    "            else: \n",
    "                dfs(tree, target, count)\n",
    "                if p == count[0]:\n",
    "                    break\n",
    "        return tree"
   ]
  }
 ],
 "metadata": {
  "kernelspec": {
   "display_name": "Python 3",
   "language": "python",
   "name": "python3"
  },
  "language_info": {
   "codemirror_mode": {
    "name": "ipython",
    "version": 3
   },
   "file_extension": ".py",
   "mimetype": "text/x-python",
   "name": "python",
   "nbconvert_exporter": "python",
   "pygments_lexer": "ipython3",
   "version": "3.7.4"
  }
 },
 "nbformat": 4,
 "nbformat_minor": 4
}
