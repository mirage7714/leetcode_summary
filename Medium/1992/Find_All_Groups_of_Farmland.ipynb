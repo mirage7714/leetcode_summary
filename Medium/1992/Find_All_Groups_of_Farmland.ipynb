{
 "cells": [
  {
   "cell_type": "markdown",
   "metadata": {},
   "source": [
    "# 本題要找出農地的所有邊界為何\n",
    "原題目連結: https://leetcode.com/problems/find-all-groups-of-farmland/  \n",
    "\n",
    "You are given a 0-indexed m x n binary matrix land where a 0 represents a hectare of forested land and a 1 represents a hectare of farmland.  \n",
    "\n",
    "To keep the land organized, there are designated rectangular areas of hectares that consist entirely of farmland. These rectangular areas are called groups. No two groups are adjacent, meaning farmland in one group is not four-directionally adjacent to another farmland in a different group.  \n",
    "\n",
    "land can be represented by a coordinate system where the top left corner of land is (0, 0) and the bottom right corner of land is (m-1, n-1). Find the coordinates of the top left and bottom right corner of each group of farmland. A group of farmland with a top left corner at (r1, c1) and a bottom right corner at (r2, c2) is represented by the 4-length array [r1, c1, r2, c2].  \n",
    "\n",
    "Return a 2D array containing the 4-length arrays described above for each group of farmland in land. If there are no groups of farmland, return an empty array. You may return the answer in any order.  \n",
    "\n",
    "範例:  \n",
    "Ex1:  \n",
    "Input: land = [[1,0,0],[0,1,1],[0,1,1]]  \n",
    "Output: [[0,0,0,0],[1,1,2,2]]  \n",
    "Explanation:  \n",
    "The first group has a top left corner at land[0][0] and a bottom right corner at land[0][0].  \n",
    "The second group has a top left corner at land[1][1] and a bottom right corner at land[2][2]. \n",
    "\n",
    "Ex2:  \n",
    "Input: land = [[1,1],[1,1]]  \n",
    "Output: [[0,0,1,1]]  \n",
    "Explanation:  \n",
    "The first group has a top left corner at land[0][0] and a bottom right corner at land[1][1].  \n",
    "\n",
    "Ex3:  \n",
    "Input: land = [[0]]  \n",
    "Output: []  \n",
    "Explanation:  \n",
    "There are no groups of farmland."
   ]
  },
  {
   "cell_type": "markdown",
   "metadata": {},
   "source": [
    "* 解題想法:  \n",
    "與200題相似，這題也是用DFS的方式來進行走訪，首先建立dfs函數，並把符合條件的座標放入area中，等遞迴結束後將area內的座標排序後將兩個邊界值放入結果中，最後回傳結果的list就是答案"
   ]
  },
  {
   "cell_type": "code",
   "execution_count": null,
   "metadata": {},
   "outputs": [],
   "source": [
    "class Solution:\n",
    "    def findFarmland(self, land: List[List[int]]) -> List[List[int]]:\n",
    "        def dfs(land, i, j, area):\n",
    "            if i < 0 or j < 0 or i >= len(land) or j >= len(land[0]) or land[i][j] != 1:\n",
    "                return \n",
    "            area.append([i,j])\n",
    "            land[i][j] = 0\n",
    "            dfs(land, i-1, j, area)\n",
    "            dfs(land, i+1, j, area)\n",
    "            dfs(land, i, j-1, area)\n",
    "            dfs(land, i, j+1, area)\n",
    "            \n",
    "        result = []\n",
    "        for m in range(len(land)):\n",
    "            for n in range(len(land[0])):\n",
    "                if land[m][n] == 1:\n",
    "                    area = []\n",
    "                    dfs(land, m, n, area)\n",
    "                    if len(area) > 1:\n",
    "                        area.sort()\n",
    "                        result.append(area[0] + area[-1])\n",
    "                    else:\n",
    "                        result.append(area[0] + area[0])\n",
    "        return result"
   ]
  }
 ],
 "metadata": {
  "kernelspec": {
   "display_name": "Python 3",
   "language": "python",
   "name": "python3"
  },
  "language_info": {
   "codemirror_mode": {
    "name": "ipython",
    "version": 3
   },
   "file_extension": ".py",
   "mimetype": "text/x-python",
   "name": "python",
   "nbconvert_exporter": "python",
   "pygments_lexer": "ipython3",
   "version": "3.7.4"
  }
 },
 "nbformat": 4,
 "nbformat_minor": 4
}
