{
 "cells": [
  {
   "cell_type": "markdown",
   "metadata": {},
   "source": [
    "# 本題要找出平均等待時間為何\n",
    "原題目連結：https://leetcode.com/problems/average-waiting-time/  \n",
    "\n",
    "There is a restaurant with a single chef. You are given an array customers, where customers[i] = [arrivali, timei]:  \n",
    "\n",
    "arrivali is the arrival time of the ith customer. The arrival times are sorted in non-decreasing order.  \n",
    "timei is the time needed to prepare the order of the ith customer.  \n",
    "When a customer arrives, he gives the chef his order, and the chef starts preparing it once he is idle. The customer waits till the chef finishes preparing his order. The chef does not prepare food for more than one customer at a time. The chef prepares food for customers in the order they were given in the input.  \n",
    "\n",
    "Return the average waiting time of all customers. Solutions within 10-5 from the actual answer are considered accepted.  \n",
    "\n",
    "範例：  \n",
    "Ex1:  \n",
    "Input: customers = [[1,2],[2,5],[4,3]]  \n",
    "Output: 5.00000  \n",
    "Explanation:  \n",
    "1) The first customer arrives at time 1, the chef takes his order and starts preparing it immediately at time 1, and finishes at time 3, so the waiting time of the first customer is 3 - 1 = 2.  \n",
    "2) The second customer arrives at time 2, the chef takes his order and starts preparing it at time 3, and finishes at time 8, so the waiting time of the second customer is 8 - 2 = 6.  \n",
    "3) The third customer arrives at time 4, the chef takes his order and starts preparing it at time 8, and finishes at time 11, so the waiting time of the third customer is 11 - 4 = 7.  \n",
    "So the average waiting time = (2 + 6 + 7) / 3 = 5.  \n",
    "\n",
    "Ex2:  \n",
    "Input: customers = [[5,2],[5,4],[10,3],[20,1]]  \n",
    "Output: 3.25000  \n",
    "Explanation:  \n",
    "1) The first customer arrives at time 5, the chef takes his order and starts preparing it immediately at time 5, and finishes at time 7, so the waiting time of the first customer is 7 - 5 = 2.  \n",
    "2) The second customer arrives at time 5, the chef takes his order and starts preparing it at time 7, and finishes at time 11, so the waiting time of the second customer is 11 - 5 = 6.  \n",
    "3) The third customer arrives at time 10, the chef takes his order and starts preparing it at time 11, and finishes at time 14, so the waiting time of the third customer is 14 - 10 = 4.  \n",
    "4) The fourth customer arrives at time 20, the chef takes his order and starts preparing it immediately at time 20, and finishes at time 21, so the waiting time of the fourth customer is 21 - 20 = 1.  \n",
    "So the average waiting time = (2 + 6 + 4 + 1) / 4 = 3.25."
   ]
  },
  {
   "cell_type": "markdown",
   "metadata": {},
   "source": [
    "* 解題想法：  \n",
    "由題目的敘述中，一次只能有一個廚師進行處理，也就是說如果前一個處理還沒結束的話，停等時間會等於前一個人的完成時間減去到達時間再加上自己所需的等待時間，因次在處理list中的數值時，須先判斷前一組的處理結束時間是否小於到達時間，如果是的話，則停等時間為customers[n][1]，並更新最後處理間為customers[n][0]+customers[n][1]，否則為customers[n][0]-前一組結束時間+customers[n][1]，最後將數字加入一個list中，並計算平均值回傳"
   ]
  },
  {
   "cell_type": "code",
   "execution_count": null,
   "metadata": {},
   "outputs": [],
   "source": [
    "class Solution:\n",
    "    def averageWaitingTime(self, customers: List[List[int]]) -> float:\n",
    "        temp = []\n",
    "        finish = 0\n",
    "        total = 0\n",
    "        for c in customers:\n",
    "            if finish <= c[0]:\n",
    "                finish = c[0] + c[1]\n",
    "                temp.append(c[1])\n",
    "            else:\n",
    "                diff = finish - c[0] + c[1]\n",
    "                finish = finish + c[1]\n",
    "                temp.append(diff)\n",
    "        for t in temp:\n",
    "            total += t\n",
    "        return total / len(temp)"
   ]
  }
 ],
 "metadata": {
  "kernelspec": {
   "display_name": "Python 3",
   "language": "python",
   "name": "python3"
  },
  "language_info": {
   "codemirror_mode": {
    "name": "ipython",
    "version": 3
   },
   "file_extension": ".py",
   "mimetype": "text/x-python",
   "name": "python",
   "nbconvert_exporter": "python",
   "pygments_lexer": "ipython3",
   "version": "3.7.6"
  }
 },
 "nbformat": 4,
 "nbformat_minor": 4
}
