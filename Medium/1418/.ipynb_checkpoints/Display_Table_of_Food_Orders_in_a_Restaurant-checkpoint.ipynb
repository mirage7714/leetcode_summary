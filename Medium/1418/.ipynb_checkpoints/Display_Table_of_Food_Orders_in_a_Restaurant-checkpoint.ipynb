{
 "cells": [
  {
   "cell_type": "markdown",
   "metadata": {},
   "source": [
    "# 本題要將餐廳的訂單依桌次與菜名進行統計\n",
    "原題目連結: https://leetcode.com/problems/display-table-of-food-orders-in-a-restaurant/  \n",
    "\n",
    "Given the array orders, which represents the orders that customers have done in a restaurant. More specifically orders[i]=[customerNamei,tableNumberi,foodItemi] where customerNamei is the name of the customer, tableNumberi is the table customer sit at, and foodItemi is the item customer orders.  \n",
    "\n",
    "Return the restaurant's “display table”. The “display table” is a table whose row entries denote how many of each food item each table ordered. The first column is the table number and the remaining columns correspond to each food item in alphabetical order. The first row should be a header whose first column is “Table”, followed by the names of the food items. Note that the customer names are not part of the table. Additionally, the rows should be sorted in numerically increasing order.  \n",
    "\n",
    "範例:  \n",
    "Ex1:  \n",
    "Input: orders = [[\"David\",\"3\",\"Ceviche\"],[\"Corina\",\"10\",\"Beef Burrito\"],[\"David\",\"3\",\"Fried Chicken\"],[\"Carla\",\"5\",\"Water\"],[\"Carla\",\"5\",\"Ceviche\"],[\"Rous\",\"3\",\"Ceviche\"]]  \n",
    "Output: [[\"Table\",\"Beef Burrito\",\"Ceviche\",\"Fried Chicken\",\"Water\"],[\"3\",\"0\",\"2\",\"1\",\"0\"],[\"5\",\"0\",\"1\",\"0\",\"1\"],[\"10\",\"1\",\"0\",\"0\",\"0\"]]   \n",
    "Explanation:  \n",
    "The displaying table looks like:  \n",
    "Table,Beef Burrito,Ceviche,Fried Chicken,Water  \n",
    "3    ,0           ,2      ,1            ,0  \n",
    "5    ,0           ,1      ,0            ,1  \n",
    "10   ,1           ,0      ,0            ,0  \n",
    "For the table 3: David orders \"Ceviche\" and \"Fried Chicken\", and Rous orders \"Ceviche\".  \n",
    "For the table 5: Carla orders \"Water\" and \"Ceviche\".  \n",
    "For the table 10: Corina orders \"Beef Burrito\".   \n",
    "\n",
    "Ex2:  \n",
    "Input: orders = [[\"James\",\"12\",\"Fried Chicken\"],[\"Ratesh\",\"12\",\"Fried Chicken\"],[\"Amadeus\",\"12\",\"Fried Chicken\"],[\"Adam\",\"1\",\"Canadian Waffles\"],[\"Brianna\",\"1\",\"Canadian Waffles\"]]  \n",
    "Output: [[\"Table\",\"Canadian Waffles\",\"Fried Chicken\"],[\"1\",\"2\",\"0\"],[\"12\",\"0\",\"3\"]]   \n",
    "Explanation:   \n",
    "For the table 1: Adam and Brianna order \"Canadian Waffles\".  \n",
    "For the table 12: James, Ratesh and Amadeus order \"Fried Chicken\".  \n",
    "\n",
    "Ex3:  \n",
    "Input: orders = [[\"Laura\",\"2\",\"Bean Burrito\"],[\"Jhon\",\"2\",\"Beef Burrito\"],[\"Melissa\",\"2\",\"Soda\"]]  \n",
    "Output: [[\"Table\",\"Bean Burrito\",\"Beef Burrito\",\"Soda\"],[\"2\",\"1\",\"1\",\"1\"]]　　"
   ]
  },
  {
   "cell_type": "markdown",
   "metadata": {},
   "source": [
    "* 解題想法:  \n",
    "首先建立一個dict (tables)以及一個list(dishes)來分別存放每桌的資料以及所有的菜名，接著用迴圈開始統計每個訂單的資訊，如果訂單的桌次沒有在tables中出現過，則新增一筆該桌次的資料，如果有出現過則檢查點的菜是否已經有在該桌的資料中，如果沒有則新增一筆菜名，如果有的話則將該菜名出現次數+1，最後利用桌次依序將每桌的菜名放入一個list(temp)中，並將temp加入最後結果中"
   ]
  },
  {
   "cell_type": "code",
   "execution_count": null,
   "metadata": {},
   "outputs": [],
   "source": [
    "class Solution:\n",
    "    def displayTable(self, orders: List[List[str]]) -> List[List[str]]:\n",
    "        tables = {}\n",
    "        result = []\n",
    "        dishes = []\n",
    "        for order in orders:\n",
    "            t = int(order[1])\n",
    "            m = order[2]\n",
    "            if m not in dishes:\n",
    "                dishes.append(m)\n",
    "            if t not in tables.keys():\n",
    "                tables[t] = {m:1}\n",
    "            else:\n",
    "                if m not in tables[t].keys():\n",
    "                    tables[t][m] = 1\n",
    "                else:\n",
    "                    tables[t][m] += 1\n",
    "        keys = list(tables.keys())\n",
    "        keys.sort()\n",
    "        dishes.sort()\n",
    "        dishes.insert(0, 'Table')\n",
    "        result.append(dishes)\n",
    "        for key in keys:\n",
    "            temp = []\n",
    "            temp.append(str(key))\n",
    "            for d in range(1, len(dishes)):\n",
    "                if dishes[d] in tables[key].keys():\n",
    "                    temp.append(str(tables[key][dishes[d]]))\n",
    "                else:\n",
    "                    temp.append('0')\n",
    "            result.append(temp)\n",
    "        return result"
   ]
  }
 ],
 "metadata": {
  "kernelspec": {
   "display_name": "Python 3",
   "language": "python",
   "name": "python3"
  },
  "language_info": {
   "codemirror_mode": {
    "name": "ipython",
    "version": 3
   },
   "file_extension": ".py",
   "mimetype": "text/x-python",
   "name": "python",
   "nbconvert_exporter": "python",
   "pygments_lexer": "ipython3",
   "version": "3.7.4"
  }
 },
 "nbformat": 4,
 "nbformat_minor": 2
}
