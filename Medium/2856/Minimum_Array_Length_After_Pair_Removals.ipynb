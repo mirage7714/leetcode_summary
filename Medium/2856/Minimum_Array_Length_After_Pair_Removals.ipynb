{
 "cells": [
  {
   "cell_type": "markdown",
   "id": "8b04106c-478b-43a2-b80b-93340c735d17",
   "metadata": {},
   "source": [
    "# 本題要找出刪除配對之後最少可以剩下多少個數字 (\\#Array) \n",
    "原題目連結: https://leetcode.com/problems/minimum-array-length-after-pair-removals/description/  \n",
    "\n",
    "You are given a 0-indexed sorted array of integers nums.   \n",
    "You can perform the following operation any number of times:  \n",
    "\n",
    "Choose two indices, i and j, where i < j, such that nums[i] < nums[j].  \n",
    "Then, remove the elements at indices i and j from nums. The remaining elements retain their original order, and the array is re-indexed.  \n",
    "Return an integer that denotes the minimum length of nums after performing the operation any number of times (including zero).  \n",
    "\n",
    "Note that nums is sorted in non-decreasing order.  \n",
    "\n",
    "範例:  \n",
    "Ex1:  \n",
    "Input: nums = [1,3,4,9]  \n",
    "Output: 0  \n",
    "Explanation: Initially, nums = [1, 3, 4, 9].  \n",
    "In the first operation, we can choose index 0 and 1 because nums[0] < nums[1] <=> 1 < 3.  \n",
    "Remove indices 0 and 1, and nums becomes [4, 9].  \n",
    "For the next operation, we can choose index 0 and 1 because nums[0] < nums[1] <=> 4 < 9.  \n",
    "Remove indices 0 and 1, and nums becomes an empty array [].  \n",
    "Hence, the minimum length achievable is 0.  \n",
    "\n",
    "Ex2:  \n",
    "Input: nums = [2,3,6,9]  \n",
    "Output: 0  \n",
    "Explanation: Initially, nums = [2, 3, 6, 9].   \n",
    "In the first operation, we can choose index 0 and 2 because nums[0] < nums[2] <=> 2 < 6.   \n",
    "Remove indices 0 and 2, and nums becomes [3, 9].   \n",
    "For the next operation, we can choose index 0 and 1 because nums[0] < nums[1] <=> 3 < 9.   \n",
    "Remove indices 0 and 1, and nums becomes an empty array [].   \n",
    "Hence, the minimum length achievable is 0.  \n",
    "\n",
    "Ex3:  \n",
    "Input: nums = [1,1,2]  \n",
    "Output: 1  \n",
    "Explanation: Initially, nums = [1, 1, 2].  \n",
    "In an operation, we can choose index 0 and 2 because nums[0] < nums[2] <=> 1 < 2.   \n",
    "Remove indices 0 and 2, and nums becomes [1].   \n",
    "It is no longer possible to perform an operation on the array.   \n",
    "Hence, the minimum achievable length is 1."
   ]
  },
  {
   "cell_type": "markdown",
   "id": "0e6e502a-ff0a-48ec-8be0-fdbd96e9ea3c",
   "metadata": {},
   "source": [
    "* 解題想法:  \n",
    "首先將數字出現的次數轉換成dict，接著將dict中的數值放入heap中，如果當heap可以同時取出兩個數值時，則兩個數值各減去1，直到heap為空，或是剩下一個值時，則回傳剩下的值出現的次數就是答案"
   ]
  },
  {
   "cell_type": "code",
   "execution_count": null,
   "id": "005e5346-c259-46f8-8afa-21cb730d6685",
   "metadata": {},
   "outputs": [],
   "source": [
    "import heapq\n",
    "\n",
    "class Solution:\n",
    "    def minLengthAfterRemovals(self, nums: List[int]) -> int:\n",
    "        temp = []\n",
    "        heapq.heapify(temp)\n",
    "        count = {}\n",
    "        for n in nums:\n",
    "            if n not in count.keys():\n",
    "                count[n] = 1\n",
    "            else:\n",
    "                count[n] += 1\n",
    "        for key, val in count.items():\n",
    "            heapq.heappush(temp, [-val, key])\n",
    "        while temp:\n",
    "            n1 = heapq.heappop(temp)\n",
    "            if temp:\n",
    "                n2 = heapq.heappop(temp)\n",
    "                if n2[0] < -1:\n",
    "                    heapq.heappush(temp, [n2[0]+1, n2[1]])\n",
    "                if n1[0] < -1:\n",
    "                    heapq.heappush(temp, [n1[0] + 1, n1[1]])\n",
    "            else:\n",
    "                return -n1[0]\n",
    "        return 0"
   ]
  }
 ],
 "metadata": {
  "kernelspec": {
   "display_name": "Python 3 (ipykernel)",
   "language": "python",
   "name": "python3"
  },
  "language_info": {
   "codemirror_mode": {
    "name": "ipython",
    "version": 3
   },
   "file_extension": ".py",
   "mimetype": "text/x-python",
   "name": "python",
   "nbconvert_exporter": "python",
   "pygments_lexer": "ipython3",
   "version": "3.9.13"
  }
 },
 "nbformat": 4,
 "nbformat_minor": 5
}
