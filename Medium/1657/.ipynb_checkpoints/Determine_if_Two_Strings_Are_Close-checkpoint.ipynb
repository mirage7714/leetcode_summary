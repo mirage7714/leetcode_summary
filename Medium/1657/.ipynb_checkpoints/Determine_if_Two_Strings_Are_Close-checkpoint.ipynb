{
 "cells": [
  {
   "cell_type": "markdown",
   "metadata": {},
   "source": [
    "# 本題要判斷兩個字串是否可以藉由替換字母來變成相同的字串\n",
    "原題目連結：https://leetcode.com/problems/determine-if-two-strings-are-close/  \n",
    "\n",
    "Two strings are considered close if you can attain one from the other using the following operations:  \n",
    "\n",
    "Operation 1: Swap any two existing characters.  \n",
    "For example, abcde -> aecdb  \n",
    "Operation 2: Transform every occurrence of one existing character into another existing character, and do the same with the other character.  \n",
    "For example, aacabb -> bbcbaa (all a's turn into b's, and all b's turn into a's)  \n",
    "You can use the operations on either string as many times as necessary.  \n",
    "\n",
    "Given two strings, word1 and word2, return true if word1 and word2 are close, and false otherwise.  \n",
    "\n",
    "範例：  \n",
    "Ex1:  \n",
    "Input: word1 = \"abc\", word2 = \"bca\"  \n",
    "Output: true  \n",
    "Explanation: You can attain word2 from word1 in 2 operations.  \n",
    "Apply Operation 1: \"abc\" -> \"acb\"  \n",
    "Apply Operation 1: \"acb\" -> \"bca\"  \n",
    "\n",
    "Ex2:  \n",
    "Input: word1 = \"a\", word2 = \"aa\"  \n",
    "Output: false  \n",
    "Explanation: It is impossible to attain word2 from word1, or vice versa, in any number of operations.  \n",
    "\n",
    "Ex3:  \n",
    "Input: word1 = \"cabbba\", word2 = \"abbccc\"  \n",
    "Output: true  \n",
    "Explanation: You can attain word2 from word1 in 3 operations.  \n",
    "Apply Operation 1: \"cabbba\" -> \"caabbb\"  \n",
    "Apply Operation 2: \"caabbb\" -> \"baaccc\"  \n",
    "Apply Operation 2: \"baaccc\" -> \"abbccc\"  \n",
    "\n",
    "Ex4:  \n",
    "Input: word1 = \"cabbba\", word2 = \"aabbss\"    \n",
    "Output: false  \n",
    "Explanation: It is impossible to attain word2 from word1, or vice versa, in any amount of operations."
   ]
  },
  {
   "cell_type": "markdown",
   "metadata": {},
   "source": [
    "* 解題想法：  \n",
    "由於題目要判斷兩個字串是否可藉由調換字母的方式來變成相同的字串，在這個條件下，兩個字串必須要有相同的長度以及相同的字母所組成  \n",
    "因此先判斷長度相同的字串才進行比較，接著將兩個字串的字母以及數量用dict進行儲存，並比較字母與出現的數量是否相同，如果都相同則代表兩個字串是相同的"
   ]
  },
  {
   "cell_type": "code",
   "execution_count": null,
   "metadata": {},
   "outputs": [],
   "source": [
    "class Solution:\n",
    "    def closeStrings(self, word1: str, word2: str) -> bool:\n",
    "        freq1 = {}\n",
    "        freq2 = {}\n",
    "        is_valid = False\n",
    "        if len(word1) == len(word2):\n",
    "            for w in word1:\n",
    "                if w not in freq1.keys():\n",
    "                    freq1[w] = 1\n",
    "                else:\n",
    "                    freq1[w] += 1\n",
    "            for x in word2:\n",
    "                if x not in freq2.keys():\n",
    "                    freq2[x] = 1\n",
    "                else:\n",
    "                    freq2[x] += 1\n",
    "            key1 = list(freq1.keys())\n",
    "            key2 = list(freq2.keys())\n",
    "            key1.sort()\n",
    "            key2.sort()\n",
    "            if key1 == key2:\n",
    "                val1 = list(freq1.values())\n",
    "                val2 = list(freq2.values())\n",
    "                val1.sort()\n",
    "                val2.sort()\n",
    "                if val1 == val2:\n",
    "                    is_valid = True\n",
    "        return is_valid"
   ]
  }
 ],
 "metadata": {
  "kernelspec": {
   "display_name": "Python 3",
   "language": "python",
   "name": "python3"
  },
  "language_info": {
   "codemirror_mode": {
    "name": "ipython",
    "version": 3
   },
   "file_extension": ".py",
   "mimetype": "text/x-python",
   "name": "python",
   "nbconvert_exporter": "python",
   "pygments_lexer": "ipython3",
   "version": "3.7.6"
  }
 },
 "nbformat": 4,
 "nbformat_minor": 4
}
