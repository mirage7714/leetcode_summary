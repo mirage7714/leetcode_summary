{
 "cells": [
  {
   "cell_type": "markdown",
   "id": "cb40823f-8cec-4121-b5b7-1f7d185dbb65",
   "metadata": {},
   "source": [
    "# 本題要判斷哪些字符合指定的形式 (\\#String, \\#Array )\n",
    "原題目連結：https://leetcode.com/problems/camelcase-matching/description/  \n",
    "\n",
    "Given an array of strings queries and a string pattern, return a boolean array answer where answer[i] is true if queries[i] matches pattern, and false otherwise.  \n",
    "\n",
    "A query word queries[i] matches pattern if you can insert lowercase English letters pattern so that it equals the query. You may insert each character at any position and you may not insert any characters.  \n",
    "\n",
    "範例：  \n",
    "Ex1:  \n",
    "Input: queries = [\"FooBar\",\"FooBarTest\",\"FootBall\",\"FrameBuffer\",\"ForceFeedBack\"], pattern = \"FB\"  \n",
    "Output: [true,false,true,true,false]  \n",
    "Explanation: \"FooBar\" can be generated like this \"F\" + \"oo\" + \"B\" + \"ar\".  \n",
    "\"FootBall\" can be generated like this \"F\" + \"oot\" + \"B\" + \"all\".  \n",
    "\"FrameBuffer\" can be generated like this \"F\" + \"rame\" + \"B\" + \"uffer\".  \n",
    "\n",
    "Ex2:  \n",
    "Input: queries = [\"FooBar\",\"FooBarTest\",\"FootBall\",\"FrameBuffer\",\"ForceFeedBack\"], pattern = \"FoBa\"  \n",
    "Output: [true,false,true,false,false]  \n",
    "Explanation: \"FooBar\" can be generated like this \"Fo\" + \"o\" + \"Ba\" + \"r\".  \n",
    "\"FootBall\" can be generated like this \"Fo\" + \"ot\" + \"Ba\" + \"ll\".  \n",
    "\n",
    "Ex3:  \n",
    "Input: queries = [\"FooBar\",\"FooBarTest\",\"FootBall\",\"FrameBuffer\",\"ForceFeedBack\"], pattern = \"FoBaT\"  \n",
    "Output: [false,true,false,false,false]  \n",
    "Explanation: \"FooBarTest\" can be generated like this \"Fo\" + \"o\" + \"Ba\" + \"r\" + \"T\" + \"est\"."
   ]
  },
  {
   "cell_type": "markdown",
   "id": "aaac1b3c-5324-43f9-ba9d-80c3a36ed6f9",
   "metadata": {},
   "source": [
    "* 解題想法：  \n",
    "首先建立一個函數用來分析字串是否符合指定的條件，先將指定的字放入list中並取出第一個字母，接著從第一個字串開始進行走訪，如果符合第二個字串的字母則更新對應的字串，如果不符合且第一個字串出現大寫字母則回傳False，另外當第一個字串走訪完時如果第二個字串還有字尚未走訪也回傳False，如果順利走訪完則回傳True，接著用一個dict作為暫存，如果沒出現過的字母則檢查後放入dict中，最後將結果放入list中就是答案"
   ]
  },
  {
   "cell_type": "code",
   "execution_count": null,
   "id": "9fdad45f-ea2c-4ba5-97ba-434b29d89ad6",
   "metadata": {},
   "outputs": [],
   "source": [
    "class Solution:\n",
    "    def camelMatch(self, queries: List[str], pattern: str) -> List[bool]:\n",
    "        def checkMatch(word1, word2):\n",
    "            res = True\n",
    "            w = [i for i in word2]\n",
    "            s = w.pop(0)\n",
    "            print('{}:{}'.format(word1, word2))\n",
    "            for m in word1:\n",
    "                if m != s and m.isupper():\n",
    "                    return False\n",
    "                elif m == s:\n",
    "                    if w:\n",
    "                        s = w.pop(0)\n",
    "                    else:\n",
    "                        s = ''\n",
    "            if w or len(s) != 0:\n",
    "                res = False\n",
    "            return res\n",
    "\n",
    "        res = []\n",
    "        temp = {}\n",
    "        for q in queries:\n",
    "            if q not in temp.keys(): \n",
    "                if checkMatch(q, pattern):\n",
    "                    temp[q] = True\n",
    "                else:\n",
    "                    temp[q] = False\n",
    "            res.append(temp[q])\n",
    "        return res"
   ]
  }
 ],
 "metadata": {
  "kernelspec": {
   "display_name": "Python 3 (ipykernel)",
   "language": "python",
   "name": "python3"
  },
  "language_info": {
   "codemirror_mode": {
    "name": "ipython",
    "version": 3
   },
   "file_extension": ".py",
   "mimetype": "text/x-python",
   "name": "python",
   "nbconvert_exporter": "python",
   "pygments_lexer": "ipython3",
   "version": "3.10.9"
  }
 },
 "nbformat": 4,
 "nbformat_minor": 5
}
