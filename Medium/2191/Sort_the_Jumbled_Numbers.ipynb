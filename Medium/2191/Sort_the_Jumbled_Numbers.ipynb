{
 "cells": [
  {
   "cell_type": "markdown",
   "metadata": {},
   "source": [
    "# 本題要將轉換後的數值重新排序\n",
    "原題目連結: https://leetcode.com/problems/sort-the-jumbled-numbers/  \n",
    "\n",
    "You are given a 0-indexed integer array mapping which represents the mapping rule of a shuffled decimal system. mapping[i] = j means digit i should be mapped to digit j in this system.  \n",
    "The mapped value of an integer is the new integer obtained by replacing each occurrence of digit i in the integer with mapping[i] for all 0 <= i <= 9.  \n",
    "You are also given another integer array nums. Return the array nums sorted in non-decreasing order based on the mapped values of its elements.  \n",
    "\n",
    "Notes:  \n",
    "Elements with the same mapped values should appear in the same relative order as in the input.  \n",
    "The elements of nums should only be sorted based on their mapped values and not be replaced by them.  \n",
    "\n",
    "範例:  \n",
    "Ex1:  \n",
    "Input: mapping = [8,9,4,0,2,1,3,5,7,6], nums = [991,338,38]  \n",
    "Output: [338,38,991]  \n",
    "Explanation:   \n",
    "Map the number 991 as follows:  \n",
    "1. mapping[9] = 6, so all occurrences of the digit 9 will become 6.  \n",
    "2. mapping[1] = 9, so all occurrences of the digit 1 will become 9.  \n",
    "Therefore, the mapped value of 991 is 669.  \n",
    "338 maps to 007, or 7 after removing the leading zeros.  \n",
    "38 maps to 07, which is also 7 after removing leading zeros.  \n",
    "Since 338 and 38 share the same mapped value, they should remain in the same relative order, so 338 comes before 38.  \n",
    "Thus, the sorted array is [338,38,991].  \n",
    "\n",
    "Ex2:  \n",
    "Input: mapping = [0,1,2,3,4,5,6,7,8,9], nums = [789,456,123]  \n",
    "Output: [123,456,789]  \n",
    "Explanation: 789 maps to 789, 456 maps to 456, and 123 maps to 123. Thus, the sorted array is [123,456,789]."
   ]
  },
  {
   "cell_type": "markdown",
   "metadata": {},
   "source": [
    "* 解題想法:  \n",
    "首先建立一個轉換數值的函數，接著將list中的數值進行轉換並用一個dict來存放轉換後的值相同的數字，最後先從最小的key開始取出數值放入list中"
   ]
  },
  {
   "cell_type": "code",
   "execution_count": null,
   "metadata": {},
   "outputs": [],
   "source": [
    "class Solution:\n",
    "    def sortJumbled(self, mapping: List[int], nums: List[int]) -> List[int]:\n",
    "        def getConverted(num, mapping):\n",
    "            result = ''\n",
    "            num_s = str(num)\n",
    "            for n in num_s:\n",
    "                result += str(mapping[int(n)])\n",
    "            return int(result)\n",
    "        result = []\n",
    "        freq = {}\n",
    "        for num in nums:\n",
    "            c = getConverted(num, mapping)\n",
    "            if c not in freq.keys():\n",
    "                freq[c] = [num]\n",
    "            else:\n",
    "                freq[c].append(num)\n",
    "        keys = list(freq.keys())\n",
    "        keys.sort()\n",
    "        for key in keys:\n",
    "            result += freq[key]\n",
    "        return result"
   ]
  }
 ],
 "metadata": {
  "kernelspec": {
   "display_name": "Python 3",
   "language": "python",
   "name": "python3"
  },
  "language_info": {
   "codemirror_mode": {
    "name": "ipython",
    "version": 3
   },
   "file_extension": ".py",
   "mimetype": "text/x-python",
   "name": "python",
   "nbconvert_exporter": "python",
   "pygments_lexer": "ipython3",
   "version": "3.7.4"
  }
 },
 "nbformat": 4,
 "nbformat_minor": 4
}
