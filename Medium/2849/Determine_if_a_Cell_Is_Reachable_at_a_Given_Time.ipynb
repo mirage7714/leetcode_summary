{
 "cells": [
  {
   "cell_type": "markdown",
   "id": "3ed2c776-8556-4149-92e2-b042e9dc65d4",
   "metadata": {},
   "source": [
    "# 本題要找出指定的時間內是否可到達指定的點 (\\#Math )\n",
    "原題目連結：https://leetcode.com/problems/determine-if-a-cell-is-reachable-at-a-given-time/description/  \n",
    "\n",
    "You are given four integers sx, sy, fx, fy, and a non-negative integer t.  \n",
    "In an infinite 2D grid, you start at the cell (sx, sy). Each second, you must move to any of its adjacent cells.  \n",
    "Return true if you can reach cell (fx, fy) after exactly t seconds, or false otherwise.  \n",
    "A cell's adjacent cells are the 8 cells around it that share at least one corner with it. You can visit the same cell several times.  \n",
    "\n",
    "範例： \n",
    "Ex1:  \n",
    "Input: sx = 2, sy = 4, fx = 7, fy = 7, t = 6  \n",
    "Output: true  \n",
    "Explanation: Starting at cell (2, 4), we can reach cell (7, 7) in exactly 6 seconds by going through the cells depicted in the picture above.   \n",
    "\n",
    "Ex2:  \n",
    "Input: sx = 3, sy = 1, fx = 7, fy = 3, t = 3  \n",
    "Output: false  \n",
    "Explanation: Starting at cell (3, 1), it takes at least 4 seconds to reach cell (7, 3) by going through the cells depicted in the picture above. Hence, we cannot reach cell (7, 3) at the third second."
   ]
  },
  {
   "cell_type": "markdown",
   "id": "e942f1ab-5ab5-4fe9-b00e-db04e1d5a9c9",
   "metadata": {},
   "source": [
    "* 解題想法：\n",
    "首先找出X軸與y軸的距離差，接著找出到達目標的最小時間為多少，如果指定的時間大於或等於需要的時間時，如果兩點不相同則回傳True，如果兩點相同時，需要的步數可能為0步或是2步以上，最後回傳是否可到達"
   ]
  },
  {
   "cell_type": "code",
   "execution_count": null,
   "id": "5dc32813-69c2-44da-b3db-4c7322636f30",
   "metadata": {},
   "outputs": [],
   "source": [
    "class Solution:\n",
    "    def isReachableAtTime(self, sx: int, sy: int, fx: int, fy: int, t: int) -> bool:\n",
    "        dx = abs(sx - fx)\n",
    "        dy = abs(sy - fy)\n",
    "        m = max(dx, dy)\n",
    "        if m == 0:\n",
    "            if t == 0:\n",
    "                return True\n",
    "            elif t < 2:\n",
    "                return False\n",
    "        if m <= t:\n",
    "            return True\n",
    "        return False"
   ]
  }
 ],
 "metadata": {
  "kernelspec": {
   "display_name": "Python 3 (ipykernel)",
   "language": "python",
   "name": "python3"
  },
  "language_info": {
   "codemirror_mode": {
    "name": "ipython",
    "version": 3
   },
   "file_extension": ".py",
   "mimetype": "text/x-python",
   "name": "python",
   "nbconvert_exporter": "python",
   "pygments_lexer": "ipython3",
   "version": "3.10.9"
  }
 },
 "nbformat": 4,
 "nbformat_minor": 5
}
