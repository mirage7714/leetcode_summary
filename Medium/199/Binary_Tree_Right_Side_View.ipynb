{
 "cells": [
  {
   "cell_type": "markdown",
   "metadata": {},
   "source": [
    "# 本題要找出樹最右側的值為多少\n",
    "原題目連結: https://leetcode.com/problems/binary-tree-right-side-view/  \n",
    "\n",
    "Given the root of a binary tree, imagine yourself standing on the right side of it, return the values of the nodes you can see ordered from top to bottom.  \n",
    "\n",
    "範例:  \n",
    "Ex1:  \n",
    "Input: root = [1,2,3,null,5,null,4]  \n",
    "Output: [1,3,4]  \n",
    "\n",
    "Ex2:  \n",
    "Input: root = [1,null,3]  \n",
    "Output: [1,3]  \n",
    "\n",
    "Ex3:  \n",
    "Input: root = []  \n",
    "Output: []"
   ]
  },
  {
   "cell_type": "markdown",
   "metadata": {},
   "source": [
    "* 解題想法:  \n",
    "為了要找出最右側的值，這邊使用BFS從左至右來走訪，在每層都走訪之後，將最右側的節點數值放入list中，最後回傳結果的list"
   ]
  },
  {
   "cell_type": "code",
   "execution_count": null,
   "metadata": {},
   "outputs": [],
   "source": [
    "# Definition for a binary tree node.\n",
    "# class TreeNode:\n",
    "#     def __init__(self, val=0, left=None, right=None):\n",
    "#         self.val = val\n",
    "#         self.left = left\n",
    "#         self.right = right\n",
    "class Solution:\n",
    "    def rightSideView(self, root: Optional[TreeNode]) -> List[int]:\n",
    "        result = []\n",
    "        if root != None:\n",
    "            temp = [root]\n",
    "            while len(temp) > 0:\n",
    "                nodes = []\n",
    "                result.append(temp[-1].val)\n",
    "                for t in temp:\n",
    "                    if t.left != None:\n",
    "                        nodes.append(t.left)\n",
    "                    if t.right != None:\n",
    "                        nodes.append(t.right)\n",
    "                temp.clear()\n",
    "                temp += nodes\n",
    "        return result"
   ]
  }
 ],
 "metadata": {
  "kernelspec": {
   "display_name": "Python 3",
   "language": "python",
   "name": "python3"
  },
  "language_info": {
   "codemirror_mode": {
    "name": "ipython",
    "version": 3
   },
   "file_extension": ".py",
   "mimetype": "text/x-python",
   "name": "python",
   "nbconvert_exporter": "python",
   "pygments_lexer": "ipython3",
   "version": "3.7.4"
  }
 },
 "nbformat": 4,
 "nbformat_minor": 4
}
