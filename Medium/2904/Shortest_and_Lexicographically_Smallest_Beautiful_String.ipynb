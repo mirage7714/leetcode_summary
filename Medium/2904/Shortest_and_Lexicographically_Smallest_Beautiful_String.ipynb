{
 "cells": [
  {
   "cell_type": "markdown",
   "id": "a2fbd6fa-0cfc-477b-8507-2cbaa038357b",
   "metadata": {},
   "source": [
    "# 本題要找出指定bit的最小字串為何 (\\#String )\n",
    "原題目連結：https://leetcode.com/problems/shortest-and-lexicographically-smallest-beautiful-string/description/  \n",
    "\n",
    "You are given a binary string s and a positive integer k.  \n",
    "A substring of s is beautiful if the number of 1's in it is exactly k.  \n",
    "Let len be the length of the shortest beautiful substring.  \n",
    "Return the lexicographically smallest beautiful substring of string s with length equal to len. If s doesn't contain a beautiful substring, return an empty string.  \n",
    "A string a is lexicographically larger than a string b (of the same length) if in the first position where a and b differ, a has a character strictly larger than the corresponding character in b.  \n",
    "For example, \"abcd\" is lexicographically larger than \"abcc\" because the first position they differ is at the fourth character, and d is greater than c.  \n",
    "\n",
    "範例：  \n",
    "Ex1:  \n",
    "Input: s = \"100011001\", k = 3  \n",
    "Output: \"11001\"  \n",
    "Explanation: There are 7 beautiful substrings in this example:  \n",
    "1. The substring \"100011001\".  \n",
    "2. The substring \"100011001\".  \n",
    "3. The substring \"100011001\".  \n",
    "4. The substring \"100011001\".  \n",
    "5. The substring \"100011001\".  \n",
    "6. The substring \"100011001\".  \n",
    "7. The substring \"100011001\".  \n",
    "The length of the shortest beautiful substring is 5.  \n",
    "The lexicographically smallest beautiful substring with length 5 is the substring \"11001\".  \n",
    "\n",
    "Ex2:  \n",
    "Input: s = \"1011\", k = 2  \n",
    "Output: \"11\"  \n",
    "Explanation: There are 3 beautiful substrings in this example:  \n",
    "1. The substring \"1011\".  \n",
    "2. The substring \"1011\".  \n",
    "3. The substring \"1011\".  \n",
    "The length of the shortest beautiful substring is 2.  \n",
    "The lexicographically smallest beautiful substring with length 2 is the substring \"11\".  \n",
    "\n",
    "Ex3:  \n",
    "Input: s = \"000\", k = 1  \n",
    "Output: \"\"  \n",
    "Explanation: There are no beautiful substrings in this example."
   ]
  },
  {
   "cell_type": "markdown",
   "id": "ffaa2b17-7c3f-4287-ba03-83589795fa25",
   "metadata": {},
   "source": [
    "* 解題想法：  \n",
    "首先找出bit為1的位置，接著判斷是否有符合條件的字串存在，如果有的話則用迴圈逐個產生出字串後比較最小長度且為最小的字串進行回傳"
   ]
  },
  {
   "cell_type": "code",
   "execution_count": null,
   "id": "ab555605-f015-44bd-ad58-9ea7a21ed935",
   "metadata": {},
   "outputs": [],
   "source": [
    "class Solution:\n",
    "    def shortestBeautifulSubstring(self, s: str, k: int) -> str:\n",
    "        def genWord(nums):\n",
    "            w = '1'\n",
    "            for i in range(len(nums)-1):\n",
    "                d = nums[i+1] - nums[i]\n",
    "                for _ in range(d-1):\n",
    "                    w += '0'\n",
    "                w += '1'\n",
    "            return w\n",
    "\n",
    "        res = ''\n",
    "        count = []\n",
    "        for i in range(len(s)):\n",
    "            if s[i] == '1':\n",
    "                count.append(i)\n",
    "        if len(count) >= k:\n",
    "            res = genWord(count[:k])\n",
    "            for j in range(1, len(count)-k+1):\n",
    "                r = count[j:j+k]\n",
    "                w = genWord(r)\n",
    "                if len(w) < len(res) or (len(w) == len(res) and int(w) < int(res)):\n",
    "                    res = w\n",
    "        return res"
   ]
  }
 ],
 "metadata": {
  "kernelspec": {
   "display_name": "Python 3 (ipykernel)",
   "language": "python",
   "name": "python3"
  },
  "language_info": {
   "codemirror_mode": {
    "name": "ipython",
    "version": 3
   },
   "file_extension": ".py",
   "mimetype": "text/x-python",
   "name": "python",
   "nbconvert_exporter": "python",
   "pygments_lexer": "ipython3",
   "version": "3.10.9"
  }
 },
 "nbformat": 4,
 "nbformat_minor": 5
}
