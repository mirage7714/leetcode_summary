{
 "cells": [
  {
   "cell_type": "markdown",
   "id": "5f095b61-e67e-469e-94b1-6e02f232cd50",
   "metadata": {},
   "source": [
    "# 本題要找出乘積中共有多少個質數 (\\#Math)\n",
    "原題目連結: https://leetcode.com/problems/distinct-prime-factors-of-product-of-array/description/  \n",
    "\n",
    "Given an array of positive integers nums, return the number of distinct prime factors in the product of the elements of nums.  \n",
    "Note that:  \n",
    "A number greater than 1 is called prime if it is divisible by only 1 and itself.  \n",
    "An integer val1 is a factor of another integer val2 if val2 / val1 is an integer.  \n",
    "\n",
    "範例:  \n",
    "Ex1:  \n",
    "Input: nums = [2,4,3,7,10,6]  \n",
    "Output: 4  \n",
    "Explanation:  \n",
    "The product of all the elements in nums is: 2 * 4 * 3 * 7 * 10 * 6 = 10080 = 25 * 32 * 5 * 7.  \n",
    "There are 4 distinct prime factors so we return 4.  \n",
    "\n",
    "Ex2:  \n",
    "Input: nums = [2,4,8,16]  \n",
    "Output: 1  \n",
    "Explanation:  \n",
    "The product of all the elements in nums is: 2 * 4 * 8 * 16 = 1024 = 210.  \n",
    "There is 1 distinct prime factor so we return 1."
   ]
  },
  {
   "cell_type": "markdown",
   "id": "e4bbdaca-7237-4889-953c-35a39261c03c",
   "metadata": {},
   "source": [
    "* 解題想法:  \n",
    "首先找出每個數字的因數，並將因數放入一個dict中，最後檢查這個dict中有那些key值是質數就是答案"
   ]
  },
  {
   "cell_type": "code",
   "execution_count": null,
   "id": "12ed3365-b470-44ed-a80b-eacaf9d5eb86",
   "metadata": {},
   "outputs": [],
   "source": [
    "class Solution:\n",
    "    def distinctPrimeFactors(self, nums: List[int]) -> int:\n",
    "        def check_prime(num):\n",
    "            for n in range(2, int(sqrt(num))+1):\n",
    "                if num % n == 0:\n",
    "                    return False\n",
    "            return True\n",
    "        \n",
    "        def get_factors(num):\n",
    "            factors = []\n",
    "            n = 2\n",
    "            while True:\n",
    "                if num % n == 0:\n",
    "                    num = num // n\n",
    "                    if n not in factors:\n",
    "                        factors.append(n)\n",
    "                else:\n",
    "                    n += 1\n",
    "                if num == 1:\n",
    "                    break\n",
    "            return factors\n",
    "                \n",
    "        res = set()\n",
    "        f = {}\n",
    "        for n in nums:\n",
    "            fac = get_factors(n)\n",
    "            for i in fac:\n",
    "                if i not in f.keys():\n",
    "                    f[i] = 1\n",
    "                else:\n",
    "                    f[i] += 1\n",
    "        for i in f.keys():\n",
    "            if check_prime(i):\n",
    "                res.add(i)\n",
    "        return len(res)"
   ]
  }
 ],
 "metadata": {
  "kernelspec": {
   "display_name": "Python 3 (ipykernel)",
   "language": "python",
   "name": "python3"
  },
  "language_info": {
   "codemirror_mode": {
    "name": "ipython",
    "version": 3
   },
   "file_extension": ".py",
   "mimetype": "text/x-python",
   "name": "python",
   "nbconvert_exporter": "python",
   "pygments_lexer": "ipython3",
   "version": "3.9.13"
  }
 },
 "nbformat": 4,
 "nbformat_minor": 5
}
