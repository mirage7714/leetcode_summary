{
 "cells": [
  {
   "cell_type": "markdown",
   "metadata": {},
   "source": [
    "# 本題目要從array中找出排名的順序\n",
    "原題目連結: https://leetcode.com/problems/rank-teams-by-votes/  \n",
    "\n",
    "In a special ranking system, each voter gives a rank from highest to lowest to all teams participated in the competition.  \n",
    "\n",
    "The ordering of teams is decided by who received the most position-one votes. If two or more teams tie in the first position, we consider the second position to resolve the conflict, if they tie again, we continue this process until the ties are resolved. If two or more teams are still tied after considering all positions, we rank them alphabetically based on their team letter.  \n",
    "\n",
    "Given an array of strings votes which is the votes of all voters in the ranking systems. Sort all teams according to the ranking system described above.  \n",
    "\n",
    "Return a string of all teams sorted by the ranking system.  \n",
    "\n",
    "範例:  \n",
    "Ex1:  \n",
    "Input: votes = [\"ABC\",\"ACB\",\"ABC\",\"ACB\",\"ACB\"]  \n",
    "Output: \"ACB\"  \n",
    "Explanation: Team A was ranked first place by 5 voters. No other team was voted as first place so team A is the first team.  \n",
    "Team B was ranked second by 2 voters and was ranked third by 3 voters.  \n",
    "Team C was ranked second by 3 voters and was ranked third by 2 voters.  \n",
    "As most of the voters ranked C second, team C is the second team and team B is the third.  \n",
    "\n",
    "Ex2:  \n",
    "Input: votes = [\"WXYZ\",\"XYZW\"]  \n",
    "Output: \"XWYZ\"  \n",
    "Explanation: X is the winner due to tie-breaking rule. X has same votes as W for the first position but X has one vote as second position while W doesn't have any votes as second position.   \n",
    "\n",
    "Ex3:  \n",
    "Input: votes = [\"ZMNAGUEDSJYLBOPHRQICWFXTVK\"]  \n",
    "Output: \"ZMNAGUEDSJYLBOPHRQICWFXTVK\"  \n",
    "Explanation: Only one voter so his votes are used for the ranking.  \n",
    "\n",
    "Ex4:  \n",
    "Input: votes = [\"BCA\",\"CAB\",\"CBA\",\"ABC\",\"ACB\",\"BAC\"]  \n",
    "Output: \"ABC\"  \n",
    "Explanation:   \n",
    "Team A was ranked first by 2 voters, second by 2 voters and third by 2 voters.  \n",
    "Team B was ranked first by 2 voters, second by 2 voters and third by 2 voters.  \n",
    "Team C was ranked first by 2 voters, second by 2 voters and third by 2 voters.  \n",
    "There is a tie and we rank teams ascending by their IDs.  \n",
    "\n",
    "Ex5:  \n",
    "Input: votes = [\"M\",\"M\",\"M\",\"M\"]  \n",
    "Output: \"M\"  \n",
    "Explanation: Only team M in the competition so it has the first rank."
   ]
  },
  {
   "cell_type": "markdown",
   "metadata": {},
   "source": [
    "* 解題想法:  \n",
    "本題中要針對list中的每個投票進行排序，需要知道每個team得到的票數為何，因此建立了一個dict來統計每個team得到的票數  \n",
    "最後再由票數的高到低順序將對應的team找出來並進行排序"
   ]
  },
  {
   "cell_type": "code",
   "execution_count": null,
   "metadata": {},
   "outputs": [],
   "source": [
    "class Solution:\n",
    "    def rankTeams(self, votes: List[str]) -> str:\n",
    "        freq = {}\n",
    "        orders = []\n",
    "        result = ''\n",
    "        if len(votes) > 1:\n",
    "            for vote in votes:\n",
    "                for n in range(len(vote)):\n",
    "                    if vote[n] not in freq.keys():\n",
    "                        temp = [0] * len(vote)\n",
    "                        temp[n] = 1\n",
    "                        freq[vote[n]] = temp\n",
    "                    else:\n",
    "                        current = freq[vote[n]]\n",
    "                        current[n] += 1\n",
    "                        freq[vote[n]] = current\n",
    "            values = list(freq.values())\n",
    "            values.sort(reverse = True)\n",
    "            for val in values:\n",
    "                temp = []\n",
    "                for k, y in freq.items():\n",
    "                    if y == val:\n",
    "                        if k not in result:\n",
    "                            temp.append(k)\n",
    "                temp.sort()\n",
    "                for t in temp:\n",
    "                    result += t\n",
    "        else:\n",
    "            result = votes[0]\n",
    "        return result"
   ]
  }
 ],
 "metadata": {
  "kernelspec": {
   "display_name": "Python 3",
   "language": "python",
   "name": "python3"
  },
  "language_info": {
   "codemirror_mode": {
    "name": "ipython",
    "version": 3
   },
   "file_extension": ".py",
   "mimetype": "text/x-python",
   "name": "python",
   "nbconvert_exporter": "python",
   "pygments_lexer": "ipython3",
   "version": "3.7.4"
  }
 },
 "nbformat": 4,
 "nbformat_minor": 2
}
