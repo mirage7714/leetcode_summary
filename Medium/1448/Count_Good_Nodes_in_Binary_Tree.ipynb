{
 "cells": [
  {
   "cell_type": "markdown",
   "metadata": {},
   "source": [
    "# 本題要找出符合good node的點共有多少個\n",
    "原題目連結: https://leetcode.com/problems/count-good-nodes-in-binary-tree/  \n",
    "\n",
    "Given a binary tree root, a node X in the tree is named good if in the path from root to X there are no nodes with a value greater than X.  \n",
    "Return the number of good nodes in the binary tree.  \n",
    "\n",
    "範例:  \n",
    "Ex1:  \n",
    "Input: root = [3,1,4,3,null,1,5]  \n",
    "Output: 4  \n",
    "Explanation: Nodes in blue are good.  \n",
    "Root Node (3) is always a good node.  \n",
    "Node 4 -> (3,4) is the maximum value in the path starting from the root.  \n",
    "Node 5 -> (3,4,5) is the maximum value in the path  \n",
    "Node 3 -> (3,1,3) is the maximum value in the path.  \n",
    "\n",
    "Ex2:  \n",
    "Input: root = [3,3,null,4,2] \n",
    "Output: 3  \n",
    "Explanation: Node 2 -> (3, 3, 2) is not good, because \"3\" is higher than it.  \n",
    "\n",
    "Ex3:  \n",
    "Input: root = [1]  \n",
    "Output: 1  \n",
    "Explanation: Root is considered as good."
   ]
  },
  {
   "cell_type": "markdown",
   "metadata": {},
   "source": [
    "* 解題想法:   \n",
    "同樣是路徑類的問題，首先建立一個construct函數，先檢查目前節點的值是否大於或等於目前的最大值，如果大於或等於則將數值+1並將目前最大值更新，最後結束時統計有多少符合的值並回傳"
   ]
  },
  {
   "cell_type": "code",
   "execution_count": null,
   "metadata": {},
   "outputs": [],
   "source": [
    "# Definition for a binary tree node.\n",
    "# class TreeNode:\n",
    "#     def __init__(self, val=0, left=None, right=None):\n",
    "#         self.val = val\n",
    "#         self.left = left\n",
    "#         self.right = right\n",
    "class Solution:\n",
    "    def goodNodes(self, root: TreeNode) -> int:\n",
    "        def construct(node, res):\n",
    "            if node.val >= res:\n",
    "                res = node.val\n",
    "                count.append(1)\n",
    "            if node.left or node.right:\n",
    "                if node.left:\n",
    "                    construct(node.left, res)\n",
    "                if node.right:\n",
    "                    construct(node.right, res)\n",
    "        count = []\n",
    "        construct(root, root.val)\n",
    "        return len(count)"
   ]
  }
 ],
 "metadata": {
  "kernelspec": {
   "display_name": "Python 3",
   "language": "python",
   "name": "python3"
  },
  "language_info": {
   "codemirror_mode": {
    "name": "ipython",
    "version": 3
   },
   "file_extension": ".py",
   "mimetype": "text/x-python",
   "name": "python",
   "nbconvert_exporter": "python",
   "pygments_lexer": "ipython3",
   "version": "3.7.4"
  }
 },
 "nbformat": 4,
 "nbformat_minor": 4
}
