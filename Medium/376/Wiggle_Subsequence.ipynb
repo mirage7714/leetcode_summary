{
 "cells": [
  {
   "cell_type": "markdown",
   "metadata": {},
   "source": [
    "# 本題要找出符合條件的list最大長度為多少\n",
    "原題目連結: https://leetcode.com/problems/wiggle-subsequence/  \n",
    "\n",
    "A wiggle sequence is a sequence where the differences between successive numbers strictly alternate between positive and negative. The first difference (if one exists) may be either positive or negative. A sequence with one element and a sequence with two non-equal elements are trivially wiggle sequences.  \n",
    "\n",
    "For example, [1, 7, 4, 9, 2, 5] is a wiggle sequence because the differences (6, -3, 5, -7, 3) alternate between positive and negative.  \n",
    "In contrast, [1, 4, 7, 2, 5] and [1, 7, 4, 5, 5] are not wiggle sequences. The first is not because its first two differences are positive, and the second is not because its last difference is zero.  \n",
    "A subsequence is obtained by deleting some elements (possibly zero) from the original sequence, leaving the remaining elements in their original order.  \n",
    "\n",
    "Given an integer array nums, return the length of the longest wiggle subsequence of nums.  \n",
    "\n",
    "範例:  \n",
    "Ex1:  \n",
    "Input: nums = [1,7,4,9,2,5]  \n",
    "Output: 6  \n",
    "Explanation: The entire sequence is a wiggle sequence with differences (6, -3, 5, -7, 3).  \n",
    "\n",
    "Ex2:　\n",
    "Input: nums = [1,17,5,10,13,15,10,5,16,8]　　\n",
    "Output: 7　　\n",
    "Explanation: There are several subsequences that achieve this length.　　\n",
    "One is [1, 17, 10, 13, 10, 16, 8] with differences (16, -7, 3, -3, 6, -8).　　\n",
    "\n",
    "Ex3:  \n",
    "Input: nums = [1,2,3,4,5,6,7,8,9]  \n",
    "Output: 2"
   ]
  },
  {
   "cell_type": "markdown",
   "metadata": {},
   "source": [
    "* 解題想法:  \n",
    "題目要求要找出間隔必須為正負交錯的最大長度，因此這邊建立了一個函數，用來檢查起始的間隔為正數或是負數，最後回傳兩種情況的最大長度"
   ]
  },
  {
   "cell_type": "code",
   "execution_count": null,
   "metadata": {},
   "outputs": [],
   "source": [
    "class Solution:\n",
    "    def wiggleMaxLength(self, nums: List[int]) -> int:  \n",
    "        def diff(nums, direction):\n",
    "            result = [nums[0]]\n",
    "            for m in range(1, len(nums)):\n",
    "                s = len(result)\n",
    "                if s % 2 == 1:\n",
    "                    if direction == 0:\n",
    "                        if result[-1] >= nums[m]:\n",
    "                            result.pop()\n",
    "                    else:\n",
    "                        if result[-1] <= nums[m]:\n",
    "                            result.pop()\n",
    "                    result.append(nums[m])\n",
    "                else:\n",
    "                    if direction == 0:\n",
    "                        if result[-1] <= nums[m]:\n",
    "                            result.pop()\n",
    "                    else:\n",
    "                        if result[-1] >= nums[m]:\n",
    "                            result.pop()\n",
    "                    result.append(nums[m])\n",
    "            return len(result)\n",
    "        return max(diff(nums, 0), diff(nums, 1))"
   ]
  }
 ],
 "metadata": {
  "kernelspec": {
   "display_name": "Python 3",
   "language": "python",
   "name": "python3"
  },
  "language_info": {
   "codemirror_mode": {
    "name": "ipython",
    "version": 3
   },
   "file_extension": ".py",
   "mimetype": "text/x-python",
   "name": "python",
   "nbconvert_exporter": "python",
   "pygments_lexer": "ipython3",
   "version": "3.7.4"
  }
 },
 "nbformat": 4,
 "nbformat_minor": 4
}
