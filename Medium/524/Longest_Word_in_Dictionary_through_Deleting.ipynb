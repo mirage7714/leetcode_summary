{
 "cells": [
  {
   "cell_type": "markdown",
   "id": "5911904e-5fe7-421d-a775-8eabc36c3963",
   "metadata": {},
   "source": [
    "# 本題要判斷符合條件的最長字串為何 (\\#String, \\#Array, \\#TwoPointer )\n",
    "原題目連結: https://leetcode.com/problems/longest-word-in-dictionary-through-deleting/description/  \n",
    "\n",
    "Given a string s and a string array dictionary, return the longest string in the dictionary that can be formed by deleting some of the given string characters. If there is more than one possible result, return the longest word with the smallest lexicographical order. If there is no possible result, return the empty string.  \n",
    "\n",
    "範例:  \n",
    "Ex1:  \n",
    "Input: s = \"abpcplea\", dictionary = [\"ale\",\"apple\",\"monkey\",\"plea\"]  \n",
    "Output: \"apple\"  \n",
    "\n",
    "Ex2:  \n",
    "Input: s = \"abpcplea\", dictionary = [\"a\",\"b\",\"c\"]  \n",
    "Output: \"a\"  "
   ]
  },
  {
   "cell_type": "markdown",
   "id": "80b69b95-4408-48fc-b64e-4d8a47a7df7b",
   "metadata": {},
   "source": [
    "* 解題想法:  \n",
    "首先建立一個函數，用來檢查兩個字串在刪除一些字母之後是否可以產生關聯，接著開始從dictionary中進行檢查，如果有符合的字串則檢查長度與目前的最長字串進行比較，如果長度較長，或是長度相同但順序較小則更新目前的字串，最後回傳字串就是答案"
   ]
  },
  {
   "cell_type": "code",
   "execution_count": null,
   "id": "1b98b787-97cf-4dbd-b892-76fb6192debe",
   "metadata": {},
   "outputs": [],
   "source": [
    "class Solution:\n",
    "    def findLongestWord(self, s: str, dictionary: List[str]) -> str:\n",
    "        def check_match(word1, word2):\n",
    "            if word1 in word2:\n",
    "                return True\n",
    "            i = 0\n",
    "            for w in word1:\n",
    "                is_valid = False\n",
    "                for j in range(i, len(word2)):\n",
    "                    if word2[j] == w:\n",
    "                        i = j+1\n",
    "                        is_valid = True\n",
    "                        break\n",
    "                if not is_valid:\n",
    "                    return False\n",
    "            return True\n",
    "        \n",
    "        res = ''\n",
    "        for d in dictionary:\n",
    "            if check_match(d, s):\n",
    "                if len(res) < len(d):\n",
    "                    res = d\n",
    "                elif len(res) == len(d):\n",
    "                    res = min(res, d)\n",
    "        return res"
   ]
  }
 ],
 "metadata": {
  "kernelspec": {
   "display_name": "Python 3 (ipykernel)",
   "language": "python",
   "name": "python3"
  },
  "language_info": {
   "codemirror_mode": {
    "name": "ipython",
    "version": 3
   },
   "file_extension": ".py",
   "mimetype": "text/x-python",
   "name": "python",
   "nbconvert_exporter": "python",
   "pygments_lexer": "ipython3",
   "version": "3.9.13"
  }
 },
 "nbformat": 4,
 "nbformat_minor": 5
}
