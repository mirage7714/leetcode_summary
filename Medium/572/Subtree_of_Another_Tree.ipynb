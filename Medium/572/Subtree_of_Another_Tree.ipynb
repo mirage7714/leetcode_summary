{
 "cells": [
  {
   "cell_type": "markdown",
   "metadata": {},
   "source": [
    "# 本題要判斷指定的樹是否為另一個樹中的子樹\n",
    "原題目連結: https://leetcode.com/problems/subtree-of-another-tree/  \n",
    "\n",
    "Given the roots of two binary trees root and subRoot, return true if there is a subtree of root with the same structure and node values of subRoot and false otherwise.  \n",
    "A subtree of a binary tree tree is a tree that consists of a node in tree and all of this node's descendants. The tree tree could also be considered as a subtree of itself.  \n",
    "\n",
    "範例:  \n",
    "Ex1:  \n",
    "Input: root = [3,4,5,1,2], subRoot = [4,1,2]  \n",
    "Output: true  \n",
    "\n",
    "Ex2:  \n",
    "Input: root = [3,4,5,1,2,null,null,null,null,0], subRoot = [4,1,2]  \n",
    "Output: false"
   ]
  },
  {
   "cell_type": "markdown",
   "metadata": {},
   "source": [
    "* 解題想法:  \n",
    "首先建立一個函數用來取出樹中的數值，如果遇到左或右為空值時，分別放入不同的數值，最後從母樹的數值開始進行比對，如果有與子樹開頭數值相同的情況，則檢查指定長度內的數值是否與子樹相同，如果相同的情況下則回傳True"
   ]
  },
  {
   "cell_type": "code",
   "execution_count": null,
   "metadata": {},
   "outputs": [],
   "source": [
    "# Definition for a binary tree node.\n",
    "# class TreeNode:\n",
    "#     def __init__(self, val=0, left=None, right=None):\n",
    "#         self.val = val\n",
    "#         self.left = left\n",
    "#         self.right = right\n",
    "class Solution:\n",
    "    def isSubtree(self, root: Optional[TreeNode], subRoot: Optional[TreeNode]) -> bool:\n",
    "        def getTreeValues(tree):\n",
    "            val = []\n",
    "            temp = [tree]\n",
    "            while len(temp) > 0:\n",
    "                node = temp.pop()\n",
    "                val.append(node.val)\n",
    "                if node.left != None:\n",
    "                    temp.append(node.left)\n",
    "                else:\n",
    "                    val.append(100001)\n",
    "                if node.right != None:\n",
    "                    temp.append(node.right)\n",
    "                else:\n",
    "                    val.append(100002)\n",
    "            return val\n",
    "        result = False\n",
    "        sub_val = getTreeValues(subRoot)\n",
    "        tree_val = getTreeValues(root)\n",
    "        s = len(sub_val)\n",
    "        for m in range(len(tree_val)-s+1):\n",
    "            part = tree_val[m:m+s]\n",
    "            if tree_val[m:m+s] == sub_val:\n",
    "                result = True\n",
    "                break\n",
    "        return result"
   ]
  }
 ],
 "metadata": {
  "kernelspec": {
   "display_name": "Python 3",
   "language": "python",
   "name": "python3"
  },
  "language_info": {
   "codemirror_mode": {
    "name": "ipython",
    "version": 3
   },
   "file_extension": ".py",
   "mimetype": "text/x-python",
   "name": "python",
   "nbconvert_exporter": "python",
   "pygments_lexer": "ipython3",
   "version": "3.7.4"
  }
 },
 "nbformat": 4,
 "nbformat_minor": 4
}
