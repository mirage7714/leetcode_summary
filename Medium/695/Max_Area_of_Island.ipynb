{
 "cells": [
  {
   "cell_type": "markdown",
   "metadata": {},
   "source": [
    "# 本題要計算最大的島嶼面積為何\n",
    "原題目連結: https://leetcode.com/problems/max-area-of-island/  \n",
    "\n",
    "You are given an m x n binary matrix grid. An island is a group of 1's (representing land) connected 4-directionally (horizontal or vertical.) You may assume all four edges of the grid are surrounded by water.  \n",
    "\n",
    "The area of an island is the number of cells with a value 1 in the island.  \n",
    "Return the maximum area of an island in grid. If there is no island, return 0.  \n",
    "\n",
    "範例:  \n",
    "Ex1:  \n",
    "Input: grid = [[0,0,1,0,0,0,0,1,0,0,0,0,0],[0,0,0,0,0,0,0,1,1,1,0,0,0],[0,1,1,0,1,0,0,0,0,0,0,0,0],[0,1,0,0,1,1,0,0,1,0,1,0,0],[0,1,0,0,1,1,0,0,1,1,1,0,0],[0,0,0,0,0,0,0,0,0,0,1,0,0],[0,0,0,0,0,0,0,1,1,1,0,0,0],[0,0,0,0,0,0,0,1,1,0,0,0,0]]  \n",
    "Output: 6  \n",
    "Explanation: The answer is not 11, because the island must be connected 4-directionally.  \n",
    "\n",
    "Ex2:  \n",
    "Input: grid = [[0,0,0,0,0,0,0,0]]  \n",
    "Output: 0"
   ]
  },
  {
   "cell_type": "markdown",
   "metadata": {},
   "source": [
    "* 解題想法:  \n",
    "與200題類似，這題也是用DFS的方式來進行解題，首先建立一個dfs的函數，並把符合的點都放入一個list中，直到遞迴結束後將list長度與目前最大值相比，最後回傳面積最大的數值就是答案"
   ]
  },
  {
   "cell_type": "code",
   "execution_count": null,
   "metadata": {},
   "outputs": [],
   "source": [
    "class Solution:\n",
    "    def maxAreaOfIsland(self, grid: List[List[int]]) -> int:\n",
    "        def dfs(grid, i, j, area):\n",
    "            if i < 0 or j < 0 or i >= len(grid) or j >= len(grid[0]) or grid[i][j] != 1:\n",
    "                return\n",
    "            area.append([i,j])\n",
    "            grid[i][j] = 0\n",
    "            dfs(grid, i-1, j, area)\n",
    "            dfs(grid, i+1, j, area)\n",
    "            dfs(grid, i, j-1, area)\n",
    "            dfs(grid, i, j+1, area)\n",
    "\n",
    "        land = 0\n",
    "        m = len(grid)\n",
    "        n = len(grid[0])\n",
    "        area = []\n",
    "        for i in range(m):\n",
    "            for j in range(n):\n",
    "                if grid[i][j] == 1:\n",
    "                    dfs(grid, i, j, area)\n",
    "                    if len(area) > land:\n",
    "                        land = len(area)\n",
    "                    area.clear()\n",
    "        return land             "
   ]
  }
 ],
 "metadata": {
  "kernelspec": {
   "display_name": "Python 3",
   "language": "python",
   "name": "python3"
  },
  "language_info": {
   "codemirror_mode": {
    "name": "ipython",
    "version": 3
   },
   "file_extension": ".py",
   "mimetype": "text/x-python",
   "name": "python",
   "nbconvert_exporter": "python",
   "pygments_lexer": "ipython3",
   "version": "3.7.4"
  }
 },
 "nbformat": 4,
 "nbformat_minor": 4
}
