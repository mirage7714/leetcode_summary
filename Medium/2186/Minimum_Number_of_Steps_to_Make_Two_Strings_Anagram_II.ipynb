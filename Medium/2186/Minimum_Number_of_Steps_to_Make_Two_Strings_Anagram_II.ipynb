{
 "cells": [
  {
   "cell_type": "markdown",
   "metadata": {},
   "source": [
    "# 本題要找出兩個字共有多少的字母差異\n",
    "原題目連結: https://leetcode.com/problems/minimum-number-of-steps-to-make-two-strings-anagram-ii/  \n",
    "\n",
    "You are given two strings s and t. In one step, you can append any character to either s or t.  \n",
    "Return the minimum number of steps to make s and t anagrams of each other.  \n",
    "An anagram of a string is a string that contains the same characters with a different (or the same) ordering.  \n",
    "\n",
    "範例:  \n",
    "Ex1:  \n",
    "Input: s = \"leetcode\", t = \"coats\"  \n",
    "Output: 7  \n",
    "Explanation:   \n",
    "- In 2 steps, we can append the letters in \"as\" onto s = \"leetcode\", forming s = \"leetcodeas\".  \n",
    "- In 5 steps, we can append the letters in \"leede\" onto t = \"coats\", forming t = \"coatsleede\".  \n",
    "\"leetcodeas\" and \"coatsleede\" are now anagrams of each other.  \n",
    "We used a total of 2 + 5 = 7 steps.  \n",
    "It can be shown that there is no way to make them anagrams of each other with less than 7 steps.  \n",
    "\n",
    "Ex2:  \n",
    "Input: s = \"night\", t = \"thing\"  \n",
    "Output: 0  \n",
    "Explanation: The given strings are already anagrams of each other. Thus, we do not need any further steps."
   ]
  },
  {
   "cell_type": "markdown",
   "metadata": {},
   "source": [
    "* 解題想法:  \n",
    "首先建立一個函數來計算每個字中出現的字母總數，接著比較兩個字的字母總數，並將差值加起來就是最後的答案"
   ]
  },
  {
   "cell_type": "code",
   "execution_count": null,
   "metadata": {},
   "outputs": [],
   "source": [
    "class Solution(object):\n",
    "    def minSteps(self, s, t):\n",
    "        \"\"\"\n",
    "        :type s: str\n",
    "        :type t: str\n",
    "        :rtype: int\n",
    "        \"\"\"\n",
    "        def countChars(word):\n",
    "            freq = {}\n",
    "            for w in word:\n",
    "                if w not in freq.keys():\n",
    "                    freq[w] = 1\n",
    "                else:\n",
    "                    freq[w] += 1\n",
    "            return freq\n",
    "        \n",
    "        total = 0\n",
    "        freq1 = countChars(s)\n",
    "        freq2 = countChars(t)\n",
    "        keys1 = list(freq1.keys())\n",
    "        keys2 = list(freq2.keys())\n",
    "        for key in keys1:\n",
    "            if key not in keys2:\n",
    "                total += freq1[key]\n",
    "            else:\n",
    "                total += abs(freq1[key] - freq2[key])\n",
    "        for key in keys2:\n",
    "            if key not in keys1:\n",
    "                total += freq2[key]\n",
    "        return total"
   ]
  }
 ],
 "metadata": {
  "kernelspec": {
   "display_name": "Python 3",
   "language": "python",
   "name": "python3"
  },
  "language_info": {
   "codemirror_mode": {
    "name": "ipython",
    "version": 3
   },
   "file_extension": ".py",
   "mimetype": "text/x-python",
   "name": "python",
   "nbconvert_exporter": "python",
   "pygments_lexer": "ipython3",
   "version": "3.7.4"
  }
 },
 "nbformat": 4,
 "nbformat_minor": 4
}
