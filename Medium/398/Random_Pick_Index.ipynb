{
 "cells": [
  {
   "cell_type": "markdown",
   "metadata": {},
   "source": [
    "# 本題要設計一個隨機回傳指定數值的index函數\n",
    "原題目連結: https://leetcode.com/problems/random-pick-index/  \n",
    "\n",
    "Given an integer array nums with possible duplicates, randomly output the index of a given target number. You can assume that the given target number must exist in the array.  \n",
    "\n",
    "Implement the Solution class:  \n",
    "\n",
    "Solution(int[] nums) Initializes the object with the array nums.  \n",
    "int pick(int target) Picks a random index i from nums where nums[i] == target. If there are multiple valid i's, then each index should have an equal probability of returning.  \n",
    "\n",
    "範例:  \n",
    "Ex1:  \n",
    "Input  \n",
    "[\"Solution\", \"pick\", \"pick\", \"pick\"]  \n",
    "[[[1, 2, 3, 3, 3]], [3], [1], [3]]  \n",
    "Output  \n",
    "[null, 4, 0, 2]  \n",
    "\n",
    "Explanation  \n",
    "Solution solution = new Solution([1, 2, 3, 3, 3]);  \n",
    "solution.pick(3); // It should return either index 2, 3, or 4 randomly. Each index should have equal probability of returning.  \n",
    "solution.pick(1); // It should return 0. Since in the array only nums[0] is equal to 1.  \n",
    "solution.pick(3); // It should return either index 2, 3, or 4 randomly. Each index should have equal probability of returning."
   ]
  },
  {
   "cell_type": "markdown",
   "metadata": {},
   "source": [
    "* 解題想法:  \n",
    "依據題目要求，首先將題目提供的list依據數值來將不同數值用一個dict來存放，並把index值用list存放  \n",
    "- pick(): 首先用提供的值來判斷是否有多個值，如果只有一個值就回傳該數值，否則使用random回傳一個值並回傳list中的該index為何"
   ]
  },
  {
   "cell_type": "code",
   "execution_count": null,
   "metadata": {},
   "outputs": [],
   "source": [
    "import random\n",
    "class Solution:\n",
    "\n",
    "    def __init__(self, nums: List[int]):\n",
    "        self.freq = {}\n",
    "        for n in range(len(nums)):\n",
    "            if nums[n] not in self.freq.keys():\n",
    "                self.freq[nums[n]] = [n]\n",
    "            else:\n",
    "                self.freq[nums[n]].append(n)\n",
    "\n",
    "    def pick(self, target: int) -> int:\n",
    "        indexs = self.freq[target]\n",
    "        if len(indexs) == 1:\n",
    "            return indexs[0]\n",
    "        else:\n",
    "            i = random.randint(0, len(indexs)-1)\n",
    "            return indexs[i]\n",
    "\n",
    "\n",
    "# Your Solution object will be instantiated and called as such:\n",
    "# obj = Solution(nums)\n",
    "# param_1 = obj.pick(target)"
   ]
  }
 ],
 "metadata": {
  "kernelspec": {
   "display_name": "Python 3",
   "language": "python",
   "name": "python3"
  },
  "language_info": {
   "codemirror_mode": {
    "name": "ipython",
    "version": 3
   },
   "file_extension": ".py",
   "mimetype": "text/x-python",
   "name": "python",
   "nbconvert_exporter": "python",
   "pygments_lexer": "ipython3",
   "version": "3.7.4"
  }
 },
 "nbformat": 4,
 "nbformat_minor": 2
}
