{
 "cells": [
  {
   "cell_type": "markdown",
   "metadata": {},
   "source": [
    "# 本題要找出上下節點數值差距最大的值為多少 (\\#Binary Tree)\n",
    "原題目連結: https://leetcode.com/problems/maximum-difference-between-node-and-ancestor/description/  \n",
    "\n",
    "Given the root of a binary tree, find the maximum value v for which there exist different nodes a and b where v = |a.val - b.val| and a is an ancestor of b.  \n",
    "A node a is an ancestor of b if either: any child of a is equal to b or any child of a is an ancestor of b.  \n",
    "\n",
    "範例:  \n",
    "Ex1:  \n",
    "Input: root = [8,3,10,1,6,null,14,null,null,4,7,13]  \n",
    "Output: 7  \n",
    "Explanation: We have various ancestor-node differences, some of which are given below :  \n",
    "|8 - 3| = 5  \n",
    "|3 - 7| = 4  \n",
    "|8 - 1| = 7  \n",
    "|10 - 13| = 3  \n",
    "Among all possible differences, the maximum value of 7 is obtained by |8 - 1| = 7.  \n",
    "\n",
    "Ex2:  \n",
    "Input: root = [1,null,2,null,0,3]  \n",
    "Output: 3"
   ]
  },
  {
   "cell_type": "markdown",
   "metadata": {},
   "source": [
    "* 解題想法:  \n",
    "由於要找出上下層的最大差值為何，因此使用了DFS來進行走訪二元樹，將路徑上的所有節點找出後，在路徑到盡頭時則將這條路徑的最大與最小值找出後算出絕對值並放入list中，最後回傳list的最大值就是答案"
   ]
  },
  {
   "cell_type": "code",
   "execution_count": null,
   "metadata": {},
   "outputs": [],
   "source": [
    "# Definition for a binary tree node.\n",
    "# class TreeNode:\n",
    "#     def __init__(self, val=0, left=None, right=None):\n",
    "#         self.val = val\n",
    "#         self.left = left\n",
    "#         self.right = right\n",
    "class Solution:\n",
    "    def maxAncestorDiff(self, root: Optional[TreeNode]) -> int:\n",
    "        def dfs(node, res):\n",
    "            if not node.left and not node.right:\n",
    "                res += '{}'.format(node.val)\n",
    "                w = res.split(',')\n",
    "                d = [int(i) for i in w]\n",
    "                result.append(int(max(d)) - int(min(d)))\n",
    "            res += '{},'.format(node.val)\n",
    "            if node.left:\n",
    "                dfs(node.left, res)\n",
    "            if node.right:\n",
    "                dfs(node.right, res)\n",
    "        result = []\n",
    "        if root:\n",
    "            dfs(root, '')\n",
    "        return max(result)"
   ]
  }
 ],
 "metadata": {
  "kernelspec": {
   "display_name": "Python 3",
   "language": "python",
   "name": "python3"
  },
  "language_info": {
   "codemirror_mode": {
    "name": "ipython",
    "version": 3
   },
   "file_extension": ".py",
   "mimetype": "text/x-python",
   "name": "python",
   "nbconvert_exporter": "python",
   "pygments_lexer": "ipython3",
   "version": "3.7.4"
  }
 },
 "nbformat": 4,
 "nbformat_minor": 4
}
