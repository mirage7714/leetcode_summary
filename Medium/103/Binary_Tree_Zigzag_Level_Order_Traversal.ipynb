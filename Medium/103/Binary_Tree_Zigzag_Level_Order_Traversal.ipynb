{
 "cells": [
  {
   "cell_type": "markdown",
   "metadata": {},
   "source": [
    "# 本題要用Z字型將樹中所有的節點數值取出\n",
    "原題目連結: https://leetcode.com/problems/binary-tree-zigzag-level-order-traversal/  \n",
    "\n",
    "Given the root of a binary tree, return the zigzag level order traversal of its nodes' values. (i.e., from left to right, then right to left for the next level and alternate between).  \n",
    "\n",
    "範例:  \n",
    "Ex1:  \n",
    "Input: root = [3,9,20,null,null,15,7]  \n",
    "Output: [[3],[20,9],[15,7]]  \n",
    "\n",
    "Ex2:  \n",
    "Input: root = [1]  \n",
    "Output: [[1]]  \n",
    "\n",
    "Ex3:  \n",
    "Input: root = []  \n",
    "Output: []"
   ]
  },
  {
   "cell_type": "markdown",
   "metadata": {},
   "source": [
    "* 解題想法:  \n",
    "與102題相似，都是要取出樹中的所有數值，但這題要求是要用Z字形的方式去取值，因此加了一個變數來統計目前的層數來進行左右方向的切換，最後一樣將值放入list中進行回傳"
   ]
  },
  {
   "cell_type": "code",
   "execution_count": null,
   "metadata": {},
   "outputs": [],
   "source": [
    "# Definition for a binary tree node.\n",
    "# class TreeNode:\n",
    "#     def __init__(self, val=0, left=None, right=None):\n",
    "#         self.val = val\n",
    "#         self.left = left\n",
    "#         self.right = right\n",
    "class Solution:\n",
    "    def zigzagLevelOrder(self, root: Optional[TreeNode]) -> List[List[int]]:\n",
    "        result = []\n",
    "        if root != None:\n",
    "            temp = [root]\n",
    "            level = 1\n",
    "            while len(temp) > 0:\n",
    "                val = []\n",
    "                nodes = []\n",
    "                for t in temp:\n",
    "                    if level % 2 == 1:\n",
    "                        val.append(t.val)\n",
    "                    else:\n",
    "                        val.insert(0, t.val)\n",
    "                    if t.left != None:\n",
    "                        nodes.append(t.left)\n",
    "                    if t.right != None:\n",
    "                        nodes.append(t.right)\n",
    "                if len(val) > 0:\n",
    "                    result.append(val)\n",
    "                level += 1\n",
    "                temp.clear()\n",
    "                temp += nodes\n",
    "        return result"
   ]
  }
 ],
 "metadata": {
  "kernelspec": {
   "display_name": "Python 3",
   "language": "python",
   "name": "python3"
  },
  "language_info": {
   "codemirror_mode": {
    "name": "ipython",
    "version": 3
   },
   "file_extension": ".py",
   "mimetype": "text/x-python",
   "name": "python",
   "nbconvert_exporter": "python",
   "pygments_lexer": "ipython3",
   "version": "3.7.4"
  }
 },
 "nbformat": 4,
 "nbformat_minor": 4
}
