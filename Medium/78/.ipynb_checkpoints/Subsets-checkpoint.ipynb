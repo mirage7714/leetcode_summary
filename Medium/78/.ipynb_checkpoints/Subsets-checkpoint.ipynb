{
 "cells": [
  {
   "cell_type": "markdown",
   "metadata": {},
   "source": [
    "# 本題要找出subsets的所有組合\n",
    "原題目連結: https://leetcode.com/problems/subsets/  \n",
    "\n",
    "Given an integer array nums of unique elements, return all possible subsets (the power set).  \n",
    "\n",
    "The solution set must not contain duplicate subsets. Return the solution in any order.  \n",
    "\n",
    "範例:  \n",
    "Ex1:  \n",
    "Input: nums = [1,2,3]  \n",
    "Output: [[],[1],[2],[1,2],[3],[1,3],[2,3],[1,2,3]]  \n",
    "\n",
    "Ex2:  \n",
    "Input: nums = [0]  \n",
    "Output: [[],[0]]"
   ]
  },
  {
   "cell_type": "markdown",
   "metadata": {},
   "source": [
    "* 解題想法:  \n",
    "依題目說明，要找出所有的subset，因此先將list內的每個元素都建成單一的list，接著用迴圈去將每個單一的list進行加一的擴大，並確認不會產生重複的list，最後將結果回傳"
   ]
  },
  {
   "cell_type": "code",
   "execution_count": null,
   "metadata": {},
   "outputs": [],
   "source": [
    "class Solution:\n",
    "    def subsets(self, nums: List[int]) -> List[List[int]]:\n",
    "        def convertIndexToNumbers(input_nums):\n",
    "            result = []\n",
    "            for num in input_nums:\n",
    "                result.append(nums[num])\n",
    "            return result\n",
    "        \n",
    "        freq = {}\n",
    "        temp = []\n",
    "        temp1 = []\n",
    "        result = [[]]\n",
    "        if len(nums) > 1: \n",
    "            for n in range(len(nums)-1):\n",
    "                if len(temp1) < 1:\n",
    "                    for c in range(len(nums)):\n",
    "                        temp1.append([c])\n",
    "                else:\n",
    "                    for t in temp1:\n",
    "                        for c in range(t[-1], len(nums)):\n",
    "                            if c not in t:\n",
    "                                if c > t[-1]:\n",
    "                                    m = t + [c]\n",
    "                                    if m not in temp1:\n",
    "                                        temp1.append(m)\n",
    "                diff = len(temp1) - len(temp)\n",
    "                temp += temp1[-diff:]\n",
    "                temp1 = temp1[-diff:]\n",
    "            for t in temp:\n",
    "                tt = tuple(t)\n",
    "                if tt not in freq.keys():\n",
    "                    freq[tt] = 1\n",
    "            for key in freq.keys():\n",
    "                result.append(convertIndexToNumbers(list(key)))\n",
    "            if nums not in result:\n",
    "                result.append(nums)\n",
    "        else:\n",
    "            result.append(nums)\n",
    "        return result"
   ]
  },
  {
   "cell_type": "markdown",
   "metadata": {},
   "source": [
    "* 使用backtracking進行解題(2022/09/05):  \n",
    "先建立一個函數，用來找出所有的subset:   \n",
    "首先將暫存的結果加入最後的結果中，接著用迴圈開始檢查下一個元素是否在暫存中，如果不在的話則將下一個元素加入暫存中，並進行遞迴，最後將暫存中的元素移除  \n",
    "如果當暫存的指標超過nums長度時則中斷遞迴"
   ]
  },
  {
   "cell_type": "code",
   "execution_count": null,
   "metadata": {},
   "outputs": [],
   "source": [
    "class Solution:\n",
    "    def subsets(self, nums: List[int]) -> List[List[int]]:\n",
    "        def getSubset(nums, res, cur, index):\n",
    "            if index > len(nums):\n",
    "                return\n",
    "            res.append(cur[:])\n",
    "            for i in range(index, len(nums)):\n",
    "                if nums[i] not in cur:\n",
    "                    cur.append(nums[i])\n",
    "                    getSubset(nums, res, cur, i)\n",
    "                    cur.pop()\n",
    "        res = []\n",
    "        cur = []\n",
    "        getSubset(nums, res, cur, 0)\n",
    "        return res"
   ]
  }
 ],
 "metadata": {
  "kernelspec": {
   "display_name": "Python 3",
   "language": "python",
   "name": "python3"
  },
  "language_info": {
   "codemirror_mode": {
    "name": "ipython",
    "version": 3
   },
   "file_extension": ".py",
   "mimetype": "text/x-python",
   "name": "python",
   "nbconvert_exporter": "python",
   "pygments_lexer": "ipython3",
   "version": "3.7.4"
  }
 },
 "nbformat": 4,
 "nbformat_minor": 4
}
