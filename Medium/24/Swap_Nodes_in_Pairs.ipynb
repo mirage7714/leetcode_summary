{
 "cells": [
  {
   "cell_type": "markdown",
   "metadata": {},
   "source": [
    "# 本題要將linked list中的點進行調換順序\n",
    "原題目連結: https://leetcode.com/problems/swap-nodes-in-pairs/  \n",
    "\n",
    "Given a linked list, swap every two adjacent nodes and return its head. You must solve the problem without modifying the values in the list's nodes (i.e., only nodes themselves may be changed.)  \n",
    "\n",
    "範例:  \n",
    "Ex1:  \n",
    "Input: head = [1,2,3,4]  \n",
    "Output: [2,1,4,3]  \n",
    "\n",
    "Ex2:  \n",
    "Input: head = []  \n",
    "Output: []  \n",
    "\n",
    "Ex3:  \n",
    "Input: head = [1]  \n",
    "Output: [1]"
   ]
  },
  {
   "cell_type": "markdown",
   "metadata": {},
   "source": [
    "* 解題想法:  \n",
    "首先建立一個ListNode，並用一個變數temp來進行走訪，接著開始檢查如果head與head.next同時存在時，則將兩個點取出，並將順序交換之後放入temp中，並將head與temp都往下進行走訪，直到head無法進行走訪時則代表已經走訪結束，回傳ListNode.next就是順序交換之後的linked list了"
   ]
  },
  {
   "cell_type": "code",
   "execution_count": null,
   "metadata": {},
   "outputs": [],
   "source": [
    "# Definition for singly-linked list.\n",
    "# class ListNode:\n",
    "#     def __init__(self, val=0, next=None):\n",
    "#         self.val = val\n",
    "#         self.next = next\n",
    "class Solution:\n",
    "    def swapPairs(self, head: Optional[ListNode]) -> Optional[ListNode]:\n",
    "        result = ListNode(0)\n",
    "        temp = result\n",
    "        while head and head.next:\n",
    "            n1 = head\n",
    "            n2 = head.next\n",
    "            n3 = n2.next\n",
    "            n1.next = None\n",
    "            n2.next = None\n",
    "            temp.next = n2\n",
    "            temp.next.next = n1\n",
    "            head = n3\n",
    "            temp = temp.next.next\n",
    "        if head:\n",
    "            temp.next = head\n",
    "            temp.next.next = None\n",
    "        return result.next"
   ]
  }
 ],
 "metadata": {
  "kernelspec": {
   "display_name": "Python 3",
   "language": "python",
   "name": "python3"
  },
  "language_info": {
   "codemirror_mode": {
    "name": "ipython",
    "version": 3
   },
   "file_extension": ".py",
   "mimetype": "text/x-python",
   "name": "python",
   "nbconvert_exporter": "python",
   "pygments_lexer": "ipython3",
   "version": "3.7.4"
  }
 },
 "nbformat": 4,
 "nbformat_minor": 4
}
