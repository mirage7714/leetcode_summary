{
 "cells": [
  {
   "cell_type": "markdown",
   "metadata": {},
   "source": [
    "# 本題要找出BST中第K個小的值為多少\n",
    "原題目連結: https://leetcode.com/problems/kth-smallest-element-in-a-bst/  \n",
    "\n",
    "Given the root of a binary search tree, and an integer k, return the kth smallest value (1-indexed) of all the values of the nodes in the tree.  ]\n",
    "\n",
    "範例:  \n",
    "Ex1:  \n",
    "Input: root = [3,1,4,null,2], k = 1  \n",
    "Output: 1  \n",
    "\n",
    "Ex2:  \n",
    "Input: root = [5,3,6,2,4,null,null,1], k = 3  \n",
    "Output: 3"
   ]
  },
  {
   "cell_type": "markdown",
   "metadata": {},
   "source": [
    "* 解題想法:  \n",
    "由於題目有特別說明結構為BST，因此要找出第K個最小值需要從最左邊的節點開始進行搜尋，這邊使用inorder iterative trasveral來進行走訪  \n",
    "首先建立一個list用來存放節點的值，另外用一個list來存放node，接著開始找出最左邊的節點，直到最左邊已經沒有節點了，則將父節點的值取出後開始檢查右邊的節點，當list長度為k時則代表已經找到第K個最小值了，因此中斷迴圈並回傳"
   ]
  },
  {
   "cell_type": "code",
   "execution_count": null,
   "metadata": {},
   "outputs": [],
   "source": [
    "# Definition for a binary tree node.\n",
    "# class TreeNode:\n",
    "#     def __init__(self, val=0, left=None, right=None):\n",
    "#         self.val = val\n",
    "#         self.left = left\n",
    "#         self.right = right\n",
    "class Solution:\n",
    "    def kthSmallest(self, root: Optional[TreeNode], k: int) -> int:\n",
    "        result = []\n",
    "        temp = []\n",
    "        curr = root\n",
    "        while curr or temp:\n",
    "            while curr:\n",
    "                temp.append(curr)\n",
    "                curr = curr.left\n",
    "            curr = temp.pop()\n",
    "            result.append(curr.val)\n",
    "            curr = curr.right\n",
    "            if len(result) == k:\n",
    "                break\n",
    "        return result[-1]"
   ]
  }
 ],
 "metadata": {
  "kernelspec": {
   "display_name": "Python 3",
   "language": "python",
   "name": "python3"
  },
  "language_info": {
   "codemirror_mode": {
    "name": "ipython",
    "version": 3
   },
   "file_extension": ".py",
   "mimetype": "text/x-python",
   "name": "python",
   "nbconvert_exporter": "python",
   "pygments_lexer": "ipython3",
   "version": "3.7.4"
  }
 },
 "nbformat": 4,
 "nbformat_minor": 4
}
