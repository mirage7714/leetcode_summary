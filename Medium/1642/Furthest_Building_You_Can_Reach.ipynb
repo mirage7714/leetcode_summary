{
 "cells": [
  {
   "cell_type": "markdown",
   "id": "eabb7159-0225-428c-9409-c09b255652b7",
   "metadata": {},
   "source": [
    "# 本題要找出最遠可以到哪棟建築 (\\#Array, \\#Heap )\n",
    "原題目連結：https://leetcode.com/problems/furthest-building-you-can-reach/description/  \n",
    "\n",
    "You are given an integer array heights representing the heights of buildings, some bricks, and some ladders.  \n",
    "You start your journey from building 0 and move to the next building by possibly using bricks or ladders.  \n",
    "\n",
    "While moving from building i to building i+1 (0-indexed),  \n",
    "If the current building's height is greater than or equal to the next building's height, you do not need a ladder or bricks.  \n",
    "If the current building's height is less than the next building's height, you can either use one ladder or (h[i+1] - h[i]) bricks.  \n",
    "Return the furthest building index (0-indexed) you can reach if you use the given ladders and bricks optimally.  \n",
    "\n",
    "範例：  \n",
    "Ex1:  \n",
    "Input: heights = [4,2,7,6,9,14,12], bricks = 5, ladders = 1  \n",
    "Output: 4  \n",
    "Explanation: Starting at building 0, you can follow these steps:  \n",
    "- Go to building 1 without using ladders nor bricks since 4 >= 2.  \n",
    "- Go to building 2 using 5 bricks. You must use either bricks or ladders because 2 < 7.  \n",
    "- Go to building 3 without using ladders nor bricks since 7 >= 6.  \n",
    "- Go to building 4 using your only ladder. You must use either bricks or ladders because 6 < 9.  \n",
    "It is impossible to go beyond building 4 because you do not have any more bricks or ladders.  \n",
    "\n",
    "Ex2:  \n",
    "Input: heights = [4,12,2,7,3,18,20,3,19], bricks = 10, ladders = 2  \n",
    "Output: 7  \n",
    "\n",
    "Ex3:  \n",
    "Input: heights = [14,3,19,3], bricks = 17, ladders = 0  \n",
    "Output: 3"
   ]
  },
  {
   "cell_type": "markdown",
   "id": "ce911f5c-e543-41ad-882f-034b26e7ac67",
   "metadata": {},
   "source": [
    "* 解題想法：  \n",
    "首先用一個heap來存放用到磚塊的地方，另外用一個變數來存放目前用的磚塊數，另一個變數則存放目前的高度，接著用迴圈開始比較目前的高度與下一棟的高度：  \n",
    "- 如果目前高度大於或等於下一棟高度則直接更新高度與目前距離  \n",
    "- 如果下一棟高度大於目前高度，則先檢查目前剩下的磚塊是否夠用，如果夠用則更新目前剩下的磚塊數，並將使用的磚塊數放入heap中  \n",
    "- 如果磚塊不夠用的時候，則檢查是否還有梯子可使用，如果還有梯子可用則取出目前使用最多磚塊的紀錄為何並與目前需要的量比較，如果目前需要的量較多，則直接使用梯子，否則將使用最多磚塊的地方改為使用梯子，然後更新使用的磚塊量。\n",
    "- 如果當梯子也沒有時則中斷迴圈，並回傳目前到達的距離"
   ]
  },
  {
   "cell_type": "code",
   "execution_count": null,
   "id": "78aaa254-d287-49e0-82e1-4de8afeff043",
   "metadata": {},
   "outputs": [],
   "source": [
    "import heapq\n",
    "\n",
    "class Solution:\n",
    "    def furthestBuilding(self, heights: List[int], bricks: int, ladders: int) -> int:\n",
    "        res = 0\n",
    "        temp = []\n",
    "        c = 0\n",
    "        heapq.heapify(temp)\n",
    "        start = heights[0]\n",
    "        for n in range(1, len(heights)):\n",
    "            h = heights[n]\n",
    "            if h > start:\n",
    "                d = h - start\n",
    "                if c + d <= bricks:\n",
    "                    c += d\n",
    "                    heapq.heappush(temp, -d) \n",
    "                else:\n",
    "                    if ladders > 0:\n",
    "                        if d <= bricks: \n",
    "                            n = heapq.heappop(temp)\n",
    "                            if d < -n and c + d + n <= bricks:\n",
    "                                c = c + d + n\n",
    "                                heapq.heappush(temp, -d)\n",
    "                            else:\n",
    "                                heapq.heappush(temp, n)\n",
    "                        ladders -= 1\n",
    "                    else:\n",
    "                        break\n",
    "            start = h\n",
    "            res += 1\n",
    "        return res"
   ]
  }
 ],
 "metadata": {
  "kernelspec": {
   "display_name": "Python 3 (ipykernel)",
   "language": "python",
   "name": "python3"
  },
  "language_info": {
   "codemirror_mode": {
    "name": "ipython",
    "version": 3
   },
   "file_extension": ".py",
   "mimetype": "text/x-python",
   "name": "python",
   "nbconvert_exporter": "python",
   "pygments_lexer": "ipython3",
   "version": "3.10.9"
  }
 },
 "nbformat": 4,
 "nbformat_minor": 5
}
