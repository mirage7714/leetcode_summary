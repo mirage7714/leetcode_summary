{
 "cells": [
  {
   "cell_type": "markdown",
   "id": "28e64bd7-44f1-4a7c-a448-a5e7be39b158",
   "metadata": {},
   "source": [
    "# 本題要找出最長的相同字母且出現至少三次以上的長度為多少 (\\#String )\n",
    "原題目連結: https://leetcode.com/problems/find-longest-special-substring-that-occurs-thrice-i/description/  \n",
    "\n",
    "You are given a string s that consists of lowercase English letters.  \n",
    "A string is called special if it is made up of only a single character. For example, the string \"abc\" is not special, whereas the strings \"ddd\", \"zz\", and \"f\" are special.  \n",
    "Return the length of the longest special substring of s which occurs at least thrice, or -1 if no special substring occurs at least thrice.  \n",
    "A substring is a contiguous non-empty sequence of characters within a string.  \n",
    "\n",
    "範例:  \n",
    "Ex1:  \n",
    "Input: s = \"aaaa\"  \n",
    "Output: 2  \n",
    "Explanation: The longest special substring which occurs thrice is \"aa\": substrings \"aaaa\", \"aaaa\", and \"aaaa\".  \n",
    "It can be shown that the maximum length achievable is 2.  \n",
    "\n",
    "Ex2:  \n",
    "Input: s = \"abcdef\"  \n",
    "Output: -1  \n",
    "Explanation: There exists no special substring which occurs at least thrice. Hence return -1.  \n",
    "\n",
    "Ex3:  \n",
    "Input: s = \"abcaba\"  \n",
    "Output: 1  \n",
    "Explanation: The longest special substring which occurs thrice is \"a\": substrings \"abcaba\", \"abcaba\", and \"abcaba\".  \n",
    "It can be shown that the maximum length achievable is 1."
   ]
  },
  {
   "cell_type": "markdown",
   "id": "97ef3218-0ee1-4d49-8401-4f13dc695156",
   "metadata": {},
   "source": [
    "* 解題想法:  \n",
    "首先建立一個dict用來存放出現的字母與可用的長度，接著用迴圈從頭開始計算出現的字母，如果出現相同的字母且長度超過1，則用另外一個迴圈將該字串可轉換成多少子字串放入dict中，最後檢查dict中每個大於或等於3的長度，並找出最大值回傳"
   ]
  },
  {
   "cell_type": "code",
   "execution_count": null,
   "id": "7f026e1e-4eb1-40e0-913e-a77705dd48a2",
   "metadata": {},
   "outputs": [],
   "source": [
    "class Solution:\n",
    "    def maximumLength(self, s: str) -> int:\n",
    "        def add_nums(word, count):\n",
    "            for i in range(1, len(word) + 1):\n",
    "                v = len(word) - i + 1\n",
    "                if i not in count[word[0]].keys():\n",
    "                    count[word[0]][i] = v\n",
    "                else:\n",
    "                    count[word[0]][i] += v\n",
    "\n",
    "        res = -1\n",
    "        count = {}\n",
    "        temp = s[0]\n",
    "        for i in range(1, len(s)):\n",
    "            if s[i] == temp[-1]:\n",
    "                temp += s[i]\n",
    "            else:\n",
    "                if temp[0] not in count.keys():\n",
    "                    count[temp[0]] = {len(temp):0}\n",
    "                if len(temp) > 1:\n",
    "                    add_nums(temp, count)\n",
    "                else:\n",
    "                    if 1 not in count[temp[0]].keys():\n",
    "                        count[temp[0]][1] = 1\n",
    "                    else:\n",
    "                        count[temp[0]][1] += 1\n",
    "                temp = s[i]\n",
    "        if temp[0] in count.keys():\n",
    "            add_nums(temp, count)\n",
    "        elif len(temp) > 2:\n",
    "            res = max(res, len(temp)-2)\n",
    "        for val in count.values():\n",
    "            for k, v in val.items():\n",
    "                if v > 2:\n",
    "                    res = max(k, res)\n",
    "                else:\n",
    "                    if k > 2:\n",
    "                        res = max(k-2, res)\n",
    "        return res"
   ]
  }
 ],
 "metadata": {
  "kernelspec": {
   "display_name": "Python 3 (ipykernel)",
   "language": "python",
   "name": "python3"
  },
  "language_info": {
   "codemirror_mode": {
    "name": "ipython",
    "version": 3
   },
   "file_extension": ".py",
   "mimetype": "text/x-python",
   "name": "python",
   "nbconvert_exporter": "python",
   "pygments_lexer": "ipython3",
   "version": "3.9.13"
  }
 },
 "nbformat": 4,
 "nbformat_minor": 5
}
