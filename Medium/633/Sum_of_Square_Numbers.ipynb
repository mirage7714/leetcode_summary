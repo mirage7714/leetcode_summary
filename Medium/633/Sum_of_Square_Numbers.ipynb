{
 "cells": [
  {
   "cell_type": "markdown",
   "id": "94f5b4a7-9ccf-4866-9388-9793233e0a98",
   "metadata": {},
   "source": [
    "# 本題要找出某數是否可以由兩個數的平方組成 (\\#Math, \\#TwoPointer )\n",
    "原題目連結: https://leetcode.com/problems/sum-of-square-numbers/description/  \n",
    "\n",
    "Given a non-negative integer c, decide whether there're two integers a and b such that a2 + b2 = c.  \n",
    "\n",
    "範例:  \n",
    "Ex1:  \n",
    "Input: c = 5  \n",
    "Output: true  \n",
    "Explanation: 1 * 1 + 2 * 2 = 5  \n",
    "\n",
    "Ex2:  \n",
    "Input: c = 3  \n",
    "Output: false"
   ]
  },
  {
   "cell_type": "markdown",
   "id": "a04203cd-c80d-44d1-8326-abc67949e338",
   "metadata": {},
   "source": [
    "* 解題想法:  \n",
    "首先檢查該數是否為某數的平方，如果是的話則回傳True，否則從某數的平方根與1開始進行檢查，當兩個平方和大於某數時則將大數-1，如果小於某數時則將較小的數+1，如果有符合的情況則回傳True，否則當小數大數互換時則回傳False"
   ]
  },
  {
   "cell_type": "code",
   "execution_count": null,
   "id": "9d59bcd2-e5bb-49d6-9a8e-1c39eb504206",
   "metadata": {},
   "outputs": [],
   "source": [
    "class Solution:\n",
    "    def judgeSquareSum(self, c: int) -> bool:\n",
    "        l = 1\n",
    "        r = int(sqrt(c))\n",
    "        if int(sqrt(c)) * int(sqrt(c)) == c:\n",
    "            return True\n",
    "        while True:\n",
    "            if l * l + r * r == c:\n",
    "                return True\n",
    "            elif l * l + r * r > c:\n",
    "                r -= 1\n",
    "            elif l * l + r * r < c:\n",
    "                l += 1\n",
    "            if l > r:\n",
    "                return False"
   ]
  }
 ],
 "metadata": {
  "kernelspec": {
   "display_name": "Python 3 (ipykernel)",
   "language": "python",
   "name": "python3"
  },
  "language_info": {
   "codemirror_mode": {
    "name": "ipython",
    "version": 3
   },
   "file_extension": ".py",
   "mimetype": "text/x-python",
   "name": "python",
   "nbconvert_exporter": "python",
   "pygments_lexer": "ipython3",
   "version": "3.9.13"
  }
 },
 "nbformat": 4,
 "nbformat_minor": 5
}
