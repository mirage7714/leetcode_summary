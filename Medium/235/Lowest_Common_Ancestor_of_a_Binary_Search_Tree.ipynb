{
 "cells": [
  {
   "cell_type": "markdown",
   "metadata": {},
   "source": [
    "# 本題要找出最接近兩個節點的共同父節點 (\\#Binary Tree, \\#DFS )\n",
    "原題目連結: https://leetcode.com/problems/lowest-common-ancestor-of-a-binary-search-tree/  \n",
    "\n",
    "Given a binary search tree (BST), find the lowest common ancestor (LCA) node of two given nodes in the BST.  \n",
    "\n",
    "According to the definition of LCA on Wikipedia: “The lowest common ancestor is defined between two nodes p and q as the lowest node in T that has both p and q as descendants (where we allow a node to be a descendant of itself).”  \n",
    "\n",
    "範例:  \n",
    "Ex1:  \n",
    "Input: root = [6,2,8,0,4,7,9,null,null,3,5], p = 2, q = 8  \n",
    "Output: 6  \n",
    "Explanation: The LCA of nodes 2 and 8 is 6.  \n",
    "\n",
    "Ex2:  \n",
    "Input: root = [6,2,8,0,4,7,9,null,null,3,5], p = 2, q = 4  \n",
    "Output: 2  \n",
    "Explanation: The LCA of nodes 2 and 4 is 2, since a node can be a descendant of itself according to the LCA definition.  \n",
    "\n",
    "Ex3:  \n",
    "Input: root = [2,1], p = 2, q = 1  \n",
    "Output: 2"
   ]
  },
  {
   "cell_type": "markdown",
   "metadata": {},
   "source": [
    "* 解題想法:  \n",
    "首先用DFS走訪binary search tree，如果路徑上有包含其中一個節點的數值，則把路徑回傳到一個list中，接著從list中比較兩個節點的路徑，如果兩條路徑相同，則代表兩個節點是在同一條路徑上，找出較前面的節點並回傳，如果兩條路徑不相同，則從頭開始找出相同的父節點，直到出現不相同節點時則回傳最後一個相同的父節點"
   ]
  },
  {
   "cell_type": "code",
   "execution_count": null,
   "metadata": {},
   "outputs": [],
   "source": [
    "# Definition for a binary tree node.\n",
    "# class TreeNode:\n",
    "#     def __init__(self, x):\n",
    "#         self.val = x\n",
    "#         self.left = None\n",
    "#         self.right = None\n",
    "\n",
    "class Solution:\n",
    "    def lowestCommonAncestor(self, root: 'TreeNode', p: 'TreeNode', q: 'TreeNode') -> 'TreeNode':\n",
    "        def dfs(node, res, p, q):\n",
    "            if not node.left and not node.right:\n",
    "                res += str(node.val)\n",
    "                if p in res.split(','):\n",
    "                    result[0] = res.split(',')\n",
    "                if q in res.split(','):\n",
    "                    result[1] = res.split(',')\n",
    "            res += str(node.val) + ','\n",
    "            if node.left:\n",
    "                dfs(node.left, res, p, q)\n",
    "            if node.right:\n",
    "                dfs(node.right, res, p, q)\n",
    "        \n",
    "        result = [[], []]\n",
    "        pv = str(p.val)\n",
    "        qv = str(q.val)\n",
    "        c = TreeNode()\n",
    "        if root:\n",
    "            dfs(root, '', pv, qv)\n",
    "        i1 = result[0].index(pv)\n",
    "        i2 = result[1].index(qv)\n",
    "        if result[0] == result[1] or qv in result[0]:\n",
    "            if i1 < i2:\n",
    "                c.val = int(pv)\n",
    "            else:\n",
    "                c.val = int(qv)\n",
    "        elif pv in result[1]:\n",
    "            if i1 < i2:\n",
    "                c.val = int(pv)\n",
    "            else:\n",
    "                c.val = int(qv)\n",
    "        else:\n",
    "            val = 0\n",
    "            for m in range(min(i1, i2)):\n",
    "                if result[0][m] == result[1][m]:\n",
    "                    val = int(result[0][m])\n",
    "                else:\n",
    "                    break\n",
    "            c.val = val\n",
    "        return c"
   ]
  }
 ],
 "metadata": {
  "kernelspec": {
   "display_name": "Python 3",
   "language": "python",
   "name": "python3"
  },
  "language_info": {
   "codemirror_mode": {
    "name": "ipython",
    "version": 3
   },
   "file_extension": ".py",
   "mimetype": "text/x-python",
   "name": "python",
   "nbconvert_exporter": "python",
   "pygments_lexer": "ipython3",
   "version": "3.7.4"
  }
 },
 "nbformat": 4,
 "nbformat_minor": 4
}
