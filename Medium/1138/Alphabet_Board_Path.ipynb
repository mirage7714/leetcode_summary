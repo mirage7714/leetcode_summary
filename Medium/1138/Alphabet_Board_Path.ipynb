{
 "cells": [
  {
   "cell_type": "markdown",
   "metadata": {},
   "source": [
    "# 本題要找出組出要求字串的路徑為何\n",
    "原題目連結： https://leetcode.com/problems/alphabet-board-path/  \n",
    "\n",
    "On an alphabet board, we start at position (0, 0), corresponding to character board[0][0].  \n",
    "\n",
    "Here, board = [\"abcde\", \"fghij\", \"klmno\", \"pqrst\", \"uvwxy\", \"z\"], as shown in the diagram below.  \n",
    "\n",
    "We may make the following moves:  \n",
    "\n",
    "'U' moves our position up one row, if the position exists on the board;  \n",
    "'D' moves our position down one row, if the position exists on the board;  \n",
    "'L' moves our position left one column, if the position exists on the board;  \n",
    "'R' moves our position right one column, if the position exists on the board;  \n",
    "'!' adds the character board[r][c] at our current position (r, c) to the answer.  \n",
    "(Here, the only positions that exist on the board are positions with letters on them.)  \n",
    "\n",
    "Return a sequence of moves that makes our answer equal to target in the minimum number of moves.  You may return any path that does so.  \n",
    "\n",
    "範例：  \n",
    "Ex1:  \n",
    "Input: target = \"leet\"  \n",
    "Output: \"DDR!UURRR!!DDD!\"  \n",
    "\n",
    "Ex2:  \n",
    "Input: target = \"code\"  \n",
    "Output: \"RR!DDRR!UUL!R!\"  "
   ]
  },
  {
   "cell_type": "markdown",
   "metadata": {},
   "source": [
    "* 解題想法：  \n",
    "主要是找出字母的相對位置，其中比較需要注意的位置是z，因為這個位置的限制只能往上移動之後在往右移動，因此除了找出兩個字母間需要移動的水平與垂直距離外，也需要特別判斷需要到達的字母是否為z並特別進行處理"
   ]
  },
  {
   "cell_type": "code",
   "execution_count": null,
   "metadata": {},
   "outputs": [],
   "source": [
    "class Solution:\n",
    "    def alphabetBoardPath(self, target: str) -> str:\n",
    "        chars = {\n",
    "            'a':[0,0], 'b':[0,1], 'c':[0,2], 'd':[0,3], 'e':[0,4],\n",
    "            'f':[1,0], 'g':[1,1], 'h':[1,2], 'i':[1,3], 'j':[1,4],\n",
    "            'k':[2,0], 'l':[2,1], 'm':[2,2], 'n':[2,3], 'o':[2,4],\n",
    "            'p':[3,0], 'q':[3,1], 'r':[3,2], 's':[3,3], 't':[3,4],\n",
    "            'u':[4,0], 'v':[4,1], 'w':[4,2], 'x':[4,3], 'y':[4,4],\n",
    "            'z':[5,0]\n",
    "        }\n",
    "        current = [0,0]\n",
    "        result = ''\n",
    "        for n in target:\n",
    "            temp = ''\n",
    "            pos = chars[n]\n",
    "            if pos != current:\n",
    "                hor = 'R'\n",
    "                ver = 'D'\n",
    "                diff_y = current[0] - pos[0]\n",
    "                diff_x = current[1] - pos[1]\n",
    "                if diff_y > 0:\n",
    "                    ver = 'U'\n",
    "                if diff_x > 0:\n",
    "                    hor = 'L'    \n",
    "                if pos == [5,0]:\n",
    "                    for n in range(abs(diff_x)):\n",
    "                        temp += hor\n",
    "                    for m in range(abs(diff_y)):\n",
    "                        temp += ver\n",
    "                else:\n",
    "                    for m in range(abs(diff_y)):\n",
    "                        temp += ver\n",
    "                    for n in range(abs(diff_x)):\n",
    "                        temp += hor\n",
    "                temp += '!'\n",
    "                result += temp\n",
    "            else:\n",
    "                result += '!'\n",
    "            current = pos\n",
    "        return result"
   ]
  }
 ],
 "metadata": {
  "kernelspec": {
   "display_name": "Python 3",
   "language": "python",
   "name": "python3"
  },
  "language_info": {
   "codemirror_mode": {
    "name": "ipython",
    "version": 3
   },
   "file_extension": ".py",
   "mimetype": "text/x-python",
   "name": "python",
   "nbconvert_exporter": "python",
   "pygments_lexer": "ipython3",
   "version": "3.7.6"
  }
 },
 "nbformat": 4,
 "nbformat_minor": 4
}
