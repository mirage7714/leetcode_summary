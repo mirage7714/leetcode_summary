{
 "cells": [
  {
   "cell_type": "markdown",
   "id": "2e42f3d2-6af5-4808-bb6c-20d6110f8b34",
   "metadata": {},
   "source": [
    "# 本題要找出操作過後最後一次的字串為何 (\\#String )\n",
    "原題目連結：https://leetcode.com/problems/apply-operations-to-make-string-empty/description/  \n",
    "\n",
    "You are given a string s.  \n",
    "Consider performing the following operation until s becomes empty:  \n",
    "For every alphabet character from 'a' to 'z', remove the first occurrence of that character in s (if it exists).  \n",
    "For example, let initially s = \"aabcbbca\". We do the following operations:  \n",
    " \n",
    "Remove the underlined characters s = \"aabcbbca\". The resulting string is s = \"abbca\".  \n",
    "Remove the underlined characters s = \"abbca\". The resulting string is s = \"ba\".  \n",
    "Remove the underlined characters s = \"ba\". The resulting string is s = \"\".  \n",
    "Return the value of the string s right before applying the last operation. In the example above, answer is \"ba\".  \n",
    "\n",
    "範例：  \n",
    "Ex1:  \n",
    "Input: s = \"aabcbbca\"  \n",
    "Output: \"ba\"  \n",
    "Explanation: Explained in the statement.  \n",
    "\n",
    "Ex2:  \n",
    "Input: s = \"abcd\"  \n",
    "Output: \"abcd\"  \n",
    "Explanation: We do the following operation:  \n",
    "- Remove the underlined characters s = \"abcd\". The resulting string is s = \"\".  \n",
    "The string just before the last operation is \"abcd\"."
   ]
  },
  {
   "cell_type": "markdown",
   "id": "abd3cd9d-d2d8-4360-8386-e6b65d226ddb",
   "metadata": {},
   "source": [
    "* 解題想法：  \n",
    "首先將每個字母出現的次數與最後出現的index放入dict中，接著找出出現次數最多的字母，再用順序排序之後回傳就是答案"
   ]
  },
  {
   "cell_type": "code",
   "execution_count": null,
   "id": "35a493c5-585d-40e1-9b85-ad1732e03c5b",
   "metadata": {},
   "outputs": [],
   "source": [
    "import heapq\n",
    "\n",
    "class Solution:\n",
    "    def lastNonEmptyString(self, s: str) -> str:\n",
    "        res = ''\n",
    "        count = {}\n",
    "        t = {}\n",
    "        temp = []\n",
    "        heapq.heapify(temp)\n",
    "        head = 0\n",
    "        for i in range(len(s)):\n",
    "            c = s[i]\n",
    "            if c not in count.keys():\n",
    "                count[c] = 0\n",
    "                t[c] = 0\n",
    "            count[c] = i\n",
    "            t[c] += 1\n",
    "            head = max(head, t[c])\n",
    "\n",
    "        for key in count.keys():\n",
    "            heapq.heappush(temp, [-t[key], count[key], key])\n",
    "        while temp:\n",
    "            n = heapq.heappop(temp)\n",
    "            if n[0] != -head:\n",
    "                break\n",
    "            res += n[2]\n",
    "        return res"
   ]
  }
 ],
 "metadata": {
  "kernelspec": {
   "display_name": "Python 3 (ipykernel)",
   "language": "python",
   "name": "python3"
  },
  "language_info": {
   "codemirror_mode": {
    "name": "ipython",
    "version": 3
   },
   "file_extension": ".py",
   "mimetype": "text/x-python",
   "name": "python",
   "nbconvert_exporter": "python",
   "pygments_lexer": "ipython3",
   "version": "3.10.9"
  }
 },
 "nbformat": 4,
 "nbformat_minor": 5
}
