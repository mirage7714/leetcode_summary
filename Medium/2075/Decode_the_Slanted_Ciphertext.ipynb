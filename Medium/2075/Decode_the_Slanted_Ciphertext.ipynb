{
 "cells": [
  {
   "cell_type": "markdown",
   "metadata": {},
   "source": [
    "# 本題要將指定的字串進行重新排序\n",
    "原題目連結: https://leetcode.com/problems/decode-the-slanted-ciphertext/  \n",
    "\n",
    "A string originalText is encoded using a slanted transposition cipher to a string encodedText with the help of a matrix having a fixed number of rows rows.  \n",
    "originalText is placed first in a top-left to bottom-right manner.  \n",
    "\n",
    "The blue cells are filled first, followed by the red cells, then the yellow cells, and so on, until we reach the end of originalText. The arrow indicates the order in which the cells are filled. All empty cells are filled with ' '. The number of columns is chosen such that the rightmost column will not be empty after filling in originalText.  \n",
    "encodedText is then formed by appending all characters of the matrix in a row-wise fashion.  \n",
    "\n",
    "The characters in the blue cells are appended first to encodedText, then the red cells, and so on, and finally the yellow cells. The arrow indicates the order in which the cells are accessed.  \n",
    "\n",
    "For example, if originalText = \"cipher\" and rows = 3, then we encode it in the following manner:  \n",
    "The blue arrows depict how originalText is placed in the matrix, and the red arrows denote the order in which encodedText is formed. In the above example, encodedText = \"ch ie pr\".  \n",
    "Given the encoded string encodedText and number of rows rows, return the original string originalText.  \n",
    "Note: originalText does not have any trailing spaces ' '. The test cases are generated such that there is only one possible originalText.  \n",
    "\n",
    "範例:  \n",
    "Ex1:  \n",
    "Input: encodedText = \"ch   ie   pr\", rows = 3  \n",
    "Output: \"cipher\"  \n",
    "Explanation: This is the same example described in the problem description.  \n",
    "\n",
    "Ex2:  \n",
    "Input: encodedText = \"iveo    eed   l te   olc\", rows = 4  \n",
    "Output: \"i love leetcode\"  \n",
    "Explanation: The figure above denotes the matrix that was used to encode originalText.   \n",
    "The blue arrows show how we can find originalText from encodedText.  \n",
    "\n",
    "Ex3:  \n",
    "Input: encodedText = \"coding\", rows = 1  \n",
    "Output: \"coding\"  \n",
    "Explanation: Since there is only 1 row, both originalText and encodedText are the same."
   ]
  },
  {
   "cell_type": "markdown",
   "metadata": {},
   "source": [
    "* 解題想法:  \n",
    "首先將原本的字串依據row的長度切分為相同長度的幾個字串，接著用迴圈開始從每一行中找出指定位置的字加入結果中，最後依題目要求，將字尾的空白去除後就是答案"
   ]
  },
  {
   "cell_type": "code",
   "execution_count": null,
   "metadata": {},
   "outputs": [],
   "source": [
    "class Solution:\n",
    "    def decodeCiphertext(self, encodedText: str, rows: int) -> str:\n",
    "        result = ''\n",
    "        if rows > 1:\n",
    "            size = len(encodedText)\n",
    "            if size > 0:\n",
    "                p = int(size / rows)\n",
    "                parts = []\n",
    "                for m in range(0, size, p):\n",
    "                    parts.append(encodedText[m: m+p])\n",
    "                for n in range(p):\n",
    "                    for l in range(len(parts)):\n",
    "                        if n + l < p:\n",
    "                            result += parts[l][n+l]\n",
    "                result = result.rstrip()\n",
    "        else:\n",
    "            result = encodedText\n",
    "        return result"
   ]
  }
 ],
 "metadata": {
  "kernelspec": {
   "display_name": "Python 3",
   "language": "python",
   "name": "python3"
  },
  "language_info": {
   "codemirror_mode": {
    "name": "ipython",
    "version": 3
   },
   "file_extension": ".py",
   "mimetype": "text/x-python",
   "name": "python",
   "nbconvert_exporter": "python",
   "pygments_lexer": "ipython3",
   "version": "3.7.4"
  }
 },
 "nbformat": 4,
 "nbformat_minor": 4
}
