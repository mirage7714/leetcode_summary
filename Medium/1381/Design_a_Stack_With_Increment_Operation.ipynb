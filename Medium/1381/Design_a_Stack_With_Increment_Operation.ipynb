{
 "cells": [
  {
   "cell_type": "markdown",
   "metadata": {},
   "source": [
    "# 本題要實作一個stack函數，並且要有增加的功能\n",
    "原題目連結： https://leetcode.com/problems/design-a-stack-with-increment-operation/  \n",
    "\n",
    "Design a stack which supports the following operations.  \n",
    "\n",
    "Implement the CustomStack class:  \n",
    "\n",
    "CustomStack(int maxSize) Initializes the object with maxSize which is the maximum number of elements in the stack or do nothing if the stack reached the maxSize.  \n",
    "void push(int x) Adds x to the top of the stack if the stack hasn't reached the maxSize.  \n",
    "int pop() Pops and returns the top of stack or -1 if the stack is empty.  \n",
    "void inc(int k, int val) Increments the bottom k elements of the stack by val. If there are less than k elements in the stack, just increment all the elements in the stack.  \n",
    "\n",
    "範例：  \n",
    "Ex1:  \n",
    "Input  \n",
    "[\"CustomStack\",\"push\",\"push\",\"pop\",\"push\",\"push\",\"push\",\"increment\",\"increment\",\"pop\",\"pop\",\"pop\",\"pop\"]  \n",
    "[[3],[1],[2],[],[2],[3],[4],[5,100],[2,100],[],[],[],[]]  \n",
    "Output  \n",
    "[null,null,null,2,null,null,null,null,null,103,202,201,-1]  \n",
    "Explanation  \n",
    "CustomStack customStack = new CustomStack(3); // Stack is Empty []  \n",
    "customStack.push(1);                          // stack becomes [1]  \n",
    "customStack.push(2);                          // stack becomes [1, 2]  \n",
    "customStack.pop();                            // return 2 --> Return top of the stack 2, stack becomes [1]  \n",
    "customStack.push(2);                          // stack becomes [1, 2]  \n",
    "customStack.push(3);                          // stack becomes [1, 2, 3]  \n",
    "customStack.push(4);                          // stack still [1, 2, 3], Don't add another elements as size is 4  \n",
    "customStack.increment(5, 100);                // stack becomes [101, 102, 103]  \n",
    "customStack.increment(2, 100);                // stack becomes [201, 202, 103]  \n",
    "customStack.pop();                            // return 103 --> Return top of the stack 103, stack becomes [201, 202]  \n",
    "customStack.pop();                            // return 202 --> Return top of the stack 102, stack becomes [201]  \n",
    "customStack.pop();                            // return 201 --> Return top of the stack 101, stack becomes []  \n",
    "customStack.pop();                            // return -1 --> Stack is empty return -1."
   ]
  },
  {
   "cell_type": "markdown",
   "metadata": {},
   "source": [
    "* 解題想法：  \n",
    "依題目的說明，本題要實作以下幾個功能：  \n",
    "- CustomStack(x): 建立一個新的stack，並且有最大長度x   \n",
    "- push(): 新增數字進入stack，如果超過長度則忽略  \n",
    "- pop(): 刪除最後一個數並回傳，如果沒有數字的話則回傳-1  \n",
    "- increment(k, val): 將範圍K個數增加val  "
   ]
  },
  {
   "cell_type": "code",
   "execution_count": null,
   "metadata": {},
   "outputs": [],
   "source": [
    "class CustomStack:\n",
    "\n",
    "    def __init__(self, maxSize: int):\n",
    "        self.stack = []\n",
    "        self.size = maxSize\n",
    "\n",
    "    def push(self, x: int) -> None:\n",
    "        if len(self.stack) < self.size:\n",
    "            self.stack.append(x)\n",
    "\n",
    "    def pop(self) -> int:\n",
    "        result = -1\n",
    "        if len(self.stack) > 0:\n",
    "            result = self.stack[-1]\n",
    "            self.stack.pop(-1)\n",
    "        return result\n",
    "\n",
    "    def increment(self, k: int, val: int) -> None:\n",
    "        total = 0\n",
    "        if len(self.stack) >= k:\n",
    "            total = k\n",
    "        else:\n",
    "            total = len(self.stack)\n",
    "        for t in range(total):\n",
    "            self.stack[t] += val\n",
    "\n",
    "\n",
    "# Your CustomStack object will be instantiated and called as such:\n",
    "# obj = CustomStack(maxSize)\n",
    "# obj.push(x)\n",
    "# param_2 = obj.pop()\n",
    "# obj.increment(k,val)"
   ]
  }
 ],
 "metadata": {
  "kernelspec": {
   "display_name": "Python 3",
   "language": "python",
   "name": "python3"
  },
  "language_info": {
   "codemirror_mode": {
    "name": "ipython",
    "version": 3
   },
   "file_extension": ".py",
   "mimetype": "text/x-python",
   "name": "python",
   "nbconvert_exporter": "python",
   "pygments_lexer": "ipython3",
   "version": "3.7.6"
  }
 },
 "nbformat": 4,
 "nbformat_minor": 4
}
