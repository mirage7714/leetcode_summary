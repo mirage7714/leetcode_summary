{
 "cells": [
  {
   "cell_type": "markdown",
   "id": "cf4f85e0-20de-45d5-a1e0-af77de6a27f9",
   "metadata": {},
   "source": [
    "# 本題要找出最少要減去多少值才能把list中的數值都變成指定的值 (\\#Array, \\#BinarySearch )\n",
    "原題目連結: https://leetcode.com/problems/minimum-operations-to-make-all-array-elements-equal/  \n",
    "\n",
    "You are given an array nums consisting of positive integers.  \n",
    "\n",
    "You are also given an integer array queries of size m. For the ith query, you want to make all of the elements of nums equal to queries[i].   You can perform the following operation on the array any number of times:  \n",
    "\n",
    "Increase or decrease an element of the array by 1.  \n",
    "Return an array answer of size m where answer[i] is the minimum number of operations to make all elements of nums equal to queries[i].  \n",
    "\n",
    "Note that after each query the array is reset to its original state.  \n",
    "\n",
    "範例:  \n",
    "Ex1:  \n",
    "Input: nums = [3,1,6,8], queries = [1,5]  \n",
    "Output: [14,10]  \n",
    "Explanation: For the first query we can do the following operations:  \n",
    "- Decrease nums[0] 2 times, so that nums = [1,1,6,8].  \n",
    "- Decrease nums[2] 5 times, so that nums = [1,1,1,8].  \n",
    "- Decrease nums[3] 7 times, so that nums = [1,1,1,1].  \n",
    "So the total number of operations for the first query is 2 + 5 + 7 = 14.  \n",
    "For the second query we can do the following operations:  \n",
    "- Increase nums[0] 2 times, so that nums = [5,1,6,8].  \n",
    "- Increase nums[1] 4 times, so that nums = [5,5,6,8].  \n",
    "- Decrease nums[2] 1 time, so that nums = [5,5,5,8].  \n",
    "- Decrease nums[3] 3 times, so that nums = [5,5,5,5].  \n",
    "So the total number of operations for the second query is 2 + 4 + 1 + 3 = 10.  \n",
    "\n",
    "Ex2:  \n",
    "Input: nums = [2,9,6,3], queries = [10]  \n",
    "Output: [20]  \n",
    "Explanation: We can increase each value in the array to 10. The total number of operations will be 8 + 1 + 4 + 7 = 20."
   ]
  },
  {
   "cell_type": "markdown",
   "id": "9a79f549-2bea-4c86-9d3e-17bbda586488",
   "metadata": {},
   "source": [
    "* 解題想法:  \n",
    "首先將nums進行排序，接著找出在每個index的總和是多少，接著建立一個binary search的函數，用來找出指定的值靠近的index為何，接著計算出差值為多少就是答案"
   ]
  },
  {
   "cell_type": "code",
   "execution_count": null,
   "id": "554b05d8-f998-46d6-81b7-c9cad3bf762a",
   "metadata": {},
   "outputs": [],
   "source": [
    "class Solution:\n",
    "    def minOperations(self, nums: List[int], queries: List[int]) -> List[int]:\n",
    "        def search(l, r, nums, target):\n",
    "            if l > r:\n",
    "                return l\n",
    "            m = (l + r) //2\n",
    "            if target == nums[m]:\n",
    "                return m\n",
    "            elif target > nums[m]:\n",
    "                return search(m+1, r, nums, target)\n",
    "            elif target < nums[m]:\n",
    "                return search(l, m-1, nums, target)\n",
    "            \n",
    "        res = []\n",
    "        count = {}\n",
    "        temp = {}\n",
    "        nums.sort()\n",
    "        for i in range(len(nums)):\n",
    "            if len(count) == 0:\n",
    "                count[i] = nums[i]\n",
    "            else:\n",
    "                count[i] = nums[i] + count[i-1]\n",
    "        for q in queries:\n",
    "            if q not in temp.keys():\n",
    "                if q <= nums[0]:\n",
    "                    temp[q] = count[len(count)-1] - q * len(count)\n",
    "                elif q >= nums[-1]:\n",
    "                    temp[q] = q * len(count) - count[len(count)-1]\n",
    "                else:\n",
    "                    i = search(0, len(nums)-1, nums, q)\n",
    "                    temp[q] = q * (i + 1) - 2 * count[i-1] + count[len(count)-1] - q * (len(count) -i+1)\n",
    "            res.append(temp[q])\n",
    "        return res"
   ]
  }
 ],
 "metadata": {
  "kernelspec": {
   "display_name": "Python 3 (ipykernel)",
   "language": "python",
   "name": "python3"
  },
  "language_info": {
   "codemirror_mode": {
    "name": "ipython",
    "version": 3
   },
   "file_extension": ".py",
   "mimetype": "text/x-python",
   "name": "python",
   "nbconvert_exporter": "python",
   "pygments_lexer": "ipython3",
   "version": "3.9.13"
  }
 },
 "nbformat": 4,
 "nbformat_minor": 5
}
