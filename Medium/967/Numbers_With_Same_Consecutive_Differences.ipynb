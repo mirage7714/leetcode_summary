{
 "cells": [
  {
   "cell_type": "markdown",
   "metadata": {},
   "source": [
    "# 本題要找出符合所有相鄰數字的差值均為k的數字有多少\n",
    "原題目連結: https://leetcode.com/problems/numbers-with-same-consecutive-differences/  \n",
    "\n",
    "Return all non-negative integers of length n such that the absolute difference between every two consecutive digits is k.  \n",
    "Note that every number in the answer must not have leading zeros. For example, 01 has one leading zero and is invalid.  \n",
    "You may return the answer in any order.  \n",
    "\n",
    "範例:  \n",
    "Ex1:  \n",
    "Input: n = 3, k = 7  \n",
    "Output: [181,292,707,818,929]  \n",
    "Explanation: Note that 070 is not a valid number, because it has leading zeroes.  \n",
    "\n",
    "Ex2:  \n",
    "Input: n = 2, k = 1  \n",
    "Output: [10,12,21,23,32,34,43,45,54,56,65,67,76,78,87,89,98]"
   ]
  },
  {
   "cell_type": "markdown",
   "metadata": {},
   "source": [
    "* 解題想法:  \n",
    "這題可以用BFS的方式來進行解題，首先建立一個有1-9的整數的list來存放結果，接著開始檢查最後一位數加上k或是減k是否還符合條件，如果符合條件的數字放入一個暫存中，最後將暫存中的數字更新到結果的list中，直到數字長度符合題目要求，回傳結果的list就是最後的答案"
   ]
  },
  {
   "cell_type": "code",
   "execution_count": null,
   "metadata": {},
   "outputs": [],
   "source": [
    "class Solution:\n",
    "    def numsSameConsecDiff(self, n: int, k: int) -> List[int]:\n",
    "\n",
    "        result = [i for i in range(1, 10)]\n",
    "        for _ in range(n-1):\n",
    "            temp = set()\n",
    "            for r in result:\n",
    "                last = int(str(r)[-1])\n",
    "                if last + k < 10:\n",
    "                    a = r * 10 + last + k\n",
    "                    temp.add(a)\n",
    "                if last >= k:\n",
    "                    d = r * 10 + last - k\n",
    "                    temp.add(d)\n",
    "            result.clear()\n",
    "            result += list(temp)\n",
    "        return result"
   ]
  }
 ],
 "metadata": {
  "kernelspec": {
   "display_name": "Python 3",
   "language": "python",
   "name": "python3"
  },
  "language_info": {
   "codemirror_mode": {
    "name": "ipython",
    "version": 3
   },
   "file_extension": ".py",
   "mimetype": "text/x-python",
   "name": "python",
   "nbconvert_exporter": "python",
   "pygments_lexer": "ipython3",
   "version": "3.7.4"
  }
 },
 "nbformat": 4,
 "nbformat_minor": 4
}
