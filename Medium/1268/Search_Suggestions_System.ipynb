{
 "cells": [
  {
   "cell_type": "markdown",
   "metadata": {},
   "source": [
    "# 本題要找出與指定字串開頭相同的字並印出來\n",
    "原題目連結: https://leetcode.com/problems/search-suggestions-system/  \n",
    "\n",
    "You are given an array of strings products and a string searchWord.  \n",
    "\n",
    "Design a system that suggests at most three product names from products after each character of searchWord is typed. Suggested products should have common prefix with searchWord. If there are more than three products with a common prefix return the three lexicographically minimums products.  \n",
    " \n",
    "Return a list of lists of the suggested products after each character of searchWord is typed.  \n",
    "\n",
    "範例:  \n",
    "Ex1:  \n",
    "Input: products = [\"mobile\",\"mouse\",\"moneypot\",\"monitor\",\"mousepad\"], searchWord = \"mouse\"  \n",
    "Output: [  \n",
    "[\"mobile\",\"moneypot\",\"monitor\"],  \n",
    "[\"mobile\",\"moneypot\",\"monitor\"],  \n",
    "[\"mouse\",\"mousepad\"],  \n",
    "[\"mouse\",\"mousepad\"],  \n",
    "[\"mouse\",\"mousepad\"]  \n",
    "]  \n",
    "Explanation: products sorted lexicographically = [\"mobile\",\"moneypot\",\"monitor\",\"mouse\",\"mousepad\"]  \n",
    "After typing m and mo all products match and we show user [\"mobile\",\"moneypot\",\"monitor\"]  \n",
    "After typing mou, mous and mouse the system suggests [\"mouse\",\"mousepad\"]  \n",
    "\n",
    "Ex2:  \n",
    "Input: products = [\"havana\"], searchWord = \"havana\"  \n",
    "Output: [[\"havana\"],[\"havana\"],[\"havana\"],[\"havana\"],[\"havana\"],[\"havana\"]]  \n",
    "\n",
    "Ex3:  \n",
    "Input: products = [\"bags\",\"baggage\",\"banner\",\"box\",\"cloths\"], searchWord = \"bags\"  \n",
    "Output: [[\"baggage\",\"bags\",\"banner\"],[\"baggage\",\"bags\",\"banner\"],[\"baggage\",\"bags\"],[\"bags\"]]"
   ]
  },
  {
   "cell_type": "markdown",
   "metadata": {},
   "source": [
    "* 解題想法:  \n",
    "首先將題目的list依字首建立成一個dict，接著開始檢查指定字母開頭的值是否存在於dict中，如果有的話則將list取出後開始逐字母檢查，如果與指定的字相同則放入一個暫存的list中，如果不相同的則將index放入另一個list中，下一輪執行時則跳過這些已經不相同的字，最後當暫存已經有三個詞，或是檢查結束時則將暫存放入結果中，最後將結果回傳"
   ]
  },
  {
   "cell_type": "code",
   "execution_count": null,
   "metadata": {},
   "outputs": [],
   "source": [
    "class Solution:\n",
    "    def suggestedProducts(self, products: List[str], searchWord: str) -> List[List[str]]:\n",
    "        def search(word, product):\n",
    "            result = []\n",
    "            removed = []\n",
    "            if len(product) > 0:\n",
    "                for i in range(len(word)):\n",
    "                    temp = []\n",
    "                    for m in range(len(product)):\n",
    "                        if m not in removed:\n",
    "                            if len(temp) < 3:\n",
    "                                if i <= len(product[m]):\n",
    "                                    if product[m][:i+1] == word[:i+1]:\n",
    "                                        temp.append(product[m])\n",
    "                                    else:\n",
    "                                        removed.append(m)\n",
    "                                else:\n",
    "                                    removed.append(m)\n",
    "                            if len(temp) == 3:\n",
    "                                break\n",
    "                    result.append(temp)\n",
    "            else:\n",
    "                for i in range(len(word)):\n",
    "                    result.append([])\n",
    "            return result\n",
    "        \n",
    "        result = []\n",
    "        chars = {}\n",
    "        for p in products:\n",
    "            if p[0] not in chars.keys():\n",
    "                chars[p[0]] = [p]\n",
    "            else:\n",
    "                chars[p[0]].append(p)\n",
    "        if searchWord[0] in chars.keys():\n",
    "            product = chars[searchWord[0]]\n",
    "            product.sort()\n",
    "            result = search(searchWord, product)\n",
    "        else:\n",
    "            result = search(searchWord, [])\n",
    "        return result"
   ]
  }
 ],
 "metadata": {
  "kernelspec": {
   "display_name": "Python 3",
   "language": "python",
   "name": "python3"
  },
  "language_info": {
   "codemirror_mode": {
    "name": "ipython",
    "version": 3
   },
   "file_extension": ".py",
   "mimetype": "text/x-python",
   "name": "python",
   "nbconvert_exporter": "python",
   "pygments_lexer": "ipython3",
   "version": "3.7.4"
  }
 },
 "nbformat": 4,
 "nbformat_minor": 4
}
