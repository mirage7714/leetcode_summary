{
 "cells": [
  {
   "cell_type": "markdown",
   "id": "02402e79-dce6-4b12-ba09-8165f53544db",
   "metadata": {},
   "source": [
    "# 本題要複製一個與題目相同的Node (\\#HashTable, \\#LinkedList )\n",
    "原題目連結：https://leetcode.com/problems/copy-list-with-random-pointer/description  \n",
    "\n",
    "A linked list of length n is given such that each node contains an additional random pointer, which could point to any node in the list, or null.  \n",
    "\n",
    "Construct a deep copy of the list. The deep copy should consist of exactly n brand new nodes, where each new node has its value set to the value of its corresponding original node. Both the next and random pointer of the new nodes should point to new nodes in the copied list such that the pointers in the original list and copied list represent the same list state. None of the pointers in the new list should point to nodes in the original list.  \n",
    "\n",
    "For example, if there are two nodes X and Y in the original list, where X.random --> Y, then for the corresponding two nodes x and y in the copied list, x.random --> y.  \n",
    "\n",
    "Return the head of the copied linked list.  \n",
    "\n",
    "The linked list is represented in the input/output as a list of n nodes. Each node is represented as a pair of [val, random_index] where:  \n",
    "\n",
    "val: an integer representing Node.val  \n",
    "random_index: the index of the node (range from 0 to n-1) that the random pointer points to, or null if it does not point to any node.  \n",
    "Your code will only be given the head of the original linked list.  \n",
    "\n",
    "範例：  \n",
    "Ex1:  \n",
    "Input: head = [[7,null],[13,0],[11,4],[10,2],[1,0]]  \n",
    "Output: [[7,null],[13,0],[11,4],[10,2],[1,0]]  \n",
    "\n",
    "Ex2:  \n",
    "Input: head = [[1,1],[2,1]]  \n",
    "Output: [[1,1],[2,1]]  \n",
    "\n",
    "Ex3:  \n",
    "Input: head = [[3,null],[3,0],[3,null]]  \n",
    "Output: [[3,null],[3,0],[3,null]]  "
   ]
  },
  {
   "cell_type": "markdown",
   "id": "ad121d7d-23fc-4564-9751-b18b0878cfbe",
   "metadata": {},
   "source": [
    "* 解題想法：  \n",
    "首先用一個list來存放所有的node，另外用一個list來存放random的值，接著走訪完head，然後將index與random組合起來後得到一個node與random的對照，接著先將node對應上random後，重新建立新的LinkedList就是答案"
   ]
  },
  {
   "cell_type": "code",
   "execution_count": null,
   "id": "8ffaaf63-7805-42a4-bfe0-83dcacd34d1d",
   "metadata": {},
   "outputs": [],
   "source": [
    "\"\"\"\n",
    "# Definition for a Node.\n",
    "class Node:\n",
    "    def __init__(self, x: int, next: 'Node' = None, random: 'Node' = None):\n",
    "        self.val = int(x)\n",
    "        self.next = next\n",
    "        self.random = random\n",
    "\"\"\"\n",
    "\n",
    "class Solution:\n",
    "    def copyRandomList(self, head: 'Node') -> 'Node':\n",
    "        temp = []\n",
    "        nodes = []\n",
    "        index = []\n",
    "        r = []\n",
    "        while head:\n",
    "            n = Node(head.val)\n",
    "            temp.append(n)\n",
    "\n",
    "            if not head.random:\n",
    "                r.append(None)\n",
    "            else:\n",
    "                r.append(head.random)  \n",
    "            nodes.append(head)\n",
    "            head = head.next\n",
    "        for m in r:\n",
    "            if m in nodes:\n",
    "                index.append(nodes.index(m))\n",
    "            else:\n",
    "                index.append(-1)\n",
    "        for m in range(len(temp)):\n",
    "            if index[m] == -1:\n",
    "                temp[m].random = None\n",
    "            else:\n",
    "                temp[m].random = temp[index[m]]\n",
    "        if len(temp) > 0: \n",
    "            res = temp[0]\n",
    "            t = res\n",
    "            for n in range(1, len(temp)):\n",
    "                t.next = temp[n]\n",
    "                t = t.next\n",
    "            return res\n",
    "        else:\n",
    "            return None"
   ]
  }
 ],
 "metadata": {
  "kernelspec": {
   "display_name": "Python 3 (ipykernel)",
   "language": "python",
   "name": "python3"
  },
  "language_info": {
   "codemirror_mode": {
    "name": "ipython",
    "version": 3
   },
   "file_extension": ".py",
   "mimetype": "text/x-python",
   "name": "python",
   "nbconvert_exporter": "python",
   "pygments_lexer": "ipython3",
   "version": "3.10.9"
  }
 },
 "nbformat": 4,
 "nbformat_minor": 5
}
