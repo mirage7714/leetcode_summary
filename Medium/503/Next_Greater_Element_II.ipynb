{
 "cells": [
  {
   "cell_type": "markdown",
   "id": "12bd2ace-3003-4af8-9069-c6cc3c44aa15",
   "metadata": {},
   "source": [
    "# 本題要找出下一個比目前數值大的值 (\\#Array, \\#Monotonic stack) \n",
    "原題目連結: https://leetcode.com/problems/next-greater-element-ii/description/  \n",
    "\n",
    "Given a circular integer array nums (i.e., the next element of nums[nums.length - 1] is nums[0]), return the next greater number for every element in nums.  \n",
    "\n",
    "The next greater number of a number x is the first greater number to its traversing-order next in the array, which means you could search circularly to find its next greater number. If it doesn't exist, return -1 for this number.  \n",
    "\n",
    "範例:  \n",
    "Ex1:  \n",
    "Input: nums = [1,2,1]  \n",
    "Output: [2,-1,2]  \n",
    "Explanation: The first 1's next greater number is 2;   \n",
    "The number 2 can't find next greater number.   \n",
    "The second 1's next greater number needs to search circularly, which is also 2.  \n",
    "\n",
    "Ex2:  \n",
    "Input: nums = [1,2,3,4,3]  \n",
    "Output: [2,3,4,-1,4]  "
   ]
  },
  {
   "cell_type": "markdown",
   "id": "b6c4d521-7bfc-4a9e-a8c1-b4d3b9add20d",
   "metadata": {},
   "source": [
    "* 解題想法:  \n",
    "這邊因為可以往回找是否有比目前數值大的值，因此將輸入的nums串在一起，變成兩倍長度的nums之後，用monotonic stack的標準解法找出數值後，只回傳前一半的數值就是答案"
   ]
  },
  {
   "cell_type": "code",
   "execution_count": null,
   "id": "71a489da-4956-441e-b699-df5a7af9f0d2",
   "metadata": {},
   "outputs": [],
   "source": [
    "class Solution:\n",
    "    def nextGreaterElements(self, nums: List[int]) -> List[int]:\n",
    "        l = len(nums)\n",
    "        res = [-1] * len(nums) * 2\n",
    "        nums = nums + nums\n",
    "        stack = []\n",
    "        for i in range(len(nums)):\n",
    "            while stack and nums[i] > nums[stack[-1]]:\n",
    "                res[stack[-1]] = nums[i]\n",
    "                stack.pop()\n",
    "            stack.append(i)\n",
    "        return res[:l]"
   ]
  }
 ],
 "metadata": {
  "kernelspec": {
   "display_name": "Python 3 (ipykernel)",
   "language": "python",
   "name": "python3"
  },
  "language_info": {
   "codemirror_mode": {
    "name": "ipython",
    "version": 3
   },
   "file_extension": ".py",
   "mimetype": "text/x-python",
   "name": "python",
   "nbconvert_exporter": "python",
   "pygments_lexer": "ipython3",
   "version": "3.9.13"
  }
 },
 "nbformat": 4,
 "nbformat_minor": 5
}
