{
 "cells": [
  {
   "cell_type": "markdown",
   "metadata": {},
   "source": [
    "# 本題要設計一個renew token的系統\n",
    "原題目連結: https://leetcode.com/problems/design-authentication-manager/  \n",
    "\n",
    "There is an authentication system that works with authentication tokens. For each session, the user will receive a new authentication token that will expire timeToLive seconds after the currentTime. If the token is renewed, the expiry time will be extended to expire timeToLive seconds after the (potentially different) currentTime.  \n",
    "\n",
    "Implement the AuthenticationManager class:  \n",
    "\n",
    "AuthenticationManager(int timeToLive) constructs the AuthenticationManager and sets the timeToLive.  \n",
    "generate(string tokenId, int currentTime) generates a new token with the given tokenId at the given currentTime in seconds.  \n",
    "renew(string tokenId, int currentTime) renews the unexpired token with the given tokenId at the given currentTime in seconds. If there are no unexpired tokens with the given tokenId, the request is ignored, and nothing happens.  \n",
    "countUnexpiredTokens(int currentTime) returns the number of unexpired tokens at the given currentTime.  \n",
    "Note that if a token expires at time t, and another action happens on time t (renew or countUnexpiredTokens), the expiration takes place before the other actions.  \n",
    "\n",
    "Ex1:  \n",
    "Input  \n",
    "[\"AuthenticationManager\", \"renew\", \"generate\", \"countUnexpiredTokens\", \"generate\", \"renew\", \"renew\", \"countUnexpiredTokens\"]  \n",
    "[[5], [\"aaa\", 1], [\"aaa\", 2], [6], [\"bbb\", 7], [\"aaa\", 8], [\"bbb\", 10], [15]]  \n",
    "Output  \n",
    "[null, null, null, 1, null, null, null, 0]  \n",
    "\n",
    "Explanation  \n",
    "AuthenticationManager authenticationManager = new AuthenticationManager(5); // Constructs the AuthenticationManager with timeToLive = 5 seconds.  \n",
    "authenticationManager.renew(\"aaa\", 1); // No token exists with tokenId \"aaa\" at time 1, so nothing happens.  \n",
    "authenticationManager.generate(\"aaa\", 2); // Generates a new token with tokenId \"aaa\" at time 2.  \n",
    "authenticationManager.countUnexpiredTokens(6); // The token with tokenId \"aaa\" is the only unexpired one at time 6, so return 1.  \n",
    "authenticationManager.generate(\"bbb\", 7); // Generates a new token with tokenId \"bbb\" at time 7.  \n",
    "authenticationManager.renew(\"aaa\", 8); // The token with tokenId \"aaa\" expired at time 7, and 8 >= 7, so at time 8 the renew request is ignored, and nothing happens.  \n",
    "authenticationManager.renew(\"bbb\", 10); // The token with tokenId \"bbb\" is unexpired at time 10, so the renew request is fulfilled and now the token will expire at time 15.  \n",
    "authenticationManager.countUnexpiredTokens(15); // The token with tokenId \"bbb\" expires at time 15, and the token with tokenId \"aaa\" expired at time 7, so currently no token is unexpired, so return 0."
   ]
  },
  {
   "cell_type": "markdown",
   "metadata": {},
   "source": [
    "* 解題想法:  \n",
    "首先建立一個dict(tokens)來存放所有的token資訊，另外必須把token有效的時間也另外建立一個變數，接著開始實作題目要求的功能:  \n",
    "- generate(): 將指定的user id與expired time都建立起來  \n",
    "- renew(): 檢查指定的user id是否過期，如果未過期則更新expired time  \n",
    "- countUnexpiredTokens(): 檢查有多少user id是未過期的，並回傳數字"
   ]
  },
  {
   "cell_type": "code",
   "execution_count": null,
   "metadata": {},
   "outputs": [],
   "source": [
    "class AuthenticationManager:\n",
    "\n",
    "    def __init__(self, timeToLive: int):\n",
    "        self.tokens = {}\n",
    "        self.live = timeToLive\n",
    "    def generate(self, tokenId: str, currentTime: int) -> None:\n",
    "        if tokenId not in self.tokens.keys():\n",
    "            self.tokens[tokenId] = currentTime + self.live\n",
    "\n",
    "    def renew(self, tokenId: str, currentTime: int) -> None:\n",
    "        if tokenId in self.tokens.keys():\n",
    "            if self.tokens[tokenId] > currentTime:\n",
    "                self.tokens[tokenId] = currentTime + self.live\n",
    "\n",
    "    def countUnexpiredTokens(self, currentTime: int) -> int:\n",
    "        count = 0\n",
    "        for val in self.tokens.values():\n",
    "            if val > currentTime:\n",
    "                count += 1\n",
    "        return count\n",
    "\n",
    "\n",
    "# Your AuthenticationManager object will be instantiated and called as such:\n",
    "# obj = AuthenticationManager(timeToLive)\n",
    "# obj.generate(tokenId,currentTime)\n",
    "# obj.renew(tokenId,currentTime)\n",
    "# param_3 = obj.countUnexpiredTokens(currentTime)"
   ]
  }
 ],
 "metadata": {
  "kernelspec": {
   "display_name": "Python 3",
   "language": "python",
   "name": "python3"
  },
  "language_info": {
   "codemirror_mode": {
    "name": "ipython",
    "version": 3
   },
   "file_extension": ".py",
   "mimetype": "text/x-python",
   "name": "python",
   "nbconvert_exporter": "python",
   "pygments_lexer": "ipython3",
   "version": "3.7.4"
  }
 },
 "nbformat": 4,
 "nbformat_minor": 4
}
