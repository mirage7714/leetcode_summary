{
 "cells": [
  {
   "cell_type": "markdown",
   "metadata": {},
   "source": [
    "# 本題要找出將兩個字串合併的最大結果\n",
    "原題目連結：https://leetcode.com/problems/largest-merge-of-two-strings/  \n",
    "\n",
    "You are given two strings word1 and word2. You want to construct a string merge in the following way: while either word1 or word2 are non-empty, choose one of the following options:  \n",
    "\n",
    "If word1 is non-empty, append the first character in word1 to merge and delete it from word1.  \n",
    "For example, if word1 = \"abc\" and merge = \"dv\", then after choosing this operation, word1 = \"bc\" and merge = \"dva\".  \n",
    "If word2 is non-empty, append the first character in word2 to merge and delete it from word2.  \n",
    "For example, if word2 = \"abc\" and merge = \"\", then after choosing this operation, word2 = \"bc\" and merge = \"a\".  \n",
    "Return the lexicographically largest merge you can construct.  \n",
    "\n",
    "範例：  \n",
    "Ex1:  \n",
    "Input: word1 = \"cabaa\", word2 = \"bcaaa\"  \n",
    "Output: \"cbcabaaaaa\"  \n",
    "Explanation: One way to get the lexicographically largest merge is:  \n",
    "- Take from word1: merge = \"c\", word1 = \"abaa\", word2 = \"bcaaa\"  \n",
    "- Take from word2: merge = \"cb\", word1 = \"abaa\", word2 = \"caaa\"  \n",
    "- Take from word2: merge = \"cbc\", word1 = \"abaa\", word2 = \"aaa\"  \n",
    "- Take from word1: merge = \"cbca\", word1 = \"baa\", word2 = \"aaa\"   \n",
    "- Take from word1: merge = \"cbcab\", word1 = \"aa\", word2 = \"aaa\"  \n",
    "- Append the remaining 5 a's from word1 and word2 at the end of merge.  \n",
    "\n",
    "Ex2:  \n",
    "Input: word1 = \"abcabc\", word2 = \"abdcaba\"  \n",
    "Output: \"abdcabcabcaba\""
   ]
  },
  {
   "cell_type": "markdown",
   "metadata": {},
   "source": [
    "* 解題想法：  \n",
    "依題目說明，需要逐步判斷兩個字串每個字母大小，因此先將兩個字串分別轉成list，接著將較大的字串加到一個暫存的list中並從原本的list中移除，如果兩個字串相同時，則隨意將一個字串中的第一個字加上後再繼續進行比較  \n",
    "另外如果其中一個list長度已經為0的情況，則直接將剩下的字母都加到最後"
   ]
  },
  {
   "cell_type": "code",
   "execution_count": null,
   "metadata": {},
   "outputs": [],
   "source": [
    "class Solution:\n",
    "    def largestMerge(self, word1: str, word2: str) -> str:\n",
    "        def genChars(word):\n",
    "            result = []\n",
    "            for w in word:\n",
    "                result.append(w)\n",
    "            return result\n",
    "        w1 = genChars(word1)\n",
    "        w2 = genChars(word2)\n",
    "        temp = []\n",
    "        result = ''\n",
    "        total = len(w1) + len(w2)\n",
    "        while len(temp) < total:\n",
    "            if len(w1) > 0 and len(w2) > 0:\n",
    "                if w1[0] > w2[0]:\n",
    "                    temp.append(w1[0])\n",
    "                    w1.pop(0)\n",
    "                elif w2[0] > w1[0]:\n",
    "                    temp.append(w2[0])\n",
    "                    w2.pop(0)\n",
    "                else:\n",
    "                    if w1 == w2:\n",
    "                        temp.append(w1[0])\n",
    "                        w1.pop(0)\n",
    "                    else:\n",
    "                        if w1 > w2:\n",
    "                            temp.append(w1[0])\n",
    "                            w1.pop(0)\n",
    "                        else:\n",
    "                            temp.append(w2[0])\n",
    "                            w2.pop(0)\n",
    "            else:\n",
    "                if len(w1) == 0:\n",
    "                    temp += w2\n",
    "                else:\n",
    "                    temp += w1\n",
    "        for t in temp:\n",
    "            result += t\n",
    "        return result"
   ]
  }
 ],
 "metadata": {
  "kernelspec": {
   "display_name": "Python 3",
   "language": "python",
   "name": "python3"
  },
  "language_info": {
   "codemirror_mode": {
    "name": "ipython",
    "version": 3
   },
   "file_extension": ".py",
   "mimetype": "text/x-python",
   "name": "python",
   "nbconvert_exporter": "python",
   "pygments_lexer": "ipython3",
   "version": "3.7.6"
  }
 },
 "nbformat": 4,
 "nbformat_minor": 4
}
