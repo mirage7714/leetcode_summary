{
 "cells": [
  {
   "cell_type": "markdown",
   "metadata": {},
   "source": [
    "# 本題要最大化賣股票的利潤，並且交易次數可以不限一次\n",
    "原題目連結: https://leetcode.com/problems/best-time-to-buy-and-sell-stock-ii/  \n",
    "\n",
    "You are given an integer array prices where prices[i] is the price of a given stock on the ith day.  \n",
    "\n",
    "On each day, you may decide to buy and/or sell the stock. You can only hold at most one share of the stock at any time. However, you can buy it then immediately sell it on the same day.  \n",
    "Find and return the maximum profit you can achieve.  \n",
    "\n",
    "範例:  \n",
    "Ex1:  \n",
    "Input: prices = [7,1,5,3,6,4]  \n",
    "Output: 7  \n",
    "Explanation: Buy on day 2 (price = 1) and sell on day 3 (price = 5), profit = 5-1 = 4.  \n",
    "Then buy on day 4 (price = 3) and sell on day 5 (price = 6), profit = 6-3 = 3.  \n",
    "Total profit is 4 + 3 = 7.  \n",
    "\n",
    "Ex2:  \n",
    "Input: prices = [1,2,3,4,5]  \n",
    "Output: 4  \n",
    "Explanation: Buy on day 1 (price = 1) and sell on day 5 (price = 5), profit = 5-1 = 4.  \n",
    "Total profit is 4.  \n",
    "\n",
    "Ex3:  \n",
    "Input: prices = [7,6,4,3,1]  \n",
    "Output: 0  \n",
    "Explanation: There is no way to make a positive profit, so we never buy the stock to achieve the maximum profit of 0."
   ]
  },
  {
   "cell_type": "markdown",
   "metadata": {},
   "source": [
    "* 解題想法:  \n",
    "與121題類似，這題一樣是使用2 pointer來進行，起始的i與j一樣是第0與1的位置，如果第i天的價格大於第j天，則更新i=j，且j+1，如果i小於j，則需檢查j+1天的價格是上升還是下降，如果下降的話，則將i到j天的價差算出後，將i更新為j，且j+1，最後回傳價差的總和"
   ]
  },
  {
   "cell_type": "code",
   "execution_count": null,
   "metadata": {},
   "outputs": [],
   "source": [
    "class Solution:\n",
    "    def maxProfit(self, prices: List[int]) -> int:\n",
    "        result = 0\n",
    "        i = 0\n",
    "        j = 1\n",
    "        while j < len(prices):\n",
    "            if prices[j] <= prices[i]:\n",
    "                i = j\n",
    "            else:\n",
    "                if j < len(prices)-1:\n",
    "                    if prices[j] > prices[j+1]:\n",
    "                        result += prices[j] - prices[i]\n",
    "                        i = j\n",
    "                else:\n",
    "                    result += prices[j] - prices[i]\n",
    "            j += 1\n",
    "        return result"
   ]
  }
 ],
 "metadata": {
  "kernelspec": {
   "display_name": "Python 3",
   "language": "python",
   "name": "python3"
  },
  "language_info": {
   "codemirror_mode": {
    "name": "ipython",
    "version": 3
   },
   "file_extension": ".py",
   "mimetype": "text/x-python",
   "name": "python",
   "nbconvert_exporter": "python",
   "pygments_lexer": "ipython3",
   "version": "3.7.4"
  }
 },
 "nbformat": 4,
 "nbformat_minor": 4
}
