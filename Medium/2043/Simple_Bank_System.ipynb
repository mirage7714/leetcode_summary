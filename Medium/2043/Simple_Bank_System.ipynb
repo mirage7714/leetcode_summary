{
 "cells": [
  {
   "cell_type": "markdown",
   "metadata": {},
   "source": [
    "# 本題要設計一個簡單的銀行系統\n",
    "原題目連結: https://leetcode.com/problems/simple-bank-system/  \n",
    "\n",
    "You have been tasked with writing a program for a popular bank that will automate all its incoming transactions (transfer, deposit, and withdraw). The bank has n accounts numbered from 1 to n. The initial balance of each account is stored in a 0-indexed integer array balance, with the (i + 1)th account having an initial balance of balance[i].  \n",
    "\n",
    "Execute all the valid transactions. A transaction is valid if:  \n",
    "\n",
    "The given account number(s) are between 1 and n, and  \n",
    "The amount of money withdrawn or transferred from is less than or equal to the balance of the account.  \n",
    "\n",
    "Implement the Bank class:  \n",
    "\n",
    "Bank(long[] balance) Initializes the object with the 0-indexed integer array balance.  \n",
    "boolean transfer(int account1, int account2, long money) Transfers money dollars from the account numbered account1 to the account numbered account2. Return true if the transaction was successful, false otherwise.  \n",
    "boolean deposit(int account, long money) Deposit money dollars into the account numbered account. Return true if the transaction was successful, false otherwise.  \n",
    "boolean withdraw(int account, long money) Withdraw money dollars from the account numbered account. Return true if the transaction was successful, false otherwise.  "
   ]
  },
  {
   "cell_type": "markdown",
   "metadata": {},
   "source": [
    "* 解題想法:  \n",
    "首先建立一個dict來存放各帳戶初始的金額，接著開始實作各功能的部分:  \n",
    "- transfer(): 首先檢查兩個帳戶是否都存在，如果存在的話下一步則檢查餘額是否足夠，如果餘額足夠的話則進行轉帳  \n",
    "- deposit(): 檢查帳戶是否存在，如果存在則將金額存入帳戶中  \n",
    "- withdraw(): 檢查帳戶是否存在，如果存在則檢查金額是否足夠，如果足夠則減去指定的金額"
   ]
  },
  {
   "cell_type": "code",
   "execution_count": null,
   "metadata": {},
   "outputs": [],
   "source": [
    "class Bank:\n",
    "\n",
    "    def __init__(self, balance: List[int]):\n",
    "        self.accounts = {}\n",
    "        for m in range(len(balance)):\n",
    "            self.accounts[m+1] = balance[m]\n",
    "\n",
    "    def transfer(self, account1: int, account2: int, money: int) -> bool:\n",
    "        valid = False\n",
    "        if account1 in self.accounts.keys():\n",
    "            if account2 in self.accounts.keys():\n",
    "                if self.accounts[account1] >= money:\n",
    "                    self.accounts[account1] -= money\n",
    "                    self.accounts[account2] += money\n",
    "                    valid = True\n",
    "        return valid\n",
    "\n",
    "    def deposit(self, account: int, money: int) -> bool:\n",
    "        if account in self.accounts:\n",
    "            self.accounts[account] += money\n",
    "            return True\n",
    "        else:\n",
    "            return False\n",
    "\n",
    "    def withdraw(self, account: int, money: int) -> bool:\n",
    "        valid = False\n",
    "        if account in self.accounts.keys():\n",
    "            if self.accounts[account] >= money:\n",
    "                self.accounts[account] -= money\n",
    "                valid = True\n",
    "        return valid"
   ]
  }
 ],
 "metadata": {
  "kernelspec": {
   "display_name": "Python 3",
   "language": "python",
   "name": "python3"
  },
  "language_info": {
   "codemirror_mode": {
    "name": "ipython",
    "version": 3
   },
   "file_extension": ".py",
   "mimetype": "text/x-python",
   "name": "python",
   "nbconvert_exporter": "python",
   "pygments_lexer": "ipython3",
   "version": "3.7.4"
  }
 },
 "nbformat": 4,
 "nbformat_minor": 4
}
