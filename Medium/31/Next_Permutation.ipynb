{
 "cells": [
  {
   "cell_type": "markdown",
   "metadata": {},
   "source": [
    "# 本題要找出下一個permutation的值是多少\n",
    "原題目連結: https://leetcode.com/problems/next-permutation/  \n",
    "\n",
    "A permutation of an array of integers is an arrangement of its members into a sequence or linear order.  \n",
    "\n",
    "For example, for arr = [1,2,3], the following are all the permutations of arr: [1,2,3], [1,3,2], [2, 1, 3], [2, 3, 1], [3,1,2], [3,2,1].  \n",
    "The next permutation of an array of integers is the next lexicographically greater permutation of its integer. More formally, if all the permutations of the array are sorted in one container according to their lexicographical order, then the next permutation of that array is the permutation that follows it in the sorted container. If such arrangement is not possible, the array must be rearranged as the lowest possible order (i.e., sorted in ascending order).  \n",
    "\n",
    "For example, the next permutation of arr = [1,2,3] is [1,3,2].  \n",
    "Similarly, the next permutation of arr = [2,3,1] is [3,1,2].  \n",
    "While the next permutation of arr = [3,2,1] is [1,2,3] because [3,2,1] does not have a lexicographical larger rearrangement.  \n",
    "Given an array of integers nums, find the next permutation of nums.  \n",
    "\n",
    "The replacement must be in place and use only constant extra memory.  \n",
    "\n",
    "範例:  \n",
    "Ex1:  \n",
    "Input: nums = [1,2,3]  \n",
    "Output: [1,3,2]  \n",
    "\n",
    "Ex2:  \n",
    "Input: nums = [3,2,1]  \n",
    "Output: [1,2,3]  \n",
    "\n",
    "Ex3:     \n",
    "Input: nums = [1,1,5]  \n",
    "Output: [1,5,1]"
   ]
  },
  {
   "cell_type": "markdown",
   "metadata": {},
   "source": [
    "* 解題想法:  \n",
    "首先從nums後往前開始找出nums[n]>nums[n+1]的情況，接著用這個n判斷是否為最尾端，如果不是最尾端則需要在nums[n+1:]中找出最小且大於nums[n]的數值，將兩個數值交換之後把nums[n+1:]重新排序，並放回nums中  \n",
    "如果n為數值的最尾端，則直接把nums[n]與nums[n-1]調換，最後如果都沒有調換，則直接把nums順序調換"
   ]
  },
  {
   "cell_type": "code",
   "execution_count": null,
   "metadata": {},
   "outputs": [],
   "source": [
    "import heapq\n",
    "\n",
    "class Solution:\n",
    "    def nextPermutation(self, nums: List[int]) -> None:\n",
    "        \"\"\"\n",
    "        Do not return anything, modify nums in-place instead.\n",
    "        \"\"\"\n",
    "        i = 0\n",
    "        is_rev = False\n",
    "        for m in range(len(nums)-1, 0, -1):\n",
    "            if nums[m] > nums[m-1]:\n",
    "                is_rev = True\n",
    "                i = m\n",
    "                break\n",
    "        if not is_rev:\n",
    "            nums.reverse()\n",
    "        else:\n",
    "            if m == len(nums)-1:\n",
    "                temp = nums[m]\n",
    "                nums[m] = nums[m-1]\n",
    "                nums[m-1] = temp\n",
    "            else:\n",
    "                prev = nums[i-1]\n",
    "                p = nums[i:]\n",
    "                heapq.heapify(p)\n",
    "                temp = []\n",
    "                while p:\n",
    "                    n = heapq.heappop(p)\n",
    "                    if n > prev:\n",
    "                        heapq.heappush(p, prev)\n",
    "                        nums[i-1] = n\n",
    "                        break\n",
    "                    else:\n",
    "                        temp.append(n)\n",
    "                for t in temp:\n",
    "                    heapq.heappush(p, t)\n",
    "                for a in range(i, len(nums)):            \n",
    "                    nums[a] = heapq.heappop(p)"
   ]
  }
 ],
 "metadata": {
  "kernelspec": {
   "display_name": "Python 3",
   "language": "python",
   "name": "python3"
  },
  "language_info": {
   "codemirror_mode": {
    "name": "ipython",
    "version": 3
   },
   "file_extension": ".py",
   "mimetype": "text/x-python",
   "name": "python",
   "nbconvert_exporter": "python",
   "pygments_lexer": "ipython3",
   "version": "3.7.4"
  }
 },
 "nbformat": 4,
 "nbformat_minor": 4
}
