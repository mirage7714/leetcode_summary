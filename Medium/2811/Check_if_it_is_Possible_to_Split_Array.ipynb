{
 "cells": [
  {
   "cell_type": "markdown",
   "id": "a7efee92-8369-43db-8d61-61f797310fb5",
   "metadata": {},
   "source": [
    "# 本題要找出是否有方法可以將array進行切割 (\\#Array, \\#Greedy)\n",
    "原題目連結: https://leetcode.com/problems/check-if-it-is-possible-to-split-array/description/  \n",
    "\n",
    "You are given an array nums of length n and an integer m. You need to determine if it is possible to split the array into n non-empty arrays by performing a series of steps.  \n",
    "In each step, you can select an existing array (which may be the result of previous steps) with a length of at least two and split it into two subarrays, if, for each resulting subarray, at least one of the following holds:  \n",
    "\n",
    "The length of the subarray is one, or  \n",
    "The sum of elements of the subarray is greater than or equal to m.  \n",
    "Return true if you can split the given array into n arrays, otherwise return false.  \n",
    "\n",
    "Note: A subarray is a contiguous non-empty sequence of elements within an array.  \n",
    "\n",
    "範例:  \n",
    "Ex1:  \n",
    "Input: nums = [2, 2, 1], m = 4  \n",
    "Output: true  \n",
    "Explanation: We can split the array into [2, 2] and [1] in the first step. Then, in the second step, we can split [2, 2] into [2] and [2]. As a result, the answer is true.  \n",
    "\n",
    "Ex2:  \n",
    "Input: nums = [2, 1, 3], m = 5   \n",
    "Output: false  \n",
    "Explanation: We can try splitting the array in two different ways: the first way is to have [2, 1] and [3], and the second way is to have [2] and [1, 3]. However, both of these ways are not valid. So, the answer is false.  \n",
    "\n",
    "Ex3:  \n",
    "Input: nums = [2, 3, 3, 2, 3], m = 6  \n",
    "Output: true  \n",
    "Explanation: We can split the array into [2, 3, 3, 2] and [3] in the first step. Then, in the second step, we can split [2, 3, 3, 2] into [2, 3, 3] and [2]. Then, in the third step, we can split [2, 3, 3] into [2] and [3, 3]. And in the last step we can split [3, 3] into [3] and [3]. As a result, the answer is true.  "
   ]
  },
  {
   "cell_type": "markdown",
   "id": "5f28da9d-a8d4-41c7-bab1-748aea9cf289",
   "metadata": {},
   "source": [
    "* 解題想法:  \n",
    "首先用一個bool來記錄是否有小於目標的值，接著用另一個bool來記錄目前是否有符合條件的值，然後開始迴圈檢查數值，如果當目前的值大於目標則代表符合條件，另外如果目前的值加上前一個數值大於或等於目標也符合條件，最後回傳是否符合條件就是答案"
   ]
  },
  {
   "cell_type": "code",
   "execution_count": null,
   "id": "7bcd09f4-635b-48f2-94b7-a22150be0487",
   "metadata": {},
   "outputs": [],
   "source": [
    "class Solution:\n",
    "    def canSplitArray(self, nums: List[int], m: int) -> bool:\n",
    "        temp = 0\n",
    "        res = True\n",
    "        prev = False\n",
    "        valid = False\n",
    "        if len(nums) > 2: \n",
    "            for n in nums:\n",
    "                if n >= m:\n",
    "                    valid = True\n",
    "                elif temp + n >= m:\n",
    "                    valid = True\n",
    "                if valid:\n",
    "                    return res\n",
    "                temp = n\n",
    "            if not prev:\n",
    "                res = False\n",
    "        return res"
   ]
  }
 ],
 "metadata": {
  "kernelspec": {
   "display_name": "Python 3 (ipykernel)",
   "language": "python",
   "name": "python3"
  },
  "language_info": {
   "codemirror_mode": {
    "name": "ipython",
    "version": 3
   },
   "file_extension": ".py",
   "mimetype": "text/x-python",
   "name": "python",
   "nbconvert_exporter": "python",
   "pygments_lexer": "ipython3",
   "version": "3.9.13"
  }
 },
 "nbformat": 4,
 "nbformat_minor": 5
}
