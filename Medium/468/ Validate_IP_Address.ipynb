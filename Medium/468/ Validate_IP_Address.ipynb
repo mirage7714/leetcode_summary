{
 "cells": [
  {
   "cell_type": "markdown",
   "metadata": {},
   "source": [
    "# 本題要判斷指定的字串是IPv4，IPv6或者都不是\n",
    "原題目連結: https://leetcode.com/problems/validate-ip-address/  \n",
    "\n",
    "Given a string queryIP, return \"IPv4\" if IP is a valid IPv4 address, \"IPv6\" if IP is a valid IPv6 address or \"Neither\" if IP is not a correct IP of any type.  \n",
    "\n",
    "A valid IPv4 address is an IP in the form \"x1.x2.x3.x4\" where 0 <= xi <= 255 and xi cannot contain leading zeros. For example, \"192.168.1.1\" and \"192.168.1.0\" are valid IPv4 addresses while \"192.168.01.1\", \"192.168.1.00\", and \"192.168@1.1\" are invalid IPv4 addresses.  \n",
    "\n",
    "A valid IPv6 address is an IP in the form \"x1:x2:x3:x4:x5:x6:x7:x8\" where:  \n",
    "\n",
    "1 <= xi.length <= 4  \n",
    "xi is a hexadecimal string which may contain digits, lowercase English letter ('a' to 'f') and upper-case English letters ('A' to 'F').  \n",
    "Leading zeros are allowed in xi.  \n",
    "For example, \"2001:0db8:85a3:0000:0000:8a2e:0370:7334\" and \"2001:db8:85a3:0:0:8A2E:0370:7334\" are valid IPv6 addresses, while \"2001:0db8:85a3::8A2E:037j:7334\" and   \"02001:0db8:85a3:0000:0000:8a2e:0370:7334\" are invalid IPv6 addresses.  \n",
    "\n",
    "範例:  \n",
    "Ex1:  \n",
    "Input: queryIP = \"172.16.254.1\"  \n",
    "Output: \"IPv4\"  \n",
    "Explanation: This is a valid IPv4 address, return \"IPv4\".  \n",
    "\n",
    "Ex2:  \n",
    "Input: queryIP = \"2001:0db8:85a3:0:0:8A2E:0370:7334\"  \n",
    "Output: \"IPv6\"  \n",
    "Explanation: This is a valid IPv6 address, return \"IPv6\".  \n",
    "\n",
    "Ex3:  \n",
    "Input: queryIP = \"256.256.256.256\"  \n",
    "Output: \"Neither\"  \n",
    "Explanation: This is neither a IPv4 address nor a IPv6 address."
   ]
  },
  {
   "cell_type": "markdown",
   "metadata": {},
   "source": [
    "* 解題想法:  \n",
    "首先檢查字串中是否有包含.或是:來判斷可能為IPv4或是IPv6，接著檢查是否符合各自的定義，如果都符合則回傳IPv4或是IPv6，如果不符合則回傳Neither"
   ]
  },
  {
   "cell_type": "code",
   "execution_count": null,
   "metadata": {},
   "outputs": [],
   "source": [
    "class Solution:\n",
    "    def validIPAddress(self, queryIP: str) -> str:\n",
    "        result = ''\n",
    "        chars = ['a','b','c','d','e','f']\n",
    "        if '.' in queryIP:\n",
    "            part = queryIP.split('.')\n",
    "            if len(part) == 4:\n",
    "                result = 'IPv4'\n",
    "                for p in part:\n",
    "                    if not p.isnumeric():\n",
    "                        result = 'Neither'\n",
    "                        break\n",
    "                    elif int(p) > 255:\n",
    "                        result = 'Neither'\n",
    "                        break\n",
    "                    elif len(p) == 0:\n",
    "                        result = 'Neither'\n",
    "                        break\n",
    "                    elif len(p) > 1 and p[0] == '0':\n",
    "                        result = 'Neither'\n",
    "                        break\n",
    "            else:\n",
    "                result = 'Neither'\n",
    "        elif ':' in queryIP:\n",
    "            part = queryIP.split(':')\n",
    "            if len(part) == 8:\n",
    "                result = 'IPv6'\n",
    "                for p in part:\n",
    "                    if len(p) == 0:\n",
    "                        result = 'Neither'\n",
    "                        break\n",
    "                    elif len(p) <= 4:\n",
    "                        for l in p:\n",
    "                            if not l.isnumeric() and l.lower() not in chars:\n",
    "                                result = 'Neither'\n",
    "                                break\n",
    "                    else:\n",
    "                        result = 'Neither'\n",
    "                        break\n",
    "            else:\n",
    "                result = 'Neither'\n",
    "        else:\n",
    "            result = 'Neither'\n",
    "        return result"
   ]
  }
 ],
 "metadata": {
  "kernelspec": {
   "display_name": "Python 3",
   "language": "python",
   "name": "python3"
  },
  "language_info": {
   "codemirror_mode": {
    "name": "ipython",
    "version": 3
   },
   "file_extension": ".py",
   "mimetype": "text/x-python",
   "name": "python",
   "nbconvert_exporter": "python",
   "pygments_lexer": "ipython3",
   "version": "3.7.4"
  }
 },
 "nbformat": 4,
 "nbformat_minor": 4
}
