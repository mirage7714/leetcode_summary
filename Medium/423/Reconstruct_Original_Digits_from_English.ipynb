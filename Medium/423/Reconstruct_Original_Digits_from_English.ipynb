{
 "cells": [
  {
   "cell_type": "markdown",
   "id": "3723fa38-c704-4c0b-b000-ff6bfddf3812",
   "metadata": {},
   "source": [
    "# 本題要將字串重新轉換回數字 (\\#String, \\#HashMap )\n",
    "原題目連結: https://leetcode.com/problems/reconstruct-original-digits-from-english/description/  \n",
    "\n",
    "Given a string s containing an out-of-order English representation of digits 0-9, return the digits in ascending order.   \n",
    "\n",
    "範例:  \n",
    "Ex1:  \n",
    "Input: s = \"owoztneoer\"  \n",
    "Output: \"012\"  \n",
    "\n",
    "Ex2:  \n",
    "Input: s = \"fviefuro\"  \n",
    "Output: \"45\"  "
   ]
  },
  {
   "cell_type": "markdown",
   "id": "f722607e-dd8a-4560-bb4c-b895c0b04f47",
   "metadata": {},
   "source": [
    "* 解題想法:  \n",
    "首先用一個dict建立每個數字對應的英文字母次數表，接著將原本的字串轉換為每個字母出現的頻率，另外用一個list來存放解讀字母的順序與對應的數字，接著從頭開始找出代表該數字的字母是否有出現，如果有的話則將對應的數字找出後放入list中，最後將list排序後轉為字串回傳就是答案"
   ]
  },
  {
   "cell_type": "code",
   "execution_count": null,
   "id": "6127c00a-4b87-493c-bbcd-74b5cc8997d9",
   "metadata": {},
   "outputs": [],
   "source": [
    "class Solution:\n",
    "    def originalDigits(self, s: str) -> str:\n",
    "        digits= {'0':{'z':1,'e':1,'r':1,'o':1},\n",
    "                '1': {'o':1,'n':1,'e':1},\n",
    "                '2': {'t':1,'w':1,'o':1},\n",
    "                '3': {'t':1,'h':1,'r':1,'e':2},\n",
    "                '4': {'f':1,'o':1,'u':1,'r':1},\n",
    "                '5': {'f':1,'i':1,'v':1,'e':1},\n",
    "                '6': {'s':1,'i':1,'x':1},\n",
    "                '7': {'s':1,'e':2,'v':1,'n':1},\n",
    "                '8': {'e':1, 'i':1,'g':1,'h':1,'t':1},\n",
    "                '9': {'n':2, 'i':1, 'e':1}\n",
    "        }\n",
    "        count = {}\n",
    "        res = []\n",
    "        char = ['w','z','g','x','s','v','f','t','o','i']\n",
    "        d = ['2','0','8','6','7','5','4','3','1','9']\n",
    "        for i in s:\n",
    "            if i not in count.keys():\n",
    "                count[i] = 1\n",
    "            else:\n",
    "                count[i] += 1\n",
    "        for i in range(len(char)):\n",
    "            if char[i] in count.keys():\n",
    "                di = digits[d[i]]\n",
    "                base = count[char[i]]\n",
    "                for key, val in di.items():\n",
    "                    count[key] -= base * val\n",
    "                    if count[key] == 0:\n",
    "                        count.pop(key)\n",
    "                for _ in range(base):\n",
    "                    res.append(d[i])\n",
    "        res.sort()\n",
    "        return ''.join(res)"
   ]
  }
 ],
 "metadata": {
  "kernelspec": {
   "display_name": "Python 3 (ipykernel)",
   "language": "python",
   "name": "python3"
  },
  "language_info": {
   "codemirror_mode": {
    "name": "ipython",
    "version": 3
   },
   "file_extension": ".py",
   "mimetype": "text/x-python",
   "name": "python",
   "nbconvert_exporter": "python",
   "pygments_lexer": "ipython3",
   "version": "3.9.13"
  }
 },
 "nbformat": 4,
 "nbformat_minor": 5
}
