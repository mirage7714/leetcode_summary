{
 "cells": [
  {
   "cell_type": "markdown",
   "metadata": {},
   "source": [
    "# 本題要建立一個可以隨機分配數字的功能\n",
    "原題目連結: https://leetcode.com/problems/shuffle-an-array/  \n",
    "\n",
    "Given an integer array nums, design an algorithm to randomly shuffle the array. All permutations of the array should be equally likely as a result of the shuffling.  \n",
    "\n",
    "Implement the Solution class:  \n",
    "\n",
    "Solution(int[] nums) Initializes the object with the integer array nums.  \n",
    "int[] reset() Resets the array to its original configuration and returns it.  \n",
    "int[] shuffle() Returns a random shuffling of the array.  \n",
    "\n",
    "範例:  \n",
    "Ex1:  \n",
    "Input  \n",
    "[\"Solution\", \"shuffle\", \"reset\", \"shuffle\"]  \n",
    "[[[1, 2, 3]], [], [], []]  \n",
    "Output  \n",
    "[null, [3, 1, 2], [1, 2, 3], [1, 3, 2]]  \n",
    "\n",
    "Explanation  \n",
    "Solution solution = new Solution([1, 2, 3]);  \n",
    "solution.shuffle();    // Shuffle the array [1,2,3] and return its result.  \n",
    "                       // Any permutation of [1,2,3] must be equally likely to be returned.  \n",
    "                       // Example: return [3, 1, 2]  \n",
    "solution.reset();      // Resets the array back to its original configuration [1,2,3]. Return [1, 2, 3]  \n",
    "solution.shuffle();    // Returns the random shuffling of array [1,2,3]. Example: return [1, 3, 2]  "
   ]
  },
  {
   "cell_type": "markdown",
   "metadata": {},
   "source": [
    "* 解題想法:  \n",
    "首先要先針對原始的list以及數字建立對應，這邊規劃使用一個dict來將index記下來  \n",
    "- reset(): 建立一個空的list，將原始index與數值放入list後回傳  \n",
    "- shuffle(): 建立一個空的list，並用random函數隨機找出index後放入list回傳"
   ]
  },
  {
   "cell_type": "code",
   "execution_count": null,
   "metadata": {},
   "outputs": [],
   "source": [
    "import random\n",
    "class Solution:\n",
    "\n",
    "    def __init__(self, nums: List[int]):\n",
    "        self.location = {}\n",
    "        for n in range(len(nums)):\n",
    "            self.location[n] = nums[n]\n",
    "\n",
    "    def reset(self) -> List[int]:\n",
    "        \"\"\"\n",
    "        Resets the array to its original configuration and return it.\n",
    "        \"\"\"\n",
    "        result = []\n",
    "        for key in self.location.keys():\n",
    "            result.append(self.location[key])\n",
    "        return result\n",
    "\n",
    "    def shuffle(self) -> List[int]:\n",
    "        \"\"\"\n",
    "        Returns a random shuffling of the array.\n",
    "        \"\"\"\n",
    "        result = []\n",
    "        values = list(self.location.values())\n",
    "        s = len(values)\n",
    "        while len(result) < s:\n",
    "            i = random.randint(0, len(values)-1)\n",
    "            result.append(values[i])\n",
    "            values.pop(i)\n",
    "        return result\n",
    "    \n",
    "# Your Solution object will be instantiated and called as such:\n",
    "# obj = Solution(nums)\n",
    "# param_1 = obj.reset()\n",
    "# param_2 = obj.shuffle()"
   ]
  }
 ],
 "metadata": {
  "kernelspec": {
   "display_name": "Python 3",
   "language": "python",
   "name": "python3"
  },
  "language_info": {
   "codemirror_mode": {
    "name": "ipython",
    "version": 3
   },
   "file_extension": ".py",
   "mimetype": "text/x-python",
   "name": "python",
   "nbconvert_exporter": "python",
   "pygments_lexer": "ipython3",
   "version": "3.7.4"
  }
 },
 "nbformat": 4,
 "nbformat_minor": 2
}
