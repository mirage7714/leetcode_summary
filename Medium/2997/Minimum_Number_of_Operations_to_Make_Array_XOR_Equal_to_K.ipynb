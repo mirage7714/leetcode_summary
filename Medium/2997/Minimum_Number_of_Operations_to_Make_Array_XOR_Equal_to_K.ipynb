{
 "cells": [
  {
   "cell_type": "markdown",
   "id": "bd2b27d1-7e92-4a93-ad46-da3eea7a3a2a",
   "metadata": {},
   "source": [
    "# 本題要找出最少需要幾次操作才能得到指定的數值 (\\#Array, \\#Bit Manipulation )\n",
    "原題目連結: https://leetcode.com/problems/minimum-number-of-operations-to-make-array-xor-equal-to-k/description/  \n",
    "\n",
    "You are given a 0-indexed integer array nums and a positive integer k.  \n",
    "You can apply the following operation on the array any number of times:  \n",
    "Choose any element of the array and flip a bit in its binary representation. Flipping a bit means changing a 0 to 1 or vice versa.  \n",
    "Return the minimum number of operations required to make the bitwise XOR of all elements of the final array equal to k.  \n",
    "\n",
    "Note that you can flip leading zero bits in the binary representation of elements. For example, for the number (101)2 you can flip the fourth bit and obtain (1101)2.  \n",
    "\n",
    "範例:  \n",
    "Ex1:  \n",
    "Input: nums = [2,1,3,4], k = 1  \n",
    "Output: 2  \n",
    "Explanation: We can do the following operations:  \n",
    "- Choose element 2 which is 3 == (011)2, we flip the first bit and we obtain (010)2 == 2. nums becomes [2,1,2,4].  \n",
    "- Choose element 0 which is 2 == (010)2, we flip the third bit and we obtain (110)2 = 6. nums becomes [6,1,2,4].  \n",
    "The XOR of elements of the final array is (6 XOR 1 XOR 2 XOR 4) == 1 == k.  \n",
    "It can be shown that we cannot make the XOR equal to k in less than 2 operations.  \n",
    "\n",
    "Ex2:  \n",
    "Input: nums = [2,0,2,0], k = 0  \n",
    "Output: 0  \n",
    "Explanation: The XOR of elements of the array is (2 XOR 0 XOR 2 XOR 0) == 0 == k. So no operation is needed."
   ]
  },
  {
   "cell_type": "markdown",
   "id": "41df101b-f3ef-45c6-932f-859d10152a9c",
   "metadata": {},
   "source": [
    "* 解題想法:  \n",
    "首先建立一個dict，用來存放每個位置共有多少個bit，接著從nums中開始取值並把每個值轉換成bit後放入dict中，接著跟目標值進行比較:  \n",
    "- 如果兩數不相同則將結果+1  \n",
    "- 如果該數值不在dict的key中且該bit為1，則將結果+1  \n",
    "- 如果該index超過目標的長度且該bit為1，則將結果+1  \n",
    "最後回傳結果就是答案"
   ]
  },
  {
   "cell_type": "code",
   "execution_count": null,
   "id": "6c5d244a-6ec4-4676-9499-f14a54d13d95",
   "metadata": {},
   "outputs": [],
   "source": [
    "class Solution:\n",
    "    def minOperations(self, nums: List[int], k: int) -> int:\n",
    "        res = 0\n",
    "        t = bin(k)[2:]\n",
    "        count = {}\n",
    "        for n in nums:\n",
    "            b = bin(n)[2:]\n",
    "            for i in range(len(b)):\n",
    "                if i not in count.keys():\n",
    "                    count[i] = 0\n",
    "                if b[-1-i] == '1':\n",
    "                    count[i] += 1\n",
    "\n",
    "        for i in range(max(len(t), len(count.keys()))):\n",
    "            if i in count.keys() and i < len(t):\n",
    "                if int(t[-1 -i]) != count[i] % 2:\n",
    "                    res += 1\n",
    "            elif i in count.keys() and count[i] % 2 != 0:\n",
    "                res += 1\n",
    "            elif i < len(t) and t[-1-i] != '0':\n",
    "                res += 1\n",
    "        return res"
   ]
  }
 ],
 "metadata": {
  "kernelspec": {
   "display_name": "Python 3 (ipykernel)",
   "language": "python",
   "name": "python3"
  },
  "language_info": {
   "codemirror_mode": {
    "name": "ipython",
    "version": 3
   },
   "file_extension": ".py",
   "mimetype": "text/x-python",
   "name": "python",
   "nbconvert_exporter": "python",
   "pygments_lexer": "ipython3",
   "version": "3.9.13"
  }
 },
 "nbformat": 4,
 "nbformat_minor": 5
}
