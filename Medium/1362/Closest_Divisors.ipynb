{
 "cells": [
  {
   "cell_type": "markdown",
   "id": "5528f907-8a9d-4f6d-9de9-3fb294b26c5a",
   "metadata": {},
   "source": [
    "# 本題要找出因數最小的差距為何 (\\#Math)\n",
    "原題目連結: https://leetcode.com/problems/closest-divisors/description/   \n",
    "\n",
    "Given an integer num, find the closest two integers in absolute difference whose product equals num + 1 or num + 2.  \n",
    "Return the two integers in any order.  \n",
    "\n",
    "範例:  \n",
    "Ex1:  \n",
    "Input: num = 8  \n",
    "Output: [3,3]  \n",
    "Explanation: For num + 1 = 9, the closest divisors are 3 & 3, for num + 2 = 10, the closest divisors are 2 & 5, hence 3 & 3 is chosen.  \n",
    "\n",
    "Ex2:  \n",
    "Input: num = 123  \n",
    "Output: [5,25]  \n",
    "\n",
    "Ex3:  \n",
    "Input: num = 999  \n",
    "Output: [40,25]  "
   ]
  },
  {
   "cell_type": "markdown",
   "id": "92852cfd-9bf8-4280-9cb8-6a6cde3ed0e2",
   "metadata": {},
   "source": [
    "* 解題想法:  \n",
    "首先建立一個函數用來找出最靠近平方根的因數為何，接著找出兩個因數的差值，最後回傳差值最小的兩個因數就是答案"
   ]
  },
  {
   "cell_type": "code",
   "execution_count": null,
   "id": "323b9cab-b0f0-4623-9d69-244cc2f9ca6e",
   "metadata": {},
   "outputs": [],
   "source": [
    "class Solution:\n",
    "    def closestDivisors(self, num: int) -> List[int]:\n",
    "        def getDivisor(num):\n",
    "            res = 1\n",
    "            if num % 2 == 0:\n",
    "                res = 2\n",
    "            for m in range(3, int(sqrt(num))+1):\n",
    "                if num % m == 0:\n",
    "                    res = m\n",
    "            return res\n",
    "        r1 = getDivisor(num+1)\n",
    "        r2 = getDivisor(num+2)\n",
    "        d1 = (num+1) / r1 - r1\n",
    "        d2 = (num+2) / r2- r2\n",
    "        if d1 > d2:\n",
    "            return [r2, (num+2) // r2]\n",
    "        else:\n",
    "            return [r1, (num+1) // r1]"
   ]
  }
 ],
 "metadata": {
  "kernelspec": {
   "display_name": "Python 3 (ipykernel)",
   "language": "python",
   "name": "python3"
  },
  "language_info": {
   "codemirror_mode": {
    "name": "ipython",
    "version": 3
   },
   "file_extension": ".py",
   "mimetype": "text/x-python",
   "name": "python",
   "nbconvert_exporter": "python",
   "pygments_lexer": "ipython3",
   "version": "3.9.13"
  }
 },
 "nbformat": 4,
 "nbformat_minor": 5
}
