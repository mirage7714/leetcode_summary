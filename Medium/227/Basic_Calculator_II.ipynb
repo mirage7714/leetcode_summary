{
 "cells": [
  {
   "cell_type": "markdown",
   "metadata": {},
   "source": [
    "# 本題要將文字的數學式進行計算，並回傳最後的答案 (\\#String, \\#Math)\n",
    "原題目連結: https://leetcode.com/problems/basic-calculator-ii/  \n",
    "\n",
    "Given a string s which represents an expression, evaluate this expression and return its value.   \n",
    "The integer division should truncate toward zero.  \n",
    "You may assume that the given expression is always valid. All intermediate results will be in the range of [-231, 231 - 1].  \n",
    "\n",
    "Note: You are not allowed to use any built-in function which evaluates strings as mathematical expressions, such as eval().  \n",
    "\n",
    "範例:  \n",
    "Ex1:  \n",
    "Input: s = \"3+2\\*2\"  \n",
    "Output: 7  \n",
    "\n",
    "Ex2:  \n",
    "Input: s = \" 3/2 \"  \n",
    "Output: 1  \\\n",
    "\n",
    "Ex3:  \n",
    "Input: s = \" 3+5 / 2 \"  \n",
    "Output: 5"
   ]
  },
  {
   "cell_type": "markdown",
   "metadata": {},
   "source": [
    "* 解題想法:  \n",
    "首先建立一個list，用來作為數字與操作的暫存，接著開始檢查出現的是數字或是運算符號，如果是乘除的話，則在得到下一個數字時，將暫存的最後兩個值取出，計算完後再放回暫存中，等這輪結束之後，暫存中就只剩下加減與數字，最後將結果算出就是答案"
   ]
  },
  {
   "cell_type": "code",
   "execution_count": null,
   "metadata": {},
   "outputs": [],
   "source": [
    "class Solution:\n",
    "    def calculate(self, s: str) -> int:\n",
    "        def MultiOrDivid(temp, d):\n",
    "            o = temp.pop()\n",
    "            n = temp.pop()\n",
    "            if o == '*':\n",
    "                return int(n) * int(d)\n",
    "            else:\n",
    "                return int(n) // int(d)\n",
    "        \n",
    "        ops = ['+', '-','*','/']\n",
    "        result = 0\n",
    "        temp = []\n",
    "        prior = False\n",
    "        d = ''\n",
    "        for m in s:\n",
    "            if m.isnumeric():\n",
    "                if d:\n",
    "                    d += m\n",
    "                else:\n",
    "                    d = m\n",
    "            elif m in ops:\n",
    "                if prior:\n",
    "                    d = str(MultiOrDivid(temp, d))\n",
    "                    prior = False\n",
    "                if m == '*' or m == '/':\n",
    "                    prior = True\n",
    "                temp.append(d)\n",
    "                temp.append(m)\n",
    "                d = ''\n",
    "        if prior:\n",
    "            d = str(MultiOrDivid(temp, d))   \n",
    "        temp.append(d)\n",
    "        result = int(temp[0])\n",
    "        if len(temp) > 1:\n",
    "            for m in range(1, len(temp), 2):\n",
    "                o = temp[m]\n",
    "                n = int(temp[m+1])\n",
    "                if o == '+':\n",
    "                    result += n\n",
    "                else:\n",
    "                    result -= n\n",
    "        return result"
   ]
  }
 ],
 "metadata": {
  "kernelspec": {
   "display_name": "Python 3",
   "language": "python",
   "name": "python3"
  },
  "language_info": {
   "codemirror_mode": {
    "name": "ipython",
    "version": 3
   },
   "file_extension": ".py",
   "mimetype": "text/x-python",
   "name": "python",
   "nbconvert_exporter": "python",
   "pygments_lexer": "ipython3",
   "version": "3.7.4"
  }
 },
 "nbformat": 4,
 "nbformat_minor": 4
}
