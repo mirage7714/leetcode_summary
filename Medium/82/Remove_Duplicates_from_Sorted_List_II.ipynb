{
 "cells": [
  {
   "cell_type": "markdown",
   "metadata": {},
   "source": [
    "# 本題要將ListNode中有重複的點位移除\n",
    "原題目連結: https://leetcode.com/problems/remove-duplicates-from-sorted-list-ii/  \n",
    "\n",
    "Given the head of a sorted linked list, delete all nodes that have duplicate numbers, leaving only distinct numbers from the original list. Return the linked list sorted as well.  \n",
    "\n",
    "範例:  \n",
    "Ex1:  \n",
    "Input: head = [1,2,3,3,4,4,5]  \n",
    "Output: [1,2,5]  \n",
    "\n",
    "Ex2:  \n",
    "Input: head = [1,1,1,2,3]  \n",
    "Output: [2,3]"
   ]
  },
  {
   "cell_type": "markdown",
   "metadata": {},
   "source": [
    "* 解題想法:  \n",
    "首先將ListNode中所有的點位用迴圈找出，並檢查是否有重複的情況，接著將不重複的數值重新建立新的ListNode並回傳"
   ]
  },
  {
   "cell_type": "code",
   "execution_count": null,
   "metadata": {},
   "outputs": [],
   "source": [
    "# Definition for singly-linked list.\n",
    "# class ListNode:\n",
    "#     def __init__(self, val=0, next=None):\n",
    "#         self.val = val\n",
    "#         self.next = next\n",
    "class Solution:\n",
    "    def deleteDuplicates(self, head: Optional[ListNode]) -> Optional[ListNode]:\n",
    "        values = []\n",
    "        result = []\n",
    "        removed = []\n",
    "        if head == None:\n",
    "            return None\n",
    "        else:\n",
    "            while head.next != None:\n",
    "                val = head.val\n",
    "                if len(values) > 0:\n",
    "                    if values[-1] != val:\n",
    "                        if val not in removed:\n",
    "                            values.append(val)\n",
    "                    else:\n",
    "                        values.pop(-1)\n",
    "                        removed.append(val)\n",
    "                else:\n",
    "                    if val not in removed:\n",
    "                        values.append(val)\n",
    "                head = head.next\n",
    "            if head.val not in removed:\n",
    "                if head.val not in values:\n",
    "                    values.append(head.val)\n",
    "                else:\n",
    "                    values.pop(-1)\n",
    "            if len(values) > 0: \n",
    "                for m in range(len(values)-1, -1, -1):\n",
    "                    tempNode = ListNode()\n",
    "                    tempNode.val = values[m]\n",
    "                    if len(result) > 0:\n",
    "                        tempNode.next = result[-1]\n",
    "                    result.append(tempNode)\n",
    "                return result[-1]\n",
    "            else:\n",
    "                return None"
   ]
  }
 ],
 "metadata": {
  "kernelspec": {
   "display_name": "Python 3",
   "language": "python",
   "name": "python3"
  },
  "language_info": {
   "codemirror_mode": {
    "name": "ipython",
    "version": 3
   },
   "file_extension": ".py",
   "mimetype": "text/x-python",
   "name": "python",
   "nbconvert_exporter": "python",
   "pygments_lexer": "ipython3",
   "version": "3.7.4"
  }
 },
 "nbformat": 4,
 "nbformat_minor": 4
}
