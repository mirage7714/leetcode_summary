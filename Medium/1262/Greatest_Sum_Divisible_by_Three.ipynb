{
 "cells": [
  {
   "cell_type": "markdown",
   "metadata": {},
   "source": [
    "# 本題要找出list中總和最大為三的倍數是多少\n",
    "原題目連結: https://leetcode.com/problems/greatest-sum-divisible-by-three/  \n",
    "\n",
    "Given an integer array nums, return the maximum possible sum of elements of the array such that it is divisible by three.  \n",
    "\n",
    "範例:  \n",
    "Ex1:  \n",
    "Input: nums = [3,6,5,1,8]  \n",
    "Output: 18  \n",
    "Explanation: Pick numbers 3, 6, 1 and 8 their sum is 18 (maximum sum divisible by 3).  \n",
    "\n",
    "Ex2:  \n",
    "Input: nums = [4]  \n",
    "Output: 0  \n",
    "Explanation: Since 4 is not divisible by 3, do not pick any number.  \n",
    "\n",
    "Ex3:  \n",
    "Input: nums = [1,2,3,4,4]  \n",
    "Output: 12  \n",
    "Explanation: Pick numbers 1, 3, 4 and 4 their sum is 12 (maximum sum divisible by 3)."
   ]
  },
  {
   "cell_type": "markdown",
   "metadata": {},
   "source": [
    "* 解題想法:  \n",
    "首先找出list中所有數值與3的餘數為多少，並用餘數做為key放入dict中，接著找出list中的所有數值總和與3的餘數為何:  \n",
    "- 如果餘數為1，有可能是餘數為1的1個數字，或是兩個餘數為2的數字，找出哪個組合的數值比較小，並從總和中扣除  \n",
    "- 如果餘數為2，則有可能是兩個餘數為1的數字，或是一個餘數為2的數字，找出兩個組合的最小值並從總和中扣除  \n",
    "最後回傳扣除之後的總和就是答案"
   ]
  },
  {
   "cell_type": "code",
   "execution_count": null,
   "metadata": {},
   "outputs": [],
   "source": [
    "class Solution:\n",
    "    def maxSumDivThree(self, nums: List[int]) -> int:\n",
    "        freq = {}\n",
    "        total = 0\n",
    "        for n in nums:\n",
    "            k = n % 3\n",
    "            if k not in freq.keys():\n",
    "                freq[k] = [n]\n",
    "            else:\n",
    "                freq[k].append(n)\n",
    "            total += n\n",
    "        left = total % 3\n",
    "        if left != 0:\n",
    "            o1 = 0\n",
    "            o2 = 0\n",
    "            ones = []\n",
    "            twos = []\n",
    "            if 1 in freq.keys():\n",
    "                ones = freq[1]\n",
    "                if len(ones) > 1:\n",
    "                    ones.sort()\n",
    "            if 2 in freq.keys():\n",
    "                twos = freq[2]\n",
    "                if len(twos) > 1:\n",
    "                    twos.sort()\n",
    "            if left == 1:\n",
    "                if ones:\n",
    "                    o1 = ones[0]\n",
    "                if len(twos) > 1:\n",
    "                    o2 = twos[0] + twos[1]\n",
    "            elif left == 2:\n",
    "                if len(ones) > 1:\n",
    "                    o1 = ones[0] + ones[1]\n",
    "                if twos:\n",
    "                    o2 = twos[0]\n",
    "            if o1 != 0 and o2 != 0:\n",
    "                total -= min(o1, o2)\n",
    "            elif o1 != 0:\n",
    "                total -= o1\n",
    "            elif o2 != 0:\n",
    "                total -= o2\n",
    "        return total"
   ]
  }
 ],
 "metadata": {
  "kernelspec": {
   "display_name": "Python 3",
   "language": "python",
   "name": "python3"
  },
  "language_info": {
   "codemirror_mode": {
    "name": "ipython",
    "version": 3
   },
   "file_extension": ".py",
   "mimetype": "text/x-python",
   "name": "python",
   "nbconvert_exporter": "python",
   "pygments_lexer": "ipython3",
   "version": "3.7.4"
  }
 },
 "nbformat": 4,
 "nbformat_minor": 4
}
