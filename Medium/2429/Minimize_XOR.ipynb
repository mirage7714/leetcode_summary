{
 "cells": [
  {
   "cell_type": "markdown",
   "metadata": {},
   "source": [
    "# 本題要找出一個數，讓兩數的XOR是最小值 (\\#Bit Manipulation)\n",
    "原題目連結: https://leetcode.com/problems/minimize-xor/  \n",
    "\n",
    "Given two positive integers num1 and num2, find the integer x such that:  \n",
    "\n",
    "x has the same number of set bits as num2, and  \n",
    "The value x XOR num1 is minimal.  \n",
    "Note that XOR is the bitwise XOR operation.  \n",
    "Return the integer x. The test cases are generated such that x is uniquely determined.  \n",
    "The number of set bits of an integer is the number of 1's in its binary representation.   \n",
    "\n",
    "範例:  \n",
    "Ex1:  \n",
    "Input: num1 = 3, num2 = 5  \n",
    "Output: 3  \n",
    "Explanation:  \n",
    "The binary representations of num1 and num2 are 0011 and 0101, respectively.  \n",
    "The integer 3 has the same number of set bits as num2, and the value 3 XOR 3 = 0 is minimal.  \n",
    "\n",
    "Ex2:  \n",
    "Input: num1 = 1, num2 = 12  \n",
    "Output: 3  \n",
    "Explanation:  \n",
    "The binary representations of num1 and num2 are 0001 and 1100, respectively.  \n",
    "The integer 3 has the same number of set bits as num2, and the value 3 XOR 1 = 2 is minimal."
   ]
  },
  {
   "cell_type": "markdown",
   "metadata": {},
   "source": [
    "* 解題想法:  \n",
    "首先將num1與num2轉成string，接著分別統計各有幾個bit，如果相等的話則答案就是num1，如果num1的bit比num2多的話，則需要保留前面的bit，將後面的bit改為0，如果是num2比較多的話，則需要從後面開始將bit填入，最後將轉換的num3回傳就是答案"
   ]
  },
  {
   "cell_type": "code",
   "execution_count": null,
   "metadata": {},
   "outputs": [],
   "source": [
    "class Solution:\n",
    "    def minimizeXor(self, num1: int, num2: int) -> int:\n",
    "        b1 = bin(num1)[2:]\n",
    "        b2 = bin(num2)[2:]\n",
    "        b3 = [i for i in b1]\n",
    "        count1 = 0\n",
    "        count2 = 0\n",
    "        for b in b1:\n",
    "            if b == '1':\n",
    "                count1 += 1\n",
    "        for b in b2:\n",
    "            if b == '1':\n",
    "                count2 += 1\n",
    "        diff = count2 - count1\n",
    "        if diff == 0:\n",
    "            return num1\n",
    "        elif diff > 0: \n",
    "            for m in range(len(b3)-1, -1, -1):\n",
    "                if diff > 0 and b3[m] == '0':\n",
    "                    b3[m] = '1'\n",
    "                    diff -= 1\n",
    "        else:\n",
    "            for m in range(len(b3)-1, -1, -1):\n",
    "                if diff < 0 and b3[m] == '1':\n",
    "                    b3[m] = '0'\n",
    "                    diff += 1\n",
    "        while diff > 0:\n",
    "            b3.append('1')\n",
    "            diff -= 1\n",
    "        num3 = int(''.join(b3), 2)\n",
    "        return num3"
   ]
  }
 ],
 "metadata": {
  "kernelspec": {
   "display_name": "Python 3",
   "language": "python",
   "name": "python3"
  },
  "language_info": {
   "codemirror_mode": {
    "name": "ipython",
    "version": 3
   },
   "file_extension": ".py",
   "mimetype": "text/x-python",
   "name": "python",
   "nbconvert_exporter": "python",
   "pygments_lexer": "ipython3",
   "version": "3.7.4"
  }
 },
 "nbformat": 4,
 "nbformat_minor": 4
}
