{
 "cells": [
  {
   "cell_type": "markdown",
   "metadata": {},
   "source": [
    "# 本題要找出最長的連續數字為多少\n",
    "原題目連結: https://leetcode.com/problems/longest-consecutive-sequence/  \n",
    "\n",
    "Given an unsorted array of integers nums, return the length of the longest consecutive elements sequence.  \n",
    "You must write an algorithm that runs in O(n) time.  \n",
    "\n",
    "範例:  \n",
    "Ex1:  \n",
    "Input: nums = [100,4,200,1,3,2]  \n",
    "Output: 4  \n",
    "Explanation: The longest consecutive elements sequence is [1, 2, 3, 4]. Therefore its length is 4.  \n",
    "\n",
    "Ex2:  \n",
    "Input: nums = [0,3,7,2,5,8,4,6,0,1]  \n",
    "Output: 9"
   ]
  },
  {
   "cell_type": "markdown",
   "metadata": {},
   "source": [
    "* 解題想法:  \n",
    "由於題目要求時間複雜度為O(n)，因此這邊用了heap的解法，先將list轉換為heap之後，再從頭開始取出並檢查是否與前一個數值相差為1，如果是的話則更新尾數，否則如果與尾數不相同且差值大於1的情況，則將暫存的長度與目前最大值進行比較，最後回傳最大值為何"
   ]
  },
  {
   "cell_type": "code",
   "execution_count": null,
   "metadata": {},
   "outputs": [],
   "source": [
    "import heapq\n",
    "\n",
    "class Solution:\n",
    "    def longestConsecutive(self, nums: List[int]) -> int:\n",
    "        heapq.heapify(nums)\n",
    "        count = 0\n",
    "        temp = []\n",
    "        for _ in range(len(nums)):\n",
    "            n = heapq.heappop(nums)\n",
    "            if len(temp) == 0:\n",
    "                temp.append(n)\n",
    "            else:\n",
    "                if temp[-1] == n -1:\n",
    "                    temp.append(n)\n",
    "                else:\n",
    "                    if temp[-1] != n:\n",
    "                        if count < len(temp):\n",
    "                            count = len(temp)\n",
    "                        temp.clear()\n",
    "                        temp.append(n)\n",
    "        \n",
    "        count = max(len(temp), count)\n",
    "        return count"
   ]
  }
 ],
 "metadata": {
  "kernelspec": {
   "display_name": "Python 3",
   "language": "python",
   "name": "python3"
  },
  "language_info": {
   "codemirror_mode": {
    "name": "ipython",
    "version": 3
   },
   "file_extension": ".py",
   "mimetype": "text/x-python",
   "name": "python",
   "nbconvert_exporter": "python",
   "pygments_lexer": "ipython3",
   "version": "3.7.4"
  }
 },
 "nbformat": 4,
 "nbformat_minor": 4
}
