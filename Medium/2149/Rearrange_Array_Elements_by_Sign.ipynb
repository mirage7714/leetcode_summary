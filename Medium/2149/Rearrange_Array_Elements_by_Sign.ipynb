{
 "cells": [
  {
   "cell_type": "markdown",
   "metadata": {},
   "source": [
    "# 本題要將list中正負數重新進行排序\n",
    "原題目連結: https://leetcode.com/problems/rearrange-array-elements-by-sign/  \n",
    "\n",
    "You are given a 0-indexed integer array nums of even length consisting of an equal number of positive and negative integers.  \n",
    "\n",
    "You should rearrange the elements of nums such that the modified array follows the given conditions:  \n",
    "\n",
    "Every consecutive pair of integers have opposite signs.  \n",
    "For all integers with the same sign, the order in which they were present in nums is preserved.  \n",
    "The rearranged array begins with a positive integer.  \n",
    "Return the modified array after rearranging the elements to satisfy the aforementioned conditions.  \n",
    "\n",
    "範例:  \n",
    "Ex1:  \n",
    "Input: nums = [3,1,-2,-5,2,-4]  \n",
    "Output: [3,-2,1,-5,2,-4]  \n",
    "Explanation:  \n",
    "The positive integers in nums are [3,1,2]. The negative integers are [-2,-5,-4].  \n",
    "The only possible way to rearrange them such that they satisfy all conditions is [3,-2,1,-5,2,-4].  \n",
    "Other ways such as [1,-2,2,-5,3,-4], [3,1,2,-2,-5,-4], [-2,3,-5,1,-4,2] are incorrect because they do not satisfy one or more conditions.   \n",
    "\n",
    "Ex2:  \n",
    "Input: nums = [-1,1]  \n",
    "Output: [1,-1]  \n",
    "Explanation:  \n",
    "1 is the only positive integer and -1 the only negative integer in nums.  \n",
    "So nums is rearranged to [1,-1]."
   ]
  },
  {
   "cell_type": "markdown",
   "metadata": {},
   "source": [
    "* 解題想法:  \n",
    "首先將正負數重新建立成兩個list，接著用index來將正負數重新放入新的list中，最後回傳新的list就是答案"
   ]
  },
  {
   "cell_type": "code",
   "execution_count": null,
   "metadata": {},
   "outputs": [],
   "source": [
    "class Solution:\n",
    "    def rearrangeArray(self, nums: List[int]) -> List[int]:\n",
    "        pos = []\n",
    "        neg = []\n",
    "        result = []\n",
    "        for n in nums:\n",
    "            if n > 0:\n",
    "                pos.append(n)\n",
    "            else:\n",
    "                neg.append(n)\n",
    "        for n in range(len(pos)):\n",
    "            result.append(pos[n])\n",
    "            result.append(neg[n])\n",
    "        return result"
   ]
  }
 ],
 "metadata": {
  "kernelspec": {
   "display_name": "Python 3",
   "language": "python",
   "name": "python3"
  },
  "language_info": {
   "codemirror_mode": {
    "name": "ipython",
    "version": 3
   },
   "file_extension": ".py",
   "mimetype": "text/x-python",
   "name": "python",
   "nbconvert_exporter": "python",
   "pygments_lexer": "ipython3",
   "version": "3.7.4"
  }
 },
 "nbformat": 4,
 "nbformat_minor": 4
}
