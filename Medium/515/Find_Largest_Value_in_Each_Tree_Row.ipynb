{
 "cells": [
  {
   "cell_type": "markdown",
   "metadata": {},
   "source": [
    "# 本題要找出每一層中最大的值為多少\n",
    "原題目連結: https://leetcode.com/problems/find-largest-value-in-each-tree-row/  \n",
    "\n",
    "Given the root of a binary tree, return an array of the largest value in each row of the tree (0-indexed).  \n",
    "\n",
    "範例:  \n",
    "Ex1:  \n",
    "Input: root = [1,3,2,5,3,null,9]  \n",
    "Output: [1,3,9]  \n",
    "\n",
    "Ex2:  \n",
    "Input: root = [1,2,3]  \n",
    "Output: [1,3]"
   ]
  },
  {
   "cell_type": "markdown",
   "metadata": {},
   "source": [
    "* 解題想法:  \n",
    "為了找出每一層的最大值，需要使用BST的方式來進行走訪，將每一層的數值找出後放入一個list，接著找出list的最大值並放入結果的list，最後將結果的list回傳"
   ]
  },
  {
   "cell_type": "code",
   "execution_count": null,
   "metadata": {},
   "outputs": [],
   "source": [
    "# Definition for a binary tree node.\n",
    "# class TreeNode:\n",
    "#     def __init__(self, val=0, left=None, right=None):\n",
    "#         self.val = val\n",
    "#         self.left = left\n",
    "#         self.right = right\n",
    "class Solution:\n",
    "    def largestValues(self, root: Optional[TreeNode]) -> List[int]:\n",
    "        result = []\n",
    "        if root:\n",
    "            stack = [root]\n",
    "            while stack:\n",
    "                node = []\n",
    "                val = []\n",
    "                for s in stack:\n",
    "                    val.append(s.val)\n",
    "                    if s.left:\n",
    "                        node.append(s.left)\n",
    "                    if s.right:\n",
    "                        node.append(s.right)\n",
    "                stack.clear()\n",
    "                stack += node\n",
    "                result.append(max(val))\n",
    "        return result"
   ]
  }
 ],
 "metadata": {
  "kernelspec": {
   "display_name": "Python 3",
   "language": "python",
   "name": "python3"
  },
  "language_info": {
   "codemirror_mode": {
    "name": "ipython",
    "version": 3
   },
   "file_extension": ".py",
   "mimetype": "text/x-python",
   "name": "python",
   "nbconvert_exporter": "python",
   "pygments_lexer": "ipython3",
   "version": "3.7.4"
  }
 },
 "nbformat": 4,
 "nbformat_minor": 4
}
