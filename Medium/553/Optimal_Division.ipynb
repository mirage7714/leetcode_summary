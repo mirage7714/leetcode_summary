{
 "cells": [
  {
   "cell_type": "markdown",
   "id": "3c4e847d-f870-4ba6-ba5e-7818a13c1355",
   "metadata": {},
   "source": [
    "# 本題要找出除法的最大結果為何 (\\#Math, \\#Array)\n",
    "原題目連結: https://leetcode.com/problems/optimal-division/description/  \n",
    "\n",
    "You are given an integer array nums. The adjacent integers in nums will perform the float division.  \n",
    "\n",
    "For example, for nums = [2,3,4], we will evaluate the expression \"2/3/4\".  \n",
    "However, you can add any number of parenthesis at any position to change the priority of operations. You want to add these parentheses such the value of the expression after the evaluation is maximum.  \n",
    "\n",
    "Return the corresponding expression that has the maximum value in string format.  \n",
    "\n",
    "Note: your expression should not contain redundant parenthesis.  \n",
    "\n",
    "範例:  \n",
    "Ex1:  \n",
    "Input: nums = [1000,100,10,2]  \n",
    "Output: \"1000/(100/10/2)\"  \n",
    "Explanation: 1000/(100/10/2) = 1000/((100/10)/2) = 200  \n",
    "However, the bold parenthesis in \"1000/((100/10)/2)\" are redundant since they do not influence the operation priority.  \n",
    "So you should return \"1000/(100/10/2)\".  \n",
    "Other cases:  \n",
    "1000/(100/10)/2 = 50  \n",
    "1000/(100/(10/2)) = 50  \n",
    "1000/100/10/2 = 0.5  \n",
    "1000/100/(10/2) = 2  \n",
    "\n",
    "Ex2:  \n",
    "Input: nums = [2,3,4]  \n",
    "Output: \"2/(3/4)\"  \n",
    "Explanation: (2/(3/4)) = 8/3 = 2.667  \n",
    "It can be shown that after trying all possibilities, we cannot get an expression with evaluation greater than 2.667"
   ]
  },
  {
   "cell_type": "markdown",
   "id": "73e84551-48fa-4848-acc5-84ae6eb32c1f",
   "metadata": {},
   "source": [
    "* 解題想法:  \n",
    "首先判斷list的長度為多少，如果為1的情況，則不須加上任何的符號，如果為2的情況，則直接進行除法也不需要加上括號，如果超過2的時候，則將除數的所有數字用括號包起來，最後組成字串進行回傳"
   ]
  },
  {
   "cell_type": "code",
   "execution_count": null,
   "id": "f0a13020-0e5e-462c-a699-7068be00d6d0",
   "metadata": {},
   "outputs": [],
   "source": [
    "class Solution:\n",
    "    def optimalDivision(self, nums: List[int]) -> str:\n",
    "        res = '{}'.format(nums[0])\n",
    "        t = ''\n",
    "        if len(nums) > 2:\n",
    "            for m in range(1, len(nums)):\n",
    "                t += '{}/'.format(nums[m])\n",
    "            res = '{}/({})'.format(res, t[:-1])\n",
    "        elif len(nums) == 2:\n",
    "            t = '{}'.format(nums[1])\n",
    "            res = '{}/{}'.format(res, t)\n",
    "        return res"
   ]
  }
 ],
 "metadata": {
  "kernelspec": {
   "display_name": "Python 3 (ipykernel)",
   "language": "python",
   "name": "python3"
  },
  "language_info": {
   "codemirror_mode": {
    "name": "ipython",
    "version": 3
   },
   "file_extension": ".py",
   "mimetype": "text/x-python",
   "name": "python",
   "nbconvert_exporter": "python",
   "pygments_lexer": "ipython3",
   "version": "3.9.13"
  }
 },
 "nbformat": 4,
 "nbformat_minor": 5
}
