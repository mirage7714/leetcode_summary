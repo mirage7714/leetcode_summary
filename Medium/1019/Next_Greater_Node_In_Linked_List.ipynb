{
 "cells": [
  {
   "cell_type": "markdown",
   "metadata": {},
   "source": [
    "# 本題要找出在linked list中最近且大於節點的數值為何 (\\#LinkedList, \\#Array, \\#MonotonicStack, \\#Stack )\n",
    "原題目連結: https://leetcode.com/problems/next-greater-node-in-linked-list/  \n",
    "\n",
    "You are given the head of a linked list with n nodes.  \n",
    "For each node in the list, find the value of the next greater node. That is, for each node, find the value of the first node that is next to it and has a strictly larger value than it.  \n",
    "Return an integer array answer where answer[i] is the value of the next greater node of the ith node (1-indexed). If the ith node does not have a next greater node, set answer[i] = 0.  \n",
    "\n",
    "範例:  \n",
    "Ex1:  \n",
    "Input: head = [2,1,5]  \n",
    "Output: [5,5,0]  \n",
    "\n",
    "Ex2:  \n",
    "Input: head = [2,7,4,3,5]  \n",
    "Output: [7,0,5,5,0]  "
   ]
  },
  {
   "cell_type": "markdown",
   "metadata": {},
   "source": [
    "* 解題想法:  \n",
    "與No.739題類似，都是要找出下一個最大值為何，這題也是使用monotinoic stack來進行解題:  \n",
    "首先建立兩個list:result與temp分別用來存放結果與暫存，接著將node的值與index放入temp中，等temp中有數值且temp[-1]的數值小於目前節點的數值時，則從temp中開始檢查那些數值小於目前數值，並將result[index]改為目前的數值，最後回傳result就是答案"
   ]
  },
  {
   "cell_type": "code",
   "execution_count": null,
   "metadata": {},
   "outputs": [],
   "source": [
    "# Definition for singly-linked list.\n",
    "# class ListNode:\n",
    "#     def __init__(self, val=0, next=None):\n",
    "#         self.val = val\n",
    "#         self.next = next\n",
    "class Solution:\n",
    "    def nextLargerNodes(self, head: Optional[ListNode]) -> List[int]:\n",
    "        result = []\n",
    "        temp = []\n",
    "        index = 0\n",
    "        while head:\n",
    "            n = head.val\n",
    "            result.append(0)\n",
    "            while temp and temp[-1][1] < n:\n",
    "                i, j = temp.pop()\n",
    "                result[i] = n\n",
    "            temp.append([index, n])\n",
    "            index += 1\n",
    "            head = head.next\n",
    "        return result"
   ]
  }
 ],
 "metadata": {
  "kernelspec": {
   "display_name": "Python 3",
   "language": "python",
   "name": "python3"
  },
  "language_info": {
   "codemirror_mode": {
    "name": "ipython",
    "version": 3
   },
   "file_extension": ".py",
   "mimetype": "text/x-python",
   "name": "python",
   "nbconvert_exporter": "python",
   "pygments_lexer": "ipython3",
   "version": "3.7.4"
  }
 },
 "nbformat": 4,
 "nbformat_minor": 4
}
