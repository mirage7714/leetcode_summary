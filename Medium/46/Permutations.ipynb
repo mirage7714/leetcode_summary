{
 "cells": [
  {
   "cell_type": "markdown",
   "metadata": {},
   "source": [
    "# 本題要找出所有可能的排列組合\n",
    "原題目連結: https://leetcode.com/problems/permutations/  \n",
    "\n",
    "Given an array nums of distinct integers, return all the possible permutations. You can return the answer in any order.  \n",
    "\n",
    "範例:  \n",
    "Ex1:  \n",
    "Input: nums = [1,2,3]  \n",
    "Output: [[1,2,3],[1,3,2],[2,1,3],[2,3,1],[3,1,2],[3,2,1]]  \n",
    "\n",
    "Ex2:  \n",
    "Input: nums = [0,1]  \n",
    "Output: [[0,1],[1,0]]  \n",
    "\n",
    "Ex3:  \n",
    "Input: nums = [1]  \n",
    "Output: [[1]] "
   ]
  },
  {
   "cell_type": "markdown",
   "metadata": {},
   "source": [
    "* 解題想法:  \n",
    "這題是經典的窮舉範例，要找出所有可能的排列組合，這邊參考了遞迴的做法，首先建立一個path，接著開始檢查走過的路徑長度，如果路徑長度跟指定的長度相同，則將路徑加入結果中，否則就是繼續檢查可能的路徑組合，\n"
   ]
  },
  {
   "cell_type": "code",
   "execution_count": null,
   "metadata": {},
   "outputs": [],
   "source": [
    "class Solution:\n",
    "    def permute(self, nums: List[int]) -> List[List[int]]:\n",
    "        result = []\n",
    "        visited = [0] * len(nums)\n",
    "        \n",
    "        def dfs(path):\n",
    "            if len(path) == len(nums):\n",
    "                result.append(path)\n",
    "            else:\n",
    "                for i in range(len(nums)):\n",
    "                    if not visited[i]:\n",
    "                        visited[i] = 1\n",
    "                        dfs(path + [nums[i]])\n",
    "                        visited[i] = 0\n",
    "        if len(nums) == 1:\n",
    "            result.append(nums)\n",
    "            return result\n",
    "        else:\n",
    "            dfs([])\n",
    "            return result"
   ]
  }
 ],
 "metadata": {
  "kernelspec": {
   "display_name": "Python 3",
   "language": "python",
   "name": "python3"
  },
  "language_info": {
   "codemirror_mode": {
    "name": "ipython",
    "version": 3
   },
   "file_extension": ".py",
   "mimetype": "text/x-python",
   "name": "python",
   "nbconvert_exporter": "python",
   "pygments_lexer": "ipython3",
   "version": "3.7.6"
  }
 },
 "nbformat": 4,
 "nbformat_minor": 4
}
