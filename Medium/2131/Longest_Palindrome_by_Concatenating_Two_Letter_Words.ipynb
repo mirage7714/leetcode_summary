{
 "cells": [
  {
   "cell_type": "markdown",
   "metadata": {},
   "source": [
    "# 本題要檢查最長的回文字串長度為多少\n",
    "原題目連結: https://leetcode.com/problems/longest-palindrome-by-concatenating-two-letter-words/  \n",
    "\n",
    "You are given an array of strings words. Each element of words consists of two lowercase English letters.  \n",
    "Create the longest possible palindrome by selecting some elements from words and concatenating them in any order. Each element can be selected at most once.  \n",
    "Return the length of the longest palindrome that you can create. If it is impossible to create any palindrome, return 0.  \n",
    "A palindrome is a string that reads the same forward and backward.  \n",
    "\n",
    "範例:  \n",
    "Ex1:  \n",
    "Input: words = [\"lc\",\"cl\",\"gg\"]  \n",
    "Output: 6  \n",
    "Explanation: One longest palindrome is \"lc\" + \"gg\" + \"cl\" = \"lcggcl\", of length 6.  \n",
    "Note that \"clgglc\" is another longest palindrome that can be created.  \n",
    "\n",
    "Ex2:  \n",
    "Input: words = [\"ab\",\"ty\",\"yt\",\"lc\",\"cl\",\"ab\"]  \n",
    "Output: 8  \n",
    "Explanation: One longest palindrome is \"ty\" + \"lc\" + \"cl\" + \"yt\" = \"tylcclyt\", of length 8.  \n",
    "Note that \"lcyttycl\" is another longest palindrome that can be created.  \n",
    "\n",
    "Ex3:  \n",
    "Input: words = [\"cc\",\"ll\",\"xx\"]  \n",
    "Output: 2  \n",
    "Explanation: One longest palindrome is \"cc\", of length 2.  \n",
    "Note that \"ll\" is another longest palindrome that can be created, and so is \"xx\"."
   ]
  },
  {
   "cell_type": "markdown",
   "metadata": {},
   "source": [
    "* 解題想法:  \n",
    "首先可以組成回文的字串，需要是有一組順序相反的字串，或是兩個相同的字串，因此先建立兩個dict分別存放完全相同的字串，與前後不相同的字串:  \n",
    "- 前後相同字串的情況，只需統計出現次數即可  \n",
    "- 前後不同字串的情況，則需統計順序不同出現的次數分別為何  \n",
    "最後將前後不同的字串，用次數最小值x4後加到總和中，如果是前後相同的字串，則是找出有幾對後x4加到總和中，最後檢查有無一組相同的字串剩下，有的話則在加2到總和中，最後回傳總和"
   ]
  },
  {
   "cell_type": "code",
   "execution_count": null,
   "metadata": {},
   "outputs": [],
   "source": [
    "class Solution:\n",
    "    def longestPalindrome(self, words: List[str]) -> int:\n",
    "        pairs = {}\n",
    "        even = {}\n",
    "        result = 0\n",
    "        for w in range(len(words)):\n",
    "            if words[w][0] == words[w][1]:\n",
    "                if words[w] not in even.keys():\n",
    "                    even[words[w]] = 1\n",
    "                else:\n",
    "                    even[words[w]] += 1\n",
    "            else:\n",
    "                rev = words[w][1] + words[w][0]\n",
    "                if words[w] not in pairs.keys() and rev not in pairs.keys():\n",
    "                    pairs[words[w]] = [1,0]\n",
    "                elif words[w] in pairs.keys():\n",
    "                    pairs[words[w]][0] += 1\n",
    "                elif rev in pairs.keys():\n",
    "                    pairs[rev][1] += 1\n",
    "                    \n",
    "        if pairs:\n",
    "            for val in pairs.values():\n",
    "                result += min(val[0], val[1]) * 4\n",
    "        if even:\n",
    "            is_odd = False\n",
    "            for val in even.values():\n",
    "                if val % 2 == 0:\n",
    "                    result += val * 2\n",
    "                elif val % 2 == 1 and val > 2:\n",
    "                    is_odd = True\n",
    "                    result += (val-1) * 2\n",
    "                else:\n",
    "                    is_odd = True\n",
    "            if is_odd:\n",
    "                result += 2\n",
    "        return result"
   ]
  }
 ],
 "metadata": {
  "kernelspec": {
   "display_name": "Python 3",
   "language": "python",
   "name": "python3"
  },
  "language_info": {
   "codemirror_mode": {
    "name": "ipython",
    "version": 3
   },
   "file_extension": ".py",
   "mimetype": "text/x-python",
   "name": "python",
   "nbconvert_exporter": "python",
   "pygments_lexer": "ipython3",
   "version": "3.7.4"
  }
 },
 "nbformat": 4,
 "nbformat_minor": 4
}
