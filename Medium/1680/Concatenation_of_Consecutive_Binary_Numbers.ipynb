{
 "cells": [
  {
   "cell_type": "markdown",
   "metadata": {},
   "source": [
    "# 本題要將數字改為binary string後加總，最後求新的整數為何 (\\#Math, \\#Binary String)\n",
    "原題目連結: https://leetcode.com/problems/concatenation-of-consecutive-binary-numbers/  \n",
    "\n",
    "Given an integer n, return the decimal value of the binary string formed by concatenating the binary representations of 1 to n in order, modulo 109 + 7.  \n",
    "\n",
    "範例:  \n",
    "Ex1:  \n",
    "Input: n = 1  \n",
    "Output: 1  \n",
    "Explanation: \"1\" in binary corresponds to the decimal value 1.  \n",
    "\n",
    "Ex2:   \n",
    "Input: n = 3  \n",
    "Output: 27  \n",
    "Explanation: In binary, 1, 2, and 3 corresponds to \"1\", \"10\", and \"11\".  \n",
    "After concatenating them, we have \"11011\", which corresponds to the decimal value 27.  \n",
    "\n",
    "Ex3:  \n",
    "Input: n = 12  \n",
    "Output: 505379714  \n",
    "Explanation: The concatenation results in \"1101110010111011110001001101010111100\".  \n",
    "The decimal value of that is 118505380540.  \n",
    "After modulo 109 + 7, the result is 505379714.  "
   ]
  },
  {
   "cell_type": "markdown",
   "metadata": {},
   "source": [
    "* 解題想法:  \n",
    "首先用一個字串，將所有轉換為二進位的字串都加總到後面，最後將這個字串轉為十進位之後再娶mod就是答案"
   ]
  },
  {
   "cell_type": "code",
   "execution_count": null,
   "metadata": {},
   "outputs": [],
   "source": [
    "class Solution:\n",
    "    def concatenatedBinary(self, n: int) -> int:\n",
    "        result = ''\n",
    "        for l in range(1, n+1):\n",
    "            result += bin(l)[2:]\n",
    "        return int(result, 2) % (pow(10, 9) + 7)"
   ]
  }
 ],
 "metadata": {
  "kernelspec": {
   "display_name": "Python 3",
   "language": "python",
   "name": "python3"
  },
  "language_info": {
   "codemirror_mode": {
    "name": "ipython",
    "version": 3
   },
   "file_extension": ".py",
   "mimetype": "text/x-python",
   "name": "python",
   "nbconvert_exporter": "python",
   "pygments_lexer": "ipython3",
   "version": "3.7.4"
  }
 },
 "nbformat": 4,
 "nbformat_minor": 4
}
