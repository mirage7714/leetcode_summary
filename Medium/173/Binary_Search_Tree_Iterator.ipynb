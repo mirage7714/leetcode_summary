{
 "cells": [
  {
   "cell_type": "markdown",
   "metadata": {},
   "source": [
    "# 本題要實作一個binary search tree iterator的功能\n",
    "原題目連結: https://leetcode.com/problems/binary-search-tree-iterator/  \n",
    "\n",
    "Implement the BSTIterator class that represents an iterator over the in-order traversal of a binary search tree (BST):  \n",
    "\n",
    "BSTIterator(TreeNode root) Initializes an object of the BSTIterator class. The root of the BST is given as part of the constructor. The pointer should be initialized to a non-existent number smaller than any element in the BST.  \n",
    "boolean hasNext() Returns true if there exists a number in the traversal to the right of the pointer, otherwise returns false.  \n",
    "int next() Moves the pointer to the right, then returns the number at the pointer.  \n",
    "Notice that by initializing the pointer to a non-existent smallest number, the first call to next() will return the smallest element in the BST.  \n",
    "\n",
    "You may assume that next() calls will always be valid. That is, there will be at least a next number in the in-order traversal when next() is called.  \n",
    "\n",
    "範例:  \n",
    "Ex1:  \n",
    "Input  \n",
    "[\"BSTIterator\", \"next\", \"next\", \"hasNext\", \"next\", \"hasNext\", \"next\", \"hasNext\", \"next\", \"hasNext\"]  \n",
    "[[[7, 3, 15, null, null, 9, 20]], [], [], [], [], [], [], [], [], []]  \n",
    "Output  \n",
    "[null, 3, 7, true, 9, true, 15, true, 20, false]  \n",
    "  \n",
    "Explanation  \n",
    "BSTIterator bSTIterator = new BSTIterator([7, 3, 15, null, null, 9, 20]);  \n",
    "bSTIterator.next();    // return 3  \n",
    "bSTIterator.next();    // return 7  \n",
    "bSTIterator.hasNext(); // return True  \n",
    "bSTIterator.next();    // return 9  \n",
    "bSTIterator.hasNext(); // return True  \n",
    "bSTIterator.next();    // return 15  \n",
    "bSTIterator.hasNext(); // return True  \n",
    "bSTIterator.next();    // return 20  \n",
    "bSTIterator.hasNext(); // return False  "
   ]
  },
  {
   "cell_type": "markdown",
   "metadata": {},
   "source": [
    "* 解題想法:  \n",
    "首先將BST中的數值用inorder的方式抓出，並放入list中，接著用一個index來記錄目前的指標為何，接著開始實作題目要求的功能:  \n",
    "- next(): 回傳list中index的數值，並將index+1  \n",
    "- hasNext():檢查index是否已經到了list長度-1，如果是則回傳False，否則回傳True"
   ]
  },
  {
   "cell_type": "code",
   "execution_count": null,
   "metadata": {},
   "outputs": [],
   "source": [
    "# Definition for a binary tree node.\n",
    "# class TreeNode:\n",
    "#     def __init__(self, val=0, left=None, right=None):\n",
    "#         self.val = val\n",
    "#         self.left = left\n",
    "#         self.right = right\n",
    "class BSTIterator:\n",
    "\n",
    "    def __init__(self, root: Optional[TreeNode]):\n",
    "        self.values = []\n",
    "        def inorder(node):\n",
    "            if not node.left and not node.right:\n",
    "                self.values.append(node.val)\n",
    "                return\n",
    "            if node.left:\n",
    "                inorder(node.left)\n",
    "            self.values.append(node.val)\n",
    "            if node.right:\n",
    "                inorder(node.right)\n",
    "        if root:\n",
    "            inorder(root)\n",
    "        self.index = 0\n",
    "    def next(self) -> int:\n",
    "        v = self.values[self.index]\n",
    "        self.index += 1\n",
    "        return v\n",
    "    def hasNext(self) -> bool:\n",
    "        if self.index > len(self.values) -1:\n",
    "            return False\n",
    "        return True\n",
    "\n",
    "\n",
    "# Your BSTIterator object will be instantiated and called as such:\n",
    "# obj = BSTIterator(root)\n",
    "# param_1 = obj.next()\n",
    "# param_2 = obj.hasNext()"
   ]
  }
 ],
 "metadata": {
  "kernelspec": {
   "display_name": "Python 3",
   "language": "python",
   "name": "python3"
  },
  "language_info": {
   "codemirror_mode": {
    "name": "ipython",
    "version": 3
   },
   "file_extension": ".py",
   "mimetype": "text/x-python",
   "name": "python",
   "nbconvert_exporter": "python",
   "pygments_lexer": "ipython3",
   "version": "3.7.4"
  }
 },
 "nbformat": 4,
 "nbformat_minor": 4
}
