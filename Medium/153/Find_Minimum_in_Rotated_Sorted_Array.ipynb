{
 "cells": [
  {
   "cell_type": "markdown",
   "metadata": {},
   "source": [
    "# 本題要找出array中的最小值為何(與154題相似)\n",
    "原題目連結: https://leetcode.com/problems/find-minimum-in-rotated-sorted-array/  \n",
    "\n",
    "Suppose an array of length n sorted in ascending order is rotated between 1 and n times. For example, the array nums = [0,1,2,4,5,6,7] might become:  \n",
    "\n",
    "[4,5,6,7,0,1,2] if it was rotated 4 times.  \n",
    "[0,1,2,4,5,6,7] if it was rotated 7 times.  \n",
    "Notice that rotating an array [a[0], a[1], a[2], ..., a[n-1]] 1 time results in the array [a[n-1], a[0], a[1], a[2], ..., a[n-2]].  \n",
    "\n",
    "Given the sorted rotated array nums, return the minimum element of this array.  \n",
    "\n",
    "範例:  \n",
    "Ex1:  \n",
    "Input: nums = [3,4,5,1,2]    \n",
    "Output: 1  \n",
    "Explanation: The original array was [1,2,3,4,5] rotated 3 times.  \n",
    "\n",
    "Ex2:  \n",
    "Input: nums = [4,5,6,7,0,1,2]  \n",
    "Output: 0  \n",
    "Explanation: The original array was [0,1,2,4,5,6,7] and it was rotated 4 times.  \n",
    "\n",
    "Ex3:  \n",
    "Input: nums = [11,13,15,17]  \n",
    "Output: 11  \n",
    "Explanation: The original array was [11,13,15,17] and it was rotated 4 times. "
   ]
  },
  {
   "cell_type": "markdown",
   "metadata": {},
   "source": [
    "* 解題想法:  \n",
    "由於題目要找出list中的最小值，因此先假定list中第一個值為最小值，接著與其他數字進行比較  \n",
    "如果有更小的值則將最小值替換為最小的那個數值，最後回傳最小值"
   ]
  },
  {
   "cell_type": "code",
   "execution_count": null,
   "metadata": {},
   "outputs": [],
   "source": [
    "class Solution:\n",
    "    def findMin(self, nums: List[int]) -> int:\n",
    "        small = nums[0]\n",
    "        for n in range(1, len(nums)):\n",
    "            if nums[n] < small:\n",
    "                small = nums[n]\n",
    "        return small"
   ]
  }
 ],
 "metadata": {
  "kernelspec": {
   "display_name": "Python 3",
   "language": "python",
   "name": "python3"
  },
  "language_info": {
   "codemirror_mode": {
    "name": "ipython",
    "version": 3
   },
   "file_extension": ".py",
   "mimetype": "text/x-python",
   "name": "python",
   "nbconvert_exporter": "python",
   "pygments_lexer": "ipython3",
   "version": "3.7.4"
  }
 },
 "nbformat": 4,
 "nbformat_minor": 2
}
