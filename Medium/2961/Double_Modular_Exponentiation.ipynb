{
 "cells": [
  {
   "cell_type": "markdown",
   "id": "e049fae8-f101-455b-8857-5b115665a179",
   "metadata": {},
   "source": [
    "# 本題要找出指定的操作後會與目標相同的共有多少 (\\#Array )\n",
    "原題目連結: https://leetcode.com/problems/double-modular-exponentiation/description/  \n",
    "\n",
    "You are given a 0-indexed 2D array variables where variables[i] = [ai, bi, ci, mi], and an integer target.  \n",
    "An index i is good if the following formula holds:  \n",
    "\n",
    "0 <= i < variables.length  \n",
    "((ai^bi % 10)^ci) % mi == target  \n",
    "Return an array consisting of good indices in any order.  \n",
    " \n",
    "範例:  \n",
    "Ex1:  \n",
    "Input: variables = [[2,3,3,10],[3,3,3,1],[6,1,1,4]], target = 2  \n",
    "Output: [0,2]  \n",
    "Explanation: For each index i in the variables array:  \n",
    "1) For the index 0, variables[0] = [2,3,3,10], (2^3 % 10)^3 % 10 = 2.  \n",
    "2) For the index 1, variables[1] = [3,3,3,1], (3^3 % 10)^3 % 1 = 0.  \n",
    "3) For the index 2, variables[2] = [6,1,1,4], (6^1 % 10)^1 % 4 = 2.  \n",
    "Therefore we return [0,2] as the answer.  \n",
    "\n",
    "Ex2:  \n",
    "Input: variables = [[39,3,1000,1000]], target = 17  \n",
    "Output: []  \n",
    "Explanation: For each index i in the variables array:  \n",
    "1) For the index 0, variables[0] = [39,3,1000,1000], (39^3 % 10)^1000 % 1000 = 1.  \n",
    "Therefore we return [] as the answer.  "
   ]
  },
  {
   "cell_type": "markdown",
   "id": "e02e5372-4120-460e-b24c-5ce0f43dc114",
   "metadata": {},
   "source": [
    "* 解題想法:  \n",
    "首先建立一個list來存放結果，接著對variables裡的每個數值進行運算並比較結果，將符合的index加入list中，最後回傳list就是答案"
   ]
  },
  {
   "cell_type": "code",
   "execution_count": null,
   "id": "48e35319-e4be-4323-8b7d-db4f3c06400c",
   "metadata": {},
   "outputs": [],
   "source": [
    "class Solution:\n",
    "    def getGoodIndices(self, variables: List[List[int]], target: int) -> List[int]:\n",
    "        res = []\n",
    "        for i in range(len(variables)):\n",
    "            v = variables[i]\n",
    "            t = (((v[0] ** v[1]) % 10) ** v[2] ) % v[3]\n",
    "            if t == target:\n",
    "                res.append(i)\n",
    "        return res "
   ]
  }
 ],
 "metadata": {
  "kernelspec": {
   "display_name": "Python 3 (ipykernel)",
   "language": "python",
   "name": "python3"
  },
  "language_info": {
   "codemirror_mode": {
    "name": "ipython",
    "version": 3
   },
   "file_extension": ".py",
   "mimetype": "text/x-python",
   "name": "python",
   "nbconvert_exporter": "python",
   "pygments_lexer": "ipython3",
   "version": "3.9.13"
  }
 },
 "nbformat": 4,
 "nbformat_minor": 5
}
