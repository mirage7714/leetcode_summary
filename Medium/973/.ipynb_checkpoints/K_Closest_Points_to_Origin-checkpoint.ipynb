{
 "cells": [
  {
   "cell_type": "markdown",
   "metadata": {},
   "source": [
    "# 本題要找出距離原點最近的K個點為何\n",
    "原題目連結: https://leetcode.com/problems/k-closest-points-to-origin/  \n",
    "\n",
    "We have a list of points on the plane.  Find the K closest points to the origin (0, 0).  \n",
    "\n",
    "(Here, the distance between two points on a plane is the Euclidean distance.)  \n",
    "\n",
    "You may return the answer in any order.  The answer is guaranteed to be unique (except for the order that it is in.)  \n",
    "\n",
    "範例:  \n",
    "Ex1:  \n",
    "Input: points = [[1,3],[-2,2]], K = 1  \n",
    "Output: [[-2,2]]  \n",
    "Explanation:   \n",
    "The distance between (1, 3) and the origin is sqrt(10).  \n",
    "The distance between (-2, 2) and the origin is sqrt(8).  \n",
    "Since sqrt(8) < sqrt(10), (-2, 2) is closer to the origin.  \n",
    "We only want the closest K = 1 points from the origin, so the answer is just [[-2,2]].  \n",
    "\n",
    "Ex2:  \n",
    "Input: points = [[3,3],[5,-1],[-2,4]], K = 2  \n",
    "Output: [[3,3],[-2,4]]  \n",
    "(The answer [[-2,4],[3,3]] would also be accepted.)  "
   ]
  },
  {
   "cell_type": "markdown",
   "metadata": {},
   "source": [
    "* 解題想法:  \n",
    "依據題目要求，要找出共K個點的一個list，因此先將每個點的距離都找出並用一個dict來存放，並用距離當成key  \n",
    "接著將key值取出，排序厚找出前K個key值，並用key值回去找點，在找出K個點時中斷迴圈並回傳結果"
   ]
  },
  {
   "cell_type": "code",
   "execution_count": null,
   "metadata": {},
   "outputs": [],
   "source": [
    "class Solution:\n",
    "    def kClosest(self, points: List[List[int]], K: int) -> List[List[int]]:\n",
    "        freq = {}\n",
    "        result = []\n",
    "        for point in points:\n",
    "            dist = point[0] ** 2 + point[1]**2\n",
    "            if dist not in freq.keys():\n",
    "                freq[dist] = [point]\n",
    "            else:\n",
    "                freq[dist].append(point)\n",
    "        keys = list(freq.keys())\n",
    "        keys.sort()\n",
    "        target = keys[:K]\n",
    "        for t in target:\n",
    "            val = freq[t]\n",
    "            for v in val:\n",
    "                result.append(v)\n",
    "            if len(result) == K:\n",
    "                break\n",
    "        return result"
   ]
  }
 ],
 "metadata": {
  "kernelspec": {
   "display_name": "Python 3",
   "language": "python",
   "name": "python3"
  },
  "language_info": {
   "codemirror_mode": {
    "name": "ipython",
    "version": 3
   },
   "file_extension": ".py",
   "mimetype": "text/x-python",
   "name": "python",
   "nbconvert_exporter": "python",
   "pygments_lexer": "ipython3",
   "version": "3.7.6"
  }
 },
 "nbformat": 4,
 "nbformat_minor": 4
}
