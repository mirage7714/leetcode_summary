{
 "cells": [
  {
   "cell_type": "markdown",
   "metadata": {},
   "source": [
    "# 本題要找出最大組合的節點\n",
    "原題目連結: https://leetcode.com/problems/maximum-twin-sum-of-a-linked-list/  \n",
    "\n",
    "In a linked list of size n, where n is even, the ith node (0-indexed) of the linked list is known as the twin of the (n-1-i)th node, if 0 <= i <= (n / 2) - 1.  \n",
    "\n",
    "For example, if n = 4, then node 0 is the twin of node 3, and node 1 is the twin of node 2. These are the only nodes with twins for n = 4.  \n",
    "The twin sum is defined as the sum of a node and its twin.  \n",
    "\n",
    "Given the head of a linked list with even length, return the maximum twin sum of the linked list.  \n",
    "\n",
    "範例:  \n",
    "Ex1:  \n",
    "Input: head = [5,4,2,1]  \n",
    "Output: 6  \n",
    "Explanation:  \n",
    "Nodes 0 and 1 are the twins of nodes 3 and 2, respectively. All have twin sum = 6.  \n",
    "There are no other nodes with twins in the linked list.  \n",
    "Thus, the maximum twin sum of the linked list is 6.   \n",
    "\n",
    "Ex2:  \n",
    "Input: head = [4,2,2,3]  \n",
    "Output: 7  \n",
    "Explanation:  \n",
    "The nodes with twins present in this linked list are:  \n",
    "- Node 0 is the twin of node 3 having a twin sum of 4 + 3 = 7.  \n",
    "- Node 1 is the twin of node 2 having a twin sum of 2 + 2 = 4.  \n",
    "Thus, the maximum twin sum of the linked list is max(7, 4) = 7.   \n",
    "\n",
    "Ex3:  \n",
    "Input: head = [1,100000]  \n",
    "Output: 100001  \n",
    "Explanation:  \n",
    "There is only one node with a twin in the linked list having twin sum of 1 + 100000 = 100001."
   ]
  },
  {
   "cell_type": "markdown",
   "metadata": {},
   "source": [
    "* 解題想法:  \n",
    "首先找出list內的所有數值，接著用一個迴圈去計算配對的值總和為多少，如果總和超過最大值則更新最大值，最後回傳最大值"
   ]
  },
  {
   "cell_type": "code",
   "execution_count": null,
   "metadata": {},
   "outputs": [],
   "source": [
    "# Definition for singly-linked list.\n",
    "# class ListNode:\n",
    "#     def __init__(self, val=0, next=None):\n",
    "#         self.val = val\n",
    "#         self.next = next\n",
    "class Solution:\n",
    "    def pairSum(self, head: Optional[ListNode]) -> int:\n",
    "        values = []\n",
    "        result = 0\n",
    "        while head.next:\n",
    "            values.append(head.val)\n",
    "            head = head.next\n",
    "        values.append(head.val)\n",
    "        if len(values) == 2:\n",
    "            result += values[0] + values[1]\n",
    "        else:\n",
    "            s = int(len(values) / 2)\n",
    "            for m in range(s):\n",
    "                t = values[m] + values[len(values) - m -1]\n",
    "                if t > result:\n",
    "                    result = t\n",
    "        return result"
   ]
  }
 ],
 "metadata": {
  "kernelspec": {
   "display_name": "Python 3",
   "language": "python",
   "name": "python3"
  },
  "language_info": {
   "codemirror_mode": {
    "name": "ipython",
    "version": 3
   },
   "file_extension": ".py",
   "mimetype": "text/x-python",
   "name": "python",
   "nbconvert_exporter": "python",
   "pygments_lexer": "ipython3",
   "version": "3.7.4"
  }
 },
 "nbformat": 4,
 "nbformat_minor": 4
}
