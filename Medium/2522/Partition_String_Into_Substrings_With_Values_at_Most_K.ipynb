{
 "cells": [
  {
   "cell_type": "markdown",
   "id": "702a84d5-634f-4c6f-bf68-2e5f39fd2595",
   "metadata": {},
   "source": [
    "# 本題要找出字串要分成多少個substring來符合限制 (\\#Array)\n",
    "原題目連結: https://leetcode.com/problems/partition-string-into-substrings-with-values-at-most-k/description/  \n",
    "\n",
    "You are given a string s consisting of digits from 1 to 9 and an integer k.  \n",
    "A partition of a string s is called good if:  \n",
    "\n",
    "Each digit of s is part of exactly one substring.  \n",
    "The value of each substring is less than or equal to k.  \n",
    "Return the minimum number of substrings in a good partition of s. If no good partition of s exists, return -1.  \n",
    "\n",
    "Note that:  \n",
    "The value of a string is its result when interpreted as an integer. For example, the value of \"123\" is 123 and the value of \"1\" is 1.  \n",
    "A substring is a contiguous sequence of characters within a string.  \n",
    "\n",
    "範例:  \n",
    "Ex1:  \n",
    "Input: s = \"165462\", k = 60  \n",
    "Output: 4  \n",
    "Explanation: We can partition the string into substrings \"16\", \"54\", \"6\", and \"2\". Each substring has a value less than or equal to k = 60.  \n",
    "It can be shown that we cannot partition the string into less than 4 substrings.  \n",
    "\n",
    "Ex2:  \n",
    "Input: s = \"238182\", k = 5  \n",
    "Output: -1  \n",
    "Explanation: There is no good partition for this string."
   ]
  },
  {
   "cell_type": "markdown",
   "id": "23675f25-3f82-4413-9bc6-6ef29b7ccfd2",
   "metadata": {},
   "source": [
    "* 解題想法:  \n",
    "首先用一個變數來儲存目前的數值，並檢查目前的數值加上新的位數後是否符合範圍，如果超過限制則將數值加一並更新暫存，如果目前的數值超過限制且無法更新則回傳-1，否則最後回傳數值的結果"
   ]
  },
  {
   "cell_type": "code",
   "execution_count": null,
   "id": "198756fb-6cd9-48cc-a9c7-c2be43d4e0f4",
   "metadata": {},
   "outputs": [],
   "source": [
    "class Solution:\n",
    "    def minimumPartition(self, s: str, k: int) -> int:\n",
    "        res = 0\n",
    "        temp = s[0]\n",
    "        for n in range(1, len(s)):\n",
    "            if int(temp) > k:\n",
    "                return -1\n",
    "            if int(temp) < k and int(temp + s[n]) < k:\n",
    "                temp += s[n]\n",
    "            else:\n",
    "                res += 1\n",
    "                temp = s[n]\n",
    "        if int(temp) > k:\n",
    "            return -1\n",
    "        res += 1\n",
    "        return res"
   ]
  }
 ],
 "metadata": {
  "kernelspec": {
   "display_name": "Python 3 (ipykernel)",
   "language": "python",
   "name": "python3"
  },
  "language_info": {
   "codemirror_mode": {
    "name": "ipython",
    "version": 3
   },
   "file_extension": ".py",
   "mimetype": "text/x-python",
   "name": "python",
   "nbconvert_exporter": "python",
   "pygments_lexer": "ipython3",
   "version": "3.9.13"
  }
 },
 "nbformat": 4,
 "nbformat_minor": 5
}
