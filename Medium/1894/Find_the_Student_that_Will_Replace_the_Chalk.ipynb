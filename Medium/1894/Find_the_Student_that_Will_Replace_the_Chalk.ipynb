{
 "cells": [
  {
   "cell_type": "markdown",
   "metadata": {},
   "source": [
    "# 本題要找出粉筆在第幾個學生的時候會用完\n",
    "原題目連結: https://leetcode.com/problems/find-the-student-that-will-replace-the-chalk/  \n",
    "\n",
    "There are n students in a class numbered from 0 to n - 1. The teacher will give each student a problem starting with the student number 0, then the student number 1, and so on until the teacher reaches the student number n - 1. After that, the teacher will restart the process, starting with the student number 0 again.  \n",
    "\n",
    "You are given a 0-indexed integer array chalk and an integer k. There are initially k pieces of chalk. When the student number i is given a problem to solve, they will use chalk[i] pieces of chalk to solve that problem. However, if the current number of chalk pieces is strictly less than chalk[i], then the student number i will be asked to replace the chalk.  \n",
    "\n",
    "Return the index of the student that will replace the chalk.  \n",
    "\n",
    "範例:  \n",
    "Ex1:  \n",
    "Input: chalk = [5,1,5], k = 22  \n",
    "Output: 0  \n",
    "Explanation: The students go in turns as follows:  \n",
    "- Student number 0 uses 5 chalk, so k = 17.  \n",
    "- Student number 1 uses 1 chalk, so k = 16.  \n",
    "- Student number 2 uses 5 chalk, so k = 11.  \n",
    "- Student number 0 uses 5 chalk, so k = 6.  \n",
    "- Student number 1 uses 1 chalk, so k = 5.  \n",
    "- Student number 2 uses 5 chalk, so k = 0.  \n",
    "Student number 0 does not have enough chalk, so they will have to replace it.  \n",
    "\n",
    "Ex2:  \n",
    "Input: chalk = [3,4,1,2], k = 25  \n",
    "Output: 1  \n",
    "Explanation: The students go in turns as follows:  \n",
    "- Student number 0 uses 3 chalk so k = 22.  \n",
    "- Student number 1 uses 4 chalk so k = 18.  \n",
    "- Student number 2 uses 1 chalk so k = 17.  \n",
    "- Student number 3 uses 2 chalk so k = 15.  \n",
    "- Student number 0 uses 3 chalk so k = 12.  \n",
    "- Student number 1 uses 4 chalk so k = 8.  \n",
    "- Student number 2 uses 1 chalk so k = 7.  \n",
    "- Student number 3 uses 2 chalk so k = 5.  \n",
    "- Student number 0 uses 3 chalk so k = 2.  \n",
    "Student number 1 does not have enough chalk, so they will have to replace it."
   ]
  },
  {
   "cell_type": "markdown",
   "metadata": {},
   "source": [
    "* 解題想法:  \n",
    "首先計算出一個循環需要使用多少的粉筆(total)，接著用k%total找出最後一輪剩下的粉筆有多少  \n",
    "再來逐個計算到第幾個學生的時候會把粉筆用完，就可以知道哪一個學生沒有粉筆可以用了"
   ]
  },
  {
   "cell_type": "code",
   "execution_count": null,
   "metadata": {},
   "outputs": [],
   "source": [
    "class Solution:\n",
    "    def chalkReplacer(self, chalk: List[int], k: int) -> int:\n",
    "        total = 0\n",
    "        result = 0\n",
    "        for c in chalk:\n",
    "            total += c\n",
    "        k = k % total\n",
    "        t = 0\n",
    "        for m in range(len(chalk)):\n",
    "            t += chalk[m]\n",
    "            if t > k:\n",
    "                result = m\n",
    "                break\n",
    "        return result"
   ]
  }
 ],
 "metadata": {
  "kernelspec": {
   "display_name": "Python 3",
   "language": "python",
   "name": "python3"
  },
  "language_info": {
   "codemirror_mode": {
    "name": "ipython",
    "version": 3
   },
   "file_extension": ".py",
   "mimetype": "text/x-python",
   "name": "python",
   "nbconvert_exporter": "python",
   "pygments_lexer": "ipython3",
   "version": "3.7.4"
  }
 },
 "nbformat": 4,
 "nbformat_minor": 2
}
