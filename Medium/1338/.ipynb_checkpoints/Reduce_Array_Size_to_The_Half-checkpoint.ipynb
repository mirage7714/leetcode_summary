{
 "cells": [
  {
   "cell_type": "markdown",
   "metadata": {},
   "source": [
    "# 本題要找出將array減為一半以下需要的最少次數\n",
    "原題目連結: https://leetcode.com/problems/reduce-array-size-to-the-half/  \n",
    "\n",
    "Given an array arr.  You can choose a set of integers and remove all the occurrences of these integers in the array.  \n",
    "\n",
    "Return the minimum size of the set so that at least half of the integers of the array are removed.  \n",
    "\n",
    "範例:  \n",
    "Ex1:  \n",
    "Input: arr = [3,3,3,3,5,5,5,2,2,7]  \n",
    "Output: 2  \n",
    "Explanation: Choosing {3,7} will make the new array [5,5,5,2,2] which has size 5 (i.e equal to half of the size of the old array).  \n",
    "Possible sets of size 2 are {3,5},{3,2},{5,2}.  \n",
    "Choosing set {2,7} is not possible as it will make the new array [3,3,3,3,5,5,5] which has size greater than half of the size of the old array.  \n",
    "\n",
    "Ex2:  \n",
    "Input: arr = [7,7,7,7,7,7]  \n",
    "Output: 1  \n",
    "Explanation: The only possible set you can choose is {7}. This will make the new array empty.  \n",
    "\n",
    "Ex3:  \n",
    "Input: arr = [1,9]  \n",
    "Output: 1  \n",
    "\n",
    "Ex4:  \n",
    "Input: arr = [1000,1000,3,7]  \n",
    "Output: 1  \n",
    "\n",
    "Ex5:  \n",
    "Input: arr = [1,2,3,4,5,6,7,8,9,10]  \n",
    "Output: 5"
   ]
  },
  {
   "cell_type": "markdown",
   "metadata": {},
   "source": [
    "* 解題想法:  \n",
    "依題目的要求，要將list中的數字減去讓新的list長度小於原本list長度的一半以下，因此先從出現次數最多的數字開始算起，並依序計算次多的數字直到總和超過一半為止，如果所有數字都只出現過一次的情況，則直接回傳原本長度的1/2就是題目要求的數字"
   ]
  },
  {
   "cell_type": "code",
   "execution_count": null,
   "metadata": {},
   "outputs": [],
   "source": [
    "class Solution:\n",
    "    def minSetSize(self, arr: List[int]) -> int:\n",
    "        freq = {}\n",
    "        count = 0\n",
    "        temp = 0\n",
    "        item = 0\n",
    "        for a in arr:\n",
    "            if a not in freq.keys():\n",
    "                freq[a] = 1\n",
    "                item += 1\n",
    "            else:\n",
    "                freq[a] += 1\n",
    "        val = list(freq.values())\n",
    "        if item == len(arr):\n",
    "            if item > 1: \n",
    "                count = int(len(arr) / 2)\n",
    "            else:\n",
    "                count = 1\n",
    "        else:\n",
    "            for n in range(len(val)):\n",
    "                m = max(val)\n",
    "                temp += m\n",
    "                count += 1\n",
    "                val.pop(val.index(m))\n",
    "                if temp >= int(len(arr)/2):\n",
    "                    break\n",
    "        return count"
   ]
  }
 ],
 "metadata": {
  "kernelspec": {
   "display_name": "Python 3",
   "language": "python",
   "name": "python3"
  },
  "language_info": {
   "codemirror_mode": {
    "name": "ipython",
    "version": 3
   },
   "file_extension": ".py",
   "mimetype": "text/x-python",
   "name": "python",
   "nbconvert_exporter": "python",
   "pygments_lexer": "ipython3",
   "version": "3.7.4"
  }
 },
 "nbformat": 4,
 "nbformat_minor": 2
}
