{
 "cells": [
  {
   "cell_type": "markdown",
   "id": "5f98e931-8a04-4877-80a7-60c3daf37f5f",
   "metadata": {},
   "source": [
    "# 本題要找出在list中不出現指定總和的最小list和惟多少 (\\#Array )\n",
    "原題目連結: https://leetcode.com/problems/find-the-minimum-possible-sum-of-a-beautiful-array/  \n",
    "\n",
    "You are given positive integers n and target.  \n",
    "An array nums is beautiful if it meets the following conditions:  \n",
    "\n",
    "nums.length == n.  \n",
    "nums consists of pairwise distinct positive integers.  \n",
    "There doesn't exist two distinct indices, i and j, in the range [0, n - 1], such that nums[i] + nums[j] == target.  \n",
    "Return the minimum possible sum that a beautiful array could have.  \n",
    "\n",
    "範例:  \n",
    "Ex1:  \n",
    "Input: n = 2, target = 3  \n",
    "Output: 4  \n",
    "Explanation: We can see that nums = [1,3] is beautiful.  \n",
    "- The array nums has length n = 2.  \n",
    "- The array nums consists of pairwise distinct positive integers.  \n",
    "- There doesn't exist two distinct indices, i and j, with nums[i] + nums[j] == 3.  \n",
    "It can be proven that 4 is the minimum possible sum that a beautiful array could have.  \n",
    "\n",
    "Ex2:  \n",
    "Input: n = 3, target = 3  \n",
    "Output: 8  \n",
    "Explanation: We can see that nums = [1,3,4] is beautiful.  \n",
    "- The array nums has length n = 3.  \n",
    "- The array nums consists of pairwise distinct positive integers.  \n",
    "- There doesn't exist two distinct indices, i and j, with nums[i] + nums[j] == 3.  \n",
    "It can be proven that 8 is the minimum possible sum that a beautiful array could have.  \n",
    "\n",
    "Ex3:  \n",
    "Input: n = 1, target = 1  \n",
    "Output: 1  \n",
    "Explanation: We can see, that nums = [1] is beautiful."
   ]
  },
  {
   "cell_type": "markdown",
   "id": "90e57821-eddc-4da5-9fe2-653ec1913908",
   "metadata": {},
   "source": [
    "* 解題想法:  \n",
    "首先用一個set作為暫存，來存放過已知配對總和為target的值，接著從1開始找出配對會為target的情況並放入暫存中，如果不在暫存中則加上該值到總和中，最後回傳總和就是答案"
   ]
  },
  {
   "cell_type": "code",
   "execution_count": null,
   "id": "5fd50a26-3c3d-473a-901a-516c13e2f5c7",
   "metadata": {},
   "outputs": [],
   "source": [
    "class Solution:\n",
    "    def minimumPossibleSum(self, n: int, target: int) -> int:\n",
    "        res = 0\n",
    "        temp = set()\n",
    "        start = 0\n",
    "        c = 0\n",
    "        while c < n:\n",
    "            start += 1\n",
    "            if start in temp:\n",
    "                continue\n",
    "            if start < target:\n",
    "                temp.add(target - start)\n",
    "            res += start\n",
    "            c += 1\n",
    "        return res"
   ]
  }
 ],
 "metadata": {
  "kernelspec": {
   "display_name": "Python 3 (ipykernel)",
   "language": "python",
   "name": "python3"
  },
  "language_info": {
   "codemirror_mode": {
    "name": "ipython",
    "version": 3
   },
   "file_extension": ".py",
   "mimetype": "text/x-python",
   "name": "python",
   "nbconvert_exporter": "python",
   "pygments_lexer": "ipython3",
   "version": "3.11.4"
  }
 },
 "nbformat": 4,
 "nbformat_minor": 5
}
