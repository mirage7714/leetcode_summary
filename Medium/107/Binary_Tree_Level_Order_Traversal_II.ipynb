{
 "cells": [
  {
   "cell_type": "markdown",
   "metadata": {},
   "source": [
    "# 本題要找出樹中所有數值的值，並從下到上返回\n",
    "原題目連結: https://leetcode.com/problems/binary-tree-level-order-traversal-ii/  \n",
    "\n",
    "Given the root of a binary tree, return the bottom-up level order traversal of its nodes' values. (i.e., from left to right, level by level from leaf to root).  \n",
    "\n",
    "範例:  \n",
    "Ex1:  \n",
    "Input: root = [3,9,20,null,null,15,7]  \n",
    "Output: [[15,7],[9,20],[3]]  \n",
    "\n",
    "Ex2:  \n",
    "Input: root = [1]  \n",
    "Output: [[1]]  \n",
    "\n",
    "Ex3:  \n",
    "Input: root = []  \n",
    "Output: []"
   ]
  },
  {
   "cell_type": "markdown",
   "metadata": {},
   "source": [
    "* 解題想法:  \n",
    "與102題相似，本題一樣是用BFS進行走訪，不過在放入值的時候，用insert的方式放入list中，最後回傳list"
   ]
  },
  {
   "cell_type": "code",
   "execution_count": null,
   "metadata": {},
   "outputs": [],
   "source": [
    "# Definition for a binary tree node.\n",
    "# class TreeNode:\n",
    "#     def __init__(self, val=0, left=None, right=None):\n",
    "#         self.val = val\n",
    "#         self.left = left\n",
    "#         self.right = right\n",
    "class Solution:\n",
    "    def levelOrderBottom(self, root: Optional[TreeNode]) -> List[List[int]]:\n",
    "        result = []\n",
    "        if root != None:\n",
    "            temp = [root]\n",
    "            while len(temp) > 0:\n",
    "                val = []\n",
    "                nodes = []\n",
    "                for t in temp:\n",
    "                    val.append(t.val)\n",
    "                    if t.left != None:\n",
    "                        nodes.append(t.left)\n",
    "                    if t.right != None:\n",
    "                        nodes.append(t.right)\n",
    "                if len(val) > 0:\n",
    "                    result.insert(0, val)\n",
    "                temp.clear()\n",
    "                temp += nodes\n",
    "        return result"
   ]
  }
 ],
 "metadata": {
  "kernelspec": {
   "display_name": "Python 3",
   "language": "python",
   "name": "python3"
  },
  "language_info": {
   "codemirror_mode": {
    "name": "ipython",
    "version": 3
   },
   "file_extension": ".py",
   "mimetype": "text/x-python",
   "name": "python",
   "nbconvert_exporter": "python",
   "pygments_lexer": "ipython3",
   "version": "3.7.4"
  }
 },
 "nbformat": 4,
 "nbformat_minor": 4
}
