{
 "cells": [
  {
   "cell_type": "markdown",
   "metadata": {},
   "source": [
    "# 本題要找出沒有輸過或是最多輸一場的人\n",
    "原題目連結: https://leetcode.com/problems/find-players-with-zero-or-one-losses/  \n",
    "\n",
    "You are given an integer array matches where matches[i] = [winneri, loseri] indicates that the player winneri defeated player loseri in a match.  \n",
    "\n",
    "Return a list answer of size 2 where:  \n",
    "\n",
    "answer[0] is a list of all players that have not lost any matches.  \n",
    "answer[1] is a list of all players that have lost exactly one match.  \n",
    "The values in the two lists should be returned in increasing order.  \n",
    "\n",
    "Note:  \n",
    "You should only consider the players that have played at least one match.  \n",
    "The testcases will be generated such that no two matches will have the same outcome.  \n",
    "\n",
    "範例:  \n",
    "Ex1:  \n",
    "Input: matches = [[1,3],[2,3],[3,6],[5,6],[5,7],[4,5],[4,8],[4,9],[10,4],[10,9]]  \n",
    "Output: [[1,2,10],[4,5,7,8]]  \n",
    "Explanation:  \n",
    "Players 1, 2, and 10 have not lost any matches.  \n",
    "Players 4, 5, 7, and 8 each have lost one match.  \n",
    "Players 3, 6, and 9 each have lost two matches.  \n",
    "Thus, answer[0] = [1,2,10] and answer[1] = [4,5,7,8].  \n",
    "\n",
    "Ex2:  \n",
    "Input: matches = [[2,3],[1,3],[5,4],[6,4]]  \n",
    "Output: [[1,2,5,6],[]]  \n",
    "Explanation:  \n",
    "Players 1, 2, 5, and 6 have not lost any matches.  \n",
    "Players 3 and 4 each have lost two matches.  \n",
    "Thus, answer[0] = [1,2,5,6] and answer[1] = []."
   ]
  },
  {
   "cell_type": "markdown",
   "metadata": {},
   "source": [
    "* 解題想法:  \n",
    "首先建立一個list來存放結果，在這個list中需要兩個sub list，另外用一個dict來存放每個玩家的勝負紀錄，統計結束之後開始分析每個玩家的勝負紀錄，分別找出敗數為0與1的玩家，雖然題目有額外要求至少要參加一場比賽，但因為有紀錄的玩家參賽次數都至少大於或等於1，所以不需要額外進行判斷"
   ]
  },
  {
   "cell_type": "code",
   "execution_count": null,
   "metadata": {},
   "outputs": [],
   "source": [
    "class Solution:\n",
    "    def findWinners(self, matches: List[List[int]]) -> List[List[int]]:\n",
    "        result = [[],[]]\n",
    "        events = {}\n",
    "        for match in matches:\n",
    "            w = match[0]\n",
    "            l = match[1]\n",
    "            if w not in events.keys():\n",
    "                events[w] = [1, 0]\n",
    "            else:\n",
    "                events[w][0] += 1\n",
    "            if l not in events.keys():\n",
    "                events[l] = [0,1]\n",
    "            else:\n",
    "                events[l][1] += 1\n",
    "                \n",
    "        for key, val in events.items():\n",
    "            if val[1] == 0:\n",
    "                result[0].append(key)\n",
    "            elif val[1] == 1:\n",
    "                result[1].append(key)\n",
    "        result[0].sort()\n",
    "        result[1].sort()\n",
    "        return result"
   ]
  }
 ],
 "metadata": {
  "kernelspec": {
   "display_name": "Python 3",
   "language": "python",
   "name": "python3"
  },
  "language_info": {
   "codemirror_mode": {
    "name": "ipython",
    "version": 3
   },
   "file_extension": ".py",
   "mimetype": "text/x-python",
   "name": "python",
   "nbconvert_exporter": "python",
   "pygments_lexer": "ipython3",
   "version": "3.7.6"
  }
 },
 "nbformat": 4,
 "nbformat_minor": 4
}
