{
 "cells": [
  {
   "cell_type": "markdown",
   "id": "ad02f7d0-6ac4-4409-9cfe-22805b3e975c",
   "metadata": {},
   "source": [
    "# 本題要找出共有幾種贏得遊戲的方式 (\\#Math )\n",
    "原題目連結: https://leetcode.com/problems/alice-and-bob-playing-flower-game/description/  \n",
    "\n",
    "Alice and Bob are playing a turn-based game on a circular field surrounded by flowers. The circle represents the field, and there are x flowers in the clockwise direction between Alice and Bob, and y flowers in the anti-clockwise direction between them.  \n",
    "\n",
    "The game proceeds as follows:  \n",
    "Alice takes the first turn.  \n",
    "In each turn, a player must choose either the clockwise or anti-clockwise direction and pick one flower from that side.  \n",
    "At the end of the turn, if there are no flowers left at all, the current player captures their opponent and wins the game.  \n",
    "Given two integers, n and m, the task is to compute the number of possible pairs (x, y) that satisfy the conditions:  \n",
    "\n",
    "Alice must win the game according to the described rules.  \n",
    "The number of flowers x in the clockwise direction must be in the range [1,n].  \n",
    "The number of flowers y in the anti-clockwise direction must be in the range [1,m].  \n",
    "Return the number of possible pairs (x, y) that satisfy the conditions mentioned in the statement.  \n",
    "\n",
    "範例:  \n",
    "Ex1:  \n",
    "Input: n = 3, m = 2  \n",
    "Output: 3  \n",
    "Explanation: The following pairs satisfy conditions described in the statement: (1,2), (3,2), (2,1).  \n",
    "\n",
    "Ex2:  \n",
    "Input: n = 1, m = 1  \n",
    "Output: 0  \n",
    "Explanation: No pairs satisfy the conditions described in the statement."
   ]
  },
  {
   "cell_type": "markdown",
   "id": "110cd886-5c22-4b0c-9e37-606046d8e090",
   "metadata": {},
   "source": [
    "* 解題想法:  \n",
    "觀察題目的範例，可以發現需要組合為奇數的情況才會是題目要找的組合，因此先找出兩數中的最大值，如果該數值為偶數時，則組合數量為小的數值乘上大的數值除2，如果最大數值為奇數時，則組合的數量為小數減去一半乘上大數的一半加上小數的一半乘上大數減去大數的一半"
   ]
  },
  {
   "cell_type": "code",
   "execution_count": null,
   "id": "784772c6-4a45-4be8-aadd-0deaa22f593c",
   "metadata": {},
   "outputs": [],
   "source": [
    "class Solution:\n",
    "    def flowerGame(self, n: int, m: int) -> int:\n",
    "        res = 0\n",
    "        if m + n > 2:\n",
    "            if max(m, n) % 2 == 0:\n",
    "                res = min(m, n) * max(m, n) // 2\n",
    "            else:\n",
    "                i = min(m, n) // 2  \n",
    "                j = max(m, n) // 2\n",
    "                res = (min(m, n) - i) * j + i * (j+1)\n",
    "        return res"
   ]
  }
 ],
 "metadata": {
  "kernelspec": {
   "display_name": "Python 3 (ipykernel)",
   "language": "python",
   "name": "python3"
  },
  "language_info": {
   "codemirror_mode": {
    "name": "ipython",
    "version": 3
   },
   "file_extension": ".py",
   "mimetype": "text/x-python",
   "name": "python",
   "nbconvert_exporter": "python",
   "pygments_lexer": "ipython3",
   "version": "3.9.13"
  }
 },
 "nbformat": 4,
 "nbformat_minor": 5
}
