{
 "cells": [
  {
   "cell_type": "markdown",
   "metadata": {},
   "source": [
    "# 本題要將提供的字串進行修改，讓部分字串用星號取代\n",
    "原題目連結: \n",
    "\n",
    "We are given a personal information string S, which may represent either an email address or a phone number.  \n",
    "\n",
    "We would like to mask this personal information according to the following rules:  \n",
    "\n",
    "\n",
    "1. Email address:  \n",
    "\n",
    "We define a name to be a string of length ≥ 2 consisting of only lowercase letters a-z or uppercase letters A-Z.  \n",
    "\n",
    "An email address starts with a name, followed by the symbol '@', followed by a name, followed by the dot '.' and followed by a name.   \n",
    "\n",
    "All email addresses are guaranteed to be valid and in the format of \"name1@name2.name3\".  \n",
    "\n",
    "To mask an email, all names must be converted to lowercase and all letters between the first and last letter of the first name must be replaced by 5 asterisks '*'.  \n",
    "\n",
    "\n",
    "2. Phone number:  \n",
    "\n",
    "A phone number is a string consisting of only the digits 0-9 or the characters from the set {'+', '-', '(', ')', ' '}. You may assume a phone number contains 10 to 13 digits.  \n",
    "\n",
    "The last 10 digits make up the local number, while the digits before those make up the country code. Note that the country code is optional. We want to expose only the last 4 digits and mask all other digits.  \n",
    "\n",
    "The local number should be formatted and masked as \"***-***-1111\", where 1 represents the exposed digits.  \n",
    "\n",
    "To mask a phone number with country code like \"+111 111 111 1111\", we write it in the form \"+***-***-***-1111\".  The '+' sign and the first '-' sign before the local number should only exist if there is a country code.  For example, a 12 digit phone number mask should start with \"+**-\".  \n",
    "\n",
    "Note that extraneous characters like \"(\", \")\", \" \", as well as extra dashes or plus signs not part of the above formatting scheme should be removed.  \n",
    "\n",
    "範例:  \n",
    "Ex1:  \n",
    "Input: \"LeetCode@LeetCode.com\"  \n",
    "Output: \"l*****e@leetcode.com\"  \n",
    "Explanation: All names are converted to lowercase, and the letters between the\n",
    "             first and last letter of the first name is replaced by 5 asterisks.\n",
    "             Therefore, \"leetcode\" -> \"l*****e\".\n",
    "             \n",
    "Ex2:  \n",
    "Input: \"AB@qq.com\"  \n",
    "Output: \"a*****b@qq.com\"  \n",
    "Explanation: There must be 5 asterisks between the first and last letter \n",
    "             of the first name \"ab\". Therefore, \"ab\" -> \"a*****b\".  \n",
    "             \n",
    "Ex3:  \n",
    "Input: \"1(234)567-890\"  \n",
    "Output: \"***-***-7890\"  \n",
    "Explanation: 10 digits in the phone number, which means all digits make up the local number.  \n",
    "\n",
    "Ex4:  \n",
    "Input: \"86-(10)12345678\"  \n",
    "Output: \"+**-***-***-5678\"  \n",
    "Explanation: 12 digits, 2 digits for country code and 10 digits for local number. "
   ]
  },
  {
   "cell_type": "markdown",
   "metadata": {},
   "source": [
    "* 解題想法:  \n",
    "其實題目要的就是對提供的字串進行修改，對於email與電話號碼有不同的處理邏輯:  \n",
    "如果是email的話，則是將'@'前的字串留下第一個與最後一個字母，中間用五個星號取代  \n",
    "如果是電話號碼的話，則是將中間的一些雜質去除，例如加號、空白等  \n",
    "最後判斷長度是否有包含國碼，如果沒有國碼的話則是用星號將數字取代並留下最後四碼  \n",
    "如果超過10位數，前面則是國碼並加上加號"
   ]
  },
  {
   "cell_type": "code",
   "execution_count": null,
   "metadata": {},
   "outputs": [],
   "source": [
    "class Solution:\n",
    "    def maskPII(self, S: str) -> str:\n",
    "        result = ''\n",
    "        if '@' in S:\n",
    "            parts = S.lower().split('@')\n",
    "            name = parts[0][0] + '*****' + parts[0][-1]\n",
    "            result = name + '@' + parts[1]\n",
    "        else:\n",
    "            refine = S.replace('-','').replace('(','').replace(')','').replace('+','').replace(' ','')\n",
    "            if len(refine) == 10:\n",
    "                result = '***-***-{}'.format(refine[6:])\n",
    "            else:\n",
    "                country = '+'\n",
    "                for n in range(len(refine)-10):\n",
    "                    country += '*'\n",
    "                result = '{}-***-***-{}'.format(country, refine[-4:])\n",
    "        return result"
   ]
  }
 ],
 "metadata": {
  "kernelspec": {
   "display_name": "Python 3",
   "language": "python",
   "name": "python3"
  },
  "language_info": {
   "codemirror_mode": {
    "name": "ipython",
    "version": 3
   },
   "file_extension": ".py",
   "mimetype": "text/x-python",
   "name": "python",
   "nbconvert_exporter": "python",
   "pygments_lexer": "ipython3",
   "version": "3.7.4"
  }
 },
 "nbformat": 4,
 "nbformat_minor": 2
}
