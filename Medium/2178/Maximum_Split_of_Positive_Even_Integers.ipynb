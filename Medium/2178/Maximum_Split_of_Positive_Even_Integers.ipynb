{
 "cells": [
  {
   "cell_type": "markdown",
   "metadata": {},
   "source": [
    "# 本題要找出指定的整數最多可切成多少個偶數和\n",
    "原題目連結: https://leetcode.com/problems/maximum-split-of-positive-even-integers/  \n",
    "\n",
    "You are given an integer finalSum. Split it into a sum of a maximum number of unique positive even integers.  \n",
    "\n",
    "For example, given finalSum = 12, the following splits are valid (unique positive even integers summing up to finalSum): (2 + 10), (2 + 4 + 6), and (4 + 8). Among them, (2 + 4 + 6) contains the maximum number of integers. Note that finalSum cannot be split into (2 + 2 + 4 + 4) as all the numbers should be unique.  \n",
    "Return a list of integers that represent a valid split containing a maximum number of integers. If no valid split exists for finalSum, return an empty list. You may return the integers in any order.  \n",
    "\n",
    "範例:  \n",
    "Ex1:  \n",
    "Input: finalSum = 12  \n",
    "Output: [2,4,6]  \n",
    "Explanation: The following are some valid splits: (2 + 10), (2 + 4 + 6), and (4 + 8).  \n",
    "(2 + 4 + 6) has the maximum number of integers, which is 3. Thus, we return [2,4,6].  \n",
    "Note that [2,6,4], [6,2,4], etc. are also accepted.  \n",
    "\n",
    "Ex2:  \n",
    "Input: finalSum = 7  \n",
    "Output: []  \n",
    "Explanation: There are no valid splits for the given finalSum.  \n",
    "Thus, we return an empty array.  \n",
    "\n",
    "Ex3:  \n",
    "Input: finalSum = 28  \n",
    "Output: [6,8,2,12]  \n",
    "Explanation: The following are some valid splits: (2 + 26), (6 + 8 + 2 + 12), and (4 + 24).   \n",
    "(6 + 8 + 2 + 12) has the maximum number of integers, which is 4. Thus, we return [6,8,2,12].  \n",
    "Note that [10,2,4,12], [6,2,4,16], etc. are also accepted."
   ]
  },
  {
   "cell_type": "markdown",
   "metadata": {},
   "source": [
    "* 解題想法:  \n",
    "首先判斷指定的數是否為偶數，如果不是偶數的話則無法找出偶數和可以等於該數，接著用一個while迴圈從最小的偶數開始算起並一次增加2，直到目前總和加上下一個偶數後會超過指定的數值，此時判斷總和是否與指定的值有數值差，如果有數值差則將差值加到最後一個偶數上，最後回傳所有偶數的list作為答案"
   ]
  },
  {
   "cell_type": "code",
   "execution_count": null,
   "metadata": {},
   "outputs": [],
   "source": [
    "class Solution(object):\n",
    "    def maximumEvenSplit(self, finalSum):\n",
    "        \"\"\"\n",
    "        :type finalSum: int\n",
    "        :rtype: List[int]\n",
    "        \"\"\"\n",
    "        result = []\n",
    "        if finalSum % 2 == 0:\n",
    "            start = 2\n",
    "            left = finalSum\n",
    "            while left > start:\n",
    "                left -= start\n",
    "                result.append(start)\n",
    "                start += 2\n",
    "            if left > 0:\n",
    "                if left not in result:\n",
    "                    result.append(left)\n",
    "                else:\n",
    "                    result[-1] += left\n",
    "        return result"
   ]
  }
 ],
 "metadata": {
  "kernelspec": {
   "display_name": "Python 3",
   "language": "python",
   "name": "python3"
  },
  "language_info": {
   "codemirror_mode": {
    "name": "ipython",
    "version": 3
   },
   "file_extension": ".py",
   "mimetype": "text/x-python",
   "name": "python",
   "nbconvert_exporter": "python",
   "pygments_lexer": "ipython3",
   "version": "3.7.4"
  }
 },
 "nbformat": 4,
 "nbformat_minor": 4
}
