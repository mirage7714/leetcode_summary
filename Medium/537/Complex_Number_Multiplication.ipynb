{
 "cells": [
  {
   "cell_type": "markdown",
   "metadata": {},
   "source": [
    "# 本題要找出含有虛數的乘法結果\n",
    "原題目連結：https://leetcode.com/problems/complex-number-multiplication/  \n",
    "\n",
    "Given two strings representing two complex numbers.  \n",
    "You need to return a string representing their multiplication. Note i2 = -1 according to the definition.  \n",
    "\n",
    "範例：  \n",
    "Ex1:  \n",
    "Input: \"1+1i\", \"1+1i\"  \n",
    "Output: \"0+2i\"  \n",
    "Explanation: (1 + i) * (1 + i) = 1 + i2 + 2 * i = 2i, and you need convert it to the form of 0+2i.  \n",
    "\n",
    "Ex2:  \n",
    "Input: \"1+-1i\", \"1+-1i\"  \n",
    "Output: \"0+-2i\"  \n",
    "Explanation: (1 - i) * (1 - i) = 1 + i2 - 2 * i = -2i, and you need convert it to the form of 0+-2i."
   ]
  },
  {
   "cell_type": "markdown",
   "metadata": {},
   "source": [
    "* 解題想法：  \n",
    "因為題目提供了兩個數中都保證含有虛數，因此可以將整數的部份先拆開來進行運算，最後再將虛數的部份加回去答案中  \n",
    "最後回傳加上虛數的字串即可"
   ]
  },
  {
   "cell_type": "code",
   "execution_count": null,
   "metadata": {},
   "outputs": [],
   "source": [
    "class Solution:\n",
    "    def complexNumberMultiply(self, a: str, b: str) -> str:\n",
    "        result = ''\n",
    "        int_a = int(a.split('+')[0])\n",
    "        int_b = int(b.split('+')[0])\n",
    "        com_a = int(a.split('+')[1].replace('i',''))\n",
    "        com_b = int(b.split('+')[1].replace('i',''))\n",
    "        int_total = (int_a * int_b) - (com_a * com_b)\n",
    "        com_total = int_a * com_b + int_b * com_a\n",
    "        result+= '{}+{}i'.format(int_total,com_total)\n",
    "        return result"
   ]
  }
 ],
 "metadata": {
  "kernelspec": {
   "display_name": "Python 3",
   "language": "python",
   "name": "python3"
  },
  "language_info": {
   "codemirror_mode": {
    "name": "ipython",
    "version": 3
   },
   "file_extension": ".py",
   "mimetype": "text/x-python",
   "name": "python",
   "nbconvert_exporter": "python",
   "pygments_lexer": "ipython3",
   "version": "3.8.3"
  }
 },
 "nbformat": 4,
 "nbformat_minor": 4
}
