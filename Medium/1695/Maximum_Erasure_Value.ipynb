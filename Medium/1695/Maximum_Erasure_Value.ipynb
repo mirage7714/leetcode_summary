{
 "cells": [
  {
   "cell_type": "markdown",
   "metadata": {},
   "source": [
    "# 本題要找出在布出現重複數字的情況下，最大的連續數字和為多少\n",
    "原題目連結: https://leetcode.com/problems/maximum-erasure-value/  \n",
    "\n",
    "You are given an array of positive integers nums and want to erase a subarray containing unique elements. The score you get by erasing the subarray is equal to the sum of its elements.  \n",
    "Return the maximum score you can get by erasing exactly one subarray.  \n",
    "An array b is called to be a subarray of a if it forms a contiguous subsequence of a, that is, if it is equal to a[l],a[l+1],...,a[r] for some (l,r).  \n",
    "\n",
    "範例:  \n",
    "Ex1:  \n",
    "Input: nums = [4,2,4,5,6]  \n",
    "Output: 17  \n",
    "Explanation: The optimal subarray here is [2,4,5,6].  \n",
    "\n",
    "Ex2:  \n",
    "Input: nums = [5,2,1,2,5,2,1,2,5]  \n",
    "Output: 8  \n",
    "Explanation: The optimal subarray here is [5,2,1] or [1,2,5]."
   ]
  },
  {
   "cell_type": "markdown",
   "metadata": {},
   "source": [
    "* 解題想法:  \n",
    "本題用sliding window的方式來進行解題，首先從頭開始檢查這個數字是否有出現過，如果沒有出現過則將總和加上這個數字後更新最大值，並將數字加入暫存中，如果這個數字沒出現過，則將暫存中的第一個數字移除，並將總和減去第一個數字後更新index，最後回傳遇到的最大值為何"
   ]
  },
  {
   "cell_type": "code",
   "execution_count": null,
   "metadata": {},
   "outputs": [],
   "source": [
    "class Solution:\n",
    "    def maximumUniqueSubarray(self, nums: List[int]) -> int:\n",
    "        start = 0\n",
    "        end = 0\n",
    "        total = 0\n",
    "        result = 0\n",
    "        part = set()\n",
    "        while end < len(nums):\n",
    "            if nums[end] not in part:\n",
    "                part.add(nums[end])\n",
    "                total += nums[end]\n",
    "                result = max(result, total)\n",
    "                end += 1\n",
    "            else:\n",
    "                total -= nums[start]\n",
    "                part.remove(nums[start])\n",
    "                start += 1\n",
    "        return result"
   ]
  }
 ],
 "metadata": {
  "kernelspec": {
   "display_name": "Python 3",
   "language": "python",
   "name": "python3"
  },
  "language_info": {
   "codemirror_mode": {
    "name": "ipython",
    "version": 3
   },
   "file_extension": ".py",
   "mimetype": "text/x-python",
   "name": "python",
   "nbconvert_exporter": "python",
   "pygments_lexer": "ipython3",
   "version": "3.7.4"
  }
 },
 "nbformat": 4,
 "nbformat_minor": 4
}
