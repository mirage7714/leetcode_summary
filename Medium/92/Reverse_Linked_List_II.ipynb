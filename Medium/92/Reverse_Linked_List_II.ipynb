{
 "cells": [
  {
   "cell_type": "markdown",
   "metadata": {},
   "source": [
    "# 本題要將LinkedList中指定的範圍進行翻轉\n",
    "原題目連結: https://leetcode.com/problems/reverse-linked-list-ii/  \n",
    "\n",
    "Given the head of a singly linked list and two integers left and right where left <= right, reverse the nodes of the list from position left to position right, and return the reversed list.  \n",
    "\n",
    "範例:  \n",
    "Ex1:  \n",
    "Input: head = [1,2,3,4,5], left = 2, right = 4  \n",
    "Output: [1,4,3,2,5]  \n",
    "\n",
    "Ex2:  \n",
    "Input: head = [5], left = 1, right = 1  \n",
    "Output: [5]  "
   ]
  },
  {
   "cell_type": "markdown",
   "metadata": {},
   "source": [
    "* 解題想法:  \n",
    "首先將LinkedList中的數值取出後放入一個list，接著將指定範圍內的數值順序進行調換，最後將list的數值重新組合為LinkedList"
   ]
  },
  {
   "cell_type": "code",
   "execution_count": null,
   "metadata": {},
   "outputs": [],
   "source": [
    "# Definition for singly-linked list.\n",
    "# class ListNode:\n",
    "#     def __init__(self, val=0, next=None):\n",
    "#         self.val = val\n",
    "#         self.next = next\n",
    "class Solution:\n",
    "    def reverseBetween(self, head: Optional[ListNode], left: int, right: int) -> Optional[ListNode]:\n",
    "        values = []\n",
    "        result = []\n",
    "        if head != None:\n",
    "            while head:\n",
    "                values.append(head.val)\n",
    "                head = head.next\n",
    "        \n",
    "            p = values[left-1:right]\n",
    "            r = []\n",
    "            for n in p:\n",
    "                r.insert(0,n)\n",
    "            values = values[:left-1]+r+values[right:]\n",
    "            for m in range(len(values)-1, -1, -1):\n",
    "                node = ListNode()\n",
    "                node.val = values[m]\n",
    "                if len(result) > 0:\n",
    "                    node.next = result[-1]\n",
    "                result.append(node)\n",
    "            return result[-1]\n",
    "        else:\n",
    "            return None"
   ]
  }
 ],
 "metadata": {
  "kernelspec": {
   "display_name": "Python 3",
   "language": "python",
   "name": "python3"
  },
  "language_info": {
   "codemirror_mode": {
    "name": "ipython",
    "version": 3
   },
   "file_extension": ".py",
   "mimetype": "text/x-python",
   "name": "python",
   "nbconvert_exporter": "python",
   "pygments_lexer": "ipython3",
   "version": "3.6.4"
  }
 },
 "nbformat": 4,
 "nbformat_minor": 2
}
