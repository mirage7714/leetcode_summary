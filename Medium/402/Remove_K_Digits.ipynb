{
 "cells": [
  {
   "cell_type": "markdown",
   "metadata": {},
   "source": [
    "# 本題要找出移除K個數字後最小數值為多少\n",
    "原題目連結: https://leetcode.com/problems/remove-k-digits/  \n",
    "\n",
    "Given string num representing a non-negative integer num, and an integer k, return the smallest possible integer after removing k digits from num.  \n",
    "\n",
    "範例:  \n",
    "Ex1:  \n",
    "Input: num = \"1432219\", k = 3  \n",
    "Output: \"1219\"  \n",
    "Explanation: Remove the three digits 4, 3, and 2 to form the new number 1219 which is the smallest.  \n",
    "\n",
    "Ex2:  \n",
    "Input: num = \"10200\", k = 1  \n",
    "Output: \"200\"  \n",
    "Explanation: Remove the leading 1 and the number is 200. Note that the output must not contain leading zeroes.  \n",
    "\n",
    "Ex3:  \n",
    "Input: num = \"10\", k = 2  \n",
    "Output: \"0\"  \n",
    "Explanation: Remove all the digits from the number and it is left with nothing which is 0."
   ]
  },
  {
   "cell_type": "markdown",
   "metadata": {},
   "source": [
    "* 解題想法:  \n",
    "首先建立一個list，接著迴圈開始檢查美個數字是否有大於list的最後一個數值，如果list的數值較大則將list的數值移除並將k-1，直到k值為零為止，如果迴圈結束k值還大於0則從list後面將數值移除，最後將list的數值重新組合成字串並回傳"
   ]
  },
  {
   "cell_type": "code",
   "execution_count": null,
   "metadata": {},
   "outputs": [],
   "source": [
    "class Solution:\n",
    "    def removeKdigits(self, num: str, k: int) -> str:\n",
    "        result = []\n",
    "        d = 0\n",
    "        if len(num) > k:      \n",
    "            for n in num:\n",
    "                while result and result[-1] > n and k > 0:\n",
    "                    result.pop()\n",
    "                    k -= 1\n",
    "                result.append(n)\n",
    "            while k and result:\n",
    "                result.pop()\n",
    "                k -= 1\n",
    "        if result:\n",
    "            d = int(''.join(result))\n",
    "        return str(d)"
   ]
  }
 ],
 "metadata": {
  "kernelspec": {
   "display_name": "Python 3",
   "language": "python",
   "name": "python3"
  },
  "language_info": {
   "codemirror_mode": {
    "name": "ipython",
    "version": 3
   },
   "file_extension": ".py",
   "mimetype": "text/x-python",
   "name": "python",
   "nbconvert_exporter": "python",
   "pygments_lexer": "ipython3",
   "version": "3.7.6"
  }
 },
 "nbformat": 4,
 "nbformat_minor": 4
}
