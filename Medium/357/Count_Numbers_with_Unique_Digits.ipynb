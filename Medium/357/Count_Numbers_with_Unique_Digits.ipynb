{
 "cells": [
  {
   "cell_type": "markdown",
   "metadata": {},
   "source": [
    "# 本題要找出共有多少個數字不重複的組合\n",
    "原題目連結: https://leetcode.com/problems/count-numbers-with-unique-digits/  \n",
    "\n",
    "Given an integer n, return the count of all numbers with unique digits, x, where 0 <= x < 10n.  \n",
    "\n",
    "範例:  \n",
    "Ex1:  \n",
    "Input: n = 2  \n",
    "Output: 91  \n",
    "Explanation: The answer should be the total numbers in the range of 0 ≤ x < 100, excluding 11,22,33,44,55,66,77,88,99  \n",
    "\n",
    "Ex2:  \n",
    "Input: n = 0  \n",
    "Output: 1"
   ]
  },
  {
   "cell_type": "markdown",
   "metadata": {},
   "source": [
    "* 解題想法:  \n",
    "觀察了幾個數字的組合，可以發現下一個數字是前一個數字再加上該長度的組合，而該長度n的組合就是9 x 9 x 8 x 7 x ... x (9-n)，其中第一個9代表從9個數字中選一個，接著下一位數也是有9種組合，一直遞減到最後一位，最後將所有的組合加起來就是該位數下有多少不重複的數字組合"
   ]
  },
  {
   "cell_type": "code",
   "execution_count": null,
   "metadata": {},
   "outputs": [],
   "source": [
    "class Solution:\n",
    "    def countNumbersWithUniqueDigits(self, n: int) -> int:\n",
    "        result = 1\n",
    "        temp = 0\n",
    "        for m in range(n):\n",
    "            t = 9\n",
    "            for l in range(m):\n",
    "                 t *= 9 - l\n",
    "            result += t\n",
    "            temp += t\n",
    "        return result"
   ]
  }
 ],
 "metadata": {
  "kernelspec": {
   "display_name": "Python 3",
   "language": "python",
   "name": "python3"
  },
  "language_info": {
   "name": ""
  }
 },
 "nbformat": 4,
 "nbformat_minor": 4
}
