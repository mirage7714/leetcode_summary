{
 "cells": [
  {
   "cell_type": "markdown",
   "metadata": {},
   "source": [
    "# 本題要在符合字串的限制下，產出最小的數字 (\\#String, \\#Greedy, \\#Stack, \\#Backtracking) \n",
    "原題目連結: https://leetcode.com/problems/construct-smallest-number-from-di-string/  \n",
    "\n",
    "You are given a 0-indexed string pattern of length n consisting of the characters 'I' meaning increasing and 'D' meaning decreasing.  \n",
    "A 0-indexed string num of length n + 1 is created using the following conditions:  \n",
    "\n",
    "num consists of the digits '1' to '9', where each digit is used at most once.  \n",
    "If pattern[i] == 'I', then num[i] < num[i + 1].  \n",
    "If pattern[i] == 'D', then num[i] > num[i + 1].  \n",
    "Return the lexicographically smallest possible string num that meets the conditions.  \n",
    "\n",
    "範例:  \n",
    "Ex1:  \n",
    "Input: pattern = \"IIIDIDDD\"  \n",
    "Output: \"123549876\"  \n",
    "Explanation:  \n",
    "At indices 0, 1, 2, and 4 we must have that num[i] < num[i+1].  \n",
    "At indices 3, 5, 6, and 7 we must have that num[i] > num[i+1].  \n",
    "Some possible values of num are \"245639871\", \"135749862\", and \"123849765\".  \n",
    "It can be proven that \"123549876\" is the smallest possible num that meets the conditions.  \n",
    "Note that \"123414321\" is not possible because the digit '1' is used more than once.  \n",
    "\n",
    "Ex2:  \n",
    "Input: pattern = \"DDD\"  \n",
    "Output: \"4321\"  \n",
    "Explanation:  \n",
    "Some possible values of num are \"9876\", \"7321\", and \"8742\".  \n",
    "It can be proven that \"4321\" is the smallest possible num that meets the conditions."
   ]
  },
  {
   "cell_type": "markdown",
   "metadata": {},
   "source": [
    "* 解題想法:  \n",
    "透過觀察，可以發現想要最小化數字，在開頭的時候就必須要最小化數字，其中D則是會讓數字變大的情況，因此用一個變數count來計算連續出現了多少個D，直到出現I之後，將count+1的數值倒序放入結果中，並將count歸零即將index更新，如果是單純出現I且count為0的情況，則直接將index加到結果中並更新index數值，最後如果count不為0，則需要重新將count+1的數值倒序放入結果，另外如果長度小於pattern+1，則需要再補上index到最後"
   ]
  },
  {
   "cell_type": "code",
   "execution_count": null,
   "metadata": {},
   "outputs": [],
   "source": [
    "class Solution:\n",
    "    def smallestNumber(self, pattern: str) -> str:\n",
    "        l = 1\n",
    "        result = ''\n",
    "        count = 0\n",
    "        for p in pattern:\n",
    "            if p == 'I':\n",
    "                if count:\n",
    "                    temp = ''\n",
    "                    for _ in range(count+1):\n",
    "                        temp = '{}{}'.format(l, temp)\n",
    "                        l += 1\n",
    "                    count = 0\n",
    "                    result += temp\n",
    "                else:\n",
    "                    result += str(l)\n",
    "                    l += 1 \n",
    "            else:\n",
    "                count += 1\n",
    "        if count:\n",
    "            temp = ''\n",
    "            for _ in range(count+1):\n",
    "                temp = '{}{}'.format(l, temp)\n",
    "                l += 1\n",
    "            result += temp\n",
    "        if len(result) < len(pattern)+1:\n",
    "            result += str(l)\n",
    "        return result"
   ]
  }
 ],
 "metadata": {
  "kernelspec": {
   "display_name": "Python 3",
   "language": "python",
   "name": "python3"
  },
  "language_info": {
   "codemirror_mode": {
    "name": "ipython",
    "version": 3
   },
   "file_extension": ".py",
   "mimetype": "text/x-python",
   "name": "python",
   "nbconvert_exporter": "python",
   "pygments_lexer": "ipython3",
   "version": "3.7.4"
  }
 },
 "nbformat": 4,
 "nbformat_minor": 4
}
