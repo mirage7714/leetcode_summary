{
 "cells": [
  {
   "cell_type": "markdown",
   "metadata": {},
   "source": [
    "# 本題要算出最多可以抓到多少魚 (\\#Array, \\#DFS)\n",
    "原題目連結: https://leetcode.com/problems/maximum-number-of-fish-in-a-grid/description/  \n",
    "\n",
    "You are given a 0-indexed 2D matrix grid of size m x n, where (r, c) represents:  \n",
    "\n",
    "A land cell if grid[r][c] = 0, or  \n",
    "A water cell containing grid[r][c] fish, if grid[r][c] > 0.  \n",
    "A fisher can start at any water cell (r, c) and can do the following operations any number of times:  \n",
    "\n",
    "Catch all the fish at cell (r, c), or   \n",
    "Move to any adjacent water cell.  \n",
    "Return the maximum number of fish the fisher can catch if he chooses his starting cell optimally, or 0 if no water cell exists.  \n",
    "\n",
    "An adjacent cell of the cell (r, c), is one of the cells (r, c + 1), (r, c - 1), (r + 1, c) or (r - 1, c) if it exists.  \n",
    "\n",
    "範例:  \n",
    "Ex1:  \n",
    "Input: grid = [[0,2,1,0],[4,0,0,3],[1,0,0,4],[0,3,2,0]]  \n",
    "Output: 7  \n",
    "Explanation: The fisher can start at cell (1,3) and collect 3 fish, then move to cell (2,3) and collect 4 fish.  \n",
    "\n",
    "Ex2:  \n",
    "Input: grid = [[1,0,0,0],[0,0,0,0],[0,0,0,0],[0,0,0,1]]  \n",
    "Output: 1  \n",
    "Explanation: The fisher can start at cells (0,0) or (3,3) and collect a single fish. "
   ]
  },
  {
   "cell_type": "markdown",
   "metadata": {},
   "source": [
    "* 解題想法:  \n",
    "首先檢查grid中每個元素，當出現不為0的元素時，則用DFS的方式進行走訪，檢查上下左右是否在grid範圍內且不為0，如果不為0則放入暫存中，最後將暫存的數值統計後與目前最大值比較，最後回傳最大值就是答案"
   ]
  },
  {
   "cell_type": "code",
   "execution_count": null,
   "metadata": {},
   "outputs": [],
   "source": [
    "class Solution:\n",
    "    def findMaxFish(self, grid: List[List[int]]) -> int:\n",
    "        def dfs(grid, m, n, res):\n",
    "            res.append(grid[m][n])\n",
    "            grid[m][n] = 0\n",
    "            i = [0,0,1,-1]\n",
    "            j = [1,-1,0,0]\n",
    "            for l in range(4):\n",
    "                if m + i[l] >= 0 and m + i[l] < len(grid) and n + j[l] >= 0 and n + j[l] < len(grid[0]) and grid[m+i[l]][n+j[l]] > 0:\n",
    "                    dfs(grid, m+i[l], n + j[l], res)\n",
    "        \n",
    "        res = 0\n",
    "        for m in range(len(grid)):\n",
    "            for n in range(len(grid[0])):\n",
    "                if grid[m][n] > 0:\n",
    "                    temp = []\n",
    "                    t = 0\n",
    "                    dfs(grid, m, n, temp)\n",
    "                    for l in temp:\n",
    "                        t += l\n",
    "                    res = max(t, res)\n",
    "        return res"
   ]
  }
 ],
 "metadata": {
  "kernelspec": {
   "display_name": "Python 3",
   "language": "python",
   "name": "python3"
  },
  "language_info": {
   "codemirror_mode": {
    "name": "ipython",
    "version": 3
   },
   "file_extension": ".py",
   "mimetype": "text/x-python",
   "name": "python",
   "nbconvert_exporter": "python",
   "pygments_lexer": "ipython3",
   "version": "3.7.6"
  }
 },
 "nbformat": 4,
 "nbformat_minor": 4
}
