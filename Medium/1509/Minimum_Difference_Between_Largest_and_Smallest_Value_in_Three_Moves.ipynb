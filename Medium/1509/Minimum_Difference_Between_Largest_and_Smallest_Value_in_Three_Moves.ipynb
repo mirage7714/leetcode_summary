{
 "cells": [
  {
   "cell_type": "markdown",
   "metadata": {},
   "source": [
    "# 本題要找出在刪除三個數字後，array中最大與最小的差為何\n",
    "原題目連結: https://leetcode.com/problems/minimum-difference-between-largest-and-smallest-value-in-three-moves/  \n",
    "\n",
    "Given an array nums, you are allowed to choose one element of nums and change it by any value in one move.  \n",
    "\n",
    "Return the minimum difference between the largest and smallest value of nums after perfoming at most 3 moves.  \n",
    "\n",
    "範例:  \n",
    "Ex1:  \n",
    "Input: nums = [5,3,2,4]  \n",
    "Output: 0  \n",
    "Explanation: Change the array [5,3,2,4] to [2,2,2,2].  \n",
    "The difference between the maximum and minimum is 2-2 = 0.  \n",
    "\n",
    "Ex2:  \n",
    "Input: nums = [1,5,0,10,14]  \n",
    "Output: 1  \n",
    "Explanation: Change the array [1,5,0,10,14] to [1,1,0,1,1].   \n",
    "The difference between the maximum and minimum is 1-0 = 1.  \n",
    "\n",
    "Ex3:  \n",
    "Input: nums = [6,6,0,1,1,4,6]  \n",
    "Output: 2  \n",
    "\n",
    "Ex4:  \n",
    "Input: nums = [1,5,6,14,15]  \n",
    "Output: 1"
   ]
  },
  {
   "cell_type": "markdown",
   "metadata": {},
   "source": [
    "* 解題想法:  \n",
    "由於題目要求要找出最小的數值差，因此先假設去掉list中三個數字後，找出最大與最小的差並加入一個list中  \n",
    "因為去除的數字不是最大就是最小的數字，因此頭尾都有可能被去掉，最後找出list中最小的數字就是題目要求的答案"
   ]
  },
  {
   "cell_type": "code",
   "execution_count": null,
   "metadata": {},
   "outputs": [],
   "source": [
    "class Solution:\n",
    "    def minDifference(self, nums: List[int]) -> int:\n",
    "        if len(nums) > 3:\n",
    "            result = []\n",
    "            A = sorted(nums)\n",
    "            max_index = A.index(max(A))\n",
    "            \n",
    "            for n in range(4):\n",
    "                sub = A[n: len(A) -3 + n ]\n",
    "                diff = max(sub) - min(sub)\n",
    "                result.append(diff)\n",
    "            return min(result)\n",
    "        else:\n",
    "            return 0"
   ]
  }
 ],
 "metadata": {
  "kernelspec": {
   "display_name": "Python 3",
   "language": "python",
   "name": "python3"
  },
  "language_info": {
   "codemirror_mode": {
    "name": "ipython",
    "version": 3
   },
   "file_extension": ".py",
   "mimetype": "text/x-python",
   "name": "python",
   "nbconvert_exporter": "python",
   "pygments_lexer": "ipython3",
   "version": "3.7.4"
  }
 },
 "nbformat": 4,
 "nbformat_minor": 2
}
