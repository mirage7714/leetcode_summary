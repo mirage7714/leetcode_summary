{
 "cells": [
  {
   "cell_type": "markdown",
   "metadata": {},
   "source": [
    "# 本題要找出在指定長度的子字串中最多有幾個母音\n",
    "原題目連結: https://leetcode.com/problems/maximum-number-of-vowels-in-a-substring-of-given-length/  \n",
    "\n",
    "Given a string s and an integer k.  \n",
    "\n",
    "Return the maximum number of vowel letters in any substring of s with length k.  \n",
    "\n",
    "Vowel letters in English are (a, e, i, o, u).  \n",
    "\n",
    "範例:  \n",
    "Ex1:  \n",
    "Input: s = \"abciiidef\", k = 3  \n",
    "Output: 3  \n",
    "Explanation: The substring \"iii\" contains 3 vowel letters.  \n",
    "\n",
    "Ex2:  \n",
    "Input: s = \"aeiou\", k = 2  \n",
    "Output: 2  \n",
    "Explanation: Any substring of length 2 contains 2 vowels.  \n",
    "\n",
    "Ex3:  \n",
    "Input: s = \"leetcode\", k = 3  \n",
    "Output: 2  \n",
    "Explanation: \"lee\", \"eet\" and \"ode\" contain 2 vowels.  \n",
    "\n",
    "Ex4:  \n",
    "Input: s = \"rhythms\", k = 4  \n",
    "Output: 0  \n",
    "Explanation: We can see that s doesn't have any vowel letters.  \n",
    "\n",
    "Ex5:  \n",
    "Input: s = \"tryhard\", k = 4  \n",
    "Output: 1"
   ]
  },
  {
   "cell_type": "markdown",
   "metadata": {},
   "source": [
    "* 解題想法:  \n",
    "首先計算出第一個子字串內共有多少個母音，並建立一個list(temp)來存放每個子字串中共有多少個母音，並接著開始檢查下一個字母是否為母音，以及前一個字母是否為母音，並進行調整，最後回傳temp中最大值"
   ]
  },
  {
   "cell_type": "code",
   "execution_count": null,
   "metadata": {},
   "outputs": [],
   "source": [
    "class Solution:\n",
    "    def maxVowels(self, s: str, k: int) -> int:\n",
    "        vowels = ['a','e','i','o','u']\n",
    "        temp = []\n",
    "        result = 0\n",
    "        part = s[0:k]\n",
    "        for p in part:\n",
    "            if p in vowels:\n",
    "                result += 1\n",
    "        temp.append(result)\n",
    "        for m in range(k, len(s)):\n",
    "            t = temp[-1]\n",
    "            if s[m] in vowels:\n",
    "                if s[m-k] not in vowels:\n",
    "                    t += 1\n",
    "            else:\n",
    "                if s[m-k] in vowels:\n",
    "                    t -= 1\n",
    "            temp.append(t)\n",
    "            if temp[-1] == k:\n",
    "                break\n",
    "        return max(temp)"
   ]
  }
 ],
 "metadata": {
  "kernelspec": {
   "display_name": "Python 3",
   "language": "python",
   "name": "python3"
  },
  "language_info": {
   "codemirror_mode": {
    "name": "ipython",
    "version": 3
   },
   "file_extension": ".py",
   "mimetype": "text/x-python",
   "name": "python",
   "nbconvert_exporter": "python",
   "pygments_lexer": "ipython3",
   "version": "3.7.4"
  }
 },
 "nbformat": 4,
 "nbformat_minor": 2
}
