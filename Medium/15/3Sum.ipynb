{
 "cells": [
  {
   "cell_type": "markdown",
   "metadata": {},
   "source": [
    "# 本題要找出是否有三數和為0的組合\n",
    "原題目連結: https://leetcode.com/problems/3sum/  \n",
    "\n",
    "Given an integer array nums, return all the triplets [nums[i], nums[j], nums[k]] such that i != j, i != k, and j != k, and nums[i] + nums[j] + nums[k] == 0.  \n",
    "\n",
    "Notice that the solution set must not contain duplicate triplets.  \n",
    "\n",
    "範例:  \n",
    "Ex1:  \n",
    "Input: nums = [-1,0,1,2,-1,-4]  \n",
    "Output: [[-1,-1,2],[-1,0,1]]  \n",
    "Explanation:   \n",
    "nums[0] + nums[1] + nums[2] = (-1) + 0 + 1 = 0.  \n",
    "nums[1] + nums[2] + nums[4] = 0 + 1 + (-1) = 0.  \n",
    "nums[0] + nums[3] + nums[4] = (-1) + 2 + (-1) = 0.  \n",
    "The distinct triplets are [-1,0,1] and [-1,-1,2].  \n",
    "Notice that the order of the output and the order of the triplets does not matter.  \n",
    "\n",
    "Ex2:  \n",
    "Input: nums = [0,1,1]   \n",
    "Output: []  \n",
    "Explanation: The only possible triplet does not sum up to 0.  \n",
    "\n",
    "Ex3:  \n",
    "Input: nums = [0,0,0]  \n",
    "Output: [[0,0,0]]  \n",
    "Explanation: The only possible triplet sums up to 0."
   ]
  },
  {
   "cell_type": "markdown",
   "metadata": {},
   "source": [
    "* 解題想法:  \n",
    "參考了討論區的作法，這邊使用2 pointer來進行計算，首先將nums進行排序後，接著從頭開始檢查，並將兩個點設定為n+1與最後一個，接著檢查總和與0的關係，如果小於0則將左節點+1，大於0則將右節點-1，直到找到0，或是左右節點交會為止，如果有0的情況，則檢查這個組合是否已經有在結果中了，最後回傳結果"
   ]
  },
  {
   "cell_type": "code",
   "execution_count": null,
   "metadata": {},
   "outputs": [],
   "source": [
    "class Solution:\n",
    "    def threeSum(self, nums: List[int]) -> List[List[int]]:\n",
    "        result = []\n",
    "        if len(nums) >= 3:\n",
    "            nums.sort()\n",
    "            temp = -inf\n",
    "            for n in range(len(nums)):\n",
    "                i = n+1\n",
    "                j = len(nums) -1\n",
    "                t = nums[n]\n",
    "                if t == temp:\n",
    "                    continue\n",
    "                else:\n",
    "                    temp = t\n",
    "                    while i < j:\n",
    "                        if nums[i] + nums[j] + t == 0:\n",
    "                            r = [t, nums[i], nums[j]]\n",
    "                            if not result:\n",
    "                                result.append(r)\n",
    "                            elif result and r not in result:\n",
    "                                result.append(r)\n",
    "                            b = nums[j]\n",
    "                            while j > 0 and nums[j] == b:\n",
    "                                j -= 1\n",
    "                        elif nums[i] + nums[j] + t < 0:\n",
    "                            i += 1\n",
    "                        else:\n",
    "                            j -= 1\n",
    "        return result"
   ]
  }
 ],
 "metadata": {
  "kernelspec": {
   "display_name": "Python 3",
   "language": "python",
   "name": "python3"
  },
  "language_info": {
   "codemirror_mode": {
    "name": "ipython",
    "version": 3
   },
   "file_extension": ".py",
   "mimetype": "text/x-python",
   "name": "python",
   "nbconvert_exporter": "python",
   "pygments_lexer": "ipython3",
   "version": "3.7.4"
  }
 },
 "nbformat": 4,
 "nbformat_minor": 4
}
