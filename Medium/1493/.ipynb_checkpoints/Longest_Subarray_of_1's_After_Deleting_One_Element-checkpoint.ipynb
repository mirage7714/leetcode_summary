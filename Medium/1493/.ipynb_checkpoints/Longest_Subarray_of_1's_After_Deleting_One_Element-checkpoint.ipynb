{
 "cells": [
  {
   "cell_type": "markdown",
   "metadata": {},
   "source": [
    "# 本題要找出在刪除一個數字後可以得到最大的連續為1的array長度為何\n",
    "原題目連結: https://leetcode.com/problems/longest-subarray-of-1s-after-deleting-one-element/  \n",
    "\n",
    "Given a binary array nums, you should delete one element from it.  \n",
    "\n",
    "Return the size of the longest non-empty subarray containing only 1's in the resulting array.  \n",
    "\n",
    "Return 0 if there is no such subarray.  \n",
    "\n",
    "範例:  \n",
    "Ex1:  \n",
    "Input: nums = [1,1,0,1]  \n",
    "Output: 3  \n",
    "Explanation: After deleting the number in position 2, [1,1,1] contains 3 numbers with value of 1's.  \n",
    "\n",
    "Ex2:  \n",
    "Input: nums = [0,1,1,1,0,1,1,0,1]  \n",
    "Output: 5  \n",
    "Explanation: After deleting the number in position 4, [0,1,1,1,1,1,0,1] longest subarray with value of 1's is [1,1,1,1,1].  \n",
    "\n",
    "Ex3:  \n",
    "Input: nums = [1,1,1]  \n",
    "Output: 2  \n",
    "Explanation: You must delete one element.  \n",
    "\n",
    "Ex4:  \n",
    "Input: nums = [1,1,0,0,1,1,1,0,1]  \n",
    "Output: 4  \n",
    "\n",
    "Ex5:  \n",
    "Input: nums = [0,0,0]  \n",
    "Output: 0"
   ]
  },
  {
   "cell_type": "markdown",
   "metadata": {},
   "source": [
    "* 解題想法:  \n",
    "由於一定要刪除一個數字，因此首先判斷在原list中共有多少個0，並將0的位置建成一個list  \n",
    "如果這個list長度小於或等於1，則代表最大的長度為原list減1，若長度大於1以上，則需找出兩個0之間鑽大距離為多少，並加入一個list中  \n",
    "最後回傳這個list中的最大值為何"
   ]
  },
  {
   "cell_type": "code",
   "execution_count": null,
   "metadata": {},
   "outputs": [],
   "source": [
    "class Solution:\n",
    "    def longestSubarray(self, nums: List[int]) -> int:\n",
    "        count = []\n",
    "        zeros = []\n",
    "        result = 0\n",
    "        if 1 in nums: \n",
    "            for n in range(len(nums)):\n",
    "                if nums[n] == 0:\n",
    "                    zeros.append(n)\n",
    "            if len(zeros) <= 1:\n",
    "                result = len(nums) - 1\n",
    "            else:\n",
    "                count.append(zeros[1]-1)\n",
    "                for m in range(1, len(zeros)-1):\n",
    "                    size = zeros[m+1] - zeros[m-1] - 2\n",
    "                    count.append(size)\n",
    "                count.append(len(nums) - zeros[-2] - 2 )\n",
    "                result = max(count)\n",
    "        return result"
   ]
  }
 ],
 "metadata": {
  "kernelspec": {
   "display_name": "Python 3",
   "language": "python",
   "name": "python3"
  },
  "language_info": {
   "codemirror_mode": {
    "name": "ipython",
    "version": 3
   },
   "file_extension": ".py",
   "mimetype": "text/x-python",
   "name": "python",
   "nbconvert_exporter": "python",
   "pygments_lexer": "ipython3",
   "version": "3.7.4"
  }
 },
 "nbformat": 4,
 "nbformat_minor": 2
}
