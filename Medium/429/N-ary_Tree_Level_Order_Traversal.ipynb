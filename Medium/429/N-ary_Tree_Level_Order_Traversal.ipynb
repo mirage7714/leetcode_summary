{
 "cells": [
  {
   "cell_type": "markdown",
   "metadata": {},
   "source": [
    "# 本題要將N-ary tree中每一層的值用list的方式來進行呈現\n",
    "原題目連結: https://leetcode.com/problems/n-ary-tree-level-order-traversal/  \n",
    "\n",
    "Given an n-ary tree, return the level order traversal of its nodes' values.  \n",
    "Nary-Tree input serialization is represented in their level order traversal, each group of children is separated by the null value (See examples).  \n",
    "\n",
    "範例:  \n",
    "Ex1:  \n",
    "Input: root = [1,null,3,2,4,null,5,6]  \n",
    "Output: [[1],[3,2,4],[5,6]]  \n",
    "\n",
    "Ex2:  \n",
    "Input: root = [1,null,2,3,4,5,null,null,6,7,null,8,null,9,10,null,null,11,null,12,null,13,null,null,14]  \n",
    "Output: [[1],[2,3,4,5],[6,7,8,9,10],[11,12,13],[14]]"
   ]
  },
  {
   "cell_type": "markdown",
   "metadata": {},
   "source": [
    "* 解題想法:  \n",
    "由於是要逐層找出值，因此需要使用BFS的方式來進行走訪，首先逐層進行走訪，並將數值放入一個list中，等該層走訪結束後將list放入結果中，並繼續走訪下一層，直到都走訪結束後回傳list"
   ]
  },
  {
   "cell_type": "code",
   "execution_count": null,
   "metadata": {},
   "outputs": [],
   "source": [
    "\"\"\"\n",
    "# Definition for a Node.\n",
    "class Node:\n",
    "    def __init__(self, val=None, children=None):\n",
    "        self.val = val\n",
    "        self.children = children\n",
    "\"\"\"\n",
    "\n",
    "class Solution:\n",
    "    def levelOrder(self, root: 'Node') -> List[List[int]]:\n",
    "        result = []\n",
    "        if root:\n",
    "            stack = [root]\n",
    "            while stack:\n",
    "                val = []\n",
    "                node = []\n",
    "                for s in stack:\n",
    "                    val.append(s.val)\n",
    "                    for child in s.children:\n",
    "                        node.append(child)\n",
    "                result.append(val)\n",
    "                stack.clear()\n",
    "                stack += node\n",
    "        return result"
   ]
  }
 ],
 "metadata": {
  "kernelspec": {
   "display_name": "Python 3",
   "language": "python",
   "name": "python3"
  },
  "language_info": {
   "codemirror_mode": {
    "name": "ipython",
    "version": 3
   },
   "file_extension": ".py",
   "mimetype": "text/x-python",
   "name": "python",
   "nbconvert_exporter": "python",
   "pygments_lexer": "ipython3",
   "version": "3.7.4"
  }
 },
 "nbformat": 4,
 "nbformat_minor": 4
}
