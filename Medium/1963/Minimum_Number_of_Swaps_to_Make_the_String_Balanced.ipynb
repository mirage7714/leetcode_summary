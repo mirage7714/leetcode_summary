{
 "cells": [
  {
   "cell_type": "markdown",
   "metadata": {},
   "source": [
    "# 本題要找出最少要交換幾次才能將括號符合規則\n",
    "原題目連結: https://leetcode.com/problems/minimum-number-of-swaps-to-make-the-string-balanced/  \n",
    "\n",
    "You are given a 0-indexed string s of even length n. The string consists of exactly n / 2 opening brackets '[' and n / 2 closing brackets ']'.  \n",
    "\n",
    "A string is called balanced if and only if:  \n",
    "\n",
    "It is the empty string, or  \n",
    "It can be written as AB, where both A and B are balanced strings, or  \n",
    "It can be written as [C], where C is a balanced string.  \n",
    "You may swap the brackets at any two indices any number of times.  \n",
    "\n",
    "Return the minimum number of swaps to make s balanced.  \n",
    "\n",
    "範例:  \n",
    "Ex1:   \n",
    "Input: s = \"][][\" \n",
    "Output: 1  \n",
    "Explanation: You can make the string balanced by swapping index 0 with index 3.  \n",
    "The resulting string is \"[[]]\".  \n",
    "\n",
    "Ex2:  \n",
    "Input: s = \"]]][[[\" \n",
    "Output: 2  \n",
    "Explanation: You can do the following to make the string balanced:  \n",
    "- Swap index 0 with index 4. s = \"[]][][\".  \n",
    "- Swap index 1 with index 5. s = \"[[][]]\".  \n",
    "The resulting string is \"[[][]]\".  \n",
    "\n",
    "Ex3:  \n",
    "Input: s = \"[]\"  \n",
    "Output: 0  \n",
    "Explanation: The string is already balanced."
   ]
  },
  {
   "cell_type": "markdown",
   "metadata": {},
   "source": [
    "* 解題想法:  \n",
    "首先需要找出共有幾組的括號是不符合規則的，因此使用兩個變數left與right來進行統計，當出現左括號時則將left+1，如果出現右括號時，當left > 0則將left-1，如果left = 0則將right+1，最後將left + right後除2就可以知道有幾組括號不符合規格，而一次交換可以滿足兩組括號，因此再將組數除二後就可以求得答案"
   ]
  },
  {
   "cell_type": "code",
   "execution_count": null,
   "metadata": {},
   "outputs": [],
   "source": [
    "class Solution:\n",
    "    def minSwaps(self, s: str) -> int:\n",
    "        left = 0\n",
    "        right = 0\n",
    "        result = 0\n",
    "        for m in s:\n",
    "            if m == '[':\n",
    "                left += 1\n",
    "            else:\n",
    "                if left > 0:\n",
    "                    left -= 1\n",
    "                else:\n",
    "                    right += 1\n",
    "        groups = int((left + right)/2)\n",
    "        if groups > 0:\n",
    "            if groups % 2 == 0:\n",
    "                result = int(groups/2)\n",
    "            else:\n",
    "                result = int((groups+1)/2)\n",
    "        return result"
   ]
  }
 ],
 "metadata": {
  "kernelspec": {
   "display_name": "Python 3",
   "language": "python",
   "name": "python3"
  },
  "language_info": {
   "codemirror_mode": {
    "name": "ipython",
    "version": 3
   },
   "file_extension": ".py",
   "mimetype": "text/x-python",
   "name": "python",
   "nbconvert_exporter": "python",
   "pygments_lexer": "ipython3",
   "version": "3.7.4"
  }
 },
 "nbformat": 4,
 "nbformat_minor": 4
}
