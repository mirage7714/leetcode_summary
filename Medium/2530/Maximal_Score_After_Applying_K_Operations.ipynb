{
 "cells": [
  {
   "cell_type": "markdown",
   "metadata": {},
   "source": [
    "# 本題要找出在K次的操作之後，最大得分為多少(\\#Array, \\#Heap)\n",
    "原題目連結: https://leetcode.com/problems/maximal-score-after-applying-k-operations/description/  \n",
    "\n",
    "You are given a 0-indexed integer array nums and an integer k. You have a starting score of 0.  \n",
    "\n",
    "In one operation:  \n",
    "\n",
    "choose an index i such that 0 <= i < nums.length,  \n",
    "increase your score by nums[i], and  \n",
    "replace nums[i] with ceil(nums[i] / 3).  \n",
    "Return the maximum possible score you can attain after applying exactly k operations.  \n",
    "\n",
    "The ceiling function ceil(val) is the least integer greater than or equal to val.  \n",
    "\n",
    "範例:  \n",
    "Ex1:　\n",
    "Input: nums = [10,10,10,10,10], k = 5  \n",
    "Output: 50  \n",
    "Explanation: Apply the operation to each array element exactly once. The final score is 10 + 10 + 10 + 10 + 10 = 50.  \n",
    "\n",
    "Ex2:  \n",
    "Input: nums = [1,10,3,3,3], k = 3  \n",
    "Output: 17  \n",
    "Explanation: You can do the following operations:  \n",
    "Operation 1: Select i = 1, so nums becomes [1,4,3,3,3]. Your score increases by 10.  \n",
    "Operation 2: Select i = 1, so nums becomes [1,2,3,3,3]. Your score increases by 4.  \n",
    "Operation 3: Select i = 2, so nums becomes [1,1,1,3,3]. Your score increases by 3.  \n",
    "The final score is 10 + 4 + 3 = 17.  "
   ]
  },
  {
   "cell_type": "markdown",
   "metadata": {},
   "source": [
    "* 解題想法:  \n",
    "首先建立一個heap，並將nums的數值轉為負數後放入heap中，接著用K次循環從heap中取出值並將結果加上取出的值後，更新數值重新放回heap中，最後回傳總得分就是答案"
   ]
  },
  {
   "cell_type": "code",
   "execution_count": null,
   "metadata": {},
   "outputs": [],
   "source": [
    "import heapq\n",
    "\n",
    "class Solution:\n",
    "    def maxKelements(self, nums: List[int], k: int) -> int:\n",
    "        res = 0\n",
    "        temp = []\n",
    "        heapq.heapify(temp)\n",
    "        for n in nums:\n",
    "            heapq.heappush(temp, -n)\n",
    "        for _ in range(k):\n",
    "            n = -heapq.heappop(temp)\n",
    "            res += n\n",
    "            heapq.heappush(temp, -ceil(n/3))\n",
    "        return res"
   ]
  }
 ],
 "metadata": {
  "kernelspec": {
   "display_name": "Python 3",
   "language": "python",
   "name": "python3"
  },
  "language_info": {
   "codemirror_mode": {
    "name": "ipython",
    "version": 3
   },
   "file_extension": ".py",
   "mimetype": "text/x-python",
   "name": "python",
   "nbconvert_exporter": "python",
   "pygments_lexer": "ipython3",
   "version": "3.6.4"
  }
 },
 "nbformat": 4,
 "nbformat_minor": 2
}
