{
 "cells": [
  {
   "cell_type": "markdown",
   "metadata": {},
   "source": [
    "# 本題要將阿拉伯數字轉換為羅馬數字\n",
    "原題目連結: https://leetcode.com/problems/integer-to-roman/  \n",
    "\n",
    "Roman numerals are represented by seven different symbols: I, V, X, L, C, D and M.   \n",
    "\n",
    "Symbol       Value  \n",
    "I             1  \n",
    "V             5  \n",
    "X             10  \n",
    "L             50  \n",
    "C             100  \n",
    "D             500  \n",
    "M             1000  \n",
    "For example, 2 is written as II in Roman numeral, just two one's added together. 12 is written as XII, which is simply X + II. The number 27 is written as XXVII, which is XX + V + II.  \n",
    "Roman numerals are usually written largest to smallest from left to right. However, the numeral for four is not IIII. Instead, the number four is written as IV. Because the one is before the five we subtract it making four. The same principle applies to the number nine, which is written as IX. There are six instances where subtraction is used:  \n",
    "  \n",
    "I can be placed before V (5) and X (10) to make 4 and 9.   \n",
    "X can be placed before L (50) and C (100) to make 40 and 90.   \n",
    "C can be placed before D (500) and M (1000) to make 400 and 900.  \n",
    "Given an integer, convert it to a roman numeral.  \n",
    "\n",
    "範例:  \n",
    "Ex1:  \n",
    "Input: num = 3  \n",
    "Output: \"III\"  \n",
    "Explanation: 3 is represented as 3 ones.  \n",
    "\n",
    "Ex2:  \n",
    "Input: num = 58  \n",
    "Output: \"LVIII\"  \n",
    "Explanation: L = 50, V = 5, III = 3.  \n",
    "\n",
    "Ex3:  \n",
    "Input: num = 1994  \n",
    "Output: \"MCMXCIV\"  \n",
    "Explanation: M = 1000, CM = 900, XC = 90 and IV = 4."
   ]
  },
  {
   "cell_type": "markdown",
   "metadata": {},
   "source": [
    "* 解題想法:   \n",
    "首先將每個字母對應的數值用一個dict進行存放，接著將數字計算的邏輯也建立成一個dict，然後開始從最大值計算，找出商數與餘數，如果商數不為0的話則找出計算規則並轉換為字母並組合起來，並將數值更新為餘數，除術也一併更新，最後直到除數小於1之後則中斷迴圈"
   ]
  },
  {
   "cell_type": "code",
   "execution_count": null,
   "metadata": {},
   "outputs": [],
   "source": [
    "class Solution:\n",
    "    def intToRoman(self, num: int) -> str:\n",
    "        result = ''\n",
    "        start = 1000\n",
    "        chars = {1000:'M',500:'D',100:'C',50:'L', 10:'X',5:'V',1:'I'}\n",
    "        rule = {9: [1,10], 8:[5,3],7:[5,2], 6:[5,1], 5:[5],4:[1,5],3:[3],2:[2],1:[1]}\n",
    "        while True:\n",
    "            d = int(num / start)\n",
    "            l = num % start\n",
    "            if d in rule.keys():\n",
    "                val = rule[d]\n",
    "                base = chars[start]\n",
    "                if len(val) == 1:\n",
    "                    if val[0] == 5:\n",
    "                        result += chars[start * 5]\n",
    "                    else:\n",
    "                        for _ in range(val[0]):\n",
    "                            result += base\n",
    "                else:\n",
    "                    if val[0] > val[1]:\n",
    "                        result += chars[start*5]\n",
    "                        for _ in range(val[1]):\n",
    "                            result += base\n",
    "                    else:\n",
    "                        result += base\n",
    "                        result += chars[start * val[1]]\n",
    "            num = l\n",
    "            start = int(start / 10)\n",
    "            if start < 1:\n",
    "                break\n",
    "        return result   "
   ]
  }
 ],
 "metadata": {
  "kernelspec": {
   "display_name": "Python 3",
   "language": "python",
   "name": "python3"
  },
  "language_info": {
   "codemirror_mode": {
    "name": "ipython",
    "version": 3
   },
   "file_extension": ".py",
   "mimetype": "text/x-python",
   "name": "python",
   "nbconvert_exporter": "python",
   "pygments_lexer": "ipython3",
   "version": "3.7.4"
  }
 },
 "nbformat": 4,
 "nbformat_minor": 4
}
