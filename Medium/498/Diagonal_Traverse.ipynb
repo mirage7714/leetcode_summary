{
 "cells": [
  {
   "cell_type": "markdown",
   "metadata": {},
   "source": [
    "# 本題要找出2D list的對角線走法數值為何\n",
    "原題目連結: https://leetcode.com/problems/diagonal-traverse/  \n",
    "\n",
    "Given an m x n matrix mat, return an array of all the elements of the array in a diagonal order.  \n",
    "\n",
    "範例:  \n",
    "Ex1:  \n",
    "Input: mat = [[1,2,3],[4,5,6],[7,8,9]]  \n",
    "Output: [1,2,4,7,5,3,6,8,9]  \n",
    "\n",
    "Ex2:  \n",
    "Input: mat = [[1,2],[3,4]]  \n",
    "Output: [1,2,3,4]  "
   ]
  },
  {
   "cell_type": "markdown",
   "metadata": {},
   "source": [
    "* 解題想法:  \n",
    "首先由list的右半邊開始進行走訪，在找出對角線的數值後，判斷是否要進行倒轉，如果需要倒轉則將數字順序顛倒後再加入結果中，接著開始走訪list下半部，一樣將對角線數值都找出後在加回結果中"
   ]
  },
  {
   "cell_type": "code",
   "execution_count": null,
   "metadata": {},
   "outputs": [],
   "source": [
    "class Solution:\n",
    "    def findDiagonalOrder(self, mat: List[List[int]]) -> List[int]:\n",
    "        result = []\n",
    "        m = len(mat)\n",
    "        n = len(mat[0])\n",
    "        count = 0\n",
    "        for l in range(n):\n",
    "            temp = []\n",
    "            for i in range(l, -1, -1):\n",
    "                if i < m:\n",
    "                    temp.append(mat[0+i][l-i])\n",
    "            if count % 2 == 0:\n",
    "                result += temp\n",
    "            else:\n",
    "                temp.reverse()\n",
    "                result += temp\n",
    "            count += 1\n",
    "        for a in range(1, m):\n",
    "            temp = []\n",
    "            for b in range(m-a):\n",
    "                if n-b-1 >= 0:\n",
    "                    temp.append(mat[a+b][n-b-1])\n",
    "            if count % 2 == 1:\n",
    "                result += temp\n",
    "            else:\n",
    "                temp.reverse()\n",
    "                result += temp\n",
    "            count += 1\n",
    "        return result"
   ]
  }
 ],
 "metadata": {
  "kernelspec": {
   "display_name": "Python 3",
   "language": "python",
   "name": "python3"
  },
  "language_info": {
   "codemirror_mode": {
    "name": "ipython",
    "version": 3
   },
   "file_extension": ".py",
   "mimetype": "text/x-python",
   "name": "python",
   "nbconvert_exporter": "python",
   "pygments_lexer": "ipython3",
   "version": "3.7.4"
  }
 },
 "nbformat": 4,
 "nbformat_minor": 4
}
