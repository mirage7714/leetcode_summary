{
 "cells": [
  {
   "cell_type": "markdown",
   "metadata": {},
   "source": [
    "# 本題要實作一個字典搜尋的功能，比對的條件是有一個字母不相同的字才算符合\n",
    "原題目連結: https://leetcode.com/problems/implement-magic-dictionary/  \n",
    "\n",
    "Design a data structure that is initialized with a list of different words. Provided a string, you should determine if you can change exactly one character in this string to match any word in the data structure.  \n",
    "\n",
    "Implement the MagicDictionary class:  \n",
    "\n",
    "MagicDictionary() Initializes the object.  \n",
    "void buildDict(String[] dictionary) Sets the data structure with an array of distinct strings dictionary.  \n",
    "bool search(String searchWord) Returns true if you can change exactly one character in searchWord to match any string in the data structure, otherwise returns false.  \n",
    "\n",
    "範例:  \n",
    "Ex1:  \n",
    "Input  \n",
    "[\"MagicDictionary\", \"buildDict\", \"search\", \"search\", \"search\", \"search\"]  \n",
    "[[], [[\"hello\", \"leetcode\"]], [\"hello\"], [\"hhllo\"], [\"hell\"], [\"leetcoded\"]]  \n",
    "Output  \n",
    "[null, null, false, true, false, false]  \n",
    "\n",
    "Explanation  \n",
    "MagicDictionary magicDictionary = new MagicDictionary();  \n",
    "magicDictionary.buildDict([\"hello\", \"leetcode\"]);  \n",
    "magicDictionary.search(\"hello\"); // return False  \n",
    "magicDictionary.search(\"hhllo\"); // We can change the second 'h' to 'e' to match \"hello\" so we return True  \n",
    "magicDictionary.search(\"hell\"); // return False  \n",
    "magicDictionary.search(\"leetcoded\"); // return False"
   ]
  },
  {
   "cell_type": "markdown",
   "metadata": {},
   "source": [
    "* 解題想法:  \n",
    "依題目說明，要判斷是否符合條件的情況為有一個字母的差別，因此先實作了一個比對的function，當只有一個字母差別的時候回傳True，其他情境都回傳False，接著實作建立字典的部分，就是將題目提供的list加入現有字典的list中，最後是搜尋的部分，首先將所有字典中有的字取出，接著用比較的function去確認，如果有True的情境則中斷迴圈並回傳，否則就是在迴圈結束後回傳False"
   ]
  },
  {
   "cell_type": "code",
   "execution_count": null,
   "metadata": {},
   "outputs": [],
   "source": [
    "class MagicDictionary:\n",
    "\n",
    "    def __init__(self):\n",
    "        \"\"\"\n",
    "        Initialize your data structure here.\n",
    "        \"\"\"\n",
    "        self.words = []\n",
    "    \n",
    "    def compare(self, word1, word2):\n",
    "        is_valid = False\n",
    "        if len(word1) == len(word2):\n",
    "            diff = 0\n",
    "            for n in range(len(word1)):\n",
    "                if word1[n] != word2[n]:\n",
    "                    diff += 1\n",
    "            if diff == 1:\n",
    "                is_valid = True\n",
    "        return is_valid\n",
    "    \n",
    "    def buildDict(self, dictionary: List[str]) -> None:\n",
    "        self.words.append(dictionary)\n",
    "\n",
    "    def search(self, searchWord: str) -> bool:\n",
    "        is_valid = False\n",
    "        for word in self.words:\n",
    "            for w in word:\n",
    "                if self.compare(w, searchWord):\n",
    "                    is_valid = True\n",
    "                    break\n",
    "        return is_valid\n",
    "\n",
    "\n",
    "# Your MagicDictionary object will be instantiated and called as such:\n",
    "# obj = MagicDictionary()\n",
    "# obj.buildDict(dictionary)\n",
    "# param_2 = obj.search(searchWord)"
   ]
  }
 ],
 "metadata": {
  "kernelspec": {
   "display_name": "Python 3",
   "language": "python",
   "name": "python3"
  },
  "language_info": {
   "codemirror_mode": {
    "name": "ipython",
    "version": 3
   },
   "file_extension": ".py",
   "mimetype": "text/x-python",
   "name": "python",
   "nbconvert_exporter": "python",
   "pygments_lexer": "ipython3",
   "version": "3.7.4"
  }
 },
 "nbformat": 4,
 "nbformat_minor": 2
}
