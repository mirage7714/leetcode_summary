{
 "cells": [
  {
   "cell_type": "markdown",
   "id": "92fb73d6-c86b-4d02-b242-e9ca1a1f870c",
   "metadata": {},
   "source": [
    "# 本題要找出照字母大小順序的數字排序為何 (\\#Array, \\#Heap )\n",
    "原題目連結: https://leetcode.com/problems/lexicographical-numbers/description/  \n",
    "\n",
    "Given an integer n, return all the numbers in the range [1, n] sorted in lexicographical order.  \n",
    "You must write an algorithm that runs in O(n) time and uses O(1) extra space.   \n",
    "\n",
    "範例:  \n",
    "Ex1:   \n",
    "Input: n = 13  \n",
    "Output: [1,10,11,12,13,2,3,4,5,6,7,8,9]  \n",
    "\n",
    "Ex2:  \n",
    "Input: n = 2  \n",
    "Output: [1,2]  "
   ]
  },
  {
   "cell_type": "markdown",
   "id": "891d1fb2-daa5-4ab4-8248-026035a7debf",
   "metadata": {},
   "source": [
    "* 解題想法:  \n",
    "如果不考慮題目的限制的話，可以直接用heap將數字轉換為字串後放入heap中，再從頭取出字串轉換為整數後放入list中作為答案回傳"
   ]
  },
  {
   "cell_type": "code",
   "execution_count": null,
   "id": "9f94bd97-a720-442f-a013-f5deb217677e",
   "metadata": {},
   "outputs": [],
   "source": [
    "import heapq\n",
    "\n",
    "class Solution:\n",
    "    def lexicalOrder(self, n: int) -> List[int]:\n",
    "        res = []\n",
    "        temp = []\n",
    "        heapq.heapify(temp)\n",
    "        for i in range(1, n+1):\n",
    "            heapq.heappush(temp, str(i))\n",
    "        while temp:\n",
    "            res.append(int(heapq.heappop(temp)))\n",
    "        return res"
   ]
  }
 ],
 "metadata": {
  "kernelspec": {
   "display_name": "Python 3 (ipykernel)",
   "language": "python",
   "name": "python3"
  },
  "language_info": {
   "codemirror_mode": {
    "name": "ipython",
    "version": 3
   },
   "file_extension": ".py",
   "mimetype": "text/x-python",
   "name": "python",
   "nbconvert_exporter": "python",
   "pygments_lexer": "ipython3",
   "version": "3.9.13"
  }
 },
 "nbformat": 4,
 "nbformat_minor": 5
}
