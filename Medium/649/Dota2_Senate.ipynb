{
 "cells": [
  {
   "cell_type": "markdown",
   "metadata": {},
   "source": [
    "# 本題要找出最後哪個陣營會獲勝\n",
    "原題目連結: https://leetcode.com/problems/dota2-senate/  \n",
    "\n",
    "In the world of Dota2, there are two parties: the Radiant and the Dire.  \n",
    "\n",
    "The Dota2 senate consists of senators coming from two parties. Now the Senate wants to decide on a change in the Dota2 game. The voting for this change is a round-based procedure. In each round, each senator can exercise one of the two rights:  \n",
    "\n",
    "Ban one senator's right: A senator can make another senator lose all his rights in this and all the following rounds.  \n",
    "Announce the victory: If this senator found the senators who still have rights to vote are all from the same party, he can announce the victory and decide on the change in the game.\n",
    "Given a string senate representing each senator's party belonging. The character 'R' and 'D' represent the Radiant party and the Dire party. Then if there are n senators, the size of the given string will be n.  \n",
    "\n",
    "The round-based procedure starts from the first senator to the last senator in the given order. This procedure will last until the end of voting. All the senators who have lost their rights will be skipped during the procedure.  \n",
    "\n",
    "Suppose every senator is smart enough and will play the best strategy for his own party. Predict which party will finally announce the victory and change the Dota2 game. The output should be \"Radiant\" or \"Dire\".  \n",
    "\n",
    "範例:  \n",
    "Ex1:  \n",
    "Input: senate = \"RD\"  \n",
    "Output: \"Radiant\"  \n",
    "Explanation:   \n",
    "The first senator comes from Radiant and he can just ban the next senator's right in round 1.   \n",
    "And the second senator can't exercise any rights anymore since his right has been banned.   \n",
    "And in round 2, the first senator can just announce the victory since he is the only guy in the senate who can vote.  \n",
    "\n",
    "Ex2:  \n",
    "Input: senate = \"RDD\"  \n",
    "Output: \"Dire\"  \n",
    "Explanation:   \n",
    "The first senator comes from Radiant and he can just ban the next senator's right in round 1.   \n",
    "And the second senator can't exercise any rights anymore since his right has been banned.   \n",
    "And the third senator comes from Dire and he can ban the first senator's right in round 1.   \n",
    "And in round 2, the third senator can just announce the victory since he is the only guy in the senate who can vote."
   ]
  },
  {
   "cell_type": "markdown",
   "metadata": {},
   "source": [
    "* 解題想法:  \n",
    "首先建立一個list做為要移除的index暫存，用一個字串作為陣營的暫存，然後用一個整數作為移除次數的暫存，接著開始檢查list中的成員，如果目前的陣營與暫存相同，則更新移除的次數，直到陣營與暫存不相同時，如果移除的次數暫存大於0時，則將index放入暫存中，直到暫存值為0時，則更新陣營的暫存並更新移除次數的暫存，等迴圈結束後將index暫存中的所有位置從原本的list中移除，直到只剩下一個陣營時回傳結果"
   ]
  },
  {
   "cell_type": "code",
   "execution_count": null,
   "metadata": {},
   "outputs": [],
   "source": [
    "class Solution:\n",
    "    def predictPartyVictory(self, senate: str) -> str:\n",
    "        party = {'R':'Radiant', 'D':'Dire'}\n",
    "        s = [i for i in senate]\n",
    "        temp = []\n",
    "        count = 0\n",
    "        cur = ''\n",
    "        while True:\n",
    "            for n in range(len(s)):\n",
    "                if n not in temp:\n",
    "                    if s[n] == cur:\n",
    "                        count += 1\n",
    "                    else:\n",
    "                        if count > 0:\n",
    "                            temp.append(n)\n",
    "                            count -= 1\n",
    "                        else:\n",
    "                            cur = s[n]\n",
    "                            count = 1 \n",
    "            if temp:\n",
    "                for m in range(len(temp)-1, -1, -1):\n",
    "                    s.pop(temp[m])\n",
    "            temp.clear()\n",
    "            if max(s) == min(s):\n",
    "                return party[s[0]]"
   ]
  }
 ],
 "metadata": {
  "kernelspec": {
   "display_name": "Python 3",
   "language": "python",
   "name": "python3"
  },
  "language_info": {
   "codemirror_mode": {
    "name": "ipython",
    "version": 3
   },
   "file_extension": ".py",
   "mimetype": "text/x-python",
   "name": "python",
   "nbconvert_exporter": "python",
   "pygments_lexer": "ipython3",
   "version": "3.7.4"
  }
 },
 "nbformat": 4,
 "nbformat_minor": 4
}
