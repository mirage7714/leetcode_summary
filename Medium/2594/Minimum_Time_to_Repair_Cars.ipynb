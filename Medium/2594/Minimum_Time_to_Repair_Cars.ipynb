{
 "cells": [
  {
   "cell_type": "markdown",
   "metadata": {},
   "source": [
    "# 本題要找出修車的最少時間為多少 (\\#Array )\n",
    "原題目連結: https://leetcode.com/problems/minimum-time-to-repair-cars/description/  \n",
    "\n",
    "You are given an integer array ranks representing the ranks of some mechanics. ranksi is the rank of the ith mechanic. A mechanic with a rank r can repair n cars in r * n2 minutes.  \n",
    "You are also given an integer cars representing the total number of cars waiting in the garage to be repaired.  \n",
    "\n",
    "Return the minimum time taken to repair all the cars.  \n",
    "Note: All the mechanics can repair the cars simultaneously.  \n",
    "\n",
    "範例:  \n",
    "Ex1:  \n",
    "Input: ranks = [4,2,3,1], cars = 10  \n",
    "Output: 16  \n",
    "Explanation:   \n",
    "```\n",
    "- The first mechanic will repair two cars. The time required is 4 * 2 * 2 = 16 minutes.  \n",
    "- The second mechanic will repair two cars. The time required is 2 * 2 * 2 = 8 minutes.  \n",
    "- The third mechanic will repair two cars. The time required is 3 * 2 * 2 = 12 minutes.  \n",
    "- The fourth mechanic will repair four cars. The time required is 1 * 4 * 4 = 16 minutes.  \n",
    "It can be proved that the cars cannot be repaired in less than 16 minutes.\n",
    "```\n",
    "Ex2:  \n",
    "Input: ranks = [5,1,8], cars = 6  \n",
    "Output: 16  \n",
    "Explanation:  \n",
    "```\n",
    "- The first mechanic will repair one car. The time required is 5 * 1 * 1 = 5 minutes.\n",
    "- The second mechanic will repair four cars. The time required is 1 * 4 * 4 = 16 minutes.\n",
    "- The third mechanic will repair one car. The time required is 8 * 1 * 1 = 8 minutes.\n",
    "It can be proved that the cars cannot be repaired in less than 16 minutes.​​​​​\n",
    "```"
   ]
  },
  {
   "cell_type": "markdown",
   "metadata": {},
   "source": [
    "* 解題想法:  \n",
    "首先將ranks進行排序，並檢查是否每個ranks都相同，如果相同則直接找出平均數計算時間，如果不相同的話則用heap來放[下一個預估的時間，目前的時間，rank，以及目前修車的數量]，接著開始從下一個最小的時間開始新增，並把數值修改後重新放回heap中，最後回傳目前時間的最大值就是答案"
   ]
  },
  {
   "cell_type": "code",
   "execution_count": null,
   "metadata": {},
   "outputs": [],
   "source": [
    "import heapq\n",
    "\n",
    "class Solution:\n",
    "    def repairCars(self, ranks: List[int], cars: int) -> int:\n",
    "        res = 0\n",
    "        temp = []\n",
    "        ranks.sort()\n",
    "        heapq.heapify(temp)\n",
    "        if ranks[0] == ranks[-1]:\n",
    "            avg = cars // len(ranks)\n",
    "            l = cars % len(ranks)\n",
    "            if l == 0:\n",
    "                res = ranks[0] * avg * avg\n",
    "            else:\n",
    "                res = ranks[0] * (avg+1) * (avg + 1)\n",
    "        else: \n",
    "            for r in range(len(ranks)):\n",
    "                heapq.heappush(temp, [ranks[r], 0, r, 0])\n",
    "            while cars:\n",
    "                cars -= 1\n",
    "                n = heappop(temp)\n",
    "                n[3] += 1\n",
    "                n[1] = n[0]\n",
    "                n[0] = ranks[n[2]] * (n[3] + 1) * (n[3] + 1)\n",
    "                heapq.heappush(temp, n)\n",
    "            while temp:\n",
    "                m = heapq.heappop(temp)\n",
    "                res = max(res, m[1])\n",
    "        return res        "
   ]
  }
 ],
 "metadata": {
  "kernelspec": {
   "display_name": "Python 3",
   "language": "python",
   "name": "python3"
  },
  "language_info": {
   "codemirror_mode": {
    "name": "ipython",
    "version": 3
   },
   "file_extension": ".py",
   "mimetype": "text/x-python",
   "name": "python",
   "nbconvert_exporter": "python",
   "pygments_lexer": "ipython3",
   "version": "3.7.6"
  }
 },
 "nbformat": 4,
 "nbformat_minor": 4
}
