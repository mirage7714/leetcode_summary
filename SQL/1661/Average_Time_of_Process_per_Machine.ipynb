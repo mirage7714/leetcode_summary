{
 "cells": [
  {
   "cell_type": "markdown",
   "id": "e013a822-889f-4924-b1d1-02b5c0bdad61",
   "metadata": {},
   "source": [
    "# 本題要計算每個機器的使用時間 (\\#Rank, \\#GroupBy )\n",
    "原題目連結：https://leetcode.com/problems/average-time-of-process-per-machine/description/  \n",
    "\n",
    "Table: Activity  \n",
    "```\n",
    "+----------------+---------+\n",
    "| Column Name    | Type    |\n",
    "+----------------+---------+\n",
    "| machine_id     | int     |\n",
    "| process_id     | int     |\n",
    "| activity_type  | enum    |\n",
    "| timestamp      | float   |\n",
    "+----------------+---------+\n",
    "```\n",
    "The table shows the user activities for a factory website.  \n",
    "(machine_id, process_id, activity_type) is the primary key (combination of columns with unique values) of this table.  \n",
    "machine_id is the ID of a machine.   \n",
    "process_id is the ID of a process running on the machine with ID machine_id.  \n",
    "activity_type is an ENUM (category) of type ('start', 'end').  \n",
    "timestamp is a float representing the current time in seconds.  \n",
    "'start' means the machine starts the process at the given timestamp and 'end' means the machine ends the process at the given timestamp.  \n",
    "The 'start' timestamp will always be before the 'end' timestamp for every (machine_id, process_id) pair.  \n",
    "It is guaranteed that each (machine_id, process_id) pair has a 'start' and 'end' timestamp.  \n",
    "\n",
    "There is a factory website that has several machines each running the same number of processes. Write a solution to find the average time each machine takes to complete a process.  \n",
    "The time to complete a process is the 'end' timestamp minus the 'start' timestamp. The average time is calculated by the total time to complete every process on the machine divided by the number of processes that were run.  \n",
    "The resulting table should have the machine_id along with the average time as processing_time, which should be rounded to 3 decimal places.  \n",
    "Return the result table in any order.  \n",
    "The result format is in the following example.  \n",
    "\n",
    "範例：  \n",
    "Ex1:  \n",
    "Input:   \n",
    "Activity table:  \n",
    "```\n",
    "+------------+------------+---------------+-----------+\n",
    "| machine_id | process_id | activity_type | timestamp |\n",
    "+------------+------------+---------------+-----------+\n",
    "| 0          | 0          | start         | 0.712     |\n",
    "| 0          | 0          | end           | 1.520     |\n",
    "| 0          | 1          | start         | 3.140     |\n",
    "| 0          | 1          | end           | 4.120     |\n",
    "| 1          | 0          | start         | 0.550     |\n",
    "| 1          | 0          | end           | 1.550     |\n",
    "| 1          | 1          | start         | 0.430     |\n",
    "| 1          | 1          | end           | 1.420     |\n",
    "| 2          | 0          | start         | 4.100     |\n",
    "| 2          | 0          | end           | 4.512     |\n",
    "| 2          | 1          | start         | 2.500     |\n",
    "| 2          | 1          | end           | 5.000     |\n",
    "+------------+------------+---------------+-----------+\n",
    "```\n",
    "Output:  \n",
    "```\n",
    "+------------+-----------------+\n",
    "| machine_id | processing_time |\n",
    "+------------+-----------------+\n",
    "| 0          | 0.894           |\n",
    "| 1          | 0.995           |\n",
    "| 2          | 1.456           |\n",
    "+------------+-----------------+\n",
    "```\n",
    "Explanation:   \n",
    "There are 3 machines running 2 processes each.  \n",
    "Machine 0's average time is ((1.520 - 0.712) + (4.120 - 3.140)) / 2 = 0.894  \n",
    "Machine 1's average time is ((1.550 - 0.550) + (1.420 - 0.430)) / 2 = 0.995   \n",
    "Machine 2's average time is ((4.512 - 4.100) + (5.000 - 2.500)) / 2 = 1.456  "
   ]
  },
  {
   "cell_type": "markdown",
   "id": "37bf5c8f-ea39-41a2-8c36-3ecb9b620808",
   "metadata": {},
   "source": [
    "* 解題想法：  \n",
    "首先找出每個核心運算需要的時間，接著用group by算出每個機器的平均運作時間，最後重新整理成表格"
   ]
  },
  {
   "cell_type": "code",
   "execution_count": null,
   "id": "69f54046-cd1b-4bb3-8058-a7b0c56f3d03",
   "metadata": {},
   "outputs": [],
   "source": [
    "# Write your MySQL query statement below\n",
    "select machine_id, round(avg(diff), 3) as processing_time from (\n",
    "select a.no, a.machine_id, a.process_id, b.timestamp-a.timestamp as diff from\n",
    "(select rank() over(order by machine_id, process_id, timestamp) no, machine_id, process_id, timestamp from activity ) a \n",
    "join \n",
    "(select rank() over (order by machine_id, process_id, timestamp) no, machine_id, process_id, timestamp from activity ) b\n",
    "on a.no = b.no-1 where a.no % 2 =1 ) c group by machine_id"
   ]
  }
 ],
 "metadata": {
  "kernelspec": {
   "display_name": "Python 3 (ipykernel)",
   "language": "python",
   "name": "python3"
  },
  "language_info": {
   "codemirror_mode": {
    "name": "ipython",
    "version": 3
   },
   "file_extension": ".py",
   "mimetype": "text/x-python",
   "name": "python",
   "nbconvert_exporter": "python",
   "pygments_lexer": "ipython3",
   "version": "3.10.9"
  }
 },
 "nbformat": 4,
 "nbformat_minor": 5
}
