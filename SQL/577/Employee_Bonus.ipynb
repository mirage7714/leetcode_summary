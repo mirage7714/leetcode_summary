{
 "cells": [
  {
   "cell_type": "markdown",
   "id": "c7fe3972-e2fd-47e2-bf90-530bd33df6c4",
   "metadata": {},
   "source": [
    "# 本題要找出員工bonus少於1000的名單\n",
    "原題目連結：https://leetcode.com/problems/employee-bonus/description/  \n",
    "\n",
    "Table: Employee  \n",
    "```\n",
    "+-------------+---------+\n",
    "| Column Name | Type    |\n",
    "+-------------+---------+\n",
    "| empId       | int     |\n",
    "| name        | varchar |\n",
    "| supervisor  | int     |\n",
    "| salary      | int     |\n",
    "+-------------+---------+\n",
    "```\n",
    "empId is the column with unique values for this table.  \n",
    "Each row of this table indicates the name and the ID of an employee in addition to their salary and the id of their manager.  \n",
    "\n",
    "Table: Bonus  \n",
    "```\n",
    "+-------------+------+\n",
    "| Column Name | Type |\n",
    "+-------------+------+\n",
    "| empId       | int  |\n",
    "| bonus       | int  |\n",
    "+-------------+------+\n",
    "```\n",
    "empId is the column of unique values for this table.  \n",
    "empId is a foreign key (reference column) to empId from the Employee table.  \n",
    "Each row of this table contains the id of an employee and their respective bonus.  \n",
    "Write a solution to report the name and bonus amount of each employee with a bonus less than 1000.  \n",
    "Return the result table in any order.  \n",
    "\n",
    "The result format is in the following example.  \n",
    "\n",
    "範例：  \n",
    "Ex1:  \n",
    "Input:   \n",
    "Employee table:  \n",
    "```\n",
    "+-------+--------+------------+--------+\n",
    "| empId | name   | supervisor | salary |\n",
    "+-------+--------+------------+--------+\n",
    "| 3     | Brad   | null       | 4000   |\n",
    "| 1     | John   | 3          | 1000   |\n",
    "| 2     | Dan    | 3          | 2000   |\n",
    "| 4     | Thomas | 3          | 4000   |\n",
    "+-------+--------+------------+--------+\n",
    "```\n",
    "Bonus table:  \n",
    "```\n",
    "+-------+-------+\n",
    "| empId | bonus |\n",
    "+-------+-------+\n",
    "| 2     | 500   |\n",
    "| 4     | 2000  |\n",
    "+-------+-------+\n",
    "```\n",
    "Output:   \n",
    "```\n",
    "+------+-------+\n",
    "| name | bonus |\n",
    "+------+-------+\n",
    "| Brad | null  |\n",
    "| John | null  |\n",
    "| Dan  | 500   |\n",
    "+------+-------+\n",
    "```"
   ]
  },
  {
   "cell_type": "markdown",
   "id": "0b1e0f2f-f286-451f-b0ed-7a6b35976a39",
   "metadata": {},
   "source": [
    "* 解題想法：  \n",
    "首先將兩個table進行left join之後，接著找出bonus為null或是小於1000的empId以及bonus就是答案"
   ]
  },
  {
   "cell_type": "markdown",
   "id": "28295d01-2e85-4d21-9252-e5a216be01c7",
   "metadata": {},
   "source": [
    "```\n",
    "# Write your MySQL query statement below  \n",
    "select * from (select name, bonus from Employee left join Bonus on Employee.empId = Bonus.empId) t where bonus is null or bonus < 1000\n",
    "```"
   ]
  }
 ],
 "metadata": {
  "kernelspec": {
   "display_name": "Python 3 (ipykernel)",
   "language": "python",
   "name": "python3"
  },
  "language_info": {
   "codemirror_mode": {
    "name": "ipython",
    "version": 3
   },
   "file_extension": ".py",
   "mimetype": "text/x-python",
   "name": "python",
   "nbconvert_exporter": "python",
   "pygments_lexer": "ipython3",
   "version": "3.9.13"
  }
 },
 "nbformat": 4,
 "nbformat_minor": 5
}
