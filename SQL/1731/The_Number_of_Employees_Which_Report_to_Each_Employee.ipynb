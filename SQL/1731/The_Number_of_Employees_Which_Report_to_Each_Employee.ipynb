{
 "cells": [
  {
   "cell_type": "markdown",
   "id": "a35dfabb-04a7-419c-b3fa-373474e4a3f6",
   "metadata": {},
   "source": [
    "# 本題要找出report員工的數量以及平均年齡 \n",
    "原題目連結: https://leetcode.com/problems/the-number-of-employees-which-report-to-each-employee/description/\n",
    "\n",
    "Table: Employees  \n",
    "```\n",
    "+-------------+----------+\n",
    "| Column Name | Type     |\n",
    "+-------------+----------+\n",
    "| employee_id | int      |\n",
    "| name        | varchar  |\n",
    "| reports_to  | int      |\n",
    "| age         | int      |\n",
    "+-------------+----------+\n",
    "```\n",
    "employee_id is the column with unique values for this table.  \n",
    "This table contains information about the employees and the id of the manager they report to. Some employees do not report to anyone (reports_to is null).   \n",
    "For this problem, we will consider a manager an employee who has at least 1 other employee reporting to them.  \n",
    "Write a solution to report the ids and the names of all managers, the number of employees who report directly to them, and the average age of the reports rounded to the nearest integer.  \n",
    "Return the result table ordered by employee_id.  \n",
    "The result format is in the following example.  \n",
    "\n",
    "範例:  \n",
    "Ex1:  \n",
    "Input:   \n",
    "Employees table:  \n",
    "```\n",
    "+-------------+---------+------------+-----+\n",
    "| employee_id | name    | reports_to | age |\n",
    "+-------------+---------+------------+-----+\n",
    "| 9           | Hercy   | null       | 43  |\n",
    "| 6           | Alice   | 9          | 41  |\n",
    "| 4           | Bob     | 9          | 36  |\n",
    "| 2           | Winston | null       | 37  |\n",
    "+-------------+---------+------------+-----+\n",
    "```\n",
    "Output:   \n",
    "```\n",
    "+-------------+-------+---------------+-------------+\n",
    "| employee_id | name  | reports_count | average_age |\n",
    "+-------------+-------+---------------+-------------+\n",
    "| 9           | Hercy | 2             | 39          |\n",
    "+-------------+-------+---------------+-------------+\n",
    "```\n",
    "Explanation: Hercy has 2 people report directly to him, Alice and Bob. Their average age is (41+36)/2 = 38.5, which is 39 after rounding it to the nearest integer."
   ]
  },
  {
   "cell_type": "markdown",
   "id": "9ff17124-0c89-4452-a205-9de18d2bb0f8",
   "metadata": {},
   "source": [
    "* 解題想法:  \n",
    "首先做出一個表格，將report給相同id的人年齡以及數量計算出來，接著用employee_id與reports_id進行join，就可以得到題目要求的表格"
   ]
  },
  {
   "cell_type": "markdown",
   "id": "d9ac6bd0-9cde-446d-b9ca-dd4e41681f33",
   "metadata": {},
   "source": [
    "#Write your MySQL query statement below\n",
    "select employee_id, name, reports_count, average_age from Employees join \n",
    "( select reports_to,count(reports_to) as reports_count, round(avg(age), 0) as average_age from Employees group by reports_to ) t\n",
    "on employees.employee_id = t.reports_to order by employees.employee_id"
   ]
  }
 ],
 "metadata": {
  "kernelspec": {
   "display_name": "Python 3 (ipykernel)",
   "language": "python",
   "name": "python3"
  },
  "language_info": {
   "codemirror_mode": {
    "name": "ipython",
    "version": 3
   },
   "file_extension": ".py",
   "mimetype": "text/x-python",
   "name": "python",
   "nbconvert_exporter": "python",
   "pygments_lexer": "ipython3",
   "version": "3.9.13"
  }
 },
 "nbformat": 4,
 "nbformat_minor": 5
}
