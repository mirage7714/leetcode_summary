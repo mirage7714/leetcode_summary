{
 "cells": [
  {
   "cell_type": "markdown",
   "id": "8fb41668-96b9-49d6-85c6-91b41de519ed",
   "metadata": {},
   "source": [
    "# 本題要找出哪些顧客的推薦id不為2 (\\#Where )\n",
    "原題目連結：https://leetcode.com/problems/find-customer-referee/description/  \n",
    "\n",
    "Table: Customer  \n",
    "```\n",
    "+-------------+---------+\n",
    "| Column Name | Type    |\n",
    "+-------------+---------+\n",
    "| id          | int     |\n",
    "| name        | varchar |\n",
    "| referee_id  | int     |\n",
    "+-------------+---------+\n",
    "```\n",
    "In SQL, id is the primary key column for this table.  \n",
    "Each row of this table indicates the id of a customer, their name, and the id of the customer who referred them.  \n",
    "Find the names of the customer that are not referred by the customer with id = 2.  \n",
    "Return the result table in any order.  \n",
    "\n",
    "The result format is in the following example.  \n",
    "\n",
    "範例：  \n",
    "Ex1:  \n",
    "Input:   \n",
    "Customer table:  \n",
    "```\n",
    "+----+------+------------+\n",
    "| id | name | referee_id |\n",
    "+----+------+------------+\n",
    "| 1  | Will | null       |\n",
    "| 2  | Jane | null       |\n",
    "| 3  | Alex | 2          |\n",
    "| 4  | Bill | null       |\n",
    "| 5  | Zack | 1          |\n",
    "| 6  | Mark | 2          |\n",
    "+----+------+------------+\n",
    "```\n",
    "Output:  \n",
    "```\n",
    "+------+\n",
    "| name |\n",
    "+------+\n",
    "| Will |\n",
    "| Jane |\n",
    "| Bill |\n",
    "| Zack |\n",
    "+------+\n",
    "```"
   ]
  },
  {
   "cell_type": "markdown",
   "id": "d801e432-2a6d-4a42-bdf5-325b623c1db3",
   "metadata": {},
   "source": [
    "* 解題想法：  \n",
    "由於referee_id有可能為null，因此這邊除了過濾referee_id != 2之外，也加上了referee_id is null的檢查，最後回傳過濾的結果"
   ]
  },
  {
   "cell_type": "markdown",
   "id": "6f7f4cc2-8f28-43dd-9ba4-d6375b5304c7",
   "metadata": {},
   "source": [
    "```\n",
    "# Write your MySQL query statement below\n",
    "select name from Customer where referee_id != 2 or referee_id is null\n",
    "```"
   ]
  }
 ],
 "metadata": {
  "kernelspec": {
   "display_name": "Python 3 (ipykernel)",
   "language": "python",
   "name": "python3"
  },
  "language_info": {
   "codemirror_mode": {
    "name": "ipython",
    "version": 3
   },
   "file_extension": ".py",
   "mimetype": "text/x-python",
   "name": "python",
   "nbconvert_exporter": "python",
   "pygments_lexer": "ipython3",
   "version": "3.10.9"
  }
 },
 "nbformat": 4,
 "nbformat_minor": 5
}
