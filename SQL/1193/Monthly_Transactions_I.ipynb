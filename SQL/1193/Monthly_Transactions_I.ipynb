{
 "cells": [
  {
   "cell_type": "markdown",
   "id": "3be70a63-ddfb-4603-8ee4-23c21b586f64",
   "metadata": {},
   "source": [
    "# 本題要將交易資料用月份以及國家進行分組 (\\#GroupBy, \\#Union )\n",
    "原題目連結: https://leetcode.com/problems/monthly-transactions-i/description/  \n",
    "\n",
    "Table: Transactions   \n",
    "```\n",
    "+---------------+---------+\n",
    "| Column Name   | Type    |\n",
    "+---------------+---------+\n",
    "| id            | int     |\n",
    "| country       | varchar |\n",
    "| state         | enum    |\n",
    "| amount        | int     |\n",
    "| trans_date    | date    |\n",
    "+---------------+---------+\n",
    "```\n",
    "id is the primary key of this table.  \n",
    "The table has information about incoming transactions.  \n",
    "The state column is an enum of type [\"approved\", \"declined\"].  \n",
    "Write an SQL query to find for each month and country, the number of transactions and their total amount, the number of approved transactions and their total amount.  \n",
    "Return the result table in any order.  \n",
    "The query result format is in the following example.  \n",
    "\n",
    "範例:  \n",
    "Ex1:  \n",
    "Input:   \n",
    "Transactions table:  \n",
    "```\n",
    "+------+---------+----------+--------+------------+\n",
    "| id   | country | state    | amount | trans_date |\n",
    "+------+---------+----------+--------+------------+\n",
    "| 121  | US      | approved | 1000   | 2018-12-18 |\n",
    "| 122  | US      | declined | 2000   | 2018-12-19 |\n",
    "| 123  | US      | approved | 2000   | 2019-01-01 |\n",
    "| 124  | DE      | approved | 2000   | 2019-01-07 |\n",
    "+------+---------+----------+--------+------------+\n",
    "```\n",
    "Output:  \n",
    "```\n",
    "+----------+---------+-------------+----------------+--------------------+-----------------------+\n",
    "| month    | country | trans_count | approved_count | trans_total_amount | approved_total_amount |\n",
    "+----------+---------+-------------+----------------+--------------------+-----------------------+\n",
    "| 2018-12  | US      | 2           | 1              | 3000               | 1000                  |\n",
    "| 2019-01  | US      | 1           | 1              | 2000               | 2000                  |\n",
    "| 2019-01  | DE      | 1           | 1              | 2000               | 2000                  |\n",
    "+----------+---------+-------------+----------------+--------------------+-----------------------+\n",
    "```"
   ]
  },
  {
   "cell_type": "markdown",
   "id": "db64f027-7478-47fa-a94a-22ecfeec1b48",
   "metadata": {},
   "source": [
    "* 解題想法:  \n",
    "首先將國家不為null的資料找出來，因為country有可能為null，接著用groupby找出總交易量與通過的交易量，接著找出country為null的資料，並一樣做groupby，最後將兩個table用union all的方式加在一起"
   ]
  },
  {
   "cell_type": "markdown",
   "id": "05c0d25d-8dd9-4d05-8a44-3532f3d6cb04",
   "metadata": {},
   "source": [
    "# Write your MySQL query statement below\n",
    "select total.month, total.country, total.trans_count, ifnull(approve.approved_count, 0) as approved_count, total.trans_total_amount, ifnull(approve.approved_total_amount, 0) as approved_total_amount from \n",
    "(select DATE_FORMAT(trans_date, '%Y-%m') as month, country, count(*) as trans_count, sum(amount) as trans_total_amount from Transactions where country is not null group by month, country ) total\n",
    "left join  \n",
    "(select DATE_FORMAT(trans_date, '%Y-%m') as month, country, count(*) as approved_count, sum(amount) as approved_total_amount from Transactions where state='approved' and country is not null group by month, country) approve\n",
    "on total.country = approve.country and total.month=approve.month\n",
    "union all\n",
    "select total.month, total.country, total.trans_count, ifnull(approve.approved_count, 0) as approved_count, total.trans_total_amount, approve.approved_total_amount from \n",
    "(select DATE_FORMAT(trans_date, '%Y-%m') as month, country, count(*) as trans_count, sum(amount) as trans_total_amount from Transactions where country is null group by month, country ) total\n",
    "left join  \n",
    "(select DATE_FORMAT(trans_date, '%Y-%m') as month, country, count(*) as approved_count, sum(amount) as approved_total_amount from Transactions where state='approved' and country is null group by month, country) approve\n",
    "on total.month=approve.month"
   ]
  }
 ],
 "metadata": {
  "kernelspec": {
   "display_name": "Python 3 (ipykernel)",
   "language": "python",
   "name": "python3"
  },
  "language_info": {
   "codemirror_mode": {
    "name": "ipython",
    "version": 3
   },
   "file_extension": ".py",
   "mimetype": "text/x-python",
   "name": "python",
   "nbconvert_exporter": "python",
   "pygments_lexer": "ipython3",
   "version": "3.9.13"
  }
 },
 "nbformat": 4,
 "nbformat_minor": 5
}
