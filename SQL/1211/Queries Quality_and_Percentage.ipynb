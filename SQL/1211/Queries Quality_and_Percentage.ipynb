{
 "cells": [
  {
   "cell_type": "markdown",
   "id": "c307aad3-ea5a-42cf-ad32-b85dd587bed5",
   "metadata": {},
   "source": [
    "# 本題要算出quality與poor_quality_percentage的數值為何\n",
    "原題目連結：https://leetcode.com/problems/queries-quality-and-percentage/description/  \n",
    "\n",
    "Table: Queries  \n",
    "```\n",
    "+-------------+---------+\n",
    "| Column Name | Type    |\n",
    "+-------------+---------+\n",
    "| query_name  | varchar |\n",
    "| result      | varchar |\n",
    "| position    | int     |\n",
    "| rating      | int     |\n",
    "+-------------+---------+\n",
    "```\n",
    "This table may have duplicate rows.  \n",
    "This table contains information collected from some queries on a database.  \n",
    "The position column has a value from 1 to 500.  \n",
    "The rating column has a value from 1 to 5. Query with rating less than 3 is a poor query.   \n",
    "We define query quality as:  \n",
    "The average of the ratio between query rating and its position.  \n",
    "We also define poor query percentage as:  \n",
    "The percentage of all queries with rating less than 3.  \n",
    "Write a solution to find each query_name, the quality and poor_query_percentage.  \n",
    "Both quality and poor_query_percentage should be rounded to 2 decimal places.  \n",
    "Return the result table in any order.  \n",
    "\n",
    "The result format is in the following example.  \n",
    "\n",
    "範例：  \n",
    "Ex1:  \n",
    "Input:   \n",
    "Queries table:  \n",
    "```\n",
    "+------------+-------------------+----------+--------+\n",
    "| query_name | result            | position | rating |\n",
    "+------------+-------------------+----------+--------+\n",
    "| Dog        | Golden Retriever  | 1        | 5      |\n",
    "| Dog        | German Shepherd   | 2        | 5      |\n",
    "| Dog        | Mule              | 200      | 1      |\n",
    "| Cat        | Shirazi           | 5        | 2      |\n",
    "| Cat        | Siamese           | 3        | 3      |\n",
    "| Cat        | Sphynx            | 7        | 4      |\n",
    "+------------+-------------------+----------+--------+\n",
    "```\n",
    "Output:   \n",
    "```\n",
    "+------------+---------+-----------------------+\n",
    "| query_name | quality | poor_query_percentage |\n",
    "+------------+---------+-----------------------+\n",
    "| Dog        | 2.50    | 33.33                 |\n",
    "| Cat        | 0.66    | 33.33                 |\n",
    "+------------+---------+-----------------------+\n",
    "```\n",
    "Explanation:   \n",
    "Dog queries quality is ((5 / 1) + (5 / 2) + (1 / 200)) / 3 = 2.50  \n",
    "Dog queries poor_ query_percentage is (1 / 3) * 100 = 33.33  \n",
    "\n",
    "Cat queries quality equals ((2 / 5) + (3 / 3) + (4 / 7)) / 3 = 0.66  \n",
    "Cat queries poor_ query_percentage is (1 / 3) * 100 = 33.33  "
   ]
  },
  {
   "cell_type": "markdown",
   "id": "a690660b-ddf5-4a89-996d-6d085574986f",
   "metadata": {},
   "source": [
    "* 解題想法：  \n",
    "首先算出quality後建立成一個temp table，接著另外算出poor_query與總數後建立另一個temp table來記錄poor_query_percentage，最後將兩個table進行join之後就是答案"
   ]
  },
  {
   "cell_type": "markdown",
   "id": "347543e7-7907-4c7f-9835-c6f9aab32a7f",
   "metadata": {},
   "source": [
    "```\n",
    "# Write your MySQL query statement below\n",
    "select b.query_name, b.quality, ifnull(d.poor_query_percentage,0) as poor_query_percentage from\n",
    "(select query_name, round(sum(rating / position)/count(query_name), 2) as quality from Queries where query_name is not null group by query_name) b left join \n",
    "(select a.query_name, round(a.p / c.r * 100, 2) as poor_query_percentage from \n",
    "(select query_name, count(query_name) as r from Queries group by query_name) c left join\n",
    "(select query_name, count(query_name) as p from Queries where rating < 3 group by query_name) a\n",
    "on c.query_name = a.query_name) d\n",
    "on d.query_name = b.query_name\n",
    "```"
   ]
  }
 ],
 "metadata": {
  "kernelspec": {
   "display_name": "Python 3 (ipykernel)",
   "language": "python",
   "name": "python3"
  },
  "language_info": {
   "codemirror_mode": {
    "name": "ipython",
    "version": 3
   },
   "file_extension": ".py",
   "mimetype": "text/x-python",
   "name": "python",
   "nbconvert_exporter": "python",
   "pygments_lexer": "ipython3",
   "version": "3.9.13"
  }
 },
 "nbformat": 4,
 "nbformat_minor": 5
}
