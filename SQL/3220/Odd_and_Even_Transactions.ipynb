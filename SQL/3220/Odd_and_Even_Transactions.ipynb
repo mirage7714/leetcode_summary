{
 "cells": [
  {
   "cell_type": "markdown",
   "id": "50eb3259-36f5-4d03-8c66-b656b1ef90fc",
   "metadata": {},
   "source": [
    "# 本題要找出總量維奇數與偶數的交易並分別加總之後用日期進行排序 (\\#Groupby )\n",
    "原題目連結: https://leetcode.com/problems/odd-and-even-transactions/description/  \n",
    "\n",
    "Table: transactions  \n",
    "```\n",
    "+------------------+------+\n",
    "| Column Name      | Type | \n",
    "+------------------+------+\n",
    "| transaction_id   | int  |\n",
    "| amount           | int  |\n",
    "| transaction_date | date |\n",
    "+------------------+------+\n",
    "```\n",
    "The transactions_id column uniquely identifies each row in this table.  \n",
    "Each row of this table contains the transaction id, amount and transaction date.  \n",
    "Write a solution to find the sum of amounts for odd and even transactions for each day. If there are no odd or even transactions for a specific date, display as 0.  \n",
    "Return the result table ordered by transaction_date in ascending order.  \n",
    "\n",
    "The result format is in the following example.  \n",
    "\n",
    "範例:  \n",
    "Ex1:  \n",
    "Input:  \n",
    "transactions table:  \n",
    "```\n",
    "+----------------+--------+------------------+\n",
    "| transaction_id | amount | transaction_date |\n",
    "+----------------+--------+------------------+\n",
    "| 1              | 150    | 2024-07-01       |\n",
    "| 2              | 200    | 2024-07-01       |\n",
    "| 3              | 75     | 2024-07-01       |\n",
    "| 4              | 300    | 2024-07-02       |\n",
    "| 5              | 50     | 2024-07-02       |\n",
    "| 6              | 120    | 2024-07-03       |\n",
    "+----------------+--------+------------------+\n",
    "```\n",
    "Output:  \n",
    "```\n",
    "+------------------+---------+----------+\n",
    "| transaction_date | odd_sum | even_sum |\n",
    "+------------------+---------+----------+\n",
    "| 2024-07-01       | 75      | 350      |\n",
    "| 2024-07-02       | 0       | 350      |\n",
    "| 2024-07-03       | 0       | 120      |\n",
    "+------------------+---------+----------+\n",
    "```\n",
    "Explanation:  \n",
    "For transaction dates:  \n",
    "2024-07-01:  \n",
    "Sum of amounts for odd transactions: 75  \n",
    "Sum of amounts for even transactions: 150 + 200 = 350  \n",
    "2024-07-02:  \n",
    "Sum of amounts for odd transactions: 0  \n",
    "Sum of amounts for even transactions: 300 + 50 = 350  \n",
    "2024-07-03:    \n",
    "Sum of amounts for odd transactions: 0  \n",
    "Sum of amounts for even transactions: 120  \n",
    "Note: The output table is ordered by transaction_date in ascending order."
   ]
  },
  {
   "cell_type": "markdown",
   "id": "88e03c73-c34d-4d2d-9c1b-2e87b671f6c8",
   "metadata": {},
   "source": [
    "* 解題想法:  \n",
    "首先用所有的distinct transaction_date當成key，接著用奇數與偶數的數值分別進行left join，如果是null時則用coalesce函數取代為0，最後整合出新的table就是答案"
   ]
  },
  {
   "cell_type": "markdown",
   "id": "a1f4b82d-d68b-4f29-aa86-c5058b0824ac",
   "metadata": {},
   "source": [
    "#Write your MySQL query statement below\n",
    "```\n",
    "select t.transaction_date, coalesce(odd.odd_sum, 0) as odd_sum, coalesce(even.even_sum, 0) as even_sum from (select distinct(transaction_date) from transactions ) t\n",
    "left join \n",
    "(select transaction_date, sum(amount) as odd_sum from transactions where amount % 2 != 0 group by transaction_date) odd\n",
    "on t.transaction_date = odd.transaction_date\n",
    "left join\n",
    "(select transaction_date, sum(amount) as even_sum from transactions where amount % 2 = 0 group by transaction_date) even \n",
    "on t.transaction_date = even.transaction_date\n",
    "order by t.transaction_date\n",
    "```"
   ]
  },
  {
   "cell_type": "code",
   "execution_count": null,
   "id": "837f9764-8f91-4307-ac13-9dc3cf36da07",
   "metadata": {},
   "outputs": [],
   "source": []
  }
 ],
 "metadata": {
  "kernelspec": {
   "display_name": "Python 3 (ipykernel)",
   "language": "python",
   "name": "python3"
  },
  "language_info": {
   "codemirror_mode": {
    "name": "ipython",
    "version": 3
   },
   "file_extension": ".py",
   "mimetype": "text/x-python",
   "name": "python",
   "nbconvert_exporter": "python",
   "pygments_lexer": "ipython3",
   "version": "3.9.13"
  }
 },
 "nbformat": 4,
 "nbformat_minor": 5
}
