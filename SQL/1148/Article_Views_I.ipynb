{
 "cells": [
  {
   "cell_type": "markdown",
   "id": "1d40ce1e-1c94-49f9-a5e3-4c7d27d28e0b",
   "metadata": {},
   "source": [
    "# 本題要找出那些作者看過自己的文章 (\\#Where )\n",
    "原題目連結: https://leetcode.com/problems/article-views-i/description/  \n",
    "\n",
    "Table: Views  \n",
    "```\n",
    "+---------------+---------+\n",
    "| Column Name   | Type    |\n",
    "+---------------+---------+\n",
    "| article_id    | int     |\n",
    "| author_id     | int     |\n",
    "| viewer_id     | int     |\n",
    "| view_date     | date    |\n",
    "+---------------+---------+\n",
    "```\n",
    "There is no primary key (column with unique values) for this table, the table may have duplicate rows.  \n",
    "Each row of this table indicates that some viewer viewed an article (written by some author) on some date.   \n",
    "Note that equal author_id and viewer_id indicate the same person.    \n",
    "Write a solution to find all the authors that viewed at least one of their own articles.  \n",
    "Return the result table sorted by id in ascending order.  \n",
    "\n",
    "The result format is in the following example.  \n",
    "\n",
    "範例:  \n",
    "Ex1:  \n",
    "Input:   \n",
    "Views table:  \n",
    "```\n",
    "+------------+-----------+-----------+------------+\n",
    "| article_id | author_id | viewer_id | view_date  |\n",
    "+------------+-----------+-----------+------------+\n",
    "| 1          | 3         | 5         | 2019-08-01 |\n",
    "| 1          | 3         | 6         | 2019-08-02 |\n",
    "| 2          | 7         | 7         | 2019-08-01 |\n",
    "| 2          | 7         | 6         | 2019-08-02 |\n",
    "| 4          | 7         | 1         | 2019-07-22 |\n",
    "| 3          | 4         | 4         | 2019-07-21 |\n",
    "| 3          | 4         | 4         | 2019-07-21 |\n",
    "+------------+-----------+-----------+------------+\n",
    "```\n",
    "Output:  \n",
    "```\n",
    "+------+\n",
    "| id   |\n",
    "+------+\n",
    "| 4    |\n",
    "| 7    |\n",
    "+------+\n",
    "```"
   ]
  },
  {
   "cell_type": "markdown",
   "id": "0a0b2376-1d97-4173-a370-7def198d600c",
   "metadata": {},
   "source": [
    "* 解題想法:  \n",
    "首先找出author_id與viewer_id相同的人，接著做distinct之後進行排序就是答案"
   ]
  },
  {
   "cell_type": "markdown",
   "id": "8be59fd1-43df-48ef-8227-dc76c75dc084",
   "metadata": {},
   "source": [
    "```\n",
    "# Write your MySQL query statement below\n",
    "select distinct(author_id) as id from Views where author_id = viewer_id order by id \n",
    "```"
   ]
  }
 ],
 "metadata": {
  "kernelspec": {
   "display_name": "Python 3 (ipykernel)",
   "language": "python",
   "name": "python3"
  },
  "language_info": {
   "codemirror_mode": {
    "name": "ipython",
    "version": 3
   },
   "file_extension": ".py",
   "mimetype": "text/x-python",
   "name": "python",
   "nbconvert_exporter": "python",
   "pygments_lexer": "ipython3",
   "version": "3.9.13"
  }
 },
 "nbformat": 4,
 "nbformat_minor": 5
}
