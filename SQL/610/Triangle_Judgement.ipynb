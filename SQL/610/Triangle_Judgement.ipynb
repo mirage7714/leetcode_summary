{
 "cells": [
  {
   "cell_type": "markdown",
   "id": "9db5ffac-136e-4971-afdc-77755bacdc2f",
   "metadata": {},
   "source": [
    "# 本題要判斷是否三邊長可以組成三角形 (\\#Case )\n",
    "原題目連結: https://leetcode.com/problems/triangle-judgement/description/  \n",
    "\n",
    "Table: Triangle  \n",
    "```\n",
    "+-------------+------+\n",
    "| Column Name | Type |\n",
    "+-------------+------+\n",
    "| x           | int  |\n",
    "| y           | int  |\n",
    "| z           | int  |\n",
    "+-------------+------+\n",
    "```\n",
    "In SQL, (x, y, z) is the primary key column for this table.  \n",
    "Each row of this table contains the lengths of three line segments.  \n",
    "Report for every three line segments whether they can form a triangle.  \n",
    "Return the result table in any order.  \n",
    "\n",
    "The result format is in the following example.  \n",
    "\n",
    "範例:  \n",
    "Ex1:  \n",
    "Input:   \n",
    "Triangle table:  \n",
    "```\n",
    "+----+----+----+\n",
    "| x  | y  | z  |\n",
    "+----+----+----+\n",
    "| 13 | 15 | 30 |\n",
    "| 10 | 20 | 15 |\n",
    "+----+----+----+\n",
    "```\n",
    "Output:  \n",
    "```\n",
    "+----+----+----+----------+\n",
    "| x  | y  | z  | triangle |\n",
    "+----+----+----+----------+\n",
    "| 13 | 15 | 30 | No       |\n",
    "| 10 | 20 | 15 | Yes      |\n",
    "+----+----+----+----------+\n",
    "```"
   ]
  },
  {
   "cell_type": "markdown",
   "id": "87081b9f-3fd5-4eb5-90b2-d041b67df871",
   "metadata": {},
   "source": [
    "* 解題想法:  \n",
    "三邊常要能組成三角形，需要滿足任兩邊長總和大於第三邊，因此這邊用case when的方式，檢查三邊是否符合條件，如果符合則為Yes，否則為No"
   ]
  },
  {
   "cell_type": "markdown",
   "id": "9807aec9-56bd-4108-b06b-49d75e860953",
   "metadata": {},
   "source": [
    "```\n",
    "# Write your MySQL query statement below\n",
    "select *, case when x + y > z and y + z > x and x + z > y then 'Yes' else 'No' end as triangle from Triangle\n",
    "```"
   ]
  }
 ],
 "metadata": {
  "kernelspec": {
   "display_name": "Python 3 (ipykernel)",
   "language": "python",
   "name": "python3"
  },
  "language_info": {
   "codemirror_mode": {
    "name": "ipython",
    "version": 3
   },
   "file_extension": ".py",
   "mimetype": "text/x-python",
   "name": "python",
   "nbconvert_exporter": "python",
   "pygments_lexer": "ipython3",
   "version": "3.9.13"
  }
 },
 "nbformat": 4,
 "nbformat_minor": 5
}
