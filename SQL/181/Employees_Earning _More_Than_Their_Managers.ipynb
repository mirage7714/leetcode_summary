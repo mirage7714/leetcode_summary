{
 "cells": [
  {
   "cell_type": "markdown",
   "id": "a68aa836-cdfc-4178-9dff-a738ea5982b1",
   "metadata": {},
   "source": [
    "# 本題要找出薪水比主管高的人有哪些 (\\#TempTable )\n",
    "原題目連結：https://leetcode.com/problems/employees-earning-more-than-their-managers/description/  \n",
    "\n",
    "Table: Employee  \n",
    "```\n",
    "+-------------+---------+\n",
    "| Column Name | Type    |\n",
    "+-------------+---------+\n",
    "| id          | int     |\n",
    "| name        | varchar |\n",
    "| salary      | int     |\n",
    "| managerId   | int     |\n",
    "+-------------+---------+\n",
    "```\n",
    "id is the primary key (column with unique values) for this table.  \n",
    "Each row of this table indicates the ID of an employee, their name, salary, and the ID of their manager.  \n",
    "Write a solution to find the employees who earn more than their managers.  \n",
    "Return the result table in any order.  \n",
    "\n",
    "The result format is in the following example.  \n",
    "\n",
    "範例：  \n",
    "Ex1:  \n",
    "Input:   \n",
    "Employee table:  \n",
    "```\n",
    "+----+-------+--------+-----------+\n",
    "| id | name  | salary | managerId |\n",
    "+----+-------+--------+-----------+\n",
    "| 1  | Joe   | 70000  | 3         |\n",
    "| 2  | Henry | 80000  | 4         |\n",
    "| 3  | Sam   | 60000  | Null      |\n",
    "| 4  | Max   | 90000  | Null      |\n",
    "+----+-------+--------+-----------+\n",
    "```\n",
    "Output:  \n",
    "```\n",
    "+----------+\n",
    "| Employee |\n",
    "+----------+\n",
    "| Joe      |\n",
    "+----------+\n",
    "```\n",
    "Explanation: Joe is the only employee who earns more than his manager."
   ]
  },
  {
   "cell_type": "markdown",
   "id": "f48e956d-aa6d-484d-b55a-149a49e31721",
   "metadata": {},
   "source": [
    "* 解題想法：  \n",
    "先建立一個temp table，用來把主管的薪水也加到table中，接著過濾薪水比主管高的人，將名字欄位重新命名就是答案"
   ]
  },
  {
   "cell_type": "markdown",
   "id": "4155623d-3d93-49e0-99be-6b419cb38ba6",
   "metadata": {},
   "source": [
    "```\n",
    "# Write your MySQL query statement below\n",
    "select name as Employee from \n",
    "(select name, Employee.salary, t.salary as boss from Employee left join (select id, salary from Employee) t on Employee.managerId = t.id) sal\n",
    "where salary > boss\n",
    "```"
   ]
  }
 ],
 "metadata": {
  "kernelspec": {
   "display_name": "Python 3 (ipykernel)",
   "language": "python",
   "name": "python3"
  },
  "language_info": {
   "codemirror_mode": {
    "name": "ipython",
    "version": 3
   },
   "file_extension": ".py",
   "mimetype": "text/x-python",
   "name": "python",
   "nbconvert_exporter": "python",
   "pygments_lexer": "ipython3",
   "version": "3.10.9"
  }
 },
 "nbformat": 4,
 "nbformat_minor": 5
}
