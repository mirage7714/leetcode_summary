{
 "cells": [
  {
   "cell_type": "markdown",
   "id": "f5daf2c9-23d3-41d8-a6f7-fead5bbadb3c",
   "metadata": {},
   "source": [
    "# 本題要找出運送準點的比例有多少 (\\#Partition, \\#Case )\n",
    "原題目連結: https://leetcode.com/problems/immediate-food-delivery-ii/description/  \n",
    "\n",
    "Table: Delivery  \n",
    "```\n",
    "+-----------------------------+---------+\n",
    "| Column Name                 | Type    |\n",
    "+-----------------------------+---------+\n",
    "| delivery_id                 | int     |\n",
    "| customer_id                 | int     |\n",
    "| order_date                  | date    |\n",
    "| customer_pref_delivery_date | date    |\n",
    "+-----------------------------+---------+\n",
    "```\n",
    "delivery_id is the column of unique values of this table.  \n",
    "The table holds information about food delivery to customers that make orders at some date and specify a preferred delivery date (on the same order date or after it).  \n",
    "If the customer's preferred delivery date is the same as the order date, then the order is called immediate; otherwise, it is called scheduled.    \n",
    "The first order of a customer is the order with the earliest order date that the customer made. It is guaranteed that a customer has precisely one first order.  \n",
    "Write a solution to find the percentage of immediate orders in the first orders of all customers, rounded to 2 decimal places.  \n",
    "\n",
    "The result format is in the following example.  \n",
    "範例:  \n",
    "Ex1:  \n",
    "Input:   \n",
    "Delivery table:  \n",
    "```\n",
    "+-------------+-------------+------------+-----------------------------+\n",
    "| delivery_id | customer_id | order_date | customer_pref_delivery_date |\n",
    "+-------------+-------------+------------+-----------------------------+\n",
    "| 1           | 1           | 2019-08-01 | 2019-08-02                  |\n",
    "| 2           | 2           | 2019-08-02 | 2019-08-02                  |\n",
    "| 3           | 1           | 2019-08-11 | 2019-08-12                  |\n",
    "| 4           | 3           | 2019-08-24 | 2019-08-24                  |\n",
    "| 5           | 3           | 2019-08-21 | 2019-08-22                  |\n",
    "| 6           | 2           | 2019-08-11 | 2019-08-13                  |\n",
    "| 7           | 4           | 2019-08-09 | 2019-08-09                  |\n",
    "+-------------+-------------+------------+-----------------------------+\n",
    "```\n",
    "Output:  \n",
    "```\n",
    "+----------------------+\n",
    "| immediate_percentage |\n",
    "+----------------------+\n",
    "| 50.00                |\n",
    "+----------------------+\n",
    "```\n",
    "Explanation:   \n",
    "The customer id 1 has a first order with delivery id 1 and it is scheduled.  \n",
    "The customer id 2 has a first order with delivery id 2 and it is immediate.  \n",
    "The customer id 3 has a first order with delivery id 5 and it is scheduled.  \n",
    "The customer id 4 has a first order with delivery id 7 and it is immediate.  \n",
    "Hence, half the customers have immediate first orders."
   ]
  },
  {
   "cell_type": "markdown",
   "id": "3d6c8df4-1b9a-4afc-a26a-00460d50949d",
   "metadata": {},
   "source": [
    "* 解題想法:  \n",
    "首先為了找出每個customer_id的第一筆訂單，需要先用partition的方式加上row number後取出每個為1的row number，接著用case when的方式將是否準時送達的狀態新增一個status欄位，最後算出準點的比例為多少"
   ]
  },
  {
   "cell_type": "markdown",
   "id": "10f8f994-bfa7-43b6-89aa-6b1a30117e26",
   "metadata": {},
   "source": [
    "```\n",
    "# Write your MySQL query statement below\n",
    "select round(sum(status)/count(status) * 100, 2) as immediate_percentage from  (\n",
    "select *, case when order_date = customer_pref_delivery_date then 1 else 0 end as status from \n",
    "(select * from (\n",
    "    select *, ROW_NUMBER() over (PARTITION BY customer_id order by order_date) as n from Delivery \n",
    ") t where t.n = 1 ) s \n",
    ") u\n",
    "        \n",
    "```"
   ]
  },
  {
   "cell_type": "code",
   "execution_count": null,
   "id": "782fc2f1-ce16-4baa-b0da-3efec8e57e60",
   "metadata": {},
   "outputs": [],
   "source": []
  }
 ],
 "metadata": {
  "kernelspec": {
   "display_name": "Python 3 (ipykernel)",
   "language": "python",
   "name": "python3"
  },
  "language_info": {
   "codemirror_mode": {
    "name": "ipython",
    "version": 3
   },
   "file_extension": ".py",
   "mimetype": "text/x-python",
   "name": "python",
   "nbconvert_exporter": "python",
   "pygments_lexer": "ipython3",
   "version": "3.9.13"
  }
 },
 "nbformat": 4,
 "nbformat_minor": 5
}
