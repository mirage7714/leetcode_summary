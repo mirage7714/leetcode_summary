{
 "cells": [
  {
   "cell_type": "markdown",
   "id": "fa4f4897-bb91-4e62-a2b8-74b9418b0ba8",
   "metadata": {},
   "source": [
    "# 本題要找出在前30天內有活動的用戶有多少\n",
    "原題目連結: https://leetcode.com/problems/user-activity-for-the-past-30-days-i/description/  \n",
    "\n",
    "Table: Activity  \n",
    "```\n",
    "+---------------+---------+\n",
    "| Column Name   | Type    |\n",
    "+---------------+---------+\n",
    "| user_id       | int     |\n",
    "| session_id    | int     |\n",
    "| activity_date | date    |\n",
    "| activity_type | enum    |\n",
    "+---------------+---------+\n",
    "```\n",
    "This table may have duplicate rows.   \n",
    "The activity_type column is an ENUM (category) of type ('open_session', 'end_session', 'scroll_down', 'send_message').  \n",
    "The table shows the user activities for a social media website.   \n",
    "Note that each session belongs to exactly one user.  \n",
    "Write a solution to find the daily active user count for a period of 30 days ending 2019-07-27 inclusively. A user was active on someday if they made at least one activity on that day.  \n",
    "Return the result table in any order.  \n",
    "The result format is in the following example.  \n",
    "\n",
    "範例:  \n",
    "Ex1:  \n",
    "Input:   \n",
    "Activity table:  \n",
    "```\n",
    "+---------+------------+---------------+---------------+\n",
    "| user_id | session_id | activity_date | activity_type |\n",
    "+---------+------------+---------------+---------------+\n",
    "| 1       | 1          | 2019-07-20    | open_session  |\n",
    "| 1       | 1          | 2019-07-20    | scroll_down   |\n",
    "| 1       | 1          | 2019-07-20    | end_session   |\n",
    "| 2       | 4          | 2019-07-20    | open_session  |\n",
    "| 2       | 4          | 2019-07-21    | send_message  |\n",
    "| 2       | 4          | 2019-07-21    | end_session   |\n",
    "| 3       | 2          | 2019-07-21    | open_session  |\n",
    "| 3       | 2          | 2019-07-21    | send_message  |\n",
    "| 3       | 2          | 2019-07-21    | end_session   |\n",
    "| 4       | 3          | 2019-06-25    | open_session  |\n",
    "| 4       | 3          | 2019-06-25    | end_session   |\n",
    "+---------+------------+---------------+---------------+\n",
    "```\n",
    "Output:   \n",
    "```\n",
    "+------------+--------------+ \n",
    "| day        | active_users |\n",
    "+------------+--------------+ \n",
    "| 2019-07-20 | 2            |\n",
    "| 2019-07-21 | 2            |\n",
    "+------------+--------------+ \n",
    "```\n",
    "Explanation: Note that we do not care about days with zero active users"
   ]
  },
  {
   "cell_type": "markdown",
   "id": "66b1c2ea-115f-46d2-8776-436e363ab795",
   "metadata": {},
   "source": [
    "* 解題想法:  \n",
    "這邊用了datediff的函數來找出30天內的紀錄，但要注意的是這個也會包含後30天，所以需要加上一個是activity_date要小於或等於指定的時間，最後用groupby的方式找出有多少user_id就是答案"
   ]
  },
  {
   "cell_type": "markdown",
   "id": "59d8f30f-b499-49b0-a58b-82f4833325bd",
   "metadata": {},
   "source": [
    "```\n",
    "# Write your MySQL query statement below\n",
    "select activity_date as day, count(distinct(user_id)) as active_users from Activity \n",
    "where datediff('2019-07-27', activity_date) < 30 and activity_date <= '2019-07-27'\n",
    "group by activity_date\n",
    "```"
   ]
  }
 ],
 "metadata": {
  "kernelspec": {
   "display_name": "Python 3 (ipykernel)",
   "language": "python",
   "name": "python3"
  },
  "language_info": {
   "codemirror_mode": {
    "name": "ipython",
    "version": 3
   },
   "file_extension": ".py",
   "mimetype": "text/x-python",
   "name": "python",
   "nbconvert_exporter": "python",
   "pygments_lexer": "ipython3",
   "version": "3.9.13"
  }
 },
 "nbformat": 4,
 "nbformat_minor": 5
}
