{
 "cells": [
  {
   "cell_type": "markdown",
   "id": "021f7b07-e819-4e28-b233-3a4622bca082",
   "metadata": {},
   "source": [
    "# 本題要算出每個產品的平均成本為多少 (\\#GroupBy )\n",
    "原題目連結：https://leetcode.com/problems/average-selling-price/description/  \n",
    "\n",
    "Table: Prices  \n",
    "```\n",
    "+---------------+---------+\n",
    "| Column Name   | Type    |\n",
    "+---------------+---------+\n",
    "| product_id    | int     |\n",
    "| start_date    | date    |\n",
    "| end_date      | date    |\n",
    "| price         | int     |\n",
    "+---------------+---------+\n",
    "```\n",
    "(product_id, start_date, end_date) is the primary key (combination of columns with unique values) for this table.  \n",
    "Each row of this table indicates the price of the product_id in the period from start_date to end_date.  \n",
    "For each product_id there will be no two overlapping periods. That means there will be no two intersecting periods for the same product_id.  \n",
    "Table: UnitsSold  \n",
    "```\n",
    "+---------------+---------+\n",
    "| Column Name   | Type    |\n",
    "+---------------+---------+\n",
    "| product_id    | int     |\n",
    "| purchase_date | date    |\n",
    "| units         | int     |\n",
    "+---------------+---------+\n",
    "```\n",
    "This table may contain duplicate rows.  \n",
    "Each row of this table indicates the date, units, and product_id of each product sold.   \n",
    "Write a solution to find the average selling price for each product. average_price should be rounded to 2 decimal places. If a product does not have any sold units, its average selling price is assumed to be 0.  \n",
    "Return the result table in any order.  \n",
    "The result format is in the following example.  \n",
    "\n",
    "範例：  \n",
    "Ex1:  \n",
    "Input:   \n",
    "Prices table:  \n",
    "```\n",
    "+------------+------------+------------+--------+\n",
    "| product_id | start_date | end_date   | price  |\n",
    "+------------+------------+------------+--------+\n",
    "| 1          | 2019-02-17 | 2019-02-28 | 5      |\n",
    "| 1          | 2019-03-01 | 2019-03-22 | 20     |\n",
    "| 2          | 2019-02-01 | 2019-02-20 | 15     |\n",
    "| 2          | 2019-02-21 | 2019-03-31 | 30     |\n",
    "+------------+------------+------------+--------+\n",
    "```\n",
    "UnitsSold table:  \n",
    "```\n",
    "+------------+---------------+-------+\n",
    "| product_id | purchase_date | units |\n",
    "+------------+---------------+-------+\n",
    "| 1          | 2019-02-25    | 100   |\n",
    "| 1          | 2019-03-01    | 15    |\n",
    "| 2          | 2019-02-10    | 200   |\n",
    "| 2          | 2019-03-22    | 30    |\n",
    "+------------+---------------+-------+\n",
    "```\n",
    "Output:  \n",
    "```\n",
    "+------------+---------------+\n",
    "| product_id | average_price |\n",
    "+------------+---------------+\n",
    "| 1          | 6.96          |\n",
    "| 2          | 16.96         |\n",
    "+------------+---------------+\n",
    "```\n",
    "Explanation:   \n",
    "Average selling price = Total Price of Product / Number of products sold.  \n",
    "Average selling price for product 1 = ((100 * 5) + (15 * 20)) / 115 = 6.96  \n",
    "Average selling price for product 2 = ((200 * 15) + (30 * 30)) / 230 = 16.96"
   ]
  },
  {
   "cell_type": "markdown",
   "id": "bb452868-1090-479c-8799-61104e0100da",
   "metadata": {},
   "source": [
    "* 解題想法：  \n",
    "首先找出每個區間的產品售價為多少，並算出每個產品的平均值，接著用每個產品的ID去找出對應的平均售價，如果沒有賣出的產品則補0"
   ]
  },
  {
   "cell_type": "code",
   "execution_count": null,
   "id": "4f756f46-cf06-468f-8abb-512061bee4f1",
   "metadata": {},
   "outputs": [],
   "source": [
    "# Write your MySQL query statement below\n",
    "select product_id, ifnull(average_price, 0) as average_price from (\n",
    "select id.product_id, p.average_price from (select distinct(product_id) as product_id from Prices) id left join (\n",
    "select product_id, round(sum(price * units) / sum(units), 2) as average_price from (\n",
    "select UnitsSold.product_id, UnitsSold.units, Prices.price from UnitsSold join Prices on (UnitsSold.purchase_date >= Prices.start_date and UnitsSold.purchase_date <= end_date and UnitsSold.product_id = Prices.product_id)) c group by product_id ) p\n",
    "on id.product_id = p.product_id) price"
   ]
  }
 ],
 "metadata": {
  "kernelspec": {
   "display_name": "Python 3 (ipykernel)",
   "language": "python",
   "name": "python3"
  },
  "language_info": {
   "codemirror_mode": {
    "name": "ipython",
    "version": 3
   },
   "file_extension": ".py",
   "mimetype": "text/x-python",
   "name": "python",
   "nbconvert_exporter": "python",
   "pygments_lexer": "ipython3",
   "version": "3.10.9"
  }
 },
 "nbformat": 4,
 "nbformat_minor": 5
}
