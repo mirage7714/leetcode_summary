{
 "cells": [
  {
   "cell_type": "markdown",
   "id": "9d862e9d-6cb6-4b66-ab30-af9043c28850",
   "metadata": {},
   "source": [
    "# 本題要找出誰有最多的朋友邀請 \n",
    "原題目連結: https://leetcode.com/problems/friend-requests-ii-who-has-the-most-friends/description/  \n",
    "\n",
    "Table: RequestAccepted  \n",
    "```\n",
    "+----------------+---------+\n",
    "| Column Name    | Type    |\n",
    "+----------------+---------+\n",
    "| requester_id   | int     |\n",
    "| accepter_id    | int     |\n",
    "| accept_date    | date    |\n",
    "+----------------+---------+\n",
    "```\n",
    "(requester_id, accepter_id) is the primary key (combination of columns with unique values) for this table.  \n",
    "This table contains the ID of the user who sent the request, the ID of the user who received the request, and the date when the request was accepted.  \n",
    "Write a solution to find the people who have the most friends and the most friends number.  \n",
    "The test cases are generated so that only one person has the most friends.  \n",
    "The result format is in the following example.  \n",
    "\n",
    "範例:  \n",
    "Ex1:　\n",
    "Input:  \n",
    "RequestAccepted table:  \n",
    "```\n",
    "+--------------+-------------+-------------+\n",
    "| requester_id | accepter_id | accept_date |\n",
    "+--------------+-------------+-------------+\n",
    "| 1            | 2           | 2016/06/03  |\n",
    "| 1            | 3           | 2016/06/08  |\n",
    "| 2            | 3           | 2016/06/08  |\n",
    "| 3            | 4           | 2016/06/09  |\n",
    "+--------------+-------------+-------------+\n",
    "```\n",
    "Output:  \n",
    "```\n",
    "+----+-----+\n",
    "| id | num |\n",
    "+----+-----+\n",
    "| 3  | 3   |\n",
    "+----+-----+\n",
    "```\n",
    "Explanation:   \n",
    "The person with id 3 is a friend of people 1, 2, and 4, so he has three friends in total, which is the most number than any others."
   ]
  },
  {
   "cell_type": "markdown",
   "id": "08b73af8-b080-43d6-9ed9-77e5aa3be4b3",
   "metadata": {},
   "source": [
    "* 解題想法:  \n",
    "首先將requester_id與accepter_id用union all建成一個table，接著用groupby找出每個id出現的次數，最後找出id出現次數最多的就是答案"
   ]
  },
  {
   "cell_type": "markdown",
   "id": "cbe0b5cc-b5b4-462b-b7e4-f47a049adfa6",
   "metadata": {},
   "source": [
    "```\n",
    "# Write your MySQL query statement below \n",
    "select id, count(id) as num from\n",
    "(select requester_id as id from RequestAccepted union all select accepter_id as id from RequestAccepted ) a\n",
    "group by id order by num desc limit 1\n",
    "```"
   ]
  }
 ],
 "metadata": {
  "kernelspec": {
   "display_name": "Python 3 (ipykernel)",
   "language": "python",
   "name": "python3"
  },
  "language_info": {
   "codemirror_mode": {
    "name": "ipython",
    "version": 3
   },
   "file_extension": ".py",
   "mimetype": "text/x-python",
   "name": "python",
   "nbconvert_exporter": "python",
   "pygments_lexer": "ipython3",
   "version": "3.9.13"
  }
 },
 "nbformat": 4,
 "nbformat_minor": 5
}
