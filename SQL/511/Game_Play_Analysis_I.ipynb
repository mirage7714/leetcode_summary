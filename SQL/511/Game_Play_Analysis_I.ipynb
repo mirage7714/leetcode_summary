{
 "cells": [
  {
   "cell_type": "markdown",
   "id": "a3567efc-6fc9-409d-9949-13e8ae64b110",
   "metadata": {},
   "source": [
    "# 本題要找出使用者第一次登入的時間 (\\#Partition )\n",
    "原題目連結: https://leetcode.com/problems/game-play-analysis-i/description/  \n",
    "\n",
    "Table: Activity  \n",
    "```\n",
    "+--------------+---------+\n",
    "| Column Name  | Type    |\n",
    "+--------------+---------+\n",
    "| player_id    | int     |\n",
    "| device_id    | int     |\n",
    "| event_date   | date    |\n",
    "| games_played | int     |\n",
    "+--------------+---------+\n",
    "```\n",
    "(player_id, event_date) is the primary key (combination of columns with unique values) of this table.  \n",
    "This table shows the activity of players of some games.  \n",
    "Each row is a record of a player who logged in and played a number of games (possibly 0) before logging out on someday using some device.  \n",
    "Write a solution to find the first login date for each player.  \n",
    "Return the result table in any order.  \n",
    "The result format is in the following example.  \n",
    "\n",
    "範例:  \n",
    "Ex1:  \n",
    "Input:   \n",
    "Activity table:  \n",
    "```\n",
    "+-----------+-----------+------------+--------------+\n",
    "| player_id | device_id | event_date | games_played |\n",
    "+-----------+-----------+------------+--------------+\n",
    "| 1         | 2         | 2016-03-01 | 5            |\n",
    "| 1         | 2         | 2016-05-02 | 6            |\n",
    "| 2         | 3         | 2017-06-25 | 1            |\n",
    "| 3         | 1         | 2016-03-02 | 0            |\n",
    "| 3         | 4         | 2018-07-03 | 5            |\n",
    "+-----------+-----------+------------+--------------+\n",
    "```\n",
    "Output:  \n",
    "```\n",
    "+-----------+-------------+\n",
    "| player_id | first_login |\n",
    "+-----------+-------------+\n",
    "| 1         | 2016-03-01  |\n",
    "| 2         | 2017-06-25  |\n",
    "| 3         | 2016-03-02  |\n",
    "+-----------+-------------+\n",
    "```"
   ]
  },
  {
   "cell_type": "markdown",
   "id": "37100e57-07d2-4228-b837-ae2eebf065c3",
   "metadata": {},
   "source": [
    "* 解題想法:  \n",
    "首先用partition的方式幫每個user的使用紀錄加上id，接著取出id為1的資料就是答案"
   ]
  },
  {
   "cell_type": "markdown",
   "id": "f1096f17-0c7d-46b0-97da-bf3dab2f8d61",
   "metadata": {},
   "source": [
    "```\n",
    "# Write your MySQL query statement below\n",
    "select player_id, event_date as first_login from \n",
    "(select *, ROW_NUMBER() over (PARTITION by player_id order by event_date) as t from Activity ) t\n",
    "where t = 1\n",
    "```"
   ]
  }
 ],
 "metadata": {
  "kernelspec": {
   "display_name": "Python 3 (ipykernel)",
   "language": "python",
   "name": "python3"
  },
  "language_info": {
   "codemirror_mode": {
    "name": "ipython",
    "version": 3
   },
   "file_extension": ".py",
   "mimetype": "text/x-python",
   "name": "python",
   "nbconvert_exporter": "python",
   "pygments_lexer": "ipython3",
   "version": "3.9.13"
  }
 },
 "nbformat": 4,
 "nbformat_minor": 5
}
