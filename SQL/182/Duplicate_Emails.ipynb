{
 "cells": [
  {
   "cell_type": "markdown",
   "id": "d45ea323-f5d6-40df-9bca-a34eccfcaad2",
   "metadata": {},
   "source": [
    "# 本題要找出重複的email有哪些 (\\#GroupBy )\n",
    "原題目連結：https://leetcode.com/problems/duplicate-emails/description/  \n",
    "\n",
    "Table: Person  \n",
    "```\n",
    "+-------------+---------+\n",
    "| Column Name | Type    |\n",
    "+-------------+---------+\n",
    "| id          | int     |\n",
    "| email       | varchar |\n",
    "+-------------+---------+\n",
    "```\n",
    "id is the primary key (column with unique values) for this table.  \n",
    "Each row of this table contains an email. The emails will not contain uppercase letters.  \n",
    "Write a solution to report all the duplicate emails. Note that it's guaranteed that the email field is not NULL.  \n",
    "Return the result table in any order.  \n",
    "\n",
    "The result format is in the following example.  \n",
    "\n",
    "範例：  \n",
    "Ex1:  \n",
    "Input:   \n",
    "Person table:  \n",
    "```\n",
    "+----+---------+\n",
    "| id | email   |\n",
    "+----+---------+\n",
    "| 1  | a@b.com |\n",
    "| 2  | c@d.com |\n",
    "| 3  | a@b.com |\n",
    "+----+---------+\n",
    "```\n",
    "Output:  \n",
    "```\n",
    "+---------+\n",
    "| Email   |\n",
    "+---------+\n",
    "| a@b.com |\n",
    "+---------+\n",
    "```\n",
    "Explanation: a@b.com is repeated two times."
   ]
  },
  {
   "cell_type": "markdown",
   "id": "3cec47f7-7892-47c4-a1a3-d38e85c7a084",
   "metadata": {},
   "source": [
    "* 解題想法：  \n",
    "首先用groupby的方式，找出哪些email有出現超過一次以上的，接著將超過一次的email找出後重新命名欄位為Email就是答案"
   ]
  },
  {
   "cell_type": "markdown",
   "id": "a181eaae-1220-4adb-9e77-b0a4c1b15207",
   "metadata": {},
   "source": [
    "```\n",
    "# Write your MySQL query statement below\n",
    "select email as Email from \n",
    "(select email, count(email) as c from Person group by email ) t\n",
    "where c > 1\n",
    "```"
   ]
  }
 ],
 "metadata": {
  "kernelspec": {
   "display_name": "Python 3 (ipykernel)",
   "language": "python",
   "name": "python3"
  },
  "language_info": {
   "codemirror_mode": {
    "name": "ipython",
    "version": 3
   },
   "file_extension": ".py",
   "mimetype": "text/x-python",
   "name": "python",
   "nbconvert_exporter": "python",
   "pygments_lexer": "ipython3",
   "version": "3.10.9"
  }
 },
 "nbformat": 4,
 "nbformat_minor": 5
}
