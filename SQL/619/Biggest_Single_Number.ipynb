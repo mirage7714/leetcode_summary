{
 "cells": [
  {
   "cell_type": "markdown",
   "id": "79203aca-f6c3-4b64-bc39-d360cbd9872e",
   "metadata": {},
   "source": [
    "# 本題要找出只出現一個的最大值為何 \n",
    "原題目連結: https://leetcode.com/problems/biggest-single-number/description/   \n",
    "\n",
    "Table: MyNumbers  \n",
    "```\n",
    "+-------------+------+\n",
    "| Column Name | Type |\n",
    "+-------------+------+\n",
    "| num         | int  |\n",
    "+-------------+------+\n",
    "```\n",
    "This table may contain duplicates (In other words, there is no primary key for this table in SQL).  \n",
    "Each row of this table contains an integer.    \n",
    "A single number is a number that appeared only once in the MyNumbers table.  \n",
    "Find the largest single number. If there is no single number, report null.  \n",
    "The result format is in the following example.  \n",
    "\n",
    "範例:  \n",
    "Ex1:  \n",
    "Input:   \n",
    "MyNumbers table:  \n",
    "```\n",
    "+-----+\n",
    "| num |\n",
    "+-----+\n",
    "| 8   |\n",
    "| 8   |\n",
    "| 3   |\n",
    "| 3   |\n",
    "| 1   |\n",
    "| 4   |\n",
    "| 5   |\n",
    "| 6   |\n",
    "+-----+\n",
    "```\n",
    "Output:  \n",
    "```\n",
    "+-----+\n",
    "| num |\n",
    "+-----+\n",
    "| 6   |\n",
    "+-----+\n",
    "```\n",
    "Explanation: The single numbers are 1, 4, 5, and 6.  \n",
    "Since 6 is the largest single number, we return it.  \n",
    "\n",
    "Ex2:  \n",
    "Input:   \n",
    "MyNumbers table:  \n",
    "```\n",
    "+-----+\n",
    "| num |\n",
    "+-----+\n",
    "| 8   |\n",
    "| 8   |\n",
    "| 7   |\n",
    "| 7   |\n",
    "| 3   |\n",
    "| 3   |\n",
    "| 3   |\n",
    "+-----+\n",
    "```\n",
    "Output:  \n",
    "```\n",
    "+------+\n",
    "| num  |\n",
    "+------+\n",
    "| null |\n",
    "+------+\n",
    "```\n",
    "Explanation: There are no single numbers in the input table so we return null."
   ]
  },
  {
   "cell_type": "markdown",
   "id": "613a0317-2413-400a-8247-592ee0dff7d6",
   "metadata": {},
   "source": [
    "* 解題想法:  \n",
    "先對num進行groupby後，建成一個temp table，接著找出temp table中次數為1的最大值，最後用一個select將數值取出，如果沒有數值的情況下就會回傳null，如題目的要求"
   ]
  },
  {
   "cell_type": "markdown",
   "id": "99cb8958-d7e6-42db-bed6-ded062fb17d9",
   "metadata": {},
   "source": [
    "```\n",
    "# Write your MySQL query statement below\n",
    "select (\n",
    "select num from \n",
    "(select num, count(num) as c from MyNumbers group by num ) m\n",
    "where c = 1 order by num desc limit 1 ) as num\n",
    "```"
   ]
  }
 ],
 "metadata": {
  "kernelspec": {
   "display_name": "Python 3 (ipykernel)",
   "language": "python",
   "name": "python3"
  },
  "language_info": {
   "codemirror_mode": {
    "name": "ipython",
    "version": 3
   },
   "file_extension": ".py",
   "mimetype": "text/x-python",
   "name": "python",
   "nbconvert_exporter": "python",
   "pygments_lexer": "ipython3",
   "version": "3.9.13"
  }
 },
 "nbformat": 4,
 "nbformat_minor": 5
}
