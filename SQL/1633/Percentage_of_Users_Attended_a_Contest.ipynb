{
 "cells": [
  {
   "cell_type": "markdown",
   "id": "dfc85452-5af9-4f62-b666-c58ffcbc74f6",
   "metadata": {},
   "source": [
    "# 本題要算出每個考試的註冊率是多少\n",
    "原題目連結: https://leetcode.com/problems/percentage-of-users-attended-a-contest/description/  \n",
    "\n",
    "Table: Users  \n",
    "```\n",
    "+-------------+---------+\n",
    "| Column Name | Type    |\n",
    "+-------------+---------+\n",
    "| user_id     | int     |\n",
    "| user_name   | varchar |\n",
    "+-------------+---------+\n",
    "```\n",
    "user_id is the primary key (column with unique values) for this table.  \n",
    "Each row of this table contains the name and the id of a user.   \n",
    "\n",
    "Table: Register  \n",
    "```\n",
    "+-------------+---------+\n",
    "| Column Name | Type    |\n",
    "+-------------+---------+\n",
    "| contest_id  | int     |\n",
    "| user_id     | int     |\n",
    "+-------------+---------+\n",
    "```\n",
    "(contest_id, user_id) is the primary key (combination of columns with unique values) for this table.  \n",
    "Each row of this table contains the id of a user and the contest they registered into.  \n",
    "Write a solution to find the percentage of the users registered in each contest rounded to two decimals.  \n",
    "Return the result table ordered by percentage in descending order. In case of a tie, order it by contest_id in ascending order.  \n",
    "The result format is in the following example.  \n",
    "\n",
    "範例:  \n",
    "Ex1:  \n",
    "Input:   \n",
    "Users table:  \n",
    "```\n",
    "+---------+-----------+\n",
    "| user_id | user_name |\n",
    "+---------+-----------+\n",
    "| 6       | Alice     |\n",
    "| 2       | Bob       |\n",
    "| 7       | Alex      |\n",
    "+---------+-----------+\n",
    "```\n",
    "Register table:  \n",
    "```\n",
    "+------------+---------+\n",
    "| contest_id | user_id |\n",
    "+------------+---------+\n",
    "| 215        | 6       |\n",
    "| 209        | 2       |\n",
    "| 208        | 2       |\n",
    "| 210        | 6       |\n",
    "| 208        | 6       |\n",
    "| 209        | 7       |\n",
    "| 209        | 6       |\n",
    "| 215        | 7       |\n",
    "| 208        | 7       |\n",
    "| 210        | 2       |\n",
    "| 207        | 2       |\n",
    "| 210        | 7       |\n",
    "+------------+---------+\n",
    "```\n",
    "Output:   \n",
    "```\n",
    "+------------+------------+\n",
    "| contest_id | percentage |\n",
    "+------------+------------+\n",
    "| 208        | 100.0      |\n",
    "| 209        | 100.0      |\n",
    "| 210        | 100.0      |\n",
    "| 215        | 66.67      |\n",
    "| 207        | 33.33      |\n",
    "+------------+------------+\n",
    "```\n",
    "Explanation:   \n",
    "All the users registered in contests 208, 209, and 210. The percentage is 100% and we sort them in the answer table by contest_id in ascending order.  \n",
    "Alice and Alex registered in contest 215 and the percentage is ((2/3) * 100) = 66.67%  \n",
    "Bob registered in contest 207 and the percentage is ((1/3) * 100) = 33.33%  "
   ]
  },
  {
   "cell_type": "markdown",
   "id": "9dafca08-ca44-4053-bee7-2c86b2b5c6df",
   "metadata": {},
   "source": [
    "* 解題想法:  \n",
    "首先算出所有學生的數量，接著用科目進行group並算出該科考生出席數量除上所有學生的數量就可以找出參加比例，最後排序後就是答案"
   ]
  },
  {
   "cell_type": "markdown",
   "id": "4daab233-9dc4-4c1f-bc92-17657999fd17",
   "metadata": {},
   "source": [
    "#Write your MySQL query statement below\n",
    "select contest_id, round(count(user_id) / (select count(*) from Users) * 100, 2) as percentage from Register group by contest_id order by percentage desc, contest_id asc"
   ]
  }
 ],
 "metadata": {
  "kernelspec": {
   "display_name": "Python 3 (ipykernel)",
   "language": "python",
   "name": "python3"
  },
  "language_info": {
   "codemirror_mode": {
    "name": "ipython",
    "version": 3
   },
   "file_extension": ".py",
   "mimetype": "text/x-python",
   "name": "python",
   "nbconvert_exporter": "python",
   "pygments_lexer": "ipython3",
   "version": "3.9.13"
  }
 },
 "nbformat": 4,
 "nbformat_minor": 5
}
