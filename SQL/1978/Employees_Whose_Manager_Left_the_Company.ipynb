{
 "cells": [
  {
   "cell_type": "markdown",
   "id": "c4e9352b-9910-4598-98fa-ab3adf368da1",
   "metadata": {},
   "source": [
    "# 本題要找出主管離職且薪水少於30000的員工ID\n",
    "原題目連結: https://leetcode.com/problems/employees-whose-manager-left-the-company/  \n",
    "\n",
    "Table: Employees\n",
    "```\n",
    "+-------------+----------+\n",
    "| Column Name | Type     |\n",
    "+-------------+----------+\n",
    "| employee_id | int      |\n",
    "| name        | varchar  |\n",
    "| manager_id  | int      |\n",
    "| salary      | int      |\n",
    "+-------------+----------+\n",
    "```\n",
    "In SQL, employee_id is the primary key for this table.  \n",
    "This table contains information about the employees, their salary, and the ID of their manager. Some employees do not have a manager (manager_id is null).   \n",
    "\n",
    "Find the IDs of the employees whose salary is strictly less than $30000 and whose manager left the company. When a manager leaves the company, their information is deleted from the Employees table, but the reports still have their manager_id set to the manager that left.  \n",
    "Return the result table ordered by employee_id.  \n",
    "The result format is in the following example.  \n",
    "\n",
    "範例:  \n",
    "Ex1:  \n",
    "Input:    \n",
    "Employees table:  \n",
    "```\n",
    "+-------------+-----------+------------+--------+\n",
    "| employee_id | name      | manager_id | salary |\n",
    "+-------------+-----------+------------+--------+\n",
    "| 3           | Mila      | 9          | 60301  |\n",
    "| 12          | Antonella | null       | 31000  |\n",
    "| 13          | Emery     | null       | 67084  |\n",
    "| 1           | Kalel     | 11         | 21241  |\n",
    "| 9           | Mikaela   | null       | 50937  |\n",
    "| 11          | Joziah    | 6          | 28485  |\n",
    "+-------------+-----------+------------+--------+\n",
    "```\n",
    "Output:  \n",
    "```\n",
    "+-------------+\n",
    "| employee_id |\n",
    "+-------------+\n",
    "| 11          |\n",
    "+-------------+\n",
    "```\n",
    "Explanation:    \n",
    "The employees with a salary less than $30000 are 1 (Kalel) and 11 (Joziah).  \n",
    "Kalel's manager is employee 11, who is still in the company (Joziah).    \n",
    "Joziah's manager is employee 6, who left the company because there is no row for employee 6 as it was deleted."
   ]
  },
  {
   "cell_type": "markdown",
   "id": "97b10135-3015-4ba0-a0c7-33ce73a6cec0",
   "metadata": {},
   "source": [
    "* 解題想法:  \n",
    "首先找出所有員工的ID，作為一個暫存的Table，接著找出主管編號不在員工編號表中，且薪水少於30000的人，最後用員工編號進行排序就是答案"
   ]
  },
  {
   "cell_type": "markdown",
   "id": "d3ad4c59-f143-49aa-baa1-ddc7cf74d847",
   "metadata": {},
   "source": [
    "```\n",
    "# Write your MySQL query statement below\n",
    " select employee_id from Employees where manager_id not in \n",
    " (select employee_id from Employees ) and salary < 30000 order by employee_id\n",
    " ```"
   ]
  }
 ],
 "metadata": {
  "kernelspec": {
   "display_name": "Python 3 (ipykernel)",
   "language": "python",
   "name": "python3"
  },
  "language_info": {
   "codemirror_mode": {
    "name": "ipython",
    "version": 3
   },
   "file_extension": ".py",
   "mimetype": "text/x-python",
   "name": "python",
   "nbconvert_exporter": "python",
   "pygments_lexer": "ipython3",
   "version": "3.9.13"
  }
 },
 "nbformat": 4,
 "nbformat_minor": 5
}
