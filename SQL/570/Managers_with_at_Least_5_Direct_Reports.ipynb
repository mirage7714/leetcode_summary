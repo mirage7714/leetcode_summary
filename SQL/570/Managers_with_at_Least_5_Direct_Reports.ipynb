{
 "cells": [
  {
   "cell_type": "markdown",
   "id": "cfe693c8-bd52-4aa2-bf3e-2f509d46bb5c",
   "metadata": {},
   "source": [
    "# 本題要找出管理人數大於五人以上的姓名有哪些 (\\#TempTable, \\#GroupBy)\n",
    "原題目連結：https://leetcode.com/problems/managers-with-at-least-5-direct-reports/description/  \n",
    "\n",
    "Table: Employee  \n",
    "```\n",
    "+-------------+---------+\n",
    "| Column Name | Type    |\n",
    "+-------------+---------+\n",
    "| id          | int     |\n",
    "| name        | varchar |\n",
    "| department  | varchar |\n",
    "| managerId   | int     |\n",
    "+-------------+---------+\n",
    "```\n",
    "id is the primary key (column with unique values) for this table.  \n",
    "Each row of this table indicates the name of an employee, their department, and the id of their manager.  \n",
    "If managerId is null, then the employee does not have a manager.  \n",
    "No employee will be the manager of themself.  \n",
    "Write a solution to find managers with at least five direct reports.  \n",
    "Return the result table in any order.  \n",
    "\n",
    "The result format is in the following example.  \n",
    "\n",
    "範例：  \n",
    "Ex1:  \n",
    "Input:   \n",
    "Employee table:  \n",
    "```\n",
    "+-----+-------+------------+-----------+\n",
    "| id  | name  | department | managerId |\n",
    "+-----+-------+------------+-----------+\n",
    "| 101 | John  | A          | null      |\n",
    "| 102 | Dan   | A          | 101       |\n",
    "| 103 | James | A          | 101       |\n",
    "| 104 | Amy   | A          | 101       |\n",
    "| 105 | Anne  | A          | 101       |\n",
    "| 106 | Ron   | B          | 101       |\n",
    "+-----+-------+------------+-----------+\n",
    "```\n",
    "Output:  \n",
    "```\n",
    "+------+\n",
    "| name |\n",
    "+------+\n",
    "| John |\n",
    "+------+\n",
    "```"
   ]
  },
  {
   "cell_type": "markdown",
   "id": "9ee3e2d1-c1b1-431c-9456-4e0d62a88a22",
   "metadata": {},
   "source": [
    "* 解題想法：  \n",
    "首先建立一個temp table，用managerId進行groupby之後找出每個managerId共管理多少人，接著用left join將id與姓名跟管理的人數串在一起，最後再取出管理人數大於5個人以上的姓名就是答案"
   ]
  },
  {
   "cell_type": "markdown",
   "id": "c54a2809-d938-459c-968b-a90683a10368",
   "metadata": {},
   "source": [
    "```\n",
    "# Write your MySQL query statement below\n",
    "select name from \n",
    "(select Employee.id, Employee.name, t.c from Employee left join \n",
    "(select managerId, count(managerId) as c from Employee group by managerId ) t\n",
    "on Employee.id = t.managerId ) m\n",
    "where c >= 5\n",
    "```"
   ]
  }
 ],
 "metadata": {
  "kernelspec": {
   "display_name": "Python 3 (ipykernel)",
   "language": "python",
   "name": "python3"
  },
  "language_info": {
   "codemirror_mode": {
    "name": "ipython",
    "version": 3
   },
   "file_extension": ".py",
   "mimetype": "text/x-python",
   "name": "python",
   "nbconvert_exporter": "python",
   "pygments_lexer": "ipython3",
   "version": "3.10.9"
  }
 },
 "nbformat": 4,
 "nbformat_minor": 5
}
