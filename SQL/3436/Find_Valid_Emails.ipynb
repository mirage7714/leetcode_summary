{
 "cells": [
  {
   "cell_type": "markdown",
   "id": "3088f9ec-68a9-4c9c-b0e4-41c496688f7a",
   "metadata": {},
   "source": [
    "# 本題要找出所有符合格式的email有哪些 (\\#Regex )\n",
    "原題目連結：https://leetcode.com/problems/find-valid-emails/description/  \n",
    "\n",
    "Table: `Users`  \n",
    "```\n",
    "+-----------------+---------+\n",
    "| Column Name     | Type    |\n",
    "+-----------------+---------+\n",
    "| user_id         | int     |\n",
    "| email           | varchar |\n",
    "+-----------------+---------+\n",
    "```\n",
    "(user_id) is the unique key for this table.  \n",
    "Each row contains a user's unique ID and email address.  \n",
    "Write a solution to find all the valid email addresses. A valid email address meets the following criteria:  \n",
    "  \n",
    "- It contains exactly one @ symbol.    \n",
    "- It ends with .com.    \n",
    "- The part before the @ symbol contains only alphanumeric characters and underscores.  \n",
    "- The part after the @ symbol and before .com contains a domain name that contains only letters.  \n",
    "\n",
    "Return the result table ordered by user_id in ascending order.  \n",
    "\n",
    "範例：  \n",
    "Ex1:  \n",
    "Input:  \n",
    "`Users` table:  \n",
    "```\n",
    "+---------+---------------------+\n",
    "| user_id | email               |\n",
    "+---------+---------------------+\n",
    "| 1       | alice@example.com   |\n",
    "| 2       | bob_at_example.com  |\n",
    "| 3       | charlie@example.net |\n",
    "| 4       | david@domain.com    |\n",
    "| 5       | eve@invalid         |\n",
    "+---------+---------------------+\n",
    "```\n",
    "Output:  \n",
    "```\n",
    "+---------+-------------------+\n",
    "| user_id | email             |\n",
    "+---------+-------------------+\n",
    "| 1       | alice@example.com |\n",
    "| 4       | david@domain.com  |\n",
    "+---------+-------------------+\n",
    "```\n",
    "Explanation:  \n",
    "- alice@example.com is valid because it contains one @, alice is alphanumeric, and example.com starts with a letter and ends with .com.  \n",
    "- bob_at_example.com is invalid because it contains an underscore instead of an @.  \n",
    "- charlie@example.net is invalid because the domain does not end with .com.  \n",
    "- david@domain.com is valid because it meets all criteria.  \n",
    "- eve@invalid is invalid because the domain does not end with .com.  \n",
    "\n",
    "Result table is ordered by user_id in ascending order.  "
   ]
  },
  {
   "cell_type": "markdown",
   "id": "f0f9bd8f-51b1-4c0d-8e39-aca816a069b5",
   "metadata": {},
   "source": [
    "* 解題想法：  \n",
    "由於要檢查email是否有符合指定的格式，這邊使用正規表示法來進行搜尋，並對搜尋出來的結果進行排序就是答案"
   ]
  },
  {
   "cell_type": "markdown",
   "id": "153b5cc1-a30f-4fea-868d-7cfcea3b8e1a",
   "metadata": {},
   "source": [
    "```\n",
    "# Write your MySQL query statement below\n",
    "SELECT * FROM users WHERE email REGEXP '^[A-Za-z0-9%+-]+@[A-Za-z]+\\\\.com$' order by user_id\n",
    "```"
   ]
  },
  {
   "cell_type": "code",
   "execution_count": null,
   "id": "6167b6f5-3343-4c80-80be-473d2e905ea8",
   "metadata": {},
   "outputs": [],
   "source": []
  }
 ],
 "metadata": {
  "kernelspec": {
   "display_name": "Python 3 (ipykernel)",
   "language": "python",
   "name": "python3"
  },
  "language_info": {
   "codemirror_mode": {
    "name": "ipython",
    "version": 3
   },
   "file_extension": ".py",
   "mimetype": "text/x-python",
   "name": "python",
   "nbconvert_exporter": "python",
   "pygments_lexer": "ipython3",
   "version": "3.10.9"
  }
 },
 "nbformat": 4,
 "nbformat_minor": 5
}
