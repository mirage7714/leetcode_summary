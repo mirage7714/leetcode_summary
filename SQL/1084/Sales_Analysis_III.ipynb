{
 "cells": [
  {
   "cell_type": "markdown",
   "id": "e30011c4-8800-4580-a387-e157620948d1",
   "metadata": {},
   "source": [
    "# 本題要找出只有在指定期間販售的商品資料\n",
    "原題目連結: https://leetcode.com/problems/sales-analysis-iii/description/  \n",
    "\n",
    "Table: Product  \n",
    "```\n",
    "+--------------+---------+\n",
    "| Column Name  | Type    |\n",
    "+--------------+---------+\n",
    "| product_id   | int     |\n",
    "| product_name | varchar |\n",
    "| unit_price   | int     |\n",
    "+--------------+---------+\n",
    "```\n",
    "product_id is the primary key (column with unique values) of this table.  \n",
    "Each row of this table indicates the name and the price of each product.  \n",
    "Table: Sales  \n",
    "```\n",
    "+-------------+---------+\n",
    "| Column Name | Type    |\n",
    "+-------------+---------+\n",
    "| seller_id   | int     |\n",
    "| product_id  | int     |\n",
    "| buyer_id    | int     |\n",
    "| sale_date   | date    |\n",
    "| quantity    | int     |\n",
    "| price       | int     |\n",
    "+-------------+---------+\n",
    "```\n",
    "This table can have duplicate rows.  \n",
    "product_id is a foreign key (reference column) to the Product table.  \n",
    "Each row of this table contains some information about one sale.  \n",
    "Write a solution to report the products that were only sold in the first quarter of 2019. That is, between 2019-01-01 and 2019-03-31 inclusive.  \n",
    "Return the result table in any order.  \n",
    "The result format is in the following example.  \n",
    "\n",
    "範例:  \n",
    "Ex1:  \n",
    "Input:   \n",
    "Product table:  \n",
    "```\n",
    "+------------+--------------+------------+\n",
    "| product_id | product_name | unit_price |\n",
    "+------------+--------------+------------+\n",
    "| 1          | S8           | 1000       |\n",
    "| 2          | G4           | 800        |\n",
    "| 3          | iPhone       | 1400       |\n",
    "+------------+--------------+------------+\n",
    "```\n",
    "Sales table:  \n",
    "```\n",
    "+-----------+------------+----------+------------+----------+-------+\n",
    "| seller_id | product_id | buyer_id | sale_date  | quantity | price |\n",
    "+-----------+------------+----------+------------+----------+-------+\n",
    "| 1         | 1          | 1        | 2019-01-21 | 2        | 2000  |\n",
    "| 1         | 2          | 2        | 2019-02-17 | 1        | 800   |\n",
    "| 2         | 2          | 3        | 2019-06-02 | 1        | 800   |\n",
    "| 3         | 3          | 4        | 2019-05-13 | 2        | 2800  |\n",
    "+-----------+------------+----------+------------+----------+-------+\n",
    "```\n",
    "Output:   \n",
    "```\n",
    "+-------------+--------------+\n",
    "| product_id  | product_name |\n",
    "+-------------+--------------+\n",
    "| 1           | S8           |\n",
    "+-------------+--------------+\n",
    "```\n",
    "Explanation:   \n",
    "The product with id 1 was only sold in the spring of 2019.  \n",
    "The product with id 2 was sold in the spring of 2019 but was also sold after the spring of 2019.  \n",
    "The product with id 3 was sold after spring 2019.  \n",
    "We return only product 1 as it is the product that was only sold in the spring of 2019.  "
   ]
  },
  {
   "cell_type": "markdown",
   "id": "6680d4c8-351c-41fc-ad31-f45ff40fd00a",
   "metadata": {},
   "source": [
    "* 解題想法:  \n",
    "首先找出有出現在銷售資料中的商品，並過濾掉那些有出現在非指定區間的商品就是答案"
   ]
  },
  {
   "cell_type": "markdown",
   "id": "1fa45886-aad0-4403-b8bf-61f5c2e8ed05",
   "metadata": {},
   "source": [
    "```\n",
    "# Write your MySQL query statement below\n",
    "select product_id, product_name from Product where product_id not in \n",
    "(select product_id from Sales where sale_date < '2019-01-01' or sale_date > '2019-03-31') \n",
    "and product_id in (select distinct(product_id) from Sales)\n",
    "```"
   ]
  }
 ],
 "metadata": {
  "kernelspec": {
   "display_name": "Python 3 (ipykernel)",
   "language": "python",
   "name": "python3"
  },
  "language_info": {
   "codemirror_mode": {
    "name": "ipython",
    "version": 3
   },
   "file_extension": ".py",
   "mimetype": "text/x-python",
   "name": "python",
   "nbconvert_exporter": "python",
   "pygments_lexer": "ipython3",
   "version": "3.9.13"
  }
 },
 "nbformat": 4,
 "nbformat_minor": 5
}
