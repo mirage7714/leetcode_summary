{
 "cells": [
  {
   "cell_type": "markdown",
   "id": "1371b415-5ae0-4d98-970e-b08d79f21a14",
   "metadata": {},
   "source": [
    "# 本題要找出每個員工的主要部門為何 \n",
    "原題目連結：https://leetcode.com/problems/primary-department-for-each-employee/description/  \n",
    "\n",
    "Table: Employee  \n",
    "```\n",
    "+---------------+---------+\n",
    "| Column Name   |  Type   |\n",
    "+---------------+---------+\n",
    "| employee_id   | int     |\n",
    "| department_id | int     |\n",
    "| primary_flag  | varchar |\n",
    "+---------------+---------+\n",
    "```\n",
    "(employee_id, department_id) is the primary key (combination of columns with unique values) for this table.  \n",
    "employee_id is the id of the employee.  \n",
    "department_id is the id of the department to which the employee belongs.  \n",
    "primary_flag is an ENUM (category) of type ('Y', 'N'). If the flag is 'Y', the department is the primary department for the employee. If the flag is 'N', the department is not the primary.  \n",
    "\n",
    "Employees can belong to multiple departments. When the employee joins other departments, they need to decide which department is their primary department. Note that when an employee belongs to only one department, their primary column is 'N'.  \n",
    "\n",
    "Write a solution to report all the employees with their primary department. For employees who belong to one department, report their only department.  \n",
    "Return the result table in any order.   \n",
    "The result format is in the following example.  \n",
    "\n",
    "範例：  \n",
    "Ex1:  \n",
    "Input:   \n",
    "Employee table:  \n",
    "```\n",
    "+-------------+---------------+--------------+\n",
    "| employee_id | department_id | primary_flag |\n",
    "+-------------+---------------+--------------+\n",
    "| 1           | 1             | N            |\n",
    "| 2           | 1             | Y            |\n",
    "| 2           | 2             | N            |\n",
    "| 3           | 3             | N            |\n",
    "| 4           | 2             | N            |\n",
    "| 4           | 3             | Y            |\n",
    "| 4           | 4             | N            |\n",
    "+-------------+---------------+--------------+\n",
    "```\n",
    "Output:  \n",
    "```\n",
    "+-------------+---------------+\n",
    "| employee_id | department_id |\n",
    "+-------------+---------------+\n",
    "| 1           | 1             |\n",
    "| 2           | 1             |\n",
    "| 3           | 3             |\n",
    "| 4           | 3             |\n",
    "+-------------+---------------+\n",
    "```\n",
    "Explanation:   \n",
    "- The Primary department for employee 1 is 1.  \n",
    "- The Primary department for employee 2 is 1.  \n",
    "- The Primary department for employee 3 is 3.  \n",
    "- The Primary department for employee 4 is 3."
   ]
  },
  {
   "cell_type": "markdown",
   "id": "a62c7201-aca2-43f1-b784-c511d4db854d",
   "metadata": {},
   "source": [
    "* 解題想法：  \n",
    "首先找出所有只有一個部門的employee_id以及department_id，接著另外找出那些primary_flag為Y而且employee_id沒有出現過的，最後將兩個table做union all之後就是答案"
   ]
  },
  {
   "cell_type": "markdown",
   "id": "248ba78f-3adf-4daf-b208-2f81772e38ef",
   "metadata": {},
   "source": [
    "```\n",
    "# Write your MySQL query statement below\n",
    "select employee_id, department_id from Employee where primary_flag='Y' and employee_id not in \n",
    "(select employee_id from (select employee_id, count(employee_id) as c from Employee group by employee_id) a where c = 1)\n",
    "union all \n",
    "select employee_id, department_id from (select employee_id, department_id, count(employee_id) as c from Employee group by employee_id) t where c = 1\n",
    "```"
   ]
  }
 ],
 "metadata": {
  "kernelspec": {
   "display_name": "Python 3 (ipykernel)",
   "language": "python",
   "name": "python3"
  },
  "language_info": {
   "codemirror_mode": {
    "name": "ipython",
    "version": 3
   },
   "file_extension": ".py",
   "mimetype": "text/x-python",
   "name": "python",
   "nbconvert_exporter": "python",
   "pygments_lexer": "ipython3",
   "version": "3.9.13"
  }
 },
 "nbformat": 4,
 "nbformat_minor": 5
}
