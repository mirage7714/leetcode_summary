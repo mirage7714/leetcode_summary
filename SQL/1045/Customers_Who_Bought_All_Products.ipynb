{
 "cells": [
  {
   "cell_type": "markdown",
   "id": "5b790e4c-3b13-40b4-b413-595eccdda5da",
   "metadata": {},
   "source": [
    "# 本題要找出有哪些顧客買了所有的產品\n",
    "原題目連結: https://leetcode.com/problems/customers-who-bought-all-products/description/  \n",
    "\n",
    "Table: Customer  \n",
    "```\n",
    "+-------------+---------+\n",
    "| Column Name | Type    |\n",
    "+-------------+---------+\n",
    "| customer_id | int     |\n",
    "| product_key | int     |\n",
    "+-------------+---------+\n",
    "```\n",
    "This table may contain duplicates rows.   \n",
    "customer_id is not NULL.  \n",
    "product_key is a foreign key (reference column) to Product table.  \n",
    "\n",
    "Table: Product  \n",
    "```\n",
    "+-------------+---------+\n",
    "| Column Name | Type    |\n",
    "+-------------+---------+\n",
    "| product_key | int     |\n",
    "+-------------+---------+\n",
    "```\n",
    "product_key is the primary key (column with unique values) for this table.  \n",
    "Write a solution to report the customer ids from the Customer table that bought all the products in the Product table.  \n",
    "Return the result table in any order.  \n",
    "The result format is in the following example.  \n",
    "\n",
    "範例:  \n",
    "Ex1:  \n",
    "Input:   \n",
    "Customer table:  \n",
    "```\n",
    "+-------------+-------------+\n",
    "| customer_id | product_key |\n",
    "+-------------+-------------+\n",
    "| 1           | 5           |\n",
    "| 2           | 6           |\n",
    "| 3           | 5           |\n",
    "| 3           | 6           |\n",
    "| 1           | 6           |\n",
    "+-------------+-------------+\n",
    "```\n",
    "Product table:  \n",
    "```\n",
    "+-------------+\n",
    "| product_key |\n",
    "+-------------+\n",
    "| 5           |\n",
    "| 6           |\n",
    "+-------------+\n",
    "```\n",
    "Output:   \n",
    "```\n",
    "+-------------+\n",
    "| customer_id |\n",
    "+-------------+\n",
    "| 1           |\n",
    "| 3           |\n",
    "+-------------+\n",
    "```\n",
    "Explanation:   \n",
    "The customers who bought all the products (5 and 6) are customers with IDs 1 and 3."
   ]
  },
  {
   "cell_type": "markdown",
   "id": "a3655bf1-010a-47be-9f4b-63fbb4cb8417",
   "metadata": {},
   "source": [
    "* 解題想法:  \n",
    "首先將每個顧客的購買紀錄用distinct的product_key找出每個人購買的紀錄，因題目說明可能會有重複的購買紀錄，接著找出購買種類的筆數等於所有產品數量的customer_id就是答案"
   ]
  },
  {
   "cell_type": "markdown",
   "id": "2f997c10-e955-4a42-8148-e18412cad416",
   "metadata": {},
   "source": [
    "```\n",
    "# Write your MySQL query statement below\n",
    "select customer_id from \n",
    "(select customer_id, count(distinct(product_key)) as c from Customer group by customer_id ) a \n",
    "where c = (select count(product_key) from product)\n",
    "```"
   ]
  }
 ],
 "metadata": {
  "kernelspec": {
   "display_name": "Python 3 (ipykernel)",
   "language": "python",
   "name": "python3"
  },
  "language_info": {
   "codemirror_mode": {
    "name": "ipython",
    "version": 3
   },
   "file_extension": ".py",
   "mimetype": "text/x-python",
   "name": "python",
   "nbconvert_exporter": "python",
   "pygments_lexer": "ipython3",
   "version": "3.9.13"
  }
 },
 "nbformat": 4,
 "nbformat_minor": 5
}
