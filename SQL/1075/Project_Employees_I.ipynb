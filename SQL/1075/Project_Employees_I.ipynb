{
 "cells": [
  {
   "cell_type": "markdown",
   "id": "213f0df3-5a9c-4662-96a4-aad82fd2755f",
   "metadata": {},
   "source": [
    "# 本題要計算每個project的員工平均年齡是多少 \n",
    "原題目連結: https://leetcode.com/problems/project-employees-i/description/  \n",
    "\n",
    "Table: Project  \n",
    "```\n",
    "+-------------+---------+\n",
    "| Column Name | Type    |\n",
    "+-------------+---------+\n",
    "| project_id  | int     |\n",
    "| employee_id | int     |\n",
    "+-------------+---------+\n",
    "```\n",
    "(project_id, employee_id) is the primary key of this table.  \n",
    "employee_id is a foreign key to Employee table.  \n",
    "Each row of this table indicates that the employee with employee_id is working on the project with project_id.  \n",
    "\n",
    "Table: Employee  \n",
    "```\n",
    "+------------------+---------+\n",
    "| Column Name      | Type    |\n",
    "+------------------+---------+\n",
    "| employee_id      | int     |\n",
    "| name             | varchar |\n",
    "| experience_years | int     |\n",
    "+------------------+---------+\n",
    "```\n",
    "employee_id is the primary key of this table. It's guaranteed that experience_years is not NULL.  \n",
    "Each row of this table contains information about one employee.  \n",
    "Write an SQL query that reports the average experience years of all the employees for each project, rounded to 2 digits.  \n",
    "Return the result table in any order.  \n",
    "The query result format is in the following example.  \n",
    "\n",
    "範例:  \n",
    "Ex1:  \n",
    "Input:   \n",
    "Project table:  \n",
    "```\n",
    "+-------------+-------------+\n",
    "| project_id  | employee_id |\n",
    "+-------------+-------------+\n",
    "| 1           | 1           |\n",
    "| 1           | 2           |\n",
    "| 1           | 3           |\n",
    "| 2           | 1           |\n",
    "| 2           | 4           |\n",
    "+-------------+-------------+\n",
    "```\n",
    "Employee table:  \n",
    "```\n",
    "+-------------+--------+------------------+\n",
    "| employee_id | name   | experience_years |\n",
    "+-------------+--------+------------------+\n",
    "| 1           | Khaled | 3                |\n",
    "| 2           | Ali    | 2                |\n",
    "| 3           | John   | 1                |\n",
    "| 4           | Doe    | 2                |\n",
    "+-------------+--------+------------------+\n",
    "```\n",
    "Output:   \n",
    "```\n",
    "+-------------+---------------+\n",
    "| project_id  | average_years |\n",
    "+-------------+---------------+\n",
    "| 1           | 2.00          |\n",
    "| 2           | 2.50          |\n",
    "+-------------+---------------+\n",
    "```\n",
    "Explanation: The average experience years for the first project is (3 + 2 + 1) / 3 = 2.00 and for the second project is (3 + 2) / 2 = 2.50  "
   ]
  },
  {
   "cell_type": "markdown",
   "id": "07619df0-2ee0-4a91-acf5-8cb9962b1696",
   "metadata": {},
   "source": [
    "* 解題想法:  \n",
    "首先將Project與Employee兩個table做join之後，接著用project_id進行group後找出平均年齡就是答案"
   ]
  },
  {
   "cell_type": "code",
   "execution_count": null,
   "id": "6cdac1ea-fe52-4e11-a6b5-cc6d972dfc69",
   "metadata": {},
   "outputs": [],
   "source": [
    "```\n",
    "# Write your MySQL query statement below\n",
    "select project_id, round(sum(experience_years) / count(experience_years), 2) as average_years from\n",
    "(select Project.project_id, Employee.employee_id, Employee.experience_years from Project join Employee on Project.employee_id = Employee.employee_id) a\n",
    "group by project_id\n",
    "```"
   ]
  }
 ],
 "metadata": {
  "kernelspec": {
   "display_name": "Python 3 (ipykernel)",
   "language": "python",
   "name": "python3"
  },
  "language_info": {
   "codemirror_mode": {
    "name": "ipython",
    "version": 3
   },
   "file_extension": ".py",
   "mimetype": "text/x-python",
   "name": "python",
   "nbconvert_exporter": "python",
   "pygments_lexer": "ipython3",
   "version": "3.9.13"
  }
 },
 "nbformat": 4,
 "nbformat_minor": 5
}
