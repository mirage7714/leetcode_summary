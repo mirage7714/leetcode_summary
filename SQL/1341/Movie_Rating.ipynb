{
 "cells": [
  {
   "cell_type": "markdown",
   "id": "3c460375-db96-49b6-aac9-29cf95b2dd7a",
   "metadata": {},
   "source": [
    "# 本題要找出電影最多評分紀錄以及評分最高的電影 \n",
    "原題目連結：https://leetcode.com/problems/movie-rating/description/  \n",
    "\n",
    "Table: Movies  \n",
    "```\n",
    "+---------------+---------+\n",
    "| Column Name   | Type    |\n",
    "+---------------+---------+\n",
    "| movie_id      | int     |\n",
    "| title         | varchar |\n",
    "+---------------+---------+\n",
    "```\n",
    "movie_id is the primary key (column with unique values) for this table.  \n",
    "title is the name of the movie.  \n",
    "\n",
    "Table: Users  \n",
    "```\n",
    "+---------------+---------+\n",
    "| Column Name   | Type    |\n",
    "+---------------+---------+\n",
    "| user_id       | int     |\n",
    "| name          | varchar |\n",
    "+---------------+---------+\n",
    "```\n",
    "user_id is the primary key (column with unique values) for this table.  \n",
    "\n",
    "Table: MovieRating  \n",
    "```\n",
    "+---------------+---------+\n",
    "| Column Name   | Type    |\n",
    "+---------------+---------+\n",
    "| movie_id      | int     |\n",
    "| user_id       | int     |\n",
    "| rating        | int     |\n",
    "| created_at    | date    |\n",
    "+---------------+---------+\n",
    "```\n",
    "(movie_id, user_id) is the primary key (column with unique values) for this table.  \n",
    "This table contains the rating of a movie by a user in their review.  \n",
    "created_at is the user's review date.   \n",
    "Write a solution to:  \n",
    "Find the name of the user who has rated the greatest number of movies. In case of a tie, return the lexicographically smaller user name.  \n",
    "Find the movie name with the highest average rating in February 2020. In case of a tie, return the lexicographically smaller movie name.  \n",
    "The result format is in the following example."
   ]
  },
  {
   "cell_type": "markdown",
   "id": "49cdf538-ca52-4fc5-ad4a-ff94a043d033",
   "metadata": {},
   "source": [
    "* 解題想法：  \n",
    "分別找出評分最多的人以及分數最高的電影之後，用union all將兩個select串起來後就可以產生題目要求的table\n"
   ]
  },
  {
   "cell_type": "markdown",
   "id": "71af243d-9ebe-420a-8dfc-a00bbf772f0e",
   "metadata": {},
   "source": [
    "```\n",
    "# Write your MySQL query statement below\n",
    "select * from \n",
    "(select Users.name as results from Users left join\n",
    "(select user_id, count(user_id) as c from MovieRating group by user_id) u\n",
    "on Users.user_id = u.user_id order by u.c desc, Users.name limit 1 ) x\n",
    "union all \n",
    "select * from \n",
    "(select Movies.title as results from Movies left join \n",
    "(select movie_id, sum(rating) / count(rating) as a from MovieRating where created_at > '2020-01-31' and created_at < '2020-03-01' group by movie_id ) t\n",
    "on Movies.movie_id = t.movie_id order by t.a desc, Movies.title limit 1 ) y\n",
    "```"
   ]
  }
 ],
 "metadata": {
  "kernelspec": {
   "display_name": "Python 3 (ipykernel)",
   "language": "python",
   "name": "python3"
  },
  "language_info": {
   "codemirror_mode": {
    "name": "ipython",
    "version": 3
   },
   "file_extension": ".py",
   "mimetype": "text/x-python",
   "name": "python",
   "nbconvert_exporter": "python",
   "pygments_lexer": "ipython3",
   "version": "3.10.9"
  }
 },
 "nbformat": 4,
 "nbformat_minor": 5
}
