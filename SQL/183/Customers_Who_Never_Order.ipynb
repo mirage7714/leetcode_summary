{
 "cells": [
  {
   "cell_type": "markdown",
   "id": "5ea129fd-5ded-4498-9b25-2653aaf281b3",
   "metadata": {},
   "source": [
    "# 本題要找出從來沒有下過訂單的用戶ID (\\#TempTable )\n",
    "原題目連結：https://leetcode.com/problems/customers-who-never-order/description/  \n",
    "\n",
    "Table: Customers  \n",
    "```\n",
    "+-------------+---------+\n",
    "| Column Name | Type    |\n",
    "+-------------+---------+\n",
    "| id          | int     |\n",
    "| name        | varchar |\n",
    "+-------------+---------+\n",
    "```\n",
    "id is the primary key (column with unique values) for this table.  \n",
    "Each row of this table indicates the ID and name of a customer.  \n",
    "\n",
    "Table: Orders  \n",
    "```\n",
    "+-------------+------+\n",
    "| Column Name | Type |\n",
    "+-------------+------+\n",
    "| id          | int  |\n",
    "| customerId  | int  |\n",
    "+-------------+------+\n",
    "```\n",
    "id is the primary key (column with unique values) for this table.  \n",
    "customerId is a foreign key (reference columns) of the ID from the Customers table.  \n",
    "Each row of this table indicates the ID of an order and the ID of the customer who ordered it.  \n",
    "Write a solution to find all customers who never order anything.  \n",
    "Return the result table in any order.  \n",
    "\n",
    "The result format is in the following example.  \n",
    "\n",
    "範例：  \n",
    "Ex1:  \n",
    "Input:   \n",
    "Customers table:  \n",
    "```\n",
    "+----+-------+\n",
    "| id | name  |\n",
    "+----+-------+\n",
    "| 1  | Joe   |\n",
    "| 2  | Henry |\n",
    "| 3  | Sam   |\n",
    "| 4  | Max   |\n",
    "+----+-------+\n",
    "```\n",
    "Orders table:  \n",
    "```\n",
    "+----+------------+\n",
    "| id | customerId |\n",
    "+----+------------+\n",
    "| 1  | 3          |\n",
    "| 2  | 1          |\n",
    "+----+------------+\n",
    "```\n",
    "Output:  \n",
    "```\n",
    "+-----------+\n",
    "| Customers |\n",
    "+-----------+\n",
    "| Henry     |\n",
    "| Max       |\n",
    "+-----------+\n",
    "```"
   ]
  },
  {
   "cell_type": "markdown",
   "id": "d77330b2-cf5c-43c9-bb37-747c9e92be48",
   "metadata": {},
   "source": [
    "* 解題想法：  \n",
    "首先找出有下過訂單的用戶id，接著用所有用戶中id沒有出現在下訂用戶id的table中出現過的id，找出姓名後就是答案"
   ]
  },
  {
   "cell_type": "markdown",
   "id": "9eb8b3f7-9cf5-4ff9-901d-ecec2a45870c",
   "metadata": {},
   "source": [
    "```\n",
    "# Write your MySQL query statement below\n",
    "select name as Customers from Customers where id not in (select customerId from Orders)\n",
    "```"
   ]
  }
 ],
 "metadata": {
  "kernelspec": {
   "display_name": "Python 3 (ipykernel)",
   "language": "python",
   "name": "python3"
  },
  "language_info": {
   "codemirror_mode": {
    "name": "ipython",
    "version": 3
   },
   "file_extension": ".py",
   "mimetype": "text/x-python",
   "name": "python",
   "nbconvert_exporter": "python",
   "pygments_lexer": "ipython3",
   "version": "3.10.9"
  }
 },
 "nbformat": 4,
 "nbformat_minor": 5
}
