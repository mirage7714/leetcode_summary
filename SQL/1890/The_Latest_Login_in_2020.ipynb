{
 "cells": [
  {
   "cell_type": "markdown",
   "id": "05bc3ba2-97e5-4f3b-9a7e-8bcb379bcb14",
   "metadata": {},
   "source": [
    "# 本題要找出每個人在2020年最後一次的登入紀錄\n",
    "原題目連結: https://leetcode.com/problems/the-latest-login-in-2020/description/  \n",
    "\n",
    "Table: Logins  \n",
    "```\n",
    "+----------------+----------+\n",
    "| Column Name    | Type     |\n",
    "+----------------+----------+\n",
    "| user_id        | int      |\n",
    "| time_stamp     | datetime |\n",
    "+----------------+----------+\n",
    "```\n",
    "(user_id, time_stamp) is the primary key (combination of columns with unique values) for this table.  \n",
    "Each row contains information about the login time for the user with ID user_id.  \n",
    "Write a solution to report the latest login for all users in the year 2020. Do not include the users who did not login in 2020.  \n",
    "Return the result table in any order.  \n",
    "The result format is in the following example.  \n",
    "\n",
    "範例:  \n",
    "Ex1:  \n",
    "Input:   \n",
    "Logins table:  \n",
    "```\n",
    "+---------+---------------------+\n",
    "| user_id | time_stamp          |\n",
    "+---------+---------------------+\n",
    "| 6       | 2020-06-30 15:06:07 |\n",
    "| 6       | 2021-04-21 14:06:06 |\n",
    "| 6       | 2019-03-07 00:18:15 |\n",
    "| 8       | 2020-02-01 05:10:53 |\n",
    "| 8       | 2020-12-30 00:46:50 |\n",
    "| 2       | 2020-01-16 02:49:50 |\n",
    "| 2       | 2019-08-25 07:59:08 |\n",
    "| 14      | 2019-07-14 09:00:00 |\n",
    "| 14      | 2021-01-06 11:59:59 |\n",
    "+---------+---------------------+\n",
    "```\n",
    "Output:  \n",
    "```\n",
    "+---------+---------------------+\n",
    "| user_id | last_stamp          |\n",
    "+---------+---------------------+\n",
    "| 6       | 2020-06-30 15:06:07 |\n",
    "| 8       | 2020-12-30 00:46:50 |\n",
    "| 2       | 2020-01-16 02:49:50 |\n",
    "+---------+---------------------+\n",
    "```\n",
    "Explanation:   \n",
    "User 6 logged into their account 3 times but only once in 2020, so we include this login in the result table.  \n",
    "User 8 logged into their account 2 times in 2020, once in February and once in December. We include only the latest one (December) in the result table.  \n",
    "User 2 logged into their account 2 times but only once in 2020, so we include this login in the result table.  \n",
    "User 14 did not login in 2020, so we do not include them in the result table.  "
   ]
  },
  {
   "cell_type": "markdown",
   "id": "ff9a411b-138a-4164-a30f-478f39555da8",
   "metadata": {},
   "source": [
    "* 解題想法:  \n",
    "首先新增一個欄位，將每個人的紀錄加上id，並用他們在2020年登入的時間進行排序，接著取出每個人的最後一個2020年的登入資料就是答案"
   ]
  },
  {
   "cell_type": "markdown",
   "id": "f4c45307-0f64-4558-ab03-69baccbae8fc",
   "metadata": {},
   "source": [
    "```\n",
    "# Write your MySQL query statement below  \n",
    "select user_id, time_stamp as last_stamp from (\n",
    "select *, ROW_NUMBER() over (partition by user_id order by time_stamp desc ) as o from \n",
    "(select * from Logins where time_stamp between '2020-01-01 00:00:00' and '2020-12-31 23:59:59') m ) n\n",
    "where o = 1\n",
    "```"
   ]
  }
 ],
 "metadata": {
  "kernelspec": {
   "display_name": "Python 3 (ipykernel)",
   "language": "python",
   "name": "python3"
  },
  "language_info": {
   "codemirror_mode": {
    "name": "ipython",
    "version": 3
   },
   "file_extension": ".py",
   "mimetype": "text/x-python",
   "name": "python",
   "nbconvert_exporter": "python",
   "pygments_lexer": "ipython3",
   "version": "3.9.13"
  }
 },
 "nbformat": 4,
 "nbformat_minor": 5
}
