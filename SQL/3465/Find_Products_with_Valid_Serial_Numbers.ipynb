{
 "cells": [
  {
   "cell_type": "markdown",
   "id": "b03052e0-3d56-4b70-8ac4-8e35c245ea83",
   "metadata": {},
   "source": [
    "# 本題要找出有哪些產品有符合的SN （\\#Where )\n",
    "原題目連結：https://leetcode.com/problems/find-products-with-valid-serial-numbers/description/  \n",
    "\n",
    "Table: products  \n",
    "```\n",
    "+--------------+------------+\n",
    "| Column Name  | Type       |\n",
    "+--------------+------------+\n",
    "| product_id   | int        |\n",
    "| product_name | varchar    |\n",
    "| description  | varchar    |\n",
    "+--------------+------------+\n",
    "```\n",
    "(product_id) is the unique key for this table.  \n",
    "Each row in the table represents a product with its unique ID, name, and description.  \n",
    "Write a solution to find all products whose description contains a valid serial number pattern. A valid serial number follows these rules:  \n",
    "\n",
    "It starts with the letters SN (case-sensitive).  \n",
    "Followed by exactly 4 digits.  \n",
    "It must have a hyphen (-) followed by exactly 4 digits.  \n",
    "The serial number must be within the description (it may not necessarily start at the beginning).  \n",
    "Return the result table ordered by product_id in ascending order.  \n",
    " \n",
    "The result format is in the following example.  \n",
    "\n",
    "範例：  \n",
    "Ex1:  \n",
    "products table:  \n",
    "```\n",
    "+------------+--------------+------------------------------------------------------+\n",
    "| product_id | product_name | description                                          |\n",
    "+------------+--------------+------------------------------------------------------+\n",
    "| 1          | Widget A     | This is a sample product with SN1234-5678            |\n",
    "| 2          | Widget B     | A product with serial SN9876-1234 in the description |\n",
    "| 3          | Widget C     | Product SN1234-56789 is available now                |\n",
    "| 4          | Widget D     | No serial number here                                |\n",
    "| 5          | Widget E     | Check out SN4321-8765 in this description            |\n",
    "+------------+--------------+------------------------------------------------------+\n",
    "``` \n",
    "Output:  \n",
    "```\n",
    "+------------+--------------+------------------------------------------------------+\n",
    "| product_id | product_name | description                                          |\n",
    "+------------+--------------+------------------------------------------------------+\n",
    "| 1          | Widget A     | This is a sample product with SN1234-5678            |\n",
    "| 2          | Widget B     | A product with serial SN9876-1234 in the description |\n",
    "| 5          | Widget E     | Check out SN4321-8765 in this description            |\n",
    "+------------+--------------+------------------------------------------------------+\n",
    "```\n",
    "Explanation:  \n",
    "Product 1: Valid serial number SN1234-5678  \n",
    "Product 2: Valid serial number SN9876-1234  \n",
    "Product 3: Invalid serial number SN1234-56789 (contains 5 digits after the hyphen)  \n",
    "Product 4: No serial number in the description  \n",
    "Product 5: Valid serial number SN4321-8765  \n",
    "The result table is ordered by product_id in ascending order.  "
   ]
  },
  {
   "cell_type": "markdown",
   "id": "5671d09e-dd5e-4cd2-89ff-25525dcce488",
   "metadata": {},
   "source": [
    "* 解題想法：  \n",
    "用where的方式來進行過濾，並用`%SN____-____ %`及`%SN____-____`來過濾SN在句子中或是句子最後的兩種可能的情況，最後進行排序就是結果"
   ]
  },
  {
   "cell_type": "markdown",
   "id": "3daeb558-87d2-458f-b0a8-a4d05500f4da",
   "metadata": {},
   "source": [
    "/* Write your T-SQL query statement below */  \n",
    "select * from products  \n",
    "where description like '%SN____-____ %' or description like '%SN____-____'  \n",
    "order by product_id"
   ]
  }
 ],
 "metadata": {
  "kernelspec": {
   "display_name": "Python 3 (ipykernel)",
   "language": "python",
   "name": "python3"
  },
  "language_info": {
   "codemirror_mode": {
    "name": "ipython",
    "version": 3
   },
   "file_extension": ".py",
   "mimetype": "text/x-python",
   "name": "python",
   "nbconvert_exporter": "python",
   "pygments_lexer": "ipython3",
   "version": "3.10.9"
  }
 },
 "nbformat": 4,
 "nbformat_minor": 5
}
