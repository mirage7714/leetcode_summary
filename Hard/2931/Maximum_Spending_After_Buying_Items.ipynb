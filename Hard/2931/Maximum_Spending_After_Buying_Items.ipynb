{
 "cells": [
  {
   "cell_type": "markdown",
   "id": "a3946a62-7f3a-4a48-a2cd-24bea2b777c2",
   "metadata": {},
   "source": [
    "# 本題要找出最多要花多少錢才能把所有商品買下 (\\#Array, \\#Heap )\n",
    "原題目連結: https://leetcode.com/problems/maximum-spending-after-buying-items/description/  \n",
    "\n",
    "You are given a 0-indexed m * n integer matrix values, representing the values of m * n different items in m different shops. Each shop has n items where the jth item in the ith shop has a value of values[i][j]. Additionally, the items in the ith shop are sorted in non-increasing order of value. That is, values[i][j] >= values[i][j + 1] for all 0 <= j < n - 1.  \n",
    "\n",
    "On each day, you would like to buy a single item from one of the shops. Specifically, On the dth day you can:  \n",
    "Pick any shop i.  \n",
    "Buy the rightmost available item j for the price of values[i][j] * d. That is, find the greatest index j such that item j was never bought before, and buy it for the price of values[i][j] * d.  \n",
    "Note that all items are pairwise different. For example, if you have bought item 0 from shop 1, you can still buy item 0 from any other shop.  \n",
    "\n",
    "Return the maximum amount of money that can be spent on buying all m * n products.  \n",
    "\n",
    "範例:  \n",
    "Ex1:  \n",
    "Input: values = [[8,5,2],[6,4,1],[9,7,3]]  \n",
    "Output: 285  \n",
    "Explanation: On the first day, we buy product 2 from shop 1 for a price of values[1][2] * 1 = 1.  \n",
    "On the second day, we buy product 2 from shop 0 for a price of values[0][2] * 2 = 4.  \n",
    "On the third day, we buy product 2 from shop 2 for a price of values[2][2] * 3 = 9.  \n",
    "On the fourth day, we buy product 1 from shop 1 for a price of values[1][1] * 4 = 16.  \n",
    "On the fifth day, we buy product 1 from shop 0 for a price of values[0][1] * 5 = 25.  \n",
    "On the sixth day, we buy product 0 from shop 1 for a price of values[1][0] * 6 = 36.  \n",
    "On the seventh day, we buy product 1 from shop 2 for a price of values[2][1] * 7 = 49.  \n",
    "On the eighth day, we buy product 0 from shop 0 for a price of values[0][0] * 8 = 64.  \n",
    "On the ninth day, we buy product 0 from shop 2 for a price of values[2][0] * 9 = 81.  \n",
    "Hence, our total spending is equal to 285.  \n",
    "It can be shown that 285 is the maximum amount of money that can be spent buying all m * n products.   \n",
    "\n",
    "Ex2:  \n",
    "Input: values = [[10,8,6,4,2],[9,7,5,3,2]]  \n",
    "Output: 386  \n",
    "Explanation: On the first day, we buy product 4 from shop 0 for a price of values[0][4] * 1 = 2.  \n",
    "On the second day, we buy product 4 from shop 1 for a price of values[1][4] * 2 = 4.  \n",
    "On the third day, we buy product 3 from shop 1 for a price of values[1][3] * 3 = 9.  \n",
    "On the fourth day, we buy product 3 from shop 0 for a price of values[0][3] * 4 = 16.    \n",
    "On the fifth day, we buy product 2 from shop 1 for a price of values[1][2] * 5 = 25.  \n",
    "On the sixth day, we buy product 2 from shop 0 for a price of values[0][2] * 6 = 36.  \n",
    "On the seventh day, we buy product 1 from shop 1 for a price of values[1][1] * 7 = 49.  \n",
    "On the eighth day, we buy product 1 from shop 0 for a price of values[0][1] * 8 = 64  \n",
    "On the ninth day, we buy product 0 from shop 1 for a price of values[1][0] * 9 = 81.  \n",
    "On the tenth day, we buy product 0 from shop 0 for a price of values[0][0] * 10 = 100.  \n",
    "Hence, our total spending is equal to 386.  \n",
    "It can be shown that 386 is the maximum amount of money that can be spent buying all m * n products."
   ]
  },
  {
   "cell_type": "markdown",
   "id": "a5b5f5c4-b45e-4f43-b1e7-9a1250e08f5b",
   "metadata": {},
   "source": [
    "* 解題想法:  \n",
    "首先將所有商品的價格放入一個heap中，接著從最小的值開始取出並乘上天數，最後將結果進行加總就是答案"
   ]
  },
  {
   "cell_type": "code",
   "execution_count": null,
   "id": "455c9f3c-1922-4c6e-a80d-3eebe3fd3652",
   "metadata": {},
   "outputs": [],
   "source": [
    "import heapq\n",
    "\n",
    "class Solution:\n",
    "    def maxSpending(self, values: List[List[int]]) -> int:\n",
    "        res = 0\n",
    "        temp = []\n",
    "        i = 1\n",
    "        heapq.heapify(temp)\n",
    "        for val in values:\n",
    "            for v in val:\n",
    "                heapq.heappush(temp, v)\n",
    "        while temp:\n",
    "            n = heapq.heappop(temp)\n",
    "            res += i * n\n",
    "            i += 1\n",
    "        return res"
   ]
  }
 ],
 "metadata": {
  "kernelspec": {
   "display_name": "Python 3 (ipykernel)",
   "language": "python",
   "name": "python3"
  },
  "language_info": {
   "codemirror_mode": {
    "name": "ipython",
    "version": 3
   },
   "file_extension": ".py",
   "mimetype": "text/x-python",
   "name": "python",
   "nbconvert_exporter": "python",
   "pygments_lexer": "ipython3",
   "version": "3.11.4"
  }
 },
 "nbformat": 4,
 "nbformat_minor": 5
}
