{
 "cells": [
  {
   "cell_type": "markdown",
   "metadata": {},
   "source": [
    "# 本題要將linked list中每K個元素進行調轉順序\n",
    "原題目連結: https://leetcode.com/problems/reverse-nodes-in-k-group/  \n",
    "\n",
    "Given the head of a linked list, reverse the nodes of the list k at a time, and return the modified list.  \n",
    "\n",
    "k is a positive integer and is less than or equal to the length of the linked list. If the number of nodes is not a multiple of k then left-out nodes, in the end, should remain as it is.  \n",
    "\n",
    "You may not alter the values in the list's nodes, only nodes themselves may be changed.  \n",
    "\n",
    "範例:  \n",
    "Ex1:  \n",
    "Input: head = [1,2,3,4,5], k = 2  \n",
    "Output: [2,1,4,3,5]  \n",
    "\n",
    "Ex2:  \n",
    "Input: head = [1,2,3,4,5], k = 3  \n",
    "Output: [3,2,1,4,5]"
   ]
  },
  {
   "cell_type": "markdown",
   "metadata": {},
   "source": [
    "* 解題想法:  \n",
    "首先用一個list來做暫存，接著開始走訪linked list，如果暫存中的node數量等於k時，則將暫存中的node順序顛倒後放到result後，最後檢查暫存中是否還有node，如果有node且長度為k時則一樣倒轉順序後加入result，否則\n",
    "直接加到result後"
   ]
  },
  {
   "cell_type": "code",
   "execution_count": null,
   "metadata": {},
   "outputs": [],
   "source": [
    "# Definition for singly-linked list.\n",
    "# class ListNode:\n",
    "#     def __init__(self, val=0, next=None):\n",
    "#         self.val = val\n",
    "#         self.next = next\n",
    "class Solution:\n",
    "    def reverseKGroup(self, head: Optional[ListNode], k: int) -> Optional[ListNode]:\n",
    "        result = ListNode(0)\n",
    "        index = result\n",
    "        temp = []\n",
    "        while head:\n",
    "            if len(temp) == k:\n",
    "                for t in range(len(temp)-1, -1, -1):\n",
    "                    index.next = temp[t]\n",
    "                    index = index.next\n",
    "                temp.clear()\n",
    "            n = head.next\n",
    "            head.next = None\n",
    "            temp.append(head)\n",
    "            head = n\n",
    "        if temp:\n",
    "            if len(temp) == k:\n",
    "                temp.reverse()\n",
    "            for t in temp:\n",
    "                index.next = t\n",
    "                index = index.next\n",
    "        return result.next"
   ]
  }
 ],
 "metadata": {
  "kernelspec": {
   "display_name": "Python 3",
   "language": "python",
   "name": "python3"
  },
  "language_info": {
   "codemirror_mode": {
    "name": "ipython",
    "version": 3
   },
   "file_extension": ".py",
   "mimetype": "text/x-python",
   "name": "python",
   "nbconvert_exporter": "python",
   "pygments_lexer": "ipython3",
   "version": "3.7.4"
  }
 },
 "nbformat": 4,
 "nbformat_minor": 4
}
