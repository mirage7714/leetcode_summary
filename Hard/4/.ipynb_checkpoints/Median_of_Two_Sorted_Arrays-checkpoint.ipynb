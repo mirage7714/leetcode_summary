{
 "cells": [
  {
   "cell_type": "markdown",
   "metadata": {},
   "source": [
    "# 本題要找出兩個array合併後的中位數為何\n",
    "原題目連結：https://leetcode.com/problems/median-of-two-sorted-arrays/  \n",
    "\n",
    "Given two sorted arrays nums1 and nums2 of size m and n respectively, return the median of the two sorted arrays.  \n",
    "\n",
    "Follow up: The overall run time complexity should be O(log (m+n)).  \n",
    "\n",
    "範例：  \n",
    "Ex1:  \n",
    "Input: nums1 = [1,3], nums2 = [2]  \n",
    "Output: 2.00000  \n",
    "Explanation: merged array = [1,2,3] and median is 2.\n",
    "\n",
    "Ex2:  \n",
    "Input: nums1 = [1,2], nums2 = [3,4]  \n",
    "Output: 2.50000  \n",
    "Explanation: merged array = [1,2,3,4] and median is (2 + 3) / 2 = 2.5.  \n",
    "\n",
    "Ex3:  \n",
    "Input: nums1 = [0,0], nums2 = [0,0]  \n",
    "Output: 0.00000  \n",
    "\n",
    "Ex4:  \n",
    "Input: nums1 = [], nums2 = [1]  \n",
    "Output: 1.00000  \n",
    "\n",
    "Ex5:  \n",
    "Input: nums1 = [2], nums2 = []  \n",
    "Output: 2.00000"
   ]
  },
  {
   "cell_type": "markdown",
   "metadata": {},
   "source": [
    "* 解題想法：  \n",
    "由於題目提供兩個排序後的list進行合併，但其實合併後還是需要重新進行排序，這邊直接使用內建的sort函數，排序後找出中位數就是題目要求的答案"
   ]
  },
  {
   "cell_type": "code",
   "execution_count": null,
   "metadata": {},
   "outputs": [],
   "source": [
    "class Solution:\n",
    "    def findMedianSortedArrays(self, nums1: List[int], nums2: List[int]) -> float:\n",
    "        nums = nums1 + nums2\n",
    "        nums.sort()\n",
    "        med = 0\n",
    "        if len(nums) % 2 == 0:\n",
    "            i = int(len(nums) / 2)\n",
    "            med = (nums[i] + nums[i-1])/2\n",
    "        else:\n",
    "            i = int(len(nums) / 2) \n",
    "            med = nums[i]\n",
    "        return med"
   ]
  }
 ],
 "metadata": {
  "kernelspec": {
   "display_name": "Python 3",
   "language": "python",
   "name": "python3"
  },
  "language_info": {
   "codemirror_mode": {
    "name": "ipython",
    "version": 3
   },
   "file_extension": ".py",
   "mimetype": "text/x-python",
   "name": "python",
   "nbconvert_exporter": "python",
   "pygments_lexer": "ipython3",
   "version": "3.7.6"
  }
 },
 "nbformat": 4,
 "nbformat_minor": 4
}
