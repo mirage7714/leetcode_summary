{
 "cells": [
  {
   "cell_type": "markdown",
   "metadata": {},
   "source": [
    "# 本題要找出array中的最小值為何\n",
    "原題目連結: https://leetcode.com/problems/find-minimum-in-rotated-sorted-array-ii/\n",
    "\n",
    "Suppose an array sorted in ascending order is rotated at some pivot unknown to you beforehand.  \n",
    "(i.e.,  [0,1,2,4,5,6,7] might become  [4,5,6,7,0,1,2]).  \n",
    "Find the minimum element.  \n",
    "The array may contain duplicates.  \n",
    "\n",
    "範例:  \n",
    "Ex1:  \n",
    "Input: [1,3,5]  \n",
    "Output: 1  \n",
    "\n",
    "Ex2:  \n",
    "Input: [2,2,2,0,1]  \n",
    "Output: 0"
   ]
  },
  {
   "cell_type": "markdown",
   "metadata": {},
   "source": [
    "* 解題想法:  \n",
    "由於題目要找出array中最小的值，但並不保證這個array是有經過排序的，因此假設第一個值是最小值，並與後面的每個數字進行比較  \n",
    "如果有更小的數字則將最小值替代為這個值，否則就繼續找下去直到迴圈結束為止"
   ]
  },
  {
   "cell_type": "code",
   "execution_count": null,
   "metadata": {},
   "outputs": [],
   "source": [
    "class Solution:\n",
    "    def findMin(self, nums: List[int]) -> int:\n",
    "        small = nums[0]\n",
    "        for n in range(1, len(nums)):\n",
    "            if nums[n] < small:\n",
    "                small = nums[n]\n",
    "        return small"
   ]
  }
 ],
 "metadata": {
  "kernelspec": {
   "display_name": "Python 3",
   "language": "python",
   "name": "python3"
  },
  "language_info": {
   "codemirror_mode": {
    "name": "ipython",
    "version": 3
   },
   "file_extension": ".py",
   "mimetype": "text/x-python",
   "name": "python",
   "nbconvert_exporter": "python",
   "pygments_lexer": "ipython3",
   "version": "3.7.4"
  }
 },
 "nbformat": 4,
 "nbformat_minor": 2
}
