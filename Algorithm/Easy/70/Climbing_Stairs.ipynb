{
 "cells": [
  {
   "cell_type": "markdown",
   "metadata": {},
   "source": [
    "# 本題要找出共有幾種爬樓梯的方式\n",
    "原題目連結: https://leetcode.com/problems/climbing-stairs/  \n",
    "\n",
    "You are climbing a staircase. It takes n steps to reach the top.  \n",
    "\n",
    "Each time you can either climb 1 or 2 steps. In how many distinct ways can you climb to the top?  \n",
    "\n",
    "範例:  \n",
    "Ex1:  \n",
    "Input: n = 2  \n",
    "Output: 2  \n",
    "Explanation: There are two ways to climb to the top.  \n",
    "1. 1 step + 1 step  \n",
    "2. 2 steps  \n",
    "\n",
    "Ex2:  \n",
    "Input: n = 3  \n",
    "Output: 3  \n",
    "Explanation: There are three ways to climb to the top.  \n",
    "1. 1 step + 1 step + 1 step  \n",
    "2. 1 step + 2 steps  \n",
    "3. 2 steps + 1 step"
   ]
  },
  {
   "cell_type": "markdown",
   "metadata": {},
   "source": [
    "* 解題想法:  \n",
    "從底層開始看，爬樓梯的方式其實可以想成費波納西數列，例如三階的情況，可以想成兩階與一階的組合，而四階的情況，則可以想成第一次先走一階(剩三階)與第一次走兩階(剩兩階)的情況，因此四階就是三階與兩階的組合，因此用一個list先從最下層開始進行，並將計算結果放入list後，最後回傳list的最後一個值"
   ]
  },
  {
   "cell_type": "code",
   "execution_count": null,
   "metadata": {},
   "outputs": [],
   "source": [
    "class Solution:\n",
    "    def climbStairs(self, n: int) -> int:\n",
    "        results = [1,1]\n",
    "        if n == 1:\n",
    "            return 1\n",
    "        elif n == 2:\n",
    "            return 2\n",
    "        else:\n",
    "            for m in range(2, n+1):\n",
    "                results.append(results[-1] + results[-2])\n",
    "            return results[-1]"
   ]
  }
 ],
 "metadata": {
  "kernelspec": {
   "display_name": "Python 3",
   "language": "python",
   "name": "python3"
  },
  "language_info": {
   "codemirror_mode": {
    "name": "ipython",
    "version": 3
   },
   "file_extension": ".py",
   "mimetype": "text/x-python",
   "name": "python",
   "nbconvert_exporter": "python",
   "pygments_lexer": "ipython3",
   "version": "3.7.4"
  }
 },
 "nbformat": 4,
 "nbformat_minor": 4
}
