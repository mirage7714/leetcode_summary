{
 "cells": [
  {
   "cell_type": "markdown",
   "metadata": {},
   "source": [
    "# 本題要找出有多少substring中是沒有重複字母的\n",
    "原題目連結: https://leetcode.com/problems/substrings-of-size-three-with-distinct-characters/  \n",
    "\n",
    "A string is good if there are no repeated characters.  \n",
    "\n",
    "Given a string s​​​​​, return the number of good substrings of length three in s​​​​​​.  \n",
    "\n",
    "Note that if there are multiple occurrences of the same substring, every occurrence should be counted.  \n",
    "\n",
    "A substring is a contiguous sequence of characters in a string.  \n",
    "\n",
    "範例: \n",
    "Ex1:  \n",
    "Input: s = \"xyzzaz\"  \n",
    "Output: 1  \n",
    "Explanation: There are 4 substrings of size 3: \"xyz\", \"yzz\", \"zza\", and \"zaz\".   \n",
    "The only good substring of length 3 is \"xyz\".  \n",
    "\n",
    "Ex2:  \n",
    "Input: s = \"aababcabc\"  \n",
    "Output: 4  \n",
    "Explanation: There are 7 substrings of size 3: \"aab\", \"aba\", \"bab\", \"abc\", \"bca\", \"cab\", and \"abc\".  \n",
    "The good substrings are \"abc\", \"bca\", \"cab\", and \"abc\".  "
   ]
  },
  {
   "cell_type": "markdown",
   "metadata": {},
   "source": [
    "* 解題想法:  \n",
    "首先建立了一個檢查是否為有效的函數，來判斷是否有出現重複字母，如果無則回傳True，否則回傳False  \n",
    "接著用一個for loop檢查每個長度為三的子字串中是否有重複的字母，如果無則將count加一，最後回傳count值"
   ]
  },
  {
   "cell_type": "code",
   "execution_count": null,
   "metadata": {},
   "outputs": [],
   "source": [
    "class Solution:\n",
    "    def countGoodSubstrings(self, s: str) -> int:\n",
    "        def checkGoodString(word):\n",
    "            is_valid = False\n",
    "            if word[0] != word[1] and word[1] != word[2] and word[0] != word[2]:\n",
    "                is_valid = True\n",
    "            return is_valid\n",
    "        \n",
    "        count = 0\n",
    "        for m in range(len(s)-2):\n",
    "            if checkGoodString(s[m:m+3]):\n",
    "                count += 1\n",
    "        return count"
   ]
  }
 ],
 "metadata": {
  "kernelspec": {
   "display_name": "Python 3",
   "language": "python",
   "name": "python3"
  },
  "language_info": {
   "codemirror_mode": {
    "name": "ipython",
    "version": 3
   },
   "file_extension": ".py",
   "mimetype": "text/x-python",
   "name": "python",
   "nbconvert_exporter": "python",
   "pygments_lexer": "ipython3",
   "version": "3.7.4"
  }
 },
 "nbformat": 4,
 "nbformat_minor": 2
}
