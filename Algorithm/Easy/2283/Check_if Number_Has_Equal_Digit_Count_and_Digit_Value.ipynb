{
 "cells": [
  {
   "cell_type": "markdown",
   "metadata": {},
   "source": [
    "# 本題要判斷該index的數值是否等於出現的次數\n",
    "原題目連結: https://leetcode.com/problems/check-if-number-has-equal-digit-count-and-digit-value/  \n",
    "\n",
    "You are given a 0-indexed string num of length n consisting of digits.  \n",
    "Return true if for every index i in the range 0 <= i < n, the digit i occurs num[i] times in num, otherwise return false.  \n",
    "\n",
    "範例:  \n",
    "Ex1:  \n",
    "Input: num = \"1210\"  \n",
    "Output: true  \n",
    "Explanation:  \n",
    "num[0] = '1'. The digit 0 occurs once in num.  \n",
    "num[1] = '2'. The digit 1 occurs twice in num.  \n",
    "num[2] = '1'. The digit 2 occurs once in num.  \n",
    "num[3] = '0'. The digit 3 occurs zero times in num.  \n",
    "The condition holds true for every index in \"1210\", so return true.  \n",
    "\n",
    "Ex2:  \n",
    "Input: num = \"030\"  \n",
    "Output: false  \n",
    "Explanation:  \n",
    "num[0] = '0'. The digit 0 should occur zero times, but actually occurs twice in num.  \n",
    "num[1] = '3'. The digit 1 should occur three times, but actually occurs zero times in num.  \n",
    "num[2] = '0'. The digit 2 occurs zero times in num.  \n",
    "The indices 0 and 1 both violate the condition, so return false."
   ]
  },
  {
   "cell_type": "markdown",
   "metadata": {},
   "source": [
    "* 解題想法:  \n",
    "首先用一個迴圈統計每個數值出現的次數為多少，接著檢查每個index所出現的數值是否等於該數值出現的次數，如果不符合則中斷迴圈並回傳False，如果迴圈順利結束則回傳True"
   ]
  },
  {
   "cell_type": "code",
   "execution_count": null,
   "metadata": {},
   "outputs": [],
   "source": [
    "class Solution:\n",
    "    def digitCount(self, num: str) -> bool:\n",
    "        result = True\n",
    "        freq = {}\n",
    "        for n in num:\n",
    "            if n not in freq.keys():\n",
    "                freq[n] = 1\n",
    "            else:\n",
    "                freq[n] += 1\n",
    "        for m in range(len(num)):\n",
    "            i = str(m)\n",
    "            if i in freq.keys():\n",
    "                if num[m] != str(freq[i]):\n",
    "                    result = False\n",
    "                    break\n",
    "            else:\n",
    "                if num[m] != '0':\n",
    "                    result = False\n",
    "                    break\n",
    "        return result"
   ]
  }
 ],
 "metadata": {
  "kernelspec": {
   "display_name": "Python 3",
   "language": "python",
   "name": "python3"
  },
  "language_info": {
   "codemirror_mode": {
    "name": "ipython",
    "version": 3
   },
   "file_extension": ".py",
   "mimetype": "text/x-python",
   "name": "python",
   "nbconvert_exporter": "python",
   "pygments_lexer": "ipython3",
   "version": "3.7.4"
  }
 },
 "nbformat": 4,
 "nbformat_minor": 4
}
