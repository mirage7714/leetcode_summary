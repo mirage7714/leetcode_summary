{
 "cells": [
  {
   "cell_type": "markdown",
   "id": "51d80b5d-d142-49f2-968b-3e576969c366",
   "metadata": {},
   "source": [
    "# 本題要找出最後的贏家是誰 (\\#Math )\n",
    "原題目連結: https://leetcode.com/problems/find-the-winning-player-in-coin-game/description/  \n",
    "\n",
    "You are given two positive integers x and y, denoting the number of coins with values 75 and 10 respectively.  \n",
    "Alice and Bob are playing a game. Each turn, starting with Alice, the player must pick up coins with a total value 115. If the player is unable to do so, they lose the game.  \n",
    "Return the name of the player who wins the game if both players play optimally.  \n",
    "\n",
    "範例:  \n",
    "Ex1:  \n",
    "Input: x = 2, y = 7  \n",
    "Output: \"Alice\"  \n",
    "Explanation:  \n",
    "The game ends in a single turn:  \n",
    "Alice picks 1 coin with a value of 75 and 4 coins with a value of 10.  \n",
    "\n",
    "Ex2:  \n",
    "Input: x = 4, y = 11  \n",
    "Output: \"Bob\"  \n",
    "Explanation:  \n",
    "The game ends in 2 turns:  \n",
    "Alice picks 1 coin with a value of 75 and 4 coins with a value of 10.  \n",
    "Bob picks 1 coin with a value of 75 and 4 coins with a value of 10.  "
   ]
  },
  {
   "cell_type": "markdown",
   "id": "1dc1ebe3-1a39-46d3-935c-7c8b05d7002d",
   "metadata": {},
   "source": [
    "* 解題想法:  \n",
    "算出最多可以滿足幾次的需求(一次需要1個x與4個y)，計算出次數之後就可以算出最後贏家是誰"
   ]
  },
  {
   "cell_type": "code",
   "execution_count": null,
   "id": "5616f960-5b84-43ab-9b4e-ab22804db818",
   "metadata": {},
   "outputs": [],
   "source": [
    "class Solution:\n",
    "    def losingPlayer(self, x: int, y: int) -> str:\n",
    "        i = x / 1\n",
    "        j = y // 4\n",
    "        count = min(i, j)\n",
    "        if count % 2 == 0:\n",
    "            return 'Bob'\n",
    "        else:\n",
    "            return 'Alice'"
   ]
  }
 ],
 "metadata": {
  "kernelspec": {
   "display_name": "Python 3 (ipykernel)",
   "language": "python",
   "name": "python3"
  },
  "language_info": {
   "codemirror_mode": {
    "name": "ipython",
    "version": 3
   },
   "file_extension": ".py",
   "mimetype": "text/x-python",
   "name": "python",
   "nbconvert_exporter": "python",
   "pygments_lexer": "ipython3",
   "version": "3.9.13"
  }
 },
 "nbformat": 4,
 "nbformat_minor": 5
}
