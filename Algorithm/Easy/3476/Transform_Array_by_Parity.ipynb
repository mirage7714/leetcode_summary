{
 "cells": [
  {
   "cell_type": "markdown",
   "id": "520af6f1-9ed5-4940-8a31-28a8e4fa17de",
   "metadata": {},
   "source": [
    "# 本題要找出轉換後的list為何 (\\#Array )\n",
    "原題目連結: https://leetcode.com/problems/transform-array-by-parity/description/  \n",
    "\n",
    "You are given an integer array nums. Transform nums by performing the following operations in the exact order specified:  \n",
    "Replace each even number with 0.  \n",
    "Replace each odd numbers with 1.  \n",
    "Sort the modified array in non-decreasing order.  \n",
    "Return the resulting array after performing these operations.  \n",
    "\n",
    "範例:  \n",
    "Ex1:  \n",
    "Input: nums = [4,3,2,1]  \n",
    "Output: [0,0,1,1]  \n",
    "Explanation:  \n",
    "Replace the even numbers (4 and 2) with 0 and the odd numbers (3 and 1) with 1. Now, nums = [0, 1, 0, 1].  \n",
    "After sorting nums in non-descending order, nums = [0, 0, 1, 1].  \n",
    "\n",
    "Ex2:  \n",
    "Input: nums = [1,5,1,4,2]  \n",
    "Output: [0,0,1,1,1]  \n",
    "Explanation:  \n",
    "Replace the even numbers (4 and 2) with 0 and the odd numbers (1, 5 and 1) with 1. Now, nums = [1, 1, 1, 0, 0].  \n",
    "After sorting nums in non-descending order, nums = [0, 0, 1, 1, 1].  "
   ]
  },
  {
   "cell_type": "markdown",
   "id": "da926dbf-7179-4e96-9f63-fcd19469fa0a",
   "metadata": {},
   "source": [
    "* 解題想法:  \n",
    "首先找出共有多少個奇數與偶數，接著重新組合出新的list就是答案"
   ]
  },
  {
   "cell_type": "code",
   "execution_count": null,
   "id": "1b6ef67e-3784-4715-a9b1-641b25dadf85",
   "metadata": {},
   "outputs": [],
   "source": [
    "class Solution:\n",
    "    def transformArray(self, nums: List[int]) -> List[int]:\n",
    "        z = []\n",
    "        o = []\n",
    "        for n in nums:\n",
    "            if n % 2 == 0:\n",
    "                z.append(0)\n",
    "            else:\n",
    "                o.append(1)\n",
    "        return z + o"
   ]
  }
 ],
 "metadata": {
  "kernelspec": {
   "display_name": "Python 3 (ipykernel)",
   "language": "python",
   "name": "python3"
  },
  "language_info": {
   "codemirror_mode": {
    "name": "ipython",
    "version": 3
   },
   "file_extension": ".py",
   "mimetype": "text/x-python",
   "name": "python",
   "nbconvert_exporter": "python",
   "pygments_lexer": "ipython3",
   "version": "3.9.13"
  }
 },
 "nbformat": 4,
 "nbformat_minor": 5
}
