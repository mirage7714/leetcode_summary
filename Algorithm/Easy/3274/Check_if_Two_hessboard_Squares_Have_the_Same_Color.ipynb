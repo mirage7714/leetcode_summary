{
 "cells": [
  {
   "cell_type": "markdown",
   "id": "67b50d47-213d-4bb3-b6c5-3b19bfb3664a",
   "metadata": {},
   "source": [
    "# 本題要判斷棋盤上的兩個點是否顏色相同 (\\#String )\n",
    "原題目連結: https://leetcode.com/problems/check-if-two-chessboard-squares-have-the-same-color/description/   \n",
    "\n",
    "You are given two strings, coordinate1 and coordinate2, representing the coordinates of a square on an 8 x 8 chessboard.  \n",
    "Below is the chessboard for reference.  \n",
    "Return true if these two squares have the same color and false otherwise.  \n",
    "The coordinate will always represent a valid chessboard square. The coordinate will always have the letter first (indicating its column), and the number second (indicating its row).  \n",
    "\n",
    "範例:  \n",
    "Ex1:  \n",
    "Input: coordinate1 = \"a1\", coordinate2 = \"c3\"  \n",
    "Output: true  \n",
    "Explanation:  \n",
    "Both squares are black.  \n",
    "\n",
    "Ex2:  \n",
    "Input: coordinate1 = \"a1\", coordinate2 = \"h3\"  \n",
    "Output: false  \n",
    "Explanation:  \n",
    "Square \"a1\" is black and \"h3\" is white."
   ]
  },
  {
   "cell_type": "markdown",
   "id": "ebb295b6-a323-4e31-9429-96a7924090a2",
   "metadata": {},
   "source": [
    "* 解題想法:  \n",
    "首先找出英文字的ascii碼並加上後面的數字，如果兩個座標都是奇數或偶數則代表是同個顏色，如果不同則為不同顏色"
   ]
  },
  {
   "cell_type": "code",
   "execution_count": null,
   "id": "ce369b7d-39e7-4c9f-930d-b3936e6031d4",
   "metadata": {},
   "outputs": [],
   "source": [
    "class Solution:\n",
    "    def checkTwoChessboards(self, coordinate1: str, coordinate2: str) -> bool:\n",
    "        c1 = ord(coordinate1[0]) + int(coordinate1[1])\n",
    "        c2 = ord(coordinate2[0]) + int(coordinate2[1])\n",
    "        if c1 % 2 == c2 % 2:\n",
    "            return True\n",
    "        return False"
   ]
  }
 ],
 "metadata": {
  "kernelspec": {
   "display_name": "Python 3 (ipykernel)",
   "language": "python",
   "name": "python3"
  },
  "language_info": {
   "codemirror_mode": {
    "name": "ipython",
    "version": 3
   },
   "file_extension": ".py",
   "mimetype": "text/x-python",
   "name": "python",
   "nbconvert_exporter": "python",
   "pygments_lexer": "ipython3",
   "version": "3.9.13"
  }
 },
 "nbformat": 4,
 "nbformat_minor": 5
}
