{
 "cells": [
  {
   "cell_type": "markdown",
   "id": "2ef07c95-4f17-4e44-8e2e-1bfbff06e287",
   "metadata": {},
   "source": [
    "# 本題要找出數字總和最小的是多少 (\\#Array )\n",
    "原題目連結: https://leetcode.com/problems/minimum-element-after-replacement-with-digit-sum/description/  \n",
    "\n",
    "You are given an integer array nums.  \n",
    "You replace each element in nums with the sum of its digits.  \n",
    "Return the minimum element in nums after all replacements.  \n",
    "\n",
    "範例:  \n",
    "Ex1:  \n",
    "Input: nums = [10,12,13,14]  \n",
    "Output: 1  \n",
    "Explanation:  \n",
    "nums becomes [1, 3, 4, 5] after all replacements, with minimum element 1.  \n",
    "\n",
    "Ex2:  \n",
    "Input: nums = [1,2,3,4]  \n",
    "Output: 1  \n",
    "Explanation:  \n",
    "nums becomes [1, 2, 3, 4] after all replacements, with minimum element 1.  \n",
    "\n",
    "Ex3:  \n",
    "Input: nums = [999,19,199]  \n",
    "Output: 10  \n",
    "Explanation:  \n",
    "nums becomes [27, 10, 19] after all replacements, with minimum element 10."
   ]
  },
  {
   "cell_type": "markdown",
   "id": "49a50233-2bca-4d99-9e68-84b66e725947",
   "metadata": {},
   "source": [
    "* 解題想法:  \n",
    "首先找出list中每個數字的數字總和，接著找出最小值就是答案"
   ]
  },
  {
   "cell_type": "code",
   "execution_count": null,
   "id": "2852ac95-c484-46e6-8853-65e41d5f24c6",
   "metadata": {},
   "outputs": [],
   "source": [
    "class Solution:\n",
    "    def minElement(self, nums: List[int]) -> int:\n",
    "        res = []\n",
    "        for n in nums:\n",
    "            t = 0\n",
    "            s = str(n)\n",
    "            for i in s:\n",
    "                t += int(i)\n",
    "            res.append(t)\n",
    "        return min(res)"
   ]
  }
 ],
 "metadata": {
  "kernelspec": {
   "display_name": "Python 3 (ipykernel)",
   "language": "python",
   "name": "python3"
  },
  "language_info": {
   "codemirror_mode": {
    "name": "ipython",
    "version": 3
   },
   "file_extension": ".py",
   "mimetype": "text/x-python",
   "name": "python",
   "nbconvert_exporter": "python",
   "pygments_lexer": "ipython3",
   "version": "3.9.13"
  }
 },
 "nbformat": 4,
 "nbformat_minor": 5
}
