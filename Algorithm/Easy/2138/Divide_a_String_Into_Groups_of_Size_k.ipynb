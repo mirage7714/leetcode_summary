{
 "cells": [
  {
   "cell_type": "markdown",
   "metadata": {},
   "source": [
    "# 本題要將指定的字串切成長度K的子字串\n",
    "原題目連結: https://leetcode.com/problems/divide-a-string-into-groups-of-size-k/  \n",
    "\n",
    "A string s can be partitioned into groups of size k using the following procedure:  \n",
    "\n",
    "The first group consists of the first k characters of the string, the second group consists of the next k characters of the string, and so on. Each character can be a part of exactly one group.  \n",
    "For the last group, if the string does not have k characters remaining, a character fill is used to complete the group.  \n",
    "Note that the partition is done so that after removing the fill character from the last group (if it exists) and concatenating all the groups in order, the resultant string should be s.  \n",
    "\n",
    "Given the string s, the size of each group k and the character fill, return a string array denoting the composition of every group s has been divided into, using the above procedure.  \n",
    "\n",
    "範例:  \n",
    "Ex1:  \n",
    "Input: s = \"abcdefghi\", k = 3, fill = \"x\"  \n",
    "Output: [\"abc\",\"def\",\"ghi\"]  \n",
    "Explanation:  \n",
    "The first 3 characters \"abc\" form the first group.  \n",
    "The next 3 characters \"def\" form the second group.  \n",
    "The last 3 characters \"ghi\" form the third group.  \n",
    "Since all groups can be completely filled by characters from the string, we do not need to use fill.  \n",
    "Thus, the groups formed are \"abc\", \"def\", and \"ghi\".  \n",
    "\n",
    "Ex2:  \n",
    "Input: s = \"abcdefghij\", k = 3, fill = \"x\"  \n",
    "Output: [\"abc\",\"def\",\"ghi\",\"jxx\"]  \n",
    "Explanation:  \n",
    "Similar to the previous example, we are forming the first three groups \"abc\", \"def\", and \"ghi\".  \n",
    "For the last group, we can only use the character 'j' from the string. To complete this group, we add 'x' twice.  \n",
    "Thus, the 4 groups formed are \"abc\", \"def\", \"ghi\", and \"jxx\"."
   ]
  },
  {
   "cell_type": "markdown",
   "metadata": {},
   "source": [
    "* 解題想法:  \n",
    "首先用迴圈將字串切成長度K的子字串並放入list中，接著檢查最後一個字的長度是否符合需求，如果不符合需求則用迴圈將最後一個子字串長度補到指定的長度"
   ]
  },
  {
   "cell_type": "code",
   "execution_count": null,
   "metadata": {},
   "outputs": [],
   "source": [
    "class Solution:\n",
    "    def divideString(self, s: str, k: int, fill: str) -> List[str]:\n",
    "        result = []\n",
    "        for m in range(0, len(s), k):\n",
    "            result.append(s[m:m+k])\n",
    "        if len(s) % k != 0:\n",
    "            while len(result[-1]) % k != 0:\n",
    "                result[-1] = result[-1] + fill\n",
    "        return result"
   ]
  }
 ],
 "metadata": {
  "kernelspec": {
   "display_name": "Python 3",
   "language": "python",
   "name": "python3"
  },
  "language_info": {
   "codemirror_mode": {
    "name": "ipython",
    "version": 3
   },
   "file_extension": ".py",
   "mimetype": "text/x-python",
   "name": "python",
   "nbconvert_exporter": "python",
   "pygments_lexer": "ipython3",
   "version": "3.7.4"
  }
 },
 "nbformat": 4,
 "nbformat_minor": 4
}
