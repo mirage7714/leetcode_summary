{
 "cells": [
  {
   "cell_type": "markdown",
   "id": "1baddf3a-0ac5-4b16-8a67-aded5fe8465d",
   "metadata": {},
   "source": [
    "# 本題要找出相鄰且數字符合出現頻率的兩個數字 (\\#String, \\#HashMap )\n",
    "原題目連結: https://leetcode.com/problems/find-valid-pair-of-adjacent-digits-in-string/  \n",
    "\n",
    "You are given a string s consisting only of digits. A valid pair is defined as two adjacent digits in s such that:  \n",
    "The first digit is not equal to the second.  \n",
    "Each digit in the pair appears in s exactly as many times as its numeric value.  \n",
    "Return the first valid pair found in the string s when traversing from left to right. If no valid pair exists, return an empty string.  \n",
    "\n",
    "範例:  \n",
    "Ex1:  \n",
    "Input: s = \"2523533\"  \n",
    "Output: \"23\"  \n",
    "Explanation:  \n",
    "Digit '2' appears 2 times and digit '3' appears 3 times. Each digit in the pair \"23\" appears in s exactly as many times as its numeric value. Hence, the output is \"23\".  \n",
    "\n",
    "Ex2:　\n",
    "Input: s = \"221\"  \n",
    "Output: \"21\"  \n",
    "Explanation:  \n",
    "Digit '2' appears 2 times and digit '1' appears 1 time. Hence, the output is \"21\".  \n",
    "\n",
    "Ex3:  \n",
    "Input: s = \"22\"  \n",
    "Output: \"\"  \n",
    "Explanation:  \n",
    "There are no valid adjacent pairs."
   ]
  },
  {
   "cell_type": "markdown",
   "id": "c3adf71c-4a60-4b77-a260-b78b62a5fc71",
   "metadata": {},
   "source": [
    "* 解題想法:  \n",
    "首先找出每個數字出現的頻率並用一個dict來存放，機著從頭開始檢查相鄰的兩個數字出現的頻率是否符合該數字，如果兩個數字都複合且兩數字不相同則該字串就是答案並回傳"
   ]
  },
  {
   "cell_type": "code",
   "execution_count": null,
   "id": "58101cd0-78a8-4184-bca0-53bdea22c758",
   "metadata": {},
   "outputs": [],
   "source": [
    "class Solution:\n",
    "    def findValidPair(self, s: str) -> str:\n",
    "        res = ''\n",
    "        count = {}\n",
    "        for n in s:\n",
    "            if n not in count.keys():\n",
    "                count[n] = 0\n",
    "            count[n] += 1\n",
    "        if len(count) > 1:\n",
    "            for i in range(len(s)-1):\n",
    "                if count[s[i]] == int(s[i]) and count[s[i+1]] == int(s[i+1]) and s[i] != s[i+1]:\n",
    "                    res = s[i:i+2]\n",
    "                    break\n",
    "        return res"
   ]
  }
 ],
 "metadata": {
  "kernelspec": {
   "display_name": "Python 3 (ipykernel)",
   "language": "python",
   "name": "python3"
  },
  "language_info": {
   "codemirror_mode": {
    "name": "ipython",
    "version": 3
   },
   "file_extension": ".py",
   "mimetype": "text/x-python",
   "name": "python",
   "nbconvert_exporter": "python",
   "pygments_lexer": "ipython3",
   "version": "3.9.13"
  }
 },
 "nbformat": 4,
 "nbformat_minor": 5
}
