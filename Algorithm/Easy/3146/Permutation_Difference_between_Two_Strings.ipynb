{
 "cells": [
  {
   "cell_type": "markdown",
   "id": "e98c7836-2b2b-49be-ab8f-0313c49e5c26",
   "metadata": {},
   "source": [
    "# 本題要找出兩個字串的字母差距總和為多少 (\\#String )\n",
    "原題目連結: https://leetcode.com/problems/permutation-difference-between-two-strings/description/  \n",
    "\n",
    "You are given two strings s and t such that every character occurs at most once in s and t is a permutation of s.  \n",
    "The permutation difference between s and t is defined as the sum of the absolute difference between the index of the occurrence of each character in s and the index of the occurrence of the same character in t.  \n",
    "Return the permutation difference between s and t.  \n",
    "\n",
    "範例:  \n",
    "Ex1:  \n",
    "Input: s = \"abc\", t = \"bac\"  \n",
    "Output: 2  \n",
    "Explanation:  \n",
    "For s = \"abc\" and t = \"bac\", the permutation difference of s and t is equal to the sum of:  \n",
    "The absolute difference between the index of the occurrence of \"a\" in s and the index of the occurrence of \"a\" in t.  \n",
    "The absolute difference between the index of the occurrence of \"b\" in s and the index of the occurrence of \"b\" in t.  \n",
    "The absolute difference between the index of the occurrence of \"c\" in s and the index of the occurrence of \"c\" in t.  \n",
    "That is, the permutation difference between s and t is equal to |0 - 1| + |2 - 2| + |1 - 0| = 2.  \n",
    "\n",
    "Ex2:  \n",
    "Input: s = \"abcde\", t = \"edbac\"  \n",
    "Output: 12  \n",
    "Explanation: The permutation difference between s and t is equal to |0 - 3| + |1 - 2| + |2 - 4| + |3 - 1| + |4 - 0| = 12.  "
   ]
  },
  {
   "cell_type": "markdown",
   "id": "5b081b0d-436d-42c6-a91d-7aaa7dc6d95f",
   "metadata": {},
   "source": [
    "* 解題想法:  \n",
    "找出s中每個index所對應的字母，與該字母在t中的index差值的絕對值，加總之後就是答案"
   ]
  },
  {
   "cell_type": "code",
   "execution_count": null,
   "id": "f28d3715-c4f6-4535-ab22-4523452fef00",
   "metadata": {},
   "outputs": [],
   "source": [
    "class Solution:\n",
    "    def findPermutationDifference(self, s: str, t: str) -> int:\n",
    "        res = 0\n",
    "        for i in range(len(s)):\n",
    "            a = s[i]\n",
    "            res += abs(i - t.index(a))\n",
    "        return res"
   ]
  }
 ],
 "metadata": {
  "kernelspec": {
   "display_name": "Python 3 (ipykernel)",
   "language": "python",
   "name": "python3"
  },
  "language_info": {
   "codemirror_mode": {
    "name": "ipython",
    "version": 3
   },
   "file_extension": ".py",
   "mimetype": "text/x-python",
   "name": "python",
   "nbconvert_exporter": "python",
   "pygments_lexer": "ipython3",
   "version": "3.9.13"
  }
 },
 "nbformat": 4,
 "nbformat_minor": 5
}
