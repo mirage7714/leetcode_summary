{
 "cells": [
  {
   "cell_type": "markdown",
   "metadata": {},
   "source": [
    "# 這題主要是要找出最大的數值組合\n",
    "原題目連結： https://leetcode.com/problems/maximum-69-number/  \n",
    "在題目提供的數字中，只能將數值6換成9，或是9換成6，而且只能換一個數字  \n",
    "例如以下的例子  \n",
    "Ex1:  \n",
    "Input: num = 9669  \n",
    "Output: 9969  \n",
    "\n",
    "Ex2:  \n",
    "Input: num = 9996  \n",
    "Output: 9999  \n",
    "\n",
    "Ex3:  \n",
    "Input: num = 9999  \n",
    "Output: 9999  "
   ]
  },
  {
   "cell_type": "markdown",
   "metadata": {},
   "source": [
    "*  解題想法：  \n",
    "看到題目時，直覺反應是將每個值都進行翻轉然後比較，但要比較的次數較多，也較沒效率  \n",
    "優化：將每個非9的字元進行翻轉，並與原本的值進行比較，如果比較大就將新的值暫定為最大值"
   ]
  },
  {
   "cell_type": "code",
   "execution_count": 1,
   "metadata": {},
   "outputs": [],
   "source": [
    "def maximum69Number (self, num: int) -> int:\n",
    "    most = num\n",
    "    str_num = str(num)\n",
    "    for n in range(len(str_num)):\n",
    "        is_changed = False\n",
    "        target = str_num[n]\n",
    "        if target == '6':\n",
    "            target = '9'\n",
    "            is_changed = True\n",
    "            \n",
    "        if (is_changed):\n",
    "            str_new = ''\n",
    "            for m in range(len(str_num)):\n",
    "                if m == n:\n",
    "                    str_new += target\n",
    "                else:\n",
    "                    str_new += str_num[m]\n",
    "            if int(str_new) > most:\n",
    "                most = int(str_new)\n",
    "                \n",
    "    return most"
   ]
  },
  {
   "cell_type": "code",
   "execution_count": null,
   "metadata": {},
   "outputs": [],
   "source": []
  }
 ],
 "metadata": {
  "kernelspec": {
   "display_name": "Python 3",
   "language": "python",
   "name": "python3"
  },
  "language_info": {
   "codemirror_mode": {
    "name": "ipython",
    "version": 3
   },
   "file_extension": ".py",
   "mimetype": "text/x-python",
   "name": "python",
   "nbconvert_exporter": "python",
   "pygments_lexer": "ipython3",
   "version": "3.8.3"
  }
 },
 "nbformat": 4,
 "nbformat_minor": 4
}
