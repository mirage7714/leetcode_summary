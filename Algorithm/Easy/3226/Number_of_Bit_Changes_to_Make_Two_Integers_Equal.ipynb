{
 "cells": [
  {
   "cell_type": "markdown",
   "id": "198acb70-4e5a-40ab-be9b-79977592b5b9",
   "metadata": {},
   "source": [
    "# 本題要找出兩個字串是否可以轉換成相同的字串 (\\#BitManipulation )\n",
    "原題目連結：https://leetcode.com/problems/number-of-bit-changes-to-make-two-integers-equal/description/  \n",
    "\n",
    "You are given two positive integers n and k.  \n",
    "You can choose any bit in the binary representation of n that is equal to 1 and change it to 0.  \n",
    "Return the number of changes needed to make n equal to k. If it is impossible, return -1.  \n",
    "\n",
    "範例：  \n",
    "Ex1:  \n",
    "Input: n = 13, k = 4  \n",
    "Output: 2  \n",
    "Explanation:  \n",
    "Initially, the binary representations of n and k are n = (1101)2 and k = (0100)2.  \n",
    "We can change the first and fourth bits of n. The resulting integer is n = (0100)2 = k.  \n",
    "\n",
    "Ex2:  \n",
    "Input: n = 21, k = 21  \n",
    "Output: 0  \n",
    "Explanation:  \n",
    "n and k are already equal, so no changes are needed.  \n",
    "\n",
    "Ex3:  \n",
    "Input: n = 14, k = 13  \n",
    "Output: -1  \n",
    "Explanation:  \n",
    "It is not possible to make n equal to k."
   ]
  },
  {
   "cell_type": "markdown",
   "id": "130ba33f-6a11-4857-97a3-ca111d09dd6c",
   "metadata": {},
   "source": [
    "* 解題想法：  \n",
    "首先將兩個字串轉換成bit字串後，將兩個bit字串補成相同的長度，接著用迴圈檢查兩個字串，當兩個字串的字母不相同時，如果第一個字串為0且第二個字串為1時則中斷迴圈並回傳-1，如果第一個字串為1且第二個字串為0時則將結果+1，最後回傳統計結果"
   ]
  },
  {
   "cell_type": "code",
   "execution_count": null,
   "id": "4fb4c89e-d929-4387-a018-3e6cc8972565",
   "metadata": {},
   "outputs": [],
   "source": [
    "class Solution:\n",
    "    def minChanges(self, n: int, k: int) -> int:\n",
    "        res = 0\n",
    "        l = bin(n)[2:]\n",
    "        r = bin(k)[2:]\n",
    "        l = l.rjust(max(len(l), len(r)),'0')\n",
    "        r = r.rjust(max(len(l), len(r)),'0')\n",
    "        for i in range(len(l)):\n",
    "            if l[i] != r[i]:\n",
    "                if l[i] == '0':\n",
    "                    res = -1\n",
    "                    break\n",
    "                else:\n",
    "                    res += 1\n",
    "        return res"
   ]
  }
 ],
 "metadata": {
  "kernelspec": {
   "display_name": "Python 3 (ipykernel)",
   "language": "python",
   "name": "python3"
  },
  "language_info": {
   "codemirror_mode": {
    "name": "ipython",
    "version": 3
   },
   "file_extension": ".py",
   "mimetype": "text/x-python",
   "name": "python",
   "nbconvert_exporter": "python",
   "pygments_lexer": "ipython3",
   "version": "3.10.9"
  }
 },
 "nbformat": 4,
 "nbformat_minor": 5
}
