{
 "cells": [
  {
   "cell_type": "markdown",
   "id": "32addf3f-930d-4654-abbc-f237c70b31e8",
   "metadata": {},
   "source": [
    "# 本題要找出共有多少組合是相減的差值為偶數 (\\#Array )\n",
    "原題目連結: https://leetcode.com/problems/count-partitions-with-even-sum-difference/description/  \n",
    "\n",
    "You are given an integer array nums of length n.  \n",
    "A partition is defined as an index i where 0 <= i < n - 1, splitting the array into two non-empty subarrays such that:  \n",
    "Left subarray contains indices [0, i].  \n",
    "Right subarray contains indices [i + 1, n - 1].  \n",
    "Return the number of partitions where the difference between the sum of the left and right subarrays is even.  \n",
    "\n",
    "範例:  \n",
    "Ex1:  \n",
    "Input: nums = [10,10,3,7,6]  \n",
    "Output: 4  \n",
    "Explanation:  \n",
    "The 4 partitions are:  \n",
    "[10], [10, 3, 7, 6] with a sum difference of 10 - 26 = -16, which is even.  \n",
    "[10, 10], [3, 7, 6] with a sum difference of 20 - 16 = 4, which is even.  \n",
    "[10, 10, 3], [7, 6] with a sum difference of 23 - 13 = 10, which is even.  \n",
    "[10, 10, 3, 7], [6] with a sum difference of 30 - 6 = 24, which is even.  \n",
    "\n",
    "Ex2:  \n",
    "Input: nums = [1,2,2]  \n",
    "Output: 0  \n",
    "Explanation:  \n",
    "No partition results in an even sum difference.  \n",
    "\n",
    "Ex3:  \n",
    "Input: nums = [2,4,6,8]  \n",
    "Output: 3  \n",
    "Explanation:  \n",
    "All partitions result in an even sum difference."
   ]
  },
  {
   "cell_type": "markdown",
   "id": "f1953b57-e8c2-4a8c-8f0f-f749d5aed1f0",
   "metadata": {},
   "source": [
    "* 解題想法:  \n",
    "首先找出array的總和為多少，接著開始從頭找出兩個sublist的總和差值是否為偶數，如果是則將結果+1，最後回傳結果就是答案"
   ]
  },
  {
   "cell_type": "code",
   "execution_count": null,
   "id": "38403b4a-0362-431a-bdbe-4b1ad41ee71d",
   "metadata": {},
   "outputs": [],
   "source": [
    "class Solution:\n",
    "    def countPartitions(self, nums: List[int]) -> int:\n",
    "        res = 0\n",
    "        total = 0\n",
    "        start = 0\n",
    "        for n in nums:\n",
    "            total += n\n",
    "        for i in range(len(nums)-1):\n",
    "            start += nums[i]\n",
    "            total -= nums[i]\n",
    "            if (start - total) % 2 == 0:\n",
    "                res += 1\n",
    "        return res"
   ]
  }
 ],
 "metadata": {
  "kernelspec": {
   "display_name": "Python 3 (ipykernel)",
   "language": "python",
   "name": "python3"
  },
  "language_info": {
   "codemirror_mode": {
    "name": "ipython",
    "version": 3
   },
   "file_extension": ".py",
   "mimetype": "text/x-python",
   "name": "python",
   "nbconvert_exporter": "python",
   "pygments_lexer": "ipython3",
   "version": "3.9.13"
  }
 },
 "nbformat": 4,
 "nbformat_minor": 5
}
