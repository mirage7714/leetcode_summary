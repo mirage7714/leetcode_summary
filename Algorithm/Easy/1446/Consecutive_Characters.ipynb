{
 "cells": [
  {
   "cell_type": "markdown",
   "metadata": {},
   "source": [
    "# 本題要找出連續出現最多的字母數量\n",
    "原題目連結: https://leetcode.com/problems/consecutive-characters/  \n",
    "\n",
    "Given a string s, the power of the string is the maximum length of a non-empty substring that contains only one unique character.  \n",
    "\n",
    "Return the power of the string.  \n",
    "\n",
    "範例:  \n",
    "Ex1:  \n",
    "Input: s = \"leetcode\"  \n",
    "Output: 2  \n",
    "Explanation: The substring \"ee\" is of length 2 with the character 'e' only.  \n",
    "\n",
    "Ex2:  \n",
    "Input: s = \"abbcccddddeeeeedcba\"  \n",
    "Output: 5  \n",
    "Explanation: The substring \"eeeee\" is of length 5 with the character 'e' only.  \n",
    "\n",
    "Ex3:  \n",
    "Input: s = \"triplepillooooow\"  \n",
    "Output: 5  \n",
    "\n",
    "Ex4:  \n",
    "Input: s = \"hooraaaaaaaaaaay\"  \n",
    "Output: 11  \n",
    "\n",
    "Ex5:  \n",
    "Input: s = \"tourist\"  \n",
    "Output: 1"
   ]
  },
  {
   "cell_type": "markdown",
   "metadata": {},
   "source": [
    "* 解題想法:  \n",
    "由於題目要找出最長的連續字母出現數量，因此需要先判斷這個字母是否與下一個相同，如果相同則為連續的情況  \n",
    "如果不同的話，則需要將目前累積的長度放入list中，並重新開始計數，最後在找出list中最大的數值"
   ]
  },
  {
   "cell_type": "code",
   "execution_count": null,
   "metadata": {},
   "outputs": [],
   "source": [
    "class Solution:\n",
    "    def maxPower(self, s: str) -> int:\n",
    "        counts = []\n",
    "        is_seq = False\n",
    "        count = 1\n",
    "        if len(s) > 1:\n",
    "            for n in range(len(s)-1):\n",
    "                if s[n] == s[n+1]:\n",
    "                    is_seq = True\n",
    "                    count += 1\n",
    "                else:\n",
    "                    if is_seq:\n",
    "                        counts.append(count)\n",
    "                        count = 1\n",
    "                        is_seq = False\n",
    "                    else:\n",
    "                        counts.append(count)\n",
    "            if is_seq:\n",
    "                counts.append(count)\n",
    "        else:\n",
    "            counts.append(count)\n",
    "        return max(counts)"
   ]
  }
 ],
 "metadata": {
  "kernelspec": {
   "display_name": "Python 3",
   "language": "python",
   "name": "python3"
  },
  "language_info": {
   "codemirror_mode": {
    "name": "ipython",
    "version": 3
   },
   "file_extension": ".py",
   "mimetype": "text/x-python",
   "name": "python",
   "nbconvert_exporter": "python",
   "pygments_lexer": "ipython3",
   "version": "3.7.4"
  }
 },
 "nbformat": 4,
 "nbformat_minor": 2
}
