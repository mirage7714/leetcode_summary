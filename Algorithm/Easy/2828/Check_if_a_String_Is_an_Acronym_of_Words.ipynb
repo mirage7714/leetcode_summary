{
 "cells": [
  {
   "cell_type": "markdown",
   "id": "0cf7f178-febf-4bfe-b8de-16ea1716a6c0",
   "metadata": {},
   "source": [
    "# 本提要判斷指定的字串是否可以用list中的所有字串的第一個字組成 (\\#Array, \\#String )\n",
    "原題目連結: https://leetcode.com/problems/check-if-a-string-is-an-acronym-of-words/description/   \n",
    "\n",
    "Given an array of strings words and a string s, determine if s is an acronym of words.  \n",
    "\n",
    "The string s is considered an acronym of words if it can be formed by concatenating the first character of each string in words in order. For example, \"ab\" can be formed from [\"apple\", \"banana\"], but it can't be formed from [\"bear\", \"aardvark\"].  \n",
    "Return true if s is an acronym of words, and false otherwise.   \n",
    "\n",
    "範例:  \n",
    "Ex1:  \n",
    "Input: words = [\"alice\",\"bob\",\"charlie\"], s = \"abc\"  \n",
    "Output: true  \n",
    "Explanation: The first character in the words \"alice\", \"bob\", and \"charlie\" are 'a', 'b', and 'c', respectively. Hence, s = \"abc\" is the acronym.   \n",
    "\n",
    "Ex2:  \n",
    "Input: words = [\"an\",\"apple\"], s = \"a\"  \n",
    "Output: false  \n",
    "Explanation: The first character in the words \"an\" and \"apple\" are 'a' and 'a', respectively.   \n",
    "The acronym formed by concatenating these characters is \"aa\".   \n",
    "Hence, s = \"a\" is not the acronym.  \n",
    "\n",
    "Ex3:  \n",
    "Input: words = [\"never\",\"gonna\",\"give\",\"up\",\"on\",\"you\"], s = \"ngguoy\"  \n",
    "Output: true  \n",
    "Explanation: By concatenating the first character of the words in the array, we get the string \"ngguoy\".   \n",
    "Hence, s = \"ngguoy\" is the acronym.  "
   ]
  },
  {
   "cell_type": "markdown",
   "id": "45500bfb-5c07-4b7b-815a-d8d06b29e5db",
   "metadata": {},
   "source": [
    "* 解題想法:  \n",
    "首先檢查目標字串長度與list長度是否相同，如果不相同則回傳False，接著將list中所有字串的第一個字找出後組合起來並與目標檢查，如果相同則回傳True，否則回傳False"
   ]
  },
  {
   "cell_type": "code",
   "execution_count": null,
   "id": "3e4f285b-0d62-406d-908c-b95325c184e2",
   "metadata": {},
   "outputs": [],
   "source": [
    "class Solution:\n",
    "    def isAcronym(self, words: List[str], s: str) -> bool:\n",
    "        a = ''\n",
    "        if len(words) != len(s):\n",
    "            return False\n",
    "        for w in words:\n",
    "            a += w[0]\n",
    "        if a == s:\n",
    "            return True\n",
    "        return False"
   ]
  }
 ],
 "metadata": {
  "kernelspec": {
   "display_name": "Python 3 (ipykernel)",
   "language": "python",
   "name": "python3"
  },
  "language_info": {
   "codemirror_mode": {
    "name": "ipython",
    "version": 3
   },
   "file_extension": ".py",
   "mimetype": "text/x-python",
   "name": "python",
   "nbconvert_exporter": "python",
   "pygments_lexer": "ipython3",
   "version": "3.9.13"
  }
 },
 "nbformat": 4,
 "nbformat_minor": 5
}
