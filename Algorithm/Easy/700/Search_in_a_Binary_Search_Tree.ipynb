{
 "cells": [
  {
   "cell_type": "markdown",
   "metadata": {},
   "source": [
    "# 本題要找出樹中是否有符合值的節點\n",
    "原題目連結: https://leetcode.com/problems/search-in-a-binary-search-tree/  \n",
    "\n",
    "You are given the root of a binary search tree (BST) and an integer val.  \n",
    "Find the node in the BST that the node's value equals val and return the subtree rooted with that node. If such a node does not exist, return null.  \n",
    "\n",
    "範例:  \n",
    "Ex1:  \n",
    "Input: root = [4,2,7,1,3], val = 2  \n",
    "Output: [2,1,3]  \n",
    "\n",
    "Ex2:  \n",
    "Input: root = [4,2,7,1,3], val = 5  \n",
    "Output: []"
   ]
  },
  {
   "cell_type": "markdown",
   "metadata": {},
   "source": [
    "* 解題想法:  \n",
    "為了找出是否有符合數值的節點，需要對樹的節點進行走訪，並在找到符合的節點後結束迴圈，這邊使用BFS進行走訪，並檢查節點的值是否符合要求，如果不符合要求則繼續走訪子節點，最後如果都沒找到合適的則回傳None"
   ]
  },
  {
   "cell_type": "code",
   "execution_count": null,
   "metadata": {},
   "outputs": [],
   "source": [
    "# Definition for a binary tree node.\n",
    "# class TreeNode:\n",
    "#     def __init__(self, val=0, left=None, right=None):\n",
    "#         self.val = val\n",
    "#         self.left = left\n",
    "#         self.right = right\n",
    "class Solution:\n",
    "    def searchBST(self, root: Optional[TreeNode], val: int) -> Optional[TreeNode]:\n",
    "        temp = [root]\n",
    "        result = []\n",
    "        while len(temp) > 0:\n",
    "            is_end = False\n",
    "            nodes = []\n",
    "            for t in temp:\n",
    "                if t.val == val:\n",
    "                    result.append(t)\n",
    "                    is_end = True\n",
    "                else:\n",
    "                    if t.left != None:\n",
    "                        nodes.append(t.left)\n",
    "                    if t.right != None:\n",
    "                        nodes.append(t.right)\n",
    "            if is_end:\n",
    "                break\n",
    "            temp.clear()\n",
    "            temp += nodes\n",
    "        if len(result) == 0:\n",
    "            return None\n",
    "        else:\n",
    "            return result[0]"
   ]
  }
 ],
 "metadata": {
  "kernelspec": {
   "display_name": "Python 3",
   "language": "python",
   "name": "python3"
  },
  "language_info": {
   "codemirror_mode": {
    "name": "ipython",
    "version": 3
   },
   "file_extension": ".py",
   "mimetype": "text/x-python",
   "name": "python",
   "nbconvert_exporter": "python",
   "pygments_lexer": "ipython3",
   "version": "3.7.4"
  }
 },
 "nbformat": 4,
 "nbformat_minor": 4
}
