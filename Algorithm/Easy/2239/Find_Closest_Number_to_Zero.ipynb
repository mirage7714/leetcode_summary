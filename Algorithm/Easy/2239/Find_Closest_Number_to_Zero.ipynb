{
 "cells": [
  {
   "cell_type": "markdown",
   "metadata": {},
   "source": [
    "# 本題要找出最接近0的數字為何\n",
    "原題目連結: https://leetcode.com/problems/find-closest-number-to-zero/  \n",
    "\n",
    "Given an integer array nums of size n, return the number with the value closest to 0 in nums. If there are multiple answers, return the number with the largest value.  \n",
    "\n",
    "範例:  \n",
    "Ex1:  \n",
    "Input: nums = [-4,-2,1,4,8]  \n",
    "Output: 1  \n",
    "Explanation:  \n",
    "The distance from -4 to 0 is |-4| = 4.  \n",
    "The distance from -2 to 0 is |-2| = 2.  \n",
    "The distance from 1 to 0 is |1| = 1.  \n",
    "The distance from 4 to 0 is |4| = 4.  \n",
    "The distance from 8 to 0 is |8| = 8.  \n",
    "Thus, the closest number to 0 in the array is 1.  \n",
    "\n",
    "Ex2:  \n",
    "Input: nums = [2,-1,1]  \n",
    "Output: 1  \n",
    "Explanation: 1 and -1 are both the closest numbers to 0, so 1 being larger is returned."
   ]
  },
  {
   "cell_type": "markdown",
   "metadata": {},
   "source": [
    "* 解題想法:  \n",
    "首先將list進行排序後，開始判斷開頭的數為正數或負數，如果開頭為正數的話，則代表開頭的數字為最接近0的數字，接著判斷如果開頭為負數，且最後一個數字也為負數的話，代表距離0最近的數字為最後一個值  \n",
    "接著判斷最後一種情況，如果開頭為負數但最後的數值為正數時，則找出第一個為正數的值，並判斷此數與前一個數值的絕對值大小，如果負數距離0較近則回傳負數，否則回傳正數"
   ]
  },
  {
   "cell_type": "code",
   "execution_count": null,
   "metadata": {},
   "outputs": [],
   "source": [
    "class Solution:\n",
    "    def findClosestNumber(self, nums: List[int]) -> int:\n",
    "        nums.sort()\n",
    "        result = 0\n",
    "        if 0 not in nums:\n",
    "            if nums[0] > 0:\n",
    "                result = nums[0]\n",
    "            else:\n",
    "                if nums[-1] < 0:\n",
    "                    result = nums[-1]\n",
    "                else:\n",
    "                    for m in range(len(nums)):\n",
    "                        if nums[m] > 0:\n",
    "                            if abs(nums[m-1]) < nums[m]:\n",
    "                                result = nums[m-1]\n",
    "                            else:\n",
    "                                result = nums[m]\n",
    "                            break\n",
    "        return result"
   ]
  }
 ],
 "metadata": {
  "kernelspec": {
   "display_name": "Python 3",
   "language": "python",
   "name": "python3"
  },
  "language_info": {
   "codemirror_mode": {
    "name": "ipython",
    "version": 3
   },
   "file_extension": ".py",
   "mimetype": "text/x-python",
   "name": "python",
   "nbconvert_exporter": "python",
   "pygments_lexer": "ipython3",
   "version": "3.7.4"
  }
 },
 "nbformat": 4,
 "nbformat_minor": 4
}
