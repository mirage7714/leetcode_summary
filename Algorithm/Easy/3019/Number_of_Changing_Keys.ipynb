{
 "cells": [
  {
   "cell_type": "markdown",
   "id": "1c76bc1e-1152-4274-9810-f54a2a88aac1",
   "metadata": {},
   "source": [
    "# 本題要計算共需要切換多少次的按鍵 (\\#String )\n",
    "原題目連結: https://leetcode.com/problems/number-of-changing-keys/description/  \n",
    "\n",
    "You are given a 0-indexed string s typed by a user. Changing a key is defined as using a key different from the last used key. For example, s = \"ab\" has a change of a key while s = \"bBBb\" does not have any.  \n",
    "Return the number of times the user had to change the key.  \n",
    "Note: Modifiers like shift or caps lock won't be counted in changing the key that is if a user typed the letter 'a' and then the letter 'A' then it will not be considered as a changing of key.   \n",
    "\n",
    "範例:  \n",
    "Ex1:  \n",
    "Input: s = \"aAbBcC\"\n",
    "Output: 2\n",
    "Explanation:  \n",
    "From s[0] = 'a' to s[1] = 'A', there is no change of key as caps lock or shift is not counted.  \n",
    "From s[1] = 'A' to s[2] = 'b', there is a change of key.  \n",
    "From s[2] = 'b' to s[3] = 'B', there is no change of key as caps lock or shift is not counted.  \n",
    "From s[3] = 'B' to s[4] = 'c', there is a change of key.  \n",
    "From s[4] = 'c' to s[5] = 'C', there is no change of key as caps lock or shift is not counted.  \n",
    "\n",
    "Ex2:  \n",
    "Input: s = \"AaAaAaaA\"  \n",
    "Output: 0  \n",
    "Explanation: There is no change of key since only the letters 'a' and 'A' are pressed which does not require change of key."
   ]
  },
  {
   "cell_type": "markdown",
   "id": "9f3456f0-3770-436e-bf59-b00ad66dbd3b",
   "metadata": {},
   "source": [
    "* 解題想法:  \n",
    "首先用第一個字母作為開頭，如果當下一個字母的小寫與目前字母的小寫不相同時則將結果+1並更新目前的字母，最後回傳總結果就是答案"
   ]
  },
  {
   "cell_type": "code",
   "execution_count": null,
   "id": "685765ba-84b7-4281-99f0-47099bf4a219",
   "metadata": {},
   "outputs": [],
   "source": [
    "class Solution:\n",
    "    def countKeyChanges(self, s: str) -> int:\n",
    "        res = 0\n",
    "        start = s[0] \n",
    "        for i in range(1, len(s)):\n",
    "            if start.lower() != s[i].lower():\n",
    "                res += 1\n",
    "            start = s[i]\n",
    "        return res"
   ]
  }
 ],
 "metadata": {
  "kernelspec": {
   "display_name": "Python 3 (ipykernel)",
   "language": "python",
   "name": "python3"
  },
  "language_info": {
   "codemirror_mode": {
    "name": "ipython",
    "version": 3
   },
   "file_extension": ".py",
   "mimetype": "text/x-python",
   "name": "python",
   "nbconvert_exporter": "python",
   "pygments_lexer": "ipython3",
   "version": "3.9.13"
  }
 },
 "nbformat": 4,
 "nbformat_minor": 5
}
