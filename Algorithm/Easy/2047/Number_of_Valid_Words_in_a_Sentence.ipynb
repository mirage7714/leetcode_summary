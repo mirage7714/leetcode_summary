{
 "cells": [
  {
   "cell_type": "markdown",
   "metadata": {},
   "source": [
    "# 本題要判斷句子中合法的字共有多少個\n",
    "原題目連結: https://leetcode.com/problems/number-of-valid-words-in-a-sentence/  \n",
    "\n",
    "A sentence consists of lowercase letters ('a' to 'z'), digits ('0' to '9'), hyphens ('-'), punctuation marks ('!', '.', and ','), and spaces (' ') only. Each sentence can be broken down into one or more tokens separated by one or more spaces ' '.  \n",
    "\n",
    "A token is a valid word if all three of the following are true:  \n",
    "\n",
    "It only contains lowercase letters, hyphens, and/or punctuation (no digits).  \n",
    "There is at most one hyphen '-'. If present, it must be surrounded by lowercase characters (\"a-b\" is valid, but \"-ab\" and \"ab-\" are not valid).  \n",
    "There is at most one punctuation mark. If present, it must be at the end of the token (\"ab,\", \"cd!\", and \".\" are valid, but \"a!b\" and \"c.,\" are not valid).  \n",
    "Examples of valid words include \"a-b.\", \"afad\", \"ba-c\", \"a!\", and \"!\".  \n",
    "\n",
    "Given a string sentence, return the number of valid words in sentence.  \n",
    "\n",
    "範例:  \n",
    "Ex1:  \n",
    "Input: sentence = \"cat and  dog\"  \n",
    "Output: 3  \n",
    "Explanation: The valid words in the sentence are \"cat\", \"and\", and \"dog\".  \n",
    "\n",
    "Ex2:  \n",
    "Input: sentence = \"!this  1-s b8d!\"  \n",
    "Output: 0  \n",
    "Explanation: There are no valid words in the sentence.  \n",
    "\"!this\" is invalid because it starts with a punctuation mark.  \n",
    "\"1-s\" and \"b8d\" are invalid because they contain digits.  \n",
    "\n",
    "Ex3:  \n",
    "Input: sentence = \"alice and  bob are playing stone-game10\"  \n",
    "Output: 5  \n",
    "Explanation: The valid words in the sentence are \"alice\", \"and\", \"bob\", \"are\", and \"playing\".  \n",
    "\"stone-game10\" is invalid because it contains digits."
   ]
  },
  {
   "cell_type": "markdown",
   "metadata": {},
   "source": [
    "* 解題想法:  \n",
    "首先將句子中不為空白的字找出，接著開始檢查是否符合題目的要求:  \n",
    "- 不能包含數字  \n",
    "- 頭尾不能為-  \n",
    "- 標點符號只能在字尾 \n",
    "最後將符合條件的字數加起來，就是題目要球的答案"
   ]
  },
  {
   "cell_type": "code",
   "execution_count": null,
   "metadata": {},
   "outputs": [],
   "source": [
    "class Solution:\n",
    "    def countValidWords(self, sentence: str) -> int:\n",
    "        chars = ['a','b','c','d','e','f','g','h','i','j','k','l','m','n','o','p','q','r','s','t','u','v','w','x','y','z']\n",
    "        digits = ['0','1','2','3','4','5','6','7','8','9']\n",
    "        punc = ['!','.',',']\n",
    "        total = 0\n",
    "        words = sentence.split(' ')\n",
    "        for word in words:\n",
    "            if len(word) > 0:\n",
    "                c = 0\n",
    "                dash = 0\n",
    "                d = 0\n",
    "                p = 0\n",
    "                for w in word:\n",
    "                    if w in chars:\n",
    "                        c += 1\n",
    "                    elif w == '-':\n",
    "                        dash += 1\n",
    "                    elif w in digits:\n",
    "                        d += 1\n",
    "                    elif w in punc:\n",
    "                        p += 1\n",
    "                if c == len(word):\n",
    "                    if c > 0:\n",
    "                        total += 1\n",
    "                else:\n",
    "                    if len(word) - c == 1:\n",
    "                        if dash == 1:\n",
    "                            if word[0] != '-' and word[-1] != '-':\n",
    "                                total += 1\n",
    "                        elif p == 1:\n",
    "                            if word[-1] in punc:\n",
    "                                total += 1\n",
    "                    elif len(word) - c == 2:\n",
    "                        if dash == 1 and p == 1:\n",
    "                            if word[-1] in punc:\n",
    "                                if word[0] != '-':\n",
    "                                    if word[-2] != '-':\n",
    "                                        total += 1\n",
    "        return total"
   ]
  }
 ],
 "metadata": {
  "kernelspec": {
   "display_name": "Python 3",
   "language": "python",
   "name": "python3"
  },
  "language_info": {
   "codemirror_mode": {
    "name": "ipython",
    "version": 3
   },
   "file_extension": ".py",
   "mimetype": "text/x-python",
   "name": "python",
   "nbconvert_exporter": "python",
   "pygments_lexer": "ipython3",
   "version": "3.7.4"
  }
 },
 "nbformat": 4,
 "nbformat_minor": 4
}
