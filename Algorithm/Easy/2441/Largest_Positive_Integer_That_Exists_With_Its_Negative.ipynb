{
 "cells": [
  {
   "cell_type": "markdown",
   "metadata": {},
   "source": [
    "# 本題要找出list中最大的正數，且負數也在list中 (\\#Array)\n",
    "原題目連結: https://leetcode.com/problems/largest-positive-integer-that-exists-with-its-negative/  \n",
    "\n",
    "Given an integer array nums that does not contain any zeros, find the largest positive integer k such that -k also exists in the array.  \n",
    "Return the positive integer k. If there is no such integer, return -1.  \n",
    "\n",
    "範例:  \n",
    "Ex1:  \n",
    "Input: nums = [-1,2,-3,3]  \n",
    "Output: 3  \n",
    "Explanation: 3 is the only valid k we can find in the array.  \n",
    "\n",
    "Ex2:  \n",
    "Input: nums = [-1,10,6,7,-7,1]  \n",
    "Output: 7  \n",
    "Explanation: Both 1 and 7 have their corresponding negative values in the array. 7 has a larger value.  \n",
    "\n",
    "Ex3:  \n",
    "Input: nums = [-10,8,6,7,-2,-3]  \n",
    "Output: -1  \n",
    "Explanation: There is no a single valid k, we return -1."
   ]
  },
  {
   "cell_type": "markdown",
   "metadata": {},
   "source": [
    "* 解題想法:  \n",
    "首先將list排序後，從最大的整數開始檢查，如果當該數值的負數也存在時，則回傳這個正整數，最後如果都沒有的話，則回傳-1"
   ]
  },
  {
   "cell_type": "code",
   "execution_count": null,
   "metadata": {},
   "outputs": [],
   "source": [
    "class Solution:\n",
    "    def findMaxK(self, nums: List[int]) -> int:\n",
    "        nums.sort()\n",
    "        for n in range(len(nums)-1, -1, -1):\n",
    "            if - nums[n] in nums:\n",
    "                return nums[n]\n",
    "        return -1"
   ]
  }
 ],
 "metadata": {
  "kernelspec": {
   "display_name": "Python 3",
   "language": "python",
   "name": "python3"
  },
  "language_info": {
   "codemirror_mode": {
    "name": "ipython",
    "version": 3
   },
   "file_extension": ".py",
   "mimetype": "text/x-python",
   "name": "python",
   "nbconvert_exporter": "python",
   "pygments_lexer": "ipython3",
   "version": "3.7.4"
  }
 },
 "nbformat": 4,
 "nbformat_minor": 4
}
