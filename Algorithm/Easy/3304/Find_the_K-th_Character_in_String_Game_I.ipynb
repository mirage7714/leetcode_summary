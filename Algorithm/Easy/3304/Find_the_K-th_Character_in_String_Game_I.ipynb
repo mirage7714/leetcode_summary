{
 "cells": [
  {
   "cell_type": "markdown",
   "id": "36f9c08a-3a06-49c7-a50c-5dcd70a40e2b",
   "metadata": {},
   "source": [
    "# 本題要找出第k的字母為多少 (\\#String )\n",
    "原題目連結: https://leetcode.com/problems/find-the-k-th-character-in-string-game-i/description/  \n",
    "\n",
    "Alice and Bob are playing a game. Initially, Alice has a string word = \"a\".  \n",
    "You are given a positive integer k.  \n",
    "Now Bob will ask Alice to perform the following operation forever:  \n",
    "Generate a new string by changing each character in word to its next character in the English alphabet, and append it to the original word.  \n",
    "For example, performing the operation on \"c\" generates \"cd\" and performing the operation on \"zb\" generates \"zbac\".    \n",
    "Return the value of the kth character in word, after enough operations have been done for word to have at least k characters.  \n",
    "Note that the character 'z' can be changed to 'a' in the operation.  \n",
    "\n",
    "範例:  \n",
    "Ex1:  \n",
    "Input: k = 5  \n",
    "Output: \"b\"  \n",
    "Explanation:  \n",
    "Initially, word = \"a\". We need to do the operation three times:  \n",
    "Generated string is \"b\", word becomes \"ab\".  \n",
    "Generated string is \"bc\", word becomes \"abbc\".  \n",
    "Generated string is \"bccd\", word becomes \"abbcbccd\".  \n",
    "\n",
    "Ex2:  \n",
    "Input: k = 10  \n",
    "Output: \"c\"  "
   ]
  },
  {
   "cell_type": "markdown",
   "id": "1166e82d-536c-4533-be8e-24a34e985d4c",
   "metadata": {},
   "source": [
    "* 解題想法:  \n",
    "首先用個變數來存放結果，接著用while迴圈來新增字母，如果該字母不為z的時候則用ascii去加一來找出下一個字母，最後回傳指定位置的字母就是答案"
   ]
  },
  {
   "cell_type": "code",
   "execution_count": null,
   "id": "a69fb31a-c288-44b8-84cd-63fcae649b27",
   "metadata": {},
   "outputs": [],
   "source": [
    "class Solution:\n",
    "    def kthCharacter(self, k: int) -> str:\n",
    "        start = 'a'\n",
    "        \n",
    "        while len(start) < k:\n",
    "            p = ''\n",
    "            for s in start:\n",
    "                if s != 'z':\n",
    "                    p += chr(ord(s) + 1)\n",
    "                else:\n",
    "                    p += 'a'\n",
    "            start += p\n",
    "        return start[k-1]"
   ]
  }
 ],
 "metadata": {
  "kernelspec": {
   "display_name": "Python 3 (ipykernel)",
   "language": "python",
   "name": "python3"
  },
  "language_info": {
   "codemirror_mode": {
    "name": "ipython",
    "version": 3
   },
   "file_extension": ".py",
   "mimetype": "text/x-python",
   "name": "python",
   "nbconvert_exporter": "python",
   "pygments_lexer": "ipython3",
   "version": "3.9.13"
  }
 },
 "nbformat": 4,
 "nbformat_minor": 5
}
