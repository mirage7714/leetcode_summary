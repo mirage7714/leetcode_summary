{
 "cells": [
  {
   "cell_type": "markdown",
   "metadata": {},
   "source": [
    "# 本題要找出最多可以完整的輸入幾個字\n",
    "原題目連結: https://leetcode.com/problems/maximum-number-of-words-you-can-type/  \n",
    "\n",
    "There is a malfunctioning keyboard where some letter keys do not work. All other keys on the keyboard work properly.  \n",
    "\n",
    "Given a string text of words separated by a single space (no leading or trailing spaces) and a string brokenLetters of all distinct letter keys that are broken, return the number of words in text you can fully type using this keyboard.  \n",
    "\n",
    "範例:  \n",
    "Ex1:  \n",
    "Input: text = \"hello world\", brokenLetters = \"ad\"  \n",
    "Output: 1  \n",
    "Explanation: We cannot type \"world\" because the 'd' key is broken.  \n",
    "\n",
    "Ex2:  \n",
    "Input: text = \"leet code\", brokenLetters = \"lt\"  \n",
    "Output: 1  \n",
    "Explanation: We cannot type \"leet\" because the 'l' and 't' keys are broken.  \n",
    "\n",
    "Ex3:  \n",
    "Input: text = \"leet code\", brokenLetters = \"e\"  \n",
    "Output: 0  \n",
    "Explanation: We cannot type either word because the 'e' key is broken."
   ]
  },
  {
   "cell_type": "markdown",
   "metadata": {},
   "source": [
    "* 解題想法:  \n",
    "首先將原始句子內的單字拆分出來後，接著對每個字檢查是否有包含特定無法輸入的字，如果有的話則count+1  \n",
    "最後將句子內有的字數減去count數就是答案"
   ]
  },
  {
   "cell_type": "code",
   "execution_count": null,
   "metadata": {},
   "outputs": [],
   "source": [
    "class Solution:\n",
    "    def canBeTypedWords(self, text: str, brokenLetters: str) -> int:\n",
    "        words = text.split(' ')\n",
    "        count = 0\n",
    "        for word in words:\n",
    "            for c in range(len(brokenLetters)):\n",
    "                if brokenLetters[c] in word:\n",
    "                    count += 1\n",
    "                    break\n",
    "        return len(words) - count"
   ]
  }
 ],
 "metadata": {
  "kernelspec": {
   "display_name": "Python 3",
   "language": "python",
   "name": "python3"
  },
  "language_info": {
   "codemirror_mode": {
    "name": "ipython",
    "version": 3
   },
   "file_extension": ".py",
   "mimetype": "text/x-python",
   "name": "python",
   "nbconvert_exporter": "python",
   "pygments_lexer": "ipython3",
   "version": "3.7.4"
  }
 },
 "nbformat": 4,
 "nbformat_minor": 2
}
