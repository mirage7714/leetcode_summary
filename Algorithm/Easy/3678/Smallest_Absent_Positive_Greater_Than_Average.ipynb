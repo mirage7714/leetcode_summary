{
 "cells": [
  {
   "cell_type": "markdown",
   "id": "324725b7-9121-45e2-a5e5-66f15fe0e701",
   "metadata": {},
   "source": [
    "# 本題要找出沒有在list中的最小數值為多少 (\\#Array ）\n",
    "原題目連結：https://leetcode.com/problems/smallest-absent-positive-greater-than-average/description/   \n",
    "\n",
    "You are given an integer array nums.  \n",
    "Return the smallest absent positive integer in nums such that it is strictly greater than the average of all elements in nums.  \n",
    "The average of an array is defined as the sum of all its elements divided by the number of elements.  \n",
    "\n",
    "範例：  \n",
    "Ex1:  \n",
    "Input: nums = [3,5]  \n",
    "Output: 6  \n",
    "Explanation:  \n",
    "The average of nums is (3 + 5) / 2 = 8 / 2 = 4.  \n",
    "The smallest absent positive integer greater than 4 is 6.  \n",
    "\n",
    "Ex2:  \n",
    "Input: nums = [-1,1,2]  \n",
    "Output: 3  \n",
    "Explanation:  \n",
    "The average of nums is (-1 + 1 + 2) / 3 = 2 / 3 = 0.667.  \n",
    "The smallest absent positive integer greater than 0.667 is 3.  \n",
    "\n",
    "Ex3:  \n",
    "Input: nums = [4,-1]  \n",
    "Output: 2  \n",
    "Explanation:  \n",
    "The average of nums is (4 + (-1)) / 2 = 3 / 2 = 1.50.  \n",
    "The smallest absent positive integer greater than 1.50 is 2.  "
   ]
  },
  {
   "cell_type": "markdown",
   "id": "963bdad8-031d-435e-a85f-912f64fdd45d",
   "metadata": {},
   "source": [
    "* 解題想法：  \n",
    "首先找出list的平均值為多少，如果平均值小於或等於0的話則從1開始檢查是否有出現在list中，直到找到符合條件的數字後停止迴圈"
   ]
  },
  {
   "cell_type": "code",
   "execution_count": null,
   "id": "3956a84b-57fe-44e8-bc5f-ec54c2372ad4",
   "metadata": {},
   "outputs": [],
   "source": [
    "class Solution:\n",
    "    def smallestAbsent(self, nums: List[int]) -> int:\n",
    "        t = 0\n",
    "        for n in nums:\n",
    "            t += n\n",
    "        a = t // len(nums) + 1\n",
    "        if a <= 0:\n",
    "            a = 1\n",
    "        while True:\n",
    "            if a not in nums:\n",
    "                return a\n",
    "            a += 1"
   ]
  }
 ],
 "metadata": {
  "kernelspec": {
   "display_name": "Python 3 (ipykernel)",
   "language": "python",
   "name": "python3"
  },
  "language_info": {
   "codemirror_mode": {
    "name": "ipython",
    "version": 3
   },
   "file_extension": ".py",
   "mimetype": "text/x-python",
   "name": "python",
   "nbconvert_exporter": "python",
   "pygments_lexer": "ipython3",
   "version": "3.10.9"
  }
 },
 "nbformat": 4,
 "nbformat_minor": 5
}
