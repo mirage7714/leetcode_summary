{
 "cells": [
  {
   "cell_type": "markdown",
   "metadata": {},
   "source": [
    "# 本題要找出與指定字母最短的距離\n",
    "原題目連結: https://leetcode.com/problems/shortest-distance-to-a-character/  \n",
    "\n",
    "Given a string S and a character C, return an array of integers representing the shortest distance from the character C in the string.  \n",
    "\n",
    "範例:  \n",
    "Ex1:  \n",
    "Input: S = \"loveleetcode\", C = 'e'  \n",
    "Output: [3, 2, 1, 0, 1, 0, 0, 1, 2, 2, 1, 0]"
   ]
  },
  {
   "cell_type": "markdown",
   "metadata": {},
   "source": [
    "* 解題想法:  \n",
    "由於題目要找出與指定字母的最短距離，因此先找出指定字母所在的位置，接著判斷每個字母與指定字母的位置差別，最後將結果放入一個list中回傳"
   ]
  },
  {
   "cell_type": "code",
   "execution_count": null,
   "metadata": {},
   "outputs": [],
   "source": [
    "class Solution:\n",
    "    def shortestToChar(self, S: str, C: str) -> List[int]:\n",
    "        pos = []\n",
    "        result = []\n",
    "        for n in range(len(S)):\n",
    "            if S[n] == C:\n",
    "                pos.append(n)\n",
    "        for m in range(len(S)):\n",
    "            if m in pos:\n",
    "                result.append(0)\n",
    "            else:\n",
    "                small = 10000\n",
    "                for l in pos:\n",
    "                    if abs(l - m) < small:\n",
    "                        small = abs(l - m)\n",
    "                        if small == 1:\n",
    "                            break\n",
    "                    else:\n",
    "                        break\n",
    "                result.append(small)\n",
    "        return result"
   ]
  }
 ],
 "metadata": {
  "kernelspec": {
   "display_name": "Python 3",
   "language": "python",
   "name": "python3"
  },
  "language_info": {
   "codemirror_mode": {
    "name": "ipython",
    "version": 3
   },
   "file_extension": ".py",
   "mimetype": "text/x-python",
   "name": "python",
   "nbconvert_exporter": "python",
   "pygments_lexer": "ipython3",
   "version": "3.7.4"
  }
 },
 "nbformat": 4,
 "nbformat_minor": 2
}
