{
 "cells": [
  {
   "cell_type": "markdown",
   "metadata": {},
   "source": [
    "# 本題要找出是否存在一個index，能使左右兩邊的總和相等\n",
    "原題目連結: https://leetcode.com/problems/find-the-middle-index-in-array/  \n",
    "\n",
    "Given a 0-indexed integer array nums, find the leftmost middleIndex (i.e., the smallest amongst all the possible ones).  \n",
    "\n",
    "A middleIndex is an index where nums[0] + nums[1] + ... + nums[middleIndex-1] == nums[middleIndex+1] + nums[middleIndex+2] + ... + nums[nums.length-1].  \n",
    "\n",
    "If middleIndex == 0, the left side sum is considered to be 0. Similarly, if middleIndex == nums.length - 1, the right side sum is considered to be 0.  \n",
    "\n",
    "Return the leftmost middleIndex that satisfies the condition, or -1 if there is no such index.  \n",
    "\n",
    "範例:  \n",
    "Ex1:  \n",
    "Input: nums = [2,3,-1,8,4]  \n",
    "Output: 3  \n",
    "Explanation:  \n",
    "The sum of the numbers before index 3 is: 2 + 3 + -1 = 4  \n",
    "The sum of the numbers after index 3 is: 4 = 4  \n",
    "\n",
    "Ex2:  \n",
    "Input: nums = [1,-1,4]  \n",
    "Output: 2  \n",
    "Explanation:  \n",
    "The sum of the numbers before index 2 is: 1 + -1 = 0  \n",
    "The sum of the numbers after index 2 is: 0  \n",
    "\n",
    "Ex3:  \n",
    "Input: nums = [2,5]  \n",
    "Output: -1  \n",
    "Explanation:  \n",
    "There is no valid middleIndex.  \n",
    "\n",
    "Ex4:  \n",
    "Input: nums = [1]  \n",
    "Output: 0  \n",
    "Explantion:  \n",
    "The sum of the numbers before index 0 is: 0  \n",
    "The sum of the numbers after index 0 is: 0"
   ]
  },
  {
   "cell_type": "markdown",
   "metadata": {},
   "source": [
    "* 解題想法:  \n",
    "首先計算出list內所有值的總和，接著從頭開始計算sub-list的總和為多少，當總和減去該index的值剛好等於sub-list的和的兩倍時，則該index就是要找的答案，否則最後回傳-1  \n",
    "另外有一個例外的情況是當第一個值的時候，也需要檢查後面的sub-list總和是否為0"
   ]
  },
  {
   "cell_type": "code",
   "execution_count": null,
   "metadata": {},
   "outputs": [],
   "source": [
    "class Solution:\n",
    "    def findMiddleIndex(self, nums: List[int]) -> int:\n",
    "        total = 0\n",
    "        result = -1\n",
    "        temp = 0\n",
    "        if len(nums) > 1:\n",
    "            for n in nums:\n",
    "                total += n\n",
    "            for m in range(len(nums)-1):\n",
    "                if m == 0:\n",
    "                    if total - nums[0] == 0:\n",
    "                        result = 0\n",
    "                        break\n",
    "                temp += nums[m]\n",
    "                if total - nums[m+1] == 2 * temp: \n",
    "                    result = m+1\n",
    "                    break\n",
    "        else:\n",
    "            result = 0\n",
    "        return result\n",
    "                "
   ]
  }
 ],
 "metadata": {
  "kernelspec": {
   "display_name": "Python 3",
   "language": "python",
   "name": "python3"
  },
  "language_info": {
   "codemirror_mode": {
    "name": "ipython",
    "version": 3
   },
   "file_extension": ".py",
   "mimetype": "text/x-python",
   "name": "python",
   "nbconvert_exporter": "python",
   "pygments_lexer": "ipython3",
   "version": "3.7.4"
  }
 },
 "nbformat": 4,
 "nbformat_minor": 4
}
