{
 "cells": [
  {
   "cell_type": "markdown",
   "metadata": {},
   "source": [
    "# 本題要將指定數值的node從節點中移除\n",
    "原題目連結: https://leetcode.com/problems/remove-linked-list-elements/  \n",
    "\n",
    "Given the head of a linked list and an integer val, remove all the nodes of the linked list that has Node.val == val, and return the new head.  \n",
    "\n",
    "範例:  \n",
    "Ex1:  \n",
    "Input: head = [1,2,6,3,4,5,6], val = 6  \n",
    "Output: [1,2,3,4,5]  \n",
    "\n",
    "Ex2:  \n",
    "Input: head = [], val = 1  \n",
    "Output: []  \n",
    "\n",
    "Ex3:    \n",
    "Input: head = [7,7,7,7], val = 7  \n",
    "Output: []"
   ]
  },
  {
   "cell_type": "markdown",
   "metadata": {},
   "source": [
    "* 解題想法:  \n",
    "首先將ListNode中的值找出，並過濾掉與指定數值相同的值，接著重新建立一個新的ListNode並將數值放入"
   ]
  },
  {
   "cell_type": "code",
   "execution_count": null,
   "metadata": {},
   "outputs": [],
   "source": [
    "# Definition for singly-linked list.\n",
    "# class ListNode:\n",
    "#     def __init__(self, val=0, next=None):\n",
    "#         self.val = val\n",
    "#         self.next = next\n",
    "class Solution:\n",
    "    def removeElements(self, head: ListNode, val: int) -> ListNode:\n",
    "        result = []\n",
    "        values = []\n",
    "        if head != None:\n",
    "            while head.next != None:\n",
    "                v = head.val\n",
    "                if v != val:\n",
    "                    values.append(v)\n",
    "                head = head.next\n",
    "            if head.val != val:\n",
    "                values.append(head.val)\n",
    "        if len(values) > 0:\n",
    "            for m in range(len(values)-1, -1, -1):\n",
    "                node = ListNode()\n",
    "                node.val = values[m]\n",
    "                if len(result) > 0:\n",
    "                    node.next = result[-1]\n",
    "                result.append(node)\n",
    "            return result[-1]\n",
    "        else:\n",
    "            return None"
   ]
  }
 ],
 "metadata": {
  "kernelspec": {
   "display_name": "Python 3",
   "language": "python",
   "name": "python3"
  },
  "language_info": {
   "codemirror_mode": {
    "name": "ipython",
    "version": 3
   },
   "file_extension": ".py",
   "mimetype": "text/x-python",
   "name": "python",
   "nbconvert_exporter": "python",
   "pygments_lexer": "ipython3",
   "version": "3.7.4"
  }
 },
 "nbformat": 4,
 "nbformat_minor": 4
}
