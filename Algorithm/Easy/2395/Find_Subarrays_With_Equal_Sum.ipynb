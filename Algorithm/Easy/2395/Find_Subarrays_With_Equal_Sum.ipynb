{
 "cells": [
  {
   "cell_type": "markdown",
   "metadata": {},
   "source": [
    "# 本題要找出是否有存在長度為2的sub list總和相等\n",
    "原題目連結: https://leetcode.com/problems/find-subarrays-with-equal-sum/  \n",
    "\n",
    "Given a 0-indexed integer array nums, determine whether there exist two subarrays of length 2 with equal sum. Note that the two subarrays must begin at different indices.  \n",
    "Return true if these subarrays exist, and false otherwise.  \n",
    "A subarray is a contiguous non-empty sequence of elements within an array.  \n",
    "\n",
    "範例:  \n",
    "Ex1:  \n",
    "Input: nums = [4,2,4]  \n",
    "Output: true  \n",
    "Explanation: The subarrays with elements [4,2] and [2,4] have the same sum of 6.  \n",
    "\n",
    "Ex2:  \n",
    "Input: nums = [1,2,3,4,5]  \n",
    "Output: false  \n",
    "Explanation: No two subarrays of size 2 have the same sum.  \n",
    "\n",
    "Ex3:  \n",
    "Input: nums = [0,0,0]  \n",
    "Output: true  \n",
    "Explanation: The subarrays [nums[0],nums[1]] and [nums[1],nums[2]] have the same sum of 0.   \n",
    "Note that even though the subarrays have the same content, the two subarrays are considered different because they are in different positions in the original array."
   ]
  },
  {
   "cell_type": "markdown",
   "metadata": {},
   "source": [
    "* 解題想法:  \n",
    "首先建立一個dict，接著將所有長度為2的sub list總和作為key放入dict中，最後如果dict的value有大於1則回傳True，否則回傳False"
   ]
  },
  {
   "cell_type": "code",
   "execution_count": null,
   "metadata": {},
   "outputs": [],
   "source": [
    "class Solution:\n",
    "    def findSubarrays(self, nums: List[int]) -> bool:\n",
    "        count = {}\n",
    "        for m in range(len(nums)-1):\n",
    "            t = nums[m] + nums[m+1]\n",
    "            if t not in count.keys():\n",
    "                count[t] = 1\n",
    "            else:\n",
    "                count[t] += 1\n",
    "        val = list(count.values())\n",
    "        if max(val) > 1:\n",
    "            return True\n",
    "        return False"
   ]
  }
 ],
 "metadata": {
  "kernelspec": {
   "display_name": "Python 3",
   "language": "python",
   "name": "python3"
  },
  "language_info": {
   "codemirror_mode": {
    "name": "ipython",
    "version": 3
   },
   "file_extension": ".py",
   "mimetype": "text/x-python",
   "name": "python",
   "nbconvert_exporter": "python",
   "pygments_lexer": "ipython3",
   "version": "3.7.4"
  }
 },
 "nbformat": 4,
 "nbformat_minor": 4
}
