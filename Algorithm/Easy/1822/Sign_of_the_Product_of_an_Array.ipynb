{
 "cells": [
  {
   "cell_type": "markdown",
   "metadata": {},
   "source": [
    "# 本題要找出array的數字相乘最後是正數或是負數\n",
    "原題目連結: https://leetcode.com/problems/sign-of-the-product-of-an-array/  \n",
    "\n",
    "There is a function signFunc(x) that returns:  \n",
    "\n",
    "1 if x is positive.  \n",
    "-1 if x is negative.  \n",
    "0 if x is equal to 0.  \n",
    "You are given an integer array nums. Let product be the product of all values in the array nums.  \n",
    "\n",
    "Return signFunc(product).  \n",
    "\n",
    "範例:  \n",
    "Ex1:  \n",
    "Input: nums = [-1,-2,-3,-4,3,2,1]  \n",
    "Output: 1  \n",
    "Explanation: The product of all values in the array is 144, and signFunc(144) = 1  \n",
    "\n",
    "Ex2:  \n",
    "Input: nums = [1,5,0,2,-3]  \n",
    "Output: 0  \n",
    "Explanation: The product of all values in the array is 0, and signFunc(0) = 0  \n",
    "\n",
    "Ex3:  \n",
    "Input: nums = [-1,1,-1,1,-1]  \n",
    "Output: -1  \n",
    "Explanation: The product of all values in the array is -1, and signFunc(-1) = -1"
   ]
  },
  {
   "cell_type": "markdown",
   "metadata": {},
   "source": [
    "* 解題想法:  \n",
    "依題目說明，有0,1,-1三種可能，因此先判斷list內是否有0，如果有0的話則乘積結果為0，接著判斷負數的數量為何，如果數量為奇數，則結果為負數，否則為正數"
   ]
  },
  {
   "cell_type": "code",
   "execution_count": null,
   "metadata": {},
   "outputs": [],
   "source": [
    "class Solution:\n",
    "    def arraySign(self, nums: List[int]) -> int:\n",
    "        if 0 in nums:\n",
    "            return 0\n",
    "        else:\n",
    "            count = 0\n",
    "            for m in range(len(nums)):\n",
    "                if nums[m] < 0:\n",
    "                    count += 1\n",
    "            if count % 2 == 0:\n",
    "                return 1\n",
    "            else:\n",
    "                return -1"
   ]
  }
 ],
 "metadata": {
  "kernelspec": {
   "display_name": "Python 3",
   "language": "python",
   "name": "python3"
  },
  "language_info": {
   "codemirror_mode": {
    "name": "ipython",
    "version": 3
   },
   "file_extension": ".py",
   "mimetype": "text/x-python",
   "name": "python",
   "nbconvert_exporter": "python",
   "pygments_lexer": "ipython3",
   "version": "3.7.4"
  }
 },
 "nbformat": 4,
 "nbformat_minor": 2
}
