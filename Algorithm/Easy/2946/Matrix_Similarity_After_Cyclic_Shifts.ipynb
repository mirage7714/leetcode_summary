{
 "cells": [
  {
   "cell_type": "markdown",
   "id": "334127f2-fa20-4b6f-ba17-ed89d0970606",
   "metadata": {},
   "source": [
    "# 本題要檢查在移動K次之後是否與原本的matrix相同 (\\#Array )\n",
    "原題目連結: https://leetcode.com/problems/matrix-similarity-after-cyclic-shifts/description/  \n",
    "\n",
    "You are given a 0-indexed m x n integer matrix mat and an integer k. You have to cyclically right shift odd indexed rows k times and cyclically left shift even indexed rows k times.  \n",
    "Return true if the initial and final matrix are exactly the same and false otherwise.  \n",
    "\n",
    "範例:  \n",
    "Ex1:  \n",
    "Input: mat = [[1,2,1,2],[5,5,5,5],[6,3,6,3]], k = 2  \n",
    "Output: true  \n",
    "Explanation:  \n",
    "Initially, the matrix looks like the first figure.   \n",
    "Second figure represents the state of the matrix after one right and left cyclic shifts to even and odd indexed rows.  \n",
    "Third figure is the final state of the matrix after two cyclic shifts which is similar to the initial matrix.  \n",
    "Therefore, return true.  \n",
    "\n",
    "Ex2:  \n",
    "Input: mat = [[2,2],[2,2]], k = 3  \n",
    "Output: true  \n",
    "Explanation: As all the values are equal in the matrix, even after performing cyclic shifts the matrix will remain the same. Therefeore, we return true.  \n",
    "\n",
    "Ex3:  \n",
    "Input: mat = [[1,2]], k = 1  \n",
    "Output: false  \n",
    "Explanation: After one cyclic shift, mat = [[2,1]] which is not equal to the initial matrix. Therefore we return false."
   ]
  },
  {
   "cell_type": "markdown",
   "id": "1306fcd1-c013-4ab9-9e24-4c2c1f615fef",
   "metadata": {},
   "source": [
    "* 解題想法:  \n",
    "首先檢查每列在移動之後是否與原本的列相同，如果不相同則回傳False，否則最後回傳True"
   ]
  },
  {
   "cell_type": "code",
   "execution_count": null,
   "id": "5f630d76-55ba-4d5a-a1ae-a408df6e2d6d",
   "metadata": {},
   "outputs": [],
   "source": [
    "class Solution:\n",
    "    def areSimilar(self, mat: List[List[int]], k: int) -> bool:\n",
    "        k =  k % len(mat[0])\n",
    "        for i in mat:\n",
    "            if max(i) != min(i):\n",
    "                t = i[k:] + i[:k]\n",
    "                if t != i:\n",
    "                    return False\n",
    "        return True"
   ]
  }
 ],
 "metadata": {
  "kernelspec": {
   "display_name": "Python 3 (ipykernel)",
   "language": "python",
   "name": "python3"
  },
  "language_info": {
   "codemirror_mode": {
    "name": "ipython",
    "version": 3
   },
   "file_extension": ".py",
   "mimetype": "text/x-python",
   "name": "python",
   "nbconvert_exporter": "python",
   "pygments_lexer": "ipython3",
   "version": "3.11.4"
  }
 },
 "nbformat": 4,
 "nbformat_minor": 5
}
