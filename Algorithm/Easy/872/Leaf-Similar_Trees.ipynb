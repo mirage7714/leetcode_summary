{
 "cells": [
  {
   "cell_type": "markdown",
   "metadata": {},
   "source": [
    "# 本題要判斷兩棵樹的葉子是否是有相同的值\n",
    "原題目連結: https://leetcode.com/problems/leaf-similar-trees/  \n",
    "\n",
    "Consider all the leaves of a binary tree, from left to right order, the values of those leaves form a leaf value sequence.  \n",
    "For example, in the given tree above, the leaf value sequence is (6, 7, 4, 9, 8).  \n",
    "Two binary trees are considered leaf-similar if their leaf value sequence is the same.  \n",
    "Return true if and only if the two given trees with head nodes root1 and root2 are leaf-similar.  \n",
    "\n",
    "範例:  \n",
    "Ex1:  \n",
    "Input: root1 = [3,5,1,6,2,9,8,null,null,7,4], root2 = [3,5,1,6,7,4,2,null,null,null,null,null,null,9,8]  \n",
    "Output: true  \n",
    "\n",
    "Ex2:  \n",
    "Input: root1 = [1,2,3], root2 = [1,3,2]  \n",
    "Output: false"
   ]
  },
  {
   "cell_type": "markdown",
   "metadata": {},
   "source": [
    "* 解題想法:  \n",
    "這題與之前的BFS解法不同，需要用DFS的方式去取出每個葉子的值，才會確保取出的枝葉順序是相同的，因此先建立一個函數用來取出所有的葉子的值，並比較兩個樹的值是否相同"
   ]
  },
  {
   "cell_type": "code",
   "execution_count": null,
   "metadata": {},
   "outputs": [],
   "source": [
    "# Definition for a binary tree node.\n",
    "# class TreeNode:\n",
    "#     def __init__(self, val=0, left=None, right=None):\n",
    "#         self.val = val\n",
    "#         self.left = left\n",
    "#         self.right = right\n",
    "class Solution:\n",
    "    def leafSimilar(self, root1: Optional[TreeNode], root2: Optional[TreeNode]) -> bool:\n",
    "        def getLeaves(tree):\n",
    "            val = []\n",
    "            temp = [tree]\n",
    "            while len(temp) > 0:\n",
    "                node = temp.pop()\n",
    "                if node.left == None and node.right == None:\n",
    "                    val.append(node.val)\n",
    "                if node.left != None:\n",
    "                    temp.append(node.left)\n",
    "                if node.right != None:\n",
    "                    temp.append(node.right)\n",
    "            return val\n",
    "        \n",
    "        val1 = getLeaves(root1)\n",
    "        val2 = getLeaves(root2)\n",
    "        return val1 == val2"
   ]
  }
 ],
 "metadata": {
  "kernelspec": {
   "display_name": "Python 3",
   "language": "python",
   "name": "python3"
  },
  "language_info": {
   "codemirror_mode": {
    "name": "ipython",
    "version": 3
   },
   "file_extension": ".py",
   "mimetype": "text/x-python",
   "name": "python",
   "nbconvert_exporter": "python",
   "pygments_lexer": "ipython3",
   "version": "3.7.4"
  }
 },
 "nbformat": 4,
 "nbformat_minor": 4
}
