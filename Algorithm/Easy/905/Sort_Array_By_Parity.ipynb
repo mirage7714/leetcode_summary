{
 "cells": [
  {
   "cell_type": "markdown",
   "metadata": {},
   "source": [
    "# 本題要重新對array中的元件進行排序，先排出偶數再排出奇數\n",
    "原題目連結: https://leetcode.com/problems/sort-array-by-parity/  \n",
    "\n",
    "Given an array A of non-negative integers, return an array consisting of all the even elements of A, followed by all the odd elements of A.  \n",
    "You may return any answer array that satisfies this condition.  \n",
    "\n",
    "範例:  \n",
    "Ex1:  \n",
    "Input: [3,1,2,4]  \n",
    "Output: [2,4,3,1]  \n",
    "The outputs [4,2,3,1], [2,4,1,3], and [4,2,1,3] would also be accepted.\n"
   ]
  },
  {
   "cell_type": "markdown",
   "metadata": {},
   "source": [
    "* 解題想法:  \n",
    "由於題目要求是把奇數與偶數分開，並將偶數排在前面，奇數排在後面  \n",
    "因此建立了一個list將奇偶數分開，最後將兩個list加在一起"
   ]
  },
  {
   "cell_type": "code",
   "execution_count": null,
   "metadata": {},
   "outputs": [],
   "source": [
    "class Solution:\n",
    "    def sortArrayByParity(self, A: List[int]) -> List[int]:\n",
    "        odds = []\n",
    "        evens = []\n",
    "        for m in A:\n",
    "            if m % 2 == 0:\n",
    "                evens.append(m)\n",
    "            else:\n",
    "                odds.append(m)\n",
    "        return evens + odds"
   ]
  }
 ],
 "metadata": {
  "kernelspec": {
   "display_name": "Python 3",
   "language": "python",
   "name": "python3"
  },
  "language_info": {
   "codemirror_mode": {
    "name": "ipython",
    "version": 3
   },
   "file_extension": ".py",
   "mimetype": "text/x-python",
   "name": "python",
   "nbconvert_exporter": "python",
   "pygments_lexer": "ipython3",
   "version": "3.7.4"
  }
 },
 "nbformat": 4,
 "nbformat_minor": 2
}
