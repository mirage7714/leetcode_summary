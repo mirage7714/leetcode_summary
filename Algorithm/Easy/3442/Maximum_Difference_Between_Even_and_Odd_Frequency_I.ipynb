{
 "cells": [
  {
   "cell_type": "markdown",
   "id": "caa0e093-f114-4a7f-b3ac-d28148b0be13",
   "metadata": {},
   "source": [
    "# 本題要找出字母出現頻率最大的奇數與最小的偶數的差值為多少 (\\#String, \\#HashMap )\n",
    "原題目連結: https://leetcode.com/problems/maximum-difference-between-even-and-odd-frequency-i/description/   \n",
    "\n",
    "You are given a string s consisting of lowercase English letters. Your task is to find the maximum difference between the frequency of two characters in the string such that:  \n",
    "One of the characters has an even frequency in the string.  \n",
    "The other character has an odd frequency in the string.  \n",
    "Return the maximum difference, calculated as the frequency of the character with an odd frequency minus the frequency of the character with an even frequency.  \n",
    "\n",
    "範例:  \n",
    "Ex1:  \n",
    "Input: s = \"aaaaabbc\"  \n",
    "Output: 3  \n",
    "Explanation:  \n",
    "The character 'a' has an odd frequency of 5, and 'b' has an even frequency of 2.  \n",
    "The maximum difference is 5 - 2 = 3.  \n",
    "\n",
    "Ex2:  \n",
    "Input: s = \"abcabcab\"  \n",
    "Output: 1  \n",
    "Explanation:  \n",
    "The character 'a' has an odd frequency of 3, and 'c' has an even frequency of 2.  \n",
    "The maximum difference is 3 - 2 = 1.  "
   ]
  },
  {
   "cell_type": "markdown",
   "id": "1dd74432-8db3-49be-a3db-71b7e1d227b6",
   "metadata": {},
   "source": [
    "* 解題想法:  \n",
    "首先將所有字母出現的頻率用一個dict來存放，接著從value中找出最大的奇數與最小的偶數相減後就是答案"
   ]
  },
  {
   "cell_type": "code",
   "execution_count": null,
   "id": "537c09bd-6d52-46e4-8c5c-483d90123e54",
   "metadata": {},
   "outputs": [],
   "source": [
    "class Solution:\n",
    "    def maxDifference(self, s: str) -> int:\n",
    "        count = {}\n",
    "        res = 0\n",
    "        odd = 0\n",
    "        even = 0\n",
    "        for i in s:\n",
    "            if i not in count.keys():\n",
    "                count[i] = 0\n",
    "            count[i] += 1\n",
    "        for v in count.values():\n",
    "            if v % 2 == 0:\n",
    "                if even == 0:\n",
    "                    even = v\n",
    "                else:\n",
    "                    even = min(even, v)\n",
    "            else:\n",
    "                if odd == 0:\n",
    "                    odd = v\n",
    "                else:\n",
    "                    odd = max(odd, v)\n",
    "        return odd - even"
   ]
  }
 ],
 "metadata": {
  "kernelspec": {
   "display_name": "Python 3 (ipykernel)",
   "language": "python",
   "name": "python3"
  },
  "language_info": {
   "codemirror_mode": {
    "name": "ipython",
    "version": 3
   },
   "file_extension": ".py",
   "mimetype": "text/x-python",
   "name": "python",
   "nbconvert_exporter": "python",
   "pygments_lexer": "ipython3",
   "version": "3.9.13"
  }
 },
 "nbformat": 4,
 "nbformat_minor": 5
}
