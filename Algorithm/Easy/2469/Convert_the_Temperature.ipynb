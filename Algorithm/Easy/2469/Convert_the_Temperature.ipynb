{
 "cells": [
  {
   "cell_type": "markdown",
   "metadata": {},
   "source": [
    "# 本題要將攝氏的溫度進行轉換 (\\#Math)\n",
    "原題目連結: https://leetcode.com/problems/convert-the-temperature/  \n",
    "\n",
    "You are given a non-negative floating point number rounded to two decimal places celsius, that denotes the temperature in Celsius.  \n",
    "You should convert Celsius into Kelvin and Fahrenheit and return it as an array ans = [kelvin, fahrenheit].  \n",
    "Return the array ans. Answers within 10-5 of the actual answer will be accepted.  \n",
    "\n",
    "範例:  \n",
    "Ex1:  \n",
    "Input: celsius = 36.50  \n",
    "Output: [309.65000,97.70000]  \n",
    "Explanation: Temperature at 36.50 Celsius converted in Kelvin is 309.65 and converted in Fahrenheit is 97.70.  \n",
    "\n",
    "Ex2:  \n",
    "Input: celsius = 122.11  \n",
    "Output: [395.26000,251.79800]  \n",
    "Explanation: Temperature at 122.11 Celsius converted in Kelvin is 395.26 and converted in Fahrenheit is 251.798."
   ]
  },
  {
   "cell_type": "markdown",
   "metadata": {},
   "source": [
    "* 解題想法:  \n",
    "將轉換後的凱式溫度與華氏溫度分別放入list中，最後回傳list就是答案了"
   ]
  },
  {
   "cell_type": "code",
   "execution_count": null,
   "metadata": {},
   "outputs": [],
   "source": [
    "class Solution:\n",
    "    def convertTemperature(self, celsius: float) -> List[float]:\n",
    "        return  [celsius + 273.15, celsius * 1.8 + 32]"
   ]
  }
 ],
 "metadata": {
  "kernelspec": {
   "display_name": "Python 3",
   "language": "python",
   "name": "python3"
  },
  "language_info": {
   "codemirror_mode": {
    "name": "ipython",
    "version": 3
   },
   "file_extension": ".py",
   "mimetype": "text/x-python",
   "name": "python",
   "nbconvert_exporter": "python",
   "pygments_lexer": "ipython3",
   "version": "3.7.4"
  }
 },
 "nbformat": 4,
 "nbformat_minor": 4
}
