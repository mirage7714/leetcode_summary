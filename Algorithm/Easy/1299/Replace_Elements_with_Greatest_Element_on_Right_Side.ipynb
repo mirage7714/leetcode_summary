{
 "cells": [
  {
   "cell_type": "markdown",
   "metadata": {},
   "source": [
    "# 此題主要是要找出sub-array中最大值\n",
    "原題目連結：https://leetcode.com/problems/replace-elements-with-greatest-element-on-right-side/  \n",
    "\n",
    "舉例：  \n",
    "Input: arr = [17,18,5,4,6,1]  \n",
    "Output: [18,6,6,6,1,-1]  "
   ]
  },
  {
   "cell_type": "markdown",
   "metadata": {},
   "source": [
    "* 解題想法：  \n",
    "找出sub-array中最大值，並加入新的array中，最後加入-1作為結尾  \n",
    "step1: 從[18,5,4,6,1]中找出最大值，並放入新的array中作為第一個值  \n",
    "step2: 從[5,4,6,1]中找出最大值，並作為第二個值  \n",
    "以此類推"
   ]
  },
  {
   "cell_type": "code",
   "execution_count": null,
   "metadata": {},
   "outputs": [],
   "source": [
    "class Solution:\n",
    "    def replaceElements(self, arr: List[int]) -> List[int]:\n",
    "        result = []\n",
    "        for n in range(len(arr)-1):\n",
    "            subarr = arr[n+1:]\n",
    "            result.append(max(subarr))\n",
    "        result.append(-1)\n",
    "        return result"
   ]
  }
 ],
 "metadata": {
  "kernelspec": {
   "display_name": "Python 3",
   "language": "python",
   "name": "python3"
  },
  "language_info": {
   "codemirror_mode": {
    "name": "ipython",
    "version": 3
   },
   "file_extension": ".py",
   "mimetype": "text/x-python",
   "name": "python",
   "nbconvert_exporter": "python",
   "pygments_lexer": "ipython3",
   "version": "3.8.3"
  }
 },
 "nbformat": 4,
 "nbformat_minor": 4
}
