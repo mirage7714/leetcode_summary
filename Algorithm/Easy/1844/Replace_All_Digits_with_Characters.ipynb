{
 "cells": [
  {
   "cell_type": "markdown",
   "metadata": {},
   "source": [
    "# 本題要將字串內的數字轉換為對應的英文字母\n",
    "原題目連結: https://leetcode.com/problems/replace-all-digits-with-characters/  \n",
    "\n",
    "You are given a 0-indexed string s that has lowercase English letters in its even indices and digits in its odd indices.  \n",
    "\n",
    "There is a function shift(c, x), where c is a character and x is a digit, that returns the xth character after c.  \n",
    "\n",
    "For example, shift('a', 5) = 'f' and shift('x', 0) = 'x'.  \n",
    "For every odd index i, you want to replace the digit s[i] with shift(s[i-1], s[i]).  \n",
    "\n",
    "Return s after replacing all digits. It is guaranteed that shift(s[i-1], s[i]) will never exceed 'z'.  \n",
    "\n",
    "範例:  \n",
    "Ex1:  \n",
    "Input: s = \"a1c1e1\"  \n",
    "Output: \"abcdef\"  \n",
    "Explanation: The digits are replaced as follows:  \n",
    "- s[1] -> shift('a',1) = 'b'  \n",
    "- s[3] -> shift('c',1) = 'd'  \n",
    "- s[5] -> shift('e',1) = 'f'  \n",
    "\n",
    "Ex2:  \n",
    "Input: s = \"a1b2c3d4e\"  \n",
    "Output: \"abbdcfdhe\"  \n",
    "Explanation: The digits are replaced as follows:  \n",
    "- s[1] -> shift('a',1) = 'b'  \n",
    "- s[3] -> shift('b',2) = 'd'  \n",
    "- s[5] -> shift('c',3) = 'f'  \n",
    "- s[7] -> shift('d',4) = 'h'  "
   ]
  },
  {
   "cell_type": "markdown",
   "metadata": {},
   "source": [
    "* 解題想法:  \n",
    "依題目說明，在字串中偶數index的為英文字母，而奇數的數字則是需要將前一個英文字的順序再加上數字後轉換為新的英文字母  \n",
    "因此使用一個迴圈，並判斷在index為偶數的時候將字母放入一個暫存，並在index為奇數時將暫存的字母順序找出後再加上數字，最後重新組成新的字串回傳"
   ]
  },
  {
   "cell_type": "code",
   "execution_count": null,
   "metadata": {},
   "outputs": [],
   "source": [
    "class Solution:\n",
    "    def replaceDigits(self, s: str) -> str:\n",
    "        chars = ['a','b','c','d','e','f','g','h','i','j','k','l','m','n','o','p','q','r','s','t','u','v','w','x','y','z']\n",
    "        result = ''\n",
    "        temp = ''\n",
    "        for m in range(len(s)):\n",
    "            if m % 2 == 0:\n",
    "                result += s[m]\n",
    "                temp = s[m]\n",
    "            else:\n",
    "                i = chars.index(temp)\n",
    "                result += chars[i+int(s[m])]\n",
    "                temp = ''\n",
    "        return result"
   ]
  }
 ],
 "metadata": {
  "kernelspec": {
   "display_name": "Python 3",
   "language": "python",
   "name": "python3"
  },
  "language_info": {
   "codemirror_mode": {
    "name": "ipython",
    "version": 3
   },
   "file_extension": ".py",
   "mimetype": "text/x-python",
   "name": "python",
   "nbconvert_exporter": "python",
   "pygments_lexer": "ipython3",
   "version": "3.7.4"
  }
 },
 "nbformat": 4,
 "nbformat_minor": 2
}
