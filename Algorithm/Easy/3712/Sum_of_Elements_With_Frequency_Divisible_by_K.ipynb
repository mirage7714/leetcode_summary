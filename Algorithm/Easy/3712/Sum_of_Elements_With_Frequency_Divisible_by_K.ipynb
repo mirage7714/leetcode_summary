{
 "cells": [
  {
   "cell_type": "markdown",
   "id": "c14eabbe-0c40-427c-b253-b8fe2c0cad20",
   "metadata": {},
   "source": [
    "# 本題要找出出現頻率符合k的倍數的總和為多少 (\\#Array, \\#HashMap )\n",
    "原題目連結：https://leetcode.com/problems/sum-of-elements-with-frequency-divisible-by-k/description/  \n",
    "\n",
    "You are given an integer array nums and an integer k.  \n",
    "Return an integer denoting the sum of all elements in nums whose frequency is divisible by k, or 0 if there are no such elements.  \n",
    "Note: An element is included in the sum exactly as many times as it appears in the array if its total frequency is divisible by k.  \n",
    "\n",
    "範例：  \n",
    "Ex1:  \n",
    "Input: nums = [1,2,2,3,3,3,3,4], k = 2  \n",
    "Output: 16  \n",
    "Explanation:  \n",
    "The number 1 appears once (odd frequency).  \n",
    "The number 2 appears twice (even frequency).  \n",
    "The number 3 appears four times (even frequency).  \n",
    "The number 4 appears once (odd frequency).  \n",
    "So, the total sum is 2 + 2 + 3 + 3 + 3 + 3 = 16.  \n",
    "\n",
    "Ex2:  \n",
    "Input: nums = [1,2,3,4,5], k = 2  \n",
    "Output: 0  \n",
    "Explanation:  \n",
    "There are no elements that appear an even number of times, so the total sum is 0.  \n",
    "\n",
    "Ex3:  \n",
    "Input: nums = [4,4,4,1,2,3], k = 3  \n",
    "Output: 12  \n",
    "Explanation:  \n",
    "The number 1 appears once.  \n",
    "The number 2 appears once.  \n",
    "The number 3 appears once.  \n",
    "The number 4 appears three times.  \n",
    "So, the total sum is 4 + 4 + 4 = 12."
   ]
  },
  {
   "cell_type": "markdown",
   "id": "3039bda8-294b-487b-bc9f-c1d58c223b70",
   "metadata": {},
   "source": [
    "* 解題想法：  \n",
    "首先用一個dict來記錄目前所有數值出現的頻率，接著檢查出現頻率是否為k的倍數，如果是則將出現頻率與數值相乘後加到結果中，最後回傳總和就是答案"
   ]
  },
  {
   "cell_type": "code",
   "execution_count": null,
   "id": "9ea15dbb-f071-4294-b30c-906ef9d418af",
   "metadata": {},
   "outputs": [],
   "source": [
    "class Solution:\n",
    "    def sumDivisibleByK(self, nums: List[int], k: int) -> int:\n",
    "        res = 0\n",
    "        count = {}\n",
    "        for n in nums:\n",
    "            if n not in count.keys():\n",
    "                count[n] = 0\n",
    "            count[n] += 1\n",
    "        for key, val in count.items():\n",
    "            if val % k == 0:\n",
    "                res += key * val\n",
    "        return res"
   ]
  }
 ],
 "metadata": {
  "kernelspec": {
   "display_name": "Python 3 (ipykernel)",
   "language": "python",
   "name": "python3"
  },
  "language_info": {
   "codemirror_mode": {
    "name": "ipython",
    "version": 3
   },
   "file_extension": ".py",
   "mimetype": "text/x-python",
   "name": "python",
   "nbconvert_exporter": "python",
   "pygments_lexer": "ipython3",
   "version": "3.10.9"
  }
 },
 "nbformat": 4,
 "nbformat_minor": 5
}
