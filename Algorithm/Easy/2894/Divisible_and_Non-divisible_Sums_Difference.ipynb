{
 "cells": [
  {
   "cell_type": "markdown",
   "id": "2cd0d417-79f7-4815-aae1-da8122372b59",
   "metadata": {},
   "source": [
    "# 本題要找出可被m整除與不可被m整除的總和差 (\\#Math )\n",
    "原題目連結: https://leetcode.com/problems/divisible-and-non-divisible-sums-difference/description/  \n",
    "\n",
    "You are given positive integers n and m.  \n",
    "Define two integers, num1 and num2, as follows:  \n",
    "\n",
    "num1: The sum of all integers in the range [1, n] that are not divisible by m.  \n",
    "num2: The sum of all integers in the range [1, n] that are divisible by m.  \n",
    "Return the integer num1 - num2.  \n",
    "\n",
    "範例:  \n",
    "Ex1:  \n",
    "Input: n = 10, m = 3  \n",
    "Output: 19  \n",
    "Explanation: In the given example:  \n",
    "- Integers in the range [1, 10] that are not divisible by 3 are [1,2,4,5,7,8,10], num1 is the sum of those integers = 37.  \n",
    "- Integers in the range [1, 10] that are divisible by 3 are [3,6,9], num2 is the sum of those integers = 18.  \n",
    "We return 37 - 18 = 19 as the answer.  \n",
    "\n",
    "Ex2:  \n",
    "Input: n = 5, m = 6  \n",
    "Output: 15  \n",
    "Explanation: In the given example:  \n",
    "- Integers in the range [1, 5] that are not divisible by 6 are [1,2,3,4,5], num1 is the sum of those integers = 15.  \n",
    "- Integers in the range [1, 5] that are divisible by 6 are [], num2 is the sum of those integers = 0.  \n",
    "We return 15 - 0 = 15 as the answer.  \n",
    "\n",
    "Ex3:  \n",
    "Input: n = 5, m = 1  \n",
    "Output: -15  \n",
    "Explanation: In the given example:  \n",
    "- Integers in the range [1, 5] that are not divisible by 1 are [], num1 is the sum of those integers = 0.  \n",
    "- Integers in the range [1, 5] that are divisible by 1 are [1,2,3,4,5], num2 is the sum of those integers = 15.  \n",
    "We return 0 - 15 = -15 as the answer."
   ]
  },
  {
   "cell_type": "markdown",
   "id": "ed79c0d4-507b-4a2d-bfdf-d822efaadefc",
   "metadata": {},
   "source": [
    "* 解題想法:  \n",
    "用一個變數來記錄總和，接著從1開始進行迴圈，如果可以被m整除則從總和中減去，否則加入總和中，最後回傳總和"
   ]
  },
  {
   "cell_type": "code",
   "execution_count": null,
   "id": "77bafd3d-5aa8-465f-97ae-5cf9fb27d9c0",
   "metadata": {},
   "outputs": [],
   "source": [
    "class Solution:\n",
    "    def differenceOfSums(self, n: int, m: int) -> int:\n",
    "        res = 0\n",
    "        for i in range(1, n+1):\n",
    "            if i % m == 0:\n",
    "                res -= i\n",
    "            else:\n",
    "                res += i\n",
    "        return res"
   ]
  }
 ],
 "metadata": {
  "kernelspec": {
   "display_name": "Python 3 (ipykernel)",
   "language": "python",
   "name": "python3"
  },
  "language_info": {
   "codemirror_mode": {
    "name": "ipython",
    "version": 3
   },
   "file_extension": ".py",
   "mimetype": "text/x-python",
   "name": "python",
   "nbconvert_exporter": "python",
   "pygments_lexer": "ipython3",
   "version": "3.11.4"
  }
 },
 "nbformat": 4,
 "nbformat_minor": 5
}
