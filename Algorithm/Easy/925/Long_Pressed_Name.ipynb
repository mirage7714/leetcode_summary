{
 "cells": [
  {
   "cell_type": "markdown",
   "metadata": {},
   "source": [
    "# 本題要判斷兩個字串是否可見由刪除重複字母來變成相同的字串\n",
    "原題目連結: https://leetcode.com/problems/long-pressed-name/  \n",
    "\n",
    "Your friend is typing his name into a keyboard.  Sometimes, when typing a character c, the key might get long pressed, and the character will be typed 1 or more times.  \n",
    "\n",
    "You examine the typed characters of the keyboard.  Return True if it is possible that it was your friends name, with some characters (possibly none) being long pressed.  \n",
    "\n",
    "範例:  \n",
    "Ex1:  \n",
    "Input: name = \"alex\", typed = \"aaleex\"  \n",
    "Output: true  \n",
    "Explanation: 'a' and 'e' in 'alex' were long pressed.  \n",
    "\n",
    "Ex2:  \n",
    "Input: name = \"saeed\", typed = \"ssaaedd\"  \n",
    "Output: false  \n",
    "Explanation: 'e' must have been pressed twice, but it wasn't in the typed output.  \n",
    "\n",
    "Ex3:  \n",
    "Input: name = \"leelee\", typed = \"lleeelee\"  \n",
    "Output: true  \n",
    "\n",
    "Ex4:  \n",
    "Input: name = \"laiden\", typed = \"laiden\"  \n",
    "Output: true  \n",
    "Explanation: It's not necessary to long press any character."
   ]
  },
  {
   "cell_type": "markdown",
   "metadata": {},
   "source": [
    "* 解題想法:  \n",
    "由於題目要比較在刪除一些重複字母後，兩個字串是否會完全相同，因此先將兩個字串進行字頻的分解  \n",
    "之後再比較兩個dict是否有相同的key，並比較key與value長度是否都符合"
   ]
  },
  {
   "cell_type": "code",
   "execution_count": null,
   "metadata": {},
   "outputs": [],
   "source": [
    "class Solution:\n",
    "    def isLongPressedName(self, name: str, typed: str) -> bool:\n",
    "        freq_n= {}\n",
    "        freq_t = {}\n",
    "        result = True\n",
    "        if name != typed:\n",
    "            for n in range(len(name)):\n",
    "                if name[n] not in freq_n.keys():\n",
    "                    freq_n[name[n]] = [[n]]\n",
    "                else:\n",
    "                    if freq_n[name[n]][-1][-1] +1 == n:\n",
    "                        freq_n[name[n]][-1].append(n)\n",
    "                    else:\n",
    "                        freq_n[name[n]].append([n])\n",
    "            for m in range(len(typed)):\n",
    "                if typed[m] not in freq_t.keys():\n",
    "                    freq_t[typed[m]] = [[m]]\n",
    "                else:\n",
    "                    if freq_t[typed[m]][-1][-1] + 1 == m:\n",
    "                        freq_t[typed[m]][-1].append(m)\n",
    "                    else:\n",
    "                        freq_t[typed[m]].append([m])\n",
    "            for key in freq_n.keys():\n",
    "                if key not in freq_t.keys():\n",
    "                    result = False\n",
    "                    break\n",
    "                elif len(freq_n.keys()) < len(freq_t.keys()):\n",
    "                    result = False\n",
    "                    break\n",
    "                else:\n",
    "                    if len(freq_n[key]) != len(freq_t[key]):\n",
    "                        result = False\n",
    "                        break\n",
    "                    else:\n",
    "                        for k in range(len(freq_n[key])):\n",
    "                            if len(freq_n[key][k]) > len(freq_t[key][k]):\n",
    "                                result = False\n",
    "                                break\n",
    "        return result"
   ]
  }
 ],
 "metadata": {
  "kernelspec": {
   "display_name": "Python 3",
   "language": "python",
   "name": "python3"
  },
  "language_info": {
   "codemirror_mode": {
    "name": "ipython",
    "version": 3
   },
   "file_extension": ".py",
   "mimetype": "text/x-python",
   "name": "python",
   "nbconvert_exporter": "python",
   "pygments_lexer": "ipython3",
   "version": "3.7.4"
  }
 },
 "nbformat": 4,
 "nbformat_minor": 2
}
