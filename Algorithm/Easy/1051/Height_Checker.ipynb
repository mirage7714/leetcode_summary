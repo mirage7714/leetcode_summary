{
 "cells": [
  {
   "cell_type": "markdown",
   "id": "92663fc9-6bfe-497a-a500-3b74c7d95a77",
   "metadata": {},
   "source": [
    "# 本題要找出排序的位置與實際位置不同的數量有多少 (\\#Array, \\#Sorting )\n",
    "原題目連結: https://leetcode.com/problems/height-checker/description/?envType=daily-question&envId=2024-06-10  \n",
    "\n",
    "A school is trying to take an annual photo of all the students. The students are asked to stand in a single file line in non-decreasing order by height. Let this ordering be represented by the integer array expected where expected[i] is the expected height of the ith student in line.  \n",
    "You are given an integer array heights representing the current order that the students are standing in. Each heights[i] is the height of the ith student in line (0-indexed).  \n",
    "Return the number of indices where heights[i] != expected[i].  \n",
    "\n",
    "範例:  \n",
    "Ex1:  \n",
    "Input: heights = [1,1,4,2,1,3]  \n",
    "Output: 3  \n",
    "Explanation:   \n",
    "heights:  [1,1,4,2,1,3]  \n",
    "expected: [1,1,1,2,3,4]  \n",
    "Indices 2, 4, and 5 do not match.  \n",
    "\n",
    "Ex2:  \n",
    "Input: heights = [5,1,2,3,4]  \n",
    "Output: 5  \n",
    "Explanation:  \n",
    "heights:  [5,1,2,3,4]  \n",
    "expected: [1,2,3,4,5]  \n",
    "All indices do not match.  \n",
    "\n",
    "Ex3:  \n",
    "Input: heights = [1,2,3,4,5]  \n",
    "Output: 0  \n",
    "Explanation:  \n",
    "heights:  [1,2,3,4,5]  \n",
    "expected: [1,2,3,4,5]  \n",
    "All indices match."
   ]
  },
  {
   "cell_type": "markdown",
   "id": "59827327-8be8-4b2c-a687-e651035a7c7d",
   "metadata": {},
   "source": [
    "* 解題想法:  \n",
    "將排序後的結果與目前的順序進行比較，如果有不相同的情況則將數值+1，最後回傳統計結果就是答案"
   ]
  },
  {
   "cell_type": "code",
   "execution_count": null,
   "id": "dc788b68-fcd3-413f-a8e4-e0410dac4071",
   "metadata": {},
   "outputs": [],
   "source": [
    "class Solution:\n",
    "    def heightChecker(self, heights: List[int]) -> int:\n",
    "        res = 0\n",
    "        expected = sorted(heights)\n",
    "        for i in range(len(heights)):\n",
    "            if heights[i] != expected[i]:\n",
    "                res += 1\n",
    "        return res"
   ]
  }
 ],
 "metadata": {
  "kernelspec": {
   "display_name": "Python 3 (ipykernel)",
   "language": "python",
   "name": "python3"
  },
  "language_info": {
   "codemirror_mode": {
    "name": "ipython",
    "version": 3
   },
   "file_extension": ".py",
   "mimetype": "text/x-python",
   "name": "python",
   "nbconvert_exporter": "python",
   "pygments_lexer": "ipython3",
   "version": "3.9.13"
  }
 },
 "nbformat": 4,
 "nbformat_minor": 5
}
