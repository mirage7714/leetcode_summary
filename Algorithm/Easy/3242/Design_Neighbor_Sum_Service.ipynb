{
 "cells": [
  {
   "cell_type": "markdown",
   "id": "d543b08b-ea0d-4bb3-80d1-cd71f680e58c",
   "metadata": {},
   "source": [
    "# 本題要設計計算相鄰與對角的總和分別為多少 (\\#Design, \\#Matrix )\n",
    "原題目連結: https://leetcode.com/problems/design-neighbor-sum-service/description/  \n",
    "\n",
    "You are given a n x n 2D array grid containing distinct elements in the range [0, n2 - 1].  \n",
    "Implement the neighborSum class:  \n",
    "neighborSum(int [][]grid) initializes the object.  \n",
    "int adjacentSum(int value) returns the sum of elements which are adjacent neighbors of value, that is either to the top, left, right, or bottom of value in grid.  \n",
    "int diagonalSum(int value) returns the sum of elements which are diagonal neighbors of value, that is either to the top-left, top-right, bottom-left, or bottom-right of value in grid.  \n",
    "\n",
    "範例:  \n",
    "Ex1:  \n",
    "Input:  \n",
    "[\"neighborSum\", \"adjacentSum\", \"adjacentSum\", \"diagonalSum\", \"diagonalSum\"]  \n",
    "[[[[0, 1, 2], [3, 4, 5], [6, 7, 8]]], [1], [4], [4], [8]]  \n",
    "Output: [null, 6, 16, 16, 4]  \n",
    "Explanation:  \n",
    "The adjacent neighbors of 1 are 0, 2, and 4.  \n",
    "The adjacent neighbors of 4 are 1, 3, 5, and 7.  \n",
    "The diagonal neighbors of 4 are 0, 2, 6, and 8.  \n",
    "The diagonal neighbor of 8 is 4.  \n",
    "\n",
    "Ex2:  \n",
    "Input:  \n",
    "[\"neighborSum\", \"adjacentSum\", \"diagonalSum\"]  \n",
    "[[[[1, 2, 0, 3], [4, 7, 15, 6], [8, 9, 10, 11], [12, 13, 14, 5]]], [15], [9]]  \n",
    "Output: [null, 23, 45]  \n",
    "Explanation:  \n",
    "The adjacent neighbors of 15 are 0, 10, 7, and 6.  \n",
    "The diagonal neighbors of 9 are 4, 12, 14, and 15.  "
   ]
  },
  {
   "cell_type": "markdown",
   "id": "6685c4e0-546f-4315-a874-46392b4ee12e",
   "metadata": {},
   "source": [
    "* 解題想法:  \n",
    "首先將所有位置的數值轉換成用數值作為key的dict，接著開始實作以下兩個功能:  \n",
    "- adjacentSum(): 分別找出指定點位上下左右四個數值並確認是否在matrix中，如果是則將結果加總，最後回傳加總的結果  \n",
    "- diagonalSum(): 分別找出指定點為四個對角的數值並確認是否在matrix中，如果是則將結果加總，最後回傳加總的結果  "
   ]
  },
  {
   "cell_type": "code",
   "execution_count": null,
   "id": "4d345122-1a3a-42b7-a743-fa81c0d75dec",
   "metadata": {},
   "outputs": [],
   "source": [
    "class neighborSum:\n",
    "\n",
    "    def __init__(self, grid: List[List[int]]):\n",
    "        self.origin = grid\n",
    "        self.grid = {}\n",
    "        for i in range(len(grid)):\n",
    "            for j in range(len(grid[0])):\n",
    "                self.grid[grid[i][j]] = [i,j]\n",
    "        self.m = len(grid)\n",
    "        self.n = len(grid[0])\n",
    "        \n",
    "    def adjacentSum(self, value: int) -> int:\n",
    "        total = 0   \n",
    "        p = self.grid[value]\n",
    "        x = [-1,1,0,0]\n",
    "        y = [0,0,1, -1]\n",
    "        for i in range(4):\n",
    "            a = p[0] + x[i]\n",
    "            b = p[1] + y[i]\n",
    "            if a >= 0 and a < self.m and b >= 0 and b < self.n:\n",
    "                total += self.origin[a][b]\n",
    "        return total\n",
    "\n",
    "    def diagonalSum(self, value: int) -> int:\n",
    "        total = 0\n",
    "        p = self.grid[value]\n",
    "        x = [-1,1,-1,1]\n",
    "        y = [1,1,-1, -1]\n",
    "        for i in range(4):\n",
    "            a = p[0] + x[i]\n",
    "            b = p[1] + y[i]\n",
    "            if a >= 0 and a < self.m and b >= 0 and b < self.n:\n",
    "                total += self.origin[a][b]\n",
    "        return total\n",
    "\n",
    "\n",
    "# Your neighborSum object will be instantiated and called as such:\n",
    "# obj = neighborSum(grid)\n",
    "# param_1 = obj.adjacentSum(value)\n",
    "# param_2 = obj.diagonalSum(value)"
   ]
  }
 ],
 "metadata": {
  "kernelspec": {
   "display_name": "Python 3 (ipykernel)",
   "language": "python",
   "name": "python3"
  },
  "language_info": {
   "codemirror_mode": {
    "name": "ipython",
    "version": 3
   },
   "file_extension": ".py",
   "mimetype": "text/x-python",
   "name": "python",
   "nbconvert_exporter": "python",
   "pygments_lexer": "ipython3",
   "version": "3.9.13"
  }
 },
 "nbformat": 4,
 "nbformat_minor": 5
}
