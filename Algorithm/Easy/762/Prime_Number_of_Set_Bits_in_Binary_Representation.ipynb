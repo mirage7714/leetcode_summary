{
 "cells": [
  {
   "cell_type": "markdown",
   "id": "97de1ed1-8d9e-4ad4-a2f1-3dfdc2ba8273",
   "metadata": {},
   "source": [
    "# 本題要找出在範圍內有多少數值的bit是質數 (\\#BitManipulation, \\#Math )\n",
    "原題目連結：https://leetcode.com/problems/prime-number-of-set-bits-in-binary-representation/description/\n",
    "\n",
    "Given two integers left and right, return the count of numbers in the inclusive range [left, right] having a prime number of set bits in their binary representation.  \n",
    "Recall that the number of set bits an integer has is the number of 1's present when written in binary.  \n",
    "For example, 21 written in binary is 10101, which has 3 set bits.  \n",
    "\n",
    "範例：  \n",
    "Ex1:  \n",
    "Input: left = 6, right = 10  \n",
    "Output: 4  \n",
    "Explanation:  \n",
    "6  -> 110 (2 set bits, 2 is prime)  \n",
    "7  -> 111 (3 set bits, 3 is prime)  \n",
    "8  -> 1000 (1 set bit, 1 is not prime)  \n",
    "9  -> 1001 (2 set bits, 2 is prime)  \n",
    "10 -> 1010 (2 set bits, 2 is prime)  \n",
    "4 numbers have a prime number of set bits.  \n",
    "\n",
    "Ex2:  \n",
    "Input: left = 10, right = 15  \n",
    "Output: 5  \n",
    "Explanation:  \n",
    "10 -> 1010 (2 set bits, 2 is prime)  \n",
    "11 -> 1011 (3 set bits, 3 is prime)  \n",
    "12 -> 1100 (2 set bits, 2 is prime)  \n",
    "13 -> 1101 (3 set bits, 3 is prime)  \n",
    "14 -> 1110 (3 set bits, 3 is prime)  \n",
    "15 -> 1111 (4 set bits, 4 is not prime)  \n",
    "5 numbers have a prime number of set bits."
   ]
  },
  {
   "cell_type": "code",
   "execution_count": null,
   "id": "1344dd58-660c-47a2-b82a-a50b36518ec4",
   "metadata": {},
   "outputs": [],
   "source": [
    "class Solution:\n",
    "    def countPrimeSetBits(self, left: int, right: int) -> int:\n",
    "        def countBit(num):\n",
    "            res = 0\n",
    "            for i in num:\n",
    "                if i == '1':\n",
    "                    res += 1\n",
    "            return res\n",
    "        def is_prime(num):\n",
    "            if num == 1:\n",
    "                return False\n",
    "            elif num % 2 == 0:\n",
    "                if num == 2:\n",
    "                    return True\n",
    "                else:\n",
    "                    return False\n",
    "            else:\n",
    "                for i in range(3, int(sqrt(num))+1):\n",
    "                    if num % i == 0:\n",
    "                        return False\n",
    "                return True\n",
    "        \n",
    "        res = 0\n",
    "        temp = set()\n",
    "        for i in range(left, right+1):\n",
    "            b = countBit(bin(i)[2:])\n",
    "            if b not in temp: \n",
    "                if is_prime(b):\n",
    "                    res += 1\n",
    "                    temp.add(b)\n",
    "            else:\n",
    "                res += 1\n",
    "        return res"
   ]
  }
 ],
 "metadata": {
  "kernelspec": {
   "display_name": "Python 3 (ipykernel)",
   "language": "python",
   "name": "python3"
  },
  "language_info": {
   "codemirror_mode": {
    "name": "ipython",
    "version": 3
   },
   "file_extension": ".py",
   "mimetype": "text/x-python",
   "name": "python",
   "nbconvert_exporter": "python",
   "pygments_lexer": "ipython3",
   "version": "3.10.9"
  }
 },
 "nbformat": 4,
 "nbformat_minor": 5
}
