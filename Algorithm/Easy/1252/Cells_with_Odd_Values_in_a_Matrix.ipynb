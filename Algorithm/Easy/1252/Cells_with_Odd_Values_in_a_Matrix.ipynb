{
 "cells": [
  {
   "cell_type": "markdown",
   "metadata": {},
   "source": [
    "# 本題要找出在操作過後在矩陣中有幾個奇數\n",
    "原題目連結： https://leetcode.com/problems/cells-with-odd-values-in-a-matrix/  \n",
    "\n",
    "Given n and m which are the dimensions of a matrix initialized by zeros and given an array indices where indices[i] = [ri, ci]. For each pair of [ri, ci] you have to increment all cells in row ri and column ci by 1.  \n",
    "\n",
    "Return the number of cells with odd values in the matrix after applying the increment to all indices.  \n",
    "\n",
    "範例：  \n",
    "Ex1:  \n",
    "Input: n = 2, m = 3, indices = [[0,1],[1,1]]  \n",
    "Output: 6  \n",
    "Explanation: Initial matrix = [[0,0,0],[0,0,0]].  \n",
    "After applying first increment it becomes [[1,2,1],[0,1,0]].  \n",
    "The final matrix will be [[1,3,1],[1,3,1]] which contains 6 odd numbers.  \n",
    "\n",
    "Ex2:\n",
    "Input: n = 2, m = 2, indices = [[1,1],[0,0]]  \n",
    "Output: 0  \n",
    "Explanation: Final matrix = [[2,2],[2,2]]. There is no odd number in the final matrix."
   ]
  },
  {
   "cell_type": "markdown",
   "metadata": {},
   "source": [
    "* 解題想法：  \n",
    "在操作中，要將指定的row跟column進行加1，因此需要先建立一個都是0的矩陣，然後再對矩陣進行操作\n",
    "最後將矩陣中所有為奇數的個數加起來"
   ]
  },
  {
   "cell_type": "code",
   "execution_count": null,
   "metadata": {},
   "outputs": [],
   "source": [
    "class Solution:\n",
    "    def oddCells(self, n: int, m: int, indices: List[List[int]]) -> int:\n",
    "        result = []\n",
    "        count = 0\n",
    "        for a in range(n):\n",
    "            temp = [0]*m\n",
    "            result.append(temp)\n",
    "                \n",
    "        for indice in indices:\n",
    "            r = indice[0]\n",
    "            c = indice[1]\n",
    "            for m in range(len(result[r])):\n",
    "                result[r][m] += 1\n",
    "            for n in range(len(result)):\n",
    "                result[n][c] += 1\n",
    "        for o in range(len(result)):\n",
    "            for p in range(len(result[o])):\n",
    "                if result[o][p] % 2 == 1:\n",
    "                    count += 1\n",
    "        return count"
   ]
  }
 ],
 "metadata": {
  "kernelspec": {
   "display_name": "Python 3",
   "language": "python",
   "name": "python3"
  },
  "language_info": {
   "codemirror_mode": {
    "name": "ipython",
    "version": 3
   },
   "file_extension": ".py",
   "mimetype": "text/x-python",
   "name": "python",
   "nbconvert_exporter": "python",
   "pygments_lexer": "ipython3",
   "version": "3.8.3"
  }
 },
 "nbformat": 4,
 "nbformat_minor": 4
}
