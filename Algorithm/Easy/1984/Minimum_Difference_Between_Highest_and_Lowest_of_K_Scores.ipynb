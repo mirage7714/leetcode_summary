{
 "cells": [
  {
   "cell_type": "markdown",
   "metadata": {},
   "source": [
    "# 本題要找出最小的區間差為何\n",
    "原題目連結: https://leetcode.com/problems/minimum-difference-between-highest-and-lowest-of-k-scores/  \n",
    "\n",
    "You are given a 0-indexed integer array nums, where nums[i] represents the score of the ith student. You are also given an integer k.  \n",
    "Pick the scores of any k students from the array so that the difference between the highest and the lowest of the k scores is minimized.  \n",
    "Return the minimum possible difference.  \n",
    "\n",
    "範例:  \n",
    "Ex1:  \n",
    "Input: nums = [90], k = 1  \n",
    "Output: 0  \n",
    "Explanation: There is one way to pick score(s) of one student:  \n",
    "- [90]. The difference between the highest and lowest score is 90 - 90 = 0.  \n",
    "The minimum possible difference is 0.  \n",
    "\n",
    "Ex2:  \n",
    "Input: nums = [9,4,1,7], k = 2  \n",
    "Output: 2  \n",
    "Explanation: There are six ways to pick score(s) of two students:   \n",
    "- [9,4,1,7]. The difference between the highest and lowest score is 9 - 4 = 5.  \n",
    "- [9,4,1,7]. The difference between the highest and lowest score is 9 - 1 = 8.  \n",
    "- [9,4,1,7]. The difference between the highest and lowest score is 9 - 7 = 2.  \n",
    "- [9,4,1,7]. The difference between the highest and lowest score is 4 - 1 = 3.  \n",
    "- [9,4,1,7]. The difference between the highest and lowest score is 7 - 4 = 3.  \n",
    "- [9,4,1,7]. The difference between the highest and lowest score is 7 - 1 = 6.  \n",
    "The minimum possible difference is 2.  "
   ]
  },
  {
   "cell_type": "markdown",
   "metadata": {},
   "source": [
    "* 解題想法:  \n",
    "首先判斷指定的list長度是否為1，如果為1則直接回傳0，接著判斷list長度是否為k，如果為k則回傳list最後一個元素減去第一個元素，最後的情況則是使用一個迴圈來找出sub list，接著用sub list的最後一個元素減去第一個元素，最後找出最小值為何"
   ]
  },
  {
   "cell_type": "code",
   "execution_count": null,
   "metadata": {},
   "outputs": [],
   "source": [
    "class Solution:\n",
    "    def minimumDifference(self, nums: List[int], k: int) -> int:\n",
    "        total = 0\n",
    "        if len(nums) > 1:\n",
    "            nums.sort()\n",
    "            if len(nums) == k:\n",
    "                total = nums[-1] - nums[0]\n",
    "            else:    \n",
    "                m = nums[-1] - nums[0]\n",
    "                for n in range(len(nums)-k+1):\n",
    "                    p = nums[n:n+k]\n",
    "                    d = p[-1] - p[0]\n",
    "                    if d < m:\n",
    "                        m = d\n",
    "                total = m\n",
    "        return total"
   ]
  }
 ],
 "metadata": {
  "kernelspec": {
   "display_name": "Python 3",
   "language": "python",
   "name": "python3"
  },
  "language_info": {
   "codemirror_mode": {
    "name": "ipython",
    "version": 3
   },
   "file_extension": ".py",
   "mimetype": "text/x-python",
   "name": "python",
   "nbconvert_exporter": "python",
   "pygments_lexer": "ipython3",
   "version": "3.7.4"
  }
 },
 "nbformat": 4,
 "nbformat_minor": 4
}
