{
 "cells": [
  {
   "cell_type": "markdown",
   "metadata": {},
   "source": [
    "# 本題要找出將指定的數字移除後，最大的結果為多少\n",
    "原題目連結: https://leetcode.com/problems/remove-digit-from-number-to-maximize-result/  \n",
    "\n",
    "You are given a string number representing a positive integer and a character digit.  \n",
    "\n",
    "Return the resulting string after removing exactly one occurrence of digit from number such that the value of the resulting string in decimal form is maximized. The test cases are generated such that digit occurs at least once in number.  \n",
    "\n",
    "範例:  \n",
    "Ex1:  \n",
    "Input: number = \"123\", digit = \"3\"  \n",
    "Output: \"12\"  \n",
    "Explanation: There is only one '3' in \"123\". After removing '3', the result is \"12\".  \n",
    "\n",
    "Ex2:  \n",
    "Input: number = \"1231\", digit = \"1\"  \n",
    "Output: \"231\"    \n",
    "Explanation: We can remove the first '1' to get \"231\" or remove the second '1' to get \"123\".  \n",
    "Since 231 > 123, we return \"231\".  \n",
    "\n",
    "Ex3:  \n",
    "Input: number = \"551\", digit = \"5\"  \n",
    "Output: \"51\"  \n",
    "Explanation: We can remove either the first or second '5' from \"551\".  \n",
    "Both result in the string \"51\"."
   ]
  },
  {
   "cell_type": "markdown",
   "metadata": {},
   "source": [
    "* 解題想法:  \n",
    "首先判斷字串內數字的組成共有幾種，如果字串內只有一種數字的話，則直接回傳減去一位數字後的結果，如果有超過兩種以上的數字，則開始檢查每個情境下是否為最大值，最後回傳結果"
   ]
  },
  {
   "cell_type": "code",
   "execution_count": null,
   "metadata": {},
   "outputs": [],
   "source": [
    "class Solution:\n",
    "    def removeDigit(self, number: str, digit: str) -> str:\n",
    "        freq = {}\n",
    "        result = ''\n",
    "        for m in range(len(number)):\n",
    "            num = number[m]\n",
    "            if num not in freq.keys():\n",
    "                freq[num] = [m]\n",
    "            else:\n",
    "                freq[num].append(m)\n",
    "        keys = list(freq.keys())\n",
    "        if len(keys) > 1:\n",
    "            temp = 0\n",
    "            for k in freq[digit]:\n",
    "                i = ''\n",
    "                if k == 0:\n",
    "                    i = number[1:]\n",
    "                else:\n",
    "                    i = number[0:k] + number[k+1:]\n",
    "                \n",
    "                if int(i) > temp:\n",
    "                    temp = int(i)\n",
    "            result = str(temp)\n",
    "        else:\n",
    "            result = number[1:]\n",
    "        return result"
   ]
  }
 ],
 "metadata": {
  "kernelspec": {
   "display_name": "Python 3",
   "language": "python",
   "name": "python3"
  },
  "language_info": {
   "codemirror_mode": {
    "name": "ipython",
    "version": 3
   },
   "file_extension": ".py",
   "mimetype": "text/x-python",
   "name": "python",
   "nbconvert_exporter": "python",
   "pygments_lexer": "ipython3",
   "version": "3.7.4"
  }
 },
 "nbformat": 4,
 "nbformat_minor": 4
}
