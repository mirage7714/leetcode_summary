{
 "cells": [
  {
   "cell_type": "markdown",
   "metadata": {},
   "source": [
    "# 本題要找出兩組相乘數的最大差為何\n",
    "原題目連結: https://leetcode.com/problems/maximum-product-difference-between-two-pairs/  \n",
    "\n",
    "The product difference between two pairs (a, b) and (c, d) is defined as (a * b) - (c * d).  \n",
    "\n",
    "For example, the product difference between (5, 6) and (2, 7) is (5 * 6) - (2 * 7) = 16.  \n",
    "Given an integer array nums, choose four distinct indices w, x, y, and z such that the product difference between pairs (nums[w], nums[x]) and (nums[y], nums[z]) is maximized.  \n",
    "\n",
    "Return the maximum such product difference.  \n",
    "\n",
    "範例:  \n",
    "Ex1:  \n",
    "Input: nums = [5,6,2,7,4]  \n",
    "Output: 34  \n",
    "Explanation: We can choose indices 1 and 3 for the first pair (6, 7) and indices 2 and 4 for the second pair (2, 4).  \n",
    "The product difference is (6 * 7) - (2 * 4) = 34.  \n",
    "\n",
    "Ex2:  \n",
    "Input: nums = [4,2,5,9,7,4,8]  \n",
    "Output: 64  \n",
    "Explanation: We can choose indices 3 and 6 for the first pair (9, 8) and indices 1 and 5 for the second pair (2, 4).  \n",
    "The product difference is (9 * 8) - (2 * 4) = 64."
   ]
  },
  {
   "cell_type": "markdown",
   "metadata": {},
   "source": [
    "* 解題想法:  \n",
    "首先將原本的list進行排序，接著找出最前面與最後面兩個數字，相乘後相減就是題目要求的答案"
   ]
  },
  {
   "cell_type": "code",
   "execution_count": null,
   "metadata": {},
   "outputs": [],
   "source": [
    "class Solution:\n",
    "    def maxProductDifference(self, nums: List[int]) -> int:\n",
    "        nums.sort()\n",
    "        result = nums[-1] * nums[-2] - nums[0] * nums[1]\n",
    "        return result"
   ]
  }
 ],
 "metadata": {
  "kernelspec": {
   "display_name": "Python 3",
   "language": "python",
   "name": "python3"
  },
  "language_info": {
   "codemirror_mode": {
    "name": "ipython",
    "version": 3
   },
   "file_extension": ".py",
   "mimetype": "text/x-python",
   "name": "python",
   "nbconvert_exporter": "python",
   "pygments_lexer": "ipython3",
   "version": "3.7.4"
  }
 },
 "nbformat": 4,
 "nbformat_minor": 2
}
