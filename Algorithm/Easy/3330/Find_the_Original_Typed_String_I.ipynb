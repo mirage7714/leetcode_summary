{
 "cells": [
  {
   "cell_type": "markdown",
   "id": "f1d77543-9c5a-476a-9318-6f8359dab2c2",
   "metadata": {},
   "source": [
    "# 本題要找出原本的字串共有幾種可能的組合 (\\#String )\n",
    "原題目連結: https://leetcode.com/problems/find-the-original-typed-string-i/description/  \n",
    "\n",
    "Alice is attempting to type a specific string on her computer. However, she tends to be clumsy and may press a key for too long, resulting in a character being typed multiple times.  \n",
    "Although Alice tried to focus on her typing, she is aware that she may still have done this at most once.  \n",
    "You are given a string word, which represents the final output displayed on Alice's screen.  \n",
    "Return the total number of possible original strings that Alice might have intended to type.  \n",
    "\n",
    "範例:  \n",
    "Ex1:  \n",
    "Input: word = \"abbcccc\"  \n",
    "Output: 5  \n",
    "Explanation:  \n",
    "The possible strings are: \"abbcccc\", \"abbccc\", \"abbcc\", \"abbc\", and \"abcccc\".  \n",
    "\n",
    "Ex2:  \n",
    "Input: word = \"abcd\"  \n",
    "Output: 1  \n",
    "Explanation:  \n",
    "The only possible string is \"abcd\".  \n",
    "\n",
    "Ex3:  \n",
    "Input: word = \"aaaa\"  \n",
    "Output: 4"
   ]
  },
  {
   "cell_type": "markdown",
   "id": "004d4880-88ed-4aac-bfec-8c8f55fba9f0",
   "metadata": {},
   "source": [
    "* 解題想法:  \n",
    "首先找出有重複字母的組合，如果有的話則將重複次數-1後加到結果中，最後將結果+1就是答案"
   ]
  },
  {
   "cell_type": "code",
   "execution_count": null,
   "id": "6cb96c68-c39a-48f3-bf1a-87dcf2e3df1b",
   "metadata": {},
   "outputs": [],
   "source": [
    "class Solution:\n",
    "    def possibleStringCount(self, word: str) -> int:\n",
    "        res = 1\n",
    "        char = word[0]\n",
    "        count = 1\n",
    "        for i in range(1, len(word)):\n",
    "            if word[i] == char:\n",
    "                count += 1\n",
    "            else:\n",
    "                if count > 1:\n",
    "                    res += count -1\n",
    "                count = 1\n",
    "                char = word[i]\n",
    "        if count > 1:\n",
    "            res += count-1\n",
    "        return res"
   ]
  }
 ],
 "metadata": {
  "kernelspec": {
   "display_name": "Python 3 (ipykernel)",
   "language": "python",
   "name": "python3"
  },
  "language_info": {
   "codemirror_mode": {
    "name": "ipython",
    "version": 3
   },
   "file_extension": ".py",
   "mimetype": "text/x-python",
   "name": "python",
   "nbconvert_exporter": "python",
   "pygments_lexer": "ipython3",
   "version": "3.9.13"
  }
 },
 "nbformat": 4,
 "nbformat_minor": 5
}
