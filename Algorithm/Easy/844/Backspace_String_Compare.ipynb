{
 "cells": [
  {
   "cell_type": "markdown",
   "metadata": {},
   "source": [
    "# 此題是要找出刪除字母後的字串是否相同\n",
    "原題目連結: https://leetcode.com/problems/backspace-string-compare/  \n",
    "\n",
    "範例:  \n",
    "Ex1:  \n",
    "Input: S = \"ab#c\", T = \"ad#c\"  \n",
    "Output: true  \n",
    "Explanation: Both S and T become \"ac\".  \n",
    "\n",
    "Ex2:  \n",
    "Input: S = \"ab##\", T = \"c#d#\"  \n",
    "Output: true  \n",
    "Explanation: Both S and T become \"\".  \n",
    "\n",
    "Ex3:  \n",
    "Input: S = \"a##c\", T = \"#a#c\"  \n",
    "Output: true  \n",
    "Explanation: Both S and T become \"c\".  \n",
    "\n",
    "Ex4:  \n",
    "Input: S = \"a#c\", T = \"b\"  \n",
    "Output: false  \n",
    "Explanation: S becomes \"c\" while T becomes \"b\"."
   ]
  },
  {
   "cell_type": "markdown",
   "metadata": {},
   "source": [
    "* 解題想法:  \n",
    "想到可以利用迴圈，逐個找出'#'後，將前方的字母刪除並回傳新字串，如果前方沒有字母則回傳新的字串  \n",
    "最後比較兩個整理後的字串是否相同，如果不相同則回傳False"
   ]
  },
  {
   "cell_type": "code",
   "execution_count": null,
   "metadata": {},
   "outputs": [],
   "source": [
    "class Solution:\n",
    "    def backspaceCompare(self, S: str, T: str) -> bool:\n",
    "        is_same = True\n",
    "        while '#' in S:\n",
    "            index = S.index('#')\n",
    "            if index != 0:\n",
    "                S = S[:index-1] + S[index+1:]\n",
    "            else:\n",
    "                S = S[1:]\n",
    "        while '#' in T:\n",
    "            index = T.index('#')\n",
    "            if index != 0:\n",
    "                T = T[:index-1] + T[index+1:]\n",
    "            else:\n",
    "                T = T[1:]\n",
    "        if T != S:\n",
    "            is_same = False\n",
    "        return is_same"
   ]
  }
 ],
 "metadata": {
  "kernelspec": {
   "display_name": "Python 3",
   "language": "python",
   "name": "python3"
  },
  "language_info": {
   "codemirror_mode": {
    "name": "ipython",
    "version": 3
   },
   "file_extension": ".py",
   "mimetype": "text/x-python",
   "name": "python",
   "nbconvert_exporter": "python",
   "pygments_lexer": "ipython3",
   "version": "3.7.4"
  }
 },
 "nbformat": 4,
 "nbformat_minor": 2
}
