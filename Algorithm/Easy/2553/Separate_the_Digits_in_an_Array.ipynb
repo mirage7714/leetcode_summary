{
 "cells": [
  {
   "cell_type": "markdown",
   "id": "647560ca-ebfc-4a5e-a758-9f479b9d7388",
   "metadata": {},
   "source": [
    "# 本題要將list中的數字照順序重新放入另一個list中 (\\#Array)\n",
    "原題目連結: https://leetcode.com/problems/separate-the-digits-in-an-array/description/  \n",
    "\n",
    "Given an array of positive integers nums, return an array answer that consists of the digits of each integer in nums after separating them in the same order they appear in nums.  \n",
    "To separate the digits of an integer is to get all the digits it has in the same order.  \n",
    "For example, for the integer 10921, the separation of its digits is [1,0,9,2,1].  \n",
    "\n",
    "範例:  \n",
    "Ex1:  \n",
    "Input: nums = [13,25,83,77]  \n",
    "Output: [1,3,2,5,8,3,7,7]  \n",
    "Explanation:   \n",
    "- The separation of 13 is [1,3].  \n",
    "- The separation of 25 is [2,5].  \n",
    "- The separation of 83 is [8,3].  \n",
    "- The separation of 77 is [7,7].  \n",
    "answer = [1,3,2,5,8,3,7,7]. Note that answer contains the separations in the same order.  \n",
    "\n",
    "Ex2:  \n",
    "Input: nums = [7,1,3,9]  \n",
    "Output: [7,1,3,9]  \n",
    "Explanation: The separation of each integer in nums is itself.  \n",
    "answer = [7,1,3,9]."
   ]
  },
  {
   "cell_type": "markdown",
   "id": "f4817c2e-cde0-4ecd-a769-ee8d1c571b72",
   "metadata": {},
   "source": [
    "* 解題想法:  \n",
    "首先用迴圈將list中的數字取出，並逐個取出數字後放入另一個list，最後回傳該list作為答案"
   ]
  },
  {
   "cell_type": "code",
   "execution_count": null,
   "id": "70f026ec-0e72-45c4-b141-abe66084e008",
   "metadata": {},
   "outputs": [],
   "source": [
    "class Solution:\n",
    "    def separateDigits(self, nums: List[int]) -> List[int]:\n",
    "        res = []\n",
    "        for num in nums:\n",
    "            for n in str(num):\n",
    "                res.append(int(n))\n",
    "        return res"
   ]
  }
 ],
 "metadata": {
  "kernelspec": {
   "display_name": "Python 3 (ipykernel)",
   "language": "python",
   "name": "python3"
  },
  "language_info": {
   "codemirror_mode": {
    "name": "ipython",
    "version": 3
   },
   "file_extension": ".py",
   "mimetype": "text/x-python",
   "name": "python",
   "nbconvert_exporter": "python",
   "pygments_lexer": "ipython3",
   "version": "3.9.13"
  }
 },
 "nbformat": 4,
 "nbformat_minor": 5
}
