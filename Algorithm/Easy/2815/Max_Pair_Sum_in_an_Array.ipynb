{
 "cells": [
  {
   "cell_type": "markdown",
   "metadata": {},
   "source": [
    "# 本題要找出最大的組合是多少 (\\#Array, \\#Hashmap )\n",
    "原題目連結: https://leetcode.com/problems/max-pair-sum-in-an-array/description/  \n",
    "\n",
    "You are given a 0-indexed integer array nums. You have to find the maximum sum of a pair of numbers from nums such that the maximum digit in both numbers are equal.  \n",
    "Return the maximum sum or -1 if no such pair exists.  \n",
    "\n",
    "範例:  \n",
    "Ex1:  \n",
    "Input: nums = [51,71,17,24,42]  \n",
    "Output: 88  \n",
    "Explanation:   \n",
    "For i = 1 and j = 2, nums[i] and nums[j] have equal maximum digits with a pair sum of 71 + 17 = 88.   \n",
    "For i = 3 and j = 4, nums[i] and nums[j] have equal maximum digits with a pair sum of 24 + 42 = 66.  \n",
    "It can be shown that there are no other pairs with equal maximum digits, so the answer is 88.  \n",
    "\n",
    "Ex2:  \n",
    "Input: nums = [51,71,17,24,42]  \n",
    "Output: 88  \n",
    "Explanation:   \n",
    "For i = 1 and j = 2, nums[i] and nums[j] have equal maximum digits with a pair sum of 71 + 17 = 88.   \n",
    "For i = 3 and j = 4, nums[i] and nums[j] have equal maximum digits with a pair sum of 24 + 42 = 66.  \n",
    "It can be shown that there are no other pairs with equal maximum digits, so the answer is 88."
   ]
  },
  {
   "cell_type": "markdown",
   "metadata": {},
   "source": [
    "* 解題想法:  \n",
    "首先用一個dict來存放最大值的組合，並開始走訪nums，找出每個數字的最大值之後，如果沒有出現在dict中則建立新的key並放入，如果已經有出現在dict中則直接放入，接著開始走訪每個value，當該value有兩個以上的數值時則找出最大值並與目前的結果比較後更新最大值，最後回傳最大值作為答案"
   ]
  },
  {
   "cell_type": "code",
   "execution_count": null,
   "metadata": {},
   "outputs": [],
   "source": [
    "class Solution:\n",
    "    def maxSum(self, nums: List[int]) -> int:\n",
    "        def getIndex(num):\n",
    "            d = 0\n",
    "            for n in str(num):\n",
    "                if int(n) > d:\n",
    "                    d = int(n)\n",
    "            return d\n",
    "\n",
    "        res = -1\n",
    "        count = {}\n",
    "        for n in nums:\n",
    "            d = getIndex(n)\n",
    "            if d not in count.keys():\n",
    "                count[d] = [n]\n",
    "            else:\n",
    "                count[d].append(n)\n",
    "        for val in count.values():\n",
    "            if len(val) > 1:\n",
    "                val.sort()\n",
    "                v = val[-1] + val[-2]\n",
    "                if v > res:\n",
    "                    res = v\n",
    "        return res"
   ]
  }
 ],
 "metadata": {
  "kernelspec": {
   "display_name": "Python 3",
   "language": "python",
   "name": "python3"
  },
  "language_info": {
   "codemirror_mode": {
    "name": "ipython",
    "version": 3
   },
   "file_extension": ".py",
   "mimetype": "text/x-python",
   "name": "python",
   "nbconvert_exporter": "python",
   "pygments_lexer": "ipython3",
   "version": "3.7.6"
  }
 },
 "nbformat": 4,
 "nbformat_minor": 4
}
