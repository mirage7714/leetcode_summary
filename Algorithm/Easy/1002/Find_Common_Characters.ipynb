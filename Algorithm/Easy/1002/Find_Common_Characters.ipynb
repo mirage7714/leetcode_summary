{
 "cells": [
  {
   "cell_type": "markdown",
   "metadata": {},
   "source": [
    "# 本題要找出字串中最常出現的字元\n",
    "原題目連結： https://leetcode.com/problems/find-common-characters/ \n",
    "\n",
    "Given an array A of strings made only from lowercase letters, return a list of all characters that show up in all strings within the list (including duplicates).  For example, if a character occurs 3 times in all strings but not 4 times, you need to include that character three times in the final answer.  \n",
    "\n",
    "範例：  \n",
    "Ex1:  \n",
    "Input: [\"bella\",\"label\",\"roller\"]  \n",
    "Output: [\"e\",\"l\",\"l\"]  \n",
    "\n",
    "Ex2:  \n",
    "Input: [\"cool\",\"lock\",\"cook\"]  \n",
    "Output: [\"c\",\"o\"]"
   ]
  },
  {
   "cell_type": "markdown",
   "metadata": {},
   "source": [
    "* 解題想法：  \n",
    "在找出字頻後，需要計算每個字母在字中出現的數量，並且加入list中，最後回傳list"
   ]
  },
  {
   "cell_type": "code",
   "execution_count": null,
   "metadata": {},
   "outputs": [],
   "source": [
    "class Solution:\n",
    "    def commonChars(self, A: List[str]) -> List[str]:\n",
    "        freq = []\n",
    "        result = []\n",
    "        chars = []\n",
    "        for word in A:\n",
    "            temp = {}\n",
    "            for w in word:\n",
    "                if w not in temp.keys():\n",
    "                    temp[w] = 1\n",
    "                else:\n",
    "                    temp[w] += 1\n",
    "                if w not in chars:\n",
    "                    chars.append(w)\n",
    "            freq.append(temp)\n",
    "        for char in chars:\n",
    "            count = []\n",
    "            for f in freq:\n",
    "                is_inkeys = True\n",
    "                if char not in f.keys():\n",
    "                    is_inkeys = False\n",
    "                else:\n",
    "                    count.append(f[char])\n",
    "                if not is_inkeys:\n",
    "                    break\n",
    "            if len(count) == len(freq):\n",
    "                for n in range(min(count)):\n",
    "                    result.append(char)\n",
    "        return result"
   ]
  }
 ],
 "metadata": {
  "kernelspec": {
   "display_name": "Python 3",
   "language": "python",
   "name": "python3"
  },
  "language_info": {
   "codemirror_mode": {
    "name": "ipython",
    "version": 3
   },
   "file_extension": ".py",
   "mimetype": "text/x-python",
   "name": "python",
   "nbconvert_exporter": "python",
   "pygments_lexer": "ipython3",
   "version": "3.8.3"
  }
 },
 "nbformat": 4,
 "nbformat_minor": 4
}
