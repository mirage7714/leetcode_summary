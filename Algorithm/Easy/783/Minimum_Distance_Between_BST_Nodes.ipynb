{
 "cells": [
  {
   "cell_type": "markdown",
   "metadata": {},
   "source": [
    "# 本題要找出樹中兩個節點的最小距離為多少\n",
    "原題目連結: https://leetcode.com/problems/minimum-distance-between-bst-nodes/  \n",
    "\n",
    "Given the root of a Binary Search Tree (BST), return the minimum difference between the values of any two different nodes in the tree.  \n",
    "\n",
    "範例:  \n",
    "Ex1:  \n",
    "Input: root = [4,2,6,1,3]  \n",
    "Output: 1  \n",
    "\n",
    "Ex2:  \n",
    "Input: root = [1,0,48,null,null,12,49]  \n",
    "Output: 1"
   ]
  },
  {
   "cell_type": "markdown",
   "metadata": {},
   "source": [
    "* 解題想法:  \n",
    "由於要找出兩個節點間的最小距離，因此先將樹中所有的值取出後放入另一個list中並進行排序，接著找出兩相鄰的數值與目前最小值進行比較，最後回傳找到的最小值"
   ]
  },
  {
   "cell_type": "code",
   "execution_count": null,
   "metadata": {},
   "outputs": [],
   "source": [
    "# Definition for a binary tree node.\n",
    "# class TreeNode:\n",
    "#     def __init__(self, val=0, left=None, right=None):\n",
    "#         self.val = val\n",
    "#         self.left = left\n",
    "#         self.right = right\n",
    "class Solution:\n",
    "    def minDiffInBST(self, root: Optional[TreeNode]) -> int:\n",
    "        result = 0\n",
    "        temp = [root]\n",
    "        vals = []\n",
    "        while len(temp) > 0:\n",
    "            nodes = []\n",
    "            for t in temp:\n",
    "                vals.append(t.val)\n",
    "                if t.left != None:\n",
    "                    nodes.append(t.left)\n",
    "                if t.right != None:\n",
    "                    nodes.append(t.right)\n",
    "            temp.clear()\n",
    "            temp += nodes\n",
    "        vals.sort()\n",
    "        result = vals[1] - vals[0]\n",
    "        for m in range(1, len(vals)-1):\n",
    "            v = vals[m+1] - vals[m]\n",
    "            result = min(result, v)\n",
    "        return result"
   ]
  }
 ],
 "metadata": {
  "kernelspec": {
   "display_name": "Python 3",
   "language": "python",
   "name": "python3"
  },
  "language_info": {
   "codemirror_mode": {
    "name": "ipython",
    "version": 3
   },
   "file_extension": ".py",
   "mimetype": "text/x-python",
   "name": "python",
   "nbconvert_exporter": "python",
   "pygments_lexer": "ipython3",
   "version": "3.7.4"
  }
 },
 "nbformat": 4,
 "nbformat_minor": 4
}
