{
 "cells": [
  {
   "cell_type": "markdown",
   "metadata": {},
   "source": [
    "# 本題要找出提供的array中，最多可以有幾個最大邊長的正方形\n",
    "原題目連結: https://leetcode.com/problems/number-of-rectangles-that-can-form-the-largest-square/  \n",
    "\n",
    "You are given an array rectangles where rectangles[i] = [li, wi] represents the ith rectangle of length l[i] and width w[i].  \n",
    "\n",
    "You can cut the ith rectangle to form a square with a side length of k if both k <= l[i] and k <= w[i]. For example, if you have a rectangle [4,6], you can cut it to get a square with a side length of at most 4.  \n",
    "\n",
    "Let maxLen be the side length of the largest square you can obtain from any of the given rectangles.  \n",
    "\n",
    "Return the number of rectangles that can make a square with a side length of maxLen.  \n",
    "\n",
    "範例:  \n",
    "Ex1:  \n",
    "Input: rectangles = [[5,8],[3,9],[5,12],[16,5]]  \n",
    "Output: 3  \n",
    "Explanation: The largest squares you can get from each rectangle are of lengths [5,3,5,5].  \n",
    "The largest possible square is of length 5, and you can get it out of 3 rectangles.  \n",
    "\n",
    "Ex2:  \n",
    "Input: rectangles = [[2,3],[3,7],[4,3],[3,7]]  \n",
    "Output: 3  "
   ]
  },
  {
   "cell_type": "markdown",
   "metadata": {},
   "source": [
    "* 解題想法:  \n",
    "依據題目的要求，在提供的list中有長方形的長寬，從長寬的最小值可以找出正方形的邊長，將正方形的邊長加入一個list後找出邊常最大值，並計算共有幾個最大邊長的正方形就是題目求的答案"
   ]
  },
  {
   "cell_type": "code",
   "execution_count": null,
   "metadata": {},
   "outputs": [],
   "source": [
    "class Solution:\n",
    "    def countGoodRectangles(self, rectangles: List[List[int]]) -> int:\n",
    "        result = []\n",
    "        count = 0\n",
    "        for r in rectangles:\n",
    "            result.append(min(r))\n",
    "        big = max(result)\n",
    "        for m in result:\n",
    "            if m == big:\n",
    "                count += 1\n",
    "        return count"
   ]
  }
 ],
 "metadata": {
  "kernelspec": {
   "display_name": "Python 3",
   "language": "python",
   "name": "python3"
  },
  "language_info": {
   "codemirror_mode": {
    "name": "ipython",
    "version": 3
   },
   "file_extension": ".py",
   "mimetype": "text/x-python",
   "name": "python",
   "nbconvert_exporter": "python",
   "pygments_lexer": "ipython3",
   "version": "3.7.4"
  }
 },
 "nbformat": 4,
 "nbformat_minor": 2
}
