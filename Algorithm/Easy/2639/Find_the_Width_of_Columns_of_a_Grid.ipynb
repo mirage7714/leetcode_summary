{
 "cells": [
  {
   "cell_type": "markdown",
   "metadata": {},
   "source": [
    "# 本題要找出column的最大寬度為多少 (\\#Array)\n",
    "原題目連結: https://leetcode.com/problems/find-the-width-of-columns-of-a-grid/description/   \n",
    "\n",
    "You are given a 0-indexed m x n integer matrix grid. The width of a column is the maximum length of its integers.  \n",
    "\n",
    "For example, if grid = [[-10], [3], [12]], the width of the only column is 3 since -10 is of length 3.  \n",
    "Return an integer array ans of size n where ans[i] is the width of the ith column.  \n",
    " \n",
    "The length of an integer x with len digits is equal to len if x is non-negative, and len + 1 otherwise.  \n",
    "\n",
    "範例:  \n",
    "Ex1:  \n",
    "Input: grid = [[1],[22],[333]]  \n",
    "Output: [3]  \n",
    "Explanation: In the 0th column, 333 is of length 3.  \n",
    "\n",
    "Ex2:  \n",
    "Input: grid = [[-15,1,3],[15,7,12],[5,6,-2]]  \n",
    "Output: [3,1,2]  \n",
    "Explanation:   \n",
    "In the 0th column, only -15 is of length 3.  \n",
    "In the 1st column, all integers are of length 1.   \n",
    "In the 2nd column, both 12 and -2 are of length 2.  "
   ]
  },
  {
   "cell_type": "markdown",
   "metadata": {},
   "source": [
    "* 解題想法:  \n",
    "首先建立一個list用來存放每個column的最大寬度並全部都先放入0，接著開始從每個row檢查是否為最大值，如果為最大值則更新數值，最後回傳list做為答案"
   ]
  },
  {
   "cell_type": "code",
   "execution_count": null,
   "metadata": {},
   "outputs": [],
   "source": [
    "class Solution:\n",
    "    def findColumnWidth(self, grid: List[List[int]]) -> List[int]:\n",
    "        res = [0] * len(grid[0])\n",
    "        for m in range(len(grid[0])):\n",
    "            for n in range(len(grid)):\n",
    "                res[m] = max(res[m], len(str(grid[n][m])))\n",
    "        return res"
   ]
  }
 ],
 "metadata": {
  "kernelspec": {
   "display_name": "Python 3",
   "language": "python",
   "name": "python3"
  },
  "language_info": {
   "codemirror_mode": {
    "name": "ipython",
    "version": 3
   },
   "file_extension": ".py",
   "mimetype": "text/x-python",
   "name": "python",
   "nbconvert_exporter": "python",
   "pygments_lexer": "ipython3",
   "version": "3.7.6"
  }
 },
 "nbformat": 4,
 "nbformat_minor": 4
}
