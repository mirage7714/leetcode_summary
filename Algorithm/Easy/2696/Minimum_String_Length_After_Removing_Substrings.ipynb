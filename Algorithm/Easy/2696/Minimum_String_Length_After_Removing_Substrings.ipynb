{
 "cells": [
  {
   "cell_type": "markdown",
   "id": "15c39338-a97f-4c12-be59-bb8eec64df3e",
   "metadata": {},
   "source": [
    "# 本題要找出移除特定字串之後的最短長度為多少 (\\#String)\n",
    "原題目連結: https://leetcode.com/problems/minimum-string-length-after-removing-substrings/description/  \n",
    "\n",
    "You are given a string s consisting only of uppercase English letters.  \n",
    "You can apply some operations to this string where, in one operation, you can remove any occurrence of one of the substrings \"AB\" or \"CD\" from s.  \n",
    "Return the minimum possible length of the resulting string that you can obtain.  \n",
    "Note that the string concatenates after removing the substring and could produce new \"AB\" or \"CD\" substrings.  \n",
    "\n",
    "範例:  \n",
    "Ex1:  \n",
    "Input: s = \"ABFCACDB\"  \n",
    "Output: 2  \n",
    "Explanation: We can do the following operations:  \n",
    "- Remove the substring \"ABFCACDB\", so s = \"FCACDB\".  \n",
    "- Remove the substring \"FCACDB\", so s = \"FCAB\".  \n",
    "- Remove the substring \"FCAB\", so s = \"FC\".  \n",
    "So the resulting length of the string is 2.  \n",
    "It can be shown that it is the minimum length that we can obtain.  \n",
    "\n",
    "Ex2:  \n",
    "Input: s = \"ACBBD\"  \n",
    "Output: 5  \n",
    "Explanation: We cannot do any operations on the string so the length remains the same."
   ]
  },
  {
   "cell_type": "markdown",
   "id": "9c0b7ffa-ee82-4584-b592-cd47b5db555d",
   "metadata": {},
   "source": [
    "* 解題想法:  \n",
    "用一個while迴圈來進行檢查。如果當有出現指定的字串時，則將字串移除之後重新進行迴圈，最後回傳移除字串之後剩下的字串長度"
   ]
  },
  {
   "cell_type": "code",
   "execution_count": null,
   "id": "2b1ec7de-569c-426b-9b48-1a0e88660b32",
   "metadata": {},
   "outputs": [],
   "source": [
    "class Solution:\n",
    "    def minLength(self, s: str) -> int:\n",
    "        while True:\n",
    "            l = len(s)\n",
    "            for i in range(len(s)-1):\n",
    "                if (s[i] == 'A' and s[i+1] == 'B') or (s[i] == 'C' and s[i+1] == 'D'):\n",
    "                    s = s[:i] + s[i+2:]\n",
    "                    break\n",
    "            \n",
    "            if len(s) == l:\n",
    "                break\n",
    "        return len(s)"
   ]
  }
 ],
 "metadata": {
  "kernelspec": {
   "display_name": "Python 3 (ipykernel)",
   "language": "python",
   "name": "python3"
  },
  "language_info": {
   "codemirror_mode": {
    "name": "ipython",
    "version": 3
   },
   "file_extension": ".py",
   "mimetype": "text/x-python",
   "name": "python",
   "nbconvert_exporter": "python",
   "pygments_lexer": "ipython3",
   "version": "3.9.13"
  }
 },
 "nbformat": 4,
 "nbformat_minor": 5
}
