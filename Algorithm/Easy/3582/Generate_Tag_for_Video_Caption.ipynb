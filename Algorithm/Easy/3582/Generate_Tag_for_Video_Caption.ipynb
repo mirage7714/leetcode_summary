{
 "cells": [
  {
   "cell_type": "markdown",
   "id": "7cd80bdc-d00f-4f84-8e35-c1aa665a321f",
   "metadata": {},
   "source": [
    "# 本題要找出產生的tag為何 (\\#String )\n",
    "原題目連結: https://leetcode.com/problems/generate-tag-for-video-caption/description/  \n",
    "\n",
    "You are given a string caption representing the caption for a video.  \n",
    "The following actions must be performed in order to generate a valid tag for the video:  \n",
    "Combine all words in the string into a single camelCase string prefixed with '#'. A camelCase string is one where the first letter of all words except the first one is capitalized. All characters after the first character in each word must be lowercase.  \n",
    "Remove all characters that are not an English letter, except the first '#'.  \n",
    "Truncate the result to a maximum of 100 characters.  \n",
    "Return the tag after performing the actions on caption.  \n",
    "\n",
    "範例:  \n",
    "Ex1:  \n",
    "Input: caption = \"Leetcode daily streak achieved\"  \n",
    "Output: \"#leetcodeDailyStreakAchieved\"  \n",
    "Explanation:  \n",
    "The first letter for all words except \"leetcode\" should be capitalized.  \n",
    "\n",
    "Ex2:  \n",
    "Input: caption = \"can I Go There\"  \n",
    "Output: \"#canIGoThere\"  \n",
    "Explanation:  \n",
    "The first letter for all words except \"can\" should be capitalized.  \n",
    "\n",
    "Ex3:  \n",
    "Input: caption = \"hhhhhhhhhhhhhhhhhhhhhhhhhhhhhhhhhhhhhhhhhhhhhhhhhhhhhhhhhhhhhhhhhhhhhhhhhhhhhhhhhhhhhhhhhhhhhhhhhhhhh\"  \n",
    "Output: \"#hhhhhhhhhhhhhhhhhhhhhhhhhhhhhhhhhhhhhhhhhhhhhhhhhhhhhhhhhhhhhhhhhhhhhhhhhhhhhhhhhhhhhhhhhhhhhhhhhhh\"  \n",
    "Explanation:   \n",
    "Since the first word has length 101, we need to truncate the last two letters from the word.  "
   ]
  },
  {
   "cell_type": "markdown",
   "id": "e186c71c-522f-4828-b299-c236686b3004",
   "metadata": {},
   "source": [
    "* 解題想法:  \n",
    "首先用split進行斷句之後，用迴圈檢查每個字串的長度是否大於0，如果大於0則依條件將字首改成大寫或是小寫，其他則全部都改成小寫後加到結果上，最後如果長度大於100則只取前100個字母後回傳結果"
   ]
  },
  {
   "cell_type": "code",
   "execution_count": null,
   "id": "7fd3bb05-ecb4-4ff3-9181-7cd3d763f92e",
   "metadata": {},
   "outputs": [],
   "source": [
    "class Solution:\n",
    "    def generateTag(self, caption: str) -> str:\n",
    "        res = '#'\n",
    "        c = caption.split(' ')\n",
    "        for i in c:\n",
    "            if len(i) > 0: \n",
    "                if len(res) == 1:\n",
    "                    res += i[0].lower() + i[1:].lower()\n",
    "                else:\n",
    "                    res += i[0].upper() + i[1:].lower()\n",
    "        if len(res) > 100:\n",
    "            res = res[:100]\n",
    "        return res"
   ]
  }
 ],
 "metadata": {
  "kernelspec": {
   "display_name": "Python 3 (ipykernel)",
   "language": "python",
   "name": "python3"
  },
  "language_info": {
   "codemirror_mode": {
    "name": "ipython",
    "version": 3
   },
   "file_extension": ".py",
   "mimetype": "text/x-python",
   "name": "python",
   "nbconvert_exporter": "python",
   "pygments_lexer": "ipython3",
   "version": "3.9.13"
  }
 },
 "nbformat": 4,
 "nbformat_minor": 5
}
