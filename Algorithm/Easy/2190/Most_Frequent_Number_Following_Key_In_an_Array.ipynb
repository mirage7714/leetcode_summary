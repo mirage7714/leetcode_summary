{
 "cells": [
  {
   "cell_type": "markdown",
   "metadata": {},
   "source": [
    "# 本題要找出出現頻率最高的值為何\n",
    "原題目連結: https://leetcode.com/problems/most-frequent-number-following-key-in-an-array/  \n",
    "\n",
    "You are given a 0-indexed integer array nums. You are also given an integer key, which is present in nums.  \n",
    "\n",
    "For every unique integer target in nums, count the number of times target immediately follows an occurrence of key in nums. In other words, count the number of indices i such that:  \n",
    "\n",
    "0 <= i <= nums.length - 2,  \n",
    "nums[i] == key and,  \n",
    "nums[i + 1] == target.  \n",
    "Return the target with the maximum count. The test cases will be generated such that the target with maximum count is unique.  \n",
    "\n",
    "範例:  \n",
    "Ex1:  \n",
    "Input: nums = [1,100,200,1,100], key = 1  \n",
    "Output: 100  \n",
    "Explanation: For target = 100, there are 2 occurrences at indices 1 and 4 which follow an occurrence of key.  \n",
    "No other integers follow an occurrence of key, so we return 100.  \n",
    "\n",
    "Ex2:  \n",
    "Input: nums = [2,2,2,2,3], key = 2  \n",
    "Output: 2  \n",
    "Explanation: For target = 2, there are 3 occurrences at indices 1, 2, and 3 which follow an occurrence of key.  \n",
    "For target = 3, there is only one occurrence at index 4 which follows an occurrence of key.  \n",
    "target = 2 has the maximum number of occurrences following an occurrence of key, so we return 2."
   ]
  },
  {
   "cell_type": "markdown",
   "metadata": {},
   "source": [
    "* 解題想法:  \n",
    "首先建立一個dict，接著開始統計在key後面出現過的值，最後將dict中的key, value進行統計，並找出最大的value對應的key值為何"
   ]
  },
  {
   "cell_type": "code",
   "execution_count": null,
   "metadata": {},
   "outputs": [],
   "source": [
    "class Solution:\n",
    "    def mostFrequent(self, nums: List[int], key: int) -> int:\n",
    "        freq = {}\n",
    "        is_target = False\n",
    "        result = 0\n",
    "        max_count = 0\n",
    "        for n in range(len(nums)):\n",
    "            if is_target:\n",
    "                if nums[n] not in freq.keys():\n",
    "                    freq[nums[n]] = 1\n",
    "                else:\n",
    "                    freq[nums[n]] += 1\n",
    "                if nums[n] != key:\n",
    "                    is_target = False\n",
    "            else:\n",
    "                if nums[n] == key:\n",
    "                    is_target = True\n",
    "        for k, v in freq.items():\n",
    "            if v > max_count:\n",
    "                max_count = v\n",
    "                result = k\n",
    "        return result"
   ]
  }
 ],
 "metadata": {
  "kernelspec": {
   "display_name": "Python 3",
   "language": "python",
   "name": "python3"
  },
  "language_info": {
   "codemirror_mode": {
    "name": "ipython",
    "version": 3
   },
   "file_extension": ".py",
   "mimetype": "text/x-python",
   "name": "python",
   "nbconvert_exporter": "python",
   "pygments_lexer": "ipython3",
   "version": "3.7.4"
  }
 },
 "nbformat": 4,
 "nbformat_minor": 4
}
