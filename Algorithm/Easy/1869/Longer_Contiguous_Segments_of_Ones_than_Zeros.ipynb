{
 "cells": [
  {
   "cell_type": "markdown",
   "metadata": {},
   "source": [
    "# 本題要判斷連續的1與連續的0最大長度何者較長\n",
    "原題目連結: https://leetcode.com/problems/longer-contiguous-segments-of-ones-than-zeros/  \n",
    "\n",
    "Given a binary string s, return true if the longest contiguous segment of 1s is strictly longer than the longest contiguous segment of 0s in s. Return false otherwise.  \n",
    "\n",
    "For example, in s = \"110100010\" the longest contiguous segment of 1s has length 2, and the longest contiguous segment of 0s has length 3.  \n",
    "Note that if there are no 0s, then the longest contiguous segment of 0s is considered to have length 0. The same applies if there are no 1s.  \n",
    "\n",
    "範例:  \n",
    "Ex1:  \n",
    "Input: s = \"1101\"  \n",
    "Output: true  \n",
    "Explanation:  \n",
    "The longest contiguous segment of 1s has length 2: \"1101\"  \n",
    "The longest contiguous segment of 0s has length 1: \"1101\"  \n",
    "The segment of 1s is longer, so return true.  \n",
    "\n",
    "Ex2:  \n",
    "Input: s = \"111000\"  \n",
    "Output: false  \n",
    "Explanation:     \n",
    "The longest contiguous segment of 1s has length 3: \"111000\"  \n",
    "The longest contiguous segment of 0s has length 3: \"111000\"  \n",
    "The segment of 1s is not longer, so return false.  \n",
    "\n",
    "Ex3:  \n",
    "Input: s = \"110100010\"  \n",
    "Output: false  \n",
    "Explanation:  \n",
    "The longest contiguous segment of 1s has length 2: \"110100010\"   \n",
    "The longest contiguous segment of 0s has length 3: \"110100010\"  \n",
    "The segment of 1s is not longer, so return false."
   ]
  },
  {
   "cell_type": "markdown",
   "metadata": {},
   "source": [
    "* 解題想法:  \n",
    "首先建立一個迴圈來分析每個出現的數字，接著判斷這個數字與前一個數字是否相同，如果相同則代表是連續數字，將count加1，否則將count值與最大值比較，如果大於最大值則將最大值更新，接著將count歸零後重新設定目前的暫存與count值，最後比較0與1的最大值分別為和"
   ]
  },
  {
   "cell_type": "code",
   "execution_count": null,
   "metadata": {},
   "outputs": [],
   "source": [
    "class Solution:\n",
    "    def checkZeroOnes(self, s: str) -> bool:\n",
    "        is_valid = False\n",
    "        index = 1\n",
    "        count_one = 0\n",
    "        count_zero = 0\n",
    "        temp = s[0]\n",
    "        temp_one = temp_zero = 0\n",
    "        if temp == '1':\n",
    "            temp_one += 1\n",
    "        else:\n",
    "            temp_zero += 1\n",
    "            \n",
    "        while index < len(s):\n",
    "            if s[index] != temp:\n",
    "                if temp == '1':\n",
    "                    count_one = max(count_one, temp_one)\n",
    "                    temp_one = 0\n",
    "                    temp_zero += 1\n",
    "                else:\n",
    "                    count_zero = max(count_zero, temp_zero)\n",
    "                    temp_zero = 0\n",
    "                    temp_one += 1\n",
    "                temp = s[index]\n",
    "            else:\n",
    "                if s[index] == '1':\n",
    "                    temp_one += 1\n",
    "                else:\n",
    "                    temp_zero += 1\n",
    "            index += 1\n",
    "        count_one = max(count_one, temp_one)\n",
    "        count_zero = max(count_zero, temp_zero)\n",
    "        if count_one > count_zero:\n",
    "            is_valid = True\n",
    "        return is_valid"
   ]
  }
 ],
 "metadata": {
  "kernelspec": {
   "display_name": "Python 3",
   "language": "python",
   "name": "python3"
  },
  "language_info": {
   "codemirror_mode": {
    "name": "ipython",
    "version": 3
   },
   "file_extension": ".py",
   "mimetype": "text/x-python",
   "name": "python",
   "nbconvert_exporter": "python",
   "pygments_lexer": "ipython3",
   "version": "3.7.4"
  }
 },
 "nbformat": 4,
 "nbformat_minor": 2
}
