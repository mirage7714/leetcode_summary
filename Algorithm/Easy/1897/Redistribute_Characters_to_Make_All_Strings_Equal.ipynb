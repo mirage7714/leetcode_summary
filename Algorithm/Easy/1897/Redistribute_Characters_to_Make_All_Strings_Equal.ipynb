{
 "cells": [
  {
   "cell_type": "markdown",
   "metadata": {},
   "source": [
    "# 本題要判斷list內所有的字串是否可以藉由字母的調整達到將所有的字變成相同\n",
    "原題目連結: https://leetcode.com/problems/redistribute-characters-to-make-all-strings-equal/  \n",
    "\n",
    "You are given an array of strings words (0-indexed).  \n",
    "\n",
    "In one operation, pick two distinct indices i and j, where words[i] is a non-empty string, and move any character from words[i] to any position in words[j].  \n",
    "\n",
    "Return true if you can make every string in words equal using any number of operations, and false otherwise.  \n",
    "\n",
    "範例:  \n",
    "Ex1:  \n",
    "Input: words = [\"abc\",\"aabc\",\"bc\"]  \n",
    "Output: true  \n",
    "Explanation: Move the first 'a' in words[1] to the front of words[2],  \n",
    "to make words[1] = \"abc\" and words[2] = \"abc\".  \n",
    "All the strings are now equal to \"abc\", so return true.  \n",
    "\n",
    "Ex2:  \n",
    "Input: words = [\"ab\",\"a\"]  \n",
    "Output: false  \n",
    "Explanation: It is impossible to make all the strings equal using the operation."
   ]
  },
  {
   "cell_type": "markdown",
   "metadata": {},
   "source": [
    "* 解題想法:  \n",
    "依題目敘述，可以對任意兩個字進行字母的調整，最後確認是否可以將所有的字都調整成相同，因此首先建立一個dict，並用來統計每個字母出現的次數，最後檢查出現的字母次數是否可被平均分配給每個字，如果不行則回傳False，否則回傳True"
   ]
  },
  {
   "cell_type": "code",
   "execution_count": null,
   "metadata": {},
   "outputs": [],
   "source": [
    "class Solution:\n",
    "    def makeEqual(self, words: List[str]) -> bool:\n",
    "        is_valid = True\n",
    "        freq = {}\n",
    "        for word in words:\n",
    "            for w in word:\n",
    "                if w not in freq.keys():\n",
    "                    freq[w] = 1\n",
    "                else:\n",
    "                    freq[w] += 1\n",
    "        for val in list(freq.values()):\n",
    "            if val % len(words) != 0:\n",
    "                is_valid = False\n",
    "                break\n",
    "        return is_valid"
   ]
  }
 ],
 "metadata": {
  "kernelspec": {
   "display_name": "Python 3",
   "language": "python",
   "name": "python3"
  },
  "language_info": {
   "codemirror_mode": {
    "name": "ipython",
    "version": 3
   },
   "file_extension": ".py",
   "mimetype": "text/x-python",
   "name": "python",
   "nbconvert_exporter": "python",
   "pygments_lexer": "ipython3",
   "version": "3.7.6"
  }
 },
 "nbformat": 4,
 "nbformat_minor": 4
}
