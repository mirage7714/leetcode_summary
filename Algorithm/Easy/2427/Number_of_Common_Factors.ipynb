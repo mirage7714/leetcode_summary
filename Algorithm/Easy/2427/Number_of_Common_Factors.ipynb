{
 "cells": [
  {
   "cell_type": "markdown",
   "metadata": {},
   "source": [
    "# 本題要找出兩個數字共有多少相同的因數 (\\#Math)\n",
    "原題目連結: https://leetcode.com/problems/number-of-common-factors/  \n",
    "\n",
    "Given two positive integers a and b, return the number of common factors of a and b.  \n",
    "An integer x is a common factor of a and b if x divides both a and b.  \n",
    "\n",
    "範例:  \n",
    "Ex1:  \n",
    "Input: a = 12, b = 6  \n",
    "Output: 4  \n",
    "Explanation: The common factors of 12 and 6 are 1, 2, 3, 6.  \n",
    "\n",
    "Ex2:  \n",
    "Input: a = 25, b = 30  \n",
    "Output: 2  \n",
    "Explanation: The common factors of 25 and 30 are 1, 5."
   ]
  },
  {
   "cell_type": "markdown",
   "metadata": {},
   "source": [
    "* 解題想法:  \n",
    "首先建立一個函數來找出所有的因數有多少，接著比較兩個數值是否可以相除，如果可以的話則直接回傳最小數值的因數長度，如果不符合的話，則找出兩個數值的因數組合，並從短的集合開始檢查因數是否有出現在另一個集合中，最後回傳總共有多少個因數是共同的"
   ]
  },
  {
   "cell_type": "code",
   "execution_count": null,
   "metadata": {},
   "outputs": [],
   "source": [
    "class Solution:\n",
    "    def commonFactors(self, a: int, b: int) -> int:\n",
    "        def getFactors(nums):\n",
    "            factors = set()\n",
    "            for m in range(1, int(sqrt(nums))+1):\n",
    "                if nums % m == 0:\n",
    "                    factors.add(int(nums/m))\n",
    "                    factors.add(m)\n",
    "            return factors\n",
    "        if max(a,b) % min(a, b) == 0:\n",
    "            factors = getFactors(a) if a < b else getFactors(b)\n",
    "            return len(factors)\n",
    "        else:\n",
    "            fa = list(getFactors(a))\n",
    "            fb = list(getFactors(b))\n",
    "            fa.sort()\n",
    "            fb.sort()\n",
    "            count = 0\n",
    "            for m in range(min(len(fa), len(fb))):\n",
    "                if fa[m] in fb:\n",
    "                    count += 1\n",
    "            return count"
   ]
  }
 ],
 "metadata": {
  "kernelspec": {
   "display_name": "Python 3",
   "language": "python",
   "name": "python3"
  },
  "language_info": {
   "codemirror_mode": {
    "name": "ipython",
    "version": 3
   },
   "file_extension": ".py",
   "mimetype": "text/x-python",
   "name": "python",
   "nbconvert_exporter": "python",
   "pygments_lexer": "ipython3",
   "version": "3.7.4"
  }
 },
 "nbformat": 4,
 "nbformat_minor": 4
}
