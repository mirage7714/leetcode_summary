{
 "cells": [
  {
   "cell_type": "markdown",
   "metadata": {},
   "source": [
    "# 本題要找出提供的矩陣的轉置矩陣\n",
    "原題目連結： https://leetcode.com/problems/transpose-matrix/  \n",
    "\n",
    "Given a matrix A, return the transpose of A.  \n",
    "\n",
    "The transpose of a matrix is the matrix flipped over it's main diagonal, switching the row and column indices of the matrix.  \n",
    "\n",
    "範例：  \n",
    "Ex1:  \n",
    "Input: [[1,2,3],[4,5,6],[7,8,9]]  \n",
    "Output: [[1,4,7],[2,5,8],[3,6,9]]  \n",
    "\n",
    "Ex2:  \n",
    "Input: [[1,2,3],[4,5,6]]  \n",
    "Output: [[1,4],[2,5],[3,6]]  \n"
   ]
  },
  {
   "cell_type": "markdown",
   "metadata": {},
   "source": [
    "* 解題想法：  \n",
    "依題目要求，要做出原本矩陣的轉置矩陣，有一個方法是產生一個空list，然後一個一個數字加進去  \n",
    "或是創造一個長度正確，裡面都是0的矩陣，然後用迴圈將數值取代為想要的值"
   ]
  },
  {
   "cell_type": "code",
   "execution_count": null,
   "metadata": {},
   "outputs": [],
   "source": [
    "class Solution:\n",
    "    def transpose(self, A: List[List[int]]) -> List[List[int]]:\n",
    "        result = []\n",
    "        l = len(A)\n",
    "        w = len(A[0])\n",
    "        for a in range(w):\n",
    "            temp = [0]*l\n",
    "            result.append(temp)\n",
    "        for n in range(len(A)):\n",
    "            for m in range(len(A[n])):\n",
    "                result[m][n] = A[n][m]\n",
    "        return result"
   ]
  }
 ],
 "metadata": {
  "kernelspec": {
   "display_name": "Python 3",
   "language": "python",
   "name": "python3"
  },
  "language_info": {
   "codemirror_mode": {
    "name": "ipython",
    "version": 3
   },
   "file_extension": ".py",
   "mimetype": "text/x-python",
   "name": "python",
   "nbconvert_exporter": "python",
   "pygments_lexer": "ipython3",
   "version": "3.8.3"
  }
 },
 "nbformat": 4,
 "nbformat_minor": 4
}
