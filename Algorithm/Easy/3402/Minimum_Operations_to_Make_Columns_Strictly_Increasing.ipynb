{
 "cells": [
  {
   "cell_type": "markdown",
   "id": "6b4eec7b-cb19-47e3-9f54-78d8b5fc60f7",
   "metadata": {},
   "source": [
    "# 本題要找出最少需要幾次操作才能將matrix中的值改為嚴格遞增 (\\#Matrix, \\#Array )\n",
    "原題目連結: https://leetcode.com/problems/minimum-operations-to-make-columns-strictly-increasing/description/  \n",
    "\n",
    "You are given a m x n matrix grid consisting of non-negative integers.  \n",
    "In one operation, you can increment the value of any grid[i][j] by 1.  \n",
    "Return the minimum number of operations needed to make all columns of grid strictly increasing.  \n",
    "\n",
    "範例:  \n",
    "Ex1:  \n",
    "Input: grid = [[3,2],[1,3],[3,4],[0,1]]  \n",
    "Output: 15  \n",
    "Explanation:  \n",
    "To make the 0th column strictly increasing, we can apply 3 operations on grid[1][0], 2 operations on grid[2][0], and 6 operations on grid[3][0].  \n",
    "To make the 1st column strictly increasing, we can apply 4 operations on grid[3][1].  \n",
    "\n",
    "Ex2:  \n",
    "Input: grid = [[3,2,1],[2,1,0],[1,2,3]]  \n",
    "Output: 12  \n",
    "Explanation:  \n",
    "To make the 0th column strictly increasing, we can apply 2 operations on grid[1][0], and 4 operations on grid[2][0].  \n",
    "To make the 1st column strictly increasing, we can apply 2 operations on grid[1][1], and 2 operations on grid[2][1].  \n",
    "To make the 2nd column strictly increasing, we can apply 2 operations on grid[1][2].  "
   ]
  },
  {
   "cell_type": "markdown",
   "id": "3dd23eba-66ef-44aa-9f2a-336cd29c3dce",
   "metadata": {},
   "source": [
    "* 解題想法:  \n",
    "首先用垂直的方式開始讀取matrix，並檢查是否是嚴格遞增的情況，如果不是則將目前的數值加1，並將需要增加的數值進行統計，最後回傳統計的結果就是答案"
   ]
  },
  {
   "cell_type": "code",
   "execution_count": null,
   "id": "bb2e2170-0a0d-424c-a4c7-8cb869b8a581",
   "metadata": {},
   "outputs": [],
   "source": [
    "class Solution:\n",
    "    def minimumOperations(self, grid: List[List[int]]) -> int:\n",
    "        res = 0 \n",
    "        for i in range(len(grid[0])):\n",
    "            start = grid[0][i]\n",
    "            for j in range(1, len(grid)):\n",
    "                if grid[j][i] <= start:\n",
    "                    res += start - grid[j][i] + 1\n",
    "                    start += 1\n",
    "                else:\n",
    "                    start = grid[j][i]\n",
    "        return res"
   ]
  }
 ],
 "metadata": {
  "kernelspec": {
   "display_name": "Python 3 (ipykernel)",
   "language": "python",
   "name": "python3"
  },
  "language_info": {
   "codemirror_mode": {
    "name": "ipython",
    "version": 3
   },
   "file_extension": ".py",
   "mimetype": "text/x-python",
   "name": "python",
   "nbconvert_exporter": "python",
   "pygments_lexer": "ipython3",
   "version": "3.9.13"
  }
 },
 "nbformat": 4,
 "nbformat_minor": 5
}
