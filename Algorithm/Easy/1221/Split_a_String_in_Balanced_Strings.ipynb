{
 "cells": [
  {
   "cell_type": "markdown",
   "metadata": {},
   "source": [
    "# 本題要找出可以分成幾個R與L相同數量的字串\n",
    "原題目連結：https://leetcode.com/problems/split-a-string-in-balanced-strings/  \n",
    "\n",
    "Balanced strings are those who have equal quantity of 'L' and 'R' characters.  \n",
    "\n",
    "Given a balanced string s split it in the maximum amount of balanced strings.  \n",
    "\n",
    "Return the maximum amount of splitted balanced strings.  \n",
    "\n",
    "範例：  \n",
    "Ex1:  \n",
    "Input: s = \"RLRRLLRLRL\"  \n",
    "Output: 4  \n",
    "Explanation: s can be split into \"RL\", \"RRLL\", \"RL\", \"RL\", each substring contains same number of 'L' and 'R'.  \n",
    "\n",
    "Ex2:  \n",
    "Input: s = \"RLLLLRRRLR\"  \n",
    "Output: 3  \n",
    "Explanation: s can be split into \"RL\", \"LLLRRR\", \"LR\", each substring contains same number of 'L' and 'R'.  \n",
    "\n",
    "Ex3:  \n",
    "Input: s = \"LLLLRRRR\"  \n",
    "Output: 1  \n",
    "Explanation: s can be split into \"LLLLRRRR\".  \n",
    "\n",
    "Ex4:  \n",
    "Input: s = \"RLRRRLLRLL\"  \n",
    "Output: 2  \n",
    "Explanation: s can be split into \"RL\", \"RRRLLRLL\", since each substring contains an equal number of 'L' and 'R'"
   ]
  },
  {
   "cell_type": "markdown",
   "metadata": {},
   "source": [
    "* 解題想法：  \n",
    "這題中要找出R與L數量相同的字串，並回傳字串的數量  \n",
    "因此建立了一個dict，利用迴圈將字數算出，當兩個字數相等時即算成一個字並將dict清空重新開始計算"
   ]
  },
  {
   "cell_type": "code",
   "execution_count": null,
   "metadata": {},
   "outputs": [],
   "source": [
    "class Solution:\n",
    "    def balancedStringSplit(self, s: str) -> int:\n",
    "        count = 0\n",
    "        freq = {}\n",
    "        for m in range(len(s)):\n",
    "            if s[m] not in freq.keys():\n",
    "                freq[s[m]] = 1\n",
    "            else:\n",
    "                freq[s[m]] += 1\n",
    "            \n",
    "            if len(freq.keys()) == 2:\n",
    "                if freq['R'] == freq['L']:\n",
    "                    count += 1\n",
    "                    freq['R'], freq['L'] = 0,0 \n",
    "        return count"
   ]
  }
 ],
 "metadata": {
  "kernelspec": {
   "display_name": "Python 3",
   "language": "python",
   "name": "python3"
  },
  "language_info": {
   "codemirror_mode": {
    "name": "ipython",
    "version": 3
   },
   "file_extension": ".py",
   "mimetype": "text/x-python",
   "name": "python",
   "nbconvert_exporter": "python",
   "pygments_lexer": "ipython3",
   "version": "3.8.3"
  }
 },
 "nbformat": 4,
 "nbformat_minor": 4
}
