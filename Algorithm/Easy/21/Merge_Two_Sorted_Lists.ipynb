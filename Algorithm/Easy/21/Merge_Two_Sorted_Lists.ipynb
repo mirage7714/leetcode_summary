{
 "cells": [
  {
   "cell_type": "markdown",
   "metadata": {},
   "source": [
    "# 本題要將兩個Sorted List進行合併\n",
    "原題目連結: https://leetcode.com/problems/merge-two-sorted-lists/  \n",
    "\n",
    "You are given the heads of two sorted linked lists list1 and list2.  \n",
    "\n",
    "Merge the two lists in a one sorted list. The list should be made by splicing together the nodes of the first two lists.  \n",
    "\n",
    "Return the head of the merged linked list.  \n",
    "\n",
    "範例:  \n",
    "Ex1:  \n",
    "Input: list1 = [1,2,4], list2 = [1,3,4]  \n",
    "Output: [1,1,2,3,4,4]  \n",
    "\n",
    "Ex2:  \n",
    "Input: list1 = [], list2 = []  \n",
    "Output: []  \n",
    "\n",
    "Ex3:  \n",
    "Input: list1 = [], list2 = [0]  \n",
    "Output: [0]"
   ]
  },
  {
   "cell_type": "markdown",
   "metadata": {},
   "source": [
    "* 解題想法:  \n",
    "首先建立一個list，接著將兩個Sorted List內的值取出後放入，並重新進行排序之後建立一個新的LinkedList來將這些值重新建立起來"
   ]
  },
  {
   "cell_type": "code",
   "execution_count": null,
   "metadata": {},
   "outputs": [],
   "source": [
    "# Definition for singly-linked list.\n",
    "# class ListNode:\n",
    "#     def __init__(self, val=0, next=None):\n",
    "#         self.val = val\n",
    "#         self.next = next\n",
    "class Solution:\n",
    "    def mergeTwoLists(self, l1: ListNode, l2: ListNode) -> ListNode:\n",
    "        values = []\n",
    "        result = []\n",
    "        if l1 != None:\n",
    "            while l1:\n",
    "                v = l1.val\n",
    "                values.append(v)\n",
    "                l1 = l1.next\n",
    "        if l2 != None:\n",
    "            while l2:\n",
    "                v = l2.val\n",
    "                values.append(v)\n",
    "                l2 = l2.next\n",
    "        values.sort(reverse = True)\n",
    "        if len(values) > 0:\n",
    "            for n in values:\n",
    "                node = ListNode()\n",
    "                node.val = n\n",
    "                if len(result) > 0:\n",
    "                    node.next = result[-1]\n",
    "                result.append(node)\n",
    "            return result[-1]\n",
    "        return None"
   ]
  }
 ],
 "metadata": {
  "kernelspec": {
   "display_name": "Python 3",
   "language": "python",
   "name": "python3"
  },
  "language_info": {
   "codemirror_mode": {
    "name": "ipython",
    "version": 3
   },
   "file_extension": ".py",
   "mimetype": "text/x-python",
   "name": "python",
   "nbconvert_exporter": "python",
   "pygments_lexer": "ipython3",
   "version": "3.7.4"
  }
 },
 "nbformat": 4,
 "nbformat_minor": 4
}
