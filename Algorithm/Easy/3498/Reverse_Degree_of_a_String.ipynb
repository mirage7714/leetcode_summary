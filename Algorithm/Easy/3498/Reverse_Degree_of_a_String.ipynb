{
 "cells": [
  {
   "cell_type": "markdown",
   "id": "d0146205-7be5-4676-b650-e4776c77b6c0",
   "metadata": {},
   "source": [
    "# 本題要算出index與字母的乘積總合為多少 (\\#String )\n",
    "原題目連結: https://leetcode.com/problems/reverse-degree-of-a-string/description/  \n",
    "\n",
    "Given a string s, calculate its reverse degree.  \n",
    "The reverse degree is calculated as follows:  \n",
    "For each character, multiply its position in the reversed alphabet ('a' = 26, 'b' = 25, ..., 'z' = 1) with its position in the string (1-indexed).  \n",
    "Sum these products for all characters in the string.  \n",
    "Return the reverse degree of s.  \n",
    "\n",
    "範例:  \n",
    "Ex1:  \n",
    "Input: s = \"abc\"  \n",
    "Output: 148  \n",
    "Explanation:  \n",
    "Letter\tIndex in Reversed Alphabet\tIndex in String\tProduct  \n",
    "'a'\t26\t1\t26  \n",
    "'b'\t25\t2\t50  \n",
    "'c'\t24\t3\t72  \n",
    "The reversed degree is 26 + 50 + 72 = 148.  \n",
    "\n",
    "Ex2:  \n",
    "Input: s = \"zaza\"  \n",
    "Output: 160  \n",
    "Explanation:  \n",
    "Letter\tIndex in Reversed Alphabet\tIndex in String\tProduct  \n",
    "'z'\t1\t1\t1  \n",
    "'a'\t26\t2\t52  \n",
    "'z'\t1\t3\t3  \n",
    "'a'\t26\t4\t104  \n",
    "The reverse degree is 1 + 52 + 3 + 104 = 160.  "
   ]
  },
  {
   "cell_type": "markdown",
   "id": "22fd75bb-7c06-4fb1-b3e0-6492aa62df42",
   "metadata": {},
   "source": [
    "* 解題想法:  \n",
    "用迴圈找出每個index的字母與相對的index之後，將乘積進行加總就是答案"
   ]
  },
  {
   "cell_type": "code",
   "execution_count": null,
   "id": "d454bd6a-db2d-4ec2-a4b5-f77ce070e115",
   "metadata": {},
   "outputs": [],
   "source": [
    "class Solution:\n",
    "    def reverseDegree(self, s: str) -> int:\n",
    "        res = 0\n",
    "        a = ord('a')\n",
    "        for i in range(len(s)):\n",
    "            res += (i+1) * (26 - (ord(s[i]) - a))\n",
    "        return res"
   ]
  }
 ],
 "metadata": {
  "kernelspec": {
   "display_name": "Python 3 (ipykernel)",
   "language": "python",
   "name": "python3"
  },
  "language_info": {
   "codemirror_mode": {
    "name": "ipython",
    "version": 3
   },
   "file_extension": ".py",
   "mimetype": "text/x-python",
   "name": "python",
   "nbconvert_exporter": "python",
   "pygments_lexer": "ipython3",
   "version": "3.9.13"
  }
 },
 "nbformat": 4,
 "nbformat_minor": 5
}
