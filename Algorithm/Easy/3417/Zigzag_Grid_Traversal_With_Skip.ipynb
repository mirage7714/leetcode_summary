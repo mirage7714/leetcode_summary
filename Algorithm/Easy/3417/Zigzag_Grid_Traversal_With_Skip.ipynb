{
 "cells": [
  {
   "cell_type": "markdown",
   "id": "35bbf754-b856-48aa-b926-d7fe6c03ec82",
   "metadata": {},
   "source": [
    "# 本題要找出zigzag之後的數字為多少 (\\#Arry, \\#Matrix )\n",
    "原題目連結: https://leetcode.com/problems/zigzag-grid-traversal-with-skip/description/  \n",
    "\n",
    "You are given an m x n 2D array grid of positive integers.  \n",
    "Your task is to traverse grid in a zigzag pattern while skipping every alternate cell.  \n",
    "Zigzag pattern traversal is defined as following the below actions:  \n",
    "Start at the top-left cell (0, 0).  \n",
    "Move right within a row until the end of the row is reached.  \n",
    "Drop down to the next row, then traverse left until the beginning of the row is reached.  \n",
    "Continue alternating between right and left traversal until every row has been traversed.  \n",
    "Note that you must skip every alternate cell during the traversal.  \n",
    "Return an array of integers result containing, in order, the value of the cells visited during the zigzag traversal with skips.  \n",
    "\n",
    "範例:  \n",
    "Ex1:  \n",
    "Input: grid = [[2,1],[2,1],[2,1]]  \n",
    "Output: [2,1,2]  \n",
    "\n",
    "Ex2:  \n",
    "Input: grid = [[1,2,3],[4,5,6],[7,8,9]]  \n",
    "Output: [1,3,5,7,9]"
   ]
  },
  {
   "cell_type": "markdown",
   "id": "1c03a792-b1d8-41c6-b289-231e6809ee9c",
   "metadata": {},
   "source": [
    "* 解題想法:   \n",
    "首先建立一個list，接著用迴圈開始讀取每個數值，如果符合條件則放入list中，最後回傳list就是答案"
   ]
  },
  {
   "cell_type": "code",
   "execution_count": null,
   "id": "c9e7d7a1-6468-483d-8784-5f9c9b0a2e03",
   "metadata": {},
   "outputs": [],
   "source": [
    "class Solution:\n",
    "    def zigzagTraversal(self, grid: List[List[int]]) -> List[int]:\n",
    "        res = []\n",
    "        l = 0\n",
    "        for i in range(len(grid)):\n",
    "            if i % 2 == 0:\n",
    "                for j in range(len(grid[0])):\n",
    "                    if l == 0:\n",
    "                        res.append(grid[i][j])\n",
    "                        l = 1\n",
    "                    else:\n",
    "                        l = 0  \n",
    "            else:\n",
    "                for j in range(len(grid[0])-1, -1, -1):\n",
    "                    if l == 0:\n",
    "                        res.append(grid[i][j])\n",
    "                        l = 1\n",
    "                    else:\n",
    "                        l = 0\n",
    "        return res"
   ]
  }
 ],
 "metadata": {
  "kernelspec": {
   "display_name": "Python 3 (ipykernel)",
   "language": "python",
   "name": "python3"
  },
  "language_info": {
   "codemirror_mode": {
    "name": "ipython",
    "version": 3
   },
   "file_extension": ".py",
   "mimetype": "text/x-python",
   "name": "python",
   "nbconvert_exporter": "python",
   "pygments_lexer": "ipython3",
   "version": "3.9.13"
  }
 },
 "nbformat": 4,
 "nbformat_minor": 5
}
