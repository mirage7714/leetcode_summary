{
 "cells": [
  {
   "cell_type": "markdown",
   "metadata": {},
   "source": [
    "# 本題要判斷句子是否有包含26個字母的組成\n",
    "原題目連結: https://leetcode.com/problems/check-if-the-sentence-is-pangram/  \n",
    "\n",
    "A pangram is a sentence where every letter of the English alphabet appears at least once.  \n",
    "\n",
    "Given a string sentence containing only lowercase English letters, return true if sentence is a pangram, or false otherwise.  \n",
    "\n",
    "範例:  \n",
    "Ex1:  \n",
    "Input: sentence = \"thequickbrownfoxjumpsoverthelazydog\"  \n",
    "Output: true  \n",
    "Explanation: sentence contains at least one of every letter of the English alphabet.  \n",
    "\n",
    "Ex2:    \n",
    "Input: sentence = \"leetcode\"  \n",
    "Output: false"
   ]
  },
  {
   "cell_type": "markdown",
   "metadata": {},
   "source": [
    "* 解題想法:  \n",
    "依題目說明，要判斷字串中是否有包含了26個字母，因此首先判斷字串長度是否有大於或等於26個字母，如果沒有則一定不會包含26個字母  \n",
    "接著判斷每個字出現的次數，並建立一個dict來存放，最後統計dict的keys長度是否等於26，若小於26則回傳False，如果等於26則回傳True"
   ]
  },
  {
   "cell_type": "code",
   "execution_count": null,
   "metadata": {},
   "outputs": [],
   "source": [
    "class Solution:\n",
    "    def checkIfPangram(self, sentence: str) -> bool:\n",
    "        freq = {}\n",
    "        result = False\n",
    "        if len(sentence) > 25:\n",
    "            for n in range(len(sentence)):\n",
    "                if sentence[n] not in freq.keys():\n",
    "                    freq[sentence[n]] = 1\n",
    "            if len(list(freq.keys())) == 26:\n",
    "                result = True\n",
    "        return result"
   ]
  }
 ],
 "metadata": {
  "kernelspec": {
   "display_name": "Python 3",
   "language": "python",
   "name": "python3"
  },
  "language_info": {
   "codemirror_mode": {
    "name": "ipython",
    "version": 3
   },
   "file_extension": ".py",
   "mimetype": "text/x-python",
   "name": "python",
   "nbconvert_exporter": "python",
   "pygments_lexer": "ipython3",
   "version": "3.7.4"
  }
 },
 "nbformat": 4,
 "nbformat_minor": 2
}
