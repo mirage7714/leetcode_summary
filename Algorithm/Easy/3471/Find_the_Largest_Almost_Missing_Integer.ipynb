{
 "cells": [
  {
   "cell_type": "markdown",
   "id": "3e3cdd92-1fc8-4aac-bba2-2173408cc47d",
   "metadata": {},
   "source": [
    "# 本題要找出只出現一次的最大數為多少 (\\#Array )\n",
    "原題目連結：https://leetcode.com/problems/find-the-largest-almost-missing-integer/description/  \n",
    "\n",
    "You are given an integer array nums and an integer k.  \n",
    "An integer x is almost missing from nums if x appears in exactly one subarray of size k within nums.  \n",
    "Return the largest almost missing integer from nums. If no such integer exists, return -1.  \n",
    "A subarray is a contiguous sequence of elements within an array.  \n",
    "\n",
    "範例：  \n",
    "Ex1:  \n",
    "Input: nums = [3,9,2,1,7], k = 3  \n",
    "Output: 7  \n",
    "Explanation:  \n",
    "1 appears in 2 subarrays of size 3: [9, 2, 1] and [2, 1, 7].  \n",
    "2 appears in 3 subarrays of size 3: [3, 9, 2], [9, 2, 1], [2, 1, 7].  \n",
    "3 appears in 1 subarray of size 3: [3, 9, 2].  \n",
    "7 appears in 1 subarray of size 3: [2, 1, 7].  \n",
    "9 appears in 2 subarrays of size 3: [3, 9, 2], and [9, 2, 1].  \n",
    "We return 7 since it is the largest integer that appears in exactly one subarray of size k.  \n",
    "\n",
    "Ex2:  \n",
    "Input: nums = [3,9,7,2,1,7], k = 4  \n",
    "Output: 3  \n",
    "Explanation:  \n",
    "1 appears in 2 subarrays of size 4: [9, 7, 2, 1], [7, 2, 1, 7].  \n",
    "2 appears in 3 subarrays of size 4: [3, 9, 7, 2], [9, 7, 2, 1], [7, 2, 1, 7].  \n",
    "3 appears in 1 subarray of size 4: [3, 9, 7, 2].  \n",
    "7 appears in 3 subarrays of size 4: [3, 9, 7, 2], [9, 7, 2, 1], [7, 2, 1, 7].  \n",
    "9 appears in 2 subarrays of size 4: [3, 9, 7, 2], [9, 7, 2, 1].  \n",
    "We return 3 since it is the largest and only integer that appears in exactly one subarray of size k.  \n",
    "\n",
    "Ex3:  \n",
    "Input: nums = [0,0], k = 1  \n",
    "Output: -1  \n",
    "Explanation:  \n",
    "There is no integer that appears in only one subarray of size 1."
   ]
  },
  {
   "cell_type": "markdown",
   "id": "4435d269-f5eb-4bfa-af73-a8da471eb821",
   "metadata": {},
   "source": [
    "* 解題想法：  \n",
    "首先將每個數字出現的次數轉換之後放入dict中，最後找出只出現過一次的最大數值為何就是答案"
   ]
  },
  {
   "cell_type": "code",
   "execution_count": null,
   "id": "46dbb477-c12b-4d1d-8e43-322d990d4b41",
   "metadata": {},
   "outputs": [],
   "source": [
    "class Solution:\n",
    "    def largestInteger(self, nums: List[int], k: int) -> int:\n",
    "        count = {}\n",
    "        res = -1\n",
    "        s = nums[:k]\n",
    "        for i in nums[:k]:\n",
    "            count[i] = 1\n",
    "        for j in range(k, len(nums)):\n",
    "            if nums[j] not in count.keys():\n",
    "                count[nums[j]] = 0\n",
    "            count[nums[j]] += 1\n",
    "            for l in nums[j-k+1:j]:\n",
    "                count[l] += 1\n",
    "        for key, val in count.items():\n",
    "            if val == 1:\n",
    "                res = max(res, key)\n",
    "        return res"
   ]
  }
 ],
 "metadata": {
  "kernelspec": {
   "display_name": "Python 3 (ipykernel)",
   "language": "python",
   "name": "python3"
  },
  "language_info": {
   "codemirror_mode": {
    "name": "ipython",
    "version": 3
   },
   "file_extension": ".py",
   "mimetype": "text/x-python",
   "name": "python",
   "nbconvert_exporter": "python",
   "pygments_lexer": "ipython3",
   "version": "3.10.9"
  }
 },
 "nbformat": 4,
 "nbformat_minor": 5
}
