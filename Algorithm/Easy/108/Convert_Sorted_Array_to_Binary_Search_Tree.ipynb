{
 "cells": [
  {
   "cell_type": "markdown",
   "metadata": {},
   "source": [
    "# 本題要將sorted list轉換成binary search tree的格式 (\\#Array, \\#Binary Search Tree, \\#Binary Tree )\n",
    "原題目連結: https://leetcode.com/problems/convert-sorted-array-to-binary-search-tree/  \n",
    "\n",
    "Given an integer array nums where the elements are sorted in ascending order, convert it to a height-balanced binary search tree.  \n",
    "A height-balanced binary tree is a binary tree in which the depth of the two subtrees of every node never differs by more than one.  \n",
    "\n",
    "範例:  \n",
    "Ex1:  \n",
    "Input: nums = [-10,-3,0,5,9]  \n",
    "Output: [0,-3,9,-10,null,5]  \n",
    "Explanation: [0,-10,5,null,-3,null,9] is also accepted  \n",
    "\n",
    "Ex2:  \n",
    "Input: nums = [1,3]  \n",
    "Output: [3,1]  \n",
    "Explanation: [1,null,3] and [3,1] are both height-balanced BSTs."
   ]
  },
  {
   "cell_type": "markdown",
   "metadata": {},
   "source": [
    "* 解題想法:  \n",
    "依題目說明，建立出來的BST需要是平衡的BST，因此檢查nums的長度是否為空，如果不為空則找出中間的點，接著用遞迴的方式分別找出左右的節點，而父節點的值則為中間的點"
   ]
  },
  {
   "cell_type": "code",
   "execution_count": null,
   "metadata": {},
   "outputs": [],
   "source": [
    "# Definition for a binary tree node.\n",
    "# class TreeNode:\n",
    "#     def __init__(self, val=0, left=None, right=None):\n",
    "#         self.val = val\n",
    "#         self.left = left\n",
    "#         self.right = right\n",
    "class Solution:\n",
    "    def sortedArrayToBST(self, nums: List[int]) -> Optional[TreeNode]:\n",
    "        size = len(nums)\n",
    "        if not size:\n",
    "            return None\n",
    "        m = size // 2\n",
    "        return TreeNode(\n",
    "            nums[m],\n",
    "            self.sortedArrayToBST(nums[0:m]),\n",
    "            self.sortedArrayToBST(nums[m+1:])\n",
    "        )"
   ]
  }
 ],
 "metadata": {
  "kernelspec": {
   "display_name": "Python 3",
   "language": "python",
   "name": "python3"
  },
  "language_info": {
   "codemirror_mode": {
    "name": "ipython",
    "version": 3
   },
   "file_extension": ".py",
   "mimetype": "text/x-python",
   "name": "python",
   "nbconvert_exporter": "python",
   "pygments_lexer": "ipython3",
   "version": "3.7.6"
  }
 },
 "nbformat": 4,
 "nbformat_minor": 4
}
