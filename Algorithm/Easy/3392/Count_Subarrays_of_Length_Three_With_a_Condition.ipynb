{
 "cells": [
  {
   "cell_type": "markdown",
   "id": "43692afb-24fc-4e41-854f-c6a45a2fbe9a",
   "metadata": {},
   "source": [
    "# 本題要找出符合首尾相加等於中間數二分之一的sublist共有多少 (\\#Array )\n",
    "原題目連結: https://leetcode.com/problems/count-subarrays-of-length-three-with-a-condition/description/  \n",
    "\n",
    "Given an integer array nums, return the number of subarrays of length 3 such that the sum of the first and third numbers equals exactly half of the second number.   \n",
    "A subarray is a contiguous non-empty sequence of elements within an array.  \n",
    "\n",
    "範例:  \n",
    "Ex1:  \n",
    "Input: nums = [1,2,1,4,1]  \n",
    "Output: 1  \n",
    "Explanation:  \n",
    "Only the subarray [1,4,1] contains exactly 3 elements where the sum of the first and third numbers equals half the middle number.  \n",
    "\n",
    "Ex2:  \n",
    "Input: nums = [1,1,1]  \n",
    "Output: 0  \n",
    "Explanation:  \n",
    "[1,1,1] is the only subarray of length 3. However, its first and third numbers do not add to half the middle number."
   ]
  },
  {
   "cell_type": "markdown",
   "id": "b4bf7e18-ba38-4606-8112-7d255c2e2439",
   "metadata": {},
   "source": [
    "* 解題想法:  \n",
    "用一個迴圈來找出每個sub list，並判斷頭尾合是否為中間數的1/2，如果有則將統計值+1，最後回傳統計結果就是答案"
   ]
  },
  {
   "cell_type": "code",
   "execution_count": null,
   "id": "0c20633a-51f9-4b17-85e3-d0f4be2bab26",
   "metadata": {},
   "outputs": [],
   "source": [
    "class Solution:\n",
    "    def countSubarrays(self, nums: List[int]) -> int:\n",
    "        res = 0\n",
    "        for i in range(len(nums)-2):\n",
    "            if (nums[i] + nums[i+2]) * 2 == nums[i+1]:\n",
    "                res += 1\n",
    "        return res  "
   ]
  }
 ],
 "metadata": {
  "kernelspec": {
   "display_name": "Python 3 (ipykernel)",
   "language": "python",
   "name": "python3"
  },
  "language_info": {
   "codemirror_mode": {
    "name": "ipython",
    "version": 3
   },
   "file_extension": ".py",
   "mimetype": "text/x-python",
   "name": "python",
   "nbconvert_exporter": "python",
   "pygments_lexer": "ipython3",
   "version": "3.9.13"
  }
 },
 "nbformat": 4,
 "nbformat_minor": 5
}
