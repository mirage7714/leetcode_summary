{
 "cells": [
  {
   "cell_type": "markdown",
   "metadata": {},
   "source": [
    "# 本題要找出最大的奇數為何\n",
    "原題目連結: https://leetcode.com/problems/largest-odd-number-in-string/  \n",
    "\n",
    "You are given a string num, representing a large integer. Return the largest-valued odd integer (as a string) that is a non-empty substring of num, or an empty string \"\" if no odd integer exists.  \n",
    "\n",
    "A substring is a contiguous sequence of characters within a string.  \n",
    "\n",
    "範例:  \n",
    "Ex1:  \n",
    "Input: num = \"52\"  \n",
    "Output: \"5\"  \n",
    "Explanation: The only non-empty substrings are \"5\", \"2\", and \"52\". \"5\" is the only odd number.  \n",
    "\n",
    "Ex2:  \n",
    "Input: num = \"4206\"  \n",
    "Output: \"\"  \n",
    "Explanation: There are no odd numbers in \"4206\".  \n",
    "\n",
    "Ex3:  \n",
    "Input: num = \"35427\"  \n",
    "Output: \"35427\"  \n",
    "Explanation: \"35427\" is already an odd number. "
   ]
  },
  {
   "cell_type": "markdown",
   "metadata": {},
   "source": [
    "* 解題想法:  \n",
    "由於是要找出最大的奇數為何，因此使用一個迴圈從最後一個數字開始判斷，如果第m個數字為奇數，則中斷迴圈並回傳num[:m+1]  \n",
    "否則繼續執行迴圈到找出奇數為止"
   ]
  },
  {
   "cell_type": "code",
   "execution_count": null,
   "metadata": {},
   "outputs": [],
   "source": [
    "class Solution:\n",
    "    def largestOddNumber(self, num: str) -> str:\n",
    "        result = ''\n",
    "        for m in range(len(num)-1, -1, -1):\n",
    "            if int(num[m]) % 2 == 1:\n",
    "                result = num[:m+1]\n",
    "                break\n",
    "        return result"
   ]
  }
 ],
 "metadata": {
  "kernelspec": {
   "display_name": "Python 3",
   "language": "python",
   "name": "python3"
  },
  "language_info": {
   "codemirror_mode": {
    "name": "ipython",
    "version": 3
   },
   "file_extension": ".py",
   "mimetype": "text/x-python",
   "name": "python",
   "nbconvert_exporter": "python",
   "pygments_lexer": "ipython3",
   "version": "3.7.4"
  }
 },
 "nbformat": 4,
 "nbformat_minor": 2
}
