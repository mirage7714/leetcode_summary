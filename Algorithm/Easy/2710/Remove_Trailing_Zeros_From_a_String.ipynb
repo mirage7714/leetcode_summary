{
 "cells": [
  {
   "cell_type": "markdown",
   "id": "611dacb4-ce9f-463a-8797-e652f31668ad",
   "metadata": {},
   "source": [
    "# 本題要將字串後面的0去掉 (\\#String)\n",
    "原題目連結: https://leetcode.com/problems/remove-trailing-zeros-from-a-string/description/  \n",
    "\n",
    "Given a positive integer num represented as a string, return the integer num without trailing zeros as a string.  \n",
    "\n",
    "範例:  \n",
    "Ex1:  \n",
    "Input: num = \"51230100\"  \n",
    "Output: \"512301\"  \n",
    "Explanation: Integer \"51230100\" has 2 trailing zeros, we remove them and return integer \"512301\".  \n",
    "\n",
    "Ex2:    \n",
    "Input: num = \"123\"  \n",
    "Output: \"123\"  \n",
    "Explanation: Integer \"123\" has no trailing zeros, we return integer \"123\"."
   ]
  },
  {
   "cell_type": "markdown",
   "id": "9c01d689-a222-4fb9-9117-749f72acbb6a",
   "metadata": {},
   "source": [
    "* 解題想法:  \n",
    "從字串的後面開始尋找，如果當後面的字串不為0的時候則中斷迴圈，最後回傳新的字串"
   ]
  },
  {
   "cell_type": "code",
   "execution_count": null,
   "id": "b93363b3-4e54-46f6-8d91-c3c2d810d30c",
   "metadata": {},
   "outputs": [],
   "source": [
    "class Solution:\n",
    "    def removeTrailingZeros(self, num: str) -> str:\n",
    "        i = 0\n",
    "        for m in range(len(num)-1, -1, -1):\n",
    "            if num[m] == '0':\n",
    "                i += 1\n",
    "            else:\n",
    "                break\n",
    "        return num[:len(num) - i]"
   ]
  }
 ],
 "metadata": {
  "kernelspec": {
   "display_name": "Python 3 (ipykernel)",
   "language": "python",
   "name": "python3"
  },
  "language_info": {
   "codemirror_mode": {
    "name": "ipython",
    "version": 3
   },
   "file_extension": ".py",
   "mimetype": "text/x-python",
   "name": "python",
   "nbconvert_exporter": "python",
   "pygments_lexer": "ipython3",
   "version": "3.9.13"
  }
 },
 "nbformat": 4,
 "nbformat_minor": 5
}
