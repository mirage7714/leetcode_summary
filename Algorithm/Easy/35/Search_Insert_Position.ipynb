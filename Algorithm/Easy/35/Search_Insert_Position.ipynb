{
 "cells": [
  {
   "cell_type": "markdown",
   "metadata": {},
   "source": [
    "# 本題要找出將指定數值插入list中的index為多少\n",
    "原題目連結: https://leetcode.com/problems/search-insert-position/  \n",
    "\n",
    "Given a sorted array of distinct integers and a target value, return the index if the target is found. If not, return the index where it would be if it were inserted in order.  \n",
    "\n",
    "You must write an algorithm with O(log n) runtime complexity.  \n",
    "\n",
    "範例:  \n",
    "Ex1:  \n",
    "Input: nums = [1,3,5,6], target = 5  \n",
    "Output: 2  \n",
    "\n",
    "Ex2:  \n",
    "Input: nums = [1,3,5,6], target = 2  \n",
    "Output: 1  \n",
    "\n",
    "Ex3:  \n",
    "Input: nums = [1,3,5,6], target = 7  \n",
    "Output: 4"
   ]
  },
  {
   "cell_type": "markdown",
   "metadata": {},
   "source": [
    "* 解題想法:  \n",
    "首先有以下幾種情境需要檢查:  \n",
    "- target是否大於list的最大值: 如果大於list最大值，則插入list的最後  \n",
    "- target是否等於list的最大值: 如果等於list的最大值，則插入list的倒數第二個值  \n",
    "- target是否小於或等於list的最小值: 如果小於或等於list的最小值，則插入list的最前面  \n",
    "如果都不是以上幾種情境，則使用binary search的方式，檢查target是否有在list中出現，如果有的話則插入相同數值的index，如果沒有找到的話，則插入迴圈最後執行的位置"
   ]
  },
  {
   "cell_type": "code",
   "execution_count": null,
   "metadata": {},
   "outputs": [],
   "source": [
    "class Solution:\n",
    "    def searchInsert(self, nums: List[int], target: int) -> int:\n",
    "        def binary_search(nums, target, low, high):\n",
    "            if low > high:\n",
    "                return low\n",
    "            h = int((low+high)/2)\n",
    "            if nums[h] == target:\n",
    "                return h\n",
    "            elif nums[h] > target:\n",
    "                return binary_search(nums, target, low, h-1)\n",
    "            else:\n",
    "                return binary_search(nums, target, h+1, high)\n",
    "                \n",
    "        position = 0\n",
    "        if target > nums[-1]:\n",
    "            position = len(nums)\n",
    "        elif target == nums[-1]:\n",
    "            position = len(nums)-1\n",
    "        elif target <= nums[0]:\n",
    "            position = 0\n",
    "        else:\n",
    "            position = binary_search(nums, target, 0, len(nums)-1)\n",
    "        return position"
   ]
  }
 ],
 "metadata": {
  "kernelspec": {
   "display_name": "Python 3",
   "language": "python",
   "name": "python3"
  },
  "language_info": {
   "codemirror_mode": {
    "name": "ipython",
    "version": 3
   },
   "file_extension": ".py",
   "mimetype": "text/x-python",
   "name": "python",
   "nbconvert_exporter": "python",
   "pygments_lexer": "ipython3",
   "version": "3.7.4"
  }
 },
 "nbformat": 4,
 "nbformat_minor": 4
}
