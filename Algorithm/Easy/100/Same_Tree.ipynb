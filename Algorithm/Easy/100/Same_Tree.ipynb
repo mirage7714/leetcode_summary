{
 "cells": [
  {
   "cell_type": "markdown",
   "metadata": {},
   "source": [
    "# 本題要判斷兩棵樹是否相同\n",
    "原題目連結: https://leetcode.com/problems/same-tree/  \n",
    "\n",
    "Given the roots of two binary trees p and q, write a function to check if they are the same or not.  \n",
    "Two binary trees are considered the same if they are structurally identical, and the nodes have the same value.  \n",
    "\n",
    "範例:  \n",
    "Ex1:  \n",
    "Input: p = [1,2,3], q = [1,2,3]  \n",
    "Output: true  \n",
    "\n",
    "Ex2:  \n",
    "Input: p = [1,2], q = [1,null,2]  \n",
    "Output: false  \n",
    "\n",
    "Ex3:  \n",
    "Input: p = [1,2,1], q = [1,1,2]  \n",
    "Output: false"
   ]
  },
  {
   "cell_type": "markdown",
   "metadata": {},
   "source": [
    "* 解題想法:  \n",
    "首先建立一個函數，用來取出tree中的所有數值，如果遇到其中一邊節點不存在時則補上一個範圍外的數值，最後將兩個數取出的數值進行比較，如果相同則代表兩棵樹相同，不相同則代表兩棵樹是不相同的"
   ]
  },
  {
   "cell_type": "code",
   "execution_count": null,
   "metadata": {},
   "outputs": [],
   "source": [
    "# Definition for a binary tree node.\n",
    "# class TreeNode:\n",
    "#     def __init__(self, val=0, left=None, right=None):\n",
    "#         self.val = val\n",
    "#         self.left = left\n",
    "#         self.right = right\n",
    "class Solution:\n",
    "    def isSameTree(self, p: Optional[TreeNode], q: Optional[TreeNode]) -> bool:\n",
    "        def getValues(tree):\n",
    "            val = [tree.val]\n",
    "            temp = [[tree]]\n",
    "            while len(temp) > 0:\n",
    "                nodes = []\n",
    "                for node in temp[0]:\n",
    "                    if node.left != None:\n",
    "                        nodes.append(node.left)\n",
    "                        val.append(node.left.val)\n",
    "                    else:\n",
    "                        val.append(10001)\n",
    "                    if node.right != None:\n",
    "                        nodes.append(node.right)\n",
    "                        val.append(node.right.val)\n",
    "                    else:\n",
    "                        val.append(10001)\n",
    "                if len(nodes) > 0:\n",
    "                    temp.append(nodes)\n",
    "                temp.pop(0)\n",
    "            return val\n",
    "        \n",
    "        result = True\n",
    "        val1 = []\n",
    "        val2 = []\n",
    "        if p != None:\n",
    "            val1 = getValues(p)\n",
    "        if q != None:\n",
    "            val2 = getValues(q)\n",
    "        if val1 != val2:\n",
    "            result = False\n",
    "        return result"
   ]
  }
 ],
 "metadata": {
  "kernelspec": {
   "display_name": "Python 3",
   "language": "python",
   "name": "python3"
  },
  "language_info": {
   "codemirror_mode": {
    "name": "ipython",
    "version": 3
   },
   "file_extension": ".py",
   "mimetype": "text/x-python",
   "name": "python",
   "nbconvert_exporter": "python",
   "pygments_lexer": "ipython3",
   "version": "3.7.4"
  }
 },
 "nbformat": 4,
 "nbformat_minor": 4
}
