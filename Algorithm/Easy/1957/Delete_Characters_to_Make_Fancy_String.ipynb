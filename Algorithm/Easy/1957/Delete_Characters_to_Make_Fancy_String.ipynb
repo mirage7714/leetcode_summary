{
 "cells": [
  {
   "cell_type": "markdown",
   "metadata": {},
   "source": [
    "# 本題要將字串改成最多只能出現兩個連續字母\n",
    "原題目連結: https://leetcode.com/problems/delete-characters-to-make-fancy-string/  \n",
    "\n",
    "A fancy string is a string where no three consecutive characters are equal.  \n",
    "\n",
    "Given a string s, delete the minimum possible number of characters from s to make it fancy.  \n",
    "\n",
    "Return the final string after the deletion. It can be shown that the answer will always be unique.  \n",
    "\n",
    "範例:  \n",
    "Ex1:  \n",
    "Input: s = \"leeetcode\"  \n",
    "Output: \"leetcode\"  \n",
    "Explanation:  \n",
    "Remove an 'e' from the first group of 'e's to create \"leetcode\".  \n",
    "No three consecutive characters are equal, so return \"leetcode\".  \n",
    "\n",
    "Ex2:  \n",
    "Input: s = \"aaabaaaa\"  \n",
    "Output: \"aabaa\"  \n",
    "Explanation:  \n",
    "Remove an 'a' from the first group of 'a's to create \"aabaaaa\".  \n",
    "Remove two 'a's from the second group of 'a's to create \"aabaa\".  \n",
    "No three consecutive characters are equal, so return \"aabaa\".  \n",
    "\n",
    "Ex3:  \n",
    "Input: s = \"aab\"  \n",
    "Output: \"aab\"  \n",
    "Explanation: No three consecutive characters are equal, so return \"aab\"."
   ]
  },
  {
   "cell_type": "markdown",
   "metadata": {},
   "source": [
    "* 解題想法:  \n",
    "使用一個迴圈，對提供的字串內每個字母開始進行檢查，如果是連續兩個相同的字母，則第三個以後的連續字母就跳過，直到出現不同的字母在開始進行統計"
   ]
  },
  {
   "cell_type": "code",
   "execution_count": null,
   "metadata": {},
   "outputs": [],
   "source": [
    "class Solution:\n",
    "    def makeFancyString(self, s: str) -> str:\n",
    "        result = s[0]\n",
    "        count = 1\n",
    "        temp = s[0]\n",
    "        for n in range(1, len(s)):\n",
    "            if s[n] == temp:\n",
    "                if count <= 1:\n",
    "                    result += s[n]\n",
    "                    count += 1\n",
    "                else:\n",
    "                    continue\n",
    "            else:\n",
    "                result += s[n]\n",
    "                count = 1\n",
    "                temp = s[n]\n",
    "        return result"
   ]
  }
 ],
 "metadata": {
  "kernelspec": {
   "display_name": "Python 3",
   "language": "python",
   "name": "python3"
  },
  "language_info": {
   "codemirror_mode": {
    "name": "ipython",
    "version": 3
   },
   "file_extension": ".py",
   "mimetype": "text/x-python",
   "name": "python",
   "nbconvert_exporter": "python",
   "pygments_lexer": "ipython3",
   "version": "3.7.6"
  }
 },
 "nbformat": 4,
 "nbformat_minor": 4
}
