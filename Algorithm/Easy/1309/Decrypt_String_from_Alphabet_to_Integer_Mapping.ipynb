{
 "cells": [
  {
   "cell_type": "markdown",
   "metadata": {},
   "source": [
    "# 本題要將數字轉換成英文字母，並回傳解碼之後的字串\n",
    "原題目連結: https://leetcode.com/problems/decrypt-string-from-alphabet-to-integer-mapping/  \n",
    "\n",
    "範例:  \n",
    "Ex1:  \n",
    "Input: s = \"10#11#12\"  \n",
    "Output: \"jkab\"  \n",
    "Explanation: \"j\" -> \"10#\" , \"k\" -> \"11#\" , \"a\" -> \"1\" , \"b\" -> \"2\".  \n",
    "\n",
    "Ex2:  \n",
    "Input: s = \"1326#\"  \n",
    "Output: \"acz\"  \n",
    "\n",
    "Ex3:  \n",
    "Input: s = \"25#\"  \n",
    "Output: \"y\"  \n",
    "\n",
    "Ex4:  \n",
    "Input: s = \"12345678910#11#12#13#14#15#16#17#18#19#20#21#22#23#24#25#26#\"  \n",
    "Output: \"abcdefghijklmnopqrstuvwxyz\"  \n"
   ]
  },
  {
   "cell_type": "markdown",
   "metadata": {},
   "source": [
    "* 解題想法:  \n",
    "因為個位數的數字(0-9)並沒有#作為分隔，因此需要先找出有#的字串進行分割，除了後面兩位為十位數之外，前面均為個位數字  \n",
    "並再轉換後填入答案內"
   ]
  },
  {
   "cell_type": "code",
   "execution_count": null,
   "metadata": {},
   "outputs": [],
   "source": [
    "class Solution:\n",
    "    def freqAlphabets(self, s: str) -> str:\n",
    "        chars = {\n",
    "            '1':'a','2':'b','3':'c','4':'d','5':'e','6':'f','7':'g','8':'h','9':'i','10':'j',\n",
    "            '11':'k','12':'l','13':'m','14':'n','15':'o','16':'p','17':'q','18':'r','19':'s',\n",
    "            '20':'t','21':'u','22':'v','23':'w','24':'x','25':'y','26':'z'\n",
    "        }\n",
    "        \n",
    "        parts = s.split('#')\n",
    "        result = ''\n",
    "        if len(parts[-1]) == 0:\n",
    "            for m in range(len(parts)-1):\n",
    "                if len(parts[m]) > 0:\n",
    "                    for n in range(len(parts[m])-2):\n",
    "                        result += chars[parts[m][n]]\n",
    "                    result += chars[parts[m][-2:]]\n",
    "        else:\n",
    "            for m in range(len(parts)-1):\n",
    "                if len(parts[m]) > 0:\n",
    "                    for n in range(len(parts[m])-2):\n",
    "                        result += chars[parts[m][n]]\n",
    "                    result += chars[parts[m][-2:]]\n",
    "            for n in range(len(parts[-1])):\n",
    "                result += chars[parts[-1][n]]\n",
    "        return result"
   ]
  }
 ],
 "metadata": {
  "kernelspec": {
   "display_name": "Python 3",
   "language": "python",
   "name": "python3"
  },
  "language_info": {
   "codemirror_mode": {
    "name": "ipython",
    "version": 3
   },
   "file_extension": ".py",
   "mimetype": "text/x-python",
   "name": "python",
   "nbconvert_exporter": "python",
   "pygments_lexer": "ipython3",
   "version": "3.7.4"
  }
 },
 "nbformat": 4,
 "nbformat_minor": 2
}
