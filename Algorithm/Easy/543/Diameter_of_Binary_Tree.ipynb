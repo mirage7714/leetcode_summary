{
 "cells": [
  {
   "cell_type": "markdown",
   "metadata": {},
   "source": [
    "# 本題要找出binary tree中，最長的路徑為多少\n",
    "原題目連結: https://leetcode.com/problems/diameter-of-binary-tree/  \n",
    "\n",
    "Given the root of a binary tree, return the length of the diameter of the tree.  \n",
    "\n",
    "The diameter of a binary tree is the length of the longest path between any two nodes in a tree. This path may or may not pass through the root.  \n",
    "\n",
    "The length of a path between two nodes is represented by the number of edges between them.    \n",
    "\n",
    "範例: \n",
    "Ex1:  \n",
    "Input: root = [1,2,3,4,5]  \n",
    "Output: 3  \n",
    "Explanation: 3 is the length of the path [4,2,1,3] or [5,2,1,3].  \n",
    "\n",
    "Ex2:  \n",
    "Input: root = [1,2]  \n",
    "Output: 1"
   ]
  },
  {
   "cell_type": "markdown",
   "metadata": {},
   "source": [
    "* 解題想法:  \n",
    "參考網路解法，這題也是用DFS來進行遞迴就可以找出最長的路徑，首先在走訪左側與右側的節點後。找出左邊加右邊的最大值，最後回傳1+左邊或右邊的最大值"
   ]
  },
  {
   "cell_type": "code",
   "execution_count": null,
   "metadata": {},
   "outputs": [],
   "source": [
    "# Definition for a binary tree node.\n",
    "# class TreeNode:\n",
    "#     def __init__(self, val=0, left=None, right=None):\n",
    "#         self.val = val\n",
    "#         self.left = left\n",
    "#         self.right = right\n",
    "class Solution:\n",
    "    def diameterOfBinaryTree(self, root: Optional[TreeNode]) -> int:\n",
    "        def dfs(node):\n",
    "            if not node:\n",
    "                return 0\n",
    "            left = dfs(node.left)\n",
    "            right = dfs(node.right)\n",
    "            res[0] = max(res[0], left + right)\n",
    "            return 1 + max(left, right)\n",
    "        \n",
    "        res = [0]\n",
    "        if root:\n",
    "            dfs(root)\n",
    "        return res[0]\n",
    "            "
   ]
  }
 ],
 "metadata": {
  "kernelspec": {
   "display_name": "Python 3",
   "language": "python",
   "name": "python3"
  },
  "language_info": {
   "codemirror_mode": {
    "name": "ipython",
    "version": 3
   },
   "file_extension": ".py",
   "mimetype": "text/x-python",
   "name": "python",
   "nbconvert_exporter": "python",
   "pygments_lexer": "ipython3",
   "version": "3.7.4"
  }
 },
 "nbformat": 4,
 "nbformat_minor": 4
}
