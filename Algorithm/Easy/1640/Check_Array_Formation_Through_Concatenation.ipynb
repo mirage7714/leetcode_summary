{
 "cells": [
  {
   "cell_type": "markdown",
   "metadata": {},
   "source": [
    "# 本題要找出題目所要求的array是否能用另一個array中的元件所組成\n",
    "原題目連結: https://leetcode.com/problems/check-array-formation-through-concatenation/  \n",
    "\n",
    "You are given an array of distinct integers arr and an array of integer arrays pieces, where the integers in pieces are distinct. Your goal is to form arr by concatenating the arrays in pieces in any order. However, you are not allowed to reorder the integers in each array pieces[i].  \n",
    "\n",
    "Return true if it is possible to form the array arr from pieces. Otherwise, return false.  \n",
    "\n",
    "範例:  \n",
    "Ex1:  \n",
    "Input: arr = [85], pieces = [[85]]  \n",
    "Output: true  \n",
    "\n",
    "Ex2:  \n",
    "Input: arr = [15,88], pieces = [[88],[15]]  \n",
    "Output: true  \n",
    "Explanation: Concatenate [15] then [88]  \n",
    "\n",
    "Ex3:  \n",
    "Input: arr = [49,18,16], pieces = [[16,18,49]]  \n",
    "Output: false  \n",
    "Explanation: Even though the numbers match, we cannot reorder pieces[0].  \n",
    "\n",
    "Ex4:  \n",
    "Input: arr = [91,4,64,78], pieces = [[78],[4,64],[91]]  \n",
    "Output: true  \n",
    "Explanation: Concatenate [91] then [4,64] then [78]  \n",
    "\n",
    "Ex5:  \n",
    "Input: arr = [1,3,5,7], pieces = [[2,4,6,8]]  \n",
    "Output: false  "
   ]
  },
  {
   "cell_type": "markdown",
   "metadata": {},
   "source": [
    "* 解題想法:  \n",
    "由於題目要求將一個list中的元件嘗試組合成另一個list，因此先針對第一個元件進行比較，如果存在的話將他加到另一個list中，最後比對新建的list與題目要求的list是否相同，如果不相同則回傳false"
   ]
  },
  {
   "cell_type": "code",
   "execution_count": null,
   "metadata": {},
   "outputs": [],
   "source": [
    "class Solution:\n",
    "    def canFormArray(self, arr: List[int], pieces: List[List[int]]) -> bool:\n",
    "        is_valid = True\n",
    "        temp = []\n",
    "        for m in range(len(arr)):\n",
    "            for n in range(len(pieces)):\n",
    "                if arr[m] == pieces[n][0]:\n",
    "                    for p in pieces[n]:\n",
    "                        temp.append(p)\n",
    "        if temp != arr:\n",
    "            is_valid = False\n",
    "        return is_valid"
   ]
  }
 ],
 "metadata": {
  "kernelspec": {
   "display_name": "Python 3",
   "language": "python",
   "name": "python3"
  },
  "language_info": {
   "codemirror_mode": {
    "name": "ipython",
    "version": 3
   },
   "file_extension": ".py",
   "mimetype": "text/x-python",
   "name": "python",
   "nbconvert_exporter": "python",
   "pygments_lexer": "ipython3",
   "version": "3.7.4"
  }
 },
 "nbformat": 4,
 "nbformat_minor": 2
}
