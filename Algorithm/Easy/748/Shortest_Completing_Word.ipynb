{
 "cells": [
  {
   "cell_type": "markdown",
   "metadata": {},
   "source": [
    "# 本題要找出在array中，有多少符合題目要求的字串，並回傳最短的字串\n",
    "原題目連結: https://leetcode.com/problems/shortest-completing-word/  \n",
    "\n",
    "Given a string licensePlate and an array of strings words, find the shortest completing word in words. \n",
    "\n",
    "A completing word is a word that contains all the letters in licensePlate. Ignore numbers and spaces in licensePlate, and treat letters as case insensitive. If a letter appears more than once in licensePlate, then it must appear in the word the same number of times or more.  \n",
    "\n",
    "For example, if licensePlate = \"aBc 12c\", then it contains letters 'a', 'b' (ignoring case), and 'c' twice. Possible completing words are \"abccdef\", \"caaacab\", and \"cbca\".  \n",
    "\n",
    "Return the shortest completing word in words. It is guaranteed an answer exists. If there are multiple shortest completing words, return the first one that occurs in words.  \n",
    "\n",
    "範例:  \n",
    "Ex1:  \n",
    "Input: licensePlate = \"1s3 PSt\", words = [\"step\",\"steps\",\"stripe\",\"stepple\"]  \n",
    "Output: \"steps\"  \n",
    "Explanation: licensePlate contains letters 's', 'p', 's' (ignoring case), and 't'.  \n",
    "\"step\" contains 't' and 'p', but only contains 1 's'.  \n",
    "\"steps\" contains 't', 'p', and both 's' characters.  \n",
    "\"stripe\" is missing an 's'.  \n",
    "\"stepple\" is missing an 's'.  \n",
    "Since \"steps\" is the only word containing all the letters, that is the answer.  \n",
    "\n",
    "Ex2:  \n",
    "Input: licensePlate = \"1s3 456\", words = [\"looks\",\"pest\",\"stew\",\"show\"]  \n",
    "Output: \"pest\"  \n",
    "Explanation: licensePlate only contains the letter 's'. All the words contain 's', but among these \"pest\", \"stew\", and \"show\" are shortest. The answer is \"pest\" because it is the word that appears earliest of the 3.  \n",
    "\n",
    "Ex3:  \n",
    "Input: licensePlate = \"Ah71752\", words = [\"suggest\",\"letter\",\"of\",\"husband\",\"easy\",\"education\",\"drug\",\"prevent\",\"writer\",\"old\"]    Output: \"husband\"  \n",
    "\n",
    "Ex4:  \n",
    "Input: licensePlate = \"OgEu755\", words = [\"enough\",\"these\",\"play\",\"wide\",\"wonder\",\"box\",\"arrive\",\"money\",\"tax\",\"thus\"]    \n",
    "Output: \"enough\"  \n",
    "\n",
    "Ex5:  \n",
    "Input: licensePlate = \"iMSlpe4\", words =[\"claim\",\"consumer\",\"student\",\"camera\",\"public\",\"never\",\"wonder\",\"simple\",\"thought\",\"use\"]  \n",
    "Output: \"simple\""
   ]
  },
  {
   "cell_type": "markdown",
   "metadata": {},
   "source": [
    "* 解題想法:  \n",
    "由於要找出要求的字母為那些，因此需要先對字串進行字頻分析，找出需要有哪些字母與個數。接著對題目提供的字串進行分析，如果不符合要求的字數就直接跳過，如果符合的話則確認是否為最短的字串，並判斷是否有相同長度且排序較前面的字"
   ]
  },
  {
   "cell_type": "code",
   "execution_count": null,
   "metadata": {},
   "outputs": [],
   "source": [
    "class Solution:\n",
    "    def shortestCompletingWord(self, licensePlate: str, words: List[str]) -> str:\n",
    "        digits = ['0','1','2','3','4','5','6','7','8','9']\n",
    "        plate = {}\n",
    "        freq = []\n",
    "        result = ''\n",
    "        for p in licensePlate:\n",
    "            if p not in digits and p != ' ':\n",
    "                if p.lower() not in plate.keys():\n",
    "                    plate[p.lower()] = 1\n",
    "                else:\n",
    "                    plate[p.lower()] += 1\n",
    "        for word in words:\n",
    "            temp = {}\n",
    "            for w in word:\n",
    "                if w not in temp.keys():\n",
    "                    temp[w] = 1\n",
    "                else:\n",
    "                    temp[w] += 1\n",
    "            is_valid = True\n",
    "            for key in plate.keys():\n",
    "                if key not in temp.keys():\n",
    "                    is_valid = False\n",
    "                    break\n",
    "                else:\n",
    "                    if temp[key] < plate[key]:\n",
    "                        is_valid = False\n",
    "                        break\n",
    "            if is_valid:\n",
    "                if len(freq) == 0:\n",
    "                    freq.append(word)\n",
    "                else:\n",
    "                    if len(word) < len(freq[0]):\n",
    "                        freq.insert(0, word)\n",
    "                    elif len(word) == len(freq[0]):\n",
    "                        if words.index(word) < words.index(freq[0]):\n",
    "                            freq.insert(0,word)\n",
    "        if len(freq) > 0:\n",
    "            return freq[0]\n",
    "        else:\n",
    "            return ''"
   ]
  }
 ],
 "metadata": {
  "kernelspec": {
   "display_name": "Python 3",
   "language": "python",
   "name": "python3"
  },
  "language_info": {
   "codemirror_mode": {
    "name": "ipython",
    "version": 3
   },
   "file_extension": ".py",
   "mimetype": "text/x-python",
   "name": "python",
   "nbconvert_exporter": "python",
   "pygments_lexer": "ipython3",
   "version": "3.7.4"
  }
 },
 "nbformat": 4,
 "nbformat_minor": 2
}
