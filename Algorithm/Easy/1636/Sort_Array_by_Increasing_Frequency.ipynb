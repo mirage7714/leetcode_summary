{
 "cells": [
  {
   "cell_type": "markdown",
   "metadata": {},
   "source": [
    "# 本題目要將array中的數字依據出現的次數來進行排序\n",
    "原題目連結: https://leetcode.com/problems/sort-array-by-increasing-frequency/  \n",
    "\n",
    "Given an array of integers nums, sort the array in increasing order based on the frequency of the values. If multiple values have the same frequency, sort them in decreasing order.  \n",
    "\n",
    "Return the sorted array.  \n",
    "\n",
    "範例:  \n",
    "Ex1:  \n",
    "Input: nums = [1,1,2,2,2,3]  \n",
    "Output: [3,1,1,2,2,2]  \n",
    "Explanation: '3' has a frequency of 1, '1' has a frequency of 2, and '2' has a frequency of 3.  \n",
    "\n",
    "Ex2:  \n",
    "Input: nums = [2,3,1,3,2]  \n",
    "Output: [1,3,3,2,2]  \n",
    "Explanation: '2' and '3' both have a frequency of 2, so they are sorted in decreasing order.  \n",
    "\n",
    "Ex3:  \n",
    "Input: nums = [-1,1,-6,4,5,-6,1,4,1]  \n",
    "Output: [5,-1,4,4,-6,-6,1,1,1]"
   ]
  },
  {
   "cell_type": "markdown",
   "metadata": {},
   "source": [
    "* 解題想法:  \n",
    "由於題目要求要以出現的頻率來進行排序，因此先針對每個數字出現的頻率來進行統計。對統計次數進行排序後，在將對應的key值找出來  \n",
    "並將對應的數字加到結果的list中"
   ]
  },
  {
   "cell_type": "code",
   "execution_count": null,
   "metadata": {},
   "outputs": [],
   "source": [
    "class Solution:\n",
    "    def frequencySort(self, nums: List[int]) -> List[int]:\n",
    "        freq = {}\n",
    "        result = []\n",
    "        for n in nums:\n",
    "            if n not in freq.keys():\n",
    "                freq[n] = 1\n",
    "            else:\n",
    "                freq[n] += 1\n",
    "        values = list(freq.values())\n",
    "        values.sort()\n",
    "        for val in values:\n",
    "            temp = []\n",
    "            for k, y in freq.items():\n",
    "                if y == val:\n",
    "                    if k not in result:\n",
    "                        temp.append(k)\n",
    "            temp.sort(reverse = True)\n",
    "            for t in temp:\n",
    "                for n in range(val):\n",
    "                    result.append(t)\n",
    "        return result"
   ]
  }
 ],
 "metadata": {
  "kernelspec": {
   "display_name": "Python 3",
   "language": "python",
   "name": "python3"
  },
  "language_info": {
   "codemirror_mode": {
    "name": "ipython",
    "version": 3
   },
   "file_extension": ".py",
   "mimetype": "text/x-python",
   "name": "python",
   "nbconvert_exporter": "python",
   "pygments_lexer": "ipython3",
   "version": "3.7.4"
  }
 },
 "nbformat": 4,
 "nbformat_minor": 2
}
