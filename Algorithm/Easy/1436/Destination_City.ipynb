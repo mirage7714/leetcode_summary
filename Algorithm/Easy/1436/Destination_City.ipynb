{
 "cells": [
  {
   "cell_type": "markdown",
   "metadata": {},
   "source": [
    "# 本題要找出最後到達的目的地為何\n",
    "原題目連結: https://leetcode.com/problems/destination-city/  \n",
    "\n",
    "You are given the array paths, where paths[i] = [cityAi, cityBi] means there exists a direct path going from cityAi to cityBi. Return the destination city, that is, the city without any path outgoing to another city.  \n",
    "\n",
    "It is guaranteed that the graph of paths forms a line without any loop, therefore, there will be exactly one destination city.  \n",
    "\n",
    "範例:  \n",
    "Ex1:  \n",
    "Input: paths = [[\"London\",\"New York\"],[\"New York\",\"Lima\"],[\"Lima\",\"Sao Paulo\"]]  \n",
    "Output: \"Sao Paulo\"   \n",
    "Explanation: Starting at \"London\" city you will reach \"Sao Paulo\" city which is the destination city. Your trip consist of: \"London\" -> \"New York\" -> \"Lima\" -> \"Sao Paulo\".  \n",
    "\n",
    "Ex2:  \n",
    "Input: paths = [[\"B\",\"C\"],[\"D\",\"B\"],[\"C\",\"A\"]]  \n",
    "Output: \"A\"  \n",
    "Explanation: All possible trips are:   \n",
    "\"D\" -> \"B\" -> \"C\" -> \"A\".   \n",
    "\"B\" -> \"C\" -> \"A\".   \n",
    "\"C\" -> \"A\".   \n",
    "\"A\".   \n",
    "Clearly the destination city is \"A\".  \n",
    "\n",
    "Ex3:  \n",
    "Input: paths = [[\"A\",\"Z\"]]  \n",
    "Output: \"Z\""
   ]
  },
  {
   "cell_type": "markdown",
   "metadata": {},
   "source": [
    "* 解題想法:  \n",
    "由於最後到達的目的地，應該會是只有出現過一次，因此將所有路徑上的點以及是起點或終點的資訊都加入一個dict中，最後從dict中判斷這個點是屬於目的地或是終點，且他只有出現過一次的情況"
   ]
  },
  {
   "cell_type": "code",
   "execution_count": null,
   "metadata": {},
   "outputs": [],
   "source": [
    "class Solution:\n",
    "    def destCity(self, paths: List[List[str]]) -> str:\n",
    "        freq = {}\n",
    "        dest = ''\n",
    "        for path in paths:\n",
    "            for p in range(len(path)):\n",
    "                if path[p] not in freq.keys():\n",
    "                    freq[path[p]] = [p]\n",
    "                else:\n",
    "                    freq[path[p]].append(p)\n",
    "        for key, val in freq.items():\n",
    "            if len(val) == 1:\n",
    "                if val[0] == 1:\n",
    "                    dest = key\n",
    "                    break\n",
    "        return dest"
   ]
  }
 ],
 "metadata": {
  "kernelspec": {
   "display_name": "Python 3",
   "language": "python",
   "name": "python3"
  },
  "language_info": {
   "codemirror_mode": {
    "name": "ipython",
    "version": 3
   },
   "file_extension": ".py",
   "mimetype": "text/x-python",
   "name": "python",
   "nbconvert_exporter": "python",
   "pygments_lexer": "ipython3",
   "version": "3.7.4"
  }
 },
 "nbformat": 4,
 "nbformat_minor": 2
}
