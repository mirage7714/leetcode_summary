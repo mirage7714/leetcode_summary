{
 "cells": [
  {
   "cell_type": "markdown",
   "metadata": {},
   "source": [
    "# 本題要找出最多可以放置多少箱子\n",
    "原題目連結: https://leetcode.com/problems/maximum-units-on-a-truck/  \n",
    "\n",
    "You are assigned to put some amount of boxes onto one truck. You are given a 2D array boxTypes, where boxTypes[i] = [numberOfBoxesi, numberOfUnitsPerBoxi]:  \n",
    "\n",
    "numberOfBoxesi is the number of boxes of type i.  \n",
    "numberOfUnitsPerBoxi is the number of units in each box of the type i.  \n",
    "You are also given an integer truckSize, which is the maximum number of boxes that can be put on the truck. You can choose any boxes to put on the truck as long as the number of boxes does not exceed truckSize.  \n",
    "\n",
    "Return the maximum total number of units that can be put on the truck.  \n",
    "\n",
    "範例:  \n",
    "Ex1:  \n",
    "Input: boxTypes = [[1,3],[2,2],[3,1]], truckSize = 4  \n",
    "Output: 8  \n",
    "Explanation: There are:  \n",
    "- 1 box of the first type that contains 3 units.  \n",
    "- 2 boxes of the second type that contain 2 units each.  \n",
    "- 3 boxes of the third type that contain 1 unit each.  \n",
    "You can take all the boxes of the first and second types, and one box of the third type.  \n",
    "The total number of units will be = (1 * 3) + (2 * 2) + (1 * 1) = 8.  \n",
    "\n",
    "Ex2:  \n",
    "Input: boxTypes = [[5,10],[2,5],[4,7],[3,9]], truckSize = 10  \n",
    "Output: 91"
   ]
  },
  {
   "cell_type": "markdown",
   "metadata": {},
   "source": [
    "* 解題想法:  \n",
    "由於車上有空間大小限制，因此需要先從單位數最高的物品開始存放，接著將盒子數加總起來，如果盒子總數超過車子大小時則結束迴圈  \n",
    "另外如果車輛空間大小超過所有箱子總數，則可以直接將所有箱子都放入車上"
   ]
  },
  {
   "cell_type": "code",
   "execution_count": null,
   "metadata": {},
   "outputs": [],
   "source": [
    "class Solution:\n",
    "    def maximumUnits(self, boxTypes: List[List[int]], truckSize: int) -> int:\n",
    "        result = 0\n",
    "        temp = 0\n",
    "        count = 0\n",
    "        total = 0\n",
    "        freq = {}\n",
    "        for box in boxTypes:\n",
    "            if box[1] not in freq.keys():\n",
    "                freq[box[1]] = box[0]\n",
    "            else:\n",
    "                freq[box[1]] += box[0]\n",
    "            total += box[0]\n",
    "        keys = list(freq.keys())\n",
    "        keys.sort(reverse = True)\n",
    "        if truckSize < total:\n",
    "            while count < truckSize:\n",
    "                result += keys[temp] * freq[keys[temp]]\n",
    "                count += freq[keys[temp]]\n",
    "                if count > truckSize:\n",
    "                    result -= (count-truckSize) * keys[temp]\n",
    "                else:\n",
    "                    temp += 1\n",
    "        else:\n",
    "            for key in keys:\n",
    "                result += key * freq[key]\n",
    "        return result"
   ]
  }
 ],
 "metadata": {
  "kernelspec": {
   "display_name": "Python 3",
   "language": "python",
   "name": "python3"
  },
  "language_info": {
   "codemirror_mode": {
    "name": "ipython",
    "version": 3
   },
   "file_extension": ".py",
   "mimetype": "text/x-python",
   "name": "python",
   "nbconvert_exporter": "python",
   "pygments_lexer": "ipython3",
   "version": "3.7.4"
  }
 },
 "nbformat": 4,
 "nbformat_minor": 2
}
