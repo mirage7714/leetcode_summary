{
 "cells": [
  {
   "cell_type": "markdown",
   "metadata": {},
   "source": [
    "# 本題要對N-ary的tree用preorder的方式進行走訪\n",
    "原題目連結: https://leetcode.com/problems/n-ary-tree-preorder-traversal/  \n",
    "\n",
    "Given the root of an n-ary tree, return the preorder traversal of its nodes' values.  \n",
    "\n",
    "Nary-Tree input serialization is represented in their level order traversal. Each group of children is separated by the null value (See examples)  \n",
    "\n",
    "範例:  \n",
    "Ex1:  \n",
    "Input: root = [1,null,3,2,4,null,5,6]  \n",
    "Output: [1,3,5,6,2,4]  \n",
    "\n",
    "Ex2:  \n",
    "Input: root = [1,null,2,3,4,5,null,null,6,7,null,8,null,9,10,null,null,11,null,12,null,13,null,null,14]  \n",
    "Output: [1,2,3,6,7,11,14,4,8,12,5,9,13,10]"
   ]
  },
  {
   "cell_type": "markdown",
   "metadata": {},
   "source": [
    "* 解題想法:  \n",
    "依題目的範例，preorder是從父節點開始，接著從左邊開始到左側所有子節點結束後再換到旁邊的節點，這邊建立了一個preorder的函數，並用一個遞迴先將父節點的值放入list之後，再依序走訪所有的子節點，最後回傳數值的list"
   ]
  },
  {
   "cell_type": "code",
   "execution_count": null,
   "metadata": {},
   "outputs": [],
   "source": [
    "\"\"\"\n",
    "# Definition for a Node.\n",
    "class Node:\n",
    "    def __init__(self, val=None, children=None):\n",
    "        self.val = val\n",
    "        self.children = children\n",
    "\"\"\"\n",
    "\n",
    "class Solution:\n",
    "    def preorder(self, root: 'Node') -> List[int]:\n",
    "        def preorder(node, result):\n",
    "            result.append(node.val)\n",
    "            if len(node.children) > 0:\n",
    "                for c in node.children:\n",
    "                    preorder(c, result)\n",
    "        result = []\n",
    "        if root:\n",
    "            preorder(root, result)\n",
    "        return result"
   ]
  }
 ],
 "metadata": {
  "kernelspec": {
   "display_name": "Python 3",
   "language": "python",
   "name": "python3"
  },
  "language_info": {
   "codemirror_mode": {
    "name": "ipython",
    "version": 3
   },
   "file_extension": ".py",
   "mimetype": "text/x-python",
   "name": "python",
   "nbconvert_exporter": "python",
   "pygments_lexer": "ipython3",
   "version": "3.7.4"
  }
 },
 "nbformat": 4,
 "nbformat_minor": 4
}
