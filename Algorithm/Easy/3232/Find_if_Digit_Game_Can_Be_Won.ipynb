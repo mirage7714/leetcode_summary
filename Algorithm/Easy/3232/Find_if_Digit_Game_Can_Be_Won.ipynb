{
 "cells": [
  {
   "cell_type": "markdown",
   "id": "659bc5cf-506c-46ae-97e7-fe7b81ce7849",
   "metadata": {},
   "source": [
    "# 本題要找出是否可以贏下比賽 (\\#Array )\n",
    "原題目連結：https://leetcode.com/problems/find-if-digit-game-can-be-won/description/  \n",
    "\n",
    "You are given an array of positive integers nums.  \n",
    "Alice and Bob are playing a game. In the game, Alice can choose either all single-digit numbers or all double-digit numbers from nums, and the rest of the numbers are given to Bob. Alice wins if the sum of her numbers is strictly greater than the sum of Bob's numbers.  \n",
    "Return true if Alice can win this game, otherwise, return false.  \n",
    "\n",
    "範例：  \n",
    "Ex1:  \n",
    "Input: nums = [1,2,3,4,10]  \n",
    "Output: false  \n",
    "Explanation:  \n",
    "Alice cannot win by choosing either single-digit or double-digit numbers.  \n",
    "\n",
    "Ex2:  \n",
    "Input: nums = [1,2,3,4,5,14]  \n",
    "Output: true  \n",
    "Explanation:  \n",
    "Alice can win by choosing single-digit numbers which have a sum equal to 15.  \n",
    "\n",
    "Ex3:  \n",
    "Input: nums = [5,5,5,25]  \n",
    "Output: true  \n",
    "Explanation:  \n",
    "Alice can win by choosing double-digit numbers which have a sum equal to 25."
   ]
  },
  {
   "cell_type": "markdown",
   "id": "49c3647e-6fea-4e33-9cfd-bdb745d6d4ed",
   "metadata": {},
   "source": [
    "* 解題想法：  \n",
    "首先將list中小於10與大於10的數字加總之後，比較兩個總合是否相等，如果相等則回傳False，否則回傳True"
   ]
  },
  {
   "cell_type": "code",
   "execution_count": null,
   "id": "90afb0dc-afdc-496f-9acc-1ccadf5e3fa6",
   "metadata": {},
   "outputs": [],
   "source": [
    "class Solution:\n",
    "    def canAliceWin(self, nums: List[int]) -> bool:\n",
    "        total = [0,0]\n",
    "        for n in nums:\n",
    "            if n > 9:\n",
    "                total[1] += n\n",
    "            else:\n",
    "                total[0] += n\n",
    "        if total[0] == total[1]:\n",
    "            return False\n",
    "        else:\n",
    "            return True"
   ]
  }
 ],
 "metadata": {
  "kernelspec": {
   "display_name": "Python 3 (ipykernel)",
   "language": "python",
   "name": "python3"
  },
  "language_info": {
   "codemirror_mode": {
    "name": "ipython",
    "version": 3
   },
   "file_extension": ".py",
   "mimetype": "text/x-python",
   "name": "python",
   "nbconvert_exporter": "python",
   "pygments_lexer": "ipython3",
   "version": "3.10.9"
  }
 },
 "nbformat": 4,
 "nbformat_minor": 5
}
