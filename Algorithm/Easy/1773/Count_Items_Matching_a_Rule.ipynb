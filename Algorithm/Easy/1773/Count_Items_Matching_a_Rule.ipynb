{
 "cells": [
  {
   "cell_type": "markdown",
   "metadata": {},
   "source": [
    "# 本題要找出符合規則的數量共有多少\n",
    "原題目連結: https://leetcode.com/problems/count-items-matching-a-rule/  \n",
    "\n",
    "You are given an array items, where each items[i] = [typei, colori, namei] describes the type, color, and name of the ith item. You are also given a rule represented by two strings, ruleKey and ruleValue.  \n",
    "\n",
    "The ith item is said to match the rule if one of the following is true:  \n",
    "\n",
    "ruleKey == \"type\" and ruleValue == typei.  \n",
    "ruleKey == \"color\" and ruleValue == colori.  \n",
    "ruleKey == \"name\" and ruleValue == namei.  \n",
    "Return the number of items that match the given rule.  \n",
    "\n",
    "範例:  \n",
    "Ex1:  \n",
    "Input: items = [[\"phone\",\"blue\",\"pixel\"],[\"computer\",\"silver\",\"lenovo\"],[\"phone\",\"gold\",\"iphone\"]], ruleKey = \"color\", ruleValue = \"silver\"  \n",
    "Output: 1  \n",
    "Explanation: There is only one item matching the given rule, which is [\"computer\",\"silver\",\"lenovo\"].  \n",
    "\n",
    "Ex2:  \n",
    "Input: items = [[\"phone\",\"blue\",\"pixel\"],[\"computer\",\"silver\",\"phone\"],[\"phone\",\"gold\",\"iphone\"]], ruleKey = \"type\", ruleValue = \"phone\"  \n",
    "Output: 2  \n",
    "Explanation: There are only two items matching the given rule, which are [\"phone\",\"blue\",\"pixel\"] and [\"phone\",\"gold\",\"iphone\"]. Note that the item [\"computer\",\"silver\",\"phone\"] does not match.  "
   ]
  },
  {
   "cell_type": "markdown",
   "metadata": {},
   "source": [
    "* 解題想法:  \n",
    "依題目的需求，要計算指定欄位的值是否與給定的值相同，如果相同則計數+1，最後回傳計數的結果"
   ]
  },
  {
   "cell_type": "code",
   "execution_count": null,
   "metadata": {},
   "outputs": [],
   "source": [
    "class Solution:\n",
    "    def countMatches(self, items: List[List[str]], ruleKey: str, ruleValue: str) -> int:\n",
    "        count = 0\n",
    "        index = 0\n",
    "        if ruleKey == 'color':\n",
    "            index = 1\n",
    "        elif ruleKey == 'type':\n",
    "            index = 0\n",
    "        elif ruleKey == 'name':\n",
    "            index = 2\n",
    "        for item in items:\n",
    "            if item[index] == ruleValue:\n",
    "                count += 1\n",
    "        return count"
   ]
  }
 ],
 "metadata": {
  "kernelspec": {
   "display_name": "Python 3",
   "language": "python",
   "name": "python3"
  },
  "language_info": {
   "codemirror_mode": {
    "name": "ipython",
    "version": 3
   },
   "file_extension": ".py",
   "mimetype": "text/x-python",
   "name": "python",
   "nbconvert_exporter": "python",
   "pygments_lexer": "ipython3",
   "version": "3.7.4"
  }
 },
 "nbformat": 4,
 "nbformat_minor": 2
}
