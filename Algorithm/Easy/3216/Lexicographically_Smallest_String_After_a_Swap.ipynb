{
 "cells": [
  {
   "cell_type": "markdown",
   "id": "df591352-44a4-47d0-97b5-d4df29a89f67",
   "metadata": {},
   "source": [
    "# 本題要找出交換一次後的嘴小值為多少 (\\#String )\n",
    "原題目連結: https://leetcode.com/problems/lexicographically-smallest-string-after-a-swap/description/  \n",
    "\n",
    "Given a string s containing only digits, return the lexicographically smallest string that can be obtained after swapping adjacent digits in s with the same parity at most once.  \n",
    "Digits have the same parity if both are odd or both are even. For example, 5 and 9, as well as 2 and 4, have the same parity, while 6 and 9 do not.  \n",
    "\n",
    "範例:  \n",
    "Ex!:  \n",
    "Input: s = \"45320\"  \n",
    "Output: \"43520\"  \n",
    "Explanation:  \n",
    "s[1] == '5' and s[2] == '3' both have the same parity, and swapping them results in the lexicographically smallest string.  \n",
    "\n",
    "Ex2:  \n",
    "Input: s = \"001\"  \n",
    "Output: \"001\"  \n",
    "Explanation:  \n",
    "There is no need to perform a swap because s is already the lexicographically smallest."
   ]
  },
  {
   "cell_type": "markdown",
   "id": "c9335751-80e0-40e7-ac75-65f57a580485",
   "metadata": {},
   "source": [
    "* 解題想法:  \n",
    "將字串拆開放入list中，接著跟下一個數字進行比較，如果兩個數值同為奇數或偶數且後面一個數字小於錢一個數字則將兩個數值交換後中斷迴圈，最後重新組合回字串就是答案"
   ]
  },
  {
   "cell_type": "code",
   "execution_count": null,
   "id": "79c852ab-c087-4f00-a15b-9ddd8f6a32a1",
   "metadata": {},
   "outputs": [],
   "source": [
    "class Solution:\n",
    "    def getSmallestString(self, s: str) -> str:\n",
    "        digits = [i for i in s]\n",
    "        for i in range(len(digits)-1):\n",
    "            if digits[i] > digits[i+1] and int(digits[i]) % 2 == int(digits[i+1]) % 2:\n",
    "                t = digits[i]\n",
    "                digits[i] = digits[i+1]\n",
    "                digits[i+1] = t\n",
    "                break\n",
    "        return ''.join(digits)"
   ]
  }
 ],
 "metadata": {
  "kernelspec": {
   "display_name": "Python 3 (ipykernel)",
   "language": "python",
   "name": "python3"
  },
  "language_info": {
   "codemirror_mode": {
    "name": "ipython",
    "version": 3
   },
   "file_extension": ".py",
   "mimetype": "text/x-python",
   "name": "python",
   "nbconvert_exporter": "python",
   "pygments_lexer": "ipython3",
   "version": "3.9.13"
  }
 },
 "nbformat": 4,
 "nbformat_minor": 5
}
