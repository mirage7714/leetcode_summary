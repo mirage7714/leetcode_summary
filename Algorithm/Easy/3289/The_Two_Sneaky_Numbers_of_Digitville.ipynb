{
 "cells": [
  {
   "cell_type": "markdown",
   "id": "f2f101b5-baa2-4471-88b8-00e3df204442",
   "metadata": {},
   "source": [
    "# 本題要找出哪些數字有出現兩次 (\\#Array )\n",
    "原題目連結：https://leetcode.com/problems/the-two-sneaky-numbers-of-digitville/description/  \n",
    "\n",
    "In the town of Digitville, there was a list of numbers called nums containing integers from 0 to n - 1. Each number was supposed to appear exactly once in the list, however, two mischievous numbers sneaked in an additional time, making the list longer than usual.  \n",
    "As the town detective, your task is to find these two sneaky numbers. Return an array of size two containing the two numbers (in any order), so peace can return to Digitville.  \n",
    "\n",
    "範例：  \n",
    "Ex1:  \n",
    "Input: nums = [0,1,1,0]  \n",
    "Output: [0,1]  \n",
    "Explanation:  \n",
    "The numbers 0 and 1 each appear twice in the array.  \n",
    "\n",
    "Ex2:  \n",
    "Input: nums = [0,3,2,1,3,2]  \n",
    "Output: [2,3]  \n",
    "Explanation:  \n",
    "The numbers 2 and 3 each appear twice in the array.  \n",
    "\n",
    "Ex3:  \n",
    "Input: nums = [7,1,5,4,3,4,6,0,9,5,8,2]  \n",
    "Output: [4,5]  \n",
    "Explanation:  \n",
    "The numbers 4 and 5 each appear twice in the array."
   ]
  },
  {
   "cell_type": "markdown",
   "id": "51472b8a-deeb-4d6e-82ce-18d74de62da1",
   "metadata": {},
   "source": [
    "* 解題想法：  \n",
    "首先用一個dict來放目前出現過的數字，如果已經出現過的數字則將該數字放入list中，最後回傳list就是答案"
   ]
  },
  {
   "cell_type": "code",
   "execution_count": null,
   "id": "3525bddc-db1a-4946-9db5-7b7a243068a5",
   "metadata": {},
   "outputs": [],
   "source": [
    "class Solution:\n",
    "    def getSneakyNumbers(self, nums: List[int]) -> List[int]:\n",
    "        count = {}\n",
    "        res = []\n",
    "        for n in nums:\n",
    "            if n not in count.keys():\n",
    "                count[n] = 1\n",
    "            else:\n",
    "                res.append(n)\n",
    "        return res"
   ]
  }
 ],
 "metadata": {
  "kernelspec": {
   "display_name": "Python 3 (ipykernel)",
   "language": "python",
   "name": "python3"
  },
  "language_info": {
   "codemirror_mode": {
    "name": "ipython",
    "version": 3
   },
   "file_extension": ".py",
   "mimetype": "text/x-python",
   "name": "python",
   "nbconvert_exporter": "python",
   "pygments_lexer": "ipython3",
   "version": "3.10.9"
  }
 },
 "nbformat": 4,
 "nbformat_minor": 5
}
