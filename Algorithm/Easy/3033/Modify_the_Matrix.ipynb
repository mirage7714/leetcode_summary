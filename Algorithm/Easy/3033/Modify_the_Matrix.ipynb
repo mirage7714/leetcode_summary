{
 "cells": [
  {
   "cell_type": "markdown",
   "metadata": {},
   "source": [
    "# 本題要將matrix中為-1的數值進行更換 (\\#Matrix )\n",
    "原題目連結：https://leetcode.com/problems/modify-the-matrix/description/  \n",
    "\n",
    "Given a 0-indexed m x n integer matrix matrix, create a new 0-indexed matrix called answer. Make answer equal to matrix, then replace each element with the value -1 with the maximum element in its respective column.  \n",
    "\n",
    "Return the matrix answer.  \n",
    "\n",
    "範例：  \n",
    "Ex1:  \n",
    "Input: matrix = [[1,2,-1],[4,-1,6],[7,8,9]]  \n",
    "Output: [[1,2,9],[4,8,6],[7,8,9]]  \n",
    "Explanation: The diagram above shows the elements that are changed (in blue).  \n",
    "- We replace the value in the cell [1][1] with the maximum value in the column 1, that is 8.    \n",
    "- We replace the value in the cell [0][2] with the maximum value in the column 2, that is 9.  \n",
    "\n",
    "Ex2:  \n",
    "Input: matrix = [[3,-1],[5,2]]  \n",
    "Output: [[3,2],[5,2]]  \n",
    "Explanation: The diagram above shows the elements that are changed (in blue)."
   ]
  },
  {
   "cell_type": "markdown",
   "metadata": {},
   "source": [
    "* 解題想法：  \n",
    "首先將數值為-1的座標放入一個list中，接著用一個dict將每個col的最大值記錄下來，接著將座標為-1的值進行更新後回傳就是答案"
   ]
  },
  {
   "cell_type": "code",
   "execution_count": null,
   "metadata": {},
   "outputs": [],
   "source": [
    "class Solution:\n",
    "    def modifiedMatrix(self, matrix: List[List[int]]) -> List[List[int]]:\n",
    "        res = matrix\n",
    "        rep = {}\n",
    "        neg = []\n",
    "        for i in range(len(res)):\n",
    "            for j in range(len(res[0])):\n",
    "                if res[i][j] == -1:\n",
    "                    neg.append([i,j])\n",
    "                if j not in rep.keys():\n",
    "                    rep[j] = res[i][j]\n",
    "                else:\n",
    "                    rep[j] = max(res[i][j], rep[j])\n",
    "                print(rep)\n",
    "        for n in neg:\n",
    "            res[n[0]][n[1]] = rep[n[1]]\n",
    "        return res"
   ]
  }
 ],
 "metadata": {
  "kernelspec": {
   "display_name": "Python 3",
   "language": "python",
   "name": "python3"
  },
  "language_info": {
   "codemirror_mode": {
    "name": "ipython",
    "version": 3
   },
   "file_extension": ".py",
   "mimetype": "text/x-python",
   "name": "python",
   "nbconvert_exporter": "python",
   "pygments_lexer": "ipython3",
   "version": "3.7.6"
  }
 },
 "nbformat": 4,
 "nbformat_minor": 4
}
