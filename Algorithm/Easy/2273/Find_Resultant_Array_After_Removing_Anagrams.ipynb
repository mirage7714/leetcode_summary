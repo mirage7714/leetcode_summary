{
 "cells": [
  {
   "cell_type": "markdown",
   "metadata": {},
   "source": [
    "# 本題要將所有相鄰且組成相同的字移除\n",
    "原題目連結: https://leetcode.com/problems/find-resultant-array-after-removing-anagrams/  \n",
    "\n",
    "You are given a 0-indexed string array words, where words[i] consists of lowercase English letters.  \n",
    "In one operation, select any index i such that 0 < i < words.length and words[i - 1] and words[i] are anagrams, and delete words[i] from words. Keep performing this operation as long as you can select an index that satisfies the conditions.  \n",
    "Return words after performing all operations. It can be shown that selecting the indices for each operation in any arbitrary order will lead to the same result.  \n",
    "An Anagram is a word or phrase formed by rearranging the letters of a different word or phrase using all the original letters exactly once. For example, \"dacb\" is an anagram of \"abdc\". \n",
    "\n",
    "範例:  \n",
    "Ex1:  \n",
    "Input: words = [\"abba\",\"baba\",\"bbaa\",\"cd\",\"cd\"]  \n",
    "Output: [\"abba\",\"cd\"]  \n",
    "Explanation:  \n",
    "One of the ways we can obtain the resultant array is by using the following operations:  \n",
    "- Since words[2] = \"bbaa\" and words[1] = \"baba\" are anagrams, we choose index 2 and delete words[2].  \n",
    "  Now words = [\"abba\",\"baba\",\"cd\",\"cd\"].  \n",
    "- Since words[1] = \"baba\" and words[0] = \"abba\" are anagrams, we choose index 1 and delete words[1].  \n",
    "  Now words = [\"abba\",\"cd\",\"cd\"].  \n",
    "- Since words[2] = \"cd\" and words[1] = \"cd\" are anagrams, we choose index 2 and delete words[2].  \n",
    "  Now words = [\"abba\",\"cd\"].  \n",
    "We can no longer perform any operations, so [\"abba\",\"cd\"] is the final answer.  \n",
    "\n",
    "Ex2:  \n",
    "Input: words = [\"a\",\"b\",\"c\",\"d\",\"e\"]  \n",
    "Output: [\"a\",\"b\",\"c\",\"d\",\"e\"]  \n",
    "Explanation:  \n",
    "No two adjacent strings in words are anagrams of each other, so no operations are performed."
   ]
  },
  {
   "cell_type": "markdown",
   "metadata": {},
   "source": [
    "* 解題想法:  \n",
    "由於題目要求的是相鄰兩個字的組成如果相同的話，需要移除其中一個，所以建立了一個list來存放結果，接著用迴圈檢查每個詞是否與結果的list最後一個相符，如果不相符則將這個詞放入結果的list中，最後回傳結果的list"
   ]
  },
  {
   "cell_type": "code",
   "execution_count": null,
   "metadata": {},
   "outputs": [],
   "source": [
    "class Solution:\n",
    "    def removeAnagrams(self, words: List[str]) -> List[str]:\n",
    "        def getChars(word):\n",
    "            chars = {}\n",
    "            for w in word:\n",
    "                if w not in chars.keys():\n",
    "                    chars[w] = 1\n",
    "                else:\n",
    "                    chars[w] += 1\n",
    "            return chars\n",
    "        result = [words[0]]\n",
    "        temp = getChars(words[0])\n",
    "        for m in range(1, len(words)):\n",
    "            chars = getChars(words[m])\n",
    "            if chars != temp:\n",
    "                result.append(words[m])\n",
    "                temp = chars\n",
    "        return result"
   ]
  }
 ],
 "metadata": {
  "kernelspec": {
   "display_name": "Python 3",
   "language": "python",
   "name": "python3"
  },
  "language_info": {
   "codemirror_mode": {
    "name": "ipython",
    "version": 3
   },
   "file_extension": ".py",
   "mimetype": "text/x-python",
   "name": "python",
   "nbconvert_exporter": "python",
   "pygments_lexer": "ipython3",
   "version": "3.7.4"
  }
 },
 "nbformat": 4,
 "nbformat_minor": 4
}
