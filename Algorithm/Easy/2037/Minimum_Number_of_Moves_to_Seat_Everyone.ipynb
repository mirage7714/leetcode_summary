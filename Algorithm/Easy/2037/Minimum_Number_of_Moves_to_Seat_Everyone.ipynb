{
 "cells": [
  {
   "cell_type": "markdown",
   "metadata": {},
   "source": [
    "# 本題要算出最小的總移動距離為何\n",
    "原題目連結: https://leetcode.com/problems/minimum-number-of-moves-to-seat-everyone/  \n",
    "\n",
    "There are n seats and n students in a room. You are given an array seats of length n, where seats[i] is the position of the ith seat. You are also given the array students of length n, where students[j] is the position of the jth student.  \n",
    "\n",
    "You may perform the following move any number of times:  \n",
    "\n",
    "Increase or decrease the position of the ith student by 1 (i.e., moving the ith student from position x to x + 1 or x - 1)  \n",
    "Return the minimum number of moves required to move each student to a seat such that no two students are in the same seat.  \n",
    "\n",
    "Note that there may be multiple seats or students in the same position at the beginning.  \n",
    "\n",
    "範例:  \n",
    "Ex1:  \n",
    "Input: seats = [3,1,5], students = [2,7,4]  \n",
    "Output: 4  \n",
    "Explanation: The students are moved as follows:  \n",
    "- The first student is moved from from position 2 to position 1 using 1 move.  \n",
    "- The second student is moved from from position 7 to position 5 using 2 moves.  \n",
    "- The third student is moved from from position 4 to position 3 using 1 move.  \n",
    "In total, 1 + 2 + 1 = 4 moves were used.  \n",
    "\n",
    "Ex2:  \n",
    "Input: seats = [4,1,5,9], students = [1,3,2,6]  \n",
    "Output: 7  \n",
    "Explanation: The students are moved as follows:  \n",
    "- The first student is not moved.  \n",
    "- The second student is moved from from position 3 to position 4 using 1 move.  \n",
    "- The third student is moved from from position 2 to position 5 using 3 moves.  \n",
    "- The fourth student is moved from from position 6 to position 9 using 3 moves.  \n",
    "In total, 0 + 1 + 3 + 3 = 7 moves were used.  \n",
    "\n",
    "Ex3:  \n",
    "Input: seats = [2,2,6,6], students = [1,3,2,6]  \n",
    "Output: 4  \n",
    "Explanation: The students are moved as follows:  \n",
    "- The first student is moved from from position 1 to position 2 using 1 move.  \n",
    "- The second student is moved from from position 3 to position 6 using 3 moves.  \n",
    "- The third student is not moved.  \n",
    "- The fourth student is not moved.  \n",
    "In total, 1 + 3 + 0 + 0 = 4 moves were used."
   ]
  },
  {
   "cell_type": "markdown",
   "metadata": {},
   "source": [
    "* 解題想法:  \n",
    "首先將兩個list進行排序，接著找出兩個值之間差值的絕對值，並加總起來，最後就是題目要求的答案"
   ]
  },
  {
   "cell_type": "code",
   "execution_count": null,
   "metadata": {},
   "outputs": [],
   "source": [
    "class Solution:\n",
    "    def minMovesToSeat(self, seats: List[int], students: List[int]) -> int:\n",
    "        total = 0\n",
    "        seats.sort()\n",
    "        students.sort()\n",
    "        for m in range(len(seats)):\n",
    "            total += abs(seats[m] - students[m])\n",
    "        return total"
   ]
  }
 ],
 "metadata": {
  "kernelspec": {
   "display_name": "Python 3",
   "language": "python",
   "name": "python3"
  },
  "language_info": {
   "codemirror_mode": {
    "name": "ipython",
    "version": 3
   },
   "file_extension": ".py",
   "mimetype": "text/x-python",
   "name": "python",
   "nbconvert_exporter": "python",
   "pygments_lexer": "ipython3",
   "version": "3.7.6"
  }
 },
 "nbformat": 4,
 "nbformat_minor": 4
}
