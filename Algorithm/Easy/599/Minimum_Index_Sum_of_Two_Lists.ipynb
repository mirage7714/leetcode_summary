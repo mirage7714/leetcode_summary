{
 "cells": [
  {
   "cell_type": "markdown",
   "metadata": {},
   "source": [
    "# 本題要找出在兩個array的共通元素中，最小的index總和組合有多少\n",
    "原題目連結: https://leetcode.com/problems/minimum-index-sum-of-two-lists/  \n",
    "\n",
    "Suppose Andy and Doris want to choose a restaurant for dinner, and they both have a list of favorite restaurants represented by strings.  \n",
    "\n",
    "You need to help them find out their common interest with the least list index sum. If there is a choice tie between answers, output all of them with no order requirement. You could assume there always exists an answer.  \n",
    "\n",
    "範例:  \n",
    "Ex1:  \n",
    "Input: list1 = [\"Shogun\",\"Tapioca Express\",\"Burger King\",\"KFC\"], list2 = [\"Piatti\",\"The Grill at Torrey Pines\",\"Hungry Hunter Steakhouse\",\"Shogun\"]  \n",
    "Output: [\"Shogun\"]  \n",
    "Explanation: The only restaurant they both like is \"Shogun\".  \n",
    "\n",
    "Ex2:  \n",
    "Input: list1 = [\"Shogun\",\"Tapioca Express\",\"Burger King\",\"KFC\"], list2 = [\"KFC\",\"Shogun\",\"Burger King\"]  \n",
    "Output: [\"Shogun\"]  \n",
    "Explanation: The restaurant they both like and have the least index sum is \"Shogun\" with index sum 1 (0+1).  \n",
    "\n",
    "Ex3:  \n",
    "Input: list1 = [\"Shogun\",\"Tapioca Express\",\"Burger King\",\"KFC\"], list2 = [\"KFC\",\"Burger King\",\"Tapioca Express\",\"Shogun\"]  \n",
    "Output: [\"KFC\",\"Burger King\",\"Tapioca Express\",\"Shogun\"]  \n",
    "\n",
    "Ex4:  \n",
    "Input: list1 = [\"Shogun\",\"Tapioca Express\",\"Burger King\",\"KFC\"], list2 = [\"KNN\",\"KFC\",\"Burger King\",\"Tapioca Express\",\"Shogun\"]  \n",
    "Output: [\"KFC\",\"Burger King\",\"Tapioca Express\",\"Shogun\"]  \n",
    "\n",
    "Ex5:  \n",
    "Input: list1 = [\"KFC\"], list2 = [\"KFC\"]  \n",
    "Output: [\"KFC\"]"
   ]
  },
  {
   "cell_type": "markdown",
   "metadata": {},
   "source": [
    "* 解題想法:  \n",
    "由於本題要找出兩個list中共同的元素index和最小的組合，因此先從list1開始判斷是否有同時存在於list2，如果有的話則將元素以及index加入一個dict中，再從list2將index和找出，最後將dict中最小的value找出，並將對應的key都加入一個list中回傳"
   ]
  },
  {
   "cell_type": "code",
   "execution_count": null,
   "metadata": {},
   "outputs": [],
   "source": [
    "class Solution:\n",
    "    def findRestaurant(self, list1: List[str], list2: List[str]) -> List[str]:\n",
    "        freq = {}\n",
    "        result = []\n",
    "        for m in range(len(list1)):\n",
    "            if list1[m] not in freq.keys() and list1[m] in list2:\n",
    "                freq[list1[m]] = m\n",
    "        for n in range(len(list2)):\n",
    "            if list2[n] in freq.keys():\n",
    "                freq[list2[n]] += n\n",
    "        sums = list(freq.values())\n",
    "        min_sum = min(sums)\n",
    "        for key, value in freq.items():\n",
    "            if value == min_sum:\n",
    "                result.append(key)\n",
    "        return result"
   ]
  }
 ],
 "metadata": {
  "kernelspec": {
   "display_name": "Python 3",
   "language": "python",
   "name": "python3"
  },
  "language_info": {
   "codemirror_mode": {
    "name": "ipython",
    "version": 3
   },
   "file_extension": ".py",
   "mimetype": "text/x-python",
   "name": "python",
   "nbconvert_exporter": "python",
   "pygments_lexer": "ipython3",
   "version": "3.7.4"
  }
 },
 "nbformat": 4,
 "nbformat_minor": 2
}
