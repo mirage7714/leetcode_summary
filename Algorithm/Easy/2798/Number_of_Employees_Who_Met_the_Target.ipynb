{
 "cells": [
  {
   "cell_type": "markdown",
   "metadata": {},
   "source": [
    "# 本題要找出共有多少個員工的時數符合標準 (\\#Array)\n",
    "原題目連結: https://leetcode.com/problems/number-of-employees-who-met-the-target/description/  \n",
    "\n",
    "There are n employees in a company, numbered from 0 to n - 1. Each employee i has worked for hours[i] hours in the company.  \n",
    "The company requires each employee to work for at least target hours.  \n",
    "You are given a 0-indexed array of non-negative integers hours of length n and a non-negative integer target.  \n",
    "Return the integer denoting the number of employees who worked at least target hours.  \n",
    "\n",
    "範例:  \n",
    "Ex1:  \n",
    "Input: hours = [0,1,2,3,4], target = 2  \n",
    "Output: 3  \n",
    "Explanation: The company wants each employee to work for at least 2 hours.  \n",
    "- Employee 0 worked for 0 hours and didn't meet the target.  \n",
    "- Employee 1 worked for 1 hours and didn't meet the target.  \n",
    "- Employee 2 worked for 2 hours and met the target.  \n",
    "- Employee 3 worked for 3 hours and met the target.  \n",
    "- Employee 4 worked for 4 hours and met the target.  \n",
    "There are 3 employees who met the target.  \n",
    "\n",
    "Ex2:  \n",
    "Input: hours = [5,1,4,2,2], target = 6  \n",
    "Output: 0  \n",
    "Explanation: The company wants each employee to work for at least 6 hours.  \n",
    "There are 0 employees who met the target."
   ]
  },
  {
   "cell_type": "markdown",
   "metadata": {},
   "source": [
    "* 解題想法:  \n",
    "首先將list轉換為heap，接著用迴圈找出比目標小的值共有幾個，最後回傳總長度減去小於目標的值就是答案"
   ]
  },
  {
   "cell_type": "code",
   "execution_count": null,
   "metadata": {},
   "outputs": [],
   "source": [
    "import heapq\n",
    "\n",
    "class Solution:\n",
    "    def numberOfEmployeesWhoMetTarget(self, hours: List[int], target: int) -> int:\n",
    "        heapq.heapify(hours)\n",
    "        temp = 0\n",
    "        s = len(hours)\n",
    "        while hours:\n",
    "            h = heapq.heappop(hours)\n",
    "            if h < target:\n",
    "                temp += 1\n",
    "            else:\n",
    "                break\n",
    "        return s - temp"
   ]
  }
 ],
 "metadata": {
  "kernelspec": {
   "display_name": "Python 3",
   "language": "python",
   "name": "python3"
  },
  "language_info": {
   "codemirror_mode": {
    "name": "ipython",
    "version": 3
   },
   "file_extension": ".py",
   "mimetype": "text/x-python",
   "name": "python",
   "nbconvert_exporter": "python",
   "pygments_lexer": "ipython3",
   "version": "3.7.6"
  }
 },
 "nbformat": 4,
 "nbformat_minor": 4
}
