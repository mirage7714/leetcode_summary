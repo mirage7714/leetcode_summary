{
 "cells": [
  {
   "cell_type": "markdown",
   "metadata": {},
   "source": [
    "# 本題要找出差值為K的組合共有多少\n",
    "原題目連結: https://leetcode.com/problems/count-number-of-pairs-with-absolute-difference-k/  \n",
    "\n",
    "Given an integer array nums and an integer k, return the number of pairs (i, j) where i < j such that |nums[i] - nums[j]| == k.  \n",
    "\n",
    "The value of |x| is defined as:  \n",
    "\n",
    "x if x >= 0.  \n",
    "-x if x < 0.  \n",
    "\n",
    "範例:  \n",
    "Ex1:  \n",
    "Input: nums = [1,2,2,1], k = 1  \n",
    "Output: 4  \n",
    "Explanation: The pairs with an absolute difference of 1 are:  \n",
    "- [1,2,2,1]  \n",
    "- [1,2,2,1]  \n",
    "- [1,2,2,1]  \n",
    "- [1,2,2,1]  \n",
    "\n",
    "Ex2:  \n",
    "Input: nums = [1,3], k = 3  \n",
    "Output: 0  \n",
    "Explanation: There are no pairs with an absolute difference of 3.  \n",
    "\n",
    "Ex3:  \n",
    "Input: nums = [3,2,1,5,4], k = 2  \n",
    "Output: 3  \n",
    "Explanation: The pairs with an absolute difference of 2 are:  \n",
    "- [3,2,1,5,4]  \n",
    "- [3,2,1,5,4]  \n",
    "- [3,2,1,5,4]"
   ]
  },
  {
   "cell_type": "markdown",
   "metadata": {},
   "source": [
    "* 解題想法:  \n",
    "由於要找出兩個數值差為K的組合共有多少，因此首先將共有多少種數字找出，並計算差值為K的組合共有多少，最後將組合數加總就是題目要求的答案"
   ]
  },
  {
   "cell_type": "code",
   "execution_count": null,
   "metadata": {},
   "outputs": [],
   "source": [
    "class Solution:\n",
    "    def countKDifference(self, nums: List[int], k: int) -> int:\n",
    "        freq = {}\n",
    "        total = 0\n",
    "        for n in nums:\n",
    "            if n not in freq.keys():\n",
    "                freq[n] = 1\n",
    "            else:\n",
    "                freq[n] += 1\n",
    "        keys = list(freq.keys())\n",
    "        keys.sort()\n",
    "        for m in keys:\n",
    "            if m+k in keys:\n",
    "                total += freq[m] * freq[m+k]\n",
    "        return total"
   ]
  }
 ],
 "metadata": {
  "kernelspec": {
   "display_name": "Python 3",
   "language": "python",
   "name": "python3"
  },
  "language_info": {
   "codemirror_mode": {
    "name": "ipython",
    "version": 3
   },
   "file_extension": ".py",
   "mimetype": "text/x-python",
   "name": "python",
   "nbconvert_exporter": "python",
   "pygments_lexer": "ipython3",
   "version": "3.7.4"
  }
 },
 "nbformat": 4,
 "nbformat_minor": 4
}
