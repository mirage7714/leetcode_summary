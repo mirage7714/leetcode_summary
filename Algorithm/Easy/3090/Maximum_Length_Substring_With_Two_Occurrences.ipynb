{
 "cells": [
  {
   "cell_type": "markdown",
   "id": "c42e8ee0-1186-483c-ad48-cd26561d9997",
   "metadata": {},
   "source": [
    "# 本題要找出在只有兩個字母重複的情況下最長的字串長度為何 (\\#String )\n",
    "原題目連結: https://leetcode.com/problems/maximum-length-substring-with-two-occurrences/description/   \n",
    "\n",
    "Given a string s, return the maximum length of a substring such that it contains at most two occurrences of each character.  \n",
    "\n",
    "範例:  \n",
    "Ex1:  \n",
    "Input: s = \"bcbbbcba\"  \n",
    "Output: 4  \n",
    "Explanation:  \n",
    "The following substring has a length of 4 and contains at most two occurrences of each character: \"bcbbbcba\".  \n",
    "\n",
    "Ex2:  \n",
    "Input: s = \"aaaa\"  \n",
    "Output: 2  \n",
    "Explanation:  \n",
    "The following substring has a length of 2 and contains at most two occurrences of each character: \"aaaa\"."
   ]
  },
  {
   "cell_type": "markdown",
   "id": "029568ae-f60a-453a-bd6e-6b6534a5414a",
   "metadata": {},
   "source": [
    "* 解題想法:  \n",
    "首先用一個dict來存放目前出現字母的頻率，並用一個heap來存放每個index對應的字母，接著用迴圈開始檢查，如果該字母媒有出現過則將該字母放入dict以及heap中，如果該字母出現過且出現的次數為2時，則從heap中開始取值，並更新dict中字母出現的次數，最後回傳符合條件的最長字串長度就是答案"
   ]
  },
  {
   "cell_type": "code",
   "execution_count": null,
   "id": "6270159d-6b2d-4c3c-a35b-afc795816cb2",
   "metadata": {},
   "outputs": [],
   "source": [
    "import heapq\n",
    "\n",
    "class Solution:\n",
    "    def maximumLengthSubstring(self, s: str) -> int:\n",
    "        res = 0\n",
    "        count = {}\n",
    "        temp = []\n",
    "        heapq.heapify(temp)\n",
    "        for i in range(len(s)):\n",
    "            c = s[i]\n",
    "            if c not in count.keys():\n",
    "                count[c] = 1\n",
    "            else:\n",
    "                if count[c] == 2:\n",
    "                    while temp:\n",
    "                        n = heapq.heappop(temp)\n",
    "                        count[n[1]] -= 1\n",
    "                        if count[n[1]] == 0:\n",
    "                            count.pop(n[1])\n",
    "                        if n[1] == c:\n",
    "                            break\n",
    "                count[c] += 1\n",
    "            heapq.heappush(temp, [i, c])\n",
    "            res = max(res, len(temp))\n",
    "        return res"
   ]
  }
 ],
 "metadata": {
  "kernelspec": {
   "display_name": "Python 3 (ipykernel)",
   "language": "python",
   "name": "python3"
  },
  "language_info": {
   "codemirror_mode": {
    "name": "ipython",
    "version": 3
   },
   "file_extension": ".py",
   "mimetype": "text/x-python",
   "name": "python",
   "nbconvert_exporter": "python",
   "pygments_lexer": "ipython3",
   "version": "3.9.13"
  }
 },
 "nbformat": 4,
 "nbformat_minor": 5
}
