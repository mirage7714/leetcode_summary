{
 "cells": [
  {
   "cell_type": "markdown",
   "metadata": {},
   "source": [
    "# 本題就只是單純把原本IP中的'.'換成'[.]'\n",
    "原題目連結： https://leetcode.com/problems/defanging-an-ip-address/  \n",
    "\n",
    "範例：  \n",
    "Ex1:  \n",
    "Input: address = \"1.1.1.1\"  \n",
    "Output: \"1[.]1[.]1[.]1\"  \n",
    "\n",
    "Ex2:  \n",
    "Input: address = \"255.100.50.0\"  \n",
    "Output: \"255[.]100[.]50[.]0\"  "
   ]
  },
  {
   "cell_type": "markdown",
   "metadata": {},
   "source": [
    "* 解題想法：  \n",
    "就單純的把原本address中的'.'用replace方式換成'[.]'而已"
   ]
  },
  {
   "cell_type": "code",
   "execution_count": null,
   "metadata": {},
   "outputs": [],
   "source": [
    "class Solution:\n",
    "    def defangIPaddr(self, address: str) -> str:\n",
    "        addr = address.replace('.','[.]')\n",
    "        return addr"
   ]
  }
 ],
 "metadata": {
  "kernelspec": {
   "display_name": "Python 3",
   "language": "python",
   "name": "python3"
  },
  "language_info": {
   "codemirror_mode": {
    "name": "ipython",
    "version": 3
   },
   "file_extension": ".py",
   "mimetype": "text/x-python",
   "name": "python",
   "nbconvert_exporter": "python",
   "pygments_lexer": "ipython3",
   "version": "3.8.3"
  }
 },
 "nbformat": 4,
 "nbformat_minor": 4
}
