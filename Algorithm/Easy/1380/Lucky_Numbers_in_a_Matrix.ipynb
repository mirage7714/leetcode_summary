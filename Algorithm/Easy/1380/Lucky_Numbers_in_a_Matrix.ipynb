{
 "cells": [
  {
   "cell_type": "markdown",
   "metadata": {},
   "source": [
    "# 本題要求出在一個2D array中，是該列最小值然後是該行最大值的數\n",
    "原題目連結: https://leetcode.com/problems/lucky-numbers-in-a-matrix/  \n",
    "\n",
    "Given a m * n matrix of distinct numbers, return all lucky numbers in the matrix in any order.  \n",
    "\n",
    "A lucky number is an element of the matrix such that it is the minimum element in its row and maximum in its column.  \n",
    "\n",
    "範例:  \n",
    "Ex1:  \n",
    "Input: matrix = [[3,7,8],[9,11,13],[15,16,17]]  \n",
    "Output: [15]  \n",
    "Explanation: 15 is the only lucky number since it is the minimum in its row and the maximum in its column  \n",
    "\n",
    "Ex2:  \n",
    "Input: matrix = [[1,10,4,2],[9,3,8,7],[15,16,17,12]]  \n",
    "Output: [12]  \n",
    "Explanation: 12 is the only lucky number since it is the minimum in its row and the maximum in its column.  \n",
    "\n",
    "Ex3:  \n",
    "Input: matrix = [[7,8],[1,2]]  \n",
    "Output: [7]"
   ]
  },
  {
   "cell_type": "markdown",
   "metadata": {},
   "source": [
    "* 解題想法:  \n",
    "由於是要找出該列的最小值，因此先找出每列的最小值以及index，之後判斷其他列相同index的數值是否都比這個數值小，若是則加入結果中，否則跳過繼續尋找下一列的最小值"
   ]
  },
  {
   "cell_type": "code",
   "execution_count": null,
   "metadata": {},
   "outputs": [],
   "source": [
    "class Solution:\n",
    "    def luckyNumbers (self, matrix: List[List[int]]) -> List[int]:\n",
    "        result = []\n",
    "        for n in range(len(matrix)):\n",
    "            m = min(matrix[n])\n",
    "            i = matrix[n].index(m)\n",
    "            is_lucky = True\n",
    "            for l in range(len(matrix)):\n",
    "                if matrix[l][i] > m:\n",
    "                    is_lucky = False\n",
    "                    break\n",
    "            if is_lucky:\n",
    "                result.append(m)\n",
    "        return result"
   ]
  }
 ],
 "metadata": {
  "kernelspec": {
   "display_name": "Python 3",
   "language": "python",
   "name": "python3"
  },
  "language_info": {
   "codemirror_mode": {
    "name": "ipython",
    "version": 3
   },
   "file_extension": ".py",
   "mimetype": "text/x-python",
   "name": "python",
   "nbconvert_exporter": "python",
   "pygments_lexer": "ipython3",
   "version": "3.7.4"
  }
 },
 "nbformat": 4,
 "nbformat_minor": 2
}
