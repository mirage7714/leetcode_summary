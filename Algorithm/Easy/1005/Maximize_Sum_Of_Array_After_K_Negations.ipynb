{
 "cells": [
  {
   "cell_type": "markdown",
   "metadata": {},
   "source": [
    "# 本題要找出在對某個元件翻轉正負N次後，array最大和為多少\n",
    "原題目連結：https://leetcode.com/problems/maximize-sum-of-array-after-k-negations/  \n",
    "\n",
    "Given an array A of integers, we must modify the array in the following way: we choose an i and replace A[i] with -A[i], and we repeat this process K times in total.  (We may choose the same index i multiple times.)  \n",
    "\n",
    "Return the largest possible sum of the array after modifying it in this way.  \n",
    "\n",
    "範例：  \n",
    "Ex1:  \n",
    "Input: A = [4,2,3], K = 1  \n",
    "Output: 5  \n",
    "Explanation: Choose indices (1,) and A becomes [4,-2,3].  \n",
    "\n",
    "Ex2:  \n",
    "Input: A = [3,-1,0,2], K = 3  \n",
    "Output: 6  \n",
    "Explanation: Choose indices (1, 2, 2) and A becomes [3,1,0,2].  \n",
    "\n",
    "Ex3:  \n",
    "Input: A = [2,-3,-1,5,-4], K = 2  \n",
    "Output: 13  \n",
    "Explanation: Choose indices (1, 4) and A becomes [2,3,-1,5,4]."
   ]
  },
  {
   "cell_type": "markdown",
   "metadata": {},
   "source": [
    "* 解題想法：  \n",
    "由於是需要做正負轉換，因此先找最小值來進行轉換，最後加總所有的數值就是題目要的答案  \n",
    "但看了結果，這好像不是最快的作法，後續有機會應該可以思考優化的部份"
   ]
  },
  {
   "cell_type": "code",
   "execution_count": null,
   "metadata": {},
   "outputs": [],
   "source": [
    "class Solution:\n",
    "    def largestSumAfterKNegations(self, A: List[int], K: int) -> int:\n",
    "        sum = 0\n",
    "        for n in range(K):\n",
    "            index = A.index(min(A))\n",
    "            A[index] = -A[index]\n",
    "        \n",
    "        for l in range(len(A)):\n",
    "            sum += A[l]\n",
    "        return sum"
   ]
  }
 ],
 "metadata": {
  "kernelspec": {
   "display_name": "Python 3",
   "language": "python",
   "name": "python3"
  },
  "language_info": {
   "codemirror_mode": {
    "name": "ipython",
    "version": 3
   },
   "file_extension": ".py",
   "mimetype": "text/x-python",
   "name": "python",
   "nbconvert_exporter": "python",
   "pygments_lexer": "ipython3",
   "version": "3.8.3"
  }
 },
 "nbformat": 4,
 "nbformat_minor": 4
}
