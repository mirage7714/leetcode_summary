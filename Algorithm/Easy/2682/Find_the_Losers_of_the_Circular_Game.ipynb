{
 "cells": [
  {
   "cell_type": "markdown",
   "id": "8500c97f-574d-4cc0-b0bc-ffc3fa775f4f",
   "metadata": {},
   "source": [
    "# 本題要找出有哪些位置是沒到達過的 (\\#Math, \\#Array)\n",
    "原題目連結: https://leetcode.com/problems/find-the-losers-of-the-circular-game/description/  \n",
    "\n",
    "There are n friends that are playing a game. The friends are sitting in a circle and are numbered from 1 to n in clockwise order. More formally, moving clockwise from the ith friend brings you to the (i+1)th friend for 1 <= i < n, and moving clockwise from the nth friend brings you to the 1st friend.  \n",
    "\n",
    "The rules of the game are as follows:  \n",
    "1st friend receives the ball.  \n",
    "\n",
    "After that, 1st friend passes it to the friend who is k steps away from them in the clockwise direction.  \n",
    "After that, the friend who receives the ball should pass it to the friend who is 2 * k steps away from them in the clockwise direction.  \n",
    "After that, the friend who receives the ball should pass it to the friend who is 3 * k steps away from them in the clockwise direction, and so on and so forth.  \n",
    "In other words, on the ith turn, the friend holding the ball should pass it to the friend who is i * k steps away from them in the clockwise direction.  \n",
    "\n",
    "The game is finished when some friend receives the ball for the second time.  \n",
    "The losers of the game are friends who did not receive the ball in the entire game.  \n",
    "\n",
    "Given the number of friends, n, and an integer k, return the array answer, which contains the losers of the game in the ascending order.  \n",
    "\n",
    "範例:  \n",
    "Ex1:  \n",
    "Input: n = 5, k = 2  \n",
    "Output: [4,5]    \n",
    "Explanation: The game goes as follows:  \n",
    "1) Start at 1st friend and pass the ball to the friend who is 2 steps away from them - 3rd friend.  \n",
    "2) 3rd friend passes the ball to the friend who is 4 steps away from them - 2nd friend.  \n",
    "3) 2nd friend passes the ball to the friend who is 6 steps away from them  - 3rd friend.  \n",
    "4) The game ends as 3rd friend receives the ball for the second time.  \n",
    "\n",
    "Ex2:  \n",
    "Input: n = 4, k = 4  \n",
    "Output: [2,3,4]  \n",
    "Explanation: The game goes as follows:  \n",
    "1) Start at the 1st friend and pass the ball to the friend who is 4 steps away from them - 1st friend.  \n",
    "2) The game ends as 1st friend receives the ball for the second time."
   ]
  },
  {
   "cell_type": "markdown",
   "id": "5e730d13-6e1e-4ede-8255-86bc6b9501b2",
   "metadata": {},
   "source": [
    "* 解題想法:  \n",
    "首先用一個list來儲存目前已經出現過的名單，接著開始從頭進行檢查，如果當數字沒有出現過則放入暫存中，接著去尋找下一個數字，如果數字超過n的時候則取餘數，另外如果餘數為0的時候則代表為最後一個數值，直到有數字重複出現之後則中斷迴圈，並將沒有出現在list中的數值找出後回傳就是答案"
   ]
  },
  {
   "cell_type": "code",
   "execution_count": null,
   "id": "1624eba9-17e1-47c1-8c90-f6b352bb6cde",
   "metadata": {},
   "outputs": [],
   "source": [
    "class Solution:\n",
    "    def circularGameLosers(self, n: int, k: int) -> List[int]:\n",
    "        temp = [1]\n",
    "        start = 1\n",
    "        res = []\n",
    "        r = 1\n",
    "        while True:\n",
    "            start += k * r\n",
    "            r += 1 \n",
    "            start = start % n\n",
    "            if start == 0:\n",
    "                start = n\n",
    "            if start in temp:\n",
    "                break\n",
    "            temp.append(start)\n",
    "        print(temp)\n",
    "        for i in range(n):\n",
    "            if i+1 not in temp:\n",
    "                res.append(i+1)\n",
    "        return res\n",
    "            "
   ]
  }
 ],
 "metadata": {
  "kernelspec": {
   "display_name": "Python 3 (ipykernel)",
   "language": "python",
   "name": "python3"
  },
  "language_info": {
   "codemirror_mode": {
    "name": "ipython",
    "version": 3
   },
   "file_extension": ".py",
   "mimetype": "text/x-python",
   "name": "python",
   "nbconvert_exporter": "python",
   "pygments_lexer": "ipython3",
   "version": "3.9.13"
  }
 },
 "nbformat": 4,
 "nbformat_minor": 5
}
