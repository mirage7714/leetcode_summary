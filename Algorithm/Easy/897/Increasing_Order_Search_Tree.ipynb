{
 "cells": [
  {
   "cell_type": "markdown",
   "metadata": {},
   "source": [
    "# 本題要將樹的值重新排序後建立成一顆新的樹\n",
    "原題目連結: https://leetcode.com/problems/increasing-order-search-tree/  \n",
    "\n",
    "Given the root of a binary search tree, rearrange the tree in in-order so that the leftmost node in the tree is now the root of the tree, and every node has no left child and only one right child.  \n",
    "\n",
    "範例:  \n",
    "Ex1:   \n",
    "Input: root = [5,3,6,2,4,null,8,1,null,null,null,7,9]  \n",
    "Output: [1,null,2,null,3,null,4,null,5,null,6,null,7,null,8,null,9]  \n",
    "\n",
    "Ex2:  \n",
    "Input: root = [5,1,7]  \n",
    "Output: [1,null,5,null,7]"
   ]
  },
  {
   "cell_type": "markdown",
   "metadata": {},
   "source": [
    "* 解題想法:  \n",
    "首先將原本的樹中所有的數值取出並放入一個list中，接著將數值進行排序後，重新組合成一個新的樹並回傳"
   ]
  },
  {
   "cell_type": "code",
   "execution_count": null,
   "metadata": {},
   "outputs": [],
   "source": [
    "# Definition for a binary tree node.\n",
    "# class TreeNode:\n",
    "#     def __init__(self, val=0, left=None, right=None):\n",
    "#         self.val = val\n",
    "#         self.left = left\n",
    "#         self.right = right\n",
    "class Solution:\n",
    "    def increasingBST(self, root: TreeNode) -> TreeNode:\n",
    "        val = []\n",
    "        result = []\n",
    "        temp = [root]\n",
    "        while len(temp) > 0:\n",
    "            nodes = []\n",
    "            for t in temp:\n",
    "                val.append(t.val)\n",
    "                if t.left != None:\n",
    "                    nodes.append(t.left)\n",
    "                if t.right != None:\n",
    "                    nodes.append(t.right)\n",
    "            temp.clear()\n",
    "            temp += nodes\n",
    "        val.sort(reverse = True)\n",
    "        for v in val:\n",
    "            tree = TreeNode()\n",
    "            tree.val = v\n",
    "            if len(result) > 0:\n",
    "                tree.right = result[-1]\n",
    "            result.append(tree)\n",
    "        return result[-1]"
   ]
  }
 ],
 "metadata": {
  "kernelspec": {
   "display_name": "Python 3",
   "language": "python",
   "name": "python3"
  },
  "language_info": {
   "codemirror_mode": {
    "name": "ipython",
    "version": 3
   },
   "file_extension": ".py",
   "mimetype": "text/x-python",
   "name": "python",
   "nbconvert_exporter": "python",
   "pygments_lexer": "ipython3",
   "version": "3.7.4"
  }
 },
 "nbformat": 4,
 "nbformat_minor": 4
}
