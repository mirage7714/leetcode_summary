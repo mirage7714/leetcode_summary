{
 "cells": [
  {
   "cell_type": "markdown",
   "metadata": {},
   "source": [
    "# 本題要計算最少的bit翻轉次數，將起始值轉成另一個值\n",
    "原題目連結: https://leetcode.com/problems/minimum-bit-flips-to-convert-number/  \n",
    "\n",
    "A bit flip of a number x is choosing a bit in the binary representation of x and flipping it from either 0 to 1 or 1 to 0.  \n",
    "\n",
    "For example, for x = 7, the binary representation is 111 and we may choose any bit (including any leading zeros not shown) and flip it. We can flip the first bit from the right to get 110, flip the second bit from the right to get 101, flip the fifth bit from the right (a leading zero) to get 10111, etc.  \n",
    "Given two integers start and goal, return the minimum number of bit flips to convert start to goal.  \n",
    "\n",
    "範例:  \n",
    "Ex1:  \n",
    "Input: start = 10, goal = 7  \n",
    "Output: 3  \n",
    "Explanation: The binary representation of 10 and 7 are 1010 and 0111 respectively. We can convert 10 to 7 in 3 steps:  \n",
    "- Flip the first bit from the right: 1010 -> 1011.  \n",
    "- Flip the third bit from the right: 1011 -> 1111.  \n",
    "- Flip the fourth bit from the right: 1111 -> 0111.  \n",
    "It can be shown we cannot convert 10 to 7 in less than 3 steps. Hence, we return 3.  \n",
    "\n",
    "Ex2:  \n",
    "Input: start = 3, goal = 4  \n",
    "Output: 3  \n",
    "Explanation: The binary representation of 3 and 4 are 011 and 100 respectively. We can convert 3 to 4 in 3 steps:  \n",
    "- Flip the first bit from the right: 011 -> 010.  \n",
    "- Flip the second bit from the right: 010 -> 000.  \n",
    "- Flip the third bit from the right: 000 -> 100.  \n",
    "It can be shown we cannot convert 3 to 4 in less than 3 steps. Hence, we return 3."
   ]
  },
  {
   "cell_type": "markdown",
   "metadata": {},
   "source": [
    "* 解題想法:  \n",
    "計算翻轉次數，其實就是找出兩個值轉成bit之後的差異，因此先將兩數都轉換成bit字串之後，接著檢查兩個字串的長度是否相同，如果相同的情況則直接開始比較每個位置的差異並統計，否則需要先在較短的字串前補上0之後再開始進行比較"
   ]
  },
  {
   "cell_type": "code",
   "execution_count": null,
   "metadata": {},
   "outputs": [],
   "source": [
    "class Solution:\n",
    "    def minBitFlips(self, start: int, goal: int) -> int:\n",
    "        result = 0\n",
    "        s_start = bin(start)[2:]\n",
    "        s_goal = bin(goal)[2:]\n",
    "        if len(s_start) == len(s_goal):\n",
    "            for m in range(len(s_start)):\n",
    "                if s_start[m] != s_goal[m]:\n",
    "                    result += 1\n",
    "        else:\n",
    "            req = max(len(s_start), len(s_goal))\n",
    "            if len(s_start) < req:\n",
    "                while len(s_start) < req :\n",
    "                    s_start = '0' + s_start\n",
    "            else:\n",
    "                while len(s_goal) < req:\n",
    "                    s_goal = '0' + s_goal\n",
    "            for n in range(req):\n",
    "                if s_goal[n] != s_start[n]:\n",
    "                    result += 1\n",
    "        return result"
   ]
  }
 ],
 "metadata": {
  "kernelspec": {
   "display_name": "Python 3",
   "language": "python",
   "name": "python3"
  },
  "language_info": {
   "codemirror_mode": {
    "name": "ipython",
    "version": 3
   },
   "file_extension": ".py",
   "mimetype": "text/x-python",
   "name": "python",
   "nbconvert_exporter": "python",
   "pygments_lexer": "ipython3",
   "version": "3.7.6"
  }
 },
 "nbformat": 4,
 "nbformat_minor": 4
}
