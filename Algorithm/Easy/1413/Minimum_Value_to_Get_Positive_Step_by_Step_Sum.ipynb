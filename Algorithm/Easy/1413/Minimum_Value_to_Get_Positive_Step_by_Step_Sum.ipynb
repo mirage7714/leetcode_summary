{
 "cells": [
  {
   "cell_type": "markdown",
   "metadata": {},
   "source": [
    "# 本題要找出最小需要多少才能讓和不小於1\n",
    "原題目連結: https://leetcode.com/problems/minimum-value-to-get-positive-step-by-step-sum/  \n",
    "\n",
    "Given an array of integers nums, you start with an initial positive value startValue.  \n",
    "\n",
    "In each iteration, you calculate the step by step sum of startValue plus elements in nums (from left to right).  \n",
    "\n",
    "Return the minimum positive value of startValue such that the step by step sum is never less than 1.  \n",
    "\n",
    "範例:  \n",
    "Ex1:  \n",
    "Input: nums = [-3,2,-3,4,2]  \n",
    "Output: 5  \n",
    "Explanation: If you choose startValue = 4, in the third iteration your step by step sum is less than 1.  \n",
    "step by step sum  \n",
    "startValue = 4 | startValue = 5 | nums  \n",
    "  (4 -3 ) = 1  | (5 -3 ) = 2    |  -3  \n",
    "  (1 +2 ) = 3  | (2 +2 ) = 4    |   2  \n",
    "  (3 -3 ) = 0  | (4 -3 ) = 1    |  -3  \n",
    "  (0 +4 ) = 4  | (1 +4 ) = 5    |   4  \n",
    "  (4 +2 ) = 6  | (5 +2 ) = 7    |   2  \n",
    "  \n",
    "Ex2:  \n",
    "Input: nums = [1,2]  \n",
    "Output: 1  \n",
    "Explanation: Minimum start value should be positive.    \n",
    "\n",
    "Ex3:  \n",
    "Input: nums = [1,-2,-3]  \n",
    "Output: 5  "
   ]
  },
  {
   "cell_type": "markdown",
   "metadata": {},
   "source": [
    "* 解題想法:  \n",
    "首先要找出list中的數字和，在什麼時候會達到最小值，因此用了一個變數來統計目前出現的最小值，以及目前的數列總和為多少，當迴圈結束後，如果最小值大於0則代表都不會有小於0的情況發生，因此就是回傳1，否則就是回傳最小值的絕對值再加1"
   ]
  },
  {
   "cell_type": "code",
   "execution_count": null,
   "metadata": {},
   "outputs": [],
   "source": [
    "class Solution:\n",
    "    def minStartValue(self, nums: List[int]) -> int:\n",
    "        result = 0\n",
    "        temp_sum = 0\n",
    "        temp_min = 0\n",
    "        for num in nums:\n",
    "            temp_sum += num\n",
    "            if temp_sum < temp_min:\n",
    "                temp_min = temp_sum\n",
    "        if temp_min < 0:\n",
    "            result -= temp_min - 1\n",
    "        else:\n",
    "            result = 1\n",
    "        return result"
   ]
  }
 ],
 "metadata": {
  "kernelspec": {
   "display_name": "Python 3",
   "language": "python",
   "name": "python3"
  },
  "language_info": {
   "codemirror_mode": {
    "name": "ipython",
    "version": 3
   },
   "file_extension": ".py",
   "mimetype": "text/x-python",
   "name": "python",
   "nbconvert_exporter": "python",
   "pygments_lexer": "ipython3",
   "version": "3.6.4"
  }
 },
 "nbformat": 4,
 "nbformat_minor": 2
}
