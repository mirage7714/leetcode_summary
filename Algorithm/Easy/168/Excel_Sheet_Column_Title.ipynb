{
 "cells": [
  {
   "cell_type": "markdown",
   "metadata": {},
   "source": [
    "# 本題要將數字轉換成Excel的欄位，簡單的說就是轉換成英文字母\n",
    "原題目連結：https://leetcode.com/problems/excel-sheet-column-title/  \n",
    "\n",
    "Given a positive integer, return its corresponding column title as appear in an Excel sheet.  \n",
    "For example:  \n",
    "    1 -> A  \n",
    "    2 -> B  \n",
    "    3 -> C  \n",
    "    ...  \n",
    "    26 -> Z  \n",
    "    27 -> AA  \n",
    "    28 -> AB   \n",
    "    ...  \n",
    "    \n",
    "範例：  \n",
    "Ex1:  \n",
    "Input: 1  \n",
    "Output: \"A\"  \n",
    "\n",
    "Ex2:  \n",
    "Input: 28  \n",
    "Output: \"AB\"  \n",
    "\n",
    "Ex3:  \n",
    "Input: 701  \n",
    "Output: \"ZY\"  "
   ]
  },
  {
   "cell_type": "markdown",
   "metadata": {},
   "source": [
    "* 解題想法：  \n",
    "由於是要將數字轉換為英文字母，因此應該是以26為基礎進行轉換，不過由於是從1開始計算，因此如果遇到0應該要跟26一樣都轉換為Z  \n",
    "其他字母則是以長除法的餘數來進行轉換"
   ]
  },
  {
   "cell_type": "code",
   "execution_count": null,
   "metadata": {},
   "outputs": [],
   "source": [
    "class Solution:\n",
    "    def convertToTitle(self, n: int) -> str:\n",
    "        chars = {\n",
    "            1:'A',2:'B',3:'C',4:'D',5:'E',6:'F',7:'G',8:'H',9:'I',10:'J',11:'K',12:'L',13:'M',\n",
    "            14:'N',15:'O',16:'P',17:'Q',18:'R',19:'S',20:'T',21:'U',22:'V',23:'W',24:'X',25:'Y', 26:'Z', 0:'Z'\n",
    "        }\n",
    "        title = ''\n",
    "        while True:\n",
    "            left = n % 26\n",
    "            if left != 0:\n",
    "                n = int((n - left)/26)\n",
    "            else:\n",
    "                n = int((n - 26) / 26)\n",
    "            title = chars[left] + title\n",
    "            if n <= 0:\n",
    "                break\n",
    "        return title"
   ]
  }
 ],
 "metadata": {
  "kernelspec": {
   "display_name": "Python 3",
   "language": "python",
   "name": "python3"
  },
  "language_info": {
   "codemirror_mode": {
    "name": "ipython",
    "version": 3
   },
   "file_extension": ".py",
   "mimetype": "text/x-python",
   "name": "python",
   "nbconvert_exporter": "python",
   "pygments_lexer": "ipython3",
   "version": "3.8.3"
  }
 },
 "nbformat": 4,
 "nbformat_minor": 4
}
