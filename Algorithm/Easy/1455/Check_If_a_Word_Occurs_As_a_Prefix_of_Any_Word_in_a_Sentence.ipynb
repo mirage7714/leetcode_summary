{
 "cells": [
  {
   "cell_type": "markdown",
   "metadata": {},
   "source": [
    "# 本題要找出指定的字首出現在第幾個單字上\n",
    "原題目連結: https://leetcode.com/problems/check-if-a-word-occurs-as-a-prefix-of-any-word-in-a-sentence/  \n",
    "\n",
    "Given a sentence that consists of some words separated by a single space, and a searchWord.  \n",
    "You have to check if searchWord is a prefix of any word in sentence.  \n",
    "Return the index of the word in sentence where searchWord is a prefix of this word (1-indexed).  \n",
    "If searchWord is a prefix of more than one word, return the index of the first word (minimum index). If there is no such word return -1.  \n",
    "A prefix of a string S is any leading contiguous substring of S.  \n",
    "\n",
    "範例:  \n",
    "Ex1:  \n",
    "Input: sentence = \"i love eating burger\", searchWord = \"burg\"  \n",
    "Output: 4  \n",
    "Explanation: \"burg\" is prefix of \"burger\" which is the 4th word in the sentence.  \n",
    "\n",
    "Ex2:  \n",
    "Input: sentence = \"this problem is an easy problem\", searchWord = \"pro\"  \n",
    "Output: 2  \n",
    "Explanation: \"pro\" is prefix of \"problem\" which is the 2nd and the 6th word in the sentence, but we return 2 as it's the minimal index.  \n",
    "\n",
    "Ex3:  \n",
    "Input: sentence = \"i am tired\", searchWord = \"you\"  \n",
    "Output: -1  \n",
    "Explanation: \"you\" is not a prefix of any word in the sentence.  \n",
    "\n",
    "Ex4:  \n",
    "Input: sentence = \"i use triple pillow\", searchWord = \"pill\"  \n",
    "Output: 4  \n",
    "\n",
    "Ex5:  \n",
    "Input: sentence = \"hello from the other side\", searchWord = \"they\"  \n",
    "Output: -1  "
   ]
  },
  {
   "cell_type": "markdown",
   "metadata": {},
   "source": [
    "* 解題想法:  \n",
    "要找出字首在句子中出現的位置，首先需要先判斷字首是否有在句子內出現過，若沒有出現過則可以直接回傳-1  \n",
    "若有出現過，則須開始判斷出現的位置是否為字首，否則也不符合題目的要求，最後將比對結果回傳"
   ]
  },
  {
   "cell_type": "code",
   "execution_count": null,
   "metadata": {},
   "outputs": [],
   "source": [
    "class Solution:\n",
    "    def isPrefixOfWord(self, sentence: str, searchWord: str) -> int:\n",
    "        words = sentence.split(' ')\n",
    "        index = -1\n",
    "        if searchWord in sentence:\n",
    "            for w in range(len(words)):\n",
    "                if words[w][:len(searchWord)] == searchWord:\n",
    "                    index = w+1\n",
    "                    break\n",
    "        return index"
   ]
  }
 ],
 "metadata": {
  "kernelspec": {
   "display_name": "Python 3",
   "language": "python",
   "name": "python3"
  },
  "language_info": {
   "codemirror_mode": {
    "name": "ipython",
    "version": 3
   },
   "file_extension": ".py",
   "mimetype": "text/x-python",
   "name": "python",
   "nbconvert_exporter": "python",
   "pygments_lexer": "ipython3",
   "version": "3.7.6"
  }
 },
 "nbformat": 4,
 "nbformat_minor": 4
}
