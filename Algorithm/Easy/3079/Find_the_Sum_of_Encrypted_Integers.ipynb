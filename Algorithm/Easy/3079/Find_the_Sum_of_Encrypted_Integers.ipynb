{
 "cells": [
  {
   "cell_type": "markdown",
   "id": "cccd259a-dbd7-4d84-becb-42f3222470f3",
   "metadata": {},
   "source": [
    "# 本題要找出加密數字的總和是多少 (\\#Array )\n",
    "原題目連結: https://leetcode.com/problems/find-the-sum-of-encrypted-integers/description/  \n",
    "\n",
    "You are given an integer array nums containing positive integers. We define a function encrypt such that encrypt(x) replaces every digit in x with the largest digit in x. For example, encrypt(523) = 555 and encrypt(213) = 333.  \n",
    "Return the sum of encrypted elements.  \n",
    "\n",
    "範例:  \n",
    "Ex1:  \n",
    "Input: nums = [1,2,3]  \n",
    "Output: 6  \n",
    "Explanation: The encrypted elements are [1,2,3]. The sum of encrypted elements is 1 + 2 + 3 == 6.  \n",
    "\n",
    "Ex2:  \n",
    "Input: nums = [10,21,31]  \n",
    "Output: 66  \n",
    "Explanation: The encrypted elements are [11,22,33]. The sum of encrypted elements is 11 + 22 + 33 == 66."
   ]
  },
  {
   "cell_type": "markdown",
   "id": "158850f7-bbcb-410d-9d8b-c52f2a8b675d",
   "metadata": {},
   "source": [
    "* 解題想法:  \n",
    "如果數字小於10的話，則加密數字就是該數值本身，大於10的時候則先將所有位數放入一個list中，再找出list中最大的數，並用迴圈將數值加到結果中，最後回傳加總的結果"
   ]
  },
  {
   "cell_type": "code",
   "execution_count": null,
   "id": "82832b7a-566a-4ae4-8424-e2fb6220d7eb",
   "metadata": {},
   "outputs": [],
   "source": [
    "class Solution:\n",
    "    def sumOfEncryptedInt(self, nums: List[int]) -> int:\n",
    "        res = 0\n",
    "        for n in nums:\n",
    "            if n < 10:\n",
    "                res += n\n",
    "            else:\n",
    "                d = [i for i in str(n)]\n",
    "                m = int(max(d))\n",
    "                for j in range(len(d)):\n",
    "                    res += m * (10 ** j)\n",
    "        return res"
   ]
  }
 ],
 "metadata": {
  "kernelspec": {
   "display_name": "Python 3 (ipykernel)",
   "language": "python",
   "name": "python3"
  },
  "language_info": {
   "codemirror_mode": {
    "name": "ipython",
    "version": 3
   },
   "file_extension": ".py",
   "mimetype": "text/x-python",
   "name": "python",
   "nbconvert_exporter": "python",
   "pygments_lexer": "ipython3",
   "version": "3.9.13"
  }
 },
 "nbformat": 4,
 "nbformat_minor": 5
}
