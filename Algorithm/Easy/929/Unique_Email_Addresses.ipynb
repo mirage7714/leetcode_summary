{
 "cells": [
  {
   "cell_type": "markdown",
   "metadata": {},
   "source": [
    "# 本題要找出共有幾個email的數量\n",
    "原題目連結： https://leetcode.com/problems/unique-email-addresses/  \n",
    "\n",
    "Every email consists of a local name and a domain name, separated by the @ sign.  \n",
    "\n",
    "For example, in alice@leetcode.com, alice is the local name, and leetcode.com is the domain name.  \n",
    "\n",
    "Besides lowercase letters, these emails may contain '.'s or '+'s.  \n",
    "\n",
    "If you add periods ('.') between some characters in the local name part of an email address, mail sent there will be forwarded to the same address without dots in the local name.  For example, \"alice.z@leetcode.com\" and \"alicez@leetcode.com\" forward to the same email address.  (Note that this rule does not apply for domain names.)  \n",
    "\n",
    "If you add a plus ('+') in the local name, everything after the first plus sign will be ignored. This allows certain emails to be filtered, for example m.y+name@email.com will be forwarded to my@email.com.  (Again, this rule does not apply for domain names.)  \n",
    "\n",
    "It is possible to use both of these rules at the same time.  \n",
    "\n",
    "Given a list of emails, we send one email to each address in the list.  How many different addresses actually receive mails?   \n",
    "\n",
    "範例：  \n",
    "Ex1:  \n",
    "Input: [\"test.email+alex@leetcode.com\",\"test.e.mail+bob.cathy@leetcode.com\",\"testemail+david@lee.tcode.com\"]  \n",
    "Output: 2  \n",
    "Explanation: \"testemail@leetcode.com\" and \"testemail@lee.tcode.com\" actually receive mails"
   ]
  },
  {
   "cell_type": "markdown",
   "metadata": {},
   "source": [
    "* 解題想法：  \n",
    "題目中說明，在前面的部份'.'是可以直接去掉的，而'+'則是後方的字皆可去掉  \n",
    "因此只需要對mail的寄件人進行處理後重新組合email，並計算共有幾個email address即可"
   ]
  },
  {
   "cell_type": "code",
   "execution_count": null,
   "metadata": {},
   "outputs": [],
   "source": [
    "class Solution:\n",
    "    def numUniqueEmails(self, emails: List[str]) -> int:\n",
    "        valids = []\n",
    "        for mail in emails:\n",
    "            parts = mail.split('@')\n",
    "            title = parts[0].replace('.','')\n",
    "            if '+' in title:\n",
    "                title = title.split('+')[0]\n",
    "            new_mail = title + '@' + parts[1]\n",
    "            if new_mail not in valids:\n",
    "                valids.append(new_mail)\n",
    "        return len(valids)"
   ]
  }
 ],
 "metadata": {
  "kernelspec": {
   "display_name": "Python 3",
   "language": "python",
   "name": "python3"
  },
  "language_info": {
   "codemirror_mode": {
    "name": "ipython",
    "version": 3
   },
   "file_extension": ".py",
   "mimetype": "text/x-python",
   "name": "python",
   "nbconvert_exporter": "python",
   "pygments_lexer": "ipython3",
   "version": "3.8.3"
  }
 },
 "nbformat": 4,
 "nbformat_minor": 4
}
