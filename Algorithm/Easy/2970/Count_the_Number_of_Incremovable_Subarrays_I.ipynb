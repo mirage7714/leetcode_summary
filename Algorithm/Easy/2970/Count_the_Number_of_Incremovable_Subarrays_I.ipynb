{
 "cells": [
  {
   "cell_type": "markdown",
   "id": "9a066420-11e2-4e4f-b4ea-167d1ba86e80",
   "metadata": {},
   "source": [
    "# 本題要找出移除sublist之後，可以符合條件的組合有多少 (\\#Array )\n",
    "原題目連結: https://leetcode.com/problems/count-the-number-of-incremovable-subarrays-i/description/  \n",
    "\n",
    "A subarray of nums is called incremovable if nums becomes strictly increasing on removing the subarray. For example, the subarray [3, 4] is an incremovable subarray of [5, 3, 4, 6, 7] because removing this subarray changes the array [5, 3, 4, 6, 7] to [5, 6, 7] which is strictly increasing.  \n",
    "Return the total number of incremovable subarrays of nums.  \n",
    "Note that an empty array is considered strictly increasing.  \n",
    "A subarray is a contiguous non-empty sequence of elements within an array.  \n",
    "\n",
    "範例:  \n",
    "Ex1:  \n",
    "Input: nums = [1,2,3,4]  \n",
    "Output: 10  \n",
    "Explanation: The 10 incremovable subarrays are: [1], [2], [3], [4], [1,2], [2,3], [3,4], [1,2,3], [2,3,4], and [1,2,3,4], because on removing any one of these subarrays nums becomes strictly increasing.  　 Note that you cannot select an empty subarray.  \n",
    "\n",
    "Ex2:  \n",
    "Input: nums = [6,5,7,8]  \n",
    "Output: 7  \n",
    "Explanation: The 7 incremovable subarrays are: [5], [6], [5,7], [6,5], [5,7,8], [6,5,7] and [6,5,7,8].  \n",
    "It can be shown that there are only 7 incremovable subarrays in nums.  \n",
    "\n",
    "Ex3:  \n",
    "Input: nums = [8,7,6,6]  \n",
    "Output: 3  \n",
    "Explanation: The 3 incremovable subarrays are: [8,7,6], [7,6,6], and [8,7,6,6]. Note that [8,7] is not an incremovable subarray because after removing [8,7] nums becomes [6,6], which is sorted in ascending order but not strictly increasing."
   ]
  },
  {
   "cell_type": "markdown",
   "id": "f6ccf388-f6c3-47c6-8c9e-63547fb669c8",
   "metadata": {},
   "source": [
    "* 解題想法:  \n",
    "首先建立一個函數，用來判斷list是否符合嚴格遞增的條件，接著找出所有可能的sublist組合，並檢查剩下的list是否符合嚴格遞增，如果符合則將數值加1，最後回傳總共符合條件的組合就是答案"
   ]
  },
  {
   "cell_type": "code",
   "execution_count": null,
   "id": "aca71490-8e5a-47b0-a5bf-34d2a60f89a3",
   "metadata": {},
   "outputs": [],
   "source": [
    "class Solution:\n",
    "    def incremovableSubarrayCount(self, nums: List[int]) -> int:\n",
    "        def check_list(num):\n",
    "            start = num[0]\n",
    "            for i in range(1, len(num)):\n",
    "                if num[i] <= start:\n",
    "                    return False\n",
    "                start = num[i]\n",
    "            return True\n",
    "\n",
    "        res = 1\n",
    "        for i in range(len(nums)-1, 0, -1):\n",
    "            for j in range(len(nums)-i+1):\n",
    "                n = nums[:j] + nums[j+i:]\n",
    "                if check_list(n):\n",
    "                    res += 1\n",
    "        return res"
   ]
  }
 ],
 "metadata": {
  "kernelspec": {
   "display_name": "Python 3 (ipykernel)",
   "language": "python",
   "name": "python3"
  },
  "language_info": {
   "codemirror_mode": {
    "name": "ipython",
    "version": 3
   },
   "file_extension": ".py",
   "mimetype": "text/x-python",
   "name": "python",
   "nbconvert_exporter": "python",
   "pygments_lexer": "ipython3",
   "version": "3.9.13"
  }
 },
 "nbformat": 4,
 "nbformat_minor": 5
}
