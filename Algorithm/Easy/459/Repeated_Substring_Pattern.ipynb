{
 "cells": [
  {
   "cell_type": "markdown",
   "metadata": {},
   "source": [
    "# 本題要找出題目提供的字串是否可以拆成數個substring組成\n",
    "原題目連結: https://leetcode.com/problems/repeated-substring-pattern/  \n",
    "\n",
    "Given a non-empty string check if it can be constructed by taking a substring of it and appending multiple copies of the substring together. You may assume the given string consists of lowercase English letters only and its length will not exceed 10000.  \n",
    "\n",
    "範例:  \n",
    "Ex1:  \n",
    "Input: \"abab\"  \n",
    "Output: True  \n",
    "Explanation: It's the substring \"ab\" twice.  \n",
    "\n",
    "Ex2:  \n",
    "Input: \"aba\"  \n",
    "Output: False  \n",
    "\n",
    "Ex3:  \n",
    "Input: \"abcabcabcabc\"  \n",
    "Output: True  \n",
    "Explanation: It's the substring \"abc\" four times. (And the substring \"abcabc\" twice.)  "
   ]
  },
  {
   "cell_type": "markdown",
   "metadata": {},
   "source": [
    "* 解題想法:  \n",
    "由於題目要求字s是否可以由多個子字串所組成，因此先找出字串長度n的因數後，將子字串複製N倍與s進行比較，如果符合的話則回傳True並中斷迴圈  \n",
    "否則繼續下個數字，直到2/n後因為不可能會有子字串可以重複就結束迴圈"
   ]
  },
  {
   "cell_type": "code",
   "execution_count": null,
   "metadata": {},
   "outputs": [],
   "source": [
    "class Solution:\n",
    "    def repeatedSubstringPattern(self, s: str) -> bool:\n",
    "        is_valid = False\n",
    "        if len(s) > 0:\n",
    "            for n in range(int(len(s)/2)):\n",
    "                if len(s) % (n+1) == 0:\n",
    "                    temp = ''\n",
    "                    p = s[:n+1]\n",
    "                    for m in range(int(len(s) / (n+1))):\n",
    "                        temp += p\n",
    "                    if temp == s:\n",
    "                        is_valid = True\n",
    "                        break\n",
    "        return is_valid"
   ]
  }
 ],
 "metadata": {
  "kernelspec": {
   "display_name": "Python 3",
   "language": "python",
   "name": "python3"
  },
  "language_info": {
   "codemirror_mode": {
    "name": "ipython",
    "version": 3
   },
   "file_extension": ".py",
   "mimetype": "text/x-python",
   "name": "python",
   "nbconvert_exporter": "python",
   "pygments_lexer": "ipython3",
   "version": "3.7.4"
  }
 },
 "nbformat": 4,
 "nbformat_minor": 2
}
