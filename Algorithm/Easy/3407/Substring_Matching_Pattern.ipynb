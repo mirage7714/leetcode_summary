{
 "cells": [
  {
   "cell_type": "markdown",
   "id": "a98ad1a7-0e56-4963-9088-9b2916eecc14",
   "metadata": {},
   "source": [
    "# 本題要找出字串是否符合指定的pattern (\\#String )\n",
    "原題目連結: https://leetcode.com/problems/substring-matching-pattern/description/  \n",
    "\n",
    "You are given a string s and a pattern string p, where p contains exactly one '*' character.  \n",
    "The '*' in p can be replaced with any sequence of zero or more characters.  \n",
    "Return true if p can be made a substring of s, and false otherwise.  \n",
    "A substring is a contiguous non-empty sequence of characters within a string.  \n",
    "\n",
    "範例:  \n",
    "Ex1:  \n",
    "Input: s = \"leetcode\", p = \"ee\\*e\"  \n",
    "Output: true  \n",
    "Explanation:  \n",
    "By replacing the '\\*' with \"tcod\", the substring \"eetcode\" matches the pattern.  \n",
    "\n",
    "Ex2:  \n",
    "Input: s = \"car\", p = \"c\\*v\"  \n",
    "Output: false  \n",
    "Explanation:  \n",
    "There is no substring matching the pattern.  \n",
    "  \n",
    "Ex3:  \n",
    "Input: s = \"luck\", p = \"u\\*\"  \n",
    "Output: true  \n",
    "Explanation:  \n",
    "The substrings \"u\", \"uc\", and \"uck\" match the pattern."
   ]
  },
  {
   "cell_type": "markdown",
   "id": "4e1b8c96-1afa-4f03-be76-fb7644f55b0f",
   "metadata": {},
   "source": [
    "* 解題想法:  \n",
    "首先將p進行分割，並得到前後兩個子字串，接著判斷第一個字串是否有出現在s中，如果沒有則回傳False，如果有的話則接著判斷下一個字串是否有出現在剩下的字串中，如果有的話則回傳True，眉有的話則回傳False"
   ]
  },
  {
   "cell_type": "code",
   "execution_count": null,
   "id": "4dda947b-e397-482d-b75b-e59610013d0e",
   "metadata": {},
   "outputs": [],
   "source": [
    "class Solution:\n",
    "    def hasMatch(self, s: str, p: str) -> bool:\n",
    "        if '*' not in p:\n",
    "            if p in s:\n",
    "                return True\n",
    "            else:\n",
    "                return False\n",
    "        else:\n",
    "            p1 = p.split('*')[0]\n",
    "            p2 = p.split('*')[1]\n",
    "            if p1 not in s:\n",
    "                return False\n",
    "            else:\n",
    "                s1 = s[s.index(p1) + len(p1):]\n",
    "                if p2 not in s1:\n",
    "                    return False\n",
    "                else:\n",
    "                    return True "
   ]
  }
 ],
 "metadata": {
  "kernelspec": {
   "display_name": "Python 3 (ipykernel)",
   "language": "python",
   "name": "python3"
  },
  "language_info": {
   "codemirror_mode": {
    "name": "ipython",
    "version": 3
   },
   "file_extension": ".py",
   "mimetype": "text/x-python",
   "name": "python",
   "nbconvert_exporter": "python",
   "pygments_lexer": "ipython3",
   "version": "3.9.13"
  }
 },
 "nbformat": 4,
 "nbformat_minor": 5
}
