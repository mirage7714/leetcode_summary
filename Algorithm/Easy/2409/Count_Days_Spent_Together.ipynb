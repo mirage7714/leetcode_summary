{
 "cells": [
  {
   "cell_type": "markdown",
   "metadata": {},
   "source": [
    "# 本題要找出兩個人會出現同個城市的天數為何 (\\#String, \\#Math)\n",
    "原題目連結: https://leetcode.com/problems/count-days-spent-together/  \n",
    "\n",
    "Alice and Bob are traveling to Rome for separate business meetings.  \n",
    "\n",
    "You are given 4 strings arriveAlice, leaveAlice, arriveBob, and leaveBob. Alice will be in the city from the dates arriveAlice to leaveAlice (inclusive), while Bob will be in the city from the dates arriveBob to leaveBob (inclusive). Each will be a 5-character string in the format \"MM-DD\", corresponding to the month and day of the date.  \n",
    "\n",
    "Return the total number of days that Alice and Bob are in Rome together.  \n",
    "\n",
    "You can assume that all dates occur in the same calendar year, which is not a leap year. Note that the number of days per month can be represented as: [31, 28, 31, 30, 31, 30, 31, 31, 30, 31, 30, 31].  \n",
    "\n",
    "範例:  \n",
    "Ex1:  \n",
    "Input: arriveAlice = \"08-15\", leaveAlice = \"08-18\", arriveBob = \"08-16\", leaveBob = \"08-19\"  \n",
    "Output: 3  \n",
    "Explanation: Alice will be in Rome from August 15 to August 18. Bob will be in Rome from August 16 to August 19. They are both in Rome together on August 16th, 17th, and 18th, so the answer is 3.  \n",
    "\n",
    "Ex2:  \n",
    "Input: arriveAlice = \"10-01\", leaveAlice = \"10-31\", arriveBob = \"11-01\", leaveBob = \"12-31\"  \n",
    "Output: 0  \n",
    "Explanation: There is no day when Alice and Bob are in Rome together, so we return 0."
   ]
  },
  {
   "cell_type": "markdown",
   "metadata": {},
   "source": [
    "* 解題想法:  \n",
    "首先建立一個函數，將日期轉換為今年的第N天，這樣才能知道日期的先後順序，接著將兩人的出發及到達日期都轉換成絕對天數，接著開始判斷兩個人的時間是否有重疊的情況:  \n",
    "- Alice的時間，完整包含Bob的時間  \n",
    "- Bob的時間，完整包含Alice的時間  \n",
    "- Alice的時間，有部分與Bob重疊  \n",
    "- Bob的時間，有部分與Alice重疊  \n",
    "最後回傳算出的時間為多少"
   ]
  },
  {
   "cell_type": "code",
   "execution_count": null,
   "metadata": {},
   "outputs": [],
   "source": [
    "class Solution:\n",
    "    def countDaysTogether(self, arriveAlice: str, leaveAlice: str, arriveBob: str, leaveBob: str) -> int:\n",
    "        def convertDays(day):\n",
    "            result = 0\n",
    "            m = int(day.split('-')[0])\n",
    "            d = int(day.split('-')[1])\n",
    "            for n in range(1, m):\n",
    "                result += days[n-1]\n",
    "            result += d\n",
    "            return result\n",
    "        \n",
    "        result = 0\n",
    "        days = [31, 28, 31, 30, 31, 30, 31, 31, 30, 31, 30, 31]\n",
    "        a = [convertDays(arriveAlice), convertDays(leaveAlice)]\n",
    "        b = [convertDays(arriveBob), convertDays(leaveBob)]\n",
    "        if b[1] >= a[1] and b[0] <= a[0]:\n",
    "            result = a[1] - a[0] + 1\n",
    "        elif b[1] <= a[1] and b[0] >= a[0]:\n",
    "            result = b[1] - b[0] + 1\n",
    "        elif a[1] >= b[0] and a[1] <= b[1]:\n",
    "            result = a[1] - b[0] + 1\n",
    "        elif b[1] >= a[0] and b[1] <= a[1]:\n",
    "            result = b[1] - a[0] + 1\n",
    "        return result"
   ]
  }
 ],
 "metadata": {
  "kernelspec": {
   "display_name": "Python 3",
   "language": "python",
   "name": "python3"
  },
  "language_info": {
   "codemirror_mode": {
    "name": "ipython",
    "version": 3
   },
   "file_extension": ".py",
   "mimetype": "text/x-python",
   "name": "python",
   "nbconvert_exporter": "python",
   "pygments_lexer": "ipython3",
   "version": "3.7.6"
  }
 },
 "nbformat": 4,
 "nbformat_minor": 4
}
