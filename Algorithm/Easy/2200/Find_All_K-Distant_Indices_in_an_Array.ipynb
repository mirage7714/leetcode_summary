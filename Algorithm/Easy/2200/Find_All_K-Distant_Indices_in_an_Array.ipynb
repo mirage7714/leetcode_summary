{
 "cells": [
  {
   "cell_type": "markdown",
   "metadata": {},
   "source": [
    "# 本題要找出範圍K內的index值共有幾個\n",
    "原題目連結: https://leetcode.com/problems/find-all-k-distant-indices-in-an-array/  \n",
    "\n",
    "You are given a 0-indexed integer array nums and two integers key and k. A k-distant index is an index i of nums for which there exists at least one index j such that |i - j| <= k and nums[j] == key.  \n",
    "\n",
    "Return a list of all k-distant indices sorted in increasing order.  \n",
    "\n",
    "範例:  \n",
    "Ex1:  \n",
    "Input: nums = [3,4,9,1,3,9,5], key = 9, k = 1  \n",
    "Output: [1,2,3,4,5,6]  \n",
    "Explanation: Here, nums[2] == key and nums[5] == key.  \n",
    "- For index 0, |0 - 2| > k and |0 - 5| > k, so there is no j where |0 - j| <= k and nums[j] == key. Thus, 0 is not a k-distant index.  \n",
    "- For index 1, |1 - 2| <= k and nums[2] == key, so 1 is a k-distant index.  \n",
    "- For index 2, |2 - 2| <= k and nums[2] == key, so 2 is a k-distant index.  \n",
    "- For index 3, |3 - 2| <= k and nums[2] == key, so 3 is a k-distant index.  \n",
    "- For index 4, |4 - 5| <= k and nums[5] == key, so 4 is a k-distant index.  \n",
    "- For index 5, |5 - 5| <= k and nums[5] == key, so 5 is a k-distant index.  \n",
    "- For index 6, |6 - 5| <= k and nums[5] == key, so 6 is a k-distant index.  \n",
    "Thus, we return [1,2,3,4,5,6] which is sorted in increasing order. \n",
    "\n",
    "Ex2:  \n",
    "Input: nums = [2,2,2,2,2], key = 2, k = 2  \n",
    "Output: [0,1,2,3,4]  \n",
    "Explanation: For all indices i in nums, there exists some index j such that |i - j| <= k and nums[j] == key, so every index is a k-distant index.   \n",
    "Hence, we return [0,1,2,3,4].  "
   ]
  },
  {
   "cell_type": "markdown",
   "metadata": {},
   "source": [
    "* 解題想法:  \n",
    "首先找出key值在nums中的index共有多少，接著開始判斷範圍k內的index是否有在結果中，如果沒有的話則加入結果中，否則就跳過，最後將結果回傳"
   ]
  },
  {
   "cell_type": "code",
   "execution_count": null,
   "metadata": {},
   "outputs": [],
   "source": [
    "class Solution:\n",
    "    def findKDistantIndices(self, nums: List[int], key: int, k: int) -> List[int]:\n",
    "        indexes = []\n",
    "        result = []\n",
    "        for n in range(len(nums)):\n",
    "            if nums[n] == key:\n",
    "                indexes.append(n)\n",
    "                result.append(n)\n",
    "        if len(result) < len(nums):\n",
    "            for index in indexes:\n",
    "                for m in range(1, k+1):\n",
    "                    i = index + m\n",
    "                    d = index - m\n",
    "                    if d >= 0:\n",
    "                        if d not in result:\n",
    "                            result.append(d)\n",
    "                    if i <= len(nums)-1:\n",
    "                        if i not in result:\n",
    "                            result.append(i)\n",
    "            result.sort()\n",
    "        return result"
   ]
  }
 ],
 "metadata": {
  "kernelspec": {
   "display_name": "Python 3",
   "language": "python",
   "name": "python3"
  },
  "language_info": {
   "codemirror_mode": {
    "name": "ipython",
    "version": 3
   },
   "file_extension": ".py",
   "mimetype": "text/x-python",
   "name": "python",
   "nbconvert_exporter": "python",
   "pygments_lexer": "ipython3",
   "version": "3.7.4"
  }
 },
 "nbformat": 4,
 "nbformat_minor": 4
}
