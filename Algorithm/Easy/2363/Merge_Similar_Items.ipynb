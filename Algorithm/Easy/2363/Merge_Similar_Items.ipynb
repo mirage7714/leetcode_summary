{
 "cells": [
  {
   "cell_type": "markdown",
   "metadata": {},
   "source": [
    "# 本題要將相似的item進行合併\n",
    "原題目連結: https://leetcode.com/problems/merge-similar-items/  \n",
    "\n",
    "You are given two 2D integer arrays, items1 and items2, representing two sets of items. Each array items has the following properties:  \n",
    "\n",
    "items[i] = [valuei, weighti] where valuei represents the value and weighti represents the weight of the ith item.  \n",
    "The value of each item in items is unique.  \n",
    "Return a 2D integer array ret where ret[i] = [valuei, weighti], with weighti being the sum of weights of all items with value valuei.  \n",
    "\n",
    "Note: ret should be returned in ascending order by value.  \n",
    "\n",
    "範例:  \n",
    "Ex1:  \n",
    "Input: items1 = [[1,1],[4,5],[3,8]], items2 = [[3,1],[1,5]]  \n",
    "Output: [[1,6],[3,9],[4,5]]  \n",
    "Explanation:   \n",
    "The item with value = 1 occurs in items1 with weight = 1 and in items2 with weight = 5, total weight = 1 + 5 = 6.  \n",
    "The item with value = 3 occurs in items1 with weight = 8 and in items2 with weight = 1, total weight = 8 + 1 = 9.  \n",
    "The item with value = 4 occurs in items1 with weight = 5, total weight = 5.     \n",
    "Therefore, we return [[1,6],[3,9],[4,5]].   \n",
    "\n",
    "Ex2:  \n",
    "Input: items1 = [[1,1],[3,2],[2,3]], items2 = [[2,1],[3,2],[1,3]]  \n",
    "Output: [[1,4],[2,4],[3,4]]  \n",
    "Explanation:   \n",
    "The item with value = 1 occurs in items1 with weight = 1 and in items2 with weight = 3, total weight = 1 + 3 = 4.  \n",
    "The item with value = 2 occurs in items1 with weight = 3 and in items2 with weight = 1, total weight = 3 + 1 = 4.  \n",
    "The item with value = 3 occurs in items1 with weight = 2 and in items2 with weight = 2, total weight = 2 + 2 = 4.  \n",
    "Therefore, we return [[1,4],[2,4],[3,4]].  \n",
    "\n",
    "Ex3:  \n",
    "Input: items1 = [[1,3],[2,2]], items2 = [[7,1],[2,2],[1,4]]  \n",
    "Output: [[1,7],[2,4],[7,1]]  \n",
    "Explanation:  \n",
    "The item with value = 1 occurs in items1 with weight = 3 and in items2 with weight = 4, total weight = 3 + 4 = 7.   \n",
    "The item with value = 2 occurs in items1 with weight = 2 and in items2 with weight = 2, total weight = 2 + 2 = 4.   \n",
    "The item with value = 7 occurs in items2 with weight = 1, total weight = 1.  \n",
    "Therefore, we return [[1,7],[2,4],[7,1]]."
   ]
  },
  {
   "cell_type": "markdown",
   "metadata": {},
   "source": [
    "* 解題想法:  \n",
    "首先將兩個list加總成一個新的list，接著用一個dict來統計這個值是否有出現在dict中，如果有的話則將val值相加，如果沒有則新增這個key值，最後將key值由小到大開始輸出放入一個list中進行回傳"
   ]
  },
  {
   "cell_type": "code",
   "execution_count": null,
   "metadata": {},
   "outputs": [],
   "source": [
    "class Solution:\n",
    "    def mergeSimilarItems(self, items1: List[List[int]], items2: List[List[int]]) -> List[List[int]]:\n",
    "        items = items1 + items2\n",
    "        count = {}\n",
    "        result = []\n",
    "        for i in items:\n",
    "            if i[0] not in count.keys():\n",
    "                count[i[0]] = i[1]\n",
    "            else:\n",
    "                count[i[0]] += i[1]\n",
    "        key = list(count.keys())\n",
    "        key.sort()\n",
    "        for k in key:\n",
    "            result.append([k, count[k]])\n",
    "        return result"
   ]
  }
 ],
 "metadata": {
  "kernelspec": {
   "display_name": "Python 3",
   "language": "python",
   "name": "python3"
  },
  "language_info": {
   "codemirror_mode": {
    "name": "ipython",
    "version": 3
   },
   "file_extension": ".py",
   "mimetype": "text/x-python",
   "name": "python",
   "nbconvert_exporter": "python",
   "pygments_lexer": "ipython3",
   "version": "3.7.4"
  }
 },
 "nbformat": 4,
 "nbformat_minor": 4
}
