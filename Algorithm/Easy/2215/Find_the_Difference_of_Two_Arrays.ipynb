{
 "cells": [
  {
   "cell_type": "markdown",
   "metadata": {},
   "source": [
    "# 本題要找出兩個list的元素差異為何\n",
    "原題目連結: https://leetcode.com/problems/find-the-difference-of-two-arrays/  \n",
    "\n",
    "Given two 0-indexed integer arrays nums1 and nums2, return a list answer of size 2 where:  \n",
    "\n",
    "answer[0] is a list of all distinct integers in nums1 which are not present in nums2.  \n",
    "answer[1] is a list of all distinct integers in nums2 which are not present in nums1.  \n",
    "Note that the integers in the lists may be returned in any order.  \n",
    "\n",
    "範例:  \n",
    "Ex1:  \n",
    "Input: nums1 = [1,2,3], nums2 = [2,4,6]  \n",
    "Output: [[1,3],[4,6]]  \n",
    "Explanation:  \n",
    "For nums1, nums1[1] = 2 is present at index 0 of nums2, whereas nums1[0] = 1 and nums1[2] = 3 are not present in nums2.   Therefore, answer[0] = [1,3].  \n",
    "For nums2, nums2[0] = 2 is present at index 1 of nums1, whereas nums2[1] = 4 and nums2[2] = 6 are not present in nums2.   Therefore, answer[1] = [4,6].  \n",
    "\n",
    "Ex2:  \n",
    "Input: nums1 = [1,2,3,3], nums2 = [1,1,2,2]  \n",
    "Output: [[3],[]]  \n",
    "Explanation:  \n",
    "For nums1, nums1[2] and nums1[3] are not present in nums2. Since nums1[2] == nums1[3], their value is only included once and answer[0] = [3].  \n",
    "Every integer in nums2 is present in nums1. Therefore, answer[1] = []."
   ]
  },
  {
   "cell_type": "markdown",
   "metadata": {},
   "source": [
    "* 解題想法:  \n",
    "首先定義一個函數，用來找出兩個list中元素的差異為何，主要就是將list中的值轉換成dict之後，用key值來比較差異並回傳元素差異的list，接著將兩個list分別帶入後取得最後的結果"
   ]
  },
  {
   "cell_type": "code",
   "execution_count": null,
   "metadata": {},
   "outputs": [],
   "source": [
    "class Solution:\n",
    "    def findDifference(self, nums1: List[int], nums2: List[int]) -> List[List[int]]:\n",
    "        def getDiff(num1, num2):\n",
    "            result = []\n",
    "            freq1 = {}\n",
    "            freq2 = {}\n",
    "            for num in num1:\n",
    "                if num not in freq1.keys():\n",
    "                    freq1[num] = 1\n",
    "                else:\n",
    "                    freq1[num] += 1\n",
    "            for num in num2:\n",
    "                if num not in freq2.keys():\n",
    "                    freq2[num] = 1\n",
    "                else:\n",
    "                    freq2[num] + 1\n",
    "            key1 = list(freq1.keys())\n",
    "            key2 = list(freq2.keys())\n",
    "            for key in key1:\n",
    "                if key not in key2:\n",
    "                    result.append(key)\n",
    "            return result\n",
    "        \n",
    "        result = []\n",
    "        result.append(getDiff(nums1, nums2))\n",
    "        result.append(getDiff(nums2, nums1))\n",
    "        return result"
   ]
  }
 ],
 "metadata": {
  "kernelspec": {
   "display_name": "Python 3",
   "language": "python",
   "name": "python3"
  },
  "language_info": {
   "codemirror_mode": {
    "name": "ipython",
    "version": 3
   },
   "file_extension": ".py",
   "mimetype": "text/x-python",
   "name": "python",
   "nbconvert_exporter": "python",
   "pygments_lexer": "ipython3",
   "version": "3.6.4"
  }
 },
 "nbformat": 4,
 "nbformat_minor": 2
}
