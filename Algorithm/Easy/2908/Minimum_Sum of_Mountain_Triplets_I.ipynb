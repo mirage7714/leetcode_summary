{
 "cells": [
  {
   "cell_type": "markdown",
   "id": "3a6d42f1-478c-4ef3-876f-ed7850c5e786",
   "metadata": {},
   "source": [
    "# 本題要找出最小的路徑總和是多少 (\\#Array )\n",
    "原題目連結：https://leetcode.com/problems/minimum-sum-of-mountain-triplets-i/description/  \n",
    "\n",
    "You are given a 0-indexed array nums of integers.  \n",
    "\n",
    "A triplet of indices (i, j, k) is a mountain if:  \n",
    "\n",
    "i < j < k  \n",
    "nums[i] < nums[j] and nums[k] < nums[j]  \n",
    "Return the minimum possible sum of a mountain triplet of nums. If no such triplet exists, return -1.  \n",
    "\n",
    "範例：  \n",
    "Ex1:  \n",
    "Input: nums = [8,6,1,5,3]  \n",
    "Output: 9  \n",
    "Explanation: Triplet (2, 3, 4) is a mountain triplet of sum 9 since:   \n",
    "- 2 < 3 < 4  \n",
    "- nums[2] < nums[3] and nums[4] < nums[3]  \n",
    "And the sum of this triplet is nums[2] + nums[3] + nums[4] = 9. It can be shown that there are no mountain triplets with a sum of less than 9.  \n",
    "\n",
    "Ex2:  \n",
    "Input: nums = [5,4,8,7,10,2]  \n",
    "Output: 13  \n",
    "Explanation: Triplet (1, 3, 5) is a mountain triplet of sum 13 since:   \n",
    "- 1 < 3 < 5  \n",
    "- nums[1] < nums[3] and nums[5] < nums[3]  \n",
    "And the sum of this triplet is nums[1] + nums[3] + nums[5] = 13. It can be shown that there are no mountain triplets with a sum of less than 13.  \n",
    "\n",
    "Ex3:  \n",
    "Input: nums = [6,5,4,3,4,5]  \n",
    "Output: -1  \n",
    "Explanation: It can be shown that there are no mountain triplets in nums."
   ]
  },
  {
   "cell_type": "markdown",
   "id": "fe2066fd-fd09-4bba-9cce-205a880e0055",
   "metadata": {},
   "source": [
    "* 解題想法：  \n",
    "用三個迴圈來進行檢查，如果有符合條件的情況則將總和算出後與目前結果比較並更新結果，最後回傳最小值做為答案"
   ]
  },
  {
   "cell_type": "code",
   "execution_count": null,
   "id": "7cefee5d-417e-4026-9e8f-295cc4a9348a",
   "metadata": {},
   "outputs": [],
   "source": [
    "class Solution:\n",
    "    def minimumSum(self, nums: List[int]) -> int:\n",
    "        res = -1\n",
    "        for i in range(len(nums)-2):\n",
    "            for j in range(i+1, len(nums)-1):\n",
    "                for k in range(j+1, len(nums)):\n",
    "                    if nums[i] < nums[j] and nums[j] > nums[k]:\n",
    "                        t = nums[i] + nums[j] + nums[k]\n",
    "                        if res == -1:\n",
    "                            res = t\n",
    "                        else:\n",
    "                            res = min(t, res)\n",
    "        return res"
   ]
  }
 ],
 "metadata": {
  "kernelspec": {
   "display_name": "Python 3 (ipykernel)",
   "language": "python",
   "name": "python3"
  },
  "language_info": {
   "codemirror_mode": {
    "name": "ipython",
    "version": 3
   },
   "file_extension": ".py",
   "mimetype": "text/x-python",
   "name": "python",
   "nbconvert_exporter": "python",
   "pygments_lexer": "ipython3",
   "version": "3.10.9"
  }
 },
 "nbformat": 4,
 "nbformat_minor": 5
}
