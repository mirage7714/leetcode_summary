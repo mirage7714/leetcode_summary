{
 "cells": [
  {
   "cell_type": "markdown",
   "id": "c7bce980-db51-41f4-a556-7e35160d6e2b",
   "metadata": {},
   "source": [
    "# 本題要找出最少要操作幾次才能把list中剩下指定的數值 (\\#Array, \\#HashMap )\n",
    "原題目連結: https://leetcode.com/problems/minimum-operations-to-make-array-values-equal-to-k/description/  \n",
    "\n",
    "You are given an integer array nums and an integer k.  \n",
    "An integer h is called valid if all values in the array that are strictly greater than h are identical.  \n",
    "For example, if nums = [10, 8, 10, 8], a valid integer is h = 9 because all nums[i] > 9 are equal to 10, but 5 is not a valid integer.  \n",
    "You are allowed to perform the following operation on nums:  \n",
    "Select an integer h that is valid for the current values in nums.  \n",
    "For each index i where nums[i] > h, set nums[i] to h.  \n",
    "Return the minimum number of operations required to make every element in nums equal to k. If it is impossible to make all elements equal to k, return -1.  \n",
    "\n",
    "範例:  \n",
    "Ex1:  \n",
    "Input: nums = [5,2,5,4,5], k = 2  \n",
    "Output: 2  \n",
    "Explanation:  \n",
    "The operations can be performed in order using valid integers 4 and then 2.  \n",
    "\n",
    "Ex2:  \n",
    "Input: nums = [2,1,2], k = 2  \n",
    "Output: -1  \n",
    "Explanation:  \n",
    "It is impossible to make all the values equal to 2.  \n",
    "\n",
    "Ex3:  \n",
    "Input: nums = [9,7,5,3], k = 1  \n",
    "Output: 4  \n",
    "Explanation:  \n",
    "The operations can be performed using valid integers in the order 7, 5, 3, and 1."
   ]
  },
  {
   "cell_type": "markdown",
   "id": "209e7a38-e258-43bc-a728-f94c4caacd44",
   "metadata": {},
   "source": [
    "* 解題想法:  \n",
    "首先將list中所有的數字放入dict中，在過程中如果有發現比K小的數值時則代表無法達成指定條件，就回傳-1，接著檢查dict的key值，如果k在key中則結果為key長度-1，否則結果就是key的長度"
   ]
  },
  {
   "cell_type": "code",
   "execution_count": null,
   "id": "dcb10cdf-03d8-4daa-a62b-2c9ec71aba6f",
   "metadata": {},
   "outputs": [],
   "source": [
    "class Solution:\n",
    "    def minOperations(self, nums: List[int], k: int) -> int:\n",
    "        count = {}\n",
    "        res = 0\n",
    "        for n in nums:\n",
    "            if n not in count.keys():\n",
    "                count[n] = 0\n",
    "            count[n] += 1\n",
    "            if n < k:\n",
    "                res = -1\n",
    "                return res\n",
    "        keys = list(count.keys())\n",
    "        if k in keys:\n",
    "            res = len(keys) - 1\n",
    "        else:\n",
    "            res = len(keys)\n",
    "        return res"
   ]
  }
 ],
 "metadata": {
  "kernelspec": {
   "display_name": "Python 3 (ipykernel)",
   "language": "python",
   "name": "python3"
  },
  "language_info": {
   "codemirror_mode": {
    "name": "ipython",
    "version": 3
   },
   "file_extension": ".py",
   "mimetype": "text/x-python",
   "name": "python",
   "nbconvert_exporter": "python",
   "pygments_lexer": "ipython3",
   "version": "3.9.13"
  }
 },
 "nbformat": 4,
 "nbformat_minor": 5
}
