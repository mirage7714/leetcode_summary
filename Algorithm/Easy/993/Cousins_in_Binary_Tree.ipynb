{
 "cells": [
  {
   "cell_type": "markdown",
   "metadata": {},
   "source": [
    "# 本題要找出在相同高度時，是否有兩個節點的值可滿足題目要求的數值\n",
    "原題目連結: https://leetcode.com/problems/cousins-in-binary-tree/  \n",
    "\n",
    "Given the root of a binary tree with unique values and the values of two different nodes of the tree x and y, return true if the nodes corresponding to the values x and y in the tree are cousins, or false otherwise.  \n",
    "Two nodes of a binary tree are cousins if they have the same depth with different parents.  \n",
    "Note that in a binary tree, the root node is at the depth 0, and children of each depth k node are at the depth k + 1.  \n",
    "\n",
    "範例:  \n",
    "Ex1:  \n",
    "Input: root = [1,2,3,4], x = 4, y = 3  \n",
    "Output: false  \n",
    "\n",
    "Ex2:  \n",
    "Input: root = [1,2,3,null,4,null,5], x = 5, y = 4  \n",
    "Output: true  \n",
    "\n",
    "Ex3:  \n",
    "Input: root = [1,2,3,null,4], x = 2, y = 3  \n",
    "Output: false"
   ]
  },
  {
   "cell_type": "markdown",
   "metadata": {},
   "source": [
    "* 解題想法:  \n",
    "依題目要求，兩個節點的值除了須符合題目要求之外，也不可以是同個母節點的分枝，在這題中使用BFS去進行走訪，並在走訪時直接將子節點的數值取出後檢查是否有符合題目的兩個值，如果有符合則組成一個list放入另一個數值的list中，等這層走訪結束後，檢查在這一層的數值中是否有符合條件的值，如果有符合且不屬於同個母分枝則回傳True，否則繼續走訪直到結束"
   ]
  },
  {
   "cell_type": "code",
   "execution_count": null,
   "metadata": {},
   "outputs": [],
   "source": [
    "# Definition for a binary tree node.\n",
    "# class TreeNode:\n",
    "#     def __init__(self, val=0, left=None, right=None):\n",
    "#         self.val = val\n",
    "#         self.left = left\n",
    "#         self.right = right\n",
    "class Solution:\n",
    "    def isCousins(self, root: Optional[TreeNode], x: int, y: int) -> bool:\n",
    "        result = False\n",
    "        temp = [root]\n",
    "        while len(temp) > 0:\n",
    "            nodes = []\n",
    "            val = []\n",
    "            for t in temp:\n",
    "                v = []\n",
    "                if t.left != None:\n",
    "                    l = t.left\n",
    "                    nodes.append(l)\n",
    "                    if l.val == x or l.val == y:\n",
    "                        v.append(l.val)\n",
    "                if t.right != None:\n",
    "                    r = t.right\n",
    "                    nodes.append(r)\n",
    "                    if r.val == x or r.val == y:\n",
    "                        v.append(r.val)\n",
    "                if len(v) > 0:\n",
    "                    val.append(v)\n",
    "            if len(val) > 1:\n",
    "                x_exist = False\n",
    "                y_exist = False\n",
    "                all_exist = False\n",
    "                for v in val:\n",
    "                    if len(v) == 2:\n",
    "                        all_exist = True\n",
    "                    elif x in v:\n",
    "                        x_exist = True\n",
    "                    else:\n",
    "                        y_exist = True\n",
    "                if x_exist and y_exist:\n",
    "                    result = True\n",
    "                    break\n",
    "                elif x_exist and all_exist:\n",
    "                    result = True\n",
    "                    break\n",
    "                elif y_exist and all_exist:\n",
    "                    result = True\n",
    "                    break\n",
    "            temp.clear()\n",
    "            temp += nodes\n",
    "        return result"
   ]
  }
 ],
 "metadata": {
  "kernelspec": {
   "display_name": "Python 3",
   "language": "python",
   "name": "python3"
  },
  "language_info": {
   "codemirror_mode": {
    "name": "ipython",
    "version": 3
   },
   "file_extension": ".py",
   "mimetype": "text/x-python",
   "name": "python",
   "nbconvert_exporter": "python",
   "pygments_lexer": "ipython3",
   "version": "3.7.4"
  }
 },
 "nbformat": 4,
 "nbformat_minor": 4
}
