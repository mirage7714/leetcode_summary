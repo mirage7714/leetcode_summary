{
 "cells": [
  {
   "cell_type": "markdown",
   "metadata": {},
   "source": [
    "# 本題要找出去掉最大值與最小值後的平均值\n",
    "原題目連結：https://leetcode.com/problems/average-salary-excluding-the-minimum-and-maximum-salary/  \n",
    "\n",
    "範例：  \n",
    "Ex1:  \n",
    "Input: salary = [4000,3000,1000,2000]  \n",
    "Output: 2500.00000  \n",
    "Explanation: Minimum salary and maximum salary are 1000 and 4000 respectively.  \n",
    "Average salary excluding minimum and maximum salary is (2000+3000)/2= 2500  \n",
    "\n",
    "Ex2:  \n",
    "Input: salary = [1000,2000,3000]  \n",
    "Output: 2000.00000  \n",
    "Explanation: Minimum salary and maximum salary are 1000 and 3000 respectively.  \n",
    "Average salary excluding minimum and maximum salary is (2000)/1= 2000  \n",
    "\n",
    "Ex3:  \n",
    "Input: salary = [6000,5000,4000,3000,2000,1000]  \n",
    "Output: 3500.00000  \n",
    "\n",
    "Ex4:  \n",
    "Input: salary = [8000,9000,2000,3000,6000,1000]  \n",
    "Output: 4750.00000"
   ]
  },
  {
   "cell_type": "markdown",
   "metadata": {},
   "source": [
    "* 解題想法：  \n",
    "找出array中最大與最小的值，剩下的算出平均值後就是答案"
   ]
  },
  {
   "cell_type": "code",
   "execution_count": null,
   "metadata": {},
   "outputs": [],
   "source": [
    "class Solution:\n",
    "    def average(self, salary: List[int]) -> float:\n",
    "        s_max = max(salary)\n",
    "        s_min = min(salary)\n",
    "        total = 0\n",
    "        count = 0\n",
    "        for s in salary:\n",
    "            if s != s_max and s!= s_min:\n",
    "                total += s\n",
    "                count += 1\n",
    "        return total / count"
   ]
  }
 ],
 "metadata": {
  "kernelspec": {
   "display_name": "Python 3",
   "language": "python",
   "name": "python3"
  },
  "language_info": {
   "codemirror_mode": {
    "name": "ipython",
    "version": 3
   },
   "file_extension": ".py",
   "mimetype": "text/x-python",
   "name": "python",
   "nbconvert_exporter": "python",
   "pygments_lexer": "ipython3",
   "version": "3.8.3"
  }
 },
 "nbformat": 4,
 "nbformat_minor": 4
}
