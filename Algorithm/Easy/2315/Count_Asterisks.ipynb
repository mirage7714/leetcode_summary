{
 "cells": [
  {
   "cell_type": "markdown",
   "metadata": {},
   "source": [
    "# 本題要找出共有幾個星號符合指定條件\n",
    "原題目連結: https://leetcode.com/problems/count-asterisks/  \n",
    "\n",
    "You are given a string s, where every two consecutive vertical bars '|' are grouped into a pair. In other words, the 1st and 2nd '|' make a pair, the 3rd and 4th '|' make a pair, and so forth.  \n",
    "\n",
    "Return the number of '*' in s, excluding the '*' between each pair of '|'.  \n",
    "\n",
    "Note that each '|' will belong to exactly one pair.  \n",
    "\n",
    "範例:  \n",
    "Ex1:  \n",
    "Input: s = \"l|\\*e\\*et|c\\*\\*o|\\*de|\"  \n",
    "Output: 2  \n",
    "Explanation: The considered characters are underlined: \"l|\\*e\\*et|c\\*\\*o|\\*de|\".  \n",
    "The characters between the first and second '|' are excluded from the answer.  \n",
    "Also, the characters between the third and fourth '|' are excluded from the answer.  \n",
    "There are 2 asterisks considered. Therefore, we return 2.  \n",
    "\n",
    "Ex2:  \n",
    "Input: s = \"iamprogrammer\"  \n",
    "Output: 0    \n",
    "Explanation: In this example, there are no asterisks in s. Therefore, we return 0.  \n",
    "\n",
    "Ex3:  \n",
    "Input: s = \"yo|uar|e\\*\\*|b|e\\*\\*\\*au|tifu|l\"  \n",
    "Output: 5  \n",
    "Explanation: The considered characters are underlined: \"yo|uar|e\\*\\*|b|e\\*\\*\\*au|tifu|l\". There are 5 asterisks considered. Therefore, we return 5.  "
   ]
  },
  {
   "cell_type": "markdown",
   "metadata": {},
   "source": [
    "* 解題想法:  \n",
    "依題目要求，星號出現在|的pair之外才算有效，因此用一個bool來記錄是否在pair中，如果當字母為|時，則將這個bool進行反向，如果字母是星號時，如果不是在pair中才列入計算，最後回傳有效的星號數量有多少"
   ]
  },
  {
   "cell_type": "code",
   "execution_count": null,
   "metadata": {},
   "outputs": [],
   "source": [
    "class Solution:\n",
    "    def countAsterisks(self, s: str) -> int:\n",
    "        count = 0\n",
    "        is_pair = False\n",
    "        for m in s:\n",
    "            if m == '|':\n",
    "                is_pair = not is_pair\n",
    "            elif m == '*':\n",
    "                if not is_pair:\n",
    "                    count += 1\n",
    "        return count"
   ]
  }
 ],
 "metadata": {
  "kernelspec": {
   "display_name": "Python 3",
   "language": "python",
   "name": "python3"
  },
  "language_info": {
   "codemirror_mode": {
    "name": "ipython",
    "version": 3
   },
   "file_extension": ".py",
   "mimetype": "text/x-python",
   "name": "python",
   "nbconvert_exporter": "python",
   "pygments_lexer": "ipython3",
   "version": "3.7.4"
  }
 },
 "nbformat": 4,
 "nbformat_minor": 4
}
