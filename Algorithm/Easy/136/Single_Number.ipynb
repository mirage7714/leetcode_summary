{
 "cells": [
  {
   "cell_type": "markdown",
   "metadata": {},
   "source": [
    "# 本題要找出只有出現過一次的數字為何\n",
    "原題目連結: https://leetcode.com/problems/single-number/  \n",
    "\n",
    "Given a non-empty array of integers nums, every element appears twice except for one. Find that single one.  \n",
    "You must implement a solution with a linear runtime complexity and use only constant extra space.  \n",
    "\n",
    "範例:  \n",
    "Ex1:  \n",
    "Input: nums = [2,2,1]  \n",
    "Output: 1  \n",
    "\n",
    "Ex2:  \n",
    "Input: nums = [4,1,2,1,2]  \n",
    "Output: 4  \n",
    "\n",
    "Ex3:  \n",
    "Input: nums = [1]  \n",
    "Output: 1"
   ]
  },
  {
   "cell_type": "markdown",
   "metadata": {},
   "source": [
    "* 解題想法:  \n",
    "首先將list進行排序，接著開始從頭兩兩一組檢查是否為相同的數字，如果不相同的時候，則回傳弟一個數字，因為只有弟一個數字有可能是只出現一次的數字  \n",
    "如果最後都沒有不相同的數字，則代表最後一個數字是只出現一次的，另外如果list長度為1的時候，則直接回傳也不用額外進行判斷了"
   ]
  },
  {
   "cell_type": "code",
   "execution_count": null,
   "metadata": {},
   "outputs": [],
   "source": [
    "class Solution:\n",
    "    def singleNumber(self, nums: List[int]) -> int:\n",
    "        nums.sort()\n",
    "        result = 0\n",
    "        is_found = False\n",
    "        if len(nums) > 1:\n",
    "            for m in range(0, len(nums)-1, 2):\n",
    "                if nums[m] != nums[m+1]:\n",
    "                    result = nums[m]\n",
    "                    is_found = True\n",
    "                    break\n",
    "            if not is_found:\n",
    "                result = nums[-1]\n",
    "        else:\n",
    "            result = nums[0]\n",
    "        return result"
   ]
  }
 ],
 "metadata": {
  "kernelspec": {
   "display_name": "Python 3",
   "language": "python",
   "name": "python3"
  },
  "language_info": {
   "codemirror_mode": {
    "name": "ipython",
    "version": 3
   },
   "file_extension": ".py",
   "mimetype": "text/x-python",
   "name": "python",
   "nbconvert_exporter": "python",
   "pygments_lexer": "ipython3",
   "version": "3.7.6"
  }
 },
 "nbformat": 4,
 "nbformat_minor": 4
}
