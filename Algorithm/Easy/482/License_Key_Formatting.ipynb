{
 "cells": [
  {
   "cell_type": "markdown",
   "metadata": {},
   "source": [
    "# 本題要將題目要求的字串重新進行排序並插入'-'符號\n",
    "原題目連結: https://leetcode.com/problems/license-key-formatting/  \n",
    "\n",
    "You are given a license key represented as a string S which consists only alphanumeric character and dashes. The string is separated into N+1 groups by N dashes.  \n",
    "\n",
    "Given a number K, we would want to reformat the strings such that each group contains exactly K characters, except for the first group which could be shorter than K, but still must contain at least one character. Furthermore, there must be a dash inserted between two groups and all lowercase letters should be converted to uppercase.  \n",
    "\n",
    "Given a non-empty string S and a number K, format the string according to the rules described above.  \n",
    "\n",
    "範例:  \n",
    "Ex1:  \n",
    "Input: S = \"5F3Z-2e-9-w\", K = 4  \n",
    "Output: \"5F3Z-2E9W\"  \n",
    "Explanation: The string S has been split into two parts, each part has 4 characters.  \n",
    "Note that the two extra dashes are not needed and can be removed.  \n",
    "\n",
    "Ex2:  \n",
    "Input: S = \"2-5g-3-J\", K = 2  \n",
    "Output: \"2-5G-3J\"  \n",
    "Explanation: The string S has been split into three parts, each part has 2 characters except the first part as it could be shorter as mentioned above."
   ]
  },
  {
   "cell_type": "markdown",
   "metadata": {},
   "source": [
    "* 解題想法:  \n",
    "題目要求將字串中的'-'位置重新進行排序，要以要求的字數來插入'-'，另外英文的部分也要將小寫改成大寫  \n",
    "第一節的字數可以少於要求的數字，但不可為0  \n",
    "因此改成從後面開始往前算，可以確保後面的數字都可以符合題目的要求"
   ]
  },
  {
   "cell_type": "code",
   "execution_count": null,
   "metadata": {},
   "outputs": [],
   "source": [
    "class Solution:\n",
    "    def licenseKeyFormatting(self, S: str, K: int) -> str:\n",
    "        digits = ['0','1','2','3','4','5','6','7','8','9']\n",
    "        r = S.replace('-','')\n",
    "        result = ''\n",
    "        count = 0\n",
    "        for m in range(len(r)-1, -1, -1):\n",
    "            count += 1\n",
    "            if r[m] in digits:\n",
    "                result = r[m] + result\n",
    "            else:\n",
    "                result = r[m].upper() + result\n",
    "            if count % K == 0 and m != 0:\n",
    "                result = '-' + result\n",
    "        return result"
   ]
  }
 ],
 "metadata": {
  "kernelspec": {
   "display_name": "Python 3",
   "language": "python",
   "name": "python3"
  },
  "language_info": {
   "codemirror_mode": {
    "name": "ipython",
    "version": 3
   },
   "file_extension": ".py",
   "mimetype": "text/x-python",
   "name": "python",
   "nbconvert_exporter": "python",
   "pygments_lexer": "ipython3",
   "version": "3.7.4"
  }
 },
 "nbformat": 4,
 "nbformat_minor": 2
}
