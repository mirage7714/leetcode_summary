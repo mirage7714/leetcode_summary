{
 "cells": [
  {
   "cell_type": "markdown",
   "metadata": {},
   "source": [
    "# 本題要找出一個array，長度為n並總和為0\n",
    "原題目連結: https://leetcode.com/problems/find-n-unique-integers-sum-up-to-zero/  \n",
    "\n",
    "Given an integer n, return any array containing n unique integers such that they add up to 0.  \n",
    "\n",
    "範例:  \n",
    "Ex1:  \n",
    "Input: n = 5  \n",
    "Output: [-7,-1,1,3,4]  \n",
    "Explanation: These arrays also are accepted [-5,-1,1,2,3] , [-3,-1,2,-2,4].  \n",
    "\n",
    "Ex2:  \n",
    "Input: n = 3  \n",
    "Output: [-1,0,1]  \n",
    "\n",
    "Ex3:  \n",
    "Input: n = 1  \n",
    "Output: [0]"
   ]
  },
  {
   "cell_type": "markdown",
   "metadata": {},
   "source": [
    "* 解題想法:  \n",
    "由於題目只有要求說總和為0的情況，並沒有其他的特別條件，因此將提供的長度/2後分別加入正負數，另外如果n為奇數的情況下再多加入0  \n",
    "就是題目想要求的答案"
   ]
  },
  {
   "cell_type": "code",
   "execution_count": null,
   "metadata": {},
   "outputs": [],
   "source": [
    "class Solution:\n",
    "    def sumZero(self, n: int) -> List[int]:\n",
    "        result = []\n",
    "        if n % 2 == 0:\n",
    "            for m in range(1, int(n/2)+1):\n",
    "                result.append(m)\n",
    "                result.append(-m)\n",
    "        else:\n",
    "            for m in range(1, int((n-1)/2)+1):\n",
    "                result.append(m)\n",
    "                result.append(-m)\n",
    "            result.append(0)\n",
    "        return result"
   ]
  }
 ],
 "metadata": {
  "kernelspec": {
   "display_name": "Python 3",
   "language": "python",
   "name": "python3"
  },
  "language_info": {
   "codemirror_mode": {
    "name": "ipython",
    "version": 3
   },
   "file_extension": ".py",
   "mimetype": "text/x-python",
   "name": "python",
   "nbconvert_exporter": "python",
   "pygments_lexer": "ipython3",
   "version": "3.7.4"
  }
 },
 "nbformat": 4,
 "nbformat_minor": 2
}
