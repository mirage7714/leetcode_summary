{
 "cells": [
  {
   "cell_type": "markdown",
   "id": "4e3aae89-a437-4404-8f73-79bcd800635d",
   "metadata": {},
   "source": [
    "# 本題要找出數字中最大的乘積為多少 (\\#Math )\n",
    "原題目連結: https://leetcode.com/problems/maximum-product-of-two-digits/description/  \n",
    "\n",
    "You are given a positive integer n.  \n",
    "Return the maximum product of any two digits in n.  \n",
    "Note: You may use the same digit twice if it appears more than once in n.  \n",
    "\n",
    "範例:  \n",
    "Ex1:  \n",
    "Input: n = 31  \n",
    "Output: 3  \n",
    "Explanation:  \n",
    "The digits of n are [3, 1].  \n",
    "The possible products of any two digits are: 3 * 1 = 3.  \n",
    "The maximum product is 3.  \n",
    "\n",
    "Ex2:  \n",
    "Input: n = 22  \n",
    "Output: 4  \n",
    "Explanation:  \n",
    "The digits of n are [2, 2].  \n",
    "The possible products of any two digits are: 2 * 2 = 4.   \n",
    "The maximum product is 4.  \n",
    "\n",
    "Ex3:  \n",
    "Input: n = 124  \n",
    "Output: 8  \n",
    "Explanation:  \n",
    "The digits of n are [1, 2, 4].  \n",
    "The possible products of any two digits are: 1 * 2 = 2, 1 * 4 = 4, 2 * 4 = 8.  \n",
    "The maximum product is 8.  "
   ]
  },
  {
   "cell_type": "markdown",
   "id": "f2a135ab-782c-486b-870f-50581acbef38",
   "metadata": {},
   "source": [
    "* 解題想法:  \n",
    "首先將數字轉換成list後找出最大的兩個數，並找出兩數的成績就是答案"
   ]
  },
  {
   "cell_type": "code",
   "execution_count": null,
   "id": "24884317-4b67-4869-b4ce-9a10c844f85b",
   "metadata": {},
   "outputs": [],
   "source": [
    "class Solution:\n",
    "    def maxProduct(self, n: int) -> int:\n",
    "        d = [i for i in str(n)]\n",
    "        d.sort()\n",
    "        return int(d[-1]) * int(d[-2])"
   ]
  }
 ],
 "metadata": {
  "kernelspec": {
   "display_name": "Python 3 (ipykernel)",
   "language": "python",
   "name": "python3"
  },
  "language_info": {
   "codemirror_mode": {
    "name": "ipython",
    "version": 3
   },
   "file_extension": ".py",
   "mimetype": "text/x-python",
   "name": "python",
   "nbconvert_exporter": "python",
   "pygments_lexer": "ipython3",
   "version": "3.9.13"
  }
 },
 "nbformat": 4,
 "nbformat_minor": 5
}
