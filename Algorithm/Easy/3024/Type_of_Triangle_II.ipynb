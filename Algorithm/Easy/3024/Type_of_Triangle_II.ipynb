{
 "cells": [
  {
   "cell_type": "markdown",
   "id": "67fd970f-4817-4109-b999-e4b857c408d3",
   "metadata": {},
   "source": [
    "# 本題要判斷為哪種三角形 (\\#Math )\n",
    "原題目連結: https://leetcode.com/problems/type-of-triangle-ii/description/  \n",
    "\n",
    "You are given a 0-indexed integer array nums of size 3 which can form the sides of a triangle.  \n",
    "\n",
    "A triangle is called equilateral if it has all sides of equal length.  \n",
    "A triangle is called isosceles if it has exactly two sides of equal length.  \n",
    "A triangle is called scalene if all its sides are of different lengths.  \n",
    "Return a string representing the type of triangle that can be formed or \"none\" if it cannot form a triangle.  \n",
    "\n",
    "範例:  \n",
    "Ex1:  \n",
    "Input: nums = [3,3,3]  \n",
    "Output: \"equilateral\"  \n",
    "Explanation: Since all the sides are of equal length, therefore, it will form an equilateral triangle.  \n",
    "\n",
    "Ex2:  \n",
    "Input: nums = [3,4,5]  \n",
    "Output: \"scalene\"  \n",
    "Explanation:   \n",
    "nums[0] + nums[1] = 3 + 4 = 7, which is greater than nums[2] = 5.  \n",
    "nums[0] + nums[2] = 3 + 5 = 8, which is greater than nums[1] = 4.  \n",
    "nums[1] + nums[2] = 4 + 5 = 9, which is greater than nums[0] = 3.   \n",
    "Since the sum of the two sides is greater than the third side for all three cases, therefore, it can form a triangle.  \n",
    "As all the sides are of different lengths, it will form a scalene triangle."
   ]
  },
  {
   "cell_type": "markdown",
   "id": "cfab5964-fbd4-4c3b-9152-8775fcc16a9b",
   "metadata": {},
   "source": [
    "* 解題想法:  \n",
    "首先判斷是否三邊長相同，如果相同則回傳正三角形，接著將三邊進行排序，如果最小兩邊長相加小於或等於第三邊則回傳none，接著如果有兩邊長相同則回傳等腰三角形，如果都不符合則回傳三角形"
   ]
  },
  {
   "cell_type": "code",
   "execution_count": null,
   "id": "255521ca-096b-4822-a690-4130b9a6e8bb",
   "metadata": {},
   "outputs": [],
   "source": [
    "class Solution:\n",
    "    def triangleType(self, nums: List[int]) -> str:\n",
    "        if max(nums) == min(nums):\n",
    "            return 'equilateral'\n",
    "        nums.sort()\n",
    "        if nums[0] + nums[1] <= nums[2]:\n",
    "            return 'none'\n",
    "        if (nums[0] == nums[1] or nums[1] == nums[2]):\n",
    "            return 'isosceles'\n",
    "        else:\n",
    "            return 'scalene'"
   ]
  }
 ],
 "metadata": {
  "kernelspec": {
   "display_name": "Python 3 (ipykernel)",
   "language": "python",
   "name": "python3"
  },
  "language_info": {
   "codemirror_mode": {
    "name": "ipython",
    "version": 3
   },
   "file_extension": ".py",
   "mimetype": "text/x-python",
   "name": "python",
   "nbconvert_exporter": "python",
   "pygments_lexer": "ipython3",
   "version": "3.9.13"
  }
 },
 "nbformat": 4,
 "nbformat_minor": 5
}
