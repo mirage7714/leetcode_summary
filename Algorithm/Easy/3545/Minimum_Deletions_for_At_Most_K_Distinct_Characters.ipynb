{
 "cells": [
  {
   "cell_type": "markdown",
   "id": "355a5e66-eca5-480c-b822-88186cb8cbf6",
   "metadata": {},
   "source": [
    "# 本題要找出要留下k個不重複字母 最少需要刪除多少其他的字母 (\\#String )\n",
    "原題目連結: https://leetcode.com/problems/minimum-deletions-for-at-most-k-distinct-characters/description/  \n",
    "\n",
    "You are given a string s consisting of lowercase English letters, and an integer k.  \n",
    "Your task is to delete some (possibly none) of the characters in the string so that the number of distinct characters in the resulting string is at most k.  \n",
    "Return the minimum number of deletions required to achieve this.  \n",
    "\n",
    "範例:  \n",
    "Ex1:  \n",
    "Input: s = \"abc\", k = 2  \n",
    "Output: 1  \n",
    "Explanation:  \n",
    "s has three distinct characters: 'a', 'b' and 'c', each with a frequency of 1.  \n",
    "Since we can have at most k = 2 distinct characters, remove all occurrences of any one character from the string.  \n",
    "For example, removing all occurrences of 'c' results in at most k distinct characters. Thus, the answer is 1.  \n",
    "\n",
    "Ex2:  \n",
    "Input: s = \"aabb\", k = 2  \n",
    "Output: 0  \n",
    "Explanation:  \n",
    "s has two distinct characters ('a' and 'b') with frequencies of 2 and 2, respectively.  \n",
    "Since we can have at most k = 2 distinct characters, no deletions are required. Thus, the answer is 0.  \n",
    "\n",
    "Ex3:  \n",
    "Input: s = \"yyyzz\", k = 1  \n",
    "Output: 2  \n",
    "Explanation:  \n",
    "s has two distinct characters ('y' and 'z') with frequencies of 3 and 2, respectively.  \n",
    "Since we can have at most k = 1 distinct character, remove all occurrences of any one character from the string.  \n",
    "Removing all 'z' results in at most k distinct characters. Thus, the answer is 2.  "
   ]
  },
  {
   "cell_type": "markdown",
   "id": "a7acd211-22b3-46d7-8707-6e39aa3a46ce",
   "metadata": {},
   "source": [
    "* 解題想法:  \n",
    "首先用一個dict來存放每個字母出現的頻率，接著用value值來進行排序，當現有的數量大於指定的值時則取出出現次數最小的值並加到結果中，直到滿足需求為止，最後回傳結果就是答案"
   ]
  },
  {
   "cell_type": "code",
   "execution_count": null,
   "id": "3171109d-a2d2-4120-a3c3-ef0de694a0de",
   "metadata": {},
   "outputs": [],
   "source": [
    "class Solution:\n",
    "    def minDeletion(self, s: str, k: int) -> int:\n",
    "        count = {}\n",
    "        res = 0\n",
    "        for i in s:\n",
    "            if i not in count.keys():\n",
    "                count[i] = 0\n",
    "            count[i] += 1\n",
    "        val = list(count.values())\n",
    "        val.sort(reverse = True)\n",
    "        while len(val) > k:\n",
    "            res += val.pop()\n",
    "        return res"
   ]
  }
 ],
 "metadata": {
  "kernelspec": {
   "display_name": "Python 3 (ipykernel)",
   "language": "python",
   "name": "python3"
  },
  "language_info": {
   "codemirror_mode": {
    "name": "ipython",
    "version": 3
   },
   "file_extension": ".py",
   "mimetype": "text/x-python",
   "name": "python",
   "nbconvert_exporter": "python",
   "pygments_lexer": "ipython3",
   "version": "3.9.13"
  }
 },
 "nbformat": 4,
 "nbformat_minor": 5
}
