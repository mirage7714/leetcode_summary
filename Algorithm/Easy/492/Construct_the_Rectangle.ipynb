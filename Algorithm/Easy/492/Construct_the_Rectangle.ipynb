{
 "cells": [
  {
   "cell_type": "markdown",
   "metadata": {},
   "source": [
    "# 本題要找出最適合的長方形長寬分布\n",
    "原題目連結: https://leetcode.com/problems/construct-the-rectangle/  \n",
    "\n",
    "A web developer needs to know how to design a web page's size. So, given a specific rectangular web page’s area, your job by now is to design a rectangular web page, whose length L and width W satisfy the following requirements:  \n",
    "\n",
    "The area of the rectangular web page you designed must equal to the given target area.  \n",
    "The width W should not be larger than the length L, which means L >= W.  \n",
    "The difference between length L and width W should be as small as possible.  \n",
    "Return an array [L, W] where L and W are the length and width of the web page you designed in sequence.  \n",
    "\n",
    "範例:  \n",
    "Ex1:  \n",
    "Input: area = 4  \n",
    "Output: [2,2]  \n",
    "Explanation: The target area is 4, and all the possible ways to construct it are [1,4], [2,2], [4,1].   \n",
    "But according to requirement 2, [1,4] is illegal; according to requirement 3,  [4,1] is not optimal compared to [2,2]. So the length L is 2, and the width W is 2.  \n",
    "\n",
    "Ex2:  \n",
    "Input: area = 37  \n",
    "Output: [37,1]  \n",
    "\n",
    "Ex3:  \n",
    "Input: area = 122122  \n",
    "Output: [427,286]"
   ]
  },
  {
   "cell_type": "markdown",
   "metadata": {},
   "source": [
    "* 解題想法:  \n",
    "在題目要求中，長方形的長必須大於寬，因此在寬度大於長度時就應該要終止迴圈  \n",
    "另外由於題目希望長寬差越小越好，因此如果有更好的組合應該將答案換成更適合的組合"
   ]
  },
  {
   "cell_type": "code",
   "execution_count": null,
   "metadata": {},
   "outputs": [],
   "source": [
    "class Solution:\n",
    "    def constructRectangle(self, area: int) -> List[int]:\n",
    "        result = []\n",
    "        if area > 1:\n",
    "            for n in range(area,1,-1):\n",
    "                if area % n == 0:\n",
    "                    if len(result) == 0:\n",
    "                        result.append(n)\n",
    "                        result.append(int(area/n))\n",
    "                    elif n < int(area/n):\n",
    "                        break\n",
    "                    else:\n",
    "                        if (result[0] - result[1]) > (n-int(area/n)):\n",
    "                            result[0] = n\n",
    "                            result[1] = int(area/n)\n",
    "        elif area == 1:\n",
    "            result.append(1)\n",
    "            result.append(1)\n",
    "        return result"
   ]
  }
 ],
 "metadata": {
  "kernelspec": {
   "display_name": "Python 3",
   "language": "python",
   "name": "python3"
  },
  "language_info": {
   "codemirror_mode": {
    "name": "ipython",
    "version": 3
   },
   "file_extension": ".py",
   "mimetype": "text/x-python",
   "name": "python",
   "nbconvert_exporter": "python",
   "pygments_lexer": "ipython3",
   "version": "3.7.4"
  }
 },
 "nbformat": 4,
 "nbformat_minor": 2
}
