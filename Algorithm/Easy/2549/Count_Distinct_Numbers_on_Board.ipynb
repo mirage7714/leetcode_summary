{
 "cells": [
  {
   "cell_type": "markdown",
   "metadata": {},
   "source": [
    "# 本題要計算到n之間共有多少個不重複的數值 (\\#Math)\n",
    "原題目連結: https://leetcode.com/problems/count-distinct-numbers-on-board/description/  \n",
    "\n",
    "You are given a positive integer n, that is initially placed on a board. Every day, for 109 days, you perform the following procedure:  \n",
    "For each number x present on the board, find all numbers 1 <= i <= n such that x % i == 1.  \n",
    "Then, place those numbers on the board.  \n",
    "Return the number of distinct integers present on the board after 109 days have elapsed.  \n",
    "\n",
    "範例:  \n",
    "Ex1:  \n",
    "Input: n = 5  \n",
    "Output: 4  \n",
    "Explanation: Initially, 5 is present on the board.   \n",
    "The next day, 2 and 4 will be added since 5 % 2 == 1 and 5 % 4 == 1.   \n",
    "After that day, 3 will be added to the board because 4 % 3 == 1.   \n",
    "At the end of a billion days, the distinct numbers on the board will be 2, 3, 4, and 5.   \n",
    "\n",
    "Ex2:  \n",
    "Input: n = 3  \n",
    "Output: 2  \n",
    "Explanation:   \n",
    "Since 3 % 2 == 1, 2 will be added to the board.   \n",
    "After a billion days, the only two distinct numbers on the board are 2 and 3. "
   ]
  },
  {
   "cell_type": "markdown",
   "metadata": {},
   "source": [
    "* 解題想法:  \n",
    "首先檢查n是否大於1，如果大於1的話，這區間有的不重複整數就是n-1個，如果n為1的話，則答案就是1"
   ]
  },
  {
   "cell_type": "code",
   "execution_count": null,
   "metadata": {},
   "outputs": [],
   "source": [
    "class Solution:\n",
    "    def distinctIntegers(self, n: int) -> int:\n",
    "        if n > 1:\n",
    "            return n-1\n",
    "        return 1"
   ]
  }
 ],
 "metadata": {
  "kernelspec": {
   "display_name": "Python 3",
   "language": "python",
   "name": "python3"
  },
  "language_info": {
   "codemirror_mode": {
    "name": "ipython",
    "version": 3
   },
   "file_extension": ".py",
   "mimetype": "text/x-python",
   "name": "python",
   "nbconvert_exporter": "python",
   "pygments_lexer": "ipython3",
   "version": "3.6.4"
  }
 },
 "nbformat": 4,
 "nbformat_minor": 2
}
