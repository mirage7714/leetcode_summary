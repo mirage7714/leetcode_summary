{
 "cells": [
  {
   "cell_type": "markdown",
   "id": "780a2d1b-35f9-44f0-acfb-472112d66679",
   "metadata": {},
   "source": [
    "# 本題要找出共有多少贏家 (\\#Array )\n",
    "原題目連結: https://leetcode.com/problems/find-the-number-of-winning-players/description/  \n",
    "\n",
    "You are given an integer n representing the number of players in a game and a 2D array pick where pick[i] = [xi, yi] represents that the player xi picked a ball of color yi.  \n",
    "Player i wins the game if they pick strictly more than i balls of the same color. In other words,  \n",
    "Player 0 wins if they pick any ball.  \n",
    "Player 1 wins if they pick at least two balls of the same color.  \n",
    "...  \n",
    "Player i wins if they pick at leasti + 1 balls of the same color.  \n",
    "Return the number of players who win the game.  \n",
    "\n",
    "Note that multiple players can win the game.  \n",
    "\n",
    "範例:  \n",
    "Ex1:  \n",
    "Input: n = 4, pick = [[0,0],[1,0],[1,0],[2,1],[2,1],[2,0]]  \n",
    "Output: 2  \n",
    "Explanation:  \n",
    "Player 0 and player 1 win the game, while players 2 and 3 do not win.  \n",
    "\n",
    "Ex2:  \n",
    "Input: n = 5, pick = [[1,1],[1,2],[1,3],[1,4]]  \n",
    "Output: 0  \n",
    "Explanation:  \n",
    "No player wins the game.  \n",
    "\n",
    "Ex3:  \n",
    "Input: n = 5, pick = [[1,1],[2,4],[2,4],[2,4]]  \n",
    "Output: 1  \n",
    "Explanation:  \n",
    "Player 2 wins the game by picking 3 balls with color 4."
   ]
  },
  {
   "cell_type": "markdown",
   "id": "2877c283-cac9-461f-9f9f-ccac00dd5a82",
   "metadata": {},
   "source": [
    "* 解題想法:  \n",
    "用一個dict來放目前玩家的球數，另外用一個變數來記錄目前的玩家為何，接著將pick進行排序後逐個取出每個玩家的資料，如果玩家雨目前的紀錄不相同時則確認目前玩家的最大球數是否有大於玩家的id，如果有則將結果+1，最後回傳玩家統計數"
   ]
  },
  {
   "cell_type": "code",
   "execution_count": null,
   "id": "ef728d83-a089-4f7c-8431-ef127ad24711",
   "metadata": {},
   "outputs": [],
   "source": [
    "class Solution:\n",
    "    def winningPlayerCount(self, n: int, pick: List[List[int]]) -> int:\n",
    "        res = 0\n",
    "        pick.sort()\n",
    "        count = {}\n",
    "        player = -1\n",
    "        for p in pick:\n",
    "            if p[0] != player:\n",
    "                if player != -1: \n",
    "                    if max(list(count.values())) > player:\n",
    "                        res += 1\n",
    "                    count.clear()\n",
    "                player = p[0]\n",
    "                count[p[1]] = 1\n",
    "            else:\n",
    "                if p[1] not in count.keys():\n",
    "                    count[p[1]] = 0\n",
    "                count[p[1]] += 1\n",
    "        if max(list(count.values())) > player:\n",
    "            res += 1\n",
    "        return res  "
   ]
  }
 ],
 "metadata": {
  "kernelspec": {
   "display_name": "Python 3 (ipykernel)",
   "language": "python",
   "name": "python3"
  },
  "language_info": {
   "codemirror_mode": {
    "name": "ipython",
    "version": 3
   },
   "file_extension": ".py",
   "mimetype": "text/x-python",
   "name": "python",
   "nbconvert_exporter": "python",
   "pygments_lexer": "ipython3",
   "version": "3.9.13"
  }
 },
 "nbformat": 4,
 "nbformat_minor": 5
}
