{
 "cells": [
  {
   "cell_type": "markdown",
   "metadata": {},
   "source": [
    "# 本題要以轉換為二進位後有多少1來進行排序\n",
    "原題目連結: https://leetcode.com/problems/sort-integers-by-the-number-of-1-bits/  \n",
    "\n",
    "Given an integer array arr. You have to sort the integers in the array in ascending order by the number of 1's in their binary representation and in case of two or more integers have the same number of 1's you have to sort them in ascending order.  \n",
    "\n",
    "Return the sorted array.  \n",
    "\n",
    "範例:  \n",
    "Ex1:  \n",
    "Input: arr = [0,1,2,3,4,5,6,7,8]  \n",
    "Output: [0,1,2,4,8,3,5,6,7]  \n",
    "Explantion: [0] is the only integer with 0 bits.  \n",
    "[1,2,4,8] all have 1 bit.  \n",
    "[3,5,6] have 2 bits.  \n",
    "[7] has 3 bits.  \n",
    "The sorted array by bits is [0,1,2,4,8,3,5,6,7]  \n",
    "\n",
    "Ex2:  \n",
    "Input: arr = [1024,512,256,128,64,32,16,8,4,2,1]  \n",
    "Output: [1,2,4,8,16,32,64,128,256,512,1024]  \n",
    "Explantion: All integers have 1 bit in the binary representation, you should just sort them in ascending order.  \n",
    "\n",
    "Ex3:  \n",
    "Input: arr = [10000,10000]  \n",
    "Output: [10000,10000]  \n",
    "\n",
    "Ex4:  \n",
    "Input: arr = [2,3,5,7,11,13,17,19]  \n",
    "Output: [2,3,5,17,7,11,13,19]  \n",
    "\n",
    "Ex5:  \n",
    "Input: arr = [10,100,1000,10000]  \n",
    "Output: [10,100,10000,1000]"
   ]
  },
  {
   "cell_type": "markdown",
   "metadata": {},
   "source": [
    "* 解題想法:  \n",
    "由於題目要找出用轉換為二進位後有多少1來進行排序，因此需要先知道轉換為二進位後的值有多少。找出每個數字的二進位數值後使用一個list來對有相同的1的數字進行排序，並且組合回最後的答案中，最後將重新排序後的答案進行回傳"
   ]
  },
  {
   "cell_type": "code",
   "execution_count": null,
   "metadata": {},
   "outputs": [],
   "source": [
    "class Solution:\n",
    "    def sortByBits(self, arr: List[int]) -> List[int]:\n",
    "        result = []\n",
    "        freq = {}\n",
    "        for n in arr:\n",
    "            rev = bin(n)\n",
    "            if n not in freq.keys():\n",
    "                count = 0\n",
    "                for r in rev:\n",
    "                    if r == '1':\n",
    "                        count += 1\n",
    "                freq[n] = [count,1]\n",
    "            else:\n",
    "                freq[n] = [freq[n][0], freq[n][1]+1]\n",
    "        values = list(freq.values())\n",
    "        values.sort()\n",
    "        for value in values:\n",
    "            temp = []\n",
    "            for key, val in freq.items():\n",
    "                if val[0] == value[0]:\n",
    "                    if key not in result:\n",
    "                        for l in range(val[1]):\n",
    "                            temp.append(key)\n",
    "            temp.sort()\n",
    "            result += temp\n",
    "        return result"
   ]
  }
 ],
 "metadata": {
  "kernelspec": {
   "display_name": "Python 3",
   "language": "python",
   "name": "python3"
  },
  "language_info": {
   "codemirror_mode": {
    "name": "ipython",
    "version": 3
   },
   "file_extension": ".py",
   "mimetype": "text/x-python",
   "name": "python",
   "nbconvert_exporter": "python",
   "pygments_lexer": "ipython3",
   "version": "3.7.4"
  }
 },
 "nbformat": 4,
 "nbformat_minor": 2
}
