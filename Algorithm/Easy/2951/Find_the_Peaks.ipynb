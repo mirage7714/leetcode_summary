{
 "cells": [
  {
   "cell_type": "markdown",
   "id": "f699f700-cb65-4b8e-908c-0d4ac1b38e5a",
   "metadata": {},
   "source": [
    "# 本題要找出所有的最高點有多少 (\\#Array )\n",
    "原題目連結: https://leetcode.com/problems/find-the-peaks/description/  \n",
    "\n",
    "You are given a 0-indexed array mountain. Your task is to find all the peaks in the mountain array.  \n",
    "Return an array that consists of indices of peaks in the given array in any order.  \n",
    "\n",
    "Notes:  \n",
    "A peak is defined as an element that is strictly greater than its neighboring elements.  \n",
    "The first and last elements of the array are not a peak.  \n",
    "\n",
    "範例:  \n",
    "Ex1:  \n",
    "Input: mountain = [2,4,4]  \n",
    "Output: []  \n",
    "Explanation: mountain[0] and mountain[2] can not be a peak because they are first and last elements of the array.  \n",
    "mountain[1] also can not be a peak because it is not strictly greater than mountain[2].  \n",
    "So the answer is [].  \n",
    "\n",
    "Ex2:  \n",
    "Input: mountain = [1,4,3,8,5]  \n",
    "Output: [1,3]  \n",
    "Explanation: mountain[0] and mountain[4] can not be a peak because they are first and last elements of the array.  \n",
    "mountain[2] also can not be a peak because it is not strictly greater than mountain[3] and mountain[1].  \n",
    "But mountain [1] and mountain[3] are strictly greater than their neighboring elements.  \n",
    "So the answer is [1,3]."
   ]
  },
  {
   "cell_type": "markdown",
   "id": "77818554-9eb1-4991-8de9-6d5ad406b747",
   "metadata": {},
   "source": [
    "* 解題想法:  \n",
    "依題目要求，頭尾都不可作為最高點，因此用迴圈進行檢查，並跳過頭尾的檢查，如果有找到符合條件的則將index加入list中，最後回傳list就是答案"
   ]
  },
  {
   "cell_type": "code",
   "execution_count": null,
   "id": "868dd240-e47c-4030-91fc-b1536d2ef683",
   "metadata": {},
   "outputs": [],
   "source": [
    "class Solution:\n",
    "    def findPeaks(self, mountain: List[int]) -> List[int]:\n",
    "        res = []\n",
    "        for i in range(1, len(mountain)-1):\n",
    "            if mountain[i] > mountain[i-1] and mountain[i] > mountain[i+1]:\n",
    "                res.append(i)\n",
    "        return res"
   ]
  }
 ],
 "metadata": {
  "kernelspec": {
   "display_name": "Python 3 (ipykernel)",
   "language": "python",
   "name": "python3"
  },
  "language_info": {
   "codemirror_mode": {
    "name": "ipython",
    "version": 3
   },
   "file_extension": ".py",
   "mimetype": "text/x-python",
   "name": "python",
   "nbconvert_exporter": "python",
   "pygments_lexer": "ipython3",
   "version": "3.9.13"
  }
 },
 "nbformat": 4,
 "nbformat_minor": 5
}
