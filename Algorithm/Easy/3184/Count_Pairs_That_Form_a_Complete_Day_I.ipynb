{
 "cells": [
  {
   "cell_type": "markdown",
   "id": "b5358a1a-e7cb-432f-9a91-fdbcddce3569",
   "metadata": {},
   "source": [
    "# 本題要找出哪些組合為一天的整數倍 (\\#Array )\n",
    "原題目連結：https://leetcode.com/problems/count-pairs-that-form-a-complete-day-i/description/  \n",
    "\n",
    "Given an integer array hours representing times in hours, return an integer denoting the number of pairs i, j where i < j and hours[i] + hours[j] forms a complete day.  \n",
    "A complete day is defined as a time duration that is an exact multiple of 24 hours.  \n",
    "For example, 1 day is 24 hours, 2 days is 48 hours, 3 days is 72 hours, and so on.  \n",
    "\n",
    "範例：  \n",
    "Ex1:  \n",
    "Input: hours = [12,12,30,24,24]  \n",
    "Output: 2  \n",
    "Explanation:  \n",
    "The pairs of indices that form a complete day are (0, 1) and (3, 4).  \n",
    "\n",
    "Ex2:  \n",
    "Input: hours = [72,48,24,3]  \n",
    "Output: 3  \n",
    "Explanation:  \n",
    "The pairs of indices that form a complete day are (0, 1), (0, 2), and (1, 2)."
   ]
  },
  {
   "cell_type": "markdown",
   "id": "a504811f-c4b0-4783-8107-c975eba13668",
   "metadata": {},
   "source": [
    "* 解題想法：  \n",
    "首先用兩個迴圈將數值進行加總之後，確認是不是24的倍數，如果是則將數值加1，最後回傳總數值"
   ]
  },
  {
   "cell_type": "code",
   "execution_count": null,
   "id": "e24215be-906f-4cf1-bff2-712e8cb8f6b4",
   "metadata": {},
   "outputs": [],
   "source": [
    "class Solution:\n",
    "    def countCompleteDayPairs(self, hours: List[int]) -> int:\n",
    "        res = 0\n",
    "        for i in range(len(hours)-1):\n",
    "            for j in range(i+1, len(hours)):\n",
    "                if (hours[i] + hours[j]) % 24 == 0:\n",
    "                    res += 1\n",
    "        return res"
   ]
  }
 ],
 "metadata": {
  "kernelspec": {
   "display_name": "Python 3 (ipykernel)",
   "language": "python",
   "name": "python3"
  },
  "language_info": {
   "codemirror_mode": {
    "name": "ipython",
    "version": 3
   },
   "file_extension": ".py",
   "mimetype": "text/x-python",
   "name": "python",
   "nbconvert_exporter": "python",
   "pygments_lexer": "ipython3",
   "version": "3.10.9"
  }
 },
 "nbformat": 4,
 "nbformat_minor": 5
}
