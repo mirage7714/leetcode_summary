{
 "cells": [
  {
   "cell_type": "markdown",
   "id": "2e71f012-76d3-4611-bb97-df797b126d89",
   "metadata": {},
   "source": [
    "# 本題要找出取OR之後可以大於或等於指定值的最小list長度為多少 (\\#Array, \\#SlidingWindow )\n",
    "原題目連結：https://leetcode.com/problems/shortest-subarray-with-or-at-least-k-i/description/  \n",
    "\n",
    "You are given an array nums of non-negative integers and an integer k.  \n",
    "An array is called special if the bitwise OR of all of its elements is at least k.  \n",
    "Return the length of the shortest special non-empty subarray of nums, or return -1 if no special subarray exists.  \n",
    "\n",
    "範例：  \n",
    "Ex1:   \n",
    "Input: nums = [1,2,3], k = 2  \n",
    "Output: 1  \n",
    "Explanation:  \n",
    "The subarray [3] has OR value of 3. Hence, we return 1.  \n",
    "\n",
    "Ex2:  \n",
    "Input: nums = [2,1,8], k = 10  \n",
    "Output: 3  \n",
    "Explanation:  \n",
    "The subarray [2,1,8] has OR value of 11. Hence, we return 3.  \n",
    "\n",
    "Ex3:  \n",
    "Input: nums = [1,2], k = 0  \n",
    "Output: 1  \n",
    "Explanation:  \n",
    "The subarray [1] has OR value of 1. Hence, we return 1."
   ]
  },
  {
   "cell_type": "markdown",
   "id": "00d04f91-dd72-46e3-ac80-aecd185030c8",
   "metadata": {},
   "source": [
    "* 解題想法：  \n",
    "首先找出list中所有數值的OR值，確認是否有大於或等於目標，如果沒有則直接回傳-1，如果有單一數值大於或等於目標值則直接回傳1，否則用sliding window的方式，逐步增加長度，直到找到可以滿足數值的sublist就回傳長度"
   ]
  },
  {
   "cell_type": "code",
   "execution_count": null,
   "id": "344ccd0d-ab62-4c8f-8ad2-3151022fcb38",
   "metadata": {},
   "outputs": [],
   "source": [
    "class Solution:\n",
    "    def minimumSubarrayLength(self, nums: List[int], k: int) -> int:\n",
    "        m = 0\n",
    "        stack = []\n",
    "        for n in range(len(nums)):\n",
    "            i = nums[n]\n",
    "            m = m | i\n",
    "            if i >= k:\n",
    "                return 1\n",
    "            stack.append([i, [n]])\n",
    "        if m < k:\n",
    "            return -1\n",
    "        for n in range(1, len(nums)):\n",
    "            temp = []\n",
    "            for s in stack:\n",
    "                if s[1][-1] + 1 < len(nums):\n",
    "                    r = s[0] | nums[s[1][-1] + 1]\n",
    "                    if r >= k:\n",
    "                        return len(s[1]) + 1\n",
    "                    temp.append([r, s[1] + [s[1][-1] + 1]])\n",
    "            stack.clear()\n",
    "            stack += temp"
   ]
  }
 ],
 "metadata": {
  "kernelspec": {
   "display_name": "Python 3 (ipykernel)",
   "language": "python",
   "name": "python3"
  },
  "language_info": {
   "codemirror_mode": {
    "name": "ipython",
    "version": 3
   },
   "file_extension": ".py",
   "mimetype": "text/x-python",
   "name": "python",
   "nbconvert_exporter": "python",
   "pygments_lexer": "ipython3",
   "version": "3.10.9"
  }
 },
 "nbformat": 4,
 "nbformat_minor": 5
}
