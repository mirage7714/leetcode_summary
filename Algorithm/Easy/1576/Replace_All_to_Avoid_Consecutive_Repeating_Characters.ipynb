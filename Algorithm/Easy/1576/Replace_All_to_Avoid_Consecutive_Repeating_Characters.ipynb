{
 "cells": [
  {
   "cell_type": "markdown",
   "metadata": {},
   "source": [
    "# 本題要將所有的?取代，且相鄰字不可相同\n",
    "原題目連結：https://leetcode.com/problems/replace-all-s-to-avoid-consecutive-repeating-characters/  \n",
    "\n",
    "Given a string s containing only lower case English letters and the '?' character, convert all the '?' characters into lower case letters such that the final string does not contain any consecutive repeating characters. You cannot modify the non '?' characters.  \n",
    "\n",
    "It is guaranteed that there are no consecutive repeating characters in the given string except for '?'.  \n",
    "\n",
    "Return the final string after all the conversions (possibly zero) have been made. If there is more than one solution, return any of them. It can be shown that an answer is always possible with the given constraints.  \n",
    "\n",
    "範例：  \n",
    "Ex1:  \n",
    "Input: s = \"?zs\"  \n",
    "Output: \"azs\"  \n",
    "Explanation: There are 25 solutions for this problem. From \"azs\" to \"yzs\", all are valid. Only \"z\" is an invalid modification as the string will consist of consecutive repeating characters in \"zzs\".  \n",
    "\n",
    "Ex2:  \n",
    "Input: s = \"ubv?w\"  \n",
    "Output: \"ubvaw\"  \n",
    "Explanation: There are 24 solutions for this problem. Only \"v\" and \"w\" are invalid modifications as the strings will consist of consecutive repeating characters in \"ubvvw\" and \"ubvww\".  \n",
    "\n",
    "Ex3:  \n",
    "Input: s = \"j?qg??b\"  \n",
    "Output: \"jaqgacb\"  \n",
    "\n",
    "Ex4:  \n",
    "Input: s = \"??yw?ipkj?\"  \n",
    "Output: \"acywaipkja\""
   ]
  },
  {
   "cell_type": "markdown",
   "metadata": {},
   "source": [
    "* 解題想法：  \n",
    "題目中提到？取代後不可與左右字元相同，但字元是可重複使用的，所以並不需要將用過的字元排除  \n",
    "除了最左邊與最右邊的字元外，其他都需要確認前後是否有重複的問題，需要跳過會重複的情況  \n",
    "另外測試案例中有一個只有單一'?'的情況，因此需要單獨處理只有一個字的情況"
   ]
  },
  {
   "cell_type": "code",
   "execution_count": null,
   "metadata": {},
   "outputs": [],
   "source": [
    "class Solution:\n",
    "    def modifyString(self, s: str) -> str:\n",
    "        chars = [\n",
    "            'a','b','c','d','e','f','g','h','i','j','k','l','m','n',\n",
    "            'o','p','q','r','s','t','u','v','w','x','y','z'\n",
    "        ]\n",
    "        result = ''\n",
    "        if len(s) > 1:\n",
    "            for n in range(len(s)):\n",
    "                if s[n] == '?':\n",
    "                    if n == 0:\n",
    "                        for c in chars:\n",
    "                            if c != s[n+1]:\n",
    "                                result += c\n",
    "                                break\n",
    "                    elif n == len(s)-1:\n",
    "                        for c in chars:\n",
    "                            if c != result[n-1]:\n",
    "                                result += c\n",
    "                                break\n",
    "                    else:\n",
    "                        for c in chars:\n",
    "                            if c != s[n+1] and c != result[n-1]:\n",
    "                                result += c\n",
    "                                break\n",
    "                else:\n",
    "                    result += s[n]\n",
    "        else:\n",
    "            if s == '?':\n",
    "                result += 'a'\n",
    "            else:\n",
    "                result = s\n",
    "        return result"
   ]
  }
 ],
 "metadata": {
  "kernelspec": {
   "display_name": "Python 3",
   "language": "python",
   "name": "python3"
  },
  "language_info": {
   "codemirror_mode": {
    "name": "ipython",
    "version": 3
   },
   "file_extension": ".py",
   "mimetype": "text/x-python",
   "name": "python",
   "nbconvert_exporter": "python",
   "pygments_lexer": "ipython3",
   "version": "3.8.3"
  }
 },
 "nbformat": 4,
 "nbformat_minor": 4
}
