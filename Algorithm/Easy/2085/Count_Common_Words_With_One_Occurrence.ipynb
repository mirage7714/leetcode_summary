{
 "cells": [
  {
   "cell_type": "markdown",
   "metadata": {},
   "source": [
    "# 本題要找出有多少字串在兩個list中剛好都只出現過一次\n",
    "原題目連結: https://leetcode.com/problems/count-common-words-with-one-occurrence/  \n",
    "\n",
    "Given two string arrays words1 and words2, return the number of strings that appear exactly once in each of the two arrays.  \n",
    "\n",
    "範例:  \n",
    "Ex1:  \n",
    "Input: words1 = [\"leetcode\",\"is\",\"amazing\",\"as\",\"is\"], words2 = [\"amazing\",\"leetcode\",\"is\"]  \n",
    "Output: 2  \n",
    "Explanation:  \n",
    "- \"leetcode\" appears exactly once in each of the two arrays. We count this string.  \n",
    "- \"amazing\" appears exactly once in each of the two arrays. We count this string.  \n",
    "- \"is\" appears in each of the two arrays, but there are 2 occurrences of it in words1. We do not count this string.  \n",
    "- \"as\" appears once in words1, but does not appear in words2. We do not count this string.  \n",
    "Thus, there are 2 strings that appear exactly once in each of the two arrays.  \n",
    "\n",
    "Ex2:  \n",
    "Input: words1 = [\"b\",\"bb\",\"bbb\"], words2 = [\"a\",\"aa\",\"aaa\"]  \n",
    "Output: 0  \n",
    "Explanation: There are no strings that appear in each of the two arrays.  \n",
    "\n",
    "Ex3:  \n",
    "Input: words1 = [\"a\",\"ab\"], words2 = [\"a\",\"a\",\"a\",\"ab\"]  \n",
    "Output: 1  \n",
    "Explanation: The only string that appears exactly once in each of the two arrays is \"ab\"."
   ]
  },
  {
   "cell_type": "markdown",
   "metadata": {},
   "source": [
    "* 解題想法:  \n",
    "為了不使用過多的記憶體，因此這次不使用將兩個list相加之後再處理的方式，這次先建立一個dict來存放出現的字頻，並用另一個list來放重複出現的字  \n",
    "接著先從第一個list開始處理，如果只出現一次放入dict中，如果出現超過一次則從dict中移除並放入list中，接著開始處理第二個list，如果是在dict中有出現過的字才計算出現次數  \n",
    "最後將出現次數等於二的找出來，就是題目要求的答案"
   ]
  },
  {
   "cell_type": "code",
   "execution_count": null,
   "metadata": {},
   "outputs": [],
   "source": [
    "class Solution:\n",
    "    def countWords(self, words1: List[str], words2: List[str]) -> int:\n",
    "        total = 0\n",
    "        freq = {}\n",
    "        d = []\n",
    "        for w in words1:\n",
    "            if w not in freq.keys():\n",
    "                if w not in d:\n",
    "                    freq[w] = 1\n",
    "            else:\n",
    "                d.append(w)\n",
    "                freq.pop(w)\n",
    "        for m in words2:\n",
    "            if m in freq.keys():\n",
    "                freq[m] += 1\n",
    "                \n",
    "        for v in list(freq.values()):\n",
    "            if v == 2:\n",
    "                total += 1\n",
    "        return total"
   ]
  }
 ],
 "metadata": {
  "kernelspec": {
   "display_name": "Python 3",
   "language": "python",
   "name": "python3"
  },
  "language_info": {
   "codemirror_mode": {
    "name": "ipython",
    "version": 3
   },
   "file_extension": ".py",
   "mimetype": "text/x-python",
   "name": "python",
   "nbconvert_exporter": "python",
   "pygments_lexer": "ipython3",
   "version": "3.7.6"
  }
 },
 "nbformat": 4,
 "nbformat_minor": 4
}
