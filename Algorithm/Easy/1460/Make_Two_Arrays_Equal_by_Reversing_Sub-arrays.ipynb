{
 "cells": [
  {
   "cell_type": "markdown",
   "metadata": {},
   "source": [
    "# 本題要比較兩個array是否可藉由調整順序變成相等\n",
    "原題目連結: https://leetcode.com/problems/make-two-arrays-equal-by-reversing-sub-arrays/  \n",
    "\n",
    "Given two integer arrays of equal length target and arr.  \n",
    "\n",
    "In one step, you can select any non-empty sub-array of arr and reverse it. You are allowed to make any number of steps.  \n",
    "\n",
    "Return True if you can make arr equal to target, or False otherwise.  \n",
    "\n",
    "範例:  \n",
    "Ex1:  \n",
    "Input: target = [1,2,3,4], arr = [2,4,1,3]  \n",
    "Output: true  \n",
    "Explanation: You can follow the next steps to convert arr to target:  \n",
    "1- Reverse sub-array [2,4,1], arr becomes [1,4,2,3]  \n",
    "2- Reverse sub-array [4,2], arr becomes [1,2,4,3]  \n",
    "3- Reverse sub-array [4,3], arr becomes [1,2,3,4]  \n",
    "There are multiple ways to convert arr to target, this is not the only way to do so.  \n",
    "\n",
    "Ex2:  \n",
    "Input: target = [7], arr = [7]  \n",
    "Output: true  \n",
    "Explanation: arr is equal to target without any reverses.  \n",
    "\n",
    "Ex3:  \n",
    "Input: target = [1,12], arr = [12,1]  \n",
    "Output: true  \n",
    "\n",
    "Ex4:  \n",
    "Input: target = [3,7,9], arr = [3,7,11]  \n",
    "Output: false  \n",
    "Explanation: arr doesn't have value 9 and it can never be converted to target.  \n",
    "\n",
    "Ex5:  \n",
    "Input: target = [1,1,1,1,1], arr = [1,1,1,1,1]  \n",
    "Output: true"
   ]
  },
  {
   "cell_type": "markdown",
   "metadata": {},
   "source": [
    "* 解題想法:  \n",
    "由於題目是想要比較兩個list是否可以藉由調整順序來變成相同，因此最簡單的做法就是計算兩個list中的每個元素出現的次數，如果不相同就代表兩個list是不相同的，所以回傳False"
   ]
  },
  {
   "cell_type": "code",
   "execution_count": null,
   "metadata": {},
   "outputs": [],
   "source": [
    "class Solution:\n",
    "    def canBeEqual(self, target: List[int], arr: List[int]) -> bool:\n",
    "        is_equal = True\n",
    "        freq1 = {}\n",
    "        freq2 = {}\n",
    "        for m in range(len(target)):\n",
    "            if target[m] not in freq1.keys():\n",
    "                freq1[target[m]] = 1\n",
    "            else:\n",
    "                freq1[target[m]] += 1  \n",
    "            if arr[m] not in freq2.keys():\n",
    "                freq2[arr[m]] = 1\n",
    "            else:\n",
    "                freq2[arr[m]] += 1\n",
    "        if freq1 != freq2:\n",
    "            is_equal = False\n",
    "        return is_equal"
   ]
  }
 ],
 "metadata": {
  "kernelspec": {
   "display_name": "Python 3",
   "language": "python",
   "name": "python3"
  },
  "language_info": {
   "codemirror_mode": {
    "name": "ipython",
    "version": 3
   },
   "file_extension": ".py",
   "mimetype": "text/x-python",
   "name": "python",
   "nbconvert_exporter": "python",
   "pygments_lexer": "ipython3",
   "version": "3.7.4"
  }
 },
 "nbformat": 4,
 "nbformat_minor": 2
}
