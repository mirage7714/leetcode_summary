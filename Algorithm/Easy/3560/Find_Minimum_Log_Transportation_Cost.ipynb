{
 "cells": [
  {
   "cell_type": "markdown",
   "id": "25dd3d40-0959-4d96-8a0e-a88bce78bf60",
   "metadata": {},
   "source": [
    "# 本題要找出最小的運送成本是多少 (\\#Math )\n",
    "原題目連結：https://leetcode.com/problems/find-minimum-log-transportation-cost/description/  \n",
    "\n",
    "You are given integers n, m, and k.  \n",
    "There are two logs of lengths n and m units, which need to be transported in three trucks where each truck can carry one log with length at most k units.  \n",
    "You may cut the logs into smaller pieces, where the cost of cutting a log of length x into logs of length len1 and len2 is cost = len1 * len2 such that len1 + len2 = x.   \n",
    "Return the minimum total cost to distribute the logs onto the trucks. If the logs don't need to be cut, the total cost is 0.  \n",
    "\n",
    "範例：  \n",
    "Ex1:  \n",
    "Input: n = 6, m = 5, k = 5  \n",
    "Output: 5  \n",
    "Explanation:  \n",
    "Cut the log with length 6 into logs with length 1 and 5, at a cost equal to 1 * 5 == 5. Now the three logs of length 1, 5, and 5 can fit in one truck each.  \n",
    "\n",
    "Ex2:  \n",
    "Input: n = 4, m = 4, k = 6  \n",
    "Output: 0  \n",
    "Explanation:  \n",
    "The two logs can fit in the trucks already, hence we don't need to cut the logs.  "
   ]
  },
  {
   "cell_type": "markdown",
   "id": "c3281316-f864-4fa7-b97e-0ecf5e2df72f",
   "metadata": {},
   "source": [
    "* 解題想法：  \n",
    "檢查兩個數值是否大於長度限制，如果大於長度限制則需要裁切後並加上裁切的成本，最後回傳總成本就是答案"
   ]
  },
  {
   "cell_type": "code",
   "execution_count": null,
   "id": "26e2eb7d-0dc7-471b-a9bd-cbde02c39126",
   "metadata": {},
   "outputs": [],
   "source": [
    "class Solution:\n",
    "    def minCuttingCost(self, n: int, m: int, k: int) -> int:\n",
    "        res = 0\n",
    "        logs = [n, m]\n",
    "        for l in logs:\n",
    "            if l > k:\n",
    "                res += k * (l - k)\n",
    "        return res"
   ]
  }
 ],
 "metadata": {
  "kernelspec": {
   "display_name": "Python 3 (ipykernel)",
   "language": "python",
   "name": "python3"
  },
  "language_info": {
   "codemirror_mode": {
    "name": "ipython",
    "version": 3
   },
   "file_extension": ".py",
   "mimetype": "text/x-python",
   "name": "python",
   "nbconvert_exporter": "python",
   "pygments_lexer": "ipython3",
   "version": "3.10.9"
  }
 },
 "nbformat": 4,
 "nbformat_minor": 5
}
