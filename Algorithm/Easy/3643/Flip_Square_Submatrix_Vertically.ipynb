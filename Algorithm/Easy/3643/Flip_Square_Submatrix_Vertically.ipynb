{
 "cells": [
  {
   "cell_type": "markdown",
   "id": "52e09a3f-0d16-4216-bbe4-44553cf29800",
   "metadata": {},
   "source": [
    "# 本題要找出翻轉後的matrix為何 (\\#Matrix )\n",
    "原題目連結: https://leetcode.com/problems/flip-square-submatrix-vertically/description/  \n",
    "\n",
    "You are given an m x n integer matrix grid, and three integers x, y, and k.  \n",
    "The integers x and y represent the row and column indices of the top-left corner of a square submatrix and the integer k represents the size (side length) of the square submatrix.  \n",
    "Your task is to flip the submatrix by reversing the order of its rows vertically.  \n",
    "Return the updated matrix.  \n",
    "\n",
    "範例:  \n",
    "Ex1:  \n",
    "Input: grid = [[1,2,3,4],[5,6,7,8],[9,10,11,12],[13,14,15,16]], x = 1, y = 0, k = 3  \n",
    "Output: [[1,2,3,4],[13,14,15,8],[9,10,11,12],[5,6,7,16]]  \n",
    "Explanation:  \n",
    "The diagram above shows the grid before and after the transformation.  \n",
    "\n",
    "Ex2:  \n",
    "Input: grid = [[3,4,2,3],[2,3,4,2]], x = 0, y = 2, k = 2  \n",
    "Output: [[3,4,4,2],[2,3,2,3]]  \n",
    "Explanation:  \n",
    "The diagram above shows the grid before and after the transformation.  "
   ]
  },
  {
   "cell_type": "markdown",
   "id": "f736bf48-30d3-463d-a678-b3ac37521ef4",
   "metadata": {},
   "source": [
    "* 解題想法:  \n",
    "首先找出需要翻轉的matrix範圍，接著將數值放入一個暫存中，其他不需要翻轉的則放入另一個list中，最後重新執行迴圈並從後面開始取出需要翻轉的部分與原本的list進行加總，最後就可以得到翻轉過後的matrix"
   ]
  },
  {
   "cell_type": "code",
   "execution_count": null,
   "id": "502e94fd-c2a2-49b5-ab23-ae4c17985627",
   "metadata": {},
   "outputs": [],
   "source": [
    "class Solution:\n",
    "    def reverseSubmatrix(self, grid: List[List[int]], x: int, y: int, k: int) -> List[List[int]]:\n",
    "        res = []\n",
    "        revs = []\n",
    "        for i in range(len(grid)):\n",
    "            temp = []\n",
    "            rev = []\n",
    "            for j in range(len(grid[0])):\n",
    "                if x <= i < x + k and y <= j < y+k :\n",
    "                    rev.append(grid[i][j])\n",
    "                    temp.append(0)\n",
    "                else:\n",
    "                    temp.append(grid[i][j])\n",
    "            res.append(temp)\n",
    "            if rev:\n",
    "                revs.append(rev)\n",
    "        for a in range(len(res)):\n",
    "            if x <= a < x + k: \n",
    "                r = revs.pop()\n",
    "                for b in range(len(res[0])):\n",
    "                    if res[a][b] == 0:\n",
    "                        res[a][b] = r.pop(0)\n",
    "        return res"
   ]
  }
 ],
 "metadata": {
  "kernelspec": {
   "display_name": "Python 3 (ipykernel)",
   "language": "python",
   "name": "python3"
  },
  "language_info": {
   "codemirror_mode": {
    "name": "ipython",
    "version": 3
   },
   "file_extension": ".py",
   "mimetype": "text/x-python",
   "name": "python",
   "nbconvert_exporter": "python",
   "pygments_lexer": "ipython3",
   "version": "3.9.13"
  }
 },
 "nbformat": 4,
 "nbformat_minor": 5
}
