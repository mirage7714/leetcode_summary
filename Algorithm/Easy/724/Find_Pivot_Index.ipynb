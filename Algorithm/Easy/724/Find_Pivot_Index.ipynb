{
 "cells": [
  {
   "cell_type": "markdown",
   "metadata": {},
   "source": [
    "# 題目要找出是否array的左右是否可以總和相等\n",
    "原題目連結: https://leetcode.com/problems/find-pivot-index/  \n",
    "\n",
    "Given an array of integers nums, write a method that returns the \"pivot\" index of this array.  \n",
    "\n",
    "We define the pivot index as the index where the sum of all the numbers to the left of the index is equal to the sum of all the numbers to the right of the index.  \n",
    "\n",
    "If no such index exists, we should return -1. If there are multiple pivot indexes, you should return the left-most pivot index.  \n",
    "範例:  \n",
    "Ex1:  \n",
    "Input: nums = [1,7,3,6,5,6]  \n",
    "Output: 3  \n",
    "Explanation:  \n",
    "The sum of the numbers to the left of index 3 (nums[3] = 6) is equal to the sum of numbers to the right of index 3.  \n",
    "Also, 3 is the first index where this occurs.  \n",
    "\n",
    "Ex2:  \n",
    "Input: nums = [1,2,3]  \n",
    "Output: -1  \n",
    "Explanation:  \n",
    "There is no index that satisfies the conditions in the problem statement.  "
   ]
  },
  {
   "cell_type": "markdown",
   "metadata": {},
   "source": [
    "* 解題想法:  \n",
    "由於題目要找出list左右的和是否可以相等，因此先計算出list內的總和，接著用迴圈去判斷是否可以找出一個index讓左右的總和平衡  \n",
    "如果有的話則回傳index，否則回傳-1"
   ]
  },
  {
   "cell_type": "code",
   "execution_count": null,
   "metadata": {},
   "outputs": [],
   "source": [
    "class Solution:\n",
    "    def pivotIndex(self, nums: List[int]) -> int:\n",
    "        result = -1\n",
    "        if len(nums) > 0:\n",
    "            total = 0\n",
    "            total_left = nums[0]\n",
    "            for n in range(len(nums)):\n",
    "                total += nums[n]\n",
    "            if total - total_left == 0:\n",
    "                result = 0\n",
    "            else:\n",
    "                for m in range(1, len(nums)):\n",
    "                    right = total - total_left\n",
    "                    total_left += nums[m]\n",
    "                    if total_left == right:\n",
    "                        result = m\n",
    "                        break\n",
    "        return result"
   ]
  }
 ],
 "metadata": {
  "kernelspec": {
   "display_name": "Python 3",
   "language": "python",
   "name": "python3"
  },
  "language_info": {
   "codemirror_mode": {
    "name": "ipython",
    "version": 3
   },
   "file_extension": ".py",
   "mimetype": "text/x-python",
   "name": "python",
   "nbconvert_exporter": "python",
   "pygments_lexer": "ipython3",
   "version": "3.7.6"
  }
 },
 "nbformat": 4,
 "nbformat_minor": 4
}
