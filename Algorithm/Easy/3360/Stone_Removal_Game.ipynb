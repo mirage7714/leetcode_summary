{
 "cells": [
  {
   "cell_type": "markdown",
   "id": "30b65f3b-6d7b-4f64-abb1-93ea813bc2a4",
   "metadata": {},
   "source": [
    "#class Solution:\n",
    "    def canAliceWin(self, n: int) -> bool:\n",
    "        start = 10\n",
    "        c = 0\n",
    "        while n >= start:\n",
    "            n -= start\n",
    "            c += 1\n",
    "            start -= 1\n",
    "        if c % 2 == 1:\n",
    "            return True\n",
    "        return False  本題要找出遊戲最後的贏家是誰 (\\#Math )\n",
    "原題目連結: https://leetcode.com/problems/stone-removal-game/description/  \n",
    "\n",
    "Alice and Bob are playing a game where they take turns removing stones from a pile, with Alice going first.  \n",
    "Alice starts by removing exactly 10 stones on her first turn.  \n",
    "For each subsequent turn, each player removes exactly 1 fewer stone than the previous opponent.  \n",
    "The player who cannot make a move loses the game.  \n",
    "\n",
    "Given a positive integer n, return true if Alice wins the game and false otherwise.  \n",
    "\n",
    "範例:  \n",
    "Ex1:  \n",
    "Input: n = 12  \n",
    "Output: true  \n",
    "Explanation:  \n",
    "Alice removes 10 stones on her first turn, leaving 2 stones for Bob.  \n",
    "Bob cannot remove 9 stones, so Alice wins.  \n",
    "\n",
    "Ex2:  \n",
    "Input: n = 1  \n",
    "Output: false  \n",
    "Explanation:  \n",
    "Alice cannot remove 10 stones, so Alice loses."
   ]
  },
  {
   "cell_type": "markdown",
   "id": "ed2c0646-9410-4ccb-80e7-36f70e7cc54d",
   "metadata": {},
   "source": [
    "* 解題想法:  \n",
    "首先算出共可以執行幾輪的遊戲，直到剩下的值小於指定的數值時中斷迴圈，最後判斷執行的次數是奇數還是偶數來判斷最後的贏家"
   ]
  },
  {
   "cell_type": "code",
   "execution_count": null,
   "id": "cc237ce7-0765-4c65-ba95-455f0a8920ef",
   "metadata": {},
   "outputs": [],
   "source": [
    "class Solution:\n",
    "    def canAliceWin(self, n: int) -> bool:\n",
    "        start = 10\n",
    "        c = 0\n",
    "        while n >= start:\n",
    "            n -= start\n",
    "            c += 1\n",
    "            start -= 1\n",
    "        if c % 2 == 1:\n",
    "            return True\n",
    "        return False "
   ]
  }
 ],
 "metadata": {
  "kernelspec": {
   "display_name": "Python 3 (ipykernel)",
   "language": "python",
   "name": "python3"
  },
  "language_info": {
   "codemirror_mode": {
    "name": "ipython",
    "version": 3
   },
   "file_extension": ".py",
   "mimetype": "text/x-python",
   "name": "python",
   "nbconvert_exporter": "python",
   "pygments_lexer": "ipython3",
   "version": "3.9.13"
  }
 },
 "nbformat": 4,
 "nbformat_minor": 5
}
