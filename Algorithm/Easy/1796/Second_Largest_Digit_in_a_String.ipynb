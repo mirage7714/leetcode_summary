{
 "cells": [
  {
   "cell_type": "markdown",
   "metadata": {},
   "source": [
    "# 本題要找出在字串中第二大的數字\n",
    "原題目連結: https://leetcode.com/problems/second-largest-digit-in-a-string/  \n",
    "\n",
    "Given an alphanumeric string s, return the second largest numerical digit that appears in s, or -1 if it does not exist.  \n",
    "\n",
    "An alphanumeric string is a string consisting of lowercase English letters and digits.  \n",
    "\n",
    "範例:  \n",
    "Ex1:  \n",
    "Input: s = \"dfa12321afd\"  \n",
    "Output: 2  \n",
    "Explanation: The digits that appear in s are [1, 2, 3]. The second largest digit is 2.  \n",
    "\n",
    "Ex2:  \n",
    "Input: s = \"abc1111\"  \n",
    "Output: -1  \n",
    "Explanation: The digits that appear in s are [1]. There is no second largest digit. "
   ]
  },
  {
   "cell_type": "markdown",
   "metadata": {},
   "source": [
    "* 解題想法:  \n",
    "依題目說明，要找出第二大的數字，因此首先建立了一個暫存的list來存放有出現過的數字，如果這個list長度超過1的話，才會有第二大的數字  \n",
    "如果長度小於1的話，則直接回傳-1"
   ]
  },
  {
   "cell_type": "code",
   "execution_count": null,
   "metadata": {},
   "outputs": [],
   "source": [
    "class Solution:\n",
    "    def secondHighest(self, s: str) -> int:\n",
    "        digits = ['0','1','2','3','4','5','6','7','8','9']\n",
    "        temp = []\n",
    "        result = -1\n",
    "        for n in range(len(s)):\n",
    "            if s[n] in digits:\n",
    "                if int(s[n]) not in temp:\n",
    "                    temp.append(int(s[n]))\n",
    "        if len(temp) > 1:\n",
    "            temp.sort(reverse = True)\n",
    "            result = temp[1]\n",
    "        return result"
   ]
  }
 ],
 "metadata": {
  "kernelspec": {
   "display_name": "Python 3",
   "language": "python",
   "name": "python3"
  },
  "language_info": {
   "codemirror_mode": {
    "name": "ipython",
    "version": 3
   },
   "file_extension": ".py",
   "mimetype": "text/x-python",
   "name": "python",
   "nbconvert_exporter": "python",
   "pygments_lexer": "ipython3",
   "version": "3.7.4"
  }
 },
 "nbformat": 4,
 "nbformat_minor": 2
}
