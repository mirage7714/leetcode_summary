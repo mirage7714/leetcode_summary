{
 "cells": [
  {
   "cell_type": "markdown",
   "id": "59ceb5a7-3f22-4ced-ba19-efa308243edd",
   "metadata": {},
   "source": [
    "# 本題要找出移除0之後的數值為多少 (\\#Integer )\n",
    "原題目連結: https://leetcode.com/problems/remove-zeros-in-decimal-representation/description/?page=28  \n",
    "\n",
    "You are given a positive integer n.  \n",
    "Return the integer obtained by removing all zeros from the decimal representation of n.  \n",
    "\n",
    "範例:  \n",
    "Ex1:  \n",
    "Input: n = 1020030  \n",
    "Output: 123  \n",
    "Explanation:  \n",
    "After removing all zeros from 1020030, we get 123.  \n",
    "\n",
    "Ex2:  \n",
    "Input: n = 1  \n",
    "Output: 1  \n",
    "Explanation:  \n",
    "1 has no zero in its decimal representation. Therefore, the answer is 1.  "
   ]
  },
  {
   "cell_type": "markdown",
   "id": "01b22851-8dd8-4f54-bedd-9e846faea13c",
   "metadata": {},
   "source": [
    "* 解題想法:  \n",
    "首先找出不為0的數字後重新組合就是答案"
   ]
  },
  {
   "cell_type": "code",
   "execution_count": null,
   "id": "ba2eebf2-3bf8-4685-ae1a-5c96bc01103c",
   "metadata": {},
   "outputs": [],
   "source": [
    "class Solution:\n",
    "    def removeZeros(self, n: int) -> int:\n",
    "        res = ''\n",
    "        for i in str(n):\n",
    "            if i != '0':\n",
    "                res += i\n",
    "        if res:\n",
    "            return int(res)"
   ]
  }
 ],
 "metadata": {
  "kernelspec": {
   "display_name": "Python 3 (ipykernel)",
   "language": "python",
   "name": "python3"
  },
  "language_info": {
   "codemirror_mode": {
    "name": "ipython",
    "version": 3
   },
   "file_extension": ".py",
   "mimetype": "text/x-python",
   "name": "python",
   "nbconvert_exporter": "python",
   "pygments_lexer": "ipython3",
   "version": "3.12.5"
  }
 },
 "nbformat": 4,
 "nbformat_minor": 5
}
