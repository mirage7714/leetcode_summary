{
 "cells": [
  {
   "cell_type": "markdown",
   "id": "5e4272c3-0203-479c-aeff-98d771c74df4",
   "metadata": {},
   "source": [
    "# 本題要找出sublist中出現次數前x多的總和為多少 (\\#Array, \\#SlidingWindow )\n",
    "原題目連結: https://leetcode.com/problems/find-x-sum-of-all-k-long-subarrays-i/description/  \n",
    "\n",
    "You are given an array nums of n integers and two integers k and x.  \n",
    "The x-sum of an array is calculated by the following procedure:\n",
    "Count the occurrences of all elements in the array.  \n",
    "Keep only the occurrences of the top x most frequent elements. If two elements have the same number of occurrences, the element with the bigger value is considered more frequent.  \n",
    "Calculate the sum of the resulting array.  \n",
    "Note that if an array has less than x distinct elements, its x-sum is the sum of the array.  \n",
    "Return an integer array answer of length n - k + 1 where answer[i] is the x-sum of the subarray nums[i..i + k - 1].  \n",
    "\n",
    "範例:  \n",
    "Ex1:  \n",
    "Input: nums = [1,1,2,2,3,4,2,3], k = 6, x = 2  \n",
    "Output: [6,10,12]  \n",
    "Explanation:  \n",
    "For subarray [1, 1, 2, 2, 3, 4], only elements 1 and 2 will be kept in the resulting array. Hence, answer[0] = 1 + 1 + 2 + 2.  \n",
    "For subarray [1, 2, 2, 3, 4, 2], only elements 2 and 4 will be kept in the resulting array. Hence, answer[1] = 2 + 2 + 2 + 4. Note that 4 is kept in the array since it is bigger than 3 and 1 which occur the same number of times.  \n",
    "For subarray [2, 2, 3, 4, 2, 3], only elements 2 and 3 are kept in the resulting array. Hence, answer[2] = 2 + 2 + 2 + 3 + 3.  \n",
    "\n",
    "Ex2:  \n",
    "Input: nums = [3,8,7,8,7,5], k = 2, x = 2  \n",
    "Output: [11,15,15,15,12]  \n",
    "Explanation:  \n",
    "Since k == x, answer[i] is equal to the sum of the subarray nums[i..i + k - 1].  "
   ]
  },
  {
   "cell_type": "markdown",
   "id": "2845ea58-e73b-407f-8e55-5fe1d5167139",
   "metadata": {},
   "source": [
    "* 解題想法:  \n",
    "首先建立一個dict用來存放目前出現過的數字，機著用sliding window的方式將值填入dict中，並計算出現次數最高的前x個數值並將結果加總後放入list中，最後回傳list就是結果"
   ]
  },
  {
   "cell_type": "code",
   "execution_count": null,
   "id": "61f3205c-3f18-4236-aef5-f2a8bf2f0568",
   "metadata": {},
   "outputs": [],
   "source": [
    "class Solution:\n",
    "    def findXSum(self, nums: List[int], k: int, x: int) -> List[int]:\n",
    "        res = []\n",
    "        count = {}\n",
    "        for n in range(len(nums)-k+1):\n",
    "            if not count:\n",
    "                p = nums[:k]\n",
    "                for i in p:\n",
    "                    if i not in count.keys():\n",
    "                        count[i] = 0\n",
    "                    count[i] += 1\n",
    "            else:\n",
    "                if nums[n+k-1] not in count.keys():\n",
    "                    count[nums[n+k-1]] = 0\n",
    "                count[nums[n+k-1]] += 1\n",
    "                if count[nums[n-1]] == 1:\n",
    "                    count.pop(nums[n-1])\n",
    "                else:\n",
    "                    count[nums[n-1]] -= 1\n",
    "            t = []\n",
    "            for key, val in count.items():\n",
    "                t.append([val, key])\n",
    "            t.sort(reverse = True)\n",
    "            s = 0\n",
    "            for i in range(x):\n",
    "                if i < len(t):\n",
    "                    s += t[i][0] * t[i][1]\n",
    "                else:\n",
    "                    break\n",
    "            res.append(s)\n",
    "        return res"
   ]
  }
 ],
 "metadata": {
  "kernelspec": {
   "display_name": "Python 3 (ipykernel)",
   "language": "python",
   "name": "python3"
  },
  "language_info": {
   "codemirror_mode": {
    "name": "ipython",
    "version": 3
   },
   "file_extension": ".py",
   "mimetype": "text/x-python",
   "name": "python",
   "nbconvert_exporter": "python",
   "pygments_lexer": "ipython3",
   "version": "3.9.13"
  }
 },
 "nbformat": 4,
 "nbformat_minor": 5
}
