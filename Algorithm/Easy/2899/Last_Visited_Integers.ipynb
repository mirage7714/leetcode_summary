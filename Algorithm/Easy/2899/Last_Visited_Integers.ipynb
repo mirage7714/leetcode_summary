{
 "cells": [
  {
   "cell_type": "markdown",
   "id": "2f031ddd-2849-4495-b6a5-497caefa7919",
   "metadata": {},
   "source": [
    "# 本題要找出最後一個數字為何 (\\#Array )\n",
    "原題目連結：https://leetcode.com/problems/last-visited-integers/description/  \n",
    "\n",
    "Given a 0-indexed array of strings words where words[i] is either a positive integer represented as a string or the string \"prev\".  \n",
    "\n",
    "Start iterating from the beginning of the array; for every \"prev\" string seen in words, find the last visited integer in words which is defined as follows:  \n",
    "\n",
    "Let k be the number of consecutive \"prev\" strings seen so far (containing the current string). Let nums be the 0-indexed array of integers seen so far and nums_reverse be the reverse of nums, then the integer at (k - 1)th index of nums_reverse will be the last visited integer for this \"prev\".  \n",
    "If k is greater than the total visited integers, then the last visited integer will be -1.  \n",
    "Return an integer array containing the last visited integers.   \n",
    "\n",
    "範例：  \n",
    "Ex1:  \n",
    "Input: words = [\"1\",\"2\",\"prev\",\"prev\",\"prev\"]  \n",
    "Output: [2,1,-1]  \n",
    "Explanation:   \n",
    "For \"prev\" at index = 2, last visited integer will be 2 as here the number of consecutive \"prev\" strings is 1, and in the array reverse_nums, 2 will be the first element.  \n",
    "For \"prev\" at index = 3, last visited integer will be 1 as there are a total of two consecutive \"prev\" strings including this \"prev\" which are visited, and 1 is the second last visited integer.  \n",
    "For \"prev\" at index = 4, last visited integer will be -1 as there are a total of three consecutive \"prev\" strings including this \"prev\" which are visited, but the total number of integers visited is two.  \n",
    "\n",
    "Ex2:  \n",
    "Input: words = [\"1\",\"prev\",\"2\",\"prev\",\"prev\"]  \n",
    "Output: [1,2,1]  \n",
    "Explanation:  \n",
    "For \"prev\" at index = 1, last visited integer will be 1.  \n",
    "For \"prev\" at index = 3, last visited integer will be 2.  \n",
    "For \"prev\" at index = 4, last visited integer will be 1 as there are a total of two consecutive \"prev\" strings including this \"prev\" which are visited, and 1 is the second last visited integer."
   ]
  },
  {
   "cell_type": "markdown",
   "id": "28cbecd4-ce2e-4fc2-99db-d05938054f97",
   "metadata": {},
   "source": [
    "* 解題想法：  \n",
    "首先建立一個list，用來存放結果，並用另一個list來存放資料，再用一個變數作為目前的index，接著開始檢查出現的值，如果出現的不為Prev，則放入資料中，並將index進行更新，如果出現的為prev，則檢查目前的index與資料是否為空，如果有辦法回傳數字則回傳數字，否則回傳-1，最後回傳結果"
   ]
  },
  {
   "cell_type": "code",
   "execution_count": null,
   "id": "93ee4286-1e8b-48e3-8dfa-f1795250da2a",
   "metadata": {},
   "outputs": [],
   "source": [
    "class Solution:\n",
    "    def lastVisitedIntegers(self, words: List[str]) -> List[int]:\n",
    "        res = []\n",
    "        data = []\n",
    "        i = 0\n",
    "        for w in words:\n",
    "            if w != 'prev':\n",
    "                data.append(w)\n",
    "                i = len(data)-1\n",
    "            else:\n",
    "                if i >= 0 and len(data) > 0:\n",
    "                    res.append(int(data[i]))\n",
    "                    i -= 1\n",
    "                else:\n",
    "                    res.append(-1)\n",
    "        return res"
   ]
  }
 ],
 "metadata": {
  "kernelspec": {
   "display_name": "Python 3 (ipykernel)",
   "language": "python",
   "name": "python3"
  },
  "language_info": {
   "codemirror_mode": {
    "name": "ipython",
    "version": 3
   },
   "file_extension": ".py",
   "mimetype": "text/x-python",
   "name": "python",
   "nbconvert_exporter": "python",
   "pygments_lexer": "ipython3",
   "version": "3.10.9"
  }
 },
 "nbformat": 4,
 "nbformat_minor": 5
}
