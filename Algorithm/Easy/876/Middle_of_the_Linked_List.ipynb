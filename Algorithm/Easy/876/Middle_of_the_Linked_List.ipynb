{
 "cells": [
  {
   "cell_type": "markdown",
   "metadata": {},
   "source": [
    "# 找出linked list中間的值\n",
    "原題目連結：https://leetcode.com/problems/middle-of-the-linked-list/  \n",
    "\n",
    "範例：\n",
    "Ex1:  \n",
    "Input: [1,2,3,4,5]  \n",
    "Output: Node 3 from this list (Serialization: [3,4,5])  \n",
    "\n",
    "Ex2:  \n",
    "Input: [1,2,3,4,5,6]  \n",
    "Output: Node 4 from this list (Serialization: [4,5,6])  "
   ]
  },
  {
   "cell_type": "markdown",
   "metadata": {},
   "source": [
    "* 解題想法：  \n",
    "先找出list長度，再算出一半的點要跑幾次迴圈  \n",
    "再藉由迴圈取出值  \n",
    "如果長度是1的情況，就直接回傳原本的list"
   ]
  },
  {
   "cell_type": "code",
   "execution_count": null,
   "metadata": {},
   "outputs": [],
   "source": [
    "# Definition for singly-linked list.\n",
    "# class ListNode:\n",
    "#     def __init__(self, val=0, next=None):\n",
    "#         self.val = val\n",
    "#         self.next = next\n",
    "class Solution:\n",
    "    def middleNode(self, head: ListNode) -> ListNode:\n",
    "        head_str = str(head)\n",
    "        size = len(head_str.split('val')) -1\n",
    "        result = None\n",
    "        middle = 0\n",
    "        if size == 1:\n",
    "            return head\n",
    "        \n",
    "        else:\n",
    "            if size % 2 == 0:\n",
    "                middle = int( size / 2 )\n",
    "            else:\n",
    "                middle = int((size - 1) / 2 )\n",
    "            for n in range(middle):\n",
    "                result = head.next\n",
    "                head = result\n",
    "            return result"
   ]
  }
 ],
 "metadata": {
  "kernelspec": {
   "display_name": "Python 3",
   "language": "python",
   "name": "python3"
  },
  "language_info": {
   "codemirror_mode": {
    "name": "ipython",
    "version": 3
   },
   "file_extension": ".py",
   "mimetype": "text/x-python",
   "name": "python",
   "nbconvert_exporter": "python",
   "pygments_lexer": "ipython3",
   "version": "3.8.3"
  }
 },
 "nbformat": 4,
 "nbformat_minor": 4
}
