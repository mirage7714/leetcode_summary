{
 "cells": [
  {
   "cell_type": "markdown",
   "id": "30f7af3e-b26e-48d2-82aa-f3ffdb613203",
   "metadata": {},
   "source": [
    "# 本題要找出是否有顏色相同的正方形存在 (\\#Matrix )\n",
    "原題目連結: https://leetcode.com/problems/make-a-square-with-the-same-color/description/  \n",
    "\n",
    "You are given a 2D matrix grid of size 3 x 3 consisting only of characters 'B' and 'W'. Character 'W' represents the white color, and character 'B' represents the black color.  \n",
    "Your task is to change the color of at most one cell so that the matrix has a 2 x 2 square where all cells are of the same color.  \n",
    "Return true if it is possible to create a 2 x 2 square of the same color, otherwise, return false.  \n",
    "\n",
    "範例:  \n",
    "Ex1:  \n",
    "Input: grid = [[\"B\",\"W\",\"B\"],[\"B\",\"W\",\"W\"],[\"B\",\"W\",\"B\"]]  \n",
    "Output: true  \n",
    "Explanation:  \n",
    "It can be done by changing the color of the grid[0][2].  \n",
    "\n",
    "Ex2:  \n",
    "Input: grid = [[\"B\",\"W\",\"B\"],[\"W\",\"B\",\"W\"],[\"B\",\"W\",\"B\"]]  \n",
    "Output: false  \n",
    "Explanation:  \n",
    "It cannot be done by changing at most one cell.  \n",
    "\n",
    "Ex3:  \n",
    "Input: grid = [[\"B\",\"W\",\"B\"],[\"B\",\"W\",\"W\"],[\"B\",\"W\",\"W\"]]  \n",
    "Output: true  \n",
    "Explanation:  \n",
    "The grid already contains a 2 x 2 square of the same color."
   ]
  },
  {
   "cell_type": "markdown",
   "id": "b9869193-37d2-4604-b513-067b30dd1733",
   "metadata": {},
   "source": [
    "* 解題想法:  \n",
    "首先分別找出四個2x2的正方形，並計算其中顏色的數量，如果都是同色或是只有一個方塊顏色不同則回傳True，如果四個方塊都沒有符合則回傳False"
   ]
  },
  {
   "cell_type": "code",
   "execution_count": null,
   "id": "7343c29a-1026-4528-af5a-ff2980c63fff",
   "metadata": {},
   "outputs": [],
   "source": [
    "class Solution:\n",
    "    def canMakeSquare(self, grid: List[List[str]]) -> bool:\n",
    "        x = 0\n",
    "        y = 0\n",
    "        for i in range(4):\n",
    "            t = {}\n",
    "            for i in range(2):\n",
    "                for j in range(2):\n",
    "                    g = grid[x+i][y+j]\n",
    "                    if g not in t.keys():\n",
    "                        t[g] = 0\n",
    "                    t[g] += 1\n",
    "            if len(t) == 1:\n",
    "                return True\n",
    "            elif min(t.values()) == 1:\n",
    "                return True\n",
    "            if x <= y:\n",
    "                x += 1\n",
    "            else:\n",
    "                y += 1\n",
    "                x -= 1\n",
    "        return False"
   ]
  }
 ],
 "metadata": {
  "kernelspec": {
   "display_name": "Python 3 (ipykernel)",
   "language": "python",
   "name": "python3"
  },
  "language_info": {
   "codemirror_mode": {
    "name": "ipython",
    "version": 3
   },
   "file_extension": ".py",
   "mimetype": "text/x-python",
   "name": "python",
   "nbconvert_exporter": "python",
   "pygments_lexer": "ipython3",
   "version": "3.11.4"
  }
 },
 "nbformat": 4,
 "nbformat_minor": 5
}
