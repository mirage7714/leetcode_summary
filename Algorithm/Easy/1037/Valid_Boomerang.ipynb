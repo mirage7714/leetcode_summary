{
 "cells": [
  {
   "cell_type": "markdown",
   "metadata": {},
   "source": [
    "# 本題要判斷在array中的三點是否共線\n",
    "原題目連結: https://leetcode.com/problems/valid-boomerang/  \n",
    "\n",
    "A boomerang is a set of 3 points that are all distinct and not in a straight line.  \n",
    "\n",
    "Given a list of three points in the plane, return whether these points are a boomerang.  \n",
    "\n",
    "範例:  \n",
    "Ex1:  \n",
    "Input: [[1,1],[2,3],[3,2]]  \n",
    "Output: true  \n",
    "\n",
    "Ex2:  \n",
    "Input: [[1,1],[2,2],[3,3]]  \n",
    "Output: false"
   ]
  },
  {
   "cell_type": "markdown",
   "metadata": {},
   "source": [
    "* 解題想法:  \n",
    "由於是要判斷list中三點是否共線，因此可以藉由兩兩之間的斜率來判斷是否相同  \n",
    "若相同則代表共線，否則就是不共線。因為有可能遇到分母為零的情況，因此將分母為零的情況用很大的數字來取代"
   ]
  },
  {
   "cell_type": "code",
   "execution_count": null,
   "metadata": {},
   "outputs": [],
   "source": [
    "class Solution:\n",
    "    def isBoomerang(self, points: List[List[int]]) -> bool:\n",
    "        is_valid = True\n",
    "        slope = []\n",
    "        for n in range(len(points)-1):\n",
    "            if points[n] != points[n+1]:\n",
    "                if points[n][1] - points[n+1][1] != 0:\n",
    "                    s = ((points[n][0] - points[n+1][0])/(points[n][1] - points[n+1][1]))\n",
    "                    slope.append(s)\n",
    "                else:\n",
    "                    slope.append(1000000)\n",
    "            else:\n",
    "                is_valid = False\n",
    "                break\n",
    "        if is_valid:\n",
    "            if slope[0] == slope[1]:\n",
    "                is_valid = False\n",
    "        return is_valid"
   ]
  }
 ],
 "metadata": {
  "kernelspec": {
   "display_name": "Python 3",
   "language": "python",
   "name": "python3"
  },
  "language_info": {
   "codemirror_mode": {
    "name": "ipython",
    "version": 3
   },
   "file_extension": ".py",
   "mimetype": "text/x-python",
   "name": "python",
   "nbconvert_exporter": "python",
   "pygments_lexer": "ipython3",
   "version": "3.7.4"
  }
 },
 "nbformat": 4,
 "nbformat_minor": 2
}
