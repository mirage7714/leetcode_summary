{
 "cells": [
  {
   "cell_type": "markdown",
   "id": "531549ef-3e1e-4c23-b152-eae1d78bc556",
   "metadata": {},
   "source": [
    "# 本題要驗證code是否正確 (\\#Array, \\#String )\n",
    "原題目連結: https://leetcode.com/problems/coupon-code-validator/description/  \n",
    "\n",
    "You are given three arrays of length n that describe the properties of n coupons: code, businessLine, and isActive. The ith coupon has:  \n",
    "- code[i]: a string representing the coupon identifier.  \n",
    "- businessLine[i]: a string denoting the business category of the coupon.  \n",
    "- isActive[i]: a boolean indicating whether the coupon is currently active.  \n",
    "A coupon is considered valid if all of the following conditions hold:  \n",
    "\n",
    "- code[i] is non-empty and consists only of alphanumeric characters (a-z, A-Z, 0-9) and underscores (_).  \n",
    "- businessLine[i] is one of the following four categories: \"electronics\", \"grocery\", \"pharmacy\", \"restaurant\".  \n",
    "- isActive[i] is true.  \n",
    "Return an array of the codes of all valid coupons, sorted first by their businessLine in the order: \"electronics\", \"grocery\", \"pharmacy\", \"restaurant\", and then by code in lexicographical (ascending) order within each category.  \n",
    "\n",
    "範例:  \n",
    "Ex1:  \n",
    "Input: code = [\"SAVE20\",\"\",\"PHARMA5\",\"SAVE@20\"], businessLine = [\"restaurant\",\"grocery\",\"pharmacy\",\"restaurant\"], isActive = [true,true,true,true]  \n",
    "Output: [\"PHARMA5\",\"SAVE20\"]  \n",
    "Explanation:  \n",
    "First coupon is valid.  \n",
    "Second coupon has empty code (invalid).  \n",
    "Third coupon is valid.  \n",
    "Fourth coupon has special character @ (invalid).  \n",
    "\n",
    "Ex2:  \n",
    "Input: code = [\"GROCERY15\",\"ELECTRONICS_50\",\"DISCOUNT10\"], businessLine = [\"grocery\",\"electronics\",\"invalid\"], isActive = [false,true,true]  \n",
    "Output: [\"ELECTRONICS_50\"]  \n",
    "Explanation:  \n",
    "First coupon is inactive (invalid).  \n",
    "Second coupon is valid.  \n",
    "Third coupon has invalid business line (invalid).  "
   ]
  },
  {
   "cell_type": "markdown",
   "id": "bcca19b7-8be0-47fc-a6dd-82f83e818a14",
   "metadata": {},
   "source": [
    "* 解題想法:  \n",
    "首先建立一個函數用來判斷coupon code是否正確，如果有效則回傳True，接著檢查類別是否在指定的四個類別中，如果是而且isActive為true的情況則放入dict中，最後依序從dict取出值之後排序並放入結果中就是答案"
   ]
  },
  {
   "cell_type": "code",
   "execution_count": null,
   "id": "5c110c45-45bc-453f-9bcf-3e9dde66b931",
   "metadata": {},
   "outputs": [],
   "source": [
    "class Solution:\n",
    "    def validateCoupons(self, code: List[str], businessLine: List[str], isActive: List[bool]) -> List[str]:\n",
    "        def is_valid_code(code):\n",
    "            for c in code:\n",
    "                if not c.isalpha() and not c.isnumeric() and c != '_':\n",
    "                    return False\n",
    "            return True\n",
    "\n",
    "        res = []\n",
    "        count = {}\n",
    "        ca = ['electronics', 'grocery', 'pharmacy', 'restaurant']\n",
    "        for i in range(len(code)):\n",
    "            if len(code[i]) > 0:\n",
    "                if is_valid_code(code[i]) and businessLine[i] in ca and isActive[i] == True:\n",
    "                    if businessLine[i] not in count.keys():\n",
    "                        count[businessLine[i]] = []\n",
    "                    count[businessLine[i]].append(code[i])\n",
    "        for c in ca:\n",
    "            if c in count.keys():\n",
    "                val = count[c]\n",
    "                val.sort()\n",
    "                res += val\n",
    "        return res"
   ]
  }
 ],
 "metadata": {
  "kernelspec": {
   "display_name": "Python 3 (ipykernel)",
   "language": "python",
   "name": "python3"
  },
  "language_info": {
   "codemirror_mode": {
    "name": "ipython",
    "version": 3
   },
   "file_extension": ".py",
   "mimetype": "text/x-python",
   "name": "python",
   "nbconvert_exporter": "python",
   "pygments_lexer": "ipython3",
   "version": "3.9.13"
  }
 },
 "nbformat": 4,
 "nbformat_minor": 5
}
