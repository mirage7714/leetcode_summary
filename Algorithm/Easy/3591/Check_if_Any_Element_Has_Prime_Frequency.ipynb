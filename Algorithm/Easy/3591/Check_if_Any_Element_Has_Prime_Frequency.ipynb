{
 "cells": [
  {
   "cell_type": "markdown",
   "id": "849e9971-007b-4b0e-9425-d26c5506376c",
   "metadata": {},
   "source": [
    "# 本題要找出是否有數字的出現頻率為質數 (\\#HashHap )\n",
    "原題目連結: https://leetcode.com/problems/check-if-any-element-has-prime-frequency/description/  \n",
    "\n",
    "You are given an integer array nums.  \n",
    "Return true if the frequency of any element of the array is prime, otherwise, return false.  \n",
    "The frequency of an element x is the number of times it occurs in the array.  \n",
    "A prime number is a natural number greater than 1 with only two factors, 1 and itself.  \n",
    "\n",
    "範例:  \n",
    "Ex1:  \n",
    "Input: nums = [1,2,3,4,5,4]  \n",
    "Output: true  \n",
    "Explanation:  \n",
    "4 has a frequency of two, which is a prime number.  \n",
    "\n",
    "Ex2:  \n",
    "Input: nums = [1,2,3,4,5]  \n",
    "Output: false  \n",
    "Explanation:  \n",
    "All elements have a frequency of one.  \n",
    "\n",
    "Ex3:  \n",
    "Input: nums = [2,2,2,4,4]  \n",
    "Output: true  \n",
    "Explanation:  \n",
    "Both 2 and 4 have a prime frequency.  "
   ]
  },
  {
   "cell_type": "markdown",
   "id": "a46db271-fc85-4a17-a586-15b223506a3b",
   "metadata": {},
   "source": [
    "* 解題想法:  \n",
    "首先用一個dict將每個數字出現的頻率記錄下來後，逐個檢查是否有質數的次數出現，如果有則回傳true，如果最後都沒有出現則回傳false"
   ]
  },
  {
   "cell_type": "code",
   "execution_count": null,
   "id": "76932de4-925f-47c3-890b-047bc9e9e397",
   "metadata": {},
   "outputs": [],
   "source": [
    "class Solution:\n",
    "    def checkPrimeFrequency(self, nums: List[int]) -> bool:\n",
    "        def is_prime(num):\n",
    "            if num == 1:\n",
    "                return False\n",
    "            for i in range(2, int(sqrt(num)) + 1):\n",
    "                if num % i == 0:\n",
    "                    return False\n",
    "            return True\n",
    "\n",
    "        count = {}\n",
    "        for n in nums:\n",
    "            if n not in count.keys():\n",
    "                count[n] = 0\n",
    "            count[n] += 1\n",
    "        for val in count.values():\n",
    "            if is_prime(val):\n",
    "                return True\n",
    "        return False"
   ]
  }
 ],
 "metadata": {
  "kernelspec": {
   "display_name": "Python 3 (ipykernel)",
   "language": "python",
   "name": "python3"
  },
  "language_info": {
   "codemirror_mode": {
    "name": "ipython",
    "version": 3
   },
   "file_extension": ".py",
   "mimetype": "text/x-python",
   "name": "python",
   "nbconvert_exporter": "python",
   "pygments_lexer": "ipython3",
   "version": "3.9.13"
  }
 },
 "nbformat": 4,
 "nbformat_minor": 5
}
