{
 "cells": [
  {
   "cell_type": "markdown",
   "id": "f7a48b3e-5e39-4ee6-97a7-fea89d4d1058",
   "metadata": {},
   "source": [
    "# 本題要找出matrix是否符合條件 (\\#Matrix )\n",
    "原題目連結: https://leetcode.com/problems/check-if-grid-satisfies-conditions/description/  \n",
    "\n",
    "You are given a 2D matrix grid of size m x n. You need to check if each cell grid[i][j] is:  \n",
    "Equal to the cell below it, i.e. grid[i][j] == grid[i + 1][j] (if it exists).  \n",
    "Different from the cell to its right, i.e. grid[i][j] != grid[i][j + 1] (if it exists).  \n",
    "Return true if all the cells satisfy these conditions, otherwise, return false.  \n",
    "\n",
    "範例:  \n",
    "Ex1:  \n",
    "Input: grid = [[1,0,2],[1,0,2]]  \n",
    "Output: true  \n",
    "Explanation:  \n",
    "All the cells in the grid satisfy the conditions.  \n",
    "\n",
    "Ex2:  \n",
    "Input: grid = [[1,1,1],[0,0,0]]  \n",
    "Output: false  \n",
    "Explanation:  \n",
    "All cells in the first row are equal.  \n",
    "\n",
    "Ex3:  \n",
    "Input: grid = [[1],[2],[3]]  \n",
    "Output: false  \n",
    "Explanation:  \n",
    "Cells in the first column have different values. "
   ]
  },
  {
   "cell_type": "markdown",
   "id": "56b12519-9276-43ef-a59b-5a153ac8b149",
   "metadata": {},
   "source": [
    "* 解題想法:  \n",
    "手先檢查如果該列不是最後一列的情況，該位置的數值是否與下面一列相同位置的數值相同，如果不相同則回傳False，接著檢查右邊的值是否存在，如果存在則檢查是否相同，如果相同則回傳False，如果迴圈順利結束則回傳True"
   ]
  },
  {
   "cell_type": "code",
   "execution_count": null,
   "id": "00f1bfa5-464c-4f01-9a3e-3d119949c5a6",
   "metadata": {},
   "outputs": [],
   "source": [
    "class Solution:\n",
    "    def satisfiesConditions(self, grid: List[List[int]]) -> bool:\n",
    "        for i in range(len(grid)):\n",
    "            for j in range(len(grid[0])):\n",
    "                if i + 1 < len(grid): \n",
    "                    if grid[i][j] != grid[i+1][j]:\n",
    "                        return False\n",
    "                if j + 1 < len(grid[0]): \n",
    "                    if grid[i][j] == grid[i][j+1]:\n",
    "                        return False\n",
    "        return True"
   ]
  }
 ],
 "metadata": {
  "kernelspec": {
   "display_name": "Python 3 (ipykernel)",
   "language": "python",
   "name": "python3"
  },
  "language_info": {
   "codemirror_mode": {
    "name": "ipython",
    "version": 3
   },
   "file_extension": ".py",
   "mimetype": "text/x-python",
   "name": "python",
   "nbconvert_exporter": "python",
   "pygments_lexer": "ipython3",
   "version": "3.9.13"
  }
 },
 "nbformat": 4,
 "nbformat_minor": 5
}
