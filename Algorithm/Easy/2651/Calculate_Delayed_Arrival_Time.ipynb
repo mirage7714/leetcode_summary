{
 "cells": [
  {
   "cell_type": "markdown",
   "id": "0b8ecd43-b163-4cd2-83c0-1caad9766064",
   "metadata": {},
   "source": [
    "# 本題要計算出最後的到達時間為多少 (\\#Math)\n",
    "原題目連結: https://leetcode.com/problems/calculate-delayed-arrival-time/description/  \n",
    "\n",
    "You are given a positive integer arrivalTime denoting the arrival time of a train in hours, and another positive integer delayedTime denoting the amount of delay in hours.  \n",
    "\n",
    "Return the time when the train will arrive at the station.  \n",
    "Note that the time in this problem is in 24-hours format.  \n",
    "\n",
    "範例:  \n",
    "Ex1:  \n",
    "Input: arrivalTime = 15, delayedTime = 5   \n",
    "Output: 20   \n",
    "Explanation: Arrival time of the train was 15:00 hours. It is delayed by 5 hours. Now it will reach at 15+5 = 20 (20:00 hours).  \n",
    "\n",
    "Ex2:  \n",
    "Input: arrivalTime = 13, delayedTime = 11  \n",
    "Output: 0  \n",
    "Explanation: Arrival time of the train was 13:00 hours. It is delayed by 11 hours. Now it will reach at 13+11=24 (Which is denoted by 00:00 in 24 hours format so return 0)."
   ]
  },
  {
   "cell_type": "markdown",
   "id": "b87d2938-99bc-4018-96fe-2565611b8646",
   "metadata": {},
   "source": [
    "* 解題想法:  \n",
    "由於小時是24進位，因此只要找出到達時間加上延誤時間除上24的餘數就是答案"
   ]
  },
  {
   "cell_type": "code",
   "execution_count": null,
   "id": "a2214453-8b43-4ed4-8561-772dd1391e82",
   "metadata": {},
   "outputs": [],
   "source": [
    "class Solution:\n",
    "    def findDelayedArrivalTime(self, arrivalTime: int, delayedTime: int) -> int:\n",
    "        return (arrivalTime + delayedTime) % 24"
   ]
  }
 ],
 "metadata": {
  "kernelspec": {
   "display_name": "Python 3 (ipykernel)",
   "language": "python",
   "name": "python3"
  },
  "language_info": {
   "codemirror_mode": {
    "name": "ipython",
    "version": 3
   },
   "file_extension": ".py",
   "mimetype": "text/x-python",
   "name": "python",
   "nbconvert_exporter": "python",
   "pygments_lexer": "ipython3",
   "version": "3.9.13"
  }
 },
 "nbformat": 4,
 "nbformat_minor": 5
}
