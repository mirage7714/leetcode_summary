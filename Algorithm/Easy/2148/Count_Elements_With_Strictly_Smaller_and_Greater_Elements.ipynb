{
 "cells": [
  {
   "cell_type": "markdown",
   "metadata": {},
   "source": [
    "# 本題要找出符合條件的數字共有多少\n",
    "原題目連結: https://leetcode.com/problems/count-elements-with-strictly-smaller-and-greater-elements/  \n",
    "\n",
    "Given an integer array nums, return the number of elements that have both a strictly smaller and a strictly greater element appear in nums.  \n",
    "\n",
    "範例:  \n",
    "Ex1:  \n",
    "Input: nums = [11,7,2,15]  \n",
    "Output: 2  \n",
    "Explanation: The element 7 has the element 2 strictly smaller than it and the element 11 strictly greater than it.  \n",
    "Element 11 has element 7 strictly smaller than it and element 15 strictly greater than it.  \n",
    "In total there are 2 elements having both a strictly smaller and a strictly greater element appear in nums.  \n",
    "\n",
    "Ex2:  \n",
    "Input: nums = [-3,3,3,90]  \n",
    "Output: 2  \n",
    "Explanation: The element 3 has the element -3 strictly smaller than it and the element 90 strictly greater than it.  \n",
    "Since there are two elements with the value 3, in total there are 2 elements having both a strictly smaller and a strictly greater element appear in nums."
   ]
  },
  {
   "cell_type": "markdown",
   "metadata": {},
   "source": [
    "* 解題想法:  \n",
    "首先找出出現的數字共有多少種並放入一個dict中，接著檢查key值的長度，如果長度大於2的話，則找出中間共有多少的key值，並將對應的個數做加總，最後回傳總和為多少"
   ]
  },
  {
   "cell_type": "code",
   "execution_count": null,
   "metadata": {},
   "outputs": [],
   "source": [
    "class Solution:\n",
    "    def countElements(self, nums: List[int]) -> int:\n",
    "        freq = {}\n",
    "        total = 0\n",
    "        for n in nums:\n",
    "            if n not in freq.keys():\n",
    "                freq[n] = 1\n",
    "            else:\n",
    "                freq[n] += 1\n",
    "        keys = list(freq.keys())\n",
    "        if len(keys) > 2:\n",
    "            keys.sort()\n",
    "            for k in range(1, len(keys)-1):\n",
    "                total += freq[keys[k]]\n",
    "        return total"
   ]
  }
 ],
 "metadata": {
  "kernelspec": {
   "display_name": "Python 3",
   "language": "python",
   "name": "python3"
  },
  "language_info": {
   "codemirror_mode": {
    "name": "ipython",
    "version": 3
   },
   "file_extension": ".py",
   "mimetype": "text/x-python",
   "name": "python",
   "nbconvert_exporter": "python",
   "pygments_lexer": "ipython3",
   "version": "3.7.4"
  }
 },
 "nbformat": 4,
 "nbformat_minor": 4
}
