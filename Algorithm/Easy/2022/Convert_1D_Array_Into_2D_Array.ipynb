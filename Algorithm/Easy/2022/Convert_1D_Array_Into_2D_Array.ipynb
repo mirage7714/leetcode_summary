{
 "cells": [
  {
   "cell_type": "markdown",
   "metadata": {},
   "source": [
    "#本題要將1D list轉換成2D list  \n",
    "原題目連結: https://leetcode.com/problems/convert-1d-array-into-2d-array/  \n",
    "\n",
    "You are given a 0-indexed 1-dimensional (1D) integer array original, and two integers, m and n. You are tasked with creating a 2-dimensional (2D) array with m rows and n columns using all the elements from original.  \n",
    "\n",
    "The elements from indices 0 to n - 1 (inclusive) of original should form the first row of the constructed 2D array, the elements from indices n to 2 * n - 1 (inclusive) should form the second row of the constructed 2D array, and so on.  \n",
    "\n",
    "Return an m x n 2D array constructed according to the above procedure, or an empty 2D array if it is impossible.  \n",
    "\n",
    "範例:  \n",
    "Ex1:  \n",
    "Input: original = [1,2,3,4], m = 2, n = 2  \n",
    "Output: [[1,2],[3,4]]  \n",
    "Explanation:  \n",
    "The constructed 2D array should contain 2 rows and 2 columns.  \n",
    "The first group of n=2 elements in original, [1,2], becomes the first row in the constructed 2D array.  \n",
    "The second group of n=2 elements in original, [3,4], becomes the second row in the constructed 2D array.  \n",
    "\n",
    "Ex2:  \n",
    "Input: original = [1,2,3], m = 1, n = 3  \n",
    "Output: [[1,2,3]]  \n",
    "Explanation:  \n",
    "The constructed 2D array should contain 1 row and 3 columns.  \n",
    "Put all three elements in original into the first row of the constructed 2D array.  \n",
    "\n",
    "Ex3:  \n",
    "Input: original = [1,2], m = 1, n = 1  \n",
    "Output: []  \n",
    "Explanation:  \n",
    "There are 2 elements in original.   \n",
    "It is impossible to fit 2 elements in a 1x1 2D array, so return an empty 2D array.  \n",
    "\n",
    "Ex4:  \n",
    "Input: original = [3], m = 1, n = 2  \n",
    "Output: []  \n",
    "Explanation:  \n",
    "There is 1 element in original.  \n",
    "It is impossible to make 1 element fill all the spots in a 1x2 2D array, so return an empty 2D array."
   ]
  },
  {
   "cell_type": "markdown",
   "metadata": {},
   "source": [
    "* 解題想法:   \n",
    "首先確認原始1D list的長度是否可以轉換成指定的2D list，如果可以的話則開始用m當成迴圈執行的次數，接著每次都將長度為n的sub list加入結果中，最後將結果回傳  \n",
    "如果無法組合成指定的2D list，則回傳空list"
   ]
  },
  {
   "cell_type": "code",
   "execution_count": null,
   "metadata": {},
   "outputs": [],
   "source": [
    "class Solution:\n",
    "    def construct2DArray(self, original: List[int], m: int, n: int) -> List[List[int]]:\n",
    "        result = []\n",
    "        if m * n == len(original):\n",
    "            for l in range(m):  \n",
    "                result.append(original[l*n:l*n+n])\n",
    "        return result"
   ]
  }
 ],
 "metadata": {
  "kernelspec": {
   "display_name": "Python 3",
   "language": "python",
   "name": "python3"
  },
  "language_info": {
   "codemirror_mode": {
    "name": "ipython",
    "version": 3
   },
   "file_extension": ".py",
   "mimetype": "text/x-python",
   "name": "python",
   "nbconvert_exporter": "python",
   "pygments_lexer": "ipython3",
   "version": "3.7.4"
  }
 },
 "nbformat": 4,
 "nbformat_minor": 4
}
