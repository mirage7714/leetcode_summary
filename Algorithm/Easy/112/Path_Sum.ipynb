{
 "cells": [
  {
   "cell_type": "markdown",
   "metadata": {},
   "source": [
    "# 本題要找出路徑的和是否有與指定的值相同\n",
    "原題目連結: https://leetcode.com/problems/path-sum/  \n",
    "\n",
    "Given the root of a binary tree and an integer targetSum, return true if the tree has a root-to-leaf path such that adding up all the values along the path equals targetSum.  \n",
    "\n",
    "A leaf is a node with no children.  \n",
    "\n",
    "範例:  \n",
    "Ex1:  \n",
    "Input: root = [5,4,8,11,null,13,4,7,2,null,null,null,1], targetSum = 22  \n",
    "Output: true  \n",
    "Explanation: The root-to-leaf path with the target sum is shown.  \n",
    "\n",
    "Ex2:  \n",
    "Input: root = [1,2,3], targetSum = 5  \n",
    "Output: false  \n",
    "Explanation: There two root-to-leaf paths in the tree:  \n",
    "(1 --> 2): The sum is 3.  \n",
    "(1 --> 3): The sum is 4.  \n",
    "There is no root-to-leaf path with sum = 5.  \n",
    "\n",
    "Ex3:    \n",
    "Input: root = [], targetSum = 0  \n",
    "Output: false  \n",
    "Explanation: Since the tree is empty, there are no root-to-leaf paths."
   ]
  },
  {
   "cell_type": "markdown",
   "metadata": {},
   "source": [
    "* 解題想法:  \n",
    "由於要從上到下找出是否有總和相符的路徑，因此需要使用DFS進行解題，在從上到下進行檢查的過程中將下方節點的數值加上母節點的值，直到走訪結束如果有符合的值則回傳True"
   ]
  },
  {
   "cell_type": "code",
   "execution_count": null,
   "metadata": {},
   "outputs": [],
   "source": [
    "# Definition for a binary tree node.\n",
    "# class TreeNode:\n",
    "#     def __init__(self, val=0, left=None, right=None):\n",
    "#         self.val = val\n",
    "#         self.left = left\n",
    "#         self.right = right\n",
    "class Solution:\n",
    "    def hasPathSum(self, root: TreeNode, sum: int) -> bool:\n",
    "        result = False\n",
    "        if root:\n",
    "            stack = [root]\n",
    "            while len(stack) > 0:\n",
    "                node = stack.pop()\n",
    "                if node.val == sum and not node.left and not node.right:\n",
    "                    result = True\n",
    "                    break\n",
    "                if node.left:\n",
    "                    node.left.val += node.val\n",
    "                    stack.append(node.left)\n",
    "                \n",
    "                if node.right:\n",
    "                    node.right.val += node.val\n",
    "                    stack.append(node.right)\n",
    "        return result"
   ]
  }
 ],
 "metadata": {
  "kernelspec": {
   "display_name": "Python 3",
   "language": "python",
   "name": "python3"
  },
  "language_info": {
   "codemirror_mode": {
    "name": "ipython",
    "version": 3
   },
   "file_extension": ".py",
   "mimetype": "text/x-python",
   "name": "python",
   "nbconvert_exporter": "python",
   "pygments_lexer": "ipython3",
   "version": "3.7.4"
  }
 },
 "nbformat": 4,
 "nbformat_minor": 4
}
