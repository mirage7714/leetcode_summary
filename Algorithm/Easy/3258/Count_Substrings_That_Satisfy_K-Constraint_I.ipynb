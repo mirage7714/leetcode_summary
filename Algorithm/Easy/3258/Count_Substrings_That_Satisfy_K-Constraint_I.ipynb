{
 "cells": [
  {
   "cell_type": "markdown",
   "id": "0fb3b3eb-b630-43e6-8e96-ce90ea82466f",
   "metadata": {},
   "source": [
    "# 本題要找出共有多少個substring符合條件 (\\#String )\n",
    "原題目連結: https://leetcode.com/problems/count-substrings-that-satisfy-k-constraint-i/description/  \n",
    "\n",
    "You are given a binary string s and an integer k.  \n",
    "A binary string satisfies the k-constraint if either of the following conditions holds:  \n",
    "The number of 0's in the string is at most k.  \n",
    "The number of 1's in the string is at most k.  \n",
    "Return an integer denoting the number of substrings of s that satisfy the k-constraint.  \n",
    "\n",
    "範例:  \n",
    "Ex1:  \n",
    "Input: s = \"10101\", k = 1  \n",
    "Output: 12  \n",
    "Explanation:  \n",
    "Every substring of s except the substrings \"1010\", \"10101\", and \"0101\" satisfies the k-constraint.  \n",
    "\n",
    "Ex2:  \n",
    "Input: s = \"1010101\", k = 2  \n",
    "Output: 25  \n",
    "Explanation:  \n",
    "Every substring of s except the substrings with a length greater than 5 satisfies the k-constraint.  \n",
    "\n",
    "Ex3:  \n",
    "Input: s = \"11111\", k = 1  \n",
    "Output: 15  \n",
    "Explanation:  \n",
    "All substrings of s satisfy the k-constraint."
   ]
  },
  {
   "cell_type": "markdown",
   "id": "bcc0a57c-3f2f-42d2-83d1-9c897e3b2ae9",
   "metadata": {},
   "source": [
    "* 解題想法:  \n",
    "用迴圈找出從2到n長度的子字串，並找出第一個子字串的組成，如果子字串的組成符合條件則將結果+1，接著用迴圈檢查每個子字串並更新出現的頻率，最後回傳統計的結果就是答案"
   ]
  },
  {
   "cell_type": "code",
   "execution_count": null,
   "id": "a37b376f-07a3-48da-991a-72f89fdba58a",
   "metadata": {},
   "outputs": [],
   "source": [
    "class Solution:\n",
    "    def countKConstraintSubstrings(self, s: str, k: int) -> int:\n",
    "        res = len(s)\n",
    "        for i in range(2, len(s)+1):\n",
    "            count = {}\n",
    "            for p in s[:i]:\n",
    "                if p not in count.keys():\n",
    "                    count[p] = 0\n",
    "                count[p] += 1\n",
    "            if len(count) == 1 or min(count['0'], count['1']) <= k:\n",
    "                res += 1\n",
    "            for j in range(i, len(s)):\n",
    "                if s[j] not in count.keys():\n",
    "                    count[s[j]] = 0\n",
    "                count[s[j]] += 1\n",
    "                if count[s[j-i]] == 1:\n",
    "                    count.pop(s[j-i])\n",
    "                else:\n",
    "                    count[s[j-i]] -= 1\n",
    "                if len(count) == 1 or min(count['0'], count['1']) <= k:\n",
    "                    res += 1\n",
    "        return res"
   ]
  }
 ],
 "metadata": {
  "kernelspec": {
   "display_name": "Python 3 (ipykernel)",
   "language": "python",
   "name": "python3"
  },
  "language_info": {
   "codemirror_mode": {
    "name": "ipython",
    "version": 3
   },
   "file_extension": ".py",
   "mimetype": "text/x-python",
   "name": "python",
   "nbconvert_exporter": "python",
   "pygments_lexer": "ipython3",
   "version": "3.9.13"
  }
 },
 "nbformat": 4,
 "nbformat_minor": 5
}
