{
 "cells": [
  {
   "cell_type": "markdown",
   "metadata": {},
   "source": [
    "# 本題要用postorder的方式來走訪binary tree\n",
    "原題目連結: https://leetcode.com/problems/binary-tree-postorder-traversal/  \n",
    "\n",
    "Given the root of a binary tree, return the postorder traversal of its nodes' values.  \n",
    "\n",
    "範例:  \n",
    "Ex1:  \n",
    "Input: root = [1,null,2,3]  \n",
    "Output: [3,2,1]  \n",
    "\n",
    "Ex2:  \n",
    "Input: root = []  \n",
    "Output: []  \n",
    "\n",
    "Ex3:  \n",
    "Input: root = [1]  \n",
    "Output: [1]"
   ]
  },
  {
   "cell_type": "markdown",
   "metadata": {},
   "source": [
    "* 解題想法:  \n",
    "postorder的走訪方式是從左右子節點開始進行走訪，最後才回到父節點，因此建立一個postorder的函數，並從左右兩邊的子節點開始進行走訪，最後再走回父節點"
   ]
  },
  {
   "cell_type": "code",
   "execution_count": null,
   "metadata": {},
   "outputs": [],
   "source": [
    "# Definition for a binary tree node.\n",
    "# class TreeNode:\n",
    "#     def __init__(self, val=0, left=None, right=None):\n",
    "#         self.val = val\n",
    "#         self.left = left\n",
    "#         self.right = right\n",
    "class Solution:\n",
    "    def postorderTraversal(self, root: Optional[TreeNode]) -> List[int]:\n",
    "        def postorder(stack, val):\n",
    "            if stack:\n",
    "                node = stack.pop()\n",
    "                if node.left:\n",
    "                    stack.append(node.left)\n",
    "                    postorder(stack, val)\n",
    "                if node.right:\n",
    "                    stack.append(node.right)\n",
    "                    postorder(stack, val)\n",
    "                val.append(node.val)\n",
    "        result = []\n",
    "        if root:\n",
    "            stack = [root]\n",
    "            postorder(stack, result)\n",
    "        return result"
   ]
  }
 ],
 "metadata": {
  "kernelspec": {
   "display_name": "Python 3",
   "language": "python",
   "name": "python3"
  },
  "language_info": {
   "codemirror_mode": {
    "name": "ipython",
    "version": 3
   },
   "file_extension": ".py",
   "mimetype": "text/x-python",
   "name": "python",
   "nbconvert_exporter": "python",
   "pygments_lexer": "ipython3",
   "version": "3.7.4"
  }
 },
 "nbformat": 4,
 "nbformat_minor": 4
}
