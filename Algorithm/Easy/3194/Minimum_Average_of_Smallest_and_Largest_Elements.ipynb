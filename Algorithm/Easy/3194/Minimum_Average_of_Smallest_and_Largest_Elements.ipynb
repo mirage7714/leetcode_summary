{
 "cells": [
  {
   "cell_type": "markdown",
   "id": "20bdc8c2-8336-4e40-9a77-19fe79773887",
   "metadata": {},
   "source": [
    "# 本題要找出最小的平均值為何 (\\#Array )\n",
    "原題目連結：https://leetcode.com/problems/minimum-average-of-smallest-and-largest-elements/description/  \n",
    "\n",
    "You have an array of floating point numbers averages which is initially empty. You are given an array nums of n integers where n is even.  \n",
    "You repeat the following procedure n / 2 times:  \n",
    "Remove the smallest element, minElement, and the largest element maxElement, from nums.  \n",
    "Add (minElement + maxElement) / 2 to averages.  \n",
    "Return the minimum element in averages.  \n",
    "\n",
    "範例：  \n",
    "Ex1:  \n",
    "Input: nums = [7,8,3,4,15,13,4,1]  \n",
    "Output: 5.5  \n",
    "Explanation:  \n",
    "step\tnums\taverages    \n",
    "0\t[7,8,3,4,15,13,4,1]\t[]    \n",
    "1\t[7,8,3,4,13,4]\t[8]    \n",
    "2\t[7,8,4,4]\t[8,8]  \n",
    "3\t[7,4]\t[8,8,6]  \n",
    "4\t[]\t[8,8,6,5.5]    \n",
    "The smallest element of averages, 5.5, is returned.  \n",
    "\n",
    "Ex2:  \n",
    "Input: nums = [1,9,8,3,10,5]  \n",
    "Output: 5.5  \n",
    "Explanation:  \n",
    "step\tnums\taverages  \n",
    "0\t[1,9,8,3,10,5]\t[]  \n",
    "1\t[9,8,3,5]\t[5.5]  \n",
    "2\t[8,5]\t[5.5,6]  \n",
    "3\t[]\t[5.5,6,6.5]  \n",
    "\n",
    "Ex3:  \n",
    "Input: nums = [1,2,3,7,8,9]  \n",
    "Output: 5.0  \n",
    "Explanation:  \n",
    "step\tnums\taverages  \n",
    "0\t[1,2,3,7,8,9]\t[]  \n",
    "1\t[2,3,7,8]\t[5]  \n",
    "2\t[3,7]\t[5,5]  \n",
    "3\t[]\t[5,5,5]  "
   ]
  },
  {
   "cell_type": "markdown",
   "id": "c7f86a2a-76e8-4725-a143-f070f2ef44fb",
   "metadata": {},
   "source": [
    "* 解題想法：  \n",
    "首先將nums進行排序後，依序從前後取值算出平均後與目前的最小值相比，並更新最小值，最後回傳最小值就是答案"
   ]
  },
  {
   "cell_type": "code",
   "execution_count": null,
   "id": "3161660c-820c-4650-870e-606af409d296",
   "metadata": {},
   "outputs": [],
   "source": [
    "class Solution:\n",
    "    def minimumAverage(self, nums: List[int]) -> float:\n",
    "        res = 0\n",
    "        nums.sort()\n",
    "        for i in range(len(nums)//2):\n",
    "            n = (nums[i] + nums[-1-i]) / 2\n",
    "            if res == 0:\n",
    "                res = n\n",
    "            else:\n",
    "                res = min(res, n)\n",
    "        return res"
   ]
  }
 ],
 "metadata": {
  "kernelspec": {
   "display_name": "Python 3 (ipykernel)",
   "language": "python",
   "name": "python3"
  },
  "language_info": {
   "codemirror_mode": {
    "name": "ipython",
    "version": 3
   },
   "file_extension": ".py",
   "mimetype": "text/x-python",
   "name": "python",
   "nbconvert_exporter": "python",
   "pygments_lexer": "ipython3",
   "version": "3.10.9"
  }
 },
 "nbformat": 4,
 "nbformat_minor": 5
}
