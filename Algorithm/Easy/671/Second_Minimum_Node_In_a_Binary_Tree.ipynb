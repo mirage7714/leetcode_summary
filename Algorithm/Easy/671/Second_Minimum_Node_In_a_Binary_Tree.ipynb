{
 "cells": [
  {
   "cell_type": "markdown",
   "metadata": {},
   "source": [
    "# 本題要找出中第二小的節點數值為何\n",
    "原題目連結: https://leetcode.com/problems/second-minimum-node-in-a-binary-tree/  \n",
    "\n",
    "Given a non-empty special binary tree consisting of nodes with the non-negative value, where each node in this tree has exactly two or zero sub-node. If the node has two sub-nodes, then this node's value is the smaller value among its two sub-nodes. More formally, the property root.val = min(root.left.val, root.right.val) always holds.  \n",
    "Given such a binary tree, you need to output the second minimum value in the set made of all the nodes' value in the whole tree.  \n",
    "If no such second minimum value exists, output -1 instead.  \n",
    "\n",
    "範例:  \n",
    "Ex1:  \n",
    "Input: root = [2,2,5,null,null,5,7]  \n",
    "Output: 5  \n",
    "Explanation: The smallest value is 2, the second smallest value is 5.  \n",
    "\n",
    "Ex2:  \n",
    "Input: root = [2,2,2]  \n",
    "Output: -1  \n",
    "Explanation: The smallest value is 2, but there isn't any second smallest value."
   ]
  },
  {
   "cell_type": "markdown",
   "metadata": {},
   "source": [
    "* 解題想法:  \n",
    "依題目說明，如果有左側節點則右側節點也會同時存在，再找出節點數值後檢查是否已經有存在數值的list中，如果不存在則加入list中，最後檢查list長度是否有超過1，如果不超過1則代表不會有第二小的數值並回傳-1，否則重新排序後回傳list的第二個數值"
   ]
  },
  {
   "cell_type": "code",
   "execution_count": null,
   "metadata": {},
   "outputs": [],
   "source": [
    "# Definition for a binary tree node.\n",
    "# class TreeNode:\n",
    "#     def __init__(self, val=0, left=None, right=None):\n",
    "#         self.val = val\n",
    "#         self.left = left\n",
    "#         self.right = right\n",
    "class Solution:\n",
    "    def findSecondMinimumValue(self, root: Optional[TreeNode]) -> int:\n",
    "        result = 0\n",
    "        vals = []\n",
    "        temp = [root]\n",
    "        while len(temp) > 0:\n",
    "            nodes = []\n",
    "            for t in temp:\n",
    "                if t.val not in vals:\n",
    "                    vals.append(t.val)\n",
    "                if t.left != None:\n",
    "                    nodes.append(t.left)\n",
    "                    nodes.append(t.right)\n",
    "            temp.clear()\n",
    "            temp += nodes\n",
    "        if len(vals) > 1:\n",
    "            vals.sort()\n",
    "            result = vals[1]\n",
    "        else:\n",
    "            result = -1\n",
    "        return result"
   ]
  }
 ],
 "metadata": {
  "kernelspec": {
   "display_name": "Python 3",
   "language": "python",
   "name": "python3"
  },
  "language_info": {
   "codemirror_mode": {
    "name": "ipython",
    "version": 3
   },
   "file_extension": ".py",
   "mimetype": "text/x-python",
   "name": "python",
   "nbconvert_exporter": "python",
   "pygments_lexer": "ipython3",
   "version": "3.7.4"
  }
 },
 "nbformat": 4,
 "nbformat_minor": 4
}
