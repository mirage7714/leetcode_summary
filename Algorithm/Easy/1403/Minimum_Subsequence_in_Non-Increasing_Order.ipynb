{
 "cells": [
  {
   "cell_type": "markdown",
   "metadata": {},
   "source": [
    "# 本題要找出至少要幾個數值可以超過剩下array的總和\n",
    "原題目連結: https://leetcode.com/problems/minimum-subsequence-in-non-increasing-order/  \n",
    "\n",
    "Given the array nums, obtain a subsequence of the array whose sum of elements is strictly greater than the sum of the non included elements in such subsequence.   \n",
    "\n",
    "If there are multiple solutions, return the subsequence with minimum size and if there still exist multiple solutions, return the subsequence with the maximum total sum of all its elements. A subsequence of an array can be obtained by erasing some (possibly zero) elements from the array.   \n",
    "\n",
    "Note that the solution with the given constraints is guaranteed to be unique. Also return the answer sorted in non-increasing order.  \n",
    "\n",
    "範例:  \n",
    "Ex1:  \n",
    "Input: nums = [4,3,10,9,8]  \n",
    "Output: [10,9]   \n",
    "Explanation: The subsequences [10,9] and [10,8] are minimal such that the sum of their elements is strictly greater than the sum of elements not included, however, the subsequence [10,9] has the maximum total sum of its elements.   \n",
    "\n",
    "Ex2:  \n",
    "Input: nums = [4,4,7,6,7]  \n",
    "Output: [7,7,6]   \n",
    "Explanation: The subsequence [7,7] has the sum of its elements equal to 14 which is not strictly greater than the sum of elements not included (14 = 4 + 4 + 6). Therefore, the subsequence [7,6,7] is the minimal satisfying the conditions. Note the subsequence has to returned in non-decreasing order.   \n",
    "\n",
    "Ex3:  \n",
    "Input: nums = [6]  \n",
    "Output: [6]"
   ]
  },
  {
   "cell_type": "markdown",
   "metadata": {},
   "source": [
    "* 解題想法:  \n",
    "依題目說明，要找出數量最少的組合，讓這個組合的總和可以超過list剩下數字的總和  \n",
    "因此先從最大的數值開始挑選，並比對取出的數字總和與剩下數字的大小，如果超過的話就停止迴圈並回傳list"
   ]
  },
  {
   "cell_type": "code",
   "execution_count": null,
   "metadata": {},
   "outputs": [],
   "source": [
    "class Solution:\n",
    "    def minSubsequence(self, nums: List[int]) -> List[int]:\n",
    "        result = []\n",
    "        total = 0\n",
    "        temp = 0\n",
    "        for n in nums:\n",
    "            total += n\n",
    "        while True:\n",
    "            m = max(nums)\n",
    "            temp += m\n",
    "            total -= m\n",
    "            result.append(m)\n",
    "            nums.pop(nums.index(m))\n",
    "            if total < temp:\n",
    "                break\n",
    "        return result"
   ]
  }
 ],
 "metadata": {
  "kernelspec": {
   "display_name": "Python 3",
   "language": "python",
   "name": "python3"
  },
  "language_info": {
   "codemirror_mode": {
    "name": "ipython",
    "version": 3
   },
   "file_extension": ".py",
   "mimetype": "text/x-python",
   "name": "python",
   "nbconvert_exporter": "python",
   "pygments_lexer": "ipython3",
   "version": "3.7.4"
  }
 },
 "nbformat": 4,
 "nbformat_minor": 2
}
