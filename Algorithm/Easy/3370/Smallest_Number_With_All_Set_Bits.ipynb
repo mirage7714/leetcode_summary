{
 "cells": [
  {
   "cell_type": "markdown",
   "id": "73af2247-bc42-49a6-9098-32d9af4fb2d5",
   "metadata": {},
   "source": [
    "# 本題要找出指定bit長度的最大數值為多少 (\\#BitManipulation )\n",
    "原題目連結: https://leetcode.com/problems/smallest-number-with-all-set-bits/description/   \n",
    "\n",
    "You are given a positive number n.  \n",
    "Return the smallest number x greater than or equal to n, such that the binary representation of x contains only set bits.  \n",
    "A set bit refers to a bit in the binary representation of a number that has a value of 1.  \n",
    "\n",
    "範例:  \n",
    "Ex1:  \n",
    "Input: n = 5  \n",
    "Output: 7  \n",
    "Explanation:  \n",
    "The binary representation of 7 is \"111\".  \n",
    "\n",
    "Ex2:  \n",
    "Input: n = 10  \n",
    "Output: 15  \n",
    "Explanation:  \n",
    "The binary representation of 15 is \"1111\".  \n",
    "\n",
    "Ex3:  \n",
    "Input: n = 3  \n",
    "Output: 3  \n",
    "Explanation:  \n",
    "The binary representation of 3 is \"11\".  "
   ]
  },
  {
   "cell_type": "markdown",
   "id": "65de8bac-721d-4ab9-adb7-c832530d11f0",
   "metadata": {},
   "source": [
    "* 解題想法:  \n",
    "首先找出指定數值的bit長度，接著算出該長度的bit之後減1就是答案"
   ]
  },
  {
   "cell_type": "code",
   "execution_count": null,
   "id": "8ba4202b-aa5a-46a2-9a05-593f93e59450",
   "metadata": {},
   "outputs": [],
   "source": [
    "class Solution:\n",
    "    def smallestNumber(self, n: int) -> int:\n",
    "        b = len(bin(n)[2:])\n",
    "        return 2 ** b - 1"
   ]
  }
 ],
 "metadata": {
  "kernelspec": {
   "display_name": "Python 3 (ipykernel)",
   "language": "python",
   "name": "python3"
  },
  "language_info": {
   "codemirror_mode": {
    "name": "ipython",
    "version": 3
   },
   "file_extension": ".py",
   "mimetype": "text/x-python",
   "name": "python",
   "nbconvert_exporter": "python",
   "pygments_lexer": "ipython3",
   "version": "3.9.13"
  }
 },
 "nbformat": 4,
 "nbformat_minor": 5
}
