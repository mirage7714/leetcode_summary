{
 "cells": [
  {
   "cell_type": "markdown",
   "metadata": {},
   "source": [
    "# 本題要將一個array變成長度兩倍\n",
    "原題目連結: https://leetcode.com/problems/concatenation-of-array/  \n",
    "\n",
    "Given an integer array nums of length n, you want to create an array ans of length 2n where ans[i] == nums[i] and ans[i + n] == nums[i] for 0 <= i < n (0-indexed).  \n",
    "\n",
    "Specifically, ans is the concatenation of two nums arrays.  \n",
    "\n",
    "Return the array ans.  \n",
    "\n",
    "範例:  \n",
    "Ex1:  \n",
    "Input: nums = [1,2,1]  \n",
    "Output: [1,2,1,1,2,1]  \n",
    "Explanation: The array ans is formed as follows:  \n",
    "- ans = [nums[0],nums[1],nums[2],nums[0],nums[1],nums[2]]  \n",
    "- ans = [1,2,1,1,2,1]  \n",
    "\n",
    "Ex2:  \n",
    "Input: nums = [1,3,2,1]  \n",
    "Output: [1,3,2,1,1,3,2,1]  \n",
    "Explanation: The array ans is formed as follows:  \n",
    "- ans = [nums[0],nums[1],nums[2],nums[3],nums[0],nums[1],nums[2],nums[3]]  \n",
    "- ans = [1,3,2,1,1,3,2,1]"
   ]
  },
  {
   "cell_type": "markdown",
   "metadata": {},
   "source": [
    "* 解題想法:  \n",
    "題目要找出將一個list擴展成兩倍長度，最簡單的做法就是直接將list相加就可以得到答案，只是執行時間不是最快的結果"
   ]
  },
  {
   "cell_type": "code",
   "execution_count": null,
   "metadata": {},
   "outputs": [],
   "source": [
    "class Solution:\n",
    "    def getConcatenation(self, nums: List[int]) -> List[int]:\n",
    "        return num + num"
   ]
  }
 ],
 "metadata": {
  "kernelspec": {
   "display_name": "Python 3",
   "language": "python",
   "name": "python3"
  },
  "language_info": {
   "codemirror_mode": {
    "name": "ipython",
    "version": 3
   },
   "file_extension": ".py",
   "mimetype": "text/x-python",
   "name": "python",
   "nbconvert_exporter": "python",
   "pygments_lexer": "ipython3",
   "version": "3.7.4"
  }
 },
 "nbformat": 4,
 "nbformat_minor": 2
}
