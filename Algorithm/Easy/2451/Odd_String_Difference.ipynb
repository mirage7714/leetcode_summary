{
 "cells": [
  {
   "cell_type": "markdown",
   "metadata": {},
   "source": [
    "# 本題要找出那個字串的index差與其他不相同 (\\#Array)\n",
    "原題目連結: https://leetcode.com/problems/odd-string-difference/  \n",
    "\n",
    "You are given an array of equal-length strings words. Assume that the length of each string is n.  \n",
    "\n",
    "Each string words[i] can be converted into a difference integer array difference[i] of length n - 1 where difference[i][j] = words[i][j+1] - words[i][j] where 0 <= j <= n - 2. Note that the difference between two letters is the difference between their positions in the alphabet i.e. the position of 'a' is 0, 'b' is 1, and 'z' is 25.  \n",
    "\n",
    "For example, for the string \"acb\", the difference integer array is [2 - 0, 1 - 2] = [2, -1].  \n",
    "All the strings in words have the same difference integer array, except one. You should find that string.  \n",
    "\n",
    "Return the string in words that has different difference integer array.  \n",
    "\n",
    "範例:  \n",
    "Ex1:  \n",
    "Input: words = [\"adc\",\"wzy\",\"abc\"]  \n",
    "Output: \"abc\"  \n",
    "Explanation:   \n",
    "- The difference integer array of \"adc\" is [3 - 0, 2 - 3] = [3, -1].  \n",
    "- The difference integer array of \"wzy\" is [25 - 22, 24 - 25]= [3, -1].  \n",
    "- The difference integer array of \"abc\" is [1 - 0, 2 - 1] = [1, 1].   \n",
    "The odd array out is [1, 1], so we return the corresponding string, \"abc\".  \n",
    "\n",
    "Ex2:  \n",
    "Input: words = [\"aaa\",\"bob\",\"ccc\",\"ddd\"]  \n",
    "Output: \"bob\"  \n",
    "Explanation: All the integer arrays are [0, 0] except for \"bob\", which corresponds to [13, -13]."
   ]
  },
  {
   "cell_type": "markdown",
   "metadata": {},
   "source": [
    "* 解題想法:  \n",
    "首先找出字串中每個字母的距離差，並轉換成一個tuple後放入dict，最後回傳只有出現一次的組合就是答案"
   ]
  },
  {
   "cell_type": "code",
   "execution_count": null,
   "metadata": {},
   "outputs": [],
   "source": [
    "class Solution:\n",
    "    def oddString(self, words: List[str]) -> str:\n",
    "        pos = ['a','b','c','d','e','f','g','h','i','j','k','l','m','n','o','p','q','r','s','t','u','v','w','x','y','z']\n",
    "        res = {}\n",
    "        for word in words:\n",
    "            temp = []\n",
    "            is_valid = False\n",
    "            for n in range(1, len(word)):\n",
    "                temp.append(pos.index(word[n]) - pos.index(word[n-1]))\n",
    "            t = tuple(temp)\n",
    "            if t not in res.keys():\n",
    "                res[t] = [word]\n",
    "            else:\n",
    "                res[t].append(word)\n",
    "        for v in res.values():\n",
    "            if len(v) == 1:\n",
    "                return v[0]"
   ]
  }
 ],
 "metadata": {
  "kernelspec": {
   "display_name": "Python 3",
   "language": "python",
   "name": "python3"
  },
  "language_info": {
   "codemirror_mode": {
    "name": "ipython",
    "version": 3
   },
   "file_extension": ".py",
   "mimetype": "text/x-python",
   "name": "python",
   "nbconvert_exporter": "python",
   "pygments_lexer": "ipython3",
   "version": "3.7.4"
  }
 },
 "nbformat": 4,
 "nbformat_minor": 4
}
