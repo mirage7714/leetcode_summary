{
 "cells": [
  {
   "cell_type": "markdown",
   "id": "7a8c2226-009f-49a4-9dc0-b36b2fa40711",
   "metadata": {},
   "source": [
    "# 本題要判斷字串是否為平衡的字串 (\\#String )\n",
    "原題目連結: https://leetcode.com/problems/check-balanced-string/description/  \n",
    "\n",
    "You are given a string num consisting of only digits. A string of digits is called balanced if the sum of the digits at even indices is equal to the sum of digits at odd indices.  \n",
    "Return true if num is balanced, otherwise return false.  \n",
    "\n",
    "範例:  \n",
    "Ex1:  \n",
    "Input: num = \"1234\"  \n",
    "Output: false  \n",
    "Explanation:  \n",
    "The sum of digits at even indices is 1 + 3 == 4, and the sum of digits at odd indices is 2 + 4 == 6.  \n",
    "Since 4 is not equal to 6, num is not balanced.  \n",
    "\n",
    "Ex2:  \n",
    "Input: num = \"24123\"  \n",
    "Output: true  \n",
    "Explanation:  \n",
    "The sum of digits at even indices is 2 + 1 + 3 == 6, and the sum of digits at odd indices is 4 + 2 == 6.  \n",
    "Since both are equal the num is balanced."
   ]
  },
  {
   "cell_type": "markdown",
   "id": "f030382c-3667-4b39-9434-ac36e3a3fcc2",
   "metadata": {},
   "source": [
    "* 解題想法:  \n",
    "首先用一個變數來儲存目前的數值，接著用迴圈開始從頭檢查，如果index為奇數的時候則加到變數上，如果為偶數時則減去該數值，最後判斷變數是否為0就是答案"
   ]
  },
  {
   "cell_type": "code",
   "execution_count": null,
   "id": "183adb28-e2bd-4488-90dc-6787e88d3c3b",
   "metadata": {},
   "outputs": [],
   "source": [
    "class Solution:\n",
    "    def isBalanced(self, num: str) -> bool:\n",
    "        res = 0\n",
    "        for i in range(len(num)):\n",
    "            if i % 2 == 0:\n",
    "                res += int(num[i])\n",
    "            else:\n",
    "                res -= int(num[i])\n",
    "        return res == 0"
   ]
  }
 ],
 "metadata": {
  "kernelspec": {
   "display_name": "Python 3 (ipykernel)",
   "language": "python",
   "name": "python3"
  },
  "language_info": {
   "codemirror_mode": {
    "name": "ipython",
    "version": 3
   },
   "file_extension": ".py",
   "mimetype": "text/x-python",
   "name": "python",
   "nbconvert_exporter": "python",
   "pygments_lexer": "ipython3",
   "version": "3.9.13"
  }
 },
 "nbformat": 4,
 "nbformat_minor": 5
}
