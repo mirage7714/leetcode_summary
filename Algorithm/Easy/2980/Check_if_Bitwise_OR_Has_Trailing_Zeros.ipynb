{
 "cells": [
  {
   "cell_type": "markdown",
   "id": "42a45837-ce40-4c0f-a131-620eff59cde7",
   "metadata": {},
   "source": [
    "# 本題要找出任取兩數，是否會有最後一位為0的組合 (\\#Array )\n",
    "原題目連結: https://leetcode.com/problems/check-if-bitwise-or-has-trailing-zeros/description/  \n",
    "\n",
    "You are given an array of positive integers nums.  \n",
    "You have to check if it is possible to select two or more elements in the array such that the bitwise OR of the selected elements has at least one trailing zero in its binary representation.  \n",
    "For example, the binary representation of 5, which is \"101\", does not have any trailing zeros, whereas the binary representation of 4, which is \"100\", has two trailing zeros.  \n",
    "Return true if it is possible to select two or more elements whose bitwise OR has trailing zeros, return false otherwise.  \n",
    "\n",
    "範例:  \n",
    "Ex1:  \n",
    "Input: nums = [1,2,3,4,5]  \n",
    "Output: true  \n",
    "Explanation: If we select the elements 2 and 4, their bitwise OR is 6, which has the binary representation \"110\" with one trailing zero.  \n",
    "\n",
    "Ex2:  \n",
    "Input: nums = [2,4,8,16]  \n",
    "Output: true  \n",
    "Explanation: If we select the elements 2 and 4, their bitwise OR is 6, which has the binary representation \"110\" with one trailing zero.  \n",
    "Other possible ways to select elements to have trailing zeroes in the binary representation of their bitwise OR are: (2, 8), (2, 16), (4, 8), (4, 16), (8, 16), (2, 4, 8), (2, 4, 16), (2, 8, 16), (4, 8, 16), and (2, 4, 8, 16).  \n",
    "\n",
    "Ex3:   \n",
    "Input: nums = [1,3,5,7,9]  \n",
    "Output: false  \n",
    "Explanation: There is no possible way to select two or more elements to have trailing zeros in the binary representation of their bitwise OR."
   ]
  },
  {
   "cell_type": "markdown",
   "id": "2c1bf2fb-eecc-46d7-b788-912cffbcfd14",
   "metadata": {},
   "source": [
    "* 解題想法:  \n",
    "首先檢查list中是否有兩個以上的偶數，如果有則代表有兩個數值在取or之後可以得到尾數為0，因此回傳true，否則回傳false"
   ]
  },
  {
   "cell_type": "code",
   "execution_count": null,
   "id": "9b6ca76d-243a-4370-9c24-5af299cd2309",
   "metadata": {},
   "outputs": [],
   "source": [
    "class Solution:\n",
    "    def hasTrailingZeros(self, nums: List[int]) -> bool:\n",
    "        count = 0\n",
    "        for n in nums:\n",
    "            if n % 2 == 0:\n",
    "                count += 1\n",
    "                if count > 1:\n",
    "                    return True\n",
    "        return False"
   ]
  }
 ],
 "metadata": {
  "kernelspec": {
   "display_name": "Python 3 (ipykernel)",
   "language": "python",
   "name": "python3"
  },
  "language_info": {
   "codemirror_mode": {
    "name": "ipython",
    "version": 3
   },
   "file_extension": ".py",
   "mimetype": "text/x-python",
   "name": "python",
   "nbconvert_exporter": "python",
   "pygments_lexer": "ipython3",
   "version": "3.9.13"
  }
 },
 "nbformat": 4,
 "nbformat_minor": 5
}
