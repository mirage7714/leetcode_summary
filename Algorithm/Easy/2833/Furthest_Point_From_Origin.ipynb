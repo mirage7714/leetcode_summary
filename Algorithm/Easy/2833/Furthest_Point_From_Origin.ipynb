{
 "cells": [
  {
   "cell_type": "markdown",
   "id": "b8ac09e5-2ddf-445e-8fd1-c91170e14f8d",
   "metadata": {},
   "source": [
    "# 本題要找出最遠可以移動的距離 (\\#String )\n",
    "原題目連結: https://leetcode.com/problems/furthest-point-from-origin/description/  \n",
    "\n",
    "You are given a string moves of length n consisting only of characters 'L', 'R', and '\\_'. The string represents your movement on a number line starting from the origin 0.  \n",
    "In the ith move, you can choose one of the following directions:  \n",
    "\n",
    "move to the left if moves[i] = 'L' or moves[i] = '\\_'  \n",
    "move to the right if moves[i] = 'R' or moves[i] = '\\_'  \n",
    "Return the distance from the origin of the furthest point you can get to after n moves.  \n",
    "\n",
    "範例:  \n",
    "Ex1:  \n",
    "Input: moves = \"L_RL__R\"  \n",
    "Output: 3  \n",
    "Explanation: The furthest point we can reach from the origin 0 is point -3 through the following sequence of moves \"LLRLLLR\".  \n",
    "\n",
    "Ex2:  \n",
    "Input: moves = \"\\_R__LL_\"  \n",
    "Output: 5  \n",
    "Explanation: The furthest point we can reach from the origin 0 is point -5 through the following sequence of moves \"LRLLLLL\".  \n",
    "\n",
    "Ex3:  \n",
    "Input: moves = \"\\_______\"  \n",
    "Output: 7  \n",
    "Explanation: The furthest point we can reach from the origin 0 is point 7 through the following sequence of moves \"RRRRRRR\".  "
   ]
  },
  {
   "cell_type": "markdown",
   "id": "df32fe90-dea5-49d9-9dec-a87d29ea0602",
   "metadata": {},
   "source": [
    "* 解題想法:  \n",
    "首先找出每個字母分布的情況，接著用最多的方向來決定前進的方向再加上底線的數值，如果左右方向相同時則直接回傳底線的數值就是答案"
   ]
  },
  {
   "cell_type": "code",
   "execution_count": null,
   "id": "9bc5a68e-f4f4-4ba0-95be-999cd6fee64c",
   "metadata": {},
   "outputs": [],
   "source": [
    "class Solution:\n",
    "    def furthestDistanceFromOrigin(self, moves: str) -> int:\n",
    "        res = 0\n",
    "        l = 0\n",
    "        r = 0\n",
    "        u = 0\n",
    "        for m in moves:\n",
    "            if m == 'L':\n",
    "                l += 1\n",
    "            elif m == 'R':\n",
    "                r += 1\n",
    "            else:\n",
    "                u += 1\n",
    "        if l > r:\n",
    "            res = l - r + u\n",
    "        elif l < r:\n",
    "            res = r - l + u\n",
    "        else:\n",
    "            res = u\n",
    "        return res"
   ]
  }
 ],
 "metadata": {
  "kernelspec": {
   "display_name": "Python 3 (ipykernel)",
   "language": "python",
   "name": "python3"
  },
  "language_info": {
   "codemirror_mode": {
    "name": "ipython",
    "version": 3
   },
   "file_extension": ".py",
   "mimetype": "text/x-python",
   "name": "python",
   "nbconvert_exporter": "python",
   "pygments_lexer": "ipython3",
   "version": "3.11.4"
  }
 },
 "nbformat": 4,
 "nbformat_minor": 5
}
