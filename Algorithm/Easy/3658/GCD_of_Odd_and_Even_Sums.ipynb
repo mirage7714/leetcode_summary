{
 "cells": [
  {
   "cell_type": "markdown",
   "id": "f084917c-bce5-4c69-93a2-12e934572765",
   "metadata": {},
   "source": [
    "# 本題要找出奇數與偶數總和的最大公因數為多少 (\\#Math )\n",
    "原題目連結：https://leetcode.com/problems/gcd-of-odd-and-even-sums/description/  \n",
    "\n",
    "You are given an integer n. Your task is to compute the GCD (greatest common divisor) of two values:  \n",
    "sumOdd: the sum of the first n odd numbers.  \n",
    "sumEven: the sum of the first n even numbers.    \n",
    "Return the GCD of sumOdd and sumEven.  \n",
    "\n",
    "範例：  \n",
    "Ex1:  \n",
    "Input: n = 4  \n",
    "Output: 4  \n",
    "Explanation:  \n",
    "Sum of the first 4 odd numbers sumOdd = 1 + 3 + 5 + 7 = 16  \n",
    "Sum of the first 4 even numbers sumEven = 2 + 4 + 6 + 8 = 20  \n",
    "Hence, GCD(sumOdd, sumEven) = GCD(16, 20) = 4.  \n",
    "\n",
    "Ex2:  \n",
    "Input: n = 5  \n",
    "Output: 5  \n",
    "Explanation:  \n",
    "Sum of the first 5 odd numbers sumOdd = 1 + 3 + 5 + 7 + 9 = 25  \n",
    "Sum of the first 5 even numbers sumEven = 2 + 4 + 6 + 8 + 10 = 30  \n",
    "Hence, GCD(sumOdd, sumEven) = GCD(25, 30) = 5.  "
   ]
  },
  {
   "cell_type": "markdown",
   "id": "606654ac-1ebb-4eb2-8feb-13dc60afaff4",
   "metadata": {},
   "source": [
    "* 解題想法：  \n",
    "首先找出奇數與偶數的總和，接著用迴圈算出最大公因數就是答案"
   ]
  },
  {
   "cell_type": "code",
   "execution_count": null,
   "id": "ffac257f-c6ea-4988-bcfe-d6297abef0db",
   "metadata": {},
   "outputs": [],
   "source": [
    "class Solution:\n",
    "    def gcdOfOddEvenSums(self, n: int) -> int:\n",
    "        odd = 0\n",
    "        even = 0\n",
    "        for i in range(1, 2 * n + 1):\n",
    "            if i % 2 == 0:\n",
    "                even += i\n",
    "            else:\n",
    "                odd += i\n",
    "        while True:\n",
    "            \n",
    "            if max(odd, even) % min(odd, even) == 0:\n",
    "                return min(odd, even)\n",
    "            t = max(odd, even) % min(odd, even)\n",
    "            m = min(odd, even)\n",
    "            even = t\n",
    "            odd = m"
   ]
  }
 ],
 "metadata": {
  "kernelspec": {
   "display_name": "Python 3 (ipykernel)",
   "language": "python",
   "name": "python3"
  },
  "language_info": {
   "codemirror_mode": {
    "name": "ipython",
    "version": 3
   },
   "file_extension": ".py",
   "mimetype": "text/x-python",
   "name": "python",
   "nbconvert_exporter": "python",
   "pygments_lexer": "ipython3",
   "version": "3.10.9"
  }
 },
 "nbformat": 4,
 "nbformat_minor": 5
}
