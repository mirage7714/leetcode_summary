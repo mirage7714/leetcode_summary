{
 "cells": [
  {
   "cell_type": "markdown",
   "metadata": {},
   "source": [
    "# 本題要找出在list中出現最多的次數下，最短的長度為何\n",
    "原題目連結: https://leetcode.com/problems/degree-of-an-array/  \n",
    "\n",
    "Given a non-empty array of non-negative integers nums, the degree of this array is defined as the maximum frequency of any one of its elements.  \n",
    "\n",
    "Your task is to find the smallest possible length of a (contiguous) subarray of nums, that has the same degree as nums.  \n",
    "\n",
    "範例:  \n",
    "Ex1:  \n",
    "Input: nums = [1,2,2,3,1]  \n",
    "Output: 2  \n",
    "Explanation:   \n",
    "The input array has a degree of 2 because both elements 1 and 2 appear twice.  \n",
    "Of the subarrays that have the same degree:  \n",
    "[1, 2, 2, 3, 1], [1, 2, 2, 3], [2, 2, 3, 1], [1, 2, 2], [2, 2, 3], [2, 2]  \n",
    "The shortest length is 2. So return 2.  \n",
    "\n",
    "Ex2:  \n",
    "Input: nums = [1,2,2,3,1,4,2]  \n",
    "Output: 6  \n",
    "Explanation:   \n",
    "The degree is 3 because the element 2 is repeated 3 times.  \n",
    "So [2,2,3,1,4,2] is the shortest subarray, therefore returning 6."
   ]
  },
  {
   "cell_type": "markdown",
   "metadata": {},
   "source": [
    "* 解題想法:  \n",
    "首先找出list中各數字出現的情況，接著開始檢查每個出現的數字長度，如果超過目前的最大值，則將最大值情況下的list長度記錄下來，如果出現次數相同，則檢查list長度，最後回傳最小的list長度為多少"
   ]
  },
  {
   "cell_type": "code",
   "execution_count": null,
   "metadata": {},
   "outputs": [],
   "source": [
    "class Solution:\n",
    "    def findShortestSubArray(self, nums: List[int]) -> int:\n",
    "        freq = {}\n",
    "        result = 0\n",
    "        for n in range(len(nums)):\n",
    "            num = nums[n]\n",
    "            if num not in freq.keys():\n",
    "                freq[num] = [n]\n",
    "            else:\n",
    "                freq[num].append(n)\n",
    "        temp = 0\n",
    "        for val in freq.values():\n",
    "            if len(val) > temp:\n",
    "                temp = len(val)\n",
    "                result = val[-1] - val[0] + 1\n",
    "            elif len(val) == temp:\n",
    "                d = val[-1] - val[0] + 1\n",
    "                if d < result:\n",
    "                    result = d\n",
    "        return result"
   ]
  }
 ],
 "metadata": {
  "kernelspec": {
   "display_name": "Python 3",
   "language": "python",
   "name": "python3"
  },
  "language_info": {
   "codemirror_mode": {
    "name": "ipython",
    "version": 3
   },
   "file_extension": ".py",
   "mimetype": "text/x-python",
   "name": "python",
   "nbconvert_exporter": "python",
   "pygments_lexer": "ipython3",
   "version": "3.6.4"
  }
 },
 "nbformat": 4,
 "nbformat_minor": 2
}
