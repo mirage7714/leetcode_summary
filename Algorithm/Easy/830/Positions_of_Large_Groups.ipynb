{
 "cells": [
  {
   "cell_type": "markdown",
   "metadata": {},
   "source": [
    "# 本題要找出連續出現長度超過2次的字母所在的index\n",
    "原題目連結: https://leetcode.com/problems/positions-of-large-groups/  \n",
    "\n",
    "In a string s of lowercase letters, these letters form consecutive groups of the same character.  \n",
    "\n",
    "For example, a string like s = \"abbxxxxzyy\" has the groups \"a\", \"bb\", \"xxxx\", \"z\", and \"yy\".  \n",
    "\n",
    "A group is identified by an interval [start, end], where start and end denote the start and end indices (inclusive) of the group. In the above example, \"xxxx\" has the interval [3,6].  \n",
    "\n",
    "A group is considered large if it has 3 or more characters.  \n",
    "\n",
    "Return the intervals of every large group sorted in increasing order by start index.  \n",
    "\n",
    "範例:  \n",
    "Ex1:\n",
    "Input: s = \"abbxxxxzzy\"  \n",
    "Output: [[3,6]]  \n",
    "Explanation: \"xxxx\" is the only large group with start index 3 and end index 6.  \n",
    "\n",
    "Ex2:  \n",
    "Input: s = \"abc\"  \n",
    "Output: []  \n",
    "Explanation: We have groups \"a\", \"b\", and \"c\", none of which are large groups.  \n",
    "\n",
    "Ex3:  \n",
    "Input: s = \"abcdddeeeeaabbbcd\"  \n",
    "Output: [[3,5],[6,9],[12,14]]  \n",
    "Explanation: The large groups are \"ddd\", \"eeee\", and \"bbb\".  \n",
    "\n",
    "Ex4:  \n",
    "Input: s = \"aba\"  \n",
    "Output: []\n"
   ]
  },
  {
   "cell_type": "markdown",
   "metadata": {},
   "source": [
    "* 解題想法:  \n",
    "由於題目要找出美個字母以及連續出現的長度，因此建立了一個2D list，並在連續出現的情況下，將index加入同一個list中  \n",
    "等到不連續之後再換成一個新的list，最後檢查所有的list中長度超過二的在進行回傳"
   ]
  },
  {
   "cell_type": "code",
   "execution_count": null,
   "metadata": {},
   "outputs": [],
   "source": [
    "class Solution:\n",
    "    def largeGroupPositions(self, s: str) -> List[List[int]]:\n",
    "        freq = {}\n",
    "        result = []\n",
    "        for n in range(len(s)):\n",
    "            if s[n] not in freq.keys():\n",
    "                freq[s[n]] = [[n]]\n",
    "            else:\n",
    "                if freq[s[n]][-1][-1] + 1 == n:\n",
    "                    freq[s[n]][-1].append(n)\n",
    "                else:\n",
    "                    freq[s[n]].append([n])\n",
    "        for key in freq.keys():\n",
    "            for m in range(len(freq[key])):\n",
    "                if len(freq[key][m]) > 2:\n",
    "                    result.append([freq[key][m][0], freq[key][m][-1]])\n",
    "        result.sort()\n",
    "        return result"
   ]
  }
 ],
 "metadata": {
  "kernelspec": {
   "display_name": "Python 3",
   "language": "python",
   "name": "python3"
  },
  "language_info": {
   "codemirror_mode": {
    "name": "ipython",
    "version": 3
   },
   "file_extension": ".py",
   "mimetype": "text/x-python",
   "name": "python",
   "nbconvert_exporter": "python",
   "pygments_lexer": "ipython3",
   "version": "3.7.4"
  }
 },
 "nbformat": 4,
 "nbformat_minor": 2
}
