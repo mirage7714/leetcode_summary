{
 "cells": [
  {
   "cell_type": "markdown",
   "id": "807c97ec-f6ed-4077-9012-ad03854cc329",
   "metadata": {},
   "source": [
    "# 本題要找出轉換後的字串為何 (\\#String )\n",
    "原題目連結: https://leetcode.com/problems/hexadecimal-and-hexatrigesimal-conversion/description/  \n",
    "\n",
    "You are given an integer n.  \n",
    "Return the concatenation of the hexadecimal representation of n2 and the hexatrigesimal representation of n3.  \n",
    "A hexadecimal number is defined as a base-16 numeral system that uses the digits 0 – 9 and the uppercase letters A - F to represent values from 0 to 15.  \n",
    "A hexatrigesimal number is defined as a base-36 numeral system that uses the digits 0 – 9 and the uppercase letters A - Z to represent values from 0 to 35.  \n",
    "\n",
    "範例:  \n",
    "Ex1:  \n",
    "Input: n = 13  \n",
    "Output: \"A91P1\"  \n",
    "Explanation:  \n",
    "n2 = 13 * 13 = 169. In hexadecimal, it converts to (10 * 16) + 9 = 169, which corresponds to \"A9\".  \n",
    "n3 = 13 * 13 * 13 = 2197. In hexatrigesimal, it converts to (1 * 362) + (25 * 36) + 1 = 2197, which corresponds to \"1P1\".  \n",
    "Concatenating both results gives \"A9\" + \"1P1\" = \"A91P1\".  \n",
    "\n",
    "Ex2:  \n",
    "Input: n = 36  \n",
    "Output: \"5101000\"  \n",
    "Explanation:  \n",
    "n2 = 36 * 36 = 1296. In hexadecimal, it converts to (5 * 162) + (1 * 16) + 0 = 1296, which corresponds to \"510\".  \n",
    "n3 = 36 * 36 * 36 = 46656. In hexatrigesimal, it converts to (1 * 363) + (0 * 362) + (0 * 36) + 0 = 46656, which corresponds to \"1000\".  \n",
    "Concatenating both results gives \"510\" + \"1000\" = \"5101000\"."
   ]
  },
  {
   "cell_type": "markdown",
   "id": "42ab0e9a-e0ce-42ed-b6a6-c9306d7b2acb",
   "metadata": {},
   "source": [
    "* 解題想法:  \n",
    "首先建立兩個函數用來轉換16進位與36進位，接著分別找出平方與立方轉換後的字串相加後就是答案"
   ]
  },
  {
   "cell_type": "code",
   "execution_count": null,
   "id": "e81b0e46-39f9-4581-be1b-50fe3f65bf92",
   "metadata": {},
   "outputs": [],
   "source": [
    "class Solution:\n",
    "    def concatHex36(self, n: int) -> str:\n",
    "        def get_hexadecimal(num):\n",
    "            return hex(num)[2:].upper()\n",
    "\n",
    "        def get_hexatrigesimal(num) :\n",
    "            res = ''\n",
    "            convert = '0123456789ABCDEFGHIJKLMNOPQRSTUVWXYZ'\n",
    "            while num >= 36:\n",
    "                l = num % 36\n",
    "                num = (num - l) // 36\n",
    "                res = convert[l] + res\n",
    "            res = convert[num] + res\n",
    "            return res\n",
    "\n",
    "        res = ''\n",
    "        res += get_hexadecimal(n ** 2)\n",
    "        res += get_hexatrigesimal(n ** 3)\n",
    "        return res"
   ]
  }
 ],
 "metadata": {
  "kernelspec": {
   "display_name": "Python 3 (ipykernel)",
   "language": "python",
   "name": "python3"
  },
  "language_info": {
   "codemirror_mode": {
    "name": "ipython",
    "version": 3
   },
   "file_extension": ".py",
   "mimetype": "text/x-python",
   "name": "python",
   "nbconvert_exporter": "python",
   "pygments_lexer": "ipython3",
   "version": "3.9.13"
  }
 },
 "nbformat": 4,
 "nbformat_minor": 5
}
