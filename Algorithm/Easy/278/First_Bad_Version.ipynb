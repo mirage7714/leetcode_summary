{
 "cells": [
  {
   "cell_type": "markdown",
   "metadata": {},
   "source": [
    "# 本題要找出第一個有問題的版本為和\n",
    "原題目連結: https://leetcode.com/problems/first-bad-version/  \n",
    "\n",
    "You are a product manager and currently leading a team to develop a new product. Unfortunately, the latest version of your product fails the quality check. Since each version is developed based on the previous version, all the versions after a bad version are also bad.  \n",
    "\n",
    "Suppose you have n versions [1, 2, ..., n] and you want to find out the first bad one, which causes all the following ones to be bad.  \n",
    "\n",
    "You are given an API bool isBadVersion(version) which returns whether version is bad. Implement a function to find the first bad version. You should minimize the number of calls to the API.  \n",
    "\n",
    "範例:  \n",
    "Ex1:  \n",
    "Input: n = 5, bad = 4  \n",
    "Output: 4  \n",
    "Explanation:  \n",
    "call isBadVersion(3) -> false  \n",
    "call isBadVersion(5) -> true  \n",
    "call isBadVersion(4) -> true  \n",
    "Then 4 is the first bad version.  \n",
    "\n",
    "Ex2:  \n",
    "Input: n = 1, bad = 1  \n",
    "Output: 1"
   ]
  },
  {
   "cell_type": "markdown",
   "metadata": {},
   "source": [
    "* 解題想法:  \n",
    "這邊使用binary search的方式來進行搜尋，首先建立一個遞迴函數，接著將左側與右側的值分別帶入，如果查詢結果為True的時候，則檢查前一個版本是否為False，如果為False則代表這是第一個有問題的版本，因此可以終止迴圈，否則則調整右側的邊界值並重新找出中位值，如果查詢結果為False時，則檢查下一個版本是否為True，如果為True則中斷迴圈，否則調整左側值並重新進行查詢，最後回傳結果"
   ]
  },
  {
   "cell_type": "code",
   "execution_count": null,
   "metadata": {},
   "outputs": [],
   "source": [
    "# The isBadVersion API is already defined for you.\n",
    "# def isBadVersion(version: int) -> bool:\n",
    "\n",
    "class Solution:\n",
    "    def firstBadVersion(self, n: int) -> int:\n",
    "        def searchVersion(left, right):\n",
    "            if left <= right:\n",
    "                version = int((left+right)/2)\n",
    "                if isBadVersion(version):\n",
    "                    if not isBadVersion(version-1):\n",
    "                        return version\n",
    "                    else:\n",
    "                        return searchVersion(left, version-1)\n",
    "                else:\n",
    "                    if isBadVersion(version + 1):\n",
    "                        return version +1\n",
    "                    else:\n",
    "                        return searchVersion(version + 1, right)\n",
    "            else:\n",
    "                return -1\n",
    "        return searchVersion(1, n)"
   ]
  }
 ],
 "metadata": {
  "kernelspec": {
   "display_name": "Python 3",
   "language": "python",
   "name": "python3"
  },
  "language_info": {
   "codemirror_mode": {
    "name": "ipython",
    "version": 3
   },
   "file_extension": ".py",
   "mimetype": "text/x-python",
   "name": "python",
   "nbconvert_exporter": "python",
   "pygments_lexer": "ipython3",
   "version": "3.6.4"
  }
 },
 "nbformat": 4,
 "nbformat_minor": 2
}
