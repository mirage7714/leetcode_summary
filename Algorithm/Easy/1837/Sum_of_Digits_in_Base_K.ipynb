{
 "cells": [
  {
   "cell_type": "markdown",
   "metadata": {},
   "source": [
    "# 本題要找出以base為K的情況下，數字n的每個位數總和為多少\n",
    "原題目連結: https://leetcode.com/problems/sum-of-digits-in-base-k/  \n",
    "\n",
    "Given an integer n (in base 10) and a base k, return the sum of the digits of n after converting n from base 10 to base k.  \n",
    "\n",
    "After converting, each digit should be interpreted as a base 10 number, and the sum should be returned in base 10.  \n",
    "\n",
    "範例:  \n",
    "Ex1:  \n",
    "Input: n = 34, k = 6  \n",
    "Output: 9  \n",
    "Explanation: 34 (base 10) expressed in base 6 is 54. 5 + 4 = 9.  \n",
    "\n",
    "Ex2:  \n",
    "Input: n = 10, k = 10  \n",
    "Output: 1  \n",
    "Explanation: n is already in base 10. 1 + 0 = 1."
   ]
  },
  {
   "cell_type": "markdown",
   "metadata": {},
   "source": [
    "* 解題想法:  \n",
    "依題目說明，首先需要將數字n從base 10轉換為base k，接著計算每個位數的數值總合為多少  \n",
    "因此先使用無限迴圈來進行base轉換，並將結果加入一個list中，最後將list中所有數字總和計算出來就是題目要求的答案"
   ]
  },
  {
   "cell_type": "code",
   "execution_count": null,
   "metadata": {},
   "outputs": [],
   "source": [
    "class Solution:\n",
    "    def sumBase(self, n: int, k: int) -> int:\n",
    "        digits = []\n",
    "        result = 0\n",
    "        while True:\n",
    "            if n >= k:\n",
    "                left = n % k\n",
    "                digits.append(left)\n",
    "                n = int((n - left)/k)\n",
    "            else:\n",
    "                digits.append(n)\n",
    "                break\n",
    "        for d in digits:\n",
    "            result += d\n",
    "        return result"
   ]
  }
 ],
 "metadata": {
  "kernelspec": {
   "display_name": "Python 3",
   "language": "python",
   "name": "python3"
  },
  "language_info": {
   "codemirror_mode": {
    "name": "ipython",
    "version": 3
   },
   "file_extension": ".py",
   "mimetype": "text/x-python",
   "name": "python",
   "nbconvert_exporter": "python",
   "pygments_lexer": "ipython3",
   "version": "3.7.6"
  }
 },
 "nbformat": 4,
 "nbformat_minor": 4
}
