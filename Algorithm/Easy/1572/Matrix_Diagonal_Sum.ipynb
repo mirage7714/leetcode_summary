{
 "cells": [
  {
   "cell_type": "markdown",
   "metadata": {},
   "source": [
    "# 本題要找出矩陣對角線的數字和\n",
    "原題目連結: https://leetcode.com/problems/matrix-diagonal-sum/  \n",
    "\n",
    "Given a square matrix mat, return the sum of the matrix diagonals.  \n",
    "\n",
    "Only include the sum of all the elements on the primary diagonal and all the elements on the secondary diagonal that are not part of the primary diagonal.  \n",
    "\n",
    "範例:  \n",
    "Ex1:  \n",
    "Input: mat =   \n",
    "[[1,2,3],  \n",
    "              [4,5,6],  \n",
    "              [7,8,9]]  \n",
    "Output: 25  \n",
    "\n",
    "Ex2:  \n",
    "Input: mat =   \n",
    "[[1,1,1,1],  \n",
    "              [1,1,1,1],  \n",
    "              [1,1,1,1],  \n",
    "              [1,1,1,1]]  \n",
    "Output: 8"
   ]
  },
  {
   "cell_type": "markdown",
   "metadata": {},
   "source": [
    "* 解題想法:  \n",
    "要找出對角線的數字和，首先需要知道題目提供的矩陣長度為奇數或是偶數，因為如果是奇數的話，矩陣政中心會重複計算需要另外扣除  \n",
    "如果是偶數的話就沒有這個問題\n"
   ]
  },
  {
   "cell_type": "code",
   "execution_count": null,
   "metadata": {},
   "outputs": [],
   "source": [
    "class Solution:\n",
    "    def diagonalSum(self, mat: List[List[int]]) -> int:\n",
    "        total = 0\n",
    "        if len(mat) % 2 == 0:\n",
    "            for m in range(len(mat)):\n",
    "                total += mat[m][m]\n",
    "                total += mat[m][-1-m]            \n",
    "        else:\n",
    "            for m in range(len(mat)):\n",
    "                total += mat[m][m]\n",
    "                total += mat[m][-1-m] \n",
    "            center = int((len(mat)-1)/2)\n",
    "            total -= mat[center][center]    \n",
    "        return total"
   ]
  }
 ],
 "metadata": {
  "kernelspec": {
   "display_name": "Python 3",
   "language": "python",
   "name": "python3"
  },
  "language_info": {
   "codemirror_mode": {
    "name": "ipython",
    "version": 3
   },
   "file_extension": ".py",
   "mimetype": "text/x-python",
   "name": "python",
   "nbconvert_exporter": "python",
   "pygments_lexer": "ipython3",
   "version": "3.7.4"
  }
 },
 "nbformat": 4,
 "nbformat_minor": 2
}
