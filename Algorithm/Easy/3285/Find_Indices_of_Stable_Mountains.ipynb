{
 "cells": [
  {
   "cell_type": "markdown",
   "id": "4d2961b7-0a09-44d6-bb57-e8118da45bd3",
   "metadata": {},
   "source": [
    "# 本題要找出符合條件的index共有多少 (\\#Array )\n",
    "原題目連結：https://leetcode.com/problems/find-indices-of-stable-mountains/description/  \n",
    "\n",
    "There are n mountains in a row, and each mountain has a height. You are given an integer array height where height[i] represents the height of mountain i, and an integer threshold.  \n",
    "A mountain is called stable if the mountain just before it (if it exists) has a height strictly greater than threshold. Note that mountain 0 is not stable.  \n",
    "Return an array containing the indices of all stable mountains in any order.  \n",
    "\n",
    "範例：  \n",
    "Ex1:  \n",
    "Input: height = [1,2,3,4,5], threshold = 2  \n",
    "Output: [3,4]  \n",
    "Explanation:  \n",
    "Mountain 3 is stable because height[2] == 3 is greater than threshold == 2.  \n",
    "Mountain 4 is stable because height[3] == 4 is greater than threshold == 2.  \n",
    "\n",
    "Ex2:  \n",
    "Input: height = [10,1,10,1,10], threshold = 3  \n",
    "Output: [1,3]  \n",
    "\n",
    "Ex3:  \n",
    "Input: height = [10,1,10,1,10], threshold = 10  \n",
    "Output: []  "
   ]
  },
  {
   "cell_type": "markdown",
   "id": "0e55a4c4-f1c8-4017-9e8d-d1f601328ab2",
   "metadata": {},
   "source": [
    "* 解題想法：  \n",
    "用一個迴圈檢查前一個數值是否大於門檻，如果是的話則把後面一個index放入list中，最後回傳list就是答案"
   ]
  },
  {
   "cell_type": "code",
   "execution_count": null,
   "id": "afd4c583-b8ce-40cc-98c6-911f7ce58878",
   "metadata": {},
   "outputs": [],
   "source": [
    "class Solution:\n",
    "    def stableMountains(self, height: List[int], threshold: int) -> List[int]:\n",
    "        res = []\n",
    "        for i in range(1, len(height)):\n",
    "            if height[i-1] > threshold:\n",
    "                res.append(i)\n",
    "        return res"
   ]
  }
 ],
 "metadata": {
  "kernelspec": {
   "display_name": "Python 3 (ipykernel)",
   "language": "python",
   "name": "python3"
  },
  "language_info": {
   "codemirror_mode": {
    "name": "ipython",
    "version": 3
   },
   "file_extension": ".py",
   "mimetype": "text/x-python",
   "name": "python",
   "nbconvert_exporter": "python",
   "pygments_lexer": "ipython3",
   "version": "3.10.9"
  }
 },
 "nbformat": 4,
 "nbformat_minor": 5
}
