{
 "cells": [
  {
   "cell_type": "markdown",
   "id": "ce2c20dd-a317-434b-a792-b71b03ff3dbd",
   "metadata": {},
   "source": [
    "# 本題要找出現次數最少的數字為何 （\\#HashMap) \n",
    "原題目連結：https://leetcode.com/problems/find-the-least-frequent-digit/description/  \n",
    "\n",
    "Given an integer n, find the digit that occurs least frequently in its decimal representation. If multiple digits have the same frequency, choose the smallest digit.  \n",
    "Return the chosen digit as an integer.  \n",
    "The frequency of a digit x is the number of times it appears in the decimal representation of n.  \n",
    "\n",
    "範例：  \n",
    "Ex1:  \n",
    "Input: n = 1553322  \n",
    "Output: 1  \n",
    "Explanation:  \n",
    "The least frequent digit in n is 1, which appears only once. All other digits appear twice.  \n",
    "\n",
    "Ex2:  \n",
    "Input: n = 723344511  \n",
    "Output: 2  \n",
    "Explanation:  \n",
    "The least frequent digits in n are 7, 2, and 5; each appears only once."
   ]
  },
  {
   "cell_type": "markdown",
   "id": "0ae7cf91-6a68-41e3-9994-8e399c1bbe67",
   "metadata": {},
   "source": [
    "* 解題想法：  \n",
    "用個dict來存放目前出現過的每個數字以及次數，記錄完之後找出出現次數最少且最小的數值就是答案"
   ]
  },
  {
   "cell_type": "code",
   "execution_count": null,
   "id": "90d21916-2759-436a-aead-afa860305b04",
   "metadata": {},
   "outputs": [],
   "source": [
    "class Solution:\n",
    "    def getLeastFrequentDigit(self, n: int) -> int:\n",
    "        count = {}\n",
    "        res = inf\n",
    "        m = inf\n",
    "        for i in str(n):\n",
    "            if int(i) not in count.keys():\n",
    "                count[int(i)] = 0\n",
    "            count[int(i)] += 1\n",
    "        print(count)\n",
    "        for key, val in count.items():\n",
    "            if val < m or (val == m and res > key):\n",
    "                res = key\n",
    "                m = val\n",
    "        return res"
   ]
  }
 ],
 "metadata": {
  "kernelspec": {
   "display_name": "Python 3 (ipykernel)",
   "language": "python",
   "name": "python3"
  },
  "language_info": {
   "codemirror_mode": {
    "name": "ipython",
    "version": 3
   },
   "file_extension": ".py",
   "mimetype": "text/x-python",
   "name": "python",
   "nbconvert_exporter": "python",
   "pygments_lexer": "ipython3",
   "version": "3.10.9"
  }
 },
 "nbformat": 4,
 "nbformat_minor": 5
}
