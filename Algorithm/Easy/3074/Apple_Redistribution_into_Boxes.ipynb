{
 "cells": [
  {
   "cell_type": "markdown",
   "id": "a984fe80-e6d6-4dc9-8890-9c2869e980c1",
   "metadata": {},
   "source": [
    "# 本題要找出最少需要多少個箱子才能把蘋果全部裝進去 (\\#Array )\n",
    "原題目連結: https://leetcode.com/problems/apple-redistribution-into-boxes/description/\n",
    "\n",
    "You are given an array apple of size n and an array capacity of size m.  \n",
    "There are n packs where the ith pack contains apple[i] apples. There are m boxes as well, and the ith box has a capacity of capacity[i] apples.  \n",
    "Return the minimum number of boxes you need to select to redistribute these n packs of apples into boxes.  \n",
    "Note that, apples from the same pack can be distributed into different boxes.  \n",
    "\n",
    "範例:  \n",
    "Ex1:  \n",
    "Input: apple = [1,3,2], capacity = [4,3,1,5,2]  \n",
    "Output: 2  \n",
    "Explanation: We will use boxes with capacities 4 and 5.  \n",
    "It is possible to distribute the apples as the total capacity is greater than or equal to the total number of apples.  \n",
    "\n",
    "Ex2:  \n",
    "Input: apple = [5,5,5], capacity = [2,4,2,7]  \n",
    "Output: 4  \n",
    "Explanation: We will need to use all the boxes."
   ]
  },
  {
   "cell_type": "markdown",
   "id": "6c4064aa-1b2b-439f-a9dd-d90f9ac1436c",
   "metadata": {},
   "source": [
    "* 解題想法:  \n",
    "首先將蘋果的總數算出之後，接著從容量最大的箱子開始取出，並減去蘋果的總數，直到蘋果數量歸零就可以找出需要多少個箱子"
   ]
  },
  {
   "cell_type": "code",
   "execution_count": null,
   "id": "c1fc41ec-1da3-4bc9-94c7-1af0dd403f35",
   "metadata": {},
   "outputs": [],
   "source": [
    "class Solution:\n",
    "    def minimumBoxes(self, apple: List[int], capacity: List[int]) -> int:\n",
    "        res = 0\n",
    "        ap = 0\n",
    "        capacity.sort()\n",
    "        for a in apple:\n",
    "            ap += a\n",
    "        while ap > 0:\n",
    "            n = capacity.pop()\n",
    "            ap -= n\n",
    "            res += 1\n",
    "        return res"
   ]
  }
 ],
 "metadata": {
  "kernelspec": {
   "display_name": "Python 3 (ipykernel)",
   "language": "python",
   "name": "python3"
  },
  "language_info": {
   "codemirror_mode": {
    "name": "ipython",
    "version": 3
   },
   "file_extension": ".py",
   "mimetype": "text/x-python",
   "name": "python",
   "nbconvert_exporter": "python",
   "pygments_lexer": "ipython3",
   "version": "3.9.13"
  }
 },
 "nbformat": 4,
 "nbformat_minor": 5
}
