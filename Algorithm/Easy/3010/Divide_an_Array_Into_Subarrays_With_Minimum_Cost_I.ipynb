{
 "cells": [
  {
   "cell_type": "markdown",
   "id": "fc2e59bf-0062-46cb-954d-1f1071302382",
   "metadata": {},
   "source": [
    "# 本題要將list切為三個list並找出最小成本是多少 (\\#Array )\n",
    "原題目連結: https://leetcode.com/problems/divide-an-array-into-subarrays-with-minimum-cost-i/description/  \n",
    "\n",
    "You are given an array of integers nums of length n.  \n",
    "The cost of an array is the value of its first element. For example, the cost of [1,2,3] is 1 while the cost of [3,4,1] is 3.  \n",
    "You need to divide nums into 3 disjoint contiguous subarrays.  \n",
    "\n",
    "Return the minimum possible sum of the cost of these subarrays.  \n",
    "\n",
    "範例:  \n",
    "Ex1:  \n",
    "Input: nums = [1,2,3,12]  \n",
    "Output: 6  \n",
    "Explanation: The best possible way to form 3 subarrays is: [1], [2], and [3,12] at a total cost of 1 + 2 + 3 = 6.  \n",
    "The other possible ways to form 3 subarrays are:  \n",
    "- [1], [2,3], and [12] at a total cost of 1 + 2 + 12 = 15.  \n",
    "- [1,2], [3], and [12] at a total cost of 1 + 3 + 12 = 16.  \n",
    "\n",
    "Ex2:  \n",
    "Input: nums = [5,4,3]  \n",
    "Output: 12  \n",
    "Explanation: The best possible way to form 3 subarrays is: [5], [4], and [3] at a total cost of 5 + 4 + 3 = 12.  \n",
    "It can be shown that 12 is the minimum cost achievable.  \n",
    "\n",
    "Ex3:  \n",
    "Input: nums = [10,3,1,1]  \n",
    "Output: 12  \n",
    "Explanation: The best possible way to form 3 subarrays is: [10,3], [1], and [1] at a total cost of 10 + 1 + 1 = 12.  \n",
    "It can be shown that 12 is the minimum cost achievable."
   ]
  },
  {
   "cell_type": "markdown",
   "id": "1cf766e7-182e-4a3d-8c7c-0853aa5a4487",
   "metadata": {},
   "source": [
    "* 解題想法:  \n",
    "依題目要求，計算成本的方式是將list的第一個數值作為成本，因此第一個成本就是nums[0]，接著找出nums剩下的最小兩個數值，加總之後就是答案"
   ]
  },
  {
   "cell_type": "code",
   "execution_count": null,
   "id": "166868d2-1f87-4cdf-9929-b490b3658e44",
   "metadata": {},
   "outputs": [],
   "source": [
    "import heapq\n",
    "\n",
    "class Solution:\n",
    "    def minimumCost(self, nums: List[int]) -> int:\n",
    "        res = nums[0]\n",
    "        l = nums[1:]\n",
    "        heapq.heapify(l)\n",
    "        for _ in range(2):\n",
    "            res += heapq.heappop(l)\n",
    "        return res"
   ]
  }
 ],
 "metadata": {
  "kernelspec": {
   "display_name": "Python 3 (ipykernel)",
   "language": "python",
   "name": "python3"
  },
  "language_info": {
   "codemirror_mode": {
    "name": "ipython",
    "version": 3
   },
   "file_extension": ".py",
   "mimetype": "text/x-python",
   "name": "python",
   "nbconvert_exporter": "python",
   "pygments_lexer": "ipython3",
   "version": "3.9.13"
  }
 },
 "nbformat": 4,
 "nbformat_minor": 5
}
