{
 "cells": [
  {
   "cell_type": "markdown",
   "id": "139fa0ae-43d5-4cb9-85b3-94b1460233f2",
   "metadata": {},
   "source": [
    "# 本題要找出最多可以組成幾層的三角形 (\\#Math )\n",
    "原題目連結: https://leetcode.com/problems/maximum-height-of-a-triangle/description/  \n",
    "\n",
    "You are given two integers red and blue representing the count of red and blue colored balls. You have to arrange these balls to form a triangle such that the 1st row will have 1 ball, the 2nd row will have 2 balls, the 3rd row will have 3 balls, and so on.  \n",
    "All the balls in a particular row should be the same color, and adjacent rows should have different colors.  \n",
    "Return the maximum height of the triangle that can be achieved.  \n",
    "\n",
    "範例:  \n",
    "Ex1:  \n",
    "Input: red = 2, blue = 4  \n",
    "Output: 3  \n",
    "Explanation:\n",
    "```\n",
    " 　B\n",
    "　R R\n",
    " B B B\n",
    "```\n",
    "The only possible arrangement is shown above.  \n",
    "\n",
    "Ex2:  \n",
    "Input: red = 2, blue = 1  \n",
    "Output: 2  \n",
    "Explanation:\n",
    "```\n",
    " B\n",
    "R R\n",
    "```\n",
    "The only possible arrangement is shown above.    \n",
    "\n",
    "Ex3:  \n",
    "Input: red = 1, blue = 1   \n",
    "Output: 1  \n",
    "\n",
    "Ex4:  \n",
    "Input: red = 10, blue = 1  \n",
    "Output: 2  \n",
    "Explanation:\n",
    "```\n",
    " B \n",
    "R R\n",
    "```\n",
    "The only possible arrangement is shown above.  "
   ]
  },
  {
   "cell_type": "markdown",
   "id": "a6f12b5b-8027-4381-bfb4-46a34e6f060c",
   "metadata": {},
   "source": [
    "* 解題想法:  \n",
    "首先建立一個函數，用來計算所有可能的高度，接著輪流將紅色與藍色作為開頭找出最高的可能，最後比較兩個的最大值就是答案"
   ]
  },
  {
   "cell_type": "code",
   "execution_count": null,
   "id": "4fa0d9a5-68ff-4321-9ae3-59335eab9a98",
   "metadata": {},
   "outputs": [],
   "source": [
    "class Solution:\n",
    "    def maxHeightOfTriangle(self, red: int, blue: int) -> int:\n",
    "        def get_height(c1, c2):\n",
    "            res = 0\n",
    "            while True:  \n",
    "                if res % 2 == 0 and c2 > res:\n",
    "                    res += 1\n",
    "                    c2 -= res\n",
    "                elif res % 2 != 0 and c1 > res:\n",
    "                    res += 1\n",
    "                    c1 -= res\n",
    "                else:   \n",
    "                    break\n",
    "            return res\n",
    "        return max(get_height(red, blue), get_height(blue, red))"
   ]
  }
 ],
 "metadata": {
  "kernelspec": {
   "display_name": "Python 3 (ipykernel)",
   "language": "python",
   "name": "python3"
  },
  "language_info": {
   "codemirror_mode": {
    "name": "ipython",
    "version": 3
   },
   "file_extension": ".py",
   "mimetype": "text/x-python",
   "name": "python",
   "nbconvert_exporter": "python",
   "pygments_lexer": "ipython3",
   "version": "3.9.13"
  }
 },
 "nbformat": 4,
 "nbformat_minor": 5
}
