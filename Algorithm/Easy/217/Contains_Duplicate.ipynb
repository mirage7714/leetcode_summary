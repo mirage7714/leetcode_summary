{
 "cells": [
  {
   "cell_type": "markdown",
   "metadata": {},
   "source": [
    "# 找出Array中有沒有重複的數值\n",
    "原題目連結:https://leetcode.com/problems/contains-duplicate/  \n",
    "\n",
    "範例:  \n",
    "Ex1:  \n",
    "Input: [1,2,3,1]  \n",
    "Output: true  \n",
    "\n",
    "Ex2:  \n",
    "Input: [1,2,3,4]  \n",
    "Output: false  \n",
    "\n",
    "Ex3:  \n",
    "Input: [1,1,1,3,3,4,3,2,4,2]  \n",
    "Output: true  "
   ]
  },
  {
   "cell_type": "markdown",
   "metadata": {},
   "source": [
    "* 解題想法:  \n",
    "主要是要找出Array中有沒有相同的數值，因此除了直接暴力破解外，也可以先排序後再開始比較，時間上應該會較為節省一些"
   ]
  },
  {
   "cell_type": "code",
   "execution_count": null,
   "metadata": {},
   "outputs": [],
   "source": [
    "class Solution:\n",
    "    def containsDuplicate(self, nums: List[int]) -> bool:\n",
    "        is_duplicated = False\n",
    "        nums.sort()\n",
    "        if len(nums) >= 2:\n",
    "            for n in range(len(nums)-1):\n",
    "                if nums[n] == nums[n+1]:\n",
    "                    is_duplicated = True\n",
    "                    \n",
    "        return is_duplicated"
   ]
  }
 ],
 "metadata": {
  "kernelspec": {
   "display_name": "Python 3",
   "language": "python",
   "name": "python3"
  },
  "language_info": {
   "codemirror_mode": {
    "name": "ipython",
    "version": 3
   },
   "file_extension": ".py",
   "mimetype": "text/x-python",
   "name": "python",
   "nbconvert_exporter": "python",
   "pygments_lexer": "ipython3",
   "version": "3.7.4"
  }
 },
 "nbformat": 4,
 "nbformat_minor": 2
}
