{
 "cells": [
  {
   "cell_type": "markdown",
   "metadata": {},
   "source": [
    "# 本題要實作binary search的方式，來找出指定的值是否有在list中\n",
    "原題目連結: https://leetcode.com/problems/binary-search/  \n",
    "\n",
    "Given an array of integers nums which is sorted in ascending order, and an integer target, write a function to search target in nums. If target exists, then return its index. Otherwise, return -1.  \n",
    "\n",
    "You must write an algorithm with O(log n) runtime complexity.  \n",
    "\n",
    "範例:  \n",
    "Ex1:  \n",
    "Input: nums = [-1,0,3,5,9,12], target = 9  \n",
    "Output: 4  \n",
    "Explanation: 9 exists in nums and its index is 4  \n",
    "\n",
    "Ex2:  \n",
    "Input: nums = [-1,0,3,5,9,12], target = 2  \n",
    "Output: -1  \n",
    "Explanation: 2 does not exist in nums so return -1"
   ]
  },
  {
   "cell_type": "markdown",
   "metadata": {},
   "source": [
    "* 解題想法:  \n",
    "這邊使用遞迴的方式來解binary search的問題，首先找到list最中間的值，接著檢查中間的值與指定值的大小關係，如果中間的值等於指定值則回傳index，如果指定值大於中位值，則將尋找邊界設定為右邊的區域，如果指定值小於中位值，則從左側開始尋找，最後如果當左右邊界大小互換時，代表list中沒有符合的值，就直接回傳-1"
   ]
  },
  {
   "cell_type": "code",
   "execution_count": null,
   "metadata": {},
   "outputs": [],
   "source": [
    "class Solution:\n",
    "    def search(self, nums: List[int], target: int) -> int:\n",
    "        def binary_search(data, low, high, key):\n",
    "            if high < low:\n",
    "                return -1\n",
    "            h = int((high+low)/2)\n",
    "            if data[h] == key:\n",
    "                return h\n",
    "            elif data[h] > key:\n",
    "                return binary_search(data, low, h-1, key)\n",
    "            else:\n",
    "                return binary_search(data, h+1, high, key)\n",
    "        \n",
    "        return binary_search(nums,0, len(nums)-1, target)"
   ]
  }
 ],
 "metadata": {
  "kernelspec": {
   "display_name": "Python 3",
   "language": "python",
   "name": "python3"
  },
  "language_info": {
   "codemirror_mode": {
    "name": "ipython",
    "version": 3
   },
   "file_extension": ".py",
   "mimetype": "text/x-python",
   "name": "python",
   "nbconvert_exporter": "python",
   "pygments_lexer": "ipython3",
   "version": "3.7.4"
  }
 },
 "nbformat": 4,
 "nbformat_minor": 4
}
