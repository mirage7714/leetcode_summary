{
 "cells": [
  {
   "cell_type": "markdown",
   "metadata": {},
   "source": [
    "# 本題要在一串整數中，加上千元的分位符號\n",
    "原題目連結： https://leetcode.com/problems/thousand-separator/  \n",
    "\n",
    "範例：  \n",
    "Ex1:  \n",
    "Input: n = 987  \n",
    "Output: \"987\"  \n",
    "\n",
    "Ex2:  \n",
    "Input: n = 1234  \n",
    "Output: \"1.234\"  \n",
    "\n",
    "Ex3:  \n",
    "Input: n = 123456789  \n",
    "Output: \"123.456.789\"  \n",
    "\n",
    "Ex4:  \n",
    "Input: n = 0  \n",
    "Output: \"0\""
   ]
  },
  {
   "cell_type": "markdown",
   "metadata": {},
   "source": [
    "* 解題想法：  \n",
    "因為是三位數要加上一個符號，因此從後面往前算會比前面往後算要來的好算  \n",
    "另外前面也不可以有分位符號，因此要多判斷是不是為第一位數"
   ]
  },
  {
   "cell_type": "code",
   "execution_count": null,
   "metadata": {},
   "outputs": [],
   "source": [
    "class Solution:\n",
    "    def thousandSeparator(self, n: int) -> str:\n",
    "        s_str = str(n)\n",
    "        result = ''\n",
    "        if len(s_str) > 3:\n",
    "            count = 0\n",
    "            for m in range(len(s_str)-1,-1,-1):\n",
    "                count += 1\n",
    "                result = s_str[m] + result\n",
    "                if count % 3 == 0 and m != 0:\n",
    "                     result = '.'+result\n",
    "        else:\n",
    "            result = s_str \n",
    "        return result\n",
    "            "
   ]
  }
 ],
 "metadata": {
  "kernelspec": {
   "display_name": "Python 3",
   "language": "python",
   "name": "python3"
  },
  "language_info": {
   "codemirror_mode": {
    "name": "ipython",
    "version": 3
   },
   "file_extension": ".py",
   "mimetype": "text/x-python",
   "name": "python",
   "nbconvert_exporter": "python",
   "pygments_lexer": "ipython3",
   "version": "3.8.3"
  }
 },
 "nbformat": 4,
 "nbformat_minor": 4
}
