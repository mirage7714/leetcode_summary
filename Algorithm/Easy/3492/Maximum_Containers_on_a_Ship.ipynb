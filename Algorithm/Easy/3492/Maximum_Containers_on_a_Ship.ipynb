{
 "cells": [
  {
   "cell_type": "markdown",
   "id": "71e3500c-2a9a-46eb-a7b3-bfc8b0a1545a",
   "metadata": {},
   "source": [
    "# 本題要找出最多可以裝多少的貨物到船上 (\\#Math )\n",
    "原題目連結: https://leetcode.com/problems/maximum-containers-on-a-ship/description/  \n",
    "\n",
    "You are given a positive integer n representing an n x n cargo deck on a ship. Each cell on the deck can hold one container with a weight of exactly w.  \n",
    "However, the total weight of all containers, if loaded onto the deck, must not exceed the ship's maximum weight capacity, maxWeight.  \n",
    "Return the maximum number of containers that can be loaded onto the ship.  \n",
    "\n",
    "範例:  \n",
    "Ex1:  \n",
    "Input: n = 2, w = 3, maxWeight = 15  \n",
    "Output: 4  \n",
    "Explanation:  \n",
    "The deck has 4 cells, and each container weighs 3. The total weight of loading all containers is 12, which does not exceed maxWeight.  \n",
    "\n",
    "Ex2:  \n",
    "Input: n = 3, w = 5, maxWeight = 20  \n",
    "Output: 4  \n",
    "Explanation:  \n",
    "The deck has 9 cells, and each container weighs 5. The maximum number of containers that can be loaded without exceeding maxWeight is 4."
   ]
  },
  {
   "cell_type": "markdown",
   "id": "71e8f127-f72d-4b83-a6f4-4e9a3d486691",
   "metadata": {},
   "source": [
    "* 解題想法:  \n",
    "首先計算最多數量的時候，重量是否會超過限制。如果不超過限制則回傳最大的數量，否則就是回傳最大重量除以單位重量的整數就是答案"
   ]
  },
  {
   "cell_type": "code",
   "execution_count": null,
   "id": "9f568903-3df0-46f1-808c-1f9d17ae0fa3",
   "metadata": {},
   "outputs": [],
   "source": [
    "class Solution:\n",
    "    def maxContainers(self, n: int, w: int, maxWeight: int) -> int:\n",
    "        if n * n * w <= maxWeight:\n",
    "            return n * n\n",
    "        else:\n",
    "            return maxWeight // w"
   ]
  }
 ],
 "metadata": {
  "kernelspec": {
   "display_name": "Python 3 (ipykernel)",
   "language": "python",
   "name": "python3"
  },
  "language_info": {
   "codemirror_mode": {
    "name": "ipython",
    "version": 3
   },
   "file_extension": ".py",
   "mimetype": "text/x-python",
   "name": "python",
   "nbconvert_exporter": "python",
   "pygments_lexer": "ipython3",
   "version": "3.9.13"
  }
 },
 "nbformat": 4,
 "nbformat_minor": 5
}
