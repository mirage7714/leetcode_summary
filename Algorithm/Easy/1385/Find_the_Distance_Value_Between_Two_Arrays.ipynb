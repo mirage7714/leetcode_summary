{
 "cells": [
  {
   "cell_type": "markdown",
   "metadata": {},
   "source": [
    "# 本題目要找出兩個array間的距離為何\n",
    "原題目連結: https://leetcode.com/problems/find-the-distance-value-between-two-arrays/  \n",
    "\n",
    "Given two integer arrays arr1 and arr2, and the integer d, return the distance value between the two arrays.  \n",
    "\n",
    "The distance value is defined as the number of elements arr1[i] such that there is not any element arr2[j] where |arr1[i]-arr2[j]| <= d.  \n",
    "\n",
    "範例:  \n",
    "Ex1:  \n",
    "Input: arr1 = [4,5,8], arr2 = [10,9,1,8], d = 2  \n",
    "Output: 2  \n",
    "Explanation:   \n",
    "For arr1[0]=4 we have:   \n",
    "|4-10|=6 > d=2   \n",
    "|4-9|=5 > d=2   \n",
    "|4-1|=3 > d=2   \n",
    "|4-8|=4 > d=2   \n",
    "For arr1[1]=5 we have:   \n",
    "|5-10|=5 > d=2   \n",
    "|5-9|=4 > d=2   \n",
    "|5-1|=4 > d=2   \n",
    "|5-8|=3 > d=2  \n",
    "For arr1[2]=8 we have:  \n",
    "|8-10|=2 <= d=2  \n",
    "|8-9|=1 <= d=2  \n",
    "|8-1|=7 > d=2  \n",
    "|8-8|=0 <= d=2  \n",
    "\n",
    "Ex2:  \n",
    "Input: arr1 = [1,4,2,3], arr2 = [-4,-3,6,10,20,30], d = 3  \n",
    "Output: 2  \n",
    "\n",
    "Ex3:  \n",
    "Input: arr1 = [2,1,100,3], arr2 = [-5,-2,10,-3,7], d = 6  \n",
    "Output: 1"
   ]
  },
  {
   "cell_type": "markdown",
   "metadata": {},
   "source": [
    "* 解題想法:  \n",
    "題目對於距離的定義指的是list1中的元素對於list2中所有的元素數字差的絕對值都不得小於d  \n",
    "因此用兩個迴圈來判斷在list1的元素是否符合條件，若符合條件則將一個技術的變數count加一，否則中斷這個迴圈進入下一個數值的測試"
   ]
  },
  {
   "cell_type": "code",
   "execution_count": null,
   "metadata": {},
   "outputs": [],
   "source": [
    "class Solution:\n",
    "    def findTheDistanceValue(self, arr1: List[int], arr2: List[int], d: int) -> int:\n",
    "        count = 0\n",
    "        for m in arr1:\n",
    "            is_valid = True\n",
    "            for n in arr2:\n",
    "                if abs(m - n) <= d:\n",
    "                    is_valid = False\n",
    "                    break\n",
    "            if is_valid:\n",
    "                count += 1\n",
    "        return count"
   ]
  }
 ],
 "metadata": {
  "kernelspec": {
   "display_name": "Python 3",
   "language": "python",
   "name": "python3"
  },
  "language_info": {
   "codemirror_mode": {
    "name": "ipython",
    "version": 3
   },
   "file_extension": ".py",
   "mimetype": "text/x-python",
   "name": "python",
   "nbconvert_exporter": "python",
   "pygments_lexer": "ipython3",
   "version": "3.7.4"
  }
 },
 "nbformat": 4,
 "nbformat_minor": 2
}
