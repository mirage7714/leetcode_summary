{
 "cells": [
  {
   "cell_type": "markdown",
   "metadata": {},
   "source": [
    "# 本題要實作hashset\n",
    "原題目連結:  https://leetcode.com/problems/design-hashset/  \n",
    "\n",
    "Design a HashSet without using any built-in hash table libraries.  \n",
    "\n",
    "Implement MyHashSet class:  \n",
    "\n",
    "void add(key) Inserts the value key into the HashSet.  \n",
    "bool contains(key) Returns whether the value key exists in the HashSet or not.  \n",
    "void remove(key) Removes the value key in the HashSet. If key does not exist in the HashSet, do nothing.  \n",
    "\n",
    "範例:  \n",
    "Ex1:  \n",
    "Input  \n",
    "[\"MyHashSet\", \"add\", \"add\", \"contains\", \"contains\", \"add\", \"contains\", \"remove\", \"contains\"]  \n",
    "[[], [1], [2], [1], [3], [2], [2], [2], [2]]  \n",
    "Output  \n",
    "[null, null, null, true, false, null, true, null, false]  \n",
    "\n",
    "Explanation  \n",
    "MyHashSet myHashSet = new MyHashSet();  \n",
    "myHashSet.add(1);      // set = [1]  \n",
    "myHashSet.add(2);      // set = [1, 2]  \n",
    "myHashSet.contains(1); // return True  \n",
    "myHashSet.contains(3); // return False, (not found)  \n",
    "myHashSet.add(2);      // set = [1, 2]  \n",
    "myHashSet.contains(2); // return True  \n",
    "myHashSet.remove(2);   // set = [1]  \n",
    "myHashSet.contains(2); // return False, (already removed)"
   ]
  },
  {
   "cell_type": "markdown",
   "metadata": {},
   "source": [
    "* 解題想法:  \n",
    "題目要求不用內建的hashset函數來進行實作，因此這邊使用list來進行實作  \n",
    "- add(): 檢查key是否有在list中，如果沒有則加入list中，有的話則無反應  \n",
    "- contains(): 檢查key是否有在list中，如果有則回傳True，否則回傳False  \n",
    "- remove(): 先檢查key是否有在list中，如果有的話則找出index後將這個index移除"
   ]
  },
  {
   "cell_type": "code",
   "execution_count": null,
   "metadata": {},
   "outputs": [],
   "source": [
    "class MyHashSet:\n",
    "\n",
    "    def __init__(self):\n",
    "        \"\"\"\n",
    "        Initialize your data structure here.\n",
    "        \"\"\"\n",
    "        self.keys = []\n",
    "\n",
    "    def add(self, key: int) -> None:\n",
    "        if key not in self.keys:\n",
    "            self.keys.append(key)\n",
    "\n",
    "    def remove(self, key: int) -> None:\n",
    "        if key in self.keys:\n",
    "            i = self.keys.index(key)\n",
    "            self.keys.pop(i)\n",
    "\n",
    "    def contains(self, key: int) -> bool:\n",
    "        \"\"\"\n",
    "        Returns true if this set contains the specified element\n",
    "        \"\"\"\n",
    "        if key in self.keys:\n",
    "            return True\n",
    "        else:\n",
    "            return False\n",
    "\n",
    "\n",
    "# Your MyHashSet object will be instantiated and called as such:\n",
    "# obj = MyHashSet()\n",
    "# obj.add(key)\n",
    "# obj.remove(key)\n",
    "# param_3 = obj.contains(key)"
   ]
  }
 ],
 "metadata": {
  "kernelspec": {
   "display_name": "Python 3",
   "language": "python",
   "name": "python3"
  },
  "language_info": {
   "codemirror_mode": {
    "name": "ipython",
    "version": 3
   },
   "file_extension": ".py",
   "mimetype": "text/x-python",
   "name": "python",
   "nbconvert_exporter": "python",
   "pygments_lexer": "ipython3",
   "version": "3.7.4"
  }
 },
 "nbformat": 4,
 "nbformat_minor": 2
}
