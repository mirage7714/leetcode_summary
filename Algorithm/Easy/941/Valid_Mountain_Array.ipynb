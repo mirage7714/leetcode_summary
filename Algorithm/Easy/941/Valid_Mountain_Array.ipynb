{
 "cells": [
  {
   "cell_type": "markdown",
   "metadata": {},
   "source": [
    "# 確認Array中的數值是否先增加後遞減\n",
    "原題目連結：https://leetcode.com/problems/valid-mountain-array/  \n",
    "\n",
    "範例：  \n",
    "Ex1:  \n",
    "Input: [2,1]  \n",
    "Output: false  \n",
    "\n",
    "Ex2:  \n",
    "Input: [3,5,5]  \n",
    "Output: false  \n",
    "\n",
    "Ex3:  \n",
    "Input: [0,3,2,1]  \n",
    "Output: true  "
   ]
  },
  {
   "cell_type": "markdown",
   "metadata": {},
   "source": [
    "* 解題想法：  \n",
    "題目中有提到，Array長度必須大於或等於3，另外只有一個最大值  \n",
    "在最大值的左側數值必須是遞增，而右側則必須是遞減  \n",
    "所以先找出最大值的index後，再來判斷Array是否符合條件，如果不符合條件則直接結束判斷迴圈並回傳結果"
   ]
  },
  {
   "cell_type": "code",
   "execution_count": null,
   "metadata": {},
   "outputs": [],
   "source": [
    "class Solution:\n",
    "    def validMountainArray(self, A: List[int]) -> bool:\n",
    "        is_mountain = True\n",
    "        if len(A) < 3:\n",
    "            is_mountain = False\n",
    "        else:\n",
    "            top = A.index(max(A))\n",
    "            if top == len(A) - 1:\n",
    "                is_mountain = False\n",
    "            elif top == 0:\n",
    "                is_mountain = False\n",
    "            else:\n",
    "                for n in range(top):\n",
    "                    if A[n] >= A[n+1]:\n",
    "                        is_mountain = False\n",
    "                        break\n",
    "                for m in range(top, len(A)-1):\n",
    "                    if A[m] <= A[m+1]:\n",
    "                        is_mountain = False\n",
    "                        break\n",
    "        return is_mountain"
   ]
  },
  {
   "cell_type": "code",
   "execution_count": null,
   "metadata": {},
   "outputs": [],
   "source": []
  }
 ],
 "metadata": {
  "kernelspec": {
   "display_name": "Python 3",
   "language": "python",
   "name": "python3"
  },
  "language_info": {
   "codemirror_mode": {
    "name": "ipython",
    "version": 3
   },
   "file_extension": ".py",
   "mimetype": "text/x-python",
   "name": "python",
   "nbconvert_exporter": "python",
   "pygments_lexer": "ipython3",
   "version": "3.8.3"
  }
 },
 "nbformat": 4,
 "nbformat_minor": 4
}
