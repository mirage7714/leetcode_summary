{
 "cells": [
  {
   "cell_type": "markdown",
   "metadata": {},
   "source": [
    "# 本題要找出用最少的步數將字串進行修改\n",
    "原題目連結: https://leetcode.com/problems/minimum-moves-to-convert-string/  \n",
    "\n",
    "You are given a string s consisting of n characters which are either 'X' or 'O'.  \n",
    "\n",
    "A move is defined as selecting three consecutive characters of s and converting them to 'O'. Note that if a move is applied to the character 'O', it will stay the same.  \n",
    "\n",
    "Return the minimum number of moves required so that all the characters of s are converted to 'O'.  \n",
    "\n",
    "範例:  \n",
    "Ex1:  \n",
    "Input: s = \"XXX\"  \n",
    "Output: 1  \n",
    "Explanation: XXX -> OOO  \n",
    "We select all the 3 characters and convert them in one move.  \n",
    "\n",
    "Ex2:  \n",
    "Input: s = \"XXOX\"  \n",
    "Output: 2  \n",
    "Explanation: XXOX -> OOOX -> OOOO  \n",
    "We select the first 3 characters in the first move, and convert them to 'O'.  \n",
    "Then we select the last 3 characters and convert them so that the final string contains all 'O's.  \n",
    "\n",
    "Ex3:  \n",
    "Input: s = \"OOOO\"  \n",
    "Output: 0  \n",
    "Explanation: There are no 'X's in s to convert."
   ]
  },
  {
   "cell_type": "markdown",
   "metadata": {},
   "source": [
    "* 解題想法:  \n",
    "首先檢查字串內有沒有題目指定要出現的字母，如果有的話，下一步就是用一個迴圈開始判斷第一個出現的'X'位置為何，並將後面兩個index都放入一個list中暫存，接下來兩個index的檢查都跳過，最後回傳執行的次數就是題目要求的最小次數"
   ]
  },
  {
   "cell_type": "code",
   "execution_count": null,
   "metadata": {},
   "outputs": [],
   "source": [
    "class Solution:\n",
    "    def minimumMoves(self, s: str) -> int:\n",
    "        result = 0\n",
    "        if 'X' in s:\n",
    "            temp = []\n",
    "            i = s.index('X')\n",
    "            for m in range(i, len(s)):\n",
    "                if m not in temp:\n",
    "                    if s[m] == 'X':\n",
    "                        temp.append(m+1)\n",
    "                        temp.append(m+2)\n",
    "                        \n",
    "                        result += 1\n",
    "                else:\n",
    "                    temp.pop(0)\n",
    "        return result"
   ]
  }
 ],
 "metadata": {
  "kernelspec": {
   "display_name": "Python 3",
   "language": "python",
   "name": "python3"
  },
  "language_info": {
   "codemirror_mode": {
    "name": "ipython",
    "version": 3
   },
   "file_extension": ".py",
   "mimetype": "text/x-python",
   "name": "python",
   "nbconvert_exporter": "python",
   "pygments_lexer": "ipython3",
   "version": "3.7.4"
  }
 },
 "nbformat": 4,
 "nbformat_minor": 4
}
