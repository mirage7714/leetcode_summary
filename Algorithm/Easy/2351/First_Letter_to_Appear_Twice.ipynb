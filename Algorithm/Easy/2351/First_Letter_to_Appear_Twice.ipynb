{
 "cells": [
  {
   "cell_type": "markdown",
   "metadata": {},
   "source": [
    "# 本題要找出第一個出現兩次的字母\n",
    "原題目連結: https://leetcode.com/problems/first-letter-to-appear-twice/  \n",
    " \n",
    "Given a string s consisting of lowercase English letters, return the first letter to appear twice.  \n",
    "\n",
    "Note:  \n",
    "A letter a appears twice before another letter b if the second occurrence of a is before the second occurrence of b.  \n",
    "s will contain at least one letter that appears twice.  \n",
    "\n",
    "範例:  \n",
    "Ex1:  \n",
    "Input: s = \"abccbaacz\"  \n",
    "Output: \"c\"  \n",
    "Explanation:  \n",
    "The letter 'a' appears on the indexes 0, 5 and 6.  \n",
    "The letter 'b' appears on the indexes 1 and 4.  \n",
    "The letter 'c' appears on the indexes 2, 3 and 7.  \n",
    "The letter 'z' appears on the index 8.  \n",
    "The letter 'c' is the first letter to appear twice, because out of all the letters the index of its second occurrence is the smallest.  \n",
    "\n",
    "Ex2:  \n",
    "Input: s = \"abcdd\"  \n",
    "Output: \"d\"  \n",
    "Explanation:  \n",
    "The only letter that appears twice is 'd' so we return 'd'."
   ]
  },
  {
   "cell_type": "markdown",
   "metadata": {},
   "source": [
    "* 解題想法:  \n",
    "首先用一個dict來存放字母出現過的次數，接著用迴圈檢查每個字母是否有出現，當之前有出現過之後則代表這是第二次出現，則回傳該字母"
   ]
  },
  {
   "cell_type": "code",
   "execution_count": null,
   "metadata": {},
   "outputs": [],
   "source": [
    "class Solution:\n",
    "    def repeatedCharacter(self, s: str) -> str:\n",
    "        count = {}\n",
    "        for m in s:\n",
    "            if m not in count.keys():\n",
    "                count[m] = 1\n",
    "            else:\n",
    "                return m"
   ]
  }
 ],
 "metadata": {
  "kernelspec": {
   "display_name": "Python 3",
   "language": "python",
   "name": "python3"
  },
  "language_info": {
   "codemirror_mode": {
    "name": "ipython",
    "version": 3
   },
   "file_extension": ".py",
   "mimetype": "text/x-python",
   "name": "python",
   "nbconvert_exporter": "python",
   "pygments_lexer": "ipython3",
   "version": "3.7.4"
  }
 },
 "nbformat": 4,
 "nbformat_minor": 4
}
