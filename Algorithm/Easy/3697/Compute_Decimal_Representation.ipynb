{
 "cells": [
  {
   "cell_type": "markdown",
   "id": "ca6d1ac2-6b7c-4eed-bb27-9acc108d0884",
   "metadata": {},
   "source": [
    "# 本題要將整數分割成10的倍數(\\#Math )\n",
    "原題目連結: https://leetcode.com/problems/compute-decimal-representation/description/?page=28  \n",
    "\n",
    "You are given a positive integer n.  \n",
    "A positive integer is a base-10 component if it is the product of a single digit from 1 to 9 and a non-negative power of 10. For example, 500, 30, and 7 are base-10 components, while 537, 102, and 11 are not.  \n",
    "Express n as a sum of only base-10 components, using the fewest base-10 components possible.  \n",
    "Return an array containing these base-10 components in descending order.  \n",
    "\n",
    "範例:  \n",
    "Ex1:  \n",
    "Input: n = 537  \n",
    "Output: [500,30,7]  \n",
    "Explanation:  \n",
    "We can express 537 as 500 + 30 + 7. It is impossible to express 537 as a sum using fewer than 3 base-10 components.  \n",
    "\n",
    "Ex2:  \n",
    "Input: n = 102  \n",
    "Output: [100,2]  \n",
    "Explanation:  \n",
    "We can express 102 as 100 + 2. 102 is not a base-10 component, which means 2 base-10 components are needed.  \n",
    "\n",
    "Ex3:  \n",
    "Input: n = 6  \n",
    "Output: [6]  \n",
    "Explanation:  \n",
    "6 is a base-10 component."
   ]
  },
  {
   "cell_type": "markdown",
   "id": "30d253d1-d7c0-495f-acf4-77add1e06787",
   "metadata": {},
   "source": [
    "* 解題想法:  \n",
    "用個while迴圈來檢查目前數值是否大於10，如果大於10則檢查尾數是否為0，如果不為0則將尾數取出後乘上目前的次方數之後放入list中，最後將list進行排序就是答案"
   ]
  },
  {
   "cell_type": "code",
   "execution_count": null,
   "id": "6f2516d1-a16f-443f-b3de-fe0d8f5839b5",
   "metadata": {},
   "outputs": [],
   "source": [
    "class Solution:\n",
    "    def decimalRepresentation(self, n: int) -> List[int]:\n",
    "        res = []\n",
    "        t = 0\n",
    "        while n > 10:\n",
    "            l = n % 10\n",
    "            if l > 0:\n",
    "                res.append(l * 10 ** t)\n",
    "            t += 1\n",
    "            n = n // 10\n",
    "        res.append(n * 10 ** t)\n",
    "        res.sort(reverse = True)\n",
    "        return res"
   ]
  }
 ],
 "metadata": {
  "kernelspec": {
   "display_name": "Python 3 (ipykernel)",
   "language": "python",
   "name": "python3"
  },
  "language_info": {
   "codemirror_mode": {
    "name": "ipython",
    "version": 3
   },
   "file_extension": ".py",
   "mimetype": "text/x-python",
   "name": "python",
   "nbconvert_exporter": "python",
   "pygments_lexer": "ipython3",
   "version": "3.12.5"
  }
 },
 "nbformat": 4,
 "nbformat_minor": 5
}
