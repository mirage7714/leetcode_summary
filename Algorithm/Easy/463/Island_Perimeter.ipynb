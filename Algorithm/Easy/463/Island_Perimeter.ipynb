{
 "cells": [
  {
   "cell_type": "markdown",
   "metadata": {},
   "source": [
    "# 本題要找出提供的區域周長為何\n",
    "原題目連結: https://leetcode.com/problems/island-perimeter/  \n",
    "\n",
    "You are given row x col grid representing a map where grid[i][j] = 1 represents land and grid[i][j] = 0 represents water.  \n",
    "\n",
    "Grid cells are connected horizontally/vertically (not diagonally). The grid is completely surrounded by water, and there is exactly one island (i.e., one or more connected land cells).  \n",
    "\n",
    "The island doesn't have \"lakes\", meaning the water inside isn't connected to the water around the island. One cell is a square with side length 1. The grid is rectangular, width and height don't exceed 100. Determine the perimeter of the island.  \n",
    "\n",
    "範例:  \n",
    "Ex1:  \n",
    "Input: grid = [[0,1,0,0],[1,1,1,0],[0,1,0,0],[1,1,0,0]]  \n",
    "Output: 16  \n",
    "Explanation: The perimeter is the 16 yellow stripes in the image above.  \n",
    "\n",
    "Ex2:  \n",
    "Input: grid = [[1]]  \n",
    "Output: 4  \n",
    "\n",
    "Ex3:  \n",
    "Input: grid = [[1,0]]  \n",
    "Output: 4"
   ]
  },
  {
   "cell_type": "markdown",
   "metadata": {},
   "source": [
    "* 解題想法:  \n",
    "題目所要求的區域邊長可看成兩個數值: 數值為1的區域總數以及相鄰的區域數，因此首先需要先找出數值為1的區塊，如果數值為1則確認下一個數值是否為1，以及下一列數值是否為1，如果為1的話則在相鄰區域數+1  \n",
    "最後求的總邊長為區塊數 x 4 - 相鄰數 x 2"
   ]
  },
  {
   "cell_type": "code",
   "execution_count": null,
   "metadata": {},
   "outputs": [],
   "source": [
    "class Solution:\n",
    "    def islandPerimeter(self, grid: List[List[int]]) -> int:\n",
    "        total = 0\n",
    "        cont = 0\n",
    "        for m in range(len(grid)):\n",
    "            if len(grid[m]) > 0:\n",
    "                for n in range(len(grid[m])):\n",
    "                    if grid[m][n] == 1:\n",
    "                        total += 1\n",
    "                        if n < len(grid[m])-1:\n",
    "                            if grid[m][n+1] == 1:\n",
    "                                cont += 1\n",
    "                        if m < len(grid)-1:\n",
    "                            if grid[m+1][n] == 1:\n",
    "                                cont += 1\n",
    "        border = total * 4 - cont * 2\n",
    "        return border"
   ]
  }
 ],
 "metadata": {
  "kernelspec": {
   "display_name": "Python 3",
   "language": "python",
   "name": "python3"
  },
  "language_info": {
   "codemirror_mode": {
    "name": "ipython",
    "version": 3
   },
   "file_extension": ".py",
   "mimetype": "text/x-python",
   "name": "python",
   "nbconvert_exporter": "python",
   "pygments_lexer": "ipython3",
   "version": "3.7.4"
  }
 },
 "nbformat": 4,
 "nbformat_minor": 2
}
