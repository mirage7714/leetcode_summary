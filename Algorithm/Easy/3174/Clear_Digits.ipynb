{
 "cells": [
  {
   "cell_type": "markdown",
   "id": "74bca7e3-9d30-42dd-a396-95df4897abf7",
   "metadata": {},
   "source": [
    "# 本題要找出所有的數字清除後剩下的字串為何 (\\#String )\n",
    "原題目連結: https://leetcode.com/problems/clear-digits/description/  \n",
    "\n",
    "You are given a string s.  \n",
    "Your task is to remove all digits by doing this operation repeatedly:  \n",
    "Delete the first digit and the closest non-digit character to its left.  \n",
    "Return the resulting string after removing all digits.  \n",
    "\n",
    "範例:  \n",
    "Ex1:  \n",
    "Input: s = \"abc\"  \n",
    "Output: \"abc\"  \n",
    "Explanation:  \n",
    "There is no digit in the string.   \n",
    "\n",
    "Ex2:  \n",
    "Input: s = \"cb34\"  \n",
    "Output: \"\"  \n",
    "Explanation:  \n",
    "First, we apply the operation on s[2], and s becomes \"c4\".  \n",
    "Then we apply the operation on s[1], and s becomes \"\"."
   ]
  },
  {
   "cell_type": "markdown",
   "id": "9a72edde-d59b-42e1-9180-38f739246a6b",
   "metadata": {},
   "source": [
    "* 解題想法:  \n",
    "首先用一個list來存放目前的字串，接著用迴圈開始檢查，如果出現數字則從暫存中清除最後一個字母，如果是字母則放入list中，最後將list中的字串重新組合後回傳"
   ]
  },
  {
   "cell_type": "code",
   "execution_count": null,
   "id": "ec0f71f3-b6b0-499c-9d9e-39071ec8bf24",
   "metadata": {},
   "outputs": [],
   "source": [
    "class Solution:\n",
    "    def clearDigits(self, s: str) -> str:\n",
    "        stack = []\n",
    "        for i in s:\n",
    "            if i.isalpha():\n",
    "                stack.append(i)\n",
    "            else:\n",
    "                if stack:\n",
    "                    stack.pop()\n",
    "        return ''.join(stack)"
   ]
  }
 ],
 "metadata": {
  "kernelspec": {
   "display_name": "Python 3 (ipykernel)",
   "language": "python",
   "name": "python3"
  },
  "language_info": {
   "codemirror_mode": {
    "name": "ipython",
    "version": 3
   },
   "file_extension": ".py",
   "mimetype": "text/x-python",
   "name": "python",
   "nbconvert_exporter": "python",
   "pygments_lexer": "ipython3",
   "version": "3.9.13"
  }
 },
 "nbformat": 4,
 "nbformat_minor": 5
}
