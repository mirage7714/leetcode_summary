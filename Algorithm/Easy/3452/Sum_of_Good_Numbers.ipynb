{
 "cells": [
  {
   "cell_type": "markdown",
   "id": "950993d1-ea28-4f8d-9922-893dc3bc700c",
   "metadata": {},
   "source": [
    "# 本題要找出符合指定條件數字的總和為多少 (\\#Array )\n",
    "原題目連結：https://leetcode.com/problems/sum-of-good-numbers/description/  \n",
    "\n",
    "Given an array of integers nums and an integer k, an element nums[i] is considered good if it is strictly greater than the elements at indices i - k and i + k (if those indices exist). If neither of these indices exists, nums[i] is still considered good.  \n",
    "Return the sum of all the good elements in the array.  \n",
    "\n",
    "範例：  \n",
    "Ex1:  \n",
    "Input: nums = [1,3,2,1,5,4], k = 2  \n",
    "Output: 12  \n",
    "Explanation:  \n",
    "The good numbers are nums[1] = 3, nums[4] = 5, and nums[5] = 4 because they are strictly greater than the numbers at indices i - k and i + k.  \n",
    "\n",
    "Ex2:  \n",
    "Input: nums = [2,1], k = 1  \n",
    "Output: 2  \n",
    "Explanation:  \n",
    "The only good number is nums[0] = 2 because it is strictly greater than nums[1].  "
   ]
  },
  {
   "cell_type": "markdown",
   "id": "094f9f79-458a-4b3f-8f98-5e491dfbe980",
   "metadata": {},
   "source": [
    "* 解題想法：  \n",
    "用一個變數來統計總和，接著用迴圈來判斷以下三個條件：   \n",
    "- index在i-k >= 0 且i+k < len(nums)的情況，nums[i]需同時大於nums[i-k]與nums[i+k]  \n",
    "- index小於k的情況，nums[i]需大於nums[i+k]  \n",
    "- index大於len(nums)-k的情況，則判斷nums[i] 是否大於nums[i-k]  \n",
    "如果有符合的情況則將該數進行加總，最後回傳加總的結果就是答案"
   ]
  },
  {
   "cell_type": "code",
   "execution_count": null,
   "id": "41b9a44d-0e58-4177-a5c8-4db76a1469a9",
   "metadata": {},
   "outputs": [],
   "source": [
    "class Solution:\n",
    "    def sumOfGoodNumbers(self, nums: List[int], k: int) -> int:\n",
    "        res = 0\n",
    "        for i in range(len(nums)):\n",
    "            n = nums[i]\n",
    "            if i -k >= 0 and i + k < len(nums) and n > nums[i-k] and n > nums[i+k]:\n",
    "                res += n\n",
    "            elif i - k < 0 and i + k < len(nums) and n > nums[i+k]:\n",
    "                res += n\n",
    "            elif i + k >= len(nums) and n > nums[i-k]:\n",
    "                res += n\n",
    "        return res"
   ]
  }
 ],
 "metadata": {
  "kernelspec": {
   "display_name": "Python 3 (ipykernel)",
   "language": "python",
   "name": "python3"
  },
  "language_info": {
   "codemirror_mode": {
    "name": "ipython",
    "version": 3
   },
   "file_extension": ".py",
   "mimetype": "text/x-python",
   "name": "python",
   "nbconvert_exporter": "python",
   "pygments_lexer": "ipython3",
   "version": "3.10.9"
  }
 },
 "nbformat": 4,
 "nbformat_minor": 5
}
