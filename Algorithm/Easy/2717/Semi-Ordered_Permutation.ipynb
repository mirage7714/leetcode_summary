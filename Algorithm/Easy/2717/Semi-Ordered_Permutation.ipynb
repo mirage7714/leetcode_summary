{
 "cells": [
  {
   "cell_type": "markdown",
   "metadata": {},
   "source": [
    "# 本題要算出完成排序的次數為多少 (\\#Array)\n",
    "原題目連結: https://leetcode.com/problems/semi-ordered-permutation/description/  \n",
    "\n",
    "You are given a 0-indexed permutation of n integers nums.  \n",
    "\n",
    "A permutation is called semi-ordered if the first number equals 1 and the last number equals n. You can perform the below operation as many times as you want until you make nums a semi-ordered permutation:  \n",
    "\n",
    "Pick two adjacent elements in nums, then swap them.  \n",
    "Return the minimum number of operations to make nums a semi-ordered permutation.  \n",
    "\n",
    "A permutation is a sequence of integers from 1 to n of length n containing each number exactly once.  \n",
    "\n",
    "範例:  \n",
    "Ex1:  \n",
    "Input: nums = [2,1,4,3]  \n",
    "Output: 2  \n",
    "Explanation: We can make the permutation semi-ordered using these sequence of operations:   \n",
    "1 - swap i = 0 and j = 1. The permutation becomes [1,2,4,3].  \n",
    "2 - swap i = 2 and j = 3. The permutation becomes [1,2,3,4].  \n",
    "It can be proved that there is no sequence of less than two operations that make nums a semi-ordered permutation.   \n",
    "\n",
    "Ex2:  \n",
    "Input: nums = [2,4,1,3]  \n",
    "Output: 3  \n",
    "Explanation: We can make the permutation semi-ordered using these sequence of operations:  \n",
    "1 - swap i = 1 and j = 2. The permutation becomes [2,1,4,3].  \n",
    "2 - swap i = 0 and j = 1. The permutation becomes [1,2,4,3].  \n",
    "3 - swap i = 2 and j = 3. The permutation becomes [1,2,3,4].  \n",
    "It can be proved that there is no sequence of less than three operations that make nums a semi-ordered permutation.  \n",
    "\n",
    "Ex3:  \n",
    "Input: nums = [1,3,4,2,5]  \n",
    "Output: 0  \n",
    "Explanation: The permutation is already a semi-ordered permutation."
   ]
  },
  {
   "cell_type": "markdown",
   "metadata": {},
   "source": [
    "* 解題想法:  \n",
    "首先找出1的位置，並將1移動到最前方的位置並記錄需要移動的步數，接著將最大值移動到最後面，並計算需要移動的步數為多少，最後回傳總步數就是答案"
   ]
  },
  {
   "cell_type": "code",
   "execution_count": null,
   "metadata": {},
   "outputs": [],
   "source": [
    "class Solution:\n",
    "    def semiOrderedPermutation(self, nums: List[int]) -> int:\n",
    "        res = 0\n",
    "        while nums[0] != 1:\n",
    "            i = nums.index(1)\n",
    "            p = nums[i-1]\n",
    "            nums[i-1] = 1\n",
    "            nums[i] = p\n",
    "            res += 1\n",
    "        while nums[-1] != len(nums):\n",
    "            j = nums.index(len(nums))\n",
    "            n = nums[j+1]\n",
    "            nums[j] = n\n",
    "            nums[j+1] = len(nums)\n",
    "            res += 1\n",
    "        return res"
   ]
  }
 ],
 "metadata": {
  "kernelspec": {
   "display_name": "Python 3",
   "language": "python",
   "name": "python3"
  },
  "language_info": {
   "codemirror_mode": {
    "name": "ipython",
    "version": 3
   },
   "file_extension": ".py",
   "mimetype": "text/x-python",
   "name": "python",
   "nbconvert_exporter": "python",
   "pygments_lexer": "ipython3",
   "version": "3.7.6"
  }
 },
 "nbformat": 4,
 "nbformat_minor": 4
}
