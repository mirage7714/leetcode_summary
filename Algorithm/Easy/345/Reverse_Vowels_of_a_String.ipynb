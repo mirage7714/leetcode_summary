{
 "cells": [
  {
   "cell_type": "markdown",
   "metadata": {},
   "source": [
    "# 將母音的順序進行翻轉\n",
    "原題目連結: https://leetcode.com/problems/reverse-vowels-of-a-string/  \n",
    "\n",
    "範例:  \n",
    "Ex1:  \n",
    "Input: \"hello\"  \n",
    "Output: \"holle\"  \n",
    "\n",
    "Ex2:  \n",
    "Input: \"leetcode\"  \n",
    "Output: \"leotcede\"  "
   ]
  },
  {
   "cell_type": "markdown",
   "metadata": {},
   "source": [
    "* 解題想法:  \n",
    "先建立一個母音的List，再將順序反轉後塞回原本的字串中  \n",
    "但效能部分還有優化空間，之前測試使用兩個list會超過time limit"
   ]
  },
  {
   "cell_type": "code",
   "execution_count": null,
   "metadata": {},
   "outputs": [],
   "source": [
    "class Solution:\n",
    "    def reverseVowels(self, s: str) -> str:\n",
    "        vowels = ['a','e','i','o','u','A','E','I','O','U']\n",
    "        result = ''\n",
    "        temp = []\n",
    "        for n in range(len(s)):\n",
    "            if s[n] in vowels:\n",
    "                temp.insert(0, s[n])\n",
    "        index = 0\n",
    "        for m in range(len(s)):\n",
    "            if s[m] in vowels:\n",
    "                result += temp[index]\n",
    "                index += 1\n",
    "            else:\n",
    "                result += s[m]\n",
    "        return result"
   ]
  }
 ],
 "metadata": {
  "kernelspec": {
   "display_name": "Python 3",
   "language": "python",
   "name": "python3"
  },
  "language_info": {
   "codemirror_mode": {
    "name": "ipython",
    "version": 3
   },
   "file_extension": ".py",
   "mimetype": "text/x-python",
   "name": "python",
   "nbconvert_exporter": "python",
   "pygments_lexer": "ipython3",
   "version": "3.7.4"
  }
 },
 "nbformat": 4,
 "nbformat_minor": 2
}
