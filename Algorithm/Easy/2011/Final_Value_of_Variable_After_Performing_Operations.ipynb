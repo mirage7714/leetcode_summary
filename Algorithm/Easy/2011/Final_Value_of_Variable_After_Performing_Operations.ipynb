{
 "cells": [
  {
   "cell_type": "markdown",
   "metadata": {},
   "source": [
    "# 本題要找出計算後的數值結果為何\n",
    "原題目連結: https://leetcode.com/problems/final-value-of-variable-after-performing-operations/  \n",
    "\n",
    "There is a programming language with only four operations and one variable X:  \n",
    "\n",
    "++X and X++ increments the value of the variable X by 1.  \n",
    "--X and X-- decrements the value of the variable X by 1.  \n",
    "Initially, the value of X is 0.  \n",
    "\n",
    "Given an array of strings operations containing a list of operations, return the final value of X after performing all the operations.  \n",
    "\n",
    "範例:  \n",
    "Ex1:  \n",
    "Input: operations = [\"--X\",\"X++\",\"X++\"]  \n",
    "Output: 1  \n",
    "Explanation: The operations are performed as follows:  \n",
    "Initially, X = 0.  \n",
    "--X: X is decremented by 1, X =  0 - 1 = -1.  \n",
    "X++: X is incremented by 1, X = -1 + 1 =  0.  \n",
    "X++: X is incremented by 1, X =  0 + 1 =  1.  \n",
    "\n",
    "Ex2:  \n",
    "Input: operations = [\"++X\",\"++X\",\"X++\"]  \n",
    "Output: 3  \n",
    "Explanation: The operations are performed as follows:  \n",
    "Initially, X = 0.  \n",
    "++X: X is incremented by 1, X = 0 + 1 = 1.  \n",
    "++X: X is incremented by 1, X = 1 + 1 = 2.  \n",
    "X++: X is incremented by 1, X = 2 + 1 = 3.  \n",
    "\n",
    "Ex3:  \n",
    "Input: operations = [\"X++\",\"++X\",\"--X\",\"X--\"]  \n",
    "Output: 0  \n",
    "Explanation: The operations are performed as follows:  \n",
    "Initially, X = 0.  \n",
    "X++: X is incremented by 1, X = 0 + 1 = 1.  \n",
    "++X: X is incremented by 1, X = 1 + 1 = 2.  \n",
    "--X: X is decremented by 1, X = 2 - 1 = 1.  \n",
    "X--: X is decremented by 1, X = 1 - 1 = 0.  "
   ]
  },
  {
   "cell_type": "markdown",
   "metadata": {},
   "source": [
    "* 解題想法:  \n",
    "依題目說明，判斷字串內是否有包含+或-號，如果有+號則結果+1，如果是-號的話則是將結果-1，最後回傳結果"
   ]
  },
  {
   "cell_type": "code",
   "execution_count": null,
   "metadata": {},
   "outputs": [],
   "source": [
    "class Solution:\n",
    "    def finalValueAfterOperations(self, operations: List[str]) -> int:\n",
    "        result = 0\n",
    "        for o in operations:\n",
    "            if '+' in o:\n",
    "                result += 1\n",
    "            elif '-' in o:\n",
    "                result -= 1\n",
    "        return result"
   ]
  }
 ],
 "metadata": {
  "kernelspec": {
   "display_name": "Python 3",
   "language": "python",
   "name": "python3"
  },
  "language_info": {
   "codemirror_mode": {
    "name": "ipython",
    "version": 3
   },
   "file_extension": ".py",
   "mimetype": "text/x-python",
   "name": "python",
   "nbconvert_exporter": "python",
   "pygments_lexer": "ipython3",
   "version": "3.7.6"
  }
 },
 "nbformat": 4,
 "nbformat_minor": 4
}
