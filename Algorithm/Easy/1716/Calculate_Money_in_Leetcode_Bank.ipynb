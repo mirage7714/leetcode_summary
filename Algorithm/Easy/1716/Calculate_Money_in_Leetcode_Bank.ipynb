{
 "cells": [
  {
   "cell_type": "markdown",
   "metadata": {},
   "source": [
    "# 本題要找出在N天後共有多少錢\n",
    "原題目連結: https://leetcode.com/problems/calculate-money-in-leetcode-bank/  \n",
    "\n",
    "Hercy wants to save money for his first car. He puts money in the Leetcode bank every day.  \n",
    "\n",
    "He starts by putting in $1 on Monday, the first day. Every day from Tuesday to Sunday, he will put in $1 more than the day before. On every subsequent Monday, he will put in $1 more than the previous Monday.  \n",
    "Given n, return the total amount of money he will have in the Leetcode bank at the end of the nth day.  \n",
    "\n",
    "範例:  \n",
    "Ex1:  \n",
    "Input: n = 4  \n",
    "Output: 10  \n",
    "Explanation: After the 4th day, the total is 1 + 2 + 3 + 4 = 10.  \n",
    "\n",
    "Ex2:  \n",
    "Input: n = 10  \n",
    "Output: 37  \n",
    "Explanation: After the 10th day, the total is (1 + 2 + 3 + 4 + 5 + 6 + 7) + (2 + 3 + 4) = 37. Notice that on the 2nd Monday, Hercy only puts in $2.  \n",
    "\n",
    "Ex3:  \n",
    "Input: n = 20  \n",
    "Output: 96  \n",
    "Explanation: After the 20th day, the total is (1 + 2 + 3 + 4 + 5 + 6 + 7) + (2 + 3 + 4 + 5 + 6 + 7 + 8) + (3 + 4 + 5 + 6 + 7 + 8) = 96."
   ]
  },
  {
   "cell_type": "markdown",
   "metadata": {},
   "source": [
    "* 解題想法:  \n",
    "依題目說明，如果多過了一天，則金額會多加1，另外超過一周之後，原本星期一的1塊也會多加1  \n",
    "因此要找出時間天數內共有幾周以及幾天，並找出最後總和為多少"
   ]
  },
  {
   "cell_type": "code",
   "execution_count": null,
   "metadata": {},
   "outputs": [],
   "source": [
    "class Solution:\n",
    "    def totalMoney(self, n: int) -> int:\n",
    "        total = 0\n",
    "        weeks = int(n/7)\n",
    "        days = int(n % 7)\n",
    "        for w in range(weeks):\n",
    "            total += 28 + w * 7\n",
    "        for d in range(1, days+1):\n",
    "            total += d + weeks\n",
    "        return total"
   ]
  }
 ],
 "metadata": {
  "kernelspec": {
   "display_name": "Python 3",
   "language": "python",
   "name": "python3"
  },
  "language_info": {
   "codemirror_mode": {
    "name": "ipython",
    "version": 3
   },
   "file_extension": ".py",
   "mimetype": "text/x-python",
   "name": "python",
   "nbconvert_exporter": "python",
   "pygments_lexer": "ipython3",
   "version": "3.7.4"
  }
 },
 "nbformat": 4,
 "nbformat_minor": 2
}
