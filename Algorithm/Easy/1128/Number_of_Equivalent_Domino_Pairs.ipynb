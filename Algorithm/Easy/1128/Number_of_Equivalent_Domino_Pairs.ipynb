{
 "cells": [
  {
   "cell_type": "markdown",
   "metadata": {},
   "source": [
    "# 本題要找出在提供的array中，共有幾組是數字相同的\n",
    "原題目連結: https://leetcode.com/problems/number-of-equivalent-domino-pairs/  \n",
    "\n",
    "Given a list of dominoes, dominoes[i] = [a, b] is equivalent to dominoes[j] = [c, d] if and only if either (a==c and b==d), or (a==d and b==c) - that is, one domino can be rotated to be equal to another domino.  \n",
    "\n",
    "Return the number of pairs (i, j) for which 0 <= i < j < dominoes.length, and dominoes[i] is equivalent to dominoes[j].  \n",
    "\n",
    "範例:  \n",
    "Ex1:  \n",
    "Input: dominoes = [[1,2],[2,1],[3,4],[5,6]]  \n",
    "Output: 1"
   ]
  },
  {
   "cell_type": "markdown",
   "metadata": {},
   "source": [
    "* 解題想法:  \n",
    "依據題目的定義，可以配對的組合為list中的兩個數字相同(不論順序)，因此原本以為可以單純地用暴力解來解題，但現實總是沒這麼的美好，這樣會超過時間的限制  \n",
    "後來使用的做法是，先用一個dict來存放數字總和以及list中最小值為多少的組合，並統計相同的組合共有多少，最後用一個迴圈將所有的組合都算出來，計算公式為 n x (n-1) / 2 (2!公式)，並將總和加起來就是答案了"
   ]
  },
  {
   "cell_type": "code",
   "execution_count": null,
   "metadata": {},
   "outputs": [],
   "source": [
    "class Solution:\n",
    "    def numEquivDominoPairs(self, dominoes: List[List[int]]) -> int:\n",
    "        freq = {}\n",
    "        result = 0\n",
    "        for domino in dominoes:\n",
    "            total = domino[0]+domino[1]\n",
    "            small = min(domino[0], domino[1])\n",
    "            if total not in freq.keys():\n",
    "                freq[total] = {small:1}\n",
    "            else:\n",
    "                if small not in freq[total].keys():\n",
    "                    freq[total][small] = 1\n",
    "                else:\n",
    "                    freq[total][small] += 1\n",
    "        for key, val in freq.items():\n",
    "            for v in val.values():\n",
    "                if v > 1:\n",
    "                    temp = int(v * (v-1) / 2)\n",
    "                    result += temp\n",
    "        return result"
   ]
  }
 ],
 "metadata": {
  "kernelspec": {
   "display_name": "Python 3",
   "language": "python",
   "name": "python3"
  },
  "language_info": {
   "codemirror_mode": {
    "name": "ipython",
    "version": 3
   },
   "file_extension": ".py",
   "mimetype": "text/x-python",
   "name": "python",
   "nbconvert_exporter": "python",
   "pygments_lexer": "ipython3",
   "version": "3.7.4"
  }
 },
 "nbformat": 4,
 "nbformat_minor": 2
}
