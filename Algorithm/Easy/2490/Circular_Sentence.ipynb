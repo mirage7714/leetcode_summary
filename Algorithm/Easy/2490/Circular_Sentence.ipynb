{
 "cells": [
  {
   "cell_type": "markdown",
   "metadata": {},
   "source": [
    "# 本題要判斷字串是否符合circle sentence的定義 (\\#String)\n",
    "原題目連結: https://leetcode.com/problems/circular-sentence/  \n",
    "\n",
    "A sentence is a list of words that are separated by a single space with no leading or trailing spaces.  \n",
    "\n",
    "For example, \"Hello World\", \"HELLO\", \"hello world hello world\" are all sentences.  \n",
    "Words consist of only uppercase and lowercase English letters. Uppercase and lowercase English letters are considered different.  \n",
    "\n",
    "A sentence is circular if:  \n",
    "The last character of a word is equal to the first character of the next word.  \n",
    "The last character of the last word is equal to the first character of the first word.  \n",
    "For example, \"leetcode exercises sound delightful\", \"eetcode\", \"leetcode eats soul\" are all circular sentences. However, \"Leetcode is cool\", \"happy Leetcode\", \"Leetcode\" and \"I like Leetcode\" are not circular sentences.  \n",
    "\n",
    "Given a string sentence, return true if it is circular. Otherwise, return false.  \n",
    "\n",
    "範例:  \n",
    "Ex1:  \n",
    "Input: sentence = \"leetcode exercises sound delightful\"  \n",
    "Output: true  \n",
    "Explanation: The words in sentence are [\"leetcode\", \"exercises\", \"sound\", \"delightful\"].  \n",
    "- leetcode's last character is equal to exercises's first character.  \n",
    "- exercises's last character is equal to sound's first character.  \n",
    "- sound's last character is equal to delightful's first character.  \n",
    "- delightful's last character is equal to leetcode's first character.  \n",
    "The sentence is circular.  \n",
    "\n",
    "Ex2:  \n",
    "Input: sentence = \"eetcode\"  \n",
    "Output: true  \n",
    "Explanation: The words in sentence are [\"eetcode\"].  \n",
    "- eetcode's last character is equal to eetcode's first character.  \n",
    "The sentence is circular.  \n",
    "\n",
    "Ex3:  \n",
    "Input: sentence = \"Leetcode is cool\"  \n",
    "Output: false  \n",
    "Explanation: The words in sentence are [\"Leetcode\", \"is\", \"cool\"].  \n",
    "- Leetcode's last character is not equal to is's first character.  \n",
    "The sentence is not circular.  "
   ]
  },
  {
   "cell_type": "markdown",
   "metadata": {},
   "source": [
    "* 解題想法:  \n",
    "首先將字串用空白分割成單字，接著檢查單字的數量有多少，如果數量為1的情況，則檢查頭尾的字母是否相同，如果數量超過1，則需檢查每個相鄰的單字字尾與字首是否為相同的字母，最後還需檢查第一個單字與最後一個單字的頭尾是否相同"
   ]
  },
  {
   "cell_type": "code",
   "execution_count": null,
   "metadata": {},
   "outputs": [],
   "source": [
    "class Solution:\n",
    "    def isCircularSentence(self, sentence: str) -> bool:\n",
    "        words = sentence.split(' ')\n",
    "        if len(words) == 1:\n",
    "            if words[0][0] == words[0][-1]:\n",
    "                return True\n",
    "            return False\n",
    "        else:\n",
    "            for m in range(1, len(words)):\n",
    "                if words[m-1][-1] != words[m][0]:\n",
    "                    return False\n",
    "            if words[0][0] != words[-1][-1]:\n",
    "                return False\n",
    "            return True"
   ]
  }
 ],
 "metadata": {
  "kernelspec": {
   "display_name": "Python 3",
   "language": "python",
   "name": "python3"
  },
  "language_info": {
   "codemirror_mode": {
    "name": "ipython",
    "version": 3
   },
   "file_extension": ".py",
   "mimetype": "text/x-python",
   "name": "python",
   "nbconvert_exporter": "python",
   "pygments_lexer": "ipython3",
   "version": "3.7.4"
  }
 },
 "nbformat": 4,
 "nbformat_minor": 4
}
