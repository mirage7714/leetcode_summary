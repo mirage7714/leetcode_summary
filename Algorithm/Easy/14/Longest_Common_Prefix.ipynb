{
 "cells": [
  {
   "cell_type": "markdown",
   "metadata": {},
   "source": [
    "# 本題要找出在所有字串中最長的開頭字串為何\n",
    "原題目連結: https://leetcode.com/problems/longest-common-prefix/  \n",
    "\n",
    "範例:  \n",
    "Ex1:  \n",
    "Input: strs = [\"flower\",\"flow\",\"flight\"]  \n",
    "Output: \"fl\"  \n",
    "\n",
    "Ex2:  \n",
    "Input: strs = [\"dog\",\"racecar\",\"car\"]  \n",
    "Output: \"\""
   ]
  },
  {
   "cell_type": "markdown",
   "metadata": {},
   "source": [
    "* 解題想法:  \n",
    "由於是要找出所有字串中相同的開頭，因此需要先找出最短的字串為何，再用迴圈判斷在每個index所有字串的字母是否相同  \n",
    "如果有一個不相同，則終止迴圈，並回傳迴圈結束前的最後index，就可找出最長的字首。如果沒有相同字首的話則直接回傳空字串"
   ]
  },
  {
   "cell_type": "code",
   "execution_count": null,
   "metadata": {},
   "outputs": [],
   "source": [
    "class Solution:\n",
    "    def longestCommonPrefix(self, strs: List[str]) -> str:\n",
    "        prefix = 0\n",
    "        temp = ''\n",
    "        is_same= True\n",
    "        if len(strs) > 0:\n",
    "            short_len = len(strs[0])\n",
    "            short_index = 0\n",
    "            for l in range(len(strs)):\n",
    "                if len(strs[l]) < short_len:\n",
    "                    short_len = len(strs[l])\n",
    "                    short_index = l\n",
    "                    \n",
    "            short = strs[short_index]\n",
    "            for n in range(len(short)):\n",
    "                temp = short[n]\n",
    "                for m in range(len(strs)):\n",
    "                    if temp != strs[m][n]:\n",
    "                        is_same = False\n",
    "                        break\n",
    "                if is_same == False:\n",
    "                    break\n",
    "                prefix = n+1\n",
    "            temp = strs[0][:prefix]\n",
    "        return temp"
   ]
  }
 ],
 "metadata": {
  "kernelspec": {
   "display_name": "Python 3",
   "language": "python",
   "name": "python3"
  },
  "language_info": {
   "codemirror_mode": {
    "name": "ipython",
    "version": 3
   },
   "file_extension": ".py",
   "mimetype": "text/x-python",
   "name": "python",
   "nbconvert_exporter": "python",
   "pygments_lexer": "ipython3",
   "version": "3.7.4"
  }
 },
 "nbformat": 4,
 "nbformat_minor": 2
}
