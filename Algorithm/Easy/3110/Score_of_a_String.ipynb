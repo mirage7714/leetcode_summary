{
 "cells": [
  {
   "cell_type": "markdown",
   "id": "e304a5dd-45d5-4aa7-bee8-7e27d3d6458c",
   "metadata": {},
   "source": [
    "# 本題要找出字串的得分為多少 (\\#String )\n",
    "原題目連結: https://leetcode.com/problems/score-of-a-string/description/  \n",
    "\n",
    "You are given a string s. The score of a string is defined as the sum of the absolute difference between the ASCII values of adjacent characters.  \n",
    "Return the score of s.  \n",
    "\n",
    "範例:  \n",
    "Ex1:  \n",
    "Input: s = \"hello\"  \n",
    "Output: 13  \n",
    "Explanation:  \n",
    "The ASCII values of the characters in s are: 'h' = 104, 'e' = 101, 'l' = 108, 'o' = 111. So, the score of s would be |104 - 101| + |101 - 108| + |108 - 108| + |108 - 111| = 3 + 7 + 0 + 3 = 13.  \n",
    "\n",
    "Ex2:  \n",
    "Input: s = \"zaz\"  \n",
    "Output: 50  \n",
    "Explanation:  \n",
    "The ASCII values of the characters in s are: 'z' = 122, 'a' = 97. So, the score of s would be |122 - 97| + |97 - 122| = 25 + 25 = 50."
   ]
  },
  {
   "cell_type": "markdown",
   "id": "41c67284-12e3-4225-b5d1-4c8e656d7cc6",
   "metadata": {},
   "source": [
    "* 解題想法:  \n",
    "首先把第一個字母的ASCII找出，接著計算兩個字母間的ASCII數值差距並加總起來，最後回傳總和就是答案"
   ]
  },
  {
   "cell_type": "code",
   "execution_count": null,
   "id": "38e8c197-1967-42fe-8a00-1f8ecc039449",
   "metadata": {},
   "outputs": [],
   "source": [
    "class Solution:\n",
    "    def scoreOfString(self, s: str) -> int:\n",
    "        res = 0\n",
    "        start = ord(s[0])\n",
    "        for i in range(1, len(s)):\n",
    "            res += abs(start - ord(s[i]))\n",
    "            start = ord(s[i])\n",
    "        return res"
   ]
  }
 ],
 "metadata": {
  "kernelspec": {
   "display_name": "Python 3 (ipykernel)",
   "language": "python",
   "name": "python3"
  },
  "language_info": {
   "codemirror_mode": {
    "name": "ipython",
    "version": 3
   },
   "file_extension": ".py",
   "mimetype": "text/x-python",
   "name": "python",
   "nbconvert_exporter": "python",
   "pygments_lexer": "ipython3",
   "version": "3.9.13"
  }
 },
 "nbformat": 4,
 "nbformat_minor": 5
}
