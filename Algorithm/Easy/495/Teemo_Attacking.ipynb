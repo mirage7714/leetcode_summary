{
 "cells": [
  {
   "cell_type": "markdown",
   "metadata": {},
   "source": [
    "# 本題要找出範圍內共有多少值\n",
    "原題目連結: https://leetcode.com/problems/teemo-attacking/  \n",
    "\n",
    "Our hero Teemo is attacking an enemy Ashe with poison attacks! When Teemo attacks Ashe, Ashe gets poisoned for a exactly duration seconds. More formally, an attack at second t will mean Ashe is poisoned during the inclusive time interval [t, t + duration - 1]. If Teemo attacks again before the poison effect ends, the timer for it is reset, and the poison effect will end duration seconds after the new attack.  \n",
    "\n",
    "You are given a non-decreasing integer array timeSeries, where timeSeries[i] denotes that Teemo attacks Ashe at second timeSeries[i], and an integer duration.  \n",
    "\n",
    "Return the total number of seconds that Ashe is poisoned.  \n",
    "\n",
    "範例:  \n",
    "Ex1:  \n",
    "Input: timeSeries = [1,4], duration = 2  \n",
    "Output: 4  \n",
    "Explanation: Teemo's attacks on Ashe go as follows:  \n",
    "- At second 1, Teemo attacks, and Ashe is poisoned for seconds 1 and 2.  \n",
    "- At second 4, Teemo attacks, and Ashe is poisoned for seconds 4 and 5.  \n",
    "Ashe is poisoned for seconds 1, 2, 4, and 5, which is 4 seconds in total.  \n",
    "\n",
    "Ex2:  \n",
    "Input: timeSeries = [1,2], duration = 2  \n",
    "Output: 3  \n",
    "Explanation: Teemo's attacks on Ashe go as follows:  \n",
    "- At second 1, Teemo attacks, and Ashe is poisoned for seconds 1 and 2.  \n",
    "- At second 2 however, Teemo attacks again and resets the poison timer. Ashe is poisoned for seconds 2 and 3.  \n",
    "Ashe is poisoned for seconds 1, 2, and 3, which is 3 seconds in total."
   ]
  },
  {
   "cell_type": "markdown",
   "metadata": {},
   "source": [
    "* 解題想法:  \n",
    "首先將指定的時間序列轉換為涵蓋的時間區間，並檢查是否有重疊的時間區間，如果有則修改上一個時間區間，最後找出在這些時間區間內共有多少值"
   ]
  },
  {
   "cell_type": "code",
   "execution_count": null,
   "metadata": {},
   "outputs": [],
   "source": [
    "class Solution:\n",
    "    def findPoisonedDuration(self, timeSeries: List[int], duration: int) -> int:\n",
    "        times = []\n",
    "        total = 0\n",
    "        for t in timeSeries:\n",
    "            r = [t, t + duration]\n",
    "            if len(times) == 0:\n",
    "                times.append(r)\n",
    "            else:\n",
    "                if times[-1][1] > r[0]:\n",
    "                    times[-1][1] = r[1]\n",
    "                else:\n",
    "                    times.append(r)\n",
    "        for p in times:\n",
    "            total += p[1] - p[0]\n",
    "        return total"
   ]
  }
 ],
 "metadata": {
  "kernelspec": {
   "display_name": "Python 3",
   "language": "python",
   "name": "python3"
  },
  "language_info": {
   "codemirror_mode": {
    "name": "ipython",
    "version": 3
   },
   "file_extension": ".py",
   "mimetype": "text/x-python",
   "name": "python",
   "nbconvert_exporter": "python",
   "pygments_lexer": "ipython3",
   "version": "3.7.4"
  }
 },
 "nbformat": 4,
 "nbformat_minor": 2
}
