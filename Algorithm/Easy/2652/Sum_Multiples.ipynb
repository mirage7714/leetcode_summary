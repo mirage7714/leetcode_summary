{
 "cells": [
  {
   "cell_type": "markdown",
   "id": "6099415f-982c-4f57-80ee-08d4f61ce2c5",
   "metadata": {},
   "source": [
    "# 本題要找出指定範圍內可被指定數整除的整數和為多少 (\\#Math)\n",
    "原題目連結: https://leetcode.com/problems/sum-multiples/description/  \n",
    "\n",
    "Given a positive integer n, find the sum of all integers in the range [1, n] inclusive that are divisible by 3, 5, or 7.  \n",
    "\n",
    "Return an integer denoting the sum of all numbers in the given range satisfying the constraint.  \n",
    "\n",
    "範例:  \n",
    "Ex1:  \n",
    "Input: n = 7  \n",
    "Output: 21  \n",
    "Explanation: Numbers in the range [1, 7] that are divisible by 3, 5, or 7 are 3, 5, 6, 7. The sum of these numbers is 21.  \n",
    "\n",
    "Ex2:  \n",
    "Input: n = 10  \n",
    "Output: 40  \n",
    "Explanation: Numbers in the range [1, 10] that are divisible by 3, 5, or 7 are 3, 5, 6, 7, 9, 10. The sum of these numbers is 40.  \n",
    "\n",
    "Ex3:  \n",
    "Input: n = 9  \n",
    "Output: 30  \n",
    "Explanation: Numbers in the range [1, 9] that are divisible by 3, 5, or 7 are 3, 5, 6, 7, 9. The sum of these numbers is 30."
   ]
  },
  {
   "cell_type": "markdown",
   "id": "d49f97b8-66de-40c7-9a3c-16e593d1796f",
   "metadata": {},
   "source": [
    "* 解題想法:  \n",
    "用個迴圈找出可以被3或5或7整除的數，並將數值加起來的總和回傳就是答案"
   ]
  },
  {
   "cell_type": "code",
   "execution_count": null,
   "id": "e1a45892-5577-46e1-988c-9b77fbec9862",
   "metadata": {},
   "outputs": [],
   "source": [
    "class Solution:\n",
    "    def sumOfMultiples(self, n: int) -> int:\n",
    "        res = 0\n",
    "        for l in range(1, n+1):\n",
    "            if l % 3 == 0 or l % 5 == 0 or l % 7 == 0:\n",
    "                res += l\n",
    "        return res"
   ]
  }
 ],
 "metadata": {
  "kernelspec": {
   "display_name": "Python 3 (ipykernel)",
   "language": "python",
   "name": "python3"
  },
  "language_info": {
   "codemirror_mode": {
    "name": "ipython",
    "version": 3
   },
   "file_extension": ".py",
   "mimetype": "text/x-python",
   "name": "python",
   "nbconvert_exporter": "python",
   "pygments_lexer": "ipython3",
   "version": "3.9.13"
  }
 },
 "nbformat": 4,
 "nbformat_minor": 5
}
