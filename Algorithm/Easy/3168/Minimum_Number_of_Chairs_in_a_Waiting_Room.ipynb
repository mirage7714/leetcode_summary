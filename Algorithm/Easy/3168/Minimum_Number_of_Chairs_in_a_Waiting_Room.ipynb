{
 "cells": [
  {
   "cell_type": "markdown",
   "id": "5a39abfd-8ced-4563-8f82-669e92efbd4b",
   "metadata": {},
   "source": [
    "# 本題要找出最少需要幾張椅子 (\\#String )\n",
    "原題目連結: https://leetcode.com/problems/minimum-number-of-chairs-in-a-waiting-room/description/  \n",
    "\n",
    "You are given a string s. Simulate events at each second i:  \n",
    "If s[i] == 'E', a person enters the waiting room and takes one of the chairs in it.  \n",
    "If s[i] == 'L', a person leaves the waiting room, freeing up a chair.  \n",
    "Return the minimum number of chairs needed so that a chair is available for every person who enters the waiting room given that it is initially empty.  \n",
    "\n",
    "範例:  \n",
    "Ex1:  \n",
    "Input: s = \"EEEEEEE\"  \n",
    "Output: 7  \n",
    "Explanation:  \n",
    "After each second, a person enters the waiting room and no person leaves it. Therefore, a minimum of 7 chairs is needed.  \n",
    "\n",
    "Ex2:  \n",
    "Input: s = \"ELELEEL\"  \n",
    "Output: 2  \n",
    "Explanation:  \n",
    "Let's consider that there are 2 chairs in the waiting room. The table below shows the state of the waiting room at each second.  \n",
    "\n",
    "Ex3:  \n",
    "Input: s = \"ELEELEELLL\"  \n",
    "Output: 3  \n",
    "Explanation:  \n",
    "Let's consider that there are 3 chairs in the waiting room. The table below shows the state of the waiting room at each second."
   ]
  },
  {
   "cell_type": "markdown",
   "id": "31d7df33-7860-47ee-9f97-760d38a2f7af",
   "metadata": {},
   "source": [
    "* 解題想法:  \n",
    "用一個變數來放目前需要的椅子數量，接著用迴圈紀錄目前需要的椅子數量，並更新最大的椅子數量，最後回傳最大的椅子數量就是答案"
   ]
  },
  {
   "cell_type": "code",
   "execution_count": null,
   "id": "338e63e9-90f1-4f92-9b6e-71b08d1993fb",
   "metadata": {},
   "outputs": [],
   "source": [
    "class Solution:\n",
    "    def minimumChairs(self, s: str) -> int:\n",
    "        stack = 0\n",
    "        res = 0\n",
    "        for i in s:\n",
    "            if i == 'E':\n",
    "                stack += 1\n",
    "                res = max(res, stack)\n",
    "            else:\n",
    "                if stack > 0:\n",
    "                    stack -= 1\n",
    "        return res"
   ]
  }
 ],
 "metadata": {
  "kernelspec": {
   "display_name": "Python 3 (ipykernel)",
   "language": "python",
   "name": "python3"
  },
  "language_info": {
   "codemirror_mode": {
    "name": "ipython",
    "version": 3
   },
   "file_extension": ".py",
   "mimetype": "text/x-python",
   "name": "python",
   "nbconvert_exporter": "python",
   "pygments_lexer": "ipython3",
   "version": "3.9.13"
  }
 },
 "nbformat": 4,
 "nbformat_minor": 5
}
