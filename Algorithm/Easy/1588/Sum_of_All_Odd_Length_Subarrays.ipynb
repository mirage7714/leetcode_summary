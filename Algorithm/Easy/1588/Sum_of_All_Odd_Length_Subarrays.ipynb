{
 "cells": [
  {
   "cell_type": "markdown",
   "metadata": {},
   "source": [
    "# 本題要找出奇數長度的list中所有的數字總合\n",
    "原題目連結： https://leetcode.com/problems/sum-of-all-odd-length-subarrays/  \n",
    "\n",
    "範例：  \n",
    "Ex1:  \n",
    "Input: arr = [1,4,2,5,3]  \n",
    "Output: 58  \n",
    "Explanation: The odd-length subarrays of arr and their sums are:  \n",
    "[1] = 1  \n",
    "[4] = 4  \n",
    "[2] = 2  \n",
    "[5] = 5  \n",
    "[3] = 3  \n",
    "[1,4,2] = 7  \n",
    "[4,2,5] = 11  \n",
    "[2,5,3] = 10  \n",
    "[1,4,2,5,3] = 15  \n",
    "If we add all these together we get 1 + 4 + 2 + 5 + 3 + 7 + 11 + 10 + 15 = 58  \n",
    "\n",
    "Ex2:  \n",
    "Input: arr = [1,2]  \n",
    "Output: 3  \n",
    "Explanation: There are only 2 subarrays of odd length, [1] and [2]. Their sum is 3.  \n",
    "\n",
    "Ex3:  \n",
    "Input: arr = [10,11,12]  \n",
    "Output: 66  "
   ]
  },
  {
   "cell_type": "markdown",
   "metadata": {},
   "source": [
    "* 解題想法：  \n",
    "先從list的長度，找出最多有幾種奇數長度的可能性，然後用子list的方式將每個list內的數值相加起來\n",
    "最後就可以得到題目所求的答案"
   ]
  },
  {
   "cell_type": "code",
   "execution_count": null,
   "metadata": {},
   "outputs": [],
   "source": [
    "class Solution:\n",
    "    def sumOddLengthSubarrays(self, arr: List[int]) -> int:\n",
    "        total = 0\n",
    "        for m in range(1, len(arr)+2,2):\n",
    "            if m == 1:\n",
    "                for n in range(len(arr)):\n",
    "                    total += arr[n]\n",
    "            else:\n",
    "                for l in range(0, len(arr)+1-m):\n",
    "                    temp = arr[l:l+m]\n",
    "                    for t in temp:\n",
    "                        total += t\n",
    "        return total"
   ]
  }
 ],
 "metadata": {
  "kernelspec": {
   "display_name": "Python 3",
   "language": "python",
   "name": "python3"
  },
  "language_info": {
   "codemirror_mode": {
    "name": "ipython",
    "version": 3
   },
   "file_extension": ".py",
   "mimetype": "text/x-python",
   "name": "python",
   "nbconvert_exporter": "python",
   "pygments_lexer": "ipython3",
   "version": "3.8.3"
  }
 },
 "nbformat": 4,
 "nbformat_minor": 4
}
