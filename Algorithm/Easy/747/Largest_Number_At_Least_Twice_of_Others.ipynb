{
 "cells": [
  {
   "cell_type": "markdown",
   "metadata": {},
   "source": [
    "# 題目要找出array中最大的數是否是其他數字的兩倍以上\n",
    "原題目連結： https://leetcode.com/problems/largest-number-at-least-twice-of-others/  \n",
    "\n",
    "In a given integer array nums, there is always exactly one largest element.  \n",
    "\n",
    "Find whether the largest element in the array is at least twice as much as every other number in the array.  \n",
    "\n",
    "If it is, return the index of the largest element, otherwise return -1.  \n",
    " \n",
    "範例：  \n",
    "Ex1:  \n",
    "Input: nums = [3, 6, 1, 0]  \n",
    "Output: 1  \n",
    "Explanation: 6 is the largest integer, and for every other number in the array x,  \n",
    "6 is more than twice as big as x.  The index of value 6 is 1, so we return 1.  \n",
    "\n",
    "Ex2:  \n",
    "Input: nums = [1, 2, 3, 4]  \n",
    "Output: -1  \n",
    "Explanation: 4 isn't at least as big as twice the value of 3, so we return -1.  "
   ]
  },
  {
   "cell_type": "markdown",
   "metadata": {},
   "source": [
    "* 解題想法：  \n",
    "先找出array中的最大值，在用迴圈將每個值與最大值比較是否符合題目的兩倍要求\n",
    "如果不符合，則回傳-1"
   ]
  },
  {
   "cell_type": "code",
   "execution_count": null,
   "metadata": {},
   "outputs": [],
   "source": [
    "class Solution:\n",
    "    def dominantIndex(self, nums: List[int]) -> int:\n",
    "        is_twice = nums.index(max(nums))\n",
    "        for num in nums:\n",
    "            if num * 2 > max(nums) and num != max(nums):\n",
    "                is_twice = -1\n",
    "                break\n",
    "        return is_twice"
   ]
  }
 ],
 "metadata": {
  "kernelspec": {
   "display_name": "Python 3",
   "language": "python",
   "name": "python3"
  },
  "language_info": {
   "codemirror_mode": {
    "name": "ipython",
    "version": 3
   },
   "file_extension": ".py",
   "mimetype": "text/x-python",
   "name": "python",
   "nbconvert_exporter": "python",
   "pygments_lexer": "ipython3",
   "version": "3.8.3"
  }
 },
 "nbformat": 4,
 "nbformat_minor": 4
}
