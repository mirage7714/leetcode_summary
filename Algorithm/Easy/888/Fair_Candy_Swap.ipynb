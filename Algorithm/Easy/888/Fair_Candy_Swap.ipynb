{
 "cells": [
  {
   "cell_type": "markdown",
   "metadata": {},
   "source": [
    "# 本題要找出在交換一個元素的情況下，讓兩個list總和相同\n",
    "原題目連結: https://leetcode.com/problems/fair-candy-swap/  \n",
    "\n",
    "Alice and Bob have candy bars of different sizes: aliceSizes[i] is the size of the i-th bar of candy that Alice has, and bobSizes[j] is the size of the j-th bar of candy that Bob has.  \n",
    "\n",
    "Since they are friends, they would like to exchange one candy bar each so that after the exchange, they both have the same total amount of candy.  (The total amount of candy a person has is the sum of the sizes of candy bars they have.)  \n",
    "\n",
    "Return an integer array ans where ans[0] is the size of the candy bar that Alice must exchange, and ans[1] is the size of the candy bar that Bob must exchange.  \n",
    "\n",
    "If there are multiple answers, you may return any one of them.  It is guaranteed an answer exists.  \n",
    "\n",
    "範例:  \n",
    "Ex1:  \n",
    "Input: aliceSizes = [1,1], bobSizes = [2,2]  \n",
    "Output: [1,2]  \n",
    "\n",
    "Ex2:  \n",
    "Input: aliceSizes = [1,2], bobSizes = [2,3]  \n",
    "Output: [1,2]  \n",
    "\n",
    "Ex3:   \n",
    "Input: aliceSizes = [2], bobSizes = [1,3]  \n",
    "Output: [2,3]  \n",
    "\n",
    "Ex4:  \n",
    "Input: aliceSizes = [1,2,5], bobSizes = [2,4]  \n",
    "Output: [5,4]"
   ]
  },
  {
   "cell_type": "markdown",
   "metadata": {},
   "source": [
    "* 解題想法:  \n",
    " 依題目說明，首先找出兩個list總和分別為多少，接著找出兩個list的差距後，逐個檢查list A中的元素在減去差距/2後是否有在list B中出現，如果有則將兩個元素加入list(result)中，並回傳result"
   ]
  },
  {
   "cell_type": "code",
   "execution_count": null,
   "metadata": {},
   "outputs": [],
   "source": [
    "class Solution:\n",
    "    def fairCandySwap(self, A: List[int], B: List[int]) -> List[int]:\n",
    "        def getTotal(nums):\n",
    "            total = 0\n",
    "            for num in nums:\n",
    "                total += num\n",
    "            return total\n",
    "        \n",
    "        result = []\n",
    "        sum_a = getTotal(A)\n",
    "        sum_b = getTotal(B)\n",
    "        diff = sum_a - sum_b\n",
    "        for n in A:\n",
    "            if (n - int(diff)/2) in B:\n",
    "                result.append(n)\n",
    "                result.append(n- int(diff)/2)\n",
    "                break\n",
    "        return result"
   ]
  }
 ],
 "metadata": {
  "kernelspec": {
   "display_name": "Python 3",
   "language": "python",
   "name": "python3"
  },
  "language_info": {
   "codemirror_mode": {
    "name": "ipython",
    "version": 3
   },
   "file_extension": ".py",
   "mimetype": "text/x-python",
   "name": "python",
   "nbconvert_exporter": "python",
   "pygments_lexer": "ipython3",
   "version": "3.7.4"
  }
 },
 "nbformat": 4,
 "nbformat_minor": 2
}
