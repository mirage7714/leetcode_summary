{
 "cells": [
  {
   "cell_type": "markdown",
   "id": "fb3ee5cd-e1c1-487e-bdf5-333392161cf0",
   "metadata": {},
   "source": [
    "# 本題要判斷是否有兩個相鄰的遞增list存在 (\\#Array, \\#SlidingWindow )\n",
    "原題目連結: https://leetcode.com/problems/adjacent-increasing-subarrays-detection-i/description/   \n",
    "\n",
    "Given an array nums of n integers and an integer k, determine whether there exist two adjacent subarrays of length k such that both subarrays are strictly increasing.   Specifically, check if there are two subarrays starting at indices a and b (a < b), where:  \n",
    "Both subarrays nums[a..a + k - 1] and nums[b..b + k - 1] are strictly increasing.  \n",
    "The subarrays must be adjacent, meaning b = a + k.  \n",
    "Return true if it is possible to find two such subarrays, and false otherwise.  \n",
    "\n",
    "範例:  \n",
    "Ex1:  \n",
    "Input: nums = [2,5,7,8,9,2,3,4,3,1], k = 3  \n",
    "Output: true  \n",
    "Explanation:  \n",
    "The subarray starting at index 2 is [7, 8, 9], which is strictly increasing.  \n",
    "The subarray starting at index 5 is [2, 3, 4], which is also strictly increasing.  \n",
    "These two subarrays are adjacent, so the result is true.  \n",
    "\n",
    "Ex2:  \n",
    "Input: nums = [1,2,3,4,4,4,4,5,6,7], k = 5  \n",
    "Output: false"
   ]
  },
  {
   "cell_type": "markdown",
   "id": "608705ba-f94a-4aaf-a17b-2641405acb82",
   "metadata": {},
   "source": [
    "* 解題想法:  \n",
    "首先建立一個function用來檢查list是否為遞增，接著用SlidingWindow的方式開始檢查是否符合條件，如果有符合條件的情況則回傳True，如果都沒有則回傳False"
   ]
  },
  {
   "cell_type": "code",
   "execution_count": null,
   "id": "1d457518-5d02-4fa1-a7a2-7fc8cebb01f1",
   "metadata": {},
   "outputs": [],
   "source": [
    "class Solution:\n",
    "    def hasIncreasingSubarrays(self, nums: List[int], k: int) -> bool:\n",
    "        def is_increase(n):\n",
    "            for i in range(len(n)-1):\n",
    "                if n[i] >= n[i+1]:\n",
    "                    return False\n",
    "            return True\n",
    "        \n",
    "        for i in range(len(nums)-2 * k + 1):\n",
    "            p1 = nums[i:i+k]\n",
    "            p2 = nums[i+k:i+2*k]\n",
    "            if is_increase(p1) and is_increase(p2):\n",
    "                return True\n",
    "        return False"
   ]
  }
 ],
 "metadata": {
  "kernelspec": {
   "display_name": "Python 3 (ipykernel)",
   "language": "python",
   "name": "python3"
  },
  "language_info": {
   "codemirror_mode": {
    "name": "ipython",
    "version": 3
   },
   "file_extension": ".py",
   "mimetype": "text/x-python",
   "name": "python",
   "nbconvert_exporter": "python",
   "pygments_lexer": "ipython3",
   "version": "3.9.13"
  }
 },
 "nbformat": 4,
 "nbformat_minor": 5
}
