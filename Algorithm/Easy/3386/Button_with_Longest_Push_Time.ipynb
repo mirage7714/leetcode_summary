{
 "cells": [
  {
   "cell_type": "markdown",
   "id": "f60e92fd-28d6-41cc-ae97-08981b889285",
   "metadata": {},
   "source": [
    "# 本題要找出按壓時間最久的按鈕是哪個 (\\#Array, \\#HashMap )\n",
    "原題目連結: https://leetcode.com/problems/button-with-longest-push-time/description/  \n",
    "\n",
    "You are given a 2D array events which represents a sequence of events where a child pushes a series of buttons on a keyboard.  \n",
    "Each events[i] = [indexi, timei] indicates that the button at index indexi was pressed at time timei.  \n",
    "The array is sorted in increasing order of time.  \n",
    "The time taken to press a button is the difference in time between consecutive button presses. The time for the first button is simply the time at which it was pressed.  \n",
    "Return the index of the button that took the longest time to push. If multiple buttons have the same longest time, return the button with the smallest index.  \n",
    "\n",
    "範例:  \n",
    "Ex1:  \n",
    "Input: events = [[1,2],[2,5],[3,9],[1,15]]  \n",
    "Output: 1  \n",
    "Explanation:  \n",
    "Button with index 1 is pressed at time 2.  \n",
    "Button with index 2 is pressed at time 5, so it took 5 - 2 = 3 units of time.  \n",
    "Button with index 3 is pressed at time 9, so it took 9 - 5 = 4 units of time.  \n",
    "Button with index 1 is pressed again at time 15, so it took 15 - 9 = 6 units of time.  \n",
    "\n",
    "Ex2:  \n",
    "Input: events = [[10,5],[1,7]]  \n",
    "Output: 10  \n",
    "Explanation:  \n",
    "Button with index 10 is pressed at time 5.  \n",
    "Button with index 1 is pressed at time 7, so it took 7 - 5 = 2 units of time."
   ]
  },
  {
   "cell_type": "markdown",
   "id": "52f9dc46-c8bc-426e-ac4d-7134165e2166",
   "metadata": {},
   "source": [
    "* 解題想法:  \n",
    "首先建立一個dict來存放每個key最長的按壓時間，接著用迴圈開始記錄每個按鈕按壓的時間並更新最長的時間，最後找出單次按壓時間最長的按鈕就是答案"
   ]
  },
  {
   "cell_type": "code",
   "execution_count": null,
   "id": "0fa65c0a-b715-47ac-a4d3-a6aa70556df2",
   "metadata": {},
   "outputs": [],
   "source": [
    "class Solution:\n",
    "    def buttonWithLongestTime(self, events: List[List[int]]) -> int:\n",
    "        count = {}\n",
    "        prev = 0\n",
    "        m = 0\n",
    "        res = inf\n",
    "        for event in events:\n",
    "            d = event[1] - prev\n",
    "            prev = event[1]\n",
    "            if event[0] not in count.keys():\n",
    "                count[event[0]] = 0 \n",
    "            count[event[0]] = max(count[event[0]], d)\n",
    "            m = max(m, count[event[0]])\n",
    "        print(count)\n",
    "        for key, val in count.items():\n",
    "            if val == m: \n",
    "                res = min(key, res)\n",
    "        return res"
   ]
  }
 ],
 "metadata": {
  "kernelspec": {
   "display_name": "Python 3 (ipykernel)",
   "language": "python",
   "name": "python3"
  },
  "language_info": {
   "codemirror_mode": {
    "name": "ipython",
    "version": 3
   },
   "file_extension": ".py",
   "mimetype": "text/x-python",
   "name": "python",
   "nbconvert_exporter": "python",
   "pygments_lexer": "ipython3",
   "version": "3.9.13"
  }
 },
 "nbformat": 4,
 "nbformat_minor": 5
}
