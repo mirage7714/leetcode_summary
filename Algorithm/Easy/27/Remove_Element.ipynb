{
 "cells": [
  {
   "cell_type": "markdown",
   "metadata": {},
   "source": [
    "# 本題要將指定的數字從array中移除\n",
    "原題目連結: https://leetcode.com/problems/remove-element/  \n",
    "\n",
    "Given an array nums and a value val, remove all instances of that value in-place and return the new length.  \n",
    "\n",
    "Do not allocate extra space for another array, you must do this by modifying the input array in-place with O(1) extra memory.  \n",
    "\n",
    "The order of elements can be changed. It doesn't matter what you leave beyond the new length.  \n",
    "\n",
    "範例:  \n",
    "Ex1:  \n",
    "Input: nums = [3,2,2,3], val = 3  \n",
    "Output: 2, nums = [2,2]  \n",
    "Explanation: Your function should return length = 2, with the first two elements of nums being 2.  \n",
    "It doesn't matter what you leave beyond the returned length. For example if you return 2 with nums = [2,2,3,3] or nums = [2,3,0,0], your answer will be accepted.  \n",
    "\n",
    "Ex2:  \n",
    "Input: nums = [0,1,2,2,3,0,4,2], val = 2  \n",
    "Output: 5, nums = [0,1,4,0,3]  \n",
    "Explanation: Your function should return length = 5, with the first five elements of nums containing 0, 1, 3, 0, and 4. Note that the order of those five elements can be arbitrary. It doesn't matter what values are set beyond the returned length."
   ]
  },
  {
   "cell_type": "markdown",
   "metadata": {},
   "source": [
    "* 解題想法:  \n",
    "由於題目要求直接對原本的list進行修改，因此為了加快迴圈的速度，首先用了一個while迴圈，來對list進行操作，並用一個for loop去判斷數字是否是題目要求的數字，如果是進行移除，而如果大於題目要求的數字則結束for loop，並重新進行檢查"
   ]
  },
  {
   "cell_type": "code",
   "execution_count": null,
   "metadata": {},
   "outputs": [],
   "source": [
    "class Solution:\n",
    "    def removeElement(self, nums: List[int], val: int) -> int:\n",
    "        nums.sort()\n",
    "        is_valid = True\n",
    "        while is_valid:\n",
    "            if val in nums:\n",
    "                index = nums.index(val)\n",
    "                for n in range(index, len(nums)):\n",
    "                    if nums[n] > val:\n",
    "                        break\n",
    "                    elif nums[n] == val:\n",
    "                        nums.remove(nums[n])\n",
    "                        break\n",
    "            else:\n",
    "                is_valid = False\n",
    "                break"
   ]
  }
 ],
 "metadata": {
  "kernelspec": {
   "display_name": "Python 3",
   "language": "python",
   "name": "python3"
  },
  "language_info": {
   "codemirror_mode": {
    "name": "ipython",
    "version": 3
   },
   "file_extension": ".py",
   "mimetype": "text/x-python",
   "name": "python",
   "nbconvert_exporter": "python",
   "pygments_lexer": "ipython3",
   "version": "3.7.4"
  }
 },
 "nbformat": 4,
 "nbformat_minor": 2
}
