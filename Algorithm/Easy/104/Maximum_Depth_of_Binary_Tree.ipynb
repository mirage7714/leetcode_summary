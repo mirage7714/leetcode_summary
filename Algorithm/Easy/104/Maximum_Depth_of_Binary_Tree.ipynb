{
 "cells": [
  {
   "cell_type": "markdown",
   "metadata": {},
   "source": [
    "# 本題要找出樹中最大的深度為何\n",
    "原題目連結: https://leetcode.com/problems/sum-of-left-leaves/  \n",
    "\n",
    "Given the root of a binary tree, return the sum of all left leaves.  \n",
    "\n",
    "A leaf is a node with no children. A left leaf is a leaf that is the left child of another node.  \n",
    "\n",
    "範例:  \n",
    "Ex1:  \n",
    "Input: root = [3,9,20,null,null,15,7]  \n",
    "Output: 3  \n",
    "\n",
    "Ex2:  \n",
    "Input: root = [1,null,2]  \n",
    "Output: 2"
   ]
  },
  {
   "cell_type": "markdown",
   "metadata": {},
   "source": [
    "* 解題想法:  \n",
    "與111題相反，這題要找出樹中最大的深度為多少，因此這題一樣使用BFS來進行走訪樹，並將每層中的節點用一個list來進行存放，接著檢查每個節點是否還有往下的分支，如果有則放入暫存中，等這層都檢查完畢後再檢查暫存中是否還有節點，如果有擇繼續往下一層進行走訪，最後回傳走訪的深度就是題目要求的最大深度"
   ]
  },
  {
   "cell_type": "code",
   "execution_count": null,
   "metadata": {},
   "outputs": [],
   "source": [
    "# Definition for a binary tree node.\n",
    "# class TreeNode:\n",
    "#     def __init__(self, val=0, left=None, right=None):\n",
    "#         self.val = val\n",
    "#         self.left = left\n",
    "#         self.right = right\n",
    "class Solution:\n",
    "    def maxDepth(self, root: TreeNode) -> int:\n",
    "        temp = []\n",
    "        result = 0\n",
    "        if root != None:\n",
    "            temp.append([root])\n",
    "            result += 1\n",
    "            while len(temp) > 0:\n",
    "                nodes = []\n",
    "                is_end = False\n",
    "                current = temp[0]\n",
    "                for c in current:\n",
    "                    if c.left != None:\n",
    "                        nodes.append(c.left)\n",
    "                    if c.right != None:\n",
    "                        nodes.append(c.right)\n",
    "                if len(nodes) > 0:\n",
    "                    temp.append(nodes)\n",
    "                    result += 1\n",
    "                temp.pop(0)\n",
    "        return result"
   ]
  }
 ],
 "metadata": {
  "kernelspec": {
   "display_name": "Python 3",
   "language": "python",
   "name": "python3"
  },
  "language_info": {
   "codemirror_mode": {
    "name": "ipython",
    "version": 3
   },
   "file_extension": ".py",
   "mimetype": "text/x-python",
   "name": "python",
   "nbconvert_exporter": "python",
   "pygments_lexer": "ipython3",
   "version": "3.7.4"
  }
 },
 "nbformat": 4,
 "nbformat_minor": 4
}
