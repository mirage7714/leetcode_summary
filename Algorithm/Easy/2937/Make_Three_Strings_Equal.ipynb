{
 "cells": [
  {
   "cell_type": "markdown",
   "id": "cbe6e614-1080-4433-832d-90782a25c119",
   "metadata": {},
   "source": [
    "# 本題要判斷三個字串是否可以在刪除一些字母後變成相同的字串 (\\#String )\n",
    "原題目連結：https://leetcode.com/problems/make-three-strings-equal/description/  \n",
    "\n",
    "You are given three strings s1, s2, and s3. You have to perform the following operation on these three strings as many times as you want.  \n",
    "In one operation you can choose one of these three strings such that its length is at least 2 and delete the rightmost character of it.  \n",
    "Return the minimum number of operations you need to perform to make the three strings equal if there is a way to make them equal, otherwise, return -1.  \n",
    "\n",
    "範例：  \n",
    "Ex1:  \n",
    "Input: s1 = \"abc\", s2 = \"abb\", s3 = \"ab\"  \n",
    "Output: 2  \n",
    "Explanation: Performing operations on s1 and s2 once will lead to three equal strings.  \n",
    "It can be shown that there is no way to make them equal with less than two operations.  \n",
    "\n",
    "Ex2:  \n",
    "Input: s1 = \"dac\", s2 = \"bac\", s3 = \"cac\"  \n",
    "Output: -1  \n",
    "Explanation: Because the leftmost letters of s1 and s2 are not equal, they could not be equal after any number of operations. So the answer is -1."
   ]
  },
  {
   "cell_type": "markdown",
   "id": "3d5f745f-2331-489b-b662-cbc36767134c",
   "metadata": {},
   "source": [
    "* 解題想法：  \n",
    "用迴圈從頭開始檢查三個字串的第一個字母是否相同，如果相同則同時移除第一個字母，直到字串長度為0或是不相同的時候則中斷迴圈，最後將三個字串剩下的長度加總之後就是答案，如果都沒移除任何字母則回傳-1"
   ]
  },
  {
   "cell_type": "code",
   "execution_count": null,
   "id": "45b6377d-03e5-49a9-ad8d-ed28ea1e378e",
   "metadata": {},
   "outputs": [],
   "source": [
    "class Solution:\n",
    "    def findMinimumOperations(self, s1: str, s2: str, s3: str) -> int:\n",
    "        res = -1\n",
    "        i = 0\n",
    "        while s1 and s2 and s3:\n",
    "            if s1[0] == s2[0] and s2[0] == s3[0]:\n",
    "                s1 = s1[1:]\n",
    "                s2 = s2[1:]\n",
    "                s3 = s3[1:]\n",
    "                i += 1\n",
    "            else:\n",
    "                break\n",
    "        if i > 0:\n",
    "            res = len(s1) + len(s2) + len(s3)\n",
    "        return res"
   ]
  }
 ],
 "metadata": {
  "kernelspec": {
   "display_name": "Python 3 (ipykernel)",
   "language": "python",
   "name": "python3"
  },
  "language_info": {
   "codemirror_mode": {
    "name": "ipython",
    "version": 3
   },
   "file_extension": ".py",
   "mimetype": "text/x-python",
   "name": "python",
   "nbconvert_exporter": "python",
   "pygments_lexer": "ipython3",
   "version": "3.10.9"
  }
 },
 "nbformat": 4,
 "nbformat_minor": 5
}
