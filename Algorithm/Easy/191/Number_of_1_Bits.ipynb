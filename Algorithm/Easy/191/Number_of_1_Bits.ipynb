{
 "cells": [
  {
   "cell_type": "markdown",
   "metadata": {},
   "source": [
    "# 本題要找出在2進位字串中，共有幾個是1的bit\n",
    "原題目連結：https://leetcode.com/problems/number-of-1-bits/  \n",
    "\n",
    "Write a function that takes an unsigned integer and returns the number of '1' bits it has (also known as the Hamming weight).  \n",
    "\n",
    "範例：  \n",
    "Ex1:  \n",
    "Input: n = 00000000000000000000000000001011  \n",
    "Output: 3    \n",
    "Explanation: The input binary string 00000000000000000000000000001011 has a total of three '1' bits.  \n",
    "\n",
    "Ex2:  \n",
    "Input: n = 00000000000000000000000010000000  \n",
    "Output: 1  \n",
    "Explanation: The input binary string 00000000000000000000000010000000 has a total of one '1' bit.  \n",
    "\n",
    "Ex3:  \n",
    "Input: n = 11111111111111111111111111111101  \n",
    "Output: 31  \n",
    "Explanation: The input binary string 11111111111111111111111111111101 has a total of thirty one '1' bits."
   ]
  },
  {
   "cell_type": "markdown",
   "metadata": {},
   "source": [
    "* 解題想法：  \n",
    "先找出二進位字串中共有幾個1，然後計算後就可得到答案"
   ]
  },
  {
   "cell_type": "code",
   "execution_count": null,
   "metadata": {},
   "outputs": [],
   "source": [
    "class Solution:\n",
    "    def hammingWeight(self, n: int) -> int:\n",
    "        count = 0\n",
    "        str_n = bin(n)\n",
    "        for l in range(len(str_n)):\n",
    "            if str_n[l] == '1':\n",
    "                count += 1\n",
    "        print(count)\n",
    "        return count"
   ]
  }
 ],
 "metadata": {
  "kernelspec": {
   "display_name": "Python 3",
   "language": "python",
   "name": "python3"
  },
  "language_info": {
   "codemirror_mode": {
    "name": "ipython",
    "version": 3
   },
   "file_extension": ".py",
   "mimetype": "text/x-python",
   "name": "python",
   "nbconvert_exporter": "python",
   "pygments_lexer": "ipython3",
   "version": "3.7.6"
  }
 },
 "nbformat": 4,
 "nbformat_minor": 4
}
