{
 "cells": [
  {
   "cell_type": "markdown",
   "id": "a841bf81-81b5-422c-b488-9e544589c40b",
   "metadata": {},
   "source": [
    "# 本題要建立bitwise的list (\\#Array, \\#BitManipulation )\n",
    "原題目連結: https://leetcode.com/problems/construct-the-minimum-bitwise-array-i/description/  \n",
    "\n",
    "You are given an array nums consisting of n prime integers.  \n",
    "You need to construct an array ans of length n, such that, for each index i, the bitwise OR of ans[i] and ans[i] + 1 is equal to nums[i], i.e. ans[i] OR (ans[i] + 1) == nums[i].  \n",
    "Additionally, you must minimize each value of ans[i] in the resulting array.  \n",
    "If it is not possible to find such a value for ans[i] that satisfies the condition, then set ans[i] = -1.  \n",
    "\n",
    "範例:  \n",
    "Ex1:  \n",
    "Input: nums = [2,3,5,7]  \n",
    "Output: [-1,1,4,3]  \n",
    "Explanation:  \n",
    "For i = 0, as there is no value for ans[0] that satisfies ans[0] OR (ans[0] + 1) = 2, so ans[0] = -1.  \n",
    "For i = 1, the smallest ans[1] that satisfies ans[1] OR (ans[1] + 1) = 3 is 1, because 1 OR (1 + 1) = 3.  \n",
    "For i = 2, the smallest ans[2] that satisfies ans[2] OR (ans[2] + 1) = 5 is 4, because 4 OR (4 + 1) = 5.  \n",
    "For i = 3, the smallest ans[3] that satisfies ans[3] OR (ans[3] + 1) = 7 is 3, because 3 OR (3 + 1) = 7.  \n",
    "\n",
    "Ex2:  \n",
    "Input: nums = [11,13,31]  \n",
    "Output: [9,12,15]  \n",
    "Explanation:  \n",
    "For i = 0, the smallest ans[0] that satisfies ans[0] OR (ans[0] + 1) = 11 is 9, because 9 OR (9 + 1) = 11.   \n",
    "For i = 1, the smallest ans[1] that satisfies ans[1] OR (ans[1] + 1) = 13 is 12, because 12 OR (12 + 1) = 13.  \n",
    "For i = 2, the smallest ans[2] that satisfies ans[2] OR (ans[2] + 1) = 31 is 15, because 15 OR (15 + 1) = 31.  "
   ]
  },
  {
   "cell_type": "markdown",
   "id": "7a3519a4-001e-4040-81b1-2e05dedefdb6",
   "metadata": {},
   "source": [
    "* 解題想法:  \n",
    "首先檢查該數值是否為2，如果為2則直接放入-1，接著從n/2開始逐個檢查，直到n-1時停止，如果有找到符合條件的數值則終止迴圈並將結果放入list中，最後回傳list就是答案"
   ]
  },
  {
   "cell_type": "code",
   "execution_count": null,
   "id": "a39608ac-6ed6-41a7-b37a-fbeb00fafe91",
   "metadata": {},
   "outputs": [],
   "source": [
    "class Solution:\n",
    "    def minBitwiseArray(self, nums: List[int]) -> List[int]:\n",
    "        res = []\n",
    "        for n in nums:\n",
    "            b = bin(n)[2:]\n",
    "            if n % 2 == 0:\n",
    "                res.append(-1)\n",
    "            else:\n",
    "                for i in range(n//2, n):\n",
    "                    if i | (i+1) == n:\n",
    "                        res.append(i)\n",
    "                        break\n",
    "        return res"
   ]
  }
 ],
 "metadata": {
  "kernelspec": {
   "display_name": "Python 3 (ipykernel)",
   "language": "python",
   "name": "python3"
  },
  "language_info": {
   "codemirror_mode": {
    "name": "ipython",
    "version": 3
   },
   "file_extension": ".py",
   "mimetype": "text/x-python",
   "name": "python",
   "nbconvert_exporter": "python",
   "pygments_lexer": "ipython3",
   "version": "3.9.13"
  }
 },
 "nbformat": 4,
 "nbformat_minor": 5
}
