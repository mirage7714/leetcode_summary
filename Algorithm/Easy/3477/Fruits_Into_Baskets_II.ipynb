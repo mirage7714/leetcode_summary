{
 "cells": [
  {
   "cell_type": "markdown",
   "id": "f9d64800-c8ec-4c0b-9c6a-fbaccf850a35",
   "metadata": {},
   "source": [
    "# 本題要找出共有多少水果沒辦法放入籃子內 (\\#Array )\n",
    "原題目連結: https://leetcode.com/problems/fruits-into-baskets-ii/description/  \n",
    "\n",
    "You are given two arrays of integers, fruits and baskets, each of length n, where fruits[i] represents the quantity of the ith type of fruit, and baskets[j] represents the capacity of the jth basket.  \n",
    "From left to right, place the fruits according to these rules:  \n",
    "Each fruit type must be placed in the leftmost available basket with a capacity greater than or equal to the quantity of that fruit type.  \n",
    "Each basket can hold only one type of fruit.  \n",
    "If a fruit type cannot be placed in any basket, it remains unplaced.  \n",
    "Return the number of fruit types that remain unplaced after all possible allocations are made.  \n",
    "\n",
    "範例:  \n",
    "Ex1:  \n",
    "Input: fruits = [4,2,5], baskets = [3,5,4]  \n",
    "Output: 1  \n",
    "Explanation:  \n",
    "fruits[0] = 4 is placed in baskets[1] = 5.  \n",
    "fruits[1] = 2 is placed in baskets[0] = 3.  \n",
    "fruits[2] = 5 cannot be placed in baskets[2] = 4.  \n",
    "Since one fruit type remains unplaced, we return 1.  \n",
    "\n",
    "Ex2:  \n",
    "Input: fruits = [3,6,1], baskets = [6,4,7]  \n",
    "Output: 0  \n",
    "Explanation:  \n",
    "fruits[0] = 3 is placed in baskets[0] = 6.  \n",
    "fruits[1] = 6 cannot be placed in baskets[1] = 4 (insufficient capacity) but can be placed in the next available basket, baskets[2] = 7.  \n",
    "fruits[2] = 1 is placed in baskets[1] = 4.  \n",
    "Since all fruits are successfully placed, we return 0.  "
   ]
  },
  {
   "cell_type": "markdown",
   "id": "32ea383c-59d5-445f-a000-d27a464f4d5d",
   "metadata": {},
   "source": [
    "* 解題想法:  \n",
    "首先將籃子用index與數值組成新的list後放入heap中，接著從fruit中開始進行檢查，如果籃子符合條件則中斷迴圈，如果不符合條件則繼續迴圈，直到沒有數值或是中斷迴圈為止，最後回傳剩下的籃子數就是答案"
   ]
  },
  {
   "cell_type": "code",
   "execution_count": null,
   "id": "1064d879-e0b6-425b-96ac-6ee5995d2026",
   "metadata": {},
   "outputs": [],
   "source": [
    "import heapq\n",
    "\n",
    "class Solution:\n",
    "    def numOfUnplacedFruits(self, fruits: List[int], baskets: List[int]) -> int:\n",
    "        temp = [[i, baskets[i]] for i in range(len(baskets))]\n",
    "        heapq.heapify(temp)\n",
    "        for f in fruits:\n",
    "            t = []\n",
    "            while temp:\n",
    "                n = heapq.heappop(temp)\n",
    "                if n[1] >= f:\n",
    "                    break\n",
    "                else:\n",
    "                    t.append(n)\n",
    "            for i in t:\n",
    "                heapq.heappush(temp, i)\n",
    "        return len(temp)"
   ]
  }
 ],
 "metadata": {
  "kernelspec": {
   "display_name": "Python 3 (ipykernel)",
   "language": "python",
   "name": "python3"
  },
  "language_info": {
   "codemirror_mode": {
    "name": "ipython",
    "version": 3
   },
   "file_extension": ".py",
   "mimetype": "text/x-python",
   "name": "python",
   "nbconvert_exporter": "python",
   "pygments_lexer": "ipython3",
   "version": "3.9.13"
  }
 },
 "nbformat": 4,
 "nbformat_minor": 5
}
