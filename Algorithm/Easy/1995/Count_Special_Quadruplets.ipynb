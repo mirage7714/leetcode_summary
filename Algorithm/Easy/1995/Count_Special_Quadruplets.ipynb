{
 "cells": [
  {
   "cell_type": "markdown",
   "metadata": {},
   "source": [
    "# 本題要找出指定的組合，讓前三個數值的和等於第四個數值\n",
    "原題目連結: https://leetcode.com/problems/count-special-quadruplets/  \n",
    "\n",
    "Given a 0-indexed integer array nums, return the number of distinct quadruplets (a, b, c, d) such that:  \n",
    "\n",
    "nums[a] + nums[b] + nums[c] == nums[d], and a < b < c < d  \n",
    "\n",
    "範例:  \n",
    "Ex1:  \n",
    "Input: nums = [1,2,3,6]  \n",
    "Output: 1  \n",
    "Explanation: The only quadruplet that satisfies the requirement is (0, 1, 2, 3) because 1 + 2 + 3 == 6.  \n",
    "\n",
    "Ex2:  \n",
    "Input: nums = [3,3,6,4,5]  \n",
    "Output: 0  \n",
    "Explanation: There are no such quadruplets in [3,3,6,4,5].  \n",
    "\n",
    "Ex3:  \n",
    "Input: nums = [1,1,1,3,5]  \n",
    "Output: 4  \n",
    "Explanation: The 4 quadruplets that satisfy the requirement are:  \n",
    "- (0, 1, 2, 3): 1 + 1 + 1 == 3  \n",
    "- (0, 1, 3, 4): 1 + 1 + 3 == 5  \n",
    "- (0, 2, 3, 4): 1 + 1 + 3 == 5  \n",
    "- (1, 2, 3, 4): 1 + 1 + 3 == 5  "
   ]
  },
  {
   "cell_type": "markdown",
   "metadata": {},
   "source": [
    "* 解題想法:  \n",
    "這邊採用直接的做法，就是用四個迴圈來找出數值，並且當迴圈的數值符合題目的條件時，將次數+1，最後將次數回傳就是答案"
   ]
  },
  {
   "cell_type": "code",
   "execution_count": null,
   "metadata": {},
   "outputs": [],
   "source": [
    "class Solution:\n",
    "    def countQuadruplets(self, nums: List[int]) -> int:\n",
    "        count = 0\n",
    "        s = len(nums)\n",
    "        for m in range(0, s-3):\n",
    "            for n in range(m+1, s-2):\n",
    "                for l in range(n+1, s-1):\n",
    "                    for o in range(l, s):\n",
    "                        if nums[m] + nums[n] + nums[l] == nums[o]:\n",
    "                            count += 1\n",
    "        return count"
   ]
  }
 ],
 "metadata": {
  "kernelspec": {
   "display_name": "Python 3",
   "language": "python",
   "name": "python3"
  },
  "language_info": {
   "codemirror_mode": {
    "name": "ipython",
    "version": 3
   },
   "file_extension": ".py",
   "mimetype": "text/x-python",
   "name": "python",
   "nbconvert_exporter": "python",
   "pygments_lexer": "ipython3",
   "version": "3.7.4"
  }
 },
 "nbformat": 4,
 "nbformat_minor": 4
}
