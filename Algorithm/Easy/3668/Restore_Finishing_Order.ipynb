{
 "cells": [
  {
   "cell_type": "markdown",
   "id": "b5db99d5-ac8f-424a-a30a-a53d645d0e28",
   "metadata": {},
   "source": [
    "# 本題要找出原本的順序為何 (\\#Array )\n",
    "原題目連結：https://leetcode.com/problems/restore-finishing-order/description/  \n",
    "\n",
    "You are given an integer array order of length n and an integer array friends.  \n",
    "order contains every integer from 1 to n exactly once, representing the IDs of the participants of a race in their finishing order.  \n",
    "friends contains the IDs of your friends in the race sorted in strictly increasing order. Each ID in friends is guaranteed to appear in the order array.  \n",
    "Return an array containing your friends' IDs in their finishing order.  \n",
    "\n",
    "範例：  \n",
    "Ex1:  \n",
    "Input: order = [3,1,2,5,4], friends = [1,3,4]  \n",
    "Output: [3,1,4]  \n",
    "Explanation:   \n",
    "The finishing order is [3, 1, 2, 5, 4]. Therefore, the finishing order of your friends is [3, 1, 4].  \n",
    "\n",
    "Ex2:  \n",
    "Input: order = [1,4,5,3,2], friends = [2,5]  \n",
    "Output: [5,2]  \n",
    "Explanation:  \n",
    "The finishing order is [1, 4, 5, 3, 2]. Therefore, the finishing order of your friends is [5, 2]."
   ]
  },
  {
   "cell_type": "markdown",
   "id": "ce6e7601-d2e0-4726-9b05-17066c3cd76e",
   "metadata": {},
   "source": [
    "* 解題想法：  \n",
    "從order開始檢查，如果是有出現在friends裡面的數值則放入另一個list中，最後回傳新的list就是答案"
   ]
  },
  {
   "cell_type": "code",
   "execution_count": null,
   "id": "41a1747c-4b72-4c20-b621-7148b6691d06",
   "metadata": {},
   "outputs": [],
   "source": [
    "class Solution:\n",
    "    def recoverOrder(self, order: List[int], friends: List[int]) -> List[int]:\n",
    "        res = []\n",
    "        for o in order:\n",
    "            if o in friends:\n",
    "                res.append(o)\n",
    "        return res"
   ]
  }
 ],
 "metadata": {
  "kernelspec": {
   "display_name": "Python 3 (ipykernel)",
   "language": "python",
   "name": "python3"
  },
  "language_info": {
   "codemirror_mode": {
    "name": "ipython",
    "version": 3
   },
   "file_extension": ".py",
   "mimetype": "text/x-python",
   "name": "python",
   "nbconvert_exporter": "python",
   "pygments_lexer": "ipython3",
   "version": "3.10.9"
  }
 },
 "nbformat": 4,
 "nbformat_minor": 5
}
