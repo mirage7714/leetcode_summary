{
 "cells": [
  {
   "cell_type": "markdown",
   "metadata": {},
   "source": [
    "# 本題要判斷提供的兩個array是否可以組成相同的字串\n",
    "原題目連結: https://leetcode.com/problems/check-if-two-string-arrays-are-equivalent/  \n",
    "\n",
    "Given two string arrays word1 and word2, return true if the two arrays represent the same string, and false otherwise.  \n",
    "\n",
    "A string is represented by an array if the array elements concatenated in order forms the string.  \n",
    "\n",
    "範例:  \n",
    "Ex1:  \n",
    "Input: word1 = [\"ab\", \"c\"], word2 = [\"a\", \"bc\"]  \n",
    "Output: true  \n",
    "Explanation:  \n",
    "word1 represents string \"ab\" + \"c\" -> \"abc\"  \n",
    "word2 represents string \"a\" + \"bc\" -> \"abc\"  \n",
    "The strings are the same, so return true.  \n",
    "\n",
    "Ex2:  \n",
    "Input: word1 = [\"a\", \"cb\"], word2 = [\"ab\", \"c\"]  \n",
    "Output: false  \n",
    "\n",
    "Ex3:  \n",
    "Input: word1  = [\"abc\", \"d\", \"defg\"], word2 = [\"abcddefg\"]  \n",
    "Output: true"
   ]
  },
  {
   "cell_type": "markdown",
   "metadata": {},
   "source": [
    "* 解題想法:  \n",
    "由於題目要判斷兩個list中所包含的字串是否可組成相同的字串，因此將兩個list內的字串都組成後來進行比較，如果相同的話則回傳True，否則回傳False"
   ]
  },
  {
   "cell_type": "code",
   "execution_count": null,
   "metadata": {},
   "outputs": [],
   "source": [
    "class Solution:\n",
    "    def arrayStringsAreEqual(self, word1: List[str], word2: List[str]) -> bool:\n",
    "        is_equal = False\n",
    "        temp1 = ''\n",
    "        temp2 = ''\n",
    "        for m in range(len(word1)):\n",
    "            temp1 += word1[m]\n",
    "        for n in range(len(word2)):\n",
    "            temp2 += word2[n]\n",
    "        if temp1 == temp2:\n",
    "            is_equal = True\n",
    "        return is_equal"
   ]
  }
 ],
 "metadata": {
  "kernelspec": {
   "display_name": "Python 3",
   "language": "python",
   "name": "python3"
  },
  "language_info": {
   "codemirror_mode": {
    "name": "ipython",
    "version": 3
   },
   "file_extension": ".py",
   "mimetype": "text/x-python",
   "name": "python",
   "nbconvert_exporter": "python",
   "pygments_lexer": "ipython3",
   "version": "3.7.4"
  }
 },
 "nbformat": 4,
 "nbformat_minor": 2
}
