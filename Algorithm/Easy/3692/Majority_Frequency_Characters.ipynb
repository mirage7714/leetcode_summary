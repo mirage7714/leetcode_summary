{
 "cells": [
  {
   "cell_type": "markdown",
   "id": "afea38e1-abdd-4620-a92e-0ccc80f86c63",
   "metadata": {},
   "source": [
    "# 本題要找出出現頻率最高的字母有哪些  (\\#String )\n",
    "原題目連結: https://leetcode.com/problems/majority-frequency-characters/description/?page=28  \n",
    "\n",
    "You are given a string s consisting of lowercase English letters.  \n",
    "The frequency group for a value k is the set of characters that appear exactly k times in s.  \n",
    "The majority frequency group is the frequency group that contains the largest number of distinct characters.  \n",
    "Return a string containing all characters in the majority frequency group, in any order. If two or more frequency groups tie for that largest size, pick the group whose frequency k is larger.  \n",
    "\n",
    "範例:\n",
    "Ex1:  \n",
    "Input: s = \"aaabbbccdddde\"  \n",
    "Output: \"ab\"  \n",
    "Explanation:\n",
    "\n",
    "| Frequency (k)\t| Distinct characters in group |Group size| Majority?  |\n",
    "|---|---|---|---|\n",
    "|4\t|d\t|1\t|No|\n",
    "|3\t|a, b\t|2\t|Yes|\n",
    "|2\t|c\t|1\t|No|\n",
    "|1\t|e\t|1\t|No|\n",
    "\n",
    "Both characters 'a' and 'b' share the same frequency 3, they are in the majority frequency group. \"ba\" is also a valid answer.   \n",
    "\n",
    "Ex2:  \n",
    "Input: s = \"abcd\"  \n",
    "Output: \"abcd\"  \n",
    "Explanation:  \n",
    "|Frequency (k)\t|Distinct characters in group\t|Group size\t|Majority?|\n",
    "|---|---|---|---|\n",
    "|1\t|{a, b, c, d}\t|4\t|Yes|\n",
    "\n",
    "All characters share the same frequency 1, they are all in the majority frequency group.    \n",
    "\n",
    "Ex3:　\n",
    "Input: s = \"pfpfgi\"  \n",
    "Output: \"fp\"  \n",
    "Explanation:  \n",
    "\n",
    "|Frequency (k)\t|Distinct characters in group|\tGroup size|\tMajority?|\n",
    "|---|---|---|---|\n",
    "|2\t|{p, f}|\t2\t|Yes|\n",
    "|1\t|{g, i}|\t2\t|No (tied size, lower frequency)|\n",
    "\n",
    "Both characters 'p' and 'f' share the same frequency 2, they are in the majority frequency group. There is a tie in group size with frequency 1, but we pick the higher frequency: 2."
   ]
  },
  {
   "cell_type": "markdown",
   "id": "a5b60f78-5f5c-44a0-af63-4af57dabb210",
   "metadata": {},
   "source": [
    "* 解題想法:  \n",
    "首先用dict紀錄每個字母出現的頻率，接著找出出現頻率最高的字母並組成字串後回傳就是答案"
   ]
  },
  {
   "cell_type": "code",
   "execution_count": null,
   "id": "4f27d5b2-0ce2-401b-8414-597e6f8ff645",
   "metadata": {},
   "outputs": [],
   "source": [
    "class Solution:\n",
    "    def majorityFrequencyGroup(self, s: str) -> str:\n",
    "        count = {}\n",
    "        res = ''\n",
    "        m = 0\n",
    "        for i in s:\n",
    "            if i not in count.keys():\n",
    "                count[i] = 0\n",
    "            count[i] += 1\n",
    "        values = {}\n",
    "        for k, v in count.items():\n",
    "            if v not in values.keys():\n",
    "                values[v] = []\n",
    "            values[v].append(k)\n",
    "        for k, v in values.items():\n",
    "            if len(v) > len(res):\n",
    "                res = ''.join(v)\n",
    "                m = k\n",
    "            elif len(v) == len(res) and k > m:\n",
    "                res = ''.join(v)\n",
    "                m = k\n",
    "        return res"
   ]
  }
 ],
 "metadata": {
  "kernelspec": {
   "display_name": "Python 3 (ipykernel)",
   "language": "python",
   "name": "python3"
  },
  "language_info": {
   "codemirror_mode": {
    "name": "ipython",
    "version": 3
   },
   "file_extension": ".py",
   "mimetype": "text/x-python",
   "name": "python",
   "nbconvert_exporter": "python",
   "pygments_lexer": "ipython3",
   "version": "3.12.5"
  }
 },
 "nbformat": 4,
 "nbformat_minor": 5
}
