{
 "cells": [
  {
   "cell_type": "markdown",
   "metadata": {},
   "source": [
    "# 本題要找出指定的路徑是否存在\n",
    "原題目連結: https://leetcode.com/problems/find-if-path-exists-in-graph/  \n",
    "\n",
    "There is a bi-directional graph with n vertices, where each vertex is labeled from 0 to n - 1 (inclusive). The edges in the graph are represented as a 2D integer array edges, where each edges[i] = [ui, vi] denotes a bi-directional edge between vertex ui and vertex vi. Every vertex pair is connected by at most one edge, and no vertex has an edge to itself.  \n",
    "\n",
    "You want to determine if there is a valid path that exists from vertex source to vertex destination.  \n",
    "\n",
    "Given edges and the integers n, source, and destination, return true if there is a valid path from source to destination, or false otherwise.  \n",
    "\n",
    "範例:  \n",
    "Ex1:  \n",
    "Input: n = 3, edges = [[0,1],[1,2],[2,0]], source = 0, destination = 2  \n",
    "Output: true  \n",
    "Explanation: There are two paths from vertex 0 to vertex 2:  \n",
    "- 0 → 1 → 2  \n",
    "- 0 → 2  \n",
    "\n",
    "Ex2:  \n",
    "Input: n = 6, edges = [[0,1],[0,2],[3,5],[5,4],[4,3]], source = 0, destination = 5  \n",
    "Output: false  \n",
    "Explanation: There is no path from vertex 0 to vertex 5."
   ]
  },
  {
   "cell_type": "markdown",
   "metadata": {},
   "source": [
    "* 解題想法:  \n",
    "首先將所有的路徑組合轉成一個dict，並將每個節點可以到的點放入dict中，接著建立一個dfs函數，來檢查從起點可到的每個點是否有辦法繼續往下到達終點，如果可以到達則回傳True，如果在走訪完之後都沒有辦法到達終點則回傳False"
   ]
  },
  {
   "cell_type": "code",
   "execution_count": null,
   "metadata": {},
   "outputs": [],
   "source": [
    "class Solution:\n",
    "    def validPath(self, n: int, edges: List[List[int]], start: int, end: int) -> bool:\n",
    "        graph = {}\n",
    "        for edge in edges:\n",
    "            if edge[0] not in graph.keys():\n",
    "                graph[edge[0]] = [edge[1]]\n",
    "            else:\n",
    "                graph[edge[0]].append(edge[1])\n",
    "            if edge[1] not in graph.keys():\n",
    "                graph[edge[1]] = [edge[0]]\n",
    "            else:\n",
    "                graph[edge[1]].append(edge[0])\n",
    "        def dfs(graph, source, destination, visited):\n",
    "            if source == destination:\n",
    "                return True\n",
    "            visited.add(source)\n",
    "            for g in graph[source]:\n",
    "                if g in visited:\n",
    "                    continue\n",
    "                if dfs(graph, g, destination, visited):\n",
    "                    return True\n",
    "            return False\n",
    "        visited = set()\n",
    "        return dfs(graph, start, end, visited)"
   ]
  }
 ],
 "metadata": {
  "kernelspec": {
   "display_name": "Python 3",
   "language": "python",
   "name": "python3"
  },
  "language_info": {
   "codemirror_mode": {
    "name": "ipython",
    "version": 3
   },
   "file_extension": ".py",
   "mimetype": "text/x-python",
   "name": "python",
   "nbconvert_exporter": "python",
   "pygments_lexer": "ipython3",
   "version": "3.7.4"
  }
 },
 "nbformat": 4,
 "nbformat_minor": 4
}
