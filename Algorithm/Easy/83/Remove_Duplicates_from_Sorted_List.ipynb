{
 "cells": [
  {
   "cell_type": "markdown",
   "metadata": {},
   "source": [
    "# 本題要找出數值重複的節點並移除重複的值\n",
    "原題目連結: https://leetcode.com/problems/remove-duplicates-from-sorted-list/\n",
    "\n",
    "Given the head of a sorted linked list, delete all duplicates such that each element appears only once. Return the linked list sorted as well.  \n",
    "\n",
    "範例:  \n",
    "Ex1:  \n",
    "Input: head = [1,1,2]  \n",
    "Output: [1,2]  \n",
    "\n",
    "Ex2:  \n",
    "Input: head = [1,1,2,3,3]  \n",
    "Output: [1,2,3]"
   ]
  },
  {
   "cell_type": "markdown",
   "metadata": {},
   "source": [
    "* 解題想法:  \n",
    "首先用一個list來存放LinkedList中的數值，接著逐個節點進行檢查，如果沒重複則加入list中，最後用這個list重新建立一個LinkedList"
   ]
  },
  {
   "cell_type": "code",
   "execution_count": null,
   "metadata": {},
   "outputs": [],
   "source": [
    "# Definition for singly-linked list.\n",
    "# class ListNode:\n",
    "#     def __init__(self, val=0, next=None):\n",
    "#         self.val = val\n",
    "#         self.next = next\n",
    "class Solution:\n",
    "    def deleteDuplicates(self, head: Optional[ListNode]) -> Optional[ListNode]:\n",
    "        values = []\n",
    "        nodes = []\n",
    "        if head != None:\n",
    "            while head:\n",
    "                val = head.val\n",
    "                if val not in values:\n",
    "                    values.append(val)\n",
    "                head = head.next\n",
    "            result = ListNode()\n",
    "            for m in range(len(values)-1, -1, -1):\n",
    "                node = ListNode()\n",
    "                node.val = values[m]\n",
    "                if len(nodes) > 0:\n",
    "                    node.next = nodes[-1]\n",
    "                nodes.append(node)\n",
    "            return nodes[-1]\n",
    "        else:\n",
    "            return None"
   ]
  }
 ],
 "metadata": {
  "kernelspec": {
   "display_name": "Python 3",
   "language": "python",
   "name": "python3"
  },
  "language_info": {
   "codemirror_mode": {
    "name": "ipython",
    "version": 3
   },
   "file_extension": ".py",
   "mimetype": "text/x-python",
   "name": "python",
   "nbconvert_exporter": "python",
   "pygments_lexer": "ipython3",
   "version": "3.6.4"
  }
 },
 "nbformat": 4,
 "nbformat_minor": 2
}
