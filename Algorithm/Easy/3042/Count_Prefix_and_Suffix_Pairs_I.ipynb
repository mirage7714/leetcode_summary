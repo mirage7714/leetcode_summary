{
 "cells": [
  {
   "cell_type": "markdown",
   "id": "11e762a1-408f-42fc-8261-c9d6afe2e809",
   "metadata": {},
   "source": [
    "# 本題要找出共有多少組prefix與suffix的組合 (\\#Array, \\#String )\n",
    "原題目連結：https://leetcode.com/problems/count-prefix-and-suffix-pairs-i/description/  \n",
    "\n",
    "You are given a 0-indexed string array words.  \n",
    "Let's define a boolean function isPrefixAndSuffix that takes two strings, str1 and str2:  \n",
    "isPrefixAndSuffix(str1, str2) returns true if str1 is both a prefix and a suffix of str2, and false otherwise.  \n",
    "For example, isPrefixAndSuffix(\"aba\", \"ababa\") is true because \"aba\" is a prefix of \"ababa\" and also a suffix, but isPrefixAndSuffix(\"abc\", \"abcd\") is false.  \n",
    "Return an integer denoting the number of index pairs (i, j) such that i < j, and isPrefixAndSuffix(words[i], words[j]) is true.  \n",
    "\n",
    "範例：  \n",
    "Ex1:  \n",
    "Input: words = [\"a\",\"aba\",\"ababa\",\"aa\"]  \n",
    "Output: 4  \n",
    "Explanation: In this example, the counted index pairs are:  \n",
    "i = 0 and j = 1 because isPrefixAndSuffix(\"a\", \"aba\") is true.  \n",
    "i = 0 and j = 2 because isPrefixAndSuffix(\"a\", \"ababa\") is true.  \n",
    "i = 0 and j = 3 because isPrefixAndSuffix(\"a\", \"aa\") is true.  \n",
    "i = 1 and j = 2 because isPrefixAndSuffix(\"aba\", \"ababa\") is true.  \n",
    "Therefore, the answer is 4.  \n",
    "\n",
    "Ex2:  \n",
    "Input: words = [\"pa\",\"papa\",\"ma\",\"mama\"]  \n",
    "Output: 2  \n",
    "Explanation: In this example, the counted index pairs are:  \n",
    "i = 0 and j = 1 because isPrefixAndSuffix(\"pa\", \"papa\") is true.  \n",
    "i = 2 and j = 3 because isPrefixAndSuffix(\"ma\", \"mama\") is true.  \n",
    "Therefore, the answer is 2.   \n",
    "\n",
    "Ex3:  \n",
    "Input: words = [\"abab\",\"ab\"]  \n",
    "Output: 0  \n",
    "Explanation: In this example, the only valid index pair is i = 0 and j = 1, and isPrefixAndSuffix(\"abab\", \"ab\") is false.  \n",
    "Therefore, the answer is 0."
   ]
  },
  {
   "cell_type": "markdown",
   "id": "d31f64b1-50b2-49f3-8ab9-6b3344e17a92",
   "metadata": {},
   "source": [
    "* 解題想法：  \n",
    "用兩個迴圈開始檢查第一個字串是否為第二個字串的字首與字尾，如果是則將結果＋1，最後回傳結果"
   ]
  },
  {
   "cell_type": "code",
   "execution_count": null,
   "id": "8a91069a-e73b-49dc-94ef-88f870695e8b",
   "metadata": {},
   "outputs": [],
   "source": [
    "class Solution:\n",
    "    def countPrefixSuffixPairs(self, words: List[str]) -> int:\n",
    "        res = 0\n",
    "        for i in range(len(words)-1):\n",
    "            w1 = words[i]\n",
    "            for j in range(i+1, len(words)):\n",
    "                w2 = words[j]\n",
    "                if w2.startswith(w1) and w2[len(w2) - len(w1):] == w1:\n",
    "                    res += 1\n",
    "        return res"
   ]
  }
 ],
 "metadata": {
  "kernelspec": {
   "display_name": "Python 3 (ipykernel)",
   "language": "python",
   "name": "python3"
  },
  "language_info": {
   "codemirror_mode": {
    "name": "ipython",
    "version": 3
   },
   "file_extension": ".py",
   "mimetype": "text/x-python",
   "name": "python",
   "nbconvert_exporter": "python",
   "pygments_lexer": "ipython3",
   "version": "3.10.9"
  }
 },
 "nbformat": 4,
 "nbformat_minor": 5
}
