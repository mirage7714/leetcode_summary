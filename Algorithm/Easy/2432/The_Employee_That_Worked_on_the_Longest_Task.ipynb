{
 "cells": [
  {
   "cell_type": "markdown",
   "metadata": {},
   "source": [
    "# 本題要找出哪個員工的工作時間最長 (\\#Array)\n",
    "原題目連結: https://leetcode.com/problems/the-employee-that-worked-on-the-longest-task/  \n",
    "\n",
    "There are n employees, each with a unique id from 0 to n - 1.  \n",
    "\n",
    "You are given a 2D integer array logs where logs[i] = [idi, leaveTimei] where:  \n",
    "\n",
    "idi is the id of the employee that worked on the ith task, and  \n",
    "leaveTimei is the time at which the employee finished the ith task. All the values leaveTimei are unique.  \n",
    "Note that the ith task starts the moment right after the (i - 1)th task ends, and the 0th task starts at time 0.  \n",
    "\n",
    "Return the id of the employee that worked the task with the longest time. If there is a tie between two or more employees, return the smallest id among them.  \n",
    "\n",
    "範例:  \n",
    "Ex1:  \n",
    "Input: n = 10, logs = [[0,3],[2,5],[0,9],[1,15]]  \n",
    "Output: 1  \n",
    "Explanation:   \n",
    "Task 0 started at 0 and ended at 3 with 3 units of times.  \n",
    "Task 1 started at 3 and ended at 5 with 2 units of times.  \n",
    "Task 2 started at 5 and ended at 9 with 4 units of times.  \n",
    "Task 3 started at 9 and ended at 15 with 6 units of times.  \n",
    "The task with the longest time is task 3 and the employee with id 1 is the one that worked on it, so we return 1.  \n",
    "\n",
    "Ex2:  \n",
    "Input: n = 26, logs = [[1,1],[3,7],[2,12],[7,17]]  \n",
    "Output: 3  \n",
    "Explanation:   \n",
    "Task 0 started at 0 and ended at 1 with 1 unit of times.  \n",
    "Task 1 started at 1 and ended at 7 with 6 units of times.  \n",
    "Task 2 started at 7 and ended at 12 with 5 units of times.  \n",
    "Task 3 started at 12 and ended at 17 with 5 units of times.  \n",
    "The tasks with the longest time is task 1. The employees that worked on it is 3, so we return 3.  \n",
    "\n",
    "Ex3:  \n",
    "Input: n = 2, logs = [[0,10],[1,20]]  \n",
    "Output: 0  \n",
    "Explanation:   \n",
    "Task 0 started at 0 and ended at 10 with 10 units of times.  \n",
    "Task 1 started at 10 and ended at 20 with 10 units of times.  \n",
    "The tasks with the longest time are tasks 0 and 1. The employees that worked on them are 0 and 1, so we return the smallest id 0."
   ]
  },
  {
   "cell_type": "markdown",
   "metadata": {},
   "source": [
    "* 解題想法:  \n",
    "首先用第一個log的工作時間以及員工編號作為基準，接著開始比對後面的log工作時間是否有超過前一個紀錄，如果有責更新最長的工作時間以及員工編號，最後回傳員工編號"
   ]
  },
  {
   "cell_type": "code",
   "execution_count": null,
   "metadata": {},
   "outputs": [],
   "source": [
    "class Solution:\n",
    "    def hardestWorker(self, n: int, logs: List[List[int]]) -> int:\n",
    "        t = logs[0][1] - 0\n",
    "        i = logs[0][0]\n",
    "        prev = logs[0][1]\n",
    "        for l in range(1, len(logs)):\n",
    "            d = logs[l][1] - prev\n",
    "            if t <= d:\n",
    "                i = logs[l][0] if t < d else min(logs[l][0], i)\n",
    "                t = d\n",
    "            prev = logs[l][1]\n",
    "        return i"
   ]
  }
 ],
 "metadata": {
  "kernelspec": {
   "display_name": "Python 3",
   "language": "python",
   "name": "python3"
  },
  "language_info": {
   "codemirror_mode": {
    "name": "ipython",
    "version": 3
   },
   "file_extension": ".py",
   "mimetype": "text/x-python",
   "name": "python",
   "nbconvert_exporter": "python",
   "pygments_lexer": "ipython3",
   "version": "3.7.4"
  }
 },
 "nbformat": 4,
 "nbformat_minor": 4
}
