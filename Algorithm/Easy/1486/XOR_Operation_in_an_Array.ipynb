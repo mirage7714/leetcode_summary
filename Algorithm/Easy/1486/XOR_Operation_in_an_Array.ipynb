{
 "cells": [
  {
   "cell_type": "markdown",
   "metadata": {},
   "source": [
    "# 本題要找出對於array中的元素進行XOR操作，並回傳最後的結果\n",
    "原題目連結: https://leetcode.com/problems/xor-operation-in-an-array/  \n",
    "\n",
    "Given an integer n and an integer start.  \n",
    "\n",
    "Define an array nums where nums[i] = start + 2*i (0-indexed) and n == nums.length.  \n",
    "\n",
    "Return the bitwise XOR of all elements of nums.  \n",
    "\n",
    "範例:  \n",
    "Ex1:  \n",
    "Input: n = 5, start = 0  \n",
    "Output: 8  \n",
    "Explanation: Array nums is equal to [0, 2, 4, 6, 8] where (0 ^ 2 ^ 4 ^ 6 ^ 8) = 8.  \n",
    "Where \"^\" corresponds to bitwise XOR operator.  \n",
    "\n",
    "Ex2:  \n",
    "Input: n = 4, start = 3  \n",
    "Output: 8  \n",
    "Explanation: Array nums is equal to [3, 5, 7, 9] where (3 ^ 5 ^ 7 ^ 9) = 8.  \n",
    "\n",
    "Ex3:  \n",
    "Input: n = 1, start = 7  \n",
    "Output: 7  \n",
    "\n",
    "Ex4:  \n",
    "Input: n = 10, start = 5  \n",
    "Output: 2"
   ]
  },
  {
   "cell_type": "markdown",
   "metadata": {},
   "source": [
    "* 解題想法:  \n",
    "依照題目要求，是要產出一個list，並對list內的數字進行XOR操作，並回傳最後的結果  \n",
    "不過實際上為了加快速度，可以藉由題目提供的n來進行一個迴圈，並對每次產出的數字進行XOR，就可以得到最後的結果"
   ]
  },
  {
   "cell_type": "code",
   "execution_count": null,
   "metadata": {},
   "outputs": [],
   "source": [
    "class Solution:\n",
    "    def xorOperation(self, n: int, start: int) -> int:\n",
    "        result = 0\n",
    "        for m in range(n):\n",
    "            num = start + 2 * m \n",
    "            result = result ^ num\n",
    "        return result"
   ]
  }
 ],
 "metadata": {
  "kernelspec": {
   "display_name": "Python 3",
   "language": "python",
   "name": "python3"
  },
  "language_info": {
   "codemirror_mode": {
    "name": "ipython",
    "version": 3
   },
   "file_extension": ".py",
   "mimetype": "text/x-python",
   "name": "python",
   "nbconvert_exporter": "python",
   "pygments_lexer": "ipython3",
   "version": "3.7.4"
  }
 },
 "nbformat": 4,
 "nbformat_minor": 2
}
