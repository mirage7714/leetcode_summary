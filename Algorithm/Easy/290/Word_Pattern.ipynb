{
 "cells": [
  {
   "cell_type": "markdown",
   "metadata": {},
   "source": [
    "# 此題主要是分析Pattern與字串中包含的字是否符合\n",
    "原題目連結: https://leetcode.com/problems/word-pattern/  \n",
    "\n",
    "範例:  \n",
    "Ex1:  \n",
    "Input: pattern = \"abba\", s = \"dog cat cat dog\"  \n",
    "Output: true  \n",
    "\n",
    "Ex2:  \n",
    "Input: pattern = \"abba\", s = \"dog cat cat fish\"  \n",
    "Output: false  \n",
    "\n",
    "Ex3:  \n",
    "Input: pattern = \"aaaa\", s = \"dog cat cat dog\"  \n",
    "Output: false  \n",
    "\n",
    "Ex4:  \n",
    "Input: pattern = \"abba\", s = \"dog dog dog dog\"  \n",
    "Output: false"
   ]
  },
  {
   "cell_type": "markdown",
   "metadata": {},
   "source": [
    "* 解題想法:  \n",
    "在字串中可能會包含了多個不同的字，因此需要藉由判斷pattern是否與字符合  \n",
    "例如範例一中，a可對應為dog，而b可對應為cat，因此為true"
   ]
  },
  {
   "cell_type": "code",
   "execution_count": null,
   "metadata": {},
   "outputs": [],
   "source": [
    "class Solution:\n",
    "    def wordPattern(self, pattern: str, s: str) -> bool:\n",
    "        is_match = True\n",
    "        words = {}\n",
    "        if len(pattern) != len(s.split(' ')):\n",
    "            is_match = False\n",
    "        else: \n",
    "            for n in range(len(pattern)):\n",
    "                word = s.split(' ')[n]\n",
    "                key = pattern[n]\n",
    "                if key in words.keys(): \n",
    "                    if words[key] != word:\n",
    "                        is_match = False\n",
    "                        break\n",
    "                else:\n",
    "                    if word in words.values():\n",
    "                        is_match = False\n",
    "                        break\n",
    "                    else:\n",
    "                        words[key] = word\n",
    "        return is_match"
   ]
  }
 ],
 "metadata": {
  "kernelspec": {
   "display_name": "Python 3",
   "language": "python",
   "name": "python3"
  },
  "language_info": {
   "codemirror_mode": {
    "name": "ipython",
    "version": 3
   },
   "file_extension": ".py",
   "mimetype": "text/x-python",
   "name": "python",
   "nbconvert_exporter": "python",
   "pygments_lexer": "ipython3",
   "version": "3.7.4"
  }
 },
 "nbformat": 4,
 "nbformat_minor": 2
}
