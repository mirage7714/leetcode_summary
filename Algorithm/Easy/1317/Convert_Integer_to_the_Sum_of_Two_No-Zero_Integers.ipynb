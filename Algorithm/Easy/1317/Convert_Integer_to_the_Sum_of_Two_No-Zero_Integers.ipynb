{
 "cells": [
  {
   "cell_type": "markdown",
   "metadata": {},
   "source": [
    "# 本題要找出兩個不含零的整數，並使兩數合等於n\n",
    "原題目連結：https://leetcode.com/problems/convert-integer-to-the-sum-of-two-no-zero-integers/  \n",
    "\n",
    "範例：  \n",
    "Ex1:  \n",
    "Input: n = 2  \n",
    "Output: [1,1]  \n",
    "Explanation: A = 1, B = 1. A + B = n and both A and B don't contain any 0 in their decimal representation.  \n",
    "\n",
    "Ex2:  \n",
    "Input: n = 11  \n",
    "Output: [2,9]  \n",
    "\n",
    "Ex3:  \n",
    "Input: n = 10000  \n",
    "Output: [1,9999]  \n",
    "\n",
    "Ex4:  \n",
    "Input: n = 69  \n",
    "Output: [1,68]  \n",
    "\n",
    "Ex5:  \n",
    "Input: n = 1010  \n",
    "Output: [11,999]  "
   ]
  },
  {
   "cell_type": "markdown",
   "metadata": {},
   "source": [
    "* 解題想法：  \n",
    "原本以為只是單純找出兩個數字，加起來等於n就好。後來發現題目要求的是兩個數中都不能含有0  \n",
    "因此使用一個for loop，如果當其中有一個數字含有0，就往下繼續跑，直到找到符合條件為止"
   ]
  },
  {
   "cell_type": "code",
   "execution_count": null,
   "metadata": {},
   "outputs": [],
   "source": [
    "class Solution:\n",
    "    def getNoZeroIntegers(self, n: int) -> List[int]:\n",
    "        result = []\n",
    "        while True:\n",
    "            for a in range(1,n, 1):\n",
    "                b = n -a\n",
    "                if '0' not in str(a) and '0' not in str(b):\n",
    "                    result.append(a)\n",
    "                    result.append(b)\n",
    "                    break\n",
    "            if len(result) > 0:\n",
    "                break\n",
    "        return result"
   ]
  }
 ],
 "metadata": {
  "kernelspec": {
   "display_name": "Python 3",
   "language": "python",
   "name": "python3"
  },
  "language_info": {
   "codemirror_mode": {
    "name": "ipython",
    "version": 3
   },
   "file_extension": ".py",
   "mimetype": "text/x-python",
   "name": "python",
   "nbconvert_exporter": "python",
   "pygments_lexer": "ipython3",
   "version": "3.8.3"
  }
 },
 "nbformat": 4,
 "nbformat_minor": 4
}
