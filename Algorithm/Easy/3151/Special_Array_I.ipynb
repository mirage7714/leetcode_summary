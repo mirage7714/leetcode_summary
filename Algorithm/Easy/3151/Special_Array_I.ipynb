{
 "cells": [
  {
   "cell_type": "markdown",
   "id": "499d7bb2-4627-4bdb-b9c0-d93a06cd7dfb",
   "metadata": {},
   "source": [
    "# 本題要判斷list中的所有數值是否為奇偶數交錯 (\\#Array )\n",
    "原題目連結: https://leetcode.com/problems/special-array-i/description/  \n",
    "\n",
    "An array is considered special if every pair of its adjacent elements contains two numbers with different parity.  \n",
    "You are given an array of integers nums. Return true if nums is a special array, otherwise, return false.  \n",
    "\n",
    "範例:  \n",
    "Ex1:  \n",
    "Input: nums = [1]  \n",
    "Output: true  \n",
    "Explanation:  \n",
    "There is only one element. So the answer is true.  \n",
    "\n",
    "Ex2:  \n",
    "Input: nums = [2,1,4]  \n",
    "Output: true  \n",
    "Explanation:  \n",
    "There is only two pairs: (2,1) and (1,4), and both of them contain numbers with different parity. So the answer is true.  \n",
    "\n",
    "Ex3:  \n",
    "Input: nums = [4,3,1,6]  \n",
    "Output: false  \n",
    "Explanation:  \n",
    "nums[1] and nums[2] are both odd. So the answer is false."
   ]
  },
  {
   "cell_type": "markdown",
   "id": "0f514eb7-0a5a-4590-93f7-983d05e8ab8f",
   "metadata": {},
   "source": [
    "* 解題想法:  \n",
    "逐個檢查相鄰兩個數值是否同樣為奇數或是偶數，如果有出現這種情況則回傳False，否則最後回傳True"
   ]
  },
  {
   "cell_type": "code",
   "execution_count": null,
   "id": "a77aa885-e177-45b6-ba26-71eb463add91",
   "metadata": {},
   "outputs": [],
   "source": [
    "class Solution:\n",
    "    def isArraySpecial(self, nums: List[int]) -> bool:\n",
    "        for i in range(len(nums)-1):\n",
    "            if nums[i] % 2 == nums[i+1] % 2 :\n",
    "                return False\n",
    "        return True"
   ]
  }
 ],
 "metadata": {
  "kernelspec": {
   "display_name": "Python 3 (ipykernel)",
   "language": "python",
   "name": "python3"
  },
  "language_info": {
   "codemirror_mode": {
    "name": "ipython",
    "version": 3
   },
   "file_extension": ".py",
   "mimetype": "text/x-python",
   "name": "python",
   "nbconvert_exporter": "python",
   "pygments_lexer": "ipython3",
   "version": "3.9.13"
  }
 },
 "nbformat": 4,
 "nbformat_minor": 5
}
