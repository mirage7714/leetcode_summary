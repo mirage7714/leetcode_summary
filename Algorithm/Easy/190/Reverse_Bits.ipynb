{
 "cells": [
  {
   "cell_type": "markdown",
   "metadata": {},
   "source": [
    "# 本題要找出將32位元整數用2進位後倒轉順序的整數\n",
    "原題目連結：https://leetcode.com/problems/reverse-bits/  \n",
    "\n",
    "Reverse bits of a given 32 bits unsigned integer.  \n",
    "\n",
    "範例：  \n",
    "Ex1:  \n",
    "Input: n = 00000010100101000001111010011100  \n",
    "Output:    964176192 (00111001011110000010100101000000)  \n",
    "Explanation: The input binary string 00000010100101000001111010011100 represents the unsigned integer 43261596, so return 964176192 which its binary representation is 00111001011110000010100101000000.  \n",
    "\n",
    "Ex2:  \n",
    "Input: n = 11111111111111111111111111111101  \n",
    "Output:   3221225471 (10111111111111111111111111111111)  \n",
    "Explanation: The input binary string 11111111111111111111111111111101 represents the unsigned integer 4294967293, so return 3221225471 which its binary representation is 10111111111111111111111111111111.  "
   ]
  },
  {
   "cell_type": "markdown",
   "metadata": {},
   "source": [
    "* 解題想法：  \n",
    "因為要找出32位元整數轉為2進位後，在找出補數後轉回整數，因此先將題目提供的整數轉換為2進位的字串後，再將字串倒轉，最後轉換為整數回傳"
   ]
  },
  {
   "cell_type": "code",
   "execution_count": null,
   "metadata": {},
   "outputs": [],
   "source": [
    "class Solution:\n",
    "    def reverseBits(self, n: int) -> int:\n",
    "        str_n = bin(n)[2:]\n",
    "        while len(str_n) < 32:\n",
    "            str_n = '0'+str_n\n",
    "        reverse = ''\n",
    "        print(str_n)\n",
    "        for m in range(len(str_n)-1, -1, -1):\n",
    "            reverse += str_n[m]\n",
    "        \n",
    "        return int(reverse,2)"
   ]
  }
 ],
 "metadata": {
  "kernelspec": {
   "display_name": "Python 3",
   "language": "python",
   "name": "python3"
  },
  "language_info": {
   "codemirror_mode": {
    "name": "ipython",
    "version": 3
   },
   "file_extension": ".py",
   "mimetype": "text/x-python",
   "name": "python",
   "nbconvert_exporter": "python",
   "pygments_lexer": "ipython3",
   "version": "3.7.6"
  }
 },
 "nbformat": 4,
 "nbformat_minor": 4
}
