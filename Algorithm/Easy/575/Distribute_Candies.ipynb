{
 "cells": [
  {
   "cell_type": "markdown",
   "metadata": {},
   "source": [
    "# 本題要找出再把糖果分給兩個人的情況下，一個人最多可以拿到幾個類別的糖果\n",
    "原題目連結: https://leetcode.com/problems/distribute-candies/  \n",
    "\n",
    "Alice has n candies, where the ith candy is of type candyType[i]. Alice noticed that she started to gain weight, so she visited a doctor.  \n",
    "\n",
    "The doctor advised Alice to only eat n / 2 of the candies she has (n is always even). Alice likes her candies very much, and she wants to eat the maximum number of different types of candies while still following the doctor's advice.  \n",
    "\n",
    "Given the integer array candyType of length n, return the maximum number of different types of candies she can eat if she only eats n / 2 of them.  \n",
    "\n",
    "範例:  \n",
    "Ex1:  \n",
    "Input: candyType = [1,1,2,2,3,3]  \n",
    "Output: 3  \n",
    "Explanation: Alice can only eat 6 / 2 = 3 candies. Since there are only 3 types, she can eat one of each type.  \n",
    "\n",
    "Ex2:  \n",
    "Input: candyType = [1,1,2,3]  \n",
    "Output: 2  \n",
    "Explanation: Alice can only eat 4 / 2 = 2 candies. Whether she eats types [1,2], [1,3], or [2,3], she still can only eat 2 different types.  \n",
    "\n",
    "Ex3:  \n",
    "Input: candyType = [6,6,6,6]  \n",
    "Output: 1  \n",
    "Explanation: Alice can only eat 4 / 2 = 2 candies. Even though she can eat 2 candies, she only has 1 type."
   ]
  },
  {
   "cell_type": "markdown",
   "metadata": {},
   "source": [
    "* 解題想法:  \n",
    "由於題目要找出最多可以得到幾個類別的糖果，因此用一個迴圈來判斷在這個迴圈中共有幾種類別的糖果，並將每個類別加入一個list中，假如迴圈結束後仍沒超過原始list長度的一半，代表拿到的糖果應該會有重複的情況，而如果在迴圈還沒結束的情況就超過總長的一半，則中斷迴圈"
   ]
  },
  {
   "cell_type": "code",
   "execution_count": null,
   "metadata": {},
   "outputs": [],
   "source": [
    "class Solution:\n",
    "    def distributeCandies(self, candyType: List[int]) -> int:\n",
    "        category = []\n",
    "        total = 0\n",
    "        for candy in candyType:\n",
    "            if candy not in category:\n",
    "                category.append(candy)\n",
    "                total += 1\n",
    "            if total >= int(len(candyType)/2):\n",
    "                break\n",
    "        return len(category)"
   ]
  }
 ],
 "metadata": {
  "kernelspec": {
   "display_name": "Python 3",
   "language": "python",
   "name": "python3"
  },
  "language_info": {
   "codemirror_mode": {
    "name": "ipython",
    "version": 3
   },
   "file_extension": ".py",
   "mimetype": "text/x-python",
   "name": "python",
   "nbconvert_exporter": "python",
   "pygments_lexer": "ipython3",
   "version": "3.7.6"
  }
 },
 "nbformat": 4,
 "nbformat_minor": 4
}
