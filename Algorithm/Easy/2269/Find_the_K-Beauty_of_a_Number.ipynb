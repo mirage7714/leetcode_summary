{
 "cells": [
  {
   "cell_type": "markdown",
   "metadata": {},
   "source": [
    "# 本題要找出共有幾個原數字的因數\n",
    "原題目連結: https://leetcode.com/problems/find-the-k-beauty-of-a-number/  \n",
    "\n",
    "The k-beauty of an integer num is defined as the number of substrings of num when it is read as a string that meet the following conditions:  \n",
    "\n",
    "It has a length of k.  \n",
    "It is a divisor of num.  \n",
    "Given integers num and k, return the k-beauty of num.  \n",
    "\n",
    "Note:  \n",
    "Leading zeros are allowed.  \n",
    "0 is not a divisor of any value.  \n",
    "A substring is a contiguous sequence of characters in a string.  \n",
    "\n",
    "範例:  \n",
    "Ex1:  \n",
    "Input: num = 240, k = 2  \n",
    "Output: 2  \n",
    "Explanation: The following are the substrings of num of length k:  \n",
    "- \"24\" from \"240\": 24 is a divisor of 240.  \n",
    "- \"40\" from \"240\": 40 is a divisor of 240.  \n",
    "Therefore, the k-beauty is 2.  \n",
    "\n",
    "Ex2:  \n",
    "Input: num = 430043, k = 2  \n",
    "Output: 2  \n",
    "Explanation: The following are the substrings of num of length k:  \n",
    "- \"43\" from \"430043\": 43 is a divisor of 430043.  \n",
    "- \"30\" from \"430043\": 30 is not a divisor of 430043.  \n",
    "- \"00\" from \"430043\": 0 is not a divisor of 430043.  \n",
    "- \"04\" from \"430043\": 4 is not a divisor of 430043.  \n",
    "- \"43\" from \"430043\": 43 is a divisor of 430043.  \n",
    "Therefore, the k-beauty is 2."
   ]
  },
  {
   "cell_type": "markdown",
   "metadata": {},
   "source": [
    "* 解題想法:  \n",
    "首先找出子字串，並將字串轉換為整數後確認是否為原數的因數，並用一個dict來做暫存，首先檢查此數是否有在暫存中，如果有的話則直接調用暫存中的結果，否則檢查此數是否為因數並將結果放入暫存中，最後回傳結果"
   ]
  },
  {
   "cell_type": "code",
   "execution_count": null,
   "metadata": {},
   "outputs": [],
   "source": [
    "class Solution:\n",
    "    def divisorSubstrings(self, num: int, k: int) -> int:\n",
    "        result = 0\n",
    "        temp = {}\n",
    "        s_num = str(num)\n",
    "        for n in range(len(s_num) - k+1):\n",
    "            p = s_num[n:n+k]\n",
    "            if p not in temp.keys():\n",
    "                if int(p) != 0:\n",
    "                    if num % int(p) == 0:\n",
    "                        result += 1\n",
    "                        temp[p] = 1\n",
    "                    else:\n",
    "                        temp[p] = 0\n",
    "                else:\n",
    "                    temp[p] = 0\n",
    "            else:\n",
    "                result += temp[p]\n",
    "        return result"
   ]
  }
 ],
 "metadata": {
  "kernelspec": {
   "display_name": "Python 3",
   "language": "python",
   "name": "python3"
  },
  "language_info": {
   "codemirror_mode": {
    "name": "ipython",
    "version": 3
   },
   "file_extension": ".py",
   "mimetype": "text/x-python",
   "name": "python",
   "nbconvert_exporter": "python",
   "pygments_lexer": "ipython3",
   "version": "3.7.4"
  }
 },
 "nbformat": 4,
 "nbformat_minor": 4
}
