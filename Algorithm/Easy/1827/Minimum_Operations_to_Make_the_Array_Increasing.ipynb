{
 "cells": [
  {
   "cell_type": "markdown",
   "metadata": {},
   "source": [
    "# 本題要算出最少要增加多少，才能讓array變成嚴格遞增\n",
    "原題目連結: https://leetcode.com/problems/minimum-operations-to-make-the-array-increasing/  \n",
    "\n",
    "You are given an integer array nums (0-indexed). In one operation, you can choose an element of the array and increment it by 1.  \n",
    "\n",
    "For example, if nums = [1,2,3], you can choose to increment nums[1] to make nums = [1,3,3].  \n",
    "Return the minimum number of operations needed to make nums strictly increasing.  \n",
    "\n",
    "An array nums is strictly increasing if nums[i] < nums[i+1] for all 0 <= i < nums.length - 1. An array of length 1 is trivially strictly increasing.  \n",
    "\n",
    "範例:  \n",
    "Ex1:  \n",
    "Input: nums = [1,1,1]  \n",
    "Output: 3  \n",
    "Explanation: You can do the following operations:  \n",
    "1) Increment nums[2], so nums becomes [1,1,2].  \n",
    "2) Increment nums[1], so nums becomes [1,2,2].  \n",
    "3) Increment nums[2], so nums becomes [1,2,3].  \n",
    "\n",
    "Ex2:  \n",
    "Input: nums = [1,5,2,4,1]  \n",
    "Output: 14  \n",
    "\n",
    "Ex3:  \n",
    "Input: nums = [8]  \n",
    "Output: 0"
   ]
  },
  {
   "cell_type": "markdown",
   "metadata": {},
   "source": [
    "* 解題想法:  \n",
    "題目要求，每次至少增加一，讓整個list變成是嚴格遞增的情況，因此首先使用了一個變數來統計總共需要增加的值，並用另一個變數來記錄前一個值最後遞增的結果，並用一個迴圈來確認每個數字與變數的大小  \n",
    "- 如果迴圈數字沒有大於變數的話，則計算最小需要增加的值，並將變數更新為這個新的數字  \n",
    "- 如果迴圈數字大於變數的話，則只需要更新變數  \n",
    "最後回傳統計的變數，就是題目求的答案"
   ]
  },
  {
   "cell_type": "code",
   "execution_count": null,
   "metadata": {},
   "outputs": [],
   "source": [
    "class Solution:\n",
    "    def minOperations(self, nums: List[int]) -> int:\n",
    "        count = 0\n",
    "        temp = nums[0]\n",
    "        if len(nums) > 1:\n",
    "            for n in range(1, len(nums)):\n",
    "                if nums[n] <= temp:\n",
    "                    diff = temp - nums[n] + 1\n",
    "                    count += diff\n",
    "                    temp = nums[n] + diff\n",
    "                else:\n",
    "                    temp = nums[n]\n",
    "        return count"
   ]
  }
 ],
 "metadata": {
  "kernelspec": {
   "display_name": "Python 3",
   "language": "python",
   "name": "python3"
  },
  "language_info": {
   "codemirror_mode": {
    "name": "ipython",
    "version": 3
   },
   "file_extension": ".py",
   "mimetype": "text/x-python",
   "name": "python",
   "nbconvert_exporter": "python",
   "pygments_lexer": "ipython3",
   "version": "3.7.4"
  }
 },
 "nbformat": 4,
 "nbformat_minor": 2
}
