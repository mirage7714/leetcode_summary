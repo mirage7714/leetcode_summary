{
 "cells": [
  {
   "cell_type": "markdown",
   "metadata": {},
   "source": [
    "# 本題要找出最後剩下的array長度為何\n",
    "原題目連結: https://leetcode.com/problems/number-of-students-unable-to-eat-lunch/  \n",
    "\n",
    "The school cafeteria offers circular and square sandwiches at lunch break, referred to by numbers 0 and 1 respectively. All students stand in a queue. Each student either prefers square or circular sandwiches.  \n",
    "\n",
    "The number of sandwiches in the cafeteria is equal to the number of students. The sandwiches are placed in a stack. At each step:  \n",
    "\n",
    "If the student at the front of the queue prefers the sandwich on the top of the stack, they will take it and leave the queue.\n",
    "Otherwise, they will leave it and go to the queue's end.  \n",
    "This continues until none of the queue students want to take the top sandwich and are thus unable to eat.  \n",
    "\n",
    "You are given two integer arrays students and sandwiches where sandwiches[i] is the type of the i​​​​​​th sandwich in the stack (i = 0 is the top of the stack) and students[j] is the preference of the j​​​​​​th student in the initial queue (j = 0 is the front of the queue). Return the number of students that are unable to eat.  \n",
    "\n",
    "範例:  \n",
    "Ex1:  \n",
    "Input: students = [1,1,0,0], sandwiches = [0,1,0,1]  \n",
    "Output: 0   \n",
    "Explanation:  \n",
    "- Front student leaves the top sandwich and returns to the end of the line making students = [1,0,0,1].  \n",
    "- Front student leaves the top sandwich and returns to the end of the line making students = [0,0,1,1].  \n",
    "- Front student takes the top sandwich and leaves the line making students = [0,1,1] and sandwiches = [1,0,1].  \n",
    "- Front student leaves the top sandwich and returns to the end of the line making students = [1,1,0].  \n",
    "- Front student takes the top sandwich and leaves the line making students = [1,0] and sandwiches = [0,1].  \n",
    "- Front student leaves the top sandwich and returns to the end of the line making students = [0,1].  \n",
    "- Front student takes the top sandwich and leaves the line making students = [1] and sandwiches = [1].  \n",
    "- Front student takes the top sandwich and leaves the line making students = [] and sandwiches = [].  \n",
    "Hence all students are able to eat.  \n",
    "\n",
    "Ex2:  \n",
    "Input: students = [1,1,1,0,0,1], sandwiches = [1,0,0,0,1,1]  \n",
    "Output: 3"
   ]
  },
  {
   "cell_type": "markdown",
   "metadata": {},
   "source": [
    "* 解題想法:  \n",
    "依據題目要求，只有在students[0]與sandwiches[0]相同的時候才能將兩個值都刪除，否則就是將students[0]排到list的最後面  \n",
    "因此中斷迴圈的條件有兩個:當學生數為0或是當sandwiches[0]的值不存在於students中時  \n",
    "最後將students的長度回傳就是題目求的答案"
   ]
  },
  {
   "cell_type": "code",
   "execution_count": null,
   "metadata": {},
   "outputs": [],
   "source": [
    "class Solution:\n",
    "    def countStudents(self, students: List[int], sandwiches: List[int]) -> int:\n",
    "        result = []\n",
    "        while True:\n",
    "            if students[0] == sandwiches[0]:\n",
    "                students.pop(0)\n",
    "                sandwiches.pop(0)\n",
    "            else:\n",
    "                students.append(students[0])\n",
    "                students.pop(0)\n",
    "            if len(students) == 0:\n",
    "                break\n",
    "            elif sandwiches[0] not in students:\n",
    "                break\n",
    "        return len(students)"
   ]
  }
 ],
 "metadata": {
  "kernelspec": {
   "display_name": "Python 3",
   "language": "python",
   "name": "python3"
  },
  "language_info": {
   "codemirror_mode": {
    "name": "ipython",
    "version": 3
   },
   "file_extension": ".py",
   "mimetype": "text/x-python",
   "name": "python",
   "nbconvert_exporter": "python",
   "pygments_lexer": "ipython3",
   "version": "3.7.4"
  }
 },
 "nbformat": 4,
 "nbformat_minor": 2
}
