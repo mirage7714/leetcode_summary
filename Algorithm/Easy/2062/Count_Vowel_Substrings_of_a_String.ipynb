{
 "cells": [
  {
   "cell_type": "markdown",
   "id": "5b8cbc00-f6d6-471d-8268-b2042d023739",
   "metadata": {},
   "source": [
    "# 本題要找出含有五個母音的字串共有幾種 (\\#String, \\#Hashmap)\n",
    "原題目連結: https://leetcode.com/problems/count-vowel-substrings-of-a-string/description/  \n",
    "\n",
    "A substring is a contiguous (non-empty) sequence of characters within a string.  \n",
    "A vowel substring is a substring that only consists of vowels ('a', 'e', 'i', 'o', and 'u') and has all five vowels present in it.  \n",
    "Given a string word, return the number of vowel substrings in word.  \n",
    "\n",
    "範例:  \n",
    "Ex1:  \n",
    "Input: word = \"aeiouu\"  \n",
    "Output: 2  \n",
    "Explanation: The vowel substrings of word are as follows (underlined):  \n",
    "- \"aeiouu\"  \n",
    "- \"aeiouu\"  \n",
    "\n",
    "Ex2:  \n",
    "Input: word = \"unicornarihan\"  \n",
    "Output: 0  \n",
    "Explanation: Not all 5 vowels are present, so there are no vowel substrings.  \n",
    "\n",
    "Ex3:  \n",
    "Input: word = \"cuaieuouac\"  \n",
    "Output: 7  \n",
    "Explanation: The vowel substrings of word are as follows (underlined):  \n",
    "- \"cuaieuouac\"  \n",
    "- \"cuaieuouac\"  \n",
    "- \"cuaieuouac\"  \n",
    "- \"cuaieuouac\"  \n",
    "- \"cuaieuouac\"  \n",
    "- \"cuaieuouac\"  \n",
    "- \"cuaieuouac\"  "
   ]
  },
  {
   "cell_type": "markdown",
   "id": "e93bd41d-dba3-4263-a50e-3e767d92cabe",
   "metadata": {},
   "source": [
    "* 解題想法:  \n",
    "首先找出全部都為母音的字串，接著從頭開始計算是否有每個母音都出現，如果有的時候則數值+1，最後回傳總數值就是答案"
   ]
  },
  {
   "cell_type": "code",
   "execution_count": null,
   "id": "c6cf7702-a9e5-46f3-832d-0ed474e1db31",
   "metadata": {},
   "outputs": [],
   "source": [
    "class Solution:\n",
    "    def countVowelSubstrings(self, word: str) -> int:\n",
    "        def checkWord(word):\n",
    "            count = {}\n",
    "            res = 0\n",
    "            for i in range(len(word)-4): \n",
    "                for j in range(i, len(word)):\n",
    "                    if word[j] not in count.keys():\n",
    "                        count[word[j]] = 1\n",
    "                    else:\n",
    "                        count[word[j]] += 1\n",
    "                    if len(count.keys()) == 5:\n",
    "                        res += 1\n",
    "                count.clear()\n",
    "            return res\n",
    "\n",
    "        res = 0\n",
    "        vowels = ['a','e','i','o','u']\n",
    "        temp = ''\n",
    "        for i in range(len(word)):\n",
    "            w = word[i]\n",
    "            if w in vowels:\n",
    "                temp += w\n",
    "            else:\n",
    "                if len(temp) >= 5:\n",
    "                    res += checkWord(temp)\n",
    "                temp = ''\n",
    "        if len(temp) >= 5:\n",
    "            res += checkWord(temp)\n",
    "        return res"
   ]
  }
 ],
 "metadata": {
  "kernelspec": {
   "display_name": "Python 3 (ipykernel)",
   "language": "python",
   "name": "python3"
  },
  "language_info": {
   "codemirror_mode": {
    "name": "ipython",
    "version": 3
   },
   "file_extension": ".py",
   "mimetype": "text/x-python",
   "name": "python",
   "nbconvert_exporter": "python",
   "pygments_lexer": "ipython3",
   "version": "3.9.13"
  }
 },
 "nbformat": 4,
 "nbformat_minor": 5
}
