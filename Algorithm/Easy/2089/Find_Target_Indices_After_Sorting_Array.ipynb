{
 "cells": [
  {
   "cell_type": "markdown",
   "metadata": {},
   "source": [
    "# 本題要找出指定的值所在的index值為何\n",
    "原題目連結: https://leetcode.com/problems/find-target-indices-after-sorting-array/  \n",
    "\n",
    "You are given a 0-indexed integer array nums and a target element target.  \n",
    "\n",
    "A target index is an index i such that nums[i] == target.  \n",
    "\n",
    "Return a list of the target indices of nums after sorting nums in non-decreasing order. If there are no target indices, return an empty list. The returned list must be sorted in increasing order.  \n",
    "\n",
    "範例:  \n",
    "Ex1:  \n",
    "Input: nums = [1,2,5,2,3], target = 2  \n",
    "Output: [1,2]  \n",
    "Explanation: After sorting, nums is [1,2,2,3,5].  \n",
    "The indices where nums[i] == 2 are 1 and 2.  \n",
    "\n",
    "Ex2:  \n",
    "Input: nums = [1,2,5,2,3], target = 3  \n",
    "Output: [3]  \n",
    "Explanation: After sorting, nums is [1,2,2,3,5].  \n",
    "The index where nums[i] == 3 is 3.  \n",
    "\n",
    "Ex3:  \n",
    "Input: nums = [1,2,5,2,3], target = 5  \n",
    "Output: [4]  \n",
    "Explanation: After sorting, nums is [1,2,2,3,5].  \n",
    "The index where nums[i] == 5 is 4.  \n",
    "\n",
    "Ex4:  \n",
    "Input: nums = [1,2,5,2,3], target = 4  \n",
    "Output: []  \n",
    "Explanation: There are no elements in nums with value 4."
   ]
  },
  {
   "cell_type": "markdown",
   "metadata": {},
   "source": [
    "* 解題想法:  \n",
    "首先將題目的list進行排序後，開始找出每個數值出現的index，接著檢查指定的值是否有出現過，如果有出現則回傳index，否則回傳空list"
   ]
  },
  {
   "cell_type": "code",
   "execution_count": null,
   "metadata": {},
   "outputs": [],
   "source": [
    "class Solution:\n",
    "    def targetIndices(self, nums: List[int], target: int) -> List[int]:\n",
    "        freq = {}\n",
    "        result = []\n",
    "        nums.sort()\n",
    "        for n in range(len(nums)):\n",
    "            if nums[n] not in freq.keys():\n",
    "                freq[nums[n]] = [n]\n",
    "            else:\n",
    "                freq[nums[n]].append(n)\n",
    "        if target in freq.keys():\n",
    "            result = freq[target]\n",
    "        return result"
   ]
  }
 ],
 "metadata": {
  "kernelspec": {
   "display_name": "Python 3",
   "language": "python",
   "name": "python3"
  },
  "language_info": {
   "codemirror_mode": {
    "name": "ipython",
    "version": 3
   },
   "file_extension": ".py",
   "mimetype": "text/x-python",
   "name": "python",
   "nbconvert_exporter": "python",
   "pygments_lexer": "ipython3",
   "version": "3.7.4"
  }
 },
 "nbformat": 4,
 "nbformat_minor": 4
}
