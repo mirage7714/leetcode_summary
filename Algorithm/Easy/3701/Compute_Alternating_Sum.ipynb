{
 "cells": [
  {
   "cell_type": "markdown",
   "id": "f5c4f88c-21a7-4373-88bf-dae42de8e068",
   "metadata": {},
   "source": [
    "# 本題要計算alternative sum是多少 (\\#Array )\n",
    "原題目連結: https://leetcode.com/problems/compute-alternating-sum/description/?page=28  \n",
    "\n",
    "You are given an integer array nums.  \n",
    "The alternating sum of nums is the value obtained by adding elements at even indices and subtracting elements at odd indices. That is, nums[0] - nums[1] + nums[2] - nums[3]...  \n",
    "Return an integer denoting the alternating sum of nums.  \n",
    "\n",
    "範例:  \n",
    "Ex1:  \n",
    "Input: nums = [1,3,5,7]  \n",
    "Output: -4  \n",
    "Explanation:  \n",
    "Elements at even indices are nums[0] = 1 and nums[2] = 5 because 0 and 2 are even numbers.  \n",
    "Elements at odd indices are nums[1] = 3 and nums[3] = 7 because 1 and 3 are odd numbers.  \n",
    "The alternating sum is nums[0] - nums[1] + nums[2] - nums[3] = 1 - 3 + 5 - 7 = -4.  \n",
    "\n",
    "Ex2:  \n",
    "Input: nums = [100]  \n",
    "Output: 100  \n",
    "Explanation:  \n",
    "The only element at even indices is nums[0] = 100 because 0 is an even number.  \n",
    "There are no elements on odd indices.  \n",
    "The alternating sum is nums[0] = 100.  "
   ]
  },
  {
   "cell_type": "markdown",
   "id": "c27cadc1-0dd8-4eb4-a243-b688ac696e81",
   "metadata": {},
   "source": [
    "* 解題想法:  \n",
    "用迴圈判斷目前的index是奇數還是偶數，如果是奇數則減去該數，如果是偶數則加上該數，最後回傳總和就是答案"
   ]
  },
  {
   "cell_type": "code",
   "execution_count": null,
   "id": "68fc2ee7-98ee-4633-96d4-4fee83a0bb4e",
   "metadata": {},
   "outputs": [],
   "source": [
    "class Solution:\n",
    "    def alternatingSum(self, nums: List[int]) -> int:\n",
    "        res = 0\n",
    "        for i in range(len(nums)):\n",
    "            if i % 2 == 0:\n",
    "                res += nums[i]\n",
    "            else:\n",
    "                res -= nums[i]\n",
    "        return res"
   ]
  }
 ],
 "metadata": {
  "kernelspec": {
   "display_name": "Python 3 (ipykernel)",
   "language": "python",
   "name": "python3"
  },
  "language_info": {
   "codemirror_mode": {
    "name": "ipython",
    "version": 3
   },
   "file_extension": ".py",
   "mimetype": "text/x-python",
   "name": "python",
   "nbconvert_exporter": "python",
   "pygments_lexer": "ipython3",
   "version": "3.12.5"
  }
 },
 "nbformat": 4,
 "nbformat_minor": 5
}
