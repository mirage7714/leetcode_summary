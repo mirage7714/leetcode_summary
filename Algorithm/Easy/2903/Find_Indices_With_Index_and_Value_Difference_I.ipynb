{
 "cells": [
  {
   "cell_type": "markdown",
   "id": "0b348c27-a9ef-4874-885e-631f668e8049",
   "metadata": {},
   "source": [
    "# 本題要找出符合條件的index組合為何 (\\#Array )\n",
    "原題目連結：https://leetcode.com/problems/find-indices-with-index-and-value-difference-i/description/  \n",
    "\n",
    "You are given a 0-indexed integer array nums having length n, an integer indexDifference, and an integer valueDifference.  \n",
    "Your task is to find two indices i and j, both in the range [0, n - 1], that satisfy the following conditions:  \n",
    "\n",
    "abs(i - j) >= indexDifference, and  \n",
    "abs(nums[i] - nums[j]) >= valueDifference  \n",
    "Return an integer array answer, where answer = [i, j] if there are two such indices, and answer = [-1, -1] otherwise. If there are multiple choices for the two indices, return any of them.  \n",
    "\n",
    "Note: i and j may be equal.  \n",
    "\n",
    "範例：  \n",
    "Ex1:  \n",
    "Input: nums = [5,1,4,1], indexDifference = 2, valueDifference = 4  \n",
    "Output: [0,3]  \n",
    "Explanation: In this example, i = 0 and j = 3 can be selected.  \n",
    "abs(0 - 3) >= 2 and abs(nums[0] - nums[3]) >= 4.  \n",
    "Hence, a valid answer is [0,3].  \n",
    "[3,0] is also a valid answer.  \n",
    "\n",
    "Ex2:  \n",
    "Input: nums = [2,1], indexDifference = 0, valueDifference = 0  \n",
    "Output: [0,0]  \n",
    "Explanation: In this example, i = 0 and j = 0 can be selected.  \n",
    "abs(0 - 0) >= 0 and abs(nums[0] - nums[0]) >= 0.  \n",
    "Hence, a valid answer is [0,0].  \n",
    "Other valid answers are [0,1], [1,0], and [1,1].  \n",
    "\n",
    "Ex3:  \n",
    "Input: nums = [1,2,3], indexDifference = 2, valueDifference = 4  \n",
    "Output: [-1,-1]  \n",
    "Explanation: In this example, it can be shown that it is impossible to find two indices that satisfy both conditions.  \n",
    "Hence, [-1,-1] is returned."
   ]
  },
  {
   "cell_type": "markdown",
   "id": "c34052b1-df16-4374-8ef8-df6f8f49d9f3",
   "metadata": {},
   "source": [
    "* 解題想法：  \n",
    "首先建立一個list做為答案．接著用迴圈開始進行檢查，如果當兩個index符合條件且數值差距也符合條件，則將結果更新到list中，並中斷迴圈並回傳結果"
   ]
  },
  {
   "cell_type": "code",
   "execution_count": null,
   "id": "0054bff2-c09b-47f9-b782-e27ae2f8c1e7",
   "metadata": {},
   "outputs": [],
   "source": [
    "class Solution:\n",
    "    def findIndices(self, nums: List[int], indexDifference: int, valueDifference: int) -> List[int]:\n",
    "        res = [-1,-1]\n",
    "        for i in range(0, len(nums) - indexDifference):\n",
    "            for j in range(i+indexDifference, len(nums)):\n",
    "                if abs(nums[i] - nums[j]) >= valueDifference:\n",
    "                    res[0] = i\n",
    "                    res[1] = j\n",
    "                    break\n",
    "        return res"
   ]
  }
 ],
 "metadata": {
  "kernelspec": {
   "display_name": "Python 3 (ipykernel)",
   "language": "python",
   "name": "python3"
  },
  "language_info": {
   "codemirror_mode": {
    "name": "ipython",
    "version": 3
   },
   "file_extension": ".py",
   "mimetype": "text/x-python",
   "name": "python",
   "nbconvert_exporter": "python",
   "pygments_lexer": "ipython3",
   "version": "3.10.9"
  }
 },
 "nbformat": 4,
 "nbformat_minor": 5
}
