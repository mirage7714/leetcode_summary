{
 "cells": [
  {
   "cell_type": "markdown",
   "metadata": {},
   "source": [
    "# 本題要找出將10進位轉換為7進位的實做\n",
    "原題目連結：https://leetcode.com/problems/base-7/  \n",
    "\n",
    "Given an integer, return its base 7 string representation.  \n",
    "\n",
    "範例：  \n",
    "Ex1:  \n",
    "Input: 100  \n",
    "Output: \"202\"  \n",
    "\n",
    "Ex2:  \n",
    "Input: -7  \n",
    "Output: \"-10\""
   ]
  },
  {
   "cell_type": "markdown",
   "metadata": {},
   "source": [
    "* 解題想法：  \n",
    "要進行轉換就是使用長除法進行處理，將餘數找出後，將數值減去餘數後除7就是新的數字 \n",
    "循環到剩餘數小於或等於0就結束了"
   ]
  },
  {
   "cell_type": "code",
   "execution_count": null,
   "metadata": {},
   "outputs": [],
   "source": [
    "class Solution:\n",
    "    def convertToBase7(self, num: int) -> str:\n",
    "        result = ''\n",
    "        is_minus = True if num < 0 else False\n",
    "        num = abs(num)\n",
    "        while True:          \n",
    "            left = num % 7\n",
    "            num = int((num-left)/7)\n",
    "            result = str(left) + result\n",
    "            if num <= 0:\n",
    "                break\n",
    "        if is_minus:\n",
    "            result = '-'+result\n",
    "\n",
    "        return result"
   ]
  }
 ],
 "metadata": {
  "kernelspec": {
   "display_name": "Python 3",
   "language": "python",
   "name": "python3"
  },
  "language_info": {
   "codemirror_mode": {
    "name": "ipython",
    "version": 3
   },
   "file_extension": ".py",
   "mimetype": "text/x-python",
   "name": "python",
   "nbconvert_exporter": "python",
   "pygments_lexer": "ipython3",
   "version": "3.8.3"
  }
 },
 "nbformat": 4,
 "nbformat_minor": 4
}
