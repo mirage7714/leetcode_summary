{
 "cells": [
  {
   "cell_type": "markdown",
   "id": "27d0fb16-64ef-4c39-826e-3a75b9f592af",
   "metadata": {},
   "source": [
    "# 本題要找出不重複的k個數值最大總和為多少 (\\#Array ) \n",
    "原題目連結：https://leetcode.com/problems/maximize-sum-of-at-most-k-distinct-elements/description/  \n",
    "\n",
    "You are given a positive integer array nums and an integer k.  \n",
    "Choose at most k elements from nums so that their sum is maximized. However, the chosen numbers must be distinct.  \n",
    "Return an array containing the chosen numbers in strictly descending order.  \n",
    "\n",
    "範例：  \n",
    "Ex1:  \n",
    "Input: nums = [84,93,100,77,90], k = 3  \n",
    "Output: [100,93,90]  \n",
    "Explanation:  \n",
    "The maximum sum is 283, which is attained by choosing 93, 100 and 90. We rearrange them in strictly descending order as [100, 93, 90].   \n",
    "\n",
    "Ex2:  \n",
    "Input: nums = [84,93,100,77,93], k = 3  \n",
    "Output: [100,93,84]  \n",
    "Explanation:  \n",
    "The maximum sum is 277, which is attained by choosing 84, 93 and 100. We rearrange them in strictly descending order as [100, 93, 84]. We cannot choose 93, 100 and 93 because the chosen numbers must be distinct.  \n",
    " \n",
    "Ex3:  \n",
    "Input: nums = [1,1,1,2,2,2], k = 6  \n",
    "Output: [2,1]  \n",
    "Explanation:  \n",
    "The maximum sum is 3, which is attained by choosing 1 and 2. We rearrange them in strictly descending order as [2, 1]."
   ]
  },
  {
   "cell_type": "markdown",
   "id": "9cabb3d3-ce3e-4fdc-aa12-cee3d43cb4a9",
   "metadata": {},
   "source": [
    "* 解題想法：  \n",
    "先將list進行排序後，逐個取出檢查有沒有重複，如果不重複則加到一個list中，最後回傳新的list就是答案"
   ]
  },
  {
   "cell_type": "code",
   "execution_count": null,
   "id": "991a1726-af2f-4684-ae78-c24871937fab",
   "metadata": {},
   "outputs": [],
   "source": [
    "class Solution:\n",
    "    def maxKDistinct(self, nums: List[int], k: int) -> List[int]:\n",
    "        res = []\n",
    "        nums.sort()\n",
    "        while len(res) < k and nums:\n",
    "            n = nums.pop()\n",
    "            if n not in res:\n",
    "                res.append(n)\n",
    "        return res"
   ]
  }
 ],
 "metadata": {
  "kernelspec": {
   "display_name": "Python 3 (ipykernel)",
   "language": "python",
   "name": "python3"
  },
  "language_info": {
   "codemirror_mode": {
    "name": "ipython",
    "version": 3
   },
   "file_extension": ".py",
   "mimetype": "text/x-python",
   "name": "python",
   "nbconvert_exporter": "python",
   "pygments_lexer": "ipython3",
   "version": "3.10.9"
  }
 },
 "nbformat": 4,
 "nbformat_minor": 5
}
