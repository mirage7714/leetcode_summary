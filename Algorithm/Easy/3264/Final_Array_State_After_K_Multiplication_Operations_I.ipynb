{
 "cells": [
  {
   "cell_type": "markdown",
   "id": "f6651ce4-f3a0-4fc6-8ee2-a806de84b607",
   "metadata": {},
   "source": [
    "# 本題要算出K次操作之後的list為何 (\\#Array, \\#Heap )\n",
    "原題目連結: https://leetcode.com/problems/final-array-state-after-k-multiplication-operations-i/description/  \n",
    "\n",
    "You are given an integer array nums, an integer k, and an integer multiplier.  \n",
    "You need to perform k operations on nums. In each operation:  \n",
    "Find the minimum value x in nums. If there are multiple occurrences of the minimum value, select the one that appears first.  \n",
    "Replace the selected minimum value x with x * multiplier.  \n",
    "Return an integer array denoting the final state of nums after performing all k operations.  \n",
    "\n",
    "範例:  \n",
    "Ex1:  \n",
    "Input: nums = [2,1,3,5,6], k = 5, multiplier = 2  \n",
    "Output: [8,4,6,5,6]  \n",
    "\n",
    "Ex2:  \n",
    "Input: nums = [1,2], k = 3, multiplier = 4  \n",
    "Output: [16,8]  "
   ]
  },
  {
   "cell_type": "markdown",
   "id": "02cd0a0c-c128-49d7-b957-402250590937",
   "metadata": {},
   "source": [
    "*　解題想法:  \n",
    "首先將list轉成heap後，找出最小的數值乘上multiplier後在放回heap中，最後回傳更新後的list就是答案"
   ]
  },
  {
   "cell_type": "code",
   "execution_count": null,
   "id": "33da840d-4d94-42a8-b85c-2578bceb271d",
   "metadata": {},
   "outputs": [],
   "source": [
    "import heapq\n",
    "\n",
    "class Solution:\n",
    "    def getFinalState(self, nums: List[int], k: int, multiplier: int) -> List[int]:\n",
    "        temp = []\n",
    "        res = [0 for i in nums]\n",
    "        heapq.heapify(temp)\n",
    "        for i in range(len(nums)):\n",
    "            heapq.heappush(temp, [nums[i],i])\n",
    "        for _ in range(k):\n",
    "            n = heapq.heappop(temp)\n",
    "            n[0] = n[0] * multiplier \n",
    "            heapq.heappush(temp, n)\n",
    "        while temp:\n",
    "            n = heapq.heappop(temp)\n",
    "            res[n[1]] = n[0]\n",
    "        return res"
   ]
  }
 ],
 "metadata": {
  "kernelspec": {
   "display_name": "Python 3 (ipykernel)",
   "language": "python",
   "name": "python3"
  },
  "language_info": {
   "codemirror_mode": {
    "name": "ipython",
    "version": 3
   },
   "file_extension": ".py",
   "mimetype": "text/x-python",
   "name": "python",
   "nbconvert_exporter": "python",
   "pygments_lexer": "ipython3",
   "version": "3.9.13"
  }
 },
 "nbformat": 4,
 "nbformat_minor": 5
}
