{
 "cells": [
  {
   "cell_type": "markdown",
   "metadata": {},
   "source": [
    "# 本題要找出所有節點左右分枝差值的總和\n",
    "原題目連結: https://leetcode.com/problems/binary-tree-tilt/  \n",
    "\n",
    "Given the root of a binary tree, return the sum of every tree node's tilt.  \n",
    "\n",
    "The tilt of a tree node is the absolute difference between the sum of all left subtree node values and all right subtree node values. If a node does not have a left child, then the sum of the left subtree node values is treated as 0. The rule is similar if the node does not have a right child.  \n",
    "\n",
    "範例:  \n",
    "Ex1:  \n",
    "Input: root = [1,2,3]  \n",
    "Output: 1  \n",
    "Explanation:   \n",
    "Tilt of node 2 : |0-0| = 0 (no children)  \n",
    "Tilt of node 3 : |0-0| = 0 (no children)  \n",
    "Tilt of node 1 : |2-3| = 1 (left subtree is just left child, so sum is 2; right subtree is just right child, so sum is 3)  \n",
    "Sum of every tilt : 0 + 0 + 1 = 1  \n",
    "\n",
    "Ex2:  \n",
    "Input: root = [4,2,9,3,5,null,7]  \n",
    "Output: 15  \n",
    "Explanation:   \n",
    "Tilt of node 3 : |0-0| = 0 (no children)  \n",
    "Tilt of node 5 : |0-0| = 0 (no children)  \n",
    "Tilt of node 7 : |0-0| = 0 (no children)  \n",
    "Tilt of node 2 : |3-5| = 2 (left subtree is just left child, so sum is 3; right subtree is just right child, so sum is 5)  \n",
    "Tilt of node 9 : |0-7| = 7 (no left child, so sum is 0; right subtree is just right child, so sum is 7)  \n",
    "Tilt of node 4 : |(3+5+2)-(9+7)| = |10-16| = 6 (left subtree values are 3, 5, and 2, which sums to 10; right subtree values are 9 and 7, which sums to 16)   \n",
    "Sum of every tilt : 0 + 0 + 0 + 2 + 7 + 6 = 15   \n",
    "\n",
    "Ex3:  \n",
    "Input: root = [21,7,14,1,1,2,2,3,3]  \n",
    "Output: 9"
   ]
  },
  {
   "cell_type": "markdown",
   "metadata": {},
   "source": [
    "* 解題想法:  \n",
    "首先建立一個函數用來計算每個結點的左右節點差值為何，並將值更新到總和中，最後回傳總和為多少"
   ]
  },
  {
   "cell_type": "code",
   "execution_count": null,
   "metadata": {},
   "outputs": [],
   "source": [
    "# Definition for a binary tree node.\n",
    "# class TreeNode:\n",
    "#     def __init__(self, val=0, left=None, right=None):\n",
    "#         self.val = val\n",
    "#         self.left = left\n",
    "#         self.right = right\n",
    "class Solution:\n",
    "    def findTilt(self, root: TreeNode) -> int:\n",
    "        def dfs(node, res):\n",
    "            if not node:\n",
    "                return 0\n",
    "            left = dfs(node.left, res)\n",
    "            right = dfs(node.right, res)\n",
    "            res[0] += abs(left - right)\n",
    "            return left + right + node.val\n",
    "        res = [0]\n",
    "        if root:\n",
    "            dfs(root, res)\n",
    "        return res[0]"
   ]
  }
 ],
 "metadata": {
  "kernelspec": {
   "display_name": "Python 3",
   "language": "python",
   "name": "python3"
  },
  "language_info": {
   "codemirror_mode": {
    "name": "ipython",
    "version": 3
   },
   "file_extension": ".py",
   "mimetype": "text/x-python",
   "name": "python",
   "nbconvert_exporter": "python",
   "pygments_lexer": "ipython3",
   "version": "3.7.4"
  }
 },
 "nbformat": 4,
 "nbformat_minor": 4
}
