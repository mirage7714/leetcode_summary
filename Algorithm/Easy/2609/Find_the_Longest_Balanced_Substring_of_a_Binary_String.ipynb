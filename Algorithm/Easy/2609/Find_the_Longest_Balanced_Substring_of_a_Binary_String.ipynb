{
 "cells": [
  {
   "cell_type": "markdown",
   "metadata": {},
   "source": [
    "# 本題要找出最長的balanced string長度為多少 (\\#String)\n",
    "原題目連結: https://leetcode.com/problems/find-the-longest-balanced-substring-of-a-binary-string/description/  \n",
    "\n",
    "You are given a binary string s consisting only of zeroes and ones.  \n",
    "\n",
    "A substring of s is considered balanced if all zeroes are before ones and the number of zeroes is equal to the number of ones inside the substring. Notice that the empty substring is considered a balanced substring.  \n",
    "\n",
    "Return the length of the longest balanced substring of s.   \n",
    "A substring is a contiguous sequence of characters within a string.  \n",
    "\n",
    "範例:  \n",
    "Ex1:  \n",
    "Input: s = \"01000111\"  \n",
    "Output: 6  \n",
    "Explanation: The longest balanced substring is \"000111\", which has length 6.  \n",
    "\n",
    "Ex2:   \n",
    "Input: s = \"00111\"  \n",
    "Output: 4  \n",
    "Explanation: The longest balanced substring is \"0011\", which has length 4.   \n",
    "\n",
    "Ex3:  \n",
    "Input: s = \"111\"  \n",
    "Output: 0  \n",
    "Explanation: There is no balanced substring except the empty substring, so the answer is 0."
   ]
  },
  {
   "cell_type": "markdown",
   "metadata": {},
   "source": [
    "* 解題想法:  \n",
    "首先用一個數值紀錄目前最長的字串為多少，以及目前暫存有多少，另外還需要記錄前一個相同字串的長度為多少，接著開始檢查是否為相同的字串，如果是相同的則將暫存+1，直到出現與前面不相同的字串時則檢查是否符合題目的定義，如果符合則算出長度並更新字串長度的數值，最後回傳字串長度"
   ]
  },
  {
   "cell_type": "code",
   "execution_count": null,
   "metadata": {},
   "outputs": [],
   "source": [
    "class Solution:\n",
    "    def findTheLongestBalancedSubstring(self, s: str) -> int:\n",
    "        res = 0\n",
    "        temp = 1\n",
    "        prev = 0\n",
    "        c = s[0]\n",
    "        if '0' and '1' in s:\n",
    "            for m in range(1, len(s)):\n",
    "                if s[m] == c:\n",
    "                    temp += 1\n",
    "                else:\n",
    "                    if prev > 0 and c == '1':\n",
    "                        res = max(2 * min(prev, temp), res)\n",
    "                    prev = temp\n",
    "                    temp = 1\n",
    "                    c = s[m]\n",
    "            if prev > 0 and c == '1':\n",
    "                res = max(res, 2 * min(prev, temp))\n",
    "        return res"
   ]
  }
 ],
 "metadata": {
  "kernelspec": {
   "display_name": "Python 3",
   "language": "python",
   "name": "python3"
  },
  "language_info": {
   "codemirror_mode": {
    "name": "ipython",
    "version": 3
   },
   "file_extension": ".py",
   "mimetype": "text/x-python",
   "name": "python",
   "nbconvert_exporter": "python",
   "pygments_lexer": "ipython3",
   "version": "3.7.6"
  }
 },
 "nbformat": 4,
 "nbformat_minor": 4
}
