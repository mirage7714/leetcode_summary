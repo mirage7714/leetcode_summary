{
 "cells": [
  {
   "cell_type": "markdown",
   "metadata": {},
   "source": [
    "# 本題要判斷字串中所有的字母出現頻率是否相同\n",
    "原題目連結: https://leetcode.com/problems/check-if-all-characters-have-equal-number-of-occurrences/  \n",
    "\n",
    "Given a string s, return true if s is a good string, or false otherwise.  \n",
    "\n",
    "A string s is good if all the characters that appear in s have the same number of occurrences (i.e., the same frequency). \n",
    "\n",
    "範例:  \n",
    "Ex1:  \n",
    "Input: s = \"abacbc\"  \n",
    "Output: true  \n",
    "Explanation: The characters that appear in s are 'a', 'b', and 'c'. All characters occur 2 times in s.  \n",
    "\n",
    "Ex2:  \n",
    "Input: s = \"aaabb\"  \n",
    "Output: false  \n",
    "Explanation: The characters that appear in s are 'a' and 'b'.  \n",
    "'a' occurs 3 times while 'b' occurs 2 times, which is not the same number of times."
   ]
  },
  {
   "cell_type": "markdown",
   "metadata": {},
   "source": [
    "* 解題想法:  \n",
    "利用一個dict來統計每個字母出現過的次數，接著比較value中是否有出現不一樣的值，如果都相同則回傳True，否則回傳False"
   ]
  },
  {
   "cell_type": "code",
   "execution_count": null,
   "metadata": {},
   "outputs": [],
   "source": [
    "class Solution:\n",
    "    def areOccurrencesEqual(self, s: str) -> bool:\n",
    "        freq = {}\n",
    "        result = True\n",
    "        for n in s:\n",
    "            if n not in freq.keys():\n",
    "                freq[n] = 1\n",
    "            else:\n",
    "                freq[n] += 1\n",
    "        vals = list(freq.values())\n",
    "        if min(vals) != max(vals):\n",
    "            result = False\n",
    "        return result"
   ]
  }
 ],
 "metadata": {
  "kernelspec": {
   "display_name": "Python 3",
   "language": "python",
   "name": "python3"
  },
  "language_info": {
   "codemirror_mode": {
    "name": "ipython",
    "version": 3
   },
   "file_extension": ".py",
   "mimetype": "text/x-python",
   "name": "python",
   "nbconvert_exporter": "python",
   "pygments_lexer": "ipython3",
   "version": "3.7.4"
  }
 },
 "nbformat": 4,
 "nbformat_minor": 2
}
