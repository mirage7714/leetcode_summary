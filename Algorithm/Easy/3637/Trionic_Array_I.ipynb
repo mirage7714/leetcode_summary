{
 "cells": [
  {
   "cell_type": "markdown",
   "id": "d35c5744-855d-4df0-9ca2-80b23e572bf9",
   "metadata": {},
   "source": [
    "# 本題要找出array是否有符合指定的條件 (\\#Array )\n",
    "原題目連結: https://leetcode.com/problems/trionic-array-i/description/  \n",
    "\n",
    "You are given an integer array nums of length n.  \n",
    "An array is trionic if there exist indices 0 < p < q < n − 1 such that:  \n",
    "nums[0...p] is strictly increasing,  \n",
    "nums[p...q] is strictly decreasing,  \n",
    "nums[q...n − 1] is strictly increasing.  \n",
    "Return true if nums is trionic, otherwise return false.  \n",
    "\n",
    "範例:  \n",
    "Ex1:  \n",
    "Input: nums = [1,3,5,4,2,6]  \n",
    "Output: true  \n",
    "Explanation:  \n",
    "Pick p = 2, q = 4:  \n",
    "nums[0...2] = [1, 3, 5] is strictly increasing (1 < 3 < 5).  \n",
    "nums[2...4] = [5, 4, 2] is strictly decreasing (5 > 4 > 2).  \n",
    "nums[4...5] = [2, 6] is strictly increasing (2 < 6).  \n",
    "\n",
    "Ex2:  \n",
    "Input: nums = [2,1,3]  \n",
    "Output: false  \n",
    "Explanation:  \n",
    "There is no way to pick p and q to form the required three segments."
   ]
  },
  {
   "cell_type": "markdown",
   "id": "9ac5bc47-b06e-4491-9e38-f5bc200754a7",
   "metadata": {},
   "source": [
    "* 解題想法:  \n",
    "首先找出array中數字的增減並放入一個list中，最後判斷list中變化的次數是否符合要求，如果不符合則回傳False，否則回傳True"
   ]
  },
  {
   "cell_type": "code",
   "execution_count": null,
   "id": "987958ee-175e-4e82-891b-b3e7fdc7cd02",
   "metadata": {},
   "outputs": [],
   "source": [
    "class Solution:\n",
    "    def isTrionic(self, nums: List[int]) -> bool:\n",
    "        stack = []\n",
    "        temp = []\n",
    "        is_increased = nums[0] < nums[1]\n",
    "        for n in nums:\n",
    "            if temp:\n",
    "                if temp[-1] > n and is_increased:\n",
    "                    temp.append(n)\n",
    "                elif temp[-1] < n and not is_increased:\n",
    "                    temp.append(n)\n",
    "                elif temp[-1] == n:\n",
    "                    return False\n",
    "                else:\n",
    "                    stack.append(is_increased)\n",
    "                    temp.clear()\n",
    "                    is_increased = not is_increased\n",
    "            temp.append(n)\n",
    "        if len(stack) != 3:\n",
    "            return False\n",
    "        elif stack[0] != True or stack[1] != False or stack[2] != True:\n",
    "            return False\n",
    "        return True"
   ]
  }
 ],
 "metadata": {
  "kernelspec": {
   "display_name": "Python 3 (ipykernel)",
   "language": "python",
   "name": "python3"
  },
  "language_info": {
   "codemirror_mode": {
    "name": "ipython",
    "version": 3
   },
   "file_extension": ".py",
   "mimetype": "text/x-python",
   "name": "python",
   "nbconvert_exporter": "python",
   "pygments_lexer": "ipython3",
   "version": "3.9.13"
  }
 },
 "nbformat": 4,
 "nbformat_minor": 5
}
