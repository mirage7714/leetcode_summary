{
 "cells": [
  {
   "cell_type": "markdown",
   "metadata": {},
   "source": [
    "# 本題要找出每一列中最大數值的總合為多少 (\\#Array)\n",
    "原題目連結: https://leetcode.com/problems/delete-greatest-value-in-each-row/description/  \n",
    "\n",
    "You are given an m x n matrix grid consisting of positive integers.  \n",
    "Perform the following operation until grid becomes empty:  \n",
    "\n",
    "Delete the element with the greatest value from each row. If multiple such elements exist, delete any of them.  \n",
    "Add the maximum of deleted elements to the answer.  \n",
    "Note that the number of columns decreases by one after each operation.  \n",
    "\n",
    "Return the answer after performing the operations described above.  \n",
    "\n",
    "範例:  \n",
    "Ex1:  \n",
    "Input: grid = [[1,2,4],[3,3,1]]  \n",
    "Output: 8  \n",
    "Explanation: The diagram above shows the removed values in each step.  \n",
    "- In the first operation, we remove 4 from the first row and 3 from the second row (notice that, there are two cells with value 3 and we can remove any of them). We add 4 to the answer.  \n",
    "- In the second operation, we remove 2 from the first row and 3 from the second row. We add 3 to the answer.  \n",
    "- In the third operation, we remove 1 from the first row and 1 from the second row. We add 1 to the answer.  \n",
    "The final answer = 4 + 3 + 1 = 8.  \n",
    "\n",
    "Ex2:  \n",
    "Input: grid = [[10]]  \n",
    "Output: 10  \n",
    "Explanation: The diagram above shows the removed values in each step.  \n",
    "- In the first operation, we remove 10 from the first row. We add 10 to the answer.  \n",
    "The final answer = 10."
   ]
  },
  {
   "cell_type": "markdown",
   "metadata": {},
   "source": [
    "* 解題想法:  \n",
    "首先用一個暫存的list，將每列進行排序之後重新放入，接著逐行取出最大值，並把結果與最大值進行加總，最後回傳加總值就是答案"
   ]
  },
  {
   "cell_type": "code",
   "execution_count": null,
   "metadata": {},
   "outputs": [],
   "source": [
    "class Solution:\n",
    "    def deleteGreatestValue(self, grid: List[List[int]]) -> int:\n",
    "        res = 0\n",
    "        temp = []\n",
    "        for g in grid:\n",
    "            g.sort()\n",
    "            temp.append(g)\n",
    "        for m in range(len(temp[0])):\n",
    "            t = 0\n",
    "            for n in range(len(temp)):\n",
    "                t = max(t, temp[n][m])\n",
    "            res += t\n",
    "        return res"
   ]
  }
 ],
 "metadata": {
  "kernelspec": {
   "display_name": "Python 3",
   "language": "python",
   "name": "python3"
  },
  "language_info": {
   "codemirror_mode": {
    "name": "ipython",
    "version": 3
   },
   "file_extension": ".py",
   "mimetype": "text/x-python",
   "name": "python",
   "nbconvert_exporter": "python",
   "pygments_lexer": "ipython3",
   "version": "3.7.4"
  }
 },
 "nbformat": 4,
 "nbformat_minor": 4
}
