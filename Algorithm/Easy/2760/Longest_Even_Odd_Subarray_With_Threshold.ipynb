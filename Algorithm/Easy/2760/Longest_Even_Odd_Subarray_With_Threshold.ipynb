{
 "cells": [
  {
   "cell_type": "markdown",
   "id": "d054ca9b-e958-499f-82a0-5bde24d7f45a",
   "metadata": {},
   "source": [
    "# 本題要找出符合奇數偶數交錯的最長list為多少 (\\#Array)\n",
    "原題目連結: https://leetcode.com/problems/longest-even-odd-subarray-with-threshold/description/  \n",
    "\n",
    "You are given a 0-indexed integer array nums and an integer threshold.  \n",
    "\n",
    "Find the length of the longest subarray of nums starting at index l and ending at index r (0 <= l <= r < nums.length) that satisfies the following conditions:  \n",
    "\n",
    "nums[l] % 2 == 0  \n",
    "For all indices i in the range [l, r - 1], nums[i] % 2 != nums[i + 1] % 2  \n",
    "For all indices i in the range [l, r], nums[i] <= threshold  \n",
    "Return an integer denoting the length of the longest such subarray.  \n",
    "\n",
    "Note: A subarray is a contiguous non-empty sequence of elements within an array.  \n",
    "\n",
    "範例:  \n",
    "Ex1:  \n",
    "Input: nums = [3,2,5,4], threshold = 5  \n",
    "Output: 3  \n",
    "Explanation: In this example, we can select the subarray that starts at l = 1 and ends at r = 3 => [2,5,4]. This subarray satisfies the conditions.  \n",
    "Hence, the answer is the length of the subarray, 3. We can show that 3 is the maximum possible achievable length.  \n",
    "\n",
    "Ex2:  \n",
    "Input: nums = [1,2], threshold = 2  \n",
    "Output: 1  \n",
    "Explanation: In this example, we can select the subarray that starts at l = 1 and ends at r = 1 => [2].   \n",
    "It satisfies all the conditions and we can show that 1 is the maximum possible achievable length.  \n",
    "\n",
    "Ex3:  \n",
    "Input: nums = [2,3,4,5], threshold = 4  \n",
    "Output: 3  \n",
    "Explanation: In this example, we can select the subarray that starts at l = 0 and ends at r = 2 => [2,3,4].   \n",
    "It satisfies all the conditions.  \n",
    "Hence, the answer is the length of the subarray, 3. We can show that 3 is the maximum possible achievable length."
   ]
  },
  {
   "cell_type": "markdown",
   "id": "19a917ec-b072-4098-8772-47714c2de5c3",
   "metadata": {},
   "source": [
    "* 解題想法:  \n",
    "用一個list作為暫存，來儲存符合條件的資料，接著開始判斷條件:  \n",
    "- 如果目前數值大於threshold，則清空暫存並計算目前最大值  \n",
    "- 如果目前數值小於threshold且暫存為空，則檢查是否為偶數，如果是偶數則放入暫存中  \n",
    "- 如果目前暫存不為空，則檢查暫存的最後一個數值與目前數值是否互為奇數與偶數，如果是則將數值放入暫存中  \n",
    "- 如果不符合互為奇數偶數，則清空暫存並重新計算最大值，另外如果目前數值為偶數則重新放入暫存中  \n",
    "最後如果暫存不為空，則重新計算最大值之後回傳最大值就是答案"
   ]
  },
  {
   "cell_type": "code",
   "execution_count": null,
   "id": "30508103-bf59-4a28-a8d7-c5183535ea9e",
   "metadata": {},
   "outputs": [],
   "source": [
    "Input: nums = [2,3,4,5], threshold = 4\n",
    "Output: 3\n",
    "Explanation: In this example, we can select the subarray that starts at l = 0 and ends at r = 2 => [2,3,4]. \n",
    "It satisfies all the conditions.\n",
    "Hence, the answer is the length of the subarray, 3. We can show that 3 is the maximum possible achievable length."
   ]
  }
 ],
 "metadata": {
  "kernelspec": {
   "display_name": "Python 3 (ipykernel)",
   "language": "python",
   "name": "python3"
  },
  "language_info": {
   "codemirror_mode": {
    "name": "ipython",
    "version": 3
   },
   "file_extension": ".py",
   "mimetype": "text/x-python",
   "name": "python",
   "nbconvert_exporter": "python",
   "pygments_lexer": "ipython3",
   "version": "3.9.13"
  }
 },
 "nbformat": 4,
 "nbformat_minor": 5
}
