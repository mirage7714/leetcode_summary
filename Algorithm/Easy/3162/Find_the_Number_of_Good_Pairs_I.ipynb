{
 "cells": [
  {
   "cell_type": "markdown",
   "id": "1540fcc7-59e8-4f48-9222-669d78461715",
   "metadata": {},
   "source": [
    "# 本題要找出共有幾對符合條件的值 (\\#Array )\n",
    "原題目連結: https://leetcode.com/problems/find-the-number-of-good-pairs-i/description/  \n",
    "\n",
    "You are given 2 integer arrays nums1 and nums2 of lengths n and m respectively. You are also given a positive integer k.  \n",
    "A pair (i, j) is called good if nums1[i] is divisible by nums2[j] * k (0 <= i <= n - 1, 0 <= j <= m - 1).  \n",
    "Return the total number of good pairs.  \n",
    "\n",
    "範例:  \n",
    "Ex1:  \n",
    "Input: nums1 = [1,3,4], nums2 = [1,3,4], k = 1  \n",
    "Output: 5  \n",
    "Explanation:  \n",
    "The 5 good pairs are (0, 0), (1, 0), (1, 1), (2, 0), and (2, 2).  \n",
    "\n",
    "Ex2:  \n",
    "Input: nums1 = [1,2,4,12], nums2 = [2,4], k = 3  \n",
    "Output: 2  \n",
    "Explanation:  \n",
    "The 2 good pairs are (3, 0) and (3, 1)."
   ]
  },
  {
   "cell_type": "markdown",
   "id": "3a3d335c-f4da-4bd5-bb6a-9329816c7e66",
   "metadata": {},
   "source": [
    "* 解題想法:  \n",
    "用兩個迴圈來逐個檢查nums1與nums2中的數值是否符合條件，如果有出現符合條件的數值則將結果+1，最後回傳結果"
   ]
  },
  {
   "cell_type": "code",
   "execution_count": null,
   "id": "b0a3972a-de84-4550-b406-98c4307810a7",
   "metadata": {},
   "outputs": [],
   "source": [
    "class Solution:\n",
    "    def numberOfPairs(self, nums1: List[int], nums2: List[int], k: int) -> int:\n",
    "        res = 0\n",
    "        for i in range(len(nums1)):\n",
    "            for j in range(len(nums2)):\n",
    "                if nums1[i] % (nums2[j] * k) == 0:\n",
    "                    res += 1\n",
    "        return res"
   ]
  }
 ],
 "metadata": {
  "kernelspec": {
   "display_name": "Python 3 (ipykernel)",
   "language": "python",
   "name": "python3"
  },
  "language_info": {
   "codemirror_mode": {
    "name": "ipython",
    "version": 3
   },
   "file_extension": ".py",
   "mimetype": "text/x-python",
   "name": "python",
   "nbconvert_exporter": "python",
   "pygments_lexer": "ipython3",
   "version": "3.9.13"
  }
 },
 "nbformat": 4,
 "nbformat_minor": 5
}
