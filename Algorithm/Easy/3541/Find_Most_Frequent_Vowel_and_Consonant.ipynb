{
 "cells": [
  {
   "cell_type": "markdown",
   "id": "a5c3162b-e9c6-4aa4-a7e9-0b701cc34f67",
   "metadata": {},
   "source": [
    "# 本題要找出出現頻率最高的母音與子音總和是多少 (\\#String )\n",
    "原題目連結: https://leetcode.com/problems/find-most-frequent-vowel-and-consonant/description/  \n",
    "\n",
    "You are given a string s consisting of lowercase English letters ('a' to 'z').  \n",
    "Your task is to:  \n",
    "Find the vowel (one of 'a', 'e', 'i', 'o', or 'u') with the maximum frequency.  \n",
    "Find the consonant (all other letters excluding vowels) with the maximum frequency.  \n",
    "Return the sum of the two frequencies.  \n",
    "Note: If multiple vowels or consonants have the same maximum frequency, you may choose any one of them. If there are no vowels or no consonants in the string, consider their frequency as 0.  \n",
    "The frequency of a letter x is the number of times it occurs in the string.  \n",
    "\n",
    "範例:  \n",
    "Ex1:  \n",
    "Input: s = \"successes\"  \n",
    "Output: 6  \n",
    "Explanation:  \n",
    "The vowels are: 'u' (frequency 1), 'e' (frequency 2). The maximum frequency is 2.  \n",
    "The consonants are: 's' (frequency 4), 'c' (frequency 2). The maximum frequency is 4.  \n",
    "The output is 2 + 4 = 6.  \n",
    "\n",
    "Ex2:  \n",
    "Input: s = \"aeiaeia\"  \n",
    "Output: 3  \n",
    "Explanation:  \n",
    "The vowels are: 'a' (frequency 3), 'e' ( frequency 2), 'i' (frequency 2). The maximum frequency is 3.  \n",
    "There are no consonants in s. Hence, maximum consonant frequency = 0.  \n",
    "The output is 3 + 0 = 3.  "
   ]
  },
  {
   "cell_type": "markdown",
   "id": "4ecda6c4-623c-44c0-a3a0-62e5378ec94a",
   "metadata": {},
   "source": [
    "* 解題想法:  \n",
    "首先用兩個dict分別算出母音與子音出現的頻率，並找出出現最大的頻率是多少後相加就是答案"
   ]
  },
  {
   "cell_type": "code",
   "execution_count": null,
   "id": "e679624c-4fbd-4659-b92a-e2d532120ff1",
   "metadata": {},
   "outputs": [],
   "source": [
    "class Solution:\n",
    "    def maxFreqSum(self, s: str) -> int:\n",
    "        v = {'a':0,'e':0,'i':0,'o':0,'u':0}\n",
    "        c = {}\n",
    "        res = 0\n",
    "        for i in s:\n",
    "            if i not in v.keys():\n",
    "                if i not in c.keys():\n",
    "                    c[i] = 0\n",
    "                c[i] += 1\n",
    "            else:\n",
    "                v[i] += 1\n",
    "        val1 = list(v.values())\n",
    "        val2 = list(c.values())\n",
    "        if val1: \n",
    "            res += max(val1)\n",
    "        if val2: \n",
    "            res += max(val2)\n",
    "        return res"
   ]
  }
 ],
 "metadata": {
  "kernelspec": {
   "display_name": "Python 3 (ipykernel)",
   "language": "python",
   "name": "python3"
  },
  "language_info": {
   "codemirror_mode": {
    "name": "ipython",
    "version": 3
   },
   "file_extension": ".py",
   "mimetype": "text/x-python",
   "name": "python",
   "nbconvert_exporter": "python",
   "pygments_lexer": "ipython3",
   "version": "3.9.13"
  }
 },
 "nbformat": 4,
 "nbformat_minor": 5
}
