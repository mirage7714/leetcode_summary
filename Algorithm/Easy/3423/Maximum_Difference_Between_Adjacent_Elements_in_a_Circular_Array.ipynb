{
 "cells": [
  {
   "cell_type": "markdown",
   "id": "b29cf021-0c67-4f1b-baa0-d2a3132f2fbc",
   "metadata": {},
   "source": [
    "# 本題要找出兩個相鄰數值最大的差為多少 (\\#Array )\n",
    "原題目連結: https://leetcode.com/problems/maximum-difference-between-adjacent-elements-in-a-circular-array/description/  \n",
    "\n",
    "Given a circular array nums, find the maximum absolute difference between adjacent elements.  \n",
    "Note: In a circular array, the first and last elements are adjacent.  \n",
    "\n",
    "範例:  \n",
    "Ex1:  \n",
    "Input: nums = [1,2,4]  \n",
    "Output: 3  \n",
    "Explanation:  \n",
    "Because nums is circular, nums[0] and nums[2] are adjacent. They have the maximum absolute difference of |4 - 1| = 3.  \n",
    "\n",
    "Ex2:  \n",
    "Input: nums = [-5,-10,-5]  \n",
    "Output: 5  \n",
    "Explanation:  \n",
    "The adjacent elements nums[0] and nums[1] have the maximum absolute difference of |-5 - (-10)| = 5."
   ]
  },
  {
   "cell_type": "markdown",
   "id": "c5921528-8fae-44b8-8f26-bfeb4fa4a6e3",
   "metadata": {},
   "source": [
    "* 解題想法:  \n",
    "首先找出最後一個數值與第一個數值的差值，接著從最前面開始進行檢查並找出最大差值，最後回傳答案"
   ]
  },
  {
   "cell_type": "code",
   "execution_count": null,
   "id": "4a90da24-18cb-46cd-99f1-add2a68eb177",
   "metadata": {},
   "outputs": [],
   "source": [
    "class Solution:\n",
    "    def maxAdjacentDistance(self, nums: List[int]) -> int:\n",
    "        res = abs(nums[-1] - nums[0])\n",
    "        for i in range(len(nums)-1):\n",
    "            res = max(res, abs(nums[i+1] - nums[i]))\n",
    "        return res"
   ]
  }
 ],
 "metadata": {
  "kernelspec": {
   "display_name": "Python 3 (ipykernel)",
   "language": "python",
   "name": "python3"
  },
  "language_info": {
   "codemirror_mode": {
    "name": "ipython",
    "version": 3
   },
   "file_extension": ".py",
   "mimetype": "text/x-python",
   "name": "python",
   "nbconvert_exporter": "python",
   "pygments_lexer": "ipython3",
   "version": "3.9.13"
  }
 },
 "nbformat": 4,
 "nbformat_minor": 5
}
