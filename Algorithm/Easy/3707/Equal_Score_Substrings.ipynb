{
 "cells": [
  {
   "cell_type": "markdown",
   "id": "46a32662-daa6-4a6c-bcce-eb9f4d6c6219",
   "metadata": {},
   "source": [
    "# 本題要找出左右兩邊的字串總和是否有可能相等 (\\#String )\n",
    "原題目連結: https://leetcode.com/problems/equal-score-substrings/description/?page=28  \n",
    "\n",
    "You are given a string s consisting of lowercase English letters.  \n",
    "The score of a string is the sum of the positions of its characters in the alphabet, where 'a' = 1, 'b' = 2, ..., 'z' = 26.  \n",
    "Determine whether there exists an index i such that the string can be split into two non-empty substrings s[0..i] and s[(i + 1)..(n - 1)] that have equal scores.  \n",
    "Return true if such a split exists, otherwise return false.  \n",
    "\n",
    "範例:  \n",
    "Ex1:  \n",
    "Input: s = \"adcb\"  \n",
    "Output: true  \n",
    "Explanation:  \n",
    "Split at index i = 1:  \n",
    "Left substring = s[0..1] = \"ad\" with score = 1 + 4 = 5  \n",
    "Right substring = s[2..3] = \"cb\" with score = 3 + 2 = 5  \n",
    "Both substrings have equal scores, so the output is true.  \n",
    "\n",
    "Ex2:  \n",
    "Input: s = \"bace\"  \n",
    "Output: false  \n",
    "Explanation:  \n",
    "No split produces equal scores, so the output is false.  "
   ]
  },
  {
   "cell_type": "markdown",
   "id": "5a24993e-5c6d-4058-abda-f77218298e92",
   "metadata": {},
   "source": [
    "* 解題想法:  \n",
    "首先算出整個字串的總和為多少，如果總和不為偶數則回傳False，接著從頭開始加，如果當該數為總和的一半時則回傳True，如果迴圈結束都沒有符合條件則回傳False"
   ]
  },
  {
   "cell_type": "code",
   "execution_count": null,
   "id": "78fc11e7-7649-4f0f-843f-dfe8747d3f03",
   "metadata": {},
   "outputs": [],
   "source": [
    "class Solution:\n",
    "    def scoreBalance(self, s: str) -> bool:\n",
    "        total = 0\n",
    "        for i in s:\n",
    "            total += ord(i) - ord('a') + 1\n",
    "        if total % 2 != 0:\n",
    "            return False\n",
    "        left = 0\n",
    "        for j in s:\n",
    "            left += ord(j) - ord('a') + 1\n",
    "            if left == total // 2:\n",
    "                return True\n",
    "        return False"
   ]
  }
 ],
 "metadata": {
  "kernelspec": {
   "display_name": "Python 3 (ipykernel)",
   "language": "python",
   "name": "python3"
  },
  "language_info": {
   "codemirror_mode": {
    "name": "ipython",
    "version": 3
   },
   "file_extension": ".py",
   "mimetype": "text/x-python",
   "name": "python",
   "nbconvert_exporter": "python",
   "pygments_lexer": "ipython3",
   "version": "3.12.5"
  }
 },
 "nbformat": 4,
 "nbformat_minor": 5
}
