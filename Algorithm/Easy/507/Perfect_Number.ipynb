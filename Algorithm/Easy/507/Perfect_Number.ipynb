{
 "cells": [
  {
   "cell_type": "markdown",
   "metadata": {},
   "source": [
    "# 本題要判斷這個數是否為perfect number (\\#Math)\n",
    "原題目連結: https://leetcode.com/problems/perfect-number/  \n",
    "\n",
    "A perfect number is a positive integer that is equal to the sum of its positive divisors, excluding the number itself. A divisor of an integer x is an integer that can divide x evenly.  \n",
    "Given an integer n, return true if n is a perfect number, otherwise return false.  \n",
    "\n",
    "範例:  \n",
    "Ex1:  \n",
    "Input: num = 28  \n",
    "Output: true  \n",
    "Explanation: 28 = 1 + 2 + 4 + 7 + 14  \n",
    "1, 2, 4, 7, and 14 are all divisors of 28.  \n",
    "\n",
    "Ex2:  \n",
    "Input: num = 7  \n",
    "Output: false"
   ]
  },
  {
   "cell_type": "markdown",
   "metadata": {},
   "source": [
    "* 解題想法:  \n",
    "依題目的說明，需要將所有的因數總和加起來會等於原本的數值，因此迴圈的最大範圍應該是到nums的平方根+1，因為每次找到一個因數時，可以得到另一個因數，所以最後把所有的因數都加起來之後檢查是否與原數相同，如果相同則回傳True，否則回傳False"
   ]
  },
  {
   "cell_type": "code",
   "execution_count": null,
   "metadata": {},
   "outputs": [],
   "source": [
    "class Solution:\n",
    "    def checkPerfectNumber(self, num):\n",
    "        \"\"\"\n",
    "        :type num: int\n",
    "        :rtype: bool\n",
    "        \"\"\"\n",
    "        divisors_sum = 1\n",
    "        for x in range(2, int(sqrt(num)) + 1):\n",
    "            if num % x == 0:\n",
    "                divisors_sum += x + num/x\n",
    "        if divisors_sum == num and num > 1:\n",
    "            return True\n",
    "        else:\n",
    "            return False"
   ]
  }
 ],
 "metadata": {
  "kernelspec": {
   "display_name": "Python 3",
   "language": "python",
   "name": "python3"
  },
  "language_info": {
   "codemirror_mode": {
    "name": "ipython",
    "version": 3
   },
   "file_extension": ".py",
   "mimetype": "text/x-python",
   "name": "python",
   "nbconvert_exporter": "python",
   "pygments_lexer": "ipython3",
   "version": "3.7.4"
  }
 },
 "nbformat": 4,
 "nbformat_minor": 4
}
