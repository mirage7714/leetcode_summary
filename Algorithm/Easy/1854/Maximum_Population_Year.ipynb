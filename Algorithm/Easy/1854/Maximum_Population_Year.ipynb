{
 "cells": [
  {
   "cell_type": "markdown",
   "metadata": {},
   "source": [
    "# 本題要找出人口最多的一年為何\n",
    "原題目連結: https://leetcode.com/problems/maximum-population-year/  \n",
    "\n",
    "You are given a 2D integer array logs where each logs[i] = [birthi, deathi] indicates the birth and death years of the ith person.  \n",
    "\n",
    "The population of some year x is the number of people alive during that year. The ith person is counted in year x's population if x is in the inclusive range [birthi, deathi - 1]. Note that the person is not counted in the year that they die.  \n",
    "\n",
    "Return the earliest year with the maximum population.  \n",
    "\n",
    "範例:  \n",
    "Ex1:  \n",
    "Input: logs = [[1993,1999],[2000,2010]]  \n",
    "Output: 1993  \n",
    "Explanation: The maximum population is 1, and 1993 is the earliest year with this population.  \n",
    "\n",
    "Ex2:  \n",
    "Input: logs = [[1950,1961],[1960,1971],[1970,1981]]  \n",
    "Output: 1960  \n",
    "Explanation:   \n",
    "The maximum population is 2, and it had happened in years 1960 and 1970.  \n",
    "The earlier year between them is 1960.  "
   ]
  },
  {
   "cell_type": "markdown",
   "metadata": {},
   "source": [
    "* 解題想法:  \n",
    "依題目說明，要找出活著人數最多的一年，因此先建立一個dict(freq)來存放年分與存活人數的資料，接著用迴圈找出每一年存活的人數分別為何  \n",
    "接著找出value最大值後，找出對應的key值，最後回傳最小的key值就是題目要找的答案"
   ]
  },
  {
   "cell_type": "code",
   "execution_count": null,
   "metadata": {},
   "outputs": [],
   "source": [
    "class Solution:\n",
    "    def maximumPopulation(self, logs: List[List[int]]) -> int:\n",
    "        freq = {}\n",
    "        years = []\n",
    "        for log in logs:\n",
    "            for m in range(log[0], log[1]):\n",
    "                if m not in freq.keys():\n",
    "                    freq[m] = 1\n",
    "                else:\n",
    "                    freq[m] += 1\n",
    "        vals = list(freq.values())\n",
    "        keys = list(freq.keys())\n",
    "        count = max(vals)\n",
    "        for m in range(len(vals)):\n",
    "            if vals[m] == count:\n",
    "                years.append(keys[m])\n",
    "        return min(years)"
   ]
  }
 ],
 "metadata": {
  "kernelspec": {
   "display_name": "Python 3",
   "language": "python",
   "name": "python3"
  },
  "language_info": {
   "codemirror_mode": {
    "name": "ipython",
    "version": 3
   },
   "file_extension": ".py",
   "mimetype": "text/x-python",
   "name": "python",
   "nbconvert_exporter": "python",
   "pygments_lexer": "ipython3",
   "version": "3.7.4"
  }
 },
 "nbformat": 4,
 "nbformat_minor": 2
}
