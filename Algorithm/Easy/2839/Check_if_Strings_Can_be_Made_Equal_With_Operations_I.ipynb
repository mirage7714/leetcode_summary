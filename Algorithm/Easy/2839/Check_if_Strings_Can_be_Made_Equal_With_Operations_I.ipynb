{
 "cells": [
  {
   "cell_type": "markdown",
   "id": "1aabee6c-fe4a-4790-b882-9cd89d4b2398",
   "metadata": {},
   "source": [
    "# 本題要判斷兩個字串在操作後是否相等 (\\#String )\n",
    "原題目連結: https://leetcode.com/problems/check-if-strings-can-be-made-equal-with-operations-i/description/  \n",
    "\n",
    "You are given two strings s1 and s2, both of length 4, consisting of lowercase English letters.  \n",
    "You can apply the following operation on any of the two strings any number of times:  \n",
    "\n",
    "Choose any two indices i and j such that j - i = 2, then swap the two characters at those indices in the string.  \n",
    "Return true if you can make the strings s1 and s2 equal, and false otherwise.  \n",
    "\n",
    "範例:  \n",
    "Ex1:  \n",
    "Input: s1 = \"abcd\", s2 = \"cdab\"  \n",
    "Output: true  \n",
    "Explanation: We can do the following operations on s1:\n",
    "- Choose the indices i = 0, j = 2. The resulting string is s1 = \"cbad\".  \n",
    "- Choose the indices i = 1, j = 3. The resulting string is s1 = \"cdab\" = s2.  \n",
    "\n",
    "Ex2:  \n",
    "Input: s1 = \"abcd\", s2 = \"dacb\"  \n",
    "Output: false  \n",
    "Explanation: It is not possible to make the two strings equal."
   ]
  },
  {
   "cell_type": "markdown",
   "id": "23ff6702-2993-479b-9c99-d6957198a7d8",
   "metadata": {},
   "source": [
    "* 解題想法:  \n",
    "首先判斷兩個字串是否相同，如果不相同的話則從頭開始檢查，如果當該index字母不相同的時候，則檢查前兩個或是後兩個字母是否相同，如果不相同則回傳False，如果迴圈結束則回傳True"
   ]
  },
  {
   "cell_type": "code",
   "execution_count": null,
   "id": "837c1f99-2700-44d9-9123-28d8da2078a0",
   "metadata": {},
   "outputs": [],
   "source": [
    "class Solution:\n",
    "    def canBeEqual(self, s1: str, s2: str) -> bool:\n",
    "        if s1 == s2:\n",
    "            return True\n",
    "        else:\n",
    "            for i in range(len(s1)):\n",
    "                if s1[i] != s2[i]:\n",
    "                    if i + 2 < 4 and s2[i+2] != s1[i]:\n",
    "                        return False\n",
    "                    elif i -2 >= 0 and s2[i-2] != s1[i]:\n",
    "                        return False\n",
    "            return True"
   ]
  }
 ],
 "metadata": {
  "kernelspec": {
   "display_name": "Python 3 (ipykernel)",
   "language": "python",
   "name": "python3"
  },
  "language_info": {
   "codemirror_mode": {
    "name": "ipython",
    "version": 3
   },
   "file_extension": ".py",
   "mimetype": "text/x-python",
   "name": "python",
   "nbconvert_exporter": "python",
   "pygments_lexer": "ipython3",
   "version": "3.11.4"
  }
 },
 "nbformat": 4,
 "nbformat_minor": 5
}
