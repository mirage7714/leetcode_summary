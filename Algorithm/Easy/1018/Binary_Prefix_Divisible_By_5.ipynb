{
 "cells": [
  {
   "cell_type": "markdown",
   "metadata": {},
   "source": [
    "# 本題要找出將array中數字由二進位轉換為10進位後，是否可被5整除\n",
    "原題目連結：https://leetcode.com/problems/binary-prefix-divisible-by-5/  \n",
    "\n",
    "Given an array A of 0s and 1s, consider N_i: the i-th subarray from A[0] to A[i] interpreted as a binary number (from most-significant-bit to least-significant-bit.)  \n",
    "\n",
    "Return a list of booleans answer, where answer[i] is true if and only if N_i is divisible by 5.  \n",
    "\n",
    "範例： \n",
    "Ex1:  \n",
    "Input: [0,1,1]  \n",
    "Output: [true,false,false]  \n",
    "Explanation:   \n",
    "The input numbers in binary are 0, 01, 011; which are 0, 1, and 3 in base-10.  Only the first number is divisible by 5, so answer[0] is true.  \n",
    "\n",
    "Ex2:  \n",
    "Input: [1,1,1]  \n",
    "Output: [false,false,false]  \n",
    "\n",
    "Ex3:  \n",
    "Input: [0,1,1,1,1,1]  \n",
    "Output: [true,false,false,false,true,false]  \n",
    "\n",
    "Ex4:  \n",
    "Input: [1,1,1,0,1]  \n",
    "Output: [false,false,false,false,false]"
   ]
  },
  {
   "cell_type": "markdown",
   "metadata": {},
   "source": [
    "* 解題想法：  \n",
    "由於題目提供的是list，因此將每個list中的整數抓出後轉成字串並加在要轉換的詞上  \n",
    "再將這個詞轉換成10進位，並確認是否可以被5整除，如果可以則回傳True，否則回傳False"
   ]
  },
  {
   "cell_type": "code",
   "execution_count": null,
   "metadata": {},
   "outputs": [],
   "source": [
    "class Solution:\n",
    "    def prefixesDivBy5(self, A: List[int]) -> List[bool]:\n",
    "        result = []\n",
    "        temp = ''\n",
    "        for n in range(len(A)):\n",
    "            temp += str(A[n])\n",
    "            if int(temp, 2) % 5 == 0:\n",
    "                result.append(True)\n",
    "            else:\n",
    "                result.append(False)\n",
    "        return result"
   ]
  }
 ],
 "metadata": {
  "kernelspec": {
   "display_name": "Python 3",
   "language": "python",
   "name": "python3"
  },
  "language_info": {
   "codemirror_mode": {
    "name": "ipython",
    "version": 3
   },
   "file_extension": ".py",
   "mimetype": "text/x-python",
   "name": "python",
   "nbconvert_exporter": "python",
   "pygments_lexer": "ipython3",
   "version": "3.8.3"
  }
 },
 "nbformat": 4,
 "nbformat_minor": 4
}
