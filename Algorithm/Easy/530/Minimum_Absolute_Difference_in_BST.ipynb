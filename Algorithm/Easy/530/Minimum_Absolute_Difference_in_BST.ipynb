{
 "cells": [
  {
   "cell_type": "markdown",
   "metadata": {},
   "source": [
    "# 本題要找出在binary search tree中，兩點的差最小為多少 (\\#Binary Tree, \\#DFS)\n",
    "原題目連結: https://leetcode.com/problems/minimum-absolute-difference-in-bst/  \n",
    "\n",
    "Given the root of a Binary Search Tree (BST), return the minimum absolute difference between the values of any two different nodes in the tree.  \n",
    "\n",
    "範例:  \n",
    "Ex1:  \n",
    "Input: root = [4,2,6,1,3]  \n",
    "Output: 1  \n",
    "\n",
    "Ex2:  \n",
    "Input: root = [1,0,48,null,null,12,49]  \n",
    "Output: 1  "
   ]
  },
  {
   "cell_type": "markdown",
   "metadata": {},
   "source": [
    "* 解題想法:  \n",
    "在BST中，如果用inorder的方式進行走訪，就可以從小到大把所有節點的值都取出，因此用一個list來放目前的數值，另一個list用來放目前的差值，每一次進行走訪，都把節點的值減去前一個節點的值並與最小值比較，最後回傳最小值"
   ]
  },
  {
   "cell_type": "code",
   "execution_count": null,
   "metadata": {},
   "outputs": [],
   "source": [
    "# Definition for a binary tree node.\n",
    "# class TreeNode:\n",
    "#     def __init__(self, val=0, left=None, right=None):\n",
    "#         self.val = val\n",
    "#         self.left = left\n",
    "#         self.right = right\n",
    "class Solution:\n",
    "    def getMinimumDifference(self, root: TreeNode) -> int:\n",
    "        def dfs(node):\n",
    "            if node.left:\n",
    "                dfs(node.left)\n",
    "            if val[0] != inf:\n",
    "                dif[0] = min(dif[0], node.val - val[0])\n",
    "            val[0] = node.val\n",
    "            if node.right:\n",
    "                dfs(node.right)\n",
    "                \n",
    "        val = [inf]\n",
    "        dif = [inf]\n",
    "        if root:\n",
    "            dfs(root)\n",
    "        return dif[0]"
   ]
  }
 ],
 "metadata": {
  "kernelspec": {
   "display_name": "Python 3",
   "language": "python",
   "name": "python3"
  },
  "language_info": {
   "codemirror_mode": {
    "name": "ipython",
    "version": 3
   },
   "file_extension": ".py",
   "mimetype": "text/x-python",
   "name": "python",
   "nbconvert_exporter": "python",
   "pygments_lexer": "ipython3",
   "version": "3.7.4"
  }
 },
 "nbformat": 4,
 "nbformat_minor": 4
}
