{
 "cells": [
  {
   "cell_type": "markdown",
   "id": "2ffb7e03-6a71-4b5f-b4ac-b64a6f205067",
   "metadata": {},
   "source": [
    "# 本題要找出相鄰顏色不相同的組別有多少 (\\#Array )\n",
    "原題目連結: https://leetcode.com/problems/alternating-groups-i/description/  \n",
    "\n",
    "There is a circle of red and blue tiles. You are given an array of integers colors. The color of tile i is represented by colors[i]:  \n",
    "colors[i] == 0 means that tile i is red.  \n",
    "colors[i] == 1 means that tile i is blue.  \n",
    "Every 3 contiguous tiles in the circle with alternating colors (the middle tile has a different color from its left and right tiles) is called an alternating group.  \n",
    "Return the number of alternating groups.  \n",
    "Note that since colors represents a circle, the first and the last tiles are considered to be next to each other.  \n",
    "\n",
    "範例:  \n",
    "Ex1:  \n",
    "Input: colors = [1,1,1]  \n",
    "Output: 0  \n",
    "\n",
    "Ex2:  \n",
    "Input: colors = [0,1,0,0,1]  \n",
    "Output: 3  "
   ]
  },
  {
   "cell_type": "markdown",
   "id": "903ca60d-75c4-46de-ac1d-6821e82a44f4",
   "metadata": {},
   "source": [
    "* 解題想法:  \n",
    "用迴圈檢查左右相鄰的顏色是否不相同，如果都不同則將數值加1，最後回傳統計的結果就是答案"
   ]
  },
  {
   "cell_type": "code",
   "execution_count": null,
   "id": "24533ccd-4d41-4a31-80e8-a1628f247bf9",
   "metadata": {},
   "outputs": [],
   "source": [
    "class Solution:\n",
    "    def numberOfAlternatingGroups(self, colors: List[int]) -> int:\n",
    "        count = 0\n",
    "        for i in range(len(colors)):\n",
    "            if colors[i - 1] != colors[i] and colors[i] != colors[(i+1) % len(colors)]:\n",
    "                count += 1\n",
    "        return count"
   ]
  }
 ],
 "metadata": {
  "kernelspec": {
   "display_name": "Python 3 (ipykernel)",
   "language": "python",
   "name": "python3"
  },
  "language_info": {
   "codemirror_mode": {
    "name": "ipython",
    "version": 3
   },
   "file_extension": ".py",
   "mimetype": "text/x-python",
   "name": "python",
   "nbconvert_exporter": "python",
   "pygments_lexer": "ipython3",
   "version": "3.9.13"
  }
 },
 "nbformat": 4,
 "nbformat_minor": 5
}
