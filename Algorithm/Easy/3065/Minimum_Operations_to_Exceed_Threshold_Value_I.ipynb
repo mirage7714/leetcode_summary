{
 "cells": [
  {
   "cell_type": "markdown",
   "id": "ac55e154-0cb9-4c39-843d-2295a4cab047",
   "metadata": {},
   "source": [
    "# 本題要找出需要移除多少數值才會達到全部的數值都超過k (\\#Array, \\#Heap )\n",
    "原題目連結: https://leetcode.com/problems/minimum-operations-to-exceed-threshold-value-i/description/  \n",
    "\n",
    "You are given a 0-indexed integer array nums, and an integer k.  \n",
    "In one operation, you can remove one occurrence of the smallest element of nums.  \n",
    "Return the minimum number of operations needed so that all elements of the array are greater than or equal to k.  \n",
    "\n",
    "範例:  \n",
    "Ex1:  \n",
    "Input: nums = [2,11,10,1,3], k = 10  \n",
    "Output: 3  \n",
    "Explanation: After one operation, nums becomes equal to [2, 11, 10, 3].  \n",
    "After two operations, nums becomes equal to [11, 10, 3].  \n",
    "After three operations, nums becomes equal to [11, 10].  \n",
    "At this stage, all the elements of nums are greater than or equal to 10 so we can stop.  \n",
    "It can be shown that 3 is the minimum number of operations needed so that all elements of the array are greater than or equal to 10.  \n",
    "\n",
    "Ex2:  \n",
    "Input: nums = [1,1,2,4,9], k = 1  \n",
    "Output: 0  \n",
    "Explanation: All elements of the array are greater than or equal to 1 so we do not need to apply any operations on nums.  \n",
    "\n",
    "Ex3:  \n",
    "Input: nums = [1,1,2,4,9], k = 9  \n",
    "Output: 4  \n",
    "Explanation: only a single element of nums is greater than or equal to 9 so we need to apply the operations 4 times on nums."
   ]
  },
  {
   "cell_type": "markdown",
   "id": "d745a599-aac7-4673-83f8-3dbbfff41419",
   "metadata": {},
   "source": [
    "* 解題想法:  \n",
    "首先將nums轉換成heap，接著開始取值，直到取出的值大於或等於k則中斷迴圈，最後回傳執行的次數就是答案"
   ]
  },
  {
   "cell_type": "code",
   "execution_count": null,
   "id": "de33273e-480e-4c52-9a8b-f846151e9dd8",
   "metadata": {},
   "outputs": [],
   "source": [
    "import heapq\n",
    "\n",
    "class Solution:\n",
    "    def minOperations(self, nums: List[int], k: int) -> int:\n",
    "        res = 0\n",
    "        heapq.heapify(nums)\n",
    "        while nums:\n",
    "            n = heapq.heappop(nums)\n",
    "            if n >= k:\n",
    "                break\n",
    "            res += 1\n",
    "        return res"
   ]
  }
 ],
 "metadata": {
  "kernelspec": {
   "display_name": "Python 3 (ipykernel)",
   "language": "python",
   "name": "python3"
  },
  "language_info": {
   "codemirror_mode": {
    "name": "ipython",
    "version": 3
   },
   "file_extension": ".py",
   "mimetype": "text/x-python",
   "name": "python",
   "nbconvert_exporter": "python",
   "pygments_lexer": "ipython3",
   "version": "3.9.13"
  }
 },
 "nbformat": 4,
 "nbformat_minor": 5
}
