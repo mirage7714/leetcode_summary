{
 "cells": [
  {
   "cell_type": "markdown",
   "id": "61a75a46-3e39-40b4-9f31-5134cb3a1a18",
   "metadata": {},
   "source": [
    "# 本題要找出操作後的list為何 (\\#Array )\n",
    "原題目連結: https://leetcode.com/problems/transformed-array/description/  \n",
    "\n",
    "You are given an integer array nums that represents a circular array. Your task is to create a new array result of the same size, following these rules:  \n",
    "For each index i (where 0 <= i < nums.length), perform the following independent actions:  \n",
    "If nums[i] > 0: Start at index i and move nums[i] steps to the right in the circular array. Set result[i] to the value of the index where you land.  \n",
    "If nums[i] < 0: Start at index i and move abs(nums[i]) steps to the left in the circular array. Set result[i] to the value of the index where you land.  \n",
    "If nums[i] == 0: Set result[i] to nums[i].  \n",
    "Return the new array result.  \n",
    "Note: Since nums is circular, moving past the last element wraps around to the beginning, and moving before the first element wraps back to the end.  \n",
    "\n",
    "範例:  \n",
    "Ex1:  \n",
    "Input: nums = [3,-2,1,1]  \n",
    "Output: [1,1,1,3]  \n",
    "Explanation:  \n",
    "For nums[0] that is equal to 3, If we move 3 steps to right, we reach nums[3]. So result[0] should be 1.  \n",
    "For nums[1] that is equal to -2, If we move 2 steps to left, we reach nums[3]. So result[1] should be 1.  \n",
    "For nums[2] that is equal to 1, If we move 1 step to right, we reach nums[3]. So result[2] should be 1.  \n",
    "For nums[3] that is equal to 1, If we move 1 step to right, we reach nums[0]. So result[3] should be 3.  \n",
    "\n",
    "Ex2:  \n",
    "Input: nums = [-1,4,-1]  \n",
    "Output: [-1,-1,4]  \n",
    "Explanation:  \n",
    "For nums[0] that is equal to -1, If we move 1 step to left, we reach nums[2]. So result[0] should be -1.  \n",
    "For nums[1] that is equal to 4, If we move 4 steps to right, we reach nums[2]. So result[1] should be -1.  \n",
    "For nums[2] that is equal to -1, If we move 1 step to left, we reach nums[1]. So result[2] should be 4.  "
   ]
  },
  {
   "cell_type": "markdown",
   "id": "f1dbea19-efdb-4ad3-9e2c-0615888d8b10",
   "metadata": {},
   "source": [
    "* 解題想法:  \n",
    "首先建立一個空的list用來存放移動後的數值，接著用迴圈從頭開始進行移動，將該index加上該index的數值後放入list，最後回傳新的list就是答案"
   ]
  },
  {
   "cell_type": "code",
   "execution_count": null,
   "id": "44035cd2-b576-4f90-8896-e9053ea0bac7",
   "metadata": {},
   "outputs": [],
   "source": [
    "class Solution:\n",
    "    def constructTransformedArray(self, nums: List[int]) -> List[int]:\n",
    "        res = []\n",
    "        l = len(nums)\n",
    "        for i in range(len(nums)):\n",
    "            res.append(nums[(i + nums[i]) % l])\n",
    "        return res"
   ]
  }
 ],
 "metadata": {
  "kernelspec": {
   "display_name": "Python 3 (ipykernel)",
   "language": "python",
   "name": "python3"
  },
  "language_info": {
   "codemirror_mode": {
    "name": "ipython",
    "version": 3
   },
   "file_extension": ".py",
   "mimetype": "text/x-python",
   "name": "python",
   "nbconvert_exporter": "python",
   "pygments_lexer": "ipython3",
   "version": "3.9.13"
  }
 },
 "nbformat": 4,
 "nbformat_minor": 5
}
