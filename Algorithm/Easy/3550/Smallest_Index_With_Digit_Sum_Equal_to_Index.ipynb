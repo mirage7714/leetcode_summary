{
 "cells": [
  {
   "cell_type": "markdown",
   "id": "349696c5-b0bf-42d7-ba10-e7810f692e1c",
   "metadata": {},
   "source": [
    "# 本題要找出index與所有數字總和相等的最小是多少(\\Array )\n",
    "原題目連結: https://leetcode.com/problems/smallest-index-with-digit-sum-equal-to-index/description/?page=63  \n",
    "\n",
    "You are given an integer array nums.  \n",
    "Return the smallest index i such that the sum of the digits of nums[i] is equal to i.  \n",
    "If no such index exists, return -1.  \n",
    "\n",
    "範例:  \n",
    "Ex1:  \n",
    "Input: nums = [1,3,2] \n",
    "Output: 2  \n",
    "Explanation:  \n",
    "For nums[2] = 2, the sum of digits is 2, which is equal to index i = 2. Thus, the output is 2.  \n",
    "\n",
    "Ex2:  \n",
    "Input: nums = [1,10,11]  \n",
    "Output: 1  \n",
    "Explanation:  \n",
    "For nums[1] = 10, the sum of digits is 1 + 0 = 1, which is equal to index i = 1.  \n",
    "For nums[2] = 11, the sum of digits is 1 + 1 = 2, which is equal to index i = 2.  \n",
    "Since index 1 is the smallest, the output is 1.  \n",
    "\n",
    "Ex3:  \n",
    "Input: nums = [1,2,3]  \n",
    "Output: -1  \n",
    "Explanation:  \n",
    "Since no index satisfies the condition, the output is -1."
   ]
  },
  {
   "cell_type": "markdown",
   "id": "9e1d61b4-c56a-4a51-9e52-9c20fda854ce",
   "metadata": {},
   "source": [
    "* 解題想法:  \n",
    "用個迴圈來找出每個index與對應的數字為數總和是否相等，如果相等則回傳該index，如果最後都找不到該index則回傳-1"
   ]
  },
  {
   "cell_type": "code",
   "execution_count": null,
   "id": "a04380ff-2a0b-47d4-b8e8-f7f59fbadb61",
   "metadata": {},
   "outputs": [],
   "source": [
    "class Solution:\n",
    "    def smallestIndex(self, nums: List[int]) -> int:\n",
    "        for i in range(len(nums)):\n",
    "            n = nums[i]\n",
    "            s = 0\n",
    "            for j in str(n):\n",
    "                s += int(j)\n",
    "            if s == i:\n",
    "                return i\n",
    "        return -1"
   ]
  }
 ],
 "metadata": {
  "kernelspec": {
   "display_name": "Python 3 (ipykernel)",
   "language": "python",
   "name": "python3"
  },
  "language_info": {
   "codemirror_mode": {
    "name": "ipython",
    "version": 3
   },
   "file_extension": ".py",
   "mimetype": "text/x-python",
   "name": "python",
   "nbconvert_exporter": "python",
   "pygments_lexer": "ipython3",
   "version": "3.12.5"
  }
 },
 "nbformat": 4,
 "nbformat_minor": 5
}
