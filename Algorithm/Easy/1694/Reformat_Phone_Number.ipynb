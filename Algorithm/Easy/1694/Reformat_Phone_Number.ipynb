{
 "cells": [
  {
   "cell_type": "markdown",
   "metadata": {},
   "source": [
    "# 本題要找出將字串格式重新調整後的結果\n",
    "原題目連結: https://leetcode.com/problems/reformat-phone-number/  \n",
    "\n",
    "You are given a phone number as a string number. number consists of digits, spaces ' ', and/or dashes '-'.  \n",
    "\n",
    "You would like to reformat the phone number in a certain manner. Firstly, remove all spaces and dashes. Then, group the digits from left to right into blocks of length 3 until there are 4 or fewer digits. The final digits are then grouped as follows:  \n",
    "\n",
    "2 digits: A single block of length 2.  \n",
    "3 digits: A single block of length 3.  \n",
    "4 digits: Two blocks of length 2 each.  \n",
    "The blocks are then joined by dashes. Notice that the reformatting process should never produce any blocks of length 1 and produce at most two blocks of length 2.  \n",
    "\n",
    "Return the phone number after formatting.  \n",
    "\n",
    "範例:  \n",
    "Ex1:  \n",
    "Input: number = \"1-23-45 6\"  \n",
    "Output: \"123-456\"  \n",
    "Explanation: The digits are \"123456\".  \n",
    "Step 1: There are more than 4 digits, so group the next 3 digits. The 1st block is \"123\".  \n",
    "Step 2: There are 3 digits remaining, so put them in a single block of length 3. The 2nd block is \"456\".  \n",
    "Joining the blocks gives \"123-456\".  \n",
    "\n",
    "Ex2:  \n",
    "Input: number = \"123 4-567\"  \n",
    "Output: \"123-45-67\"  \n",
    "Explanation: The digits are \"1234567\".  \n",
    "Step 1: There are more than 4 digits, so group the next 3 digits. The 1st block is \"123\".  \n",
    "Step 2: There are 4 digits left, so split them into two blocks of length 2. The blocks are \"45\" and \"67\".  \n",
    "Joining the blocks gives \"123-45-67\".  \n",
    "\n",
    "Ex3:  \n",
    "Input: number = \"123 4-5678\"  \n",
    "Output: \"123-456-78\"  \n",
    "Explanation: The digits are \"12345678\".  \n",
    "Step 1: The 1st block is \"123\".  \n",
    "Step 2: The 2nd block is \"456\".  \n",
    "Step 3: There are 2 digits left, so put them in a single block of length 2. The 3rd block is \"78\".  \n",
    "Joining the blocks gives \"123-456-78\"."
   ]
  },
  {
   "cell_type": "markdown",
   "metadata": {},
   "source": [
    "* 解題想法:  \n",
    "在題目提供的字串中可能包還有空白或是'-'，因此需要先將這些都去除後得到一個乾淨的數字字串  \n",
    "接著將數字加入一個list中，藉由判斷list長度為2或為4的時候需要拆成兩個數字的字串，否則都是用三個數字來組成字串，並將字串加入另一個list中  \n",
    "最後將重新組合的字串用'-'組合起來回傳"
   ]
  },
  {
   "cell_type": "code",
   "execution_count": null,
   "metadata": {},
   "outputs": [],
   "source": [
    "class Solution:\n",
    "    def reformatNumber(self, number: str) -> str:\n",
    "        result = []\n",
    "        phone = ''\n",
    "        digits = []\n",
    "        nums = number.replace('-','').replace(' ','')\n",
    "        for m in range(len(nums)):\n",
    "            digits.append(nums[m])\n",
    "        while True:\n",
    "            if len(digits) >= 2:\n",
    "                if len(digits) == 2 or len(digits) == 4:\n",
    "                    temp = digits[0]+digits[1]\n",
    "                    result.append(temp)\n",
    "                    for a in range(2):\n",
    "                        digits.pop(0)\n",
    "                else:\n",
    "                    temp = digits[0] + digits[1] + digits[2]\n",
    "                    result.append(temp)\n",
    "                    for a in range(3):\n",
    "                        digits.pop(0)\n",
    "            else:\n",
    "                break\n",
    "        for n in range(len(result)):\n",
    "            phone += result[n] + '-'\n",
    "        return phone[:-1]\n",
    "            "
   ]
  }
 ],
 "metadata": {
  "kernelspec": {
   "display_name": "Python 3",
   "language": "python",
   "name": "python3"
  },
  "language_info": {
   "codemirror_mode": {
    "name": "ipython",
    "version": 3
   },
   "file_extension": ".py",
   "mimetype": "text/x-python",
   "name": "python",
   "nbconvert_exporter": "python",
   "pygments_lexer": "ipython3",
   "version": "3.7.6"
  }
 },
 "nbformat": 4,
 "nbformat_minor": 4
}
