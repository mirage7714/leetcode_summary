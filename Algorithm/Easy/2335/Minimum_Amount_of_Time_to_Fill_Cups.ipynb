{
 "cells": [
  {
   "cell_type": "markdown",
   "metadata": {},
   "source": [
    "# 本題要計算最少可以用幾次把杯子裝滿\n",
    "原題目連結: https://leetcode.com/problems/minimum-amount-of-time-to-fill-cups/  \n",
    "\n",
    "You have a water dispenser that can dispense cold, warm, and hot water. Every second, you can either fill up 2 cups with different types of water, or 1 cup of any type of water.  \n",
    "\n",
    "You are given a 0-indexed integer array amount of length 3 where amount[0], amount[1], and amount[2] denote the number of cold, warm, and hot water cups you need to fill respectively.   Return the minimum number of seconds needed to fill up all the cups.  \n",
    "\n",
    "範例:  \n",
    "Ex1:    \n",
    "Input: amount = [1,4,2]  \n",
    "Output: 4  \n",
    "Explanation: One way to fill up the cups is:  \n",
    "Second 1: Fill up a cold cup and a warm cup.  \n",
    "Second 2: Fill up a warm cup and a hot cup.  \n",
    "Second 3: Fill up a warm cup and a hot cup.  \n",
    "Second 4: Fill up a warm cup.  \n",
    "It can be proven that 4 is the minimum number of seconds needed.  \n",
    "\n",
    "Ex2:  \n",
    "Input: amount = [5,4,4]  \n",
    "Output: 7  \n",
    "Explanation: One way to fill up the cups is:  \n",
    "Second 1: Fill up a cold cup, and a hot cup.  \n",
    "Second 2: Fill up a cold cup, and a warm cup.  \n",
    "Second 3: Fill up a cold cup, and a warm cup.  \n",
    "Second 4: Fill up a warm cup, and a hot cup.  \n",
    "Second 5: Fill up a cold cup, and a hot cup.  \n",
    "Second 6: Fill up a cold cup, and a warm cup.  \n",
    "Second 7: Fill up a hot cup.  \n",
    "\n",
    "Ex3:  \n",
    "Input: amount = [5,0,0]  \n",
    "Output: 5  \n",
    "Explanation: Every second, we fill up a cold cup."
   ]
  },
  {
   "cell_type": "markdown",
   "metadata": {},
   "source": [
    "* 解題想法:  \n",
    "這邊使用一個while迴圈，先找出amount中的最大值與最小值，如果最小值為0的情況，則代表最少的次數會等於最大值的次數，否則就是最大值與最小值的兩個位置減1之後，再重新進行迴圈，直到最小值為0或是最大值為0的情況則終止迴圈"
   ]
  },
  {
   "cell_type": "code",
   "execution_count": null,
   "metadata": {},
   "outputs": [],
   "source": [
    "class Solution:\n",
    "    def fillCups(self, amount: List[int]) -> int:\n",
    "        count = 0\n",
    "        while True:\n",
    "            b = max(amount)\n",
    "            s = min(amount)\n",
    "            if s != 0:\n",
    "                amount[amount.index(b)] -= 1\n",
    "                amount[amount.index(s)] -= 1\n",
    "            else:\n",
    "                if b >= 0:\n",
    "                    count += b\n",
    "                    break\n",
    "            count += 1\n",
    "        return count"
   ]
  }
 ],
 "metadata": {
  "kernelspec": {
   "display_name": "Python 3",
   "language": "python",
   "name": "python3"
  },
  "language_info": {
   "codemirror_mode": {
    "name": "ipython",
    "version": 3
   },
   "file_extension": ".py",
   "mimetype": "text/x-python",
   "name": "python",
   "nbconvert_exporter": "python",
   "pygments_lexer": "ipython3",
   "version": "3.7.4"
  }
 },
 "nbformat": 4,
 "nbformat_minor": 4
}
