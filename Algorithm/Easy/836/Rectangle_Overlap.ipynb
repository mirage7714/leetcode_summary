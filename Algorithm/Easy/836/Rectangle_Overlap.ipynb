{
 "cells": [
  {
   "cell_type": "markdown",
   "id": "41f15c98-0a5f-411d-96a2-eaa876409c33",
   "metadata": {},
   "source": [
    "# 本題要判斷兩個長方形是否有重疊 (\\#Math)\n",
    "原題目連結: https://leetcode.com/problems/rectangle-overlap/description/  \n",
    "\n",
    "An axis-aligned rectangle is represented as a list [x1, y1, x2, y2], where (x1, y1) is the coordinate of its bottom-left corner, and (x2, y2) is the coordinate of its top-right corner. Its top and bottom edges are parallel to the X-axis, and its left and right edges are parallel to the Y-axis.  \n",
    "\n",
    "Two rectangles overlap if the area of their intersection is positive. To be clear, two rectangles that only touch at the corner or edges do not overlap.  \n",
    "\n",
    "Given two axis-aligned rectangles rec1 and rec2, return true if they overlap, otherwise return false.  \n",
    "\n",
    "範例:  \n",
    "Ex1:  \n",
    "Input: rec1 = [0,0,2,2], rec2 = [1,1,3,3]  \n",
    "Output: true  \n",
    "\n",
    "Ex2:  \n",
    "Input: rec1 = [0,0,1,1], rec2 = [1,0,2,1]  \n",
    "Output: false  \n",
    "\n",
    "Ex3:  \n",
    "Input: rec1 = [0,0,1,1], rec2 = [2,2,3,3]  \n",
    "Output: false"
   ]
  },
  {
   "cell_type": "markdown",
   "id": "e07269ec-1aea-419b-b396-e0fa336dda4a",
   "metadata": {},
   "source": [
    "* 解題想法:  \n",
    "要判斷兩個長方形有沒有重疊，首先從x軸的方向開始判斷，只要x軸不出現重疊，就一定不可能有重疊的機會，接著判斷y軸，如果y軸也沒出現重疊，就不可能出現重疊，排除這兩個之後，其他就是會重疊"
   ]
  },
  {
   "cell_type": "code",
   "execution_count": null,
   "id": "b3f16368-e602-4a6b-bcd3-f7f6efee93d8",
   "metadata": {},
   "outputs": [],
   "source": [
    "class Solution:\n",
    "    def isRectangleOverlap(self, rec1: List[int], rec2: List[int]) -> bool:\n",
    "        res = True\n",
    "        if rec1[1] >= rec2[3] or rec1[3] <= rec2[1]:\n",
    "            res = False\n",
    "        elif rec1[0] >= rec2[2] or rec1[2] <= rec2[0]:\n",
    "            res = False\n",
    "\n",
    "        return res"
   ]
  }
 ],
 "metadata": {
  "kernelspec": {
   "display_name": "Python 3 (ipykernel)",
   "language": "python",
   "name": "python3"
  },
  "language_info": {
   "codemirror_mode": {
    "name": "ipython",
    "version": 3
   },
   "file_extension": ".py",
   "mimetype": "text/x-python",
   "name": "python",
   "nbconvert_exporter": "python",
   "pygments_lexer": "ipython3",
   "version": "3.9.13"
  }
 },
 "nbformat": 4,
 "nbformat_minor": 5
}
