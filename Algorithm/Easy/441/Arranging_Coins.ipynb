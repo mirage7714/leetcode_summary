{
 "cells": [
  {
   "cell_type": "markdown",
   "metadata": {},
   "source": [
    "# 這題主要是找出整數n可以滿足多少遞增數列\n",
    "原題目連結: https://leetcode.com/problems/arranging-coins/  \n",
    "\n",
    "範例:  \n",
    "Ex1:  \n",
    "n = 5  \n",
    "\n",
    "The coins can form the following rows:  \n",
    "¤  \n",
    "¤ ¤  \n",
    "¤ ¤  \n",
    "\n",
    "Because the 3rd row is incomplete, we return 2.  \n",
    "\n",
    "Ex2:  \n",
    "n = 8  \n",
    "\n",
    "The coins can form the following rows:  \n",
    "¤  \n",
    "¤ ¤  \n",
    "¤ ¤ ¤  \n",
    "¤ ¤  \n",
    "\n",
    "Because the 4th row is incomplete, we return 3.  "
   ]
  },
  {
   "cell_type": "markdown",
   "metadata": {},
   "source": [
    "* 解題想法:  \n",
    "雖然題目敘述內容有點複雜，但其實就是找出1+2+...K <= N 的這個限制  \n",
    "因此就是用迴圈找出K值"
   ]
  },
  {
   "cell_type": "code",
   "execution_count": null,
   "metadata": {},
   "outputs": [],
   "source": [
    "class Solution:\n",
    "    def arrangeCoins(self, n: int) -> int:\n",
    "        total = 0\n",
    "        row = 1\n",
    "        while True:\n",
    "            if n >= row:\n",
    "                total += 1\n",
    "                n = n - row\n",
    "                row += 1\n",
    "            elif n < row:\n",
    "                break\n",
    "        return total"
   ]
  }
 ],
 "metadata": {
  "kernelspec": {
   "display_name": "Python 3",
   "language": "python",
   "name": "python3"
  },
  "language_info": {
   "codemirror_mode": {
    "name": "ipython",
    "version": 3
   },
   "file_extension": ".py",
   "mimetype": "text/x-python",
   "name": "python",
   "nbconvert_exporter": "python",
   "pygments_lexer": "ipython3",
   "version": "3.7.4"
  }
 },
 "nbformat": 4,
 "nbformat_minor": 2
}
