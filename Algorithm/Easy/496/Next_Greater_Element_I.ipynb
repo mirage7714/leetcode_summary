{
 "cells": [
  {
   "cell_type": "markdown",
   "metadata": {},
   "source": [
    "# 本題要找出在nums1中的數字，在nums2中是否有大於他的值\n",
    "原題目連結: https://leetcode.com/problems/next-greater-element-i/  \n",
    "\n",
    "範例:  \n",
    "Ex1:  \n",
    "Input: nums1 = [4,1,2], nums2 = [1,3,4,2].  \n",
    "Output: [-1,3,-1]  \n",
    "Explanation:\n",
    "    For number 4 in the first array, you cannot find the next greater number for it in the second array, so output -1.  \n",
    "    For number 1 in the first array, the next greater number for it in the second array is 3.  \n",
    "    For number 2 in the first array, there is no next greater number for it in the second array, so output -1.  \n",
    "    \n",
    "Ex2:  \n",
    "Input: nums1 = [2,4], nums2 = [1,2,3,4].  \n",
    "Output: [3,-1]  \n",
    "Explanation:  \n",
    "    For number 2 in the first array, the next greater number for it in the second array is 3.  \n",
    "    For number 4 in the first array, there is no next greater number for it in the second array, so output -1."
   ]
  },
  {
   "cell_type": "markdown",
   "metadata": {},
   "source": [
    "* 解題想法:  \n",
    "剛開始花了不少時間理解題目要求的東西，原本以為是在對應的位置後找出是否有大於所求數字  \n",
    "但後來仔細看了幾個test case後，發現題目想要求的應該是在nums1中的數字，對應到nums2中的index後是否有大於這個數字的值  \n",
    "如果有則回傳數字，否則回傳-1"
   ]
  },
  {
   "cell_type": "code",
   "execution_count": null,
   "metadata": {},
   "outputs": [],
   "source": [
    "class Solution:\n",
    "    def nextGreaterElement(self, nums1: List[int], nums2: List[int]) -> List[int]:\n",
    "        result = []\n",
    "        for m in range(len(nums1)):\n",
    "            is_exist = True\n",
    "            for n in range(nums2.index(nums1[m]), len(nums2)):             \n",
    "                if nums2[n] > nums1[m]:\n",
    "                    result.append(nums2[n])\n",
    "                    is_exist = False\n",
    "                    break\n",
    "            if is_exist :\n",
    "                result.append(-1)\n",
    "        return result"
   ]
  }
 ],
 "metadata": {
  "kernelspec": {
   "display_name": "Python 3",
   "language": "python",
   "name": "python3"
  },
  "language_info": {
   "codemirror_mode": {
    "name": "ipython",
    "version": 3
   },
   "file_extension": ".py",
   "mimetype": "text/x-python",
   "name": "python",
   "nbconvert_exporter": "python",
   "pygments_lexer": "ipython3",
   "version": "3.7.4"
  }
 },
 "nbformat": 4,
 "nbformat_minor": 2
}
