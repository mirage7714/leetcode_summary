{
 "cells": [
  {
   "cell_type": "markdown",
   "id": "32406fa7-92f3-4f90-8bab-7bc226ddd0e3",
   "metadata": {},
   "source": [
    "# 本題要找出最早結束工作的時間為何 (\\#Array )\n",
    "原題目連結：https://leetcode.com/problems/earliest-time-to-finish-one-task/description/ \n",
    "\n",
    "You are given a 2D integer array tasks where tasks[i] = [si, ti].  \n",
    "Each [si, ti] in tasks represents a task with start time si that takes ti units of time to finish.  \n",
    "Return the earliest time at which at least one task is finished.  \n",
    "\n",
    "範例：  \n",
    "Ex1:  \n",
    "Input: tasks = [[1,6],[2,3]]  \n",
    "Output: 5  \n",
    "Explanation:  \n",
    "The first task starts at time t = 1 and finishes at time 1 + 6 = 7. The second task finishes at time 2 + 3 = 5. You can finish one task at time 5.  \n",
    "\n",
    "Ex2:  \n",
    "Input: tasks = [[100,100],[100,100],[100,100]]  \n",
    "Output: 200  \n",
    "Explanation:  \n",
    "All three tasks finish at time 100 + 100 = 200.  "
   ]
  },
  {
   "cell_type": "markdown",
   "id": "5804758d-35d7-4408-ac22-1fd0bb6927c0",
   "metadata": {},
   "source": [
    "* 解題想法：  \n",
    "兩數相加後就是結束時間，用迴圈找出最小的結束時間就是答案"
   ]
  },
  {
   "cell_type": "code",
   "execution_count": null,
   "id": "c530c5d2-07c9-43d0-b6a3-20c5cec747f6",
   "metadata": {},
   "outputs": [],
   "source": [
    "class Solution:\n",
    "    def earliestTime(self, tasks: List[List[int]]) -> int:\n",
    "        res = inf\n",
    "        for t in tasks:\n",
    "            res = min(res, t[0] + t[1])\n",
    "        return res"
   ]
  }
 ],
 "metadata": {
  "kernelspec": {
   "display_name": "Python 3 (ipykernel)",
   "language": "python",
   "name": "python3"
  },
  "language_info": {
   "codemirror_mode": {
    "name": "ipython",
    "version": 3
   },
   "file_extension": ".py",
   "mimetype": "text/x-python",
   "name": "python",
   "nbconvert_exporter": "python",
   "pygments_lexer": "ipython3",
   "version": "3.10.9"
  }
 },
 "nbformat": 4,
 "nbformat_minor": 5
}
