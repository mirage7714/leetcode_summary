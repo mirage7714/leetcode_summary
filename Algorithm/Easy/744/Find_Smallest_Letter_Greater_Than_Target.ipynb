{
 "cells": [
  {
   "cell_type": "markdown",
   "metadata": {},
   "source": [
    "# 本題要找出大於題目要求的字母中，排序最前面的字母\n",
    "原題目連結: https://leetcode.com/problems/find-smallest-letter-greater-than-target/  \n",
    "\n",
    "Given a list of sorted characters letters containing only lowercase letters, and given a target letter target, find the smallest element in the list that is larger than the given target.  \n",
    "\n",
    "Letters also wrap around. For example, if the target is target = 'z' and letters = ['a', 'b'], the answer is 'a'.  \n",
    "\n",
    "範例:  \n",
    "Ex1:  \n",
    "Input:  \n",
    "letters = [\"c\", \"f\", \"j\"]  \n",
    "target = \"a\"  \n",
    "Output: \"c\"  \n",
    "\n",
    "Ex2:  \n",
    "Input:  \n",
    "letters = [\"c\", \"f\", \"j\"]  \n",
    "target = \"c\"  \n",
    "Output: \"f\"  \n",
    "\n",
    "Ex3:  \n",
    "Input:  \n",
    "letters = [\"c\", \"f\", \"j\"]  \n",
    "target = \"d\"  \n",
    "Output: \"f\"  \n",
    "\n",
    "Ex4:  \n",
    "Input:  \n",
    "letters = [\"c\", \"f\", \"j\"]  \n",
    "target = \"g\"  \n",
    "Output: \"j\"  \n",
    "\n",
    "Ex5:  \n",
    "Input:  \n",
    "letters = [\"c\", \"f\", \"j\"]  \n",
    "target = \"j\"  \n",
    "Output: \"c\"  \n",
    "\n",
    "Ex6:  \n",
    "Input:  \n",
    "letters = [\"c\", \"f\", \"j\"]  \n",
    "target = \"k\"  \n",
    "Output: \"c\"  "
   ]
  },
  {
   "cell_type": "markdown",
   "metadata": {},
   "source": [
    "* 解題想法:  \n",
    "雖然字母應該是可以直接做大小比較，但為了保險起見，還是先將字母轉換為對應的數字後，在對數字進行比大小  \n",
    "如果index c的數字比題目要求的大，而c-1則小於題目要求，則回傳C值所代表的字母  \n",
    "如果所有數字都比題目要求的大或是小，則代表要回傳的是list中的第一個數字"
   ]
  },
  {
   "cell_type": "code",
   "execution_count": null,
   "metadata": {},
   "outputs": [],
   "source": [
    "class Solution:\n",
    "    def nextGreatestLetter(self, letters: List[str], target: str) -> str:\n",
    "        chars = {\n",
    "            'a':1,'b':2,'c':3,'d':4,'e':5,'f':6,'g':7,'h':8,'i':9,'j':10,'k':11,\n",
    "            'l':12,'m':13,'n':14,'o':15,'p':16,'q':17,'r':18,'s':19,'t':20,'u':21,\n",
    "            'v':22,'w':23,'x':24,'y':25,'z':26\n",
    "        }\n",
    "        convert = []\n",
    "        result = []\n",
    "        for l in letters:\n",
    "            convert.append(chars[l])\n",
    "        convert.sort()\n",
    "        target_int = chars[target]\n",
    "        is_exist = False\n",
    "        for c in range(len(convert)):\n",
    "            if convert[c] > target_int:\n",
    "                if c > 0 and convert[c-1] <= target_int:\n",
    "                    result.append(convert[c])\n",
    "                    is_exist = True\n",
    "        if not is_exist:\n",
    "            result.append(convert[0])\n",
    "        for key, value in chars.items():\n",
    "            if result[0] == value:\n",
    "                return key"
   ]
  }
 ],
 "metadata": {
  "kernelspec": {
   "display_name": "Python 3",
   "language": "python",
   "name": "python3"
  },
  "language_info": {
   "codemirror_mode": {
    "name": "ipython",
    "version": 3
   },
   "file_extension": ".py",
   "mimetype": "text/x-python",
   "name": "python",
   "nbconvert_exporter": "python",
   "pygments_lexer": "ipython3",
   "version": "3.7.4"
  }
 },
 "nbformat": 4,
 "nbformat_minor": 2
}
