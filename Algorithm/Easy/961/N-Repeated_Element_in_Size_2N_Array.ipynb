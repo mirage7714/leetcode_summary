{
 "cells": [
  {
   "cell_type": "markdown",
   "metadata": {},
   "source": [
    "# 本題要找出在array中，出現次數為N次的數字\n",
    "原題目連結： https://leetcode.com/problems/n-repeated-element-in-size-2n-array/ \n",
    "\n",
    "In a array A of size 2N, there are N+1 unique elements, and exactly one of these elements is repeated N times.  \n",
    "Return the element repeated N times.  \n",
    "\n",
    "範例：  \n",
    "Ex1:  \n",
    "Input: [1,2,3,3]  \n",
    "Output: 3  \n",
    "\n",
    "Ex2:  \n",
    "Input: [2,1,2,5,3,2]  \n",
    "Output: 2  \n",
    "\n",
    "Ex3:  \n",
    "Input: [5,1,5,2,5,3,5,4]  \n",
    "Output: 5"
   ]
  },
  {
   "cell_type": "markdown",
   "metadata": {},
   "source": [
    "* 解題想法：  \n",
    "因為題目中說只有剛好一個數字出現的次數會是N次，因此統計所有數字出現頻率之後，將出現次數為list長度一半的數字找出就是這題需要的答案"
   ]
  },
  {
   "cell_type": "code",
   "execution_count": null,
   "metadata": {},
   "outputs": [],
   "source": [
    "class Solution:\n",
    "    def repeatedNTimes(self, A: List[int]) -> int:\n",
    "        freq = {}\n",
    "        result = 0\n",
    "        for a in A:\n",
    "            if a not in freq.keys():\n",
    "                freq[a] = 1\n",
    "            else:\n",
    "                freq[a] += 1\n",
    "        for key in freq.keys():\n",
    "            if freq[key] == int(len(A) / 2):\n",
    "                result = key\n",
    "                break\n",
    "                \n",
    "        return key"
   ]
  }
 ],
 "metadata": {
  "kernelspec": {
   "display_name": "Python 3",
   "language": "python",
   "name": "python3"
  },
  "language_info": {
   "codemirror_mode": {
    "name": "ipython",
    "version": 3
   },
   "file_extension": ".py",
   "mimetype": "text/x-python",
   "name": "python",
   "nbconvert_exporter": "python",
   "pygments_lexer": "ipython3",
   "version": "3.8.3"
  }
 },
 "nbformat": 4,
 "nbformat_minor": 4
}
