{
 "cells": [
  {
   "cell_type": "markdown",
   "id": "9cfdf5d3-016c-44dd-b8fe-c6d34025762e",
   "metadata": {},
   "source": [
    "# 本題要找出停車位使用的長度共有多少  (\\#Array )\n",
    "原題目連結：https://leetcode.com/problems/points-that-intersect-with-cars/description/  \n",
    "\n",
    "You are given a 0-indexed 2D integer array nums representing the coordinates of the cars parking on a number line. For any index i, nums[i] = [starti, endi] where starti is the starting point of the ith car and endi is the ending point of the ith car.  \n",
    "\n",
    "Return the number of integer points on the line that are covered with any part of a car.  \n",
    "\n",
    "範例:  \n",
    "Ex1:  \n",
    "Input: nums = [[3,6],[1,5],[4,7]]  \n",
    "Output: 7  \n",
    "Explanation: All the points from 1 to 7 intersect at least one car, therefore the answer would be 7.  \n",
    "\n",
    "Ex2:  \n",
    "Input: nums = [[1,3],[5,8]]  \n",
    "Output: 7  \n",
    "Explanation: Points intersecting at least one car are 1, 2, 3, 5, 6, 7, 8. There are a total of 7 points, therefore the answer would be 7."
   ]
  },
  {
   "cell_type": "markdown",
   "id": "a4ee37e9-0633-42cc-8fa6-df4233fca62e",
   "metadata": {},
   "source": [
    "* 解題想法：  \n",
    "首先建立一個set，接著將指定區間內的數值加入set中，最後回傳set的長度就是答案"
   ]
  },
  {
   "cell_type": "code",
   "execution_count": null,
   "id": "03daebc4-d93b-492a-ae93-f52d57567492",
   "metadata": {},
   "outputs": [],
   "source": [
    "class Solution:\n",
    "    def numberOfPoints(self, nums: List[List[int]]) -> int:\n",
    "        points = set()\n",
    "        for n in nums:\n",
    "            for i in range(n[0], n[1] + 1):\n",
    "                points.add(i)\n",
    "        return len(points)"
   ]
  }
 ],
 "metadata": {
  "kernelspec": {
   "display_name": "Python 3 (ipykernel)",
   "language": "python",
   "name": "python3"
  },
  "language_info": {
   "codemirror_mode": {
    "name": "ipython",
    "version": 3
   },
   "file_extension": ".py",
   "mimetype": "text/x-python",
   "name": "python",
   "nbconvert_exporter": "python",
   "pygments_lexer": "ipython3",
   "version": "3.10.9"
  }
 },
 "nbformat": 4,
 "nbformat_minor": 5
}
