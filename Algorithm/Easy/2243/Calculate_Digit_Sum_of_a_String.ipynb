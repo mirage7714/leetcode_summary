{
 "cells": [
  {
   "cell_type": "markdown",
   "metadata": {},
   "source": [
    "# 本題要將指定的字串縮減為指定的長度\n",
    "原題目連結: https://leetcode.com/problems/calculate-digit-sum-of-a-string/  \n",
    "\n",
    "You are given a string s consisting of digits and an integer k.  \n",
    "\n",
    "A round can be completed if the length of s is greater than k. In one round, do the following:  \n",
    "\n",
    "Divide s into consecutive groups of size k such that the first k characters are in the first group, the next k characters are in the second group, and so on. Note that the size of the last group can be smaller than k.  \n",
    "Replace each group of s with a string representing the sum of all its digits. For example, \"346\" is replaced with \"13\" because 3 + 4 + 6 = 13.  \n",
    "Merge consecutive groups together to form a new string. If the length of the string is greater than k, repeat from step 1.  \n",
    "Return s after all rounds have been completed.  \n",
    "\n",
    "範例:  \n",
    "Ex1:  \n",
    "Input: s = \"11111222223\", k = 3  \n",
    "Output: \"135\"  \n",
    "Explanation:   \n",
    "- For the first round, we divide s into groups of size 3: \"111\", \"112\", \"222\", and \"23\".  \n",
    "  ​​​​​Then we calculate the digit sum of each group: 1 + 1 + 1 = 3, 1 + 1 + 2 = 4, 2 + 2 + 2 = 6, and 2 + 3 = 5.   \n",
    "  So, s becomes \"3\" + \"4\" + \"6\" + \"5\" = \"3465\" after the first round.  \n",
    "- For the second round, we divide s into \"346\" and \"5\".  \n",
    "  Then we calculate the digit sum of each group: 3 + 4 + 6 = 13, 5 = 5.   \n",
    "  So, s becomes \"13\" + \"5\" = \"135\" after second round.   \n",
    "Now, s.length <= k, so we return \"135\" as the answer.  \n",
    "\n",
    "Ex2:  \n",
    "Input: s = \"00000000\", k = 3  \n",
    "Output: \"000\"  \n",
    "Explanation:   \n",
    "We divide s into \"000\", \"000\", and \"00\".  \n",
    "Then we calculate the digit sum of each group: 0 + 0 + 0 = 0, 0 + 0 + 0 = 0, and 0 + 0 = 0.   \n",
    "s becomes \"0\" + \"0\" + \"0\" = \"000\", whose length is equal to k, so we return \"000\"."
   ]
  },
  {
   "cell_type": "markdown",
   "metadata": {},
   "source": [
    "* 解題想法:  \n",
    "首先用一個while迴圈來判斷當長度超過指定長度的時候，則繼續執行迴圈，接著將指定長度的子字串和找出後，重新建立新的字串，最後回傳新的字串就是題目要求的答案"
   ]
  },
  {
   "cell_type": "code",
   "execution_count": null,
   "metadata": {},
   "outputs": [],
   "source": [
    "class Solution:\n",
    "    def digitSum(self, s: str, k: int) -> str:\n",
    "        while len(s) > k:\n",
    "            temp = ''\n",
    "            for m in range(0, len(s), k):\n",
    "                total = 0\n",
    "                part = s[m:m+k]\n",
    "                for p in part:\n",
    "                    total += int(p)\n",
    "                temp += str(total)\n",
    "            s = temp\n",
    "        return s"
   ]
  }
 ],
 "metadata": {
  "kernelspec": {
   "display_name": "Python 3",
   "language": "python",
   "name": "python3"
  },
  "language_info": {
   "codemirror_mode": {
    "name": "ipython",
    "version": 3
   },
   "file_extension": ".py",
   "mimetype": "text/x-python",
   "name": "python",
   "nbconvert_exporter": "python",
   "pygments_lexer": "ipython3",
   "version": "3.7.4"
  }
 },
 "nbformat": 4,
 "nbformat_minor": 4
}
