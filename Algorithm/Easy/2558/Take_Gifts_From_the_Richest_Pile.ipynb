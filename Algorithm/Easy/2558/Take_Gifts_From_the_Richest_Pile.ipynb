{
 "cells": [
  {
   "cell_type": "markdown",
   "id": "46433b4d-5a12-49b8-a8a7-1615812387a5",
   "metadata": {},
   "source": [
    "# 本題要找出最後剩下的禮物數量為多少 (\\#Array, \\#Heap)\n",
    "原題目連結: https://leetcode.com/problems/take-gifts-from-the-richest-pile/description/  \n",
    "\n",
    "You are given an integer array gifts denoting the number of gifts in various piles. Every second, you do the following:  \n",
    "\n",
    "Choose the pile with the maximum number of gifts.  \n",
    "If there is more than one pile with the maximum number of gifts, choose any.  \n",
    "Leave behind the floor of the square root of the number of gifts in the pile. Take the rest of the gifts.  \n",
    "Return the number of gifts remaining after k seconds.  \n",
    "\n",
    "範例:  \n",
    "Ex1:  \n",
    "Input: gifts = [25,64,9,4,100], k = 4  \n",
    "Output: 29\n",
    "Explanation:   \n",
    "The gifts are taken in the following way:  \n",
    "- In the first second, the last pile is chosen and 10 gifts are left behind.  \n",
    "- Then the second pile is chosen and 8 gifts are left behind.  \n",
    "- After that the first pile is chosen and 5 gifts are left behind.  \n",
    "- Finally, the last pile is chosen again and 3 gifts are left behind.  \n",
    "The final remaining gifts are [5,8,9,4,3], so the total number of gifts remaining is 29.  \n",
    "\n",
    "Ex2:  \n",
    "Input: gifts = [1,1,1,1], k = 4  \n",
    "Output: 4  \n",
    "Explanation:   \n",
    "In this case, regardless which pile you choose, you have to leave behind 1 gift in each pile.   \n",
    "That is, you can't take any pile with you.   \n",
    "So, the total gifts remaining are 4."
   ]
  },
  {
   "cell_type": "markdown",
   "id": "532c4105-018c-4b09-981e-e1e179edd4dc",
   "metadata": {},
   "source": [
    "* 解題想法:  \n",
    "首先將gifts轉成heap，接著開始從最大的數值開始取出，取平方根後放回heap中，最後將剩下的數值加總後就是答案"
   ]
  },
  {
   "cell_type": "code",
   "execution_count": null,
   "id": "75e5ac96-6eb4-4470-b126-b4721a6ea999",
   "metadata": {},
   "outputs": [],
   "source": [
    "import heapq\n",
    "\n",
    "class Solution:\n",
    "    def pickGifts(self, gifts: List[int], k: int) -> int:\n",
    "        res = 0\n",
    "        temp = [-g for g in gifts]        \n",
    "        heapq.heapify(temp)\n",
    "        for _ in range(k):\n",
    "            n = -heapq.heappop(temp)\n",
    "            l = int(sqrt(n))\n",
    "            heapq.heappush(temp, -l)\n",
    "        for t in temp:\n",
    "            res += -t\n",
    "        return res"
   ]
  }
 ],
 "metadata": {
  "kernelspec": {
   "display_name": "Python 3 (ipykernel)",
   "language": "python",
   "name": "python3"
  },
  "language_info": {
   "codemirror_mode": {
    "name": "ipython",
    "version": 3
   },
   "file_extension": ".py",
   "mimetype": "text/x-python",
   "name": "python",
   "nbconvert_exporter": "python",
   "pygments_lexer": "ipython3",
   "version": "3.9.13"
  }
 },
 "nbformat": 4,
 "nbformat_minor": 5
}
