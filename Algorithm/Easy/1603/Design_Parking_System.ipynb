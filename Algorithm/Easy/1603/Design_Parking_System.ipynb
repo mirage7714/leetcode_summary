{
 "cells": [
  {
   "cell_type": "markdown",
   "metadata": {},
   "source": [
    "# 本題要設計一個停車系統，並檢查新來的車輛是否可以停進去\n",
    "原題目連結: https://leetcode.com/problems/design-parking-system/  \n",
    "\n",
    "Design a parking system for a parking lot. The parking lot has three kinds of parking spaces: big, medium, and small, with a fixed number of slots for each size.  \n",
    "\n",
    "Implement the ParkingSystem class:  \n",
    "\n",
    "ParkingSystem(int big, int medium, int small) Initializes object of the ParkingSystem class. The number of slots for each parking space are given as part of the constructor.  \n",
    "bool addCar(int carType) Checks whether there is a parking space of carType for the car that wants to get into the parking lot. carType can be of three kinds: big, medium, or small, which are represented by 1, 2, and 3 respectively. A car can only park in a parking space of its carType. If there is no space available, return false, else park the car in that size space and return true.  \n",
    "\n",
    "範例:  \n",
    "Ex1:  \n",
    "Input  \n",
    "[\"ParkingSystem\", \"addCar\", \"addCar\", \"addCar\", \"addCar\"]  \n",
    "[[1, 1, 0], [1], [2], [3], [1]]  \n",
    "Output  \n",
    "[null, true, true, false, false]  \n",
    "\n",
    "Explanation  \n",
    "ParkingSystem parkingSystem = new ParkingSystem(1, 1, 0);  \n",
    "parkingSystem.addCar(1); // return true because there is 1 available slot for a big car  \n",
    "parkingSystem.addCar(2); // return true because there is 1 available slot for a medium car  \n",
    "parkingSystem.addCar(3); // return false because there is no available slot for a small car  \n",
    "parkingSystem.addCar(1); // return false because there is no available slot for a big car. It is already occupied."
   ]
  },
  {
   "cell_type": "markdown",
   "metadata": {},
   "source": [
    "* 解題想法:  \n",
    "依題目說明，車子共有大中小三種尺寸，因此先建立一個dict來分別記錄可存放以及已經存放的車輛數，接著當新的車輛進來時，先依車型找出可用空間是否足夠，如果沒空間則回傳False，否則回傳True並將已經存放車輛數更新"
   ]
  },
  {
   "cell_type": "code",
   "execution_count": null,
   "metadata": {},
   "outputs": [],
   "source": [
    "class ParkingSystem:\n",
    "\n",
    "    def __init__(self, big: int, medium: int, small: int):\n",
    "        self.park = {1: [big,0], 2: [medium,0], 3: [small, 0]}\n",
    "\n",
    "    def addCar(self, carType: int) -> bool:\n",
    "        is_available = True\n",
    "        pool = self.park[carType]\n",
    "        if pool[0] < pool[1] + 1:\n",
    "            is_available = False\n",
    "        else:\n",
    "            pool[1] += 1\n",
    "            self.park[carType] = pool\n",
    "        return is_available\n",
    "\n",
    "\n",
    "# Your ParkingSystem object will be instantiated and called as such:\n",
    "# obj = ParkingSystem(big, medium, small)\n",
    "# param_1 = obj.addCar(carType)"
   ]
  }
 ],
 "metadata": {
  "kernelspec": {
   "display_name": "Python 3",
   "language": "python",
   "name": "python3"
  },
  "language_info": {
   "codemirror_mode": {
    "name": "ipython",
    "version": 3
   },
   "file_extension": ".py",
   "mimetype": "text/x-python",
   "name": "python",
   "nbconvert_exporter": "python",
   "pygments_lexer": "ipython3",
   "version": "3.7.4"
  }
 },
 "nbformat": 4,
 "nbformat_minor": 2
}
