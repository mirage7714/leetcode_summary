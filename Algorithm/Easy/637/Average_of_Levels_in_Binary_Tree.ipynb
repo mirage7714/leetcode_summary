{
 "cells": [
  {
   "cell_type": "markdown",
   "metadata": {},
   "source": [
    "# 本題要找出樹中每一層的平均值為何\n",
    "原題目連結: https://leetcode.com/problems/average-of-levels-in-binary-tree/  \n",
    "\n",
    "Given the root of a binary tree, return the average value of the nodes on each level in the form of an array. Answers within 10-5 of the actual answer will be accepted.  \n",
    "\n",
    "範例:  \n",
    "Ex1:  \n",
    "Input: root = [3,9,20,null,null,15,7]  \n",
    "Output: [3.00000,14.50000,11.00000]  \n",
    "Explanation: The average value of nodes on level 0 is 3, on level 1 is 14.5, and on level 2 is 11.  \n",
    "Hence return [3, 14.5, 11].  \n",
    "\n",
    "Ex2:  \n",
    "Input: root = [3,9,20,15,7]  \n",
    "Output: [3.00000,14.50000,11.00000]"
   ]
  },
  {
   "cell_type": "markdown",
   "metadata": {},
   "source": [
    "* 解題想法:  \n",
    "由於要計算出每一層的平均值，需要使用BFS來進行走訪，首先用一個值來統計每一層的總和，另外用一個值來統計共有多少個數值，最後找出平均數之後放入一個list中，最後回傳list就是題目要找的答案"
   ]
  },
  {
   "cell_type": "code",
   "execution_count": null,
   "metadata": {},
   "outputs": [],
   "source": [
    "# Definition for a binary tree node.\n",
    "# class TreeNode:\n",
    "#     def __init__(self, val=0, left=None, right=None):\n",
    "#         self.val = val\n",
    "#         self.left = left\n",
    "#         self.right = right\n",
    "class Solution:\n",
    "    def averageOfLevels(self, root: Optional[TreeNode]) -> List[float]:\n",
    "        result = []\n",
    "        stack = [root]\n",
    "        while stack:\n",
    "            node = []\n",
    "            total = 0\n",
    "            count = 0\n",
    "            for s in stack:\n",
    "                total += s.val\n",
    "                count += 1\n",
    "                if s.left:\n",
    "                    node.append(s.left)\n",
    "                if s.right:\n",
    "                    node.append(s.right)\n",
    "            result.append(total / count)\n",
    "            stack.clear()\n",
    "            stack += node\n",
    "        return result"
   ]
  }
 ],
 "metadata": {
  "kernelspec": {
   "display_name": "Python 3",
   "language": "python",
   "name": "python3"
  },
  "language_info": {
   "codemirror_mode": {
    "name": "ipython",
    "version": 3
   },
   "file_extension": ".py",
   "mimetype": "text/x-python",
   "name": "python",
   "nbconvert_exporter": "python",
   "pygments_lexer": "ipython3",
   "version": "3.7.4"
  }
 },
 "nbformat": 4,
 "nbformat_minor": 4
}
