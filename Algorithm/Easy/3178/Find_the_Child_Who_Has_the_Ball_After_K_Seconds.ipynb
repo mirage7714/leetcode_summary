{
 "cells": [
  {
   "cell_type": "markdown",
   "id": "f4664baf-32e3-44f0-a9a6-2b66d5f7b0d8",
   "metadata": {},
   "source": [
    "# 本題要找出球最後在誰的手上 (\\#Math )\n",
    "原題目連結: https://leetcode.com/problems/find-the-child-who-has-the-ball-after-k-seconds/description/  \n",
    "\n",
    "You are given two positive integers n and k. There are n children numbered from 0 to n - 1 standing in a queue in order from left to right.  \n",
    "Initially, child 0 holds a ball and the direction of passing the ball is towards the right direction. After each second, the child holding the ball passes it to the child next to them. Once the ball reaches either end of the line, i.e. child 0 or child n - 1, the direction of passing is reversed.  \n",
    "Return the number of the child who receives the ball after k seconds.  \n",
    "\n",
    "範例:  \n",
    "Ex1:  \n",
    "Input: n = 3, k = 5  \n",
    "Output: 1  \n",
    "\n",
    "Ex2:  \n",
    "Input: n = 5, k = 6  \n",
    "Output: 2  \n",
    "\n",
    "Ex3:  \n",
    "Input: n = 4, k = 2   \n",
    "Output: 2"
   ]
  },
  {
   "cell_type": "markdown",
   "id": "b78f1589-c3e7-4243-8f02-65a67a16c012",
   "metadata": {},
   "source": [
    "* 解題想法:  \n",
    "首先找出共需要繞的圈數並找出最後剩下不滿一趟的步數為多少，接著檢查剩下的步數會傳球到誰的手上就是答案"
   ]
  },
  {
   "cell_type": "code",
   "execution_count": null,
   "id": "379a5e1c-16e6-4b06-b529-66f4678e9c2e",
   "metadata": {},
   "outputs": [],
   "source": [
    "class Solution:\n",
    "    def numberOfChild(self, n: int, k: int) -> int:\n",
    "        m = n + (n -2)\n",
    "        k = k % m\n",
    "        start = 0\n",
    "        is_forward = True\n",
    "        for i in range(k):\n",
    "            if start < n-1 and is_forward:\n",
    "                start += 1\n",
    "            elif is_forward and start == n -1:\n",
    "                start -= 1\n",
    "                is_forward = False\n",
    "            elif not is_forward:\n",
    "                start -= 1\n",
    "        return start"
   ]
  }
 ],
 "metadata": {
  "kernelspec": {
   "display_name": "Python 3 (ipykernel)",
   "language": "python",
   "name": "python3"
  },
  "language_info": {
   "codemirror_mode": {
    "name": "ipython",
    "version": 3
   },
   "file_extension": ".py",
   "mimetype": "text/x-python",
   "name": "python",
   "nbconvert_exporter": "python",
   "pygments_lexer": "ipython3",
   "version": "3.9.13"
  }
 },
 "nbformat": 4,
 "nbformat_minor": 5
}
