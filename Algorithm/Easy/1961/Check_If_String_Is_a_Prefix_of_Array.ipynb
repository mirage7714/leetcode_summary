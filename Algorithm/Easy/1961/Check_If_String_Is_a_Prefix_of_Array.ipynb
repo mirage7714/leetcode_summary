{
 "cells": [
  {
   "cell_type": "markdown",
   "metadata": {},
   "source": [
    "# 本題要判斷能否從字根中組成題目要求的字串\n",
    "原題目連結: https://leetcode.com/problems/check-if-string-is-a-prefix-of-array/  \n",
    "\n",
    "Given a string s and an array of strings words, determine whether s is a prefix string of words.  \n",
    "\n",
    "A string s is a prefix string of words if s can be made by concatenating the first k strings in words for some positive k no larger than words.length.  \n",
    "\n",
    "Return true if s is a prefix string of words, or false otherwise.  \n",
    "\n",
    "範例:  \n",
    "Ex1:  \n",
    "Input: s = \"iloveleetcode\", words = [\"i\",\"love\",\"leetcode\",\"apples\"]  \n",
    "Output: true  \n",
    "Explanation:  \n",
    "s can be made by concatenating \"i\", \"love\", and \"leetcode\" together.  \n",
    "\n",
    "Ex2:  \n",
    "Input: s = \"iloveleetcode\", words = [\"apples\",\"i\",\"love\",\"leetcode\"]  \n",
    "Output: false  \n",
    "Explanation:  \n",
    "It is impossible to make s using a prefix of arr."
   ]
  },
  {
   "cell_type": "markdown",
   "metadata": {},
   "source": [
    "* 解題想法:  \n",
    "由於題目要求要用所有的字根去組成完全相同的字，因此在組合出來的字長度大於或等於比較字之後中斷迴圈，並將組出來的字與原本的字進行比較，如果相同則回傳True，否則回傳False"
   ]
  },
  {
   "cell_type": "code",
   "execution_count": null,
   "metadata": {},
   "outputs": [],
   "source": [
    "class Solution:\n",
    "    def isPrefixString(self, s: str, words: List[str]) -> bool:\n",
    "        is_valid = False\n",
    "        temp = ''\n",
    "        for m in range(len(words)):\n",
    "            temp += words[m]\n",
    "            if len(temp) >= len(s):\n",
    "                break\n",
    "        if temp == s:\n",
    "            is_valid = True\n",
    "        return is_valid"
   ]
  }
 ],
 "metadata": {
  "kernelspec": {
   "display_name": "Python 3",
   "language": "python",
   "name": "python3"
  },
  "language_info": {
   "codemirror_mode": {
    "name": "ipython",
    "version": 3
   },
   "file_extension": ".py",
   "mimetype": "text/x-python",
   "name": "python",
   "nbconvert_exporter": "python",
   "pygments_lexer": "ipython3",
   "version": "3.7.4"
  }
 },
 "nbformat": 4,
 "nbformat_minor": 2
}
