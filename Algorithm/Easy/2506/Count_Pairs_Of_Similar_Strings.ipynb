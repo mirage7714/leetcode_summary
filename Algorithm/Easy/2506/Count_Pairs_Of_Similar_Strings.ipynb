{
 "cells": [
  {
   "cell_type": "markdown",
   "metadata": {},
   "source": [
    "# 本題要找出共有多少對相似的字串 (\\#String, \\#Hash Map)\n",
    "原題目連結: https://leetcode.com/problems/count-pairs-of-similar-strings/description/  \n",
    "\n",
    "You are given a 0-indexed string array words.  \n",
    "\n",
    "Two strings are similar if they consist of the same characters.  \n",
    "\n",
    "For example, \"abca\" and \"cba\" are similar since both consist of characters 'a', 'b', and 'c'.  \n",
    "However, \"abacba\" and \"bcfd\" are not similar since they do not consist of the same characters.   \n",
    "Return the number of pairs (i, j) such that 0 <= i < j <= word.length - 1 and the two strings words[i] and words[j] are similar.  \n",
    "\n",
    "範例:  \n",
    "Ex1:  \n",
    "Input: words = [\"aba\",\"aabb\",\"abcd\",\"bac\",\"aabc\"]  \n",
    "Output: 2  \n",
    "Explanation: There are 2 pairs that satisfy the conditions:  \n",
    "- i = 0 and j = 1 : both words[0] and words[1] only consist of characters 'a' and 'b'.   \n",
    "- i = 3 and j = 4 : both words[3] and words[4] only consist of characters 'a', 'b', and 'c'.   \n",
    "\n",
    "Ex2:  \n",
    "Input: words = [\"aabb\",\"ab\",\"ba\"]  \n",
    "Output: 3  \n",
    "Explanation: There are 3 pairs that satisfy the conditions:  \n",
    "- i = 0 and j = 1 : both words[0] and words[1] only consist of characters 'a' and 'b'.   \n",
    "- i = 0 and j = 2 : both words[0] and words[2] only consist of characters 'a' and 'b'.  \n",
    "- i = 1 and j = 2 : both words[1] and words[2] only consist of characters 'a' and 'b'.  \n",
    "\n",
    "Ex3:  \n",
    "Input: words = [\"nba\",\"cba\",\"dba\"]  \n",
    "Output: 0  \n",
    "Explanation: Since there does not exist any pair that satisfies the conditions, we return 0."
   ]
  },
  {
   "cell_type": "markdown",
   "metadata": {},
   "source": [
    "* 解題想法:  \n",
    "首先將字串內的字母找出後當作key，接著檢查是否有出現在dict中，最後找出dict中數值大於1的計算組數後統計起來就是答案"
   ]
  },
  {
   "cell_type": "code",
   "execution_count": null,
   "metadata": {},
   "outputs": [],
   "source": [
    "class Solution:\n",
    "    def similarPairs(self, words: List[str]) -> int:\n",
    "        res = 0\n",
    "        count = {}\n",
    "        for word in words:\n",
    "            chars = []\n",
    "            for w in word:\n",
    "                if w not in chars:\n",
    "                    chars.append(w)\n",
    "            chars.sort()\n",
    "            if str(chars) not in count.keys():\n",
    "                count[str(chars)] = 1\n",
    "            else:\n",
    "                count[str(chars)] += 1\n",
    "        for v in count.values():\n",
    "            if v > 1:\n",
    "                res += v * (v-1) / 2\n",
    "        return int(res)"
   ]
  }
 ],
 "metadata": {
  "kernelspec": {
   "display_name": "Python 3",
   "language": "python",
   "name": "python3"
  },
  "language_info": {
   "codemirror_mode": {
    "name": "ipython",
    "version": 3
   },
   "file_extension": ".py",
   "mimetype": "text/x-python",
   "name": "python",
   "nbconvert_exporter": "python",
   "pygments_lexer": "ipython3",
   "version": "3.7.4"
  }
 },
 "nbformat": 4,
 "nbformat_minor": 4
}
