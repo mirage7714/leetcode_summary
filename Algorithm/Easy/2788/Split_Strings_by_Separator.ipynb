{
 "cells": [
  {
   "cell_type": "markdown",
   "id": "5d831753-a5b4-414a-b50f-c4eb9472b6af",
   "metadata": {},
   "source": [
    "# 本題要找出用指定的字串進行分割後，共有多少個字串 (\\#Array, \\#String)\n",
    "原題目連結: https://leetcode.com/problems/split-strings-by-separator/description/  \n",
    "\n",
    "Given an array of strings words and a character separator, split each string in words by separator.  \n",
    "Return an array of strings containing the new strings formed after the splits, excluding empty strings.  \n",
    "\n",
    "Notes  \n",
    "separator is used to determine where the split should occur, but it is not included as part of the resulting strings.  \n",
    "A split may result in more than two strings.  \n",
    "The resulting strings must maintain the same order as they were initially given.  \n",
    "\n",
    "範例:  \n",
    "Ex1:  \n",
    "Input: words = [\"one.two.three\",\"four.five\",\"six\"], separator = \".\"  \n",
    "Output: [\"one\",\"two\",\"three\",\"four\",\"five\",\"six\"]  \n",
    "Explanation: In this example we split as follows:  \n",
    "\"one.two.three\" splits into \"one\", \"two\", \"three\"  \n",
    "\"four.five\" splits into \"four\", \"five\"  \n",
    "\"six\" splits into \"six\"   \n",
    "Hence, the resulting array is [\"one\",\"two\",\"three\",\"four\",\"five\",\"six\"].  \n",
    "\n",
    "Ex2:  \n",
    "Input: words = [\"|||\"], separator = \"|\"  \n",
    "Output: []  \n",
    "Explanation: In this example the resulting split of \"|||\" will contain only empty strings, so we return an empty array []. "
   ]
  },
  {
   "cell_type": "markdown",
   "id": "4d1be89b-c6a3-4c51-8bd7-c1fdd3c841de",
   "metadata": {},
   "source": [
    "* 解題想法:  \n",
    "首先用一個list來存放結果，接著從words用迴圈開始逐個進行分割，如果有分割的字串長度為空則跳過，否則就加入結果中，最後回傳list就是答案"
   ]
  },
  {
   "cell_type": "code",
   "execution_count": null,
   "id": "74b6d89a-6b42-474b-9e8e-dcf77a224c97",
   "metadata": {},
   "outputs": [],
   "source": [
    "class Solution:\n",
    "    def splitWordsBySeparator(self, words: List[str], separator: str) -> List[str]:\n",
    "        res = []\n",
    "        for word in words:\n",
    "            w = word.split(separator)\n",
    "            for i in w:\n",
    "                if len(i) > 0:\n",
    "                    res.append(i)\n",
    "        return res"
   ]
  }
 ],
 "metadata": {
  "kernelspec": {
   "display_name": "Python 3 (ipykernel)",
   "language": "python",
   "name": "python3"
  },
  "language_info": {
   "codemirror_mode": {
    "name": "ipython",
    "version": 3
   },
   "file_extension": ".py",
   "mimetype": "text/x-python",
   "name": "python",
   "nbconvert_exporter": "python",
   "pygments_lexer": "ipython3",
   "version": "3.9.13"
  }
 },
 "nbformat": 4,
 "nbformat_minor": 5
}
