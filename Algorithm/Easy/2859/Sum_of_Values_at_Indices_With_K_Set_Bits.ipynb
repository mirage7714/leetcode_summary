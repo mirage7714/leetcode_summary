{
 "cells": [
  {
   "cell_type": "markdown",
   "id": "4cb44414-9906-4e4b-b528-570d260a5ded",
   "metadata": {},
   "source": [
    "# 本題要找出符合k bit的index總和為多少 (\\#Array )\n",
    "原題目連結：https://leetcode.com/problems/sum-of-values-at-indices-with-k-set-bits/description/  \n",
    "\n",
    "You are given a 0-indexed integer array nums and an integer k.  \n",
    "Return an integer that denotes the sum of elements in nums whose corresponding indices have exactly k set bits in their binary representation.  \n",
    "The set bits in an integer are the 1's present when it is written in binary.  \n",
    "For example, the binary representation of 21 is 10101, which has 3 set bits.  \n",
    "\n",
    "範例:   \n",
    "Ex1:  \n",
    "Input: nums = [5,10,1,5,2], k = 1  \n",
    "Output: 13  \n",
    "Explanation: The binary representation of the indices are:   \n",
    "0 = 0002  \n",
    "1 = 0012  \n",
    "2 = 0102  \n",
    "3 = 0112  \n",
    "4 = 1002   \n",
    "Indices 1, 2, and 4 have k = 1 set bits in their binary representation.  \n",
    "Hence, the answer is nums[1] + nums[2] + nums[4] = 13.  \n",
    "\n",
    "Ex2:  \n",
    "Input: nums = [4,3,2,1], k = 2  \n",
    "Output: 1  \n",
    "Explanation: The binary representation of the indices are:  \n",
    "0 = 002  \n",
    "1 = 012    \n",
    "2 = 102  \n",
    "3 = 112  \n",
    "Only index 3 has k = 2 set bits in its binary representation.  \n",
    "Hence, the answer is nums[3] = 1."
   ]
  },
  {
   "cell_type": "markdown",
   "id": "d1dbd0b3-0d88-47cc-b8c1-281685ae2564",
   "metadata": {},
   "source": [
    "* 解題想法:  \n",
    "首先找出bit數為k的index，並將nums中該index的值加總起來就是答案"
   ]
  },
  {
   "cell_type": "code",
   "execution_count": null,
   "id": "fa0e9022-bbbf-4c27-bb58-8cc9d8cfa864",
   "metadata": {},
   "outputs": [],
   "source": [
    "class Solution:\n",
    "    def sumIndicesWithKSetBits(self, nums: List[int], k: int) -> int:\n",
    "        res = 0\n",
    "        for i in range(len(nums)):\n",
    "            b = bin(i)[2:]\n",
    "            t = 0\n",
    "            for m in b:\n",
    "                if m == '1':\n",
    "                    t += 1\n",
    "            if t == k:\n",
    "                res += nums[i]\n",
    "        return res"
   ]
  }
 ],
 "metadata": {
  "kernelspec": {
   "display_name": "Python 3 (ipykernel)",
   "language": "python",
   "name": "python3"
  },
  "language_info": {
   "codemirror_mode": {
    "name": "ipython",
    "version": 3
   },
   "file_extension": ".py",
   "mimetype": "text/x-python",
   "name": "python",
   "nbconvert_exporter": "python",
   "pygments_lexer": "ipython3",
   "version": "3.10.9"
  }
 },
 "nbformat": 4,
 "nbformat_minor": 5
}
