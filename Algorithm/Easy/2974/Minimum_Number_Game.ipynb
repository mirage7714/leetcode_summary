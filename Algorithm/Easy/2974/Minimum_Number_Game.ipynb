{
 "cells": [
  {
   "cell_type": "markdown",
   "id": "0d950e69-fda0-4503-8753-0c467eab7a41",
   "metadata": {},
   "source": [
    "# 本題要找出經過排序之後的list為何 (\\#Array )\n",
    "原題目連結：https://leetcode.com/problems/minimum-number-game/description/  \n",
    "\n",
    "You are given a 0-indexed integer array nums of even length and there is also an empty array arr. Alice and Bob decided to play a game where in every round Alice and Bob will do one move. The rules of the game are as follows:  \n",
    "\n",
    "Every round, first Alice will remove the minimum element from nums, and then Bob does the same.  \n",
    "Now, first Bob will append the removed element in the array arr, and then Alice does the same.  \n",
    "The game continues until nums becomes empty.  \n",
    "Return the resulting array arr.  \n",
    "\n",
    "範例：  \n",
    "Ex1:  \n",
    "Input: nums = [5,4,2,3]  \n",
    "Output: [3,2,5,4]  \n",
    "Explanation: In round one, first Alice removes 2 and then Bob removes 3. Then in arr firstly Bob appends 3 and then Alice appends 2. So arr = [3,2].  \n",
    "At the begining of round two, nums = [5,4]. Now, first Alice removes 4 and then Bob removes 5. Then both append in arr which becomes [3,2,5,4]  \n",
    "\n",
    "Ex2:  \n",
    "Input: nums = [2,5]  \n",
    "Output: [5,2]  \n",
    "Explanation: In round one, first Alice removes 2 and then Bob removes 5. Then in arr firstly Bob appends and then Alice appends. So arr = [5,2]."
   ]
  },
  {
   "cell_type": "markdown",
   "id": "5c240a67-c717-4d33-a84a-4cdf2464fe37",
   "metadata": {},
   "source": [
    "* 解題想法：  \n",
    "首先將nums排序後一次取出兩個數字，將順序交換後放入另一個list中，最後回傳新的list就是答案"
   ]
  },
  {
   "cell_type": "code",
   "execution_count": null,
   "id": "ceed13bd-d3e9-4c4e-8a5c-6e221042d79e",
   "metadata": {},
   "outputs": [],
   "source": [
    "class Solution:\n",
    "    def numberGame(self, nums: List[int]) -> List[int]:\n",
    "        res = []\n",
    "        nums.sort()\n",
    "        for i in range(0, len(nums), 2):\n",
    "            res.append(nums[i+1])\n",
    "            res.append(nums[i])\n",
    "        return res"
   ]
  }
 ],
 "metadata": {
  "kernelspec": {
   "display_name": "Python 3 (ipykernel)",
   "language": "python",
   "name": "python3"
  },
  "language_info": {
   "codemirror_mode": {
    "name": "ipython",
    "version": 3
   },
   "file_extension": ".py",
   "mimetype": "text/x-python",
   "name": "python",
   "nbconvert_exporter": "python",
   "pygments_lexer": "ipython3",
   "version": "3.10.9"
  }
 },
 "nbformat": 4,
 "nbformat_minor": 5
}
