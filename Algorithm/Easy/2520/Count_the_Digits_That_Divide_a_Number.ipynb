{
 "cells": [
  {
   "cell_type": "markdown",
   "id": "8d005bce-46c4-4cec-a01a-fc81ef223e86",
   "metadata": {},
   "source": [
    "# 本題要找出數字中有多少個數值可以整除該數值 (\\#String)\n",
    "原題目連結: https://leetcode.com/problems/count-the-digits-that-divide-a-number/description/  \n",
    "\n",
    "Given an integer num, return the number of digits in num that divide num.  \n",
    "An integer val divides nums if nums % val == 0.  \n",
    "\n",
    "範例:  \n",
    "Ex1:  \n",
    "Input: num = 7  \n",
    "Output: 1  \n",
    "Explanation: 7 divides itself, hence the answer is 1.  \n",
    "\n",
    "Ex2:  \n",
    "Input: num = 121  \n",
    "Output: 2  \n",
    "Explanation: 121 is divisible by 1, but not 2. Since 1 occurs twice as a digit, we return 2.  \n",
    "\n",
    "Ex3:  \n",
    "Input: num = 1248  \n",
    "Output: 4  \n",
    "Explanation: 1248 is divisible by all of its digits, hence the answer is 4."
   ]
  },
  {
   "cell_type": "markdown",
   "id": "c72f4788-9768-45d0-99d4-9c951dc8a301",
   "metadata": {},
   "source": [
    "* 解題想法:  \n",
    "首先將整數轉換為字串後，檢查每個字是否可以整除該整數，如果可以則將數值+1，最後回傳數值"
   ]
  },
  {
   "cell_type": "code",
   "execution_count": null,
   "id": "8fce2901-a743-4bed-9695-ba11a5588896",
   "metadata": {},
   "outputs": [],
   "source": [
    "class Solution:\n",
    "    def countDigits(self, num: int) -> int:\n",
    "        res = 0\n",
    "        s_num = str(num)\n",
    "        for s in s_num:\n",
    "            if num % int(s) == 0:\n",
    "                res += 1\n",
    "        return res"
   ]
  }
 ],
 "metadata": {
  "kernelspec": {
   "display_name": "Python 3 (ipykernel)",
   "language": "python",
   "name": "python3"
  },
  "language_info": {
   "codemirror_mode": {
    "name": "ipython",
    "version": 3
   },
   "file_extension": ".py",
   "mimetype": "text/x-python",
   "name": "python",
   "nbconvert_exporter": "python",
   "pygments_lexer": "ipython3",
   "version": "3.9.13"
  }
 },
 "nbformat": 4,
 "nbformat_minor": 5
}
