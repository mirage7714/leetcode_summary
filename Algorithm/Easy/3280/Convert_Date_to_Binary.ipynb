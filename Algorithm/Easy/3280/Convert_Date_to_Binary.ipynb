{
 "cells": [
  {
   "cell_type": "markdown",
   "id": "bdcaa4d3-77ff-4bf7-966f-de151095e570",
   "metadata": {},
   "source": [
    "# 本題要將日期轉換成binary字串的格式 (\\#String )\n",
    "原題目連結: https://leetcode.com/problems/convert-date-to-binary/description/  \n",
    "\n",
    "You are given a string date representing a Gregorian calendar date in the yyyy-mm-dd format.  \n",
    "date can be written in its binary representation obtained by converting year, month, and day to their binary representations without any leading zeroes and writing them down in year-month-day format.  \n",
    "Return the binary representation of date.  \n",
    "\n",
    "範例:  \n",
    "Ex1:  \n",
    "Input: date = \"2080-02-29\"  \n",
    "Output: \"100000100000-10-11101\"  \n",
    "Explanation:  \n",
    "100000100000, 10, and 11101 are the binary representations of 2080, 02, and 29 respectively.  \n",
    "\n",
    "Ex2:  \n",
    "Input: date = \"1900-01-01\"  \n",
    "Output: \"11101101100-1-1\"  \n",
    "Explanation:  \n",
    "11101101100, 1, and 1 are the binary representations of 1900, 1, and 1 respectively."
   ]
  },
  {
   "cell_type": "markdown",
   "id": "24b13746-b258-4f25-b4d0-92e7d94bf875",
   "metadata": {},
   "source": [
    "* 解題想法:  \n",
    "首先將data進行分割，之後將數字轉換成binary之後再重新組合成日期就是答案"
   ]
  },
  {
   "cell_type": "code",
   "execution_count": null,
   "id": "5c06adda-9784-4e65-aa78-d990e2379741",
   "metadata": {},
   "outputs": [],
   "source": [
    "class Solution:\n",
    "    def convertDateToBinary(self, date: str) -> str:\n",
    "        d = date.split('-')\n",
    "        temp = []\n",
    "        for i in d:\n",
    "            temp.append(bin(int(i))[2:])\n",
    "        return '-'.join(temp)"
   ]
  }
 ],
 "metadata": {
  "kernelspec": {
   "display_name": "Python 3 (ipykernel)",
   "language": "python",
   "name": "python3"
  },
  "language_info": {
   "codemirror_mode": {
    "name": "ipython",
    "version": 3
   },
   "file_extension": ".py",
   "mimetype": "text/x-python",
   "name": "python",
   "nbconvert_exporter": "python",
   "pygments_lexer": "ipython3",
   "version": "3.9.13"
  }
 },
 "nbformat": 4,
 "nbformat_minor": 5
}
