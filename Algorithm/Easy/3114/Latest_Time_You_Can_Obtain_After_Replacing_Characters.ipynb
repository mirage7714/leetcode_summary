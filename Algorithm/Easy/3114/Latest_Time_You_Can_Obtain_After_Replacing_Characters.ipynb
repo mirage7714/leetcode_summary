{
 "cells": [
  {
   "cell_type": "markdown",
   "id": "1ad71c91-79af-49b0-a0ad-63cabb1740cd",
   "metadata": {},
   "source": [
    "# 本題要找出最大的時間為多少 (\\#String )\n",
    "原題目連結: https://leetcode.com/problems/latest-time-you-can-obtain-after-replacing-characters/description/  \n",
    "\n",
    "You are given a string s representing a 12-hour format time where some of the digits (possibly none) are replaced with a \"?\".  \n",
    "12-hour times are formatted as \"HH:MM\", where HH is between 00 and 11, and MM is between 00 and 59. The earliest 12-hour time is 00:00, and the latest is 11:59.  \n",
    "You have to replace all the \"?\" characters in s with digits such that the time we obtain by the resulting string is a valid 12-hour format time and is the latest possible.  \n",
    "Return the resulting string.  \n",
    "\n",
    "範例:  \n",
    "Ex1:  \n",
    "Input: s = \"1?:?4\"  \n",
    "Output: \"11:54\"  \n",
    "Explanation: The latest 12-hour format time we can achieve by replacing \"?\" characters is \"11:54\".  \n",
    "\n",
    "Ex2:  \n",
    "Input: s = \"0?:5?\"  \n",
    "Output: \"09:59\"  \n",
    "Explanation: The latest 12-hour format time we can achieve by replacing \"?\" characters is \"09:59\"."
   ]
  },
  {
   "cell_type": "markdown",
   "id": "320ef6d2-e5c0-42fd-ac05-b8822b5895fc",
   "metadata": {},
   "source": [
    "* 解題想法:  \n",
    "用迴圈從頭開始檢查，如果目前結果為空則檢查第二個字母，如果為?則第一個字母最大值為1，或是第二個字母小於2則第一個字母也為1，其他情況則最大值為0，之後的情況則檢查前一個字母的狀況:  \n",
    "- 如果為第二個字母，前一個字母為0的情況則為9，否則第二個字母為1  \n",
    "- 如果為第四個字母，最大值就是5  \n",
    "- 如鬼為第五個字母，則最大值就是9  \n",
    "最後回傳更新後的結果就是答案"
   ]
  },
  {
   "cell_type": "code",
   "execution_count": null,
   "id": "63ee8566-4dfd-4c3e-8bcc-e9b4a84a0086",
   "metadata": {},
   "outputs": [],
   "source": [
    "class Solution:\n",
    "    def findLatestTime(self, s: str) -> str:\n",
    "        res = ''\n",
    "        for m in range(len(s)):\n",
    "            i = s[m]\n",
    "            if i == '?':\n",
    "                if not res:\n",
    "                    if s[m+1] == '?':\n",
    "                        res += '1'\n",
    "                    elif int(s[m+1]) < 2:\n",
    "                        res += '1'\n",
    "                    else:\n",
    "                        res += '0'\n",
    "                else:\n",
    "                    if len(res) == 1:\n",
    "                        if res[-1] == '0':\n",
    "                            res += '9'\n",
    "                        else:\n",
    "                            res += '1'\n",
    "                    elif len(res) == 3:\n",
    "                        res += '5'\n",
    "                    elif len(res) == 4:\n",
    "                        res += '9' \n",
    "            else:\n",
    "                res += i\n",
    "        return res"
   ]
  }
 ],
 "metadata": {
  "kernelspec": {
   "display_name": "Python 3 (ipykernel)",
   "language": "python",
   "name": "python3"
  },
  "language_info": {
   "codemirror_mode": {
    "name": "ipython",
    "version": 3
   },
   "file_extension": ".py",
   "mimetype": "text/x-python",
   "name": "python",
   "nbconvert_exporter": "python",
   "pygments_lexer": "ipython3",
   "version": "3.9.13"
  }
 },
 "nbformat": 4,
 "nbformat_minor": 5
}
