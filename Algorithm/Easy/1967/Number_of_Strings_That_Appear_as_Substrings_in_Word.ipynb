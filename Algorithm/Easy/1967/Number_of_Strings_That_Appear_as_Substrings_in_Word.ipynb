{
 "cells": [
  {
   "cell_type": "markdown",
   "metadata": {},
   "source": [
    "# 本題要算出共有多少個字根有出現在指定的字串中\n",
    "原題目連結: https://leetcode.com/problems/number-of-strings-that-appear-as-substrings-in-word/  \n",
    "\n",
    "Given an array of strings patterns and a string word, return the number of strings in patterns that exist as a substring in word.  \n",
    "\n",
    "A substring is a contiguous sequence of characters within a string.  \n",
    "\n",
    "範例:  \n",
    "Ex1:  \n",
    "Input: patterns = [\"a\",\"abc\",\"bc\",\"d\"], word = \"abc\"  \n",
    "Output: 3  \n",
    "Explanation:  \n",
    "- \"a\" appears as a substring in \"abc\".  \n",
    "- \"abc\" appears as a substring in \"abc\".  \n",
    "- \"bc\" appears as a substring in \"abc\".  \n",
    "- \"d\" does not appear as a substring in \"abc\".  \n",
    "3 of the strings in patterns appear as a substring in word.  \n",
    "\n",
    "Ex2:  \n",
    "Input: patterns = [\"a\",\"b\",\"c\"], word = \"aaaaabbbbb\"  \n",
    "Output: 2  \n",
    "Explanation:  \n",
    "- \"a\" appears as a substring in \"aaaaabbbbb\".  \n",
    "- \"b\" appears as a substring in \"aaaaabbbbb\".  \n",
    "- \"c\" does not appear as a substring in \"aaaaabbbbb\".  \n",
    "2 of the strings in patterns appear as a substring in word.  \n",
    "\n",
    "Ex3:  \n",
    "Input: patterns = [\"a\",\"a\",\"a\"], word = \"ab\"  \n",
    "Output: 3  \n",
    "Explanation: Each of the patterns appears as a substring in word \"ab\"."
   ]
  },
  {
   "cell_type": "markdown",
   "metadata": {},
   "source": [
    "* 解題想法:  \n",
    "使用迴圈將字根逐個跟指定的字串進行比較，如果存在則將count值+1，最後回傳count值"
   ]
  },
  {
   "cell_type": "code",
   "execution_count": null,
   "metadata": {},
   "outputs": [],
   "source": [
    "class Solution:\n",
    "    def numOfStrings(self, patterns: List[str], word: str) -> int:\n",
    "        count = 0\n",
    "        for p in patterns:\n",
    "            if p in word:\n",
    "                count += 1\n",
    "        return count"
   ]
  }
 ],
 "metadata": {
  "kernelspec": {
   "display_name": "Python 3",
   "language": "python",
   "name": "python3"
  },
  "language_info": {
   "codemirror_mode": {
    "name": "ipython",
    "version": 3
   },
   "file_extension": ".py",
   "mimetype": "text/x-python",
   "name": "python",
   "nbconvert_exporter": "python",
   "pygments_lexer": "ipython3",
   "version": "3.7.4"
  }
 },
 "nbformat": 4,
 "nbformat_minor": 4
}
