{
 "cells": [
  {
   "cell_type": "markdown",
   "id": "22f95a63-3346-4b36-b57e-a79270362891",
   "metadata": {},
   "source": [
    "# 本題要找出最小的整數，所有數值的乘積可以指定的數值整除 (\\#Math )\n",
    "原題目連結: https://leetcode.com/problems/smallest-divisible-digit-product-i/description/  \n",
    "\n",
    "You are given two integers n and t. Return the smallest number greater than or equal to n such that the product of its digits is divisible by t.  \n",
    "\n",
    "範例:  \n",
    "Ex1:  \n",
    "Input: n = 10, t = 2  \n",
    "Output: 10  \n",
    "Explanation:  \n",
    "The digit product of 10 is 0, which is divisible by 2, making it the smallest number greater than or equal to 10 that satisfies the condition.  \n",
    "\n",
    "Ex2:  \n",
    "Input: n = 15, t = 3  \n",
    "Output: 16  \n",
    "Explanation:  \n",
    "The digit product of 16 is 6, which is divisible by 3, making it the smallest number greater than or equal to 15 that satisfies the condition."
   ]
  },
  {
   "cell_type": "markdown",
   "id": "8db0778e-301c-4361-b49b-5718984cbb49",
   "metadata": {},
   "source": [
    "* 解題想法:  \n",
    "用個while迴圈來找出目前數值的乘積，如果可以被整除時則中斷迴圈並回傳目前的數值，否則就繼續加1更新數值"
   ]
  },
  {
   "cell_type": "code",
   "execution_count": null,
   "id": "18305d91-daf2-4484-8768-c28adbf28dc2",
   "metadata": {},
   "outputs": [],
   "source": [
    "class Solution:\n",
    "    def smallestNumber(self, n: int, t: int) -> int:\n",
    "        res = n\n",
    "        while True:\n",
    "            s = 1\n",
    "            for i in str(res):\n",
    "                s *= int(i)\n",
    "            if s % t == 0:\n",
    "                break\n",
    "            res += 1\n",
    "        return res"
   ]
  }
 ],
 "metadata": {
  "kernelspec": {
   "display_name": "Python 3 (ipykernel)",
   "language": "python",
   "name": "python3"
  },
  "language_info": {
   "codemirror_mode": {
    "name": "ipython",
    "version": 3
   },
   "file_extension": ".py",
   "mimetype": "text/x-python",
   "name": "python",
   "nbconvert_exporter": "python",
   "pygments_lexer": "ipython3",
   "version": "3.9.13"
  }
 },
 "nbformat": 4,
 "nbformat_minor": 5
}
