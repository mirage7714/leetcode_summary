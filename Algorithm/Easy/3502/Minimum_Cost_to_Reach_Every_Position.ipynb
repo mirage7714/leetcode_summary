{
 "cells": [
  {
   "cell_type": "markdown",
   "id": "5213bd60-9806-4283-b0df-594a48062899",
   "metadata": {},
   "source": [
    "# 本題要找出移動到每個位置的最小成本是多少 (\\#Array )\n",
    "原題目連結: https://leetcode.com/problems/minimum-cost-to-reach-every-position/description/  \n",
    "\n",
    "You are given an integer array cost of size n. You are currently at position n (at the end of the line) in a line of n + 1 people (numbered from 0 to n).  \n",
    "You wish to move forward in the line, but each person in front of you charges a specific amount to swap places. The cost to swap with person i is given by cost[i].  \n",
    "You are allowed to swap places with people as follows:  \n",
    "If they are in front of you, you must pay them cost[i] to swap with them.  \n",
    "If they are behind you, they can swap with you for free.  \n",
    "Return an array answer of size n, where answer[i] is the minimum total cost to reach each position i in the line.  \n",
    "\n",
    "範例:  \n",
    "Ex1:  \n",
    "Input: cost = [5,3,4,1,3,2]  \n",
    "Output: [5,3,3,1,1,1]  \n",
    "Explanation:  \n",
    "We can get to each position in the following way:  \n",
    "i = 0. We can swap with person 0 for a cost of 5.  \n",
    "i = 1. We can swap with person 1 for a cost of 3.  \n",
    "i = 2. We can swap with person 1 for a cost of 3, then swap with person 2 for free.  \n",
    "i = 3. We can swap with person 3 for a cost of 1.  \n",
    "i = 4. We can swap with person 3 for a cost of 1, then swap with person 4 for free.  \n",
    "i = 5. We can swap with person 3 for a cost of 1, then swap with person 5 for free.  \n",
    "\n",
    "Ex2:  \n",
    "Input: cost = [1,2,4,6,7]  \n",
    "Output: [1,1,1,1,1]  \n",
    "Explanation:  \n",
    "We can swap with person 0 for a cost of 1, then we will be able to reach any position i for free."
   ]
  },
  {
   "cell_type": "raw",
   "id": "5c2889c3-02ba-4ee0-a428-f64bc7cbb44c",
   "metadata": {},
   "source": [
    "* 解題想法:  \n",
    "首先定義一個list用來放結果，接著用一個變數來存放目前的最小成本，然後用迴圈開始計算目前的成本，如果成本小於目前的最小成本則更新成本，最後將每個成本都放入list中就是最後的答案"
   ]
  },
  {
   "cell_type": "code",
   "execution_count": null,
   "id": "56dfaf21-2917-49cf-a389-07c402747ada",
   "metadata": {},
   "outputs": [],
   "source": [
    "class Solution:\n",
    "    def minCosts(self, cost: List[int]) -> List[int]:\n",
    "        res = []\n",
    "        m = inf\n",
    "        for c in cost:\n",
    "            if c < m:\n",
    "                m = c\n",
    "            res.append(m)\n",
    "        return res"
   ]
  }
 ],
 "metadata": {
  "kernelspec": {
   "display_name": "Python 3 (ipykernel)",
   "language": "python",
   "name": "python3"
  },
  "language_info": {
   "codemirror_mode": {
    "name": "ipython",
    "version": 3
   },
   "file_extension": ".py",
   "mimetype": "text/x-python",
   "name": "python",
   "nbconvert_exporter": "python",
   "pygments_lexer": "ipython3",
   "version": "3.9.13"
  }
 },
 "nbformat": 4,
 "nbformat_minor": 5
}
