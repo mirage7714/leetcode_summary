{
 "cells": [
  {
   "cell_type": "markdown",
   "id": "2c9e8970-2825-4dc6-b2e0-da3f5c0d99da",
   "metadata": {},
   "source": [
    "# 本題要找出最後的點為何 (\\#Math )\n",
    "原題目連結: https://leetcode.com/problems/snake-in-matrix/description/  \n",
    "\n",
    "There is a snake in an n x n matrix grid and can move in four possible directions. Each cell in the grid is identified by the position: grid[i][j] = (i * n) + j.  \n",
    "The snake starts at cell 0 and follows a sequence of commands.  \n",
    "You are given an integer n representing the size of the grid and an array of strings commands where each command[i] is either \"UP\", \"RIGHT\", \"DOWN\", and \"LEFT\". It's guaranteed that the snake will remain within the grid boundaries throughout its movement.  \n",
    "Return the position of the final cell where the snake ends up after executing commands.  \n",
    "\n",
    "範例:  \n",
    "Ex1:  \n",
    "Input: n = 2, commands = [\"RIGHT\",\"DOWN\"]  \n",
    "Output: 3  \n",
    "\n",
    "Ex2:  \n",
    "Input: n = 3, commands = [\"DOWN\",\"RIGHT\",\"UP\"]  \n",
    "Output: 1"
   ]
  },
  {
   "cell_type": "markdown",
   "id": "0a828890-b859-4e91-9a04-3533debe3a72",
   "metadata": {},
   "source": [
    "* 解題想法:  \n",
    "首先找出水平與垂直分別移動了多少格，接著用公式算出目前的點位就是答案"
   ]
  },
  {
   "cell_type": "code",
   "execution_count": null,
   "id": "76c03218-b0d7-4312-8cf5-c6cb730e1837",
   "metadata": {},
   "outputs": [],
   "source": [
    "class Solution:\n",
    "    def finalPositionOfSnake(self, n: int, commands: List[str]) -> int:\n",
    "        v = 0\n",
    "        h = 0\n",
    "        for c in commands:\n",
    "            if c == 'RIGHT': \n",
    "                h += 1\n",
    "            elif c == 'LEFT':\n",
    "                h -= 1\n",
    "            elif c == 'UP':\n",
    "                v -= 1\n",
    "            elif c == 'DOWN':\n",
    "                v += 1\n",
    "        res = v * n + h\n",
    "        return res"
   ]
  }
 ],
 "metadata": {
  "kernelspec": {
   "display_name": "Python 3 (ipykernel)",
   "language": "python",
   "name": "python3"
  },
  "language_info": {
   "codemirror_mode": {
    "name": "ipython",
    "version": 3
   },
   "file_extension": ".py",
   "mimetype": "text/x-python",
   "name": "python",
   "nbconvert_exporter": "python",
   "pygments_lexer": "ipython3",
   "version": "3.9.13"
  }
 },
 "nbformat": 4,
 "nbformat_minor": 5
}
