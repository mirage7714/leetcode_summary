{
 "cells": [
  {
   "cell_type": "markdown",
   "metadata": {},
   "source": [
    "# 本題要判斷數字是否有除了指定數值以外的因數\n",
    "原題目連結: https://leetcode.com/problems/ugly-number/  \n",
    "\n",
    "An ugly number is a positive integer whose prime factors are limited to 2, 3, and 5.  \n",
    "Given an integer n, return true if n is an ugly number.  \n",
    "\n",
    "範例:  \n",
    "Ex1:  \n",
    "Input: n = 6  \n",
    "Output: true  \n",
    "Explanation: 6 = 2 × 3  \n",
    "\n",
    "Ex2:  \n",
    "Input: n = 1  \n",
    "Output: true  \n",
    "Explanation: 1 has no prime factors, therefore all of its prime factors are limited to 2, 3, and 5.  \n",
    "\n",
    "Ex3:  \n",
    "Input: n = 14  \n",
    "Output: false  \n",
    "Explanation: 14 is not ugly since it includes the prime factor 7."
   ]
  },
  {
   "cell_type": "markdown",
   "metadata": {},
   "source": [
    "* 解題想法:  \n",
    "首先判斷數字是否為1，如果為1則可以直接判斷結果為True，接著檢查是否為0，如果為0則代表無法找出任何因數，如果都不符合這兩個條件，則開始用2、3、5開始檢查，如果可以被其中一個數值整除，則整除之後再進行檢查，最後當無法分解時則中斷迴圈，如果最後的因數為1則代表已經整除，此時回傳結果為True，否則都是回傳False"
   ]
  },
  {
   "cell_type": "code",
   "execution_count": null,
   "metadata": {},
   "outputs": [],
   "source": [
    "class Solution:\n",
    "    def isUgly(self, num: int) -> bool:\n",
    "        result = False\n",
    "        if num == 1:\n",
    "            result = True\n",
    "        elif num == 0:\n",
    "            pass\n",
    "        else:\n",
    "            while True:\n",
    "                if num == 1:\n",
    "                    result = True\n",
    "                    break\n",
    "                elif num % 2 == 0:\n",
    "                    num = num / 2\n",
    "                elif num % 3 == 0:\n",
    "                    num = num / 3\n",
    "                elif num % 5 == 0:\n",
    "                    num = num / 5\n",
    "                else:\n",
    "                    break\n",
    "        return result  "
   ]
  }
 ],
 "metadata": {
  "kernelspec": {
   "display_name": "Python 3",
   "language": "python",
   "name": "python3"
  },
  "language_info": {
   "codemirror_mode": {
    "name": "ipython",
    "version": 3
   },
   "file_extension": ".py",
   "mimetype": "text/x-python",
   "name": "python",
   "nbconvert_exporter": "python",
   "pygments_lexer": "ipython3",
   "version": "3.7.4"
  }
 },
 "nbformat": 4,
 "nbformat_minor": 4
}
