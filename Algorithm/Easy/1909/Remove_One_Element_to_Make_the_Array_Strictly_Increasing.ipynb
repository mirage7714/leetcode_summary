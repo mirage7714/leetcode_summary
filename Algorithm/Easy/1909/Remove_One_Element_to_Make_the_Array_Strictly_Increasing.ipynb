{
 "cells": [
  {
   "cell_type": "markdown",
   "metadata": {},
   "source": [
    "# 本題要找出在最多移除一個元素的情況下，是否可以形成一個嚴格遞增的list\n",
    "原題目連結: https://leetcode.com/problems/remove-one-element-to-make-the-array-strictly-increasing/  \n",
    "\n",
    "Given a 0-indexed integer array nums, return true if it can be made strictly increasing after removing exactly one element, or false otherwise. If the array is already strictly increasing, return true.  \n",
    "\n",
    "The array nums is strictly increasing if nums[i - 1] < nums[i] for each index (1 <= i < nums.length).  \n",
    "\n",
    "範例:  \n",
    "Ex1:   \n",
    "Input: nums = [1,2,10,5,7]  \n",
    "Output: true  \n",
    "Explanation: By removing 10 at index 2 from nums, it becomes [1,2,5,7].  \n",
    "[1,2,5,7] is strictly increasing, so return true.  \n",
    "\n",
    "Ex2:  \n",
    "Input: nums = [2,3,1,2]  \n",
    "Output: false  \n",
    "Explanation:   \n",
    "[3,1,2] is the result of removing the element at index 0.  \n",
    "[2,1,2] is the result of removing the element at index 1.  \n",
    "[2,3,2] is the result of removing the element at index 2.  \n",
    "[2,3,1] is the result of removing the element at index 3.  \n",
    "No resulting array is strictly increasing, so return false.  \n",
    "\n",
    "Ex3:  \n",
    "Input: nums = [1,1,1]  \n",
    "Output: false  \n",
    "Explanation: The result of removing any element is [1,1].  \n",
    "[1,1] is not strictly increasing, so return false."
   ]
  },
  {
   "cell_type": "markdown",
   "metadata": {},
   "source": [
    "* 解題想法:  \n",
    "首先建立一個函數用來檢查是否符合嚴格遞增的情況，接著開始檢查nums是否符合這條件，如果不符合則接著開始從頭進行迴圈，並移除一個元素之後再檢查是否符合條件，如果有符合則回傳True，否則最後回傳False"
   ]
  },
  {
   "cell_type": "code",
   "execution_count": null,
   "metadata": {},
   "outputs": [],
   "source": [
    "class Solution:\n",
    "    def canBeIncreasing(self, nums: List[int]) -> bool:\n",
    "        def checkEle(nums):\n",
    "            for n in range(len(nums)-1):\n",
    "                if nums[n] >= nums[n+1]:\n",
    "                    return False\n",
    "            return True\n",
    "        \n",
    "        if checkEle(nums):\n",
    "            return True\n",
    "        else:\n",
    "            for i in range(len(nums)):\n",
    "                if checkEle(nums[:i] + nums[i+1:]):\n",
    "                    return True\n",
    "            return False"
   ]
  }
 ],
 "metadata": {
  "kernelspec": {
   "display_name": "Python 3",
   "language": "python",
   "name": "python3"
  },
  "language_info": {
   "codemirror_mode": {
    "name": "ipython",
    "version": 3
   },
   "file_extension": ".py",
   "mimetype": "text/x-python",
   "name": "python",
   "nbconvert_exporter": "python",
   "pygments_lexer": "ipython3",
   "version": "3.7.4"
  }
 },
 "nbformat": 4,
 "nbformat_minor": 4
}
