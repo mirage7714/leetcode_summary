{
 "cells": [
  {
   "cell_type": "markdown",
   "metadata": {},
   "source": [
    "# 本題要找出在array中缺少的數字有哪些\n",
    "原題目連結: https://leetcode.com/problems/find-all-numbers-disappeared-in-an-array/  \n",
    "\n",
    "Given an array of integers where 1 ≤ a[i] ≤ n (n = size of array), some elements appear twice and others appear once.  \n",
    "  \n",
    "Find all the elements of [1, n] inclusive that do not appear in this array.  \n",
    "\n",
    "Could you do it without extra space and in O(n) runtime? You may assume the returned list does not count as extra space.  \n",
    "\n",
    "範例:  \n",
    "Ex1:  \n",
    "Input:[4,3,2,7,8,2,3,1]  \n",
    "Output:[5,6]"
   ]
  },
  {
   "cell_type": "markdown",
   "metadata": {},
   "source": [
    "* 解題想法:  \n",
    "原本想要直接用一個迴圈來判斷所有的數字是否都在題目提供的list中，但是這樣會超過題目提供的時間範圍  \n",
    "因此這邊使用了另一個判斷的方式:  \n",
    "先針對list進行排序，接著檢查n與n+1數字是否為連續，如果不連續則將中間的數字都加到結果的清單中  \n",
    "另外由於頭尾的數字可能也會有缺，因此另外檢查這兩個數字是否也有在清單中"
   ]
  },
  {
   "cell_type": "code",
   "execution_count": null,
   "metadata": {},
   "outputs": [],
   "source": [
    "class Solution:\n",
    "    def findDisappearedNumbers(self, nums: List[int]) -> List[int]:\n",
    "        result = []\n",
    "        nums.sort()\n",
    "        if len(nums) > 30:\n",
    "            if len(nums) not in nums:\n",
    "                result.append(len(nums))\n",
    "                nums.append(len(nums))\n",
    "            for n in range(len(nums) -1):\n",
    "                if nums[n] + 1 < nums[n+1]:\n",
    "                    for m in range(nums[n]+1, nums[n+1]):\n",
    "                        result.append(m)\n",
    "            if 1 not in nums:\n",
    "                result.append(1)\n",
    "        else:\n",
    "            for m in range(1, len(nums)+1):\n",
    "                if m not in nums:\n",
    "                    result.append(m)\n",
    "        return result"
   ]
  }
 ],
 "metadata": {
  "kernelspec": {
   "display_name": "Python 3",
   "language": "python",
   "name": "python3"
  },
  "language_info": {
   "codemirror_mode": {
    "name": "ipython",
    "version": 3
   },
   "file_extension": ".py",
   "mimetype": "text/x-python",
   "name": "python",
   "nbconvert_exporter": "python",
   "pygments_lexer": "ipython3",
   "version": "3.7.4"
  }
 },
 "nbformat": 4,
 "nbformat_minor": 2
}
