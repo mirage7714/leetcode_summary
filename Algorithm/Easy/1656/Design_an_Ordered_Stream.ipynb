{
 "cells": [
  {
   "cell_type": "markdown",
   "metadata": {},
   "source": [
    "# 本題要設計一個stream系統\n",
    "原題目連結: https://leetcode.com/problems/design-an-ordered-stream/  \n",
    "\n",
    "There is a stream of n (idKey, value) pairs arriving in an arbitrary order, where idKey is an integer between 1 and n and value is a string. No two pairs have the same id.  \n",
    "\n",
    "Design a stream that returns the values in increasing order of their IDs by returning a chunk (list) of values after each insertion. The concatenation of all the chunks should result in a list of the sorted values.  \n",
    "\n",
    "Implement the OrderedStream class:  \n",
    "\n",
    "OrderedStream(int n) Constructs the stream to take n values.  \n",
    "String[] insert(int idKey, String value) Inserts the pair (idKey, value) into the stream, then returns the largest possible chunk of currently inserted values that appear next in the order.  \n",
    "\n",
    "範例:  \n",
    "Ex1:  \n",
    "Input  \n",
    "[\"OrderedStream\", \"insert\", \"insert\", \"insert\", \"insert\", \"insert\"]  \n",
    "[[5], [3, \"ccccc\"], [1, \"aaaaa\"], [2, \"bbbbb\"], [5, \"eeeee\"], [4, \"ddddd\"]]  \n",
    "Output  \n",
    "[null, [], [\"aaaaa\"], [\"bbbbb\", \"ccccc\"], [], [\"ddddd\", \"eeeee\"]]  \n",
    "\n",
    "Explanation  \n",
    "// Note that the values ordered by ID is [\"aaaaa\", \"bbbbb\", \"ccccc\", \"ddddd\", \"eeeee\"].  \n",
    "OrderedStream os = new OrderedStream(5);  \n",
    "os.insert(3, \"ccccc\"); // Inserts (3, \"ccccc\"), returns [].  \n",
    "os.insert(1, \"aaaaa\"); // Inserts (1, \"aaaaa\"), returns [\"aaaaa\"].  \n",
    "os.insert(2, \"bbbbb\"); // Inserts (2, \"bbbbb\"), returns [\"bbbbb\", \"ccccc\"].  \n",
    "os.insert(5, \"eeeee\"); // Inserts (5, \"eeeee\"), returns [].  \n",
    "os.insert(4, \"ddddd\"); // Inserts (4, \"ddddd\"), returns [\"ddddd\", \"eeeee\"].  \n",
    "// Concatentating all the chunks returned:  \n",
    "// [] + [\"aaaaa\"] + [\"bbbbb\", \"ccccc\"] + [] + [\"ddddd\", \"eeeee\"] = [\"aaaaa\", \"bbbbb\", \"ccccc\", \"ddddd\", \"eeeee\"]  \n",
    "// The resulting order is the same as the order above."
   ]
  },
  {
   "cell_type": "markdown",
   "metadata": {},
   "source": [
    "* 解題想法:  \n",
    "本題要實作一個stream系統，首先建立一個dict用來存放資料，另外用了一個變數當作index，接著開始時做功能的部分:  \n",
    "- insert(): 將指定的str用指定的id當成key放入dict，如果index與id相同的情況，則將後面連續的id且不為空的放入list中回傳，並更新index"
   ]
  },
  {
   "cell_type": "code",
   "execution_count": null,
   "metadata": {},
   "outputs": [],
   "source": [
    "class OrderedStream:\n",
    "\n",
    "    def __init__(self, n: int):\n",
    "        self.index = 1\n",
    "        self.data = {}\n",
    "\n",
    "    def insert(self, id: int, value: str) -> List[str]:\n",
    "        self.data[id] = value\n",
    "        d = []\n",
    "        if self.index == id:\n",
    "            while True:\n",
    "                if id in self.data.keys():\n",
    "                    d.append(self.data[id])\n",
    "                    id += 1\n",
    "                else:\n",
    "                    self.index = id\n",
    "                    break\n",
    "        return d\n",
    "\n",
    "# Your OrderedStream object will be instantiated and called as such:\n",
    "# obj = OrderedStream(n)\n",
    "# param_1 = obj.insert(id,value)"
   ]
  }
 ],
 "metadata": {
  "kernelspec": {
   "display_name": "Python 3",
   "language": "python",
   "name": "python3"
  },
  "language_info": {
   "codemirror_mode": {
    "name": "ipython",
    "version": 3
   },
   "file_extension": ".py",
   "mimetype": "text/x-python",
   "name": "python",
   "nbconvert_exporter": "python",
   "pygments_lexer": "ipython3",
   "version": "3.7.4"
  }
 },
 "nbformat": 4,
 "nbformat_minor": 4
}
