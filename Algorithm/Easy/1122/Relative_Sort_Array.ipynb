{
 "cells": [
  {
   "cell_type": "markdown",
   "id": "6c10b31b-a787-4a31-aece-0637fd48503d",
   "metadata": {},
   "source": [
    "# 本題要將指定的list依規定的順序進行排序 (\\#Array, \\#Sorting )\n",
    "原題目連結: https://leetcode.com/problems/relative-sort-array/description/?envType=daily-question&envId=2024-06-11  \n",
    "\n",
    "Given two arrays arr1 and arr2, the elements of arr2 are distinct, and all elements in arr2 are also in arr1.  \n",
    "Sort the elements of arr1 such that the relative ordering of items in arr1 are the same as in arr2. Elements that do not appear in arr2 should be placed at the end of arr1 in ascending order.  \n",
    "\n",
    "範例:  \n",
    "Ex1:  \n",
    "Input: arr1 = [2,3,1,3,2,4,6,7,9,2,19], arr2 = [2,1,4,3,9,6]  \n",
    "Output: [2,2,2,1,4,3,3,9,6,7,19]  \n",
    "\n",
    "Ex2:  \n",
    "Input: arr1 = [28,6,22,8,44,17], arr2 = [22,28,8,6]  \n",
    "Output: [22,28,8,6,17,44]  "
   ]
  },
  {
   "cell_type": "markdown",
   "id": "e4445245-2c6f-4187-9e80-6e0e619acfba",
   "metadata": {},
   "source": [
    "* 解題想法:  \n",
    "首先找出每個數字出現的次數，接著用指定的順序將數字依序放入list中，最後將沒出現的數字依大小再放入list中，最後回傳list作為答案"
   ]
  },
  {
   "cell_type": "code",
   "execution_count": null,
   "id": "dacad7ff-9fa4-4166-b155-592d8aed648d",
   "metadata": {},
   "outputs": [],
   "source": [
    "class Solution:\n",
    "    def relativeSortArray(self, arr1: List[int], arr2: List[int]) -> List[int]:\n",
    "        res = []\n",
    "        count = {}\n",
    "        for a in arr1:\n",
    "            if a not in count.keys():\n",
    "                count[a] = 0\n",
    "            count[a] += 1\n",
    "        for a in arr2:\n",
    "            for _ in range(count[a]):\n",
    "                res.append(a)\n",
    "            count.pop(a)\n",
    "        k = list(count.keys())\n",
    "        k.sort()\n",
    "        for i in k:\n",
    "            for _ in range(count[i]):\n",
    "                res.append(i)\n",
    "        return res"
   ]
  }
 ],
 "metadata": {
  "kernelspec": {
   "display_name": "Python 3 (ipykernel)",
   "language": "python",
   "name": "python3"
  },
  "language_info": {
   "codemirror_mode": {
    "name": "ipython",
    "version": 3
   },
   "file_extension": ".py",
   "mimetype": "text/x-python",
   "name": "python",
   "nbconvert_exporter": "python",
   "pygments_lexer": "ipython3",
   "version": "3.9.13"
  }
 },
 "nbformat": 4,
 "nbformat_minor": 5
}
