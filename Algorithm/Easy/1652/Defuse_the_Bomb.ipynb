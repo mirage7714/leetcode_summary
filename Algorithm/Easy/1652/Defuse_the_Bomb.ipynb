{
 "cells": [
  {
   "cell_type": "markdown",
   "metadata": {},
   "source": [
    "# 本題要將array用前k個的和取代\n",
    "原題目連結: https://leetcode.com/problems/defuse-the-bomb/  \n",
    "\n",
    "You have a bomb to defuse, and your time is running out! Your informer will provide you with a circular array code of length of n and a key k.  \n",
    "\n",
    "To decrypt the code, you must replace every number. All the numbers are replaced simultaneously.  \n",
    "\n",
    "If k > 0, replace the ith number with the sum of the next k numbers.  \n",
    "If k < 0, replace the ith number with the sum of the previous k numbers.  \n",
    "If k == 0, replace the ith number with 0.  \n",
    "As code is circular, the next element of code[n-1] is code[0], and the previous element of code[0] is code[n-1].  \n",
    "\n",
    "Given the circular array code and an integer key k, return the decrypted code to defuse the bomb!  \n",
    "\n",
    "範例:  \n",
    "Ex1:    \n",
    "Input: code = [5,7,1,4], k = 3  \n",
    "Output: [12,10,16,13]  \n",
    "Explanation: Each number is replaced by the sum of the next 3 numbers. The decrypted code is [7+1+4, 1+4+5, 4+5+7, 5+7+1].   Notice that the numbers wrap around.  \n",
    "\n",
    "Ex2:  \n",
    "Input: code = [1,2,3,4], k = 0  \n",
    "Output: [0,0,0,0]  \n",
    "Explanation: When k is zero, the numbers are replaced by 0.   \n",
    "\n",
    "Ex3:  \n",
    "Input: code = [2,4,9,3], k = -2  \n",
    "Output: [12,5,6,13]  \n",
    "Explanation: The decrypted code is [3+9, 2+3, 4+2, 9+4]. Notice that the numbers wrap around again. If k is negative, the sum is of the previous numbers.  "
   ]
  },
  {
   "cell_type": "markdown",
   "metadata": {},
   "source": [
    "* 解題想法:   \n",
    "由於題目要找出不同的k值情況下，找數值和的方向也不相同，因此先判斷K值再來決定迴圈的方向  \n",
    "如果k不等於0的情況下，先將題目提供的list乘2變成一個暫時的list，如果k大於0的情況下，用迴圈找出後k個數字的和  \n",
    "若k小於0的情況，則從暫存的list中間開始進行迴圈，並找出前k個值的和"
   ]
  },
  {
   "cell_type": "code",
   "execution_count": null,
   "metadata": {},
   "outputs": [],
   "source": [
    "class Solution:\n",
    "    def decrypt(self, code: List[int], k: int) -> List[int]:\n",
    "        result = []\n",
    "        temp = code + code\n",
    "        if k > 0:\n",
    "            k = k % len(code)\n",
    "            for n in range(len(code)):\n",
    "                total = 0\n",
    "                for l in range(k):\n",
    "                    total += temp[n+l+1]\n",
    "                result.append(total)\n",
    "        elif k < 0:\n",
    "            k = abs(k) % len(code)\n",
    "            for n in range(len(code)):\n",
    "                total = 0\n",
    "                for l in range(k):\n",
    "                    total += temp[len(code) + n - l - 1]\n",
    "                result.append(total)\n",
    "        else:\n",
    "            for n in range(len(code)):\n",
    "                result.append(0)\n",
    "        return result"
   ]
  }
 ],
 "metadata": {
  "kernelspec": {
   "display_name": "Python 3",
   "language": "python",
   "name": "python3"
  },
  "language_info": {
   "codemirror_mode": {
    "name": "ipython",
    "version": 3
   },
   "file_extension": ".py",
   "mimetype": "text/x-python",
   "name": "python",
   "nbconvert_exporter": "python",
   "pygments_lexer": "ipython3",
   "version": "3.7.4"
  }
 },
 "nbformat": 4,
 "nbformat_minor": 2
}
