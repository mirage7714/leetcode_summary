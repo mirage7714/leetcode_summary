{
 "cells": [
  {
   "cell_type": "markdown",
   "metadata": {},
   "source": [
    "# 本題要找出出現頻率最高的偶數為何\n",
    "原題目連結: https://leetcode.com/problems/most-frequent-even-element/  \n",
    "\n",
    "Given an integer array nums, return the most frequent even element.  \n",
    "If there is a tie, return the smallest one. If there is no such element, return -1.  \n",
    "\n",
    "範例:  \n",
    "Ex1:  \n",
    "Input: nums = [0,1,2,2,4,4,1]  \n",
    "Output: 2  \n",
    "Explanation:  \n",
    "The even elements are 0, 2, and 4. Of these, 2 and 4 appear the most.  \n",
    "We return the smallest one, which is 2.  \n",
    "\n",
    "Ex2:  \n",
    "Input: nums = [4,4,4,9,2,4]  \n",
    "Output: 4  \n",
    "Explanation: 4 is the even element appears the most.  \n",
    "\n",
    "Ex3:  \n",
    "Input: nums = [29,47,21,41,13,37,25,7]  \n",
    "Output: -1  \n",
    "Explanation: There is no even element."
   ]
  },
  {
   "cell_type": "markdown",
   "metadata": {},
   "source": [
    "* 解題想法:  \n",
    "首先建立一個dict，接著用迴圈檢查nums中的數值，如果是偶數的話，則檢查有沒有在dict中出現過並更新dict中出現的頻率，接著開始檢查dict中的最大值為何，如果有相同的情況則將key值換成較小的那個數值，最後回傳key值"
   ]
  },
  {
   "cell_type": "code",
   "execution_count": null,
   "metadata": {},
   "outputs": [],
   "source": [
    "class Solution:\n",
    "    def mostFrequentEven(self, nums: List[int]) -> int:\n",
    "        count = {}\n",
    "        result = -1 \n",
    "        c = 0\n",
    "        for n in nums:\n",
    "            if n % 2 == 0:\n",
    "                if n not in count.keys():\n",
    "                    count[n] = 1\n",
    "                else:\n",
    "                    count[n] += 1\n",
    "        if count: \n",
    "            for key, val in count.items():\n",
    "                if val > c:\n",
    "                    result = key\n",
    "                    c = val\n",
    "                elif val == c and result > key:\n",
    "                    result = key\n",
    "        return result"
   ]
  }
 ],
 "metadata": {
  "kernelspec": {
   "display_name": "Python 3",
   "language": "python",
   "name": "python3"
  },
  "language_info": {
   "codemirror_mode": {
    "name": "ipython",
    "version": 3
   },
   "file_extension": ".py",
   "mimetype": "text/x-python",
   "name": "python",
   "nbconvert_exporter": "python",
   "pygments_lexer": "ipython3",
   "version": "3.7.4"
  }
 },
 "nbformat": 4,
 "nbformat_minor": 4
}
