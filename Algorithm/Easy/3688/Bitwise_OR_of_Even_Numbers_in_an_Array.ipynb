{
 "cells": [
  {
   "cell_type": "markdown",
   "id": "304adb3c-f5da-42fa-81d1-9f83b7fc51aa",
   "metadata": {},
   "source": [
    "# 本題要找出list中所有偶數的Bitwise OR的和為多少 (\\#Array )\n",
    "原題目連結：https://leetcode.com/problems/bitwise-or-of-even-numbers-in-an-array/description/  \n",
    "\n",
    "You are given an integer array nums.  \n",
    "Return the bitwise OR of all even numbers in the array.  \n",
    "If there are no even numbers in nums, return 0.  \n",
    "\n",
    "範例：  \n",
    "Ex1:  \n",
    "Input: nums = [1,2,3,4,5,6]  \n",
    "Output: 6  \n",
    "Explanation:  \n",
    "The even numbers are 2, 4, and 6. Their bitwise OR equals 6.  \n",
    "\n",
    "Ex2:  \n",
    "Input: nums = [7,9,11]  \n",
    "Output: 0  \n",
    "Explanation:  \n",
    "There are no even numbers, so the result is 0.  \n",
    "\n",
    "Ex3:  \n",
    "Input: nums = [1,8,16]  \n",
    "Output: 24  \n",
    "Explanation:  \n",
    "The even numbers are 8 and 16. Their bitwise OR equals 24."
   ]
  },
  {
   "cell_type": "markdown",
   "id": "741bf580-8c33-4821-be78-5aa3c458a569",
   "metadata": {},
   "source": [
    "* 解題想法：  \n",
    "用迴圈找出所有的偶數之後再對他們取bitwise or之後，總和就是答案"
   ]
  },
  {
   "cell_type": "code",
   "execution_count": null,
   "id": "057c7761-1293-4dfb-8656-caab58f76ccd",
   "metadata": {},
   "outputs": [],
   "source": [
    "class Solution:\n",
    "    def evenNumberBitwiseORs(self, nums: List[int]) -> int:\n",
    "        res = 0\n",
    "        for n in nums:\n",
    "            if n % 2 == 0:\n",
    "                res = res | n\n",
    "        return res"
   ]
  }
 ],
 "metadata": {
  "kernelspec": {
   "display_name": "Python 3 (ipykernel)",
   "language": "python",
   "name": "python3"
  },
  "language_info": {
   "codemirror_mode": {
    "name": "ipython",
    "version": 3
   },
   "file_extension": ".py",
   "mimetype": "text/x-python",
   "name": "python",
   "nbconvert_exporter": "python",
   "pygments_lexer": "ipython3",
   "version": "3.10.9"
  }
 },
 "nbformat": 4,
 "nbformat_minor": 5
}
