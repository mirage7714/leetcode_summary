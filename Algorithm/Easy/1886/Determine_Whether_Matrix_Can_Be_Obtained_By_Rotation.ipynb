{
 "cells": [
  {
   "cell_type": "markdown",
   "metadata": {},
   "source": [
    "# 本題要找出指定的2D-array在旋轉後能不能得到指定的array\n",
    "原題目連結: https://leetcode.com/problems/determine-whether-matrix-can-be-obtained-by-rotation/  \n",
    "\n",
    "Given two n x n binary matrices mat and target, return true if it is possible to make mat equal to target by rotating mat in 90-degree increments, or false otherwise.  \n",
    "\n",
    "範例:  \n",
    "Ex1:  \n",
    "Input: mat = [[0,1],[1,0]], target = [[1,0],[0,1]]  \n",
    "Output: true  \n",
    "Explanation: We can rotate mat 90 degrees clockwise to make mat equal target.  \n",
    "\n",
    "Ex2:  \n",
    "Input: mat = [[0,1],[1,1]], target = [[1,0],[0,1]]  \n",
    "Output: false  \n",
    "Explanation: It is impossible to make mat equal to target by rotating mat.  \n",
    "\n",
    "Ex3:  \n",
    "Input: mat = [[0,0,0],[0,1,0],[1,1,1]], target = [[1,1,1],[0,1,0],[0,0,0]]  \n",
    "Output: true  \n",
    "Explanation: We can rotate mat 90 degrees clockwise two times to make mat equal target."
   ]
  },
  {
   "cell_type": "markdown",
   "metadata": {},
   "source": [
    "* 解題想法:  \n",
    "首先檢查兩個list是否相同，如果不相同的話，則對指定的2D list進行旋轉，並檢查是否相同，如果不相同則繼續進行旋轉，直到出現相同或是旋轉三次之後停止並回傳答案"
   ]
  },
  {
   "cell_type": "code",
   "execution_count": null,
   "metadata": {},
   "outputs": [],
   "source": [
    "class Solution:\n",
    "    def findRotation(self, mat: List[List[int]], target: List[List[int]]) -> bool:\n",
    "        def rotate(nums):\n",
    "            result = []\n",
    "            size = len(nums)\n",
    "            for m in range(size):\n",
    "                t = []\n",
    "                for n in range(size-1, -1, -1):\n",
    "                    t.append(nums[n][m])\n",
    "                result.append(t)\n",
    "            return result\n",
    "        \n",
    "        is_valid = False\n",
    "        temp = [mat]\n",
    "        if mat != target:\n",
    "            for n in range(3):\n",
    "                r = rotate(temp[-1])\n",
    "                if r != target:\n",
    "                    temp.append(r)\n",
    "                else:\n",
    "                    is_valid = True\n",
    "                    break\n",
    "        else:\n",
    "            is_valid = True\n",
    "        return is_valid"
   ]
  }
 ],
 "metadata": {
  "kernelspec": {
   "display_name": "Python 3",
   "language": "python",
   "name": "python3"
  },
  "language_info": {
   "codemirror_mode": {
    "name": "ipython",
    "version": 3
   },
   "file_extension": ".py",
   "mimetype": "text/x-python",
   "name": "python",
   "nbconvert_exporter": "python",
   "pygments_lexer": "ipython3",
   "version": "3.7.4"
  }
 },
 "nbformat": 4,
 "nbformat_minor": 2
}
