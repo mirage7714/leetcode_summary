{
 "cells": [
  {
   "cell_type": "markdown",
   "metadata": {},
   "source": [
    "# 本題要去除字串中最外層的括號\n",
    "原題目連結：https://leetcode.com/problems/remove-outermost-parentheses/  \n",
    "\n",
    "A valid parentheses string is either empty (\"\"), \"(\" + A + \")\", or A + B, where A and B are valid parentheses strings, and + represents string concatenation.  For example, \"\", \"()\", \"(())()\", and \"(()(()))\" are all valid parentheses strings.  \n",
    "\n",
    "A valid parentheses string S is primitive if it is nonempty, and there does not exist a way to split it into S = A+B, with A and B nonempty valid parentheses strings.  \n",
    "\n",
    "Given a valid parentheses string S, consider its primitive decomposition: S = P_1 + P_2 + ... + P_k, where P_i are primitive valid parentheses strings.  \n",
    "\n",
    "Return S after removing the outermost parentheses of every primitive string in the primitive decomposition of S.  \n",
    "\n",
    "範例：  \n",
    "Ex1:  \n",
    "Input: \"(()())(())\"  \n",
    "Output: \"()()()\"  \n",
    "Explanation:   \n",
    "The input string is \"(()())(())\", with primitive decomposition \"(()())\" + \"(())\".  \n",
    "After removing outer parentheses of each part, this is \"()()\" + \"()\" = \"()()()\".  \n",
    "\n",
    "Ex2:  \n",
    "Input: \"(()())(())(()(()))\"  \n",
    "Output: \"()()()()(())\"  \n",
    "Explanation:   \n",
    "The input string is \"(()())(())(()(()))\", with primitive decomposition \"(()())\" + \"(())\" + \"(()(()))\".  \n",
    "After removing outer parentheses of each part, this is \"()()\" + \"()\" + \"()(())\" = \"()()()()(())\".  \n",
    "\n",
    "Ex3:  \n",
    "Input: \"()()\"  \n",
    "Output: \"\"  \n",
    "Explanation:   \n",
    "The input string is \"()()\", with primitive decomposition \"()\" + \"()\".  \n",
    "After removing outer parentheses of each part, this is \"\" + \"\" = \"\"."
   ]
  },
  {
   "cell_type": "markdown",
   "metadata": {},
   "source": [
    "* 解題想法：  \n",
    "依題目說明，需要去除最外層的括號，因此判斷邏輯如下：  \n",
    "- 先建立兩個list來存放左括號與右括號的index  \n",
    "- 接著用迴圈來判斷出現的字元為左括號或是右括號\n",
    "- 如果兩個list長度相同時，則代表應有一組最外層的括號可以被去除，因此判斷如果list長度大於1時，需要將已有的字串加入結果中，如果長度為1，則代表只有一層括號，不需要加入任何結果，並將兩個list都清空  \n",
    "- 最後將結果回傳"
   ]
  },
  {
   "cell_type": "code",
   "execution_count": null,
   "metadata": {},
   "outputs": [],
   "source": [
    "class Solution:\n",
    "    def removeOuterParentheses(self, S: str) -> str:\n",
    "        result = ''\n",
    "        l = [0]\n",
    "        r = []\n",
    "        for n in range(1, len(S)):\n",
    "            if S[n] == '(':\n",
    "                l.append(n)\n",
    "            else:\n",
    "                r.append(n)\n",
    "            if len(l) == len(r):\n",
    "                if len(l) > 1:\n",
    "                    result += S[l[1]: r[-1]]\n",
    "                l.clear()\n",
    "                r.clear()\n",
    "        return result"
   ]
  }
 ],
 "metadata": {
  "kernelspec": {
   "display_name": "Python 3",
   "language": "python",
   "name": "python3"
  },
  "language_info": {
   "codemirror_mode": {
    "name": "ipython",
    "version": 3
   },
   "file_extension": ".py",
   "mimetype": "text/x-python",
   "name": "python",
   "nbconvert_exporter": "python",
   "pygments_lexer": "ipython3",
   "version": "3.7.6"
  }
 },
 "nbformat": 4,
 "nbformat_minor": 4
}
