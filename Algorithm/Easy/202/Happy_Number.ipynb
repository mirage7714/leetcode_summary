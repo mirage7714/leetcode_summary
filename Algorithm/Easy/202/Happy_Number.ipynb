{
 "cells": [
  {
   "cell_type": "markdown",
   "metadata": {},
   "source": [
    "# 本題主要是要找出各數值平方和最後可以為1的數值\n",
    "原題目連結: https://leetcode.com/problems/happy-number/  \n",
    "\n",
    "範例:  \n",
    "Ex1:  \n",
    "Input: 19  \n",
    "Output: true  \n",
    "Explanation:   \n",
    "12 + 92 = 82  \n",
    "82 + 22 = 68  \n",
    "62 + 82 = 100  \n",
    "12 + 02 + 02 = 1  "
   ]
  },
  {
   "cell_type": "markdown",
   "metadata": {},
   "source": [
    "* 解題想法: \n",
    "在題目的定義中，要找出最後平方和為1的數值不難，比較要傷腦筋的是要怎麼判斷如果一直找不出結果時，要將迴圈停止  \n",
    "最後想出來是將每次計算的結果都放進一個list中，當算出的值在list中出現過的時候，就表示這個數值是不符合題目\"happy number\"的定義  \n",
    "就可以終止迴圈了\n",
    "    "
   ]
  },
  {
   "cell_type": "code",
   "execution_count": null,
   "metadata": {},
   "outputs": [],
   "source": [
    "class Solution:\n",
    "    def isHappy(self, n: int) -> bool:\n",
    "        is_happy = False\n",
    "        guess = []\n",
    "        while True:\n",
    "            total = 0\n",
    "            count = 0\n",
    "            for m in range(len(str(n))):\n",
    "                total += pow(int(str(n)[m]),2)\n",
    "            if total == 1:\n",
    "                is_happy = True\n",
    "                break\n",
    "            else:\n",
    "                n = total\n",
    "                if n in guess:\n",
    "                    break\n",
    "                else:\n",
    "                    guess.append(n)\n",
    "        return is_happy"
   ]
  }
 ],
 "metadata": {
  "kernelspec": {
   "display_name": "Python 3",
   "language": "python",
   "name": "python3"
  },
  "language_info": {
   "codemirror_mode": {
    "name": "ipython",
    "version": 3
   },
   "file_extension": ".py",
   "mimetype": "text/x-python",
   "name": "python",
   "nbconvert_exporter": "python",
   "pygments_lexer": "ipython3",
   "version": "3.7.4"
  }
 },
 "nbformat": 4,
 "nbformat_minor": 2
}
