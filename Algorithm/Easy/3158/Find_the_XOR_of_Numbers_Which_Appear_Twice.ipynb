{
 "cells": [
  {
   "cell_type": "markdown",
   "id": "f7acfa38-c38a-4f48-9b43-7d65b54e3f99",
   "metadata": {},
   "source": [
    "# 本題要找出出現超過一次的數字的XOR為多少 (\\#Array )\n",
    "原題目連結: https://leetcode.com/problems/find-the-xor-of-numbers-which-appear-twice/description/  \n",
    "\n",
    "You are given an array nums, where each number in the array appears either once or twice.  \n",
    "Return the bitwise XOR of all the numbers that appear twice in the array, or 0 if no number appears twice.  \n",
    "\n",
    "範例:  \n",
    "Ex1:  \n",
    "Input: nums = [1,2,1,3]  \n",
    "Output: 1  \n",
    "Explanation:  \n",
    "The only number that appears twice in nums is 1.  \n",
    "\n",
    "Ex2:  \n",
    "Input: nums = [1,2,3]  \n",
    "Output: 0  \n",
    "Explanation:   \n",
    "No number appears twice in nums.  \n",
    "\n",
    "Ex3:  \n",
    "Input: nums = [1,2,2,1]  \n",
    "Output: 3  \n",
    "Explanation:  \n",
    "Numbers 1 and 2 appeared twice. 1 XOR 2 == 3."
   ]
  },
  {
   "cell_type": "markdown",
   "id": "35b220bf-bc94-4914-9479-49249f136cf7",
   "metadata": {},
   "source": [
    "* 解題想法:  \n",
    "首先找出出現超過一次的數字，並與目前結果取XOR，最後回傳XOR的結果就是答案"
   ]
  },
  {
   "cell_type": "code",
   "execution_count": null,
   "id": "3d179779-5fb9-4c94-970c-2973563e4a9a",
   "metadata": {},
   "outputs": [],
   "source": [
    "class Solution:\n",
    "    def duplicateNumbersXOR(self, nums: List[int]) -> int:\n",
    "        app = set()\n",
    "        res = 0\n",
    "        for n in nums:\n",
    "            if n in app:\n",
    "                res = res ^ n\n",
    "            else:\n",
    "                app.add(n)\n",
    "        return res"
   ]
  }
 ],
 "metadata": {
  "kernelspec": {
   "display_name": "Python 3 (ipykernel)",
   "language": "python",
   "name": "python3"
  },
  "language_info": {
   "codemirror_mode": {
    "name": "ipython",
    "version": 3
   },
   "file_extension": ".py",
   "mimetype": "text/x-python",
   "name": "python",
   "nbconvert_exporter": "python",
   "pygments_lexer": "ipython3",
   "version": "3.9.13"
  }
 },
 "nbformat": 4,
 "nbformat_minor": 5
}
