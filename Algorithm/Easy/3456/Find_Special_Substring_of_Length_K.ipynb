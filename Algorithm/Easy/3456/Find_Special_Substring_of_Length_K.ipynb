{
 "cells": [
  {
   "cell_type": "markdown",
   "id": "971204d4-de9f-42af-aeed-85e72849ea2b",
   "metadata": {},
   "source": [
    "# 本題要找出是否有指定長度且符合條件的字串 (\\#String )\n",
    "原題目連結：https://leetcode.com/problems/find-special-substring-of-length-k/description/  \n",
    "\n",
    "You are given a string s and an integer k.  \n",
    "Determine if there exists a substring of length exactly k in s that satisfies the following conditions:  \n",
    "- The substring consists of only one distinct character (e.g., \"aaa\" or \"bbb\").   \n",
    "- If there is a character immediately before the substring, it must be different from the character in the substring.  \n",
    "- If there is a character immediately after the substring, it must also be different from the character in the substring.  \n",
    "Return true if such a substring exists. Otherwise, return false.  \n",
    "\n",
    "範例：  \n",
    "Ex1:  \n",
    "Input: s = \"aaabaaa\", k = 3  \n",
    "Output: true  \n",
    "Explanation:  \n",
    "The substring s[4..6] == \"aaa\" satisfies the conditions.  \n",
    "It has a length of 3.  \n",
    "All characters are the same.  \n",
    "The character before \"aaa\" is 'b', which is different from 'a'.  \n",
    "There is no character after \"aaa\".  \n",
    "\n",
    "Ex2:  \n",
    "Input: s = \"abc\", k = 2  \n",
    "Output: false  \n",
    "Explanation:  \n",
    "There is no substring of length 2 that consists of one distinct character and satisfies the conditions."
   ]
  },
  {
   "cell_type": "markdown",
   "id": "114e2d50-518e-434b-aea5-c4e129d773bb",
   "metadata": {},
   "source": [
    "* 解題想法：  \n",
    "首先用一個暫存來存放相同的字串，接著用迴圈開始檢查如果出現相同的字則繼續加到暫存中，如果不相同則先檢查暫存長度是否符合指定長度，如果符合則回傳True，接著清空暫存之後放入新的字母，迴圈結束之後再檢查一次暫存是否符合條件，如果不符合條件則回傳False"
   ]
  },
  {
   "cell_type": "code",
   "execution_count": null,
   "id": "c88db4b9-e13c-4458-a3bb-5bb6550e9528",
   "metadata": {},
   "outputs": [],
   "source": [
    "class Solution:\n",
    "    def hasSpecialSubstring(self, s: str, k: int) -> bool:\n",
    "        if len(s) == 1 and k == 1:\n",
    "            return True\n",
    "        temp = s[0]\n",
    "        for i in s[1:]:\n",
    "            if i != temp[-1]:\n",
    "                if len(temp) == k:\n",
    "                    return True\n",
    "                temp = ''\n",
    "            temp += i\n",
    "        if len(temp) == k:\n",
    "            return True\n",
    "        return False"
   ]
  }
 ],
 "metadata": {
  "kernelspec": {
   "display_name": "Python 3 (ipykernel)",
   "language": "python",
   "name": "python3"
  },
  "language_info": {
   "codemirror_mode": {
    "name": "ipython",
    "version": 3
   },
   "file_extension": ".py",
   "mimetype": "text/x-python",
   "name": "python",
   "nbconvert_exporter": "python",
   "pygments_lexer": "ipython3",
   "version": "3.10.9"
  }
 },
 "nbformat": 4,
 "nbformat_minor": 5
}
