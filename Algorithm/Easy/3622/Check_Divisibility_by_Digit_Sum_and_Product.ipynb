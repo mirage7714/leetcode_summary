{
 "cells": [
  {
   "cell_type": "markdown",
   "id": "0815b9ba-6f08-4be4-b7ef-4a4cd7d90c45",
   "metadata": {},
   "source": [
    "# 本題要找出該數值是否為特定條件的倍數 (\\#Math )\n",
    "原題目連結: https://leetcode.com/problems/check-divisibility-by-digit-sum-and-product/description/?page=63  \n",
    "\n",
    "You are given a positive integer n. Determine whether n is divisible by the sum of the following two values:  \n",
    "The digit sum of n (the sum of its digits).  \n",
    "The digit product of n (the product of its digits).  \n",
    "Return true if n is divisible by this sum; otherwise, return false.  \n",
    "\n",
    "範例:  \n",
    "Ex1:  \n",
    "Input: n = 99  \n",
    "Output: true  \n",
    "Explanation:  \n",
    "Since 99 is divisible by the sum (9 + 9 = 18) plus product (9 * 9 = 81) of its digits (total 99), the output is true.  \n",
    "\n",
    "Ex2:  \n",
    "Input: n = 23  \n",
    "Output: false  \n",
    "Explanation:  \n",
    "Since 23 is not divisible by the sum (2 + 3 = 5) plus product (2 * 3 = 6) of its digits (total 11), the output is false.  "
   ]
  },
  {
   "cell_type": "markdown",
   "id": "bdc39428-910e-4671-8e77-16abab88a599",
   "metadata": {},
   "source": [
    "* 解題想法:\n",
    "首先找出該數值所有位數的總和與乘積，接著將兩數相加後確認是否為原本數值的因數，如果是則回傳True，否則回傳False"
   ]
  },
  {
   "cell_type": "code",
   "execution_count": null,
   "id": "c30466b2-9a8b-4796-a053-08c108c7b5cb",
   "metadata": {},
   "outputs": [],
   "source": [
    "class Solution:\n",
    "    def checkDivisibility(self, n: int) -> bool:\n",
    "        total = 0\n",
    "        mul = 1\n",
    "        for i in str(n):\n",
    "            total += int(i)\n",
    "            mul = mul * int(i)\n",
    "        return n % (mul + total) == 0"
   ]
  }
 ],
 "metadata": {
  "kernelspec": {
   "display_name": "Python 3 (ipykernel)",
   "language": "python",
   "name": "python3"
  },
  "language_info": {
   "codemirror_mode": {
    "name": "ipython",
    "version": 3
   },
   "file_extension": ".py",
   "mimetype": "text/x-python",
   "name": "python",
   "nbconvert_exporter": "python",
   "pygments_lexer": "ipython3",
   "version": "3.12.5"
  }
 },
 "nbformat": 4,
 "nbformat_minor": 5
}
