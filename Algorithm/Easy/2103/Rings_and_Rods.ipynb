{
 "cells": [
  {
   "cell_type": "markdown",
   "metadata": {},
   "source": [
    "# 本題要找出共有幾個柱子符合同時有RGB三個條件\n",
    "原題目連結: https://leetcode.com/problems/rings-and-rods/  \n",
    "\n",
    "There are n rings and each ring is either red, green, or blue. The rings are distributed across ten rods labeled from 0 to 9.  \n",
    "\n",
    "You are given a string rings of length 2n that describes the n rings that are placed onto the rods. Every two characters in rings forms a color-position pair that is used to describe each ring where:  \n",
    "\n",
    "The first character of the ith pair denotes the ith ring's color ('R', 'G', 'B').  \n",
    "The second character of the ith pair denotes the rod that the ith ring is placed on ('0' to '9').  \n",
    "For example, \"R3G2B1\" describes n == 3 rings: a red ring placed onto the rod labeled 3, a green ring placed onto the rod labeled 2, and a blue ring placed onto the rod labeled 1.  \n",
    "\n",
    "Return the number of rods that have all three colors of rings on them.  \n",
    "\n",
    "範例:  \n",
    "Ex1:  \n",
    "Input: rings = \"B0B6G0R6R0R6G9\"  \n",
    "Output: 1  \n",
    "Explanation:   \n",
    "- The rod labeled 0 holds 3 rings with all colors: red, green, and blue.  \n",
    "- The rod labeled 6 holds 3 rings, but it only has red and blue.  \n",
    "- The rod labeled 9 holds only a green ring.  \n",
    "Thus, the number of rods with all three colors is 1.  \n",
    "\n",
    "Ex2:  \n",
    "Input: rings = \"B0R0G0R9R0B0G0\"  \n",
    "Output: 1  \n",
    "Explanation:   \n",
    "- The rod labeled 0 holds 6 rings with all colors: red, green, and blue.  \n",
    "- The rod labeled 9 holds only a red ring.  \n",
    "Thus, the number of rods with all three colors is 1.  \n",
    "\n",
    "Ex3:  \n",
    "Input: rings = \"G4\"  \n",
    "Output: 0    \n",
    "Explanation:   \n",
    "Only one ring is given. Thus, no rods have all three colors."
   ]
  },
  {
   "cell_type": "markdown",
   "metadata": {},
   "source": [
    "* 解題想法:  \n",
    "依題目說明，將字串用兩個字去拆成一組，第一個字是顏色，第二個字是位置，所以用位置當成key，顏色當成val，如果這個位置已經有出現過相同顏色則不需重複計算，當有三個顏色的時候則將結果+1，最後回傳結果"
   ]
  },
  {
   "cell_type": "code",
   "execution_count": null,
   "metadata": {},
   "outputs": [],
   "source": [
    "class Solution:\n",
    "    def countPoints(self, rings: str) -> int:\n",
    "        freq = {}\n",
    "        result = 0\n",
    "        for m in range(0, len(rings), 2):\n",
    "            key = rings[m+1]\n",
    "            val = rings[m]\n",
    "            if key not in freq.keys():\n",
    "                freq[key] = [val]\n",
    "            else:\n",
    "                if val not in freq[key]:\n",
    "                    freq[key].append(val)\n",
    "                    if len(freq[key]) == 3:\n",
    "                        result += 1\n",
    "        return result"
   ]
  }
 ],
 "metadata": {
  "kernelspec": {
   "display_name": "Python 3",
   "language": "python",
   "name": "python3"
  },
  "language_info": {
   "codemirror_mode": {
    "name": "ipython",
    "version": 3
   },
   "file_extension": ".py",
   "mimetype": "text/x-python",
   "name": "python",
   "nbconvert_exporter": "python",
   "pygments_lexer": "ipython3",
   "version": "3.7.4"
  }
 },
 "nbformat": 4,
 "nbformat_minor": 4
}
