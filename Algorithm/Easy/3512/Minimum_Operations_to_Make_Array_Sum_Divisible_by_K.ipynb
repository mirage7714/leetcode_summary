{
 "cells": [
  {
   "cell_type": "markdown",
   "id": "6da8cef0-96eb-463a-869b-4a6515f4c548",
   "metadata": {},
   "source": [
    "# 本題要找出最少要刪掉多少數字才能讓list總合為k的倍數 (\\#Array )\n",
    "\n",
    "原題目連結: https://leetcode.com/problems/minimum-operations-to-make-array-sum-divisible-by-k/description/  \n",
    "\n",
    "You are given an integer array nums and an integer k. You can perform the following operation any number of times:  \n",
    "\n",
    "Select an index i and replace nums[i] with nums[i] - 1.  \n",
    "Return the minimum number of operations required to make the sum of the array divisible by k.  \n",
    "\n",
    "範例:  \n",
    "Ex1:  \n",
    "Input: nums = [3,9,7], k = 5  \n",
    "Output: 4  \n",
    "Explanation:  \n",
    "Perform 4 operations on nums[1] = 9. Now, nums = [3, 5, 7].  \n",
    "The sum is 15, which is divisible by 5.  \n",
    "\n",
    "Ex2:  \n",
    "Input: nums = [4,1,3], k = 4  \n",
    "Output: 0  \n",
    "Explanation:  \n",
    "The sum is 8, which is already divisible by 4. Hence, no operations are needed.  \n",
    "\n",
    "Ex3:  \n",
    "Input: nums = [3,2], k = 6  \n",
    "Output: 5  \n",
    "Explanation:  \n",
    "Perform 3 operations on nums[0] = 3 and 2 operations on nums[1] = 2. Now, nums = [0, 0].  \n",
    "The sum is 0, which is divisible by 6."
   ]
  },
  {
   "cell_type": "markdown",
   "id": "888733a2-72aa-4494-8fb2-8d1e59190926",
   "metadata": {},
   "source": [
    "* 解題想法:  \n",
    "首先算出list的總和，最後找出除以k剩下的餘數就是答案"
   ]
  },
  {
   "cell_type": "code",
   "execution_count": null,
   "id": "9ed81095-c04f-4181-95ab-cdf24995c52d",
   "metadata": {},
   "outputs": [],
   "source": [
    "class Solution:\n",
    "    def minOperations(self, nums: List[int], k: int) -> int:\n",
    "        total = 0\n",
    "        for n in nums:\n",
    "            total += n\n",
    "        return total % k"
   ]
  }
 ],
 "metadata": {
  "kernelspec": {
   "display_name": "Python 3 (ipykernel)",
   "language": "python",
   "name": "python3"
  },
  "language_info": {
   "codemirror_mode": {
    "name": "ipython",
    "version": 3
   },
   "file_extension": ".py",
   "mimetype": "text/x-python",
   "name": "python",
   "nbconvert_exporter": "python",
   "pygments_lexer": "ipython3",
   "version": "3.12.5"
  }
 },
 "nbformat": 4,
 "nbformat_minor": 5
}
