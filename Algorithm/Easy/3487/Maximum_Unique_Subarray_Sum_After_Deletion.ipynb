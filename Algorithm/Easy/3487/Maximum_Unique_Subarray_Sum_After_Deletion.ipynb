{
 "cells": [
  {
   "cell_type": "markdown",
   "id": "f824f61f-cb4a-422b-b3d6-e187e64ae99c",
   "metadata": {},
   "source": [
    "# 本題要找出所有不重複數值的總和為多少 (\\#Array )\n",
    "原題目連結：https://leetcode.com/problems/maximum-unique-subarray-sum-after-deletion/description/  \n",
    "\n",
    "You are given an integer array nums.  \n",
    "You are allowed to delete any number of elements from nums without making it empty. After performing the deletions, select a subarray of nums such that:  \n",
    "All elements in the subarray are unique.  \n",
    "The sum of the elements in the subarray is maximized.  \n",
    "Return the maximum sum of such a subarray.  \n",
    "\n",
    "範例：  \n",
    "Ex1:  \n",
    "Input: nums = [1,2,3,4,5]  \n",
    "Output: 15  \n",
    "Explanation:  \n",
    "Select the entire array without deleting any element to obtain the maximum sum.  \n",
    "\n",
    "Ex2:  \n",
    "Input: nums = [1,1,0,1,1]   \n",
    "Output: 1  \n",
    "Explanation:  \n",
    "Delete the element nums[0] == 1, nums[1] == 1, nums[2] == 0, and nums[3] == 1. Select the entire array [1] to obtain the maximum sum.  \n",
    "\n",
    "Ex3:  \n",
    "Input: nums = [1,2,-1,-2,1,0,-1]  \n",
    "Output: 3  \n",
    "Explanation:  \n",
    "Delete the elements nums[2] == -1 and nums[3] == -2, and select the subarray [2, 1] from [1, 2, 1, 0, -1] to obtain the maximum sum."
   ]
  },
  {
   "cell_type": "markdown",
   "id": "a0b2666d-2e53-4f0b-827f-61ade2a31817",
   "metadata": {},
   "source": [
    "* 解題想法：  \n",
    "首先將list轉換成heap之後，接著開始取出數值，並用一個變數來存放前一個數值，如果該數值大於0且不重複的情況則加到總和中，如果最後前一個數值仍小於0且總和為0，則總和就是最後一個數值"
   ]
  },
  {
   "cell_type": "code",
   "execution_count": null,
   "id": "74ab935f-1dc3-40c1-b1f2-7b20a932e746",
   "metadata": {},
   "outputs": [],
   "source": [
    "import heapq\n",
    "\n",
    "class Solution:\n",
    "    def maxSum(self, nums: List[int]) -> int:\n",
    "        heapq.heapify(nums)\n",
    "        res = 0\n",
    "        prev = 0\n",
    "        while nums:\n",
    "            n = heapq.heappop(nums)\n",
    "            if n > 0 and n != prev:\n",
    "                res += n\n",
    "            prev = n\n",
    "        if prev < 0 and res == 0:\n",
    "            res = prev\n",
    "        return res"
   ]
  }
 ],
 "metadata": {
  "kernelspec": {
   "display_name": "Python 3 (ipykernel)",
   "language": "python",
   "name": "python3"
  },
  "language_info": {
   "codemirror_mode": {
    "name": "ipython",
    "version": 3
   },
   "file_extension": ".py",
   "mimetype": "text/x-python",
   "name": "python",
   "nbconvert_exporter": "python",
   "pygments_lexer": "ipython3",
   "version": "3.10.9"
  }
 },
 "nbformat": 4,
 "nbformat_minor": 5
}
