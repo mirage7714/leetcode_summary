{
 "cells": [
  {
   "cell_type": "markdown",
   "id": "0a67a586-6786-4e3f-9a8d-f75f34f96d18",
   "metadata": {},
   "source": [
    "# 本題要找到嚴格遞增或是嚴格遞減的sublist長度最大為多少 (\\#Array )\n",
    "原題目連結：https://leetcode.com/problems/longest-strictly-increasing-or-strictly-decreasing-subarray/description/  \n",
    "\n",
    "You are given an array of integers nums. Return the length of the longest subarray of nums which is either strictly increasing or strictly decreasing.  \n",
    "\n",
    "範例：  \n",
    "Ex1:  \n",
    "Input: nums = [1,4,3,3,2]  \n",
    "Output: 2  \n",
    "Explanation:  \n",
    "The strictly increasing subarrays of nums are [1], [2], [3], [3], [4], and [1,4].  \n",
    "The strictly decreasing subarrays of nums are [1], [2], [3], [3], [4], [3,2], and [4,3].  \n",
    "Hence, we return 2.  \n",
    "\n",
    "Ex2:  \n",
    "Input: nums = [3,3,3,3]  \n",
    "Output: 1  \n",
    "Explanation:  \n",
    "The strictly increasing subarrays of nums are [3], [3], [3], and [3].  \n",
    "The strictly decreasing subarrays of nums are [3], [3], [3], and [3].  \n",
    "Hence, we return 1.   \n",
    "\n",
    "Ex3:  \n",
    "Input: nums = [3,2,1]  \n",
    "Output: 3  \n",
    "Explanation:  \n",
    "The strictly increasing subarrays of nums are [3], [2], and [1].  \n",
    "The strictly decreasing subarrays of nums are [3], [2], [1], [3,2], [2,1], and [3,2,1].  \n",
    "Hence, we return 3."
   ]
  },
  {
   "cell_type": "markdown",
   "id": "920369c4-57b0-4705-9e4d-c1e1541582a8",
   "metadata": {},
   "source": [
    "* 解題想法：  \n",
    "首先用一個list作為暫存，並把nums第一個數值放入，接著開始檢查nums中的數值：  \n",
    "- 如果當nums數值與暫存的最後一個數值相同，則更新目前最大值並清空暫存  \n",
    "- 如果是遇到遞增遞減方向不相同時，則一樣更新目前最大長度，接著清空暫存只留下最後一個數值，並將新的數值放入暫存中  \n",
    "- 如果目前暫存中只有一個數值且不等於nums時則放入新的數值  \n",
    "最後回傳最大的長度就是答案"
   ]
  },
  {
   "cell_type": "code",
   "execution_count": null,
   "id": "4a94c65e-1502-40eb-b47c-9ed889b6c986",
   "metadata": {},
   "outputs": [],
   "source": [
    "class Solution:\n",
    "    def longestMonotonicSubarray(self, nums: List[int]) -> int:\n",
    "        res = 1\n",
    "        start = nums[0]\n",
    "        temp = [start]\n",
    "        for i in range(1, len(nums)):\n",
    "            n = nums[i]\n",
    "            if len(temp) > 1:\n",
    "                if temp[-1] == n:\n",
    "                    res = max(res, len(temp))\n",
    "                    temp.clear()\n",
    "                elif n > temp[-1] and temp[0] > temp[1]:\n",
    "                    res = max(res, len(temp))\n",
    "                    temp = [temp[-1]]\n",
    "                elif n < temp[-1] and temp[0] < temp[1]:\n",
    "                    res = max(res, len(temp))\n",
    "                    temp = [temp[-1]]\n",
    "                temp.append(n)\n",
    "            else:\n",
    "                if temp[0] != n:\n",
    "                    temp.append(n)\n",
    "        res = max(res, len(temp))\n",
    "        return res"
   ]
  }
 ],
 "metadata": {
  "kernelspec": {
   "display_name": "Python 3 (ipykernel)",
   "language": "python",
   "name": "python3"
  },
  "language_info": {
   "codemirror_mode": {
    "name": "ipython",
    "version": 3
   },
   "file_extension": ".py",
   "mimetype": "text/x-python",
   "name": "python",
   "nbconvert_exporter": "python",
   "pygments_lexer": "ipython3",
   "version": "3.10.9"
  }
 },
 "nbformat": 4,
 "nbformat_minor": 5
}
