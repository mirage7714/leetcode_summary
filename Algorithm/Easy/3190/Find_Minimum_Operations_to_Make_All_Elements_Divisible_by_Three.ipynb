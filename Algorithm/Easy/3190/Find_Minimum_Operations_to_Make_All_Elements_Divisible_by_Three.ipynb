{
 "cells": [
  {
   "cell_type": "markdown",
   "id": "e4208a78-7e60-4631-a7fe-b2099d11bbb1",
   "metadata": {},
   "source": [
    "# 本題要找出多少次的操作才能讓全部的數值為3的倍數 (\\#Array )\n",
    "原題目連結: https://leetcode.com/problems/find-minimum-operations-to-make-all-elements-divisible-by-three/description/  \n",
    "\n",
    "You are given an integer array nums. In one operation, you can add or subtract 1 from any element of nums.  \n",
    "Return the minimum number of operations to make all elements of nums divisible by 3.  \n",
    "\n",
    "範例:  \n",
    "Ex1:  \n",
    "Input: nums = [1,2,3,4]  \n",
    "Output: 3  \n",
    "Explanation:  \n",
    "All array elements can be made divisible by 3 using 3 operations:  \n",
    "Subtract 1 from 1.  \n",
    "Add 1 to 2.  \n",
    "Subtract 1 from 4.  \n",
    "\n",
    "Ex2:  \n",
    "Input: nums = [3,6,9]  \n",
    "Output: 0  "
   ]
  },
  {
   "cell_type": "markdown",
   "id": "0695882d-a4f2-4cb5-a540-2b997609b0eb",
   "metadata": {},
   "source": [
    "* 解題想法:  \n",
    "檢查list中美個數值，如果不是3的倍數則將結果加1，最後回傳加總的結果就是答案"
   ]
  },
  {
   "cell_type": "code",
   "execution_count": null,
   "id": "2b823ec3-bd1f-4ac0-aa65-a2ef89c5ec18",
   "metadata": {},
   "outputs": [],
   "source": [
    "class Solution:\n",
    "    def minimumOperations(self, nums: List[int]) -> int:\n",
    "        res = 0\n",
    "        for n in nums:\n",
    "            if n % 3 != 0:\n",
    "                res += 1\n",
    "        return res"
   ]
  }
 ],
 "metadata": {
  "kernelspec": {
   "display_name": "Python 3 (ipykernel)",
   "language": "python",
   "name": "python3"
  },
  "language_info": {
   "codemirror_mode": {
    "name": "ipython",
    "version": 3
   },
   "file_extension": ".py",
   "mimetype": "text/x-python",
   "name": "python",
   "nbconvert_exporter": "python",
   "pygments_lexer": "ipython3",
   "version": "3.9.13"
  }
 },
 "nbformat": 4,
 "nbformat_minor": 5
}
