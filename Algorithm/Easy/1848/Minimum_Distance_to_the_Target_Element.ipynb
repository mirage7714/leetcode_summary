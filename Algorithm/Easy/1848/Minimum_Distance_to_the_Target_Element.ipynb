{
 "cells": [
  {
   "cell_type": "markdown",
   "metadata": {},
   "source": [
    "# 本題要找出指定元素與index的最小值為何\n",
    "原題目連結: https://leetcode.com/problems/minimum-distance-to-the-target-element/  \n",
    "\n",
    "Given an integer array nums (0-indexed) and two integers target and start, find an index i such that nums[i] == target and abs(i - start) is minimized. Note that abs(x) is the absolute value of x.  \n",
    "\n",
    "Return abs(i - start).  \n",
    "It is guaranteed that target exists in nums.  \n",
    "\n",
    "範例:  \n",
    "Ex1:  \n",
    "Input: nums = [1,2,3,4,5], target = 5, start = 3  \n",
    "Output: 1  \n",
    "Explanation: nums[4] = 5 is the only value equal to target, so the answer is abs(4 - 3) = 1.  \n",
    "\n",
    "Ex2:  \n",
    "Input: nums = [1], target = 1, start = 0  \n",
    "Output: 0  \n",
    "Explanation: nums[0] = 1 is the only value equal to target, so the answer is abs(0 - 0) = 1.  \n",
    "\n",
    "Ex3:  \n",
    "Input: nums = [1,1,1,1,1,1,1,1,1,1], target = 1, start = 0  \n",
    "Output: 0  \n",
    "Explanation: Every value of nums is 1, but nums[0] minimizes abs(i - start), which is abs(0 - 0) = 0."
   ]
  },
  {
   "cell_type": "markdown",
   "metadata": {},
   "source": [
    "* 解題想法:  \n",
    "依題目說明，首先要找出target在nums出現的index為何並放入一個list中，接著判斷以下條件:  \n",
    "  - 如果list長度為1，則代表只有出現過一次，因此就是直接用i - start  \n",
    "  - 如果list長度大於1，則先比較start與list最大值，如果start大於list最大值，則回傳start - max(list)\n",
    "  - 如果list長度大於1，且start小於list最小值，則回傳min(list) - start  \n",
    "  - 如果list長度大於1，且start介於list最大與最小值之間，則將start放入list中並排序後找出start左右兩個值，並找出絕對值最小的結果  \n",
    "最後將結果回傳"
   ]
  },
  {
   "cell_type": "code",
   "execution_count": null,
   "metadata": {},
   "outputs": [],
   "source": [
    "class Solution:\n",
    "    def getMinDistance(self, nums: List[int], target: int, start: int) -> int:\n",
    "        result = 0\n",
    "        if nums[start] != target:\n",
    "            temp = []\n",
    "            for m in range(len(nums)):\n",
    "                if nums[m] == target:\n",
    "                    temp.append(m)\n",
    "            print(temp)\n",
    "            if start not in temp:\n",
    "                if len(temp) > 1:\n",
    "                    if start > max(temp):\n",
    "                        result = start - max(temp)\n",
    "                    elif start < min(temp):\n",
    "                        result = min(temp) - start\n",
    "                    else:\n",
    "                        temp.append(start)\n",
    "                        temp.sort()\n",
    "                        i = temp.index(start)\n",
    "                        result = min(abs(temp[i-1] - start), abs(temp[i+1] - start))\n",
    "                else:\n",
    "                    result = abs(temp[0] - start)\n",
    "        return result"
   ]
  }
 ],
 "metadata": {
  "kernelspec": {
   "display_name": "Python 3",
   "language": "python",
   "name": "python3"
  },
  "language_info": {
   "codemirror_mode": {
    "name": "ipython",
    "version": 3
   },
   "file_extension": ".py",
   "mimetype": "text/x-python",
   "name": "python",
   "nbconvert_exporter": "python",
   "pygments_lexer": "ipython3",
   "version": "3.7.4"
  }
 },
 "nbformat": 4,
 "nbformat_minor": 2
}
