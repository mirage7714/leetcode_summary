{
 "cells": [
  {
   "cell_type": "markdown",
   "metadata": {},
   "source": [
    "# 本題要將原有字串內的空白重新調整位置，並回傳調整後的結果\n",
    "原題目連結: https://leetcode.com/problems/rearrange-spaces-between-words/  \n",
    "\n",
    "You are given a string text of words that are placed among some number of spaces. Each word consists of one or more lowercase English letters and are separated by at least one space. It's guaranteed that text contains at least one word.  \n",
    "\n",
    "Rearrange the spaces so that there is an equal number of spaces between every pair of adjacent words and that number is maximized. If you cannot redistribute all the spaces equally, place the extra spaces at the end, meaning the returned string should be the same length as text.  \n",
    "\n",
    "Return the string after rearranging the spaces.  \n",
    "\n",
    "範例:  \n",
    "Ex1:  \n",
    "Input: text = \"  this   is  a sentence \"  \n",
    "Output: \"this   is   a   sentence\"  \n",
    "Explanation: There are a total of 9 spaces and 4 words. We can evenly divide the 9 spaces between the words: 9 / (4-1) = 3 spaces.  \n",
    "\n",
    "Ex2:  \n",
    "Input: text = \" practice   makes   perfect\"  \n",
    "Output: \"practice   makes   perfect \"  \n",
    "Explanation: There are a total of 7 spaces and 3 words. 7 / (3-1) = 3 spaces plus 1 extra space. We place this extra space at the end of the string.  \n",
    "\n",
    "Ex3:  \n",
    "Input: text = \"hello   world\"  \n",
    "Output: \"hello   world\"  \n",
    "\n",
    "Ex4:  \n",
    "Input: text = \"  walks  udp package   into  bar a\"  \n",
    "Output: \"walks  udp  package  into  bar  a \"  \n",
    "\n",
    "Ex5:  \n",
    "Input: text = \"a\"  \n",
    "Output: \"a\""
   ]
  },
  {
   "cell_type": "markdown",
   "metadata": {},
   "source": [
    "* 解題想法:  \n",
    "由於題目要求要將字串與空白的位置重新進行排序，因此需要先找出有多少的空白以及多少的字串，再來計算每個字中間需要插入多少的空白  \n",
    "另外如果文字長度只有1，或是中間沒有空白，也需要另外做處理"
   ]
  },
  {
   "cell_type": "code",
   "execution_count": null,
   "metadata": {},
   "outputs": [],
   "source": [
    "class Solution:\n",
    "    def reorderSpaces(self, text: str) -> str:\n",
    "        result = ''\n",
    "        space_size = len(text) - len(text.replace(' ',''))\n",
    "        words = []\n",
    "        for t in text.split(' '):\n",
    "            if len(t) > 0:\n",
    "                words.append(t)\n",
    "        if space_size > 0:\n",
    "            if len(words) > 1 :\n",
    "                left = space_size % (len(words) - 1)\n",
    "                interval = int((space_size - left) / (len(words) -1))\n",
    "                for w in range(len(words)-1):\n",
    "                    result += words[w]\n",
    "                    for n in range(interval):\n",
    "                        result += ' '\n",
    "                result += words[-1]\n",
    "                if left > 0:\n",
    "                    for l in range(left):\n",
    "                        result += ' '\n",
    "            else:\n",
    "                result += words[0]\n",
    "                for n in range(space_size):\n",
    "                    result += ' '\n",
    "        else:\n",
    "            result = text\n",
    "        return result"
   ]
  }
 ],
 "metadata": {
  "kernelspec": {
   "display_name": "Python 3",
   "language": "python",
   "name": "python3"
  },
  "language_info": {
   "codemirror_mode": {
    "name": "ipython",
    "version": 3
   },
   "file_extension": ".py",
   "mimetype": "text/x-python",
   "name": "python",
   "nbconvert_exporter": "python",
   "pygments_lexer": "ipython3",
   "version": "3.7.6"
  }
 },
 "nbformat": 4,
 "nbformat_minor": 4
}
