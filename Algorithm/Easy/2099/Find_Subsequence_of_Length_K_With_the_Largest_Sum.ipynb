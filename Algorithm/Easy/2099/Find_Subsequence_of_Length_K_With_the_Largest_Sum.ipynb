{
 "cells": [
  {
   "cell_type": "markdown",
   "metadata": {},
   "source": [
    "# 本題要找出指定長度中，最大和的sub-list為多少\n",
    "原題目連結: https://leetcode.com/problems/find-subsequence-of-length-k-with-the-largest-sum/  \n",
    "\n",
    "You are given an integer array nums and an integer k. You want to find a subsequence of nums of length k that has the largest sum.  \n",
    "\n",
    "Return any such subsequence as an integer array of length k.  \n",
    "\n",
    "A subsequence is an array that can be derived from another array by deleting some or no elements without changing the order of the remaining elements.  \n",
    "\n",
    "範例: \n",
    "Ex1:  \n",
    "Input: nums = [2,1,3,3], k = 2  \n",
    "Output: [3,3]  \n",
    "Explanation:  \n",
    "The subsequence has the largest sum of 3 + 3 = 6.  \n",
    "\n",
    "Ex2:  \n",
    "Input: nums = [-1,-2,3,4], k = 3  \n",
    "Output: [-1,3,4]  \n",
    "Explanation:   \n",
    "The subsequence has the largest sum of -1 + 3 + 4 = 6.  \n",
    "\n",
    "Ex3:  \n",
    "Input: nums = [3,4,3,3], k = 2  \n",
    "Output: [3,4]  \n",
    "Explanation:  \n",
    "The subsequence has the largest sum of 3 + 4 = 7.   \n",
    "Another possible subsequence is [4, 3]."
   ]
  },
  {
   "cell_type": "markdown",
   "metadata": {},
   "source": [
    "* 解題想法:  \n",
    "首先將原題目提供的list進行排序後，找出前K個值並算出組合為何，接著從原本的list中開始判斷是否在這個組合內，如果存在則加入另一個list中，並將次數-1，最後回傳重新組合過的list"
   ]
  },
  {
   "cell_type": "code",
   "execution_count": null,
   "metadata": {},
   "outputs": [],
   "source": [
    "class Solution:\n",
    "    def maxSubsequence(self, nums: List[int], k: int) -> List[int]:\n",
    "        result = []\n",
    "        freq = {}\n",
    "        orders = sorted(nums, reverse = True)\n",
    "        orders = orders[:k]\n",
    "        for o in orders:\n",
    "            if o not in freq.keys():\n",
    "                freq[o] = 1\n",
    "            else:\n",
    "                freq[o] += 1\n",
    "        for n in nums:\n",
    "            if n in freq.keys():\n",
    "                if freq[n] > 0:\n",
    "                    result.append(n)\n",
    "                    freq[n] -= 1\n",
    "        return result"
   ]
  }
 ],
 "metadata": {
  "kernelspec": {
   "display_name": "Python 3",
   "language": "python",
   "name": "python3"
  },
  "language_info": {
   "codemirror_mode": {
    "name": "ipython",
    "version": 3
   },
   "file_extension": ".py",
   "mimetype": "text/x-python",
   "name": "python",
   "nbconvert_exporter": "python",
   "pygments_lexer": "ipython3",
   "version": "3.7.4"
  }
 },
 "nbformat": 4,
 "nbformat_minor": 4
}
