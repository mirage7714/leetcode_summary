{
 "cells": [
  {
   "cell_type": "markdown",
   "metadata": {},
   "source": [
    "# 本題要將指定的字串進行解碼\n",
    "原題目連結: https://leetcode.com/problems/decode-the-message/  \n",
    "\n",
    "You are given the strings key and message, which represent a cipher key and a secret message, respectively. The steps to decode message are as follows:  \n",
    "\n",
    "Use the first appearance of all 26 lowercase English letters in key as the order of the substitution table.  \n",
    "Align the substitution table with the regular English alphabet.  \n",
    "Each letter in message is then substituted using the table.  \n",
    "Spaces ' ' are transformed to themselves.  \n",
    "For example, given key = \"happy boy\" (actual key would have at least one instance of each letter in the alphabet), we have the partial substitution table of ('h' -> 'a', 'a' -> 'b', 'p' -> 'c', 'y' -> 'd', 'b' -> 'e', 'o' -> 'f').  \n",
    "Return the decoded message.  \n",
    "\n",
    "範例:  \n",
    "Ex1:  \n",
    "Input: key = \"the quick brown fox jumps over the lazy dog\", message = \"vkbs bs t suepuv\"  \n",
    "Output: \"this is a secret\"  \n",
    "Explanation: The diagram above shows the substitution table.  \n",
    "It is obtained by taking the first appearance of each letter in \"the quick brown fox jumps over the lazy dog\".  \n",
    "\n",
    "Ex2:  \n",
    "Input: key = \"eljuxhpwnyrdgtqkviszcfmabo\", message = \"zwx hnfx lqantp mnoeius ycgk vcnjrdb\"  \n",
    "Output: \"the five boxing wizards jump quickly\"  \n",
    "Explanation: The diagram above shows the substitution table.  \n",
    "It is obtained by taking the first appearance of each letter in \"eljuxhpwnyrdgtqkviszcfmabo\"."
   ]
  },
  {
   "cell_type": "markdown",
   "metadata": {},
   "source": [
    "* 解題想法:  \n",
    "首先將key中的值轉換為對應的英文字母，接著將message中的字母開始進行轉換，如果是空白則直接加到字串中，最後回傳字串"
   ]
  },
  {
   "cell_type": "code",
   "execution_count": null,
   "metadata": {},
   "outputs": [],
   "source": [
    "class Solution:\n",
    "    def decodeMessage(self, key: str, message: str) -> str:\n",
    "        result = ''\n",
    "        matching ={}\n",
    "        chars = ['a','b','c','d','e','f','g','h','i','j','k','l','m','n','o','p','q','r','s','t','u','v','w','x','y','z']\n",
    "        index = 0\n",
    "        for k in key:\n",
    "            if k != ' ' and k not in matching.keys():\n",
    "                matching[k] = chars[index]\n",
    "                index += 1\n",
    "        for m in message:\n",
    "            if m in matching.keys():\n",
    "                result += matching[m]\n",
    "            else:\n",
    "                result += m\n",
    "        return result"
   ]
  }
 ],
 "metadata": {
  "kernelspec": {
   "display_name": "Python 3",
   "language": "python",
   "name": "python3"
  },
  "language_info": {
   "codemirror_mode": {
    "name": "ipython",
    "version": 3
   },
   "file_extension": ".py",
   "mimetype": "text/x-python",
   "name": "python",
   "nbconvert_exporter": "python",
   "pygments_lexer": "ipython3",
   "version": "3.7.4"
  }
 },
 "nbformat": 4,
 "nbformat_minor": 4
}
