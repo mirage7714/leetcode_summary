{
 "cells": [
  {
   "cell_type": "markdown",
   "metadata": {},
   "source": [
    "# 本題要找出共有幾種不同密碼的組合\n",
    "原題目連結: https://leetcode.com/problems/unique-morse-code-words/  \n",
    "\n",
    "International Morse Code defines a standard encoding where each letter is mapped to a series of dots and dashes, as follows:  \n",
    " \n",
    "'a' maps to \".-\",  \n",
    "'b' maps to \"-...\",  \n",
    "'c' maps to \"-.-.\", and so on.  \n",
    "For convenience, the full table for the 26 letters of the English alphabet is given below:  \n",
    "\n",
    "[\".-\",\"-...\",\"-.-.\",\"-..\",\".\",\"..-.\",\"--.\",\"....\",\"..\",\".---\",\"-.-\",\".-..\",\"--\",\"-.\",\"---\",\".--.\",\"--.-\",\".-.\",\"...\",\"-\",\"..-\",\"...-\",\".--\",\"-..-\",\"-.--\",\"--..\"]  \n",
    "Given an array of strings words where each word can be written as a concatenation of the Morse code of each letter.  \n",
    "\n",
    "For example, \"cab\" can be written as \"-.-..--...\", which is the concatenation of \"-.-.\", \".-\", and \"-...\". We will call such a concatenation the transformation of a word.  \n",
    "Return the number of different transformations among all words we have.  \n",
    "\n",
    "範例:  \n",
    "Ex1:  \n",
    "Input: words = [\"gin\",\"zen\",\"gig\",\"msg\"]  \n",
    "Output: 2  \n",
    "Explanation: The transformation of each word is:  \n",
    "\"gin\" -> \"--...-.\"  \n",
    "\"zen\" -> \"--...-.\"  \n",
    "\"gig\" -> \"--...--.\"  \n",
    "\"msg\" -> \"--...--.\"   \n",
    "There are 2 different transformations: \"--...-.\" and \"--...--.\".  \n",
    "\n",
    "Ex2:  \n",
    "Input: words = [\"a\"]  \n",
    "Output: 1"
   ]
  },
  {
   "cell_type": "markdown",
   "metadata": {},
   "source": [
    "* 解題想法:  \n",
    "首先將對照表建立成一個dict，接著將所有的字串翻譯成密碼後檢查是否已經有出現在dict中了，如果有出現則將數值+1，最後回傳所有出現過的key值就可以知道共出現過幾種密碼的組合"
   ]
  },
  {
   "cell_type": "code",
   "execution_count": null,
   "metadata": {},
   "outputs": [],
   "source": [
    "class Solution:\n",
    "    def uniqueMorseRepresentations(self, words: List[str]) -> int:\n",
    "        code = {'a': \".-\", 'b':\"-...\",'c':\"-.-.\",'d': \"-..\",'e': \".\",'f': \"..-.\",'g': \"--.\",'h': \"....\",'i': \"..\",\n",
    "                'j': \".---\",'k': \"-.-\",'l': \".-..\",'m': \"--\",'n': \"-.\",'o': \"---\",'p': \".--.\",'q': \"--.-\",'r': \".-.\",\n",
    "                's': \"...\",'t': \"-\",'u': \"..-\",'v': \"...-\",'w': \".--\",'x': \"-..-\",'y': \"-.--\",'z': \"--..\"}\n",
    "        count = 0\n",
    "        diff = {}\n",
    "        for word in words:\n",
    "            temp = ''\n",
    "            for w in word:\n",
    "                temp += code[w]\n",
    "            if temp in diff.keys():\n",
    "                diff[temp] += 1\n",
    "            else:\n",
    "                diff[temp] = 1\n",
    "        return len(diff.keys())"
   ]
  }
 ],
 "metadata": {
  "kernelspec": {
   "display_name": "Python 3",
   "language": "python",
   "name": "python3"
  },
  "language_info": {
   "codemirror_mode": {
    "name": "ipython",
    "version": 3
   },
   "file_extension": ".py",
   "mimetype": "text/x-python",
   "name": "python",
   "nbconvert_exporter": "python",
   "pygments_lexer": "ipython3",
   "version": "3.7.4"
  }
 },
 "nbformat": 4,
 "nbformat_minor": 4
}
