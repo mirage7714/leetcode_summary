{
 "cells": [
  {
   "cell_type": "markdown",
   "metadata": {},
   "source": [
    "# 本題要找出最小的回文字串為何 (\\#String)\n",
    "原題目連結: https://leetcode.com/problems/lexicographically-smallest-palindrome/description/  \n",
    "\n",
    "You are given a string s consisting of lowercase English letters, and you are allowed to perform operations on it. In one operation, you can replace a character in s with another lowercase English letter.  \n",
    "Your task is to make s a palindrome with the minimum number of operations possible. If there are multiple palindromes that can be made using the minimum number of operations, make the lexicographically smallest one.  \n",
    "A string a is lexicographically smaller than a string b (of the same length) if in the first position where a and b differ, string a has a letter that appears earlier in the alphabet than the corresponding letter in b.  \n",
    "Return the resulting palindrome string.  \n",
    "\n",
    "範例:  \n",
    "Ex1:  \n",
    "Input: s = \"egcfe\"  \n",
    "Output: \"efcfe\"  \n",
    "Explanation: The minimum number of operations to make \"egcfe\" a palindrome is 1, and the lexicographically smallest palindrome string we can get by modifying one character is \"efcfe\", by changing 'g'.  \n",
    "\n",
    "Ex2:  \n",
    "Input: s = \"abcd\"  \n",
    "Output: \"abba\"  \n",
    "Explanation: The minimum number of operations to make \"abcd\" a palindrome is 2, and the lexicographically smallest palindrome string we can get by modifying two characters is \"abba\".  \n",
    "\n",
    "Ex3:  \n",
    "Input: s = \"seven\"  \n",
    "Output: \"neven\"  \n",
    "Explanation: The minimum number of operations to make \"seven\" a palindrome is 1, and the lexicographically smallest palindrome string we can get by modifying one character is \"neven\"."
   ]
  },
  {
   "cell_type": "markdown",
   "metadata": {},
   "source": [
    "* 解題想法:  \n",
    "首先找出字串長度並算出迴圈需要的次數，接著比較字串前後的字母，如果是不相同的情況則將較大的字母用較小的字母進行取代，最後將字串重新組合後回傳"
   ]
  },
  {
   "cell_type": "code",
   "execution_count": null,
   "metadata": {},
   "outputs": [],
   "source": [
    "class Solution:\n",
    "    def makeSmallestPalindrome(self, s: str) -> str:\n",
    "        t = [c for c in s]\n",
    "        l = len(s) // 2\n",
    "        for i in range(l):\n",
    "            if t[i] != t[-1-i]:\n",
    "                if t[i] > t[-1-i]:\n",
    "                    t[i] = t[-1-i]\n",
    "                else:\n",
    "                    t[-1-i] = t[i]\n",
    "        return ''.join(t)"
   ]
  }
 ],
 "metadata": {
  "kernelspec": {
   "display_name": "Python 3",
   "language": "python",
   "name": "python3"
  },
  "language_info": {
   "codemirror_mode": {
    "name": "ipython",
    "version": 3
   },
   "file_extension": ".py",
   "mimetype": "text/x-python",
   "name": "python",
   "nbconvert_exporter": "python",
   "pygments_lexer": "ipython3",
   "version": "3.7.6"
  }
 },
 "nbformat": 4,
 "nbformat_minor": 4
}
