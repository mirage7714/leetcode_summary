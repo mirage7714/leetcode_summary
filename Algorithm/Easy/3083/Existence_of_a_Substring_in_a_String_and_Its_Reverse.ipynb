{
 "cells": [
  {
   "cell_type": "markdown",
   "id": "f9979329-405d-4dc8-970d-d44dbf222d9d",
   "metadata": {},
   "source": [
    "# 本題要判斷翻轉後是否存在與翻轉前相同的子字串 (\\#String )\n",
    "原題目連結: https://leetcode.com/problems/existence-of-a-substring-in-a-string-and-its-reverse/description/  \n",
    "\n",
    "Given a string s, find any substring of length 2 which is also present in the reverse of s.  \n",
    "Return true if such a substring exists, and false otherwise.  \n",
    "\n",
    "範例:  \n",
    "Ex1:  \n",
    "Input: s = \"leetcode\"  \n",
    "Output: true  \n",
    "Explanation: Substring \"ee\" is of length 2 which is also present in reverse(s) == \"edocteel\".  \n",
    "\n",
    "Ex2:  \n",
    "Input: s = \"abcba\"  \n",
    "Output: true  \n",
    "Explanation: All of the substrings of length 2 \"ab\", \"bc\", \"cb\", \"ba\" are also present in reverse(s) == \"abcba\"  \n",
    "\n",
    "Ex3:  \n",
    "Input: s = \"abcd\"  \n",
    "Output: false  \n",
    "Explanation: There is no substring of length 2 in s, which is also present in the reverse of s."
   ]
  },
  {
   "cell_type": "markdown",
   "id": "8f24042c-cf11-47e7-a1c8-2131acfdc7f1",
   "metadata": {},
   "source": [
    "* 解題想法:  \n",
    "首先將由左到右的子字串分別放入set中，並檢查是否有出現兩字母相同的字串，如果有則直接回傳True，接著檢查從右到左的子字串是否有出現在set中，如果有則回傳True，否則回傳False"
   ]
  },
  {
   "cell_type": "code",
   "execution_count": null,
   "id": "bc93db18-071c-44cf-9492-4de0e165768b",
   "metadata": {},
   "outputs": [],
   "source": [
    "class Solution:\n",
    "    def isSubstringPresent(self, s: str) -> bool:\n",
    "        temp = set()\n",
    "        h = s[0]\n",
    "        for i in range(1, len(s)):\n",
    "            if h == s[i]:\n",
    "                return True\n",
    "            t = h + s[i] \n",
    "            temp.add(t)\n",
    "            h = s[i]\n",
    "        for j in range(len(s)-2, -1, -1):\n",
    "            t = h + s[j]\n",
    "            if t in temp:\n",
    "                return True\n",
    "            h = s[j]\n",
    "        return False"
   ]
  }
 ],
 "metadata": {
  "kernelspec": {
   "display_name": "Python 3 (ipykernel)",
   "language": "python",
   "name": "python3"
  },
  "language_info": {
   "codemirror_mode": {
    "name": "ipython",
    "version": 3
   },
   "file_extension": ".py",
   "mimetype": "text/x-python",
   "name": "python",
   "nbconvert_exporter": "python",
   "pygments_lexer": "ipython3",
   "version": "3.9.13"
  }
 },
 "nbformat": 4,
 "nbformat_minor": 5
}
