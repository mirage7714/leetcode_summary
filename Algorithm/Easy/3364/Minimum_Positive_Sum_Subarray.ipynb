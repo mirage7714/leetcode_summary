{
 "cells": [
  {
   "cell_type": "markdown",
   "id": "a50cb3c6-5868-4476-a40d-b36f0f044335",
   "metadata": {},
   "source": [
    "# 本題要找出最小的sublist正總和為多少 (\\#Sliding Windows, \\#Array )\n",
    "原題目連結: https://leetcode.com/problems/minimum-positive-sum-subarray/description/  \n",
    "\n",
    "You are given an integer array nums and two integers l and r. Your task is to find the minimum sum of a subarray whose size is between l and r (inclusive) and whose sum is greater than 0.  \n",
    "Return the minimum sum of such a subarray. If no such subarray exists, return -1.  \n",
    "A subarray is a contiguous non-empty sequence of elements within an array.  \n",
    "\n",
    "範例:  \n",
    "Ex1:  \n",
    "Input: nums = [3, -2, 1, 4], l = 2, r = 3  \n",
    "Output: 1  \n",
    "Explanation:  \n",
    "The subarrays of length between l = 2 and r = 3 where the sum is greater than 0 are:  \n",
    "[3, -2] with a sum of 1  \n",
    "[1, 4] with a sum of 5  \n",
    "[3, -2, 1] with a sum of 2  \n",
    "[-2, 1, 4] with a sum of 3  \n",
    "Out of these, the subarray [3, -2] has a sum of 1, which is the smallest positive sum. Hence, the answer is 1.  \n",
    "\n",
    "Ex2:  \n",
    "Input: nums = [-2, 2, -3, 1], l = 2, r = 3  \n",
    "Output: -1  \n",
    "Explanation:  \n",
    "There is no subarray of length between l and r that has a sum greater than 0. So, the answer is -1.  \n",
    "\n",
    "Ex3:  \n",
    "Input: nums = [1, 2, 3, 4], l = 2, r = 4  \n",
    "Output: 3  \n",
    "Explanation:  \n",
    "The subarray [1, 2] has a length of 2 and the minimum sum greater than 0. So, the answer is 3."
   ]
  },
  {
   "cell_type": "markdown",
   "id": "3050bd4c-38ef-4ac3-bc40-11a791bd978a",
   "metadata": {},
   "source": [
    "* 解題想法:  \n",
    "首先用sliding windows的方式找出目前長度的sublist長度，接著檢查是否符合總和大於0的條件，如果有則更新結果，最後回傳最小正數總和就是答案"
   ]
  },
  {
   "cell_type": "code",
   "execution_count": null,
   "id": "47852e64-a3f6-4718-b67e-7a5d3916b416",
   "metadata": {},
   "outputs": [],
   "source": [
    "class Solution:\n",
    "    def minimumSumSubarray(self, nums: List[int], l: int, r: int) -> int:\n",
    "        res = inf\n",
    "        for i in range(l, r+1):\n",
    "            start = 0\n",
    "            for k in range(i):\n",
    "                start += nums[k]\n",
    "            if start > 0:\n",
    "                res = min(res, start)\n",
    "            for j in range(len(nums) - i):\n",
    "                start -= nums[j]\n",
    "                start += nums[j + i]\n",
    "                if start > 0:\n",
    "                    res = min(res, start)\n",
    "        if res == inf:\n",
    "            return -1\n",
    "        return res"
   ]
  }
 ],
 "metadata": {
  "kernelspec": {
   "display_name": "Python 3 (ipykernel)",
   "language": "python",
   "name": "python3"
  },
  "language_info": {
   "codemirror_mode": {
    "name": "ipython",
    "version": 3
   },
   "file_extension": ".py",
   "mimetype": "text/x-python",
   "name": "python",
   "nbconvert_exporter": "python",
   "pygments_lexer": "ipython3",
   "version": "3.9.13"
  }
 },
 "nbformat": 4,
 "nbformat_minor": 5
}
