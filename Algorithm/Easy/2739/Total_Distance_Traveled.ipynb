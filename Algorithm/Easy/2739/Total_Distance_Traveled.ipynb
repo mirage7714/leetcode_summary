{
 "cells": [
  {
   "cell_type": "markdown",
   "id": "4429f5ba-5bf9-4a93-8857-ffb9a0ee104a",
   "metadata": {},
   "source": [
    "# 本題要找出總共旅行的距離為多少 (\\#Math)\n",
    "原題目連結: https://leetcode.com/problems/total-distance-traveled/description/  \n",
    "\n",
    "A truck has two fuel tanks. You are given two integers, mainTank representing the fuel present in the main tank in liters and additionalTank representing the fuel present in the additional tank in liters.  \n",
    "\n",
    "The truck has a mileage of 10 km per liter. Whenever 5 liters of fuel get used up in the main tank, if the additional tank has at least 1 liters of fuel, 1 liters of fuel will be transferred from the additional tank to the main tank.  \n",
    "\n",
    "Return the maximum distance which can be traveled.  \n",
    "Note: Injection from the additional tank is not continuous. It happens suddenly and immediately for every 5 liters consumed.  \n",
    "\n",
    "範例:  \n",
    "Ex1:  \n",
    "Input: mainTank = 5, additionalTank = 10  \n",
    "Output: 60  \n",
    "Explanation:   \n",
    "After spending 5 litre of fuel, fuel remaining is (5 - 5 + 1) = 1 litre and distance traveled is 50km.  \n",
    "After spending another 1 litre of fuel, no fuel gets injected in the main tank and the main tank becomes empty.  \n",
    "Total distance traveled is 60km.  \n",
    "\n",
    "Ex2:  \n",
    "Input: mainTank = 1, additionalTank = 2  \n",
    "Output: 10  \n",
    "Explanation:   \n",
    "After spending 1 litre of fuel, the main tank becomes empty.  \n",
    "Total distance traveled is 10km."
   ]
  },
  {
   "cell_type": "markdown",
   "id": "28a4574b-e514-4fe9-b033-ef534605acb7",
   "metadata": {},
   "source": [
    "* 解題想法:  \n",
    "首先用while迴圈判斷mainTank是否大於或等於5，如果符合條件則將mainTank減去5，並判斷additionalTank是否大於0，如果大於0則將mainTank補充1，最後將剩下的mainTank數值算出並加入計算中，回傳總公升數乘上10就是總里程"
   ]
  },
  {
   "cell_type": "code",
   "execution_count": null,
   "id": "0bb457eb-ca06-4b98-bd2f-b76f9f760738",
   "metadata": {},
   "outputs": [],
   "source": [
    "class Solution:\n",
    "    def distanceTraveled(self, mainTank: int, additionalTank: int) -> int:\n",
    "        count = 0\n",
    "        while mainTank >= 5:\n",
    "            mainTank -= 5\n",
    "            count += 5\n",
    "            if additionalTank:\n",
    "                mainTank += 1\n",
    "                additionalTank -= 1\n",
    "        count += mainTank\n",
    "        return count * 10"
   ]
  }
 ],
 "metadata": {
  "kernelspec": {
   "display_name": "Python 3 (ipykernel)",
   "language": "python",
   "name": "python3"
  },
  "language_info": {
   "codemirror_mode": {
    "name": "ipython",
    "version": 3
   },
   "file_extension": ".py",
   "mimetype": "text/x-python",
   "name": "python",
   "nbconvert_exporter": "python",
   "pygments_lexer": "ipython3",
   "version": "3.9.13"
  }
 },
 "nbformat": 4,
 "nbformat_minor": 5
}
