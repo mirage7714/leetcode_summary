{
 "cells": [
  {
   "cell_type": "markdown",
   "metadata": {},
   "source": [
    "# 本題要將array中有重複出現的數字刪除\n",
    "原題目連結: https://leetcode.com/problems/remove-element/  \n",
    "\n",
    "Given a sorted array nums, remove the duplicates in-place such that each element appears only once and returns the new length.  \n",
    "Do not allocate extra space for another array, you must do this by modifying the input array in-place with O(1) extra memory.  \n",
    "\n",
    "範例:  \n",
    "Ex1:  \n",
    "Input: nums = [1,1,2]  \n",
    "Output: 2, nums = [1,2]  \n",
    "Explanation: Your function should return length = 2, with the first two elements of nums being 1 and 2 respectively. It doesn't matter what you leave beyond the returned length.  \n",
    "\n",
    "Ex2:  \n",
    "Input: nums = [0,0,1,1,1,2,2,3,3,4]  \n",
    "Output: 5, nums = [0,1,2,3,4]  \n",
    "Explanation: Your function should return length = 5, with the first five elements of nums being modified to 0, 1, 2, 3, and 4 respectively. It doesn't matter what values are set beyond the returned length.  "
   ]
  },
  {
   "cell_type": "markdown",
   "metadata": {},
   "source": [
    "* 解題想法:  \n",
    "由於題目要求對原本的list進行操作，因此使用一個while迴圈來進行重複執行，在裡面加上一個for loop來檢查是否有重複的情況，若有重複則移除一個數字，若最後都沒有重複的情況則結束while 迴圈"
   ]
  },
  {
   "cell_type": "code",
   "execution_count": null,
   "metadata": {},
   "outputs": [],
   "source": [
    "class Solution:\n",
    "    def removeDuplicates(self, nums: List[int]) -> int:\n",
    "        while True:\n",
    "            is_exist = False\n",
    "            for n in range(len(nums)-1):\n",
    "                if nums[n] == nums[n+1]:\n",
    "                    nums.remove(nums[n])\n",
    "                    is_exist = True\n",
    "                    break\n",
    "            if not is_exist:\n",
    "                break"
   ]
  }
 ],
 "metadata": {
  "kernelspec": {
   "display_name": "Python 3",
   "language": "python",
   "name": "python3"
  },
  "language_info": {
   "codemirror_mode": {
    "name": "ipython",
    "version": 3
   },
   "file_extension": ".py",
   "mimetype": "text/x-python",
   "name": "python",
   "nbconvert_exporter": "python",
   "pygments_lexer": "ipython3",
   "version": "3.7.4"
  }
 },
 "nbformat": 4,
 "nbformat_minor": 2
}
