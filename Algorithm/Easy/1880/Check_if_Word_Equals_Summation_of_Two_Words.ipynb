{
 "cells": [
  {
   "cell_type": "markdown",
   "metadata": {},
   "source": [
    "# 本題要比較兩個字串轉換為數字後，是否等於目標字串的值\n",
    "原題目連結: https://leetcode.com/problems/check-if-word-equals-summation-of-two-words/  \n",
    "\n",
    "The letter value of a letter is its position in the alphabet starting from 0 (i.e. 'a' -> 0, 'b' -> 1, 'c' -> 2, etc.).  \n",
    "\n",
    "The numerical value of some string of lowercase English letters s is the concatenation of the letter values of each letter in s, which is then converted into an integer.  \n",
    "\n",
    "For example, if s = \"acb\", we concatenate each letter's letter value, resulting in \"021\". After converting it, we get 21.  \n",
    "You are given three strings firstWord, secondWord, and targetWord, each consisting of lowercase English letters 'a' through 'j' inclusive.  \n",
    "\n",
    "Return true if the summation of the numerical values of firstWord and secondWord equals the numerical value of targetWord, or false otherwise.  \n",
    "\n",
    "範例:  \n",
    "Ex1:  \n",
    "Input: firstWord = \"acb\", secondWord = \"cba\", targetWord = \"cdb\"  \n",
    "Output: true  \n",
    "Explanation:  \n",
    "The numerical value of firstWord is \"acb\" -> \"021\" -> 21.  \n",
    "The numerical value of secondWord is \"cba\" -> \"210\" -> 210.  \n",
    "The numerical value of targetWord is \"cdb\" -> \"231\" -> 231.  \n",
    "We return true because 21 + 210 == 231.  \n",
    "\n",
    "Ex2:  \n",
    "Input: firstWord = \"aaa\", secondWord = \"a\", targetWord = \"aab\"  \n",
    "Output: false  \n",
    "Explanation:   \n",
    "The numerical value of firstWord is \"aaa\" -> \"000\" -> 0.  \n",
    "The numerical value of secondWord is \"a\" -> \"0\" -> 0.  \n",
    "The numerical value of targetWord is \"aab\" -> \"001\" -> 1.  \n",
    "We return false because 0 + 0 != 1.  \n",
    "\n",
    "Ex3:  \n",
    "Input: firstWord = \"aaa\", secondWord = \"a\", targetWord = \"aaaa\"  \n",
    "Output: true  \n",
    "Explanation:   \n",
    "The numerical value of firstWord is \"aaa\" -> \"000\" -> 0.  \n",
    "The numerical value of secondWord is \"a\" -> \"0\" -> 0.  \n",
    "The numerical value of targetWord is \"aaaa\" -> \"0000\" -> 0.  \n",
    "We return true because 0 + 0 == 0."
   ]
  },
  {
   "cell_type": "markdown",
   "metadata": {},
   "source": [
    "* 解題想法:  \n",
    "首先定義一個function來進行字母與數字的轉換，利用一個dict來存放字母與數字的對應關係，接著將字串輸入後轉換成數字，最後比較兩個字串相加是否等於題目指定的字串數字和"
   ]
  },
  {
   "cell_type": "code",
   "execution_count": null,
   "metadata": {},
   "outputs": [],
   "source": [
    "class Solution:\n",
    "    def isSumEqual(self, firstWord: str, secondWord: str, targetWord: str) -> bool:\n",
    "        def getValue(word):\n",
    "            result = ''\n",
    "            for w in word:\n",
    "                result += chars[w]\n",
    "            return int(result)\n",
    "        \n",
    "        chars = {'a':'0', 'b':'1', 'c':'2', 'd':'3', 'e':'4', 'f':'5', 'g': '6','h': '7', 'i':'8', 'j':'9'}\n",
    "        is_valid = True\n",
    "        if getValue(firstWord) + getValue(secondWord) != getValue(targetWord):\n",
    "            is_valid = False\n",
    "        return is_valid"
   ]
  }
 ],
 "metadata": {
  "kernelspec": {
   "display_name": "Python 3",
   "language": "python",
   "name": "python3"
  },
  "language_info": {
   "codemirror_mode": {
    "name": "ipython",
    "version": 3
   },
   "file_extension": ".py",
   "mimetype": "text/x-python",
   "name": "python",
   "nbconvert_exporter": "python",
   "pygments_lexer": "ipython3",
   "version": "3.7.4"
  }
 },
 "nbformat": 4,
 "nbformat_minor": 2
}
