{
 "cells": [
  {
   "cell_type": "markdown",
   "id": "ddca98df-851e-4463-8d5a-b06c6ec1ee40",
   "metadata": {},
   "source": [
    "# 本題要找出字串中共有多少個特殊字元 (\\#String )\n",
    "原題目連結：https://leetcode.com/problems/count-the-number-of-special-characters-i/description/  \n",
    "\n",
    "You are given a string word. A letter is called special if it appears both in lowercase and uppercase in word.  \n",
    "Return the number of special letters in word.  \n",
    "\n",
    "範例：  \n",
    "Ex1:  \n",
    "Input: word = \"aaAbcBC\"  \n",
    "Output: 3  \n",
    "Explanation:  \n",
    "The special characters in word are 'a', 'b', and 'c'.  \n",
    "\n",
    "Ex2:  \n",
    "Input: word = \"abc\"  \n",
    "Output: 0  \n",
    "Explanation:  \n",
    "No character in word appears in uppercase.  \n",
    "\n",
    "Ex3:  \n",
    "Input: word = \"abBCab\"  \n",
    "Output: 1  \n",
    "Explanation:  \n",
    "The only special character in word is 'b'."
   ]
  },
  {
   "cell_type": "markdown",
   "id": "f9474677-f9a6-4af4-b671-eebc65214c8f",
   "metadata": {},
   "source": [
    "* 解題想法：  \n",
    "首先檢查小寫字母是否在dict中，如果不存在則將該字母放入dict中，如果存在的話則檢查該字母是否已經存在，如果不存在則加入該字母的list中，最後找出list長度為2的字母共有哪些就是答案"
   ]
  },
  {
   "cell_type": "code",
   "execution_count": null,
   "id": "5eac48ad-1aa6-49aa-a10c-035ac293f6c8",
   "metadata": {},
   "outputs": [],
   "source": [
    "class Solution:\n",
    "    def numberOfSpecialChars(self, word: str) -> int:\n",
    "        res = 0\n",
    "        count = {}\n",
    "        for w in word:\n",
    "            if w.lower() not in count.keys():\n",
    "                count[w.lower()] = [w]\n",
    "            else:\n",
    "                if w not in count[w.lower()]:\n",
    "                    count[w.lower()].append(w)\n",
    "        for val in count.values():\n",
    "            if len(val) == 2:\n",
    "                res += 1\n",
    "        return res"
   ]
  }
 ],
 "metadata": {
  "kernelspec": {
   "display_name": "Python 3 (ipykernel)",
   "language": "python",
   "name": "python3"
  },
  "language_info": {
   "codemirror_mode": {
    "name": "ipython",
    "version": 3
   },
   "file_extension": ".py",
   "mimetype": "text/x-python",
   "name": "python",
   "nbconvert_exporter": "python",
   "pygments_lexer": "ipython3",
   "version": "3.10.9"
  }
 },
 "nbformat": 4,
 "nbformat_minor": 5
}
