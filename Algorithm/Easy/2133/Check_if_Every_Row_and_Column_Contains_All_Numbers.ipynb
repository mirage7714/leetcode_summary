{
 "cells": [
  {
   "cell_type": "markdown",
   "metadata": {},
   "source": [
    "# 本題要判斷每個row與column是否有滿足同時有1到n個整數\n",
    "原題目連結: https://leetcode.com/problems/check-if-every-row-and-column-contains-all-numbers/  \n",
    "\n",
    "An n x n matrix is valid if every row and every column contains all the integers from 1 to n (inclusive).  \n",
    "\n",
    "Given an n x n integer matrix matrix, return true if the matrix is valid. Otherwise, return false.  \n",
    "\n",
    "範例:  \n",
    "Ex1:  \n",
    "Input: matrix = [[1,2,3],[3,1,2],[2,3,1]]  \n",
    "Output: true  \n",
    "Explanation: In this case, n = 3, and every row and column contains the numbers 1, 2, and 3.  \n",
    "Hence, we return true.  \n",
    "\n",
    "Ex2:  \n",
    "Input: matrix = [[1,1,1],[1,2,3],[1,2,3]]  \n",
    "Output: false  \n",
    "Explanation: In this case, n = 3, but the first row and the first column do not contain the numbers 2 or 3.  \n",
    "Hence, we return false. "
   ]
  },
  {
   "cell_type": "markdown",
   "metadata": {},
   "source": [
    "* 解題想法:  \n",
    "首先建立一個dict來放1到n個數字，接著從row與col開始檢查，首先使用一個dict來存放row的數字，如果有出現重複的則直接中斷迴圈，接著開始檢查col的數字，最後如果都沒有出現重複，則回傳True，否則回傳False"
   ]
  },
  {
   "cell_type": "code",
   "execution_count": null,
   "metadata": {},
   "outputs": [],
   "source": [
    "class Solution:\n",
    "    def checkValid(self, matrix: List[List[int]]) -> bool:\n",
    "        is_valid = True\n",
    "        s = len(matrix[0])\n",
    "        if s > 1:\n",
    "            total = {}\n",
    "            for m in range(s):\n",
    "                total[m+1] = 1\n",
    "\n",
    "            for a in range(len(matrix)):\n",
    "                temp_row = {}\n",
    "                for b in matrix[a]:\n",
    "                    if b not in temp_row.keys():\n",
    "                        temp_row[b] = 1\n",
    "                    else:\n",
    "                        is_valid = False\n",
    "                        break\n",
    "                if is_valid:\n",
    "                    temp_col = {}\n",
    "                    for c in range(s):\n",
    "                        if matrix[c][a] not in temp_col.keys():\n",
    "                            temp_col[matrix[c][a]] = 1\n",
    "                        else:\n",
    "                            is_valid = False\n",
    "                            break\n",
    "        return is_valid"
   ]
  }
 ],
 "metadata": {
  "kernelspec": {
   "display_name": "Python 3",
   "language": "python",
   "name": "python3"
  },
  "language_info": {
   "codemirror_mode": {
    "name": "ipython",
    "version": 3
   },
   "file_extension": ".py",
   "mimetype": "text/x-python",
   "name": "python",
   "nbconvert_exporter": "python",
   "pygments_lexer": "ipython3",
   "version": "3.7.4"
  }
 },
 "nbformat": 4,
 "nbformat_minor": 4
}
