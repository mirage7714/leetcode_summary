{
 "cells": [
  {
   "cell_type": "markdown",
   "metadata": {},
   "source": [
    "# 本題要找出在範圍內共有多少個直角三角形的邊長組合\n",
    "原題目連結: https://leetcode.com/problems/count-square-sum-triples/  \n",
    "\n",
    "A square triple (a,b,c) is a triple where a, b, and c are integers and a2 + b2 = c2.  \n",
    "Given an integer n, return the number of square triples such that 1 <= a, b, c <= n.  \n",
    "\n",
    "範例:  \n",
    "Ex1:  \n",
    "Input: n = 5  \n",
    "Output: 2  \n",
    "Explanation: The square triples are (3,4,5) and (4,3,5).  \n",
    "\n",
    "Ex2:  \n",
    "Input: n = 10  \n",
    "Output: 4  \n",
    "Explanation: The square triples are (3,4,5), (4,3,5), (6,8,10), and (8,6,10)."
   ]
  },
  {
   "cell_type": "markdown",
   "metadata": {},
   "source": [
    "* 解題想法:  \n",
    "依據直角三角形邊長公式，兩邊長的平方和會等於第三邊的平方，因此用兩個迴圈來找出兩個數值的平方和後，計算和的平方根是否為整數，如果為整數並在範圍內則將數值+1，最後回傳總和的兩倍"
   ]
  },
  {
   "cell_type": "code",
   "execution_count": null,
   "metadata": {},
   "outputs": [],
   "source": [
    "class Solution:\n",
    "    def countTriples(self, n: int) -> int:\n",
    "        count = 0\n",
    "        for x in range(1, n-1):\n",
    "            for y in range(x+1, n):\n",
    "                s = x * x + y * y\n",
    "                d = int(sqrt(s))\n",
    "                if d * d == s and d <= n:\n",
    "                    count += 2\n",
    "        return count"
   ]
  }
 ],
 "metadata": {
  "kernelspec": {
   "display_name": "Python 3",
   "language": "python",
   "name": "python3"
  },
  "language_info": {
   "codemirror_mode": {
    "name": "ipython",
    "version": 3
   },
   "file_extension": ".py",
   "mimetype": "text/x-python",
   "name": "python",
   "nbconvert_exporter": "python",
   "pygments_lexer": "ipython3",
   "version": "3.7.4"
  }
 },
 "nbformat": 4,
 "nbformat_minor": 4
}
