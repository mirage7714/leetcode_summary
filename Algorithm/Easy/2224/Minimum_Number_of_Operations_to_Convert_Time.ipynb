{
 "cells": [
  {
   "cell_type": "markdown",
   "metadata": {},
   "source": [
    "# 本題要找出轉換時間需要的最小次數為何\n",
    "原題目連結: https://leetcode.com/problems/minimum-number-of-operations-to-convert-time/  \n",
    "\n",
    "You are given two strings current and correct representing two 24-hour times.  \n",
    "24-hour times are formatted as \"HH:MM\", where HH is between 00 and 23, and MM is between 00 and 59. The earliest 24-hour time is 00:00, and the latest is 23:59.  \n",
    "In one operation you can increase the time current by 1, 5, 15, or 60 minutes. You can perform this operation any number of times.  \n",
    "Return the minimum number of operations needed to convert current to correct.   \n",
    "\n",
    "範例:  \n",
    "Ex1:  \n",
    "Input: current = \"02:30\", correct = \"04:35\"  \n",
    "Output: 3  \n",
    "Explanation:  \n",
    "We can convert current to correct in 3 operations as follows:  \n",
    "- Add 60 minutes to current. current becomes \"03:30\".  \n",
    "- Add 60 minutes to current. current becomes \"04:30\".  \n",
    "- Add 5 minutes to current. current becomes \"04:35\".  \n",
    "It can be proven that it is not possible to convert current to correct in fewer than 3 operations.  \n",
    "\n",
    "Ex2:  \n",
    "Input: current = \"11:00\", correct = \"11:01\"  \n",
    "Output: 1  \n",
    "Explanation: We only have to add one minute to current, so the minimum number of operations needed is 1."
   ]
  },
  {
   "cell_type": "markdown",
   "metadata": {},
   "source": [
    "* 解題想法:  \n",
    "依題目說明，正確時間只有可能大於或等於目前時間，因此不考慮相減的情境，接著檢查兩個時間是否相同，如果不相同的話則找出小時差與分鐘差，由於分鐘一次可以修正1，5，15分鐘，因此先從大到小依次檢查，最後將操作的次數總合起來"
   ]
  },
  {
   "cell_type": "code",
   "execution_count": null,
   "metadata": {},
   "outputs": [],
   "source": [
    "class Solution:\n",
    "    def convertTime(self, current: str, correct: str) -> int:\n",
    "        count = 0\n",
    "        if current != correct:\n",
    "            s_hr = int(current[:2])\n",
    "            e_hr = int(correct[:2])\n",
    "            s_m = int(current[3:])\n",
    "            e_m = int(correct[3:])\n",
    "            m_diff = e_m - s_m\n",
    "            h_diff = e_hr - s_hr\n",
    "            if m_diff < 0:\n",
    "                m_diff += 60\n",
    "                h_diff -= 1\n",
    "            count += h_diff\n",
    "            while m_diff >= 15:\n",
    "                m_diff -= 15\n",
    "                count += 1\n",
    "            while m_diff >= 5:\n",
    "                m_diff -= 5\n",
    "                count += 1\n",
    "            count += m_diff\n",
    "        return count"
   ]
  }
 ],
 "metadata": {
  "kernelspec": {
   "display_name": "Python 3",
   "language": "python",
   "name": "python3"
  },
  "language_info": {
   "codemirror_mode": {
    "name": "ipython",
    "version": 3
   },
   "file_extension": ".py",
   "mimetype": "text/x-python",
   "name": "python",
   "nbconvert_exporter": "python",
   "pygments_lexer": "ipython3",
   "version": "3.7.6"
  }
 },
 "nbformat": 4,
 "nbformat_minor": 4
}
