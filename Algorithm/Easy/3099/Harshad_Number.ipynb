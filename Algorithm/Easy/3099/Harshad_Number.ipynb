{
 "cells": [
  {
   "cell_type": "markdown",
   "id": "2512677f-4592-40e7-8a71-4367b9976e20",
   "metadata": {},
   "source": [
    "# 本題要找出該數字是否為hash number (\\#Math )\n",
    "原題目連結: https://leetcode.com/problems/harshad-number/description/  \n",
    "\n",
    "An integer divisible by the sum of its digits is said to be a Harshad number. You are given an integer x. Return the sum of the digits of x if x is a Harshad number, otherwise, return -1.  \n",
    "\n",
    "範例:  \n",
    "Ex1:  \n",
    "Input: x = 18  \n",
    "Output: 9  \n",
    "Explanation:  \n",
    "The sum of digits of x is 9. 18 is divisible by 9. So 18 is a Harshad number and the answer is 9.  \n",
    "\n",
    "Ex2:  \n",
    "Input: x = 23  \n",
    "Output: -1  \n",
    "Explanation:  \n",
    "The sum of digits of x is 5. 23 is not divisible by 5. So 23 is not a Harshad number and the answer is -1."
   ]
  },
  {
   "cell_type": "markdown",
   "id": "b3caa9ff-9a9a-4467-81cd-7454c839aa0c",
   "metadata": {},
   "source": [
    "* 解題想法:  \n",
    "首先將該數字每個位數的總和加總之後，檢查該數字是否可以被總和整除，如果是則回傳總和，否則回傳-1"
   ]
  },
  {
   "cell_type": "code",
   "execution_count": null,
   "id": "49cb2d3a-60fe-4160-b5af-3b4afebabede",
   "metadata": {},
   "outputs": [],
   "source": [
    "class Solution:\n",
    "    def sumOfTheDigitsOfHarshadNumber(self, x: int) -> int:\n",
    "        r = 0\n",
    "        for i in str(x):\n",
    "            r += int(i)\n",
    "        if x %ｒ == 0:\n",
    "            return r\n",
    "        return -1"
   ]
  }
 ],
 "metadata": {
  "kernelspec": {
   "display_name": "Python 3 (ipykernel)",
   "language": "python",
   "name": "python3"
  },
  "language_info": {
   "codemirror_mode": {
    "name": "ipython",
    "version": 3
   },
   "file_extension": ".py",
   "mimetype": "text/x-python",
   "name": "python",
   "nbconvert_exporter": "python",
   "pygments_lexer": "ipython3",
   "version": "3.9.13"
  }
 },
 "nbformat": 4,
 "nbformat_minor": 5
}
