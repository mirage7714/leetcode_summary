{
 "cells": [
  {
   "cell_type": "markdown",
   "id": "e904277e-d869-48a6-9a56-b268d333b02c",
   "metadata": {},
   "source": [
    "# 本題要找出奇數與偶數各有幾個bit (\\#String)\n",
    "原題目連結: https://leetcode.com/problems/number-of-even-and-odd-bits/description/  \n",
    "\n",
    "You are given a positive integer n.   \n",
    "Let even denote the number of even indices in the binary representation of n (0-indexed) with value 1.  \n",
    "Let odd denote the number of odd indices in the binary representation of n (0-indexed) with value 1.  \n",
    "Return an integer array answer where answer = [even, odd].  \n",
    "\n",
    "範例:  \n",
    "Ex1:  \n",
    "Input: n = 17  \n",
    "Output: [2,0]  \n",
    "Explanation: The binary representation of 17 is 10001.   \n",
    "It contains 1 on the 0th and 4th indices.   \n",
    "There are 2 even and 0 odd indices.  \n",
    "\n",
    "Ex2:  \n",
    "Input: n = 2  \n",
    "Output: [0,1]  \n",
    "Explanation: The binary representation of 2 is 10.  \n",
    "It contains 1 on the 1st index.  \n",
    "There are 0 even and 1 odd indices.  "
   ]
  },
  {
   "cell_type": "markdown",
   "id": "1ca3e2d8-ed1e-469d-be7b-d1db74359d62",
   "metadata": {},
   "source": [
    "* 解題想法:  \n",
    "首先將數值轉成binary，接著檢查binary長度為奇數或偶數，如果是奇數的話，代表從頭跟從後面開始算的index都是相同的，如果是偶數則需要調換，接著檢查是否為1，如果是1的話則更新對應的數值，最後回傳list就是答案"
   ]
  },
  {
   "cell_type": "code",
   "execution_count": null,
   "id": "e4ba1220-54d0-44ba-bf68-770d866564b8",
   "metadata": {},
   "outputs": [],
   "source": [
    "class Solution:\n",
    "    def evenOddBit(self, n: int) -> List[int]:\n",
    "        res = [0,0]\n",
    "        b = bin(n)[2:]\n",
    "        is_reverse = False\n",
    "        if len(b) % 2 == 0:\n",
    "            is_reverse = True \n",
    "        for m in range(len(b)):\n",
    "            if b[m] == '1':\n",
    "                if m % 2 == 0:\n",
    "                    if is_reverse:\n",
    "                        res[1] += 1\n",
    "                    else:\n",
    "                        res[0] += 1\n",
    "                else:\n",
    "                    if is_reverse:\n",
    "                        res[0] += 1\n",
    "                    else:\n",
    "                        res[1] += 1\n",
    "        return res"
   ]
  }
 ],
 "metadata": {
  "kernelspec": {
   "display_name": "Python 3 (ipykernel)",
   "language": "python",
   "name": "python3"
  },
  "language_info": {
   "codemirror_mode": {
    "name": "ipython",
    "version": 3
   },
   "file_extension": ".py",
   "mimetype": "text/x-python",
   "name": "python",
   "nbconvert_exporter": "python",
   "pygments_lexer": "ipython3",
   "version": "3.9.13"
  }
 },
 "nbformat": 4,
 "nbformat_minor": 5
}
