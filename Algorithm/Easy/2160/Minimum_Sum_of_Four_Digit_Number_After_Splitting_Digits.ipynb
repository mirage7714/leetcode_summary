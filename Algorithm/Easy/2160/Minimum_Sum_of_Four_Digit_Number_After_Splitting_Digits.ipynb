{
 "cells": [
  {
   "cell_type": "markdown",
   "metadata": {},
   "source": [
    "# 本題要找出將數字拆芬之後的最小和為多少\n",
    "原題目連結: https://leetcode.com/problems/minimum-sum-of-four-digit-number-after-splitting-digits/  \n",
    "\n",
    "You are given a positive integer num consisting of exactly four digits. Split num into two new integers new1 and new2 by using the digits found in num. Leading zeros are allowed in new1 and new2, and all the digits found in num must be used.  \n",
    "\n",
    "For example, given num = 2932, you have the following digits: two 2's, one 9 and one 3. Some of the possible pairs [new1, new2] are [22, 93], [23, 92], [223, 9] and [2, 329].  \n",
    "Return the minimum possible sum of new1 and new2.  \n",
    "\n",
    "範例:  \n",
    "Ex1:  \n",
    "Input: num = 2932  \n",
    "Output: 52  \n",
    "Explanation: Some possible pairs [new1, new2] are [29, 23], [223, 9], etc.  \n",
    "The minimum sum can be obtained by the pair [29, 23]: 29 + 23 = 52.  \n",
    "\n",
    "Ex2:  \n",
    "Input: num = 4009  \n",
    "Output: 13  \n",
    "Explanation: Some possible pairs [new1, new2] are [0, 49], [490, 0], etc.   \n",
    "The minimum sum can be obtained by the pair [4, 9]: 4 + 9 = 13. "
   ]
  },
  {
   "cell_type": "markdown",
   "metadata": {},
   "source": [
    "* 解題想法:  \n",
    "首先將數字轉換成一個list，接著將list進行排序之後分為index為奇數與偶數兩組，最後將兩組數字相加就是題目要找的最小值"
   ]
  },
  {
   "cell_type": "code",
   "execution_count": null,
   "metadata": {},
   "outputs": [],
   "source": [
    "class Solution:\n",
    "    def minimumSum(self, num: int) -> int:\n",
    "        freq = []\n",
    "        result = 0\n",
    "        num_s = str(num)\n",
    "        for n in num_s:\n",
    "            freq.append(n)\n",
    "        freq.sort()\n",
    "        result = int(freq[0]+freq[2]) + int(freq[1]+freq[3])\n",
    "        return result"
   ]
  }
 ],
 "metadata": {
  "kernelspec": {
   "display_name": "Python 3",
   "language": "python",
   "name": "python3"
  },
  "language_info": {
   "codemirror_mode": {
    "name": "ipython",
    "version": 3
   },
   "file_extension": ".py",
   "mimetype": "text/x-python",
   "name": "python",
   "nbconvert_exporter": "python",
   "pygments_lexer": "ipython3",
   "version": "3.7.6"
  }
 },
 "nbformat": 4,
 "nbformat_minor": 4
}
