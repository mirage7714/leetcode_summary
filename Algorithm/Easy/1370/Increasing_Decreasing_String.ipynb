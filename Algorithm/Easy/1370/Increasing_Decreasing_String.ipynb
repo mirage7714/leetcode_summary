{
 "cells": [
  {
   "cell_type": "markdown",
   "metadata": {},
   "source": [
    "# 本題要對字串內的字元重新進行排序，需要改成遞增後遞減的順序\n",
    "原題目連結: https://leetcode.com/problems/increasing-decreasing-string/  \n",
    "\n",
    "Given a string s. You should re-order the string using the following algorithm:  \n",
    "\n",
    "Pick the smallest character from s and append it to the result.  \n",
    "Pick the smallest character from s which is greater than the last appended character to the result and append it.  \n",
    "Repeat step 2 until you cannot pick more characters.  \n",
    "Pick the largest character from s and append it to the result.  \n",
    "Pick the largest character from s which is smaller than the last appended character to the result and append it.  \n",
    "Repeat step 5 until you cannot pick more characters.  \n",
    "Repeat the steps from 1 to 6 until you pick all characters from s.  \n",
    "In each step, If the smallest or the largest character appears more than once you can choose any occurrence and append it to the result.  \n",
    "\n",
    "Return the result string after sorting s with this algorithm.  \n",
    "\n",
    "範例:  \n",
    "Ex1:  \n",
    "Input: s = \"aaaabbbbcccc\"  \n",
    "Output: \"abccbaabccba\"  \n",
    "Explanation: After steps 1, 2 and 3 of the first iteration, result = \"abc\"  \n",
    "After steps 4, 5 and 6 of the first iteration, result = \"abccba\"  \n",
    "First iteration is done. Now s = \"aabbcc\" and we go back to step 1  \n",
    "After steps 1, 2 and 3 of the second iteration, result = \"abccbaabc\"  \n",
    "After steps 4, 5 and 6 of the second iteration, result = \"abccbaabccba\"  \n",
    "\n",
    "Ex2:  \n",
    "Input: s = \"rat\"  \n",
    "Output: \"art\"  \n",
    "Explanation: The word \"rat\" becomes \"art\" after re-ordering it with the mentioned algorithm.  \n",
    "\n",
    "Ex3:  \n",
    "Input: s = \"leetcode\"  \n",
    "Output: \"cdelotee\"  \n",
    "\n",
    "Ex4:  \n",
    "Input: s = \"ggggggg\"  \n",
    "Output: \"ggggggg\"  \n",
    "\n",
    "Ex5:  \n",
    "Input: s = \"spo\"  \n",
    "Output: \"ops\""
   ]
  },
  {
   "cell_type": "markdown",
   "metadata": {},
   "source": [
    "* 解題想法:  \n",
    "由於題目要求要先遞增排序後再遞減，因此需要統計所有字母出現過的頻率，然後再重新進行遞增/遞減的排序組合，最後回傳題目要求的字串"
   ]
  },
  {
   "cell_type": "code",
   "execution_count": null,
   "metadata": {},
   "outputs": [],
   "source": [
    "class Solution:\n",
    "    def sortString(self, s: str) -> str:\n",
    "        result = ''\n",
    "        temp = {}\n",
    "        seq = 0\n",
    "        for m in s:\n",
    "            if m not in temp.keys():\n",
    "                temp[m] = 1\n",
    "            else:\n",
    "                temp[m] += 1\n",
    "        while len(result) < len(s):\n",
    "            t = []\n",
    "            for key in temp.keys():\n",
    "                if temp[key] > 0:\n",
    "                    t.append(key)\n",
    "                    temp[key] -= 1\n",
    "            if seq % 2 == 0:\n",
    "                t.sort()\n",
    "            else:\n",
    "                t.sort(reverse = True)\n",
    "            for l in t:\n",
    "                result += l\n",
    "            seq += 1\n",
    "            t.clear()\n",
    "        return result"
   ]
  }
 ],
 "metadata": {
  "kernelspec": {
   "display_name": "Python 3",
   "language": "python",
   "name": "python3"
  },
  "language_info": {
   "codemirror_mode": {
    "name": "ipython",
    "version": 3
   },
   "file_extension": ".py",
   "mimetype": "text/x-python",
   "name": "python",
   "nbconvert_exporter": "python",
   "pygments_lexer": "ipython3",
   "version": "3.7.4"
  }
 },
 "nbformat": 4,
 "nbformat_minor": 2
}
