{
 "cells": [
  {
   "cell_type": "markdown",
   "id": "42933038-119e-4199-8e63-45368c08dd7a",
   "metadata": {},
   "source": [
    "# 本題要找出concate之後的總和為多少 (\\#Array)\n",
    "原題目連結: https://leetcode.com/problems/find-the-array-concatenation-value/description/  \n",
    "\n",
    "You are given a 0-indexed integer array nums.  \n",
    "\n",
    "The concatenation of two numbers is the number formed by concatenating their numerals.  \n",
    "\n",
    "For example, the concatenation of 15, 49 is 1549.  \n",
    "The concatenation value of nums is initially equal to 0. Perform this operation until nums becomes empty:  \n",
    "\n",
    "If there exists more than one number in nums, pick the first element and last element in nums respectively and add the value of their concatenation to the concatenation value of nums, then delete the first and last element from nums.  \n",
    "If one element exists, add its value to the concatenation value of nums, then delete it.  \n",
    "Return the concatenation value of the nums.  \n",
    "\n",
    "範例:  \n",
    "Ex1:  \n",
    "Input: nums = [7,52,2,4]  \n",
    "Output: 596  \n",
    "Explanation: Before performing any operation, nums is [7,52,2,4] and concatenation value is 0.  \n",
    " - In the first operation:  \n",
    "We pick the first element, 7, and the last element, 4.  \n",
    "Their concatenation is 74, and we add it to the concatenation value, so it becomes equal to 74.  \n",
    "Then we delete them from nums, so nums becomes equal to [52,2].  \n",
    " - In the second operation:  \n",
    "We pick the first element, 52, and the last element, 2.  \n",
    "Their concatenation is 522, and we add it to the concatenation value, so it becomes equal to 596.  \n",
    "Then we delete them from the nums, so nums becomes empty.  \n",
    "Since the concatenation value is 596 so the answer is 596.  \n",
    "\n",
    "Ex2:  \n",
    "Input: nums = [5,14,13,8,12]  \n",
    "Output: 673  \n",
    "Explanation: Before performing any operation, nums is [5,14,13,8,12] and concatenation value is 0.  \n",
    " - In the first operation:  \n",
    "We pick the first element, 5, and the last element, 12.  \n",
    "Their concatenation is 512, and we add it to the concatenation value, so it becomes equal to 512.  \n",
    "Then we delete them from the nums, so nums becomes equal to [14,13,8].  \n",
    " - In the second operation:  \n",
    "We pick the first element, 14, and the last element, 8.  \n",
    "Their concatenation is 148, and we add it to the concatenation value, so it becomes equal to 660.  \n",
    "Then we delete them from the nums, so nums becomes equal to [13].  \n",
    " - In the third operation:  \n",
    "nums has only one element, so we pick 13 and add it to the concatenation value, so it becomes equal to 673.  \n",
    "Then we delete it from nums, so nums become empty.  \n",
    "Since the concatenation value is 673 so the answer is 673."
   ]
  },
  {
   "cell_type": "markdown",
   "id": "49558af9-79a7-489a-8b4c-06e560dfba61",
   "metadata": {},
   "source": [
    "* 解題想法:  \n",
    "如果nums的長度大於0的情況，則先找出nums長度的一半，並先加總前後的數值，最後判斷如果nums長度為奇數，則再加上最中間的數值就是答案"
   ]
  },
  {
   "cell_type": "code",
   "execution_count": null,
   "id": "35a25731-0804-4665-9ca4-3f0b6f276c50",
   "metadata": {},
   "outputs": [],
   "source": [
    "class Solution:\n",
    "    def findTheArrayConcVal(self, nums: List[int]) -> int:\n",
    "        res = 0\n",
    "        if len(nums) > 0:\n",
    "            n = len(nums) // 2\n",
    "            for i in range(n):\n",
    "                l = int('{}{}'.format(nums[i], nums[-1-i]))\n",
    "                res += l\n",
    "            if len(nums) % 2 != 0:\n",
    "                res += nums[n]\n",
    "        return res"
   ]
  }
 ],
 "metadata": {
  "kernelspec": {
   "display_name": "Python 3 (ipykernel)",
   "language": "python",
   "name": "python3"
  },
  "language_info": {
   "codemirror_mode": {
    "name": "ipython",
    "version": 3
   },
   "file_extension": ".py",
   "mimetype": "text/x-python",
   "name": "python",
   "nbconvert_exporter": "python",
   "pygments_lexer": "ipython3",
   "version": "3.9.13"
  }
 },
 "nbformat": 4,
 "nbformat_minor": 5
}
