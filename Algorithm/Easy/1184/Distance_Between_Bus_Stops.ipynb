{
 "cells": [
  {
   "cell_type": "markdown",
   "metadata": {},
   "source": [
    "# 本題要找出起點到終點的最短距離為何\n",
    "原題目連結： https://leetcode.com/problems/distance-between-bus-stops/  \n",
    "\n",
    "A bus has n stops numbered from 0 to n - 1 that form a circle. We know the distance between all pairs of neighboring stops where distance[i] is the distance between the stops number i and (i + 1) % n.  \n",
    "\n",
    "The bus goes along both directions i.e. clockwise and counterclockwise.  \n",
    "\n",
    "Return the shortest distance between the given start and destination stops.  \n",
    "\n",
    "範例：  \n",
    "Ex1:  \n",
    "Input: distance = [1,2,3,4], start = 0, destination = 1  \n",
    "Output: 1  \n",
    "Explanation: Distance between 0 and 1 is 1 or 9, minimum is 1.  \n",
    "\n",
    "Ex2:  \n",
    "Input: distance = [1,2,3,4], start = 0, destination = 2  \n",
    "Output: 3  \n",
    "Explanation: Distance between 0 and 2 is 3 or 7, minimum is 3.  \n",
    "\n",
    "Ex3:  \n",
    "Input: distance = [1,2,3,4], start = 0, destination = 3  \n",
    "Output: 4  \n",
    "Explanation: Distance between 0 and 3 is 6 or 4, minimum is 4.  \n"
   ]
  },
  {
   "cell_type": "markdown",
   "metadata": {},
   "source": [
    "* 解題想法：  \n",
    "在題目中提供了到各點間的距離，因此要找出兩點間最短距離的方法之一是先找出所有路徑的總和，然後再扣掉起訖點間的距離，看兩者最小為何，就是題目想要找的值"
   ]
  },
  {
   "cell_type": "code",
   "execution_count": null,
   "metadata": {},
   "outputs": [],
   "source": [
    "class Solution:\n",
    "    def distanceBetweenBusStops(self, distance: List[int], start: int, destination: int) -> int:\n",
    "        result = []\n",
    "        total = 0\n",
    "        sub = 0\n",
    "        for n in range(len(distance)):\n",
    "            total += distance[n]\n",
    "        if start < destination:\n",
    "            for m in range(start, destination):\n",
    "                sub += distance[m]\n",
    "        else:\n",
    "            for m in range(destination, start):\n",
    "                sub += distance[m]\n",
    "        result.append(sub)\n",
    "        result.append(total - sub)\n",
    "        return min(result)"
   ]
  }
 ],
 "metadata": {
  "kernelspec": {
   "display_name": "Python 3",
   "language": "python",
   "name": "python3"
  },
  "language_info": {
   "codemirror_mode": {
    "name": "ipython",
    "version": 3
   },
   "file_extension": ".py",
   "mimetype": "text/x-python",
   "name": "python",
   "nbconvert_exporter": "python",
   "pygments_lexer": "ipython3",
   "version": "3.7.6"
  }
 },
 "nbformat": 4,
 "nbformat_minor": 4
}
