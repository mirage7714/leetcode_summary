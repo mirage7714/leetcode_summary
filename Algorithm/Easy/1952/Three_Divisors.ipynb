{
 "cells": [
  {
   "cell_type": "markdown",
   "metadata": {},
   "source": [
    "# 本題要判斷提供的數值是否剛好只有三個因數\n",
    "原題目連結: https://leetcode.com/problems/three-divisors/  \n",
    "\n",
    "Given an integer n, return true if n has exactly three positive divisors. Otherwise, return false.  \n",
    "  \n",
    "An integer m is a divisor of n if there exists an integer k such that n = k * m.  \n",
    "\n",
    "範例:  \n",
    "Ex1:  \n",
    "Input: n = 2  \n",
    "Output: false  \n",
    "Explantion: 2 has only two divisors: 1 and 2.  \n",
    "\n",
    "Ex2:  \n",
    "Input: n = 4  \n",
    "Output: true  \n",
    "Explantion: 4 has three divisors: 1, 2, and 4."
   ]
  },
  {
   "cell_type": "markdown",
   "metadata": {},
   "source": [
    "* 解題想法:  \n",
    "依題目說明，該數值須為某數的平方，才有可能會是剛好三個因數，另外也需要檢查因數會不會是某數的平方，因此將符合題目範圍內的數都先列出來進行判斷，最後再用平方法來進行判斷"
   ]
  },
  {
   "cell_type": "code",
   "execution_count": null,
   "metadata": {},
   "outputs": [],
   "source": [
    "class Solution:\n",
    "    def isThree(self, n: int) -> bool:\n",
    "        is_valid = False\n",
    "        if n > 1:\n",
    "            if n % 2 == 0:\n",
    "                if n == 4:\n",
    "                    is_valid = True\n",
    "            else:\n",
    "                if n % 3 == 0:\n",
    "                    if n == 9:\n",
    "                        is_valid = True\n",
    "                elif n % 5 == 0:\n",
    "                    if n == 25:\n",
    "                        is_valid = True\n",
    "                elif n % 7 == 0:\n",
    "                    if n == 49:\n",
    "                        is_valid = True\n",
    "                else:\n",
    "                    if sqrt(n) == int(sqrt(n)):\n",
    "                        is_valid = True\n",
    "        return is_valid"
   ]
  }
 ],
 "metadata": {
  "kernelspec": {
   "display_name": "Python 3",
   "language": "python",
   "name": "python3"
  },
  "language_info": {
   "codemirror_mode": {
    "name": "ipython",
    "version": 3
   },
   "file_extension": ".py",
   "mimetype": "text/x-python",
   "name": "python",
   "nbconvert_exporter": "python",
   "pygments_lexer": "ipython3",
   "version": "3.7.4"
  }
 },
 "nbformat": 4,
 "nbformat_minor": 2
}
