{
 "cells": [
  {
   "cell_type": "markdown",
   "metadata": {},
   "source": [
    "# 題目想要找出勒索紙條中的字是否能從雜誌中拼出來\n",
    "原題目連結: https://leetcode.com/problems/ransom-note/  \n",
    "\n",
    "範例: \n",
    "Ex1:  \n",
    "Input: ransomNote = \"a\", magazine = \"b\"  \n",
    "Output: false\n",
    "\n",
    "Ex2:  \n",
    "Input: ransomNote = \"aa\", magazine = \"ab\"  \n",
    "Output: false  \n",
    "\n",
    "Ex3:  \n",
    "Input: ransomNote = \"aa\", magazine = \"aab\"  \n",
    "Output: true  "
   ]
  },
  {
   "cell_type": "markdown",
   "metadata": {},
   "source": [
    "* 解題想法:  \n",
    "想像一下，在電影中出現的勒索紙條是由雜誌上剪下來的字所組成的  \n",
    "題目寫了不少內容，主要就是說明在ransomNote裡面出現的字必須是要在magazine內出現過的字，而且ransomNote出現的字數也必須小於或等於magazine上出現過的次數  \n",
    "其實就是統計字母語出現頻率，然後對兩個dict進行比較"
   ]
  },
  {
   "cell_type": "code",
   "execution_count": null,
   "metadata": {},
   "outputs": [],
   "source": [
    "class Solution:\n",
    "    def canConstruct(self, ransomNote: str, magazine: str) -> bool:\n",
    "        is_ransom = True\n",
    "        ransom = {}\n",
    "        mag = {}\n",
    "        for m in ransomNote:\n",
    "            if m not in ransom.keys():\n",
    "                ransom[m] = 1\n",
    "            else:\n",
    "                ransom[m] += 1\n",
    "        for n in magazine:\n",
    "            if n not in mag.keys():\n",
    "                mag[n] = 1\n",
    "            else:\n",
    "                mag[n] += 1\n",
    "        for r in ransom.keys():\n",
    "            if r not in mag.keys():\n",
    "                is_ransom = False\n",
    "                break\n",
    "            elif ransom[r] > mag[r]:\n",
    "                is_ransom = False\n",
    "                break\n",
    "        return is_ransom"
   ]
  }
 ],
 "metadata": {
  "kernelspec": {
   "display_name": "Python 3",
   "language": "python",
   "name": "python3"
  },
  "language_info": {
   "codemirror_mode": {
    "name": "ipython",
    "version": 3
   },
   "file_extension": ".py",
   "mimetype": "text/x-python",
   "name": "python",
   "nbconvert_exporter": "python",
   "pygments_lexer": "ipython3",
   "version": "3.7.4"
  }
 },
 "nbformat": 4,
 "nbformat_minor": 2
}
