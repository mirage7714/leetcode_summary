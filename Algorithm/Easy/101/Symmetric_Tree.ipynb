{
 "cells": [
  {
   "cell_type": "markdown",
   "metadata": {},
   "source": [
    "# 本題要判斷樹是否是左右對稱的結構\n",
    "原題目連結: https://leetcode.com/problems/symmetric-tree/  \n",
    "\n",
    "Given the root of a binary tree, check whether it is a mirror of itself (i.e., symmetric around its center).  \n",
    "\n",
    "範例:  \n",
    "Ex1:  \n",
    "Input: root = [1,2,2,3,4,4,3]  \n",
    "Output: true  \n",
    "\n",
    "Ex2:  \n",
    "Input: root = [1,2,2,null,3,null,3]  \n",
    "Output: false"
   ]
  },
  {
   "cell_type": "markdown",
   "metadata": {},
   "source": [
    "* 解題想法:  \n",
    "由於要判斷樹的左右兩側是否對稱，因此需要使用BFS的方式逐層進行檢查，首先用一個list來存放下一層的節點，另外用一個list來存放下一個節點的數值，如果有缺少的值則補上一個範圍外的數值  \n",
    "接著檢查數值的list是否符合左右對稱的要求，如果左右不對稱的話則中斷迴圈並回傳False，如果對稱的情況則繼續檢查下一層，直到檢查到最底層為止"
   ]
  },
  {
   "cell_type": "code",
   "execution_count": null,
   "metadata": {},
   "outputs": [],
   "source": [
    "# Definition for a binary tree node.\n",
    "# class TreeNode:\n",
    "#     def __init__(self, val=0, left=None, right=None):\n",
    "#         self.val = val\n",
    "#         self.left = left\n",
    "#         self.right = right\n",
    "class Solution:\n",
    "    def isSymmetric(self, root: Optional[TreeNode]) -> bool:\n",
    "        result = True\n",
    "        temp = [[root]]\n",
    "        while len(temp) > 0:\n",
    "            nodes = []\n",
    "            vals = []\n",
    "            for node in temp[0]:\n",
    "                if node.left != None:\n",
    "                    vals.append(node.left.val)\n",
    "                    nodes.append(node.left)\n",
    "                else:\n",
    "                    vals.append(101)\n",
    "                if node.right != None:\n",
    "                    vals.append(node.right.val)\n",
    "                    nodes.append(node.right)\n",
    "                else:\n",
    "                    vals.append(101)\n",
    "            if len(nodes) > 0:\n",
    "                temp.append(nodes)\n",
    "            temp.pop(0)\n",
    "            if len(vals) % 2 != 0:\n",
    "                result = False\n",
    "                break\n",
    "            else:\n",
    "                for m in range(int(len(vals) / 2)+1):\n",
    "                    if vals[m] != vals[len(vals) -m -1]:\n",
    "                        result = False\n",
    "                        break\n",
    "        return result"
   ]
  }
 ],
 "metadata": {
  "kernelspec": {
   "display_name": "Python 3",
   "language": "python",
   "name": "python3"
  },
  "language_info": {
   "codemirror_mode": {
    "name": "ipython",
    "version": 3
   },
   "file_extension": ".py",
   "mimetype": "text/x-python",
   "name": "python",
   "nbconvert_exporter": "python",
   "pygments_lexer": "ipython3",
   "version": "3.7.4"
  }
 },
 "nbformat": 4,
 "nbformat_minor": 4
}
