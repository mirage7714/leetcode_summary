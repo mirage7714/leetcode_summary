{
 "cells": [
  {
   "cell_type": "markdown",
   "id": "830e671a-ba6b-4917-aefd-7824f17049b1",
   "metadata": {},
   "source": [
    "# 本題要找出list中所有數值的總和與每個數字的總和差為多少 (\\#Array)\n",
    "原題目連結: https://leetcode.com/problems/difference-between-element-sum-and-digit-sum-of-an-array/description/  \n",
    "\n",
    "You are given a positive integer array nums.  \n",
    "\n",
    "The element sum is the sum of all the elements in nums.  \n",
    "The digit sum is the sum of all the digits (not necessarily distinct) that appear in nums.  \n",
    "Return the absolute difference between the element sum and digit sum of nums.  \n",
    "\n",
    "Note that the absolute difference between two integers x and y is defined as |x - y|.  \n",
    "\n",
    "範例:  \n",
    "Ex1:  \n",
    "Input: nums = [1,15,6,3]  \n",
    "Output: 9  \n",
    "Explanation:   \n",
    "The element sum of nums is 1 + 15 + 6 + 3 = 25.  \n",
    "The digit sum of nums is 1 + 1 + 5 + 6 + 3 = 16.  \n",
    "The absolute difference between the element sum and digit sum is |25 - 16| = 9.  \n",
    "\n",
    "Ex2:  \n",
    "Input: nums = [1,2,3,4]  \n",
    "Output: 0  \n",
    "Explanation:  \n",
    "The element sum of nums is 1 + 2 + 3 + 4 = 10.  \n",
    "The digit sum of nums is 1 + 2 + 3 + 4 = 10.  \n",
    "The absolute difference between the element sum and digit sum is |10 - 10| = 0."
   ]
  },
  {
   "cell_type": "markdown",
   "id": "7d030298-f7eb-4f42-b54c-fd1cf642dd11",
   "metadata": {},
   "source": [
    "* 解題想法:  \n",
    "首先當數值必須為兩位數以上時，差值才會大於0，因此先判斷該數值是否大於9，如果大於9則將數值減去所有位數的數值後加總，最後就是答案"
   ]
  },
  {
   "cell_type": "code",
   "execution_count": null,
   "id": "a2cc92fb-93ab-4a06-961a-8ac89d516822",
   "metadata": {},
   "outputs": [],
   "source": [
    "class Solution:\n",
    "    def differenceOfSum(self, nums: List[int]) -> int:\n",
    "        res = 0\n",
    "        for n in nums:\n",
    "            if n > 9:\n",
    "                t = n\n",
    "                for l in range(len(str(n))):\n",
    "                    t -= int(str(n)[l])\n",
    "                res += t\n",
    "        return res"
   ]
  }
 ],
 "metadata": {
  "kernelspec": {
   "display_name": "Python 3 (ipykernel)",
   "language": "python",
   "name": "python3"
  },
  "language_info": {
   "codemirror_mode": {
    "name": "ipython",
    "version": 3
   },
   "file_extension": ".py",
   "mimetype": "text/x-python",
   "name": "python",
   "nbconvert_exporter": "python",
   "pygments_lexer": "ipython3",
   "version": "3.9.13"
  }
 },
 "nbformat": 4,
 "nbformat_minor": 5
}
