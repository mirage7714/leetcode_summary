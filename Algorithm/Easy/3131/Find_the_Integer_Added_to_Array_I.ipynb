{
 "cells": [
  {
   "cell_type": "markdown",
   "id": "25afdf5c-297c-4400-8838-65f061c9b2dc",
   "metadata": {},
   "source": [
    "# 本題要找出需要加上多少數字才會將nums1轉換為nums2 (\\#Array )\n",
    "原題目連結：https://leetcode.com/problems/find-the-integer-added-to-array-i/description/  \n",
    "\n",
    "You are given two arrays of equal length, nums1 and nums2.  \n",
    "Each element in nums1 has been increased (or decreased in the case of negative) by an integer, represented by the variable x.  \n",
    "As a result, nums1 becomes equal to nums2. Two arrays are considered equal when they contain the same integers with the same frequencies.  \n",
    "Return the integer x.  \n",
    "\n",
    "範例：  \n",
    "Ex1:  \n",
    "Input: nums1 = [2,6,4], nums2 = [9,7,5]  \n",
    "Output: 3  \n",
    "Explanation:  \n",
    "The integer added to each element of nums1 is 3.  \n",
    "\n",
    "Ex2:  \n",
    "Input: nums1 = [10], nums2 = [5]  \n",
    "Output: -5  \n",
    "Explanation:  \n",
    "The integer added to each element of nums1 is -5.  \n",
    "\n",
    "Ex3:  \n",
    "Input: nums1 = [1,1,1,1], nums2 = [1,1,1,1]  \n",
    "Output: 0  \n",
    "Explanation:  \n",
    "The integer added to each element of nums1 is 0."
   ]
  },
  {
   "cell_type": "markdown",
   "id": "f2d7a89b-9968-44ac-9ed4-a5b863b75831",
   "metadata": {},
   "source": [
    "* 解題想法：  \n",
    "找出nums1與nums2的最小值之後，算出差值就是答案"
   ]
  },
  {
   "cell_type": "code",
   "execution_count": null,
   "id": "3ada5342-3c95-416e-86ab-047f643b5663",
   "metadata": {},
   "outputs": [],
   "source": [
    "class Solution:\n",
    "    def addedInteger(self, nums1: List[int], nums2: List[int]) -> int:\n",
    "        n1 = min(nums1)\n",
    "        n2 = min(nums2)\n",
    "        return n2 - n1"
   ]
  }
 ],
 "metadata": {
  "kernelspec": {
   "display_name": "Python 3 (ipykernel)",
   "language": "python",
   "name": "python3"
  },
  "language_info": {
   "codemirror_mode": {
    "name": "ipython",
    "version": 3
   },
   "file_extension": ".py",
   "mimetype": "text/x-python",
   "name": "python",
   "nbconvert_exporter": "python",
   "pygments_lexer": "ipython3",
   "version": "3.10.9"
  }
 },
 "nbformat": 4,
 "nbformat_minor": 5
}
