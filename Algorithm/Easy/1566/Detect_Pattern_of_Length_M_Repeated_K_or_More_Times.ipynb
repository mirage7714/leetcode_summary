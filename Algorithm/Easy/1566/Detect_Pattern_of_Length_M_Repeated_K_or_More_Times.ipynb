{
 "cells": [
  {
   "cell_type": "markdown",
   "metadata": {},
   "source": [
    "# 本題要找出在提供的array中，是否有長度為M，且重複K次的元素\n",
    "原題目連結: https://leetcode.com/problems/detect-pattern-of-length-m-repeated-k-or-more-times/  \n",
    "\n",
    "Given an array of positive integers arr,  find a pattern of length m that is repeated k or more times.  \n",
    "\n",
    "A pattern is a subarray (consecutive sub-sequence) that consists of one or more values, repeated multiple times consecutively without overlapping. A pattern is defined by its length and the number of repetitions.  \n",
    "\n",
    "Return true if there exists a pattern of length m that is repeated k or more times, otherwise return false.  \n",
    "\n",
    "範例:  \n",
    "Ex1:  \n",
    "Input: arr = [1,2,4,4,4,4], m = 1, k = 3  \n",
    "Output: true  \n",
    "Explanation: The pattern (4) of length 1 is repeated 4 consecutive times. Notice that pattern can be repeated k or more times but not less.  \n",
    "\n",
    "Ex2:  \n",
    "Input: arr = [1,2,1,2,1,1,1,3], m = 2, k = 2  \n",
    "Output: true  \n",
    "Explanation: The pattern (1,2) of length 2 is repeated 2 consecutive times. Another valid pattern (2,1) is also repeated 2 times.  \n",
    "\n",
    "Ex3:  \n",
    "Input: arr = [1,2,1,2,1,3], m = 2, k = 3  \n",
    "Output: false  \n",
    "Explanation: The pattern (1,2) is of length 2 but is repeated only 2 times. There is no pattern of length 2 that is repeated 3 or more times.  \n",
    "\n",
    "Ex4:  \n",
    "Input: arr = [1,2,3,1,2], m = 2, k = 2  \n",
    "Output: false  \n",
    "Explanation: Notice that the pattern (1,2) exists twice but not consecutively, so it doesn't count.  \n",
    "\n",
    "Ex5:  \n",
    "Input: arr = [2,2,2,2], m = 2, k = 3  \n",
    "Output: false  \n",
    "Explanation: The only pattern of length 2 is (2,2) however it's repeated only twice. Notice that we do not count overlapping repetitions.  "
   ]
  },
  {
   "cell_type": "markdown",
   "metadata": {},
   "source": [
    "* 解題想法:  \n",
    "由於題目要找出是否存在有長度為M，且重複K次的list，因此先建立一個boolean並設定為False，在用長度為M的子list並乘上K次後與原題目提供的list做比較，如果相同則回傳True，否則就繼續比較，另外如果長度已經小於M x K也可直接中斷，因為在找下去不可能會有結果"
   ]
  },
  {
   "cell_type": "code",
   "execution_count": null,
   "metadata": {},
   "outputs": [],
   "source": [
    "class Solution:\n",
    "    def containsPattern(self, arr: List[int], m: int, k: int) -> bool:\n",
    "        is_exist = False\n",
    "        for n in range(len(arr)-m):\n",
    "            temp = []\n",
    "            for l in range(k):\n",
    "                temp += arr[n:n+m]\n",
    "            if temp == arr[n:n+m*k]:\n",
    "                is_exist = True\n",
    "                break\n",
    "            elif len(arr) - l < m * k:\n",
    "                break\n",
    "        return is_exist"
   ]
  }
 ],
 "metadata": {
  "kernelspec": {
   "display_name": "Python 3",
   "language": "python",
   "name": "python3"
  },
  "language_info": {
   "codemirror_mode": {
    "name": "ipython",
    "version": 3
   },
   "file_extension": ".py",
   "mimetype": "text/x-python",
   "name": "python",
   "nbconvert_exporter": "python",
   "pygments_lexer": "ipython3",
   "version": "3.7.4"
  }
 },
 "nbformat": 4,
 "nbformat_minor": 2
}
