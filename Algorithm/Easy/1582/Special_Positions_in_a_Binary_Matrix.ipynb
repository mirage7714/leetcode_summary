{
 "cells": [
  {
   "cell_type": "markdown",
   "metadata": {},
   "source": [
    "# 本題要找出2D array中，檢查為1的那行與那列是否只有單一一個\n",
    "原題目連結: https://leetcode.com/problems/special-positions-in-a-binary-matrix/  \n",
    "\n",
    "Given a rows x cols matrix mat, where mat[i][j] is either 0 or 1, return the number of special positions in mat.  \n",
    "\n",
    "A position (i,j) is called special if mat[i][j] == 1 and all other elements in row i and column j are 0 (rows and columns are 0-indexed).  \n",
    "\n",
    "範例:\n",
    "Ex1:  \n",
    "Input: mat = [[1,0,0],[0,0,1],[1,0,0]]  \n",
    "Output: 1  \n",
    "Explanation: (1,2) is a special position because mat[1][2] == 1 and all other elements in row 1 and column 2 are 0.  \n",
    "\n",
    "Ex2:  \n",
    "Input: mat = [[1,0,0],[0,1,0],[0,0,1]]  \n",
    "Output: 3  \n",
    "Explanation: (0,0), (1,1) and (2,2) are special positions.  \n",
    "\n",
    "Ex3:  \n",
    "Input: mat = [[0,0,0,1],[1,0,0,0],[0,1,1,0],[0,0,0,0]]  \n",
    "Output: 2  \n",
    "\n",
    "Ex4:  \n",
    "Input: mat = [[0,0,0,0,0],[1,0,0,0,0],[0,1,0,0,0],[0,0,1,0,0],[0,0,0,1,1]]  \n",
    "Output: 3"
   ]
  },
  {
   "cell_type": "markdown",
   "metadata": {},
   "source": [
    "* 解題想法:  \n",
    "由於要判斷為1的數字中其他行與列中間是否還有1，如果沒有1的話則為special number，題目要找出special number的數量  \n",
    "因此先找出為1的數字並加入list中，最後在對list中的元素進行分析其他行列是否也為0"
   ]
  },
  {
   "cell_type": "code",
   "execution_count": null,
   "metadata": {},
   "outputs": [],
   "source": [
    "class Solution:\n",
    "    def numSpecial(self, mat: List[List[int]]) -> int:\n",
    "        count = 0\n",
    "        spec = []\n",
    "        for m in range(len(mat)):\n",
    "            for n in range(len(mat[m])):\n",
    "                if mat[m][n] == 1:\n",
    "                    spec.append([m,n])\n",
    "        print(spec)\n",
    "        for s in spec:\n",
    "            is_spec = True\n",
    "            h = s[1]\n",
    "            w = s[0]\n",
    "            for l in range(len(mat[w])):\n",
    "                if mat[w][l] == 1:\n",
    "                    if l != h:\n",
    "                        is_spec = False\n",
    "                        break\n",
    "            if is_spec:\n",
    "                for k in range(len(mat)):\n",
    "                    if mat[k][h] == 1:\n",
    "                        if k != w:\n",
    "                            is_spec = False\n",
    "                            break\n",
    "            if is_spec:\n",
    "                count += 1\n",
    "        return count"
   ]
  }
 ],
 "metadata": {
  "kernelspec": {
   "display_name": "Python 3",
   "language": "python",
   "name": "python3"
  },
  "language_info": {
   "codemirror_mode": {
    "name": "ipython",
    "version": 3
   },
   "file_extension": ".py",
   "mimetype": "text/x-python",
   "name": "python",
   "nbconvert_exporter": "python",
   "pygments_lexer": "ipython3",
   "version": "3.7.6"
  }
 },
 "nbformat": 4,
 "nbformat_minor": 4
}
