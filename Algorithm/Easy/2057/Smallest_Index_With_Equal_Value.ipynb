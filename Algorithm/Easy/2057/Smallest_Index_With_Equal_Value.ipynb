{
 "cells": [
  {
   "cell_type": "markdown",
   "metadata": {},
   "source": [
    "# 本題要找出符合指定條件的最小index為何\n",
    "原題目連結: https://leetcode.com/problems/smallest-index-with-equal-value/  \n",
    "\n",
    "Given a 0-indexed integer array nums, return the smallest index i of nums such that i mod 10 == nums[i], or -1 if such index does not exist.  \n",
    "\n",
    "x mod y denotes the remainder when x is divided by y.  \n",
    "\n",
    "範例:  \n",
    "Ex1:  \n",
    "Input: nums = [0,1,2]  \n",
    "Output: 0  \n",
    "Explanation:   \n",
    "i=0: 0 mod 10 = 0 == nums[0].  \n",
    "i=1: 1 mod 10 = 1 == nums[1].  \n",
    "i=2: 2 mod 10 = 2 == nums[2].  \n",
    "All indices have i mod 10 == nums[i], so we return the smallest index 0.  \n",
    "\n",
    "Ex2:  \n",
    "Input: nums = [4,3,2,1]  \n",
    "Output: 2  \n",
    "Explanation:   \n",
    "i=0: 0 mod 10 = 0 != nums[0].  \n",
    "i=1: 1 mod 10 = 1 != nums[1].  \n",
    "i=2: 2 mod 10 = 2 == nums[2].  \n",
    "i=3: 3 mod 10 = 3 != nums[3].  \n",
    "2 is the only index which has i mod 10 == nums[i].  \n",
    "\n",
    "Ex3:  \n",
    "Input: nums = [1,2,3,4,5,6,7,8,9,0]  \n",
    "Output: -1  \n",
    "Explanation: No index satisfies i mod 10 == nums[i].  \n",
    "\n",
    "Ex4:  \n",
    "Input: nums = [2,1,3,5,2]  \n",
    "Output: 1  \n",
    "Explanation: 1 is the only index with i mod 10 == nums[i]."
   ]
  },
  {
   "cell_type": "markdown",
   "metadata": {},
   "source": [
    "* 解題想法:  \n",
    "由於題目要找出最小符合條件的index值為和，因此用指定的條件進行檢查，如果符合條件則直接中斷迴圈並回傳index值，如果都沒有符合條件則直接回傳-1"
   ]
  },
  {
   "cell_type": "code",
   "execution_count": null,
   "metadata": {},
   "outputs": [],
   "source": [
    "class Solution:\n",
    "    def smallestEqual(self, nums: List[int]) -> int:\n",
    "        result = -1\n",
    "        for m in range(len(nums)):\n",
    "            if m % 10 == nums[m]:\n",
    "                result = m\n",
    "                break\n",
    "        return result"
   ]
  }
 ],
 "metadata": {
  "kernelspec": {
   "display_name": "Python 3",
   "language": "python",
   "name": "python3"
  },
  "language_info": {
   "codemirror_mode": {
    "name": "ipython",
    "version": 3
   },
   "file_extension": ".py",
   "mimetype": "text/x-python",
   "name": "python",
   "nbconvert_exporter": "python",
   "pygments_lexer": "ipython3",
   "version": "3.7.4"
  }
 },
 "nbformat": 4,
 "nbformat_minor": 4
}
