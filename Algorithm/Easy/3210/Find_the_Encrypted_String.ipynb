{
 "cells": [
  {
   "cell_type": "markdown",
   "id": "b2b2aa59-d4ac-4ef4-8f90-4113d592a8b5",
   "metadata": {},
   "source": [
    "# 本題要找出加密過後的字串為何 (\\#String )\n",
    "原題目連結：https://leetcode.com/problems/find-the-encrypted-string/description/  \n",
    "\n",
    "You are given a string s and an integer k. Encrypt the string using the following algorithm:  \n",
    "For each character c in s, replace c with the kth character after c in the string (in a cyclic manner).  \n",
    "Return the encrypted string.    \n",
    "\n",
    "範例：  \n",
    "Ex1:  \n",
    "Input: s = \"dart\", k = 3  \n",
    "Output: \"tdar\"  \n",
    "Explanation:  \n",
    "For i = 0, the 3rd character after 'd' is 't'.  \n",
    "For i = 1, the 3rd character after 'a' is 'd'.  \n",
    "For i = 2, the 3rd character after 'r' is 'a'.  \n",
    "For i = 3, the 3rd character after 't' is 'r'.  \n",
    "\n",
    "Ex2:  \n",
    "Input: s = \"aaa\", k = 1  \n",
    "Output: \"aaa\"  \n",
    "Explanation:  \n",
    "As all the characters are the same, the encrypted string will also be the same."
   ]
  },
  {
   "cell_type": "markdown",
   "id": "5008be51-6042-466e-b62d-d24d67a67dc0",
   "metadata": {},
   "source": [
    "* 解題想法：  \n",
    "首先將每個index的數值加上需要位移的值之後，再取與字串長度相除之後的餘數就是新的字母，將字母相加後就是新的字串"
   ]
  },
  {
   "cell_type": "code",
   "execution_count": null,
   "id": "66fa3cac-e84e-46b1-a113-e8ec5777c2ee",
   "metadata": {},
   "outputs": [],
   "source": [
    "class Solution:\n",
    "    def getEncryptedString(self, s: str, k: int) -> str:\n",
    "        res = ''\n",
    "        for i in range(len(s)):\n",
    "            res += s[(i+k) % len(s)]\n",
    "        return res"
   ]
  }
 ],
 "metadata": {
  "kernelspec": {
   "display_name": "Python 3 (ipykernel)",
   "language": "python",
   "name": "python3"
  },
  "language_info": {
   "codemirror_mode": {
    "name": "ipython",
    "version": 3
   },
   "file_extension": ".py",
   "mimetype": "text/x-python",
   "name": "python",
   "nbconvert_exporter": "python",
   "pygments_lexer": "ipython3",
   "version": "3.10.9"
  }
 },
 "nbformat": 4,
 "nbformat_minor": 5
}
