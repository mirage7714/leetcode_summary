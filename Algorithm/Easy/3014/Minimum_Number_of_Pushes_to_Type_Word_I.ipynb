{
 "cells": [
  {
   "cell_type": "markdown",
   "id": "1cd663fd-090b-4c60-9a79-e248485052d4",
   "metadata": {},
   "source": [
    "# 本題要找出最少的按壓次數為多少 (\\#String )\n",
    "原題目連結: https://leetcode.com/problems/minimum-number-of-pushes-to-type-word-i/description/  \n",
    "\n",
    "You are given a string word containing distinct lowercase English letters.  \n",
    "Telephone keypads have keys mapped with distinct collections of lowercase English letters, which can be used to form words by pushing them. For example, the key 2 is mapped with [\"a\",\"b\",\"c\"], we need to push the key one time to type \"a\", two times to type \"b\", and three times to type \"c\" .  \n",
    "It is allowed to remap the keys numbered 2 to 9 to distinct collections of letters. The keys can be remapped to any amount of letters, but each letter must be mapped to exactly one key. You need to find the minimum number of times the keys will be pushed to type the string word.  \n",
    "\n",
    "Return the minimum number of pushes needed to type word after remapping the keys.  \n",
    "An example mapping of letters to keys on a telephone keypad is given below. Note that 1, *, #, and 0 do not map to any letters.  \n",
    "\n",
    "範例:  \n",
    "Ex1:  \n",
    "Input: word = \"abcde\"   \n",
    "Output: 5  \n",
    "Explanation: The remapped keypad given in the image provides the minimum cost.  \n",
    "\"a\" -> one push on key 2  \n",
    "\"b\" -> one push on key 3  \n",
    "\"c\" -> one push on key 4  \n",
    "\"d\" -> one push on key 5  \n",
    "\"e\" -> one push on key 6  \n",
    "Total cost is 1 + 1 + 1 + 1 + 1 = 5.  \n",
    "It can be shown that no other mapping can provide a lower cost.   \n",
    "\n",
    "Ex2:  \n",
    "Input: word = \"xycdefghij\"  \n",
    "Output: 12  \n",
    "Explanation: The remapped keypad given in the image provides the minimum cost.  \n",
    "\"x\" -> one push on key 2  \n",
    "\"y\" -> two pushes on key 2  \n",
    "\"c\" -> one push on key 3  \n",
    "\"d\" -> two pushes on key 3  \n",
    "\"e\" -> one push on key 4  \n",
    "\"f\" -> one push on key 5  \n",
    "\"g\" -> one push on key 6  \n",
    "\"h\" -> one push on key 7  \n",
    "\"i\" -> one push on key 8  \n",
    "\"j\" -> one push on key 9  \n",
    "Total cost is 1 + 2 + 1 + 2 + 1 + 1 + 1 + 1 + 1 + 1 = 12.  \n",
    "It can be shown that no other mapping can provide a lower cost.  "
   ]
  },
  {
   "cell_type": "markdown",
   "id": "030f9399-3142-490c-8fb9-7b24a7dd0c04",
   "metadata": {},
   "source": [
    "* 解題想法:  \n",
    "因為只有八個數字有辦法按出英文字母，因此先檢查字串長度是否超過8，如果不超過8則按壓次數為字串長度，如果超過8則一直減去8，並將按壓次數往上加，最後回傳總按壓次數就是答案"
   ]
  },
  {
   "cell_type": "code",
   "execution_count": null,
   "id": "1ad19c69-6724-4331-aac7-e6177af07dac",
   "metadata": {},
   "outputs": [],
   "source": [
    "class Solution:\n",
    "    def minimumPushes(self, word: str) -> int:\n",
    "        if len(word) <= 8:\n",
    "            return len(word)\n",
    "        else:\n",
    "            l = len(word)\n",
    "            i = 1\n",
    "            res = 0\n",
    "            while l >= 8:\n",
    "                res += 8 * i\n",
    "                i += 1\n",
    "                l -= 8\n",
    "            res += l * i\n",
    "            return res"
   ]
  }
 ],
 "metadata": {
  "kernelspec": {
   "display_name": "Python 3 (ipykernel)",
   "language": "python",
   "name": "python3"
  },
  "language_info": {
   "codemirror_mode": {
    "name": "ipython",
    "version": 3
   },
   "file_extension": ".py",
   "mimetype": "text/x-python",
   "name": "python",
   "nbconvert_exporter": "python",
   "pygments_lexer": "ipython3",
   "version": "3.9.13"
  }
 },
 "nbformat": 4,
 "nbformat_minor": 5
}
