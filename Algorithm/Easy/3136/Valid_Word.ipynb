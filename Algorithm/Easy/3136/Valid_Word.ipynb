{
 "cells": [
  {
   "cell_type": "markdown",
   "id": "fc47ab1b-ee11-4777-8f50-5c66d5db7e2a",
   "metadata": {},
   "source": [
    "# 本題要檢查字串是否為有效的字 (\\#String )\n",
    "原題目連結: https://leetcode.com/problems/valid-word/description/  \n",
    "\n",
    "A word is considered valid if:  \n",
    "- It contains a minimum of 3 characters.  \n",
    "- It consists of the digits 0-9, and the uppercase and lowercase English letters. (Not necessary to have all of them.)  \n",
    "- It includes at least one vowel.  \n",
    "- It includes at least one consonant.  \n",
    "You are given a string word.  \n",
    "Return true if word is valid, otherwise, return false.  \n",
    "Notes:  \n",
    "'a', 'e', 'i', 'o', 'u', and their uppercases are vowels.  \n",
    "A consonant is an English letter that is not a vowel.  \n",
    "\n",
    "範例:  \n",
    "Ex1:  \n",
    "Input: word = \"234Adas\"  \n",
    "Output: true  \n",
    "Explanation:  \n",
    "This word satisfies the conditions.  \n",
    "\n",
    "Ex2:  \n",
    "Input: word = \"b3\"  \n",
    "Output: false  \n",
    "Explanation:  \n",
    "The length of this word is fewer than 3, and does not have a vowel.  \n",
    "\n",
    "Ex3:  \n",
    "Input: word = \"a3`$`e\"    \n",
    "Output: false    \n",
    "Explanation:  \n",
    "This word contains a '`$`' character and does not have a consonant."
   ]
  },
  {
   "cell_type": "markdown",
   "id": "6a3284f2-a055-4a31-b124-7b4c5ee170b3",
   "metadata": {},
   "source": [
    "* 解題想法:  \n",
    "首先檢查字串長度是否符合條件，如果不符合長度條件則直接回傳False，接著開始檢查是否有滿足有一個母音以及一個子音的條件，如果沒有滿足則回傳False，另外如果有出現不是數字也不是字母的情況則直接回傳False，最後如果都符合以上的條件則回傳True"
   ]
  },
  {
   "cell_type": "code",
   "execution_count": null,
   "id": "8afe6d8b-3442-4e77-8bfd-96db16b87fd3",
   "metadata": {},
   "outputs": [],
   "source": [
    "class Solution:\n",
    "    def isValid(self, word: str) -> bool:\n",
    "        vowels = ['a','e','i','o','u','A','E','I','O','U']\n",
    "        if len(word) < 3:\n",
    "            return False\n",
    "        else:\n",
    "            contains_vowel = False\n",
    "            contains_consonant = False\n",
    "            for w in word:\n",
    "                if w.isalpha() and w in vowels:\n",
    "                    contains_vowel = True\n",
    "                elif w.isalpha():\n",
    "                    contains_consonant = True\n",
    "                elif not w.isnumeric():\n",
    "                    return False\n",
    "            if not contains_vowel or not contains_consonant:\n",
    "                return False\n",
    "            return True"
   ]
  }
 ],
 "metadata": {
  "kernelspec": {
   "display_name": "Python 3 (ipykernel)",
   "language": "python",
   "name": "python3"
  },
  "language_info": {
   "codemirror_mode": {
    "name": "ipython",
    "version": 3
   },
   "file_extension": ".py",
   "mimetype": "text/x-python",
   "name": "python",
   "nbconvert_exporter": "python",
   "pygments_lexer": "ipython3",
   "version": "3.9.13"
  }
 },
 "nbformat": 4,
 "nbformat_minor": 5
}
