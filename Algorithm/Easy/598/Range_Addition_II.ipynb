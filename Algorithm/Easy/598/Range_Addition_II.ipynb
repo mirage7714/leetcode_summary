{
 "cells": [
  {
   "cell_type": "markdown",
   "metadata": {},
   "source": [
    "# 本題要找出在矩陣操作過後，最大值的數量\n",
    "原題目連結: https://leetcode.com/problems/range-addition-ii/  \n",
    "\n",
    "You are given an m x n matrix M initialized with all 0's and an array of operations ops, where ops[i] = [ai, bi] means M[x][y] should be incremented by one for all 0 <= x < ai and 0 <= y < bi.  \n",
    "\n",
    "Count and return the number of maximum integers in the matrix after performing all the operations.  \n",
    "\n",
    "範例:  \n",
    "Ex1:  \n",
    "Input: m = 3, n = 3, ops = [[2,2],[3,3]]  \n",
    "Output: 4  \n",
    "Explanation: The maximum integer in M is 2, and there are four of it in M. So return 4.  \n",
    "\n",
    "Ex2: \n",
    "Input: m = 3, n = 3, ops = [[2,2],[3,3],[3,3],[3,3],[2,2],[3,3],[3,3],[3,3],[2,2],[3,3],[3,3],[3,3]]  \n",
    "Output: 4  \n",
    "\n",
    "Ex3:  \n",
    "Input: m = 3, n = 3, ops = []  \n",
    "Output: 9  "
   ]
  },
  {
   "cell_type": "markdown",
   "metadata": {},
   "source": [
    "* 解題想法:  \n",
    "原本想先對m x n 的矩陣建出來之後再進行操作，但發現題目會給一些超級大的數字，這樣會導致在timeout的問題  \n",
    "後來發現只需要對ops進行處理，找出ops組合的最小值，相乘之後就是題目所求的最大值數量"
   ]
  },
  {
   "cell_type": "code",
   "execution_count": null,
   "metadata": {},
   "outputs": [],
   "source": [
    "class Solution:\n",
    "    def maxCount(self, m: int, n: int, ops: List[List[int]]) -> int:\n",
    "        count = 0\n",
    "        if len(ops) < 1:\n",
    "            count = m * n\n",
    "        else:\n",
    "            ops.sort()\n",
    "            min_a = ops[0][0]\n",
    "            min_b = ops[0][1]\n",
    "            for op in ops:\n",
    "                if op[0] < min_a:\n",
    "                    min_a = op[0]\n",
    "                if op[1] < min_b:\n",
    "                    min_b = op[1]\n",
    "            count = min_a * min_b\n",
    "        return count"
   ]
  }
 ],
 "metadata": {
  "kernelspec": {
   "display_name": "Python 3",
   "language": "python",
   "name": "python3"
  },
  "language_info": {
   "codemirror_mode": {
    "name": "ipython",
    "version": 3
   },
   "file_extension": ".py",
   "mimetype": "text/x-python",
   "name": "python",
   "nbconvert_exporter": "python",
   "pygments_lexer": "ipython3",
   "version": "3.7.4"
  }
 },
 "nbformat": 4,
 "nbformat_minor": 2
}
