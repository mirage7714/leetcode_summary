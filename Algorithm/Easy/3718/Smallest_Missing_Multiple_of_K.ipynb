{
 "cells": [
  {
   "cell_type": "markdown",
   "id": "034eb872-c2bd-42ad-8413-e7ccef2a1fdb",
   "metadata": {},
   "source": [
    "# 本題要找出缺少的最小k的倍數為多少 (\\#Array )\n",
    "原題目連結: https://leetcode.com/problems/smallest-missing-multiple-of-k/description/?page=28  \n",
    "\n",
    "Given an integer array nums and an integer k, return the smallest positive multiple of k that is missing from nums.  \n",
    "A multiple of k is any positive integer divisible by k  \n",
    "\n",
    "範例:  \n",
    "Ex1:  \n",
    "Input: nums = [8,2,3,4,6], k = 2  \n",
    "Output: 10  \n",
    "Explanation:  \n",
    "The multiples of k = 2 are 2, 4, 6, 8, 10, 12... and the smallest multiple missing from nums is 10.  \n",
    "\n",
    "Ex2:  \n",
    "Input: nums = [1,4,7,10,15], k = 5  \n",
    "Output: 5  \n",
    "Explanation:  \n",
    "The multiples of k = 5 are 5, 10, 15, 20... and the smallest multiple missing from nums is 5.  "
   ]
  },
  {
   "cell_type": "markdown",
   "id": "524e3764-f340-42c8-98ac-cf3eec08319d",
   "metadata": {},
   "source": [
    "* 解題想法:  \n",
    "首先用一個index來找出目前的倍數為多少，接著用迴圈開始比較目前的數值，如果為K的倍數則更新index，如果前後兩數大於k的倍數則回傳該倍數，如果list最後一個數值為k的倍數則回傳下一個k的倍數，否則就回傳k的倍數  "
   ]
  },
  {
   "cell_type": "code",
   "execution_count": null,
   "id": "649e9740-f6ab-4a57-b270-7c324b7fd1f5",
   "metadata": {},
   "outputs": [],
   "source": [
    "class Solution:\n",
    "    def missingMultiple(self, nums: List[int], k: int) -> int:\n",
    "        nums.sort()\n",
    "        index = 1\n",
    "        for i in range(len(nums)-1):\n",
    "            if nums[i] == k * index:\n",
    "                index += 1\n",
    "            elif nums[i] < k * index and nums[i+1] > k * index:\n",
    "                return k * index\n",
    "        if nums[-1] == k * index:\n",
    "            return k * (index + 1)\n",
    "        return k * index"
   ]
  }
 ],
 "metadata": {
  "kernelspec": {
   "display_name": "Python 3 (ipykernel)",
   "language": "python",
   "name": "python3"
  },
  "language_info": {
   "codemirror_mode": {
    "name": "ipython",
    "version": 3
   },
   "file_extension": ".py",
   "mimetype": "text/x-python",
   "name": "python",
   "nbconvert_exporter": "python",
   "pygments_lexer": "ipython3",
   "version": "3.12.5"
  }
 },
 "nbformat": 4,
 "nbformat_minor": 5
}
