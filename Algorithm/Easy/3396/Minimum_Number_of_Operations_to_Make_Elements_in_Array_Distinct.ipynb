{
 "cells": [
  {
   "cell_type": "markdown",
   "id": "9cead23e-be53-4730-a31f-70c792c803b6",
   "metadata": {},
   "source": [
    "# 本題要找出要讓list不出現重複的數字需要多少次的操作 (\\#Array )\n",
    "原題目連結: https://leetcode.com/problems/minimum-number-of-operations-to-make-elements-in-array-distinct/description/  \n",
    "\n",
    "You are given an integer array nums. You need to ensure that the elements in the array are distinct. To achieve this, you can perform the following operation any number of times:  \n",
    "Remove 3 elements from the beginning of the array. If the array has fewer than 3 elements, remove all remaining elements.  \n",
    "Note that an empty array is considered to have distinct elements. Return the minimum number of operations needed to make the elements in the array distinct.  \n",
    "\n",
    "範例:  \n",
    "Ex1:  \n",
    "Input: nums = [1,2,3,4,2,3,3,5,7]  \n",
    "Output: 2  \n",
    "Explanation:  \n",
    "In the first operation, the first 3 elements are removed, resulting in the array [4, 2, 3, 3, 5, 7].  \n",
    "In the second operation, the next 3 elements are removed, resulting in the array [3, 5, 7], which has distinct elements.  \n",
    "Therefore, the answer is 2.  \n",
    "\n",
    "Ex2:  \n",
    "Input: nums = [4,5,6,4,4]  \n",
    "Output: 2  \n",
    "Explanation:  \n",
    "In the first operation, the first 3 elements are removed, resulting in the array [4, 4].  \n",
    "In the second operation, all remaining elements are removed, resulting in an empty array.  \n",
    "Therefore, the answer is 2.  \n",
    "\n",
    "Ex3:  \n",
    "Input: nums = [6,7,8,9]  \n",
    "Output: 0  \n",
    "Explanation:  \n",
    "The array already contains distinct elements. Therefore, the answer is 0."
   ]
  },
  {
   "cell_type": "markdown",
   "id": "97c373a1-6faf-4da2-a20c-3e49342d1dc4",
   "metadata": {},
   "source": [
    "* 解題想法:  \n",
    "首先從最後面開始檢查，如果出現字母不重複時則放入list中，並減去剩餘長度，如果有重複時則中斷迴圈，最後將剩下的長度用3除，並回傳無條件進位後的結果就是答案"
   ]
  },
  {
   "cell_type": "code",
   "execution_count": null,
   "id": "7612b106-6152-424a-a1c2-b161dacc1a24",
   "metadata": {},
   "outputs": [],
   "source": [
    "class Solution:\n",
    "    def minimumOperations(self, nums: List[int]) -> int:\n",
    "        left = len(nums)\n",
    "        temp = set()\n",
    "        while nums:\n",
    "            n = nums.pop()\n",
    "            if n not in temp:\n",
    "                temp.add(n)\n",
    "                left -= 1\n",
    "            else:\n",
    "                break\n",
    "        if left % 3 == 0:\n",
    "            return left // 3\n",
    "        else:\n",
    "            return left // 3 + 1"
   ]
  }
 ],
 "metadata": {
  "kernelspec": {
   "display_name": "Python 3 (ipykernel)",
   "language": "python",
   "name": "python3"
  },
  "language_info": {
   "codemirror_mode": {
    "name": "ipython",
    "version": 3
   },
   "file_extension": ".py",
   "mimetype": "text/x-python",
   "name": "python",
   "nbconvert_exporter": "python",
   "pygments_lexer": "ipython3",
   "version": "3.9.13"
  }
 },
 "nbformat": 4,
 "nbformat_minor": 5
}
