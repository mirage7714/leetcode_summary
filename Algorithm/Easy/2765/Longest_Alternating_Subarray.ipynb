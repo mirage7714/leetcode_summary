{
 "cells": [
  {
   "cell_type": "markdown",
   "id": "1c461a25-4ff1-4b56-af02-437a2ed263b7",
   "metadata": {},
   "source": [
    "# 本題要找出符合條件最長的list為多少 (\\#Array)\n",
    "原題目連結: https://leetcode.com/problems/longest-alternating-subarray/description/  \n",
    "\n",
    "You are given a 0-indexed integer array nums. A subarray s of length m is called alternating if:  \n",
    "\n",
    "m is greater than 1.  \n",
    "s1 = s0 + 1.  \n",
    "The 0-indexed subarray s looks like [s0, s1, s0, s1,...,s(m-1) % 2]. In other words, s1 - s0 = 1, s2 - s1 = -1, s3 - s2 = 1, s4 - s3 = -1, and so on up to s[m - 1] - s[m - 2] = (-1)m.  \n",
    "Return the maximum length of all alternating subarrays present in nums or -1 if no such subarray exists.  \n",
    "\n",
    "A subarray is a contiguous non-empty sequence of elements within an array.  \n",
    "\n",
    "範例:  \n",
    "Ex1:  \n",
    "Input: nums = [2,3,4,3,4]  \n",
    "Output: 4  \n",
    "Explanation: The alternating subarrays are [3,4], [3,4,3], and [3,4,3,4]. The longest of these is [3,4,3,4], which is of length 4.  \n",
    "\n",
    "Ex2:  \n",
    "Input: nums = [4,5,6]  \n",
    "Output: 2  \n",
    "Explanation: [4,5] and [5,6] are the only two alternating subarrays. They are both of length 2."
   ]
  },
  {
   "cell_type": "markdown",
   "id": "cfcbc19c-1348-49b1-abba-d0bae7308f19",
   "metadata": {},
   "source": [
    "* 解題想法:  \n",
    "首先用一個list作為暫存，接著用迴圈進行檢查: 當暫存為空的時候，則將數字放入暫存中，如果暫存不為空的時，首先檢查暫存長度為偶數且最後一個數與目前的數值是否相差為1，如果是則繼續將目前數值放入暫存中，另外如果暫存長度為奇數且最後一個數與目前數值相差也為1時，則將目前的數值也放入暫存中，如果都不符合則先將暫存長度與目前最大值做比較，接著清空暫存並檢查暫存的最後一個數值與目前的數值是否相差為1，如果是則將最後一個數值放入暫存中，接著將目前的數值也放入暫存中，最後當迴圈結束時，檢查暫存長度與目前最大值。另外如果目前最大值為1，代表沒有符合條件的list，則需改為回傳-1"
   ]
  },
  {
   "cell_type": "code",
   "execution_count": null,
   "id": "a8a90d5e-39be-4bbf-9b2e-af9ad65689fa",
   "metadata": {},
   "outputs": [],
   "source": [
    "class Solution:\n",
    "    def alternatingSubarray(self, nums: List[int]) -> int:\n",
    "        res = 0\n",
    "        temp = []\n",
    "        for i in range(len(nums)):\n",
    "            if not temp:\n",
    "                temp.append(nums[i])\n",
    "            else:\n",
    "                if len(temp) % 2 == 0 and temp[-1] == nums[i] + 1:\n",
    "                    temp.append(nums[i])\n",
    "                elif len(temp) % 2 == 1 and temp[-1] == nums[i] -1:\n",
    "                    temp.append(nums[i])\n",
    "                else:\n",
    "                    res = max(res, len(temp))\n",
    "                    t = temp[-1]\n",
    "                    temp.clear()\n",
    "                    if nums[i] -1 == t:\n",
    "                        temp.append(t)\n",
    "                    temp.append(nums[i])\n",
    "        res = max(res, len(temp))\n",
    "        if res == 1:\n",
    "            res = -1\n",
    "        return res "
   ]
  }
 ],
 "metadata": {
  "kernelspec": {
   "display_name": "Python 3 (ipykernel)",
   "language": "python",
   "name": "python3"
  },
  "language_info": {
   "codemirror_mode": {
    "name": "ipython",
    "version": 3
   },
   "file_extension": ".py",
   "mimetype": "text/x-python",
   "name": "python",
   "nbconvert_exporter": "python",
   "pygments_lexer": "ipython3",
   "version": "3.9.13"
  }
 },
 "nbformat": 4,
 "nbformat_minor": 5
}
