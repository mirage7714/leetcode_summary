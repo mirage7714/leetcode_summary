{
 "cells": [
  {
   "cell_type": "markdown",
   "metadata": {},
   "source": [
    "# 本題要判斷最後一個bit是屬於1-bit或是2-bit (\\#Array)\n",
    "原題目連結: https://leetcode.com/problems/1-bit-and-2-bit-characters/  \n",
    "\n",
    "We have two special characters:  \n",
    "\n",
    "The first character can be represented by one bit 0.  \n",
    "The second character can be represented by two bits (10 or 11).  \n",
    "Given a binary array bits that ends with 0, return true if the last character must be a one-bit character.  \n",
    "\n",
    "範例:  \n",
    "Ex1:  \n",
    "Input: bits = [1,0,0]  \n",
    "Output: true  \n",
    "Explanation: The only way to decode it is two-bit character and one-bit character.  \n",
    "So the last character is one-bit character.  \n",
    "\n",
    "Ex2:  \n",
    "Input: bits = [1,1,1,0]  \n",
    "Output: false  \n",
    "Explanation: The only way to decode it is two-bit character and two-bit character.  \n",
    "So the last character is not one-bit character."
   ]
  },
  {
   "cell_type": "markdown",
   "metadata": {},
   "source": [
    "* 解題想法:  \n",
    "首先用一個bool作為目前是1-bit或是2-bit的判斷，接著從頭開始進行迴圈，如果當出現2-bit的情況，則將bool狀態修改，下一輪時則將bool狀態恢復，最後檢查bool狀態為何就可以知道答案了"
   ]
  },
  {
   "cell_type": "code",
   "execution_count": null,
   "metadata": {},
   "outputs": [],
   "source": [
    "class Solution:\n",
    "    def isOneBitCharacter(self, bits: List[int]) -> bool:\n",
    "        is_onebit = True\n",
    "        for m in range(len(bits)-1):\n",
    "            if is_onebit:\n",
    "                if bits[m] == 1:\n",
    "                    is_onebit = False\n",
    "            else:\n",
    "                is_onebit = True\n",
    "        return is_onebit"
   ]
  }
 ],
 "metadata": {
  "kernelspec": {
   "display_name": "Python 3",
   "language": "python",
   "name": "python3"
  },
  "language_info": {
   "codemirror_mode": {
    "name": "ipython",
    "version": 3
   },
   "file_extension": ".py",
   "mimetype": "text/x-python",
   "name": "python",
   "nbconvert_exporter": "python",
   "pygments_lexer": "ipython3",
   "version": "3.7.4"
  }
 },
 "nbformat": 4,
 "nbformat_minor": 4
}
