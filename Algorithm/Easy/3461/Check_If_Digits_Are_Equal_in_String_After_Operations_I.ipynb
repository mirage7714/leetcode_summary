{
 "cells": [
  {
   "cell_type": "markdown",
   "id": "cac942d5-b403-40d6-9cf5-9bc64bea5ff4",
   "metadata": {},
   "source": [
    "# 本題要判斷計算過後剩下的兩個數字是否會相等 (\\#String )\n",
    "原題目連結: https://leetcode.com/problems/check-if-digits-are-equal-in-string-after-operations-i/description/  \n",
    "\n",
    "You are given a string s consisting of digits. Perform the following operation repeatedly until the string has exactly two digits:  \n",
    "For each pair of consecutive digits in s, starting from the first digit, calculate a new digit as the sum of the two digits modulo 10.  \n",
    "Replace s with the sequence of newly calculated digits, maintaining the order in which they are computed.  \n",
    "Return true if the final two digits in s are the same; otherwise, return false.  \n",
    "\n",
    "範例:  \n",
    "Ex1:  \n",
    "Input: s = \"3902\"  \n",
    "Output: true  \n",
    "Explanation:  \n",
    "Initially, s = \"3902\"  \n",
    "First operation:  \n",
    "(s[0] + s[1]) % 10 = (3 + 9) % 10 = 2  \n",
    "(s[1] + s[2]) % 10 = (9 + 0) % 10 = 9  \n",
    "(s[2] + s[3]) % 10 = (0 + 2) % 10 = 2  \n",
    "s becomes \"292\"  \n",
    "Second operation:  \n",
    "(s[0] + s[1]) % 10 = (2 + 9) % 10 = 1  \n",
    "(s[1] + s[2]) % 10 = (9 + 2) % 10 = 1  \n",
    "s becomes \"11\"  \n",
    "Since the digits in \"11\" are the same, the output is true.  \n",
    "\n",
    "Ex2:  \n",
    "Input: s = \"34789\"  \n",
    "Output: false  \n",
    "Explanation:  \n",
    "Initially, s = \"34789\".  \n",
    "After the first operation, s = \"7157\".  \n",
    "After the second operation, s = \"862\".  \n",
    "After the third operation, s = \"48\".  \n",
    "Since '4' != '8', the output is false."
   ]
  },
  {
   "cell_type": "markdown",
   "id": "884be970-b059-48c3-9554-3e0ea7257591",
   "metadata": {},
   "source": [
    "* 解題想法:  \n",
    "首先用一個while迴圈來檢查當s長度超過2的時候，分別找出相鄰兩個數值加總之後的尾數並重新組成s，最後回傳s的頭尾是否相同就是答案"
   ]
  },
  {
   "cell_type": "code",
   "execution_count": null,
   "id": "e5c73ddf-7a25-4aed-9e5c-42ad30c5c127",
   "metadata": {},
   "outputs": [],
   "source": [
    "class Solution:\n",
    "    def hasSameDigits(self, s: str) -> bool:\n",
    "        while len(s) > 2:\n",
    "            t = ''\n",
    "            for i in range(len(s)-1):\n",
    "                t += str(int(s[i]) + int(s[i+1]))[-1]\n",
    "            s = t\n",
    "        return s[0] == s[1]"
   ]
  }
 ],
 "metadata": {
  "kernelspec": {
   "display_name": "Python 3 (ipykernel)",
   "language": "python",
   "name": "python3"
  },
  "language_info": {
   "codemirror_mode": {
    "name": "ipython",
    "version": 3
   },
   "file_extension": ".py",
   "mimetype": "text/x-python",
   "name": "python",
   "nbconvert_exporter": "python",
   "pygments_lexer": "ipython3",
   "version": "3.9.13"
  }
 },
 "nbformat": 4,
 "nbformat_minor": 5
}
