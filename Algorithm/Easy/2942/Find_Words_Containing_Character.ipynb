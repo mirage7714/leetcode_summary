{
 "cells": [
  {
   "cell_type": "markdown",
   "id": "7e63be37-5db8-415f-9456-34f9c822f646",
   "metadata": {},
   "source": [
    "# 本題要找出含有指定字母的字串共有多少 (\\#Array, \\#String )\n",
    "原題目連結: https://leetcode.com/problems/find-words-containing-character/description/  \n",
    "\n",
    "You are given a 0-indexed array of strings words and a character x.  \n",
    "Return an array of indices representing the words that contain the character x.  \n",
    "Note that the returned array may be in any order.   \n",
    "\n",
    "範例:  \n",
    "Ex1:  \n",
    "Input: words = [\"leet\",\"code\"], x = \"e\"  \n",
    "Output: [0,1]  \n",
    "Explanation: \"e\" occurs in both words: \"leet\", and \"code\". Hence, we return indices 0 and 1.  \n",
    "\n",
    "Ex2:  \n",
    "Input: words = [\"abc\",\"bcd\",\"aaaa\",\"cbc\"], x = \"a\"  \n",
    "Output: [0,2]  \n",
    "Explanation: \"a\" occurs in \"abc\", and \"aaaa\". Hence, we return indices 0 and 2.  \n",
    "\n",
    "Ex3:  \n",
    "Input: words = [\"abc\",\"bcd\",\"aaaa\",\"cbc\"], x = \"z\"  \n",
    "Output: []   \n",
    "Explanation: \"z\" does not occur in any of the words. Hence, we return an empty array."
   ]
  },
  {
   "cell_type": "markdown",
   "id": "544373a3-635d-4083-ba9e-b3a50c8766b4",
   "metadata": {},
   "source": [
    "* 解題想法:  \n",
    "首先用一個list來存放結果，機著開始逐個檢查是否含有指定的字串，如果有則將index放入list中，最後回傳list就是答案"
   ]
  },
  {
   "cell_type": "code",
   "execution_count": null,
   "id": "1ef2a070-8e14-42f0-ae20-4565ef83fdd7",
   "metadata": {},
   "outputs": [],
   "source": [
    "class Solution:\n",
    "    def findWordsContaining(self, words: List[str], x: str) -> List[int]:\n",
    "        res = []\n",
    "        for i in range(len(words)):\n",
    "            if x in words[i]:\n",
    "                res.append(i)\n",
    "        return res"
   ]
  }
 ],
 "metadata": {
  "kernelspec": {
   "display_name": "Python 3 (ipykernel)",
   "language": "python",
   "name": "python3"
  },
  "language_info": {
   "codemirror_mode": {
    "name": "ipython",
    "version": 3
   },
   "file_extension": ".py",
   "mimetype": "text/x-python",
   "name": "python",
   "nbconvert_exporter": "python",
   "pygments_lexer": "ipython3",
   "version": "3.11.4"
  }
 },
 "nbformat": 4,
 "nbformat_minor": 5
}
