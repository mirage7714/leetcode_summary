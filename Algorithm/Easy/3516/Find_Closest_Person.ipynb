{
 "cells": [
  {
   "cell_type": "markdown",
   "id": "704c0ace-14cc-4315-8e24-d1809df88c4f",
   "metadata": {},
   "source": [
    "# 本題要找出距離目標最近的人為何 (\\#Math )\n",
    "原題目連結: https://leetcode.com/problems/find-closest-person/description/  \n",
    "\n",
    "You are given three integers x, y, and z, representing the positions of three people on a number line:  \n",
    "x is the position of Person 1.  \n",
    "y is the position of Person 2.  \n",
    "z is the position of Person 3, who does not move.  \n",
    "Both Person 1 and Person 2 move toward Person 3 at the same speed.  \n",
    "\n",
    "Determine which person reaches Person 3 first:  \n",
    "\n",
    "Return 1 if Person 1 arrives first.  \n",
    "Return 2 if Person 2 arrives first.  \n",
    "Return 0 if both arrive at the same time.  \n",
    "Return the result accordingly.  \n",
    "\n",
    "範例:  \n",
    "Ex1:  \n",
    "Input: x = 2, y = 7, z = 4  \n",
    "Output: 1  \n",
    "Explanation:  \n",
    "Person 1 is at position 2 and can reach Person 3 (at position 4) in 2 steps.  \n",
    "Person 2 is at position 7 and can reach Person 3 in 3 steps.  \n",
    "Since Person 1 reaches Person 3 first, the output is 1.  \n",
    "\n",
    "Ex2:  \n",
    "Input: x = 2, y = 5, z = 6  \n",
    "Output: 2  \n",
    "Explanation:  \n",
    "Person 1 is at position 2 and can reach Person 3 (at position 6) in 4 steps.  \n",
    "Person 2 is at position 5 and can reach Person 3 in 1 step.  \n",
    "Since Person 2 reaches Person 3 first, the output is 2.  \n",
    "\n",
    "Ex3:  \n",
    "Input: x = 1, y = 5, z = 3  \n",
    "Output: 0  \n",
    "Explanation:  \n",
    "Person 1 is at position 1 and can reach Person 3 (at position 3) in 2 steps.  \n",
    "Person 2 is at position 5 and can reach Person 3 in 2 steps.  \n",
    "Since both Person 1 and Person 2 reach Person 3 at the same time, the output is 0."
   ]
  },
  {
   "cell_type": "markdown",
   "id": "280a1804-6d08-4c7e-8ffe-ac123bea590f",
   "metadata": {},
   "source": [
    "* 解題想法:  \n",
    "首先分別找出X與Z及Y與Z的距離，如果兩者距離相等時則回傳0，如果X與Z的距離較近實則回傳1，否則就回傳2"
   ]
  },
  {
   "cell_type": "code",
   "execution_count": null,
   "id": "d223555a-8175-4546-8e8b-6429c0964ae2",
   "metadata": {},
   "outputs": [],
   "source": [
    "class Solution:\n",
    "    def findClosest(self, x: int, y: int, z: int) -> int:\n",
    "        d1 = abs(z - x)\n",
    "        d2 = abs(z - y)\n",
    "        if d1 == d2:\n",
    "            return 0\n",
    "        elif d1 < d2:\n",
    "            return 1\n",
    "        else:\n",
    "            return 2"
   ]
  }
 ],
 "metadata": {
  "kernelspec": {
   "display_name": "Python 3 (ipykernel)",
   "language": "python",
   "name": "python3"
  },
  "language_info": {
   "codemirror_mode": {
    "name": "ipython",
    "version": 3
   },
   "file_extension": ".py",
   "mimetype": "text/x-python",
   "name": "python",
   "nbconvert_exporter": "python",
   "pygments_lexer": "ipython3",
   "version": "3.12.5"
  }
 },
 "nbformat": 4,
 "nbformat_minor": 5
}
