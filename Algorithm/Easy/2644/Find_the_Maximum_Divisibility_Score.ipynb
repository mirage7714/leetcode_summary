{
 "cells": [
  {
   "cell_type": "markdown",
   "metadata": {},
   "source": [
    "# 本題要找出最多的除數為多少 (\\#Array)\n",
    "原題目連結: https://leetcode.com/problems/find-the-maximum-divisibility-score/description/  \n",
    "\n",
    "You are given two 0-indexed integer arrays nums and divisors.  \n",
    "The divisibility score of divisors[i] is the number of indices j such that nums[j] is divisible by divisors[i].  \n",
    "Return the integer divisors[i] with the maximum divisibility score. If there is more than one integer with the maximum score, return the minimum of them.  \n",
    "\n",
    "範例:  \n",
    "Ex1:  \n",
    "Input: nums = [4,7,9,3,9], divisors = [5,2,3]  \n",
    "Output: 3  \n",
    "Explanation: The divisibility score for every element in divisors is:  \n",
    "The divisibility score of divisors[0] is 0 since no number in nums is divisible by 5.  \n",
    "The divisibility score of divisors[1] is 1 since nums[0] is divisible by 2.  \n",
    "The divisibility score of divisors[2] is 3 since nums[2], nums[3], and nums[4] are divisible by 3.  \n",
    "Since divisors[2] has the maximum divisibility score, we return it.  \n",
    "\n",
    "Ex2:  \n",
    "Input: nums = [20,14,21,10], divisors = [5,7,5]  \n",
    "Output: 5  \n",
    "Explanation: The divisibility score for every element in divisors is:  \n",
    "The divisibility score of divisors[0] is 2 since nums[0] and nums[3] are divisible by 5.  \n",
    "The divisibility score of divisors[1] is 2 since nums[1] and nums[2] are divisible by 7.  \n",
    "The divisibility score of divisors[2] is 2 since nums[0] and nums[3] are divisible by 5.  \n",
    "Since divisors[0], divisors[1], and divisors[2] all have the maximum divisibility score, we return the minimum of them (i.e., divisors[2]).  \n",
    "\n",
    "Ex3:  \n",
    "Input: nums = [12], divisors = [10,16]  \n",
    "Output: 10  \n",
    "Explanation: The divisibility score for every element in divisors is:  \n",
    "The divisibility score of divisors[0] is 0 since no number in nums is divisible by 10.  \n",
    "The divisibility score of divisors[1] is 0 since no number in nums is divisible by 16.  \n",
    "Since divisors[0] and divisors[1] both have the maximum divisibility score, we return the minimum of them (i.e., divisors[0])."
   ]
  },
  {
   "cell_type": "markdown",
   "metadata": {},
   "source": [
    "* 解題想法:  \n",
    "首先用一個set來儲存目前已經用過的除數，接著開始檢查每個除數共可以整除多少個整數並檢查是否為最大值，如果超過目前的最大職則更新目前的除數與計數，最後回傳除數"
   ]
  },
  {
   "cell_type": "code",
   "execution_count": null,
   "metadata": {},
   "outputs": [],
   "source": [
    "class Solution:\n",
    "    def maxDivScore(self, nums: List[int], divisors: List[int]) -> int:\n",
    "        res = 0\n",
    "        c = 0\n",
    "        temp = set()\n",
    "        for d in divisors:\n",
    "            if d not in temp:\n",
    "                l = 0\n",
    "                for n in nums:\n",
    "                    if n % d == 0:\n",
    "                        l += 1\n",
    "                if l > c:\n",
    "                    res = d\n",
    "                    c = l\n",
    "                elif l == c and res > d:\n",
    "                    res = d\n",
    "            temp.add(d)\n",
    "        if not res:\n",
    "            res = min(divisors)\n",
    "        return res"
   ]
  }
 ],
 "metadata": {
  "kernelspec": {
   "display_name": "Python 3",
   "language": "python",
   "name": "python3"
  },
  "language_info": {
   "codemirror_mode": {
    "name": "ipython",
    "version": 3
   },
   "file_extension": ".py",
   "mimetype": "text/x-python",
   "name": "python",
   "nbconvert_exporter": "python",
   "pygments_lexer": "ipython3",
   "version": "3.7.6"
  }
 },
 "nbformat": 4,
 "nbformat_minor": 4
}
