{
 "cells": [
  {
   "cell_type": "markdown",
   "metadata": {},
   "source": [
    "# 本題要找出每個subdomain有幾次request數\n",
    "原題目連結：https://leetcode.com/problems/subdomain-visit-count/  \n",
    "\n",
    "A website domain like \"discuss.leetcode.com\" consists of various subdomains. At the top level, we have \"com\", at the next level, we have \"leetcode.com\", and at the lowest level, \"discuss.leetcode.com\". When we visit a domain like \"discuss.leetcode.com\", we will also visit the parent domains \"leetcode.com\" and \"com\" implicitly.  \n",
    "\n",
    "Now, call a \"count-paired domain\" to be a count (representing the number of visits this domain received), followed by a space, followed by the address. An example of a count-paired domain might be \"9001 discuss.leetcode.com\".  \n",
    "\n",
    "We are given a list cpdomains of count-paired domains. We would like a list of count-paired domains, (in the same format as the input, and in any order), that explicitly counts the number of visits to each subdomain.  \n",
    "\n",
    "範例：  \n",
    "Ex1:  \n",
    "Input: [\"9001 discuss.leetcode.com\"]  \n",
    "Output: [\"9001 discuss.leetcode.com\", \"9001 leetcode.com\", \"9001 com\"]  \n",
    "Explanation:   \n",
    "We only have one website domain: \"discuss.leetcode.com\". As discussed above, the subdomain \"leetcode.com\" and \"com\" will also be visited. So they will all be visited 9001 times.  \n",
    "\n",
    "Ex2:  \n",
    "Input: [\"900 google.mail.com\", \"50 yahoo.com\", \"1 intel.mail.com\", \"5 wiki.org\"]  \n",
    "Output: [\"901 mail.com\",\"50 yahoo.com\",\"900 google.mail.com\",\"5 wiki.org\",\"5 org\",\"1 intel.mail.com\",\"951 com\"]  \n",
    "Explanation:   \n",
    "We will visit \"google.mail.com\" 900 times, \"yahoo.com\" 50 times, \"intel.mail.com\" once and \"wiki.org\" 5 times. For the subdomains, we will visit \"mail.com\" 900 + 1 = 901 times, \"com\" 900 + 50 + 1 = 951 times, and \"org\" 5 times."
   ]
  },
  {
   "cell_type": "markdown",
   "metadata": {},
   "source": [
    "* 解題想法：  \n",
    "因為會有subdomain相同，需要進行加總的情況，因此建了一個dict，將每個subdomain當成key，次數當成value放入dict中  \n",
    "當每切出一個subdomain就確認是否存在，並更新數值"
   ]
  },
  {
   "cell_type": "code",
   "execution_count": null,
   "metadata": {},
   "outputs": [],
   "source": [
    "class Solution:\n",
    "    def subdomainVisits(self, cpdomains: List[str]) -> List[str]:\n",
    "        freq = {}\n",
    "        result = []\n",
    "        for c in cpdomains:\n",
    "            count = int(c.split(' ')[0])\n",
    "            domain = c.split(' ')[1]\n",
    "            while True:\n",
    "                if domain not in freq.keys():\n",
    "                    freq[domain] = count\n",
    "                else:\n",
    "                    freq[domain] += count\n",
    "                \n",
    "                if '.' not in domain:\n",
    "                    break\n",
    "                else:\n",
    "                    domain = domain[domain.index('.')+1:]\n",
    "        for key in freq.keys():\n",
    "            r = '{} {}'.format(freq[key],key)\n",
    "            result.append(r)\n",
    "        return result"
   ]
  }
 ],
 "metadata": {
  "kernelspec": {
   "display_name": "Python 3",
   "language": "python",
   "name": "python3"
  },
  "language_info": {
   "codemirror_mode": {
    "name": "ipython",
    "version": 3
   },
   "file_extension": ".py",
   "mimetype": "text/x-python",
   "name": "python",
   "nbconvert_exporter": "python",
   "pygments_lexer": "ipython3",
   "version": "3.8.3"
  }
 },
 "nbformat": 4,
 "nbformat_minor": 4
}
