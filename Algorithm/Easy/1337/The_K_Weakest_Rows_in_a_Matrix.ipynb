{
 "cells": [
  {
   "cell_type": "markdown",
   "metadata": {},
   "source": [
    "# 本題目要找出在提供的array中，總和最小的K個array\n",
    "原題目連結: https://leetcode.com/problems/the-k-weakest-rows-in-a-matrix/  \n",
    "\n",
    "Given a m * n matrix mat of ones (representing soldiers) and zeros (representing civilians), return the indexes of the k weakest rows in the matrix ordered from the weakest to the strongest.  \n",
    "\n",
    "A row i is weaker than row j, if the number of soldiers in row i is less than the number of soldiers in row j, or they have the same number of soldiers but i is less than j. Soldiers are always stand in the frontier of a row, that is, always ones may appear first and then zeros.  \n",
    "\n",
    "範例:  \n",
    "Ex1:  \n",
    "Input: mat =   \n",
    "[[1,1,0,0,0],  \n",
    " [1,1,1,1,0],  \n",
    " [1,0,0,0,0],  \n",
    " [1,1,0,0,0],  \n",
    " [1,1,1,1,1]],   \n",
    "k = 3  \n",
    "Output: [2,0,3]  \n",
    "Explanation:   \n",
    "The number of soldiers for each row is:   \n",
    "row 0 -> 2   \n",
    "row 1 -> 4   \n",
    "row 2 -> 1   \n",
    "row 3 -> 2   \n",
    "row 4 -> 5   \n",
    "Rows ordered from the weakest to the strongest are [2,0,3,1,4]  \n",
    "\n",
    "Ex2:  \n",
    "Input: mat =   \n",
    "[[1,0,0,0],  \n",
    " [1,1,1,1],  \n",
    " [1,0,0,0],  \n",
    " [1,0,0,0]],   \n",
    "k = 2  \n",
    "Output: [0,2]  \n",
    "Explanation:   \n",
    "The number of soldiers for each row is:   \n",
    "row 0 -> 1   \n",
    "row 1 -> 4   \n",
    "row 2 -> 1   \n",
    "row 3 -> 1   \n",
    "Rows ordered from the weakest to the strongest are [0,2,3,1]"
   ]
  },
  {
   "cell_type": "markdown",
   "metadata": {},
   "source": [
    "* 解題想法:  \n",
    "由於題目要找出總和最小的k個list，因此需要先找出每個list的和，另外因為題目有要求如果和相同的情況下，較前面的list是比後面的list還小的情況  \n",
    "因此將和與list的index一併加入一個暫存的list中並進行sort，最後回傳前K個list就是題目要求的答案"
   ]
  },
  {
   "cell_type": "code",
   "execution_count": null,
   "metadata": {},
   "outputs": [],
   "source": [
    "class Solution:\n",
    "    def kWeakestRows(self, mat: List[List[int]], k: int) -> List[int]:\n",
    "        freq = []\n",
    "        result = []\n",
    "        for n in range(len(mat)):\n",
    "            temp = 0\n",
    "            for m in range(len(mat[n])):\n",
    "                if mat[n][m] == 1:\n",
    "                    temp += 1\n",
    "            freq.append([temp,n])\n",
    "        freq.sort()\n",
    "        for l in range(k):\n",
    "            result.append(freq[l][1])\n",
    "        return result"
   ]
  }
 ],
 "metadata": {
  "kernelspec": {
   "display_name": "Python 3",
   "language": "python",
   "name": "python3"
  },
  "language_info": {
   "codemirror_mode": {
    "name": "ipython",
    "version": 3
   },
   "file_extension": ".py",
   "mimetype": "text/x-python",
   "name": "python",
   "nbconvert_exporter": "python",
   "pygments_lexer": "ipython3",
   "version": "3.7.4"
  }
 },
 "nbformat": 4,
 "nbformat_minor": 2
}
