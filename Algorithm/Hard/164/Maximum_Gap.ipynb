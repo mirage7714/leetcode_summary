{
 "cells": [
  {
   "cell_type": "markdown",
   "id": "05bd60ae-7a35-48e7-a1a9-17e344da34b4",
   "metadata": {},
   "source": [
    "# 本題要找出兩個排序相鄰的數值差距最大為多少 (\\#Array, \\#Heap )\n",
    "原題目連結:https://leetcode.com/problems/maximum-gap/description/　　\n",
    "\n",
    "Given an integer array nums, return the maximum difference between two successive elements in its sorted form. If the array contains less than two elements, return 0.  \n",
    "You must write an algorithm that runs in linear time and uses linear extra space.  \n",
    "\n",
    "範例:  \n",
    "Ex1:  \n",
    "Input: nums = [3,6,9,1]  \n",
    "Output: 3  \n",
    "Explanation: The sorted form of the array is [1,3,6,9], either (3,6) or (6,9) has the maximum difference 3.  \n",
    "\n",
    "Ex2:  \n",
    "Input: nums = [10]  \n",
    "Output: 0  \n",
    "Explanation: The array contains less than 2 elements, therefore return 0."
   ]
  },
  {
   "cell_type": "markdown",
   "id": "bb9136f9-eb3d-43d3-b307-dfd58c328e9e",
   "metadata": {},
   "source": [
    "* 解題想法:  \n",
    "首先將list轉換為heap，接著找出第一個值之後開始計算差距，並與目前的結果作比較，最後回傳差距最大的值作為答案"
   ]
  },
  {
   "cell_type": "code",
   "execution_count": null,
   "id": "c3630099-32e0-4d73-90fe-cde4ba2d2618",
   "metadata": {},
   "outputs": [],
   "source": [
    "import heapq\n",
    "\n",
    "class Solution:\n",
    "    def maximumGap(self, nums: List[int]) -> int:\n",
    "        res = 0\n",
    "        heapq.heapify(nums)\n",
    "        start = heapq.heappop(nums)\n",
    "        while nums:\n",
    "            n = heapq.heappop(nums)\n",
    "            res = max(res, n - start)\n",
    "            start = n\n",
    "        return res"
   ]
  }
 ],
 "metadata": {
  "kernelspec": {
   "display_name": "Python 3 (ipykernel)",
   "language": "python",
   "name": "python3"
  },
  "language_info": {
   "codemirror_mode": {
    "name": "ipython",
    "version": 3
   },
   "file_extension": ".py",
   "mimetype": "text/x-python",
   "name": "python",
   "nbconvert_exporter": "python",
   "pygments_lexer": "ipython3",
   "version": "3.9.13"
  }
 },
 "nbformat": 4,
 "nbformat_minor": 5
}
