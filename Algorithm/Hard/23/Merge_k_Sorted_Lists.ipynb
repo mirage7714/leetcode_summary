{
 "cells": [
  {
   "cell_type": "markdown",
   "metadata": {},
   "source": [
    "# 本題要將多個linked list整合成一個排序的linked list\n",
    "原題目連結: https://leetcode.com/problems/merge-k-sorted-lists/  \n",
    "\n",
    "You are given an array of k linked-lists lists, each linked-list is sorted in ascending order.  \n",
    "\n",
    "Merge all the linked-lists into one sorted linked-list and return it.  \n",
    "\n",
    "範例:   \n",
    "Ex1:  \n",
    "Input: lists = [[1,4,5],[1,3,4],[2,6]]  \n",
    "Output: [1,1,2,3,4,4,5,6]  \n",
    "Explanation: The linked-lists are:  \n",
    "[  \n",
    "  1->4->5,  \n",
    "  1->3->4,  \n",
    "  2->6  \n",
    "]  \n",
    "merging them into one sorted list:  \n",
    "1->1->2->3->4->4->5->6  \n",
    "\n",
    "Ex2:  \n",
    "Input: lists = []  \n",
    "Output: []  \n",
    "\n",
    "Ex3:  \n",
    "Input: lists = [[]]  \n",
    "Output: []"
   ]
  },
  {
   "cell_type": "markdown",
   "metadata": {},
   "source": [
    "* 解題想法:  \n",
    "首先用一個list來存放所有的數值，接著開始走訪所有的linked list並將值放入list中，最後將值排序之後重新建立新的linked list並回傳"
   ]
  },
  {
   "cell_type": "code",
   "execution_count": null,
   "metadata": {},
   "outputs": [],
   "source": [
    "# Definition for singly-linked list.\n",
    "# class ListNode:\n",
    "#     def __init__(self, val=0, next=None):\n",
    "#         self.val = val\n",
    "#         self.next = next\n",
    "class Solution:\n",
    "    def mergeKLists(self, lists: List[Optional[ListNode]]) -> Optional[ListNode]:\n",
    "        vals = []\n",
    "        result = []\n",
    "        if lists:\n",
    "            for l in lists:\n",
    "                while l:\n",
    "                    vals.append(l.val)\n",
    "                    l = l.next\n",
    "            if len(vals) > 0:\n",
    "                vals.sort(reverse = True)\n",
    "                for v in vals:\n",
    "                    node = ListNode()\n",
    "                    node.val = v\n",
    "                    if len(result) > 0:\n",
    "                        node.next = result[-1]\n",
    "                    result.append(node)\n",
    "                return result[-1]\n",
    "            else:\n",
    "                return None\n",
    "        else:\n",
    "            return None"
   ]
  }
 ],
 "metadata": {
  "kernelspec": {
   "display_name": "Python 3",
   "language": "python",
   "name": "python3"
  },
  "language_info": {
   "codemirror_mode": {
    "name": "ipython",
    "version": 3
   },
   "file_extension": ".py",
   "mimetype": "text/x-python",
   "name": "python",
   "nbconvert_exporter": "python",
   "pygments_lexer": "ipython3",
   "version": "3.7.4"
  }
 },
 "nbformat": 4,
 "nbformat_minor": 4
}
