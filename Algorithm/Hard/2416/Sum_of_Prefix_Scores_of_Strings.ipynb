{
 "cells": [
  {
   "cell_type": "markdown",
   "metadata": {},
   "source": [
    "# 本題要算出每個prefix的分數為多少 (\\#String, \\#HashMap, \\#Array)\n",
    "原題目連結: https://leetcode.com/problems/sum-of-prefix-scores-of-strings/  \n",
    "\n",
    "You are given an array words of size n consisting of non-empty strings.  \n",
    "We define the score of a string word as the number of strings words[i] such that word is a prefix of words[i].  \n",
    "\n",
    "For example, if words = [\"a\", \"ab\", \"abc\", \"cab\"], then the score of \"ab\" is 2, since \"ab\" is a prefix of both \"ab\" and \"abc\".  \n",
    "Return an array answer of size n where answer[i] is the sum of scores of every non-empty prefix of words[i].  \n",
    "\n",
    "Note that a string is considered as a prefix of itself.  \n",
    "\n",
    "範例:  \n",
    "Ex1:  \n",
    "Input: words = [\"abc\",\"ab\",\"bc\",\"b\"]  \n",
    "Output: [5,4,3,2]  \n",
    "Explanation: The answer for each string is the following:  \n",
    "- \"abc\" has 3 prefixes: \"a\", \"ab\", and \"abc\".  \n",
    "- There are 2 strings with the prefix \"a\", 2 strings with the prefix \"ab\", and 1 string with the prefix \"abc\".  \n",
    "The total is answer[0] = 2 + 2 + 1 = 5.  \n",
    "- \"ab\" has 2 prefixes: \"a\" and \"ab\".  \n",
    "- There are 2 strings with the prefix \"a\", and 2 strings with the prefix \"ab\".  \n",
    "The total is answer[1] = 2 + 2 = 4.  \n",
    "- \"bc\" has 2 prefixes: \"b\" and \"bc\".  \n",
    "- There are 2 strings with the prefix \"b\", and 1 string with the prefix \"bc\".  \n",
    "The total is answer[2] = 2 + 1 = 3.  \n",
    "- \"b\" has 1 prefix: \"b\".  \n",
    "- There are 2 strings with the prefix \"b\".  \n",
    "The total is answer[3] = 2.  \n",
    "\n",
    "Ex2:  \n",
    "Input: words = [\"abcd\"]  \n",
    "Output: [4]  \n",
    "Explanation:  \n",
    "\"abcd\" has 4 prefixes: \"a\", \"ab\", \"abc\", and \"abcd\".  \n",
    "Each prefix has a score of one, so the total is answer[0] = 1 + 1 + 1 + 1 = 4."
   ]
  },
  {
   "cell_type": "markdown",
   "metadata": {},
   "source": [
    "* 解題想法:  \n",
    "首先用一個dict，將所有出現過的prefix放入dict中並統計出現的數值，接著開始計算每個prefix的總分，最後放入list中就是答案"
   ]
  },
  {
   "cell_type": "code",
   "execution_count": null,
   "metadata": {},
   "outputs": [],
   "source": [
    "class Solution:\n",
    "    def sumPrefixScores(self, words: List[str]) -> List[int]:\n",
    "        count = {}\n",
    "        result = []\n",
    "        for word in words:\n",
    "            for w in range(1, len(word) + 1):\n",
    "                k = word[:w]\n",
    "                if k not in count.keys():\n",
    "                    count[k] = 1\n",
    "                else:\n",
    "                    count[k] += 1\n",
    "        for word in words:\n",
    "            total = 0\n",
    "            for w in range(1, len(word) + 1):\n",
    "                k = word[:w]\n",
    "                total += count[k]\n",
    "            result.append(total)\n",
    "        return result"
   ]
  }
 ],
 "metadata": {
  "kernelspec": {
   "display_name": "Python 3",
   "language": "python",
   "name": "python3"
  },
  "language_info": {
   "codemirror_mode": {
    "name": "ipython",
    "version": 3
   },
   "file_extension": ".py",
   "mimetype": "text/x-python",
   "name": "python",
   "nbconvert_exporter": "python",
   "pygments_lexer": "ipython3",
   "version": "3.7.6"
  }
 },
 "nbformat": 4,
 "nbformat_minor": 4
}
