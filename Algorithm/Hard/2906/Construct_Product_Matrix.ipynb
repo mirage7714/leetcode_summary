{
 "cells": [
  {
   "cell_type": "markdown",
   "id": "aa0f3be3-71cf-43f2-bd32-44dbccbe360d",
   "metadata": {},
   "source": [
    "# 本題要找出matrix中所有乘積除以該數值後為多少 (\\#Matrix, \\#Array )\n",
    "原題目連結：https://leetcode.com/problems/construct-product-matrix/description/  \n",
    "\n",
    "Given a 0-indexed 2D integer matrix grid of size n * m, we define a 0-indexed 2D matrix p of size n * m as the product matrix of grid if the following condition is met:  \n",
    "\n",
    "Each element p[i][j] is calculated as the product of all elements in grid except for the element grid[i][j]. This product is then taken modulo 12345.   \n",
    "Return the product matrix of grid.  \n",
    "\n",
    "範例：  \n",
    "Ex1:  \n",
    "Input: grid = [[1,2],[3,4]]  \n",
    "Output: [[24,12],[8,6]]  \n",
    "Explanation: p[0][0] = grid[0][1] * grid[1][0] * grid[1][1] = 2 * 3 * 4 = 24  \n",
    "p[0][1] = grid[0][0] * grid[1][0] * grid[1][1] = 1 * 3 * 4 = 12  \n",
    "p[1][0] = grid[0][0] * grid[0][1] * grid[1][1] = 1 * 2 * 4 = 8  \n",
    "p[1][1] = grid[0][0] * grid[0][1] * grid[1][0] = 1 * 2 * 3 = 6  \n",
    "So the answer is [[24,12],[8,6]].  \n",
    "\n",
    "Ex2:  \n",
    "Input: grid = [[12345],[2],[1]]  \n",
    "Output: [[2],[0],[0]]  \n",
    "Explanation: p[0][0] = grid[0][1] * grid[0][2] = 2 * 1 = 2.  \n",
    "p[0][1] = grid[0][0] * grid[0][2] = 12345 * 1 = 12345. 12345 % 12345 = 0. So p[0][1] = 0.  \n",
    "p[0][2] = grid[0][0] * grid[0][1] = 12345 * 2 = 24690. 24690 % 12345 = 0. So p[0][2] = 0.  \n",
    "So the answer is [[2],[0],[0]]."
   ]
  },
  {
   "cell_type": "markdown",
   "id": "6315ddaf-534a-4dad-bdc9-06994a29dd59",
   "metadata": {},
   "source": [
    "* 解題想法：  \n",
    "首先算出matrix中所有數值的乘積，並判斷乘積是否是12345的倍數，並找出有多少數字是12345的倍數，接著開始逐個找出數值，如果乘積是12345的倍數，且該數值不為12345的倍數時則該數為0，如果該數為12345的倍數且有超過一個以上的數字是12345的倍數時則該數也為0，否則該數就是乘積除上該數後再取12345的餘數，如果乘積不為12345的倍數則每個數值都是總乘積除上該數後取12345的餘數，最後回傳matrix做為答案"
   ]
  },
  {
   "cell_type": "code",
   "execution_count": null,
   "id": "37c1e1a1-4840-42e1-ab57-8c4acb9a8e7b",
   "metadata": {},
   "outputs": [],
   "source": [
    "class Solution:\n",
    "    def constructProductMatrix(self, grid: List[List[int]]) -> List[List[int]]:\n",
    "        total = 1\n",
    "        res = []\n",
    "        is_zero = False\n",
    "        count = 0\n",
    "        for i in range(len(grid)):\n",
    "            for j in range(len(grid[0])):\n",
    "                total *= grid[i][j]\n",
    "                if grid[i][j] % 12345 == 0:\n",
    "                    count += 1\n",
    "                    is_zero = True\n",
    "        for i in range(len(grid)):\n",
    "            t = []\n",
    "            for j in range(len(grid[0])):\n",
    "                if not is_zero: \n",
    "                    t.append((total// grid[i][j]) % 12345) \n",
    "                else:\n",
    "                    if count > 1:\n",
    "                        t.append(0)\n",
    "                    else:\n",
    "                        if grid[i][j] % 12345 == 0:\n",
    "                            t.append((total // grid[i][j]) % 12345)\n",
    "                        else:\n",
    "                            t.append(0)\n",
    "            res.append(t)\n",
    "        return res"
   ]
  }
 ],
 "metadata": {
  "kernelspec": {
   "display_name": "Python 3 (ipykernel)",
   "language": "python",
   "name": "python3"
  },
  "language_info": {
   "codemirror_mode": {
    "name": "ipython",
    "version": 3
   },
   "file_extension": ".py",
   "mimetype": "text/x-python",
   "name": "python",
   "nbconvert_exporter": "python",
   "pygments_lexer": "ipython3",
   "version": "3.10.9"
  }
 },
 "nbformat": 4,
 "nbformat_minor": 5
}
