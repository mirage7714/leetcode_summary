{
 "cells": [
  {
   "cell_type": "markdown",
   "id": "8fdc17da-674a-4530-a648-c2d1af3ca357",
   "metadata": {},
   "source": [
    "# 本題要找出共有幾種不重複的命名方式 (\\#Array, \\#HashMap)\n",
    "原題目連結: https://leetcode.com/problems/naming-a-company/description/  \n",
    "\n",
    "You are given an array of strings ideas that represents a list of names to be used in the process of naming a company. The process of naming a company is as follows:  \n",
    "\n",
    "Choose 2 distinct names from ideas, call them ideaA and ideaB.  \n",
    "Swap the first letters of ideaA and ideaB with each other.  \n",
    "If both of the new names are not found in the original ideas, then the name ideaA ideaB (the concatenation of ideaA and ideaB, separated by a space) is a valid company name.  \n",
    "Otherwise, it is not a valid name.  \n",
    "Return the number of distinct valid names for the company.  \n",
    "\n",
    "範例:  \n",
    "Ex1:  \n",
    "Input: ideas = [\"coffee\",\"donuts\",\"time\",\"toffee\"]  \n",
    "Output: 6  \n",
    "Explanation: The following selections are valid:  \n",
    "- (\"coffee\", \"donuts\"): The company name created is \"doffee conuts\".  \n",
    "- (\"donuts\", \"coffee\"): The company name created is \"conuts doffee\".  \n",
    "- (\"donuts\", \"time\"): The company name created is \"tonuts dime\".  \n",
    "- (\"donuts\", \"toffee\"): The company name created is \"tonuts doffee\".  \n",
    "- (\"time\", \"donuts\"): The company name created is \"dime tonuts\".  \n",
    "- (\"toffee\", \"donuts\"): The company name created is \"doffee tonuts\".  \n",
    "Therefore, there are a total of 6 distinct company names.  \n",
    "\n",
    "The following are some examples of invalid selections:  \n",
    "- (\"coffee\", \"time\"): The name \"toffee\" formed after swapping already exists in the original array.  \n",
    "- (\"time\", \"toffee\"): Both names are still the same after swapping and exist in the original array.  \n",
    "- (\"coffee\", \"toffee\"): Both names formed after swapping already exist in the original array.  \n",
    "\n",
    "Ex2:  \n",
    "Input: ideas = [\"lack\",\"back\"]  \n",
    "Output: 0  \n",
    "Explanation: There are no valid selections. Therefore, 0 is returned."
   ]
  },
  {
   "cell_type": "markdown",
   "id": "93f1ca2b-5a3f-41c8-9207-6bfb4da53941",
   "metadata": {},
   "source": [
    "* 解題想法:  \n",
    "首先將每個字母的第一個字作為key放入dict中，接著開始從value中取值出來，並比較兩個value中有多少重複的值，兩個value中符合條件的值就是減去重複的值之後相乘，最後將結果相加就是答案"
   ]
  },
  {
   "cell_type": "code",
   "execution_count": null,
   "id": "bbcefe7f-2b46-4bc4-b35e-8ec08efffae8",
   "metadata": {},
   "outputs": [],
   "source": [
    "class Solution:\n",
    "    def distinctNames(self, ideas: List[str]) -> int:\n",
    "        count = {}\n",
    "        res = 0\n",
    "        for i in ideas:\n",
    "            if i[0] not in count.keys():\n",
    "                count[i[0]] = set()\n",
    "            count[i[0]].add(i[1:])\n",
    "        vals = list(count.values())\n",
    "        for v1 in vals:\n",
    "            for v2 in vals:\n",
    "                if v1 == v2:\n",
    "                    continue\n",
    "                i = 0\n",
    "                for v in v1:\n",
    "                    if v in v2:\n",
    "                        i += 1\n",
    "                d1 = len(v1) - i\n",
    "                d2 = len(v2) - i\n",
    "                res += d1 * d2\n",
    "        return res"
   ]
  }
 ],
 "metadata": {
  "kernelspec": {
   "display_name": "Python 3 (ipykernel)",
   "language": "python",
   "name": "python3"
  },
  "language_info": {
   "codemirror_mode": {
    "name": "ipython",
    "version": 3
   },
   "file_extension": ".py",
   "mimetype": "text/x-python",
   "name": "python",
   "nbconvert_exporter": "python",
   "pygments_lexer": "ipython3",
   "version": "3.9.13"
  }
 },
 "nbformat": 4,
 "nbformat_minor": 5
}
