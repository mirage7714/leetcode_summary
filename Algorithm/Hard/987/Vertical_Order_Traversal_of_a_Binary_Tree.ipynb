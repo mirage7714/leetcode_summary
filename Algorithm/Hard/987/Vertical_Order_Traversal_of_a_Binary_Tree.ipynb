{
 "cells": [
  {
   "cell_type": "markdown",
   "metadata": {},
   "source": [
    "# 本題要用vertical來對binary tree中的節點數值進行排序\n",
    "原題目連結: https://leetcode.com/problems/vertical-order-traversal-of-a-binary-tree/  \n",
    "\n",
    "Given the root of a binary tree, calculate the vertical order traversal of the binary tree.  \n",
    "For each node at position (row, col), its left and right children will be at positions (row + 1, col - 1) and (row + 1, col + 1) respectively. The root of the tree is at (0, 0).  \n",
    "The vertical order traversal of a binary tree is a list of top-to-bottom orderings for each column index starting from the leftmost column and ending on the rightmost column. There may be multiple nodes in the same row and same column. In such a case, sort these nodes by their values.  \n",
    "Return the vertical order traversal of the binary tree.  \n",
    "\n",
    "範例:  \n",
    "Ex1:  \n",
    "Input: root = [3,9,20,null,null,15,7]  \n",
    "Output: [[9],[3,15],[20],[7]]  \n",
    "Explanation:  \n",
    "Column -1: Only node 9 is in this column.  \n",
    "Column 0: Nodes 3 and 15 are in this column in that order from top to bottom.  \n",
    "Column 1: Only node 20 is in this column.  \n",
    "Column 2: Only node 7 is in this column.  \n",
    "\n",
    "Ex2:  \n",
    "Input: root = [1,2,3,4,5,6,7]  \n",
    "Output: [[4],[2],[1,5,6],[3],[7]]  \n",
    "Explanation:  \n",
    "Column -2: Only node 4 is in this column.  \n",
    "Column -1: Only node 2 is in this column.  \n",
    "Column 0: Nodes 1, 5, and 6 are in this column.  \n",
    "          1 is at the top, so it comes first.  \n",
    "          5 and 6 are at the same position (2, 0), so we order them by their value, 5 before 6.  \n",
    "Column 1: Only node 3 is in this column.  \n",
    "Column 2: Only node 7 is in this column.  \n",
    "\n",
    "Ex3:  \n",
    "Input: root = [1,2,3,4,6,5,7]  \n",
    "Output: [[4],[2],[1,5,6],[3],[7]]  \n",
    "Explanation:  \n",
    "This case is the exact same as example 2, but with nodes 5 and 6 swapped.  \n",
    "Note that the solution remains the same since 5 and 6 are in the same location and should be ordered by their values."
   ]
  },
  {
   "cell_type": "markdown",
   "metadata": {},
   "source": [
    "* 解題想法:  \n",
    "這題使用DFS的方式進行走訪binary tree，用col當成key值，[row, node.val]做成val放入dict中，接著開始走訪左右節點，走訪結束後開始整理dict中的數值:  \n",
    "首先用key值將val取出後，將val排序後取出node.val並放入list中，最後將list放入結果的list中並回傳"
   ]
  },
  {
   "cell_type": "code",
   "execution_count": null,
   "metadata": {},
   "outputs": [],
   "source": [
    "# Definition for a binary tree node.\n",
    "# class TreeNode:\n",
    "#     def __init__(self, val=0, left=None, right=None):\n",
    "#         self.val = val\n",
    "#         self.left = left\n",
    "#         self.right = right\n",
    "class Solution:\n",
    "    def verticalTraversal(self, root: Optional[TreeNode]) -> List[List[int]]:\n",
    "        def dfs(node, x,y):\n",
    "            if y not in data.keys():\n",
    "                data[y] = [[x, node.val]]\n",
    "            else:\n",
    "                data[y].append([x, node.val])\n",
    "            if not node.left and not node.right:\n",
    "                return\n",
    "            if node.left:\n",
    "                dfs(node.left, x+1, y-1)\n",
    "            if node.right:\n",
    "                dfs(node.right, x+1, y+1)\n",
    "        \n",
    "        data = {}\n",
    "        result = []\n",
    "        if root:\n",
    "            dfs(root, 0,0)\n",
    "            keys = list(data.keys())\n",
    "            keys.sort()\n",
    "            for k in keys:\n",
    "                temp = []\n",
    "                val = data[k]\n",
    "                val.sort()\n",
    "                for v in val:\n",
    "                    temp.append(v[1])\n",
    "                result.append(temp)\n",
    "        return result"
   ]
  }
 ],
 "metadata": {
  "kernelspec": {
   "display_name": "Python 3",
   "language": "python",
   "name": "python3"
  },
  "language_info": {
   "codemirror_mode": {
    "name": "ipython",
    "version": 3
   },
   "file_extension": ".py",
   "mimetype": "text/x-python",
   "name": "python",
   "nbconvert_exporter": "python",
   "pygments_lexer": "ipython3",
   "version": "3.7.4"
  }
 },
 "nbformat": 4,
 "nbformat_minor": 4
}
