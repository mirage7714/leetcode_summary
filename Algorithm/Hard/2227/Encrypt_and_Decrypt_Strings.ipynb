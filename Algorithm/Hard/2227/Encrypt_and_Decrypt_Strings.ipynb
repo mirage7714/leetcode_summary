{
 "cells": [
  {
   "cell_type": "markdown",
   "id": "68b93d66-6e10-4276-9006-ed80bdebc6f0",
   "metadata": {},
   "source": [
    "# 本題要實作一個加密與解密的功能 (\\#HashMap, \\#String)\n",
    "原題目連結: https://leetcode.com/problems/encrypt-and-decrypt-strings/description/  \n",
    "\n",
    "You are given a character array keys containing unique characters and a string array values containing strings of length 2. You are also given another string array dictionary that contains all permitted original strings after decryption. You should implement a data structure that can encrypt or decrypt a 0-indexed string.  \n",
    "\n",
    "A string is encrypted with the following process:  \n",
    "\n",
    "For each character c in the string, we find the index i satisfying keys[i] == c in keys.  \n",
    "Replace c with values[i] in the string.  \n",
    "Note that in case a character of the string is not present in keys, the encryption process cannot be carried out, and an empty string \"\" is returned.  \n",
    "\n",
    "A string is decrypted with the following process:  \n",
    "\n",
    "For each substring s of length 2 occurring at an even index in the string, we find an i such that values[i] == s. If there are multiple valid i, we choose any one of them. This means a string could have multiple possible strings it can decrypt to.   \n",
    "Replace s with keys[i] in the string.  \n",
    "Implement the Encrypter class:  \n",
    "\n",
    "Encrypter(char[] keys, String[] values, String[] dictionary) Initializes the Encrypter class with keys, values, and dictionary.  \n",
    "String encrypt(String word1) Encrypts word1 with the encryption process described above and returns the encrypted string.  \n",
    "int decrypt(String word2) Returns the number of possible strings word2 could decrypt to that also appear in dictionary.  \n",
    "\n",
    "Ex1:  \n",
    "Input  \n",
    "[\"Encrypter\", \"encrypt\", \"decrypt\"]  \n",
    "[[['a', 'b', 'c', 'd'], [\"ei\", \"zf\", \"ei\", \"am\"], [\"abcd\", \"acbd\", \"adbc\", \"badc\", \"dacb\", \"cadb\", \"cbda\", \"abad\"]], [\"abcd\"], [\"eizfeiam\"]]  \n",
    "Output  \n",
    "[null, \"eizfeiam\", 2]  "
   ]
  },
  {
   "cell_type": "markdown",
   "id": "f87269ae-67b0-4593-9916-9a21f8225db6",
   "metadata": {},
   "source": [
    "* 解題想法:  \n",
    "首先建立一個dict，用來放置加密與解密的部分，另外用一個dict來存放目前有的字串翻譯以及出現的次數，接著開始實作兩個功能:  \n",
    "- encrypt(): 將提供的字串進行翻譯，如果中間有出現無法翻譯的字串，則直接回傳空字串  \n",
    "- decrypt(): 將提供的字串與字串翻譯的dict中進行尋找，如果有出現則回傳出現的次數，否則回傳0"
   ]
  },
  {
   "cell_type": "code",
   "execution_count": null,
   "id": "51e00670-0ded-4326-ae77-a27f6fd1cc58",
   "metadata": {},
   "outputs": [],
   "source": [
    "class Encrypter:\n",
    "\n",
    "    def __init__(self, keys: List[str], values: List[str], dictionary: List[str]):\n",
    "        self.map = {}\n",
    "        self.parts = {}\n",
    "        for m in range(len(keys)):\n",
    "            self.map[keys[m]] = values[m]\n",
    "        for d in dictionary:\n",
    "            t = ''\n",
    "            is_valid = True\n",
    "            for m in d:\n",
    "                if m in self.map.keys():\n",
    "                    t += self.map[m]\n",
    "                else:\n",
    "                    is_valid = False\n",
    "                    break\n",
    "            if is_valid: \n",
    "                if t not in self.parts.keys():\n",
    "                    self.parts[t] = 1\n",
    "                else:\n",
    "                    self.parts[t] += 1\n",
    "\n",
    "    def encrypt(self, word1: str) -> str:\n",
    "        res = ''\n",
    "        for w in word1:\n",
    "            res += self.map[w]\n",
    "        return res\n",
    "\n",
    "    def decrypt(self, word2: str) -> int:\n",
    "        if word2 in self.parts.keys():\n",
    "            return self.parts[word2]\n",
    "        return 0        \n",
    "\n",
    "# Your Encrypter object will be instantiated and called as such:\n",
    "# obj = Encrypter(keys, values, dictionary)\n",
    "# param_1 = obj.encrypt(word1)\n",
    "# param_2 = obj.decrypt(word2)"
   ]
  }
 ],
 "metadata": {
  "kernelspec": {
   "display_name": "Python 3 (ipykernel)",
   "language": "python",
   "name": "python3"
  },
  "language_info": {
   "codemirror_mode": {
    "name": "ipython",
    "version": 3
   },
   "file_extension": ".py",
   "mimetype": "text/x-python",
   "name": "python",
   "nbconvert_exporter": "python",
   "pygments_lexer": "ipython3",
   "version": "3.9.13"
  }
 },
 "nbformat": 4,
 "nbformat_minor": 5
}
