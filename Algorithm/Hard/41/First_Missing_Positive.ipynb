{
 "cells": [
  {
   "cell_type": "markdown",
   "metadata": {},
   "source": [
    "# 本題要找出在array中缺少的第一個正整數\n",
    "原題目連結: https://leetcode.com/problems/first-missing-positive/  \n",
    "\n",
    "Given an unsorted integer array nums, find the smallest missing positive integer.  \n",
    "\n",
    "Follow up: Could you implement an algorithm that runs in O(n) time and uses constant extra space.?  \n",
    "\n",
    "範例:  \n",
    "Ex1:  \n",
    "Input: nums = [1,2,0]  \n",
    "Output: 3  \n",
    "\n",
    "Ex2:  \n",
    "Input: nums = [3,4,-1,1]  \n",
    "Output: 2  \n",
    "\n",
    "Ex3:  \n",
    "Input: nums = [7,8,9,11,12]  \n",
    "Output: 1"
   ]
  },
  {
   "cell_type": "markdown",
   "metadata": {},
   "source": [
    "* 解題想法:  \n",
    "想到最簡單的解法，是使用迴圈來逐一確認正整數有出現在list中，如果沒有出現就是題目要求的數字  \n",
    "否則結果應該就是list長度後的下一個數字"
   ]
  },
  {
   "cell_type": "code",
   "execution_count": null,
   "metadata": {},
   "outputs": [],
   "source": [
    "class Solution:\n",
    "    def firstMissingPositive(self, nums: List[int]) -> int:\n",
    "        result = 0\n",
    "        is_exist = False\n",
    "        if len(nums) > 0:\n",
    "            for n in range(1, len(nums)+1):\n",
    "                if n not in nums:\n",
    "                    result = n\n",
    "                    is_exist = True\n",
    "                    break\n",
    "            if not is_exist:\n",
    "                result = len(nums) + 1\n",
    "        else:\n",
    "            result = 1\n",
    "        return result"
   ]
  }
 ],
 "metadata": {
  "kernelspec": {
   "display_name": "Python 3",
   "language": "python",
   "name": "python3"
  },
  "language_info": {
   "codemirror_mode": {
    "name": "ipython",
    "version": 3
   },
   "file_extension": ".py",
   "mimetype": "text/x-python",
   "name": "python",
   "nbconvert_exporter": "python",
   "pygments_lexer": "ipython3",
   "version": "3.7.4"
  }
 },
 "nbformat": 4,
 "nbformat_minor": 2
}
