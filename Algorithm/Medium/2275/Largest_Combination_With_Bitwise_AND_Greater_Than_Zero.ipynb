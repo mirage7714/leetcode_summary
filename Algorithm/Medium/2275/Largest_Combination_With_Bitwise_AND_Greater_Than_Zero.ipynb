{
 "cells": [
  {
   "cell_type": "markdown",
   "id": "a43f624e-2d7e-44b7-b37f-7c0d4e1be49d",
   "metadata": {},
   "source": [
    "# 本題要找出最有多少個數值的And值不為0 (\\#BitManipulations, \\#Array )\n",
    "原題目連結: https://leetcode.com/problems/largest-combination-with-bitwise-and-greater-than-zero/description/?envType=daily-question&envId=2024-11-07  \n",
    "\n",
    "The bitwise AND of an array nums is the bitwise AND of all integers in nums.  \n",
    "For example, for nums = [1, 5, 3], the bitwise AND is equal to 1 & 5 & 3 = 1.  \n",
    "Also, for nums = [7], the bitwise AND is 7.  \n",
    "You are given an array of positive integers candidates. Evaluate the bitwise AND of every combination of numbers of candidates. Each number in candidates may only be used once in each combination.    \n",
    "Return the size of the largest combination of candidates with a bitwise AND greater than 0.  \n",
    "\n",
    "範例:  \n",
    "Ex1:  \n",
    "Input: candidates = [16,17,71,62,12,24,14]  \n",
    "Output: 4  \n",
    "Explanation: The combination [16,17,62,24] has a bitwise AND of 16 & 17 & 62 & 24 = 16 > 0.  \n",
    "The size of the combination is 4.  \n",
    "It can be shown that no combination with a size greater than 4 has a bitwise AND greater than 0.  \n",
    "Note that more than one combination may have the largest size.  \n",
    "For example, the combination [62,12,24,14] has a bitwise AND of 62 & 12 & 24 & 14 = 8 > 0.  \n",
    "\n",
    "Ex2:  \n",
    "Input: candidates = [8,8]  \n",
    "Output: 2  \n",
    "Explanation: The largest combination [8,8] has a bitwise AND of 8 & 8 = 8 > 0.   \n",
    "The size of the combination is 2, so we return 2.  "
   ]
  },
  {
   "cell_type": "markdown",
   "id": "2e48ea8d-94da-421d-8e33-e56c74ee6e9d",
   "metadata": {},
   "source": [
    "* 解題想法:  \n",
    "首先用一個dict來存放每個index共有多少個bit，接著逐個將每個數值的bit找出後更新該index的bit統計數量，最後回傳bit最多的值就是答案"
   ]
  },
  {
   "cell_type": "code",
   "execution_count": null,
   "id": "7e490f48-b907-4644-9e58-3e5a1966a600",
   "metadata": {},
   "outputs": [],
   "source": [
    "class Solution:\n",
    "    def largestCombination(self, candidates: List[int]) -> int:\n",
    "        count = {}\n",
    "        for c in candidates:\n",
    "            b = bin(c)[2:]\n",
    "            for i in range(len(b)):\n",
    "                if b[-1-i] == '1':\n",
    "                    if i not in count.keys():\n",
    "                        count[i] = 0\n",
    "                    count[i] += 1\n",
    "        return max(count.values())"
   ]
  }
 ],
 "metadata": {
  "kernelspec": {
   "display_name": "Python 3 (ipykernel)",
   "language": "python",
   "name": "python3"
  },
  "language_info": {
   "codemirror_mode": {
    "name": "ipython",
    "version": 3
   },
   "file_extension": ".py",
   "mimetype": "text/x-python",
   "name": "python",
   "nbconvert_exporter": "python",
   "pygments_lexer": "ipython3",
   "version": "3.9.13"
  }
 },
 "nbformat": 4,
 "nbformat_minor": 5
}
