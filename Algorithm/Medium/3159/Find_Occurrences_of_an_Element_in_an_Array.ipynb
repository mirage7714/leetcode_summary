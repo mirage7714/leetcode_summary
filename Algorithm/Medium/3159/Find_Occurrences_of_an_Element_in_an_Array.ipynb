{
 "cells": [
  {
   "cell_type": "markdown",
   "id": "34a6d3e2-1962-47af-b8ab-af6ab558e5bd",
   "metadata": {},
   "source": [
    "# 本題要找出指定數值出現的次數與位置 (\\#Array )\n",
    "原題目連結: https://leetcode.com/problems/find-occurrences-of-an-element-in-an-array/description/  \n",
    "\n",
    "You are given an integer array nums, an integer array queries, and an integer x.  \n",
    "For each queries[i], you need to find the index of the queries[i]th occurrence of x in the nums array. If there are fewer than queries[i] occurrences of x, the answer should be -1 for that query.  \n",
    "Return an integer array answer containing the answers to all queries.  \n",
    "\n",
    "範例:  \n",
    "Ex1:  \n",
    "Input: nums = [1,3,1,7], queries = [1,3,2,4], x = 1  \n",
    "Output: [0,-1,2,-1]  \n",
    "Explanation:  \n",
    "For the 1st query, the first occurrence of 1 is at index 0.  \n",
    "For the 2nd query, there are only two occurrences of 1 in nums, so the answer is -1.  \n",
    "For the 3rd query, the second occurrence of 1 is at index 2.  \n",
    "For the 4th query, there are only two occurrences of 1 in nums, so the answer is -1.  \n",
    "\n",
    "Ex2:  \n",
    "Input: nums = [1,2,3], queries = [10], x = 5  \n",
    "Output: [-1]  \n",
    "Explanation:  \n",
    "For the 1st query, 5 doesn't exist in nums, so the answer is -1."
   ]
  },
  {
   "cell_type": "markdown",
   "id": "a1e71102-1a8d-48b6-bff7-5b777c64ca5f",
   "metadata": {},
   "source": [
    "* 解題想法:  \n",
    "首先找出指定數值出現的index並放入list中，接著檢查queues中每個數值，如果當q大於出現的次數時則回傳-1，如果q小於或等於出現次數時則找出該index為何"
   ]
  },
  {
   "cell_type": "code",
   "execution_count": null,
   "id": "af327be5-ec7e-4f8f-873b-0a2b19fd020d",
   "metadata": {},
   "outputs": [],
   "source": [
    "class Solution:\n",
    "    def occurrencesOfElement(self, nums: List[int], queries: List[int], x: int) -> List[int]:\n",
    "        res = []\n",
    "        count = {x: []}\n",
    "        for n in range(len(nums)):\n",
    "            if nums[n] == x:\n",
    "                count[x].append(n)\n",
    "        for q in queries:\n",
    "            if len(count[x]) >= q:\n",
    "                res.append(count[x][q-1])\n",
    "            else:\n",
    "                res.append(-1)\n",
    "        return res"
   ]
  }
 ],
 "metadata": {
  "kernelspec": {
   "display_name": "Python 3 (ipykernel)",
   "language": "python",
   "name": "python3"
  },
  "language_info": {
   "codemirror_mode": {
    "name": "ipython",
    "version": 3
   },
   "file_extension": ".py",
   "mimetype": "text/x-python",
   "name": "python",
   "nbconvert_exporter": "python",
   "pygments_lexer": "ipython3",
   "version": "3.9.13"
  }
 },
 "nbformat": 4,
 "nbformat_minor": 5
}
