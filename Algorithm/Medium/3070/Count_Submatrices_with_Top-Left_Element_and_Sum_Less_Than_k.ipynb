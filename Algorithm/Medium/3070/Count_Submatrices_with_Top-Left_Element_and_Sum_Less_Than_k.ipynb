{
 "cells": [
  {
   "cell_type": "markdown",
   "id": "2c4a6273-09cd-4e3a-8202-0aa8ab55f281",
   "metadata": {},
   "source": [
    "# 本題要找出共有多少個總和小於k的matrix (\\#Matrix, \\#Array )\n",
    "原題目連結: https://leetcode.com/problems/count-submatrices-with-top-left-element-and-sum-less-than-k/description/  \n",
    "\n",
    "You are given a 0-indexed integer matrix grid and an integer k.  \n",
    "Return the number of submatrices that contain the top-left element of the grid, and have a sum less than or equal to k.  \n",
    "\n",
    "範例:  \n",
    "EX1:  \n",
    "Input: grid = [[7,6,3],[6,6,1]], k = 18  \n",
    "Output: 4   \n",
    "Explanation: There are only 4 submatrices, shown in the image above, that contain the top-left element of grid, and have a sum less than or equal to 18.  \n",
    "\n",
    "Ex2:  \n",
    "Input: grid = [[7,2,9],[1,5,0],[2,6,6]], k = 20  \n",
    "Output: 6  \n",
    "Explanation: There are only 6 submatrices, shown in the image above, that contain the top-left element of grid, and have a sum less than or equal to 20."
   ]
  },
  {
   "cell_type": "markdown",
   "id": "76a39106-a692-49d4-bbb3-33ff44b681ee",
   "metadata": {},
   "source": [
    "* 解題想法:  \n",
    "首先用一個dict來放目前該列的總和，接著逐個更新目前submatrix的總和，如果當總和小於或等於k時則將結果+1，最後回傳統計結果"
   ]
  },
  {
   "cell_type": "code",
   "execution_count": null,
   "id": "5957b814-e123-48a6-9c96-0611b71256b3",
   "metadata": {},
   "outputs": [],
   "source": [
    "class Solution:\n",
    "    def countSubmatrices(self, grid: List[List[int]], k: int) -> int:\n",
    "        res = 0\n",
    "        m = len(grid)\n",
    "        n = len(grid[0])\n",
    "        count = {}\n",
    "        if grid[0][0] <= k: \n",
    "            for i in range(m):\n",
    "                prev = 0\n",
    "                for j in range(n):\n",
    "                    d = prev\n",
    "                    if j in count.keys():\n",
    "                        d += count[j] + grid[i][j]\n",
    "                    else:\n",
    "                        d += grid[i][j]\n",
    "                    if d <= k:\n",
    "                        res += 1\n",
    "                    count[j] = d\n",
    "                    prev += grid[i][j]\n",
    "        return res"
   ]
  }
 ],
 "metadata": {
  "kernelspec": {
   "display_name": "Python 3 (ipykernel)",
   "language": "python",
   "name": "python3"
  },
  "language_info": {
   "codemirror_mode": {
    "name": "ipython",
    "version": 3
   },
   "file_extension": ".py",
   "mimetype": "text/x-python",
   "name": "python",
   "nbconvert_exporter": "python",
   "pygments_lexer": "ipython3",
   "version": "3.9.13"
  }
 },
 "nbformat": 4,
 "nbformat_minor": 5
}
