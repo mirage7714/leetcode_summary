{
 "cells": [
  {
   "cell_type": "markdown",
   "metadata": {},
   "source": [
    "# 本題要找出將指定的數值轉換為1的最少次數為何\n",
    "原題目連結: https://leetcode.com/problems/integer-replacement/  \n",
    "\n",
    "Given a positive integer n, you can apply one of the following operations:  \n",
    "\n",
    "If n is even, replace n with n / 2.  \n",
    "If n is odd, replace n with either n + 1 or n - 1.  \n",
    "Return the minimum number of operations needed for n to become 1.  \n",
    "\n",
    "範例:  \n",
    "Ex1:  \n",
    "Input: n = 8  \n",
    "Output: 3  \n",
    "Explanation: 8 -> 4 -> 2 -> 1  \n",
    "\n",
    "Ex2:  \n",
    "Input: n = 7  \n",
    "Output: 4  \n",
    "Explanation: 7 -> 8 -> 4 -> 2 -> 1  \n",
    "or 7 -> 6 -> 3 -> 2 -> 1  \n",
    "\n",
    "Ex3:  \n",
    "Input: n = 4  \n",
    "Output: 2"
   ]
  },
  {
   "cell_type": "markdown",
   "metadata": {},
   "source": [
    "* 解題想法:  \n",
    "首先建立一個對照表，將2的1到31次方的值都放入一個list中，接著開始對數值進行計算，如果數值為2的倍數時則直接除2，如果數值為奇數的情況下，則依照這個邏輯開始檢查:  \n",
    "- 檢查n-1後是否為2的次方  \n",
    "- 檢查n+1是否為2的次方  \n",
    "- 計算n+1與n-1分別除4後的餘數為多少，並比較兩個餘數，較小的則是下一步操作的方式  \n",
    "最後將操作的次數統計下來，就是最後的總次數"
   ]
  },
  {
   "cell_type": "code",
   "execution_count": null,
   "metadata": {},
   "outputs": [],
   "source": [
    "class Solution:\n",
    "    def integerReplacement(self, n: int) -> int:\n",
    "        p = [2]\n",
    "        count = 0\n",
    "        for m in range(1, 31):\n",
    "            p.append(p[-1] * 2)\n",
    "        while n > 1:\n",
    "            if n % 2 == 0:\n",
    "                n = n / 2 \n",
    "            else:\n",
    "                if n - 1 in p:\n",
    "                    n -= 1\n",
    "                elif n + 1 in p:\n",
    "                    n += 1\n",
    "                else:\n",
    "                    a = (n+1)%4\n",
    "                    m = (n-1)%4\n",
    "                    if a < m:\n",
    "                        n += 1\n",
    "                    else: \n",
    "                        n -= 1\n",
    "            count += 1\n",
    "        return count"
   ]
  }
 ],
 "metadata": {
  "kernelspec": {
   "display_name": "Python 3",
   "language": "python",
   "name": "python3"
  },
  "language_info": {
   "codemirror_mode": {
    "name": "ipython",
    "version": 3
   },
   "file_extension": ".py",
   "mimetype": "text/x-python",
   "name": "python",
   "nbconvert_exporter": "python",
   "pygments_lexer": "ipython3",
   "version": "3.7.4"
  }
 },
 "nbformat": 4,
 "nbformat_minor": 4
}
