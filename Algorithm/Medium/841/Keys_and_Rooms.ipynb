{
 "cells": [
  {
   "cell_type": "markdown",
   "metadata": {},
   "source": [
    "# 本題要判斷是否能順利打開所有房間的門 (\\#DFS, \\#Array)\n",
    "原題目連結: https://leetcode.com/problems/keys-and-rooms/description/  \n",
    "\n",
    "There are n rooms labeled from 0 to n - 1 and all the rooms are locked except for room 0. Your goal is to visit all the rooms. However, you cannot enter a locked room without having its key.  \n",
    "\n",
    "When you visit a room, you may find a set of distinct keys in it. Each key has a number on it, denoting which room it unlocks, and you can take all of them with you to unlock the other rooms.  \n",
    "\n",
    "Given an array rooms where rooms[i] is the set of keys that you can obtain if you visited room i, return true if you can visit all the rooms, or false otherwise.  \n",
    "\n",
    "範例:  \n",
    "Ex1:  \n",
    "Input: rooms = [[1],[2],[3],[]]  \n",
    "Output: true  \n",
    "Explanation:   \n",
    "We visit room 0 and pick up key 1.  \n",
    "We then visit room 1 and pick up key 2.  \n",
    "We then visit room 2 and pick up key 3.  \n",
    "We then visit room 3.  \n",
    "Since we were able to visit every room, we return true.  \n",
    "\n",
    "Ex2:  \n",
    "Input: rooms = [[1,3],[3,0,1],[2],[0]]  \n",
    "Output: false  \n",
    "Explanation: We can not enter room number 2 since the only key that unlocks it is in that room."
   ]
  },
  {
   "cell_type": "markdown",
   "metadata": {},
   "source": [
    "* 解題想法:  \n",
    "題型是要找出能不能走訪所有的房間，因此這邊是使用DFS來進行走訪，首先從第0個房間開始進行檢查，並將所有能進入的房間都放入一個set中，並將進入過的房間清空，最後檢查進入過的房間是否與所有的房間長度相同，如果相同則回傳True，否則回傳False"
   ]
  },
  {
   "cell_type": "code",
   "execution_count": null,
   "metadata": {},
   "outputs": [],
   "source": [
    "class Solution:\n",
    "    def canVisitAllRooms(self, rooms: List[List[int]]) -> bool:\n",
    "        def dfs(rooms, key, visited):\n",
    "            k = rooms[key]\n",
    "            for n in k:\n",
    "                if n not in visited:\n",
    "                    visited.add(n)\n",
    "                    dfs(rooms, n, visited)\n",
    "                rooms[n] = []\n",
    "\n",
    "        visited = set()\n",
    "        visited.add(0)\n",
    "        start = rooms[0]\n",
    "        for s in start:\n",
    "            visited.add(s)\n",
    "            dfs(rooms, s, visited)\n",
    "        if len(visited) == len(rooms):\n",
    "            return True\n",
    "        return False            "
   ]
  }
 ],
 "metadata": {
  "kernelspec": {
   "display_name": "Python 3",
   "language": "python",
   "name": "python3"
  },
  "language_info": {
   "codemirror_mode": {
    "name": "ipython",
    "version": 3
   },
   "file_extension": ".py",
   "mimetype": "text/x-python",
   "name": "python",
   "nbconvert_exporter": "python",
   "pygments_lexer": "ipython3",
   "version": "3.7.4"
  }
 },
 "nbformat": 4,
 "nbformat_minor": 4
}
