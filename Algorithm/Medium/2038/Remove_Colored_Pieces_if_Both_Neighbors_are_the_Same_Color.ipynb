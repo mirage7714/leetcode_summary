{
 "cells": [
  {
   "cell_type": "markdown",
   "metadata": {},
   "source": [
    "# 本題要判斷相鄰的顏色是哪個比較多\n",
    "原題目連結: https://leetcode.com/problems/remove-colored-pieces-if-both-neighbors-are-the-same-color/  \n",
    "\n",
    "There are n pieces arranged in a line, and each piece is colored either by 'A' or by 'B'. You are given a string colors of length n where colors[i] is the color of the ith piece.  \n",
    "\n",
    "Alice and Bob are playing a game where they take alternating turns removing pieces from the line. In this game, Alice moves first.  \n",
    "\n",
    "Alice is only allowed to remove a piece colored 'A' if both its neighbors are also colored 'A'. She is not allowed to remove pieces that are colored 'B'.  \n",
    "Bob is only allowed to remove a piece colored 'B' if both its neighbors are also colored 'B'. He is not allowed to remove pieces that are colored 'A'.  \n",
    "Alice and Bob cannot remove pieces from the edge of the line.  \n",
    "If a player cannot make a move on their turn, that player loses and the other player wins.  \n",
    "Assuming Alice and Bob play optimally, return true if Alice wins, or return false if Bob wins.  \n",
    "\n",
    "範例:  \n",
    "Ex1:  \n",
    "Input: colors = \"AAABABB\"  \n",
    "Output: true  \n",
    "Explanation:  \n",
    "AAABABB -> AABABB  \n",
    "Alice moves first.  \n",
    "She removes the second 'A' from the left since that is the only 'A' whose neighbors are both 'A'.  \n",
    "\n",
    "Now it's Bob's turn.  \n",
    "Bob cannot make a move on his turn since there are no 'B's whose neighbors are both 'B'.  \n",
    "Thus, Alice wins, so return true.  \n",
    "\n",
    "Ex2:  \n",
    "Input: colors = \"AA\"  \n",
    "Output: false  \n",
    "Explanation:  \n",
    "Alice has her turn first.  \n",
    "There are only two 'A's and both are on the edge of the line, so she cannot move on her turn.  \n",
    "Thus, Bob wins, so return false.  \n",
    "\n",
    "Ex3:  \n",
    "Input: colors = \"ABBBBBBBAAA\"  \n",
    "Output: false  \n",
    "Explanation:  \n",
    "ABBBBBBBAAA -> ABBBBBBBAA  \n",
    "Alice moves first.  \n",
    "Her only option is to remove the second to last 'A' from the right.  \n",
    "\n",
    "ABBBBBBBAA -> ABBBBBBAA  \n",
    "Next is Bob's turn.  \n",
    "He has many options for which 'B' piece to remove. He can pick any.  \n",
    "\n",
    "On Alice's second turn, she has no more pieces that she can remove.  \n",
    "Thus, Bob wins, so return false."
   ]
  },
  {
   "cell_type": "markdown",
   "metadata": {},
   "source": [
    "* 解題想法:  \n",
    "由於只有三個以上相鄰的顏色才能從中移除顏色，因此只需要計算哪個顏色的同色長度累積越多，就是結果，因此用一個變數count來統計目前最多的相同艷色，如果當相同顏色為A時，則將count加上相同顏色長度加2，如果顏色為B則改為減2，最後如果count大於0則回傳True，否則回傳False"
   ]
  },
  {
   "cell_type": "code",
   "execution_count": null,
   "metadata": {},
   "outputs": [],
   "source": [
    "class Solution:\n",
    "    def winnerOfGame(self, colors: str) -> bool:\n",
    "        count = 0\n",
    "        temp = colors[0]\n",
    "        for i in range(1, len(colors)):\n",
    "            if colors[i] != temp[-1]:\n",
    "                if len(temp) >= 3:\n",
    "                    if temp[0] == 'A':\n",
    "                        count += len(temp)-2\n",
    "                    else:\n",
    "                        count -= len(temp) -2\n",
    "                temp = ''\n",
    "            temp += colors[i]\n",
    "        if len(temp) >= 3:\n",
    "            if temp[0] == 'A':\n",
    "                count += len(temp)-2\n",
    "            else:\n",
    "                count -= len(temp) -2\n",
    "        if count > 0:\n",
    "            return True\n",
    "        return False"
   ]
  }
 ],
 "metadata": {
  "kernelspec": {
   "display_name": "Python 3",
   "language": "python",
   "name": "python3"
  },
  "language_info": {
   "codemirror_mode": {
    "name": "ipython",
    "version": 3
   },
   "file_extension": ".py",
   "mimetype": "text/x-python",
   "name": "python",
   "nbconvert_exporter": "python",
   "pygments_lexer": "ipython3",
   "version": "3.7.4"
  }
 },
 "nbformat": 4,
 "nbformat_minor": 4
}
