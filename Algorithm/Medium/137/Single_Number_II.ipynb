{
 "cells": [
  {
   "cell_type": "markdown",
   "metadata": {},
   "source": [
    "# 本題要找出在array中哪個數字只有出現過一次\n",
    "原題目連結: https://leetcode.com/problems/single-number-ii/  \n",
    "\n",
    "Given an integer array nums where every element appears three times except for one, which appears exactly once. Find the single element and return it.  \n",
    "\n",
    "範例:  \n",
    "Ex1:  \n",
    "Input: nums = [2,2,3,2]  \n",
    "Output: 3  \n",
    "\n",
    "Ex2:  \n",
    "Input: nums = [0,1,0,1,0,1,99]  \n",
    "Output: 99"
   ]
  },
  {
   "cell_type": "markdown",
   "metadata": {},
   "source": [
    "* 解題想法:  \n",
    "這題與另一題(No.540)有點相似，只是差在這題並沒有進行排序，而且是以出現三次為基準，因此先針對題目提供的list進行排序後，判斷n與n+1是否相同，如果不相同則代表n就是只有出現過一次的數值，因此回傳n   \n",
    "如果都沒有的話，則代表了最後一個數字就是只有出現過一次的值"
   ]
  },
  {
   "cell_type": "code",
   "execution_count": null,
   "metadata": {},
   "outputs": [],
   "source": [
    "class Solution:\n",
    "    def singleNumber(self, nums: List[int]) -> int:\n",
    "        single = []\n",
    "        nums.sort()\n",
    "        if len(nums) > 1:\n",
    "            for n in range(0, len(nums)-1, 3):\n",
    "                if nums[n] != nums[n+1]:\n",
    "                    single.append(nums[n])\n",
    "                    break\n",
    "            if len(single) == 0:\n",
    "                single.append(nums[-1])\n",
    "        else:\n",
    "            single.append(nums[0])\n",
    "        return single[0]"
   ]
  }
 ],
 "metadata": {
  "kernelspec": {
   "display_name": "Python 3",
   "language": "python",
   "name": "python3"
  },
  "language_info": {
   "codemirror_mode": {
    "name": "ipython",
    "version": 3
   },
   "file_extension": ".py",
   "mimetype": "text/x-python",
   "name": "python",
   "nbconvert_exporter": "python",
   "pygments_lexer": "ipython3",
   "version": "3.7.6"
  }
 },
 "nbformat": 4,
 "nbformat_minor": 4
}
