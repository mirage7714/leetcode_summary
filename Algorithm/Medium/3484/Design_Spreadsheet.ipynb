{
 "cells": [
  {
   "cell_type": "markdown",
   "id": "fc488b0e-fa68-42c4-8232-ba6ffebcb20a",
   "metadata": {},
   "source": [
    "# 本題要設計一個spreadsheet的功能 (#SystemDesign )\n",
    "原題目連結: https://leetcode.com/problems/design-spreadsheet/description/  \n",
    "\n",
    "A spreadsheet is a grid with 26 columns (labeled from 'A' to 'Z') and a given number of rows. Each cell in the spreadsheet can hold an integer value between 0 and 105.  \n",
    "Implement the Spreadsheet class:  \n",
    "Spreadsheet(int rows) Initializes a spreadsheet with 26 columns (labeled 'A' to 'Z') and the specified number of rows. All cells are initially set to 0.  \n",
    "- void setCell(String cell, int value) Sets the value of the specified cell. The cell reference is provided in the format \"AX\" (e.g., \"A1\", \"B10\"), where the letter represents the column (from 'A' to 'Z') and the number represents a 1-indexed row.  \n",
    "- void resetCell(String cell) Resets the specified cell to 0.  \n",
    "- int getValue(String formula) Evaluates a formula of the form \"=X+Y\", where X and Y are either cell references or non-negative integers, and returns the computed sum.  \n",
    "Note: If getValue references a cell that has not been explicitly set using setCell, its value is considered 0.  \n",
    "\n",
    "範例:  \n",
    "Ex1:  \n",
    "Input:  \n",
    "[\"Spreadsheet\", \"getValue\", \"setCell\", \"getValue\", \"setCell\", \"getValue\", \"resetCell\", \"getValue\"]  \n",
    "[[3], [\"=5+7\"], [\"A1\", 10], [\"=A1+6\"], [\"B2\", 15], [\"=A1+B2\"], [\"A1\"], [\"=A1+B2\"]]  \n",
    "\n",
    "Output:  \n",
    "[null, 12, null, 16, null, 25, null, 15]  \n",
    "\n",
    "Explanation  \n",
    "\n",
    "Spreadsheet spreadsheet = new Spreadsheet(3); // Initializes a spreadsheet with 3 rows and 26 columns  \n",
    "spreadsheet.getValue(\"=5+7\"); // returns 12 (5+7)  \n",
    "spreadsheet.setCell(\"A1\", 10); // sets A1 to 10  \n",
    "spreadsheet.getValue(\"=A1+6\"); // returns 16 (10+6)  \n",
    "spreadsheet.setCell(\"B2\", 15); // sets B2 to 15  \n",
    "spreadsheet.getValue(\"=A1+B2\"); // returns 25 (10+15)  \n",
    "spreadsheet.resetCell(\"A1\"); // resets A1 to 0  \n",
    "spreadsheet.getValue(\"=A1+B2\"); // returns 15 (0+15)"
   ]
  },
  {
   "cell_type": "markdown",
   "id": "d34ce7eb-e0c3-4a2b-8d0f-2a48260038da",
   "metadata": {},
   "source": [
    "* 解題想法:  \n",
    "首先用一個dict來存放目前的資料，另外用一個數字來存放cell最多有多少，接著開始實作需要的功能:   \n",
    "- void setCell(String cell, int value): 更新指定cell的數值  \n",
    "- void resetCell(String cell): 將指定cell的數值改為0  \n",
    "- int getValue(String formula): 取出指定公式的數值，如果該cell不存在資料中則直接回傳0，如果有則進行運算並回傳運算後的結果"
   ]
  },
  {
   "cell_type": "code",
   "execution_count": null,
   "id": "20db6e60-0faa-47c4-abfb-8f363eddfc08",
   "metadata": {},
   "outputs": [],
   "source": [
    "class Spreadsheet:\n",
    "\n",
    "    def __init__(self, rows: int):\n",
    "        self.rows = rows\n",
    "        self.data = {}\n",
    "        \n",
    "    def setCell(self, cell: str, value: int) -> None:\n",
    "        self.data[cell] = value\n",
    "\n",
    "    def resetCell(self, cell: str) -> None:\n",
    "        if cell in self.data.keys():\n",
    "            self.data[cell] = 0\n",
    "\n",
    "    def getValue(self, formula: str) -> int:\n",
    "        f = formula[1:].split('+')\n",
    "        res = 0\n",
    "        for i in f:\n",
    "            if i not in self.data.keys():\n",
    "                if i[0].isalpha():\n",
    "                    res += 0\n",
    "                else:\n",
    "                    res += int(i)\n",
    "            else:\n",
    "                res += self.data[i]\n",
    "        return res\n",
    "\n",
    "\n",
    "# Your Spreadsheet object will be instantiated and called as such:\n",
    "# obj = Spreadsheet(rows)\n",
    "# obj.setCell(cell,value)\n",
    "# obj.resetCell(cell)\n",
    "# param_3 = obj.getValue(formula)"
   ]
  }
 ],
 "metadata": {
  "kernelspec": {
   "display_name": "Python 3 (ipykernel)",
   "language": "python",
   "name": "python3"
  },
  "language_info": {
   "codemirror_mode": {
    "name": "ipython",
    "version": 3
   },
   "file_extension": ".py",
   "mimetype": "text/x-python",
   "name": "python",
   "nbconvert_exporter": "python",
   "pygments_lexer": "ipython3",
   "version": "3.9.13"
  }
 },
 "nbformat": 4,
 "nbformat_minor": 5
}
