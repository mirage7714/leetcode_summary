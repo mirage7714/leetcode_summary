{
 "cells": [
  {
   "cell_type": "markdown",
   "metadata": {},
   "source": [
    "# 本題要判斷提供的array是否可以拆成W個連續的array\n",
    "原題目連結: https://leetcode.com/problems/hand-of-straights/  \n",
    "\n",
    "Alice has a hand of cards, given as an array of integers.  \n",
    "\n",
    "Now she wants to rearrange the cards into groups so that each group is size W, and consists of W consecutive cards.  \n",
    "\n",
    "Return true if and only if she can.  \n",
    "\n",
    "Note: This question is the same as 1296: https://leetcode.com/problems/divide-array-in-sets-of-k-consecutive-numbers/  \n",
    "\n",
    "範例:    \n",
    "Ex1:  \n",
    "Input: hand = [1,2,3,6,2,3,4,7,8], W = 3  \n",
    "Output: true  \n",
    "Explanation: Alice's hand can be rearranged as [1,2,3],[2,3,4],[6,7,8]  \n",
    "\n",
    "Ex2:  \n",
    "Input: hand = [1,2,3,4,5], W = 4  \n",
    "Output: false  \n",
    "Explanation: Alice's hand can't be rearranged into groups of 4.  "
   ]
  },
  {
   "cell_type": "markdown",
   "metadata": {},
   "source": [
    "* 解題想法:  \n",
    "依題目說明，要將list拆成多組長度為W的list，因此條件之一就是len(hand)要為W的倍數，如果不是的話就可以直接回傳False了  \n",
    "接著先找出hand最小的數，並確認是否可以拆成一個長度為W的連續list，若無法則直接中斷迴圈並回傳False，若可以則將這些數字從hand中移除，然後在進行下一輪的計算，最後等hand長度為0後則代表成立"
   ]
  },
  {
   "cell_type": "code",
   "execution_count": null,
   "metadata": {},
   "outputs": [],
   "source": [
    "class Solution:\n",
    "    def isNStraightHand(self, hand: List[int], W: int) -> bool:\n",
    "        is_valid = True\n",
    "        if len(hand) % W != 0:\n",
    "            is_valid = False\n",
    "        else:\n",
    "            hand.sort()\n",
    "            for a in range(int(len(hand) / W)):\n",
    "                temp = []\n",
    "                is_continue = True\n",
    "                temp.append(min(hand))\n",
    "                for b in range(W-1):\n",
    "                    second = temp[0] + 1\n",
    "                    if second in hand:\n",
    "                        temp.insert(0, second)\n",
    "                    else:\n",
    "                        is_continue = False\n",
    "                        break\n",
    "                if not is_continue:\n",
    "                    is_valid = False\n",
    "                    break\n",
    "                else:\n",
    "                    for t in temp:\n",
    "                        hand.pop(hand.index(t))\n",
    "                    temp.clear()\n",
    "        return is_valid"
   ]
  }
 ],
 "metadata": {
  "kernelspec": {
   "display_name": "Python 3",
   "language": "python",
   "name": "python3"
  },
  "language_info": {
   "codemirror_mode": {
    "name": "ipython",
    "version": 3
   },
   "file_extension": ".py",
   "mimetype": "text/x-python",
   "name": "python",
   "nbconvert_exporter": "python",
   "pygments_lexer": "ipython3",
   "version": "3.7.4"
  }
 },
 "nbformat": 4,
 "nbformat_minor": 2
}
