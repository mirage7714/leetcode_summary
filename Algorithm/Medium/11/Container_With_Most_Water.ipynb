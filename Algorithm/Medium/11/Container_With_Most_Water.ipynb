{
 "cells": [
  {
   "cell_type": "markdown",
   "metadata": {},
   "source": [
    "# 本題要找出最大的儲水量為多少\n",
    "原題目連結: https://leetcode.com/problems/container-with-most-water/  \n",
    "\n",
    "You are given an integer array height of length n. There are n vertical lines drawn such that the two endpoints of the ith line are (i, 0) and (i, height[i]).  \n",
    "Find two lines that together with the x-axis form a container, such that the container contains the most water.  \n",
    "Return the maximum amount of water a container can store.  \n",
    "Notice that you may not slant the container.  \n",
    "\n",
    "範例:  \n",
    "Ex:1  \n",
    "Input: height = [1,8,6,2,5,4,8,3,7]  \n",
    "Output: 49  \n",
    "Explanation: The above vertical lines are represented by array [1,8,6,2,5,4,8,3,7]. In this case, the max area of water (blue section) the container can contain is 49.  \n",
    "\n",
    "Ex2:  \n",
    "Input: height = [1,1]  \n",
    "Output: 1"
   ]
  },
  {
   "cell_type": "markdown",
   "metadata": {},
   "source": [
    "* 解題想法:  \n",
    "這題可以使用2 pointer的概念進行解題，由左右兩邊開始進行計算，並將較小的那邊index進行移動並計算面積，如果超過目前的最大值則更新最大值，直到兩個index相同時則中斷迴圈"
   ]
  },
  {
   "cell_type": "code",
   "execution_count": null,
   "metadata": {},
   "outputs": [],
   "source": [
    "class Solution:\n",
    "    def maxArea(self, height: List[int]) -> int:\n",
    "        result = (len(height)-1) * min(height[0], height[-1])\n",
    "        if len(height) > 2:\n",
    "            points = [0, len(height)-1]\n",
    "            while points[0] < points[1]:\n",
    "                if height[points[0]] < height[points[1]]:\n",
    "                    points[0] += 1\n",
    "                else:\n",
    "                    points[1] -= 1\n",
    "                area = (points[1] - points[0]) * min(height[points[0]], height[points[1]])\n",
    "                if area > result:\n",
    "                    result = area\n",
    "        return result"
   ]
  }
 ],
 "metadata": {
  "kernelspec": {
   "display_name": "Python 3",
   "language": "python",
   "name": "python3"
  },
  "language_info": {
   "codemirror_mode": {
    "name": "ipython",
    "version": 3
   },
   "file_extension": ".py",
   "mimetype": "text/x-python",
   "name": "python",
   "nbconvert_exporter": "python",
   "pygments_lexer": "ipython3",
   "version": "3.7.4"
  }
 },
 "nbformat": 4,
 "nbformat_minor": 4
}
