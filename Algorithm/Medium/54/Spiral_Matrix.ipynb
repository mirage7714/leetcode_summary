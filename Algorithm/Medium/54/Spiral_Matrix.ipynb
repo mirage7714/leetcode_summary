{
 "cells": [
  {
   "cell_type": "markdown",
   "metadata": {},
   "source": [
    "# 本題要用螺旋的方式將list中的數值取出\n",
    "原題目連結: https://leetcode.com/problems/spiral-matrix/  \n",
    "\n",
    "Given an m x n matrix, return all elements of the matrix in spiral order.  \n",
    "\n",
    "範例:  \n",
    "Ex1:  \n",
    "Input: matrix = [[1,2,3],[4,5,6],[7,8,9]]  \n",
    "Output: [1,2,3,6,9,8,7,4,5]  \n",
    "\n",
    "Ex2:  \n",
    "Input: matrix = [[1,2,3,4],[5,6,7,8],[9,10,11,12]]  \n",
    "Output: [1,2,3,4,8,12,11,10,9,5,6,7]  "
   ]
  },
  {
   "cell_type": "markdown",
   "metadata": {},
   "source": [
    "* 解題想法:  \n",
    "首先找出四個邊界，接著開始從上->右->下->左的方式開始讀取list中的數值並放入list中，最後回傳list作為結果"
   ]
  },
  {
   "cell_type": "code",
   "execution_count": null,
   "metadata": {},
   "outputs": [],
   "source": [
    "class Solution:\n",
    "    def spiralOrder(self, matrix: List[List[int]]) -> List[int]:\n",
    "        result = []\n",
    "        m = len(matrix)\n",
    "        n = len(matrix[0])\n",
    "        top = 0\n",
    "        left = 0\n",
    "        right = n-1\n",
    "        bottom = m-1\n",
    "        while len(result) < m * n:\n",
    "            for a in range(left, right+1):\n",
    "                result.append(matrix[top][a])\n",
    "            for b in range(top+1, bottom+1):\n",
    "                result.append(matrix[b][right])\n",
    "            if top != bottom:\n",
    "                for c in range(right-1, left, -1):\n",
    "                    result.append(matrix[bottom][c])\n",
    "            if left != right:\n",
    "                for d in range(bottom, top, -1):\n",
    "                    result.append(matrix[d][left])\n",
    "            left += 1\n",
    "            top += 1\n",
    "            right -= 1\n",
    "            bottom -= 1\n",
    "        return result"
   ]
  }
 ],
 "metadata": {
  "kernelspec": {
   "display_name": "Python 3",
   "language": "python",
   "name": "python3"
  },
  "language_info": {
   "codemirror_mode": {
    "name": "ipython",
    "version": 3
   },
   "file_extension": ".py",
   "mimetype": "text/x-python",
   "name": "python",
   "nbconvert_exporter": "python",
   "pygments_lexer": "ipython3",
   "version": "3.7.4"
  }
 },
 "nbformat": 4,
 "nbformat_minor": 4
}
