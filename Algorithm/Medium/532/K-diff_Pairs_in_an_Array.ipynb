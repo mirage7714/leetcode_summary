{
 "cells": [
  {
   "cell_type": "markdown",
   "metadata": {},
   "source": [
    "# 本題要找出共有幾對距離為k的值\n",
    "原題目連結: https://leetcode.com/problems/k-diff-pairs-in-an-array/  \n",
    "\n",
    "Given an array of integers nums and an integer k, return the number of unique k-diff pairs in the array.  \n",
    "\n",
    "A k-diff pair is an integer pair (nums[i], nums[j]), where the following are true:  \n",
    "\n",
    "0 <= i, j < nums.length  \n",
    "i != j  \n",
    "nums[i] - nums[j] == k  \n",
    "Notice that |val| denotes the absolute value of val.  \n",
    "\n",
    "範例:  \n",
    "Ex1:  \n",
    "Input: nums = [3,1,4,1,5], k = 2  \n",
    "Output: 2  \n",
    "Explanation: There are two 2-diff pairs in the array, (1, 3) and (3, 5).  \n",
    "Although we have two 1s in the input, we should only return the number of unique pairs.  \n",
    "\n",
    "Ex2:  \n",
    "Input: nums = [1,2,3,4,5], k = 1  \n",
    "Output: 4  \n",
    "Explanation: There are four 1-diff pairs in the array, (1, 2), (2, 3), (3, 4) and (4, 5).  \n",
    "\n",
    "Ex3:  \n",
    "Input: nums = [1,3,1,5,4], k = 0  \n",
    "Output: 1  \n",
    "Explanation: There is one 0-diff pair in the array, (1, 1)."
   ]
  },
  {
   "cell_type": "markdown",
   "metadata": {},
   "source": [
    "* 解題想法:  \n",
    "首先將nums轉成heapq後，接著從頭開始將數值取出，並檢查距離為k的數值是否在nums中，如果有且之前還沒計算過的值，則將count+1後更新目前的值，最後回傳count值"
   ]
  },
  {
   "cell_type": "code",
   "execution_count": null,
   "metadata": {},
   "outputs": [],
   "source": [
    "import heapq\n",
    "\n",
    "class Solution:\n",
    "    def findPairs(self, nums: List[int], k: int) -> int:\n",
    "        heapq.heapify(nums)\n",
    "        count = 0\n",
    "        prev = []\n",
    "        temp = inf\n",
    "        for _ in range(len(nums)):\n",
    "            f = heapq.heappop(nums)\n",
    "            if k != 0:\n",
    "                if f != temp:\n",
    "                    if f+k in nums:\n",
    "                        if [f, f+k] != prev:\n",
    "                            count += 1\n",
    "                            prev = [f, f+k]\n",
    "            else:\n",
    "                if f == temp:\n",
    "                    if [f, temp] != prev:\n",
    "                        count += 1\n",
    "                        prev = [f, temp]\n",
    "            temp = f\n",
    "        return count"
   ]
  }
 ],
 "metadata": {
  "kernelspec": {
   "display_name": "Python 3",
   "language": "python",
   "name": "python3"
  },
  "language_info": {
   "codemirror_mode": {
    "name": "ipython",
    "version": 3
   },
   "file_extension": ".py",
   "mimetype": "text/x-python",
   "name": "python",
   "nbconvert_exporter": "python",
   "pygments_lexer": "ipython3",
   "version": "3.7.4"
  }
 },
 "nbformat": 4,
 "nbformat_minor": 4
}
