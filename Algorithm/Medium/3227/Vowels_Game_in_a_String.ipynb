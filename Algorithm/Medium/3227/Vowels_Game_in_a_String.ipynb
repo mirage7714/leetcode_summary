{
 "cells": [
  {
   "cell_type": "markdown",
   "id": "4259dbed-f253-4a7d-bfa9-94d6e0c4c0cc",
   "metadata": {},
   "source": [
    "# 本題要判斷遊戲最後的贏家是誰 (\\#String, \\#Math )\n",
    "原題目連結: https://leetcode.com/problems/vowels-game-in-a-string/description/  \n",
    "\n",
    "Alice and Bob are playing a game on a string.  \n",
    "You are given a string s, Alice and Bob will take turns playing the following game where Alice starts first:  \n",
    "On Alice's turn, she has to remove any non-empty substring from s that contains an odd number of vowels.  \n",
    "On Bob's turn, he has to remove any non-empty substring from s that contains an even number of vowels.  \n",
    "The first player who cannot make a move on their turn loses the game. We assume that both Alice and Bob play optimally.  \n",
    "Return true if Alice wins the game, and false otherwise.  \n",
    "The English vowels are: a, e, i, o, and u.  \n",
    "\n",
    "範例:  \n",
    "Ex1:  \n",
    "Input: s = \"leetcoder\"  \n",
    "Output: true  \n",
    "Explanation:  \n",
    "Alice can win the game as follows:  \n",
    "Alice plays first, she can delete the underlined substring in s = \"leetcoder\" which contains 3 vowels. The resulting string is s = \"der\".  \n",
    "Bob plays second, he can delete the underlined substring in s = \"der\" which contains 0 vowels. The resulting string is s = \"er\".  \n",
    "Alice plays third, she can delete the whole string s = \"er\" which contains 1 vowel.  \n",
    "Bob plays fourth, since the string is empty, there is no valid play for Bob. So Alice wins the game.  \n",
    "\n",
    "Ex2:  \n",
    "Input: s = \"bbcd\"  \n",
    "Output: false  \n",
    "Explanation:  \n",
    "There is no valid play for Alice in her first turn, so Alice loses the game.  "
   ]
  },
  {
   "cell_type": "markdown",
   "id": "235e7ebf-033a-43d9-aa23-60c50bcf2c99",
   "metadata": {},
   "source": [
    "* 解題想法:  \n",
    "首先算出字串內共有多少個母音，如果沒有母音的情況則Alice會輸，如果有母音的情況下，Alice都一定會贏，因為如果是奇數個母音，Alice可以在第一輪就選走所有字母，如果是偶數個母音，Alice可以留下一個母音，而Bob雖然可以選0個母音，但下一輪Alice可以選走所有字母贏得遊戲"
   ]
  },
  {
   "cell_type": "code",
   "execution_count": null,
   "id": "ad3c637e-c8d1-44c0-bbf1-3931f7f5390a",
   "metadata": {},
   "outputs": [],
   "source": [
    "class Solution:\n",
    "    def doesAliceWin(self, s: str) -> bool:\n",
    "        vowels = ['a','e','i','o','u']\n",
    "        count = 0\n",
    "        for i in s:\n",
    "            if i in vowels:\n",
    "                count += 1\n",
    "        if count == 0:\n",
    "            return False\n",
    "        else:\n",
    "            return True"
   ]
  }
 ],
 "metadata": {
  "kernelspec": {
   "display_name": "Python 3 (ipykernel)",
   "language": "python",
   "name": "python3"
  },
  "language_info": {
   "codemirror_mode": {
    "name": "ipython",
    "version": 3
   },
   "file_extension": ".py",
   "mimetype": "text/x-python",
   "name": "python",
   "nbconvert_exporter": "python",
   "pygments_lexer": "ipython3",
   "version": "3.9.13"
  }
 },
 "nbformat": 4,
 "nbformat_minor": 5
}
