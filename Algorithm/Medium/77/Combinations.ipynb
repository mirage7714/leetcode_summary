{
 "cells": [
  {
   "cell_type": "markdown",
   "metadata": {},
   "source": [
    "# 本題要找出有多少種指定長度的subset\n",
    "原題目連結: https://leetcode.com/problems/combinations/  \n",
    "\n",
    "Given two integers n and k, return all possible combinations of k numbers out of the range [1, n].  \n",
    "\n",
    "You may return the answer in any order.  \n",
    "\n",
    "範例:  \n",
    "Ex1:  \n",
    "Input: n = 4, k = 2  \n",
    "Output: [ [2,4], [3,4], [2,3], [1,2], [1,3], [1,4],]  \n",
    "\n",
    "Ex2:  \n",
    "Input: n = 1, k = 1  \n",
    "Output: [[1]]"
   ]
  },
  {
   "cell_type": "markdown",
   "metadata": {},
   "source": [
    "* 解題想法:  \n",
    "依題目說明，首先建立一個list是包含了1 ~ n的subset，接著用迴圈從1 ~ k的範圍開始將有的subset逐漸加入新的元素，最後結果就是題目要找的答案"
   ]
  },
  {
   "cell_type": "code",
   "execution_count": null,
   "metadata": {},
   "outputs": [],
   "source": [
    "class Solution:\n",
    "    def combine(self, n: int, k: int) -> List[List[int]]:\n",
    "        nums = []\n",
    "        result = []\n",
    "        for m in range(n):\n",
    "            nums.append([m+1])\n",
    "            result.append([m+1])\n",
    "        if k > 1:\n",
    "            for l in range(k-1):\n",
    "                temp = []\n",
    "                for r in result:\n",
    "                    for num in nums:\n",
    "                        if r[-1] < num[0]:\n",
    "                            temp.append(r+num)\n",
    "                result.clear()\n",
    "                result += temp\n",
    "            return result\n",
    "        else:\n",
    "            return nums"
   ]
  }
 ],
 "metadata": {
  "kernelspec": {
   "display_name": "Python 3",
   "language": "python",
   "name": "python3"
  },
  "language_info": {
   "codemirror_mode": {
    "name": "ipython",
    "version": 3
   },
   "file_extension": ".py",
   "mimetype": "text/x-python",
   "name": "python",
   "nbconvert_exporter": "python",
   "pygments_lexer": "ipython3",
   "version": "3.7.4"
  }
 },
 "nbformat": 4,
 "nbformat_minor": 2
}
