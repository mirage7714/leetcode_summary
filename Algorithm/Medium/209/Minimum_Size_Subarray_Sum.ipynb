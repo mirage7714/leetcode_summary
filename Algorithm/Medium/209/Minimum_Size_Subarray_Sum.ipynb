{
 "cells": [
  {
   "cell_type": "markdown",
   "id": "816760a5-a88d-44f6-892d-0707666bddb7",
   "metadata": {},
   "source": [
    "# 本題要找出要達到目標，最少要多長的sub list (\\#Array, \\#Sliding Windows )\n",
    "原題目連結: https://leetcode.com/problems/minimum-size-subarray-sum/description/  \n",
    "\n",
    "Given an array of positive integers nums and a positive integer target, return the minimal length of a \n",
    "subarray whose sum is greater than or equal to target. If there is no such subarray, return 0 instead.  \n",
    "\n",
    "範例:  \n",
    "Ex1:  \n",
    "Input: target = 7, nums = [2,3,1,2,4,3]  \n",
    "Output: 2  \n",
    "Explanation: The subarray [4,3] has the minimal length under the problem constraint.  \n",
    "\n",
    "Ex2:  \n",
    "Input: target = 4, nums = [1,4,4]  \n",
    "Output: 1  \n",
    "\n",
    "Ex3:  \n",
    "Input: target = 11, nums = [1,1,1,1,1,1,1,1]  \n",
    "Output: 0"
   ]
  },
  {
   "cell_type": "markdown",
   "id": "8923250c-f30b-4b84-8e6c-6745c6f62f93",
   "metadata": {},
   "source": [
    "* 解題想法:  \n",
    "首先用兩個變數分別代表左右邊界值，接著開始從頭進行加總，直到大於或等於目標時，則開始檢查左側是否可以開始減去數值並更新目前的最小長度，最後回傳最小長度就是答案"
   ]
  },
  {
   "cell_type": "code",
   "execution_count": null,
   "id": "c4e54e5f-29c1-4380-b5a7-01592af3046a",
   "metadata": {},
   "outputs": [],
   "source": [
    "class Solution:\n",
    "    def minSubArrayLen(self, target: int, nums: List[int]) -> int:\n",
    "        res = 0\n",
    "        l = 0\n",
    "        r = 0\n",
    "        t = 0\n",
    "        for i in range(len(nums)):\n",
    "            t += nums[i]\n",
    "            r += 1\n",
    "            while t >= target:\n",
    "                if res == 0:\n",
    "                    res = r - l\n",
    "                else:\n",
    "                    res = min(res, r - l)\n",
    "                t -= nums[l]\n",
    "                l += 1\n",
    "        return res"
   ]
  }
 ],
 "metadata": {
  "kernelspec": {
   "display_name": "Python 3 (ipykernel)",
   "language": "python",
   "name": "python3"
  },
  "language_info": {
   "codemirror_mode": {
    "name": "ipython",
    "version": 3
   },
   "file_extension": ".py",
   "mimetype": "text/x-python",
   "name": "python",
   "nbconvert_exporter": "python",
   "pygments_lexer": "ipython3",
   "version": "3.9.13"
  }
 },
 "nbformat": 4,
 "nbformat_minor": 5
}
