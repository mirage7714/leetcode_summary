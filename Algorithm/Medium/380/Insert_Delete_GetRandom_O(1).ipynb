{
 "cells": [
  {
   "cell_type": "markdown",
   "metadata": {},
   "source": [
    "# 本題要建立一個可以隨機取出一個元素的函數\n",
    "原題目連結: https://leetcode.com/problems/insert-delete-getrandom-o1/  \n",
    "\n",
    "Implement the RandomizedSet class:  \n",
    "\n",
    "RandomizedSet() Initializes the RandomizedSet object.  \n",
    "bool insert(int val) Inserts an item val into the set if not present. Returns true if the item was not present, false otherwise.  \n",
    "bool remove(int val) Removes an item val from the set if present. Returns true if the item was present, false otherwise.  \n",
    "int getRandom() Returns a random element from the current set of elements (it's guaranteed that at least one element exists when this method is called). Each element must have the same probability of being returned.  \n",
    "You must implement the functions of the class such that each function works in average O(1) time complexity.  \n",
    "\n",
    "範例:  \n",
    "Ex1:  \n",
    "Input  \n",
    "[\"RandomizedSet\", \"insert\", \"remove\", \"insert\", \"getRandom\", \"remove\", \"insert\", \"getRandom\"]  \n",
    "[[], [1], [2], [2], [], [1], [2], []]  \n",
    "Output  \n",
    "[null, true, false, true, 2, true, false, 2]  \n",
    "\n",
    "Explanation  \n",
    "RandomizedSet randomizedSet = new RandomizedSet();  \n",
    "randomizedSet.insert(1); // Inserts 1 to the set. Returns true as 1 was inserted successfully.  \n",
    "randomizedSet.remove(2); // Returns false as 2 does not exist in the set.  \n",
    "randomizedSet.insert(2); // Inserts 2 to the set, returns true. Set now contains [1,2].  \n",
    "randomizedSet.getRandom(); // getRandom() should return either 1 or 2 randomly.  \n",
    "randomizedSet.remove(1); // Removes 1 from the set, returns true. Set now contains [2].  \n",
    "randomizedSet.insert(2); // 2 was already in the set, so return false.  \n",
    "randomizedSet.getRandom(); // Since 2 is the only number in the set, getRandom() will always return 2."
   ]
  },
  {
   "cell_type": "markdown",
   "metadata": {},
   "source": [
    "* 解題想法:  \n",
    "首先建立了一個dict(data)用來存放資料，並用了一個int(size)來存放dict的長度  \n",
    "接著實作以下幾個功能:  \n",
    "- insert(): 判斷數值是否有在data中，如果沒有則回傳True，並將val放入data的keys中，如果有則回傳False  \n",
    "- remove(): 判斷數值是否有在data中，如果有則回傳True，並將這個key移除，否則回傳False  \n",
    "- getRandom(): 如果data長度為1，則直接回傳有的那個key，否則利用random函數從0~size間取一個整數並回傳"
   ]
  },
  {
   "cell_type": "code",
   "execution_count": null,
   "metadata": {},
   "outputs": [],
   "source": [
    "import random\n",
    "class RandomizedSet:\n",
    "\n",
    "    def __init__(self):\n",
    "        self.data = {}\n",
    "        self.size = 0\n",
    "\n",
    "    def insert(self, val: int) -> bool:\n",
    "        if val in self.data.keys():\n",
    "            return False\n",
    "        else:\n",
    "            self.data[val] = 1\n",
    "            self.size += 1\n",
    "            return True\n",
    "\n",
    "    def remove(self, val: int) -> bool:\n",
    "        if val in self.data.keys():\n",
    "            del self.data[val]\n",
    "            self.size -= 1\n",
    "            return True\n",
    "        else:\n",
    "            return False\n",
    "\n",
    "    def getRandom(self) -> int:\n",
    "        if len(self.data) > 1:\n",
    "            i = random.randint(0, self.size-1)\n",
    "            return list(self.data.keys())[i]\n",
    "        else:\n",
    "            return list(self.data.keys())[0]\n",
    "\n",
    "\n",
    "# Your RandomizedSet object will be instantiated and called as such:\n",
    "# obj = RandomizedSet()\n",
    "# param_1 = obj.insert(val)\n",
    "# param_2 = obj.remove(val)\n",
    "# param_3 = obj.getRandom()"
   ]
  }
 ],
 "metadata": {
  "kernelspec": {
   "display_name": "Python 3",
   "language": "python",
   "name": "python3"
  },
  "language_info": {
   "codemirror_mode": {
    "name": "ipython",
    "version": 3
   },
   "file_extension": ".py",
   "mimetype": "text/x-python",
   "name": "python",
   "nbconvert_exporter": "python",
   "pygments_lexer": "ipython3",
   "version": "3.7.4"
  }
 },
 "nbformat": 4,
 "nbformat_minor": 4
}
