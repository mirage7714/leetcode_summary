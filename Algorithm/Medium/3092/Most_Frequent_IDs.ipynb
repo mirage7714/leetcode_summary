{
 "cells": [
  {
   "cell_type": "markdown",
   "id": "0c534edc-8d0a-48c4-ac2e-fc83639668c4",
   "metadata": {},
   "source": [
    "# 本題要找出出現頻率最高的ID是多少 (\\#Array, \\#Heap )\n",
    "原題目連結：https://leetcode.com/problems/most-frequent-ids/description/  \n",
    "\n",
    "The problem involves tracking the frequency of IDs in a collection that changes over time. You have two integer arrays, nums and freq, of equal length n. Each element in nums represents an ID, and the corresponding element in freq indicates how many times that ID should be added to or removed from the collection at each step.  \n",
    "\n",
    "Addition of IDs: If freq[i] is positive, it means freq[i] IDs with the value nums[i] are added to the collection at step i.  \n",
    "Removal of IDs: If freq[i] is negative, it means -freq[i] IDs with the value nums[i] are removed from the collection at step i.  \n",
    "Return an array ans of length n, where ans[i] represents the count of the most frequent ID in the collection after the ith step. If the collection is empty at any step, ans[i] should be 0 for that step.  \n",
    "\n",
    "範例：  \n",
    "Ex1:  \n",
    "Input: nums = [2,3,2,1], freq = [3,2,-3,1]  \n",
    "Output: [3,3,2,2]  \n",
    "Explanation:  \n",
    "After step 0, we have 3 IDs with the value of 2. So ans[0] = 3.  \n",
    "After step 1, we have 3 IDs with the value of 2 and 2 IDs with the value of 3. So ans[1] = 3.  \n",
    "After step 2, we have 2 IDs with the value of 3. So ans[2] = 2.  \n",
    "After step 3, we have 2 IDs with the value of 3 and 1 ID with the value of 1. So ans[3] = 2.  \n",
    "\n",
    "Ex2:  \n",
    "Input: nums = [5,5,3], freq = [2,-2,1]  \n",
    "Output: [2,0,1]  \n",
    "Explanation:  \n",
    "After step 0, we have 2 IDs with the value of 5. So ans[0] = 2.  \n",
    "After step 1, there are no IDs. So ans[1] = 0.  \n",
    "After step 2, we have 1 ID with the value of 3. So ans[2] = 1."
   ]
  },
  {
   "cell_type": "markdown",
   "id": "30cd39b1-46f2-47bf-baae-05d6251e00e0",
   "metadata": {},
   "source": [
    "* 解題想法：  \n",
    "首先建立一個heap，用來存放目前的順序為何，另外用一個dict作為暫存，放置目前最新的freq，接著heap中開始檢查目前最高頻率的數值，如果與暫存中的數值相同則將該數值放入結果中並重新放回heap中，否則就是更新數值後重新放回heap中，最後回傳結果的list就是答案"
   ]
  },
  {
   "cell_type": "code",
   "execution_count": null,
   "id": "4c3a8b0b-c1d1-4640-bafe-e742b29792b1",
   "metadata": {},
   "outputs": [],
   "source": [
    "import heapq\n",
    "class Solution:\n",
    "    def mostFrequentIDs(self, nums: List[int], freq: List[int]) -> List[int]:\n",
    "        res = []\n",
    "        temp = []\n",
    "        heapq.heapify(temp)\n",
    "        count = {}\n",
    "        for i in range(len(nums)):\n",
    "            if nums[i] not in count.keys():\n",
    "                count[nums[i]] = -freq[i]\n",
    "            else:\n",
    "                count[nums[i]] -= freq[i]\n",
    "            heapq.heappush(temp, [count[nums[i]], nums[i]])\n",
    "            while temp:\n",
    "                n = heapq.heappop(temp)\n",
    "                if count[n[1]] == n[0]:\n",
    "                    res.append(-n[0])\n",
    "                    heapq.heappush(temp, n)\n",
    "                    break\n",
    "                else:\n",
    "                    heapq.heappush(temp, [count[n[1]], n[1]])\n",
    "        return res            "
   ]
  }
 ],
 "metadata": {
  "kernelspec": {
   "display_name": "Python 3 (ipykernel)",
   "language": "python",
   "name": "python3"
  },
  "language_info": {
   "codemirror_mode": {
    "name": "ipython",
    "version": 3
   },
   "file_extension": ".py",
   "mimetype": "text/x-python",
   "name": "python",
   "nbconvert_exporter": "python",
   "pygments_lexer": "ipython3",
   "version": "3.10.9"
  }
 },
 "nbformat": 4,
 "nbformat_minor": 5
}
