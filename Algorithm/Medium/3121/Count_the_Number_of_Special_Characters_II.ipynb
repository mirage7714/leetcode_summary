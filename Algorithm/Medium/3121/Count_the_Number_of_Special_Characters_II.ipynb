{
 "cells": [
  {
   "cell_type": "markdown",
   "id": "e3608a86-6ff4-4985-ab7a-519d715f18a1",
   "metadata": {},
   "source": [
    "# 本題要找出符合條件的特殊字母共有多少 (\\#String )\n",
    "原題目連結：https://leetcode.com/problems/count-the-number-of-special-characters-ii/description/  \n",
    "\n",
    "You are given a string word. A letter c is called special if it appears both in lowercase and uppercase in word, and every lowercase occurrence of c appears before the first uppercase occurrence of c.  \n",
    "Return the number of special letters in word.  \n",
    "\n",
    "範例：  \n",
    "Ex1:  \n",
    "Input: word = \"aaAbcBC\"  \n",
    "Output: 3  \n",
    "Explanation:  \n",
    "The special characters are 'a', 'b', and 'c'.  \n",
    "\n",
    "Ex2:  \n",
    "Input: word = \"abc\"  \n",
    "Output: 0  \n",
    "Explanation:  \n",
    "There are no special characters in word.  \n",
    "\n",
    "Ex3:  \n",
    "Input: word = \"AbBCab\"  \n",
    "Output: 0  \n",
    "Explanation:  \n",
    "There are no special characters in word."
   ]
  },
  {
   "cell_type": "markdown",
   "id": "0bc8e3ee-4589-4eea-8af9-856751ea1296",
   "metadata": {},
   "source": [
    "* 解題想法：  \n",
    "首先將每個字母的index分別放入dict中，接著檢查字母的大小寫是否都有存在dict中，接著檢查小寫的最後一個index是否有小於大寫的第一個index，如果都有符合則將結果加1，最後回傳結果就是答案"
   ]
  },
  {
   "cell_type": "code",
   "execution_count": null,
   "id": "9ea18ae1-8791-4a4d-a9fe-d2131daa0b37",
   "metadata": {},
   "outputs": [],
   "source": [
    "class Solution:\n",
    "    def numberOfSpecialChars(self, word: str) -> int:\n",
    "        res = 0\n",
    "        count = {}\n",
    "        for i in range(len(word)):\n",
    "            w = word[i]\n",
    "            if w not in count.keys():\n",
    "                count[w] = []\n",
    "            count[w].append(i)\n",
    "        for key in count.keys():\n",
    "            if key == key.lower():\n",
    "                if key.upper() in count.keys():\n",
    "                    if count[key][-1] < count[key.upper()][0]:\n",
    "                        res += 1\n",
    "        return res"
   ]
  }
 ],
 "metadata": {
  "kernelspec": {
   "display_name": "Python 3 (ipykernel)",
   "language": "python",
   "name": "python3"
  },
  "language_info": {
   "codemirror_mode": {
    "name": "ipython",
    "version": 3
   },
   "file_extension": ".py",
   "mimetype": "text/x-python",
   "name": "python",
   "nbconvert_exporter": "python",
   "pygments_lexer": "ipython3",
   "version": "3.10.9"
  }
 },
 "nbformat": 4,
 "nbformat_minor": 5
}
