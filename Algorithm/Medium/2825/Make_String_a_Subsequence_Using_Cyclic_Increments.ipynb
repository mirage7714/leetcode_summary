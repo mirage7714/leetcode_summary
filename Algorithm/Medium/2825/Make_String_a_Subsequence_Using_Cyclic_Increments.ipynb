{
 "cells": [
  {
   "cell_type": "markdown",
   "id": "f7c03665-edd8-4ced-9bab-68b1dfbf5415",
   "metadata": {},
   "source": [
    "# 本題要找出是否可以藉由移動產生另一個字串 (\\#String, \\#TwoPointers)\n",
    "原題目連結: https://leetcode.com/problems/make-string-a-subsequence-using-cyclic-increments/description/?envType=daily-question&envId=2024-12-04  \n",
    "\n",
    "You are given two 0-indexed strings str1 and str2.  \n",
    "In an operation, you select a set of indices in str1, and for each index i in the set, increment str1[i] to the next character cyclically. That is 'a' becomes 'b', 'b' becomes 'c', and so on, and 'z' becomes 'a'.  \n",
    "Return true if it is possible to make str2 a subsequence of str1 by performing the operation at most once, and false otherwise.  \n",
    "Note: A subsequence of a string is a new string that is formed from the original string by deleting some (possibly none) of the characters without disturbing the relative positions of the remaining characters.  \n",
    "\n",
    "範例:  \n",
    "Ex1:  \n",
    "Input: str1 = \"abc\", str2 = \"ad\"  \n",
    "Output: true  \n",
    "Explanation: Select index 2 in str1.  \n",
    "Increment str1[2] to become 'd'.   \n",
    "Hence, str1 becomes \"abd\" and str2 is now a subsequence. Therefore, true is returned.  \n",
    "\n",
    "Ex2:  \n",
    "Input: str1 = \"zc\", str2 = \"ad\"  \n",
    "Output: true  \n",
    "Explanation: Select indices 0 and 1 in str1.   \n",
    "Increment str1[0] to become 'a'.   \n",
    "Increment str1[1] to become 'd'.   \n",
    "Hence, str1 becomes \"ad\" and str2 is now a subsequence. Therefore, true is returned.  \n",
    "\n",
    "Ex3:  \n",
    "Input: str1 = \"ab\", str2 = \"d\"  \n",
    "Output: false  \n",
    "Explanation: In this example, it can be shown that it is impossible to make str2 a subsequence of str1 using the operation at most once.   \n",
    "Therefore, false is returned."
   ]
  },
  {
   "cell_type": "markdown",
   "id": "27abc60b-0376-4792-b831-d91f06a4433e",
   "metadata": {},
   "source": [
    "* 解題想法:  \n",
    "首先將兩個字串放入list中，接著從最後開始pop並比較兩個字母是否相同，或是平移後可以相同，如果相同的話則同步更新c1與c2，如果不相同則更新c1，直到c1或是c2為空則中斷迴圈，最後檢查c2是否為空，如果不為空則回傳False，否則回傳True"
   ]
  },
  {
   "cell_type": "code",
   "execution_count": null,
   "id": "f8fc86be-9932-45cf-be71-b4e137ea9140",
   "metadata": {},
   "outputs": [],
   "source": [
    "class Solution:\n",
    "    def canMakeSubsequence(self, str1: str, str2: str) -> bool:\n",
    "        if str1 == str2:\n",
    "            return True\n",
    "        s1 = [i for i in str1]\n",
    "        s2 = [i for i in str2]\n",
    "        c1 = s1.pop()\n",
    "        c2 = s2.pop()\n",
    "        while c2 != '' and c1 != '':\n",
    "            if (c1 == 'z' and c2 == 'a') or ( ord(c1) + 1 == ord(c2)) or c1 == c2:  \n",
    "                c2 = s2.pop() if s2 else '' \n",
    "            c1 = s1.pop() if s1 else ''\n",
    "        if c2 != '':\n",
    "            return False\n",
    "        return True"
   ]
  }
 ],
 "metadata": {
  "kernelspec": {
   "display_name": "Python 3 (ipykernel)",
   "language": "python",
   "name": "python3"
  },
  "language_info": {
   "codemirror_mode": {
    "name": "ipython",
    "version": 3
   },
   "file_extension": ".py",
   "mimetype": "text/x-python",
   "name": "python",
   "nbconvert_exporter": "python",
   "pygments_lexer": "ipython3",
   "version": "3.9.13"
  }
 },
 "nbformat": 4,
 "nbformat_minor": 5
}
