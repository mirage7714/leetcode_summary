{
 "cells": [
  {
   "cell_type": "markdown",
   "metadata": {},
   "source": [
    "# 本題要找出binary tree節點中右側的節點為何\n",
    "原題目連結: https://leetcode.com/problems/populating-next-right-pointers-in-each-node-ii/  \n",
    "\n",
    "Given a binary tree  \n",
    "\n",
    "struct Node {  \n",
    "  int val;  \n",
    "  Node *left;  \n",
    "  Node *right;  \n",
    "  Node *next;  \n",
    "}  \n",
    "Populate each next pointer to point to its next right node. If there is no next right node, the next pointer should be set to NULL.  \n",
    "\n",
    "Initially, all next pointers are set to NULL.  \n",
    "\n",
    "範例:  \n",
    "Ex1:  \n",
    "Input: root = [1,2,3,4,5,null,7]  \n",
    "Output: [1,#,2,3,#,4,5,7,#]  \n",
    "Explanation: Given the above binary tree (Figure A), your function should populate each next pointer to point to its next right node, just like in Figure B. The serialized output is in level order as connected by the next pointers, with '#' signifying the end of each level.  \n",
    "\n",
    "Ex2:  \n",
    "Input: root = []  \n",
    "Output: []"
   ]
  },
  {
   "cell_type": "markdown",
   "metadata": {},
   "source": [
    "* 解題想法:  \n",
    "此題與116題相似，只是這題並沒有保證左右兩側的節點都會同時存在，不過解法上是相同的，這邊一樣使用BFS的方式進行走訪，並將左側節點的next值放入右側的節點，直到走訪結束為止"
   ]
  },
  {
   "cell_type": "code",
   "execution_count": null,
   "metadata": {},
   "outputs": [],
   "source": [
    "\"\"\"\n",
    "# Definition for a Node.\n",
    "class Node:\n",
    "    def __init__(self, val: int = 0, left: 'Node' = None, right: 'Node' = None, next: 'Node' = None):\n",
    "        self.val = val\n",
    "        self.left = left\n",
    "        self.right = right\n",
    "        self.next = next\n",
    "\"\"\"\n",
    "\n",
    "class Solution:\n",
    "    def checkNext(self, node, res):\n",
    "        if node.left:\n",
    "            res.append(node.left)\n",
    "        if node.right:\n",
    "            res.append(node.right)\n",
    "        return res\n",
    "    \n",
    "    def connect(self, root: 'Node') -> 'Node':\n",
    "        if root:\n",
    "            stack = [root]\n",
    "            while stack:\n",
    "                node = []\n",
    "                if len(stack) > 1:\n",
    "                    for m in range(len(stack)-1):\n",
    "                        stack[m].next = stack[m+1]\n",
    "                        node = self.checkNext(stack[m], node)\n",
    "                    node = self.checkNext(stack[-1], node)\n",
    "                else:\n",
    "                    node = self.checkNext(stack[0], node)\n",
    "                stack.clear()\n",
    "                stack += node\n",
    "        return root"
   ]
  }
 ],
 "metadata": {
  "kernelspec": {
   "display_name": "Python 3",
   "language": "python",
   "name": "python3"
  },
  "language_info": {
   "codemirror_mode": {
    "name": "ipython",
    "version": 3
   },
   "file_extension": ".py",
   "mimetype": "text/x-python",
   "name": "python",
   "nbconvert_exporter": "python",
   "pygments_lexer": "ipython3",
   "version": "3.7.4"
  }
 },
 "nbformat": 4,
 "nbformat_minor": 4
}
