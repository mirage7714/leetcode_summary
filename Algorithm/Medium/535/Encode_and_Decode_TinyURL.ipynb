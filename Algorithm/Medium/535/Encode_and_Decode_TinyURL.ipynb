{
 "cells": [
  {
   "cell_type": "markdown",
   "metadata": {},
   "source": [
    "# 本題要對url進行加解密的實作\n",
    "原題目連結: https://leetcode.com/problems/encode-and-decode-tinyurl/  \n",
    "\n",
    "TinyURL is a URL shortening service where you enter a URL such as https://leetcode.com/problems/design-tinyurl and it returns a short URL such as http://tinyurl.com/4e9iAk. Design a class to encode a URL and decode a tiny URL.  \n",
    "\n",
    "There is no restriction on how your encode/decode algorithm should work. You just need to ensure that a URL can be encoded to a tiny URL and the tiny URL can be decoded to the original URL.  \n",
    "\n",
    "Implement the Solution class:  \n",
    "\n",
    "Solution() Initializes the object of the system.  \n",
    "String encode(String longUrl) Returns a tiny URL for the given longUrl.  \n",
    "String decode(String shortUrl) Returns the original long URL for the given shortUrl. It is guaranteed that the given shortUrl was encoded by the same object.  \n",
    "\n",
    "範例:  \n",
    "Ex1:  \n",
    "Input: url = \"https://leetcode.com/problems/design-tinyurl\"  \n",
    "Output: \"https://leetcode.com/problems/design-tinyurl\"  \n",
    "\n",
    "Explanation:  \n",
    "Solution obj = new Solution();   \n",
    "string tiny = obj.encode(url); // returns the encoded tiny url.  \n",
    "string ans = obj.decode(tiny); // returns the original url after deconding it."
   ]
  },
  {
   "cell_type": "markdown",
   "metadata": {},
   "source": [
    "* 解題想法:  \n",
    "題目並沒有要求實作後長度的限制，也沒有要求要用特定的加解密方法進行實作，因此選了base64這種最基本的方法來進行加解密的實作，由於base64需要先將str轉換成byte才能進行轉換，因此需要先對長網址進行轉換成byte，再進行base64的encode，再轉換為str  \n",
    "解密的話則剛好相反，需要先轉換成byte再進行decode，最後再轉換回str"
   ]
  },
  {
   "cell_type": "code",
   "execution_count": null,
   "metadata": {},
   "outputs": [],
   "source": [
    "import base64\n",
    "class Codec:\n",
    "\n",
    "    def encode(self, longUrl: str) -> str:\n",
    "        \"\"\"Encodes a URL to a shortened URL.\n",
    "        \"\"\"\n",
    "        url = 'http://tinyurl.com/'\n",
    "        # 先將網址轉換為byte\n",
    "        b = longUrl.encode('UTF-8')\n",
    "        # 對byte進行base64加密\n",
    "        s = base64.b64encode(b)\n",
    "        # 最後將轉換過的byte轉換回str，並組合成新的url\n",
    "        h = s.decode('UTF-8')\n",
    "        return url + h\n",
    "\n",
    "    def decode(self, shortUrl: str) -> str:\n",
    "        \"\"\"Decodes a shortened URL to its original URL.\n",
    "        \"\"\"\n",
    "        # 首先分割出需要進行轉換的字串\n",
    "        t = shortUrl.split('http://tinyurl.com/')[-1]\n",
    "        # 將字串轉換為byte\n",
    "        b = t.encode('UTF-8')\n",
    "        # 將byte進行base64解密\n",
    "        s = base64.b64decode(t)\n",
    "        # 最後將byte轉換為str，並回傳原本的url\n",
    "        url = s.decode('UTF-8')\n",
    "        return url\n",
    "\n",
    "# Your Codec object will be instantiated and called as such:\n",
    "# codec = Codec()\n",
    "# codec.decode(codec.encode(url))"
   ]
  }
 ],
 "metadata": {
  "kernelspec": {
   "display_name": "Python 3",
   "language": "python",
   "name": "python3"
  },
  "language_info": {
   "codemirror_mode": {
    "name": "ipython",
    "version": 3
   },
   "file_extension": ".py",
   "mimetype": "text/x-python",
   "name": "python",
   "nbconvert_exporter": "python",
   "pygments_lexer": "ipython3",
   "version": "3.7.4"
  }
 },
 "nbformat": 4,
 "nbformat_minor": 2
}
