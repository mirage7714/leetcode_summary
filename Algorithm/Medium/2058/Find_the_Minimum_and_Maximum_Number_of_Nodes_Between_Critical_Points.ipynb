{
 "cells": [
  {
   "cell_type": "markdown",
   "metadata": {},
   "source": [
    "# 本題要找出關鍵點中最大與最小距離為何\n",
    "原題目連結: https://leetcode.com/problems/find-the-minimum-and-maximum-number-of-nodes-between-critical-points/  \n",
    "\n",
    "A critical point in a linked list is defined as either a local maxima or a local minima.  \n",
    "A node is a local maxima if the current node has a value strictly greater than the previous node and the next node.  \n",
    "A node is a local minima if the current node has a value strictly smaller than the previous node and the next node.  \n",
    "\n",
    "Given a linked list head, return an array of length 2 containing [minDistance, maxDistance] where minDistance is the minimum distance between any two distinct critical points and maxDistance is the maximum distance between any two distinct critical points. If there are fewer than two critical points, return [-1, -1].  \n",
    "\n",
    "範例:  \n",
    "Ex1:  \n",
    "Input: head = [3,1]  \n",
    "Output: [-1,-1]  \n",
    "Explanation: There are no critical points in [3,1].Note that a node can only be a local maxima/minima if there exists both a previous node and a next node.    \n",
    "\n",
    "Ex2:  \n",
    "Input: head = [5,3,1,2,5,1,2]  \n",
    "Output: [1,3]  \n",
    "Explanation: There are three critical points:  \n",
    "- [5,3,1,2,5,1,2]: The third node is a local minima because 1 is less than 3 and 2.  \n",
    "- [5,3,1,2,5,1,2]: The fifth node is a local maxima because 5 is greater than 2 and 1.  \n",
    "- [5,3,1,2,5,1,2]: The sixth node is a local minima because 1 is less than 5 and 2.  \n",
    "The minimum distance is between the fifth and the sixth node. minDistance = 6 - 5 = 1.  \n",
    "The maximum distance is between the third and the sixth node. maxDistance = 6 - 3 = 3.  \n",
    "\n",
    "Ex3:  \n",
    "Input: head = [1,3,2,2,3,2,2,2,7]  \n",
    "Output: [3,3]  \n",
    "Explanation: There are two critical points:  \n",
    "- [1,3,2,2,3,2,2,2,7]: The second node is a local maxima because 3 is greater than 1 and 2.  \n",
    "- [1,3,2,2,3,2,2,2,7]: The fifth node is a local maxima because 3 is greater than 2 and 2.  \n",
    "Both the minimum and maximum distances are between the second and the fifth node.  \n",
    "Thus, minDistance and maxDistance is 5 - 2 = 3.  \n",
    "Note that the last node is not considered a local maxima because it does not have a next node.  \n",
    "\n",
    "Ex4:  \n",
    "Input: head = [2,3,3,2]   \n",
    "Output: [-1,-1]  \n",
    "Explanation: There are no critical points in [2,3,3,2]."
   ]
  },
  {
   "cell_type": "markdown",
   "metadata": {},
   "source": [
    "* 解題想法:  \n",
    "題目提供的格式為linked list，因此先將數值轉換為list之後再開始找出local max/min，並將index值記下，最後再開始找出兩點距離的最大值與最小值並回傳"
   ]
  },
  {
   "cell_type": "code",
   "execution_count": null,
   "metadata": {},
   "outputs": [],
   "source": [
    "# Definition for singly-linked list.\n",
    "# class ListNode:\n",
    "#     def __init__(self, val=0, next=None):\n",
    "#         self.val = val\n",
    "#         self.next = next\n",
    "class Solution:\n",
    "    def nodesBetweenCriticalPoints(self, head: Optional[ListNode]) -> List[int]:\n",
    "        nums = []\n",
    "        dist = [-1,-1]\n",
    "        criterial = []\n",
    "        while head.next:\n",
    "            nums.append(head.val)\n",
    "            head = head.next\n",
    "        nums.append(head.val)\n",
    "        if len(nums) > 3:\n",
    "            for n in range(1, len(nums)-1):\n",
    "                if nums[n] > nums[n-1]:\n",
    "                    if nums[n] > nums[n+1]:\n",
    "                        criterial.append(n)\n",
    "                elif nums[n] < nums[n-1]:\n",
    "                    if nums[n] < nums[n+1]:\n",
    "                        criterial.append(n)\n",
    "        if len(criterial) >= 2:\n",
    "            dist[1] = criterial[-1] - criterial[0]\n",
    "            dist[0] = criterial[1] - criterial[0]\n",
    "            for m in range(1, len(criterial)-1):\n",
    "                if criterial[m+1] - criterial[m] < dist[0]:\n",
    "                    dist[0] = criterial[m+1] - criterial[m]\n",
    "        return dist"
   ]
  }
 ],
 "metadata": {
  "kernelspec": {
   "display_name": "Python 3",
   "language": "python",
   "name": "python3"
  },
  "language_info": {
   "codemirror_mode": {
    "name": "ipython",
    "version": 3
   },
   "file_extension": ".py",
   "mimetype": "text/x-python",
   "name": "python",
   "nbconvert_exporter": "python",
   "pygments_lexer": "ipython3",
   "version": "3.7.4"
  }
 },
 "nbformat": 4,
 "nbformat_minor": 4
}
