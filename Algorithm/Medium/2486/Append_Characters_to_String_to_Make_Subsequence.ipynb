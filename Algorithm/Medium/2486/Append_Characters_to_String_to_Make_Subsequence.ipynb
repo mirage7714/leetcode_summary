{
 "cells": [
  {
   "cell_type": "markdown",
   "metadata": {},
   "source": [
    "# 本題要找出最少要加入多少個字，才會成為另一個字的子字串 (\\#String)\n",
    "原題目連結: https://leetcode.com/problems/append-characters-to-string-to-make-subsequence/  \n",
    "\n",
    "You are given two strings s and t consisting of only lowercase English letters.  \n",
    "Return the minimum number of characters that need to be appended to the end of s so that t becomes a subsequence of s.  \n",
    "A subsequence is a string that can be derived from another string by deleting some or no characters without changing the order of the remaining characters.  \n",
    "\n",
    "範例:  \n",
    "Ex1:  \n",
    "Input: s = \"coaching\", t = \"coding\"  \n",
    "Output: 4  \n",
    "Explanation: Append the characters \"ding\" to the end of s so that s = \"coachingding\".  \n",
    "Now, t is a subsequence of s (\"coachingding\").  \n",
    "It can be shown that appending any 3 characters to the end of s will never make t a subsequence.  \n",
    "\n",
    "Ex2:  \n",
    "Input: s = \"abcde\", t = \"a\"  \n",
    "Output: 0  \n",
    "Explanation: t is already a subsequence of s (\"abcde\").  \n",
    "\n",
    "Ex3:  \n",
    "Input: s = \"z\", t = \"abcde\"  \n",
    "Output: 5  \n",
    "Explanation: Append the characters \"abcde\" to the end of s so that s = \"zabcde\".  \n",
    "Now, t is a subsequence of s (\"zabcde\").  \n",
    "It can be shown that appending any 4 characters to the end of s will never make t a subsequence."
   ]
  },
  {
   "cell_type": "markdown",
   "metadata": {},
   "source": [
    "* 解題想法:  \n",
    "首先用迴圈逐個檢查t中的字母是否有在s中出現，如果有的話則將s修改為s[s.index()+1:]，如果沒有出現，則代表之後的字母都不會出現了，所以可以直接加上剩下的長度就是答案"
   ]
  },
  {
   "cell_type": "code",
   "execution_count": null,
   "metadata": {},
   "outputs": [],
   "source": [
    "class Solution:\n",
    "    def appendCharacters(self, s: str, t: str) -> int:\n",
    "        count = 0\n",
    "        i = 0\n",
    "        for m in range(len(t)):\n",
    "            n = t[m]\n",
    "            if n not in s:\n",
    "                count += len(t) -m\n",
    "                break\n",
    "            else:\n",
    "                s = s[s.index(n)+1:]\n",
    "        return count"
   ]
  }
 ],
 "metadata": {
  "kernelspec": {
   "display_name": "Python 3",
   "language": "python",
   "name": "python3"
  },
  "language_info": {
   "codemirror_mode": {
    "name": "ipython",
    "version": 3
   },
   "file_extension": ".py",
   "mimetype": "text/x-python",
   "name": "python",
   "nbconvert_exporter": "python",
   "pygments_lexer": "ipython3",
   "version": "3.7.4"
  }
 },
 "nbformat": 4,
 "nbformat_minor": 4
}
