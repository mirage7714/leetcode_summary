{
 "cells": [
  {
   "cell_type": "markdown",
   "metadata": {},
   "source": [
    "# 本題要找出所有位數和相同的值中，和最大的一對為多少\n",
    "原題目連結: https://leetcode.com/problems/max-sum-of-a-pair-with-equal-sum-of-digits/  \n",
    "\n",
    "You are given a 0-indexed array nums consisting of positive integers. You can choose two indices i and j, such that i != j, and the sum of digits of the number nums[i] is equal to that of nums[j].  \n",
    "\n",
    "Return the maximum value of nums[i] + nums[j] that you can obtain over all possible indices i and j that satisfy the conditions.  \n",
    "\n",
    "範例:  \n",
    "Ex1:  \n",
    "Input: nums = [18,43,36,13,7]  \n",
    "Output: 54  \n",
    "Explanation: The pairs (i, j) that satisfy the conditions are:  \n",
    "- (0, 2), both numbers have a sum of digits equal to 9, and their sum is 18 + 36 = 54.  \n",
    "- (1, 4), both numbers have a sum of digits equal to 7, and their sum is 43 + 7 = 50.  \n",
    "So the maximum sum that we can obtain is 54.  \n",
    "\n",
    "Ex2:  \n",
    "Input: nums = [10,12,19,14]  \n",
    "Output: -1  \n",
    "Explanation: There are no two numbers that satisfy the conditions, so we return -1."
   ]
  },
  {
   "cell_type": "markdown",
   "metadata": {},
   "source": [
    "* 解題想法:  \n",
    "首先建立一個函數，用來將數字轉換為對應的key值，接著檢查這個key值是否有出現在dict中，如果有出現過的話則將這個key值放入list中，接著從dict中找出list長度大於或等於2以上的，在排序之後取出最後兩個值相加，並與目前最大值相比，最後回傳最大值"
   ]
  },
  {
   "cell_type": "code",
   "execution_count": null,
   "metadata": {},
   "outputs": [],
   "source": [
    "class Solution:\n",
    "    def maximumSum(self, nums: List[int]) -> int:\n",
    "        def getKey(num):\n",
    "            total = 0\n",
    "            for m in range(len(str(num))):\n",
    "                total += int(str(num)[m])\n",
    "            return total\n",
    "        \n",
    "        count = {}\n",
    "        result = -1\n",
    "        for n in nums:\n",
    "            key = getKey(n)\n",
    "            if key not in count.keys():\n",
    "                count[key] = [n]\n",
    "            else:\n",
    "                count[key].append(n)\n",
    "        for val in count.values():\n",
    "            if len(val) > 1:\n",
    "                val.sort()\n",
    "                t = val[-1] + val[-2]\n",
    "                result = max(t, result)\n",
    "        return result"
   ]
  }
 ],
 "metadata": {
  "kernelspec": {
   "display_name": "Python 3",
   "language": "python",
   "name": "python3"
  },
  "language_info": {
   "codemirror_mode": {
    "name": "ipython",
    "version": 3
   },
   "file_extension": ".py",
   "mimetype": "text/x-python",
   "name": "python",
   "nbconvert_exporter": "python",
   "pygments_lexer": "ipython3",
   "version": "3.7.4"
  }
 },
 "nbformat": 4,
 "nbformat_minor": 4
}
