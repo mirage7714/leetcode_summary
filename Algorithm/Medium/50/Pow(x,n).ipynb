{
 "cells": [
  {
   "cell_type": "markdown",
   "metadata": {},
   "source": [
    "# 本題要實作x的n次方為何\n",
    "原題目連結: https://leetcode.com/problems/powx-n/  \n",
    "\n",
    "Implement pow(x, n), which calculates x raised to the power n (i.e., xn).  \n",
    "\n",
    "範例:  \n",
    "Ex1:  \n",
    "Input: x = 2.00000, n = 10  \n",
    "Output: 1024.00000  \n",
    "\n",
    "Ex2:  \n",
    "Input: x = 2.10000, n = 3  \n",
    "Output: 9.26100  \n",
    "\n",
    "Ex3:  \n",
    "Input: x = 2.00000, n = -2  \n",
    "Output: 0.25000  \n",
    "Explanation: 2-2 = 1/22 = 1/4 = 0.25"
   ]
  },
  {
   "cell_type": "markdown",
   "metadata": {},
   "source": [
    "* 解題想法:  \n",
    "由於x的範圍包含從負到正，因此需要分別判斷x為-1，x為0，x為1的情況，另外由於題目給定的值域為10的四次方到負四次方之間，因此數值小於1/10000以下就可視為0，最後將計算結果回傳"
   ]
  },
  {
   "cell_type": "code",
   "execution_count": null,
   "metadata": {},
   "outputs": [],
   "source": [
    "class Solution:\n",
    "    def myPow(self, x: float, n: int) -> float:\n",
    "        result = 1\n",
    "        if x == 1:\n",
    "            result = 1\n",
    "        elif x == -1:\n",
    "            if n % 2 == 0:\n",
    "                result = 1\n",
    "            else:\n",
    "                result = -1\n",
    "        elif x != 0:\n",
    "            if n > 0:\n",
    "                for m in range(n):\n",
    "                    result *= x\n",
    "                    if result < 0.00001 and result > 0:\n",
    "                        result = 0\n",
    "                        break\n",
    "            elif n == 0:\n",
    "                result = 1\n",
    "            else:\n",
    "                for m in range(abs(n)):\n",
    "                    result /= x\n",
    "                    if result < 0.00001 and result > 0:\n",
    "                        result = 0\n",
    "                        break\n",
    "        else:\n",
    "            result = 0\n",
    "        return result"
   ]
  }
 ],
 "metadata": {
  "kernelspec": {
   "display_name": "Python 3",
   "language": "python",
   "name": "python3"
  },
  "language_info": {
   "codemirror_mode": {
    "name": "ipython",
    "version": 3
   },
   "file_extension": ".py",
   "mimetype": "text/x-python",
   "name": "python",
   "nbconvert_exporter": "python",
   "pygments_lexer": "ipython3",
   "version": "3.7.4"
  }
 },
 "nbformat": 4,
 "nbformat_minor": 4
}
