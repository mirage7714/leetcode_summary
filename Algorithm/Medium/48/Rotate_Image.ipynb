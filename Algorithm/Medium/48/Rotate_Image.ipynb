{
 "cells": [
  {
   "cell_type": "markdown",
   "metadata": {},
   "source": [
    "# 本題要找出將2D array旋轉90度過後的結果為何\n",
    "原題目連結: https://leetcode.com/problems/rotate-image/  \n",
    "\n",
    "You are given an n x n 2D matrix representing an image, rotate the image by 90 degrees (clockwise).  \n",
    "\n",
    "You have to rotate the image in-place, which means you have to modify the input 2D matrix directly. DO NOT allocate another 2D matrix and do the rotation.  \n",
    "\n",
    "範例:  \n",
    "Ex1:  \n",
    "Input: matrix = [[1,2,3],[4,5,6],[7,8,9]]  \n",
    "Output: [[7,4,1],[8,5,2],[9,6,3]]  \n",
    "\n",
    "Ex2:  \n",
    "Input: matrix = [[5,1,9,11],[2,4,8,10],[13,3,6,7],[15,14,12,16]]  \n",
    "Output: [[15,13,2,5],[14,3,4,1],[12,6,8,9],[16,7,10,11]]  \n",
    "\n",
    "Ex3:  \n",
    "Input: matrix = [[1]]  \n",
    "Output: [[1]]  \n",
    "\n",
    "Ex4:  \n",
    "Input: matrix = [[1,2],[3,4]]  \n",
    "Output: [[3,1],[4,2]]"
   ]
  },
  {
   "cell_type": "markdown",
   "metadata": {},
   "source": [
    "* 解題想法:  \n",
    "題目想要求的是將一個2D list旋轉90度過後的結果，而且要將原本的list進行修改。在觀察了旋轉過後的結果後，可以看出新的list是將原先每個column的元件，轉成每個row的值，因此使用了一個暫存的list來加入原本的2D list中，最後再將原本的2D list多出來的list刪除"
   ]
  },
  {
   "cell_type": "code",
   "execution_count": null,
   "metadata": {},
   "outputs": [],
   "source": [
    "class Solution:\n",
    "    def rotate(self, matrix: List[List[int]]) -> None:\n",
    "        \"\"\"\n",
    "        Do not return anything, modify matrix in-place instead.\n",
    "        \"\"\"\n",
    "        size = len(matrix)\n",
    "        for m in range(size):\n",
    "            temp = []\n",
    "            for n in range(len(matrix[m])):\n",
    "                temp.insert(0, matrix[n][m])\n",
    "            matrix.append(temp)\n",
    "        for n in range(size):\n",
    "            matrix.pop(0)"
   ]
  }
 ],
 "metadata": {
  "kernelspec": {
   "display_name": "Python 3",
   "language": "python",
   "name": "python3"
  },
  "language_info": {
   "codemirror_mode": {
    "name": "ipython",
    "version": 3
   },
   "file_extension": ".py",
   "mimetype": "text/x-python",
   "name": "python",
   "nbconvert_exporter": "python",
   "pygments_lexer": "ipython3",
   "version": "3.7.6"
  }
 },
 "nbformat": 4,
 "nbformat_minor": 4
}
