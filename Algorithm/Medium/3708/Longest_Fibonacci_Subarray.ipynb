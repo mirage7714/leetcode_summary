{
 "cells": [
  {
   "cell_type": "markdown",
   "id": "696f7885-0669-4330-9d79-838906b8b2e6",
   "metadata": {},
   "source": [
    "# 本題要找出最長的費伯納西數列長度為多少 (\\#Array )\n",
    "原題目連結：https://leetcode.com/problems/longest-fibonacci-subarray/description/  \n",
    "\n",
    "You are given an array of positive integers nums.  \n",
    "A Fibonacci array is a contiguous sequence whose third and subsequent terms each equal the sum of the two preceding terms.  \n",
    "Return the length of the longest Fibonacci subarray in nums.  \n",
    "Note: Subarrays of length 1 or 2 are always Fibonacci.  \n",
    "\n",
    "\n",
    "範例：  \n",
    "Ex1:  \n",
    "Input: nums = [1,1,1,1,2,3,5,1]  \n",
    "Output: 5  \n",
    "Explanation:  \n",
    "The longest Fibonacci subarray is nums[2..6] = [1, 1, 2, 3, 5].  \n",
    "[1, 1, 2, 3, 5] is Fibonacci because 1 + 1 = 2, 1 + 2 = 3, and 2 + 3 = 5.  \n",
    "\n",
    "Ex2:  \n",
    "Input: nums = [5,2,7,9,16]  \n",
    "Output: 5  \n",
    "Explanation:  \n",
    "The longest Fibonacci subarray is nums[0..4] = [5, 2, 7, 9, 16].  \n",
    "[5, 2, 7, 9, 16] is Fibonacci because 5 + 2 = 7, 2 + 7 = 9, and 7 + 9 = 16.  \n",
    "\n",
    "Ex3:  \n",
    "Input: nums = [1000000000,1000000000,1000000000]  \n",
    "Output: 2  \n",
    "Explanation:  \n",
    "The longest Fibonacci subarray is nums[1..2] = [1000000000, 1000000000].  \n",
    "[1000000000, 1000000000] is Fibonacci because its length is 2."
   ]
  },
  {
   "cell_type": "markdown",
   "id": "8309ade0-1312-4375-9b7d-c859de5ccf20",
   "metadata": {},
   "source": [
    "* 解題想法：  \n",
    "首先用一個deque來放目前的數列，接著用迴圈從頭開始檢查，當deque長度超過2的時候則檢查目前的數值是否符合費博納西條件，如果符合條件則繼續放入deque中，如果不符合條件的話則清空deque只留下最後一個數值後再放入目前的數值，最後回傳最大長度就是答案"
   ]
  },
  {
   "cell_type": "code",
   "execution_count": null,
   "id": "94058f3b-7903-41ad-9542-8e489bff53da",
   "metadata": {},
   "outputs": [],
   "source": [
    "from collections import deque\n",
    "class Solution:\n",
    "    def longestSubarray(self, nums: List[int]) -> int:\n",
    "        res = 2\n",
    "        temp = deque()\n",
    "        temp.append(nums[0])\n",
    "        temp.append(nums[1])\n",
    "        for i in range(2, len(nums)):\n",
    "            if len(temp) >= 2 and nums[i] != temp[-1] + temp[-2]:\n",
    "                while len(temp) > 1:\n",
    "                    temp.popleft()\n",
    "            temp.append(nums[i])\n",
    "            res = max(res, len(temp))\n",
    "        res = max(res, len(temp))\n",
    "        return res"
   ]
  }
 ],
 "metadata": {
  "kernelspec": {
   "display_name": "Python 3 (ipykernel)",
   "language": "python",
   "name": "python3"
  },
  "language_info": {
   "codemirror_mode": {
    "name": "ipython",
    "version": 3
   },
   "file_extension": ".py",
   "mimetype": "text/x-python",
   "name": "python",
   "nbconvert_exporter": "python",
   "pygments_lexer": "ipython3",
   "version": "3.10.9"
  }
 },
 "nbformat": 4,
 "nbformat_minor": 5
}
