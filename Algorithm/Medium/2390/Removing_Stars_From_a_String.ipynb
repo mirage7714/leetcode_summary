{
 "cells": [
  {
   "cell_type": "markdown",
   "metadata": {},
   "source": [
    "# 本題要將字串中的星號去除\n",
    "原題目連結: https://leetcode.com/problems/removing-stars-from-a-string/  \n",
    "\n",
    "You are given a string s, which contains stars *.  \n",
    "\n",
    "In one operation, you can:  \n",
    "Choose a star in s.  \n",
    "Remove the closest non-star character to its left, as well as remove the star itself.  \n",
    "Return the string after all stars have been removed.  \n",
    "\n",
    "Note:  \n",
    "The input will be generated such that the operation is always possible.  \n",
    "It can be shown that the resulting string will always be unique.  \n",
    "\n",
    "範例:  \n",
    "Ex1:  \n",
    "Input: s = \"leet\\**cod*e\"  \n",
    "Output: \"lecoe\"  \n",
    "Explanation: Performing the removals from left to right:  \n",
    "- The closest character to the 1st star is 't' in \"leet\\*\\*cod\\*e\". s becomes \"lee\\*cod\\*e\".  \n",
    "- The closest character to the 2nd star is 'e' in \"lee\\*cod\\*e\". s becomes \"lecod\\*e\".  \n",
    "- The closest character to the 3rd star is 'd' in \"lecod*e\". s becomes \"lecoe\".  \n",
    "There are no more stars, so we return \"lecoe\".  \n",
    "\n",
    "Ex2:  \n",
    "Input: s = \"erase\\*\\*\\*\\*\\*\"\n",
    "Output: \"\"\n",
    "Explanation: The entire string is removed, so we return an empty string."
   ]
  },
  {
   "cell_type": "markdown",
   "metadata": {},
   "source": [
    "*　解題想法：  \n",
    "用迴圈檢查字串，如果該字母為\\*時，則將list中最後一個字母也移除，最後將list重新組合回字串"
   ]
  },
  {
   "cell_type": "code",
   "execution_count": null,
   "metadata": {},
   "outputs": [],
   "source": [
    "class Solution:\n",
    "    def removeStars(self, s: str) -> str:\n",
    "        chars = []\n",
    "        for l in s:\n",
    "            if l == '*':\n",
    "                chars.pop()\n",
    "            else:\n",
    "                chars.append(l)\n",
    "        return ''.join(chars)"
   ]
  }
 ],
 "metadata": {
  "kernelspec": {
   "display_name": "Python 3",
   "language": "python",
   "name": "python3"
  },
  "language_info": {
   "codemirror_mode": {
    "name": "ipython",
    "version": 3
   },
   "file_extension": ".py",
   "mimetype": "text/x-python",
   "name": "python",
   "nbconvert_exporter": "python",
   "pygments_lexer": "ipython3",
   "version": "3.7.4"
  }
 },
 "nbformat": 4,
 "nbformat_minor": 4
}
