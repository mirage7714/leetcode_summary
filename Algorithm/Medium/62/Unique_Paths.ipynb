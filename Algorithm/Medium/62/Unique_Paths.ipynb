{
 "cells": [
  {
   "cell_type": "markdown",
   "id": "b01b3d49-a759-403b-aa73-3998706cc8aa",
   "metadata": {},
   "source": [
    "# 本題要找出共有多少條的路徑 (\\#Math, \\#DP )\n",
    "原題目連結：https://leetcode.com/problems/unique-paths/description/\n",
    "\n",
    "There is a robot on an m x n grid. The robot is initially located at the top-left corner (i.e., grid[0][0]). The robot tries to move to the bottom-right corner (i.e., grid[m - 1][n - 1]). The robot can only move either down or right at any point in time.  \n",
    "\n",
    "Given the two integers m and n, return the number of possible unique paths that the robot can take to reach the bottom-right corner.  \n",
    "\n",
    "The test cases are generated so that the answer will be less than or equal to 2 * 109.  \n",
    "\n",
    "範例：  \n",
    "Ex1:  \n",
    "Input: m = 3, n = 7  \n",
    "Output: 28  \n",
    "\n",
    "Ex2:   \n",
    "Input: m = 3, n = 2  \n",
    "Output: 3  \n",
    "Explanation: From the top-left corner, there are a total of 3 ways to reach the bottom-right corner:  \n",
    "1. Right -> Down -> Down  \n",
    "2. Down -> Down -> Right  \n",
    "3. Down -> Right -> Down"
   ]
  },
  {
   "cell_type": "markdown",
   "id": "fba8b5cf-9d2e-43e6-968c-1b4617ea91ca",
   "metadata": {},
   "source": [
    "* 解題想法：  \n",
    "觀察路徑之後，可以用數學方式進行推論：  \n",
    "- 當n=1時，則路徑數為1  \n",
    "- 當n=2時，則路徑數為另一邊的邊長  \n",
    "- 當n=3以上時，則需要先建立一個長度為m的list，並將所有數字都填入1，接著用一個範圍為n的迴圈，第一個數值為，之後的數值就是前一個數值加上目前的數值，並更新list中的數值  \n",
    "最後回傳list的最後一個數值就是答案。"
   ]
  },
  {
   "cell_type": "code",
   "execution_count": null,
   "id": "c43767fc-4217-4b18-b877-8d358f714fa4",
   "metadata": {},
   "outputs": [],
   "source": [
    "class Solution:\n",
    "    def uniquePaths(self, m: int, n: int) -> int:\n",
    "        res = 0\n",
    "        if min(m, n) ==1:\n",
    "            res = 1\n",
    "        elif min(m, n) == 2:\n",
    "            res = max(m, n)\n",
    "        else:\n",
    "            temp = [1 for _ in range(m)]\n",
    "            for _ in range(n-1):\n",
    "                for i in range(1, len(temp)):\n",
    "                    temp[i] = temp[i-1] + temp[i]\n",
    "            res = temp[-1]\n",
    "        return res"
   ]
  }
 ],
 "metadata": {
  "kernelspec": {
   "display_name": "Python 3 (ipykernel)",
   "language": "python",
   "name": "python3"
  },
  "language_info": {
   "codemirror_mode": {
    "name": "ipython",
    "version": 3
   },
   "file_extension": ".py",
   "mimetype": "text/x-python",
   "name": "python",
   "nbconvert_exporter": "python",
   "pygments_lexer": "ipython3",
   "version": "3.10.9"
  }
 },
 "nbformat": 4,
 "nbformat_minor": 5
}
