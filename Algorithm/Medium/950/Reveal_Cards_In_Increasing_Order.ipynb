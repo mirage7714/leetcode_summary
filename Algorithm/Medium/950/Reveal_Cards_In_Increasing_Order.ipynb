{
 "cells": [
  {
   "cell_type": "markdown",
   "id": "aff55afe-5116-40c7-b6d1-49f7ad141f40",
   "metadata": {},
   "source": [
    "# 本題要找出翻盤的順序為何 (\\#Array, \\#Sorting )\n",
    "原題目連結：https://leetcode.com/problems/reveal-cards-in-increasing-order/description/?envType=daily-question&envId=2024-04-10  \n",
    "\n",
    "You are given an integer array deck. There is a deck of cards where every card has a unique integer. The integer on the ith card is deck[i].  \n",
    "You can order the deck in any order you want. Initially, all the cards start face down (unrevealed) in one deck.  \n",
    "You will do the following steps repeatedly until all cards are revealed:  \n",
    "Take the top card of the deck, reveal it, and take it out of the deck.  \n",
    "If there are still cards in the deck then put the next top card of the deck at the bottom of the deck.  \n",
    "If there are still unrevealed cards, go back to step 1. Otherwise, stop.  \n",
    "Return an ordering of the deck that would reveal the cards in increasing order.  \n",
    "\n",
    "Note that the first entry in the answer is considered to be the top of the deck.  \n",
    "\n",
    "範例：  \n",
    "Ex1:  \n",
    "Input: deck = [17,13,11,2,3,5,7]  \n",
    "Output: [2,13,3,11,5,17,7]  \n",
    "Explanation:   \n",
    "We get the deck in the order [17,13,11,2,3,5,7] (this order does not matter), and reorder it.  \n",
    "After reordering, the deck starts as [2,13,3,11,5,17,7], where 2 is the top of the deck.  \n",
    "We reveal 2, and move 13 to the bottom.  The deck is now [3,11,5,17,7,13].  \n",
    "We reveal 3, and move 11 to the bottom.  The deck is now [5,17,7,13,11].  \n",
    "We reveal 5, and move 17 to the bottom.  The deck is now [7,13,11,17].  \n",
    "We reveal 7, and move 13 to the bottom.  The deck is now [11,17,13].  \n",
    "We reveal 11, and move 17 to the bottom.  The deck is now [13,17].  \n",
    "We reveal 13, and move 17 to the bottom.  The deck is now [17].  \n",
    "We reveal 17.  \n",
    "Since all the cards revealed are in increasing order, the answer is correct.  \n",
    "\n",
    "Ex2:  \n",
    "Input: deck = [1,1000]  \n",
    "Output: [1,1000]  "
   ]
  },
  {
   "cell_type": "markdown",
   "id": "0a2f7db7-b94d-4562-91f7-2a3362afa83c",
   "metadata": {},
   "source": [
    "* 解題想法：  \n",
    "首先用deque的方式，找出翻牌的順序，接著將deck排序後找出對應的index為何，最後將數字放到新的index之後組成list就是答案"
   ]
  },
  {
   "cell_type": "code",
   "execution_count": null,
   "id": "08b1cd27-2c65-4c46-a4f0-e9bdf64a4d25",
   "metadata": {},
   "outputs": [],
   "source": [
    "from collections import deque\n",
    "class Solution:\n",
    "    def deckRevealedIncreasing(self, deck: List[int]) -> List[int]:\n",
    "        temp = []\n",
    "        res = []\n",
    "        count = {}\n",
    "        deck.sort()\n",
    "        i = [j for j in range(len(deck))]\n",
    "        order = deque(i)\n",
    "        while order:\n",
    "            o = order.popleft()\n",
    "            temp.append(o)\n",
    "            if order: \n",
    "                order.append(order.popleft())\n",
    "        for k in range(len(temp)):\n",
    "            count[temp[k]] = deck[k]\n",
    "        for l in range(len(temp)):\n",
    "            res.append(count[l])\n",
    "        return res"
   ]
  }
 ],
 "metadata": {
  "kernelspec": {
   "display_name": "Python 3 (ipykernel)",
   "language": "python",
   "name": "python3"
  },
  "language_info": {
   "codemirror_mode": {
    "name": "ipython",
    "version": 3
   },
   "file_extension": ".py",
   "mimetype": "text/x-python",
   "name": "python",
   "nbconvert_exporter": "python",
   "pygments_lexer": "ipython3",
   "version": "3.10.9"
  }
 },
 "nbformat": 4,
 "nbformat_minor": 5
}
