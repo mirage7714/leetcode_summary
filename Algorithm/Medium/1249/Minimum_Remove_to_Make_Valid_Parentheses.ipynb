{
 "cells": [
  {
   "cell_type": "markdown",
   "id": "9e6504aa-3dca-4e85-a482-ba1e235cb1e7",
   "metadata": {},
   "source": [
    "# 本題要找出有效的括號以及最長的字串組合為何 (\\#Array, \\#Stack )\n",
    "原題目連結: https://leetcode.com/problems/minimum-remove-to-make-valid-parentheses/description/?envType=daily-question&envId=2024-04-06  \n",
    "\n",
    "Given a string s of '(' , ')' and lowercase English characters.  \n",
    "Your task is to remove the minimum number of parentheses ( '(' or ')', in any positions ) so that the resulting parentheses string is valid and return any valid string.  \n",
    "Formally, a parentheses string is valid if and only if:  \n",
    "- It is the empty string, contains only lowercase characters, or  \n",
    "- It can be written as AB (A concatenated with B), where A and B are valid strings, or  \n",
    "- It can be written as (A), where A is a valid string.  \n",
    "\n",
    "範例:  \n",
    "Ex1:  \n",
    "Input: s = \"lee(t(c)o)de)\"  \n",
    "Output: \"lee(t(c)o)de\"  \n",
    "Explanation: \"lee(t(co)de)\" , \"lee(t(c)ode)\" would also be accepted.  \n",
    "\n",
    "Ex2:  \n",
    "Input: s = \"a)b(c)d\"  \n",
    "Output: \"ab(c)d\"  \n",
    "\n",
    "Ex3:  \n",
    "Input: s = \"))((\"  \n",
    "Output: \"\"  \n",
    "Explanation: An empty string is also valid."
   ]
  },
  {
   "cell_type": "markdown",
   "id": "ba122028-2916-4024-8a25-db23cad4616c",
   "metadata": {},
   "source": [
    "* 解題想法:  \n",
    "首先建立一個heap，用來存放有效的字母index，用另一個list來暫存目前的括號，接著如果是遇到左括號則先放入暫存中，如果遇到右括號，則檢查暫存中是否有數值，如果有則取暫存的最後一個數值以及目前的右括號放入heap中，如果該index為字母則直接放入heap中，最後從heap中取值並重新組合字串就是答案"
   ]
  },
  {
   "cell_type": "code",
   "execution_count": null,
   "id": "9e4410d5-cf39-46f5-86c7-2341222c3634",
   "metadata": {},
   "outputs": [],
   "source": [
    "import heapq\n",
    "class Solution:\n",
    "    def minRemoveToMakeValid(self, s: str) -> str:\n",
    "        stack = []\n",
    "        heapq.heapify(stack)\n",
    "        temp = []\n",
    "        res = ''\n",
    "        for i in range(len(s)):\n",
    "            if s[i] == '(':\n",
    "                temp.append(i)\n",
    "            elif s[i] == ')':\n",
    "                if temp:\n",
    "                    heapq.heappush(stack, temp.pop())\n",
    "                    heapq.heappush(stack, i)\n",
    "            else:\n",
    "                heapq.heappush(stack, i)\n",
    "        while stack:\n",
    "            res += s[heapq.heappop(stack)]\n",
    "        return res"
   ]
  }
 ],
 "metadata": {
  "kernelspec": {
   "display_name": "Python 3 (ipykernel)",
   "language": "python",
   "name": "python3"
  },
  "language_info": {
   "codemirror_mode": {
    "name": "ipython",
    "version": 3
   },
   "file_extension": ".py",
   "mimetype": "text/x-python",
   "name": "python",
   "nbconvert_exporter": "python",
   "pygments_lexer": "ipython3",
   "version": "3.11.4"
  }
 },
 "nbformat": 4,
 "nbformat_minor": 5
}
