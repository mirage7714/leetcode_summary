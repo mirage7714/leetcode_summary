{
 "cells": [
  {
   "cell_type": "markdown",
   "id": "005ae8bb-d822-4226-a4de-e2d2300a3808",
   "metadata": {},
   "source": [
    "# 本題要煮出符合條件的index共有多少 (\\#Array )\n",
    "原題目連結: https://leetcode.com/problems/find-beautiful-indices-in-the-given-array-i/description/  \n",
    "\n",
    "You are given a 0-indexed string s, a string a, a string b, and an integer k.  \n",
    "An index i is beautiful if:  \n",
    "0 <= i <= s.length - a.length  \n",
    "s[i..(i + a.length - 1)] == a  \n",
    "There exists an index j such that:  \n",
    "0 <= j <= s.length - b.length  \n",
    "s[j..(j + b.length - 1)] == b  \n",
    "|j - i| <= k  \n",
    "Return the array that contains beautiful indices in sorted order from smallest to largest.  \n",
    "\n",
    "範例:  \n",
    "Ex1:  \n",
    "Input: s = \"isawsquirrelnearmysquirrelhouseohmy\", a = \"my\", b = \"squirrel\", k = 15  \n",
    "Output: [16,33]  \n",
    "Explanation: There are 2 beautiful indices: [16,33].  \n",
    "- The index 16 is beautiful as s[16..17] == \"my\" and there exists an index 4 with s[4..11] == \"squirrel\" and |16 - 4| <= 15.  \n",
    "- The index 33 is beautiful as s[33..34] == \"my\" and there exists an index 18 with s[18..25] == \"squirrel\" and |33 - 18| <= 15.  \n",
    "Thus we return [16,33] as the result.  \n",
    "\n",
    "Ex2:  \n",
    "Input: s = \"abcd\", a = \"a\", b = \"a\", k = 4  \n",
    "Output: [0]  \n",
    "Explanation: There is 1 beautiful index: [0].  \n",
    "- The index 0 is beautiful as s[0..0] == \"a\" and there exists an index 0 with s[0..0] == \"a\" and |0 - 0| <= 4.  \n",
    "Thus we return [0] as the result."
   ]
  },
  {
   "cell_type": "markdown",
   "id": "aea8aa61-078a-41d7-b5bd-746bd2b591eb",
   "metadata": {},
   "source": [
    "* 解題想法:  \n",
    "首先將所有符合a與b的字串index找出後分別放入兩個list中，接著開始比對兩個list中是否有符合條件的index存在，如果有則加入結果的list中，最後回傳結果"
   ]
  },
  {
   "cell_type": "code",
   "execution_count": null,
   "id": "af4c3509-e4ef-4f66-8aa7-c985c09ae811",
   "metadata": {},
   "outputs": [],
   "source": [
    "class Solution:\n",
    "    def beautifulIndices(self, s: str, a: str, b: str, k: int) -> List[int]:\n",
    "        i1 = []\n",
    "        i2 = []\n",
    "        res = []\n",
    "        for m in range(len(s)):\n",
    "            if m <= len(s) - len(a) and s[m:m+len(a)] == a:\n",
    "                i1.append(m)\n",
    "            if m <= len(s) - len(b) and s[m:m+len(b)] == b:\n",
    "                i2.append(m)\n",
    "        for i in i1:\n",
    "            for j in i2:\n",
    "                if abs(i-j) <= k:\n",
    "                    res.append(i)\n",
    "                    break\n",
    "        return res"
   ]
  }
 ],
 "metadata": {
  "kernelspec": {
   "display_name": "Python 3 (ipykernel)",
   "language": "python",
   "name": "python3"
  },
  "language_info": {
   "codemirror_mode": {
    "name": "ipython",
    "version": 3
   },
   "file_extension": ".py",
   "mimetype": "text/x-python",
   "name": "python",
   "nbconvert_exporter": "python",
   "pygments_lexer": "ipython3",
   "version": "3.9.13"
  }
 },
 "nbformat": 4,
 "nbformat_minor": 5
}
