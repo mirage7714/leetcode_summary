{
 "cells": [
  {
   "cell_type": "markdown",
   "metadata": {},
   "source": [
    "# 本題要找出每個使用者使用的時間分布為何\n",
    "原題目連結: https://leetcode.com/problems/finding-the-users-active-minutes/  \n",
    "\n",
    "You are given the logs for users' actions on LeetCode, and an integer k. The logs are represented by a 2D integer array logs where each logs[i] = [IDi, timei] indicates that the user with IDi performed an action at the minute timei.  \n",
    "\n",
    "Multiple users can perform actions simultaneously, and a single user can perform multiple actions in the same minute.  \n",
    "\n",
    "The user active minutes (UAM) for a given user is defined as the number of unique minutes in which the user performed an action on LeetCode. A minute can only be counted once, even if multiple actions occur during it.  \n",
    "\n",
    "You are to calculate a 1-indexed array answer of size k such that, for each j (1 <= j <= k), answer[j] is the number of users whose UAM equals j.  \n",
    "\n",
    "Return the array answer as described above.  \n",
    "\n",
    "範例:  \n",
    "Ex1:  \n",
    "Input: logs = [[0,5],[1,2],[0,2],[0,5],[1,3]], k = 5  \n",
    "Output: [0,2,0,0,0]  \n",
    "Explanation:  \n",
    "The user with ID=0 performed actions at minutes 5, 2, and 5 again. Hence, they have a UAM of 2 (minute 5 is only counted once).  \n",
    "The user with ID=1 performed actions at minutes 2 and 3. Hence, they have a UAM of 2.  \n",
    "Since both users have a UAM of 2, answer[2] is 2, and the remaining answer[j] values are 0.  \n",
    "\n",
    "Ex2:  \n",
    "Input: logs = [[1,1],[2,2],[2,3]], k = 4  \n",
    "Output: [1,1,0,0]  \n",
    "Explanation:  \n",
    "The user with ID=1 performed a single action at minute 1. Hence, they have a UAM of 1.  \n",
    "The user with ID=2 performed actions at minutes 2 and 3. Hence, they have a UAM of 2.  \n",
    "There is one user with a UAM of 1 and one with a UAM of 2.  \n",
    "Hence, answer[1] = 1, answer[2] = 1, and the remaining values are 0."
   ]
  },
  {
   "cell_type": "markdown",
   "metadata": {},
   "source": [
    "* 解題想法:  \n",
    "依題目定義，每個使用者的使用時間是不會重複計算的，因此首先計算每個使用者的使用時間共有幾個，接著統計所有使用者使用時間的狀況，最後將值依說明放入一個list中回傳，就是題目要找的答案"
   ]
  },
  {
   "cell_type": "code",
   "execution_count": null,
   "metadata": {},
   "outputs": [],
   "source": [
    "class Solution:\n",
    "    def findingUsersActiveMinutes(self, logs: List[List[int]], k: int) -> List[int]:\n",
    "        freq = {}\n",
    "        result = [0]*k\n",
    "        for log in logs:\n",
    "            if log[0] not in freq.keys():\n",
    "                freq[log[0]] = [log[1]]\n",
    "            else:\n",
    "                used_time = freq[log[0]]\n",
    "                if log[1] not in used_time:\n",
    "                    used_time.append(log[1])\n",
    "        for val in list(freq.values()):\n",
    "            c = len(val)\n",
    "            result[c-1] += 1\n",
    "        return result"
   ]
  }
 ],
 "metadata": {
  "kernelspec": {
   "display_name": "Python 3",
   "language": "python",
   "name": "python3"
  },
  "language_info": {
   "codemirror_mode": {
    "name": "ipython",
    "version": 3
   },
   "file_extension": ".py",
   "mimetype": "text/x-python",
   "name": "python",
   "nbconvert_exporter": "python",
   "pygments_lexer": "ipython3",
   "version": "3.7.4"
  }
 },
 "nbformat": 4,
 "nbformat_minor": 2
}
