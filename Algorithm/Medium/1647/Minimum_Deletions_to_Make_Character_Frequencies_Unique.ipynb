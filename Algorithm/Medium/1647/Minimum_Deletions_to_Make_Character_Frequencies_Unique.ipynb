{
 "cells": [
  {
   "cell_type": "markdown",
   "metadata": {},
   "source": [
    "# 本題要找出出現的字母是否有重複的數量\n",
    "原題目連結: https://leetcode.com/problems/minimum-deletions-to-make-character-frequencies-unique/  \n",
    "\n",
    "A string s is called good if there are no two different characters in s that have the same frequency.  \n",
    "\n",
    "Given a string s, return the minimum number of characters you need to delete to make s good.  \n",
    "\n",
    "The frequency of a character in a string is the number of times it appears in the string. For example, in the string \"aab\", the frequency of 'a' is 2, while the frequency of 'b' is 1.  \n",
    "\n",
    "範例:  \n",
    "Ex1:  \n",
    "Input: s = \"aab\"  \n",
    "Output: 0  \n",
    "Explanation: s is already good.  \n",
    "\n",
    "Ex2:  \n",
    "Input: s = \"aaabbbcc\"  \n",
    "Output: 2  \n",
    "Explanation: You can delete two 'b's resulting in the good string \"aaabcc\".  \n",
    "Another way it to delete one 'b' and one 'c' resulting in the good string \"aaabbc\".  \n",
    "\n",
    "Ex3:  \n",
    "Input: s = \"ceabaacb\"  \n",
    "Output: 2  \n",
    "Explanation: You can delete both 'c's resulting in the good string \"eabaab\".  \n",
    "Note that we only care about characters that are still in the string at the end (i.e. frequency of 0 is ignored)."
   ]
  },
  {
   "cell_type": "markdown",
   "metadata": {},
   "source": [
    "* 解題想法:  \n",
    "依據本題的要求，是要計算字母出現的頻率數，並且不能有相同的情況，因此先計算所有字母出現的次數，並用一個dict來存放  \n",
    "之後將dict中的value取出並轉換成list，並確認其中沒有重複的數字，若有則將其中一個數字減一，最後將總共減去的數字回傳就是本題求的答案"
   ]
  },
  {
   "cell_type": "code",
   "execution_count": null,
   "metadata": {},
   "outputs": [],
   "source": [
    "class Solution:\n",
    "    def minDeletions(self, s: str) -> int:\n",
    "        freq = {}\n",
    "        count = 0\n",
    "        for n in range(len(s)):\n",
    "            if s[n] not in freq.keys():\n",
    "                freq[s[n]] = 1\n",
    "            else:\n",
    "                freq[s[n]] += 1\n",
    "        print(freq)\n",
    "        val = list(freq.values())\n",
    "        val.sort()\n",
    "        while True:\n",
    "            op = 0\n",
    "            for v in range(len(val)-1):\n",
    "                if val[v] == val[v+1]:\n",
    "                    if val[v] != 0:\n",
    "                        val[v] -= 1\n",
    "                        count += 1\n",
    "                        op += 1\n",
    "            if op == 0:\n",
    "                break\n",
    "        return count"
   ]
  }
 ],
 "metadata": {
  "kernelspec": {
   "display_name": "Python 3",
   "language": "python",
   "name": "python3"
  },
  "language_info": {
   "codemirror_mode": {
    "name": "ipython",
    "version": 3
   },
   "file_extension": ".py",
   "mimetype": "text/x-python",
   "name": "python",
   "nbconvert_exporter": "python",
   "pygments_lexer": "ipython3",
   "version": "3.7.4"
  }
 },
 "nbformat": 4,
 "nbformat_minor": 2
}
