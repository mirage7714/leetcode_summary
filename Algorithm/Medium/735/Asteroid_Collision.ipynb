{
 "cells": [
  {
   "cell_type": "markdown",
   "metadata": {},
   "source": [
    "# 本題要檢查最後會剩下多少個彗星\n",
    "原題目連結: https://leetcode.com/problems/asteroid-collision/  \n",
    "\n",
    "We are given an array asteroids of integers representing asteroids in a row.  \n",
    "\n",
    "For each asteroid, the absolute value represents its size, and the sign represents its direction (positive meaning right, negative meaning left). Each asteroid moves at the same speed.  \n",
    "\n",
    "Find out the state of the asteroids after all collisions. If two asteroids meet, the smaller one will explode. If both are the same size, both will explode. Two asteroids moving in the same direction will never meet.  \n",
    "\n",
    "範例:  \n",
    "Ex1:  \n",
    "Input: asteroids = [5,10,-5]  \n",
    "Output: [5,10]  \n",
    "Explanation: The 10 and -5 collide resulting in 10. The 5 and 10 never collide.  \n",
    "\n",
    "Ex2:  \n",
    "Input: asteroids = [8,-8]  \n",
    "Output: []  \n",
    "Explanation: The 8 and -8 collide exploding each other.  \n",
    "\n",
    "Ex3:  \n",
    "Input: asteroids = [10,2,-5]  \n",
    "Output: [10]  \n",
    "Explanation: The 2 and -5 collide resulting in -5. The 10 and -5 collide resulting in 10."
   ]
  },
  {
   "cell_type": "markdown",
   "metadata": {},
   "source": [
    "* 解題想法:  \n",
    "首先建立一個函數，用來計算當相撞之後會回傳那些彗星，接著用一個list作為暫存，開始進行檢查，如果當遇到負值且前面有超過一個以上的正值時，則將這個sub list進行計算後放入暫存中，最後當迴圈結束時，將原本的list更新成暫存加上最後的index值"
   ]
  },
  {
   "cell_type": "code",
   "execution_count": null,
   "metadata": {},
   "outputs": [],
   "source": [
    "class Solution:\n",
    "    def asteroidCollision(self, asteroids: List[int]) -> List[int]:\n",
    "        def collide(nums):\n",
    "            r = nums[-1]\n",
    "            stop = False\n",
    "            destroy = False\n",
    "            for m in range(len(nums)-2, -1, -1):\n",
    "                if nums[m] + r > 0:\n",
    "                    stop = True\n",
    "                if nums[m] + r == 0:\n",
    "                    destroy = True\n",
    "                if stop:\n",
    "                    return nums[:m+1]\n",
    "                if destroy:\n",
    "                    return nums[:m]\n",
    "            return [r]\n",
    "        \n",
    "        while True:\n",
    "            temp = []\n",
    "            s = len(asteroids)\n",
    "            changed = False\n",
    "            if s > 0:\n",
    "                prev = 0\n",
    "                for m in range(len(asteroids)):\n",
    "                    if asteroids[m] < 0:\n",
    "                        p = asteroids[prev:m+1]\n",
    "                        if len(p) > 1:\n",
    "                            temp += collide(asteroids[prev:m+1])\n",
    "                            changed = True\n",
    "                        else:\n",
    "                            temp += p\n",
    "                        prev = m+1\n",
    "                if not changed:\n",
    "                    break\n",
    "                else:\n",
    "                    asteroids = temp + asteroids[prev:]\n",
    "            else:\n",
    "                break\n",
    "\n",
    "        return asteroids"
   ]
  }
 ],
 "metadata": {
  "kernelspec": {
   "display_name": "Python 3",
   "language": "python",
   "name": "python3"
  },
  "language_info": {
   "codemirror_mode": {
    "name": "ipython",
    "version": 3
   },
   "file_extension": ".py",
   "mimetype": "text/x-python",
   "name": "python",
   "nbconvert_exporter": "python",
   "pygments_lexer": "ipython3",
   "version": "3.7.4"
  }
 },
 "nbformat": 4,
 "nbformat_minor": 4
}
