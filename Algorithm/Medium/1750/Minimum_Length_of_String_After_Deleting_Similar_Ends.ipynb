{
 "cells": [
  {
   "cell_type": "markdown",
   "id": "16dbe051-3d9b-46fa-ac17-4cc1213396fb",
   "metadata": {},
   "source": [
    "# 本題要找出刪除相同的字母後最後字串長度為多少 (\\#String, \\#Two Pointer )\n",
    "原題目連結: https://leetcode.com/problems/minimum-length-of-string-after-deleting-similar-ends/description/?envType=daily-question&envId=2024-03-05  \n",
    "\n",
    "Given a string s consisting only of characters 'a', 'b', and 'c'. You are asked to apply the following algorithm on the string any number of times:  \n",
    "Pick a non-empty prefix from the string s where all the characters in the prefix are equal.  \n",
    "Pick a non-empty suffix from the string s where all the characters in this suffix are equal.  \n",
    "The prefix and the suffix should not intersect at any index.  \n",
    "The characters from the prefix and suffix must be the same.  \n",
    "Delete both the prefix and the suffix.  \n",
    "Return the minimum length of s after performing the above operation any number of times (possibly zero times).  \n",
    "\n",
    "範例:  \n",
    "Ex1:  \n",
    "Input: s = \"ca\"  \n",
    "Output: 2  \n",
    "Explanation: You can't remove any characters, so the string stays as is.  \n",
    "\n",
    "Ex2:  \n",
    "Input: s = \"cabaabac\"  \n",
    "Output: 0  \n",
    "Explanation: An optimal sequence of operations is:  \n",
    "- Take prefix = \"c\" and suffix = \"c\" and remove them, s = \"abaaba\".  \n",
    "- Take prefix = \"a\" and suffix = \"a\" and remove them, s = \"baab\".  \n",
    "- Take prefix = \"b\" and suffix = \"b\" and remove them, s = \"aa\".  \n",
    "- Take prefix = \"a\" and suffix = \"a\" and remove them, s = \"\".   \n",
    "\n",
    "Ex3:  \n",
    "Input: s = \"aabccabba\"  \n",
    "Output: 3  \n",
    "Explanation: An optimal sequence of operations is:  \n",
    "- Take prefix = \"aa\" and suffix = \"a\" and remove them, s = \"bccabb\".  \n",
    "- Take prefix = \"b\" and suffix = \"bb\" and remove them, s = \"cca\"."
   ]
  },
  {
   "cell_type": "markdown",
   "id": "a22632b6-43b7-4c8c-b04f-3ecada8818c0",
   "metadata": {},
   "source": [
    "* 解題想法:  \n",
    "首先用兩個index作為目前的位置，接著檢查字串長度，如果字串長度為1則直接回傳長度，然後檢查兩個index的字母是否相同，如果不相同則中斷迴圈，相同的話則檢查目前相鄰的字母是否也相同，並更新左右兩側的index，最後回傳長度就是答案"
   ]
  },
  {
   "cell_type": "code",
   "execution_count": null,
   "id": "e1d04c12-013d-4b8b-839b-c58a195d9fdd",
   "metadata": {},
   "outputs": [],
   "source": [
    "class Solution:\n",
    "    def minimumLength(self, s: str) -> int:\n",
    "        l = 0\n",
    "        r = len(s)-1\n",
    "        if len(s) > 1: \n",
    "            while l <= r:\n",
    "                i  = s[l]\n",
    "                j = s[r]\n",
    "                if i != j:\n",
    "                    break\n",
    "                while True:\n",
    "                    if l + 1 <= r and s[l+1] == s[l]:\n",
    "                        l += 1\n",
    "                    else:\n",
    "                        break\n",
    "                while True:\n",
    "                    if r-1 >= l and s[r-1] == s[r]:\n",
    "                        r -= 1\n",
    "                    else:\n",
    "                        break\n",
    "                l += 1\n",
    "                r -= 1\n",
    "                if len(s[l:r+1]) == 1:\n",
    "                    break\n",
    "        return len(s[l:r+1])"
   ]
  }
 ],
 "metadata": {
  "kernelspec": {
   "display_name": "Python 3 (ipykernel)",
   "language": "python",
   "name": "python3"
  },
  "language_info": {
   "codemirror_mode": {
    "name": "ipython",
    "version": 3
   },
   "file_extension": ".py",
   "mimetype": "text/x-python",
   "name": "python",
   "nbconvert_exporter": "python",
   "pygments_lexer": "ipython3",
   "version": "3.9.13"
  }
 },
 "nbformat": 4,
 "nbformat_minor": 5
}
