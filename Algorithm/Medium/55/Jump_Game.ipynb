{
 "cells": [
  {
   "cell_type": "markdown",
   "metadata": {},
   "source": [
    "# 本題要找出是否能到達list的終點\n",
    "原題目連結: https://leetcode.com/problems/jump-game/  \n",
    "\n",
    "You are given an integer array nums. You are initially positioned at the array's first index, and each element in the array represents your maximum jump length at that position.  \n",
    "Return true if you can reach the last index, or false otherwise.  \n",
    "\n",
    "範例:  \n",
    "Ex1:    \n",
    "Input: nums = [2,3,1,1,4]  \n",
    "Output: true  \n",
    "Explanation: Jump 1 step from index 0 to 1, then 3 steps to the last index.  \n",
    "\n",
    "Ex2:  \n",
    "Input: nums = [3,2,1,0,4]  \n",
    "Output: false  \n",
    "Explanation: You will always arrive at index 3 no matter what. Its maximum jump length is 0, which makes it impossible to reach the last index."
   ]
  },
  {
   "cell_type": "markdown",
   "metadata": {},
   "source": [
    "* 解題想法:  \n",
    "參考討論區的解法，其中最簡短的做法是將nums[0]作為起始值，接著用迴圈檢查當n小於nums[0]的時候，nums[n]+n是否可以大於nums[0]，如果可以則更新起始值並繼續迴圈，直到迴圈結束後可以找出最多可以前進幾步，如果最大步數可以超過nums長度-1則回傳True，否則回傳False"
   ]
  },
  {
   "cell_type": "code",
   "execution_count": null,
   "metadata": {},
   "outputs": [],
   "source": [
    "class Solution:\n",
    "    def canJump(self, nums: List[int]) -> bool:\n",
    "        m = nums[0]\n",
    "        for n in range(len(nums)):\n",
    "            if n <= m:\n",
    "                m = max(n+nums[n], m)\n",
    "        return m >= len(nums) -1"
   ]
  }
 ],
 "metadata": {
  "kernelspec": {
   "display_name": "Python 3",
   "language": "python",
   "name": "python3"
  },
  "language_info": {
   "codemirror_mode": {
    "name": "ipython",
    "version": 3
   },
   "file_extension": ".py",
   "mimetype": "text/x-python",
   "name": "python",
   "nbconvert_exporter": "python",
   "pygments_lexer": "ipython3",
   "version": "3.7.4"
  }
 },
 "nbformat": 4,
 "nbformat_minor": 4
}
