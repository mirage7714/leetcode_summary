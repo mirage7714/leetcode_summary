{
 "cells": [
  {
   "cell_type": "markdown",
   "id": "98f9b80a-dd3d-46d9-a844-abf15301cc0a",
   "metadata": {},
   "source": [
    "# 本題要找出最大可能的缺少數為多少 (\\#Array, \\#HashMap )\n",
    "原題目連結: https://leetcode.com/problems/smallest-missing-non-negative-integer-after-operations/description/?envType=daily-question&envId=2025-10-16  \n",
    "\n",
    "You are given a 0-indexed integer array nums and an integer value.  \n",
    "In one operation, you can add or subtract value from any element of nums.  \n",
    "For example, if nums = [1,2,3] and value = 2, you can choose to subtract value from nums[0] to make nums = [-1,2,3].  \n",
    "The MEX (minimum excluded) of an array is the smallest missing non-negative integer in it.    \n",
    "For example, the MEX of [-1,2,3] is 0 while the MEX of [1,0,3] is 2.  \n",
    "Return the maximum MEX of nums after applying the mentioned operation any number of times.  \n",
    "\n",
    "範例:  \n",
    "Ex1:  \n",
    "Input: nums = [1,-10,7,13,6,8], value = 5  \n",
    "Output: 4  \n",
    "Explanation: One can achieve this result by applying the following operations:  \n",
    "- Add value to nums[1] twice to make nums = [1,0,7,13,6,8]  \n",
    "- Subtract value from nums[2] once to make nums = [1,0,2,13,6,8]  \n",
    "- Subtract value from nums[3] twice to make nums = [1,0,2,3,6,8]  \n",
    "The MEX of nums is 4. It can be shown that 4 is the maximum MEX we can achieve.\n",
    "\n",
    "Ex2:  \n",
    "Input: nums = [1,-10,7,13,6,8], value = 7  \n",
    "Output: 2  \n",
    "Explanation: One can achieve this result by applying the following operation:  \n",
    "- subtract value from nums[2] once to make nums = [1,-10,0,13,6,8]  \n",
    "The MEX of nums is 2. It can be shown that 2 is the maximum MEX we can achieve."
   ]
  },
  {
   "cell_type": "markdown",
   "id": "99807d92-4978-4d11-8ad5-6197ed247cfc",
   "metadata": {},
   "source": [
    "* 解題想法:  \n",
    "首先用一個dict，將所有數除上value之後的餘數放入，接著開始檢查是否所有的餘數都有出現，如果沒有澤找出缺少的餘數，如果有則找出出現次數最少的數值，乘上出現的次數後加一就是答案"
   ]
  },
  {
   "cell_type": "code",
   "execution_count": null,
   "id": "cc2c79de-7c32-4ced-9def-36149f9fcf4a",
   "metadata": {},
   "outputs": [],
   "source": [
    "class Solution:\n",
    "    def findSmallestInteger(self, nums: List[int], value: int) -> int:\n",
    "        count = {}\n",
    "        for n in nums:\n",
    "            while n < 0:\n",
    "                n += (-n // value + 1) * value\n",
    "            n = n % value\n",
    "            if n not in count.keys():\n",
    "                count[n] = 0\n",
    "            count[n] += 1\n",
    "        keys = list(count.keys())\n",
    "        keys.sort()\n",
    "        vals = list(count.values())\n",
    "        if len(keys) != value:\n",
    "            if keys[0] != 0:\n",
    "                return 0\n",
    "            for i in range(len(keys) -1):\n",
    "                if keys[i] + 1 != keys[i+1]:\n",
    "                    return keys[i] + 1\n",
    "            return len(keys)\n",
    "        m = min(vals)\n",
    "        for i in range(len(keys)):\n",
    "            if count[keys[i]] == m:\n",
    "                return value * m + keys[i]"
   ]
  }
 ],
 "metadata": {
  "kernelspec": {
   "display_name": "Python 3 (ipykernel)",
   "language": "python",
   "name": "python3"
  },
  "language_info": {
   "codemirror_mode": {
    "name": "ipython",
    "version": 3
   },
   "file_extension": ".py",
   "mimetype": "text/x-python",
   "name": "python",
   "nbconvert_exporter": "python",
   "pygments_lexer": "ipython3",
   "version": "3.12.5"
  }
 },
 "nbformat": 4,
 "nbformat_minor": 5
}
