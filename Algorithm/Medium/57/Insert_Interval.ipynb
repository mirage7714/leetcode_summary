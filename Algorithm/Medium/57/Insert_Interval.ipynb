{
 "cells": [
  {
   "cell_type": "markdown",
   "metadata": {},
   "source": [
    "# 本題要找出將新的list加入原有的list後，再進行merge interval\n",
    "原題目連結: https://leetcode.com/problems/insert-interval/  \n",
    "\n",
    "Given a set of non-overlapping intervals, insert a new interval into the intervals (merge if necessary).  \n",
    "You may assume that the intervals were initially sorted according to their start times.  \n",
    "\n",
    "範例:  \n",
    "Ex1:  \n",
    "Input: intervals = [[1,3],[6,9]], newInterval = [2,5]  \n",
    "Output: [[1,5],[6,9]]  \n",
    "\n",
    "Ex2:  \n",
    "Input: intervals = [[1,2],[3,5],[6,7],[8,10],[12,16]], newInterval = [4,8]  \n",
    "Output: [[1,2],[3,10],[12,16]]  \n",
    "Explanation: Because the new interval [4,8] overlaps with [3,5],[6,7],[8,10].  \n",
    "\n",
    "Ex3:  \n",
    "Input: intervals = [], newInterval = [5,7]  \n",
    "Output: [[5,7]]  \n",
    "\n",
    "Ex4:  \n",
    "Input: intervals = [[1,5]], newInterval = [2,3]  \n",
    "Output: [[1,5]]  \n",
    "\n",
    "Ex5:  \n",
    "Input: intervals = [[1,5]], newInterval = [2,7]  \n",
    "Output: [[1,7]]"
   ]
  },
  {
   "cell_type": "markdown",
   "metadata": {},
   "source": [
    "* 解題想法:  \n",
    "這題跟merge interval其實做法類似，首先將要插入的list加入需要進行merge的list後，重新進行排序，接著在進行merge interval的過程，就是題目要求的答案"
   ]
  },
  {
   "cell_type": "code",
   "execution_count": null,
   "metadata": {},
   "outputs": [],
   "source": [
    "class Solution:\n",
    "    def insert(self, intervals: List[List[int]], newInterval: List[int]) -> List[List[int]]:\n",
    "        intervals.append(newInterval)\n",
    "        intervals.sort()\n",
    "        while True:\n",
    "            s = len(intervals)\n",
    "            for m in range(len(intervals)-1):\n",
    "                if intervals[m][1] >= intervals[m+1][0]:\n",
    "                    if intervals[m][1] >= intervals[m+1][1]:\n",
    "                        intervals.pop(m+1)\n",
    "                        break\n",
    "                    else:\n",
    "                        intervals[m] = [intervals[m][0], intervals[m+1][1]]\n",
    "                        intervals.pop(m+1)\n",
    "                        break\n",
    "            if len(intervals) == s:\n",
    "                break\n",
    "        return intervals"
   ]
  }
 ],
 "metadata": {
  "kernelspec": {
   "display_name": "Python 3",
   "language": "python",
   "name": "python3"
  },
  "language_info": {
   "codemirror_mode": {
    "name": "ipython",
    "version": 3
   },
   "file_extension": ".py",
   "mimetype": "text/x-python",
   "name": "python",
   "nbconvert_exporter": "python",
   "pygments_lexer": "ipython3",
   "version": "3.7.6"
  }
 },
 "nbformat": 4,
 "nbformat_minor": 4
}
