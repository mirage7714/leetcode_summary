{
 "cells": [
  {
   "cell_type": "markdown",
   "metadata": {},
   "source": [
    "# 本題要找出將字串內的大小寫轉換後有多少種組合\n",
    "原題目連結: https://leetcode.com/problems/letter-case-permutation/  \n",
    "\n",
    "Given a string S, we can transform every letter individually to be lowercase or uppercase to create another string.  \n",
    "\n",
    "Return a list of all possible strings we could create. You can return the output in any order.  \n",
    "\n",
    "範例:  \n",
    "Ex1:  \n",
    "Input: S = \"a1b2\"  \n",
    "Output: [\"a1b2\",\"a1B2\",\"A1b2\",\"A1B2\"]  \n",
    "\n",
    "Ex2:  \n",
    "Input: S = \"3z4\"  \n",
    "Output: [\"3z4\",\"3Z4\"]  \n",
    "\n",
    "Ex3:  \n",
    "Input: S = \"12345\"  \n",
    "Output: [\"12345\"]  \n",
    "\n",
    "Ex4:  \n",
    "Input: S = \"0\"  \n",
    "Output: [\"0\"]"
   ]
  },
  {
   "cell_type": "markdown",
   "metadata": {},
   "source": [
    "* 解題想法:  \n",
    "依據題目的要求，在題目中有的字母都要轉換成大小寫的組合，因此建立了一個迴圈來判斷出現的字串是否為英文字母，若是英文字母則將大小寫的組合都加入list中，最後如果list都為空，則代表題目提供的字串都是數字組合，因此再將原題目加入結果的list中"
   ]
  },
  {
   "cell_type": "code",
   "execution_count": null,
   "metadata": {},
   "outputs": [],
   "source": [
    "class Solution:\n",
    "    def letterCasePermutation(self, S: str) -> List[str]:\n",
    "        result = []\n",
    "        chars = []\n",
    "        for n in range(len(S)):\n",
    "            if S[n].isalpha():\n",
    "                if len(result) > 0:\n",
    "                    for r in result:\n",
    "                        p1 = r[:n]\n",
    "                        p2 = r[n+1:]\n",
    "                        w1 = p1+S[n].lower() + p2\n",
    "                        w2 = p1+S[n].upper() + p2\n",
    "                        if w1 not in result:\n",
    "                            result.append(w1)\n",
    "                        if w2 not in result:\n",
    "                            result.append(w2)\n",
    "                else:\n",
    "                    p1 = S[:n]\n",
    "                    p2 = S[n+1:]\n",
    "                    w1 = p1+S[n].lower() + p2\n",
    "                    w2 = p1+S[n].upper() + p2\n",
    "                    if w1 not in result:\n",
    "                        result.append(w1)\n",
    "                    if w2 not in result:\n",
    "                        result.append(w2)\n",
    "                chars.append(S[n])\n",
    "        if len(chars) == 0:\n",
    "            result.append(S)\n",
    "        return result"
   ]
  },
  {
   "cell_type": "markdown",
   "metadata": {},
   "source": [
    "* 解題想法(20220330新增):  \n",
    "首先建立一個dict來存放出現的字串，接著用迴圈從頭開始檢查出現的字是否為字母或是數字，如果為數字，則將前一層的所有字串都加上這個字後放入新的一層list中，如果為字母，則將前一層的所有字串都加上大寫與小寫的組合後放入新的一層，最後回傳最後一層的list就是答案"
   ]
  },
  {
   "cell_type": "code",
   "execution_count": null,
   "metadata": {},
   "outputs": [],
   "source": [
    "class Solution:\n",
    "    def letterCasePermutation(self, s: str) -> List[str]:\n",
    "        result = {}\n",
    "        index = 0\n",
    "        digits = ['0','1','2','3','4','5','6','7','8','9']\n",
    "        for c in s:\n",
    "            current = index + 1\n",
    "            temp = []\n",
    "            if c not in digits:\n",
    "                if len(result) == 0:\n",
    "                    temp.append(c.lower())\n",
    "                    temp.append(c.upper())\n",
    "                else:\n",
    "                    for word in result[index]:\n",
    "                        temp.append(word+ c.lower())\n",
    "                        temp.append(word + c.upper())\n",
    "            else:\n",
    "                if len(result) == 0:\n",
    "                    temp.append(c)\n",
    "                else:\n",
    "                    for word in result[index]:\n",
    "                        temp.append(word + c)\n",
    "            result[current] = temp\n",
    "            index = current\n",
    "        return result[index]"
   ]
  }
 ],
 "metadata": {
  "kernelspec": {
   "display_name": "Python 3",
   "language": "python",
   "name": "python3"
  },
  "language_info": {
   "codemirror_mode": {
    "name": "ipython",
    "version": 3
   },
   "file_extension": ".py",
   "mimetype": "text/x-python",
   "name": "python",
   "nbconvert_exporter": "python",
   "pygments_lexer": "ipython3",
   "version": "3.7.4"
  }
 },
 "nbformat": 4,
 "nbformat_minor": 4
}
