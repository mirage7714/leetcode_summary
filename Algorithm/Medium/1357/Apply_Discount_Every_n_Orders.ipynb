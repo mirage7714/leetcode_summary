{
 "cells": [
  {
   "cell_type": "markdown",
   "metadata": {},
   "source": [
    "# 本題要建立一個函數，來計算每個客人的購買金額\n",
    "原題目連結：https://leetcode.com/problems/apply-discount-every-n-orders/  \n",
    "\n",
    "There is a sale in a supermarket, there will be a discount every n customer.  \n",
    "There are some products in the supermarket where the id of the i-th product is products[i] and the price per unit of this product is prices[i].  \n",
    "The system will count the number of customers and when the n-th customer arrive he/she will have a discount on the bill. (i.e if the cost is x the new cost is x - (discount * x) / 100). Then the system will start counting customers again.  \n",
    "The customer orders a certain amount of each product where product[i] is the id of the i-th product the customer ordered and amount[i] is the number of units the customer ordered of that product.  \n",
    "\n",
    "Implement the Cashier class:    \n",
    "\n",
    "Cashier(int n, int discount, int[] products, int[] prices) Initializes the object with n, the discount, the products and their prices.  \n",
    "double getBill(int[] product, int[] amount) returns the value of the bill and apply the discount if needed. Answers within 10^-5 of the actual value will be accepted as correct.  \n",
    "\n",
    "範例：  \n",
    "Ex1:  \n",
    "Input  \n",
    "[\"Cashier\",\"getBill\",\"getBill\",\"getBill\",\"getBill\",\"getBill\",\"getBill\",\"getBill\"]  \n",
    "[[3,50,[1,2,3,4,5,6,7],[100,200,300,400,300,200,100]],[[1,2],[1,2]],[[3,7],[10,10]],[[1,2,3,4,5,6,7],[1,1,1,1,1,1,1]],[[4],[10]],[[7,3],[10,10]],[[7,5,3,1,6,4,2],[10,10,10,9,9,9,7]],[[2,3,5],[5,3,2]]]  \n",
    "Output  \n",
    "[null,500.0,4000.0,800.0,4000.0,4000.0,7350.0,2500.0]  \n",
    "Explanation  \n",
    "Cashier cashier = new Cashier(3,50,[1,2,3,4,5,6,7],[100,200,300,400,300,200,100]);  \n",
    "cashier.getBill([1,2],[1,2]);                        // return 500.0, bill = 1 * 100 + 2 * 200 = 500.  \n",
    "cashier.getBill([3,7],[10,10]);                      // return 4000.0  \n",
    "cashier.getBill([1,2,3,4,5,6,7],[1,1,1,1,1,1,1]);    // return 800.0, The bill was 1600.0 but as this is the third  customer, he has a discount of 50% which means his bill is only 1600 - 1600 * (50 / 100) = 800.  \n",
    "cashier.getBill([4],[10]);                           // return 4000.0  \n",
    "cashier.getBill([7,3],[10,10]);                      // return 4000.0  \n",
    "cashier.getBill([7,5,3,1,6,4,2],[10,10,10,9,9,9,7]); // return 7350.0, Bill was 14700.0 but as the system counted three more customers, he will have a 50% discount and the bill becomes 7350.0  \n",
    "cashier.getBill([2,3,5],[5,3,2]);                    // return 2500.0  "
   ]
  },
  {
   "cell_type": "markdown",
   "metadata": {},
   "source": [
    "* 解題想法：  \n",
    "依題目說明，首先要計算出每個客戶總共的購買金額，並且紀錄現在的客人是第幾個進店的  \n",
    "- 首先使用一個dict來建立產品跟價格的關聯\n",
    "- 接著建立計算價格的公式\n",
    "- 使用一個list來儲存進店人數，如果list長度為折扣人數的n倍，則該客戶需要有折扣\n",
    "- 折扣公式依照題目提供的為x - (discount * x ) / 100"
   ]
  },
  {
   "cell_type": "code",
   "execution_count": null,
   "metadata": {},
   "outputs": [],
   "source": [
    "class Cashier:\n",
    "\n",
    "    def __init__(self, n: int, discount: int, products: List[int], prices: List[int]):\n",
    "        self.discount = discount\n",
    "        self.count = []\n",
    "        self.limit = n\n",
    "        self.freq = {}\n",
    "        for n in range(len(products)):\n",
    "            self.freq[products[n]] = prices[n]\n",
    "\n",
    "    def getBill(self, product: List[int], amount: List[int]) -> float:\n",
    "        self.count.append(1)\n",
    "        total = 0\n",
    "        for n in range(len(product)):\n",
    "            total += self.freq[product[n]] * amount[n]\n",
    "        if len(self.count) % self.limit == 0:\n",
    "            total -= (self.discount) * total / 100\n",
    "        return total\n",
    "\n",
    "\n",
    "# Your Cashier object will be instantiated and called as such:\n",
    "# obj = Cashier(n, discount, products, prices)\n",
    "# param_1 = obj.getBill(product,amount)"
   ]
  }
 ],
 "metadata": {
  "kernelspec": {
   "display_name": "Python 3",
   "language": "python",
   "name": "python3"
  },
  "language_info": {
   "codemirror_mode": {
    "name": "ipython",
    "version": 3
   },
   "file_extension": ".py",
   "mimetype": "text/x-python",
   "name": "python",
   "nbconvert_exporter": "python",
   "pygments_lexer": "ipython3",
   "version": "3.7.6"
  }
 },
 "nbformat": 4,
 "nbformat_minor": 4
}
