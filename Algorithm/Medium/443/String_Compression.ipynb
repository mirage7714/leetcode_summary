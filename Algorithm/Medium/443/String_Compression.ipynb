{
 "cells": [
  {
   "cell_type": "markdown",
   "metadata": {},
   "source": [
    "# 本題要將array中的字母進行統計後加回原本的array中\n",
    "原題目連結: https://leetcode.com/problems/string-compression/  \n",
    "\n",
    "Given an array of characters chars, compress it using the following algorithm:  \n",
    "\n",
    "Begin with an empty string s. For each group of consecutive repeating characters in chars:  \n",
    "\n",
    "If the group's length is 1, append the character to s.  \n",
    "Otherwise, append the character followed by the group's length.  \n",
    "The compressed string s should not be returned separately, but instead be stored in the input character array chars. Note that group lengths that are 10 or longer will be split into multiple characters in chars.  \n",
    "\n",
    "After you are done modifying the input array, return the new length of the array.  \n",
    "\n",
    "範例:  \n",
    "Ex1:  \n",
    "Input: chars = [\"a\",\"a\",\"b\",\"b\",\"c\",\"c\",\"c\"]  \n",
    "Output: Return 6, and the first 6 characters of the input array should be: [\"a\",\"2\",\"b\",\"2\",\"c\",\"3\"]  \n",
    "Explanation: The groups are \"aa\", \"bb\", and \"ccc\". This compresses to \"a2b2c3\".  \n",
    "\n",
    "Ex2:  \n",
    "Input: chars = [\"a\"]  \n",
    "Output: Return 1, and the first character of the input array should be: [\"a\"]  \n",
    "Explanation: The only group is \"a\", which remains uncompressed since it's a single character.  \n",
    "\n",
    "Ex3:  \n",
    "Input: chars = [\"a\",\"b\",\"b\",\"b\",\"b\",\"b\",\"b\",\"b\",\"b\",\"b\",\"b\",\"b\",\"b\"]  \n",
    "Output: Return 4, and the first 4 characters of the input array should be: [\"a\",\"b\",\"1\",\"2\"].  \n",
    "Explanation: The groups are \"a\" and \"bbbbbbbbbbbb\". This compresses to \"ab12\".  \n",
    "\n",
    "Ex4:  \n",
    "Input: chars = [\"a\",\"a\",\"a\",\"b\",\"b\",\"a\",\"a\"]  \n",
    "Output: Return 6, and the first 6 characters of the input array should be: [\"a\",\"3\",\"b\",\"2\",\"a\",\"2\"].  \n",
    "Explanation: The groups are \"aaa\", \"bb\", and \"aa\". This compresses to \"a3b2a2\". Note that each group is independent even if two groups have the same character.  "
   ]
  },
  {
   "cell_type": "markdown",
   "metadata": {},
   "source": [
    "* 解題想法:  \n",
    "依據題目說明，需要將原本的list進行改寫，因此需要先算出一個段落內的字母以及數量，並加入一個暫存的list中，最後將暫存的list中所有數值拿出來檢視，如果等於1則只加入字母，如果介於2~9之間則不用做任何修正，只需將字母與數字分別加入list中，如果大於10則須將數字拆成個位數加入"
   ]
  },
  {
   "cell_type": "code",
   "execution_count": null,
   "metadata": {},
   "outputs": [],
   "source": [
    "class Solution:\n",
    "    def compress(self, chars: List[str]) -> int:\n",
    "        result = []\n",
    "        size = len(chars)\n",
    "        temp = 0\n",
    "        if len(chars) > 1: \n",
    "            for n in range(len(chars)-1):\n",
    "                temp += 1\n",
    "                if chars[n] != chars[n+1]:\n",
    "                    result.append([chars[n], temp])\n",
    "                    temp = 0\n",
    "            if chars[-1] == chars[-2]:\n",
    "                result.append([chars[-1], temp+1])\n",
    "            else:\n",
    "                result.append([chars[-1],1])\n",
    "            chars.clear()\n",
    "            for r in result:\n",
    "                chars.append(r[0])\n",
    "                if r[1] > 1:\n",
    "                    if r[1] < 10:\n",
    "                        chars.append(str(r[1]))\n",
    "                    else:\n",
    "                        sr = str(r[1])\n",
    "                        for l in range(len(sr)):\n",
    "                            chars.append(sr[l])"
   ]
  }
 ],
 "metadata": {
  "kernelspec": {
   "display_name": "Python 3",
   "language": "python",
   "name": "python3"
  },
  "language_info": {
   "codemirror_mode": {
    "name": "ipython",
    "version": 3
   },
   "file_extension": ".py",
   "mimetype": "text/x-python",
   "name": "python",
   "nbconvert_exporter": "python",
   "pygments_lexer": "ipython3",
   "version": "3.7.4"
  }
 },
 "nbformat": 4,
 "nbformat_minor": 2
}
