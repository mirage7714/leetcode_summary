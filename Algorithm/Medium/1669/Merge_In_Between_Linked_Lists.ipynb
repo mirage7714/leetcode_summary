{
 "cells": [
  {
   "cell_type": "markdown",
   "id": "15817a56-b631-4706-82b3-bc484fb5b436",
   "metadata": {},
   "source": [
    "# 本題要將兩個linked list結合在一起 (\\#LinkedList )\n",
    "原題目連結: https://leetcode.com/problems/merge-in-between-linked-lists/description/?envType=daily-question&envId=2024-03-20\n",
    "\n",
    "You are given two linked lists: list1 and list2 of sizes n and m respectively.  \n",
    "Remove list1's nodes from the ath node to the bth node, and put list2 in their place.  \n",
    "The blue edges and nodes in the following figure indicate the result:  \n",
    "Build the result list and return its head.  \n",
    "\n",
    "範例:  \n",
    "Ex1:  \n",
    "Input: list1 = [10,1,13,6,9,5], a = 3, b = 4, list2 = [1000000,1000001,1000002]  \n",
    "Output: [10,1,13,1000000,1000001,1000002,5]  \n",
    "Explanation: We remove the nodes 3 and 4 and put the entire list2 in their place. The blue edges and nodes in the above figure indicate the result.  \n",
    "\n",
    "Ex2:  \n",
    "Input: list1 = [0,1,2,3,4,5,6], a = 2, b = 5, list2 = [1000000,1000001,1000002,1000003,1000004]  \n",
    "Output: [0,1,1000000,1000001,1000002,1000003,1000004,6]  \n",
    "Explanation: The blue edges and nodes in the above figure indicate the result."
   ]
  },
  {
   "cell_type": "markdown",
   "id": "ea55aa22-6386-45ab-acf9-cf9e94191f79",
   "metadata": {},
   "source": [
    "* 解題想法:  \n",
    "首先用一個list作為暫存，找出list1需要切換的node以及需要保留的點，接著用一個新的linked list將list1中藥保留的node串起來後接上list2，最後將list1剩下的node接上list2的最後面就是答案"
   ]
  },
  {
   "cell_type": "code",
   "execution_count": null,
   "id": "8c4bc63e-4aca-426d-a2fb-de1e4dd6f8f1",
   "metadata": {},
   "outputs": [],
   "source": [
    "# Definition for singly-linked list.\n",
    "# class ListNode:\n",
    "#     def __init__(self, val=0, next=None):\n",
    "#         self.val = val\n",
    "#         self.next = next\n",
    "class Solution:\n",
    "    def mergeInBetween(self, list1: ListNode, a: int, b: int, list2: ListNode) -> ListNode:\n",
    "        temp = list1\n",
    "        stack = []\n",
    "        res = ListNode()\n",
    "        t = res\n",
    "        while temp:\n",
    "            n = ListNode()\n",
    "            n.val = temp.val\n",
    "            stack.append(n)\n",
    "            temp = temp.next\n",
    "            if len(stack) == b+1:\n",
    "                break\n",
    "        for i in range(a+1):\n",
    "            if i < a: \n",
    "                t.next = stack[i]\n",
    "            else:\n",
    "                t.next = list2\n",
    "            t = t.next\n",
    "        while t.next:\n",
    "            t = t.next\n",
    "        t.next = temp\n",
    "        return res.next"
   ]
  }
 ],
 "metadata": {
  "kernelspec": {
   "display_name": "Python 3 (ipykernel)",
   "language": "python",
   "name": "python3"
  },
  "language_info": {
   "codemirror_mode": {
    "name": "ipython",
    "version": 3
   },
   "file_extension": ".py",
   "mimetype": "text/x-python",
   "name": "python",
   "nbconvert_exporter": "python",
   "pygments_lexer": "ipython3",
   "version": "3.9.13"
  }
 },
 "nbformat": 4,
 "nbformat_minor": 5
}
