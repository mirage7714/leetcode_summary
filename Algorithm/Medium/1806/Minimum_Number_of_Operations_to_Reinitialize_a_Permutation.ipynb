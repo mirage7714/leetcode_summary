{
 "cells": [
  {
   "cell_type": "markdown",
   "metadata": {},
   "source": [
    "# 本題要找出最少經過幾次操作之後，會出現重複的array\n",
    "原題目連結: https://leetcode.com/problems/minimum-number-of-operations-to-reinitialize-a-permutation/  \n",
    "\n",
    "You are given an even integer n​​​​​​. You initially have a permutation perm of size n​​ where perm[i] == i​ (0-indexed)​​​​.  \n",
    "\n",
    "In one operation, you will create a new array arr, and for each i:  \n",
    "\n",
    "If i % 2 == 0, then arr[i] = perm[i / 2].  \n",
    "If i % 2 == 1, then arr[i] = perm[n / 2 + (i - 1) / 2].  \n",
    "You will then assign arr​​​​ to perm.  \n",
    "\n",
    "Return the minimum non-zero number of operations you need to perform on perm to return the permutation to its initial value.  \n",
    "\n",
    "範例:  \n",
    "Ex1:  \n",
    "Input: n = 2  \n",
    "Output: 1  \n",
    "Explanation: perm = [0,1] initially.  \n",
    "After the 1st operation, perm = [0,1]  \n",
    "So it takes only 1 operation.  \n",
    "\n",
    "Ex2:  \n",
    "Input: n = 4  \n",
    "Output: 2  \n",
    "Explanation: perm = [0,1,2,3] initially.  \n",
    "After the 1st operation, perm = [0,2,1,3]  \n",
    "After the 2nd operation, perm = [0,1,2,3]  \n",
    "So it takes only 2 operations.  \n",
    "\n",
    "Ex3:  \n",
    "Input: n = 6  \n",
    "Output: 4"
   ]
  },
  {
   "cell_type": "markdown",
   "metadata": {},
   "source": [
    "* 解題想法:  \n",
    "依題目說明，要找出最少經過幾次循環之後會出現重複的list，因此先建立一個list來存放出現過的值，接著依題目說明對list內元素進行操作，並比對操作後的結果是否有出現過，如果沒有則繼續進行操作，直到有出現的時候則中斷迴圈並回傳操作的次數"
   ]
  },
  {
   "cell_type": "code",
   "execution_count": null,
   "metadata": {},
   "outputs": [],
   "source": [
    "class Solution:\n",
    "    def reinitializePermutation(self, n: int) -> int:\n",
    "        result = 0\n",
    "        target = []\n",
    "        val = []\n",
    "        for m in range(n):\n",
    "            target.append(m)\n",
    "            val.append(target)\n",
    "        while True:\n",
    "            temp = []\n",
    "            result += 1\n",
    "            for t in range(len(target)):\n",
    "                if t % 2 == 0:\n",
    "                    temp.append(target[int(t/2)])\n",
    "                else:\n",
    "                    temp.append(target[int(n/2 + (t-1)/2)])\n",
    "            if temp in val:\n",
    "                break\n",
    "            else:\n",
    "                target = temp\n",
    "                val.append(target)\n",
    "        return result"
   ]
  }
 ],
 "metadata": {
  "kernelspec": {
   "display_name": "Python 3",
   "language": "python",
   "name": "python3"
  },
  "language_info": {
   "codemirror_mode": {
    "name": "ipython",
    "version": 3
   },
   "file_extension": ".py",
   "mimetype": "text/x-python",
   "name": "python",
   "nbconvert_exporter": "python",
   "pygments_lexer": "ipython3",
   "version": "3.7.4"
  }
 },
 "nbformat": 4,
 "nbformat_minor": 2
}
