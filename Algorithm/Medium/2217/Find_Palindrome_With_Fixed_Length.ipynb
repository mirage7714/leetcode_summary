{
 "cells": [
  {
   "cell_type": "markdown",
   "id": "d567b64a-4b9c-484b-96ae-3460c7a81bca",
   "metadata": {},
   "source": [
    "# 本題要找出指定排名的palindrome數字是多少 (\\#Array, \\#Math )\n",
    "原題目連結: https://leetcode.com/problems/find-palindrome-with-fixed-length/  \n",
    "\n",
    "Given an integer array queries and a positive integer intLength, return an array answer where answer[i] is either the queries[i]th smallest positive palindrome of length intLength or -1 if no such palindrome exists.  \n",
    "\n",
    "A palindrome is a number that reads the same backwards and forwards. Palindromes cannot have leading zeros.  \n",
    "\n",
    "範例:  \n",
    "Ex1:  \n",
    "Input: queries = [1,2,3,4,5,90], intLength = 3  \n",
    "Output: [101,111,121,131,141,999]  \n",
    "Explanation:  \n",
    "The first few palindromes of length 3 are:  \n",
    "101, 111, 121, 131, 141, 151, 161, 171, 181, 191, 202, ...  \n",
    "The 90th palindrome of length 3 is 999.  \n",
    "\n",
    "Ex2:  \n",
    "Input: queries = [2,4,6], intLength = 4  \n",
    "Output: [1111,1331,1551]  \n",
    "Explanation:  \n",
    "The first six palindromes of length 4 are:  \n",
    "1001, 1111, 1221, 1331, 1441, and 1551.  "
   ]
  },
  {
   "cell_type": "markdown",
   "id": "3f552ab9-6d9a-4965-86d1-24c98cc9d2a8",
   "metadata": {},
   "source": [
    "* 解題想法:  \n",
    "首先找出最大可出現的數字是多少，接著建立一個dict作為暫存，接著用迴圈開始走訪query，如果當數字沒有出現過，則需要尋找該位數的值:  \n",
    "首先找出起始值，起始數字為10 ^ 長度一半-1的值，接著加上該排名-1後可以得到前半段的字串，接著需要產出字串的後半段然後轉為int後放入結果與暫存中，最後回傳結果就是答案"
   ]
  },
  {
   "cell_type": "code",
   "execution_count": null,
   "id": "bed64724-d97e-4834-a20f-8588cfbc5d5e",
   "metadata": {},
   "outputs": [],
   "source": [
    "class Solution:\n",
    "    def kthPalindrome(self, queries: List[int], intLength: int) -> List[int]:\n",
    "        res = []\n",
    "        temp = {}\n",
    "        d = intLength // 2\n",
    "        if intLength % 2 != 0:\n",
    "            d += 1\n",
    "        m = 10 ** (d-1) * 9\n",
    "        for q in queries:\n",
    "            if q > m:\n",
    "                res.append(-1)\n",
    "            else:\n",
    "                if q not in temp.keys():\n",
    "                    h = ''\n",
    "                    t = ''\n",
    "                    base = 10 ** (d-1)\n",
    "                    base += q -1\n",
    "                    h = str(base)\n",
    "                    for i in range(intLength - len(h)):\n",
    "                        t = h[i] + t\n",
    "                    temp[q] = int(h+t)\n",
    "                res.append(temp[q])\n",
    "        return res"
   ]
  }
 ],
 "metadata": {
  "kernelspec": {
   "display_name": "Python 3 (ipykernel)",
   "language": "python",
   "name": "python3"
  },
  "language_info": {
   "codemirror_mode": {
    "name": "ipython",
    "version": 3
   },
   "file_extension": ".py",
   "mimetype": "text/x-python",
   "name": "python",
   "nbconvert_exporter": "python",
   "pygments_lexer": "ipython3",
   "version": "3.9.13"
  }
 },
 "nbformat": 4,
 "nbformat_minor": 5
}
