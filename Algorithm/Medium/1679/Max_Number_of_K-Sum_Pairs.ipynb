{
 "cells": [
  {
   "cell_type": "markdown",
   "metadata": {},
   "source": [
    "# 本題要找出共有幾對組合可以達到題目要求的數字\n",
    "原題目連結: https://leetcode.com/problems/max-number-of-k-sum-pairs/  \n",
    "\n",
    "You are given an integer array nums and an integer k.  \n",
    "\n",
    "In one operation, you can pick two numbers from the array whose sum equals k and remove them from the array.  \n",
    "\n",
    "Return the maximum number of operations you can perform on the array.  \n",
    "\n",
    "範例:  \n",
    "Ex1:  \n",
    "Input: nums = [1,2,3,4], k = 5  \n",
    "Output: 2  \n",
    "Explanation: Starting with nums = [1,2,3,4]:  \n",
    "- Remove numbers 1 and 4, then nums = [2,3]  \n",
    "- Remove numbers 2 and 3, then nums = []  \n",
    "There are no more pairs that sum up to 5, hence a total of 2 operations.  \n",
    "\n",
    "Ex2:  \n",
    "Input: nums = [3,1,3,4,3], k = 6  \n",
    "Output: 1    \n",
    "Explanation: Starting with nums = [3,1,3,4,3]:  \n",
    "- Remove the first two 3's, then nums = [1,4,3]  \n",
    "There are no more pairs that sum up to 6, hence a total of 1 operation.  "
   ]
  },
  {
   "cell_type": "markdown",
   "metadata": {},
   "source": [
    "* 解題想法:  \n",
    "由於題目要求的要找出共有幾對組合，因此先將整個list內有多少元件進行統計並建立一個dict  \n",
    "接著用list中的每個元素進行檢查，如果組合存在則將兩個key都減一，如果兩個key的值都是大於或等於0則將配對數加1  \n",
    "最後回傳配對數"
   ]
  },
  {
   "cell_type": "code",
   "execution_count": null,
   "metadata": {},
   "outputs": [],
   "source": [
    "class Solution:\n",
    "    def maxOperations(self, nums: List[int], k: int) -> int:\n",
    "        count = 0\n",
    "        freq = {}\n",
    "        for n in range(len(nums)):\n",
    "            if nums[n] not in freq.keys():\n",
    "                freq[nums[n]] = 1\n",
    "            else:\n",
    "                freq[nums[n]] += 1\n",
    "        for key in nums:\n",
    "            left = k - key\n",
    "            if left in freq.keys():\n",
    "                freq[key] -= 1\n",
    "                freq[left] -= 1\n",
    "                if freq[key] >= 0 and freq[left] >= 0:\n",
    "                    count += 1\n",
    "        return count"
   ]
  }
 ],
 "metadata": {
  "kernelspec": {
   "display_name": "Python 3",
   "language": "python",
   "name": "python3"
  },
  "language_info": {
   "codemirror_mode": {
    "name": "ipython",
    "version": 3
   },
   "file_extension": ".py",
   "mimetype": "text/x-python",
   "name": "python",
   "nbconvert_exporter": "python",
   "pygments_lexer": "ipython3",
   "version": "3.7.4"
  }
 },
 "nbformat": 4,
 "nbformat_minor": 2
}
