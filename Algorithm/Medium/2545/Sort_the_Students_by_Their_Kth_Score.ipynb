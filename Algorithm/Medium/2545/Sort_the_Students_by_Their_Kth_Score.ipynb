{
 "cells": [
  {
   "cell_type": "markdown",
   "metadata": {},
   "source": [
    "# 本題要用學生的第k的分數進行排序 (\\#Array, \\#Heap)\n",
    "原題目連結: https://leetcode.com/problems/sort-the-students-by-their-kth-score/description/  \n",
    "\n",
    "There is a class with m students and n exams. You are given a 0-indexed m x n integer matrix score, where each row represents one student and score[i][j] denotes the score the ith student got in the jth exam. The matrix score contains distinct integers only.  \n",
    "You are also given an integer k. Sort the students (i.e., the rows of the matrix) by their scores in the kth (0-indexed) exam from the highest to the lowest.  \n",
    "Return the matrix after sorting it.  \n",
    "\n",
    "範例:  \n",
    "Ex1:  \n",
    "Input: score = [[10,6,9,1],[7,5,11,2],[4,8,3,15]], k = 2  \n",
    "Output: [[7,5,11,2],[10,6,9,1],[4,8,3,15]]  \n",
    "Explanation: In the above diagram, S denotes the student, while E denotes the exam.  \n",
    "- The student with index 1 scored 11 in exam 2, which is the highest score, so they got first place.  \n",
    "- The student with index 0 scored 9 in exam 2, which is the second highest score, so they got second place. \n",
    "- The student with index 2 scored 3 in exam 2, which is the lowest score, so they got third place.  \n",
    "\n",
    "Ex2:  \n",
    "Input: score = [[3,4],[5,6]], k = 0  \n",
    "Output: [[5,6],[3,4]]  \n",
    "Explanation: In the above diagram, S denotes the student, while E denotes the exam.  \n",
    "- The student with index 1 scored 5 in exam 0, which is the highest score, so they got first place.  \n",
    "- The student with index 0 scored 3 in exam 0, which is the lowest score, so they got second place."
   ]
  },
  {
   "cell_type": "markdown",
   "metadata": {},
   "source": [
    "* 解題想法:  \n",
    "首先建立一個heap，並將第k個分數作為排序標準放入heap中，最後從heap中逐個取出後重新放回list，最後回傳新的list就是答案"
   ]
  },
  {
   "cell_type": "code",
   "execution_count": null,
   "metadata": {},
   "outputs": [],
   "source": [
    "import heapq\n",
    "\n",
    "class Solution:\n",
    "    def sortTheStudents(self, score: List[List[int]], k: int) -> List[List[int]]:\n",
    "        temp = []\n",
    "        res = []\n",
    "        heapq.heapify(temp)\n",
    "        for s in score:\n",
    "            heapq.heappush(temp, [-s[k], s])\n",
    "        while temp:\n",
    "            n = heappop(temp)\n",
    "            res.append(n[1])\n",
    "        return res"
   ]
  }
 ],
 "metadata": {
  "kernelspec": {
   "display_name": "Python 3",
   "language": "python",
   "name": "python3"
  },
  "language_info": {
   "codemirror_mode": {
    "name": "ipython",
    "version": 3
   },
   "file_extension": ".py",
   "mimetype": "text/x-python",
   "name": "python",
   "nbconvert_exporter": "python",
   "pygments_lexer": "ipython3",
   "version": "3.7.6"
  }
 },
 "nbformat": 4,
 "nbformat_minor": 4
}
