{
 "cells": [
  {
   "cell_type": "markdown",
   "metadata": {},
   "source": [
    "# 本題要找出在給定整數n的情況下，每個範圍內的乘積為多少 (\\#Array)\n",
    "原題目連結: https://leetcode.com/problems/range-product-queries-of-powers/  \n",
    "\n",
    "Given a positive integer n, there exists a 0-indexed array called powers, composed of the minimum number of powers of 2 that sum to n. The array is sorted in non-decreasing order, and there is only one way to form the array.  \n",
    "\n",
    "You are also given a 0-indexed 2D integer array queries, where queries[i] = [lefti, righti]. Each queries[i] represents a query where you have to find the product of all powers[j] with lefti <= j <= righti.  \n",
    "\n",
    "Return an array answers, equal in length to queries, where answers[i] is the answer to the ith query. Since the answer to the ith query may be too large, each answers[i] should be returned modulo 109 + 7.  \n",
    "\n",
    "範例:  \n",
    "Ex1:  \n",
    "Input: n = 15, queries = [[0,1],[2,2],[0,3]]  \n",
    "Output: [2,4,64]  \n",
    "Explanation:  \n",
    "For n = 15, powers = [1,2,4,8]. It can be shown that powers cannot be a smaller size.  \n",
    "Answer to 1st query: powers[0] * powers[1] = 1 * 2 = 2.  \n",
    "Answer to 2nd query: powers[2] = 4.  \n",
    "Answer to 3rd query: powers[0] * powers[1] * powers[2] * powers[3] = 1 * 2 * 4 * 8 = 64.  \n",
    "Each answer modulo 109 + 7 yields the same answer, so [2,4,64] is returned.  \n",
    "\n",
    "Ex2:  \n",
    "Input: n = 2, queries = [[0,0]]  \n",
    "Output: [2]  \n",
    "Explanation:  \n",
    "For n = 2, powers = [2].  \n",
    "The answer to the only query is powers[0] = 2. The answer modulo 109 + 7 is the same, so [2] is returned."
   ]
  },
  {
   "cell_type": "markdown",
   "metadata": {},
   "source": [
    "* 解題想法:  \n",
    "首先找出n的組成有多少，就是把n轉成二進位後，將每個為1的bit取出並放入一個list中，接著從queries中逐個計算每個範圍的乘積為多少，並取mod後放入另一個list，最後回傳這個list作為答案"
   ]
  },
  {
   "cell_type": "code",
   "execution_count": null,
   "metadata": {},
   "outputs": [],
   "source": [
    "class Solution:\n",
    "    def productQueries(self, n: int, queries: List[List[int]]) -> List[int]:\n",
    "        b = bin(n)[2:]\n",
    "        res = []\n",
    "        p = []\n",
    "        s = 0\n",
    "        for i in range(len(b)-1, -1, -1):\n",
    "            if b[i] == '1':\n",
    "                p.append(pow(2, s))\n",
    "            s += 1\n",
    "        for q in queries:\n",
    "            t = 1\n",
    "            for m in range(q[0], q[1] + 1):\n",
    "                t *= p[m]\n",
    "            res.append(t % (pow(10,9) + 7))\n",
    "        return res"
   ]
  }
 ],
 "metadata": {
  "kernelspec": {
   "display_name": "Python 3",
   "language": "python",
   "name": "python3"
  },
  "language_info": {
   "codemirror_mode": {
    "name": "ipython",
    "version": 3
   },
   "file_extension": ".py",
   "mimetype": "text/x-python",
   "name": "python",
   "nbconvert_exporter": "python",
   "pygments_lexer": "ipython3",
   "version": "3.7.4"
  }
 },
 "nbformat": 4,
 "nbformat_minor": 4
}
