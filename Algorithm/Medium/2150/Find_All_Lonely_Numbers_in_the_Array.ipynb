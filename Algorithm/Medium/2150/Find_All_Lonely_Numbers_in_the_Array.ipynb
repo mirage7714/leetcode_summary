{
 "cells": [
  {
   "cell_type": "markdown",
   "metadata": {},
   "source": [
    "# 本題要找出只有出現一次，且也沒有相鄰數字出現的值共有多少\n",
    "原題目連結: https://leetcode.com/problems/find-all-lonely-numbers-in-the-array/  \n",
    "\n",
    "You are given an integer array nums. A number x is lonely when it appears only once, and no adjacent numbers (i.e. x + 1 and x - 1) appear in the array. \n",
    "\n",
    "Return all lonely numbers in nums. You may return the answer in any order.  \n",
    "\n",
    "範例:  \n",
    "Ex1:  \n",
    "Input: nums = [10,6,5,8]   \n",
    "Output: [10,8]  \n",
    "Explanation:   \n",
    "- 10 is a lonely number since it appears exactly once and 9 and 11 does not appear in nums.  \n",
    "- 8 is a lonely number since it appears exactly once and 7 and 9 does not appear in nums.  \n",
    "- 5 is not a lonely number since 6 appears in nums and vice versa.  \n",
    "Hence, the lonely numbers in nums are [10, 8].  \n",
    "Note that [8, 10] may also be returned.  \n",
    "\n",
    "Ex2:  \n",
    "Input: nums = [1,3,5,3]  \n",
    "Output: [1,5]  \n",
    "Explanation:   \n",
    "- 1 is a lonely number since it appears exactly once and 0 and 2 does not appear in nums.  \n",
    "- 5 is a lonely number since it appears exactly once and 4 and 6 does not appear in nums.  \n",
    "- 3 is not a lonely number since it appears twice.  \n",
    "Hence, the lonely numbers in nums are [1, 5].  \n",
    "Note that [5, 1] may also be returned."
   ]
  },
  {
   "cell_type": "markdown",
   "metadata": {},
   "source": [
    "* 解題想法:  \n",
    "首先將原本的list轉換為出現次數的dict，接著開始檢查key與value，當value是1的時候則檢查key值相鄰的數值是否存在，如果都不存在則放入另一個list中，最後回傳list就是題目要找的答案"
   ]
  },
  {
   "cell_type": "code",
   "execution_count": null,
   "metadata": {},
   "outputs": [],
   "source": [
    "class Solution:\n",
    "    def findLonely(self, nums: List[int]) -> List[int]:\n",
    "        freq = {}\n",
    "        result = []\n",
    "        for n in nums:\n",
    "            if n not in freq.keys():\n",
    "                freq[n] = 1\n",
    "            else:\n",
    "                freq[n] += 1\n",
    "        for key, val in freq.items():\n",
    "            if freq[key] == 1:\n",
    "                if key-1 not in freq.keys():\n",
    "                    if key + 1 not in freq.keys():\n",
    "                        result.append(key)\n",
    "        return result"
   ]
  }
 ],
 "metadata": {
  "kernelspec": {
   "display_name": "Python 3",
   "language": "python",
   "name": "python3"
  },
  "language_info": {
   "codemirror_mode": {
    "name": "ipython",
    "version": 3
   },
   "file_extension": ".py",
   "mimetype": "text/x-python",
   "name": "python",
   "nbconvert_exporter": "python",
   "pygments_lexer": "ipython3",
   "version": "3.7.4"
  }
 },
 "nbformat": 4,
 "nbformat_minor": 4
}
