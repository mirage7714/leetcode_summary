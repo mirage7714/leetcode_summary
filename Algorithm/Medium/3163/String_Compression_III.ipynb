{
 "cells": [
  {
   "cell_type": "markdown",
   "id": "c3c1e34f-456b-4c1f-aa2a-60d55ec74ee9",
   "metadata": {},
   "source": [
    "# 本題要將字串進行壓縮 (\\#String )\n",
    "原題目連結: https://leetcode.com/problems/string-compression-iii/description/  \n",
    "\n",
    "Given a string word, compress it using the following algorithm:  \n",
    "Begin with an empty string comp. While word is not empty, use the following operation:  \n",
    "Remove a maximum length prefix of word made of a single character c repeating at most 9 times.  \n",
    "Append the length of the prefix followed by c to comp.  \n",
    "Return the string comp.  \n",
    "\n",
    "範例:  \n",
    "Ex1:  \n",
    "Input: word = \"abcde\"  \n",
    "Output: \"1a1b1c1d1e\"  \n",
    "Explanation:  \n",
    "Initially, comp = \"\". Apply the operation 5 times, choosing \"a\", \"b\", \"c\", \"d\", and \"e\" as the prefix in each operation.  \n",
    "For each prefix, append \"1\" followed by the character to comp.  \n",
    "\n",
    "Ex2:  \n",
    "Input: word = \"aaaaaaaaaaaaaabb\"  \n",
    "Output: \"9a5a2b\"  \n",
    "Explanation:  \n",
    "Initially, comp = \"\". Apply the operation 3 times, choosing \"aaaaaaaaa\", \"aaaaa\", and \"bb\" as the prefix in each operation.  \n",
    "For prefix \"aaaaaaaaa\", append \"9\" followed by \"a\" to comp.  \n",
    "For prefix \"aaaaa\", append \"5\" followed by \"a\" to comp.  \n",
    "For prefix \"bb\", append \"2\" followed by \"b\" to comp."
   ]
  },
  {
   "cell_type": "markdown",
   "id": "c7709bc6-6424-44d4-9c6f-eee2015093b4",
   "metadata": {},
   "source": [
    "* 解題想法:  \n",
    "首先用變數分別儲存目前的字母以及出現的次數，接著用迴圈開始從頭進行檢查，如果出現不同字幕的時候則將目前出現的字母以及次數更新到結果中，最後回傳壓縮過後的結果就是答案"
   ]
  },
  {
   "cell_type": "code",
   "execution_count": null,
   "id": "f3240e28-f74f-40b1-94fc-d07f01b2b7e7",
   "metadata": {},
   "outputs": [],
   "source": [
    "class Solution:\n",
    "    def compressedString(self, word: str) -> str:\n",
    "        res = ''\n",
    "        char = word[0]\n",
    "        count = 1\n",
    "        for i in range(1, len(word)):\n",
    "            w = word[i]\n",
    "            if w != char:\n",
    "                while count > 9:\n",
    "                    res += f'9{char}'\n",
    "                    count -= 9\n",
    "                res += f'{count}{char}'\n",
    "                count = 0\n",
    "                char = w\n",
    "            count += 1\n",
    "        while count > 9:\n",
    "            res += f'9{char}'\n",
    "            count -= 9\n",
    "        res += f'{count}{char}'\n",
    "        return res"
   ]
  }
 ],
 "metadata": {
  "kernelspec": {
   "display_name": "Python 3 (ipykernel)",
   "language": "python",
   "name": "python3"
  },
  "language_info": {
   "codemirror_mode": {
    "name": "ipython",
    "version": 3
   },
   "file_extension": ".py",
   "mimetype": "text/x-python",
   "name": "python",
   "nbconvert_exporter": "python",
   "pygments_lexer": "ipython3",
   "version": "3.9.13"
  }
 },
 "nbformat": 4,
 "nbformat_minor": 5
}
