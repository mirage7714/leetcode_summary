{
 "cells": [
  {
   "cell_type": "markdown",
   "metadata": {},
   "source": [
    "# 本題要找出在指定的操作下成本為多少 (\\#Array, \\#Heap)\n",
    "原題目連結: https://leetcode.com/problems/find-score-of-an-array-after-marking-all-elements/description/  \n",
    "\n",
    "You are given an array nums consisting of positive integers.  \n",
    "\n",
    "Starting with score = 0, apply the following algorithm:  \n",
    "\n",
    "Choose the smallest integer of the array that is not marked. If there is a tie, choose the one with the smallest index.  \n",
    "Add the value of the chosen integer to score.  \n",
    "Mark the chosen element and its two adjacent elements if they exist.  \n",
    "Repeat until all the array elements are marked.  \n",
    "Return the score you get after applying the above algorithm.  \n",
    "\n",
    "範例:  \n",
    "Ex1:  \n",
    "Input: nums = [2,1,3,4,5,2]  \n",
    "Output: 7  \n",
    "Explanation: We mark the elements as follows:  \n",
    "- 1 is the smallest unmarked element, so we mark it and its two adjacent elements: [2,1,3,4,5,2].  \n",
    "- 2 is the smallest unmarked element, so we mark it and its left adjacent element: [2,1,3,4,5,2].  \n",
    "- 4 is the only remaining unmarked element, so we mark it: [2,1,3,4,5,2].  \n",
    "Our score is 1 + 2 + 4 = 7.  \n",
    "\n",
    "Ex2:  \n",
    "Input: nums = [2,3,5,1,3,2]  \n",
    "Output: 5  \n",
    "Explanation: We mark the elements as follows:  \n",
    "- 1 is the smallest unmarked element, so we mark it and its two adjacent elements: [2,3,5,1,3,2].  \n",
    "- 2 is the smallest unmarked element, since there are two of them, we choose the left-most one, so we mark the one at index 0 and its right adjacent element: [2,3,5,1,3,2].  \n",
    "- 2 is the only remaining unmarked element, so we mark it: [2,3,5,1,3,2].  \n",
    "Our score is 1 + 2 + 2 = 5.  "
   ]
  },
  {
   "cell_type": "markdown",
   "metadata": {},
   "source": [
    "* 解題想法:  \n",
    "首先將nums中的數值與index一同放入heap中，接著從heap中開始取值，如果index有出現在暫存中則跳過該數值，否則就加上該數值並將index與前後各一的index放入暫存中，最後回傳加總結果就是答案"
   ]
  },
  {
   "cell_type": "code",
   "execution_count": null,
   "metadata": {},
   "outputs": [],
   "source": [
    "import heapq\n",
    "\n",
    "class Solution:\n",
    "    def findScore(self, nums: List[int]) -> int:\n",
    "        res = 0\n",
    "        temp = set()\n",
    "        n = []\n",
    "        heapq.heapify(n)\n",
    "        for i in range(len(nums)):\n",
    "            heapq.heappush(n, [nums[i], i])\n",
    "        while n:\n",
    "            l = heapq.heappop(n)\n",
    "            if l[1] not in temp:\n",
    "                res += l[0]\n",
    "                temp.add(l[1])\n",
    "                temp.add(l[1] -1)\n",
    "                temp.add(l[1] + 1)\n",
    "        return res"
   ]
  }
 ],
 "metadata": {
  "kernelspec": {
   "display_name": "Python 3",
   "language": "python",
   "name": "python3"
  },
  "language_info": {
   "codemirror_mode": {
    "name": "ipython",
    "version": 3
   },
   "file_extension": ".py",
   "mimetype": "text/x-python",
   "name": "python",
   "nbconvert_exporter": "python",
   "pygments_lexer": "ipython3",
   "version": "3.7.6"
  }
 },
 "nbformat": 4,
 "nbformat_minor": 4
}
