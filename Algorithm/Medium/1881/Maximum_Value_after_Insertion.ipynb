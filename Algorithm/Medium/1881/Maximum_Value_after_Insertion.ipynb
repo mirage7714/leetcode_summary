{
 "cells": [
  {
   "cell_type": "markdown",
   "metadata": {},
   "source": [
    "# 本題要找出在插入指定數字後最大的可能數為何\n",
    "原題目連結: https://leetcode.com/problems/maximum-value-after-insertion/  \n",
    "\n",
    "You are given a very large integer n, represented as a string,​​​​​​ and an integer digit x. The digits in n and the digit x are in the inclusive range [1, 9], and n may represent a negative number.  \n",
    "\n",
    "You want to maximize n's numerical value by inserting x anywhere in the decimal representation of n​​​​​​. You cannot insert x to the left of the negative sign.  \n",
    "\n",
    "For example, if n = 73 and x = 6, it would be best to insert it between 7 and 3, making n = 763.  \n",
    "If n = -55 and x = 2, it would be best to insert it before the first 5, making n = -255.  \n",
    "Return a string representing the maximum value of n​​​​​​ after the insertion.  \n",
    "\n",
    "範例:  \n",
    "Ex1:  \n",
    "Input: n = \"99\", x = 9  \n",
    "Output: \"999\"  \n",
    "Explanation: The result is the same regardless of where you insert 9.  \n",
    "\n",
    "Ex2:  \n",
    "Input: n = \"-13\", x = 2  \n",
    "Output: \"-123\"  \n",
    "Explanation: You can make n one of {-213, -123, -132}, and the largest of those three is -123.  "
   ]
  },
  {
   "cell_type": "markdown",
   "metadata": {},
   "source": [
    "* 解題想法:  \n",
    "依題目說明，首先判斷原本提供的數字是正數或是負數，如果是正數的話則需要求數字越大越好，如果是負數的話則是相反  \n",
    "接著用迴圈判斷每個數字與指定插入數字的大小關係，如果是要求最大數的情況，則是找出第m個數字小於x後將x插入，否則就加到最後  \n",
    "如果是最小數的情況，則是找出第m個數字大於x後將x插入，最後回傳字串"
   ]
  },
  {
   "cell_type": "code",
   "execution_count": null,
   "metadata": {},
   "outputs": [],
   "source": [
    "class Solution:\n",
    "    def maxValue(self, n: str, x: int) -> str:\n",
    "        num = int(n)\n",
    "        result = ''\n",
    "        if num > 0:\n",
    "            for m in range(len(n)):\n",
    "                if int(n[m]) < x:\n",
    "                    result = n[:m] + str(x) + n[m:]\n",
    "                    break\n",
    "            if len(result) == 0:\n",
    "                result = n + str(x)\n",
    "        else:\n",
    "            for m in range(1, len(n)):\n",
    "                if int(n[m]) > x :\n",
    "                    result = n[:m] + str(x) + n[m:]\n",
    "                    break\n",
    "            if len(result) == 0:\n",
    "                result = n + str(x)\n",
    "        return result"
   ]
  }
 ],
 "metadata": {
  "kernelspec": {
   "display_name": "Python 3",
   "language": "python",
   "name": "python3"
  },
  "language_info": {
   "codemirror_mode": {
    "name": "ipython",
    "version": 3
   },
   "file_extension": ".py",
   "mimetype": "text/x-python",
   "name": "python",
   "nbconvert_exporter": "python",
   "pygments_lexer": "ipython3",
   "version": "3.7.6"
  }
 },
 "nbformat": 4,
 "nbformat_minor": 4
}
