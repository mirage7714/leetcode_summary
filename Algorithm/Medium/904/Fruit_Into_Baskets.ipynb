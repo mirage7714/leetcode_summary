{
 "cells": [
  {
   "cell_type": "markdown",
   "id": "69501039-fbe9-4203-9d4b-d0ff32d56782",
   "metadata": {},
   "source": [
    "# 本題要找出最多可以採收多少果實 (\\#Array, \\#Sliding window)\n",
    "原題目連結: https://leetcode.com/problems/fruit-into-baskets/description/\n",
    "\n",
    "You are visiting a farm that has a single row of fruit trees arranged from left to right. The trees are represented by an integer array fruits where fruits[i] is the type of fruit the ith tree produces.  \n",
    "\n",
    "You want to collect as much fruit as possible. However, the owner has some strict rules that you must follow:  \n",
    "\n",
    "You only have two baskets, and each basket can only hold a single type of fruit. There is no limit on the amount of fruit each basket can hold.  \n",
    "Starting from any tree of your choice, you must pick exactly one fruit from every tree (including the start tree) while moving to the right. The picked fruits must fit in one of your baskets.  \n",
    "Once you reach a tree with fruit that cannot fit in your baskets, you must stop.  \n",
    "Given the integer array fruits, return the maximum number of fruits you can pick.  \n",
    "\n",
    "範例:  \n",
    "Ex1:  \n",
    "Input: fruits = [1,2,1]  \n",
    "Output: 3  \n",
    "Explanation: We can pick from all 3 trees.  \n",
    "\n",
    "Ex2:　\n",
    "Input: fruits = [0,1,2,2]  \n",
    "Output: 3  \n",
    "Explanation: We can pick from trees [1,2,2].  \n",
    "If we had started at the first tree, we would only pick from trees [0,1].  \n",
    "\n",
    "Ex3:  \n",
    "Input: fruits = [1,2,3,2,2]  \n",
    "Output: 4  \n",
    "Explanation: We can pick from trees [2,3,2,2].  \n",
    "If we had started at the first tree, we would only pick from trees [1,2]."
   ]
  },
  {
   "cell_type": "markdown",
   "id": "75e667b9-945c-4023-be38-b443c3296ed3",
   "metadata": {},
   "source": [
    "* 解題想法:  \n",
    "首先用兩個list來存放當前出現的兩個數值的index，並將目前的兩個數值存下，接著用迴圈開始往下檢查，當出現的數值與兩者都不相同時，則更新不是前一個出現的數值，並計算目前的最大長度，最後回傳最大長度就是答案"
   ]
  },
  {
   "cell_type": "code",
   "execution_count": null,
   "id": "7c03ece0-4b43-4f18-9670-aee31df6e536",
   "metadata": {},
   "outputs": [],
   "source": [
    "import heapq\n",
    "class Solution:\n",
    "    def totalFruit(self, tree: List[int]) -> int:\n",
    "        result = 0\n",
    "        t1 = tree[0]\n",
    "        c1 = [0]\n",
    "        t2 = 0\n",
    "        c2 = []\n",
    "        heapq.heapify(c1)\n",
    "        heapq.heapify(c2)\n",
    "        for m in range(1, len(tree)):\n",
    "            if tree[m] == t1:\n",
    "                heapq.heappush(c1, m)\n",
    "            elif tree[m] == t2:\n",
    "                heapq.heappush(c2, m)\n",
    "            else:\n",
    "                result = max(result, len(c1) + len(c2))\n",
    "                if tree[m-1] == t1:\n",
    "                    t2 = tree[m]\n",
    "                    if c2: \n",
    "                        l = c2[-1]\n",
    "                        while c1:\n",
    "                            n = heapq.heappop(c1)\n",
    "                            if l <n:\n",
    "                                heapq.heappush(c1, n)\n",
    "                                break\n",
    "                        c2.clear()\n",
    "                    heapq.heappush(c2,m)\n",
    "                else:\n",
    "                    t1 = tree[m]\n",
    "                    if c1: \n",
    "                        l = c1[-1]\n",
    "                        while c2:\n",
    "                            n = heapq.heappop(c2)\n",
    "                            if l < n:\n",
    "                                heapq.heappush(c2, n)\n",
    "                                break\n",
    "                        c1.clear()\n",
    "                    heapq.heappush(c1, m)\n",
    "        result = max(result, len(c1) + len(c2))\n",
    "        return result\n"
   ]
  }
 ],
 "metadata": {
  "kernelspec": {
   "display_name": "Python 3 (ipykernel)",
   "language": "python",
   "name": "python3"
  },
  "language_info": {
   "codemirror_mode": {
    "name": "ipython",
    "version": 3
   },
   "file_extension": ".py",
   "mimetype": "text/x-python",
   "name": "python",
   "nbconvert_exporter": "python",
   "pygments_lexer": "ipython3",
   "version": "3.9.13"
  }
 },
 "nbformat": 4,
 "nbformat_minor": 5
}
