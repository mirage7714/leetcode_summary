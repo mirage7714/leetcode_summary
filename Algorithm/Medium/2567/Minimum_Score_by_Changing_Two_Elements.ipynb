{
 "cells": [
  {
   "cell_type": "markdown",
   "id": "30a3499b-dae8-4f7f-afb6-3de3200b2669",
   "metadata": {},
   "source": [
    "# 本題要找出在調整兩個數值之後，最小的得分為多少 (\\#Array)\n",
    "原題目連結: https://leetcode.com/problems/minimum-score-by-changing-two-elements/description/  \n",
    "\n",
    "You are given a 0-indexed integer array nums.  \n",
    "\n",
    "The low score of nums is the minimum value of |nums[i] - nums[j]| over all 0 <= i < j < nums.length.  \n",
    "The high score of nums is the maximum value of |nums[i] - nums[j]| over all 0 <= i < j < nums.length.  \n",
    "The score of nums is the sum of the high and low scores of nums.  \n",
    "To minimize the score of nums, we can change the value of at most two elements of nums.  \n",
    "\n",
    "Return the minimum possible score after changing the value of at most two elements of nums.  \n",
    "Note that |x| denotes the absolute value of x.  \n",
    "\n",
    "範例:  \n",
    "Ex1:  \n",
    "Input: nums = [1,4,3]  \n",
    "Output: 0  \n",
    "Explanation: Change value of nums[1] and nums[2] to 1 so that nums becomes [1,1,1]. Now, the value of |nums[i] - nums[j]| is always equal to 0, so we return 0 + 0 = 0.  \n",
    "\n",
    "Ex2:  \n",
    "Input: nums = [1,4,7,8,5]  \n",
    "Output: 3  \n",
    "Explanation: Change nums[0] and nums[1] to be 6. Now nums becomes [6,6,7,8,5].  \n",
    "Our low score is achieved when i = 0 and j = 1, in which case |nums[i] - nums[j]| = |6 - 6| = 0.  \n",
    "Our high score is achieved when i = 3 and j = 4, in which case |nums[i] - nums[j]| = |8 - 5| = 3.  \n",
    "The sum of our high and low score is 3, which we can prove to be minimal.  "
   ]
  },
  {
   "cell_type": "markdown",
   "id": "b1fc0777-da50-43d5-b88d-8e0cade6e088",
   "metadata": {},
   "source": [
    "* 解題想法:  \n",
    "首先將list進行排序之後，比較三種可能的情形: 移除前兩個數值，前後各移除一個，以及移除最後兩個，找出三個情境的最小值就是答案"
   ]
  },
  {
   "cell_type": "code",
   "execution_count": null,
   "id": "7d83c82e-250f-447c-a529-ea27dea8d5aa",
   "metadata": {},
   "outputs": [],
   "source": [
    "class Solution:\n",
    "    def minimizeSum(self, nums: List[int]) -> int:\n",
    "        nums.sort()\n",
    "        return min(nums[-1]-nums[2], nums[-2] - nums[1], nums[-3] - nums[0])"
   ]
  }
 ],
 "metadata": {
  "kernelspec": {
   "display_name": "Python 3 (ipykernel)",
   "language": "python",
   "name": "python3"
  },
  "language_info": {
   "codemirror_mode": {
    "name": "ipython",
    "version": 3
   },
   "file_extension": ".py",
   "mimetype": "text/x-python",
   "name": "python",
   "nbconvert_exporter": "python",
   "pygments_lexer": "ipython3",
   "version": "3.9.13"
  }
 },
 "nbformat": 4,
 "nbformat_minor": 5
}
