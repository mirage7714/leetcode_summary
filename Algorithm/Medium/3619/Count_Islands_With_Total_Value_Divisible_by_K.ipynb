{
 "cells": [
  {
   "cell_type": "markdown",
   "id": "6e098dad-7b99-4baa-9cf8-e0091d9cd1fb",
   "metadata": {},
   "source": [
    "# 本題要找出有多少島嶼的面積是可以被k整除的 (#Matrix )\n",
    "原題目連結: https://leetcode.com/problems/count-islands-with-total-value-divisible-by-k/description/  \n",
    "\n",
    "You are given an m x n matrix grid and a positive integer k. An island is a group of positive integers (representing land) that are 4-directionally connected (horizontally or vertically).  \n",
    "The total value of an island is the sum of the values of all cells in the island.  \n",
    "Return the number of islands with a total value divisible by k.  \n",
    "\n",
    "範例:  \n",
    "Ex1:  \n",
    "Input: grid = [[0,2,1,0,0],[0,5,0,0,5],[0,0,1,0,0],[0,1,4,7,0],[0,2,0,0,8]], k = 5  \n",
    "Output: 2  \n",
    "Explanation:  \n",
    "The grid contains four islands. The islands highlighted in blue have a total value that is divisible by 5, while the islands highlighted in red do not.  \n",
    "\n",
    "Ex2:  \n",
    "Input: grid = [[3,0,3,0], [0,3,0,3], [3,0,3,0]], k = 3  \n",
    "Output: 6  \n",
    "Explanation:  \n",
    "The grid contains six islands, each with a total value that is divisible by 3."
   ]
  },
  {
   "cell_type": "markdown",
   "id": "bdf7e987-ba76-4d2a-bbc0-1c3be7b49ffc",
   "metadata": {},
   "source": [
    "* 解題想法:  \n",
    "首先建立一個函數，用來找出目前島嶼的大小，並回傳島嶼每個單位的面積，接著用迴圈找出每個島嶼後加總面積再確認是否為k的倍數，如果是則將結果加一，最後回傳結果就是答案"
   ]
  },
  {
   "cell_type": "code",
   "execution_count": null,
   "id": "369d1922-2111-4d27-9cca-cc7358057472",
   "metadata": {},
   "outputs": [],
   "source": [
    "class Solution:\n",
    "    def countIslands(self, grid: List[List[int]], k: int) -> int:\n",
    "        def get_island(grid, i, j, area):\n",
    "            x = [1, -1, 0, 0]\n",
    "            y = [0, 0, 1, -1]\n",
    "            if i >= len(grid) or i < 0 or j >= len(grid[0]) or j < 0:\n",
    "                return \n",
    "            if grid[i][j] == 0:\n",
    "                return\n",
    "            area.append(grid[i][j])\n",
    "            grid[i][j] = 0\n",
    "            for m in range(4):\n",
    "                get_island(grid, i + x[m], j + y[m], area)\n",
    "            return area\n",
    "\n",
    "        res = 0\n",
    "        for i in range(len(grid)):\n",
    "            for j in range(len(grid[0])):\n",
    "                if grid[i][j] != 0:\n",
    "                    area = get_island(grid, i, j, [])\n",
    "                    t = 0\n",
    "                    for a in area:\n",
    "                        t += a\n",
    "                    if t % k == 0:\n",
    "                        res += 1\n",
    "        return res"
   ]
  }
 ],
 "metadata": {
  "kernelspec": {
   "display_name": "Python 3 (ipykernel)",
   "language": "python",
   "name": "python3"
  },
  "language_info": {
   "codemirror_mode": {
    "name": "ipython",
    "version": 3
   },
   "file_extension": ".py",
   "mimetype": "text/x-python",
   "name": "python",
   "nbconvert_exporter": "python",
   "pygments_lexer": "ipython3",
   "version": "3.12.5"
  }
 },
 "nbformat": 4,
 "nbformat_minor": 5
}
