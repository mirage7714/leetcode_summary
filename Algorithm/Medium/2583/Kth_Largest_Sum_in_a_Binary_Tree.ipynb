{
 "cells": [
  {
   "cell_type": "markdown",
   "id": "c593ba9f-72a2-4a91-b3b8-aecea0bf0a3c",
   "metadata": {},
   "source": [
    "# 本題要找出總和為第k個的階層為何 (\\#Heap, \\#Binary Tree)\n",
    "原題目連結: https://leetcode.com/problems/kth-largest-sum-in-a-binary-tree/description/  \n",
    "\n",
    "You are given the root of a binary tree and a positive integer k.  \n",
    "The level sum in the tree is the sum of the values of the nodes that are on the same level.  \n",
    "Return the kth largest level sum in the tree (not necessarily distinct). If there are fewer than k levels in the tree, return -1.  \n",
    "Note that two nodes are on the same level if they have the same distance from the root.  \n",
    "\n",
    "範例:  \n",
    "Ex1:  \n",
    "Input: root = [5,8,9,2,1,3,7,4,6], k = 2  \n",
    "Output: 13  \n",
    "Explanation: The level sums are the following:  \n",
    "- Level 1: 5.  \n",
    "- Level 2: 8 + 9 = 17.  \n",
    "- Level 3: 2 + 1 + 3 + 7 = 13.  \n",
    "- Level 4: 4 + 6 = 10.  \n",
    "The 2nd largest level sum is 13.  \n",
    "\n",
    "Ex2:  \n",
    "Input: root = [1,2,null,3], k = 1  \n",
    "Output: 3  \n",
    "Explanation: The largest level sum is 3."
   ]
  },
  {
   "cell_type": "markdown",
   "id": "8cbf7c09-2866-4bd3-bfc1-e8054a614570",
   "metadata": {},
   "source": [
    "* 解題想法:  \n",
    "首先建立一個heap，並用BFS的方式逐層將總和放入heap中，接著開始從heap中取出數值，如果當k超過heap內的數量時則回傳-1"
   ]
  },
  {
   "cell_type": "code",
   "execution_count": null,
   "id": "b1fb4ab6-15f4-4480-a68c-f709bdc14294",
   "metadata": {},
   "outputs": [],
   "source": [
    "# Definition for a binary tree node.\n",
    "# class TreeNode:\n",
    "#     def __init__(self, val=0, left=None, right=None):\n",
    "#         self.val = val\n",
    "#         self.left = left\n",
    "#         self.right = right\n",
    "import heapq\n",
    "class Solution:\n",
    "    def kthLargestLevelSum(self, root: Optional[TreeNode], k: int) -> int:\n",
    "        val = []\n",
    "        heapq.heapify(val)\n",
    "        res = 0\n",
    "        if root:\n",
    "            stack = [root]\n",
    "            while stack:\n",
    "                node = []\n",
    "                v = 0\n",
    "                for s in stack:\n",
    "                    v += s.val\n",
    "                    if s.left:\n",
    "                        node.append(s.left)\n",
    "                    if s.right:\n",
    "                        node.append(s.right)\n",
    "                heapq.heappush(val, -v)\n",
    "                stack.clear()\n",
    "                stack += node\n",
    "        \n",
    "        while k > 0 and val:\n",
    "            n = heapq.heappop(val)\n",
    "            res = -n\n",
    "            k -= 1\n",
    "        if k > 0:\n",
    "            res = -1\n",
    "        return res"
   ]
  }
 ],
 "metadata": {
  "kernelspec": {
   "display_name": "Python 3 (ipykernel)",
   "language": "python",
   "name": "python3"
  },
  "language_info": {
   "codemirror_mode": {
    "name": "ipython",
    "version": 3
   },
   "file_extension": ".py",
   "mimetype": "text/x-python",
   "name": "python",
   "nbconvert_exporter": "python",
   "pygments_lexer": "ipython3",
   "version": "3.9.13"
  }
 },
 "nbformat": 4,
 "nbformat_minor": 5
}
