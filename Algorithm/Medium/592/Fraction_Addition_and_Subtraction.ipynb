{
 "cells": [
  {
   "cell_type": "markdown",
   "id": "23bb5223-5cf4-4e15-b93d-11f8ab508820",
   "metadata": {},
   "source": [
    "# 本題要算出計算式最後的結果 (\\#String, \\#Math )\n",
    "原題目連結：https://leetcode.com/problems/fraction-addition-and-subtraction/description/?envType=daily-question&envId=2024-08-23  \n",
    "\n",
    "Given a string expression representing an expression of fraction addition and subtraction, return the calculation result in string format.  \n",
    "The final result should be an irreducible fraction. If your final result is an integer, change it to the format of a fraction that has a denominator 1. So in this case, 2 should be converted to 2/1.  \n",
    "\n",
    "範例：  \n",
    "EX1：    \n",
    "Input: expression = \"-1/2+1/2\"  \n",
    "Output: \"0/1\"  \n",
    "\n",
    "EX2：    \n",
    "Input: expression = \"-1/2+1/2+1/3\"  \n",
    "Output: \"1/3\"  \n",
    "\n",
    "EX3：    \n",
    "Input: expression = \"1/3-1/2\"  \n",
    "Output: \"-1/6\"  "
   ]
  },
  {
   "cell_type": "markdown",
   "id": "2be569c3-cbc3-4387-898b-4bc2553256f3",
   "metadata": {},
   "source": [
    "* 解題想法：  \n",
    "用一個字串來作為目前的暫存，記錄下前一次出現的數字，接著用迴圈從頭開始進行計算，如果暫存為空時則更新暫存，如果有暫存時則進行計算後更新暫存，最後回傳暫存的結果就是答案"
   ]
  },
  {
   "cell_type": "code",
   "execution_count": null,
   "id": "6e1eba8d-94b8-4935-958e-e289ae81d93f",
   "metadata": {},
   "outputs": [],
   "source": [
    "class Solution:\n",
    "    def fractionAddition(self, expression: str) -> str:\n",
    "        def calculate(num1, num2):\n",
    "            d1 = int(num1.split('/')[1])\n",
    "            d2 = int(num2.split('/')[1])\n",
    "            o1 = int(num1.split('/')[0])\n",
    "            o2 = int(num2.split('/')[0])\n",
    "            res = ''\n",
    "            t = ''\n",
    "            if d1 == d2:\n",
    "                o = o1 + o2\n",
    "                if o == 0:\n",
    "                    res = '0/1'\n",
    "                else:\n",
    "                    res = f'{o}/{d1}'\n",
    "            else:\n",
    "                o = o1 * d2 + o2 * d1\n",
    "                d = d1 * d2\n",
    "                if o == 0:\n",
    "                    d = 1\n",
    "                res = f'{o}/{d}'\n",
    "            if res[0] in ['-','+']:\n",
    "                t = res[0]\n",
    "            o = int(res.split('/')[0][len(t):])\n",
    "            d = int(res.split('/')[1])\n",
    "            f = 1\n",
    "            if o > 1: \n",
    "                for i in range(2, o+1):\n",
    "                    if o % i == 0 and d % i == 0:\n",
    "                        f = i\n",
    "            o = o // f\n",
    "            d = d // f\n",
    "            res = f'{t}{o}/{d}'\n",
    "            return res\n",
    "        t = ''\n",
    "        op = '+'\n",
    "        res = ''\n",
    "        count = {}\n",
    "        temp = ''\n",
    "        for ex in expression:\n",
    "            if ex in ['+','-']:\n",
    "                if t:\n",
    "                    if not res:\n",
    "                        res = f'{op}{t}'\n",
    "                    else:\n",
    "                        res = calculate(res, f'{op}{t}')\n",
    "                    t = ''\n",
    "                op = ex\n",
    "            else:\n",
    "                t += ex\n",
    "        if res: \n",
    "            res = calculate(res, f'{op}{t}')\n",
    "        else:\n",
    "            res = expression\n",
    "        return res"
   ]
  }
 ],
 "metadata": {
  "kernelspec": {
   "display_name": "Python 3 (ipykernel)",
   "language": "python",
   "name": "python3"
  },
  "language_info": {
   "codemirror_mode": {
    "name": "ipython",
    "version": 3
   },
   "file_extension": ".py",
   "mimetype": "text/x-python",
   "name": "python",
   "nbconvert_exporter": "python",
   "pygments_lexer": "ipython3",
   "version": "3.10.9"
  }
 },
 "nbformat": 4,
 "nbformat_minor": 5
}
