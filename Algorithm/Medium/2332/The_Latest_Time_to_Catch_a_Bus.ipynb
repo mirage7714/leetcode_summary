{
 "cells": [
  {
   "cell_type": "markdown",
   "metadata": {},
   "source": [
    "# 本題要找出最晚要幾點到達車站\n",
    "原題目連結: https://leetcode.com/problems/the-latest-time-to-catch-a-bus/  \n",
    "\n",
    "You are given a 0-indexed integer array buses of length n, where buses[i] represents the departure time of the ith bus. You are also given a 0-indexed integer array passengers of length m, where passengers[j] represents the arrival time of the jth passenger. All bus departure times are unique. All passenger arrival times are unique.  \n",
    "\n",
    "You are given an integer capacity, which represents the maximum number of passengers that can get on each bus.  \n",
    "The passengers will get on the next available bus. You can get on a bus that will depart at x minutes if you arrive at y minutes where y <= x, and the bus is not full. Passengers with the earliest arrival times get on the bus first.  \n",
    "Return the latest time you may arrive at the bus station to catch a bus. You cannot arrive at the same time as another passenger.  \n",
    "\n",
    "Note: The arrays buses and passengers are not necessarily sorted.  \n",
    "\n",
    "範例:  \n",
    "Ex1:  \n",
    "Input: buses = [10,20], passengers = [2,17,18,19], capacity = 2  \n",
    "Output: 16  \n",
    "Explanation:   \n",
    "The 1st bus departs with the 1st passenger.   \n",
    "The 2nd bus departs with you and the 2nd passenger.  \n",
    "Note that you must not arrive at the same time as the passengers, which is why you must arrive before the 2nd passenger to catch the bus.  \n",
    "\n",
    "Ex2:  \n",
    "Input: buses = [20,30,10], passengers = [19,13,26,4,25,11,21], capacity = 2  \n",
    "Output: 20  \n",
    "Explanation:   \n",
    "The 1st bus departs with the 4th passenger.   \n",
    "The 2nd bus departs with the 6th and 2nd passengers.  \n",
    "The 3rd bus departs with the 1st passenger and you."
   ]
  },
  {
   "cell_type": "markdown",
   "metadata": {},
   "source": [
    "* 解題想法:  \n",
    "首先將公車時刻表與乘客到站時間排序後，接著找出每班公車搭載的乘客到站時間為何，接著開始從最後一班公車的乘客時間開始檢查，如果最後一班公車沒搭滿且公車到站時間沒人等車的話，則最晚到達時間就是公車到站時間，否則就是從後面開始檢查乘客到站的時間，如果中間有時間是沒有乘客等待的，就是最晚要到站的時間"
   ]
  },
  {
   "cell_type": "code",
   "execution_count": null,
   "metadata": {},
   "outputs": [],
   "source": [
    "class Solution:\n",
    "    def latestTimeCatchTheBus(self, buses: List[int], passengers: List[int], capacity: int) -> int:        \n",
    "        buses.sort()\n",
    "        passengers.sort()\n",
    "        aboard = []\n",
    "        seats = []\n",
    "        index = 0\n",
    "        for b in buses:\n",
    "            s = 0\n",
    "            for n in range(index, len(passengers)):\n",
    "                if passengers[n] <= b:\n",
    "                    if s < capacity:\n",
    "                        s += 1\n",
    "                        aboard.append(passengers[n])\n",
    "                        index += 1\n",
    "                    else:\n",
    "                        break\n",
    "                else:\n",
    "                    break\n",
    "            seats.append(s)\n",
    "        r = 0\n",
    "        if seats[-1] != capacity and buses[-1] not in aboard:\n",
    "            r = buses[-1]\n",
    "        else:\n",
    "            for a in range(len(aboard)-1, -1, -1):\n",
    "                if aboard[a]-1 != aboard[a-1]:\n",
    "                    r = aboard[a]-1\n",
    "                    break\n",
    "        return r"
   ]
  }
 ],
 "metadata": {
  "kernelspec": {
   "display_name": "Python 3",
   "language": "python",
   "name": "python3"
  },
  "language_info": {
   "codemirror_mode": {
    "name": "ipython",
    "version": 3
   },
   "file_extension": ".py",
   "mimetype": "text/x-python",
   "name": "python",
   "nbconvert_exporter": "python",
   "pygments_lexer": "ipython3",
   "version": "3.7.4"
  }
 },
 "nbformat": 4,
 "nbformat_minor": 4
}
