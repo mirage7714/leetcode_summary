{
 "cells": [
  {
   "cell_type": "markdown",
   "metadata": {},
   "source": [
    "# 本題目要找出在array中重複的數字有多少\n",
    "原題目連結: https://leetcode.com/problems/find-all-duplicates-in-an-array/  \n",
    "\n",
    "Given an array of integers, 1 ≤ a[i] ≤ n (n = size of array), some elements appear twice and others appear once.  \n",
    "\n",
    "Find all the elements that appear twice in this array.  \n",
    "\n",
    "Could you do it without extra space and in O(n) runtime?  \n",
    "\n",
    "範例:  \n",
    "Ex1:  \n",
    "Input:[4,3,2,7,8,2,3,1]  \n",
    "Output:[2,3]"
   ]
  },
  {
   "cell_type": "markdown",
   "metadata": {},
   "source": [
    "* 解題想法:  \n",
    "由於題目要找出的是重覆的數字有多少，因此先將題目提供的list進行排序後，使用一個迴圈來比較n與n+1是否相同，如果相同則加入結果的list中  \n",
    "最後將結果的list回傳"
   ]
  },
  {
   "cell_type": "code",
   "execution_count": null,
   "metadata": {},
   "outputs": [],
   "source": [
    "class Solution:\n",
    "    def findDuplicates(self, nums: List[int]) -> List[int]:\n",
    "        result = []\n",
    "        nums.sort()\n",
    "        for n in range(len(nums) -1):\n",
    "            if nums[n] == nums[n+1]:\n",
    "                result.append(nums[n])\n",
    "        return result"
   ]
  }
 ],
 "metadata": {
  "kernelspec": {
   "display_name": "Python 3",
   "language": "python",
   "name": "python3"
  },
  "language_info": {
   "codemirror_mode": {
    "name": "ipython",
    "version": 3
   },
   "file_extension": ".py",
   "mimetype": "text/x-python",
   "name": "python",
   "nbconvert_exporter": "python",
   "pygments_lexer": "ipython3",
   "version": "3.7.4"
  }
 },
 "nbformat": 4,
 "nbformat_minor": 2
}
