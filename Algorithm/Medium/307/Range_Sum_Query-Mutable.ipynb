{
 "cells": [
  {
   "cell_type": "markdown",
   "metadata": {},
   "source": [
    "# 本題要建立一個函數，用來更新list以及算出list的範圍和是多少 (\\#Array)\n",
    "原題目連結: https://leetcode.com/problems/range-sum-query-mutable/  \n",
    "\n",
    "Given an integer array nums, handle multiple queries of the following types:  \n",
    "\n",
    "Update the value of an element in nums.  \n",
    "Calculate the sum of the elements of nums between indices left and right inclusive where left <= right.  \n",
    "Implement the NumArray class:  \n",
    "\n",
    "NumArray(int[] nums) Initializes the object with the integer array nums.  \n",
    "void update(int index, int val) Updates the value of nums[index] to be val.  \n",
    "int sumRange(int left, int right) Returns the sum of the elements of nums between indices left and right inclusive (i.e. nums[left] + nums[left + 1] + ... + nums[right]).  \n",
    "\n",
    "範例:  \n",
    "Ex1:  \n",
    "Input  \n",
    "[\"NumArray\", \"sumRange\", \"update\", \"sumRange\"]  \n",
    "[[[1, 3, 5]], [0, 2], [1, 2], [0, 2]]  \n",
    "Output  \n",
    "[null, 9, null, 8]  \n",
    "\n",
    "Explanation  \n",
    "NumArray numArray = new NumArray([1, 3, 5]);  \n",
    "numArray.sumRange(0, 2); // return 1 + 3 + 5 = 9  \n",
    "numArray.update(1, 2);   // nums = [1, 2, 5]  \n",
    "numArray.sumRange(0, 2); // return 1 + 2 + 5 = 8  "
   ]
  },
  {
   "cell_type": "markdown",
   "metadata": {},
   "source": [
    "* 解題想法:  \n",
    "首先題目提供了一個list作為數值，將list的總和算出做為一個變數，接著開始實作題目要求的功能:  \n",
    "- update(): 將該index的數值更新，並把總合的部分一併更新，另外如果有暫存的話則將暫存一併清除  \n",
    "- sumRange(): 如果求的範圍與暫存相同，則直接回傳暫存的值，否則就是用左右兩個邊界值進行走訪，並把總和值扣掉這些值，並把數值更新到暫存中  "
   ]
  },
  {
   "cell_type": "code",
   "execution_count": null,
   "metadata": {},
   "outputs": [],
   "source": [
    "class NumArray:\n",
    "\n",
    "    def __init__(self, nums: List[int]):\n",
    "        self.nums = nums\n",
    "        self.total = 0\n",
    "        self.prev = ''\n",
    "        self.val = 0\n",
    "        for n in self.nums:\n",
    "            self.total += n\n",
    "            \n",
    "    def update(self, index: int, val: int) -> None:\n",
    "        d = self.nums[index] - val\n",
    "        self.nums[index] = val\n",
    "        self.total -= d\n",
    "        self.prev = ''\n",
    "        self.val = 0\n",
    "                \n",
    "    def sumRange(self, left: int, right: int) -> int:\n",
    "        key = '{}:{}'.format(left, right)\n",
    "        if self.prev == key:\n",
    "            return self.val\n",
    "        total = self.total\n",
    "        for m in range(left):\n",
    "            total -= self.nums[m]\n",
    "        for n in range(right+1, len(self.nums)):\n",
    "            total -= self.nums[n]\n",
    "        self.prev = key\n",
    "        self.val = total\n",
    "        return total\n",
    "\n",
    "\n",
    "# Your NumArray object will be instantiated and called as such:\n",
    "# obj = NumArray(nums)\n",
    "# obj.update(index,val)\n",
    "# param_2 = obj.sumRange(left,right)"
   ]
  }
 ],
 "metadata": {
  "kernelspec": {
   "display_name": "Python 3",
   "language": "python",
   "name": "python3"
  },
  "language_info": {
   "codemirror_mode": {
    "name": "ipython",
    "version": 3
   },
   "file_extension": ".py",
   "mimetype": "text/x-python",
   "name": "python",
   "nbconvert_exporter": "python",
   "pygments_lexer": "ipython3",
   "version": "3.7.4"
  }
 },
 "nbformat": 4,
 "nbformat_minor": 4
}
