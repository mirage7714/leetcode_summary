{
 "cells": [
  {
   "cell_type": "markdown",
   "metadata": {},
   "source": [
    "# 本題要找出哪個sender發送的訊息字數最多\n",
    "原題目連結: https://leetcode.com/problems/sender-with-largest-word-count/  \n",
    "\n",
    "You have a chat log of n messages. You are given two string arrays messages and senders where messages[i] is a message sent by senders[i].  \n",
    "\n",
    "A message is list of words that are separated by a single space with no leading or trailing spaces. The word count of a sender is the total number of words sent by the sender. Note that a sender may send more than one message.  \n",
    "\n",
    "Return the sender with the largest word count. If there is more than one sender with the largest word count, return the one with the lexicographically largest name.  \n",
    "\n",
    "Note:  \n",
    "Uppercase letters come before lowercase letters in lexicographical order.  \n",
    "\"Alice\" and \"alice\" are distinct.  \n",
    "\n",
    "範例:  \n",
    "Ex1:  \n",
    "Input: messages = [\"Hello userTwooo\",\"Hi userThree\",\"Wonderful day Alice\",\"Nice day userThree\"], senders = [\"Alice\",\"userTwo\",\"userThree\",\"Alice\"]  \n",
    "Output: \"Alice\"  \n",
    "Explanation: Alice sends a total of 2 + 3 = 5 words.   \n",
    "userTwo sends a total of 2 words.  \n",
    "userThree sends a total of 3 words.  \n",
    "Since Alice has the largest word count, we return \"Alice\".  \n",
    "\n",
    "Ex2:  \n",
    "Input: messages = [\"How is leetcode for everyone\",\"Leetcode is useful for practice\"], senders = [\"Bob\",\"Charlie\"]  \n",
    "Output: \"Charlie\"  \n",
    "Explanation: Bob sends a total of 5 words.  \n",
    "Charlie sends a total of 5 words.  \n",
    "Since there is a tie for the largest word count, we return the sender with the lexicographically larger name, Charlie."
   ]
  },
  {
   "cell_type": "markdown",
   "metadata": {},
   "source": [
    "* 解題想法:  \n",
    "首先建立一個dict用來存放每個sender發送的訊息長度，接著檢查dict中哪個sender有最大值，如果當值相同的時候，則檢查哪個sender的名字有較大的順序，最後回傳sender作為答案"
   ]
  },
  {
   "cell_type": "code",
   "execution_count": null,
   "metadata": {},
   "outputs": [],
   "source": [
    "class Solution:\n",
    "    def largestWordCount(self, messages: List[str], senders: List[str]) -> str:\n",
    "        counts = {}\n",
    "        result = ''\n",
    "        temp = 0\n",
    "        for m in range(len(messages)):\n",
    "            l = len(messages[m].split(' '))\n",
    "            if senders[m] not in counts.keys():\n",
    "                counts[senders[m]] = l\n",
    "            else:\n",
    "                counts[senders[m]] += l\n",
    "        print(counts)\n",
    "        for key, val in counts.items():\n",
    "            if val > temp:\n",
    "                result = key\n",
    "                temp = val\n",
    "            elif val == temp:\n",
    "                if key > result:\n",
    "                    result = key\n",
    "        return result"
   ]
  }
 ],
 "metadata": {
  "kernelspec": {
   "display_name": "Python 3",
   "language": "python",
   "name": "python3"
  },
  "language_info": {
   "codemirror_mode": {
    "name": "ipython",
    "version": 3
   },
   "file_extension": ".py",
   "mimetype": "text/x-python",
   "name": "python",
   "nbconvert_exporter": "python",
   "pygments_lexer": "ipython3",
   "version": "3.7.4"
  }
 },
 "nbformat": 4,
 "nbformat_minor": 4
}
