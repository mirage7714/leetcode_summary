{
 "cells": [
  {
   "cell_type": "markdown",
   "metadata": {},
   "source": [
    "# 本題要找出指定的時間區間內共有多少個完整的15分鐘\n",
    "原題目連結: https://leetcode.com/problems/the-number-of-full-rounds-you-have-played/  \n",
    "\n",
    "A new online video game has been released, and in this video game, there are 15-minute rounds scheduled every quarter-hour period. This means that at HH:00, HH:15, HH:30 and HH:45, a new round starts, where HH represents an integer number from 00 to 23. A 24-hour clock is used, so the earliest time in the day is 00:00 and the latest is 23:59.  \n",
    "\n",
    "Given two strings startTime and finishTime in the format \"HH:MM\" representing the exact time you started and finished playing the game, respectively, calculate the number of full rounds that you played during your game session.  \n",
    "\n",
    "For example, if startTime = \"05:20\" and finishTime = \"05:59\" this means you played only one full round from 05:30 to 05:45. You did not play the full round from 05:15 to 05:30 because you started after the round began, and you did not play the full round from 05:45 to 06:00 because you stopped before the round ended.  \n",
    "If finishTime is earlier than startTime, this means you have played overnight (from startTime to the midnight and from midnight to finishTime).  \n",
    "\n",
    "Return the number of full rounds that you have played if you had started playing at startTime and finished at finishTime.  \n",
    "\n",
    "範例:  \n",
    "Ex1:  \n",
    "Input: startTime = \"12:01\", finishTime = \"12:44\"  \n",
    "Output: 1  \n",
    "Explanation: You played one full round from 12:15 to 12:30.  \n",
    "You did not play the full round from 12:00 to 12:15 because you started playing at 12:01 after it began.  \n",
    "You did not play the full round from 12:30 to 12:45 because you stopped playing at 12:44 before it ended.  \n",
    "\n",
    "Ex2:  \n",
    "Input: startTime = \"20:00\", finishTime = \"06:00\"  \n",
    "Output: 40  \n",
    "Explanation: You played 16 full rounds from 20:00 to 00:00 and 24 full rounds from 00:00 to 06:00.  \n",
    "16 + 24 = 40.  \n",
    "\n",
    "Ex3:  \n",
    "Input: startTime = \"00:00\", finishTime = \"23:59\"  \n",
    "Output: 95  \n",
    "Explanation: You played 4 full rounds each hour except for the last hour where you played 3 full rounds."
   ]
  },
  {
   "cell_type": "markdown",
   "metadata": {},
   "source": [
    "* 解題想法:  \n",
    "首先判斷開始與結束時間是否為同一天內的時間，如果是超過一天的情況則將結束時間再加上24小時候進行計算，接著找出兩個時段的小時差後x4就是完整15分鐘的個數了，接著計算後面的分鐘數，開始時間與結束時間的計算剛好相反，起始時間是用60分減去初始時間後再除15後取商，而結束時間則是用時間除15後取商，最後將所有總和加起來後就可以得到共有幾個完整的15分鐘"
   ]
  },
  {
   "cell_type": "code",
   "execution_count": null,
   "metadata": {},
   "outputs": [],
   "source": [
    "class Solution:\n",
    "    def numberOfRounds(self, startTime: str, finishTime: str) -> int:\n",
    "        def getStartTime(t):\n",
    "            return floor((60-t)/15)\n",
    "        \n",
    "        def getEndTime(t):\n",
    "            return floor(t/15)\n",
    "        \n",
    "        count = 0\n",
    "        h_s = int(startTime.split(':')[0])\n",
    "        h_e = int(finishTime.split(':')[0])\n",
    "        m_s = int(startTime.split(':')[1])\n",
    "        m_e = int(finishTime.split(':')[1])\n",
    "        if startTime > finishTime:\n",
    "            h_e = h_e + 24\n",
    "            count += (h_e - h_s - 1) * 4\n",
    "            count += getStartTime(m_s)\n",
    "            count += getEndTime(m_e)\n",
    "        else:\n",
    "            if h_s == h_e:\n",
    "                if m_s == 0:\n",
    "                    m_s = 0\n",
    "                elif m_s <= 15:\n",
    "                    m_s = 15\n",
    "                elif m_s <= 30:\n",
    "                    m_s = 30\n",
    "                elif m_s <= 45:\n",
    "                    m_s = 45\n",
    "                for n in range(3):\n",
    "                    if m_s + 15 <= m_e:\n",
    "                        count += 1\n",
    "                        m_s += 15\n",
    "                    else:\n",
    "                        break\n",
    "            else:\n",
    "                count += (h_e - h_s -1) * 4\n",
    "                count += getStartTime(m_s)\n",
    "                count += getEndTime(m_e)\n",
    "        return count"
   ]
  }
 ],
 "metadata": {
  "kernelspec": {
   "display_name": "Python 3",
   "language": "python",
   "name": "python3"
  },
  "language_info": {
   "codemirror_mode": {
    "name": "ipython",
    "version": 3
   },
   "file_extension": ".py",
   "mimetype": "text/x-python",
   "name": "python",
   "nbconvert_exporter": "python",
   "pygments_lexer": "ipython3",
   "version": "3.7.4"
  }
 },
 "nbformat": 4,
 "nbformat_minor": 2
}
