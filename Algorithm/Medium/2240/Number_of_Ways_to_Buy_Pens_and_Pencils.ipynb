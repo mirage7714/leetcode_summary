{
 "cells": [
  {
   "cell_type": "markdown",
   "metadata": {},
   "source": [
    "# 本題要計算總共有幾種的組合方式\n",
    "原題目連結: https://leetcode.com/problems/number-of-ways-to-buy-pens-and-pencils/  \n",
    "\n",
    "You are given an integer total indicating the amount of money you have. You are also given two integers cost1 and cost2 indicating the price of a pen and pencil respectively. You can spend part or all of your money to buy multiple quantities (or none) of each kind of writing utensil.  \n",
    "\n",
    "Return the number of distinct ways you can buy some number of pens and pencils.  \n",
    "\n",
    "範例:  \n",
    "Ex1:  \n",
    "Input: total = 20, cost1 = 10, cost2 = 5  \n",
    "Output: 9  \n",
    "Explanation: The price of a pen is 10 and the price of a pencil is 5.  \n",
    "- If you buy 0 pens, you can buy 0, 1, 2, 3, or 4 pencils.  \n",
    "- If you buy 1 pen, you can buy 0, 1, or 2 pencils.  \n",
    "- If you buy 2 pens, you cannot buy any pencils.  \n",
    "The total number of ways to buy pens and pencils is 5 + 3 + 1 = 9.  \n",
    "\n",
    "Ex2:  \n",
    "Input: total = 5, cost1 = 10, cost2 = 10  \n",
    "Output: 1  \n",
    "Explanation: The price of both pens and pencils are 10, which cost more than total, so you cannot buy any writing utensils. Therefore, there is only 1 way: buy 0 pens and 0 pencils."
   ]
  },
  {
   "cell_type": "markdown",
   "metadata": {},
   "source": [
    "* 解題想法:  \n",
    "首先找出兩數間的最大值與最小值，接著判斷以下幾種情況:  \n",
    "- 如果總和小於最小值，則只有一種組合情況  \n",
    "- 如果總和小於最大值，則只有總和與最小數的商+1種情境(有為0的情況)  \n",
    "- 如果總和大於最大值，則首先找出最大值共有幾種情境，接著算出最小值可能出現的情況，並將結果總合起來  \n",
    "最後回傳總和的可能情況"
   ]
  },
  {
   "cell_type": "code",
   "execution_count": null,
   "metadata": {},
   "outputs": [],
   "source": [
    "class Solution:\n",
    "    def waysToBuyPensPencils(self, total: int, cost1: int, cost2: int) -> int:\n",
    "        result = 0\n",
    "        costs = [cost1, cost2]\n",
    "        costs.sort()\n",
    "        if total < cost1 and total < cost2:\n",
    "            result = 1\n",
    "        elif total < costs[1] and total >= costs[0]:\n",
    "            result = int(total / costs[0]) +1\n",
    "        else:\n",
    "            c = int(total/costs[1])\n",
    "            for m in range(c+1):\n",
    "                c2 = total - costs[1] * m\n",
    "                result += int(c2 / costs[0])+1\n",
    "        return result"
   ]
  }
 ],
 "metadata": {
  "kernelspec": {
   "display_name": "Python 3",
   "language": "python",
   "name": "python3"
  },
  "language_info": {
   "codemirror_mode": {
    "name": "ipython",
    "version": 3
   },
   "file_extension": ".py",
   "mimetype": "text/x-python",
   "name": "python",
   "nbconvert_exporter": "python",
   "pygments_lexer": "ipython3",
   "version": "3.7.4"
  }
 },
 "nbformat": 4,
 "nbformat_minor": 4
}
