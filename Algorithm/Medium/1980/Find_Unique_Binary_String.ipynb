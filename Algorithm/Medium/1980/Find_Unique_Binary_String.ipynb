{
 "cells": [
  {
   "cell_type": "markdown",
   "id": "16df249d-a3e1-4835-9ce5-841d256f5d75",
   "metadata": {},
   "source": [
    "# 本題要找出沒有出現過的binary字串 (\\#Array, \\#Backtracking )\n",
    "原題目連結：https://leetcode.com/problems/find-unique-binary-string/description  \n",
    "\n",
    "Given an array of strings nums containing n unique binary strings each of length n, return a binary string of length n that does not appear in nums. If there are multiple answers, you may return any of them.  \n",
    "\n",
    "範例：  \n",
    "Ex1:  \n",
    "Input: nums = [\"01\",\"10\"]  \n",
    "Output: \"11\"  \n",
    "Explanation: \"11\" does not appear in nums. \"00\" would also be correct.  \n",
    "\n",
    "Ex2:  \n",
    "Input: nums = [\"00\",\"01\"]  \n",
    "Output: \"11\"  \n",
    "Explanation: \"11\" does not appear in nums. \"10\" would also be correct.  \n",
    "\n",
    "Ex3:  \n",
    "Input: nums = [\"111\",\"011\",\"001\"]  \n",
    "Output: \"101\"  \n",
    "Explanation: \"101\" does not appear in nums. \"000\", \"010\", \"100\", and \"110\" would also be correct."
   ]
  },
  {
   "cell_type": "markdown",
   "id": "c09e3d87-809e-457d-88b7-f1a05adbcfe7",
   "metadata": {},
   "source": [
    "* 解題想法：  \n",
    "首先將所有的binary轉成數字之後，接著從0開始檢查是否有出現過，如果沒有出現過則轉回binary字串，並補足長度後就是答案"
   ]
  },
  {
   "cell_type": "code",
   "execution_count": null,
   "id": "792acdc0-0e8e-4636-b602-1d0fec1ef14c",
   "metadata": {},
   "outputs": [],
   "source": [
    "class Solution:\n",
    "    def findDifferentBinaryString(self, nums: List[str]) -> str:\n",
    "        digits = set()\n",
    "        index = 0\n",
    "        l = len(nums[0])\n",
    "        for n in nums:\n",
    "            digits.add(int(n,2))\n",
    "        while True:\n",
    "            if index not in digits:\n",
    "                res = bin(index)[2:]\n",
    "                while len(res) < l:\n",
    "                    res = '0' + res\n",
    "                return res\n",
    "            index += 1"
   ]
  }
 ],
 "metadata": {
  "kernelspec": {
   "display_name": "Python 3 (ipykernel)",
   "language": "python",
   "name": "python3"
  },
  "language_info": {
   "codemirror_mode": {
    "name": "ipython",
    "version": 3
   },
   "file_extension": ".py",
   "mimetype": "text/x-python",
   "name": "python",
   "nbconvert_exporter": "python",
   "pygments_lexer": "ipython3",
   "version": "3.10.9"
  }
 },
 "nbformat": 4,
 "nbformat_minor": 5
}
