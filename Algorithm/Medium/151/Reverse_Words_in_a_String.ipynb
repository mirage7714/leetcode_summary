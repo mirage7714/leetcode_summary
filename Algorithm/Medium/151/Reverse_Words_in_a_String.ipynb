{
 "cells": [
  {
   "cell_type": "markdown",
   "metadata": {},
   "source": [
    "# 本題要找出將句子內的單詞順序倒轉後的結果\n",
    "原題目連結: https://leetcode.com/problems/reverse-words-in-a-string/  \n",
    "\n",
    "Given an input string s, reverse the order of the words.  \n",
    "\n",
    "A word is defined as a sequence of non-space characters. The words in s will be separated by at least one space.  \n",
    "\n",
    "Return a string of the words in reverse order concatenated by a single space.  \n",
    "\n",
    "Note that s may contain leading or trailing spaces or multiple spaces between two words. The returned string should only have a single space separating the words. Do not include any extra spaces.  \n",
    "\n",
    "範例:  \n",
    "Ex1:  \n",
    "Input: s = \"the sky is blue\"  \n",
    "Output: \"blue is sky the\"  \n",
    "\n",
    "Ex2:  \n",
    "Input: s = \"  hello world  \"  \n",
    "Output: \"world hello\"  \n",
    "Explanation: Your reversed string should not contain leading or trailing spaces.  \n",
    "\n",
    "Ex3:  \n",
    "Input: s = \"a good   example\"  \n",
    "Output: \"example good a\"  \n",
    "Explanation: You need to reduce multiple spaces between two words to a single space in the reversed string.  \n",
    "\n",
    "Ex4:  \n",
    "Input: s = \"  Bob    Loves  Alice   \"  \n",
    "Output: \"Alice Loves Bob\"  \n",
    "\n",
    "Ex5:  \n",
    "Input: s = \"Alice does not even like bob\"  \n",
    "Output: \"bob like even not does Alice\""
   ]
  },
  {
   "cell_type": "markdown",
   "metadata": {},
   "source": [
    "* 解題想法:  \n",
    "由於題目要求是將句子內的單詞順序顛倒，因此先建立一個list來存放單詞，並將空白去除，最後從list後面開始重新建立一個字串並加上空白，就是題目要求的答案"
   ]
  },
  {
   "cell_type": "code",
   "execution_count": null,
   "metadata": {},
   "outputs": [],
   "source": [
    "class Solution:\n",
    "    def reverseWords(self, s: str) -> str:\n",
    "        words = []\n",
    "        result = ''\n",
    "        for w in s.split(' '):\n",
    "            if len(w) > 0:\n",
    "                words.append(w)\n",
    "        for n in range(len(words)-1, -1, -1):\n",
    "            result += words[n] + ' '\n",
    "        return result.rstrip()"
   ]
  }
 ],
 "metadata": {
  "kernelspec": {
   "display_name": "Python 3",
   "language": "python",
   "name": "python3"
  },
  "language_info": {
   "codemirror_mode": {
    "name": "ipython",
    "version": 3
   },
   "file_extension": ".py",
   "mimetype": "text/x-python",
   "name": "python",
   "nbconvert_exporter": "python",
   "pygments_lexer": "ipython3",
   "version": "3.7.6"
  }
 },
 "nbformat": 4,
 "nbformat_minor": 4
}
