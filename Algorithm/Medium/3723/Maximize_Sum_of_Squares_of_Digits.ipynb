{
 "cells": [
  {
   "cell_type": "markdown",
   "id": "0cb9e0ba-928d-40f3-ba7f-787c2fa95c6c",
   "metadata": {},
   "source": [
    "# 本題要找出最大的可能數字為多少 (\\#Math )\n",
    "原題目連結: https://leetcode.com/problems/maximize-sum-of-squares-of-digits/description/?page=28  \n",
    "\n",
    "You are given two positive integers num and sum.  \n",
    "A positive integer n is good if it satisfies both of the following:  \n",
    "The number of digits in n is exactly num.  \n",
    "The sum of digits in n is exactly sum.  \n",
    "The score of a good integer n is the sum of the squares of digits in n.  \n",
    "\n",
    "Return a string denoting the good integer n that achieves the maximum score. If there are multiple possible integers, return the **maximum** one. If no such integer exists, return an empty string.  \n",
    "\n",
    "範例:  \n",
    "Ex1:  \n",
    "Input: num = 2, sum = 3  \n",
    "Output: \"30\"  \n",
    "Explanation:  \n",
    "There are 3 good integers: 12, 21, and 30.    \n",
    "The score of 12 is $1^2$. + $2^2$. = 5.  \n",
    "The score of 21 is $2^2$. + $1^2$. = 5.    \n",
    "The score of 30 is $3^2$. + $0^2$. = 9.  \n",
    "The maximum score is 9, which is achieved by the good integer 30. Therefore, the answer is \"30\".    \n",
    "\n",
    "Ex2:  \n",
    "Input: num = 2, sum = 17  \n",
    "Output: \"98\"  \n",
    "Explanation:  \n",
    "There are 2 good integers: 89 and 98.  \n",
    "The score of 89 is $8^2$ + $9^2$ = 145.  \n",
    "The score of 98 is $9^2$ + $8^2$ = 145.  \n",
    "The maximum score is 145. The maximum good integer that achieves this score is 98. Therefore, the answer is \"98\".    \n",
    "\n",
    "Ex3:  \n",
    "Input: num = 1, sum = 10  \n",
    "Output: \"\"  \n",
    "Explanation:  \n",
    "There are no integers that have exactly 1 digit and whose digits sum to 10. Therefore, the answer is \"\"."
   ]
  },
  {
   "cell_type": "markdown",
   "id": "536d0f9a-205b-4b8d-b13d-32f4c1d1b082",
   "metadata": {},
   "source": [
    "* 解題想法:  \n",
    "首先檢查是否可以成功分配數字，如果sum/num大於9代表無法成功分配，則直接回傳空值，接著從9開始進行分配，如果當sum已經小於9則全部分配之後填入0，最後回傳字串就是答案"
   ]
  },
  {
   "cell_type": "code",
   "execution_count": null,
   "id": "388dcb49-abb7-4733-951d-04aed73f0861",
   "metadata": {},
   "outputs": [],
   "source": [
    "class Solution:\n",
    "    def maxSumOfSquares(self, num: int, sum: int) -> str:\n",
    "        res = ''\n",
    "        if sum / num > 9:\n",
    "            return res\n",
    "        while len(res) < num:\n",
    "            if sum >= 9:\n",
    "                res += '9'\n",
    "                sum -= 9\n",
    "            else:\n",
    "                res += str(sum)\n",
    "                sum = 0\n",
    "        return res"
   ]
  }
 ],
 "metadata": {
  "kernelspec": {
   "display_name": "Python 3 (ipykernel)",
   "language": "python",
   "name": "python3"
  },
  "language_info": {
   "codemirror_mode": {
    "name": "ipython",
    "version": 3
   },
   "file_extension": ".py",
   "mimetype": "text/x-python",
   "name": "python",
   "nbconvert_exporter": "python",
   "pygments_lexer": "ipython3",
   "version": "3.12.5"
  }
 },
 "nbformat": 4,
 "nbformat_minor": 5
}
