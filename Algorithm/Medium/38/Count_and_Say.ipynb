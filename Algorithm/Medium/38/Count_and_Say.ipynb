{
 "cells": [
  {
   "cell_type": "markdown",
   "metadata": {},
   "source": [
    "# 本題要將數字依指定的邏輯進行操作\n",
    "原題目連結: https://leetcode.com/problems/count-and-say/  \n",
    "\n",
    "The count-and-say sequence is a sequence of digit strings defined by the recursive formula:  \n",
    "\n",
    "countAndSay(1) = \"1\"  \n",
    "countAndSay(n) is the way you would \"say\" the digit string from countAndSay(n-1), which is then converted into a different digit string.  \n",
    "To determine how you \"say\" a digit string, split it into the minimal number of substrings such that each substring contains exactly one unique digit. Then for each substring, say the number of digits, then say the digit. Finally, concatenate every said digit.  \n",
    "\n",
    "Given a positive integer n, return the nth term of the count-and-say sequence.  \n",
    "\n",
    "範例:  \n",
    "Ex1:  \n",
    "Input: n = 1  \n",
    "Output: \"1\"  \n",
    "Explanation: This is the base case.  \n",
    "\n",
    "Ex2:  \n",
    "Input: n = 4  \n",
    "Output: \"1211\"  \n",
    "Explanation:  \n",
    "countAndSay(1) = \"1\"  \n",
    "countAndSay(2) = say \"1\" = one 1 = \"11\"  \n",
    "countAndSay(3) = say \"11\" = two 1's = \"21\"  \n",
    "countAndSay(4) = say \"21\" = one 2 + one 1 = \"12\" + \"11\" = \"1211\"  "
   ]
  },
  {
   "cell_type": "markdown",
   "metadata": {},
   "source": [
    "* 解題想法:  \n",
    "依照題目的邏輯，手先建立一個函數用來將字串轉換成另一個字串: 如果與前面數字不相同，則將前面的數字個數與數值做成新的整數加到字串中，最後回傳字串，接著用迴圈將指定整數n次跑完就可以求得最後的整數"
   ]
  },
  {
   "cell_type": "code",
   "execution_count": null,
   "metadata": {},
   "outputs": [],
   "source": [
    "class Solution:\n",
    "    def countAndSay(self, n: int) -> str:\n",
    "        def genWord(word):\n",
    "            result = ''\n",
    "            c = 0\n",
    "            t = ''\n",
    "            for w in word:\n",
    "                if w != t:\n",
    "                    if c > 0: \n",
    "                        result = '{}{}{}'.format(result,c,t)\n",
    "                    t = w\n",
    "                    c = 1\n",
    "                else:\n",
    "                    c += 1\n",
    "            result = '{}{}{}'.format(result, c,t)\n",
    "            return result\n",
    "        start = '1'\n",
    "        for m in range(n-1):\n",
    "            start = genWord(start)\n",
    "        return start"
   ]
  }
 ],
 "metadata": {
  "kernelspec": {
   "display_name": "Python 3",
   "language": "python",
   "name": "python3"
  },
  "language_info": {
   "codemirror_mode": {
    "name": "ipython",
    "version": 3
   },
   "file_extension": ".py",
   "mimetype": "text/x-python",
   "name": "python",
   "nbconvert_exporter": "python",
   "pygments_lexer": "ipython3",
   "version": "3.7.4"
  }
 },
 "nbformat": 4,
 "nbformat_minor": 4
}
