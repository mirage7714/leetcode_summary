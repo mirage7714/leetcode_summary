{
 "cells": [
  {
   "cell_type": "markdown",
   "id": "f8af4c1f-1004-45ab-8053-2a63cb51b4bf",
   "metadata": {},
   "source": [
    "# 本題要找出最常出現的評論為何 (\\#Array, \\#HashMap )\n",
    "原題目連結: https://leetcode.com/problems/find-the-most-common-response/description/  \n",
    "\n",
    "You are given a 2D string array responses where each responses[i] is an array of strings representing survey responses from the ith day.  \n",
    "Return the most common response across all days after removing duplicate responses within each responses[i]. If there is a tie, return the lexicographically smallest response.  \n",
    "\n",
    "範例:  \n",
    "Ex1:  \n",
    "Input: responses = [[\"good\",\"ok\",\"good\",\"ok\"],[\"ok\",\"bad\",\"good\",\"ok\",\"ok\"],[\"good\"],[\"bad\"]]  \n",
    "Output: \"good\"  \n",
    "Explanation:  \n",
    "After removing duplicates within each list, responses = [[\"good\", \"ok\"], [\"ok\", \"bad\", \"good\"], [\"good\"], [\"bad\"]].  \n",
    "\"good\" appears 3 times, \"ok\" appears 2 times, and \"bad\" appears 2 times.  \n",
    "Return \"good\" because it has the highest frequency.  \n",
    "\n",
    "Ex2:  \n",
    "Input: responses = [[\"good\",\"ok\",\"good\"],[\"ok\",\"bad\"],[\"bad\",\"notsure\"],[\"great\",\"good\"]]  \n",
    "Output: \"bad\"  \n",
    "Explanation:  \n",
    "After removing duplicates within each list we have responses = [[\"good\", \"ok\"], [\"ok\", \"bad\"], [\"bad\", \"notsure\"], [\"great\", \"good\"]].  \n",
    "\"bad\", \"good\", and \"ok\" each occur 2 times.  \n",
    "The output is \"bad\" because it is the lexicographically smallest amongst the words with the highest frequency."
   ]
  },
  {
   "cell_type": "markdown",
   "id": "86890b15-8c2d-4d30-9a05-f6ab021aaa45",
   "metadata": {},
   "source": [
    "* 解題想法:  \n",
    "首先用一個dict來存放目前出現過的評語，接著將每個response轉換為set來去除重複的評語後放入dict中，最後從dict中找出評論次數最多且字母順序最小的詞就是答案"
   ]
  },
  {
   "cell_type": "code",
   "execution_count": null,
   "id": "a8f88b4d-4bce-436b-8cdb-a5fdab0c5c76",
   "metadata": {},
   "outputs": [],
   "source": [
    "class Solution:\n",
    "    def findCommonResponse(self, responses: List[List[str]]) -> str:\n",
    "        res = ''\n",
    "        count = {}\n",
    "        for response in responses:\n",
    "            temp = set(response)\n",
    "            for t in temp:\n",
    "                if t not in count.keys():\n",
    "                    count[t] = 0\n",
    "                count[t] += 1\n",
    "        m = max(list(count.values()))\n",
    "        for key, val in count.items():\n",
    "            if val == m:\n",
    "                if not res:\n",
    "                    res = key\n",
    "                else:\n",
    "                    res = min(res, key)\n",
    "        return res"
   ]
  }
 ],
 "metadata": {
  "kernelspec": {
   "display_name": "Python 3 (ipykernel)",
   "language": "python",
   "name": "python3"
  },
  "language_info": {
   "codemirror_mode": {
    "name": "ipython",
    "version": 3
   },
   "file_extension": ".py",
   "mimetype": "text/x-python",
   "name": "python",
   "nbconvert_exporter": "python",
   "pygments_lexer": "ipython3",
   "version": "3.9.13"
  }
 },
 "nbformat": 4,
 "nbformat_minor": 5
}
