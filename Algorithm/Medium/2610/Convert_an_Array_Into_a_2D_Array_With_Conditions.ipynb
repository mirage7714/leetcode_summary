{
 "cells": [
  {
   "cell_type": "markdown",
   "metadata": {},
   "source": [
    "# 本題要將array轉換成2D array (\\#Array)\n",
    "原題目連結: https://leetcode.com/problems/convert-an-array-into-a-2d-array-with-conditions/description/  \n",
    "\n",
    "You are given an integer array nums. You need to create a 2D array from nums satisfying the following conditions:  \n",
    "\n",
    "The 2D array should contain only the elements of the array nums.  \n",
    "Each row in the 2D array contains distinct integers.  \n",
    "The number of rows in the 2D array should be minimal.  \n",
    "Return the resulting array. If there are multiple answers, return any of them.  \n",
    "\n",
    "Note that the 2D array can have a different number of elements on each row.  \n",
    "\n",
    "範例:  \n",
    "Ex1:  \n",
    "Input: nums = [1,3,4,1,2,3,1]  \n",
    "Output: [[1,3,4,2],[1,3],[1]]  \n",
    "Explanation: We can create a 2D array that contains the following rows:  \n",
    "- 1,3,4,2  \n",
    "- 1,3  \n",
    "- 1  \n",
    "All elements of nums were used, and each row of the 2D array contains distinct integers, so it is a valid answer.  \n",
    "It can be shown that we cannot have less than 3 rows in a valid array.  \n",
    "\n",
    "Ex2:  \n",
    "Input: nums = [1,2,3,4]  \n",
    "Output: [[4,3,2,1]]  \n",
    "Explanation: All elements of the array are distinct, so we can keep all of them in the first row of the 2D array."
   ]
  },
  {
   "cell_type": "markdown",
   "metadata": {},
   "source": [
    "* 解題想法:  \n",
    "首先將list轉換成數字頻率的dict，接著從dict中將val不為0的數值放入list中，最後將list再放入一個list中做為2D list進行回傳"
   ]
  },
  {
   "cell_type": "code",
   "execution_count": null,
   "metadata": {},
   "outputs": [],
   "source": [
    "class Solution:\n",
    "    def findMatrix(self, nums: List[int]) -> List[List[int]]:\n",
    "        res = []\n",
    "        count = {}\n",
    "        for n in nums:\n",
    "            if n not in count.keys():\n",
    "                count[n] = 1\n",
    "            else:\n",
    "                count[n] += 1\n",
    "        m = max(list(count.values()))\n",
    "        for _ in range(m):\n",
    "            t = []\n",
    "            for key, val in count.items():\n",
    "                if val > 0:\n",
    "                    t.append(key)\n",
    "                    count[key] -= 1\n",
    "            res.append(t)\n",
    "        return res"
   ]
  }
 ],
 "metadata": {
  "kernelspec": {
   "display_name": "Python 3",
   "language": "python",
   "name": "python3"
  },
  "language_info": {
   "codemirror_mode": {
    "name": "ipython",
    "version": 3
   },
   "file_extension": ".py",
   "mimetype": "text/x-python",
   "name": "python",
   "nbconvert_exporter": "python",
   "pygments_lexer": "ipython3",
   "version": "3.7.6"
  }
 },
 "nbformat": 4,
 "nbformat_minor": 4
}
