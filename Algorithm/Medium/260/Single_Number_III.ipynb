{
 "cells": [
  {
   "cell_type": "markdown",
   "metadata": {},
   "source": [
    "# 本題要找出在array中只有出現過一次的數值\n",
    "原題目連結: https://leetcode.com/problems/single-number-iii/  \n",
    "\n",
    "Given an integer array nums, in which exactly two elements appear only once and all the other elements appear exactly twice. Find the two elements that appear only once. You can return the answer in any order.  \n",
    "\n",
    "Follow up: Your algorithm should run in linear runtime complexity. Could you implement it using only constant space complexity?  \n",
    "\n",
    "範例:  \n",
    "Ex1:  \n",
    "Input: nums = [1,2,1,3,2,5]  \n",
    "Output: [3,5]  \n",
    "Explanation:  [5, 3] is also a valid answer.  \n",
    "\n",
    "Ex2:  \n",
    "Input: nums = [-1,0]  \n",
    "Output: [-1,0]  \n",
    "\n",
    "Ex3:  \n",
    "Input: nums = [0,1]  \n",
    "Output: [1,0]  "
   ]
  },
  {
   "cell_type": "markdown",
   "metadata": {},
   "source": [
    "* 解題想法:  \n",
    "同樣是一題找出list中只出現過一次的數值，與其他題目不同的是，這題沒有限定只有一個數字會出現一次，因此換了另一個方式去處理:  \n",
    "首先用一個dict來處理所有數字出現的次數，最後去檢查dict的key與value狀況，如果value為1則將key加入一個list中，最後回傳list"
   ]
  },
  {
   "cell_type": "code",
   "execution_count": null,
   "metadata": {},
   "outputs": [],
   "source": [
    "class Solution:\n",
    "    def singleNumber(self, nums: List[int]) -> List[int]:\n",
    "        freq = {}\n",
    "        result = []\n",
    "        for n in range(len(nums)):\n",
    "            if nums[n] not in freq.keys():\n",
    "                freq[nums[n]] = 1\n",
    "            else:\n",
    "                freq[nums[n]] += 1\n",
    "        for key, val in freq.items():\n",
    "            if val != 2:\n",
    "                result.append(key)\n",
    "        return result"
   ]
  }
 ],
 "metadata": {
  "kernelspec": {
   "display_name": "Python 3",
   "language": "python",
   "name": "python3"
  },
  "language_info": {
   "codemirror_mode": {
    "name": "ipython",
    "version": 3
   },
   "file_extension": ".py",
   "mimetype": "text/x-python",
   "name": "python",
   "nbconvert_exporter": "python",
   "pygments_lexer": "ipython3",
   "version": "3.7.6"
  }
 },
 "nbformat": 4,
 "nbformat_minor": 4
}
