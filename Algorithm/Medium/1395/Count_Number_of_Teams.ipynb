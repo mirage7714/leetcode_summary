{
 "cells": [
  {
   "cell_type": "markdown",
   "metadata": {},
   "source": [
    "# 本題要找出在指定的array中，共有幾組情況是嚴格遞增或是嚴格遞減的情況\n",
    "原題目連結: https://leetcode.com/problems/count-number-of-teams/  \n",
    "\n",
    "There are n soldiers standing in a line. Each soldier is assigned a unique rating value.  \n",
    "\n",
    "You have to form a team of 3 soldiers amongst them under the following rules:  \n",
    "\n",
    "Choose 3 soldiers with index (i, j, k) with rating (rating[i], rating[j], rating[k]).  \n",
    "A team is valid if:  (rating[i] < rating[j] < rating[k]) or (rating[i] > rating[j] > rating[k]) where (0 <= i < j < k < n).  \n",
    "Return the number of teams you can form given the conditions. (soldiers can be part of multiple teams).  \n",
    "\n",
    "範例:  \n",
    "Ex1:   \n",
    "Input: rating = [2,5,3,4,1]  \n",
    "Output: 3  \n",
    "Explanation: We can form three teams given the conditions. (2,3,4), (5,4,1), (5,3,1).   \n",
    "\n",
    "Ex2:  \n",
    "Input: rating = [2,1,3]  \n",
    "Output: 0  \n",
    "Explanation: We can't form any team given the conditions.  \n",
    "\n",
    "Ex3:  \n",
    "Input: rating = [1,2,3,4]  \n",
    "Output: 4"
   ]
  },
  {
   "cell_type": "markdown",
   "metadata": {},
   "source": [
    "* 解題想法:  \n",
    "在題目給定的條件下，需要使用三個迴圈來進行計算，以得到i,j,k三個數值，由於題目要求是嚴格遞增或是嚴格遞減，因此在符合這兩種情況下才會將組合列如結果的list中，最後將list長度給出就是題目求的答案"
   ]
  },
  {
   "cell_type": "code",
   "execution_count": null,
   "metadata": {},
   "outputs": [],
   "source": [
    "class Solution:\n",
    "    def numTeams(self, rating: List[int]) -> int:\n",
    "        result = []\n",
    "        for a in range(len(rating) -2):\n",
    "            for b in range(a+1, len(rating) -1):\n",
    "                for c in range(b + 1, len(rating)):\n",
    "                    if rating[a] > rating[b] and rating[b] > rating[c]:\n",
    "                        result.append([rating[a],rating[b],rating[c]])\n",
    "                    elif rating[a] < rating[b] and rating[b] < rating[c]:\n",
    "                        result.append([rating[a],rating[b],rating[c]])\n",
    "        return len(result)"
   ]
  }
 ],
 "metadata": {
  "kernelspec": {
   "display_name": "Python 3",
   "language": "python",
   "name": "python3"
  },
  "language_info": {
   "codemirror_mode": {
    "name": "ipython",
    "version": 3
   },
   "file_extension": ".py",
   "mimetype": "text/x-python",
   "name": "python",
   "nbconvert_exporter": "python",
   "pygments_lexer": "ipython3",
   "version": "3.7.4"
  }
 },
 "nbformat": 4,
 "nbformat_minor": 2
}
