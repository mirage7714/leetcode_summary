{
 "cells": [
  {
   "cell_type": "markdown",
   "metadata": {},
   "source": [
    "# 本題要計算從0出發共能到達多少個點\n",
    "原題目連結: https://leetcode.com/problems/reachable-nodes-with-restrictions/  \n",
    "\n",
    "There is an undirected tree with n nodes labeled from 0 to n - 1 and n - 1 edges.  \n",
    "\n",
    "You are given a 2D integer array edges of length n - 1 where edges[i] = [ai, bi] indicates that there is an edge between nodes ai and bi in the tree. You are also given an integer array restricted which represents restricted nodes.  \n",
    "\n",
    "Return the maximum number of nodes you can reach from node 0 without visiting a restricted node.  \n",
    "\n",
    "Note that node 0 will not be a restricted node.  \n",
    "\n",
    "範例:  \n",
    "Ex1:  \n",
    "Input: n = 7, edges = [[0,1],[1,2],[3,1],[4,0],[0,5],[5,6]], restricted = [4,5]  \n",
    "Output: 4  \n",
    "Explanation: The diagram above shows the tree.  \n",
    "We have that [0,1,2,3] are the only nodes that can be reached from node 0 without visiting a restricted node.  \n",
    "\n",
    "Ex2:  \n",
    "Input: n = 7, edges = [[0,1],[0,2],[0,5],[0,4],[3,2],[6,5]], restricted = [4,2,1]  \n",
    "Output: 3  \n",
    "Explanation: The diagram above shows the tree.  \n",
    "We have that [0,5,6] are the only nodes that can be reached from node 0 without visiting a restricted node."
   ]
  },
  {
   "cell_type": "markdown",
   "metadata": {},
   "source": [
    "* 解題想法:  \n",
    "首先將題目提供的路徑過濾掉限制的點之後，轉換成一個dict，用來表示每個點可到達的點為何，接著開始用一個dfs函數來走訪從0開始可以到達那些點，以及那些點可以繼續到達那些點，最後回傳所有可到達的點有多少"
   ]
  },
  {
   "cell_type": "code",
   "execution_count": null,
   "metadata": {},
   "outputs": [],
   "source": [
    "class Solution:\n",
    "    def reachableNodes(self, n: int, edges: List[List[int]], restricted: List[int]) -> int:\n",
    "        result = set()\n",
    "        chars = {}\n",
    "        restricted = set(restricted)\n",
    "        for e in edges:\n",
    "            if e[0] not in restricted and e[1] not in restricted:\n",
    "                if e[0] not in chars.keys():\n",
    "                    chars[e[0]] = set()\n",
    "                chars[e[0]].add(e[1])\n",
    "                if e[1] not in chars.keys():\n",
    "                    chars[e[1]] = set()\n",
    "                chars[e[1]].add(e[0])\n",
    "        def getVal(chars, target, res):\n",
    "            for c in chars[target]:\n",
    "                if c not in res: \n",
    "                    res.add(c)\n",
    "                    getVal(chars, c, res)\n",
    "        if chars and 0 in chars.keys():\n",
    "            getVal(chars, 0, result)\n",
    "        else:\n",
    "            result.add(0)\n",
    "        return len(result)"
   ]
  }
 ],
 "metadata": {
  "kernelspec": {
   "display_name": "Python 3",
   "language": "python",
   "name": "python3"
  },
  "language_info": {
   "codemirror_mode": {
    "name": "ipython",
    "version": 3
   },
   "file_extension": ".py",
   "mimetype": "text/x-python",
   "name": "python",
   "nbconvert_exporter": "python",
   "pygments_lexer": "ipython3",
   "version": "3.7.4"
  }
 },
 "nbformat": 4,
 "nbformat_minor": 4
}
