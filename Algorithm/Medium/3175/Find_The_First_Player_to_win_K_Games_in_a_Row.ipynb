{
 "cells": [
  {
   "cell_type": "markdown",
   "id": "7abb52de-9c75-48b6-9dfc-91a98b549729",
   "metadata": {},
   "source": [
    "# 本題要找出第一個贏K場的人為何 (\\#Array )\n",
    "原題目連結: https://leetcode.com/problems/find-the-first-player-to-win-k-games-in-a-row/description/  \n",
    "\n",
    "A competition consists of n players numbered from 0 to n - 1.  \n",
    "You are given an integer array skills of size n and a positive integer k, where skills[i] is the skill level of player i. All integers in skills are unique.  \n",
    "All players are standing in a queue in order from player 0 to player n - 1.  \n",
    "The competition process is as follows:  \n",
    "The first two players in the queue play a game, and the player with the higher skill level wins.  \n",
    "After the game, the winner stays at the beginning of the queue, and the loser goes to the end of it.  \n",
    "The winner of the competition is the first player who wins k games in a row.  \n",
    "Return the initial index of the winning player.  \n",
    "\n",
    "範例:  \n",
    "Ex1:  \n",
    "Input: skills = [4,2,6,3,9], k = 2  \n",
    "Output: 2  \n",
    "Explanation:  \n",
    "Initially, the queue of players is [0,1,2,3,4]. The following process happens:  \n",
    "Players 0 and 1 play a game, since the skill of player 0 is higher than that of player 1, player 0 wins. The resulting queue is [0,2,3,4,1].  \n",
    "Players 0 and 2 play a game, since the skill of player 2 is higher than that of player 0, player 2 wins. The resulting queue is [2,3,4,1,0].  \n",
    "Players 2 and 3 play a game, since the skill of player 2 is higher than that of player 3, player 2 wins. The resulting queue is [2,4,1,0,3].  \n",
    "Player 2 won k = 2 games in a row, so the winner is player 2.   \n",
    "\n",
    "Ex2:  \n",
    "Input: skills = [2,5,4], k = 3  \n",
    "Output: 1  \n",
    "Explanation:  \n",
    "Initially, the queue of players is [0,1,2]. The following process happens:  \n",
    "Players 0 and 1 play a game, since the skill of player 1 is higher than that of player 0, player 1 wins. The resulting queue is [1,2,0].  \n",
    "Players 1 and 2 play a game, since the skill of player 1 is higher than that of player 2, player 1 wins. The resulting queue is [1,0,2].  \n",
    "Players 1 and 0 play a game, since the skill of player 1 is higher than that of player 0, player 1 wins. The resulting queue is [1,2,0].  \n",
    "Player 1 won k = 3 games in a row, so the winner is player 1.  "
   ]
  },
  {
   "cell_type": "markdown",
   "id": "6e37243a-92a4-4e4c-961d-77c7651e95cd",
   "metadata": {},
   "source": [
    "* 解題想法:  \n",
    "首先用一個變數來放目前的贏家，預設是先用第一個玩家，另外用一個變數來紀錄勝利的場數，接著開始進行比較，如果贏有更新需要重設勝場數，如果勝場數到達指定條件則回傳贏家，如果最後都沒有贏家則回傳最大值的玩家"
   ]
  },
  {
   "cell_type": "code",
   "execution_count": null,
   "id": "87de2e4b-dd08-405f-a51b-cad917ae1ae8",
   "metadata": {},
   "outputs": [],
   "source": [
    "class Solution:\n",
    "    def findWinningPlayer(self, skills: List[int], k: int) -> int:\n",
    "        win = 0\n",
    "        start = 0\n",
    "        for i in range(1, len(skills)):\n",
    "            if skills[i] > skills[start]:\n",
    "                win = 1\n",
    "                start = i\n",
    "            else:\n",
    "                win += 1\n",
    "            if win == k:\n",
    "                return start\n",
    "        return skills.index(max(skills))"
   ]
  }
 ],
 "metadata": {
  "kernelspec": {
   "display_name": "Python 3 (ipykernel)",
   "language": "python",
   "name": "python3"
  },
  "language_info": {
   "codemirror_mode": {
    "name": "ipython",
    "version": 3
   },
   "file_extension": ".py",
   "mimetype": "text/x-python",
   "name": "python",
   "nbconvert_exporter": "python",
   "pygments_lexer": "ipython3",
   "version": "3.9.13"
  }
 },
 "nbformat": 4,
 "nbformat_minor": 5
}
