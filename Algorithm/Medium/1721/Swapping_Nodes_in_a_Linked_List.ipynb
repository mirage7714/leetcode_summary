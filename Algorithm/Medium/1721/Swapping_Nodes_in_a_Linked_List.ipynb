{
 "cells": [
  {
   "cell_type": "markdown",
   "metadata": {},
   "source": [
    "# 本題要將第K個與後面數來第K個進行倒轉\n",
    "原題目連結: https://leetcode.com/problems/swapping-nodes-in-a-linked-list/  \n",
    "\n",
    "You are given the head of a linked list, and an integer k.  \n",
    "\n",
    "Return the head of the linked list after swapping the values of the kth node from the beginning and the kth node from the end (the list is 1-indexed).  \n",
    "\n",
    "範例:  \n",
    "Ex1:  \n",
    "Input: head = [1,2,3,4,5], k = 2  \n",
    "Output: [1,4,3,2,5]  \n",
    "\n",
    "Ex2:  \n",
    "Input: head = [7,9,6,6,7,8,3,0,9,5], k = 5  \n",
    "Output: [7,9,6,6,8,7,3,0,9,5]"
   ]
  },
  {
   "cell_type": "markdown",
   "metadata": {},
   "source": [
    "* 解題想法:  \n",
    "首先用一個list，將每個node取出後放入list中，接著將前面第K個與後面數來第K個node進行調換，最後重新將linked list組合起來就是答案"
   ]
  },
  {
   "cell_type": "code",
   "execution_count": null,
   "metadata": {},
   "outputs": [],
   "source": [
    "# Definition for singly-linked list.\n",
    "# class ListNode:\n",
    "#     def __init__(self, val=0, next=None):\n",
    "#         self.val = val\n",
    "#         self.next = next\n",
    "class Solution:\n",
    "    def swapNodes(self, head: Optional[ListNode], k: int) -> Optional[ListNode]:\n",
    "        val = []\n",
    "        result = ListNode(0)\n",
    "        temp = result\n",
    "        while head:\n",
    "            t = head.next\n",
    "            head.next = None\n",
    "            val.append(head)\n",
    "            head = t\n",
    "        move = val[k-1]\n",
    "        val[k-1] = val[-k]\n",
    "        val[-k] = move\n",
    "        for m in range(len(val)):\n",
    "            temp.next = val[m]\n",
    "            temp = temp.next\n",
    "        return result.next"
   ]
  }
 ],
 "metadata": {
  "kernelspec": {
   "display_name": "Python 3",
   "language": "python",
   "name": "python3"
  },
  "language_info": {
   "codemirror_mode": {
    "name": "ipython",
    "version": 3
   },
   "file_extension": ".py",
   "mimetype": "text/x-python",
   "name": "python",
   "nbconvert_exporter": "python",
   "pygments_lexer": "ipython3",
   "version": "3.7.4"
  }
 },
 "nbformat": 4,
 "nbformat_minor": 4
}
