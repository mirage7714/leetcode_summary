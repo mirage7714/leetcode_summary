{
 "cells": [
  {
   "cell_type": "markdown",
   "metadata": {},
   "source": [
    "# 本題要將LinkedList的數值乘2後放入新的LinkedList中 (\\#LinkedList )\n",
    "原題目連結: https://leetcode.com/problems/double-a-number-represented-as-a-linked-list/description/  \n",
    "\n",
    "You are given the head of a non-empty linked list representing a non-negative integer without leading zeroes.  \n",
    "Return the head of the linked list after doubling it.  \n",
    "\n",
    "範例:  \n",
    "Ex1:  \n",
    "Input: head = [1,8,9]  \n",
    "Output: [3,7,8]  \n",
    "Explanation: The figure above corresponds to the given linked list which represents the number 189. Hence, the returned linked list represents the number 189 * 2 = 378.  \n",
    "\n",
    "Ex2:  \n",
    "Input: head = [9,9,9]  \n",
    "Output: [1,9,9,8]  \n",
    "Explanation: The figure above corresponds to the given linked list which represents the number 999. Hence, the returned linked list reprersents the number 999 * 2 = 1998. "
   ]
  },
  {
   "cell_type": "markdown",
   "metadata": {},
   "source": [
    "* 解題想法:  \n",
    "首先用一個list來存放雙倍之後的數值，接著開始讀取原本的LinkedList並將數值放入，接著建立一個新的LinkedList並把更新後的數值放入，最後回傳新的LinkedList作為答案"
   ]
  },
  {
   "cell_type": "code",
   "execution_count": null,
   "metadata": {},
   "outputs": [],
   "source": [
    "# Definition for singly-linked list.\n",
    "# class ListNode:\n",
    "#     def __init__(self, val=0, next=None):\n",
    "#         self.val = val\n",
    "#         self.next = next\n",
    "class Solution:\n",
    "    def doubleIt(self, head: Optional[ListNode]) -> Optional[ListNode]:\n",
    "        res = ListNode()\n",
    "        temp = res\n",
    "        val = []\n",
    "        while head:\n",
    "            v = head.val * 2\n",
    "            if not val:\n",
    "                if v >= 10:\n",
    "                    val.append(v // 10)\n",
    "                val.append(v % 10)\n",
    "            else:\n",
    "                if v >= 10:\n",
    "                    val[-1] += 1\n",
    "                val.append(v % 10)\n",
    "            head = head.next\n",
    "        for v in val:\n",
    "            n = ListNode()\n",
    "            n.val = v\n",
    "            temp.next = n\n",
    "            temp = temp.next\n",
    "        return res.next"
   ]
  }
 ],
 "metadata": {
  "kernelspec": {
   "display_name": "Python 3",
   "language": "python",
   "name": "python3"
  },
  "language_info": {
   "codemirror_mode": {
    "name": "ipython",
    "version": 3
   },
   "file_extension": ".py",
   "mimetype": "text/x-python",
   "name": "python",
   "nbconvert_exporter": "python",
   "pygments_lexer": "ipython3",
   "version": "3.7.6"
  }
 },
 "nbformat": 4,
 "nbformat_minor": 4
}
