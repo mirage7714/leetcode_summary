{
 "cells": [
  {
   "cell_type": "markdown",
   "metadata": {},
   "source": [
    "# 本題要找出在增加了K之後，list最大的乘積和為多少\n",
    "原題目連結: https://leetcode.com/problems/maximum-product-after-k-increments/  \n",
    "\n",
    "You are given an array of non-negative integers nums and an integer k. In one operation, you may choose any element from nums and increment it by 1.  \n",
    "\n",
    "Return the maximum product of nums after at most k operations. Since the answer may be very large, return it modulo 109 + 7. Note that you should maximize the product before taking the modulo.   \n",
    "\n",
    "範例:  \n",
    "Ex1:  \n",
    "Input: nums = [0,4], k = 5  \n",
    "Output: 20  \n",
    "Explanation: Increment the first number 5 times.  \n",
    "Now nums = [5, 4], with a product of 5 * 4 = 20.  \n",
    "It can be shown that 20 is maximum product possible, so we return 20.  \n",
    "Note that there may be other ways to increment nums to have the maximum product.  \n",
    "\n",
    "Ex2:  \n",
    "Input: nums = [6,3,3,2], k = 2  \n",
    "Output: 216  \n",
    "Explanation: Increment the second number 1 time and increment the fourth number 1 time.  \n",
    "Now nums = [6, 4, 3, 3], with a product of 6 * 4 * 3 * 3 = 216.  \n",
    "It can be shown that 216 is maximum product possible, so we return 216.  \n",
    "Note that there may be other ways to increment nums to have the maximum product."
   ]
  },
  {
   "cell_type": "markdown",
   "metadata": {},
   "source": [
    "* 解題想法:  \n",
    "由於要乘積最大化，因此需要將K均等的分在最小的數值上，因此這邊使用heap來將最小的數值取出並加1之後再放回，直到K值用完為止，最後再將修改後的數值乘積和求出後取mod就是答案"
   ]
  },
  {
   "cell_type": "code",
   "execution_count": null,
   "metadata": {},
   "outputs": [],
   "source": [
    "import heapq\n",
    "class Solution:\n",
    "    def maximumProduct(self, nums: List[int], k: int) -> int:\n",
    "        heapq.heapify(nums)\n",
    "        for _ in range(k):\n",
    "            n = heapq.heappop(nums)\n",
    "            heapq.heappush(nums, n+1)\n",
    "        ans = 1\n",
    "        for i in nums:\n",
    "            ans*=i\n",
    "            ans%= 1000000007\n",
    "        return ans"
   ]
  }
 ],
 "metadata": {
  "kernelspec": {
   "display_name": "Python 3",
   "language": "python",
   "name": "python3"
  },
  "language_info": {
   "codemirror_mode": {
    "name": "ipython",
    "version": 3
   },
   "file_extension": ".py",
   "mimetype": "text/x-python",
   "name": "python",
   "nbconvert_exporter": "python",
   "pygments_lexer": "ipython3",
   "version": "3.7.4"
  }
 },
 "nbformat": 4,
 "nbformat_minor": 4
}
