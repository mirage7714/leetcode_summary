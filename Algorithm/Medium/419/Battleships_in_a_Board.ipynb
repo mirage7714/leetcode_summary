{
 "cells": [
  {
   "cell_type": "markdown",
   "id": "b8600138-5cd7-4a22-8f3c-7468e8a147c5",
   "metadata": {},
   "source": [
    "# 本題要找出地圖上共有幾艘船 (\\#Array, \\#2D-Array, \\#DFS )\n",
    "原題目連結: https://leetcode.com/problems/battleships-in-a-board/description/   \n",
    "\n",
    "Given an m x n matrix board where each cell is a battleship 'X' or empty '.', return the number of the battleships on board.  \n",
    "\n",
    "Battleships can only be placed horizontally or vertically on board. In other words, they can only be made of the shape 1 x k (1 row, k columns) or k x 1 (k rows, 1 column), where k can be of any size. At least one horizontal or vertical cell separates between two battleships (i.e., there are no adjacent battleships).  \n",
    "\n",
    "範例:  \n",
    "Ex1:  \n",
    "Input: board = [[\"X\",\".\",\".\",\"X\"],[\".\",\".\",\".\",\"X\"],[\".\",\".\",\".\",\"X\"]]  \n",
    "Output: 2  \n",
    "\n",
    "Ex2:  \n",
    "Input: board = [[\".\"]]  \n",
    "Output: 0"
   ]
  },
  {
   "cell_type": "markdown",
   "id": "c0aa733f-e2a4-4ac5-98e4-161fb2a594f0",
   "metadata": {},
   "source": [
    "* 解題想法:  \n",
    "首先建立一個走訪節點的函數dfs，只要有點位為'X'時則檢查周邊是否有'X'並清除，接著開始走訪2D list，如果有座標為'X'時則代表有一艘船，將數值加一後用DFS清除該座標周邊的值，最後回傳總數值"
   ]
  },
  {
   "cell_type": "code",
   "execution_count": null,
   "id": "5f754d52-c448-4ff8-a326-a97d41f96eb7",
   "metadata": {},
   "outputs": [],
   "source": [
    "class Solution:\n",
    "    def countBattleships(self, board: List[List[str]]) -> int:\n",
    "        def dfs(nums, i, j):\n",
    "            if nums[i][j] == 'X':\n",
    "                nums[i][j] = '.'\n",
    "                if j + 1 < len(nums[0]) and nums[i][j+1] == 'X':\n",
    "                    dfs(nums, i, j+1)\n",
    "                if i+1 < len(nums) and nums[i+1][j] == 'X':\n",
    "                    dfs(nums, i+1, j)\n",
    "        res = 0\n",
    "        for i in range(len(board)):\n",
    "            for j in range(len(board[0])):\n",
    "                if board[i][j] == 'X':\n",
    "                    res += 1\n",
    "                    dfs(board, i, j)\n",
    "        return res"
   ]
  }
 ],
 "metadata": {
  "kernelspec": {
   "display_name": "Python 3 (ipykernel)",
   "language": "python",
   "name": "python3"
  },
  "language_info": {
   "codemirror_mode": {
    "name": "ipython",
    "version": 3
   },
   "file_extension": ".py",
   "mimetype": "text/x-python",
   "name": "python",
   "nbconvert_exporter": "python",
   "pygments_lexer": "ipython3",
   "version": "3.9.13"
  }
 },
 "nbformat": 4,
 "nbformat_minor": 5
}
