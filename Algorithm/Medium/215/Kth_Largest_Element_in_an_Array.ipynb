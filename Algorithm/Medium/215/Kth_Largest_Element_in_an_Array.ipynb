{
 "cells": [
  {
   "cell_type": "markdown",
   "metadata": {},
   "source": [
    "# 本題要找出array中第K個大小的值為和\n",
    "原題目連結: https://leetcode.com/problems/kth-largest-element-in-an-array/  \n",
    "\n",
    "Find the kth largest element in an unsorted array. Note that it is the kth largest element in the sorted order, not the kth distinct element.  \n",
    "\n",
    "範例:  \n",
    "Ex1:  \n",
    "Input: [3,2,1,5,6,4] and k = 2  \n",
    "Output: 5  \n",
    "\n",
    "Ex2:  \n",
    "Input: [3,2,3,1,2,4,5,5,6] and k = 4  \n",
    "Output: 4"
   ]
  },
  {
   "cell_type": "markdown",
   "metadata": {},
   "source": [
    " * 解題想法:  \n",
    "其實如果可以用內建的sort的話，這題很單純的用sort之後回傳第K個數值就是答案了"
   ]
  },
  {
   "cell_type": "code",
   "execution_count": null,
   "metadata": {},
   "outputs": [],
   "source": [
    "class Solution:\n",
    "    def findKthLargest(self, nums: List[int], k: int) -> int:\n",
    "        nums.sort(reverse= True)\n",
    "        return nums[k-1]"
   ]
  }
 ],
 "metadata": {
  "kernelspec": {
   "display_name": "Python 3",
   "language": "python",
   "name": "python3"
  },
  "language_info": {
   "codemirror_mode": {
    "name": "ipython",
    "version": 3
   },
   "file_extension": ".py",
   "mimetype": "text/x-python",
   "name": "python",
   "nbconvert_exporter": "python",
   "pygments_lexer": "ipython3",
   "version": "3.7.6"
  }
 },
 "nbformat": 4,
 "nbformat_minor": 4
}
