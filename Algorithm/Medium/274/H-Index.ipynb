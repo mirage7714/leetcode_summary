{
 "cells": [
  {
   "cell_type": "markdown",
   "id": "0117e6a2-f928-4963-b068-991352151235",
   "metadata": {},
   "source": [
    "# 本題要找出h-index為多少 (\\#Array, \\#Sorting )\n",
    "原題目連結: https://leetcode.com/problems/h-index/description/  \n",
    "\n",
    "Given an array of integers citations where citations[i] is the number of citations a researcher received for their ith paper, return the researcher's h-index.  \n",
    "\n",
    "According to the definition of h-index on Wikipedia: The h-index is defined as the maximum value of h such that the given researcher has published at least h papers that have each been cited at least h times.  \n",
    "\n",
    "範例:  \n",
    "Ex1:  \n",
    "Input: citations = [3,0,6,1,5]  \n",
    "Output: 3  \n",
    "Explanation: [3,0,6,1,5] means the researcher has 5 papers in total and each of them had received 3, 0, 6, 1, 5 citations respectively.  \n",
    "Since the researcher has 3 papers with at least 3 citations each and the remaining two with no more than 3 citations each, their h-index is 3.  \n",
    "\n",
    "Ex2:  \n",
    "Input: citations = [1,3,1]  \n",
    "Output: 1  "
   ]
  },
  {
   "cell_type": "markdown",
   "id": "98a75615-999e-49a1-b9e0-b3e82235e211",
   "metadata": {},
   "source": [
    "* 解題想法:  \n",
    "首先將citations進行排序，接著從最大開始進行檢查，如果當數值為0時則中斷迴圈，否則如果當數值大於目前的結果時則將結果加1並繼續下一個數值，直到目前數值小於結果時則中斷迴圈"
   ]
  },
  {
   "cell_type": "code",
   "execution_count": null,
   "id": "eb6980fa-b05f-4cd3-9a45-43a240da822b",
   "metadata": {},
   "outputs": [],
   "source": [
    "class Solution:\n",
    "    def hIndex(self, citations: List[int]) -> int:\n",
    "        citations.sort()\n",
    "        res = 0\n",
    "        for i in range(len(citations)-1, -1, -1):\n",
    "            if citations[i] == 0:\n",
    "                break\n",
    "            if res < citations[i]:\n",
    "                res += 1\n",
    "            else:\n",
    "                break\n",
    "        return res"
   ]
  }
 ],
 "metadata": {
  "kernelspec": {
   "display_name": "Python 3 (ipykernel)",
   "language": "python",
   "name": "python3"
  },
  "language_info": {
   "codemirror_mode": {
    "name": "ipython",
    "version": 3
   },
   "file_extension": ".py",
   "mimetype": "text/x-python",
   "name": "python",
   "nbconvert_exporter": "python",
   "pygments_lexer": "ipython3",
   "version": "3.9.13"
  }
 },
 "nbformat": 4,
 "nbformat_minor": 5
}
