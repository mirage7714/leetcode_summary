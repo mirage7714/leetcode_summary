{
 "cells": [
  {
   "cell_type": "markdown",
   "metadata": {},
   "source": [
    "# 本題要將總和與指定數值相符的路徑找出來\n",
    "原題目連結: https://leetcode.com/problems/path-sum-ii/  \n",
    "\n",
    "Given the root of a binary tree and an integer targetSum, return all root-to-leaf paths where the sum of the node values in the path equals targetSum. Each path should be returned as a list of the node values, not node references.  \n",
    "\n",
    "A root-to-leaf path is a path starting from the root and ending at any leaf node. A leaf is a node with no children.  \n",
    "\n",
    "範例:  \n",
    "Ex1:  \n",
    "Input: root = [5,4,8,11,null,13,4,7,2,null,null,5,1], targetSum = 22  \n",
    "Output: [[5,4,11,2],[5,8,4,5]]  \n",
    "Explanation: There are two paths whose sum equals targetSum:  \n",
    "5 + 4 + 11 + 2 = 22  \n",
    "5 + 8 + 4 + 5 = 22  \n",
    "\n",
    "Ex2:  \n",
    "Input: root = [1,2,3], targetSum = 5  \n",
    "Output: []  \n",
    "\n",
    "Ex3:  \n",
    "Input: root = [1,2], targetSum = 0  \n",
    "Output: []"
   ]
  },
  {
   "cell_type": "markdown",
   "metadata": {},
   "source": [
    "* 解題想法:  \n",
    "參考了其他的解法，路徑類的問題需要使用遞迴來進行解題，首先建立一個走訪所有路徑的函數constructPath，接著開始走訪所有的路徑，並將走過路徑的總和以及各路徑的數值放入一個list中，在走訪之後檢查總和是否與指定的值符合，如果符合則將走過的路徑放入結果中，最後回傳結果"
   ]
  },
  {
   "cell_type": "code",
   "execution_count": null,
   "metadata": {},
   "outputs": [],
   "source": [
    "# Definition for a binary tree node.\n",
    "# class TreeNode:\n",
    "#     def __init__(self, val=0, left=None, right=None):\n",
    "#         self.val = val\n",
    "#         self.left = left\n",
    "#         self.right = right\n",
    "class Solution:\n",
    "    def pathSum(self, root: Optional[TreeNode], targetSum: int) -> List[List[int]]:\n",
    "        \n",
    "        \n",
    "        def constructPath(node, path, target):\n",
    "            target += node.val\n",
    "            if not node.left and not node.right and target == targetSum:\n",
    "                result.append(path)\n",
    "            else:\n",
    "                if node.left:\n",
    "                    constructPath(node.left, path + [node.left.val], target)\n",
    "                if node.right:\n",
    "                    constructPath(node.right, path + [node.right.val], target)\n",
    "        \n",
    "        result = []\n",
    "        constructPath(root, [root.val], 0)\n",
    "        return result"
   ]
  }
 ],
 "metadata": {
  "kernelspec": {
   "display_name": "Python 3",
   "language": "python",
   "name": "python3"
  },
  "language_info": {
   "codemirror_mode": {
    "name": "ipython",
    "version": 3
   },
   "file_extension": ".py",
   "mimetype": "text/x-python",
   "name": "python",
   "nbconvert_exporter": "python",
   "pygments_lexer": "ipython3",
   "version": "3.7.4"
  }
 },
 "nbformat": 4,
 "nbformat_minor": 4
}
