{
 "cells": [
  {
   "cell_type": "markdown",
   "metadata": {},
   "source": [
    "# 本題要將指定的linked list分割成K個\n",
    "原題目連結: https://leetcode.com/problems/split-linked-list-in-parts/  \n",
    "\n",
    "Given the head of a singly linked list and an integer k, split the linked list into k consecutive linked list parts.  \n",
    "The length of each part should be as equal as possible: no two parts should have a size differing by more than one. This may lead to some parts being null.  \n",
    "The parts should be in the order of occurrence in the input list, and parts occurring earlier should always have a size greater than or equal to parts occurring later.  \n",
    "Return an array of the k parts.  \n",
    "\n",
    "範例:  \n",
    "Ex1:  \n",
    "Input: head = [1,2,3], k = 5  \n",
    "Output: [[1],[2],[3],[],[]]  \n",
    "Explanation:  \n",
    "The first element output[0] has output[0].val = 1, output[0].next = null.  \n",
    "The last element output[4] is null, but its string representation as a ListNode is [].  \n",
    "\n",
    "Ex2:  \n",
    "Input: head = [1,2,3,4,5,6,7,8,9,10], k = 3  \n",
    "Output: [[1,2,3,4],[5,6,7],[8,9,10]]  \n",
    "Explanation:  \n",
    "The input has been split into consecutive parts with size difference at most 1, and earlier parts are a larger size than the later parts."
   ]
  },
  {
   "cell_type": "markdown",
   "metadata": {},
   "source": [
    "* 解題想法:  \n",
    "首先將linked list中的數值取出，接著計算每個part需要的長度為多少，如果長度小於K值的話，需要補上一個空的linked list，如果長度大於K值，則前K個linked list需要多加一個數字(因為最多長度差異為1)，接著將組合好的linked list放入一個list中，最後回傳list作為答案"
   ]
  },
  {
   "cell_type": "code",
   "execution_count": null,
   "metadata": {},
   "outputs": [],
   "source": [
    "# Definition for singly-linked list.\n",
    "# class ListNode:\n",
    "#     def __init__(self, val=0, next=None):\n",
    "#         self.val = val\n",
    "#         self.next = next\n",
    "class Solution:\n",
    "    def splitListToParts(self, head: Optional[ListNode], k: int) -> List[Optional[ListNode]]:\n",
    "        result = []\n",
    "        val = []\n",
    "        while head:\n",
    "            val.append(head.val)\n",
    "            head = head.next\n",
    "        if len(val) <= k:\n",
    "            for v in val:\n",
    "                node = ListNode()\n",
    "                node.val = v\n",
    "                result.append(node)\n",
    "            while len(result) < k:\n",
    "                result.append(None)\n",
    "        else:\n",
    "            l = len(val) % k\n",
    "            n = int((len(val)-l) / k)\n",
    "            i = 0\n",
    "            for m in range(k):\n",
    "                part = []\n",
    "                temp = []\n",
    "                if len(result) < l:\n",
    "                    part = val[i: i+n+1]\n",
    "                    i = i+n+1\n",
    "                else:\n",
    "                    part = val[i:i+n]\n",
    "                    i = i+n\n",
    "                for p in range(len(part)-1, -1, -1):\n",
    "                    node = ListNode()\n",
    "                    node.val = part[p]\n",
    "                    if len(temp) > 0:\n",
    "                        node.next = temp[-1]\n",
    "                    temp.append(node)\n",
    "                result.append(temp[-1])\n",
    "        return result"
   ]
  }
 ],
 "metadata": {
  "kernelspec": {
   "display_name": "Python 3",
   "language": "python",
   "name": "python3"
  },
  "language_info": {
   "codemirror_mode": {
    "name": "ipython",
    "version": 3
   },
   "file_extension": ".py",
   "mimetype": "text/x-python",
   "name": "python",
   "nbconvert_exporter": "python",
   "pygments_lexer": "ipython3",
   "version": "3.7.4"
  }
 },
 "nbformat": 4,
 "nbformat_minor": 4
}
