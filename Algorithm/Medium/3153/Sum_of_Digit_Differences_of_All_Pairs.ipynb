{
 "cells": [
  {
   "cell_type": "markdown",
   "id": "274bf271-a1a0-48f4-9ded-9c163f31e1ed",
   "metadata": {},
   "source": [
    "# 本題要找出每個數字有出現多少不同的數值 (\\#HashMap, \\#Array )\n",
    "原題目連結: https://leetcode.com/problems/sum-of-digit-differences-of-all-pairs/description/  \n",
    "\n",
    "You are given an array nums consisting of positive integers where all integers have the same number of digits.  \n",
    "The digit difference between two integers is the count of different digits that are in the same position in the two integers.  \n",
    "Return the sum of the digit differences between all pairs of integers in nums.  \n",
    "\n",
    "範例:  \n",
    "Ex1:  \n",
    "Input: nums = [13,23,12]  \n",
    "Output: 4  \n",
    "Explanation:  \n",
    "We have the following:  \n",
    "- The digit difference between 13 and 23 is 1.  \n",
    "- The digit difference between 13 and 12 is 1.  \n",
    "- The digit difference between 23 and 12 is 2.  \n",
    "So the total sum of digit differences between all pairs of integers is 1 + 1 + 2 = 4.  \n",
    "\n",
    "Ex2:  \n",
    "Input: nums = [10,10,10,10]  \n",
    "Output: 0  \n",
    "Explanation:  \n",
    "All the integers in the array are the same. So the total sum of digit differences between all pairs of integers will be 0."
   ]
  },
  {
   "cell_type": "markdown",
   "id": "e67aa292-e988-4dde-b6b9-ba9c579ffd77",
   "metadata": {},
   "source": [
    "* 解題想法:  \n",
    "首先將list中所有數值每個位數出現的數字進行統計，接著開始逐位進行計算: 將每個數字出現的次數乘上剩下不相同的數字就是有的組合，將數值進行加總最後就是答案"
   ]
  },
  {
   "cell_type": "code",
   "execution_count": null,
   "id": "4426d7b7-0d07-47a2-aceb-4a54ae9a3acd",
   "metadata": {},
   "outputs": [],
   "source": [
    "class Solution:\n",
    "    def sumDigitDifferences(self, nums: List[int]) -> int:\n",
    "        count = {}\n",
    "        res = 0\n",
    "        for n in nums:\n",
    "            s = str(n)\n",
    "            for i in range(len(s)):\n",
    "                if i not in count.keys():\n",
    "                    count[i] = {}\n",
    "                if s[i] not in count[i].keys():\n",
    "                    count[i][s[i]] = 0\n",
    "                count[i][s[i]] += 1\n",
    "        for val in count.values():\n",
    "            if len(val) > 1:\n",
    "                l = len(nums)\n",
    "                for v in val.values():\n",
    "                    res += v * (l - v)\n",
    "                    l -= v\n",
    "        return res"
   ]
  }
 ],
 "metadata": {
  "kernelspec": {
   "display_name": "Python 3 (ipykernel)",
   "language": "python",
   "name": "python3"
  },
  "language_info": {
   "codemirror_mode": {
    "name": "ipython",
    "version": 3
   },
   "file_extension": ".py",
   "mimetype": "text/x-python",
   "name": "python",
   "nbconvert_exporter": "python",
   "pygments_lexer": "ipython3",
   "version": "3.9.13"
  }
 },
 "nbformat": 4,
 "nbformat_minor": 5
}
