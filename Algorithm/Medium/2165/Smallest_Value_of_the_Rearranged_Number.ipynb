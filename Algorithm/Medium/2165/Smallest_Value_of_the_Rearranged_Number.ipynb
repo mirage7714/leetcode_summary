{
 "cells": [
  {
   "cell_type": "markdown",
   "metadata": {},
   "source": [
    "# 本題要找出最小的數字為何\n",
    "原題目連結: https://leetcode.com/problems/smallest-value-of-the-rearranged-number/  \n",
    "\n",
    "You are given an integer num. Rearrange the digits of num such that its value is minimized and it does not contain any leading zeros.  \n",
    "\n",
    "Return the rearranged number with minimal value.  \n",
    "\n",
    "Note that the sign of the number does not change after rearranging the digits.  \n",
    "\n",
    "範例:  \n",
    "Ex1:  \n",
    "Input: num = 310  \n",
    "Output: 103  \n",
    "Explanation: The possible arrangements for the digits of 310 are 013, 031, 103, 130, 301, 310.   \n",
    "The arrangement with the smallest value that does not contain any leading zeros is 103.  \n",
    "\n",
    "Ex2:  \n",
    "Input: num = -7605  \n",
    "Output: -7650  \n",
    "Explanation: Some possible arrangements for the digits of -7605 are -7650, -6705, -5076, -0567.  \n",
    "The arrangement with the smallest value that does not contain any leading zeros is -7650."
   ]
  },
  {
   "cell_type": "markdown",
   "metadata": {},
   "source": [
    "* 解題想法:  \n",
    "首先判斷數字為正數、負數或是0，接著將數字改為字串後放入list中，並計算零的個數有多少個，接著依據不同的條件對list進行排序後與0重新組合回字串，最後將字串轉回數字就是題目要找的最小數"
   ]
  },
  {
   "cell_type": "code",
   "execution_count": null,
   "metadata": {},
   "outputs": [],
   "source": [
    "class Solution:\n",
    "    def smallestNumber(self, num: int) -> int:\n",
    "        result = 0\n",
    "        chars = []\n",
    "        zeros = 0\n",
    "        word = ''\n",
    "        for n in str(num):\n",
    "            if n != '0':\n",
    "                chars.append(n)\n",
    "            else:\n",
    "                zeros+= 1\n",
    "        if num > 0:\n",
    "            chars.sort()\n",
    "            word += chars[0]\n",
    "            if zeros > 0:\n",
    "                for m in range(zeros):\n",
    "                    word += '0'\n",
    "            for n in range(1, len(chars)):\n",
    "                word += chars[n]\n",
    "        elif num < 0:\n",
    "            chars.sort(reverse = True)\n",
    "            chars.pop(-1)\n",
    "            chars.insert(0, '-')\n",
    "            word += chars[0]\n",
    "            word += chars[1]\n",
    "            for n in range(2, len(chars)):\n",
    "                word += chars[n]\n",
    "            if zeros > 0:\n",
    "                for m in range(zeros):\n",
    "                    word += '0'\n",
    "        else: \n",
    "            word += '0'\n",
    "        result = int(word)\n",
    "        return result"
   ]
  }
 ],
 "metadata": {
  "kernelspec": {
   "display_name": "Python 3",
   "language": "python",
   "name": "python3"
  },
  "language_info": {
   "codemirror_mode": {
    "name": "ipython",
    "version": 3
   },
   "file_extension": ".py",
   "mimetype": "text/x-python",
   "name": "python",
   "nbconvert_exporter": "python",
   "pygments_lexer": "ipython3",
   "version": "3.7.4"
  }
 },
 "nbformat": 4,
 "nbformat_minor": 4
}
