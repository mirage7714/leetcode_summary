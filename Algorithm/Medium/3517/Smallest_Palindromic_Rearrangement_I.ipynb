{
 "cells": [
  {
   "cell_type": "markdown",
   "id": "a2247f56-2c53-42b6-ac56-300c46c399ff",
   "metadata": {},
   "source": [
    "# 本題要找出最小的回文字串為何 (\\#String, \\#Sorting )\n",
    "原題目連結: https://leetcode.com/problems/smallest-palindromic-rearrangement-i/description/  \n",
    "\n",
    "You are given a palindromic string s.  \n",
    "Return the lexicographically smallest palindromic permutation of s.  \n",
    "\n",
    "範例:  \n",
    "Ex1:  \n",
    "Input: s = \"z\"  \n",
    "Output: \"z\"  \n",
    "Explanation:  \n",
    "A string of only one character is already the lexicographically smallest palindrome.  \n",
    "\n",
    "Ex2:  \n",
    "Input: s = \"babab\"  \n",
    "Output: \"abbba\"  \n",
    "Explanation:  \n",
    "Rearranging \"babab\" → \"abbba\" gives the smallest lexicographic palindrome.  \n",
    "\n",
    "Ex3:  \n",
    "Input: s = \"daccad\"  \n",
    "Output: \"acddca\"  \n",
    "Explanation:  \n",
    "Rearranging \"daccad\" → \"acddca\" gives the smallest lexicographic palindrome."
   ]
  },
  {
   "cell_type": "markdown",
   "id": "359200fc-16c2-49ea-b5dc-2818d2434cc4",
   "metadata": {},
   "source": [
    "* 解題想法:  \n",
    "首先將字串s轉換為每個字母出現的次數，接著從最小的字母開始取值，如果該字母出現次數為1次則代表該字母為回文的中心點，如果出現次數為奇數則代表除了中心字母為該字母之外，前後都需要出現該字母的(n-1)//2次，如果出現次數為偶數則前後直接加上該字母的n//2次，最後將字串重新組合就是答案"
   ]
  },
  {
   "cell_type": "code",
   "execution_count": null,
   "id": "76567d11-08d6-43aa-af15-04daedfc69f0",
   "metadata": {},
   "outputs": [],
   "source": [
    "class Solution:\n",
    "    def smallestPalindrome(self, s: str) -> str:\n",
    "        count = {}\n",
    "        l = ''\n",
    "        r = ''\n",
    "        m = ''\n",
    "        for i in s:\n",
    "            if i not in count.keys():\n",
    "                count[i] = 0\n",
    "            count[i] += 1\n",
    "        keys = list(count.keys())\n",
    "        keys.sort()\n",
    "        for key in keys:\n",
    "            c = count[key]\n",
    "            if c == 1:\n",
    "                m = key\n",
    "            else: \n",
    "                if c % 2 == 1:\n",
    "                    c -= 1\n",
    "                    m = key\n",
    "                i = c // 2\n",
    "                for j in range(i):\n",
    "                    l += key\n",
    "                    r = key + r\n",
    "        return l + m + r"
   ]
  }
 ],
 "metadata": {
  "kernelspec": {
   "display_name": "Python 3 (ipykernel)",
   "language": "python",
   "name": "python3"
  },
  "language_info": {
   "codemirror_mode": {
    "name": "ipython",
    "version": 3
   },
   "file_extension": ".py",
   "mimetype": "text/x-python",
   "name": "python",
   "nbconvert_exporter": "python",
   "pygments_lexer": "ipython3",
   "version": "3.12.5"
  }
 },
 "nbformat": 4,
 "nbformat_minor": 5
}
