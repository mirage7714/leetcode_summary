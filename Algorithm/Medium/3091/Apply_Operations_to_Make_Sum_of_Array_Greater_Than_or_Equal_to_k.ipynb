{
 "cells": [
  {
   "cell_type": "markdown",
   "id": "9e5ad6b5-414a-4d7e-adff-ef55e9f3fcac",
   "metadata": {},
   "source": [
    "# 本題要找出最少要幾次才能讓總和大於或等於K (\\#Math )\n",
    "原題目連結: https://leetcode.com/problems/apply-operations-to-make-sum-of-array-greater-than-or-equal-to-k/description/  \n",
    "\n",
    "You are given a positive integer k. Initially, you have an array nums = [1].  \n",
    "You can perform any of the following operations on the array any number of times (possibly zero):  \n",
    "Choose any element in the array and increase its value by 1.  \n",
    "Duplicate any element in the array and add it to the end of the array.  \n",
    "Return the minimum number of operations required to make the sum of elements of the final array greater than or equal to k.  \n",
    "\n",
    "範例:  \n",
    "Ex1:  \n",
    "Input: k = 11  \n",
    "Output: 5  \n",
    "Explanation:  \n",
    "We can do the following operations on the array nums = [1]:  \n",
    "Increase the element by 1 three times. The resulting array is nums = [4].  \n",
    "Duplicate the element two times. The resulting array is nums = [4,4,4].  \n",
    "The sum of the final array is 4 + 4 + 4 = 12 which is greater than or equal to k = 11.  \n",
    "The total number of operations performed is 3 + 2 = 5.  \n",
    "\n",
    "Ex2:   \n",
    "Input: k = 1  \n",
    "Output: 0  \n",
    "Explanation:  \n",
    "The sum of the original array is already greater than or equal to 1, so no operations are needed."
   ]
  },
  {
   "cell_type": "markdown",
   "id": "a79626de-f96a-47e8-aadb-6de56e7539b4",
   "metadata": {},
   "source": [
    "* 解題想法:  \n",
    "依題目說明，最大的次數就是k-1次，接著用迴圈計算當目前數值增加時，需要的次數變化為何，並更新目前的最小值，最後回傳最小的次數總和是多少"
   ]
  },
  {
   "cell_type": "code",
   "execution_count": null,
   "id": "f61e88d3-902d-46be-a44f-ed84d85d66a5",
   "metadata": {},
   "outputs": [],
   "source": [
    "class Solution:\n",
    "    def minOperations(self, k: int) -> int:\n",
    "        res = k -1\n",
    "        for m in range(1, 1+int(sqrt(k))):\n",
    "            t = m\n",
    "            if k % (1 +m ) == 0:\n",
    "                t += k // (total + 1) -1\n",
    "            else:\n",
    "                t += k // (total +1)\n",
    "            res = min(res, t)\n",
    "        return res"
   ]
  }
 ],
 "metadata": {
  "kernelspec": {
   "display_name": "Python 3 (ipykernel)",
   "language": "python",
   "name": "python3"
  },
  "language_info": {
   "codemirror_mode": {
    "name": "ipython",
    "version": 3
   },
   "file_extension": ".py",
   "mimetype": "text/x-python",
   "name": "python",
   "nbconvert_exporter": "python",
   "pygments_lexer": "ipython3",
   "version": "3.9.13"
  }
 },
 "nbformat": 4,
 "nbformat_minor": 5
}
