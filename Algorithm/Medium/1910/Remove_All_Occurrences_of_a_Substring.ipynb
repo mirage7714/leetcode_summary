{
 "cells": [
  {
   "cell_type": "markdown",
   "metadata": {},
   "source": [
    "# 本題要將指定的字串全部移除後回傳新的字串\n",
    "原題目連結: https://leetcode.com/problems/remove-all-occurrences-of-a-substring/  \n",
    "\n",
    "Given two strings s and part, perform the following operation on s until all occurrences of the substring part are removed:  \n",
    "\n",
    "Find the leftmost occurrence of the substring part and remove it from s.  \n",
    "Return s after removing all occurrences of part.  \n",
    "\n",
    "A substring is a contiguous sequence of characters in a string.  \n",
    "\n",
    "範例:  \n",
    "Ex1:  \n",
    "Input: s = \"daabcbaabcbc\", part = \"abc\"  \n",
    "Output: \"dab\"  \n",
    "Explanation: The following operations are done:  \n",
    "- s = \"daabcbaabcbc\", remove \"abc\" starting at index 2, so s = \"dabaabcbc\".  \n",
    "- s = \"dabaabcbc\", remove \"abc\" starting at index 4, so s = \"dababc\".  \n",
    "- s = \"dababc\", remove \"abc\" starting at index 3, so s = \"dab\".  \n",
    "Now s has no occurrences of \"abc\".  \n",
    "\n",
    "Ex2:  \n",
    "Input: s = \"axxxxyyyyb\", part = \"xy\"  \n",
    "Output: \"ab\"  \n",
    "Explanation: The following operations are done:  \n",
    "- s = \"axxxxyyyyb\", remove \"xy\" starting at index 4 so s = \"axxxyyyb\".  \n",
    "- s = \"axxxyyyb\", remove \"xy\" starting at index 3 so s = \"axxyyb\".  \n",
    "- s = \"axxyyb\", remove \"xy\" starting at index 2 so s = \"axyb\".  \n",
    "- s = \"axyb\", remove \"xy\" starting at index 1 so s = \"ab\".  \n",
    "Now s has no occurrences of \"xy\".  "
   ]
  },
  {
   "cell_type": "markdown",
   "metadata": {},
   "source": [
    "* 解題想法:  \n",
    "用一個while迴圈來確認指定的part是否有出現在s中，如果有的話則找出part的index為何，並將s重新取代為移除part後的字串，最後回傳新的字串"
   ]
  },
  {
   "cell_type": "code",
   "execution_count": null,
   "metadata": {},
   "outputs": [],
   "source": [
    "class Solution:\n",
    "    def removeOccurrences(self, s: str, part: str) -> str:\n",
    "        while part in s:\n",
    "            i = s.index(part)\n",
    "            s = s[0:i] + s[i+len(part):]\n",
    "        return s"
   ]
  }
 ],
 "metadata": {
  "kernelspec": {
   "display_name": "Python 3",
   "language": "python",
   "name": "python3"
  },
  "language_info": {
   "codemirror_mode": {
    "name": "ipython",
    "version": 3
   },
   "file_extension": ".py",
   "mimetype": "text/x-python",
   "name": "python",
   "nbconvert_exporter": "python",
   "pygments_lexer": "ipython3",
   "version": "3.7.4"
  }
 },
 "nbformat": 4,
 "nbformat_minor": 2
}
