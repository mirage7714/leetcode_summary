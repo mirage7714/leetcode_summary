{
 "cells": [
  {
   "cell_type": "markdown",
   "metadata": {},
   "source": [
    "# 本題要判斷提供的數字是否可以藉由位數的調整變成2的次方\n",
    "原題目連結: https://leetcode.com/problems/reordered-power-of-2/  \n",
    "\n",
    "Starting with a positive integer N, we reorder the digits in any order (including the original order) such that the leading digit is not zero.  \n",
    "\n",
    "Return true if and only if we can do this in a way such that the resulting number is a power of 2.  \n",
    "\n",
    "範例:  \n",
    "Ex1:  \n",
    "Input: 1  \n",
    "Output: true  \n",
    "\n",
    "Ex2:  \n",
    "Input: 10  \n",
    "Output: false  \n",
    "\n",
    "Ex3:  \n",
    "Input: 16  \n",
    "Output: true  \n",
    "\n",
    "Ex4:  \n",
    "Input: 24  \n",
    "Output: false  \n",
    "\n",
    "Ex5:  \n",
    "Input: 46  \n",
    "Output: true"
   ]
  },
  {
   "cell_type": "markdown",
   "metadata": {},
   "source": [
    "* 解題想法:  \n",
    "由於題目要求可以藉由位數的調整來判斷是否為2的次方，因此先將2的次方都先找出來，並統計共由幾個數字組成  \n",
    "接著比較題目提供的N轉換成數字的組成後是否有相同的分配，若有則代表可為2的N次方"
   ]
  },
  {
   "cell_type": "code",
   "execution_count": null,
   "metadata": {},
   "outputs": [],
   "source": [
    "class Solution:\n",
    "    def reorderedPowerOf2(self, N: int) -> bool:\n",
    "        def getDigits(num):\n",
    "            count = {}\n",
    "            n = str(num)\n",
    "            for m in range(len(n)):\n",
    "                if n[m] not in count.keys():\n",
    "                    count[n[m]] =  1\n",
    "                else:\n",
    "                    count[n[m]] += 1\n",
    "            return count\n",
    "        \n",
    "        freq = {}\n",
    "        index = 0\n",
    "        is_valid = False\n",
    "        while True:\n",
    "            num = 2 ** index\n",
    "            if num <= 10 ** 9:\n",
    "                freq[num] = getDigits(num)\n",
    "                index += 1\n",
    "            else:\n",
    "                break\n",
    "        n = getDigits(N)\n",
    "        for key, val in freq.items():\n",
    "            if len(str(key)) == len(str(N)):\n",
    "                if freq[key] == n:\n",
    "                    is_valid = True\n",
    "                    break\n",
    "        return is_valid"
   ]
  }
 ],
 "metadata": {
  "kernelspec": {
   "display_name": "Python 3",
   "language": "python",
   "name": "python3"
  },
  "language_info": {
   "codemirror_mode": {
    "name": "ipython",
    "version": 3
   },
   "file_extension": ".py",
   "mimetype": "text/x-python",
   "name": "python",
   "nbconvert_exporter": "python",
   "pygments_lexer": "ipython3",
   "version": "3.7.4"
  }
 },
 "nbformat": 4,
 "nbformat_minor": 2
}
