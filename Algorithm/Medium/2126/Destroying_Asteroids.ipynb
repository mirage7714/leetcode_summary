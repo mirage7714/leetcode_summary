{
 "cells": [
  {
   "cell_type": "markdown",
   "metadata": {},
   "source": [
    "# 本題要判斷是否能成功摧毀所有彗星\n",
    "原題目連結: https://leetcode.com/problems/destroying-asteroids/  \n",
    "\n",
    "You are given an integer mass, which represents the original mass of a planet. You are further given an integer array asteroids, where asteroids[i] is the mass of the ith asteroid.  \n",
    "\n",
    "You can arrange for the planet to collide with the asteroids in any arbitrary order. If the mass of the planet is greater than or equal to the mass of the asteroid, the asteroid is destroyed and the planet gains the mass of the asteroid. Otherwise, the planet is destroyed.  \n",
    "\n",
    "Return true if all asteroids can be destroyed. Otherwise, return false.  \n",
    "\n",
    "範例:  \n",
    "Ex1:  \n",
    "Input: mass = 10, asteroids = [3,9,19,5,21]  \n",
    "Output: true  \n",
    "Explanation: One way to order the asteroids is [9,19,5,3,21]:  \n",
    "- The planet collides with the asteroid with a mass of 9. New planet mass: 10 + 9 = 19  \n",
    "- The planet collides with the asteroid with a mass of 19. New planet mass: 19 + 19 = 38  \n",
    "- The planet collides with the asteroid with a mass of 5. New planet mass: 38 + 5 = 43  \n",
    "- The planet collides with the asteroid with a mass of 3. New planet mass: 43 + 3 = 46  \n",
    "- The planet collides with the asteroid with a mass of 21. New planet mass: 46 + 21 = 67  \n",
    "All asteroids are destroyed.  \n",
    "\n",
    "Ex2:  \n",
    "Input: mass = 5, asteroids = [4,9,23,4]  \n",
    "Output: false  \n",
    "Explanation:   \n",
    "The planet cannot ever gain enough mass to destroy the asteroid with a mass of 23.  \n",
    "After the planet destroys the other asteroids, it will have a mass of 5 + 4 + 9 + 4 = 22.  \n",
    "This is less than 23, so a collision would not destroy the last asteroid."
   ]
  },
  {
   "cell_type": "markdown",
   "metadata": {},
   "source": [
    "* 解題想法:  \n",
    "首先將隕石的list進行排序，接著依序跟mass進行比較，如果mass較大的話則將list的值加上mass，最後檢查mass是否有超過list的最大值，如果有超過最大值則代表可以順利摧毀所有隕石，否則回傳False"
   ]
  },
  {
   "cell_type": "code",
   "execution_count": null,
   "metadata": {},
   "outputs": [],
   "source": [
    "class Solution:\n",
    "    def asteroidsDestroyed(self, mass: int, asteroids: List[int]) -> bool:\n",
    "        result = False\n",
    "        asteroids.sort()\n",
    "        if mass >= asteroids[0]:\n",
    "            for a in asteroids:\n",
    "                if mass >= a:\n",
    "                    mass += a\n",
    "                else:\n",
    "                    break\n",
    "            if mass > asteroids[-1]:\n",
    "                result = True\n",
    "        return result"
   ]
  }
 ],
 "metadata": {
  "kernelspec": {
   "display_name": "Python 3",
   "language": "python",
   "name": "python3"
  },
  "language_info": {
   "codemirror_mode": {
    "name": "ipython",
    "version": 3
   },
   "file_extension": ".py",
   "mimetype": "text/x-python",
   "name": "python",
   "nbconvert_exporter": "python",
   "pygments_lexer": "ipython3",
   "version": "3.7.4"
  }
 },
 "nbformat": 4,
 "nbformat_minor": 4
}
