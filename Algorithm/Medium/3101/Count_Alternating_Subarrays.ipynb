{
 "cells": [
  {
   "cell_type": "markdown",
   "id": "71ecca9c-b5a3-4d66-a3de-4f6b6644dbc7",
   "metadata": {},
   "source": [
    "# 本題要找出共有多少個alternative list (\\#Array, \\#SlidingWindows )\n",
    "原題目連結: https://leetcode.com/problems/count-alternating-subarrays/description/  \n",
    "\n",
    "You are given a binary array nums.  \n",
    "We call a subarray alternating if no two adjacent elements in the subarray have the same value.  \n",
    "Return the number of alternating subarrays in nums.  \n",
    "\n",
    "範例:  \n",
    "Ex:1  \n",
    "Input: nums = [0,1,1,1]  \n",
    "Output: 5  \n",
    "Explanation:  \n",
    "The following subarrays are alternating: [0], [1], [1], [1], and [0,1].  \n",
    "\n",
    "Ex2:  \n",
    "Input: nums = [1,0,1,0]  \n",
    "Output: 10  \n",
    "Explanation:  \n",
    "Every subarray of the array is alternating. There are 10 possible subarrays that we can choose."
   ]
  },
  {
   "cell_type": "markdown",
   "id": "f69d91cc-503f-49d2-bb07-d320f7e90c01",
   "metadata": {},
   "source": [
    "* 解題想法:  \n",
    "先建立一個暫存，接著用迴圈檢查，如果出現與前面不相同的情況則放入暫存中，如果前後相同時則暫存中共有len(temp) x (len(temp)+1) / 2種組合，最後將所有的組合加總之後就是答案"
   ]
  },
  {
   "cell_type": "code",
   "execution_count": null,
   "id": "18e7594f-844b-4e79-9e15-51c76a259c64",
   "metadata": {},
   "outputs": [],
   "source": [
    "class Solution:\n",
    "    def countAlternatingSubarrays(self, nums: List[int]) -> int:\n",
    "        res = 0\n",
    "        temp = []\n",
    "        for i in nums:\n",
    "            if temp and temp[-1] == i: \n",
    "                res += len(temp) * (len(temp) + 1) // 2\n",
    "                temp.clear()\n",
    "            temp.append(i)\n",
    "        if temp:\n",
    "            res += len(temp) * (len(temp) + 1) // 2\n",
    "        return res "
   ]
  }
 ],
 "metadata": {
  "kernelspec": {
   "display_name": "Python 3 (ipykernel)",
   "language": "python",
   "name": "python3"
  },
  "language_info": {
   "codemirror_mode": {
    "name": "ipython",
    "version": 3
   },
   "file_extension": ".py",
   "mimetype": "text/x-python",
   "name": "python",
   "nbconvert_exporter": "python",
   "pygments_lexer": "ipython3",
   "version": "3.9.13"
  }
 },
 "nbformat": 4,
 "nbformat_minor": 5
}
