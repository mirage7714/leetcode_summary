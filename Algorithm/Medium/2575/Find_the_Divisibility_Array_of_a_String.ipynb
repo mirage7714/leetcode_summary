{
 "cells": [
  {
   "cell_type": "markdown",
   "id": "b0c8306a-327e-4f99-8340-45f117bb46f7",
   "metadata": {},
   "source": [
    "# 本題要找出list中可以被指定數整除的值共有多少 (\\#String)\n",
    "原題目連結: https://leetcode.com/problems/find-the-divisibility-array-of-a-string/description/  \n",
    "\n",
    "You are given a 0-indexed string word of length n consisting of digits, and a positive integer m.  \n",
    "\n",
    "The divisibility array div of word is an integer array of length n such that:  \n",
    "div[i] = 1 if the numeric value of word[0,...,i] is divisible by m, or  \n",
    "div[i] = 0 otherwise.  \n",
    "Return the divisibility array of word.  \n",
    "\n",
    "範例:  \n",
    "Ex1:  \n",
    "Input: word = \"998244353\", m = 3  \n",
    "Output: [1,1,0,0,0,1,1,0,0]  \n",
    "Explanation: There are only 4 prefixes that are divisible by 3: \"9\", \"99\", \"998244\", and \"9982443\".  \n",
    "\n",
    "Ex2:  \n",
    "Input: word = \"1010\", m = 10  \n",
    "Output: [0,1,0,1]  \n",
    "Explanation: There are only 2 prefixes that are divisible by 10: \"10\", and \"1010\"."
   ]
  },
  {
   "cell_type": "markdown",
   "id": "71ee7d9f-23ed-41aa-989c-e0d3d7252858",
   "metadata": {},
   "source": [
    "* 解題想法:  \n",
    "首先用一個整數來進行暫存，並建立一個全部都為0的list，接著從頭開始進行計算，如果可以被整除則將list中該index改為1，並將暫存中的數值進行更新，最後回傳list作為答案"
   ]
  },
  {
   "cell_type": "code",
   "execution_count": null,
   "id": "9ee52f75-5f27-4d58-ae76-137313e0be99",
   "metadata": {},
   "outputs": [],
   "source": [
    "class Solution:\n",
    "    def divisibilityArray(self, word: str, m: int) -> List[int]:\n",
    "        res = [0] * len(word)\n",
    "        t = 0\n",
    "        for i in range(len(word)):\n",
    "            t = t * 10 + int(word[i])\n",
    "            if t % m == 0:\n",
    "                res[i] = 1\n",
    "            t = t % m\n",
    "        return res"
   ]
  }
 ],
 "metadata": {
  "kernelspec": {
   "display_name": "Python 3 (ipykernel)",
   "language": "python",
   "name": "python3"
  },
  "language_info": {
   "codemirror_mode": {
    "name": "ipython",
    "version": 3
   },
   "file_extension": ".py",
   "mimetype": "text/x-python",
   "name": "python",
   "nbconvert_exporter": "python",
   "pygments_lexer": "ipython3",
   "version": "3.9.13"
  }
 },
 "nbformat": 4,
 "nbformat_minor": 5
}
