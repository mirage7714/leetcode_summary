{
 "cells": [
  {
   "cell_type": "markdown",
   "metadata": {},
   "source": [
    "# 本題要將list進行排序，相鄰的兩個值不能相同\n",
    "原題目連結: https://leetcode.com/problems/distant-barcodes/  \n",
    "\n",
    "In a warehouse, there is a row of barcodes, where the ith barcode is barcodes[i].  \n",
    "Rearrange the barcodes so that no two adjacent barcodes are equal. You may return any answer, and it is guaranteed an answer exists.  \n",
    "\n",
    "範例:  \n",
    "Ex1:  \n",
    "Input: barcodes = [1,1,1,2,2,2]  \n",
    "Output: [2,1,2,1,2,1]  \n",
    "\n",
    "Ex2:  \n",
    "Input: barcodes = [1,1,1,1,2,2,3,3]  \n",
    "Output: [1,3,1,3,1,2,1,2]"
   ]
  },
  {
   "cell_type": "markdown",
   "metadata": {},
   "source": [
    "* 解題想法:  \n",
    "參考了很多範例，都是用heap的方式來進行解題，首先將list轉換為dict的形式，並統計每個數值出現的次數，接著將值放入heap中，但因為heap會從最小值開始取，所以需要將數值轉換為負，才會優先取出  \n",
    "接著開始從heap中取值，首先取出最大的兩個，並將值取出後在放回heap中，直到val為0才停止，最後回傳更新過的list"
   ]
  },
  {
   "cell_type": "code",
   "execution_count": null,
   "metadata": {},
   "outputs": [],
   "source": [
    "import heapq\n",
    "class Solution:\n",
    "    def rearrangeBarcodes(self, barcodes: List[int]) -> List[int]:\n",
    "        def draw(arr, res):\n",
    "            if arr:\n",
    "                freq, val = heapq.heappop(arr)\n",
    "                res.append(val)\n",
    "                return val, freq+ 1\n",
    "            return None, 0\n",
    "        \n",
    "        count = []\n",
    "        result = []\n",
    "        c = Counter(barcodes)\n",
    "        for key, val in c.items():\n",
    "            heapq.heappush(count, [-val, key])\n",
    "\n",
    "        while count:\n",
    "            v1, f1 = draw(count, result)\n",
    "            v2, f2 = draw(count, result)\n",
    "            if f1 != 0:\n",
    "                heapq.heappush(count, [f1, v1])\n",
    "            if f2 != 0:\n",
    "                heapq.heappush(count, [f2, v2])\n",
    "        return result"
   ]
  }
 ],
 "metadata": {
  "kernelspec": {
   "display_name": "Python 3",
   "language": "python",
   "name": "python3"
  },
  "language_info": {
   "codemirror_mode": {
    "name": "ipython",
    "version": 3
   },
   "file_extension": ".py",
   "mimetype": "text/x-python",
   "name": "python",
   "nbconvert_exporter": "python",
   "pygments_lexer": "ipython3",
   "version": "3.7.4"
  }
 },
 "nbformat": 4,
 "nbformat_minor": 4
}
