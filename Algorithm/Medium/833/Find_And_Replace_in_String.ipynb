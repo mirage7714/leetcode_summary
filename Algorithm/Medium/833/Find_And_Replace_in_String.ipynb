{
 "cells": [
  {
   "cell_type": "markdown",
   "id": "dc1eaf3c-adac-45e9-aa62-302cd2f1746b",
   "metadata": {},
   "source": [
    "# 本題要針對指定的字串中符合條件的index進行修改 (\\#String)\n",
    "原題目連結: https://leetcode.com/problems/find-and-replace-in-string/description/  \n",
    "\n",
    "You are given a 0-indexed string s that you must perform k replacement operations on. The replacement operations are given as three 0-indexed parallel arrays, indices, sources, and targets, all of length k.  \n",
    "\n",
    "To complete the ith replacement operation:  \n",
    "Check if the substring sources[i] occurs at index indices[i] in the original string s.  \n",
    "If it does not occur, do nothing.  \n",
    "Otherwise if it does occur, replace that substring with targets[i].  \n",
    "For example, if s = \"abcd\", indices[i] = 0, sources[i] = \"ab\", and targets[i] = \"eee\", then the result of this replacement will be \"eeecd\".  \n",
    "\n",
    "All replacement operations must occur simultaneously, meaning the replacement operations should not affect the indexing of each other. The testcases will be generated such that the replacements will not overlap.  \n",
    " \n",
    "For example, a testcase with s = \"abc\", indices = [0, 1], and sources = [\"ab\",\"bc\"] will not be generated because the \"ab\" and \"bc\" replacements overlap.  \n",
    "Return the resulting string after performing all replacement operations on s.  \n",
    "\n",
    "A substring is a contiguous sequence of characters in a string.  \n",
    "\n",
    "範例:  \n",
    "Ex1:  \n",
    "Input: s = \"abcd\", indices = [0, 2], sources = [\"a\", \"cd\"], targets = [\"eee\", \"ffff\"]   \n",
    "Output: \"eeebffff\"  \n",
    "Explanation:  \n",
    "\"a\" occurs at index 0 in s, so we replace it with \"eee\".  \n",
    "\"cd\" occurs at index 2 in s, so we replace it with \"ffff\".  \n",
    "\n",
    "Ex2:  \n",
    "Input: s = \"abcd\", indices = [0, 2], sources = [\"ab\",\"ec\"], targets = [\"eee\",\"ffff\"]  \n",
    "Output: \"eeecd\"  \n",
    "Explanation:  \n",
    "\"ab\" occurs at index 0 in s, so we replace it with \"eee\".  \n",
    "\"ec\" does not occur at index 2 in s, so we do nothing."
   ]
  },
  {
   "cell_type": "markdown",
   "id": "433693e1-c689-47f8-b561-41acb1720719",
   "metadata": {},
   "source": [
    "* 解題想法:  \n",
    "首先將原始字串轉換為list，接著從index與對應的字串進行尋找，如果符合條件時則將該index的字串修改為目標的字串，另外將後面的值修改為空字串，最後將list重新串回字串就是答案"
   ]
  },
  {
   "cell_type": "code",
   "execution_count": null,
   "id": "e72f238c-752c-4bfd-bb44-2c005926bfc9",
   "metadata": {},
   "outputs": [],
   "source": [
    "class Solution:\n",
    "    def findReplaceString(self, S: str, indexes: List[int], sources: List[str], targets: List[str]) -> str:\n",
    "        res = ''\n",
    "        temp = [s for s in S]\n",
    "        for m in range(len(indexes)):\n",
    "            i = indexes[m]\n",
    "            s = sources[m]\n",
    "            if s == S[i:i+len(s)]:\n",
    "                temp[i] = targets[m]\n",
    "                for l in range(len(s)-1):\n",
    "                    temp[i+l+1] = ''\n",
    "        res = ''.join(temp)\n",
    "        return res"
   ]
  }
 ],
 "metadata": {
  "kernelspec": {
   "display_name": "Python 3 (ipykernel)",
   "language": "python",
   "name": "python3"
  },
  "language_info": {
   "codemirror_mode": {
    "name": "ipython",
    "version": 3
   },
   "file_extension": ".py",
   "mimetype": "text/x-python",
   "name": "python",
   "nbconvert_exporter": "python",
   "pygments_lexer": "ipython3",
   "version": "3.9.13"
  }
 },
 "nbformat": 4,
 "nbformat_minor": 5
}
