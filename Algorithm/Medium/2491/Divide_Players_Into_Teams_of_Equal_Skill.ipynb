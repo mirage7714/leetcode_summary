{
 "cells": [
  {
   "cell_type": "markdown",
   "metadata": {},
   "source": [
    "# 本題要將成員進行分組，並找出分組的乘積合為多少 (\\#Array)\n",
    "原題目連結: https://leetcode.com/problems/divide-players-into-teams-of-equal-skill/  \n",
    "\n",
    "You are given a positive integer array skill of even length n where skill[i] denotes the skill of the ith player. Divide the players into n / 2 teams of size 2 such that the total skill of each team is equal.  \n",
    "The chemistry of a team is equal to the product of the skills of the players on that team.  \n",
    "Return the sum of the chemistry of all the teams, or return -1 if there is no way to divide the players into teams such that the total skill of each team is equal.  \n",
    "\n",
    "範例:  \n",
    "Ex1:  \n",
    "Input: skill = [3,2,5,1,3,4]  \n",
    "Output: 22  \n",
    "Explanation:   \n",
    "Divide the players into the following teams: (1, 5), (2, 4), (3, 3), where each team has a total skill of 6.  \n",
    "The sum of the chemistry of all the teams is: 1 * 5 + 2 * 4 + 3 * 3 = 5 + 8 + 9 = 22.  \n",
    "\n",
    "Ex2:  \n",
    "Input: skill = [3,4]  \n",
    "Output: 12  \n",
    "Explanation:   \n",
    "The two players form a team with a total skill of 7.  \n",
    "The chemistry of the team is 3 * 4 = 12.  \n",
    "\n",
    "Ex3:  \n",
    "Input: skill = [1,1,2,3]  \n",
    "Output: -1  \n",
    "Explanation:   \n",
    "There is no way to divide the players into teams such that the total skill of each team is equal."
   ]
  },
  {
   "cell_type": "markdown",
   "metadata": {},
   "source": [
    "* 解題想法:  \n",
    "首先算出能力的總和是否可以允許分為指定的組別數，如果可以的話，則將skill排序之後，從頭尾開始取數值後檢查總和是否符合，如果符合則將乘積加上，最後回傳乘積的總和就是答案"
   ]
  },
  {
   "cell_type": "code",
   "execution_count": null,
   "metadata": {},
   "outputs": [],
   "source": [
    "class Solution:\n",
    "    def dividePlayers(self, skill: List[int]) -> int:\n",
    "        total = 0\n",
    "        res = 0\n",
    "        g = 0\n",
    "        for s in skill:\n",
    "            total += s\n",
    "        if total % (len(skill)//2) != 0:\n",
    "            return -1\n",
    "        skill.sort()\n",
    "        g = skill[0] + skill[-1]\n",
    "        for m in range(len(skill) //2):\n",
    "            if skill[m] + skill[-m-1] == g:\n",
    "                res += skill[m] * skill[-m-1]\n",
    "            else:\n",
    "                return -1\n",
    "        return res"
   ]
  }
 ],
 "metadata": {
  "kernelspec": {
   "display_name": "Python 3",
   "language": "python",
   "name": "python3"
  },
  "language_info": {
   "codemirror_mode": {
    "name": "ipython",
    "version": 3
   },
   "file_extension": ".py",
   "mimetype": "text/x-python",
   "name": "python",
   "nbconvert_exporter": "python",
   "pygments_lexer": "ipython3",
   "version": "3.7.4"
  }
 },
 "nbformat": 4,
 "nbformat_minor": 4
}
