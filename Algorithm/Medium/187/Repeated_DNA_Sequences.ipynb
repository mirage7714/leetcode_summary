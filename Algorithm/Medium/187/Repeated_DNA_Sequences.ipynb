{
 "cells": [
  {
   "cell_type": "markdown",
   "metadata": {},
   "source": [
    "# 本題要找出所有重複出現的DNA片段為何\n",
    "原題目連結: https://leetcode.com/problems/repeated-dna-sequences/  \n",
    "\n",
    "The DNA sequence is composed of a series of nucleotides abbreviated as 'A', 'C', 'G', and 'T'.  \n",
    "\n",
    "For example, \"ACGAATTCCG\" is a DNA sequence.  \n",
    "When studying DNA, it is useful to identify repeated sequences within the DNA.  \n",
    "\n",
    "Given a string s that represents a DNA sequence, return all the 10-letter-long sequences (substrings) that occur more than once in a DNA molecule. You may return the answer in any order.  \n",
    "\n",
    "範例:  \n",
    "Ex1:  \n",
    "Input: s = \"AAAAACCCCCAAAAACCCCCCAAAAAGGGTTT\"  \n",
    "Output: [\"AAAAACCCCC\",\"CCCCCAAAAA\"]  \n",
    "\n",
    "Ex2:  \n",
    "Input: s = \"AAAAAAAAAAAAA\"  \n",
    "Output: [\"AAAAAAAAAA\"]"
   ]
  },
  {
   "cell_type": "markdown",
   "metadata": {},
   "source": [
    "* 解題想法:  \n",
    "首先用一個dict，將所有出現過的片段都放入dict中，並統計是否有出現次數超過一次的，將這些超過一次的key值放入list中，就是最後的答案"
   ]
  },
  {
   "cell_type": "code",
   "execution_count": null,
   "metadata": {},
   "outputs": [],
   "source": [
    "class Solution:\n",
    "    def findRepeatedDnaSequences(self, s: str) -> List[str]:\n",
    "        count = {}\n",
    "        result = []\n",
    "        d = ''\n",
    "        for l in range(len(s)-9):\n",
    "            d = s[l:l+10]\n",
    "            if d not in count:\n",
    "                count[d] = 1\n",
    "            else:\n",
    "                count[d] += 1\n",
    "            d = ''\n",
    "        for key, val in count.items():\n",
    "            if val > 1:\n",
    "                result.append(key)\n",
    "        return result"
   ]
  }
 ],
 "metadata": {
  "kernelspec": {
   "display_name": "Python 3",
   "language": "python",
   "name": "python3"
  },
  "language_info": {
   "codemirror_mode": {
    "name": "ipython",
    "version": 3
   },
   "file_extension": ".py",
   "mimetype": "text/x-python",
   "name": "python",
   "nbconvert_exporter": "python",
   "pygments_lexer": "ipython3",
   "version": "3.7.4"
  }
 },
 "nbformat": 4,
 "nbformat_minor": 4
}
