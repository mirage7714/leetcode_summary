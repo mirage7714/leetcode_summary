{
 "cells": [
  {
   "cell_type": "markdown",
   "metadata": {},
   "source": [
    "# 本題要將字串中有()的詞轉換成對應的value值\n",
    "原題目連結: https://leetcode.com/problems/evaluate-the-bracket-pairs-of-a-string/  \n",
    "\n",
    "You are given a string s that contains some bracket pairs, with each pair containing a non-empty key.  \n",
    "\n",
    "For example, in the string \"(name)is(age)yearsold\", there are two bracket pairs that contain the keys \"name\" and \"age\".  \n",
    "You know the values of a wide range of keys. This is represented by a 2D string array knowledge where each knowledge[i] = [keyi, valuei] indicates that key keyi has a value of valuei.  \n",
    "\n",
    "You are tasked to evaluate all of the bracket pairs. When you evaluate a bracket pair that contains some key keyi, you will:  \n",
    "\n",
    "Replace keyi and the bracket pair with the key's corresponding valuei.  \n",
    "If you do not know the value of the key, you will replace keyi and the bracket pair with a question mark \"?\" (without the quotation marks).  \n",
    "Each key will appear at most once in your knowledge. There will not be any nested brackets in s.  \n",
    "\n",
    "Return the resulting string after evaluating all of the bracket pairs.  \n",
    "\n",
    "範例:  \n",
    "Ex1:  \n",
    "Input: s = \"(name)is(age)yearsold\", knowledge = [[\"name\",\"bob\"],[\"age\",\"two\"]]  \n",
    "Output: \"bobistwoyearsold\"  \n",
    "Explanation:    \n",
    "The key \"name\" has a value of \"bob\", so replace \"(name)\" with \"bob\".  \n",
    "The key \"age\" has a value of \"two\", so replace \"(age)\" with \"two\".  \n",
    "\n",
    "Ex2:  \n",
    "Input: s = \"hi(name)\", knowledge = [[\"a\",\"b\"]]  \n",
    "Output: \"hi?\"  \n",
    "Explanation: As you do not know the value of the key \"name\", replace \"(name)\" with \"?\".  \n",
    "\n",
    "Ex3:  \n",
    "Input: s = \"(a)(a)(a)aaa\", knowledge = [[\"a\",\"yes\"]]  \n",
    "Output: \"yesyesyesaaa\"  \n",
    "Explanation: The same key can appear multiple times.  \n",
    "The key \"a\" has a value of \"yes\", so replace all occurrences of \"(a)\" with \"yes\".  \n",
    "Notice that the \"a\"s not in a bracket pair are not evaluated.  \n",
    "\n",
    "Ex4:  \n",
    "Input: s = \"(a)(b)\", knowledge = [[\"a\",\"b\"],[\"b\",\"a\"]]  \n",
    "Output: \"ba\""
   ]
  },
  {
   "cell_type": "markdown",
   "metadata": {},
   "source": [
    "* 解題想法:  \n",
    "依題目提供的說明，首先將knowledge內的詞轉換成dict，接著逐步檢查字串內的字是否為()，判斷條件如下:  \n",
    "- 如果是(，代表後面出現的是需要翻譯的字，因此將後面的字放入一個list中紀錄  \n",
    "- 如果是)，代表後面已經不是需要查找的範圍，因此將list中的字組合成key，接著到dict中查找是否有這個key，如果有則回傳對應的值，否則回傳?  \n",
    "- 不是以上兩個條件的話，如果不是需要翻譯的字則直接將字加到最後的結果中，如果是需要翻譯的字則加入list中  \n",
    "最後將組合成的字回傳，就是題目要求的答案"
   ]
  },
  {
   "cell_type": "code",
   "execution_count": null,
   "metadata": {},
   "outputs": [],
   "source": [
    "class Solution:\n",
    "    def evaluate(self, s: str, knowledge: List[List[str]]) -> str:\n",
    "        def buildKey(temp):\n",
    "            total = ''\n",
    "            for t in temp:\n",
    "                total += t\n",
    "            return total\n",
    "        \n",
    "        freq = {}\n",
    "        result = ''\n",
    "        for k in knowledge:\n",
    "            freq[k[0]] = k[1]\n",
    "        temp = [] \n",
    "        is_key = False\n",
    "        for n in range(len(s)):\n",
    "            if s[n] == ')':\n",
    "                is_key = False\n",
    "                k = buildKey(temp)\n",
    "                if k in freq.keys():\n",
    "                    result += freq[k]\n",
    "                else:\n",
    "                    result += '?'\n",
    "                temp.clear()\n",
    "            elif s[n] == '(':\n",
    "                is_key = True\n",
    "            else:\n",
    "                if is_key:\n",
    "                    temp.append(s[n])\n",
    "                else:\n",
    "                    result += s[n]\n",
    "\n",
    "        return result"
   ]
  }
 ],
 "metadata": {
  "kernelspec": {
   "display_name": "Python 3",
   "language": "python",
   "name": "python3"
  },
  "language_info": {
   "codemirror_mode": {
    "name": "ipython",
    "version": 3
   },
   "file_extension": ".py",
   "mimetype": "text/x-python",
   "name": "python",
   "nbconvert_exporter": "python",
   "pygments_lexer": "ipython3",
   "version": "3.7.4"
  }
 },
 "nbformat": 4,
 "nbformat_minor": 2
}
