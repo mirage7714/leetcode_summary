{
 "cells": [
  {
   "cell_type": "markdown",
   "id": "6d81b508-1dc5-4223-9bdf-2d7027dab2ea",
   "metadata": {},
   "source": [
    "# 本調要找出指定長度且部會出現連續兩個0的字串共有多少 (\\#String, \\#Recursion )\n",
    "原題目連結: https://leetcode.com/problems/generate-binary-strings-without-adjacent-zeros/description/  \n",
    "\n",
    "You are given a positive integer n.  \n",
    "A binary string x is valid if all substrings of x of length 2 contain at least one \"1\".  \n",
    "Return all valid strings with length n, in any order.  \n",
    "\n",
    "範例:  \n",
    "Ex1:  \n",
    "Input: n = 3  \n",
    "Output: [\"010\",\"011\",\"101\",\"110\",\"111\"]  \n",
    "Explanation:  \n",
    "The valid strings of length 3 are: \"010\", \"011\", \"101\", \"110\", and \"111\".  \n",
    "\n",
    "Ex2:  \n",
    "Input: n = 1  \n",
    "Output: [\"0\",\"1\"]  \n",
    "Explanation:  \n",
    "The valid strings of length 1 are: \"0\" and \"1\"."
   ]
  },
  {
   "cell_type": "markdown",
   "id": "d841c3a3-ed92-4eba-9f09-375a317ecd3c",
   "metadata": {},
   "source": [
    "* 解題想法:  \n",
    "首先將初始的兩個字串放入list中(0與1)，接著用迴圈逐步新增字母，如果尾數為0則只能再加上1，如果為1則0與1都可以新增，最後回傳指定長度的字串就是答案"
   ]
  },
  {
   "cell_type": "code",
   "execution_count": null,
   "id": "da7c70f2-1b87-4bba-a00c-2e659f927e15",
   "metadata": {},
   "outputs": [],
   "source": [
    "class Solution:\n",
    "    def validStrings(self, n: int) -> List[str]:\n",
    "        res = ['0','1']\n",
    "        for i in range(n-1):\n",
    "            node = []\n",
    "            while res:\n",
    "                n = res.pop()\n",
    "                if n[-1] == '0':\n",
    "                    node.append(f'{n}1')\n",
    "                else:\n",
    "                    node.append(f'{n}0')\n",
    "                    node.append(f'{n}1')\n",
    "            res = node\n",
    "        return res"
   ]
  }
 ],
 "metadata": {
  "kernelspec": {
   "display_name": "Python 3 (ipykernel)",
   "language": "python",
   "name": "python3"
  },
  "language_info": {
   "codemirror_mode": {
    "name": "ipython",
    "version": 3
   },
   "file_extension": ".py",
   "mimetype": "text/x-python",
   "name": "python",
   "nbconvert_exporter": "python",
   "pygments_lexer": "ipython3",
   "version": "3.9.13"
  }
 },
 "nbformat": 4,
 "nbformat_minor": 5
}
