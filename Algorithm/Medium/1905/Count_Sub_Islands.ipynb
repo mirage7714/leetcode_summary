{
 "cells": [
  {
   "cell_type": "markdown",
   "metadata": {},
   "source": [
    "# 本題要找出在list2的島嶼有哪些是出現在list1中的\n",
    "原題目連結: https://leetcode.com/problems/count-sub-islands/  \n",
    "\n",
    "You are given two m x n binary matrices grid1 and grid2 containing only 0's (representing water) and 1's (representing land). An island is a group of 1's connected 4-directionally (horizontal or vertical). Any cells outside of the grid are considered water cells.  \n",
    "\n",
    "An island in grid2 is considered a sub-island if there is an island in grid1 that contains all the cells that make up this island in grid2.  \n",
    "\n",
    "Return the number of islands in grid2 that are considered sub-islands.  \n",
    "\n",
    "範例:  \n",
    "Ex1:  \n",
    "Input: grid1 = [[1,1,1,0,0],[0,1,1,1,1],[0,0,0,0,0],[1,0,0,0,0],[1,1,0,1,1]], grid2 = [[1,1,1,0,0],[0,0,1,1,1],[0,1,0,0,0],[1,0,1,1,0],[0,1,0,1,0]]  \n",
    "Output: 3  \n",
    "Explanation: In the picture above, the grid on the left is grid1 and the grid on the right is grid2.  \n",
    "The 1s colored red in grid2 are those considered to be part of a sub-island. There are three sub-islands.  \n",
    "\n",
    "Ex2:  \n",
    "Input: grid1 = [[1,0,1,0,1],[1,1,1,1,1],[0,0,0,0,0],[1,1,1,1,1],[1,0,1,0,1]], grid2 = [[0,0,0,0,0],[1,1,1,1,1],[0,1,0,1,0],[0,1,0,1,0],[1,0,0,0,1]]  \n",
    "Output: 2   \n",
    "Explanation: In the picture above, the grid on the left is grid1 and the grid on the right is grid2.  \n",
    "The 1s colored red in grid2 are those considered to be part of a sub-island. There are two sub-islands.  "
   ]
  },
  {
   "cell_type": "markdown",
   "metadata": {},
   "source": [
    "* 解題想法:  \n",
    "這題一樣是走DFS路線的解題，首先建立一個DFS函數，用來走訪list2中數值為1的點，並將這些點放入一個list中，另外檢查當list1中同樣位置的點相同時，則放入另一個list中，最後比較兩個list長度是否相同，如果相同則將count加1，最後回傳count值"
   ]
  },
  {
   "cell_type": "code",
   "execution_count": null,
   "metadata": {},
   "outputs": [],
   "source": [
    "class Solution:\n",
    "    def countSubIslands(self, grid1: List[List[int]], grid2: List[List[int]]) -> int:\n",
    "        def dfs(grid1, grid2, i, j, area1, area2):\n",
    "            if i < 0 or j < 0 or i >= len(grid1) or j >= len(grid1[0]) or grid2[i][j] != 1:\n",
    "                return\n",
    "            if grid1[i][j] == grid2[i][j]:\n",
    "                area1.append([i,j])\n",
    "            area2.append([i,j])\n",
    "            grid2[i][j] = 0\n",
    "            dfs(grid1, grid2, i-1, j, area1, area2)\n",
    "            dfs(grid1, grid2, i+1, j, area1, area2)\n",
    "            dfs(grid1, grid2, i, j-1, area1, area2)\n",
    "            dfs(grid1, grid2, i, j+1, area1, area2)\n",
    "        \n",
    "        count = 0\n",
    "        m = len(grid1)\n",
    "        n = len(grid1[0])\n",
    "        for i in range(m):\n",
    "            for j in range(n):\n",
    "                if grid2[i][j] == 1:\n",
    "                    area1 = []\n",
    "                    area2 = []\n",
    "                    dfs(grid1, grid2, i, j, area1, area2)\n",
    "                    if len(area1) == len(area2):\n",
    "                        count += 1\n",
    "        return count"
   ]
  }
 ],
 "metadata": {
  "kernelspec": {
   "display_name": "Python 3",
   "language": "python",
   "name": "python3"
  },
  "language_info": {
   "codemirror_mode": {
    "name": "ipython",
    "version": 3
   },
   "file_extension": ".py",
   "mimetype": "text/x-python",
   "name": "python",
   "nbconvert_exporter": "python",
   "pygments_lexer": "ipython3",
   "version": "3.7.4"
  }
 },
 "nbformat": 4,
 "nbformat_minor": 4
}
