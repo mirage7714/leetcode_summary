{
 "cells": [
  {
   "cell_type": "markdown",
   "metadata": {},
   "source": [
    "# 本題要找出將list改成non-decreasing的最少次數為何\n",
    "原題目連結: https://leetcode.com/problems/steps-to-make-array-non-decreasing/  \n",
    "\n",
    "You are given a 0-indexed integer array nums. In one step, remove all elements nums[i] where nums[i - 1] > nums[i] for all 0 < i < nums.length.  \n",
    "\n",
    "Return the number of steps performed until nums becomes a non-decreasing array.  \n",
    "\n",
    "範例:  \n",
    "Ex1:  \n",
    "Input: nums = [5,3,4,4,7,3,6,11,8,5,11]  \n",
    "Output: 3  \n",
    "Explanation: The following are the steps performed:  \n",
    "- Step 1: [5,3,4,4,7,3,6,11,8,5,11] becomes [5,4,4,7,6,11,11]  \n",
    "- Step 2: [5,4,4,7,6,11,11] becomes [5,4,7,11,11]  \n",
    "- Step 3: [5,4,7,11,11] becomes [5,7,11,11]  \n",
    "[5,7,11,11] is a non-decreasing array. Therefore, we return 3.  \n",
    "\n",
    "Ex2:  \n",
    "Input: nums = [4,5,7,7,13]  \n",
    "Output: 0  \n",
    "Explanation: nums is already a non-decreasing array. Therefore, we return 0."
   ]
  },
  {
   "cell_type": "markdown",
   "metadata": {},
   "source": [
    "* 解題想法:  \n",
    "首先建立一個list，用來存放目前的數值以及清除目前數值的步數需要多少，接著從第一個數值與list中的最後一個數值比較，如果nums中的數值大於stack中的數值，則將stack中的數值移除，並將步數進行更新，直到nums的數值大於stack數值時則更新目前的步數最大值，並將nums的數值與步數都放入stack中，最後回傳步數最大值"
   ]
  },
  {
   "cell_type": "code",
   "execution_count": null,
   "metadata": {},
   "outputs": [],
   "source": [
    "class Solution:\n",
    "    def totalSteps(self, nums: List[int]) -> int:\n",
    "        stack = [[nums[0], 0]]\n",
    "        result = 0\n",
    "        if len(nums) > 1:\n",
    "            for m in range(1, len(nums)):\n",
    "                step = 1\n",
    "                while stack:\n",
    "                    if stack[-1][0] <= nums[m]:\n",
    "                        step = max(step, stack[-1][1] + 1)\n",
    "                        stack.pop()\n",
    "                    else:\n",
    "                        result = max(result, step)\n",
    "                        break\n",
    "                stack.append([nums[m], step])\n",
    "        return result"
   ]
  }
 ],
 "metadata": {
  "kernelspec": {
   "display_name": "Python 3",
   "language": "python",
   "name": "python3"
  },
  "language_info": {
   "codemirror_mode": {
    "name": "ipython",
    "version": 3
   },
   "file_extension": ".py",
   "mimetype": "text/x-python",
   "name": "python",
   "nbconvert_exporter": "python",
   "pygments_lexer": "ipython3",
   "version": "3.7.4"
  }
 },
 "nbformat": 4,
 "nbformat_minor": 4
}
