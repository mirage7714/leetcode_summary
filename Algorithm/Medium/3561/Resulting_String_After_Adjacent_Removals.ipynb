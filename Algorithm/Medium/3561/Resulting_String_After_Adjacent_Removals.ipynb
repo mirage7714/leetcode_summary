{
 "cells": [
  {
   "cell_type": "markdown",
   "id": "5380271e-90b0-4c2c-9ec4-cd177397c101",
   "metadata": {},
   "source": [
    "# 本題要找出刪除相鄰字母之後剩下的字串為何 (\\#String, \\#Stack )\n",
    "原題目連結：https://leetcode.com/problems/resulting-string-after-adjacent-removals/description/  \n",
    "\n",
    "You are given a string s consisting of lowercase English letters.  \n",
    "You must repeatedly perform the following operation while the string s has at least two consecutive characters:  \n",
    "Remove the leftmost pair of adjacent characters in the string that are consecutive in the alphabet, in either order (e.g., 'a' and 'b', or 'b' and 'a').  \n",
    "Shift the remaining characters to the left to fill the gap.  \n",
    "Return the resulting string after no more operations can be performed.  \n",
    "Note: Consider the alphabet as circular, thus 'a' and 'z' are consecutive.  \n",
    "\n",
    "範例：  \n",
    "Ex1:  \n",
    "Input: s = \"abc\"  \n",
    "Output: \"c\"  \n",
    "Explanation:  \n",
    "Remove \"ab\" from the string, leaving \"c\" as the remaining string.   \n",
    "No further operations are possible. Thus, the resulting string after all possible removals is \"c\".  \n",
    "\n",
    "Ex2:  \n",
    "Input: s = \"adcb\"  \n",
    "Output: \"\"  \n",
    "Explanation:  \n",
    "Remove \"dc\" from the string, leaving \"ab\" as the remaining string.  \n",
    "Remove \"ab\" from the string, leaving \"\" as the remaining string.  \n",
    "No further operations are possible. Thus, the resulting string after all possible removals is \"\".  \n",
    "\n",
    "Ex3:  \n",
    "Input: s = \"zadb\"  \n",
    "Output: \"db\"  \n",
    "Explanation:  \n",
    "Remove \"za\" from the string, leaving \"db\" as the remaining string.  \n",
    "No further operations are possible. Thus, the resulting string after all possible removals is \"db\".  "
   ]
  },
  {
   "cell_type": "markdown",
   "id": "5c064754-c415-48eb-9493-751f45c2b58b",
   "metadata": {},
   "source": [
    "* 解題想法：  \n",
    "首先用一個list作為stack，接著從頭開始檢查，如果stack為空則直接放入stack，如果stack不為空時則檢查stack最後一個字母是否為相鄰，如果相鄰則取出最後一個字母，如果不相鄰則直接放入stack中，最後將stack重新組合為字串就是答案"
   ]
  },
  {
   "cell_type": "code",
   "execution_count": null,
   "id": "aa5fb153-c21c-4265-8308-e2dc4fd18c46",
   "metadata": {},
   "outputs": [],
   "source": [
    "class Solution:\n",
    "    def resultingString(self, s: str) -> str:\n",
    "        stack = []\n",
    "        for i in s:\n",
    "            if not stack:\n",
    "                stack.append(i)\n",
    "            else:\n",
    "                if i == 'a' and (stack[-1] == 'b' or stack[-1] == 'z'):\n",
    "                    stack.pop()\n",
    "                elif i == 'z' and (stack[-1] == 'a' or stack[-1] == 'y'):\n",
    "                    stack.pop()\n",
    "                elif abs(ord(i) - ord(stack[-1])) == 1:\n",
    "                    stack.pop()\n",
    "                else:\n",
    "                    stack.append(i)\n",
    "        return ''.join(stack)"
   ]
  }
 ],
 "metadata": {
  "kernelspec": {
   "display_name": "Python 3 (ipykernel)",
   "language": "python",
   "name": "python3"
  },
  "language_info": {
   "codemirror_mode": {
    "name": "ipython",
    "version": 3
   },
   "file_extension": ".py",
   "mimetype": "text/x-python",
   "name": "python",
   "nbconvert_exporter": "python",
   "pygments_lexer": "ipython3",
   "version": "3.10.9"
  }
 },
 "nbformat": 4,
 "nbformat_minor": 5
}
