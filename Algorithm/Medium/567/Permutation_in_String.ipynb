{
 "cells": [
  {
   "cell_type": "markdown",
   "metadata": {},
   "source": [
    "# 本題要判斷一個字串的字母是否有出現在另一個字串中\n",
    "原題目連結： https://leetcode.com/problems/permutation-in-string/  \n",
    "\n",
    "Given two strings s1 and s2, write a function to return true if s2 contains the permutation of s1. In other words, one of the first string's permutations is the substring of the second string.  \n",
    "\n",
    "範例：  \n",
    "Ex1:  \n",
    "Input: s1 = \"ab\" s2 = \"eidbaooo\"  \n",
    "Output: True  \n",
    "Explanation: s2 contains one permutation of s1 (\"ba\").  \n",
    "\n",
    "Ex2:  \n",
    "Input:s1= \"ab\" s2 = \"eidboaoo\"  \n",
    "Output: False"
   ]
  },
  {
   "cell_type": "markdown",
   "metadata": {},
   "source": [
    "* 解題想法：  \n",
    "依題目說明，要檢查字串s2中是否有與s1相同的字母組成，因此先將字串s1中的字母建成list後進行排序，接著比較s2中是否也有相同的組成出現，如果有則回傳True，否則回傳False"
   ]
  },
  {
   "cell_type": "code",
   "execution_count": null,
   "metadata": {},
   "outputs": [],
   "source": [
    "class Solution:\n",
    "    def checkInclusion(self, s1: str, s2: str) -> bool:\n",
    "        is_valid = False\n",
    "        temp = []\n",
    "        chars = []\n",
    "        for s in s1:\n",
    "            temp.append(s)\n",
    "        temp.sort()\n",
    "        for n in s2:\n",
    "            chars.append(n)\n",
    "        for n in range(len(chars) - len(temp)+1):\n",
    "            char = chars[n:n+len(temp)]\n",
    "            char.sort()\n",
    "            if temp == char:\n",
    "                is_valid = True\n",
    "                break\n",
    "        return is_valid"
   ]
  }
 ],
 "metadata": {
  "kernelspec": {
   "display_name": "Python 3",
   "language": "python",
   "name": "python3"
  },
  "language_info": {
   "codemirror_mode": {
    "name": "ipython",
    "version": 3
   },
   "file_extension": ".py",
   "mimetype": "text/x-python",
   "name": "python",
   "nbconvert_exporter": "python",
   "pygments_lexer": "ipython3",
   "version": "3.7.6"
  }
 },
 "nbformat": 4,
 "nbformat_minor": 4
}
