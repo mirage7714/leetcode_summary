{
 "cells": [
  {
   "cell_type": "markdown",
   "id": "a9db7748-a8ee-4996-9b85-dd57b8e28fa4",
   "metadata": {},
   "source": [
    "# 本題要找出共有多少符合開頭與結尾都是指定字母的字串 (\\#String )\n",
    "原題目連結: https://leetcode.com/problems/count-substrings-starting-and-ending-with-given-character/description/  \n",
    "\n",
    "You are given a string s and a character c. Return the total number of substrings of s that start and end with c.    \n",
    "\n",
    "範例:  \n",
    "Ex1:  \n",
    "Input: s = \"abada\", c = \"a\"  \n",
    "Output: 6  \n",
    "Explanation: Substrings starting and ending with \"a\" are: \"abada\", \"abada\", \"abada\", \"abada\", \"abada\", \"abada\".  \n",
    "\n",
    "Ex2:  \n",
    "Input: s = \"zzz\", c = \"z\"  \n",
    "Output: 6  \n",
    "Explanation: There are a total of 6 substrings in s and all start and end with \"z\"."
   ]
  },
  {
   "cell_type": "markdown",
   "id": "807a48eb-cb93-41d7-8482-f97911ac30a9",
   "metadata": {},
   "source": [
    "* 解題想法:  \n",
    "手先找出字串內共有多少個字母符合條件，並將數值記錄下來，接著計算符合條件的字串數量就是(個數x個數+1)/2，最後回傳個數就是答案"
   ]
  },
  {
   "cell_type": "code",
   "execution_count": null,
   "id": "f4fd7828-80e5-4ba9-b28b-c3271486d263",
   "metadata": {},
   "outputs": [],
   "source": [
    "class Solution:\n",
    "    def countSubstrings(self, s: str, c: str) -> int:\n",
    "        res = 0\n",
    "        count = 0\n",
    "        for i in range(len(s)):\n",
    "            if s[i] == c:\n",
    "                count += 1\n",
    "        res = (count * (count + 1)) // 2\n",
    "        return res"
   ]
  }
 ],
 "metadata": {
  "kernelspec": {
   "display_name": "Python 3 (ipykernel)",
   "language": "python",
   "name": "python3"
  },
  "language_info": {
   "codemirror_mode": {
    "name": "ipython",
    "version": 3
   },
   "file_extension": ".py",
   "mimetype": "text/x-python",
   "name": "python",
   "nbconvert_exporter": "python",
   "pygments_lexer": "ipython3",
   "version": "3.9.13"
  }
 },
 "nbformat": 4,
 "nbformat_minor": 5
}
