{
 "cells": [
  {
   "cell_type": "markdown",
   "id": "5fa84405-f0cd-4159-830b-f6698b762093",
   "metadata": {},
   "source": [
    "# 本題要找出長度為3的palindrome長度為3的palindrom字串共有多少個 (\\#Array, \\#HashMap )\n",
    "原題目連結: https://leetcode.com/problems/unique-length-3-palindromic-subsequences/description/\n",
    "\n",
    "Given a string s, return the number of unique palindromes of length three that are a subsequence of s.  \n",
    "Note that even if there are multiple ways to obtain the same subsequence, it is still only counted once.  \n",
    "A palindrome is a string that reads the same forwards and backwards.  \n",
    "\n",
    "A subsequence of a string is a new string generated from the original string with some characters (can be none) deleted without changing the relative order of the remaining characters.  \n",
    "For example, \"ace\" is a subsequence of \"abcde\".  \n",
    "\n",
    "範例:  \n",
    "Ex1:  \n",
    "Input: s = \"aabca\"  \n",
    "Output: 3  \n",
    "Explanation: The 3 palindromic subsequences of length 3 are:  \n",
    "- \"aba\" (subsequence of \"aabca\")  \n",
    "- \"aaa\" (subsequence of \"aabca\")  \n",
    "- \"aca\" (subsequence of \"aabca\")  \n",
    "\n",
    "Ex2:  \n",
    "Input: s = \"adc\"  \n",
    "Output: 0  \n",
    "Explanation: There are no palindromic subsequences of length 3 in \"adc\".  \n",
    "\n",
    "Ex3:　\n",
    "Input: s = \"bbcbaba\"　　\n",
    "Output: 4　　\n",
    "Explanation: The 4 palindromic subsequences of length 3 are:　　\n",
    "- \"bbb\" (subsequence of \"bbcbaba\")　　\n",
    "- \"bcb\" (subsequence of \"bbcbaba\")　　\n",
    "- \"bab\" (subsequence of \"bbcbaba\")　　\n",
    "- \"aba\" (subsequence of \"bbcbaba\")　　"
   ]
  },
  {
   "cell_type": "markdown",
   "id": "9add6cf7-c264-4f30-addb-e2b1afe1cac9",
   "metadata": {},
   "source": [
    "* 解題想法:  \n",
    "首先找出每個字母出現的index並轉換成dict，接著找出每個長度超過1的value，並檢查中間最多出現幾個不重複的字母，並將數值加總，最後總和就是答案"
   ]
  },
  {
   "cell_type": "code",
   "execution_count": null,
   "id": "6dfcaaa7-1aa0-4b14-b8c7-4384420e2dc0",
   "metadata": {},
   "outputs": [],
   "source": [
    "class Solution:\n",
    "    def countPalindromicSubsequence(self, s: str) -> int:\n",
    "        res = 0\n",
    "        count = {}\n",
    "        for i in range(len(s)):\n",
    "            if s[i] not in count.keys():\n",
    "                count[s[i]] = [i]\n",
    "            else:\n",
    "                count[s[i]].append(i)\n",
    "        for key, val in count.items():\n",
    "            if len(val) > 1:\n",
    "                temp = set()\n",
    "                for i in range(val[0]+1, val[-1]):\n",
    "                    temp.add(s[i])\n",
    "                res += len(temp)\n",
    "        return res"
   ]
  }
 ],
 "metadata": {
  "kernelspec": {
   "display_name": "Python 3 (ipykernel)",
   "language": "python",
   "name": "python3"
  },
  "language_info": {
   "codemirror_mode": {
    "name": "ipython",
    "version": 3
   },
   "file_extension": ".py",
   "mimetype": "text/x-python",
   "name": "python",
   "nbconvert_exporter": "python",
   "pygments_lexer": "ipython3",
   "version": "3.9.13"
  }
 },
 "nbformat": 4,
 "nbformat_minor": 5
}
