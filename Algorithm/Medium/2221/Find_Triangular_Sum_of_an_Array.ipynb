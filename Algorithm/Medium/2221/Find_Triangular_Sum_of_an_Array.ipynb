{
 "cells": [
  {
   "cell_type": "markdown",
   "metadata": {},
   "source": [
    "# 本題要找出金字塔最後的數值為多少\n",
    "原題目連結: https://leetcode.com/problems/find-triangular-sum-of-an-array/  \n",
    "\n",
    "You are given a 0-indexed integer array nums, where nums[i] is a digit between 0 and 9 (inclusive).  \n",
    "\n",
    "The triangular sum of nums is the value of the only element present in nums after the following process terminates:  \n",
    "\n",
    "Let nums comprise of n elements. If n == 1, end the process. Otherwise, create a new 0-indexed integer array newNums of length n - 1.  \n",
    "For each index i, where 0 <= i < n - 1, assign the value of newNums[i] as (nums[i] + nums[i+1]) % 10, where % denotes modulo operator.  \n",
    "Replace the array nums with newNums.  \n",
    "Repeat the entire process starting from step 1.  \n",
    "Return the triangular sum of nums.  \n",
    "\n",
    "範例:  \n",
    "Ex1:  \n",
    "Input: nums = [1,2,3,4,5]  \n",
    "Output: 8  \n",
    "Explanation:  \n",
    "The above diagram depicts the process from which we obtain the triangular sum of the array.  \n",
    "\n",
    "Ex2:  \n",
    "Input: nums = [5]  \n",
    "Output: 5  \n",
    "Explanation:  \n",
    "Since there is only one element in nums, the triangular sum is the value of that element itself."
   ]
  },
  {
   "cell_type": "markdown",
   "metadata": {},
   "source": [
    "* 解題想法:  \n",
    "首先檢查nums的長度是否有大於1，如果大於1的話則使用遞迴的方式來找出下一層的值為和，並當下一層的長度為1的時候將結果回傳出來"
   ]
  },
  {
   "cell_type": "code",
   "execution_count": null,
   "metadata": {},
   "outputs": [],
   "source": [
    "class Solution:\n",
    "    def triangularSum(self, nums: List[int]) -> int:\n",
    "        def getNextLevel(nums):\n",
    "            temp = []\n",
    "            if len(nums) > 1:\n",
    "                for m in range(len(nums) -1):\n",
    "                    num = int((nums[m] + nums[m+1]) % 10)\n",
    "                    temp.append(num)\n",
    "                if len(temp) > 1:\n",
    "                    getNextLevel(temp)\n",
    "                else:\n",
    "                    result.append(temp[0])\n",
    "            \n",
    "        result = []\n",
    "        if len(nums) > 1:\n",
    "            getNextLevel(nums)\n",
    "            return result[0]\n",
    "        else:\n",
    "            return nums[0]"
   ]
  }
 ],
 "metadata": {
  "kernelspec": {
   "display_name": "Python 3",
   "language": "python",
   "name": "python3"
  },
  "language_info": {
   "codemirror_mode": {
    "name": "ipython",
    "version": 3
   },
   "file_extension": ".py",
   "mimetype": "text/x-python",
   "name": "python",
   "nbconvert_exporter": "python",
   "pygments_lexer": "ipython3",
   "version": "3.7.6"
  }
 },
 "nbformat": 4,
 "nbformat_minor": 4
}
