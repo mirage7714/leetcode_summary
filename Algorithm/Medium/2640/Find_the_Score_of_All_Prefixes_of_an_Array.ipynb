{
 "cells": [
  {
   "cell_type": "markdown",
   "metadata": {},
   "source": [
    "# 本題要找出得分為多少 (\\#Array)\n",
    "原題目連結: https://leetcode.com/problems/find-the-score-of-all-prefixes-of-an-array/description/  \n",
    "\n",
    "We define the conversion array conver of an array arr as follows:  \n",
    "\n",
    "conver[i] = arr[i] + max(arr[0..i]) where max(arr[0..i]) is the maximum value of arr[j] over 0 <= j <= i.  \n",
    "We also define the score of an array arr as the sum of the values of the conversion array of arr.  \n",
    "\n",
    "Given a 0-indexed integer array nums of length n, return an array ans of length n where ans[i] is the score of the prefix nums[0..i].  \n",
    "\n",
    "範例:  \n",
    "Ex1:  \n",
    "Input: nums = [2,3,7,5,10]  \n",
    "Output: [4,10,24,36,56]  \n",
    "Explanation:   \n",
    "For the prefix [2], the conversion array is [4] hence the score is 4  \n",
    "For the prefix [2, 3], the conversion array is [4, 6] hence the score is 10  \n",
    "For the prefix [2, 3, 7], the conversion array is [4, 6, 14] hence the score is 24   \n",
    "For the prefix [2, 3, 7, 5], the conversion array is [4, 6, 14, 12] hence the score is 36  \n",
    "For the prefix [2, 3, 7, 5, 10], the conversion array is [4, 6, 14, 12, 20] hence the score is 56  \n",
    "\n",
    "Ex2:  \n",
    "Input: nums = [1,1,2,4,8,16]  \n",
    "Output: [2,4,8,16,32,64]  \n",
    "Explanation:   \n",
    "For the prefix [1], the conversion array is [2] hence the score is 2  \n",
    "For the prefix [1, 1], the conversion array is [2, 2] hence the score is 4  \n",
    "For the prefix [1, 1, 2], the conversion array is [2, 2, 4] hence the score is 8  \n",
    "For the prefix [1, 1, 2, 4], the conversion array is [2, 2, 4, 8] hence the score is 16  \n",
    "For the prefix [1, 1, 2, 4, 8], the conversion array is [2, 2, 4, 8, 16] hence the score is 32  \n",
    "For the prefix [1, 1, 2, 4, 8, 16], the conversion array is [2, 2, 4, 8, 16, 32] hence the score is 64"
   ]
  },
  {
   "cell_type": "markdown",
   "metadata": {},
   "source": [
    "* 解題想法:  \n",
    "首先建立一個list用來存放結果，並用兩個變數分別儲存目前的得分與目前的最大值，接著用迴圈檢查目前最大值與得分，並將得分放入list中，最後回傳list就是答案"
   ]
  },
  {
   "cell_type": "code",
   "execution_count": null,
   "metadata": {},
   "outputs": [],
   "source": [
    "class Solution:\n",
    "    def findPrefixScore(self, nums: List[int]) -> List[int]:\n",
    "        res = []\n",
    "        p = 0\n",
    "        c = 0\n",
    "        for n in nums:\n",
    "            p = max(p, n)\n",
    "            c += n + p\n",
    "            res.append(c)\n",
    "        return res"
   ]
  }
 ],
 "metadata": {
  "kernelspec": {
   "display_name": "Python 3",
   "language": "python",
   "name": "python3"
  },
  "language_info": {
   "codemirror_mode": {
    "name": "ipython",
    "version": 3
   },
   "file_extension": ".py",
   "mimetype": "text/x-python",
   "name": "python",
   "nbconvert_exporter": "python",
   "pygments_lexer": "ipython3",
   "version": "3.7.6"
  }
 },
 "nbformat": 4,
 "nbformat_minor": 4
}
