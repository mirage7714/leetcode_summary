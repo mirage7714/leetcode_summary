{
 "cells": [
  {
   "cell_type": "markdown",
   "id": "2cde4cd6-f5f2-4d3f-ba3d-c966e027c1fa",
   "metadata": {},
   "source": [
    "# 本題要找出經過計算之後的list所有數值的XOR是多少 (\\#Array )\n",
    "原題目連結: https://leetcode.com/problems/xor-after-range-multiplication-queries-i/description/  \n",
    "\n",
    "You are given an integer array nums of length n and a 2D integer array queries of size q, where queries[i] = [li, ri, ki, vi].  \n",
    "For each query, you must apply the following operations in order:  \n",
    "- Set idx = li.  \n",
    "- While idx <= ri:  \n",
    "- Update: nums[idx] = (nums[idx] * vi) % (109 + 7)  \n",
    "- Set idx += ki.  \n",
    "Return the bitwise XOR of all elements in nums after processing all queries.  \n",
    "\n",
    "範例:  \n",
    "Ex1:  \n",
    "Input: nums = [1,1,1], queries = [[0,2,1,4]]  \n",
    "Output: 4   \n",
    "Explanation:  \n",
    "A single query [0, 2, 1, 4] multiplies every element from index 0 through index 2 by 4.  \n",
    "The array changes from [1, 1, 1] to [4, 4, 4].  \n",
    "The XOR of all elements is 4 ^ 4 ^ 4 = 4.  \n",
    "\n",
    "Ex2:  \n",
    "Input: nums = [2,3,1,5,4], queries = [[1,4,2,3],[0,2,1,2]]  \n",
    "Output: 31  \n",
    "Explanation:  \n",
    "The first query [1, 4, 2, 3] multiplies the elements at indices 1 and 3 by 3, transforming the array to [2, 9, 1, 15, 4].  \n",
    "The second query [0, 2, 1, 2] multiplies the elements at indices 0, 1, and 2 by 2, resulting in [4, 18, 2, 15, 4].  \n",
    "Finally, the XOR of all elements is 4 ^ 18 ^ 2 ^ 15 ^ 4 = 31. "
   ]
  },
  {
   "cell_type": "markdown",
   "id": "602444dc-e927-4350-b08b-6cbe69ccca9a",
   "metadata": {},
   "source": [
    "* 解題想法:  \n",
    "首先先計算query之後的list為何，接著對所有的數值進行XOR之後就是答案"
   ]
  },
  {
   "cell_type": "code",
   "execution_count": null,
   "id": "a630c521-61b4-40a1-b783-83fa32fc8e02",
   "metadata": {},
   "outputs": [],
   "source": [
    "class Solution:\n",
    "    def xorAfterQueries(self, nums: List[int], queries: List[List[int]]) -> int:\n",
    "        res = 0\n",
    "        for q in queries:\n",
    "            for i in range(q[0], q[1] + 1, q[2]):\n",
    "                nums[i] = (nums[i] * q[3]) % 1000000007\n",
    "        for n in nums:\n",
    "            res = res ^ n\n",
    "        return res"
   ]
  }
 ],
 "metadata": {
  "kernelspec": {
   "display_name": "Python 3 (ipykernel)",
   "language": "python",
   "name": "python3"
  },
  "language_info": {
   "codemirror_mode": {
    "name": "ipython",
    "version": 3
   },
   "file_extension": ".py",
   "mimetype": "text/x-python",
   "name": "python",
   "nbconvert_exporter": "python",
   "pygments_lexer": "ipython3",
   "version": "3.9.13"
  }
 },
 "nbformat": 4,
 "nbformat_minor": 5
}
