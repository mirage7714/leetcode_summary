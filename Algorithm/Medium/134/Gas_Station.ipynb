{
 "cells": [
  {
   "cell_type": "markdown",
   "metadata": {},
   "source": [
    "# 本題要找出哪個出發點可以保證有足夠的汽油可以環一圈\n",
    "原題目連結: https://leetcode.com/problems/gas-station/  \n",
    "\n",
    "There are n gas stations along a circular route, where the amount of gas at the ith station is gas[i].  \n",
    "\n",
    "You have a car with an unlimited gas tank and it costs cost[i] of gas to travel from the ith station to its next (i + 1)th station. You begin the journey with an empty tank at one of the gas stations.  \n",
    "\n",
    "Given two integer arrays gas and cost, return the starting gas station's index if you can travel around the circuit once in the clockwise direction, otherwise return -1. If there exists a solution, it is guaranteed to be unique  \n",
    "\n",
    "範例:  \n",
    "Ex1:  \n",
    "Input: gas = [1,2,3,4,5], cost = [3,4,5,1,2]  \n",
    "Output: 3  \n",
    "Explanation:  \n",
    "Start at station 3 (index 3) and fill up with 4 unit of gas. Your tank = 0 + 4 = 4  \n",
    "Travel to station 4. Your tank = 4 - 1 + 5 = 8  \n",
    "Travel to station 0. Your tank = 8 - 2 + 1 = 7  \n",
    "Travel to station 1. Your tank = 7 - 3 + 2 = 6  \n",
    "Travel to station 2. Your tank = 6 - 4 + 3 = 5  \n",
    "Travel to station 3. The cost is 5. Your gas is just enough to travel back to station 3.  \n",
    "Therefore, return 3 as the starting index.  \n",
    "\n",
    "Ex2:  \n",
    "Input: gas = [2,3,4], cost = [3,4,3]  \n",
    "Output: -1  \n",
    "Explanation:  \n",
    "You can't start at station 0 or 1, as there is not enough gas to travel to the next station.  \n",
    "Let's start at station 2 and fill up with 4 unit of gas. Your tank = 0 + 4 = 4  \n",
    "Travel to station 0. Your tank = 4 - 3 + 2 = 3  \n",
    "Travel to station 1. Your tank = 3 - 3 + 3 = 3  \n",
    "You cannot travel back to station 2, as it requires 4 unit of gas but you only have 3.  \n",
    "Therefore, you can't travel around the circuit once no matter where you start."
   ]
  },
  {
   "cell_type": "markdown",
   "metadata": {},
   "source": [
    "* 解題想法:  \n",
    "參考了網路上的教學，首先將原本的gas與cost的list擴展成兩倍，之後開始從頭計算目前的gas量，需要將gas減去cost後加到目前的gas，如果小於0之後，則從下一個index開始重新計算，當如果目前的位置已經是開始的位置加上n之後，代表已經完成一圈了，則回傳開始的位置，如果都沒有合適的開始位置，則回傳-1"
   ]
  },
  {
   "cell_type": "code",
   "execution_count": null,
   "metadata": {},
   "outputs": [],
   "source": [
    "class Solution:\n",
    "    def canCompleteCircuit(self, gas: List[int], cost: List[int]) -> int:\n",
    "        n = len(gas)\n",
    "        start = 0\n",
    "        curr = 0\n",
    "        \n",
    "        for i, (g,c) in enumerate(zip(gas*2, cost*2)):\n",
    "            if i == start + n:\n",
    "                return start\n",
    "            \n",
    "            curr += g-c\n",
    "            if curr < 0:\n",
    "                start = i+1\n",
    "                curr = 0\n",
    "        return -1"
   ]
  }
 ],
 "metadata": {
  "kernelspec": {
   "display_name": "Python 3",
   "language": "python",
   "name": "python3"
  },
  "language_info": {
   "codemirror_mode": {
    "name": "ipython",
    "version": 3
   },
   "file_extension": ".py",
   "mimetype": "text/x-python",
   "name": "python",
   "nbconvert_exporter": "python",
   "pygments_lexer": "ipython3",
   "version": "3.7.4"
  }
 },
 "nbformat": 4,
 "nbformat_minor": 4
}
