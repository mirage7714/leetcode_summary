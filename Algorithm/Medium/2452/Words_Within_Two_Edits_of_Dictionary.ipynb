{
 "cells": [
  {
   "cell_type": "markdown",
   "metadata": {},
   "source": [
    "# 本題要找出所有修改兩次內就可以出現在目標中的字串 (\\#Array, \\#String)\n",
    "原題目連結: https://leetcode.com/problems/words-within-two-edits-of-dictionary/  \n",
    "\n",
    "You are given two string arrays, queries and dictionary. All words in each array comprise of lowercase English letters and have the same length.  \n",
    "\n",
    "In one edit you can take a word from queries, and change any letter in it to any other letter. Find all words from queries that, after a maximum of two edits, equal some word from dictionary.  \n",
    "\n",
    "Return a list of all words from queries, that match with some word from dictionary after a maximum of two edits. Return the words in the same order they appear in queries.  \n",
    "\n",
    "範例:  \n",
    "Ex1:  \n",
    "Input: queries = [\"word\",\"note\",\"ants\",\"wood\"], dictionary = [\"wood\",\"joke\",\"moat\"]  \n",
    "Output: [\"word\",\"note\",\"wood\"]  \n",
    "Explanation:  \n",
    "- Changing the 'r' in \"word\" to 'o' allows it to equal the dictionary word \"wood\".  \n",
    "- Changing the 'n' to 'j' and the 't' to 'k' in \"note\" changes it to \"joke\".  \n",
    "- It would take more than 2 edits for \"ants\" to equal a dictionary word.  \n",
    "- \"wood\" can remain unchanged (0 edits) and match the corresponding dictionary word.  \n",
    "Thus, we return [\"word\",\"note\",\"wood\"].  \n",
    "\n",
    "Ex2:  \n",
    "Input: queries = [\"yes\"], dictionary = [\"not\"]  \n",
    "Output: []  \n",
    "Explanation:  \n",
    "Applying any two edits to \"yes\" cannot make it equal to \"not\". Thus, we return an empty array."
   ]
  },
  {
   "cell_type": "markdown",
   "metadata": {},
   "source": [
    "* 解題想法:  \n",
    "首先將字串中的字母轉換成list，接著開始計算每個字串需要修改幾次才能變成目標的字串，如果少於兩次則將字串放入結果中並中斷迴圈，最後回傳結果"
   ]
  },
  {
   "cell_type": "code",
   "execution_count": null,
   "metadata": {},
   "outputs": [],
   "source": [
    "class Solution:\n",
    "    def twoEditWords(self, queries: List[str], dictionary: List[str]) -> List[str]:\n",
    "        def countDiff(w1, w2):\n",
    "            d = 0\n",
    "            for m in range(len(w1)):\n",
    "                if w1[m] != w2[m]:\n",
    "                    d += 1\n",
    "            return d\n",
    "        \n",
    "        res = []\n",
    "        ds = []\n",
    "        for d in dictionary:\n",
    "            t = [i for i in d]\n",
    "            ds.append(t)\n",
    "        for q in queries:\n",
    "            t = [i for i in q]\n",
    "            for d in ds:\n",
    "                if countDiff(t, d) <= 2:\n",
    "                    res.append(q)\n",
    "                    break\n",
    "        return res"
   ]
  }
 ],
 "metadata": {
  "kernelspec": {
   "display_name": "Python 3",
   "language": "python",
   "name": "python3"
  },
  "language_info": {
   "codemirror_mode": {
    "name": "ipython",
    "version": 3
   },
   "file_extension": ".py",
   "mimetype": "text/x-python",
   "name": "python",
   "nbconvert_exporter": "python",
   "pygments_lexer": "ipython3",
   "version": "3.7.4"
  }
 },
 "nbformat": 4,
 "nbformat_minor": 4
}
