{
 "cells": [
  {
   "cell_type": "markdown",
   "metadata": {},
   "source": [
    "# 本題要找出觀看次數最多的作者以及作品 (\\#Array)\n",
    "原題目連結: https://leetcode.com/problems/most-popular-video-creator/  \n",
    "\n",
    "You are given two string arrays creators and ids, and an integer array views, all of length n. The ith video on a platform was created by creator[i], has an id of ids[i], and has views[i] views.  \n",
    "\n",
    "The popularity of a creator is the sum of the number of views on all of the creator's videos. Find the creator with the highest popularity and the id of their most viewed video.  \n",
    "\n",
    "If multiple creators have the highest popularity, find all of them.  \n",
    "If multiple videos have the highest view count for a creator, find the lexicographically smallest id.  \n",
    "Return a 2D array of strings answer where answer[i] = [creatori, idi] means that creatori has the highest popularity and idi is the id of their most popular video. The answer can be returned in any order.  \n",
    "\n",
    "範例:  \n",
    "Ex1:  \n",
    "Input: creators = [\"alice\",\"bob\",\"alice\",\"chris\"], ids = [\"one\",\"two\",\"three\",\"four\"], views = [5,10,5,4]  \n",
    "Output: [[\"alice\",\"one\"],[\"bob\",\"two\"]]  \n",
    "Explanation:  \n",
    "The popularity of alice is 5 + 5 = 10.  \n",
    "The popularity of bob is 10.  \n",
    "The popularity of chris is 4.  \n",
    "alice and bob are the most popular creators.  \n",
    "For bob, the video with the highest view count is \"two\".  \n",
    "For alice, the videos with the highest view count are \"one\" and \"three\". Since \"one\" is lexicographically smaller than \"three\", it is included in the answer.  \n",
    "\n",
    "Ex2:  \n",
    "Input: creators = [\"alice\",\"alice\",\"alice\"], ids = [\"a\",\"b\",\"c\"], views = [1,2,2]  \n",
    "Output: [[\"alice\",\"b\"]]  \n",
    "Explanation:  \n",
    "The videos with id \"b\" and \"c\" have the highest view count.  \n",
    "Since \"b\" is lexicographically smaller than \"c\", it is included in the answer."
   ]
  },
  {
   "cell_type": "markdown",
   "metadata": {},
   "source": [
    "* 解題想法:  \n",
    "首先建立一個dict用來存放目前每個creator的總觀看次數，並用另一個dict來存放每個creator最大觀看次數的作品，最後用一個變數來放目前的最大總觀看次數，用迴圈統計完後，找出總觀看次數等於最大觀看次數的creator，並找出最多觀看次數的id放入結果"
   ]
  },
  {
   "cell_type": "code",
   "execution_count": null,
   "metadata": {},
   "outputs": [],
   "source": [
    "class Solution:\n",
    "    def mostPopularCreator(self, creators: List[str], ids: List[str], views: List[int]) -> List[List[str]]:\n",
    "        res = []\n",
    "        count = {}\n",
    "        rec = {}\n",
    "        n = 0\n",
    "        for m in range(len(creators)):\n",
    "            c = creators[m]\n",
    "            i = ids[m]\n",
    "            v = views[m]\n",
    "            if c not in count.keys():\n",
    "                count[c] = v\n",
    "                n = max(n, v)\n",
    "                rec[c] = [i, str(v)]\n",
    "            else:\n",
    "                count[c] += v\n",
    "                n = max(n, count[c])\n",
    "                if int(rec[c][1]) == v and rec[c][0] > i:\n",
    "                    rec[c][0] = i\n",
    "                elif int(rec[c][1]) < v:\n",
    "                    rec[c][0] = i\n",
    "                    rec[c][1] = str(v)\n",
    "        for key, val in count.items():\n",
    "            if val == n:\n",
    "                res.append([key, rec[key][0]])\n",
    "        return res"
   ]
  }
 ],
 "metadata": {
  "kernelspec": {
   "display_name": "Python 3",
   "language": "python",
   "name": "python3"
  },
  "language_info": {
   "codemirror_mode": {
    "name": "ipython",
    "version": 3
   },
   "file_extension": ".py",
   "mimetype": "text/x-python",
   "name": "python",
   "nbconvert_exporter": "python",
   "pygments_lexer": "ipython3",
   "version": "3.7.4"
  }
 },
 "nbformat": 4,
 "nbformat_minor": 4
}
