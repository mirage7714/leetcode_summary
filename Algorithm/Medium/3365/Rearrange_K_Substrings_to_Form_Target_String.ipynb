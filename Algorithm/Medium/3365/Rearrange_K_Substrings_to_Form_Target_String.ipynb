{
 "cells": [
  {
   "cell_type": "markdown",
   "id": "f606ba07-d8b8-48d0-8936-685d623c31bb",
   "metadata": {},
   "source": [
    "# 本題要找出兩個字串在重新排序後是否會相同 (\\#String, \\#SlidingWindows )\n",
    "原題目連結: https://leetcode.com/problems/shift-distance-between-two-strings/  \n",
    "\n",
    "You are given two strings s and t, both of which are anagrams of each other, and an integer k.  \n",
    "Your task is to determine whether it is possible to split the string s into k equal-sized substrings, rearrange the substrings, and concatenate them in any order to create a new string that matches the given string t.  \n",
    "Return true if this is possible, otherwise, return false.  \n",
    "An anagram is a word or phrase formed by rearranging the letters of a different word or phrase, using all the original letters exactly once.  \n",
    "A substring is a contiguous non-empty sequence of characters within a string.  \n",
    "\n",
    "範例:  \n",
    "Ex1:  \n",
    "Input: s = \"abcd\", t = \"cdab\", k = 2  \n",
    "Output: true  \n",
    "Explanation:  \n",
    "Split s into 2 substrings of length 2: [\"ab\", \"cd\"].  \n",
    "Rearranging these substrings as [\"cd\", \"ab\"], and then concatenating them results in \"cdab\", which matches t.  \n",
    "\n",
    "Ex2:  \n",
    "Input: s = \"aabbcc\", t = \"bbaacc\", k = 3  \n",
    "Output: true  \n",
    "Explanation:  \n",
    "Split s into 3 substrings of length 2: [\"aa\", \"bb\", \"cc\"].  \n",
    "Rearranging these substrings as [\"bb\", \"aa\", \"cc\"], and then concatenating them results in \"bbaacc\", which matches t.  \n",
    "\n",
    "Ex3:  \n",
    "Input: s = \"aabbcc\", t = \"bbaacc\", k = 2  \n",
    "Output: false  \n",
    "Explanation:  \n",
    "Split s into 2 substrings of length 3: [\"aab\", \"bcc\"].  \n",
    "These substrings cannot be rearranged to form t = \"bbaacc\", so the output is false."
   ]
  },
  {
   "cell_type": "markdown",
   "id": "677491df-a2d4-4c28-916c-c1fa88af1028",
   "metadata": {},
   "source": [
    "* 解題想法:  \n",
    "首先建立一個函數用來切分字串，並將字串放入dict中，接著檢查兩個dict中的key與val是否相同，如果有不同則回傳False，如果都相同則回傳True"
   ]
  },
  {
   "cell_type": "code",
   "execution_count": null,
   "id": "e0eeef09-4132-442c-a6e1-0a6004f7b73f",
   "metadata": {},
   "outputs": [],
   "source": [
    "class Solution:\n",
    "    def isPossibleToRearrange(self, s: str, t: str, k: int) -> bool:\n",
    "        def get_word(word, l):\n",
    "            count = {}\n",
    "            for i in range(0, len(word), l):\n",
    "                if word[i:i+l] not in count.keys():\n",
    "                    count[word[i:i+l]] = 0\n",
    "                count[word[i:i+l]] += 1\n",
    "            return count\n",
    "        \n",
    "        d = len(s) // k\n",
    "        c1 = get_word(s, d)\n",
    "        c2 = get_word(t, d)\n",
    "        for key, val in c1.items():\n",
    "            if key not in c2.keys():\n",
    "                return False\n",
    "            elif val != c2[key]:\n",
    "                return False\n",
    "        return True"
   ]
  }
 ],
 "metadata": {
  "kernelspec": {
   "display_name": "Python 3 (ipykernel)",
   "language": "python",
   "name": "python3"
  },
  "language_info": {
   "codemirror_mode": {
    "name": "ipython",
    "version": 3
   },
   "file_extension": ".py",
   "mimetype": "text/x-python",
   "name": "python",
   "nbconvert_exporter": "python",
   "pygments_lexer": "ipython3",
   "version": "3.9.13"
  }
 },
 "nbformat": 4,
 "nbformat_minor": 5
}
