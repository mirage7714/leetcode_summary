{
 "cells": [
  {
   "cell_type": "markdown",
   "metadata": {},
   "source": [
    "# 本題要找出最下層的左邊節點數值為何\n",
    "原題目連結: https://leetcode.com/problems/find-bottom-left-tree-value/  \n",
    "\n",
    "Given the root of a binary tree, return the leftmost value in the last row of the tree.  \n",
    "\n",
    "範例:  \n",
    "Ex1:  \n",
    "Input: root = [2,1,3]  \n",
    "Output: 1  \n",
    "\n",
    "Ex2:  \n",
    "Input: root = [1,2,3,4,null,5,6,null,null,7]  \n",
    "Output: 7"
   ]
  },
  {
   "cell_type": "markdown",
   "metadata": {},
   "source": [
    "* 解題想法:  \n",
    "由於要找出最下層的最左側節點，因此這邊使用BFS來進行走訪binary tree，並找出每一層最左邊的節點，直到走訪結束後回傳最後的值"
   ]
  },
  {
   "cell_type": "code",
   "execution_count": null,
   "metadata": {},
   "outputs": [],
   "source": [
    "# Definition for a binary tree node.\n",
    "# class TreeNode:\n",
    "#     def __init__(self, val=0, left=None, right=None):\n",
    "#         self.val = val\n",
    "#         self.left = left\n",
    "#         self.right = right\n",
    "class Solution:\n",
    "    def findBottomLeftValue(self, root: Optional[TreeNode]) -> int:\n",
    "        if root:\n",
    "            val = 0\n",
    "            stack = [root]\n",
    "            while stack:\n",
    "                node = []\n",
    "                v = []\n",
    "                for s in stack:\n",
    "                    if not v:\n",
    "                        v.append(s.val)\n",
    "                    if s.left:\n",
    "                        node.append(s.left)\n",
    "                    if s.right:\n",
    "                        node.append(s.right)   \n",
    "                stack.clear()\n",
    "                stack += node\n",
    "                val = v[0]\n",
    "            return val\n",
    "        return None"
   ]
  }
 ],
 "metadata": {
  "kernelspec": {
   "display_name": "Python 3",
   "language": "python",
   "name": "python3"
  },
  "language_info": {
   "codemirror_mode": {
    "name": "ipython",
    "version": 3
   },
   "file_extension": ".py",
   "mimetype": "text/x-python",
   "name": "python",
   "nbconvert_exporter": "python",
   "pygments_lexer": "ipython3",
   "version": "3.7.4"
  }
 },
 "nbformat": 4,
 "nbformat_minor": 4
}
