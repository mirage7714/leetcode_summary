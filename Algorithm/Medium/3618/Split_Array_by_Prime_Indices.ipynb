{
 "cells": [
  {
   "cell_type": "markdown",
   "id": "25cbc73f-cfb0-42cf-8cdc-633fbee05038",
   "metadata": {},
   "source": [
    "# 本題要找出index為質數與其他index的差為多少 (\\#Array )\n",
    "原題目連結: https://leetcode.com/problems/split-array-by-prime-indices/description/?page=63  \n",
    "\n",
    "You are given an integer array nums.  \n",
    "Split nums into two arrays A and B using the following rule:  \n",
    "Elements at prime indices in nums must go into array A.  \n",
    "All other elements must go into array B.  \n",
    "Return the absolute difference between the sums of the two arrays: |sum(A) - sum(B)|.  \n",
    "Note: An empty array has a sum of 0.  \n",
    "\n",
    "範例:  \n",
    "Ex1:  \n",
    "Input: nums = [2,3,4] \n",
    "Output: 1  \n",
    "Explanation:  \n",
    "The only prime index in the array is 2, so nums[2] = 4 is placed in array A.  \n",
    "The remaining elements, nums[0] = 2 and nums[1] = 3 are placed in array B.  \n",
    "sum(A) = 4, sum(B) = 2 + 3 = 5.  \n",
    "The absolute difference is |4 - 5| = 1.  \n",
    "\n",
    "Ex2:  \n",
    "Input: nums = [-1,5,7,0] \n",
    "Output: 3  \n",
    "Explanation:  \n",
    "The prime indices in the array are 2 and 3, so nums[2] = 7 and nums[3] = 0 are placed in array A.  \n",
    "The remaining elements, nums[0] = -1 and nums[1] = 5 are placed in array B.  \n",
    "sum(A) = 7 + 0 = 7, sum(B) = -1 + 5 = 4.  \n",
    "The absolute difference is |7 - 4| = 3."
   ]
  },
  {
   "cell_type": "markdown",
   "id": "9f7cd2dc-2b4d-44c5-a8dc-a00858f4d906",
   "metadata": {},
   "source": [
    "* 解題想法:\n",
    "首先建立一個函數用來判斷該index是否為質數，接著用迴圈開始檢查該index是否為質數，如果是質數則將該數值加到結果中，否則就從結果中扣除，最後回傳結果的絕對值就是答案"
   ]
  },
  {
   "cell_type": "code",
   "execution_count": null,
   "id": "9b2bb4ff-0d52-4cde-8253-f490afb26649",
   "metadata": {},
   "outputs": [],
   "source": [
    "class Solution:\n",
    "    def splitArray(self, nums: List[int]) -> int:\n",
    "        def is_prime(num):\n",
    "            if num == 0 or num == 1:\n",
    "                return False\n",
    "            elif num % 2 == 0:\n",
    "                if num == 2:\n",
    "                    return True\n",
    "                else:\n",
    "                    return False\n",
    "            else:\n",
    "                for i in range(3, int(sqrt(num))+ 1, 2):\n",
    "                    if num % i == 0:\n",
    "                        return False\n",
    "            return True\n",
    "\n",
    "        res = 0\n",
    "        for i in range(len(nums)):\n",
    "            if is_prime(i):\n",
    "                res += nums[i]\n",
    "            else:\n",
    "                res -= nums[i]\n",
    "        return abs(res)"
   ]
  }
 ],
 "metadata": {
  "kernelspec": {
   "display_name": "Python 3 (ipykernel)",
   "language": "python",
   "name": "python3"
  },
  "language_info": {
   "codemirror_mode": {
    "name": "ipython",
    "version": 3
   },
   "file_extension": ".py",
   "mimetype": "text/x-python",
   "name": "python",
   "nbconvert_exporter": "python",
   "pygments_lexer": "ipython3",
   "version": "3.12.5"
  }
 },
 "nbformat": 4,
 "nbformat_minor": 5
}
