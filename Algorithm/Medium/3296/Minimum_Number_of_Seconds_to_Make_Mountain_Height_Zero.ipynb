{
 "cells": [
  {
   "cell_type": "markdown",
   "id": "f0bb6461-a47b-439a-b5bc-582eb36d8e61",
   "metadata": {},
   "source": [
    "# 本題要找出到達指定的數值需要的最小秒數是多少 (\\#Array, \\#Heap )\n",
    "原題目連結: https://leetcode.com/problems/minimum-number-of-seconds-to-make-mountain-height-zero/description/  \n",
    "\n",
    "You are given an integer mountainHeight denoting the height of a mountain.  \n",
    "You are also given an integer array workerTimes representing the work time of workers in seconds.  \n",
    "The workers work simultaneously to reduce the height of the mountain. For worker i:  \n",
    "To decrease the mountain's height by x, it takes workerTimes[i] + workerTimes[i] * 2 + ... + workerTimes[i] * x seconds.   \n",
    "For example:  \n",
    "To reduce the height of the mountain by 1, it takes workerTimes[i] seconds.  \n",
    "To reduce the height of the mountain by 2, it takes workerTimes[i] + workerTimes[i] * 2 seconds, and so on.  \n",
    "Return an integer representing the minimum number of seconds required for the workers to make the height of the mountain 0.  \n",
    "\n",
    "範例:  \n",
    "Ex1:  \n",
    "Input: mountainHeight = 4, workerTimes = [2,1,1]  \n",
    "Output: 3  \n",
    "Explanation:  \n",
    "One way the height of the mountain can be reduced to 0 is:  \n",
    "Worker 0 reduces the height by 1, taking workerTimes[0] = 2 seconds.  \n",
    "Worker 1 reduces the height by 2, taking workerTimes[1] + workerTimes[1] * 2 = 3 seconds.  \n",
    "Worker 2 reduces the height by 1, taking workerTimes[2] = 1 second.  \n",
    "Since they work simultaneously, the minimum time needed is max(2, 3, 1) = 3 seconds.  \n",
    "\n",
    "Ex2:  \n",
    "Input: mountainHeight = 10, workerTimes = [3,2,2,4]  \n",
    "Output: 12  \n",
    "Explanation:  \n",
    "Worker 0 reduces the height by 2, taking workerTimes[0] + workerTimes[0] * 2 = 9 seconds.  \n",
    "Worker 1 reduces the height by 3, taking workerTimes[1] + workerTimes[1] * 2 + workerTimes[1] * 3 = 12 seconds.  \n",
    "Worker 2 reduces the height by 3, taking workerTimes[2] + workerTimes[2] * 2 + workerTimes[2] * 3 = 12 seconds.  \n",
    "Worker 3 reduces the height by 2, taking workerTimes[3] + workerTimes[3] * 2 = 12 seconds.  \n",
    "The number of seconds needed is max(9, 12, 12, 12) = 12 seconds.  \n",
    "\n",
    "Ex3:  \n",
    "Input: mountainHeight = 5, workerTimes = [1]  \n",
    "Output: 15  \n",
    "Explanation:  \n",
    "There is only one worker in this example, so the answer is workerTimes[0] + workerTimes[0] * 2 + workerTimes[0] * 3 + workerTimes[0] * 4 + workerTimes[0] * 5 = 15."
   ]
  },
  {
   "cell_type": "markdown",
   "id": "614c3879-c2f6-43d8-bf31-b73a5ab4bf87",
   "metadata": {},
   "source": [
    "* 解題想法:  \n",
    "首先建立一個heap，其中放入[下一次需要的秒數，目前需要的秒數，一次增加的秒數，目前使用的次數]，接著跑指定次數的迴圈，並更新下一次需要的秒數、目前需要的秒數以及目前使用的次數，最後找出heap中目前需要的秒數最大值就是答案"
   ]
  },
  {
   "cell_type": "code",
   "execution_count": null,
   "id": "b252db2f-97a0-4ccb-b349-7ec00f3044e5",
   "metadata": {},
   "outputs": [],
   "source": [
    "import heapq\n",
    "\n",
    "class Solution:\n",
    "    def minNumberOfSeconds(self, mountainHeight: int, workerTimes: List[int]) -> int:\n",
    "        res = 0\n",
    "        temp = [[i, 0, i, 0] for i in workerTimes]\n",
    "        heapq.heapify(temp)\n",
    "        for i in range(mountainHeight):\n",
    "            n = heapq.heappop(temp)\n",
    "            n[-1] += 1\n",
    "            n[1] = n[0]\n",
    "            n[0] += n[2] * (n[3]+1)\n",
    "            heapq.heappush(temp, n)\n",
    "        while temp:\n",
    "            t = heapq.heappop(temp)\n",
    "            res = max(res, t[1])\n",
    "        return res       "
   ]
  }
 ],
 "metadata": {
  "kernelspec": {
   "display_name": "Python 3 (ipykernel)",
   "language": "python",
   "name": "python3"
  },
  "language_info": {
   "codemirror_mode": {
    "name": "ipython",
    "version": 3
   },
   "file_extension": ".py",
   "mimetype": "text/x-python",
   "name": "python",
   "nbconvert_exporter": "python",
   "pygments_lexer": "ipython3",
   "version": "3.9.13"
  }
 },
 "nbformat": 4,
 "nbformat_minor": 5
}
