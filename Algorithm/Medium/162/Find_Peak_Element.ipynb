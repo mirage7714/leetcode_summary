{
 "cells": [
  {
   "cell_type": "markdown",
   "metadata": {},
   "source": [
    "# 本題要找出在array中，最大值的index為何\n",
    "原題目連結: https://leetcode.com/problems/find-peak-element/  \n",
    "\n",
    "A peak element is an element that is strictly greater than its neighbors.  \n",
    "\n",
    "Given an integer array nums, find a peak element, and return its index. If the array contains multiple peaks, return the index to any of the peaks.  \n",
    "\n",
    "You may imagine that nums[-1] = nums[n] = -∞.  \n",
    "\n",
    "範例:  \n",
    "Ex1:  \n",
    "Input: nums = [1,2,3,1]  \n",
    "Output: 2  \n",
    "Explanation: 3 is a peak element and your function should return the index number 2.  \n",
    "\n",
    "Ex2:  \n",
    "Input: nums = [1,2,1,3,5,6,4]  \n",
    "Output: 5  \n",
    "Explanation: Your function can return either index number 1 where the peak element is 2, or index number 5 where the peak element is 6.  "
   ]
  },
  {
   "cell_type": "markdown",
   "metadata": {},
   "source": [
    "* 解題想法:  \n",
    "由於題目只要求一個最大值的index為何，因此只需要在迴圈執行到最大值時回傳index，並中斷迴圈即可"
   ]
  },
  {
   "cell_type": "code",
   "execution_count": null,
   "metadata": {},
   "outputs": [],
   "source": [
    "class Solution:\n",
    "    def findPeakElement(self, nums: List[int]) -> int:\n",
    "        high = max(nums)\n",
    "        for n in range(len(nums)):\n",
    "            if nums[n] == high:\n",
    "                return n\n",
    "                break"
   ]
  }
 ],
 "metadata": {
  "kernelspec": {
   "display_name": "Python 3",
   "language": "python",
   "name": "python3"
  },
  "language_info": {
   "codemirror_mode": {
    "name": "ipython",
    "version": 3
   },
   "file_extension": ".py",
   "mimetype": "text/x-python",
   "name": "python",
   "nbconvert_exporter": "python",
   "pygments_lexer": "ipython3",
   "version": "3.7.6"
  }
 },
 "nbformat": 4,
 "nbformat_minor": 4
}
