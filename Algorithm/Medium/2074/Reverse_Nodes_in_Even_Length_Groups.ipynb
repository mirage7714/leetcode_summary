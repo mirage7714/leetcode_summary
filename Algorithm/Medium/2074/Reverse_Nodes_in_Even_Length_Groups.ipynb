{
 "cells": [
  {
   "cell_type": "markdown",
   "metadata": {},
   "source": [
    "# 本題要將linked list中偶數節的數值進行翻轉\n",
    "原題目連結: https://leetcode.com/problems/reverse-nodes-in-even-length-groups/ \n",
    "\n",
    "You are given the head of a linked list.  \n",
    "\n",
    "The nodes in the linked list are sequentially assigned to non-empty groups whose lengths form the sequence of the natural numbers (1, 2, 3, 4, ...). The length of a group is the number of nodes assigned to it. In other words,  \n",
    "\n",
    "The 1st node is assigned to the first group.  \n",
    "The 2nd and the 3rd nodes are assigned to the second group.  \n",
    "The 4th, 5th, and 6th nodes are assigned to the third group, and so on.  \n",
    "Note that the length of the last group may be less than or equal to 1 + the length of the second to last group.  \n",
    "\n",
    "Reverse the nodes in each group with an even length, and return the head of the modified linked list.  \n",
    "\n",
    "範例:  \n",
    "Ex1:  \n",
    "Input: head = [5,2,6,3,9,1,7,3,8,4]  \n",
    "Output: [5,6,2,3,9,1,4,8,3,7]  \n",
    "Explanation:  \n",
    "- The length of the first group is 1, which is odd, hence no reversal occurs.  \n",
    "- The length of the second group is 2, which is even, hence the nodes are reversed.  \n",
    "- The length of the third group is 3, which is odd, hence no reversal occurs.  \n",
    "- The length of the last group is 4, which is even, hence the nodes are reversed.  \n",
    "\n",
    "Ex2:  \n",
    "Input: head = [1,1,0,6]  \n",
    "Output: [1,0,1,6]  \n",
    "Explanation:  \n",
    "- The length of the first group is 1. No reversal occurs.  \n",
    "- The length of the second group is 2. The nodes are reversed.  \n",
    "- The length of the last group is 1. No reversal occurs.  \n",
    "\n",
    "Ex3:  \n",
    "Input: head = [1,1,0,6,5]  \n",
    "Output: [1,0,1,5,6]  \n",
    "Explanation:  \n",
    "- The length of the first group is 1. No reversal occurs.  \n",
    "- The length of the second group is 2. The nodes are reversed.  \n",
    "- The length of the last group is 2. The nodes are reversed."
   ]
  },
  {
   "cell_type": "markdown",
   "metadata": {},
   "source": [
    "* 解題想法:  \n",
    "首先將linked list中的數值取出，並用一個dict來存放，當長度到達指定的數值時則換下一個key值來放list，接著從最大的key值開始讀取dict，如果list長度為偶數，則由list的前方開始讀取來建立ListNode，否則由後側開始建立ListNode，最後回傳更新後的ListNode"
   ]
  },
  {
   "cell_type": "code",
   "execution_count": null,
   "metadata": {},
   "outputs": [],
   "source": [
    "# Definition for singly-linked list.\n",
    "# class ListNode:\n",
    "#     def __init__(self, val=0, next=None):\n",
    "#         self.val = val\n",
    "#         self.next = next\n",
    "class Solution:\n",
    "    def reverseEvenLengthGroups(self, head: Optional[ListNode]) -> Optional[ListNode]:\n",
    "        def createNode(val, result):\n",
    "            node = ListNode()\n",
    "            node.val = val\n",
    "            if len(result) > 0:\n",
    "                node.next = result[-1]\n",
    "            result.append(node)\n",
    "            \n",
    "        val = {1:[]}\n",
    "        temp = []\n",
    "        index = 1\n",
    "        result = []\n",
    "        while head:\n",
    "            if len(val[index]) == index:\n",
    "                index += 1\n",
    "                val[index] = [head.val]\n",
    "            else:\n",
    "                val[index].append(head.val)\n",
    "            head = head.next\n",
    "        for m in range(index, 0, -1):\n",
    "            v = val[m]\n",
    "            if len(v) % 2 == 0:\n",
    "                for n in range(len(v)):\n",
    "                    createNode(v[n], result)\n",
    "            else:\n",
    "                for n in range(len(v)-1, -1, -1):\n",
    "                    createNode(v[n], result)                \n",
    "        return result[-1]"
   ]
  }
 ],
 "metadata": {
  "kernelspec": {
   "display_name": "Python 3",
   "language": "python",
   "name": "python3"
  },
  "language_info": {
   "codemirror_mode": {
    "name": "ipython",
    "version": 3
   },
   "file_extension": ".py",
   "mimetype": "text/x-python",
   "name": "python",
   "nbconvert_exporter": "python",
   "pygments_lexer": "ipython3",
   "version": "3.7.4"
  }
 },
 "nbformat": 4,
 "nbformat_minor": 4
}
