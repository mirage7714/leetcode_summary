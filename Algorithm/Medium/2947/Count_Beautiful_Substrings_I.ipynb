{
 "cells": [
  {
   "cell_type": "markdown",
   "id": "8cc3c417-469d-4534-87b0-6cc0a4da6515",
   "metadata": {},
   "source": [
    "# 本題要找出共有多少符合條件的子字串 (\\#String )\n",
    "原題目連結：https://leetcode.com/problems/count-beautiful-substrings-i/description/  \n",
    "\n",
    "You are given a string s and a positive integer k.  \n",
    "Let vowels and consonants be the number of vowels and consonants in a string.  \n",
    "A string is beautiful if:  \n",
    "\n",
    "vowels == consonants.  \n",
    "(vowels * consonants) % k == 0, in other terms the multiplication of vowels and consonants is divisible by k.  \n",
    "Return the number of non-empty beautiful substrings in the given string s.  \n",
    "\n",
    "A substring is a contiguous sequence of characters in a string.  \n",
    "Vowel letters in English are 'a', 'e', 'i', 'o', and 'u'.  \n",
    "Consonant letters in English are every letter except vowels.  \n",
    "\n",
    "範例：  \n",
    "Ex1:  \n",
    "Input: s = \"baeyh\", k = 2  \n",
    "Output: 2  \n",
    "Explanation: There are 2 beautiful substrings in the given string.  \n",
    "- Substring \"baeyh\", vowels = 2 ([\"a\",e\"]), consonants = 2 ([\"y\",\"h\"]).  \n",
    "You can see that string \"aeyh\" is beautiful as vowels == consonants and vowels * consonants % k == 0.  \n",
    "- Substring \"baeyh\", vowels = 2 ([\"a\",e\"]), consonants = 2 ([\"b\",\"y\"]).   \n",
    "You can see that string \"baey\" is beautiful as vowels == consonants and vowels * consonants % k == 0.  \n",
    "It can be shown that there are only 2 beautiful substrings in the given string.  \n",
    "\n",
    "Ex2:  \n",
    "Input: s = \"abba\", k = 1  \n",
    "Output: 3  \n",
    "Explanation: There are 3 beautiful substrings in the given string.  \n",
    "- Substring \"abba\", vowels = 1 ([\"a\"]), consonants = 1 ([\"b\"]).   \n",
    "- Substring \"abba\", vowels = 1 ([\"a\"]), consonants = 1 ([\"b\"]).  \n",
    "- Substring \"abba\", vowels = 2 ([\"a\",\"a\"]), consonants = 2 ([\"b\",\"b\"]).  \n",
    "It can be shown that there are only 3 beautiful substrings in the given string.  \n",
    "\n",
    "Ex3:  \n",
    "Input: s = \"bcdf\", k = 1  \n",
    "Output: 0  \n",
    "Explanation: There are no beautiful substrings in the given string."
   ]
  },
  {
   "cell_type": "markdown",
   "id": "15b58333-d1c3-4b8b-9454-e115935930de",
   "metadata": {},
   "source": [
    "* 解題想法：  \n",
    "首先建立一個函數，用來計算目前共有多少的母音與子音，接著開始進行移動，並判斷是否符合條件，如果符合條件則將數值+1，最後回傳數值就是答案"
   ]
  },
  {
   "cell_type": "code",
   "execution_count": null,
   "id": "e99fdcd2-68fe-4c64-84c3-5d4a1a1c864e",
   "metadata": {},
   "outputs": [],
   "source": [
    "class Solution:\n",
    "    def beautifulSubstrings(self, s: str, k: int) -> int:\n",
    "        def count(word):\n",
    "            c = [0,0]\n",
    "            vowels = ['a','e','i','o','u']\n",
    "            for w in word:\n",
    "                if w in vowels:\n",
    "                    c[0] += 1\n",
    "                else:\n",
    "                    c[1] += 1\n",
    "            return c\n",
    "\n",
    "        res = 0\n",
    "        i = int(sqrt(k))\n",
    "        vowels = ['a','e','i','o','u']\n",
    "        while len(s) >= i:\n",
    "            c = count(s[:i])\n",
    "            if (c[0] * c[1]) % k == 0 and c[0] > 0 and c[1] > 0 and c[0] == c[1]:\n",
    "                res += 1\n",
    "            for j in range(1, len(s) - i+1):\n",
    "                if s[j-1] in vowels:\n",
    "                    c[0] -= 1\n",
    "                else:\n",
    "                    c[1] -= 1\n",
    "\n",
    "                if s[j+ i-1] in vowels:\n",
    "                    c[0] += 1\n",
    "                else:\n",
    "                    c[1] += 1\n",
    "                if (c[0] * c[1]) % k == 0 and c[0] > 0 and c[1] > 0 and c[0] == c[1]:\n",
    "                    res += 1\n",
    "            i += 1\n",
    "        return res"
   ]
  }
 ],
 "metadata": {
  "kernelspec": {
   "display_name": "Python 3 (ipykernel)",
   "language": "python",
   "name": "python3"
  },
  "language_info": {
   "codemirror_mode": {
    "name": "ipython",
    "version": 3
   },
   "file_extension": ".py",
   "mimetype": "text/x-python",
   "name": "python",
   "nbconvert_exporter": "python",
   "pygments_lexer": "ipython3",
   "version": "3.10.9"
  }
 },
 "nbformat": 4,
 "nbformat_minor": 5
}
