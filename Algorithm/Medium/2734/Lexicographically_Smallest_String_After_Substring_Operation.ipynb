{
 "cells": [
  {
   "cell_type": "markdown",
   "id": "ff4d25ff-f123-4ace-ba81-93b391e2339f",
   "metadata": {},
   "source": [
    "# 本題要找出在調換過一次順序之後，最小的字串為何 (\\#String )\n",
    "原題目連結: https://leetcode.com/problems/lexicographically-smallest-string-after-substring-operation/description/  \n",
    "\n",
    "You are given a string s consisting of only lowercase English letters. In one operation, you can do the following:  \n",
    "Select any non-empty substring of s, possibly the entire string, then replace each one of its characters with the previous character of the English alphabet. For example, 'b' is converted to 'a', and 'a' is converted to 'z'.  \n",
    "Return the lexicographically smallest string you can obtain after performing the above operation exactly once.  \n",
    "A substring is a contiguous sequence of characters in a string.  \n",
    "A string x is lexicographically smaller than a string y of the same length if x[i] comes before y[i] in alphabetic order for the first position i such that x[i] != y[i].  \n",
    "\n",
    "範例:  \n",
    "Ex1:    \n",
    "Input: s = \"cbabc\"  \n",
    "Output: \"baabc\"  \n",
    "Explanation: We apply the operation on the substring starting at index 0, and ending at index 1 inclusive.   \n",
    "It can be proven that the resulting string is the lexicographically smallest.  \n",
    "\n",
    "Ex2:  \n",
    "Input: s = \"acbbc\"  \n",
    "Output: \"abaab\"  \n",
    "Explanation: We apply the operation on the substring starting at index 1, and ending at index 4 inclusive.   \n",
    "It can be proven that the resulting string is the lexicographically smallest.  \n",
    "\n",
    "Ex3:  \n",
    "Input: s = \"leetcode\"  \n",
    "Output: \"kddsbncd\"  \n",
    "Explanation: We apply the operation on the entire string.   \n",
    "It can be proven that the resulting string is the lexicographically smallest.   "
   ]
  },
  {
   "cell_type": "markdown",
   "id": "2668baea-f78b-4143-b37a-d81f0f9a6cd8",
   "metadata": {},
   "source": [
    "* 解題想法:  \n",
    "首先用一個bool來記錄目前是否需要調換，並用另一個變數來記錄調換的次數，接著從頭開始進行檢查，如果當字母不為a的情況且尚未進行調換或是正在進行調換，則將字母更新後加到結果中，如果出現a的情況則更新bool值，最後如果都沒有調換過則更新最後一個a就是答案"
   ]
  },
  {
   "cell_type": "code",
   "execution_count": null,
   "id": "ef90d9e7-70c5-423e-9f0e-c66c0612e1a5",
   "metadata": {},
   "outputs": [],
   "source": [
    "class Solution:\n",
    "    def smallestString(self, s: str) -> str:\n",
    "        res = ''\n",
    "        is_changed = False\n",
    "        change = 0\n",
    "        for i in s:\n",
    "            if i != 'a' and (change == 0 or is_changed):\n",
    "                is_changed = True\n",
    "                change += 1\n",
    "                res += chr(ord(i)-1)\n",
    "            else:\n",
    "                is_changed = False\n",
    "                res += i\n",
    "        if change == 0:\n",
    "            res = res[:-1]+ 'z'\n",
    "        return res"
   ]
  }
 ],
 "metadata": {
  "kernelspec": {
   "display_name": "Python 3 (ipykernel)",
   "language": "python",
   "name": "python3"
  },
  "language_info": {
   "codemirror_mode": {
    "name": "ipython",
    "version": 3
   },
   "file_extension": ".py",
   "mimetype": "text/x-python",
   "name": "python",
   "nbconvert_exporter": "python",
   "pygments_lexer": "ipython3",
   "version": "3.9.13"
  }
 },
 "nbformat": 4,
 "nbformat_minor": 5
}
