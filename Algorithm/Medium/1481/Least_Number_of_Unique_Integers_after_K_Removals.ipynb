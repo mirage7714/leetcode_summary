{
 "cells": [
  {
   "cell_type": "markdown",
   "metadata": {},
   "source": [
    "# 本題要找出移除K個數值後最少可以剩下幾種數字\n",
    "原題目連結: https://leetcode.com/problems/least-number-of-unique-integers-after-k-removals/  \n",
    "\n",
    "Given an array of integers arr and an integer k. Find the least number of unique integers after removing exactly k elements.  \n",
    "\n",
    "範例:  \n",
    "Ex1:  \n",
    "Input: arr = [5,5,4], k = 1  \n",
    "Output: 1  \n",
    "Explanation: Remove the single 4, only 5 is left.  \n",
    "\n",
    "Ex2:  \n",
    "Input: arr = [4,3,1,1,3,3,2], k = 3  \n",
    "Output: 2  \n",
    "Explanation: Remove 4, 2 and either one of the two 1s or three 3s. 1 and 3 will be left."
   ]
  },
  {
   "cell_type": "markdown",
   "metadata": {},
   "source": [
    "* 解題想法:  \n",
    "首先用一個dict來存放每個數字出現的次數，接著開始從出現次數少的數字開始減，如果當無法在減去下一個數字時則中斷迴圈，最後將總出現的次數減去可消去的次數就是答案"
   ]
  },
  {
   "cell_type": "code",
   "execution_count": null,
   "metadata": {},
   "outputs": [],
   "source": [
    "class Solution:\n",
    "    def findLeastNumOfUniqueInts(self, arr: List[int], k: int) -> int:\n",
    "        count = {}\n",
    "        remove = 0\n",
    "        for a in arr:\n",
    "            if a not in count.keys():\n",
    "                count[a] = 1\n",
    "            else:\n",
    "                count[a] += 1\n",
    "        vals = list(count.values())\n",
    "        vals.sort()\n",
    "        \n",
    "        while k > 0:\n",
    "            for v in vals:\n",
    "                if v <= k:\n",
    "                    k -= v\n",
    "                    remove += 1\n",
    "                else:\n",
    "                    k = 0\n",
    "        return len(vals) - remove"
   ]
  }
 ],
 "metadata": {
  "kernelspec": {
   "display_name": "Python 3",
   "language": "python",
   "name": "python3"
  },
  "language_info": {
   "codemirror_mode": {
    "name": "ipython",
    "version": 3
   },
   "file_extension": ".py",
   "mimetype": "text/x-python",
   "name": "python",
   "nbconvert_exporter": "python",
   "pygments_lexer": "ipython3",
   "version": "3.7.4"
  }
 },
 "nbformat": 4,
 "nbformat_minor": 4
}
