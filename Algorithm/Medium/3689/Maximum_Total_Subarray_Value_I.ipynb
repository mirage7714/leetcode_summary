{
 "cells": [
  {
   "cell_type": "markdown",
   "id": "94482d59-6fac-4e23-9343-6dee71af34a4",
   "metadata": {},
   "source": [
    "# 本題要找出最大的最大值與最小值差值的組合總和為多少 (\\#Array )\n",
    "原題目連結：https://leetcode.com/problems/maximum-total-subarray-value-i/description/  \n",
    "\n",
    "You are given an integer array nums of length n and an integer k.  \n",
    "You need to choose exactly k non-empty subarrays nums[l..r] of nums. Subarrays may overlap, and the exact same subarray (same l and r) can be chosen more than once.  \n",
    "The value of a subarray nums[l..r] is defined as: max(nums[l..r]) - min(nums[l..r]).  \n",
    "The total value is the sum of the values of all chosen subarrays.  \n",
    "Return the maximum possible total value you can achieve.  \n",
    "\n",
    "範例：  \n",
    "Ex1:  \n",
    "Input: nums = [1,3,2], k = 2  \n",
    "Output: 4  \n",
    "Explanation:  \n",
    "One optimal approach is:  \n",
    "Choose nums[0..1] = [1, 3]. The maximum is 3 and the minimum is 1, giving a value of 3 - 1 = 2.  \n",
    "Choose nums[0..2] = [1, 3, 2]. The maximum is still 3 and the minimum is still 1, so the value is also 3 - 1 = 2.  \n",
    "Adding these gives 2 + 2 = 4.  \n",
    "\n",
    "Ex2:  \n",
    "Input: nums = [4,2,5,1], k = 3  \n",
    "Output: 12  \n",
    "Explanation:  \n",
    "One optimal approach is:  \n",
    "Choose nums[0..3] = [4, 2, 5, 1]. The maximum is 5 and the minimum is 1, giving a value of 5 - 1 = 4.  \n",
    "Choose nums[0..3] = [4, 2, 5, 1]. The maximum is 5 and the minimum is 1, so the value is also 4.  \n",
    "Choose nums[2..3] = [5, 1]. The maximum is 5 and the minimum is 1, so the value is again 4.  \n",
    "Adding these gives 4 + 4 + 4 = 12.  "
   ]
  },
  {
   "cell_type": "markdown",
   "id": "fd6eb10c-719d-4678-bbdc-61b1489544ca",
   "metadata": {},
   "source": [
    "* 解題想法：  \n",
    "由於題目並沒有限制只能使用不重複的組合，因此這邊會有的最大組合就是最大值減去最小值之後，直接乘上K次就是答案"
   ]
  },
  {
   "cell_type": "code",
   "execution_count": null,
   "id": "8aa9a89d-d9f2-4d4b-aae8-6e5fc378fc47",
   "metadata": {},
   "outputs": [],
   "source": [
    "class Solution:\n",
    "    def maxTotalValue(self, nums: List[int], k: int) -> int:\n",
    "        res = (max(nums) - min(nums)) * k\n",
    "        return res"
   ]
  }
 ],
 "metadata": {
  "kernelspec": {
   "display_name": "Python 3 (ipykernel)",
   "language": "python",
   "name": "python3"
  },
  "language_info": {
   "codemirror_mode": {
    "name": "ipython",
    "version": 3
   },
   "file_extension": ".py",
   "mimetype": "text/x-python",
   "name": "python",
   "nbconvert_exporter": "python",
   "pygments_lexer": "ipython3",
   "version": "3.10.9"
  }
 },
 "nbformat": 4,
 "nbformat_minor": 5
}
