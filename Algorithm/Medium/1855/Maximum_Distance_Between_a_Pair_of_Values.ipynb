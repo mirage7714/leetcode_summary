{
 "cells": [
  {
   "cell_type": "markdown",
   "metadata": {},
   "source": [
    "# 本題要找出兩個list中最大的距離為多少\n",
    "原題目連結: https://leetcode.com/problems/maximum-distance-between-a-pair-of-values/  \n",
    "\n",
    "You are given two non-increasing 0-indexed integer arrays nums1 and nums2.  \n",
    "A pair of indices (i, j), where 0 <= i < nums1.length and 0 <= j < nums2.length, is valid if both i <= j and nums1[i] <= nums2[j]. The distance of the pair is j - i.  \n",
    "Return the maximum distance of any valid pair (i, j). If there are no valid pairs, return 0.  \n",
    "An array arr is non-increasing if arr[i-1] >= arr[i] for every 1 <= i < arr.length.  \n",
    "\n",
    "範例:  \n",
    "Ex1:  \n",
    "Input: nums1 = [55,30,5,4,2], nums2 = [100,20,10,10,5]\n",
    "Output: 2\n",
    "Explanation: The valid pairs are (0,0), (2,2), (2,3), (2,4), (3,3), (3,4), and (4,4).\n",
    "The maximum distance is 2 with pair (2,4).  \n",
    "\n",
    "Ex2:  \n",
    "Input: nums1 = [2,2,2], nums2 = [10,10,1]  \n",
    "Output: 1  \n",
    "Explanation: The valid pairs are (0,0), (0,1), and (1,1).  \n",
    "The maximum distance is 1 with pair (0,1).  \n",
    "\n",
    "Ex3:  \n",
    "Input: nums1 = [30,29,19,5], nums2 = [25,25,25,25,25]  \n",
    "Output: 2  \n",
    "Explanation: The valid pairs are (2,2), (2,3), (2,4), (3,3), and (3,4).  \n",
    "The maximum distance is 2 with pair (2,4)."
   ]
  },
  {
   "cell_type": "markdown",
   "metadata": {},
   "source": [
    "* 解題想法:  \n",
    "由於需要比對兩個list內的值大小，然後找出距離，因此用了兩個for迴圈，然後第二個迴圈的起始值是第一個迴圈的index+1+result，之所以加上result是因為要找到最大值，所以必須要超過目前result的值才有意義，最後回傳result作為結果"
   ]
  },
  {
   "cell_type": "code",
   "execution_count": null,
   "metadata": {},
   "outputs": [],
   "source": [
    "class Solution:\n",
    "    def maxDistance(self, nums1: List[int], nums2: List[int]) -> int:\n",
    "        result = 0\n",
    "        for m in range(len(nums1)):\n",
    "            for n in range(m+1 + result, len(nums2)):\n",
    "                if nums1[m] > nums2[n]:\n",
    "                    break\n",
    "                else:\n",
    "                    diff = n - m\n",
    "                    if diff > result:\n",
    "                        result = diff\n",
    "        return result"
   ]
  }
 ],
 "metadata": {
  "kernelspec": {
   "display_name": "Python 3",
   "language": "python",
   "name": "python3"
  },
  "language_info": {
   "codemirror_mode": {
    "name": "ipython",
    "version": 3
   },
   "file_extension": ".py",
   "mimetype": "text/x-python",
   "name": "python",
   "nbconvert_exporter": "python",
   "pygments_lexer": "ipython3",
   "version": "3.7.4"
  }
 },
 "nbformat": 4,
 "nbformat_minor": 4
}
