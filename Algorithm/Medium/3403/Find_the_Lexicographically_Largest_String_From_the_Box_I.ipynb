{
 "cells": [
  {
   "cell_type": "markdown",
   "id": "e81662a6-0c23-4c90-adac-9804bf543096",
   "metadata": {},
   "source": [
    "# 本題要找出最大的可能字串為何 (\\#String, \\#TwoPointer )\n",
    "原題目連結: https://leetcode.com/problems/find-the-lexicographically-largest-string-from-the-box-i/description/?envType=daily-question&envId=2025-06-04  \n",
    "\n",
    "You are given a string word, and an integer numFriends.  \n",
    "Alice is organizing a game for her numFriends friends. There are multiple rounds in the game, where in each round:  \n",
    "word is split into numFriends non-empty strings, such that no previous round has had the exact same split.  \n",
    "All the split words are put into a box.  \n",
    "Find the lexicographically largest string from the box after all the rounds are finished.  \n",
    "\n",
    "範例:  \n",
    "Ex1:  \n",
    "Input: word = \"dbca\", numFriends = 2  \n",
    "Output: \"dbc\"  \n",
    "Explanation:   \n",
    "All possible splits are:  \n",
    "\"d\" and \"bca\".  \n",
    "\"db\" and \"ca\".  \n",
    "\"dbc\" and \"a\".  \n",
    "\n",
    "Ex2:  \n",
    "Input: word = \"gggg\", numFriends = 4  \n",
    "Output: \"g\"  \n",
    "Explanation:   \n",
    "The only possible split is: \"g\", \"g\", \"g\", and \"g\".  "
   ]
  },
  {
   "cell_type": "markdown",
   "id": "3bc1792b-79a5-4bfe-9f40-45d1f07cb74c",
   "metadata": {},
   "source": [
    "* 解題想法:  \n",
    "分為以下幾種情況:  \n",
    "- numFriends為1，則最大字串就是原本的字串  \n",
    "- numFriends為word長度，則最大字串就是最大的字母  \n",
    "- 接著是找出numFriends與字串長度的差值，來判斷最大長度的字串可能為多少，然後再找出中間的字串後逐個找出可能的子字串，最後找出最大值"
   ]
  },
  {
   "cell_type": "code",
   "execution_count": null,
   "id": "b48ef7ac-6f6a-40ed-8544-a898faeb2ab4",
   "metadata": {},
   "outputs": [],
   "source": [
    "class Solution:\n",
    "    def answerString(self, word: str, numFriends: int) -> str:\n",
    "        res = ''\n",
    "        s = len(word)\n",
    "        d = s - numFriends\n",
    "        if numFriends == 1:\n",
    "            return word\n",
    "        elif d == 0:\n",
    "            w = [i for i in word]\n",
    "            return max(w)\n",
    "        for i in range(numFriends):\n",
    "            p = word[i:i+d+1]\n",
    "            while p:\n",
    "                if res < p:\n",
    "                    res = p\n",
    "                else:\n",
    "                    p = p[1:]\n",
    "        return res"
   ]
  }
 ],
 "metadata": {
  "kernelspec": {
   "display_name": "Python 3 (ipykernel)",
   "language": "python",
   "name": "python3"
  },
  "language_info": {
   "codemirror_mode": {
    "name": "ipython",
    "version": 3
   },
   "file_extension": ".py",
   "mimetype": "text/x-python",
   "name": "python",
   "nbconvert_exporter": "python",
   "pygments_lexer": "ipython3",
   "version": "3.9.13"
  }
 },
 "nbformat": 4,
 "nbformat_minor": 5
}
