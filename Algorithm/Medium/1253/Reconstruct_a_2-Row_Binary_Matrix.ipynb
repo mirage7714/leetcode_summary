{
 "cells": [
  {
   "cell_type": "markdown",
   "metadata": {},
   "source": [
    "# 本題要依照指定的變數，產出一個2D list\n",
    "原題目連結: https://leetcode.com/problems/reconstruct-a-2-row-binary-matrix/  \n",
    "\n",
    "Given the following details of a matrix with n columns and 2 rows :  \n",
    "  \n",
    "The matrix is a binary matrix, which means each element in the matrix can be 0 or 1.  \n",
    "The sum of elements of the 0-th(upper) row is given as upper.  \n",
    "The sum of elements of the 1-st(lower) row is given as lower.  \n",
    "The sum of elements in the i-th column(0-indexed) is colsum[i], where colsum is given as an integer array with length n.  \n",
    "Your task is to reconstruct the matrix with upper, lower and colsum.  \n",
    "\n",
    "Return it as a 2-D integer array.  \n",
    "\n",
    "If there are more than one valid solution, any of them will be accepted.  \n",
    "\n",
    "If no valid solution exists, return an empty 2-D array.  \n",
    "\n",
    "範例:  \n",
    "Ex1:  \n",
    "Input: upper = 2, lower = 1, colsum = [1,1,1]  \n",
    "Output: [[1,1,0],[0,0,1]]  \n",
    "Explanation: [[1,0,1],[0,1,0]], and [[0,1,1],[1,0,0]] are also correct answers.  \n",
    "\n",
    "Ex2:  \n",
    "Input: upper = 2, lower = 3, colsum = [2,2,1,1]  \n",
    "Output: []  \n",
    "\n",
    "Ex3:  \n",
    "Input: upper = 5, lower = 5, colsum = [2,1,2,0,1,0,1,2,0,1]  \n",
    "Output: [[1,1,1,0,1,0,0,1,0,0],[1,0,1,0,0,0,1,1,0,1]]"
   ]
  },
  {
   "cell_type": "markdown",
   "metadata": {},
   "source": [
    "* 解題想法:  \n",
    "首先計算出colsum的總和是否等於upper+lower的值，如果相等則接著建立兩個長度相等內容都為0的list，接著用迴圈開始從colsum中進行檢查，當數值為2時，則代表兩個list都需要更新為1，而upper與lower則須同時減1，當數值為1時，則由upper和lower較大者減去1，另外當如果upper或lower其中有一個小於0時，則代表無法滿足條件，因此回傳空list，如果有符合條件的兩個list則放入list中回傳"
   ]
  },
  {
   "cell_type": "code",
   "execution_count": null,
   "metadata": {},
   "outputs": [],
   "source": [
    "class Solution:\n",
    "    def reconstructMatrix(self, upper: int, lower: int, colsum: List[int]) -> List[List[int]]:\n",
    "        result = []\n",
    "        total = 0\n",
    "        for c in colsum:\n",
    "            total += c\n",
    "        if total == upper + lower:\n",
    "            col1 = [0] * len(colsum)\n",
    "            col2 = [0] * len(colsum)\n",
    "            is_valid = True\n",
    "            for i in range(len(colsum)):\n",
    "                if colsum[i] == 2:\n",
    "                    col1[i] = 1\n",
    "                    col2[i] = 1\n",
    "                    upper -= 1\n",
    "                    lower -= 1\n",
    "                elif colsum[i] == 1:\n",
    "                    if upper >= lower:\n",
    "                        col1[i] = 1\n",
    "                        upper -= 1\n",
    "                    else:\n",
    "                        col2[i] = 1\n",
    "                        lower -= 1\n",
    "                if min(upper, lower) < 0:\n",
    "                    is_valid = False\n",
    "                    break\n",
    "            if is_valid:\n",
    "                result.append(col1)\n",
    "                result.append(col2)\n",
    "        return result"
   ]
  }
 ],
 "metadata": {
  "kernelspec": {
   "display_name": "Python 3",
   "language": "python",
   "name": "python3"
  },
  "language_info": {
   "codemirror_mode": {
    "name": "ipython",
    "version": 3
   },
   "file_extension": ".py",
   "mimetype": "text/x-python",
   "name": "python",
   "nbconvert_exporter": "python",
   "pygments_lexer": "ipython3",
   "version": "3.7.4"
  }
 },
 "nbformat": 4,
 "nbformat_minor": 4
}
