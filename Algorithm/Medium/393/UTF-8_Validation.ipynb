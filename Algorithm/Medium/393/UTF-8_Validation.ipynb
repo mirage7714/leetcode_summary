{
 "cells": [
  {
   "cell_type": "markdown",
   "metadata": {},
   "source": [
    "# 本題要驗證list中的數字是否符合UTF8的規格\n",
    "原題目連結: https://leetcode.com/problems/utf-8-validation/  \n",
    "\n",
    "Given an integer array data representing the data, return whether it is a valid UTF-8 encoding (i.e. it translates to a sequence of valid UTF-8 encoded characters).  \n",
    "\n",
    "A character in UTF8 can be from 1 to 4 bytes long, subjected to the following rules:  \n",
    "\n",
    "For a 1-byte character, the first bit is a 0, followed by its Unicode code.  \n",
    "For an n-bytes character, the first n bits are all one's, the n + 1 bit is 0, followed by n - 1 bytes with the most significant 2 bits being 10.  \n",
    "This is how the UTF-8 encoding would work:  \n",
    "```\n",
    "     Number of Bytes   |        UTF-8 Octet Sequence  \n",
    "                       |              (binary)  \n",
    "   --------------------+-----------------------------------------  \n",
    "            1          |   0xxxxxxx  \n",
    "            2          |   110xxxxx 10xxxxxx  \n",
    "            3          |   1110xxxx 10xxxxxx 10xxxxxx  \n",
    "            4          |   11110xxx 10xxxxxx 10xxxxxx 10xxxxxx\n",
    "```\n",
    "x denotes a bit in the binary form of a byte that may be either 0 or 1.  \n",
    "\n",
    "Note: The input is an array of integers. Only the least significant 8 bits of each integer is used to store the data. This means each integer represents only 1 byte of data.  \n",
    "\n",
    "範例:  \n",
    "Ex1:  \n",
    "Input: data = [197,130,1]  \n",
    "Output: true  \n",
    "Explanation: data represents the octet sequence: 11000101 10000010 00000001.  \n",
    "It is a valid utf-8 encoding for a 2-bytes character followed by a 1-byte character.  \n",
    "\n",
    "Ex2:  \n",
    "Input: data = [235,140,4]  \n",
    "Output: false  \n",
    "Explanation: data represented the octet sequence: 11101011 10001100 00000100.  \n",
    "The first 3 bits are all one's and the 4th bit is 0 means it is a 3-bytes character.  \n",
    "The next byte is a continuation byte which starts with 10 and that's correct.  \n",
    "But the second continuation byte does not start with 10, so it is invalid."
   ]
  },
  {
   "cell_type": "markdown",
   "metadata": {},
   "source": [
    "* 解題想法:  \n",
    "首先將list內的數字轉換成bin字串，接著檢查字串是符合哪一個byte的情境，如果都不符合則直接回傳False，接著將各情境的byte數記錄下來，並將字串放入暫存的list中，等list長度與byte數相同時則檢查list中的所有字串是否都符合條件，如果不符合條件則回傳False，如果符合條件則清空暫存，直到所有的字串都檢查過都沒問題則回傳True"
   ]
  },
  {
   "cell_type": "code",
   "execution_count": null,
   "metadata": {},
   "outputs": [],
   "source": [
    "class Solution:\n",
    "    def validUtf8(self, data: List[int]) -> bool:\n",
    "        def checkValid(chars):\n",
    "            is_valid = True\n",
    "            s = len(chars)\n",
    "            if len(chars) == 1:\n",
    "                if len(chars[0]) == 8:\n",
    "                    is_valid = False\n",
    "            else:\n",
    "                for m in range(1, s):\n",
    "                    if not chars[m].startswith('10') or len(chars[m]) != 8:\n",
    "                        is_valid = False\n",
    "                        break\n",
    "            return is_valid\n",
    "        \n",
    "        temp = []\n",
    "        count = 0\n",
    "        for m in range(len(data)):\n",
    "            b = bin(data[m])[2:]\n",
    "            if not temp:\n",
    "                if len(b) == 8:\n",
    "                    if b.startswith('110'):\n",
    "                        count = 2\n",
    "                    elif b.startswith('1110'):\n",
    "                        count = 3\n",
    "                    elif b.startswith('11110'):\n",
    "                        count = 4\n",
    "                    else:\n",
    "                        return False\n",
    "                else:\n",
    "                    count = 1\n",
    "            temp.append(b)\n",
    "            if len(temp) == count:\n",
    "                if not checkValid(temp):\n",
    "                    return False\n",
    "                temp.clear()\n",
    "\n",
    "        if temp and not checkValid(temp):\n",
    "            return False\n",
    "        return True"
   ]
  }
 ],
 "metadata": {
  "kernelspec": {
   "display_name": "Python 3",
   "language": "python",
   "name": "python3"
  },
  "language_info": {
   "codemirror_mode": {
    "name": "ipython",
    "version": 3
   },
   "file_extension": ".py",
   "mimetype": "text/x-python",
   "name": "python",
   "nbconvert_exporter": "python",
   "pygments_lexer": "ipython3",
   "version": "3.7.4"
  }
 },
 "nbformat": 4,
 "nbformat_minor": 4
}
