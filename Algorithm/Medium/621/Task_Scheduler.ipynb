{
 "cells": [
  {
   "cell_type": "markdown",
   "metadata": {},
   "source": [
    "# 本題要計算執行完所有的任務需要多少時間\n",
    "原題目連結: https://leetcode.com/problems/task-scheduler/  \n",
    "\n",
    "Given a characters array tasks, representing the tasks a CPU needs to do, where each letter represents a different task. Tasks could be done in any order. Each task is done in one unit of time. For each unit of time, the CPU could complete either one task or just be idle.  \n",
    "\n",
    "However, there is a non-negative integer n that represents the cooldown period between two same tasks (the same letter in the array), that is that there must be at least n units of time between any two same tasks.  \n",
    "\n",
    "Return the least number of units of times that the CPU will take to finish all the given tasks.  \n",
    "\n",
    "範例:  \n",
    "Ex1:  \n",
    "Input: tasks = [\"A\",\"A\",\"A\",\"B\",\"B\",\"B\"], n = 2  \n",
    "Output: 8  \n",
    "Explanation:   \n",
    "A -> B -> idle -> A -> B -> idle -> A -> B  \n",
    "There is at least 2 units of time between any two same tasks.  \n",
    "\n",
    "Ex2:  \n",
    "Input: tasks = [\"A\",\"A\",\"A\",\"B\",\"B\",\"B\"], n = 0  \n",
    "Output: 6  \n",
    "Explanation: On this case any permutation of size 6 would work since n = 0.  \n",
    "[\"A\",\"A\",\"A\",\"B\",\"B\",\"B\"]  \n",
    "[\"A\",\"B\",\"A\",\"B\",\"A\",\"B\"]  \n",
    "[\"B\",\"B\",\"B\",\"A\",\"A\",\"A\"]  \n",
    "...  \n",
    "And so on.  \n",
    "\n",
    "Ex3:  \n",
    "Input: tasks = [\"A\",\"A\",\"A\",\"A\",\"A\",\"A\",\"B\",\"C\",\"D\",\"E\",\"F\",\"G\"], n = 2  \n",
    "Output: 16  \n",
    "Explanation:   \n",
    "One possible solution is  \n",
    "A -> B -> C -> A -> D -> E -> A -> F -> G -> A -> idle -> idle -> A -> idle -> idle -> A"
   ]
  },
  {
   "cell_type": "markdown",
   "metadata": {},
   "source": [
    "* 解題想法:  \n",
    "首先將各任務的次數分別找出後轉成負值放入dict中，接著將dict的value轉成queue，然後開始從出現次數最多(數值最小)的task開始安排，並將次數加一後放入暫存的list中，等n+1的迴圈結束後如果暫存中還有值，則代表需要的時間為n+1，所以將總時數total加上n+1，並將暫存中的數值放回queue中，如果當暫存為空的時候，代表中間所有的任務都執行完了，因此總次數加上中間執行的次數，就是最後的總執行時數"
   ]
  },
  {
   "cell_type": "code",
   "execution_count": null,
   "metadata": {},
   "outputs": [],
   "source": [
    "import heapq\n",
    "\n",
    "class Solution:\n",
    "    def leastInterval(self, tasks: List[str], n: int) -> int:\n",
    "        count = {}\n",
    "        total = 0\n",
    "        for t in tasks:\n",
    "            if t not in count.keys():\n",
    "                count[t] = -1\n",
    "            else:\n",
    "                count[t] -= 1\n",
    "        val = list(count.values())\n",
    "        heapq.heapify(val)\n",
    "        while val:\n",
    "            temp = []\n",
    "            c = 0\n",
    "            for _ in range(n+1):\n",
    "                if val:\n",
    "                    t = heapq.heappop(val)\n",
    "                    c += 1\n",
    "                    if t < -1:\n",
    "                        temp.append(t+1)\n",
    "            for t in temp:\n",
    "                heapq.heappush(val, t)\n",
    "            if not val:\n",
    "                total += c\n",
    "            else:\n",
    "                total += n+1\n",
    "        return total"
   ]
  }
 ],
 "metadata": {
  "kernelspec": {
   "display_name": "Python 3",
   "language": "python",
   "name": "python3"
  },
  "language_info": {
   "codemirror_mode": {
    "name": "ipython",
    "version": 3
   },
   "file_extension": ".py",
   "mimetype": "text/x-python",
   "name": "python",
   "nbconvert_exporter": "python",
   "pygments_lexer": "ipython3",
   "version": "3.7.4"
  }
 },
 "nbformat": 4,
 "nbformat_minor": 4
}
