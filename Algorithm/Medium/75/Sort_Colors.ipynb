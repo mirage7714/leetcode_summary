{
 "cells": [
  {
   "cell_type": "markdown",
   "metadata": {},
   "source": [
    "# 本題要對一個array進行排序，並且要使用in-place的方式\n",
    "原題目連結: https://leetcode.com/problems/sort-colors/  \n",
    "\n",
    "Given an array nums with n objects colored red, white, or blue, sort them in-place so that objects of the same color are adjacent, with the colors in the order red, white, and blue.  \n",
    "\n",
    "Here, we will use the integers 0, 1, and 2 to represent the color red, white, and blue respectively.  \n",
    "\n",
    "範例:  \n",
    "Ex1:  \n",
    "Input: nums = [2,0,2,1,1,0]  \n",
    "Output: [0,0,1,1,2,2]  \n",
    "\n",
    "Ex2:  \n",
    "Input: nums = [2,0,1]  \n",
    "Output: [0,1,2]  \n",
    "\n",
    "Ex3:  \n",
    "Input: nums = [0]  \n",
    "Output: [0]  \n",
    "\n",
    "Ex4:  \n",
    "Input: nums = [1]  \n",
    "Output: [1]"
   ]
  },
  {
   "cell_type": "markdown",
   "metadata": {},
   "source": [
    "* 解題想法:  \n",
    "由於題目要求要用in-place的方式進行，而且在follow up的部分有說嘗試不使用內建函數的方式來進行  \n",
    "如果使用內建行數，可以直接使用sort()就結束了，覺得這樣有點太空虛  \n",
    "後來改用先計算每個顏色出現的頻率，在來把原本的list中數字進行修改"
   ]
  },
  {
   "cell_type": "code",
   "execution_count": null,
   "metadata": {},
   "outputs": [],
   "source": [
    "class Solution:\n",
    "    def sortColors(self, nums: List[int]) -> None:\n",
    "        \"\"\"\n",
    "        Do not return anything, modify nums in-place instead.\n",
    "        \"\"\"\n",
    "        freq = {}\n",
    "        for n in nums:\n",
    "            if n not in freq.keys():\n",
    "                freq[n] = 1\n",
    "            else:\n",
    "                freq[n] += 1\n",
    "        index = 0\n",
    "        for k in range(3):\n",
    "            if k in freq.keys():\n",
    "                for r in range(freq[k]):\n",
    "                    nums[index] = k\n",
    "                    index += 1"
   ]
  }
 ],
 "metadata": {
  "kernelspec": {
   "display_name": "Python 3",
   "language": "python",
   "name": "python3"
  },
  "language_info": {
   "codemirror_mode": {
    "name": "ipython",
    "version": 3
   },
   "file_extension": ".py",
   "mimetype": "text/x-python",
   "name": "python",
   "nbconvert_exporter": "python",
   "pygments_lexer": "ipython3",
   "version": "3.7.6"
  }
 },
 "nbformat": 4,
 "nbformat_minor": 4
}
