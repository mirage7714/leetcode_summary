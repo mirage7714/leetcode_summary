{
 "cells": [
  {
   "cell_type": "markdown",
   "metadata": {},
   "source": [
    "# 本題要找出最長的happy string為何 (\\#Array, \\#Greedy, \\#Heap)\n",
    "原題目連結: https://leetcode.com/problems/longest-happy-string/  \n",
    "\n",
    "A string s is called happy if it satisfies the following conditions:  \n",
    "\n",
    "s only contains the letters 'a', 'b', and 'c'.  \n",
    "s does not contain any of \"aaa\", \"bbb\", or \"ccc\" as a substring.  \n",
    "s contains at most a occurrences of the letter 'a'.  \n",
    "s contains at most b occurrences of the letter 'b'.  \n",
    "s contains at most c occurrences of the letter 'c'.  \n",
    "Given three integers a, b, and c, return the longest possible happy string. If there are multiple longest happy strings, return any of them. If there is no such string, return the empty string \"\".   \n",
    "\n",
    "A substring is a contiguous sequence of characters within a string.  \n",
    "\n",
    "範例:  \n",
    "Ex1:  \n",
    "Input: a = 1, b = 1, c = 7  \n",
    "Output: \"ccaccbcc\"  \n",
    "Explanation: \"ccbccacc\" would also be a correct answer.  \n",
    "\n",
    "Ex2:  \n",
    "Input: a = 7, b = 1, c = 0  \n",
    "Output: \"aabaa\"  \n",
    "Explanation: It is the only correct answer in this case.  "
   ]
  },
  {
   "cell_type": "markdown",
   "metadata": {},
   "source": [
    "* 解題想法:  \n",
    "首先檢查三個數值，如果不為0則放入一個list中，接著將list轉換為heapq，然後開始從數值最大的開始取出，如果最大值與結果的最後一個字是相同的，則需要另外找出一個不相同的字放在字尾，接著從最大值中取出最多兩個值放入結果中，並將數值更新後放回queue，最後當如果剩下的字無法繼續加入時則中斷迴圈並回傳組合後的字串"
   ]
  },
  {
   "cell_type": "code",
   "execution_count": null,
   "metadata": {},
   "outputs": [],
   "source": [
    "import heapq\n",
    "\n",
    "class Solution:\n",
    "    def longestDiverseString(self, a: int, b: int, c: int) -> str:\n",
    "        result = []\n",
    "        count = []\n",
    "        chars = ['a','b','c']\n",
    "        if a > 0:\n",
    "            count.append([-a, 0])\n",
    "        if b > 0:\n",
    "            count.append([-b, 1])\n",
    "        if c > 0 :\n",
    "            count.append([-c, 2])\n",
    "        heapq.heapify(count)\n",
    "        while count:\n",
    "            m = heapq.heappop(count)\n",
    "            if result and chars[m[1]] == result[-1] and count:\n",
    "                n = heapq.heappop(count)\n",
    "                result.append(chars[n[1]])\n",
    "                n[0] += 1\n",
    "                if n[0] < 0:\n",
    "                    heapq.heappush(count, n)\n",
    "            if not result or result[-1] != chars[m[1]]:\n",
    "                for _ in range(min(2, -m[0])):\n",
    "                    result.append(chars[m[1]])\n",
    "                    m[0] += 1\n",
    "            else:\n",
    "                break\n",
    "            if m[0] < 0:\n",
    "                heapq.heappush(count, m)\n",
    "        return ''.join(result)"
   ]
  }
 ],
 "metadata": {
  "kernelspec": {
   "display_name": "Python 3",
   "language": "python",
   "name": "python3"
  },
  "language_info": {
   "codemirror_mode": {
    "name": "ipython",
    "version": 3
   },
   "file_extension": ".py",
   "mimetype": "text/x-python",
   "name": "python",
   "nbconvert_exporter": "python",
   "pygments_lexer": "ipython3",
   "version": "3.7.4"
  }
 },
 "nbformat": 4,
 "nbformat_minor": 4
}
