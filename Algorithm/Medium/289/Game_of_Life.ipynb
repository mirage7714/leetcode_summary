{
 "cells": [
  {
   "cell_type": "markdown",
   "id": "072a0175-0a3a-4f60-b192-9fde001c4065",
   "metadata": {},
   "source": [
    "# 本題要找出變化後的2D list為何 （\\#Array, \\#Matrix )\n",
    "原題目連結:https://leetcode.com/problems/game-of-life/description/  \n",
    "\n",
    "According to Wikipedia's article: \"The Game of Life, also known simply as Life, is a cellular automaton devised by the British mathematician John Horton Conway in 1970.\"  \n",
    "\n",
    "The board is made up of an m x n grid of cells, where each cell has an initial state: live (represented by a 1) or dead (represented by a 0). Each cell interacts with its eight neighbors (horizontal, vertical, diagonal) using the following four rules (taken from the above Wikipedia article):  \n",
    "\n",
    "Any live cell with fewer than two live neighbors dies as if caused by under-population.  \n",
    "Any live cell with two or three live neighbors lives on to the next generation.  \n",
    "Any live cell with more than three live neighbors dies, as if by over-population.  \n",
    "Any dead cell with exactly three live neighbors becomes a live cell, as if by reproduction.  \n",
    "The next state is created by applying the above rules simultaneously to every cell in the current state, where births and deaths occur simultaneously. Given the current state of the m x n grid board, return the next state.  \n",
    "\n",
    "範例:  \n",
    "Ex1:  \n",
    "Input: board = [[0,1,0],[0,0,1],[1,1,1],[0,0,0]]  \n",
    "Output: [[0,0,0],[1,0,1],[0,1,1],[0,1,0]]  \n",
    "\n",
    "Ex2:  \n",
    "Input: board = [[1,1],[1,0]]  \n",
    "Output: [[1,1],[1,1]]  "
   ]
  },
  {
   "cell_type": "markdown",
   "id": "5aef1e91-38b3-4fa2-806a-d8a24390a672",
   "metadata": {},
   "source": [
    "* 解題想法:  \n",
    "首先用兩個list來存放上下左右與對角各八個點的操作，接著從頭開始找出每個點的鄰居與是否需要進行修改，如果需要修改則將座標放入一個暫存的dict中，最後從暫存中將每個座標進行修改就是答案"
   ]
  },
  {
   "cell_type": "code",
   "execution_count": null,
   "id": "10006928-aade-4e81-99ed-8a091e31cdfe",
   "metadata": {},
   "outputs": [],
   "source": [
    "class Solution:\n",
    "    def gameOfLife(self, board: List[List[int]]) -> None:\n",
    "        \"\"\"\n",
    "        Do not return anything, modify board in-place instead.\n",
    "        \"\"\"\n",
    "        x = [-1,0,1,-1,1,-1,0,1]\n",
    "        y = [-1,-1,-1,0,0,1,1,1]\n",
    "        m = len(board)\n",
    "        n = len(board[0])\n",
    "        changes = {0:[],1:[]}\n",
    "        for i in range(m):\n",
    "            for j in range(n):\n",
    "                c = 0\n",
    "                for l in range(8):\n",
    "                    if i + y[l] >= 0 and i + y[l] < m and j + x[l] >= 0 and j + x[l] < n:\n",
    "                        if board[i+y[l]][j + x[l]] == 1:\n",
    "                            c += 1\n",
    "                if board[i][j] == 0 and c == 3:\n",
    "                    changes[1].append([i,j])\n",
    "                elif board[i][j] == 1 and (c < 2 or c > 3):\n",
    "                    changes[0].append([i,j])\n",
    "        for key, val in changes.items():\n",
    "            if val:\n",
    "                for v in val:\n",
    "                    board[v[0]][v[1]] = key"
   ]
  }
 ],
 "metadata": {
  "kernelspec": {
   "display_name": "Python 3 (ipykernel)",
   "language": "python",
   "name": "python3"
  },
  "language_info": {
   "codemirror_mode": {
    "name": "ipython",
    "version": 3
   },
   "file_extension": ".py",
   "mimetype": "text/x-python",
   "name": "python",
   "nbconvert_exporter": "python",
   "pygments_lexer": "ipython3",
   "version": "3.10.9"
  }
 },
 "nbformat": 4,
 "nbformat_minor": 5
}
