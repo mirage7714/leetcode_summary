{
 "cells": [
  {
   "cell_type": "markdown",
   "id": "f500c9b8-5605-4b6f-a5d8-da902448a42f",
   "metadata": {},
   "source": [
    "# 本題要找出最多可以移動的次數為多少 (\\#String, \\#Counting )\n",
    "原題目連結：https://leetcode.com/problems/maximum-number-of-operations-to-move-ones-to-the-end/description/  \n",
    "\n",
    "You are given a binary string s.  \n",
    "You can perform the following operation on the string any number of times:  \n",
    "Choose any index i from the string where i + 1 < s.length such that s[i] == '1' and s[i + 1] == '0'.  \n",
    "Move the character s[i] to the right until it reaches the end of the string or another '1'. For example, for s = \"010010\", if we choose i = 1, the resulting string will be s = \"000110\".  \n",
    "Return the maximum number of operations that you can perform.  \n",
    "\n",
    "範例：  \n",
    "Ex1:  \n",
    "Input: s = \"1001101\"  \n",
    "Output: 4  \n",
    "Explanation:  \n",
    "We can perform the following operations:  \n",
    "Choose index i = 0. The resulting string is s = \"0011101\".  \n",
    "Choose index i = 4. The resulting string is s = \"0011011\".  \n",
    "Choose index i = 3. The resulting string is s = \"0010111\".   \n",
    "Choose index i = 2. The resulting string is s = \"0001111\".  \n",
    "\n",
    "Ex2:  \n",
    "Input: s = \"00111\"  \n",
    "Output: 0  "
   ]
  },
  {
   "cell_type": "markdown",
   "id": "88a102ee-5d7a-4429-b339-2ef94b12f067",
   "metadata": {},
   "source": [
    "* 解題想法：  \n",
    "首先用一個變數來存放前一個1的index，另外用一個變數來存放出現過多少1，接著用迴圈開始檢查字串，如果為1的情況，則檢查前一個數字是否為1，如果不為1則需要將結果加上已經出現的1次數，接著1的出現次數加1，並更新index，最後檢查最後一個字母是否為1，如果不為1則需要加上所有1的次數"
   ]
  },
  {
   "cell_type": "code",
   "execution_count": null,
   "id": "992485b6-fe75-4b70-913d-58efccb05839",
   "metadata": {},
   "outputs": [],
   "source": [
    "class Solution:\n",
    "    def maxOperations(self, s: str) -> int:\n",
    "        res = 0\n",
    "        ones = 0\n",
    "        prev = 0\n",
    "        for i in range(len(s)):\n",
    "            if s[i] == '1':\n",
    "                if prev + 1 != i:\n",
    "                    res += ones\n",
    "                ones += 1\n",
    "                prev = i\n",
    "        if s[-1] != '1':\n",
    "            res += ones\n",
    "        return res"
   ]
  }
 ],
 "metadata": {
  "kernelspec": {
   "display_name": "Python 3 (ipykernel)",
   "language": "python",
   "name": "python3"
  },
  "language_info": {
   "codemirror_mode": {
    "name": "ipython",
    "version": 3
   },
   "file_extension": ".py",
   "mimetype": "text/x-python",
   "name": "python",
   "nbconvert_exporter": "python",
   "pygments_lexer": "ipython3",
   "version": "3.10.9"
  }
 },
 "nbformat": 4,
 "nbformat_minor": 5
}
