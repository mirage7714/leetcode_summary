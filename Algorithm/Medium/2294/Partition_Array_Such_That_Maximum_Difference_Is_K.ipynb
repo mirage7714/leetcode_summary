{
 "cells": [
  {
   "cell_type": "markdown",
   "metadata": {},
   "source": [
    "# 本題要用最大差距為K的情況將list進行分割\n",
    "原題目連結: https://leetcode.com/problems/partition-array-such-that-maximum-difference-is-k/  \n",
    "\n",
    "You are given an integer array nums and an integer k. You may partition nums into one or more subsequences such that each element in nums appears in exactly one of the subsequences.  \n",
    "Return the minimum number of subsequences needed such that the difference between the maximum and minimum values in each subsequence is at most k.  \n",
    "A subsequence is a sequence that can be derived from another sequence by deleting some or no elements without changing the order of the remaining elements.  \n",
    "\n",
    "範例:  \n",
    "Ex1:  \n",
    "Input: nums = [3,6,1,2,5], k = 2  \n",
    "Output: 2  \n",
    "Explanation:  \n",
    "We can partition nums into the two subsequences [3,1,2] and [6,5].  \n",
    "The difference between the maximum and minimum value in the first subsequence is 3 - 1 = 2.  \n",
    "The difference between the maximum and minimum value in the second subsequence is 6 - 5 = 1.  \n",
    "Since two subsequences were created, we return 2. It can be shown that 2 is the minimum number of subsequences needed.  \n",
    "\n",
    "Ex2:  \n",
    "Input: nums = [1,2,3], k = 1  \n",
    "Output: 2  \n",
    "Explanation:  \n",
    "We can partition nums into the two subsequences [1,2] and [3].  \n",
    "The difference between the maximum and minimum value in the first subsequence is 2 - 1 = 1.  \n",
    "The difference between the maximum and minimum value in the second subsequence is 3 - 3 = 0.  \n",
    "Since two subsequences were created, we return 2. Note that another optimal solution is to partition nums into the two subsequences [1] and [2,3].  \n",
    "\n",
    "Ex3:  \n",
    "Input: nums = [2,2,4,5], k = 0  \n",
    "Output: 3  \n",
    "Explanation:  \n",
    "We can partition nums into the three subsequences [2,2], [4], and [5].  \n",
    "The difference between the maximum and minimum value in the first subsequences is 2 - 2 = 0.  \n",
    "The difference between the maximum and minimum value in the second subsequences is 4 - 4 = 0.  \n",
    "The difference between the maximum and minimum value in the third subsequences is 5 - 5 = 0.  \n",
    "Since three subsequences were created, we return 3. It can be shown that 3 is the minimum number of subsequences needed."
   ]
  },
  {
   "cell_type": "markdown",
   "metadata": {},
   "source": [
    "* 解題想法:  \n",
    "首先將list進行排序，接著開始從第二個數值與目前的最小值相比，如果差大於k時則代表需要放入新的list中，因此將count加一，並將目前的最小值進行更新，直到迴圈結束後回傳count就是結果"
   ]
  },
  {
   "cell_type": "code",
   "execution_count": null,
   "metadata": {},
   "outputs": [],
   "source": [
    "class Solution:\n",
    "    def partitionArray(self, nums: List[int], k: int) -> int:\n",
    "        result = 1\n",
    "        nums.sort()\n",
    "        temp = nums[0]\n",
    "        for n in range(1, len(nums)):\n",
    "            if nums[n] - temp > k:\n",
    "                result += 1\n",
    "                temp = nums[n]\n",
    "        return result"
   ]
  }
 ],
 "metadata": {
  "kernelspec": {
   "display_name": "Python 3",
   "language": "python",
   "name": "python3"
  },
  "language_info": {
   "codemirror_mode": {
    "name": "ipython",
    "version": 3
   },
   "file_extension": ".py",
   "mimetype": "text/x-python",
   "name": "python",
   "nbconvert_exporter": "python",
   "pygments_lexer": "ipython3",
   "version": "3.7.4"
  }
 },
 "nbformat": 4,
 "nbformat_minor": 4
}
