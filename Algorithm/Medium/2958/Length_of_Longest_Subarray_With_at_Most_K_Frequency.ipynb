{
 "cells": [
  {
   "cell_type": "markdown",
   "id": "f32170fa-9068-4b70-83c7-5d42ae1cd032",
   "metadata": {},
   "source": [
    "# 本題要找出最多出現k個相同數字的sublist最大長度為多少 (\\#Array, \\#SlidingWindows )\n",
    "原題目連結：https://leetcode.com/problems/length-of-longest-subarray-with-at-most-k-frequency/description/  \n",
    "\n",
    "You are given an integer array nums and an integer k.  \n",
    "The frequency of an element x is the number of times it occurs in an array.  \n",
    "An array is called good if the frequency of each element in this array is less than or equal to k.  \n",
    "Return the length of the longest good subarray of nums.  \n",
    "A subarray is a contiguous non-empty sequence of elements within an array.  \n",
    "\n",
    "範例：  \n",
    "Ex1:  \n",
    "Input: nums = [1,2,3,1,2,3,1,2], k = 2  \n",
    "Output: 6  \n",
    "Explanation: The longest possible good subarray is [1,2,3,1,2,3] since the values 1, 2, and 3 occur at most twice in this subarray. Note that the subarrays [2,3,1,2,3,1] and [3,1,2,3,1,2] are also good.  \n",
    "It can be shown that there are no good subarrays with length more than 6.  \n",
    "\n",
    "Ex2:  \n",
    "Input: nums = [1,2,1,2,1,2,1,2], k = 1  \n",
    "Output: 2  \n",
    "Explanation: The longest possible good subarray is [1,2] since the values 1 and 2 occur at most once in this subarray. Note that the subarray [2,1] is also good.  \n",
    "It can be shown that there are no good subarrays with length more than 2.  \n",
    "\n",
    "Ex3:  \n",
    "Input: nums = [5,5,5,5,5,5,5], k = 4  \n",
    "Output: 4  \n",
    "Explanation: The longest possible good subarray is [5,5,5,5] since the value 5 occurs 4 times in this subarray.  \n",
    "It can be shown that there are no good subarrays with length more than 4."
   ]
  },
  {
   "cell_type": "markdown",
   "id": "2b755970-b54d-409a-a10c-7b92e9f17a7c",
   "metadata": {},
   "source": [
    "* 解題想法：  \n",
    "首先用一個dict來存放目前出現的數字以及次數，另外用一個heap來存放每個index的數字為何，接著用迴圈開始走訪所有數字，如果該數字沒有出現過則直接放入dict中，如果有出現過且出現的次數等於k時則找到第一個出現的數字index並將前面的index都從heap中清空，最後找到最大的heap長度就是答案"
   ]
  },
  {
   "cell_type": "code",
   "execution_count": null,
   "id": "1d0f198b-7cb6-4152-b890-d1d1ef4ac04d",
   "metadata": {},
   "outputs": [],
   "source": [
    "import heapq\n",
    "class Solution:\n",
    "    def maxSubarrayLength(self, nums: List[int], k: int) -> int:\n",
    "        res = 0\n",
    "        count = {}\n",
    "        temp = []\n",
    "        heapq.heapify(temp)\n",
    "        for i in range(len(nums)):\n",
    "            n = nums[i]\n",
    "            if n not in count.keys():\n",
    "                count[n] = 1\n",
    "                \n",
    "            else:\n",
    "                if count[n] == k:\n",
    "                    while temp:\n",
    "                        h = heapq.heappop(temp)\n",
    "                        count[h[1]] -= 1\n",
    "                        if h[1] == n:\n",
    "                            break\n",
    "                count[n] += 1\n",
    "            heapq.heappush(temp, [i, n])\n",
    "            res = max(res, len(temp))\n",
    "        return res"
   ]
  }
 ],
 "metadata": {
  "kernelspec": {
   "display_name": "Python 3 (ipykernel)",
   "language": "python",
   "name": "python3"
  },
  "language_info": {
   "codemirror_mode": {
    "name": "ipython",
    "version": 3
   },
   "file_extension": ".py",
   "mimetype": "text/x-python",
   "name": "python",
   "nbconvert_exporter": "python",
   "pygments_lexer": "ipython3",
   "version": "3.10.9"
  }
 },
 "nbformat": 4,
 "nbformat_minor": 5
}
