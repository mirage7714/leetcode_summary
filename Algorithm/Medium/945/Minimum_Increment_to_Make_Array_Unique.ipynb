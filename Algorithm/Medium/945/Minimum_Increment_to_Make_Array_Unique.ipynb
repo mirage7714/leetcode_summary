{
 "cells": [
  {
   "cell_type": "markdown",
   "id": "4ab91f98-1ea2-4075-9010-2e292d1b0319",
   "metadata": {},
   "source": [
    "# 本題要找出最少要增加多少值才會讓list中的數值不重複 (\\#Array, \\#Sorting )\n",
    "原題目連結：https://leetcode.com/problems/minimum-increment-to-make-array-unique/description/?envType=daily-question&envId=2024-06-14  \n",
    "\n",
    "You are given an integer array nums. In one move, you can pick an index i where 0 <= i < nums.length and increment nums[i] by 1.  \n",
    "Return the minimum number of moves to make every value in nums unique.  \n",
    "The test cases are generated so that the answer fits in a 32-bit integer.  \n",
    "\n",
    "範例：  \n",
    "Ex1:  \n",
    "Input: nums = [1,2,2]  \n",
    "Output: 1  \n",
    "Explanation: After 1 move, the array could be [1, 2, 3].  \n",
    "\n",
    "Ex2:  \n",
    "Input: nums = [3,2,1,2,1,7]  \n",
    "Output: 6  \n",
    "Explanation: After 6 moves, the array could be [3, 4, 1, 2, 5, 7].  \n",
    "It can be shown with 5 or less moves that it is impossible for the array to have all unique values."
   ]
  },
  {
   "cell_type": "markdown",
   "id": "b3888529-8185-457c-9798-df6d624923a9",
   "metadata": {},
   "source": [
    "* 解題想法：  \n",
    "首先用heap將nums進行排序並依序取出，接著與前一個數值比較，如果等於或小於前一個數值則統計差值並更新目前數值，最後回傳統計結果就是答案"
   ]
  },
  {
   "cell_type": "code",
   "execution_count": null,
   "id": "c2a25391-5d96-4ec8-8366-6b0ee168e5dd",
   "metadata": {},
   "outputs": [],
   "source": [
    "import heapq\n",
    "\n",
    "class Solution:\n",
    "    def minIncrementForUnique(self, nums: List[int]) -> int:\n",
    "        res = 0\n",
    "        heapq.heapify(nums)\n",
    "        s = heapq.heappop(nums)\n",
    "        while nums:\n",
    "            n = heapq.heappop(nums)\n",
    "            if n <= s:\n",
    "                d = s - n\n",
    "                res += d + 1\n",
    "                n += d + 1\n",
    "            s = n\n",
    "        return res        "
   ]
  }
 ],
 "metadata": {
  "kernelspec": {
   "display_name": "Python 3 (ipykernel)",
   "language": "python",
   "name": "python3"
  },
  "language_info": {
   "codemirror_mode": {
    "name": "ipython",
    "version": 3
   },
   "file_extension": ".py",
   "mimetype": "text/x-python",
   "name": "python",
   "nbconvert_exporter": "python",
   "pygments_lexer": "ipython3",
   "version": "3.10.9"
  }
 },
 "nbformat": 4,
 "nbformat_minor": 5
}
