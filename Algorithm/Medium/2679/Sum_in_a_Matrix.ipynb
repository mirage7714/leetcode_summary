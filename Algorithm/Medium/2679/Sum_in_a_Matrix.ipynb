{
 "cells": [
  {
   "cell_type": "markdown",
   "metadata": {},
   "source": [
    "# 本題要找出每個row的最大值，並計算出總和 (\\#Array, \\#Heap)\n",
    "原題目連結: https://leetcode.com/problems/sum-in-a-matrix/description/  \n",
    "\n",
    "You are given a 0-indexed 2D integer array nums. Initially, your score is 0. Perform the following operations until the matrix becomes empty:  \n",
    "\n",
    "From each row in the matrix, select the largest number and remove it. In the case of a tie, it does not matter which number is chosen.  \n",
    "Identify the highest number amongst all those removed in step 1. Add that number to your score.  \n",
    "Return the final score.  \n",
    "\n",
    "範例:  \n",
    "Input: nums = [[7,2,1],[6,4,2],[6,5,3],[3,2,1]]  \n",
    "Output: 15  \n",
    "Explanation: In the first operation, we remove 7, 6, 6, and 3. We then add 7 to our score. Next, we remove 2, 4, 5, and 2. We add 5 to our score. Lastly, we remove 1, 2, 3, and 1. We add 3 to our score. Thus, our final score is 7 + 5 + 3 = 15.  \n",
    "\n",
    "Ex2:  \n",
    "Input: nums = [[1]]  \n",
    "Output: 1  \n",
    "Explanation: We remove 1 and add it to the answer. We return 1."
   ]
  },
  {
   "cell_type": "markdown",
   "metadata": {},
   "source": [
    "* 解題想法:  \n",
    "首先將每個column轉換成heap之後，接著從每個heap中逐個取出最大值，並且將每次的最大值總和加起來就是最後的答案"
   ]
  },
  {
   "cell_type": "code",
   "execution_count": null,
   "metadata": {},
   "outputs": [],
   "source": [
    "import heapq\n",
    "\n",
    "class Solution:\n",
    "    def matrixSum(self, nums: List[List[int]]) -> int:\n",
    "        res = 0\n",
    "        temp = []\n",
    "        for i in range(len(nums)):\n",
    "            t = [-n for n in nums[i]]\n",
    "            heapq.heapify(t)\n",
    "            temp.append(t)\n",
    "        for j in range(len(nums[0])):\n",
    "            m = 0\n",
    "            for t in temp:\n",
    "                p = heapq.heappop(t)\n",
    "                m = max(m, -p)\n",
    "            res += m\n",
    "        return res"
   ]
  }
 ],
 "metadata": {
  "kernelspec": {
   "display_name": "Python 3",
   "language": "python",
   "name": "python3"
  },
  "language_info": {
   "codemirror_mode": {
    "name": "ipython",
    "version": 3
   },
   "file_extension": ".py",
   "mimetype": "text/x-python",
   "name": "python",
   "nbconvert_exporter": "python",
   "pygments_lexer": "ipython3",
   "version": "3.7.6"
  }
 },
 "nbformat": 4,
 "nbformat_minor": 4
}
