{
 "cells": [
  {
   "cell_type": "markdown",
   "id": "5db25326-8700-406c-8dba-95526529cc79",
   "metadata": {},
   "source": [
    "# 本題要將字串照數字轉換成新的字串 (\\#String,  #Stack )\n",
    "原題目連結: https://leetcode.com/problems/decode-string/description/  \n",
    "\n",
    "being repeated exactly k times. Note that k is guaranteed to be a positive integer.  \n",
    "You may assume that the input string is always valid; there are no extra white spaces, square brackets are well-formed, etc. Furthermore, you may assume that the original data does not contain any digits and that digits are only for those repeat numbers, k. For example, there will not be input like 3a or 2[4].  \n",
    "\n",
    "The test cases are generated so that the length of the output will never exceed 105.\n",
    "\n",
    "範例:  \n",
    "Ex1:  \n",
    "Input: s = \"3[a]2[bc]\"  \n",
    "Output: \"aaabcbc\"  \n",
    "\n",
    "Ex2:    \n",
    "Input: s = \"3[a2[c]]\"  \n",
    "Output: \"accaccacc\"  \n",
    "\n",
    "Ex3:  \n",
    "Input: s = \"2[abc]3[cd]ef\"  \n",
    "Output: \"abcabccdcdcdef\"  "
   ]
  },
  {
   "cell_type": "markdown",
   "id": "e6bab7b4-3e6a-4c50-b5f5-0a7a88f8abce",
   "metadata": {},
   "source": [
    "* 解題想法:  \n",
    "首先將左括號放入Stack中，直到遇到右括號時則從Stack中取出前一個佐括號的index，接著找出前面的倍數是多少，接著產生出新字串後將舊的倍數與字串進行取代，最後回傳新的字串作為答案"
   ]
  },
  {
   "cell_type": "code",
   "execution_count": null,
   "id": "72654a85-1018-4f28-9821-3e566a0ee15a",
   "metadata": {},
   "outputs": [],
   "source": [
    "class Solution:\n",
    "    def decodeString(self, s: str) -> str:\n",
    "        def genWord(count, word):\n",
    "            result = ''\n",
    "            for _ in range(count):\n",
    "                result += word\n",
    "            return result\n",
    "        res = ''\n",
    "        stack = []\n",
    "        if '[' in s:\n",
    "            while '[' in s:\n",
    "                for i in range(len(s)):\n",
    "                    if s[i] == '[':\n",
    "                        stack.append(i)\n",
    "                    elif s[i] == ']':\n",
    "                        p = stack.pop()\n",
    "                        t = 0 \n",
    "                        c = 0\n",
    "                        if s[p-3:p].isnumeric():\n",
    "                            t = int(s[p-3:p])\n",
    "                            c = 3\n",
    "                        elif s[p-2:p].isnumeric():\n",
    "                            t = int(s[p-2:p])\n",
    "                            c = 2\n",
    "                        else:\n",
    "                            t = int(s[p-1])\n",
    "                            c = 1\n",
    "                        n = genWord(t, s[p+1: i])\n",
    "                        s = s.replace(s[p-c:i+1], n)\n",
    "                        break\n",
    "        res = s\n",
    "        return res"
   ]
  }
 ],
 "metadata": {
  "kernelspec": {
   "display_name": "Python 3 (ipykernel)",
   "language": "python",
   "name": "python3"
  },
  "language_info": {
   "codemirror_mode": {
    "name": "ipython",
    "version": 3
   },
   "file_extension": ".py",
   "mimetype": "text/x-python",
   "name": "python",
   "nbconvert_exporter": "python",
   "pygments_lexer": "ipython3",
   "version": "3.9.13"
  }
 },
 "nbformat": 4,
 "nbformat_minor": 5
}
