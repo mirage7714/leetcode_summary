{
 "cells": [
  {
   "cell_type": "markdown",
   "metadata": {},
   "source": [
    "# 本題要找出在符合指定條件的情況下，最大的整數為多少\n",
    "原題目連結: https://leetcode.com/problems/monotone-increasing-digits/  \n",
    "\n",
    "An integer has monotone increasing digits if and only if each pair of adjacent digits x and y satisfy x <= y.  \n",
    "Given an integer n, return the largest number that is less than or equal to n with monotone increasing digits.  \n",
    "\n",
    "範例:  \n",
    "Ex1:  \n",
    "Input: n = 10  \n",
    "Output: 9  \n",
    "\n",
    "Ex2:  \n",
    "Input: n = 1234  \n",
    "Output: 1234  \n",
    "\n",
    "Ex3:  \n",
    "Input: n = 332  \n",
    "Output: 299"
   ]
  },
  {
   "cell_type": "markdown",
   "metadata": {},
   "source": [
    "* 解題想法:  \n",
    "首先檢查每個位數是否符合題目要求的遞增，如果符合則回傳n值，如果有不符合的情況，則將不符合的部分轉為整數並將n減去1+這個整數，直到所有數值都符合題目要求後回傳n"
   ]
  },
  {
   "cell_type": "code",
   "execution_count": null,
   "metadata": {},
   "outputs": [],
   "source": [
    "class Solution:\n",
    "    def monotoneIncreasingDigits(self, n: int) -> int:\n",
    "        while True:\n",
    "            result = ''\n",
    "            s = str(n)\n",
    "            is_small = False\n",
    "            for m in range(len(s)-1):\n",
    "                result += s[m]\n",
    "                if s[m] > s[m+1]:\n",
    "                    is_small = True\n",
    "                    break\n",
    "            if is_small:\n",
    "                d = s[len(result):]\n",
    "                n -= int(d)+1\n",
    "            if str(n) == s:\n",
    "                break\n",
    "        return n"
   ]
  }
 ],
 "metadata": {
  "kernelspec": {
   "display_name": "Python 3",
   "language": "python",
   "name": "python3"
  },
  "language_info": {
   "codemirror_mode": {
    "name": "ipython",
    "version": 3
   },
   "file_extension": ".py",
   "mimetype": "text/x-python",
   "name": "python",
   "nbconvert_exporter": "python",
   "pygments_lexer": "ipython3",
   "version": "3.7.4"
  }
 },
 "nbformat": 4,
 "nbformat_minor": 4
}
