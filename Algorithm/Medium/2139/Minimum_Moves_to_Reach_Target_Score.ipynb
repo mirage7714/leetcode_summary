{
 "cells": [
  {
   "cell_type": "markdown",
   "metadata": {},
   "source": [
    "# 本題要找出到達目標數字的最少移動次數為多少\n",
    "原題目連結: https://leetcode.com/problems/minimum-moves-to-reach-target-score/  \n",
    "\n",
    "You are playing a game with integers. You start with the integer 1 and you want to reach the integer target.  \n",
    "\n",
    "In one move, you can either:  \n",
    "\n",
    "Increment the current integer by one (i.e., x = x + 1).  \n",
    "Double the current integer (i.e., x = 2 * x).  \n",
    "You can use the increment operation any number of times, however, you can only use the double operation at most maxDoubles times.  \n",
    "\n",
    "Given the two integers target and maxDoubles, return the minimum number of moves needed to reach target starting with 1.  \n",
    "\n",
    "範例:  \n",
    "Ex1:  \n",
    "Input: target = 5, maxDoubles = 0  \n",
    "Output: 4  \n",
    "Explanation: Keep incrementing by 1 until you reach target.  \n",
    "\n",
    "Ex2:  \n",
    "Input: target = 19, maxDoubles = 2   \n",
    "Output: 7  \n",
    "Explanation: Initially, x = 1  \n",
    "Increment 3 times so x = 4  \n",
    "Double once so x = 8  \n",
    "Increment once so x = 9  \n",
    "Double again so x = 18  \n",
    "Increment once so x = 19  \n",
    "\n",
    "Ex3:  \n",
    "Input: target = 10, maxDoubles = 4  \n",
    "Output: 4  \n",
    "Explanation: Initially, x = 1  \n",
    "Increment once so x = 2  \n",
    "Double once so x = 4  \n",
    "Increment once so x = 5  \n",
    "Double again so x = 10"
   ]
  },
  {
   "cell_type": "markdown",
   "metadata": {},
   "source": [
    "* 解題想法:  \n",
    "首先檢查目標是否有大於，如果大於1的情況下則用一個迴圈檢查可用的double次數，接著檢查如果目標值為2的倍數，則將目標除2後將可用次數減1，如果不是2的倍數則將目標減1，當如果double次數為0或是目標為1之後則終止迴圈，最後如果目標數還是大於1，則將剩下的步數計算後加上之前迴圈使用的步數後回傳"
   ]
  },
  {
   "cell_type": "code",
   "execution_count": null,
   "metadata": {},
   "outputs": [],
   "source": [
    "class Solution:\n",
    "    def minMoves(self, target: int, maxDoubles: int) -> int:\n",
    "        result = 0\n",
    "        if target > 1: \n",
    "            while maxDoubles > 0:\n",
    "                if target % 2 != 0:\n",
    "                    result += 1\n",
    "                    target -= 1\n",
    "                else:\n",
    "                    target = int(target/2)\n",
    "                    maxDoubles -= 1\n",
    "                    result += 1\n",
    "                if target == 1:\n",
    "                    break\n",
    "            if target > 1:\n",
    "                result += target -1\n",
    "        return result"
   ]
  }
 ],
 "metadata": {
  "kernelspec": {
   "display_name": "Python 3",
   "language": "python",
   "name": "python3"
  },
  "language_info": {
   "codemirror_mode": {
    "name": "ipython",
    "version": 3
   },
   "file_extension": ".py",
   "mimetype": "text/x-python",
   "name": "python",
   "nbconvert_exporter": "python",
   "pygments_lexer": "ipython3",
   "version": "3.7.4"
  }
 },
 "nbformat": 4,
 "nbformat_minor": 4
}
