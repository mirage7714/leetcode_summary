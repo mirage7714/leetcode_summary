{
 "cells": [
  {
   "cell_type": "markdown",
   "metadata": {},
   "source": [
    "# 本題要找出在扣掉每個位置的數字後，所有數字的絕對值總和為多少\n",
    "原題目連結: https://leetcode.com/problems/sum-of-absolute-differences-in-a-sorted-array/  \n",
    "\n",
    "You are given an integer array nums sorted in non-decreasing order.  \n",
    "\n",
    "Build and return an integer array result with the same length as nums such that result[i] is equal to the summation of absolute differences between nums[i] and all the other elements in the array.  \n",
    "\n",
    "In other words, result[i] is equal to sum(|nums[i]-nums[j]|) where 0 <= j < nums.length and j != i (0-indexed).  \n",
    "\n",
    "範例:  \n",
    "Ex1:   \n",
    "Input: nums = [2,3,5]  \n",
    "Output: [4,3,5]  \n",
    "Explanation: Assuming the arrays are 0-indexed, then  \n",
    "result[0] = |2-2| + |2-3| + |2-5| = 0 + 1 + 3 = 4,  \n",
    "result[1] = |3-2| + |3-3| + |3-5| = 1 + 0 + 2 = 3,  \n",
    "result[2] = |5-2| + |5-3| + |5-5| = 3 + 2 + 0 = 5.  \n",
    "\n",
    "Ex2:  \n",
    "Input: nums = [1,4,6,8,10]  \n",
    "Output: [24,15,13,15,21]"
   ]
  },
  {
   "cell_type": "markdown",
   "metadata": {},
   "source": [
    "* 解題想法:  \n",
    "由於題目要找出list中每個數字與指定位置的絕對值總和，但這題如果用暴力解的話，會超過時間的限制  \n",
    "因此在仔細觀察之後，可以歸列成以下的兩個邏輯:  \n",
    "如果是在位置n之前的數字:由於都小於nums[n]，因此可看為nums[n] x n - 前面數字的總和  \n",
    "如果是在位置n之後的數字:可看成剩下的總和 - nums[n] x (len(nums) - n )  \n",
    "最後將兩個數字總合起來就是題目要找的數字，並加入一個list中  \n",
    "最後回傳這個list"
   ]
  },
  {
   "cell_type": "code",
   "execution_count": null,
   "metadata": {},
   "outputs": [],
   "source": [
    "class Solution:\n",
    "    def getSumAbsoluteDifferences(self, nums: List[int]) -> List[int]:\n",
    "        result = []\n",
    "        total = 0\n",
    "        part_1 = 0\n",
    "        size = len(nums)\n",
    "        for m in range(len(nums)):\n",
    "            total += nums[m]\n",
    "        for n in range(len(nums)):\n",
    "            temp = abs(total - (size - n)* nums[n]) + abs(nums[n]* n  - part_1)\n",
    "            part_1 += nums[n]\n",
    "            total -= nums[n]\n",
    "            result.append(temp)\n",
    "        return result"
   ]
  }
 ],
 "metadata": {
  "kernelspec": {
   "display_name": "Python 3",
   "language": "python",
   "name": "python3"
  },
  "language_info": {
   "codemirror_mode": {
    "name": "ipython",
    "version": 3
   },
   "file_extension": ".py",
   "mimetype": "text/x-python",
   "name": "python",
   "nbconvert_exporter": "python",
   "pygments_lexer": "ipython3",
   "version": "3.7.4"
  }
 },
 "nbformat": 4,
 "nbformat_minor": 2
}
