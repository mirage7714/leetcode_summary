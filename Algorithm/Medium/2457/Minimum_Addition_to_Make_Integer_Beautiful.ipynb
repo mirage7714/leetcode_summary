{
 "cells": [
  {
   "cell_type": "markdown",
   "id": "88b664fd-7e68-44c9-a5db-147c6df8a8c2",
   "metadata": {},
   "source": [
    "# 本題要找出最小要加上多少數值才能讓總和小於指定的數值 (\\#Math, \\#Greedy)\n",
    "原題目連結: https://leetcode.com/problems/minimum-addition-to-make-integer-beautiful/description/  \n",
    "\n",
    "You are given two positive integers n and target.  \n",
    "An integer is considered beautiful if the sum of its digits is less than or equal to target.  \n",
    "Return the minimum non-negative integer x such that n + x is beautiful. The input will be generated such that it is always possible to make n beautiful.  \n",
    "\n",
    "範例:  \n",
    "Ex1:  \n",
    "Input: n = 16, target = 6  \n",
    "Output: 4  \n",
    "Explanation: Initially n is 16 and its digit sum is 1 + 6 = 7. After adding 4, n becomes 20 and digit sum becomes 2 + 0 = 2. It can be shown that we can not make n beautiful with adding non-negative integer less than 4.  \n",
    "\n",
    "Ex2:  \n",
    "Input: n = 467, target = 6  \n",
    "Output: 33  \n",
    "Explanation: Initially n is 467 and its digit sum is 4 + 6 + 7 = 17. After adding 33, n becomes 500 and digit sum becomes 5 + 0 + 0 = 5. It can be shown that we can not make n beautiful with adding non-negative integer less than 33.  \n",
    "\n",
    "Ex3:  \n",
    "Input: n = 1, target = 1  \n",
    "Output: 0  \n",
    "Explanation: Initially n is 1 and its digit sum is 1, which is already smaller than or equal to target."
   ]
  },
  {
   "cell_type": "markdown",
   "id": "2d2a0ec9-e3a9-4ae6-8119-c58c206b58a1",
   "metadata": {},
   "source": [
    "* 解題想法:  \n",
    "首先把數值的每個位數總和算出，並放入一個list中，接著開始與指定的數值進行比較，如果總和大於指定數值時，則將該位數補為10並進行進位，同時也對總和進行修改，直到總和小於指定目標為止"
   ]
  },
  {
   "cell_type": "code",
   "execution_count": null,
   "id": "d0c94cd4-8202-4fdd-a30b-4378641a79bb",
   "metadata": {},
   "outputs": [],
   "source": [
    "class Solution:\n",
    "    def makeIntegerBeautiful(self, n: int, target: int) -> int:\n",
    "        res = 0\n",
    "        s = 0\n",
    "        sn = str(n)\n",
    "        index = 0\n",
    "        digit = []\n",
    "        for l in sn:\n",
    "            s += int(l)\n",
    "            digit.insert(0, int(l))\n",
    "        while s > target:\n",
    "            res += 10 ** index * (10 - digit[index])\n",
    "            s -= digit[index] - 1\n",
    "            index += 1\n",
    "            if index < len(digit):\n",
    "                digit[index] += 1\n",
    "        return res"
   ]
  }
 ],
 "metadata": {
  "kernelspec": {
   "display_name": "Python 3 (ipykernel)",
   "language": "python",
   "name": "python3"
  },
  "language_info": {
   "codemirror_mode": {
    "name": "ipython",
    "version": 3
   },
   "file_extension": ".py",
   "mimetype": "text/x-python",
   "name": "python",
   "nbconvert_exporter": "python",
   "pygments_lexer": "ipython3",
   "version": "3.9.13"
  }
 },
 "nbformat": 4,
 "nbformat_minor": 5
}
