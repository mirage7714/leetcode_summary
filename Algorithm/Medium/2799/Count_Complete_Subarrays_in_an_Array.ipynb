{
 "cells": [
  {
   "cell_type": "markdown",
   "metadata": {},
   "source": [
    "# 本題要找出有多少個sub-array中的數值與整個array出現的數值相同 (\\#Array )\n",
    "原題目連結: https://leetcode.com/problems/count-complete-subarrays-in-an-array/description/  \n",
    "\n",
    "You are given an array nums consisting of positive integers.  \n",
    "We call a subarray of an array complete if the following condition is satisfied:   \n",
    "The number of distinct elements in the subarray is equal to the number of distinct elements in the whole array.  \n",
    "Return the number of complete subarrays.     \n",
    "A subarray is a contiguous non-empty part of an array.  \n",
    "\n",
    "範例:  \n",
    "Ex1:  \n",
    "Input: nums = [1,3,1,2,2]  \n",
    "Output: 4  \n",
    "Explanation: The complete subarrays are the following: [1,3,1,2], [1,3,1,2,2], [3,1,2] and [3,1,2,2].  \n",
    "\n",
    "Ex2:  \n",
    "Input: nums = [5,5,5,5]  \n",
    "Output: 10  \n",
    "Explanation: The array consists only of the integer 5, so any subarray is complete. The number of subarrays that we can choose is 10."
   ]
  },
  {
   "cell_type": "markdown",
   "metadata": {},
   "source": [
    "* 解題想法:  \n",
    "首先找出整個list中共出現了多少數值d，如果只出現一種數值則所有的sub-list都符合條件，另外如果出現的數值數量與list長度相等，則代表只有一個list符合情況，最後先從長度為d的sub-list進行檢查，如果出現數字的數量與d相同則將結果+1，並逐步加長sub-list範圍，最後回傳總數值"
   ]
  },
  {
   "cell_type": "code",
   "execution_count": null,
   "metadata": {},
   "outputs": [],
   "source": [
    "class Solution:\n",
    "    def countCompleteSubarrays(self, nums: List[int]) -> int:\n",
    "        d = len(set(nums))\n",
    "        res = 0\n",
    "        if d == 1:\n",
    "            for i in range(len(nums)):\n",
    "                res += len(nums) - i\n",
    "        elif d == len(nums):\n",
    "            res = 1\n",
    "        else:\n",
    "            for m in range(d, len(nums)):\n",
    "                key = {}\n",
    "                for i in nums[:m]:\n",
    "                    if i not in key.keys():\n",
    "                        key[i] = 1\n",
    "                    else:\n",
    "                        key[i] += 1\n",
    "                if len(key.keys()) == d:\n",
    "                    res += 1\n",
    "                for n in range(len(nums) - m):\n",
    "                    if key[nums[n]] == 1:\n",
    "                        key.pop(nums[n])\n",
    "                    else:\n",
    "                        key[nums[n]] -= 1\n",
    "                    if nums[m+n] not in key.keys():\n",
    "                        key[nums[m+n]] = 1\n",
    "                    else:\n",
    "                        key[nums[m+n]] += 1\n",
    "                    if len(key.keys()) == d:\n",
    "                        res += 1\n",
    "            res += 1\n",
    "        return res"
   ]
  }
 ],
 "metadata": {
  "kernelspec": {
   "display_name": "Python 3",
   "language": "python",
   "name": "python3"
  },
  "language_info": {
   "codemirror_mode": {
    "name": "ipython",
    "version": 3
   },
   "file_extension": ".py",
   "mimetype": "text/x-python",
   "name": "python",
   "nbconvert_exporter": "python",
   "pygments_lexer": "ipython3",
   "version": "3.7.6"
  }
 },
 "nbformat": 4,
 "nbformat_minor": 4
}
