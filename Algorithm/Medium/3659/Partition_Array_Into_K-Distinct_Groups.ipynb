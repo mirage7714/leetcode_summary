{
 "cells": [
  {
   "cell_type": "markdown",
   "id": "6ff75f4b-757b-4567-b852-2b52bad3b7d6",
   "metadata": {},
   "source": [
    "# 本題要判斷list是否能分割成K個sub-list (\\#Array, \\#HashMap )\n",
    "原題目連結: https://leetcode.com/problems/partition-array-into-k-distinct-groups/description/?page=28  \n",
    "\n",
    "You are given an integer array nums and an integer k.  \n",
    "Your task is to determine whether it is possible to partition all elements of nums into one or more groups such that:  \n",
    "Each group contains exactly k elements.  \n",
    "All elements in each group are distinct.  \n",
    "Each element in nums must be assigned to exactly one group.   \n",
    "Return true if such a partition is possible, otherwise return false.  \n",
    "\n",
    "範例:  \n",
    "Ex1:  \n",
    "Input: nums = [1,2,3,4], k = 2  \n",
    "Output: true  \n",
    "Explanation:  \n",
    "One possible partition is to have 2 groups:  \n",
    "Group 1: [1, 2]  \n",
    "Group 2: [3, 4]  \n",
    "Each group contains k = 2 distinct elements, and all elements are used exactly once.  \n",
    "\n",
    "Ex2:  \n",
    "Input: nums = [3,5,2,2], k = 2   \n",
    "Output: true  \n",
    "Explanation:  \n",
    "One possible partition is to have 2 groups:  \n",
    "Group 1: [2, 3]  \n",
    "Group 2: [2, 5]  \n",
    "Each group contains k = 2 distinct elements, and all elements are used exactly once.  \n",
    "\n",
    "Ex3:  \n",
    "Input: nums = [1,5,2,3], k = 3  \n",
    "Output: false  \n",
    "Explanation:  \n",
    "We cannot form groups of k = 3 distinct elements using all values exactly once."
   ]
  },
  {
   "cell_type": "markdown",
   "id": "5b177323-f80d-4e62-83b3-230c352abada",
   "metadata": {},
   "source": [
    "* 解題想法:\n",
    "\n",
    "首先將list中的數值放入dict中，接著算出每個sub-list應該需要多少個數字:\n",
    "- 如果list長度沒辦法被k整除，則回傳False\n",
    "- 如果k為一，則回傳True\n",
    "- 如果每個sub-list的長度小於某數值出現的次數，則回傳False\n",
    "- 如果都不符合上面的條件則回傳True  "
   ]
  },
  {
   "cell_type": "code",
   "execution_count": null,
   "id": "b8688f33-8deb-43cd-94ef-7be35e84f1b2",
   "metadata": {},
   "outputs": [],
   "source": [
    "class Solution:\n",
    "    def partitionArray(self, nums: List[int], k: int) -> bool:\n",
    "        count = {}\n",
    "        if k == 1:\n",
    "            return True\n",
    "        for n in nums:\n",
    "            if n not in count.keys():\n",
    "                count[n] = 0\n",
    "            count[n] += 1\n",
    "        if len(nums) % k != 0:\n",
    "            return False\n",
    "        p = len(nums) // k\n",
    "        values = list(count.values())\n",
    "        if max(values) > p:\n",
    "            return False\n",
    "        elif len(values) < k:\n",
    "            return False\n",
    "        return True"
   ]
  }
 ],
 "metadata": {
  "kernelspec": {
   "display_name": "Python 3 (ipykernel)",
   "language": "python",
   "name": "python3"
  },
  "language_info": {
   "codemirror_mode": {
    "name": "ipython",
    "version": 3
   },
   "file_extension": ".py",
   "mimetype": "text/x-python",
   "name": "python",
   "nbconvert_exporter": "python",
   "pygments_lexer": "ipython3",
   "version": "3.12.5"
  }
 },
 "nbformat": 4,
 "nbformat_minor": 5
}
