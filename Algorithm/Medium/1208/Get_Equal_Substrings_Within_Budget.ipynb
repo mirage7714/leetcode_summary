{
 "cells": [
  {
   "cell_type": "markdown",
   "id": "52c4158e-1f87-47f6-84ea-acfbf5c66e65",
   "metadata": {},
   "source": [
    "# 本題要找出指定的成本下，最長的substring為多少 (\\#String, \\#SlidingWindows )\n",
    "原題目連結: https://leetcode.com/problems/get-equal-substrings-within-budget/description/?envType=daily-question&envId=2024-05-28   \n",
    "\n",
    "You are given two strings s and t of the same length and an integer maxCost.  \n",
    "You want to change s to t. Changing the ith character of s to ith character of t costs |s[i] - t[i]| (i.e., the absolute difference between the ASCII values of the characters).  \n",
    "Return the maximum length of a substring of s that can be changed to be the same as the corresponding substring of t with a cost less than or equal to maxCost. If there is no substring from s that can be changed to its corresponding substring from t, return 0.  \n",
    "\n",
    "範例:  \n",
    "EX1:  \n",
    "Input: s = \"abcd\", t = \"bcdf\", maxCost = 3  \n",
    "Output: 3  \n",
    "Explanation: \"abc\" of s can change to \"bcd\".  \n",
    "That costs 3, so the maximum length is 3.  \n",
    "\n",
    "Ex2:    \n",
    "Input: s = \"abcd\", t = \"cdef\", maxCost = 3  \n",
    "Output: 1  \n",
    "Explanation: Each character in s costs 2 to change to character in t,  so the maximum length is 1.  \n",
    "\n",
    "Ex3:  \n",
    "Input: s = \"abcd\", t = \"acde\", maxCost = 0  \n",
    "Output: 1  \n",
    "Explanation: You cannot make any change, so the maximum length is 1."
   ]
  },
  {
   "cell_type": "markdown",
   "id": "aa19a692-8fdb-4c47-82e7-11489d3e9265",
   "metadata": {},
   "source": [
    "* 解題想法:  \n",
    "首先用一個deque來存放目前使用的成本，另外用一個變數來存放成本的總和，接著用迴圈開始找出兩個字串中字母的成本，如果超過總成本則先從頭開始去掉字母，直到符合總成本，最後回傳最大的長度就是答案"
   ]
  },
  {
   "cell_type": "code",
   "execution_count": null,
   "id": "d8970b07-d4d3-4719-ab3e-cfa5bd58348f",
   "metadata": {},
   "outputs": [],
   "source": [
    "from collections import deque\n",
    "\n",
    "class Solution:\n",
    "    def equalSubstring(self, s: str, t: str, maxCost: int) -> int:\n",
    "        res = 0\n",
    "        temp = []\n",
    "        total = 0\n",
    "        q = deque(temp)\n",
    "        for i in range(len(s)):\n",
    "            d = abs(ord(t[i]) - ord(s[i]))\n",
    "            while total + d > maxCost and q:\n",
    "                n = q.popleft()\n",
    "                total -= n\n",
    "            if d <= maxCost: \n",
    "                total += d\n",
    "                q.append(d)\n",
    "                res = max(res, len(q))\n",
    "        return res"
   ]
  }
 ],
 "metadata": {
  "kernelspec": {
   "display_name": "Python 3 (ipykernel)",
   "language": "python",
   "name": "python3"
  },
  "language_info": {
   "codemirror_mode": {
    "name": "ipython",
    "version": 3
   },
   "file_extension": ".py",
   "mimetype": "text/x-python",
   "name": "python",
   "nbconvert_exporter": "python",
   "pygments_lexer": "ipython3",
   "version": "3.9.13"
  }
 },
 "nbformat": 4,
 "nbformat_minor": 5
}
