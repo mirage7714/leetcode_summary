{
 "cells": [
  {
   "cell_type": "markdown",
   "metadata": {},
   "source": [
    "# 本題要把一個字串改成垂直的方式輸出\n",
    "原題目連結: https://leetcode.com/problems/print-words-vertically/  \n",
    "\n",
    "Given a string s. Return all the words vertically in the same order in which they appear in s.\n",
    "Words are returned as a list of strings, complete with spaces when is necessary. (Trailing spaces are not allowed).\n",
    "Each word would be put on only one column and that in one column there will be only one word.  \n",
    "\n",
    "範例:  \n",
    "Ex1:  \n",
    "Input: s = \"HOW ARE YOU\"  \n",
    "Output: [\"HAY\",\"ORO\",\"WEU\"]  \n",
    "Explanation: Each word is printed vertically.    \n",
    " \"HAY\"  \n",
    " \"ORO\"  \n",
    " \"WEU\"  \n",
    " \n",
    "Ex2:  \n",
    "Input: s = \"TO BE OR NOT TO BE\"  \n",
    "Output: [\"TBONTB\",\"OEROOE\",\"   T\"]  \n",
    "Explanation: Trailing spaces is not allowed.   \n",
    "\"TBONTB\"  \n",
    "\"OEROOE\"  \n",
    "\"   T\"  \n",
    "\n",
    "Ex3:  \n",
    "Input: s = \"CONTEST IS COMING\"  \n",
    "Output: [\"CIC\",\"OSO\",\"N M\",\"T I\",\"E N\",\"S G\",\"T\"]"
   ]
  },
  {
   "cell_type": "markdown",
   "metadata": {},
   "source": [
    "* 解題想法:  \n",
    "依據題目的需求，首先將字串拆成一個list，並找出list中最長的字後開始用迴圈找出對應index的字，如果沒有則補空白  \n",
    "最後再將後面的空白去除就是答案"
   ]
  },
  {
   "cell_type": "code",
   "execution_count": null,
   "metadata": {},
   "outputs": [],
   "source": [
    "class Solution:\n",
    "    def printVertically(self, s: str) -> List[str]:\n",
    "        result = []\n",
    "        words = s.split(' ')\n",
    "        sizes = []\n",
    "        for w in words:\n",
    "            sizes.append(len(w))\n",
    "        long = max(sizes)\n",
    "        for l in range(long):\n",
    "            temp = ''\n",
    "            for word in words:\n",
    "                if l < len(word):\n",
    "                    temp += word[l]\n",
    "                else:\n",
    "                    temp += ' '\n",
    "            result.append(temp.rstrip())\n",
    "        return result"
   ]
  }
 ],
 "metadata": {
  "kernelspec": {
   "display_name": "Python 3",
   "language": "python",
   "name": "python3"
  },
  "language_info": {
   "codemirror_mode": {
    "name": "ipython",
    "version": 3
   },
   "file_extension": ".py",
   "mimetype": "text/x-python",
   "name": "python",
   "nbconvert_exporter": "python",
   "pygments_lexer": "ipython3",
   "version": "3.7.4"
  }
 },
 "nbformat": 4,
 "nbformat_minor": 2
}
