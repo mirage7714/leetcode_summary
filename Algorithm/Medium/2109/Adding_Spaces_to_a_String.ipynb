{
 "cells": [
  {
   "cell_type": "markdown",
   "metadata": {},
   "source": [
    "# 本題要在字串指定的位置加上空白\n",
    "原題目連結: https://leetcode.com/problems/adding-spaces-to-a-string/  \n",
    "\n",
    "You are given a 0-indexed string s and a 0-indexed integer array spaces that describes the indices in the original string where spaces will be added. Each space should be inserted before the character at the given index.  \n",
    "\n",
    "For example, given s = \"EnjoyYourCoffee\" and spaces = [5, 9], we place spaces before 'Y' and 'C', which are at indices 5 and 9 respectively. Thus, we obtain \"Enjoy Your Coffee\".  \n",
    "Return the modified string after the spaces have been added.  \n",
    "\n",
    "範例:  \n",
    "Ex1:  \n",
    "Input: s = \"LeetcodeHelpsMeLearn\", spaces = [8,13,15]  \n",
    "Output: \"Leetcode Helps Me Learn\"  \n",
    "Explanation:   \n",
    "The indices 8, 13, and 15 correspond to the underlined characters in \"LeetcodeHelpsMeLearn\".  \n",
    "We then place spaces before those characters.  \n",
    "\n",
    "Ex2:  \n",
    "Input: s = \"icodeinpython\", spaces = [1,5,7,9]  \n",
    "Output: \"i code in py thon\"  \n",
    "Explanation:  \n",
    "The indices 1, 5, 7, and 9 correspond to the underlined characters in \"icodeinpython\".  \n",
    "We then place spaces before those characters.  \n",
    "\n",
    "Ex3:  \n",
    "Input: s = \"spacing\", spaces = [0,1,2,3,4,5,6]  \n",
    "Output: \" s p a c i n g\"  \n",
    "Explanation:  \n",
    "We are also able to place spaces before the first character of the string."
   ]
  },
  {
   "cell_type": "markdown",
   "metadata": {},
   "source": [
    "* 解題想法:  \n",
    "首先判斷要加上空白的第一個位數是否為0，如果為0則需要先在答案的最前面加上空白，接著使用一個迴圈來將題目的字串加到答案的字串上，如果index值剛好在需要加上空白的位置，則需要額外加上空白，最後回傳加上空白的字串"
   ]
  },
  {
   "cell_type": "code",
   "execution_count": null,
   "metadata": {},
   "outputs": [],
   "source": [
    "class Solution:\n",
    "    def addSpaces(self, s: str, spaces: List[int]) -> str:\n",
    "        result = ''\n",
    "        start = 0\n",
    "        if spaces[0] == 0:\n",
    "            result += ' '\n",
    "            start += 1\n",
    "        for m in range(len(s)):\n",
    "            result += s[m]\n",
    "            if start < len(spaces):\n",
    "                if m + 1 == spaces[start]:\n",
    "                    result += ' '\n",
    "                    start += 1\n",
    "        return result"
   ]
  }
 ],
 "metadata": {
  "kernelspec": {
   "display_name": "Python 3",
   "language": "python",
   "name": "python3"
  },
  "language_info": {
   "codemirror_mode": {
    "name": "ipython",
    "version": 3
   },
   "file_extension": ".py",
   "mimetype": "text/x-python",
   "name": "python",
   "nbconvert_exporter": "python",
   "pygments_lexer": "ipython3",
   "version": "3.7.4"
  }
 },
 "nbformat": 4,
 "nbformat_minor": 4
}
