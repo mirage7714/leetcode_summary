{
 "cells": [
  {
   "cell_type": "markdown",
   "id": "f7aa8076-14fd-4dff-aa36-85c570f29d86",
   "metadata": {},
   "source": [
    "# 本題要找出最大的中位數總合為多少 (\\#Array )\n",
    "原題目連結: https://leetcode.com/problems/maximum-median-sum-of-subsequences-of-size-3/description/?page=63  \n",
    "\n",
    "You are given an integer array nums with a length divisible by 3.  \n",
    "You want to make the array empty in steps. In each step, you can select any three elements from the array, compute their median, and remove the selected elements from the array.  \n",
    "The median of an odd-length sequence is defined as the middle element of the sequence when it is sorted in non-decreasing order.  \n",
    "Return the maximum possible sum of the medians computed from the selected elements.  \n",
    "\n",
    "範例:  \n",
    "Ex1:  \n",
    "Input: nums = [2,1,3,2,1,3] \n",
    "Output: 5  \n",
    "Explanation:  \n",
    "In the first step, select elements at indices 2, 4, and 5, which have a median 3. After removing these elements, nums becomes [2, 1, 2].  \n",
    "In the second step, select elements at indices 0, 1, and 2, which have a median 2. After removing these elements, nums becomes empty.  \n",
    "Hence, the sum of the medians is 3 + 2 = 5.  \n",
    "\n",
    "Ex2:  \n",
    "Input: nums = [1,1,10,10,10,10]  \n",
    "Output: 20  \n",
    "Explanation:  \n",
    "In the first step, select elements at indices 0, 2, and 3, which have a median 10. After removing these elements, nums becomes [1, 10, 10].  \n",
    "In the second step, select elements at indices 0, 1, and 2, which have a median 10. After removing these elements, nums becomes empty.  \n",
    "Hence, the sum of the medians is 10 + 10 = 20."
   ]
  },
  {
   "cell_type": "markdown",
   "id": "d35f1a79-dbce-4895-841a-ba28c024284c",
   "metadata": {},
   "source": [
    "* 解題想法:  \n",
    "首先將list進行排序後，從右側取兩個值並從左側取一個值後。加總從右側取出的第二個值後就是答案"
   ]
  },
  {
   "cell_type": "code",
   "execution_count": null,
   "id": "ae3f7b69-febe-4869-ad4b-6daa331de1a2",
   "metadata": {},
   "outputs": [],
   "source": [
    "from collections import deque\n",
    "\n",
    "class Solution:\n",
    "    def maximumMedianSum(self, nums: List[int]) -> int:\n",
    "        res = 0\n",
    "        nums.sort()\n",
    "        temp = deque(nums)\n",
    "        while temp:\n",
    "            temp.pop()\n",
    "            res += temp.pop()\n",
    "            temp.popleft()\n",
    "        return res"
   ]
  }
 ],
 "metadata": {
  "kernelspec": {
   "display_name": "Python 3 (ipykernel)",
   "language": "python",
   "name": "python3"
  },
  "language_info": {
   "codemirror_mode": {
    "name": "ipython",
    "version": 3
   },
   "file_extension": ".py",
   "mimetype": "text/x-python",
   "name": "python",
   "nbconvert_exporter": "python",
   "pygments_lexer": "ipython3",
   "version": "3.12.5"
  }
 },
 "nbformat": 4,
 "nbformat_minor": 5
}
