{
 "cells": [
  {
   "cell_type": "markdown",
   "metadata": {},
   "source": [
    "# 本題要判斷能否將原本的字串組合成相鄰字母不相同的字串\n",
    "原題目連結: https://leetcode.com/problems/reorganize-string/  \n",
    "\n",
    "Given a string s, rearrange the characters of s so that any two adjacent characters are not the same.  \n",
    "\n",
    "Return any possible rearrangement of s or return \"\" if not possible.  \n",
    "\n",
    "範例:  \n",
    "Ex1:  \n",
    "Input: s = \"aab\"  \n",
    "Output: \"aba\"  \n",
    "\n",
    "Ex2:  \n",
    "Input: s = \"aaab\"  \n",
    "Output: \"\"  "
   ]
  },
  {
   "cell_type": "markdown",
   "metadata": {},
   "source": [
    "* 解題想法:  \n",
    "與1054題相似，需要將字串重新進行排序，不過不同的點在於題目的字串有可能無法組成符合要求的字串，首先將字母出現的次數統計之後，將值放入heap中，接著從heap中開始將最大的兩個值取出，直到出現次數為0為止，最後檢查組成的字串最後兩個字母是否相同，如果相同則表示無法組成新字串，如果不相同則代表可以順利組成新的字串"
   ]
  },
  {
   "cell_type": "code",
   "execution_count": null,
   "metadata": {},
   "outputs": [],
   "source": [
    "import heapq\n",
    "class Solution:\n",
    "    def reorganizeString(self, S: str) -> str:\n",
    "        \n",
    "        def draw(arr, res):\n",
    "            if arr:\n",
    "                val, key = heapq.heappop(arr)\n",
    "                res.append(key)\n",
    "                return key, val+1\n",
    "            return None, 0\n",
    "        \n",
    "        count = {}\n",
    "        heap = []\n",
    "        result = []\n",
    "        for m in S:\n",
    "            if m not in count.keys():\n",
    "                count[m] = 1\n",
    "            else:\n",
    "                count[m] += 1\n",
    "        for key, val in count.items():\n",
    "            heapq.heappush(heap, [-val, key]) \n",
    "        while heap:\n",
    "            k1, v1 = draw(heap, result)\n",
    "            k2, v2 = draw(heap, result)\n",
    "            if v1 < 0:\n",
    "                heapq.heappush(heap, [v1, k1])\n",
    "            if v2 < 0:\n",
    "                heapq.heappush(heap, [v2, k2])\n",
    "        if result[-1] == result[-2]:\n",
    "            return ''\n",
    "        else:\n",
    "            return ''.join(result)"
   ]
  }
 ],
 "metadata": {
  "kernelspec": {
   "display_name": "Python 3",
   "language": "python",
   "name": "python3"
  },
  "language_info": {
   "codemirror_mode": {
    "name": "ipython",
    "version": 3
   },
   "file_extension": ".py",
   "mimetype": "text/x-python",
   "name": "python",
   "nbconvert_exporter": "python",
   "pygments_lexer": "ipython3",
   "version": "3.7.4"
  }
 },
 "nbformat": 4,
 "nbformat_minor": 4
}
