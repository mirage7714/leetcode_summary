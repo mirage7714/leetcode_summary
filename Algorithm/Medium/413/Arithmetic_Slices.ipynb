{
 "cells": [
  {
   "cell_type": "markdown",
   "metadata": {},
   "source": [
    "# 本題要找出共有多少長度為3以上且美個數值間距相等的list (\\#Array, \\#Stack)\n",
    "原題目連結: https://leetcode.com/problems/arithmetic-slices/  \n",
    "\n",
    "An integer array is called arithmetic if it consists of at least three elements and if the difference between any two consecutive elements is the same.  \n",
    "\n",
    "For example, [1,3,5,7,9], [7,7,7,7], and [3,-1,-5,-9] are arithmetic sequences.  \n",
    "Given an integer array nums, return the number of arithmetic subarrays of nums.  \n",
    "\n",
    "A subarray is a contiguous subsequence of the array.  \n",
    "\n",
    "範例:  \n",
    "Ex1:  \n",
    "Input: nums = [1,2,3,4]  \n",
    "Output: 3  \n",
    "Explanation: We have 3 arithmetic slices in nums: [1, 2, 3], [2, 3, 4] and [1,2,3,4] itself.  \n",
    "\n",
    "Ex2:  \n",
    "Input: nums = [1]  \n",
    "Output: 0"
   ]
  },
  {
   "cell_type": "markdown",
   "metadata": {},
   "source": [
    "* 解題想法:  \n",
    "首先找出第一組間距，接著開始檢查後面的數值間距是否相同，如果相同則將統計值+1，直到間距不相同時，則更新間距並將前面的組數算出後更新到答案中，最後回傳答案"
   ]
  },
  {
   "cell_type": "code",
   "execution_count": null,
   "metadata": {},
   "outputs": [],
   "source": [
    "class Solution:\n",
    "    def numberOfArithmeticSlices(self, A: List[int]) -> int:\n",
    "        count = 0\n",
    "        if len(A) > 2: \n",
    "            stack = 2\n",
    "            last = A[1]\n",
    "            diff = A[1] - A[0]\n",
    "            for m in range(2, len(A)):\n",
    "                if A[m] - last == diff:\n",
    "                    stack += 1\n",
    "                    last = A[m]\n",
    "                else:\n",
    "                    if stack >= 3:\n",
    "                        c = 1\n",
    "                        while stack >= 3:\n",
    "                            count += c\n",
    "                            c += 1\n",
    "                            stack -= 1\n",
    "                    stack = 2\n",
    "                    diff = A[m] - last\n",
    "                    last = A[m]\n",
    "            if stack >= 3:\n",
    "                c = 1\n",
    "                while stack >= 3:\n",
    "                    count += c\n",
    "                    c += 1        \n",
    "                    stack -= 1\n",
    "        return count"
   ]
  }
 ],
 "metadata": {
  "kernelspec": {
   "display_name": "Python 3",
   "language": "python",
   "name": "python3"
  },
  "language_info": {
   "codemirror_mode": {
    "name": "ipython",
    "version": 3
   },
   "file_extension": ".py",
   "mimetype": "text/x-python",
   "name": "python",
   "nbconvert_exporter": "python",
   "pygments_lexer": "ipython3",
   "version": "3.7.4"
  }
 },
 "nbformat": 4,
 "nbformat_minor": 4
}
