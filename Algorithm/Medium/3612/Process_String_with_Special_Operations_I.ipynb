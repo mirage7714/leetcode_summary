{
 "cells": [
  {
   "cell_type": "markdown",
   "id": "d46f0002-6ffa-42e8-8c98-cab66dd2f873",
   "metadata": {},
   "source": [
    "# 本題要找出操作過後的字串為何 (\\#String )\n",
    "原題目連結: https://leetcode.com/problems/process-string-with-special-operations-i/description/?page=63  \n",
    "\n",
    "You are given a string s consisting of lowercase English letters and the special characters: *, #, and %.  \n",
    "Build a new string result by processing s according to the following rules from left to right:  \n",
    "If the letter is a lowercase English letter append it to result.    \n",
    "- A '*' removes the last character from result, if it exists.  \n",
    "- A '#' duplicates the current result and appends it to itself.  \n",
    "- A '%' reverses the current result.  \n",
    "Return the final string result after processing all characters in s.\n",
    "\n",
    "範例:  \n",
    "Ex1:  \n",
    "Input: s = \"a#b%*\"  \n",
    "Output: \"ba\"  \n",
    "Explanation:   \n",
    " \n",
    "|i | s[i] | Operation | Current result| \n",
    "| --- | --- | --- | --- |\n",
    "|0 |'a'\t|Append 'a'|\t\"a\"|\n",
    "|1 |'#'\t|Duplicate result\t|\"aa\"|\n",
    "|2|\t'b'\t|Append 'b'\t|\"aab\"|\n",
    "|3|\t'%'\t|Reverse result\t|\"baa\"|\n",
    "|4|\t'*'| Remove the last character |\"ba\" |\n",
    "\n",
    "Thus, the final result is \"ba\".  \n",
    "\n",
    "Ex2:  \n",
    "Input: s = \"z*#\"  \n",
    "Output: \"\"  \n",
    "Explanation:  \n",
    "\n",
    "|i\t|s[i] | Operation | Current result |  \n",
    "|--- | --- | --- | --- |\n",
    "|0\t|'z' |Append 'z' | \"z\" |\n",
    "|1\t|'*' |Remove the last character\t| \"\" |\n",
    "|2\t|'#' |Duplicate the string\t| \"\" |\n",
    "\n",
    "Thus, the final result is \"\"."
   ]
  },
  {
   "cell_type": "markdown",
   "id": "aeacc18c-d28a-446a-bde5-617c3fc8396a",
   "metadata": {},
   "source": [
    "* 解題想法:\n",
    "首先用一個變數來存放目前的結果，接著用迴圈開始檢查目前的操作:\n",
    "- 如果是'*'，則刪去目前的最後一個字\n",
    "- 如果是'#'，則複製目前的結果\n",
    "- 如果是'%'，則倒轉目前的結果  \n",
    "最後將結果回傳就是答案"
   ]
  },
  {
   "cell_type": "code",
   "execution_count": null,
   "id": "28a5ff0b-4696-45a1-82bb-d4bf568f7724",
   "metadata": {},
   "outputs": [],
   "source": [
    "class Solution:\n",
    "    def processStr(self, s: str) -> str:\n",
    "        res = ''\n",
    "        for i in s:\n",
    "            if i == '*':\n",
    "                if res:\n",
    "                    res = res[:-1]\n",
    "            elif i == '#':\n",
    "                res = res + res\n",
    "            elif i == '%':\n",
    "                t = ''\n",
    "                for r in res:\n",
    "                    t = r + t\n",
    "                res = t      \n",
    "            else:\n",
    "                res += i\n",
    "        return res"
   ]
  }
 ],
 "metadata": {
  "kernelspec": {
   "display_name": "Python 3 (ipykernel)",
   "language": "python",
   "name": "python3"
  },
  "language_info": {
   "codemirror_mode": {
    "name": "ipython",
    "version": 3
   },
   "file_extension": ".py",
   "mimetype": "text/x-python",
   "name": "python",
   "nbconvert_exporter": "python",
   "pygments_lexer": "ipython3",
   "version": "3.12.5"
  }
 },
 "nbformat": 4,
 "nbformat_minor": 5
}
