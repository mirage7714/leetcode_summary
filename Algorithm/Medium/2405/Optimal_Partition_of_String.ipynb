{
 "cells": [
  {
   "cell_type": "markdown",
   "metadata": {},
   "source": [
    "# 本題要找出最少要有幾個subset才能將字串拆成都不出現重複字母的子字串\n",
    "原題目連結: https://leetcode.com/problems/optimal-partition-of-string/  \n",
    "\n",
    "Given a string s, partition the string into one or more substrings such that the characters in each substring are unique. That is, no letter appears in a single substring more than once.  \n",
    "Return the minimum number of substrings in such a partition.  \n",
    "Note that each character should belong to exactly one substring in a partition.  \n",
    "\n",
    "範例:  \n",
    "Ex1:  \n",
    "Input: s = \"abacaba\"  \n",
    "Output: 4  \n",
    "Explanation:   \n",
    "Two possible partitions are (\"a\",\"ba\",\"cab\",\"a\") and (\"ab\",\"a\",\"ca\",\"ba\").  \n",
    "It can be shown that 4 is the minimum number of substrings needed.  \n",
    "\n",
    "Ex2:  \n",
    "Input: s = \"ssssss\"  \n",
    "Output: 6  \n",
    "Explanation:  \n",
    "The only valid partition is (\"s\",\"s\",\"s\",\"s\",\"s\",\"s\")."
   ]
  },
  {
   "cell_type": "markdown",
   "metadata": {},
   "source": [
    "* 解題想法:  \n",
    "首先用一個暫存的空字串，接著開始用迴圈檢查字母是否有出現在暫存中，如果沒有則把字母加入暫存中，如果有出現重複的字母，則將數值加一並將暫存清空，最後回傳數值加一就是答案"
   ]
  },
  {
   "cell_type": "code",
   "execution_count": null,
   "metadata": {},
   "outputs": [],
   "source": [
    "class Solution:\n",
    "    def partitionString(self, s: str) -> int:\n",
    "        result = 0\n",
    "        temp = ''\n",
    "        for m in s:\n",
    "            if m not in temp:\n",
    "                temp += m\n",
    "            else: \n",
    "                result += 1\n",
    "                temp = m\n",
    "        return result + 1"
   ]
  }
 ],
 "metadata": {
  "kernelspec": {
   "display_name": "Python 3",
   "language": "python",
   "name": "python3"
  },
  "language_info": {
   "codemirror_mode": {
    "name": "ipython",
    "version": 3
   },
   "file_extension": ".py",
   "mimetype": "text/x-python",
   "name": "python",
   "nbconvert_exporter": "python",
   "pygments_lexer": "ipython3",
   "version": "3.7.4"
  }
 },
 "nbformat": 4,
 "nbformat_minor": 4
}
