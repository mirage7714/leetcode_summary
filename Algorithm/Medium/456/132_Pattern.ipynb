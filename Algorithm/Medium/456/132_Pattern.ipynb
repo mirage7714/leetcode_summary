{
 "cells": [
  {
   "cell_type": "markdown",
   "metadata": {},
   "source": [
    "# 本題要找出在nums中是否有符合132 pattern的數值\n",
    "原題目連結: https://leetcode.com/problems/132-pattern/  \n",
    "\n",
    "Given an array of n integers nums, a 132 pattern is a subsequence of three integers nums[i], nums[j] and nums[k] such that i < j < k and nums[i] < nums[k] < nums[j].  \n",
    "Return true if there is a 132 pattern in nums, otherwise, return false.  \n",
    "\n",
    "範例:  \n",
    "Ex1:  \n",
    "Input: nums = [1,2,3,4]  \n",
    "Output: false  \n",
    "Explanation: There is no 132 pattern in the sequence.  \n",
    "\n",
    "Ex2:  \n",
    "Input: nums = [3,1,4,2]  \n",
    "Output: true  \n",
    "Explanation: There is a 132 pattern in the sequence: [1, 4, 2].  \n",
    "\n",
    "Ex3:  \n",
    "Input: nums = [-1,3,2,0]  \n",
    "Output: true  \n",
    "Explanation: There are three 132 patterns in the sequence: [-1, 3, 2], [-1, 3, 0] and [-1, 2, 0]."
   ]
  },
  {
   "cell_type": "markdown",
   "metadata": {},
   "source": [
    "* 解題想法:  \n",
    "參考討論區的做法，大多是用stack來實作這題，首先檢查nums的長度是否有大於2以上，接著用一個變數來儲存最小值，以及一個stack用來存放目前有的數值，接著從後面開始檢查nums中的數值，如果stack中有數值且stack[-1]<nums[m]，則代表stack[-1]並不符合這個pattern，因此將small更新為stack[-1]，並繼續檢查直到stack清空或是stack[-1]大於nums[m]為止，接著將nums[m]放入stack中，最後當nums[m] < small時，則代表已經有符合題目要求的pattern出現，則回傳True"
   ]
  },
  {
   "cell_type": "code",
   "execution_count": null,
   "metadata": {},
   "outputs": [],
   "source": [
    "class Solution:\n",
    "    def find132pattern(self, nums: List[int]) -> bool:\n",
    "        if len(nums) < 3:\n",
    "            return False\n",
    "        small = -inf\n",
    "        stack = []\n",
    "        for m in range(len(nums)-1, -1, -1):\n",
    "            if stack and nums[m] < small:\n",
    "                return True\n",
    "            while stack and stack[-1] < nums[m]:\n",
    "                small = stack.pop()\n",
    "            stack.append(nums[m])\n",
    "        return False"
   ]
  }
 ],
 "metadata": {
  "kernelspec": {
   "display_name": "Python 3",
   "language": "python",
   "name": "python3"
  },
  "language_info": {
   "codemirror_mode": {
    "name": "ipython",
    "version": 3
   },
   "file_extension": ".py",
   "mimetype": "text/x-python",
   "name": "python",
   "nbconvert_exporter": "python",
   "pygments_lexer": "ipython3",
   "version": "3.7.4"
  }
 },
 "nbformat": 4,
 "nbformat_minor": 4
}
