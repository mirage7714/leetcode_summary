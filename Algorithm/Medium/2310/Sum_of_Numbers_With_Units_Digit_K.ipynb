{
 "cells": [
  {
   "cell_type": "markdown",
   "metadata": {},
   "source": [
    "# 本題要找出最少可以拆成幾組數字並符合每個數字尾數等於k的要求\n",
    "原題目連結: https://leetcode.com/problems/sum-of-numbers-with-units-digit-k/  \n",
    "\n",
    "Given two integers num and k, consider a set of positive integers with the following properties:  \n",
    "\n",
    "The units digit of each integer is k.  \n",
    "The sum of the integers is num.  \n",
    "Return the minimum possible size of such a set, or -1 if no such set exists.  \n",
    "\n",
    "Note:  \n",
    "The set can contain multiple instances of the same integer, and the sum of an empty set is considered 0.  \n",
    "The units digit of a number is the rightmost digit of the number.  \n",
    "\n",
    "範例:  \n",
    "Ex1:  \n",
    "Input: num = 58, k = 9  \n",
    "Output: 2  \n",
    "Explanation:    \n",
    "One valid set is [9,49], as the sum is 58 and each integer has a units digit of 9.  \n",
    "Another valid set is [19,39].  \n",
    "It can be shown that 2 is the minimum possible size of a valid set.  \n",
    "\n",
    "Ex2:  \n",
    "Input: num = 37, k = 2  \n",
    "Output: -1  \n",
    "Explanation: It is not possible to obtain a sum of 37 using only integers that have a units digit of 2.  \n",
    "\n",
    "Ex3:  \n",
    "Input: num = 0, k = 7  \n",
    "Output: 0  \n",
    "Explanation: The sum of an empty set is considered 0."
   ]
  },
  {
   "cell_type": "markdown",
   "metadata": {},
   "source": [
    "* 解題想法:  \n",
    "有幾個條件需要進行檢查: 首先判斷num是否為0，如果為0則可分的組數為0，接著判斷num是否大於或等於k，如果符合num大於k，則用迴圈檢查在n x k 是否可將num的尾數變為0，如果可以則結果為n，最後如果沒符合的條件，則回傳-1"
   ]
  },
  {
   "cell_type": "code",
   "execution_count": null,
   "metadata": {},
   "outputs": [],
   "source": [
    "class Solution:\n",
    "    def minimumNumbers(self, num: int, k: int) -> int:\n",
    "        result = -1\n",
    "        if num == 0:\n",
    "            result = 0\n",
    "        elif num > 0:\n",
    "            if num % 2 != 0 and k % 2 == 0:\n",
    "                result = -1\n",
    "            elif num == k:\n",
    "                result = 1\n",
    "            else:\n",
    "                for m in range(1, 11):\n",
    "                    left = num - m * k\n",
    "                    if left < 0:\n",
    "                        break\n",
    "                    elif left >= 0 and left % 10 == 0:\n",
    "                        result = m\n",
    "                        break  \n",
    "        return result"
   ]
  }
 ],
 "metadata": {
  "kernelspec": {
   "display_name": "Python 3",
   "language": "python",
   "name": "python3"
  },
  "language_info": {
   "codemirror_mode": {
    "name": "ipython",
    "version": 3
   },
   "file_extension": ".py",
   "mimetype": "text/x-python",
   "name": "python",
   "nbconvert_exporter": "python",
   "pygments_lexer": "ipython3",
   "version": "3.7.4"
  }
 },
 "nbformat": 4,
 "nbformat_minor": 4
}
