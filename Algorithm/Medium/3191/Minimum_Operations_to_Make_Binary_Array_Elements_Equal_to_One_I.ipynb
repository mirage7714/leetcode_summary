{
 "cells": [
  {
   "cell_type": "markdown",
   "id": "7f8de487-5fc4-4ff1-9229-aeb40aea6bb3",
   "metadata": {},
   "source": [
    "# 本題要確認是否能將list中的數值全部換成1 (\\#Array, \\#SlidingWindow )\n",
    "原題目連結: https://leetcode.com/problems/minimum-operations-to-make-binary-array-elements-equal-to-one-i/description/  \n",
    "\n",
    "You are given a binary array nums.  \n",
    "You can do the following operation on the array any number of times (possibly zero):  \n",
    "Choose any 3 consecutive elements from the array and flip all of them.  \n",
    "Flipping an element means changing its value from 0 to 1, and from 1 to 0.    \n",
    "Return the minimum number of operations required to make all elements in nums equal to 1. If it is impossible, return -1.  \n",
    "\n",
    "範例:  \n",
    "Ex1:  \n",
    "Input: nums = [0,1,1,1,0,0]  \n",
    "Output: 3  \n",
    "Explanation:  \n",
    "We can do the following operations:  \n",
    "Choose the elements at indices 0, 1 and 2. The resulting array is nums = [1,0,0,1,0,0].  \n",
    "Choose the elements at indices 1, 2 and 3. The resulting array is nums = [1,1,1,0,0,0].  \n",
    "Choose the elements at indices 3, 4 and 5. The resulting array is nums = [1,1,1,1,1,1].  \n",
    "\n",
    "Ex2:  \n",
    "Input: nums = [0,1,1,1]  \n",
    "Output: -1  \n",
    "Explanation:  \n",
    "It is impossible to make all elements equal to 1."
   ]
  },
  {
   "cell_type": "markdown",
   "id": "712616c0-4f07-4752-a046-2220180d4ef2",
   "metadata": {},
   "source": [
    "* 解題想法:  \n",
    "首先用兩個bool來記錄翻轉的次數，接著從頭開始檢查，如果該數值為0且不需要翻轉，或是該數值為1且需要翻轉時，則將次數加1並進行翻轉，並將兩個bool進行更新，最後剩下兩個數值時，如果兩數相同且bool不相同則回傳-1，另外如果兩數與翻轉的情況不相同也回傳-1，最後如果都符合則回傳翻轉的次數"
   ]
  },
  {
   "cell_type": "code",
   "execution_count": null,
   "id": "d131ee32-3c09-4635-8660-ac331472144e",
   "metadata": {},
   "outputs": [],
   "source": [
    "class Solution:\n",
    "    def minOperations(self, nums: List[int]) -> int:\n",
    "        res = 0\n",
    "        r1 = False\n",
    "        r2 = False\n",
    "        for i in range(len(nums)-2):\n",
    "            h = nums[i]\n",
    "            if (h == 0 and not r1) or (h == 1 and r1):\n",
    "                res += 1\n",
    "                r1 = not r2\n",
    "                r2 = True\n",
    "            else:\n",
    "                r1 = r2\n",
    "                r2 = False\n",
    "        if nums[-1] == nums[-2] and r1 != r2:\n",
    "            return -1\n",
    "        if r1 and nums[-2] == 1:\n",
    "            return -1\n",
    "        elif not r1 and nums[-2] == 0:\n",
    "            return -1\n",
    "        if r2 and nums[-1] == 1:\n",
    "            return -1\n",
    "        elif not r2 and nums[-1] == 0:\n",
    "            return -1\n",
    "        return res"
   ]
  }
 ],
 "metadata": {
  "kernelspec": {
   "display_name": "Python 3 (ipykernel)",
   "language": "python",
   "name": "python3"
  },
  "language_info": {
   "codemirror_mode": {
    "name": "ipython",
    "version": 3
   },
   "file_extension": ".py",
   "mimetype": "text/x-python",
   "name": "python",
   "nbconvert_exporter": "python",
   "pygments_lexer": "ipython3",
   "version": "3.9.13"
  }
 },
 "nbformat": 4,
 "nbformat_minor": 5
}
