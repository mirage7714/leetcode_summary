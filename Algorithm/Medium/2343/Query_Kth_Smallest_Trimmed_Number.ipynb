{
 "cells": [
  {
   "cell_type": "markdown",
   "id": "c2cb3161-1f45-468f-96a8-8ee43f1c9f22",
   "metadata": {},
   "source": [
    "# 本題要找出指定的位數中，排名的狀況如何 (\\#Array, \\#Heap)\n",
    "原題目連結: https://leetcode.com/problems/query-kth-smallest-trimmed-number/description/  \n",
    "\n",
    "You are given a 0-indexed array of strings nums, where each string is of equal length and consists of only digits.  \n",
    "You are also given a 0-indexed 2D integer array queries where queries[i] = [ki, trimi]. For each queries[i], you need to:  \n",
    "\n",
    "Trim each number in nums to its rightmost trimi digits.  \n",
    "Determine the index of the kith smallest trimmed number in nums. If two trimmed numbers are equal, the number with the lower index is considered to be smaller.  \n",
    "Reset each number in nums to its original length.  \n",
    "Return an array answer of the same length as queries, where answer[i] is the answer to the ith query.  \n",
    "\n",
    "Note:  \n",
    "To trim to the rightmost x digits means to keep removing the leftmost digit, until only x digits remain.  \n",
    "Strings in nums may contain leading zeros.  \n",
    "\n",
    "範例:  \n",
    "Ex1:  \n",
    "Input: nums = [\"102\",\"473\",\"251\",\"814\"], queries = [[1,1],[2,3],[4,2],[1,2]]  \n",
    "Output: [2,2,1,0]  \n",
    "Explanation:  \n",
    "1. After trimming to the last digit, nums = [\"2\",\"3\",\"1\",\"4\"]. The smallest number is 1 at index 2.  \n",
    "2. Trimmed to the last 3 digits, nums is unchanged. The 2nd smallest number is 251 at index 2.  \n",
    "3. Trimmed to the last 2 digits, nums = [\"02\",\"73\",\"51\",\"14\"]. The 4th smallest number is 73.  \n",
    "4. Trimmed to the last 2 digits, the smallest number is 2 at index 0.  \n",
    "Note that the trimmed number \"02\" is evaluated as 2.   \n",
    "   \n",
    "Ex2:  \n",
    "Input: nums = [\"24\",\"37\",\"96\",\"04\"], queries = [[2,1],[2,2]]  \n",
    "Output: [3,0]  \n",
    "Explanation:  \n",
    "1. Trimmed to the last digit, nums = [\"4\",\"7\",\"6\",\"4\"]. The 2nd smallest number is 4 at index 3.  \n",
    "   There are two occurrences of 4, but the one at index 0 is considered smaller than the one at index 3.  \n",
    "2. Trimmed to the last 2 digits, nums is unchanged. The 2nd smallest number is 24.  "
   ]
  },
  {
   "cell_type": "markdown",
   "id": "a880301d-24da-4264-a206-a21f04c387a2",
   "metadata": {},
   "source": [
    "* 解題想法:  \n",
    "首先用一個heap，將指定的位數與index都放入heap中，接著取出第n個值將index放入list中，最後回傳list就是答案"
   ]
  },
  {
   "cell_type": "code",
   "execution_count": null,
   "id": "0a0b97f9-5ab8-4e73-ba98-ad47470ebeb0",
   "metadata": {},
   "outputs": [],
   "source": [
    "import heapq\n",
    "\n",
    "class Solution:\n",
    "    def smallestTrimmedNumbers(self, nums: List[str], queries: List[List[int]]) -> List[int]:\n",
    "        res = []\n",
    "        for q in queries:\n",
    "            temp = []\n",
    "            heapq.heapify(temp)\n",
    "            for n in range(len(nums)):\n",
    "                heapq.heappush(temp, [nums[n][len(nums[n])-q[1]:], n])\n",
    "            t = 0\n",
    "            for i in range(q[0]):\n",
    "                t = heapq.heappop(temp)[1]\n",
    "            res.append(t)\n",
    "        return res            "
   ]
  }
 ],
 "metadata": {
  "kernelspec": {
   "display_name": "Python 3 (ipykernel)",
   "language": "python",
   "name": "python3"
  },
  "language_info": {
   "codemirror_mode": {
    "name": "ipython",
    "version": 3
   },
   "file_extension": ".py",
   "mimetype": "text/x-python",
   "name": "python",
   "nbconvert_exporter": "python",
   "pygments_lexer": "ipython3",
   "version": "3.9.13"
  }
 },
 "nbformat": 4,
 "nbformat_minor": 5
}
