{
 "cells": [
  {
   "cell_type": "markdown",
   "metadata": {},
   "source": [
    "# 本題要將一個1D list數值用螺旋的方式放入2D list中\n",
    "原題目連結: https://leetcode.com/problems/spiral-matrix-ii/  \n",
    "\n",
    "Given a positive integer n, generate an n x n matrix filled with elements from 1 to n2 in spiral order.  \n",
    "\n",
    "範例:  \n",
    "Ex1:  \n",
    "Input: n = 3  \n",
    "Output: [[1,2,3],[8,9,4],[7,6,5]]  \n",
    "\n",
    "Ex2:  \n",
    "Input: n = 1  \n",
    "Output: [[1]]"
   ]
  },
  {
   "cell_type": "markdown",
   "metadata": {},
   "source": [
    "* 解題想法:  \n",
    "首先建立一個list，並將list中的所有數值都填入0，接著開始用螺旋的方式找出所有的座標，並將座標放入一個list中，最後用座標中的點位，將結果中的座標點位數值更新並回傳"
   ]
  },
  {
   "cell_type": "code",
   "execution_count": null,
   "metadata": {},
   "outputs": [],
   "source": [
    "class Solution:\n",
    "    def generateMatrix(self, n: int) -> List[List[int]]:\n",
    "        result = []\n",
    "        loc = []\n",
    "        for _ in range(n):\n",
    "            result.append([0]*n)\n",
    "        top = 0\n",
    "        left = 0\n",
    "        right = n-1\n",
    "        bottom = n-1\n",
    "        while len(loc) < n * n:\n",
    "            for a in range(left, right+1):\n",
    "                loc.append([top, a])\n",
    "            for b in range(top+1, bottom+1):\n",
    "                loc.append([b, right])\n",
    "            if top != bottom:\n",
    "                for c in range(right-1, left, -1):\n",
    "                    loc.append([bottom, c])\n",
    "            if left != right:\n",
    "                for d in range(bottom, top, -1):\n",
    "                    loc.append([d, left])\n",
    "            left += 1\n",
    "            top += 1\n",
    "            right -= 1\n",
    "            bottom -= 1\n",
    "        for l in range(len(loc)):\n",
    "            result[loc[l][0]][loc[l][1]] = l+1\n",
    "        return result"
   ]
  }
 ],
 "metadata": {
  "kernelspec": {
   "display_name": "Python 3",
   "language": "python",
   "name": "python3"
  },
  "language_info": {
   "codemirror_mode": {
    "name": "ipython",
    "version": 3
   },
   "file_extension": ".py",
   "mimetype": "text/x-python",
   "name": "python",
   "nbconvert_exporter": "python",
   "pygments_lexer": "ipython3",
   "version": "3.7.4"
  }
 },
 "nbformat": 4,
 "nbformat_minor": 4
}
