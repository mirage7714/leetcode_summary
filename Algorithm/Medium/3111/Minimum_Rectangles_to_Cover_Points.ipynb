{
 "cells": [
  {
   "cell_type": "markdown",
   "id": "4c8258ad-3dde-473f-a1ba-227163f0982c",
   "metadata": {},
   "source": [
    "# 本題要找出最少需要多少個長方形才能涵蓋所有的點 (\\#Array, \\#Heap )\n",
    "原題目連結: https://leetcode.com/problems/minimum-rectangles-to-cover-points/description/  \n",
    "\n",
    "You are given a 2D integer array points, where points[i] = [xi, yi]. You are also given an integer w. Your task is to cover all the given points with rectangles.  \n",
    "Each rectangle has its lower end at some point (x1, 0) and its upper end at some point (x2, y2), where x1 <= x2, y2 >= 0, and the condition x2 - x1 <= w must be satisfied for each rectangle.  \n",
    "A point is considered covered by a rectangle if it lies within or on the boundary of the rectangle.  \n",
    "Return an integer denoting the minimum number of rectangles needed so that each point is covered by at least one rectangle.  \n",
    "Note: A point may be covered by more than one rectangle.  \n",
    "\n",
    "範例:  \n",
    "Ex1:  \n",
    "Input: points = [[2,1],[1,0],[1,4],[1,8],[3,5],[4,6]], w = 1  \n",
    "Output: 2  \n",
    "Explanation:  \n",
    "The image above shows one possible placement of rectangles to cover the points:  \n",
    "A rectangle with a lower end at (1, 0) and its upper end at (2, 8)  \n",
    "A rectangle with a lower end at (3, 0) and its upper end at (4, 8)  \n",
    "\n",
    "Ex2:  \n",
    "Input: points = [[0,0],[1,1],[2,2],[3,3],[4,4],[5,5],[6,6]], w = 2  \n",
    "Output: 3  \n",
    "Explanation:  \n",
    "The image above shows one possible placement of rectangles to cover the points:  \n",
    "A rectangle with a lower end at (0, 0) and its upper end at (2, 2)  \n",
    "A rectangle with a lower end at (3, 0) and its upper end at (5, 5)  \n",
    "A rectangle with a lower end at (6, 0) and its upper end at (6, 6)  \n",
    "\n",
    "Ex3:  \n",
    "Input: points = [[2,3],[1,2]], w = 0  \n",
    "Output: 2  \n",
    "Explanation:  \n",
    "The image above shows one possible placement of rectangles to cover the points:  \n",
    "A rectangle with a lower end at (1, 0) and its upper end at (1, 2)  \n",
    "A rectangle with a lower end at (2, 0) and its upper end at (2, 3)"
   ]
  },
  {
   "cell_type": "markdown",
   "id": "8232997a-aae0-452e-98bc-24d58aafe370",
   "metadata": {},
   "source": [
    "* 解題想法:  \n",
    "首先將points轉換成heap，接著取出第一個點為當作起始，然後逐步從heap中取點為，如果下一個點還在同一個長方形內則繼續取下一個數值，直到超出長方形範圍內則更新長方形的邊界並將數值加1，最後回傳總共需要的長方形數量"
   ]
  },
  {
   "cell_type": "code",
   "execution_count": null,
   "id": "2bbb513e-e966-46df-a2e1-83f35e56f7b5",
   "metadata": {},
   "outputs": [],
   "source": [
    "import heapq\n",
    "\n",
    "class Solution:\n",
    "    def minRectanglesToCoverPoints(self, points: List[List[int]], w: int) -> int:\n",
    "        res = 1\n",
    "        heapq.heapify(points)\n",
    "        start = heapq.heappop(points)[0] + w\n",
    "        while points:\n",
    "            p = heapq.heappop(points)\n",
    "            if p[0] > start:\n",
    "                res += 1\n",
    "                start = p[0] + w\n",
    "        return res"
   ]
  }
 ],
 "metadata": {
  "kernelspec": {
   "display_name": "Python 3 (ipykernel)",
   "language": "python",
   "name": "python3"
  },
  "language_info": {
   "codemirror_mode": {
    "name": "ipython",
    "version": 3
   },
   "file_extension": ".py",
   "mimetype": "text/x-python",
   "name": "python",
   "nbconvert_exporter": "python",
   "pygments_lexer": "ipython3",
   "version": "3.9.13"
  }
 },
 "nbformat": 4,
 "nbformat_minor": 5
}
