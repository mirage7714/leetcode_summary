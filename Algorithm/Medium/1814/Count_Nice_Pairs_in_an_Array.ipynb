{
 "cells": [
  {
   "cell_type": "markdown",
   "id": "00f67b2c-a1a9-443d-9285-9800ea29ea81",
   "metadata": {},
   "source": [
    "# 本題要找出兩個數值在翻轉前後加總相同的組合有多少 (\\#Array, \\#Math )\n",
    "原題目連結：https://leetcode.com/problems/count-nice-pairs-in-an-array/description\n",
    "\n",
    "You are given an array nums that consists of non-negative integers. Let us define rev(x) as the reverse of the non-negative integer x. For example, rev(123) = 321, and rev(120) = 21. A pair of indices (i, j) is nice if it satisfies all of the following conditions:  \n",
    "\n",
    "0 <= i < j < nums.length  \n",
    "nums[i] + rev(nums[j]) == nums[j] + rev(nums[i])  \n",
    "Return the number of nice pairs of indices. Since that number can be too large, return it modulo 109 + 7.  \n",
    "\n",
    "範例：  \n",
    "Ex1:  \n",
    "Input: nums = [42,11,1,97]  \n",
    "Output: 2  \n",
    "Explanation: The two pairs are:  \n",
    " - (0,3) : 42 + rev(97) = 42 + 79 = 121, 97 + rev(42) = 97 + 24 = 121.  \n",
    " - (1,2) : 11 + rev(1) = 11 + 1 = 12, 1 + rev(11) = 1 + 11 = 12.  \n",
    " \n",
    "Ex2:  \n",
    "Input: nums = [13,10,35,24,76]  \n",
    "Output: 4"
   ]
  },
  {
   "cell_type": "markdown",
   "id": "0a623c19-67a1-401f-bbe4-a246fb334815",
   "metadata": {},
   "source": [
    "* 解題想法：  \n",
    "首先新增一個函數用來取得數字的翻轉值，接著用一個dict，以翻轉前後的數值差作為key，並將數字放入dict中，接著檢查value長度有超過1以上的，將可能的組合算出後加總到結果，最後取mod就是答案"
   ]
  },
  {
   "cell_type": "code",
   "execution_count": null,
   "id": "20f68072-69bc-402d-9bcf-59981f7658bd",
   "metadata": {},
   "outputs": [],
   "source": [
    "class Solution:\n",
    "    def countNicePairs(self, nums: List[int]) -> int:\n",
    "        def get_rev(num):\n",
    "            r = ''\n",
    "            for n in str(num):\n",
    "                r = n + r\n",
    "            return int(r)\n",
    "\n",
    "        res = 0\n",
    "        count = {}\n",
    "        for n in nums:\n",
    "            d = n - get_rev(n)\n",
    "            if d not in count.keys():\n",
    "                count[d] = [n]\n",
    "            else:\n",
    "                count[d].append(n)\n",
    "        for key, val in count.items():\n",
    "            if len(val) > 1:\n",
    "                res += len(val) * (len(val)-1) // 2\n",
    "        res = res % 1000000007\n",
    "        return res"
   ]
  }
 ],
 "metadata": {
  "kernelspec": {
   "display_name": "Python 3 (ipykernel)",
   "language": "python",
   "name": "python3"
  },
  "language_info": {
   "codemirror_mode": {
    "name": "ipython",
    "version": 3
   },
   "file_extension": ".py",
   "mimetype": "text/x-python",
   "name": "python",
   "nbconvert_exporter": "python",
   "pygments_lexer": "ipython3",
   "version": "3.10.9"
  }
 },
 "nbformat": 4,
 "nbformat_minor": 5
}
