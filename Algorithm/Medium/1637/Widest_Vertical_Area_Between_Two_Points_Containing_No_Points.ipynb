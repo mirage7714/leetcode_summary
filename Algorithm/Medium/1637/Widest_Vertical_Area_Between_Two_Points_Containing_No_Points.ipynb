{
 "cells": [
  {
   "cell_type": "markdown",
   "metadata": {},
   "source": [
    "# 本題要找出水平距離最大差距為多少\n",
    "原題目連結: https://leetcode.com/problems/widest-vertical-area-between-two-points-containing-no-points/  \n",
    "\n",
    "Given n points on a 2D plane where points[i] = [xi, yi], Return the widest vertical area between two points such that no points are inside the area.   \n",
    "\n",
    "A vertical area is an area of fixed-width extending infinitely along the y-axis (i.e., infinite height). The widest vertical area is the one with the maximum width.   \n",
    "\n",
    "Note that points on the edge of a vertical area are not considered included in the area.  \n",
    "\n",
    "範例:  \n",
    "Ex1:  \n",
    "Input: points = [[8,7],[9,9],[7,4],[9,7]]  \n",
    "Output: 1  \n",
    "Explanation: Both the red and the blue area are optimal.  \n",
    "\n",
    "Ex2:  \n",
    "Input: points = [[3,1],[9,0],[1,0],[1,4],[5,3],[8,8]]  \n",
    "Output: 3"
   ]
  },
  {
   "cell_type": "markdown",
   "metadata": {},
   "source": [
    "* 解題想法:  \n",
    "題目要求找出最大水平距離中間沒有其他的點，因此就是將提供的list排序後將連續兩個點的x軸差距算出，並找出最大值為多少"
   ]
  },
  {
   "cell_type": "code",
   "execution_count": null,
   "metadata": {},
   "outputs": [],
   "source": [
    "class Solution:\n",
    "    def maxWidthOfVerticalArea(self, points: List[List[int]]) -> int:\n",
    "        m = 0\n",
    "        points.sort()\n",
    "        for p in range(len(points)-1):\n",
    "            if points[p+1][0] != points[p][0]:\n",
    "                if points[p+1][0] - points[p][0] > m:\n",
    "                    m = points[p+1][0] - points[p][0]\n",
    "        return m"
   ]
  }
 ],
 "metadata": {
  "kernelspec": {
   "display_name": "Python 3",
   "language": "python",
   "name": "python3"
  },
  "language_info": {
   "codemirror_mode": {
    "name": "ipython",
    "version": 3
   },
   "file_extension": ".py",
   "mimetype": "text/x-python",
   "name": "python",
   "nbconvert_exporter": "python",
   "pygments_lexer": "ipython3",
   "version": "3.7.4"
  }
 },
 "nbformat": 4,
 "nbformat_minor": 2
}
