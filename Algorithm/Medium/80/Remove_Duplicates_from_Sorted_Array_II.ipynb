{
 "cells": [
  {
   "cell_type": "markdown",
   "metadata": {},
   "source": [
    "# 本題要將重複超過兩次以上的數字移除\n",
    "原題目連結: https://leetcode.com/problems/remove-duplicates-from-sorted-array-ii/  \n",
    "\n",
    "Given an integer array nums sorted in non-decreasing order, remove some duplicates in-place such that each unique element appears at most twice. The relative order of the elements should be kept the same.  \n",
    "\n",
    "Since it is impossible to change the length of the array in some languages, you must instead have the result be placed in the first part of the array nums. More formally, if there are k elements after removing the duplicates, then the first k elements of nums should hold the final result. It does not matter what you leave beyond the first k elements.  \n",
    "\n",
    "Return k after placing the final result in the first k slots of nums.  \n",
    "\n",
    "Do not allocate extra space for another array. You must do this by modifying the input array in-place with O(1) extra memory.  \n",
    "\n",
    "範例:  \n",
    "Ex1:  \n",
    "Input: nums = [1,1,1,2,2,3]  \n",
    "Output: 5, nums = [1,1,2,2,3,_]  \n",
    "Explanation: Your function should return k = 5, with the first five elements of nums being 1, 1, 2, 2 and 3 respectively.  \n",
    "It does not matter what you leave beyond the returned k (hence they are underscores).  \n",
    "\n",
    "Ex2:  \n",
    "Input: nums = [0,0,1,1,1,1,2,3,3]  \n",
    "Output: 7, nums = [0,0,1,1,2,3,3,_,_]  \n",
    "Explanation: Your function should return k = 7, with the first seven elements of nums being 0, 0, 1, 1, 2, 3 and 3 respectively.  \n",
    "It does not matter what you leave beyond the returned k (hence they are underscores)."
   ]
  },
  {
   "cell_type": "markdown",
   "metadata": {},
   "source": [
    "* 解題想法:  \n",
    "首先用一個變數來存放目前的index為何，另外用一個變數來存放目前的值為何，接著用一個while loop開始進行檢查，如果有超過兩個以上的重複數值時，將該數值移除，並將index進行移動，最後直到修改前與修改後的長度相同則中斷while loop"
   ]
  },
  {
   "cell_type": "code",
   "execution_count": null,
   "metadata": {},
   "outputs": [],
   "source": [
    "class Solution:\n",
    "    def removeDuplicates(self, nums: List[int]) -> int:\n",
    "        counts = 1\n",
    "        index = 1\n",
    "        temp = nums[0]\n",
    "        while True:\n",
    "            s = len(nums)\n",
    "            for m in range(index, len(nums)):\n",
    "                if nums[m] == temp:\n",
    "                    if counts >= 2:\n",
    "                        nums.pop(m)\n",
    "                        index = m\n",
    "                        break\n",
    "                    else:\n",
    "                        counts += 1\n",
    "                else:\n",
    "                    temp = nums[m]\n",
    "                    counts = 1\n",
    "            if s == len(nums):\n",
    "                break"
   ]
  }
 ],
 "metadata": {
  "kernelspec": {
   "display_name": "Python 3",
   "language": "python",
   "name": "python3"
  },
  "language_info": {
   "codemirror_mode": {
    "name": "ipython",
    "version": 3
   },
   "file_extension": ".py",
   "mimetype": "text/x-python",
   "name": "python",
   "nbconvert_exporter": "python",
   "pygments_lexer": "ipython3",
   "version": "3.7.4"
  }
 },
 "nbformat": 4,
 "nbformat_minor": 4
}
