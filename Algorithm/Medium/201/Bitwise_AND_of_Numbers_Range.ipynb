{
 "cells": [
  {
   "cell_type": "markdown",
   "id": "0c1973b0-f726-44af-acf9-bcb19f6ba8b9",
   "metadata": {},
   "source": [
    "# 本題要找出範圍內的所有數值的AND為多少 (\\#BitManipulation )\n",
    "原題目連結: https://leetcode.com/problems/bitwise-and-of-numbers-range/description/  \n",
    "\n",
    "Given two integers left and right that represent the range [left, right], return the bitwise AND of all numbers in this range, inclusive.  \n",
    "\n",
    "範例:  \n",
    "Ex1:  \n",
    "Input: left = 5, right = 7  \n",
    "Output: 4  \n",
    "\n",
    "Ex2:  \n",
    "Input: left = 0, right = 0  \n",
    "Output: 0   \n",
    "\n",
    "Ex3:  \n",
    "Input: left = 1, right = 2147483647  \n",
    "Output: 0"
   ]
  },
  {
   "cell_type": "markdown",
   "id": "676d31d4-5af8-4e39-b05e-6d9842598ef1",
   "metadata": {},
   "source": [
    "* 解題想法:  \n",
    "首先檢查left與right是否相同，如果相同則結果就是邊界值，如果不相同時則判斷兩個值的bit長度是否相同，如果不相同則為0，如果相同時則找出兩個邊界值的差距以及差距的bit數為多少，接著檢查兩個邊界值相同的bit數有多少，最後算出結果"
   ]
  },
  {
   "cell_type": "code",
   "execution_count": null,
   "id": "25de28f4-b42e-4379-acf5-b398e6cc1fee",
   "metadata": {},
   "outputs": [],
   "source": [
    "class Solution:\n",
    "    def rangeBitwiseAnd(self, left: int, right: int) -> int:\n",
    "        res = 0\n",
    "        if left != right:\n",
    "            lb = bin(left)[2:]\n",
    "            rb = bin(right)[2:]\n",
    "            if len(lb) == len(rb):\n",
    "                d = bin(right - left)[2:]\n",
    "                for i in range(len(lb) - len(d)):\n",
    "                    if lb[i] == '1' and rb[i] == '1':\n",
    "                        res += 2 ** (len(lb) - i - 1) \n",
    "        else:\n",
    "            res = left\n",
    "        return res"
   ]
  }
 ],
 "metadata": {
  "kernelspec": {
   "display_name": "Python 3 (ipykernel)",
   "language": "python",
   "name": "python3"
  },
  "language_info": {
   "codemirror_mode": {
    "name": "ipython",
    "version": 3
   },
   "file_extension": ".py",
   "mimetype": "text/x-python",
   "name": "python",
   "nbconvert_exporter": "python",
   "pygments_lexer": "ipython3",
   "version": "3.9.13"
  }
 },
 "nbformat": 4,
 "nbformat_minor": 5
}
