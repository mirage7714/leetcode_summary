{
 "cells": [
  {
   "cell_type": "markdown",
   "metadata": {},
   "source": [
    "# 本題要找出最少要幾次才能湊出指定的數值\n",
    "原題目連結: https://leetcode.com/problems/partitioning-into-minimum-number-of-deci-binary-numbers/  \n",
    "\n",
    "A decimal number is called deci-binary if each of its digits is either 0 or 1 without any leading zeros. For example, 101 and 1100 are deci-binary, while 112 and 3001 are not.  \n",
    "Given a string n that represents a positive decimal integer, return the minimum number of positive deci-binary numbers needed so that they sum up to n.  \n",
    "\n",
    "範例:  \n",
    "Ex1:  \n",
    "Input: n = \"32\"  \n",
    "Output: 3  \n",
    "Explanation: 10 + 11 + 11 = 32  \n",
    "\n",
    "Ex2:  \n",
    "Input: n = \"82734\"  \n",
    "Output: 8  \n",
    "\n",
    "Ex3:  \n",
    "Input: n = \"27346209830709182346\"  \n",
    "Output: 9"
   ]
  },
  {
   "cell_type": "markdown",
   "metadata": {},
   "source": [
    "* 解題想法:  \n",
    "由於數字只能有0與1組成，因此最少次數就是位數中最大的數字，因此找出數字中最大的數值就是答案"
   ]
  },
  {
   "cell_type": "code",
   "execution_count": null,
   "metadata": {},
   "outputs": [],
   "source": [
    "class Solution:\n",
    "    def minPartitions(self, n: str) -> int:\n",
    "        result = '0'\n",
    "        for s in n:\n",
    "            if s > result:\n",
    "                result = s\n",
    "        return int(result)"
   ]
  }
 ],
 "metadata": {
  "kernelspec": {
   "display_name": "Python 3",
   "language": "python",
   "name": "python3"
  },
  "language_info": {
   "codemirror_mode": {
    "name": "ipython",
    "version": 3
   },
   "file_extension": ".py",
   "mimetype": "text/x-python",
   "name": "python",
   "nbconvert_exporter": "python",
   "pygments_lexer": "ipython3",
   "version": "3.7.4"
  }
 },
 "nbformat": 4,
 "nbformat_minor": 4
}
