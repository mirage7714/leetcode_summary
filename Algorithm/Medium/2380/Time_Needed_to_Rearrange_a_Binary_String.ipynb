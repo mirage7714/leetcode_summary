{
 "cells": [
  {
   "cell_type": "markdown",
   "metadata": {},
   "source": [
    "# 本題要找出將01取代成10最少要幾次\n",
    "原題目連結: https://leetcode.com/problems/time-needed-to-rearrange-a-binary-string/  \n",
    "\n",
    "You are given a binary string s. In one second, all occurrences of \"01\" are simultaneously replaced with \"10\". This process repeats until no occurrences of \"01\" exist.  \n",
    "\n",
    "Return the number of seconds needed to complete this process.  \n",
    "\n",
    "範例:  \n",
    "Ex1:  \n",
    "Input: s = \"0110101\"  \n",
    "Output: 4  \n",
    "Explanation:   \n",
    "After one second, s becomes \"1011010\".  \n",
    "After another second, s becomes \"1101100\".  \n",
    "After the third second, s becomes \"1110100\".  \n",
    "After the fourth second, s becomes \"1111000\".  \n",
    "No occurrence of \"01\" exists any longer, and the process needed 4 seconds to complete, so we return 4.  \n",
    "\n",
    "Ex2:  \n",
    "Input: s = \"11100\"  \n",
    "Output: 0  \n",
    "Explanation:  \n",
    "No occurrence of \"01\" exists in s, and the processes needed 0 seconds to complete, so we return 0.  "
   ]
  },
  {
   "cell_type": "markdown",
   "metadata": {},
   "source": [
    "* 解題想法:  \n",
    "這題是可以直接使用暴力解的方式來進行解題，檢查字串中如果有出現01則直接將所有01都取代成10，最後計算總共執行的次數就是答案"
   ]
  },
  {
   "cell_type": "code",
   "execution_count": null,
   "metadata": {},
   "outputs": [],
   "source": [
    "class Solution:\n",
    "    def secondsToRemoveOccurrences(self, s: str) -> int:\n",
    "        count = 0\n",
    "        while '01' in s:\n",
    "            s = s.replace('01','10')\n",
    "            count += 1\n",
    "        return count"
   ]
  }
 ],
 "metadata": {
  "kernelspec": {
   "display_name": "Python 3",
   "language": "python",
   "name": "python3"
  },
  "language_info": {
   "codemirror_mode": {
    "name": "ipython",
    "version": 3
   },
   "file_extension": ".py",
   "mimetype": "text/x-python",
   "name": "python",
   "nbconvert_exporter": "python",
   "pygments_lexer": "ipython3",
   "version": "3.7.4"
  }
 },
 "nbformat": 4,
 "nbformat_minor": 4
}
