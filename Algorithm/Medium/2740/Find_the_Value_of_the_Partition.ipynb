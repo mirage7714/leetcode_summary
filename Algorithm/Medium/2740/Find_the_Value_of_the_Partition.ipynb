{
 "cells": [
  {
   "cell_type": "markdown",
   "id": "77863188-a8cf-4bd6-9671-91974a74f3fd",
   "metadata": {},
   "source": [
    "# 本題要將list分為兩個，並找出兩邊最大值與最小值的差值為多少 (\\#Array)\n",
    "原題目連結: https://leetcode.com/problems/find-the-value-of-the-partition/description/  \n",
    "\n",
    "You are given a positive integer array nums.  \n",
    "Partition nums into two arrays, nums1 and nums2, such that:  \n",
    "\n",
    "Each element of the array nums belongs to either the array nums1 or the array nums2.  \n",
    "Both arrays are non-empty.  \n",
    "The value of the partition is minimized.  \n",
    "The value of the partition is |max(nums1) - min(nums2)|.  \n",
    "\n",
    "Here, max(nums1) denotes the maximum element of the array nums1, and min(nums2) denotes the minimum element of the array nums2.  \n",
    "Return the integer denoting the value of such partition.  \n",
    "\n",
    "範例:  \n",
    "Ex1:  \n",
    "Input: nums = [1,3,2,4]  \n",
    "Output: 1  \n",
    "Explanation: We can partition the array nums into nums1 = [1,2] and nums2 = [3,4].  \n",
    "- The maximum element of the array nums1 is equal to 2.  \n",
    "- The minimum element of the array nums2 is equal to 3.  \n",
    "The value of the partition is |2 - 3| = 1.   \n",
    "It can be proven that 1 is the minimum value out of all partitions.  \n",
    "\n",
    "Ex2:  \n",
    "Input: nums = [100,1,10]  \n",
    "Output: 9  \n",
    "Explanation: We can partition the array nums into nums1 = [10] and nums2 = [100,1].  \n",
    "- The maximum element of the array nums1 is equal to 10.  \n",
    "- The minimum element of the array nums2 is equal to 1.  \n",
    "The value of the partition is |10 - 1| = 9.  \n",
    "It can be proven that 9 is the minimum value out of all partitions.  "
   ]
  },
  {
   "cell_type": "markdown",
   "id": "5f43a135-b833-4346-a660-5e3b6d1184e6",
   "metadata": {},
   "source": [
    "* 解題想法:  \n",
    "題目要求是將list分為兩個，並分別用一邊的最大值減去另一邊的最小值，其實就是要找出排序後的兩個數值之間最小差值為多少，因此將list排序之後，逐個找出差值並取出最小值就是答案"
   ]
  },
  {
   "cell_type": "code",
   "execution_count": null,
   "id": "4a18137f-5d17-4e4f-921c-937a84c7c8cf",
   "metadata": {},
   "outputs": [],
   "source": [
    "class Solution:\n",
    "    def findValueOfPartition(self, nums: List[int]) -> int:\n",
    "        nums.sort()\n",
    "        res = nums[1] - nums[0]\n",
    "        for m in range(len(nums)-1):\n",
    "            res = min(res, nums[m+1]-nums[m])\n",
    "        return res"
   ]
  }
 ],
 "metadata": {
  "kernelspec": {
   "display_name": "Python 3 (ipykernel)",
   "language": "python",
   "name": "python3"
  },
  "language_info": {
   "codemirror_mode": {
    "name": "ipython",
    "version": 3
   },
   "file_extension": ".py",
   "mimetype": "text/x-python",
   "name": "python",
   "nbconvert_exporter": "python",
   "pygments_lexer": "ipython3",
   "version": "3.9.13"
  }
 },
 "nbformat": 4,
 "nbformat_minor": 5
}
