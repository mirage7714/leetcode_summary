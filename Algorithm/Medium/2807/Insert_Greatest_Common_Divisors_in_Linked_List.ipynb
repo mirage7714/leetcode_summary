{
 "cells": [
  {
   "cell_type": "markdown",
   "metadata": {},
   "source": [
    "# 本題要在LinkedList中插入兩個點的GCD (\\#LinkedList)\n",
    "原題目連結: https://leetcode.com/problems/insert-greatest-common-divisors-in-linked-list/description/  \n",
    "\n",
    "Given the head of a linked list head, in which each node contains an integer value.  \n",
    "Between every pair of adjacent nodes, insert a new node with a value equal to the greatest common divisor of them.  \n",
    "Return the linked list after insertion.  \n",
    "The greatest common divisor of two numbers is the largest positive integer that evenly divides both numbers.  \n",
    "\n",
    "範例:  \n",
    "Ex1:  \n",
    "Input: head = [18,6,10,3]  \n",
    "Output: [18,6,6,2,10,1,3]  \n",
    "Explanation: The 1st diagram denotes the initial linked list and the 2nd diagram denotes the linked list after inserting the new nodes (nodes in blue are the inserted nodes).  \n",
    "- We insert the greatest common divisor of 18 and 6 = 6 between the 1st and the 2nd nodes.  \n",
    "- We insert the greatest common divisor of 6 and 10 = 2 between the 2nd and the 3rd nodes.  \n",
    "- We insert the greatest common divisor of 10 and 3 = 1 between the 3rd and the 4th nodes.  \n",
    "There are no more adjacent nodes, so we return the linked list.  \n",
    "\n",
    "Ex2:  \n",
    "Input: head = [7]  \n",
    "Output: [7]  \n",
    "Explanation: The 1st diagram denotes the initial linked list and the 2nd diagram denotes the linked list after inserting the new nodes.  \n",
    "There are no pairs of adjacent nodes, so we return the initial linked list."
   ]
  },
  {
   "cell_type": "markdown",
   "metadata": {},
   "source": [
    "* 解題想法:  \n",
    "首先建立一個函數用來取得GCD，接著建立一個新的LinkedList來做為答案，然後從頭開始進行走訪LinkedList，如果當暫存為空時則把該節點的數值放入暫存中，另外將該node放入LinkedList中，如果有暫存時則先取得GCD後，放入一個值為GCD的節點，並將原本的節點再放入，最後回傳新建立的LinkedList就是答案"
   ]
  },
  {
   "cell_type": "code",
   "execution_count": null,
   "metadata": {},
   "outputs": [],
   "source": [
    "# Definition for singly-linked list.\n",
    "# class ListNode:\n",
    "#     def __init__(self, val=0, next=None):\n",
    "#         self.val = val\n",
    "#         self.next = next\n",
    "class Solution:\n",
    "    def insertGreatestCommonDivisors(self, head: Optional[ListNode]) -> Optional[ListNode]:\n",
    "        def getGCD(num1, num2):\n",
    "            res = 0\n",
    "            if num1 % num2 == 0:\n",
    "                res = num2\n",
    "            else:\n",
    "                while min(num1, num2) > 0:\n",
    "                    num1 = num1 % num2\n",
    "                    if num1 == 0:\n",
    "                        res = num2\n",
    "                    elif num2 > num1:\n",
    "                        t = num1\n",
    "                        num1 = num2\n",
    "                        num2 = t\n",
    "                    elif num2 == num1:\n",
    "                        res = num2\n",
    "                        break\n",
    "            return res\n",
    "        res = ListNode()\n",
    "        temp = res\n",
    "        p = 0\n",
    "        while head:\n",
    "            v = head.val\n",
    "            n = ListNode()\n",
    "            if p == 0:\n",
    "                p = v\n",
    "                n.val = v\n",
    "                temp.next = n\n",
    "                temp = temp.next\n",
    "            else:\n",
    "                g = getGCD(max(p, v), min(p,v))\n",
    "                n.val = g\n",
    "                temp.next = n\n",
    "                temp = temp.next\n",
    "                s = ListNode()\n",
    "                s.val = v\n",
    "                temp.next= s\n",
    "                temp = temp.next\n",
    "                p = v\n",
    "            head = head.next\n",
    "        return res.next"
   ]
  }
 ],
 "metadata": {
  "kernelspec": {
   "display_name": "Python 3",
   "language": "python",
   "name": "python3"
  },
  "language_info": {
   "codemirror_mode": {
    "name": "ipython",
    "version": 3
   },
   "file_extension": ".py",
   "mimetype": "text/x-python",
   "name": "python",
   "nbconvert_exporter": "python",
   "pygments_lexer": "ipython3",
   "version": "3.7.6"
  }
 },
 "nbformat": 4,
 "nbformat_minor": 4
}
