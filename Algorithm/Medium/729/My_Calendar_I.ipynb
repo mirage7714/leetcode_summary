{
 "cells": [
  {
   "cell_type": "markdown",
   "metadata": {},
   "source": [
    "# 本題要建立一個calendar物件，並且測試各種情境下新的行事曆是否能加入\n",
    "原題目連結： https://leetcode.com/problems/my-calendar-i/  \n",
    "\n",
    "Implement a MyCalendar class to store your events. A new event can be added if adding the event will not cause a double booking.  \n",
    "\n",
    "Your class will have the method, book(int start, int end). Formally, this represents a booking on the half open interval [start, end), the range of real numbers x such that start <= x < end.  \n",
    "\n",
    "A double booking happens when two events have some non-empty intersection (ie., there is some time that is common to both events.)  \n",
    "\n",
    "For each call to the method MyCalendar.book, return true if the event can be added to the calendar successfully without causing a double booking. Otherwise, return false and do not add the event to the calendar.  \n",
    "\n",
    "Your class will be called like this: MyCalendar cal = new MyCalendar(); MyCalendar.book(start, end)  \n",
    "\n",
    "範例：  \n",
    "Ex1:  \n",
    "MyCalendar();  \n",
    "MyCalendar.book(10, 20); // returns true  \n",
    "MyCalendar.book(15, 25); // returns false  \n",
    "MyCalendar.book(20, 30); // returns true  \n",
    "Explanation:   \n",
    "The first event can be booked.  The second can't because time 15 is already booked by another event.  \n",
    "The third event can be booked, as the first event takes every time less than 20, but not including 20."
   ]
  },
  {
   "cell_type": "markdown",
   "metadata": {},
   "source": [
    "* 解題想法：  \n",
    "第一次寫這種類型的題目，題目本身不難，只是要建立一個list，並檢查要加入的event是否與現有的事件衝突，如果沒有則回傳true，並加入事件清單中，如果有衝突的話，則回傳false"
   ]
  },
  {
   "cell_type": "code",
   "execution_count": null,
   "metadata": {},
   "outputs": [],
   "source": [
    "class MyCalendar:\n",
    "    \n",
    "    def __init__(self):\n",
    "        self.calendar = []\n",
    "        \n",
    "    def book(self, start: int, end: int) -> bool:\n",
    "        is_available = True\n",
    "        if len(self.calendar) > 0:\n",
    "            for key in self.calendar:\n",
    "                s = key[0]\n",
    "                e = key[1]\n",
    "                \n",
    "                if start < e:\n",
    "                    if end > s:\n",
    "                        is_available = False\n",
    "                        break\n",
    "                elif end < e:\n",
    "                    if start > s:\n",
    "                        is_available = False\n",
    "                        break\n",
    "                elif end > e and end < s:\n",
    "                    is_available = False\n",
    "                    break\n",
    "                \n",
    "        if is_available:\n",
    "            k = [start, end]\n",
    "            self.calendar.append(k) \n",
    "            return is_available\n",
    "\n",
    "# Your MyCalendar object will be instantiated and called as such:\n",
    "# obj = MyCalendar()\n",
    "# param_1 = obj.book(start,end)"
   ]
  }
 ],
 "metadata": {
  "kernelspec": {
   "display_name": "Python 3",
   "language": "python",
   "name": "python3"
  },
  "language_info": {
   "codemirror_mode": {
    "name": "ipython",
    "version": 3
   },
   "file_extension": ".py",
   "mimetype": "text/x-python",
   "name": "python",
   "nbconvert_exporter": "python",
   "pygments_lexer": "ipython3",
   "version": "3.7.6"
  }
 },
 "nbformat": 4,
 "nbformat_minor": 4
}
