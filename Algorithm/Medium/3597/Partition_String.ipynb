{
 "cells": [
  {
   "cell_type": "markdown",
   "id": "6baa31dd-c92d-4390-9502-b0d629ab6b44",
   "metadata": {},
   "source": [
    "# 本題要找出所有出現的不重複子字串有哪些 (\\#String )\n",
    "原題目連結: https://leetcode.com/problems/partition-string/description/  \n",
    "\n",
    "Given a string s, partition it into unique segments according to the following procedure:  \n",
    "Start building a segment beginning at index 0.  \n",
    "Continue extending the current segment character by character until the current segment has not been seen before.  \n",
    "Once the segment is unique, add it to your list of segments, mark it as seen, and begin a new segment from the next index.  \n",
    "Repeat until you reach the end of s.  \n",
    "Return an array of strings segments, where segments[i] is the ith segment created.   \n",
    "\n",
    "範例:  \n",
    "Ex1:   \n",
    "Input: s = \"abbccccd\"  \n",
    "Output: [\"a\",\"b\",\"bc\",\"c\",\"cc\",\"d\"]  \n",
    "Explanation:  \n",
    "\n",
    "| Index | Segment After Adding | Seen Segments |Current Segment Seen Before? | New Segment | Updated Seen Segments|  \n",
    "| --- | --- | --- | --- | --- | ---|  \n",
    "|0 |\"a\" | [] |No |\"\" | [\"a\"] | \n",
    "|1 |\"b\" | [\"a\"] |No |\"\" |[\"a\", \"b\"] |\n",
    "|2 |\"b\" | [\"a\", \"b\"] |Yes | \"b\" | [\"a\", \"b\"] | \n",
    "|3 |\"bc\" |[\"a\", \"b\"] | No | \"\" | [\"a\", \"b\", \"bc\"] | \n",
    "|4 |\"c\" |[\"a\", \"b\", \"bc\"] |No |\"\" |[\"a\", \"b\", \"bc\", \"c\"] |\n",
    "|5 |\"c\" |[\"a\", \"b\", \"bc\", \"c\"] |Yes | \"c\" |[\"a\", \"b\", \"bc\", \"c\"] |\n",
    "|6 |\"cc\" | [\"a\", \"b\", \"bc\", \"c\"] |No |\"\" | [\"a\", \"b\", \"bc\", \"c\", \"cc\"] |  \n",
    "|7 |\"d\" | [\"a\", \"b\", \"bc\", \"c\", \"cc\"] | No |\"\" |[\"a\", \"b\", \"bc\", \"c\", \"cc\", \"d\"] |  \n",
    "\n",
    "Hence, the final output is [\"a\", \"b\", \"bc\", \"c\", \"cc\", \"d\"].  \n",
    "\n",
    "Ex2:  \n",
    "Input: s = \"aaaa\"  \n",
    "Output: [\"a\",\"aa\"]  \n",
    "Explanation:  \n",
    "|Index | Segment After Adding | Seen Segments | Current Segment Seen Before? | New Segment | Updated Seen Segments |\n",
    "| --- | --- | --- | --- | --- | --- |\n",
    "|0 |\"a\" | [] | No |\"\"| [\"a\"] | \n",
    "|1 | \"a\" | [\"a\"] | Yes | \"a\" | [\"a\"] | \n",
    "|2 | \"aa\" | [\"a\"] | No |\"\" | [\"a\", \"aa\"] |\n",
    "|3 | \"a\" | [\"a\", \"aa\"] | Yes | \"a\" |[\"a\", \"aa\"] |\n",
    "\n",
    "Hence, the final output is [\"a\", \"aa\"].  "
   ]
  },
  {
   "cell_type": "markdown",
   "id": "a51e60b7-949d-4b98-86b9-3731c9a99a84",
   "metadata": {},
   "source": [
    "* 解題想法:  \n",
    "首先用一個dict來存放目前出現過的partition，另外用一個變數來存放目前的partition，接著用迴圈檢查，如果這個partition沒有出現過則放入dict中，如果有出現過則更新暫存，最後將dict的key取出就是答案"
   ]
  },
  {
   "cell_type": "code",
   "execution_count": null,
   "id": "0e2502fa-dc19-4f2c-b01c-2c5523a9341d",
   "metadata": {},
   "outputs": [],
   "source": [
    "class Solution:\n",
    "    def partitionString(self, s: str) -> List[str]:\n",
    "        res = {}\n",
    "        temp = ''\n",
    "        for i in s:\n",
    "            if temp + i not in res.keys():\n",
    "                res[temp + i] = 1\n",
    "                temp = ''\n",
    "            else:\n",
    "                temp += i\n",
    "        if temp and temp not in res.keys():\n",
    "            res[temp] = 1\n",
    "        return list(res.keys())"
   ]
  }
 ],
 "metadata": {
  "kernelspec": {
   "display_name": "Python 3 (ipykernel)",
   "language": "python",
   "name": "python3"
  },
  "language_info": {
   "codemirror_mode": {
    "name": "ipython",
    "version": 3
   },
   "file_extension": ".py",
   "mimetype": "text/x-python",
   "name": "python",
   "nbconvert_exporter": "python",
   "pygments_lexer": "ipython3",
   "version": "3.9.13"
  }
 },
 "nbformat": 4,
 "nbformat_minor": 5
}
