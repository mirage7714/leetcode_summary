{
 "cells": [
  {
   "cell_type": "markdown",
   "id": "4d861195-f4f1-4124-a561-cf49fee5d81b",
   "metadata": {},
   "source": [
    "# 本題要找出最大距離為多少 (\\#Array, \\#Greedy )\n",
    "原題目連結: https://leetcode.com/problems/maximum-distance-in-arrays/description/?envType=daily-question&envId=2024-08-16  \n",
    "\n",
    "You are given m arrays, where each array is sorted in ascending order.  \n",
    "You can pick up two integers from two different arrays (each array picks one) and calculate the distance. We define the distance between two integers a and b to be their absolute difference |a - b|.  \n",
    "Return the maximum distance.  \n",
    "\n",
    "範例:  \n",
    "Ex1:  \n",
    "Input: arrays = [[1,2,3],[4,5],[1,2,3]]  \n",
    "Output: 4  \n",
    "Explanation: One way to reach the maximum distance 4 is to pick 1 in the first or third array and pick 5 in the second array.  \n",
    "\n",
    "Ex2:  \n",
    "Input: arrays = [[1],[1]]  \n",
    "Output: 0  "
   ]
  },
  {
   "cell_type": "markdown",
   "id": "1bc556a6-f548-448a-ba2b-73debfe9df20",
   "metadata": {},
   "source": [
    "* 解題想法:  \n",
    "首先將arrays中的最大與最小值分別放入兩個heap中，接著取出最大值與最小值，如果兩個是同一個list中的值，則取出第二大與第二小的數值，並找出兩個組合的最大值就是答案"
   ]
  },
  {
   "cell_type": "code",
   "execution_count": null,
   "id": "42738780-a193-4961-833c-8cff410e2eb3",
   "metadata": {},
   "outputs": [],
   "source": [
    "import heapq\n",
    "\n",
    "class Solution:\n",
    "    def maxDistance(self, arrays: List[List[int]]) -> int:\n",
    "        h = []\n",
    "        t = []\n",
    "        heapq.heapify(h)\n",
    "        heapq.heapify(t)\n",
    "        for i in range(len(arrays)):\n",
    "            a = arrays[i]\n",
    "            heapq.heappush(h, [a[0], i])\n",
    "            heapq.heappush(t, [-a[-1], i])\n",
    "        h1 = heapq.heappop(h)\n",
    "        t1 = heapq.heappop(t)\n",
    "        if h1[1] != t1[1]:\n",
    "            return abs(h1[0] + t1[0])\n",
    "        else:\n",
    "            h2 = heapq.heappop(h)\n",
    "            t2 = heapq.heappop(t)\n",
    "            return max(abs(h2[0] + t1[0]), abs(h1[0]+t2[0]))\n"
   ]
  }
 ],
 "metadata": {
  "kernelspec": {
   "display_name": "Python 3 (ipykernel)",
   "language": "python",
   "name": "python3"
  },
  "language_info": {
   "codemirror_mode": {
    "name": "ipython",
    "version": 3
   },
   "file_extension": ".py",
   "mimetype": "text/x-python",
   "name": "python",
   "nbconvert_exporter": "python",
   "pygments_lexer": "ipython3",
   "version": "3.9.13"
  }
 },
 "nbformat": 4,
 "nbformat_minor": 5
}
