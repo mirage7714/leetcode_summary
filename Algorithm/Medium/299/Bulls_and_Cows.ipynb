{
 "cells": [
  {
   "cell_type": "markdown",
   "metadata": {},
   "source": [
    "# 本題目就是猜幾A幾B的遊戲\n",
    "原題目連結: https://leetcode.com/problems/bulls-and-cows/  \n",
    "\n",
    "You are playing the Bulls and Cows game with your friend.  \n",
    "\n",
    "You write down a secret number and ask your friend to guess what the number is. When your friend makes a guess, you provide a hint with the following info:  \n",
    "\n",
    "The number of \"bulls\", which are digits in the guess that are in the correct position.  \n",
    "The number of \"cows\", which are digits in the guess that are in your secret number but are located in the wrong position.   Specifically, the non-bull digits in the guess that could be rearranged such that they become bulls.  \n",
    "Given the secret number secret and your friend's guess guess, return the hint for your friend's guess.  \n",
    "\n",
    "The hint should be formatted as \"xAyB\", where x is the number of bulls and y is the number of cows. Note that both secret and guess may contain duplicate digits.  \n",
    "\n",
    "範例:  \n",
    "Ex1:  \n",
    "Input: secret = \"1807\", guess = \"7810\"  \n",
    "Output: \"1A3B\"  \n",
    "\n",
    "Ex2:  \n",
    "Input: secret = \"1123\", guess = \"0111\"  \n",
    "Output: \"1A1B\"  \n",
    "\n",
    "Ex3:  \n",
    "Input: secret = \"1\", guess = \"0\"  \n",
    "Output: \"0A0B\"  \n",
    "\n",
    "Ex4:  \n",
    "Input: secret = \"1\", guess = \"1\"\n",
    "Output: \"1A0B\""
   ]
  },
  {
   "cell_type": "markdown",
   "metadata": {},
   "source": [
    "* 解題想法:  \n",
    "這題跟小時候玩的猜幾A幾B其實是相同的問題，首先比較相同的index出現的字母是否相同，如果相同則加1，否則加入另一個list進行暫存  \n",
    "接著比較剩下的list中字元是否有出現，若有出現則用另一個變數去統計，最後將統計結果組成字串回傳"
   ]
  },
  {
   "cell_type": "code",
   "execution_count": null,
   "metadata": {},
   "outputs": [],
   "source": [
    "class Solution:\n",
    "    def getHint(self, secret: str, guess: str) -> str:\n",
    "        match = 0\n",
    "        similar = 0\n",
    "        s = []\n",
    "        g = []\n",
    "        for n in range(len(secret)):\n",
    "            if secret[n] == guess[n]:\n",
    "                match += 1\n",
    "            else:\n",
    "                s.append(secret[n])\n",
    "                g.append(guess[n])\n",
    "        if len(s) > 0:\n",
    "            for m in range(len(s)):\n",
    "                if s[m] in g:\n",
    "                    similar += 1\n",
    "                    g.remove(s[m])\n",
    "        result = '{}A{}B'.format(match, similar)\n",
    "        return result"
   ]
  }
 ],
 "metadata": {
  "kernelspec": {
   "display_name": "Python 3",
   "language": "python",
   "name": "python3"
  },
  "language_info": {
   "codemirror_mode": {
    "name": "ipython",
    "version": 3
   },
   "file_extension": ".py",
   "mimetype": "text/x-python",
   "name": "python",
   "nbconvert_exporter": "python",
   "pygments_lexer": "ipython3",
   "version": "3.7.4"
  }
 },
 "nbformat": 4,
 "nbformat_minor": 2
}
