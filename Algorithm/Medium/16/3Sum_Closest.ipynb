{
 "cells": [
  {
   "cell_type": "markdown",
   "metadata": {},
   "source": [
    "# 本題要找出最接近目標的三個數字和\n",
    "原題目連結: https://leetcode.com/problems/3sum-closest/  \n",
    "\n",
    "Given an integer array nums of length n and an integer target, find three integers in nums such that the sum is closest to target.  \n",
    "Return the sum of the three integers.  \n",
    "You may assume that each input would have exactly one solution.  \n",
    "\n",
    "範例:  \n",
    "Ex1:  \n",
    "Input: nums = [-1,2,1,-4], target = 1  \n",
    "Output: 2  \n",
    "Explanation: The sum that is closest to the target is 2. (-1 + 2 + 1 = 2).  \n",
    "\n",
    "Ex2:  \n",
    "Input: nums = [0,0,0], target = 1  \n",
    "Output: 0"
   ]
  },
  {
   "cell_type": "markdown",
   "metadata": {},
   "source": [
    "* 解題想法:  \n",
    "這題與三數和的題型類似，一樣是使用2 pointer的方式來進行解題，在定義好左右端點之後，另外用一個變數來存放目前的值以及目前與target的最小距離，直到距離為0的時候代表已經沒有最小值了，則直接中斷迴圈，最後回傳目前的最小距離就是答案"
   ]
  },
  {
   "cell_type": "code",
   "execution_count": null,
   "metadata": {},
   "outputs": [],
   "source": [
    "class Solution:\n",
    "    def threeSumClosest(self, nums: List[int], target: int) -> int:\n",
    "        result = 0\n",
    "        temp = inf\n",
    "        nums.sort()\n",
    "        for n in range(len(nums)):\n",
    "            c = nums[n]\n",
    "            i = n+1\n",
    "            j = len(nums)-1\n",
    "            while i < j:\n",
    "                t = nums[i] + nums[j] + c\n",
    "                d = t - target\n",
    "                if abs(t - target) < temp:\n",
    "                    result = t\n",
    "                    temp = abs(d)\n",
    "                if d < 0:\n",
    "                    i += 1\n",
    "                if d > 0:\n",
    "                    j -= 1\n",
    "                if temp == 0:\n",
    "                    result = target\n",
    "                    break\n",
    "        return result"
   ]
  }
 ],
 "metadata": {
  "kernelspec": {
   "display_name": "Python 3",
   "language": "python",
   "name": "python3"
  },
  "language_info": {
   "codemirror_mode": {
    "name": "ipython",
    "version": 3
   },
   "file_extension": ".py",
   "mimetype": "text/x-python",
   "name": "python",
   "nbconvert_exporter": "python",
   "pygments_lexer": "ipython3",
   "version": "3.7.4"
  }
 },
 "nbformat": 4,
 "nbformat_minor": 4
}
