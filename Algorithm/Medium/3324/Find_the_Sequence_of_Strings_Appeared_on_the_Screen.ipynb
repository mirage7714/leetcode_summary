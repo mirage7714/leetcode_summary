{
 "cells": [
  {
   "cell_type": "markdown",
   "id": "2a24d172-4718-4326-950e-6ac96fc9b0a5",
   "metadata": {},
   "source": [
    "# 本題要找出在螢幕上出現的字母順序為何 (\\#String )\n",
    "原題目連結: https://leetcode.com/problems/find-the-sequence-of-strings-appeared-on-the-screen/description/  \n",
    "\n",
    "You are given a string target.  \n",
    "Alice is going to type target on her computer using a special keyboard that has only two keys:  \n",
    "Key 1 appends the character \"a\" to the string on the screen.  \n",
    "Key 2 changes the last character of the string on the screen to its next character in the English alphabet. For example, \"c\" changes to \"d\" and \"z\" changes to \"a\".  \n",
    "Note that initially there is an empty string \"\" on the screen, so she can only press key 1.  \n",
    "Return a list of all strings that appear on the screen as Alice types target, in the order they appear, using the minimum key presses.  \n",
    "\n",
    "範例:  \n",
    "Ex1:  \n",
    "Input: target = \"abc\"  \n",
    "Output: [\"a\",\"aa\",\"ab\",\"aba\",\"abb\",\"abc\"]  \n",
    "Explanation:  \n",
    "The sequence of key presses done by Alice are:  \n",
    "Press key 1, and the string on the screen becomes \"a\".  \n",
    "Press key 1, and the string on the screen becomes \"aa\".  \n",
    "Press key 2, and the string on the screen becomes \"ab\".  \n",
    "Press key 1, and the string on the screen becomes \"aba\".  \n",
    "Press key 2, and the string on the screen becomes \"abb\".  \n",
    "Press key 2, and the string on the screen becomes \"abc\".  \n",
    "\n",
    "Ex2:  \n",
    "Input: target = \"he\"  \n",
    "Output: [\"a\",\"b\",\"c\",\"d\",\"e\",\"f\",\"g\",\"h\",\"ha\",\"hb\",\"hc\",\"hd\",\"he\"]  "
   ]
  },
  {
   "cell_type": "markdown",
   "id": "c25af6f2-b6b1-4849-8d8d-676ef6ab825a",
   "metadata": {},
   "source": [
    "* 解題想法:  \n",
    "用ascii code找出需要按壓的次數，接著從a開始進行記錄出現的字串，並將出現的字串放入list中，最後回傳list就是答案"
   ]
  },
  {
   "cell_type": "code",
   "execution_count": null,
   "id": "381e9d5c-32d1-46fd-ac20-6131f41c221b",
   "metadata": {},
   "outputs": [],
   "source": [
    "class Solution:\n",
    "    def stringSequence(self, target: str) -> List[str]:\n",
    "        res = []\n",
    "        c = ''\n",
    "        for t in target:\n",
    "            d = ord(t) - ord('a')\n",
    "            for i in range(d+1):\n",
    "                res.append(c + chr(ord('a') + i))\n",
    "            c += t\n",
    "        return res "
   ]
  }
 ],
 "metadata": {
  "kernelspec": {
   "display_name": "Python 3 (ipykernel)",
   "language": "python",
   "name": "python3"
  },
  "language_info": {
   "codemirror_mode": {
    "name": "ipython",
    "version": 3
   },
   "file_extension": ".py",
   "mimetype": "text/x-python",
   "name": "python",
   "nbconvert_exporter": "python",
   "pygments_lexer": "ipython3",
   "version": "3.9.13"
  }
 },
 "nbformat": 4,
 "nbformat_minor": 5
}
