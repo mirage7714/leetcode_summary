{
 "cells": [
  {
   "cell_type": "markdown",
   "metadata": {},
   "source": [
    "# 本題要在binary tree中加上一列新的節點 (\\#Binary Tree, \\#BFS)\n",
    "原題目連結: https://leetcode.com/problems/add-one-row-to-tree/  \n",
    "\n",
    "Given the root of a binary tree and two integers val and depth, add a row of nodes with value val at the given depth depth.  \n",
    "Note that the root node is at depth 1.  \n",
    "\n",
    "The adding rule is:  \n",
    "\n",
    "- Given the integer depth, for each not null tree node cur at the depth depth - 1, create two tree nodes with value val as cur's left subtree root and right subtree root.  \n",
    "- cur's original left subtree should be the left subtree of the new left subtree root.  \n",
    "- cur's original right subtree should be the right subtree of the new right subtree root.  \n",
    "- If depth == 1 that means there is no depth depth - 1 at all, then create a tree node with value val as the new root of the whole original tree, and the original tree is the new root's left subtree.  \n",
    "\n",
    "範例:  \n",
    "Ex1:  \n",
    "Input: root = [4,2,6,3,1,5], val = 1, depth = 2  \n",
    "Output: [4,1,1,2,null,null,6,3,1,5]  \n",
    "\n",
    "Ex2:  \n",
    "Input: root = [4,2,null,3,1], val = 1, depth = 3  \n",
    "Output: [4,2,null,1,1,3,null,null,1]"
   ]
  },
  {
   "cell_type": "markdown",
   "metadata": {},
   "source": [
    "* 解題想法:  \n",
    "首先檢查要加入的層數是否為1，如果為1的話，則需要另外新增一個節點，並把原有的樹作為左節點放入就是結果，如果不為1的話，則需要使用BFS逐層進行走訪，當找到要加入的那一層時，將新的節點加入樹中，最後回傳完成的樹"
   ]
  },
  {
   "cell_type": "code",
   "execution_count": null,
   "metadata": {},
   "outputs": [],
   "source": [
    "# Definition for a binary tree node.\n",
    "# class TreeNode:\n",
    "#     def __init__(self, val=0, left=None, right=None):\n",
    "#         self.val = val\n",
    "#         self.left = left\n",
    "#         self.right = right\n",
    "class Solution:\n",
    "    def addOneRow(self, root: TreeNode, v: int, d: int) -> TreeNode:\n",
    "        result = root\n",
    "        if d != 1:\n",
    "            if result:\n",
    "                stack = [result]\n",
    "                level = 1\n",
    "                while stack:\n",
    "                    node = []\n",
    "                    is_target = True if level == d -1 else False\n",
    "                    for s in stack:\n",
    "                        if is_target:\n",
    "                            l = TreeNode()\n",
    "                            r = TreeNode()\n",
    "                            l.val = r.val = v\n",
    "                            if s.left:\n",
    "                                l.left = s.left\n",
    "                            if s.right:\n",
    "                                r.right = s.right\n",
    "                            s.left = l\n",
    "                            s.right = r\n",
    "\n",
    "                        else:\n",
    "                            if s.left:\n",
    "                                node.append(s.left)\n",
    "                            if s.right:\n",
    "                                node.append(s.right)\n",
    "                    if is_target:\n",
    "                        return root\n",
    "                    stack.clear()\n",
    "                    stack += node\n",
    "                    level += 1\n",
    "            return root\n",
    "        else:\n",
    "            n = TreeNode()\n",
    "            n.val = v\n",
    "            n.left = result\n",
    "            return n"
   ]
  }
 ],
 "metadata": {
  "kernelspec": {
   "display_name": "Python 3",
   "language": "python",
   "name": "python3"
  },
  "language_info": {
   "codemirror_mode": {
    "name": "ipython",
    "version": 3
   },
   "file_extension": ".py",
   "mimetype": "text/x-python",
   "name": "python",
   "nbconvert_exporter": "python",
   "pygments_lexer": "ipython3",
   "version": "3.7.4"
  }
 },
 "nbformat": 4,
 "nbformat_minor": 4
}
