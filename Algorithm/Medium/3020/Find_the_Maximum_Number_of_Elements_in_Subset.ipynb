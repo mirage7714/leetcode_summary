{
 "cells": [
  {
   "cell_type": "markdown",
   "id": "2faed91c-a02f-4b96-9b2e-60e89a8f21eb",
   "metadata": {},
   "source": [
    "# 本題要找出符合條件的最長list為多少 (\\#Array, \\#BinarySearch, \\#HashMap )\n",
    "原題目連結: https://leetcode.com/problems/find-the-maximum-number-of-elements-in-subset/description/  \n",
    "\n",
    "You are given an array of positive integers nums.  \n",
    "You need to select a subset of nums which satisfies the following condition:  \n",
    "\n",
    "You can place the selected elements in a 0-indexed array such that it follows the pattern: [x, x2, x4, ..., xk/2, xk, xk/2, ..., x4, x2, x] (Note that k can be be any non-negative power of 2). For example, [2, 4, 16, 4, 2] and [3, 9, 3] follow the pattern while [2, 4, 8, 4, 2] does not.  \n",
    "Return the maximum number of elements in a subset that satisfies these conditions.  \n",
    "\n",
    "範例:  \n",
    "Ex1:  \n",
    "Input: nums = [5,4,1,2,2]  \n",
    "Output: 3  \n",
    "Explanation: We can select the subset {4,2,2}, which can be placed in the array as [2,4,2] which follows the pattern and 22 == 4. Hence the answer is 3.  \n",
    "\n",
    "Ex2:  \n",
    "Input: nums = [1,3,2,4]  \n",
    "Output: 1  \n",
    "Explanation: We can select the subset {1}, which can be placed in the array as [1] which follows the pattern. Hence the answer is 1. Note that we could have also selected the subsets {2}, {4}, or {3}, there may be multiple subsets which provide the same answer."
   ]
  },
  {
   "cell_type": "markdown",
   "id": "d4055ad7-acd9-49e0-bee4-f2ab88d46219",
   "metadata": {},
   "source": [
    "* 解題想法:  \n",
    "首先用dict統計每個數字出現的次數，接著用key值開始找出符合條件的list，例外的情況是1，因為1會符合所有的條件，因此需要另外計算，最後回傳最長的list長度"
   ]
  },
  {
   "cell_type": "code",
   "execution_count": null,
   "id": "e0c5a092-4aa6-479d-8770-1cd18d52b20b",
   "metadata": {},
   "outputs": [],
   "source": [
    "class Solution:\n",
    "    def maximumLength(self, nums: List[int]) -> int:\n",
    "        def search(nums, l, r, target):\n",
    "            m = (l + r) // 2\n",
    "            if nums[m] == target:\n",
    "                return True\n",
    "            if l > r:\n",
    "                return False\n",
    "            if nums[m] > target:\n",
    "                return search(nums, l,m-1, target)\n",
    "            elif nums[m] < target:\n",
    "                return search(nums, m+1, r, target)\n",
    "        \n",
    "        count = {}\n",
    "        for n in nums:\n",
    "            if n not in count.keys():\n",
    "                count[n] = 0\n",
    "            count[n] += 1\n",
    "\n",
    "        res = 0\n",
    "        temp = []\n",
    "        keys = list(count.keys())\n",
    "        keys.sort()\n",
    "        for i in keys:\n",
    "            if i == 1:\n",
    "                if count[1] % 2 == 0:\n",
    "                    res = max(res, count[1] -1)\n",
    "                else:\n",
    "                    res = max(res, count[1])\n",
    "            else: \n",
    "                temp.append(i)\n",
    "                while count[temp[-1]] > 1:\n",
    "                    n = temp[-1] ** 2\n",
    "                    if search(keys, keys.index(temp[-1])+1, len(keys)-1, n):\n",
    "                        temp.append(n)\n",
    "                    else:\n",
    "                        break\n",
    "                res = max(res, len(temp) * 2 -1)\n",
    "                temp.clear()\n",
    "        return res"
   ]
  }
 ],
 "metadata": {
  "kernelspec": {
   "display_name": "Python 3 (ipykernel)",
   "language": "python",
   "name": "python3"
  },
  "language_info": {
   "codemirror_mode": {
    "name": "ipython",
    "version": 3
   },
   "file_extension": ".py",
   "mimetype": "text/x-python",
   "name": "python",
   "nbconvert_exporter": "python",
   "pygments_lexer": "ipython3",
   "version": "3.9.13"
  }
 },
 "nbformat": 4,
 "nbformat_minor": 5
}
