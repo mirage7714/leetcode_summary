{
 "cells": [
  {
   "cell_type": "markdown",
   "metadata": {},
   "source": [
    "# 本題要將指定的list重新進行排序\n",
    "原題目連結: https://leetcode.com/problems/partition-array-according-to-given-pivot/  \n",
    "\n",
    "You are given a 0-indexed integer array nums and an integer pivot. Rearrange nums such that the following conditions are satisfied:  \n",
    "\n",
    "Every element less than pivot appears before every element greater than pivot.  \n",
    "Every element equal to pivot appears in between the elements less than and greater than pivot.  \n",
    "The relative order of the elements less than pivot and the elements greater than pivot is maintained.  \n",
    "More formally, consider every pi, pj where pi is the new position of the ith element and pj is the new position of the jth element. For elements less than pivot, if i < j and nums[i] < pivot and nums[j] < pivot, then pi < pj. Similarly for elements greater than pivot, if i < j and nums[i] > pivot and nums[j] > pivot, then pi < pj.  \n",
    "Return nums after the rearrangement.  \n",
    "\n",
    "範例:  \n",
    "Ex1:  \n",
    "Input: nums = [9,12,5,10,14,3,10], pivot = 10  \n",
    "Output: [9,5,3,10,10,12,14]  \n",
    "Explanation:   \n",
    "The elements 9, 5, and 3 are less than the pivot so they are on the left side of the array.  \n",
    "The elements 12 and 14 are greater than the pivot so they are on the right side of the array.  \n",
    "The relative ordering of the elements less than and greater than pivot is also maintained. [9, 5, 3] and [12, 14] are the respective orderings.  \n",
    "\n",
    "Ex2:  \n",
    "Input: nums = [-3,4,3,2], pivot = 2  \n",
    "Output: [-3,2,4,3]  \n",
    "Explanation:   \n",
    "The element -3 is less than the pivot so it is on the left side of the array.  \n",
    "The elements 4 and 3 are greater than the pivot so they are on the right side of the array.  \n",
    "The relative ordering of the elements less than and greater than pivot is also maintained. [-3] and [4, 3] are the respective orderings."
   ]
  },
  {
   "cell_type": "markdown",
   "metadata": {},
   "source": [
    "* 解題想法:  \n",
    "首先建立三個list，分別對應大於、等於、小於，接著逐個判斷數字與對應值的大小關係，最後將三個list加起來就是題目要找的答案"
   ]
  },
  {
   "cell_type": "code",
   "execution_count": null,
   "metadata": {},
   "outputs": [],
   "source": [
    "class Solution:\n",
    "    def pivotArray(self, nums: List[int], pivot: int) -> List[int]:\n",
    "        less = []\n",
    "        equal = []\n",
    "        more = []\n",
    "        for num in nums:\n",
    "            if num < pivot:\n",
    "                less.append(num)\n",
    "            elif num > pivot:\n",
    "                more.append(num)\n",
    "            else:\n",
    "                equal.append(num)\n",
    "        return less + equal + more"
   ]
  }
 ],
 "metadata": {
  "kernelspec": {
   "display_name": "Python 3",
   "language": "python",
   "name": "python3"
  },
  "language_info": {
   "codemirror_mode": {
    "name": "ipython",
    "version": 3
   },
   "file_extension": ".py",
   "mimetype": "text/x-python",
   "name": "python",
   "nbconvert_exporter": "python",
   "pygments_lexer": "ipython3",
   "version": "3.7.6"
  }
 },
 "nbformat": 4,
 "nbformat_minor": 4
}
