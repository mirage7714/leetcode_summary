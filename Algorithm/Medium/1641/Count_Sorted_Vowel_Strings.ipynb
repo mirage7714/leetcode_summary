{
 "cells": [
  {
   "cell_type": "markdown",
   "metadata": {},
   "source": [
    "# 本題要找出共有幾種母音的組合\n",
    "原題目連結： https://leetcode.com/problems/count-sorted-vowel-strings/  \n",
    "\n",
    "Given an integer n, return the number of strings of length n that consist only of vowels (a, e, i, o, u) and are lexicographically sorted.  \n",
    "\n",
    "A string s is lexicographically sorted if for all valid i, s[i] is the same as or comes before s[i+1] in the alphabet.  \n",
    "範例：  \n",
    "Ex1:  \n",
    "Input: n = 1  \n",
    "Output: 5  \n",
    "Explanation: The 5 sorted strings that consist of vowels only are [\"a\",\"e\",\"i\",\"o\",\"u\"].  \n",
    "\n",
    "Ex2:  \n",
    "Input: n = 2  \n",
    "Output: 15  \n",
    "Explanation: The 15 sorted strings that consist of vowels only are  \n",
    "[\"aa\",\"ae\",\"ai\",\"ao\",\"au\",\"ee\",\"ei\",\"eo\",\"eu\",\"ii\",\"io\",\"iu\",\"oo\",\"ou\",\"uu\"].  \n",
    "Note that \"ea\" is not a valid string since 'e' comes after 'a' in the alphabet.  \n",
    "\n",
    "Ex3:  \n",
    "Input: n = 33  \n",
    "Output: 66045"
   ]
  },
  {
   "cell_type": "markdown",
   "metadata": {},
   "source": [
    "* 解題想法：  \n",
    "由於題目要找出在n層的時候共會有幾種組合，從組合的數字中可以發現以下的邏輯：  \n",
    "在n=2時: 5 + 4 + 3 + 2 + 1  \n",
    "在n=3時: 15 + 10 + 6 + 3 + 1  \n",
    "可以看出a的和為5+4+3+2+1  \n",
    "而e的和為4+3+2+1  \n",
    "i的和為3+2+1  \n",
    "o的和為2+1  \n",
    "u的和為1  \n",
    "\n",
    "因此可以看成在第n層時，是由n-1層的數字進行組合\n",
    "因此將第n層數字加入後，再將n-1層的數字刪除"
   ]
  },
  {
   "cell_type": "code",
   "execution_count": null,
   "metadata": {},
   "outputs": [],
   "source": [
    "class Solution:\n",
    "    def countVowelStrings(self, n: int) -> int:\n",
    "        original = [5,4,3,2,1]\n",
    "        total = 0\n",
    "        if n > 2:\n",
    "            for m in range(2, n):\n",
    "                for l in range(len(original)):\n",
    "                    count = 0\n",
    "                    temp = original[l:5]\n",
    "                    for t in temp:\n",
    "                        count += t\n",
    "                    original.append(count)\n",
    "                for a in range(5):\n",
    "                    original.pop(0)\n",
    "            for o in original:\n",
    "                total += o\n",
    "        elif n == 2:\n",
    "            total = 15\n",
    "        elif n == 1:\n",
    "            total = 5\n",
    "        return total"
   ]
  }
 ],
 "metadata": {
  "kernelspec": {
   "display_name": "Python 3",
   "language": "python",
   "name": "python3"
  },
  "language_info": {
   "codemirror_mode": {
    "name": "ipython",
    "version": 3
   },
   "file_extension": ".py",
   "mimetype": "text/x-python",
   "name": "python",
   "nbconvert_exporter": "python",
   "pygments_lexer": "ipython3",
   "version": "3.7.6"
  }
 },
 "nbformat": 4,
 "nbformat_minor": 4
}
