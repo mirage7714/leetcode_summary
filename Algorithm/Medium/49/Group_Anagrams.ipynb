{
 "cells": [
  {
   "cell_type": "markdown",
   "metadata": {},
   "source": [
    "# 本題要利用每個詞中出現的字母數來進行分類\n",
    "原題目連結: https://leetcode.com/problems/group-anagrams/  \n",
    "\n",
    "Given an array of strings strs, group the anagrams together. You can return the answer in any order.  \n",
    "\n",
    "An Anagram is a word or phrase formed by rearranging the letters of a different word or phrase, typically using all the original letters exactly once.  \n",
    "\n",
    "範例:  \n",
    "Ex1:  \n",
    "Input: strs = [\"eat\",\"tea\",\"tan\",\"ate\",\"nat\",\"bat\"]  \n",
    "Output: [[\"bat\"],[\"nat\",\"tan\"],[\"ate\",\"eat\",\"tea\"]]  \n",
    "\n",
    "Ex2:  \n",
    "Input: strs = [\"\"]  \n",
    "Output: [[\"\"]]  \n",
    "\n",
    "Ex3:  \n",
    "Input: strs = [\"a\"]  \n",
    "Output: [[\"a\"]]"
   ]
  },
  {
   "cell_type": "markdown",
   "metadata": {},
   "source": [
    "* 解題想法:  \n",
    "首先對每個提供的字統計每個字母出現的次數，接著將這個統計作為key值放入另一個dict中進行統計，最後將value值轉換為list後回傳就是結果"
   ]
  },
  {
   "cell_type": "code",
   "execution_count": null,
   "metadata": {},
   "outputs": [],
   "source": [
    "class Solution:\n",
    "    def groupAnagrams(self, strs: List[str]) -> List[List[str]]:\n",
    "        freq = {}\n",
    "        for s in strs:\n",
    "            count = {}\n",
    "            for n in s:\n",
    "                if n not in count.keys():\n",
    "                    count[n] = 1\n",
    "                else:\n",
    "                    count[n] += 1\n",
    "            key = tuple(sorted(count.items()))\n",
    "            if key not in freq.keys():\n",
    "                freq[key] = [s]\n",
    "            else:\n",
    "                freq[key].append(s)\n",
    "        val = list(freq.values())\n",
    "        return val"
   ]
  }
 ],
 "metadata": {
  "kernelspec": {
   "display_name": "Python 3",
   "language": "python",
   "name": "python3"
  },
  "language_info": {
   "codemirror_mode": {
    "name": "ipython",
    "version": 3
   },
   "file_extension": ".py",
   "mimetype": "text/x-python",
   "name": "python",
   "nbconvert_exporter": "python",
   "pygments_lexer": "ipython3",
   "version": "3.7.4"
  }
 },
 "nbformat": 4,
 "nbformat_minor": 2
}
