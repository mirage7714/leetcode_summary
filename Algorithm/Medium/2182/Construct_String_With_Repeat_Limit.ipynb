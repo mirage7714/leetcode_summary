{
 "cells": [
  {
   "cell_type": "markdown",
   "metadata": {},
   "source": [
    "# 本題要在符合重複次數的限制下組合出最大的字串\n",
    "原題目連結: https://leetcode.com/problems/construct-string-with-repeat-limit/  \n",
    "\n",
    "You are given a string s and an integer repeatLimit. Construct a new string repeatLimitedString using the characters of s such that no letter appears more than repeatLimit times in a row. You do not have to use all characters from s.  \n",
    "\n",
    "Return the lexicographically largest repeatLimitedString possible.  \n",
    "\n",
    "A string a is lexicographically larger than a string b if in the first position where a and b differ, string a has a letter that appears later in the alphabet than the corresponding letter in b. If the first min(a.length, b.length) characters do not differ, then the longer string is the lexicographically larger one.  \n",
    "\n",
    "範例:  \n",
    "Ex1:  \n",
    "Input: s = \"cczazcc\", repeatLimit = 3  \n",
    "Output: \"zzcccac\"  \n",
    "Explanation: We use all of the characters from s to construct the repeatLimitedString \"zzcccac\".  \n",
    "The letter 'a' appears at most 1 time in a row.  \n",
    "The letter 'c' appears at most 3 times in a row.  \n",
    "The letter 'z' appears at most 2 times in a row.  \n",
    "Hence, no letter appears more than repeatLimit times in a row and the string is a valid repeatLimitedString.  \n",
    "The string is the lexicographically largest repeatLimitedString possible so we return \"zzcccac\".  \n",
    "Note that the string \"zzcccca\" is lexicographically larger but the letter 'c' appears more than 3 times in a row, so it is not a valid repeatLimitedString.  \n",
    "\n",
    "Ex2:  \n",
    "Input: s = \"aababab\", repeatLimit = 2  \n",
    "Output: \"bbabaa\"  \n",
    "Explanation: We use only some of the characters from s to construct the repeatLimitedString \"bbabaa\".   \n",
    "The letter 'a' appears at most 2 times in a row.  \n",
    "The letter 'b' appears at most 2 times in a row.  \n",
    "Hence, no letter appears more than repeatLimit times in a row and the string is a valid repeatLimitedString.  \n",
    "The string is the lexicographically largest repeatLimitedString possible so we return \"bbabaa\".  \n",
    "Note that the string \"bbabaaa\" is lexicographically larger but the letter 'a' appears more than 2 times in a row, so it is not a valid repeatLimitedString."
   ]
  },
  {
   "cell_type": "markdown",
   "metadata": {},
   "source": [
    "* 解題想法:  \n",
    "首先用一個dict，將所有的字母出現次數進行統計，接著將dict的key值取出後進行排序，並由最大的前兩個字母開始取:  \n",
    "- 如果最大的字母出現次數大於重複次數，則取出後須加上第二大的字母  \n",
    "- 如果最大的字母出現次數小於或等於重複次數，則取出後不須加上第二大的字母  \n",
    "當取出後需要將使用過的次數扣除，包括最大與第二大的字母，直到最後所有的字母都用完，或是只剩一個字母但已經達到重複上限時則中斷迴圈"
   ]
  },
  {
   "cell_type": "code",
   "execution_count": null,
   "metadata": {},
   "outputs": [],
   "source": [
    "class Solution:\n",
    "    def repeatLimitedString(self, s: str, repeatLimit: int) -> str:\n",
    "        result = ''\n",
    "        chars = {}\n",
    "        for m in s:\n",
    "            if m not in chars.keys():\n",
    "                chars[m] = 1\n",
    "            else:\n",
    "                chars[m] += 1\n",
    "        keys = list(chars.keys())\n",
    "        keys.sort(reverse = True)\n",
    "        while True:\n",
    "            if len(keys) > 0:\n",
    "                k = keys[0]\n",
    "                l = 0\n",
    "                if chars[k] >= repeatLimit:\n",
    "                    l = repeatLimit\n",
    "                else:\n",
    "                    l = chars[k]\n",
    "                chars[k] -= l\n",
    "                for m in range(l):\n",
    "                    result += keys[0]\n",
    "                if chars[k] > 0:\n",
    "                    if len(keys) > 1:\n",
    "                        result += keys[1]\n",
    "                        chars[keys[1]] -= 1\n",
    "                        if chars[keys[1]] == 0:\n",
    "                            keys.pop(1)\n",
    "                    else:\n",
    "                        break\n",
    "                if chars[k] == 0:\n",
    "                    keys.pop(0)\n",
    "            else:\n",
    "                break\n",
    "        return result"
   ]
  }
 ],
 "metadata": {
  "kernelspec": {
   "display_name": "Python 3",
   "language": "python",
   "name": "python3"
  },
  "language_info": {
   "codemirror_mode": {
    "name": "ipython",
    "version": 3
   },
   "file_extension": ".py",
   "mimetype": "text/x-python",
   "name": "python",
   "nbconvert_exporter": "python",
   "pygments_lexer": "ipython3",
   "version": "3.7.4"
  }
 },
 "nbformat": 4,
 "nbformat_minor": 4
}
