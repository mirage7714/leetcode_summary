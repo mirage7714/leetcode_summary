{
 "cells": [
  {
   "cell_type": "markdown",
   "metadata": {},
   "source": [
    "# 本題要找出指定的人可以坐的最小位置為何 (\\#Heap, \\#Array)\n",
    "原題目連結: https://leetcode.com/problems/the-number-of-the-smallest-unoccupied-chair/description/  \n",
    "\n",
    "There is a party where n friends numbered from 0 to n - 1 are attending. There is an infinite number of chairs in this party that are numbered from 0 to infinity. When a friend arrives at the party, they sit on the unoccupied chair with the smallest number.  \n",
    "\n",
    "For example, if chairs 0, 1, and 5 are occupied when a friend comes, they will sit on chair number 2.  \n",
    "When a friend leaves the party, their chair becomes unoccupied at the moment they leave. If another friend arrives at that same moment, they can sit in that chair.  \n",
    "\n",
    "You are given a 0-indexed 2D integer array times where times[i] = [arrivali, leavingi], indicating the arrival and leaving times of the ith friend respectively, and an integer targetFriend. All arrival times are distinct.  \n",
    "\n",
    "Return the chair number that the friend numbered targetFriend will sit on.  \n",
    "\n",
    "範例:  \n",
    "Ex1:  \n",
    "Input: times = [[1,4],[2,3],[4,6]], targetFriend = 1  \n",
    "Output: 1  \n",
    "Explanation:   \n",
    "- Friend 0 arrives at time 1 and sits on chair 0.  \n",
    "- Friend 1 arrives at time 2 and sits on chair 1.  \n",
    "- Friend 1 leaves at time 3 and chair 1 becomes empty.  \n",
    "- Friend 0 leaves at time 4 and chair 0 becomes empty.  \n",
    "- Friend 2 arrives at time 4 and sits on chair 0.  \n",
    "Since friend 1 sat on chair 1, we return 1.   \n",
    "\n",
    "Ex2:  \n",
    "Input: times = [[3,10],[1,5],[2,6]], targetFriend = 0  \n",
    "Output: 2  \n",
    "Explanation:   \n",
    "- Friend 1 arrives at time 1 and sits on chair 0.  \n",
    "- Friend 2 arrives at time 2 and sits on chair 1.  \n",
    "- Friend 0 arrives at time 3 and sits on chair 2.  \n",
    "- Friend 1 leaves at time 5 and chair 0 becomes empty.  \n",
    "- Friend 2 leaves at time 6 and chair 1 becomes empty.  \n",
    "- Friend 0 leaves at time 10 and chair 2 becomes empty.  \n",
    "Since friend 0 sat on chair 2, we return 2."
   ]
  },
  {
   "cell_type": "markdown",
   "metadata": {},
   "source": [
    "* 解題想法:  \n",
    "首先用到達結束時間加上index之後放入heap，接著從頭開始取出並用dict來存放目前每個座位是否有人，如果該位置的離開時間小於或等於下一個人到達的時間，則將該座位更新為下一個人，如果都沒有合適的位置則放入新的一個座位，如果是目標的使用者，則回傳座位號碼就是答案"
   ]
  },
  {
   "cell_type": "code",
   "execution_count": null,
   "metadata": {},
   "outputs": [],
   "source": [
    "import heapq\n",
    "\n",
    "class Solution:\n",
    "    def smallestChair(self, times: List[List[int]], targetFriend: int) -> int:  \n",
    "        temp = []\n",
    "        heapq.heapify(temp)\n",
    "        s = 0\n",
    "        empty = {}\n",
    "        for t in range(len(times)):\n",
    "            m = times[t]+ [t]\n",
    "            heapq.heappush(temp, m)\n",
    "        while temp:\n",
    "            n = heapq.heappop(temp)\n",
    "            is_available = False\n",
    "            is_target = False\n",
    "            if n[2] == targetFriend:\n",
    "                is_target = True\n",
    "            if s:\n",
    "                for i in range(s):\n",
    "                    if empty[i] <= n[0]:\n",
    "                        empty[i] = n[1]\n",
    "                        is_available = True\n",
    "                        if is_target:\n",
    "                            return i\n",
    "                        break\n",
    "            if not is_available:\n",
    "                empty[s] = n[1]\n",
    "                if is_target:\n",
    "                    return s\n",
    "                s += 1"
   ]
  }
 ],
 "metadata": {
  "kernelspec": {
   "display_name": "Python 3",
   "language": "python",
   "name": "python3"
  },
  "language_info": {
   "codemirror_mode": {
    "name": "ipython",
    "version": 3
   },
   "file_extension": ".py",
   "mimetype": "text/x-python",
   "name": "python",
   "nbconvert_exporter": "python",
   "pygments_lexer": "ipython3",
   "version": "3.7.6"
  }
 },
 "nbformat": 4,
 "nbformat_minor": 4
}
