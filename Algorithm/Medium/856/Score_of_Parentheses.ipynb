{
 "cells": [
  {
   "cell_type": "markdown",
   "metadata": {},
   "source": [
    "# 本題要計算出最後的總分為多少 (\\#Stack, \\#String)\n",
    "原題目連結: https://leetcode.com/problems/score-of-parentheses/  \n",
    "\n",
    "Given a balanced parentheses string s, return the score of the string.  \n",
    "The score of a balanced parentheses string is based on the following rule:  \n",
    "\n",
    "\"()\" has score 1.  \n",
    "AB has score A + B, where A and B are balanced parentheses strings.  \n",
    "(A) has score 2 * A, where A is a balanced parentheses string.  \n",
    "\n",
    "範例:  \n",
    "Ex1:  \n",
    "Input: s = \"()\"  \n",
    "Output: 1  \n",
    "\n",
    "Ex2:  \n",
    "Input: s = \"(())\"  \n",
    "Output: 2  \n",
    "\n",
    "Ex3:  \n",
    "Input: s = \"()()\"  \n",
    "Output: 2"
   ]
  },
  {
   "cell_type": "markdown",
   "metadata": {},
   "source": [
    "* 解題想法:  \n",
    "首先用一個list來存放目前有多少的左括號以及數字，接著用迴圈開始分析字串，如果出現的是左括號則直接放入list中，如果出現的是右括號，則從list最後開始取值出來，如果是數字則進行加總，如果是左括號則檢查加總值是否為0，如果為0則放入1到list中(條件一)，如果不為0則乘2後放入list中(條件三)，最後對list中的所有數字進行加總就是答案"
   ]
  },
  {
   "cell_type": "code",
   "execution_count": null,
   "metadata": {},
   "outputs": [],
   "source": [
    "class Solution:\n",
    "    def scoreOfParentheses(self, s: str) -> int:\n",
    "        count = 0\n",
    "        stack = []\n",
    "        for n in s:\n",
    "            if n == '(':\n",
    "                stack.append('(')\n",
    "            else:\n",
    "                temp = 0\n",
    "                while stack[-1] != '(':\n",
    "                    temp += int(stack.pop())\n",
    "                stack.pop()\n",
    "                if temp == 0:\n",
    "                    stack.append(str(1))\n",
    "                else:\n",
    "                    stack.append(str(2 *temp))\n",
    "        for s in stack:\n",
    "            count += int(s)\n",
    "        return count"
   ]
  }
 ],
 "metadata": {
  "kernelspec": {
   "display_name": "Python 3",
   "language": "python",
   "name": "python3"
  },
  "language_info": {
   "codemirror_mode": {
    "name": "ipython",
    "version": 3
   },
   "file_extension": ".py",
   "mimetype": "text/x-python",
   "name": "python",
   "nbconvert_exporter": "python",
   "pygments_lexer": "ipython3",
   "version": "3.7.4"
  }
 },
 "nbformat": 4,
 "nbformat_minor": 4
}
