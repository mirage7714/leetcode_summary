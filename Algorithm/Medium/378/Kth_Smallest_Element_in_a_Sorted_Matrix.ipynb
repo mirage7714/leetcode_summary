{
 "cells": [
  {
   "cell_type": "markdown",
   "metadata": {},
   "source": [
    "# 本題要找出matrix中第K個小的值為何\n",
    "原題目連結: https://leetcode.com/problems/kth-smallest-element-in-a-sorted-matrix/  \n",
    "\n",
    "Given an n x n matrix where each of the rows and columns is sorted in ascending order, return the kth smallest element in the matrix.  \n",
    "Note that it is the kth smallest element in the sorted order, not the kth distinct element.  \n",
    "You must find a solution with a memory complexity better than O(n2).  \n",
    "\n",
    "範例:  \n",
    "Ex1:  \n",
    "Input: matrix = [[1,5,9],[10,11,13],[12,13,15]], k = 8  \n",
    "Output: 13  \n",
    "Explanation: The elements in the matrix are [1,5,9,10,11,12,13,13,15], and the 8th smallest number is 13  \n",
    "\n",
    "Ex2:  \n",
    "Input: matrix = [[-5]], k = 1  \n",
    "Output: -5"
   ]
  },
  {
   "cell_type": "markdown",
   "metadata": {},
   "source": [
    "* 解題想法:  \n",
    "雖然這題是分類在heap下，不過用list也是可以進行解題: 首先用一個while迴圈來進行，並檢查matrix中每個list第一個值與目前最小值的比較，當找出這輪的最小值之後，將這個數值從該list中移除，直到找到第k個值為止"
   ]
  },
  {
   "cell_type": "code",
   "execution_count": null,
   "metadata": {},
   "outputs": [],
   "source": [
    "class Solution:\n",
    "    def kthSmallest(self, matrix: List[List[int]], k: int) -> int:\n",
    "        result = 0\n",
    "        while k:\n",
    "            i = 0\n",
    "            temp = matrix[0][0]\n",
    "            for m in range(1, len(matrix)):\n",
    "                if matrix[m][0] < temp:\n",
    "                    temp = matrix[m][0]\n",
    "                    i = m\n",
    "            matrix[i].pop(0)\n",
    "            result = temp\n",
    "            k -= 1\n",
    "            if len(matrix[i]) == 0:\n",
    "                matrix.pop(i)\n",
    "        return result"
   ]
  }
 ],
 "metadata": {
  "kernelspec": {
   "display_name": "Python 3",
   "language": "python",
   "name": "python3"
  },
  "language_info": {
   "codemirror_mode": {
    "name": "ipython",
    "version": 3
   },
   "file_extension": ".py",
   "mimetype": "text/x-python",
   "name": "python",
   "nbconvert_exporter": "python",
   "pygments_lexer": "ipython3",
   "version": "3.7.4"
  }
 },
 "nbformat": 4,
 "nbformat_minor": 4
}
