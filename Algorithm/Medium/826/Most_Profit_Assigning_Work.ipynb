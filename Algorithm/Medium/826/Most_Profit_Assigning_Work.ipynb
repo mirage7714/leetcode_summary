{
 "cells": [
  {
   "cell_type": "markdown",
   "metadata": {},
   "source": [
    "# 本題要找出計算最大的利潤為和\n",
    "原題目連結: https://leetcode.com/problems/most-profit-assigning-work/  \n",
    "\n",
    "We have jobs: difficulty[i] is the difficulty of the ith job, and profit[i] is the profit of the ith job.   \n",
    "\n",
    "Now we have some workers. worker[i] is the ability of the ith worker, which means that this worker can only complete a job with difficulty at most worker[i].   \n",
    "\n",
    "Every worker can be assigned at most one job, but one job can be completed multiple times.  \n",
    "\n",
    "For example, if 3 people attempt the same job that pays $1, then the total profit will be $3.  If a worker cannot complete any job, his profit is $0.  \n",
    "\n",
    "What is the most profit we can make?  \n",
    "\n",
    "範例:  \n",
    "Ex1:  \n",
    "Input: difficulty = [2,4,6,8,10], profit = [10,20,30,40,50], worker = [4,5,6,7]  \n",
    "Output: 100   \n",
    "Explanation: Workers are assigned jobs of difficulty [4,4,6,6] and they get profit of [20,20,30,30] seperately.  "
   ]
  },
  {
   "cell_type": "markdown",
   "metadata": {},
   "source": [
    "* 解題想法:  \n",
    "嘗試了幾種方法，以下是各種方法的心得:  \n",
    "- 將difficulty與profit使用一個dict來建立mapping，並將每個difficulty能產生的最大profit補上 -- 結果Time Limit Exceeded   \n",
    "- 將difficulty與profit用zip方式組成list，並使用for迴圈來檢查每個worker可以拿到的最高profit -- 結果Time Limit Exceeded  \n",
    "- 將diffuculty與profit用zip方式組成list，並改成用while迴圈來檢查每個worker可以拿到的最高profit -- 結果Pass  \n",
    "從測試的結果看起來while迴圈的效能好像略好過for迴圈，之後可能要改多嘗試用while迴圈解題了"
   ]
  },
  {
   "cell_type": "code",
   "execution_count": null,
   "metadata": {},
   "outputs": [],
   "source": [
    "class Solution:\n",
    "    def maxProfitAssignment(self, difficulty: List[int], profit: List[int], worker: List[int]) -> int:\n",
    "        total = index = i = j = current_max = 0\n",
    "        diff_profit = list(zip(difficulty, profit))\n",
    "        diff_profit.sort()\n",
    "        worker.sort()\n",
    "        while i < len(worker):\n",
    "            while j < len(diff_profit) and diff_profit[j][0] <= worker[i]:\n",
    "                if diff_profit[j][1] > current_max:\n",
    "                    current_max = diff_profit[j][1]\n",
    "                j += 1\n",
    "            total += current_max\n",
    "            i += 1     \n",
    "        return total"
   ]
  }
 ],
 "metadata": {
  "kernelspec": {
   "display_name": "Python 3",
   "language": "python",
   "name": "python3"
  },
  "language_info": {
   "codemirror_mode": {
    "name": "ipython",
    "version": 3
   },
   "file_extension": ".py",
   "mimetype": "text/x-python",
   "name": "python",
   "nbconvert_exporter": "python",
   "pygments_lexer": "ipython3",
   "version": "3.7.4"
  }
 },
 "nbformat": 4,
 "nbformat_minor": 2
}
