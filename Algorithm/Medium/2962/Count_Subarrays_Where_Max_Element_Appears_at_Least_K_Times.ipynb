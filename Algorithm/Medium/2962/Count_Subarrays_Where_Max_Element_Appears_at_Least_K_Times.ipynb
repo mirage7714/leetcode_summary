{
 "cells": [
  {
   "cell_type": "markdown",
   "metadata": {},
   "source": [
    "# 本題要找出最大值至少出現K次的sublist共有多少 (\\#Array, \\#SlidingWindow )\n",
    "原題目連結：https://leetcode.com/problems/count-subarrays-where-max-element-appears-at-least-k-times/description/  \n",
    "\n",
    "You are given an integer array nums and a positive integer k.  \n",
    "Return the number of subarrays where the maximum element of nums appears at least k times in that subarray.  \n",
    "A subarray is a contiguous sequence of elements within an array.  \n",
    "\n",
    "範例：  \n",
    "Ex1:  \n",
    "Input: nums = [1,3,2,3,3], k = 2  \n",
    "Output: 6  \n",
    "Explanation: The subarrays that contain the element 3 at least 2 times are: [1,3,2,3], [1,3,2,3,3], [3,2,3], [3,2,3,3], [2,3,3] and [3,3].  \n",
    "\n",
    "Ex2:  \n",
    "Input: nums = [1,4,2,1], k = 3  \n",
    "Output: 0  \n",
    "Explanation: No subarray contains the element 4 at least 3 times."
   ]
  },
  {
   "cell_type": "markdown",
   "metadata": {},
   "source": [
    "* 解題想法：  \n",
    "首先將所有最大值的index以及距離前方最大值的距離用一個dict進行存放，接著檢查最大值出現的數量是否有大於k，如果等於k則所有可能的組合就是第一個最大值前的個數乘上最後index後出現的數值，如果大於k的情況則從第一個開始，找出距離為k個以後的長度，就是nums的長度減去第k個index再乘上目前的index，最後加總就是答案"
   ]
  },
  {
   "cell_type": "code",
   "execution_count": null,
   "metadata": {},
   "outputs": [],
   "source": [
    "class Solution:\n",
    "    def countSubarrays(self, nums: List[int], k: int) -> int:\n",
    "        res = 0\n",
    "        c = {}\n",
    "        t = 1\n",
    "        index = []\n",
    "        m = max(nums)\n",
    "        for i in range(len(nums)):\n",
    "            if nums[i] == m:\n",
    "                c[i] = t\n",
    "                index.append(i)\n",
    "                t = 1\n",
    "            else:\n",
    "                t += 1\n",
    "        if len(index) > k:\n",
    "            for a in range(len(index) - k + 1):\n",
    "                print('{}:{}'.format(a, c[index[a]]))\n",
    "                res += c[index[a]] * (len(nums) - index[a+k-1])\n",
    "        elif len(index) == k:\n",
    "            res = c[index[0]] * (len(nums) - index[-1])\n",
    "        return res"
   ]
  }
 ],
 "metadata": {
  "kernelspec": {
   "display_name": "Python 3",
   "language": "python",
   "name": "python3"
  },
  "language_info": {
   "codemirror_mode": {
    "name": "ipython",
    "version": 3
   },
   "file_extension": ".py",
   "mimetype": "text/x-python",
   "name": "python",
   "nbconvert_exporter": "python",
   "pygments_lexer": "ipython3",
   "version": "3.7.6"
  }
 },
 "nbformat": 4,
 "nbformat_minor": 4
}
