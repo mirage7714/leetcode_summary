{
 "cells": [
  {
   "cell_type": "markdown",
   "metadata": {},
   "source": [
    "# 本題要實作insert sort並將linked list內的值進行排序\n",
    "原題目連結: https://leetcode.com/problems/insertion-sort-list/  \n",
    "\n",
    "Given the head of a singly linked list, sort the list using insertion sort, and return the sorted list's head.  \n",
    "\n",
    "The steps of the insertion sort algorithm:  \n",
    "\n",
    "Insertion sort iterates, consuming one input element each repetition and growing a sorted output list.  \n",
    "At each iteration, insertion sort removes one element from the input data, finds the location it belongs within the sorted list and inserts it there.  \n",
    "It repeats until no input elements remain.  \n",
    "The following is a graphical example of the insertion sort algorithm. The partially sorted list (black) initially contains only the first element in the list. One element (red) is removed from the input data and inserted in-place into the sorted list with each iteration.  \n",
    "\n",
    "範例:  \n",
    "Ex1:  \n",
    "Input: head = [4,2,1,3]  \n",
    "Output: [1,2,3,4] \n",
    "\n",
    "Ex2:  \n",
    "Input: head = [-1,5,3,4,0]  \n",
    "Output: [-1,0,3,4,5]"
   ]
  },
  {
   "cell_type": "markdown",
   "metadata": {},
   "source": [
    "* 解題想法:  \n",
    "首先實作一個insertion sort的方式，主要就是將list內的第2到n個元素取出後，與第0到n-1個元素進行相比，並找到合適的位置將數值放入  \n",
    "實作完insertion sort之後，將linked list內的數值取出，排序之後重新建立一個新的linked list"
   ]
  },
  {
   "cell_type": "code",
   "execution_count": null,
   "metadata": {},
   "outputs": [],
   "source": [
    "# Definition for singly-linked list.\n",
    "# class ListNode:\n",
    "#     def __init__(self, val=0, next=None):\n",
    "#         self.val = val\n",
    "#         self.next = next\n",
    "class Solution:\n",
    "    def insertionSortList(self, head: Optional[ListNode]) -> Optional[ListNode]:\n",
    "        def insertionSort(nums):\n",
    "            for i in range(1, len(nums)):\n",
    "                for j in range(i):\n",
    "                    if nums[i] < nums[j]:\n",
    "                        nums.insert(j, nums.pop(i))\n",
    "                        break\n",
    "            return nums\n",
    "        \n",
    "        val = []\n",
    "        result = None\n",
    "        while head:\n",
    "            val.append(head.val)\n",
    "            head = head.next\n",
    "        order = insertionSort(val)\n",
    "        for o in range(len(order)-1, -1, -1):\n",
    "            node = ListNode()\n",
    "            node.val = order[o]\n",
    "            node.next = result\n",
    "            result = node\n",
    "        return result"
   ]
  }
 ],
 "metadata": {
  "kernelspec": {
   "display_name": "Python 3",
   "language": "python",
   "name": "python3"
  },
  "language_info": {
   "codemirror_mode": {
    "name": "ipython",
    "version": 3
   },
   "file_extension": ".py",
   "mimetype": "text/x-python",
   "name": "python",
   "nbconvert_exporter": "python",
   "pygments_lexer": "ipython3",
   "version": "3.7.4"
  }
 },
 "nbformat": 4,
 "nbformat_minor": 4
}
