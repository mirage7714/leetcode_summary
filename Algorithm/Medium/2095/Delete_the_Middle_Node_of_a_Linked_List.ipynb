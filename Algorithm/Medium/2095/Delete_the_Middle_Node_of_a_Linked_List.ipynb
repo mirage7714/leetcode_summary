{
 "cells": [
  {
   "cell_type": "markdown",
   "metadata": {},
   "source": [
    "# 本題要刪除LinkedList最中間的點\n",
    "原題目連結: https://leetcode.com/problems/delete-the-middle-node-of-a-linked-list/  \n",
    "\n",
    "You are given the head of a linked list. Delete the middle node, and return the head of the modified linked list.  \n",
    "\n",
    "The middle node of a linked list of size n is the ⌊n / 2⌋th node from the start using 0-based indexing, where ⌊x⌋ denotes the largest integer less than or equal to x.  \n",
    "\n",
    "For n = 1, 2, 3, 4, and 5, the middle nodes are 0, 1, 1, 2, and 2, respectively.  \n",
    "\n",
    "範例:  \n",
    "Ex1:  \n",
    "Input: head = [1,3,4,7,1,2,6]  \n",
    "Output: [1,3,4,1,2,6]  \n",
    "Explanation:  \n",
    "The above figure represents the given linked list. The indices of the nodes are written below.  \n",
    "Since n = 7, node 3 with value 7 is the middle node, which is marked in red.  \n",
    "We return the new list after removing this node.   \n",
    "\n",
    "Ex2:  \n",
    "Input: head = [1,2,3,4]  \n",
    "Output: [1,2,4]  \n",
    "Explanation:  \n",
    "The above figure represents the given linked list.  \n",
    "For n = 4, node 2 with value 3 is the middle node, which is marked in red.  \n",
    "\n",
    "Ex3:  \n",
    "Input: head = [2,1]  \n",
    "Output: [2]  \n",
    "Explanation:  \n",
    "The above figure represents the given linked list.  \n",
    "For n = 2, node 1 with value 1 is the middle node, which is marked in red.  \n",
    "Node 0 with value 2 is the only node remaining after removing node 1."
   ]
  },
  {
   "cell_type": "markdown",
   "metadata": {},
   "source": [
    "* 解題想法:  \n",
    "首先將LinkedList中的數值取出，接著將最中間的數值去除後重新建立一個LinkedList，最後回傳新的LinkedList"
   ]
  },
  {
   "cell_type": "code",
   "execution_count": null,
   "metadata": {},
   "outputs": [],
   "source": [
    "# Definition for singly-linked list.\n",
    "# class ListNode:\n",
    "#     def __init__(self, val=0, next=None):\n",
    "#         self.val = val\n",
    "#         self.next = next\n",
    "class Solution:\n",
    "    def deleteMiddle(self, head: Optional[ListNode]) -> Optional[ListNode]:\n",
    "        values = []\n",
    "        result = []\n",
    "        if head != None:\n",
    "            while head:\n",
    "                values.append(head.val)\n",
    "                head = head.next\n",
    "            middle = int(len(values) / 2)\n",
    "            values.pop(middle)\n",
    "            if len(values) > 0:\n",
    "                for n in range(len(values)-1, -1, -1):\n",
    "                    node = ListNode()\n",
    "                    node.val = values[n]\n",
    "                    if len(result) > 0:\n",
    "                        node.next = result[-1]\n",
    "                    result.append(node)\n",
    "                return result[-1]\n",
    "            else:\n",
    "                return None\n",
    "        return None"
   ]
  }
 ],
 "metadata": {
  "kernelspec": {
   "display_name": "Python 3",
   "language": "python",
   "name": "python3"
  },
  "language_info": {
   "codemirror_mode": {
    "name": "ipython",
    "version": 3
   },
   "file_extension": ".py",
   "mimetype": "text/x-python",
   "name": "python",
   "nbconvert_exporter": "python",
   "pygments_lexer": "ipython3",
   "version": "3.7.4"
  }
 },
 "nbformat": 4,
 "nbformat_minor": 4
}
