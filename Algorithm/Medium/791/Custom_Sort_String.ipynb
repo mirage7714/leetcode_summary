{
 "cells": [
  {
   "cell_type": "markdown",
   "metadata": {},
   "source": [
    "# 本題要依據題目提供的定義來對字串進行排序\n",
    "原題目連結: https://leetcode.com/problems/custom-sort-string/  \n",
    "\n",
    "order and str are strings composed of lowercase letters. In order, no letter occurs more than once.  \n",
    "\n",
    "order was sorted in some custom order previously. We want to permute the characters of str so that they match the order that order was sorted. More specifically, if x occurs before y in order, then x should occur before y in the returned string.  \n",
    "\n",
    "Return any permutation of str (as a string) that satisfies this property.  \n",
    "\n",
    "範例:  \n",
    "Ex1:  \n",
    "Input:   \n",
    "order = \"cba\"  \n",
    "str = \"abcd\"  \n",
    "Output: \"cbad\"  \n",
    "Explanation:   \n",
    "\"a\", \"b\", \"c\" appear in order, so the order of \"a\", \"b\", \"c\" should be \"c\", \"b\", and \"a\".   \n",
    "Since \"d\" does not appear in order, it can be at any position in the returned string. \"dcba\", \"cdba\", \"cbda\" are also valid outputs.  "
   ]
  },
  {
   "cell_type": "markdown",
   "metadata": {},
   "source": [
    "* 解題想法:  \n",
    "依題目定義，首先建立一個dict(freq)來存放自定義的順序，接著分析字母出現的次數並統計在另一個dict(count)中，最後依自定義順序中的順序重新建立新的字串，對於沒有出現在自訂義順序中的字母，則直接在分析時先加入result結果中"
   ]
  },
  {
   "cell_type": "code",
   "execution_count": null,
   "metadata": {},
   "outputs": [],
   "source": [
    "class Solution:\n",
    "    def customSortString(self, order: str, str: str) -> str:\n",
    "        freq = {}\n",
    "        count = {}\n",
    "        result = ''\n",
    "        temp = ''\n",
    "        for m in range(len(order)):\n",
    "            freq[m] = order[m]\n",
    "        for n in str:\n",
    "            if n in freq.values():\n",
    "                if n not in count.keys():\n",
    "                    count[n] = 1\n",
    "                else:\n",
    "                    count[n] += 1\n",
    "            else:\n",
    "                result += n\n",
    "        for l in range(len(freq.keys())):\n",
    "            char = freq[l]\n",
    "            if char in count.keys():\n",
    "                for j in range(count[freq[l]]):\n",
    "                    temp += freq[l]\n",
    "        result = temp + result\n",
    "        return result"
   ]
  }
 ],
 "metadata": {
  "kernelspec": {
   "display_name": "Python 3",
   "language": "python",
   "name": "python3"
  },
  "language_info": {
   "codemirror_mode": {
    "name": "ipython",
    "version": 3
   },
   "file_extension": ".py",
   "mimetype": "text/x-python",
   "name": "python",
   "nbconvert_exporter": "python",
   "pygments_lexer": "ipython3",
   "version": "3.7.4"
  }
 },
 "nbformat": 4,
 "nbformat_minor": 2
}
