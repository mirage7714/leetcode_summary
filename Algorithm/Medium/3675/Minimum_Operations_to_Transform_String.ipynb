{
 "cells": [
  {
   "cell_type": "markdown",
   "id": "45f0a2f3-8859-436f-8cf7-8c8851139070",
   "metadata": {},
   "source": [
    "# 本題要找出將所有字母都轉為A最少需要多少操作次數 (\\#String )\n",
    "原題目連結：https://leetcode.com/problems/minimum-operations-to-transform-string/description/  \n",
    "\n",
    "You are given a string s consisting only of lowercase English letters.  \n",
    "You can perform the following operation any number of times (including zero):  \n",
    "Choose any character c in the string and replace every occurrence of c with the next lowercase letter in the English alphabet.  \n",
    "Return the minimum number of operations required to transform s into a string consisting of only 'a' characters.  \n",
    "Note: Consider the alphabet as circular, thus 'a' comes after 'z'.  \n",
    "\n",
    "範例：  \n",
    "Ex1:  \n",
    "Input: s = \"yz\"  \n",
    "Output: 2  \n",
    "Explanation:  \n",
    "Change 'y' to 'z' to get \"zz\".  \n",
    "Change 'z' to 'a' to get \"aa\".  \n",
    "Thus, the answer is 2.  \n",
    "\n",
    "Ex2:  \n",
    "Input: s = \"a\"  \n",
    "Output: 0  \n",
    "Explanation:  \n",
    "The string \"a\" only consists of 'a'​​​​​​​ characters. Thus, the answer is 0.  "
   ]
  },
  {
   "cell_type": "markdown",
   "id": "401f5cfe-0958-45d0-b3ff-9dc53b9027a2",
   "metadata": {},
   "source": [
    "* 解題想法：  \n",
    "首先用一個list找出所有出現的字母，排序後從頭開始取，並計算該字母和下一個字母的距離並加總，最後回傳加總的結果就是答案"
   ]
  },
  {
   "cell_type": "code",
   "execution_count": null,
   "id": "26cdea9d-f3c5-4055-afa1-c4fa7f0d9b0a",
   "metadata": {},
   "outputs": [],
   "source": [
    "class Solution:\n",
    "    def minOperations(self, s: str) -> int:\n",
    "        temp = []\n",
    "        res = 0\n",
    "        for i in s:\n",
    "            if i != 'a': \n",
    "                if i not in temp:\n",
    "                    temp.append(i)\n",
    "        if temp:\n",
    "            temp.sort(reverse = True)\n",
    "            t = temp.pop()\n",
    "            while temp:\n",
    "                n = temp.pop()\n",
    "                res += ord(n) - ord(t)\n",
    "                t = n\n",
    "            res += ord('a') + 26 - ord(t)\n",
    "        return res"
   ]
  }
 ],
 "metadata": {
  "kernelspec": {
   "display_name": "Python 3 (ipykernel)",
   "language": "python",
   "name": "python3"
  },
  "language_info": {
   "codemirror_mode": {
    "name": "ipython",
    "version": 3
   },
   "file_extension": ".py",
   "mimetype": "text/x-python",
   "name": "python",
   "nbconvert_exporter": "python",
   "pygments_lexer": "ipython3",
   "version": "3.10.9"
  }
 },
 "nbformat": 4,
 "nbformat_minor": 5
}
