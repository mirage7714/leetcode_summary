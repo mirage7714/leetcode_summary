{
 "cells": [
  {
   "cell_type": "markdown",
   "id": "02c55af9-cd45-441d-8f3d-f50ffe21992e",
   "metadata": {},
   "source": [
    "# 本題要找出list中最大總和為多少 (\\#Array)\n",
    "原題目連結: https://leetcode.com/problems/largest-element-in-an-array-after-merge-operations/description/  \n",
    "\n",
    "You are given a 0-indexed array nums consisting of positive integers.  \n",
    "You can do the following operation on the array any number of times:  \n",
    "Choose an integer i such that 0 <= i < nums.length - 1 and nums[i] <= nums[i + 1]. Replace the element nums[i + 1] with nums[i] + nums[i + 1] and delete the element nums[i] from the array.  \n",
    "Return the value of the largest element that you can possibly obtain in the final array.  \n",
    "\n",
    "範例:  \n",
    "Ex1:  \n",
    "Input: nums = [2,3,7,9,3]  \n",
    "Output: 21  \n",
    "Explanation: We can apply the following operations on the array:  \n",
    "- Choose i = 0. The resulting array will be nums = [5,7,9,3].  \n",
    "- Choose i = 1. The resulting array will be nums = [5,16,3].  \n",
    "- Choose i = 0. The resulting array will be nums = [21,3].  \n",
    "The largest element in the final array is 21. It can be shown that we cannot obtain a larger element.  \n",
    "\n",
    "Ex2:  \n",
    "Input: nums = [5,3,3]  \n",
    "Output: 11  \n",
    "Explanation: We can do the following operations on the array:  \n",
    "- Choose i = 1. The resulting array will be nums = [5,6].  \n",
    "- Choose i = 0. The resulting array will be nums = [11].  \n",
    "There is only one element in the final array, which is 11."
   ]
  },
  {
   "cell_type": "markdown",
   "id": "6d1a0d77-60b9-49e3-9590-9efe13b3b86a",
   "metadata": {},
   "source": [
    "* 解題想法:  \n",
    "首先用一個數值來儲存總和，接著用迴圈從list的最後面開始進行檢查，如果當總和為0時則將總和加上該數值，如果不為0時，則判斷總和是否大於或等於目前的數值，如果是則加上該數值，否則將總和更新為該數值，最後回傳總和作為答案"
   ]
  },
  {
   "cell_type": "code",
   "execution_count": null,
   "id": "797a29f1-30c7-44df-84a9-fa5f37128f62",
   "metadata": {},
   "outputs": [],
   "source": [
    "class Solution:\n",
    "    def maxArrayValue(self, nums: List[int]) -> int:\n",
    "        res = 0\n",
    "        for m in range(len(nums)-1, -1, -1):\n",
    "            if res == 0:\n",
    "                res += nums[m]\n",
    "            else:\n",
    "                if res >= nums[m]:\n",
    "                    res += nums[m]\n",
    "                else:\n",
    "                    res = nums[m]\n",
    "        return res"
   ]
  }
 ],
 "metadata": {
  "kernelspec": {
   "display_name": "Python 3 (ipykernel)",
   "language": "python",
   "name": "python3"
  },
  "language_info": {
   "codemirror_mode": {
    "name": "ipython",
    "version": 3
   },
   "file_extension": ".py",
   "mimetype": "text/x-python",
   "name": "python",
   "nbconvert_exporter": "python",
   "pygments_lexer": "ipython3",
   "version": "3.9.13"
  }
 },
 "nbformat": 4,
 "nbformat_minor": 5
}
