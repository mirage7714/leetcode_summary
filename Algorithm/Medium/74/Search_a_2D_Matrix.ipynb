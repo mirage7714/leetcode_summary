{
 "cells": [
  {
   "cell_type": "markdown",
   "metadata": {},
   "source": [
    "# 本題要找出特定的數字是否有在2D matrix中\n",
    "原題目連結: https://leetcode.com/problems/search-a-2d-matrix/  \n",
    "\n",
    "Write an efficient algorithm that searches for a value in an m x n matrix. This matrix has the following properties:  \n",
    "\n",
    "Integers in each row are sorted from left to right.  \n",
    "The first integer of each row is greater than the last integer of the previous row.  \n",
    "\n",
    "範例:  \n",
    "Ex1:  \n",
    "Input: matrix = [[1,3,5,7],[10,11,16,20],[23,30,34,50]], target = 3  \n",
    "Output: true  \n",
    "\n",
    "Ex2:  \n",
    "Input: matrix = [[1,3,5,7],[10,11,16,20],[23,30,34,50]], target = 13  \n",
    "Output: false  \n",
    "\n",
    "Ex3:  \n",
    "Input: matrix = [], target = 0  \n",
    "Output: false"
   ]
  },
  {
   "cell_type": "markdown",
   "metadata": {},
   "source": [
    "* 解題想法:  \n",
    "由於題目有說明在提供的2D matrix中，數字已經有先經過排序了，因此可以直接先從list中最後一個數字判斷這個list是否有可能包含題目要找的數字  \n",
    "如果符合區間，就判斷這個數字是否存在，如果存在則回傳True，否則中斷迴圈並回傳False"
   ]
  },
  {
   "cell_type": "code",
   "execution_count": null,
   "metadata": {},
   "outputs": [],
   "source": [
    "class Solution:\n",
    "    def searchMatrix(self, matrix: List[List[int]], target: int) -> bool:\n",
    "        is_exist = False\n",
    "        for m in range(len(matrix)):\n",
    "            if len(matrix[m]) > 0:\n",
    "                if target <= matrix[m][-1]:\n",
    "                    if target in matrix[m]:\n",
    "                        is_exist = True\n",
    "                        break\n",
    "                    else:\n",
    "                        break\n",
    "        return is_exist"
   ]
  }
 ],
 "metadata": {
  "kernelspec": {
   "display_name": "Python 3",
   "language": "python",
   "name": "python3"
  },
  "language_info": {
   "codemirror_mode": {
    "name": "ipython",
    "version": 3
   },
   "file_extension": ".py",
   "mimetype": "text/x-python",
   "name": "python",
   "nbconvert_exporter": "python",
   "pygments_lexer": "ipython3",
   "version": "3.7.4"
  }
 },
 "nbformat": 4,
 "nbformat_minor": 2
}
