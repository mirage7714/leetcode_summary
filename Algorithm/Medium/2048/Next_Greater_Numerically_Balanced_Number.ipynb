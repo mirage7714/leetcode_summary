{
 "cells": [
  {
   "cell_type": "markdown",
   "id": "bc376b0d-9353-4331-9356-3e3fc3390449",
   "metadata": {},
   "source": [
    "# 本題要找出下一個大於目標的數字是多少 (\\#Math, \\#Enumeration )\n",
    "原題目連結：https://leetcode.com/problems/next-greater-numerically-balanced-number/  \n",
    "\n",
    "An integer x is numerically balanced if for every digit d in the number x, there are exactly d occurrences of that digit in x.  \n",
    "Given an integer n, return the smallest numerically balanced number strictly greater than n.  \n",
    "\n",
    "範例：  \n",
    "Ex1:  \n",
    "Input: n = 1  \n",
    "Output: 22  \n",
    "Explanation:   \n",
    "22 is numerically balanced since:  \n",
    "- The digit 2 occurs 2 times.   \n",
    "It is also the smallest numerically balanced number strictly greater than 1.  \n",
    "\n",
    "Ex2:  \n",
    "Input: n = 1000  \n",
    "Output: 1333  \n",
    "Explanation:   \n",
    "1333 is numerically balanced since:  \n",
    "- The digit 1 occurs 1 time.  \n",
    "- The digit 3 occurs 3 times.   \n",
    "It is also the smallest numerically balanced number strictly greater than 1000.  \n",
    "Note that 1022 cannot be the answer because 0 appeared more than 0 times.  \n",
    "\n",
    "Ex3:  \n",
    "Input: n = 3000  \n",
    "Output: 3133  \n",
    "Explanation:   \n",
    "3133 is numerically balanced since:  \n",
    "- The digit 1 occurs 1 time.  \n",
    "- The digit 3 occurs 3 times.  \n",
    "It is also the smallest numerically balanced number strictly greater than 3000."
   ]
  },
  {
   "cell_type": "markdown",
   "id": "66b76535-be5e-479b-b41a-5260e45337fb",
   "metadata": {},
   "source": [
    "* 解題想法：  \n",
    "首先判斷n是否有大於該位數中最大條件的數字，如果有則進一位，接著將該位數的所有組合都找出後進行排序並找出比n大的值後回傳"
   ]
  },
  {
   "cell_type": "code",
   "execution_count": null,
   "id": "52ee75cc-bb0a-4069-8296-79873cc88a7e",
   "metadata": {},
   "outputs": [],
   "source": [
    "class Solution:\n",
    "    def nextBeautifulNumber(self, n: int) -> int:\n",
    "        def dfs(digits, res, nums, visited):\n",
    "            if len(res) == len(digits):\n",
    "                t = ''.join(res)\n",
    "                if int(t) not in nums: \n",
    "                    nums.append(int(t))\n",
    "            else:\n",
    "                for i in range(len(digits)):\n",
    "                    if not visited[i]:\n",
    "                        visited[i] = 1\n",
    "                        dfs(digits, res + [digits[i]], nums, visited)\n",
    "                        visited[i] = 0\n",
    "            \n",
    "        def genNums(s):\n",
    "            res = []\n",
    "            combinations= {2:[[2]], 3:[[1,2],[3]], 4:[[1,3],[4]], 5:[[1,4],[5], [2,3]], 6:[[1,2,3],[1,5],[2,4],[6]], 7:[[7],[1,6],[1,2,4],[2,5],[3,4]]}\n",
    "            c = combinations[s]\n",
    "            for i in c:\n",
    "                d = []\n",
    "                for j in i: \n",
    "                    for _ in range(j):\n",
    "                        d.append(str(j))\n",
    "                visited = [0] * s\n",
    "                dfs(d, [], res, visited)\n",
    "            return res\n",
    "                \n",
    "        if n == 0:\n",
    "            return 1\n",
    "        s = len(str(n))\n",
    "        t = ''\n",
    "        for _ in range(s):\n",
    "            t += str(s)\n",
    "        if n >= int(t):\n",
    "            s += 1\n",
    "        elif s == 1:\n",
    "            s += 1\n",
    "        target = genNums(s)\n",
    "        target.sort()\n",
    "        for t in target:\n",
    "            if t > n:\n",
    "                return t"
   ]
  }
 ],
 "metadata": {
  "kernelspec": {
   "display_name": "Python 3 (ipykernel)",
   "language": "python",
   "name": "python3"
  },
  "language_info": {
   "codemirror_mode": {
    "name": "ipython",
    "version": 3
   },
   "file_extension": ".py",
   "mimetype": "text/x-python",
   "name": "python",
   "nbconvert_exporter": "python",
   "pygments_lexer": "ipython3",
   "version": "3.10.9"
  }
 },
 "nbformat": 4,
 "nbformat_minor": 5
}
