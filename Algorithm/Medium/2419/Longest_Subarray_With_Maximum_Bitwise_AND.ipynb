{
 "cells": [
  {
   "cell_type": "markdown",
   "metadata": {},
   "source": [
    "# 本題要判斷在最大的AND情況下，sub list的最大長度為多少 (\\#Array)\n",
    "原題目連結: https://leetcode.com/problems/longest-subarray-with-maximum-bitwise-and/  \n",
    "\n",
    "You are given an integer array nums of size n.  \n",
    "Consider a non-empty subarray from nums that has the maximum possible bitwise AND.  \n",
    "In other words, let k be the maximum value of the bitwise AND of any subarray of nums. Then, only subarrays with a bitwise AND equal to k should be considered.  \n",
    "Return the length of the longest such subarray.  \n",
    "The bitwise AND of an array is the bitwise AND of all the numbers in it.  \n",
    "A subarray is a contiguous sequence of elements within an array.  \n",
    "\n",
    "範例:  \n",
    "Ex1:  \n",
    "Input: nums = [1,2,3,3,2,2]  \n",
    "Output: 2  \n",
    "Explanation:  \n",
    "The maximum possible bitwise AND of a subarray is 3.  \n",
    "The longest subarray with that value is [3,3], so we return 2.  \n",
    "\n",
    "Ex2:  \n",
    "Input: nums = [1,2,3,4]  \n",
    "Output: 1  \n",
    "Explanation:  \n",
    "The maximum possible bitwise AND of a subarray is 4.  \n",
    "The longest subarray with that value is [4], so we return 1."
   ]
  },
  {
   "cell_type": "markdown",
   "metadata": {},
   "source": [
    "* 解題想法:  \n",
    "雖然是說要找出最大的AND數值，但其實題目要找的就是最大值最多連續出現幾次，首先找出nums中的最大數值，接著找出最大連續值為多少，最後回傳最大值"
   ]
  },
  {
   "cell_type": "code",
   "execution_count": null,
   "metadata": {},
   "outputs": [],
   "source": [
    "class Solution:\n",
    "    def longestSubarray(self, nums: List[int]) -> int:\n",
    "        result = 1\n",
    "        m = max(nums)\n",
    "        temp = 1\n",
    "        prev = nums.index(m)\n",
    "        for n in range(prev + 1, len(nums)):\n",
    "            if nums[n] == m and n == prev + 1:\n",
    "                prev = n \n",
    "                temp += 1\n",
    "            else:\n",
    "                result = max(result, temp)\n",
    "                temp = 1\n",
    "                if nums[n] == m:\n",
    "                    prev = n\n",
    "        return max(result, temp)"
   ]
  }
 ],
 "metadata": {
  "kernelspec": {
   "display_name": "Python 3",
   "language": "python",
   "name": "python3"
  },
  "language_info": {
   "codemirror_mode": {
    "name": "ipython",
    "version": 3
   },
   "file_extension": ".py",
   "mimetype": "text/x-python",
   "name": "python",
   "nbconvert_exporter": "python",
   "pygments_lexer": "ipython3",
   "version": "3.7.4"
  }
 },
 "nbformat": 4,
 "nbformat_minor": 4
}
