{
 "cells": [
  {
   "cell_type": "markdown",
   "metadata": {},
   "source": [
    "# 本題要找出指定組成的字串，在另一字串內共出現幾次\n",
    "原題目連結: https://leetcode.com/problems/find-all-anagrams-in-a-string/  \n",
    "\n",
    "Given two strings s and p, return an array of all the start indices of p's anagrams in s. You may return the answer in any order.  \n",
    "\n",
    "An Anagram is a word or phrase formed by rearranging the letters of a different word or phrase, typically using all the original letters exactly once.  \n",
    "\n",
    "範例:  \n",
    "Ex1:  \n",
    "Input: s = \"cbaebabacd\", p = \"abc\"  \n",
    "Output: [0,6]  \n",
    "Explanation:  \n",
    "The substring with start index = 0 is \"cba\", which is an anagram of \"abc\".  \n",
    "The substring with start index = 6 is \"bac\", which is an anagram of \"abc\".  \n",
    "\n",
    "Ex2:  \n",
    "Input: s = \"abab\", p = \"ab\"  \n",
    "Output: [0,1,2]  \n",
    "Explanation:  \n",
    "The substring with start index = 0 is \"ab\", which is an anagram of \"ab\".  \n",
    "The substring with start index = 1 is \"ba\", which is an anagram of \"ab\".  \n",
    "The substring with start index = 2 is \"ab\", which is an anagram of \"ab\"."
   ]
  },
  {
   "cell_type": "markdown",
   "metadata": {},
   "source": [
    "* 解題想法:  \n",
    "首先將指定字串內所有的字母放入一個list候進行排序，接著開始從另一字串中擷取長度相同的子字串，並比較組成是否相同，如果相同則將index記下，最後回傳所有的index\n",
    "- 20220722更新解法:  \n",
    "一樣是建立一個函數用來找出字串中出現字母的頻率，接著在第一次解出字串的字母之後，在每個迴圈中只更新出現與消失的字母並與指定的字串進行比較，最後回傳所有的index"
   ]
  },
  {
   "cell_type": "code",
   "execution_count": null,
   "metadata": {},
   "outputs": [],
   "source": [
    "class Solution:\n",
    "    def findAnagrams(self, s: str, p: str) -> List[int]:\n",
    "        def getFreq(word):\n",
    "            result = []\n",
    "            for w in word:\n",
    "                result.append(w)\n",
    "            result.sort()\n",
    "            return result\n",
    "        \n",
    "        result = []\n",
    "        temp = []\n",
    "        chars_p = getFreq(p)\n",
    "        for m in range(0, len(s) - len(p)+1):\n",
    "            sp = s[m: m+len(p)]\n",
    "            if sp not in temp:\n",
    "                chars_s = getFreq(sp)\n",
    "                if chars_s == chars_p:\n",
    "                    result.append(m)\n",
    "                    temp.append(sp)\n",
    "            else:\n",
    "                result.append(m)\n",
    "        return result"
   ]
  },
  {
   "cell_type": "code",
   "execution_count": null,
   "metadata": {},
   "outputs": [],
   "source": [
    "class Solution:\n",
    "    def findAnagrams(self, s: str, p: str) -> List[int]:\n",
    "        def getChars(word):\n",
    "            chars = {}\n",
    "            for w in word:\n",
    "                if w not in chars.keys():\n",
    "                    chars[w] = 1\n",
    "                else:\n",
    "                    chars[w] += 1\n",
    "            return chars\n",
    "        \n",
    "        result = []\n",
    "        pchars = getChars(p)\n",
    "        schars = getChars(s[:len(p)])\n",
    "        if schars == pchars:\n",
    "            result.append(0)\n",
    "        for m in range(1, len(s) -len(p) + 1):\n",
    "            start = s[m-1]\n",
    "            end = s[m+len(p)-1]\n",
    "            if end not in schars.keys():\n",
    "                schars[end] = 1\n",
    "            else:\n",
    "                schars[end] += 1\n",
    "            if schars[start] > 1:\n",
    "                schars[start] -= 1\n",
    "            else:\n",
    "                schars.pop(start)\n",
    "            if schars == pchars:\n",
    "                result.append(m)\n",
    "        return result"
   ]
  }
 ],
 "metadata": {
  "kernelspec": {
   "display_name": "Python 3",
   "language": "python",
   "name": "python3"
  },
  "language_info": {
   "codemirror_mode": {
    "name": "ipython",
    "version": 3
   },
   "file_extension": ".py",
   "mimetype": "text/x-python",
   "name": "python",
   "nbconvert_exporter": "python",
   "pygments_lexer": "ipython3",
   "version": "3.7.6"
  }
 },
 "nbformat": 4,
 "nbformat_minor": 4
}
