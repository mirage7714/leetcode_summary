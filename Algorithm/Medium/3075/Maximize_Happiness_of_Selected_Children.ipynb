{
 "cells": [
  {
   "cell_type": "markdown",
   "id": "39784e83-f240-42bb-ac14-4ac9bffafbe4",
   "metadata": {},
   "source": [
    "# 本題要找出最大的happiness數值為多少 (\\#Array )\n",
    "原題目連結: https://leetcode.com/problems/maximize-happiness-of-selected-children/description/   \n",
    "\n",
    "You are given an array happiness of length n, and a positive integer k.  \n",
    "There are n children standing in a queue, where the ith child has happiness value happiness[i]. You want to select k children from these n children in k turns.  \n",
    "In each turn, when you select a child, the happiness value of all the children that have not been selected till now decreases by 1. Note that the happiness value cannot become negative and gets decremented only if it is positive.  \n",
    "Return the maximum sum of the happiness values of the selected children you can achieve by selecting k children.  \n",
    "\n",
    "範例:  \n",
    "Ex1:  \n",
    "Input: happiness = [1,2,3], k = 2  \n",
    "Output: 4  \n",
    "Explanation: We can pick 2 children in the following way:  \n",
    "- Pick the child with the happiness value == 3. The happiness value of the remaining children becomes [0,1].  \n",
    "- Pick the child with the happiness value == 1. The happiness value of the remaining child becomes [0]. Note that the happiness value cannot become less than 0.  \n",
    "The sum of the happiness values of the selected children is 3 + 1 = 4.  \n",
    "\n",
    "Ex2:  \n",
    "Input: happiness = [1,1,1,1], k = 2  \n",
    "Output: 1  \n",
    "Explanation: We can pick 2 children in the following way:  \n",
    "- Pick any child with the happiness value == 1. The happiness value of the remaining children becomes [0,0,0].  \n",
    "- Pick the child with the happiness value == 0. The happiness value of the remaining child becomes [0,0].  \n",
    "The sum of the happiness values of the selected children is 1 + 0 = 1.  \n",
    "\n",
    "Ex3:  \n",
    "Input: happiness = [2,3,4,5], k = 1 \n",
    "Output: 5  \n",
    "Explanation: We can pick 1 child in the following way:    \n",
    "- Pick the child with the happiness value == 5. The happiness value of the remaining children becomes [1,2,3].  \n",
    "The sum of the happiness values of the selected children is 5."
   ]
  },
  {
   "cell_type": "markdown",
   "id": "de054573-1453-4ef5-b0d4-1d81d9341aa6",
   "metadata": {},
   "source": [
    "* 解題想法:  \n",
    "首先將happiness數值進行排序後，由大到小選取k個數值，並依序減去1之後加總就是答案"
   ]
  },
  {
   "cell_type": "code",
   "execution_count": null,
   "id": "b78c07ce-3523-4879-bd79-55c7b90dbe77",
   "metadata": {},
   "outputs": [],
   "source": [
    "class Solution:\n",
    "    def maximumHappinessSum(self, happiness: List[int], k: int) -> int:\n",
    "        res = 0\n",
    "        happiness.sort(reverse = True)\n",
    "        for i in range(k):\n",
    "            if happiness[i] - i > 0:\n",
    "                res += happiness[i] - i\n",
    "            else:\n",
    "                break\n",
    "        return res"
   ]
  }
 ],
 "metadata": {
  "kernelspec": {
   "display_name": "Python 3 (ipykernel)",
   "language": "python",
   "name": "python3"
  },
  "language_info": {
   "codemirror_mode": {
    "name": "ipython",
    "version": 3
   },
   "file_extension": ".py",
   "mimetype": "text/x-python",
   "name": "python",
   "nbconvert_exporter": "python",
   "pygments_lexer": "ipython3",
   "version": "3.9.13"
  }
 },
 "nbformat": 4,
 "nbformat_minor": 5
}
