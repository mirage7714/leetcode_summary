{
 "cells": [
  {
   "cell_type": "markdown",
   "id": "864bfe01-3d29-42db-8286-e3e8728f1923",
   "metadata": {},
   "source": [
    "# 本題要找出最小的list排列為何 (\\#Array )\n",
    "原題目連結: https://leetcode.com/problems/make-lexicographically-smallest-array-by-swapping-elements/description/  \n",
    "\n",
    "You are given a 0-indexed array of positive integers nums and a positive integer limit.  \n",
    "In one operation, you can choose any two indices i and j and swap nums[i] and nums[j] if |nums[i] - nums[j]| <= limit.  \n",
    "Return the lexicographically smallest array that can be obtained by performing the operation any number of times.  \n",
    "An array a is lexicographically smaller than an array b if in the first position where a and b differ, array a has an element that is less than the corresponding element in b. For example, the array [2,10,3] is lexicographically smaller than the array [10,2,3] because they differ at index 0 and 2 < 10.  \n",
    "\n",
    "範例:  \n",
    "Ex1:  \n",
    "Input: nums = [1,5,3,9,8], limit = 2  \n",
    "Output: [1,3,5,8,9]  \n",
    "Explanation: Apply the operation 2 times:  \n",
    "- Swap nums[1] with nums[2]. The array becomes [1,3,5,9,8]  \n",
    "- Swap nums[3] with nums[4]. The array becomes [1,3,5,8,9]  \n",
    "We cannot obtain a lexicographically smaller array by applying any more operations.  \n",
    "Note that it may be possible to get the same result by doing different operations.  \n",
    "\n",
    "Ex2:  \n",
    "Input: nums = [1,7,6,18,2,1], limit = 3  \n",
    "Output: [1,6,7,18,1,2]  \n",
    "Explanation: Apply the operation 3 times:  \n",
    "- Swap nums[1] with nums[2]. The array becomes [1,6,7,18,2,1]  \n",
    "- Swap nums[0] with nums[4]. The array becomes [2,6,7,18,1,1]  \n",
    "- Swap nums[0] with nums[5]. The array becomes [1,6,7,18,1,2]  \n",
    "We cannot obtain a lexicographically smaller array by applying any more operations.  \n",
    "\n",
    "Ex3:  \n",
    "Input: nums = [1,7,28,19,10], limit = 3  \n",
    "Output: [1,7,28,19,10]  \n",
    "Explanation: [1,7,28,19,10] is the lexicographically smallest array we can obtain because we cannot apply the operation on any two indices."
   ]
  },
  {
   "cell_type": "markdown",
   "id": "f216bf1b-76de-41d9-9798-1d2cf7fb3d58",
   "metadata": {},
   "source": [
    "* 解題想法:  \n",
    "首先將每個數值所對應的index轉換成dict，接著從key值排序後開始取出，如果符合相差小於或等於limit則先放入一個暫存中，接著從暫存中將可用的index取出之後進行排序，並將較大的數值給予較後面的index，並將對應的值放入結果的list中，最後回傳結果"
   ]
  },
  {
   "cell_type": "code",
   "execution_count": null,
   "id": "348f6215-6c5a-48c6-ab34-be5bf54805e8",
   "metadata": {},
   "outputs": [],
   "source": [
    "class Solution:\n",
    "    def lexicographicallySmallestArray(self, nums: List[int], limit: int) -> List[int]:\n",
    "        def reorder(count, keys, res):\n",
    "            i = []\n",
    "            for k in keys:\n",
    "                i += count[k]\n",
    "            i.sort()\n",
    "            for k in keys:\n",
    "                for _ in range(len(count[k])):\n",
    "                    l = i.pop()\n",
    "                    res[l] = k\n",
    "\n",
    "        count = {}\n",
    "        res = [0] * len(nums)\n",
    "        for i in range(len(nums)):\n",
    "            n = nums[i]\n",
    "            if n not in count.keys():\n",
    "                count[n] = [i]\n",
    "            else:\n",
    "                count[n].append(i)\n",
    "        keys = list(count.keys())\n",
    "        keys.sort()\n",
    "        temp = []\n",
    "        while keys:\n",
    "            n = keys.pop()\n",
    "            if not temp:\n",
    "                temp.append(n)\n",
    "            elif temp[-1] - n <= limit:\n",
    "                temp.append(n)\n",
    "            else:\n",
    "                reorder(count, temp, res)\n",
    "                temp.clear()\n",
    "                temp.append(n)\n",
    "        if temp:\n",
    "            reorder(count, temp, res)\n",
    "        return res"
   ]
  }
 ],
 "metadata": {
  "kernelspec": {
   "display_name": "Python 3 (ipykernel)",
   "language": "python",
   "name": "python3"
  },
  "language_info": {
   "codemirror_mode": {
    "name": "ipython",
    "version": 3
   },
   "file_extension": ".py",
   "mimetype": "text/x-python",
   "name": "python",
   "nbconvert_exporter": "python",
   "pygments_lexer": "ipython3",
   "version": "3.9.13"
  }
 },
 "nbformat": 4,
 "nbformat_minor": 5
}
