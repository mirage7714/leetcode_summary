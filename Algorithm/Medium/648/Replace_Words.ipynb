{
 "cells": [
  {
   "cell_type": "markdown",
   "metadata": {},
   "source": [
    "# 本題要將提供的句子中的字進行替換\n",
    "原題目連結： https://leetcode.com/problems/replace-words/  \n",
    "\n",
    "In English, we have a concept called root, which can be followed by some other word to form another longer word - let's call this word successor. For example, when the root \"an\" is followed by the successor word \"other\", we can form a new word \"another\".  \n",
    "\n",
    "Given a dictionary consisting of many roots and a sentence consisting of words separated by spaces, replace all the successors in the sentence with the root forming it. If a successor can be replaced by more than one root, replace it with the root that has the shortest length.  \n",
    "\n",
    "Return the sentence after the replacement.  \n",
    "\n",
    "範例：  \n",
    "Ex1:  \n",
    "Input: dictionary = [\"cat\",\"bat\",\"rat\"], sentence = \"the cattle was rattled by the battery\"  \n",
    "Output: \"the cat was rat by the bat\"  \n",
    "\n",
    "Ex2:  \n",
    "Input: dictionary = [\"a\",\"b\",\"c\"], sentence = \"aadsfasf absbs bbab cadsfafs\"  \n",
    "Output: \"a a b c\"  \n",
    "\n",
    "Ex3:  \n",
    "Input: dictionary = [\"a\", \"aa\", \"aaa\", \"aaaa\"], sentence = \"a aa a aaaa aaa aaa aaa aaaaaa bbb baba ababa\"  \n",
    "Output: \"a a a a a a a a bbb baba a\"  \n",
    "\n",
    "Ex4:  \n",
    "Input: dictionary = [\"catt\",\"cat\",\"bat\",\"rat\"], sentence = \"the cattle was rattled by the battery\"  \n",
    "Output: \"the cat was rat by the bat\"  \n",
    "\n",
    "Ex5:  \n",
    "Input: dictionary = [\"ac\",\"ab\"], sentence = \"it is abnormal that this solution is accepted\"  \n",
    "Output: \"it is ab that this solution is ac\""
   ]
  },
  {
   "cell_type": "markdown",
   "metadata": {},
   "source": [
    "* 解題想法：  \n",
    "依題目的說明，要找出句子中的字是否含有dictionary中的字首，如果有的話要將字替換為字首  \n",
    "因此先將原本的list轉換成dict並用第一個字母當成key值，在比對的時候用第一個字母當成比較的目標，如果有出現則將結果的list取出並進行排序  \n",
    "接著檢查文字的開頭是否有出現在list中，如果有則將文字取代並中斷迴圈，最後將新的字串進行回傳"
   ]
  },
  {
   "cell_type": "code",
   "execution_count": null,
   "metadata": {},
   "outputs": [],
   "source": [
    "class Solution:\n",
    "    def replaceWords(self, dictionary: List[str], sentence: str) -> str:\n",
    "        freq = {}\n",
    "        words = []\n",
    "        result = ''\n",
    "        for s in sentence.split(' '):\n",
    "            words.append(s)\n",
    "            \n",
    "        for d in dictionary:\n",
    "            if d[0] not in freq.keys():\n",
    "                freq[d[0]] = [d]\n",
    "            else:\n",
    "                freq[d[0]].append(d)\n",
    "        \n",
    "        for w in words:\n",
    "            if w[0] in freq.keys():\n",
    "                i = words.index(w)\n",
    "                l = freq[w[0]]\n",
    "                l.sort()\n",
    "                for m in l:\n",
    "                    if w.startswith(m):\n",
    "                        words[i] = m\n",
    "                        break\n",
    "        for word in words:\n",
    "            result += word + ' '\n",
    "        return result.rstrip()"
   ]
  }
 ],
 "metadata": {
  "kernelspec": {
   "display_name": "Python 3",
   "language": "python",
   "name": "python3"
  },
  "language_info": {
   "codemirror_mode": {
    "name": "ipython",
    "version": 3
   },
   "file_extension": ".py",
   "mimetype": "text/x-python",
   "name": "python",
   "nbconvert_exporter": "python",
   "pygments_lexer": "ipython3",
   "version": "3.7.6"
  }
 },
 "nbformat": 4,
 "nbformat_minor": 4
}
