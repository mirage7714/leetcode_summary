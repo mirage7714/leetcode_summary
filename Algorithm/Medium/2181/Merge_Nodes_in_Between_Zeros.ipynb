{
 "cells": [
  {
   "cell_type": "markdown",
   "metadata": {},
   "source": [
    "# 本題要將不為0的node進行合併，最後回傳新的ListNode\n",
    "原題目連結: https://leetcode.com/problems/merge-nodes-in-between-zeros/  \n",
    "\n",
    "You are given the head of a linked list, which contains a series of integers separated by 0's. The beginning and end of the linked list will have Node.val == 0.  \n",
    "\n",
    "For every two consecutive 0's, merge all the nodes lying in between them into a single node whose value is the sum of all the merged nodes. The modified list should not contain any 0's.  \n",
    "\n",
    "Return the head of the modified linked list.  \n",
    "\n",
    "範例:  \n",
    "Ex1:  \n",
    "Input: head = [0,3,1,0,4,5,2,0]  \n",
    "Output: [4,11]  \n",
    "Explanation:   \n",
    "The above figure represents the given linked list. The modified list contains  \n",
    "- The sum of the nodes marked in green: 3 + 1 = 4.  \n",
    "- The sum of the nodes marked in red: 4 + 5 + 2 = 11.  \n",
    "\n",
    "Ex2:  \n",
    "Input: head = [0,1,0,3,0,2,2,0]  \n",
    "Output: [1,3,4]  \n",
    "Explanation:   \n",
    "The above figure represents the given linked list. The modified list contains  \n",
    "- The sum of the nodes marked in green: 1 = 1.  \n",
    "- The sum of the nodes marked in red: 3 = 3.  \n",
    "- The sum of the nodes marked in yellow: 2 + 2 = 4."
   ]
  },
  {
   "cell_type": "markdown",
   "metadata": {},
   "source": [
    "* 解題想法:  \n",
    "首先將ListNode走完一遍，並找出兩個0之間不為0的結點總和，接著重新創造一個ListNode，並將不為0的數值重新填回去，最後回傳新的ListNode"
   ]
  },
  {
   "cell_type": "code",
   "execution_count": null,
   "metadata": {},
   "outputs": [],
   "source": [
    "# Definition for singly-linked list.\n",
    "# class ListNode:\n",
    "#     def __init__(self, val=0, next=None):\n",
    "#         self.val = val\n",
    "#         self.next = next\n",
    "class Solution:\n",
    "    def mergeNodes(self, head: Optional[ListNode]) -> Optional[ListNode]:\n",
    "        count = {}\n",
    "        index = 0\n",
    "        temp = 0\n",
    "        while head.next != None:\n",
    "            val = head.val\n",
    "            if val != 0:\n",
    "                temp += val\n",
    "            else:\n",
    "                if temp != 0:\n",
    "                    count[index] = temp\n",
    "                    temp = 0\n",
    "                    index += 1\n",
    "            head = head.next\n",
    "        count[index] = temp + head.val\n",
    "        nodes = []\n",
    "        keys = list(count.keys())\n",
    "        keys.sort(reverse = True)\n",
    "        for m in range(len(keys)):\n",
    "            tempNode = ListNode()\n",
    "            tempNode.val = count[keys[m]]\n",
    "            if m > 0:\n",
    "                tempNode.next = nodes[-1]\n",
    "            nodes.append(tempNode)\n",
    "        return nodes[-1]"
   ]
  }
 ],
 "metadata": {
  "kernelspec": {
   "display_name": "Python 3",
   "language": "python",
   "name": "python3"
  },
  "language_info": {
   "codemirror_mode": {
    "name": "ipython",
    "version": 3
   },
   "file_extension": ".py",
   "mimetype": "text/x-python",
   "name": "python",
   "nbconvert_exporter": "python",
   "pygments_lexer": "ipython3",
   "version": "3.7.4"
  }
 },
 "nbformat": 4,
 "nbformat_minor": 4
}
