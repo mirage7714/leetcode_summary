{
 "cells": [
  {
   "cell_type": "markdown",
   "metadata": {},
   "source": [
    "# 本題要找出在提供的字串中，共有多少由1組成的字串組合數\n",
    "原題目連結: https://leetcode.com/problems/number-of-substrings-with-only-1s/  \n",
    "\n",
    "Given a binary string s (a string consisting only of '0' and '1's).  \n",
    "\n",
    "Return the number of substrings with all characters 1's.  \n",
    "\n",
    "Since the answer may be too large, return it modulo 10^9 + 7.  \n",
    "\n",
    "範例:  \n",
    "Ex1:  \n",
    "Input: s = \"0110111\"  \n",
    "Output: 9  \n",
    "Explanation: There are 9 substring in total with only 1's characters.  \n",
    "\"1\" -> 5 times.  \n",
    "\"11\" -> 3 times.  \n",
    "\"111\" -> 1 time.  \n",
    "\n",
    "Ex2:  \n",
    "Input: s = \"101\"  \n",
    "Output: 2  \n",
    "Explanation: Substring \"1\" is shown 2 times in s.  \n",
    "\n",
    "Ex3:  \n",
    "Input: s = \"111111\"  \n",
    "Output: 21  \n",
    "Explanation: Each substring contains only 1's characters.  \n",
    "\n",
    "Ex4:  \n",
    "Input: s = \"000\"  \n",
    "Output: 0"
   ]
  },
  {
   "cell_type": "markdown",
   "metadata": {},
   "source": [
    "* 解題想法:  \n",
    "依題目說明，首先要找出組成為1的字串長度有多少，接著就可以算出這段1共可以有幾種組合，最後將所有組合數加總起來再依題目要求的進行mod 10^9 + 7才是最後的答案"
   ]
  },
  {
   "cell_type": "code",
   "execution_count": null,
   "metadata": {},
   "outputs": [],
   "source": [
    "class Solution:\n",
    "    def numSub(self, s: str) -> int:\n",
    "        def count(size):\n",
    "            total = 0\n",
    "            for m in range(size):\n",
    "                total += m+1\n",
    "            return total\n",
    "        result = 0\n",
    "        total = 0\n",
    "        if '1' in s:\n",
    "            temp = 0\n",
    "            for m in range(len(s)-1):\n",
    "                if s[m] == '1':\n",
    "                    temp += 1\n",
    "                    total += 1\n",
    "                if s[m+1] != '1':\n",
    "                    result += count(temp)\n",
    "                    temp = 0\n",
    "            if s[-1] == '1':\n",
    "                temp += 1\n",
    "                result += count(temp)\n",
    "        return result % 1000000007"
   ]
  }
 ],
 "metadata": {
  "kernelspec": {
   "display_name": "Python 3",
   "language": "python",
   "name": "python3"
  },
  "language_info": {
   "codemirror_mode": {
    "name": "ipython",
    "version": 3
   },
   "file_extension": ".py",
   "mimetype": "text/x-python",
   "name": "python",
   "nbconvert_exporter": "python",
   "pygments_lexer": "ipython3",
   "version": "3.7.4"
  }
 },
 "nbformat": 4,
 "nbformat_minor": 2
}
