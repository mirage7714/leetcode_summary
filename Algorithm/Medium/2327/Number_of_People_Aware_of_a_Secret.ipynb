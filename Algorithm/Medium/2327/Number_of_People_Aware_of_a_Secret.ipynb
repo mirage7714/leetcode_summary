{
 "cells": [
  {
   "cell_type": "markdown",
   "metadata": {},
   "source": [
    "# 本題要計算在第n天的時候，總共會有多少人\n",
    "原題目連結: https://leetcode.com/problems/number-of-people-aware-of-a-secret/  \n",
    "\n",
    "On day 1, one person discovers a secret.  \n",
    "\n",
    "You are given an integer delay, which means that each person will share the secret with a new person every day, starting from delay days after discovering the secret. You are also given an integer forget, which means that each person will forget the secret forget days after discovering it. A person cannot share the secret on the same day they forgot it, or on any day afterwards.  \n",
    "\n",
    "Given an integer n, return the number of people who know the secret at the end of day n. Since the answer may be very large, return it modulo 109 + 7.  \n",
    "\n",
    "範例:  \n",
    "Ex1:  \n",
    "Input: n = 6, delay = 2, forget = 4  \n",
    "Output: 5  \n",
    "Explanation:  \n",
    "Day 1: Suppose the first person is named A. (1 person)  \n",
    "Day 2: A is the only person who knows the secret. (1 person)  \n",
    "Day 3: A shares the secret with a new person, B. (2 people)  \n",
    "Day 4: A shares the secret with a new person, C. (3 people)    \n",
    "Day 5: A forgets the secret, and B shares the secret with a new person, D. (3 people)  \n",
    "Day 6: B shares the secret with E, and C shares the secret with F. (5 people)  \n",
    "\n",
    "Ex2:  \n",
    "Input: n = 4, delay = 1, forget = 3  \n",
    "Output: 6  \n",
    "Explanation:  \n",
    "Day 1: The first person is named A. (1 person)  \n",
    "Day 2: A shares the secret with B. (2 people)  \n",
    "Day 3: A and B share the secret with 2 new people, C and D. (4 people)  \n",
    "Day 4: A forgets the secret. B, C, and D share the secret with 3 new people. (6 people)  "
   ]
  },
  {
   "cell_type": "markdown",
   "metadata": {},
   "source": [
    "* 解題想法:  \n",
    "首先建立一個時間序列的list，用來存放在不同階段的人數共有多少，接著開始進行n-1的迴圈(因為第一天只有一個人，在剛開始就用掉了)，然後在每一天的迴圈中，需要把第n天的人移動到第n+1天，而最後一天的人就會被移出list中，另外如果符合delay條件的人在統計之後，最後會放入第0天的位置，最後將list內的每個值加起來後進行mod計算  \n",
    "例如範例一中的操作:  \n",
    "第1天: [1,0,0,0] (有A)  \n",
    "第2天: [0,1,0,0] (有A)  \n",
    "第3天: [1,0,1,0] (有A，B)  \n",
    "第4天: [1,1,0,1] (有A，B，C)  \n",
    "第5天: [1,1,1,0] (有B，C，D)  \n",
    "第6天: [2,1,1,1] (有B，C，D，E，F)  "
   ]
  },
  {
   "cell_type": "code",
   "execution_count": null,
   "metadata": {},
   "outputs": [],
   "source": [
    "class Solution:\n",
    "    def peopleAwareOfSecret(self, n: int, delay: int, forget: int) -> int:\n",
    "        days = [0] * forget\n",
    "        days[0] = 1\n",
    "        result = 0\n",
    "        for m in range(n-1):\n",
    "            total = 0\n",
    "            for l in range(len(days)-2, -1, -1):\n",
    "                if l >= delay -1: \n",
    "                    total += days[l]\n",
    "                temp = days[l]\n",
    "                days[l+1] = temp\n",
    "            days[0] = total\n",
    "        for d in days:\n",
    "            result += d\n",
    "        return result % (10**9+7)"
   ]
  }
 ],
 "metadata": {
  "kernelspec": {
   "display_name": "Python 3",
   "language": "python",
   "name": "python3"
  },
  "language_info": {
   "codemirror_mode": {
    "name": "ipython",
    "version": 3
   },
   "file_extension": ".py",
   "mimetype": "text/x-python",
   "name": "python",
   "nbconvert_exporter": "python",
   "pygments_lexer": "ipython3",
   "version": "3.7.4"
  }
 },
 "nbformat": 4,
 "nbformat_minor": 4
}
