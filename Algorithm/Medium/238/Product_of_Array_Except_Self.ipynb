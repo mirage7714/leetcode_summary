{
 "cells": [
  {
   "cell_type": "markdown",
   "metadata": {},
   "source": [
    "# 本題要找出list中除了自己以外的乘積和\n",
    "原題目連結: https://leetcode.com/problems/product-of-array-except-self/  \n",
    "\n",
    "Given an integer array nums, return an array answer such that answer[i] is equal to the product of all the elements of nums except nums[i].  \n",
    "The product of any prefix or suffix of nums is guaranteed to fit in a 32-bit integer.  \n",
    "You must write an algorithm that runs in O(n) time and without using the division operation.  \n",
    "\n",
    "範例:  \n",
    "Ex1:  \n",
    "Input: nums = [1,2,3,4]  \n",
    "Output: [24,12,8,6]  \n",
    "\n",
    "Ex2:  \n",
    "Input: nums = [-1,1,0,-3,3]  \n",
    "Output: [0,0,9,0,0]"
   ]
  },
  {
   "cell_type": "markdown",
   "metadata": {},
   "source": [
    "* 解題想法:  \n",
    "如果直接將總數相乘之後依據每個數值進行相除，是最直接的做法，不過因題目有要求不能用除法，所以參考了討論區的做法:  \n",
    "這邊使用兩次走訪的方式來進行，首先從左邊開始進行走訪，並將走訪之後的數值暫存下來，之後與下一個數值進行相乘，結束之後換成從右側開始進行走訪，並將數值暫存，最後就可以得到相乘之後的結果"
   ]
  },
  {
   "cell_type": "code",
   "execution_count": null,
   "metadata": {},
   "outputs": [],
   "source": [
    "class Solution:\n",
    "    def productExceptSelf(self, nums: List[int]) -> List[int]:\n",
    "        result = [1] * len(nums)\n",
    "        leftIndex = 1\n",
    "        for m in range(len(nums)):\n",
    "            result[m] = leftIndex\n",
    "            leftIndex *= nums[m]\n",
    "        print(result)\n",
    "        rightIndex = 1\n",
    "        for n in range(len(nums)-1, -1, -1):\n",
    "            result[n] *= rightIndex\n",
    "            print(result[n])\n",
    "            rightIndex *= nums[n]\n",
    "        return result"
   ]
  }
 ],
 "metadata": {
  "kernelspec": {
   "display_name": "Python 3",
   "language": "python",
   "name": "python3"
  },
  "language_info": {
   "codemirror_mode": {
    "name": "ipython",
    "version": 3
   },
   "file_extension": ".py",
   "mimetype": "text/x-python",
   "name": "python",
   "nbconvert_exporter": "python",
   "pygments_lexer": "ipython3",
   "version": "3.7.4"
  }
 },
 "nbformat": 4,
 "nbformat_minor": 4
}
