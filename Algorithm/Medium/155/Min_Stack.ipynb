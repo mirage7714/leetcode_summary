{
 "cells": [
  {
   "cell_type": "markdown",
   "metadata": {},
   "source": [
    "# 本題要實作一個min stack的功能\n",
    "原題目連結: https://leetcode.com/problems/min-stack/  \n",
    "\n",
    "Design a stack that supports push, pop, top, and retrieving the minimum element in constant time.  \n",
    "\n",
    "Implement the MinStack class:  \n",
    "\n",
    "MinStack() initializes the stack object.  \n",
    "void push(int val) pushes the element val onto the stack.  \n",
    "void pop() removes the element on the top of the stack.  \n",
    "int top() gets the top element of the stack.  \n",
    "int getMin() retrieves the minimum element in the stack.  \n",
    "You must implement a solution with O(1) time complexity for each function.  \n",
    "\n",
    "範例:  \n",
    "Ex1:  \n",
    "Input  \n",
    "[\"MinStack\",\"push\",\"push\",\"push\",\"getMin\",\"pop\",\"top\",\"getMin\"]  \n",
    "[[],[-2],[0],[-3],[],[],[],[]]  \n",
    "\n",
    "Output  \n",
    "[null,null,null,null,-3,null,0,-2]  \n",
    "\n",
    "Explanation  \n",
    "MinStack minStack = new MinStack();  \n",
    "minStack.push(-2);  \n",
    "minStack.push(0);  \n",
    "minStack.push(-3);  \n",
    "minStack.getMin(); // return -3  \n",
    "minStack.pop();  \n",
    "minStack.top();    // return 0  \n",
    "minStack.getMin(); // return -2  "
   ]
  },
  {
   "cell_type": "markdown",
   "metadata": {},
   "source": [
    "* 解題想法:  \n",
    "這題最大的要求就是所有的功能都要為O(1)，因此用了兩個list，一個用來存放所有的數字，另一個則用來存放最小值的暫存，接著開始實作題目的要求:  \n",
    "- push(): 將數值放入list1中，如果數值為最小值或是list2為空值時則將數值放入list2中  \n",
    "- pop(): 將數值從list1中移除，如果移除的數值為list2的最後一個數值則一併從list2中移除  \n",
    "- top(): 回傳list1的最後一個數值  \n",
    "- getMin(): 回傳list2的最後一個數值"
   ]
  },
  {
   "cell_type": "code",
   "execution_count": null,
   "metadata": {},
   "outputs": [],
   "source": [
    "class MinStack:\n",
    "\n",
    "    def __init__(self):\n",
    "        self.stack = []\n",
    "        self.backup = []\n",
    "\n",
    "    def push(self, val: int) -> None:\n",
    "        self.stack.append(val)\n",
    "        if not self.backup or self.backup[-1] >= val:\n",
    "            self.backup.append(val)\n",
    "\n",
    "    def pop(self) -> None:\n",
    "        n = self.stack.pop()\n",
    "        if self.backup[-1] == n:\n",
    "            self.backup.pop()\n",
    "\n",
    "    def top(self) -> int:\n",
    "        return self.stack[-1]\n",
    "\n",
    "    def getMin(self) -> int:\n",
    "        return self.backup[-1]\n",
    "\n",
    "\n",
    "# Your MinStack object will be instantiated and called as such:\n",
    "# obj = MinStack()\n",
    "# obj.push(val)\n",
    "# obj.pop()\n",
    "# param_3 = obj.top()\n",
    "# param_4 = obj.getMin()"
   ]
  }
 ],
 "metadata": {
  "kernelspec": {
   "display_name": "Python 3",
   "language": "python",
   "name": "python3"
  },
  "language_info": {
   "codemirror_mode": {
    "name": "ipython",
    "version": 3
   },
   "file_extension": ".py",
   "mimetype": "text/x-python",
   "name": "python",
   "nbconvert_exporter": "python",
   "pygments_lexer": "ipython3",
   "version": "3.7.4"
  }
 },
 "nbformat": 4,
 "nbformat_minor": 4
}
