{
 "cells": [
  {
   "cell_type": "markdown",
   "metadata": {},
   "source": [
    "# 本題要驗證數獨的題目是否符合規定\n",
    "原題目連結: https://leetcode.com/problems/valid-sudoku/  \n",
    "\n",
    "Determine if a 9 x 9 Sudoku board is valid. Only the filled cells need to be validated according to the following rules:  \n",
    "\n",
    "Each row must contain the digits 1-9 without repetition.  \n",
    "Each column must contain the digits 1-9 without repetition.  \n",
    "Each of the nine 3 x 3 sub-boxes of the grid must contain the digits 1-9 without repetition.  \n",
    "Note:  \n",
    "\n",
    "A Sudoku board (partially filled) could be valid but is not necessarily solvable.  \n",
    "Only the filled cells need to be validated according to the mentioned rules.  \n",
    "\n",
    "範例:  \n",
    "Ex1:  \n",
    "Input: board =   \n",
    "[[\"5\",\"3\",\".\",\".\",\"7\",\".\",\".\",\".\",\".\"]  \n",
    ",[\"6\",\".\",\".\",\"1\",\"9\",\"5\",\".\",\".\",\".\"]  \n",
    ",[\".\",\"9\",\"8\",\".\",\".\",\".\",\".\",\"6\",\".\"]  \n",
    ",[\"8\",\".\",\".\",\".\",\"6\",\".\",\".\",\".\",\"3\"]  \n",
    ",[\"4\",\".\",\".\",\"8\",\".\",\"3\",\".\",\".\",\"1\"]  \n",
    ",[\"7\",\".\",\".\",\".\",\"2\",\".\",\".\",\".\",\"6\"]  \n",
    ",[\".\",\"6\",\".\",\".\",\".\",\".\",\"2\",\"8\",\".\"]  \n",
    ",[\".\",\".\",\".\",\"4\",\"1\",\"9\",\".\",\".\",\"5\"]  \n",
    ",[\".\",\".\",\".\",\".\",\"8\",\".\",\".\",\"7\",\"9\"]]  \n",
    "Output: true  \n",
    "\n",
    "Ex2:  \n",
    "Input: board =   \n",
    "[[\"8\",\"3\",\".\",\".\",\"7\",\".\",\".\",\".\",\".\"]  \n",
    ",[\"6\",\".\",\".\",\"1\",\"9\",\"5\",\".\",\".\",\".\"]   \n",
    ",[\".\",\"9\",\"8\",\".\",\".\",\".\",\".\",\"6\",\".\"]  \n",
    ",[\"8\",\".\",\".\",\".\",\"6\",\".\",\".\",\".\",\"3\"]  \n",
    ",[\"4\",\".\",\".\",\"8\",\".\",\"3\",\".\",\".\",\"1\"]  \n",
    ",[\"7\",\".\",\".\",\".\",\"2\",\".\",\".\",\".\",\"6\"]  \n",
    ",[\".\",\"6\",\".\",\".\",\".\",\".\",\"2\",\"8\",\".\"]  \n",
    ",[\".\",\".\",\".\",\"4\",\"1\",\"9\",\".\",\".\",\"5\"]  \n",
    ",[\".\",\".\",\".\",\".\",\"8\",\".\",\".\",\"7\",\"9\"]]  \n",
    "Output: false  \n",
    "Explanation: Same as Example 1, except with the 5 in the top left corner being modified to 8. Since there are two 8's in the top left 3x3 sub-box, it is invalid."
   ]
  },
  {
   "cell_type": "markdown",
   "metadata": {},
   "source": [
    "* 解題想法:  \n",
    "首先建立一個函數，用來檢查list內是否有重複出現的數字，接著開始檢查row，column，以及每九格內是否有出現重複的數字，如果都沒有重複的數字，則代表這個題目是有效的"
   ]
  },
  {
   "cell_type": "code",
   "execution_count": null,
   "metadata": {},
   "outputs": [],
   "source": [
    "class Solution:\n",
    "    def isValidSudoku(self, board: List[List[str]]) -> bool:\n",
    "        def checkEle(nums):\n",
    "            count = {}\n",
    "            for n in nums:\n",
    "                if n.isnumeric():\n",
    "                    if n not in count.keys():\n",
    "                        count[n] = 1\n",
    "                    else:\n",
    "                        return False\n",
    "            return True\n",
    "        \n",
    "        for m in range(9):\n",
    "            if not checkEle(board[m]):\n",
    "                return False\n",
    "        for n in range(9):\n",
    "            temp = []\n",
    "            for l in range(9):\n",
    "                temp.append(board[l][n])\n",
    "            if not checkEle(temp):\n",
    "                return False\n",
    "        for x in range(3):\n",
    "            x_start = x * 3\n",
    "            x_end = x_start + 3\n",
    "            for y in range(3):\n",
    "                y_start = y * 3\n",
    "                y_end = y_start + 3\n",
    "                temp = []\n",
    "                for i in range(x_start, x_end):\n",
    "                    for j in range(y_start, y_end):\n",
    "                        temp.append(board[i][j])\n",
    "                if not checkEle(temp):\n",
    "                    return False\n",
    "        return True"
   ]
  }
 ],
 "metadata": {
  "kernelspec": {
   "display_name": "Python 3",
   "language": "python",
   "name": "python3"
  },
  "language_info": {
   "codemirror_mode": {
    "name": "ipython",
    "version": 3
   },
   "file_extension": ".py",
   "mimetype": "text/x-python",
   "name": "python",
   "nbconvert_exporter": "python",
   "pygments_lexer": "ipython3",
   "version": "3.7.4"
  }
 },
 "nbformat": 4,
 "nbformat_minor": 4
}
