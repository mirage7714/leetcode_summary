{
 "cells": [
  {
   "cell_type": "markdown",
   "metadata": {},
   "source": [
    "# 本題要找出最多可以將一個字串分成幾個部分\n",
    "原題目連結: https://leetcode.com/problems/partition-labels/  \n",
    "\n",
    "You are given a string s. We want to partition the string into as many parts as possible so that each letter appears in at most one part.  \n",
    "\n",
    "Return a list of integers representing the size of these parts.  \n",
    "\n",
    "範例:  \n",
    "Ex1:  \n",
    "Input: s = \"ababcbacadefegdehijhklij\"  \n",
    "Output: [9,7,8]  \n",
    "Explanation:  \n",
    "The partition is \"ababcbaca\", \"defegde\", \"hijhklij\".  \n",
    "This is a partition so that each letter appears in at most one part.  \n",
    "A partition like \"ababcbacadefegde\", \"hijhklij\" is incorrect, because it splits s into less parts.  \n",
    "\n",
    "Ex2:  \n",
    "Input: s = \"eccbbbbdec\"  \n",
    "Output: [10]"
   ]
  },
  {
   "cell_type": "markdown",
   "metadata": {},
   "source": [
    "* 解題想法:  \n",
    "手先找出每個字母分布在字串中的index各為何，並轉換成一個dict，並將dict中的value抽出後轉換成一個list  \n",
    "接著對這個list做merge，以確保list中的每個值都彼此不重疊，最後找出這些值的距離為何病放入一個list中，就是最後的答案"
   ]
  },
  {
   "cell_type": "code",
   "execution_count": null,
   "metadata": {},
   "outputs": [],
   "source": [
    "class Solution:\n",
    "    def partitionLabels(self, S: str) -> List[int]:\n",
    "        freq = {}\n",
    "        result = []\n",
    "        for s in range(len(S)):\n",
    "            if S[s] not in freq.keys():\n",
    "                freq[S[s]] = [s]\n",
    "            else:\n",
    "                if len(freq[S[s]]) == 1:\n",
    "                    freq[S[s]].append(s)\n",
    "                else:\n",
    "                    freq[S[s]][1] = s\n",
    "        val = list(freq.values())\n",
    "        val.sort()\n",
    "        while True:\n",
    "            s = len(val)\n",
    "            for m in range(len(val)-1):\n",
    "                if val[m][-1] < val[m+1][-1]:\n",
    "                    if val[m][-1] > val[m+1][0]:\n",
    "                        val[m] = [val[m][0], val[m+1][-1]]\n",
    "                        val.pop(m+1)\n",
    "                        break\n",
    "                else:\n",
    "                    if val[m][0] < val[m+1][0]:\n",
    "                        val.pop(m+1)\n",
    "                        break\n",
    "            if len(val) == s:\n",
    "                break\n",
    "        for v in val:\n",
    "            if len(v) > 1:\n",
    "                result.append(v[1] - v[0] + 1)\n",
    "            else:\n",
    "                result.append(1)\n",
    "        return result"
   ]
  }
 ],
 "metadata": {
  "kernelspec": {
   "display_name": "Python 3",
   "language": "python",
   "name": "python3"
  },
  "language_info": {
   "codemirror_mode": {
    "name": "ipython",
    "version": 3
   },
   "file_extension": ".py",
   "mimetype": "text/x-python",
   "name": "python",
   "nbconvert_exporter": "python",
   "pygments_lexer": "ipython3",
   "version": "3.7.4"
  }
 },
 "nbformat": 4,
 "nbformat_minor": 2
}
