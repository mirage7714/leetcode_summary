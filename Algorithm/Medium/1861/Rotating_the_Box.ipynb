{
 "cells": [
  {
   "cell_type": "markdown",
   "metadata": {},
   "source": [
    "# 本題要找出旋轉後的array為何\n",
    "原題目連結: https://leetcode.com/problems/rotating-the-box/  \n",
    "\n",
    "You are given an m x n matrix of characters box representing a side-view of a box. Each cell of the box is one of the following:  \n",
    "\n",
    "A stone '#'  \n",
    "A stationary obstacle '*'  \n",
    "Empty '.'  \n",
    "The box is rotated 90 degrees clockwise, causing some of the stones to fall due to gravity. Each stone falls down until it lands on an obstacle, another stone, or the bottom of the box. Gravity does not affect the obstacles' positions, and the inertia from the box's rotation does not affect the stones' horizontal positions.  \n",
    "\n",
    "It is guaranteed that each stone in box rests on an obstacle, another stone, or the bottom of the box.  \n",
    "\n",
    "Return an n x m matrix representing the box after the rotation described above.  \n",
    "\n",
    "範例:  \n",
    "Ex1:  \n",
    "Input: box = [[\"#\",\".\",\"#\"]]  \n",
    "Output: [[\".\"], [\"#\"], [\"#\"]]  \n",
    "         \n",
    "Ex2:  \n",
    "Input: box = [[\"#\",\".\",\"*\",\".\"], [\"#\",\"#\",\"*\",\".\"]]  \n",
    "Output: [[\"#\",\".\"], [\"#\",\"#\"], [\"*\",\"*\"], [\".\",\".\"]]  \n",
    "\n",
    "Ex3:  \n",
    "Input: box = [[\"#\",\"#\",\"*\",\".\",\"*\",\".\"], [\"#\",\"#\",\"#\",\"*\",\".\",\".\"], [\"#\",\"#\",\"#\",\".\",\"#\",\".\"]]  \n",
    "Output: [[\".\",\"#\",\"#\"], [\".\",\"#\",\"#\"], [\"#\",\"#\",\"*\"], [\"#\",\"*\",\".\"], [\"#\",\".\",\"*\"], [\"#\",\".\",\".\"]]"
   ]
  },
  {
   "cell_type": "markdown",
   "metadata": {},
   "source": [
    "* 解題想法:  \n",
    "依題目說明，將流程拆成兩個部分:  \n",
    "- 首先分析list中每個sub list的成分為何:  \n",
    "  - 如果有包含障礙的話則先建立兩個list(temp與temp1)，接著逐一檢查每個元素，如果是障礙的話則將temp1內的字元全部加入temp中，並將temp1清空，如果不是障礙的話，則檢查是否為空，如果是空值則插入temp1的第一個元素的位置，否則放在temp1的最後面  \n",
    "  - 對於沒有障礙的list，則直接分析是否為空值，如果為空值則放到第一個元素，否則就加到最後，並將整理完後的list回傳  \n",
    "- 接著是處理旋轉的部分，找出list長度與sub list長度後轉置，就是題目要求的答案"
   ]
  },
  {
   "cell_type": "code",
   "execution_count": null,
   "metadata": {},
   "outputs": [],
   "source": [
    "class Solution:\n",
    "    def rotateTheBox(self, box: List[List[str]]) -> List[List[str]]:\n",
    "        def moveToRight(nums):\n",
    "            result = []\n",
    "            for num in nums:\n",
    "                if '*' in num:\n",
    "                    temp = []\n",
    "                    temp1 = []\n",
    "                    for n in num:\n",
    "                        if n == '*':\n",
    "                            temp += temp1\n",
    "                            temp.append('*')\n",
    "                            temp1.clear()\n",
    "                        elif n == '.':\n",
    "                            temp1.insert(0, n)\n",
    "                        else:\n",
    "                            temp1.append(n)\n",
    "                    temp += temp1\n",
    "                    result.append(temp)\n",
    "                else:\n",
    "                    if '#' in num:\n",
    "                        temp = []\n",
    "                        for n in num:\n",
    "                            if n == '.':\n",
    "                                temp.insert(0,n)\n",
    "                            else:\n",
    "                                temp.append(n)\n",
    "                        result.append(temp)\n",
    "                    else:\n",
    "                        result.append(num)\n",
    "            return result\n",
    "        \n",
    "        def rotate(nums):\n",
    "            result = []\n",
    "            row_size = len(nums[0])\n",
    "            col_size = len(nums)\n",
    "            for m in range(row_size):\n",
    "                temp = []\n",
    "                for n in range(col_size):\n",
    "                    temp.insert(0, nums[n][m])\n",
    "                result.append(temp)\n",
    "            return result\n",
    "        \n",
    "        return rotate(moveToRight(box))"
   ]
  }
 ],
 "metadata": {
  "kernelspec": {
   "display_name": "Python 3",
   "language": "python",
   "name": "python3"
  },
  "language_info": {
   "codemirror_mode": {
    "name": "ipython",
    "version": 3
   },
   "file_extension": ".py",
   "mimetype": "text/x-python",
   "name": "python",
   "nbconvert_exporter": "python",
   "pygments_lexer": "ipython3",
   "version": "3.7.4"
  }
 },
 "nbformat": 4,
 "nbformat_minor": 2
}
