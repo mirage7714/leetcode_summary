{
 "cells": [
  {
   "cell_type": "markdown",
   "metadata": {},
   "source": [
    "# 本題要找出符合定義的子字串中，最大長度為多少\n",
    "原題目連結: https://leetcode.com/problems/longest-substring-of-all-vowels-in-order/  \n",
    "\n",
    "A string is considered beautiful if it satisfies the following conditions:  \n",
    "\n",
    "Each of the 5 English vowels ('a', 'e', 'i', 'o', 'u') must appear at least once in it.  \n",
    "The letters must be sorted in alphabetical order (i.e. all 'a's before 'e's, all 'e's before 'i's, etc.).  \n",
    "For example, strings \"aeiou\" and \"aaaaaaeiiiioou\" are considered beautiful, but \"uaeio\", \"aeoiu\", and \"aaaeeeooo\" are not beautiful.  \n",
    "\n",
    "Given a string word consisting of English vowels, return the length of the longest beautiful substring of word. If no such substring exists, return 0.  \n",
    "\n",
    "A substring is a contiguous sequence of characters in a string.  \n",
    "\n",
    "範例:  \n",
    "Ex1:  \n",
    "Input: word = \"aeiaaioaaaaeiiiiouuuooaauuaeiu\"  \n",
    "Output: 13  \n",
    "Explanation: The longest beautiful substring in word is \"aaaaeiiiiouuu\" of length 13.  \n",
    "\n",
    "Ex2:  \n",
    "Input: word = \"aeeeiiiioooauuuaeiou\"  \n",
    "Output: 5  \n",
    "Explanation: The longest beautiful substring in word is \"aeiou\" of length 5.  \n",
    "\n",
    "Ex3:  \n",
    "Input: word = \"a\"  \n",
    "Output: 0  \n",
    "Explanation: There is no beautiful substring, so return 0."
   ]
  },
  {
   "cell_type": "markdown",
   "metadata": {},
   "source": [
    "* 解題想法:  \n",
    "依題目的定義，首先字母出現的順序必須由小到大，且必須包含五種字母，因此首先建立一個list(count)來存放可能出現的子字串長度，另外建立一個list(temp)來暫時儲存已經出現的字母，並用一個dict(vowels)來建立字母大小的排序，接著開始用迴圈來逐字判斷:  \n",
    " - 如果temp為空，且第一個字為a，則加入temp中，否則繼續往下  \n",
    " - 如果temp不為空，則判斷temp最後一個字與目前的字大小比較為何，如果目前的字比temp最後一個字大，則繼續加入temp中，如果小於的話則不符合順序的要求，此時需檢查temp內是否包含所有字母，如果不符合則直接清空，如果符合的話則將temp長度加入counts內  \n",
    " - 最後當迴圈結束時，檢查temp內是否還有符合題目定義的字串，如果有則將temp長度加入counts內    \n",
    " \n",
    "最後將counts內的最大值回傳"
   ]
  },
  {
   "cell_type": "code",
   "execution_count": null,
   "metadata": {},
   "outputs": [],
   "source": [
    "class Solution:\n",
    "    def longestBeautifulSubstring(self, word: str) -> int:\n",
    "        \n",
    "        def checkValid(chars):\n",
    "            valid = False\n",
    "            if 'a' in chars:\n",
    "                if 'e' in chars:\n",
    "                    if 'i' in chars:\n",
    "                        if 'o' in chars:\n",
    "                            if 'u' in chars:\n",
    "                                valid = True\n",
    "            return valid\n",
    "        \n",
    "        counts = [0]\n",
    "        temp = []\n",
    "        vowels = {'a':1, 'e':2, 'i':3, 'o':4,'u':5}\n",
    "        if len(word) > 4:\n",
    "            for m in range(len(word)):\n",
    "                if len(temp) > 0 :\n",
    "                    if vowels[word[m]] >= vowels[temp[-1]]:\n",
    "                        temp.append(word[m])\n",
    "                    else:\n",
    "                        if checkValid(temp):\n",
    "                            s = len(temp)\n",
    "                            counts.append(s)\n",
    "                        temp.clear()\n",
    "                        temp.append(word[m])\n",
    "                else:\n",
    "                    if word[m] == 'a':\n",
    "                        temp.append(word[m])\n",
    "            if checkValid(temp):\n",
    "                counts.append(len(temp))\n",
    "        return max(counts)"
   ]
  }
 ],
 "metadata": {
  "kernelspec": {
   "display_name": "Python 3",
   "language": "python",
   "name": "python3"
  },
  "language_info": {
   "codemirror_mode": {
    "name": "ipython",
    "version": 3
   },
   "file_extension": ".py",
   "mimetype": "text/x-python",
   "name": "python",
   "nbconvert_exporter": "python",
   "pygments_lexer": "ipython3",
   "version": "3.7.6"
  }
 },
 "nbformat": 4,
 "nbformat_minor": 4
}
