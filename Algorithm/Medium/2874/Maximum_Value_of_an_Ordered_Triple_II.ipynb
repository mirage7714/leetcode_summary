{
 "cells": [
  {
   "cell_type": "markdown",
   "id": "690bcdc2-1ad2-4892-b796-721575061da9",
   "metadata": {},
   "source": [
    "# 本題要找出最大的組合數值為多少 (\\#Array )\n",
    "原題目連結：https://leetcode.com/problems/maximum-value-of-an-ordered-triplet-ii/description/  \n",
    "\n",
    "You are given a 0-indexed integer array nums.  \n",
    "Return the maximum value over all triplets of indices (i, j, k) such that i < j < k. If all such triplets have a negative value, return 0.  \n",
    "\n",
    "The value of a triplet of indices (i, j, k) is equal to (nums[i] - nums[j]) * nums[k].  \n",
    "\n",
    "範例：  \n",
    "Ex1:  \n",
    "Input: nums = [12,6,1,2,7]  \n",
    "Output: 77  \n",
    "Explanation: The value of the triplet (0, 2, 4) is (nums[0] - nums[2]) * nums[4] = 77.  \n",
    "It can be shown that there are no ordered triplets of indices with a value greater than 77.   \n",
    "\n",
    "Ex2:  \n",
    "Input: nums = [1,10,3,4,19]  \n",
    "Output: 133  \n",
    "Explanation: The value of the triplet (1, 2, 4) is (nums[1] - nums[2]) * nums[4] = 133.  \n",
    "It can be shown that there are no ordered triplets of indices with a value greater than 133.  \n",
    "\n",
    "Ex3:  \n",
    "Input: nums = [1,2,3]  \n",
    "Output: 0  \n",
    "Explanation: The only ordered triplet of indices (0, 1, 2) has a negative value of (nums[0] - nums[1]) * nums[2] = -3. Hence, the answer would be 0."
   ]
  },
  {
   "cell_type": "markdown",
   "id": "637462c5-bf1c-432d-9a9c-0cb56dd66d82",
   "metadata": {},
   "source": [
    "* 解題想法：  \n",
    "參考相關的解答，這邊用的做法是先建立一個變數用來放目前的差異，另外用一個變數來放目前的最大值，接著開始用迴圈檢查，首先比較目前的數值算出來的值與結果取最大值，接著更新目前的最大值與目前的差異為多少，最後回傳結果的最大值就是答案"
   ]
  },
  {
   "cell_type": "code",
   "execution_count": null,
   "id": "44761b5f-efe0-4832-8837-1166a0dc1bc0",
   "metadata": {},
   "outputs": [],
   "source": [
    "class Solution:\n",
    "    def maximumTripletValue(self, nums: List[int]) -> int:\n",
    "        res = 0\n",
    "        d = 0\n",
    "        cur = 0\n",
    "        for n in nums:\n",
    "            res = max(res, d * n)\n",
    "            d = max(d, cur - n)\n",
    "            cur = max(cur, n)\n",
    "        return res"
   ]
  }
 ],
 "metadata": {
  "kernelspec": {
   "display_name": "Python 3 (ipykernel)",
   "language": "python",
   "name": "python3"
  },
  "language_info": {
   "codemirror_mode": {
    "name": "ipython",
    "version": 3
   },
   "file_extension": ".py",
   "mimetype": "text/x-python",
   "name": "python",
   "nbconvert_exporter": "python",
   "pygments_lexer": "ipython3",
   "version": "3.10.9"
  }
 },
 "nbformat": 4,
 "nbformat_minor": 5
}
