{
 "cells": [
  {
   "cell_type": "markdown",
   "id": "71fb1df2-d8f3-456e-814c-3618b2041d07",
   "metadata": {},
   "source": [
    "# 本題要找出哪些人有最高的權限 (\\#Array )\n",
    "原題目連結：https://leetcode.com/problems/high-access-employees/description/  \n",
    "\n",
    "You are given a 2D 0-indexed array of strings, access_times, with size n. For each i where 0 <= i <= n - 1, access_times[i][0] represents the name of an employee, and access_times[i][1] represents the access time of that employee. All entries in access_times are within the same day.  \n",
    "\n",
    "The access time is represented as four digits using a 24-hour time format, for example, \"0800\" or \"2250\".  \n",
    "An employee is said to be high-access if he has accessed the system three or more times within a one-hour period.  \n",
    "Times with exactly one hour of difference are not considered part of the same one-hour period. For example, \"0815\" and \"0915\" are not part of the same one-hour period.  \n",
    "Access times at the start and end of the day are not counted within the same one-hour period. For example, \"0005\" and \"2350\" are not part of the same one-hour period.  \n",
    "\n",
    "Return a list that contains the names of high-access employees with any order you want.  \n",
    "\n",
    "範例：  \n",
    "Ex1:  \n",
    "Input: access_times = [[\"a\",\"0549\"],[\"b\",\"0457\"],[\"a\",\"0532\"],[\"a\",\"0621\"],[\"b\",\"0540\"]]  \n",
    "Output: [\"a\"]  \n",
    "Explanation: \"a\" has three access times in the one-hour period of [05:32, 06:31] which are 05:32, 05:49, and 06:21.  \n",
    "But \"b\" does not have more than two access times at all.  \n",
    "So the answer is [\"a\"].  \n",
    "\n",
    "Ex2:  \n",
    "Input: access_times = [[\"d\",\"0002\"],[\"c\",\"0808\"],[\"c\",\"0829\"],[\"e\",\"0215\"],[\"d\",\"1508\"],[\"d\",\"1444\"],[\"d\",\"1410\"],[\"c\",\"0809\"]]  \n",
    "Output: [\"c\",\"d\"]  \n",
    "Explanation: \"c\" has three access times in the one-hour period of [08:08, 09:07] which are 08:08, 08:09, and 08:29.  \n",
    "\"d\" has also three access times in the one-hour period of [14:10, 15:09] which are 14:10, 14:44, and 15:08.  \n",
    "However, \"e\" has just one access time, so it can not be in the answer and the final answer is [\"c\",\"d\"].  \n",
    "\n",
    "Ex3:  \n",
    "Input: access_times = [[\"cd\",\"1025\"],[\"ab\",\"1025\"],[\"cd\",\"1046\"],[\"cd\",\"1055\"],[\"ab\",\"1124\"],[\"ab\",\"1120\"]]  \n",
    "Output: [\"ab\",\"cd\"]  \n",
    "Explanation: \"ab\" has three access times in the one-hour period of [10:25, 11:24] which are 10:25, 11:20, and 11:24.  \n",
    "\"cd\" has also three access times in the one-hour period of [10:25, 11:24] which are 10:25, 10:46, and 10:55.  \n",
    "So the answer is [\"ab\",\"cd\"]."
   ]
  },
  {
   "cell_type": "markdown",
   "id": "35fb40e2-4e17-4e80-9308-5b2f385498b4",
   "metadata": {},
   "source": [
    "* 解題想法：  \n",
    "首先將list內的數值轉換成dict，其中如果時間是00時則轉換成24與00時並放入dict中，接著開始針對每個value進行排序之後檢查是否有符合一小時內有三筆紀錄的情況，如果有則將key值放入list中，最後回傳list就是答案"
   ]
  },
  {
   "cell_type": "code",
   "execution_count": null,
   "id": "4e9d0dd3-cb88-4f63-a05e-629233647510",
   "metadata": {},
   "outputs": [],
   "source": [
    "class Solution:\n",
    "    def findHighAccessEmployees(self, access_times: List[List[str]]) -> List[str]:\n",
    "        def get_diff(t1, t2):\n",
    "            d_h = int(t2[:2]) - int(t1[:2])\n",
    "            m_h = int(t2[2:]) + d_h * 60 - int(t1[2:])\n",
    "            return m_h\n",
    "\n",
    "        res = []\n",
    "        count = {}\n",
    "        for a in access_times:\n",
    "            b = ''\n",
    "            if a[0] not in count.keys():\n",
    "                if a[1][0:2] == '00':\n",
    "                    b = '24' + a[1][2:]\n",
    "                count[a[0]] = [a[1]]\n",
    "            else:\n",
    "                count[a[0]].append(a[1])\n",
    "            if b:\n",
    "                count[a[0]].append(b)\n",
    "        for key, val in count.items():\n",
    "            if len(val) > 2:\n",
    "                val.sort()\n",
    "                temp = []\n",
    "                for v in val:\n",
    "                    while temp:\n",
    "                        if get_diff(temp[0], v) >= 60:\n",
    "                            temp.pop(0)\n",
    "                        else:\n",
    "                            break\n",
    "                    temp.append(v)\n",
    "                    if len(temp) > 2:\n",
    "                        res.append(key)\n",
    "                        break\n",
    "        return res"
   ]
  }
 ],
 "metadata": {
  "kernelspec": {
   "display_name": "Python 3 (ipykernel)",
   "language": "python",
   "name": "python3"
  },
  "language_info": {
   "codemirror_mode": {
    "name": "ipython",
    "version": 3
   },
   "file_extension": ".py",
   "mimetype": "text/x-python",
   "name": "python",
   "nbconvert_exporter": "python",
   "pygments_lexer": "ipython3",
   "version": "3.10.9"
  }
 },
 "nbformat": 4,
 "nbformat_minor": 5
}
