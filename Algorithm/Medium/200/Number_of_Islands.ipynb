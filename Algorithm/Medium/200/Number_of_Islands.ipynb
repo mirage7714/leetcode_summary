{
 "cells": [
  {
   "cell_type": "markdown",
   "metadata": {},
   "source": [
    "# 本題要計算共有多少個島嶼\n",
    "原題目連結: https://leetcode.com/problems/number-of-islands/  \n",
    "\n",
    "Given an m x n 2D binary grid grid which represents a map of '1's (land) and '0's (water), return the number of islands.  \n",
    "An island is surrounded by water and is formed by connecting adjacent lands horizontally or vertically. You may assume all four edges of the grid are all surrounded by water.  \n",
    "\n",
    "範例:  \n",
    "Ex1:  \n",
    "Input: grid = [  \n",
    "  [\"1\",\"1\",\"1\",\"1\",\"0\"],  \n",
    "  [\"1\",\"1\",\"0\",\"1\",\"0\"],  \n",
    "  [\"1\",\"1\",\"0\",\"0\",\"0\"],  \n",
    "  [\"0\",\"0\",\"0\",\"0\",\"0\"]]      \n",
    "Output: 1   \n",
    "\n",
    "Ex2:  \n",
    "Input: grid = [  \n",
    "  [\"1\",\"1\",\"0\",\"0\",\"0\"],  \n",
    "  [\"1\",\"1\",\"0\",\"0\",\"0\"],  \n",
    "  [\"0\",\"0\",\"1\",\"0\",\"0\"],  \n",
    "  [\"0\",\"0\",\"0\",\"1\",\"1\"]]        \n",
    "Output: 3"
   ]
  },
  {
   "cell_type": "markdown",
   "metadata": {},
   "source": [
    "* 解題想法:  \n",
    "參考討論區，比較好理解的方式是用DFS來進行解題，首先建立一個DFS函數，如果當超過邊界或是該數值不為1時則中斷遞迴，否則繼續檢查四周的數值是否為1，最後統計共有多少次的遞迴就是答案"
   ]
  },
  {
   "cell_type": "code",
   "execution_count": null,
   "metadata": {},
   "outputs": [],
   "source": [
    "class Solution:\n",
    "    def numIslands(self, grid: List[List[str]]) -> int:\n",
    "        def dfs(nums, i, j):\n",
    "            if i < 0 or j < 0 or i >= len(nums) or j >= len(nums[0]) or nums[i][j] != '1':\n",
    "                return \n",
    "            nums[i][j] = '*'\n",
    "            dfs(nums, i-1, j)\n",
    "            dfs(nums, i+1, j)\n",
    "            dfs(nums, i, j -1)\n",
    "            dfs(nums, i, j+1)\n",
    "        \n",
    "        count = 0\n",
    "        if grid:\n",
    "            m = len(grid)\n",
    "            n = len(grid[0])\n",
    "            for i in range(m):\n",
    "                for j in range(n):\n",
    "                    if grid[i][j] == '1':\n",
    "                        dfs(grid, i, j)\n",
    "                        count += 1\n",
    "        return count"
   ]
  }
 ],
 "metadata": {
  "kernelspec": {
   "display_name": "Python 3",
   "language": "python",
   "name": "python3"
  },
  "language_info": {
   "codemirror_mode": {
    "name": "ipython",
    "version": 3
   },
   "file_extension": ".py",
   "mimetype": "text/x-python",
   "name": "python",
   "nbconvert_exporter": "python",
   "pygments_lexer": "ipython3",
   "version": "3.7.4"
  }
 },
 "nbformat": 4,
 "nbformat_minor": 4
}
