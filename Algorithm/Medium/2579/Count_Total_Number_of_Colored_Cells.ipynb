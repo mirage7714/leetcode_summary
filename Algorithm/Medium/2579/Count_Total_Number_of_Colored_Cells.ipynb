{
 "cells": [
  {
   "cell_type": "markdown",
   "id": "038ab4d1-84d2-4ae7-90d6-2e806b29a96b",
   "metadata": {},
   "source": [
    "# 本題要找出共有多少個cell (\\#Math)\n",
    "原題目連結: https://leetcode.com/problems/count-total-number-of-colored-cells/description/  \n",
    "\n",
    "There exists an infinitely large two-dimensional grid of uncolored unit cells. You are given a positive integer n, indicating that you must do the following routine for n minutes:  \n",
    "\n",
    "At the first minute, color any arbitrary unit cell blue.  \n",
    "Every minute thereafter, color blue every uncolored cell that touches a blue cell.  \n",
    "\n",
    "範例:  \n",
    "Ex1:  \n",
    "Input: n = 1  \n",
    "Output: 1  \n",
    "Explanation: After 1 minute, there is only 1 blue cell, so we return 1.  \n",
    "\n",
    "Ex2:  \n",
    "Input: n = 2  \n",
    "Output: 5  \n",
    "Explanation: After 2 minutes, there are 4 colored cells on the boundary and 1 in the center, so we return 5. "
   ]
  },
  {
   "cell_type": "markdown",
   "id": "6cfa086f-60ce-45d1-bca0-fc67dfd70ff8",
   "metadata": {},
   "source": [
    "* 解題想法:  \n",
    "觀察了圖形的組成，可以發現第n個的情況為第n-1個的結果加上2 x n + 2 x (n-2)，分別為兩條完整的斜邊，以及另外兩邊的斜邊扣除頭尾兩個cell，最後回傳加總之後的cell總和就是答案"
   ]
  },
  {
   "cell_type": "code",
   "execution_count": null,
   "id": "df98f01c-5f00-4df1-aa29-be14dd24c151",
   "metadata": {},
   "outputs": [],
   "source": [
    "class Solution:\n",
    "    def coloredCells(self, n: int) -> int:\n",
    "        r = 1\n",
    "        for m in range(2, n+1):\n",
    "            r += 2 * m + 2 * (m-2)\n",
    "        return r"
   ]
  }
 ],
 "metadata": {
  "kernelspec": {
   "display_name": "Python 3 (ipykernel)",
   "language": "python",
   "name": "python3"
  },
  "language_info": {
   "codemirror_mode": {
    "name": "ipython",
    "version": 3
   },
   "file_extension": ".py",
   "mimetype": "text/x-python",
   "name": "python",
   "nbconvert_exporter": "python",
   "pygments_lexer": "ipython3",
   "version": "3.9.13"
  }
 },
 "nbformat": 4,
 "nbformat_minor": 5
}
