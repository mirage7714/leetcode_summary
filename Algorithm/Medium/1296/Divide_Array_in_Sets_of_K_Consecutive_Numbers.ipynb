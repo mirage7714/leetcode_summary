{
 "cells": [
  {
   "cell_type": "markdown",
   "metadata": {},
   "source": [
    "# 本題要找出array是否可以拆成k個連續的array\n",
    "原題目連結: https://leetcode.com/problems/divide-array-in-sets-of-k-consecutive-numbers/  \n",
    "\n",
    "Given an array of integers nums and a positive integer k, find whether it's possible to divide this array into sets of k consecutive numbers  \n",
    "Return True if it is possible. Otherwise, return False.  \n",
    "\n",
    "範例:  \n",
    "Ex1:  \n",
    "Input: nums = [1,2,3,3,4,4,5,6], k = 4  \n",
    "Output: true  \n",
    "Explanation: Array can be divided into [1,2,3,4] and [3,4,5,6].  \n",
    "\n",
    "Ex2:  \n",
    "Input: nums = [3,2,1,2,3,4,3,4,5,9,10,11], k = 3  \n",
    "Output: true  \n",
    "Explanation: Array can be divided into [1,2,3] , [2,3,4] , [3,4,5] and [9,10,11].  \n",
    "\n",
    "Ex3:  \n",
    "Input: nums = [3,3,2,2,1,1], k = 3  \n",
    "Output: true  \n",
    "\n",
    "Ex4:  \n",
    "Input: nums = [1,2,3,4], k = 3  \n",
    "Output: false  \n",
    "Explanation: Each array should be divided in subarrays of size 3."
   ]
  },
  {
   "cell_type": "markdown",
   "metadata": {},
   "source": [
    "* 解題想法:  \n",
    "雖然這題跟No.846的題目是相同的，但case有些不同，其中有一個是很大的一個只有1跟2的list，照之前的解法會超過時間而無法通過  \n",
    "因此這邊修正了一下作法，先將list中所有數字轉換成一個dict，接著判斷dict的key數量是否有符合分成K組的需求，最後判斷dict中所有的key, val是否可拆成符合題目需求的list"
   ]
  },
  {
   "cell_type": "code",
   "execution_count": null,
   "metadata": {},
   "outputs": [],
   "source": [
    "class Solution:\n",
    "    def isPossibleDivide(self, nums: List[int], k: int) -> bool:\n",
    "        is_valid = True\n",
    "        if len(nums) % k != 0:\n",
    "            is_valid = False\n",
    "        else:\n",
    "            freq = {}\n",
    "            for a in nums:\n",
    "                if a not in freq.keys():\n",
    "                    freq[a] = 1\n",
    "                else:\n",
    "                    freq[a] += 1\n",
    "            if len(list(freq.keys())) < k:\n",
    "                is_valid = False\n",
    "            else:\n",
    "                if len(list(freq.keys())) == k:\n",
    "                    val = list(freq.values())\n",
    "                    val.sort()\n",
    "                    if val[0] != val[-1]:\n",
    "                        is_valid = False\n",
    "                    key = list(freq.keys())\n",
    "                    key.sort()\n",
    "                    for l in range(len(key)-1):\n",
    "                        if key[l] != key[l+1] -1:\n",
    "                            is_valid = False\n",
    "                            break\n",
    "                else:\n",
    "                    for m in range(int(len(nums) / k)):\n",
    "                        keys = list(freq.keys())\n",
    "                        temp = []\n",
    "                        is_continue = True\n",
    "                        start = min(keys)\n",
    "                        temp.append(start)\n",
    "                        freq[start] -= 1\n",
    "                        if freq[min(keys)] == 0:\n",
    "                            del freq[min(keys)]\n",
    "                        for j in range(k-1):\n",
    "                            sec = temp[0] + 1\n",
    "                            if sec not in freq.keys():\n",
    "                                is_continue = False\n",
    "                                break\n",
    "                            else:\n",
    "                                temp.insert(0, sec)\n",
    "                                freq[sec] -= 1\n",
    "                                if freq[sec] == 0:\n",
    "                                    del freq[sec]\n",
    "                        if not is_continue:\n",
    "                            is_valid = False\n",
    "                            break\n",
    "        return is_valid"
   ]
  }
 ],
 "metadata": {
  "kernelspec": {
   "display_name": "Python 3",
   "language": "python",
   "name": "python3"
  },
  "language_info": {
   "codemirror_mode": {
    "name": "ipython",
    "version": 3
   },
   "file_extension": ".py",
   "mimetype": "text/x-python",
   "name": "python",
   "nbconvert_exporter": "python",
   "pygments_lexer": "ipython3",
   "version": "3.7.4"
  }
 },
 "nbformat": 4,
 "nbformat_minor": 2
}
