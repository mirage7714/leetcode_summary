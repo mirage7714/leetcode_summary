{
 "cells": [
  {
   "cell_type": "markdown",
   "id": "9046f0a4-59d5-49d6-a5f7-0baff8792f10",
   "metadata": {},
   "source": [
    "# 本題要找出指定長度的sub-list是否符合條件 (\\#Array )\n",
    "原題目連結: https://leetcode.com/problems/find-the-power-of-k-size-subarrays-i/description/  \n",
    "\n",
    "You are given an array of integers nums of length n and a positive integer k.  \n",
    "The power of an array is defined as:  \n",
    "Its maximum element if all of its elements are consecutive and sorted in ascending order. -1 otherwise. You need to find the power of all subarrays of nums of size k.  \n",
    "Return an integer array results of size n - k + 1, where results[i] is the power of nums[i..(i + k - 1)].  \n",
    "\n",
    "範例:  \n",
    "Ex1:  \n",
    "Input: nums = [1,2,3,4,3,2,5], k = 3  \n",
    "Output: [3,4,-1,-1,-1]  \n",
    "Explanation:  \n",
    "There are 5 subarrays of nums of size 3:  \n",
    "[1, 2, 3] with the maximum element 3.  \n",
    "[2, 3, 4] with the maximum element 4.  \n",
    "[3, 4, 3] whose elements are not consecutive.  \n",
    "[4, 3, 2] whose elements are not sorted.  \n",
    "[3, 2, 5] whose elements are not consecutive.  \n",
    "\n",
    "Ex2:  \n",
    "Input: nums = [2,2,2,2,2], k = 4   \n",
    "Output: [-1,-1]  \n",
    "\n",
    "Ex3:  \n",
    "Input: nums = [3,2,3,2,3,2], k = 2  \n",
    "Output: [-1,3,-1,3,-1]  "
   ]
  },
  {
   "cell_type": "markdown",
   "id": "70694485-8bc4-41dd-893e-24572e212012",
   "metadata": {},
   "source": [
    "* 解題想法:  \n",
    "用一個dict來存放目前sub-list中出現的數值，並用排序後的key與sub-list進行比較是否為順序，如果不為順序或是中間差距有大於1的情況則放入-1，否則就放入最大值，最後回傳結果就是答案"
   ]
  },
  {
   "cell_type": "code",
   "execution_count": null,
   "id": "decc8ddc-91cc-4b76-a623-c0be087095d6",
   "metadata": {},
   "outputs": [],
   "source": [
    "class Solution:\n",
    "    def resultsArray(self, nums: List[int], k: int) -> List[int]:\n",
    "        res = []\n",
    "        count = {}\n",
    "        start = nums[:k]\n",
    "        for s in start:\n",
    "            if s not in count.keys():\n",
    "                count[s] = 0\n",
    "            count[s] += 1\n",
    "        key = list(count.keys())\n",
    "        key.sort()\n",
    "        is_order = True\n",
    "        for j in range(len(key)-1):\n",
    "            if key[j+1] - key[j] != 1:\n",
    "                is_order = False\n",
    "                break\n",
    "        if key != start or not is_order:\n",
    "            res.append(-1)\n",
    "        else:\n",
    "            res.append(start[-1])\n",
    "        for i in range(k, len(nums)):\n",
    "            if nums[i] not in count.keys():\n",
    "                count[nums[i]] = 0\n",
    "            count[nums[i]] += 1\n",
    "            if count[nums[i-k]] == 1:\n",
    "                count.pop(nums[i-k])\n",
    "            else:\n",
    "                count[nums[i-k]] -= 1\n",
    "            key = list(count.keys())\n",
    "            key.sort()\n",
    "            is_order = True\n",
    "            for j in range(len(key)-1):\n",
    "                if key[j+1] - key[j] != 1:\n",
    "                    is_order = False\n",
    "                    break\n",
    "            if key != nums[i-k+1:i+1] or not is_order:\n",
    "                res.append(-1)\n",
    "            else:\n",
    "                res.append(nums[i])\n",
    "        return res  "
   ]
  }
 ],
 "metadata": {
  "kernelspec": {
   "display_name": "Python 3 (ipykernel)",
   "language": "python",
   "name": "python3"
  },
  "language_info": {
   "codemirror_mode": {
    "name": "ipython",
    "version": 3
   },
   "file_extension": ".py",
   "mimetype": "text/x-python",
   "name": "python",
   "nbconvert_exporter": "python",
   "pygments_lexer": "ipython3",
   "version": "3.9.13"
  }
 },
 "nbformat": 4,
 "nbformat_minor": 5
}
