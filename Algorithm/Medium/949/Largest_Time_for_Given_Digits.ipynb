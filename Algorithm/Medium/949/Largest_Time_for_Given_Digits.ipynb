{
 "cells": [
  {
   "cell_type": "markdown",
   "metadata": {},
   "source": [
    "# 本題要將array中的數字組成時間，並找出最大的時間組合\n",
    "原題目連結：https://leetcode.com/problems/largest-time-for-given-digits/  \n",
    "\n",
    "Given an array arr of 4 digits, find the latest 24-hour time that can be made using each digit exactly once.  \n",
    "\n",
    "24-hour times are formatted as \"HH:MM\", where HH is between 00 and 23, and MM is between 00 and 59. The earliest 24-hour time is 00:00, and the latest is 23:59.  \n",
    "\n",
    "Return the latest 24-hour time in \"HH:MM\" format.  If no valid time can be made, return an empty string.  \n",
    "\n",
    "範例：  \n",
    "Ex1:  \n",
    "Input: A = [1,2,3,4]  \n",
    "Output: \"23:41\"  \n",
    "Explanation: The valid 24-hour times are \"12:34\", \"12:43\", \"13:24\", \"13:42\", \"14:23\", \"14:32\", \"21:34\", \"21:43\", \"23:14\", and \"23:41\". Of these times, \"23:41\" is the latest.  \n",
    "\n",
    "Ex2:  \n",
    "Input: A = [5,5,5,5]  \n",
    "Output: \"\"  \n",
    "Explanation: There are no valid 24-hour times as \"55:55\" is not valid.  \n",
    "\n",
    "Ex3:  \n",
    "Input: A = [0,0,0,0]  \n",
    "Output: \"00:00\"  \n",
    "\n",
    "Ex4:  \n",
    "Input: A = [0,0,1,0]  \n",
    "Output: \"10:00\""
   ]
  },
  {
   "cell_type": "markdown",
   "metadata": {},
   "source": [
    "* 解題想法：  \n",
    "在list中，因為有些數字可能不符合時間的格式，在找出可能的小時組合時同時要判斷剩下的數字是否也符合分鐘的邏輯  \n",
    "最後在從可能的組合中找出最大的小時"
   ]
  },
  {
   "cell_type": "code",
   "execution_count": null,
   "metadata": {},
   "outputs": [],
   "source": [
    "class Solution:\n",
    "    def largestTimeFromDigits(self, arr: List[int]) -> str:\n",
    "        arr.sort(reverse = True)\n",
    "        result = ''\n",
    "        hours = {}\n",
    "        for n in range(len(arr)):\n",
    "            for m in range(len(arr)):\n",
    "                if n != m:\n",
    "                    h = arr[n] * 10 + arr[m]\n",
    "                    mins = []\n",
    "                    is_valid = True\n",
    "                    if h < 24 and h not in hours.keys():\n",
    "                        \n",
    "                        for a in range(len(arr)):\n",
    "                            if a != m and a != n :\n",
    "                                mins.append(arr[a])\n",
    "                        mins_max = ''\n",
    "                        if (mins[0] * 10 + mins[1]) < 60 and (mins[0]* 10 + mins[1]) > (mins[1] * 10 + mins[0]):\n",
    "                            mins_max = str(mins[0]) + str(mins[1])\n",
    "                        elif (mins[1] * 10 + mins[0]) < 60:\n",
    "                            mins_max = str(mins[1]) + str(mins[0])\n",
    "                        elif mins[0] >= 6 and mins[1] >= 6:\n",
    "                            is_valid = False\n",
    "                        if is_valid:\n",
    "                            hours[h] = [mins_max]\n",
    "        if len(hours) != 0:\n",
    "            hour = max(list(hours.keys()))\n",
    "            mins = hours[hour][0]\n",
    "            str_hour = str(hour)\n",
    "            if len(str_hour) < 2 :\n",
    "                str_hour = '0'+str_hour\n",
    "            \n",
    "            result = '{}:{}'.format(str_hour,mins)\n",
    "        return result"
   ]
  }
 ],
 "metadata": {
  "kernelspec": {
   "display_name": "Python 3",
   "language": "python",
   "name": "python3"
  },
  "language_info": {
   "codemirror_mode": {
    "name": "ipython",
    "version": 3
   },
   "file_extension": ".py",
   "mimetype": "text/x-python",
   "name": "python",
   "nbconvert_exporter": "python",
   "pygments_lexer": "ipython3",
   "version": "3.8.3"
  }
 },
 "nbformat": 4,
 "nbformat_minor": 4
}
