{
 "cells": [
  {
   "cell_type": "markdown",
   "id": "a12efe1d-fafa-4885-9fe9-0a8f840acd5a",
   "metadata": {},
   "source": [
    "# 本題要找出最大的山路長度為多少 (\\#Array)\n",
    "原題目連結: https://leetcode.com/problems/longest-mountain-in-array/description/  \n",
    "\n",
    "You may recall that an array arr is a mountain array if and only if:  \n",
    "\n",
    "arr.length >= 3  \n",
    "There exists some index i (0-indexed) with 0 < i < arr.length - 1 such that:  \n",
    "arr[0] < arr[1] < ... < arr[i - 1] < arr[i]  \n",
    "arr[i] > arr[i + 1] > ... > arr[arr.length - 1]  \n",
    "Given an integer array arr, return the length of the longest subarray, which is a mountain. Return 0 if there is no mountain subarray.  \n",
    "\n",
    "範例:  \n",
    "Ex1:  \n",
    "Input: arr = [2,1,4,7,3,2,5]  \n",
    "Output: 5  \n",
    "Explanation: The largest mountain is [1,4,7,3,2] which has length 5.  \n",
    "\n",
    "Ex2:  \n",
    "Input: arr = [2,2,2]  \n",
    "Output: 0  \n",
    "Explanation: There is no mountain."
   ]
  },
  {
   "cell_type": "markdown",
   "id": "45a292b2-2d5a-44e0-9a9f-3eb8b74f43fb",
   "metadata": {},
   "source": [
    "* 解題想法:  \n",
    "首先用一個list來存放目前的山路，並用一個bool來判斷目前是上坡或是下坡，接著開始從第一個值進行比較:  \n",
    "- 如果當前一個值小於後一個值的時候，則判斷目前是否為上坡狀態，如果是上坡則將後者放入list中，如果不是上坡狀態則清空list並把最後一個值與現在的值放入list，並重設上下坡的狀態  \n",
    "- 如果當前一個值大於後一個值的時候，則判斷目前是否為上坡狀態，如果是下坡則將後者放入list中，如果不是下坡狀態則清空list並把最後一個值放入list，並重設上下坡的狀態  \n",
    "- 如果前一個值與後一個值相同的情況，則判斷是否list長度大於2且有上坡的狀態，如果都符合則比較目前的長度，最後清空list並放入最後一個數值，並重設上下坡的狀態  \n",
    "如果最後的list長度符合要求，且上下坡狀態也滿足，則比較list長度與統計的結果"
   ]
  },
  {
   "cell_type": "code",
   "execution_count": null,
   "id": "99e6b10f-199f-4fec-ac3f-d845ec3ab575",
   "metadata": {},
   "outputs": [],
   "source": [
    "class Solution:\n",
    "    def longestMountain(self, arr: List[int]) -> int:\n",
    "        res = 0\n",
    "        p = [arr[0]]\n",
    "        is_top = False\n",
    "        for m in range(1, len(arr)):\n",
    "            c = arr[m]\n",
    "            if c > p[-1]:\n",
    "                if not is_top:\n",
    "                    p.append(c)\n",
    "                else:\n",
    "                    if len(p) > 2:\n",
    "                        res = max(res, len(p))\n",
    "                    is_top = False\n",
    "                    l = p[-1]\n",
    "                    p.clear()\n",
    "                    p.append(l)\n",
    "                    p.append(c)\n",
    "            elif c < p[-1]:\n",
    "                if is_top:\n",
    "                    p.append(c)\n",
    "                elif len(p) > 1 and p[-2] < p[-1]:\n",
    "                    is_top = True\n",
    "                    p.append(c)\n",
    "                else:\n",
    "                    p.clear()\n",
    "                    p.append(c)\n",
    "            else:\n",
    "                if is_top and len(p) > 2:\n",
    "                    res = max(res, len(p))\n",
    "                    is_top = False\n",
    "                p.clear()\n",
    "                p.append(c) \n",
    "        if is_top and len(p) > 2:\n",
    "            res = max(res, len(p))\n",
    "        return res"
   ]
  }
 ],
 "metadata": {
  "kernelspec": {
   "display_name": "Python 3 (ipykernel)",
   "language": "python",
   "name": "python3"
  },
  "language_info": {
   "codemirror_mode": {
    "name": "ipython",
    "version": 3
   },
   "file_extension": ".py",
   "mimetype": "text/x-python",
   "name": "python",
   "nbconvert_exporter": "python",
   "pygments_lexer": "ipython3",
   "version": "3.9.13"
  }
 },
 "nbformat": 4,
 "nbformat_minor": 5
}
