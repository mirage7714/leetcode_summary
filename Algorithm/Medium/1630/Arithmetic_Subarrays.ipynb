{
 "cells": [
  {
   "cell_type": "markdown",
   "metadata": {},
   "source": [
    "# 本題要判斷在限定的範圍內的array是否間距都相同\n",
    "原題目連結: https://leetcode.com/problems/arithmetic-subarrays/  \n",
    "\n",
    "A sequence of numbers is called arithmetic if it consists of at least two elements, and the difference between every two consecutive elements is the same. More formally, a sequence s is arithmetic if and only if s[i+1] - s[i] == s[1] - s[0] for all valid i.  \n",
    "\n",
    "For example, these are arithmetic sequences:  \n",
    "1, 3, 5, 7, 9  \n",
    "7, 7, 7, 7  \n",
    "3, -1, -5, -9\n",
    "\n",
    "The following sequence is not arithmetic:  \n",
    "1, 1, 2, 5, 7  \n",
    "\n",
    "You are given an array of n integers, nums, and two arrays of m integers each, l and r, representing the m range queries, where the ith query is the range [l[i], r[i]]. All the arrays are 0-indexed.  \n",
    "\n",
    "Return a list of boolean elements answer, where answer[i] is true if the subarray nums[l[i]], nums[l[i]+1], ... , nums[r[i]] can be rearranged to form an arithmetic sequence, and false otherwise.  \n",
    "\n",
    "範例:  \n",
    "Ex1:  \n",
    "Input: nums = [4,6,5,9,3,7], l = [0,0,2], r = [2,3,5]  \n",
    "Output: [true,false,true]  \n",
    "Explanation:  \n",
    "In the 0th query, the subarray is [4,6,5]. This can be rearranged as [6,5,4], which is an arithmetic sequence.  \n",
    "In the 1st query, the subarray is [4,6,5,9]. This cannot be rearranged as an arithmetic sequence.  \n",
    "In the 2nd query, the subarray is [5,9,3,7]. This can be rearranged as [3,5,7,9], which is an arithmetic sequence.  \n",
    "\n",
    "Ex2:  \n",
    "Input: nums = [-12,-9,-3,-12,-6,15,20,-25,-20,-15,-10], l = [0,1,6,4,8,7], r = [4,4,9,7,9,10]  \n",
    "Output: [false,true,false,false,true,true]  "
   ]
  },
  {
   "cell_type": "markdown",
   "metadata": {},
   "source": [
    "* 解題想法:  \n",
    "首先依據題目的要求，找出每個sub list的內容，接著對每個sublist進行排序後比較間距是否相同，並將結果加入一個list中，最後回傳這個list"
   ]
  },
  {
   "cell_type": "code",
   "execution_count": null,
   "metadata": {},
   "outputs": [],
   "source": [
    "class Solution:\n",
    "    def checkArithmeticSubarrays(self, nums: List[int], l: List[int], r: List[int]) -> List[bool]:\n",
    "        def checkValid(num):\n",
    "            is_valid = True\n",
    "            num.sort()\n",
    "            dist = num[-1] - num[-2]\n",
    "            for m in range(len(num)-1):\n",
    "                if num[m+1] - num[m] != dist:\n",
    "                    is_valid = False\n",
    "                    break\n",
    "            return is_valid\n",
    "        \n",
    "        result = []\n",
    "        for s in range(len(l)):\n",
    "            sub = nums[l[s]:r[s]+1]\n",
    "            result.append(checkValid(sub))\n",
    "        return result"
   ]
  }
 ],
 "metadata": {
  "kernelspec": {
   "display_name": "Python 3",
   "language": "python",
   "name": "python3"
  },
  "language_info": {
   "codemirror_mode": {
    "name": "ipython",
    "version": 3
   },
   "file_extension": ".py",
   "mimetype": "text/x-python",
   "name": "python",
   "nbconvert_exporter": "python",
   "pygments_lexer": "ipython3",
   "version": "3.7.4"
  }
 },
 "nbformat": 4,
 "nbformat_minor": 2
}
