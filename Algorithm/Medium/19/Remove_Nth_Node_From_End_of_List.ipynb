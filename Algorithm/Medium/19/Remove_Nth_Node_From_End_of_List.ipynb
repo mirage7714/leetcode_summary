{
 "cells": [
  {
   "cell_type": "markdown",
   "metadata": {},
   "source": [
    "# 本題要將第N個節點移除\n",
    "原題目連結: https://leetcode.com/problems/remove-nth-node-from-end-of-list/  \n",
    "\n",
    "Given the head of a linked list, remove the nth node from the end of the list and return its head.  \n",
    "\n",
    "範例:  \n",
    "Ex1:  \n",
    "Input: head = [1,2,3,4,5], n = 2  \n",
    "Output: [1,2,3,5]  \n",
    "\n",
    "Ex2:  \n",
    "Input: head = [1], n = 1  \n",
    "Output: []  \n",
    "\n",
    "Ex3:  \n",
    "Input: head = [1,2], n = 1  \n",
    "Output: [1]"
   ]
  },
  {
   "cell_type": "markdown",
   "metadata": {},
   "source": [
    "* 解題想法:  \n",
    "首先將LinkedList瀏覽一遍後，將後面數來第N個數移除後，重新建立一個新的LinkedList"
   ]
  },
  {
   "cell_type": "code",
   "execution_count": null,
   "metadata": {},
   "outputs": [],
   "source": [
    "# Definition for singly-linked list.\n",
    "# class ListNode:\n",
    "#     def __init__(self, val=0, next=None):\n",
    "#         self.val = val\n",
    "#         self.next = next\n",
    "class Solution:\n",
    "    def removeNthFromEnd(self, head: Optional[ListNode], n: int) -> Optional[ListNode]:\n",
    "        values = []\n",
    "        result = []\n",
    "        if head != None:\n",
    "            while head:\n",
    "                values.append(head.val)\n",
    "                head = head.next\n",
    "            if len(values) > 1:\n",
    "                values.pop(len(values)-n)\n",
    "                for m in range(len(values)-1, -1, -1):\n",
    "                    node = ListNode()\n",
    "                    node.val = values[m]\n",
    "                    if len(result) > 0:\n",
    "                        node.next = result[-1]\n",
    "                    result.append(node)\n",
    "                return result[-1]\n",
    "            else:\n",
    "                return None\n",
    "        return None"
   ]
  }
 ],
 "metadata": {
  "kernelspec": {
   "display_name": "Python 3",
   "language": "python",
   "name": "python3"
  },
  "language_info": {
   "codemirror_mode": {
    "name": "ipython",
    "version": 3
   },
   "file_extension": ".py",
   "mimetype": "text/x-python",
   "name": "python",
   "nbconvert_exporter": "python",
   "pygments_lexer": "ipython3",
   "version": "3.7.4"
  }
 },
 "nbformat": 4,
 "nbformat_minor": 4
}
