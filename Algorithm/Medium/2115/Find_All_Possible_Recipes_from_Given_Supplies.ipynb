{
 "cells": [
  {
   "cell_type": "markdown",
   "metadata": {},
   "source": [
    "# 本題要找出那些食物可以用現有的原料做出來\n",
    "原題目連結: https://leetcode.com/problems/find-all-possible-recipes-from-given-supplies/  \n",
    "\n",
    "You have information about n different recipes. You are given a string array recipes and a 2D string array ingredients. The ith recipe has the name recipes[i], and you can create it if you have all the needed ingredients from ingredients[i]. Ingredients to a recipe may need to be created from other recipes, i.e., ingredients[i] may contain a string that is in recipes.  \n",
    "\n",
    "You are also given a string array supplies containing all the ingredients that you initially have, and you have an infinite supply of all of them.  \n",
    "\n",
    "Return a list of all the recipes that you can create. You may return the answer in any order.  \n",
    "\n",
    "Note that two recipes may contain each other in their ingredients.  \n",
    "\n",
    "範例:  \n",
    "Ex1:  \n",
    "Input: recipes = [\"bread\"], ingredients = [[\"yeast\",\"flour\"]], supplies = [\"yeast\",\"flour\",\"corn\"]  \n",
    "Output: [\"bread\"]  \n",
    "Explanation:  \n",
    "We can create \"bread\" since we have the ingredients \"yeast\" and \"flour\".  \n",
    "\n",
    "Ex2:  \n",
    "Input: recipes = [\"bread\",\"sandwich\"], ingredients = [[\"yeast\",\"flour\"],[\"bread\",\"meat\"]], supplies = [\"yeast\",\"flour\",\"meat\"]  \n",
    "Output: [\"bread\",\"sandwich\"]  \n",
    "Explanation:  \n",
    "We can create \"bread\" since we have the ingredients \"yeast\" and \"flour\".  \n",
    "We can create \"sandwich\" since we have the ingredient \"meat\" and can create the ingredient \"bread\".  \n",
    "\n",
    "Ex3:  \n",
    "Input: recipes = [\"bread\",\"sandwich\",\"burger\"], ingredients = [[\"yeast\",\"flour\"],[\"bread\",\"meat\"],[\"sandwich\",\"meat\",\"bread\"]], supplies = [\"yeast\",\"flour\",\"meat\"]  \n",
    "Output: [\"bread\",\"sandwich\",\"burger\"]  \n",
    "Explanation:  \n",
    "We can create \"bread\" since we have the ingredients \"yeast\" and \"flour\".  \n",
    "We can create \"sandwich\" since we have the ingredient \"meat\" and can create the ingredient \"bread\".  \n",
    "We can create \"burger\" since we have the ingredient \"meat\" and can create the ingredients \"bread\" and \"sandwich\"."
   ]
  },
  {
   "cell_type": "markdown",
   "metadata": {},
   "source": [
    "* 解題想法:  \n",
    "首先將gredients中的所有原料都建立成一個dict，接著從頭開始檢查recipes中的食物是否有足夠的材料，如果有則將食物放入list中，並將這道食物放入gredients中，因為有可能有些菜需要用到後面的其他菜才能完成，因此需要重新檢查前面無法完成的菜是否在後面有完成"
   ]
  },
  {
   "cell_type": "code",
   "execution_count": null,
   "metadata": {},
   "outputs": [],
   "source": [
    "class Solution:\n",
    "    def findAllRecipes(self, recipes: List[str], ingredients: List[List[str]], supplies: List[str]) -> List[str]:\n",
    "        good = {}\n",
    "        result = []\n",
    "        \n",
    "        for s in supplies:\n",
    "            if s[0] not in good.keys():\n",
    "                good[s[0]] = [s]\n",
    "            else:\n",
    "                good[s[0]].append(s)\n",
    "        \n",
    "        while True:\n",
    "            s = len(result)\n",
    "            for m in range(len(recipes)):\n",
    "                i = ingredients[m]\n",
    "                r = recipes[m]\n",
    "                if r not in result:\n",
    "                    is_available = True\n",
    "                    for n in i:\n",
    "                        if n[0] not in good.keys():\n",
    "                            is_available = False\n",
    "                            break\n",
    "                        else:\n",
    "                            if n not in good[n[0]]:\n",
    "                                is_available = False\n",
    "                                break\n",
    "                    if is_available:\n",
    "                        result.append(recipes[m])\n",
    "                        if recipes[m][0] not in good.keys():\n",
    "                            good[recipes[m][0]] = [recipes[m]]\n",
    "                        else:\n",
    "                            good[recipes[m][0]].append(recipes[m])\n",
    "            if len(result) == s:\n",
    "                break\n",
    "        return result"
   ]
  }
 ],
 "metadata": {
  "kernelspec": {
   "display_name": "Python 3",
   "language": "python",
   "name": "python3"
  },
  "language_info": {
   "codemirror_mode": {
    "name": "ipython",
    "version": 3
   },
   "file_extension": ".py",
   "mimetype": "text/x-python",
   "name": "python",
   "nbconvert_exporter": "python",
   "pygments_lexer": "ipython3",
   "version": "3.7.4"
  }
 },
 "nbformat": 4,
 "nbformat_minor": 4
}
