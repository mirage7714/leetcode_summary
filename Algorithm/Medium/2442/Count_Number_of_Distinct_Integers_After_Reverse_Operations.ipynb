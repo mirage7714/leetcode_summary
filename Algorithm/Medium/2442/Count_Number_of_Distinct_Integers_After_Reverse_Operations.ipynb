{
 "cells": [
  {
   "cell_type": "markdown",
   "metadata": {},
   "source": [
    "# 本題要找出把數字翻轉之後，共有多少個不重複的數字 (\\#Array)\n",
    "原題目連結: https://leetcode.com/problems/count-number-of-distinct-integers-after-reverse-operations/  \n",
    "\n",
    "You are given an array nums consisting of positive integers.  \n",
    "You have to take each integer in the array, reverse its digits, and add it to the end of the array. You should apply this operation to the original integers in nums.  \n",
    "\n",
    "Return the number of distinct integers in the final array.  \n",
    "\n",
    "範例:  \n",
    "Ex1:  \n",
    "Input: nums = [1,13,10,12,31]  \n",
    "Output: 6  \n",
    "Explanation: After including the reverse of each number, the resulting array is [1,13,10,12,31,1,31,1,21,13].  \n",
    "The reversed integers that were added to the end of the array are underlined. Note that for the integer 10, after reversing it, it becomes 01 which is just 1.  \n",
    "The number of distinct integers in this array is 6 (The numbers 1, 10, 12, 13, 21, and 31).  \n",
    "\n",
    "Ex2:  \n",
    "Input: nums = [2,2,2]  \n",
    "Output: 1  \n",
    "Explanation: After including the reverse of each number, the resulting array is [2,2,2,2,2,2].  \n",
    "The number of distinct integers in this array is 1 (The number 2)."
   ]
  },
  {
   "cell_type": "markdown",
   "metadata": {},
   "source": [
    "* 解題想法:  \n",
    "首先用一個set，將nums中的數值放入set後，接著將數值翻轉之後也放入set中，最後回傳set的長度就是答案"
   ]
  },
  {
   "cell_type": "code",
   "execution_count": null,
   "metadata": {},
   "outputs": [],
   "source": [
    "class Solution:\n",
    "    def countDistinctIntegers(self, nums: List[int]) -> int:\n",
    "        res = set()\n",
    "        for n in nums:\n",
    "            res.add(n)\n",
    "            if n >= 10:\n",
    "                t = ''\n",
    "                for m in str(n):\n",
    "                    t = m + t\n",
    "                res.add(int(t))\n",
    "        return len(res)"
   ]
  }
 ],
 "metadata": {
  "kernelspec": {
   "display_name": "Python 3",
   "language": "python",
   "name": "python3"
  },
  "language_info": {
   "codemirror_mode": {
    "name": "ipython",
    "version": 3
   },
   "file_extension": ".py",
   "mimetype": "text/x-python",
   "name": "python",
   "nbconvert_exporter": "python",
   "pygments_lexer": "ipython3",
   "version": "3.7.4"
  }
 },
 "nbformat": 4,
 "nbformat_minor": 4
}
