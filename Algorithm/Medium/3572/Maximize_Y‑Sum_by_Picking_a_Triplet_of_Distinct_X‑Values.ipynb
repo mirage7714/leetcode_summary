{
 "cells": [
  {
   "cell_type": "markdown",
   "id": "35cc7d4c-0d30-4aca-bb31-4562017a2af9",
   "metadata": {},
   "source": [
    "# 本題要找出最大的三個y值總和是多少 (\\#Array )\n",
    "原題目連結：https://leetcode.com/problems/maximize-ysum-by-picking-a-triplet-of-distinct-xvalues/description/  \n",
    "\n",
    "You are given two integer arrays x and y, each of length n. You must choose three distinct indices i, j, and k such that:  \n",
    "x[i] != x[j]  \n",
    "x[j] != x[k]  \n",
    "x[k] != x[i]  \n",
    "Your goal is to maximize the value of y[i] + y[j] + y[k] under these conditions. Return the maximum possible sum that can be obtained by choosing such a triplet of indices.  \n",
    "If no such triplet exists, return -1.  \n",
    "\n",
    "範例：  \n",
    "Ex1:  \n",
    "Input: x = [1,2,1,3,2], y = [5,3,4,6,2]  \n",
    "Output: 14  \n",
    "Explanation:     \n",
    "Choose i = 0 (x[i] = 1, y[i] = 5), j = 1 (x[j] = 2, y[j] = 3), k = 3 (x[k] = 3, y[k] = 6).  \n",
    "All three values chosen from x are distinct. 5 + 3 + 6 = 14 is the maximum we can obtain. Hence, the output is 14.  \n",
    "\n",
    "Ex2:  \n",
    "Input: x = [1,2,1,2], y = [4,5,6,7]  \n",
    "Output: -1  \n",
    "Explanation:  \n",
    "There are only two distinct values in x. Hence, the output is -1.  "
   ]
  },
  {
   "cell_type": "markdown",
   "id": "2622733d-f7b8-4cf2-9af4-bf4d469b4ea5",
   "metadata": {},
   "source": [
    "* 解題想法：  \n",
    "首先將x與y轉成一個list後放入heap中，接著從最大的Ｙ值開始取，如果是已經有出現過的x值則跳過該y值，最後如果有累積三個不同x值的y值則回傳總合，如果當heap為空且沒有三個數值則回傳-1"
   ]
  },
  {
   "cell_type": "code",
   "execution_count": null,
   "id": "346d10b5-6ac2-4318-baef-4931233014b9",
   "metadata": {},
   "outputs": [],
   "source": [
    "import heapq\n",
    "\n",
    "class Solution:\n",
    "    def maxSumDistinctTriplet(self, x: List[int], y: List[int]) -> int:\n",
    "        temp = []\n",
    "        res = 0\n",
    "        heapq.heapify(temp)\n",
    "        stack = []\n",
    "        for i in range(len(x)):\n",
    "            heapq.heappush(temp, [-y[i], x[i]])\n",
    "        while temp:\n",
    "            n = heapq.heappop(temp)\n",
    "            if n[1] not in stack:\n",
    "                res -= n[0]\n",
    "                stack.append(n[1])\n",
    "            if len(stack) == 3:\n",
    "                return res\n",
    "        return -1"
   ]
  }
 ],
 "metadata": {
  "kernelspec": {
   "display_name": "Python 3 (ipykernel)",
   "language": "python",
   "name": "python3"
  },
  "language_info": {
   "codemirror_mode": {
    "name": "ipython",
    "version": 3
   },
   "file_extension": ".py",
   "mimetype": "text/x-python",
   "name": "python",
   "nbconvert_exporter": "python",
   "pygments_lexer": "ipython3",
   "version": "3.10.9"
  }
 },
 "nbformat": 4,
 "nbformat_minor": 5
}
