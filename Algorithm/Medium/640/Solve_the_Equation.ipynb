{
 "cells": [
  {
   "cell_type": "markdown",
   "id": "d981007e-c402-4fc3-8fb2-ab167274d5bc",
   "metadata": {},
   "source": [
    "# 本題要解出題目給的方程式 (\\#String, \\#Math )\n",
    "原題目連結: https://leetcode.com/problems/solve-the-equation/description/  \n",
    "\n",
    "Solve a given equation and return the value of 'x' in the form of a string \"x=#value\". The equation contains only '+', '-' operation, the variable 'x' and its coefficient. You should return \"No solution\" if there is no solution for the equation, or \"Infinite solutions\" if there are infinite solutions for the equation.  \n",
    "\n",
    "If there is exactly one solution for the equation, we ensure that the value of 'x' is an integer.  \n",
    "\n",
    "範例:  \n",
    "Ex1:  \n",
    "Input: equation = \"x+5-3+x=6+x-2\"  \n",
    "Output: \"x=2\"  \n",
    "\n",
    "Ex2:  \n",
    "Input: equation = \"x=x\"  \n",
    "Output: \"Infinite solutions\"  \n",
    "\n",
    "Ex3:  \n",
    "Input: equation = \"2x=x\"  \n",
    "Output: \"x=0\""
   ]
  },
  {
   "cell_type": "markdown",
   "id": "378a394f-4616-4b5f-8d41-9f6b5e1e2342",
   "metadata": {},
   "source": [
    "* 解題想法:  \n",
    "首先將方程式分為左右兩邊，接著開始進行解析，並將x的數量與常數的總和分別放入兩個list中，最後用兩個list中的值來找出方程式的答案"
   ]
  },
  {
   "cell_type": "code",
   "execution_count": null,
   "id": "5fdd0a80-6b6a-4d24-b1af-d2a4727be786",
   "metadata": {},
   "outputs": [],
   "source": [
    "class Solution:\n",
    "    def solveEquation(self, equation: str) -> str:\n",
    "        def addValue(t, n, i):\n",
    "            if t[-1] == 'x':\n",
    "                c = t[:-1]\n",
    "                if len(c) == 0:\n",
    "                    c = '1'\n",
    "                if n:\n",
    "                    eq[i] += int(c)\n",
    "                else:\n",
    "                    eq[i] -= int(c)\n",
    "            else:\n",
    "                if n:\n",
    "                    digits[i] += int(t)\n",
    "                else:\n",
    "                    digits[i] -= int(t)\n",
    "\n",
    "        digits = [0,0]\n",
    "        eq = [0,0]\n",
    "        res = ''\n",
    "        p = equation.split('=')\n",
    "        for i in range(len(p)):\n",
    "            t = ''\n",
    "            n = True\n",
    "            for w in p[i]:\n",
    "                if w != '-' and w != '+':\n",
    "                    t += w\n",
    "                else:\n",
    "                    if t: \n",
    "                        addValue(t, n, i)\n",
    "                    if w == '+':\n",
    "                        n = True\n",
    "                    else:\n",
    "                        n = False\n",
    "                    t = ''\n",
    "            addValue(t, n, i)\n",
    "        x = 0\n",
    "        d = 0\n",
    "        if eq[0] > eq[1]:\n",
    "            x = eq[0] - eq[1]\n",
    "            d = digits[1] - digits[0]\n",
    "        else:\n",
    "            x = eq[1] - eq[0]\n",
    "            d = digits[0] - digits[1]\n",
    "        if x != 0:\n",
    "            res = '{}={}'.format('x', d // x)\n",
    "        else:\n",
    "            if x == 0 and d == 0:\n",
    "                res = 'Infinite solutions'\n",
    "            elif x == 0 and d != 0:\n",
    "                res = 'No solution'\n",
    "        return res"
   ]
  }
 ],
 "metadata": {
  "kernelspec": {
   "display_name": "Python 3 (ipykernel)",
   "language": "python",
   "name": "python3"
  },
  "language_info": {
   "codemirror_mode": {
    "name": "ipython",
    "version": 3
   },
   "file_extension": ".py",
   "mimetype": "text/x-python",
   "name": "python",
   "nbconvert_exporter": "python",
   "pygments_lexer": "ipython3",
   "version": "3.9.13"
  }
 },
 "nbformat": 4,
 "nbformat_minor": 5
}
