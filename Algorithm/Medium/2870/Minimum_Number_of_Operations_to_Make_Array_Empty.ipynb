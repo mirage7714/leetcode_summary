{
 "cells": [
  {
   "cell_type": "markdown",
   "id": "59f41c64-8cd3-42ed-8e19-858c2e0d3ebb",
   "metadata": {},
   "source": [
    "# 本題要找出最少要幾次的操作才能將list清空 (\\#Array, \\#HashMap )\n",
    "原題目連結: https://leetcode.com/problems/minimum-number-of-operations-to-make-array-empty/description/  \n",
    "\n",
    "You are given a 0-indexed array nums consisting of positive integers.  \n",
    "There are two types of operations that you can apply on the array any number of times:  \n",
    "Choose two elements with equal values and delete them from the array.  \n",
    "Choose three elements with equal values and delete them from the array.  \n",
    "Return the minimum number of operations required to make the array empty, or -1 if it is not possible.  \n",
    "\n",
    "範例:  \n",
    "Ex1:  \n",
    "Input: nums = [2,3,3,2,2,4,2,3,4]  \n",
    "Output: 4  \n",
    "Explanation: We can apply the following operations to make the array empty:  \n",
    "- Apply the first operation on the elements at indices 0 and 3. The resulting array is nums = [3,3,2,4,2,3,4].  \n",
    "- Apply the first operation on the elements at indices 2 and 4. The resulting array is nums = [3,3,4,3,4].  \n",
    "- Apply the second operation on the elements at indices 0, 1, and 3. The resulting array is nums = [4,4].  \n",
    "- Apply the first operation on the elements at indices 0 and 1. The resulting array is nums = [].  \n",
    "It can be shown that we cannot make the array empty in less than 4 operations.  \n",
    "\n",
    "Ex2:  \n",
    "Input: nums = [2,1,2,2,3,3]  \n",
    "Output: -1  \n",
    "Explanation: It is impossible to empty the array."
   ]
  },
  {
   "cell_type": "markdown",
   "id": "aefa6000-8851-48a8-9fd5-be5a9b3810da",
   "metadata": {},
   "source": [
    "* 解題想法:  \n",
    "首先將nums中出現的數字頻率轉換成dict之後，接著從每個value來進行檢查，如果當value為1時代表無法被清空則直接回傳-1，如果value為3的倍數則將結果加上除3後的結果，否則就是加上除3後加1的結果，最後回傳總和就是答案"
   ]
  },
  {
   "cell_type": "code",
   "execution_count": null,
   "id": "abee14b1-8491-455f-81ba-2d9ef1e9a91e",
   "metadata": {},
   "outputs": [],
   "source": [
    "class Solution:\n",
    "    def minOperations(self, nums: List[int]) -> int:\n",
    "        count = {}\n",
    "        res = 0\n",
    "        for n in nums:\n",
    "            if n not in count.keys():\n",
    "                count[n] = 1\n",
    "            else:\n",
    "                count[n] += 1\n",
    "        for val in count.values():\n",
    "            if val == 1:\n",
    "                return -1\n",
    "            else:\n",
    "                if val % 3 == 0:\n",
    "                    res += val // 3\n",
    "                elif val % 3 == 1:\n",
    "                    res += val // 3 + 1\n",
    "                elif val % 3 == 2:\n",
    "                    res += val // 3 + 1\n",
    "        return res"
   ]
  }
 ],
 "metadata": {
  "kernelspec": {
   "display_name": "Python 3 (ipykernel)",
   "language": "python",
   "name": "python3"
  },
  "language_info": {
   "codemirror_mode": {
    "name": "ipython",
    "version": 3
   },
   "file_extension": ".py",
   "mimetype": "text/x-python",
   "name": "python",
   "nbconvert_exporter": "python",
   "pygments_lexer": "ipython3",
   "version": "3.11.4"
  }
 },
 "nbformat": 4,
 "nbformat_minor": 5
}
