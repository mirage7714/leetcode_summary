{
 "cells": [
  {
   "cell_type": "markdown",
   "id": "5f17c19d-0ef6-4bbb-8e68-3863b32f7e88",
   "metadata": {},
   "source": [
    "# 本題要找出兩個不重複字母的字串長度相乘最大值為多少 (\\#Array, \\#String )\n",
    "原題目連結: https://leetcode.com/problems/maximum-product-of-word-lengths/description/  \n",
    "\n",
    "Given a string array words, return the maximum value of length(word[i]) * length(word[j]) where the two words do not share common letters. If no such two words exist, return 0.  \n",
    "\n",
    "範例:  \n",
    "Ex1:　\n",
    "Input: words = [\"abcw\",\"baz\",\"foo\",\"bar\",\"xtfn\",\"abcdef\"]  \n",
    "Output: 16  \n",
    "Explanation: The two words can be \"abcw\", \"xtfn\".  \n",
    "\n",
    "Ex2:  \n",
    "Input: words = [\"a\",\"ab\",\"abc\",\"d\",\"cd\",\"bcd\",\"abcd\"]  \n",
    "Output: 4  \n",
    "Explanation: The two words can be \"ab\", \"cd\".  \n",
    "\n",
    "Ex3:  \n",
    "Input: words = [\"a\",\"aa\",\"aaa\",\"aaaa\"]  \n",
    "Output: 0  \n",
    "Explanation: No such pair of words."
   ]
  },
  {
   "cell_type": "markdown",
   "id": "ade11efc-fe76-4346-ba15-dd1931dafe7d",
   "metadata": {},
   "source": [
    "* 解題想法:  \n",
    "用兩個迴圈，並檢查兩個字串是否有出現相同的字母，如果沒有則更新目前最大值，如果有的話則跳過並尋找下一個字串，最後回傳最大值就是答案"
   ]
  },
  {
   "cell_type": "code",
   "execution_count": null,
   "id": "fa8edd11-d949-4edb-9995-38359acfaf12",
   "metadata": {},
   "outputs": [],
   "source": [
    "class Solution:\n",
    "    def maxProduct(self, words: List[str]) -> int:\n",
    "        res = 0\n",
    "        for i in range(len(words)-1):\n",
    "            wi = words[i]\n",
    "            for j in range(i+1, len(words)):\n",
    "                wj = words[j]\n",
    "                is_valid = True\n",
    "                for w in wi:\n",
    "                    if w in wj:\n",
    "                        is_valid = False\n",
    "                        break\n",
    "                if is_valid: \n",
    "                    res = max(res, len(wi) * len(wj))\n",
    "        return res"
   ]
  }
 ],
 "metadata": {
  "kernelspec": {
   "display_name": "Python 3 (ipykernel)",
   "language": "python",
   "name": "python3"
  },
  "language_info": {
   "codemirror_mode": {
    "name": "ipython",
    "version": 3
   },
   "file_extension": ".py",
   "mimetype": "text/x-python",
   "name": "python",
   "nbconvert_exporter": "python",
   "pygments_lexer": "ipython3",
   "version": "3.9.13"
  }
 },
 "nbformat": 4,
 "nbformat_minor": 5
}
