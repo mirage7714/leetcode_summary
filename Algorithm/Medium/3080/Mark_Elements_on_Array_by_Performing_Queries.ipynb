{
 "cells": [
  {
   "cell_type": "markdown",
   "id": "a76ffb5a-ea86-4256-b98e-89f33b1654ae",
   "metadata": {},
   "source": [
    "# 本題要將指定的index進行mark後找出剩下數值的總和 (\\#Array, \\#Heap )\n",
    "原題目連結: https://leetcode.com/problems/mark-elements-on-array-by-performing-queries/description/  \n",
    "\n",
    "You are given a 0-indexed array nums of size n consisting of positive integers.  \n",
    "You are also given a 2D array queries of size m where queries[i] = [indexi, ki].  \n",
    "Initially all elements of the array are unmarked.  \n",
    "You need to apply m queries on the array in order, where on the ith query you do the following:  \n",
    "Mark the element at index indexi if it is not already marked.  \n",
    "Then mark ki unmarked elements in the array with the smallest values. If multiple such elements exist, mark the ones with the smallest indices. And if less than ki unmarked elements exist, then mark all of them.  \n",
    "Return an array answer of size m where answer[i] is the sum of unmarked elements in the array after the ith query.  \n",
    "\n",
    "範例:  \n",
    "Ex1:  \n",
    "Input: nums = [1,2,2,1,2,3,1], queries = [[1,2],[3,3],[4,2]]  \n",
    "Output: [8,3,0]  \n",
    "Explanation:  \n",
    "We do the following queries on the array:  \n",
    "Mark the element at index 1, and 2 of the smallest unmarked elements with the smallest indices if they exist, the marked elements now are nums = [1,2,2,1,2,3,1]. The sum of unmarked elements is 2 + 2 + 3 + 1 = 8.  \n",
    "Mark the element at index 3, since it is already marked we skip it. Then we mark 3 of the smallest unmarked elements with the smallest indices, the marked elements now are nums = [1,2,2,1,2,3,1]. The sum of unmarked elements is 3.  \n",
    "Mark the element at index 4, since it is already marked we skip it. Then we mark 2 of the smallest unmarked elements with the smallest indices if they exist, the marked elements now are nums = [1,2,2,1,2,3,1]. The sum of unmarked elements is 0.  \n",
    "\n",
    "Ex2:  \n",
    "Input: nums = [1,4,2,3], queries = [[0,1]]  \n",
    "Output: [7]  \n",
    "Explanation: We do one query which is mark the element at index 0 and mark the smallest element among unmarked elements. The marked elements will be nums = [1,4,2,3], and the sum of unmarked elements is 4 + 3 = 7."
   ]
  },
  {
   "cell_type": "markdown",
   "id": "a2e21a56-0577-49c7-897e-97220b24b778",
   "metadata": {},
   "source": [
    "* 解題想法:  \n",
    "首先將list中所有的數值進行加總，並將數值與index放入一個heap中，另外用一個set作為暫存，存放已經mark過的index，接著開始從queries中取出要mark的數值，如果該index並沒有mark過則將總數減去該數值，接著從heap中取出k個未mark的數值，並分別減去該數值後將結果放入list中，最後回傳list作為答案"
   ]
  },
  {
   "cell_type": "code",
   "execution_count": null,
   "id": "2efcfef7-92a9-4cf2-aa8a-1ec41743a783",
   "metadata": {},
   "outputs": [],
   "source": [
    "import heapq\n",
    "\n",
    "class Solution:\n",
    "    def unmarkedSumArray(self, nums: List[int], queries: List[List[int]]) -> List[int]:\n",
    "        res = []\n",
    "        marked = set()\n",
    "        total = 0\n",
    "        temp = []\n",
    "        heapq.heapify(temp)\n",
    "        for n in range(len(nums)):\n",
    "            total += nums[n]\n",
    "            heapq.heappush(temp, [nums[n], n])\n",
    "        for q in queries:\n",
    "            if q[0] not in marked:\n",
    "                total -= nums[q[0]]\n",
    "                marked.add(q[0])\n",
    "            while temp and q[1] > 0: \n",
    "                t = heapq.heappop(temp)\n",
    "                if t[1] not in marked: \n",
    "                    total -= t[0]\n",
    "                    q[1] -= 1\n",
    "                marked.add(t[1])\n",
    "            res.append(total)\n",
    "        return res"
   ]
  }
 ],
 "metadata": {
  "kernelspec": {
   "display_name": "Python 3 (ipykernel)",
   "language": "python",
   "name": "python3"
  },
  "language_info": {
   "codemirror_mode": {
    "name": "ipython",
    "version": 3
   },
   "file_extension": ".py",
   "mimetype": "text/x-python",
   "name": "python",
   "nbconvert_exporter": "python",
   "pygments_lexer": "ipython3",
   "version": "3.9.13"
  }
 },
 "nbformat": 4,
 "nbformat_minor": 5
}
