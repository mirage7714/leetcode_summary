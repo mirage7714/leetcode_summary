{
 "cells": [
  {
   "cell_type": "markdown",
   "id": "e99e97c8-2f57-410a-a5e3-c818d0c589ad",
   "metadata": {},
   "source": [
    "* 本題要找出組合之後的最大數字為何 (\\#Array \\#BitManipulation )\n",
    "原題目連結: https://leetcode.com/problems/maximum-possible-number-by-binary-concatenation/description/  \n",
    "\n",
    "You are given an array of integers nums of size 3.  \n",
    "Return the maximum possible number whose binary representation can be formed by concatenating the binary representation of all elements in nums in some order.  \n",
    "Note that the binary representation of any number does not contain leading zeros.  \n",
    "\n",
    "範例:  \n",
    "Ex1:  \n",
    "Input: nums = [1,2,3]  \n",
    "Output: 30  \n",
    "Explanation:  \n",
    "Concatenate the numbers in the order [3, 1, 2] to get the result \"11110\", which is the binary representation of 30.  \n",
    "\n",
    "Ex2:  \n",
    "Input: nums = [2,8,16]  \n",
    "Output: 1296  \n",
    "Explanation:  \n",
    "Concatenate the numbers in the order [2, 8, 16] to get the result \"10100010000\", which is the binary representation of 1296."
   ]
  },
  {
   "cell_type": "markdown",
   "id": "a9bdddbd-7361-483d-b1a7-88bcf3ae6c69",
   "metadata": {},
   "source": [
    "* 解題想法:  \n",
    "因為題目的數字長度是固定的，這邊用列舉法將所有組合找出來之後，最後取轉整數的最大值就是答案"
   ]
  },
  {
   "cell_type": "code",
   "execution_count": null,
   "id": "38f7e400-9ee4-42b2-aaee-3bbbd01c73ec",
   "metadata": {},
   "outputs": [],
   "source": [
    "class Solution:\n",
    "    def maxGoodNumber(self, nums: List[int]) -> int:\n",
    "        b = [bin(n)[2:] for n in nums]\n",
    "        temp = [b[0]+b[1]+b[2], b[0]+b[2]+b[1], b[1]+b[2]+b[0], b[1]+b[0]+b[2], b[2]+b[1]+b[0], b[2]+b[0]+b[1]]\n",
    "        res = 0\n",
    "        for t in temp:\n",
    "            res = max(res, int(t, 2))\n",
    "        return res"
   ]
  }
 ],
 "metadata": {
  "kernelspec": {
   "display_name": "Python 3 (ipykernel)",
   "language": "python",
   "name": "python3"
  },
  "language_info": {
   "codemirror_mode": {
    "name": "ipython",
    "version": 3
   },
   "file_extension": ".py",
   "mimetype": "text/x-python",
   "name": "python",
   "nbconvert_exporter": "python",
   "pygments_lexer": "ipython3",
   "version": "3.9.13"
  }
 },
 "nbformat": 4,
 "nbformat_minor": 5
}
