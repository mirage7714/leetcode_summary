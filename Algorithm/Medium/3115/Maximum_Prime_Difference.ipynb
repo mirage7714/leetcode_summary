{
 "cells": [
  {
   "cell_type": "markdown",
   "id": "9e28ed84-c8a0-4f13-833d-58a053d7a0c0",
   "metadata": {},
   "source": [
    "# 本題要找出prime最大的距離為多少 (\\#Array )\n",
    "原題目連結: https://leetcode.com/problems/maximum-prime-difference/description/  \n",
    "\n",
    "You are given an integer array nums.  \n",
    "Return an integer that is the maximum distance between the indices of two (not necessarily different) prime numbers in nums.  \n",
    "\n",
    "範例:  \n",
    "Ex1:  \n",
    "Input: nums = [4,2,9,5,3]  \n",
    "Output: 3  \n",
    "Explanation: nums[1], nums[3], and nums[4] are prime. So the answer is |4 - 1| = 3.  \n",
    "\n",
    "Ex2:  \n",
    "Input: nums = [4,8,2,8]  \n",
    "Output: 0  \n",
    "Explanation: nums[2] is prime. Because there is just one prime number, the answer is |2 - 2| = 0."
   ]
  },
  {
   "cell_type": "markdown",
   "id": "06ef88b0-6a0c-4d06-babe-2f43a2fccac9",
   "metadata": {},
   "source": [
    "* 解題想法:  \n",
    "首先定義一個function來檢查是否為質數，接著先找出左側的第一個質數，並更新index，接著從右側找出第一個質數後計算出距離就是答案"
   ]
  },
  {
   "cell_type": "code",
   "execution_count": null,
   "id": "d426fb6c-010a-4b36-a1a2-490c84d233a0",
   "metadata": {},
   "outputs": [],
   "source": [
    "class Solution:\n",
    "    def maximumPrimeDifference(self, nums: List[int]) -> int:\n",
    "        def is_prime(num):\n",
    "            if num % 2 == 0:\n",
    "                if num == 2:\n",
    "                    return True\n",
    "                else:\n",
    "                    return False\n",
    "            else:\n",
    "                if num == 1:\n",
    "                    return False\n",
    "                else:\n",
    "                    for m in range(3, int(sqrt(num)) + 1):\n",
    "                        if num % m == 0:\n",
    "                            return False\n",
    "                    return True\n",
    "        res = 0\n",
    "        for n in range(len(nums)):\n",
    "            if is_prime(nums[n]):\n",
    "                res = n\n",
    "                break\n",
    "        for m in range(len(nums)-1, -1, -1):\n",
    "            if is_prime(nums[m]):\n",
    "                res = m - res\n",
    "                break\n",
    "        return res"
   ]
  }
 ],
 "metadata": {
  "kernelspec": {
   "display_name": "Python 3 (ipykernel)",
   "language": "python",
   "name": "python3"
  },
  "language_info": {
   "codemirror_mode": {
    "name": "ipython",
    "version": 3
   },
   "file_extension": ".py",
   "mimetype": "text/x-python",
   "name": "python",
   "nbconvert_exporter": "python",
   "pygments_lexer": "ipython3",
   "version": "3.9.13"
  }
 },
 "nbformat": 4,
 "nbformat_minor": 5
}
