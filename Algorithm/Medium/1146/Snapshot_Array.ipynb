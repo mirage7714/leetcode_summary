{
 "cells": [
  {
   "cell_type": "markdown",
   "id": "15b6a95c-b10c-4a53-a4d2-3d188f9c6f2d",
   "metadata": {},
   "source": [
    "# 本題要實作一個可以幫list進行快照的功能 (\\#Array, \\#HashMap)\n",
    "原題目連結: https://leetcode.com/problems/snapshot-array/description/  \n",
    "\n",
    "Implement a SnapshotArray that supports the following interface:   \n",
    "\n",
    "SnapshotArray(int length) initializes an array-like data structure with the given length. Initially, each element equals 0.  \n",
    "void set(index, val) sets the element at the given index to be equal to val.  \n",
    "int snap() takes a snapshot of the array and returns the snap_id: the total number of times we called snap() minus 1.  \n",
    "int get(index, snap_id) returns the value at the given index, at the time we took the snapshot with the given snap_id  \n",
    "\n",
    "範例:  \n",
    "Ex1:  \n",
    "Input: [\"SnapshotArray\",\"set\",\"snap\",\"set\",\"get\"]  \n",
    "[[3],[0,5],[],[0,6],[0,0]]  \n",
    "Output: [null,null,0,null,5]  \n",
    "Explanation:   \n",
    "SnapshotArray snapshotArr = new SnapshotArray(3); // set the length to be 3  \n",
    "snapshotArr.set(0,5);  // Set array[0] = 5  \n",
    "snapshotArr.snap();  // Take a snapshot, return snap_id = 0  \n",
    "snapshotArr.set(0,6);  \n",
    "snapshotArr.get(0,0);  // Get the value of array[0] with snap_id = 0, return 5"
   ]
  },
  {
   "cell_type": "markdown",
   "id": "9ad1827e-6d79-46dd-b48a-48144c281404",
   "metadata": {},
   "source": [
    "* 解題想法:  \n",
    "首先用一個變數來儲存目前的版本，另外用一個dict來存放所有的資料，接著開始實作要求的功能:  \n",
    "- set(): 檢查該index是否有在dict的key中，如果沒有澤建立一個新的dict，並把目前的版本以及數值放入  \n",
    "- snap(): 將版本更新，並回傳新的版本-1的值  \n",
    "- get(): 手先檢查index是否存在於dict的key中，如果不存在則直接回傳0，接著檢查snap_id是否存在於dict中，如果存在則直接回傳該snap_id的值，如果不存在則找出最接近的版本，最後如果都沒有則直接回傳0"
   ]
  },
  {
   "cell_type": "code",
   "execution_count": null,
   "id": "e595cd48-2e2b-4a0d-b11a-a3e169f2989b",
   "metadata": {},
   "outputs": [],
   "source": [
    "class SnapshotArray:\n",
    "\n",
    "    def __init__(self, length: int):\n",
    "        self.count = 0\n",
    "        self.data = {}\n",
    "\n",
    "    def set(self, index: int, val: int) -> None:\n",
    "        if index not in self.data.keys(): \n",
    "            self.data[index] = {}\n",
    "        self.data[index][self.count] = val\n",
    "\n",
    "    def snap(self) -> int:\n",
    "        self.count += 1\n",
    "        return self.count - 1\n",
    "\n",
    "    def get(self, index: int, snap_id: int) -> int:\n",
    "        if index not in self.data.keys():\n",
    "            return 0\n",
    "        else:\n",
    "            d = self.data[index]\n",
    "            if snap_id in d.keys():\n",
    "                return d[snap_id]\n",
    "            else:\n",
    "                for m in range(snap_id-1, -1, -1):\n",
    "                    if m in d.keys():\n",
    "                        return d[m]\n",
    "                return 0\n",
    "\n",
    "# Your SnapshotArray object will be instantiated and called as such:\n",
    "# obj = SnapshotArray(length)\n",
    "# obj.set(index,val)\n",
    "# param_2 = obj.snap()\n",
    "# param_3 = obj.get(index,snap_id)"
   ]
  }
 ],
 "metadata": {
  "kernelspec": {
   "display_name": "Python 3 (ipykernel)",
   "language": "python",
   "name": "python3"
  },
  "language_info": {
   "codemirror_mode": {
    "name": "ipython",
    "version": 3
   },
   "file_extension": ".py",
   "mimetype": "text/x-python",
   "name": "python",
   "nbconvert_exporter": "python",
   "pygments_lexer": "ipython3",
   "version": "3.9.13"
  }
 },
 "nbformat": 4,
 "nbformat_minor": 5
}
