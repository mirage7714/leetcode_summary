{
 "cells": [
  {
   "cell_type": "markdown",
   "id": "b5b61322-377f-49ef-bc45-6dc3194abb39",
   "metadata": {},
   "source": [
    "# 本題要找出是否有兩個以上的禁用字 (\\#Array, \\#HashMap )\n",
    "原題目連結: https://leetcode.com/problems/report-spam-message/description/  \n",
    "\n",
    "You are given an array of strings message and an array of strings bannedWords.  \n",
    "An array of words is considered spam if there are at least two words in it that exactly match any word in bannedWords.  \n",
    "Return true if the array message is spam, and false otherwise.  \n",
    "\n",
    "範例:  \n",
    "Ex1:  \n",
    "Input: message = [\"hello\",\"world\",\"leetcode\"], bannedWords = [\"world\",\"hello\"]  \n",
    "Output: true  \n",
    "Explanation:  \n",
    "The words \"hello\" and \"world\" from the message array both appear in the bannedWords array.  \n",
    "\n",
    "Ex2:  \n",
    "Input: message = [\"hello\",\"programming\",\"fun\"], bannedWords = [\"world\",\"programming\",\"leetcode\"]  \n",
    "Output: false  \n",
    "Explanation:  \n",
    "Only one word from the message array (\"programming\") appears in the bannedWords array."
   ]
  },
  {
   "cell_type": "markdown",
   "id": "df762e3c-90c7-43d0-8393-7b63b1cd8d38",
   "metadata": {},
   "source": [
    "* 解題想法:  \n",
    "首先將禁用字轉換為dict，接著從訊息中找出是否有出現超過兩次以上的禁用字，如果有則回傳True，否則回傳False"
   ]
  },
  {
   "cell_type": "code",
   "execution_count": null,
   "id": "2c2c632d-7fa4-40d0-98b0-4e857e050341",
   "metadata": {},
   "outputs": [],
   "source": [
    "class Solution:\n",
    "    def reportSpam(self, message: List[str], bannedWords: List[str]) -> bool:\n",
    "        count = {i:1 for i in bannedWords}\n",
    "        c = 0\n",
    "        for b in message:\n",
    "            if b in count.keys():\n",
    "                c += 1\n",
    "                if c == 2:\n",
    "                    return True\n",
    "        return False"
   ]
  }
 ],
 "metadata": {
  "kernelspec": {
   "display_name": "Python 3 (ipykernel)",
   "language": "python",
   "name": "python3"
  },
  "language_info": {
   "codemirror_mode": {
    "name": "ipython",
    "version": 3
   },
   "file_extension": ".py",
   "mimetype": "text/x-python",
   "name": "python",
   "nbconvert_exporter": "python",
   "pygments_lexer": "ipython3",
   "version": "3.9.13"
  }
 },
 "nbformat": 4,
 "nbformat_minor": 5
}
