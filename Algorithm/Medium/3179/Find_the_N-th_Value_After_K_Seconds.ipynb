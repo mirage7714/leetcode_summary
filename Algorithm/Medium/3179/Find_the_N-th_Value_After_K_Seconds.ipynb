{
 "cells": [
  {
   "cell_type": "markdown",
   "id": "de6bc2c8-2229-4478-a02b-ddbb2df6ca29",
   "metadata": {},
   "source": [
    "# 本題要找出第k次之後，第n個值為多少 (\\#Math )\n",
    "原題目連結: https://leetcode.com/problems/find-the-n-th-value-after-k-seconds/description/  \n",
    "\n",
    "You are given two integers n and k.  \n",
    "Initially, you start with an array a of n integers where a[i] = 1 for all 0 <= i <= n - 1. After each second, you simultaneously update each element to be the sum of all its preceding elements plus the element itself. For example, after one second, a[0] remains the same, a[1] becomes a[0] + a[1], a[2] becomes a[0] + a[1] + a[2], and so on.  \n",
    "Return the value of a[n - 1] after k seconds.  \n",
    "Since the answer may be very large, return it modulo 109 + 7.  \n",
    "\n",
    "範例:  \n",
    "Ex1:  \n",
    "Input: n = 4, k = 5  \n",
    "Output: 56  \n",
    "Explanation:  \n",
    "Second\tState After  \n",
    "0\t[1,1,1,1]  \n",
    "1\t[1,2,3,4]  \n",
    "2\t[1,3,6,10]  \n",
    "3\t[1,4,10,20]  \n",
    "4\t[1,5,15,35]  \n",
    "5\t[1,6,21,56]  \n",
    "\n",
    "Ex2:  \n",
    "Input: n = 5, k = 3  \n",
    "Output: 35  \n",
    "Explanation:  \n",
    "Second\tState After  \n",
    "0\t[1,1,1,1,1]  \n",
    "1\t[1,2,3,4,5]  \n",
    "2\t[1,3,6,10,15]  \n",
    "3\t[1,4,10,20,35]  "
   ]
  },
  {
   "cell_type": "markdown",
   "id": "c413c852-e0d8-43fa-aeac-2c7d125ab468",
   "metadata": {},
   "source": [
    "* 解題想法:  \n",
    "首先建立最初的list，接著用迴圈開始計算數值，第n個數值會等於前一輪的n值加上這一輪的n-1，所以用一個list暫存，最後將目前的數值進行更新，最後回傳目標的數值就是答案"
   ]
  },
  {
   "cell_type": "code",
   "execution_count": null,
   "id": "fa7bec8b-6c36-4f1c-9dee-17f92091088c",
   "metadata": {},
   "outputs": [],
   "source": [
    "class Solution:\n",
    "    def valueAfterKSeconds(self, n: int, k: int) -> int:\n",
    "        temp = [1 for i in range(n)]\n",
    "        for i in range(k):\n",
    "            t = []\n",
    "            for j in temp:\n",
    "                if not t:\n",
    "                    t.append(j)\n",
    "                else:\n",
    "                    t.append(t[-1] + j)\n",
    "            temp = t\n",
    "        return temp[-1] % 1000000007"
   ]
  }
 ],
 "metadata": {
  "kernelspec": {
   "display_name": "Python 3 (ipykernel)",
   "language": "python",
   "name": "python3"
  },
  "language_info": {
   "codemirror_mode": {
    "name": "ipython",
    "version": 3
   },
   "file_extension": ".py",
   "mimetype": "text/x-python",
   "name": "python",
   "nbconvert_exporter": "python",
   "pygments_lexer": "ipython3",
   "version": "3.9.13"
  }
 },
 "nbformat": 4,
 "nbformat_minor": 5
}
