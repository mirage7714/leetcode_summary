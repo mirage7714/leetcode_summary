{
 "cells": [
  {
   "cell_type": "markdown",
   "id": "ded86c32-2cd6-42a8-a59b-bbdddbd57fdf",
   "metadata": {},
   "source": [
    "# 本題要找出符合條件的sublist最多有幾組 (\\#Array, \\#Stack, \\#Greedy )\n",
    "原題目連結：https://leetcode.com/problems/maximum-balanced-shipments/description/  \n",
    "\n",
    "You are given an integer array weight of length n, representing the weights of n parcels arranged in a straight line. A shipment is defined as a contiguous subarray of parcels. A shipment is considered balanced if the weight of the last parcel is strictly less than the maximum weight among all parcels in that shipment.  \n",
    "Select a set of non-overlapping, contiguous, balanced shipments such that each parcel appears in at most one shipment (parcels may remain unshipped).  \n",
    "Return the maximum possible number of balanced shipments that can be formed.  \n",
    "\n",
    "範例：  \n",
    "Ex1:  \n",
    "Input: weight = [2,5,1,4,3]  \n",
    "Output: 2  \n",
    "Explanation:  \n",
    "We can form the maximum of two balanced shipments as follows:  \n",
    "Shipment 1: [2, 5, 1]  \n",
    "Maximum parcel weight = 5  \n",
    "Last parcel weight = 1, which is strictly less than 5. Thus, it's balanced.  \n",
    "Shipment 2: [4, 3]  \n",
    "Maximum parcel weight = 4  \n",
    "Last parcel weight = 3, which is strictly less than 4. Thus, it's balanced.  \n",
    "It is impossible to partition the parcels to achieve more than two balanced shipments, so the answer is 2.  \n",
    "\n",
    "Ex2:  \n",
    "Input: weight = [4,4]  \n",
    "Output: 0  \n",
    "Explanation:  \n",
    "No balanced shipment can be formed in this case:  \n",
    "A shipment [4, 4] has maximum weight 4 and the last parcel's weight is also 4, which is not strictly less. Thus, it's not balanced.  \n",
    "Single-parcel shipments [4] have the last parcel weight equal to the maximum parcel weight, thus not balanced.  \n",
    "As there is no way to form even one balanced shipment, the answer is 0."
   ]
  },
  {
   "cell_type": "markdown",
   "id": "36ee7c01-a57e-4fc0-9ed3-14c1bf5a234f",
   "metadata": {},
   "source": [
    "* 解題想法：  \n",
    "首先用一個變數來記錄目前的最大值，接著用迴圈開始檢查，只要當目前的數值小於最大值時則代表有符合條件，除了將結果加一之外並更新最大值為0，如果沒符合條件則更新最大值，最後回傳結果就是答案"
   ]
  },
  {
   "cell_type": "code",
   "execution_count": null,
   "id": "1a29b1d0-57b6-4969-a482-c4fd2e61dcb3",
   "metadata": {},
   "outputs": [],
   "source": [
    "class Solution:\n",
    "    def maxBalancedShipments(self, weight: List[int]) -> int:\n",
    "        res = 0\n",
    "        m = weight[0]\n",
    "        for i in range(1, len(weight)):\n",
    "            w = weight[i]\n",
    "            if w < m:\n",
    "                res += 1\n",
    "                m = 0\n",
    "            elif w > m:\n",
    "                m = w\n",
    "        return res"
   ]
  }
 ],
 "metadata": {
  "kernelspec": {
   "display_name": "Python 3 (ipykernel)",
   "language": "python",
   "name": "python3"
  },
  "language_info": {
   "codemirror_mode": {
    "name": "ipython",
    "version": 3
   },
   "file_extension": ".py",
   "mimetype": "text/x-python",
   "name": "python",
   "nbconvert_exporter": "python",
   "pygments_lexer": "ipython3",
   "version": "3.10.9"
  }
 },
 "nbformat": 4,
 "nbformat_minor": 5
}
