{
 "cells": [
  {
   "cell_type": "markdown",
   "metadata": {},
   "source": [
    "# 本題要將linked list中的數值用螺旋的方式放入一個2D list中\n",
    "原題目連結: https://leetcode.com/problems/spiral-matrix-iv/  \n",
    "\n",
    "You are given two integers m and n, which represent the dimensions of a matrix.  \n",
    "You are also given the head of a linked list of integers.  \n",
    "\n",
    "Generate an m x n matrix that contains the integers in the linked list presented in spiral order (clockwise), starting from the top-left of the matrix. If there are remaining empty spaces, fill them with -1.  \n",
    "Return the generated matrix.  \n",
    "\n",
    "範例:  \n",
    "Ex1:  \n",
    "Input: m = 3, n = 5, head = [3,0,2,6,8,1,7,9,4,2,5,5,0]  \n",
    "Output: [[3,0,2,6,8],[5,0,-1,-1,1],[5,2,4,9,7]]  \n",
    "Explanation: The diagram above shows how the values are printed in the matrix.  \n",
    "Note that the remaining spaces in the matrix are filled with -1.  \n",
    "\n",
    "Ex2:  \n",
    "Input: m = 1, n = 4, head = [0,1,2]  \n",
    "Output: [[0,1,2,-1]]  \n",
    "Explanation: The diagram above shows how the values are printed from left to right in the matrix.  \n",
    "The last space in the matrix is set to -1."
   ]
  },
  {
   "cell_type": "markdown",
   "metadata": {},
   "source": [
    "* 解題想法:  \n",
    "與59題類似，這題也是先找出所有的座標後，將linked list中的數值取出照座標順序放入result中就可找出答案"
   ]
  },
  {
   "cell_type": "code",
   "execution_count": null,
   "metadata": {},
   "outputs": [],
   "source": [
    "# Definition for singly-linked list.\n",
    "# class ListNode:\n",
    "#     def __init__(self, val=0, next=None):\n",
    "#         self.val = val\n",
    "#         self.next = next\n",
    "class Solution:\n",
    "    def spiralMatrix(self, m: int, n: int, head: Optional[ListNode]) -> List[List[int]]:\n",
    "        result = []\n",
    "        loc = []\n",
    "        for _ in range(m):\n",
    "            result.append([-1]*n)\n",
    "        top = 0\n",
    "        left = 0\n",
    "        right = n-1\n",
    "        bottom = m-1\n",
    "        while len(loc) < m * n:\n",
    "            for a in range(left, right+1):\n",
    "                loc.append([top, a])\n",
    "            for b in range(top+1, bottom+1):\n",
    "                loc.append([b, right])\n",
    "            if top != bottom:\n",
    "                for c in range(right-1, left, -1):\n",
    "                    loc.append([bottom, c])\n",
    "            if left != right:\n",
    "                for d in range(bottom, top, -1):\n",
    "                    loc.append([d, left])\n",
    "            left += 1\n",
    "            top += 1\n",
    "            right -= 1\n",
    "            bottom -= 1\n",
    "        for l in loc:\n",
    "            if head:\n",
    "                result[l[0]][l[1]] = head.val\n",
    "                head = head.next\n",
    "            else:\n",
    "                break\n",
    "        return result"
   ]
  }
 ],
 "metadata": {
  "kernelspec": {
   "display_name": "Python 3",
   "language": "python",
   "name": "python3"
  },
  "language_info": {
   "codemirror_mode": {
    "name": "ipython",
    "version": 3
   },
   "file_extension": ".py",
   "mimetype": "text/x-python",
   "name": "python",
   "nbconvert_exporter": "python",
   "pygments_lexer": "ipython3",
   "version": "3.7.4"
  }
 },
 "nbformat": 4,
 "nbformat_minor": 4
}
