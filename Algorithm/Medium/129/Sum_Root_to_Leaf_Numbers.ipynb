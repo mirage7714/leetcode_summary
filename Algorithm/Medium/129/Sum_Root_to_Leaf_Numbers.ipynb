{
 "cells": [
  {
   "cell_type": "markdown",
   "metadata": {},
   "source": [
    "# 本題要找出每個路徑的數值總合為多少\n",
    "原題目連結: https://leetcode.com/problems/sum-root-to-leaf-numbers/  \n",
    "\n",
    "You are given the root of a binary tree containing digits from 0 to 9 only.  \n",
    "\n",
    "Each root-to-leaf path in the tree represents a number.  \n",
    "\n",
    "For example, the root-to-leaf path 1 -> 2 -> 3 represents the number 123.  \n",
    "Return the total sum of all root-to-leaf numbers. Test cases are generated so that the answer will fit in a 32-bit integer.  \n",
    "\n",
    "A leaf node is a node with no children.  \n",
    "\n",
    "範例:  \n",
    "Ex1:  \n",
    "Input: root = [1,2,3]  \n",
    "Output: 25  \n",
    "Explanation:  \n",
    "The root-to-leaf path 1->2 represents the number 12.  \n",
    "The root-to-leaf path 1->3 represents the number 13.  \n",
    "Therefore, sum = 12 + 13 = 25.  \n",
    "\n",
    "Ex2:  \n",
    "Input: root = [4,9,0,5,1]  \n",
    "Output: 1026  \n",
    "Explanation:   \n",
    "The root-to-leaf path 4->9->5 represents the number 495.  \n",
    "The root-to-leaf path 4->9->1 represents the number 491.  \n",
    "The root-to-leaf path 4->0 represents the number 40.  \n",
    "Therefore, sum = 495 + 491 + 40 = 1026."
   ]
  },
  {
   "cell_type": "markdown",
   "metadata": {},
   "source": [
    "* 解題想法:  \n",
    "由於要找出路徑的數字總和，這邊需要使用DFS的方法來進行走訪，將每個子節點都加上父節點的數值x10，直到走訪結束後將數值進行總和，最後回傳總和"
   ]
  },
  {
   "cell_type": "code",
   "execution_count": null,
   "metadata": {},
   "outputs": [],
   "source": [
    "# Definition for a binary tree node.\n",
    "# class TreeNode:\n",
    "#     def __init__(self, val=0, left=None, right=None):\n",
    "#         self.val = val\n",
    "#         self.left = left\n",
    "#         self.right = right\n",
    "class Solution:\n",
    "    def sumNumbers(self, root: Optional[TreeNode]) -> int:\n",
    "        result = 0\n",
    "        temp = [root]\n",
    "        while len(temp) > 0:\n",
    "            node = temp.pop()\n",
    "            if not node.left and not node.right:\n",
    "                result += node.val\n",
    "            if node.left:\n",
    "                node.left.val += node.val * 10\n",
    "                temp.append(node.left)\n",
    "            if node.right:\n",
    "                node.right.val += node.val * 10\n",
    "                temp.append(node.right)\n",
    "        return result"
   ]
  }
 ],
 "metadata": {
  "kernelspec": {
   "display_name": "Python 3",
   "language": "python",
   "name": "python3"
  },
  "language_info": {
   "codemirror_mode": {
    "name": "ipython",
    "version": 3
   },
   "file_extension": ".py",
   "mimetype": "text/x-python",
   "name": "python",
   "nbconvert_exporter": "python",
   "pygments_lexer": "ipython3",
   "version": "3.7.4"
  }
 },
 "nbformat": 4,
 "nbformat_minor": 4
}
