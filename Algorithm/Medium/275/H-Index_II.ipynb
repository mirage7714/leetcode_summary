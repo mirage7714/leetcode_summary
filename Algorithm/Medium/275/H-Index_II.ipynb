{
 "cells": [
  {
   "cell_type": "markdown",
   "id": "57be11ac-e094-43db-83fe-613649189eff",
   "metadata": {},
   "source": [
    "# 本題要找出h-index為多少 (\\#Array, \\#Binary Search )(與No.274類似)\n",
    "原題目連結: https://leetcode.com/problems/h-index-ii/description/  \n",
    "\n",
    "Given an array of integers citations where citations[i] is the number of citations a researcher received for their ith paper and citations is sorted in ascending order, return the researcher's h-index.  \n",
    "\n",
    "According to the definition of h-index on Wikipedia: The h-index is defined as the maximum value of h such that the given researcher has published at least h papers that have each been cited at least h times.  \n",
    "\n",
    "You must write an algorithm that runs in logarithmic time.  \n",
    "\n",
    "範例:  \n",
    "Ex1:  \n",
    "Input: citations = [0,1,3,5,6]  \n",
    "Output: 3  \n",
    "Explanation: [0,1,3,5,6] means the researcher has 5 papers in total and each of them had received 0, 1, 3, 5, 6 citations respectively.  \n",
    "Since the researcher has 3 papers with at least 3 citations each and the remaining two with no more than 3 citations each, their h-index is 3.  \n",
    "\n",
    "Ex2:  \n",
    "Input: citations = [1,2,100]  \n",
    "Output: 2  "
   ]
  },
  {
   "cell_type": "markdown",
   "id": "c72a10b0-f7a7-42dd-84e9-00c6736af660",
   "metadata": {},
   "source": [
    "* 解題想法:  \n",
    "與No.274相似，這題的citations是排序過後的，"
   ]
  }
 ],
 "metadata": {
  "kernelspec": {
   "display_name": "Python 3 (ipykernel)",
   "language": "python",
   "name": "python3"
  },
  "language_info": {
   "codemirror_mode": {
    "name": "ipython",
    "version": 3
   },
   "file_extension": ".py",
   "mimetype": "text/x-python",
   "name": "python",
   "nbconvert_exporter": "python",
   "pygments_lexer": "ipython3",
   "version": "3.9.13"
  }
 },
 "nbformat": 4,
 "nbformat_minor": 5
}
