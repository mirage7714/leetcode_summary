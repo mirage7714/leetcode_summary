{
 "cells": [
  {
   "cell_type": "markdown",
   "id": "b907a6cc-5826-4282-8c8f-b1d9d1d7ad8b",
   "metadata": {},
   "source": [
    "# 本題要找出有多少不重複的顏色數量 (\\#HashMap, \\#Array )\n",
    "原題目連結: https://leetcode.com/problems/find-the-number-of-distinct-colors-among-the-balls/description/  \n",
    "\n",
    "You are given an integer limit and a 2D array queries of size n x 2.  \n",
    "There are limit + 1 balls with distinct labels in the range [0, limit]. Initially, all balls are uncolored. For every query in queries that is of the form [x, y], you mark ball x with the color y. After each query, you need to find the number of distinct colors among the balls.  \n",
    "Return an array result of length n, where result[i] denotes the number of distinct colors after ith query.  \n",
    "Note that when answering a query, lack of a color will not be considered as a color.  \n",
    "\n",
    "範例:  \n",
    "Ex1:  \n",
    "Input: limit = 4, queries = [[1,4],[2,5],[1,3],[3,4]]  \n",
    "Output: [1,2,2,3]  \n",
    "Explanation:  \n",
    "After query 0, ball 1 has color 4.  \n",
    "After query 1, ball 1 has color 4, and ball 2 has color 5.  \n",
    "After query 2, ball 1 has color 3, and ball 2 has color 5.  \n",
    "After query 3, ball 1 has color 3, ball 2 has color 5, and ball 3 has color 4.  \n",
    "\n",
    "Ex2:  \n",
    "Input: limit = 4, queries = [[0,1],[1,2],[2,2],[3,4],[4,5]]  \n",
    "Output: [1,2,2,3,4]  \n",
    "Explanation:  \n",
    "After query 0, ball 0 has color 1.  \n",
    "After query 1, ball 0 has color 1, and ball 1 has color 2.  \n",
    "After query 2, ball 0 has color 1, and balls 1 and 2 have color 2.  \n",
    "After query 3, ball 0 has color 1, balls 1 and 2 have color 2, and ball 3 has color 4.  \n",
    "After query 4, ball 0 has color 1, balls 1 and 2 have color 2, ball 3 has color 4, and ball 4 has color 5."
   ]
  },
  {
   "cell_type": "markdown",
   "id": "a1ff60b4-58d1-4c45-8ab4-2742571a1f0a",
   "metadata": {},
   "source": [
    "* 解題想法:   \n",
    "首先用一個dict，用顏色當作key值，並把出現的index作為子dict的key值，另外用一個dict，用index作為key值，來存放該index上一次出現的顏色，接著用迴圈放入顏色: 如果該顏色沒出現過則新增該顏色的key值，並把對應的值分別放入兩個dict中，如果該index有出現過，則取出該index上一次出現的顏色，並從該顏色終將index移除，最後將目前有出現過的顏色數量放入list中，最後回傳list就是答案"
   ]
  },
  {
   "cell_type": "code",
   "execution_count": null,
   "id": "ab3780fd-dfb4-48a3-9b9a-e006b67a8666",
   "metadata": {},
   "outputs": [],
   "source": [
    "class Solution:\n",
    "    def queryResults(self, limit: int, queries: List[List[int]]) -> List[int]:\n",
    "        res = []\n",
    "        count= {}\n",
    "        prev = {}\n",
    "        for q in queries:\n",
    "            print(q)\n",
    "            k = q[0]\n",
    "            c = q[1]\n",
    "            if c not in count.keys():\n",
    "                count[c] = {}\n",
    "            count[c][k] = 1\n",
    "            if k in prev.keys() and prev[k] != c:\n",
    "                p = prev[k]\n",
    "                v = count[p]\n",
    "                v.pop(k)\n",
    "                count[p] = v\n",
    "                if len(count[p]) == 0:\n",
    "                    count.pop(p)\n",
    "            prev[k] = c\n",
    "            res.append(len(count))\n",
    "        return res"
   ]
  }
 ],
 "metadata": {
  "kernelspec": {
   "display_name": "Python 3 (ipykernel)",
   "language": "python",
   "name": "python3"
  },
  "language_info": {
   "codemirror_mode": {
    "name": "ipython",
    "version": 3
   },
   "file_extension": ".py",
   "mimetype": "text/x-python",
   "name": "python",
   "nbconvert_exporter": "python",
   "pygments_lexer": "ipython3",
   "version": "3.9.13"
  }
 },
 "nbformat": 4,
 "nbformat_minor": 5
}
