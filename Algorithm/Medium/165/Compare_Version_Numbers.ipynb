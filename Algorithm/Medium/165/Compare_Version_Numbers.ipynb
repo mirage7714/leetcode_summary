{
 "cells": [
  {
   "cell_type": "markdown",
   "metadata": {},
   "source": [
    "# 本題要比較兩個版本號的新舊\n",
    "原題目連結: https://leetcode.com/problems/compare-version-numbers/  \n",
    "\n",
    "Given two version numbers, version1 and version2, compare them.  \n",
    "\n",
    "Version numbers consist of one or more revisions joined by a dot '.'. Each revision consists of digits and may contain leading zeros. Every revision contains at least one character. Revisions are 0-indexed from left to right, with the leftmost revision being revision 0, the next revision being revision 1, and so on. For example 2.5.33 and 0.1 are valid version numbers.  \n",
    "\n",
    "To compare version numbers, compare their revisions in left-to-right order. Revisions are compared using their integer value ignoring any leading zeros. This means that revisions 1 and 001 are considered equal. If a version number does not specify a revision at an index, then treat the revision as 0. For example, version 1.0 is less than version 1.1 because their revision 0s are the same, but their revision 1s are 0 and 1 respectively, and 0 < 1.  \n",
    "\n",
    "Return the following:  \n",
    "\n",
    "If version1 < version2, return -1.  \n",
    "If version1 > version2, return 1.  \n",
    "Otherwise, return 0.  \n",
    "\n",
    "範例:  \n",
    "Ex1:  \n",
    "Input: version1 = \"1.01\", version2 = \"1.001\"  \n",
    "Output: 0  \n",
    "Explanation: Ignoring leading zeroes, both \"01\" and \"001\" represent the same integer \"1\".  \n",
    "\n",
    "Ex2:  \n",
    "Input: version1 = \"1.0\", version2 = \"1.0.0\"  \n",
    "Output: 0  \n",
    "Explanation: version1 does not specify revision 2, which means it is treated as \"0\".  \n",
    "\n",
    "Ex3:  \n",
    "Input: version1 = \"0.1\", version2 = \"1.1\"  \n",
    "Output: -1  \n",
    "Explanation: version1's revision 0 is \"0\", while version2's revision 0 is \"1\". 0 < 1, so version1 < version2.  \n",
    "\n",
    "Ex4:  \n",
    "Input: version1 = \"1.0.1\", version2 = \"1\"  \n",
    "Output: 1  \n",
    "\n",
    "Ex5:  \n",
    "Input: version1 = \"7.5.2.4\", version2 = \"7.5.3\"  \n",
    "Output: -1"
   ]
  },
  {
   "cell_type": "markdown",
   "metadata": {},
   "source": [
    "* 解題想法:  \n",
    "由於0的部分是可以不計入的，因此先用\".\"進行切分，並比較兩個版本的list長度分別為何  \n",
    "先從長度較短的版本開始比較，並確認是否有差異，如果都沒有差異則比較最後多出來的部分是否有非0的部分，如果有的話則長度較長的版本較新  \n",
    "最後依照結果回傳對應的值"
   ]
  },
  {
   "cell_type": "code",
   "execution_count": null,
   "metadata": {},
   "outputs": [],
   "source": [
    "class Solution:\n",
    "    def compareVersion(self, version1: str, version2: str) -> int:\n",
    "        v1 = version1.split('.')\n",
    "        v2 = version2.split('.')\n",
    "        size = min(len(v1), len(v2))\n",
    "        result = 0 \n",
    "        for s in range(size):\n",
    "            if int(v1[s]) > int(v2[s]):\n",
    "                result = 1\n",
    "                break\n",
    "            elif int(v1[s]) < int(v2[s]):\n",
    "                result = -1\n",
    "                break\n",
    "        if result == 0:\n",
    "            if len(v1) > len(v2):\n",
    "                for m in range(len(v2), len(v1)):\n",
    "                    if int(v1[m]) > 0 :\n",
    "                        result = 1\n",
    "                        break\n",
    "            elif len(v1) < len(v2):\n",
    "                for l in range(len(v1), len(v2)):\n",
    "                    print(v2[l])\n",
    "                    if int(v2[l]) > 0 :\n",
    "                        result = -1\n",
    "                        break\n",
    "        return result"
   ]
  }
 ],
 "metadata": {
  "kernelspec": {
   "display_name": "Python 3",
   "language": "python",
   "name": "python3"
  },
  "language_info": {
   "codemirror_mode": {
    "name": "ipython",
    "version": 3
   },
   "file_extension": ".py",
   "mimetype": "text/x-python",
   "name": "python",
   "nbconvert_exporter": "python",
   "pygments_lexer": "ipython3",
   "version": "3.7.6"
  }
 },
 "nbformat": 4,
 "nbformat_minor": 4
}
