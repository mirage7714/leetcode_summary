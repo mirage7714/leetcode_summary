{
 "cells": [
  {
   "cell_type": "markdown",
   "metadata": {},
   "source": [
    "# 本題要找出在小於指定數值的情況下，最大長度的二進位字串為何\n",
    "原題目連結: https://leetcode.com/problems/longest-binary-subsequence-less-than-or-equal-to-k/  \n",
    "\n",
    "You are given a binary string s and a positive integer k.  \n",
    "Return the length of the longest subsequence of s that makes up a binary number less than or equal to k.  \n",
    "\n",
    "Note:  \n",
    "The subsequence can contain leading zeroes.  \n",
    "The empty string is considered to be equal to 0.  \n",
    "A subsequence is a string that can be derived from another string by deleting some or no characters without changing the order of the remaining characters.  \n",
    "\n",
    "範例:  \n",
    "Ex1:  \n",
    "Input: s = \"1001010\", k = 5  \n",
    "Output: 5  \n",
    "Explanation: The longest subsequence of s that makes up a binary number less than or equal to 5 is \"00010\", as this number is equal to 2 in decimal.  \n",
    "Note that \"00100\" and \"00101\" are also possible, which are equal to 4 and 5 in decimal, respectively.  \n",
    "The length of this subsequence is 5, so 5 is returned.  \n",
    "\n",
    "Ex2:  \n",
    "Input: s = \"00101001\", k = 1  \n",
    "Output: 6  \n",
    "Explanation: \"000001\" is the longest subsequence of s that makes up a binary number less than or equal to 1, as this number is equal to 1 in decimal.  \n",
    "The length of this subsequence is 6, so 6 is returned."
   ]
  },
  {
   "cell_type": "markdown",
   "metadata": {},
   "source": [
    "* 解題想法:  \n",
    "由於要找出符合小於或等於指定的數值，因此從後面開始將字串加上去，如果字母為0的情況，則直接加入答案中，如果字母為1的情況，則先檢查加上該字母之後是否有大於指定值，如果沒有則可加上後繼續迴圈，最後回傳字串可能的最大長度"
   ]
  },
  {
   "cell_type": "code",
   "execution_count": null,
   "metadata": {},
   "outputs": [],
   "source": [
    "class Solution:\n",
    "    def longestSubsequence(self, s: str, k: int) -> int:\n",
    "        result = ''\n",
    "        for m in range(len(s)-1, -1, -1):\n",
    "            if s[m] == '0':\n",
    "                result = s[m] + result\n",
    "            else:\n",
    "                if int(s[m] + result, 2) <= k:\n",
    "                    result = s[m] + result\n",
    "        return len(result)"
   ]
  }
 ],
 "metadata": {
  "kernelspec": {
   "display_name": "Python 3",
   "language": "python",
   "name": "python3"
  },
  "language_info": {
   "codemirror_mode": {
    "name": "ipython",
    "version": 3
   },
   "file_extension": ".py",
   "mimetype": "text/x-python",
   "name": "python",
   "nbconvert_exporter": "python",
   "pygments_lexer": "ipython3",
   "version": "3.7.4"
  }
 },
 "nbformat": 4,
 "nbformat_minor": 4
}
