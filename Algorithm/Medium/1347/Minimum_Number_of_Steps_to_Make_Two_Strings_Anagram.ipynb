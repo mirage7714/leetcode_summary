{
 "cells": [
  {
   "cell_type": "markdown",
   "metadata": {},
   "source": [
    "# 本題要找出兩個字串之間有多少不同的字母數\n",
    "原題目連結：https://leetcode.com/problems/minimum-number-of-steps-to-make-two-strings-anagram/  \n",
    "\n",
    "Given two equal-size strings s and t. In one step you can choose any character of t and replace it with another character.  \n",
    "\n",
    "Return the minimum number of steps to make t an anagram of s.  \n",
    "\n",
    "An Anagram of a string is a string that contains the same characters with a different (or the same) ordering.  \n",
    "\n",
    "範例：  \n",
    "Ex1:  \n",
    "Input: s = \"bab\", t = \"aba\"  \n",
    "Output: 1  \n",
    "Explanation: Replace the first 'a' in t with b, t = \"bba\" which is anagram of s.  \n",
    "\n",
    "Ex2:  \n",
    "Input: s = \"leetcode\", t = \"practice\"  \n",
    "Output: 5  \n",
    "Explanation: Replace 'p', 'r', 'a', 'i' and 'c' from t with proper characters to make t anagram of s.  \n",
    "\n",
    "Ex3:  \n",
    "Input: s = \"anagram\", t = \"mangaar\"  \n",
    "Output: 0  \n",
    "Explanation: \"anagram\" and \"mangaar\" are anagrams.   \n",
    "\n",
    "Ex4:  \n",
    "Input: s = \"xxyyzz\", t = \"xxyyzz\"  \n",
    "Output: 0  \n",
    "\n",
    "Ex5:  \n",
    "Input: s = \"friend\", t = \"family\"  \n",
    "Output: 4"
   ]
  },
  {
   "cell_type": "markdown",
   "metadata": {},
   "source": [
    "* 解題想法：  \n",
    "依題目的要求，兩個字串只要組成的字母與數量相同，即符合題目的要求，因此先計算兩個字串內出現的字母以及數量  \n",
    "再將有相同的字母以及最小的出現數相加，最後將字串長度減去字數的統計就是題目要求的答案"
   ]
  },
  {
   "cell_type": "code",
   "execution_count": null,
   "metadata": {},
   "outputs": [],
   "source": [
    "class Solution:\n",
    "    def minSteps(self, s: str, t: str) -> int:\n",
    "        freq1 = {}\n",
    "        freq2 = {}\n",
    "        count = 0\n",
    "        if s != t:\n",
    "            for a in s:\n",
    "                if a not in freq1.keys():\n",
    "                    freq1[a] = 1\n",
    "                else:\n",
    "                    freq1[a] += 1\n",
    "            for b in t:\n",
    "                if b not in freq2.keys():\n",
    "                    freq2[b] = 1\n",
    "                else:\n",
    "                    freq2[b] += 1\n",
    "            common = 0\n",
    "            for key in freq1.keys():\n",
    "                if key in freq2.keys():\n",
    "                    common += min(freq1[key], freq2[key])\n",
    "            count = len(s) - common\n",
    "        return count\n",
    "    "
   ]
  }
 ],
 "metadata": {
  "kernelspec": {
   "display_name": "Python 3",
   "language": "python",
   "name": "python3"
  },
  "language_info": {
   "codemirror_mode": {
    "name": "ipython",
    "version": 3
   },
   "file_extension": ".py",
   "mimetype": "text/x-python",
   "name": "python",
   "nbconvert_exporter": "python",
   "pygments_lexer": "ipython3",
   "version": "3.7.6"
  }
 },
 "nbformat": 4,
 "nbformat_minor": 4
}
