{
 "cells": [
  {
   "cell_type": "markdown",
   "metadata": {},
   "source": [
    "# 本題要找出有哪些字符合所有指定的子字串\n",
    "原題目連結: https://leetcode.com/problems/word-subsets/  \n",
    "\n",
    "You are given two string arrays words1 and words2.  \n",
    "A string b is a subset of string a if every letter in b occurs in a including multiplicity.  \n",
    "\n",
    "For example, \"wrr\" is a subset of \"warrior\" but is not a subset of \"world\".  \n",
    "A string a from words1 is universal if for every string b in words2, b is a subset of a.  \n",
    "\n",
    "Return an array of all the universal strings in words1. You may return the answer in any order.  \n",
    "\n",
    "範例:  \n",
    "Ex1:  \n",
    "Input: words1 = [\"amazon\",\"apple\",\"facebook\",\"google\",\"leetcode\"], words2 = [\"e\",\"o\"]  \n",
    "Output: [\"facebook\",\"google\",\"leetcode\"]  \n",
    "\n",
    "Ex2:  \n",
    "Input: words1 = [\"amazon\",\"apple\",\"facebook\",\"google\",\"leetcode\"], words2 = [\"l\",\"e\"]  \n",
    "Output: [\"apple\",\"google\",\"leetcode\"]"
   ]
  },
  {
   "cell_type": "markdown",
   "metadata": {},
   "source": [
    "* 解題想法:  \n",
    "首先將words2中所有出現過的字母用一個dict來存放，並存放每個字母出現的最多次數為何，接著檢查words1中所有符合這個條件的字串，並放入另一個list中，最後回傳符合條件的list"
   ]
  },
  {
   "cell_type": "code",
   "execution_count": null,
   "metadata": {},
   "outputs": [],
   "source": [
    "class Solution:\n",
    "    def wordSubsets(self, words1: List[str], words2: List[str]) -> List[str]:\n",
    "        def getChars(word):\n",
    "            chars = {}\n",
    "            for w in word:\n",
    "                if w not in chars.keys():\n",
    "                    chars[w] = 1\n",
    "                else:\n",
    "                    chars[w] += 1\n",
    "            return chars\n",
    "        def concateChars(char1, char2):\n",
    "            chars = {}\n",
    "            added = []\n",
    "            for key in char1.keys():\n",
    "                if key in char2.keys():\n",
    "                    chars[key] = max(char1[key], char2[key])\n",
    "                    added.append(key)\n",
    "                else:\n",
    "                    chars[key] = char1[key]\n",
    "            for key in char2.keys():\n",
    "                if key not in added:\n",
    "                    chars[key] = char2[key]\n",
    "            return chars\n",
    "        \n",
    "        result = []\n",
    "        char2 = {}\n",
    "        for w in words2:\n",
    "            char2 = concateChars(char2, getChars(w))\n",
    "\n",
    "        for word in words1:\n",
    "            is_included = True\n",
    "            char1 = getChars(word)\n",
    "            for key in char2:\n",
    "                if key not in char1.keys():\n",
    "                    is_included = False\n",
    "                    break\n",
    "                else:\n",
    "                    if char1[key] < char2[key]:\n",
    "                        is_included = False\n",
    "                        break\n",
    "            if is_included:\n",
    "                result.append(word)\n",
    "        return result"
   ]
  }
 ],
 "metadata": {
  "kernelspec": {
   "display_name": "Python 3",
   "language": "python",
   "name": "python3"
  },
  "language_info": {
   "codemirror_mode": {
    "name": "ipython",
    "version": 3
   },
   "file_extension": ".py",
   "mimetype": "text/x-python",
   "name": "python",
   "nbconvert_exporter": "python",
   "pygments_lexer": "ipython3",
   "version": "3.7.4"
  }
 },
 "nbformat": 4,
 "nbformat_minor": 4
}
