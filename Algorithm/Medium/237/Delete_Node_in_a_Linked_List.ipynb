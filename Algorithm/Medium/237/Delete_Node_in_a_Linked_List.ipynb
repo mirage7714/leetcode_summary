{
 "cells": [
  {
   "cell_type": "markdown",
   "metadata": {},
   "source": [
    "# 本題要將linked list中的一個節點刪除 (\\#Linked List)\n",
    "原題目連結: https://leetcode.com/problems/delete-node-in-a-linked-list/  \n",
    "\n",
    "There is a singly-linked list head and we want to delete a node node in it.  \n",
    " You are given the node to be deleted node. You will not be given access to the first node of head.  \n",
    "All the values of the linked list are unique, and it is guaranteed that the given node node is not the last node in the linked list.  \n",
    "Delete the given node. Note that by deleting the node, we do not mean removing it from memory. We mean:  \n",
    "\n",
    "The value of the given node should not exist in the linked list.  \n",
    "The number of nodes in the linked list should decrease by one.  \n",
    "All the values before node should be in the same order.  \n",
    "All the values after node should be in the same order.   \n",
    "\n",
    "範例:  \n",
    "Ex1:  \n",
    "Input: head = [4,5,1,9], node = 5  \n",
    "Output: [4,1,9]  \n",
    "Explanation: You are given the second node with value 5, the linked list should become 4 -> 1 -> 9 after calling your function.  \n",
    "\n",
    "Ex2:  \n",
    "Input: head = [4,5,1,9], node = 1  \n",
    "Output: [4,5,9]  \n",
    "Explanation: You are given the third node with value 1, the linked list should become 4 -> 5 -> 9 after calling your function."
   ]
  },
  {
   "cell_type": "markdown",
   "metadata": {},
   "source": [
    "* 解題想法:  \n",
    "題目只要求實作delete的這個功能，因此不需要用while迴圈來從頭檢查linked list中的節點，其中一個移除節點的方式就是把數值改成下一個節點的數值，而next則修改成next.next的值，這樣就直接移除了一個linked list中的節點"
   ]
  },
  {
   "cell_type": "code",
   "execution_count": null,
   "metadata": {},
   "outputs": [],
   "source": [
    "# Definition for singly-linked list.\n",
    "# class ListNode:\n",
    "#     def __init__(self, x):\n",
    "#         self.val = x\n",
    "#         self.next = None\n",
    "\n",
    "class Solution:\n",
    "    def deleteNode(self, node):\n",
    "        \"\"\"\n",
    "        :type node: ListNode\n",
    "        :rtype: void Do not return anything, modify node in-place instead.\n",
    "        \"\"\"\n",
    "        node.val = node.next.val\n",
    "        node.next = node.next.next"
   ]
  }
 ],
 "metadata": {
  "kernelspec": {
   "display_name": "Python 3",
   "language": "python",
   "name": "python3"
  },
  "language_info": {
   "codemirror_mode": {
    "name": "ipython",
    "version": 3
   },
   "file_extension": ".py",
   "mimetype": "text/x-python",
   "name": "python",
   "nbconvert_exporter": "python",
   "pygments_lexer": "ipython3",
   "version": "3.7.4"
  }
 },
 "nbformat": 4,
 "nbformat_minor": 4
}
