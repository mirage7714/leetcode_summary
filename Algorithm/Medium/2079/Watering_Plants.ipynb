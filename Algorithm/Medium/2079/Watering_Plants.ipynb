{
 "cells": [
  {
   "cell_type": "markdown",
   "metadata": {},
   "source": [
    "# 本題要找出澆水的步數共需要多少\n",
    "原題目連結: https://leetcode.com/problems/watering-plants/  \n",
    "\n",
    "You want to water n plants in your garden with a watering can. The plants are arranged in a row and are labeled from 0 to n - 1 from left to right where the ith plant is located at x = i. There is a river at x = -1 that you can refill your watering can at.  \n",
    "\n",
    "Each plant needs a specific amount of water. You will water the plants in the following way:  \n",
    "\n",
    "Water the plants in order from left to right.  \n",
    "After watering the current plant, if you do not have enough water to completely water the next plant, return to the river to fully refill the watering can.  \n",
    "You cannot refill the watering can early.  \n",
    "You are initially at the river (i.e., x = -1). It takes one step to move one unit on the x-axis.  \n",
    "\n",
    "Given a 0-indexed integer array plants of n integers, where plants[i] is the amount of water the ith plant needs, and an integer capacity representing the watering can capacity, return the number of steps needed to water all the plants.  \n",
    "\n",
    "範例:  \n",
    "Ex1:  \n",
    "Input: plants = [2,2,3,3], capacity = 5  \n",
    "Output: 14  \n",
    "Explanation: Start at the river with a full watering can:  \n",
    "- Walk to plant 0 (1 step) and water it. Watering can has 3 units of water.  \n",
    "- Walk to plant 1 (1 step) and water it. Watering can has 1 unit of water.  \n",
    "- Since you cannot completely water plant 2, walk back to the river to refill (2 steps).  \n",
    "- Walk to plant 2 (3 steps) and water it. Watering can has 2 units of water.  \n",
    "- Since you cannot completely water plant 3, walk back to the river to refill (3 steps).  \n",
    "- Walk to plant 3 (4 steps) and water it.  \n",
    "Steps needed = 1 + 1 + 2 + 3 + 3 + 4 = 14.  \n",
    "\n",
    "Ex2:   \n",
    "Input: plants = [1,1,1,4,2,3], capacity = 4  \n",
    "Output: 30  \n",
    "Explanation: Start at the river with a full watering can:  \n",
    "- Water plants 0, 1, and 2 (3 steps). Return to river (3 steps).  \n",
    "- Water plant 3 (4 steps). Return to river (4 steps).  \n",
    "- Water plant 4 (5 steps). Return to river (5 steps).  \n",
    "- Water plant 5 (6 steps).  \n",
    "Steps needed = 3 + 3 + 4 + 4 + 5 + 5 + 6 = 30.  \n",
    "\n",
    "Ex3:  \n",
    "Input: plants = [7,7,7,7,7,7,7], capacity = 8  \n",
    "Output: 49  \n",
    "Explanation: You have to refill before watering each plant.  \n",
    "Steps needed = 1 + 1 + 2 + 2 + 3 + 3 + 4 + 4 + 5 + 5 + 6 + 6 + 7 = 49."
   ]
  },
  {
   "cell_type": "markdown",
   "metadata": {},
   "source": [
    "* 解題想法:  \n",
    "由於需要按照順序來進行澆水，因此首先建立一個變數total來計算總步數，left來計算剩下的水量為多少，接著從第二個開始計算，如果剩下的水量大於當前需要的水量，則將left減去需水量並將total加一  \n",
    "如果當需水量大於剩下水量時，則將left更新為總水量減去目前需水量，並將步數加上2 x n + 1 (來回需要的步數)，最後回傳total就是題目要找的答案"
   ]
  },
  {
   "cell_type": "code",
   "execution_count": null,
   "metadata": {},
   "outputs": [],
   "source": [
    "class Solution:\n",
    "    def wateringPlants(self, plants: List[int], capacity: int) -> int:\n",
    "        total = 1\n",
    "        left = capacity - plants[0]\n",
    "        if len(plants) > 1:\n",
    "            for n in range(1, len(plants)):\n",
    "                if left < plants[n]:\n",
    "                    left = capacity - plants[n]\n",
    "                    total += 2* n +1\n",
    "                else:\n",
    "                    left -= plants[n]\n",
    "                    total += 1\n",
    "        return total"
   ]
  }
 ],
 "metadata": {
  "kernelspec": {
   "display_name": "Python 3",
   "language": "python",
   "name": "python3"
  },
  "language_info": {
   "codemirror_mode": {
    "name": "ipython",
    "version": 3
   },
   "file_extension": ".py",
   "mimetype": "text/x-python",
   "name": "python",
   "nbconvert_exporter": "python",
   "pygments_lexer": "ipython3",
   "version": "3.7.4"
  }
 },
 "nbformat": 4,
 "nbformat_minor": 4
}
