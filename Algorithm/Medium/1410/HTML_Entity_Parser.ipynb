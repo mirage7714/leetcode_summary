{
 "cells": [
  {
   "cell_type": "markdown",
   "metadata": {},
   "source": [
    "# 本題要找出將原始提供的字串進行翻譯\n",
    "原題目連結: https://leetcode.com/problems/html-entity-parser/  \n",
    "\n",
    "HTML entity parser is the parser that takes HTML code as input and replace all the entities of the special characters by the characters itself.  \n",
    "\n",
    "The special characters and their entities for HTML are:  \n",
    "\n",
    "Quotation Mark: the entity is &quot; and symbol character is \".  \n",
    "Single Quote Mark: the entity is &apos; and symbol character is '.  \n",
    "Ampersand: the entity is &amp; and symbol character is &.  \n",
    "Greater Than Sign: the entity is &gt; and symbol character is >.  \n",
    "Less Than Sign: the entity is &lt; and symbol character is <.  \n",
    "Slash: the entity is &frasl; and symbol character is /.  \n",
    "Given the input text string to the HTML parser, you have to implement the entity parser.  \n",
    "\n",
    "Return the text after replacing the entities by the special characters.  \n",
    "\n",
    "範例:  \n",
    "Ex1:  \n",
    "Input: text = \"&amp; is an HTML entity but &ambassador; is not.\"  \n",
    "Output: \"& is an HTML entity but &ambassador; is not.\"  \n",
    "Explanation: The parser will replace the &amp; entity by &  \n",
    "\n",
    "Ex2:  \n",
    "Input: text = \"and I quote: &quot;...&quot;\"  \n",
    "Output: \"and I quote: \\\"...\\\"\"  \n",
    "\n",
    "Ex3:  \n",
    "Input: text = \"Stay home! Practice on Leetcode :)\"  \n",
    "Output: \"Stay home! Practice on Leetcode :)\"  \n",
    "\n",
    "Ex4:     \n",
    "Input: text = \"x &gt; y &amp;&amp; x &lt; y is always false\"  \n",
    "Output: \"x > y && x < y is always false\"  \n",
    "\n",
    "Ex5:  \n",
    "Input: text = \"leetcode.com&frasl;problemset&frasl;all\"  \n",
    "Output: \"leetcode.com/problemset/all\""
   ]
  },
  {
   "cell_type": "markdown",
   "metadata": {},
   "source": [
    "* 解題想法:  \n",
    "由於題目提供的字串中包含了許多的特殊符號，在html中會被判斷成另外的字元，因此會用不同的方式來表達  \n",
    "因此由題目提供的規則中建立一個dict，來將所有的情境加入，並將原本提供的字串用空白進行分割，並判斷分割後的字串內是否還有';'  \n",
    "如果有的話，則檢查是否還有特殊字元沒有被判斷到的字元，並用空白隔開，避免被重複判斷到  \n",
    "最後再將結果串起來，並用空白分隔"
   ]
  },
  {
   "cell_type": "code",
   "execution_count": null,
   "metadata": {},
   "outputs": [],
   "source": [
    "class Solution:\n",
    "    def entityParser(self, text: str) -> str:\n",
    "        chars = {'&quot;':'\"', '&apos;':\"'\", '&amp;':'&', '&gt;':'>', '&lt;':'<', '&frasl;':'/'}\n",
    "        result = []\n",
    "        line = ''\n",
    "        parts = text.split(' ')\n",
    "        for part in parts:\n",
    "            if part in chars.keys():\n",
    "                result.append(chars[part])\n",
    "            elif ';' in part:\n",
    "                for char in chars.keys():\n",
    "                    if char in part:\n",
    "                        part = part.replace(char,chars[char]+' ')\n",
    "                result.append(part.replace(' ',''))\n",
    "            else:\n",
    "                result.append(part)\n",
    "        for r in result:\n",
    "            line += r + ' '\n",
    "        return line.rstrip()"
   ]
  }
 ],
 "metadata": {
  "kernelspec": {
   "display_name": "Python 3",
   "language": "python",
   "name": "python3"
  },
  "language_info": {
   "codemirror_mode": {
    "name": "ipython",
    "version": 3
   },
   "file_extension": ".py",
   "mimetype": "text/x-python",
   "name": "python",
   "nbconvert_exporter": "python",
   "pygments_lexer": "ipython3",
   "version": "3.7.4"
  }
 },
 "nbformat": 4,
 "nbformat_minor": 2
}
