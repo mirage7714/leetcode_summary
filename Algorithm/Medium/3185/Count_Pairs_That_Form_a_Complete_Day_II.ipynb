{
 "cells": [
  {
   "cell_type": "markdown",
   "id": "e32c0455-f298-4a9d-a3cf-8fc953701764",
   "metadata": {},
   "source": [
    "# 本題要找出有幾組可以湊成完整一天的組合 (\\#Array, \\#HashMap )\n",
    "原題目連結: https://leetcode.com/problems/count-pairs-that-form-a-complete-day-ii/description/  \n",
    "\n",
    "Given an integer array hours representing times in hours, return an integer denoting the number of pairs i, j where i < j and hours[i] + hours[j] forms a complete day.  \n",
    "A complete day is defined as a time duration that is an exact multiple of 24 hours.  \n",
    "For example, 1 day is 24 hours, 2 days is 48 hours, 3 days is 72 hours, and so on.  \n",
    "\n",
    "範例:  \n",
    "Ex1:  \n",
    "Input: hours = [12,12,30,24,24]  \n",
    "Output: 2  \n",
    "Explanation: The pairs of indices that form a complete day are (0, 1) and (3, 4).  \n",
    "\n",
    "Ex2:  \n",
    "Input: hours = [72,48,24,3]  \n",
    "Output: 3  \n",
    "Explanation: The pairs of indices that form a complete day are (0, 1), (0, 2), and (1, 2)."
   ]
  },
  {
   "cell_type": "markdown",
   "id": "0271b105-9242-4227-9fe6-7e9dbd7da328",
   "metadata": {},
   "source": [
    "* 解題想法:  \n",
    "首先用一個dict來存放目前的時間除24的餘數，接著將所有時間都放入dict中，接著分別找出可能的組合:  \n",
    "- 0與12都是在同一組內，所以可能的組合有n x (n-1) / 2種  \n",
    "- 其他組合則需要檢查對應的補數是否有在dict中，如果有才需要進行計算  \n",
    "計算之後需要將用過的數值放入set中，以避免重複計算，最後將加總結果回傳就是答案"
   ]
  },
  {
   "cell_type": "code",
   "execution_count": null,
   "id": "309da3fa-15e6-433f-bc10-bf8a110afa9c",
   "metadata": {},
   "outputs": [],
   "source": [
    "class Solution:\n",
    "    def countCompleteDayPairs(self, hours: List[int]) -> int:\n",
    "        count = {}\n",
    "        res = 0\n",
    "        for h in hours:\n",
    "            h = h % 24\n",
    "            if h not in count.keys():\n",
    "                count[h] = 0\n",
    "            count[h] += 1\n",
    "        used = set()\n",
    "        for key, val in count.items():\n",
    "            if key not in used: \n",
    "                if key == 0 or key == 12:\n",
    "                    res += (val * (val-1)) // 2\n",
    "                else:\n",
    "                    if 24 - key in count.keys() and 24 - key not in used:\n",
    "                        res += val * count[24 - key] \n",
    "            used.add(key)\n",
    "            used.add(24-key)\n",
    "        return res "
   ]
  }
 ],
 "metadata": {
  "kernelspec": {
   "display_name": "Python 3 (ipykernel)",
   "language": "python",
   "name": "python3"
  },
  "language_info": {
   "codemirror_mode": {
    "name": "ipython",
    "version": 3
   },
   "file_extension": ".py",
   "mimetype": "text/x-python",
   "name": "python",
   "nbconvert_exporter": "python",
   "pygments_lexer": "ipython3",
   "version": "3.9.13"
  }
 },
 "nbformat": 4,
 "nbformat_minor": 5
}
