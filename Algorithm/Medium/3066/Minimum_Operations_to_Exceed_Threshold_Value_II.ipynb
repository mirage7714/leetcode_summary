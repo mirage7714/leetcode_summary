{
 "cells": [
  {
   "cell_type": "markdown",
   "id": "6c557983-99ca-4bfb-a8ea-ae126dbca1ac",
   "metadata": {},
   "source": [
    "# 本題要找出要執行幾次才會滿足最小值大於或等於k (\\#Array, \\#Heap )\n",
    "原題目連結: https://leetcode.com/problems/minimum-operations-to-exceed-threshold-value-ii/description/  \n",
    "\n",
    "You are given a 0-indexed integer array nums, and an integer k.  \n",
    "In one operation, you will:  \n",
    "Take the two smallest integers x and y in nums.  \n",
    "Remove x and y from nums.  \n",
    "Add min(x, y) * 2 + max(x, y) anywhere in the array.  \n",
    "Note that you can only apply the described operation if nums contains at least two elements.  \n",
    "\n",
    "Return the minimum number of operations needed so that all elements of the array are greater than or equal to k.  \n",
    "\n",
    "範例:  \n",
    "Ex1:  \n",
    "Input: nums = [2,11,10,1,3], k = 10  \n",
    "Output: 2  \n",
    "Explanation: In the first operation, we remove elements 1 and 2, then add 1 * 2 + 2 to nums. nums becomes equal to [4, 11, 10, 3].  \n",
    "In the second operation, we remove elements 3 and 4, then add 3 * 2 + 4 to nums. nums becomes equal to [10, 11, 10].  \n",
    "At this stage, all the elements of nums are greater than or equal to 10 so we can stop.  \n",
    "It can be shown that 2 is the minimum number of operations needed so that all elements of the array are greater than or equal to 10.  \n",
    "\n",
    "Ex2:  \n",
    "Input: nums = [1,1,2,4,9], k = 20  \n",
    "Output: 4  \n",
    "Explanation: After one operation, nums becomes equal to [2, 4, 9, 3].  \n",
    "After two operations, nums becomes equal to [7, 4, 9].  \n",
    "After three operations, nums becomes equal to [15, 9].  \n",
    "After four operations, nums becomes equal to [33].  \n",
    "At this stage, all the elements of nums are greater than 20 so we can stop.  \n",
    "It can be shown that 4 is the minimum number of operations needed so that all elements of the array are greater than or equal to 20."
   ]
  },
  {
   "cell_type": "markdown",
   "id": "4328303d-6629-4311-a0f0-9268ec4cc861",
   "metadata": {},
   "source": [
    "* 解題想法:  \n",
    "與3065相似，一樣是先將nums轉換成heap，接著用迴圈開始取值，先檢查第一個值是否大於或等於k，如果大於k則中斷迴圈，否則取出第二個值並依題目的算法將該數值加入heap中，最後回傳回傳迴圈執行的次數就是答案"
   ]
  },
  {
   "cell_type": "code",
   "execution_count": null,
   "id": "d7785cf4-f4ad-41a5-a234-bf06ef807b2e",
   "metadata": {},
   "outputs": [],
   "source": [
    "import heapq\n",
    "\n",
    "class Solution:\n",
    "    def minOperations(self, nums: List[int], k: int) -> int:\n",
    "        res = 0\n",
    "        heapq.heapify(nums)\n",
    "        while nums:\n",
    "            n1 = heapq.heappop(nums)\n",
    "            if n1 >= k:\n",
    "                break\n",
    "            n2 = heapq.heappop(nums)\n",
    "            res += 1\n",
    "            heapq.heappush(nums, min(n1, n2) * 2 + max(n1, n2))\n",
    "        return res"
   ]
  }
 ],
 "metadata": {
  "kernelspec": {
   "display_name": "Python 3 (ipykernel)",
   "language": "python",
   "name": "python3"
  },
  "language_info": {
   "codemirror_mode": {
    "name": "ipython",
    "version": 3
   },
   "file_extension": ".py",
   "mimetype": "text/x-python",
   "name": "python",
   "nbconvert_exporter": "python",
   "pygments_lexer": "ipython3",
   "version": "3.9.13"
  }
 },
 "nbformat": 4,
 "nbformat_minor": 5
}
