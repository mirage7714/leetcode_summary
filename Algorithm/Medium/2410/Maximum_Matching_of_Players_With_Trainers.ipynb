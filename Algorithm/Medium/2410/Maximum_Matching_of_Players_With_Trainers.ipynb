{
 "cells": [
  {
   "cell_type": "markdown",
   "metadata": {},
   "source": [
    "# 本題要找出最多有幾組運動員與訓練員的組合 (\\#Array, \\#Queue, \\#Greedy )\n",
    "原題目連結: https://leetcode.com/problems/maximum-matching-of-players-with-trainers/  \n",
    "\n",
    "You are given a 0-indexed integer array players, where players[i] represents the ability of the ith player. You are also given a 0-indexed integer array trainers, where trainers[j] represents the training capacity of the jth trainer.  \n",
    "\n",
    "The ith player can match with the jth trainer if the player's ability is less than or equal to the trainer's training capacity. Additionally, the ith player can be matched with at most one trainer, and the jth trainer can be matched with at most one player.  \n",
    "\n",
    "Return the maximum number of matchings between players and trainers that satisfy these conditions.  \n",
    "\n",
    "範例:  \n",
    "Ex1:  \n",
    "Input: players = [4,7,9], trainers = [8,2,5,8]  \n",
    "Output: 2  \n",
    "Explanation:  \n",
    "One of the ways we can form two matchings is as follows:  \n",
    "- players[0] can be matched with trainers[0] since 4 <= 8.  \n",
    "- players[1] can be matched with trainers[3] since 7 <= 8.  \n",
    "It can be proven that 2 is the maximum number of matchings that can be formed.  \n",
    "\n",
    "Ex2:  \n",
    "Input: players = [1,1,1], trainers = [10]  \n",
    "Output: 1  \n",
    "Explanation:  \n",
    "The trainer can be matched with any of the 3 players.  \n",
    "Each player can only be matched with one trainer, so the maximum answer is 1."
   ]
  },
  {
   "cell_type": "markdown",
   "metadata": {},
   "source": [
    "* 解題想法:  \n",
    "首先將運動員與訓練員兩個list都轉換成heapq，接著從運動員開始取出，並且在找到第一個訓練員的數值大於運動員才停止，並將count加一，如果訓練員或是運動員的queue空了則中斷迴圈，最後回傳count值"
   ]
  },
  {
   "cell_type": "code",
   "execution_count": null,
   "metadata": {},
   "outputs": [],
   "source": [
    "import heapq\n",
    "class Solution:\n",
    "    def matchPlayersAndTrainers(self, players: List[int], trainers: List[int]) -> int:\n",
    "        count = 0\n",
    "        heapq.heapify(players)\n",
    "        heapq.heapify(trainers)\n",
    "        while players and trainers:\n",
    "            p = heapq.heappop(players)\n",
    "            t = heapq.heappop(trainers)\n",
    "            while t < p and trainers:\n",
    "                t = heapq.heappop(trainers)\n",
    "            if t >= p: \n",
    "                count += 1\n",
    "        return count"
   ]
  }
 ],
 "metadata": {
  "kernelspec": {
   "display_name": "Python 3",
   "language": "python",
   "name": "python3"
  },
  "language_info": {
   "codemirror_mode": {
    "name": "ipython",
    "version": 3
   },
   "file_extension": ".py",
   "mimetype": "text/x-python",
   "name": "python",
   "nbconvert_exporter": "python",
   "pygments_lexer": "ipython3",
   "version": "3.7.6"
  }
 },
 "nbformat": 4,
 "nbformat_minor": 4
}
