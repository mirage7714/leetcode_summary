{
 "cells": [
  {
   "cell_type": "markdown",
   "id": "cd88a0f6-853e-4959-b10d-6f8f0c58c5cf",
   "metadata": {},
   "source": [
    "# 本題要計算總共碰撞次數有多少 (\\#String)\n",
    "原題目連結: https://leetcode.com/problems/count-collisions-on-a-road/description/  \n",
    "\n",
    "There are n cars on an infinitely long road. The cars are numbered from 0 to n - 1 from left to right and each car is present at a unique point.   \n",
    "\n",
    "You are given a 0-indexed string directions of length n. directions[i] can be either 'L', 'R', or 'S' denoting whether the ith car is moving towards the left, towards the right, or staying at its current point respectively. Each moving car has the same speed.  \n",
    "\n",
    "The number of collisions can be calculated as follows:  \n",
    "When two cars moving in opposite directions collide with each other, the number of collisions increases by 2.  \n",
    "When a moving car collides with a stationary car, the number of collisions increases by 1.  \n",
    "After a collision, the cars involved can no longer move and will stay at the point where they collided. Other than that, cars cannot change their state or direction of motion.  \n",
    "\n",
    "Return the total number of collisions that will happen on the road.  \n",
    "\n",
    "範例:  \n",
    "Ex1:  \n",
    "Input: directions = \"RLRSLL\"  \n",
    "Output: 5  \n",
    "Explanation:  \n",
    "The collisions that will happen on the road are:  \n",
    "- Cars 0 and 1 will collide with each other. Since they are moving in opposite directions, the number of collisions becomes 0 + 2 = 2.  \n",
    "- Cars 2 and 3 will collide with each other. Since car 3 is stationary, the number of collisions becomes 2 + 1 = 3.  \n",
    "- Cars 3 and 4 will collide with each other. Since car 3 is stationary, the number of collisions becomes 3 + 1 = 4.  \n",
    "- Cars 4 and 5 will collide with each other. After car 4 collides with car 3, it will stay at the point of collision and get hit by car 5. The number of collisions becomes 4 + 1 = 5.  \n",
    "Thus, the total number of collisions that will happen on the road is 5.   \n",
    "\n",
    "Ex2:  \n",
    "Input: directions = \"LLRR\"  \n",
    "Output: 0  \n",
    "Explanation:  \n",
    "No cars will collide with each other. Thus, the total number of collisions that will happen on the road is 0."
   ]
  },
  {
   "cell_type": "markdown",
   "id": "349b65fe-a8d4-4d5d-bb9b-4edff7f5c0b0",
   "metadata": {},
   "source": [
    "* 解題想法:  \n",
    "首先用第一個方向作為起始，另外用一個變數來儲存目前有多少個相同方向的值，接著開始檢查下一個方向，如果下一個方向是相同時則更新計數的值，如果方向不相同時，首先檢查暫存的方向與目前的方向是否有相撞的可能，如果有的話則更新總次數，並更新目前的暫存數值與方向，如果沒有相撞的話則更新暫存的方向與計數，但不更新總次數，最後回傳總次數作為答案"
   ]
  },
  {
   "cell_type": "code",
   "execution_count": null,
   "id": "4b7ddd40-f819-4d1e-b70c-3ee1ba3a32a8",
   "metadata": {},
   "outputs": [],
   "source": [
    "class Solution:\n",
    "    def countCollisions(self, directions: str) -> int:\n",
    "        p = directions[0]\n",
    "        count = 1\n",
    "        res = 0\n",
    "        for m in range(1, len(directions)):\n",
    "            d = directions[m]\n",
    "            if d == p:\n",
    "                count += 1\n",
    "            elif d == 'R' and p == 'L':\n",
    "                p = d\n",
    "                count = 1\n",
    "            elif p == 'S' and d == 'R':\n",
    "                p = d\n",
    "                count = 1\n",
    "            else:\n",
    "                if p == 'R':\n",
    "                    if d == 'S':\n",
    "                        res += count\n",
    "                    else:\n",
    "                        res += count + 1\n",
    "                elif p == 'S' and d == 'L':\n",
    "                    res += 1\n",
    "                p = 'S'\n",
    "                count = 1\n",
    "        return res    "
   ]
  }
 ],
 "metadata": {
  "kernelspec": {
   "display_name": "Python 3 (ipykernel)",
   "language": "python",
   "name": "python3"
  },
  "language_info": {
   "codemirror_mode": {
    "name": "ipython",
    "version": 3
   },
   "file_extension": ".py",
   "mimetype": "text/x-python",
   "name": "python",
   "nbconvert_exporter": "python",
   "pygments_lexer": "ipython3",
   "version": "3.9.13"
  }
 },
 "nbformat": 4,
 "nbformat_minor": 5
}
