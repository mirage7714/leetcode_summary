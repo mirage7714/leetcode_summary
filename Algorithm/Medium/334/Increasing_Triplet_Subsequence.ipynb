{
 "cells": [
  {
   "cell_type": "markdown",
   "metadata": {},
   "source": [
    "# 本題要檢查是否有遞增的triple存在於list中\n",
    "原題目連結: https://leetcode.com/problems/increasing-triplet-subsequence/  \n",
    "\n",
    "Given an integer array nums, return true if there exists a triple of indices (i, j, k) such that i < j < k and nums[i] < nums[j] < nums[k]. If no such indices exists, return false.  \n",
    "\n",
    "範例:  \n",
    "Ex1:  \n",
    "Input: nums = [1,2,3,4,5]  \n",
    "Output: true  \n",
    "Explanation: Any triplet where i < j < k is valid.  \n",
    "\n",
    "Ex2:  \n",
    "Input: nums = [5,4,3,2,1]  \n",
    "Output: false  \n",
    "Explanation: No triplet exists.  \n",
    "\n",
    "Ex3:  \n",
    "Input: nums = [2,1,5,0,4,6]  \n",
    "Output: true  \n",
    "Explanation: The triplet (3, 4, 5) is valid because nums[3] == 0 < nums[4] == 4 < nums[5] == 6."
   ]
  },
  {
   "cell_type": "markdown",
   "metadata": {},
   "source": [
    "* 解題想法:  \n",
    "首先用三個變數i，j，k用來存放大中小三個變數，其中i=nums[0]，j，k則分別為無限大，接著開始用迴圈檢查nums中的元素:  \n",
    "- 當nums[n]小於i時，則將i進行更新  \n",
    "- 如果nums[n]>i且nums[n]<j時，則將j更新為nums[n]  \n",
    "- 如果nums[n]>j且nums[n]<k時，則將k更新為nums[n]  \n",
    "當j與k都不為inf時，則回傳True，否則最後回傳False"
   ]
  },
  {
   "cell_type": "code",
   "execution_count": null,
   "metadata": {},
   "outputs": [],
   "source": [
    "class Solution:\n",
    "    def increasingTriplet(self, nums: List[int]) -> bool:\n",
    "        if len(nums) > 2:\n",
    "            i, j, k = nums[0], inf, inf\n",
    "            for m in range(1, len(nums)):\n",
    "                if nums[m] < i:\n",
    "                    i = nums[m]\n",
    "                elif nums[m] > i and nums[m] < j:\n",
    "                    j = nums[m]\n",
    "                elif nums[m] > j and nums[m] < k:\n",
    "                    k = nums[m]\n",
    "                if j != inf and k != inf:\n",
    "                    return True\n",
    "            return False\n",
    "        else:\n",
    "            return False"
   ]
  }
 ],
 "metadata": {
  "kernelspec": {
   "display_name": "Python 3",
   "language": "python",
   "name": "python3"
  },
  "language_info": {
   "codemirror_mode": {
    "name": "ipython",
    "version": 3
   },
   "file_extension": ".py",
   "mimetype": "text/x-python",
   "name": "python",
   "nbconvert_exporter": "python",
   "pygments_lexer": "ipython3",
   "version": "3.7.4"
  }
 },
 "nbformat": 4,
 "nbformat_minor": 4
}
