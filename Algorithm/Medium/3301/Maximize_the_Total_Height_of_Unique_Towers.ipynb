{
 "cells": [
  {
   "cell_type": "markdown",
   "id": "bd9f57a3-2165-4117-b27a-971ca6a78c26",
   "metadata": {},
   "source": [
    "# 本題要算出最大總和的可能為多少 (\\#Array, \\#Heap )\n",
    "原題目連結: https://leetcode.com/problems/maximize-the-total-height-of-unique-towers/description/  \n",
    "\n",
    "You are given an array maximumHeight, where maximumHeight[i] denotes the maximum height the ith tower can be assigned.  \n",
    "Your task is to assign a height to each tower so that:  \n",
    "The height of the ith tower is a positive integer and does not exceed maximumHeight[i].  \n",
    "No two towers have the same height.  \n",
    "Return the maximum possible total sum of the tower heights. If it's not possible to assign heights, return -1.  \n",
    "\n",
    "範例:  \n",
    "Ex1:  \n",
    "Input: maximumHeight = [2,3,4,3]  \n",
    "Output: 10  \n",
    "Explanation:  \n",
    "We can assign heights in the following way: [1, 2, 4, 3].  \n",
    "\n",
    "Ex2:  \n",
    "Input: maximumHeight = [15,10]  \n",
    "Output: 25  \n",
    "Explanation:  \n",
    "We can assign heights in the following way: [15, 10].  \n",
    "\n",
    "Ex3:  \n",
    "Input: maximumHeight = [2,2,1]  \n",
    "Output: -1  \n",
    "Explanation:  \n",
    "It's impossible to assign positive heights to each index so that no two towers have the same height."
   ]
  },
  {
   "cell_type": "markdown",
   "id": "6b3a04a5-3ea3-4274-a22d-afee229e3049",
   "metadata": {},
   "source": [
    "* 解題想法:  \n",
    "首先將最大值轉成一個heap，接著從heap中開始取值，如果取出的值大於或等於前一個值時則為前一個值減一，如果當減一之後小於1則回傳-1，否則就是將最大值加到結果中並更新前一個數值，最後回傳總和就是答案"
   ]
  },
  {
   "cell_type": "code",
   "execution_count": null,
   "id": "18a3cb88-3413-437a-842f-0a2da2e16819",
   "metadata": {},
   "outputs": [],
   "source": [
    "import heapq\n",
    "\n",
    "class Solution:\n",
    "    def maximumTotalSum(self, maximumHeight: List[int]) -> int:\n",
    "        res = 0\n",
    "        temp = [-m for m in maximumHeight]\n",
    "        heapq.heapify(temp)\n",
    "        prev = -heapq.heappop(temp)\n",
    "        res += prev\n",
    "        while temp:\n",
    "            h = -heapq.heappop(temp)\n",
    "            if h >= prev:\n",
    "                h = prev -1\n",
    "                if h <= 0:\n",
    "                    return -1\n",
    "            res += h\n",
    "            prev = h\n",
    "        return res"
   ]
  }
 ],
 "metadata": {
  "kernelspec": {
   "display_name": "Python 3 (ipykernel)",
   "language": "python",
   "name": "python3"
  },
  "language_info": {
   "codemirror_mode": {
    "name": "ipython",
    "version": 3
   },
   "file_extension": ".py",
   "mimetype": "text/x-python",
   "name": "python",
   "nbconvert_exporter": "python",
   "pygments_lexer": "ipython3",
   "version": "3.9.13"
  }
 },
 "nbformat": 4,
 "nbformat_minor": 5
}
