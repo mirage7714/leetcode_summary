{
 "cells": [
  {
   "cell_type": "markdown",
   "metadata": {},
   "source": [
    "# 本題要找出最長沒有重複字母的字串長度\n",
    "原題目連結: https://leetcode.com/problems/longest-substring-without-repeating-characters/  \n",
    "\n",
    "Given a string s, find the length of the longest substring without repeating characters.  \n",
    "\n",
    "範例:  \n",
    "Ex1:  \n",
    "Input: s = \"abcabcbb\"  \n",
    "Output: 3  \n",
    "Explanation: The answer is \"abc\", with the length of 3.  \n",
    "\n",
    "Ex2:  \n",
    "Input: s = \"bbbbb\"  \n",
    "Output: 1  \n",
    "Explanation: The answer is \"b\", with the length of 1.  \n",
    "\n",
    "Ex3:  \n",
    "Input: s = \"pwwkew\"  \n",
    "Output: 3  \n",
    "Explanation: The answer is \"wke\", with the length of 3.  \n",
    "Notice that the answer must be a substring, \"pwke\" is a subsequence and not a substring."
   ]
  },
  {
   "cell_type": "markdown",
   "metadata": {},
   "source": [
    "* 解題想法:  \n",
    "首先用一個變數result來放最後的結果，另外用一個temp來存放目前的字串長度，然後在用一個list來存放目前出現在字串中的字母，接著開始檢查字串中出現的字，如果沒有出現過則直接放入list中，如果有出現過則檢查是否出現的位置為何，如果是最後一個字重複，則直接將list清空，否則就是以前一個出現的位置開始切分，最後檢查字串長度是否有超過之前出現過的最大值，如果有超過則更新result的結果"
   ]
  },
  {
   "cell_type": "code",
   "execution_count": null,
   "metadata": {},
   "outputs": [],
   "source": [
    "class Solution:\n",
    "    def lengthOfLongestSubstring(self, s: str) -> int:\n",
    "        result = 0\n",
    "        temp = 0\n",
    "        temp_chars = []\n",
    "        if len(s) == 1:\n",
    "            result = 1\n",
    "        elif len(s) > 1:\n",
    "            for m in range(len(s)):\n",
    "                c = s[m]\n",
    "                if c not in temp_chars:\n",
    "                        temp += 1\n",
    "                        temp_chars.append(c)\n",
    "                else:\n",
    "                    if temp > result:\n",
    "                        result = temp\n",
    "                    if temp_chars[-1] == c:\n",
    "                        temp_chars.clear()\n",
    "                        temp = 1\n",
    "                    else:\n",
    "                        i = temp_chars.index(c)\n",
    "                        temp_chars = temp_chars[i+1:]\n",
    "                        temp = len(temp_chars) + 1\n",
    "                    temp_chars.append(c)\n",
    "        if temp > result:\n",
    "            result = temp\n",
    "        return result"
   ]
  }
 ],
 "metadata": {
  "kernelspec": {
   "display_name": "Python 3",
   "language": "python",
   "name": "python3"
  },
  "language_info": {
   "codemirror_mode": {
    "name": "ipython",
    "version": 3
   },
   "file_extension": ".py",
   "mimetype": "text/x-python",
   "name": "python",
   "nbconvert_exporter": "python",
   "pygments_lexer": "ipython3",
   "version": "3.7.4"
  }
 },
 "nbformat": 4,
 "nbformat_minor": 4
}
