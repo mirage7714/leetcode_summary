{
 "cells": [
  {
   "cell_type": "markdown",
   "metadata": {},
   "source": [
    "# 本題要將折扣套用到字串中符合格式的數字\n",
    "原題目連結: https://leetcode.com/problems/apply-discount-to-prices/  \n",
    "\n",
    "A sentence is a string of single-space separated words where each word can contain digits, lowercase letters, and the dollar sign '\\$'. A word represents a price if it is a non-negative real number preceded by a dollar sign.  "
   ]
  },
  {
   "cell_type": "markdown",
   "metadata": {},
   "source": [
    "* 解題想法:  \n",
    "首先將字串分解成一個list，接著檢查每個字的開頭是否為\\$，如果是的話則檢查後面是否為數字，如果符合數字的條件的話，則接著檢查discount的值是否為100，如果為100則直接將數字代換為0，否則須計算折扣後的數字為多少並將數字更新後修改並重新組合成句子，最後回傳修改後的句子"
   ]
  },
  {
   "cell_type": "code",
   "execution_count": null,
   "metadata": {},
   "outputs": [],
   "source": [
    "class Solution:\n",
    "    def discountPrices(self, sentence: str, discount: int) -> str:\n",
    "        words = sentence.split(' ')\n",
    "        result = ''\n",
    "        for word in words:\n",
    "            if word[0] == '$':\n",
    "                p = word[1:]\n",
    "                if p.isnumeric():\n",
    "                    d = 0.00\n",
    "                    if discount != 100:\n",
    "                        d = int(p) * (100 - discount) / 100\n",
    "                    word = '${:.2f}'.format(d)\n",
    "            result += word + ' '\n",
    "        return result[:-1]"
   ]
  }
 ],
 "metadata": {
  "kernelspec": {
   "display_name": "Python 3",
   "language": "python",
   "name": "python3"
  },
  "language_info": {
   "codemirror_mode": {
    "name": "ipython",
    "version": 3
   },
   "file_extension": ".py",
   "mimetype": "text/x-python",
   "name": "python",
   "nbconvert_exporter": "python",
   "pygments_lexer": "ipython3",
   "version": "3.7.4"
  }
 },
 "nbformat": 4,
 "nbformat_minor": 4
}
