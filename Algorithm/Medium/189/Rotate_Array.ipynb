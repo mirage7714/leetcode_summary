{
 "cells": [
  {
   "cell_type": "markdown",
   "metadata": {},
   "source": [
    "# 本題要找出在位移過後的array為何\n",
    "原題目連結: https://leetcode.com/problems/rotate-array/  \n",
    "\n",
    "Given an array, rotate the array to the right by k steps, where k is non-negative.  \n",
    "\n",
    "Follow up:  \n",
    "\n",
    "Try to come up as many solutions as you can, there are at least 3 different ways to solve this problem.  \n",
    "Could you do it in-place with O(1) extra space?  \n",
    "\n",
    "範例:  \n",
    "Ex1:  \n",
    "Input: nums = [1,2,3,4,5,6,7], k = 3  \n",
    "Output: [5,6,7,1,2,3,4]  \n",
    "Explanation:  \n",
    "rotate 1 steps to the right: [7,1,2,3,4,5,6]  \n",
    "rotate 2 steps to the right: [6,7,1,2,3,4,5]  \n",
    "rotate 3 steps to the right: [5,6,7,1,2,3,4]  \n",
    "\n",
    "Ex2:  \n",
    "Input: nums = [-1,-100,3,99], k = 2  \n",
    "Output: [3,99,-1,-100]  \n",
    "Explanation:   \n",
    "rotate 1 steps to the right: [99,-1,-100,3]  \n",
    "rotate 2 steps to the right: [3,99,-1,-100]  "
   ]
  },
  {
   "cell_type": "markdown",
   "metadata": {},
   "source": [
    "* 解題想法:  \n",
    "由於題目要求直接對原本提供的list進行操作，因此使用一個迴圈，然後直接對原本的list先insert再進行pop  \n",
    "最後就可以得到題目要求的答案"
   ]
  },
  {
   "cell_type": "code",
   "execution_count": null,
   "metadata": {},
   "outputs": [],
   "source": [
    "class Solution:\n",
    "    def rotate(self, nums: List[int], k: int) -> None:\n",
    "        \"\"\"\n",
    "        Do not return anything, modify nums in-place instead.\n",
    "        \"\"\"\n",
    "        for n in range(k):\n",
    "            nums.insert(0, nums[-1])\n",
    "            nums.pop(-1)"
   ]
  }
 ],
 "metadata": {
  "kernelspec": {
   "display_name": "Python 3",
   "language": "python",
   "name": "python3"
  },
  "language_info": {
   "codemirror_mode": {
    "name": "ipython",
    "version": 3
   },
   "file_extension": ".py",
   "mimetype": "text/x-python",
   "name": "python",
   "nbconvert_exporter": "python",
   "pygments_lexer": "ipython3",
   "version": "3.7.6"
  }
 },
 "nbformat": 4,
 "nbformat_minor": 4
}
