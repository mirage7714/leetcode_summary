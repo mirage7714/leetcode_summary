{
 "cells": [
  {
   "cell_type": "markdown",
   "id": "b921cef5-846b-4558-9d44-77fdbb16d23c",
   "metadata": {},
   "source": [
    "# 本題要找出最長的不相同index字串為何 (\\#Array )\n",
    "原題目連結：https://leetcode.com/problems/longest-unequal-adjacent-groups-subsequence-i/description/  \n",
    "\n",
    "You are given an integer n, a 0-indexed string array words, and a 0-indexed binary array groups, both arrays having length n.  \n",
    "You need to select the longest subsequence from an array of indices [0, 1, ..., n - 1], such that for the subsequence denoted as [i0, i1, ..., ik - 1] having length k, groups[ij] != groups[ij + 1], for each j where 0 < j + 1 < k.  \n",
    "\n",
    "Return a string array containing the words corresponding to the indices (in order) in the selected subsequence. If there are multiple answers, return any of them.  \n",
    "\n",
    "A subsequence of an array is a new array that is formed from the original array by deleting some (possibly none) of the elements without disturbing the relative positions of the remaining elements.  \n",
    "\n",
    "Note: strings in words may be unequal in length.  \n",
    "\n",
    "範例:  \n",
    "Ex1:  \n",
    "Input: n = 3, words = [\"e\",\"a\",\"b\"], groups = [0,0,1]  \n",
    "Output: [\"e\",\"b\"]  \n",
    "Explanation: A subsequence that can be selected is [0,2] because groups[0] != groups[2].  \n",
    "So, a valid answer is [words[0],words[2]] = [\"e\",\"b\"].  \n",
    "Another subsequence that can be selected is [1,2] because groups[1] != groups[2].  \n",
    "This results in [words[1],words[2]] = [\"a\",\"b\"].  \n",
    "It is also a valid answer.  \n",
    "It can be shown that the length of the longest subsequence of indices that satisfies the condition is 2.  \n",
    "\n",
    "Ex2:  \n",
    "Input: n = 4, words = [\"a\",\"b\",\"c\",\"d\"], groups = [1,0,1,1]  \n",
    "Output: [\"a\",\"b\",\"c\"]  \n",
    "Explanation: A subsequence that can be selected is [0,1,2] because groups[0] != groups[1] and groups[1] != groups[2].  \n",
    "So, a valid answer is [words[0],words[1],words[2]] = [\"a\",\"b\",\"c\"].  \n",
    "Another subsequence that can be selected is [0,1,3] because groups[0] != groups[1] and groups[1] != groups[3].  \n",
    "This results in [words[0],words[1],words[3]] = [\"a\",\"b\",\"d\"].  \n",
    "It is also a valid answer.  \n",
    "It can be shown that the length of the longest subsequence of indices that satisfies the condition is 3."
   ]
  },
  {
   "cell_type": "markdown",
   "id": "12773f66-703c-412e-b50b-736cfd8b949c",
   "metadata": {},
   "source": [
    "* 解題想法:  \n",
    "首先用一個list來存放字串的部分，另外用一個list來存放index，當index為空則直接放入index並將對應的word放入結果中，如果出現的index與最後一個index不相同則加入Index並放入word，最後回傳word就是答案"
   ]
  },
  {
   "cell_type": "code",
   "execution_count": null,
   "id": "b67df631-5b9d-4286-a44a-6cfd6e47d0d5",
   "metadata": {},
   "outputs": [],
   "source": [
    "class Solution:\n",
    "    def getWordsInLongestSubsequence(self, n: int, words: List[str], groups: List[int]) -> List[str]:\n",
    "        index = []\n",
    "        res = []\n",
    "        for i in range(len(groups)):\n",
    "            if not index:\n",
    "                index.append(groups[i])\n",
    "                res.append(words[0])\n",
    "            elif index[-1] != groups[i]:\n",
    "                index.append(groups[i])\n",
    "                res.append(words[i])\n",
    "        return res"
   ]
  }
 ],
 "metadata": {
  "kernelspec": {
   "display_name": "Python 3 (ipykernel)",
   "language": "python",
   "name": "python3"
  },
  "language_info": {
   "codemirror_mode": {
    "name": "ipython",
    "version": 3
   },
   "file_extension": ".py",
   "mimetype": "text/x-python",
   "name": "python",
   "nbconvert_exporter": "python",
   "pygments_lexer": "ipython3",
   "version": "3.10.9"
  }
 },
 "nbformat": 4,
 "nbformat_minor": 5
}
