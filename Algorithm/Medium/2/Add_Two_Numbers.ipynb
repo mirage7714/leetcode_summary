{
 "cells": [
  {
   "cell_type": "markdown",
   "metadata": {},
   "source": [
    "# 本題要找出兩數相加後的linkedlist\n",
    "原題目連結: https://leetcode.com/problems/add-two-numbers/  \n",
    "\n",
    "You are given two non-empty linked lists representing two non-negative integers. The digits are stored in reverse order, and each of their nodes contains a single digit. Add the two numbers and return the sum as a linked list.  \n",
    "\n",
    "You may assume the two numbers do not contain any leading zero, except the number 0 itself.  \n",
    "\n",
    "範例:  \n",
    "Ex1:  \n",
    "Input: l1 = [2,4,3], l2 = [5,6,4]  \n",
    "Output: [7,0,8]  \n",
    "Explanation: 342 + 465 = 807.  \n",
    "\n",
    "Ex2:  \n",
    "Input: l1 = [0], l2 = [0]  \n",
    "Output: [0]  \n",
    "\n",
    "Ex3:  \n",
    "Input: l1 = [9,9,9,9,9,9,9], l2 = [9,9,9,9]  \n",
    "Output: [8,9,9,9,0,0,0,1]"
   ]
  },
  {
   "cell_type": "markdown",
   "metadata": {},
   "source": [
    "* 解題想法:  \n",
    "首先將linkedlist內的值轉換為十進位的數字，接著將兩數相加後取得總和，再重新建立一個新的linkedlist將數值放入"
   ]
  },
  {
   "cell_type": "code",
   "execution_count": null,
   "metadata": {},
   "outputs": [],
   "source": [
    "# Definition for singly-linked list.\n",
    "# class ListNode:\n",
    "#     def __init__(self, val=0, next=None):\n",
    "#         self.val = val\n",
    "#         self.next = next\n",
    "class Solution:\n",
    "    def addTwoNumbers(self, l1: ListNode, l2: ListNode) -> ListNode:\n",
    "        def getNums(nodes):\n",
    "            result = 0\n",
    "            start = 0\n",
    "            while nodes:\n",
    "                result += 10**start * nodes.val\n",
    "                nodes = nodes.next\n",
    "                start += 1\n",
    "            return result\n",
    "        \n",
    "        val1 = 0\n",
    "        val2 = 0\n",
    "        val = 0\n",
    "        nodes = []\n",
    "        if l1 != None:\n",
    "            val1 = getNums(l1)\n",
    "        if l2 != None:\n",
    "            val2 = getNums(l2)\n",
    "        val = val1 + val2\n",
    "        for m in range(len(str(val))):\n",
    "            node = ListNode()\n",
    "            node.val = int(str(val)[m])\n",
    "            if len(nodes) != 0:\n",
    "                node.next = nodes[-1]\n",
    "            nodes.append(node)\n",
    "        return nodes[-1]"
   ]
  }
 ],
 "metadata": {
  "kernelspec": {
   "display_name": "Python 3",
   "language": "python",
   "name": "python3"
  },
  "language_info": {
   "codemirror_mode": {
    "name": "ipython",
    "version": 3
   },
   "file_extension": ".py",
   "mimetype": "text/x-python",
   "name": "python",
   "nbconvert_exporter": "python",
   "pygments_lexer": "ipython3",
   "version": "3.7.4"
  }
 },
 "nbformat": 4,
 "nbformat_minor": 4
}
