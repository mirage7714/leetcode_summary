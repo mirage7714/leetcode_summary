{
 "cells": [
  {
   "cell_type": "markdown",
   "metadata": {},
   "source": [
    "# 本題要找出array中最小的時間差\n",
    "原題目連結: https://leetcode.com/problems/minimum-time-difference/  \n",
    "\n",
    "Given a list of 24-hour clock time points in \"HH:MM\" format, return the minimum minutes difference between any two time-points in the list.\n",
    "\n",
    "範例:  \n",
    "Ex1:  \n",
    "Input: timePoints = [\"23:59\",\"00:00\"]  \n",
    "Output: 1  \n",
    "\n",
    "Ex2:  \n",
    "Input: timePoints = [\"00:00\",\"23:59\",\"00:00\"]  \n",
    "Output: 0"
   ]
  },
  {
   "cell_type": "markdown",
   "metadata": {},
   "source": [
    "* 解題想法:  \n",
    "由題目說明，要找出兩個時間之間的時間差，需要先將時間格式轉換為分鐘，因此先建立一個func來轉換時間  \n",
    "接著將list進行排序，並將差距的最小值設為list的第一個與最後一個的時間差，需要特別注意的是因為00:00可以視為一小時的最開始，也可以視為是最後的時間，因此用了min來比較兩種可能性之間的最小值，最後找出最小值就是題目要求的答案"
   ]
  },
  {
   "cell_type": "code",
   "execution_count": null,
   "metadata": {},
   "outputs": [],
   "source": [
    "class Solution:\n",
    "    def findMinDifference(self, timePoints: List[str]) -> int:\n",
    "        def transferTime(time):\n",
    "            h = time.split(':')[0]\n",
    "            m = time.split(':')[1]\n",
    "            total = int(h) * 60 + int(m)\n",
    "            return total\n",
    "        \n",
    "        timePoints.sort()\n",
    "        diff = min(transferTime(timePoints[-1]) - transferTime(timePoints[0]), 1440 + transferTime(timePoints[0])-transferTime(timePoints[-1]))\n",
    "        for m in range(len(timePoints)-1):\n",
    "            d = transferTime(timePoints[m+1]) - transferTime(timePoints[m])\n",
    "            if d < diff:\n",
    "                diff = d\n",
    "                if diff == 0:\n",
    "                    break\n",
    "        return diff\n",
    "            "
   ]
  }
 ],
 "metadata": {
  "kernelspec": {
   "display_name": "Python 3",
   "language": "python",
   "name": "python3"
  },
  "language_info": {
   "codemirror_mode": {
    "name": "ipython",
    "version": 3
   },
   "file_extension": ".py",
   "mimetype": "text/x-python",
   "name": "python",
   "nbconvert_exporter": "python",
   "pygments_lexer": "ipython3",
   "version": "3.7.4"
  }
 },
 "nbformat": 4,
 "nbformat_minor": 2
}
