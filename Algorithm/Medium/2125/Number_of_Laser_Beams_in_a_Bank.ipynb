{
 "cells": [
  {
   "cell_type": "markdown",
   "metadata": {},
   "source": [
    "# 本題要計算共有幾道雷射光\n",
    "原題目連結: https://leetcode.com/problems/number-of-laser-beams-in-a-bank/  \n",
    "\n",
    "Anti-theft security devices are activated inside a bank. You are given a 0-indexed binary string array bank representing the floor plan of the bank, which is an m x n 2D matrix. bank[i] represents the ith row, consisting of '0's and '1's. '0' means the cell is empty, while'1' means the cell has a security device.  \n",
    "\n",
    "There is one laser beam between any two security devices if both conditions are met:  \n",
    "\n",
    "The two devices are located on two different rows: r1 and r2, where r1 < r2.  \n",
    "For each row i where r1 < i < r2, there are no security devices in the ith row.  \n",
    "Laser beams are independent, i.e., one beam does not interfere nor join with another.  \n",
    " \n",
    "Return the total number of laser beams in the bank  \n",
    "\n",
    "範例:  \n",
    "Ex1:  \n",
    "Input: bank = [\"011001\",\"000000\",\"010100\",\"001000\"]  \n",
    "Output: 8  \n",
    "Explanation: Between each of the following device pairs, there is one beam. In total, there are 8 beams:  \n",
    " * bank[0][1] -- bank[2][1]  \n",
    " * bank[0][1] -- bank[2][3]  \n",
    " * bank[0][2] -- bank[2][1]  \n",
    " * bank[0][2] -- bank[2][3]  \n",
    " * bank[0][5] -- bank[2][1]  \n",
    " * bank[0][5] -- bank[2][3]  \n",
    " * bank[2][1] -- bank[3][2]  \n",
    " * bank[2][3] -- bank[3][2]  \n",
    "Note that there is no beam between any device on the 0th row with any on the 3rd row.  \n",
    "This is because the 2nd row contains security devices, which breaks the second condition.   \n",
    "\n",
    "Ex2:  \n",
    "Input: bank = [\"000\",\"111\",\"000\"]  \n",
    "Output: 0  \n",
    "Explanation: There does not exist two devices located on two different rows."
   ]
  },
  {
   "cell_type": "markdown",
   "metadata": {},
   "source": [
    "* 解題想法:  \n",
    "首先建立一個函數，用來統計每一個row中有多少1，接著開始從第一個row判斷裡面是否有1，如果有1的話則找出1的個數，然後跟另一個變數c進行相乘後加入結果，並將c的值更新成這個row的個數，最後回傳總數"
   ]
  },
  {
   "cell_type": "code",
   "execution_count": null,
   "metadata": {},
   "outputs": [],
   "source": [
    "class Solution:\n",
    "    def numberOfBeams(self, bank: List[str]) -> int:\n",
    "        def count(row):\n",
    "            c = 0\n",
    "            for r in row:\n",
    "                if r == '1':\n",
    "                    c += 1\n",
    "            return c\n",
    "        \n",
    "        total = 0\n",
    "        c = 0\n",
    "        for b in bank:\n",
    "            if '1' in b:\n",
    "                current = count(b)\n",
    "                total += current * c\n",
    "                c = current\n",
    "        return total"
   ]
  }
 ],
 "metadata": {
  "kernelspec": {
   "display_name": "Python 3",
   "language": "python",
   "name": "python3"
  },
  "language_info": {
   "codemirror_mode": {
    "name": "ipython",
    "version": 3
   },
   "file_extension": ".py",
   "mimetype": "text/x-python",
   "name": "python",
   "nbconvert_exporter": "python",
   "pygments_lexer": "ipython3",
   "version": "3.7.4"
  }
 },
 "nbformat": 4,
 "nbformat_minor": 4
}
