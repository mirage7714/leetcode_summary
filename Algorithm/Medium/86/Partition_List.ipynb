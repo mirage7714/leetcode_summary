{
 "cells": [
  {
   "cell_type": "markdown",
   "metadata": {},
   "source": [
    "# 本題要將Linked List依指定的值進行重新排序\n",
    "原題目連結: https://leetcode.com/problems/partition-list/  \n",
    "\n",
    "Given the head of a linked list and a value x, partition it such that all nodes less than x come before nodes greater than or equal to x.  \n",
    "You should preserve the original relative order of the nodes in each of the two partitions.  \n",
    "\n",
    "範例:  \n",
    "Ex1:  \n",
    "Input: head = [1,4,3,2,5,2], x = 3  \n",
    "Output: [1,2,2,4,3,5]  \n",
    "\n",
    "Ex2:  \n",
    "Input: head = [2,1], x = 2  \n",
    "Output: [1,2]"
   ]
  },
  {
   "cell_type": "markdown",
   "metadata": {},
   "source": [
    "* 解題想法:  \n",
    "由於需要保留相對的順序，因此建立了兩個list來存放數值，一個存放大於或等於指定值，另一個存放小於指定值，接著將兩個list組合之後，重新建立一個Linked list並回傳"
   ]
  },
  {
   "cell_type": "code",
   "execution_count": null,
   "metadata": {},
   "outputs": [],
   "source": [
    "# Definition for singly-linked list.\n",
    "# class ListNode:\n",
    "#     def __init__(self, val=0, next=None):\n",
    "#         self.val = val\n",
    "#         self.next = next\n",
    "class Solution:\n",
    "    def partition(self, head: Optional[ListNode], x: int) -> Optional[ListNode]:\n",
    "        great = []\n",
    "        small = []\n",
    "        temp = []\n",
    "        if head != None:\n",
    "            while head:\n",
    "                if head.val >= x:\n",
    "                    great.append(head.val)\n",
    "                else:\n",
    "                    small.append(head.val)\n",
    "                head = head.next\n",
    "            total = small + great\n",
    "            for m in range(len(total)-1, -1, -1):\n",
    "                node = ListNode()\n",
    "                node.val = total[m]\n",
    "                if len(temp) > 0:\n",
    "                    node.next = temp[-1]\n",
    "                temp.append(node)\n",
    "            return temp[-1]\n",
    "        else:\n",
    "            return None"
   ]
  }
 ],
 "metadata": {
  "kernelspec": {
   "display_name": "Python 3",
   "language": "python",
   "name": "python3"
  },
  "language_info": {
   "codemirror_mode": {
    "name": "ipython",
    "version": 3
   },
   "file_extension": ".py",
   "mimetype": "text/x-python",
   "name": "python",
   "nbconvert_exporter": "python",
   "pygments_lexer": "ipython3",
   "version": "3.7.4"
  }
 },
 "nbformat": 4,
 "nbformat_minor": 4
}
