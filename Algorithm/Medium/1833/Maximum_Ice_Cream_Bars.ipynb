{
 "cells": [
  {
   "cell_type": "markdown",
   "metadata": {},
   "source": [
    "# 本題要找出最多可以買到多少球冰淇淋\n",
    "原題目連結: https://leetcode.com/problems/maximum-ice-cream-bars/  \n",
    "\n",
    "It is a sweltering summer day, and a boy wants to buy some ice cream bars.  \n",
    "\n",
    "At the store, there are n ice cream bars. You are given an array costs of length n, where costs[i] is the price of the ith ice cream bar in coins. The boy initially has coins coins to spend, and he wants to buy as many ice cream bars as possible.   \n",
    "\n",
    "Return the maximum number of ice cream bars the boy can buy with coins coins.  \n",
    "\n",
    "Note: The boy can buy the ice cream bars in any order.  \n",
    "\n",
    "範例:  \n",
    "Ex1:  \n",
    "Input: costs = [1,3,2,4,1], coins = 7  \n",
    "Output: 4  \n",
    "Explanation: The boy can buy ice cream bars at indices 0,1,2,4 for a total price of 1 + 3 + 2 + 1 = 7.  \n",
    "\n",
    "Ex2:  \n",
    "Input: costs = [10,6,8,7,7,8], coins = 5  \n",
    "Output: 0  \n",
    "Explanation: The boy cannot afford any of the ice cream bars.  \n",
    "\n",
    "Ex3:  \n",
    "Input: costs = [1,6,3,1,2,5], coins = 20  \n",
    "Output: 6  \n",
    "Explanation: The boy can buy all the ice cream bars for a total price of 1 + 6 + 3 + 1 + 2 + 5 = 18."
   ]
  },
  {
   "cell_type": "markdown",
   "metadata": {},
   "source": [
    "* 解題想法:  \n",
    "依題目要求，要追求數量最多的購買數量，因此需要先以costs中最小的值開始計算，因此首先統計costs中出現的值與數量，並建立成一個dict(freq)  \n",
    "接著從dict中key值最小的開始計算，如果key * value 小於coins數量，則將coins扣掉成本後繼續進行迴圈，並把value值加入最後的結果(total)中  \n",
    "當key * value大於coins時，則將total加上coins / key值，最後回傳total就是題目求的答案"
   ]
  },
  {
   "cell_type": "code",
   "execution_count": null,
   "metadata": {},
   "outputs": [],
   "source": [
    "class Solution:\n",
    "    def maxIceCream(self, costs: List[int], coins: int) -> int:\n",
    "        freq = {}\n",
    "        total = 0\n",
    "        index = 0\n",
    "        for c in costs:\n",
    "            if c not in freq.keys():\n",
    "                freq[c] = 1\n",
    "            else:\n",
    "                freq[c] += 1\n",
    "        keys = list(freq.keys())\n",
    "        keys.sort()\n",
    "        while True:\n",
    "            if index < len(keys):\n",
    "                k = keys[index]\n",
    "                v = freq[k]\n",
    "                if coins >= k * v:\n",
    "                    coins -= k * v\n",
    "                    total += v\n",
    "                    index += 1\n",
    "                else:\n",
    "                    total += int(coins / k) \n",
    "                    break   \n",
    "            else:\n",
    "                break\n",
    "        return total"
   ]
  }
 ],
 "metadata": {
  "kernelspec": {
   "display_name": "Python 3",
   "language": "python",
   "name": "python3"
  },
  "language_info": {
   "codemirror_mode": {
    "name": "ipython",
    "version": 3
   },
   "file_extension": ".py",
   "mimetype": "text/x-python",
   "name": "python",
   "nbconvert_exporter": "python",
   "pygments_lexer": "ipython3",
   "version": "3.7.4"
  }
 },
 "nbformat": 4,
 "nbformat_minor": 2
}
