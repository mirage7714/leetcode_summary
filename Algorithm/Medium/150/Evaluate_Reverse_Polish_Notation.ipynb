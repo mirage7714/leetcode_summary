{
 "cells": [
  {
   "cell_type": "markdown",
   "metadata": {},
   "source": [
    "# 本題要將list中的數值進行操作，求出最後的值為多少\n",
    "原題目連結: https://leetcode.com/problems/evaluate-reverse-polish-notation/  \n",
    "\n",
    "Evaluate the value of an arithmetic expression in Reverse Polish Notation.  \n",
    "Valid operators are +, -, *, and /. Each operand may be an integer or another expression.  \n",
    "Note that division between two integers should truncate toward zero.  \n",
    "It is guaranteed that the given RPN expression is always valid. That means the expression would always evaluate to a result, and there will not be any division by zero operation.  \n",
    "\n",
    "範例:  \n",
    "Ex1:  \n",
    "Input: tokens = [\"2\",\"1\",\"+\",\"3\",\"*\"]\n",
    "Output: 9\n",
    "Explanation: ((2 + 1) * 3) = 9\n",
    "\n",
    "Ex2:  \n",
    "Input: tokens = [\"4\",\"13\",\"5\",\"/\",\"+\"]  \n",
    "Output: 6  \n",
    "Explanation: (4 + (13 / 5)) = 6  \n",
    "\n",
    "Ex3:  \n",
    "Input: tokens = [\"10\",\"6\",\"9\",\"3\",\"+\",\"-11\",\"*\",\"/\",\"*\",\"17\",\"+\",\"5\",\"+\"]  \n",
    "Output: 22  \n",
    "Explanation: ((10 * (6 / ((9 + 3) * -11))) + 17) + 5  \n",
    "= ((10 * (6 / (12 * -11))) + 17) + 5  \n",
    "= ((10 * (6 / -132)) + 17) + 5  \n",
    "= ((10 * 0) + 17) + 5  \n",
    "= (0 + 17) + 5  \n",
    "= 17 + 5  \n",
    "= 22"
   ]
  },
  {
   "cell_type": "markdown",
   "metadata": {},
   "source": [
    "* 解題想法:  \n",
    "依題目的資料結構，出現四則運算前的兩個數字就是要進行操作的數字，因此使用一個list用來存放數字，接著如果出現四則運算則將list的最後兩個數字取出進行運算後再放回，最後回傳list中剩下的數字"
   ]
  },
  {
   "cell_type": "code",
   "execution_count": null,
   "metadata": {},
   "outputs": [],
   "source": [
    "class Solution:\n",
    "    def evalRPN(self, tokens: List[str]) -> int:\n",
    "        operations = ['+','-','*','/']\n",
    "        temp = []\n",
    "        for t in tokens:\n",
    "            if t not in operations:\n",
    "                temp.append(t)\n",
    "            else:\n",
    "                n1 = int(temp.pop())\n",
    "                n2 = int(temp.pop())\n",
    "                if t == '+':\n",
    "                    temp.append(str(n1+n2))\n",
    "                elif t == '-':\n",
    "                    temp.append(str(n2-n1))\n",
    "                elif t == '*':\n",
    "                    temp.append(str(n1 * n2))\n",
    "                else:\n",
    "                    temp.append(str(int(n2/n1)))\n",
    "        return temp[0]"
   ]
  }
 ],
 "metadata": {
  "kernelspec": {
   "display_name": "Python 3",
   "language": "python",
   "name": "python3"
  },
  "language_info": {
   "codemirror_mode": {
    "name": "ipython",
    "version": 3
   },
   "file_extension": ".py",
   "mimetype": "text/x-python",
   "name": "python",
   "nbconvert_exporter": "python",
   "pygments_lexer": "ipython3",
   "version": "3.7.4"
  }
 },
 "nbformat": 4,
 "nbformat_minor": 4
}
