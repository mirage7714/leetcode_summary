{
 "cells": [
  {
   "cell_type": "markdown",
   "metadata": {},
   "source": [
    "# 本題要找出所有不重複的subset\n",
    "原題目連結: https://leetcode.com/problems/subsets-ii/  \n",
    "\n",
    "Given an integer array nums that may contain duplicates, return all possible subsets (the power set).  \n",
    "The solution set must not contain duplicate subsets. Return the solution in any order.  \n",
    "\n",
    "範例:  \n",
    "Ex1:  \n",
    "Input: nums = [1,2,2]  \n",
    "Output: [[],[1],[1,2],[1,2,2],[2],[2,2]]  \n",
    "\n",
    "Ex2:  \n",
    "Input: nums = [0]  \n",
    "Output: [[],[0]]"
   ]
  },
  {
   "cell_type": "markdown",
   "metadata": {},
   "source": [
    "* 解題想法:  \n",
    "一樣使用backtracking，只是因為題目的list中可能有數字重複的情況，因此這次改成將index放入結果中，另外題目有要求須要用排序的部分，因此先將nums進行排序後再進行取subset，最後將index的subset轉回原本的數值並放入結果中"
   ]
  },
  {
   "cell_type": "code",
   "execution_count": null,
   "metadata": {},
   "outputs": [],
   "source": [
    "class Solution:\n",
    "    def subsetsWithDup(self, nums: List[int]) -> List[List[int]]:\n",
    "        def getSubset(nums, res, cur, index):\n",
    "            if index > len(nums):\n",
    "                return \n",
    "            res.append(cur[:])\n",
    "            for i in range(index, len(nums)):\n",
    "                if i not in cur: \n",
    "                    cur.append(i)\n",
    "                    getSubset(nums, res, cur, i)\n",
    "                    cur.pop()\n",
    "        res = []\n",
    "        cur = []\n",
    "        result = []\n",
    "        nums.sort()\n",
    "        getSubset(nums, res, cur, 0)\n",
    "        for r in res:\n",
    "            t = []\n",
    "            for i in r:\n",
    "                t.append(nums[i])\n",
    "            if t not in result:\n",
    "                result.append(t)\n",
    "        return result"
   ]
  }
 ],
 "metadata": {
  "kernelspec": {
   "display_name": "Python 3",
   "language": "python",
   "name": "python3"
  },
  "language_info": {
   "codemirror_mode": {
    "name": "ipython",
    "version": 3
   },
   "file_extension": ".py",
   "mimetype": "text/x-python",
   "name": "python",
   "nbconvert_exporter": "python",
   "pygments_lexer": "ipython3",
   "version": "3.7.4"
  }
 },
 "nbformat": 4,
 "nbformat_minor": 4
}
