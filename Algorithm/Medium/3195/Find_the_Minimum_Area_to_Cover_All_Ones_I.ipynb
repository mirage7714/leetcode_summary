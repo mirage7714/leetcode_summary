{
 "cells": [
  {
   "cell_type": "markdown",
   "id": "ff919ea1-33b0-4da2-a1d6-2c915527baaf",
   "metadata": {},
   "source": [
    "# 本題要找出最小可以涵蓋所有1的長方形面積為多少 (\\#Matrix )\n",
    "原題目連結: https://leetcode.com/problems/find-the-minimum-area-to-cover-all-ones-i/description/  \n",
    "\n",
    "You are given a 2D binary array grid. Find a rectangle with horizontal and vertical sides with the smallest area, such that all the 1's in grid lie inside this rectangle.  \n",
    "Return the minimum possible area of the rectangle.  \n",
    "\n",
    "範例:  \n",
    "Ex1:  \n",
    "Input: grid = [[0,1,0],[1,0,1]]  \n",
    "Output: 6  \n",
    "Explanation:  \n",
    "The smallest rectangle has a height of 2 and a width of 3, so it has an area of 2 * 3 = 6.  \n",
    "\n",
    "Ex2:  \n",
    "Input: grid = [[0,0],[1,0]]   \n",
    "Output: 1  \n",
    "Explanation:  \n",
    "The smallest rectangle has both height and width 1, so its area is 1 * 1 = 1."
   ]
  },
  {
   "cell_type": "markdown",
   "id": "51c9c656-d052-48ae-bfe9-723d84dcfaa3",
   "metadata": {},
   "source": [
    "* 解題想法:  \n",
    "首先找出所有為1的row與column，並分別放入兩個list中，接著找出長寬最大與最小值算出長度後，相乘就是長方形面積"
   ]
  },
  {
   "cell_type": "code",
   "execution_count": null,
   "id": "27d7bad6-5766-4dd5-ab20-a9888c3065f4",
   "metadata": {},
   "outputs": [],
   "source": [
    "class Solution:\n",
    "    def minimumArea(self, grid: List[List[int]]) -> int:\n",
    "        res = 0\n",
    "        width = []\n",
    "        height = []\n",
    "        for i in range(len(grid)):\n",
    "            for j in range(len(grid[0])):\n",
    "                if grid[i][j] == 1:\n",
    "                    width.append(j)\n",
    "                    height.append(i)\n",
    "        res = (max(width) - min(width) +1)  * (max(height) - min(height) + 1)\n",
    "        return res"
   ]
  }
 ],
 "metadata": {
  "kernelspec": {
   "display_name": "Python 3 (ipykernel)",
   "language": "python",
   "name": "python3"
  },
  "language_info": {
   "codemirror_mode": {
    "name": "ipython",
    "version": 3
   },
   "file_extension": ".py",
   "mimetype": "text/x-python",
   "name": "python",
   "nbconvert_exporter": "python",
   "pygments_lexer": "ipython3",
   "version": "3.9.13"
  }
 },
 "nbformat": 4,
 "nbformat_minor": 5
}
