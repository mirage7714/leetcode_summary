{
 "cells": [
  {
   "cell_type": "markdown",
   "metadata": {},
   "source": [
    "# 本題要找出最多可能得分為多少\n",
    "原題目連結: https://leetcode.com/problems/bag-of-tokens/  \n",
    "\n",
    "You have an initial power of power, an initial score of 0, and a bag of tokens where tokens[i] is the value of the ith token (0-indexed).  \n",
    "\n",
    "Your goal is to maximize your total score by potentially playing each token in one of two ways:  \n",
    "\n",
    "If your current power is at least tokens[i], you may play the ith token face up, losing tokens[i] power and gaining 1 score.\n",
    "If your current score is at least 1, you may play the ith token face down, gaining tokens[i] power and losing 1 score.  \n",
    "Each token may be played at most once and in any order. You do not have to play all the tokens.  \n",
    "\n",
    "Return the largest possible score you can achieve after playing any number of tokens.  \n",
    "\n",
    "範例:  \n",
    "Ex1:  \n",
    "Input: tokens = [100], power = 50  \n",
    "Output: 0  \n",
    "Explanation: Playing the only token in the bag is impossible because you either have too little power or too little score.  \n",
    "\n",
    "Ex2:  \n",
    "Input: tokens = [100,200], power = 150  \n",
    "Output: 1  \n",
    "Explanation: Play the 0th token (100) face up, your power becomes 50 and score becomes 1.  \n",
    "There is no need to play the 1st token since you cannot play it face up to add to your score.  \n",
    "\n",
    "Ex3:  \n",
    "Input: tokens = [100,200,300,400], power = 200  \n",
    "Output: 2  \n",
    "Explanation: Play the tokens in this order to get a score of 2:  \n",
    "1. Play the 0th token (100) face up, your power becomes 100 and score becomes 1.  \n",
    "2. Play the 3rd token (400) face down, your power becomes 500 and score becomes 0.  \n",
    "3. Play the 1st token (200) face up, your power becomes 300 and score becomes 1.  \n",
    "4. Play the 2nd token (300) face up, your power becomes 0 and score becomes 2.  "
   ]
  },
  {
   "cell_type": "markdown",
   "metadata": {},
   "source": [
    "* 解題想法:  \n",
    "由於每個token只能使用一次，因此先針對token進行排序後，用一個while迴圈來檢查以下條件:  \n",
    "如果P大於tokens的最小值，則將count+1，並將P扣掉token後將用過的token移除  \n",
    "如果P小於tokens的最小值，如果count > 0，則用tokens中的最大值加上P後，將token移除並將count-1  \n",
    "如果count = 0而且P小於token最小值，或是tokens長度為0則中斷迴圈  \n",
    "在執行過程中用一個數來儲存count最大值，最後回傳這個值就是題目要找的答案"
   ]
  },
  {
   "cell_type": "code",
   "execution_count": null,
   "metadata": {},
   "outputs": [],
   "source": [
    "class Solution:\n",
    "    def bagOfTokensScore(self, tokens: List[int], P: int) -> int:\n",
    "        tokens.sort()\n",
    "        count = 0\n",
    "        score = 0\n",
    "        while True:\n",
    "            if len(tokens) == 0:\n",
    "                break\n",
    "            if P < tokens[0]:\n",
    "                if count == 0:\n",
    "                    break\n",
    "                else:\n",
    "                    count -= 1\n",
    "                    P += tokens[-1]\n",
    "                    tokens.pop(-1)\n",
    "            else:\n",
    "                P -= tokens[0]\n",
    "                count += 1\n",
    "                if count > score:\n",
    "                    score = count\n",
    "                tokens.pop(0)\n",
    "        return score"
   ]
  }
 ],
 "metadata": {
  "kernelspec": {
   "display_name": "Python 3",
   "language": "python",
   "name": "python3"
  },
  "language_info": {
   "codemirror_mode": {
    "name": "ipython",
    "version": 3
   },
   "file_extension": ".py",
   "mimetype": "text/x-python",
   "name": "python",
   "nbconvert_exporter": "python",
   "pygments_lexer": "ipython3",
   "version": "3.7.4"
  }
 },
 "nbformat": 4,
 "nbformat_minor": 2
}
