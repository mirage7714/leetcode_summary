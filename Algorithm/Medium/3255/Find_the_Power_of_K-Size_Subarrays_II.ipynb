{
 "cells": [
  {
   "cell_type": "markdown",
   "id": "9ce9ae1a-a09e-4506-99d8-3daa57c305be",
   "metadata": {},
   "source": [
    "# 本題要找出指定長度的sublist是否符合條件 (\\#Array, \\#SlidingWindows )\n",
    "原題目連結: https://leetcode.com/problems/find-the-power-of-k-size-subarrays-ii/description/  \n",
    "\n",
    "You are given an array of integers nums of length n and a positive integer k.  \n",
    "The power of an array is defined as:  \n",
    "Its maximum element if all of its elements are consecutive and sorted in ascending order. -1 otherwise. You need to find the power of all subarrays of nums of size k.  \n",
    "Return an integer array results of size n - k + 1, where results[i] is the power of nums[i..(i + k - 1)].  \n",
    "\n",
    "範例:  \n",
    "Ex1:  \n",
    "Input: nums = [1,2,3,4,3,2,5], k = 3  \n",
    "Output: [3,4,-1,-1,-1]  \n",
    "Explanation:  \n",
    "There are 5 subarrays of nums of size 3:  \n",
    "[1, 2, 3] with the maximum element 3.   \n",
    "[2, 3, 4] with the maximum element 4.  \n",
    "[3, 4, 3] whose elements are not consecutive.  \n",
    "[4, 3, 2] whose elements are not sorted.   \n",
    "[3, 2, 5] whose elements are not consecutive.  \n",
    "\n",
    "Ex2:  \n",
    "Input: nums = [2,2,2,2,2], k = 4  \n",
    "Output: [-1,-1]  \n",
    "\n",
    "Ex3:  \n",
    "Input: nums = [3,2,3,2,3,2], k = 2  \n",
    "Output: [-1,3,-1,3,-1]"
   ]
  },
  {
   "cell_type": "markdown",
   "id": "d68dece4-62bf-4b42-aa9f-b8c6a332c032",
   "metadata": {},
   "source": [
    "* 解題想法:  \n",
    "首先建立一個deque，接著從頭開始檢查，如果符合指定條件則放入deque中，否則清空deque並放入最後一個值，接著如果當迴圈的index大於或賭於k-1時，則檢查deque長度是否為k，如果小於k則放入-1，否則就是放入deque中的最後一個值，並清除deque的第一個值，最後回傳結果"
   ]
  },
  {
   "cell_type": "code",
   "execution_count": null,
   "id": "57e0fc16-486c-452f-b3f9-280d750da35d",
   "metadata": {},
   "outputs": [],
   "source": [
    "from collections import deque\n",
    "\n",
    "class Solution:\n",
    "    def resultsArray(self, nums: List[int], k: int) -> List[int]:\n",
    "        res = []\n",
    "        if k == 1:\n",
    "            res = nums\n",
    "        else: \n",
    "            count = [nums[0]]\n",
    "            c = deque(count)\n",
    "            for i in range(1, len(nums)):\n",
    "                if nums[i] != c[-1] + 1:\n",
    "                    c.clear()\n",
    "                c.append(nums[i])\n",
    "                if i >= k-1:\n",
    "                    if len(c) < k:  \n",
    "                        res.append(-1)\n",
    "                    else:\n",
    "                        res.append(c[-1])\n",
    "                        c.popleft()    \n",
    "        return res"
   ]
  }
 ],
 "metadata": {
  "kernelspec": {
   "display_name": "Python 3 (ipykernel)",
   "language": "python",
   "name": "python3"
  },
  "language_info": {
   "codemirror_mode": {
    "name": "ipython",
    "version": 3
   },
   "file_extension": ".py",
   "mimetype": "text/x-python",
   "name": "python",
   "nbconvert_exporter": "python",
   "pygments_lexer": "ipython3",
   "version": "3.9.13"
  }
 },
 "nbformat": 4,
 "nbformat_minor": 5
}
