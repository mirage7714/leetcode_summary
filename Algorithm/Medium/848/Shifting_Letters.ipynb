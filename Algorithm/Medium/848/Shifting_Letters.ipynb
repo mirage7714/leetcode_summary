{
 "cells": [
  {
   "cell_type": "markdown",
   "metadata": {},
   "source": [
    "# 本題要找出經過shift之後的字串為何\n",
    "原題目連結: https://leetcode.com/problems/shifting-letters/  \n",
    "\n",
    "We have a string s of lowercase letters, and an integer array shifts.  \n",
    "\n",
    "Call the shift of a letter, the next letter in the alphabet, (wrapping around so that 'z' becomes 'a').   \n",
    "\n",
    "For example, shift('a') = 'b', shift('t') = 'u', and shift('z') = 'a'.  \n",
    "\n",
    "Now for each shifts[i] = x, we want to shift the first i+1 letters of S, x times.  \n",
    "\n",
    "Return the final string after all such shifts to s are applied.  \n",
    "\n",
    "範例:  \n",
    "Ex1:  \n",
    "Input: s = \"abc\", shifts = [3,5,9]  \n",
    "Output: \"rpl\"  \n",
    "Explanation:   \n",
    "We start with \"abc\".  \n",
    "After shifting the first 1 letters of S by 3, we have \"dbc\".  \n",
    "After shifting the first 2 letters of S by 5, we have \"igc\".  \n",
    "After shifting the first 3 letters of S by 9, we have \"rpl\", the answer.  "
   ]
  },
  {
   "cell_type": "markdown",
   "metadata": {},
   "source": [
    "* 解題想法:  \n",
    "依題目說明，在順序越前面的字移動的次數會越多，因此改變思考邏輯從最後面的字開始進行移動，接著使用一個list(count)來計算目前的字總共經過多少的平移，並將平移後的字母加到結果(result)中，最後回傳結果"
   ]
  },
  {
   "cell_type": "code",
   "execution_count": null,
   "metadata": {},
   "outputs": [],
   "source": [
    "class Solution:\n",
    "    def shiftingLetters(self, S: str, shifts: List[int]) -> str:\n",
    "        chars = ['a','b','c','d','e','f','g','h','i','j','k','l','m','n','o','p','q','r','s','t','u','v','w','x','y','z']\n",
    "        count = [shifts[-1]]\n",
    "        result = ''\n",
    "        index = chars.index(S[-1]) + count[0]\n",
    "        result += chars[index % 26]\n",
    "\n",
    "        for n in range(len(shifts)-2, -1, -1):\n",
    "            num = count[-1] + shifts[n]\n",
    "            c = chars.index(S[n]) + num \n",
    "            result = chars[c % 26] + result\n",
    "            count.append(num)\n",
    "        return result        "
   ]
  }
 ],
 "metadata": {
  "kernelspec": {
   "display_name": "Python 3",
   "language": "python",
   "name": "python3"
  },
  "language_info": {
   "codemirror_mode": {
    "name": "ipython",
    "version": 3
   },
   "file_extension": ".py",
   "mimetype": "text/x-python",
   "name": "python",
   "nbconvert_exporter": "python",
   "pygments_lexer": "ipython3",
   "version": "3.7.4"
  }
 },
 "nbformat": 4,
 "nbformat_minor": 2
}
