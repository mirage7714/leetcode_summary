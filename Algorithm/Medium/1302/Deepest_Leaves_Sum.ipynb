{
 "cells": [
  {
   "cell_type": "markdown",
   "metadata": {},
   "source": [
    "# 本題要找出binary tree中最深節點的總和為多少 (\\#Binary Tree, \\#BFS)\n",
    "原題目連結: https://leetcode.com/problems/deepest-leaves-sum/  \n",
    "\n",
    "Given the root of a binary tree, return the sum of values of its deepest leaves.  \n",
    "\n",
    "範例:  \n",
    "Ex1:  \n",
    "Input: root = [1,2,3,4,5,null,6,7,null,null,null,null,8]  \n",
    "Output: 15  \n",
    "\n",
    "Ex2:  \n",
    "Input: root = [6,7,8,2,7,1,3,9,null,1,4,null,null,null,5]  \n",
    "Output: 19"
   ]
  },
  {
   "cell_type": "markdown",
   "metadata": {},
   "source": [
    "* 解題想法:  \n",
    "既然是要逐層走訪的題型，就要用BFS的方式來找出最底層的節點，先把該層節點的總和加總之後，如果沒有下一層的時候則直接回傳總和，否則就是到下一層進行加總"
   ]
  },
  {
   "cell_type": "code",
   "execution_count": null,
   "metadata": {},
   "outputs": [],
   "source": [
    "# Definition for a binary tree node.\n",
    "# class TreeNode:\n",
    "#     def __init__(self, val=0, left=None, right=None):\n",
    "#         self.val = val\n",
    "#         self.left = left\n",
    "#         self.right = right\n",
    "class Solution:\n",
    "    def deepestLeavesSum(self, root: Optional[TreeNode]) -> int:\n",
    "        if root:\n",
    "            stack = [root]\n",
    "            while stack:\n",
    "                node = []\n",
    "                val = 0\n",
    "                for s in stack:\n",
    "                    val += s.val\n",
    "                    if s.left:\n",
    "                        node.append(s.left)\n",
    "                    if s.right:\n",
    "                        node.append(s.right)\n",
    "                if not node:\n",
    "                    return val\n",
    "                stack.clear()\n",
    "                stack += node"
   ]
  }
 ],
 "metadata": {
  "kernelspec": {
   "display_name": "Python 3",
   "language": "python",
   "name": "python3"
  },
  "language_info": {
   "codemirror_mode": {
    "name": "ipython",
    "version": 3
   },
   "file_extension": ".py",
   "mimetype": "text/x-python",
   "name": "python",
   "nbconvert_exporter": "python",
   "pygments_lexer": "ipython3",
   "version": "3.7.4"
  }
 },
 "nbformat": 4,
 "nbformat_minor": 4
}
