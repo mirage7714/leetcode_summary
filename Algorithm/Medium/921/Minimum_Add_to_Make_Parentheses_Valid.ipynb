{
 "cells": [
  {
   "cell_type": "markdown",
   "metadata": {},
   "source": [
    "# 本題要計算有多少括號不符合規定\n",
    "原題目連結: https://leetcode.com/problems/minimum-add-to-make-parentheses-valid/  \n",
    "\n",
    "A parentheses string is valid if and only if:  \n",
    "\n",
    "It is the empty string,  \n",
    "It can be written as AB (A concatenated with B), where A and B are valid strings, or  \n",
    "It can be written as (A), where A is a valid string.  \n",
    "You are given a parentheses string s. In one move, you can insert a parenthesis at any position of the string.  \n",
    "\n",
    "For example, if s = \"()))\", you can insert an opening parenthesis to be \"(()))\" or a closing parenthesis to be \"())))\".  \n",
    "Return the minimum number of moves required to make s valid.  \n",
    "\n",
    "範例:  \n",
    "Ex1:  \n",
    "Input: s = \"())\"  \n",
    "Output: 1  \n",
    "\n",
    "Ex2:  \n",
    "Input: s = \"(((\"  \n",
    "Output: 3"
   ]
  },
  {
   "cell_type": "markdown",
   "metadata": {},
   "source": [
    "* 解題想法:  \n",
    "首先建立一個變數用來存放左括號出現的次數，接著開始檢查出現的字串為何，如果出現的是左括號，則將變數+1，如果是右括號，先檢查左括號長度是否大於0，如果大於0則從將變數-1，否則直接將結果+1，最後將list長度與結果相加，就是最後的結果"
   ]
  },
  {
   "cell_type": "code",
   "execution_count": null,
   "metadata": {},
   "outputs": [],
   "source": [
    "class Solution:\n",
    "    def minAddToMakeValid(self, S: str) -> int:\n",
    "        temp = 0\n",
    "        result = 0\n",
    "        for s in S:\n",
    "            if s == '(':\n",
    "                temp += 1\n",
    "            else:\n",
    "                if temp == 0:\n",
    "                    result += 1\n",
    "                else:\n",
    "                    temp -= 1\n",
    "        result += temp\n",
    "        return result"
   ]
  }
 ],
 "metadata": {
  "kernelspec": {
   "display_name": "Python 3",
   "language": "python",
   "name": "python3"
  },
  "language_info": {
   "codemirror_mode": {
    "name": "ipython",
    "version": 3
   },
   "file_extension": ".py",
   "mimetype": "text/x-python",
   "name": "python",
   "nbconvert_exporter": "python",
   "pygments_lexer": "ipython3",
   "version": "3.7.4"
  }
 },
 "nbformat": 4,
 "nbformat_minor": 4
}
