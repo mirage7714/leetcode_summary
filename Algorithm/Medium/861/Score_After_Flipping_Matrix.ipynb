{
 "cells": [
  {
   "cell_type": "markdown",
   "metadata": {},
   "source": [
    "# 本題要找出翻轉之後的最大值為何\n",
    "原題目連結: https://leetcode.com/problems/score-after-flipping-matrix/  \n",
    "\n",
    "You are given an m x n binary matrix grid.  \n",
    "A move consists of choosing any row or column and toggling each value in that row or column (i.e., changing all 0's to 1's, and all 1's to 0's).  \n",
    "Every row of the matrix is interpreted as a binary number, and the score of the matrix is the sum of these numbers.  \n",
    "Return the highest possible score after making any number of moves (including zero moves)  \n",
    "\n",
    "範例:  \n",
    "Ex1:  \n",
    "Input: grid = [[0,0,1,1],[1,0,1,0],[1,1,0,0]]  \n",
    "Output: 39  \n",
    "Explanation: 0b1111 + 0b1001 + 0b1111 = 15 + 9 + 15 = 39  \n",
    "\n",
    "Ex2:  \n",
    "Input: grid = [[0]]  \n",
    "Output: 1"
   ]
  },
  {
   "cell_type": "markdown",
   "metadata": {},
   "source": [
    "* 解題想法:  \n",
    "首先需要將每個row的第一個數字都翻轉成1，這樣才會確保是最大值，接著開始逐column檢查1與0的數量，取出最大值後計算2的次方直接加到總和中，最後回傳總和"
   ]
  },
  {
   "cell_type": "code",
   "execution_count": null,
   "metadata": {},
   "outputs": [],
   "source": [
    "class Solution:\n",
    "    def matrixScore(self, grid: List[List[int]]) -> int:\n",
    "        def convert(nums):\n",
    "            result = []\n",
    "            for n in nums:\n",
    "                if n == 1:\n",
    "                    result.append(0)\n",
    "                else:\n",
    "                    result.append(1)\n",
    "            return result\n",
    "        a = len(grid)\n",
    "        b = len(grid[0])\n",
    "        result = 0\n",
    "        for m in range(a):\n",
    "            if grid[m][0] == 0:\n",
    "                grid[m] = convert(grid[m])\n",
    "        result += a * pow(2,(b-1))\n",
    "        for n in range(1, b):\n",
    "            count = 0\n",
    "            for m in range(a):\n",
    "                if grid[m][n] == 0:\n",
    "                    count += 1\n",
    "            result += max(count, a-count) * pow(2, (b - n -1))\n",
    "        return result"
   ]
  }
 ],
 "metadata": {
  "kernelspec": {
   "display_name": "Python 3",
   "language": "python",
   "name": "python3"
  },
  "language_info": {
   "codemirror_mode": {
    "name": "ipython",
    "version": 3
   },
   "file_extension": ".py",
   "mimetype": "text/x-python",
   "name": "python",
   "nbconvert_exporter": "python",
   "pygments_lexer": "ipython3",
   "version": "3.7.4"
  }
 },
 "nbformat": 4,
 "nbformat_minor": 4
}
