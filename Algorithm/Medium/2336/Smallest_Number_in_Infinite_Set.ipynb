{
 "cells": [
  {
   "cell_type": "markdown",
   "metadata": {},
   "source": [
    "# 本題要設計一個infinite set，並實作一些功能\n",
    "原題目連結: https://leetcode.com/problems/smallest-number-in-infinite-set/  \n",
    "\n",
    "You have a set which contains all positive integers [1, 2, 3, 4, 5, ...].  \n",
    "\n",
    "Implement the SmallestInfiniteSet class:  \n",
    "\n",
    "SmallestInfiniteSet() Initializes the SmallestInfiniteSet object to contain all positive integers.  \n",
    "int popSmallest() Removes and returns the smallest integer contained in the infinite set.  \n",
    "void addBack(int num) Adds a positive integer num back into the infinite set, if it is not already in the infinite set.  \n",
    "\n",
    "範例:  \n",
    "Ex1:  \n",
    "Input  \n",
    "[\"SmallestInfiniteSet\", \"addBack\", \"popSmallest\", \"popSmallest\", \"popSmallest\", \"addBack\", \"popSmallest\", \"popSmallest\", \"popSmallest\"]  \n",
    "[[], [2], [], [], [], [1], [], [], []]  \n",
    "Output  \n",
    "[null, null, 1, 2, 3, null, 1, 4, 5]  \n",
    "\n",
    "Explanation   \n",
    "SmallestInfiniteSet smallestInfiniteSet = new SmallestInfiniteSet();  \n",
    "smallestInfiniteSet.addBack(2);    // 2 is already in the set, so no change is made.  \n",
    "smallestInfiniteSet.popSmallest(); // return 1, since 1 is the smallest number, and remove it from the set.  \n",
    "smallestInfiniteSet.popSmallest(); // return 2, and remove it from the set.  \n",
    "smallestInfiniteSet.popSmallest(); // return 3, and remove it from the set.  \n",
    "smallestInfiniteSet.addBack(1);    // 1 is added back to the set.  \n",
    "smallestInfiniteSet.popSmallest(); // return 1, since 1 was added back to the set and is the smallest number, and remove it from the set.  \n",
    "smallestInfiniteSet.popSmallest(); // return 4, and remove it from the set.  \n",
    "smallestInfiniteSet.popSmallest(); // return 5, and remove it from the set.  "
   ]
  },
  {
   "cell_type": "markdown",
   "metadata": {},
   "source": [
    "* 解題想法:  \n",
    "雖然說要設計一個Set，但也是雖然說要設計一個Set，但也是可以用heapq來實作，首先建立一個list，並將1-1000的數值先放入list中，接著將list轉換為heapq，然後開始實作以下的功能:  \n",
    "- popSmallest(): 將list中最小值找出並回傳  \n",
    "- addBack(): 將指定的數值放入list中，如果已經存在則不重複加入  "
   ]
  },
  {
   "cell_type": "code",
   "execution_count": null,
   "metadata": {},
   "outputs": [],
   "source": [
    "import heapq\n",
    "class SmallestInfiniteSet:\n",
    "\n",
    "    def __init__(self):\n",
    "        self.heap = []\n",
    "        for m in range(1, 1001):\n",
    "            self.heap.append(m)\n",
    "        heapq.heapify(self.heap)\n",
    "\n",
    "    def popSmallest(self) -> int:\n",
    "        n = heapq.heappop(self.heap)\n",
    "        return n\n",
    "\n",
    "    def addBack(self, num: int) -> None:\n",
    "        if num not in self.heap:\n",
    "            heapq.heappush(self.heap, num)\n",
    "\n",
    "# Your SmallestInfiniteSet object will be instantiated and called as such:\n",
    "# obj = SmallestInfiniteSet()\n",
    "# param_1 = obj.popSmallest()\n",
    "# obj.addBack(num)"
   ]
  }
 ],
 "metadata": {
  "kernelspec": {
   "display_name": "Python 3",
   "language": "python",
   "name": "python3"
  },
  "language_info": {
   "codemirror_mode": {
    "name": "ipython",
    "version": 3
   },
   "file_extension": ".py",
   "mimetype": "text/x-python",
   "name": "python",
   "nbconvert_exporter": "python",
   "pygments_lexer": "ipython3",
   "version": "3.7.4"
  }
 },
 "nbformat": 4,
 "nbformat_minor": 4
}
