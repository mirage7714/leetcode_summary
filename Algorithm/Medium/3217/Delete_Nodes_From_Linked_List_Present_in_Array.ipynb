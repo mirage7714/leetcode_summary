{
 "cells": [
  {
   "cell_type": "markdown",
   "id": "c53646e3-548a-47f3-a49a-b1183932a90d",
   "metadata": {},
   "source": [
    "# 本題要將指定數值的node刪除 (\\#LinkedList )\n",
    "原題目連結: https://leetcode.com/problems/delete-nodes-from-linked-list-present-in-array/description/  \n",
    "\n",
    "You are given an array of integers nums and the head of a linked list. Return the head of the modified linked list after removing all nodes from the linked list that have a value that exists in nums.  \n",
    "\n",
    "範例:  \n",
    "Ex1:  \n",
    "Input: nums = [1,2,3], head = [1,2,3,4,5]  \n",
    "Output: [4,5]  \n",
    "Explanation:  \n",
    "Remove the nodes with values 1, 2, and 3.  \n",
    "\n",
    "Ex2:  \n",
    "Input: nums = [1], head = [1,2,1,2,1,2]  \n",
    "Output: [2,2,2]  \n",
    "Explanation:  \n",
    "Remove the nodes with value 1.  \n",
    "\n",
    "Ex3:  \n",
    "Input: nums = [5], head = [1,2,3,4]  \n",
    "Output: [1,2,3,4]  \n",
    "Explanation:  \n",
    "No node has value 5."
   ]
  },
  {
   "cell_type": "markdown",
   "id": "8f5285da-7e7e-4f35-ac57-af0ceb376877",
   "metadata": {},
   "source": [
    "* 解題想法:  \n",
    "首先用一個list來放不需要刪除的node，接著從頭開始檢查linked list中的node是否需要刪除，如果不需要刪除則放入list中，最後將list中的node重新組合就是答案"
   ]
  },
  {
   "cell_type": "code",
   "execution_count": null,
   "id": "e2a8c2aa-6157-49eb-b16e-85bea11c99f5",
   "metadata": {},
   "outputs": [],
   "source": [
    "# Definition for singly-linked list.\n",
    "# class ListNode:\n",
    "#     def __init__(self, val=0, next=None):\n",
    "#         self.val = val\n",
    "#         self.next = next\n",
    "class Solution:\n",
    "    def modifiedList(self, nums: List[int], head: Optional[ListNode]) -> Optional[ListNode]:\n",
    "        temp = head\n",
    "        res = ListNode()\n",
    "        r = res\n",
    "        stack = []\n",
    "        count = {i:1 for i in nums} \n",
    "        while temp: \n",
    "            n = temp.next\n",
    "            if temp.val not in count.keys():\n",
    "                temp.next = None\n",
    "                stack.append(temp)\n",
    "            temp = n\n",
    "        for s in stack:\n",
    "            r.next = s\n",
    "            r = r.next\n",
    "        return res.next"
   ]
  }
 ],
 "metadata": {
  "kernelspec": {
   "display_name": "Python 3 (ipykernel)",
   "language": "python",
   "name": "python3"
  },
  "language_info": {
   "codemirror_mode": {
    "name": "ipython",
    "version": 3
   },
   "file_extension": ".py",
   "mimetype": "text/x-python",
   "name": "python",
   "nbconvert_exporter": "python",
   "pygments_lexer": "ipython3",
   "version": "3.9.13"
  }
 },
 "nbformat": 4,
 "nbformat_minor": 5
}
