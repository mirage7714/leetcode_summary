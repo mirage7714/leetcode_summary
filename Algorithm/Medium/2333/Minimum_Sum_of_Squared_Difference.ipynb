{
 "cells": [
  {
   "cell_type": "markdown",
   "metadata": {},
   "source": [
    "# 本題要找出兩個list平方和最小為多少\n",
    "原題目連結: https://leetcode.com/problems/minimum-sum-of-squared-difference/  \n",
    "\n",
    "You are given two positive 0-indexed integer arrays nums1 and nums2, both of length n.  \n",
    "\n",
    "The sum of squared difference of arrays nums1 and nums2 is defined as the sum of (nums1[i] - nums2[i])2 for each 0 <= i < n.  \n",
    "You are also given two positive integers k1 and k2. You can modify any of the elements of nums1 by +1 or -1 at most k1 times. Similarly, you can modify any of the elements of nums2 by +1 or -1 at most k2 times.  \n",
    "Return the minimum sum of squared difference after modifying array nums1 at most k1 times and modifying array nums2 at most k2 times.  \n",
    " \n",
    "Note: You are allowed to modify the array elements to become negative integers.  \n",
    "\n",
    "範例:  \n",
    "Ex1:  \n",
    "Input: nums1 = [1,2,3,4], nums2 = [2,10,20,19], k1 = 0, k2 = 0  \n",
    "Output: 579  \n",
    "Explanation: The elements in nums1 and nums2 cannot be modified because k1 = 0 and k2 = 0.   \n",
    "The sum of square difference will be: (1 - 2)2 + (2 - 10)2 + (3 - 20)2 + (4 - 19)2 = 579.  \n",
    "\n",
    "Ex2:  \n",
    "Input: nums1 = [1,4,10,12], nums2 = [5,8,6,9], k1 = 1, k2 = 1  \n",
    "Output: 43  \n",
    "Explanation: One way to obtain the minimum sum of square difference is:   \n",
    "- Increase nums1[0] once.  \n",
    "- Increase nums2[2] once.  \n",
    "The minimum of the sum of square difference will be:   \n",
    "(2 - 5)2 + (4 - 8)2 + (10 - 7)2 + (12 - 9)2 = 43.  \n",
    "Note that, there are other ways to obtain the minimum of the sum of square difference, but there is no way to obtain a sum smaller than 43."
   ]
  },
  {
   "cell_type": "markdown",
   "metadata": {},
   "source": [
    "* 解題想法:  \n",
    "首先將兩個list之間的差值找出後放入另一個list中，並將這個list轉換成heapq，接著檢查這個list的總和是否大於k1+k2，如果小於的話則直接回傳0，如果大於的話，則開始取出最小值，並加上max(k除n的商數,1)後放回list中，最後將list中的數取出後進行平方取和"
   ]
  },
  {
   "cell_type": "code",
   "execution_count": null,
   "metadata": {},
   "outputs": [],
   "source": [
    "import heapq\n",
    "\n",
    "class Solution:\n",
    "    def minSumSquareDiff(self, nums1: List[int], nums2: List[int], k1: int, k2: int) -> int:\n",
    "        diff = []\n",
    "        k = k1 + k2\n",
    "        total = 0\n",
    "        result = 0\n",
    "        s = len(nums1)\n",
    "        for l in range(len(nums1)):\n",
    "            d = nums1[l] - nums2[l]\n",
    "            if d >0:\n",
    "                diff.append(-d)\n",
    "                total += d\n",
    "            else:\n",
    "                diff.append(d)\n",
    "                total -= d\n",
    "        if total > k: \n",
    "            heapq.heapify(diff)\n",
    "            while k > 0:\n",
    "                n = heapq.heappop(diff)\n",
    "                m = max(k//s, 1)\n",
    "                if n + m < 0:\n",
    "                    heapq.heappush(diff, n+m)\n",
    "                k -= m\n",
    "            for m in diff:\n",
    "                result += m * m\n",
    "        return result"
   ]
  }
 ],
 "metadata": {
  "kernelspec": {
   "display_name": "Python 3",
   "language": "python",
   "name": "python3"
  },
  "language_info": {
   "codemirror_mode": {
    "name": "ipython",
    "version": 3
   },
   "file_extension": ".py",
   "mimetype": "text/x-python",
   "name": "python",
   "nbconvert_exporter": "python",
   "pygments_lexer": "ipython3",
   "version": "3.7.4"
  }
 },
 "nbformat": 4,
 "nbformat_minor": 4
}
