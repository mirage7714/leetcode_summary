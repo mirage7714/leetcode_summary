{
 "cells": [
  {
   "cell_type": "markdown",
   "metadata": {},
   "source": [
    "# 本題要找出共有幾種不重複的排列(與46類似)\n",
    "原題目連結: https://leetcode.com/problems/permutations-ii/  \n",
    "\n",
    "Given a collection of numbers, nums, that might contain duplicates, return all possible unique permutations in any order.  \n",
    "\n",
    "範例:  \n",
    "Ex1:  \n",
    "Input: nums = [1,1,2]  \n",
    "Output:  \n",
    "[[1,1,2],  \n",
    " [1,2,1],  \n",
    " [2,1,1]]  \n",
    " \n",
    "Ex2:  \n",
    "Input: nums = [1,2,3]  \n",
    "Output: [[1,2,3],[1,3,2],[2,1,3],[2,3,1],[3,1,2],[3,2,1]] "
   ]
  },
  {
   "cell_type": "markdown",
   "metadata": {},
   "source": [
    "* 解題想法:  \n",
    "首先一樣先建立一個list用來存放每個走訪過的節點，接著開始走訪每個沒有走過的節點，直到建立了路徑與題目提供的list長度相同，此時需檢查此路徑是否已經有在結果的list中，如果有的話則跳過，最後回傳結果"
   ]
  },
  {
   "cell_type": "code",
   "execution_count": null,
   "metadata": {},
   "outputs": [],
   "source": [
    "class Solution:\n",
    "    def permuteUnique(self, nums: List[int]) -> List[List[int]]:\n",
    "        \n",
    "        def dfs(path):\n",
    "            if len(path) == len(nums):\n",
    "                if path not in result:\n",
    "                    result.append(path)\n",
    "            else:\n",
    "                for n in range(len(nums)):\n",
    "                    if not index[n]:\n",
    "                        index[n] = 1\n",
    "                        dfs(path + [nums[n]])\n",
    "                        index[n] = 0\n",
    "                \n",
    "        result = []\n",
    "        index = [0] * len(nums)\n",
    "        if len(nums) == 1:\n",
    "            result.append(nums)\n",
    "        else:\n",
    "            dfs([])\n",
    "        return result"
   ]
  }
 ],
 "metadata": {
  "kernelspec": {
   "display_name": "Python 3",
   "language": "python",
   "name": "python3"
  },
  "language_info": {
   "codemirror_mode": {
    "name": "ipython",
    "version": 3
   },
   "file_extension": ".py",
   "mimetype": "text/x-python",
   "name": "python",
   "nbconvert_exporter": "python",
   "pygments_lexer": "ipython3",
   "version": "3.7.4"
  }
 },
 "nbformat": 4,
 "nbformat_minor": 4
}
