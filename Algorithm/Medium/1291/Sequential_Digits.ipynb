{
 "cells": [
  {
   "cell_type": "markdown",
   "id": "caab5c37-7060-4d70-85e9-3565b2360702",
   "metadata": {},
   "source": [
    "# 本題要找出範圍內的所有連續數值的數字 (\\#Enumeration )\n",
    "原題目連結：https://leetcode.com/problems/sequential-digits/description/  \n",
    "\n",
    "An integer has sequential digits if and only if each digit in the number is one more than the previous digit.  \n",
    "Return a sorted list of all the integers in the range [low, high] inclusive that have sequential digits.  \n",
    "\n",
    "範例：  \n",
    "Ex1:  \n",
    "Input: low = 100, high = 300  \n",
    "Output: [123,234]  \n",
    "\n",
    "Ex2:  \n",
    "Input: low = 1000, high = 13000  \n",
    "Output: [1234,2345,3456,4567,5678,6789,12345]  "
   ]
  },
  {
   "cell_type": "markdown",
   "id": "f8e778ec-4d34-4df2-be84-27fb5e8ab6ec",
   "metadata": {},
   "source": [
    "* 解題想法：  \n",
    "首先找出最大與最小的位數，接著從該位數找出第一個連續的數字，如果當該數值是介於最大與最小值之間則加入list中，接著將該數值推進到下一個連續數值，最後回傳list作為答案"
   ]
  },
  {
   "cell_type": "code",
   "execution_count": null,
   "id": "2660c864-5bc3-4ff1-abe5-4ff6b51bc801",
   "metadata": {},
   "outputs": [],
   "source": [
    "class Solution:\n",
    "    def sequentialDigits(self, low: int, high: int) -> List[int]:\n",
    "        res = []\n",
    "        l = len(str(low))\n",
    "        h = len(str(high))\n",
    "        for i in range(l, h+1):\n",
    "            start = ''.join([str(m+1) for m in range(i)])\n",
    "            diff =  ''.join(['1' for m in range(i)])\n",
    "            while start[-1] != '0':\n",
    "                if int(start) >= low and int(start) <= high:\n",
    "                    res.append(int(start))\n",
    "                elif int(start) > high:\n",
    "                    break\n",
    "                start = str(int(start) + int(diff))\n",
    "        return res"
   ]
  }
 ],
 "metadata": {
  "kernelspec": {
   "display_name": "Python 3 (ipykernel)",
   "language": "python",
   "name": "python3"
  },
  "language_info": {
   "codemirror_mode": {
    "name": "ipython",
    "version": 3
   },
   "file_extension": ".py",
   "mimetype": "text/x-python",
   "name": "python",
   "nbconvert_exporter": "python",
   "pygments_lexer": "ipython3",
   "version": "3.10.9"
  }
 },
 "nbformat": 4,
 "nbformat_minor": 5
}
