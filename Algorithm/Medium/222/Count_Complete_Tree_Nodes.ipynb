{
 "cells": [
  {
   "cell_type": "markdown",
   "metadata": {},
   "source": [
    "# 本題要找出tree中共有多少個節點\n",
    "原題目連結: https://leetcode.com/problems/count-complete-tree-nodes/  \n",
    "\n",
    "Given the root of a complete binary tree, return the number of the nodes in the tree.  \n",
    "\n",
    "According to Wikipedia, every level, except possibly the last, is completely filled in a complete binary tree, and all nodes in the last level are as far left as possible. It can have between 1 and 2h nodes inclusive at the last level h.  \n",
    "\n",
    "Design an algorithm that runs in less than O(n) time complexity.  \n",
    "\n",
    "範例:  \n",
    "Ex1:  \n",
    "Input: root = [1,2,3,4,5,6]  \n",
    "Output: 6  \n",
    "\n",
    "Ex2: \n",
    "Input: root = []  \n",
    "Output: 0  \n",
    "\n",
    "Ex3:  \n",
    "Input: root = [1]  \n",
    "Output: 1"
   ]
  },
  {
   "cell_type": "markdown",
   "metadata": {},
   "source": [
    "* 解題想法:  \n",
    "找出樹中所有的節點，可以用BFS或是DFS都能完成，不過這邊用DFS的話效能會比較好，首先建立一個DFS的函數，接著開始走訪每個node並將數值放入list中，最後將list的長度回傳就是答案"
   ]
  },
  {
   "cell_type": "code",
   "execution_count": null,
   "metadata": {},
   "outputs": [],
   "source": [
    "# Definition for a binary tree node.\n",
    "# class TreeNode:\n",
    "#     def __init__(self, val=0, left=None, right=None):\n",
    "#         self.val = val\n",
    "#         self.left = left\n",
    "#         self.right = right\n",
    "class Solution:\n",
    "    def countNodes(self, root: Optional[TreeNode]) -> int:\n",
    "        def dfs(node):\n",
    "            if not node.left and not node.right:\n",
    "                res.append(node.val)\n",
    "                return\n",
    "            res.append(node.val)\n",
    "            if node.left:\n",
    "                dfs(node.left)\n",
    "            if node.right:\n",
    "                dfs(node.right)\n",
    "        res = []\n",
    "        if root:\n",
    "            dfs(root)\n",
    "        return len(res)"
   ]
  }
 ],
 "metadata": {
  "kernelspec": {
   "display_name": "Python 3",
   "language": "python",
   "name": "python3"
  },
  "language_info": {
   "codemirror_mode": {
    "name": "ipython",
    "version": 3
   },
   "file_extension": ".py",
   "mimetype": "text/x-python",
   "name": "python",
   "nbconvert_exporter": "python",
   "pygments_lexer": "ipython3",
   "version": "3.7.4"
  }
 },
 "nbformat": 4,
 "nbformat_minor": 4
}
