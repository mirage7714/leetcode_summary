{
 "cells": [
  {
   "cell_type": "markdown",
   "id": "468ae1f7-9224-47c5-9ebe-c13090b09c48",
   "metadata": {},
   "source": [
    "# 本題要找出最大的乘積為何 (\\#Array)\n",
    "原題目連結: https://leetcode.com/problems/maximum-strength-of-a-group/description/  \n",
    "\n",
    "You are given a 0-indexed integer array nums representing the score of students in an exam. The teacher would like to form one non-empty group of students with maximal strength, where the strength of a group of students of indices i0, i1, i2, ... , ik is defined as nums[i0] * nums[i1] * nums[i2] * ... * nums[ik​].  \n",
    "\n",
    "Return the maximum strength of a group the teacher can create.  \n",
    "\n",
    "範例:  \n",
    "Ex1:  \n",
    "Input: nums = [3,-1,-5,2,5,-9]  \n",
    "Output: 1350  \n",
    "Explanation: One way to form a group of maximal strength is to group the students at indices [0,2,3,4,5]. Their strength is 3 * (-5) * 2 * 5 * (-9) = 1350, which we can show is optimal.  \n",
    "\n",
    "Ex2:  \n",
    "Input: nums = [-4,-5,-4]  \n",
    "Output: 20  \n",
    "Explanation: Group the students at indices [0, 1] . Then, we’ll have a resulting strength of 20. We cannot achieve greater strength."
   ]
  },
  {
   "cell_type": "markdown",
   "id": "1b16b436-f68c-4757-80ee-7e08d678d32d",
   "metadata": {},
   "source": [
    "* 解題想法:  \n",
    "首先檢查list長度如果為1的情況，則直接回傳list中的唯一值，如果大於1則用一個list來儲存負數，正數的部分則直接相乘，最後檢查如果負數個數為偶數，則直接將所有負數乘上正數相乘和，如果為奇數則去掉最大的數值後將剩下的值乘上正數的乘積，另外如果都沒有正數，而負數也只有一個的情況，就代表list中有0，則將0作為答案回傳"
   ]
  },
  {
   "cell_type": "code",
   "execution_count": null,
   "id": "c4cc9dcb-a658-4c6f-abce-96eaefc7547f",
   "metadata": {},
   "outputs": [],
   "source": [
    "class Solution:\n",
    "    def maxStrength(self, nums: List[int]) -> int:\n",
    "        res = 1\n",
    "        m = []\n",
    "        p = 0\n",
    "        if len(nums) == 1:\n",
    "            return nums[0]\n",
    "        for n in nums:\n",
    "            if n < 0:\n",
    "                m.append(n)\n",
    "            elif n > 0:\n",
    "                res *= n\n",
    "                p += 1\n",
    "        if m:\n",
    "            if len(m) % 2 == 0:\n",
    "                for i in m:\n",
    "                    res *= i\n",
    "            else:\n",
    "                m.sort()\n",
    "                for i in range(len(m)-1):\n",
    "                    res *= m[i]\n",
    "        if p == 0 and len(m) < 2:\n",
    "            res = 0\n",
    "        return res"
   ]
  }
 ],
 "metadata": {
  "kernelspec": {
   "display_name": "Python 3 (ipykernel)",
   "language": "python",
   "name": "python3"
  },
  "language_info": {
   "codemirror_mode": {
    "name": "ipython",
    "version": 3
   },
   "file_extension": ".py",
   "mimetype": "text/x-python",
   "name": "python",
   "nbconvert_exporter": "python",
   "pygments_lexer": "ipython3",
   "version": "3.9.13"
  }
 },
 "nbformat": 4,
 "nbformat_minor": 5
}
