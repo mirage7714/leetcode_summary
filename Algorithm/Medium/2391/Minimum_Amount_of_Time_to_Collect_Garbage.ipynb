{
 "cells": [
  {
   "cell_type": "markdown",
   "metadata": {},
   "source": [
    "# 本題要找出最少的收垃圾時間為何\n",
    "原題目連結: https://leetcode.com/problems/minimum-amount-of-time-to-collect-garbage/  \n",
    "\n",
    "You are given a 0-indexed array of strings garbage where garbage[i] represents the assortment of garbage at the ith house. garbage[i] consists only of the characters 'M', 'P' and 'G' representing one unit of metal, paper and glass garbage respectively. Picking up one unit of any type of garbage takes 1 minute.  \n",
    "\n",
    "You are also given a 0-indexed integer array travel where travel[i] is the number of minutes needed to go from house i to house i + 1.  \n",
    "\n",
    "There are three garbage trucks in the city, each responsible for picking up one type of garbage. Each garbage truck starts at house 0 and must visit each house in order; however, they do not need to visit every house.  \n",
    "\n",
    "Only one garbage truck may be used at any given moment. While one truck is driving or picking up garbage, the other two trucks cannot do anything.  \n",
    "\n",
    "Return the minimum number of minutes needed to pick up all the garbage.  \n",
    "\n",
    "範例:  \n",
    "Ex1:  \n",
    "Input: garbage = [\"G\",\"P\",\"GP\",\"GG\"], travel = [2,4,3]  \n",
    "Output: 21  \n",
    "Explanation:  \n",
    "The paper garbage truck:  \n",
    "1. Travels from house 0 to house 1  \n",
    "2. Collects the paper garbage at house 1  \n",
    "3. Travels from house 1 to house 2  \n",
    "4. Collects the paper garbage at house 2  \n",
    "Altogether, it takes 8 minutes to pick up all the paper garbage.  \n",
    "The glass garbage truck:  \n",
    "1. Collects the glass garbage at house 0  \n",
    "2. Travels from house 0 to house 1  \n",
    "3. Travels from house 1 to house 2  \n",
    "4. Collects the glass garbage at house 2  \n",
    "5. Travels from house 2 to house 3  \n",
    "6. Collects the glass garbage at house 3  \n",
    "Altogether, it takes 13 minutes to pick up all the glass garbage.  \n",
    "Since there is no metal garbage, we do not need to consider the metal garbage truck.  \n",
    "Therefore, it takes a total of 8 + 13 = 21 minutes to collect all the garbage.  \n",
    "\n",
    "Ex2:  \n",
    "Input: garbage = [\"MMM\",\"PGM\",\"GP\"], travel = [3,10]  \n",
    "Output: 37  \n",
    "Explanation:  \n",
    "The metal garbage truck takes 7 minutes to pick up all the metal garbage.  \n",
    "The paper garbage truck takes 15 minutes to pick up all the paper garbage.  \n",
    "The glass garbage truck takes 15 minutes to pick up all the glass garbage.  \n",
    "It takes a total of 7 + 15 + 15 = 37 minutes to collect all the garbage."
   ]
  },
  {
   "cell_type": "markdown",
   "metadata": {},
   "source": [
    "* 解題想法:  \n",
    "觀察之後可以發現: 首先收垃圾的時間為garbage[n]的長度，另外交通時間取決於總共有多少總類的垃圾，因此從最後面開始計算出現的垃圾總類，並用一個list來存放，接著檢查是否有新種類的垃圾出現如果有的話則放入list中，另外交通時間的部分則是用list長度乘上交通時間，就是該段所需要總共的交通時間，最後回傳時間的總和就是答案"
   ]
  },
  {
   "cell_type": "code",
   "execution_count": null,
   "metadata": {},
   "outputs": [],
   "source": [
    "class Solution:\n",
    "    def garbageCollection(self, garbage: List[str], travel: List[int]) -> int:\n",
    "        total = 0\n",
    "        cat = []\n",
    "        for g in range(len(garbage)-1, 0, -1):\n",
    "            total += len(garbage[g])\n",
    "            if len(cat) < 3:\n",
    "                for l in garbage[g]:\n",
    "                    if l not in cat:\n",
    "                        cat.append(l)\n",
    "            total += len(cat) * travel[g-1]\n",
    "        total += len(garbage[0])\n",
    "        return total"
   ]
  }
 ],
 "metadata": {
  "kernelspec": {
   "display_name": "Python 3",
   "language": "python",
   "name": "python3"
  },
  "language_info": {
   "codemirror_mode": {
    "name": "ipython",
    "version": 3
   },
   "file_extension": ".py",
   "mimetype": "text/x-python",
   "name": "python",
   "nbconvert_exporter": "python",
   "pygments_lexer": "ipython3",
   "version": "3.7.4"
  }
 },
 "nbformat": 4,
 "nbformat_minor": 4
}
