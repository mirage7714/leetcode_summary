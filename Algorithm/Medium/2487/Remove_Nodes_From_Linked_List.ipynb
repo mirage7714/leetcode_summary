{
 "cells": [
  {
   "cell_type": "markdown",
   "metadata": {},
   "source": [
    "# 本題要將右側的值大於左側值的節點進行移除 (\\#LinkedList)\n",
    "原題目連結: https://leetcode.com/problems/remove-nodes-from-linked-list/description/  \n",
    "\n",
    "You are given the head of a linked list.  \n",
    "Remove every node which has a node with a strictly greater value anywhere to the right side of it.  \n",
    "Return the head of the modified linked list.  \n",
    "\n",
    "範例:  \n",
    "Ex1:  \n",
    "Input: head = [5,2,13,3,8]  \n",
    "Output: [13,8]  \n",
    "Explanation: The nodes that should be removed are 5, 2 and 3.  \n",
    "- Node 13 is to the right of node 5.  \n",
    "- Node 13 is to the right of node 2.  \n",
    "- Node 8 is to the right of node 3.  \n",
    "\n",
    "Ex2:  \n",
    "Input: head = [1,1,1,1]  \n",
    "Output: [1,1,1,1]  \n",
    "Explanation: Every node has value 1, so no nodes are removed."
   ]
  },
  {
   "cell_type": "markdown",
   "metadata": {},
   "source": [
    "* 解題想法:  \n",
    "首先將linked list中的數值取出後放入一個list，接著從最後面開始重新組合linked list，當目前linked list的數值小於或等於目前list中數值的時候，則將該數值加入linked list中，最後回傳新的linked list"
   ]
  },
  {
   "cell_type": "code",
   "execution_count": null,
   "metadata": {},
   "outputs": [],
   "source": [
    "# Definition for singly-linked list.\n",
    "# class ListNode:\n",
    "#     def __init__(self, val=0, next=None):\n",
    "#         self.val = val\n",
    "#         self.next = next\n",
    "class Solution:\n",
    "    def removeNodes(self, head: Optional[ListNode]) -> Optional[ListNode]:\n",
    "        temp = head\n",
    "        val = []\n",
    "        while temp:\n",
    "            val.append(temp.val)\n",
    "            temp = temp.next\n",
    "        res = []\n",
    "        for m in range(len(val)-1, -1, -1):\n",
    "            if not res or res[-1].val <= val[m]: \n",
    "                n = ListNode()\n",
    "                n.val = val[m]\n",
    "                if res:\n",
    "                    n.next = res[-1]\n",
    "                res.append(n)\n",
    "        return res[-1]"
   ]
  }
 ],
 "metadata": {
  "kernelspec": {
   "display_name": "Python 3",
   "language": "python",
   "name": "python3"
  },
  "language_info": {
   "codemirror_mode": {
    "name": "ipython",
    "version": 3
   },
   "file_extension": ".py",
   "mimetype": "text/x-python",
   "name": "python",
   "nbconvert_exporter": "python",
   "pygments_lexer": "ipython3",
   "version": "3.6.4"
  }
 },
 "nbformat": 4,
 "nbformat_minor": 2
}
