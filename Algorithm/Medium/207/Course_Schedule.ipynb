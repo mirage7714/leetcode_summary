{
 "cells": [
  {
   "cell_type": "markdown",
   "metadata": {},
   "source": [
    "# 本題要找出課程的安排是否有可能把所有的課都上完\n",
    "原題目連結: https://leetcode.com/problems/course-schedule/  \n",
    "\n",
    "There are a total of numCourses courses you have to take, labeled from 0 to numCourses - 1. You are given an array prerequisites where prerequisites[i] = [ai, bi] indicates that you must take course bi first if you want to take course ai.  \n",
    "\n",
    "For example, the pair [0, 1], indicates that to take course 0 you have to first take course 1.  \n",
    "Return true if you can finish all courses. Otherwise, return false.  \n",
    "\n",
    "範例:  \n",
    "Ex1:    \n",
    "Input: numCourses = 2, prerequisites = [[1,0]]  \n",
    "Output: true  \n",
    "Explanation: There are a total of 2 courses to take.   \n",
    "To take course 1 you should have finished course 0. So it is possible.    \n",
    "\n",
    "Ex2:  \n",
    "Input: numCourses = 2, prerequisites = [[1,0],[0,1]]  \n",
    "Output: false  \n",
    "Explanation: There are a total of 2 courses to take.   \n",
    "To take course 1 you should have finished course 0, and to take course 0 you should also have finished course 1. So it is impossible."
   ]
  },
  {
   "cell_type": "markdown",
   "metadata": {},
   "source": [
    "* 解題想法:  \n",
    "首先將課程的需求先轉成一個dict，接著用DFS的方式開始走訪所有課程: 如果該課程還沒參加過，狀態先列為0，進行走訪時，狀態則修改為1，結束後狀態為2，接著開始從dict中取key出來檢查，如果當所有先修課程有一門狀態為1，則代表這門課無法順利修完，並回傳False，另外如果有先修課程雖然狀態為0，但已經確定無法修完，則也回傳False，直到所有課程都可以順利上完，則回傳True"
   ]
  },
  {
   "cell_type": "code",
   "execution_count": null,
   "metadata": {},
   "outputs": [],
   "source": [
    "class Solution:\n",
    "    def canFinish(self, numCourses: int, prerequisites: List[List[int]]) -> bool:\n",
    "        def dfs(course, start):\n",
    "            courseState[start] = 1\n",
    "            if start in course.keys():\n",
    "                for key in course[start]:\n",
    "                    if courseState[key] == 1:\n",
    "                        return False\n",
    "                    elif courseState[key] == 0 and not dfs(course, key):\n",
    "                        return False\n",
    "            courseState[start] = 2\n",
    "            return True\n",
    "        \n",
    "        course = {}\n",
    "        courseState = {i : 0 for i in range(numCourses)}    \n",
    "        if prerequisites:\n",
    "            for p in prerequisites:\n",
    "                if p[0] == p[1]:\n",
    "                    return False\n",
    "                if p[0] not in course.keys():\n",
    "                    course[p[0]] = [p[1]]\n",
    "                else: \n",
    "                    course[p[0]].append(p[1])\n",
    "            for key in course.keys():\n",
    "                if not dfs(course, key):\n",
    "                    return False\n",
    "        return True"
   ]
  }
 ],
 "metadata": {
  "kernelspec": {
   "display_name": "Python 3",
   "language": "python",
   "name": "python3"
  },
  "language_info": {
   "codemirror_mode": {
    "name": "ipython",
    "version": 3
   },
   "file_extension": ".py",
   "mimetype": "text/x-python",
   "name": "python",
   "nbconvert_exporter": "python",
   "pygments_lexer": "ipython3",
   "version": "3.7.4"
  }
 },
 "nbformat": 4,
 "nbformat_minor": 4
}
