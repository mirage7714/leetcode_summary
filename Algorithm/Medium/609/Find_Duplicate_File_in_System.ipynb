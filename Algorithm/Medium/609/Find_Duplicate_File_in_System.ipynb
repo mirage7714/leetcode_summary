{
 "cells": [
  {
   "cell_type": "markdown",
   "metadata": {},
   "source": [
    "# 本題要找出有多少重複的內容在不同的檔案內\n",
    "原題目連結: https://leetcode.com/problems/find-duplicate-file-in-system/  \n",
    "\n",
    "Given a list of directory info including directory path, and all the files with contents in this directory, you need to find out all the groups of duplicate files in the file system in terms of their paths.  \n",
    "\n",
    "A group of duplicate files consists of at least two files that have exactly the same content.  \n",
    "\n",
    "A single directory info string in the input list has the following format:  \n",
    "\n",
    "\"root/d1/d2/.../dm f1.txt(f1_content) f2.txt(f2_content) ... fn.txt(fn_content)\"  \n",
    "\n",
    "It means there are n files (f1.txt, f2.txt ... fn.txt with content f1_content, f2_content ... fn_content, respectively) in directory root/d1/d2/.../dm. Note that n >= 1 and m >= 0. If m = 0, it means the directory is just the root directory.  \n",
    "\n",
    "The output is a list of group of duplicate file paths. For each group, it contains all the file paths of the files that have the same content. A file path is a string that has the following format:  \n",
    " \n",
    "\"directory_path/file_name.txt\"  \n",
    "\n",
    "範例:  \n",
    "Ex1:  \n",
    "Input:  \n",
    "[\"root/a 1.txt(abcd) 2.txt(efgh)\", \"root/c 3.txt(abcd)\", \"root/c/d 4.txt(efgh)\", \"root 4.txt(efgh)\"]  \n",
    "Output:    \n",
    "[[\"root/a/2.txt\",\"root/c/d/4.txt\",\"root/4.txt\"],[\"root/a/1.txt\",\"root/c/3.txt\"]]  "
   ]
  },
  {
   "cell_type": "markdown",
   "metadata": {},
   "source": [
    "* 解題想法:  \n",
    "在題目提供的list中，可以看到第一部分是檔案的路徑，後面則是檔案名稱與檔案內容，題目要求的是檔案內容有重複的部分與檔案名稱  \n",
    "因此先分解出檔案內容與檔案名稱，並將結果用一個dict進行存放，其中key是用內容，而value則是用檔案路徑的list  \n",
    "最後判斷檔案路徑的list長度是否有大於1，有的話代表內容有重複，否則就是沒有"
   ]
  },
  {
   "cell_type": "code",
   "execution_count": null,
   "metadata": {},
   "outputs": [],
   "source": [
    "class Solution:\n",
    "    def findDuplicate(self, paths: List[str]) -> List[List[str]]:\n",
    "        freq = {}\n",
    "        result = []\n",
    "        for path in paths:\n",
    "            parts = path.split(' ')\n",
    "            for p in range(1, len(parts)):\n",
    "                cont = parts[p].split('(')[1].replace(')','')\n",
    "                name = parts[0]+'/' + parts[p].split('(')[0]\n",
    "                if cont not in freq.keys():\n",
    "                    freq[cont] = [name]\n",
    "                else:\n",
    "                    freq[cont].append(name)\n",
    "        for key in freq.keys():\n",
    "            if len(freq[key]) > 1:\n",
    "                result.append(freq[key])\n",
    "        return result"
   ]
  }
 ],
 "metadata": {
  "kernelspec": {
   "display_name": "Python 3",
   "language": "python",
   "name": "python3"
  },
  "language_info": {
   "codemirror_mode": {
    "name": "ipython",
    "version": 3
   },
   "file_extension": ".py",
   "mimetype": "text/x-python",
   "name": "python",
   "nbconvert_exporter": "python",
   "pygments_lexer": "ipython3",
   "version": "3.7.4"
  }
 },
 "nbformat": 4,
 "nbformat_minor": 2
}
