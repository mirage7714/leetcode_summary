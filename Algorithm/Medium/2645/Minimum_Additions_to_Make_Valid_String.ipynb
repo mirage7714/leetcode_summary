{
 "cells": [
  {
   "cell_type": "markdown",
   "metadata": {},
   "source": [
    "# 本題要找出最少要增加多少個字串才能完成完整的字串 (\\#String)\n",
    "原題目連結: https://leetcode.com/problems/minimum-additions-to-make-valid-string/description/  \n",
    "\n",
    "Given a string word to which you can insert letters \"a\", \"b\" or \"c\" anywhere and any number of times, return the minimum number of letters that must be inserted so that word becomes valid.  \n",
    "A string is called valid if it can be formed by concatenating the string \"abc\" several times.  \n",
    "\n",
    "範例:  \n",
    "Ex1:  \n",
    "Input: word = \"b\"  \n",
    "Output: 2  \n",
    "Explanation: Insert the letter \"a\" right before \"b\", and the letter \"c\" right next to \"a\" to obtain the valid string \"abc\".  \n",
    "\n",
    "Ex2:  \n",
    "Input: word = \"aaa\"   \n",
    "Output: 6  \n",
    "Explanation: Insert letters \"b\" and \"c\" next to each \"a\" to obtain the valid string \"abcabcabc\".  \n",
    "\n",
    "Ex3:  \n",
    "Input: word = \"abc\"  \n",
    "Output: 0  \n",
    "Explanation: word is already valid. No modifications are needed. "
   ]
  },
  {
   "cell_type": "markdown",
   "metadata": {},
   "source": [
    "* 解題想法:  \n",
    "首先用一個list作為暫存，並用一個變數來計算目前共需要新增多少的字母，接著從頭開始進行檢查，當暫存為空的時後則將字母放入暫存中，如果當字母小於暫存的最後一個字母時則清空暫存並將需要加入的字母數量加到結果中，最後回傳計算的結果"
   ]
  },
  {
   "cell_type": "code",
   "execution_count": null,
   "metadata": {},
   "outputs": [],
   "source": [
    "class Solution:\n",
    "    def addMinimum(self, word: str) -> int:\n",
    "        res = 0\n",
    "        temp = []\n",
    "        for m in word:\n",
    "            if not temp:\n",
    "                temp.append(m)\n",
    "            else:\n",
    "                if m > temp[-1]:\n",
    "                    temp.append(m)\n",
    "                else:\n",
    "                    res += 3 - len(temp)\n",
    "                    temp.clear()\n",
    "                    temp.append(m)\n",
    "        res += 3 - len(temp)\n",
    "        return res"
   ]
  }
 ],
 "metadata": {
  "kernelspec": {
   "display_name": "Python 3",
   "language": "python",
   "name": "python3"
  },
  "language_info": {
   "codemirror_mode": {
    "name": "ipython",
    "version": 3
   },
   "file_extension": ".py",
   "mimetype": "text/x-python",
   "name": "python",
   "nbconvert_exporter": "python",
   "pygments_lexer": "ipython3",
   "version": "3.7.6"
  }
 },
 "nbformat": 4,
 "nbformat_minor": 4
}
