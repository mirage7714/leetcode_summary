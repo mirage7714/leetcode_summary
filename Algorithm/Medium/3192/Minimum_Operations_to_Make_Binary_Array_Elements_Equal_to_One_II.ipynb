{
 "cells": [
  {
   "cell_type": "markdown",
   "id": "5ed90c57-a8ad-4acf-a3be-506a9ae83939",
   "metadata": {},
   "source": [
    "# 本題要找出最少需要翻轉幾次才能把list中的數值全部翻轉成1 (\\#Array, \\#SlidingWindows )\n",
    "原題目連結：https://leetcode.com/problems/minimum-operations-to-make-binary-array-elements-equal-to-one-ii/description/  \n",
    "\n",
    "You are given a binary array nums.  \n",
    "You can do the following operation on the array any number of times (possibly zero):  \n",
    "Choose any index i from the array and flip all the elements from index i to the end of the array.  \n",
    "Flipping an element means changing its value from 0 to 1, and from 1 to 0.  \n",
    "Return the minimum number of operations required to make all elements in nums equal to 1.  \n",
    "\n",
    "範例：  \n",
    "Ex1:  \n",
    "Input: nums = [0,1,1,0,1]  \n",
    "Output: 4  \n",
    "Explanation:  \n",
    "We can do the following operations:  \n",
    "Choose the index i = 1. The resulting array will be nums = [0,0,0,1,0].  \n",
    "Choose the index i = 0. The resulting array will be nums = [1,1,1,0,1].  \n",
    "Choose the index i = 4. The resulting array will be nums = [1,1,1,0,0].  \n",
    "Choose the index i = 3. The resulting array will be nums = [1,1,1,1,1].  \n",
    "\n",
    "Ex2:  \n",
    "Input: nums = [1,0,0,0]  \n",
    "Output: 1  \n",
    "Explanation:  \n",
    "We can do the following operation:  \n",
    "Choose the index i = 1. The resulting array will be nums = [1,1,1,1]."
   ]
  },
  {
   "cell_type": "markdown",
   "id": "d4d8e53f-d58b-4ea3-a610-4837f4f461a7",
   "metadata": {},
   "source": [
    "* 解題想法：  \n",
    "首先用一個bool來記錄翻轉的狀態，接著用迴圈開始檢查，如果該數值為1且需要翻轉的情況則將結果+1並更改翻轉狀態，或是數值為0且不需要翻轉時則需要將結果+1且更改翻轉狀態，最後回傳統計結果"
   ]
  },
  {
   "cell_type": "code",
   "execution_count": null,
   "id": "3f17a8d3-3559-49c6-a872-586bda20a32a",
   "metadata": {},
   "outputs": [],
   "source": [
    "class Solution:\n",
    "    def minOperations(self, nums: List[int]) -> int:\n",
    "        res = 0\n",
    "        is_reverse = False\n",
    "        for n in nums:\n",
    "            if n == 1:\n",
    "                if is_reverse:\n",
    "                    res += 1\n",
    "                    is_reverse = False\n",
    "            else:\n",
    "                if not is_reverse:\n",
    "                    res += 1\n",
    "                    is_reverse = True\n",
    "        return res"
   ]
  }
 ],
 "metadata": {
  "kernelspec": {
   "display_name": "Python 3 (ipykernel)",
   "language": "python",
   "name": "python3"
  },
  "language_info": {
   "codemirror_mode": {
    "name": "ipython",
    "version": 3
   },
   "file_extension": ".py",
   "mimetype": "text/x-python",
   "name": "python",
   "nbconvert_exporter": "python",
   "pygments_lexer": "ipython3",
   "version": "3.10.9"
  }
 },
 "nbformat": 4,
 "nbformat_minor": 5
}
