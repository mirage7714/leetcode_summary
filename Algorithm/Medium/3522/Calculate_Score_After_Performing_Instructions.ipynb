{
 "cells": [
  {
   "cell_type": "markdown",
   "id": "a0cad9fc-7633-4450-9528-6fd9701605ea",
   "metadata": {},
   "source": [
    "# 本題要找出最後的分數是多少 (\\#Array, \\#Simulation, \\#String )\n",
    "原題目連結: https://leetcode.com/problems/calculate-score-after-performing-instructions/description/  \n",
    "\n",
    "You are given two arrays, instructions and values, both of size n.  \n",
    "You need to simulate a process based on the following rules:  \n",
    "You start at the first instruction at index i = 0 with an initial score of 0.  \n",
    "If instructions[i] is \"add\":  \n",
    "Add values[i] to your score.  \n",
    "Move to the next instruction (i + 1).  \n",
    "If instructions[i] is \"jump\":  \n",
    "Move to the instruction at index (i + values[i]) without modifying your score.  \n",
    "The process ends when you either:  \n",
    "\n",
    "Go out of bounds (i.e., i < 0 or i >= n), or  \n",
    "Attempt to revisit an instruction that has been previously executed. The revisited instruction is not executed.  \n",
    "Return your score at the end of the process.  \n",
    "\n",
    "範例:  \n",
    "EX1:  \n",
    "Input: instructions = [\"jump\",\"add\",\"add\",\"jump\",\"add\",\"jump\"], values = [2,1,3,1,-2,-3]  \n",
    "Output: 1  \n",
    "Explanation:  \n",
    "Simulate the process starting at instruction 0:  \n",
    "At index 0: Instruction is \"jump\", move to index 0 + 2 = 2.  \n",
    "At index 2: Instruction is \"add\", add values[2] = 3 to your score and move to index 3. Your score becomes 3.  \n",
    "At index 3: Instruction is \"jump\", move to index 3 + 1 = 4.  \n",
    "At index 4: Instruction is \"add\", add values[4] = -2 to your score and move to index 5. Your score becomes 1.  \n",
    "At index 5: Instruction is \"jump\", move to index 5 + (-3) = 2.  \n",
    "At index 2: Already visited. The process ends.  \n",
    "\n",
    "Ex2:  \n",
    "Input: instructions = [\"jump\",\"add\",\"add\"], values = [3,1,1]  \n",
    "Output: 0  \n",
    "Explanation:  \n",
    "Simulate the process starting at instruction 0:  \n",
    "At index 0: Instruction is \"jump\", move to index 0 + 3 = 3.  \n",
    "At index 3: Out of bounds. The process ends.  \n",
    "\n",
    "Ex3:  \n",
    "Input: instructions = [\"jump\"], values = [0]  \n",
    "Output: 0  \n",
    "Explanation:  \n",
    "Simulate the process starting at instruction 0:  \n",
    "At index 0: Instruction is \"jump\", move to index 0 + 0 = 0.  \n",
    "At index 0: Already visited. The process ends."
   ]
  },
  {
   "cell_type": "markdown",
   "id": "73065f9b-3935-4925-9578-4bc59af07790",
   "metadata": {},
   "source": [
    "* 解題想法:  \n",
    "首先用一個set來存放已經走過的位置，並用一個變數來計算目前的分數，接著用while迴圈來進行移動，如果該點位已經到達過或是超出範圍則中止迴圈，接著判斷是需要進行加分還是移動，如果移動則更新目前位置，如果是加分則加上分數之後移動到下一個位置，最後回傳分數就是答案"
   ]
  },
  {
   "cell_type": "code",
   "execution_count": null,
   "id": "2d4387f1-fd10-4ab9-bf71-a7e39ab3b9e3",
   "metadata": {},
   "outputs": [],
   "source": [
    "class Solution:\n",
    "    def calculateScore(self, instructions: List[str], values: List[int]) -> int:\n",
    "        res = 0\n",
    "        index = 0\n",
    "        steps = set()\n",
    "        while True: \n",
    "            if index < 0 or index >= len(values) or index in steps:\n",
    "                break\n",
    "            steps.add(index)\n",
    "            if instructions[index] == 'jump':\n",
    "                index += values[index]\n",
    "            else:\n",
    "                res += values[index]\n",
    "                index += 1\n",
    "        return res"
   ]
  }
 ],
 "metadata": {
  "kernelspec": {
   "display_name": "Python 3 (ipykernel)",
   "language": "python",
   "name": "python3"
  },
  "language_info": {
   "codemirror_mode": {
    "name": "ipython",
    "version": 3
   },
   "file_extension": ".py",
   "mimetype": "text/x-python",
   "name": "python",
   "nbconvert_exporter": "python",
   "pygments_lexer": "ipython3",
   "version": "3.9.13"
  }
 },
 "nbformat": 4,
 "nbformat_minor": 5
}
