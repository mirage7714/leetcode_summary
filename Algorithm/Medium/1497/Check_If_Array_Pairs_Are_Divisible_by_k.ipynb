{
 "cells": [
  {
   "cell_type": "markdown",
   "id": "e55ae77a-5e00-49d4-ac2c-e1e0361de494",
   "metadata": {},
   "source": [
    "# 本題要判斷list中所有的數字是否可成對被k整除 (\\#Array, \\#HashMap )\n",
    "原題目連結: https://leetcode.com/problems/check-if-array-pairs-are-divisible-by-k/description/?envType=daily-question&envId=2024-10-01  \n",
    "\n",
    "Given an array of integers arr of even length n and an integer k.  \n",
    "We want to divide the array into exactly n / 2 pairs such that the sum of each pair is divisible by k.  \n",
    "Return true If you can find a way to do that or false otherwise.  \n",
    "\n",
    "範例:  \n",
    "Ex1:  \n",
    "Input: arr = [1,2,3,4,5,10,6,7,8,9], k = 5  \n",
    "Output: true  \n",
    "Explanation: Pairs are (1,9),(2,8),(3,7),(4,6) and (5,10).  \n",
    "\n",
    "Ex2:  \n",
    "Input: arr = [1,2,3,4,5,6], k = 7  \n",
    "Output: true  \n",
    "Explanation: Pairs are (1,6),(2,5) and(3,4).  \n",
    "\n",
    "Ex3:  \n",
    "Input: arr = [1,2,3,4,5,6], k = 10  \n",
    "Output: false  \n",
    "Explanation: You can try all possible pairs to see that there is no way to divide arr into 3 pairs each with sum divisible by 10."
   ]
  },
  {
   "cell_type": "markdown",
   "id": "98eb8df0-75d3-49ba-b87a-6c4605cb1beb",
   "metadata": {},
   "source": [
    "* 解題想法:  \n",
    "首先將所有的數字除k後放入dict中，接著從dict中找出成對的組合是否存在，如果不存在則回傳False，如果都可以組成對則回傳True"
   ]
  },
  {
   "cell_type": "code",
   "execution_count": null,
   "id": "f9e74b2b-0aa8-4d2a-8a05-1fe8a218d801",
   "metadata": {},
   "outputs": [],
   "source": [
    "class Solution:\n",
    "    def canArrange(self, arr: List[int], k: int) -> bool:\n",
    "        count = {}\n",
    "        for a in arr:\n",
    "            n = a % k\n",
    "            if n not in count.keys():\n",
    "                count[n] = 0\n",
    "            count[n] += 1\n",
    "        for key, val in count.items():\n",
    "            if key != 0: \n",
    "                if k - key not in count.keys():\n",
    "                    return False\n",
    "                elif count[k-key] != val:\n",
    "                    return False\n",
    "            else:\n",
    "                if val % 2 != 0:\n",
    "                    return False\n",
    "        return True"
   ]
  }
 ],
 "metadata": {
  "kernelspec": {
   "display_name": "Python 3 (ipykernel)",
   "language": "python",
   "name": "python3"
  },
  "language_info": {
   "codemirror_mode": {
    "name": "ipython",
    "version": 3
   },
   "file_extension": ".py",
   "mimetype": "text/x-python",
   "name": "python",
   "nbconvert_exporter": "python",
   "pygments_lexer": "ipython3",
   "version": "3.9.13"
  }
 },
 "nbformat": 4,
 "nbformat_minor": 5
}
