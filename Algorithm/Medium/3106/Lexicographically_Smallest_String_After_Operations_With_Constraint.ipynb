{
 "cells": [
  {
   "cell_type": "markdown",
   "id": "b407babf-e6f2-4cde-9bed-e61b50fae837",
   "metadata": {},
   "source": [
    "# 本題要找出最小順序的字串為何 (\\#String )\n",
    "原題目連結：https://leetcode.com/problems/lexicographically-smallest-string-after-operations-with-constraint/  \n",
    "\n",
    "You are given a string s and an integer k.  \n",
    "Define a function distance(s1, s2) between two strings s1 and s2 of the same length n as:  \n",
    "The sum of the minimum distance between s1[i] and s2[i] when the characters from 'a' to 'z' are placed in a cyclic order, for all i in the range [0, n - 1].  \n",
    "For example, distance(\"ab\", \"cd\") == 4, and distance(\"a\", \"z\") == 1.  \n",
    "You can change any letter of s to any other lowercase English letter, any number of times.  \n",
    "Return a string denoting the lexicographically smallest string t you can get after some changes, such that distance(s, t) <= k.  \n",
    "\n",
    "範例：  \n",
    "Ex1:  \n",
    "Input: s = \"zbbz\", k = 3  \n",
    "Output: \"aaaz\"  \n",
    "Explanation:  \n",
    "Change s to \"aaaz\". The distance between \"zbbz\" and \"aaaz\" is equal to k = 3.  \n",
    "\n",
    "Ex2:  \n",
    "Input: s = \"xaxcd\", k = 4  \n",
    "Output: \"aawcd\"  \n",
    "Explanation:  \n",
    "The distance between \"xaxcd\" and \"aawcd\" is equal to k = 4.  \n",
    "\n",
    "Ex3:  \n",
    "Input: s = \"lol\", k = 0  \n",
    "Output: \"lol\"  \n",
    "Explanation:  \n",
    "It's impossible to change any character as k = 0."
   ]
  },
  {
   "cell_type": "markdown",
   "id": "94081968-e74b-4eb2-b9d0-5491c1400d70",
   "metadata": {},
   "source": [
    "* 解題想法：  \n",
    "首先找出該字母與a的最短距離為多少，如果目前的k值大於或等於該數值，則更新該字母為A，如果小於的情況則更新該字母為最小的情境，最後回傳更新後的字串就是答案"
   ]
  },
  {
   "cell_type": "code",
   "execution_count": null,
   "id": "ec744767-2553-4f9e-b635-d9e89c733505",
   "metadata": {},
   "outputs": [],
   "source": [
    "class Solution:\n",
    "    def getSmallestString(self, s: str, k: int) -> str:\n",
    "        res = [i for i in s]\n",
    "        for r in range(len(res)):\n",
    "            i = res[r]\n",
    "            if i != 'a':\n",
    "                d = min(ord(i) - ord('a'), ord('z') - ord(i) + 1)\n",
    "                if k >= d:\n",
    "                    k -= d\n",
    "                    res[r] = 'a'\n",
    "                else:\n",
    "                    i = chr(ord(i) - k)\n",
    "                    res[r] = i\n",
    "                    k = 0\n",
    "                    break\n",
    "        return ''.join(res)"
   ]
  }
 ],
 "metadata": {
  "kernelspec": {
   "display_name": "Python 3 (ipykernel)",
   "language": "python",
   "name": "python3"
  },
  "language_info": {
   "codemirror_mode": {
    "name": "ipython",
    "version": 3
   },
   "file_extension": ".py",
   "mimetype": "text/x-python",
   "name": "python",
   "nbconvert_exporter": "python",
   "pygments_lexer": "ipython3",
   "version": "3.10.9"
  }
 },
 "nbformat": 4,
 "nbformat_minor": 5
}
