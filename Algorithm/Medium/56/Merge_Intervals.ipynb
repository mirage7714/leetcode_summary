{
 "cells": [
  {
   "cell_type": "markdown",
   "metadata": {},
   "source": [
    "# 本題要將list中範圍有重疊的元素進行重整\n",
    "原題目連結: https://leetcode.com/problems/merge-intervals/  \n",
    "\n",
    "Given an array of intervals where intervals[i] = [starti, endi], merge all overlapping intervals, and return an array of the non-overlapping intervals that cover all the intervals in the input.  \n",
    "\n",
    "範例:  \n",
    "Ex1:　\n",
    "Input: intervals = [[1,3],[2,6],[8,10],[15,18]]　　\n",
    "Output: [[1,6],[8,10],[15,18]]　　\n",
    "Explanation: Since intervals [1,3] and [2,6] overlaps, merge them into [1,6].　　\n",
    "\n",
    "Ex2:  \n",
    "Input: intervals = [[1,4],[4,5]]  \n",
    "Output: [[1,5]]  \n",
    "Explanation: Intervals [1,4] and [4,5] are considered overlapping."
   ]
  },
  {
   "cell_type": "markdown",
   "metadata": {},
   "source": [
    "* 解題想法:  \n",
    "依題目說明，需要檢查list中每個sub list是否有跟其他的list範圍重疊，因此有以下的步驟:  \n",
    "  - 先對原本的list進行排序，接著建立一個暫存list(t)以及暫存的最大值(t_max)  \n",
    "  - 逐一對每個sub list進行檢查，如果下一個sub list的第一個數字小於或等於t_max，則將sub list的第二個數字與t_max比較後將最大值更新到t_max  \n",
    "  - 如果sub list的第一個數字大於t_max，則將前一組的[t[0],t_max]加入結果的list(result)中，並將t與t_max更新  \n",
    "  - 將最後一組的[t[0],t_max]加入result中  \n",
    "最後回傳result，就是題目要求的答案"
   ]
  },
  {
   "cell_type": "code",
   "execution_count": null,
   "metadata": {},
   "outputs": [],
   "source": [
    "class Solution:\n",
    "    def merge(self, intervals: List[List[int]]) -> List[List[int]]:\n",
    "        result = []\n",
    "        intervals.sort()\n",
    "        t = intervals[0]\n",
    "        t_max = intervals[0][1]\n",
    "        i = 1\n",
    "        \n",
    "        while i < len(intervals):\n",
    "            if intervals[i][0] <= t_max:\n",
    "                t_max = max(t_max, intervals[i][1])\n",
    "            else:\n",
    "                result.append([t[0], t_max])\n",
    "                t.clear()\n",
    "                t = intervals[i]\n",
    "                t_max = intervals[i][1]\n",
    "            i += 1\n",
    "        result.append([t[0], t_max])\n",
    "        return result"
   ]
  }
 ],
 "metadata": {
  "kernelspec": {
   "display_name": "Python 3",
   "language": "python",
   "name": "python3"
  },
  "language_info": {
   "codemirror_mode": {
    "name": "ipython",
    "version": 3
   },
   "file_extension": ".py",
   "mimetype": "text/x-python",
   "name": "python",
   "nbconvert_exporter": "python",
   "pygments_lexer": "ipython3",
   "version": "3.7.4"
  }
 },
 "nbformat": 4,
 "nbformat_minor": 2
}
