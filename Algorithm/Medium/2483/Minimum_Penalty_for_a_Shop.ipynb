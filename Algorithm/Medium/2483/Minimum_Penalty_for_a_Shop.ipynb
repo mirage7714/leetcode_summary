{
 "cells": [
  {
   "cell_type": "markdown",
   "id": "21971652-2bec-42f0-a714-20d9684883f6",
   "metadata": {},
   "source": [
    "# 本題要找出最早可以關店的時間為何 (\\#String )\n",
    "原題目連結: https://leetcode.com/problems/minimum-penalty-for-a-shop/  \n",
    "\n",
    "You are given the customer visit log of a shop represented by a 0-indexed string customers consisting only of characters 'N' and 'Y':  \n",
    "\n",
    "if the ith character is 'Y', it means that customers come at the ith hour  \n",
    "whereas 'N' indicates that no customers come at the ith hour.  \n",
    "If the shop closes at the jth hour (0 <= j <= n), the penalty is calculated as follows:  \n",
    "\n",
    "For every hour when the shop is open and no customers come, the penalty increases by 1.  \n",
    "For every hour when the shop is closed and customers come, the penalty increases by 1.  \n",
    "Return the earliest hour at which the shop must be closed to incur a minimum penalty.  \n",
    "\n",
    "Note that if a shop closes at the jth hour, it means the shop is closed at the hour j.  \n",
    "\n",
    "範例:  \n",
    "Ex1:  \n",
    "Input: customers = \"YYNY\"  \n",
    "Output: 2  \n",
    "Explanation:   \n",
    "- Closing the shop at the 0th hour incurs in 1+1+0+1 = 3 penalty.  \n",
    "- Closing the shop at the 1st hour incurs in 0+1+0+1 = 2 penalty.  \n",
    "- Closing the shop at the 2nd hour incurs in 0+0+0+1 = 1 penalty.  \n",
    "- Closing the shop at the 3rd hour incurs in 0+0+1+1 = 2 penalty.  \n",
    "- Closing the shop at the 4th hour incurs in 0+0+1+0 = 1 penalty.  \n",
    "Closing the shop at 2nd or 4th hour gives a minimum penalty. Since 2 is earlier, the optimal closing time is 2.  \n",
    "\n",
    "Ex2:  \n",
    "Input: customers = \"NNNNN\"  \n",
    "Output: 0  \n",
    "Explanation: It is best to close the shop at the 0th hour as no customers arrive.  \n",
    "\n",
    "Ex3:  \n",
    "Input: customers = \"YYYY\"  \n",
    "Output: 4  \n",
    "Explanation: It is best to close the shop at the 4th hour as customers arrive at each hour."
   ]
  },
  {
   "cell_type": "markdown",
   "id": "fb7c14f9-10c1-474e-884d-aefa95b2fefc",
   "metadata": {},
   "source": [
    "* 解題想法:  \n",
    "首先統計出客人與沒客人的時間，接著從頭開始進行走訪，如果該時段有客人，則代表該時段應該是開店的情況，因此將成本-1，如果是空的時段，則須將成本+1，如果成本比目前最低的成本低的時候，則更新成本與目前的時間，最後回傳最早的時間就是答案"
   ]
  },
  {
   "cell_type": "code",
   "execution_count": null,
   "id": "f3f29d20-622d-43fc-8ea3-e741bda0a3bf",
   "metadata": {},
   "outputs": [],
   "source": [
    "class Solution:\n",
    "    def bestClosingTime(self, customers: str) -> int:\n",
    "        res = 0\n",
    "        p = 0\n",
    "        count = {}\n",
    "        for c in customers:\n",
    "            if c not in count.keys():\n",
    "                count[c] = 1\n",
    "            else:\n",
    "                count[c] += 1\n",
    "        if len(count) == 1:\n",
    "            if 'N' in count.keys():\n",
    "                res = 0\n",
    "            elif 'Y' in count.keys():\n",
    "                res = len(customers)\n",
    "        else:\n",
    "            p = count['Y']\n",
    "            for i in range(len(customers)):\n",
    "                index = i + 1\n",
    "                if customers[i] == 'Y':\n",
    "                    count['Y'] -= 1\n",
    "                else:\n",
    "                    count['Y'] += 1\n",
    "                if count['Y'] < p:\n",
    "                    res = index\n",
    "                    p = count['Y']\n",
    "        return res"
   ]
  }
 ],
 "metadata": {
  "kernelspec": {
   "display_name": "Python 3 (ipykernel)",
   "language": "python",
   "name": "python3"
  },
  "language_info": {
   "codemirror_mode": {
    "name": "ipython",
    "version": 3
   },
   "file_extension": ".py",
   "mimetype": "text/x-python",
   "name": "python",
   "nbconvert_exporter": "python",
   "pygments_lexer": "ipython3",
   "version": "3.9.13"
  }
 },
 "nbformat": 4,
 "nbformat_minor": 5
}
