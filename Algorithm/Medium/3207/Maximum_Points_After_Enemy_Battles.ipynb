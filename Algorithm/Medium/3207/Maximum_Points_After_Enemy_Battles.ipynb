{
 "cells": [
  {
   "cell_type": "markdown",
   "id": "54bd1c86-4bee-402f-ac9c-afcfe983ceab",
   "metadata": {},
   "source": [
    "# 本題要找出最多的得分為多少 (\\#Array, \\#Math )\n",
    "原題目連結: https://leetcode.com/problems/maximum-points-after-enemy-battles/description/  \n",
    "\n",
    "You are given an integer array enemyEnergies denoting the energy values of various enemies.  \n",
    "You are also given an integer currentEnergy denoting the amount of energy you have initially.  \n",
    "You start with 0 points, and all the enemies are unmarked initially.  \n",
    "You can perform either of the following operations zero or multiple times to gain points:  \n",
    "Choose an unmarked enemy, i, such that currentEnergy >= enemyEnergies[i]. By choosing this option:  \n",
    "You gain 1 point.  \n",
    "Your energy is reduced by the enemy's energy, i.e. currentEnergy = currentEnergy - enemyEnergies[i].  \n",
    "If you have at least 1 point, you can choose an unmarked enemy, i. By choosing this option:  \n",
    "Your energy increases by the enemy's energy, i.e. currentEnergy = currentEnergy + enemyEnergies[i].  \n",
    "The enemy i is marked.  \n",
    "Return an integer denoting the maximum points you can get in the end by optimally performing operations.  \n",
    "\n",
    "範例:  \n",
    "Ex1:  \n",
    "Input: enemyEnergies = [3,2,2], currentEnergy = 2  \n",
    "Output: 3  \n",
    "Explanation:  \n",
    "The following operations can be performed to get 3 points, which is the maximum:  \n",
    "First operation on enemy 1: points increases by 1, and currentEnergy decreases by 2. So, points = 1, and currentEnergy = 0.  \n",
    "Second operation on enemy 0: currentEnergy increases by 3, and enemy 0 is marked. So, points = 1, currentEnergy = 3, and marked enemies = [0].  \n",
    "First operation on enemy 2: points increases by 1, and currentEnergy decreases by 2. So, points = 2, currentEnergy = 1, and marked enemies = [0].  \n",
    "Second operation on enemy 2: currentEnergy increases by 2, and enemy 2 is marked. So, points = 2, currentEnergy = 3, and marked enemies = [0, 2].  \n",
    "First operation on enemy 1: points increases by 1, and currentEnergy decreases by 2. So, points = 3, currentEnergy = 1, and marked enemies = [0, 2].  \n",
    "\n",
    "Ex2:  \n",
    "Input: enemyEnergies = [2], currentEnergy = 10  \n",
    "Output: 5  \n",
    "Explanation:  \n",
    "Performing the first operation 5 times on enemy 0 results in the maximum number of points."
   ]
  },
  {
   "cell_type": "markdown",
   "id": "fb1f84f9-504b-48c3-9b6d-7da06c5ebfba",
   "metadata": {},
   "source": [
    "* 解題想法:  \n",
    "首先將enemyEnergies進行排序，接著用while迴圈來進行取值，先將分數加上currentEnergy除上enemyEnergies[0]的商數，並將currentEnergy更新成餘數，如果目前分數大於0的時候則再將enemyEnergies[-1]的數值加上currentEnergy，直到enemyEnergies為空時停止，最後回傳分數就是答案"
   ]
  },
  {
   "cell_type": "code",
   "execution_count": null,
   "id": "b29adb5a-f5f4-4969-b379-1658ddde6601",
   "metadata": {},
   "outputs": [],
   "source": [
    "class Solution:\n",
    "    def maximumPoints(self, enemyEnergies: List[int], currentEnergy: int) -> int:\n",
    "        res = 0 \n",
    "        enemyEnergies.sort()\n",
    "        while enemyEnergies:\n",
    "            res += currentEnergy // enemyEnergies[0]\n",
    "            currentEnergy = currentEnergy % enemyEnergies[0]\n",
    "            if res > 0:\n",
    "                currentEnergy += enemyEnergies.pop()\n",
    "            else:\n",
    "                break\n",
    "        return res"
   ]
  }
 ],
 "metadata": {
  "kernelspec": {
   "display_name": "Python 3 (ipykernel)",
   "language": "python",
   "name": "python3"
  },
  "language_info": {
   "codemirror_mode": {
    "name": "ipython",
    "version": 3
   },
   "file_extension": ".py",
   "mimetype": "text/x-python",
   "name": "python",
   "nbconvert_exporter": "python",
   "pygments_lexer": "ipython3",
   "version": "3.9.13"
  }
 },
 "nbformat": 4,
 "nbformat_minor": 5
}
