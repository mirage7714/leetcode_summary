{
 "cells": [
  {
   "cell_type": "markdown",
   "metadata": {},
   "source": [
    "# 本題要找出與最近的人最大距離為多少\n",
    "原題目連結: https://leetcode.com/problems/maximize-distance-to-closest-person/  \n",
    "\n",
    "You are given an array representing a row of seats where seats[i] = 1 represents a person sitting in the ith seat, and seats[i] = 0 represents that the ith seat is empty (0-indexed).  \n",
    "\n",
    "There is at least one empty seat, and at least one person sitting.  \n",
    "\n",
    "Alex wants to sit in the seat such that the distance between him and the closest person to him is maximized.   \n",
    "\n",
    "Return that maximum distance to the closest person.  \n",
    "\n",
    "範例:  \n",
    "Ex1:  \n",
    "Input: seats = [1,0,0,0,1,0,1]  \n",
    "Output: 2  \n",
    "Explanation:   \n",
    "If Alex sits in the second open seat (i.e. seats[2]), then the closest person has distance 2.  \n",
    "If Alex sits in any other open seat, the closest person has distance 1.  \n",
    "Thus, the maximum distance to the closest person is 2.  \n",
    "\n",
    "Ex2:  \n",
    "Input: seats = [1,0,0,0]  \n",
    "Output: 3  \n",
    "Explanation:   \n",
    "If Alex sits in the last seat (i.e. seats[3]), the closest person is 3 seats away.  \n",
    "This is the maximum distance possible, so the answer is 3.  \n",
    "\n",
    "Ex3:  \n",
    "Input: seats = [0,1]  \n",
    "Output: 1"
   ]
  },
  {
   "cell_type": "markdown",
   "metadata": {},
   "source": [
    "* 解題想法:  \n",
    "首先找出第一個有人的座位index為何，並找出第一段距離為多少，接著用迴圈開始判斷每個有人的座位間距離為多少，最後檢查最後一段的距離為多少"
   ]
  },
  {
   "cell_type": "code",
   "execution_count": null,
   "metadata": {},
   "outputs": [],
   "source": [
    "class Solution:\n",
    "    def maxDistToClosest(self, seats: List[int]) -> int:\n",
    "        start = seats.index(1)\n",
    "        result = 0\n",
    "        temp = start\n",
    "        if seats[0] == 0:\n",
    "            result = start        \n",
    "                \n",
    "        for m in range(start+1, len(seats)):\n",
    "            if seats[m] == 1:\n",
    "                d = int((m - temp)/2)\n",
    "                if d > result:\n",
    "                    result = d\n",
    "                temp = m\n",
    "        if seats[-1] == 0:\n",
    "            result = max(result, (len(seats)-1 - temp))\n",
    "        if result == 0:\n",
    "            result = len(seats) - start - 1\n",
    "        return result"
   ]
  }
 ],
 "metadata": {
  "kernelspec": {
   "display_name": "Python 3",
   "language": "python",
   "name": "python3"
  },
  "language_info": {
   "codemirror_mode": {
    "name": "ipython",
    "version": 3
   },
   "file_extension": ".py",
   "mimetype": "text/x-python",
   "name": "python",
   "nbconvert_exporter": "python",
   "pygments_lexer": "ipython3",
   "version": "3.7.4"
  }
 },
 "nbformat": 4,
 "nbformat_minor": 4
}
