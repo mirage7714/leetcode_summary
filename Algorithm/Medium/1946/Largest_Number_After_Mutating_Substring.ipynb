{
 "cells": [
  {
   "cell_type": "markdown",
   "metadata": {},
   "source": [
    "# 本題要找出最大可以轉換的數字為多少\n",
    "原題目連結:https://leetcode.com/problems/largest-number-after-mutating-substring/　　\n",
    "\n",
    "You are given a string num, which represents a large integer. You are also given a 0-indexed integer array change of length 10 that maps each digit 0-9 to another digit. More formally, digit d maps to digit change[d].　　\n",
    "\n",
    "You may choose to mutate a single substring of num. To mutate a substring, replace each digit num[i] with the digit it maps to in change (i.e. replace num[i] with change[num[i]]).　　\n",
    "Return a string representing the largest possible integer after mutating (or choosing not to) a single substring of num.　　\n",
    "A substring is a contiguous sequence of characters within the string.　　\n",
    "\n",
    "範例：  \n",
    "Ex1:  \n",
    "Input: num = \"132\", change = [9,8,5,0,3,6,4,2,6,8]  \n",
    "Output: \"832\"  \n",
    "Explanation: Replace the substring \"1\":  \n",
    "- 1 maps to change[1] = 8.   \n",
    "Thus, \"132\" becomes \"832\".  \n",
    "\"832\" is the largest number that can be created, so return it.  \n",
    "\n",
    "Ex2:  \n",
    "Input: num = \"021\", change = [9,4,3,5,7,2,1,9,0,6]  \n",
    "Output: \"934\"  \n",
    "Explanation: Replace the substring \"021\":  \n",
    "- 0 maps to change[0] = 9.  \n",
    "- 2 maps to change[2] = 3.  \n",
    "- 1 maps to change[1] = 4.  \n",
    "Thus, \"021\" becomes \"934\".  \n",
    "\"934\" is the largest number that can be created, so return it.  \n",
    "\n",
    "Ex3:  \n",
    "Input: num = \"5\", change = [1,4,7,5,3,2,5,6,9,4]  \n",
    "Output: \"5\"  \n",
    "Explanation: \"5\" is already the largest number that can be created, so return it."
   ]
  },
  {
   "cell_type": "markdown",
   "metadata": {},
   "source": [
    "* 解題想法:  \n",
    "首先用一個變數來記錄最後結果，並用兩個bool來存放目前的狀況，接著開始用迴圈進行檢查數字，如果目前數字比change中對應的數值小，則檢查是否還可以更換成change中的數值，如果可以更換則更新為change中對應的數值，並將狀態更新為已使用過，直到數字大於change時則停止更新，最後回傳更新後的數字"
   ]
  },
  {
   "cell_type": "code",
   "execution_count": null,
   "metadata": {},
   "outputs": [],
   "source": [
    "class Solution:\n",
    "    def maximumNumber(self, num: str, change: List[int]) -> str:\n",
    "        result = ''\n",
    "        is_changed = False\n",
    "        is_continue = False\n",
    "        for n in range(len(num)):\n",
    "            c = change[int(num[n])]\n",
    "            if not is_changed:\n",
    "                if int(num[n]) < c:\n",
    "                    result += str(c)\n",
    "                    is_continue = True\n",
    "                else:\n",
    "                    result += num[n]\n",
    "                    if int(num[n]) != c:\n",
    "                        if is_continue:\n",
    "                            is_changed = True\n",
    "            else:\n",
    "                result += num[n]    \n",
    "        return result"
   ]
  }
 ],
 "metadata": {
  "kernelspec": {
   "display_name": "Python 3",
   "language": "python",
   "name": "python3"
  },
  "language_info": {
   "codemirror_mode": {
    "name": "ipython",
    "version": 3
   },
   "file_extension": ".py",
   "mimetype": "text/x-python",
   "name": "python",
   "nbconvert_exporter": "python",
   "pygments_lexer": "ipython3",
   "version": "3.7.4"
  }
 },
 "nbformat": 4,
 "nbformat_minor": 4
}
