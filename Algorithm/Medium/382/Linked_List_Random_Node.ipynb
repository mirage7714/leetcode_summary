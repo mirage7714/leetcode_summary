{
 "cells": [
  {
   "cell_type": "markdown",
   "metadata": {},
   "source": [
    "# 本題要隨機找出一個LinkedList的節點的值\n",
    "原題目連結: https://leetcode.com/problems/linked-list-random-node/  \n",
    "\n",
    "Given a singly linked list, return a random node's value from the linked list. Each node must have the same probability of being chosen.  \n",
    "\n",
    "Implement the Solution class:  \n",
    "\n",
    "Solution(ListNode head) Initializes the object with the head of the singly-linked list head.  \n",
    "int getRandom() Chooses a node randomly from the list and returns its value. All the nodes of the list should be equally likely to be chosen.  \n",
    "\n",
    "範例:  \n",
    "Ex1:  \n",
    "Input  \n",
    "[\"Solution\", \"getRandom\", \"getRandom\", \"getRandom\", \"getRandom\", \"getRandom\"]  \n",
    "[[[1, 2, 3]], [], [], [], [], []]  \n",
    "Output  \n",
    "[null, 1, 3, 2, 2, 3]  \n",
    "\n",
    "Explanation  \n",
    "Solution solution = new Solution([1, 2, 3]);  \n",
    "solution.getRandom(); // return 1  \n",
    "solution.getRandom(); // return 3  \n",
    "solution.getRandom(); // return 2  \n",
    "solution.getRandom(); // return 2  \n",
    "solution.getRandom(); // return 3  \n",
    "// getRandom() should return either 1, 2, or 3 randomly. Each element should have equal probability of returning."
   ]
  },
  {
   "cell_type": "markdown",
   "metadata": {},
   "source": [
    "* 解題想法:  \n",
    "首先將LinkedList中的數值都取出後放入一個list中，接著在getRandom()函數中隨機從list中取出一個數值進行回傳"
   ]
  },
  {
   "cell_type": "code",
   "execution_count": null,
   "metadata": {},
   "outputs": [],
   "source": [
    "# Definition for singly-linked list.\n",
    "# class ListNode:\n",
    "#     def __init__(self, val=0, next=None):\n",
    "#         self.val = val\n",
    "#         self.next = next\n",
    "class Solution:\n",
    "\n",
    "    def __init__(self, head: Optional[ListNode]):\n",
    "        self.values = []\n",
    "        while head:\n",
    "            self.values.append(head.val)\n",
    "            head = head.next\n",
    "\n",
    "    def getRandom(self) -> int:\n",
    "        size = len(self.values)\n",
    "        return self.values[random.randint(0, size-1)]\n",
    "\n",
    "\n",
    "# Your Solution object will be instantiated and called as such:\n",
    "# obj = Solution(head)\n",
    "# param_1 = obj.getRandom()"
   ]
  }
 ],
 "metadata": {
  "kernelspec": {
   "display_name": "Python 3",
   "language": "python",
   "name": "python3"
  },
  "language_info": {
   "codemirror_mode": {
    "name": "ipython",
    "version": 3
   },
   "file_extension": ".py",
   "mimetype": "text/x-python",
   "name": "python",
   "nbconvert_exporter": "python",
   "pygments_lexer": "ipython3",
   "version": "3.7.4"
  }
 },
 "nbformat": 4,
 "nbformat_minor": 4
}
