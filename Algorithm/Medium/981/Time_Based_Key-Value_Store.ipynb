{
 "cells": [
  {
   "cell_type": "markdown",
   "metadata": {},
   "source": [
    "# 本題要建立一個有timestamp功能的key-value結構\n",
    "原題目連結: https://leetcode.com/problems/time-based-key-value-store/  \n",
    "\n",
    "Design a time-based key-value data structure that can store multiple values for the same key at different time stamps and retrieve the key's value at a certain timestamp.  \n",
    "\n",
    "Implement the TimeMap class:  \n",
    "\n",
    "TimeMap() Initializes the object of the data structure.  \n",
    "void set(String key, String value, int timestamp) Stores the key key with the value value at the given time timestamp.  \n",
    "String get(String key, int timestamp) Returns a value such that set was called previously, with timestamp_prev <= timestamp. If there are multiple such values, it returns the value associated with the largest timestamp_prev. If there are no values, it returns \"\".  \n",
    "\n",
    "範例: \n",
    "Ex1:  \n",
    "Input  \n",
    "[\"TimeMap\", \"set\", \"get\", \"get\", \"set\", \"get\", \"get\"]  \n",
    "[[], [\"foo\", \"bar\", 1], [\"foo\", 1], [\"foo\", 3], [\"foo\", \"bar2\", 4], [\"foo\", 4], [\"foo\", 5]]  \n",
    "Output  \n",
    "[null, null, \"bar\", \"bar\", null, \"bar2\", \"bar2\"]  \n",
    "\n",
    "Explanation  \n",
    "TimeMap timeMap = new TimeMap();  \n",
    "timeMap.set(\"foo\", \"bar\", 1);  // store the key \"foo\" and value \"bar\" along with timestamp = 1.  \n",
    "timeMap.get(\"foo\", 1);         // return \"bar\"  \n",
    "timeMap.get(\"foo\", 3);         // return \"bar\", since there is no value corresponding to foo at timestamp 3 and timestamp 2, then the only value is at timestamp 1 is \"bar\".  \n",
    "timeMap.set(\"foo\", \"bar2\", 4); // store the key \"foo\" and value \"bar2\" along with timestamp = 4.  \n",
    "timeMap.get(\"foo\", 4);         // return \"bar2\"  \n",
    "timeMap.get(\"foo\", 5);         // return \"bar2\"  "
   ]
  },
  {
   "cell_type": "markdown",
   "metadata": {},
   "source": [
    "* 解題想法:  \n",
    "首先用一個dict來存放key-value本身，然後用另一個dict來存放key與timestamp的關係，接著實作以下的功能:  \n",
    "- set(): 將key-value放入data中，另外將key-timestamp放入time中  \n",
    "- get(): 如果key值沒有出現在data中，則直接回傳空值，如果有存在的話，則從time中取出開始比對timestamp:  \n",
    "  - 如果timestamp小於最小值，則直接回傳空值  \n",
    "  - 如果timestamp等於最小值，則回傳data中的第一個值  \n",
    "  - 如果timestamp大於最大值，則回傳data中的最後一個值  \n",
    "  - 如果都不是以上的條件，則找出最接近的值  \n",
    "  最後將data對應的值取出並回傳"
   ]
  },
  {
   "cell_type": "code",
   "execution_count": null,
   "metadata": {},
   "outputs": [],
   "source": [
    "class TimeMap:\n",
    "\n",
    "    def __init__(self):\n",
    "        \"\"\"\n",
    "        Initialize your data structure here.\n",
    "        \"\"\"\n",
    "        self.data = {}\n",
    "        self.time = {}\n",
    "\n",
    "    def set(self, key: str, value: str, timestamp: int) -> None:\n",
    "        if key not in self.data.keys():\n",
    "            self.data[key] = [value]\n",
    "            self.time[key] = [timestamp]\n",
    "        else:\n",
    "            self.data[key].append(value)\n",
    "            self.time[key].append(timestamp)\n",
    "\n",
    "    def get(self, key: str, timestamp: int) -> str:\n",
    "        if key not in self.data.keys():\n",
    "            return \"\"\n",
    "        time = self.time[key]\n",
    "        i = 0\n",
    "        if len(time) == 1:\n",
    "            return self.data[key][0]\n",
    "        else:\n",
    "            if timestamp < time[0]:\n",
    "                return \"\"\n",
    "            elif timestamp == time[0]:\n",
    "                return self.data[key][0]\n",
    "            elif timestamp >= time[-1]:\n",
    "                return self.data[key][-1]\n",
    "            else:\n",
    "                for t in range(len(time)-1):\n",
    "                    if time[t] <= timestamp and time[t+1] > timestamp:\n",
    "                        return self.data[key][t]\n",
    "\n",
    "# Your TimeMap object will be instantiated and called as such:\n",
    "# obj = TimeMap()\n",
    "# obj.set(key,value,timestamp)\n",
    "# param_2 = obj.get(key,timestamp)"
   ]
  }
 ],
 "metadata": {
  "kernelspec": {
   "display_name": "Python 3",
   "language": "python",
   "name": "python3"
  },
  "language_info": {
   "codemirror_mode": {
    "name": "ipython",
    "version": 3
   },
   "file_extension": ".py",
   "mimetype": "text/x-python",
   "name": "python",
   "nbconvert_exporter": "python",
   "pygments_lexer": "ipython3",
   "version": "3.7.4"
  }
 },
 "nbformat": 4,
 "nbformat_minor": 4
}
