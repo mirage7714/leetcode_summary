{
 "cells": [
  {
   "cell_type": "markdown",
   "id": "436df813-9882-4dab-9632-607d2269e144",
   "metadata": {},
   "source": [
    "# 本題要找出相同數值最近的距離為何 (\\#Array, \\#HashMap )\n",
    "原題目連結: https://leetcode.com/problems/closest-equal-element-queries/description/  \n",
    "\n",
    "You are given a circular array nums and an array queries.  \n",
    "For each query i, you have to find the following:  \n",
    "The minimum distance between the element at index queries[i] and any other index j in the circular array, where nums[j] == nums[queries[i]]. If no such index exists, the answer for that query should be -1.  \n",
    "Return an array answer of the same size as queries, where answer[i] represents the result for query i.  \n",
    "\n",
    "範例:  \n",
    "Ex1:  \n",
    "Input: nums = [1,3,1,4,1,3,2], queries = [0,3,5]  \n",
    "Output: [2,-1,3]  \n",
    "Explanation:  \n",
    "Query 0: The element at queries[0] = 0 is nums[0] = 1. The nearest index with the same value is 2, and the distance between them is 2.  \n",
    "Query 1: The element at queries[1] = 3 is nums[3] = 4. No other index contains 4, so the result is -1.  \n",
    "Query 2: The element at queries[2] = 5 is nums[5] = 3. The nearest index with the same value is 1, and the distance between them is 3 (following the circular path: 5 -> 6 -> 0 -> 1).  \n",
    "\n",
    "Ex2:  \n",
    "Input: nums = [1,2,3,4], queries = [0,1,2,3]  \n",
    "Output: [-1,-1,-1,-1]  \n",
    "Explanation:  \n",
    "Each value in nums is unique, so no index shares the same value as the queried element. This results in -1 for all queries."
   ]
  },
  {
   "cell_type": "markdown",
   "id": "16480cc9-5321-4803-9ea6-5b98ea5181a6",
   "metadata": {},
   "source": [
    "* 解題想法:  \n",
    "首先將所有數的值與index放入一個dict中，接著開始檢查該數如果只有出現過一次，則直接回傳-1，如果出現兩次以上的時候，則計算最近的距離為何並放入list中，最後回傳list就是答案"
   ]
  },
  {
   "cell_type": "code",
   "execution_count": null,
   "id": "d798943d-babc-4ecf-8bd2-441e821e74b6",
   "metadata": {},
   "outputs": [],
   "source": [
    "class Solution:\n",
    "    def solveQueries(self, nums: List[int], queries: List[int]) -> List[int]:\n",
    "        res = []\n",
    "        count = {}\n",
    "        for i in range(len(nums)):\n",
    "            n = nums[i]\n",
    "            if n not in count.keys():\n",
    "                count[n] = []\n",
    "            count[n].append(i)\n",
    "        if len(count) == 1:\n",
    "            if len(count[list(count.keys())[0]]) > 1:\n",
    "                res = [1] * len(queries)\n",
    "            else:\n",
    "                res = [-1]\n",
    "        else: \n",
    "            for q in queries:\n",
    "                if len(count[nums[q]]) == 1:\n",
    "                    res.append(-1)\n",
    "                else:\n",
    "                    c = count[nums[q]]\n",
    "                    i = c.index(q)\n",
    "                    if i == 0:\n",
    "                        res.append(min(c[1] - c[0], c[0] + len(nums) - c[-1]))\n",
    "                    elif i == len(c) - 1:\n",
    "                        res.append(min(c[i] - c[i-1], c[0] + len(nums) - c[i]))\n",
    "                    else:\n",
    "                        res.append(min(c[i] - c[i-1], c[i+1] - c[i]))\n",
    "        return res"
   ]
  }
 ],
 "metadata": {
  "kernelspec": {
   "display_name": "Python 3 (ipykernel)",
   "language": "python",
   "name": "python3"
  },
  "language_info": {
   "codemirror_mode": {
    "name": "ipython",
    "version": 3
   },
   "file_extension": ".py",
   "mimetype": "text/x-python",
   "name": "python",
   "nbconvert_exporter": "python",
   "pygments_lexer": "ipython3",
   "version": "3.9.13"
  }
 },
 "nbformat": 4,
 "nbformat_minor": 5
}
