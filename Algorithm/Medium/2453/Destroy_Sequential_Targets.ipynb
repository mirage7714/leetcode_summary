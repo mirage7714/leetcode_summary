{
 "cells": [
  {
   "cell_type": "markdown",
   "metadata": {},
   "source": [
    "# 本題要找出list中哪個數值可以一次移除最多的元素 (\\#Array)\n",
    "原題目連結: https://leetcode.com/problems/destroy-sequential-targets/  \n",
    "\n",
    "You are given a 0-indexed array nums consisting of positive integers, representing targets on a number line. You are also given an integer space.  \n",
    "\n",
    "You have a machine which can destroy targets. Seeding the machine with some nums[i] allows it to destroy all targets with values that can be represented as nums[i] + c * space, where c is any non-negative integer. You want to destroy the maximum number of targets in nums.  \n",
    "\n",
    "Return the minimum value of nums[i] you can seed the machine with to destroy the maximum number of targets.  \n",
    "\n",
    "範例:  \n",
    "Ex1:  \n",
    "Input: nums = [3,7,8,1,1,5], space = 2  \n",
    "Output: 1  \n",
    "Explanation: If we seed the machine with nums[3], then we destroy all targets equal to 1,3,5,7,9,...   \n",
    "In this case, we would destroy 5 total targets (all except for nums[2]).   \n",
    "It is impossible to destroy more than 5 targets, so we return nums[3].  \n",
    "\n",
    "Ex2:  \n",
    "Input: nums = [1,3,5,2,4,6], space = 2  \n",
    "Output: 1  \n",
    "Explanation: Seeding the machine with nums[0], or nums[3] destroys 3 targets.   \n",
    "It is not possible to destroy more than 3 targets.  \n",
    "Since nums[0] is the minimal integer that can destroy 3 targets, we return 1.  \n",
    "\n",
    "Ex3:  \n",
    "Input: nums = [6,2,5], space = 100  \n",
    "Output: 2  \n",
    "Explanation: Whatever initial seed we select, we can only destroy 1 target. The minimal seed is nums[1].  "
   ]
  },
  {
   "cell_type": "markdown",
   "metadata": {},
   "source": [
    "* 解題想法:  \n",
    "首先將list中的每個數值取餘數後為多少，並計算每個餘數出現的頻率為多少，接著開始檢查list中每個數值對應的次數為多少，如果次數大於目前的數值則更新key值，如果次數相同則將key值更新為最小的，最後回傳key值"
   ]
  },
  {
   "cell_type": "code",
   "execution_count": null,
   "metadata": {},
   "outputs": [],
   "source": [
    "class Solution:\n",
    "    def destroyTargets(self, nums: List[int], space: int) -> int:\n",
    "        left = [i % space for i in nums]\n",
    "        count = {}\n",
    "        res = [0,0]\n",
    "        for l in left:\n",
    "            if l not in count.keys():\n",
    "                count[l] = 1\n",
    "            else:\n",
    "                count[l] += 1\n",
    "        for i in range(len(nums)):\n",
    "            v = count[left[i]]\n",
    "            k = nums[i]\n",
    "            if v > res[1]:\n",
    "                res[0] = k\n",
    "                res[1] = v\n",
    "            elif v == res[1]:\n",
    "                if k < res[0]:\n",
    "                    res[0] = k\n",
    "        return res[0]"
   ]
  }
 ],
 "metadata": {
  "kernelspec": {
   "display_name": "Python 3",
   "language": "python",
   "name": "python3"
  },
  "language_info": {
   "codemirror_mode": {
    "name": "ipython",
    "version": 3
   },
   "file_extension": ".py",
   "mimetype": "text/x-python",
   "name": "python",
   "nbconvert_exporter": "python",
   "pygments_lexer": "ipython3",
   "version": "3.7.4"
  }
 },
 "nbformat": 4,
 "nbformat_minor": 4
}
