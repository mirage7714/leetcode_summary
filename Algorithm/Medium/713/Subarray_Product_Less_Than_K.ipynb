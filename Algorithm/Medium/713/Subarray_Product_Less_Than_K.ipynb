{
 "cells": [
  {
   "cell_type": "markdown",
   "id": "99315420-bd4a-4a35-8441-8c6ea10ad8f0",
   "metadata": {},
   "source": [
    "# 本題要找出所有乘積小於k的list共有多少 (\\#Array, \\#SlidingWindow )\n",
    "原題目連結: https://leetcode.com/problems/subarray-product-less-than-k/description/?envType=daily-question&envId=2024-03-27  \n",
    "\n",
    "Given an array of integers nums and an integer k, return the number of contiguous subarrays where the product of all the elements in the subarray is strictly less than k.  \n",
    "\n",
    "範例:  \n",
    "Ex1:  \n",
    "Input: nums = [10,5,2,6], k = 100  \n",
    "Output: 8  \n",
    "Explanation: The 8 subarrays that have product less than 100 are:  \n",
    "[10], [5], [2], [6], [10, 5], [5, 2], [2, 6], [5, 2, 6]  \n",
    "Note that [10, 5, 2] is not included as the product of 100 is not strictly less than k.  \n",
    "\n",
    "Ex2:  \n",
    "Input: nums = [1,2,3], k = 0  \n",
    "Output: 0"
   ]
  },
  {
   "cell_type": "markdown",
   "id": "cbfc8644-aa80-42bc-a372-95d1e7886eb3",
   "metadata": {},
   "source": [
    "* 解題想法:  \n",
    "首先檢查list中是否都是相同的數值，如果都是相同數值且總乘積小於k時，則所有可能的組合就是len(nums) x (len(nums)+1) / 2，否則就是需要逐個檢查符合的條件，首先建立一個list用來存放目前符合的sublist，接著找出符合條件的sublit，並將目前的乘積雨最後的index放入暫存中，直到暫存為空或是檢查完所有的windows長度後中斷迴圈，最後回傳符合的數量"
   ]
  },
  {
   "cell_type": "code",
   "execution_count": null,
   "id": "6b83a4c8-279b-4ac5-aa58-0e34dbf05d10",
   "metadata": {},
   "outputs": [],
   "source": [
    "class Solution:\n",
    "    def numSubarrayProductLessThanK(self, nums: List[int], k: int) -> int:\n",
    "        res = 0\n",
    "        temp = []\n",
    "        if max(nums) == min(nums) and max(nums) ** len(nums) < k:\n",
    "            res = len(nums) * (len(nums) + 1) // 2\n",
    "        else: \n",
    "            for n in range(len(nums)):\n",
    "                if nums[n] < k:\n",
    "                    temp.append([nums[n], n])\n",
    "            res += len(temp)\n",
    "            for i in range(2, len(nums)+1):\n",
    "                if not temp:\n",
    "                    break   \n",
    "                stack = []\n",
    "                for t in temp:\n",
    "                    if t[1] < len(nums)-1  and t[0] * nums[t[1]+1] < k:\n",
    "                        stack.append([t[0] * nums[t[1] + 1], t[1]+1])\n",
    "                res += len(stack)\n",
    "                temp = stack\n",
    "        return res"
   ]
  }
 ],
 "metadata": {
  "kernelspec": {
   "display_name": "Python 3 (ipykernel)",
   "language": "python",
   "name": "python3"
  },
  "language_info": {
   "codemirror_mode": {
    "name": "ipython",
    "version": 3
   },
   "file_extension": ".py",
   "mimetype": "text/x-python",
   "name": "python",
   "nbconvert_exporter": "python",
   "pygments_lexer": "ipython3",
   "version": "3.9.13"
  }
 },
 "nbformat": 4,
 "nbformat_minor": 5
}
