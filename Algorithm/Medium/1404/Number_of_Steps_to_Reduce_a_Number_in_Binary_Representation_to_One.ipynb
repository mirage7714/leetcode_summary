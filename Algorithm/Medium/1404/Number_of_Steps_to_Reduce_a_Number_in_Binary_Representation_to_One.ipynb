{
 "cells": [
  {
   "cell_type": "markdown",
   "id": "7908932b-1b25-45a4-9f57-79f834c10e50",
   "metadata": {},
   "source": [
    "# 本題要找出需要幾步才能將數字降到1 (\\#String, \\#BitManipulation )\n",
    "原題目連結: https://leetcode.com/problems/number-of-steps-to-reduce-a-number-in-binary-representation-to-one/description/  \n",
    "\n",
    "Given the binary representation of an integer as a string s, return the number of steps to reduce it to 1 under the following rules:  \n",
    "If the current number is even, you have to divide it by 2.  \n",
    "If the current number is odd, you have to add 1 to it.  \n",
    "It is guaranteed that you can always reach one for all test cases.  \n",
    "\n",
    "範例:  \n",
    "Ex1:  \n",
    "Input: s = \"1101\"  \n",
    "Output: 6  \n",
    "Explanation: \"1101\" corressponds to number 13 in their decimal representation.  \n",
    "Step 1) 13 is odd, add 1 and obtain 14.   \n",
    "Step 2) 14 is even, divide by 2 and obtain 7.  \n",
    "Step 3) 7 is odd, add 1 and obtain 8.  \n",
    "Step 4) 8 is even, divide by 2 and obtain 4.    \n",
    "Step 5) 4 is even, divide by 2 and obtain 2.   \n",
    "Step 6) 2 is even, divide by 2 and obtain 1.    \n",
    "\n",
    "Ex2:  \n",
    "Input: s = \"10\"  \n",
    "Output: 1  \n",
    "Explanation: \"10\" corressponds to number 2 in their decimal representation.  \n",
    "Step 1) 2 is even, divide by 2 and obtain 1.   \n",
    "\n",
    "Ex3:  \n",
    "Input: s = \"1\"  \n",
    "Output: 0  "
   ]
  },
  {
   "cell_type": "markdown",
   "id": "15b3d628-a976-45bb-ac75-5e8e4199abda",
   "metadata": {},
   "source": [
    "* 解題想法:  \n",
    "首先將字串放入list中，接著開始從最後一個bit進行檢查:\n",
    "- 如果該bit為1且無進位的情況，則需要用兩步才能將其歸零，如果有進位的情況則只需要一步  \n",
    "- 如果該bit為0，無進位的情況只需要一步就可歸零，否則需要兩步，且會有進位產生  \n",
    "- 最後一個bit時，如果有進位的情況則需要額外的一步，否則不需要額外步數  \n",
    "最後將所需要的步數加總之後就是答案"
   ]
  },
  {
   "cell_type": "code",
   "execution_count": null,
   "id": "9838d31b-e3de-4632-a10a-8ff4c6254559",
   "metadata": {},
   "outputs": [],
   "source": [
    "class Solution:\n",
    "    def numSteps(self, s: str) -> int:\n",
    "        res = 0\n",
    "        b = [i for i in s]\n",
    "        t = 0\n",
    "        while len(b) > 1:\n",
    "            n = b.pop()\n",
    "            if n == '1':\n",
    "                res += 2 - t \n",
    "                t = 1\n",
    "            else:\n",
    "                res += 1 + t\n",
    "        if t == 1:\n",
    "            res += 1\n",
    "        return res"
   ]
  }
 ],
 "metadata": {
  "kernelspec": {
   "display_name": "Python 3 (ipykernel)",
   "language": "python",
   "name": "python3"
  },
  "language_info": {
   "codemirror_mode": {
    "name": "ipython",
    "version": 3
   },
   "file_extension": ".py",
   "mimetype": "text/x-python",
   "name": "python",
   "nbconvert_exporter": "python",
   "pygments_lexer": "ipython3",
   "version": "3.9.13"
  }
 },
 "nbformat": 4,
 "nbformat_minor": 5
}
