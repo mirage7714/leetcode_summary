{
 "cells": [
  {
   "cell_type": "markdown",
   "id": "cffad9ee-4549-46ee-b1fd-bd0aa67945f0",
   "metadata": {},
   "source": [
    "# 本題要找出共有幾對幾乎相同的數值 (\\#Array, \\#String )\n",
    "原題目連結: https://leetcode.com/problems/count-almost-equal-pairs-i/description/    \n",
    "\n",
    "You are given an array nums consisting of positive integers.  \n",
    "We call two integers x and y in this problem almost equal if both integers can become equal after performing the following operation at most once:  \n",
    "Choose either x or y and swap any two digits within the chosen number.  \n",
    "Return the number of indices i and j in nums where i < j such that nums[i] and nums[j] are almost equal.  \n",
    "Note that it is allowed for an integer to have leading zeros after performing an operation.  \n",
    "\n",
    "範例:  \n",
    "Ex1:  \n",
    "Input: nums = [3,12,30,17,21]  \n",
    "Output: 2  \n",
    "Explanation:  \n",
    "The almost equal pairs of elements are:  \n",
    "3 and 30. By swapping 3 and 0 in 30, you get 3.  \n",
    "12 and 21. By swapping 1 and 2 in 12, you get 21.  \n",
    "\n",
    "Ex2:  \n",
    "Input: nums = [1,1,1,1,1]  \n",
    "Output: 10  \n",
    "Explanation:  \n",
    "Every two elements in the array are almost equal.  \n",
    "\n",
    "Ex3:  \n",
    "Input: nums = [123,231]  \n",
    "Output: 0  \n",
    "Explanation:  \n",
    "We cannot swap any two digits of 123 or 231 to reach the other."
   ]
  },
  {
   "cell_type": "markdown",
   "id": "4567720b-c3df-40fa-bbc5-2fd8647fde5e",
   "metadata": {},
   "source": [
    "* 解題想法:  \n",
    "先建立一個函數來判斷兩數是否相似: 如果兩數相同則為相似，如果兩數不相同時則先將所有數字放入list中，並將兩數長度補至相同，接著用迴圈將不相同的數字分別放入兩個list中，最後檢查list長度與內容，如果長度為2且兩個list中的數值均相同則回傳True，否則回傳False"
   ]
  },
  {
   "cell_type": "code",
   "execution_count": null,
   "id": "b16d572c-1efc-4e0a-a62e-24f8a2ca1a2c",
   "metadata": {},
   "outputs": [],
   "source": [
    "class Solution:\n",
    "    def countPairs(self, nums: List[int]) -> int:\n",
    "        def check(num1, num2):\n",
    "            if num1 == num2:\n",
    "                return True\n",
    "            n1 = [i for i in str(num1)]\n",
    "            n2 = [i for i in str(num2)]\n",
    "            if len(n1) != len(n2):\n",
    "                d = abs(len(n1) - len(n2))\n",
    "                for _ in range(d):\n",
    "                    if len(n1) < len(n2):\n",
    "                        n1.insert(0,'0')\n",
    "                    else:\n",
    "                        n2.insert(0,'0')\n",
    "            c1 = []\n",
    "            c2 = []\n",
    "            for i in range(len(n1)):\n",
    "                if n1[i] != n2[i]:\n",
    "                    c1.append(n1[i])\n",
    "                    c2.append(n2[i])\n",
    "            if len(c1) == 2 and c1[0] == c2[1] and c1[1] == c2[0]:\n",
    "                return True\n",
    "            else:\n",
    "                return False\n",
    "\n",
    "        res = 0\n",
    "        for i in range(len(nums)-1):\n",
    "            for j in range(i+1, len(nums)):\n",
    "                if check(nums[i], nums[j]):\n",
    "                    res += 1\n",
    "        return res"
   ]
  }
 ],
 "metadata": {
  "kernelspec": {
   "display_name": "Python 3 (ipykernel)",
   "language": "python",
   "name": "python3"
  },
  "language_info": {
   "codemirror_mode": {
    "name": "ipython",
    "version": 3
   },
   "file_extension": ".py",
   "mimetype": "text/x-python",
   "name": "python",
   "nbconvert_exporter": "python",
   "pygments_lexer": "ipython3",
   "version": "3.9.13"
  }
 },
 "nbformat": 4,
 "nbformat_minor": 5
}
