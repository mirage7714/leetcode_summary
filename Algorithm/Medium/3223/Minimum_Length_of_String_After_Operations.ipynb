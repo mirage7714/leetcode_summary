{
 "cells": [
  {
   "cell_type": "markdown",
   "id": "2f85343b-419c-49ee-a714-e1d9c39ff809",
   "metadata": {},
   "source": [
    "# 本題要找出最後剩下的字串長度為多少 (\\#String, \\#HashMap )\n",
    "原題目連結: https://leetcode.com/problems/minimum-length-of-string-after-operations/description/  \n",
    "\n",
    "You are given a string s.  \n",
    "You can perform the following process on s any number of times:  \n",
    "Choose an index i in the string such that there is at least one character to the left of index i that is equal to s[i], and at least one character to the right that is also equal to s[i].  \n",
    "Delete the closest character to the left of index i that is equal to s[i].  \n",
    "Delete the closest character to the right of index i that is equal to s[i].  \n",
    "Return the minimum length of the final string s that you can achieve.  \n",
    "\n",
    "範例:  \n",
    "Ex1:  \n",
    "Input: s = \"abaacbcbb\"  \n",
    "Output: 5  \n",
    "Explanation:  \n",
    "We do the following operations:  \n",
    "Choose index 2, then remove the characters at indices 0 and 3. The resulting string is s = \"bacbcbb\".  \n",
    "Choose index 3, then remove the characters at indices 0 and 5. The resulting string is s = \"acbcb\".  \n",
    "\n",
    "Ex2:  \n",
    "Input: s = \"aa\"  \n",
    "Output: 2  \n",
    "Explanation:  \n",
    "We cannot perform any operations, so we return the length of the original string."
   ]
  },
  {
   "cell_type": "markdown",
   "id": "890430cf-0930-47f2-b912-8383fb7c4de6",
   "metadata": {},
   "source": [
    "* 解題想法:  \n",
    "首先將所有的字母出現次數進行統計，接著逐個檢查出現次數，如果出現次數小於3次則直接將數值加倒統計結果，如果出現次數大於3，則逐次減去2直到小於3為止，最後回傳加總的結果就是答案"
   ]
  },
  {
   "cell_type": "code",
   "execution_count": null,
   "id": "c4882d7d-449f-4be6-afe5-855095cf6d20",
   "metadata": {},
   "outputs": [],
   "source": [
    "class Solution:\n",
    "    def minimumLength(self, s: str) -> int:\n",
    "        count = {}\n",
    "        res = 0\n",
    "        for i in s:\n",
    "            if i not in count.keys():\n",
    "                count[i] = 0\n",
    "            count[i] += 1\n",
    "        for val in count.values():\n",
    "            if val < 3:\n",
    "                res += val\n",
    "            else:\n",
    "                while val >= 3:\n",
    "                    val -= 2\n",
    "                res += val\n",
    "        return res"
   ]
  }
 ],
 "metadata": {
  "kernelspec": {
   "display_name": "Python 3 (ipykernel)",
   "language": "python",
   "name": "python3"
  },
  "language_info": {
   "codemirror_mode": {
    "name": "ipython",
    "version": 3
   },
   "file_extension": ".py",
   "mimetype": "text/x-python",
   "name": "python",
   "nbconvert_exporter": "python",
   "pygments_lexer": "ipython3",
   "version": "3.9.13"
  }
 },
 "nbformat": 4,
 "nbformat_minor": 5
}
