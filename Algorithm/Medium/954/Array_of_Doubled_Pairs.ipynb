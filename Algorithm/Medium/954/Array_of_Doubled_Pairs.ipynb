{
 "cells": [
  {
   "cell_type": "markdown",
   "metadata": {},
   "source": [
    "# 本題要判斷array中是否所有的數字都可以配對成兩組\n",
    "原題目連結: https://leetcode.com/problems/array-of-doubled-pairs/  \n",
    "\n",
    "Given an array of integers A with even length, return true if and only if it is possible to reorder it such that A[2 * i + 1] = 2 * A[2 * i] for every 0 <= i < len(A) / 2.  \n",
    "\n",
    "範例:  \n",
    "Ex1:  \n",
    "Input: A = [3,1,3,6]  \n",
    "Output: false  \n",
    "\n",
    "Ex2:  \n",
    "Input: A = [2,1,2,6]  \n",
    "Output: false  \n",
    "\n",
    "Ex3:  \n",
    "Input: A = [4,-2,2,-4]  \n",
    "Output: true  \n",
    "Explanation: We can take two groups, [-2,-4] and [2,4] to form [-2,-4,2,4] or [2,4,-2,-4].  \n",
    "\n",
    "Ex4:  \n",
    "Input: A = [1,2,4,16,8,4]  \n",
    "Output: false  "
   ]
  },
  {
   "cell_type": "markdown",
   "metadata": {},
   "source": [
    "* 解題想法:  \n",
    "由於題目要找出是否所有的數字都可以分成n與2n的組合，因此先將正數與負數分開來討論  \n",
    "正數的部分，只要有一個數字的2n不存在list中，就代表這個判斷是不成立，就可以結束迴圈了\n",
    "而負數的話邏輯也是相同，只是排序上剛好相反，是由最大排到最小"
   ]
  },
  {
   "cell_type": "code",
   "execution_count": null,
   "metadata": {},
   "outputs": [],
   "source": [
    "class Solution:\n",
    "    def canReorderDoubled(self, A: List[int]) -> bool:\n",
    "        is_order = True\n",
    "        temp_a = []\n",
    "        temp_b = []\n",
    "        for a in A:\n",
    "            if a < 0:\n",
    "                temp_b.append(a)\n",
    "            else:\n",
    "                temp_a.append(a)\n",
    "        temp_a.sort()\n",
    "        temp_b.sort(reverse = True)\n",
    "        if len(temp_a) > 0:\n",
    "            while is_order:\n",
    "                if temp_a[0] * 2 not in temp_a:\n",
    "                    is_order = False\n",
    "                    break\n",
    "                else:\n",
    "                    index = temp_a.index(temp_a[0]*2)\n",
    "                    temp_a.pop(index)\n",
    "                    temp_a.pop(0)\n",
    "                if len(temp_a) == 0:\n",
    "                    break\n",
    "        if len(temp_b) > 0:\n",
    "            while is_order:\n",
    "                if temp_b[0] * 2 not in temp_b:\n",
    "                    is_order = False\n",
    "                    break\n",
    "                else:\n",
    "                    index = temp_b.index(temp_b[0]*2)\n",
    "                    temp_b.pop(index)\n",
    "                    temp_b.pop(0)\n",
    "                if len(temp_b) == 0:\n",
    "                    break\n",
    "        return is_order"
   ]
  }
 ],
 "metadata": {
  "kernelspec": {
   "display_name": "Python 3",
   "language": "python",
   "name": "python3"
  },
  "language_info": {
   "codemirror_mode": {
    "name": "ipython",
    "version": 3
   },
   "file_extension": ".py",
   "mimetype": "text/x-python",
   "name": "python",
   "nbconvert_exporter": "python",
   "pygments_lexer": "ipython3",
   "version": "3.7.4"
  }
 },
 "nbformat": 4,
 "nbformat_minor": 2
}
