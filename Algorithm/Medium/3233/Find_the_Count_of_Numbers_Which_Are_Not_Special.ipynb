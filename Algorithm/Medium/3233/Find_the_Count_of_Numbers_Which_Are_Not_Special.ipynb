{
 "cells": [
  {
   "cell_type": "markdown",
   "id": "446dc2f8-8232-4be9-90d0-4e77c7064523",
   "metadata": {},
   "source": [
    "# 本題要找出共有多少個不符合條件的數字 (\\#Math )\n",
    "原題目連結: https://leetcode.com/problems/find-the-count-of-numbers-which-are-not-special/description/  \n",
    "\n",
    "You are given 2 positive integers l and r. For any number x, all positive divisors of x except x are called the proper divisors of x.  \n",
    "A number is called special if it has exactly 2 proper divisors. For example:  \n",
    "The number 4 is special because it has proper divisors 1 and 2.  \n",
    "The number 6 is not special because it has proper divisors 1, 2, and 3.  \n",
    "Return the count of numbers in the range [l, r] that are not special.  \n",
    "\n",
    "範例:  \n",
    "Ex1:  \n",
    "Input: l = 5, r = 7  \n",
    "Output: 3  \n",
    "Explanation:  \n",
    "There are no special numbers in the range [5, 7].  \n",
    "\n",
    "Ex2:  \n",
    "Input: l = 4, r = 16  \n",
    "Output: 11  \n",
    "Explanation:  \n",
    "The special numbers in the range [4, 16] are 4 and 9."
   ]
  },
  {
   "cell_type": "markdown",
   "id": "8a655632-ec20-4884-98f1-719d0f867c13",
   "metadata": {},
   "source": [
    "* 解題想法:  \n",
    "首先找出l與r之間的有那些數字是某樹的平方，接著找出這些數字的平方根，並檢查這些平方根有那些是質數，最後將總數減去這些質數就是答案"
   ]
  },
  {
   "cell_type": "code",
   "execution_count": null,
   "id": "cfa36cef-c32e-4a63-b3ba-f981b4522e92",
   "metadata": {},
   "outputs": [],
   "source": [
    "class Solution:\n",
    "    def nonSpecialCount(self, l: int, r: int) -> int:\n",
    "        res = r - l  + 1\n",
    "        ls = int(sqrt(l))\n",
    "        rs = int(sqrt(r))\n",
    "        for i in range(ls, rs + 1):\n",
    "            if i ** 2 >= l and i ** 2 <= r:\n",
    "                if i % 2 == 0 and i == 2:\n",
    "                    res -= 1\n",
    "                elif i % 2 != 0 and i != 1:\n",
    "                    is_valid = True\n",
    "                    for j in range(3, int(sqrt(i))+1):\n",
    "                        if i % j == 0:\n",
    "                            is_valid = False\n",
    "                            break\n",
    "                    if is_valid:\n",
    "                        res -= 1 \n",
    "        return res"
   ]
  }
 ],
 "metadata": {
  "kernelspec": {
   "display_name": "Python 3 (ipykernel)",
   "language": "python",
   "name": "python3"
  },
  "language_info": {
   "codemirror_mode": {
    "name": "ipython",
    "version": 3
   },
   "file_extension": ".py",
   "mimetype": "text/x-python",
   "name": "python",
   "nbconvert_exporter": "python",
   "pygments_lexer": "ipython3",
   "version": "3.9.13"
  }
 },
 "nbformat": 4,
 "nbformat_minor": 5
}
