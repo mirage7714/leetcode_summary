{
 "cells": [
  {
   "cell_type": "markdown",
   "id": "28f93791-c5ed-44ed-8581-aa536585b2b4",
   "metadata": {},
   "source": [
    "# 本題要找出長度為k的sublist最大總和為多少 (\\#Array, \\#HashMap, \\#SlidingWindow )\n",
    "原題目連結: https://leetcode.com/problems/maximum-sum-of-distinct-subarrays-with-length-k/  \n",
    "\n",
    "You are given an integer array nums and an integer k. Find the maximum subarray sum of all the subarrays of nums that meet the following conditions:  \n",
    "\n",
    "The length of the subarray is k, and  \n",
    "All the elements of the subarray are distinct.  \n",
    "Return the maximum subarray sum of all the subarrays that meet the conditions. If no subarray meets the conditions, return 0.  \n",
    "\n",
    "A subarray is a contiguous non-empty sequence of elements within an array.  \n",
    "\n",
    "範例:  \n",
    "Ex1:  \n",
    "Input: nums = [1,5,4,2,9,9,9], k = 3  \n",
    "Output: 15  \n",
    "Explanation: The subarrays of nums with length 3 are:  \n",
    "- [1,5,4] which meets the requirements and has a sum of 10.  \n",
    "- [5,4,2] which meets the requirements and has a sum of 11.  \n",
    "- [4,2,9] which meets the requirements and has a sum of 15.  \n",
    "- [2,9,9] which does not meet the requirements because the element 9 is repeated.  \n",
    "- [9,9,9] which does not meet the requirements because the element 9 is repeated.  \n",
    "We return 15 because it is the maximum subarray sum of all the subarrays that meet the conditions  \n",
    "\n",
    "Ex2:  \n",
    "Input: nums = [4,4,4], k = 3  \n",
    "Output: 0  \n",
    "Explanation: The subarrays of nums with length 3 are:  \n",
    "- [4,4,4] which does not meet the requirements because the element 4 is repeated.  \n",
    "We return 0 because no subarrays meet the conditions."
   ]
  },
  {
   "cell_type": "markdown",
   "id": "933db442-771c-4929-9e1c-da40875cea50",
   "metadata": {},
   "source": [
    "* 解題想法:  \n",
    "首先找出第一個長度為K的sublist，接著算出總和與中間包含的數值，接著用迴圈開始找出不重複且總和大於目前數值的sublist，最後回傳最大值就是答案"
   ]
  },
  {
   "cell_type": "code",
   "execution_count": null,
   "id": "4818f5a2-3b49-40ce-b4ec-f40b4192410b",
   "metadata": {},
   "outputs": [],
   "source": [
    "class Solution:\n",
    "    def maximumSubarraySum(self, nums: List[int], k: int) -> int:\n",
    "        res = 0\n",
    "        count = {}\n",
    "        t = 0\n",
    "        for i in nums[:k]:\n",
    "            t += i\n",
    "            if i not in count.keys():\n",
    "                count[i] = 1\n",
    "            else:\n",
    "                count[i] += 1\n",
    "        if len(count.keys()) == k:\n",
    "            res = t\n",
    "        for j in range(k, len(nums)):\n",
    "            if nums[j] not in count.keys():\n",
    "                count[nums[j]] = 1\n",
    "            else:\n",
    "                count[nums[j]] += 1\n",
    "            if count[nums[j-k]] == 1:\n",
    "                count.pop(nums[j-k])\n",
    "            else:\n",
    "                count[nums[j-k]] -= 1\n",
    "            t += nums[j]\n",
    "            t -= nums[j-k]\n",
    "            if len(count.keys()) == k:\n",
    "                res = max(t, res)\n",
    "        return res"
   ]
  }
 ],
 "metadata": {
  "kernelspec": {
   "display_name": "Python 3 (ipykernel)",
   "language": "python",
   "name": "python3"
  },
  "language_info": {
   "codemirror_mode": {
    "name": "ipython",
    "version": 3
   },
   "file_extension": ".py",
   "mimetype": "text/x-python",
   "name": "python",
   "nbconvert_exporter": "python",
   "pygments_lexer": "ipython3",
   "version": "3.9.13"
  }
 },
 "nbformat": 4,
 "nbformat_minor": 5
}
