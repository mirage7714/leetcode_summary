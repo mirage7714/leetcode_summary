{
 "cells": [
  {
   "cell_type": "markdown",
   "id": "401f3985-9f8a-472f-a69c-38cad2f88844",
   "metadata": {},
   "source": [
    "# 本題要找出最少需要移除多少元素才能達到平衡 (\\#Array, \\#HashMap )\n",
    "原題目連結: https://leetcode.com/problems/minimum-discards-to-balance-inventory/description/?page=28  \n",
    "\n",
    "You are given two integers w and m, and an integer array arrivals, where arrivals[i] is the type of item arriving on day i (days are 1-indexed).  \n",
    "Items are managed according to the following rules:  \n",
    "Each arrival may be kept or discarded; an item may only be discarded on its arrival day.  \n",
    "For each day i, consider the window of days [max(1, i - w + 1), i] (the w most recent days up to day i):  \n",
    "For any such window, each item type may appear at most m times among kept arrivals whose arrival day lies in that window.  \n",
    "If keeping the arrival on day i would cause its type to appear more than m times in the window, that arrival must be discarded.  \n",
    "Return the minimum number of arrivals to be discarded so that every w-day window contains at most m occurrences of each type.  \n",
    "\n",
    "範例:   \n",
    "Ex1:  \n",
    "Input: arrivals = [1,2,1,3,1], w = 4, m = 2  \n",
    "Output: 0  \n",
    "Explanation:  \n",
    "On day 1, Item 1 arrives; the window contains no more than m occurrences of this type, so we keep it.  \n",
    "On day 2, Item 2 arrives; the window of days 1 - 2 is fine.  \n",
    "On day 3, Item 1 arrives, window [1, 2, 1] has item 1 twice, within limit.  \n",
    "On day 4, Item 3 arrives, window [1, 2, 1, 3] has item 1 twice, allowed.  \n",
    "On day 5, Item 1 arrives, window [2, 1, 3, 1] has item 1 twice, still valid.  \n",
    "There are no discarded items, so return 0.  \n",
    "\n",
    "Ex2:  \n",
    "Input: arrivals = [1,2,3,3,3,4], w = 3, m = 2  \n",
    "Output: 1  \n",
    "Explanation:  \n",
    "On day 1, Item 1 arrives. We keep it.  \n",
    "On day 2, Item 2 arrives, window [1, 2] is fine.  \n",
    "On day 3, Item 3 arrives, window [1, 2, 3] has item 3 once.  \n",
    "On day 4, Item 3 arrives, window [2, 3, 3] has item 3 twice, allowed.  \n",
    "On day 5, Item 3 arrives, window [3, 3, 3] has item 3 three times, exceeds limit, so the arrival must be discarded.  \n",
    "On day 6, Item 4 arrives, window [3, 4] is fine.  \n",
    "Item 3 on day 5 is discarded, and this is the minimum number of arrivals to discard, so return 1."
   ]
  },
  {
   "cell_type": "markdown",
   "id": "590084ea-e0f7-4478-ae48-9d1cac2d6db5",
   "metadata": {},
   "source": [
    "* 解題想法:   \n",
    "建立一個dict來存放目前每個數字出現的次數，然後再用一個set來存放被丟棄的index，最後用一個變數來記錄丟棄的個數，接著用迴圈開始進行檢查，如果該數出現次數小於極限則更新目前出現的次數，如果超過極限則除了記錄丟棄的數值之外也需要紀錄被丟棄的index，最後回傳被丟棄的個數就是答案"
   ]
  },
  {
   "cell_type": "code",
   "execution_count": null,
   "id": "a280eb73-8e9a-4821-befc-4315acf0f21a",
   "metadata": {},
   "outputs": [],
   "source": [
    "class Solution:\n",
    "    def minArrivalsToDiscard(self, arrivals: List[int], w: int, m: int) -> int:\n",
    "        res = 0\n",
    "        removed = set()\n",
    "        count = {}\n",
    "        for i in range(len(arrivals)):\n",
    "            a = arrivals[i]\n",
    "            if a not in count.keys():\n",
    "                count[a] = 0\n",
    "            count[a] += 1\n",
    "            if i >= w and i - w not in removed:\n",
    "                o = arrivals[i-w]\n",
    "                count[o] -= 1\n",
    "                if count[o] == 0:\n",
    "                    count.pop(o)\n",
    "            if count[a] > m:\n",
    "                res += 1\n",
    "                removed.add(i)\n",
    "                count[a] -= 1\n",
    "        return res"
   ]
  }
 ],
 "metadata": {
  "kernelspec": {
   "display_name": "Python 3 (ipykernel)",
   "language": "python",
   "name": "python3"
  },
  "language_info": {
   "codemirror_mode": {
    "name": "ipython",
    "version": 3
   },
   "file_extension": ".py",
   "mimetype": "text/x-python",
   "name": "python",
   "nbconvert_exporter": "python",
   "pygments_lexer": "ipython3",
   "version": "3.12.5"
  }
 },
 "nbformat": 4,
 "nbformat_minor": 5
}
