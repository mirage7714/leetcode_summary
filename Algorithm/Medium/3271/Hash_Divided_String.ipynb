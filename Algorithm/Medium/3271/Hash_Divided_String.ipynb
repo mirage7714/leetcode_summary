{
 "cells": [
  {
   "cell_type": "markdown",
   "id": "8a4c29f3-3992-449d-b59e-1deff7c81a7c",
   "metadata": {},
   "source": [
    "# 本題要找出hash過的字串為何 (\\#String )\n",
    "原題目連結：https://leetcode.com/problems/hash-divided-string/description/  \n",
    "\n",
    "You are given a string s of length n and an integer k, where n is a multiple of k. Your task is to hash the string s into a new string called result, which has a length of n / k.  \n",
    "First, divide s into n / k substrings, each with a length of k. Then, initialize result as an empty string.  \n",
    "For each substring in order from the beginning:  \n",
    "The hash value of a character is the index of that character in the English alphabet (e.g., 'a' → 0, 'b' → 1, ..., 'z' → 25).  \n",
    "Calculate the sum of all the hash values of the characters in the substring.  \n",
    "Find the remainder of this sum when divided by 26, which is called hashedChar.  \n",
    "Identify the character in the English lowercase alphabet that corresponds to hashedChar.  \n",
    "Append that character to the end of result.  \n",
    "Return result.  \n",
    "\n",
    "範例：  \n",
    "Ex1:  \n",
    "Input: s = \"abcd\", k = 2  \n",
    "Output: \"bf\"  \n",
    "Explanation:  \n",
    "First substring: \"ab\", 0 + 1 = 1, 1 % 26 = 1, result[0] = 'b'.  \n",
    "Second substring: \"cd\", 2 + 3 = 5, 5 % 26 = 5, result[1] = 'f'.  \n",
    "\n",
    "Ex2:  \n",
    "Input: s = \"mxz\", k = 3  \n",
    "Output: \"i\"  \n",
    "Explanation:  \n",
    "The only substring: \"mxz\", 12 + 23 + 25 = 60, 60 % 26 = 8, result[0] = 'i'."
   ]
  },
  {
   "cell_type": "markdown",
   "id": "dd0d4280-479e-48f7-9d09-c66c732dc301",
   "metadata": {},
   "source": [
    "* 解題想法：  \n",
    "首先找出指定長度的字串除26之後的餘數為多少，接著找出該字母後加到結果上，最後回傳結果的字串就是答案"
   ]
  },
  {
   "cell_type": "code",
   "execution_count": null,
   "id": "f3626872-38c9-4148-bfa1-db22a25cd937",
   "metadata": {},
   "outputs": [],
   "source": [
    "class Solution:\n",
    "    def stringHash(self, s: str, k: int) -> str:\n",
    "        res = ''\n",
    "        base = ord('a')\n",
    "        for i in range(0, len(s), k):\n",
    "            t = 0\n",
    "            for j in range(k):\n",
    "                t += ord(s[i+j]) - base\n",
    "            res += chr(base + t % 26)\n",
    "        return res"
   ]
  }
 ],
 "metadata": {
  "kernelspec": {
   "display_name": "Python 3 (ipykernel)",
   "language": "python",
   "name": "python3"
  },
  "language_info": {
   "codemirror_mode": {
    "name": "ipython",
    "version": 3
   },
   "file_extension": ".py",
   "mimetype": "text/x-python",
   "name": "python",
   "nbconvert_exporter": "python",
   "pygments_lexer": "ipython3",
   "version": "3.10.9"
  }
 },
 "nbformat": 4,
 "nbformat_minor": 5
}
