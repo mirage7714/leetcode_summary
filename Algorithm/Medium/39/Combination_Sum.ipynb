{
 "cells": [
  {
   "cell_type": "markdown",
   "metadata": {},
   "source": [
    "# 本題要找出list中所有組合為target的sub list\n",
    "原題目連結: https://leetcode.com/problems/combination-sum/  \n",
    "\n",
    "Given an array of distinct integers candidates and a target integer target, return a list of all unique combinations of candidates where the chosen numbers sum to target. You may return the combinations in any order.  \n",
    "\n",
    "The same number may be chosen from candidates an unlimited number of times. Two combinations are unique if the frequency of at least one of the chosen numbers is different.  \n",
    "\n",
    "It is guaranteed that the number of unique combinations that sum up to target is less than 150 combinations for the given input.  \n",
    "\n",
    "範例:  \n",
    "Ex1:  \n",
    "Input: candidates = [2,3,6,7], target = 7  \n",
    "Output: [[2,2,3],[7]]  \n",
    "Explanation:  \n",
    "2 and 3 are candidates, and 2 + 2 + 3 = 7. Note that 2 can be used multiple times.  \n",
    "7 is a candidate, and 7 = 7.  \n",
    "These are the only two combinations.  \n",
    "\n",
    "Ex2:  \n",
    "Input: candidates = [2,3,5], target = 8  \n",
    "Output: [[2,2,2,2],[2,3,3],[3,5]]  \n",
    "\n",
    "Ex3:  \n",
    "Input: candidates = [2], target = 1  \n",
    "Output: []"
   ]
  },
  {
   "cell_type": "markdown",
   "metadata": {},
   "source": [
    "* 解題想法:  \n",
    "這題也是backtracking的經典題型，首先建立一個函數用來找出所有的組合:  \n",
    "當總和等於target時，將組合放入結果的list中，如果總和小於target時，則繼續往下一個index執行迴圈，直到總和大於target時則將最後的數值移除"
   ]
  },
  {
   "cell_type": "code",
   "execution_count": null,
   "metadata": {},
   "outputs": [],
   "source": [
    "class Solution:\n",
    "    def combinationSum(self, candidates: List[int], target: int) -> List[List[int]]:\n",
    "        def getCombination(candiates, ans, cur, target, total, index):\n",
    "            if target == total:\n",
    "                ans.append(cur[:])\n",
    "            elif total < target:\n",
    "                for i in range(index, len(candidates)):\n",
    "                    cur.append(candidates[i])\n",
    "                    getCombination(candidates, ans, cur, target, total + candidates[i], i)\n",
    "                    cur.pop()\n",
    "            return \n",
    "        result = []\n",
    "        cur = []\n",
    "        getCombination(candidates, result, cur, target, 0, 0)\n",
    "        return result"
   ]
  }
 ],
 "metadata": {
  "kernelspec": {
   "display_name": "Python 3",
   "language": "python",
   "name": "python3"
  },
  "language_info": {
   "codemirror_mode": {
    "name": "ipython",
    "version": 3
   },
   "file_extension": ".py",
   "mimetype": "text/x-python",
   "name": "python",
   "nbconvert_exporter": "python",
   "pygments_lexer": "ipython3",
   "version": "3.7.4"
  }
 },
 "nbformat": 4,
 "nbformat_minor": 4
}
