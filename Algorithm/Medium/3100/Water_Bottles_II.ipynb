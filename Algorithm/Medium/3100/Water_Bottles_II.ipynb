{
 "cells": [
  {
   "cell_type": "markdown",
   "id": "59012eef-31d5-44ef-933f-1349dff6a035",
   "metadata": {},
   "source": [
    "# 本題要找出最後共喝了幾瓶水 (\\#Math )\n",
    "原題目連結: https://leetcode.com/problems/water-bottles-ii/description/  \n",
    "\n",
    "You are given two integers numBottles and numExchange.  \n",
    "numBottles represents the number of full water bottles that you initially have. In one operation, you can perform one of the following operations:  \n",
    "Drink any number of full water bottles turning them into empty bottles.  \n",
    "Exchange numExchange empty bottles with one full water bottle. Then, increase numExchange by one.  \n",
    "Note that you cannot exchange multiple batches of empty bottles for the same value of numExchange. For example, if numBottles == 3 and numExchange == 1, you cannot exchange 3 empty water bottles for 3 full bottles.  \n",
    "\n",
    "Return the maximum number of water bottles you can drink.  \n",
    "\n",
    "範例:  \n",
    "Ex1:  \n",
    "Input: numBottles = 13, numExchange = 6  \n",
    "Output: 15  \n",
    "Explanation: The table above shows the number of full water bottles, empty water bottles, the value of numExchange, and the number of bottles drunk.  \n",
    "\n",
    "Ex2:  \n",
    "Input: numBottles = 10, numExchange = 3  \n",
    "Output: 13  \n",
    "Explanation: The table above shows the number of full water bottles, empty water bottles, the value of numExchange, and the number of bottles drunk."
   ]
  },
  {
   "cell_type": "markdown",
   "id": "3b53bacb-1ed3-4026-9b02-2a248a69d359",
   "metadata": {},
   "source": [
    "* 解題想法:  \n",
    "首先算出目前的空瓶數，並用While迴圈檢查空瓶數大於可兌換數量的情況下，最後可以喝到多少瓶水，將數字加總之後就是答案"
   ]
  },
  {
   "cell_type": "code",
   "execution_count": null,
   "id": "40918615-685b-44c9-8f4c-e25b09de925f",
   "metadata": {},
   "outputs": [],
   "source": [
    "class Solution:\n",
    "    def maxBottlesDrunk(self, numBottles: int, numExchange: int) -> int:\n",
    "        res = numBottles\n",
    "        while numBottles >= numExchange:\n",
    "            res += 1 \n",
    "            numBottles -= numExchange\n",
    "            numExchange += 1\n",
    "            numBottles += 1\n",
    "        return res"
   ]
  }
 ],
 "metadata": {
  "kernelspec": {
   "display_name": "Python 3 (ipykernel)",
   "language": "python",
   "name": "python3"
  },
  "language_info": {
   "codemirror_mode": {
    "name": "ipython",
    "version": 3
   },
   "file_extension": ".py",
   "mimetype": "text/x-python",
   "name": "python",
   "nbconvert_exporter": "python",
   "pygments_lexer": "ipython3",
   "version": "3.9.13"
  }
 },
 "nbformat": 4,
 "nbformat_minor": 5
}
